{
 "cells": [
  {
   "cell_type": "code",
   "execution_count": 3,
   "id": "a6ae671c",
   "metadata": {},
   "outputs": [
    {
     "data": {
      "text/html": [
       "        <script type=\"text/javascript\">\n",
       "        window.PlotlyConfig = {MathJaxConfig: 'local'};\n",
       "        if (window.MathJax && window.MathJax.Hub && window.MathJax.Hub.Config) {window.MathJax.Hub.Config({SVG: {font: \"STIX-Web\"}});}\n",
       "        if (typeof require !== 'undefined') {\n",
       "        require.undef(\"plotly\");\n",
       "        requirejs.config({\n",
       "            paths: {\n",
       "                'plotly': ['https://cdn.plot.ly/plotly-2.12.1.min']\n",
       "            }\n",
       "        });\n",
       "        require(['plotly'], function(Plotly) {\n",
       "            window._Plotly = Plotly;\n",
       "        });\n",
       "        }\n",
       "        </script>\n",
       "        "
      ]
     },
     "metadata": {},
     "output_type": "display_data"
    },
    {
     "data": {
      "text/html": [
       "        <script type=\"text/javascript\">\n",
       "        window.PlotlyConfig = {MathJaxConfig: 'local'};\n",
       "        if (window.MathJax && window.MathJax.Hub && window.MathJax.Hub.Config) {window.MathJax.Hub.Config({SVG: {font: \"STIX-Web\"}});}\n",
       "        if (typeof require !== 'undefined') {\n",
       "        require.undef(\"plotly\");\n",
       "        requirejs.config({\n",
       "            paths: {\n",
       "                'plotly': ['https://cdn.plot.ly/plotly-2.12.1.min']\n",
       "            }\n",
       "        });\n",
       "        require(['plotly'], function(Plotly) {\n",
       "            window._Plotly = Plotly;\n",
       "        });\n",
       "        }\n",
       "        </script>\n",
       "        "
      ]
     },
     "metadata": {},
     "output_type": "display_data"
    }
   ],
   "source": [
    "import pandas as pd\n",
    "import numpy as np\n",
    "import chart_studio.plotly as py\n",
    "import cufflinks as cf\n",
    "import seaborn as sns\n",
    "import plotly.express as px\n",
    "import plotly.graph_objects as go\n",
    "import collections\n",
    "from collections import OrderedDict\n",
    "%matplotlib inline\n",
    "from plotly.offline import download_plotlyjs, init_notebook_mode, plot, iplot\n",
    "init_notebook_mode(connected=True)\n",
    "cf.go_offline()"
   ]
  },
  {
   "cell_type": "code",
   "execution_count": 22,
   "id": "24d6c08e",
   "metadata": {},
   "outputs": [],
   "source": [
    "pd.set_option('display.max_columns', None)\n",
    "pd.set_option('display.max_rows', None)\n",
    "\n",
    "df_macro_fused_probempi = pd.read_csv(\"macro_fused_probempi_node1.csv\")\n",
    "df_macro_fused_nonprobempi = pd.read_csv(\"macro_fused_nonprobempi_node1.csv\")\n",
    "df_macro_newgeo_probempi = pd.read_csv(\"macro_newgeo_probempi_node1.csv\")\n",
    "df_macro_newgeo_nonprobempi = pd.read_csv(\"macro_newgeo_nonprobempi_node1.csv\")\n",
    "df_macro_nonfused_probempi = pd.read_csv(\"macro_nonfused_probempi_node1.csv\")\n",
    "df_macro_nonfused_nonprobempi = pd.read_csv(\"macro_nonfused_nonprobempi_node1.csv\")\n",
    "\n",
    "df_avx_fused_probmpi = pd.read_csv(\"avx_fused_probempi_node1.csv\")\n",
    "df_avx_fused_nonprobmpi = pd.read_csv(\"avx_fused_nonprobempi_node1.csv\")\n",
    "df_avx_newgeo_probempi = pd.read_csv(\"avx_newgeo_probempi_node1.csv\")\n",
    "df_avx_newgeo_nonprobempi = pd.read_csv(\"avx_newgeo_nonprobempi_node1.csv\")\n",
    "df_avx_nonfused_probempi = pd.read_csv(\"avx_nonfused_probempi_node1.csv\")\n",
    "df_avx_nonfused_nonprobempi = pd.read_csv(\"avx_nonfused_nonprobempi_node1.csv\")\n",
    "\n"
   ]
  },
  {
   "cell_type": "markdown",
   "id": "9e3906d0",
   "metadata": {},
   "source": [
    "## MACRO CASES"
   ]
  },
  {
   "cell_type": "markdown",
   "id": "86d52c3c",
   "metadata": {},
   "source": [
    "### 1. macro_fused_probempi  "
   ]
  },
  {
   "cell_type": "markdown",
   "id": "fc3ccdcf",
   "metadata": {},
   "source": [
    "### Adding Columns"
   ]
  },
  {
   "cell_type": "code",
   "execution_count": 88,
   "id": "5dacdf45",
   "metadata": {},
   "outputs": [],
   "source": [
    "df_macro_fused_probempi[\"N_Nodes\"] = 1\n",
    "df_macro_fused_probempi['NPX'] = (df_macro_fused_probempi.GLB_X//df_macro_fused_probempi.LOC_X)\n",
    "df_macro_fused_probempi['NPY'] = (df_macro_fused_probempi.GLB_Y//df_macro_fused_probempi.LOC_Y)\n",
    "df_macro_fused_probempi['NPZ'] = (df_macro_fused_probempi.GLB_Z//df_macro_fused_probempi.LOC_Z)\n",
    "df_macro_fused_probempi['NPT'] = (df_macro_fused_probempi.GLB_T//df_macro_fused_probempi.LOC_T)\n",
    "df_macro_fused_probempi[\"Total_proc\"] = df_macro_fused_probempi[\"omp_thrd\"]* df_macro_fused_probempi.MPI_size\n",
    "# df_macro_fused_probempi.columns"
   ]
  },
  {
   "cell_type": "code",
   "execution_count": 28,
   "id": "7579d555",
   "metadata": {},
   "outputs": [],
   "source": [
    "# df_macro_fused_probempi"
   ]
  },
  {
   "cell_type": "code",
   "execution_count": 26,
   "id": "3172223d",
   "metadata": {},
   "outputs": [
    {
     "data": {
      "text/html": [
       "<div>\n",
       "<style scoped>\n",
       "    .dataframe tbody tr th:only-of-type {\n",
       "        vertical-align: middle;\n",
       "    }\n",
       "\n",
       "    .dataframe tbody tr th {\n",
       "        vertical-align: top;\n",
       "    }\n",
       "\n",
       "    .dataframe thead th {\n",
       "        text-align: right;\n",
       "    }\n",
       "</style>\n",
       "<table border=\"1\" class=\"dataframe\">\n",
       "  <thead>\n",
       "    <tr style=\"text-align: right;\">\n",
       "      <th></th>\n",
       "      <th>MPI_size</th>\n",
       "      <th>omp_thrd</th>\n",
       "      <th>NPT</th>\n",
       "      <th>NPX</th>\n",
       "      <th>NPY</th>\n",
       "      <th>NPZ</th>\n",
       "      <th>Total_proc</th>\n",
       "      <th>size</th>\n",
       "    </tr>\n",
       "  </thead>\n",
       "  <tbody>\n",
       "    <tr>\n",
       "      <th>0</th>\n",
       "      <td>8</td>\n",
       "      <td>4</td>\n",
       "      <td>1</td>\n",
       "      <td>2</td>\n",
       "      <td>2</td>\n",
       "      <td>2</td>\n",
       "      <td>32</td>\n",
       "      <td>15</td>\n",
       "    </tr>\n",
       "    <tr>\n",
       "      <th>1</th>\n",
       "      <td>16</td>\n",
       "      <td>2</td>\n",
       "      <td>2</td>\n",
       "      <td>2</td>\n",
       "      <td>2</td>\n",
       "      <td>2</td>\n",
       "      <td>32</td>\n",
       "      <td>13</td>\n",
       "    </tr>\n",
       "    <tr>\n",
       "      <th>2</th>\n",
       "      <td>32</td>\n",
       "      <td>1</td>\n",
       "      <td>4</td>\n",
       "      <td>2</td>\n",
       "      <td>2</td>\n",
       "      <td>2</td>\n",
       "      <td>32</td>\n",
       "      <td>5</td>\n",
       "    </tr>\n",
       "  </tbody>\n",
       "</table>\n",
       "</div>"
      ],
      "text/plain": [
       "   MPI_size  omp_thrd  NPT  NPX  NPY  NPZ  Total_proc  size\n",
       "0         8         4    1    2    2    2          32    15\n",
       "1        16         2    2    2    2    2          32    13\n",
       "2        32         1    4    2    2    2          32     5"
      ]
     },
     "execution_count": 26,
     "metadata": {},
     "output_type": "execute_result"
    }
   ],
   "source": [
    "df_macro_fused_probempi_summary = df_macro_fused_probempi.groupby(['MPI_size','omp_thrd','NPT','NPX', 'NPY', 'NPZ',\"Total_proc\"]).size().reset_index(name = 'size')\n",
    "df_macro_fused_probempi_summary"
   ]
  },
  {
   "cell_type": "markdown",
   "id": "e60ac7a7",
   "metadata": {},
   "source": []
  },
  {
   "cell_type": "code",
   "execution_count": 56,
   "id": "bf4f8a0a",
   "metadata": {},
   "outputs": [],
   "source": [
    "dfMacFusProb_8mpi_4omp = df_macro_fused_probempi[(df_macro_fused_probempi.omp_thrd == 4) & (df_macro_fused_probempi.GLB_T/df_macro_fused_probempi.LOC_T == 1) & (df_macro_fused_probempi.GLB_X/df_macro_fused_probempi.LOC_X == 2) & (df_macro_fused_probempi.GLB_Y/df_macro_fused_probempi.LOC_Y == 2)& (df_macro_fused_probempi.GLB_Z/df_macro_fused_probempi.LOC_Z == 2)]\n",
    "dfMacFusProb_16mpi_2omp = df_macro_fused_probempi[(df_macro_fused_probempi.omp_thrd == 2) & (df_macro_fused_probempi.GLB_T/df_macro_fused_probempi.LOC_T == 2) & (df_macro_fused_probempi.GLB_X/df_macro_fused_probempi.LOC_X == 2) & (df_macro_fused_probempi.GLB_Y/df_macro_fused_probempi.LOC_Y == 2)& (df_macro_fused_probempi.GLB_Z/df_macro_fused_probempi.LOC_Z == 2)]\n",
    "dfMacFusProb_32mpi_1omp = df_macro_fused_probempi[(df_macro_fused_probempi.omp_thrd == 1) & (df_macro_fused_probempi.GLB_T/df_macro_fused_probempi.LOC_T == 4) & (df_macro_fused_probempi.GLB_X/df_macro_fused_probempi.LOC_X == 2) & (df_macro_fused_probempi.GLB_Y/df_macro_fused_probempi.LOC_Y == 2)& (df_macro_fused_probempi.GLB_Z/df_macro_fused_probempi.LOC_Z == 2)]\n"
   ]
  },
  {
   "cell_type": "code",
   "execution_count": null,
   "id": "c7f430f5",
   "metadata": {},
   "outputs": [],
   "source": []
  },
  {
   "cell_type": "markdown",
   "id": "699befda",
   "metadata": {},
   "source": [
    "### 2. macro_fused_nonprobempi  "
   ]
  },
  {
   "cell_type": "code",
   "execution_count": 89,
   "id": "3ff02029",
   "metadata": {},
   "outputs": [],
   "source": [
    "df_macro_fused_nonprobempi[\"N_Nodes\"] = 1\n",
    "df_macro_fused_nonprobempi['NPX'] = (df_macro_fused_nonprobempi.GLB_X//df_macro_fused_nonprobempi.LOC_X)\n",
    "df_macro_fused_nonprobempi['NPY'] = (df_macro_fused_nonprobempi.GLB_Y//df_macro_fused_nonprobempi.LOC_Y)\n",
    "df_macro_fused_nonprobempi['NPZ'] = (df_macro_fused_nonprobempi.GLB_Z//df_macro_fused_nonprobempi.LOC_Z)\n",
    "df_macro_fused_nonprobempi['NPT'] = (df_macro_fused_nonprobempi.GLB_T//df_macro_fused_nonprobempi.LOC_T)\n",
    "df_macro_fused_nonprobempi[\"Total_proc\"] = df_macro_fused_nonprobempi[\"omp_thrd\"]* df_macro_fused_nonprobempi.MPI_size\n",
    "# df_macro_fused_nonprobempi.columns"
   ]
  },
  {
   "cell_type": "code",
   "execution_count": 32,
   "id": "eb05ab77",
   "metadata": {},
   "outputs": [
    {
     "data": {
      "text/html": [
       "<div>\n",
       "<style scoped>\n",
       "    .dataframe tbody tr th:only-of-type {\n",
       "        vertical-align: middle;\n",
       "    }\n",
       "\n",
       "    .dataframe tbody tr th {\n",
       "        vertical-align: top;\n",
       "    }\n",
       "\n",
       "    .dataframe thead th {\n",
       "        text-align: right;\n",
       "    }\n",
       "</style>\n",
       "<table border=\"1\" class=\"dataframe\">\n",
       "  <thead>\n",
       "    <tr style=\"text-align: right;\">\n",
       "      <th></th>\n",
       "      <th>MPI_size</th>\n",
       "      <th>omp_thrd</th>\n",
       "      <th>NPT</th>\n",
       "      <th>NPX</th>\n",
       "      <th>NPY</th>\n",
       "      <th>NPZ</th>\n",
       "      <th>Total_proc</th>\n",
       "      <th>size</th>\n",
       "    </tr>\n",
       "  </thead>\n",
       "  <tbody>\n",
       "    <tr>\n",
       "      <th>0</th>\n",
       "      <td>8</td>\n",
       "      <td>4</td>\n",
       "      <td>1</td>\n",
       "      <td>2</td>\n",
       "      <td>2</td>\n",
       "      <td>2</td>\n",
       "      <td>32</td>\n",
       "      <td>15</td>\n",
       "    </tr>\n",
       "    <tr>\n",
       "      <th>1</th>\n",
       "      <td>16</td>\n",
       "      <td>2</td>\n",
       "      <td>2</td>\n",
       "      <td>2</td>\n",
       "      <td>2</td>\n",
       "      <td>2</td>\n",
       "      <td>32</td>\n",
       "      <td>13</td>\n",
       "    </tr>\n",
       "    <tr>\n",
       "      <th>2</th>\n",
       "      <td>32</td>\n",
       "      <td>1</td>\n",
       "      <td>4</td>\n",
       "      <td>2</td>\n",
       "      <td>2</td>\n",
       "      <td>2</td>\n",
       "      <td>32</td>\n",
       "      <td>5</td>\n",
       "    </tr>\n",
       "  </tbody>\n",
       "</table>\n",
       "</div>"
      ],
      "text/plain": [
       "   MPI_size  omp_thrd  NPT  NPX  NPY  NPZ  Total_proc  size\n",
       "0         8         4    1    2    2    2          32    15\n",
       "1        16         2    2    2    2    2          32    13\n",
       "2        32         1    4    2    2    2          32     5"
      ]
     },
     "execution_count": 32,
     "metadata": {},
     "output_type": "execute_result"
    }
   ],
   "source": [
    "df_macro_fused_nonprobempi_summary =df_macro_fused_nonprobempi.groupby(['MPI_size','omp_thrd','NPT','NPX', 'NPY', 'NPZ',\"Total_proc\"]).size().reset_index(name = 'size')\n",
    "df_macro_fused_nonprobempi_summary"
   ]
  },
  {
   "cell_type": "code",
   "execution_count": 74,
   "id": "d1fb9580",
   "metadata": {},
   "outputs": [],
   "source": [
    "dfMacFusNonProb_8mpi_4omp = df_macro_fused_nonprobempi[(df_macro_fused_nonprobempi.omp_thrd == 4) & (df_macro_fused_nonprobempi.GLB_T/df_macro_fused_nonprobempi.LOC_T == 1) & (df_macro_fused_nonprobempi.GLB_X/df_macro_fused_nonprobempi.LOC_X == 2) & (df_macro_fused_nonprobempi.GLB_Y/df_macro_fused_nonprobempi.LOC_Y == 2)& (df_macro_fused_nonprobempi.GLB_Z/df_macro_fused_nonprobempi.LOC_Z == 2)]\n",
    "dfMacFusNonProb_16mpi_2omp = df_macro_fused_nonprobempi[(df_macro_fused_nonprobempi.omp_thrd == 2) & (df_macro_fused_nonprobempi.GLB_T/df_macro_fused_nonprobempi.LOC_T == 2) & (df_macro_fused_nonprobempi.GLB_X/df_macro_fused_nonprobempi.LOC_X == 2) & (df_macro_fused_nonprobempi.GLB_Y/df_macro_fused_nonprobempi.LOC_Y == 2)& (df_macro_fused_nonprobempi.GLB_Z/df_macro_fused_nonprobempi.LOC_Z == 2)]\n",
    "dfMacFusnonProb_32mpi_1omp = df_macro_fused_nonprobempi[(df_macro_fused_nonprobempi.omp_thrd == 1) & (df_macro_fused_nonprobempi.GLB_T/df_macro_fused_nonprobempi.LOC_T == 4) & (df_macro_fused_nonprobempi.GLB_X/df_macro_fused_nonprobempi.LOC_X == 2) & (df_macro_fused_nonprobempi.GLB_Y/df_macro_fused_nonprobempi.LOC_Y == 2)& (df_macro_fused_nonprobempi.GLB_Z/df_macro_fused_nonprobempi.LOC_Z == 2)]\n"
   ]
  },
  {
   "cell_type": "markdown",
   "id": "b58f6ab5",
   "metadata": {},
   "source": [
    "## FLOTS - macro fused: probempi vs nonprobempi"
   ]
  },
  {
   "cell_type": "code",
   "execution_count": 103,
   "id": "572ccd95",
   "metadata": {},
   "outputs": [
    {
     "data": {
      "application/vnd.plotly.v1+json": {
       "config": {
        "plotlyServerURL": "https://plot.ly"
       },
       "data": [
        {
         "line": {
          "color": "magenta",
          "width": 3
         },
         "marker": {
          "line": {
           "color": "yellow",
           "width": 1
          },
          "size": 9,
          "symbol": "hexagon"
         },
         "mode": "lines+markers",
         "name": "MacFusNonProb_8mpi_4omp",
         "type": "scatter",
         "x": [
          75497472,
          50331648,
          100663296,
          125829120,
          150994944,
          176160768,
          201326592,
          226492416,
          251658240,
          276824064,
          301989888,
          327155712,
          352321536,
          377487360,
          402653184
         ],
         "y": [
          85.1352,
          85.88,
          85.56,
          85.8784,
          83.5096,
          79.08488,
          70.92392,
          63.15744,
          56.32,
          53.07648,
          49.21656,
          47.2224,
          45.26888,
          44.19592,
          43.25872
         ]
        },
        {
         "line": {
          "color": "darkcyan",
          "width": 3
         },
         "marker": {
          "line": {
           "color": "yellow",
           "width": 1
          },
          "size": 9,
          "symbol": "hexagon"
         },
         "mode": "lines+markers",
         "name": "MacFusProb_8mpi_4omp",
         "type": "scatter",
         "x": [
          50331648,
          75497472,
          100663296,
          125829120,
          150994944,
          176160768,
          201326592,
          226492416,
          251658240,
          276824064,
          301989888,
          327155712,
          352321536,
          377487360,
          402653184
         ],
         "y": [
          71.33728,
          70.6148,
          73.128,
          72.58544,
          71.15728,
          68.09792,
          62.61744,
          56.32648,
          50.63792,
          47.01936,
          44.4404,
          44.13912,
          42.89032,
          42.55168,
          41.67488
         ]
        },
        {
         "line": {
          "color": "sandybrown",
          "width": 3
         },
         "marker": {
          "line": {
           "color": "MediumPurple",
           "width": 2
          },
          "size": 5,
          "symbol": "diamond"
         },
         "mode": "lines+markers",
         "name": "MacFusNonProb_16mpi_2omp",
         "type": "scatter",
         "x": [
          100663296,
          125829120,
          150994944,
          176160768,
          201326592,
          226492416,
          251658240,
          276824064,
          301989888,
          327155712,
          352321536,
          377487360,
          402653184
         ],
         "y": [
          86.38432,
          86.4584,
          78.06032,
          72.07024,
          64.77344,
          61.65568,
          58.74576,
          53.21232,
          50.59296,
          52.83984,
          50.1192,
          47.62656,
          49.77264
         ]
        },
        {
         "line": {
          "color": "royalblue",
          "width": 3
         },
         "marker": {
          "line": {
           "color": "MediumPurple",
           "width": 2
          },
          "size": 5,
          "symbol": "diamond"
         },
         "mode": "lines+markers",
         "name": "MacFusProb_16mpi_2omp",
         "type": "scatter",
         "x": [
          100663296,
          125829120,
          150994944,
          176160768,
          201326592,
          226492416,
          251658240,
          276824064,
          301989888,
          327155712,
          352321536,
          377487360,
          402653184
         ],
         "y": [
          81.85504,
          74.44432,
          72.6056,
          64.6656,
          63.84624,
          56.47552,
          55.24464,
          52.93152,
          49.552,
          47.71632,
          49.54192,
          47.62912,
          47.492
         ]
        },
        {
         "line": {
          "color": "cyan",
          "width": 3
         },
         "marker": {
          "line": {
           "color": "Purple",
           "width": 2
          },
          "size": 7,
          "symbol": "circle"
         },
         "mode": "lines+markers",
         "name": "MacFusnonProb_32mpi_1omp",
         "type": "scatter",
         "x": [
          201326592,
          251658240,
          301989888,
          352321536,
          402653184
         ],
         "y": [
          58.54912,
          51.9696,
          49.54624,
          48.01312,
          47.05568
         ]
        },
        {
         "line": {
          "color": "darkblue",
          "width": 3
         },
         "marker": {
          "line": {
           "color": "tomato",
           "width": 2
          },
          "size": 7,
          "symbol": "circle"
         },
         "mode": "lines+markers",
         "name": "MacFusProb_32mpi_1omp",
         "type": "scatter",
         "x": [
          201326592,
          251658240,
          301989888,
          352321536,
          402653184
         ],
         "y": [
          55.82176,
          49.91872,
          48.23136,
          46.4512,
          45.936
         ]
        }
       ],
       "layout": {
        "annotations": [
         {
          "align": "left",
          "arrowcolor": "#636363",
          "arrowhead": 1,
          "arrowsize": 1,
          "arrowwidth": 2,
          "ax": -20,
          "ay": -30,
          "font": {
           "color": "purple",
           "family": "Sans Serif",
           "size": 12
          },
          "showarrow": false,
          "text": "LLC Size Per Node",
          "x": "80e6",
          "y": 130,
          "yanchor": "bottom"
         }
        ],
        "shapes": [
         {
          "line": {
           "color": "green",
           "dash": "dash",
           "width": 3
          },
          "type": "line",
          "x0": 80000000,
          "x1": 80000000,
          "xref": "x",
          "y0": 0,
          "y1": 1,
          "yref": "y domain"
         }
        ],
        "template": {
         "data": {
          "bar": [
           {
            "error_x": {
             "color": "#2a3f5f"
            },
            "error_y": {
             "color": "#2a3f5f"
            },
            "marker": {
             "line": {
              "color": "#E5ECF6",
              "width": 0.5
             },
             "pattern": {
              "fillmode": "overlay",
              "size": 10,
              "solidity": 0.2
             }
            },
            "type": "bar"
           }
          ],
          "barpolar": [
           {
            "marker": {
             "line": {
              "color": "#E5ECF6",
              "width": 0.5
             },
             "pattern": {
              "fillmode": "overlay",
              "size": 10,
              "solidity": 0.2
             }
            },
            "type": "barpolar"
           }
          ],
          "carpet": [
           {
            "aaxis": {
             "endlinecolor": "#2a3f5f",
             "gridcolor": "white",
             "linecolor": "white",
             "minorgridcolor": "white",
             "startlinecolor": "#2a3f5f"
            },
            "baxis": {
             "endlinecolor": "#2a3f5f",
             "gridcolor": "white",
             "linecolor": "white",
             "minorgridcolor": "white",
             "startlinecolor": "#2a3f5f"
            },
            "type": "carpet"
           }
          ],
          "choropleth": [
           {
            "colorbar": {
             "outlinewidth": 0,
             "ticks": ""
            },
            "type": "choropleth"
           }
          ],
          "contour": [
           {
            "colorbar": {
             "outlinewidth": 0,
             "ticks": ""
            },
            "colorscale": [
             [
              0,
              "#0d0887"
             ],
             [
              0.1111111111111111,
              "#46039f"
             ],
             [
              0.2222222222222222,
              "#7201a8"
             ],
             [
              0.3333333333333333,
              "#9c179e"
             ],
             [
              0.4444444444444444,
              "#bd3786"
             ],
             [
              0.5555555555555556,
              "#d8576b"
             ],
             [
              0.6666666666666666,
              "#ed7953"
             ],
             [
              0.7777777777777778,
              "#fb9f3a"
             ],
             [
              0.8888888888888888,
              "#fdca26"
             ],
             [
              1,
              "#f0f921"
             ]
            ],
            "type": "contour"
           }
          ],
          "contourcarpet": [
           {
            "colorbar": {
             "outlinewidth": 0,
             "ticks": ""
            },
            "type": "contourcarpet"
           }
          ],
          "heatmap": [
           {
            "colorbar": {
             "outlinewidth": 0,
             "ticks": ""
            },
            "colorscale": [
             [
              0,
              "#0d0887"
             ],
             [
              0.1111111111111111,
              "#46039f"
             ],
             [
              0.2222222222222222,
              "#7201a8"
             ],
             [
              0.3333333333333333,
              "#9c179e"
             ],
             [
              0.4444444444444444,
              "#bd3786"
             ],
             [
              0.5555555555555556,
              "#d8576b"
             ],
             [
              0.6666666666666666,
              "#ed7953"
             ],
             [
              0.7777777777777778,
              "#fb9f3a"
             ],
             [
              0.8888888888888888,
              "#fdca26"
             ],
             [
              1,
              "#f0f921"
             ]
            ],
            "type": "heatmap"
           }
          ],
          "heatmapgl": [
           {
            "colorbar": {
             "outlinewidth": 0,
             "ticks": ""
            },
            "colorscale": [
             [
              0,
              "#0d0887"
             ],
             [
              0.1111111111111111,
              "#46039f"
             ],
             [
              0.2222222222222222,
              "#7201a8"
             ],
             [
              0.3333333333333333,
              "#9c179e"
             ],
             [
              0.4444444444444444,
              "#bd3786"
             ],
             [
              0.5555555555555556,
              "#d8576b"
             ],
             [
              0.6666666666666666,
              "#ed7953"
             ],
             [
              0.7777777777777778,
              "#fb9f3a"
             ],
             [
              0.8888888888888888,
              "#fdca26"
             ],
             [
              1,
              "#f0f921"
             ]
            ],
            "type": "heatmapgl"
           }
          ],
          "histogram": [
           {
            "marker": {
             "pattern": {
              "fillmode": "overlay",
              "size": 10,
              "solidity": 0.2
             }
            },
            "type": "histogram"
           }
          ],
          "histogram2d": [
           {
            "colorbar": {
             "outlinewidth": 0,
             "ticks": ""
            },
            "colorscale": [
             [
              0,
              "#0d0887"
             ],
             [
              0.1111111111111111,
              "#46039f"
             ],
             [
              0.2222222222222222,
              "#7201a8"
             ],
             [
              0.3333333333333333,
              "#9c179e"
             ],
             [
              0.4444444444444444,
              "#bd3786"
             ],
             [
              0.5555555555555556,
              "#d8576b"
             ],
             [
              0.6666666666666666,
              "#ed7953"
             ],
             [
              0.7777777777777778,
              "#fb9f3a"
             ],
             [
              0.8888888888888888,
              "#fdca26"
             ],
             [
              1,
              "#f0f921"
             ]
            ],
            "type": "histogram2d"
           }
          ],
          "histogram2dcontour": [
           {
            "colorbar": {
             "outlinewidth": 0,
             "ticks": ""
            },
            "colorscale": [
             [
              0,
              "#0d0887"
             ],
             [
              0.1111111111111111,
              "#46039f"
             ],
             [
              0.2222222222222222,
              "#7201a8"
             ],
             [
              0.3333333333333333,
              "#9c179e"
             ],
             [
              0.4444444444444444,
              "#bd3786"
             ],
             [
              0.5555555555555556,
              "#d8576b"
             ],
             [
              0.6666666666666666,
              "#ed7953"
             ],
             [
              0.7777777777777778,
              "#fb9f3a"
             ],
             [
              0.8888888888888888,
              "#fdca26"
             ],
             [
              1,
              "#f0f921"
             ]
            ],
            "type": "histogram2dcontour"
           }
          ],
          "mesh3d": [
           {
            "colorbar": {
             "outlinewidth": 0,
             "ticks": ""
            },
            "type": "mesh3d"
           }
          ],
          "parcoords": [
           {
            "line": {
             "colorbar": {
              "outlinewidth": 0,
              "ticks": ""
             }
            },
            "type": "parcoords"
           }
          ],
          "pie": [
           {
            "automargin": true,
            "type": "pie"
           }
          ],
          "scatter": [
           {
            "fillpattern": {
             "fillmode": "overlay",
             "size": 10,
             "solidity": 0.2
            },
            "type": "scatter"
           }
          ],
          "scatter3d": [
           {
            "line": {
             "colorbar": {
              "outlinewidth": 0,
              "ticks": ""
             }
            },
            "marker": {
             "colorbar": {
              "outlinewidth": 0,
              "ticks": ""
             }
            },
            "type": "scatter3d"
           }
          ],
          "scattercarpet": [
           {
            "marker": {
             "colorbar": {
              "outlinewidth": 0,
              "ticks": ""
             }
            },
            "type": "scattercarpet"
           }
          ],
          "scattergeo": [
           {
            "marker": {
             "colorbar": {
              "outlinewidth": 0,
              "ticks": ""
             }
            },
            "type": "scattergeo"
           }
          ],
          "scattergl": [
           {
            "marker": {
             "colorbar": {
              "outlinewidth": 0,
              "ticks": ""
             }
            },
            "type": "scattergl"
           }
          ],
          "scattermapbox": [
           {
            "marker": {
             "colorbar": {
              "outlinewidth": 0,
              "ticks": ""
             }
            },
            "type": "scattermapbox"
           }
          ],
          "scatterpolar": [
           {
            "marker": {
             "colorbar": {
              "outlinewidth": 0,
              "ticks": ""
             }
            },
            "type": "scatterpolar"
           }
          ],
          "scatterpolargl": [
           {
            "marker": {
             "colorbar": {
              "outlinewidth": 0,
              "ticks": ""
             }
            },
            "type": "scatterpolargl"
           }
          ],
          "scatterternary": [
           {
            "marker": {
             "colorbar": {
              "outlinewidth": 0,
              "ticks": ""
             }
            },
            "type": "scatterternary"
           }
          ],
          "surface": [
           {
            "colorbar": {
             "outlinewidth": 0,
             "ticks": ""
            },
            "colorscale": [
             [
              0,
              "#0d0887"
             ],
             [
              0.1111111111111111,
              "#46039f"
             ],
             [
              0.2222222222222222,
              "#7201a8"
             ],
             [
              0.3333333333333333,
              "#9c179e"
             ],
             [
              0.4444444444444444,
              "#bd3786"
             ],
             [
              0.5555555555555556,
              "#d8576b"
             ],
             [
              0.6666666666666666,
              "#ed7953"
             ],
             [
              0.7777777777777778,
              "#fb9f3a"
             ],
             [
              0.8888888888888888,
              "#fdca26"
             ],
             [
              1,
              "#f0f921"
             ]
            ],
            "type": "surface"
           }
          ],
          "table": [
           {
            "cells": {
             "fill": {
              "color": "#EBF0F8"
             },
             "line": {
              "color": "white"
             }
            },
            "header": {
             "fill": {
              "color": "#C8D4E3"
             },
             "line": {
              "color": "white"
             }
            },
            "type": "table"
           }
          ]
         },
         "layout": {
          "annotationdefaults": {
           "arrowcolor": "#2a3f5f",
           "arrowhead": 0,
           "arrowwidth": 1
          },
          "autotypenumbers": "strict",
          "coloraxis": {
           "colorbar": {
            "outlinewidth": 0,
            "ticks": ""
           }
          },
          "colorscale": {
           "diverging": [
            [
             0,
             "#8e0152"
            ],
            [
             0.1,
             "#c51b7d"
            ],
            [
             0.2,
             "#de77ae"
            ],
            [
             0.3,
             "#f1b6da"
            ],
            [
             0.4,
             "#fde0ef"
            ],
            [
             0.5,
             "#f7f7f7"
            ],
            [
             0.6,
             "#e6f5d0"
            ],
            [
             0.7,
             "#b8e186"
            ],
            [
             0.8,
             "#7fbc41"
            ],
            [
             0.9,
             "#4d9221"
            ],
            [
             1,
             "#276419"
            ]
           ],
           "sequential": [
            [
             0,
             "#0d0887"
            ],
            [
             0.1111111111111111,
             "#46039f"
            ],
            [
             0.2222222222222222,
             "#7201a8"
            ],
            [
             0.3333333333333333,
             "#9c179e"
            ],
            [
             0.4444444444444444,
             "#bd3786"
            ],
            [
             0.5555555555555556,
             "#d8576b"
            ],
            [
             0.6666666666666666,
             "#ed7953"
            ],
            [
             0.7777777777777778,
             "#fb9f3a"
            ],
            [
             0.8888888888888888,
             "#fdca26"
            ],
            [
             1,
             "#f0f921"
            ]
           ],
           "sequentialminus": [
            [
             0,
             "#0d0887"
            ],
            [
             0.1111111111111111,
             "#46039f"
            ],
            [
             0.2222222222222222,
             "#7201a8"
            ],
            [
             0.3333333333333333,
             "#9c179e"
            ],
            [
             0.4444444444444444,
             "#bd3786"
            ],
            [
             0.5555555555555556,
             "#d8576b"
            ],
            [
             0.6666666666666666,
             "#ed7953"
            ],
            [
             0.7777777777777778,
             "#fb9f3a"
            ],
            [
             0.8888888888888888,
             "#fdca26"
            ],
            [
             1,
             "#f0f921"
            ]
           ]
          },
          "colorway": [
           "#636efa",
           "#EF553B",
           "#00cc96",
           "#ab63fa",
           "#FFA15A",
           "#19d3f3",
           "#FF6692",
           "#B6E880",
           "#FF97FF",
           "#FECB52"
          ],
          "font": {
           "color": "#2a3f5f"
          },
          "geo": {
           "bgcolor": "white",
           "lakecolor": "white",
           "landcolor": "#E5ECF6",
           "showlakes": true,
           "showland": true,
           "subunitcolor": "white"
          },
          "hoverlabel": {
           "align": "left"
          },
          "hovermode": "closest",
          "mapbox": {
           "style": "light"
          },
          "paper_bgcolor": "white",
          "plot_bgcolor": "#E5ECF6",
          "polar": {
           "angularaxis": {
            "gridcolor": "white",
            "linecolor": "white",
            "ticks": ""
           },
           "bgcolor": "#E5ECF6",
           "radialaxis": {
            "gridcolor": "white",
            "linecolor": "white",
            "ticks": ""
           }
          },
          "scene": {
           "xaxis": {
            "backgroundcolor": "#E5ECF6",
            "gridcolor": "white",
            "gridwidth": 2,
            "linecolor": "white",
            "showbackground": true,
            "ticks": "",
            "zerolinecolor": "white"
           },
           "yaxis": {
            "backgroundcolor": "#E5ECF6",
            "gridcolor": "white",
            "gridwidth": 2,
            "linecolor": "white",
            "showbackground": true,
            "ticks": "",
            "zerolinecolor": "white"
           },
           "zaxis": {
            "backgroundcolor": "#E5ECF6",
            "gridcolor": "white",
            "gridwidth": 2,
            "linecolor": "white",
            "showbackground": true,
            "ticks": "",
            "zerolinecolor": "white"
           }
          },
          "shapedefaults": {
           "line": {
            "color": "#2a3f5f"
           }
          },
          "ternary": {
           "aaxis": {
            "gridcolor": "white",
            "linecolor": "white",
            "ticks": ""
           },
           "baxis": {
            "gridcolor": "white",
            "linecolor": "white",
            "ticks": ""
           },
           "bgcolor": "#E5ECF6",
           "caxis": {
            "gridcolor": "white",
            "linecolor": "white",
            "ticks": ""
           }
          },
          "title": {
           "x": 0.05
          },
          "xaxis": {
           "automargin": true,
           "gridcolor": "white",
           "linecolor": "white",
           "ticks": "",
           "title": {
            "standoff": 15
           },
           "zerolinecolor": "white",
           "zerolinewidth": 2
          },
          "yaxis": {
           "automargin": true,
           "gridcolor": "white",
           "linecolor": "white",
           "ticks": "",
           "title": {
            "standoff": 15
           },
           "zerolinecolor": "white",
           "zerolinewidth": 2
          }
         }
        },
        "title": {
         "text": "\"Macro Fused: probempi vs nonprobempi\" GFlops Measurement"
        },
        "xaxis": {
         "ticks": "outside",
         "title": {
          "text": "Dirc_Data_Mov"
         }
        },
        "yaxis": {
         "ticks": "outside",
         "title": {
          "text": "GFLOPs/Node"
         }
        }
       }
      },
      "text/html": [
       "<div>                            <div id=\"61d41856-b700-4551-8d57-2ad1416223f2\" class=\"plotly-graph-div\" style=\"height:525px; width:100%;\"></div>            <script type=\"text/javascript\">                require([\"plotly\"], function(Plotly) {                    window.PLOTLYENV=window.PLOTLYENV || {};                                    if (document.getElementById(\"61d41856-b700-4551-8d57-2ad1416223f2\")) {                    Plotly.newPlot(                        \"61d41856-b700-4551-8d57-2ad1416223f2\",                        [{\"line\":{\"color\":\"magenta\",\"width\":3},\"marker\":{\"line\":{\"color\":\"yellow\",\"width\":1},\"size\":9,\"symbol\":\"hexagon\"},\"mode\":\"lines+markers\",\"name\":\"MacFusNonProb_8mpi_4omp\",\"x\":[75497472,50331648,100663296,125829120,150994944,176160768,201326592,226492416,251658240,276824064,301989888,327155712,352321536,377487360,402653184],\"y\":[85.1352,85.88,85.56,85.8784,83.5096,79.08488,70.92392,63.15744,56.32,53.07648,49.21656,47.2224,45.26888,44.19592,43.25872],\"type\":\"scatter\"},{\"line\":{\"color\":\"darkcyan\",\"width\":3},\"marker\":{\"line\":{\"color\":\"yellow\",\"width\":1},\"size\":9,\"symbol\":\"hexagon\"},\"mode\":\"lines+markers\",\"name\":\"MacFusProb_8mpi_4omp\",\"x\":[50331648,75497472,100663296,125829120,150994944,176160768,201326592,226492416,251658240,276824064,301989888,327155712,352321536,377487360,402653184],\"y\":[71.33728,70.6148,73.128,72.58544,71.15728,68.09792,62.61744,56.32648,50.63792,47.01936,44.4404,44.13912,42.89032,42.55168,41.67488],\"type\":\"scatter\"},{\"line\":{\"color\":\"sandybrown\",\"width\":3},\"marker\":{\"line\":{\"color\":\"MediumPurple\",\"width\":2},\"size\":5,\"symbol\":\"diamond\"},\"mode\":\"lines+markers\",\"name\":\"MacFusNonProb_16mpi_2omp\",\"x\":[100663296,125829120,150994944,176160768,201326592,226492416,251658240,276824064,301989888,327155712,352321536,377487360,402653184],\"y\":[86.38432,86.4584,78.06032,72.07024,64.77344,61.65568,58.74576,53.21232,50.59296,52.83984,50.1192,47.62656,49.77264],\"type\":\"scatter\"},{\"line\":{\"color\":\"royalblue\",\"width\":3},\"marker\":{\"line\":{\"color\":\"MediumPurple\",\"width\":2},\"size\":5,\"symbol\":\"diamond\"},\"mode\":\"lines+markers\",\"name\":\"MacFusProb_16mpi_2omp\",\"x\":[100663296,125829120,150994944,176160768,201326592,226492416,251658240,276824064,301989888,327155712,352321536,377487360,402653184],\"y\":[81.85504,74.44432,72.6056,64.6656,63.84624,56.47552,55.24464,52.93152,49.552,47.71632,49.54192,47.62912,47.492],\"type\":\"scatter\"},{\"line\":{\"color\":\"cyan\",\"width\":3},\"marker\":{\"line\":{\"color\":\"Purple\",\"width\":2},\"size\":7,\"symbol\":\"circle\"},\"mode\":\"lines+markers\",\"name\":\"MacFusnonProb_32mpi_1omp\",\"x\":[201326592,251658240,301989888,352321536,402653184],\"y\":[58.54912,51.9696,49.54624,48.01312,47.05568],\"type\":\"scatter\"},{\"line\":{\"color\":\"darkblue\",\"width\":3},\"marker\":{\"line\":{\"color\":\"tomato\",\"width\":2},\"size\":7,\"symbol\":\"circle\"},\"mode\":\"lines+markers\",\"name\":\"MacFusProb_32mpi_1omp\",\"x\":[201326592,251658240,301989888,352321536,402653184],\"y\":[55.82176,49.91872,48.23136,46.4512,45.936],\"type\":\"scatter\"}],                        {\"template\":{\"data\":{\"histogram2dcontour\":[{\"type\":\"histogram2dcontour\",\"colorbar\":{\"outlinewidth\":0,\"ticks\":\"\"},\"colorscale\":[[0.0,\"#0d0887\"],[0.1111111111111111,\"#46039f\"],[0.2222222222222222,\"#7201a8\"],[0.3333333333333333,\"#9c179e\"],[0.4444444444444444,\"#bd3786\"],[0.5555555555555556,\"#d8576b\"],[0.6666666666666666,\"#ed7953\"],[0.7777777777777778,\"#fb9f3a\"],[0.8888888888888888,\"#fdca26\"],[1.0,\"#f0f921\"]]}],\"choropleth\":[{\"type\":\"choropleth\",\"colorbar\":{\"outlinewidth\":0,\"ticks\":\"\"}}],\"histogram2d\":[{\"type\":\"histogram2d\",\"colorbar\":{\"outlinewidth\":0,\"ticks\":\"\"},\"colorscale\":[[0.0,\"#0d0887\"],[0.1111111111111111,\"#46039f\"],[0.2222222222222222,\"#7201a8\"],[0.3333333333333333,\"#9c179e\"],[0.4444444444444444,\"#bd3786\"],[0.5555555555555556,\"#d8576b\"],[0.6666666666666666,\"#ed7953\"],[0.7777777777777778,\"#fb9f3a\"],[0.8888888888888888,\"#fdca26\"],[1.0,\"#f0f921\"]]}],\"heatmap\":[{\"type\":\"heatmap\",\"colorbar\":{\"outlinewidth\":0,\"ticks\":\"\"},\"colorscale\":[[0.0,\"#0d0887\"],[0.1111111111111111,\"#46039f\"],[0.2222222222222222,\"#7201a8\"],[0.3333333333333333,\"#9c179e\"],[0.4444444444444444,\"#bd3786\"],[0.5555555555555556,\"#d8576b\"],[0.6666666666666666,\"#ed7953\"],[0.7777777777777778,\"#fb9f3a\"],[0.8888888888888888,\"#fdca26\"],[1.0,\"#f0f921\"]]}],\"heatmapgl\":[{\"type\":\"heatmapgl\",\"colorbar\":{\"outlinewidth\":0,\"ticks\":\"\"},\"colorscale\":[[0.0,\"#0d0887\"],[0.1111111111111111,\"#46039f\"],[0.2222222222222222,\"#7201a8\"],[0.3333333333333333,\"#9c179e\"],[0.4444444444444444,\"#bd3786\"],[0.5555555555555556,\"#d8576b\"],[0.6666666666666666,\"#ed7953\"],[0.7777777777777778,\"#fb9f3a\"],[0.8888888888888888,\"#fdca26\"],[1.0,\"#f0f921\"]]}],\"contourcarpet\":[{\"type\":\"contourcarpet\",\"colorbar\":{\"outlinewidth\":0,\"ticks\":\"\"}}],\"contour\":[{\"type\":\"contour\",\"colorbar\":{\"outlinewidth\":0,\"ticks\":\"\"},\"colorscale\":[[0.0,\"#0d0887\"],[0.1111111111111111,\"#46039f\"],[0.2222222222222222,\"#7201a8\"],[0.3333333333333333,\"#9c179e\"],[0.4444444444444444,\"#bd3786\"],[0.5555555555555556,\"#d8576b\"],[0.6666666666666666,\"#ed7953\"],[0.7777777777777778,\"#fb9f3a\"],[0.8888888888888888,\"#fdca26\"],[1.0,\"#f0f921\"]]}],\"surface\":[{\"type\":\"surface\",\"colorbar\":{\"outlinewidth\":0,\"ticks\":\"\"},\"colorscale\":[[0.0,\"#0d0887\"],[0.1111111111111111,\"#46039f\"],[0.2222222222222222,\"#7201a8\"],[0.3333333333333333,\"#9c179e\"],[0.4444444444444444,\"#bd3786\"],[0.5555555555555556,\"#d8576b\"],[0.6666666666666666,\"#ed7953\"],[0.7777777777777778,\"#fb9f3a\"],[0.8888888888888888,\"#fdca26\"],[1.0,\"#f0f921\"]]}],\"mesh3d\":[{\"type\":\"mesh3d\",\"colorbar\":{\"outlinewidth\":0,\"ticks\":\"\"}}],\"scatter\":[{\"fillpattern\":{\"fillmode\":\"overlay\",\"size\":10,\"solidity\":0.2},\"type\":\"scatter\"}],\"parcoords\":[{\"type\":\"parcoords\",\"line\":{\"colorbar\":{\"outlinewidth\":0,\"ticks\":\"\"}}}],\"scatterpolargl\":[{\"type\":\"scatterpolargl\",\"marker\":{\"colorbar\":{\"outlinewidth\":0,\"ticks\":\"\"}}}],\"bar\":[{\"error_x\":{\"color\":\"#2a3f5f\"},\"error_y\":{\"color\":\"#2a3f5f\"},\"marker\":{\"line\":{\"color\":\"#E5ECF6\",\"width\":0.5},\"pattern\":{\"fillmode\":\"overlay\",\"size\":10,\"solidity\":0.2}},\"type\":\"bar\"}],\"scattergeo\":[{\"type\":\"scattergeo\",\"marker\":{\"colorbar\":{\"outlinewidth\":0,\"ticks\":\"\"}}}],\"scatterpolar\":[{\"type\":\"scatterpolar\",\"marker\":{\"colorbar\":{\"outlinewidth\":0,\"ticks\":\"\"}}}],\"histogram\":[{\"marker\":{\"pattern\":{\"fillmode\":\"overlay\",\"size\":10,\"solidity\":0.2}},\"type\":\"histogram\"}],\"scattergl\":[{\"type\":\"scattergl\",\"marker\":{\"colorbar\":{\"outlinewidth\":0,\"ticks\":\"\"}}}],\"scatter3d\":[{\"type\":\"scatter3d\",\"line\":{\"colorbar\":{\"outlinewidth\":0,\"ticks\":\"\"}},\"marker\":{\"colorbar\":{\"outlinewidth\":0,\"ticks\":\"\"}}}],\"scattermapbox\":[{\"type\":\"scattermapbox\",\"marker\":{\"colorbar\":{\"outlinewidth\":0,\"ticks\":\"\"}}}],\"scatterternary\":[{\"type\":\"scatterternary\",\"marker\":{\"colorbar\":{\"outlinewidth\":0,\"ticks\":\"\"}}}],\"scattercarpet\":[{\"type\":\"scattercarpet\",\"marker\":{\"colorbar\":{\"outlinewidth\":0,\"ticks\":\"\"}}}],\"carpet\":[{\"aaxis\":{\"endlinecolor\":\"#2a3f5f\",\"gridcolor\":\"white\",\"linecolor\":\"white\",\"minorgridcolor\":\"white\",\"startlinecolor\":\"#2a3f5f\"},\"baxis\":{\"endlinecolor\":\"#2a3f5f\",\"gridcolor\":\"white\",\"linecolor\":\"white\",\"minorgridcolor\":\"white\",\"startlinecolor\":\"#2a3f5f\"},\"type\":\"carpet\"}],\"table\":[{\"cells\":{\"fill\":{\"color\":\"#EBF0F8\"},\"line\":{\"color\":\"white\"}},\"header\":{\"fill\":{\"color\":\"#C8D4E3\"},\"line\":{\"color\":\"white\"}},\"type\":\"table\"}],\"barpolar\":[{\"marker\":{\"line\":{\"color\":\"#E5ECF6\",\"width\":0.5},\"pattern\":{\"fillmode\":\"overlay\",\"size\":10,\"solidity\":0.2}},\"type\":\"barpolar\"}],\"pie\":[{\"automargin\":true,\"type\":\"pie\"}]},\"layout\":{\"autotypenumbers\":\"strict\",\"colorway\":[\"#636efa\",\"#EF553B\",\"#00cc96\",\"#ab63fa\",\"#FFA15A\",\"#19d3f3\",\"#FF6692\",\"#B6E880\",\"#FF97FF\",\"#FECB52\"],\"font\":{\"color\":\"#2a3f5f\"},\"hovermode\":\"closest\",\"hoverlabel\":{\"align\":\"left\"},\"paper_bgcolor\":\"white\",\"plot_bgcolor\":\"#E5ECF6\",\"polar\":{\"bgcolor\":\"#E5ECF6\",\"angularaxis\":{\"gridcolor\":\"white\",\"linecolor\":\"white\",\"ticks\":\"\"},\"radialaxis\":{\"gridcolor\":\"white\",\"linecolor\":\"white\",\"ticks\":\"\"}},\"ternary\":{\"bgcolor\":\"#E5ECF6\",\"aaxis\":{\"gridcolor\":\"white\",\"linecolor\":\"white\",\"ticks\":\"\"},\"baxis\":{\"gridcolor\":\"white\",\"linecolor\":\"white\",\"ticks\":\"\"},\"caxis\":{\"gridcolor\":\"white\",\"linecolor\":\"white\",\"ticks\":\"\"}},\"coloraxis\":{\"colorbar\":{\"outlinewidth\":0,\"ticks\":\"\"}},\"colorscale\":{\"sequential\":[[0.0,\"#0d0887\"],[0.1111111111111111,\"#46039f\"],[0.2222222222222222,\"#7201a8\"],[0.3333333333333333,\"#9c179e\"],[0.4444444444444444,\"#bd3786\"],[0.5555555555555556,\"#d8576b\"],[0.6666666666666666,\"#ed7953\"],[0.7777777777777778,\"#fb9f3a\"],[0.8888888888888888,\"#fdca26\"],[1.0,\"#f0f921\"]],\"sequentialminus\":[[0.0,\"#0d0887\"],[0.1111111111111111,\"#46039f\"],[0.2222222222222222,\"#7201a8\"],[0.3333333333333333,\"#9c179e\"],[0.4444444444444444,\"#bd3786\"],[0.5555555555555556,\"#d8576b\"],[0.6666666666666666,\"#ed7953\"],[0.7777777777777778,\"#fb9f3a\"],[0.8888888888888888,\"#fdca26\"],[1.0,\"#f0f921\"]],\"diverging\":[[0,\"#8e0152\"],[0.1,\"#c51b7d\"],[0.2,\"#de77ae\"],[0.3,\"#f1b6da\"],[0.4,\"#fde0ef\"],[0.5,\"#f7f7f7\"],[0.6,\"#e6f5d0\"],[0.7,\"#b8e186\"],[0.8,\"#7fbc41\"],[0.9,\"#4d9221\"],[1,\"#276419\"]]},\"xaxis\":{\"gridcolor\":\"white\",\"linecolor\":\"white\",\"ticks\":\"\",\"title\":{\"standoff\":15},\"zerolinecolor\":\"white\",\"automargin\":true,\"zerolinewidth\":2},\"yaxis\":{\"gridcolor\":\"white\",\"linecolor\":\"white\",\"ticks\":\"\",\"title\":{\"standoff\":15},\"zerolinecolor\":\"white\",\"automargin\":true,\"zerolinewidth\":2},\"scene\":{\"xaxis\":{\"backgroundcolor\":\"#E5ECF6\",\"gridcolor\":\"white\",\"linecolor\":\"white\",\"showbackground\":true,\"ticks\":\"\",\"zerolinecolor\":\"white\",\"gridwidth\":2},\"yaxis\":{\"backgroundcolor\":\"#E5ECF6\",\"gridcolor\":\"white\",\"linecolor\":\"white\",\"showbackground\":true,\"ticks\":\"\",\"zerolinecolor\":\"white\",\"gridwidth\":2},\"zaxis\":{\"backgroundcolor\":\"#E5ECF6\",\"gridcolor\":\"white\",\"linecolor\":\"white\",\"showbackground\":true,\"ticks\":\"\",\"zerolinecolor\":\"white\",\"gridwidth\":2}},\"shapedefaults\":{\"line\":{\"color\":\"#2a3f5f\"}},\"annotationdefaults\":{\"arrowcolor\":\"#2a3f5f\",\"arrowhead\":0,\"arrowwidth\":1},\"geo\":{\"bgcolor\":\"white\",\"landcolor\":\"#E5ECF6\",\"subunitcolor\":\"white\",\"showland\":true,\"showlakes\":true,\"lakecolor\":\"white\"},\"title\":{\"x\":0.05},\"mapbox\":{\"style\":\"light\"}}},\"shapes\":[{\"line\":{\"color\":\"green\",\"dash\":\"dash\",\"width\":3},\"type\":\"line\",\"x0\":80000000.0,\"x1\":80000000.0,\"xref\":\"x\",\"y0\":0,\"y1\":1,\"yref\":\"y domain\"}],\"annotations\":[{\"align\":\"left\",\"arrowcolor\":\"#636363\",\"arrowhead\":1,\"arrowsize\":1,\"arrowwidth\":2,\"ax\":-20,\"ay\":-30,\"font\":{\"color\":\"purple\",\"family\":\"Sans Serif\",\"size\":12},\"showarrow\":false,\"text\":\"LLC Size Per Node\",\"x\":\"80e6\",\"y\":130,\"yanchor\":\"bottom\"}],\"xaxis\":{\"title\":{\"text\":\"Dirc_Data_Mov\"},\"ticks\":\"outside\"},\"yaxis\":{\"title\":{\"text\":\"GFLOPs/Node\"},\"ticks\":\"outside\"},\"title\":{\"text\":\"\\\"Macro Fused: probempi vs nonprobempi\\\" GFlops Measurement\"}},                        {\"responsive\": true}                    ).then(function(){\n",
       "                            \n",
       "var gd = document.getElementById('61d41856-b700-4551-8d57-2ad1416223f2');\n",
       "var x = new MutationObserver(function (mutations, observer) {{\n",
       "        var display = window.getComputedStyle(gd).display;\n",
       "        if (!display || display === 'none') {{\n",
       "            console.log([gd, 'removed!']);\n",
       "            Plotly.purge(gd);\n",
       "            observer.disconnect();\n",
       "        }}\n",
       "}});\n",
       "\n",
       "// Listen for the removal of the full notebook cells\n",
       "var notebookContainer = gd.closest('#notebook-container');\n",
       "if (notebookContainer) {{\n",
       "    x.observe(notebookContainer, {childList: true});\n",
       "}}\n",
       "\n",
       "// Listen for the clearing of the current output cell\n",
       "var outputEl = gd.closest('.output');\n",
       "if (outputEl) {{\n",
       "    x.observe(outputEl, {childList: true});\n",
       "}}\n",
       "\n",
       "                        })                };                });            </script>        </div>"
      ]
     },
     "metadata": {},
     "output_type": "display_data"
    }
   ],
   "source": [
    "fig = go.Figure() \n",
    "\n",
    "fig.add_trace(go.Scatter(x=(dfMacFusNonProb_8mpi_4omp.Dirc_Data_Mov*(dfMacFusNonProb_8mpi_4omp.MPI_size)), \n",
    "                         y=(dfMacFusNonProb_8mpi_4omp.GFLOPS*(dfMacFusNonProb_8mpi_4omp.MPI_size)), \n",
    "                         mode='lines+markers', \n",
    "                         name='MacFusNonProb_8mpi_4omp',\n",
    "                         line=dict(color='magenta',width=3),\n",
    "                         marker=dict(symbol='hexagon',size=9, line=dict(color='yellow',width=1))))\n",
    "\n",
    "\n",
    "fig.add_trace(go.Scatter(x=(dfMacFusProb_8mpi_4omp.Dirc_Data_Mov*(dfMacFusProb_8mpi_4omp.MPI_size)), \n",
    "                         y=(dfMacFusProb_8mpi_4omp.GFLOPS*(dfMacFusProb_8mpi_4omp.MPI_size)), \n",
    "                         mode='lines+markers', \n",
    "                         name='MacFusProb_8mpi_4omp',\n",
    "                         line=dict(color='darkcyan',width=3),\n",
    "                         marker=dict(symbol='hexagon',size=9, line=dict(color='yellow',width=1))))\n",
    "\n",
    "\n",
    "fig.add_trace(go.Scatter(x=(dfMacFusNonProb_16mpi_2omp.Dirc_Data_Mov*(dfMacFusNonProb_16mpi_2omp.MPI_size)), \n",
    "                         y=(dfMacFusNonProb_16mpi_2omp.GFLOPS*(dfMacFusNonProb_16mpi_2omp.MPI_size)), \n",
    "                         mode='lines+markers', \n",
    "                         name='MacFusNonProb_16mpi_2omp',\n",
    "                         line=dict(color='sandybrown',width=3),\n",
    "                         marker=dict(symbol='diamond',size=5,line=dict(color='MediumPurple',width=2))))\n",
    "\n",
    "fig.add_trace(go.Scatter(x=(dfMacFusProb_16mpi_2omp.Dirc_Data_Mov*(dfMacFusProb_16mpi_2omp.MPI_size)), \n",
    "                         y=(dfMacFusProb_16mpi_2omp.GFLOPS*(dfMacFusProb_16mpi_2omp.MPI_size)), \n",
    "                         mode='lines+markers', \n",
    "                         name='MacFusProb_16mpi_2omp',\n",
    "                         line=dict(color='royalblue',width=3),\n",
    "                         marker=dict(symbol='diamond',size=5,line=dict(color='MediumPurple',width=2))))\n",
    "\n",
    "\n",
    "fig.add_trace(go.Scatter(x=(dfMacFusnonProb_32mpi_1omp.Dirc_Data_Mov*(dfMacFusnonProb_32mpi_1omp.MPI_size)), \n",
    "                         y=(dfMacFusnonProb_32mpi_1omp.GFLOPS*(dfMacFusnonProb_32mpi_1omp.MPI_size)), \n",
    "                         mode='lines+markers', \n",
    "                         name='MacFusnonProb_32mpi_1omp',\n",
    "                         line=dict(color='cyan',width=3),\n",
    "                         marker=dict(symbol='circle',size=7,line=dict(color='Purple',width=2))))\n",
    "\n",
    "\n",
    "fig.add_trace(go.Scatter(x=(dfMacFusProb_32mpi_1omp.Dirc_Data_Mov*(dfMacFusProb_32mpi_1omp.MPI_size)), \n",
    "                         y=(dfMacFusProb_32mpi_1omp.GFLOPS*(dfMacFusProb_32mpi_1omp.MPI_size)), \n",
    "                         mode='lines+markers', \n",
    "                         name='MacFusProb_32mpi_1omp',\n",
    "                         line=dict(color='darkblue',width=3),\n",
    "                         marker=dict(symbol='circle',size=7, line=dict(color='tomato',width=2))))\n",
    "\n",
    "\n",
    "\n",
    "# Adding a vertical line\n",
    "fig.add_vline(x=80e6, line_width=3, line_dash=\"dash\", line_color=\"green\")\n",
    "# fig.add_hline(y=1024, line_width=3, line_dash=\"dash\", line_color=\"red\")\n",
    "\n",
    "# Add annotation\n",
    "fig.add_annotation(\n",
    "    x='80e6'\n",
    "    , y=130\n",
    "    , text=f'LLC Size Per Node'\n",
    "    , yanchor='bottom'\n",
    "    , showarrow=False\n",
    "    , arrowhead=1\n",
    "    , arrowsize=1\n",
    "    , arrowwidth=2\n",
    "    , arrowcolor=\"#636363\"\n",
    "    , ax=-20\n",
    "    , ay=-30\n",
    "    , font=dict(size=12, color=\"purple\", family=\"Sans Serif\")\n",
    "    , align=\"left\"\n",
    "    ,)\n",
    "\n",
    "fig.update_layout(title='\"Macro Fused: probempi vs nonprobempi\" GFlops Measurement',\n",
    "                  xaxis_title='Dirc_Data_Mov', yaxis_title='GFLOPs/Node', \n",
    "                  xaxis=dict(ticks=\"outside\"),  \n",
    "                  yaxis=dict(ticks=\"outside\"))"
   ]
  },
  {
   "cell_type": "code",
   "execution_count": null,
   "id": "0044077d",
   "metadata": {},
   "outputs": [],
   "source": []
  },
  {
   "cell_type": "markdown",
   "id": "5dfddee0",
   "metadata": {},
   "source": [
    "## BANDWIDTH - macro fused: probempi vs nonprobempi"
   ]
  },
  {
   "cell_type": "code",
   "execution_count": 105,
   "id": "95ebec47",
   "metadata": {},
   "outputs": [
    {
     "data": {
      "application/vnd.plotly.v1+json": {
       "config": {
        "plotlyServerURL": "https://plot.ly"
       },
       "data": [
        {
         "line": {
          "color": "magenta",
          "width": 3
         },
         "marker": {
          "line": {
           "color": "yellow",
           "width": 1
          },
          "size": 9,
          "symbol": "hexagon"
         },
         "mode": "lines+markers",
         "name": "MacFusNonProb_8mpi_4omp",
         "type": "scatter",
         "x": [
          75497472,
          50331648,
          100663296,
          125829120,
          150994944,
          176160768,
          201326592,
          226492416,
          251658240,
          276824064,
          301989888,
          327155712,
          352321536,
          377487360,
          402653184
         ],
         "y": [
          198.1328,
          199.8664,
          199.1208,
          199.8624,
          194.3496,
          184.052,
          165.0592,
          146.9848,
          131.072,
          123.5232,
          114.54,
          109.8992,
          105.3528,
          102.856,
          100.6752
         ]
        },
        {
         "line": {
          "color": "darkcyan",
          "width": 3
         },
         "marker": {
          "line": {
           "color": "yellow",
           "width": 1
          },
          "size": 9,
          "symbol": "hexagon"
         },
         "mode": "lines+markers",
         "name": "MacFusProb_8mpi_4omp",
         "type": "scatter",
         "x": [
          50331648,
          75497472,
          100663296,
          125829120,
          150994944,
          176160768,
          201326592,
          226492416,
          251658240,
          276824064,
          301989888,
          327155712,
          352321536,
          377487360,
          402653184
         ],
         "y": [
          166.0216,
          164.34,
          170.1888,
          168.9264,
          165.6024,
          158.4824,
          145.728,
          131.0872,
          117.848,
          109.4272,
          103.4248,
          102.724,
          99.8176,
          99.0296,
          96.9888
         ]
        },
        {
         "line": {
          "color": "sandybrown",
          "width": 3
         },
         "marker": {
          "line": {
           "color": "MediumPurple",
           "width": 2
          },
          "size": 5,
          "symbol": "diamond"
         },
         "mode": "lines+markers",
         "name": "MacFusNonProb_16mpi_2omp",
         "type": "scatter",
         "x": [
          100663296,
          125829120,
          150994944,
          176160768,
          201326592,
          226492416,
          251658240,
          276824064,
          301989888,
          327155712,
          352321536,
          377487360,
          402653184
         ],
         "y": [
          201.04,
          201.2128,
          181.6672,
          167.7264,
          150.74528,
          143.4896,
          136.71744,
          123.83952,
          117.74368,
          122.97264,
          116.64112,
          110.84,
          115.83456
         ]
        },
        {
         "line": {
          "color": "royalblue",
          "width": 3
         },
         "marker": {
          "line": {
           "color": "MediumPurple",
           "width": 2
          },
          "size": 5,
          "symbol": "diamond"
         },
         "mode": "lines+markers",
         "name": "MacFusProb_16mpi_2omp",
         "type": "scatter",
         "x": [
          100663296,
          125829120,
          150994944,
          176160768,
          201326592,
          226492416,
          251658240,
          276824064,
          301989888,
          327155712,
          352321536,
          377487360,
          402653184
         ],
         "y": [
          190.4992,
          173.2528,
          168.9728,
          150.4944,
          148.58768,
          131.43392,
          128.56944,
          123.18608,
          115.3208,
          111.04864,
          115.2976,
          110.84608,
          110.52688
         ]
        },
        {
         "line": {
          "color": "cyan",
          "width": 3
         },
         "marker": {
          "line": {
           "color": "Purple",
           "width": 2
          },
          "size": 7,
          "symbol": "circle"
         },
         "mode": "lines+markers",
         "name": "MacFusnonProb_32mpi_1omp",
         "type": "scatter",
         "x": [
          201326592,
          251658240,
          301989888,
          352321536,
          402653184
         ],
         "y": [
          136.25984,
          120.9472,
          115.3072,
          111.73984,
          109.51136
         ]
        },
        {
         "line": {
          "color": "darkblue",
          "width": 3
         },
         "marker": {
          "line": {
           "color": "tomato",
           "width": 2
          },
          "size": 7,
          "symbol": "circle"
         },
         "mode": "lines+markers",
         "name": "MacFusProb_32mpi_1omp",
         "type": "scatter",
         "x": [
          201326592,
          251658240,
          301989888,
          352321536,
          402653184
         ],
         "y": [
          129.91264,
          116.1744,
          112.24768,
          108.10464,
          106.90528
         ]
        }
       ],
       "layout": {
        "annotations": [
         {
          "align": "left",
          "arrowcolor": "#636363",
          "arrowhead": 1,
          "arrowsize": 1,
          "arrowwidth": 2,
          "ax": -20,
          "ay": -30,
          "font": {
           "color": "purple",
           "family": "Sans Serif",
           "size": 12
          },
          "showarrow": false,
          "text": "LLC Size Per Node: 80M",
          "x": "80e6",
          "y": 280,
          "yanchor": "bottom"
         },
         {
          "align": "left",
          "arrowcolor": "#636363",
          "arrowhead": 1,
          "arrowsize": 1,
          "arrowwidth": 2,
          "ax": -20,
          "ay": -30,
          "font": {
           "color": "orange",
           "family": "Sans Serif",
           "size": 12
          },
          "showarrow": false,
          "text": "Max Bandwidth Per Node",
          "x": "130e6",
          "y": 155,
          "yanchor": "bottom"
         }
        ],
        "shapes": [
         {
          "line": {
           "color": "green",
           "dash": "dot",
           "width": 3
          },
          "type": "line",
          "x0": 80000000,
          "x1": 80000000,
          "xref": "x",
          "y0": 0,
          "y1": 1,
          "yref": "y domain"
         },
         {
          "line": {
           "color": "red",
           "dash": "dash",
           "width": 3
          },
          "type": "line",
          "x0": 0,
          "x1": 1,
          "xref": "x domain",
          "y0": 153,
          "y1": 153,
          "yref": "y"
         }
        ],
        "template": {
         "data": {
          "bar": [
           {
            "error_x": {
             "color": "#2a3f5f"
            },
            "error_y": {
             "color": "#2a3f5f"
            },
            "marker": {
             "line": {
              "color": "#E5ECF6",
              "width": 0.5
             },
             "pattern": {
              "fillmode": "overlay",
              "size": 10,
              "solidity": 0.2
             }
            },
            "type": "bar"
           }
          ],
          "barpolar": [
           {
            "marker": {
             "line": {
              "color": "#E5ECF6",
              "width": 0.5
             },
             "pattern": {
              "fillmode": "overlay",
              "size": 10,
              "solidity": 0.2
             }
            },
            "type": "barpolar"
           }
          ],
          "carpet": [
           {
            "aaxis": {
             "endlinecolor": "#2a3f5f",
             "gridcolor": "white",
             "linecolor": "white",
             "minorgridcolor": "white",
             "startlinecolor": "#2a3f5f"
            },
            "baxis": {
             "endlinecolor": "#2a3f5f",
             "gridcolor": "white",
             "linecolor": "white",
             "minorgridcolor": "white",
             "startlinecolor": "#2a3f5f"
            },
            "type": "carpet"
           }
          ],
          "choropleth": [
           {
            "colorbar": {
             "outlinewidth": 0,
             "ticks": ""
            },
            "type": "choropleth"
           }
          ],
          "contour": [
           {
            "colorbar": {
             "outlinewidth": 0,
             "ticks": ""
            },
            "colorscale": [
             [
              0,
              "#0d0887"
             ],
             [
              0.1111111111111111,
              "#46039f"
             ],
             [
              0.2222222222222222,
              "#7201a8"
             ],
             [
              0.3333333333333333,
              "#9c179e"
             ],
             [
              0.4444444444444444,
              "#bd3786"
             ],
             [
              0.5555555555555556,
              "#d8576b"
             ],
             [
              0.6666666666666666,
              "#ed7953"
             ],
             [
              0.7777777777777778,
              "#fb9f3a"
             ],
             [
              0.8888888888888888,
              "#fdca26"
             ],
             [
              1,
              "#f0f921"
             ]
            ],
            "type": "contour"
           }
          ],
          "contourcarpet": [
           {
            "colorbar": {
             "outlinewidth": 0,
             "ticks": ""
            },
            "type": "contourcarpet"
           }
          ],
          "heatmap": [
           {
            "colorbar": {
             "outlinewidth": 0,
             "ticks": ""
            },
            "colorscale": [
             [
              0,
              "#0d0887"
             ],
             [
              0.1111111111111111,
              "#46039f"
             ],
             [
              0.2222222222222222,
              "#7201a8"
             ],
             [
              0.3333333333333333,
              "#9c179e"
             ],
             [
              0.4444444444444444,
              "#bd3786"
             ],
             [
              0.5555555555555556,
              "#d8576b"
             ],
             [
              0.6666666666666666,
              "#ed7953"
             ],
             [
              0.7777777777777778,
              "#fb9f3a"
             ],
             [
              0.8888888888888888,
              "#fdca26"
             ],
             [
              1,
              "#f0f921"
             ]
            ],
            "type": "heatmap"
           }
          ],
          "heatmapgl": [
           {
            "colorbar": {
             "outlinewidth": 0,
             "ticks": ""
            },
            "colorscale": [
             [
              0,
              "#0d0887"
             ],
             [
              0.1111111111111111,
              "#46039f"
             ],
             [
              0.2222222222222222,
              "#7201a8"
             ],
             [
              0.3333333333333333,
              "#9c179e"
             ],
             [
              0.4444444444444444,
              "#bd3786"
             ],
             [
              0.5555555555555556,
              "#d8576b"
             ],
             [
              0.6666666666666666,
              "#ed7953"
             ],
             [
              0.7777777777777778,
              "#fb9f3a"
             ],
             [
              0.8888888888888888,
              "#fdca26"
             ],
             [
              1,
              "#f0f921"
             ]
            ],
            "type": "heatmapgl"
           }
          ],
          "histogram": [
           {
            "marker": {
             "pattern": {
              "fillmode": "overlay",
              "size": 10,
              "solidity": 0.2
             }
            },
            "type": "histogram"
           }
          ],
          "histogram2d": [
           {
            "colorbar": {
             "outlinewidth": 0,
             "ticks": ""
            },
            "colorscale": [
             [
              0,
              "#0d0887"
             ],
             [
              0.1111111111111111,
              "#46039f"
             ],
             [
              0.2222222222222222,
              "#7201a8"
             ],
             [
              0.3333333333333333,
              "#9c179e"
             ],
             [
              0.4444444444444444,
              "#bd3786"
             ],
             [
              0.5555555555555556,
              "#d8576b"
             ],
             [
              0.6666666666666666,
              "#ed7953"
             ],
             [
              0.7777777777777778,
              "#fb9f3a"
             ],
             [
              0.8888888888888888,
              "#fdca26"
             ],
             [
              1,
              "#f0f921"
             ]
            ],
            "type": "histogram2d"
           }
          ],
          "histogram2dcontour": [
           {
            "colorbar": {
             "outlinewidth": 0,
             "ticks": ""
            },
            "colorscale": [
             [
              0,
              "#0d0887"
             ],
             [
              0.1111111111111111,
              "#46039f"
             ],
             [
              0.2222222222222222,
              "#7201a8"
             ],
             [
              0.3333333333333333,
              "#9c179e"
             ],
             [
              0.4444444444444444,
              "#bd3786"
             ],
             [
              0.5555555555555556,
              "#d8576b"
             ],
             [
              0.6666666666666666,
              "#ed7953"
             ],
             [
              0.7777777777777778,
              "#fb9f3a"
             ],
             [
              0.8888888888888888,
              "#fdca26"
             ],
             [
              1,
              "#f0f921"
             ]
            ],
            "type": "histogram2dcontour"
           }
          ],
          "mesh3d": [
           {
            "colorbar": {
             "outlinewidth": 0,
             "ticks": ""
            },
            "type": "mesh3d"
           }
          ],
          "parcoords": [
           {
            "line": {
             "colorbar": {
              "outlinewidth": 0,
              "ticks": ""
             }
            },
            "type": "parcoords"
           }
          ],
          "pie": [
           {
            "automargin": true,
            "type": "pie"
           }
          ],
          "scatter": [
           {
            "fillpattern": {
             "fillmode": "overlay",
             "size": 10,
             "solidity": 0.2
            },
            "type": "scatter"
           }
          ],
          "scatter3d": [
           {
            "line": {
             "colorbar": {
              "outlinewidth": 0,
              "ticks": ""
             }
            },
            "marker": {
             "colorbar": {
              "outlinewidth": 0,
              "ticks": ""
             }
            },
            "type": "scatter3d"
           }
          ],
          "scattercarpet": [
           {
            "marker": {
             "colorbar": {
              "outlinewidth": 0,
              "ticks": ""
             }
            },
            "type": "scattercarpet"
           }
          ],
          "scattergeo": [
           {
            "marker": {
             "colorbar": {
              "outlinewidth": 0,
              "ticks": ""
             }
            },
            "type": "scattergeo"
           }
          ],
          "scattergl": [
           {
            "marker": {
             "colorbar": {
              "outlinewidth": 0,
              "ticks": ""
             }
            },
            "type": "scattergl"
           }
          ],
          "scattermapbox": [
           {
            "marker": {
             "colorbar": {
              "outlinewidth": 0,
              "ticks": ""
             }
            },
            "type": "scattermapbox"
           }
          ],
          "scatterpolar": [
           {
            "marker": {
             "colorbar": {
              "outlinewidth": 0,
              "ticks": ""
             }
            },
            "type": "scatterpolar"
           }
          ],
          "scatterpolargl": [
           {
            "marker": {
             "colorbar": {
              "outlinewidth": 0,
              "ticks": ""
             }
            },
            "type": "scatterpolargl"
           }
          ],
          "scatterternary": [
           {
            "marker": {
             "colorbar": {
              "outlinewidth": 0,
              "ticks": ""
             }
            },
            "type": "scatterternary"
           }
          ],
          "surface": [
           {
            "colorbar": {
             "outlinewidth": 0,
             "ticks": ""
            },
            "colorscale": [
             [
              0,
              "#0d0887"
             ],
             [
              0.1111111111111111,
              "#46039f"
             ],
             [
              0.2222222222222222,
              "#7201a8"
             ],
             [
              0.3333333333333333,
              "#9c179e"
             ],
             [
              0.4444444444444444,
              "#bd3786"
             ],
             [
              0.5555555555555556,
              "#d8576b"
             ],
             [
              0.6666666666666666,
              "#ed7953"
             ],
             [
              0.7777777777777778,
              "#fb9f3a"
             ],
             [
              0.8888888888888888,
              "#fdca26"
             ],
             [
              1,
              "#f0f921"
             ]
            ],
            "type": "surface"
           }
          ],
          "table": [
           {
            "cells": {
             "fill": {
              "color": "#EBF0F8"
             },
             "line": {
              "color": "white"
             }
            },
            "header": {
             "fill": {
              "color": "#C8D4E3"
             },
             "line": {
              "color": "white"
             }
            },
            "type": "table"
           }
          ]
         },
         "layout": {
          "annotationdefaults": {
           "arrowcolor": "#2a3f5f",
           "arrowhead": 0,
           "arrowwidth": 1
          },
          "autotypenumbers": "strict",
          "coloraxis": {
           "colorbar": {
            "outlinewidth": 0,
            "ticks": ""
           }
          },
          "colorscale": {
           "diverging": [
            [
             0,
             "#8e0152"
            ],
            [
             0.1,
             "#c51b7d"
            ],
            [
             0.2,
             "#de77ae"
            ],
            [
             0.3,
             "#f1b6da"
            ],
            [
             0.4,
             "#fde0ef"
            ],
            [
             0.5,
             "#f7f7f7"
            ],
            [
             0.6,
             "#e6f5d0"
            ],
            [
             0.7,
             "#b8e186"
            ],
            [
             0.8,
             "#7fbc41"
            ],
            [
             0.9,
             "#4d9221"
            ],
            [
             1,
             "#276419"
            ]
           ],
           "sequential": [
            [
             0,
             "#0d0887"
            ],
            [
             0.1111111111111111,
             "#46039f"
            ],
            [
             0.2222222222222222,
             "#7201a8"
            ],
            [
             0.3333333333333333,
             "#9c179e"
            ],
            [
             0.4444444444444444,
             "#bd3786"
            ],
            [
             0.5555555555555556,
             "#d8576b"
            ],
            [
             0.6666666666666666,
             "#ed7953"
            ],
            [
             0.7777777777777778,
             "#fb9f3a"
            ],
            [
             0.8888888888888888,
             "#fdca26"
            ],
            [
             1,
             "#f0f921"
            ]
           ],
           "sequentialminus": [
            [
             0,
             "#0d0887"
            ],
            [
             0.1111111111111111,
             "#46039f"
            ],
            [
             0.2222222222222222,
             "#7201a8"
            ],
            [
             0.3333333333333333,
             "#9c179e"
            ],
            [
             0.4444444444444444,
             "#bd3786"
            ],
            [
             0.5555555555555556,
             "#d8576b"
            ],
            [
             0.6666666666666666,
             "#ed7953"
            ],
            [
             0.7777777777777778,
             "#fb9f3a"
            ],
            [
             0.8888888888888888,
             "#fdca26"
            ],
            [
             1,
             "#f0f921"
            ]
           ]
          },
          "colorway": [
           "#636efa",
           "#EF553B",
           "#00cc96",
           "#ab63fa",
           "#FFA15A",
           "#19d3f3",
           "#FF6692",
           "#B6E880",
           "#FF97FF",
           "#FECB52"
          ],
          "font": {
           "color": "#2a3f5f"
          },
          "geo": {
           "bgcolor": "white",
           "lakecolor": "white",
           "landcolor": "#E5ECF6",
           "showlakes": true,
           "showland": true,
           "subunitcolor": "white"
          },
          "hoverlabel": {
           "align": "left"
          },
          "hovermode": "closest",
          "mapbox": {
           "style": "light"
          },
          "paper_bgcolor": "white",
          "plot_bgcolor": "#E5ECF6",
          "polar": {
           "angularaxis": {
            "gridcolor": "white",
            "linecolor": "white",
            "ticks": ""
           },
           "bgcolor": "#E5ECF6",
           "radialaxis": {
            "gridcolor": "white",
            "linecolor": "white",
            "ticks": ""
           }
          },
          "scene": {
           "xaxis": {
            "backgroundcolor": "#E5ECF6",
            "gridcolor": "white",
            "gridwidth": 2,
            "linecolor": "white",
            "showbackground": true,
            "ticks": "",
            "zerolinecolor": "white"
           },
           "yaxis": {
            "backgroundcolor": "#E5ECF6",
            "gridcolor": "white",
            "gridwidth": 2,
            "linecolor": "white",
            "showbackground": true,
            "ticks": "",
            "zerolinecolor": "white"
           },
           "zaxis": {
            "backgroundcolor": "#E5ECF6",
            "gridcolor": "white",
            "gridwidth": 2,
            "linecolor": "white",
            "showbackground": true,
            "ticks": "",
            "zerolinecolor": "white"
           }
          },
          "shapedefaults": {
           "line": {
            "color": "#2a3f5f"
           }
          },
          "ternary": {
           "aaxis": {
            "gridcolor": "white",
            "linecolor": "white",
            "ticks": ""
           },
           "baxis": {
            "gridcolor": "white",
            "linecolor": "white",
            "ticks": ""
           },
           "bgcolor": "#E5ECF6",
           "caxis": {
            "gridcolor": "white",
            "linecolor": "white",
            "ticks": ""
           }
          },
          "title": {
           "x": 0.05
          },
          "xaxis": {
           "automargin": true,
           "gridcolor": "white",
           "linecolor": "white",
           "ticks": "",
           "title": {
            "standoff": 15
           },
           "zerolinecolor": "white",
           "zerolinewidth": 2
          },
          "yaxis": {
           "automargin": true,
           "gridcolor": "white",
           "linecolor": "white",
           "ticks": "",
           "title": {
            "standoff": 15
           },
           "zerolinecolor": "white",
           "zerolinewidth": 2
          }
         }
        },
        "title": {
         "text": "\"Macro Fused: probempi vs nonprobempi\" Bandwidth Measurement"
        },
        "xaxis": {
         "ticks": "outside",
         "title": {
          "text": "Dirc_Data_Mov"
         }
        },
        "yaxis": {
         "ticks": "outside",
         "title": {
          "text": "Bandwidth/Node"
         }
        }
       }
      },
      "text/html": [
       "<div>                            <div id=\"58aaf3d4-e409-45d5-877e-5541e1998d2a\" class=\"plotly-graph-div\" style=\"height:525px; width:100%;\"></div>            <script type=\"text/javascript\">                require([\"plotly\"], function(Plotly) {                    window.PLOTLYENV=window.PLOTLYENV || {};                                    if (document.getElementById(\"58aaf3d4-e409-45d5-877e-5541e1998d2a\")) {                    Plotly.newPlot(                        \"58aaf3d4-e409-45d5-877e-5541e1998d2a\",                        [{\"line\":{\"color\":\"magenta\",\"width\":3},\"marker\":{\"line\":{\"color\":\"yellow\",\"width\":1},\"size\":9,\"symbol\":\"hexagon\"},\"mode\":\"lines+markers\",\"name\":\"MacFusNonProb_8mpi_4omp\",\"x\":[75497472,50331648,100663296,125829120,150994944,176160768,201326592,226492416,251658240,276824064,301989888,327155712,352321536,377487360,402653184],\"y\":[198.1328,199.8664,199.1208,199.8624,194.3496,184.052,165.0592,146.9848,131.072,123.5232,114.54,109.8992,105.3528,102.856,100.6752],\"type\":\"scatter\"},{\"line\":{\"color\":\"darkcyan\",\"width\":3},\"marker\":{\"line\":{\"color\":\"yellow\",\"width\":1},\"size\":9,\"symbol\":\"hexagon\"},\"mode\":\"lines+markers\",\"name\":\"MacFusProb_8mpi_4omp\",\"x\":[50331648,75497472,100663296,125829120,150994944,176160768,201326592,226492416,251658240,276824064,301989888,327155712,352321536,377487360,402653184],\"y\":[166.0216,164.34,170.1888,168.9264,165.6024,158.4824,145.728,131.0872,117.848,109.4272,103.4248,102.724,99.8176,99.0296,96.9888],\"type\":\"scatter\"},{\"line\":{\"color\":\"sandybrown\",\"width\":3},\"marker\":{\"line\":{\"color\":\"MediumPurple\",\"width\":2},\"size\":5,\"symbol\":\"diamond\"},\"mode\":\"lines+markers\",\"name\":\"MacFusNonProb_16mpi_2omp\",\"x\":[100663296,125829120,150994944,176160768,201326592,226492416,251658240,276824064,301989888,327155712,352321536,377487360,402653184],\"y\":[201.04,201.2128,181.6672,167.7264,150.74528,143.4896,136.71744,123.83952,117.74368,122.97264,116.64112,110.84,115.83456],\"type\":\"scatter\"},{\"line\":{\"color\":\"royalblue\",\"width\":3},\"marker\":{\"line\":{\"color\":\"MediumPurple\",\"width\":2},\"size\":5,\"symbol\":\"diamond\"},\"mode\":\"lines+markers\",\"name\":\"MacFusProb_16mpi_2omp\",\"x\":[100663296,125829120,150994944,176160768,201326592,226492416,251658240,276824064,301989888,327155712,352321536,377487360,402653184],\"y\":[190.4992,173.2528,168.9728,150.4944,148.58768,131.43392,128.56944,123.18608,115.3208,111.04864,115.2976,110.84608,110.52688],\"type\":\"scatter\"},{\"line\":{\"color\":\"cyan\",\"width\":3},\"marker\":{\"line\":{\"color\":\"Purple\",\"width\":2},\"size\":7,\"symbol\":\"circle\"},\"mode\":\"lines+markers\",\"name\":\"MacFusnonProb_32mpi_1omp\",\"x\":[201326592,251658240,301989888,352321536,402653184],\"y\":[136.25984,120.9472,115.3072,111.73984,109.51136],\"type\":\"scatter\"},{\"line\":{\"color\":\"darkblue\",\"width\":3},\"marker\":{\"line\":{\"color\":\"tomato\",\"width\":2},\"size\":7,\"symbol\":\"circle\"},\"mode\":\"lines+markers\",\"name\":\"MacFusProb_32mpi_1omp\",\"x\":[201326592,251658240,301989888,352321536,402653184],\"y\":[129.91264,116.1744,112.24768,108.10464,106.90528],\"type\":\"scatter\"}],                        {\"template\":{\"data\":{\"histogram2dcontour\":[{\"type\":\"histogram2dcontour\",\"colorbar\":{\"outlinewidth\":0,\"ticks\":\"\"},\"colorscale\":[[0.0,\"#0d0887\"],[0.1111111111111111,\"#46039f\"],[0.2222222222222222,\"#7201a8\"],[0.3333333333333333,\"#9c179e\"],[0.4444444444444444,\"#bd3786\"],[0.5555555555555556,\"#d8576b\"],[0.6666666666666666,\"#ed7953\"],[0.7777777777777778,\"#fb9f3a\"],[0.8888888888888888,\"#fdca26\"],[1.0,\"#f0f921\"]]}],\"choropleth\":[{\"type\":\"choropleth\",\"colorbar\":{\"outlinewidth\":0,\"ticks\":\"\"}}],\"histogram2d\":[{\"type\":\"histogram2d\",\"colorbar\":{\"outlinewidth\":0,\"ticks\":\"\"},\"colorscale\":[[0.0,\"#0d0887\"],[0.1111111111111111,\"#46039f\"],[0.2222222222222222,\"#7201a8\"],[0.3333333333333333,\"#9c179e\"],[0.4444444444444444,\"#bd3786\"],[0.5555555555555556,\"#d8576b\"],[0.6666666666666666,\"#ed7953\"],[0.7777777777777778,\"#fb9f3a\"],[0.8888888888888888,\"#fdca26\"],[1.0,\"#f0f921\"]]}],\"heatmap\":[{\"type\":\"heatmap\",\"colorbar\":{\"outlinewidth\":0,\"ticks\":\"\"},\"colorscale\":[[0.0,\"#0d0887\"],[0.1111111111111111,\"#46039f\"],[0.2222222222222222,\"#7201a8\"],[0.3333333333333333,\"#9c179e\"],[0.4444444444444444,\"#bd3786\"],[0.5555555555555556,\"#d8576b\"],[0.6666666666666666,\"#ed7953\"],[0.7777777777777778,\"#fb9f3a\"],[0.8888888888888888,\"#fdca26\"],[1.0,\"#f0f921\"]]}],\"heatmapgl\":[{\"type\":\"heatmapgl\",\"colorbar\":{\"outlinewidth\":0,\"ticks\":\"\"},\"colorscale\":[[0.0,\"#0d0887\"],[0.1111111111111111,\"#46039f\"],[0.2222222222222222,\"#7201a8\"],[0.3333333333333333,\"#9c179e\"],[0.4444444444444444,\"#bd3786\"],[0.5555555555555556,\"#d8576b\"],[0.6666666666666666,\"#ed7953\"],[0.7777777777777778,\"#fb9f3a\"],[0.8888888888888888,\"#fdca26\"],[1.0,\"#f0f921\"]]}],\"contourcarpet\":[{\"type\":\"contourcarpet\",\"colorbar\":{\"outlinewidth\":0,\"ticks\":\"\"}}],\"contour\":[{\"type\":\"contour\",\"colorbar\":{\"outlinewidth\":0,\"ticks\":\"\"},\"colorscale\":[[0.0,\"#0d0887\"],[0.1111111111111111,\"#46039f\"],[0.2222222222222222,\"#7201a8\"],[0.3333333333333333,\"#9c179e\"],[0.4444444444444444,\"#bd3786\"],[0.5555555555555556,\"#d8576b\"],[0.6666666666666666,\"#ed7953\"],[0.7777777777777778,\"#fb9f3a\"],[0.8888888888888888,\"#fdca26\"],[1.0,\"#f0f921\"]]}],\"surface\":[{\"type\":\"surface\",\"colorbar\":{\"outlinewidth\":0,\"ticks\":\"\"},\"colorscale\":[[0.0,\"#0d0887\"],[0.1111111111111111,\"#46039f\"],[0.2222222222222222,\"#7201a8\"],[0.3333333333333333,\"#9c179e\"],[0.4444444444444444,\"#bd3786\"],[0.5555555555555556,\"#d8576b\"],[0.6666666666666666,\"#ed7953\"],[0.7777777777777778,\"#fb9f3a\"],[0.8888888888888888,\"#fdca26\"],[1.0,\"#f0f921\"]]}],\"mesh3d\":[{\"type\":\"mesh3d\",\"colorbar\":{\"outlinewidth\":0,\"ticks\":\"\"}}],\"scatter\":[{\"fillpattern\":{\"fillmode\":\"overlay\",\"size\":10,\"solidity\":0.2},\"type\":\"scatter\"}],\"parcoords\":[{\"type\":\"parcoords\",\"line\":{\"colorbar\":{\"outlinewidth\":0,\"ticks\":\"\"}}}],\"scatterpolargl\":[{\"type\":\"scatterpolargl\",\"marker\":{\"colorbar\":{\"outlinewidth\":0,\"ticks\":\"\"}}}],\"bar\":[{\"error_x\":{\"color\":\"#2a3f5f\"},\"error_y\":{\"color\":\"#2a3f5f\"},\"marker\":{\"line\":{\"color\":\"#E5ECF6\",\"width\":0.5},\"pattern\":{\"fillmode\":\"overlay\",\"size\":10,\"solidity\":0.2}},\"type\":\"bar\"}],\"scattergeo\":[{\"type\":\"scattergeo\",\"marker\":{\"colorbar\":{\"outlinewidth\":0,\"ticks\":\"\"}}}],\"scatterpolar\":[{\"type\":\"scatterpolar\",\"marker\":{\"colorbar\":{\"outlinewidth\":0,\"ticks\":\"\"}}}],\"histogram\":[{\"marker\":{\"pattern\":{\"fillmode\":\"overlay\",\"size\":10,\"solidity\":0.2}},\"type\":\"histogram\"}],\"scattergl\":[{\"type\":\"scattergl\",\"marker\":{\"colorbar\":{\"outlinewidth\":0,\"ticks\":\"\"}}}],\"scatter3d\":[{\"type\":\"scatter3d\",\"line\":{\"colorbar\":{\"outlinewidth\":0,\"ticks\":\"\"}},\"marker\":{\"colorbar\":{\"outlinewidth\":0,\"ticks\":\"\"}}}],\"scattermapbox\":[{\"type\":\"scattermapbox\",\"marker\":{\"colorbar\":{\"outlinewidth\":0,\"ticks\":\"\"}}}],\"scatterternary\":[{\"type\":\"scatterternary\",\"marker\":{\"colorbar\":{\"outlinewidth\":0,\"ticks\":\"\"}}}],\"scattercarpet\":[{\"type\":\"scattercarpet\",\"marker\":{\"colorbar\":{\"outlinewidth\":0,\"ticks\":\"\"}}}],\"carpet\":[{\"aaxis\":{\"endlinecolor\":\"#2a3f5f\",\"gridcolor\":\"white\",\"linecolor\":\"white\",\"minorgridcolor\":\"white\",\"startlinecolor\":\"#2a3f5f\"},\"baxis\":{\"endlinecolor\":\"#2a3f5f\",\"gridcolor\":\"white\",\"linecolor\":\"white\",\"minorgridcolor\":\"white\",\"startlinecolor\":\"#2a3f5f\"},\"type\":\"carpet\"}],\"table\":[{\"cells\":{\"fill\":{\"color\":\"#EBF0F8\"},\"line\":{\"color\":\"white\"}},\"header\":{\"fill\":{\"color\":\"#C8D4E3\"},\"line\":{\"color\":\"white\"}},\"type\":\"table\"}],\"barpolar\":[{\"marker\":{\"line\":{\"color\":\"#E5ECF6\",\"width\":0.5},\"pattern\":{\"fillmode\":\"overlay\",\"size\":10,\"solidity\":0.2}},\"type\":\"barpolar\"}],\"pie\":[{\"automargin\":true,\"type\":\"pie\"}]},\"layout\":{\"autotypenumbers\":\"strict\",\"colorway\":[\"#636efa\",\"#EF553B\",\"#00cc96\",\"#ab63fa\",\"#FFA15A\",\"#19d3f3\",\"#FF6692\",\"#B6E880\",\"#FF97FF\",\"#FECB52\"],\"font\":{\"color\":\"#2a3f5f\"},\"hovermode\":\"closest\",\"hoverlabel\":{\"align\":\"left\"},\"paper_bgcolor\":\"white\",\"plot_bgcolor\":\"#E5ECF6\",\"polar\":{\"bgcolor\":\"#E5ECF6\",\"angularaxis\":{\"gridcolor\":\"white\",\"linecolor\":\"white\",\"ticks\":\"\"},\"radialaxis\":{\"gridcolor\":\"white\",\"linecolor\":\"white\",\"ticks\":\"\"}},\"ternary\":{\"bgcolor\":\"#E5ECF6\",\"aaxis\":{\"gridcolor\":\"white\",\"linecolor\":\"white\",\"ticks\":\"\"},\"baxis\":{\"gridcolor\":\"white\",\"linecolor\":\"white\",\"ticks\":\"\"},\"caxis\":{\"gridcolor\":\"white\",\"linecolor\":\"white\",\"ticks\":\"\"}},\"coloraxis\":{\"colorbar\":{\"outlinewidth\":0,\"ticks\":\"\"}},\"colorscale\":{\"sequential\":[[0.0,\"#0d0887\"],[0.1111111111111111,\"#46039f\"],[0.2222222222222222,\"#7201a8\"],[0.3333333333333333,\"#9c179e\"],[0.4444444444444444,\"#bd3786\"],[0.5555555555555556,\"#d8576b\"],[0.6666666666666666,\"#ed7953\"],[0.7777777777777778,\"#fb9f3a\"],[0.8888888888888888,\"#fdca26\"],[1.0,\"#f0f921\"]],\"sequentialminus\":[[0.0,\"#0d0887\"],[0.1111111111111111,\"#46039f\"],[0.2222222222222222,\"#7201a8\"],[0.3333333333333333,\"#9c179e\"],[0.4444444444444444,\"#bd3786\"],[0.5555555555555556,\"#d8576b\"],[0.6666666666666666,\"#ed7953\"],[0.7777777777777778,\"#fb9f3a\"],[0.8888888888888888,\"#fdca26\"],[1.0,\"#f0f921\"]],\"diverging\":[[0,\"#8e0152\"],[0.1,\"#c51b7d\"],[0.2,\"#de77ae\"],[0.3,\"#f1b6da\"],[0.4,\"#fde0ef\"],[0.5,\"#f7f7f7\"],[0.6,\"#e6f5d0\"],[0.7,\"#b8e186\"],[0.8,\"#7fbc41\"],[0.9,\"#4d9221\"],[1,\"#276419\"]]},\"xaxis\":{\"gridcolor\":\"white\",\"linecolor\":\"white\",\"ticks\":\"\",\"title\":{\"standoff\":15},\"zerolinecolor\":\"white\",\"automargin\":true,\"zerolinewidth\":2},\"yaxis\":{\"gridcolor\":\"white\",\"linecolor\":\"white\",\"ticks\":\"\",\"title\":{\"standoff\":15},\"zerolinecolor\":\"white\",\"automargin\":true,\"zerolinewidth\":2},\"scene\":{\"xaxis\":{\"backgroundcolor\":\"#E5ECF6\",\"gridcolor\":\"white\",\"linecolor\":\"white\",\"showbackground\":true,\"ticks\":\"\",\"zerolinecolor\":\"white\",\"gridwidth\":2},\"yaxis\":{\"backgroundcolor\":\"#E5ECF6\",\"gridcolor\":\"white\",\"linecolor\":\"white\",\"showbackground\":true,\"ticks\":\"\",\"zerolinecolor\":\"white\",\"gridwidth\":2},\"zaxis\":{\"backgroundcolor\":\"#E5ECF6\",\"gridcolor\":\"white\",\"linecolor\":\"white\",\"showbackground\":true,\"ticks\":\"\",\"zerolinecolor\":\"white\",\"gridwidth\":2}},\"shapedefaults\":{\"line\":{\"color\":\"#2a3f5f\"}},\"annotationdefaults\":{\"arrowcolor\":\"#2a3f5f\",\"arrowhead\":0,\"arrowwidth\":1},\"geo\":{\"bgcolor\":\"white\",\"landcolor\":\"#E5ECF6\",\"subunitcolor\":\"white\",\"showland\":true,\"showlakes\":true,\"lakecolor\":\"white\"},\"title\":{\"x\":0.05},\"mapbox\":{\"style\":\"light\"}}},\"shapes\":[{\"line\":{\"color\":\"green\",\"dash\":\"dot\",\"width\":3},\"type\":\"line\",\"x0\":80000000.0,\"x1\":80000000.0,\"xref\":\"x\",\"y0\":0,\"y1\":1,\"yref\":\"y domain\"},{\"line\":{\"color\":\"red\",\"dash\":\"dash\",\"width\":3},\"type\":\"line\",\"x0\":0,\"x1\":1,\"xref\":\"x domain\",\"y0\":153,\"y1\":153,\"yref\":\"y\"}],\"annotations\":[{\"align\":\"left\",\"arrowcolor\":\"#636363\",\"arrowhead\":1,\"arrowsize\":1,\"arrowwidth\":2,\"ax\":-20,\"ay\":-30,\"font\":{\"color\":\"purple\",\"family\":\"Sans Serif\",\"size\":12},\"showarrow\":false,\"text\":\"LLC Size Per Node: 80M\",\"x\":\"80e6\",\"y\":280,\"yanchor\":\"bottom\"},{\"align\":\"left\",\"arrowcolor\":\"#636363\",\"arrowhead\":1,\"arrowsize\":1,\"arrowwidth\":2,\"ax\":-20,\"ay\":-30,\"font\":{\"color\":\"orange\",\"family\":\"Sans Serif\",\"size\":12},\"showarrow\":false,\"text\":\"Max Bandwidth Per Node\",\"x\":\"130e6\",\"y\":155,\"yanchor\":\"bottom\"}],\"xaxis\":{\"title\":{\"text\":\"Dirc_Data_Mov\"},\"ticks\":\"outside\"},\"yaxis\":{\"title\":{\"text\":\"Bandwidth/Node\"},\"ticks\":\"outside\"},\"title\":{\"text\":\"\\\"Macro Fused: probempi vs nonprobempi\\\" Bandwidth Measurement\"}},                        {\"responsive\": true}                    ).then(function(){\n",
       "                            \n",
       "var gd = document.getElementById('58aaf3d4-e409-45d5-877e-5541e1998d2a');\n",
       "var x = new MutationObserver(function (mutations, observer) {{\n",
       "        var display = window.getComputedStyle(gd).display;\n",
       "        if (!display || display === 'none') {{\n",
       "            console.log([gd, 'removed!']);\n",
       "            Plotly.purge(gd);\n",
       "            observer.disconnect();\n",
       "        }}\n",
       "}});\n",
       "\n",
       "// Listen for the removal of the full notebook cells\n",
       "var notebookContainer = gd.closest('#notebook-container');\n",
       "if (notebookContainer) {{\n",
       "    x.observe(notebookContainer, {childList: true});\n",
       "}}\n",
       "\n",
       "// Listen for the clearing of the current output cell\n",
       "var outputEl = gd.closest('.output');\n",
       "if (outputEl) {{\n",
       "    x.observe(outputEl, {childList: true});\n",
       "}}\n",
       "\n",
       "                        })                };                });            </script>        </div>"
      ]
     },
     "metadata": {},
     "output_type": "display_data"
    }
   ],
   "source": [
    "fig = go.Figure() \n",
    "\n",
    "fig.add_trace(go.Scatter(x=(dfMacFusNonProb_8mpi_4omp.Dirc_Data_Mov*(dfMacFusNonProb_8mpi_4omp.MPI_size)), \n",
    "                         y=(dfMacFusNonProb_8mpi_4omp.BAND*(dfMacFusNonProb_8mpi_4omp.MPI_size)), \n",
    "                         mode='lines+markers', \n",
    "                         name='MacFusNonProb_8mpi_4omp',\n",
    "                         line=dict(color='magenta',width=3),\n",
    "                         marker=dict(symbol='hexagon',size=9, line=dict(color='yellow',width=1))))\n",
    "\n",
    "\n",
    "fig.add_trace(go.Scatter(x=(dfMacFusProb_8mpi_4omp.Dirc_Data_Mov*(dfMacFusProb_8mpi_4omp.MPI_size)), \n",
    "                         y=(dfMacFusProb_8mpi_4omp.BAND*(dfMacFusProb_8mpi_4omp.MPI_size)), \n",
    "                         mode='lines+markers', \n",
    "                         name='MacFusProb_8mpi_4omp',\n",
    "                         line=dict(color='darkcyan',width=3),\n",
    "                         marker=dict(symbol='hexagon',size=9, line=dict(color='yellow',width=1))))\n",
    "\n",
    "\n",
    "\n",
    "\n",
    "\n",
    "fig.add_trace(go.Scatter(x=(dfMacFusNonProb_16mpi_2omp.Dirc_Data_Mov*(dfMacFusNonProb_16mpi_2omp.MPI_size)), \n",
    "                         y=(dfMacFusNonProb_16mpi_2omp.BAND*(dfMacFusNonProb_16mpi_2omp.MPI_size)), \n",
    "                         mode='lines+markers', \n",
    "                         name='MacFusNonProb_16mpi_2omp',\n",
    "                         line=dict(color='sandybrown',width=3),\n",
    "                         marker=dict(symbol='diamond',size=5,line=dict(color='MediumPurple',width=2))))\n",
    "\n",
    "fig.add_trace(go.Scatter(x=(dfMacFusProb_16mpi_2omp.Dirc_Data_Mov*(dfMacFusProb_16mpi_2omp.MPI_size)), \n",
    "                         y=(dfMacFusProb_16mpi_2omp.BAND*(dfMacFusProb_16mpi_2omp.MPI_size)), \n",
    "                         mode='lines+markers', \n",
    "                         name='MacFusProb_16mpi_2omp',\n",
    "                         line=dict(color='royalblue',width=3),\n",
    "                         marker=dict(symbol='diamond',size=5,line=dict(color='MediumPurple',width=2))))\n",
    "\n",
    "\n",
    "fig.add_trace(go.Scatter(x=(dfMacFusnonProb_32mpi_1omp.Dirc_Data_Mov*(dfMacFusnonProb_32mpi_1omp.MPI_size)), \n",
    "                         y=(dfMacFusnonProb_32mpi_1omp.BAND*(dfMacFusnonProb_32mpi_1omp.MPI_size)), \n",
    "                         mode='lines+markers', \n",
    "                         name='MacFusnonProb_32mpi_1omp',\n",
    "                         line=dict(color='cyan',width=3),\n",
    "                         marker=dict(symbol='circle',size=7,line=dict(color='Purple',width=2))))\n",
    "\n",
    "\n",
    "fig.add_trace(go.Scatter(x=(dfMacFusProb_32mpi_1omp.Dirc_Data_Mov*(dfMacFusProb_32mpi_1omp.MPI_size)), \n",
    "                         y=(dfMacFusProb_32mpi_1omp.BAND*(dfMacFusProb_32mpi_1omp.MPI_size)), \n",
    "                         mode='lines+markers', \n",
    "                         name='MacFusProb_32mpi_1omp',\n",
    "                         line=dict(color='darkblue',width=3),\n",
    "                         marker=dict(symbol='circle',size=7, line=dict(color='tomato',width=2))))\n",
    "\n",
    "\n",
    "# Adding vertical and horizontal lines \n",
    "fig.add_vline(x=80e6, line_width=3, line_dash=\"dot\", line_color=\"green\")\n",
    "fig.add_hline(y=153, line_width=3, line_dash=\"dash\", line_color=\"red\")\n",
    "\n",
    "# Add annotation with arrow\n",
    "fig.add_annotation(\n",
    "    x='80e6'\n",
    "    , y=280\n",
    "    , text=f'LLC Size Per Node: 80M'\n",
    "    , yanchor='bottom'\n",
    "    , showarrow=False\n",
    "    , arrowhead=1\n",
    "    , arrowsize=1\n",
    "    , arrowwidth=2\n",
    "    , arrowcolor=\"#636363\"\n",
    "    , ax=-20\n",
    "    , ay=-30\n",
    "    , font=dict(size=12, color=\"purple\", family=\"Sans Serif\")\n",
    "    , align=\"left\"\n",
    "    ,)\n",
    "\n",
    "fig.add_annotation(\n",
    "    x='130e6'\n",
    "    , y=155\n",
    "    , text=f'Max Bandwidth Per Node'\n",
    "    , yanchor='bottom'\n",
    "    , showarrow=False\n",
    "    , arrowhead=1\n",
    "    , arrowsize=1\n",
    "    , arrowwidth=2\n",
    "    , arrowcolor=\"#636363\"\n",
    "    , ax=-20\n",
    "    , ay=-30\n",
    "    , font=dict(size=12, color=\"orange\", family=\"Sans Serif\")\n",
    "    , align=\"left\"\n",
    "    ,)\n",
    "\n",
    "\n",
    "fig.update_layout(title='\"Macro Fused: probempi vs nonprobempi\" Bandwidth Measurement',\n",
    "                  xaxis_title='Dirc_Data_Mov', yaxis_title='Bandwidth/Node', \n",
    "                  xaxis=dict(ticks=\"outside\"),  \n",
    "                  yaxis=dict(ticks=\"outside\")) \n",
    "\n"
   ]
  },
  {
   "cell_type": "code",
   "execution_count": null,
   "id": "c8fb18d0",
   "metadata": {},
   "outputs": [],
   "source": []
  },
  {
   "cell_type": "markdown",
   "id": "bc0b5740",
   "metadata": {},
   "source": [
    "### 3. macro_nonfused_probempi "
   ]
  },
  {
   "cell_type": "code",
   "execution_count": 94,
   "id": "c9f9c1ee",
   "metadata": {},
   "outputs": [],
   "source": [
    "df_macro_nonfused_probempi[\"N_Nodes\"] = 1\n",
    "df_macro_nonfused_probempi['NPX'] = (df_macro_nonfused_probempi.GLB_X//df_macro_nonfused_probempi.LOC_X)\n",
    "df_macro_nonfused_probempi['NPY'] = (df_macro_nonfused_probempi.GLB_Y//df_macro_nonfused_probempi.LOC_Y)\n",
    "df_macro_nonfused_probempi['NPZ'] = (df_macro_nonfused_probempi.GLB_Z//df_macro_nonfused_probempi.LOC_Z)\n",
    "df_macro_nonfused_probempi['NPT'] = (df_macro_nonfused_probempi.GLB_T//df_macro_nonfused_probempi.LOC_T)\n",
    "df_macro_nonfused_probempi[\"Total_proc\"] = df_macro_nonfused_probempi[\"omp_thrd\"]* df_macro_nonfused_probempi.MPI_size\n",
    "# df_macro_nonfused_probempi.columns"
   ]
  },
  {
   "cell_type": "code",
   "execution_count": 95,
   "id": "368fc773",
   "metadata": {},
   "outputs": [
    {
     "data": {
      "text/html": [
       "<div>\n",
       "<style scoped>\n",
       "    .dataframe tbody tr th:only-of-type {\n",
       "        vertical-align: middle;\n",
       "    }\n",
       "\n",
       "    .dataframe tbody tr th {\n",
       "        vertical-align: top;\n",
       "    }\n",
       "\n",
       "    .dataframe thead th {\n",
       "        text-align: right;\n",
       "    }\n",
       "</style>\n",
       "<table border=\"1\" class=\"dataframe\">\n",
       "  <thead>\n",
       "    <tr style=\"text-align: right;\">\n",
       "      <th></th>\n",
       "      <th>MPI_size</th>\n",
       "      <th>omp_thrd</th>\n",
       "      <th>NPT</th>\n",
       "      <th>NPX</th>\n",
       "      <th>NPY</th>\n",
       "      <th>NPZ</th>\n",
       "      <th>Total_proc</th>\n",
       "      <th>size</th>\n",
       "    </tr>\n",
       "  </thead>\n",
       "  <tbody>\n",
       "    <tr>\n",
       "      <th>0</th>\n",
       "      <td>8</td>\n",
       "      <td>4</td>\n",
       "      <td>1</td>\n",
       "      <td>2</td>\n",
       "      <td>2</td>\n",
       "      <td>2</td>\n",
       "      <td>32</td>\n",
       "      <td>15</td>\n",
       "    </tr>\n",
       "    <tr>\n",
       "      <th>1</th>\n",
       "      <td>16</td>\n",
       "      <td>2</td>\n",
       "      <td>2</td>\n",
       "      <td>2</td>\n",
       "      <td>2</td>\n",
       "      <td>2</td>\n",
       "      <td>32</td>\n",
       "      <td>13</td>\n",
       "    </tr>\n",
       "    <tr>\n",
       "      <th>2</th>\n",
       "      <td>32</td>\n",
       "      <td>1</td>\n",
       "      <td>4</td>\n",
       "      <td>2</td>\n",
       "      <td>2</td>\n",
       "      <td>2</td>\n",
       "      <td>32</td>\n",
       "      <td>5</td>\n",
       "    </tr>\n",
       "  </tbody>\n",
       "</table>\n",
       "</div>"
      ],
      "text/plain": [
       "   MPI_size  omp_thrd  NPT  NPX  NPY  NPZ  Total_proc  size\n",
       "0         8         4    1    2    2    2          32    15\n",
       "1        16         2    2    2    2    2          32    13\n",
       "2        32         1    4    2    2    2          32     5"
      ]
     },
     "execution_count": 95,
     "metadata": {},
     "output_type": "execute_result"
    }
   ],
   "source": [
    "df_macro_nonfused_probempi_summary = df_macro_nonfused_probempi.groupby(['MPI_size','omp_thrd','NPT','NPX', 'NPY', 'NPZ',\"Total_proc\"]).size().reset_index(name = 'size')\n",
    "df_macro_nonfused_probempi_summary"
   ]
  },
  {
   "cell_type": "code",
   "execution_count": 98,
   "id": "47cd4265",
   "metadata": {},
   "outputs": [],
   "source": [
    "dfMacNonFusProb_8mpi_4omp = df_macro_nonfused_probempi[(df_macro_nonfused_probempi.omp_thrd == 4) & (df_macro_nonfused_probempi.GLB_T/df_macro_nonfused_probempi.LOC_T == 1) & (df_macro_nonfused_probempi.GLB_X/df_macro_nonfused_probempi.LOC_X == 2) & (df_macro_nonfused_probempi.GLB_Y/df_macro_nonfused_probempi.LOC_Y == 2)& (df_macro_nonfused_probempi.GLB_Z/df_macro_nonfused_probempi.LOC_Z == 2)]\n",
    "dfMacNonFusProb_16mpi_2omp = df_macro_nonfused_probempi[(df_macro_nonfused_probempi.omp_thrd == 2) & (df_macro_nonfused_probempi.GLB_T/df_macro_nonfused_probempi.LOC_T == 2) & (df_macro_nonfused_probempi.GLB_X/df_macro_nonfused_probempi.LOC_X == 2) & (df_macro_nonfused_probempi.GLB_Y/df_macro_nonfused_probempi.LOC_Y == 2)& (df_macro_nonfused_probempi.GLB_Z/df_macro_nonfused_probempi.LOC_Z == 2)]\n",
    "dfMacNonFusProb_32mpi_1omp = df_macro_nonfused_probempi[(df_macro_nonfused_probempi.omp_thrd == 1) & (df_macro_nonfused_probempi.GLB_T/df_macro_nonfused_probempi.LOC_T == 4) & (df_macro_nonfused_probempi.GLB_X/df_macro_nonfused_probempi.LOC_X == 2) & (df_macro_nonfused_probempi.GLB_Y/df_macro_nonfused_probempi.LOC_Y == 2)& (df_macro_nonfused_probempi.GLB_Z/df_macro_nonfused_probempi.LOC_Z == 2)]\n"
   ]
  },
  {
   "cell_type": "markdown",
   "id": "ea15555c",
   "metadata": {},
   "source": [
    "### 4. macro_nonfused_nonprobempi  "
   ]
  },
  {
   "cell_type": "code",
   "execution_count": 96,
   "id": "4e20030f",
   "metadata": {},
   "outputs": [],
   "source": [
    "df_macro_nonfused_nonprobempi[\"N_Nodes\"] = 1\n",
    "df_macro_nonfused_nonprobempi['NPX'] = (df_macro_nonfused_nonprobempi.GLB_X//df_macro_nonfused_nonprobempi.LOC_X)\n",
    "df_macro_nonfused_nonprobempi['NPY'] = (df_macro_nonfused_nonprobempi.GLB_Y//df_macro_nonfused_nonprobempi.LOC_Y)\n",
    "df_macro_nonfused_nonprobempi['NPZ'] = (df_macro_nonfused_nonprobempi.GLB_Z//df_macro_nonfused_nonprobempi.LOC_Z)\n",
    "df_macro_nonfused_nonprobempi['NPT'] = (df_macro_nonfused_nonprobempi.GLB_T//df_macro_nonfused_nonprobempi.LOC_T)\n",
    "df_macro_nonfused_nonprobempi[\"Total_proc\"] = df_macro_nonfused_nonprobempi[\"omp_thrd\"]* df_macro_nonfused_nonprobempi.MPI_size\n",
    "# df_macro_nonfused_nonprobempi.columns"
   ]
  },
  {
   "cell_type": "code",
   "execution_count": 97,
   "id": "cdc9cb80",
   "metadata": {},
   "outputs": [
    {
     "data": {
      "text/html": [
       "<div>\n",
       "<style scoped>\n",
       "    .dataframe tbody tr th:only-of-type {\n",
       "        vertical-align: middle;\n",
       "    }\n",
       "\n",
       "    .dataframe tbody tr th {\n",
       "        vertical-align: top;\n",
       "    }\n",
       "\n",
       "    .dataframe thead th {\n",
       "        text-align: right;\n",
       "    }\n",
       "</style>\n",
       "<table border=\"1\" class=\"dataframe\">\n",
       "  <thead>\n",
       "    <tr style=\"text-align: right;\">\n",
       "      <th></th>\n",
       "      <th>MPI_size</th>\n",
       "      <th>omp_thrd</th>\n",
       "      <th>NPT</th>\n",
       "      <th>NPX</th>\n",
       "      <th>NPY</th>\n",
       "      <th>NPZ</th>\n",
       "      <th>Total_proc</th>\n",
       "      <th>size</th>\n",
       "    </tr>\n",
       "  </thead>\n",
       "  <tbody>\n",
       "    <tr>\n",
       "      <th>0</th>\n",
       "      <td>8</td>\n",
       "      <td>4</td>\n",
       "      <td>1</td>\n",
       "      <td>2</td>\n",
       "      <td>2</td>\n",
       "      <td>2</td>\n",
       "      <td>32</td>\n",
       "      <td>15</td>\n",
       "    </tr>\n",
       "    <tr>\n",
       "      <th>1</th>\n",
       "      <td>16</td>\n",
       "      <td>2</td>\n",
       "      <td>2</td>\n",
       "      <td>2</td>\n",
       "      <td>2</td>\n",
       "      <td>2</td>\n",
       "      <td>32</td>\n",
       "      <td>13</td>\n",
       "    </tr>\n",
       "    <tr>\n",
       "      <th>2</th>\n",
       "      <td>32</td>\n",
       "      <td>1</td>\n",
       "      <td>4</td>\n",
       "      <td>2</td>\n",
       "      <td>2</td>\n",
       "      <td>2</td>\n",
       "      <td>32</td>\n",
       "      <td>5</td>\n",
       "    </tr>\n",
       "  </tbody>\n",
       "</table>\n",
       "</div>"
      ],
      "text/plain": [
       "   MPI_size  omp_thrd  NPT  NPX  NPY  NPZ  Total_proc  size\n",
       "0         8         4    1    2    2    2          32    15\n",
       "1        16         2    2    2    2    2          32    13\n",
       "2        32         1    4    2    2    2          32     5"
      ]
     },
     "execution_count": 97,
     "metadata": {},
     "output_type": "execute_result"
    }
   ],
   "source": [
    "df_macro_nonfused_nonprobempi_summary = df_macro_nonfused_nonprobempi.groupby(['MPI_size','omp_thrd','NPT','NPX', 'NPY', 'NPZ',\"Total_proc\"]).size().reset_index(name = 'size')\n",
    "df_macro_nonfused_nonprobempi_summary"
   ]
  },
  {
   "cell_type": "code",
   "execution_count": 99,
   "id": "9a14320e",
   "metadata": {},
   "outputs": [],
   "source": [
    "dfMacNonFusNonProb_8mpi_4omp = df_macro_nonfused_nonprobempi[(df_macro_nonfused_nonprobempi.omp_thrd == 4) & (df_macro_nonfused_nonprobempi.GLB_T/df_macro_nonfused_nonprobempi.LOC_T == 1) & (df_macro_nonfused_nonprobempi.GLB_X/df_macro_nonfused_nonprobempi.LOC_X == 2) & (df_macro_nonfused_nonprobempi.GLB_Y/df_macro_nonfused_nonprobempi.LOC_Y == 2)& (df_macro_nonfused_nonprobempi.GLB_Z/df_macro_nonfused_nonprobempi.LOC_Z == 2)]\n",
    "dfMacNonFusNonProb_16mpi_2omp = df_macro_nonfused_nonprobempi[(df_macro_nonfused_nonprobempi.omp_thrd == 2) & (df_macro_nonfused_nonprobempi.GLB_T/df_macro_nonfused_nonprobempi.LOC_T == 2) & (df_macro_nonfused_nonprobempi.GLB_X/df_macro_nonfused_nonprobempi.LOC_X == 2) & (df_macro_nonfused_nonprobempi.GLB_Y/df_macro_nonfused_nonprobempi.LOC_Y == 2)& (df_macro_nonfused_nonprobempi.GLB_Z/df_macro_nonfused_nonprobempi.LOC_Z == 2)]\n",
    "dfMacNonFusNonProb_32mpi_1omp = df_macro_nonfused_nonprobempi[(df_macro_nonfused_nonprobempi.omp_thrd == 1) & (df_macro_nonfused_nonprobempi.GLB_T/df_macro_nonfused_nonprobempi.LOC_T == 4) & (df_macro_nonfused_nonprobempi.GLB_X/df_macro_nonfused_nonprobempi.LOC_X == 2) & (df_macro_nonfused_nonprobempi.GLB_Y/df_macro_nonfused_nonprobempi.LOC_Y == 2)& (df_macro_nonfused_nonprobempi.GLB_Z/df_macro_nonfused_nonprobempi.LOC_Z == 2)]\n"
   ]
  },
  {
   "cell_type": "markdown",
   "id": "54ea1226",
   "metadata": {},
   "source": [
    "## FLOTS - Macro nonfused: Probempi vs Nonprobempi"
   ]
  },
  {
   "cell_type": "code",
   "execution_count": 106,
   "id": "f2f62036",
   "metadata": {},
   "outputs": [
    {
     "data": {
      "application/vnd.plotly.v1+json": {
       "config": {
        "plotlyServerURL": "https://plot.ly"
       },
       "data": [
        {
         "line": {
          "color": "magenta",
          "width": 3
         },
         "marker": {
          "line": {
           "color": "yellow",
           "width": 1
          },
          "size": 9,
          "symbol": "hexagon"
         },
         "mode": "lines+markers",
         "name": "MacNonFusProb_8mpi_4omp",
         "type": "scatter",
         "x": [
          50331648,
          75497472,
          100663296,
          125829120,
          150994944,
          176160768,
          201326592,
          226492416,
          251658240,
          276824064,
          301989888,
          327155712,
          352321536,
          377487360,
          402653184
         ],
         "y": [
          42.29424,
          41.69448,
          41.20624,
          41.31152,
          41.40032,
          39.5516,
          37.15384,
          35.05872,
          33.5404,
          32.60064,
          31.82776,
          30.95488,
          29.43912,
          30.10792,
          29.5464
         ]
        },
        {
         "line": {
          "color": "darkcyan",
          "width": 3
         },
         "marker": {
          "line": {
           "color": "yellow",
           "width": 1
          },
          "size": 9,
          "symbol": "hexagon"
         },
         "mode": "lines+markers",
         "name": "MacFusProb_8mpi_4omp",
         "type": "scatter",
         "x": [
          50331648,
          75497472,
          100663296,
          125829120,
          150994944,
          176160768,
          201326592,
          226492416,
          251658240,
          276824064,
          301989888,
          327155712,
          352321536,
          377487360,
          402653184
         ],
         "y": [
          63.28096,
          64.31184,
          65.31528,
          65.86984,
          64.33304,
          62.65992,
          56.97712,
          50.96784,
          47.79696,
          44.87224,
          41.90232,
          41.5168,
          40.132,
          39.6876,
          37.83464
         ]
        },
        {
         "line": {
          "color": "sandybrown",
          "width": 3
         },
         "marker": {
          "line": {
           "color": "MediumPurple",
           "width": 2
          },
          "size": 5,
          "symbol": "diamond"
         },
         "mode": "lines+markers",
         "name": "MacFusNonProb_16mpi_2omp",
         "type": "scatter",
         "x": [
          100663296,
          125829120,
          150994944,
          176160768,
          201326592,
          226492416,
          251658240,
          276824064,
          301989888,
          327155712,
          352321536,
          377487360,
          402653184
         ],
         "y": [
          45.33008,
          44.44496,
          42.39568,
          40.504,
          38.4144,
          36.29168,
          35.7744,
          34.632,
          33.87808,
          33.1488,
          33.12992,
          32.51152,
          32.5008
         ]
        },
        {
         "line": {
          "color": "royalblue",
          "width": 3
         },
         "marker": {
          "line": {
           "color": "MediumPurple",
           "width": 2
          },
          "size": 5,
          "symbol": "diamond"
         },
         "mode": "lines+markers",
         "name": "MacNonFusNonProb_16mpi_2omp",
         "type": "scatter",
         "x": [
          100663296,
          125829120,
          150994944,
          176160768,
          201326592,
          226492416,
          251658240,
          276824064,
          301989888,
          327155712,
          352321536,
          377487360,
          402653184
         ],
         "y": [
          71.49168,
          68.89552,
          68.35872,
          60.66128,
          55.48128,
          51.74608,
          48.46416,
          46.44528,
          45.00256,
          43.47056,
          43.5456,
          42.96016,
          42.17952
         ]
        },
        {
         "line": {
          "color": "cyan",
          "width": 3
         },
         "marker": {
          "line": {
           "color": "Purple",
           "width": 2
          },
          "size": 7,
          "symbol": "circle"
         },
         "mode": "lines+markers",
         "name": "MacNonFusProb_32mpi_1omp",
         "type": "scatter",
         "x": [
          201326592,
          251658240,
          301989888,
          352321536,
          402653184
         ],
         "y": [
          41.25504,
          38.43744,
          37.65952,
          36.85664,
          36.24064
         ]
        },
        {
         "line": {
          "color": "darkblue",
          "width": 3
         },
         "marker": {
          "line": {
           "color": "tomato",
           "width": 2
          },
          "size": 7,
          "symbol": "circle"
         },
         "mode": "lines+markers",
         "name": "MacNonFusNonProb_32mpi_1omp",
         "type": "scatter",
         "x": [
          201326592,
          251658240,
          301989888,
          352321536,
          402653184
         ],
         "y": [
          59.79776,
          52.8672,
          51.60064,
          49.7616,
          48.5344
         ]
        }
       ],
       "layout": {
        "annotations": [
         {
          "align": "left",
          "arrowcolor": "#636363",
          "arrowhead": 1,
          "arrowsize": 1,
          "arrowwidth": 2,
          "ax": -20,
          "ay": -30,
          "font": {
           "color": "purple",
           "family": "Sans Serif",
           "size": 12
          },
          "showarrow": false,
          "text": "LLC Size Per Node",
          "x": "80e6",
          "y": 130,
          "yanchor": "bottom"
         }
        ],
        "shapes": [
         {
          "line": {
           "color": "green",
           "dash": "dash",
           "width": 3
          },
          "type": "line",
          "x0": 80000000,
          "x1": 80000000,
          "xref": "x",
          "y0": 0,
          "y1": 1,
          "yref": "y domain"
         }
        ],
        "template": {
         "data": {
          "bar": [
           {
            "error_x": {
             "color": "#2a3f5f"
            },
            "error_y": {
             "color": "#2a3f5f"
            },
            "marker": {
             "line": {
              "color": "#E5ECF6",
              "width": 0.5
             },
             "pattern": {
              "fillmode": "overlay",
              "size": 10,
              "solidity": 0.2
             }
            },
            "type": "bar"
           }
          ],
          "barpolar": [
           {
            "marker": {
             "line": {
              "color": "#E5ECF6",
              "width": 0.5
             },
             "pattern": {
              "fillmode": "overlay",
              "size": 10,
              "solidity": 0.2
             }
            },
            "type": "barpolar"
           }
          ],
          "carpet": [
           {
            "aaxis": {
             "endlinecolor": "#2a3f5f",
             "gridcolor": "white",
             "linecolor": "white",
             "minorgridcolor": "white",
             "startlinecolor": "#2a3f5f"
            },
            "baxis": {
             "endlinecolor": "#2a3f5f",
             "gridcolor": "white",
             "linecolor": "white",
             "minorgridcolor": "white",
             "startlinecolor": "#2a3f5f"
            },
            "type": "carpet"
           }
          ],
          "choropleth": [
           {
            "colorbar": {
             "outlinewidth": 0,
             "ticks": ""
            },
            "type": "choropleth"
           }
          ],
          "contour": [
           {
            "colorbar": {
             "outlinewidth": 0,
             "ticks": ""
            },
            "colorscale": [
             [
              0,
              "#0d0887"
             ],
             [
              0.1111111111111111,
              "#46039f"
             ],
             [
              0.2222222222222222,
              "#7201a8"
             ],
             [
              0.3333333333333333,
              "#9c179e"
             ],
             [
              0.4444444444444444,
              "#bd3786"
             ],
             [
              0.5555555555555556,
              "#d8576b"
             ],
             [
              0.6666666666666666,
              "#ed7953"
             ],
             [
              0.7777777777777778,
              "#fb9f3a"
             ],
             [
              0.8888888888888888,
              "#fdca26"
             ],
             [
              1,
              "#f0f921"
             ]
            ],
            "type": "contour"
           }
          ],
          "contourcarpet": [
           {
            "colorbar": {
             "outlinewidth": 0,
             "ticks": ""
            },
            "type": "contourcarpet"
           }
          ],
          "heatmap": [
           {
            "colorbar": {
             "outlinewidth": 0,
             "ticks": ""
            },
            "colorscale": [
             [
              0,
              "#0d0887"
             ],
             [
              0.1111111111111111,
              "#46039f"
             ],
             [
              0.2222222222222222,
              "#7201a8"
             ],
             [
              0.3333333333333333,
              "#9c179e"
             ],
             [
              0.4444444444444444,
              "#bd3786"
             ],
             [
              0.5555555555555556,
              "#d8576b"
             ],
             [
              0.6666666666666666,
              "#ed7953"
             ],
             [
              0.7777777777777778,
              "#fb9f3a"
             ],
             [
              0.8888888888888888,
              "#fdca26"
             ],
             [
              1,
              "#f0f921"
             ]
            ],
            "type": "heatmap"
           }
          ],
          "heatmapgl": [
           {
            "colorbar": {
             "outlinewidth": 0,
             "ticks": ""
            },
            "colorscale": [
             [
              0,
              "#0d0887"
             ],
             [
              0.1111111111111111,
              "#46039f"
             ],
             [
              0.2222222222222222,
              "#7201a8"
             ],
             [
              0.3333333333333333,
              "#9c179e"
             ],
             [
              0.4444444444444444,
              "#bd3786"
             ],
             [
              0.5555555555555556,
              "#d8576b"
             ],
             [
              0.6666666666666666,
              "#ed7953"
             ],
             [
              0.7777777777777778,
              "#fb9f3a"
             ],
             [
              0.8888888888888888,
              "#fdca26"
             ],
             [
              1,
              "#f0f921"
             ]
            ],
            "type": "heatmapgl"
           }
          ],
          "histogram": [
           {
            "marker": {
             "pattern": {
              "fillmode": "overlay",
              "size": 10,
              "solidity": 0.2
             }
            },
            "type": "histogram"
           }
          ],
          "histogram2d": [
           {
            "colorbar": {
             "outlinewidth": 0,
             "ticks": ""
            },
            "colorscale": [
             [
              0,
              "#0d0887"
             ],
             [
              0.1111111111111111,
              "#46039f"
             ],
             [
              0.2222222222222222,
              "#7201a8"
             ],
             [
              0.3333333333333333,
              "#9c179e"
             ],
             [
              0.4444444444444444,
              "#bd3786"
             ],
             [
              0.5555555555555556,
              "#d8576b"
             ],
             [
              0.6666666666666666,
              "#ed7953"
             ],
             [
              0.7777777777777778,
              "#fb9f3a"
             ],
             [
              0.8888888888888888,
              "#fdca26"
             ],
             [
              1,
              "#f0f921"
             ]
            ],
            "type": "histogram2d"
           }
          ],
          "histogram2dcontour": [
           {
            "colorbar": {
             "outlinewidth": 0,
             "ticks": ""
            },
            "colorscale": [
             [
              0,
              "#0d0887"
             ],
             [
              0.1111111111111111,
              "#46039f"
             ],
             [
              0.2222222222222222,
              "#7201a8"
             ],
             [
              0.3333333333333333,
              "#9c179e"
             ],
             [
              0.4444444444444444,
              "#bd3786"
             ],
             [
              0.5555555555555556,
              "#d8576b"
             ],
             [
              0.6666666666666666,
              "#ed7953"
             ],
             [
              0.7777777777777778,
              "#fb9f3a"
             ],
             [
              0.8888888888888888,
              "#fdca26"
             ],
             [
              1,
              "#f0f921"
             ]
            ],
            "type": "histogram2dcontour"
           }
          ],
          "mesh3d": [
           {
            "colorbar": {
             "outlinewidth": 0,
             "ticks": ""
            },
            "type": "mesh3d"
           }
          ],
          "parcoords": [
           {
            "line": {
             "colorbar": {
              "outlinewidth": 0,
              "ticks": ""
             }
            },
            "type": "parcoords"
           }
          ],
          "pie": [
           {
            "automargin": true,
            "type": "pie"
           }
          ],
          "scatter": [
           {
            "fillpattern": {
             "fillmode": "overlay",
             "size": 10,
             "solidity": 0.2
            },
            "type": "scatter"
           }
          ],
          "scatter3d": [
           {
            "line": {
             "colorbar": {
              "outlinewidth": 0,
              "ticks": ""
             }
            },
            "marker": {
             "colorbar": {
              "outlinewidth": 0,
              "ticks": ""
             }
            },
            "type": "scatter3d"
           }
          ],
          "scattercarpet": [
           {
            "marker": {
             "colorbar": {
              "outlinewidth": 0,
              "ticks": ""
             }
            },
            "type": "scattercarpet"
           }
          ],
          "scattergeo": [
           {
            "marker": {
             "colorbar": {
              "outlinewidth": 0,
              "ticks": ""
             }
            },
            "type": "scattergeo"
           }
          ],
          "scattergl": [
           {
            "marker": {
             "colorbar": {
              "outlinewidth": 0,
              "ticks": ""
             }
            },
            "type": "scattergl"
           }
          ],
          "scattermapbox": [
           {
            "marker": {
             "colorbar": {
              "outlinewidth": 0,
              "ticks": ""
             }
            },
            "type": "scattermapbox"
           }
          ],
          "scatterpolar": [
           {
            "marker": {
             "colorbar": {
              "outlinewidth": 0,
              "ticks": ""
             }
            },
            "type": "scatterpolar"
           }
          ],
          "scatterpolargl": [
           {
            "marker": {
             "colorbar": {
              "outlinewidth": 0,
              "ticks": ""
             }
            },
            "type": "scatterpolargl"
           }
          ],
          "scatterternary": [
           {
            "marker": {
             "colorbar": {
              "outlinewidth": 0,
              "ticks": ""
             }
            },
            "type": "scatterternary"
           }
          ],
          "surface": [
           {
            "colorbar": {
             "outlinewidth": 0,
             "ticks": ""
            },
            "colorscale": [
             [
              0,
              "#0d0887"
             ],
             [
              0.1111111111111111,
              "#46039f"
             ],
             [
              0.2222222222222222,
              "#7201a8"
             ],
             [
              0.3333333333333333,
              "#9c179e"
             ],
             [
              0.4444444444444444,
              "#bd3786"
             ],
             [
              0.5555555555555556,
              "#d8576b"
             ],
             [
              0.6666666666666666,
              "#ed7953"
             ],
             [
              0.7777777777777778,
              "#fb9f3a"
             ],
             [
              0.8888888888888888,
              "#fdca26"
             ],
             [
              1,
              "#f0f921"
             ]
            ],
            "type": "surface"
           }
          ],
          "table": [
           {
            "cells": {
             "fill": {
              "color": "#EBF0F8"
             },
             "line": {
              "color": "white"
             }
            },
            "header": {
             "fill": {
              "color": "#C8D4E3"
             },
             "line": {
              "color": "white"
             }
            },
            "type": "table"
           }
          ]
         },
         "layout": {
          "annotationdefaults": {
           "arrowcolor": "#2a3f5f",
           "arrowhead": 0,
           "arrowwidth": 1
          },
          "autotypenumbers": "strict",
          "coloraxis": {
           "colorbar": {
            "outlinewidth": 0,
            "ticks": ""
           }
          },
          "colorscale": {
           "diverging": [
            [
             0,
             "#8e0152"
            ],
            [
             0.1,
             "#c51b7d"
            ],
            [
             0.2,
             "#de77ae"
            ],
            [
             0.3,
             "#f1b6da"
            ],
            [
             0.4,
             "#fde0ef"
            ],
            [
             0.5,
             "#f7f7f7"
            ],
            [
             0.6,
             "#e6f5d0"
            ],
            [
             0.7,
             "#b8e186"
            ],
            [
             0.8,
             "#7fbc41"
            ],
            [
             0.9,
             "#4d9221"
            ],
            [
             1,
             "#276419"
            ]
           ],
           "sequential": [
            [
             0,
             "#0d0887"
            ],
            [
             0.1111111111111111,
             "#46039f"
            ],
            [
             0.2222222222222222,
             "#7201a8"
            ],
            [
             0.3333333333333333,
             "#9c179e"
            ],
            [
             0.4444444444444444,
             "#bd3786"
            ],
            [
             0.5555555555555556,
             "#d8576b"
            ],
            [
             0.6666666666666666,
             "#ed7953"
            ],
            [
             0.7777777777777778,
             "#fb9f3a"
            ],
            [
             0.8888888888888888,
             "#fdca26"
            ],
            [
             1,
             "#f0f921"
            ]
           ],
           "sequentialminus": [
            [
             0,
             "#0d0887"
            ],
            [
             0.1111111111111111,
             "#46039f"
            ],
            [
             0.2222222222222222,
             "#7201a8"
            ],
            [
             0.3333333333333333,
             "#9c179e"
            ],
            [
             0.4444444444444444,
             "#bd3786"
            ],
            [
             0.5555555555555556,
             "#d8576b"
            ],
            [
             0.6666666666666666,
             "#ed7953"
            ],
            [
             0.7777777777777778,
             "#fb9f3a"
            ],
            [
             0.8888888888888888,
             "#fdca26"
            ],
            [
             1,
             "#f0f921"
            ]
           ]
          },
          "colorway": [
           "#636efa",
           "#EF553B",
           "#00cc96",
           "#ab63fa",
           "#FFA15A",
           "#19d3f3",
           "#FF6692",
           "#B6E880",
           "#FF97FF",
           "#FECB52"
          ],
          "font": {
           "color": "#2a3f5f"
          },
          "geo": {
           "bgcolor": "white",
           "lakecolor": "white",
           "landcolor": "#E5ECF6",
           "showlakes": true,
           "showland": true,
           "subunitcolor": "white"
          },
          "hoverlabel": {
           "align": "left"
          },
          "hovermode": "closest",
          "mapbox": {
           "style": "light"
          },
          "paper_bgcolor": "white",
          "plot_bgcolor": "#E5ECF6",
          "polar": {
           "angularaxis": {
            "gridcolor": "white",
            "linecolor": "white",
            "ticks": ""
           },
           "bgcolor": "#E5ECF6",
           "radialaxis": {
            "gridcolor": "white",
            "linecolor": "white",
            "ticks": ""
           }
          },
          "scene": {
           "xaxis": {
            "backgroundcolor": "#E5ECF6",
            "gridcolor": "white",
            "gridwidth": 2,
            "linecolor": "white",
            "showbackground": true,
            "ticks": "",
            "zerolinecolor": "white"
           },
           "yaxis": {
            "backgroundcolor": "#E5ECF6",
            "gridcolor": "white",
            "gridwidth": 2,
            "linecolor": "white",
            "showbackground": true,
            "ticks": "",
            "zerolinecolor": "white"
           },
           "zaxis": {
            "backgroundcolor": "#E5ECF6",
            "gridcolor": "white",
            "gridwidth": 2,
            "linecolor": "white",
            "showbackground": true,
            "ticks": "",
            "zerolinecolor": "white"
           }
          },
          "shapedefaults": {
           "line": {
            "color": "#2a3f5f"
           }
          },
          "ternary": {
           "aaxis": {
            "gridcolor": "white",
            "linecolor": "white",
            "ticks": ""
           },
           "baxis": {
            "gridcolor": "white",
            "linecolor": "white",
            "ticks": ""
           },
           "bgcolor": "#E5ECF6",
           "caxis": {
            "gridcolor": "white",
            "linecolor": "white",
            "ticks": ""
           }
          },
          "title": {
           "x": 0.05
          },
          "xaxis": {
           "automargin": true,
           "gridcolor": "white",
           "linecolor": "white",
           "ticks": "",
           "title": {
            "standoff": 15
           },
           "zerolinecolor": "white",
           "zerolinewidth": 2
          },
          "yaxis": {
           "automargin": true,
           "gridcolor": "white",
           "linecolor": "white",
           "ticks": "",
           "title": {
            "standoff": 15
           },
           "zerolinecolor": "white",
           "zerolinewidth": 2
          }
         }
        },
        "title": {
         "text": "\"Macro nonfused: Probempi vs Nonprobempi\" GFlops Measurement"
        },
        "xaxis": {
         "ticks": "outside",
         "title": {
          "text": "Dirc_Data_Mov"
         }
        },
        "yaxis": {
         "ticks": "outside",
         "title": {
          "text": "GFLOPs/Node"
         }
        }
       }
      },
      "text/html": [
       "<div>                            <div id=\"8cb96b1d-81fb-4fe9-8f7e-6f58597788f3\" class=\"plotly-graph-div\" style=\"height:525px; width:100%;\"></div>            <script type=\"text/javascript\">                require([\"plotly\"], function(Plotly) {                    window.PLOTLYENV=window.PLOTLYENV || {};                                    if (document.getElementById(\"8cb96b1d-81fb-4fe9-8f7e-6f58597788f3\")) {                    Plotly.newPlot(                        \"8cb96b1d-81fb-4fe9-8f7e-6f58597788f3\",                        [{\"line\":{\"color\":\"magenta\",\"width\":3},\"marker\":{\"line\":{\"color\":\"yellow\",\"width\":1},\"size\":9,\"symbol\":\"hexagon\"},\"mode\":\"lines+markers\",\"name\":\"MacNonFusProb_8mpi_4omp\",\"x\":[50331648,75497472,100663296,125829120,150994944,176160768,201326592,226492416,251658240,276824064,301989888,327155712,352321536,377487360,402653184],\"y\":[42.29424,41.69448,41.20624,41.31152,41.40032,39.5516,37.15384,35.05872,33.5404,32.60064,31.82776,30.95488,29.43912,30.10792,29.5464],\"type\":\"scatter\"},{\"line\":{\"color\":\"darkcyan\",\"width\":3},\"marker\":{\"line\":{\"color\":\"yellow\",\"width\":1},\"size\":9,\"symbol\":\"hexagon\"},\"mode\":\"lines+markers\",\"name\":\"MacFusProb_8mpi_4omp\",\"x\":[50331648,75497472,100663296,125829120,150994944,176160768,201326592,226492416,251658240,276824064,301989888,327155712,352321536,377487360,402653184],\"y\":[63.28096,64.31184,65.31528,65.86984,64.33304,62.65992,56.97712,50.96784,47.79696,44.87224,41.90232,41.5168,40.132,39.6876,37.83464],\"type\":\"scatter\"},{\"line\":{\"color\":\"sandybrown\",\"width\":3},\"marker\":{\"line\":{\"color\":\"MediumPurple\",\"width\":2},\"size\":5,\"symbol\":\"diamond\"},\"mode\":\"lines+markers\",\"name\":\"MacFusNonProb_16mpi_2omp\",\"x\":[100663296,125829120,150994944,176160768,201326592,226492416,251658240,276824064,301989888,327155712,352321536,377487360,402653184],\"y\":[45.33008,44.44496,42.39568,40.504,38.4144,36.29168,35.7744,34.632,33.87808,33.1488,33.12992,32.51152,32.5008],\"type\":\"scatter\"},{\"line\":{\"color\":\"royalblue\",\"width\":3},\"marker\":{\"line\":{\"color\":\"MediumPurple\",\"width\":2},\"size\":5,\"symbol\":\"diamond\"},\"mode\":\"lines+markers\",\"name\":\"MacNonFusNonProb_16mpi_2omp\",\"x\":[100663296,125829120,150994944,176160768,201326592,226492416,251658240,276824064,301989888,327155712,352321536,377487360,402653184],\"y\":[71.49168,68.89552,68.35872,60.66128,55.48128,51.74608,48.46416,46.44528,45.00256,43.47056,43.5456,42.96016,42.17952],\"type\":\"scatter\"},{\"line\":{\"color\":\"cyan\",\"width\":3},\"marker\":{\"line\":{\"color\":\"Purple\",\"width\":2},\"size\":7,\"symbol\":\"circle\"},\"mode\":\"lines+markers\",\"name\":\"MacNonFusProb_32mpi_1omp\",\"x\":[201326592,251658240,301989888,352321536,402653184],\"y\":[41.25504,38.43744,37.65952,36.85664,36.24064],\"type\":\"scatter\"},{\"line\":{\"color\":\"darkblue\",\"width\":3},\"marker\":{\"line\":{\"color\":\"tomato\",\"width\":2},\"size\":7,\"symbol\":\"circle\"},\"mode\":\"lines+markers\",\"name\":\"MacNonFusNonProb_32mpi_1omp\",\"x\":[201326592,251658240,301989888,352321536,402653184],\"y\":[59.79776,52.8672,51.60064,49.7616,48.5344],\"type\":\"scatter\"}],                        {\"template\":{\"data\":{\"histogram2dcontour\":[{\"type\":\"histogram2dcontour\",\"colorbar\":{\"outlinewidth\":0,\"ticks\":\"\"},\"colorscale\":[[0.0,\"#0d0887\"],[0.1111111111111111,\"#46039f\"],[0.2222222222222222,\"#7201a8\"],[0.3333333333333333,\"#9c179e\"],[0.4444444444444444,\"#bd3786\"],[0.5555555555555556,\"#d8576b\"],[0.6666666666666666,\"#ed7953\"],[0.7777777777777778,\"#fb9f3a\"],[0.8888888888888888,\"#fdca26\"],[1.0,\"#f0f921\"]]}],\"choropleth\":[{\"type\":\"choropleth\",\"colorbar\":{\"outlinewidth\":0,\"ticks\":\"\"}}],\"histogram2d\":[{\"type\":\"histogram2d\",\"colorbar\":{\"outlinewidth\":0,\"ticks\":\"\"},\"colorscale\":[[0.0,\"#0d0887\"],[0.1111111111111111,\"#46039f\"],[0.2222222222222222,\"#7201a8\"],[0.3333333333333333,\"#9c179e\"],[0.4444444444444444,\"#bd3786\"],[0.5555555555555556,\"#d8576b\"],[0.6666666666666666,\"#ed7953\"],[0.7777777777777778,\"#fb9f3a\"],[0.8888888888888888,\"#fdca26\"],[1.0,\"#f0f921\"]]}],\"heatmap\":[{\"type\":\"heatmap\",\"colorbar\":{\"outlinewidth\":0,\"ticks\":\"\"},\"colorscale\":[[0.0,\"#0d0887\"],[0.1111111111111111,\"#46039f\"],[0.2222222222222222,\"#7201a8\"],[0.3333333333333333,\"#9c179e\"],[0.4444444444444444,\"#bd3786\"],[0.5555555555555556,\"#d8576b\"],[0.6666666666666666,\"#ed7953\"],[0.7777777777777778,\"#fb9f3a\"],[0.8888888888888888,\"#fdca26\"],[1.0,\"#f0f921\"]]}],\"heatmapgl\":[{\"type\":\"heatmapgl\",\"colorbar\":{\"outlinewidth\":0,\"ticks\":\"\"},\"colorscale\":[[0.0,\"#0d0887\"],[0.1111111111111111,\"#46039f\"],[0.2222222222222222,\"#7201a8\"],[0.3333333333333333,\"#9c179e\"],[0.4444444444444444,\"#bd3786\"],[0.5555555555555556,\"#d8576b\"],[0.6666666666666666,\"#ed7953\"],[0.7777777777777778,\"#fb9f3a\"],[0.8888888888888888,\"#fdca26\"],[1.0,\"#f0f921\"]]}],\"contourcarpet\":[{\"type\":\"contourcarpet\",\"colorbar\":{\"outlinewidth\":0,\"ticks\":\"\"}}],\"contour\":[{\"type\":\"contour\",\"colorbar\":{\"outlinewidth\":0,\"ticks\":\"\"},\"colorscale\":[[0.0,\"#0d0887\"],[0.1111111111111111,\"#46039f\"],[0.2222222222222222,\"#7201a8\"],[0.3333333333333333,\"#9c179e\"],[0.4444444444444444,\"#bd3786\"],[0.5555555555555556,\"#d8576b\"],[0.6666666666666666,\"#ed7953\"],[0.7777777777777778,\"#fb9f3a\"],[0.8888888888888888,\"#fdca26\"],[1.0,\"#f0f921\"]]}],\"surface\":[{\"type\":\"surface\",\"colorbar\":{\"outlinewidth\":0,\"ticks\":\"\"},\"colorscale\":[[0.0,\"#0d0887\"],[0.1111111111111111,\"#46039f\"],[0.2222222222222222,\"#7201a8\"],[0.3333333333333333,\"#9c179e\"],[0.4444444444444444,\"#bd3786\"],[0.5555555555555556,\"#d8576b\"],[0.6666666666666666,\"#ed7953\"],[0.7777777777777778,\"#fb9f3a\"],[0.8888888888888888,\"#fdca26\"],[1.0,\"#f0f921\"]]}],\"mesh3d\":[{\"type\":\"mesh3d\",\"colorbar\":{\"outlinewidth\":0,\"ticks\":\"\"}}],\"scatter\":[{\"fillpattern\":{\"fillmode\":\"overlay\",\"size\":10,\"solidity\":0.2},\"type\":\"scatter\"}],\"parcoords\":[{\"type\":\"parcoords\",\"line\":{\"colorbar\":{\"outlinewidth\":0,\"ticks\":\"\"}}}],\"scatterpolargl\":[{\"type\":\"scatterpolargl\",\"marker\":{\"colorbar\":{\"outlinewidth\":0,\"ticks\":\"\"}}}],\"bar\":[{\"error_x\":{\"color\":\"#2a3f5f\"},\"error_y\":{\"color\":\"#2a3f5f\"},\"marker\":{\"line\":{\"color\":\"#E5ECF6\",\"width\":0.5},\"pattern\":{\"fillmode\":\"overlay\",\"size\":10,\"solidity\":0.2}},\"type\":\"bar\"}],\"scattergeo\":[{\"type\":\"scattergeo\",\"marker\":{\"colorbar\":{\"outlinewidth\":0,\"ticks\":\"\"}}}],\"scatterpolar\":[{\"type\":\"scatterpolar\",\"marker\":{\"colorbar\":{\"outlinewidth\":0,\"ticks\":\"\"}}}],\"histogram\":[{\"marker\":{\"pattern\":{\"fillmode\":\"overlay\",\"size\":10,\"solidity\":0.2}},\"type\":\"histogram\"}],\"scattergl\":[{\"type\":\"scattergl\",\"marker\":{\"colorbar\":{\"outlinewidth\":0,\"ticks\":\"\"}}}],\"scatter3d\":[{\"type\":\"scatter3d\",\"line\":{\"colorbar\":{\"outlinewidth\":0,\"ticks\":\"\"}},\"marker\":{\"colorbar\":{\"outlinewidth\":0,\"ticks\":\"\"}}}],\"scattermapbox\":[{\"type\":\"scattermapbox\",\"marker\":{\"colorbar\":{\"outlinewidth\":0,\"ticks\":\"\"}}}],\"scatterternary\":[{\"type\":\"scatterternary\",\"marker\":{\"colorbar\":{\"outlinewidth\":0,\"ticks\":\"\"}}}],\"scattercarpet\":[{\"type\":\"scattercarpet\",\"marker\":{\"colorbar\":{\"outlinewidth\":0,\"ticks\":\"\"}}}],\"carpet\":[{\"aaxis\":{\"endlinecolor\":\"#2a3f5f\",\"gridcolor\":\"white\",\"linecolor\":\"white\",\"minorgridcolor\":\"white\",\"startlinecolor\":\"#2a3f5f\"},\"baxis\":{\"endlinecolor\":\"#2a3f5f\",\"gridcolor\":\"white\",\"linecolor\":\"white\",\"minorgridcolor\":\"white\",\"startlinecolor\":\"#2a3f5f\"},\"type\":\"carpet\"}],\"table\":[{\"cells\":{\"fill\":{\"color\":\"#EBF0F8\"},\"line\":{\"color\":\"white\"}},\"header\":{\"fill\":{\"color\":\"#C8D4E3\"},\"line\":{\"color\":\"white\"}},\"type\":\"table\"}],\"barpolar\":[{\"marker\":{\"line\":{\"color\":\"#E5ECF6\",\"width\":0.5},\"pattern\":{\"fillmode\":\"overlay\",\"size\":10,\"solidity\":0.2}},\"type\":\"barpolar\"}],\"pie\":[{\"automargin\":true,\"type\":\"pie\"}]},\"layout\":{\"autotypenumbers\":\"strict\",\"colorway\":[\"#636efa\",\"#EF553B\",\"#00cc96\",\"#ab63fa\",\"#FFA15A\",\"#19d3f3\",\"#FF6692\",\"#B6E880\",\"#FF97FF\",\"#FECB52\"],\"font\":{\"color\":\"#2a3f5f\"},\"hovermode\":\"closest\",\"hoverlabel\":{\"align\":\"left\"},\"paper_bgcolor\":\"white\",\"plot_bgcolor\":\"#E5ECF6\",\"polar\":{\"bgcolor\":\"#E5ECF6\",\"angularaxis\":{\"gridcolor\":\"white\",\"linecolor\":\"white\",\"ticks\":\"\"},\"radialaxis\":{\"gridcolor\":\"white\",\"linecolor\":\"white\",\"ticks\":\"\"}},\"ternary\":{\"bgcolor\":\"#E5ECF6\",\"aaxis\":{\"gridcolor\":\"white\",\"linecolor\":\"white\",\"ticks\":\"\"},\"baxis\":{\"gridcolor\":\"white\",\"linecolor\":\"white\",\"ticks\":\"\"},\"caxis\":{\"gridcolor\":\"white\",\"linecolor\":\"white\",\"ticks\":\"\"}},\"coloraxis\":{\"colorbar\":{\"outlinewidth\":0,\"ticks\":\"\"}},\"colorscale\":{\"sequential\":[[0.0,\"#0d0887\"],[0.1111111111111111,\"#46039f\"],[0.2222222222222222,\"#7201a8\"],[0.3333333333333333,\"#9c179e\"],[0.4444444444444444,\"#bd3786\"],[0.5555555555555556,\"#d8576b\"],[0.6666666666666666,\"#ed7953\"],[0.7777777777777778,\"#fb9f3a\"],[0.8888888888888888,\"#fdca26\"],[1.0,\"#f0f921\"]],\"sequentialminus\":[[0.0,\"#0d0887\"],[0.1111111111111111,\"#46039f\"],[0.2222222222222222,\"#7201a8\"],[0.3333333333333333,\"#9c179e\"],[0.4444444444444444,\"#bd3786\"],[0.5555555555555556,\"#d8576b\"],[0.6666666666666666,\"#ed7953\"],[0.7777777777777778,\"#fb9f3a\"],[0.8888888888888888,\"#fdca26\"],[1.0,\"#f0f921\"]],\"diverging\":[[0,\"#8e0152\"],[0.1,\"#c51b7d\"],[0.2,\"#de77ae\"],[0.3,\"#f1b6da\"],[0.4,\"#fde0ef\"],[0.5,\"#f7f7f7\"],[0.6,\"#e6f5d0\"],[0.7,\"#b8e186\"],[0.8,\"#7fbc41\"],[0.9,\"#4d9221\"],[1,\"#276419\"]]},\"xaxis\":{\"gridcolor\":\"white\",\"linecolor\":\"white\",\"ticks\":\"\",\"title\":{\"standoff\":15},\"zerolinecolor\":\"white\",\"automargin\":true,\"zerolinewidth\":2},\"yaxis\":{\"gridcolor\":\"white\",\"linecolor\":\"white\",\"ticks\":\"\",\"title\":{\"standoff\":15},\"zerolinecolor\":\"white\",\"automargin\":true,\"zerolinewidth\":2},\"scene\":{\"xaxis\":{\"backgroundcolor\":\"#E5ECF6\",\"gridcolor\":\"white\",\"linecolor\":\"white\",\"showbackground\":true,\"ticks\":\"\",\"zerolinecolor\":\"white\",\"gridwidth\":2},\"yaxis\":{\"backgroundcolor\":\"#E5ECF6\",\"gridcolor\":\"white\",\"linecolor\":\"white\",\"showbackground\":true,\"ticks\":\"\",\"zerolinecolor\":\"white\",\"gridwidth\":2},\"zaxis\":{\"backgroundcolor\":\"#E5ECF6\",\"gridcolor\":\"white\",\"linecolor\":\"white\",\"showbackground\":true,\"ticks\":\"\",\"zerolinecolor\":\"white\",\"gridwidth\":2}},\"shapedefaults\":{\"line\":{\"color\":\"#2a3f5f\"}},\"annotationdefaults\":{\"arrowcolor\":\"#2a3f5f\",\"arrowhead\":0,\"arrowwidth\":1},\"geo\":{\"bgcolor\":\"white\",\"landcolor\":\"#E5ECF6\",\"subunitcolor\":\"white\",\"showland\":true,\"showlakes\":true,\"lakecolor\":\"white\"},\"title\":{\"x\":0.05},\"mapbox\":{\"style\":\"light\"}}},\"shapes\":[{\"line\":{\"color\":\"green\",\"dash\":\"dash\",\"width\":3},\"type\":\"line\",\"x0\":80000000.0,\"x1\":80000000.0,\"xref\":\"x\",\"y0\":0,\"y1\":1,\"yref\":\"y domain\"}],\"annotations\":[{\"align\":\"left\",\"arrowcolor\":\"#636363\",\"arrowhead\":1,\"arrowsize\":1,\"arrowwidth\":2,\"ax\":-20,\"ay\":-30,\"font\":{\"color\":\"purple\",\"family\":\"Sans Serif\",\"size\":12},\"showarrow\":false,\"text\":\"LLC Size Per Node\",\"x\":\"80e6\",\"y\":130,\"yanchor\":\"bottom\"}],\"xaxis\":{\"title\":{\"text\":\"Dirc_Data_Mov\"},\"ticks\":\"outside\"},\"yaxis\":{\"title\":{\"text\":\"GFLOPs/Node\"},\"ticks\":\"outside\"},\"title\":{\"text\":\"\\\"Macro nonfused: Probempi vs Nonprobempi\\\" GFlops Measurement\"}},                        {\"responsive\": true}                    ).then(function(){\n",
       "                            \n",
       "var gd = document.getElementById('8cb96b1d-81fb-4fe9-8f7e-6f58597788f3');\n",
       "var x = new MutationObserver(function (mutations, observer) {{\n",
       "        var display = window.getComputedStyle(gd).display;\n",
       "        if (!display || display === 'none') {{\n",
       "            console.log([gd, 'removed!']);\n",
       "            Plotly.purge(gd);\n",
       "            observer.disconnect();\n",
       "        }}\n",
       "}});\n",
       "\n",
       "// Listen for the removal of the full notebook cells\n",
       "var notebookContainer = gd.closest('#notebook-container');\n",
       "if (notebookContainer) {{\n",
       "    x.observe(notebookContainer, {childList: true});\n",
       "}}\n",
       "\n",
       "// Listen for the clearing of the current output cell\n",
       "var outputEl = gd.closest('.output');\n",
       "if (outputEl) {{\n",
       "    x.observe(outputEl, {childList: true});\n",
       "}}\n",
       "\n",
       "                        })                };                });            </script>        </div>"
      ]
     },
     "metadata": {},
     "output_type": "display_data"
    }
   ],
   "source": [
    "fig = go.Figure() \n",
    "\n",
    "fig.add_trace(go.Scatter(x=(dfMacNonFusProb_8mpi_4omp.Dirc_Data_Mov*(dfMacNonFusProb_8mpi_4omp.MPI_size)), \n",
    "                         y=(dfMacNonFusProb_8mpi_4omp.GFLOPS*(dfMacNonFusProb_8mpi_4omp.MPI_size)), \n",
    "                         mode='lines+markers', \n",
    "                         name='MacNonFusProb_8mpi_4omp',\n",
    "                         line=dict(color='magenta',width=3),\n",
    "                         marker=dict(symbol='hexagon',size=9, line=dict(color='yellow',width=1))))\n",
    "\n",
    "fig.add_trace(go.Scatter(x=(dfMacNonFusNonProb_8mpi_4omp.Dirc_Data_Mov*(dfMacNonFusNonProb_8mpi_4omp.MPI_size)), \n",
    "                         y=(dfMacNonFusNonProb_8mpi_4omp.GFLOPS*(dfMacNonFusNonProb_8mpi_4omp.MPI_size)), \n",
    "                         mode='lines+markers', \n",
    "                         name='MacFusProb_8mpi_4omp',\n",
    "                         line=dict(color='darkcyan',width=3),\n",
    "                         marker=dict(symbol='hexagon',size=9, line=dict(color='yellow',width=1))))\n",
    "\n",
    "\n",
    "\n",
    "fig.add_trace(go.Scatter(x=(dfMacNonFusProb_16mpi_2omp.Dirc_Data_Mov*(dfMacNonFusProb_16mpi_2omp.MPI_size)), \n",
    "                         y=(dfMacNonFusProb_16mpi_2omp.GFLOPS*(dfMacNonFusProb_16mpi_2omp.MPI_size)), \n",
    "                         mode='lines+markers', \n",
    "                         name='MacFusNonProb_16mpi_2omp',\n",
    "                         line=dict(color='sandybrown',width=3),\n",
    "                         marker=dict(symbol='diamond',size=5,line=dict(color='MediumPurple',width=2))))\n",
    "\n",
    "fig.add_trace(go.Scatter(x=(dfMacNonFusNonProb_16mpi_2omp.Dirc_Data_Mov*(dfMacNonFusNonProb_16mpi_2omp.MPI_size)), \n",
    "                         y=(dfMacNonFusNonProb_16mpi_2omp.GFLOPS*(dfMacNonFusNonProb_16mpi_2omp.MPI_size)), \n",
    "                         mode='lines+markers', \n",
    "                         name='MacNonFusNonProb_16mpi_2omp',\n",
    "                         line=dict(color='royalblue',width=3),\n",
    "                         marker=dict(symbol='diamond',size=5,line=dict(color='MediumPurple',width=2))))\n",
    "\n",
    "\n",
    "\n",
    "fig.add_trace(go.Scatter(x=(dfMacNonFusProb_32mpi_1omp.Dirc_Data_Mov*(dfMacNonFusProb_32mpi_1omp.MPI_size)), \n",
    "                         y=(dfMacNonFusProb_32mpi_1omp.GFLOPS*(dfMacNonFusProb_32mpi_1omp.MPI_size)), \n",
    "                         mode='lines+markers', \n",
    "                         name='MacNonFusProb_32mpi_1omp',\n",
    "                         line=dict(color='cyan',width=3),\n",
    "                         marker=dict(symbol='circle',size=7,line=dict(color='Purple',width=2))))\n",
    "\n",
    "fig.add_trace(go.Scatter(x=(dfMacNonFusNonProb_32mpi_1omp.Dirc_Data_Mov*(dfMacNonFusNonProb_32mpi_1omp.MPI_size)), \n",
    "                         y=(dfMacNonFusNonProb_32mpi_1omp.GFLOPS*(dfMacNonFusNonProb_32mpi_1omp.MPI_size)), \n",
    "                         mode='lines+markers', \n",
    "                         name='MacNonFusNonProb_32mpi_1omp',\n",
    "                         line=dict(color='darkblue',width=3),\n",
    "                         marker=dict(symbol='circle',size=7, line=dict(color='tomato',width=2))))\n",
    "\n",
    "\n",
    "\n",
    "# Adding a vertical line\n",
    "fig.add_vline(x=80e6, line_width=3, line_dash=\"dash\", line_color=\"green\")\n",
    "# fig.add_hline(y=1024, line_width=3, line_dash=\"dash\", line_color=\"red\")\n",
    "\n",
    "# Add annotation\n",
    "fig.add_annotation(\n",
    "    x='80e6'\n",
    "    , y=130\n",
    "    , text=f'LLC Size Per Node'\n",
    "    , yanchor='bottom'\n",
    "    , showarrow=False\n",
    "    , arrowhead=1\n",
    "    , arrowsize=1\n",
    "    , arrowwidth=2\n",
    "    , arrowcolor=\"#636363\"\n",
    "    , ax=-20\n",
    "    , ay=-30\n",
    "    , font=dict(size=12, color=\"purple\", family=\"Sans Serif\")\n",
    "    , align=\"left\"\n",
    "    ,)\n",
    "\n",
    "fig.update_layout(title='\"Macro nonfused: Probempi vs Nonprobempi\" GFlops Measurement',\n",
    "                  xaxis_title='Dirc_Data_Mov', yaxis_title='GFLOPs/Node', \n",
    "                  xaxis=dict(ticks=\"outside\"),  \n",
    "                  yaxis=dict(ticks=\"outside\"))"
   ]
  },
  {
   "cell_type": "code",
   "execution_count": null,
   "id": "1f4c9baa",
   "metadata": {},
   "outputs": [],
   "source": []
  },
  {
   "cell_type": "markdown",
   "id": "523635fd",
   "metadata": {},
   "source": [
    "## BANDWIDTH - Macro nonfused: Probempi vs Nonprobempi"
   ]
  },
  {
   "cell_type": "code",
   "execution_count": 108,
   "id": "57a96f45",
   "metadata": {},
   "outputs": [
    {
     "data": {
      "application/vnd.plotly.v1+json": {
       "config": {
        "plotlyServerURL": "https://plot.ly"
       },
       "data": [
        {
         "line": {
          "color": "magenta",
          "width": 3
         },
         "marker": {
          "line": {
           "color": "yellow",
           "width": 1
          },
          "size": 9,
          "symbol": "hexagon"
         },
         "mode": "lines+markers",
         "name": "MacNonFusProb_8mpi_4omp",
         "type": "scatter",
         "x": [
          50331648,
          75497472,
          100663296,
          125829120,
          150994944,
          176160768,
          201326592,
          226492416,
          251658240,
          276824064,
          301989888,
          327155712,
          352321536,
          377487360,
          402653184
         ],
         "y": [
          42.29424,
          41.69448,
          41.20624,
          41.31152,
          41.40032,
          39.5516,
          37.15384,
          35.05872,
          33.5404,
          32.60064,
          31.82776,
          30.95488,
          29.43912,
          30.10792,
          29.5464
         ]
        },
        {
         "line": {
          "color": "darkcyan",
          "width": 3
         },
         "marker": {
          "line": {
           "color": "yellow",
           "width": 1
          },
          "size": 9,
          "symbol": "hexagon"
         },
         "mode": "lines+markers",
         "name": "MacFusProb_8mpi_4omp",
         "type": "scatter",
         "x": [
          50331648,
          75497472,
          100663296,
          125829120,
          150994944,
          176160768,
          201326592,
          226492416,
          251658240,
          276824064,
          301989888,
          327155712,
          352321536,
          377487360,
          402653184
         ],
         "y": [
          63.28096,
          64.31184,
          65.31528,
          65.86984,
          64.33304,
          62.65992,
          56.97712,
          50.96784,
          47.79696,
          44.87224,
          41.90232,
          41.5168,
          40.132,
          39.6876,
          37.83464
         ]
        },
        {
         "line": {
          "color": "sandybrown",
          "width": 3
         },
         "marker": {
          "line": {
           "color": "MediumPurple",
           "width": 2
          },
          "size": 5,
          "symbol": "diamond"
         },
         "mode": "lines+markers",
         "name": "MacFusNonProb_16mpi_2omp",
         "type": "scatter",
         "x": [
          100663296,
          125829120,
          150994944,
          176160768,
          201326592,
          226492416,
          251658240,
          276824064,
          301989888,
          327155712,
          352321536,
          377487360,
          402653184
         ],
         "y": [
          105.49568,
          103.43552,
          98.6664,
          94.26368,
          89.4008,
          84.4608,
          83.2568,
          80.59824,
          78.84368,
          77.14624,
          77.1024,
          75.6632,
          75.63808
         ]
        },
        {
         "line": {
          "color": "royalblue",
          "width": 3
         },
         "marker": {
          "line": {
           "color": "MediumPurple",
           "width": 2
          },
          "size": 5,
          "symbol": "diamond"
         },
         "mode": "lines+markers",
         "name": "MacNonFusNonProb_16mpi_2omp",
         "type": "scatter",
         "x": [
          100663296,
          125829120,
          150994944,
          176160768,
          201326592,
          226492416,
          251658240,
          276824064,
          301989888,
          327155712,
          352321536,
          377487360,
          402653184
         ],
         "y": [
          166.3808,
          160.3392,
          159.08944,
          141.17536,
          129.12016,
          120.4272,
          112.78928,
          108.09072,
          104.73312,
          101.168,
          101.34272,
          99.98,
          98.1632
         ]
        },
        {
         "line": {
          "color": "cyan",
          "width": 3
         },
         "marker": {
          "line": {
           "color": "Purple",
           "width": 2
          },
          "size": 7,
          "symbol": "circle"
         },
         "mode": "lines+markers",
         "name": "MacNonFusProb_32mpi_1omp",
         "type": "scatter",
         "x": [
          201326592,
          251658240,
          301989888,
          352321536,
          402653184
         ],
         "y": [
          96.01152,
          89.45408,
          87.64416,
          85.77536,
          84.34176
         ]
        },
        {
         "line": {
          "color": "darkblue",
          "width": 3
         },
         "marker": {
          "line": {
           "color": "tomato",
           "width": 2
          },
          "size": 7,
          "symbol": "circle"
         },
         "mode": "lines+markers",
         "name": "MacNonFusNonProb_32mpi_1omp",
         "type": "scatter",
         "x": [
          201326592,
          251658240,
          301989888,
          352321536,
          402653184
         ],
         "y": [
          139.16544,
          123.0368,
          120.08896,
          115.80864,
          112.95296
         ]
        }
       ],
       "layout": {
        "annotations": [
         {
          "align": "left",
          "arrowcolor": "#636363",
          "arrowhead": 1,
          "arrowsize": 1,
          "arrowwidth": 2,
          "ax": -20,
          "ay": -30,
          "font": {
           "color": "purple",
           "family": "Sans Serif",
           "size": 12
          },
          "showarrow": false,
          "text": "LLC Size Per Node: 80M",
          "x": "80e6",
          "y": 280,
          "yanchor": "bottom"
         },
         {
          "align": "left",
          "arrowcolor": "#636363",
          "arrowhead": 1,
          "arrowsize": 1,
          "arrowwidth": 2,
          "ax": -20,
          "ay": -30,
          "font": {
           "color": "orange",
           "family": "Sans Serif",
           "size": 12
          },
          "showarrow": false,
          "text": "Max Bandwidth Per Node",
          "x": "130e6",
          "y": 155,
          "yanchor": "bottom"
         }
        ],
        "shapes": [
         {
          "line": {
           "color": "green",
           "dash": "dot",
           "width": 3
          },
          "type": "line",
          "x0": 80000000,
          "x1": 80000000,
          "xref": "x",
          "y0": 0,
          "y1": 1,
          "yref": "y domain"
         },
         {
          "line": {
           "color": "red",
           "dash": "dash",
           "width": 3
          },
          "type": "line",
          "x0": 0,
          "x1": 1,
          "xref": "x domain",
          "y0": 153,
          "y1": 153,
          "yref": "y"
         }
        ],
        "template": {
         "data": {
          "bar": [
           {
            "error_x": {
             "color": "#2a3f5f"
            },
            "error_y": {
             "color": "#2a3f5f"
            },
            "marker": {
             "line": {
              "color": "#E5ECF6",
              "width": 0.5
             },
             "pattern": {
              "fillmode": "overlay",
              "size": 10,
              "solidity": 0.2
             }
            },
            "type": "bar"
           }
          ],
          "barpolar": [
           {
            "marker": {
             "line": {
              "color": "#E5ECF6",
              "width": 0.5
             },
             "pattern": {
              "fillmode": "overlay",
              "size": 10,
              "solidity": 0.2
             }
            },
            "type": "barpolar"
           }
          ],
          "carpet": [
           {
            "aaxis": {
             "endlinecolor": "#2a3f5f",
             "gridcolor": "white",
             "linecolor": "white",
             "minorgridcolor": "white",
             "startlinecolor": "#2a3f5f"
            },
            "baxis": {
             "endlinecolor": "#2a3f5f",
             "gridcolor": "white",
             "linecolor": "white",
             "minorgridcolor": "white",
             "startlinecolor": "#2a3f5f"
            },
            "type": "carpet"
           }
          ],
          "choropleth": [
           {
            "colorbar": {
             "outlinewidth": 0,
             "ticks": ""
            },
            "type": "choropleth"
           }
          ],
          "contour": [
           {
            "colorbar": {
             "outlinewidth": 0,
             "ticks": ""
            },
            "colorscale": [
             [
              0,
              "#0d0887"
             ],
             [
              0.1111111111111111,
              "#46039f"
             ],
             [
              0.2222222222222222,
              "#7201a8"
             ],
             [
              0.3333333333333333,
              "#9c179e"
             ],
             [
              0.4444444444444444,
              "#bd3786"
             ],
             [
              0.5555555555555556,
              "#d8576b"
             ],
             [
              0.6666666666666666,
              "#ed7953"
             ],
             [
              0.7777777777777778,
              "#fb9f3a"
             ],
             [
              0.8888888888888888,
              "#fdca26"
             ],
             [
              1,
              "#f0f921"
             ]
            ],
            "type": "contour"
           }
          ],
          "contourcarpet": [
           {
            "colorbar": {
             "outlinewidth": 0,
             "ticks": ""
            },
            "type": "contourcarpet"
           }
          ],
          "heatmap": [
           {
            "colorbar": {
             "outlinewidth": 0,
             "ticks": ""
            },
            "colorscale": [
             [
              0,
              "#0d0887"
             ],
             [
              0.1111111111111111,
              "#46039f"
             ],
             [
              0.2222222222222222,
              "#7201a8"
             ],
             [
              0.3333333333333333,
              "#9c179e"
             ],
             [
              0.4444444444444444,
              "#bd3786"
             ],
             [
              0.5555555555555556,
              "#d8576b"
             ],
             [
              0.6666666666666666,
              "#ed7953"
             ],
             [
              0.7777777777777778,
              "#fb9f3a"
             ],
             [
              0.8888888888888888,
              "#fdca26"
             ],
             [
              1,
              "#f0f921"
             ]
            ],
            "type": "heatmap"
           }
          ],
          "heatmapgl": [
           {
            "colorbar": {
             "outlinewidth": 0,
             "ticks": ""
            },
            "colorscale": [
             [
              0,
              "#0d0887"
             ],
             [
              0.1111111111111111,
              "#46039f"
             ],
             [
              0.2222222222222222,
              "#7201a8"
             ],
             [
              0.3333333333333333,
              "#9c179e"
             ],
             [
              0.4444444444444444,
              "#bd3786"
             ],
             [
              0.5555555555555556,
              "#d8576b"
             ],
             [
              0.6666666666666666,
              "#ed7953"
             ],
             [
              0.7777777777777778,
              "#fb9f3a"
             ],
             [
              0.8888888888888888,
              "#fdca26"
             ],
             [
              1,
              "#f0f921"
             ]
            ],
            "type": "heatmapgl"
           }
          ],
          "histogram": [
           {
            "marker": {
             "pattern": {
              "fillmode": "overlay",
              "size": 10,
              "solidity": 0.2
             }
            },
            "type": "histogram"
           }
          ],
          "histogram2d": [
           {
            "colorbar": {
             "outlinewidth": 0,
             "ticks": ""
            },
            "colorscale": [
             [
              0,
              "#0d0887"
             ],
             [
              0.1111111111111111,
              "#46039f"
             ],
             [
              0.2222222222222222,
              "#7201a8"
             ],
             [
              0.3333333333333333,
              "#9c179e"
             ],
             [
              0.4444444444444444,
              "#bd3786"
             ],
             [
              0.5555555555555556,
              "#d8576b"
             ],
             [
              0.6666666666666666,
              "#ed7953"
             ],
             [
              0.7777777777777778,
              "#fb9f3a"
             ],
             [
              0.8888888888888888,
              "#fdca26"
             ],
             [
              1,
              "#f0f921"
             ]
            ],
            "type": "histogram2d"
           }
          ],
          "histogram2dcontour": [
           {
            "colorbar": {
             "outlinewidth": 0,
             "ticks": ""
            },
            "colorscale": [
             [
              0,
              "#0d0887"
             ],
             [
              0.1111111111111111,
              "#46039f"
             ],
             [
              0.2222222222222222,
              "#7201a8"
             ],
             [
              0.3333333333333333,
              "#9c179e"
             ],
             [
              0.4444444444444444,
              "#bd3786"
             ],
             [
              0.5555555555555556,
              "#d8576b"
             ],
             [
              0.6666666666666666,
              "#ed7953"
             ],
             [
              0.7777777777777778,
              "#fb9f3a"
             ],
             [
              0.8888888888888888,
              "#fdca26"
             ],
             [
              1,
              "#f0f921"
             ]
            ],
            "type": "histogram2dcontour"
           }
          ],
          "mesh3d": [
           {
            "colorbar": {
             "outlinewidth": 0,
             "ticks": ""
            },
            "type": "mesh3d"
           }
          ],
          "parcoords": [
           {
            "line": {
             "colorbar": {
              "outlinewidth": 0,
              "ticks": ""
             }
            },
            "type": "parcoords"
           }
          ],
          "pie": [
           {
            "automargin": true,
            "type": "pie"
           }
          ],
          "scatter": [
           {
            "fillpattern": {
             "fillmode": "overlay",
             "size": 10,
             "solidity": 0.2
            },
            "type": "scatter"
           }
          ],
          "scatter3d": [
           {
            "line": {
             "colorbar": {
              "outlinewidth": 0,
              "ticks": ""
             }
            },
            "marker": {
             "colorbar": {
              "outlinewidth": 0,
              "ticks": ""
             }
            },
            "type": "scatter3d"
           }
          ],
          "scattercarpet": [
           {
            "marker": {
             "colorbar": {
              "outlinewidth": 0,
              "ticks": ""
             }
            },
            "type": "scattercarpet"
           }
          ],
          "scattergeo": [
           {
            "marker": {
             "colorbar": {
              "outlinewidth": 0,
              "ticks": ""
             }
            },
            "type": "scattergeo"
           }
          ],
          "scattergl": [
           {
            "marker": {
             "colorbar": {
              "outlinewidth": 0,
              "ticks": ""
             }
            },
            "type": "scattergl"
           }
          ],
          "scattermapbox": [
           {
            "marker": {
             "colorbar": {
              "outlinewidth": 0,
              "ticks": ""
             }
            },
            "type": "scattermapbox"
           }
          ],
          "scatterpolar": [
           {
            "marker": {
             "colorbar": {
              "outlinewidth": 0,
              "ticks": ""
             }
            },
            "type": "scatterpolar"
           }
          ],
          "scatterpolargl": [
           {
            "marker": {
             "colorbar": {
              "outlinewidth": 0,
              "ticks": ""
             }
            },
            "type": "scatterpolargl"
           }
          ],
          "scatterternary": [
           {
            "marker": {
             "colorbar": {
              "outlinewidth": 0,
              "ticks": ""
             }
            },
            "type": "scatterternary"
           }
          ],
          "surface": [
           {
            "colorbar": {
             "outlinewidth": 0,
             "ticks": ""
            },
            "colorscale": [
             [
              0,
              "#0d0887"
             ],
             [
              0.1111111111111111,
              "#46039f"
             ],
             [
              0.2222222222222222,
              "#7201a8"
             ],
             [
              0.3333333333333333,
              "#9c179e"
             ],
             [
              0.4444444444444444,
              "#bd3786"
             ],
             [
              0.5555555555555556,
              "#d8576b"
             ],
             [
              0.6666666666666666,
              "#ed7953"
             ],
             [
              0.7777777777777778,
              "#fb9f3a"
             ],
             [
              0.8888888888888888,
              "#fdca26"
             ],
             [
              1,
              "#f0f921"
             ]
            ],
            "type": "surface"
           }
          ],
          "table": [
           {
            "cells": {
             "fill": {
              "color": "#EBF0F8"
             },
             "line": {
              "color": "white"
             }
            },
            "header": {
             "fill": {
              "color": "#C8D4E3"
             },
             "line": {
              "color": "white"
             }
            },
            "type": "table"
           }
          ]
         },
         "layout": {
          "annotationdefaults": {
           "arrowcolor": "#2a3f5f",
           "arrowhead": 0,
           "arrowwidth": 1
          },
          "autotypenumbers": "strict",
          "coloraxis": {
           "colorbar": {
            "outlinewidth": 0,
            "ticks": ""
           }
          },
          "colorscale": {
           "diverging": [
            [
             0,
             "#8e0152"
            ],
            [
             0.1,
             "#c51b7d"
            ],
            [
             0.2,
             "#de77ae"
            ],
            [
             0.3,
             "#f1b6da"
            ],
            [
             0.4,
             "#fde0ef"
            ],
            [
             0.5,
             "#f7f7f7"
            ],
            [
             0.6,
             "#e6f5d0"
            ],
            [
             0.7,
             "#b8e186"
            ],
            [
             0.8,
             "#7fbc41"
            ],
            [
             0.9,
             "#4d9221"
            ],
            [
             1,
             "#276419"
            ]
           ],
           "sequential": [
            [
             0,
             "#0d0887"
            ],
            [
             0.1111111111111111,
             "#46039f"
            ],
            [
             0.2222222222222222,
             "#7201a8"
            ],
            [
             0.3333333333333333,
             "#9c179e"
            ],
            [
             0.4444444444444444,
             "#bd3786"
            ],
            [
             0.5555555555555556,
             "#d8576b"
            ],
            [
             0.6666666666666666,
             "#ed7953"
            ],
            [
             0.7777777777777778,
             "#fb9f3a"
            ],
            [
             0.8888888888888888,
             "#fdca26"
            ],
            [
             1,
             "#f0f921"
            ]
           ],
           "sequentialminus": [
            [
             0,
             "#0d0887"
            ],
            [
             0.1111111111111111,
             "#46039f"
            ],
            [
             0.2222222222222222,
             "#7201a8"
            ],
            [
             0.3333333333333333,
             "#9c179e"
            ],
            [
             0.4444444444444444,
             "#bd3786"
            ],
            [
             0.5555555555555556,
             "#d8576b"
            ],
            [
             0.6666666666666666,
             "#ed7953"
            ],
            [
             0.7777777777777778,
             "#fb9f3a"
            ],
            [
             0.8888888888888888,
             "#fdca26"
            ],
            [
             1,
             "#f0f921"
            ]
           ]
          },
          "colorway": [
           "#636efa",
           "#EF553B",
           "#00cc96",
           "#ab63fa",
           "#FFA15A",
           "#19d3f3",
           "#FF6692",
           "#B6E880",
           "#FF97FF",
           "#FECB52"
          ],
          "font": {
           "color": "#2a3f5f"
          },
          "geo": {
           "bgcolor": "white",
           "lakecolor": "white",
           "landcolor": "#E5ECF6",
           "showlakes": true,
           "showland": true,
           "subunitcolor": "white"
          },
          "hoverlabel": {
           "align": "left"
          },
          "hovermode": "closest",
          "mapbox": {
           "style": "light"
          },
          "paper_bgcolor": "white",
          "plot_bgcolor": "#E5ECF6",
          "polar": {
           "angularaxis": {
            "gridcolor": "white",
            "linecolor": "white",
            "ticks": ""
           },
           "bgcolor": "#E5ECF6",
           "radialaxis": {
            "gridcolor": "white",
            "linecolor": "white",
            "ticks": ""
           }
          },
          "scene": {
           "xaxis": {
            "backgroundcolor": "#E5ECF6",
            "gridcolor": "white",
            "gridwidth": 2,
            "linecolor": "white",
            "showbackground": true,
            "ticks": "",
            "zerolinecolor": "white"
           },
           "yaxis": {
            "backgroundcolor": "#E5ECF6",
            "gridcolor": "white",
            "gridwidth": 2,
            "linecolor": "white",
            "showbackground": true,
            "ticks": "",
            "zerolinecolor": "white"
           },
           "zaxis": {
            "backgroundcolor": "#E5ECF6",
            "gridcolor": "white",
            "gridwidth": 2,
            "linecolor": "white",
            "showbackground": true,
            "ticks": "",
            "zerolinecolor": "white"
           }
          },
          "shapedefaults": {
           "line": {
            "color": "#2a3f5f"
           }
          },
          "ternary": {
           "aaxis": {
            "gridcolor": "white",
            "linecolor": "white",
            "ticks": ""
           },
           "baxis": {
            "gridcolor": "white",
            "linecolor": "white",
            "ticks": ""
           },
           "bgcolor": "#E5ECF6",
           "caxis": {
            "gridcolor": "white",
            "linecolor": "white",
            "ticks": ""
           }
          },
          "title": {
           "x": 0.05
          },
          "xaxis": {
           "automargin": true,
           "gridcolor": "white",
           "linecolor": "white",
           "ticks": "",
           "title": {
            "standoff": 15
           },
           "zerolinecolor": "white",
           "zerolinewidth": 2
          },
          "yaxis": {
           "automargin": true,
           "gridcolor": "white",
           "linecolor": "white",
           "ticks": "",
           "title": {
            "standoff": 15
           },
           "zerolinecolor": "white",
           "zerolinewidth": 2
          }
         }
        },
        "title": {
         "text": "\"Macro nonfused: Probempi vs Nonprobempi\" Bandwidth Measurement"
        },
        "xaxis": {
         "ticks": "outside",
         "title": {
          "text": "Dirc_Data_Mov"
         }
        },
        "yaxis": {
         "ticks": "outside",
         "title": {
          "text": "Bandwidth/Node"
         }
        }
       }
      },
      "text/html": [
       "<div>                            <div id=\"d133cacf-d743-47a6-9b71-0238b2e16038\" class=\"plotly-graph-div\" style=\"height:525px; width:100%;\"></div>            <script type=\"text/javascript\">                require([\"plotly\"], function(Plotly) {                    window.PLOTLYENV=window.PLOTLYENV || {};                                    if (document.getElementById(\"d133cacf-d743-47a6-9b71-0238b2e16038\")) {                    Plotly.newPlot(                        \"d133cacf-d743-47a6-9b71-0238b2e16038\",                        [{\"line\":{\"color\":\"magenta\",\"width\":3},\"marker\":{\"line\":{\"color\":\"yellow\",\"width\":1},\"size\":9,\"symbol\":\"hexagon\"},\"mode\":\"lines+markers\",\"name\":\"MacNonFusProb_8mpi_4omp\",\"x\":[50331648,75497472,100663296,125829120,150994944,176160768,201326592,226492416,251658240,276824064,301989888,327155712,352321536,377487360,402653184],\"y\":[42.29424,41.69448,41.20624,41.31152,41.40032,39.5516,37.15384,35.05872,33.5404,32.60064,31.82776,30.95488,29.43912,30.10792,29.5464],\"type\":\"scatter\"},{\"line\":{\"color\":\"darkcyan\",\"width\":3},\"marker\":{\"line\":{\"color\":\"yellow\",\"width\":1},\"size\":9,\"symbol\":\"hexagon\"},\"mode\":\"lines+markers\",\"name\":\"MacFusProb_8mpi_4omp\",\"x\":[50331648,75497472,100663296,125829120,150994944,176160768,201326592,226492416,251658240,276824064,301989888,327155712,352321536,377487360,402653184],\"y\":[63.28096,64.31184,65.31528,65.86984,64.33304,62.65992,56.97712,50.96784,47.79696,44.87224,41.90232,41.5168,40.132,39.6876,37.83464],\"type\":\"scatter\"},{\"line\":{\"color\":\"sandybrown\",\"width\":3},\"marker\":{\"line\":{\"color\":\"MediumPurple\",\"width\":2},\"size\":5,\"symbol\":\"diamond\"},\"mode\":\"lines+markers\",\"name\":\"MacFusNonProb_16mpi_2omp\",\"x\":[100663296,125829120,150994944,176160768,201326592,226492416,251658240,276824064,301989888,327155712,352321536,377487360,402653184],\"y\":[105.49568,103.43552,98.6664,94.26368,89.4008,84.4608,83.2568,80.59824,78.84368,77.14624,77.1024,75.6632,75.63808],\"type\":\"scatter\"},{\"line\":{\"color\":\"royalblue\",\"width\":3},\"marker\":{\"line\":{\"color\":\"MediumPurple\",\"width\":2},\"size\":5,\"symbol\":\"diamond\"},\"mode\":\"lines+markers\",\"name\":\"MacNonFusNonProb_16mpi_2omp\",\"x\":[100663296,125829120,150994944,176160768,201326592,226492416,251658240,276824064,301989888,327155712,352321536,377487360,402653184],\"y\":[166.3808,160.3392,159.08944,141.17536,129.12016,120.4272,112.78928,108.09072,104.73312,101.168,101.34272,99.98,98.1632],\"type\":\"scatter\"},{\"line\":{\"color\":\"cyan\",\"width\":3},\"marker\":{\"line\":{\"color\":\"Purple\",\"width\":2},\"size\":7,\"symbol\":\"circle\"},\"mode\":\"lines+markers\",\"name\":\"MacNonFusProb_32mpi_1omp\",\"x\":[201326592,251658240,301989888,352321536,402653184],\"y\":[96.01152,89.45408,87.64416,85.77536,84.34176],\"type\":\"scatter\"},{\"line\":{\"color\":\"darkblue\",\"width\":3},\"marker\":{\"line\":{\"color\":\"tomato\",\"width\":2},\"size\":7,\"symbol\":\"circle\"},\"mode\":\"lines+markers\",\"name\":\"MacNonFusNonProb_32mpi_1omp\",\"x\":[201326592,251658240,301989888,352321536,402653184],\"y\":[139.16544,123.0368,120.08896,115.80864,112.95296],\"type\":\"scatter\"}],                        {\"template\":{\"data\":{\"histogram2dcontour\":[{\"type\":\"histogram2dcontour\",\"colorbar\":{\"outlinewidth\":0,\"ticks\":\"\"},\"colorscale\":[[0.0,\"#0d0887\"],[0.1111111111111111,\"#46039f\"],[0.2222222222222222,\"#7201a8\"],[0.3333333333333333,\"#9c179e\"],[0.4444444444444444,\"#bd3786\"],[0.5555555555555556,\"#d8576b\"],[0.6666666666666666,\"#ed7953\"],[0.7777777777777778,\"#fb9f3a\"],[0.8888888888888888,\"#fdca26\"],[1.0,\"#f0f921\"]]}],\"choropleth\":[{\"type\":\"choropleth\",\"colorbar\":{\"outlinewidth\":0,\"ticks\":\"\"}}],\"histogram2d\":[{\"type\":\"histogram2d\",\"colorbar\":{\"outlinewidth\":0,\"ticks\":\"\"},\"colorscale\":[[0.0,\"#0d0887\"],[0.1111111111111111,\"#46039f\"],[0.2222222222222222,\"#7201a8\"],[0.3333333333333333,\"#9c179e\"],[0.4444444444444444,\"#bd3786\"],[0.5555555555555556,\"#d8576b\"],[0.6666666666666666,\"#ed7953\"],[0.7777777777777778,\"#fb9f3a\"],[0.8888888888888888,\"#fdca26\"],[1.0,\"#f0f921\"]]}],\"heatmap\":[{\"type\":\"heatmap\",\"colorbar\":{\"outlinewidth\":0,\"ticks\":\"\"},\"colorscale\":[[0.0,\"#0d0887\"],[0.1111111111111111,\"#46039f\"],[0.2222222222222222,\"#7201a8\"],[0.3333333333333333,\"#9c179e\"],[0.4444444444444444,\"#bd3786\"],[0.5555555555555556,\"#d8576b\"],[0.6666666666666666,\"#ed7953\"],[0.7777777777777778,\"#fb9f3a\"],[0.8888888888888888,\"#fdca26\"],[1.0,\"#f0f921\"]]}],\"heatmapgl\":[{\"type\":\"heatmapgl\",\"colorbar\":{\"outlinewidth\":0,\"ticks\":\"\"},\"colorscale\":[[0.0,\"#0d0887\"],[0.1111111111111111,\"#46039f\"],[0.2222222222222222,\"#7201a8\"],[0.3333333333333333,\"#9c179e\"],[0.4444444444444444,\"#bd3786\"],[0.5555555555555556,\"#d8576b\"],[0.6666666666666666,\"#ed7953\"],[0.7777777777777778,\"#fb9f3a\"],[0.8888888888888888,\"#fdca26\"],[1.0,\"#f0f921\"]]}],\"contourcarpet\":[{\"type\":\"contourcarpet\",\"colorbar\":{\"outlinewidth\":0,\"ticks\":\"\"}}],\"contour\":[{\"type\":\"contour\",\"colorbar\":{\"outlinewidth\":0,\"ticks\":\"\"},\"colorscale\":[[0.0,\"#0d0887\"],[0.1111111111111111,\"#46039f\"],[0.2222222222222222,\"#7201a8\"],[0.3333333333333333,\"#9c179e\"],[0.4444444444444444,\"#bd3786\"],[0.5555555555555556,\"#d8576b\"],[0.6666666666666666,\"#ed7953\"],[0.7777777777777778,\"#fb9f3a\"],[0.8888888888888888,\"#fdca26\"],[1.0,\"#f0f921\"]]}],\"surface\":[{\"type\":\"surface\",\"colorbar\":{\"outlinewidth\":0,\"ticks\":\"\"},\"colorscale\":[[0.0,\"#0d0887\"],[0.1111111111111111,\"#46039f\"],[0.2222222222222222,\"#7201a8\"],[0.3333333333333333,\"#9c179e\"],[0.4444444444444444,\"#bd3786\"],[0.5555555555555556,\"#d8576b\"],[0.6666666666666666,\"#ed7953\"],[0.7777777777777778,\"#fb9f3a\"],[0.8888888888888888,\"#fdca26\"],[1.0,\"#f0f921\"]]}],\"mesh3d\":[{\"type\":\"mesh3d\",\"colorbar\":{\"outlinewidth\":0,\"ticks\":\"\"}}],\"scatter\":[{\"fillpattern\":{\"fillmode\":\"overlay\",\"size\":10,\"solidity\":0.2},\"type\":\"scatter\"}],\"parcoords\":[{\"type\":\"parcoords\",\"line\":{\"colorbar\":{\"outlinewidth\":0,\"ticks\":\"\"}}}],\"scatterpolargl\":[{\"type\":\"scatterpolargl\",\"marker\":{\"colorbar\":{\"outlinewidth\":0,\"ticks\":\"\"}}}],\"bar\":[{\"error_x\":{\"color\":\"#2a3f5f\"},\"error_y\":{\"color\":\"#2a3f5f\"},\"marker\":{\"line\":{\"color\":\"#E5ECF6\",\"width\":0.5},\"pattern\":{\"fillmode\":\"overlay\",\"size\":10,\"solidity\":0.2}},\"type\":\"bar\"}],\"scattergeo\":[{\"type\":\"scattergeo\",\"marker\":{\"colorbar\":{\"outlinewidth\":0,\"ticks\":\"\"}}}],\"scatterpolar\":[{\"type\":\"scatterpolar\",\"marker\":{\"colorbar\":{\"outlinewidth\":0,\"ticks\":\"\"}}}],\"histogram\":[{\"marker\":{\"pattern\":{\"fillmode\":\"overlay\",\"size\":10,\"solidity\":0.2}},\"type\":\"histogram\"}],\"scattergl\":[{\"type\":\"scattergl\",\"marker\":{\"colorbar\":{\"outlinewidth\":0,\"ticks\":\"\"}}}],\"scatter3d\":[{\"type\":\"scatter3d\",\"line\":{\"colorbar\":{\"outlinewidth\":0,\"ticks\":\"\"}},\"marker\":{\"colorbar\":{\"outlinewidth\":0,\"ticks\":\"\"}}}],\"scattermapbox\":[{\"type\":\"scattermapbox\",\"marker\":{\"colorbar\":{\"outlinewidth\":0,\"ticks\":\"\"}}}],\"scatterternary\":[{\"type\":\"scatterternary\",\"marker\":{\"colorbar\":{\"outlinewidth\":0,\"ticks\":\"\"}}}],\"scattercarpet\":[{\"type\":\"scattercarpet\",\"marker\":{\"colorbar\":{\"outlinewidth\":0,\"ticks\":\"\"}}}],\"carpet\":[{\"aaxis\":{\"endlinecolor\":\"#2a3f5f\",\"gridcolor\":\"white\",\"linecolor\":\"white\",\"minorgridcolor\":\"white\",\"startlinecolor\":\"#2a3f5f\"},\"baxis\":{\"endlinecolor\":\"#2a3f5f\",\"gridcolor\":\"white\",\"linecolor\":\"white\",\"minorgridcolor\":\"white\",\"startlinecolor\":\"#2a3f5f\"},\"type\":\"carpet\"}],\"table\":[{\"cells\":{\"fill\":{\"color\":\"#EBF0F8\"},\"line\":{\"color\":\"white\"}},\"header\":{\"fill\":{\"color\":\"#C8D4E3\"},\"line\":{\"color\":\"white\"}},\"type\":\"table\"}],\"barpolar\":[{\"marker\":{\"line\":{\"color\":\"#E5ECF6\",\"width\":0.5},\"pattern\":{\"fillmode\":\"overlay\",\"size\":10,\"solidity\":0.2}},\"type\":\"barpolar\"}],\"pie\":[{\"automargin\":true,\"type\":\"pie\"}]},\"layout\":{\"autotypenumbers\":\"strict\",\"colorway\":[\"#636efa\",\"#EF553B\",\"#00cc96\",\"#ab63fa\",\"#FFA15A\",\"#19d3f3\",\"#FF6692\",\"#B6E880\",\"#FF97FF\",\"#FECB52\"],\"font\":{\"color\":\"#2a3f5f\"},\"hovermode\":\"closest\",\"hoverlabel\":{\"align\":\"left\"},\"paper_bgcolor\":\"white\",\"plot_bgcolor\":\"#E5ECF6\",\"polar\":{\"bgcolor\":\"#E5ECF6\",\"angularaxis\":{\"gridcolor\":\"white\",\"linecolor\":\"white\",\"ticks\":\"\"},\"radialaxis\":{\"gridcolor\":\"white\",\"linecolor\":\"white\",\"ticks\":\"\"}},\"ternary\":{\"bgcolor\":\"#E5ECF6\",\"aaxis\":{\"gridcolor\":\"white\",\"linecolor\":\"white\",\"ticks\":\"\"},\"baxis\":{\"gridcolor\":\"white\",\"linecolor\":\"white\",\"ticks\":\"\"},\"caxis\":{\"gridcolor\":\"white\",\"linecolor\":\"white\",\"ticks\":\"\"}},\"coloraxis\":{\"colorbar\":{\"outlinewidth\":0,\"ticks\":\"\"}},\"colorscale\":{\"sequential\":[[0.0,\"#0d0887\"],[0.1111111111111111,\"#46039f\"],[0.2222222222222222,\"#7201a8\"],[0.3333333333333333,\"#9c179e\"],[0.4444444444444444,\"#bd3786\"],[0.5555555555555556,\"#d8576b\"],[0.6666666666666666,\"#ed7953\"],[0.7777777777777778,\"#fb9f3a\"],[0.8888888888888888,\"#fdca26\"],[1.0,\"#f0f921\"]],\"sequentialminus\":[[0.0,\"#0d0887\"],[0.1111111111111111,\"#46039f\"],[0.2222222222222222,\"#7201a8\"],[0.3333333333333333,\"#9c179e\"],[0.4444444444444444,\"#bd3786\"],[0.5555555555555556,\"#d8576b\"],[0.6666666666666666,\"#ed7953\"],[0.7777777777777778,\"#fb9f3a\"],[0.8888888888888888,\"#fdca26\"],[1.0,\"#f0f921\"]],\"diverging\":[[0,\"#8e0152\"],[0.1,\"#c51b7d\"],[0.2,\"#de77ae\"],[0.3,\"#f1b6da\"],[0.4,\"#fde0ef\"],[0.5,\"#f7f7f7\"],[0.6,\"#e6f5d0\"],[0.7,\"#b8e186\"],[0.8,\"#7fbc41\"],[0.9,\"#4d9221\"],[1,\"#276419\"]]},\"xaxis\":{\"gridcolor\":\"white\",\"linecolor\":\"white\",\"ticks\":\"\",\"title\":{\"standoff\":15},\"zerolinecolor\":\"white\",\"automargin\":true,\"zerolinewidth\":2},\"yaxis\":{\"gridcolor\":\"white\",\"linecolor\":\"white\",\"ticks\":\"\",\"title\":{\"standoff\":15},\"zerolinecolor\":\"white\",\"automargin\":true,\"zerolinewidth\":2},\"scene\":{\"xaxis\":{\"backgroundcolor\":\"#E5ECF6\",\"gridcolor\":\"white\",\"linecolor\":\"white\",\"showbackground\":true,\"ticks\":\"\",\"zerolinecolor\":\"white\",\"gridwidth\":2},\"yaxis\":{\"backgroundcolor\":\"#E5ECF6\",\"gridcolor\":\"white\",\"linecolor\":\"white\",\"showbackground\":true,\"ticks\":\"\",\"zerolinecolor\":\"white\",\"gridwidth\":2},\"zaxis\":{\"backgroundcolor\":\"#E5ECF6\",\"gridcolor\":\"white\",\"linecolor\":\"white\",\"showbackground\":true,\"ticks\":\"\",\"zerolinecolor\":\"white\",\"gridwidth\":2}},\"shapedefaults\":{\"line\":{\"color\":\"#2a3f5f\"}},\"annotationdefaults\":{\"arrowcolor\":\"#2a3f5f\",\"arrowhead\":0,\"arrowwidth\":1},\"geo\":{\"bgcolor\":\"white\",\"landcolor\":\"#E5ECF6\",\"subunitcolor\":\"white\",\"showland\":true,\"showlakes\":true,\"lakecolor\":\"white\"},\"title\":{\"x\":0.05},\"mapbox\":{\"style\":\"light\"}}},\"shapes\":[{\"line\":{\"color\":\"green\",\"dash\":\"dot\",\"width\":3},\"type\":\"line\",\"x0\":80000000.0,\"x1\":80000000.0,\"xref\":\"x\",\"y0\":0,\"y1\":1,\"yref\":\"y domain\"},{\"line\":{\"color\":\"red\",\"dash\":\"dash\",\"width\":3},\"type\":\"line\",\"x0\":0,\"x1\":1,\"xref\":\"x domain\",\"y0\":153,\"y1\":153,\"yref\":\"y\"}],\"annotations\":[{\"align\":\"left\",\"arrowcolor\":\"#636363\",\"arrowhead\":1,\"arrowsize\":1,\"arrowwidth\":2,\"ax\":-20,\"ay\":-30,\"font\":{\"color\":\"purple\",\"family\":\"Sans Serif\",\"size\":12},\"showarrow\":false,\"text\":\"LLC Size Per Node: 80M\",\"x\":\"80e6\",\"y\":280,\"yanchor\":\"bottom\"},{\"align\":\"left\",\"arrowcolor\":\"#636363\",\"arrowhead\":1,\"arrowsize\":1,\"arrowwidth\":2,\"ax\":-20,\"ay\":-30,\"font\":{\"color\":\"orange\",\"family\":\"Sans Serif\",\"size\":12},\"showarrow\":false,\"text\":\"Max Bandwidth Per Node\",\"x\":\"130e6\",\"y\":155,\"yanchor\":\"bottom\"}],\"xaxis\":{\"title\":{\"text\":\"Dirc_Data_Mov\"},\"ticks\":\"outside\"},\"yaxis\":{\"title\":{\"text\":\"Bandwidth/Node\"},\"ticks\":\"outside\"},\"title\":{\"text\":\"\\\"Macro nonfused: Probempi vs Nonprobempi\\\" Bandwidth Measurement\"}},                        {\"responsive\": true}                    ).then(function(){\n",
       "                            \n",
       "var gd = document.getElementById('d133cacf-d743-47a6-9b71-0238b2e16038');\n",
       "var x = new MutationObserver(function (mutations, observer) {{\n",
       "        var display = window.getComputedStyle(gd).display;\n",
       "        if (!display || display === 'none') {{\n",
       "            console.log([gd, 'removed!']);\n",
       "            Plotly.purge(gd);\n",
       "            observer.disconnect();\n",
       "        }}\n",
       "}});\n",
       "\n",
       "// Listen for the removal of the full notebook cells\n",
       "var notebookContainer = gd.closest('#notebook-container');\n",
       "if (notebookContainer) {{\n",
       "    x.observe(notebookContainer, {childList: true});\n",
       "}}\n",
       "\n",
       "// Listen for the clearing of the current output cell\n",
       "var outputEl = gd.closest('.output');\n",
       "if (outputEl) {{\n",
       "    x.observe(outputEl, {childList: true});\n",
       "}}\n",
       "\n",
       "                        })                };                });            </script>        </div>"
      ]
     },
     "metadata": {},
     "output_type": "display_data"
    }
   ],
   "source": [
    "fig = go.Figure() \n",
    "\n",
    "fig.add_trace(go.Scatter(x=(dfMacNonFusProb_8mpi_4omp.Dirc_Data_Mov*(dfMacNonFusProb_8mpi_4omp.MPI_size)), \n",
    "                         y=(dfMacNonFusProb_8mpi_4omp.GFLOPS*(dfMacNonFusProb_8mpi_4omp.MPI_size)), \n",
    "                         mode='lines+markers', \n",
    "                         name='MacNonFusProb_8mpi_4omp',\n",
    "                         line=dict(color='magenta',width=3),\n",
    "                         marker=dict(symbol='hexagon',size=9, line=dict(color='yellow',width=1))))\n",
    "\n",
    "fig.add_trace(go.Scatter(x=(dfMacNonFusNonProb_8mpi_4omp.Dirc_Data_Mov*(dfMacNonFusNonProb_8mpi_4omp.MPI_size)), \n",
    "                         y=(dfMacNonFusNonProb_8mpi_4omp.GFLOPS*(dfMacNonFusNonProb_8mpi_4omp.MPI_size)), \n",
    "                         mode='lines+markers', \n",
    "                         name='MacFusProb_8mpi_4omp',\n",
    "                         line=dict(color='darkcyan',width=3),\n",
    "                         marker=dict(symbol='hexagon',size=9, line=dict(color='yellow',width=1))))\n",
    "\n",
    "\n",
    "\n",
    "fig.add_trace(go.Scatter(x=(dfMacNonFusProb_16mpi_2omp.Dirc_Data_Mov*(dfMacNonFusProb_16mpi_2omp.MPI_size)), \n",
    "                         y=(dfMacNonFusProb_16mpi_2omp.BAND*(dfMacNonFusProb_16mpi_2omp.MPI_size)), \n",
    "                         mode='lines+markers', \n",
    "                         name='MacFusNonProb_16mpi_2omp',\n",
    "                         line=dict(color='sandybrown',width=3),\n",
    "                         marker=dict(symbol='diamond',size=5,line=dict(color='MediumPurple',width=2))))\n",
    "\n",
    "fig.add_trace(go.Scatter(x=(dfMacNonFusNonProb_16mpi_2omp.Dirc_Data_Mov*(dfMacNonFusNonProb_16mpi_2omp.MPI_size)), \n",
    "                         y=(dfMacNonFusNonProb_16mpi_2omp.BAND*(dfMacNonFusNonProb_16mpi_2omp.MPI_size)), \n",
    "                         mode='lines+markers', \n",
    "                         name='MacNonFusNonProb_16mpi_2omp',\n",
    "                         line=dict(color='royalblue',width=3),\n",
    "                         marker=dict(symbol='diamond',size=5,line=dict(color='MediumPurple',width=2))))\n",
    "\n",
    "\n",
    "\n",
    "fig.add_trace(go.Scatter(x=(dfMacNonFusProb_32mpi_1omp.Dirc_Data_Mov*(dfMacNonFusProb_32mpi_1omp.MPI_size)), \n",
    "                         y=(dfMacNonFusProb_32mpi_1omp.BAND*(dfMacNonFusProb_32mpi_1omp.MPI_size)), \n",
    "                         mode='lines+markers', \n",
    "                         name='MacNonFusProb_32mpi_1omp',\n",
    "                         line=dict(color='cyan',width=3),\n",
    "                         marker=dict(symbol='circle',size=7,line=dict(color='Purple',width=2))))\n",
    "\n",
    "fig.add_trace(go.Scatter(x=(dfMacNonFusNonProb_32mpi_1omp.Dirc_Data_Mov*(dfMacNonFusNonProb_32mpi_1omp.MPI_size)), \n",
    "                         y=(dfMacNonFusNonProb_32mpi_1omp.BAND*(dfMacNonFusNonProb_32mpi_1omp.MPI_size)), \n",
    "                         mode='lines+markers', \n",
    "                         name='MacNonFusNonProb_32mpi_1omp',\n",
    "                         line=dict(color='darkblue',width=3),\n",
    "                         marker=dict(symbol='circle',size=7, line=dict(color='tomato',width=2))))\n",
    "\n",
    "\n",
    "\n",
    "# Adding vertical and horizontal lines \n",
    "fig.add_vline(x=80e6, line_width=3, line_dash=\"dot\", line_color=\"green\")\n",
    "fig.add_hline(y=153, line_width=3, line_dash=\"dash\", line_color=\"red\")\n",
    "\n",
    "# Add annotation with arrow\n",
    "fig.add_annotation(\n",
    "    x='80e6'\n",
    "    , y=280\n",
    "    , text=f'LLC Size Per Node: 80M'\n",
    "    , yanchor='bottom'\n",
    "    , showarrow=False\n",
    "    , arrowhead=1\n",
    "    , arrowsize=1\n",
    "    , arrowwidth=2\n",
    "    , arrowcolor=\"#636363\"\n",
    "    , ax=-20\n",
    "    , ay=-30\n",
    "    , font=dict(size=12, color=\"purple\", family=\"Sans Serif\")\n",
    "    , align=\"left\"\n",
    "    ,)\n",
    "\n",
    "fig.add_annotation(\n",
    "    x='130e6'\n",
    "    , y=155\n",
    "    , text=f'Max Bandwidth Per Node'\n",
    "    , yanchor='bottom'\n",
    "    , showarrow=False\n",
    "    , arrowhead=1\n",
    "    , arrowsize=1\n",
    "    , arrowwidth=2\n",
    "    , arrowcolor=\"#636363\"\n",
    "    , ax=-20\n",
    "    , ay=-30\n",
    "    , font=dict(size=12, color=\"orange\", family=\"Sans Serif\")\n",
    "    , align=\"left\"\n",
    "    ,)\n",
    "\n",
    "\n",
    "fig.update_layout(title='\"Macro nonfused: Probempi vs Nonprobempi\" Bandwidth Measurement',\n",
    "                  xaxis_title='Dirc_Data_Mov', yaxis_title='Bandwidth/Node', \n",
    "                  xaxis=dict(ticks=\"outside\"),  \n",
    "                  yaxis=dict(ticks=\"outside\")) \n"
   ]
  },
  {
   "cell_type": "code",
   "execution_count": null,
   "id": "c38fbf6e",
   "metadata": {},
   "outputs": [],
   "source": []
  },
  {
   "cell_type": "code",
   "execution_count": null,
   "id": "3c722cd6",
   "metadata": {},
   "outputs": [],
   "source": []
  },
  {
   "cell_type": "markdown",
   "id": "b5be2278",
   "metadata": {},
   "source": [
    "### 5. macro_newgeo_probempi  "
   ]
  },
  {
   "cell_type": "code",
   "execution_count": 110,
   "id": "126ff7ca",
   "metadata": {},
   "outputs": [],
   "source": [
    "df_macro_newgeo_probempi[\"N_Nodes\"] = 1\n",
    "df_macro_newgeo_probempi['NPX'] = (df_macro_newgeo_probempi.GLB_X//df_macro_newgeo_probempi.LOC_X)\n",
    "df_macro_newgeo_probempi['NPY'] = (df_macro_newgeo_probempi.GLB_Y//df_macro_newgeo_probempi.LOC_Y)\n",
    "df_macro_newgeo_probempi['NPZ'] = (df_macro_newgeo_probempi.GLB_Z//df_macro_newgeo_probempi.LOC_Z)\n",
    "df_macro_newgeo_probempi['NPT'] = (df_macro_newgeo_probempi.GLB_T//df_macro_newgeo_probempi.LOC_T)\n",
    "df_macro_newgeo_probempi[\"Total_proc\"] = df_macro_newgeo_probempi[\"omp_thrd\"]* df_macro_newgeo_probempi.MPI_size\n",
    "# df_macro_newgeo_probempi.columns"
   ]
  },
  {
   "cell_type": "code",
   "execution_count": 111,
   "id": "27542b8b",
   "metadata": {},
   "outputs": [
    {
     "data": {
      "text/html": [
       "<div>\n",
       "<style scoped>\n",
       "    .dataframe tbody tr th:only-of-type {\n",
       "        vertical-align: middle;\n",
       "    }\n",
       "\n",
       "    .dataframe tbody tr th {\n",
       "        vertical-align: top;\n",
       "    }\n",
       "\n",
       "    .dataframe thead th {\n",
       "        text-align: right;\n",
       "    }\n",
       "</style>\n",
       "<table border=\"1\" class=\"dataframe\">\n",
       "  <thead>\n",
       "    <tr style=\"text-align: right;\">\n",
       "      <th></th>\n",
       "      <th>MPI_size</th>\n",
       "      <th>omp_thrd</th>\n",
       "      <th>NPT</th>\n",
       "      <th>NPX</th>\n",
       "      <th>NPY</th>\n",
       "      <th>NPZ</th>\n",
       "      <th>Total_proc</th>\n",
       "      <th>size</th>\n",
       "    </tr>\n",
       "  </thead>\n",
       "  <tbody>\n",
       "    <tr>\n",
       "      <th>0</th>\n",
       "      <td>8</td>\n",
       "      <td>4</td>\n",
       "      <td>1</td>\n",
       "      <td>2</td>\n",
       "      <td>2</td>\n",
       "      <td>2</td>\n",
       "      <td>32</td>\n",
       "      <td>15</td>\n",
       "    </tr>\n",
       "    <tr>\n",
       "      <th>1</th>\n",
       "      <td>16</td>\n",
       "      <td>2</td>\n",
       "      <td>2</td>\n",
       "      <td>2</td>\n",
       "      <td>2</td>\n",
       "      <td>2</td>\n",
       "      <td>32</td>\n",
       "      <td>12</td>\n",
       "    </tr>\n",
       "    <tr>\n",
       "      <th>2</th>\n",
       "      <td>32</td>\n",
       "      <td>1</td>\n",
       "      <td>4</td>\n",
       "      <td>2</td>\n",
       "      <td>2</td>\n",
       "      <td>2</td>\n",
       "      <td>32</td>\n",
       "      <td>5</td>\n",
       "    </tr>\n",
       "  </tbody>\n",
       "</table>\n",
       "</div>"
      ],
      "text/plain": [
       "   MPI_size  omp_thrd  NPT  NPX  NPY  NPZ  Total_proc  size\n",
       "0         8         4    1    2    2    2          32    15\n",
       "1        16         2    2    2    2    2          32    12\n",
       "2        32         1    4    2    2    2          32     5"
      ]
     },
     "execution_count": 111,
     "metadata": {},
     "output_type": "execute_result"
    }
   ],
   "source": [
    "df_macro_newgeo_probempi_summary =df_macro_newgeo_probempi.groupby(['MPI_size','omp_thrd','NPT','NPX', 'NPY', 'NPZ',\"Total_proc\"]).size().reset_index(name = 'size')\n",
    "df_macro_newgeo_probempi_summary"
   ]
  },
  {
   "cell_type": "code",
   "execution_count": 113,
   "id": "5ec6e078",
   "metadata": {},
   "outputs": [],
   "source": [
    "dfMacNewgeoProb_8mpi_4omp = df_macro_newgeo_probempi[(df_macro_newgeo_probempi.omp_thrd == 4) & (df_macro_newgeo_probempi.GLB_T/df_macro_newgeo_probempi.LOC_T == 1) & (df_macro_newgeo_probempi.GLB_X/df_macro_newgeo_probempi.LOC_X == 2) & (df_macro_newgeo_probempi.GLB_Y/df_macro_newgeo_probempi.LOC_Y == 2)& (df_macro_newgeo_probempi.GLB_Z/df_macro_newgeo_probempi.LOC_Z == 2)]\n",
    "dfMacNewgeoProb_16mpi_2omp = df_macro_newgeo_probempi[(df_macro_newgeo_probempi.omp_thrd == 2) & (df_macro_newgeo_probempi.GLB_T/df_macro_newgeo_probempi.LOC_T == 2) & (df_macro_newgeo_probempi.GLB_X/df_macro_newgeo_probempi.LOC_X == 2) & (df_macro_newgeo_probempi.GLB_Y/df_macro_newgeo_probempi.LOC_Y == 2)& (df_macro_newgeo_probempi.GLB_Z/df_macro_newgeo_probempi.LOC_Z == 2)]\n",
    "dfMacNewgeoProb_32mpi_1omp = df_macro_newgeo_probempi[(df_macro_newgeo_probempi.omp_thrd == 1) & (df_macro_newgeo_probempi.GLB_T/df_macro_newgeo_probempi.LOC_T == 4) & (df_macro_newgeo_probempi.GLB_X/df_macro_newgeo_probempi.LOC_X == 2) & (df_macro_newgeo_probempi.GLB_Y/df_macro_newgeo_probempi.LOC_Y == 2)& (df_macro_newgeo_probempi.GLB_Z/df_macro_newgeo_probempi.LOC_Z == 2)]\n"
   ]
  },
  {
   "cell_type": "markdown",
   "id": "b8b21e45",
   "metadata": {},
   "source": [
    "### 6. macro_newgeo_nonprobempi "
   ]
  },
  {
   "cell_type": "code",
   "execution_count": 91,
   "id": "80344f11",
   "metadata": {},
   "outputs": [],
   "source": [
    "df_macro_newgeo_nonprobempi[\"N_Nodes\"] = 1\n",
    "df_macro_newgeo_nonprobempi['NPX'] = (df_macro_newgeo_nonprobempi.GLB_X//df_macro_newgeo_nonprobempi.LOC_X)\n",
    "df_macro_newgeo_nonprobempi['NPY'] = (df_macro_newgeo_nonprobempi.GLB_Y//df_macro_newgeo_nonprobempi.LOC_Y)\n",
    "df_macro_newgeo_nonprobempi['NPZ'] = (df_macro_newgeo_nonprobempi.GLB_Z//df_macro_newgeo_nonprobempi.LOC_Z)\n",
    "df_macro_newgeo_nonprobempi['NPT'] = (df_macro_newgeo_nonprobempi.GLB_T//df_macro_newgeo_nonprobempi.LOC_T)\n",
    "df_macro_newgeo_nonprobempi[\"Total_proc\"] = df_macro_newgeo_nonprobempi[\"omp_thrd\"]* df_macro_newgeo_nonprobempi.MPI_size\n",
    "# df_macro_newgeo_nonprobempi.columns"
   ]
  },
  {
   "cell_type": "code",
   "execution_count": 36,
   "id": "ac4250ff",
   "metadata": {},
   "outputs": [
    {
     "data": {
      "text/html": [
       "<div>\n",
       "<style scoped>\n",
       "    .dataframe tbody tr th:only-of-type {\n",
       "        vertical-align: middle;\n",
       "    }\n",
       "\n",
       "    .dataframe tbody tr th {\n",
       "        vertical-align: top;\n",
       "    }\n",
       "\n",
       "    .dataframe thead th {\n",
       "        text-align: right;\n",
       "    }\n",
       "</style>\n",
       "<table border=\"1\" class=\"dataframe\">\n",
       "  <thead>\n",
       "    <tr style=\"text-align: right;\">\n",
       "      <th></th>\n",
       "      <th>MPI_size</th>\n",
       "      <th>omp_thrd</th>\n",
       "      <th>NPT</th>\n",
       "      <th>NPX</th>\n",
       "      <th>NPY</th>\n",
       "      <th>NPZ</th>\n",
       "      <th>Total_proc</th>\n",
       "      <th>size</th>\n",
       "    </tr>\n",
       "  </thead>\n",
       "  <tbody>\n",
       "    <tr>\n",
       "      <th>0</th>\n",
       "      <td>8</td>\n",
       "      <td>4</td>\n",
       "      <td>1</td>\n",
       "      <td>2</td>\n",
       "      <td>2</td>\n",
       "      <td>2</td>\n",
       "      <td>32</td>\n",
       "      <td>15</td>\n",
       "    </tr>\n",
       "    <tr>\n",
       "      <th>1</th>\n",
       "      <td>16</td>\n",
       "      <td>2</td>\n",
       "      <td>2</td>\n",
       "      <td>2</td>\n",
       "      <td>2</td>\n",
       "      <td>2</td>\n",
       "      <td>32</td>\n",
       "      <td>13</td>\n",
       "    </tr>\n",
       "    <tr>\n",
       "      <th>2</th>\n",
       "      <td>32</td>\n",
       "      <td>1</td>\n",
       "      <td>4</td>\n",
       "      <td>2</td>\n",
       "      <td>2</td>\n",
       "      <td>2</td>\n",
       "      <td>32</td>\n",
       "      <td>5</td>\n",
       "    </tr>\n",
       "  </tbody>\n",
       "</table>\n",
       "</div>"
      ],
      "text/plain": [
       "   MPI_size  omp_thrd  NPT  NPX  NPY  NPZ  Total_proc  size\n",
       "0         8         4    1    2    2    2          32    15\n",
       "1        16         2    2    2    2    2          32    13\n",
       "2        32         1    4    2    2    2          32     5"
      ]
     },
     "execution_count": 36,
     "metadata": {},
     "output_type": "execute_result"
    }
   ],
   "source": [
    "df_macro_newgeo_nonprobempi_summary = df_macro_newgeo_nonprobempi.groupby(['MPI_size','omp_thrd','NPT','NPX', 'NPY', 'NPZ',\"Total_proc\"]).size().reset_index(name = 'size')\n",
    "df_macro_newgeo_nonprobempi_summary"
   ]
  },
  {
   "cell_type": "code",
   "execution_count": 114,
   "id": "0a26610f",
   "metadata": {},
   "outputs": [],
   "source": [
    "dfMacNewgeoNonProb_8mpi_4omp = df_macro_newgeo_nonprobempi[(df_macro_newgeo_nonprobempi.omp_thrd == 4) & (df_macro_newgeo_nonprobempi.GLB_T/df_macro_newgeo_nonprobempi.LOC_T == 1) & (df_macro_newgeo_nonprobempi.GLB_X/df_macro_newgeo_nonprobempi.LOC_X == 2) & (df_macro_newgeo_nonprobempi.GLB_Y/df_macro_newgeo_nonprobempi.LOC_Y == 2)& (df_macro_newgeo_nonprobempi.GLB_Z/df_macro_newgeo_nonprobempi.LOC_Z == 2)]\n",
    "dfMacNewgeoNonProb_16mpi_2omp = df_macro_newgeo_nonprobempi[(df_macro_newgeo_nonprobempi.omp_thrd == 2) & (df_macro_newgeo_nonprobempi.GLB_T/df_macro_newgeo_nonprobempi.LOC_T == 2) & (df_macro_newgeo_nonprobempi.GLB_X/df_macro_newgeo_nonprobempi.LOC_X == 2) & (df_macro_newgeo_nonprobempi.GLB_Y/df_macro_newgeo_nonprobempi.LOC_Y == 2)& (df_macro_newgeo_nonprobempi.GLB_Z/df_macro_newgeo_nonprobempi.LOC_Z == 2)]\n",
    "dfMacNewgeoNonProb_32mpi_1omp = df_macro_newgeo_nonprobempi[(df_macro_newgeo_nonprobempi.omp_thrd == 1) & (df_macro_newgeo_nonprobempi.GLB_T/df_macro_newgeo_nonprobempi.LOC_T == 4) & (df_macro_newgeo_nonprobempi.GLB_X/df_macro_newgeo_nonprobempi.LOC_X == 2) & (df_macro_newgeo_nonprobempi.GLB_Y/df_macro_newgeo_nonprobempi.LOC_Y == 2)& (df_macro_newgeo_nonprobempi.GLB_Z/df_macro_newgeo_nonprobempi.LOC_Z == 2)]\n"
   ]
  },
  {
   "cell_type": "markdown",
   "id": "b971f4bf",
   "metadata": {},
   "source": [
    "## FLOTS - Macro Newgeometry: Probempi vs Nonprobempi"
   ]
  },
  {
   "cell_type": "code",
   "execution_count": 115,
   "id": "fa70b616",
   "metadata": {},
   "outputs": [
    {
     "data": {
      "application/vnd.plotly.v1+json": {
       "config": {
        "plotlyServerURL": "https://plot.ly"
       },
       "data": [
        {
         "line": {
          "color": "magenta",
          "width": 3
         },
         "marker": {
          "line": {
           "color": "yellow",
           "width": 1
          },
          "size": 9,
          "symbol": "hexagon"
         },
         "mode": "lines+markers",
         "name": "MacNewgeoProb_8mpi_4omp",
         "type": "scatter",
         "x": [
          50331648,
          75497472,
          100663296,
          125829120,
          150994944,
          176160768,
          201326592,
          226492416,
          251658240,
          276824064,
          301989888,
          327155712,
          352321536,
          377487360,
          402653184
         ],
         "y": [
          32.5968,
          33.16784,
          33.60784,
          33.39216,
          33.16496,
          31.47936,
          30.3584,
          29.4556,
          29.23848,
          28.4372,
          28.01768,
          27.85752,
          27.33224,
          27.00816,
          26.44824
         ]
        },
        {
         "line": {
          "color": "darkcyan",
          "width": 3
         },
         "marker": {
          "line": {
           "color": "yellow",
           "width": 1
          },
          "size": 9,
          "symbol": "hexagon"
         },
         "mode": "lines+markers",
         "name": "MacNewgeoNonProb_8mpi_4omp",
         "type": "scatter",
         "x": [
          50331648,
          75497472,
          100663296,
          125829120,
          150994944,
          176160768,
          201326592,
          226492416,
          251658240,
          276824064,
          301989888,
          327155712,
          352321536,
          377487360,
          402653184
         ],
         "y": [
          74.05744,
          77.0236,
          79.12528,
          78.95824,
          74.37704,
          67.49728,
          59.72072,
          55.04624,
          48.70144,
          46.56112,
          44.26216,
          42.78952,
          41.36552,
          40.92016,
          38.2488
         ]
        },
        {
         "line": {
          "color": "sandybrown",
          "width": 3
         },
         "marker": {
          "line": {
           "color": "MediumPurple",
           "width": 2
          },
          "size": 5,
          "symbol": "diamond"
         },
         "mode": "lines+markers",
         "name": "MacNewgeoProb_16mpi_2omp",
         "type": "scatter",
         "x": [
          100663296,
          125829120,
          150994944,
          176160768,
          201326592,
          226492416,
          251658240,
          276824064,
          301989888,
          327155712,
          352321536,
          402653184
         ],
         "y": [
          32.78528,
          33.31968,
          32.60272,
          31.6792,
          30.80976,
          30.47056,
          29.70128,
          29.6536,
          29.36848,
          29.05296,
          28.78672,
          27.74176
         ]
        },
        {
         "line": {
          "color": "royalblue",
          "width": 3
         },
         "marker": {
          "line": {
           "color": "MediumPurple",
           "width": 2
          },
          "size": 5,
          "symbol": "diamond"
         },
         "mode": "lines+markers",
         "name": "MacNewgeoNonProb_16mpi_2omp",
         "type": "scatter",
         "x": [
          100663296,
          125829120,
          150994944,
          176160768,
          201326592,
          226492416,
          251658240,
          276824064,
          301989888,
          327155712,
          352321536,
          377487360,
          402653184
         ],
         "y": [
          76.34368,
          71.20704,
          71.45488,
          64.43552,
          57.036,
          52.93904,
          48.18672,
          46.24736,
          44.50512,
          44.27104,
          42.08944,
          42.756,
          40.8096
         ]
        },
        {
         "line": {
          "color": "cyan",
          "width": 3
         },
         "marker": {
          "line": {
           "color": "Purple",
           "width": 2
          },
          "size": 7,
          "symbol": "circle"
         },
         "mode": "lines+markers",
         "name": "MacNewgeoProb_32mpi_1omp",
         "type": "scatter",
         "x": [
          201326592,
          251658240,
          301989888,
          352321536,
          402653184
         ],
         "y": [
          30.488672,
          30.091552,
          29.796288,
          29.731808,
          29.2576
         ]
        },
        {
         "line": {
          "color": "darkblue",
          "width": 3
         },
         "marker": {
          "line": {
           "color": "tomato",
           "width": 2
          },
          "size": 7,
          "symbol": "circle"
         },
         "mode": "lines+markers",
         "name": "MacNewgeoNonProb_32mpi_1omp",
         "type": "scatter",
         "x": [
          201326592,
          251658240,
          301989888,
          352321536,
          402653184
         ],
         "y": [
          48.09216,
          45.4448,
          43.70016,
          42.93568,
          42.07456
         ]
        }
       ],
       "layout": {
        "annotations": [
         {
          "align": "left",
          "arrowcolor": "#636363",
          "arrowhead": 1,
          "arrowsize": 1,
          "arrowwidth": 2,
          "ax": -20,
          "ay": -30,
          "font": {
           "color": "purple",
           "family": "Sans Serif",
           "size": 12
          },
          "showarrow": false,
          "text": "LLC Size Per Node",
          "x": "80e6",
          "y": 130,
          "yanchor": "bottom"
         }
        ],
        "shapes": [
         {
          "line": {
           "color": "green",
           "dash": "dash",
           "width": 3
          },
          "type": "line",
          "x0": 80000000,
          "x1": 80000000,
          "xref": "x",
          "y0": 0,
          "y1": 1,
          "yref": "y domain"
         }
        ],
        "template": {
         "data": {
          "bar": [
           {
            "error_x": {
             "color": "#2a3f5f"
            },
            "error_y": {
             "color": "#2a3f5f"
            },
            "marker": {
             "line": {
              "color": "#E5ECF6",
              "width": 0.5
             },
             "pattern": {
              "fillmode": "overlay",
              "size": 10,
              "solidity": 0.2
             }
            },
            "type": "bar"
           }
          ],
          "barpolar": [
           {
            "marker": {
             "line": {
              "color": "#E5ECF6",
              "width": 0.5
             },
             "pattern": {
              "fillmode": "overlay",
              "size": 10,
              "solidity": 0.2
             }
            },
            "type": "barpolar"
           }
          ],
          "carpet": [
           {
            "aaxis": {
             "endlinecolor": "#2a3f5f",
             "gridcolor": "white",
             "linecolor": "white",
             "minorgridcolor": "white",
             "startlinecolor": "#2a3f5f"
            },
            "baxis": {
             "endlinecolor": "#2a3f5f",
             "gridcolor": "white",
             "linecolor": "white",
             "minorgridcolor": "white",
             "startlinecolor": "#2a3f5f"
            },
            "type": "carpet"
           }
          ],
          "choropleth": [
           {
            "colorbar": {
             "outlinewidth": 0,
             "ticks": ""
            },
            "type": "choropleth"
           }
          ],
          "contour": [
           {
            "colorbar": {
             "outlinewidth": 0,
             "ticks": ""
            },
            "colorscale": [
             [
              0,
              "#0d0887"
             ],
             [
              0.1111111111111111,
              "#46039f"
             ],
             [
              0.2222222222222222,
              "#7201a8"
             ],
             [
              0.3333333333333333,
              "#9c179e"
             ],
             [
              0.4444444444444444,
              "#bd3786"
             ],
             [
              0.5555555555555556,
              "#d8576b"
             ],
             [
              0.6666666666666666,
              "#ed7953"
             ],
             [
              0.7777777777777778,
              "#fb9f3a"
             ],
             [
              0.8888888888888888,
              "#fdca26"
             ],
             [
              1,
              "#f0f921"
             ]
            ],
            "type": "contour"
           }
          ],
          "contourcarpet": [
           {
            "colorbar": {
             "outlinewidth": 0,
             "ticks": ""
            },
            "type": "contourcarpet"
           }
          ],
          "heatmap": [
           {
            "colorbar": {
             "outlinewidth": 0,
             "ticks": ""
            },
            "colorscale": [
             [
              0,
              "#0d0887"
             ],
             [
              0.1111111111111111,
              "#46039f"
             ],
             [
              0.2222222222222222,
              "#7201a8"
             ],
             [
              0.3333333333333333,
              "#9c179e"
             ],
             [
              0.4444444444444444,
              "#bd3786"
             ],
             [
              0.5555555555555556,
              "#d8576b"
             ],
             [
              0.6666666666666666,
              "#ed7953"
             ],
             [
              0.7777777777777778,
              "#fb9f3a"
             ],
             [
              0.8888888888888888,
              "#fdca26"
             ],
             [
              1,
              "#f0f921"
             ]
            ],
            "type": "heatmap"
           }
          ],
          "heatmapgl": [
           {
            "colorbar": {
             "outlinewidth": 0,
             "ticks": ""
            },
            "colorscale": [
             [
              0,
              "#0d0887"
             ],
             [
              0.1111111111111111,
              "#46039f"
             ],
             [
              0.2222222222222222,
              "#7201a8"
             ],
             [
              0.3333333333333333,
              "#9c179e"
             ],
             [
              0.4444444444444444,
              "#bd3786"
             ],
             [
              0.5555555555555556,
              "#d8576b"
             ],
             [
              0.6666666666666666,
              "#ed7953"
             ],
             [
              0.7777777777777778,
              "#fb9f3a"
             ],
             [
              0.8888888888888888,
              "#fdca26"
             ],
             [
              1,
              "#f0f921"
             ]
            ],
            "type": "heatmapgl"
           }
          ],
          "histogram": [
           {
            "marker": {
             "pattern": {
              "fillmode": "overlay",
              "size": 10,
              "solidity": 0.2
             }
            },
            "type": "histogram"
           }
          ],
          "histogram2d": [
           {
            "colorbar": {
             "outlinewidth": 0,
             "ticks": ""
            },
            "colorscale": [
             [
              0,
              "#0d0887"
             ],
             [
              0.1111111111111111,
              "#46039f"
             ],
             [
              0.2222222222222222,
              "#7201a8"
             ],
             [
              0.3333333333333333,
              "#9c179e"
             ],
             [
              0.4444444444444444,
              "#bd3786"
             ],
             [
              0.5555555555555556,
              "#d8576b"
             ],
             [
              0.6666666666666666,
              "#ed7953"
             ],
             [
              0.7777777777777778,
              "#fb9f3a"
             ],
             [
              0.8888888888888888,
              "#fdca26"
             ],
             [
              1,
              "#f0f921"
             ]
            ],
            "type": "histogram2d"
           }
          ],
          "histogram2dcontour": [
           {
            "colorbar": {
             "outlinewidth": 0,
             "ticks": ""
            },
            "colorscale": [
             [
              0,
              "#0d0887"
             ],
             [
              0.1111111111111111,
              "#46039f"
             ],
             [
              0.2222222222222222,
              "#7201a8"
             ],
             [
              0.3333333333333333,
              "#9c179e"
             ],
             [
              0.4444444444444444,
              "#bd3786"
             ],
             [
              0.5555555555555556,
              "#d8576b"
             ],
             [
              0.6666666666666666,
              "#ed7953"
             ],
             [
              0.7777777777777778,
              "#fb9f3a"
             ],
             [
              0.8888888888888888,
              "#fdca26"
             ],
             [
              1,
              "#f0f921"
             ]
            ],
            "type": "histogram2dcontour"
           }
          ],
          "mesh3d": [
           {
            "colorbar": {
             "outlinewidth": 0,
             "ticks": ""
            },
            "type": "mesh3d"
           }
          ],
          "parcoords": [
           {
            "line": {
             "colorbar": {
              "outlinewidth": 0,
              "ticks": ""
             }
            },
            "type": "parcoords"
           }
          ],
          "pie": [
           {
            "automargin": true,
            "type": "pie"
           }
          ],
          "scatter": [
           {
            "fillpattern": {
             "fillmode": "overlay",
             "size": 10,
             "solidity": 0.2
            },
            "type": "scatter"
           }
          ],
          "scatter3d": [
           {
            "line": {
             "colorbar": {
              "outlinewidth": 0,
              "ticks": ""
             }
            },
            "marker": {
             "colorbar": {
              "outlinewidth": 0,
              "ticks": ""
             }
            },
            "type": "scatter3d"
           }
          ],
          "scattercarpet": [
           {
            "marker": {
             "colorbar": {
              "outlinewidth": 0,
              "ticks": ""
             }
            },
            "type": "scattercarpet"
           }
          ],
          "scattergeo": [
           {
            "marker": {
             "colorbar": {
              "outlinewidth": 0,
              "ticks": ""
             }
            },
            "type": "scattergeo"
           }
          ],
          "scattergl": [
           {
            "marker": {
             "colorbar": {
              "outlinewidth": 0,
              "ticks": ""
             }
            },
            "type": "scattergl"
           }
          ],
          "scattermapbox": [
           {
            "marker": {
             "colorbar": {
              "outlinewidth": 0,
              "ticks": ""
             }
            },
            "type": "scattermapbox"
           }
          ],
          "scatterpolar": [
           {
            "marker": {
             "colorbar": {
              "outlinewidth": 0,
              "ticks": ""
             }
            },
            "type": "scatterpolar"
           }
          ],
          "scatterpolargl": [
           {
            "marker": {
             "colorbar": {
              "outlinewidth": 0,
              "ticks": ""
             }
            },
            "type": "scatterpolargl"
           }
          ],
          "scatterternary": [
           {
            "marker": {
             "colorbar": {
              "outlinewidth": 0,
              "ticks": ""
             }
            },
            "type": "scatterternary"
           }
          ],
          "surface": [
           {
            "colorbar": {
             "outlinewidth": 0,
             "ticks": ""
            },
            "colorscale": [
             [
              0,
              "#0d0887"
             ],
             [
              0.1111111111111111,
              "#46039f"
             ],
             [
              0.2222222222222222,
              "#7201a8"
             ],
             [
              0.3333333333333333,
              "#9c179e"
             ],
             [
              0.4444444444444444,
              "#bd3786"
             ],
             [
              0.5555555555555556,
              "#d8576b"
             ],
             [
              0.6666666666666666,
              "#ed7953"
             ],
             [
              0.7777777777777778,
              "#fb9f3a"
             ],
             [
              0.8888888888888888,
              "#fdca26"
             ],
             [
              1,
              "#f0f921"
             ]
            ],
            "type": "surface"
           }
          ],
          "table": [
           {
            "cells": {
             "fill": {
              "color": "#EBF0F8"
             },
             "line": {
              "color": "white"
             }
            },
            "header": {
             "fill": {
              "color": "#C8D4E3"
             },
             "line": {
              "color": "white"
             }
            },
            "type": "table"
           }
          ]
         },
         "layout": {
          "annotationdefaults": {
           "arrowcolor": "#2a3f5f",
           "arrowhead": 0,
           "arrowwidth": 1
          },
          "autotypenumbers": "strict",
          "coloraxis": {
           "colorbar": {
            "outlinewidth": 0,
            "ticks": ""
           }
          },
          "colorscale": {
           "diverging": [
            [
             0,
             "#8e0152"
            ],
            [
             0.1,
             "#c51b7d"
            ],
            [
             0.2,
             "#de77ae"
            ],
            [
             0.3,
             "#f1b6da"
            ],
            [
             0.4,
             "#fde0ef"
            ],
            [
             0.5,
             "#f7f7f7"
            ],
            [
             0.6,
             "#e6f5d0"
            ],
            [
             0.7,
             "#b8e186"
            ],
            [
             0.8,
             "#7fbc41"
            ],
            [
             0.9,
             "#4d9221"
            ],
            [
             1,
             "#276419"
            ]
           ],
           "sequential": [
            [
             0,
             "#0d0887"
            ],
            [
             0.1111111111111111,
             "#46039f"
            ],
            [
             0.2222222222222222,
             "#7201a8"
            ],
            [
             0.3333333333333333,
             "#9c179e"
            ],
            [
             0.4444444444444444,
             "#bd3786"
            ],
            [
             0.5555555555555556,
             "#d8576b"
            ],
            [
             0.6666666666666666,
             "#ed7953"
            ],
            [
             0.7777777777777778,
             "#fb9f3a"
            ],
            [
             0.8888888888888888,
             "#fdca26"
            ],
            [
             1,
             "#f0f921"
            ]
           ],
           "sequentialminus": [
            [
             0,
             "#0d0887"
            ],
            [
             0.1111111111111111,
             "#46039f"
            ],
            [
             0.2222222222222222,
             "#7201a8"
            ],
            [
             0.3333333333333333,
             "#9c179e"
            ],
            [
             0.4444444444444444,
             "#bd3786"
            ],
            [
             0.5555555555555556,
             "#d8576b"
            ],
            [
             0.6666666666666666,
             "#ed7953"
            ],
            [
             0.7777777777777778,
             "#fb9f3a"
            ],
            [
             0.8888888888888888,
             "#fdca26"
            ],
            [
             1,
             "#f0f921"
            ]
           ]
          },
          "colorway": [
           "#636efa",
           "#EF553B",
           "#00cc96",
           "#ab63fa",
           "#FFA15A",
           "#19d3f3",
           "#FF6692",
           "#B6E880",
           "#FF97FF",
           "#FECB52"
          ],
          "font": {
           "color": "#2a3f5f"
          },
          "geo": {
           "bgcolor": "white",
           "lakecolor": "white",
           "landcolor": "#E5ECF6",
           "showlakes": true,
           "showland": true,
           "subunitcolor": "white"
          },
          "hoverlabel": {
           "align": "left"
          },
          "hovermode": "closest",
          "mapbox": {
           "style": "light"
          },
          "paper_bgcolor": "white",
          "plot_bgcolor": "#E5ECF6",
          "polar": {
           "angularaxis": {
            "gridcolor": "white",
            "linecolor": "white",
            "ticks": ""
           },
           "bgcolor": "#E5ECF6",
           "radialaxis": {
            "gridcolor": "white",
            "linecolor": "white",
            "ticks": ""
           }
          },
          "scene": {
           "xaxis": {
            "backgroundcolor": "#E5ECF6",
            "gridcolor": "white",
            "gridwidth": 2,
            "linecolor": "white",
            "showbackground": true,
            "ticks": "",
            "zerolinecolor": "white"
           },
           "yaxis": {
            "backgroundcolor": "#E5ECF6",
            "gridcolor": "white",
            "gridwidth": 2,
            "linecolor": "white",
            "showbackground": true,
            "ticks": "",
            "zerolinecolor": "white"
           },
           "zaxis": {
            "backgroundcolor": "#E5ECF6",
            "gridcolor": "white",
            "gridwidth": 2,
            "linecolor": "white",
            "showbackground": true,
            "ticks": "",
            "zerolinecolor": "white"
           }
          },
          "shapedefaults": {
           "line": {
            "color": "#2a3f5f"
           }
          },
          "ternary": {
           "aaxis": {
            "gridcolor": "white",
            "linecolor": "white",
            "ticks": ""
           },
           "baxis": {
            "gridcolor": "white",
            "linecolor": "white",
            "ticks": ""
           },
           "bgcolor": "#E5ECF6",
           "caxis": {
            "gridcolor": "white",
            "linecolor": "white",
            "ticks": ""
           }
          },
          "title": {
           "x": 0.05
          },
          "xaxis": {
           "automargin": true,
           "gridcolor": "white",
           "linecolor": "white",
           "ticks": "",
           "title": {
            "standoff": 15
           },
           "zerolinecolor": "white",
           "zerolinewidth": 2
          },
          "yaxis": {
           "automargin": true,
           "gridcolor": "white",
           "linecolor": "white",
           "ticks": "",
           "title": {
            "standoff": 15
           },
           "zerolinecolor": "white",
           "zerolinewidth": 2
          }
         }
        },
        "title": {
         "text": "\"Macro Newgeometry: Probempi vs Nonprobempi\" GFlops Measurement"
        },
        "xaxis": {
         "ticks": "outside",
         "title": {
          "text": "Dirc_Data_Mov"
         }
        },
        "yaxis": {
         "ticks": "outside",
         "title": {
          "text": "GFLOPs/Node"
         }
        }
       }
      },
      "text/html": [
       "<div>                            <div id=\"5e1d8144-9930-4ba1-8b0a-a7ab7b37b453\" class=\"plotly-graph-div\" style=\"height:525px; width:100%;\"></div>            <script type=\"text/javascript\">                require([\"plotly\"], function(Plotly) {                    window.PLOTLYENV=window.PLOTLYENV || {};                                    if (document.getElementById(\"5e1d8144-9930-4ba1-8b0a-a7ab7b37b453\")) {                    Plotly.newPlot(                        \"5e1d8144-9930-4ba1-8b0a-a7ab7b37b453\",                        [{\"line\":{\"color\":\"magenta\",\"width\":3},\"marker\":{\"line\":{\"color\":\"yellow\",\"width\":1},\"size\":9,\"symbol\":\"hexagon\"},\"mode\":\"lines+markers\",\"name\":\"MacNewgeoProb_8mpi_4omp\",\"x\":[50331648,75497472,100663296,125829120,150994944,176160768,201326592,226492416,251658240,276824064,301989888,327155712,352321536,377487360,402653184],\"y\":[32.5968,33.16784,33.60784,33.39216,33.16496,31.47936,30.3584,29.4556,29.23848,28.4372,28.01768,27.85752,27.33224,27.00816,26.44824],\"type\":\"scatter\"},{\"line\":{\"color\":\"darkcyan\",\"width\":3},\"marker\":{\"line\":{\"color\":\"yellow\",\"width\":1},\"size\":9,\"symbol\":\"hexagon\"},\"mode\":\"lines+markers\",\"name\":\"MacNewgeoNonProb_8mpi_4omp\",\"x\":[50331648,75497472,100663296,125829120,150994944,176160768,201326592,226492416,251658240,276824064,301989888,327155712,352321536,377487360,402653184],\"y\":[74.05744,77.0236,79.12528,78.95824,74.37704,67.49728,59.72072,55.04624,48.70144,46.56112,44.26216,42.78952,41.36552,40.92016,38.2488],\"type\":\"scatter\"},{\"line\":{\"color\":\"sandybrown\",\"width\":3},\"marker\":{\"line\":{\"color\":\"MediumPurple\",\"width\":2},\"size\":5,\"symbol\":\"diamond\"},\"mode\":\"lines+markers\",\"name\":\"MacNewgeoProb_16mpi_2omp\",\"x\":[100663296,125829120,150994944,176160768,201326592,226492416,251658240,276824064,301989888,327155712,352321536,402653184],\"y\":[32.78528,33.31968,32.60272,31.6792,30.80976,30.47056,29.70128,29.6536,29.36848,29.05296,28.78672,27.74176],\"type\":\"scatter\"},{\"line\":{\"color\":\"royalblue\",\"width\":3},\"marker\":{\"line\":{\"color\":\"MediumPurple\",\"width\":2},\"size\":5,\"symbol\":\"diamond\"},\"mode\":\"lines+markers\",\"name\":\"MacNewgeoNonProb_16mpi_2omp\",\"x\":[100663296,125829120,150994944,176160768,201326592,226492416,251658240,276824064,301989888,327155712,352321536,377487360,402653184],\"y\":[76.34368,71.20704,71.45488,64.43552,57.036,52.93904,48.18672,46.24736,44.50512,44.27104,42.08944,42.756,40.8096],\"type\":\"scatter\"},{\"line\":{\"color\":\"cyan\",\"width\":3},\"marker\":{\"line\":{\"color\":\"Purple\",\"width\":2},\"size\":7,\"symbol\":\"circle\"},\"mode\":\"lines+markers\",\"name\":\"MacNewgeoProb_32mpi_1omp\",\"x\":[201326592,251658240,301989888,352321536,402653184],\"y\":[30.488672,30.091552,29.796288,29.731808,29.2576],\"type\":\"scatter\"},{\"line\":{\"color\":\"darkblue\",\"width\":3},\"marker\":{\"line\":{\"color\":\"tomato\",\"width\":2},\"size\":7,\"symbol\":\"circle\"},\"mode\":\"lines+markers\",\"name\":\"MacNewgeoNonProb_32mpi_1omp\",\"x\":[201326592,251658240,301989888,352321536,402653184],\"y\":[48.09216,45.4448,43.70016,42.93568,42.07456],\"type\":\"scatter\"}],                        {\"template\":{\"data\":{\"histogram2dcontour\":[{\"type\":\"histogram2dcontour\",\"colorbar\":{\"outlinewidth\":0,\"ticks\":\"\"},\"colorscale\":[[0.0,\"#0d0887\"],[0.1111111111111111,\"#46039f\"],[0.2222222222222222,\"#7201a8\"],[0.3333333333333333,\"#9c179e\"],[0.4444444444444444,\"#bd3786\"],[0.5555555555555556,\"#d8576b\"],[0.6666666666666666,\"#ed7953\"],[0.7777777777777778,\"#fb9f3a\"],[0.8888888888888888,\"#fdca26\"],[1.0,\"#f0f921\"]]}],\"choropleth\":[{\"type\":\"choropleth\",\"colorbar\":{\"outlinewidth\":0,\"ticks\":\"\"}}],\"histogram2d\":[{\"type\":\"histogram2d\",\"colorbar\":{\"outlinewidth\":0,\"ticks\":\"\"},\"colorscale\":[[0.0,\"#0d0887\"],[0.1111111111111111,\"#46039f\"],[0.2222222222222222,\"#7201a8\"],[0.3333333333333333,\"#9c179e\"],[0.4444444444444444,\"#bd3786\"],[0.5555555555555556,\"#d8576b\"],[0.6666666666666666,\"#ed7953\"],[0.7777777777777778,\"#fb9f3a\"],[0.8888888888888888,\"#fdca26\"],[1.0,\"#f0f921\"]]}],\"heatmap\":[{\"type\":\"heatmap\",\"colorbar\":{\"outlinewidth\":0,\"ticks\":\"\"},\"colorscale\":[[0.0,\"#0d0887\"],[0.1111111111111111,\"#46039f\"],[0.2222222222222222,\"#7201a8\"],[0.3333333333333333,\"#9c179e\"],[0.4444444444444444,\"#bd3786\"],[0.5555555555555556,\"#d8576b\"],[0.6666666666666666,\"#ed7953\"],[0.7777777777777778,\"#fb9f3a\"],[0.8888888888888888,\"#fdca26\"],[1.0,\"#f0f921\"]]}],\"heatmapgl\":[{\"type\":\"heatmapgl\",\"colorbar\":{\"outlinewidth\":0,\"ticks\":\"\"},\"colorscale\":[[0.0,\"#0d0887\"],[0.1111111111111111,\"#46039f\"],[0.2222222222222222,\"#7201a8\"],[0.3333333333333333,\"#9c179e\"],[0.4444444444444444,\"#bd3786\"],[0.5555555555555556,\"#d8576b\"],[0.6666666666666666,\"#ed7953\"],[0.7777777777777778,\"#fb9f3a\"],[0.8888888888888888,\"#fdca26\"],[1.0,\"#f0f921\"]]}],\"contourcarpet\":[{\"type\":\"contourcarpet\",\"colorbar\":{\"outlinewidth\":0,\"ticks\":\"\"}}],\"contour\":[{\"type\":\"contour\",\"colorbar\":{\"outlinewidth\":0,\"ticks\":\"\"},\"colorscale\":[[0.0,\"#0d0887\"],[0.1111111111111111,\"#46039f\"],[0.2222222222222222,\"#7201a8\"],[0.3333333333333333,\"#9c179e\"],[0.4444444444444444,\"#bd3786\"],[0.5555555555555556,\"#d8576b\"],[0.6666666666666666,\"#ed7953\"],[0.7777777777777778,\"#fb9f3a\"],[0.8888888888888888,\"#fdca26\"],[1.0,\"#f0f921\"]]}],\"surface\":[{\"type\":\"surface\",\"colorbar\":{\"outlinewidth\":0,\"ticks\":\"\"},\"colorscale\":[[0.0,\"#0d0887\"],[0.1111111111111111,\"#46039f\"],[0.2222222222222222,\"#7201a8\"],[0.3333333333333333,\"#9c179e\"],[0.4444444444444444,\"#bd3786\"],[0.5555555555555556,\"#d8576b\"],[0.6666666666666666,\"#ed7953\"],[0.7777777777777778,\"#fb9f3a\"],[0.8888888888888888,\"#fdca26\"],[1.0,\"#f0f921\"]]}],\"mesh3d\":[{\"type\":\"mesh3d\",\"colorbar\":{\"outlinewidth\":0,\"ticks\":\"\"}}],\"scatter\":[{\"fillpattern\":{\"fillmode\":\"overlay\",\"size\":10,\"solidity\":0.2},\"type\":\"scatter\"}],\"parcoords\":[{\"type\":\"parcoords\",\"line\":{\"colorbar\":{\"outlinewidth\":0,\"ticks\":\"\"}}}],\"scatterpolargl\":[{\"type\":\"scatterpolargl\",\"marker\":{\"colorbar\":{\"outlinewidth\":0,\"ticks\":\"\"}}}],\"bar\":[{\"error_x\":{\"color\":\"#2a3f5f\"},\"error_y\":{\"color\":\"#2a3f5f\"},\"marker\":{\"line\":{\"color\":\"#E5ECF6\",\"width\":0.5},\"pattern\":{\"fillmode\":\"overlay\",\"size\":10,\"solidity\":0.2}},\"type\":\"bar\"}],\"scattergeo\":[{\"type\":\"scattergeo\",\"marker\":{\"colorbar\":{\"outlinewidth\":0,\"ticks\":\"\"}}}],\"scatterpolar\":[{\"type\":\"scatterpolar\",\"marker\":{\"colorbar\":{\"outlinewidth\":0,\"ticks\":\"\"}}}],\"histogram\":[{\"marker\":{\"pattern\":{\"fillmode\":\"overlay\",\"size\":10,\"solidity\":0.2}},\"type\":\"histogram\"}],\"scattergl\":[{\"type\":\"scattergl\",\"marker\":{\"colorbar\":{\"outlinewidth\":0,\"ticks\":\"\"}}}],\"scatter3d\":[{\"type\":\"scatter3d\",\"line\":{\"colorbar\":{\"outlinewidth\":0,\"ticks\":\"\"}},\"marker\":{\"colorbar\":{\"outlinewidth\":0,\"ticks\":\"\"}}}],\"scattermapbox\":[{\"type\":\"scattermapbox\",\"marker\":{\"colorbar\":{\"outlinewidth\":0,\"ticks\":\"\"}}}],\"scatterternary\":[{\"type\":\"scatterternary\",\"marker\":{\"colorbar\":{\"outlinewidth\":0,\"ticks\":\"\"}}}],\"scattercarpet\":[{\"type\":\"scattercarpet\",\"marker\":{\"colorbar\":{\"outlinewidth\":0,\"ticks\":\"\"}}}],\"carpet\":[{\"aaxis\":{\"endlinecolor\":\"#2a3f5f\",\"gridcolor\":\"white\",\"linecolor\":\"white\",\"minorgridcolor\":\"white\",\"startlinecolor\":\"#2a3f5f\"},\"baxis\":{\"endlinecolor\":\"#2a3f5f\",\"gridcolor\":\"white\",\"linecolor\":\"white\",\"minorgridcolor\":\"white\",\"startlinecolor\":\"#2a3f5f\"},\"type\":\"carpet\"}],\"table\":[{\"cells\":{\"fill\":{\"color\":\"#EBF0F8\"},\"line\":{\"color\":\"white\"}},\"header\":{\"fill\":{\"color\":\"#C8D4E3\"},\"line\":{\"color\":\"white\"}},\"type\":\"table\"}],\"barpolar\":[{\"marker\":{\"line\":{\"color\":\"#E5ECF6\",\"width\":0.5},\"pattern\":{\"fillmode\":\"overlay\",\"size\":10,\"solidity\":0.2}},\"type\":\"barpolar\"}],\"pie\":[{\"automargin\":true,\"type\":\"pie\"}]},\"layout\":{\"autotypenumbers\":\"strict\",\"colorway\":[\"#636efa\",\"#EF553B\",\"#00cc96\",\"#ab63fa\",\"#FFA15A\",\"#19d3f3\",\"#FF6692\",\"#B6E880\",\"#FF97FF\",\"#FECB52\"],\"font\":{\"color\":\"#2a3f5f\"},\"hovermode\":\"closest\",\"hoverlabel\":{\"align\":\"left\"},\"paper_bgcolor\":\"white\",\"plot_bgcolor\":\"#E5ECF6\",\"polar\":{\"bgcolor\":\"#E5ECF6\",\"angularaxis\":{\"gridcolor\":\"white\",\"linecolor\":\"white\",\"ticks\":\"\"},\"radialaxis\":{\"gridcolor\":\"white\",\"linecolor\":\"white\",\"ticks\":\"\"}},\"ternary\":{\"bgcolor\":\"#E5ECF6\",\"aaxis\":{\"gridcolor\":\"white\",\"linecolor\":\"white\",\"ticks\":\"\"},\"baxis\":{\"gridcolor\":\"white\",\"linecolor\":\"white\",\"ticks\":\"\"},\"caxis\":{\"gridcolor\":\"white\",\"linecolor\":\"white\",\"ticks\":\"\"}},\"coloraxis\":{\"colorbar\":{\"outlinewidth\":0,\"ticks\":\"\"}},\"colorscale\":{\"sequential\":[[0.0,\"#0d0887\"],[0.1111111111111111,\"#46039f\"],[0.2222222222222222,\"#7201a8\"],[0.3333333333333333,\"#9c179e\"],[0.4444444444444444,\"#bd3786\"],[0.5555555555555556,\"#d8576b\"],[0.6666666666666666,\"#ed7953\"],[0.7777777777777778,\"#fb9f3a\"],[0.8888888888888888,\"#fdca26\"],[1.0,\"#f0f921\"]],\"sequentialminus\":[[0.0,\"#0d0887\"],[0.1111111111111111,\"#46039f\"],[0.2222222222222222,\"#7201a8\"],[0.3333333333333333,\"#9c179e\"],[0.4444444444444444,\"#bd3786\"],[0.5555555555555556,\"#d8576b\"],[0.6666666666666666,\"#ed7953\"],[0.7777777777777778,\"#fb9f3a\"],[0.8888888888888888,\"#fdca26\"],[1.0,\"#f0f921\"]],\"diverging\":[[0,\"#8e0152\"],[0.1,\"#c51b7d\"],[0.2,\"#de77ae\"],[0.3,\"#f1b6da\"],[0.4,\"#fde0ef\"],[0.5,\"#f7f7f7\"],[0.6,\"#e6f5d0\"],[0.7,\"#b8e186\"],[0.8,\"#7fbc41\"],[0.9,\"#4d9221\"],[1,\"#276419\"]]},\"xaxis\":{\"gridcolor\":\"white\",\"linecolor\":\"white\",\"ticks\":\"\",\"title\":{\"standoff\":15},\"zerolinecolor\":\"white\",\"automargin\":true,\"zerolinewidth\":2},\"yaxis\":{\"gridcolor\":\"white\",\"linecolor\":\"white\",\"ticks\":\"\",\"title\":{\"standoff\":15},\"zerolinecolor\":\"white\",\"automargin\":true,\"zerolinewidth\":2},\"scene\":{\"xaxis\":{\"backgroundcolor\":\"#E5ECF6\",\"gridcolor\":\"white\",\"linecolor\":\"white\",\"showbackground\":true,\"ticks\":\"\",\"zerolinecolor\":\"white\",\"gridwidth\":2},\"yaxis\":{\"backgroundcolor\":\"#E5ECF6\",\"gridcolor\":\"white\",\"linecolor\":\"white\",\"showbackground\":true,\"ticks\":\"\",\"zerolinecolor\":\"white\",\"gridwidth\":2},\"zaxis\":{\"backgroundcolor\":\"#E5ECF6\",\"gridcolor\":\"white\",\"linecolor\":\"white\",\"showbackground\":true,\"ticks\":\"\",\"zerolinecolor\":\"white\",\"gridwidth\":2}},\"shapedefaults\":{\"line\":{\"color\":\"#2a3f5f\"}},\"annotationdefaults\":{\"arrowcolor\":\"#2a3f5f\",\"arrowhead\":0,\"arrowwidth\":1},\"geo\":{\"bgcolor\":\"white\",\"landcolor\":\"#E5ECF6\",\"subunitcolor\":\"white\",\"showland\":true,\"showlakes\":true,\"lakecolor\":\"white\"},\"title\":{\"x\":0.05},\"mapbox\":{\"style\":\"light\"}}},\"shapes\":[{\"line\":{\"color\":\"green\",\"dash\":\"dash\",\"width\":3},\"type\":\"line\",\"x0\":80000000.0,\"x1\":80000000.0,\"xref\":\"x\",\"y0\":0,\"y1\":1,\"yref\":\"y domain\"}],\"annotations\":[{\"align\":\"left\",\"arrowcolor\":\"#636363\",\"arrowhead\":1,\"arrowsize\":1,\"arrowwidth\":2,\"ax\":-20,\"ay\":-30,\"font\":{\"color\":\"purple\",\"family\":\"Sans Serif\",\"size\":12},\"showarrow\":false,\"text\":\"LLC Size Per Node\",\"x\":\"80e6\",\"y\":130,\"yanchor\":\"bottom\"}],\"xaxis\":{\"title\":{\"text\":\"Dirc_Data_Mov\"},\"ticks\":\"outside\"},\"yaxis\":{\"title\":{\"text\":\"GFLOPs/Node\"},\"ticks\":\"outside\"},\"title\":{\"text\":\"\\\"Macro Newgeometry: Probempi vs Nonprobempi\\\" GFlops Measurement\"}},                        {\"responsive\": true}                    ).then(function(){\n",
       "                            \n",
       "var gd = document.getElementById('5e1d8144-9930-4ba1-8b0a-a7ab7b37b453');\n",
       "var x = new MutationObserver(function (mutations, observer) {{\n",
       "        var display = window.getComputedStyle(gd).display;\n",
       "        if (!display || display === 'none') {{\n",
       "            console.log([gd, 'removed!']);\n",
       "            Plotly.purge(gd);\n",
       "            observer.disconnect();\n",
       "        }}\n",
       "}});\n",
       "\n",
       "// Listen for the removal of the full notebook cells\n",
       "var notebookContainer = gd.closest('#notebook-container');\n",
       "if (notebookContainer) {{\n",
       "    x.observe(notebookContainer, {childList: true});\n",
       "}}\n",
       "\n",
       "// Listen for the clearing of the current output cell\n",
       "var outputEl = gd.closest('.output');\n",
       "if (outputEl) {{\n",
       "    x.observe(outputEl, {childList: true});\n",
       "}}\n",
       "\n",
       "                        })                };                });            </script>        </div>"
      ]
     },
     "metadata": {},
     "output_type": "display_data"
    }
   ],
   "source": [
    "fig = go.Figure() \n",
    "\n",
    "fig.add_trace(go.Scatter(x=(dfMacNewgeoProb_8mpi_4omp.Dirc_Data_Mov*(dfMacNewgeoProb_8mpi_4omp.MPI_size)), \n",
    "                         y=(dfMacNewgeoProb_8mpi_4omp.GFLOPS*(dfMacNewgeoProb_8mpi_4omp.MPI_size)), \n",
    "                         mode='lines+markers', \n",
    "                         name='MacNewgeoProb_8mpi_4omp',\n",
    "                         line=dict(color='magenta',width=3),\n",
    "                         marker=dict(symbol='hexagon',size=9, line=dict(color='yellow',width=1))))\n",
    "\n",
    "fig.add_trace(go.Scatter(x=(dfMacNewgeoNonProb_8mpi_4omp.Dirc_Data_Mov*(dfMacNewgeoNonProb_8mpi_4omp.MPI_size)), \n",
    "                         y=(dfMacNewgeoNonProb_8mpi_4omp.GFLOPS*(dfMacNewgeoNonProb_8mpi_4omp.MPI_size)), \n",
    "                         mode='lines+markers', \n",
    "                         name='MacNewgeoNonProb_8mpi_4omp',\n",
    "                         line=dict(color='darkcyan',width=3),\n",
    "                         marker=dict(symbol='hexagon',size=9, line=dict(color='yellow',width=1))))\n",
    "\n",
    "\n",
    "\n",
    "fig.add_trace(go.Scatter(x=(dfMacNewgeoProb_16mpi_2omp.Dirc_Data_Mov*(dfMacNewgeoProb_16mpi_2omp.MPI_size)), \n",
    "                         y=(dfMacNewgeoProb_16mpi_2omp.GFLOPS*(dfMacNewgeoProb_16mpi_2omp.MPI_size)), \n",
    "                         mode='lines+markers', \n",
    "                         name='MacNewgeoProb_16mpi_2omp',\n",
    "                         line=dict(color='sandybrown',width=3),\n",
    "                         marker=dict(symbol='diamond',size=5,line=dict(color='MediumPurple',width=2))))\n",
    "\n",
    "fig.add_trace(go.Scatter(x=(dfMacNewgeoNonProb_16mpi_2omp.Dirc_Data_Mov*(dfMacNewgeoNonProb_16mpi_2omp.MPI_size)), \n",
    "                         y=(dfMacNewgeoNonProb_16mpi_2omp.GFLOPS*(dfMacNewgeoNonProb_16mpi_2omp.MPI_size)), \n",
    "                         mode='lines+markers', \n",
    "                         name='MacNewgeoNonProb_16mpi_2omp',\n",
    "                         line=dict(color='royalblue',width=3),\n",
    "                         marker=dict(symbol='diamond',size=5,line=dict(color='MediumPurple',width=2))))\n",
    "\n",
    "\n",
    "\n",
    "fig.add_trace(go.Scatter(x=(dfMacNewgeoProb_32mpi_1omp.Dirc_Data_Mov*(dfMacNewgeoProb_32mpi_1omp.MPI_size)), \n",
    "                         y=(dfMacNewgeoProb_32mpi_1omp.GFLOPS*(dfMacNewgeoProb_32mpi_1omp.MPI_size)), \n",
    "                         mode='lines+markers', \n",
    "                         name='MacNewgeoProb_32mpi_1omp',\n",
    "                         line=dict(color='cyan',width=3),\n",
    "                         marker=dict(symbol='circle',size=7,line=dict(color='Purple',width=2))))\n",
    "\n",
    "fig.add_trace(go.Scatter(x=(dfMacNewgeoNonProb_32mpi_1omp.Dirc_Data_Mov*(dfMacNewgeoNonProb_32mpi_1omp.MPI_size)), \n",
    "                         y=(dfMacNewgeoNonProb_32mpi_1omp.GFLOPS*(dfMacNewgeoNonProb_32mpi_1omp.MPI_size)), \n",
    "                         mode='lines+markers', \n",
    "                         name='MacNewgeoNonProb_32mpi_1omp',\n",
    "                         line=dict(color='darkblue',width=3),\n",
    "                         marker=dict(symbol='circle',size=7, line=dict(color='tomato',width=2))))\n",
    "\n",
    "\n",
    "\n",
    "# Adding a vertical line\n",
    "fig.add_vline(x=80e6, line_width=3, line_dash=\"dash\", line_color=\"green\")\n",
    "# fig.add_hline(y=1024, line_width=3, line_dash=\"dash\", line_color=\"red\")\n",
    "\n",
    "# Add annotation\n",
    "fig.add_annotation(\n",
    "    x='80e6'\n",
    "    , y=130\n",
    "    , text=f'LLC Size Per Node'\n",
    "    , yanchor='bottom'\n",
    "    , showarrow=False\n",
    "    , arrowhead=1\n",
    "    , arrowsize=1\n",
    "    , arrowwidth=2\n",
    "    , arrowcolor=\"#636363\"\n",
    "    , ax=-20\n",
    "    , ay=-30\n",
    "    , font=dict(size=12, color=\"purple\", family=\"Sans Serif\")\n",
    "    , align=\"left\"\n",
    "    ,)\n",
    "\n",
    "fig.update_layout(title='\"Macro Newgeometry: Probempi vs Nonprobempi\" GFlops Measurement',\n",
    "                  xaxis_title='Dirc_Data_Mov', yaxis_title='GFLOPs/Node', \n",
    "                  xaxis=dict(ticks=\"outside\"),  \n",
    "                  yaxis=dict(ticks=\"outside\"))"
   ]
  },
  {
   "cell_type": "code",
   "execution_count": null,
   "id": "19fa653a",
   "metadata": {},
   "outputs": [],
   "source": []
  },
  {
   "cell_type": "markdown",
   "id": "ec3a1e7a",
   "metadata": {},
   "source": [
    "## BANDWIDTH - Macro Newgeometry: Probempi vs Nonprobempi"
   ]
  },
  {
   "cell_type": "code",
   "execution_count": 116,
   "id": "67335e58",
   "metadata": {},
   "outputs": [
    {
     "data": {
      "application/vnd.plotly.v1+json": {
       "config": {
        "plotlyServerURL": "https://plot.ly"
       },
       "data": [
        {
         "line": {
          "color": "magenta",
          "width": 3
         },
         "marker": {
          "line": {
           "color": "yellow",
           "width": 1
          },
          "size": 9,
          "symbol": "hexagon"
         },
         "mode": "lines+markers",
         "name": "MacNewgeoProb_8mpi_4omp",
         "type": "scatter",
         "x": [
          50331648,
          75497472,
          100663296,
          125829120,
          150994944,
          176160768,
          201326592,
          226492416,
          251658240,
          276824064,
          301989888,
          327155712,
          352321536,
          377487360,
          402653184
         ],
         "y": [
          75.8616,
          77.19064,
          78.21456,
          77.71272,
          77.18392,
          73.26104,
          70.6524,
          68.5512,
          68.04584,
          66.18112,
          65.20488,
          64.832,
          63.60952,
          62.85544,
          61.55216
         ]
        },
        {
         "line": {
          "color": "darkcyan",
          "width": 3
         },
         "marker": {
          "line": {
           "color": "yellow",
           "width": 1
          },
          "size": 9,
          "symbol": "hexagon"
         },
         "mode": "lines+markers",
         "name": "MacNewgeoNonProb_8mpi_4omp",
         "type": "scatter",
         "x": [
          50331648,
          75497472,
          100663296,
          125829120,
          150994944,
          176160768,
          201326592,
          226492416,
          251658240,
          276824064,
          301989888,
          327155712,
          352321536,
          377487360,
          402653184
         ],
         "y": [
          172.352,
          179.2552,
          184.1464,
          183.7576,
          173.0952,
          157.0848,
          138.9864,
          128.1072,
          113.3416,
          108.36,
          103.0104,
          99.5832,
          96.2688,
          95.2328,
          89.0152
         ]
        },
        {
         "line": {
          "color": "sandybrown",
          "width": 3
         },
         "marker": {
          "line": {
           "color": "MediumPurple",
           "width": 2
          },
          "size": 5,
          "symbol": "diamond"
         },
         "mode": "lines+markers",
         "name": "MacNewgeoProb_16mpi_2omp",
         "type": "scatter",
         "x": [
          100663296,
          125829120,
          150994944,
          176160768,
          201326592,
          226492416,
          251658240,
          276824064,
          301989888,
          327155712,
          352321536,
          402653184
         ],
         "y": [
          76.30016,
          77.54384,
          75.87536,
          73.72624,
          71.70272,
          70.91344,
          69.12288,
          69.01184,
          68.34832,
          67.61424,
          66.99472,
          64.56272
         ]
        },
        {
         "line": {
          "color": "royalblue",
          "width": 3
         },
         "marker": {
          "line": {
           "color": "MediumPurple",
           "width": 2
          },
          "size": 5,
          "symbol": "diamond"
         },
         "mode": "lines+markers",
         "name": "MacNewgeoNonProb_16mpi_2omp",
         "type": "scatter",
         "x": [
          100663296,
          125829120,
          150994944,
          176160768,
          201326592,
          226492416,
          251658240,
          276824064,
          301989888,
          327155712,
          352321536,
          377487360,
          402653184
         ],
         "y": [
          177.672,
          165.7184,
          166.2944,
          149.95904,
          132.73824,
          123.20368,
          112.14352,
          107.63008,
          103.57552,
          103.03072,
          97.9536,
          99.50464,
          94.97504
         ]
        },
        {
         "line": {
          "color": "cyan",
          "width": 3
         },
         "marker": {
          "line": {
           "color": "Purple",
           "width": 2
          },
          "size": 7,
          "symbol": "circle"
         },
         "mode": "lines+markers",
         "name": "MacNewgeoProb_32mpi_1omp",
         "type": "scatter",
         "x": [
          201326592,
          251658240,
          301989888,
          352321536,
          402653184
         ],
         "y": [
          70.95552,
          70.03136,
          69.344,
          69.19392,
          68.09056
         ]
        },
        {
         "line": {
          "color": "darkblue",
          "width": 3
         },
         "marker": {
          "line": {
           "color": "tomato",
           "width": 2
          },
          "size": 7,
          "symbol": "circle"
         },
         "mode": "lines+markers",
         "name": "MacNewgeoNonProb_32mpi_1omp",
         "type": "scatter",
         "x": [
          201326592,
          251658240,
          301989888,
          352321536,
          402653184
         ],
         "y": [
          111.92384,
          105.76224,
          101.7024,
          99.9232,
          97.91904
         ]
        }
       ],
       "layout": {
        "annotations": [
         {
          "align": "left",
          "arrowcolor": "#636363",
          "arrowhead": 1,
          "arrowsize": 1,
          "arrowwidth": 2,
          "ax": -20,
          "ay": -30,
          "font": {
           "color": "purple",
           "family": "Sans Serif",
           "size": 12
          },
          "showarrow": false,
          "text": "LLC Size Per Node: 80M",
          "x": "80e6",
          "y": 280,
          "yanchor": "bottom"
         },
         {
          "align": "left",
          "arrowcolor": "#636363",
          "arrowhead": 1,
          "arrowsize": 1,
          "arrowwidth": 2,
          "ax": -20,
          "ay": -30,
          "font": {
           "color": "orange",
           "family": "Sans Serif",
           "size": 12
          },
          "showarrow": false,
          "text": "Max Bandwidth Per Node",
          "x": "130e6",
          "y": 155,
          "yanchor": "bottom"
         }
        ],
        "shapes": [
         {
          "line": {
           "color": "green",
           "dash": "dot",
           "width": 3
          },
          "type": "line",
          "x0": 80000000,
          "x1": 80000000,
          "xref": "x",
          "y0": 0,
          "y1": 1,
          "yref": "y domain"
         },
         {
          "line": {
           "color": "red",
           "dash": "dash",
           "width": 3
          },
          "type": "line",
          "x0": 0,
          "x1": 1,
          "xref": "x domain",
          "y0": 153,
          "y1": 153,
          "yref": "y"
         }
        ],
        "template": {
         "data": {
          "bar": [
           {
            "error_x": {
             "color": "#2a3f5f"
            },
            "error_y": {
             "color": "#2a3f5f"
            },
            "marker": {
             "line": {
              "color": "#E5ECF6",
              "width": 0.5
             },
             "pattern": {
              "fillmode": "overlay",
              "size": 10,
              "solidity": 0.2
             }
            },
            "type": "bar"
           }
          ],
          "barpolar": [
           {
            "marker": {
             "line": {
              "color": "#E5ECF6",
              "width": 0.5
             },
             "pattern": {
              "fillmode": "overlay",
              "size": 10,
              "solidity": 0.2
             }
            },
            "type": "barpolar"
           }
          ],
          "carpet": [
           {
            "aaxis": {
             "endlinecolor": "#2a3f5f",
             "gridcolor": "white",
             "linecolor": "white",
             "minorgridcolor": "white",
             "startlinecolor": "#2a3f5f"
            },
            "baxis": {
             "endlinecolor": "#2a3f5f",
             "gridcolor": "white",
             "linecolor": "white",
             "minorgridcolor": "white",
             "startlinecolor": "#2a3f5f"
            },
            "type": "carpet"
           }
          ],
          "choropleth": [
           {
            "colorbar": {
             "outlinewidth": 0,
             "ticks": ""
            },
            "type": "choropleth"
           }
          ],
          "contour": [
           {
            "colorbar": {
             "outlinewidth": 0,
             "ticks": ""
            },
            "colorscale": [
             [
              0,
              "#0d0887"
             ],
             [
              0.1111111111111111,
              "#46039f"
             ],
             [
              0.2222222222222222,
              "#7201a8"
             ],
             [
              0.3333333333333333,
              "#9c179e"
             ],
             [
              0.4444444444444444,
              "#bd3786"
             ],
             [
              0.5555555555555556,
              "#d8576b"
             ],
             [
              0.6666666666666666,
              "#ed7953"
             ],
             [
              0.7777777777777778,
              "#fb9f3a"
             ],
             [
              0.8888888888888888,
              "#fdca26"
             ],
             [
              1,
              "#f0f921"
             ]
            ],
            "type": "contour"
           }
          ],
          "contourcarpet": [
           {
            "colorbar": {
             "outlinewidth": 0,
             "ticks": ""
            },
            "type": "contourcarpet"
           }
          ],
          "heatmap": [
           {
            "colorbar": {
             "outlinewidth": 0,
             "ticks": ""
            },
            "colorscale": [
             [
              0,
              "#0d0887"
             ],
             [
              0.1111111111111111,
              "#46039f"
             ],
             [
              0.2222222222222222,
              "#7201a8"
             ],
             [
              0.3333333333333333,
              "#9c179e"
             ],
             [
              0.4444444444444444,
              "#bd3786"
             ],
             [
              0.5555555555555556,
              "#d8576b"
             ],
             [
              0.6666666666666666,
              "#ed7953"
             ],
             [
              0.7777777777777778,
              "#fb9f3a"
             ],
             [
              0.8888888888888888,
              "#fdca26"
             ],
             [
              1,
              "#f0f921"
             ]
            ],
            "type": "heatmap"
           }
          ],
          "heatmapgl": [
           {
            "colorbar": {
             "outlinewidth": 0,
             "ticks": ""
            },
            "colorscale": [
             [
              0,
              "#0d0887"
             ],
             [
              0.1111111111111111,
              "#46039f"
             ],
             [
              0.2222222222222222,
              "#7201a8"
             ],
             [
              0.3333333333333333,
              "#9c179e"
             ],
             [
              0.4444444444444444,
              "#bd3786"
             ],
             [
              0.5555555555555556,
              "#d8576b"
             ],
             [
              0.6666666666666666,
              "#ed7953"
             ],
             [
              0.7777777777777778,
              "#fb9f3a"
             ],
             [
              0.8888888888888888,
              "#fdca26"
             ],
             [
              1,
              "#f0f921"
             ]
            ],
            "type": "heatmapgl"
           }
          ],
          "histogram": [
           {
            "marker": {
             "pattern": {
              "fillmode": "overlay",
              "size": 10,
              "solidity": 0.2
             }
            },
            "type": "histogram"
           }
          ],
          "histogram2d": [
           {
            "colorbar": {
             "outlinewidth": 0,
             "ticks": ""
            },
            "colorscale": [
             [
              0,
              "#0d0887"
             ],
             [
              0.1111111111111111,
              "#46039f"
             ],
             [
              0.2222222222222222,
              "#7201a8"
             ],
             [
              0.3333333333333333,
              "#9c179e"
             ],
             [
              0.4444444444444444,
              "#bd3786"
             ],
             [
              0.5555555555555556,
              "#d8576b"
             ],
             [
              0.6666666666666666,
              "#ed7953"
             ],
             [
              0.7777777777777778,
              "#fb9f3a"
             ],
             [
              0.8888888888888888,
              "#fdca26"
             ],
             [
              1,
              "#f0f921"
             ]
            ],
            "type": "histogram2d"
           }
          ],
          "histogram2dcontour": [
           {
            "colorbar": {
             "outlinewidth": 0,
             "ticks": ""
            },
            "colorscale": [
             [
              0,
              "#0d0887"
             ],
             [
              0.1111111111111111,
              "#46039f"
             ],
             [
              0.2222222222222222,
              "#7201a8"
             ],
             [
              0.3333333333333333,
              "#9c179e"
             ],
             [
              0.4444444444444444,
              "#bd3786"
             ],
             [
              0.5555555555555556,
              "#d8576b"
             ],
             [
              0.6666666666666666,
              "#ed7953"
             ],
             [
              0.7777777777777778,
              "#fb9f3a"
             ],
             [
              0.8888888888888888,
              "#fdca26"
             ],
             [
              1,
              "#f0f921"
             ]
            ],
            "type": "histogram2dcontour"
           }
          ],
          "mesh3d": [
           {
            "colorbar": {
             "outlinewidth": 0,
             "ticks": ""
            },
            "type": "mesh3d"
           }
          ],
          "parcoords": [
           {
            "line": {
             "colorbar": {
              "outlinewidth": 0,
              "ticks": ""
             }
            },
            "type": "parcoords"
           }
          ],
          "pie": [
           {
            "automargin": true,
            "type": "pie"
           }
          ],
          "scatter": [
           {
            "fillpattern": {
             "fillmode": "overlay",
             "size": 10,
             "solidity": 0.2
            },
            "type": "scatter"
           }
          ],
          "scatter3d": [
           {
            "line": {
             "colorbar": {
              "outlinewidth": 0,
              "ticks": ""
             }
            },
            "marker": {
             "colorbar": {
              "outlinewidth": 0,
              "ticks": ""
             }
            },
            "type": "scatter3d"
           }
          ],
          "scattercarpet": [
           {
            "marker": {
             "colorbar": {
              "outlinewidth": 0,
              "ticks": ""
             }
            },
            "type": "scattercarpet"
           }
          ],
          "scattergeo": [
           {
            "marker": {
             "colorbar": {
              "outlinewidth": 0,
              "ticks": ""
             }
            },
            "type": "scattergeo"
           }
          ],
          "scattergl": [
           {
            "marker": {
             "colorbar": {
              "outlinewidth": 0,
              "ticks": ""
             }
            },
            "type": "scattergl"
           }
          ],
          "scattermapbox": [
           {
            "marker": {
             "colorbar": {
              "outlinewidth": 0,
              "ticks": ""
             }
            },
            "type": "scattermapbox"
           }
          ],
          "scatterpolar": [
           {
            "marker": {
             "colorbar": {
              "outlinewidth": 0,
              "ticks": ""
             }
            },
            "type": "scatterpolar"
           }
          ],
          "scatterpolargl": [
           {
            "marker": {
             "colorbar": {
              "outlinewidth": 0,
              "ticks": ""
             }
            },
            "type": "scatterpolargl"
           }
          ],
          "scatterternary": [
           {
            "marker": {
             "colorbar": {
              "outlinewidth": 0,
              "ticks": ""
             }
            },
            "type": "scatterternary"
           }
          ],
          "surface": [
           {
            "colorbar": {
             "outlinewidth": 0,
             "ticks": ""
            },
            "colorscale": [
             [
              0,
              "#0d0887"
             ],
             [
              0.1111111111111111,
              "#46039f"
             ],
             [
              0.2222222222222222,
              "#7201a8"
             ],
             [
              0.3333333333333333,
              "#9c179e"
             ],
             [
              0.4444444444444444,
              "#bd3786"
             ],
             [
              0.5555555555555556,
              "#d8576b"
             ],
             [
              0.6666666666666666,
              "#ed7953"
             ],
             [
              0.7777777777777778,
              "#fb9f3a"
             ],
             [
              0.8888888888888888,
              "#fdca26"
             ],
             [
              1,
              "#f0f921"
             ]
            ],
            "type": "surface"
           }
          ],
          "table": [
           {
            "cells": {
             "fill": {
              "color": "#EBF0F8"
             },
             "line": {
              "color": "white"
             }
            },
            "header": {
             "fill": {
              "color": "#C8D4E3"
             },
             "line": {
              "color": "white"
             }
            },
            "type": "table"
           }
          ]
         },
         "layout": {
          "annotationdefaults": {
           "arrowcolor": "#2a3f5f",
           "arrowhead": 0,
           "arrowwidth": 1
          },
          "autotypenumbers": "strict",
          "coloraxis": {
           "colorbar": {
            "outlinewidth": 0,
            "ticks": ""
           }
          },
          "colorscale": {
           "diverging": [
            [
             0,
             "#8e0152"
            ],
            [
             0.1,
             "#c51b7d"
            ],
            [
             0.2,
             "#de77ae"
            ],
            [
             0.3,
             "#f1b6da"
            ],
            [
             0.4,
             "#fde0ef"
            ],
            [
             0.5,
             "#f7f7f7"
            ],
            [
             0.6,
             "#e6f5d0"
            ],
            [
             0.7,
             "#b8e186"
            ],
            [
             0.8,
             "#7fbc41"
            ],
            [
             0.9,
             "#4d9221"
            ],
            [
             1,
             "#276419"
            ]
           ],
           "sequential": [
            [
             0,
             "#0d0887"
            ],
            [
             0.1111111111111111,
             "#46039f"
            ],
            [
             0.2222222222222222,
             "#7201a8"
            ],
            [
             0.3333333333333333,
             "#9c179e"
            ],
            [
             0.4444444444444444,
             "#bd3786"
            ],
            [
             0.5555555555555556,
             "#d8576b"
            ],
            [
             0.6666666666666666,
             "#ed7953"
            ],
            [
             0.7777777777777778,
             "#fb9f3a"
            ],
            [
             0.8888888888888888,
             "#fdca26"
            ],
            [
             1,
             "#f0f921"
            ]
           ],
           "sequentialminus": [
            [
             0,
             "#0d0887"
            ],
            [
             0.1111111111111111,
             "#46039f"
            ],
            [
             0.2222222222222222,
             "#7201a8"
            ],
            [
             0.3333333333333333,
             "#9c179e"
            ],
            [
             0.4444444444444444,
             "#bd3786"
            ],
            [
             0.5555555555555556,
             "#d8576b"
            ],
            [
             0.6666666666666666,
             "#ed7953"
            ],
            [
             0.7777777777777778,
             "#fb9f3a"
            ],
            [
             0.8888888888888888,
             "#fdca26"
            ],
            [
             1,
             "#f0f921"
            ]
           ]
          },
          "colorway": [
           "#636efa",
           "#EF553B",
           "#00cc96",
           "#ab63fa",
           "#FFA15A",
           "#19d3f3",
           "#FF6692",
           "#B6E880",
           "#FF97FF",
           "#FECB52"
          ],
          "font": {
           "color": "#2a3f5f"
          },
          "geo": {
           "bgcolor": "white",
           "lakecolor": "white",
           "landcolor": "#E5ECF6",
           "showlakes": true,
           "showland": true,
           "subunitcolor": "white"
          },
          "hoverlabel": {
           "align": "left"
          },
          "hovermode": "closest",
          "mapbox": {
           "style": "light"
          },
          "paper_bgcolor": "white",
          "plot_bgcolor": "#E5ECF6",
          "polar": {
           "angularaxis": {
            "gridcolor": "white",
            "linecolor": "white",
            "ticks": ""
           },
           "bgcolor": "#E5ECF6",
           "radialaxis": {
            "gridcolor": "white",
            "linecolor": "white",
            "ticks": ""
           }
          },
          "scene": {
           "xaxis": {
            "backgroundcolor": "#E5ECF6",
            "gridcolor": "white",
            "gridwidth": 2,
            "linecolor": "white",
            "showbackground": true,
            "ticks": "",
            "zerolinecolor": "white"
           },
           "yaxis": {
            "backgroundcolor": "#E5ECF6",
            "gridcolor": "white",
            "gridwidth": 2,
            "linecolor": "white",
            "showbackground": true,
            "ticks": "",
            "zerolinecolor": "white"
           },
           "zaxis": {
            "backgroundcolor": "#E5ECF6",
            "gridcolor": "white",
            "gridwidth": 2,
            "linecolor": "white",
            "showbackground": true,
            "ticks": "",
            "zerolinecolor": "white"
           }
          },
          "shapedefaults": {
           "line": {
            "color": "#2a3f5f"
           }
          },
          "ternary": {
           "aaxis": {
            "gridcolor": "white",
            "linecolor": "white",
            "ticks": ""
           },
           "baxis": {
            "gridcolor": "white",
            "linecolor": "white",
            "ticks": ""
           },
           "bgcolor": "#E5ECF6",
           "caxis": {
            "gridcolor": "white",
            "linecolor": "white",
            "ticks": ""
           }
          },
          "title": {
           "x": 0.05
          },
          "xaxis": {
           "automargin": true,
           "gridcolor": "white",
           "linecolor": "white",
           "ticks": "",
           "title": {
            "standoff": 15
           },
           "zerolinecolor": "white",
           "zerolinewidth": 2
          },
          "yaxis": {
           "automargin": true,
           "gridcolor": "white",
           "linecolor": "white",
           "ticks": "",
           "title": {
            "standoff": 15
           },
           "zerolinecolor": "white",
           "zerolinewidth": 2
          }
         }
        },
        "title": {
         "text": "\"Macro Newgeometry: Probempi vs Nonprobempi\" Bandwidth Measurement"
        },
        "xaxis": {
         "ticks": "outside",
         "title": {
          "text": "Dirc_Data_Mov"
         }
        },
        "yaxis": {
         "ticks": "outside",
         "title": {
          "text": "Bandwidth/Node"
         }
        }
       }
      },
      "text/html": [
       "<div>                            <div id=\"678d4e2a-bac5-4ab5-8c17-acbdb34ff5cb\" class=\"plotly-graph-div\" style=\"height:525px; width:100%;\"></div>            <script type=\"text/javascript\">                require([\"plotly\"], function(Plotly) {                    window.PLOTLYENV=window.PLOTLYENV || {};                                    if (document.getElementById(\"678d4e2a-bac5-4ab5-8c17-acbdb34ff5cb\")) {                    Plotly.newPlot(                        \"678d4e2a-bac5-4ab5-8c17-acbdb34ff5cb\",                        [{\"line\":{\"color\":\"magenta\",\"width\":3},\"marker\":{\"line\":{\"color\":\"yellow\",\"width\":1},\"size\":9,\"symbol\":\"hexagon\"},\"mode\":\"lines+markers\",\"name\":\"MacNewgeoProb_8mpi_4omp\",\"x\":[50331648,75497472,100663296,125829120,150994944,176160768,201326592,226492416,251658240,276824064,301989888,327155712,352321536,377487360,402653184],\"y\":[75.8616,77.19064,78.21456,77.71272,77.18392,73.26104,70.6524,68.5512,68.04584,66.18112,65.20488,64.832,63.60952,62.85544,61.55216],\"type\":\"scatter\"},{\"line\":{\"color\":\"darkcyan\",\"width\":3},\"marker\":{\"line\":{\"color\":\"yellow\",\"width\":1},\"size\":9,\"symbol\":\"hexagon\"},\"mode\":\"lines+markers\",\"name\":\"MacNewgeoNonProb_8mpi_4omp\",\"x\":[50331648,75497472,100663296,125829120,150994944,176160768,201326592,226492416,251658240,276824064,301989888,327155712,352321536,377487360,402653184],\"y\":[172.352,179.2552,184.1464,183.7576,173.0952,157.0848,138.9864,128.1072,113.3416,108.36,103.0104,99.5832,96.2688,95.2328,89.0152],\"type\":\"scatter\"},{\"line\":{\"color\":\"sandybrown\",\"width\":3},\"marker\":{\"line\":{\"color\":\"MediumPurple\",\"width\":2},\"size\":5,\"symbol\":\"diamond\"},\"mode\":\"lines+markers\",\"name\":\"MacNewgeoProb_16mpi_2omp\",\"x\":[100663296,125829120,150994944,176160768,201326592,226492416,251658240,276824064,301989888,327155712,352321536,402653184],\"y\":[76.30016,77.54384,75.87536,73.72624,71.70272,70.91344,69.12288,69.01184,68.34832,67.61424,66.99472,64.56272],\"type\":\"scatter\"},{\"line\":{\"color\":\"royalblue\",\"width\":3},\"marker\":{\"line\":{\"color\":\"MediumPurple\",\"width\":2},\"size\":5,\"symbol\":\"diamond\"},\"mode\":\"lines+markers\",\"name\":\"MacNewgeoNonProb_16mpi_2omp\",\"x\":[100663296,125829120,150994944,176160768,201326592,226492416,251658240,276824064,301989888,327155712,352321536,377487360,402653184],\"y\":[177.672,165.7184,166.2944,149.95904,132.73824,123.20368,112.14352,107.63008,103.57552,103.03072,97.9536,99.50464,94.97504],\"type\":\"scatter\"},{\"line\":{\"color\":\"cyan\",\"width\":3},\"marker\":{\"line\":{\"color\":\"Purple\",\"width\":2},\"size\":7,\"symbol\":\"circle\"},\"mode\":\"lines+markers\",\"name\":\"MacNewgeoProb_32mpi_1omp\",\"x\":[201326592,251658240,301989888,352321536,402653184],\"y\":[70.95552,70.03136,69.344,69.19392,68.09056],\"type\":\"scatter\"},{\"line\":{\"color\":\"darkblue\",\"width\":3},\"marker\":{\"line\":{\"color\":\"tomato\",\"width\":2},\"size\":7,\"symbol\":\"circle\"},\"mode\":\"lines+markers\",\"name\":\"MacNewgeoNonProb_32mpi_1omp\",\"x\":[201326592,251658240,301989888,352321536,402653184],\"y\":[111.92384,105.76224,101.7024,99.9232,97.91904],\"type\":\"scatter\"}],                        {\"template\":{\"data\":{\"histogram2dcontour\":[{\"type\":\"histogram2dcontour\",\"colorbar\":{\"outlinewidth\":0,\"ticks\":\"\"},\"colorscale\":[[0.0,\"#0d0887\"],[0.1111111111111111,\"#46039f\"],[0.2222222222222222,\"#7201a8\"],[0.3333333333333333,\"#9c179e\"],[0.4444444444444444,\"#bd3786\"],[0.5555555555555556,\"#d8576b\"],[0.6666666666666666,\"#ed7953\"],[0.7777777777777778,\"#fb9f3a\"],[0.8888888888888888,\"#fdca26\"],[1.0,\"#f0f921\"]]}],\"choropleth\":[{\"type\":\"choropleth\",\"colorbar\":{\"outlinewidth\":0,\"ticks\":\"\"}}],\"histogram2d\":[{\"type\":\"histogram2d\",\"colorbar\":{\"outlinewidth\":0,\"ticks\":\"\"},\"colorscale\":[[0.0,\"#0d0887\"],[0.1111111111111111,\"#46039f\"],[0.2222222222222222,\"#7201a8\"],[0.3333333333333333,\"#9c179e\"],[0.4444444444444444,\"#bd3786\"],[0.5555555555555556,\"#d8576b\"],[0.6666666666666666,\"#ed7953\"],[0.7777777777777778,\"#fb9f3a\"],[0.8888888888888888,\"#fdca26\"],[1.0,\"#f0f921\"]]}],\"heatmap\":[{\"type\":\"heatmap\",\"colorbar\":{\"outlinewidth\":0,\"ticks\":\"\"},\"colorscale\":[[0.0,\"#0d0887\"],[0.1111111111111111,\"#46039f\"],[0.2222222222222222,\"#7201a8\"],[0.3333333333333333,\"#9c179e\"],[0.4444444444444444,\"#bd3786\"],[0.5555555555555556,\"#d8576b\"],[0.6666666666666666,\"#ed7953\"],[0.7777777777777778,\"#fb9f3a\"],[0.8888888888888888,\"#fdca26\"],[1.0,\"#f0f921\"]]}],\"heatmapgl\":[{\"type\":\"heatmapgl\",\"colorbar\":{\"outlinewidth\":0,\"ticks\":\"\"},\"colorscale\":[[0.0,\"#0d0887\"],[0.1111111111111111,\"#46039f\"],[0.2222222222222222,\"#7201a8\"],[0.3333333333333333,\"#9c179e\"],[0.4444444444444444,\"#bd3786\"],[0.5555555555555556,\"#d8576b\"],[0.6666666666666666,\"#ed7953\"],[0.7777777777777778,\"#fb9f3a\"],[0.8888888888888888,\"#fdca26\"],[1.0,\"#f0f921\"]]}],\"contourcarpet\":[{\"type\":\"contourcarpet\",\"colorbar\":{\"outlinewidth\":0,\"ticks\":\"\"}}],\"contour\":[{\"type\":\"contour\",\"colorbar\":{\"outlinewidth\":0,\"ticks\":\"\"},\"colorscale\":[[0.0,\"#0d0887\"],[0.1111111111111111,\"#46039f\"],[0.2222222222222222,\"#7201a8\"],[0.3333333333333333,\"#9c179e\"],[0.4444444444444444,\"#bd3786\"],[0.5555555555555556,\"#d8576b\"],[0.6666666666666666,\"#ed7953\"],[0.7777777777777778,\"#fb9f3a\"],[0.8888888888888888,\"#fdca26\"],[1.0,\"#f0f921\"]]}],\"surface\":[{\"type\":\"surface\",\"colorbar\":{\"outlinewidth\":0,\"ticks\":\"\"},\"colorscale\":[[0.0,\"#0d0887\"],[0.1111111111111111,\"#46039f\"],[0.2222222222222222,\"#7201a8\"],[0.3333333333333333,\"#9c179e\"],[0.4444444444444444,\"#bd3786\"],[0.5555555555555556,\"#d8576b\"],[0.6666666666666666,\"#ed7953\"],[0.7777777777777778,\"#fb9f3a\"],[0.8888888888888888,\"#fdca26\"],[1.0,\"#f0f921\"]]}],\"mesh3d\":[{\"type\":\"mesh3d\",\"colorbar\":{\"outlinewidth\":0,\"ticks\":\"\"}}],\"scatter\":[{\"fillpattern\":{\"fillmode\":\"overlay\",\"size\":10,\"solidity\":0.2},\"type\":\"scatter\"}],\"parcoords\":[{\"type\":\"parcoords\",\"line\":{\"colorbar\":{\"outlinewidth\":0,\"ticks\":\"\"}}}],\"scatterpolargl\":[{\"type\":\"scatterpolargl\",\"marker\":{\"colorbar\":{\"outlinewidth\":0,\"ticks\":\"\"}}}],\"bar\":[{\"error_x\":{\"color\":\"#2a3f5f\"},\"error_y\":{\"color\":\"#2a3f5f\"},\"marker\":{\"line\":{\"color\":\"#E5ECF6\",\"width\":0.5},\"pattern\":{\"fillmode\":\"overlay\",\"size\":10,\"solidity\":0.2}},\"type\":\"bar\"}],\"scattergeo\":[{\"type\":\"scattergeo\",\"marker\":{\"colorbar\":{\"outlinewidth\":0,\"ticks\":\"\"}}}],\"scatterpolar\":[{\"type\":\"scatterpolar\",\"marker\":{\"colorbar\":{\"outlinewidth\":0,\"ticks\":\"\"}}}],\"histogram\":[{\"marker\":{\"pattern\":{\"fillmode\":\"overlay\",\"size\":10,\"solidity\":0.2}},\"type\":\"histogram\"}],\"scattergl\":[{\"type\":\"scattergl\",\"marker\":{\"colorbar\":{\"outlinewidth\":0,\"ticks\":\"\"}}}],\"scatter3d\":[{\"type\":\"scatter3d\",\"line\":{\"colorbar\":{\"outlinewidth\":0,\"ticks\":\"\"}},\"marker\":{\"colorbar\":{\"outlinewidth\":0,\"ticks\":\"\"}}}],\"scattermapbox\":[{\"type\":\"scattermapbox\",\"marker\":{\"colorbar\":{\"outlinewidth\":0,\"ticks\":\"\"}}}],\"scatterternary\":[{\"type\":\"scatterternary\",\"marker\":{\"colorbar\":{\"outlinewidth\":0,\"ticks\":\"\"}}}],\"scattercarpet\":[{\"type\":\"scattercarpet\",\"marker\":{\"colorbar\":{\"outlinewidth\":0,\"ticks\":\"\"}}}],\"carpet\":[{\"aaxis\":{\"endlinecolor\":\"#2a3f5f\",\"gridcolor\":\"white\",\"linecolor\":\"white\",\"minorgridcolor\":\"white\",\"startlinecolor\":\"#2a3f5f\"},\"baxis\":{\"endlinecolor\":\"#2a3f5f\",\"gridcolor\":\"white\",\"linecolor\":\"white\",\"minorgridcolor\":\"white\",\"startlinecolor\":\"#2a3f5f\"},\"type\":\"carpet\"}],\"table\":[{\"cells\":{\"fill\":{\"color\":\"#EBF0F8\"},\"line\":{\"color\":\"white\"}},\"header\":{\"fill\":{\"color\":\"#C8D4E3\"},\"line\":{\"color\":\"white\"}},\"type\":\"table\"}],\"barpolar\":[{\"marker\":{\"line\":{\"color\":\"#E5ECF6\",\"width\":0.5},\"pattern\":{\"fillmode\":\"overlay\",\"size\":10,\"solidity\":0.2}},\"type\":\"barpolar\"}],\"pie\":[{\"automargin\":true,\"type\":\"pie\"}]},\"layout\":{\"autotypenumbers\":\"strict\",\"colorway\":[\"#636efa\",\"#EF553B\",\"#00cc96\",\"#ab63fa\",\"#FFA15A\",\"#19d3f3\",\"#FF6692\",\"#B6E880\",\"#FF97FF\",\"#FECB52\"],\"font\":{\"color\":\"#2a3f5f\"},\"hovermode\":\"closest\",\"hoverlabel\":{\"align\":\"left\"},\"paper_bgcolor\":\"white\",\"plot_bgcolor\":\"#E5ECF6\",\"polar\":{\"bgcolor\":\"#E5ECF6\",\"angularaxis\":{\"gridcolor\":\"white\",\"linecolor\":\"white\",\"ticks\":\"\"},\"radialaxis\":{\"gridcolor\":\"white\",\"linecolor\":\"white\",\"ticks\":\"\"}},\"ternary\":{\"bgcolor\":\"#E5ECF6\",\"aaxis\":{\"gridcolor\":\"white\",\"linecolor\":\"white\",\"ticks\":\"\"},\"baxis\":{\"gridcolor\":\"white\",\"linecolor\":\"white\",\"ticks\":\"\"},\"caxis\":{\"gridcolor\":\"white\",\"linecolor\":\"white\",\"ticks\":\"\"}},\"coloraxis\":{\"colorbar\":{\"outlinewidth\":0,\"ticks\":\"\"}},\"colorscale\":{\"sequential\":[[0.0,\"#0d0887\"],[0.1111111111111111,\"#46039f\"],[0.2222222222222222,\"#7201a8\"],[0.3333333333333333,\"#9c179e\"],[0.4444444444444444,\"#bd3786\"],[0.5555555555555556,\"#d8576b\"],[0.6666666666666666,\"#ed7953\"],[0.7777777777777778,\"#fb9f3a\"],[0.8888888888888888,\"#fdca26\"],[1.0,\"#f0f921\"]],\"sequentialminus\":[[0.0,\"#0d0887\"],[0.1111111111111111,\"#46039f\"],[0.2222222222222222,\"#7201a8\"],[0.3333333333333333,\"#9c179e\"],[0.4444444444444444,\"#bd3786\"],[0.5555555555555556,\"#d8576b\"],[0.6666666666666666,\"#ed7953\"],[0.7777777777777778,\"#fb9f3a\"],[0.8888888888888888,\"#fdca26\"],[1.0,\"#f0f921\"]],\"diverging\":[[0,\"#8e0152\"],[0.1,\"#c51b7d\"],[0.2,\"#de77ae\"],[0.3,\"#f1b6da\"],[0.4,\"#fde0ef\"],[0.5,\"#f7f7f7\"],[0.6,\"#e6f5d0\"],[0.7,\"#b8e186\"],[0.8,\"#7fbc41\"],[0.9,\"#4d9221\"],[1,\"#276419\"]]},\"xaxis\":{\"gridcolor\":\"white\",\"linecolor\":\"white\",\"ticks\":\"\",\"title\":{\"standoff\":15},\"zerolinecolor\":\"white\",\"automargin\":true,\"zerolinewidth\":2},\"yaxis\":{\"gridcolor\":\"white\",\"linecolor\":\"white\",\"ticks\":\"\",\"title\":{\"standoff\":15},\"zerolinecolor\":\"white\",\"automargin\":true,\"zerolinewidth\":2},\"scene\":{\"xaxis\":{\"backgroundcolor\":\"#E5ECF6\",\"gridcolor\":\"white\",\"linecolor\":\"white\",\"showbackground\":true,\"ticks\":\"\",\"zerolinecolor\":\"white\",\"gridwidth\":2},\"yaxis\":{\"backgroundcolor\":\"#E5ECF6\",\"gridcolor\":\"white\",\"linecolor\":\"white\",\"showbackground\":true,\"ticks\":\"\",\"zerolinecolor\":\"white\",\"gridwidth\":2},\"zaxis\":{\"backgroundcolor\":\"#E5ECF6\",\"gridcolor\":\"white\",\"linecolor\":\"white\",\"showbackground\":true,\"ticks\":\"\",\"zerolinecolor\":\"white\",\"gridwidth\":2}},\"shapedefaults\":{\"line\":{\"color\":\"#2a3f5f\"}},\"annotationdefaults\":{\"arrowcolor\":\"#2a3f5f\",\"arrowhead\":0,\"arrowwidth\":1},\"geo\":{\"bgcolor\":\"white\",\"landcolor\":\"#E5ECF6\",\"subunitcolor\":\"white\",\"showland\":true,\"showlakes\":true,\"lakecolor\":\"white\"},\"title\":{\"x\":0.05},\"mapbox\":{\"style\":\"light\"}}},\"shapes\":[{\"line\":{\"color\":\"green\",\"dash\":\"dot\",\"width\":3},\"type\":\"line\",\"x0\":80000000.0,\"x1\":80000000.0,\"xref\":\"x\",\"y0\":0,\"y1\":1,\"yref\":\"y domain\"},{\"line\":{\"color\":\"red\",\"dash\":\"dash\",\"width\":3},\"type\":\"line\",\"x0\":0,\"x1\":1,\"xref\":\"x domain\",\"y0\":153,\"y1\":153,\"yref\":\"y\"}],\"annotations\":[{\"align\":\"left\",\"arrowcolor\":\"#636363\",\"arrowhead\":1,\"arrowsize\":1,\"arrowwidth\":2,\"ax\":-20,\"ay\":-30,\"font\":{\"color\":\"purple\",\"family\":\"Sans Serif\",\"size\":12},\"showarrow\":false,\"text\":\"LLC Size Per Node: 80M\",\"x\":\"80e6\",\"y\":280,\"yanchor\":\"bottom\"},{\"align\":\"left\",\"arrowcolor\":\"#636363\",\"arrowhead\":1,\"arrowsize\":1,\"arrowwidth\":2,\"ax\":-20,\"ay\":-30,\"font\":{\"color\":\"orange\",\"family\":\"Sans Serif\",\"size\":12},\"showarrow\":false,\"text\":\"Max Bandwidth Per Node\",\"x\":\"130e6\",\"y\":155,\"yanchor\":\"bottom\"}],\"xaxis\":{\"title\":{\"text\":\"Dirc_Data_Mov\"},\"ticks\":\"outside\"},\"yaxis\":{\"title\":{\"text\":\"Bandwidth/Node\"},\"ticks\":\"outside\"},\"title\":{\"text\":\"\\\"Macro Newgeometry: Probempi vs Nonprobempi\\\" Bandwidth Measurement\"}},                        {\"responsive\": true}                    ).then(function(){\n",
       "                            \n",
       "var gd = document.getElementById('678d4e2a-bac5-4ab5-8c17-acbdb34ff5cb');\n",
       "var x = new MutationObserver(function (mutations, observer) {{\n",
       "        var display = window.getComputedStyle(gd).display;\n",
       "        if (!display || display === 'none') {{\n",
       "            console.log([gd, 'removed!']);\n",
       "            Plotly.purge(gd);\n",
       "            observer.disconnect();\n",
       "        }}\n",
       "}});\n",
       "\n",
       "// Listen for the removal of the full notebook cells\n",
       "var notebookContainer = gd.closest('#notebook-container');\n",
       "if (notebookContainer) {{\n",
       "    x.observe(notebookContainer, {childList: true});\n",
       "}}\n",
       "\n",
       "// Listen for the clearing of the current output cell\n",
       "var outputEl = gd.closest('.output');\n",
       "if (outputEl) {{\n",
       "    x.observe(outputEl, {childList: true});\n",
       "}}\n",
       "\n",
       "                        })                };                });            </script>        </div>"
      ]
     },
     "metadata": {},
     "output_type": "display_data"
    }
   ],
   "source": [
    "fig = go.Figure() \n",
    "\n",
    "fig.add_trace(go.Scatter(x=(dfMacNewgeoProb_8mpi_4omp.Dirc_Data_Mov*(dfMacNewgeoProb_8mpi_4omp.MPI_size)), \n",
    "                         y=(dfMacNewgeoProb_8mpi_4omp.BAND*(dfMacNewgeoProb_8mpi_4omp.MPI_size)), \n",
    "                         mode='lines+markers', \n",
    "                         name='MacNewgeoProb_8mpi_4omp',\n",
    "                         line=dict(color='magenta',width=3),\n",
    "                         marker=dict(symbol='hexagon',size=9, line=dict(color='yellow',width=1))))\n",
    "\n",
    "fig.add_trace(go.Scatter(x=(dfMacNewgeoNonProb_8mpi_4omp.Dirc_Data_Mov*(dfMacNewgeoNonProb_8mpi_4omp.MPI_size)), \n",
    "                         y=(dfMacNewgeoNonProb_8mpi_4omp.BAND*(dfMacNewgeoNonProb_8mpi_4omp.MPI_size)), \n",
    "                         mode='lines+markers', \n",
    "                         name='MacNewgeoNonProb_8mpi_4omp',\n",
    "                         line=dict(color='darkcyan',width=3),\n",
    "                         marker=dict(symbol='hexagon',size=9, line=dict(color='yellow',width=1))))\n",
    "\n",
    "\n",
    "\n",
    "fig.add_trace(go.Scatter(x=(dfMacNewgeoProb_16mpi_2omp.Dirc_Data_Mov*(dfMacNewgeoProb_16mpi_2omp.MPI_size)), \n",
    "                         y=(dfMacNewgeoProb_16mpi_2omp.BAND*(dfMacNewgeoProb_16mpi_2omp.MPI_size)), \n",
    "                         mode='lines+markers', \n",
    "                         name='MacNewgeoProb_16mpi_2omp',\n",
    "                         line=dict(color='sandybrown',width=3),\n",
    "                         marker=dict(symbol='diamond',size=5,line=dict(color='MediumPurple',width=2))))\n",
    "\n",
    "fig.add_trace(go.Scatter(x=(dfMacNewgeoNonProb_16mpi_2omp.Dirc_Data_Mov*(dfMacNewgeoNonProb_16mpi_2omp.MPI_size)), \n",
    "                         y=(dfMacNewgeoNonProb_16mpi_2omp.BAND*(dfMacNewgeoNonProb_16mpi_2omp.MPI_size)), \n",
    "                         mode='lines+markers', \n",
    "                         name='MacNewgeoNonProb_16mpi_2omp',\n",
    "                         line=dict(color='royalblue',width=3),\n",
    "                         marker=dict(symbol='diamond',size=5,line=dict(color='MediumPurple',width=2))))\n",
    "\n",
    "\n",
    "\n",
    "fig.add_trace(go.Scatter(x=(dfMacNewgeoProb_32mpi_1omp.Dirc_Data_Mov*(dfMacNewgeoProb_32mpi_1omp.MPI_size)), \n",
    "                         y=(dfMacNewgeoProb_32mpi_1omp.BAND*(dfMacNewgeoProb_32mpi_1omp.MPI_size)), \n",
    "                         mode='lines+markers', \n",
    "                         name='MacNewgeoProb_32mpi_1omp',\n",
    "                         line=dict(color='cyan',width=3),\n",
    "                         marker=dict(symbol='circle',size=7,line=dict(color='Purple',width=2))))\n",
    "\n",
    "fig.add_trace(go.Scatter(x=(dfMacNewgeoNonProb_32mpi_1omp.Dirc_Data_Mov*(dfMacNewgeoNonProb_32mpi_1omp.MPI_size)), \n",
    "                         y=(dfMacNewgeoNonProb_32mpi_1omp.BAND*(dfMacNewgeoNonProb_32mpi_1omp.MPI_size)), \n",
    "                         mode='lines+markers', \n",
    "                         name='MacNewgeoNonProb_32mpi_1omp',\n",
    "                         line=dict(color='darkblue',width=3),\n",
    "                         marker=dict(symbol='circle',size=7, line=dict(color='tomato',width=2))))\n",
    "# Adding vertical and horizontal lines \n",
    "fig.add_vline(x=80e6, line_width=3, line_dash=\"dot\", line_color=\"green\")\n",
    "fig.add_hline(y=153, line_width=3, line_dash=\"dash\", line_color=\"red\")\n",
    "\n",
    "# Add annotation with arrow\n",
    "fig.add_annotation(\n",
    "    x='80e6'\n",
    "    , y=280\n",
    "    , text=f'LLC Size Per Node: 80M'\n",
    "    , yanchor='bottom'\n",
    "    , showarrow=False\n",
    "    , arrowhead=1\n",
    "    , arrowsize=1\n",
    "    , arrowwidth=2\n",
    "    , arrowcolor=\"#636363\"\n",
    "    , ax=-20\n",
    "    , ay=-30\n",
    "    , font=dict(size=12, color=\"purple\", family=\"Sans Serif\")\n",
    "    , align=\"left\"\n",
    "    ,)\n",
    "\n",
    "fig.add_annotation(\n",
    "    x='130e6'\n",
    "    , y=155\n",
    "    , text=f'Max Bandwidth Per Node'\n",
    "    , yanchor='bottom'\n",
    "    , showarrow=False\n",
    "    , arrowhead=1\n",
    "    , arrowsize=1\n",
    "    , arrowwidth=2\n",
    "    , arrowcolor=\"#636363\"\n",
    "    , ax=-20\n",
    "    , ay=-30\n",
    "    , font=dict(size=12, color=\"orange\", family=\"Sans Serif\")\n",
    "    , align=\"left\"\n",
    "    ,)\n",
    "\n",
    "\n",
    "fig.update_layout(title='\"Macro Newgeometry: Probempi vs Nonprobempi\" Bandwidth Measurement',\n",
    "                  xaxis_title='Dirc_Data_Mov', yaxis_title='Bandwidth/Node', \n",
    "                  xaxis=dict(ticks=\"outside\"),  \n",
    "                  yaxis=dict(ticks=\"outside\")) \n",
    "\n",
    "\n"
   ]
  },
  {
   "cell_type": "code",
   "execution_count": 93,
   "id": "c895af56",
   "metadata": {},
   "outputs": [],
   "source": []
  },
  {
   "cell_type": "code",
   "execution_count": null,
   "id": "bc944f3e",
   "metadata": {},
   "outputs": [],
   "source": []
  },
  {
   "cell_type": "code",
   "execution_count": null,
   "id": "0bddcede",
   "metadata": {},
   "outputs": [],
   "source": []
  },
  {
   "cell_type": "code",
   "execution_count": null,
   "id": "98296c7e",
   "metadata": {},
   "outputs": [],
   "source": []
  },
  {
   "cell_type": "code",
   "execution_count": null,
   "id": "9afdad50",
   "metadata": {},
   "outputs": [],
   "source": []
  },
  {
   "cell_type": "code",
   "execution_count": null,
   "id": "4d68f353",
   "metadata": {},
   "outputs": [],
   "source": []
  },
  {
   "cell_type": "markdown",
   "id": "339a38f7",
   "metadata": {},
   "source": [
    "# AVX CASES"
   ]
  },
  {
   "cell_type": "markdown",
   "id": "55b51acb",
   "metadata": {},
   "source": [
    "### 1. avx_fused_probmpi  "
   ]
  },
  {
   "cell_type": "code",
   "execution_count": 124,
   "id": "1d3ce0b5",
   "metadata": {},
   "outputs": [],
   "source": [
    "df_avx_fused_probmpi[\"N_Nodes\"] = 1\n",
    "df_avx_fused_probmpi['NPX'] = (df_avx_fused_probmpi.GLB_X//df_avx_fused_probmpi.LOC_X)\n",
    "df_avx_fused_probmpi['NPY'] = (df_avx_fused_probmpi.GLB_Y//df_avx_fused_probmpi.LOC_Y)\n",
    "df_avx_fused_probmpi['NPZ'] = (df_avx_fused_probmpi.GLB_Z//df_avx_fused_probmpi.LOC_Z)\n",
    "df_avx_fused_probmpi['NPT'] = (df_avx_fused_probmpi.GLB_T//df_avx_fused_probmpi.LOC_T)\n",
    "df_avx_fused_probmpi[\"Total_proc\"] = df_avx_fused_probmpi[\"omp_thrd\"]* df_avx_fused_probmpi.MPI_size\n",
    "# df_avx_fused_probmpi.columns"
   ]
  },
  {
   "cell_type": "code",
   "execution_count": 44,
   "id": "8593475d",
   "metadata": {},
   "outputs": [
    {
     "data": {
      "text/html": [
       "<div>\n",
       "<style scoped>\n",
       "    .dataframe tbody tr th:only-of-type {\n",
       "        vertical-align: middle;\n",
       "    }\n",
       "\n",
       "    .dataframe tbody tr th {\n",
       "        vertical-align: top;\n",
       "    }\n",
       "\n",
       "    .dataframe thead th {\n",
       "        text-align: right;\n",
       "    }\n",
       "</style>\n",
       "<table border=\"1\" class=\"dataframe\">\n",
       "  <thead>\n",
       "    <tr style=\"text-align: right;\">\n",
       "      <th></th>\n",
       "      <th>MPI_size</th>\n",
       "      <th>omp_thrd</th>\n",
       "      <th>NPT</th>\n",
       "      <th>NPX</th>\n",
       "      <th>NPY</th>\n",
       "      <th>NPZ</th>\n",
       "      <th>Total_proc</th>\n",
       "      <th>size</th>\n",
       "    </tr>\n",
       "  </thead>\n",
       "  <tbody>\n",
       "    <tr>\n",
       "      <th>0</th>\n",
       "      <td>8</td>\n",
       "      <td>4</td>\n",
       "      <td>1</td>\n",
       "      <td>2</td>\n",
       "      <td>2</td>\n",
       "      <td>2</td>\n",
       "      <td>32</td>\n",
       "      <td>15</td>\n",
       "    </tr>\n",
       "    <tr>\n",
       "      <th>1</th>\n",
       "      <td>16</td>\n",
       "      <td>2</td>\n",
       "      <td>2</td>\n",
       "      <td>2</td>\n",
       "      <td>2</td>\n",
       "      <td>2</td>\n",
       "      <td>32</td>\n",
       "      <td>13</td>\n",
       "    </tr>\n",
       "    <tr>\n",
       "      <th>2</th>\n",
       "      <td>32</td>\n",
       "      <td>1</td>\n",
       "      <td>4</td>\n",
       "      <td>2</td>\n",
       "      <td>2</td>\n",
       "      <td>2</td>\n",
       "      <td>32</td>\n",
       "      <td>5</td>\n",
       "    </tr>\n",
       "  </tbody>\n",
       "</table>\n",
       "</div>"
      ],
      "text/plain": [
       "   MPI_size  omp_thrd  NPT  NPX  NPY  NPZ  Total_proc  size\n",
       "0         8         4    1    2    2    2          32    15\n",
       "1        16         2    2    2    2    2          32    13\n",
       "2        32         1    4    2    2    2          32     5"
      ]
     },
     "execution_count": 44,
     "metadata": {},
     "output_type": "execute_result"
    }
   ],
   "source": [
    "df_avx_fused_probmpi_summary = df_avx_fused_probmpi.groupby(['MPI_size','omp_thrd','NPT','NPX', 'NPY', 'NPZ',\"Total_proc\"]).size().reset_index(name = 'size')\n",
    "df_avx_fused_probmpi_summary"
   ]
  },
  {
   "cell_type": "code",
   "execution_count": 125,
   "id": "8db549d8",
   "metadata": {},
   "outputs": [],
   "source": [
    "dfAvxFusProb_8mpi_4omp = df_avx_fused_probmpi[(df_avx_fused_probmpi.omp_thrd == 4) & (df_avx_fused_probmpi.GLB_T/df_avx_fused_probmpi.LOC_T == 1) & (df_avx_fused_probmpi.GLB_X/df_avx_fused_probmpi.LOC_X == 2) & (df_avx_fused_probmpi.GLB_Y/df_avx_fused_probmpi.LOC_Y == 2)& (df_avx_fused_probmpi.GLB_Z/df_avx_fused_probmpi.LOC_Z == 2)]\n",
    "dfAvxFusProb_16mpi_2omp = df_avx_fused_probmpi[(df_avx_fused_probmpi.omp_thrd == 2) & (df_avx_fused_probmpi.GLB_T/df_avx_fused_probmpi.LOC_T == 2) & (df_avx_fused_probmpi.GLB_X/df_avx_fused_probmpi.LOC_X == 2) & (df_avx_fused_probmpi.GLB_Y/df_avx_fused_probmpi.LOC_Y == 2)& (df_avx_fused_probmpi.GLB_Z/df_avx_fused_probmpi.LOC_Z == 2)]\n",
    "dfAvxFusProb_32mpi_1omp = df_avx_fused_probmpi[(df_avx_fused_probmpi.omp_thrd == 1) & (df_avx_fused_probmpi.GLB_T/df_avx_fused_probmpi.LOC_T == 4) & (df_avx_fused_probmpi.GLB_X/df_avx_fused_probmpi.LOC_X == 2) & (df_avx_fused_probmpi.GLB_Y/df_avx_fused_probmpi.LOC_Y == 2)& (df_avx_fused_probmpi.GLB_Z/df_avx_fused_probmpi.LOC_Z == 2)]\n"
   ]
  },
  {
   "cell_type": "code",
   "execution_count": null,
   "id": "c6eb0d80",
   "metadata": {},
   "outputs": [],
   "source": []
  },
  {
   "cell_type": "markdown",
   "id": "5b7d65cf",
   "metadata": {},
   "source": [
    "### 2. avx_fused_nonprobmpi "
   ]
  },
  {
   "cell_type": "code",
   "execution_count": 126,
   "id": "30f81dec",
   "metadata": {},
   "outputs": [],
   "source": [
    "df_avx_fused_nonprobmpi[\"N_Nodes\"] = 1\n",
    "df_avx_fused_nonprobmpi['NPX'] = (df_avx_fused_nonprobmpi.GLB_X//df_avx_fused_nonprobmpi.LOC_X)\n",
    "df_avx_fused_nonprobmpi['NPY'] = (df_avx_fused_nonprobmpi.GLB_Y//df_avx_fused_nonprobmpi.LOC_Y)\n",
    "df_avx_fused_nonprobmpi['NPZ'] = (df_avx_fused_nonprobmpi.GLB_Z//df_avx_fused_nonprobmpi.LOC_Z)\n",
    "df_avx_fused_nonprobmpi['NPT'] = (df_avx_fused_nonprobmpi.GLB_T//df_avx_fused_nonprobmpi.LOC_T)\n",
    "df_avx_fused_nonprobmpi[\"Total_proc\"] = df_avx_fused_nonprobmpi[\"omp_thrd\"]* df_avx_fused_nonprobmpi.MPI_size\n",
    "# df_avx_fused_nonprobmpi.columns"
   ]
  },
  {
   "cell_type": "code",
   "execution_count": 46,
   "id": "95fc9205",
   "metadata": {},
   "outputs": [
    {
     "data": {
      "text/html": [
       "<div>\n",
       "<style scoped>\n",
       "    .dataframe tbody tr th:only-of-type {\n",
       "        vertical-align: middle;\n",
       "    }\n",
       "\n",
       "    .dataframe tbody tr th {\n",
       "        vertical-align: top;\n",
       "    }\n",
       "\n",
       "    .dataframe thead th {\n",
       "        text-align: right;\n",
       "    }\n",
       "</style>\n",
       "<table border=\"1\" class=\"dataframe\">\n",
       "  <thead>\n",
       "    <tr style=\"text-align: right;\">\n",
       "      <th></th>\n",
       "      <th>MPI_size</th>\n",
       "      <th>omp_thrd</th>\n",
       "      <th>NPT</th>\n",
       "      <th>NPX</th>\n",
       "      <th>NPY</th>\n",
       "      <th>NPZ</th>\n",
       "      <th>Total_proc</th>\n",
       "      <th>size</th>\n",
       "    </tr>\n",
       "  </thead>\n",
       "  <tbody>\n",
       "    <tr>\n",
       "      <th>0</th>\n",
       "      <td>8</td>\n",
       "      <td>4</td>\n",
       "      <td>1</td>\n",
       "      <td>2</td>\n",
       "      <td>2</td>\n",
       "      <td>2</td>\n",
       "      <td>32</td>\n",
       "      <td>15</td>\n",
       "    </tr>\n",
       "    <tr>\n",
       "      <th>1</th>\n",
       "      <td>16</td>\n",
       "      <td>2</td>\n",
       "      <td>2</td>\n",
       "      <td>2</td>\n",
       "      <td>2</td>\n",
       "      <td>2</td>\n",
       "      <td>32</td>\n",
       "      <td>13</td>\n",
       "    </tr>\n",
       "    <tr>\n",
       "      <th>2</th>\n",
       "      <td>32</td>\n",
       "      <td>1</td>\n",
       "      <td>4</td>\n",
       "      <td>2</td>\n",
       "      <td>2</td>\n",
       "      <td>2</td>\n",
       "      <td>32</td>\n",
       "      <td>5</td>\n",
       "    </tr>\n",
       "  </tbody>\n",
       "</table>\n",
       "</div>"
      ],
      "text/plain": [
       "   MPI_size  omp_thrd  NPT  NPX  NPY  NPZ  Total_proc  size\n",
       "0         8         4    1    2    2    2          32    15\n",
       "1        16         2    2    2    2    2          32    13\n",
       "2        32         1    4    2    2    2          32     5"
      ]
     },
     "execution_count": 46,
     "metadata": {},
     "output_type": "execute_result"
    }
   ],
   "source": [
    "df_avx_fused_nonprobmpi_summary = df_avx_fused_nonprobmpi.groupby(['MPI_size','omp_thrd','NPT','NPX', 'NPY', 'NPZ',\"Total_proc\"]).size().reset_index(name = 'size')\n",
    "df_avx_fused_nonprobmpi_summary"
   ]
  },
  {
   "cell_type": "code",
   "execution_count": 127,
   "id": "49b4a2ba",
   "metadata": {},
   "outputs": [],
   "source": [
    "dfAvxFusNonProb_8mpi_4omp = df_avx_fused_nonprobmpi[(df_avx_fused_nonprobmpi.omp_thrd == 4) & (df_avx_fused_nonprobmpi.GLB_T/df_avx_fused_nonprobmpi.LOC_T == 1) & (df_avx_fused_nonprobmpi.GLB_X/df_avx_fused_nonprobmpi.LOC_X == 2) & (df_avx_fused_nonprobmpi.GLB_Y/df_avx_fused_nonprobmpi.LOC_Y == 2)& (df_avx_fused_nonprobmpi.GLB_Z/df_avx_fused_nonprobmpi.LOC_Z == 2)]\n",
    "dfAvxFusNonProb_16mpi_2omp = df_avx_fused_nonprobmpi[(df_avx_fused_nonprobmpi.omp_thrd == 2) & (df_avx_fused_nonprobmpi.GLB_T/df_avx_fused_nonprobmpi.LOC_T == 2) & (df_avx_fused_nonprobmpi.GLB_X/df_avx_fused_nonprobmpi.LOC_X == 2) & (df_avx_fused_nonprobmpi.GLB_Y/df_avx_fused_nonprobmpi.LOC_Y == 2)& (df_avx_fused_nonprobmpi.GLB_Z/df_avx_fused_nonprobmpi.LOC_Z == 2)]\n",
    "dfAvxFusNonProb_32mpi_1omp = df_avx_fused_nonprobmpi[(df_avx_fused_nonprobmpi.omp_thrd == 1) & (df_avx_fused_nonprobmpi.GLB_T/df_avx_fused_nonprobmpi.LOC_T == 4) & (df_avx_fused_nonprobmpi.GLB_X/df_avx_fused_nonprobmpi.LOC_X == 2) & (df_avx_fused_nonprobmpi.GLB_Y/df_avx_fused_nonprobmpi.LOC_Y == 2)& (df_avx_fused_nonprobmpi.GLB_Z/df_avx_fused_nonprobmpi.LOC_Z == 2)]\n"
   ]
  },
  {
   "cell_type": "code",
   "execution_count": null,
   "id": "b9505b56",
   "metadata": {},
   "outputs": [],
   "source": []
  },
  {
   "cell_type": "code",
   "execution_count": null,
   "id": "d733c38f",
   "metadata": {},
   "outputs": [],
   "source": []
  },
  {
   "cell_type": "markdown",
   "id": "f2b9df6a",
   "metadata": {},
   "source": [
    "## GFLOTS - AVX-Fused: Probmpi vs Non-Probempi"
   ]
  },
  {
   "cell_type": "code",
   "execution_count": null,
   "id": "aa091395",
   "metadata": {},
   "outputs": [],
   "source": [
    "fig = go.Figure() \n",
    "\n",
    "fig.add_trace(go.Scatter(x=(dfAvxFusProb_8mpi_4omp.Dirc_Data_Mov*(dfAvxFusProb_8mpi_4omp.MPI_size)), \n",
    "                         y=(dfAvxFusProb_8mpi_4omp.GFLOPS*(dfAvxFusProb_8mpi_4omp.MPI_size)), \n",
    "                         mode='lines+markers', \n",
    "                         name='AvxFusProb_8mpi_4omp',\n",
    "                         line=dict(color='magenta',width=3),\n",
    "                         marker=dict(symbol='hexagon',size=9, line=dict(color='yellow',width=1))))\n",
    "\n",
    "\n",
    "fig.add_trace(go.Scatter(x=(dfAvxFusNonProb_8mpi_4omp.Dirc_Data_Mov*(dfAvxFusNonProb_8mpi_4omp.MPI_size)), \n",
    "                         y=(dfAvxFusNonProb_8mpi_4omp.GFLOPS*(dfAvxFusNonProb_8mpi_4omp.MPI_size)), \n",
    "                         mode='lines+markers', \n",
    "                         name='AvxFusNonProb_8mpi_4omp',\n",
    "                         line=dict(color='darkcyan',width=3),\n",
    "                         marker=dict(symbol='hexagon',size=9, line=dict(color='yellow',width=1))))\n",
    "\n",
    "\n",
    "fig.add_trace(go.Scatter(x=(dfAvxFusProb_16mpi_2omp.Dirc_Data_Mov*(dfAvxFusProb_16mpi_2omp.MPI_size)), \n",
    "                         y=(dfAvxFusProb_16mpi_2omp.GFLOPS*(dfAvxFusProb_16mpi_2omp.MPI_size)), \n",
    "                         mode='lines+markers', \n",
    "                         name='AvxFusProb_16mpi_2omp',\n",
    "                         line=dict(color='sandybrown',width=3),\n",
    "                         marker=dict(symbol='diamond',size=5,line=dict(color='MediumPurple',width=2))))\n",
    "\n",
    "fig.add_trace(go.Scatter(x=(dfAvxFusNonProb_16mpi_2omp.Dirc_Data_Mov*(dfAvxFusNonProb_16mpi_2omp.MPI_size)), \n",
    "                         y=(dfAvxFusNonProb_16mpi_2omp.GFLOPS*(dfAvxFusNonProb_16mpi_2omp.MPI_size)), \n",
    "                         mode='lines+markers', \n",
    "                         name='AvxFusNonProb_16mpi_2omp',\n",
    "                         line=dict(color='royalblue',width=3),\n",
    "                         marker=dict(symbol='diamond',size=5,line=dict(color='MediumPurple',width=2))))\n",
    "\n",
    "\n",
    "fig.add_trace(go.Scatter(x=(dfMacFusnonProb_32mpi_1omp.Dirc_Data_Mov*(dfMacFusnonProb_32mpi_1omp.MPI_size)), \n",
    "                         y=(dfMacFusnonProb_32mpi_1omp.GFLOPS*(dfMacFusnonProb_32mpi_1omp.MPI_size)), \n",
    "                         mode='lines+markers', \n",
    "                         name='MacFusnonProb_32mpi_1omp',\n",
    "                         line=dict(color='cyan',width=3),\n",
    "                         marker=dict(symbol='circle',size=7,line=dict(color='Purple',width=2))))\n",
    "\n",
    "\n",
    "fig.add_trace(go.Scatter(x=(dfMacFusProb_32mpi_1omp.Dirc_Data_Mov*(dfMacFusProb_32mpi_1omp.MPI_size)), \n",
    "                         y=(dfMacFusProb_32mpi_1omp.GFLOPS*(dfMacFusProb_32mpi_1omp.MPI_size)), \n",
    "                         mode='lines+markers', \n",
    "                         name='MacFusProb_32mpi_1omp',\n",
    "                         line=dict(color='darkblue',width=3),\n",
    "                         marker=dict(symbol='circle',size=7, line=dict(color='tomato',width=2))))\n",
    "\n",
    "\n",
    "\n",
    "# Adding a vertical line\n",
    "fig.add_vline(x=80e6, line_width=3, line_dash=\"dash\", line_color=\"green\")\n",
    "# fig.add_hline(y=1024, line_width=3, line_dash=\"dash\", line_color=\"red\")\n",
    "\n",
    "# Add annotation\n",
    "fig.add_annotation(\n",
    "    x='80e6'\n",
    "    , y=130\n",
    "    , text=f'LLC Size Per Node'\n",
    "    , yanchor='bottom'\n",
    "    , showarrow=False\n",
    "    , arrowhead=1\n",
    "    , arrowsize=1\n",
    "    , arrowwidth=2\n",
    "    , arrowcolor=\"#636363\"\n",
    "    , ax=-20\n",
    "    , ay=-30\n",
    "    , font=dict(size=12, color=\"purple\", family=\"Sans Serif\")\n",
    "    , align=\"left\"\n",
    "    ,)\n",
    "\n",
    "fig.update_layout(title='\"Macro Fused: probempi vs nonprobempi\" GFlops Measurement',\n",
    "                  xaxis_title='Dirc_Data_Mov', yaxis_title='GFLOPs/Node', \n",
    "                  xaxis=dict(ticks=\"outside\"),  \n",
    "                  yaxis=dict(ticks=\"outside\"))"
   ]
  },
  {
   "cell_type": "code",
   "execution_count": null,
   "id": "72635918",
   "metadata": {},
   "outputs": [],
   "source": []
  },
  {
   "cell_type": "code",
   "execution_count": null,
   "id": "4541b9cb",
   "metadata": {},
   "outputs": [],
   "source": []
  },
  {
   "cell_type": "code",
   "execution_count": null,
   "id": "0d641f21",
   "metadata": {},
   "outputs": [],
   "source": []
  },
  {
   "cell_type": "code",
   "execution_count": null,
   "id": "ab549779",
   "metadata": {},
   "outputs": [],
   "source": []
  },
  {
   "cell_type": "markdown",
   "id": "7f0e2181",
   "metadata": {},
   "source": [
    "### 3. avx_nonfused_probempi "
   ]
  },
  {
   "cell_type": "code",
   "execution_count": 118,
   "id": "66a0d76f",
   "metadata": {},
   "outputs": [],
   "source": [
    "df_avx_nonfused_probempi[\"N_Nodes\"] = 1\n",
    "df_avx_nonfused_probempi['NPX'] = (df_avx_nonfused_probempi.GLB_X//df_avx_nonfused_probempi.LOC_X)\n",
    "df_avx_nonfused_probempi['NPY'] = (df_avx_nonfused_probempi.GLB_Y//df_avx_nonfused_probempi.LOC_Y)\n",
    "df_avx_nonfused_probempi['NPZ'] = (df_avx_nonfused_probempi.GLB_Z//df_avx_nonfused_probempi.LOC_Z)\n",
    "df_avx_nonfused_probempi['NPT'] = (df_avx_nonfused_probempi.GLB_T//df_avx_nonfused_probempi.LOC_T)\n",
    "df_avx_nonfused_probempi[\"Total_proc\"] = df_avx_nonfused_probempi[\"omp_thrd\"]* df_avx_nonfused_probempi.MPI_size\n",
    "# df_avx_nonfused_probempi.columns"
   ]
  },
  {
   "cell_type": "code",
   "execution_count": 119,
   "id": "985bae59",
   "metadata": {},
   "outputs": [
    {
     "data": {
      "text/html": [
       "<div>\n",
       "<style scoped>\n",
       "    .dataframe tbody tr th:only-of-type {\n",
       "        vertical-align: middle;\n",
       "    }\n",
       "\n",
       "    .dataframe tbody tr th {\n",
       "        vertical-align: top;\n",
       "    }\n",
       "\n",
       "    .dataframe thead th {\n",
       "        text-align: right;\n",
       "    }\n",
       "</style>\n",
       "<table border=\"1\" class=\"dataframe\">\n",
       "  <thead>\n",
       "    <tr style=\"text-align: right;\">\n",
       "      <th></th>\n",
       "      <th>MPI_size</th>\n",
       "      <th>omp_thrd</th>\n",
       "      <th>NPT</th>\n",
       "      <th>NPX</th>\n",
       "      <th>NPY</th>\n",
       "      <th>NPZ</th>\n",
       "      <th>Total_proc</th>\n",
       "      <th>size</th>\n",
       "    </tr>\n",
       "  </thead>\n",
       "  <tbody>\n",
       "    <tr>\n",
       "      <th>0</th>\n",
       "      <td>8</td>\n",
       "      <td>4</td>\n",
       "      <td>1</td>\n",
       "      <td>2</td>\n",
       "      <td>2</td>\n",
       "      <td>2</td>\n",
       "      <td>32</td>\n",
       "      <td>15</td>\n",
       "    </tr>\n",
       "    <tr>\n",
       "      <th>1</th>\n",
       "      <td>16</td>\n",
       "      <td>2</td>\n",
       "      <td>2</td>\n",
       "      <td>2</td>\n",
       "      <td>2</td>\n",
       "      <td>2</td>\n",
       "      <td>32</td>\n",
       "      <td>13</td>\n",
       "    </tr>\n",
       "    <tr>\n",
       "      <th>2</th>\n",
       "      <td>32</td>\n",
       "      <td>1</td>\n",
       "      <td>4</td>\n",
       "      <td>2</td>\n",
       "      <td>2</td>\n",
       "      <td>2</td>\n",
       "      <td>32</td>\n",
       "      <td>5</td>\n",
       "    </tr>\n",
       "  </tbody>\n",
       "</table>\n",
       "</div>"
      ],
      "text/plain": [
       "   MPI_size  omp_thrd  NPT  NPX  NPY  NPZ  Total_proc  size\n",
       "0         8         4    1    2    2    2          32    15\n",
       "1        16         2    2    2    2    2          32    13\n",
       "2        32         1    4    2    2    2          32     5"
      ]
     },
     "execution_count": 119,
     "metadata": {},
     "output_type": "execute_result"
    }
   ],
   "source": [
    "df_avx_nonfused_probempi_summary = df_avx_nonfused_probempi.groupby(['MPI_size','omp_thrd','NPT','NPX', 'NPY', 'NPZ',\"Total_proc\"]).size().reset_index(name = 'size')\n",
    "df_avx_nonfused_probempi_summary"
   ]
  },
  {
   "cell_type": "code",
   "execution_count": 128,
   "id": "69a5ae27",
   "metadata": {},
   "outputs": [],
   "source": [
    "dfAvxNonFusProb_8mpi_4omp = df_avx_nonfused_probempi[(df_avx_nonfused_probempi.omp_thrd == 4) & (df_avx_nonfused_probempi.GLB_T/df_avx_nonfused_probempi.LOC_T == 1) & (df_avx_nonfused_probempi.GLB_X/df_avx_nonfused_probempi.LOC_X == 2) & (df_avx_nonfused_probempi.GLB_Y/df_avx_nonfused_probempi.LOC_Y == 2)& (df_avx_nonfused_probempi.GLB_Z/df_avx_nonfused_probempi.LOC_Z == 2)]\n",
    "dfAvxNonFusProb_16mpi_2omp = df_avx_nonfused_probempi[(df_avx_nonfused_probempi.omp_thrd == 2) & (df_avx_nonfused_probempi.GLB_T/df_avx_nonfused_probempi.LOC_T == 2) & (df_avx_nonfused_probempi.GLB_X/df_avx_nonfused_probempi.LOC_X == 2) & (df_avx_nonfused_probempi.GLB_Y/df_avx_nonfused_probempi.LOC_Y == 2)& (df_avx_nonfused_probempi.GLB_Z/df_avx_nonfused_probempi.LOC_Z == 2)]\n",
    "dfAvxNonFusProb_32mpi_1omp = df_avx_nonfused_probempi[(df_avx_nonfused_probempi.omp_thrd == 1) & (df_avx_nonfused_probempi.GLB_T/df_avx_nonfused_probempi.LOC_T == 4) & (df_avx_nonfused_probempi.GLB_X/df_avx_nonfused_probempi.LOC_X == 2) & (df_avx_nonfused_probempi.GLB_Y/df_avx_nonfused_probempi.LOC_Y == 2)& (df_avx_nonfused_probempi.GLB_Z/df_avx_nonfused_probempi.LOC_Z == 2)]\n"
   ]
  },
  {
   "cell_type": "markdown",
   "id": "3d2488be",
   "metadata": {},
   "source": [
    "### 4. avx_nonfused_nonprobempi  "
   ]
  },
  {
   "cell_type": "code",
   "execution_count": 121,
   "id": "38a2a194",
   "metadata": {},
   "outputs": [],
   "source": [
    "df_avx_nonfused_nonprobempi[\"N_Nodes\"] = 1\n",
    "df_avx_nonfused_nonprobempi['NPX'] = (df_avx_nonfused_nonprobempi.GLB_X//df_avx_nonfused_nonprobempi.LOC_X)\n",
    "df_avx_nonfused_nonprobempi['NPY'] = (df_avx_nonfused_nonprobempi.GLB_Y//df_avx_nonfused_nonprobempi.LOC_Y)\n",
    "df_avx_nonfused_nonprobempi['NPZ'] = (df_avx_nonfused_nonprobempi.GLB_Z//df_avx_nonfused_nonprobempi.LOC_Z)\n",
    "df_avx_nonfused_nonprobempi['NPT'] = (df_avx_nonfused_nonprobempi.GLB_T//df_avx_nonfused_nonprobempi.LOC_T)\n",
    "df_avx_nonfused_nonprobempi[\"Total_proc\"] = df_avx_nonfused_nonprobempi[\"omp_thrd\"]* df_avx_nonfused_nonprobempi.MPI_size\n",
    "# df_avx_nonfused_nonprobempi.columns"
   ]
  },
  {
   "cell_type": "code",
   "execution_count": 122,
   "id": "e3cffc60",
   "metadata": {},
   "outputs": [
    {
     "data": {
      "text/html": [
       "<div>\n",
       "<style scoped>\n",
       "    .dataframe tbody tr th:only-of-type {\n",
       "        vertical-align: middle;\n",
       "    }\n",
       "\n",
       "    .dataframe tbody tr th {\n",
       "        vertical-align: top;\n",
       "    }\n",
       "\n",
       "    .dataframe thead th {\n",
       "        text-align: right;\n",
       "    }\n",
       "</style>\n",
       "<table border=\"1\" class=\"dataframe\">\n",
       "  <thead>\n",
       "    <tr style=\"text-align: right;\">\n",
       "      <th></th>\n",
       "      <th>MPI_size</th>\n",
       "      <th>omp_thrd</th>\n",
       "      <th>NPT</th>\n",
       "      <th>NPX</th>\n",
       "      <th>NPY</th>\n",
       "      <th>NPZ</th>\n",
       "      <th>Total_proc</th>\n",
       "      <th>size</th>\n",
       "    </tr>\n",
       "  </thead>\n",
       "  <tbody>\n",
       "    <tr>\n",
       "      <th>0</th>\n",
       "      <td>8</td>\n",
       "      <td>4</td>\n",
       "      <td>1</td>\n",
       "      <td>2</td>\n",
       "      <td>2</td>\n",
       "      <td>2</td>\n",
       "      <td>32</td>\n",
       "      <td>15</td>\n",
       "    </tr>\n",
       "    <tr>\n",
       "      <th>1</th>\n",
       "      <td>16</td>\n",
       "      <td>2</td>\n",
       "      <td>2</td>\n",
       "      <td>2</td>\n",
       "      <td>2</td>\n",
       "      <td>2</td>\n",
       "      <td>32</td>\n",
       "      <td>13</td>\n",
       "    </tr>\n",
       "    <tr>\n",
       "      <th>2</th>\n",
       "      <td>32</td>\n",
       "      <td>1</td>\n",
       "      <td>4</td>\n",
       "      <td>2</td>\n",
       "      <td>2</td>\n",
       "      <td>2</td>\n",
       "      <td>32</td>\n",
       "      <td>5</td>\n",
       "    </tr>\n",
       "  </tbody>\n",
       "</table>\n",
       "</div>"
      ],
      "text/plain": [
       "   MPI_size  omp_thrd  NPT  NPX  NPY  NPZ  Total_proc  size\n",
       "0         8         4    1    2    2    2          32    15\n",
       "1        16         2    2    2    2    2          32    13\n",
       "2        32         1    4    2    2    2          32     5"
      ]
     },
     "execution_count": 122,
     "metadata": {},
     "output_type": "execute_result"
    }
   ],
   "source": [
    "df_avx_nonfused_nonprobempi_summary = df_avx_nonfused_nonprobempi.groupby(['MPI_size','omp_thrd','NPT','NPX', 'NPY', 'NPZ',\"Total_proc\"]).size().reset_index(name = 'size')\n",
    "df_avx_nonfused_nonprobempi_summary"
   ]
  },
  {
   "cell_type": "code",
   "execution_count": 129,
   "id": "27e03fe2",
   "metadata": {},
   "outputs": [],
   "source": [
    "dfAvxNonFusNonProb_8mpi_4omp = df_avx_nonfused_nonprobempi[(df_avx_nonfused_nonprobempi.omp_thrd == 4) & (df_avx_nonfused_nonprobempi.GLB_T/df_avx_nonfused_nonprobempi.LOC_T == 1) & (df_avx_nonfused_nonprobempi.GLB_X/df_avx_nonfused_nonprobempi.LOC_X == 2) & (df_avx_nonfused_nonprobempi.GLB_Y/df_avx_nonfused_nonprobempi.LOC_Y == 2)& (df_avx_nonfused_nonprobempi.GLB_Z/df_avx_nonfused_nonprobempi.LOC_Z == 2)]\n",
    "dfAvxNonFusNonProb_16mpi_2omp = df_avx_nonfused_nonprobempi[(df_avx_nonfused_nonprobempi.omp_thrd == 2) & (df_avx_nonfused_nonprobempi.GLB_T/df_avx_nonfused_nonprobempi.LOC_T == 2) & (df_avx_nonfused_nonprobempi.GLB_X/df_avx_nonfused_nonprobempi.LOC_X == 2) & (df_avx_nonfused_nonprobempi.GLB_Y/df_avx_nonfused_nonprobempi.LOC_Y == 2)& (df_avx_nonfused_nonprobempi.GLB_Z/df_avx_nonfused_nonprobempi.LOC_Z == 2)]\n",
    "dfAvxNonFusNonProb_32mpi_1omp = df_avx_nonfused_nonprobempi[(df_avx_nonfused_nonprobempi.omp_thrd == 1) & (df_avx_nonfused_nonprobempi.GLB_T/df_avx_nonfused_nonprobempi.LOC_T == 4) & (df_avx_nonfused_nonprobempi.GLB_X/df_avx_nonfused_nonprobempi.LOC_X == 2) & (df_avx_nonfused_nonprobempi.GLB_Y/df_avx_nonfused_nonprobempi.LOC_Y == 2)& (df_avx_nonfused_nonprobempi.GLB_Z/df_avx_nonfused_nonprobempi.LOC_Z == 2)]\n"
   ]
  },
  {
   "cell_type": "code",
   "execution_count": null,
   "id": "1e889a87",
   "metadata": {},
   "outputs": [],
   "source": []
  },
  {
   "cell_type": "markdown",
   "id": "b94ff4c6",
   "metadata": {},
   "source": [
    "### 5. avx_newgeo_probempi  "
   ]
  },
  {
   "cell_type": "code",
   "execution_count": 130,
   "id": "66576fc9",
   "metadata": {},
   "outputs": [],
   "source": [
    "df_avx_newgeo_probempi[\"N_Nodes\"] = 1\n",
    "df_avx_newgeo_probempi['NPX'] = (df_avx_newgeo_probempi.GLB_X//df_avx_newgeo_probempi.LOC_X)\n",
    "df_avx_newgeo_probempi['NPY'] = (df_avx_newgeo_probempi.GLB_Y//df_avx_newgeo_probempi.LOC_Y)\n",
    "df_avx_newgeo_probempi['NPZ'] = (df_avx_newgeo_probempi.GLB_Z//df_avx_newgeo_probempi.LOC_Z)\n",
    "df_avx_newgeo_probempi['NPT'] = (df_avx_newgeo_probempi.GLB_T//df_avx_newgeo_probempi.LOC_T)\n",
    "df_avx_newgeo_probempi[\"Total_proc\"] = df_avx_newgeo_probempi[\"omp_thrd\"]* df_avx_newgeo_probempi.MPI_size\n",
    "# df_avx_newgeo_probempi.columns"
   ]
  },
  {
   "cell_type": "code",
   "execution_count": 48,
   "id": "e6c3f307",
   "metadata": {},
   "outputs": [
    {
     "data": {
      "text/html": [
       "<div>\n",
       "<style scoped>\n",
       "    .dataframe tbody tr th:only-of-type {\n",
       "        vertical-align: middle;\n",
       "    }\n",
       "\n",
       "    .dataframe tbody tr th {\n",
       "        vertical-align: top;\n",
       "    }\n",
       "\n",
       "    .dataframe thead th {\n",
       "        text-align: right;\n",
       "    }\n",
       "</style>\n",
       "<table border=\"1\" class=\"dataframe\">\n",
       "  <thead>\n",
       "    <tr style=\"text-align: right;\">\n",
       "      <th></th>\n",
       "      <th>MPI_size</th>\n",
       "      <th>omp_thrd</th>\n",
       "      <th>NPT</th>\n",
       "      <th>NPX</th>\n",
       "      <th>NPY</th>\n",
       "      <th>NPZ</th>\n",
       "      <th>Total_proc</th>\n",
       "      <th>size</th>\n",
       "    </tr>\n",
       "  </thead>\n",
       "  <tbody>\n",
       "    <tr>\n",
       "      <th>0</th>\n",
       "      <td>8</td>\n",
       "      <td>4</td>\n",
       "      <td>1</td>\n",
       "      <td>2</td>\n",
       "      <td>2</td>\n",
       "      <td>2</td>\n",
       "      <td>32</td>\n",
       "      <td>15</td>\n",
       "    </tr>\n",
       "    <tr>\n",
       "      <th>1</th>\n",
       "      <td>16</td>\n",
       "      <td>2</td>\n",
       "      <td>2</td>\n",
       "      <td>2</td>\n",
       "      <td>2</td>\n",
       "      <td>2</td>\n",
       "      <td>32</td>\n",
       "      <td>13</td>\n",
       "    </tr>\n",
       "    <tr>\n",
       "      <th>2</th>\n",
       "      <td>32</td>\n",
       "      <td>1</td>\n",
       "      <td>4</td>\n",
       "      <td>2</td>\n",
       "      <td>2</td>\n",
       "      <td>2</td>\n",
       "      <td>32</td>\n",
       "      <td>5</td>\n",
       "    </tr>\n",
       "  </tbody>\n",
       "</table>\n",
       "</div>"
      ],
      "text/plain": [
       "   MPI_size  omp_thrd  NPT  NPX  NPY  NPZ  Total_proc  size\n",
       "0         8         4    1    2    2    2          32    15\n",
       "1        16         2    2    2    2    2          32    13\n",
       "2        32         1    4    2    2    2          32     5"
      ]
     },
     "execution_count": 48,
     "metadata": {},
     "output_type": "execute_result"
    }
   ],
   "source": [
    "df_avx_newgeo_probempi_summary = df_avx_newgeo_probempi.groupby(['MPI_size','omp_thrd','NPT','NPX', 'NPY', 'NPZ',\"Total_proc\"]).size().reset_index(name = 'size')\n",
    "df_avx_newgeo_probempi_summary"
   ]
  },
  {
   "cell_type": "code",
   "execution_count": 131,
   "id": "36876bc9",
   "metadata": {},
   "outputs": [],
   "source": [
    "dfAvxNewgeoProb_8mpi_4omp = df_avx_newgeo_probempi[(df_avx_newgeo_probempi.omp_thrd == 4) & (df_avx_newgeo_probempi.GLB_T/df_avx_newgeo_probempi.LOC_T == 1) & (df_avx_newgeo_probempi.GLB_X/df_avx_newgeo_probempi.LOC_X == 2) & (df_avx_newgeo_probempi.GLB_Y/df_avx_newgeo_probempi.LOC_Y == 2)& (df_avx_newgeo_probempi.GLB_Z/df_avx_newgeo_probempi.LOC_Z == 2)]\n",
    "dfAvxNewgeoProb_16mpi_2omp = df_avx_newgeo_probempi[(df_avx_newgeo_probempi.omp_thrd == 2) & (df_avx_newgeo_probempi.GLB_T/df_avx_newgeo_probempi.LOC_T == 2) & (df_avx_newgeo_probempi.GLB_X/df_avx_newgeo_probempi.LOC_X == 2) & (df_avx_newgeo_probempi.GLB_Y/df_avx_newgeo_probempi.LOC_Y == 2)& (df_avx_newgeo_probempi.GLB_Z/df_avx_newgeo_probempi.LOC_Z == 2)]\n",
    "dfAvxNewgeoProb_32mpi_1omp = df_avx_newgeo_probempi[(df_avx_newgeo_probempi.omp_thrd == 1) & (df_avx_newgeo_probempi.GLB_T/df_avx_newgeo_probempi.LOC_T == 4) & (df_avx_newgeo_probempi.GLB_X/df_avx_newgeo_probempi.LOC_X == 2) & (df_avx_newgeo_probempi.GLB_Y/df_avx_newgeo_probempi.LOC_Y == 2)& (df_avx_newgeo_probempi.GLB_Z/df_avx_newgeo_probempi.LOC_Z == 2)]\n"
   ]
  },
  {
   "cell_type": "code",
   "execution_count": null,
   "id": "c4d922a9",
   "metadata": {},
   "outputs": [],
   "source": []
  },
  {
   "cell_type": "markdown",
   "id": "473b1309",
   "metadata": {},
   "source": [
    "### 6. avx_newgeo_nonprobempi  "
   ]
  },
  {
   "cell_type": "code",
   "execution_count": 123,
   "id": "c97ea7f3",
   "metadata": {},
   "outputs": [],
   "source": [
    "df_avx_newgeo_nonprobempi[\"N_Nodes\"] = 1\n",
    "df_avx_newgeo_nonprobempi['NPX'] = (df_avx_newgeo_nonprobempi.GLB_X//df_avx_newgeo_nonprobempi.LOC_X)\n",
    "df_avx_newgeo_nonprobempi['NPY'] = (df_avx_newgeo_nonprobempi.GLB_Y//df_avx_newgeo_nonprobempi.LOC_Y)\n",
    "df_avx_newgeo_nonprobempi['NPZ'] = (df_avx_newgeo_nonprobempi.GLB_Z//df_avx_newgeo_nonprobempi.LOC_Z)\n",
    "df_avx_newgeo_nonprobempi['NPT'] = (df_avx_newgeo_nonprobempi.GLB_T//df_avx_newgeo_nonprobempi.LOC_T)\n",
    "df_avx_newgeo_nonprobempi[\"Total_proc\"] = df_avx_newgeo_nonprobempi[\"omp_thrd\"]* df_avx_newgeo_nonprobempi.MPI_size\n",
    "# df_avx_newgeo_nonprobempi.columns"
   ]
  },
  {
   "cell_type": "code",
   "execution_count": 50,
   "id": "b24fccf0",
   "metadata": {},
   "outputs": [
    {
     "data": {
      "text/html": [
       "<div>\n",
       "<style scoped>\n",
       "    .dataframe tbody tr th:only-of-type {\n",
       "        vertical-align: middle;\n",
       "    }\n",
       "\n",
       "    .dataframe tbody tr th {\n",
       "        vertical-align: top;\n",
       "    }\n",
       "\n",
       "    .dataframe thead th {\n",
       "        text-align: right;\n",
       "    }\n",
       "</style>\n",
       "<table border=\"1\" class=\"dataframe\">\n",
       "  <thead>\n",
       "    <tr style=\"text-align: right;\">\n",
       "      <th></th>\n",
       "      <th>MPI_size</th>\n",
       "      <th>omp_thrd</th>\n",
       "      <th>NPT</th>\n",
       "      <th>NPX</th>\n",
       "      <th>NPY</th>\n",
       "      <th>NPZ</th>\n",
       "      <th>Total_proc</th>\n",
       "      <th>size</th>\n",
       "    </tr>\n",
       "  </thead>\n",
       "  <tbody>\n",
       "    <tr>\n",
       "      <th>0</th>\n",
       "      <td>8</td>\n",
       "      <td>4</td>\n",
       "      <td>1</td>\n",
       "      <td>2</td>\n",
       "      <td>2</td>\n",
       "      <td>2</td>\n",
       "      <td>32</td>\n",
       "      <td>15</td>\n",
       "    </tr>\n",
       "    <tr>\n",
       "      <th>1</th>\n",
       "      <td>16</td>\n",
       "      <td>2</td>\n",
       "      <td>2</td>\n",
       "      <td>2</td>\n",
       "      <td>2</td>\n",
       "      <td>2</td>\n",
       "      <td>32</td>\n",
       "      <td>13</td>\n",
       "    </tr>\n",
       "    <tr>\n",
       "      <th>2</th>\n",
       "      <td>32</td>\n",
       "      <td>1</td>\n",
       "      <td>4</td>\n",
       "      <td>2</td>\n",
       "      <td>2</td>\n",
       "      <td>2</td>\n",
       "      <td>32</td>\n",
       "      <td>5</td>\n",
       "    </tr>\n",
       "  </tbody>\n",
       "</table>\n",
       "</div>"
      ],
      "text/plain": [
       "   MPI_size  omp_thrd  NPT  NPX  NPY  NPZ  Total_proc  size\n",
       "0         8         4    1    2    2    2          32    15\n",
       "1        16         2    2    2    2    2          32    13\n",
       "2        32         1    4    2    2    2          32     5"
      ]
     },
     "execution_count": 50,
     "metadata": {},
     "output_type": "execute_result"
    }
   ],
   "source": [
    "df_avx_newgeo_nonprobempi_summary = df_avx_newgeo_nonprobempi.groupby(['MPI_size','omp_thrd','NPT','NPX', 'NPY', 'NPZ',\"Total_proc\"]).size().reset_index(name = 'size')\n",
    "df_avx_newgeo_nonprobempi_summary"
   ]
  },
  {
   "cell_type": "code",
   "execution_count": 132,
   "id": "348aa8dc",
   "metadata": {},
   "outputs": [],
   "source": [
    "dfAvxNewgeoNonProb_8mpi_4omp = df_avx_newgeo_nonprobempi[(df_avx_newgeo_nonprobempi.omp_thrd == 4) & (df_avx_newgeo_nonprobempi.GLB_T/df_avx_newgeo_nonprobempi.LOC_T == 1) & (df_avx_newgeo_nonprobempi.GLB_X/df_avx_newgeo_nonprobempi.LOC_X == 2) & (df_avx_newgeo_nonprobempi.GLB_Y/df_avx_newgeo_nonprobempi.LOC_Y == 2)& (df_avx_newgeo_nonprobempi.GLB_Z/df_avx_newgeo_nonprobempi.LOC_Z == 2)]\n",
    "dfAvxNewgeoNonProb_16mpi_2omp = df_avx_newgeo_nonprobempi[(df_avx_newgeo_nonprobempi.omp_thrd == 2) & (df_avx_newgeo_nonprobempi.GLB_T/df_avx_newgeo_nonprobempi.LOC_T == 2) & (df_avx_newgeo_nonprobempi.GLB_X/df_avx_newgeo_nonprobempi.LOC_X == 2) & (df_avx_newgeo_nonprobempi.GLB_Y/df_avx_newgeo_nonprobempi.LOC_Y == 2)& (df_avx_newgeo_nonprobempi.GLB_Z/df_avx_newgeo_nonprobempi.LOC_Z == 2)]\n",
    "dfAvxNewgeoNonProb_32mpi_1omp = df_avx_newgeo_nonprobempi[(df_avx_newgeo_nonprobempi.omp_thrd == 1) & (df_avx_newgeo_nonprobempi.GLB_T/df_avx_newgeo_nonprobempi.LOC_T == 4) & (df_avx_newgeo_nonprobempi.GLB_X/df_avx_newgeo_nonprobempi.LOC_X == 2) & (df_avx_newgeo_nonprobempi.GLB_Y/df_avx_newgeo_nonprobempi.LOC_Y == 2)& (df_avx_newgeo_nonprobempi.GLB_Z/df_avx_newgeo_nonprobempi.LOC_Z == 2)]\n"
   ]
  },
  {
   "cell_type": "code",
   "execution_count": null,
   "id": "6b76ee51",
   "metadata": {},
   "outputs": [],
   "source": []
  },
  {
   "cell_type": "markdown",
   "id": "4c2b544b",
   "metadata": {},
   "source": [
    " "
   ]
  },
  {
   "cell_type": "code",
   "execution_count": null,
   "id": "522bfada",
   "metadata": {},
   "outputs": [],
   "source": []
  },
  {
   "cell_type": "code",
   "execution_count": null,
   "id": "93d409eb",
   "metadata": {},
   "outputs": [],
   "source": []
  },
  {
   "cell_type": "code",
   "execution_count": null,
   "id": "57f63673",
   "metadata": {},
   "outputs": [],
   "source": []
  },
  {
   "cell_type": "code",
   "execution_count": null,
   "id": "58a83274",
   "metadata": {},
   "outputs": [],
   "source": []
  },
  {
   "cell_type": "code",
   "execution_count": 120,
   "id": "03093252",
   "metadata": {},
   "outputs": [],
   "source": []
  },
  {
   "cell_type": "code",
   "execution_count": null,
   "id": "c13430c0",
   "metadata": {},
   "outputs": [],
   "source": []
  },
  {
   "cell_type": "code",
   "execution_count": null,
   "id": "c6658b8e",
   "metadata": {},
   "outputs": [],
   "source": []
  },
  {
   "cell_type": "code",
   "execution_count": null,
   "id": "9dc1f213",
   "metadata": {},
   "outputs": [],
   "source": []
  },
  {
   "cell_type": "code",
   "execution_count": null,
   "id": "39b8159e",
   "metadata": {},
   "outputs": [],
   "source": []
  },
  {
   "cell_type": "code",
   "execution_count": null,
   "id": "f431eeb9",
   "metadata": {},
   "outputs": [],
   "source": []
  },
  {
   "cell_type": "code",
   "execution_count": null,
   "id": "a6be1731",
   "metadata": {},
   "outputs": [],
   "source": []
  },
  {
   "cell_type": "code",
   "execution_count": null,
   "id": "91464437",
   "metadata": {},
   "outputs": [],
   "source": []
  },
  {
   "cell_type": "code",
   "execution_count": null,
   "id": "b7342369",
   "metadata": {},
   "outputs": [],
   "source": []
  },
  {
   "cell_type": "code",
   "execution_count": null,
   "id": "653daf7c",
   "metadata": {},
   "outputs": [],
   "source": []
  },
  {
   "cell_type": "code",
   "execution_count": null,
   "id": "19d2b8c4",
   "metadata": {},
   "outputs": [],
   "source": []
  },
  {
   "cell_type": "code",
   "execution_count": null,
   "id": "781b3aa7",
   "metadata": {},
   "outputs": [],
   "source": []
  },
  {
   "cell_type": "code",
   "execution_count": null,
   "id": "65477cc7",
   "metadata": {},
   "outputs": [],
   "source": []
  },
  {
   "cell_type": "code",
   "execution_count": null,
   "id": "276024bb",
   "metadata": {},
   "outputs": [],
   "source": []
  }
 ],
 "metadata": {
  "kernelspec": {
   "display_name": "Python 3 (ipykernel)",
   "language": "python",
   "name": "python3"
  },
  "language_info": {
   "codemirror_mode": {
    "name": "ipython",
    "version": 3
   },
   "file_extension": ".py",
   "mimetype": "text/x-python",
   "name": "python",
   "nbconvert_exporter": "python",
   "pygments_lexer": "ipython3",
   "version": "3.9.13"
  }
 },
 "nbformat": 4,
 "nbformat_minor": 5
}
