{
 "cells": [
  {
   "cell_type": "code",
   "execution_count": 1,
   "id": "4543e0e7",
   "metadata": {},
   "outputs": [
    {
     "data": {
      "text/html": [
       "        <script type=\"text/javascript\">\n",
       "        window.PlotlyConfig = {MathJaxConfig: 'local'};\n",
       "        if (window.MathJax && window.MathJax.Hub && window.MathJax.Hub.Config) {window.MathJax.Hub.Config({SVG: {font: \"STIX-Web\"}});}\n",
       "        if (typeof require !== 'undefined') {\n",
       "        require.undef(\"plotly\");\n",
       "        requirejs.config({\n",
       "            paths: {\n",
       "                'plotly': ['https://cdn.plot.ly/plotly-2.12.1.min']\n",
       "            }\n",
       "        });\n",
       "        require(['plotly'], function(Plotly) {\n",
       "            window._Plotly = Plotly;\n",
       "        });\n",
       "        }\n",
       "        </script>\n",
       "        "
      ]
     },
     "metadata": {},
     "output_type": "display_data"
    },
    {
     "data": {
      "text/html": [
       "        <script type=\"text/javascript\">\n",
       "        window.PlotlyConfig = {MathJaxConfig: 'local'};\n",
       "        if (window.MathJax && window.MathJax.Hub && window.MathJax.Hub.Config) {window.MathJax.Hub.Config({SVG: {font: \"STIX-Web\"}});}\n",
       "        if (typeof require !== 'undefined') {\n",
       "        require.undef(\"plotly\");\n",
       "        requirejs.config({\n",
       "            paths: {\n",
       "                'plotly': ['https://cdn.plot.ly/plotly-2.12.1.min']\n",
       "            }\n",
       "        });\n",
       "        require(['plotly'], function(Plotly) {\n",
       "            window._Plotly = Plotly;\n",
       "        });\n",
       "        }\n",
       "        </script>\n",
       "        "
      ]
     },
     "metadata": {},
     "output_type": "display_data"
    }
   ],
   "source": [
    "import pandas as pd\n",
    "import numpy as np\n",
    "import chart_studio.plotly as py\n",
    "import cufflinks as cf\n",
    "import seaborn as sns\n",
    "import plotly.express as px\n",
    "import plotly.graph_objects as go\n",
    "import collections\n",
    "from collections import OrderedDict\n",
    "%matplotlib inline\n",
    "from plotly.offline import download_plotlyjs, init_notebook_mode, plot, iplot\n",
    "init_notebook_mode(connected=True)\n",
    "cf.go_offline()"
   ]
  },
  {
   "cell_type": "code",
   "execution_count": 2,
   "id": "f45bab7b",
   "metadata": {},
   "outputs": [],
   "source": [
    "pd.set_option('display.max_columns', None)\n",
    "pd.set_option('display.max_rows', None)\n",
    "####### Macro Cases ######\n",
    "dfn8_macro_fused_probempi = pd.read_csv(\"n8_fused_macro_probmpi.csv\")\n",
    "dfn8_macro_fused_nonprobempi = pd.read_csv(\"n8_fused_macro_nonprobmpi.csv\")\n",
    "dfn8_macro_newgeo_probempi = pd.read_csv(\"n8_newgeo_macro_probmpi.csv\")\n",
    "dfn8_macro_newgeo_nonprobempi = pd.read_csv(\"n8_newgeo_macro_nonprobmpi.csv\")\n",
    "dfn8_macro_nonfused_probempi = pd.read_csv(\"n8_nonfused_macro_probmpi.csv\")\n",
    "dfn8_macro_nonfused_nonprobempi = pd.read_csv(\"n8_nonfused_macro_nonprobmpi.csv\")\n",
    "\n",
    "####### AVX Cases ######\n",
    "dfn8_avx_fused_probmpi = pd.read_csv(\"n8_fused_avx_probmpi.csv\")\n",
    "# dfn8_avx_fused_probmpi = pd.read_csv(\"n8_fused_avx_probmpi_updated.csv\")\n",
    "dfn8_avx_fused_nonprobmpi = pd.read_csv(\"n8_fused_avx_nonprobmpi.csv\")\n",
    "# dfn8_avx_newgeo_probempi = pd.read_csv(\"n4_newgeo_avx_probmpi.csv\")\n",
    "# dfn8_avx_newgeo_nonprobempi = pd.read_csv(\"n4_newgeo_avx_nonprobmpi.csv\")\n",
    "dfn8_avx_nonfused_probempi = pd.read_csv(\"n8_nonfused_avx_probmpi.csv\")\n",
    "dfn8_avx_nonfused_nonprobempi = pd.read_csv(\"n8_nonfused_avx_nonprobmpi.csv\")\n",
    "\n",
    "####### VECT Cases ######\n",
    "\n",
    "\n"
   ]
  },
  {
   "cell_type": "markdown",
   "id": "d1749c87",
   "metadata": {},
   "source": [
    "# MACRO CASES"
   ]
  },
  {
   "cell_type": "markdown",
   "id": "b09079fc",
   "metadata": {},
   "source": [
    "## 1) Fused_Macro_Probempi"
   ]
  },
  {
   "cell_type": "markdown",
   "id": "03ce57ec",
   "metadata": {},
   "source": [
    "### Adding Columns"
   ]
  },
  {
   "cell_type": "code",
   "execution_count": 3,
   "id": "2dda333d",
   "metadata": {},
   "outputs": [],
   "source": [
    "dfn8_macro_fused_probempi[\"N_Nodes\"] = 8\n",
    "dfn8_macro_fused_probempi['NPX'] = (dfn8_macro_fused_probempi.GLB_X//dfn8_macro_fused_probempi.LOC_X)\n",
    "dfn8_macro_fused_probempi['NPY'] = (dfn8_macro_fused_probempi.GLB_Y//dfn8_macro_fused_probempi.LOC_Y)\n",
    "dfn8_macro_fused_probempi['NPZ'] = (dfn8_macro_fused_probempi.GLB_Z//dfn8_macro_fused_probempi.LOC_Z)\n",
    "dfn8_macro_fused_probempi['NPT'] = (dfn8_macro_fused_probempi.GLB_T//dfn8_macro_fused_probempi.LOC_T)\n",
    "dfn8_macro_fused_probempi[\"Total_proc\"] = dfn8_macro_fused_probempi[\"omp_thrd\"]* dfn8_macro_fused_probempi.MPI_size\n",
    "# dfn8_macro_fused_probempi.columns"
   ]
  },
  {
   "cell_type": "markdown",
   "id": "9a995794",
   "metadata": {},
   "source": [
    "### Data Summary"
   ]
  },
  {
   "cell_type": "code",
   "execution_count": 4,
   "id": "d6b488b6",
   "metadata": {},
   "outputs": [
    {
     "data": {
      "text/html": [
       "<div>\n",
       "<style scoped>\n",
       "    .dataframe tbody tr th:only-of-type {\n",
       "        vertical-align: middle;\n",
       "    }\n",
       "\n",
       "    .dataframe tbody tr th {\n",
       "        vertical-align: top;\n",
       "    }\n",
       "\n",
       "    .dataframe thead th {\n",
       "        text-align: right;\n",
       "    }\n",
       "</style>\n",
       "<table border=\"1\" class=\"dataframe\">\n",
       "  <thead>\n",
       "    <tr style=\"text-align: right;\">\n",
       "      <th></th>\n",
       "      <th>MPI_size</th>\n",
       "      <th>omp_thrd</th>\n",
       "      <th>NPT</th>\n",
       "      <th>NPX</th>\n",
       "      <th>NPY</th>\n",
       "      <th>NPZ</th>\n",
       "      <th>Total_proc</th>\n",
       "      <th>size</th>\n",
       "    </tr>\n",
       "  </thead>\n",
       "  <tbody>\n",
       "    <tr>\n",
       "      <th>0</th>\n",
       "      <td>64</td>\n",
       "      <td>16</td>\n",
       "      <td>8</td>\n",
       "      <td>2</td>\n",
       "      <td>2</td>\n",
       "      <td>2</td>\n",
       "      <td>1024</td>\n",
       "      <td>137</td>\n",
       "    </tr>\n",
       "    <tr>\n",
       "      <th>1</th>\n",
       "      <td>72</td>\n",
       "      <td>14</td>\n",
       "      <td>9</td>\n",
       "      <td>2</td>\n",
       "      <td>2</td>\n",
       "      <td>2</td>\n",
       "      <td>1008</td>\n",
       "      <td>62</td>\n",
       "    </tr>\n",
       "    <tr>\n",
       "      <th>2</th>\n",
       "      <td>112</td>\n",
       "      <td>9</td>\n",
       "      <td>14</td>\n",
       "      <td>2</td>\n",
       "      <td>2</td>\n",
       "      <td>2</td>\n",
       "      <td>1008</td>\n",
       "      <td>77</td>\n",
       "    </tr>\n",
       "    <tr>\n",
       "      <th>3</th>\n",
       "      <td>128</td>\n",
       "      <td>8</td>\n",
       "      <td>16</td>\n",
       "      <td>2</td>\n",
       "      <td>2</td>\n",
       "      <td>2</td>\n",
       "      <td>1024</td>\n",
       "      <td>70</td>\n",
       "    </tr>\n",
       "    <tr>\n",
       "      <th>4</th>\n",
       "      <td>144</td>\n",
       "      <td>7</td>\n",
       "      <td>18</td>\n",
       "      <td>2</td>\n",
       "      <td>2</td>\n",
       "      <td>2</td>\n",
       "      <td>1008</td>\n",
       "      <td>60</td>\n",
       "    </tr>\n",
       "    <tr>\n",
       "      <th>5</th>\n",
       "      <td>168</td>\n",
       "      <td>6</td>\n",
       "      <td>21</td>\n",
       "      <td>2</td>\n",
       "      <td>2</td>\n",
       "      <td>2</td>\n",
       "      <td>1008</td>\n",
       "      <td>25</td>\n",
       "    </tr>\n",
       "    <tr>\n",
       "      <th>6</th>\n",
       "      <td>200</td>\n",
       "      <td>5</td>\n",
       "      <td>25</td>\n",
       "      <td>2</td>\n",
       "      <td>2</td>\n",
       "      <td>2</td>\n",
       "      <td>1000</td>\n",
       "      <td>21</td>\n",
       "    </tr>\n",
       "    <tr>\n",
       "      <th>7</th>\n",
       "      <td>248</td>\n",
       "      <td>4</td>\n",
       "      <td>31</td>\n",
       "      <td>2</td>\n",
       "      <td>2</td>\n",
       "      <td>2</td>\n",
       "      <td>992</td>\n",
       "      <td>18</td>\n",
       "    </tr>\n",
       "    <tr>\n",
       "      <th>8</th>\n",
       "      <td>256</td>\n",
       "      <td>4</td>\n",
       "      <td>32</td>\n",
       "      <td>2</td>\n",
       "      <td>2</td>\n",
       "      <td>2</td>\n",
       "      <td>1024</td>\n",
       "      <td>35</td>\n",
       "    </tr>\n",
       "    <tr>\n",
       "      <th>9</th>\n",
       "      <td>328</td>\n",
       "      <td>3</td>\n",
       "      <td>41</td>\n",
       "      <td>2</td>\n",
       "      <td>2</td>\n",
       "      <td>2</td>\n",
       "      <td>984</td>\n",
       "      <td>13</td>\n",
       "    </tr>\n",
       "    <tr>\n",
       "      <th>10</th>\n",
       "      <td>336</td>\n",
       "      <td>3</td>\n",
       "      <td>42</td>\n",
       "      <td>2</td>\n",
       "      <td>2</td>\n",
       "      <td>2</td>\n",
       "      <td>1008</td>\n",
       "      <td>27</td>\n",
       "    </tr>\n",
       "    <tr>\n",
       "      <th>11</th>\n",
       "      <td>488</td>\n",
       "      <td>2</td>\n",
       "      <td>61</td>\n",
       "      <td>2</td>\n",
       "      <td>2</td>\n",
       "      <td>2</td>\n",
       "      <td>976</td>\n",
       "      <td>8</td>\n",
       "    </tr>\n",
       "    <tr>\n",
       "      <th>12</th>\n",
       "      <td>496</td>\n",
       "      <td>2</td>\n",
       "      <td>62</td>\n",
       "      <td>2</td>\n",
       "      <td>2</td>\n",
       "      <td>2</td>\n",
       "      <td>992</td>\n",
       "      <td>16</td>\n",
       "    </tr>\n",
       "    <tr>\n",
       "      <th>13</th>\n",
       "      <td>504</td>\n",
       "      <td>2</td>\n",
       "      <td>63</td>\n",
       "      <td>2</td>\n",
       "      <td>2</td>\n",
       "      <td>2</td>\n",
       "      <td>1008</td>\n",
       "      <td>9</td>\n",
       "    </tr>\n",
       "    <tr>\n",
       "      <th>14</th>\n",
       "      <td>512</td>\n",
       "      <td>2</td>\n",
       "      <td>64</td>\n",
       "      <td>2</td>\n",
       "      <td>2</td>\n",
       "      <td>2</td>\n",
       "      <td>1024</td>\n",
       "      <td>16</td>\n",
       "    </tr>\n",
       "    <tr>\n",
       "      <th>15</th>\n",
       "      <td>976</td>\n",
       "      <td>1</td>\n",
       "      <td>122</td>\n",
       "      <td>2</td>\n",
       "      <td>2</td>\n",
       "      <td>2</td>\n",
       "      <td>976</td>\n",
       "      <td>7</td>\n",
       "    </tr>\n",
       "    <tr>\n",
       "      <th>16</th>\n",
       "      <td>984</td>\n",
       "      <td>1</td>\n",
       "      <td>123</td>\n",
       "      <td>2</td>\n",
       "      <td>2</td>\n",
       "      <td>2</td>\n",
       "      <td>984</td>\n",
       "      <td>4</td>\n",
       "    </tr>\n",
       "    <tr>\n",
       "      <th>17</th>\n",
       "      <td>992</td>\n",
       "      <td>1</td>\n",
       "      <td>124</td>\n",
       "      <td>2</td>\n",
       "      <td>2</td>\n",
       "      <td>2</td>\n",
       "      <td>992</td>\n",
       "      <td>6</td>\n",
       "    </tr>\n",
       "    <tr>\n",
       "      <th>18</th>\n",
       "      <td>1000</td>\n",
       "      <td>1</td>\n",
       "      <td>125</td>\n",
       "      <td>2</td>\n",
       "      <td>2</td>\n",
       "      <td>2</td>\n",
       "      <td>1000</td>\n",
       "      <td>4</td>\n",
       "    </tr>\n",
       "    <tr>\n",
       "      <th>19</th>\n",
       "      <td>1008</td>\n",
       "      <td>1</td>\n",
       "      <td>126</td>\n",
       "      <td>2</td>\n",
       "      <td>2</td>\n",
       "      <td>2</td>\n",
       "      <td>1008</td>\n",
       "      <td>6</td>\n",
       "    </tr>\n",
       "    <tr>\n",
       "      <th>20</th>\n",
       "      <td>1016</td>\n",
       "      <td>1</td>\n",
       "      <td>127</td>\n",
       "      <td>2</td>\n",
       "      <td>2</td>\n",
       "      <td>2</td>\n",
       "      <td>1016</td>\n",
       "      <td>4</td>\n",
       "    </tr>\n",
       "    <tr>\n",
       "      <th>21</th>\n",
       "      <td>1024</td>\n",
       "      <td>1</td>\n",
       "      <td>128</td>\n",
       "      <td>2</td>\n",
       "      <td>2</td>\n",
       "      <td>2</td>\n",
       "      <td>1024</td>\n",
       "      <td>6</td>\n",
       "    </tr>\n",
       "  </tbody>\n",
       "</table>\n",
       "</div>"
      ],
      "text/plain": [
       "    MPI_size  omp_thrd  NPT  NPX  NPY  NPZ  Total_proc  size\n",
       "0         64        16    8    2    2    2        1024   137\n",
       "1         72        14    9    2    2    2        1008    62\n",
       "2        112         9   14    2    2    2        1008    77\n",
       "3        128         8   16    2    2    2        1024    70\n",
       "4        144         7   18    2    2    2        1008    60\n",
       "5        168         6   21    2    2    2        1008    25\n",
       "6        200         5   25    2    2    2        1000    21\n",
       "7        248         4   31    2    2    2         992    18\n",
       "8        256         4   32    2    2    2        1024    35\n",
       "9        328         3   41    2    2    2         984    13\n",
       "10       336         3   42    2    2    2        1008    27\n",
       "11       488         2   61    2    2    2         976     8\n",
       "12       496         2   62    2    2    2         992    16\n",
       "13       504         2   63    2    2    2        1008     9\n",
       "14       512         2   64    2    2    2        1024    16\n",
       "15       976         1  122    2    2    2         976     7\n",
       "16       984         1  123    2    2    2         984     4\n",
       "17       992         1  124    2    2    2         992     6\n",
       "18      1000         1  125    2    2    2        1000     4\n",
       "19      1008         1  126    2    2    2        1008     6\n",
       "20      1016         1  127    2    2    2        1016     4\n",
       "21      1024         1  128    2    2    2        1024     6"
      ]
     },
     "execution_count": 4,
     "metadata": {},
     "output_type": "execute_result"
    }
   ],
   "source": [
    "dfn8_macro_fused_probempi_summary = dfn8_macro_fused_probempi.groupby(['MPI_size','omp_thrd','NPT','NPX', 'NPY', 'NPZ',\"Total_proc\"]).size().reset_index(name = 'size')\n",
    "dfn8_macro_fused_probempi_summary"
   ]
  },
  {
   "cell_type": "markdown",
   "id": "dbd9f064",
   "metadata": {},
   "source": [
    "### Cases Setup"
   ]
  },
  {
   "cell_type": "code",
   "execution_count": 5,
   "id": "e94fefb0",
   "metadata": {},
   "outputs": [],
   "source": [
    "dfn8MacFusProb_64mpi_16omp = dfn8_macro_fused_probempi[(dfn8_macro_fused_probempi.omp_thrd == 16) & (dfn8_macro_fused_probempi.GLB_T/dfn8_macro_fused_probempi.LOC_T == 8) & (dfn8_macro_fused_probempi.GLB_X/dfn8_macro_fused_probempi.LOC_X == 2) & (dfn8_macro_fused_probempi.GLB_Y/dfn8_macro_fused_probempi.LOC_Y == 2)& (dfn8_macro_fused_probempi.GLB_Z/dfn8_macro_fused_probempi.LOC_Z == 2)]\n",
    "dfn8MacFusProb_128mpi_8omp = dfn8_macro_fused_probempi[(dfn8_macro_fused_probempi.omp_thrd == 8) & (dfn8_macro_fused_probempi.GLB_T/dfn8_macro_fused_probempi.LOC_T == 16) & (dfn8_macro_fused_probempi.GLB_X/dfn8_macro_fused_probempi.LOC_X == 2) & (dfn8_macro_fused_probempi.GLB_Y/dfn8_macro_fused_probempi.LOC_Y == 2)& (dfn8_macro_fused_probempi.GLB_Z/dfn8_macro_fused_probempi.LOC_Z == 2)]\n",
    "dfn8MacFusProb_256mpi_4omp = dfn8_macro_fused_probempi[(dfn8_macro_fused_probempi.omp_thrd == 4) & (dfn8_macro_fused_probempi.GLB_T/dfn8_macro_fused_probempi.LOC_T == 32) & (dfn8_macro_fused_probempi.GLB_X/dfn8_macro_fused_probempi.LOC_X == 2) & (dfn8_macro_fused_probempi.GLB_Y/dfn8_macro_fused_probempi.LOC_Y == 2)& (dfn8_macro_fused_probempi.GLB_Z/dfn8_macro_fused_probempi.LOC_Z == 2)]\n",
    "dfn8MacFusProb_512mpi_2omp = dfn8_macro_fused_probempi[(dfn8_macro_fused_probempi.omp_thrd == 2) & (dfn8_macro_fused_probempi.GLB_T/dfn8_macro_fused_probempi.LOC_T == 64) & (dfn8_macro_fused_probempi.GLB_X/dfn8_macro_fused_probempi.LOC_X == 2) & (dfn8_macro_fused_probempi.GLB_Y/dfn8_macro_fused_probempi.LOC_Y == 2)& (dfn8_macro_fused_probempi.GLB_Z/dfn8_macro_fused_probempi.LOC_Z == 2)]\n",
    "dfn8MacFusProb_1024mpi_1omp = dfn8_macro_fused_probempi[(dfn8_macro_fused_probempi.omp_thrd == 1) & (dfn8_macro_fused_probempi.GLB_T/dfn8_macro_fused_probempi.LOC_T == 128) & (dfn8_macro_fused_probempi.GLB_X/dfn8_macro_fused_probempi.LOC_X == 2) & (dfn8_macro_fused_probempi.GLB_Y/dfn8_macro_fused_probempi.LOC_Y == 2)& (dfn8_macro_fused_probempi.GLB_Z/dfn8_macro_fused_probempi.LOC_Z == 2)]\n",
    "dfn8MacFusProb_168mpi_6omp = dfn8_macro_fused_probempi[(dfn8_macro_fused_probempi.omp_thrd == 6) & (dfn8_macro_fused_probempi.GLB_T/dfn8_macro_fused_probempi.LOC_T == 21) & (dfn8_macro_fused_probempi.GLB_X/dfn8_macro_fused_probempi.LOC_X == 2) & (dfn8_macro_fused_probempi.GLB_Y/dfn8_macro_fused_probempi.LOC_Y == 2)& (dfn8_macro_fused_probempi.GLB_Z/dfn8_macro_fused_probempi.LOC_Z == 2)]\n",
    "dfn8MacFusProb_504mpi_2omp = dfn8_macro_fused_probempi[(dfn8_macro_fused_probempi.omp_thrd == 2) & (dfn8_macro_fused_probempi.GLB_T/dfn8_macro_fused_probempi.LOC_T == 63) & (dfn8_macro_fused_probempi.GLB_X/dfn8_macro_fused_probempi.LOC_X == 2) & (dfn8_macro_fused_probempi.GLB_Y/dfn8_macro_fused_probempi.LOC_Y == 2)& (dfn8_macro_fused_probempi.GLB_Z/dfn8_macro_fused_probempi.LOC_Z == 2)]\n"
   ]
  },
  {
   "cell_type": "markdown",
   "id": "f84ab305",
   "metadata": {},
   "source": [
    "## 2) Fused_Macro_nonprobempi"
   ]
  },
  {
   "cell_type": "markdown",
   "id": "d07fd0df",
   "metadata": {},
   "source": [
    "### Adding Columns"
   ]
  },
  {
   "cell_type": "code",
   "execution_count": 6,
   "id": "e7bea25b",
   "metadata": {},
   "outputs": [],
   "source": [
    "dfn8_macro_fused_nonprobempi[\"N_Nodes\"] = 8\n",
    "dfn8_macro_fused_nonprobempi['NPX'] = (dfn8_macro_fused_nonprobempi.GLB_X//dfn8_macro_fused_nonprobempi.LOC_X)\n",
    "dfn8_macro_fused_nonprobempi['NPY'] = (dfn8_macro_fused_nonprobempi.GLB_Y//dfn8_macro_fused_nonprobempi.LOC_Y)\n",
    "dfn8_macro_fused_nonprobempi['NPZ'] = (dfn8_macro_fused_nonprobempi.GLB_Z//dfn8_macro_fused_nonprobempi.LOC_Z)\n",
    "dfn8_macro_fused_nonprobempi['NPT'] = (dfn8_macro_fused_nonprobempi.GLB_T//dfn8_macro_fused_nonprobempi.LOC_T)\n",
    "dfn8_macro_fused_nonprobempi[\"Total_proc\"] = dfn8_macro_fused_nonprobempi[\"omp_thrd\"]* dfn8_macro_fused_nonprobempi.MPI_size\n",
    "# dfn8_macro_fused_nonprobempi.columns"
   ]
  },
  {
   "cell_type": "markdown",
   "id": "233aea45",
   "metadata": {},
   "source": [
    "### Data Summary"
   ]
  },
  {
   "cell_type": "code",
   "execution_count": 7,
   "id": "25274c31",
   "metadata": {},
   "outputs": [
    {
     "data": {
      "text/html": [
       "<div>\n",
       "<style scoped>\n",
       "    .dataframe tbody tr th:only-of-type {\n",
       "        vertical-align: middle;\n",
       "    }\n",
       "\n",
       "    .dataframe tbody tr th {\n",
       "        vertical-align: top;\n",
       "    }\n",
       "\n",
       "    .dataframe thead th {\n",
       "        text-align: right;\n",
       "    }\n",
       "</style>\n",
       "<table border=\"1\" class=\"dataframe\">\n",
       "  <thead>\n",
       "    <tr style=\"text-align: right;\">\n",
       "      <th></th>\n",
       "      <th>MPI_size</th>\n",
       "      <th>omp_thrd</th>\n",
       "      <th>NPT</th>\n",
       "      <th>NPX</th>\n",
       "      <th>NPY</th>\n",
       "      <th>NPZ</th>\n",
       "      <th>Total_proc</th>\n",
       "      <th>size</th>\n",
       "    </tr>\n",
       "  </thead>\n",
       "  <tbody>\n",
       "    <tr>\n",
       "      <th>0</th>\n",
       "      <td>64</td>\n",
       "      <td>16</td>\n",
       "      <td>8</td>\n",
       "      <td>2</td>\n",
       "      <td>2</td>\n",
       "      <td>2</td>\n",
       "      <td>1024</td>\n",
       "      <td>140</td>\n",
       "    </tr>\n",
       "    <tr>\n",
       "      <th>1</th>\n",
       "      <td>72</td>\n",
       "      <td>14</td>\n",
       "      <td>9</td>\n",
       "      <td>2</td>\n",
       "      <td>2</td>\n",
       "      <td>2</td>\n",
       "      <td>1008</td>\n",
       "      <td>60</td>\n",
       "    </tr>\n",
       "    <tr>\n",
       "      <th>2</th>\n",
       "      <td>112</td>\n",
       "      <td>9</td>\n",
       "      <td>14</td>\n",
       "      <td>2</td>\n",
       "      <td>2</td>\n",
       "      <td>2</td>\n",
       "      <td>1008</td>\n",
       "      <td>79</td>\n",
       "    </tr>\n",
       "    <tr>\n",
       "      <th>3</th>\n",
       "      <td>128</td>\n",
       "      <td>8</td>\n",
       "      <td>16</td>\n",
       "      <td>2</td>\n",
       "      <td>2</td>\n",
       "      <td>2</td>\n",
       "      <td>1024</td>\n",
       "      <td>68</td>\n",
       "    </tr>\n",
       "    <tr>\n",
       "      <th>4</th>\n",
       "      <td>144</td>\n",
       "      <td>7</td>\n",
       "      <td>18</td>\n",
       "      <td>2</td>\n",
       "      <td>2</td>\n",
       "      <td>2</td>\n",
       "      <td>1008</td>\n",
       "      <td>61</td>\n",
       "    </tr>\n",
       "    <tr>\n",
       "      <th>5</th>\n",
       "      <td>168</td>\n",
       "      <td>6</td>\n",
       "      <td>21</td>\n",
       "      <td>2</td>\n",
       "      <td>2</td>\n",
       "      <td>2</td>\n",
       "      <td>1008</td>\n",
       "      <td>26</td>\n",
       "    </tr>\n",
       "    <tr>\n",
       "      <th>6</th>\n",
       "      <td>200</td>\n",
       "      <td>5</td>\n",
       "      <td>25</td>\n",
       "      <td>2</td>\n",
       "      <td>2</td>\n",
       "      <td>2</td>\n",
       "      <td>1000</td>\n",
       "      <td>21</td>\n",
       "    </tr>\n",
       "    <tr>\n",
       "      <th>7</th>\n",
       "      <td>248</td>\n",
       "      <td>4</td>\n",
       "      <td>31</td>\n",
       "      <td>2</td>\n",
       "      <td>2</td>\n",
       "      <td>2</td>\n",
       "      <td>992</td>\n",
       "      <td>18</td>\n",
       "    </tr>\n",
       "    <tr>\n",
       "      <th>8</th>\n",
       "      <td>256</td>\n",
       "      <td>4</td>\n",
       "      <td>32</td>\n",
       "      <td>2</td>\n",
       "      <td>2</td>\n",
       "      <td>2</td>\n",
       "      <td>1024</td>\n",
       "      <td>35</td>\n",
       "    </tr>\n",
       "    <tr>\n",
       "      <th>9</th>\n",
       "      <td>328</td>\n",
       "      <td>3</td>\n",
       "      <td>41</td>\n",
       "      <td>2</td>\n",
       "      <td>2</td>\n",
       "      <td>2</td>\n",
       "      <td>984</td>\n",
       "      <td>12</td>\n",
       "    </tr>\n",
       "    <tr>\n",
       "      <th>10</th>\n",
       "      <td>336</td>\n",
       "      <td>3</td>\n",
       "      <td>42</td>\n",
       "      <td>2</td>\n",
       "      <td>2</td>\n",
       "      <td>2</td>\n",
       "      <td>1008</td>\n",
       "      <td>26</td>\n",
       "    </tr>\n",
       "    <tr>\n",
       "      <th>11</th>\n",
       "      <td>488</td>\n",
       "      <td>2</td>\n",
       "      <td>61</td>\n",
       "      <td>2</td>\n",
       "      <td>2</td>\n",
       "      <td>2</td>\n",
       "      <td>976</td>\n",
       "      <td>9</td>\n",
       "    </tr>\n",
       "    <tr>\n",
       "      <th>12</th>\n",
       "      <td>496</td>\n",
       "      <td>2</td>\n",
       "      <td>62</td>\n",
       "      <td>2</td>\n",
       "      <td>2</td>\n",
       "      <td>2</td>\n",
       "      <td>992</td>\n",
       "      <td>17</td>\n",
       "    </tr>\n",
       "    <tr>\n",
       "      <th>13</th>\n",
       "      <td>504</td>\n",
       "      <td>2</td>\n",
       "      <td>63</td>\n",
       "      <td>2</td>\n",
       "      <td>2</td>\n",
       "      <td>2</td>\n",
       "      <td>1008</td>\n",
       "      <td>9</td>\n",
       "    </tr>\n",
       "    <tr>\n",
       "      <th>14</th>\n",
       "      <td>512</td>\n",
       "      <td>2</td>\n",
       "      <td>64</td>\n",
       "      <td>2</td>\n",
       "      <td>2</td>\n",
       "      <td>2</td>\n",
       "      <td>1024</td>\n",
       "      <td>17</td>\n",
       "    </tr>\n",
       "    <tr>\n",
       "      <th>15</th>\n",
       "      <td>976</td>\n",
       "      <td>1</td>\n",
       "      <td>122</td>\n",
       "      <td>2</td>\n",
       "      <td>2</td>\n",
       "      <td>2</td>\n",
       "      <td>976</td>\n",
       "      <td>7</td>\n",
       "    </tr>\n",
       "    <tr>\n",
       "      <th>16</th>\n",
       "      <td>984</td>\n",
       "      <td>1</td>\n",
       "      <td>123</td>\n",
       "      <td>2</td>\n",
       "      <td>2</td>\n",
       "      <td>2</td>\n",
       "      <td>984</td>\n",
       "      <td>4</td>\n",
       "    </tr>\n",
       "    <tr>\n",
       "      <th>17</th>\n",
       "      <td>992</td>\n",
       "      <td>1</td>\n",
       "      <td>124</td>\n",
       "      <td>2</td>\n",
       "      <td>2</td>\n",
       "      <td>2</td>\n",
       "      <td>992</td>\n",
       "      <td>7</td>\n",
       "    </tr>\n",
       "    <tr>\n",
       "      <th>18</th>\n",
       "      <td>1000</td>\n",
       "      <td>1</td>\n",
       "      <td>125</td>\n",
       "      <td>2</td>\n",
       "      <td>2</td>\n",
       "      <td>2</td>\n",
       "      <td>1000</td>\n",
       "      <td>4</td>\n",
       "    </tr>\n",
       "    <tr>\n",
       "      <th>19</th>\n",
       "      <td>1008</td>\n",
       "      <td>1</td>\n",
       "      <td>126</td>\n",
       "      <td>2</td>\n",
       "      <td>2</td>\n",
       "      <td>2</td>\n",
       "      <td>1008</td>\n",
       "      <td>7</td>\n",
       "    </tr>\n",
       "    <tr>\n",
       "      <th>20</th>\n",
       "      <td>1016</td>\n",
       "      <td>1</td>\n",
       "      <td>127</td>\n",
       "      <td>2</td>\n",
       "      <td>2</td>\n",
       "      <td>2</td>\n",
       "      <td>1016</td>\n",
       "      <td>4</td>\n",
       "    </tr>\n",
       "    <tr>\n",
       "      <th>21</th>\n",
       "      <td>1024</td>\n",
       "      <td>1</td>\n",
       "      <td>128</td>\n",
       "      <td>2</td>\n",
       "      <td>2</td>\n",
       "      <td>2</td>\n",
       "      <td>1024</td>\n",
       "      <td>7</td>\n",
       "    </tr>\n",
       "  </tbody>\n",
       "</table>\n",
       "</div>"
      ],
      "text/plain": [
       "    MPI_size  omp_thrd  NPT  NPX  NPY  NPZ  Total_proc  size\n",
       "0         64        16    8    2    2    2        1024   140\n",
       "1         72        14    9    2    2    2        1008    60\n",
       "2        112         9   14    2    2    2        1008    79\n",
       "3        128         8   16    2    2    2        1024    68\n",
       "4        144         7   18    2    2    2        1008    61\n",
       "5        168         6   21    2    2    2        1008    26\n",
       "6        200         5   25    2    2    2        1000    21\n",
       "7        248         4   31    2    2    2         992    18\n",
       "8        256         4   32    2    2    2        1024    35\n",
       "9        328         3   41    2    2    2         984    12\n",
       "10       336         3   42    2    2    2        1008    26\n",
       "11       488         2   61    2    2    2         976     9\n",
       "12       496         2   62    2    2    2         992    17\n",
       "13       504         2   63    2    2    2        1008     9\n",
       "14       512         2   64    2    2    2        1024    17\n",
       "15       976         1  122    2    2    2         976     7\n",
       "16       984         1  123    2    2    2         984     4\n",
       "17       992         1  124    2    2    2         992     7\n",
       "18      1000         1  125    2    2    2        1000     4\n",
       "19      1008         1  126    2    2    2        1008     7\n",
       "20      1016         1  127    2    2    2        1016     4\n",
       "21      1024         1  128    2    2    2        1024     7"
      ]
     },
     "execution_count": 7,
     "metadata": {},
     "output_type": "execute_result"
    }
   ],
   "source": [
    "dfn8_macro_fused_nonprobempi_summary = dfn8_macro_fused_nonprobempi.groupby(['MPI_size','omp_thrd','NPT','NPX', 'NPY', 'NPZ',\"Total_proc\"]).size().reset_index(name = 'size')\n",
    "dfn8_macro_fused_nonprobempi_summary"
   ]
  },
  {
   "cell_type": "markdown",
   "id": "1ff14691",
   "metadata": {},
   "source": [
    "### Cases Setup"
   ]
  },
  {
   "cell_type": "code",
   "execution_count": 8,
   "id": "f3b1aaa4",
   "metadata": {},
   "outputs": [],
   "source": [
    "dfn8MacFusNonProb_64mpi_16omp = dfn8_macro_fused_nonprobempi[(dfn8_macro_fused_nonprobempi.omp_thrd == 16) & (dfn8_macro_fused_nonprobempi.GLB_T/dfn8_macro_fused_nonprobempi.LOC_T == 8) & (dfn8_macro_fused_nonprobempi.GLB_X/dfn8_macro_fused_nonprobempi.LOC_X == 2) & (dfn8_macro_fused_nonprobempi.GLB_Y/dfn8_macro_fused_nonprobempi.LOC_Y == 2)& (dfn8_macro_fused_nonprobempi.GLB_Z/dfn8_macro_fused_nonprobempi.LOC_Z == 2)]\n",
    "dfn8MacFusNonProb_128mpi_8omp = dfn8_macro_fused_nonprobempi[(dfn8_macro_fused_nonprobempi.omp_thrd == 8) & (dfn8_macro_fused_nonprobempi.GLB_T/dfn8_macro_fused_nonprobempi.LOC_T == 16) & (dfn8_macro_fused_nonprobempi.GLB_X/dfn8_macro_fused_nonprobempi.LOC_X == 2) & (dfn8_macro_fused_nonprobempi.GLB_Y/dfn8_macro_fused_nonprobempi.LOC_Y == 2)& (dfn8_macro_fused_nonprobempi.GLB_Z/dfn8_macro_fused_nonprobempi.LOC_Z == 2)]\n",
    "dfn8MacFusNonProb_256mpi_4omp = dfn8_macro_fused_nonprobempi[(dfn8_macro_fused_nonprobempi.omp_thrd == 4) & (dfn8_macro_fused_nonprobempi.GLB_T/dfn8_macro_fused_nonprobempi.LOC_T == 32) & (dfn8_macro_fused_nonprobempi.GLB_X/dfn8_macro_fused_nonprobempi.LOC_X == 2) & (dfn8_macro_fused_nonprobempi.GLB_Y/dfn8_macro_fused_nonprobempi.LOC_Y == 2)& (dfn8_macro_fused_nonprobempi.GLB_Z/dfn8_macro_fused_nonprobempi.LOC_Z == 2)]\n",
    "dfn8MacFusNonProb_512mpi_2omp = dfn8_macro_fused_nonprobempi[(dfn8_macro_fused_nonprobempi.omp_thrd == 2) & (dfn8_macro_fused_nonprobempi.GLB_T/dfn8_macro_fused_nonprobempi.LOC_T == 64) & (dfn8_macro_fused_nonprobempi.GLB_X/dfn8_macro_fused_nonprobempi.LOC_X == 2) & (dfn8_macro_fused_nonprobempi.GLB_Y/dfn8_macro_fused_nonprobempi.LOC_Y == 2)& (dfn8_macro_fused_nonprobempi.GLB_Z/dfn8_macro_fused_nonprobempi.LOC_Z == 2)]\n",
    "dfn8MacFusNonProb_1024mpi_1omp = dfn8_macro_fused_nonprobempi[(dfn8_macro_fused_nonprobempi.omp_thrd == 1) & (dfn8_macro_fused_nonprobempi.GLB_T/dfn8_macro_fused_nonprobempi.LOC_T == 128) & (dfn8_macro_fused_nonprobempi.GLB_X/dfn8_macro_fused_nonprobempi.LOC_X == 2) & (dfn8_macro_fused_nonprobempi.GLB_Y/dfn8_macro_fused_nonprobempi.LOC_Y == 2)& (dfn8_macro_fused_nonprobempi.GLB_Z/dfn8_macro_fused_nonprobempi.LOC_Z == 2)]\n",
    "dfn8MacFusNonProb_168mpi_6omp = dfn8_macro_fused_nonprobempi[(dfn8_macro_fused_nonprobempi.omp_thrd == 6) & (dfn8_macro_fused_nonprobempi.GLB_T/dfn8_macro_fused_nonprobempi.LOC_T == 21) & (dfn8_macro_fused_nonprobempi.GLB_X/dfn8_macro_fused_nonprobempi.LOC_X == 2) & (dfn8_macro_fused_nonprobempi.GLB_Y/dfn8_macro_fused_nonprobempi.LOC_Y == 2)& (dfn8_macro_fused_nonprobempi.GLB_Z/dfn8_macro_fused_nonprobempi.LOC_Z == 2)]\n",
    "dfn8MacFusNonProb_504mpi_2omp = dfn8_macro_fused_nonprobempi[(dfn8_macro_fused_nonprobempi.omp_thrd == 2) & (dfn8_macro_fused_nonprobempi.GLB_T/dfn8_macro_fused_nonprobempi.LOC_T == 63) & (dfn8_macro_fused_nonprobempi.GLB_X/dfn8_macro_fused_nonprobempi.LOC_X == 2) & (dfn8_macro_fused_nonprobempi.GLB_Y/dfn8_macro_fused_nonprobempi.LOC_Y == 2)& (dfn8_macro_fused_nonprobempi.GLB_Z/dfn8_macro_fused_nonprobempi.LOC_Z == 2)]\n"
   ]
  },
  {
   "cell_type": "markdown",
   "id": "a28bc24e",
   "metadata": {},
   "source": [
    "## GFLOPS - Fused Macro: Probempi vs NonProbempi"
   ]
  },
  {
   "cell_type": "code",
   "execution_count": 9,
   "id": "243f1314",
   "metadata": {},
   "outputs": [
    {
     "data": {
      "application/vnd.plotly.v1+json": {
       "config": {
        "plotlyServerURL": "https://plot.ly"
       },
       "data": [
        {
         "line": {
          "color": "darkcyan",
          "width": 3
         },
         "marker": {
          "line": {
           "color": "yellow",
           "width": 1
          },
          "size": 9,
          "symbol": "hexagon"
         },
         "mode": "lines+markers",
         "name": "MacFusProb_1024mpi_1omp",
         "type": "scatter",
         "x": [
          1572864000,
          1966080000,
          2359296000,
          2752512000,
          3145728000,
          3932160000
         ],
         "y": [
          212.61952,
          196.09216,
          183.328,
          172.69376,
          161.37472,
          155.19872
         ]
        },
        {
         "line": {
          "color": "magenta",
          "width": 3
         },
         "marker": {
          "line": {
           "color": "yellow",
           "width": 1
          },
          "size": 9,
          "symbol": "hexagon"
         },
         "mode": "lines+markers",
         "name": "MacFusNonProb_1024mpi_1omp",
         "type": "scatter",
         "x": [
          1572864000,
          1966080000,
          2359296000,
          2752512000,
          3145728000,
          3538944000,
          3932160000
         ],
         "y": [
          204.43904,
          187.98848,
          176.90624,
          170.5088,
          162.6688,
          159.86176,
          156.52736
         ]
        },
        {
         "line": {
          "color": "royalblue",
          "width": 3
         },
         "marker": {
          "line": {
           "color": "MediumPurple",
           "width": 2
          },
          "size": 5,
          "symbol": "diamond"
         },
         "mode": "lines+markers",
         "name": "MacFusProb_512mpi_2omp",
         "type": "scatter",
         "x": [
          786432000,
          983040000,
          1179648000,
          1376256000,
          1572864000,
          1769472000,
          1966080000,
          2162688000,
          2359296000,
          2555904000,
          2752512000,
          2949120000,
          3145728000,
          3538944000,
          3735552000,
          3932160000
         ],
         "y": [
          190.41216,
          235.68896,
          242.93248,
          212.32448,
          229.64416,
          218.59072,
          205.01312,
          203.36768,
          196.10944,
          189.3984,
          169.82016,
          178.72704,
          169.2832,
          168.70848,
          163.50848,
          160.71232
         ]
        },
        {
         "line": {
          "color": "sandybrown",
          "width": 3
         },
         "marker": {
          "line": {
           "color": "MediumPurple",
           "width": 2
          },
          "size": 5,
          "symbol": "diamond"
         },
         "mode": "lines+markers",
         "name": "MacFusNonProb_512mpi_2omp",
         "type": "scatter",
         "x": [
          786432000,
          983040000,
          1179648000,
          1376256000,
          1572864000,
          1769472000,
          1966080000,
          2162688000,
          2359296000,
          2555904000,
          2752512000,
          2949120000,
          3145728000,
          3342336000,
          3538944000,
          3735552000,
          3932160000
         ],
         "y": [
          181.45152,
          176.62592,
          238.30144,
          229.84128,
          225.9072,
          211.02272,
          192.57856,
          199.60896,
          181.11296,
          184.19712,
          183.45792,
          177.9328,
          169.79072,
          173.57248,
          161.16416,
          163.34656,
          161.10464
         ]
        },
        {
         "line": {
          "color": "darkblue",
          "width": 3
         },
         "marker": {
          "line": {
           "color": "tomato",
           "width": 2
          },
          "size": 7,
          "symbol": "circle"
         },
         "mode": "lines+markers",
         "name": "MacFusProb_256mpi_4omp",
         "type": "scatter",
         "x": [
          589824000,
          688128000,
          786432000,
          884736000,
          983040000,
          1081344000,
          1179648000,
          1277952000,
          1376256000,
          1474560000,
          1572864000,
          1671168000,
          1769472000,
          1867776000,
          1966080000,
          2064384000,
          2162688000,
          2260992000,
          2359296000,
          2457600000,
          2555904000,
          2654208000,
          2752512000,
          2850816000,
          2949120000,
          3047424000,
          3145728000,
          3244032000,
          3342336000,
          3440640000,
          3538944000,
          3637248000,
          3735552000,
          3833856000,
          3932160000
         ],
         "y": [
          176.50784,
          176.51008,
          193.37024,
          205.7984,
          224.6016,
          214.25312,
          238.7856,
          237.74368,
          223.86592,
          231.66464,
          218.14752,
          206.66016,
          209.2528,
          210.90528,
          204.87808,
          201.42048,
          198.08704,
          189.7264,
          193.19264,
          176.20512,
          186.29376,
          182.98656,
          172.504,
          174.59808,
          175.89472,
          174.18976,
          170.12928,
          171.3696,
          168.85664,
          164.2192,
          165.224,
          164.56256,
          162.78176,
          159.45344,
          160.39776
         ]
        },
        {
         "line": {
          "color": "cyan",
          "width": 3
         },
         "marker": {
          "line": {
           "color": "Purple",
           "width": 2
          },
          "size": 7,
          "symbol": "circle"
         },
         "mode": "lines+markers",
         "name": "MacFusNonProb_256mpi_4omp",
         "type": "scatter",
         "x": [
          589824000,
          688128000,
          786432000,
          884736000,
          983040000,
          1081344000,
          1179648000,
          1277952000,
          1376256000,
          1474560000,
          1572864000,
          1671168000,
          1769472000,
          1867776000,
          1966080000,
          2064384000,
          2162688000,
          2260992000,
          2359296000,
          2457600000,
          2555904000,
          2654208000,
          2752512000,
          2850816000,
          2949120000,
          3047424000,
          3145728000,
          3244032000,
          3342336000,
          3440640000,
          3538944000,
          3637248000,
          3735552000,
          3833856000,
          3932160000
         ],
         "y": [
          168.99968,
          178.79232,
          189.1728,
          201.42912,
          203.16832,
          184.14304,
          181.13216,
          236.4384,
          230.02944,
          229.0496,
          221.09376,
          217.78528,
          214.32288,
          189.18688,
          200.728,
          202.38784,
          196.6288,
          169.53696,
          186.49376,
          183.80064,
          186.71168,
          182.62208,
          180.68608,
          166.78784,
          163.28352,
          173.92224,
          172.18656,
          173.0416,
          172.70432,
          169.31904,
          168.78528,
          167.42272,
          165.3216,
          154.73856,
          146.77344
         ]
        },
        {
         "line": {
          "color": "blue",
          "width": 3
         },
         "marker": {
          "line": {
           "color": "black",
           "width": 1
          },
          "size": 7,
          "symbol": "star"
         },
         "mode": "lines+markers",
         "name": "MacFusProb_128mpi_8omp",
         "type": "scatter",
         "x": [
          540672000,
          589824000,
          638976000,
          688128000,
          737280000,
          786432000,
          835584000,
          884736000,
          933888000,
          983040000,
          1032192000,
          1081344000,
          1130496000,
          1179648000,
          1228800000,
          1277952000,
          1327104000,
          1376256000,
          1425408000,
          1474560000,
          1523712000,
          1572864000,
          1622016000,
          1671168000,
          1720320000,
          1769472000,
          1818624000,
          1867776000,
          1916928000,
          1966080000,
          2015232000,
          2064384000,
          2113536000,
          2162688000,
          2211840000,
          2260992000,
          2310144000,
          2359296000,
          2408448000,
          2457600000,
          2506752000,
          2555904000,
          2605056000,
          2654208000,
          2703360000,
          2752512000,
          2801664000,
          2850816000,
          2899968000,
          2949120000,
          2998272000,
          3047424000,
          3096576000,
          3145728000,
          3194880000,
          3244032000,
          3293184000,
          3342336000,
          3391488000,
          3440640000,
          3489792000,
          3538944000,
          3588096000,
          3637248000,
          3686400000,
          3735552000,
          3784704000,
          3833856000,
          3883008000,
          3932160000
         ],
         "y": [
          168.7872,
          171.7104,
          177.8496,
          188.7344,
          201.168,
          202.464,
          193.7072,
          214.6416,
          207.3504,
          216.2192,
          220.0544,
          217.8992,
          198.8128,
          195.2896,
          191.4688,
          169.7584,
          200.1392,
          218.7072,
          198.184,
          209.9008,
          207.2304,
          201.24,
          205.6608,
          206.384,
          178.5216,
          198.904,
          195.9552,
          188.1904,
          189.5328,
          188.112,
          188.5696,
          185.8032,
          171.096,
          183.0736,
          180.4624,
          177.72,
          174.7776,
          175.176,
          161.5248,
          174.192,
          156.62352,
          170.4224,
          169.9392,
          166.928,
          168.1712,
          159.70304,
          164.0464,
          164.0512,
          162.8256,
          162.3344,
          150.39008,
          150.48144,
          145.84496,
          150.48048,
          156.11136,
          158.23872,
          158.43072,
          157.412,
          155.54608,
          155.13632,
          154.35632,
          153.41888,
          148.6296,
          150.4816,
          151.2768,
          146.14016,
          151.23904,
          150.73248,
          151.16528,
          146.96576
         ]
        },
        {
         "line": {
          "color": "red",
          "width": 3
         },
         "marker": {
          "line": {
           "color": "black",
           "width": 1
          },
          "size": 7,
          "symbol": "star"
         },
         "mode": "lines+markers",
         "name": "MacFusNonProb_128mpi_8omp",
         "type": "scatter",
         "x": [
          540672000,
          589824000,
          638976000,
          688128000,
          737280000,
          786432000,
          835584000,
          884736000,
          933888000,
          983040000,
          1032192000,
          1081344000,
          1130496000,
          1179648000,
          1228800000,
          1277952000,
          1327104000,
          1376256000,
          1425408000,
          1474560000,
          1523712000,
          1572864000,
          1622016000,
          1671168000,
          1720320000,
          1769472000,
          1818624000,
          1867776000,
          1916928000,
          1966080000,
          2015232000,
          2064384000,
          2113536000,
          2162688000,
          2211840000,
          2260992000,
          2310144000,
          2359296000,
          2408448000,
          2457600000,
          2506752000,
          2555904000,
          2605056000,
          2654208000,
          2703360000,
          2752512000,
          2801664000,
          2899968000,
          2949120000,
          2998272000,
          3047424000,
          3096576000,
          3145728000,
          3194880000,
          3244032000,
          3293184000,
          3342336000,
          3391488000,
          3440640000,
          3489792000,
          3538944000,
          3588096000,
          3637248000,
          3686400000,
          3735552000,
          3833856000,
          3883008000,
          3932160000
         ],
         "y": [
          146.13056,
          164.9216,
          154.6736,
          169.2608,
          175.4208,
          187.296,
          191.96,
          194.2992,
          197.976,
          190.9216,
          191.0464,
          198.8272,
          192.4656,
          182.2496,
          153.17776,
          172.7744,
          220.2848,
          214.096,
          216.3344,
          198.4976,
          208.728,
          208.3872,
          201.4352,
          205.8352,
          202.3872,
          178.6,
          201.5168,
          197.576,
          194.8384,
          190.3008,
          192.7616,
          190.8656,
          189.3744,
          171.2032,
          183.5856,
          179.0496,
          175.1472,
          181.6032,
          175.5536,
          179.4464,
          175.7728,
          153.55104,
          165.5792,
          172.632,
          167.9568,
          172.3472,
          151.30784,
          157.752,
          156.00048,
          154.87648,
          153.16304,
          164.2704,
          165.216,
          162.0736,
          162.2752,
          150.76944,
          160.7696,
          159.86688,
          156.95104,
          152.09504,
          149.32,
          157.1392,
          156.60688,
          149.80864,
          154.81312,
          154.04208,
          153.66512,
          152.61568
         ]
        },
        {
         "line": {
          "color": "chartreuse",
          "width": 3
         },
         "marker": {
          "line": {
           "color": "mediumvioletred",
           "width": 1
          },
          "size": 6,
          "symbol": "square-dot"
         },
         "mode": "lines+markers",
         "name": "MacFusProb_64mpi_16omp",
         "type": "scatter",
         "x": [
          516096000,
          540672000,
          565248000,
          589824000,
          614400000,
          638976000,
          663552000,
          688128000,
          712704000,
          737280000,
          761856000,
          786432000,
          811008000,
          835584000,
          860160000,
          884736000,
          909312000,
          933888000,
          958464000,
          983040000,
          1007616000,
          1032192000,
          1056768000,
          1081344000,
          1105920000,
          1130496000,
          1155072000,
          1179648000,
          1204224000,
          1228800000,
          1253376000,
          1277952000,
          1302528000,
          1327104000,
          1351680000,
          1376256000,
          1400832000,
          1425408000,
          1449984000,
          1474560000,
          1499136000,
          1523712000,
          1548288000,
          1572864000,
          1597440000,
          1622016000,
          1646592000,
          1671168000,
          1695744000,
          1720320000,
          1744896000,
          1769472000,
          1794048000,
          1818624000,
          1843200000,
          1867776000,
          1892352000,
          1916928000,
          1941504000,
          1966080000,
          1990656000,
          2015232000,
          2039808000,
          2064384000,
          2088960000,
          2113536000,
          2138112000,
          2162688000,
          2187264000,
          2211840000,
          2236416000,
          2260992000,
          2285568000,
          2310144000,
          2334720000,
          2359296000,
          2383872000,
          2408448000,
          2433024000,
          2457600000,
          2482176000,
          2506752000,
          2531328000,
          2555904000,
          2580480000,
          2605056000,
          2629632000,
          2654208000,
          2678784000,
          2703360000,
          2727936000,
          2752512000,
          2777088000,
          2801664000,
          2826240000,
          2850816000,
          2875392000,
          2899968000,
          2924544000,
          2949120000,
          2973696000,
          2998272000,
          3022848000,
          3047424000,
          3072000000,
          3096576000,
          3121152000,
          3145728000,
          3170304000,
          3194880000,
          3219456000,
          3244032000,
          3293184000,
          3317760000,
          3342336000,
          3366912000,
          3391488000,
          3416064000,
          3440640000,
          3465216000,
          3489792000,
          3514368000,
          3563520000,
          3588096000,
          3612672000,
          3637248000,
          3661824000,
          3686400000,
          3735552000,
          3760128000,
          3784704000,
          3809280000,
          3833856000,
          3858432000,
          3883008000,
          3907584000,
          3932160000
         ],
         "y": [
          136.8672,
          147.564,
          145.9544,
          157.6088,
          153.9864,
          163.4304,
          141.1448,
          169.8928,
          142.2016,
          166.7328,
          166.4216,
          173.8928,
          154.488,
          166.996,
          162.2544,
          163.1448,
          140.2488,
          152.6936,
          139.6256,
          161.864,
          129.9184,
          144.1624,
          136.9864,
          141.8048,
          131.0136,
          126.3408,
          165.8256,
          132.8144,
          141.5984,
          162.604,
          144.7024,
          156.5,
          152.0264,
          149.0904,
          153.5904,
          148.5656,
          134.8144,
          141.2168,
          151.9848,
          138.4376,
          144.616,
          148.224,
          142.7264,
          142.9168,
          144.9888,
          141.472,
          145.1112,
          142.8976,
          140.1312,
          141.5048,
          135.5136,
          139.7712,
          139.004,
          140.124,
          138.4184,
          128.86,
          137.312,
          134.6032,
          135.3168,
          134.0984,
          124.4648,
          133.2616,
          133.4776,
          131.1328,
          131.3832,
          129.06,
          125.7832,
          120.2096,
          128.2408,
          127.4368,
          124.8384,
          127.1472,
          126.9744,
          126.28,
          124.1808,
          124.1584,
          115.1112,
          116.476,
          121.0968,
          120.492,
          116.2944,
          121.832,
          112.9424,
          116.8784,
          120.352,
          121.3312,
          119.7456,
          121.8608,
          119.596,
          119.7336,
          118.704,
          119.4936,
          119.232,
          108.5848,
          113.2216,
          118.2472,
          117.9976,
          111.2672,
          116.004,
          111.44,
          115.9128,
          116.3832,
          116.4824,
          107.568,
          115.6688,
          114.1488,
          114.568,
          116.5888,
          107.1528,
          113.8344,
          114.8576,
          112.832,
          113.1568,
          112.9424,
          110.6264,
          112.3352,
          112.524,
          111.672,
          111.5384,
          109.8776,
          111.12,
          111.3312,
          110.66,
          108.676,
          110.3544,
          109.1184,
          110.1688,
          109.1192,
          109.0728,
          110.3408,
          106.2864,
          108.2744,
          109.0752,
          108.3864,
          105.0632,
          106.2688,
          106.276
         ]
        },
        {
         "line": {
          "color": "black",
          "width": 3
         },
         "marker": {
          "line": {
           "color": "mediumvioletred",
           "width": 1
          },
          "size": 6,
          "symbol": "square-dot"
         },
         "mode": "lines+markers",
         "name": "MacFusNonProb_64mpi_16omp",
         "type": "scatter",
         "x": [
          516096000,
          540672000,
          565248000,
          589824000,
          614400000,
          638976000,
          663552000,
          688128000,
          712704000,
          737280000,
          761856000,
          786432000,
          811008000,
          835584000,
          860160000,
          884736000,
          909312000,
          933888000,
          958464000,
          983040000,
          1007616000,
          1032192000,
          1056768000,
          1081344000,
          1105920000,
          1130496000,
          1155072000,
          1179648000,
          1204224000,
          1228800000,
          1253376000,
          1277952000,
          1302528000,
          1327104000,
          1351680000,
          1376256000,
          1400832000,
          1425408000,
          1449984000,
          1474560000,
          1499136000,
          1523712000,
          1548288000,
          1572864000,
          1597440000,
          1622016000,
          1646592000,
          1671168000,
          1695744000,
          1720320000,
          1744896000,
          1769472000,
          1794048000,
          1818624000,
          1843200000,
          1867776000,
          1892352000,
          1916928000,
          1941504000,
          1966080000,
          1990656000,
          2015232000,
          2039808000,
          2064384000,
          2088960000,
          2113536000,
          2138112000,
          2162688000,
          2187264000,
          2211840000,
          2236416000,
          2260992000,
          2285568000,
          2310144000,
          2334720000,
          2359296000,
          2383872000,
          2408448000,
          2433024000,
          2457600000,
          2482176000,
          2506752000,
          2531328000,
          2555904000,
          2580480000,
          2605056000,
          2629632000,
          2654208000,
          2678784000,
          2703360000,
          2727936000,
          2752512000,
          2777088000,
          2801664000,
          2826240000,
          2850816000,
          2875392000,
          2899968000,
          2924544000,
          2949120000,
          2973696000,
          2998272000,
          3022848000,
          3047424000,
          3072000000,
          3096576000,
          3121152000,
          3145728000,
          3170304000,
          3194880000,
          3219456000,
          3244032000,
          3268608000,
          3293184000,
          3317760000,
          3342336000,
          3366912000,
          3391488000,
          3416064000,
          3440640000,
          3465216000,
          3489792000,
          3514368000,
          3538944000,
          3563520000,
          3588096000,
          3612672000,
          3637248000,
          3661824000,
          3686400000,
          3710976000,
          3735552000,
          3760128000,
          3784704000,
          3809280000,
          3833856000,
          3858432000,
          3883008000,
          3907584000,
          3932160000
         ],
         "y": [
          123.1384,
          134.6088,
          141.2288,
          141.9088,
          147.6256,
          147.1176,
          144.5272,
          143.7448,
          154.6024,
          156.2336,
          136.76,
          155.1792,
          148.3792,
          154.772,
          149.5192,
          149.9472,
          147.2592,
          148.4032,
          142.7968,
          140.5872,
          139.4376,
          157.2768,
          135.86,
          134.4576,
          115.896,
          156.4144,
          130.3408,
          143.128,
          135.0592,
          154.3744,
          163.5144,
          154.7736,
          164.12,
          157.7872,
          140.664,
          153.496,
          158.6984,
          154.5944,
          149.4792,
          157.9432,
          148.0416,
          138.3552,
          153.7904,
          129.8408,
          146.7384,
          134.0864,
          149.8616,
          150.008,
          143.2696,
          147.4784,
          149.1536,
          148.9544,
          137.992,
          132.7488,
          145.9264,
          140.1728,
          142.2256,
          144.8224,
          129.216,
          130.6768,
          135.1504,
          141.4192,
          140.1088,
          140.5608,
          136.5008,
          138.6208,
          123.8248,
          132.8488,
          138.8248,
          130.884,
          137.16,
          134.7392,
          125.2048,
          120.876,
          136.3624,
          131.3872,
          130.5344,
          133.1712,
          134.3624,
          133.8784,
          130.2488,
          129.156,
          131.0416,
          127.4544,
          129.7496,
          126.0992,
          127.2968,
          126.5792,
          129.3912,
          121.2112,
          122.56,
          127.9776,
          126.2776,
          123.912,
          127.6,
          120.4,
          127.6176,
          126.1416,
          121.9016,
          125.5624,
          121.9512,
          124.9744,
          124.3728,
          120.2104,
          123.0232,
          121.4592,
          122.4088,
          122.332,
          119.648,
          121.7144,
          117.8128,
          114.9712,
          122.012,
          121.024,
          120.4128,
          119.6808,
          120.132,
          120.1232,
          118.288,
          119.7976,
          120.0528,
          119.3864,
          117.6112,
          119.1064,
          118.0936,
          115.628,
          118.3488,
          118.5496,
          117.7864,
          117.9824,
          117.2312,
          117.3752,
          117.6424,
          116.7888,
          111.7296,
          116.36,
          116.7288,
          109.3432,
          114.1688,
          116.2216
         ]
        },
        {
         "line": {
          "color": "gold",
          "width": 3
         },
         "marker": {
          "line": {
           "color": "black",
           "width": 1
          },
          "size": 6,
          "symbol": "triangle-up"
         },
         "mode": "lines+markers",
         "name": "MacFusProb_168mpi_6omp",
         "type": "scatter",
         "x": [
          516096000,
          645120000,
          774144000,
          903168000,
          1032192000,
          1161216000,
          1290240000,
          1419264000,
          1548288000,
          1677312000,
          1806336000,
          1935360000,
          2064384000,
          2193408000,
          2322432000,
          2451456000,
          2580480000,
          2709504000,
          2838528000,
          2967552000,
          3096576000,
          3354624000,
          3483648000,
          3741696000,
          3870720000
         ],
         "y": [
          122.25968999999999,
          130.51647,
          190.80558,
          203.52213,
          200.95131,
          192.06179999999998,
          189.55293,
          181.93917,
          167.35446000000002,
          167.27991,
          150.83481,
          146.85993000000002,
          148.76463,
          138.37152,
          144.80424,
          133.12152,
          128.24763,
          137.11257,
          129.67016999999998,
          127.44521999999999,
          123.55875,
          126.99183,
          124.04867999999999,
          124.30593,
          122.57826
         ]
        },
        {
         "line": {
          "color": "dimgray",
          "width": 3
         },
         "marker": {
          "line": {
           "color": "black",
           "width": 1
          },
          "size": 6,
          "symbol": "triangle-up"
         },
         "mode": "lines+markers",
         "name": "MacFusNonProb_168mpi_6omp",
         "type": "scatter",
         "x": [
          516096000,
          645120000,
          774144000,
          903168000,
          1032192000,
          1161216000,
          1290240000,
          1419264000,
          1548288000,
          1677312000,
          1935360000,
          2064384000,
          2193408000,
          2322432000,
          2451456000,
          2580480000,
          2709504000,
          2838528000,
          2967552000,
          3096576000,
          3225600000,
          3354624000,
          3483648000,
          3612672000,
          3741696000,
          3870720000
         ],
         "y": [
          125.67387,
          125.25849,
          196.72212000000002,
          206.22651,
          204.08367,
          199.01679000000001,
          192.36651,
          185.27019,
          175.76937,
          161.98119,
          151.75524000000001,
          147.50064,
          142.02384,
          141.39678,
          133.93674,
          128.13276,
          129.22623,
          131.07318,
          128.39211,
          120.45726,
          129.81717,
          124.40925,
          125.67492,
          124.86810000000001,
          125.11611,
          123.92478
         ]
        },
        {
         "line": {
          "color": "olive",
          "width": 3
         },
         "marker": {
          "line": {
           "color": "olive",
           "width": 2
          },
          "size": 6,
          "symbol": "circle"
         },
         "mode": "lines+markers",
         "name": "MacFusProb_504mpi_2omp",
         "type": "scatter",
         "x": [
          774144000,
          1161216000,
          1548288000,
          1935360000,
          2322432000,
          2709504000,
          3096576000,
          3483648000,
          3870720000
         ],
         "y": [
          234.86211,
          233.62353,
          221.24214,
          204.40161,
          190.28079,
          178.33535999999998,
          171.46521,
          163.90206,
          157.63797
         ]
        },
        {
         "line": {
          "color": "Brown",
          "width": 3
         },
         "marker": {
          "line": {
           "color": "darkred",
           "width": 2
          },
          "size": 6,
          "symbol": "circle"
         },
         "mode": "lines+markers",
         "name": "MacFusNonProb_504mpi_2omp",
         "type": "scatter",
         "x": [
          774144000,
          1161216000,
          1548288000,
          1935360000,
          2322432000,
          2709504000,
          3096576000,
          3483648000,
          3870720000
         ],
         "y": [
          231.03549,
          234.57987,
          214.91505,
          201.93201,
          188.57601,
          178.96788,
          171.11178,
          166.06674,
          160.68905999999998
         ]
        }
       ],
       "layout": {
        "annotations": [
         {
          "align": "left",
          "arrowcolor": "#636363",
          "arrowhead": 1,
          "arrowsize": 1,
          "arrowwidth": 2,
          "ax": -20,
          "ay": -30,
          "font": {
           "color": "purple",
           "family": "Sans Serif",
           "size": 12
          },
          "showarrow": false,
          "text": "LLC Size Per Node",
          "x": "512e6",
          "y": 130,
          "yanchor": "bottom"
         }
        ],
        "shapes": [
         {
          "line": {
           "color": "green",
           "dash": "dash",
           "width": 3
          },
          "type": "line",
          "x0": 512000000,
          "x1": 512000000,
          "xref": "x",
          "y0": 0,
          "y1": 1,
          "yref": "y domain"
         }
        ],
        "template": {
         "data": {
          "bar": [
           {
            "error_x": {
             "color": "#2a3f5f"
            },
            "error_y": {
             "color": "#2a3f5f"
            },
            "marker": {
             "line": {
              "color": "#E5ECF6",
              "width": 0.5
             },
             "pattern": {
              "fillmode": "overlay",
              "size": 10,
              "solidity": 0.2
             }
            },
            "type": "bar"
           }
          ],
          "barpolar": [
           {
            "marker": {
             "line": {
              "color": "#E5ECF6",
              "width": 0.5
             },
             "pattern": {
              "fillmode": "overlay",
              "size": 10,
              "solidity": 0.2
             }
            },
            "type": "barpolar"
           }
          ],
          "carpet": [
           {
            "aaxis": {
             "endlinecolor": "#2a3f5f",
             "gridcolor": "white",
             "linecolor": "white",
             "minorgridcolor": "white",
             "startlinecolor": "#2a3f5f"
            },
            "baxis": {
             "endlinecolor": "#2a3f5f",
             "gridcolor": "white",
             "linecolor": "white",
             "minorgridcolor": "white",
             "startlinecolor": "#2a3f5f"
            },
            "type": "carpet"
           }
          ],
          "choropleth": [
           {
            "colorbar": {
             "outlinewidth": 0,
             "ticks": ""
            },
            "type": "choropleth"
           }
          ],
          "contour": [
           {
            "colorbar": {
             "outlinewidth": 0,
             "ticks": ""
            },
            "colorscale": [
             [
              0,
              "#0d0887"
             ],
             [
              0.1111111111111111,
              "#46039f"
             ],
             [
              0.2222222222222222,
              "#7201a8"
             ],
             [
              0.3333333333333333,
              "#9c179e"
             ],
             [
              0.4444444444444444,
              "#bd3786"
             ],
             [
              0.5555555555555556,
              "#d8576b"
             ],
             [
              0.6666666666666666,
              "#ed7953"
             ],
             [
              0.7777777777777778,
              "#fb9f3a"
             ],
             [
              0.8888888888888888,
              "#fdca26"
             ],
             [
              1,
              "#f0f921"
             ]
            ],
            "type": "contour"
           }
          ],
          "contourcarpet": [
           {
            "colorbar": {
             "outlinewidth": 0,
             "ticks": ""
            },
            "type": "contourcarpet"
           }
          ],
          "heatmap": [
           {
            "colorbar": {
             "outlinewidth": 0,
             "ticks": ""
            },
            "colorscale": [
             [
              0,
              "#0d0887"
             ],
             [
              0.1111111111111111,
              "#46039f"
             ],
             [
              0.2222222222222222,
              "#7201a8"
             ],
             [
              0.3333333333333333,
              "#9c179e"
             ],
             [
              0.4444444444444444,
              "#bd3786"
             ],
             [
              0.5555555555555556,
              "#d8576b"
             ],
             [
              0.6666666666666666,
              "#ed7953"
             ],
             [
              0.7777777777777778,
              "#fb9f3a"
             ],
             [
              0.8888888888888888,
              "#fdca26"
             ],
             [
              1,
              "#f0f921"
             ]
            ],
            "type": "heatmap"
           }
          ],
          "heatmapgl": [
           {
            "colorbar": {
             "outlinewidth": 0,
             "ticks": ""
            },
            "colorscale": [
             [
              0,
              "#0d0887"
             ],
             [
              0.1111111111111111,
              "#46039f"
             ],
             [
              0.2222222222222222,
              "#7201a8"
             ],
             [
              0.3333333333333333,
              "#9c179e"
             ],
             [
              0.4444444444444444,
              "#bd3786"
             ],
             [
              0.5555555555555556,
              "#d8576b"
             ],
             [
              0.6666666666666666,
              "#ed7953"
             ],
             [
              0.7777777777777778,
              "#fb9f3a"
             ],
             [
              0.8888888888888888,
              "#fdca26"
             ],
             [
              1,
              "#f0f921"
             ]
            ],
            "type": "heatmapgl"
           }
          ],
          "histogram": [
           {
            "marker": {
             "pattern": {
              "fillmode": "overlay",
              "size": 10,
              "solidity": 0.2
             }
            },
            "type": "histogram"
           }
          ],
          "histogram2d": [
           {
            "colorbar": {
             "outlinewidth": 0,
             "ticks": ""
            },
            "colorscale": [
             [
              0,
              "#0d0887"
             ],
             [
              0.1111111111111111,
              "#46039f"
             ],
             [
              0.2222222222222222,
              "#7201a8"
             ],
             [
              0.3333333333333333,
              "#9c179e"
             ],
             [
              0.4444444444444444,
              "#bd3786"
             ],
             [
              0.5555555555555556,
              "#d8576b"
             ],
             [
              0.6666666666666666,
              "#ed7953"
             ],
             [
              0.7777777777777778,
              "#fb9f3a"
             ],
             [
              0.8888888888888888,
              "#fdca26"
             ],
             [
              1,
              "#f0f921"
             ]
            ],
            "type": "histogram2d"
           }
          ],
          "histogram2dcontour": [
           {
            "colorbar": {
             "outlinewidth": 0,
             "ticks": ""
            },
            "colorscale": [
             [
              0,
              "#0d0887"
             ],
             [
              0.1111111111111111,
              "#46039f"
             ],
             [
              0.2222222222222222,
              "#7201a8"
             ],
             [
              0.3333333333333333,
              "#9c179e"
             ],
             [
              0.4444444444444444,
              "#bd3786"
             ],
             [
              0.5555555555555556,
              "#d8576b"
             ],
             [
              0.6666666666666666,
              "#ed7953"
             ],
             [
              0.7777777777777778,
              "#fb9f3a"
             ],
             [
              0.8888888888888888,
              "#fdca26"
             ],
             [
              1,
              "#f0f921"
             ]
            ],
            "type": "histogram2dcontour"
           }
          ],
          "mesh3d": [
           {
            "colorbar": {
             "outlinewidth": 0,
             "ticks": ""
            },
            "type": "mesh3d"
           }
          ],
          "parcoords": [
           {
            "line": {
             "colorbar": {
              "outlinewidth": 0,
              "ticks": ""
             }
            },
            "type": "parcoords"
           }
          ],
          "pie": [
           {
            "automargin": true,
            "type": "pie"
           }
          ],
          "scatter": [
           {
            "fillpattern": {
             "fillmode": "overlay",
             "size": 10,
             "solidity": 0.2
            },
            "type": "scatter"
           }
          ],
          "scatter3d": [
           {
            "line": {
             "colorbar": {
              "outlinewidth": 0,
              "ticks": ""
             }
            },
            "marker": {
             "colorbar": {
              "outlinewidth": 0,
              "ticks": ""
             }
            },
            "type": "scatter3d"
           }
          ],
          "scattercarpet": [
           {
            "marker": {
             "colorbar": {
              "outlinewidth": 0,
              "ticks": ""
             }
            },
            "type": "scattercarpet"
           }
          ],
          "scattergeo": [
           {
            "marker": {
             "colorbar": {
              "outlinewidth": 0,
              "ticks": ""
             }
            },
            "type": "scattergeo"
           }
          ],
          "scattergl": [
           {
            "marker": {
             "colorbar": {
              "outlinewidth": 0,
              "ticks": ""
             }
            },
            "type": "scattergl"
           }
          ],
          "scattermapbox": [
           {
            "marker": {
             "colorbar": {
              "outlinewidth": 0,
              "ticks": ""
             }
            },
            "type": "scattermapbox"
           }
          ],
          "scatterpolar": [
           {
            "marker": {
             "colorbar": {
              "outlinewidth": 0,
              "ticks": ""
             }
            },
            "type": "scatterpolar"
           }
          ],
          "scatterpolargl": [
           {
            "marker": {
             "colorbar": {
              "outlinewidth": 0,
              "ticks": ""
             }
            },
            "type": "scatterpolargl"
           }
          ],
          "scatterternary": [
           {
            "marker": {
             "colorbar": {
              "outlinewidth": 0,
              "ticks": ""
             }
            },
            "type": "scatterternary"
           }
          ],
          "surface": [
           {
            "colorbar": {
             "outlinewidth": 0,
             "ticks": ""
            },
            "colorscale": [
             [
              0,
              "#0d0887"
             ],
             [
              0.1111111111111111,
              "#46039f"
             ],
             [
              0.2222222222222222,
              "#7201a8"
             ],
             [
              0.3333333333333333,
              "#9c179e"
             ],
             [
              0.4444444444444444,
              "#bd3786"
             ],
             [
              0.5555555555555556,
              "#d8576b"
             ],
             [
              0.6666666666666666,
              "#ed7953"
             ],
             [
              0.7777777777777778,
              "#fb9f3a"
             ],
             [
              0.8888888888888888,
              "#fdca26"
             ],
             [
              1,
              "#f0f921"
             ]
            ],
            "type": "surface"
           }
          ],
          "table": [
           {
            "cells": {
             "fill": {
              "color": "#EBF0F8"
             },
             "line": {
              "color": "white"
             }
            },
            "header": {
             "fill": {
              "color": "#C8D4E3"
             },
             "line": {
              "color": "white"
             }
            },
            "type": "table"
           }
          ]
         },
         "layout": {
          "annotationdefaults": {
           "arrowcolor": "#2a3f5f",
           "arrowhead": 0,
           "arrowwidth": 1
          },
          "autotypenumbers": "strict",
          "coloraxis": {
           "colorbar": {
            "outlinewidth": 0,
            "ticks": ""
           }
          },
          "colorscale": {
           "diverging": [
            [
             0,
             "#8e0152"
            ],
            [
             0.1,
             "#c51b7d"
            ],
            [
             0.2,
             "#de77ae"
            ],
            [
             0.3,
             "#f1b6da"
            ],
            [
             0.4,
             "#fde0ef"
            ],
            [
             0.5,
             "#f7f7f7"
            ],
            [
             0.6,
             "#e6f5d0"
            ],
            [
             0.7,
             "#b8e186"
            ],
            [
             0.8,
             "#7fbc41"
            ],
            [
             0.9,
             "#4d9221"
            ],
            [
             1,
             "#276419"
            ]
           ],
           "sequential": [
            [
             0,
             "#0d0887"
            ],
            [
             0.1111111111111111,
             "#46039f"
            ],
            [
             0.2222222222222222,
             "#7201a8"
            ],
            [
             0.3333333333333333,
             "#9c179e"
            ],
            [
             0.4444444444444444,
             "#bd3786"
            ],
            [
             0.5555555555555556,
             "#d8576b"
            ],
            [
             0.6666666666666666,
             "#ed7953"
            ],
            [
             0.7777777777777778,
             "#fb9f3a"
            ],
            [
             0.8888888888888888,
             "#fdca26"
            ],
            [
             1,
             "#f0f921"
            ]
           ],
           "sequentialminus": [
            [
             0,
             "#0d0887"
            ],
            [
             0.1111111111111111,
             "#46039f"
            ],
            [
             0.2222222222222222,
             "#7201a8"
            ],
            [
             0.3333333333333333,
             "#9c179e"
            ],
            [
             0.4444444444444444,
             "#bd3786"
            ],
            [
             0.5555555555555556,
             "#d8576b"
            ],
            [
             0.6666666666666666,
             "#ed7953"
            ],
            [
             0.7777777777777778,
             "#fb9f3a"
            ],
            [
             0.8888888888888888,
             "#fdca26"
            ],
            [
             1,
             "#f0f921"
            ]
           ]
          },
          "colorway": [
           "#636efa",
           "#EF553B",
           "#00cc96",
           "#ab63fa",
           "#FFA15A",
           "#19d3f3",
           "#FF6692",
           "#B6E880",
           "#FF97FF",
           "#FECB52"
          ],
          "font": {
           "color": "#2a3f5f"
          },
          "geo": {
           "bgcolor": "white",
           "lakecolor": "white",
           "landcolor": "#E5ECF6",
           "showlakes": true,
           "showland": true,
           "subunitcolor": "white"
          },
          "hoverlabel": {
           "align": "left"
          },
          "hovermode": "closest",
          "mapbox": {
           "style": "light"
          },
          "paper_bgcolor": "white",
          "plot_bgcolor": "#E5ECF6",
          "polar": {
           "angularaxis": {
            "gridcolor": "white",
            "linecolor": "white",
            "ticks": ""
           },
           "bgcolor": "#E5ECF6",
           "radialaxis": {
            "gridcolor": "white",
            "linecolor": "white",
            "ticks": ""
           }
          },
          "scene": {
           "xaxis": {
            "backgroundcolor": "#E5ECF6",
            "gridcolor": "white",
            "gridwidth": 2,
            "linecolor": "white",
            "showbackground": true,
            "ticks": "",
            "zerolinecolor": "white"
           },
           "yaxis": {
            "backgroundcolor": "#E5ECF6",
            "gridcolor": "white",
            "gridwidth": 2,
            "linecolor": "white",
            "showbackground": true,
            "ticks": "",
            "zerolinecolor": "white"
           },
           "zaxis": {
            "backgroundcolor": "#E5ECF6",
            "gridcolor": "white",
            "gridwidth": 2,
            "linecolor": "white",
            "showbackground": true,
            "ticks": "",
            "zerolinecolor": "white"
           }
          },
          "shapedefaults": {
           "line": {
            "color": "#2a3f5f"
           }
          },
          "ternary": {
           "aaxis": {
            "gridcolor": "white",
            "linecolor": "white",
            "ticks": ""
           },
           "baxis": {
            "gridcolor": "white",
            "linecolor": "white",
            "ticks": ""
           },
           "bgcolor": "#E5ECF6",
           "caxis": {
            "gridcolor": "white",
            "linecolor": "white",
            "ticks": ""
           }
          },
          "title": {
           "x": 0.05
          },
          "xaxis": {
           "automargin": true,
           "gridcolor": "white",
           "linecolor": "white",
           "ticks": "",
           "title": {
            "standoff": 15
           },
           "zerolinecolor": "white",
           "zerolinewidth": 2
          },
          "yaxis": {
           "automargin": true,
           "gridcolor": "white",
           "linecolor": "white",
           "ticks": "",
           "title": {
            "standoff": 15
           },
           "zerolinecolor": "white",
           "zerolinewidth": 2
          }
         }
        },
        "title": {
         "text": "\"Fused-Macro (8-Nodes): probempi vs nonprobempi\" GFlops Measurement"
        },
        "xaxis": {
         "ticks": "outside",
         "title": {
          "text": "Dirc_Data_Mov"
         }
        },
        "yaxis": {
         "ticks": "outside",
         "title": {
          "text": "GFLOPs/Node"
         }
        }
       }
      },
      "text/html": [
       "<div>                            <div id=\"938f1d2f-ef5f-4074-847c-7bf8f1f49c4d\" class=\"plotly-graph-div\" style=\"height:525px; width:100%;\"></div>            <script type=\"text/javascript\">                require([\"plotly\"], function(Plotly) {                    window.PLOTLYENV=window.PLOTLYENV || {};                                    if (document.getElementById(\"938f1d2f-ef5f-4074-847c-7bf8f1f49c4d\")) {                    Plotly.newPlot(                        \"938f1d2f-ef5f-4074-847c-7bf8f1f49c4d\",                        [{\"line\":{\"color\":\"darkcyan\",\"width\":3},\"marker\":{\"line\":{\"color\":\"yellow\",\"width\":1},\"size\":9,\"symbol\":\"hexagon\"},\"mode\":\"lines+markers\",\"name\":\"MacFusProb_1024mpi_1omp\",\"x\":[1572864000.0,1966080000.0,2359296000.0,2752512000.0,3145728000.0,3932160000.0],\"y\":[212.61952,196.09216,183.328,172.69376,161.37472,155.19872],\"type\":\"scatter\"},{\"line\":{\"color\":\"magenta\",\"width\":3},\"marker\":{\"line\":{\"color\":\"yellow\",\"width\":1},\"size\":9,\"symbol\":\"hexagon\"},\"mode\":\"lines+markers\",\"name\":\"MacFusNonProb_1024mpi_1omp\",\"x\":[1572864000.0,1966080000.0,2359296000.0,2752512000.0,3145728000.0,3538944000.0,3932160000.0],\"y\":[204.43904,187.98848,176.90624,170.5088,162.6688,159.86176,156.52736],\"type\":\"scatter\"},{\"line\":{\"color\":\"royalblue\",\"width\":3},\"marker\":{\"line\":{\"color\":\"MediumPurple\",\"width\":2},\"size\":5,\"symbol\":\"diamond\"},\"mode\":\"lines+markers\",\"name\":\"MacFusProb_512mpi_2omp\",\"x\":[786432000.0,983040000.0,1179648000.0,1376256000.0,1572864000.0,1769472000.0,1966080000.0,2162688000.0,2359296000.0,2555904000.0,2752512000.0,2949120000.0,3145728000.0,3538944000.0,3735552000.0,3932160000.0],\"y\":[190.41216,235.68896,242.93248,212.32448,229.64416,218.59072,205.01312,203.36768,196.10944,189.3984,169.82016,178.72704,169.2832,168.70848,163.50848,160.71232],\"type\":\"scatter\"},{\"line\":{\"color\":\"sandybrown\",\"width\":3},\"marker\":{\"line\":{\"color\":\"MediumPurple\",\"width\":2},\"size\":5,\"symbol\":\"diamond\"},\"mode\":\"lines+markers\",\"name\":\"MacFusNonProb_512mpi_2omp\",\"x\":[786432000.0,983040000.0,1179648000.0,1376256000.0,1572864000.0,1769472000.0,1966080000.0,2162688000.0,2359296000.0,2555904000.0,2752512000.0,2949120000.0,3145728000.0,3342336000.0,3538944000.0,3735552000.0,3932160000.0],\"y\":[181.45152,176.62592,238.30144,229.84128,225.9072,211.02272,192.57856,199.60896,181.11296,184.19712,183.45792,177.9328,169.79072,173.57248,161.16416,163.34656,161.10464],\"type\":\"scatter\"},{\"line\":{\"color\":\"darkblue\",\"width\":3},\"marker\":{\"line\":{\"color\":\"tomato\",\"width\":2},\"size\":7,\"symbol\":\"circle\"},\"mode\":\"lines+markers\",\"name\":\"MacFusProb_256mpi_4omp\",\"x\":[589824000.0,688128000.0,786432000.0,884736000.0,983040000.0,1081344000.0,1179648000.0,1277952000.0,1376256000.0,1474560000.0,1572864000.0,1671168000.0,1769472000.0,1867776000.0,1966080000.0,2064384000.0,2162688000.0,2260992000.0,2359296000.0,2457600000.0,2555904000.0,2654208000.0,2752512000.0,2850816000.0,2949120000.0,3047424000.0,3145728000.0,3244032000.0,3342336000.0,3440640000.0,3538944000.0,3637248000.0,3735552000.0,3833856000.0,3932160000.0],\"y\":[176.50784,176.51008,193.37024,205.7984,224.6016,214.25312,238.7856,237.74368,223.86592,231.66464,218.14752,206.66016,209.2528,210.90528,204.87808,201.42048,198.08704,189.7264,193.19264,176.20512,186.29376,182.98656,172.504,174.59808,175.89472,174.18976,170.12928,171.3696,168.85664,164.2192,165.224,164.56256,162.78176,159.45344,160.39776],\"type\":\"scatter\"},{\"line\":{\"color\":\"cyan\",\"width\":3},\"marker\":{\"line\":{\"color\":\"Purple\",\"width\":2},\"size\":7,\"symbol\":\"circle\"},\"mode\":\"lines+markers\",\"name\":\"MacFusNonProb_256mpi_4omp\",\"x\":[589824000.0,688128000.0,786432000.0,884736000.0,983040000.0,1081344000.0,1179648000.0,1277952000.0,1376256000.0,1474560000.0,1572864000.0,1671168000.0,1769472000.0,1867776000.0,1966080000.0,2064384000.0,2162688000.0,2260992000.0,2359296000.0,2457600000.0,2555904000.0,2654208000.0,2752512000.0,2850816000.0,2949120000.0,3047424000.0,3145728000.0,3244032000.0,3342336000.0,3440640000.0,3538944000.0,3637248000.0,3735552000.0,3833856000.0,3932160000.0],\"y\":[168.99968,178.79232,189.1728,201.42912,203.16832,184.14304,181.13216,236.4384,230.02944,229.0496,221.09376,217.78528,214.32288,189.18688,200.728,202.38784,196.6288,169.53696,186.49376,183.80064,186.71168,182.62208,180.68608,166.78784,163.28352,173.92224,172.18656,173.0416,172.70432,169.31904,168.78528,167.42272,165.3216,154.73856,146.77344],\"type\":\"scatter\"},{\"line\":{\"color\":\"blue\",\"width\":3},\"marker\":{\"line\":{\"color\":\"black\",\"width\":1},\"size\":7,\"symbol\":\"star\"},\"mode\":\"lines+markers\",\"name\":\"MacFusProb_128mpi_8omp\",\"x\":[540672000.0,589824000.0,638976000.0,688128000.0,737280000.0,786432000.0,835584000.0,884736000.0,933888000.0,983040000.0,1032192000.0,1081344000.0,1130496000.0,1179648000.0,1228800000.0,1277952000.0,1327104000.0,1376256000.0,1425408000.0,1474560000.0,1523712000.0,1572864000.0,1622016000.0,1671168000.0,1720320000.0,1769472000.0,1818624000.0,1867776000.0,1916928000.0,1966080000.0,2015232000.0,2064384000.0,2113536000.0,2162688000.0,2211840000.0,2260992000.0,2310144000.0,2359296000.0,2408448000.0,2457600000.0,2506752000.0,2555904000.0,2605056000.0,2654208000.0,2703360000.0,2752512000.0,2801664000.0,2850816000.0,2899968000.0,2949120000.0,2998272000.0,3047424000.0,3096576000.0,3145728000.0,3194880000.0,3244032000.0,3293184000.0,3342336000.0,3391488000.0,3440640000.0,3489792000.0,3538944000.0,3588096000.0,3637248000.0,3686400000.0,3735552000.0,3784704000.0,3833856000.0,3883008000.0,3932160000.0],\"y\":[168.7872,171.7104,177.8496,188.7344,201.168,202.464,193.7072,214.6416,207.3504,216.2192,220.0544,217.8992,198.8128,195.2896,191.4688,169.7584,200.1392,218.7072,198.184,209.9008,207.2304,201.24,205.6608,206.384,178.5216,198.904,195.9552,188.1904,189.5328,188.112,188.5696,185.8032,171.096,183.0736,180.4624,177.72,174.7776,175.176,161.5248,174.192,156.62352,170.4224,169.9392,166.928,168.1712,159.70304,164.0464,164.0512,162.8256,162.3344,150.39008,150.48144,145.84496,150.48048,156.11136,158.23872,158.43072,157.412,155.54608,155.13632,154.35632,153.41888,148.6296,150.4816,151.2768,146.14016,151.23904,150.73248,151.16528,146.96576],\"type\":\"scatter\"},{\"line\":{\"color\":\"red\",\"width\":3},\"marker\":{\"line\":{\"color\":\"black\",\"width\":1},\"size\":7,\"symbol\":\"star\"},\"mode\":\"lines+markers\",\"name\":\"MacFusNonProb_128mpi_8omp\",\"x\":[540672000.0,589824000.0,638976000.0,688128000.0,737280000.0,786432000.0,835584000.0,884736000.0,933888000.0,983040000.0,1032192000.0,1081344000.0,1130496000.0,1179648000.0,1228800000.0,1277952000.0,1327104000.0,1376256000.0,1425408000.0,1474560000.0,1523712000.0,1572864000.0,1622016000.0,1671168000.0,1720320000.0,1769472000.0,1818624000.0,1867776000.0,1916928000.0,1966080000.0,2015232000.0,2064384000.0,2113536000.0,2162688000.0,2211840000.0,2260992000.0,2310144000.0,2359296000.0,2408448000.0,2457600000.0,2506752000.0,2555904000.0,2605056000.0,2654208000.0,2703360000.0,2752512000.0,2801664000.0,2899968000.0,2949120000.0,2998272000.0,3047424000.0,3096576000.0,3145728000.0,3194880000.0,3244032000.0,3293184000.0,3342336000.0,3391488000.0,3440640000.0,3489792000.0,3538944000.0,3588096000.0,3637248000.0,3686400000.0,3735552000.0,3833856000.0,3883008000.0,3932160000.0],\"y\":[146.13056,164.9216,154.6736,169.2608,175.4208,187.296,191.96,194.2992,197.976,190.9216,191.0464,198.8272,192.4656,182.2496,153.17776,172.7744,220.2848,214.096,216.3344,198.4976,208.728,208.3872,201.4352,205.8352,202.3872,178.6,201.5168,197.576,194.8384,190.3008,192.7616,190.8656,189.3744,171.2032,183.5856,179.0496,175.1472,181.6032,175.5536,179.4464,175.7728,153.55104,165.5792,172.632,167.9568,172.3472,151.30784,157.752,156.00048,154.87648,153.16304,164.2704,165.216,162.0736,162.2752,150.76944,160.7696,159.86688,156.95104,152.09504,149.32,157.1392,156.60688,149.80864,154.81312,154.04208,153.66512,152.61568],\"type\":\"scatter\"},{\"line\":{\"color\":\"chartreuse\",\"width\":3},\"marker\":{\"line\":{\"color\":\"mediumvioletred\",\"width\":1},\"size\":6,\"symbol\":\"square-dot\"},\"mode\":\"lines+markers\",\"name\":\"MacFusProb_64mpi_16omp\",\"x\":[516096000.0,540672000.0,565248000.0,589824000.0,614400000.0,638976000.0,663552000.0,688128000.0,712704000.0,737280000.0,761856000.0,786432000.0,811008000.0,835584000.0,860160000.0,884736000.0,909312000.0,933888000.0,958464000.0,983040000.0,1007616000.0,1032192000.0,1056768000.0,1081344000.0,1105920000.0,1130496000.0,1155072000.0,1179648000.0,1204224000.0,1228800000.0,1253376000.0,1277952000.0,1302528000.0,1327104000.0,1351680000.0,1376256000.0,1400832000.0,1425408000.0,1449984000.0,1474560000.0,1499136000.0,1523712000.0,1548288000.0,1572864000.0,1597440000.0,1622016000.0,1646592000.0,1671168000.0,1695744000.0,1720320000.0,1744896000.0,1769472000.0,1794048000.0,1818624000.0,1843200000.0,1867776000.0,1892352000.0,1916928000.0,1941504000.0,1966080000.0,1990656000.0,2015232000.0,2039808000.0,2064384000.0,2088960000.0,2113536000.0,2138112000.0,2162688000.0,2187264000.0,2211840000.0,2236416000.0,2260992000.0,2285568000.0,2310144000.0,2334720000.0,2359296000.0,2383872000.0,2408448000.0,2433024000.0,2457600000.0,2482176000.0,2506752000.0,2531328000.0,2555904000.0,2580480000.0,2605056000.0,2629632000.0,2654208000.0,2678784000.0,2703360000.0,2727936000.0,2752512000.0,2777088000.0,2801664000.0,2826240000.0,2850816000.0,2875392000.0,2899968000.0,2924544000.0,2949120000.0,2973696000.0,2998272000.0,3022848000.0,3047424000.0,3072000000.0,3096576000.0,3121152000.0,3145728000.0,3170304000.0,3194880000.0,3219456000.0,3244032000.0,3293184000.0,3317760000.0,3342336000.0,3366912000.0,3391488000.0,3416064000.0,3440640000.0,3465216000.0,3489792000.0,3514368000.0,3563520000.0,3588096000.0,3612672000.0,3637248000.0,3661824000.0,3686400000.0,3735552000.0,3760128000.0,3784704000.0,3809280000.0,3833856000.0,3858432000.0,3883008000.0,3907584000.0,3932160000.0],\"y\":[136.8672,147.564,145.9544,157.6088,153.9864,163.4304,141.1448,169.8928,142.2016,166.7328,166.4216,173.8928,154.488,166.996,162.2544,163.1448,140.2488,152.6936,139.6256,161.864,129.9184,144.1624,136.9864,141.8048,131.0136,126.3408,165.8256,132.8144,141.5984,162.604,144.7024,156.5,152.0264,149.0904,153.5904,148.5656,134.8144,141.2168,151.9848,138.4376,144.616,148.224,142.7264,142.9168,144.9888,141.472,145.1112,142.8976,140.1312,141.5048,135.5136,139.7712,139.004,140.124,138.4184,128.86,137.312,134.6032,135.3168,134.0984,124.4648,133.2616,133.4776,131.1328,131.3832,129.06,125.7832,120.2096,128.2408,127.4368,124.8384,127.1472,126.9744,126.28,124.1808,124.1584,115.1112,116.476,121.0968,120.492,116.2944,121.832,112.9424,116.8784,120.352,121.3312,119.7456,121.8608,119.596,119.7336,118.704,119.4936,119.232,108.5848,113.2216,118.2472,117.9976,111.2672,116.004,111.44,115.9128,116.3832,116.4824,107.568,115.6688,114.1488,114.568,116.5888,107.1528,113.8344,114.8576,112.832,113.1568,112.9424,110.6264,112.3352,112.524,111.672,111.5384,109.8776,111.12,111.3312,110.66,108.676,110.3544,109.1184,110.1688,109.1192,109.0728,110.3408,106.2864,108.2744,109.0752,108.3864,105.0632,106.2688,106.276],\"type\":\"scatter\"},{\"line\":{\"color\":\"black\",\"width\":3},\"marker\":{\"line\":{\"color\":\"mediumvioletred\",\"width\":1},\"size\":6,\"symbol\":\"square-dot\"},\"mode\":\"lines+markers\",\"name\":\"MacFusNonProb_64mpi_16omp\",\"x\":[516096000.0,540672000.0,565248000.0,589824000.0,614400000.0,638976000.0,663552000.0,688128000.0,712704000.0,737280000.0,761856000.0,786432000.0,811008000.0,835584000.0,860160000.0,884736000.0,909312000.0,933888000.0,958464000.0,983040000.0,1007616000.0,1032192000.0,1056768000.0,1081344000.0,1105920000.0,1130496000.0,1155072000.0,1179648000.0,1204224000.0,1228800000.0,1253376000.0,1277952000.0,1302528000.0,1327104000.0,1351680000.0,1376256000.0,1400832000.0,1425408000.0,1449984000.0,1474560000.0,1499136000.0,1523712000.0,1548288000.0,1572864000.0,1597440000.0,1622016000.0,1646592000.0,1671168000.0,1695744000.0,1720320000.0,1744896000.0,1769472000.0,1794048000.0,1818624000.0,1843200000.0,1867776000.0,1892352000.0,1916928000.0,1941504000.0,1966080000.0,1990656000.0,2015232000.0,2039808000.0,2064384000.0,2088960000.0,2113536000.0,2138112000.0,2162688000.0,2187264000.0,2211840000.0,2236416000.0,2260992000.0,2285568000.0,2310144000.0,2334720000.0,2359296000.0,2383872000.0,2408448000.0,2433024000.0,2457600000.0,2482176000.0,2506752000.0,2531328000.0,2555904000.0,2580480000.0,2605056000.0,2629632000.0,2654208000.0,2678784000.0,2703360000.0,2727936000.0,2752512000.0,2777088000.0,2801664000.0,2826240000.0,2850816000.0,2875392000.0,2899968000.0,2924544000.0,2949120000.0,2973696000.0,2998272000.0,3022848000.0,3047424000.0,3072000000.0,3096576000.0,3121152000.0,3145728000.0,3170304000.0,3194880000.0,3219456000.0,3244032000.0,3268608000.0,3293184000.0,3317760000.0,3342336000.0,3366912000.0,3391488000.0,3416064000.0,3440640000.0,3465216000.0,3489792000.0,3514368000.0,3538944000.0,3563520000.0,3588096000.0,3612672000.0,3637248000.0,3661824000.0,3686400000.0,3710976000.0,3735552000.0,3760128000.0,3784704000.0,3809280000.0,3833856000.0,3858432000.0,3883008000.0,3907584000.0,3932160000.0],\"y\":[123.1384,134.6088,141.2288,141.9088,147.6256,147.1176,144.5272,143.7448,154.6024,156.2336,136.76,155.1792,148.3792,154.772,149.5192,149.9472,147.2592,148.4032,142.7968,140.5872,139.4376,157.2768,135.86,134.4576,115.896,156.4144,130.3408,143.128,135.0592,154.3744,163.5144,154.7736,164.12,157.7872,140.664,153.496,158.6984,154.5944,149.4792,157.9432,148.0416,138.3552,153.7904,129.8408,146.7384,134.0864,149.8616,150.008,143.2696,147.4784,149.1536,148.9544,137.992,132.7488,145.9264,140.1728,142.2256,144.8224,129.216,130.6768,135.1504,141.4192,140.1088,140.5608,136.5008,138.6208,123.8248,132.8488,138.8248,130.884,137.16,134.7392,125.2048,120.876,136.3624,131.3872,130.5344,133.1712,134.3624,133.8784,130.2488,129.156,131.0416,127.4544,129.7496,126.0992,127.2968,126.5792,129.3912,121.2112,122.56,127.9776,126.2776,123.912,127.6,120.4,127.6176,126.1416,121.9016,125.5624,121.9512,124.9744,124.3728,120.2104,123.0232,121.4592,122.4088,122.332,119.648,121.7144,117.8128,114.9712,122.012,121.024,120.4128,119.6808,120.132,120.1232,118.288,119.7976,120.0528,119.3864,117.6112,119.1064,118.0936,115.628,118.3488,118.5496,117.7864,117.9824,117.2312,117.3752,117.6424,116.7888,111.7296,116.36,116.7288,109.3432,114.1688,116.2216],\"type\":\"scatter\"},{\"line\":{\"color\":\"gold\",\"width\":3},\"marker\":{\"line\":{\"color\":\"black\",\"width\":1},\"size\":6,\"symbol\":\"triangle-up\"},\"mode\":\"lines+markers\",\"name\":\"MacFusProb_168mpi_6omp\",\"x\":[516096000.0,645120000.0,774144000.0,903168000.0,1032192000.0,1161216000.0,1290240000.0,1419264000.0,1548288000.0,1677312000.0,1806336000.0,1935360000.0,2064384000.0,2193408000.0,2322432000.0,2451456000.0,2580480000.0,2709504000.0,2838528000.0,2967552000.0,3096576000.0,3354624000.0,3483648000.0,3741696000.0,3870720000.0],\"y\":[122.25968999999999,130.51647,190.80558,203.52213,200.95131,192.06179999999998,189.55293,181.93917,167.35446000000002,167.27991,150.83481,146.85993000000002,148.76463,138.37152,144.80424,133.12152,128.24763,137.11257,129.67016999999998,127.44521999999999,123.55875,126.99183,124.04867999999999,124.30593,122.57826],\"type\":\"scatter\"},{\"line\":{\"color\":\"dimgray\",\"width\":3},\"marker\":{\"line\":{\"color\":\"black\",\"width\":1},\"size\":6,\"symbol\":\"triangle-up\"},\"mode\":\"lines+markers\",\"name\":\"MacFusNonProb_168mpi_6omp\",\"x\":[516096000.0,645120000.0,774144000.0,903168000.0,1032192000.0,1161216000.0,1290240000.0,1419264000.0,1548288000.0,1677312000.0,1935360000.0,2064384000.0,2193408000.0,2322432000.0,2451456000.0,2580480000.0,2709504000.0,2838528000.0,2967552000.0,3096576000.0,3225600000.0,3354624000.0,3483648000.0,3612672000.0,3741696000.0,3870720000.0],\"y\":[125.67387,125.25849,196.72212000000002,206.22651,204.08367,199.01679000000001,192.36651,185.27019,175.76937,161.98119,151.75524000000001,147.50064,142.02384,141.39678,133.93674,128.13276,129.22623,131.07318,128.39211,120.45726,129.81717,124.40925,125.67492,124.86810000000001,125.11611,123.92478],\"type\":\"scatter\"},{\"line\":{\"color\":\"olive\",\"width\":3},\"marker\":{\"line\":{\"color\":\"olive\",\"width\":2},\"size\":6,\"symbol\":\"circle\"},\"mode\":\"lines+markers\",\"name\":\"MacFusProb_504mpi_2omp\",\"x\":[774144000.0,1161216000.0,1548288000.0,1935360000.0,2322432000.0,2709504000.0,3096576000.0,3483648000.0,3870720000.0],\"y\":[234.86211,233.62353,221.24214,204.40161,190.28079,178.33535999999998,171.46521,163.90206,157.63797],\"type\":\"scatter\"},{\"line\":{\"color\":\"Brown\",\"width\":3},\"marker\":{\"line\":{\"color\":\"darkred\",\"width\":2},\"size\":6,\"symbol\":\"circle\"},\"mode\":\"lines+markers\",\"name\":\"MacFusNonProb_504mpi_2omp\",\"x\":[774144000.0,1161216000.0,1548288000.0,1935360000.0,2322432000.0,2709504000.0,3096576000.0,3483648000.0,3870720000.0],\"y\":[231.03549,234.57987,214.91505,201.93201,188.57601,178.96788,171.11178,166.06674,160.68905999999998],\"type\":\"scatter\"}],                        {\"template\":{\"data\":{\"histogram2dcontour\":[{\"type\":\"histogram2dcontour\",\"colorbar\":{\"outlinewidth\":0,\"ticks\":\"\"},\"colorscale\":[[0.0,\"#0d0887\"],[0.1111111111111111,\"#46039f\"],[0.2222222222222222,\"#7201a8\"],[0.3333333333333333,\"#9c179e\"],[0.4444444444444444,\"#bd3786\"],[0.5555555555555556,\"#d8576b\"],[0.6666666666666666,\"#ed7953\"],[0.7777777777777778,\"#fb9f3a\"],[0.8888888888888888,\"#fdca26\"],[1.0,\"#f0f921\"]]}],\"choropleth\":[{\"type\":\"choropleth\",\"colorbar\":{\"outlinewidth\":0,\"ticks\":\"\"}}],\"histogram2d\":[{\"type\":\"histogram2d\",\"colorbar\":{\"outlinewidth\":0,\"ticks\":\"\"},\"colorscale\":[[0.0,\"#0d0887\"],[0.1111111111111111,\"#46039f\"],[0.2222222222222222,\"#7201a8\"],[0.3333333333333333,\"#9c179e\"],[0.4444444444444444,\"#bd3786\"],[0.5555555555555556,\"#d8576b\"],[0.6666666666666666,\"#ed7953\"],[0.7777777777777778,\"#fb9f3a\"],[0.8888888888888888,\"#fdca26\"],[1.0,\"#f0f921\"]]}],\"heatmap\":[{\"type\":\"heatmap\",\"colorbar\":{\"outlinewidth\":0,\"ticks\":\"\"},\"colorscale\":[[0.0,\"#0d0887\"],[0.1111111111111111,\"#46039f\"],[0.2222222222222222,\"#7201a8\"],[0.3333333333333333,\"#9c179e\"],[0.4444444444444444,\"#bd3786\"],[0.5555555555555556,\"#d8576b\"],[0.6666666666666666,\"#ed7953\"],[0.7777777777777778,\"#fb9f3a\"],[0.8888888888888888,\"#fdca26\"],[1.0,\"#f0f921\"]]}],\"heatmapgl\":[{\"type\":\"heatmapgl\",\"colorbar\":{\"outlinewidth\":0,\"ticks\":\"\"},\"colorscale\":[[0.0,\"#0d0887\"],[0.1111111111111111,\"#46039f\"],[0.2222222222222222,\"#7201a8\"],[0.3333333333333333,\"#9c179e\"],[0.4444444444444444,\"#bd3786\"],[0.5555555555555556,\"#d8576b\"],[0.6666666666666666,\"#ed7953\"],[0.7777777777777778,\"#fb9f3a\"],[0.8888888888888888,\"#fdca26\"],[1.0,\"#f0f921\"]]}],\"contourcarpet\":[{\"type\":\"contourcarpet\",\"colorbar\":{\"outlinewidth\":0,\"ticks\":\"\"}}],\"contour\":[{\"type\":\"contour\",\"colorbar\":{\"outlinewidth\":0,\"ticks\":\"\"},\"colorscale\":[[0.0,\"#0d0887\"],[0.1111111111111111,\"#46039f\"],[0.2222222222222222,\"#7201a8\"],[0.3333333333333333,\"#9c179e\"],[0.4444444444444444,\"#bd3786\"],[0.5555555555555556,\"#d8576b\"],[0.6666666666666666,\"#ed7953\"],[0.7777777777777778,\"#fb9f3a\"],[0.8888888888888888,\"#fdca26\"],[1.0,\"#f0f921\"]]}],\"surface\":[{\"type\":\"surface\",\"colorbar\":{\"outlinewidth\":0,\"ticks\":\"\"},\"colorscale\":[[0.0,\"#0d0887\"],[0.1111111111111111,\"#46039f\"],[0.2222222222222222,\"#7201a8\"],[0.3333333333333333,\"#9c179e\"],[0.4444444444444444,\"#bd3786\"],[0.5555555555555556,\"#d8576b\"],[0.6666666666666666,\"#ed7953\"],[0.7777777777777778,\"#fb9f3a\"],[0.8888888888888888,\"#fdca26\"],[1.0,\"#f0f921\"]]}],\"mesh3d\":[{\"type\":\"mesh3d\",\"colorbar\":{\"outlinewidth\":0,\"ticks\":\"\"}}],\"scatter\":[{\"fillpattern\":{\"fillmode\":\"overlay\",\"size\":10,\"solidity\":0.2},\"type\":\"scatter\"}],\"parcoords\":[{\"type\":\"parcoords\",\"line\":{\"colorbar\":{\"outlinewidth\":0,\"ticks\":\"\"}}}],\"scatterpolargl\":[{\"type\":\"scatterpolargl\",\"marker\":{\"colorbar\":{\"outlinewidth\":0,\"ticks\":\"\"}}}],\"bar\":[{\"error_x\":{\"color\":\"#2a3f5f\"},\"error_y\":{\"color\":\"#2a3f5f\"},\"marker\":{\"line\":{\"color\":\"#E5ECF6\",\"width\":0.5},\"pattern\":{\"fillmode\":\"overlay\",\"size\":10,\"solidity\":0.2}},\"type\":\"bar\"}],\"scattergeo\":[{\"type\":\"scattergeo\",\"marker\":{\"colorbar\":{\"outlinewidth\":0,\"ticks\":\"\"}}}],\"scatterpolar\":[{\"type\":\"scatterpolar\",\"marker\":{\"colorbar\":{\"outlinewidth\":0,\"ticks\":\"\"}}}],\"histogram\":[{\"marker\":{\"pattern\":{\"fillmode\":\"overlay\",\"size\":10,\"solidity\":0.2}},\"type\":\"histogram\"}],\"scattergl\":[{\"type\":\"scattergl\",\"marker\":{\"colorbar\":{\"outlinewidth\":0,\"ticks\":\"\"}}}],\"scatter3d\":[{\"type\":\"scatter3d\",\"line\":{\"colorbar\":{\"outlinewidth\":0,\"ticks\":\"\"}},\"marker\":{\"colorbar\":{\"outlinewidth\":0,\"ticks\":\"\"}}}],\"scattermapbox\":[{\"type\":\"scattermapbox\",\"marker\":{\"colorbar\":{\"outlinewidth\":0,\"ticks\":\"\"}}}],\"scatterternary\":[{\"type\":\"scatterternary\",\"marker\":{\"colorbar\":{\"outlinewidth\":0,\"ticks\":\"\"}}}],\"scattercarpet\":[{\"type\":\"scattercarpet\",\"marker\":{\"colorbar\":{\"outlinewidth\":0,\"ticks\":\"\"}}}],\"carpet\":[{\"aaxis\":{\"endlinecolor\":\"#2a3f5f\",\"gridcolor\":\"white\",\"linecolor\":\"white\",\"minorgridcolor\":\"white\",\"startlinecolor\":\"#2a3f5f\"},\"baxis\":{\"endlinecolor\":\"#2a3f5f\",\"gridcolor\":\"white\",\"linecolor\":\"white\",\"minorgridcolor\":\"white\",\"startlinecolor\":\"#2a3f5f\"},\"type\":\"carpet\"}],\"table\":[{\"cells\":{\"fill\":{\"color\":\"#EBF0F8\"},\"line\":{\"color\":\"white\"}},\"header\":{\"fill\":{\"color\":\"#C8D4E3\"},\"line\":{\"color\":\"white\"}},\"type\":\"table\"}],\"barpolar\":[{\"marker\":{\"line\":{\"color\":\"#E5ECF6\",\"width\":0.5},\"pattern\":{\"fillmode\":\"overlay\",\"size\":10,\"solidity\":0.2}},\"type\":\"barpolar\"}],\"pie\":[{\"automargin\":true,\"type\":\"pie\"}]},\"layout\":{\"autotypenumbers\":\"strict\",\"colorway\":[\"#636efa\",\"#EF553B\",\"#00cc96\",\"#ab63fa\",\"#FFA15A\",\"#19d3f3\",\"#FF6692\",\"#B6E880\",\"#FF97FF\",\"#FECB52\"],\"font\":{\"color\":\"#2a3f5f\"},\"hovermode\":\"closest\",\"hoverlabel\":{\"align\":\"left\"},\"paper_bgcolor\":\"white\",\"plot_bgcolor\":\"#E5ECF6\",\"polar\":{\"bgcolor\":\"#E5ECF6\",\"angularaxis\":{\"gridcolor\":\"white\",\"linecolor\":\"white\",\"ticks\":\"\"},\"radialaxis\":{\"gridcolor\":\"white\",\"linecolor\":\"white\",\"ticks\":\"\"}},\"ternary\":{\"bgcolor\":\"#E5ECF6\",\"aaxis\":{\"gridcolor\":\"white\",\"linecolor\":\"white\",\"ticks\":\"\"},\"baxis\":{\"gridcolor\":\"white\",\"linecolor\":\"white\",\"ticks\":\"\"},\"caxis\":{\"gridcolor\":\"white\",\"linecolor\":\"white\",\"ticks\":\"\"}},\"coloraxis\":{\"colorbar\":{\"outlinewidth\":0,\"ticks\":\"\"}},\"colorscale\":{\"sequential\":[[0.0,\"#0d0887\"],[0.1111111111111111,\"#46039f\"],[0.2222222222222222,\"#7201a8\"],[0.3333333333333333,\"#9c179e\"],[0.4444444444444444,\"#bd3786\"],[0.5555555555555556,\"#d8576b\"],[0.6666666666666666,\"#ed7953\"],[0.7777777777777778,\"#fb9f3a\"],[0.8888888888888888,\"#fdca26\"],[1.0,\"#f0f921\"]],\"sequentialminus\":[[0.0,\"#0d0887\"],[0.1111111111111111,\"#46039f\"],[0.2222222222222222,\"#7201a8\"],[0.3333333333333333,\"#9c179e\"],[0.4444444444444444,\"#bd3786\"],[0.5555555555555556,\"#d8576b\"],[0.6666666666666666,\"#ed7953\"],[0.7777777777777778,\"#fb9f3a\"],[0.8888888888888888,\"#fdca26\"],[1.0,\"#f0f921\"]],\"diverging\":[[0,\"#8e0152\"],[0.1,\"#c51b7d\"],[0.2,\"#de77ae\"],[0.3,\"#f1b6da\"],[0.4,\"#fde0ef\"],[0.5,\"#f7f7f7\"],[0.6,\"#e6f5d0\"],[0.7,\"#b8e186\"],[0.8,\"#7fbc41\"],[0.9,\"#4d9221\"],[1,\"#276419\"]]},\"xaxis\":{\"gridcolor\":\"white\",\"linecolor\":\"white\",\"ticks\":\"\",\"title\":{\"standoff\":15},\"zerolinecolor\":\"white\",\"automargin\":true,\"zerolinewidth\":2},\"yaxis\":{\"gridcolor\":\"white\",\"linecolor\":\"white\",\"ticks\":\"\",\"title\":{\"standoff\":15},\"zerolinecolor\":\"white\",\"automargin\":true,\"zerolinewidth\":2},\"scene\":{\"xaxis\":{\"backgroundcolor\":\"#E5ECF6\",\"gridcolor\":\"white\",\"linecolor\":\"white\",\"showbackground\":true,\"ticks\":\"\",\"zerolinecolor\":\"white\",\"gridwidth\":2},\"yaxis\":{\"backgroundcolor\":\"#E5ECF6\",\"gridcolor\":\"white\",\"linecolor\":\"white\",\"showbackground\":true,\"ticks\":\"\",\"zerolinecolor\":\"white\",\"gridwidth\":2},\"zaxis\":{\"backgroundcolor\":\"#E5ECF6\",\"gridcolor\":\"white\",\"linecolor\":\"white\",\"showbackground\":true,\"ticks\":\"\",\"zerolinecolor\":\"white\",\"gridwidth\":2}},\"shapedefaults\":{\"line\":{\"color\":\"#2a3f5f\"}},\"annotationdefaults\":{\"arrowcolor\":\"#2a3f5f\",\"arrowhead\":0,\"arrowwidth\":1},\"geo\":{\"bgcolor\":\"white\",\"landcolor\":\"#E5ECF6\",\"subunitcolor\":\"white\",\"showland\":true,\"showlakes\":true,\"lakecolor\":\"white\"},\"title\":{\"x\":0.05},\"mapbox\":{\"style\":\"light\"}}},\"shapes\":[{\"line\":{\"color\":\"green\",\"dash\":\"dash\",\"width\":3},\"type\":\"line\",\"x0\":512000000.0,\"x1\":512000000.0,\"xref\":\"x\",\"y0\":0,\"y1\":1,\"yref\":\"y domain\"}],\"annotations\":[{\"align\":\"left\",\"arrowcolor\":\"#636363\",\"arrowhead\":1,\"arrowsize\":1,\"arrowwidth\":2,\"ax\":-20,\"ay\":-30,\"font\":{\"color\":\"purple\",\"family\":\"Sans Serif\",\"size\":12},\"showarrow\":false,\"text\":\"LLC Size Per Node\",\"x\":\"512e6\",\"y\":130,\"yanchor\":\"bottom\"}],\"xaxis\":{\"title\":{\"text\":\"Dirc_Data_Mov\"},\"ticks\":\"outside\"},\"yaxis\":{\"title\":{\"text\":\"GFLOPs/Node\"},\"ticks\":\"outside\"},\"title\":{\"text\":\"\\\"Fused-Macro (8-Nodes): probempi vs nonprobempi\\\" GFlops Measurement\"}},                        {\"responsive\": true}                    ).then(function(){\n",
       "                            \n",
       "var gd = document.getElementById('938f1d2f-ef5f-4074-847c-7bf8f1f49c4d');\n",
       "var x = new MutationObserver(function (mutations, observer) {{\n",
       "        var display = window.getComputedStyle(gd).display;\n",
       "        if (!display || display === 'none') {{\n",
       "            console.log([gd, 'removed!']);\n",
       "            Plotly.purge(gd);\n",
       "            observer.disconnect();\n",
       "        }}\n",
       "}});\n",
       "\n",
       "// Listen for the removal of the full notebook cells\n",
       "var notebookContainer = gd.closest('#notebook-container');\n",
       "if (notebookContainer) {{\n",
       "    x.observe(notebookContainer, {childList: true});\n",
       "}}\n",
       "\n",
       "// Listen for the clearing of the current output cell\n",
       "var outputEl = gd.closest('.output');\n",
       "if (outputEl) {{\n",
       "    x.observe(outputEl, {childList: true});\n",
       "}}\n",
       "\n",
       "                        })                };                });            </script>        </div>"
      ]
     },
     "metadata": {},
     "output_type": "display_data"
    }
   ],
   "source": [
    "fig = go.Figure() \n",
    "\n",
    "# Case 1\n",
    "fig.add_trace(go.Scatter(x=(dfn8MacFusProb_1024mpi_1omp.Dirc_Data_Mov*(dfn8MacFusProb_1024mpi_1omp.MPI_size/8)), \n",
    "                         y=(dfn8MacFusProb_1024mpi_1omp.GFLOPS*(dfn8MacFusProb_1024mpi_1omp.MPI_size/8)), \n",
    "                         mode='lines+markers', \n",
    "                         name='MacFusProb_1024mpi_1omp',\n",
    "                         line=dict(color='darkcyan',width=3),\n",
    "                         marker=dict(symbol='hexagon',size=9, line=dict(color='yellow',width=1))))\n",
    "\n",
    "fig.add_trace(go.Scatter(x=(dfn8MacFusNonProb_1024mpi_1omp.Dirc_Data_Mov*(dfn8MacFusNonProb_1024mpi_1omp.MPI_size/8)), \n",
    "                         y=(dfn8MacFusNonProb_1024mpi_1omp.GFLOPS*(dfn8MacFusNonProb_1024mpi_1omp.MPI_size/8)), \n",
    "                         mode='lines+markers', \n",
    "                         name='MacFusNonProb_1024mpi_1omp',\n",
    "                         line=dict(color='magenta',width=3),\n",
    "                         marker=dict(symbol='hexagon',size=9, line=dict(color='yellow',width=1))))\n",
    "\n",
    "\n",
    "# Case 2\n",
    "fig.add_trace(go.Scatter(x=(dfn8MacFusProb_512mpi_2omp.Dirc_Data_Mov*(dfn8MacFusProb_512mpi_2omp.MPI_size/8)), \n",
    "                         y=(dfn8MacFusProb_512mpi_2omp.GFLOPS*(dfn8MacFusProb_512mpi_2omp.MPI_size/8)), \n",
    "                         mode='lines+markers', \n",
    "                         name='MacFusProb_512mpi_2omp',\n",
    "                         line=dict(color='royalblue',width=3),\n",
    "                         marker=dict(symbol='diamond',size=5,line=dict(color='MediumPurple',width=2))))\n",
    "\n",
    "fig.add_trace(go.Scatter(x=(dfn8MacFusNonProb_512mpi_2omp.Dirc_Data_Mov*(dfn8MacFusNonProb_512mpi_2omp.MPI_size/8)), \n",
    "                         y=(dfn8MacFusNonProb_512mpi_2omp.GFLOPS*(dfn8MacFusNonProb_512mpi_2omp.MPI_size/8)), \n",
    "                         mode='lines+markers', \n",
    "                         name='MacFusNonProb_512mpi_2omp',\n",
    "                         line=dict(color='sandybrown',width=3),\n",
    "                         marker=dict(symbol='diamond',size=5,line=dict(color='MediumPurple',width=2))))\n",
    "\n",
    "\n",
    "# Case 3\n",
    "fig.add_trace(go.Scatter(x=(dfn8MacFusProb_256mpi_4omp.Dirc_Data_Mov*(dfn8MacFusProb_256mpi_4omp.MPI_size/8)), \n",
    "                         y=(dfn8MacFusProb_256mpi_4omp.GFLOPS*(dfn8MacFusProb_256mpi_4omp.MPI_size/8)), \n",
    "                         mode='lines+markers', \n",
    "                         name='MacFusProb_256mpi_4omp',\n",
    "                         line=dict(color='darkblue',width=3),\n",
    "                         marker=dict(symbol='circle',size=7, line=dict(color='tomato',width=2))))\n",
    "\n",
    "fig.add_trace(go.Scatter(x=(dfn8MacFusNonProb_256mpi_4omp.Dirc_Data_Mov*(dfn8MacFusNonProb_256mpi_4omp.MPI_size/8)), \n",
    "                         y=(dfn8MacFusNonProb_256mpi_4omp.GFLOPS*(dfn8MacFusNonProb_256mpi_4omp.MPI_size/8)), \n",
    "                         mode='lines+markers', \n",
    "                         name='MacFusNonProb_256mpi_4omp',\n",
    "                         line=dict(color='cyan',width=3),\n",
    "                         marker=dict(symbol='circle',size=7,line=dict(color='Purple',width=2))))\n",
    "\n",
    "\n",
    "\n",
    "# Case 4\n",
    "fig.add_trace(go.Scatter(x=(dfn8MacFusProb_128mpi_8omp.Dirc_Data_Mov*(dfn8MacFusProb_128mpi_8omp.MPI_size/8)), \n",
    "                         y=(dfn8MacFusProb_128mpi_8omp.GFLOPS*(dfn8MacFusProb_128mpi_8omp.MPI_size/8)), \n",
    "                         mode='lines+markers', \n",
    "                         name='MacFusProb_128mpi_8omp',\n",
    "                         line=dict(color='blue',width=3),\n",
    "                         marker=dict(symbol='star',size=7, line=dict(color='black',width=1))))\n",
    "\n",
    "fig.add_trace(go.Scatter(x=(dfn8MacFusNonProb_128mpi_8omp.Dirc_Data_Mov*(dfn8MacFusNonProb_128mpi_8omp.MPI_size/8)), \n",
    "                         y=(dfn8MacFusNonProb_128mpi_8omp.GFLOPS*(dfn8MacFusNonProb_128mpi_8omp.MPI_size/8)), \n",
    "                         mode='lines+markers', \n",
    "                         name='MacFusNonProb_128mpi_8omp',\n",
    "                         line=dict(color='red',width=3),\n",
    "                         marker=dict(symbol='star',size=7, line=dict(color='black',width=1))))\n",
    "\n",
    "\n",
    "# Case 5\n",
    "fig.add_trace(go.Scatter(x=(dfn8MacFusProb_64mpi_16omp.Dirc_Data_Mov*(dfn8MacFusProb_64mpi_16omp.MPI_size/8)), \n",
    "                         y=(dfn8MacFusProb_64mpi_16omp.GFLOPS*(dfn8MacFusProb_64mpi_16omp.MPI_size/8)), \n",
    "                         mode='lines+markers', \n",
    "                         name='MacFusProb_64mpi_16omp',\n",
    "                         line=dict(color='chartreuse',width=3),\n",
    "                         marker=dict(symbol='square-dot',size=6, line=dict(color='mediumvioletred',width=1))))\n",
    "\n",
    "fig.add_trace(go.Scatter(x=(dfn8MacFusNonProb_64mpi_16omp.Dirc_Data_Mov*(dfn8MacFusNonProb_64mpi_16omp.MPI_size/8)), \n",
    "                         y=(dfn8MacFusNonProb_64mpi_16omp.GFLOPS*(dfn8MacFusNonProb_64mpi_16omp.MPI_size/8)), \n",
    "                         mode='lines+markers', \n",
    "                         name='MacFusNonProb_64mpi_16omp',\n",
    "                         line=dict(color='black',width=3),\n",
    "                         marker=dict(symbol='square-dot',size=6, line=dict(color='mediumvioletred',width=1))))\n",
    "\n",
    "\n",
    "# Case 6\n",
    "fig.add_trace(go.Scatter(x=(dfn8MacFusProb_168mpi_6omp.Dirc_Data_Mov*(dfn8MacFusProb_168mpi_6omp.MPI_size/8)), \n",
    "                         y=(dfn8MacFusProb_168mpi_6omp.GFLOPS*(dfn8MacFusProb_168mpi_6omp.MPI_size/8)), \n",
    "                         mode='lines+markers', \n",
    "                         name='MacFusProb_168mpi_6omp',\n",
    "                         line=dict(color='gold',width=3),\n",
    "                         marker=dict(symbol='triangle-up',size=6, line=dict(color='black',width=1))))\n",
    "\n",
    "fig.add_trace(go.Scatter(x=(dfn8MacFusNonProb_168mpi_6omp.Dirc_Data_Mov*(dfn8MacFusNonProb_168mpi_6omp.MPI_size/8)), \n",
    "                         y=(dfn8MacFusNonProb_168mpi_6omp.GFLOPS*(dfn8MacFusNonProb_168mpi_6omp.MPI_size/8)), \n",
    "                         mode='lines+markers', \n",
    "                         name='MacFusNonProb_168mpi_6omp',\n",
    "                         line=dict(color='dimgray',width=3),\n",
    "                         marker=dict(symbol='triangle-up',size=6, line=dict(color='black',width=1))))\n",
    "\n",
    "\n",
    "\n",
    "# Case 7\n",
    "fig.add_trace(go.Scatter(x=(dfn8MacFusProb_504mpi_2omp.Dirc_Data_Mov*(dfn8MacFusProb_504mpi_2omp.MPI_size/8)), \n",
    "                         y=(dfn8MacFusProb_504mpi_2omp.GFLOPS*(dfn8MacFusProb_504mpi_2omp.MPI_size/8)), \n",
    "                         mode='lines+markers', \n",
    "                         name='MacFusProb_504mpi_2omp',\n",
    "                         line=dict(color='olive',width=3),\n",
    "                         marker=dict(symbol='circle',size=6, line=dict(color='olive',width=2))))\n",
    "\n",
    "fig.add_trace(go.Scatter(x=(dfn8MacFusNonProb_504mpi_2omp.Dirc_Data_Mov*(dfn8MacFusNonProb_504mpi_2omp.MPI_size/8)), \n",
    "                         y=(dfn8MacFusNonProb_504mpi_2omp.GFLOPS*(dfn8MacFusNonProb_504mpi_2omp.MPI_size/8)), \n",
    "                         mode='lines+markers', \n",
    "                         name='MacFusNonProb_504mpi_2omp',\n",
    "                         line=dict(color='Brown',width=3),\n",
    "                         marker=dict(symbol='circle',size=6, line=dict(color='darkred',width=2))))\n",
    "\n",
    "\n",
    "\n",
    "\n",
    "# Adding a vertical line\n",
    "fig.add_vline(x=512e6, line_width=3, line_dash=\"dash\", line_color=\"green\")\n",
    "# fig.add_hline(y=1024, line_width=3, line_dash=\"dash\", line_color=\"red\")\n",
    "\n",
    "# Add annotation\n",
    "fig.add_annotation(\n",
    "    x='512e6'\n",
    "    , y=130\n",
    "    , text=f'LLC Size Per Node'\n",
    "    , yanchor='bottom'\n",
    "    , showarrow=False\n",
    "    , arrowhead=1\n",
    "    , arrowsize=1\n",
    "    , arrowwidth=2\n",
    "    , arrowcolor=\"#636363\"\n",
    "    , ax=-20\n",
    "    , ay=-30\n",
    "    , font=dict(size=12, color=\"purple\", family=\"Sans Serif\")\n",
    "    , align=\"left\"\n",
    "    ,)\n",
    "\n",
    "fig.update_layout(title='\"Fused-Macro (8-Nodes): probempi vs nonprobempi\" GFlops Measurement',\n",
    "                  xaxis_title='Dirc_Data_Mov', yaxis_title='GFLOPs/Node', \n",
    "                  xaxis=dict(ticks=\"outside\"),  \n",
    "                  yaxis=dict(ticks=\"outside\"))"
   ]
  },
  {
   "cell_type": "markdown",
   "id": "08618cb2",
   "metadata": {},
   "source": [
    "## BANDWIDTH - Fused Macro: Probempi vs NonProbempi"
   ]
  },
  {
   "cell_type": "code",
   "execution_count": 10,
   "id": "23677ddf",
   "metadata": {},
   "outputs": [
    {
     "data": {
      "application/vnd.plotly.v1+json": {
       "config": {
        "plotlyServerURL": "https://plot.ly"
       },
       "data": [
        {
         "line": {
          "color": "darkcyan",
          "width": 3
         },
         "marker": {
          "line": {
           "color": "yellow",
           "width": 1
          },
          "size": 9,
          "symbol": "hexagon"
         },
         "mode": "lines+markers",
         "name": "MacFusProb_1024mpi_1omp",
         "type": "scatter",
         "x": [
          1572864000,
          1966080000,
          2359296000,
          2752512000,
          3145728000,
          3932160000
         ],
         "y": [
          494.82368,
          456.36096,
          426.65472,
          401.9072,
          375.56352,
          361.18912
         ]
        },
        {
         "line": {
          "color": "magenta",
          "width": 3
         },
         "marker": {
          "line": {
           "color": "yellow",
           "width": 1
          },
          "size": 9,
          "symbol": "hexagon"
         },
         "mode": "lines+markers",
         "name": "MacFusNonProb_1024mpi_1omp",
         "type": "scatter",
         "x": [
          1572864000,
          1966080000,
          2359296000,
          2752512000,
          3145728000,
          3538944000,
          3932160000
         ],
         "y": [
          475.78496,
          437.50016,
          411.70816,
          396.82176,
          378.57536,
          372.04224,
          364.28288
         ]
        },
        {
         "line": {
          "color": "royalblue",
          "width": 3
         },
         "marker": {
          "line": {
           "color": "MediumPurple",
           "width": 2
          },
          "size": 5,
          "symbol": "diamond"
         },
         "mode": "lines+markers",
         "name": "MacFusProb_512mpi_2omp",
         "type": "scatter",
         "x": [
          786432000,
          983040000,
          1179648000,
          1376256000,
          1572864000,
          1769472000,
          1966080000,
          2162688000,
          2359296000,
          2555904000,
          2752512000,
          2949120000,
          3145728000,
          3538944000,
          3735552000,
          3932160000
         ],
         "y": [
          443.14048,
          548.51264,
          565.37024,
          494.1376,
          534.4448,
          508.72,
          477.12128,
          473.29152,
          456.4,
          440.78208,
          395.21792,
          415.94688,
          393.96864,
          392.62976,
          380.528,
          374.02176
         ]
        },
        {
         "line": {
          "color": "sandybrown",
          "width": 3
         },
         "marker": {
          "line": {
           "color": "MediumPurple",
           "width": 2
          },
          "size": 5,
          "symbol": "diamond"
         },
         "mode": "lines+markers",
         "name": "MacFusNonProb_512mpi_2omp",
         "type": "scatter",
         "x": [
          786432000,
          983040000,
          1179648000,
          1376256000,
          1572864000,
          1769472000,
          1966080000,
          2162688000,
          2359296000,
          2555904000,
          2752512000,
          2949120000,
          3145728000,
          3342336000,
          3538944000,
          3735552000,
          3932160000
         ],
         "y": [
          422.28736,
          411.056,
          554.59264,
          534.90368,
          525.7472,
          491.10784,
          448.1824,
          464.544,
          421.50016,
          428.67776,
          426.9568,
          414.09856,
          395.14944,
          403.95072,
          375.07328,
          380.15168,
          374.93504
         ]
        },
        {
         "line": {
          "color": "darkblue",
          "width": 3
         },
         "marker": {
          "line": {
           "color": "tomato",
           "width": 2
          },
          "size": 7,
          "symbol": "circle"
         },
         "mode": "lines+markers",
         "name": "MacFusProb_256mpi_4omp",
         "type": "scatter",
         "x": [
          589824000,
          688128000,
          786432000,
          884736000,
          983040000,
          1081344000,
          1179648000,
          1277952000,
          1376256000,
          1474560000,
          1572864000,
          1671168000,
          1769472000,
          1867776000,
          1966080000,
          2064384000,
          2162688000,
          2260992000,
          2359296000,
          2457600000,
          2555904000,
          2654208000,
          2752512000,
          2850816000,
          2949120000,
          3047424000,
          3145728000,
          3244032000,
          3342336000,
          3440640000,
          3538944000,
          3637248000,
          3735552000,
          3833856000,
          3932160000
         ],
         "y": [
          410.7808,
          410.7872,
          450.0256,
          478.9504,
          522.7104,
          498.624,
          555.7184,
          553.296,
          520.9952,
          539.1456,
          507.6896,
          480.9536,
          486.9888,
          490.8352,
          476.8064,
          468.7616,
          461.0016,
          441.5456,
          449.6128,
          410.0768,
          433.5552,
          425.8592,
          401.4624,
          406.3392,
          409.3536,
          405.3856,
          395.936,
          398.8224,
          392.976,
          382.1824,
          384.5216,
          382.9824,
          378.8384,
          371.0912,
          373.2896
         ]
        },
        {
         "line": {
          "color": "cyan",
          "width": 3
         },
         "marker": {
          "line": {
           "color": "Purple",
           "width": 2
          },
          "size": 7,
          "symbol": "circle"
         },
         "mode": "lines+markers",
         "name": "MacFusNonProb_256mpi_4omp",
         "type": "scatter",
         "x": [
          589824000,
          688128000,
          786432000,
          884736000,
          983040000,
          1081344000,
          1179648000,
          1277952000,
          1376256000,
          1474560000,
          1572864000,
          1671168000,
          1769472000,
          1867776000,
          1966080000,
          2064384000,
          2162688000,
          2260992000,
          2359296000,
          2457600000,
          2555904000,
          2654208000,
          2752512000,
          2850816000,
          2949120000,
          3047424000,
          3145728000,
          3244032000,
          3342336000,
          3440640000,
          3538944000,
          3637248000,
          3735552000,
          3833856000,
          3932160000
         ],
         "y": [
          393.3088,
          416.0992,
          440.256,
          468.7808,
          472.8288,
          428.5504,
          421.5424,
          550.256,
          535.3408,
          533.0624,
          514.544,
          506.8448,
          498.7872,
          440.2912,
          467.1488,
          471.0112,
          457.6096,
          394.56,
          434.0224,
          427.7536,
          434.528,
          425.0112,
          420.5056,
          388.16,
          380.0064,
          404.7648,
          400.7264,
          402.7136,
          401.9296,
          394.0512,
          392.8096,
          389.6384,
          384.7488,
          360.1184,
          341.5808
         ]
        },
        {
         "line": {
          "color": "blue",
          "width": 3
         },
         "marker": {
          "line": {
           "color": "black",
           "width": 1
          },
          "size": 7,
          "symbol": "star"
         },
         "mode": "lines+markers",
         "name": "MacFusProb_128mpi_8omp",
         "type": "scatter",
         "x": [
          540672000,
          589824000,
          638976000,
          688128000,
          737280000,
          786432000,
          835584000,
          884736000,
          933888000,
          983040000,
          1032192000,
          1081344000,
          1130496000,
          1179648000,
          1228800000,
          1277952000,
          1327104000,
          1376256000,
          1425408000,
          1474560000,
          1523712000,
          1572864000,
          1622016000,
          1671168000,
          1720320000,
          1769472000,
          1818624000,
          1867776000,
          1916928000,
          1966080000,
          2015232000,
          2064384000,
          2113536000,
          2162688000,
          2211840000,
          2260992000,
          2310144000,
          2359296000,
          2408448000,
          2457600000,
          2506752000,
          2555904000,
          2605056000,
          2654208000,
          2703360000,
          2752512000,
          2801664000,
          2850816000,
          2899968000,
          2949120000,
          2998272000,
          3047424000,
          3096576000,
          3145728000,
          3194880000,
          3244032000,
          3293184000,
          3342336000,
          3391488000,
          3440640000,
          3489792000,
          3538944000,
          3588096000,
          3637248000,
          3686400000,
          3735552000,
          3784704000,
          3833856000,
          3883008000,
          3932160000
         ],
         "y": [
          392.8144,
          399.616,
          413.9056,
          439.2352,
          468.1712,
          471.1904,
          450.8112,
          499.5296,
          482.5616,
          503.2,
          512.128,
          507.1104,
          462.6912,
          454.4928,
          445.6,
          395.0752,
          465.7808,
          508.992,
          461.2288,
          488.4976,
          482.2816,
          468.3392,
          478.6272,
          480.312,
          415.4688,
          462.9024,
          456.0416,
          437.9712,
          441.096,
          437.7856,
          438.8528,
          432.4128,
          398.1856,
          426.064,
          419.9872,
          413.6032,
          406.7536,
          407.6816,
          375.912,
          405.3904,
          364.5056,
          396.6192,
          395.496,
          388.488,
          391.3792,
          371.672,
          381.7792,
          381.792,
          378.9392,
          377.7984,
          349.9984,
          350.2112,
          339.4208,
          350.2096,
          363.3136,
          368.264,
          368.712,
          366.3408,
          361.9984,
          361.0448,
          359.2288,
          357.048,
          345.9008,
          350.2112,
          352.0624,
          340.1088,
          351.9744,
          350.7952,
          351.8032,
          342.0288
         ]
        },
        {
         "line": {
          "color": "red",
          "width": 3
         },
         "marker": {
          "line": {
           "color": "black",
           "width": 1
          },
          "size": 7,
          "symbol": "star"
         },
         "mode": "lines+markers",
         "name": "MacFusNonProb_128mpi_8omp",
         "type": "scatter",
         "x": [
          540672000,
          589824000,
          638976000,
          688128000,
          737280000,
          786432000,
          835584000,
          884736000,
          933888000,
          983040000,
          1032192000,
          1081344000,
          1130496000,
          1179648000,
          1228800000,
          1277952000,
          1327104000,
          1376256000,
          1425408000,
          1474560000,
          1523712000,
          1572864000,
          1622016000,
          1671168000,
          1720320000,
          1769472000,
          1818624000,
          1867776000,
          1916928000,
          1966080000,
          2015232000,
          2064384000,
          2113536000,
          2162688000,
          2211840000,
          2260992000,
          2310144000,
          2359296000,
          2408448000,
          2457600000,
          2506752000,
          2555904000,
          2605056000,
          2654208000,
          2703360000,
          2752512000,
          2801664000,
          2899968000,
          2949120000,
          2998272000,
          3047424000,
          3096576000,
          3145728000,
          3194880000,
          3244032000,
          3293184000,
          3342336000,
          3391488000,
          3440640000,
          3489792000,
          3538944000,
          3588096000,
          3637248000,
          3686400000,
          3735552000,
          3833856000,
          3883008000,
          3932160000
         ],
         "y": [
          340.0848,
          383.816,
          359.968,
          393.9168,
          408.2528,
          435.8896,
          446.744,
          452.1856,
          460.744,
          444.3264,
          444.6176,
          462.7248,
          447.92,
          424.1456,
          356.4864,
          402.0928,
          512.664,
          498.2608,
          503.4704,
          461.9568,
          485.7664,
          484.9744,
          468.7936,
          479.0336,
          471.0096,
          415.6512,
          468.9824,
          459.8144,
          453.4416,
          442.8832,
          448.608,
          444.1952,
          440.728,
          398.4352,
          427.2544,
          416.696,
          407.6144,
          422.6416,
          408.5632,
          417.6208,
          409.072,
          357.3552,
          385.3488,
          401.7616,
          390.8832,
          401.0976,
          352.1344,
          367.1328,
          363.056,
          360.44,
          356.4528,
          382.3024,
          384.5008,
          377.1888,
          377.6576,
          350.8816,
          374.1552,
          372.0544,
          365.2672,
          353.9664,
          347.5088,
          365.7056,
          364.4672,
          348.6464,
          360.2928,
          358.4976,
          357.6208,
          355.1792
         ]
        },
        {
         "line": {
          "color": "chartreuse",
          "width": 3
         },
         "marker": {
          "line": {
           "color": "mediumvioletred",
           "width": 1
          },
          "size": 6,
          "symbol": "square-dot"
         },
         "mode": "lines+markers",
         "name": "MacFusProb_64mpi_16omp",
         "type": "scatter",
         "x": [
          516096000,
          540672000,
          565248000,
          589824000,
          614400000,
          638976000,
          663552000,
          688128000,
          712704000,
          737280000,
          761856000,
          786432000,
          811008000,
          835584000,
          860160000,
          884736000,
          909312000,
          933888000,
          958464000,
          983040000,
          1007616000,
          1032192000,
          1056768000,
          1081344000,
          1105920000,
          1130496000,
          1155072000,
          1179648000,
          1204224000,
          1228800000,
          1253376000,
          1277952000,
          1302528000,
          1327104000,
          1351680000,
          1376256000,
          1400832000,
          1425408000,
          1449984000,
          1474560000,
          1499136000,
          1523712000,
          1548288000,
          1572864000,
          1597440000,
          1622016000,
          1646592000,
          1671168000,
          1695744000,
          1720320000,
          1744896000,
          1769472000,
          1794048000,
          1818624000,
          1843200000,
          1867776000,
          1892352000,
          1916928000,
          1941504000,
          1966080000,
          1990656000,
          2015232000,
          2039808000,
          2064384000,
          2088960000,
          2113536000,
          2138112000,
          2162688000,
          2187264000,
          2211840000,
          2236416000,
          2260992000,
          2285568000,
          2310144000,
          2334720000,
          2359296000,
          2383872000,
          2408448000,
          2433024000,
          2457600000,
          2482176000,
          2506752000,
          2531328000,
          2555904000,
          2580480000,
          2605056000,
          2629632000,
          2654208000,
          2678784000,
          2703360000,
          2727936000,
          2752512000,
          2777088000,
          2801664000,
          2826240000,
          2850816000,
          2875392000,
          2899968000,
          2924544000,
          2949120000,
          2973696000,
          2998272000,
          3022848000,
          3047424000,
          3072000000,
          3096576000,
          3121152000,
          3145728000,
          3170304000,
          3194880000,
          3219456000,
          3244032000,
          3293184000,
          3317760000,
          3342336000,
          3366912000,
          3391488000,
          3416064000,
          3440640000,
          3465216000,
          3489792000,
          3514368000,
          3563520000,
          3588096000,
          3612672000,
          3637248000,
          3661824000,
          3686400000,
          3735552000,
          3760128000,
          3784704000,
          3809280000,
          3833856000,
          3858432000,
          3883008000,
          3907584000,
          3932160000
         ],
         "y": [
          318.5264,
          343.4216,
          339.676,
          366.7984,
          358.3688,
          380.3464,
          328.4832,
          395.3872,
          330.9416,
          388.0328,
          387.3088,
          404.6968,
          359.5352,
          388.6456,
          377.6112,
          379.6816,
          326.3976,
          355.3592,
          324.9472,
          376.7008,
          302.3552,
          335.5064,
          318.8048,
          330.0184,
          304.904,
          294.0304,
          385.9216,
          309.096,
          329.5376,
          378.4232,
          336.7616,
          364.2176,
          353.8064,
          346.9744,
          357.4464,
          345.7536,
          313.7496,
          328.6496,
          353.7096,
          322.1824,
          336.5608,
          344.9576,
          332.1624,
          332.6064,
          337.4288,
          329.244,
          337.7128,
          332.5608,
          326.124,
          329.3208,
          315.376,
          325.2856,
          323.5,
          326.1072,
          322.1376,
          299.8912,
          319.5624,
          313.2576,
          314.9192,
          312.0832,
          289.664,
          310.1352,
          310.6384,
          305.1816,
          305.7648,
          300.3584,
          292.7312,
          279.76,
          298.452,
          296.5808,
          290.5336,
          295.9064,
          295.5048,
          293.8888,
          289.0024,
          288.9512,
          267.8952,
          271.072,
          281.8264,
          280.4184,
          270.648,
          283.536,
          262.848,
          272.008,
          280.092,
          282.3712,
          278.6808,
          283.6032,
          278.332,
          278.6536,
          276.256,
          278.0936,
          277.4856,
          252.7056,
          263.4984,
          275.1944,
          274.612,
          258.9488,
          269.9728,
          259.3512,
          269.7616,
          270.8552,
          271.0856,
          250.3392,
          269.192,
          265.656,
          266.6304,
          271.3336,
          249.3736,
          264.924,
          267.304,
          262.5904,
          263.3464,
          262.8488,
          257.4576,
          261.4344,
          261.8736,
          259.8904,
          259.5808,
          255.716,
          258.6072,
          259.0976,
          257.5368,
          252.9184,
          256.8248,
          253.9488,
          256.3928,
          253.9504,
          253.8424,
          256.7936,
          247.3568,
          251.9848,
          253.8488,
          252.244,
          244.5104,
          247.316,
          247.332
         ]
        },
        {
         "line": {
          "color": "black",
          "width": 3
         },
         "marker": {
          "line": {
           "color": "mediumvioletred",
           "width": 1
          },
          "size": 6,
          "symbol": "square-dot"
         },
         "mode": "lines+markers",
         "name": "MacFusNonProb_64mpi_16omp",
         "type": "scatter",
         "x": [
          516096000,
          540672000,
          565248000,
          589824000,
          614400000,
          638976000,
          663552000,
          688128000,
          712704000,
          737280000,
          761856000,
          786432000,
          811008000,
          835584000,
          860160000,
          884736000,
          909312000,
          933888000,
          958464000,
          983040000,
          1007616000,
          1032192000,
          1056768000,
          1081344000,
          1105920000,
          1130496000,
          1155072000,
          1179648000,
          1204224000,
          1228800000,
          1253376000,
          1277952000,
          1302528000,
          1327104000,
          1351680000,
          1376256000,
          1400832000,
          1425408000,
          1449984000,
          1474560000,
          1499136000,
          1523712000,
          1548288000,
          1572864000,
          1597440000,
          1622016000,
          1646592000,
          1671168000,
          1695744000,
          1720320000,
          1744896000,
          1769472000,
          1794048000,
          1818624000,
          1843200000,
          1867776000,
          1892352000,
          1916928000,
          1941504000,
          1966080000,
          1990656000,
          2015232000,
          2039808000,
          2064384000,
          2088960000,
          2113536000,
          2138112000,
          2162688000,
          2187264000,
          2211840000,
          2236416000,
          2260992000,
          2285568000,
          2310144000,
          2334720000,
          2359296000,
          2383872000,
          2408448000,
          2433024000,
          2457600000,
          2482176000,
          2506752000,
          2531328000,
          2555904000,
          2580480000,
          2605056000,
          2629632000,
          2654208000,
          2678784000,
          2703360000,
          2727936000,
          2752512000,
          2777088000,
          2801664000,
          2826240000,
          2850816000,
          2875392000,
          2899968000,
          2924544000,
          2949120000,
          2973696000,
          2998272000,
          3022848000,
          3047424000,
          3072000000,
          3096576000,
          3121152000,
          3145728000,
          3170304000,
          3194880000,
          3219456000,
          3244032000,
          3268608000,
          3293184000,
          3317760000,
          3342336000,
          3366912000,
          3391488000,
          3416064000,
          3440640000,
          3465216000,
          3489792000,
          3514368000,
          3538944000,
          3563520000,
          3588096000,
          3612672000,
          3637248000,
          3661824000,
          3686400000,
          3710976000,
          3735552000,
          3760128000,
          3784704000,
          3809280000,
          3833856000,
          3858432000,
          3883008000,
          3907584000,
          3932160000
         ],
         "y": [
          286.5768,
          313.272,
          328.6784,
          330.26,
          343.5656,
          342.3824,
          336.3536,
          334.5328,
          359.8024,
          363.5976,
          318.2776,
          361.144,
          345.3184,
          360.196,
          347.972,
          348.968,
          342.712,
          345.3752,
          332.328,
          327.184,
          324.5088,
          366.0256,
          316.1832,
          312.9192,
          269.7224,
          364.0192,
          303.3384,
          333.0968,
          314.32,
          359.272,
          380.5424,
          360.2,
          381.9512,
          367.2136,
          327.3632,
          357.2272,
          369.3352,
          359.7832,
          347.8784,
          367.576,
          344.5336,
          321.9904,
          357.912,
          302.1744,
          341.5,
          312.056,
          348.7688,
          349.1096,
          333.428,
          343.2232,
          347.1216,
          346.6584,
          321.1456,
          308.9432,
          339.6096,
          326.2208,
          330.9976,
          337.04,
          300.7216,
          304.1208,
          314.5328,
          329.1216,
          326.0712,
          327.1224,
          317.6752,
          322.608,
          288.1744,
          309.1752,
          323.0832,
          304.6032,
          319.208,
          313.5744,
          291.3848,
          281.312,
          317.352,
          305.7736,
          303.7888,
          309.9248,
          312.6976,
          311.5712,
          303.1248,
          300.5816,
          304.9688,
          296.6208,
          301.9632,
          293.4672,
          296.2552,
          294.5848,
          301.1288,
          282.0912,
          285.2296,
          297.84,
          293.8816,
          288.3776,
          296.96,
          280.2032,
          297.0008,
          293.5656,
          283.6976,
          292.2176,
          283.8144,
          290.8496,
          289.4496,
          279.7624,
          286.308,
          282.6688,
          284.8792,
          284.6992,
          278.4544,
          283.2624,
          274.1832,
          267.5704,
          283.9552,
          281.6552,
          280.2336,
          278.5288,
          279.5808,
          279.56,
          275.2872,
          278.8016,
          279.396,
          277.844,
          273.7144,
          277.1936,
          274.8352,
          269.0984,
          275.4304,
          275.8976,
          274.1208,
          274.5768,
          272.828,
          273.164,
          273.7864,
          271.7984,
          260.0248,
          270.8024,
          271.66,
          254.4712,
          265.7024,
          270.4792
         ]
        },
        {
         "line": {
          "color": "gold",
          "width": 3
         },
         "marker": {
          "line": {
           "color": "black",
           "width": 1
          },
          "size": 6,
          "symbol": "triangle-up"
         },
         "mode": "lines+markers",
         "name": "MacFusProb_168mpi_6omp",
         "type": "scatter",
         "x": [
          516096000,
          645120000,
          774144000,
          903168000,
          1032192000,
          1161216000,
          1290240000,
          1419264000,
          1548288000,
          1677312000,
          1806336000,
          1935360000,
          2064384000,
          2193408000,
          2322432000,
          2451456000,
          2580480000,
          2709504000,
          2838528000,
          2967552000,
          3096576000,
          3354624000,
          3483648000,
          3741696000,
          3870720000
         ],
         "y": [
          284.5311,
          303.7482,
          444.05549999999994,
          473.6508,
          467.6679,
          446.9808,
          441.1407,
          423.423,
          389.47860000000003,
          389.3064,
          351.0339,
          341.78340000000003,
          346.2165,
          322.0287,
          336.9996,
          309.8109,
          298.4667,
          319.0992,
          301.7784,
          296.59979999999996,
          287.5551,
          295.54560000000004,
          288.6954,
          289.2939,
          285.2724
         ]
        },
        {
         "line": {
          "color": "dimgray",
          "width": 3
         },
         "marker": {
          "line": {
           "color": "black",
           "width": 1
          },
          "size": 6,
          "symbol": "triangle-up"
         },
         "mode": "lines+markers",
         "name": "MacFusNonProb_168mpi_6omp",
         "type": "scatter",
         "x": [
          516096000,
          645120000,
          774144000,
          903168000,
          1032192000,
          1161216000,
          1290240000,
          1419264000,
          1548288000,
          1677312000,
          1935360000,
          2064384000,
          2193408000,
          2322432000,
          2451456000,
          2580480000,
          2709504000,
          2838528000,
          2967552000,
          3096576000,
          3225600000,
          3354624000,
          3483648000,
          3612672000,
          3741696000,
          3870720000
         ],
         "y": [
          292.4775,
          291.5115,
          457.82520000000005,
          479.94450000000006,
          474.95910000000003,
          463.16549999999995,
          447.6885,
          431.1741,
          409.0632,
          376.9752,
          353.1759,
          343.27439999999996,
          330.5274,
          329.0679,
          311.7072,
          298.2,
          300.7452,
          305.0439,
          298.8027,
          280.3374,
          302.1207,
          289.5333,
          292.4796,
          290.60220000000004,
          291.1797,
          288.4056
         ]
        },
        {
         "line": {
          "color": "olive",
          "width": 3
         },
         "marker": {
          "line": {
           "color": "olive",
           "width": 2
          },
          "size": 6,
          "symbol": "circle"
         },
         "mode": "lines+markers",
         "name": "MacFusProb_504mpi_2omp",
         "type": "scatter",
         "x": [
          774144000,
          1161216000,
          1548288000,
          1935360000,
          2322432000,
          2709504000,
          3096576000,
          3483648000,
          3870720000
         ],
         "y": [
          546.588,
          543.70638,
          514.89144,
          475.69788,
          442.83519,
          415.03455,
          399.04578,
          381.44484,
          366.86601
         ]
        },
        {
         "line": {
          "color": "Brown",
          "width": 3
         },
         "marker": {
          "line": {
           "color": "darkred",
           "width": 2
          },
          "size": 6,
          "symbol": "circle"
         },
         "mode": "lines+markers",
         "name": "MacFusNonProb_504mpi_2omp",
         "type": "scatter",
         "x": [
          774144000,
          1161216000,
          1548288000,
          1935360000,
          2322432000,
          2709504000,
          3096576000,
          3483648000,
          3870720000
         ],
         "y": [
          537.68232,
          545.93154,
          500.16645,
          469.95101999999997,
          438.86682,
          416.50686,
          398.22426,
          386.48232,
          373.96737
         ]
        }
       ],
       "layout": {
        "annotations": [
         {
          "align": "left",
          "arrowcolor": "#636363",
          "arrowhead": 1,
          "arrowsize": 1,
          "arrowwidth": 2,
          "ax": -20,
          "ay": -30,
          "font": {
           "color": "purple",
           "family": "Sans Serif",
           "size": 12
          },
          "showarrow": false,
          "text": "LLC Size Per Node: 512M",
          "x": "512e6",
          "y": 280,
          "yanchor": "bottom"
         },
         {
          "align": "left",
          "arrowcolor": "#636363",
          "arrowhead": 1,
          "arrowsize": 1,
          "arrowwidth": 2,
          "ax": -20,
          "ay": -30,
          "font": {
           "color": "orange",
           "family": "Sans Serif",
           "size": 12
          },
          "showarrow": false,
          "text": "Max Bandwidth Per Node",
          "x": "130e6",
          "y": 370,
          "yanchor": "bottom"
         }
        ],
        "legend": {
         "bordercolor": "black",
         "borderwidth": 1
        },
        "shapes": [
         {
          "line": {
           "color": "green",
           "dash": "dot",
           "width": 3
          },
          "type": "line",
          "x0": 512000000,
          "x1": 512000000,
          "xref": "x",
          "y0": 0,
          "y1": 1,
          "yref": "y domain"
         },
         {
          "line": {
           "color": "red",
           "dash": "dash",
           "width": 3
          },
          "type": "line",
          "x0": 0,
          "x1": 1,
          "xref": "x domain",
          "y0": 409,
          "y1": 409,
          "yref": "y"
         }
        ],
        "template": {
         "data": {
          "bar": [
           {
            "error_x": {
             "color": "#2a3f5f"
            },
            "error_y": {
             "color": "#2a3f5f"
            },
            "marker": {
             "line": {
              "color": "#E5ECF6",
              "width": 0.5
             },
             "pattern": {
              "fillmode": "overlay",
              "size": 10,
              "solidity": 0.2
             }
            },
            "type": "bar"
           }
          ],
          "barpolar": [
           {
            "marker": {
             "line": {
              "color": "#E5ECF6",
              "width": 0.5
             },
             "pattern": {
              "fillmode": "overlay",
              "size": 10,
              "solidity": 0.2
             }
            },
            "type": "barpolar"
           }
          ],
          "carpet": [
           {
            "aaxis": {
             "endlinecolor": "#2a3f5f",
             "gridcolor": "white",
             "linecolor": "white",
             "minorgridcolor": "white",
             "startlinecolor": "#2a3f5f"
            },
            "baxis": {
             "endlinecolor": "#2a3f5f",
             "gridcolor": "white",
             "linecolor": "white",
             "minorgridcolor": "white",
             "startlinecolor": "#2a3f5f"
            },
            "type": "carpet"
           }
          ],
          "choropleth": [
           {
            "colorbar": {
             "outlinewidth": 0,
             "ticks": ""
            },
            "type": "choropleth"
           }
          ],
          "contour": [
           {
            "colorbar": {
             "outlinewidth": 0,
             "ticks": ""
            },
            "colorscale": [
             [
              0,
              "#0d0887"
             ],
             [
              0.1111111111111111,
              "#46039f"
             ],
             [
              0.2222222222222222,
              "#7201a8"
             ],
             [
              0.3333333333333333,
              "#9c179e"
             ],
             [
              0.4444444444444444,
              "#bd3786"
             ],
             [
              0.5555555555555556,
              "#d8576b"
             ],
             [
              0.6666666666666666,
              "#ed7953"
             ],
             [
              0.7777777777777778,
              "#fb9f3a"
             ],
             [
              0.8888888888888888,
              "#fdca26"
             ],
             [
              1,
              "#f0f921"
             ]
            ],
            "type": "contour"
           }
          ],
          "contourcarpet": [
           {
            "colorbar": {
             "outlinewidth": 0,
             "ticks": ""
            },
            "type": "contourcarpet"
           }
          ],
          "heatmap": [
           {
            "colorbar": {
             "outlinewidth": 0,
             "ticks": ""
            },
            "colorscale": [
             [
              0,
              "#0d0887"
             ],
             [
              0.1111111111111111,
              "#46039f"
             ],
             [
              0.2222222222222222,
              "#7201a8"
             ],
             [
              0.3333333333333333,
              "#9c179e"
             ],
             [
              0.4444444444444444,
              "#bd3786"
             ],
             [
              0.5555555555555556,
              "#d8576b"
             ],
             [
              0.6666666666666666,
              "#ed7953"
             ],
             [
              0.7777777777777778,
              "#fb9f3a"
             ],
             [
              0.8888888888888888,
              "#fdca26"
             ],
             [
              1,
              "#f0f921"
             ]
            ],
            "type": "heatmap"
           }
          ],
          "heatmapgl": [
           {
            "colorbar": {
             "outlinewidth": 0,
             "ticks": ""
            },
            "colorscale": [
             [
              0,
              "#0d0887"
             ],
             [
              0.1111111111111111,
              "#46039f"
             ],
             [
              0.2222222222222222,
              "#7201a8"
             ],
             [
              0.3333333333333333,
              "#9c179e"
             ],
             [
              0.4444444444444444,
              "#bd3786"
             ],
             [
              0.5555555555555556,
              "#d8576b"
             ],
             [
              0.6666666666666666,
              "#ed7953"
             ],
             [
              0.7777777777777778,
              "#fb9f3a"
             ],
             [
              0.8888888888888888,
              "#fdca26"
             ],
             [
              1,
              "#f0f921"
             ]
            ],
            "type": "heatmapgl"
           }
          ],
          "histogram": [
           {
            "marker": {
             "pattern": {
              "fillmode": "overlay",
              "size": 10,
              "solidity": 0.2
             }
            },
            "type": "histogram"
           }
          ],
          "histogram2d": [
           {
            "colorbar": {
             "outlinewidth": 0,
             "ticks": ""
            },
            "colorscale": [
             [
              0,
              "#0d0887"
             ],
             [
              0.1111111111111111,
              "#46039f"
             ],
             [
              0.2222222222222222,
              "#7201a8"
             ],
             [
              0.3333333333333333,
              "#9c179e"
             ],
             [
              0.4444444444444444,
              "#bd3786"
             ],
             [
              0.5555555555555556,
              "#d8576b"
             ],
             [
              0.6666666666666666,
              "#ed7953"
             ],
             [
              0.7777777777777778,
              "#fb9f3a"
             ],
             [
              0.8888888888888888,
              "#fdca26"
             ],
             [
              1,
              "#f0f921"
             ]
            ],
            "type": "histogram2d"
           }
          ],
          "histogram2dcontour": [
           {
            "colorbar": {
             "outlinewidth": 0,
             "ticks": ""
            },
            "colorscale": [
             [
              0,
              "#0d0887"
             ],
             [
              0.1111111111111111,
              "#46039f"
             ],
             [
              0.2222222222222222,
              "#7201a8"
             ],
             [
              0.3333333333333333,
              "#9c179e"
             ],
             [
              0.4444444444444444,
              "#bd3786"
             ],
             [
              0.5555555555555556,
              "#d8576b"
             ],
             [
              0.6666666666666666,
              "#ed7953"
             ],
             [
              0.7777777777777778,
              "#fb9f3a"
             ],
             [
              0.8888888888888888,
              "#fdca26"
             ],
             [
              1,
              "#f0f921"
             ]
            ],
            "type": "histogram2dcontour"
           }
          ],
          "mesh3d": [
           {
            "colorbar": {
             "outlinewidth": 0,
             "ticks": ""
            },
            "type": "mesh3d"
           }
          ],
          "parcoords": [
           {
            "line": {
             "colorbar": {
              "outlinewidth": 0,
              "ticks": ""
             }
            },
            "type": "parcoords"
           }
          ],
          "pie": [
           {
            "automargin": true,
            "type": "pie"
           }
          ],
          "scatter": [
           {
            "fillpattern": {
             "fillmode": "overlay",
             "size": 10,
             "solidity": 0.2
            },
            "type": "scatter"
           }
          ],
          "scatter3d": [
           {
            "line": {
             "colorbar": {
              "outlinewidth": 0,
              "ticks": ""
             }
            },
            "marker": {
             "colorbar": {
              "outlinewidth": 0,
              "ticks": ""
             }
            },
            "type": "scatter3d"
           }
          ],
          "scattercarpet": [
           {
            "marker": {
             "colorbar": {
              "outlinewidth": 0,
              "ticks": ""
             }
            },
            "type": "scattercarpet"
           }
          ],
          "scattergeo": [
           {
            "marker": {
             "colorbar": {
              "outlinewidth": 0,
              "ticks": ""
             }
            },
            "type": "scattergeo"
           }
          ],
          "scattergl": [
           {
            "marker": {
             "colorbar": {
              "outlinewidth": 0,
              "ticks": ""
             }
            },
            "type": "scattergl"
           }
          ],
          "scattermapbox": [
           {
            "marker": {
             "colorbar": {
              "outlinewidth": 0,
              "ticks": ""
             }
            },
            "type": "scattermapbox"
           }
          ],
          "scatterpolar": [
           {
            "marker": {
             "colorbar": {
              "outlinewidth": 0,
              "ticks": ""
             }
            },
            "type": "scatterpolar"
           }
          ],
          "scatterpolargl": [
           {
            "marker": {
             "colorbar": {
              "outlinewidth": 0,
              "ticks": ""
             }
            },
            "type": "scatterpolargl"
           }
          ],
          "scatterternary": [
           {
            "marker": {
             "colorbar": {
              "outlinewidth": 0,
              "ticks": ""
             }
            },
            "type": "scatterternary"
           }
          ],
          "surface": [
           {
            "colorbar": {
             "outlinewidth": 0,
             "ticks": ""
            },
            "colorscale": [
             [
              0,
              "#0d0887"
             ],
             [
              0.1111111111111111,
              "#46039f"
             ],
             [
              0.2222222222222222,
              "#7201a8"
             ],
             [
              0.3333333333333333,
              "#9c179e"
             ],
             [
              0.4444444444444444,
              "#bd3786"
             ],
             [
              0.5555555555555556,
              "#d8576b"
             ],
             [
              0.6666666666666666,
              "#ed7953"
             ],
             [
              0.7777777777777778,
              "#fb9f3a"
             ],
             [
              0.8888888888888888,
              "#fdca26"
             ],
             [
              1,
              "#f0f921"
             ]
            ],
            "type": "surface"
           }
          ],
          "table": [
           {
            "cells": {
             "fill": {
              "color": "#EBF0F8"
             },
             "line": {
              "color": "white"
             }
            },
            "header": {
             "fill": {
              "color": "#C8D4E3"
             },
             "line": {
              "color": "white"
             }
            },
            "type": "table"
           }
          ]
         },
         "layout": {
          "annotationdefaults": {
           "arrowcolor": "#2a3f5f",
           "arrowhead": 0,
           "arrowwidth": 1
          },
          "autotypenumbers": "strict",
          "coloraxis": {
           "colorbar": {
            "outlinewidth": 0,
            "ticks": ""
           }
          },
          "colorscale": {
           "diverging": [
            [
             0,
             "#8e0152"
            ],
            [
             0.1,
             "#c51b7d"
            ],
            [
             0.2,
             "#de77ae"
            ],
            [
             0.3,
             "#f1b6da"
            ],
            [
             0.4,
             "#fde0ef"
            ],
            [
             0.5,
             "#f7f7f7"
            ],
            [
             0.6,
             "#e6f5d0"
            ],
            [
             0.7,
             "#b8e186"
            ],
            [
             0.8,
             "#7fbc41"
            ],
            [
             0.9,
             "#4d9221"
            ],
            [
             1,
             "#276419"
            ]
           ],
           "sequential": [
            [
             0,
             "#0d0887"
            ],
            [
             0.1111111111111111,
             "#46039f"
            ],
            [
             0.2222222222222222,
             "#7201a8"
            ],
            [
             0.3333333333333333,
             "#9c179e"
            ],
            [
             0.4444444444444444,
             "#bd3786"
            ],
            [
             0.5555555555555556,
             "#d8576b"
            ],
            [
             0.6666666666666666,
             "#ed7953"
            ],
            [
             0.7777777777777778,
             "#fb9f3a"
            ],
            [
             0.8888888888888888,
             "#fdca26"
            ],
            [
             1,
             "#f0f921"
            ]
           ],
           "sequentialminus": [
            [
             0,
             "#0d0887"
            ],
            [
             0.1111111111111111,
             "#46039f"
            ],
            [
             0.2222222222222222,
             "#7201a8"
            ],
            [
             0.3333333333333333,
             "#9c179e"
            ],
            [
             0.4444444444444444,
             "#bd3786"
            ],
            [
             0.5555555555555556,
             "#d8576b"
            ],
            [
             0.6666666666666666,
             "#ed7953"
            ],
            [
             0.7777777777777778,
             "#fb9f3a"
            ],
            [
             0.8888888888888888,
             "#fdca26"
            ],
            [
             1,
             "#f0f921"
            ]
           ]
          },
          "colorway": [
           "#636efa",
           "#EF553B",
           "#00cc96",
           "#ab63fa",
           "#FFA15A",
           "#19d3f3",
           "#FF6692",
           "#B6E880",
           "#FF97FF",
           "#FECB52"
          ],
          "font": {
           "color": "#2a3f5f"
          },
          "geo": {
           "bgcolor": "white",
           "lakecolor": "white",
           "landcolor": "#E5ECF6",
           "showlakes": true,
           "showland": true,
           "subunitcolor": "white"
          },
          "hoverlabel": {
           "align": "left"
          },
          "hovermode": "closest",
          "mapbox": {
           "style": "light"
          },
          "paper_bgcolor": "white",
          "plot_bgcolor": "#E5ECF6",
          "polar": {
           "angularaxis": {
            "gridcolor": "white",
            "linecolor": "white",
            "ticks": ""
           },
           "bgcolor": "#E5ECF6",
           "radialaxis": {
            "gridcolor": "white",
            "linecolor": "white",
            "ticks": ""
           }
          },
          "scene": {
           "xaxis": {
            "backgroundcolor": "#E5ECF6",
            "gridcolor": "white",
            "gridwidth": 2,
            "linecolor": "white",
            "showbackground": true,
            "ticks": "",
            "zerolinecolor": "white"
           },
           "yaxis": {
            "backgroundcolor": "#E5ECF6",
            "gridcolor": "white",
            "gridwidth": 2,
            "linecolor": "white",
            "showbackground": true,
            "ticks": "",
            "zerolinecolor": "white"
           },
           "zaxis": {
            "backgroundcolor": "#E5ECF6",
            "gridcolor": "white",
            "gridwidth": 2,
            "linecolor": "white",
            "showbackground": true,
            "ticks": "",
            "zerolinecolor": "white"
           }
          },
          "shapedefaults": {
           "line": {
            "color": "#2a3f5f"
           }
          },
          "ternary": {
           "aaxis": {
            "gridcolor": "white",
            "linecolor": "white",
            "ticks": ""
           },
           "baxis": {
            "gridcolor": "white",
            "linecolor": "white",
            "ticks": ""
           },
           "bgcolor": "#E5ECF6",
           "caxis": {
            "gridcolor": "white",
            "linecolor": "white",
            "ticks": ""
           }
          },
          "title": {
           "x": 0.05
          },
          "xaxis": {
           "automargin": true,
           "gridcolor": "white",
           "linecolor": "white",
           "ticks": "",
           "title": {
            "standoff": 15
           },
           "zerolinecolor": "white",
           "zerolinewidth": 2
          },
          "yaxis": {
           "automargin": true,
           "gridcolor": "white",
           "linecolor": "white",
           "ticks": "",
           "title": {
            "standoff": 15
           },
           "zerolinecolor": "white",
           "zerolinewidth": 2
          }
         }
        },
        "title": {
         "text": "\"Fused Macro: Probempi vs NonProbempi\" Bandwidth Measurement"
        },
        "xaxis": {
         "ticks": "outside",
         "title": {
          "text": "Dirc_Data_Mov"
         }
        },
        "yaxis": {
         "ticks": "outside",
         "title": {
          "text": "Bandwidth/Node"
         }
        }
       }
      },
      "text/html": [
       "<div>                            <div id=\"ffde64d4-abdd-4bd7-b4df-7f1a96e339f6\" class=\"plotly-graph-div\" style=\"height:525px; width:100%;\"></div>            <script type=\"text/javascript\">                require([\"plotly\"], function(Plotly) {                    window.PLOTLYENV=window.PLOTLYENV || {};                                    if (document.getElementById(\"ffde64d4-abdd-4bd7-b4df-7f1a96e339f6\")) {                    Plotly.newPlot(                        \"ffde64d4-abdd-4bd7-b4df-7f1a96e339f6\",                        [{\"line\":{\"color\":\"darkcyan\",\"width\":3},\"marker\":{\"line\":{\"color\":\"yellow\",\"width\":1},\"size\":9,\"symbol\":\"hexagon\"},\"mode\":\"lines+markers\",\"name\":\"MacFusProb_1024mpi_1omp\",\"x\":[1572864000.0,1966080000.0,2359296000.0,2752512000.0,3145728000.0,3932160000.0],\"y\":[494.82368,456.36096,426.65472,401.9072,375.56352,361.18912],\"type\":\"scatter\"},{\"line\":{\"color\":\"magenta\",\"width\":3},\"marker\":{\"line\":{\"color\":\"yellow\",\"width\":1},\"size\":9,\"symbol\":\"hexagon\"},\"mode\":\"lines+markers\",\"name\":\"MacFusNonProb_1024mpi_1omp\",\"x\":[1572864000.0,1966080000.0,2359296000.0,2752512000.0,3145728000.0,3538944000.0,3932160000.0],\"y\":[475.78496,437.50016,411.70816,396.82176,378.57536,372.04224,364.28288],\"type\":\"scatter\"},{\"line\":{\"color\":\"royalblue\",\"width\":3},\"marker\":{\"line\":{\"color\":\"MediumPurple\",\"width\":2},\"size\":5,\"symbol\":\"diamond\"},\"mode\":\"lines+markers\",\"name\":\"MacFusProb_512mpi_2omp\",\"x\":[786432000.0,983040000.0,1179648000.0,1376256000.0,1572864000.0,1769472000.0,1966080000.0,2162688000.0,2359296000.0,2555904000.0,2752512000.0,2949120000.0,3145728000.0,3538944000.0,3735552000.0,3932160000.0],\"y\":[443.14048,548.51264,565.37024,494.1376,534.4448,508.72,477.12128,473.29152,456.4,440.78208,395.21792,415.94688,393.96864,392.62976,380.528,374.02176],\"type\":\"scatter\"},{\"line\":{\"color\":\"sandybrown\",\"width\":3},\"marker\":{\"line\":{\"color\":\"MediumPurple\",\"width\":2},\"size\":5,\"symbol\":\"diamond\"},\"mode\":\"lines+markers\",\"name\":\"MacFusNonProb_512mpi_2omp\",\"x\":[786432000.0,983040000.0,1179648000.0,1376256000.0,1572864000.0,1769472000.0,1966080000.0,2162688000.0,2359296000.0,2555904000.0,2752512000.0,2949120000.0,3145728000.0,3342336000.0,3538944000.0,3735552000.0,3932160000.0],\"y\":[422.28736,411.056,554.59264,534.90368,525.7472,491.10784,448.1824,464.544,421.50016,428.67776,426.9568,414.09856,395.14944,403.95072,375.07328,380.15168,374.93504],\"type\":\"scatter\"},{\"line\":{\"color\":\"darkblue\",\"width\":3},\"marker\":{\"line\":{\"color\":\"tomato\",\"width\":2},\"size\":7,\"symbol\":\"circle\"},\"mode\":\"lines+markers\",\"name\":\"MacFusProb_256mpi_4omp\",\"x\":[589824000.0,688128000.0,786432000.0,884736000.0,983040000.0,1081344000.0,1179648000.0,1277952000.0,1376256000.0,1474560000.0,1572864000.0,1671168000.0,1769472000.0,1867776000.0,1966080000.0,2064384000.0,2162688000.0,2260992000.0,2359296000.0,2457600000.0,2555904000.0,2654208000.0,2752512000.0,2850816000.0,2949120000.0,3047424000.0,3145728000.0,3244032000.0,3342336000.0,3440640000.0,3538944000.0,3637248000.0,3735552000.0,3833856000.0,3932160000.0],\"y\":[410.7808,410.7872,450.0256,478.9504,522.7104,498.624,555.7184,553.296,520.9952,539.1456,507.6896,480.9536,486.9888,490.8352,476.8064,468.7616,461.0016,441.5456,449.6128,410.0768,433.5552,425.8592,401.4624,406.3392,409.3536,405.3856,395.936,398.8224,392.976,382.1824,384.5216,382.9824,378.8384,371.0912,373.2896],\"type\":\"scatter\"},{\"line\":{\"color\":\"cyan\",\"width\":3},\"marker\":{\"line\":{\"color\":\"Purple\",\"width\":2},\"size\":7,\"symbol\":\"circle\"},\"mode\":\"lines+markers\",\"name\":\"MacFusNonProb_256mpi_4omp\",\"x\":[589824000.0,688128000.0,786432000.0,884736000.0,983040000.0,1081344000.0,1179648000.0,1277952000.0,1376256000.0,1474560000.0,1572864000.0,1671168000.0,1769472000.0,1867776000.0,1966080000.0,2064384000.0,2162688000.0,2260992000.0,2359296000.0,2457600000.0,2555904000.0,2654208000.0,2752512000.0,2850816000.0,2949120000.0,3047424000.0,3145728000.0,3244032000.0,3342336000.0,3440640000.0,3538944000.0,3637248000.0,3735552000.0,3833856000.0,3932160000.0],\"y\":[393.3088,416.0992,440.256,468.7808,472.8288,428.5504,421.5424,550.256,535.3408,533.0624,514.544,506.8448,498.7872,440.2912,467.1488,471.0112,457.6096,394.56,434.0224,427.7536,434.528,425.0112,420.5056,388.16,380.0064,404.7648,400.7264,402.7136,401.9296,394.0512,392.8096,389.6384,384.7488,360.1184,341.5808],\"type\":\"scatter\"},{\"line\":{\"color\":\"blue\",\"width\":3},\"marker\":{\"line\":{\"color\":\"black\",\"width\":1},\"size\":7,\"symbol\":\"star\"},\"mode\":\"lines+markers\",\"name\":\"MacFusProb_128mpi_8omp\",\"x\":[540672000.0,589824000.0,638976000.0,688128000.0,737280000.0,786432000.0,835584000.0,884736000.0,933888000.0,983040000.0,1032192000.0,1081344000.0,1130496000.0,1179648000.0,1228800000.0,1277952000.0,1327104000.0,1376256000.0,1425408000.0,1474560000.0,1523712000.0,1572864000.0,1622016000.0,1671168000.0,1720320000.0,1769472000.0,1818624000.0,1867776000.0,1916928000.0,1966080000.0,2015232000.0,2064384000.0,2113536000.0,2162688000.0,2211840000.0,2260992000.0,2310144000.0,2359296000.0,2408448000.0,2457600000.0,2506752000.0,2555904000.0,2605056000.0,2654208000.0,2703360000.0,2752512000.0,2801664000.0,2850816000.0,2899968000.0,2949120000.0,2998272000.0,3047424000.0,3096576000.0,3145728000.0,3194880000.0,3244032000.0,3293184000.0,3342336000.0,3391488000.0,3440640000.0,3489792000.0,3538944000.0,3588096000.0,3637248000.0,3686400000.0,3735552000.0,3784704000.0,3833856000.0,3883008000.0,3932160000.0],\"y\":[392.8144,399.616,413.9056,439.2352,468.1712,471.1904,450.8112,499.5296,482.5616,503.2,512.128,507.1104,462.6912,454.4928,445.6,395.0752,465.7808,508.992,461.2288,488.4976,482.2816,468.3392,478.6272,480.312,415.4688,462.9024,456.0416,437.9712,441.096,437.7856,438.8528,432.4128,398.1856,426.064,419.9872,413.6032,406.7536,407.6816,375.912,405.3904,364.5056,396.6192,395.496,388.488,391.3792,371.672,381.7792,381.792,378.9392,377.7984,349.9984,350.2112,339.4208,350.2096,363.3136,368.264,368.712,366.3408,361.9984,361.0448,359.2288,357.048,345.9008,350.2112,352.0624,340.1088,351.9744,350.7952,351.8032,342.0288],\"type\":\"scatter\"},{\"line\":{\"color\":\"red\",\"width\":3},\"marker\":{\"line\":{\"color\":\"black\",\"width\":1},\"size\":7,\"symbol\":\"star\"},\"mode\":\"lines+markers\",\"name\":\"MacFusNonProb_128mpi_8omp\",\"x\":[540672000.0,589824000.0,638976000.0,688128000.0,737280000.0,786432000.0,835584000.0,884736000.0,933888000.0,983040000.0,1032192000.0,1081344000.0,1130496000.0,1179648000.0,1228800000.0,1277952000.0,1327104000.0,1376256000.0,1425408000.0,1474560000.0,1523712000.0,1572864000.0,1622016000.0,1671168000.0,1720320000.0,1769472000.0,1818624000.0,1867776000.0,1916928000.0,1966080000.0,2015232000.0,2064384000.0,2113536000.0,2162688000.0,2211840000.0,2260992000.0,2310144000.0,2359296000.0,2408448000.0,2457600000.0,2506752000.0,2555904000.0,2605056000.0,2654208000.0,2703360000.0,2752512000.0,2801664000.0,2899968000.0,2949120000.0,2998272000.0,3047424000.0,3096576000.0,3145728000.0,3194880000.0,3244032000.0,3293184000.0,3342336000.0,3391488000.0,3440640000.0,3489792000.0,3538944000.0,3588096000.0,3637248000.0,3686400000.0,3735552000.0,3833856000.0,3883008000.0,3932160000.0],\"y\":[340.0848,383.816,359.968,393.9168,408.2528,435.8896,446.744,452.1856,460.744,444.3264,444.6176,462.7248,447.92,424.1456,356.4864,402.0928,512.664,498.2608,503.4704,461.9568,485.7664,484.9744,468.7936,479.0336,471.0096,415.6512,468.9824,459.8144,453.4416,442.8832,448.608,444.1952,440.728,398.4352,427.2544,416.696,407.6144,422.6416,408.5632,417.6208,409.072,357.3552,385.3488,401.7616,390.8832,401.0976,352.1344,367.1328,363.056,360.44,356.4528,382.3024,384.5008,377.1888,377.6576,350.8816,374.1552,372.0544,365.2672,353.9664,347.5088,365.7056,364.4672,348.6464,360.2928,358.4976,357.6208,355.1792],\"type\":\"scatter\"},{\"line\":{\"color\":\"chartreuse\",\"width\":3},\"marker\":{\"line\":{\"color\":\"mediumvioletred\",\"width\":1},\"size\":6,\"symbol\":\"square-dot\"},\"mode\":\"lines+markers\",\"name\":\"MacFusProb_64mpi_16omp\",\"x\":[516096000.0,540672000.0,565248000.0,589824000.0,614400000.0,638976000.0,663552000.0,688128000.0,712704000.0,737280000.0,761856000.0,786432000.0,811008000.0,835584000.0,860160000.0,884736000.0,909312000.0,933888000.0,958464000.0,983040000.0,1007616000.0,1032192000.0,1056768000.0,1081344000.0,1105920000.0,1130496000.0,1155072000.0,1179648000.0,1204224000.0,1228800000.0,1253376000.0,1277952000.0,1302528000.0,1327104000.0,1351680000.0,1376256000.0,1400832000.0,1425408000.0,1449984000.0,1474560000.0,1499136000.0,1523712000.0,1548288000.0,1572864000.0,1597440000.0,1622016000.0,1646592000.0,1671168000.0,1695744000.0,1720320000.0,1744896000.0,1769472000.0,1794048000.0,1818624000.0,1843200000.0,1867776000.0,1892352000.0,1916928000.0,1941504000.0,1966080000.0,1990656000.0,2015232000.0,2039808000.0,2064384000.0,2088960000.0,2113536000.0,2138112000.0,2162688000.0,2187264000.0,2211840000.0,2236416000.0,2260992000.0,2285568000.0,2310144000.0,2334720000.0,2359296000.0,2383872000.0,2408448000.0,2433024000.0,2457600000.0,2482176000.0,2506752000.0,2531328000.0,2555904000.0,2580480000.0,2605056000.0,2629632000.0,2654208000.0,2678784000.0,2703360000.0,2727936000.0,2752512000.0,2777088000.0,2801664000.0,2826240000.0,2850816000.0,2875392000.0,2899968000.0,2924544000.0,2949120000.0,2973696000.0,2998272000.0,3022848000.0,3047424000.0,3072000000.0,3096576000.0,3121152000.0,3145728000.0,3170304000.0,3194880000.0,3219456000.0,3244032000.0,3293184000.0,3317760000.0,3342336000.0,3366912000.0,3391488000.0,3416064000.0,3440640000.0,3465216000.0,3489792000.0,3514368000.0,3563520000.0,3588096000.0,3612672000.0,3637248000.0,3661824000.0,3686400000.0,3735552000.0,3760128000.0,3784704000.0,3809280000.0,3833856000.0,3858432000.0,3883008000.0,3907584000.0,3932160000.0],\"y\":[318.5264,343.4216,339.676,366.7984,358.3688,380.3464,328.4832,395.3872,330.9416,388.0328,387.3088,404.6968,359.5352,388.6456,377.6112,379.6816,326.3976,355.3592,324.9472,376.7008,302.3552,335.5064,318.8048,330.0184,304.904,294.0304,385.9216,309.096,329.5376,378.4232,336.7616,364.2176,353.8064,346.9744,357.4464,345.7536,313.7496,328.6496,353.7096,322.1824,336.5608,344.9576,332.1624,332.6064,337.4288,329.244,337.7128,332.5608,326.124,329.3208,315.376,325.2856,323.5,326.1072,322.1376,299.8912,319.5624,313.2576,314.9192,312.0832,289.664,310.1352,310.6384,305.1816,305.7648,300.3584,292.7312,279.76,298.452,296.5808,290.5336,295.9064,295.5048,293.8888,289.0024,288.9512,267.8952,271.072,281.8264,280.4184,270.648,283.536,262.848,272.008,280.092,282.3712,278.6808,283.6032,278.332,278.6536,276.256,278.0936,277.4856,252.7056,263.4984,275.1944,274.612,258.9488,269.9728,259.3512,269.7616,270.8552,271.0856,250.3392,269.192,265.656,266.6304,271.3336,249.3736,264.924,267.304,262.5904,263.3464,262.8488,257.4576,261.4344,261.8736,259.8904,259.5808,255.716,258.6072,259.0976,257.5368,252.9184,256.8248,253.9488,256.3928,253.9504,253.8424,256.7936,247.3568,251.9848,253.8488,252.244,244.5104,247.316,247.332],\"type\":\"scatter\"},{\"line\":{\"color\":\"black\",\"width\":3},\"marker\":{\"line\":{\"color\":\"mediumvioletred\",\"width\":1},\"size\":6,\"symbol\":\"square-dot\"},\"mode\":\"lines+markers\",\"name\":\"MacFusNonProb_64mpi_16omp\",\"x\":[516096000.0,540672000.0,565248000.0,589824000.0,614400000.0,638976000.0,663552000.0,688128000.0,712704000.0,737280000.0,761856000.0,786432000.0,811008000.0,835584000.0,860160000.0,884736000.0,909312000.0,933888000.0,958464000.0,983040000.0,1007616000.0,1032192000.0,1056768000.0,1081344000.0,1105920000.0,1130496000.0,1155072000.0,1179648000.0,1204224000.0,1228800000.0,1253376000.0,1277952000.0,1302528000.0,1327104000.0,1351680000.0,1376256000.0,1400832000.0,1425408000.0,1449984000.0,1474560000.0,1499136000.0,1523712000.0,1548288000.0,1572864000.0,1597440000.0,1622016000.0,1646592000.0,1671168000.0,1695744000.0,1720320000.0,1744896000.0,1769472000.0,1794048000.0,1818624000.0,1843200000.0,1867776000.0,1892352000.0,1916928000.0,1941504000.0,1966080000.0,1990656000.0,2015232000.0,2039808000.0,2064384000.0,2088960000.0,2113536000.0,2138112000.0,2162688000.0,2187264000.0,2211840000.0,2236416000.0,2260992000.0,2285568000.0,2310144000.0,2334720000.0,2359296000.0,2383872000.0,2408448000.0,2433024000.0,2457600000.0,2482176000.0,2506752000.0,2531328000.0,2555904000.0,2580480000.0,2605056000.0,2629632000.0,2654208000.0,2678784000.0,2703360000.0,2727936000.0,2752512000.0,2777088000.0,2801664000.0,2826240000.0,2850816000.0,2875392000.0,2899968000.0,2924544000.0,2949120000.0,2973696000.0,2998272000.0,3022848000.0,3047424000.0,3072000000.0,3096576000.0,3121152000.0,3145728000.0,3170304000.0,3194880000.0,3219456000.0,3244032000.0,3268608000.0,3293184000.0,3317760000.0,3342336000.0,3366912000.0,3391488000.0,3416064000.0,3440640000.0,3465216000.0,3489792000.0,3514368000.0,3538944000.0,3563520000.0,3588096000.0,3612672000.0,3637248000.0,3661824000.0,3686400000.0,3710976000.0,3735552000.0,3760128000.0,3784704000.0,3809280000.0,3833856000.0,3858432000.0,3883008000.0,3907584000.0,3932160000.0],\"y\":[286.5768,313.272,328.6784,330.26,343.5656,342.3824,336.3536,334.5328,359.8024,363.5976,318.2776,361.144,345.3184,360.196,347.972,348.968,342.712,345.3752,332.328,327.184,324.5088,366.0256,316.1832,312.9192,269.7224,364.0192,303.3384,333.0968,314.32,359.272,380.5424,360.2,381.9512,367.2136,327.3632,357.2272,369.3352,359.7832,347.8784,367.576,344.5336,321.9904,357.912,302.1744,341.5,312.056,348.7688,349.1096,333.428,343.2232,347.1216,346.6584,321.1456,308.9432,339.6096,326.2208,330.9976,337.04,300.7216,304.1208,314.5328,329.1216,326.0712,327.1224,317.6752,322.608,288.1744,309.1752,323.0832,304.6032,319.208,313.5744,291.3848,281.312,317.352,305.7736,303.7888,309.9248,312.6976,311.5712,303.1248,300.5816,304.9688,296.6208,301.9632,293.4672,296.2552,294.5848,301.1288,282.0912,285.2296,297.84,293.8816,288.3776,296.96,280.2032,297.0008,293.5656,283.6976,292.2176,283.8144,290.8496,289.4496,279.7624,286.308,282.6688,284.8792,284.6992,278.4544,283.2624,274.1832,267.5704,283.9552,281.6552,280.2336,278.5288,279.5808,279.56,275.2872,278.8016,279.396,277.844,273.7144,277.1936,274.8352,269.0984,275.4304,275.8976,274.1208,274.5768,272.828,273.164,273.7864,271.7984,260.0248,270.8024,271.66,254.4712,265.7024,270.4792],\"type\":\"scatter\"},{\"line\":{\"color\":\"gold\",\"width\":3},\"marker\":{\"line\":{\"color\":\"black\",\"width\":1},\"size\":6,\"symbol\":\"triangle-up\"},\"mode\":\"lines+markers\",\"name\":\"MacFusProb_168mpi_6omp\",\"x\":[516096000.0,645120000.0,774144000.0,903168000.0,1032192000.0,1161216000.0,1290240000.0,1419264000.0,1548288000.0,1677312000.0,1806336000.0,1935360000.0,2064384000.0,2193408000.0,2322432000.0,2451456000.0,2580480000.0,2709504000.0,2838528000.0,2967552000.0,3096576000.0,3354624000.0,3483648000.0,3741696000.0,3870720000.0],\"y\":[284.5311,303.7482,444.05549999999994,473.6508,467.6679,446.9808,441.1407,423.423,389.47860000000003,389.3064,351.0339,341.78340000000003,346.2165,322.0287,336.9996,309.8109,298.4667,319.0992,301.7784,296.59979999999996,287.5551,295.54560000000004,288.6954,289.2939,285.2724],\"type\":\"scatter\"},{\"line\":{\"color\":\"dimgray\",\"width\":3},\"marker\":{\"line\":{\"color\":\"black\",\"width\":1},\"size\":6,\"symbol\":\"triangle-up\"},\"mode\":\"lines+markers\",\"name\":\"MacFusNonProb_168mpi_6omp\",\"x\":[516096000.0,645120000.0,774144000.0,903168000.0,1032192000.0,1161216000.0,1290240000.0,1419264000.0,1548288000.0,1677312000.0,1935360000.0,2064384000.0,2193408000.0,2322432000.0,2451456000.0,2580480000.0,2709504000.0,2838528000.0,2967552000.0,3096576000.0,3225600000.0,3354624000.0,3483648000.0,3612672000.0,3741696000.0,3870720000.0],\"y\":[292.4775,291.5115,457.82520000000005,479.94450000000006,474.95910000000003,463.16549999999995,447.6885,431.1741,409.0632,376.9752,353.1759,343.27439999999996,330.5274,329.0679,311.7072,298.2,300.7452,305.0439,298.8027,280.3374,302.1207,289.5333,292.4796,290.60220000000004,291.1797,288.4056],\"type\":\"scatter\"},{\"line\":{\"color\":\"olive\",\"width\":3},\"marker\":{\"line\":{\"color\":\"olive\",\"width\":2},\"size\":6,\"symbol\":\"circle\"},\"mode\":\"lines+markers\",\"name\":\"MacFusProb_504mpi_2omp\",\"x\":[774144000.0,1161216000.0,1548288000.0,1935360000.0,2322432000.0,2709504000.0,3096576000.0,3483648000.0,3870720000.0],\"y\":[546.588,543.70638,514.89144,475.69788,442.83519,415.03455,399.04578,381.44484,366.86601],\"type\":\"scatter\"},{\"line\":{\"color\":\"Brown\",\"width\":3},\"marker\":{\"line\":{\"color\":\"darkred\",\"width\":2},\"size\":6,\"symbol\":\"circle\"},\"mode\":\"lines+markers\",\"name\":\"MacFusNonProb_504mpi_2omp\",\"x\":[774144000.0,1161216000.0,1548288000.0,1935360000.0,2322432000.0,2709504000.0,3096576000.0,3483648000.0,3870720000.0],\"y\":[537.68232,545.93154,500.16645,469.95101999999997,438.86682,416.50686,398.22426,386.48232,373.96737],\"type\":\"scatter\"}],                        {\"template\":{\"data\":{\"histogram2dcontour\":[{\"type\":\"histogram2dcontour\",\"colorbar\":{\"outlinewidth\":0,\"ticks\":\"\"},\"colorscale\":[[0.0,\"#0d0887\"],[0.1111111111111111,\"#46039f\"],[0.2222222222222222,\"#7201a8\"],[0.3333333333333333,\"#9c179e\"],[0.4444444444444444,\"#bd3786\"],[0.5555555555555556,\"#d8576b\"],[0.6666666666666666,\"#ed7953\"],[0.7777777777777778,\"#fb9f3a\"],[0.8888888888888888,\"#fdca26\"],[1.0,\"#f0f921\"]]}],\"choropleth\":[{\"type\":\"choropleth\",\"colorbar\":{\"outlinewidth\":0,\"ticks\":\"\"}}],\"histogram2d\":[{\"type\":\"histogram2d\",\"colorbar\":{\"outlinewidth\":0,\"ticks\":\"\"},\"colorscale\":[[0.0,\"#0d0887\"],[0.1111111111111111,\"#46039f\"],[0.2222222222222222,\"#7201a8\"],[0.3333333333333333,\"#9c179e\"],[0.4444444444444444,\"#bd3786\"],[0.5555555555555556,\"#d8576b\"],[0.6666666666666666,\"#ed7953\"],[0.7777777777777778,\"#fb9f3a\"],[0.8888888888888888,\"#fdca26\"],[1.0,\"#f0f921\"]]}],\"heatmap\":[{\"type\":\"heatmap\",\"colorbar\":{\"outlinewidth\":0,\"ticks\":\"\"},\"colorscale\":[[0.0,\"#0d0887\"],[0.1111111111111111,\"#46039f\"],[0.2222222222222222,\"#7201a8\"],[0.3333333333333333,\"#9c179e\"],[0.4444444444444444,\"#bd3786\"],[0.5555555555555556,\"#d8576b\"],[0.6666666666666666,\"#ed7953\"],[0.7777777777777778,\"#fb9f3a\"],[0.8888888888888888,\"#fdca26\"],[1.0,\"#f0f921\"]]}],\"heatmapgl\":[{\"type\":\"heatmapgl\",\"colorbar\":{\"outlinewidth\":0,\"ticks\":\"\"},\"colorscale\":[[0.0,\"#0d0887\"],[0.1111111111111111,\"#46039f\"],[0.2222222222222222,\"#7201a8\"],[0.3333333333333333,\"#9c179e\"],[0.4444444444444444,\"#bd3786\"],[0.5555555555555556,\"#d8576b\"],[0.6666666666666666,\"#ed7953\"],[0.7777777777777778,\"#fb9f3a\"],[0.8888888888888888,\"#fdca26\"],[1.0,\"#f0f921\"]]}],\"contourcarpet\":[{\"type\":\"contourcarpet\",\"colorbar\":{\"outlinewidth\":0,\"ticks\":\"\"}}],\"contour\":[{\"type\":\"contour\",\"colorbar\":{\"outlinewidth\":0,\"ticks\":\"\"},\"colorscale\":[[0.0,\"#0d0887\"],[0.1111111111111111,\"#46039f\"],[0.2222222222222222,\"#7201a8\"],[0.3333333333333333,\"#9c179e\"],[0.4444444444444444,\"#bd3786\"],[0.5555555555555556,\"#d8576b\"],[0.6666666666666666,\"#ed7953\"],[0.7777777777777778,\"#fb9f3a\"],[0.8888888888888888,\"#fdca26\"],[1.0,\"#f0f921\"]]}],\"surface\":[{\"type\":\"surface\",\"colorbar\":{\"outlinewidth\":0,\"ticks\":\"\"},\"colorscale\":[[0.0,\"#0d0887\"],[0.1111111111111111,\"#46039f\"],[0.2222222222222222,\"#7201a8\"],[0.3333333333333333,\"#9c179e\"],[0.4444444444444444,\"#bd3786\"],[0.5555555555555556,\"#d8576b\"],[0.6666666666666666,\"#ed7953\"],[0.7777777777777778,\"#fb9f3a\"],[0.8888888888888888,\"#fdca26\"],[1.0,\"#f0f921\"]]}],\"mesh3d\":[{\"type\":\"mesh3d\",\"colorbar\":{\"outlinewidth\":0,\"ticks\":\"\"}}],\"scatter\":[{\"fillpattern\":{\"fillmode\":\"overlay\",\"size\":10,\"solidity\":0.2},\"type\":\"scatter\"}],\"parcoords\":[{\"type\":\"parcoords\",\"line\":{\"colorbar\":{\"outlinewidth\":0,\"ticks\":\"\"}}}],\"scatterpolargl\":[{\"type\":\"scatterpolargl\",\"marker\":{\"colorbar\":{\"outlinewidth\":0,\"ticks\":\"\"}}}],\"bar\":[{\"error_x\":{\"color\":\"#2a3f5f\"},\"error_y\":{\"color\":\"#2a3f5f\"},\"marker\":{\"line\":{\"color\":\"#E5ECF6\",\"width\":0.5},\"pattern\":{\"fillmode\":\"overlay\",\"size\":10,\"solidity\":0.2}},\"type\":\"bar\"}],\"scattergeo\":[{\"type\":\"scattergeo\",\"marker\":{\"colorbar\":{\"outlinewidth\":0,\"ticks\":\"\"}}}],\"scatterpolar\":[{\"type\":\"scatterpolar\",\"marker\":{\"colorbar\":{\"outlinewidth\":0,\"ticks\":\"\"}}}],\"histogram\":[{\"marker\":{\"pattern\":{\"fillmode\":\"overlay\",\"size\":10,\"solidity\":0.2}},\"type\":\"histogram\"}],\"scattergl\":[{\"type\":\"scattergl\",\"marker\":{\"colorbar\":{\"outlinewidth\":0,\"ticks\":\"\"}}}],\"scatter3d\":[{\"type\":\"scatter3d\",\"line\":{\"colorbar\":{\"outlinewidth\":0,\"ticks\":\"\"}},\"marker\":{\"colorbar\":{\"outlinewidth\":0,\"ticks\":\"\"}}}],\"scattermapbox\":[{\"type\":\"scattermapbox\",\"marker\":{\"colorbar\":{\"outlinewidth\":0,\"ticks\":\"\"}}}],\"scatterternary\":[{\"type\":\"scatterternary\",\"marker\":{\"colorbar\":{\"outlinewidth\":0,\"ticks\":\"\"}}}],\"scattercarpet\":[{\"type\":\"scattercarpet\",\"marker\":{\"colorbar\":{\"outlinewidth\":0,\"ticks\":\"\"}}}],\"carpet\":[{\"aaxis\":{\"endlinecolor\":\"#2a3f5f\",\"gridcolor\":\"white\",\"linecolor\":\"white\",\"minorgridcolor\":\"white\",\"startlinecolor\":\"#2a3f5f\"},\"baxis\":{\"endlinecolor\":\"#2a3f5f\",\"gridcolor\":\"white\",\"linecolor\":\"white\",\"minorgridcolor\":\"white\",\"startlinecolor\":\"#2a3f5f\"},\"type\":\"carpet\"}],\"table\":[{\"cells\":{\"fill\":{\"color\":\"#EBF0F8\"},\"line\":{\"color\":\"white\"}},\"header\":{\"fill\":{\"color\":\"#C8D4E3\"},\"line\":{\"color\":\"white\"}},\"type\":\"table\"}],\"barpolar\":[{\"marker\":{\"line\":{\"color\":\"#E5ECF6\",\"width\":0.5},\"pattern\":{\"fillmode\":\"overlay\",\"size\":10,\"solidity\":0.2}},\"type\":\"barpolar\"}],\"pie\":[{\"automargin\":true,\"type\":\"pie\"}]},\"layout\":{\"autotypenumbers\":\"strict\",\"colorway\":[\"#636efa\",\"#EF553B\",\"#00cc96\",\"#ab63fa\",\"#FFA15A\",\"#19d3f3\",\"#FF6692\",\"#B6E880\",\"#FF97FF\",\"#FECB52\"],\"font\":{\"color\":\"#2a3f5f\"},\"hovermode\":\"closest\",\"hoverlabel\":{\"align\":\"left\"},\"paper_bgcolor\":\"white\",\"plot_bgcolor\":\"#E5ECF6\",\"polar\":{\"bgcolor\":\"#E5ECF6\",\"angularaxis\":{\"gridcolor\":\"white\",\"linecolor\":\"white\",\"ticks\":\"\"},\"radialaxis\":{\"gridcolor\":\"white\",\"linecolor\":\"white\",\"ticks\":\"\"}},\"ternary\":{\"bgcolor\":\"#E5ECF6\",\"aaxis\":{\"gridcolor\":\"white\",\"linecolor\":\"white\",\"ticks\":\"\"},\"baxis\":{\"gridcolor\":\"white\",\"linecolor\":\"white\",\"ticks\":\"\"},\"caxis\":{\"gridcolor\":\"white\",\"linecolor\":\"white\",\"ticks\":\"\"}},\"coloraxis\":{\"colorbar\":{\"outlinewidth\":0,\"ticks\":\"\"}},\"colorscale\":{\"sequential\":[[0.0,\"#0d0887\"],[0.1111111111111111,\"#46039f\"],[0.2222222222222222,\"#7201a8\"],[0.3333333333333333,\"#9c179e\"],[0.4444444444444444,\"#bd3786\"],[0.5555555555555556,\"#d8576b\"],[0.6666666666666666,\"#ed7953\"],[0.7777777777777778,\"#fb9f3a\"],[0.8888888888888888,\"#fdca26\"],[1.0,\"#f0f921\"]],\"sequentialminus\":[[0.0,\"#0d0887\"],[0.1111111111111111,\"#46039f\"],[0.2222222222222222,\"#7201a8\"],[0.3333333333333333,\"#9c179e\"],[0.4444444444444444,\"#bd3786\"],[0.5555555555555556,\"#d8576b\"],[0.6666666666666666,\"#ed7953\"],[0.7777777777777778,\"#fb9f3a\"],[0.8888888888888888,\"#fdca26\"],[1.0,\"#f0f921\"]],\"diverging\":[[0,\"#8e0152\"],[0.1,\"#c51b7d\"],[0.2,\"#de77ae\"],[0.3,\"#f1b6da\"],[0.4,\"#fde0ef\"],[0.5,\"#f7f7f7\"],[0.6,\"#e6f5d0\"],[0.7,\"#b8e186\"],[0.8,\"#7fbc41\"],[0.9,\"#4d9221\"],[1,\"#276419\"]]},\"xaxis\":{\"gridcolor\":\"white\",\"linecolor\":\"white\",\"ticks\":\"\",\"title\":{\"standoff\":15},\"zerolinecolor\":\"white\",\"automargin\":true,\"zerolinewidth\":2},\"yaxis\":{\"gridcolor\":\"white\",\"linecolor\":\"white\",\"ticks\":\"\",\"title\":{\"standoff\":15},\"zerolinecolor\":\"white\",\"automargin\":true,\"zerolinewidth\":2},\"scene\":{\"xaxis\":{\"backgroundcolor\":\"#E5ECF6\",\"gridcolor\":\"white\",\"linecolor\":\"white\",\"showbackground\":true,\"ticks\":\"\",\"zerolinecolor\":\"white\",\"gridwidth\":2},\"yaxis\":{\"backgroundcolor\":\"#E5ECF6\",\"gridcolor\":\"white\",\"linecolor\":\"white\",\"showbackground\":true,\"ticks\":\"\",\"zerolinecolor\":\"white\",\"gridwidth\":2},\"zaxis\":{\"backgroundcolor\":\"#E5ECF6\",\"gridcolor\":\"white\",\"linecolor\":\"white\",\"showbackground\":true,\"ticks\":\"\",\"zerolinecolor\":\"white\",\"gridwidth\":2}},\"shapedefaults\":{\"line\":{\"color\":\"#2a3f5f\"}},\"annotationdefaults\":{\"arrowcolor\":\"#2a3f5f\",\"arrowhead\":0,\"arrowwidth\":1},\"geo\":{\"bgcolor\":\"white\",\"landcolor\":\"#E5ECF6\",\"subunitcolor\":\"white\",\"showland\":true,\"showlakes\":true,\"lakecolor\":\"white\"},\"title\":{\"x\":0.05},\"mapbox\":{\"style\":\"light\"}}},\"shapes\":[{\"line\":{\"color\":\"green\",\"dash\":\"dot\",\"width\":3},\"type\":\"line\",\"x0\":512000000.0,\"x1\":512000000.0,\"xref\":\"x\",\"y0\":0,\"y1\":1,\"yref\":\"y domain\"},{\"line\":{\"color\":\"red\",\"dash\":\"dash\",\"width\":3},\"type\":\"line\",\"x0\":0,\"x1\":1,\"xref\":\"x domain\",\"y0\":409,\"y1\":409,\"yref\":\"y\"}],\"annotations\":[{\"align\":\"left\",\"arrowcolor\":\"#636363\",\"arrowhead\":1,\"arrowsize\":1,\"arrowwidth\":2,\"ax\":-20,\"ay\":-30,\"font\":{\"color\":\"purple\",\"family\":\"Sans Serif\",\"size\":12},\"showarrow\":false,\"text\":\"LLC Size Per Node: 512M\",\"x\":\"512e6\",\"y\":280,\"yanchor\":\"bottom\"},{\"align\":\"left\",\"arrowcolor\":\"#636363\",\"arrowhead\":1,\"arrowsize\":1,\"arrowwidth\":2,\"ax\":-20,\"ay\":-30,\"font\":{\"color\":\"orange\",\"family\":\"Sans Serif\",\"size\":12},\"showarrow\":false,\"text\":\"Max Bandwidth Per Node\",\"x\":\"130e6\",\"y\":370,\"yanchor\":\"bottom\"}],\"xaxis\":{\"title\":{\"text\":\"Dirc_Data_Mov\"},\"ticks\":\"outside\"},\"yaxis\":{\"title\":{\"text\":\"Bandwidth/Node\"},\"ticks\":\"outside\"},\"title\":{\"text\":\"\\\"Fused Macro: Probempi vs NonProbempi\\\" Bandwidth Measurement\"},\"legend\":{\"bordercolor\":\"black\",\"borderwidth\":1}},                        {\"responsive\": true}                    ).then(function(){\n",
       "                            \n",
       "var gd = document.getElementById('ffde64d4-abdd-4bd7-b4df-7f1a96e339f6');\n",
       "var x = new MutationObserver(function (mutations, observer) {{\n",
       "        var display = window.getComputedStyle(gd).display;\n",
       "        if (!display || display === 'none') {{\n",
       "            console.log([gd, 'removed!']);\n",
       "            Plotly.purge(gd);\n",
       "            observer.disconnect();\n",
       "        }}\n",
       "}});\n",
       "\n",
       "// Listen for the removal of the full notebook cells\n",
       "var notebookContainer = gd.closest('#notebook-container');\n",
       "if (notebookContainer) {{\n",
       "    x.observe(notebookContainer, {childList: true});\n",
       "}}\n",
       "\n",
       "// Listen for the clearing of the current output cell\n",
       "var outputEl = gd.closest('.output');\n",
       "if (outputEl) {{\n",
       "    x.observe(outputEl, {childList: true});\n",
       "}}\n",
       "\n",
       "                        })                };                });            </script>        </div>"
      ]
     },
     "metadata": {},
     "output_type": "display_data"
    }
   ],
   "source": [
    "fig = go.Figure() \n",
    "\n",
    "# Case 1\n",
    "fig.add_trace(go.Scatter(x=(dfn8MacFusProb_1024mpi_1omp.Dirc_Data_Mov*(dfn8MacFusProb_1024mpi_1omp.MPI_size/8)), \n",
    "                         y=(dfn8MacFusProb_1024mpi_1omp.BAND*(dfn8MacFusProb_1024mpi_1omp.MPI_size/8)), \n",
    "                         mode='lines+markers', \n",
    "                         name='MacFusProb_1024mpi_1omp',\n",
    "                         line=dict(color='darkcyan',width=3),\n",
    "                         marker=dict(symbol='hexagon',size=9, line=dict(color='yellow',width=1))))\n",
    "\n",
    "fig.add_trace(go.Scatter(x=(dfn8MacFusNonProb_1024mpi_1omp.Dirc_Data_Mov*(dfn8MacFusNonProb_1024mpi_1omp.MPI_size/8)), \n",
    "                         y=(dfn8MacFusNonProb_1024mpi_1omp.BAND*(dfn8MacFusNonProb_1024mpi_1omp.MPI_size/8)), \n",
    "                         mode='lines+markers', \n",
    "                         name='MacFusNonProb_1024mpi_1omp',\n",
    "                         line=dict(color='magenta',width=3),\n",
    "                         marker=dict(symbol='hexagon',size=9, line=dict(color='yellow',width=1))))\n",
    "\n",
    "\n",
    "# Case 2\n",
    "fig.add_trace(go.Scatter(x=(dfn8MacFusProb_512mpi_2omp.Dirc_Data_Mov*(dfn8MacFusProb_512mpi_2omp.MPI_size/8)), \n",
    "                         y=(dfn8MacFusProb_512mpi_2omp.BAND*(dfn8MacFusProb_512mpi_2omp.MPI_size/8)), \n",
    "                         mode='lines+markers', \n",
    "                         name='MacFusProb_512mpi_2omp',\n",
    "                         line=dict(color='royalblue',width=3),\n",
    "                         marker=dict(symbol='diamond',size=5,line=dict(color='MediumPurple',width=2))))\n",
    "\n",
    "fig.add_trace(go.Scatter(x=(dfn8MacFusNonProb_512mpi_2omp.Dirc_Data_Mov*(dfn8MacFusNonProb_512mpi_2omp.MPI_size/8)), \n",
    "                         y=(dfn8MacFusNonProb_512mpi_2omp.BAND*(dfn8MacFusNonProb_512mpi_2omp.MPI_size/8)), \n",
    "                         mode='lines+markers', \n",
    "                         name='MacFusNonProb_512mpi_2omp',\n",
    "                         line=dict(color='sandybrown',width=3),\n",
    "                         marker=dict(symbol='diamond',size=5,line=dict(color='MediumPurple',width=2))))\n",
    "\n",
    "\n",
    "# Case 3\n",
    "fig.add_trace(go.Scatter(x=(dfn8MacFusProb_256mpi_4omp.Dirc_Data_Mov*(dfn8MacFusProb_256mpi_4omp.MPI_size/8)), \n",
    "                         y=(dfn8MacFusProb_256mpi_4omp.BAND*(dfn8MacFusProb_256mpi_4omp.MPI_size/8)), \n",
    "                         mode='lines+markers', \n",
    "                         name='MacFusProb_256mpi_4omp',\n",
    "                         line=dict(color='darkblue',width=3),\n",
    "                         marker=dict(symbol='circle',size=7, line=dict(color='tomato',width=2))))\n",
    "\n",
    "fig.add_trace(go.Scatter(x=(dfn8MacFusNonProb_256mpi_4omp.Dirc_Data_Mov*(dfn8MacFusNonProb_256mpi_4omp.MPI_size/8)), \n",
    "                         y=(dfn8MacFusNonProb_256mpi_4omp.BAND*(dfn8MacFusNonProb_256mpi_4omp.MPI_size/8)), \n",
    "                         mode='lines+markers', \n",
    "                         name='MacFusNonProb_256mpi_4omp',\n",
    "                         line=dict(color='cyan',width=3),\n",
    "                         marker=dict(symbol='circle',size=7,line=dict(color='Purple',width=2))))\n",
    "\n",
    "\n",
    "\n",
    "# Case 4\n",
    "fig.add_trace(go.Scatter(x=(dfn8MacFusProb_128mpi_8omp.Dirc_Data_Mov*(dfn8MacFusProb_128mpi_8omp.MPI_size/8)), \n",
    "                         y=(dfn8MacFusProb_128mpi_8omp.BAND*(dfn8MacFusProb_128mpi_8omp.MPI_size/8)), \n",
    "                         mode='lines+markers', \n",
    "                         name='MacFusProb_128mpi_8omp',\n",
    "                         line=dict(color='blue',width=3),\n",
    "                         marker=dict(symbol='star',size=7, line=dict(color='black',width=1))))\n",
    "\n",
    "fig.add_trace(go.Scatter(x=(dfn8MacFusNonProb_128mpi_8omp.Dirc_Data_Mov*(dfn8MacFusNonProb_128mpi_8omp.MPI_size/8)), \n",
    "                         y=(dfn8MacFusNonProb_128mpi_8omp.BAND*(dfn8MacFusNonProb_128mpi_8omp.MPI_size/8)), \n",
    "                         mode='lines+markers', \n",
    "                         name='MacFusNonProb_128mpi_8omp',\n",
    "                         line=dict(color='red',width=3),\n",
    "                         marker=dict(symbol='star',size=7, line=dict(color='black',width=1))))\n",
    "\n",
    "\n",
    "# Case 5\n",
    "fig.add_trace(go.Scatter(x=(dfn8MacFusProb_64mpi_16omp.Dirc_Data_Mov*(dfn8MacFusProb_64mpi_16omp.MPI_size/8)), \n",
    "                         y=(dfn8MacFusProb_64mpi_16omp.BAND*(dfn8MacFusProb_64mpi_16omp.MPI_size/8)), \n",
    "                         mode='lines+markers', \n",
    "                         name='MacFusProb_64mpi_16omp',\n",
    "                         line=dict(color='chartreuse',width=3),\n",
    "                         marker=dict(symbol='square-dot',size=6, line=dict(color='mediumvioletred',width=1))))\n",
    "\n",
    "fig.add_trace(go.Scatter(x=(dfn8MacFusNonProb_64mpi_16omp.Dirc_Data_Mov*(dfn8MacFusNonProb_64mpi_16omp.MPI_size/8)), \n",
    "                         y=(dfn8MacFusNonProb_64mpi_16omp.BAND*(dfn8MacFusNonProb_64mpi_16omp.MPI_size/8)), \n",
    "                         mode='lines+markers', \n",
    "                         name='MacFusNonProb_64mpi_16omp',\n",
    "                         line=dict(color='black',width=3),\n",
    "                         marker=dict(symbol='square-dot',size=6, line=dict(color='mediumvioletred',width=1))))\n",
    "\n",
    "\n",
    "# Case 6\n",
    "fig.add_trace(go.Scatter(x=(dfn8MacFusProb_168mpi_6omp.Dirc_Data_Mov*(dfn8MacFusProb_168mpi_6omp.MPI_size/8)), \n",
    "                         y=(dfn8MacFusProb_168mpi_6omp.BAND*(dfn8MacFusProb_168mpi_6omp.MPI_size/8)), \n",
    "                         mode='lines+markers', \n",
    "                         name='MacFusProb_168mpi_6omp',\n",
    "                         line=dict(color='gold',width=3),\n",
    "                         marker=dict(symbol='triangle-up',size=6, line=dict(color='black',width=1))))\n",
    "\n",
    "fig.add_trace(go.Scatter(x=(dfn8MacFusNonProb_168mpi_6omp.Dirc_Data_Mov*(dfn8MacFusNonProb_168mpi_6omp.MPI_size/8)), \n",
    "                         y=(dfn8MacFusNonProb_168mpi_6omp.BAND*(dfn8MacFusNonProb_168mpi_6omp.MPI_size/8)), \n",
    "                         mode='lines+markers', \n",
    "                         name='MacFusNonProb_168mpi_6omp',\n",
    "                         line=dict(color='dimgray',width=3),\n",
    "                         marker=dict(symbol='triangle-up',size=6, line=dict(color='black',width=1))))\n",
    "\n",
    "\n",
    "\n",
    "# Case 7\n",
    "fig.add_trace(go.Scatter(x=(dfn8MacFusProb_504mpi_2omp.Dirc_Data_Mov*(dfn8MacFusProb_504mpi_2omp.MPI_size/8)), \n",
    "                         y=(dfn8MacFusProb_504mpi_2omp.BAND*(dfn8MacFusProb_504mpi_2omp.MPI_size/8)), \n",
    "                         mode='lines+markers', \n",
    "                         name='MacFusProb_504mpi_2omp',\n",
    "                         line=dict(color='olive',width=3),\n",
    "                         marker=dict(symbol='circle',size=6, line=dict(color='olive',width=2))))\n",
    "\n",
    "fig.add_trace(go.Scatter(x=(dfn8MacFusNonProb_504mpi_2omp.Dirc_Data_Mov*(dfn8MacFusNonProb_504mpi_2omp.MPI_size/8)), \n",
    "                         y=(dfn8MacFusNonProb_504mpi_2omp.BAND*(dfn8MacFusNonProb_504mpi_2omp.MPI_size/8)), \n",
    "                         mode='lines+markers', \n",
    "                         name='MacFusNonProb_504mpi_2omp',\n",
    "                         line=dict(color='Brown',width=3),\n",
    "                         marker=dict(symbol='circle',size=6, line=dict(color='darkred',width=2))))\n",
    "\n",
    "# Adding vertical and horizontal lines \n",
    "fig.add_vline(x=512e6, line_width=3, line_dash=\"dot\", line_color=\"green\")\n",
    "fig.add_hline(y=409, line_width=3, line_dash=\"dash\", line_color=\"red\")\n",
    "\n",
    "# Add annotation with arrow\n",
    "fig.add_annotation(\n",
    "    x='512e6'\n",
    "    , y=280\n",
    "    , text=f'LLC Size Per Node: 512M'\n",
    "    , yanchor='bottom'\n",
    "    , showarrow=False\n",
    "    , arrowhead=1\n",
    "    , arrowsize=1\n",
    "    , arrowwidth=2\n",
    "    , arrowcolor=\"#636363\"\n",
    "    , ax=-20\n",
    "    , ay=-30\n",
    "    , font=dict(size=12, color=\"purple\", family=\"Sans Serif\")\n",
    "    , align=\"left\"\n",
    "    ,)\n",
    "\n",
    "fig.add_annotation(\n",
    "    x='130e6'\n",
    "    , y=370\n",
    "    , text=f'Max Bandwidth Per Node'\n",
    "    , yanchor='bottom'\n",
    "    , showarrow=False\n",
    "    , arrowhead=1\n",
    "    , arrowsize=1\n",
    "    , arrowwidth=2\n",
    "    , arrowcolor=\"#636363\"\n",
    "    , ax=-20\n",
    "    , ay=-30\n",
    "    , font=dict(size=12, color=\"orange\", family=\"Sans Serif\")\n",
    "    , align=\"left\"\n",
    "    ,)\n",
    "\n",
    "\n",
    "fig.update_layout(title='\"Fused Macro: Probempi vs NonProbempi\" Bandwidth Measurement',\n",
    "                  xaxis_title='Dirc_Data_Mov', yaxis_title='Bandwidth/Node', \n",
    "                  xaxis=dict(ticks=\"outside\"),  \n",
    "                  yaxis=dict(ticks=\"outside\"),\n",
    "                  legend=go.layout.Legend(bordercolor=\"black\",borderwidth=1)) \n",
    "\n",
    "\n",
    "\n",
    "\n"
   ]
  },
  {
   "cell_type": "code",
   "execution_count": null,
   "id": "dd17cc6a",
   "metadata": {},
   "outputs": [],
   "source": []
  },
  {
   "cell_type": "markdown",
   "id": "6eca6dc0",
   "metadata": {},
   "source": [
    "## 3) Nonfused_Macro_Probempi"
   ]
  },
  {
   "cell_type": "markdown",
   "id": "75aa10f4",
   "metadata": {},
   "source": [
    "### Adding Columns"
   ]
  },
  {
   "cell_type": "code",
   "execution_count": 11,
   "id": "87885fd4",
   "metadata": {},
   "outputs": [],
   "source": [
    "dfn8_macro_nonfused_probempi[\"N_Nodes\"] = 8\n",
    "dfn8_macro_nonfused_probempi['NPX'] = (dfn8_macro_nonfused_probempi.GLB_X//dfn8_macro_nonfused_probempi.LOC_X)\n",
    "dfn8_macro_nonfused_probempi['NPY'] = (dfn8_macro_nonfused_probempi.GLB_Y//dfn8_macro_nonfused_probempi.LOC_Y)\n",
    "dfn8_macro_nonfused_probempi['NPZ'] = (dfn8_macro_nonfused_probempi.GLB_Z//dfn8_macro_nonfused_probempi.LOC_Z)\n",
    "dfn8_macro_nonfused_probempi['NPT'] = (dfn8_macro_nonfused_probempi.GLB_T//dfn8_macro_nonfused_probempi.LOC_T)\n",
    "dfn8_macro_nonfused_probempi[\"Total_proc\"] = dfn8_macro_nonfused_probempi[\"omp_thrd\"]* dfn8_macro_nonfused_probempi.MPI_size\n",
    "# dfn8_macro_nonfused_probempi.columns"
   ]
  },
  {
   "cell_type": "markdown",
   "id": "056d31a3",
   "metadata": {},
   "source": [
    "### Data Summary"
   ]
  },
  {
   "cell_type": "code",
   "execution_count": 12,
   "id": "eb1f11c8",
   "metadata": {},
   "outputs": [
    {
     "data": {
      "text/html": [
       "<div>\n",
       "<style scoped>\n",
       "    .dataframe tbody tr th:only-of-type {\n",
       "        vertical-align: middle;\n",
       "    }\n",
       "\n",
       "    .dataframe tbody tr th {\n",
       "        vertical-align: top;\n",
       "    }\n",
       "\n",
       "    .dataframe thead th {\n",
       "        text-align: right;\n",
       "    }\n",
       "</style>\n",
       "<table border=\"1\" class=\"dataframe\">\n",
       "  <thead>\n",
       "    <tr style=\"text-align: right;\">\n",
       "      <th></th>\n",
       "      <th>MPI_size</th>\n",
       "      <th>omp_thrd</th>\n",
       "      <th>NPT</th>\n",
       "      <th>NPX</th>\n",
       "      <th>NPY</th>\n",
       "      <th>NPZ</th>\n",
       "      <th>Total_proc</th>\n",
       "      <th>size</th>\n",
       "    </tr>\n",
       "  </thead>\n",
       "  <tbody>\n",
       "    <tr>\n",
       "      <th>0</th>\n",
       "      <td>64</td>\n",
       "      <td>16</td>\n",
       "      <td>8</td>\n",
       "      <td>2</td>\n",
       "      <td>2</td>\n",
       "      <td>2</td>\n",
       "      <td>1024</td>\n",
       "      <td>97</td>\n",
       "    </tr>\n",
       "    <tr>\n",
       "      <th>1</th>\n",
       "      <td>72</td>\n",
       "      <td>14</td>\n",
       "      <td>9</td>\n",
       "      <td>2</td>\n",
       "      <td>2</td>\n",
       "      <td>2</td>\n",
       "      <td>1008</td>\n",
       "      <td>39</td>\n",
       "    </tr>\n",
       "    <tr>\n",
       "      <th>2</th>\n",
       "      <td>112</td>\n",
       "      <td>9</td>\n",
       "      <td>14</td>\n",
       "      <td>2</td>\n",
       "      <td>2</td>\n",
       "      <td>2</td>\n",
       "      <td>1008</td>\n",
       "      <td>77</td>\n",
       "    </tr>\n",
       "    <tr>\n",
       "      <th>3</th>\n",
       "      <td>128</td>\n",
       "      <td>8</td>\n",
       "      <td>16</td>\n",
       "      <td>2</td>\n",
       "      <td>2</td>\n",
       "      <td>2</td>\n",
       "      <td>1024</td>\n",
       "      <td>68</td>\n",
       "    </tr>\n",
       "    <tr>\n",
       "      <th>4</th>\n",
       "      <td>144</td>\n",
       "      <td>7</td>\n",
       "      <td>18</td>\n",
       "      <td>2</td>\n",
       "      <td>2</td>\n",
       "      <td>2</td>\n",
       "      <td>1008</td>\n",
       "      <td>58</td>\n",
       "    </tr>\n",
       "    <tr>\n",
       "      <th>5</th>\n",
       "      <td>168</td>\n",
       "      <td>6</td>\n",
       "      <td>21</td>\n",
       "      <td>2</td>\n",
       "      <td>2</td>\n",
       "      <td>2</td>\n",
       "      <td>1008</td>\n",
       "      <td>24</td>\n",
       "    </tr>\n",
       "    <tr>\n",
       "      <th>6</th>\n",
       "      <td>200</td>\n",
       "      <td>5</td>\n",
       "      <td>25</td>\n",
       "      <td>2</td>\n",
       "      <td>2</td>\n",
       "      <td>2</td>\n",
       "      <td>1000</td>\n",
       "      <td>22</td>\n",
       "    </tr>\n",
       "    <tr>\n",
       "      <th>7</th>\n",
       "      <td>248</td>\n",
       "      <td>4</td>\n",
       "      <td>31</td>\n",
       "      <td>2</td>\n",
       "      <td>2</td>\n",
       "      <td>2</td>\n",
       "      <td>992</td>\n",
       "      <td>18</td>\n",
       "    </tr>\n",
       "    <tr>\n",
       "      <th>8</th>\n",
       "      <td>256</td>\n",
       "      <td>4</td>\n",
       "      <td>32</td>\n",
       "      <td>2</td>\n",
       "      <td>2</td>\n",
       "      <td>2</td>\n",
       "      <td>1024</td>\n",
       "      <td>34</td>\n",
       "    </tr>\n",
       "    <tr>\n",
       "      <th>9</th>\n",
       "      <td>328</td>\n",
       "      <td>3</td>\n",
       "      <td>41</td>\n",
       "      <td>2</td>\n",
       "      <td>2</td>\n",
       "      <td>2</td>\n",
       "      <td>984</td>\n",
       "      <td>12</td>\n",
       "    </tr>\n",
       "    <tr>\n",
       "      <th>10</th>\n",
       "      <td>336</td>\n",
       "      <td>3</td>\n",
       "      <td>42</td>\n",
       "      <td>2</td>\n",
       "      <td>2</td>\n",
       "      <td>2</td>\n",
       "      <td>1008</td>\n",
       "      <td>26</td>\n",
       "    </tr>\n",
       "    <tr>\n",
       "      <th>11</th>\n",
       "      <td>488</td>\n",
       "      <td>2</td>\n",
       "      <td>61</td>\n",
       "      <td>2</td>\n",
       "      <td>2</td>\n",
       "      <td>2</td>\n",
       "      <td>976</td>\n",
       "      <td>8</td>\n",
       "    </tr>\n",
       "    <tr>\n",
       "      <th>12</th>\n",
       "      <td>496</td>\n",
       "      <td>2</td>\n",
       "      <td>62</td>\n",
       "      <td>2</td>\n",
       "      <td>2</td>\n",
       "      <td>2</td>\n",
       "      <td>992</td>\n",
       "      <td>16</td>\n",
       "    </tr>\n",
       "    <tr>\n",
       "      <th>13</th>\n",
       "      <td>504</td>\n",
       "      <td>2</td>\n",
       "      <td>63</td>\n",
       "      <td>2</td>\n",
       "      <td>2</td>\n",
       "      <td>2</td>\n",
       "      <td>1008</td>\n",
       "      <td>8</td>\n",
       "    </tr>\n",
       "    <tr>\n",
       "      <th>14</th>\n",
       "      <td>512</td>\n",
       "      <td>2</td>\n",
       "      <td>64</td>\n",
       "      <td>2</td>\n",
       "      <td>2</td>\n",
       "      <td>2</td>\n",
       "      <td>1024</td>\n",
       "      <td>17</td>\n",
       "    </tr>\n",
       "    <tr>\n",
       "      <th>15</th>\n",
       "      <td>976</td>\n",
       "      <td>1</td>\n",
       "      <td>122</td>\n",
       "      <td>2</td>\n",
       "      <td>2</td>\n",
       "      <td>2</td>\n",
       "      <td>976</td>\n",
       "      <td>7</td>\n",
       "    </tr>\n",
       "    <tr>\n",
       "      <th>16</th>\n",
       "      <td>984</td>\n",
       "      <td>1</td>\n",
       "      <td>123</td>\n",
       "      <td>2</td>\n",
       "      <td>2</td>\n",
       "      <td>2</td>\n",
       "      <td>984</td>\n",
       "      <td>4</td>\n",
       "    </tr>\n",
       "    <tr>\n",
       "      <th>17</th>\n",
       "      <td>992</td>\n",
       "      <td>1</td>\n",
       "      <td>124</td>\n",
       "      <td>2</td>\n",
       "      <td>2</td>\n",
       "      <td>2</td>\n",
       "      <td>992</td>\n",
       "      <td>7</td>\n",
       "    </tr>\n",
       "    <tr>\n",
       "      <th>18</th>\n",
       "      <td>1000</td>\n",
       "      <td>1</td>\n",
       "      <td>125</td>\n",
       "      <td>2</td>\n",
       "      <td>2</td>\n",
       "      <td>2</td>\n",
       "      <td>1000</td>\n",
       "      <td>4</td>\n",
       "    </tr>\n",
       "    <tr>\n",
       "      <th>19</th>\n",
       "      <td>1008</td>\n",
       "      <td>1</td>\n",
       "      <td>126</td>\n",
       "      <td>2</td>\n",
       "      <td>2</td>\n",
       "      <td>2</td>\n",
       "      <td>1008</td>\n",
       "      <td>7</td>\n",
       "    </tr>\n",
       "    <tr>\n",
       "      <th>20</th>\n",
       "      <td>1016</td>\n",
       "      <td>1</td>\n",
       "      <td>127</td>\n",
       "      <td>2</td>\n",
       "      <td>2</td>\n",
       "      <td>2</td>\n",
       "      <td>1016</td>\n",
       "      <td>4</td>\n",
       "    </tr>\n",
       "    <tr>\n",
       "      <th>21</th>\n",
       "      <td>1024</td>\n",
       "      <td>1</td>\n",
       "      <td>128</td>\n",
       "      <td>2</td>\n",
       "      <td>2</td>\n",
       "      <td>2</td>\n",
       "      <td>1024</td>\n",
       "      <td>7</td>\n",
       "    </tr>\n",
       "  </tbody>\n",
       "</table>\n",
       "</div>"
      ],
      "text/plain": [
       "    MPI_size  omp_thrd  NPT  NPX  NPY  NPZ  Total_proc  size\n",
       "0         64        16    8    2    2    2        1024    97\n",
       "1         72        14    9    2    2    2        1008    39\n",
       "2        112         9   14    2    2    2        1008    77\n",
       "3        128         8   16    2    2    2        1024    68\n",
       "4        144         7   18    2    2    2        1008    58\n",
       "5        168         6   21    2    2    2        1008    24\n",
       "6        200         5   25    2    2    2        1000    22\n",
       "7        248         4   31    2    2    2         992    18\n",
       "8        256         4   32    2    2    2        1024    34\n",
       "9        328         3   41    2    2    2         984    12\n",
       "10       336         3   42    2    2    2        1008    26\n",
       "11       488         2   61    2    2    2         976     8\n",
       "12       496         2   62    2    2    2         992    16\n",
       "13       504         2   63    2    2    2        1008     8\n",
       "14       512         2   64    2    2    2        1024    17\n",
       "15       976         1  122    2    2    2         976     7\n",
       "16       984         1  123    2    2    2         984     4\n",
       "17       992         1  124    2    2    2         992     7\n",
       "18      1000         1  125    2    2    2        1000     4\n",
       "19      1008         1  126    2    2    2        1008     7\n",
       "20      1016         1  127    2    2    2        1016     4\n",
       "21      1024         1  128    2    2    2        1024     7"
      ]
     },
     "execution_count": 12,
     "metadata": {},
     "output_type": "execute_result"
    }
   ],
   "source": [
    "dfn8_macro_nonfused_probempi_summary = dfn8_macro_nonfused_probempi.groupby(['MPI_size','omp_thrd','NPT','NPX', 'NPY', 'NPZ',\"Total_proc\"]).size().reset_index(name = 'size')\n",
    "dfn8_macro_nonfused_probempi_summary"
   ]
  },
  {
   "cell_type": "markdown",
   "id": "e938562c",
   "metadata": {},
   "source": [
    "### Cases Setup"
   ]
  },
  {
   "cell_type": "code",
   "execution_count": 13,
   "id": "7feb2877",
   "metadata": {},
   "outputs": [],
   "source": [
    "dfn8MacNonFusProb_64mpi_16omp = dfn8_macro_nonfused_probempi[(dfn8_macro_nonfused_probempi.omp_thrd == 16) & (dfn8_macro_nonfused_probempi.GLB_T/dfn8_macro_nonfused_probempi.LOC_T == 8) & (dfn8_macro_nonfused_probempi.GLB_X/dfn8_macro_nonfused_probempi.LOC_X == 2) & (dfn8_macro_nonfused_probempi.GLB_Y/dfn8_macro_nonfused_probempi.LOC_Y == 2)& (dfn8_macro_nonfused_probempi.GLB_Z/dfn8_macro_nonfused_probempi.LOC_Z == 2)]\n",
    "dfn8MacNonFusProb_128mpi_8omp = dfn8_macro_nonfused_probempi[(dfn8_macro_nonfused_probempi.omp_thrd == 8) & (dfn8_macro_nonfused_probempi.GLB_T/dfn8_macro_nonfused_probempi.LOC_T == 16) & (dfn8_macro_nonfused_probempi.GLB_X/dfn8_macro_nonfused_probempi.LOC_X == 2) & (dfn8_macro_nonfused_probempi.GLB_Y/dfn8_macro_nonfused_probempi.LOC_Y == 2)& (dfn8_macro_nonfused_probempi.GLB_Z/dfn8_macro_nonfused_probempi.LOC_Z == 2)]\n",
    "dfn8MacNonFusProb_256mpi_4omp = dfn8_macro_nonfused_probempi[(dfn8_macro_nonfused_probempi.omp_thrd == 4) & (dfn8_macro_nonfused_probempi.GLB_T/dfn8_macro_nonfused_probempi.LOC_T == 32) & (dfn8_macro_nonfused_probempi.GLB_X/dfn8_macro_nonfused_probempi.LOC_X == 2) & (dfn8_macro_nonfused_probempi.GLB_Y/dfn8_macro_nonfused_probempi.LOC_Y == 2)& (dfn8_macro_nonfused_probempi.GLB_Z/dfn8_macro_nonfused_probempi.LOC_Z == 2)]\n",
    "dfn8MacNonFusProb_512mpi_2omp = dfn8_macro_nonfused_probempi[(dfn8_macro_nonfused_probempi.omp_thrd == 2) & (dfn8_macro_nonfused_probempi.GLB_T/dfn8_macro_nonfused_probempi.LOC_T == 64) & (dfn8_macro_nonfused_probempi.GLB_X/dfn8_macro_nonfused_probempi.LOC_X == 2) & (dfn8_macro_nonfused_probempi.GLB_Y/dfn8_macro_nonfused_probempi.LOC_Y == 2)& (dfn8_macro_nonfused_probempi.GLB_Z/dfn8_macro_nonfused_probempi.LOC_Z == 2)]\n",
    "dfn8MacNonFusProb_1024mpi_1omp = dfn8_macro_nonfused_probempi[(dfn8_macro_nonfused_probempi.omp_thrd == 1) & (dfn8_macro_nonfused_probempi.GLB_T/dfn8_macro_nonfused_probempi.LOC_T == 128) & (dfn8_macro_nonfused_probempi.GLB_X/dfn8_macro_nonfused_probempi.LOC_X == 2) & (dfn8_macro_nonfused_probempi.GLB_Y/dfn8_macro_nonfused_probempi.LOC_Y == 2)& (dfn8_macro_nonfused_probempi.GLB_Z/dfn8_macro_nonfused_probempi.LOC_Z == 2)]\n",
    "dfn8MacNonFusProb_168mpi_6omp = dfn8_macro_nonfused_probempi[(dfn8_macro_nonfused_probempi.omp_thrd == 6) & (dfn8_macro_nonfused_probempi.GLB_T/dfn8_macro_nonfused_probempi.LOC_T == 21) & (dfn8_macro_nonfused_probempi.GLB_X/dfn8_macro_nonfused_probempi.LOC_X == 2) & (dfn8_macro_nonfused_probempi.GLB_Y/dfn8_macro_nonfused_probempi.LOC_Y == 2)& (dfn8_macro_nonfused_probempi.GLB_Z/dfn8_macro_nonfused_probempi.LOC_Z == 2)]\n",
    "dfn8MacNonFusProb_504mpi_2omp = dfn8_macro_nonfused_probempi[(dfn8_macro_nonfused_probempi.omp_thrd == 2) & (dfn8_macro_nonfused_probempi.GLB_T/dfn8_macro_nonfused_probempi.LOC_T == 63) & (dfn8_macro_nonfused_probempi.GLB_X/dfn8_macro_nonfused_probempi.LOC_X == 2) & (dfn8_macro_nonfused_probempi.GLB_Y/dfn8_macro_nonfused_probempi.LOC_Y == 2)& (dfn8_macro_nonfused_probempi.GLB_Z/dfn8_macro_nonfused_probempi.LOC_Z == 2)]\n"
   ]
  },
  {
   "cell_type": "code",
   "execution_count": null,
   "id": "b8fa7b8c",
   "metadata": {},
   "outputs": [],
   "source": []
  },
  {
   "cell_type": "markdown",
   "id": "203860d7",
   "metadata": {},
   "source": [
    "## 4) Nonfused_Macro_NonProbempi"
   ]
  },
  {
   "cell_type": "markdown",
   "id": "b8845ad5",
   "metadata": {},
   "source": [
    "### Adding Columns"
   ]
  },
  {
   "cell_type": "code",
   "execution_count": 14,
   "id": "c9c44097",
   "metadata": {},
   "outputs": [],
   "source": [
    "dfn8_macro_nonfused_nonprobempi[\"N_Nodes\"] = 8\n",
    "dfn8_macro_nonfused_nonprobempi['NPX'] = (dfn8_macro_nonfused_nonprobempi.GLB_X//dfn8_macro_nonfused_nonprobempi.LOC_X)\n",
    "dfn8_macro_nonfused_nonprobempi['NPY'] = (dfn8_macro_nonfused_nonprobempi.GLB_Y//dfn8_macro_nonfused_nonprobempi.LOC_Y)\n",
    "dfn8_macro_nonfused_nonprobempi['NPZ'] = (dfn8_macro_nonfused_nonprobempi.GLB_Z//dfn8_macro_nonfused_nonprobempi.LOC_Z)\n",
    "dfn8_macro_nonfused_nonprobempi['NPT'] = (dfn8_macro_nonfused_nonprobempi.GLB_T//dfn8_macro_nonfused_nonprobempi.LOC_T)\n",
    "dfn8_macro_nonfused_nonprobempi[\"Total_proc\"] = dfn8_macro_nonfused_nonprobempi[\"omp_thrd\"]* dfn8_macro_nonfused_nonprobempi.MPI_size\n",
    "# dfn8_macro_nonfused_nonprobempi.columns"
   ]
  },
  {
   "cell_type": "markdown",
   "id": "eb56a297",
   "metadata": {},
   "source": [
    "### Data Summary"
   ]
  },
  {
   "cell_type": "code",
   "execution_count": 15,
   "id": "2937e8c1",
   "metadata": {},
   "outputs": [
    {
     "data": {
      "text/html": [
       "<div>\n",
       "<style scoped>\n",
       "    .dataframe tbody tr th:only-of-type {\n",
       "        vertical-align: middle;\n",
       "    }\n",
       "\n",
       "    .dataframe tbody tr th {\n",
       "        vertical-align: top;\n",
       "    }\n",
       "\n",
       "    .dataframe thead th {\n",
       "        text-align: right;\n",
       "    }\n",
       "</style>\n",
       "<table border=\"1\" class=\"dataframe\">\n",
       "  <thead>\n",
       "    <tr style=\"text-align: right;\">\n",
       "      <th></th>\n",
       "      <th>MPI_size</th>\n",
       "      <th>omp_thrd</th>\n",
       "      <th>NPT</th>\n",
       "      <th>NPX</th>\n",
       "      <th>NPY</th>\n",
       "      <th>NPZ</th>\n",
       "      <th>Total_proc</th>\n",
       "      <th>size</th>\n",
       "    </tr>\n",
       "  </thead>\n",
       "  <tbody>\n",
       "    <tr>\n",
       "      <th>0</th>\n",
       "      <td>64</td>\n",
       "      <td>16</td>\n",
       "      <td>8</td>\n",
       "      <td>2</td>\n",
       "      <td>2</td>\n",
       "      <td>2</td>\n",
       "      <td>1024</td>\n",
       "      <td>98</td>\n",
       "    </tr>\n",
       "    <tr>\n",
       "      <th>1</th>\n",
       "      <td>72</td>\n",
       "      <td>14</td>\n",
       "      <td>9</td>\n",
       "      <td>2</td>\n",
       "      <td>2</td>\n",
       "      <td>2</td>\n",
       "      <td>1008</td>\n",
       "      <td>38</td>\n",
       "    </tr>\n",
       "    <tr>\n",
       "      <th>2</th>\n",
       "      <td>112</td>\n",
       "      <td>9</td>\n",
       "      <td>14</td>\n",
       "      <td>2</td>\n",
       "      <td>2</td>\n",
       "      <td>2</td>\n",
       "      <td>1008</td>\n",
       "      <td>80</td>\n",
       "    </tr>\n",
       "    <tr>\n",
       "      <th>3</th>\n",
       "      <td>128</td>\n",
       "      <td>8</td>\n",
       "      <td>16</td>\n",
       "      <td>2</td>\n",
       "      <td>2</td>\n",
       "      <td>2</td>\n",
       "      <td>1024</td>\n",
       "      <td>68</td>\n",
       "    </tr>\n",
       "    <tr>\n",
       "      <th>4</th>\n",
       "      <td>144</td>\n",
       "      <td>7</td>\n",
       "      <td>18</td>\n",
       "      <td>2</td>\n",
       "      <td>2</td>\n",
       "      <td>2</td>\n",
       "      <td>1008</td>\n",
       "      <td>61</td>\n",
       "    </tr>\n",
       "    <tr>\n",
       "      <th>5</th>\n",
       "      <td>168</td>\n",
       "      <td>6</td>\n",
       "      <td>21</td>\n",
       "      <td>2</td>\n",
       "      <td>2</td>\n",
       "      <td>2</td>\n",
       "      <td>1008</td>\n",
       "      <td>24</td>\n",
       "    </tr>\n",
       "    <tr>\n",
       "      <th>6</th>\n",
       "      <td>200</td>\n",
       "      <td>5</td>\n",
       "      <td>25</td>\n",
       "      <td>2</td>\n",
       "      <td>2</td>\n",
       "      <td>2</td>\n",
       "      <td>1000</td>\n",
       "      <td>21</td>\n",
       "    </tr>\n",
       "    <tr>\n",
       "      <th>7</th>\n",
       "      <td>248</td>\n",
       "      <td>4</td>\n",
       "      <td>31</td>\n",
       "      <td>2</td>\n",
       "      <td>2</td>\n",
       "      <td>2</td>\n",
       "      <td>992</td>\n",
       "      <td>18</td>\n",
       "    </tr>\n",
       "    <tr>\n",
       "      <th>8</th>\n",
       "      <td>256</td>\n",
       "      <td>4</td>\n",
       "      <td>32</td>\n",
       "      <td>2</td>\n",
       "      <td>2</td>\n",
       "      <td>2</td>\n",
       "      <td>1024</td>\n",
       "      <td>35</td>\n",
       "    </tr>\n",
       "    <tr>\n",
       "      <th>9</th>\n",
       "      <td>328</td>\n",
       "      <td>3</td>\n",
       "      <td>41</td>\n",
       "      <td>2</td>\n",
       "      <td>2</td>\n",
       "      <td>2</td>\n",
       "      <td>984</td>\n",
       "      <td>13</td>\n",
       "    </tr>\n",
       "    <tr>\n",
       "      <th>10</th>\n",
       "      <td>336</td>\n",
       "      <td>3</td>\n",
       "      <td>42</td>\n",
       "      <td>2</td>\n",
       "      <td>2</td>\n",
       "      <td>2</td>\n",
       "      <td>1008</td>\n",
       "      <td>27</td>\n",
       "    </tr>\n",
       "    <tr>\n",
       "      <th>11</th>\n",
       "      <td>488</td>\n",
       "      <td>2</td>\n",
       "      <td>61</td>\n",
       "      <td>2</td>\n",
       "      <td>2</td>\n",
       "      <td>2</td>\n",
       "      <td>976</td>\n",
       "      <td>9</td>\n",
       "    </tr>\n",
       "    <tr>\n",
       "      <th>12</th>\n",
       "      <td>496</td>\n",
       "      <td>2</td>\n",
       "      <td>62</td>\n",
       "      <td>2</td>\n",
       "      <td>2</td>\n",
       "      <td>2</td>\n",
       "      <td>992</td>\n",
       "      <td>17</td>\n",
       "    </tr>\n",
       "    <tr>\n",
       "      <th>13</th>\n",
       "      <td>504</td>\n",
       "      <td>2</td>\n",
       "      <td>63</td>\n",
       "      <td>2</td>\n",
       "      <td>2</td>\n",
       "      <td>2</td>\n",
       "      <td>1008</td>\n",
       "      <td>9</td>\n",
       "    </tr>\n",
       "    <tr>\n",
       "      <th>14</th>\n",
       "      <td>512</td>\n",
       "      <td>2</td>\n",
       "      <td>64</td>\n",
       "      <td>2</td>\n",
       "      <td>2</td>\n",
       "      <td>2</td>\n",
       "      <td>1024</td>\n",
       "      <td>16</td>\n",
       "    </tr>\n",
       "    <tr>\n",
       "      <th>15</th>\n",
       "      <td>976</td>\n",
       "      <td>1</td>\n",
       "      <td>122</td>\n",
       "      <td>2</td>\n",
       "      <td>2</td>\n",
       "      <td>2</td>\n",
       "      <td>976</td>\n",
       "      <td>7</td>\n",
       "    </tr>\n",
       "    <tr>\n",
       "      <th>16</th>\n",
       "      <td>984</td>\n",
       "      <td>1</td>\n",
       "      <td>123</td>\n",
       "      <td>2</td>\n",
       "      <td>2</td>\n",
       "      <td>2</td>\n",
       "      <td>984</td>\n",
       "      <td>4</td>\n",
       "    </tr>\n",
       "    <tr>\n",
       "      <th>17</th>\n",
       "      <td>992</td>\n",
       "      <td>1</td>\n",
       "      <td>124</td>\n",
       "      <td>2</td>\n",
       "      <td>2</td>\n",
       "      <td>2</td>\n",
       "      <td>992</td>\n",
       "      <td>7</td>\n",
       "    </tr>\n",
       "    <tr>\n",
       "      <th>18</th>\n",
       "      <td>1000</td>\n",
       "      <td>1</td>\n",
       "      <td>125</td>\n",
       "      <td>2</td>\n",
       "      <td>2</td>\n",
       "      <td>2</td>\n",
       "      <td>1000</td>\n",
       "      <td>4</td>\n",
       "    </tr>\n",
       "    <tr>\n",
       "      <th>19</th>\n",
       "      <td>1008</td>\n",
       "      <td>1</td>\n",
       "      <td>126</td>\n",
       "      <td>2</td>\n",
       "      <td>2</td>\n",
       "      <td>2</td>\n",
       "      <td>1008</td>\n",
       "      <td>7</td>\n",
       "    </tr>\n",
       "    <tr>\n",
       "      <th>20</th>\n",
       "      <td>1016</td>\n",
       "      <td>1</td>\n",
       "      <td>127</td>\n",
       "      <td>2</td>\n",
       "      <td>2</td>\n",
       "      <td>2</td>\n",
       "      <td>1016</td>\n",
       "      <td>4</td>\n",
       "    </tr>\n",
       "    <tr>\n",
       "      <th>21</th>\n",
       "      <td>1024</td>\n",
       "      <td>1</td>\n",
       "      <td>128</td>\n",
       "      <td>2</td>\n",
       "      <td>2</td>\n",
       "      <td>2</td>\n",
       "      <td>1024</td>\n",
       "      <td>7</td>\n",
       "    </tr>\n",
       "  </tbody>\n",
       "</table>\n",
       "</div>"
      ],
      "text/plain": [
       "    MPI_size  omp_thrd  NPT  NPX  NPY  NPZ  Total_proc  size\n",
       "0         64        16    8    2    2    2        1024    98\n",
       "1         72        14    9    2    2    2        1008    38\n",
       "2        112         9   14    2    2    2        1008    80\n",
       "3        128         8   16    2    2    2        1024    68\n",
       "4        144         7   18    2    2    2        1008    61\n",
       "5        168         6   21    2    2    2        1008    24\n",
       "6        200         5   25    2    2    2        1000    21\n",
       "7        248         4   31    2    2    2         992    18\n",
       "8        256         4   32    2    2    2        1024    35\n",
       "9        328         3   41    2    2    2         984    13\n",
       "10       336         3   42    2    2    2        1008    27\n",
       "11       488         2   61    2    2    2         976     9\n",
       "12       496         2   62    2    2    2         992    17\n",
       "13       504         2   63    2    2    2        1008     9\n",
       "14       512         2   64    2    2    2        1024    16\n",
       "15       976         1  122    2    2    2         976     7\n",
       "16       984         1  123    2    2    2         984     4\n",
       "17       992         1  124    2    2    2         992     7\n",
       "18      1000         1  125    2    2    2        1000     4\n",
       "19      1008         1  126    2    2    2        1008     7\n",
       "20      1016         1  127    2    2    2        1016     4\n",
       "21      1024         1  128    2    2    2        1024     7"
      ]
     },
     "execution_count": 15,
     "metadata": {},
     "output_type": "execute_result"
    }
   ],
   "source": [
    "dfn8_macro_nonfused_nonprobempi_summary = dfn8_macro_nonfused_nonprobempi.groupby(['MPI_size','omp_thrd','NPT','NPX', 'NPY', 'NPZ',\"Total_proc\"]).size().reset_index(name = 'size')\n",
    "dfn8_macro_nonfused_nonprobempi_summary"
   ]
  },
  {
   "cell_type": "markdown",
   "id": "3386971d",
   "metadata": {},
   "source": [
    "### Cases Setup"
   ]
  },
  {
   "cell_type": "code",
   "execution_count": 16,
   "id": "a9f05609",
   "metadata": {},
   "outputs": [],
   "source": [
    "dfn8MacNonFusNonProb_64mpi_16omp = dfn8_macro_nonfused_nonprobempi[(dfn8_macro_nonfused_nonprobempi.omp_thrd == 16) & (dfn8_macro_nonfused_nonprobempi.GLB_T/dfn8_macro_nonfused_nonprobempi.LOC_T == 8) & (dfn8_macro_nonfused_nonprobempi.GLB_X/dfn8_macro_nonfused_nonprobempi.LOC_X == 2) & (dfn8_macro_nonfused_nonprobempi.GLB_Y/dfn8_macro_nonfused_nonprobempi.LOC_Y == 2)& (dfn8_macro_nonfused_nonprobempi.GLB_Z/dfn8_macro_nonfused_nonprobempi.LOC_Z == 2)]\n",
    "dfn8MacNonFusNonProb_128mpi_8omp = dfn8_macro_nonfused_nonprobempi[(dfn8_macro_nonfused_nonprobempi.omp_thrd == 8) & (dfn8_macro_nonfused_nonprobempi.GLB_T/dfn8_macro_nonfused_nonprobempi.LOC_T == 16) & (dfn8_macro_nonfused_nonprobempi.GLB_X/dfn8_macro_nonfused_nonprobempi.LOC_X == 2) & (dfn8_macro_nonfused_nonprobempi.GLB_Y/dfn8_macro_nonfused_nonprobempi.LOC_Y == 2)& (dfn8_macro_nonfused_nonprobempi.GLB_Z/dfn8_macro_nonfused_nonprobempi.LOC_Z == 2)]\n",
    "dfn8MacNonFusNonProb_256mpi_4omp = dfn8_macro_nonfused_nonprobempi[(dfn8_macro_nonfused_nonprobempi.omp_thrd == 4) & (dfn8_macro_nonfused_nonprobempi.GLB_T/dfn8_macro_nonfused_nonprobempi.LOC_T == 32) & (dfn8_macro_nonfused_nonprobempi.GLB_X/dfn8_macro_nonfused_nonprobempi.LOC_X == 2) & (dfn8_macro_nonfused_nonprobempi.GLB_Y/dfn8_macro_nonfused_nonprobempi.LOC_Y == 2)& (dfn8_macro_nonfused_nonprobempi.GLB_Z/dfn8_macro_nonfused_nonprobempi.LOC_Z == 2)]\n",
    "dfn8MacNonFusNonProb_512mpi_2omp = dfn8_macro_nonfused_nonprobempi[(dfn8_macro_nonfused_nonprobempi.omp_thrd == 2) & (dfn8_macro_nonfused_nonprobempi.GLB_T/dfn8_macro_nonfused_nonprobempi.LOC_T == 64) & (dfn8_macro_nonfused_nonprobempi.GLB_X/dfn8_macro_nonfused_nonprobempi.LOC_X == 2) & (dfn8_macro_nonfused_nonprobempi.GLB_Y/dfn8_macro_nonfused_nonprobempi.LOC_Y == 2)& (dfn8_macro_nonfused_nonprobempi.GLB_Z/dfn8_macro_nonfused_nonprobempi.LOC_Z == 2)]\n",
    "dfn8MacNonFusNonProb_1024mpi_1omp = dfn8_macro_nonfused_nonprobempi[(dfn8_macro_nonfused_nonprobempi.omp_thrd == 1) & (dfn8_macro_nonfused_nonprobempi.GLB_T/dfn8_macro_nonfused_nonprobempi.LOC_T == 128) & (dfn8_macro_nonfused_nonprobempi.GLB_X/dfn8_macro_nonfused_nonprobempi.LOC_X == 2) & (dfn8_macro_nonfused_nonprobempi.GLB_Y/dfn8_macro_nonfused_nonprobempi.LOC_Y == 2)& (dfn8_macro_nonfused_nonprobempi.GLB_Z/dfn8_macro_nonfused_nonprobempi.LOC_Z == 2)]\n",
    "dfn8MacNonFusNonProb_168mpi_6omp = dfn8_macro_nonfused_nonprobempi[(dfn8_macro_nonfused_nonprobempi.omp_thrd == 6) & (dfn8_macro_nonfused_nonprobempi.GLB_T/dfn8_macro_nonfused_nonprobempi.LOC_T == 21) & (dfn8_macro_nonfused_nonprobempi.GLB_X/dfn8_macro_nonfused_nonprobempi.LOC_X == 2) & (dfn8_macro_nonfused_nonprobempi.GLB_Y/dfn8_macro_nonfused_nonprobempi.LOC_Y == 2)& (dfn8_macro_nonfused_nonprobempi.GLB_Z/dfn8_macro_nonfused_nonprobempi.LOC_Z == 2)]\n",
    "dfn8MacNonFusNonProb_504mpi_2omp = dfn8_macro_nonfused_nonprobempi[(dfn8_macro_nonfused_nonprobempi.omp_thrd == 2) & (dfn8_macro_nonfused_nonprobempi.GLB_T/dfn8_macro_nonfused_nonprobempi.LOC_T == 63) & (dfn8_macro_nonfused_nonprobempi.GLB_X/dfn8_macro_nonfused_nonprobempi.LOC_X == 2) & (dfn8_macro_nonfused_nonprobempi.GLB_Y/dfn8_macro_nonfused_nonprobempi.LOC_Y == 2)& (dfn8_macro_nonfused_nonprobempi.GLB_Z/dfn8_macro_nonfused_nonprobempi.LOC_Z == 2)]\n"
   ]
  },
  {
   "cell_type": "markdown",
   "id": "1c71832b",
   "metadata": {},
   "source": [
    "## GFLOPS - Nonfused Macro: Probempi vs Nonprobempi"
   ]
  },
  {
   "cell_type": "code",
   "execution_count": 17,
   "id": "5c92fc8a",
   "metadata": {},
   "outputs": [
    {
     "data": {
      "application/vnd.plotly.v1+json": {
       "config": {
        "plotlyServerURL": "https://plot.ly"
       },
       "data": [
        {
         "line": {
          "color": "darkcyan",
          "width": 3
         },
         "marker": {
          "line": {
           "color": "yellow",
           "width": 1
          },
          "size": 9,
          "symbol": "hexagon"
         },
         "mode": "lines+markers",
         "name": "MacNonFusProb_1024mpi_1omp",
         "type": "scatter",
         "x": [
          1572864000,
          1966080000,
          2359296000,
          2752512000,
          3145728000,
          3538944000,
          3932160000
         ],
         "y": [
          188.72704,
          182.41408,
          169.91104,
          161.69856,
          156.13184,
          152.43392,
          148.7232
         ]
        },
        {
         "line": {
          "color": "magenta",
          "width": 3
         },
         "marker": {
          "line": {
           "color": "yellow",
           "width": 1
          },
          "size": 9,
          "symbol": "hexagon"
         },
         "mode": "lines+markers",
         "name": "MacNonFusNonProb_1024mpi_1omp",
         "type": "scatter",
         "x": [
          1572864000,
          1966080000,
          2359296000,
          2752512000,
          3145728000,
          3538944000,
          3932160000
         ],
         "y": [
          187.80288,
          173.73952,
          173.07904,
          137.16992,
          161.51424,
          155.66336,
          151.58272
         ]
        },
        {
         "line": {
          "color": "royalblue",
          "width": 3
         },
         "marker": {
          "line": {
           "color": "MediumPurple",
           "width": 2
          },
          "size": 5,
          "symbol": "diamond"
         },
         "mode": "lines+markers",
         "name": "MacNonFusProb_512mpi_2omp",
         "type": "scatter",
         "x": [
          786432000,
          983040000,
          1179648000,
          1376256000,
          1572864000,
          1769472000,
          1966080000,
          2162688000,
          2359296000,
          2555904000,
          2752512000,
          2949120000,
          3145728000,
          3342336000,
          3538944000,
          3735552000,
          3932160000
         ],
         "y": [
          174.29888,
          177.62112,
          197.79008,
          174.66368,
          196.25856,
          185.40352,
          176.20416,
          171.30944,
          165.45024,
          162.46208,
          151.1424,
          151.552,
          145.15328,
          149.25312,
          142.76672,
          143.71904,
          138.0416
         ]
        },
        {
         "line": {
          "color": "sandybrown",
          "width": 3
         },
         "marker": {
          "line": {
           "color": "MediumPurple",
           "width": 2
          },
          "size": 5,
          "symbol": "diamond"
         },
         "mode": "lines+markers",
         "name": "MacNonFusNonProb_512mpi_2omp",
         "type": "scatter",
         "x": [
          786432000,
          983040000,
          1179648000,
          1376256000,
          1572864000,
          1966080000,
          2162688000,
          2359296000,
          2555904000,
          2752512000,
          2949120000,
          3145728000,
          3342336000,
          3538944000,
          3735552000,
          3932160000
         ],
         "y": [
          167.96032,
          179.35104,
          198.39488,
          200.98688,
          194.2336,
          178.75328,
          172.34816,
          168.7296,
          156.48704,
          156.16384,
          149.95968,
          152.6112,
          140.90752,
          146.64448,
          141.5264,
          139.81952
         ]
        },
        {
         "line": {
          "color": "darkblue",
          "width": 3
         },
         "marker": {
          "line": {
           "color": "tomato",
           "width": 2
          },
          "size": 7,
          "symbol": "circle"
         },
         "mode": "lines+markers",
         "name": "MacNonFusProb_256mpi_4omp",
         "type": "scatter",
         "x": [
          589824000,
          688128000,
          786432000,
          884736000,
          983040000,
          1081344000,
          1179648000,
          1277952000,
          1376256000,
          1474560000,
          1572864000,
          1671168000,
          1867776000,
          1966080000,
          2064384000,
          2162688000,
          2260992000,
          2359296000,
          2457600000,
          2555904000,
          2654208000,
          2752512000,
          2850816000,
          2949120000,
          3047424000,
          3145728000,
          3244032000,
          3342336000,
          3440640000,
          3538944000,
          3637248000,
          3735552000,
          3833856000,
          3932160000
         ],
         "y": [
          169.35776,
          181.80448,
          192.58048,
          192.8736,
          178.65696,
          186.776,
          165.2432,
          151.848,
          156.59008,
          183.6448,
          178.98656,
          149.1392,
          170.46592,
          154.90304,
          161.95552,
          160.33024,
          156.82144,
          152.7952,
          152.32096,
          150.95008,
          139.47776,
          145.81312,
          143.21664,
          145.02336,
          143.11424,
          133.34592,
          137.96416,
          139.93408,
          133.33216,
          137.35072,
          134.84512,
          135.35648,
          132.12672,
          133.84448
         ]
        },
        {
         "line": {
          "color": "cyan",
          "width": 3
         },
         "marker": {
          "line": {
           "color": "Purple",
           "width": 2
          },
          "size": 7,
          "symbol": "circle"
         },
         "mode": "lines+markers",
         "name": "MacNonFusNonProb_256mpi_4omp",
         "type": "scatter",
         "x": [
          589824000,
          688128000,
          786432000,
          884736000,
          983040000,
          1081344000,
          1179648000,
          1277952000,
          1376256000,
          1474560000,
          1572864000,
          1671168000,
          1769472000,
          1867776000,
          1966080000,
          2064384000,
          2162688000,
          2260992000,
          2359296000,
          2457600000,
          2555904000,
          2654208000,
          2752512000,
          2850816000,
          2949120000,
          3047424000,
          3145728000,
          3244032000,
          3342336000,
          3440640000,
          3538944000,
          3637248000,
          3735552000,
          3833856000,
          3932160000
         ],
         "y": [
          140.43328,
          161.78848,
          165.67648,
          166.08288,
          173.84064,
          165.55776,
          158.4688,
          146.87712,
          156.76768,
          182.5232,
          168.56288,
          171.6736,
          160.83072,
          166.13632,
          159.4128,
          145.82016,
          138.64512,
          155.87392,
          151.04992,
          150.07008,
          145.73088,
          147.41632,
          143.3776,
          143.36256,
          143.5648,
          130.45344,
          139.5504,
          136.47104,
          138.23808,
          136.03616,
          130.67264,
          134.04096,
          134.00608,
          130.23936,
          127.99712
         ]
        },
        {
         "line": {
          "color": "blue",
          "width": 3
         },
         "marker": {
          "line": {
           "color": "black",
           "width": 1
          },
          "size": 7,
          "symbol": "star"
         },
         "mode": "lines+markers",
         "name": "MacNonFusProb_128mpi_8omp",
         "type": "scatter",
         "x": [
          540672000,
          589824000,
          638976000,
          688128000,
          737280000,
          786432000,
          835584000,
          884736000,
          933888000,
          983040000,
          1032192000,
          1081344000,
          1130496000,
          1179648000,
          1228800000,
          1277952000,
          1327104000,
          1376256000,
          1425408000,
          1474560000,
          1523712000,
          1572864000,
          1622016000,
          1671168000,
          1720320000,
          1769472000,
          1818624000,
          1867776000,
          1916928000,
          1966080000,
          2015232000,
          2064384000,
          2113536000,
          2162688000,
          2211840000,
          2260992000,
          2310144000,
          2359296000,
          2408448000,
          2457600000,
          2506752000,
          2555904000,
          2605056000,
          2654208000,
          2703360000,
          2752512000,
          2801664000,
          2850816000,
          2899968000,
          2949120000,
          2998272000,
          3047424000,
          3096576000,
          3145728000,
          3194880000,
          3244032000,
          3293184000,
          3342336000,
          3391488000,
          3489792000,
          3538944000,
          3637248000,
          3686400000,
          3735552000,
          3784704000,
          3833856000,
          3883008000,
          3932160000
         ],
         "y": [
          142.29824,
          144.47136,
          152.004,
          157.7576,
          159.55808,
          142.25376,
          159.4488,
          159.6144,
          155.43296,
          157.87248,
          158.30528,
          147.22768,
          150.57408,
          142.26,
          129.05984,
          135.87728,
          125.30016,
          123.3432,
          124.91088,
          106.86528,
          146.15136,
          131.85424,
          133.99936,
          130.724,
          142.90592,
          137.46816,
          139.61808,
          139.17776,
          127.9424,
          135.90128,
          134.21088,
          131.01488,
          130.42176,
          129.21136,
          118.33088,
          121.82688,
          127.58096,
          127.41696,
          125.29392,
          124.94464,
          120.13024,
          124.79568,
          124.26448,
          117.15168,
          124.0496,
          118.38176,
          121.768,
          118.27616,
          117.61632,
          121.88592,
          115.50592,
          115.7752,
          117.19552,
          117.36448,
          117.48784,
          117.42736,
          117.52112,
          117.25136,
          105.28688,
          118.7744,
          115.76752,
          111.36336,
          117.51504,
          115.90448,
          115.62704,
          111.57856,
          112.42928,
          111.4936
         ]
        },
        {
         "line": {
          "color": "red",
          "width": 3
         },
         "marker": {
          "line": {
           "color": "black",
           "width": 1
          },
          "size": 7,
          "symbol": "star"
         },
         "mode": "lines+markers",
         "name": "MacNonFusNonProb_128mpi_8omp",
         "type": "scatter",
         "x": [
          540672000,
          589824000,
          638976000,
          688128000,
          737280000,
          786432000,
          835584000,
          884736000,
          933888000,
          983040000,
          1032192000,
          1081344000,
          1130496000,
          1179648000,
          1228800000,
          1277952000,
          1327104000,
          1376256000,
          1425408000,
          1474560000,
          1523712000,
          1572864000,
          1622016000,
          1671168000,
          1720320000,
          1769472000,
          1818624000,
          1867776000,
          1916928000,
          1966080000,
          2064384000,
          2113536000,
          2162688000,
          2211840000,
          2260992000,
          2310144000,
          2359296000,
          2408448000,
          2457600000,
          2506752000,
          2555904000,
          2605056000,
          2654208000,
          2703360000,
          2752512000,
          2801664000,
          2850816000,
          2899968000,
          2949120000,
          2998272000,
          3047424000,
          3096576000,
          3145728000,
          3194880000,
          3244032000,
          3293184000,
          3342336000,
          3391488000,
          3440640000,
          3489792000,
          3538944000,
          3637248000,
          3686400000,
          3735552000,
          3784704000,
          3833856000,
          3883008000,
          3932160000
         ],
         "y": [
          119.296,
          116.05744,
          132.68608,
          133.44272,
          113.55856,
          140.05584,
          130.93504,
          143.58432,
          141.5408,
          145.51312,
          140.7592,
          121.87264,
          139.5904,
          119.51776,
          115.07312,
          125.97072,
          117.99952,
          123.77328,
          116.31104,
          122.14624,
          136.4768,
          112.0184,
          133.82288,
          132.5032,
          140.20048,
          134.01472,
          140.13856,
          127.90288,
          120.16528,
          135.22128,
          135.25888,
          119.42096,
          131.41136,
          128.18032,
          130.1784,
          127.07104,
          130.97584,
          118.97776,
          128.93184,
          123.5224,
          127.21232,
          124.20688,
          123.13904,
          115.80368,
          115.26768,
          124.53856,
          114.40096,
          121.34944,
          113.62528,
          119.66192,
          121.0464,
          119.41728,
          118.04992,
          121.24432,
          115.12528,
          116.49104,
          118.8864,
          110.29456,
          106.5984,
          117.70016,
          110.65344,
          118.572,
          117.92912,
          106.46384,
          108.40928,
          115.52288,
          115.95712,
          107.18336
         ]
        },
        {
         "line": {
          "color": "chartreuse",
          "width": 3
         },
         "marker": {
          "line": {
           "color": "mediumvioletred",
           "width": 1
          },
          "size": 6,
          "symbol": "square-dot"
         },
         "mode": "lines+markers",
         "name": "MacNonFusProb_64mpi_16omp",
         "type": "scatter",
         "x": [
          516096000,
          540672000,
          565248000,
          589824000,
          614400000,
          638976000,
          663552000,
          688128000,
          712704000,
          737280000,
          761856000,
          786432000,
          811008000,
          835584000,
          860160000,
          884736000,
          909312000,
          933888000,
          958464000,
          983040000,
          1007616000,
          1032192000,
          1056768000,
          1081344000,
          1105920000,
          1130496000,
          1155072000,
          1179648000,
          1204224000,
          1228800000,
          1253376000,
          1277952000,
          1302528000,
          1327104000,
          1351680000,
          1376256000,
          1425408000,
          1449984000,
          1474560000,
          1499136000,
          1523712000,
          1548288000,
          1572864000,
          1597440000,
          1622016000,
          1646592000,
          1671168000,
          1695744000,
          1720320000,
          1744896000,
          1769472000,
          1794048000,
          1818624000,
          1843200000,
          1867776000,
          1892352000,
          1916928000,
          1941504000,
          1966080000,
          1990656000,
          2015232000,
          2039808000,
          2064384000,
          2113536000,
          2138112000,
          2162688000,
          2187264000,
          2211840000,
          2236416000,
          2260992000,
          2285568000,
          2310144000,
          2334720000,
          2359296000,
          2383872000,
          2408448000,
          2433024000,
          2457600000,
          2482176000,
          2506752000,
          2531328000,
          2555904000,
          2580480000,
          2605056000,
          2629632000,
          2654208000,
          2678784000,
          2703360000,
          2727936000,
          2752512000,
          2777088000,
          2801664000,
          2826240000,
          2850816000,
          2875392000,
          2924544000,
          2949120000
         ],
         "y": [
          82.5144,
          76.44448,
          84.6808,
          83.1312,
          84.1976,
          85.2728,
          83.7472,
          84.4424,
          73.08288,
          76.10096,
          82.0736,
          80.5152,
          80.3472,
          79.99072,
          71.53952,
          76.26024,
          73.52656,
          71.61192,
          72.03056,
          70.99504,
          57.08984,
          62.95608,
          61.9816,
          65.99472,
          67.87136,
          62.86768,
          60.47416,
          65.2168,
          62.80952,
          62.58848,
          57.74064,
          62.6,
          62.33448,
          60.72064,
          61.17192,
          61.1284,
          58.25344,
          61.62328,
          60.2316,
          58.50008,
          60.63656,
          56.12856,
          60.97984,
          57.61824,
          60.69504,
          59.83624,
          55.17528,
          60.45744,
          59.59088,
          61.12104,
          61.8992,
          62.78792,
          57.5332,
          60.36568,
          54.34384,
          58.39336,
          58.53336,
          62.818,
          65.89992,
          62.74656,
          61.04616,
          59.86792,
          65.15976,
          62.77688,
          67.02464,
          61.51896,
          67.5556,
          64.33864,
          64.87208,
          65.08928,
          62.44672,
          62.31672,
          57.89392,
          61.71296,
          63.978,
          62.9132,
          59.26904,
          63.05952,
          59.99264,
          63.17032,
          60.27928,
          64.65544,
          61.75528,
          63.2832,
          64.56568,
          59.17704,
          64.75432,
          64.62744,
          63.35256,
          61.57392,
          64.37328,
          64.39744,
          64.34704,
          61.3548,
          64.52856,
          56.78968,
          64.36472
         ]
        },
        {
         "line": {
          "color": "black",
          "width": 3
         },
         "marker": {
          "line": {
           "color": "mediumvioletred",
           "width": 1
          },
          "size": 6,
          "symbol": "square-dot"
         },
         "mode": "lines+markers",
         "name": "MacNonFusNonProb_64mpi_16omp",
         "type": "scatter",
         "x": [
          516096000,
          540672000,
          565248000,
          589824000,
          614400000,
          638976000,
          663552000,
          688128000,
          712704000,
          737280000,
          761856000,
          786432000,
          811008000,
          835584000,
          860160000,
          884736000,
          909312000,
          933888000,
          958464000,
          983040000,
          1007616000,
          1032192000,
          1056768000,
          1081344000,
          1105920000,
          1130496000,
          1155072000,
          1179648000,
          1204224000,
          1228800000,
          1253376000,
          1277952000,
          1302528000,
          1327104000,
          1351680000,
          1376256000,
          1400832000,
          1425408000,
          1449984000,
          1474560000,
          1499136000,
          1523712000,
          1548288000,
          1572864000,
          1597440000,
          1622016000,
          1646592000,
          1671168000,
          1695744000,
          1720320000,
          1744896000,
          1769472000,
          1794048000,
          1818624000,
          1843200000,
          1867776000,
          1892352000,
          1916928000,
          1941504000,
          1966080000,
          1990656000,
          2015232000,
          2039808000,
          2064384000,
          2088960000,
          2113536000,
          2138112000,
          2162688000,
          2187264000,
          2211840000,
          2236416000,
          2260992000,
          2285568000,
          2310144000,
          2334720000,
          2359296000,
          2383872000,
          2408448000,
          2433024000,
          2457600000,
          2482176000,
          2506752000,
          2531328000,
          2555904000,
          2580480000,
          2605056000,
          2629632000,
          2654208000,
          2678784000,
          2703360000,
          2727936000,
          2752512000,
          2777088000,
          2801664000,
          2850816000,
          2875392000,
          2899968000,
          2924544000
         ],
         "y": [
          74.78232,
          75.73744,
          75.43808,
          76.61184,
          77.27928,
          76.52712,
          70.39072,
          78.546,
          71.9652,
          75.63096,
          75.722,
          76.03384,
          75.15216,
          77.5996,
          73.27312,
          64.00088,
          73.04928,
          70.30424,
          70.92056,
          70.73512,
          68.35776,
          68.79,
          62.79992,
          67.07368,
          61.77096,
          66.19024,
          60.758,
          61.71104,
          63.55928,
          56.7884,
          60.78616,
          55.59232,
          58.63064,
          59.42088,
          56.12328,
          57.03184,
          51.48216,
          57.98528,
          57.30808,
          56.6652,
          53.50504,
          54.26864,
          55.9904,
          54.5088,
          56.37056,
          52.48696,
          54.0544,
          54.65752,
          51.75992,
          56.23832,
          58.89904,
          48.09064,
          56.09168,
          58.69384,
          53.07304,
          52.74488,
          57.06688,
          59.88584,
          58.5268,
          57.91352,
          58.99856,
          56.7136,
          58.8032,
          60.8856,
          55.49984,
          53.16128,
          61.37984,
          61.3404,
          58.0244,
          60.5296,
          60.21824,
          59.97392,
          55.68488,
          60.68128,
          60.63216,
          61.36432,
          61.32448,
          61.85264,
          60.28552,
          61.4156,
          63.43592,
          61.28816,
          61.91248,
          59.64216,
          62.84696,
          61.98632,
          62.732,
          61.73488,
          60.92968,
          61.27832,
          60.50048,
          61.01472,
          64.1992,
          62.77136,
          59.50848,
          60.51344,
          62.70088,
          64.57608
         ]
        },
        {
         "line": {
          "color": "gold",
          "width": 3
         },
         "marker": {
          "line": {
           "color": "black",
           "width": 1
          },
          "size": 6,
          "symbol": "triangle-up"
         },
         "mode": "lines+markers",
         "name": "MacNonFusProb_168mpi_6omp",
         "type": "scatter",
         "x": [
          516096000,
          645120000,
          774144000,
          903168000,
          1032192000,
          1161216000,
          1290240000,
          1419264000,
          1548288000,
          1677312000,
          1806336000,
          1935360000,
          2064384000,
          2193408000,
          2322432000,
          2451456000,
          2580480000,
          2709504000,
          2838528000,
          2967552000,
          3096576000,
          3225600000,
          3354624000,
          3483648000
         ],
         "y": [
          85.29486,
          85.4952,
          91.22211,
          89.06645999999999,
          85.55925,
          80.10156,
          73.90550999999999,
          106.30368,
          101.60577,
          98.75102999999999,
          94.89711,
          93.53505,
          88.3617,
          89.09795999999999,
          88.12965,
          87.35978999999999,
          84.66528,
          83.49243,
          80.15174999999999,
          83.30217,
          78.74286,
          78.69372,
          78.80082,
          77.78273999999999
         ]
        },
        {
         "line": {
          "color": "dimgray",
          "width": 3
         },
         "marker": {
          "line": {
           "color": "black",
           "width": 1
          },
          "size": 6,
          "symbol": "triangle-up"
         },
         "mode": "lines+markers",
         "name": "MacNonFusNonProb_168mpi_6omp",
         "type": "scatter",
         "x": [
          516096000,
          645120000,
          774144000,
          903168000,
          1032192000,
          1161216000,
          1290240000,
          1419264000,
          1548288000,
          1677312000,
          1806336000,
          1935360000,
          2064384000,
          2193408000,
          2322432000,
          2451456000,
          2580480000,
          2709504000,
          2838528000,
          2967552000,
          3096576000,
          3225600000,
          3354624000,
          3483648000
         ],
         "y": [
          86.32533000000001,
          89.19350999999999,
          89.30333999999999,
          82.76079,
          86.34654,
          82.36158,
          95.59599000000001,
          110.58096,
          103.27337999999999,
          100.58726999999999,
          96.23523,
          94.62978,
          92.84121,
          89.94216,
          88.91589,
          87.28062,
          84.57204,
          85.42464000000001,
          83.32359,
          78.38817,
          81.13539,
          80.04696,
          78.08388,
          78.06078
         ]
        },
        {
         "line": {
          "color": "olive",
          "width": 3
         },
         "marker": {
          "line": {
           "color": "olive",
           "width": 2
          },
          "size": 6,
          "symbol": "circle"
         },
         "mode": "lines+markers",
         "name": "MacNonFusProb_504mpi_2omp",
         "type": "scatter",
         "x": [
          774144000,
          1548288000,
          1935360000,
          2322432000,
          2709504000,
          3096576000,
          3483648000,
          3870720000
         ],
         "y": [
          201.38643000000002,
          192.87324,
          177.09174,
          163.03455,
          155.31264,
          148.53384000000003,
          140.80436999999998,
          139.62942
         ]
        },
        {
         "line": {
          "color": "Brown",
          "width": 3
         },
         "marker": {
          "line": {
           "color": "darkred",
           "width": 2
          },
          "size": 6,
          "symbol": "circle"
         },
         "mode": "lines+markers",
         "name": "MacNonFusNonProb_504mpi_2omp",
         "type": "scatter",
         "x": [
          774144000,
          1161216000,
          1548288000,
          1935360000,
          2322432000,
          2709504000,
          3096576000,
          3483648000,
          3870720000
         ],
         "y": [
          188.75304,
          208.33218,
          190.63107,
          173.43648,
          163.59336,
          152.42913,
          148.15836,
          144.32733,
          139.24008
         ]
        }
       ],
       "layout": {
        "annotations": [
         {
          "align": "left",
          "arrowcolor": "#636363",
          "arrowhead": 1,
          "arrowsize": 1,
          "arrowwidth": 2,
          "ax": -20,
          "ay": -30,
          "font": {
           "color": "purple",
           "family": "Sans Serif",
           "size": 12
          },
          "showarrow": false,
          "text": "LLC Size Per Node",
          "x": "512e6",
          "y": 130,
          "yanchor": "bottom"
         }
        ],
        "shapes": [
         {
          "line": {
           "color": "green",
           "dash": "dash",
           "width": 3
          },
          "type": "line",
          "x0": 512000000,
          "x1": 512000000,
          "xref": "x",
          "y0": 0,
          "y1": 1,
          "yref": "y domain"
         }
        ],
        "template": {
         "data": {
          "bar": [
           {
            "error_x": {
             "color": "#2a3f5f"
            },
            "error_y": {
             "color": "#2a3f5f"
            },
            "marker": {
             "line": {
              "color": "#E5ECF6",
              "width": 0.5
             },
             "pattern": {
              "fillmode": "overlay",
              "size": 10,
              "solidity": 0.2
             }
            },
            "type": "bar"
           }
          ],
          "barpolar": [
           {
            "marker": {
             "line": {
              "color": "#E5ECF6",
              "width": 0.5
             },
             "pattern": {
              "fillmode": "overlay",
              "size": 10,
              "solidity": 0.2
             }
            },
            "type": "barpolar"
           }
          ],
          "carpet": [
           {
            "aaxis": {
             "endlinecolor": "#2a3f5f",
             "gridcolor": "white",
             "linecolor": "white",
             "minorgridcolor": "white",
             "startlinecolor": "#2a3f5f"
            },
            "baxis": {
             "endlinecolor": "#2a3f5f",
             "gridcolor": "white",
             "linecolor": "white",
             "minorgridcolor": "white",
             "startlinecolor": "#2a3f5f"
            },
            "type": "carpet"
           }
          ],
          "choropleth": [
           {
            "colorbar": {
             "outlinewidth": 0,
             "ticks": ""
            },
            "type": "choropleth"
           }
          ],
          "contour": [
           {
            "colorbar": {
             "outlinewidth": 0,
             "ticks": ""
            },
            "colorscale": [
             [
              0,
              "#0d0887"
             ],
             [
              0.1111111111111111,
              "#46039f"
             ],
             [
              0.2222222222222222,
              "#7201a8"
             ],
             [
              0.3333333333333333,
              "#9c179e"
             ],
             [
              0.4444444444444444,
              "#bd3786"
             ],
             [
              0.5555555555555556,
              "#d8576b"
             ],
             [
              0.6666666666666666,
              "#ed7953"
             ],
             [
              0.7777777777777778,
              "#fb9f3a"
             ],
             [
              0.8888888888888888,
              "#fdca26"
             ],
             [
              1,
              "#f0f921"
             ]
            ],
            "type": "contour"
           }
          ],
          "contourcarpet": [
           {
            "colorbar": {
             "outlinewidth": 0,
             "ticks": ""
            },
            "type": "contourcarpet"
           }
          ],
          "heatmap": [
           {
            "colorbar": {
             "outlinewidth": 0,
             "ticks": ""
            },
            "colorscale": [
             [
              0,
              "#0d0887"
             ],
             [
              0.1111111111111111,
              "#46039f"
             ],
             [
              0.2222222222222222,
              "#7201a8"
             ],
             [
              0.3333333333333333,
              "#9c179e"
             ],
             [
              0.4444444444444444,
              "#bd3786"
             ],
             [
              0.5555555555555556,
              "#d8576b"
             ],
             [
              0.6666666666666666,
              "#ed7953"
             ],
             [
              0.7777777777777778,
              "#fb9f3a"
             ],
             [
              0.8888888888888888,
              "#fdca26"
             ],
             [
              1,
              "#f0f921"
             ]
            ],
            "type": "heatmap"
           }
          ],
          "heatmapgl": [
           {
            "colorbar": {
             "outlinewidth": 0,
             "ticks": ""
            },
            "colorscale": [
             [
              0,
              "#0d0887"
             ],
             [
              0.1111111111111111,
              "#46039f"
             ],
             [
              0.2222222222222222,
              "#7201a8"
             ],
             [
              0.3333333333333333,
              "#9c179e"
             ],
             [
              0.4444444444444444,
              "#bd3786"
             ],
             [
              0.5555555555555556,
              "#d8576b"
             ],
             [
              0.6666666666666666,
              "#ed7953"
             ],
             [
              0.7777777777777778,
              "#fb9f3a"
             ],
             [
              0.8888888888888888,
              "#fdca26"
             ],
             [
              1,
              "#f0f921"
             ]
            ],
            "type": "heatmapgl"
           }
          ],
          "histogram": [
           {
            "marker": {
             "pattern": {
              "fillmode": "overlay",
              "size": 10,
              "solidity": 0.2
             }
            },
            "type": "histogram"
           }
          ],
          "histogram2d": [
           {
            "colorbar": {
             "outlinewidth": 0,
             "ticks": ""
            },
            "colorscale": [
             [
              0,
              "#0d0887"
             ],
             [
              0.1111111111111111,
              "#46039f"
             ],
             [
              0.2222222222222222,
              "#7201a8"
             ],
             [
              0.3333333333333333,
              "#9c179e"
             ],
             [
              0.4444444444444444,
              "#bd3786"
             ],
             [
              0.5555555555555556,
              "#d8576b"
             ],
             [
              0.6666666666666666,
              "#ed7953"
             ],
             [
              0.7777777777777778,
              "#fb9f3a"
             ],
             [
              0.8888888888888888,
              "#fdca26"
             ],
             [
              1,
              "#f0f921"
             ]
            ],
            "type": "histogram2d"
           }
          ],
          "histogram2dcontour": [
           {
            "colorbar": {
             "outlinewidth": 0,
             "ticks": ""
            },
            "colorscale": [
             [
              0,
              "#0d0887"
             ],
             [
              0.1111111111111111,
              "#46039f"
             ],
             [
              0.2222222222222222,
              "#7201a8"
             ],
             [
              0.3333333333333333,
              "#9c179e"
             ],
             [
              0.4444444444444444,
              "#bd3786"
             ],
             [
              0.5555555555555556,
              "#d8576b"
             ],
             [
              0.6666666666666666,
              "#ed7953"
             ],
             [
              0.7777777777777778,
              "#fb9f3a"
             ],
             [
              0.8888888888888888,
              "#fdca26"
             ],
             [
              1,
              "#f0f921"
             ]
            ],
            "type": "histogram2dcontour"
           }
          ],
          "mesh3d": [
           {
            "colorbar": {
             "outlinewidth": 0,
             "ticks": ""
            },
            "type": "mesh3d"
           }
          ],
          "parcoords": [
           {
            "line": {
             "colorbar": {
              "outlinewidth": 0,
              "ticks": ""
             }
            },
            "type": "parcoords"
           }
          ],
          "pie": [
           {
            "automargin": true,
            "type": "pie"
           }
          ],
          "scatter": [
           {
            "fillpattern": {
             "fillmode": "overlay",
             "size": 10,
             "solidity": 0.2
            },
            "type": "scatter"
           }
          ],
          "scatter3d": [
           {
            "line": {
             "colorbar": {
              "outlinewidth": 0,
              "ticks": ""
             }
            },
            "marker": {
             "colorbar": {
              "outlinewidth": 0,
              "ticks": ""
             }
            },
            "type": "scatter3d"
           }
          ],
          "scattercarpet": [
           {
            "marker": {
             "colorbar": {
              "outlinewidth": 0,
              "ticks": ""
             }
            },
            "type": "scattercarpet"
           }
          ],
          "scattergeo": [
           {
            "marker": {
             "colorbar": {
              "outlinewidth": 0,
              "ticks": ""
             }
            },
            "type": "scattergeo"
           }
          ],
          "scattergl": [
           {
            "marker": {
             "colorbar": {
              "outlinewidth": 0,
              "ticks": ""
             }
            },
            "type": "scattergl"
           }
          ],
          "scattermapbox": [
           {
            "marker": {
             "colorbar": {
              "outlinewidth": 0,
              "ticks": ""
             }
            },
            "type": "scattermapbox"
           }
          ],
          "scatterpolar": [
           {
            "marker": {
             "colorbar": {
              "outlinewidth": 0,
              "ticks": ""
             }
            },
            "type": "scatterpolar"
           }
          ],
          "scatterpolargl": [
           {
            "marker": {
             "colorbar": {
              "outlinewidth": 0,
              "ticks": ""
             }
            },
            "type": "scatterpolargl"
           }
          ],
          "scatterternary": [
           {
            "marker": {
             "colorbar": {
              "outlinewidth": 0,
              "ticks": ""
             }
            },
            "type": "scatterternary"
           }
          ],
          "surface": [
           {
            "colorbar": {
             "outlinewidth": 0,
             "ticks": ""
            },
            "colorscale": [
             [
              0,
              "#0d0887"
             ],
             [
              0.1111111111111111,
              "#46039f"
             ],
             [
              0.2222222222222222,
              "#7201a8"
             ],
             [
              0.3333333333333333,
              "#9c179e"
             ],
             [
              0.4444444444444444,
              "#bd3786"
             ],
             [
              0.5555555555555556,
              "#d8576b"
             ],
             [
              0.6666666666666666,
              "#ed7953"
             ],
             [
              0.7777777777777778,
              "#fb9f3a"
             ],
             [
              0.8888888888888888,
              "#fdca26"
             ],
             [
              1,
              "#f0f921"
             ]
            ],
            "type": "surface"
           }
          ],
          "table": [
           {
            "cells": {
             "fill": {
              "color": "#EBF0F8"
             },
             "line": {
              "color": "white"
             }
            },
            "header": {
             "fill": {
              "color": "#C8D4E3"
             },
             "line": {
              "color": "white"
             }
            },
            "type": "table"
           }
          ]
         },
         "layout": {
          "annotationdefaults": {
           "arrowcolor": "#2a3f5f",
           "arrowhead": 0,
           "arrowwidth": 1
          },
          "autotypenumbers": "strict",
          "coloraxis": {
           "colorbar": {
            "outlinewidth": 0,
            "ticks": ""
           }
          },
          "colorscale": {
           "diverging": [
            [
             0,
             "#8e0152"
            ],
            [
             0.1,
             "#c51b7d"
            ],
            [
             0.2,
             "#de77ae"
            ],
            [
             0.3,
             "#f1b6da"
            ],
            [
             0.4,
             "#fde0ef"
            ],
            [
             0.5,
             "#f7f7f7"
            ],
            [
             0.6,
             "#e6f5d0"
            ],
            [
             0.7,
             "#b8e186"
            ],
            [
             0.8,
             "#7fbc41"
            ],
            [
             0.9,
             "#4d9221"
            ],
            [
             1,
             "#276419"
            ]
           ],
           "sequential": [
            [
             0,
             "#0d0887"
            ],
            [
             0.1111111111111111,
             "#46039f"
            ],
            [
             0.2222222222222222,
             "#7201a8"
            ],
            [
             0.3333333333333333,
             "#9c179e"
            ],
            [
             0.4444444444444444,
             "#bd3786"
            ],
            [
             0.5555555555555556,
             "#d8576b"
            ],
            [
             0.6666666666666666,
             "#ed7953"
            ],
            [
             0.7777777777777778,
             "#fb9f3a"
            ],
            [
             0.8888888888888888,
             "#fdca26"
            ],
            [
             1,
             "#f0f921"
            ]
           ],
           "sequentialminus": [
            [
             0,
             "#0d0887"
            ],
            [
             0.1111111111111111,
             "#46039f"
            ],
            [
             0.2222222222222222,
             "#7201a8"
            ],
            [
             0.3333333333333333,
             "#9c179e"
            ],
            [
             0.4444444444444444,
             "#bd3786"
            ],
            [
             0.5555555555555556,
             "#d8576b"
            ],
            [
             0.6666666666666666,
             "#ed7953"
            ],
            [
             0.7777777777777778,
             "#fb9f3a"
            ],
            [
             0.8888888888888888,
             "#fdca26"
            ],
            [
             1,
             "#f0f921"
            ]
           ]
          },
          "colorway": [
           "#636efa",
           "#EF553B",
           "#00cc96",
           "#ab63fa",
           "#FFA15A",
           "#19d3f3",
           "#FF6692",
           "#B6E880",
           "#FF97FF",
           "#FECB52"
          ],
          "font": {
           "color": "#2a3f5f"
          },
          "geo": {
           "bgcolor": "white",
           "lakecolor": "white",
           "landcolor": "#E5ECF6",
           "showlakes": true,
           "showland": true,
           "subunitcolor": "white"
          },
          "hoverlabel": {
           "align": "left"
          },
          "hovermode": "closest",
          "mapbox": {
           "style": "light"
          },
          "paper_bgcolor": "white",
          "plot_bgcolor": "#E5ECF6",
          "polar": {
           "angularaxis": {
            "gridcolor": "white",
            "linecolor": "white",
            "ticks": ""
           },
           "bgcolor": "#E5ECF6",
           "radialaxis": {
            "gridcolor": "white",
            "linecolor": "white",
            "ticks": ""
           }
          },
          "scene": {
           "xaxis": {
            "backgroundcolor": "#E5ECF6",
            "gridcolor": "white",
            "gridwidth": 2,
            "linecolor": "white",
            "showbackground": true,
            "ticks": "",
            "zerolinecolor": "white"
           },
           "yaxis": {
            "backgroundcolor": "#E5ECF6",
            "gridcolor": "white",
            "gridwidth": 2,
            "linecolor": "white",
            "showbackground": true,
            "ticks": "",
            "zerolinecolor": "white"
           },
           "zaxis": {
            "backgroundcolor": "#E5ECF6",
            "gridcolor": "white",
            "gridwidth": 2,
            "linecolor": "white",
            "showbackground": true,
            "ticks": "",
            "zerolinecolor": "white"
           }
          },
          "shapedefaults": {
           "line": {
            "color": "#2a3f5f"
           }
          },
          "ternary": {
           "aaxis": {
            "gridcolor": "white",
            "linecolor": "white",
            "ticks": ""
           },
           "baxis": {
            "gridcolor": "white",
            "linecolor": "white",
            "ticks": ""
           },
           "bgcolor": "#E5ECF6",
           "caxis": {
            "gridcolor": "white",
            "linecolor": "white",
            "ticks": ""
           }
          },
          "title": {
           "x": 0.05
          },
          "xaxis": {
           "automargin": true,
           "gridcolor": "white",
           "linecolor": "white",
           "ticks": "",
           "title": {
            "standoff": 15
           },
           "zerolinecolor": "white",
           "zerolinewidth": 2
          },
          "yaxis": {
           "automargin": true,
           "gridcolor": "white",
           "linecolor": "white",
           "ticks": "",
           "title": {
            "standoff": 15
           },
           "zerolinecolor": "white",
           "zerolinewidth": 2
          }
         }
        },
        "title": {
         "text": "\"NonFused-Macro (8-Nodes): probempi vs nonprobempi\" GFlops Measurement"
        },
        "xaxis": {
         "ticks": "outside",
         "title": {
          "text": "Dirc_Data_Mov"
         }
        },
        "yaxis": {
         "ticks": "outside",
         "title": {
          "text": "GFLOPs/Node"
         }
        }
       }
      },
      "text/html": [
       "<div>                            <div id=\"e04f382b-54b4-48d0-bd46-fe9cfe9463cf\" class=\"plotly-graph-div\" style=\"height:525px; width:100%;\"></div>            <script type=\"text/javascript\">                require([\"plotly\"], function(Plotly) {                    window.PLOTLYENV=window.PLOTLYENV || {};                                    if (document.getElementById(\"e04f382b-54b4-48d0-bd46-fe9cfe9463cf\")) {                    Plotly.newPlot(                        \"e04f382b-54b4-48d0-bd46-fe9cfe9463cf\",                        [{\"line\":{\"color\":\"darkcyan\",\"width\":3},\"marker\":{\"line\":{\"color\":\"yellow\",\"width\":1},\"size\":9,\"symbol\":\"hexagon\"},\"mode\":\"lines+markers\",\"name\":\"MacNonFusProb_1024mpi_1omp\",\"x\":[1572864000.0,1966080000.0,2359296000.0,2752512000.0,3145728000.0,3538944000.0,3932160000.0],\"y\":[188.72704,182.41408,169.91104,161.69856,156.13184,152.43392,148.7232],\"type\":\"scatter\"},{\"line\":{\"color\":\"magenta\",\"width\":3},\"marker\":{\"line\":{\"color\":\"yellow\",\"width\":1},\"size\":9,\"symbol\":\"hexagon\"},\"mode\":\"lines+markers\",\"name\":\"MacNonFusNonProb_1024mpi_1omp\",\"x\":[1572864000.0,1966080000.0,2359296000.0,2752512000.0,3145728000.0,3538944000.0,3932160000.0],\"y\":[187.80288,173.73952,173.07904,137.16992,161.51424,155.66336,151.58272],\"type\":\"scatter\"},{\"line\":{\"color\":\"royalblue\",\"width\":3},\"marker\":{\"line\":{\"color\":\"MediumPurple\",\"width\":2},\"size\":5,\"symbol\":\"diamond\"},\"mode\":\"lines+markers\",\"name\":\"MacNonFusProb_512mpi_2omp\",\"x\":[786432000.0,983040000.0,1179648000.0,1376256000.0,1572864000.0,1769472000.0,1966080000.0,2162688000.0,2359296000.0,2555904000.0,2752512000.0,2949120000.0,3145728000.0,3342336000.0,3538944000.0,3735552000.0,3932160000.0],\"y\":[174.29888,177.62112,197.79008,174.66368,196.25856,185.40352,176.20416,171.30944,165.45024,162.46208,151.1424,151.552,145.15328,149.25312,142.76672,143.71904,138.0416],\"type\":\"scatter\"},{\"line\":{\"color\":\"sandybrown\",\"width\":3},\"marker\":{\"line\":{\"color\":\"MediumPurple\",\"width\":2},\"size\":5,\"symbol\":\"diamond\"},\"mode\":\"lines+markers\",\"name\":\"MacNonFusNonProb_512mpi_2omp\",\"x\":[786432000.0,983040000.0,1179648000.0,1376256000.0,1572864000.0,1966080000.0,2162688000.0,2359296000.0,2555904000.0,2752512000.0,2949120000.0,3145728000.0,3342336000.0,3538944000.0,3735552000.0,3932160000.0],\"y\":[167.96032,179.35104,198.39488,200.98688,194.2336,178.75328,172.34816,168.7296,156.48704,156.16384,149.95968,152.6112,140.90752,146.64448,141.5264,139.81952],\"type\":\"scatter\"},{\"line\":{\"color\":\"darkblue\",\"width\":3},\"marker\":{\"line\":{\"color\":\"tomato\",\"width\":2},\"size\":7,\"symbol\":\"circle\"},\"mode\":\"lines+markers\",\"name\":\"MacNonFusProb_256mpi_4omp\",\"x\":[589824000.0,688128000.0,786432000.0,884736000.0,983040000.0,1081344000.0,1179648000.0,1277952000.0,1376256000.0,1474560000.0,1572864000.0,1671168000.0,1867776000.0,1966080000.0,2064384000.0,2162688000.0,2260992000.0,2359296000.0,2457600000.0,2555904000.0,2654208000.0,2752512000.0,2850816000.0,2949120000.0,3047424000.0,3145728000.0,3244032000.0,3342336000.0,3440640000.0,3538944000.0,3637248000.0,3735552000.0,3833856000.0,3932160000.0],\"y\":[169.35776,181.80448,192.58048,192.8736,178.65696,186.776,165.2432,151.848,156.59008,183.6448,178.98656,149.1392,170.46592,154.90304,161.95552,160.33024,156.82144,152.7952,152.32096,150.95008,139.47776,145.81312,143.21664,145.02336,143.11424,133.34592,137.96416,139.93408,133.33216,137.35072,134.84512,135.35648,132.12672,133.84448],\"type\":\"scatter\"},{\"line\":{\"color\":\"cyan\",\"width\":3},\"marker\":{\"line\":{\"color\":\"Purple\",\"width\":2},\"size\":7,\"symbol\":\"circle\"},\"mode\":\"lines+markers\",\"name\":\"MacNonFusNonProb_256mpi_4omp\",\"x\":[589824000.0,688128000.0,786432000.0,884736000.0,983040000.0,1081344000.0,1179648000.0,1277952000.0,1376256000.0,1474560000.0,1572864000.0,1671168000.0,1769472000.0,1867776000.0,1966080000.0,2064384000.0,2162688000.0,2260992000.0,2359296000.0,2457600000.0,2555904000.0,2654208000.0,2752512000.0,2850816000.0,2949120000.0,3047424000.0,3145728000.0,3244032000.0,3342336000.0,3440640000.0,3538944000.0,3637248000.0,3735552000.0,3833856000.0,3932160000.0],\"y\":[140.43328,161.78848,165.67648,166.08288,173.84064,165.55776,158.4688,146.87712,156.76768,182.5232,168.56288,171.6736,160.83072,166.13632,159.4128,145.82016,138.64512,155.87392,151.04992,150.07008,145.73088,147.41632,143.3776,143.36256,143.5648,130.45344,139.5504,136.47104,138.23808,136.03616,130.67264,134.04096,134.00608,130.23936,127.99712],\"type\":\"scatter\"},{\"line\":{\"color\":\"blue\",\"width\":3},\"marker\":{\"line\":{\"color\":\"black\",\"width\":1},\"size\":7,\"symbol\":\"star\"},\"mode\":\"lines+markers\",\"name\":\"MacNonFusProb_128mpi_8omp\",\"x\":[540672000.0,589824000.0,638976000.0,688128000.0,737280000.0,786432000.0,835584000.0,884736000.0,933888000.0,983040000.0,1032192000.0,1081344000.0,1130496000.0,1179648000.0,1228800000.0,1277952000.0,1327104000.0,1376256000.0,1425408000.0,1474560000.0,1523712000.0,1572864000.0,1622016000.0,1671168000.0,1720320000.0,1769472000.0,1818624000.0,1867776000.0,1916928000.0,1966080000.0,2015232000.0,2064384000.0,2113536000.0,2162688000.0,2211840000.0,2260992000.0,2310144000.0,2359296000.0,2408448000.0,2457600000.0,2506752000.0,2555904000.0,2605056000.0,2654208000.0,2703360000.0,2752512000.0,2801664000.0,2850816000.0,2899968000.0,2949120000.0,2998272000.0,3047424000.0,3096576000.0,3145728000.0,3194880000.0,3244032000.0,3293184000.0,3342336000.0,3391488000.0,3489792000.0,3538944000.0,3637248000.0,3686400000.0,3735552000.0,3784704000.0,3833856000.0,3883008000.0,3932160000.0],\"y\":[142.29824,144.47136,152.004,157.7576,159.55808,142.25376,159.4488,159.6144,155.43296,157.87248,158.30528,147.22768,150.57408,142.26,129.05984,135.87728,125.30016,123.3432,124.91088,106.86528,146.15136,131.85424,133.99936,130.724,142.90592,137.46816,139.61808,139.17776,127.9424,135.90128,134.21088,131.01488,130.42176,129.21136,118.33088,121.82688,127.58096,127.41696,125.29392,124.94464,120.13024,124.79568,124.26448,117.15168,124.0496,118.38176,121.768,118.27616,117.61632,121.88592,115.50592,115.7752,117.19552,117.36448,117.48784,117.42736,117.52112,117.25136,105.28688,118.7744,115.76752,111.36336,117.51504,115.90448,115.62704,111.57856,112.42928,111.4936],\"type\":\"scatter\"},{\"line\":{\"color\":\"red\",\"width\":3},\"marker\":{\"line\":{\"color\":\"black\",\"width\":1},\"size\":7,\"symbol\":\"star\"},\"mode\":\"lines+markers\",\"name\":\"MacNonFusNonProb_128mpi_8omp\",\"x\":[540672000.0,589824000.0,638976000.0,688128000.0,737280000.0,786432000.0,835584000.0,884736000.0,933888000.0,983040000.0,1032192000.0,1081344000.0,1130496000.0,1179648000.0,1228800000.0,1277952000.0,1327104000.0,1376256000.0,1425408000.0,1474560000.0,1523712000.0,1572864000.0,1622016000.0,1671168000.0,1720320000.0,1769472000.0,1818624000.0,1867776000.0,1916928000.0,1966080000.0,2064384000.0,2113536000.0,2162688000.0,2211840000.0,2260992000.0,2310144000.0,2359296000.0,2408448000.0,2457600000.0,2506752000.0,2555904000.0,2605056000.0,2654208000.0,2703360000.0,2752512000.0,2801664000.0,2850816000.0,2899968000.0,2949120000.0,2998272000.0,3047424000.0,3096576000.0,3145728000.0,3194880000.0,3244032000.0,3293184000.0,3342336000.0,3391488000.0,3440640000.0,3489792000.0,3538944000.0,3637248000.0,3686400000.0,3735552000.0,3784704000.0,3833856000.0,3883008000.0,3932160000.0],\"y\":[119.296,116.05744,132.68608,133.44272,113.55856,140.05584,130.93504,143.58432,141.5408,145.51312,140.7592,121.87264,139.5904,119.51776,115.07312,125.97072,117.99952,123.77328,116.31104,122.14624,136.4768,112.0184,133.82288,132.5032,140.20048,134.01472,140.13856,127.90288,120.16528,135.22128,135.25888,119.42096,131.41136,128.18032,130.1784,127.07104,130.97584,118.97776,128.93184,123.5224,127.21232,124.20688,123.13904,115.80368,115.26768,124.53856,114.40096,121.34944,113.62528,119.66192,121.0464,119.41728,118.04992,121.24432,115.12528,116.49104,118.8864,110.29456,106.5984,117.70016,110.65344,118.572,117.92912,106.46384,108.40928,115.52288,115.95712,107.18336],\"type\":\"scatter\"},{\"line\":{\"color\":\"chartreuse\",\"width\":3},\"marker\":{\"line\":{\"color\":\"mediumvioletred\",\"width\":1},\"size\":6,\"symbol\":\"square-dot\"},\"mode\":\"lines+markers\",\"name\":\"MacNonFusProb_64mpi_16omp\",\"x\":[516096000.0,540672000.0,565248000.0,589824000.0,614400000.0,638976000.0,663552000.0,688128000.0,712704000.0,737280000.0,761856000.0,786432000.0,811008000.0,835584000.0,860160000.0,884736000.0,909312000.0,933888000.0,958464000.0,983040000.0,1007616000.0,1032192000.0,1056768000.0,1081344000.0,1105920000.0,1130496000.0,1155072000.0,1179648000.0,1204224000.0,1228800000.0,1253376000.0,1277952000.0,1302528000.0,1327104000.0,1351680000.0,1376256000.0,1425408000.0,1449984000.0,1474560000.0,1499136000.0,1523712000.0,1548288000.0,1572864000.0,1597440000.0,1622016000.0,1646592000.0,1671168000.0,1695744000.0,1720320000.0,1744896000.0,1769472000.0,1794048000.0,1818624000.0,1843200000.0,1867776000.0,1892352000.0,1916928000.0,1941504000.0,1966080000.0,1990656000.0,2015232000.0,2039808000.0,2064384000.0,2113536000.0,2138112000.0,2162688000.0,2187264000.0,2211840000.0,2236416000.0,2260992000.0,2285568000.0,2310144000.0,2334720000.0,2359296000.0,2383872000.0,2408448000.0,2433024000.0,2457600000.0,2482176000.0,2506752000.0,2531328000.0,2555904000.0,2580480000.0,2605056000.0,2629632000.0,2654208000.0,2678784000.0,2703360000.0,2727936000.0,2752512000.0,2777088000.0,2801664000.0,2826240000.0,2850816000.0,2875392000.0,2924544000.0,2949120000.0],\"y\":[82.5144,76.44448,84.6808,83.1312,84.1976,85.2728,83.7472,84.4424,73.08288,76.10096,82.0736,80.5152,80.3472,79.99072,71.53952,76.26024,73.52656,71.61192,72.03056,70.99504,57.08984,62.95608,61.9816,65.99472,67.87136,62.86768,60.47416,65.2168,62.80952,62.58848,57.74064,62.6,62.33448,60.72064,61.17192,61.1284,58.25344,61.62328,60.2316,58.50008,60.63656,56.12856,60.97984,57.61824,60.69504,59.83624,55.17528,60.45744,59.59088,61.12104,61.8992,62.78792,57.5332,60.36568,54.34384,58.39336,58.53336,62.818,65.89992,62.74656,61.04616,59.86792,65.15976,62.77688,67.02464,61.51896,67.5556,64.33864,64.87208,65.08928,62.44672,62.31672,57.89392,61.71296,63.978,62.9132,59.26904,63.05952,59.99264,63.17032,60.27928,64.65544,61.75528,63.2832,64.56568,59.17704,64.75432,64.62744,63.35256,61.57392,64.37328,64.39744,64.34704,61.3548,64.52856,56.78968,64.36472],\"type\":\"scatter\"},{\"line\":{\"color\":\"black\",\"width\":3},\"marker\":{\"line\":{\"color\":\"mediumvioletred\",\"width\":1},\"size\":6,\"symbol\":\"square-dot\"},\"mode\":\"lines+markers\",\"name\":\"MacNonFusNonProb_64mpi_16omp\",\"x\":[516096000.0,540672000.0,565248000.0,589824000.0,614400000.0,638976000.0,663552000.0,688128000.0,712704000.0,737280000.0,761856000.0,786432000.0,811008000.0,835584000.0,860160000.0,884736000.0,909312000.0,933888000.0,958464000.0,983040000.0,1007616000.0,1032192000.0,1056768000.0,1081344000.0,1105920000.0,1130496000.0,1155072000.0,1179648000.0,1204224000.0,1228800000.0,1253376000.0,1277952000.0,1302528000.0,1327104000.0,1351680000.0,1376256000.0,1400832000.0,1425408000.0,1449984000.0,1474560000.0,1499136000.0,1523712000.0,1548288000.0,1572864000.0,1597440000.0,1622016000.0,1646592000.0,1671168000.0,1695744000.0,1720320000.0,1744896000.0,1769472000.0,1794048000.0,1818624000.0,1843200000.0,1867776000.0,1892352000.0,1916928000.0,1941504000.0,1966080000.0,1990656000.0,2015232000.0,2039808000.0,2064384000.0,2088960000.0,2113536000.0,2138112000.0,2162688000.0,2187264000.0,2211840000.0,2236416000.0,2260992000.0,2285568000.0,2310144000.0,2334720000.0,2359296000.0,2383872000.0,2408448000.0,2433024000.0,2457600000.0,2482176000.0,2506752000.0,2531328000.0,2555904000.0,2580480000.0,2605056000.0,2629632000.0,2654208000.0,2678784000.0,2703360000.0,2727936000.0,2752512000.0,2777088000.0,2801664000.0,2850816000.0,2875392000.0,2899968000.0,2924544000.0],\"y\":[74.78232,75.73744,75.43808,76.61184,77.27928,76.52712,70.39072,78.546,71.9652,75.63096,75.722,76.03384,75.15216,77.5996,73.27312,64.00088,73.04928,70.30424,70.92056,70.73512,68.35776,68.79,62.79992,67.07368,61.77096,66.19024,60.758,61.71104,63.55928,56.7884,60.78616,55.59232,58.63064,59.42088,56.12328,57.03184,51.48216,57.98528,57.30808,56.6652,53.50504,54.26864,55.9904,54.5088,56.37056,52.48696,54.0544,54.65752,51.75992,56.23832,58.89904,48.09064,56.09168,58.69384,53.07304,52.74488,57.06688,59.88584,58.5268,57.91352,58.99856,56.7136,58.8032,60.8856,55.49984,53.16128,61.37984,61.3404,58.0244,60.5296,60.21824,59.97392,55.68488,60.68128,60.63216,61.36432,61.32448,61.85264,60.28552,61.4156,63.43592,61.28816,61.91248,59.64216,62.84696,61.98632,62.732,61.73488,60.92968,61.27832,60.50048,61.01472,64.1992,62.77136,59.50848,60.51344,62.70088,64.57608],\"type\":\"scatter\"},{\"line\":{\"color\":\"gold\",\"width\":3},\"marker\":{\"line\":{\"color\":\"black\",\"width\":1},\"size\":6,\"symbol\":\"triangle-up\"},\"mode\":\"lines+markers\",\"name\":\"MacNonFusProb_168mpi_6omp\",\"x\":[516096000.0,645120000.0,774144000.0,903168000.0,1032192000.0,1161216000.0,1290240000.0,1419264000.0,1548288000.0,1677312000.0,1806336000.0,1935360000.0,2064384000.0,2193408000.0,2322432000.0,2451456000.0,2580480000.0,2709504000.0,2838528000.0,2967552000.0,3096576000.0,3225600000.0,3354624000.0,3483648000.0],\"y\":[85.29486,85.4952,91.22211,89.06645999999999,85.55925,80.10156,73.90550999999999,106.30368,101.60577,98.75102999999999,94.89711,93.53505,88.3617,89.09795999999999,88.12965,87.35978999999999,84.66528,83.49243,80.15174999999999,83.30217,78.74286,78.69372,78.80082,77.78273999999999],\"type\":\"scatter\"},{\"line\":{\"color\":\"dimgray\",\"width\":3},\"marker\":{\"line\":{\"color\":\"black\",\"width\":1},\"size\":6,\"symbol\":\"triangle-up\"},\"mode\":\"lines+markers\",\"name\":\"MacNonFusNonProb_168mpi_6omp\",\"x\":[516096000.0,645120000.0,774144000.0,903168000.0,1032192000.0,1161216000.0,1290240000.0,1419264000.0,1548288000.0,1677312000.0,1806336000.0,1935360000.0,2064384000.0,2193408000.0,2322432000.0,2451456000.0,2580480000.0,2709504000.0,2838528000.0,2967552000.0,3096576000.0,3225600000.0,3354624000.0,3483648000.0],\"y\":[86.32533000000001,89.19350999999999,89.30333999999999,82.76079,86.34654,82.36158,95.59599000000001,110.58096,103.27337999999999,100.58726999999999,96.23523,94.62978,92.84121,89.94216,88.91589,87.28062,84.57204,85.42464000000001,83.32359,78.38817,81.13539,80.04696,78.08388,78.06078],\"type\":\"scatter\"},{\"line\":{\"color\":\"olive\",\"width\":3},\"marker\":{\"line\":{\"color\":\"olive\",\"width\":2},\"size\":6,\"symbol\":\"circle\"},\"mode\":\"lines+markers\",\"name\":\"MacNonFusProb_504mpi_2omp\",\"x\":[774144000.0,1548288000.0,1935360000.0,2322432000.0,2709504000.0,3096576000.0,3483648000.0,3870720000.0],\"y\":[201.38643000000002,192.87324,177.09174,163.03455,155.31264,148.53384000000003,140.80436999999998,139.62942],\"type\":\"scatter\"},{\"line\":{\"color\":\"Brown\",\"width\":3},\"marker\":{\"line\":{\"color\":\"darkred\",\"width\":2},\"size\":6,\"symbol\":\"circle\"},\"mode\":\"lines+markers\",\"name\":\"MacNonFusNonProb_504mpi_2omp\",\"x\":[774144000.0,1161216000.0,1548288000.0,1935360000.0,2322432000.0,2709504000.0,3096576000.0,3483648000.0,3870720000.0],\"y\":[188.75304,208.33218,190.63107,173.43648,163.59336,152.42913,148.15836,144.32733,139.24008],\"type\":\"scatter\"}],                        {\"template\":{\"data\":{\"histogram2dcontour\":[{\"type\":\"histogram2dcontour\",\"colorbar\":{\"outlinewidth\":0,\"ticks\":\"\"},\"colorscale\":[[0.0,\"#0d0887\"],[0.1111111111111111,\"#46039f\"],[0.2222222222222222,\"#7201a8\"],[0.3333333333333333,\"#9c179e\"],[0.4444444444444444,\"#bd3786\"],[0.5555555555555556,\"#d8576b\"],[0.6666666666666666,\"#ed7953\"],[0.7777777777777778,\"#fb9f3a\"],[0.8888888888888888,\"#fdca26\"],[1.0,\"#f0f921\"]]}],\"choropleth\":[{\"type\":\"choropleth\",\"colorbar\":{\"outlinewidth\":0,\"ticks\":\"\"}}],\"histogram2d\":[{\"type\":\"histogram2d\",\"colorbar\":{\"outlinewidth\":0,\"ticks\":\"\"},\"colorscale\":[[0.0,\"#0d0887\"],[0.1111111111111111,\"#46039f\"],[0.2222222222222222,\"#7201a8\"],[0.3333333333333333,\"#9c179e\"],[0.4444444444444444,\"#bd3786\"],[0.5555555555555556,\"#d8576b\"],[0.6666666666666666,\"#ed7953\"],[0.7777777777777778,\"#fb9f3a\"],[0.8888888888888888,\"#fdca26\"],[1.0,\"#f0f921\"]]}],\"heatmap\":[{\"type\":\"heatmap\",\"colorbar\":{\"outlinewidth\":0,\"ticks\":\"\"},\"colorscale\":[[0.0,\"#0d0887\"],[0.1111111111111111,\"#46039f\"],[0.2222222222222222,\"#7201a8\"],[0.3333333333333333,\"#9c179e\"],[0.4444444444444444,\"#bd3786\"],[0.5555555555555556,\"#d8576b\"],[0.6666666666666666,\"#ed7953\"],[0.7777777777777778,\"#fb9f3a\"],[0.8888888888888888,\"#fdca26\"],[1.0,\"#f0f921\"]]}],\"heatmapgl\":[{\"type\":\"heatmapgl\",\"colorbar\":{\"outlinewidth\":0,\"ticks\":\"\"},\"colorscale\":[[0.0,\"#0d0887\"],[0.1111111111111111,\"#46039f\"],[0.2222222222222222,\"#7201a8\"],[0.3333333333333333,\"#9c179e\"],[0.4444444444444444,\"#bd3786\"],[0.5555555555555556,\"#d8576b\"],[0.6666666666666666,\"#ed7953\"],[0.7777777777777778,\"#fb9f3a\"],[0.8888888888888888,\"#fdca26\"],[1.0,\"#f0f921\"]]}],\"contourcarpet\":[{\"type\":\"contourcarpet\",\"colorbar\":{\"outlinewidth\":0,\"ticks\":\"\"}}],\"contour\":[{\"type\":\"contour\",\"colorbar\":{\"outlinewidth\":0,\"ticks\":\"\"},\"colorscale\":[[0.0,\"#0d0887\"],[0.1111111111111111,\"#46039f\"],[0.2222222222222222,\"#7201a8\"],[0.3333333333333333,\"#9c179e\"],[0.4444444444444444,\"#bd3786\"],[0.5555555555555556,\"#d8576b\"],[0.6666666666666666,\"#ed7953\"],[0.7777777777777778,\"#fb9f3a\"],[0.8888888888888888,\"#fdca26\"],[1.0,\"#f0f921\"]]}],\"surface\":[{\"type\":\"surface\",\"colorbar\":{\"outlinewidth\":0,\"ticks\":\"\"},\"colorscale\":[[0.0,\"#0d0887\"],[0.1111111111111111,\"#46039f\"],[0.2222222222222222,\"#7201a8\"],[0.3333333333333333,\"#9c179e\"],[0.4444444444444444,\"#bd3786\"],[0.5555555555555556,\"#d8576b\"],[0.6666666666666666,\"#ed7953\"],[0.7777777777777778,\"#fb9f3a\"],[0.8888888888888888,\"#fdca26\"],[1.0,\"#f0f921\"]]}],\"mesh3d\":[{\"type\":\"mesh3d\",\"colorbar\":{\"outlinewidth\":0,\"ticks\":\"\"}}],\"scatter\":[{\"fillpattern\":{\"fillmode\":\"overlay\",\"size\":10,\"solidity\":0.2},\"type\":\"scatter\"}],\"parcoords\":[{\"type\":\"parcoords\",\"line\":{\"colorbar\":{\"outlinewidth\":0,\"ticks\":\"\"}}}],\"scatterpolargl\":[{\"type\":\"scatterpolargl\",\"marker\":{\"colorbar\":{\"outlinewidth\":0,\"ticks\":\"\"}}}],\"bar\":[{\"error_x\":{\"color\":\"#2a3f5f\"},\"error_y\":{\"color\":\"#2a3f5f\"},\"marker\":{\"line\":{\"color\":\"#E5ECF6\",\"width\":0.5},\"pattern\":{\"fillmode\":\"overlay\",\"size\":10,\"solidity\":0.2}},\"type\":\"bar\"}],\"scattergeo\":[{\"type\":\"scattergeo\",\"marker\":{\"colorbar\":{\"outlinewidth\":0,\"ticks\":\"\"}}}],\"scatterpolar\":[{\"type\":\"scatterpolar\",\"marker\":{\"colorbar\":{\"outlinewidth\":0,\"ticks\":\"\"}}}],\"histogram\":[{\"marker\":{\"pattern\":{\"fillmode\":\"overlay\",\"size\":10,\"solidity\":0.2}},\"type\":\"histogram\"}],\"scattergl\":[{\"type\":\"scattergl\",\"marker\":{\"colorbar\":{\"outlinewidth\":0,\"ticks\":\"\"}}}],\"scatter3d\":[{\"type\":\"scatter3d\",\"line\":{\"colorbar\":{\"outlinewidth\":0,\"ticks\":\"\"}},\"marker\":{\"colorbar\":{\"outlinewidth\":0,\"ticks\":\"\"}}}],\"scattermapbox\":[{\"type\":\"scattermapbox\",\"marker\":{\"colorbar\":{\"outlinewidth\":0,\"ticks\":\"\"}}}],\"scatterternary\":[{\"type\":\"scatterternary\",\"marker\":{\"colorbar\":{\"outlinewidth\":0,\"ticks\":\"\"}}}],\"scattercarpet\":[{\"type\":\"scattercarpet\",\"marker\":{\"colorbar\":{\"outlinewidth\":0,\"ticks\":\"\"}}}],\"carpet\":[{\"aaxis\":{\"endlinecolor\":\"#2a3f5f\",\"gridcolor\":\"white\",\"linecolor\":\"white\",\"minorgridcolor\":\"white\",\"startlinecolor\":\"#2a3f5f\"},\"baxis\":{\"endlinecolor\":\"#2a3f5f\",\"gridcolor\":\"white\",\"linecolor\":\"white\",\"minorgridcolor\":\"white\",\"startlinecolor\":\"#2a3f5f\"},\"type\":\"carpet\"}],\"table\":[{\"cells\":{\"fill\":{\"color\":\"#EBF0F8\"},\"line\":{\"color\":\"white\"}},\"header\":{\"fill\":{\"color\":\"#C8D4E3\"},\"line\":{\"color\":\"white\"}},\"type\":\"table\"}],\"barpolar\":[{\"marker\":{\"line\":{\"color\":\"#E5ECF6\",\"width\":0.5},\"pattern\":{\"fillmode\":\"overlay\",\"size\":10,\"solidity\":0.2}},\"type\":\"barpolar\"}],\"pie\":[{\"automargin\":true,\"type\":\"pie\"}]},\"layout\":{\"autotypenumbers\":\"strict\",\"colorway\":[\"#636efa\",\"#EF553B\",\"#00cc96\",\"#ab63fa\",\"#FFA15A\",\"#19d3f3\",\"#FF6692\",\"#B6E880\",\"#FF97FF\",\"#FECB52\"],\"font\":{\"color\":\"#2a3f5f\"},\"hovermode\":\"closest\",\"hoverlabel\":{\"align\":\"left\"},\"paper_bgcolor\":\"white\",\"plot_bgcolor\":\"#E5ECF6\",\"polar\":{\"bgcolor\":\"#E5ECF6\",\"angularaxis\":{\"gridcolor\":\"white\",\"linecolor\":\"white\",\"ticks\":\"\"},\"radialaxis\":{\"gridcolor\":\"white\",\"linecolor\":\"white\",\"ticks\":\"\"}},\"ternary\":{\"bgcolor\":\"#E5ECF6\",\"aaxis\":{\"gridcolor\":\"white\",\"linecolor\":\"white\",\"ticks\":\"\"},\"baxis\":{\"gridcolor\":\"white\",\"linecolor\":\"white\",\"ticks\":\"\"},\"caxis\":{\"gridcolor\":\"white\",\"linecolor\":\"white\",\"ticks\":\"\"}},\"coloraxis\":{\"colorbar\":{\"outlinewidth\":0,\"ticks\":\"\"}},\"colorscale\":{\"sequential\":[[0.0,\"#0d0887\"],[0.1111111111111111,\"#46039f\"],[0.2222222222222222,\"#7201a8\"],[0.3333333333333333,\"#9c179e\"],[0.4444444444444444,\"#bd3786\"],[0.5555555555555556,\"#d8576b\"],[0.6666666666666666,\"#ed7953\"],[0.7777777777777778,\"#fb9f3a\"],[0.8888888888888888,\"#fdca26\"],[1.0,\"#f0f921\"]],\"sequentialminus\":[[0.0,\"#0d0887\"],[0.1111111111111111,\"#46039f\"],[0.2222222222222222,\"#7201a8\"],[0.3333333333333333,\"#9c179e\"],[0.4444444444444444,\"#bd3786\"],[0.5555555555555556,\"#d8576b\"],[0.6666666666666666,\"#ed7953\"],[0.7777777777777778,\"#fb9f3a\"],[0.8888888888888888,\"#fdca26\"],[1.0,\"#f0f921\"]],\"diverging\":[[0,\"#8e0152\"],[0.1,\"#c51b7d\"],[0.2,\"#de77ae\"],[0.3,\"#f1b6da\"],[0.4,\"#fde0ef\"],[0.5,\"#f7f7f7\"],[0.6,\"#e6f5d0\"],[0.7,\"#b8e186\"],[0.8,\"#7fbc41\"],[0.9,\"#4d9221\"],[1,\"#276419\"]]},\"xaxis\":{\"gridcolor\":\"white\",\"linecolor\":\"white\",\"ticks\":\"\",\"title\":{\"standoff\":15},\"zerolinecolor\":\"white\",\"automargin\":true,\"zerolinewidth\":2},\"yaxis\":{\"gridcolor\":\"white\",\"linecolor\":\"white\",\"ticks\":\"\",\"title\":{\"standoff\":15},\"zerolinecolor\":\"white\",\"automargin\":true,\"zerolinewidth\":2},\"scene\":{\"xaxis\":{\"backgroundcolor\":\"#E5ECF6\",\"gridcolor\":\"white\",\"linecolor\":\"white\",\"showbackground\":true,\"ticks\":\"\",\"zerolinecolor\":\"white\",\"gridwidth\":2},\"yaxis\":{\"backgroundcolor\":\"#E5ECF6\",\"gridcolor\":\"white\",\"linecolor\":\"white\",\"showbackground\":true,\"ticks\":\"\",\"zerolinecolor\":\"white\",\"gridwidth\":2},\"zaxis\":{\"backgroundcolor\":\"#E5ECF6\",\"gridcolor\":\"white\",\"linecolor\":\"white\",\"showbackground\":true,\"ticks\":\"\",\"zerolinecolor\":\"white\",\"gridwidth\":2}},\"shapedefaults\":{\"line\":{\"color\":\"#2a3f5f\"}},\"annotationdefaults\":{\"arrowcolor\":\"#2a3f5f\",\"arrowhead\":0,\"arrowwidth\":1},\"geo\":{\"bgcolor\":\"white\",\"landcolor\":\"#E5ECF6\",\"subunitcolor\":\"white\",\"showland\":true,\"showlakes\":true,\"lakecolor\":\"white\"},\"title\":{\"x\":0.05},\"mapbox\":{\"style\":\"light\"}}},\"shapes\":[{\"line\":{\"color\":\"green\",\"dash\":\"dash\",\"width\":3},\"type\":\"line\",\"x0\":512000000.0,\"x1\":512000000.0,\"xref\":\"x\",\"y0\":0,\"y1\":1,\"yref\":\"y domain\"}],\"annotations\":[{\"align\":\"left\",\"arrowcolor\":\"#636363\",\"arrowhead\":1,\"arrowsize\":1,\"arrowwidth\":2,\"ax\":-20,\"ay\":-30,\"font\":{\"color\":\"purple\",\"family\":\"Sans Serif\",\"size\":12},\"showarrow\":false,\"text\":\"LLC Size Per Node\",\"x\":\"512e6\",\"y\":130,\"yanchor\":\"bottom\"}],\"xaxis\":{\"title\":{\"text\":\"Dirc_Data_Mov\"},\"ticks\":\"outside\"},\"yaxis\":{\"title\":{\"text\":\"GFLOPs/Node\"},\"ticks\":\"outside\"},\"title\":{\"text\":\"\\\"NonFused-Macro (8-Nodes): probempi vs nonprobempi\\\" GFlops Measurement\"}},                        {\"responsive\": true}                    ).then(function(){\n",
       "                            \n",
       "var gd = document.getElementById('e04f382b-54b4-48d0-bd46-fe9cfe9463cf');\n",
       "var x = new MutationObserver(function (mutations, observer) {{\n",
       "        var display = window.getComputedStyle(gd).display;\n",
       "        if (!display || display === 'none') {{\n",
       "            console.log([gd, 'removed!']);\n",
       "            Plotly.purge(gd);\n",
       "            observer.disconnect();\n",
       "        }}\n",
       "}});\n",
       "\n",
       "// Listen for the removal of the full notebook cells\n",
       "var notebookContainer = gd.closest('#notebook-container');\n",
       "if (notebookContainer) {{\n",
       "    x.observe(notebookContainer, {childList: true});\n",
       "}}\n",
       "\n",
       "// Listen for the clearing of the current output cell\n",
       "var outputEl = gd.closest('.output');\n",
       "if (outputEl) {{\n",
       "    x.observe(outputEl, {childList: true});\n",
       "}}\n",
       "\n",
       "                        })                };                });            </script>        </div>"
      ]
     },
     "metadata": {},
     "output_type": "display_data"
    }
   ],
   "source": [
    "fig = go.Figure() \n",
    "\n",
    "# Case 1\n",
    "fig.add_trace(go.Scatter(x=(dfn8MacNonFusProb_1024mpi_1omp.Dirc_Data_Mov*(dfn8MacNonFusProb_1024mpi_1omp.MPI_size/8)), \n",
    "                         y=(dfn8MacNonFusProb_1024mpi_1omp.GFLOPS*(dfn8MacNonFusProb_1024mpi_1omp.MPI_size/8)), \n",
    "                         mode='lines+markers', \n",
    "                         name='MacNonFusProb_1024mpi_1omp',\n",
    "                         line=dict(color='darkcyan',width=3),\n",
    "                         marker=dict(symbol='hexagon',size=9, line=dict(color='yellow',width=1))))\n",
    "\n",
    "fig.add_trace(go.Scatter(x=(dfn8MacNonFusNonProb_1024mpi_1omp.Dirc_Data_Mov*(dfn8MacNonFusNonProb_1024mpi_1omp.MPI_size/8)), \n",
    "                         y=(dfn8MacNonFusNonProb_1024mpi_1omp.GFLOPS*(dfn8MacNonFusNonProb_1024mpi_1omp.MPI_size/8)), \n",
    "                         mode='lines+markers', \n",
    "                         name='MacNonFusNonProb_1024mpi_1omp',\n",
    "                         line=dict(color='magenta',width=3),\n",
    "                         marker=dict(symbol='hexagon',size=9, line=dict(color='yellow',width=1))))\n",
    "\n",
    "\n",
    "# Case 2\n",
    "fig.add_trace(go.Scatter(x=(dfn8MacNonFusProb_512mpi_2omp.Dirc_Data_Mov*(dfn8MacNonFusProb_512mpi_2omp.MPI_size/8)), \n",
    "                         y=(dfn8MacNonFusProb_512mpi_2omp.GFLOPS*(dfn8MacNonFusProb_512mpi_2omp.MPI_size/8)), \n",
    "                         mode='lines+markers', \n",
    "                         name='MacNonFusProb_512mpi_2omp',\n",
    "                         line=dict(color='royalblue',width=3),\n",
    "                         marker=dict(symbol='diamond',size=5,line=dict(color='MediumPurple',width=2))))\n",
    "\n",
    "fig.add_trace(go.Scatter(x=(dfn8MacNonFusNonProb_512mpi_2omp.Dirc_Data_Mov*(dfn8MacNonFusNonProb_512mpi_2omp.MPI_size/8)), \n",
    "                         y=(dfn8MacNonFusNonProb_512mpi_2omp.GFLOPS*(dfn8MacNonFusNonProb_512mpi_2omp.MPI_size/8)), \n",
    "                         mode='lines+markers', \n",
    "                         name='MacNonFusNonProb_512mpi_2omp',\n",
    "                         line=dict(color='sandybrown',width=3),\n",
    "                         marker=dict(symbol='diamond',size=5,line=dict(color='MediumPurple',width=2))))\n",
    "\n",
    "\n",
    "# Case 3\n",
    "fig.add_trace(go.Scatter(x=(dfn8MacNonFusProb_256mpi_4omp.Dirc_Data_Mov*(dfn8MacNonFusProb_256mpi_4omp.MPI_size/8)), \n",
    "                         y=(dfn8MacNonFusProb_256mpi_4omp.GFLOPS*(dfn8MacNonFusProb_256mpi_4omp.MPI_size/8)), \n",
    "                         mode='lines+markers', \n",
    "                         name='MacNonFusProb_256mpi_4omp',\n",
    "                         line=dict(color='darkblue',width=3),\n",
    "                         marker=dict(symbol='circle',size=7, line=dict(color='tomato',width=2))))\n",
    "\n",
    "fig.add_trace(go.Scatter(x=(dfn8MacNonFusNonProb_256mpi_4omp.Dirc_Data_Mov*(dfn8MacNonFusNonProb_256mpi_4omp.MPI_size/8)), \n",
    "                         y=(dfn8MacNonFusNonProb_256mpi_4omp.GFLOPS*(dfn8MacNonFusNonProb_256mpi_4omp.MPI_size/8)), \n",
    "                         mode='lines+markers', \n",
    "                         name='MacNonFusNonProb_256mpi_4omp',\n",
    "                         line=dict(color='cyan',width=3),\n",
    "                         marker=dict(symbol='circle',size=7,line=dict(color='Purple',width=2))))\n",
    "\n",
    "\n",
    "\n",
    "# Case 4\n",
    "fig.add_trace(go.Scatter(x=(dfn8MacNonFusProb_128mpi_8omp.Dirc_Data_Mov*(dfn8MacNonFusProb_128mpi_8omp.MPI_size/8)), \n",
    "                         y=(dfn8MacNonFusProb_128mpi_8omp.GFLOPS*(dfn8MacNonFusProb_128mpi_8omp.MPI_size/8)), \n",
    "                         mode='lines+markers', \n",
    "                         name='MacNonFusProb_128mpi_8omp',\n",
    "                         line=dict(color='blue',width=3),\n",
    "                         marker=dict(symbol='star',size=7, line=dict(color='black',width=1))))\n",
    "\n",
    "fig.add_trace(go.Scatter(x=(dfn8MacNonFusNonProb_128mpi_8omp.Dirc_Data_Mov*(dfn8MacNonFusNonProb_128mpi_8omp.MPI_size/8)), \n",
    "                         y=(dfn8MacNonFusNonProb_128mpi_8omp.GFLOPS*(dfn8MacNonFusNonProb_128mpi_8omp.MPI_size/8)), \n",
    "                         mode='lines+markers', \n",
    "                         name='MacNonFusNonProb_128mpi_8omp',\n",
    "                         line=dict(color='red',width=3),\n",
    "                         marker=dict(symbol='star',size=7, line=dict(color='black',width=1))))\n",
    "\n",
    "\n",
    "# Case 5\n",
    "fig.add_trace(go.Scatter(x=(dfn8MacNonFusProb_64mpi_16omp.Dirc_Data_Mov*(dfn8MacNonFusProb_64mpi_16omp.MPI_size/8)), \n",
    "                         y=(dfn8MacNonFusProb_64mpi_16omp.GFLOPS*(dfn8MacNonFusProb_64mpi_16omp.MPI_size/8)), \n",
    "                         mode='lines+markers', \n",
    "                         name='MacNonFusProb_64mpi_16omp',\n",
    "                         line=dict(color='chartreuse',width=3),\n",
    "                         marker=dict(symbol='square-dot',size=6, line=dict(color='mediumvioletred',width=1))))\n",
    "\n",
    "fig.add_trace(go.Scatter(x=(dfn8MacNonFusNonProb_64mpi_16omp.Dirc_Data_Mov*(dfn8MacNonFusNonProb_64mpi_16omp.MPI_size/8)), \n",
    "                         y=(dfn8MacNonFusNonProb_64mpi_16omp.GFLOPS*(dfn8MacNonFusNonProb_64mpi_16omp.MPI_size/8)), \n",
    "                         mode='lines+markers', \n",
    "                         name='MacNonFusNonProb_64mpi_16omp',\n",
    "                         line=dict(color='black',width=3),\n",
    "                         marker=dict(symbol='square-dot',size=6, line=dict(color='mediumvioletred',width=1))))\n",
    "\n",
    "\n",
    "# Case 6\n",
    "fig.add_trace(go.Scatter(x=(dfn8MacNonFusProb_168mpi_6omp.Dirc_Data_Mov*(dfn8MacNonFusProb_168mpi_6omp.MPI_size/8)), \n",
    "                         y=(dfn8MacNonFusProb_168mpi_6omp.GFLOPS*(dfn8MacNonFusProb_168mpi_6omp.MPI_size/8)), \n",
    "                         mode='lines+markers', \n",
    "                         name='MacNonFusProb_168mpi_6omp',\n",
    "                         line=dict(color='gold',width=3),\n",
    "                         marker=dict(symbol='triangle-up',size=6, line=dict(color='black',width=1))))\n",
    "\n",
    "fig.add_trace(go.Scatter(x=(dfn8MacNonFusNonProb_168mpi_6omp.Dirc_Data_Mov*(dfn8MacNonFusNonProb_168mpi_6omp.MPI_size/8)), \n",
    "                         y=(dfn8MacNonFusNonProb_168mpi_6omp.GFLOPS*(dfn8MacNonFusNonProb_168mpi_6omp.MPI_size/8)), \n",
    "                         mode='lines+markers', \n",
    "                         name='MacNonFusNonProb_168mpi_6omp',\n",
    "                         line=dict(color='dimgray',width=3),\n",
    "                         marker=dict(symbol='triangle-up',size=6, line=dict(color='black',width=1))))\n",
    "\n",
    "\n",
    "\n",
    "# Case 7\n",
    "fig.add_trace(go.Scatter(x=(dfn8MacNonFusProb_504mpi_2omp.Dirc_Data_Mov*(dfn8MacNonFusProb_504mpi_2omp.MPI_size/8)), \n",
    "                         y=(dfn8MacNonFusProb_504mpi_2omp.GFLOPS*(dfn8MacNonFusProb_504mpi_2omp.MPI_size/8)), \n",
    "                         mode='lines+markers', \n",
    "                         name='MacNonFusProb_504mpi_2omp',\n",
    "                         line=dict(color='olive',width=3),\n",
    "                         marker=dict(symbol='circle',size=6, line=dict(color='olive',width=2))))\n",
    "\n",
    "fig.add_trace(go.Scatter(x=(dfn8MacNonFusNonProb_504mpi_2omp.Dirc_Data_Mov*(dfn8MacNonFusNonProb_504mpi_2omp.MPI_size/8)), \n",
    "                         y=(dfn8MacNonFusNonProb_504mpi_2omp.GFLOPS*(dfn8MacNonFusNonProb_504mpi_2omp.MPI_size/8)), \n",
    "                         mode='lines+markers', \n",
    "                         name='MacNonFusNonProb_504mpi_2omp',\n",
    "                         line=dict(color='Brown',width=3),\n",
    "                         marker=dict(symbol='circle',size=6, line=dict(color='darkred',width=2))))\n",
    "\n",
    "\n",
    "\n",
    "\n",
    "# Adding a vertical line\n",
    "fig.add_vline(x=512e6, line_width=3, line_dash=\"dash\", line_color=\"green\")\n",
    "# fig.add_hline(y=1024, line_width=3, line_dash=\"dash\", line_color=\"red\")\n",
    "\n",
    "# Add annotation\n",
    "fig.add_annotation(\n",
    "    x='512e6'\n",
    "    , y=130\n",
    "    , text=f'LLC Size Per Node'\n",
    "    , yanchor='bottom'\n",
    "    , showarrow=False\n",
    "    , arrowhead=1\n",
    "    , arrowsize=1\n",
    "    , arrowwidth=2\n",
    "    , arrowcolor=\"#636363\"\n",
    "    , ax=-20\n",
    "    , ay=-30\n",
    "    , font=dict(size=12, color=\"purple\", family=\"Sans Serif\")\n",
    "    , align=\"left\"\n",
    "    ,)\n",
    "\n",
    "fig.update_layout(title='\"NonFused-Macro (8-Nodes): probempi vs nonprobempi\" GFlops Measurement',\n",
    "                  xaxis_title='Dirc_Data_Mov', yaxis_title='GFLOPs/Node', \n",
    "                  xaxis=dict(ticks=\"outside\"),  \n",
    "                  yaxis=dict(ticks=\"outside\"))"
   ]
  },
  {
   "cell_type": "markdown",
   "id": "77db7fcd",
   "metadata": {},
   "source": [
    "## BANDWIDTH - Nonfused Macro: Probempi vs Nonprobempi"
   ]
  },
  {
   "cell_type": "code",
   "execution_count": 18,
   "id": "ca715571",
   "metadata": {},
   "outputs": [
    {
     "data": {
      "application/vnd.plotly.v1+json": {
       "config": {
        "plotlyServerURL": "https://plot.ly"
       },
       "data": [
        {
         "line": {
          "color": "darkcyan",
          "width": 3
         },
         "marker": {
          "line": {
           "color": "yellow",
           "width": 1
          },
          "size": 9,
          "symbol": "hexagon"
         },
         "mode": "lines+markers",
         "name": "MacNonFusProb_1024mpi_1omp",
         "type": "scatter",
         "x": [
          1572864000,
          1966080000,
          2359296000,
          2752512000,
          3145728000,
          3538944000,
          3932160000
         ],
         "y": [
          439.22048,
          424.52736,
          395.42784,
          376.31744,
          363.36256,
          354.75456,
          346.1184
         ]
        },
        {
         "line": {
          "color": "magenta",
          "width": 3
         },
         "marker": {
          "line": {
           "color": "yellow",
           "width": 1
          },
          "size": 9,
          "symbol": "hexagon"
         },
         "mode": "lines+markers",
         "name": "MacNonFusNonProb_1024mpi_1omp",
         "type": "scatter",
         "x": [
          1572864000,
          1966080000,
          2359296000,
          2752512000,
          3145728000,
          3538944000,
          3932160000
         ],
         "y": [
          437.07008,
          404.3392,
          402.80064,
          319.23328,
          375.88608,
          362.272,
          352.77312
         ]
        },
        {
         "line": {
          "color": "royalblue",
          "width": 3
         },
         "marker": {
          "line": {
           "color": "MediumPurple",
           "width": 2
          },
          "size": 5,
          "symbol": "diamond"
         },
         "mode": "lines+markers",
         "name": "MacNonFusProb_512mpi_2omp",
         "type": "scatter",
         "x": [
          786432000,
          983040000,
          1179648000,
          1376256000,
          1572864000,
          1769472000,
          1966080000,
          2162688000,
          2359296000,
          2555904000,
          2752512000,
          2949120000,
          3145728000,
          3342336000,
          3538944000,
          3735552000,
          3932160000
         ],
         "y": [
          405.6416,
          413.37216,
          460.31104,
          406.49024,
          456.74688,
          431.4848,
          410.07424,
          398.68416,
          385.04768,
          378.0928,
          351.7504,
          352.70336,
          337.8112,
          347.35296,
          332.25728,
          334.4736,
          321.25952
         ]
        },
        {
         "line": {
          "color": "sandybrown",
          "width": 3
         },
         "marker": {
          "line": {
           "color": "MediumPurple",
           "width": 2
          },
          "size": 5,
          "symbol": "diamond"
         },
         "mode": "lines+markers",
         "name": "MacNonFusNonProb_512mpi_2omp",
         "type": "scatter",
         "x": [
          786432000,
          983040000,
          1179648000,
          1376256000,
          1572864000,
          1966080000,
          2162688000,
          2359296000,
          2555904000,
          2752512000,
          2949120000,
          3145728000,
          3342336000,
          3538944000,
          3735552000,
          3932160000
         ],
         "y": [
          390.88896,
          417.39904,
          461.7184,
          467.7504,
          452.03456,
          416.00768,
          401.1008,
          392.68032,
          364.18816,
          363.43616,
          348.99712,
          355.168,
          327.93024,
          341.28128,
          329.37152,
          325.3984
         ]
        },
        {
         "line": {
          "color": "darkblue",
          "width": 3
         },
         "marker": {
          "line": {
           "color": "tomato",
           "width": 2
          },
          "size": 7,
          "symbol": "circle"
         },
         "mode": "lines+markers",
         "name": "MacNonFusProb_256mpi_4omp",
         "type": "scatter",
         "x": [
          589824000,
          688128000,
          786432000,
          884736000,
          983040000,
          1081344000,
          1179648000,
          1277952000,
          1376256000,
          1474560000,
          1572864000,
          1671168000,
          1867776000,
          1966080000,
          2064384000,
          2162688000,
          2260992000,
          2359296000,
          2457600000,
          2555904000,
          2654208000,
          2752512000,
          2850816000,
          2949120000,
          3047424000,
          3145728000,
          3244032000,
          3342336000,
          3440640000,
          3538944000,
          3637248000,
          3735552000,
          3833856000,
          3932160000
         ],
         "y": [
          394.1408,
          423.1072,
          448.1856,
          448.8704,
          415.7824,
          434.6784,
          384.5664,
          353.392,
          364.4288,
          427.392,
          416.5504,
          347.088,
          396.72,
          360.5024,
          376.9152,
          373.1328,
          364.9664,
          355.5968,
          354.4928,
          351.3024,
          324.6016,
          339.3472,
          333.3056,
          337.5104,
          333.0656,
          310.33216,
          321.0816,
          325.664,
          310.30016,
          319.6528,
          313.82112,
          315.01184,
          307.49472,
          311.4928
         ]
        },
        {
         "line": {
          "color": "cyan",
          "width": 3
         },
         "marker": {
          "line": {
           "color": "Purple",
           "width": 2
          },
          "size": 7,
          "symbol": "circle"
         },
         "mode": "lines+markers",
         "name": "MacNonFusNonProb_256mpi_4omp",
         "type": "scatter",
         "x": [
          589824000,
          688128000,
          786432000,
          884736000,
          983040000,
          1081344000,
          1179648000,
          1277952000,
          1376256000,
          1474560000,
          1572864000,
          1671168000,
          1769472000,
          1867776000,
          1966080000,
          2064384000,
          2162688000,
          2260992000,
          2359296000,
          2457600000,
          2555904000,
          2654208000,
          2752512000,
          2850816000,
          2949120000,
          3047424000,
          3145728000,
          3244032000,
          3342336000,
          3440640000,
          3538944000,
          3637248000,
          3735552000,
          3833856000,
          3932160000
         ],
         "y": [
          326.8256,
          376.5248,
          385.5744,
          386.5184,
          404.576,
          385.2992,
          368.8,
          341.824,
          364.8416,
          424.7808,
          392.2912,
          399.5296,
          374.2976,
          386.6432,
          370.9984,
          339.3632,
          322.6656,
          362.7616,
          351.536,
          349.2544,
          339.1552,
          343.0784,
          333.68,
          333.6448,
          334.1152,
          303.60032,
          324.7712,
          317.60512,
          321.7184,
          316.5936,
          304.11072,
          311.95008,
          311.86912,
          303.1024,
          297.88416
         ]
        },
        {
         "line": {
          "color": "blue",
          "width": 3
         },
         "marker": {
          "line": {
           "color": "black",
           "width": 1
          },
          "size": 7,
          "symbol": "star"
         },
         "mode": "lines+markers",
         "name": "MacNonFusProb_128mpi_8omp",
         "type": "scatter",
         "x": [
          540672000,
          589824000,
          638976000,
          688128000,
          737280000,
          786432000,
          835584000,
          884736000,
          933888000,
          983040000,
          1032192000,
          1081344000,
          1130496000,
          1179648000,
          1228800000,
          1277952000,
          1327104000,
          1376256000,
          1425408000,
          1474560000,
          1523712000,
          1572864000,
          1622016000,
          1671168000,
          1720320000,
          1769472000,
          1818624000,
          1867776000,
          1916928000,
          1966080000,
          2015232000,
          2064384000,
          2113536000,
          2162688000,
          2211840000,
          2260992000,
          2310144000,
          2359296000,
          2408448000,
          2457600000,
          2506752000,
          2555904000,
          2605056000,
          2654208000,
          2703360000,
          2752512000,
          2801664000,
          2850816000,
          2899968000,
          2949120000,
          2998272000,
          3047424000,
          3096576000,
          3145728000,
          3194880000,
          3244032000,
          3293184000,
          3342336000,
          3391488000,
          3489792000,
          3538944000,
          3637248000,
          3686400000,
          3735552000,
          3784704000,
          3833856000,
          3883008000,
          3932160000
         ],
         "y": [
          331.1664,
          336.224,
          353.7552,
          367.1456,
          371.3344,
          331.064,
          371.0816,
          371.4656,
          361.7344,
          367.4128,
          368.4192,
          342.6384,
          350.4272,
          331.0784,
          300.3568,
          316.224,
          291.608,
          287.0528,
          290.7024,
          248.704,
          340.1344,
          306.8608,
          311.8528,
          304.2304,
          332.5808,
          319.9264,
          324.9296,
          323.904,
          297.7568,
          316.28,
          312.3456,
          304.9072,
          303.5264,
          300.7104,
          275.3888,
          283.5248,
          296.9152,
          296.5344,
          291.5936,
          290.7808,
          279.576,
          290.4336,
          289.1968,
          272.6432,
          288.6976,
          275.5072,
          283.3872,
          275.2608,
          273.7248,
          283.6624,
          268.8144,
          269.44,
          272.7456,
          273.1392,
          273.4272,
          273.2848,
          273.504,
          272.8752,
          245.032,
          276.4208,
          269.4224,
          259.1728,
          273.4896,
          269.7408,
          269.096,
          259.6736,
          261.6528,
          259.4768
         ]
        },
        {
         "line": {
          "color": "red",
          "width": 3
         },
         "marker": {
          "line": {
           "color": "black",
           "width": 1
          },
          "size": 7,
          "symbol": "star"
         },
         "mode": "lines+markers",
         "name": "MacNonFusNonProb_128mpi_8omp",
         "type": "scatter",
         "x": [
          540672000,
          589824000,
          638976000,
          688128000,
          737280000,
          786432000,
          835584000,
          884736000,
          933888000,
          983040000,
          1032192000,
          1081344000,
          1130496000,
          1179648000,
          1228800000,
          1277952000,
          1327104000,
          1376256000,
          1425408000,
          1474560000,
          1523712000,
          1572864000,
          1622016000,
          1671168000,
          1720320000,
          1769472000,
          1818624000,
          1867776000,
          1916928000,
          1966080000,
          2064384000,
          2113536000,
          2162688000,
          2211840000,
          2260992000,
          2310144000,
          2359296000,
          2408448000,
          2457600000,
          2506752000,
          2555904000,
          2605056000,
          2654208000,
          2703360000,
          2752512000,
          2801664000,
          2850816000,
          2899968000,
          2949120000,
          2998272000,
          3047424000,
          3096576000,
          3145728000,
          3194880000,
          3244032000,
          3293184000,
          3342336000,
          3391488000,
          3440640000,
          3489792000,
          3538944000,
          3637248000,
          3686400000,
          3735552000,
          3784704000,
          3833856000,
          3883008000,
          3932160000
         ],
         "y": [
          277.6352,
          270.0976,
          308.7968,
          310.5568,
          264.2816,
          325.9488,
          304.7216,
          334.16,
          329.4032,
          338.648,
          327.5856,
          283.6304,
          324.8656,
          278.1504,
          267.8064,
          293.168,
          274.6176,
          288.0544,
          270.688,
          284.2672,
          317.6192,
          260.6976,
          311.4416,
          308.3712,
          326.2848,
          311.888,
          326.1408,
          297.6656,
          279.6576,
          314.6976,
          314.784,
          277.9248,
          305.8304,
          298.3104,
          302.96,
          295.7296,
          304.816,
          276.8928,
          300.0592,
          287.4704,
          296.0576,
          289.064,
          286.5776,
          269.5072,
          268.2592,
          289.8352,
          266.2416,
          282.4128,
          264.4368,
          278.4864,
          281.7088,
          277.9168,
          274.7344,
          282.168,
          267.928,
          271.1072,
          276.6816,
          256.6848,
          248.0832,
          273.92,
          257.52,
          275.9488,
          274.4528,
          247.7712,
          252.2976,
          268.8528,
          269.864,
          249.4448
         ]
        },
        {
         "line": {
          "color": "chartreuse",
          "width": 3
         },
         "marker": {
          "line": {
           "color": "mediumvioletred",
           "width": 1
          },
          "size": 6,
          "symbol": "square-dot"
         },
         "mode": "lines+markers",
         "name": "MacNonFusProb_64mpi_16omp",
         "type": "scatter",
         "x": [
          516096000,
          540672000,
          565248000,
          589824000,
          614400000,
          638976000,
          663552000,
          688128000,
          712704000,
          737280000,
          761856000,
          786432000,
          811008000,
          835584000,
          860160000,
          884736000,
          909312000,
          933888000,
          958464000,
          983040000,
          1007616000,
          1032192000,
          1056768000,
          1081344000,
          1105920000,
          1130496000,
          1155072000,
          1179648000,
          1204224000,
          1228800000,
          1253376000,
          1277952000,
          1302528000,
          1327104000,
          1351680000,
          1376256000,
          1425408000,
          1449984000,
          1474560000,
          1499136000,
          1523712000,
          1548288000,
          1572864000,
          1597440000,
          1622016000,
          1646592000,
          1671168000,
          1695744000,
          1720320000,
          1744896000,
          1769472000,
          1794048000,
          1818624000,
          1843200000,
          1867776000,
          1892352000,
          1916928000,
          1941504000,
          1966080000,
          1990656000,
          2015232000,
          2039808000,
          2064384000,
          2113536000,
          2138112000,
          2162688000,
          2187264000,
          2211840000,
          2236416000,
          2260992000,
          2285568000,
          2310144000,
          2334720000,
          2359296000,
          2383872000,
          2408448000,
          2433024000,
          2457600000,
          2482176000,
          2506752000,
          2531328000,
          2555904000,
          2580480000,
          2605056000,
          2629632000,
          2654208000,
          2678784000,
          2703360000,
          2727936000,
          2752512000,
          2777088000,
          2801664000,
          2826240000,
          2850816000,
          2875392000,
          2924544000,
          2949120000
         ],
         "y": [
          192.0336,
          177.9072,
          197.0752,
          193.4688,
          195.9504,
          198.4536,
          194.9024,
          196.52,
          170.084,
          177.108,
          191.0072,
          187.38,
          186.9896,
          186.16,
          166.492,
          177.4784,
          171.116,
          166.6608,
          167.6352,
          165.2248,
          132.864,
          146.516,
          144.248,
          153.588,
          157.9552,
          146.3104,
          140.74,
          151.7776,
          146.1752,
          145.6608,
          134.3784,
          145.6872,
          145.0696,
          141.3136,
          142.364,
          142.2624,
          135.572,
          143.4144,
          140.1752,
          136.1456,
          141.1176,
          130.6264,
          141.9168,
          134.0936,
          141.2536,
          139.2552,
          128.408,
          140.7008,
          138.684,
          142.2456,
          144.056,
          146.1248,
          133.8952,
          140.4872,
          126.4728,
          135.8976,
          136.2232,
          146.1944,
          153.3672,
          146.028,
          142.0712,
          139.3288,
          151.6448,
          146.0992,
          155.9848,
          143.1712,
          157.22,
          149.7336,
          150.9752,
          151.4808,
          145.3304,
          145.028,
          134.7352,
          143.6232,
          148.8944,
          146.416,
          137.9352,
          146.7568,
          139.6192,
          147.0144,
          140.2864,
          150.4712,
          143.7216,
          147.2776,
          150.2616,
          137.7208,
          150.7008,
          150.4056,
          147.4384,
          143.2992,
          149.8144,
          149.8704,
          149.7528,
          142.7896,
          150.1752,
          132.1648,
          149.7944
         ]
        },
        {
         "line": {
          "color": "black",
          "width": 3
         },
         "marker": {
          "line": {
           "color": "mediumvioletred",
           "width": 1
          },
          "size": 6,
          "symbol": "square-dot"
         },
         "mode": "lines+markers",
         "name": "MacNonFusNonProb_64mpi_16omp",
         "type": "scatter",
         "x": [
          516096000,
          540672000,
          565248000,
          589824000,
          614400000,
          638976000,
          663552000,
          688128000,
          712704000,
          737280000,
          761856000,
          786432000,
          811008000,
          835584000,
          860160000,
          884736000,
          909312000,
          933888000,
          958464000,
          983040000,
          1007616000,
          1032192000,
          1056768000,
          1081344000,
          1105920000,
          1130496000,
          1155072000,
          1179648000,
          1204224000,
          1228800000,
          1253376000,
          1277952000,
          1302528000,
          1327104000,
          1351680000,
          1376256000,
          1400832000,
          1425408000,
          1449984000,
          1474560000,
          1499136000,
          1523712000,
          1548288000,
          1572864000,
          1597440000,
          1622016000,
          1646592000,
          1671168000,
          1695744000,
          1720320000,
          1744896000,
          1769472000,
          1794048000,
          1818624000,
          1843200000,
          1867776000,
          1892352000,
          1916928000,
          1941504000,
          1966080000,
          1990656000,
          2015232000,
          2039808000,
          2064384000,
          2088960000,
          2113536000,
          2138112000,
          2162688000,
          2187264000,
          2211840000,
          2236416000,
          2260992000,
          2285568000,
          2310144000,
          2334720000,
          2359296000,
          2383872000,
          2408448000,
          2433024000,
          2457600000,
          2482176000,
          2506752000,
          2531328000,
          2555904000,
          2580480000,
          2605056000,
          2629632000,
          2654208000,
          2678784000,
          2703360000,
          2727936000,
          2752512000,
          2777088000,
          2801664000,
          2850816000,
          2875392000,
          2899968000,
          2924544000
         ],
         "y": [
          174.0392,
          176.2616,
          175.5648,
          178.2968,
          179.8504,
          178.0992,
          163.8184,
          182.7976,
          167.4824,
          176.0136,
          176.2256,
          176.9512,
          174.9,
          180.5952,
          170.5264,
          148.9472,
          170.0056,
          163.6176,
          165.0512,
          164.62,
          159.0872,
          160.0928,
          146.1528,
          156.0984,
          143.7576,
          154.0432,
          141.4008,
          143.6184,
          147.92,
          132.1624,
          141.4656,
          129.3784,
          136.4496,
          138.2888,
          130.6144,
          132.7288,
          119.8128,
          134.948,
          133.3712,
          131.8752,
          124.5208,
          126.2976,
          130.3048,
          126.8568,
          131.1896,
          122.1512,
          125.7992,
          127.2032,
          120.4592,
          130.8816,
          137.0744,
          111.92,
          130.5408,
          136.5968,
          123.5152,
          122.752,
          132.8104,
          139.3704,
          136.208,
          134.7808,
          137.3056,
          131.988,
          136.8512,
          141.6976,
          129.1632,
          123.7208,
          142.848,
          142.756,
          135.0384,
          140.8688,
          140.144,
          139.576,
          129.5936,
          141.2216,
          141.1072,
          142.8112,
          142.7192,
          143.948,
          140.3008,
          142.9312,
          147.6328,
          142.6344,
          144.0872,
          138.804,
          146.2624,
          144.2592,
          145.9944,
          143.6736,
          141.8,
          142.6112,
          140.8008,
          141.9976,
          149.4088,
          146.0864,
          138.4928,
          140.8312,
          145.9216,
          150.2864
         ]
        },
        {
         "line": {
          "color": "gold",
          "width": 3
         },
         "marker": {
          "line": {
           "color": "black",
           "width": 1
          },
          "size": 6,
          "symbol": "triangle-up"
         },
         "mode": "lines+markers",
         "name": "MacNonFusProb_168mpi_6omp",
         "type": "scatter",
         "x": [
          516096000,
          645120000,
          774144000,
          903168000,
          1032192000,
          1161216000,
          1290240000,
          1419264000,
          1548288000,
          1677312000,
          1806336000,
          1935360000,
          2064384000,
          2193408000,
          2322432000,
          2451456000,
          2580480000,
          2709504000,
          2838528000,
          2967552000,
          3096576000,
          3225600000,
          3354624000,
          3483648000
         ],
         "y": [
          198.50439,
          198.97059000000002,
          212.29950000000002,
          207.28197,
          199.11969,
          186.41805000000002,
          171.9984,
          247.39679999999998,
          236.46419999999998,
          229.8198,
          220.85070000000002,
          217.6818,
          205.64186999999998,
          207.35505,
          205.10154,
          203.31003,
          197.03943,
          194.30943,
          186.53501999999997,
          193.86717,
          183.25608,
          183.14184,
          183.39111,
          181.02147
         ]
        },
        {
         "line": {
          "color": "dimgray",
          "width": 3
         },
         "marker": {
          "line": {
           "color": "black",
           "width": 1
          },
          "size": 6,
          "symbol": "triangle-up"
         },
         "mode": "lines+markers",
         "name": "MacNonFusNonProb_168mpi_6omp",
         "type": "scatter",
         "x": [
          516096000,
          645120000,
          774144000,
          903168000,
          1032192000,
          1161216000,
          1290240000,
          1419264000,
          1548288000,
          1677312000,
          1806336000,
          1935360000,
          2064384000,
          2193408000,
          2322432000,
          2451456000,
          2580480000,
          2709504000,
          2838528000,
          2967552000,
          3096576000,
          3225600000,
          3354624000,
          3483648000
         ],
         "y": [
          200.9028,
          207.57744,
          207.83343,
          192.60696000000002,
          200.95173,
          191.67771,
          222.47820000000002,
          257.3529,
          240.345,
          234.0933,
          223.96499999999997,
          220.2291,
          216.0669,
          209.31981000000002,
          206.93169,
          203.12607,
          196.82229,
          198.80616,
          193.91694,
          182.43057,
          188.82423,
          186.291,
          181.72266000000002,
          181.66869
         ]
        },
        {
         "line": {
          "color": "olive",
          "width": 3
         },
         "marker": {
          "line": {
           "color": "olive",
           "width": 2
          },
          "size": 6,
          "symbol": "circle"
         },
         "mode": "lines+markers",
         "name": "MacNonFusProb_504mpi_2omp",
         "type": "scatter",
         "x": [
          774144000,
          1548288000,
          1935360000,
          2322432000,
          2709504000,
          3096576000,
          3483648000,
          3870720000
         ],
         "y": [
          468.68157,
          448.8687,
          412.14033,
          379.42569000000003,
          361.45431,
          345.67848,
          327.69009,
          324.95525999999995
         ]
        },
        {
         "line": {
          "color": "Brown",
          "width": 3
         },
         "marker": {
          "line": {
           "color": "darkred",
           "width": 2
          },
          "size": 6,
          "symbol": "circle"
         },
         "mode": "lines+markers",
         "name": "MacNonFusNonProb_504mpi_2omp",
         "type": "scatter",
         "x": [
          774144000,
          1161216000,
          1548288000,
          1935360000,
          2322432000,
          2709504000,
          3096576000,
          3483648000,
          3870720000
         ],
         "y": [
          439.27947,
          484.84548,
          443.65040999999997,
          403.63344,
          380.72538000000003,
          354.74354999999997,
          344.80467,
          335.88891,
          324.04995
         ]
        }
       ],
       "layout": {
        "annotations": [
         {
          "align": "left",
          "arrowcolor": "#636363",
          "arrowhead": 1,
          "arrowsize": 1,
          "arrowwidth": 2,
          "ax": -20,
          "ay": -30,
          "font": {
           "color": "purple",
           "family": "Sans Serif",
           "size": 12
          },
          "showarrow": false,
          "text": "LLC Size Per Node: 512M",
          "x": "512e6",
          "y": 280,
          "yanchor": "bottom"
         },
         {
          "align": "left",
          "arrowcolor": "#636363",
          "arrowhead": 1,
          "arrowsize": 1,
          "arrowwidth": 2,
          "ax": -20,
          "ay": -30,
          "font": {
           "color": "orange",
           "family": "Sans Serif",
           "size": 12
          },
          "showarrow": false,
          "text": "Max Bandwidth Per Node",
          "x": "130e6",
          "y": 370,
          "yanchor": "bottom"
         }
        ],
        "legend": {
         "bordercolor": "black",
         "borderwidth": 1
        },
        "shapes": [
         {
          "line": {
           "color": "green",
           "dash": "dot",
           "width": 3
          },
          "type": "line",
          "x0": 512000000,
          "x1": 512000000,
          "xref": "x",
          "y0": 0,
          "y1": 1,
          "yref": "y domain"
         },
         {
          "line": {
           "color": "red",
           "dash": "dash",
           "width": 3
          },
          "type": "line",
          "x0": 0,
          "x1": 1,
          "xref": "x domain",
          "y0": 409,
          "y1": 409,
          "yref": "y"
         }
        ],
        "template": {
         "data": {
          "bar": [
           {
            "error_x": {
             "color": "#2a3f5f"
            },
            "error_y": {
             "color": "#2a3f5f"
            },
            "marker": {
             "line": {
              "color": "#E5ECF6",
              "width": 0.5
             },
             "pattern": {
              "fillmode": "overlay",
              "size": 10,
              "solidity": 0.2
             }
            },
            "type": "bar"
           }
          ],
          "barpolar": [
           {
            "marker": {
             "line": {
              "color": "#E5ECF6",
              "width": 0.5
             },
             "pattern": {
              "fillmode": "overlay",
              "size": 10,
              "solidity": 0.2
             }
            },
            "type": "barpolar"
           }
          ],
          "carpet": [
           {
            "aaxis": {
             "endlinecolor": "#2a3f5f",
             "gridcolor": "white",
             "linecolor": "white",
             "minorgridcolor": "white",
             "startlinecolor": "#2a3f5f"
            },
            "baxis": {
             "endlinecolor": "#2a3f5f",
             "gridcolor": "white",
             "linecolor": "white",
             "minorgridcolor": "white",
             "startlinecolor": "#2a3f5f"
            },
            "type": "carpet"
           }
          ],
          "choropleth": [
           {
            "colorbar": {
             "outlinewidth": 0,
             "ticks": ""
            },
            "type": "choropleth"
           }
          ],
          "contour": [
           {
            "colorbar": {
             "outlinewidth": 0,
             "ticks": ""
            },
            "colorscale": [
             [
              0,
              "#0d0887"
             ],
             [
              0.1111111111111111,
              "#46039f"
             ],
             [
              0.2222222222222222,
              "#7201a8"
             ],
             [
              0.3333333333333333,
              "#9c179e"
             ],
             [
              0.4444444444444444,
              "#bd3786"
             ],
             [
              0.5555555555555556,
              "#d8576b"
             ],
             [
              0.6666666666666666,
              "#ed7953"
             ],
             [
              0.7777777777777778,
              "#fb9f3a"
             ],
             [
              0.8888888888888888,
              "#fdca26"
             ],
             [
              1,
              "#f0f921"
             ]
            ],
            "type": "contour"
           }
          ],
          "contourcarpet": [
           {
            "colorbar": {
             "outlinewidth": 0,
             "ticks": ""
            },
            "type": "contourcarpet"
           }
          ],
          "heatmap": [
           {
            "colorbar": {
             "outlinewidth": 0,
             "ticks": ""
            },
            "colorscale": [
             [
              0,
              "#0d0887"
             ],
             [
              0.1111111111111111,
              "#46039f"
             ],
             [
              0.2222222222222222,
              "#7201a8"
             ],
             [
              0.3333333333333333,
              "#9c179e"
             ],
             [
              0.4444444444444444,
              "#bd3786"
             ],
             [
              0.5555555555555556,
              "#d8576b"
             ],
             [
              0.6666666666666666,
              "#ed7953"
             ],
             [
              0.7777777777777778,
              "#fb9f3a"
             ],
             [
              0.8888888888888888,
              "#fdca26"
             ],
             [
              1,
              "#f0f921"
             ]
            ],
            "type": "heatmap"
           }
          ],
          "heatmapgl": [
           {
            "colorbar": {
             "outlinewidth": 0,
             "ticks": ""
            },
            "colorscale": [
             [
              0,
              "#0d0887"
             ],
             [
              0.1111111111111111,
              "#46039f"
             ],
             [
              0.2222222222222222,
              "#7201a8"
             ],
             [
              0.3333333333333333,
              "#9c179e"
             ],
             [
              0.4444444444444444,
              "#bd3786"
             ],
             [
              0.5555555555555556,
              "#d8576b"
             ],
             [
              0.6666666666666666,
              "#ed7953"
             ],
             [
              0.7777777777777778,
              "#fb9f3a"
             ],
             [
              0.8888888888888888,
              "#fdca26"
             ],
             [
              1,
              "#f0f921"
             ]
            ],
            "type": "heatmapgl"
           }
          ],
          "histogram": [
           {
            "marker": {
             "pattern": {
              "fillmode": "overlay",
              "size": 10,
              "solidity": 0.2
             }
            },
            "type": "histogram"
           }
          ],
          "histogram2d": [
           {
            "colorbar": {
             "outlinewidth": 0,
             "ticks": ""
            },
            "colorscale": [
             [
              0,
              "#0d0887"
             ],
             [
              0.1111111111111111,
              "#46039f"
             ],
             [
              0.2222222222222222,
              "#7201a8"
             ],
             [
              0.3333333333333333,
              "#9c179e"
             ],
             [
              0.4444444444444444,
              "#bd3786"
             ],
             [
              0.5555555555555556,
              "#d8576b"
             ],
             [
              0.6666666666666666,
              "#ed7953"
             ],
             [
              0.7777777777777778,
              "#fb9f3a"
             ],
             [
              0.8888888888888888,
              "#fdca26"
             ],
             [
              1,
              "#f0f921"
             ]
            ],
            "type": "histogram2d"
           }
          ],
          "histogram2dcontour": [
           {
            "colorbar": {
             "outlinewidth": 0,
             "ticks": ""
            },
            "colorscale": [
             [
              0,
              "#0d0887"
             ],
             [
              0.1111111111111111,
              "#46039f"
             ],
             [
              0.2222222222222222,
              "#7201a8"
             ],
             [
              0.3333333333333333,
              "#9c179e"
             ],
             [
              0.4444444444444444,
              "#bd3786"
             ],
             [
              0.5555555555555556,
              "#d8576b"
             ],
             [
              0.6666666666666666,
              "#ed7953"
             ],
             [
              0.7777777777777778,
              "#fb9f3a"
             ],
             [
              0.8888888888888888,
              "#fdca26"
             ],
             [
              1,
              "#f0f921"
             ]
            ],
            "type": "histogram2dcontour"
           }
          ],
          "mesh3d": [
           {
            "colorbar": {
             "outlinewidth": 0,
             "ticks": ""
            },
            "type": "mesh3d"
           }
          ],
          "parcoords": [
           {
            "line": {
             "colorbar": {
              "outlinewidth": 0,
              "ticks": ""
             }
            },
            "type": "parcoords"
           }
          ],
          "pie": [
           {
            "automargin": true,
            "type": "pie"
           }
          ],
          "scatter": [
           {
            "fillpattern": {
             "fillmode": "overlay",
             "size": 10,
             "solidity": 0.2
            },
            "type": "scatter"
           }
          ],
          "scatter3d": [
           {
            "line": {
             "colorbar": {
              "outlinewidth": 0,
              "ticks": ""
             }
            },
            "marker": {
             "colorbar": {
              "outlinewidth": 0,
              "ticks": ""
             }
            },
            "type": "scatter3d"
           }
          ],
          "scattercarpet": [
           {
            "marker": {
             "colorbar": {
              "outlinewidth": 0,
              "ticks": ""
             }
            },
            "type": "scattercarpet"
           }
          ],
          "scattergeo": [
           {
            "marker": {
             "colorbar": {
              "outlinewidth": 0,
              "ticks": ""
             }
            },
            "type": "scattergeo"
           }
          ],
          "scattergl": [
           {
            "marker": {
             "colorbar": {
              "outlinewidth": 0,
              "ticks": ""
             }
            },
            "type": "scattergl"
           }
          ],
          "scattermapbox": [
           {
            "marker": {
             "colorbar": {
              "outlinewidth": 0,
              "ticks": ""
             }
            },
            "type": "scattermapbox"
           }
          ],
          "scatterpolar": [
           {
            "marker": {
             "colorbar": {
              "outlinewidth": 0,
              "ticks": ""
             }
            },
            "type": "scatterpolar"
           }
          ],
          "scatterpolargl": [
           {
            "marker": {
             "colorbar": {
              "outlinewidth": 0,
              "ticks": ""
             }
            },
            "type": "scatterpolargl"
           }
          ],
          "scatterternary": [
           {
            "marker": {
             "colorbar": {
              "outlinewidth": 0,
              "ticks": ""
             }
            },
            "type": "scatterternary"
           }
          ],
          "surface": [
           {
            "colorbar": {
             "outlinewidth": 0,
             "ticks": ""
            },
            "colorscale": [
             [
              0,
              "#0d0887"
             ],
             [
              0.1111111111111111,
              "#46039f"
             ],
             [
              0.2222222222222222,
              "#7201a8"
             ],
             [
              0.3333333333333333,
              "#9c179e"
             ],
             [
              0.4444444444444444,
              "#bd3786"
             ],
             [
              0.5555555555555556,
              "#d8576b"
             ],
             [
              0.6666666666666666,
              "#ed7953"
             ],
             [
              0.7777777777777778,
              "#fb9f3a"
             ],
             [
              0.8888888888888888,
              "#fdca26"
             ],
             [
              1,
              "#f0f921"
             ]
            ],
            "type": "surface"
           }
          ],
          "table": [
           {
            "cells": {
             "fill": {
              "color": "#EBF0F8"
             },
             "line": {
              "color": "white"
             }
            },
            "header": {
             "fill": {
              "color": "#C8D4E3"
             },
             "line": {
              "color": "white"
             }
            },
            "type": "table"
           }
          ]
         },
         "layout": {
          "annotationdefaults": {
           "arrowcolor": "#2a3f5f",
           "arrowhead": 0,
           "arrowwidth": 1
          },
          "autotypenumbers": "strict",
          "coloraxis": {
           "colorbar": {
            "outlinewidth": 0,
            "ticks": ""
           }
          },
          "colorscale": {
           "diverging": [
            [
             0,
             "#8e0152"
            ],
            [
             0.1,
             "#c51b7d"
            ],
            [
             0.2,
             "#de77ae"
            ],
            [
             0.3,
             "#f1b6da"
            ],
            [
             0.4,
             "#fde0ef"
            ],
            [
             0.5,
             "#f7f7f7"
            ],
            [
             0.6,
             "#e6f5d0"
            ],
            [
             0.7,
             "#b8e186"
            ],
            [
             0.8,
             "#7fbc41"
            ],
            [
             0.9,
             "#4d9221"
            ],
            [
             1,
             "#276419"
            ]
           ],
           "sequential": [
            [
             0,
             "#0d0887"
            ],
            [
             0.1111111111111111,
             "#46039f"
            ],
            [
             0.2222222222222222,
             "#7201a8"
            ],
            [
             0.3333333333333333,
             "#9c179e"
            ],
            [
             0.4444444444444444,
             "#bd3786"
            ],
            [
             0.5555555555555556,
             "#d8576b"
            ],
            [
             0.6666666666666666,
             "#ed7953"
            ],
            [
             0.7777777777777778,
             "#fb9f3a"
            ],
            [
             0.8888888888888888,
             "#fdca26"
            ],
            [
             1,
             "#f0f921"
            ]
           ],
           "sequentialminus": [
            [
             0,
             "#0d0887"
            ],
            [
             0.1111111111111111,
             "#46039f"
            ],
            [
             0.2222222222222222,
             "#7201a8"
            ],
            [
             0.3333333333333333,
             "#9c179e"
            ],
            [
             0.4444444444444444,
             "#bd3786"
            ],
            [
             0.5555555555555556,
             "#d8576b"
            ],
            [
             0.6666666666666666,
             "#ed7953"
            ],
            [
             0.7777777777777778,
             "#fb9f3a"
            ],
            [
             0.8888888888888888,
             "#fdca26"
            ],
            [
             1,
             "#f0f921"
            ]
           ]
          },
          "colorway": [
           "#636efa",
           "#EF553B",
           "#00cc96",
           "#ab63fa",
           "#FFA15A",
           "#19d3f3",
           "#FF6692",
           "#B6E880",
           "#FF97FF",
           "#FECB52"
          ],
          "font": {
           "color": "#2a3f5f"
          },
          "geo": {
           "bgcolor": "white",
           "lakecolor": "white",
           "landcolor": "#E5ECF6",
           "showlakes": true,
           "showland": true,
           "subunitcolor": "white"
          },
          "hoverlabel": {
           "align": "left"
          },
          "hovermode": "closest",
          "mapbox": {
           "style": "light"
          },
          "paper_bgcolor": "white",
          "plot_bgcolor": "#E5ECF6",
          "polar": {
           "angularaxis": {
            "gridcolor": "white",
            "linecolor": "white",
            "ticks": ""
           },
           "bgcolor": "#E5ECF6",
           "radialaxis": {
            "gridcolor": "white",
            "linecolor": "white",
            "ticks": ""
           }
          },
          "scene": {
           "xaxis": {
            "backgroundcolor": "#E5ECF6",
            "gridcolor": "white",
            "gridwidth": 2,
            "linecolor": "white",
            "showbackground": true,
            "ticks": "",
            "zerolinecolor": "white"
           },
           "yaxis": {
            "backgroundcolor": "#E5ECF6",
            "gridcolor": "white",
            "gridwidth": 2,
            "linecolor": "white",
            "showbackground": true,
            "ticks": "",
            "zerolinecolor": "white"
           },
           "zaxis": {
            "backgroundcolor": "#E5ECF6",
            "gridcolor": "white",
            "gridwidth": 2,
            "linecolor": "white",
            "showbackground": true,
            "ticks": "",
            "zerolinecolor": "white"
           }
          },
          "shapedefaults": {
           "line": {
            "color": "#2a3f5f"
           }
          },
          "ternary": {
           "aaxis": {
            "gridcolor": "white",
            "linecolor": "white",
            "ticks": ""
           },
           "baxis": {
            "gridcolor": "white",
            "linecolor": "white",
            "ticks": ""
           },
           "bgcolor": "#E5ECF6",
           "caxis": {
            "gridcolor": "white",
            "linecolor": "white",
            "ticks": ""
           }
          },
          "title": {
           "x": 0.05
          },
          "xaxis": {
           "automargin": true,
           "gridcolor": "white",
           "linecolor": "white",
           "ticks": "",
           "title": {
            "standoff": 15
           },
           "zerolinecolor": "white",
           "zerolinewidth": 2
          },
          "yaxis": {
           "automargin": true,
           "gridcolor": "white",
           "linecolor": "white",
           "ticks": "",
           "title": {
            "standoff": 15
           },
           "zerolinecolor": "white",
           "zerolinewidth": 2
          }
         }
        },
        "title": {
         "text": "\"Nonfused Macro: Probempi vs Nonprobempi\" Bandwidth Measurement"
        },
        "xaxis": {
         "ticks": "outside",
         "title": {
          "text": "Dirc_Data_Mov"
         }
        },
        "yaxis": {
         "ticks": "outside",
         "title": {
          "text": "Bandwidth/Node"
         }
        }
       }
      },
      "text/html": [
       "<div>                            <div id=\"99ab5873-10a7-47d6-8c6d-b6adc3e7e19e\" class=\"plotly-graph-div\" style=\"height:525px; width:100%;\"></div>            <script type=\"text/javascript\">                require([\"plotly\"], function(Plotly) {                    window.PLOTLYENV=window.PLOTLYENV || {};                                    if (document.getElementById(\"99ab5873-10a7-47d6-8c6d-b6adc3e7e19e\")) {                    Plotly.newPlot(                        \"99ab5873-10a7-47d6-8c6d-b6adc3e7e19e\",                        [{\"line\":{\"color\":\"darkcyan\",\"width\":3},\"marker\":{\"line\":{\"color\":\"yellow\",\"width\":1},\"size\":9,\"symbol\":\"hexagon\"},\"mode\":\"lines+markers\",\"name\":\"MacNonFusProb_1024mpi_1omp\",\"x\":[1572864000.0,1966080000.0,2359296000.0,2752512000.0,3145728000.0,3538944000.0,3932160000.0],\"y\":[439.22048,424.52736,395.42784,376.31744,363.36256,354.75456,346.1184],\"type\":\"scatter\"},{\"line\":{\"color\":\"magenta\",\"width\":3},\"marker\":{\"line\":{\"color\":\"yellow\",\"width\":1},\"size\":9,\"symbol\":\"hexagon\"},\"mode\":\"lines+markers\",\"name\":\"MacNonFusNonProb_1024mpi_1omp\",\"x\":[1572864000.0,1966080000.0,2359296000.0,2752512000.0,3145728000.0,3538944000.0,3932160000.0],\"y\":[437.07008,404.3392,402.80064,319.23328,375.88608,362.272,352.77312],\"type\":\"scatter\"},{\"line\":{\"color\":\"royalblue\",\"width\":3},\"marker\":{\"line\":{\"color\":\"MediumPurple\",\"width\":2},\"size\":5,\"symbol\":\"diamond\"},\"mode\":\"lines+markers\",\"name\":\"MacNonFusProb_512mpi_2omp\",\"x\":[786432000.0,983040000.0,1179648000.0,1376256000.0,1572864000.0,1769472000.0,1966080000.0,2162688000.0,2359296000.0,2555904000.0,2752512000.0,2949120000.0,3145728000.0,3342336000.0,3538944000.0,3735552000.0,3932160000.0],\"y\":[405.6416,413.37216,460.31104,406.49024,456.74688,431.4848,410.07424,398.68416,385.04768,378.0928,351.7504,352.70336,337.8112,347.35296,332.25728,334.4736,321.25952],\"type\":\"scatter\"},{\"line\":{\"color\":\"sandybrown\",\"width\":3},\"marker\":{\"line\":{\"color\":\"MediumPurple\",\"width\":2},\"size\":5,\"symbol\":\"diamond\"},\"mode\":\"lines+markers\",\"name\":\"MacNonFusNonProb_512mpi_2omp\",\"x\":[786432000.0,983040000.0,1179648000.0,1376256000.0,1572864000.0,1966080000.0,2162688000.0,2359296000.0,2555904000.0,2752512000.0,2949120000.0,3145728000.0,3342336000.0,3538944000.0,3735552000.0,3932160000.0],\"y\":[390.88896,417.39904,461.7184,467.7504,452.03456,416.00768,401.1008,392.68032,364.18816,363.43616,348.99712,355.168,327.93024,341.28128,329.37152,325.3984],\"type\":\"scatter\"},{\"line\":{\"color\":\"darkblue\",\"width\":3},\"marker\":{\"line\":{\"color\":\"tomato\",\"width\":2},\"size\":7,\"symbol\":\"circle\"},\"mode\":\"lines+markers\",\"name\":\"MacNonFusProb_256mpi_4omp\",\"x\":[589824000.0,688128000.0,786432000.0,884736000.0,983040000.0,1081344000.0,1179648000.0,1277952000.0,1376256000.0,1474560000.0,1572864000.0,1671168000.0,1867776000.0,1966080000.0,2064384000.0,2162688000.0,2260992000.0,2359296000.0,2457600000.0,2555904000.0,2654208000.0,2752512000.0,2850816000.0,2949120000.0,3047424000.0,3145728000.0,3244032000.0,3342336000.0,3440640000.0,3538944000.0,3637248000.0,3735552000.0,3833856000.0,3932160000.0],\"y\":[394.1408,423.1072,448.1856,448.8704,415.7824,434.6784,384.5664,353.392,364.4288,427.392,416.5504,347.088,396.72,360.5024,376.9152,373.1328,364.9664,355.5968,354.4928,351.3024,324.6016,339.3472,333.3056,337.5104,333.0656,310.33216,321.0816,325.664,310.30016,319.6528,313.82112,315.01184,307.49472,311.4928],\"type\":\"scatter\"},{\"line\":{\"color\":\"cyan\",\"width\":3},\"marker\":{\"line\":{\"color\":\"Purple\",\"width\":2},\"size\":7,\"symbol\":\"circle\"},\"mode\":\"lines+markers\",\"name\":\"MacNonFusNonProb_256mpi_4omp\",\"x\":[589824000.0,688128000.0,786432000.0,884736000.0,983040000.0,1081344000.0,1179648000.0,1277952000.0,1376256000.0,1474560000.0,1572864000.0,1671168000.0,1769472000.0,1867776000.0,1966080000.0,2064384000.0,2162688000.0,2260992000.0,2359296000.0,2457600000.0,2555904000.0,2654208000.0,2752512000.0,2850816000.0,2949120000.0,3047424000.0,3145728000.0,3244032000.0,3342336000.0,3440640000.0,3538944000.0,3637248000.0,3735552000.0,3833856000.0,3932160000.0],\"y\":[326.8256,376.5248,385.5744,386.5184,404.576,385.2992,368.8,341.824,364.8416,424.7808,392.2912,399.5296,374.2976,386.6432,370.9984,339.3632,322.6656,362.7616,351.536,349.2544,339.1552,343.0784,333.68,333.6448,334.1152,303.60032,324.7712,317.60512,321.7184,316.5936,304.11072,311.95008,311.86912,303.1024,297.88416],\"type\":\"scatter\"},{\"line\":{\"color\":\"blue\",\"width\":3},\"marker\":{\"line\":{\"color\":\"black\",\"width\":1},\"size\":7,\"symbol\":\"star\"},\"mode\":\"lines+markers\",\"name\":\"MacNonFusProb_128mpi_8omp\",\"x\":[540672000.0,589824000.0,638976000.0,688128000.0,737280000.0,786432000.0,835584000.0,884736000.0,933888000.0,983040000.0,1032192000.0,1081344000.0,1130496000.0,1179648000.0,1228800000.0,1277952000.0,1327104000.0,1376256000.0,1425408000.0,1474560000.0,1523712000.0,1572864000.0,1622016000.0,1671168000.0,1720320000.0,1769472000.0,1818624000.0,1867776000.0,1916928000.0,1966080000.0,2015232000.0,2064384000.0,2113536000.0,2162688000.0,2211840000.0,2260992000.0,2310144000.0,2359296000.0,2408448000.0,2457600000.0,2506752000.0,2555904000.0,2605056000.0,2654208000.0,2703360000.0,2752512000.0,2801664000.0,2850816000.0,2899968000.0,2949120000.0,2998272000.0,3047424000.0,3096576000.0,3145728000.0,3194880000.0,3244032000.0,3293184000.0,3342336000.0,3391488000.0,3489792000.0,3538944000.0,3637248000.0,3686400000.0,3735552000.0,3784704000.0,3833856000.0,3883008000.0,3932160000.0],\"y\":[331.1664,336.224,353.7552,367.1456,371.3344,331.064,371.0816,371.4656,361.7344,367.4128,368.4192,342.6384,350.4272,331.0784,300.3568,316.224,291.608,287.0528,290.7024,248.704,340.1344,306.8608,311.8528,304.2304,332.5808,319.9264,324.9296,323.904,297.7568,316.28,312.3456,304.9072,303.5264,300.7104,275.3888,283.5248,296.9152,296.5344,291.5936,290.7808,279.576,290.4336,289.1968,272.6432,288.6976,275.5072,283.3872,275.2608,273.7248,283.6624,268.8144,269.44,272.7456,273.1392,273.4272,273.2848,273.504,272.8752,245.032,276.4208,269.4224,259.1728,273.4896,269.7408,269.096,259.6736,261.6528,259.4768],\"type\":\"scatter\"},{\"line\":{\"color\":\"red\",\"width\":3},\"marker\":{\"line\":{\"color\":\"black\",\"width\":1},\"size\":7,\"symbol\":\"star\"},\"mode\":\"lines+markers\",\"name\":\"MacNonFusNonProb_128mpi_8omp\",\"x\":[540672000.0,589824000.0,638976000.0,688128000.0,737280000.0,786432000.0,835584000.0,884736000.0,933888000.0,983040000.0,1032192000.0,1081344000.0,1130496000.0,1179648000.0,1228800000.0,1277952000.0,1327104000.0,1376256000.0,1425408000.0,1474560000.0,1523712000.0,1572864000.0,1622016000.0,1671168000.0,1720320000.0,1769472000.0,1818624000.0,1867776000.0,1916928000.0,1966080000.0,2064384000.0,2113536000.0,2162688000.0,2211840000.0,2260992000.0,2310144000.0,2359296000.0,2408448000.0,2457600000.0,2506752000.0,2555904000.0,2605056000.0,2654208000.0,2703360000.0,2752512000.0,2801664000.0,2850816000.0,2899968000.0,2949120000.0,2998272000.0,3047424000.0,3096576000.0,3145728000.0,3194880000.0,3244032000.0,3293184000.0,3342336000.0,3391488000.0,3440640000.0,3489792000.0,3538944000.0,3637248000.0,3686400000.0,3735552000.0,3784704000.0,3833856000.0,3883008000.0,3932160000.0],\"y\":[277.6352,270.0976,308.7968,310.5568,264.2816,325.9488,304.7216,334.16,329.4032,338.648,327.5856,283.6304,324.8656,278.1504,267.8064,293.168,274.6176,288.0544,270.688,284.2672,317.6192,260.6976,311.4416,308.3712,326.2848,311.888,326.1408,297.6656,279.6576,314.6976,314.784,277.9248,305.8304,298.3104,302.96,295.7296,304.816,276.8928,300.0592,287.4704,296.0576,289.064,286.5776,269.5072,268.2592,289.8352,266.2416,282.4128,264.4368,278.4864,281.7088,277.9168,274.7344,282.168,267.928,271.1072,276.6816,256.6848,248.0832,273.92,257.52,275.9488,274.4528,247.7712,252.2976,268.8528,269.864,249.4448],\"type\":\"scatter\"},{\"line\":{\"color\":\"chartreuse\",\"width\":3},\"marker\":{\"line\":{\"color\":\"mediumvioletred\",\"width\":1},\"size\":6,\"symbol\":\"square-dot\"},\"mode\":\"lines+markers\",\"name\":\"MacNonFusProb_64mpi_16omp\",\"x\":[516096000.0,540672000.0,565248000.0,589824000.0,614400000.0,638976000.0,663552000.0,688128000.0,712704000.0,737280000.0,761856000.0,786432000.0,811008000.0,835584000.0,860160000.0,884736000.0,909312000.0,933888000.0,958464000.0,983040000.0,1007616000.0,1032192000.0,1056768000.0,1081344000.0,1105920000.0,1130496000.0,1155072000.0,1179648000.0,1204224000.0,1228800000.0,1253376000.0,1277952000.0,1302528000.0,1327104000.0,1351680000.0,1376256000.0,1425408000.0,1449984000.0,1474560000.0,1499136000.0,1523712000.0,1548288000.0,1572864000.0,1597440000.0,1622016000.0,1646592000.0,1671168000.0,1695744000.0,1720320000.0,1744896000.0,1769472000.0,1794048000.0,1818624000.0,1843200000.0,1867776000.0,1892352000.0,1916928000.0,1941504000.0,1966080000.0,1990656000.0,2015232000.0,2039808000.0,2064384000.0,2113536000.0,2138112000.0,2162688000.0,2187264000.0,2211840000.0,2236416000.0,2260992000.0,2285568000.0,2310144000.0,2334720000.0,2359296000.0,2383872000.0,2408448000.0,2433024000.0,2457600000.0,2482176000.0,2506752000.0,2531328000.0,2555904000.0,2580480000.0,2605056000.0,2629632000.0,2654208000.0,2678784000.0,2703360000.0,2727936000.0,2752512000.0,2777088000.0,2801664000.0,2826240000.0,2850816000.0,2875392000.0,2924544000.0,2949120000.0],\"y\":[192.0336,177.9072,197.0752,193.4688,195.9504,198.4536,194.9024,196.52,170.084,177.108,191.0072,187.38,186.9896,186.16,166.492,177.4784,171.116,166.6608,167.6352,165.2248,132.864,146.516,144.248,153.588,157.9552,146.3104,140.74,151.7776,146.1752,145.6608,134.3784,145.6872,145.0696,141.3136,142.364,142.2624,135.572,143.4144,140.1752,136.1456,141.1176,130.6264,141.9168,134.0936,141.2536,139.2552,128.408,140.7008,138.684,142.2456,144.056,146.1248,133.8952,140.4872,126.4728,135.8976,136.2232,146.1944,153.3672,146.028,142.0712,139.3288,151.6448,146.0992,155.9848,143.1712,157.22,149.7336,150.9752,151.4808,145.3304,145.028,134.7352,143.6232,148.8944,146.416,137.9352,146.7568,139.6192,147.0144,140.2864,150.4712,143.7216,147.2776,150.2616,137.7208,150.7008,150.4056,147.4384,143.2992,149.8144,149.8704,149.7528,142.7896,150.1752,132.1648,149.7944],\"type\":\"scatter\"},{\"line\":{\"color\":\"black\",\"width\":3},\"marker\":{\"line\":{\"color\":\"mediumvioletred\",\"width\":1},\"size\":6,\"symbol\":\"square-dot\"},\"mode\":\"lines+markers\",\"name\":\"MacNonFusNonProb_64mpi_16omp\",\"x\":[516096000.0,540672000.0,565248000.0,589824000.0,614400000.0,638976000.0,663552000.0,688128000.0,712704000.0,737280000.0,761856000.0,786432000.0,811008000.0,835584000.0,860160000.0,884736000.0,909312000.0,933888000.0,958464000.0,983040000.0,1007616000.0,1032192000.0,1056768000.0,1081344000.0,1105920000.0,1130496000.0,1155072000.0,1179648000.0,1204224000.0,1228800000.0,1253376000.0,1277952000.0,1302528000.0,1327104000.0,1351680000.0,1376256000.0,1400832000.0,1425408000.0,1449984000.0,1474560000.0,1499136000.0,1523712000.0,1548288000.0,1572864000.0,1597440000.0,1622016000.0,1646592000.0,1671168000.0,1695744000.0,1720320000.0,1744896000.0,1769472000.0,1794048000.0,1818624000.0,1843200000.0,1867776000.0,1892352000.0,1916928000.0,1941504000.0,1966080000.0,1990656000.0,2015232000.0,2039808000.0,2064384000.0,2088960000.0,2113536000.0,2138112000.0,2162688000.0,2187264000.0,2211840000.0,2236416000.0,2260992000.0,2285568000.0,2310144000.0,2334720000.0,2359296000.0,2383872000.0,2408448000.0,2433024000.0,2457600000.0,2482176000.0,2506752000.0,2531328000.0,2555904000.0,2580480000.0,2605056000.0,2629632000.0,2654208000.0,2678784000.0,2703360000.0,2727936000.0,2752512000.0,2777088000.0,2801664000.0,2850816000.0,2875392000.0,2899968000.0,2924544000.0],\"y\":[174.0392,176.2616,175.5648,178.2968,179.8504,178.0992,163.8184,182.7976,167.4824,176.0136,176.2256,176.9512,174.9,180.5952,170.5264,148.9472,170.0056,163.6176,165.0512,164.62,159.0872,160.0928,146.1528,156.0984,143.7576,154.0432,141.4008,143.6184,147.92,132.1624,141.4656,129.3784,136.4496,138.2888,130.6144,132.7288,119.8128,134.948,133.3712,131.8752,124.5208,126.2976,130.3048,126.8568,131.1896,122.1512,125.7992,127.2032,120.4592,130.8816,137.0744,111.92,130.5408,136.5968,123.5152,122.752,132.8104,139.3704,136.208,134.7808,137.3056,131.988,136.8512,141.6976,129.1632,123.7208,142.848,142.756,135.0384,140.8688,140.144,139.576,129.5936,141.2216,141.1072,142.8112,142.7192,143.948,140.3008,142.9312,147.6328,142.6344,144.0872,138.804,146.2624,144.2592,145.9944,143.6736,141.8,142.6112,140.8008,141.9976,149.4088,146.0864,138.4928,140.8312,145.9216,150.2864],\"type\":\"scatter\"},{\"line\":{\"color\":\"gold\",\"width\":3},\"marker\":{\"line\":{\"color\":\"black\",\"width\":1},\"size\":6,\"symbol\":\"triangle-up\"},\"mode\":\"lines+markers\",\"name\":\"MacNonFusProb_168mpi_6omp\",\"x\":[516096000.0,645120000.0,774144000.0,903168000.0,1032192000.0,1161216000.0,1290240000.0,1419264000.0,1548288000.0,1677312000.0,1806336000.0,1935360000.0,2064384000.0,2193408000.0,2322432000.0,2451456000.0,2580480000.0,2709504000.0,2838528000.0,2967552000.0,3096576000.0,3225600000.0,3354624000.0,3483648000.0],\"y\":[198.50439,198.97059000000002,212.29950000000002,207.28197,199.11969,186.41805000000002,171.9984,247.39679999999998,236.46419999999998,229.8198,220.85070000000002,217.6818,205.64186999999998,207.35505,205.10154,203.31003,197.03943,194.30943,186.53501999999997,193.86717,183.25608,183.14184,183.39111,181.02147],\"type\":\"scatter\"},{\"line\":{\"color\":\"dimgray\",\"width\":3},\"marker\":{\"line\":{\"color\":\"black\",\"width\":1},\"size\":6,\"symbol\":\"triangle-up\"},\"mode\":\"lines+markers\",\"name\":\"MacNonFusNonProb_168mpi_6omp\",\"x\":[516096000.0,645120000.0,774144000.0,903168000.0,1032192000.0,1161216000.0,1290240000.0,1419264000.0,1548288000.0,1677312000.0,1806336000.0,1935360000.0,2064384000.0,2193408000.0,2322432000.0,2451456000.0,2580480000.0,2709504000.0,2838528000.0,2967552000.0,3096576000.0,3225600000.0,3354624000.0,3483648000.0],\"y\":[200.9028,207.57744,207.83343,192.60696000000002,200.95173,191.67771,222.47820000000002,257.3529,240.345,234.0933,223.96499999999997,220.2291,216.0669,209.31981000000002,206.93169,203.12607,196.82229,198.80616,193.91694,182.43057,188.82423,186.291,181.72266000000002,181.66869],\"type\":\"scatter\"},{\"line\":{\"color\":\"olive\",\"width\":3},\"marker\":{\"line\":{\"color\":\"olive\",\"width\":2},\"size\":6,\"symbol\":\"circle\"},\"mode\":\"lines+markers\",\"name\":\"MacNonFusProb_504mpi_2omp\",\"x\":[774144000.0,1548288000.0,1935360000.0,2322432000.0,2709504000.0,3096576000.0,3483648000.0,3870720000.0],\"y\":[468.68157,448.8687,412.14033,379.42569000000003,361.45431,345.67848,327.69009,324.95525999999995],\"type\":\"scatter\"},{\"line\":{\"color\":\"Brown\",\"width\":3},\"marker\":{\"line\":{\"color\":\"darkred\",\"width\":2},\"size\":6,\"symbol\":\"circle\"},\"mode\":\"lines+markers\",\"name\":\"MacNonFusNonProb_504mpi_2omp\",\"x\":[774144000.0,1161216000.0,1548288000.0,1935360000.0,2322432000.0,2709504000.0,3096576000.0,3483648000.0,3870720000.0],\"y\":[439.27947,484.84548,443.65040999999997,403.63344,380.72538000000003,354.74354999999997,344.80467,335.88891,324.04995],\"type\":\"scatter\"}],                        {\"template\":{\"data\":{\"histogram2dcontour\":[{\"type\":\"histogram2dcontour\",\"colorbar\":{\"outlinewidth\":0,\"ticks\":\"\"},\"colorscale\":[[0.0,\"#0d0887\"],[0.1111111111111111,\"#46039f\"],[0.2222222222222222,\"#7201a8\"],[0.3333333333333333,\"#9c179e\"],[0.4444444444444444,\"#bd3786\"],[0.5555555555555556,\"#d8576b\"],[0.6666666666666666,\"#ed7953\"],[0.7777777777777778,\"#fb9f3a\"],[0.8888888888888888,\"#fdca26\"],[1.0,\"#f0f921\"]]}],\"choropleth\":[{\"type\":\"choropleth\",\"colorbar\":{\"outlinewidth\":0,\"ticks\":\"\"}}],\"histogram2d\":[{\"type\":\"histogram2d\",\"colorbar\":{\"outlinewidth\":0,\"ticks\":\"\"},\"colorscale\":[[0.0,\"#0d0887\"],[0.1111111111111111,\"#46039f\"],[0.2222222222222222,\"#7201a8\"],[0.3333333333333333,\"#9c179e\"],[0.4444444444444444,\"#bd3786\"],[0.5555555555555556,\"#d8576b\"],[0.6666666666666666,\"#ed7953\"],[0.7777777777777778,\"#fb9f3a\"],[0.8888888888888888,\"#fdca26\"],[1.0,\"#f0f921\"]]}],\"heatmap\":[{\"type\":\"heatmap\",\"colorbar\":{\"outlinewidth\":0,\"ticks\":\"\"},\"colorscale\":[[0.0,\"#0d0887\"],[0.1111111111111111,\"#46039f\"],[0.2222222222222222,\"#7201a8\"],[0.3333333333333333,\"#9c179e\"],[0.4444444444444444,\"#bd3786\"],[0.5555555555555556,\"#d8576b\"],[0.6666666666666666,\"#ed7953\"],[0.7777777777777778,\"#fb9f3a\"],[0.8888888888888888,\"#fdca26\"],[1.0,\"#f0f921\"]]}],\"heatmapgl\":[{\"type\":\"heatmapgl\",\"colorbar\":{\"outlinewidth\":0,\"ticks\":\"\"},\"colorscale\":[[0.0,\"#0d0887\"],[0.1111111111111111,\"#46039f\"],[0.2222222222222222,\"#7201a8\"],[0.3333333333333333,\"#9c179e\"],[0.4444444444444444,\"#bd3786\"],[0.5555555555555556,\"#d8576b\"],[0.6666666666666666,\"#ed7953\"],[0.7777777777777778,\"#fb9f3a\"],[0.8888888888888888,\"#fdca26\"],[1.0,\"#f0f921\"]]}],\"contourcarpet\":[{\"type\":\"contourcarpet\",\"colorbar\":{\"outlinewidth\":0,\"ticks\":\"\"}}],\"contour\":[{\"type\":\"contour\",\"colorbar\":{\"outlinewidth\":0,\"ticks\":\"\"},\"colorscale\":[[0.0,\"#0d0887\"],[0.1111111111111111,\"#46039f\"],[0.2222222222222222,\"#7201a8\"],[0.3333333333333333,\"#9c179e\"],[0.4444444444444444,\"#bd3786\"],[0.5555555555555556,\"#d8576b\"],[0.6666666666666666,\"#ed7953\"],[0.7777777777777778,\"#fb9f3a\"],[0.8888888888888888,\"#fdca26\"],[1.0,\"#f0f921\"]]}],\"surface\":[{\"type\":\"surface\",\"colorbar\":{\"outlinewidth\":0,\"ticks\":\"\"},\"colorscale\":[[0.0,\"#0d0887\"],[0.1111111111111111,\"#46039f\"],[0.2222222222222222,\"#7201a8\"],[0.3333333333333333,\"#9c179e\"],[0.4444444444444444,\"#bd3786\"],[0.5555555555555556,\"#d8576b\"],[0.6666666666666666,\"#ed7953\"],[0.7777777777777778,\"#fb9f3a\"],[0.8888888888888888,\"#fdca26\"],[1.0,\"#f0f921\"]]}],\"mesh3d\":[{\"type\":\"mesh3d\",\"colorbar\":{\"outlinewidth\":0,\"ticks\":\"\"}}],\"scatter\":[{\"fillpattern\":{\"fillmode\":\"overlay\",\"size\":10,\"solidity\":0.2},\"type\":\"scatter\"}],\"parcoords\":[{\"type\":\"parcoords\",\"line\":{\"colorbar\":{\"outlinewidth\":0,\"ticks\":\"\"}}}],\"scatterpolargl\":[{\"type\":\"scatterpolargl\",\"marker\":{\"colorbar\":{\"outlinewidth\":0,\"ticks\":\"\"}}}],\"bar\":[{\"error_x\":{\"color\":\"#2a3f5f\"},\"error_y\":{\"color\":\"#2a3f5f\"},\"marker\":{\"line\":{\"color\":\"#E5ECF6\",\"width\":0.5},\"pattern\":{\"fillmode\":\"overlay\",\"size\":10,\"solidity\":0.2}},\"type\":\"bar\"}],\"scattergeo\":[{\"type\":\"scattergeo\",\"marker\":{\"colorbar\":{\"outlinewidth\":0,\"ticks\":\"\"}}}],\"scatterpolar\":[{\"type\":\"scatterpolar\",\"marker\":{\"colorbar\":{\"outlinewidth\":0,\"ticks\":\"\"}}}],\"histogram\":[{\"marker\":{\"pattern\":{\"fillmode\":\"overlay\",\"size\":10,\"solidity\":0.2}},\"type\":\"histogram\"}],\"scattergl\":[{\"type\":\"scattergl\",\"marker\":{\"colorbar\":{\"outlinewidth\":0,\"ticks\":\"\"}}}],\"scatter3d\":[{\"type\":\"scatter3d\",\"line\":{\"colorbar\":{\"outlinewidth\":0,\"ticks\":\"\"}},\"marker\":{\"colorbar\":{\"outlinewidth\":0,\"ticks\":\"\"}}}],\"scattermapbox\":[{\"type\":\"scattermapbox\",\"marker\":{\"colorbar\":{\"outlinewidth\":0,\"ticks\":\"\"}}}],\"scatterternary\":[{\"type\":\"scatterternary\",\"marker\":{\"colorbar\":{\"outlinewidth\":0,\"ticks\":\"\"}}}],\"scattercarpet\":[{\"type\":\"scattercarpet\",\"marker\":{\"colorbar\":{\"outlinewidth\":0,\"ticks\":\"\"}}}],\"carpet\":[{\"aaxis\":{\"endlinecolor\":\"#2a3f5f\",\"gridcolor\":\"white\",\"linecolor\":\"white\",\"minorgridcolor\":\"white\",\"startlinecolor\":\"#2a3f5f\"},\"baxis\":{\"endlinecolor\":\"#2a3f5f\",\"gridcolor\":\"white\",\"linecolor\":\"white\",\"minorgridcolor\":\"white\",\"startlinecolor\":\"#2a3f5f\"},\"type\":\"carpet\"}],\"table\":[{\"cells\":{\"fill\":{\"color\":\"#EBF0F8\"},\"line\":{\"color\":\"white\"}},\"header\":{\"fill\":{\"color\":\"#C8D4E3\"},\"line\":{\"color\":\"white\"}},\"type\":\"table\"}],\"barpolar\":[{\"marker\":{\"line\":{\"color\":\"#E5ECF6\",\"width\":0.5},\"pattern\":{\"fillmode\":\"overlay\",\"size\":10,\"solidity\":0.2}},\"type\":\"barpolar\"}],\"pie\":[{\"automargin\":true,\"type\":\"pie\"}]},\"layout\":{\"autotypenumbers\":\"strict\",\"colorway\":[\"#636efa\",\"#EF553B\",\"#00cc96\",\"#ab63fa\",\"#FFA15A\",\"#19d3f3\",\"#FF6692\",\"#B6E880\",\"#FF97FF\",\"#FECB52\"],\"font\":{\"color\":\"#2a3f5f\"},\"hovermode\":\"closest\",\"hoverlabel\":{\"align\":\"left\"},\"paper_bgcolor\":\"white\",\"plot_bgcolor\":\"#E5ECF6\",\"polar\":{\"bgcolor\":\"#E5ECF6\",\"angularaxis\":{\"gridcolor\":\"white\",\"linecolor\":\"white\",\"ticks\":\"\"},\"radialaxis\":{\"gridcolor\":\"white\",\"linecolor\":\"white\",\"ticks\":\"\"}},\"ternary\":{\"bgcolor\":\"#E5ECF6\",\"aaxis\":{\"gridcolor\":\"white\",\"linecolor\":\"white\",\"ticks\":\"\"},\"baxis\":{\"gridcolor\":\"white\",\"linecolor\":\"white\",\"ticks\":\"\"},\"caxis\":{\"gridcolor\":\"white\",\"linecolor\":\"white\",\"ticks\":\"\"}},\"coloraxis\":{\"colorbar\":{\"outlinewidth\":0,\"ticks\":\"\"}},\"colorscale\":{\"sequential\":[[0.0,\"#0d0887\"],[0.1111111111111111,\"#46039f\"],[0.2222222222222222,\"#7201a8\"],[0.3333333333333333,\"#9c179e\"],[0.4444444444444444,\"#bd3786\"],[0.5555555555555556,\"#d8576b\"],[0.6666666666666666,\"#ed7953\"],[0.7777777777777778,\"#fb9f3a\"],[0.8888888888888888,\"#fdca26\"],[1.0,\"#f0f921\"]],\"sequentialminus\":[[0.0,\"#0d0887\"],[0.1111111111111111,\"#46039f\"],[0.2222222222222222,\"#7201a8\"],[0.3333333333333333,\"#9c179e\"],[0.4444444444444444,\"#bd3786\"],[0.5555555555555556,\"#d8576b\"],[0.6666666666666666,\"#ed7953\"],[0.7777777777777778,\"#fb9f3a\"],[0.8888888888888888,\"#fdca26\"],[1.0,\"#f0f921\"]],\"diverging\":[[0,\"#8e0152\"],[0.1,\"#c51b7d\"],[0.2,\"#de77ae\"],[0.3,\"#f1b6da\"],[0.4,\"#fde0ef\"],[0.5,\"#f7f7f7\"],[0.6,\"#e6f5d0\"],[0.7,\"#b8e186\"],[0.8,\"#7fbc41\"],[0.9,\"#4d9221\"],[1,\"#276419\"]]},\"xaxis\":{\"gridcolor\":\"white\",\"linecolor\":\"white\",\"ticks\":\"\",\"title\":{\"standoff\":15},\"zerolinecolor\":\"white\",\"automargin\":true,\"zerolinewidth\":2},\"yaxis\":{\"gridcolor\":\"white\",\"linecolor\":\"white\",\"ticks\":\"\",\"title\":{\"standoff\":15},\"zerolinecolor\":\"white\",\"automargin\":true,\"zerolinewidth\":2},\"scene\":{\"xaxis\":{\"backgroundcolor\":\"#E5ECF6\",\"gridcolor\":\"white\",\"linecolor\":\"white\",\"showbackground\":true,\"ticks\":\"\",\"zerolinecolor\":\"white\",\"gridwidth\":2},\"yaxis\":{\"backgroundcolor\":\"#E5ECF6\",\"gridcolor\":\"white\",\"linecolor\":\"white\",\"showbackground\":true,\"ticks\":\"\",\"zerolinecolor\":\"white\",\"gridwidth\":2},\"zaxis\":{\"backgroundcolor\":\"#E5ECF6\",\"gridcolor\":\"white\",\"linecolor\":\"white\",\"showbackground\":true,\"ticks\":\"\",\"zerolinecolor\":\"white\",\"gridwidth\":2}},\"shapedefaults\":{\"line\":{\"color\":\"#2a3f5f\"}},\"annotationdefaults\":{\"arrowcolor\":\"#2a3f5f\",\"arrowhead\":0,\"arrowwidth\":1},\"geo\":{\"bgcolor\":\"white\",\"landcolor\":\"#E5ECF6\",\"subunitcolor\":\"white\",\"showland\":true,\"showlakes\":true,\"lakecolor\":\"white\"},\"title\":{\"x\":0.05},\"mapbox\":{\"style\":\"light\"}}},\"shapes\":[{\"line\":{\"color\":\"green\",\"dash\":\"dot\",\"width\":3},\"type\":\"line\",\"x0\":512000000.0,\"x1\":512000000.0,\"xref\":\"x\",\"y0\":0,\"y1\":1,\"yref\":\"y domain\"},{\"line\":{\"color\":\"red\",\"dash\":\"dash\",\"width\":3},\"type\":\"line\",\"x0\":0,\"x1\":1,\"xref\":\"x domain\",\"y0\":409,\"y1\":409,\"yref\":\"y\"}],\"annotations\":[{\"align\":\"left\",\"arrowcolor\":\"#636363\",\"arrowhead\":1,\"arrowsize\":1,\"arrowwidth\":2,\"ax\":-20,\"ay\":-30,\"font\":{\"color\":\"purple\",\"family\":\"Sans Serif\",\"size\":12},\"showarrow\":false,\"text\":\"LLC Size Per Node: 512M\",\"x\":\"512e6\",\"y\":280,\"yanchor\":\"bottom\"},{\"align\":\"left\",\"arrowcolor\":\"#636363\",\"arrowhead\":1,\"arrowsize\":1,\"arrowwidth\":2,\"ax\":-20,\"ay\":-30,\"font\":{\"color\":\"orange\",\"family\":\"Sans Serif\",\"size\":12},\"showarrow\":false,\"text\":\"Max Bandwidth Per Node\",\"x\":\"130e6\",\"y\":370,\"yanchor\":\"bottom\"}],\"xaxis\":{\"title\":{\"text\":\"Dirc_Data_Mov\"},\"ticks\":\"outside\"},\"yaxis\":{\"title\":{\"text\":\"Bandwidth/Node\"},\"ticks\":\"outside\"},\"title\":{\"text\":\"\\\"Nonfused Macro: Probempi vs Nonprobempi\\\" Bandwidth Measurement\"},\"legend\":{\"bordercolor\":\"black\",\"borderwidth\":1}},                        {\"responsive\": true}                    ).then(function(){\n",
       "                            \n",
       "var gd = document.getElementById('99ab5873-10a7-47d6-8c6d-b6adc3e7e19e');\n",
       "var x = new MutationObserver(function (mutations, observer) {{\n",
       "        var display = window.getComputedStyle(gd).display;\n",
       "        if (!display || display === 'none') {{\n",
       "            console.log([gd, 'removed!']);\n",
       "            Plotly.purge(gd);\n",
       "            observer.disconnect();\n",
       "        }}\n",
       "}});\n",
       "\n",
       "// Listen for the removal of the full notebook cells\n",
       "var notebookContainer = gd.closest('#notebook-container');\n",
       "if (notebookContainer) {{\n",
       "    x.observe(notebookContainer, {childList: true});\n",
       "}}\n",
       "\n",
       "// Listen for the clearing of the current output cell\n",
       "var outputEl = gd.closest('.output');\n",
       "if (outputEl) {{\n",
       "    x.observe(outputEl, {childList: true});\n",
       "}}\n",
       "\n",
       "                        })                };                });            </script>        </div>"
      ]
     },
     "metadata": {},
     "output_type": "display_data"
    }
   ],
   "source": [
    "fig = go.Figure() \n",
    "\n",
    "# Case 1\n",
    "fig.add_trace(go.Scatter(x=(dfn8MacNonFusProb_1024mpi_1omp.Dirc_Data_Mov*(dfn8MacNonFusProb_1024mpi_1omp.MPI_size/8)), \n",
    "                         y=(dfn8MacNonFusProb_1024mpi_1omp.BAND*(dfn8MacNonFusProb_1024mpi_1omp.MPI_size/8)), \n",
    "                         mode='lines+markers', \n",
    "                         name='MacNonFusProb_1024mpi_1omp',\n",
    "                         line=dict(color='darkcyan',width=3),\n",
    "                         marker=dict(symbol='hexagon',size=9, line=dict(color='yellow',width=1))))\n",
    "\n",
    "fig.add_trace(go.Scatter(x=(dfn8MacNonFusNonProb_1024mpi_1omp.Dirc_Data_Mov*(dfn8MacNonFusNonProb_1024mpi_1omp.MPI_size/8)), \n",
    "                         y=(dfn8MacNonFusNonProb_1024mpi_1omp.BAND*(dfn8MacNonFusNonProb_1024mpi_1omp.MPI_size/8)), \n",
    "                         mode='lines+markers', \n",
    "                         name='MacNonFusNonProb_1024mpi_1omp',\n",
    "                         line=dict(color='magenta',width=3),\n",
    "                         marker=dict(symbol='hexagon',size=9, line=dict(color='yellow',width=1))))\n",
    "\n",
    "\n",
    "# Case 2\n",
    "fig.add_trace(go.Scatter(x=(dfn8MacNonFusProb_512mpi_2omp.Dirc_Data_Mov*(dfn8MacNonFusProb_512mpi_2omp.MPI_size/8)), \n",
    "                         y=(dfn8MacNonFusProb_512mpi_2omp.BAND*(dfn8MacNonFusProb_512mpi_2omp.MPI_size/8)), \n",
    "                         mode='lines+markers', \n",
    "                         name='MacNonFusProb_512mpi_2omp',\n",
    "                         line=dict(color='royalblue',width=3),\n",
    "                         marker=dict(symbol='diamond',size=5,line=dict(color='MediumPurple',width=2))))\n",
    "\n",
    "fig.add_trace(go.Scatter(x=(dfn8MacNonFusNonProb_512mpi_2omp.Dirc_Data_Mov*(dfn8MacNonFusNonProb_512mpi_2omp.MPI_size/8)), \n",
    "                         y=(dfn8MacNonFusNonProb_512mpi_2omp.BAND*(dfn8MacNonFusNonProb_512mpi_2omp.MPI_size/8)), \n",
    "                         mode='lines+markers', \n",
    "                         name='MacNonFusNonProb_512mpi_2omp',\n",
    "                         line=dict(color='sandybrown',width=3),\n",
    "                         marker=dict(symbol='diamond',size=5,line=dict(color='MediumPurple',width=2))))\n",
    "\n",
    "\n",
    "# Case 3\n",
    "fig.add_trace(go.Scatter(x=(dfn8MacNonFusProb_256mpi_4omp.Dirc_Data_Mov*(dfn8MacNonFusProb_256mpi_4omp.MPI_size/8)), \n",
    "                         y=(dfn8MacNonFusProb_256mpi_4omp.BAND*(dfn8MacNonFusProb_256mpi_4omp.MPI_size/8)), \n",
    "                         mode='lines+markers', \n",
    "                         name='MacNonFusProb_256mpi_4omp',\n",
    "                         line=dict(color='darkblue',width=3),\n",
    "                         marker=dict(symbol='circle',size=7, line=dict(color='tomato',width=2))))\n",
    "\n",
    "fig.add_trace(go.Scatter(x=(dfn8MacNonFusNonProb_256mpi_4omp.Dirc_Data_Mov*(dfn8MacNonFusNonProb_256mpi_4omp.MPI_size/8)), \n",
    "                         y=(dfn8MacNonFusNonProb_256mpi_4omp.BAND*(dfn8MacNonFusNonProb_256mpi_4omp.MPI_size/8)), \n",
    "                         mode='lines+markers', \n",
    "                         name='MacNonFusNonProb_256mpi_4omp',\n",
    "                         line=dict(color='cyan',width=3),\n",
    "                         marker=dict(symbol='circle',size=7,line=dict(color='Purple',width=2))))\n",
    "\n",
    "\n",
    "\n",
    "# Case 4\n",
    "fig.add_trace(go.Scatter(x=(dfn8MacNonFusProb_128mpi_8omp.Dirc_Data_Mov*(dfn8MacNonFusProb_128mpi_8omp.MPI_size/8)), \n",
    "                         y=(dfn8MacNonFusProb_128mpi_8omp.BAND*(dfn8MacNonFusProb_128mpi_8omp.MPI_size/8)), \n",
    "                         mode='lines+markers', \n",
    "                         name='MacNonFusProb_128mpi_8omp',\n",
    "                         line=dict(color='blue',width=3),\n",
    "                         marker=dict(symbol='star',size=7, line=dict(color='black',width=1))))\n",
    "\n",
    "fig.add_trace(go.Scatter(x=(dfn8MacNonFusNonProb_128mpi_8omp.Dirc_Data_Mov*(dfn8MacNonFusNonProb_128mpi_8omp.MPI_size/8)), \n",
    "                         y=(dfn8MacNonFusNonProb_128mpi_8omp.BAND*(dfn8MacNonFusNonProb_128mpi_8omp.MPI_size/8)), \n",
    "                         mode='lines+markers', \n",
    "                         name='MacNonFusNonProb_128mpi_8omp',\n",
    "                         line=dict(color='red',width=3),\n",
    "                         marker=dict(symbol='star',size=7, line=dict(color='black',width=1))))\n",
    "\n",
    "\n",
    "# Case 5\n",
    "fig.add_trace(go.Scatter(x=(dfn8MacNonFusProb_64mpi_16omp.Dirc_Data_Mov*(dfn8MacNonFusProb_64mpi_16omp.MPI_size/8)), \n",
    "                         y=(dfn8MacNonFusProb_64mpi_16omp.BAND*(dfn8MacNonFusProb_64mpi_16omp.MPI_size/8)), \n",
    "                         mode='lines+markers', \n",
    "                         name='MacNonFusProb_64mpi_16omp',\n",
    "                         line=dict(color='chartreuse',width=3),\n",
    "                         marker=dict(symbol='square-dot',size=6, line=dict(color='mediumvioletred',width=1))))\n",
    "\n",
    "fig.add_trace(go.Scatter(x=(dfn8MacNonFusNonProb_64mpi_16omp.Dirc_Data_Mov*(dfn8MacNonFusNonProb_64mpi_16omp.MPI_size/8)), \n",
    "                         y=(dfn8MacNonFusNonProb_64mpi_16omp.BAND*(dfn8MacNonFusNonProb_64mpi_16omp.MPI_size/8)), \n",
    "                         mode='lines+markers', \n",
    "                         name='MacNonFusNonProb_64mpi_16omp',\n",
    "                         line=dict(color='black',width=3),\n",
    "                         marker=dict(symbol='square-dot',size=6, line=dict(color='mediumvioletred',width=1))))\n",
    "\n",
    "\n",
    "# Case 6\n",
    "fig.add_trace(go.Scatter(x=(dfn8MacNonFusProb_168mpi_6omp.Dirc_Data_Mov*(dfn8MacNonFusProb_168mpi_6omp.MPI_size/8)), \n",
    "                         y=(dfn8MacNonFusProb_168mpi_6omp.BAND*(dfn8MacNonFusProb_168mpi_6omp.MPI_size/8)), \n",
    "                         mode='lines+markers', \n",
    "                         name='MacNonFusProb_168mpi_6omp',\n",
    "                         line=dict(color='gold',width=3),\n",
    "                         marker=dict(symbol='triangle-up',size=6, line=dict(color='black',width=1))))\n",
    "\n",
    "fig.add_trace(go.Scatter(x=(dfn8MacNonFusNonProb_168mpi_6omp.Dirc_Data_Mov*(dfn8MacNonFusNonProb_168mpi_6omp.MPI_size/8)), \n",
    "                         y=(dfn8MacNonFusNonProb_168mpi_6omp.BAND*(dfn8MacNonFusNonProb_168mpi_6omp.MPI_size/8)), \n",
    "                         mode='lines+markers', \n",
    "                         name='MacNonFusNonProb_168mpi_6omp',\n",
    "                         line=dict(color='dimgray',width=3),\n",
    "                         marker=dict(symbol='triangle-up',size=6, line=dict(color='black',width=1))))\n",
    "\n",
    "\n",
    "\n",
    "# Case 7\n",
    "fig.add_trace(go.Scatter(x=(dfn8MacNonFusProb_504mpi_2omp.Dirc_Data_Mov*(dfn8MacNonFusProb_504mpi_2omp.MPI_size/8)), \n",
    "                         y=(dfn8MacNonFusProb_504mpi_2omp.BAND*(dfn8MacNonFusProb_504mpi_2omp.MPI_size/8)), \n",
    "                         mode='lines+markers', \n",
    "                         name='MacNonFusProb_504mpi_2omp',\n",
    "                         line=dict(color='olive',width=3),\n",
    "                         marker=dict(symbol='circle',size=6, line=dict(color='olive',width=2))))\n",
    "\n",
    "fig.add_trace(go.Scatter(x=(dfn8MacNonFusNonProb_504mpi_2omp.Dirc_Data_Mov*(dfn8MacNonFusNonProb_504mpi_2omp.MPI_size/8)), \n",
    "                         y=(dfn8MacNonFusNonProb_504mpi_2omp.BAND*(dfn8MacNonFusNonProb_504mpi_2omp.MPI_size/8)), \n",
    "                         mode='lines+markers', \n",
    "                         name='MacNonFusNonProb_504mpi_2omp',\n",
    "                         line=dict(color='Brown',width=3),\n",
    "                         marker=dict(symbol='circle',size=6, line=dict(color='darkred',width=2))))\n",
    "\n",
    "\n",
    "\n",
    "# Adding vertical and horizontal lines \n",
    "fig.add_vline(x=512e6, line_width=3, line_dash=\"dot\", line_color=\"green\")\n",
    "fig.add_hline(y=409, line_width=3, line_dash=\"dash\", line_color=\"red\")\n",
    "\n",
    "# Add annotation with arrow\n",
    "fig.add_annotation(\n",
    "    x='512e6'\n",
    "    , y=280\n",
    "    , text=f'LLC Size Per Node: 512M'\n",
    "    , yanchor='bottom'\n",
    "    , showarrow=False\n",
    "    , arrowhead=1\n",
    "    , arrowsize=1\n",
    "    , arrowwidth=2\n",
    "    , arrowcolor=\"#636363\"\n",
    "    , ax=-20\n",
    "    , ay=-30\n",
    "    , font=dict(size=12, color=\"purple\", family=\"Sans Serif\")\n",
    "    , align=\"left\"\n",
    "    ,)\n",
    "\n",
    "fig.add_annotation(\n",
    "    x='130e6'\n",
    "    , y=370\n",
    "    , text=f'Max Bandwidth Per Node'\n",
    "    , yanchor='bottom'\n",
    "    , showarrow=False\n",
    "    , arrowhead=1\n",
    "    , arrowsize=1\n",
    "    , arrowwidth=2\n",
    "    , arrowcolor=\"#636363\"\n",
    "    , ax=-20\n",
    "    , ay=-30\n",
    "    , font=dict(size=12, color=\"orange\", family=\"Sans Serif\")\n",
    "    , align=\"left\"\n",
    "    ,)\n",
    "\n",
    "\n",
    "fig.update_layout(title='\"Nonfused Macro: Probempi vs Nonprobempi\" Bandwidth Measurement',\n",
    "                  xaxis_title='Dirc_Data_Mov', yaxis_title='Bandwidth/Node', \n",
    "                  xaxis=dict(ticks=\"outside\"),  \n",
    "                  yaxis=dict(ticks=\"outside\"),\n",
    "                  legend=go.layout.Legend(bordercolor=\"black\",borderwidth=1)) \n",
    "\n",
    "\n",
    "\n",
    "\n"
   ]
  },
  {
   "cell_type": "code",
   "execution_count": null,
   "id": "8675a462",
   "metadata": {},
   "outputs": [],
   "source": []
  },
  {
   "cell_type": "markdown",
   "id": "0f2a76f0",
   "metadata": {},
   "source": [
    "## 5) Newgeo_Macro_Probempi"
   ]
  },
  {
   "cell_type": "markdown",
   "id": "1b2932cd",
   "metadata": {},
   "source": [
    "### Adding Columns"
   ]
  },
  {
   "cell_type": "code",
   "execution_count": 19,
   "id": "8b339d9e",
   "metadata": {},
   "outputs": [],
   "source": [
    "dfn8_macro_newgeo_probempi[\"N_Nodes\"] = 8\n",
    "dfn8_macro_newgeo_probempi['NPX'] = (dfn8_macro_newgeo_probempi.GLB_X//dfn8_macro_newgeo_probempi.LOC_X)\n",
    "dfn8_macro_newgeo_probempi['NPY'] = (dfn8_macro_newgeo_probempi.GLB_Y//dfn8_macro_newgeo_probempi.LOC_Y)\n",
    "dfn8_macro_newgeo_probempi['NPZ'] = (dfn8_macro_newgeo_probempi.GLB_Z//dfn8_macro_newgeo_probempi.LOC_Z)\n",
    "dfn8_macro_newgeo_probempi['NPT'] = (dfn8_macro_newgeo_probempi.GLB_T//dfn8_macro_newgeo_probempi.LOC_T)\n",
    "dfn8_macro_newgeo_probempi[\"Total_proc\"] = dfn8_macro_newgeo_probempi[\"omp_thrd\"]* dfn8_macro_newgeo_probempi.MPI_size\n",
    "# dfn8_macro_newgeo_probempi.columns"
   ]
  },
  {
   "cell_type": "markdown",
   "id": "05f04018",
   "metadata": {},
   "source": [
    "### Data Summary"
   ]
  },
  {
   "cell_type": "code",
   "execution_count": 20,
   "id": "eb1d18f5",
   "metadata": {},
   "outputs": [
    {
     "data": {
      "text/html": [
       "<div>\n",
       "<style scoped>\n",
       "    .dataframe tbody tr th:only-of-type {\n",
       "        vertical-align: middle;\n",
       "    }\n",
       "\n",
       "    .dataframe tbody tr th {\n",
       "        vertical-align: top;\n",
       "    }\n",
       "\n",
       "    .dataframe thead th {\n",
       "        text-align: right;\n",
       "    }\n",
       "</style>\n",
       "<table border=\"1\" class=\"dataframe\">\n",
       "  <thead>\n",
       "    <tr style=\"text-align: right;\">\n",
       "      <th></th>\n",
       "      <th>MPI_size</th>\n",
       "      <th>omp_thrd</th>\n",
       "      <th>NPT</th>\n",
       "      <th>NPX</th>\n",
       "      <th>NPY</th>\n",
       "      <th>NPZ</th>\n",
       "      <th>Total_proc</th>\n",
       "      <th>size</th>\n",
       "    </tr>\n",
       "  </thead>\n",
       "  <tbody>\n",
       "    <tr>\n",
       "      <th>0</th>\n",
       "      <td>64</td>\n",
       "      <td>16</td>\n",
       "      <td>8</td>\n",
       "      <td>2</td>\n",
       "      <td>2</td>\n",
       "      <td>2</td>\n",
       "      <td>1024</td>\n",
       "      <td>134</td>\n",
       "    </tr>\n",
       "    <tr>\n",
       "      <th>1</th>\n",
       "      <td>72</td>\n",
       "      <td>14</td>\n",
       "      <td>9</td>\n",
       "      <td>2</td>\n",
       "      <td>2</td>\n",
       "      <td>2</td>\n",
       "      <td>1008</td>\n",
       "      <td>61</td>\n",
       "    </tr>\n",
       "    <tr>\n",
       "      <th>2</th>\n",
       "      <td>112</td>\n",
       "      <td>9</td>\n",
       "      <td>14</td>\n",
       "      <td>2</td>\n",
       "      <td>2</td>\n",
       "      <td>2</td>\n",
       "      <td>1008</td>\n",
       "      <td>80</td>\n",
       "    </tr>\n",
       "    <tr>\n",
       "      <th>3</th>\n",
       "      <td>128</td>\n",
       "      <td>8</td>\n",
       "      <td>16</td>\n",
       "      <td>2</td>\n",
       "      <td>2</td>\n",
       "      <td>2</td>\n",
       "      <td>1024</td>\n",
       "      <td>70</td>\n",
       "    </tr>\n",
       "    <tr>\n",
       "      <th>4</th>\n",
       "      <td>144</td>\n",
       "      <td>7</td>\n",
       "      <td>18</td>\n",
       "      <td>2</td>\n",
       "      <td>2</td>\n",
       "      <td>2</td>\n",
       "      <td>1008</td>\n",
       "      <td>61</td>\n",
       "    </tr>\n",
       "    <tr>\n",
       "      <th>5</th>\n",
       "      <td>168</td>\n",
       "      <td>6</td>\n",
       "      <td>21</td>\n",
       "      <td>2</td>\n",
       "      <td>2</td>\n",
       "      <td>2</td>\n",
       "      <td>1008</td>\n",
       "      <td>27</td>\n",
       "    </tr>\n",
       "    <tr>\n",
       "      <th>6</th>\n",
       "      <td>200</td>\n",
       "      <td>5</td>\n",
       "      <td>25</td>\n",
       "      <td>2</td>\n",
       "      <td>2</td>\n",
       "      <td>2</td>\n",
       "      <td>1000</td>\n",
       "      <td>22</td>\n",
       "    </tr>\n",
       "    <tr>\n",
       "      <th>7</th>\n",
       "      <td>248</td>\n",
       "      <td>4</td>\n",
       "      <td>31</td>\n",
       "      <td>2</td>\n",
       "      <td>2</td>\n",
       "      <td>2</td>\n",
       "      <td>992</td>\n",
       "      <td>16</td>\n",
       "    </tr>\n",
       "    <tr>\n",
       "      <th>8</th>\n",
       "      <td>256</td>\n",
       "      <td>4</td>\n",
       "      <td>32</td>\n",
       "      <td>2</td>\n",
       "      <td>2</td>\n",
       "      <td>2</td>\n",
       "      <td>1024</td>\n",
       "      <td>33</td>\n",
       "    </tr>\n",
       "    <tr>\n",
       "      <th>9</th>\n",
       "      <td>328</td>\n",
       "      <td>3</td>\n",
       "      <td>41</td>\n",
       "      <td>2</td>\n",
       "      <td>2</td>\n",
       "      <td>2</td>\n",
       "      <td>984</td>\n",
       "      <td>12</td>\n",
       "    </tr>\n",
       "    <tr>\n",
       "      <th>10</th>\n",
       "      <td>336</td>\n",
       "      <td>3</td>\n",
       "      <td>42</td>\n",
       "      <td>2</td>\n",
       "      <td>2</td>\n",
       "      <td>2</td>\n",
       "      <td>1008</td>\n",
       "      <td>26</td>\n",
       "    </tr>\n",
       "    <tr>\n",
       "      <th>11</th>\n",
       "      <td>488</td>\n",
       "      <td>2</td>\n",
       "      <td>61</td>\n",
       "      <td>2</td>\n",
       "      <td>2</td>\n",
       "      <td>2</td>\n",
       "      <td>976</td>\n",
       "      <td>9</td>\n",
       "    </tr>\n",
       "    <tr>\n",
       "      <th>12</th>\n",
       "      <td>496</td>\n",
       "      <td>2</td>\n",
       "      <td>62</td>\n",
       "      <td>2</td>\n",
       "      <td>2</td>\n",
       "      <td>2</td>\n",
       "      <td>992</td>\n",
       "      <td>17</td>\n",
       "    </tr>\n",
       "    <tr>\n",
       "      <th>13</th>\n",
       "      <td>504</td>\n",
       "      <td>2</td>\n",
       "      <td>63</td>\n",
       "      <td>2</td>\n",
       "      <td>2</td>\n",
       "      <td>2</td>\n",
       "      <td>1008</td>\n",
       "      <td>8</td>\n",
       "    </tr>\n",
       "    <tr>\n",
       "      <th>14</th>\n",
       "      <td>512</td>\n",
       "      <td>2</td>\n",
       "      <td>64</td>\n",
       "      <td>2</td>\n",
       "      <td>2</td>\n",
       "      <td>2</td>\n",
       "      <td>1024</td>\n",
       "      <td>15</td>\n",
       "    </tr>\n",
       "    <tr>\n",
       "      <th>15</th>\n",
       "      <td>976</td>\n",
       "      <td>1</td>\n",
       "      <td>122</td>\n",
       "      <td>2</td>\n",
       "      <td>2</td>\n",
       "      <td>2</td>\n",
       "      <td>976</td>\n",
       "      <td>7</td>\n",
       "    </tr>\n",
       "    <tr>\n",
       "      <th>16</th>\n",
       "      <td>984</td>\n",
       "      <td>1</td>\n",
       "      <td>123</td>\n",
       "      <td>2</td>\n",
       "      <td>2</td>\n",
       "      <td>2</td>\n",
       "      <td>984</td>\n",
       "      <td>4</td>\n",
       "    </tr>\n",
       "    <tr>\n",
       "      <th>17</th>\n",
       "      <td>992</td>\n",
       "      <td>1</td>\n",
       "      <td>124</td>\n",
       "      <td>2</td>\n",
       "      <td>2</td>\n",
       "      <td>2</td>\n",
       "      <td>992</td>\n",
       "      <td>5</td>\n",
       "    </tr>\n",
       "    <tr>\n",
       "      <th>18</th>\n",
       "      <td>1000</td>\n",
       "      <td>1</td>\n",
       "      <td>125</td>\n",
       "      <td>2</td>\n",
       "      <td>2</td>\n",
       "      <td>2</td>\n",
       "      <td>1000</td>\n",
       "      <td>3</td>\n",
       "    </tr>\n",
       "    <tr>\n",
       "      <th>19</th>\n",
       "      <td>1008</td>\n",
       "      <td>1</td>\n",
       "      <td>126</td>\n",
       "      <td>2</td>\n",
       "      <td>2</td>\n",
       "      <td>2</td>\n",
       "      <td>1008</td>\n",
       "      <td>7</td>\n",
       "    </tr>\n",
       "    <tr>\n",
       "      <th>20</th>\n",
       "      <td>1016</td>\n",
       "      <td>1</td>\n",
       "      <td>127</td>\n",
       "      <td>2</td>\n",
       "      <td>2</td>\n",
       "      <td>2</td>\n",
       "      <td>1016</td>\n",
       "      <td>4</td>\n",
       "    </tr>\n",
       "    <tr>\n",
       "      <th>21</th>\n",
       "      <td>1024</td>\n",
       "      <td>1</td>\n",
       "      <td>128</td>\n",
       "      <td>2</td>\n",
       "      <td>2</td>\n",
       "      <td>2</td>\n",
       "      <td>1024</td>\n",
       "      <td>6</td>\n",
       "    </tr>\n",
       "  </tbody>\n",
       "</table>\n",
       "</div>"
      ],
      "text/plain": [
       "    MPI_size  omp_thrd  NPT  NPX  NPY  NPZ  Total_proc  size\n",
       "0         64        16    8    2    2    2        1024   134\n",
       "1         72        14    9    2    2    2        1008    61\n",
       "2        112         9   14    2    2    2        1008    80\n",
       "3        128         8   16    2    2    2        1024    70\n",
       "4        144         7   18    2    2    2        1008    61\n",
       "5        168         6   21    2    2    2        1008    27\n",
       "6        200         5   25    2    2    2        1000    22\n",
       "7        248         4   31    2    2    2         992    16\n",
       "8        256         4   32    2    2    2        1024    33\n",
       "9        328         3   41    2    2    2         984    12\n",
       "10       336         3   42    2    2    2        1008    26\n",
       "11       488         2   61    2    2    2         976     9\n",
       "12       496         2   62    2    2    2         992    17\n",
       "13       504         2   63    2    2    2        1008     8\n",
       "14       512         2   64    2    2    2        1024    15\n",
       "15       976         1  122    2    2    2         976     7\n",
       "16       984         1  123    2    2    2         984     4\n",
       "17       992         1  124    2    2    2         992     5\n",
       "18      1000         1  125    2    2    2        1000     3\n",
       "19      1008         1  126    2    2    2        1008     7\n",
       "20      1016         1  127    2    2    2        1016     4\n",
       "21      1024         1  128    2    2    2        1024     6"
      ]
     },
     "execution_count": 20,
     "metadata": {},
     "output_type": "execute_result"
    }
   ],
   "source": [
    "dfn8_macro_newgeo_probempi_summary = dfn8_macro_newgeo_probempi.groupby(['MPI_size','omp_thrd','NPT','NPX', 'NPY', 'NPZ',\"Total_proc\"]).size().reset_index(name = 'size')\n",
    "dfn8_macro_newgeo_probempi_summary"
   ]
  },
  {
   "cell_type": "markdown",
   "id": "0e1a30b8",
   "metadata": {},
   "source": [
    "### Cases Setup"
   ]
  },
  {
   "cell_type": "code",
   "execution_count": 21,
   "id": "a6e5e886",
   "metadata": {},
   "outputs": [],
   "source": [
    "dfn8MacNewgeoProb_64mpi_16omp = dfn8_macro_newgeo_probempi[(dfn8_macro_newgeo_probempi.omp_thrd == 16) & (dfn8_macro_newgeo_probempi.GLB_T/dfn8_macro_newgeo_probempi.LOC_T == 8) & (dfn8_macro_newgeo_probempi.GLB_X/dfn8_macro_newgeo_probempi.LOC_X == 2) & (dfn8_macro_newgeo_probempi.GLB_Y/dfn8_macro_newgeo_probempi.LOC_Y == 2)& (dfn8_macro_newgeo_probempi.GLB_Z/dfn8_macro_newgeo_probempi.LOC_Z == 2)]\n",
    "dfn8MacNewgeoProb_128mpi_8omp = dfn8_macro_newgeo_probempi[(dfn8_macro_newgeo_probempi.omp_thrd == 8) & (dfn8_macro_newgeo_probempi.GLB_T/dfn8_macro_newgeo_probempi.LOC_T == 16) & (dfn8_macro_newgeo_probempi.GLB_X/dfn8_macro_newgeo_probempi.LOC_X == 2) & (dfn8_macro_newgeo_probempi.GLB_Y/dfn8_macro_newgeo_probempi.LOC_Y == 2)& (dfn8_macro_newgeo_probempi.GLB_Z/dfn8_macro_newgeo_probempi.LOC_Z == 2)]\n",
    "dfn8MacNewgeoProb_256mpi_4omp = dfn8_macro_newgeo_probempi[(dfn8_macro_newgeo_probempi.omp_thrd == 4) & (dfn8_macro_newgeo_probempi.GLB_T/dfn8_macro_newgeo_probempi.LOC_T == 32) & (dfn8_macro_newgeo_probempi.GLB_X/dfn8_macro_newgeo_probempi.LOC_X == 2) & (dfn8_macro_newgeo_probempi.GLB_Y/dfn8_macro_newgeo_probempi.LOC_Y == 2)& (dfn8_macro_newgeo_probempi.GLB_Z/dfn8_macro_newgeo_probempi.LOC_Z == 2)]\n",
    "dfn8MacNewgeoProb_512mpi_2omp = dfn8_macro_newgeo_probempi[(dfn8_macro_newgeo_probempi.omp_thrd == 2) & (dfn8_macro_newgeo_probempi.GLB_T/dfn8_macro_newgeo_probempi.LOC_T == 64) & (dfn8_macro_newgeo_probempi.GLB_X/dfn8_macro_newgeo_probempi.LOC_X == 2) & (dfn8_macro_newgeo_probempi.GLB_Y/dfn8_macro_newgeo_probempi.LOC_Y == 2)& (dfn8_macro_newgeo_probempi.GLB_Z/dfn8_macro_newgeo_probempi.LOC_Z == 2)]\n",
    "dfn8MacNewgeoProb_1024mpi_1omp = dfn8_macro_newgeo_probempi[(dfn8_macro_newgeo_probempi.omp_thrd == 1) & (dfn8_macro_newgeo_probempi.GLB_T/dfn8_macro_newgeo_probempi.LOC_T == 128) & (dfn8_macro_newgeo_probempi.GLB_X/dfn8_macro_newgeo_probempi.LOC_X == 2) & (dfn8_macro_newgeo_probempi.GLB_Y/dfn8_macro_newgeo_probempi.LOC_Y == 2)& (dfn8_macro_newgeo_probempi.GLB_Z/dfn8_macro_newgeo_probempi.LOC_Z == 2)]\n",
    "dfn8MacNewgeoProb_168mpi_6omp = dfn8_macro_newgeo_probempi[(dfn8_macro_newgeo_probempi.omp_thrd == 6) & (dfn8_macro_newgeo_probempi.GLB_T/dfn8_macro_newgeo_probempi.LOC_T == 21) & (dfn8_macro_newgeo_probempi.GLB_X/dfn8_macro_newgeo_probempi.LOC_X == 2) & (dfn8_macro_newgeo_probempi.GLB_Y/dfn8_macro_newgeo_probempi.LOC_Y == 2)& (dfn8_macro_newgeo_probempi.GLB_Z/dfn8_macro_newgeo_probempi.LOC_Z == 2)]\n",
    "dfn8MacNewgeoProb_504mpi_2omp = dfn8_macro_newgeo_probempi[(dfn8_macro_newgeo_probempi.omp_thrd == 2) & (dfn8_macro_newgeo_probempi.GLB_T/dfn8_macro_newgeo_probempi.LOC_T == 63) & (dfn8_macro_newgeo_probempi.GLB_X/dfn8_macro_newgeo_probempi.LOC_X == 2) & (dfn8_macro_newgeo_probempi.GLB_Y/dfn8_macro_newgeo_probempi.LOC_Y == 2)& (dfn8_macro_newgeo_probempi.GLB_Z/dfn8_macro_newgeo_probempi.LOC_Z == 2)]\n"
   ]
  },
  {
   "cell_type": "code",
   "execution_count": null,
   "id": "0d1b7c9c",
   "metadata": {},
   "outputs": [],
   "source": []
  },
  {
   "cell_type": "markdown",
   "id": "42c5726b",
   "metadata": {},
   "source": [
    "## 6) Newgeo_Macro_NonProbempi"
   ]
  },
  {
   "cell_type": "markdown",
   "id": "358100a3",
   "metadata": {},
   "source": [
    "### Adding Columns"
   ]
  },
  {
   "cell_type": "code",
   "execution_count": 22,
   "id": "ea410da7",
   "metadata": {},
   "outputs": [],
   "source": [
    "dfn8_macro_newgeo_nonprobempi[\"N_Nodes\"] = 8\n",
    "dfn8_macro_newgeo_nonprobempi['NPX'] = (dfn8_macro_newgeo_nonprobempi.GLB_X//dfn8_macro_newgeo_nonprobempi.LOC_X)\n",
    "dfn8_macro_newgeo_nonprobempi['NPY'] = (dfn8_macro_newgeo_nonprobempi.GLB_Y//dfn8_macro_newgeo_nonprobempi.LOC_Y)\n",
    "dfn8_macro_newgeo_nonprobempi['NPZ'] = (dfn8_macro_newgeo_nonprobempi.GLB_Z//dfn8_macro_newgeo_nonprobempi.LOC_Z)\n",
    "dfn8_macro_newgeo_nonprobempi['NPT'] = (dfn8_macro_newgeo_nonprobempi.GLB_T//dfn8_macro_newgeo_nonprobempi.LOC_T)\n",
    "dfn8_macro_newgeo_nonprobempi[\"Total_proc\"] = dfn8_macro_newgeo_nonprobempi[\"omp_thrd\"]* dfn8_macro_newgeo_nonprobempi.MPI_size\n",
    "# dfn8_macro_newgeo_nonprobempi.columns"
   ]
  },
  {
   "cell_type": "markdown",
   "id": "ad63f2a8",
   "metadata": {},
   "source": [
    "### Data Summary"
   ]
  },
  {
   "cell_type": "code",
   "execution_count": 23,
   "id": "2e728564",
   "metadata": {},
   "outputs": [
    {
     "data": {
      "text/html": [
       "<div>\n",
       "<style scoped>\n",
       "    .dataframe tbody tr th:only-of-type {\n",
       "        vertical-align: middle;\n",
       "    }\n",
       "\n",
       "    .dataframe tbody tr th {\n",
       "        vertical-align: top;\n",
       "    }\n",
       "\n",
       "    .dataframe thead th {\n",
       "        text-align: right;\n",
       "    }\n",
       "</style>\n",
       "<table border=\"1\" class=\"dataframe\">\n",
       "  <thead>\n",
       "    <tr style=\"text-align: right;\">\n",
       "      <th></th>\n",
       "      <th>MPI_size</th>\n",
       "      <th>omp_thrd</th>\n",
       "      <th>NPT</th>\n",
       "      <th>NPX</th>\n",
       "      <th>NPY</th>\n",
       "      <th>NPZ</th>\n",
       "      <th>Total_proc</th>\n",
       "      <th>size</th>\n",
       "    </tr>\n",
       "  </thead>\n",
       "  <tbody>\n",
       "    <tr>\n",
       "      <th>0</th>\n",
       "      <td>64</td>\n",
       "      <td>16</td>\n",
       "      <td>8</td>\n",
       "      <td>2</td>\n",
       "      <td>2</td>\n",
       "      <td>2</td>\n",
       "      <td>1024</td>\n",
       "      <td>139</td>\n",
       "    </tr>\n",
       "    <tr>\n",
       "      <th>1</th>\n",
       "      <td>72</td>\n",
       "      <td>14</td>\n",
       "      <td>9</td>\n",
       "      <td>2</td>\n",
       "      <td>2</td>\n",
       "      <td>2</td>\n",
       "      <td>1008</td>\n",
       "      <td>61</td>\n",
       "    </tr>\n",
       "    <tr>\n",
       "      <th>2</th>\n",
       "      <td>112</td>\n",
       "      <td>9</td>\n",
       "      <td>14</td>\n",
       "      <td>2</td>\n",
       "      <td>2</td>\n",
       "      <td>2</td>\n",
       "      <td>1008</td>\n",
       "      <td>80</td>\n",
       "    </tr>\n",
       "    <tr>\n",
       "      <th>3</th>\n",
       "      <td>128</td>\n",
       "      <td>8</td>\n",
       "      <td>16</td>\n",
       "      <td>2</td>\n",
       "      <td>2</td>\n",
       "      <td>2</td>\n",
       "      <td>1024</td>\n",
       "      <td>69</td>\n",
       "    </tr>\n",
       "    <tr>\n",
       "      <th>4</th>\n",
       "      <td>144</td>\n",
       "      <td>7</td>\n",
       "      <td>18</td>\n",
       "      <td>2</td>\n",
       "      <td>2</td>\n",
       "      <td>2</td>\n",
       "      <td>1008</td>\n",
       "      <td>59</td>\n",
       "    </tr>\n",
       "    <tr>\n",
       "      <th>5</th>\n",
       "      <td>168</td>\n",
       "      <td>6</td>\n",
       "      <td>21</td>\n",
       "      <td>2</td>\n",
       "      <td>2</td>\n",
       "      <td>2</td>\n",
       "      <td>1008</td>\n",
       "      <td>27</td>\n",
       "    </tr>\n",
       "    <tr>\n",
       "      <th>6</th>\n",
       "      <td>200</td>\n",
       "      <td>5</td>\n",
       "      <td>25</td>\n",
       "      <td>2</td>\n",
       "      <td>2</td>\n",
       "      <td>2</td>\n",
       "      <td>1000</td>\n",
       "      <td>22</td>\n",
       "    </tr>\n",
       "    <tr>\n",
       "      <th>7</th>\n",
       "      <td>248</td>\n",
       "      <td>4</td>\n",
       "      <td>31</td>\n",
       "      <td>2</td>\n",
       "      <td>2</td>\n",
       "      <td>2</td>\n",
       "      <td>992</td>\n",
       "      <td>18</td>\n",
       "    </tr>\n",
       "    <tr>\n",
       "      <th>8</th>\n",
       "      <td>256</td>\n",
       "      <td>4</td>\n",
       "      <td>32</td>\n",
       "      <td>2</td>\n",
       "      <td>2</td>\n",
       "      <td>2</td>\n",
       "      <td>1024</td>\n",
       "      <td>34</td>\n",
       "    </tr>\n",
       "    <tr>\n",
       "      <th>9</th>\n",
       "      <td>328</td>\n",
       "      <td>3</td>\n",
       "      <td>41</td>\n",
       "      <td>2</td>\n",
       "      <td>2</td>\n",
       "      <td>2</td>\n",
       "      <td>984</td>\n",
       "      <td>13</td>\n",
       "    </tr>\n",
       "    <tr>\n",
       "      <th>10</th>\n",
       "      <td>336</td>\n",
       "      <td>3</td>\n",
       "      <td>42</td>\n",
       "      <td>2</td>\n",
       "      <td>2</td>\n",
       "      <td>2</td>\n",
       "      <td>1008</td>\n",
       "      <td>27</td>\n",
       "    </tr>\n",
       "    <tr>\n",
       "      <th>11</th>\n",
       "      <td>488</td>\n",
       "      <td>2</td>\n",
       "      <td>61</td>\n",
       "      <td>2</td>\n",
       "      <td>2</td>\n",
       "      <td>2</td>\n",
       "      <td>976</td>\n",
       "      <td>9</td>\n",
       "    </tr>\n",
       "    <tr>\n",
       "      <th>12</th>\n",
       "      <td>496</td>\n",
       "      <td>2</td>\n",
       "      <td>62</td>\n",
       "      <td>2</td>\n",
       "      <td>2</td>\n",
       "      <td>2</td>\n",
       "      <td>992</td>\n",
       "      <td>17</td>\n",
       "    </tr>\n",
       "    <tr>\n",
       "      <th>13</th>\n",
       "      <td>504</td>\n",
       "      <td>2</td>\n",
       "      <td>63</td>\n",
       "      <td>2</td>\n",
       "      <td>2</td>\n",
       "      <td>2</td>\n",
       "      <td>1008</td>\n",
       "      <td>9</td>\n",
       "    </tr>\n",
       "    <tr>\n",
       "      <th>14</th>\n",
       "      <td>512</td>\n",
       "      <td>2</td>\n",
       "      <td>64</td>\n",
       "      <td>2</td>\n",
       "      <td>2</td>\n",
       "      <td>2</td>\n",
       "      <td>1024</td>\n",
       "      <td>17</td>\n",
       "    </tr>\n",
       "    <tr>\n",
       "      <th>15</th>\n",
       "      <td>976</td>\n",
       "      <td>1</td>\n",
       "      <td>122</td>\n",
       "      <td>2</td>\n",
       "      <td>2</td>\n",
       "      <td>2</td>\n",
       "      <td>976</td>\n",
       "      <td>7</td>\n",
       "    </tr>\n",
       "    <tr>\n",
       "      <th>16</th>\n",
       "      <td>984</td>\n",
       "      <td>1</td>\n",
       "      <td>123</td>\n",
       "      <td>2</td>\n",
       "      <td>2</td>\n",
       "      <td>2</td>\n",
       "      <td>984</td>\n",
       "      <td>3</td>\n",
       "    </tr>\n",
       "    <tr>\n",
       "      <th>17</th>\n",
       "      <td>992</td>\n",
       "      <td>1</td>\n",
       "      <td>124</td>\n",
       "      <td>2</td>\n",
       "      <td>2</td>\n",
       "      <td>2</td>\n",
       "      <td>992</td>\n",
       "      <td>7</td>\n",
       "    </tr>\n",
       "    <tr>\n",
       "      <th>18</th>\n",
       "      <td>1000</td>\n",
       "      <td>1</td>\n",
       "      <td>125</td>\n",
       "      <td>2</td>\n",
       "      <td>2</td>\n",
       "      <td>2</td>\n",
       "      <td>1000</td>\n",
       "      <td>3</td>\n",
       "    </tr>\n",
       "    <tr>\n",
       "      <th>19</th>\n",
       "      <td>1008</td>\n",
       "      <td>1</td>\n",
       "      <td>126</td>\n",
       "      <td>2</td>\n",
       "      <td>2</td>\n",
       "      <td>2</td>\n",
       "      <td>1008</td>\n",
       "      <td>6</td>\n",
       "    </tr>\n",
       "    <tr>\n",
       "      <th>20</th>\n",
       "      <td>1016</td>\n",
       "      <td>1</td>\n",
       "      <td>127</td>\n",
       "      <td>2</td>\n",
       "      <td>2</td>\n",
       "      <td>2</td>\n",
       "      <td>1016</td>\n",
       "      <td>4</td>\n",
       "    </tr>\n",
       "    <tr>\n",
       "      <th>21</th>\n",
       "      <td>1024</td>\n",
       "      <td>1</td>\n",
       "      <td>128</td>\n",
       "      <td>2</td>\n",
       "      <td>2</td>\n",
       "      <td>2</td>\n",
       "      <td>1024</td>\n",
       "      <td>7</td>\n",
       "    </tr>\n",
       "  </tbody>\n",
       "</table>\n",
       "</div>"
      ],
      "text/plain": [
       "    MPI_size  omp_thrd  NPT  NPX  NPY  NPZ  Total_proc  size\n",
       "0         64        16    8    2    2    2        1024   139\n",
       "1         72        14    9    2    2    2        1008    61\n",
       "2        112         9   14    2    2    2        1008    80\n",
       "3        128         8   16    2    2    2        1024    69\n",
       "4        144         7   18    2    2    2        1008    59\n",
       "5        168         6   21    2    2    2        1008    27\n",
       "6        200         5   25    2    2    2        1000    22\n",
       "7        248         4   31    2    2    2         992    18\n",
       "8        256         4   32    2    2    2        1024    34\n",
       "9        328         3   41    2    2    2         984    13\n",
       "10       336         3   42    2    2    2        1008    27\n",
       "11       488         2   61    2    2    2         976     9\n",
       "12       496         2   62    2    2    2         992    17\n",
       "13       504         2   63    2    2    2        1008     9\n",
       "14       512         2   64    2    2    2        1024    17\n",
       "15       976         1  122    2    2    2         976     7\n",
       "16       984         1  123    2    2    2         984     3\n",
       "17       992         1  124    2    2    2         992     7\n",
       "18      1000         1  125    2    2    2        1000     3\n",
       "19      1008         1  126    2    2    2        1008     6\n",
       "20      1016         1  127    2    2    2        1016     4\n",
       "21      1024         1  128    2    2    2        1024     7"
      ]
     },
     "execution_count": 23,
     "metadata": {},
     "output_type": "execute_result"
    }
   ],
   "source": [
    "dfn8_macro_newgeo_nonprobempi_summary = dfn8_macro_newgeo_nonprobempi.groupby(['MPI_size','omp_thrd','NPT','NPX', 'NPY', 'NPZ',\"Total_proc\"]).size().reset_index(name = 'size')\n",
    "dfn8_macro_newgeo_nonprobempi_summary"
   ]
  },
  {
   "cell_type": "markdown",
   "id": "21216d7c",
   "metadata": {},
   "source": [
    "### Cases Setup"
   ]
  },
  {
   "cell_type": "code",
   "execution_count": 24,
   "id": "ee80ffc9",
   "metadata": {},
   "outputs": [],
   "source": [
    "dfn8MacNewgeoNonProb_64mpi_16omp = dfn8_macro_newgeo_nonprobempi[(dfn8_macro_newgeo_nonprobempi.omp_thrd == 16) & (dfn8_macro_newgeo_nonprobempi.GLB_T/dfn8_macro_newgeo_nonprobempi.LOC_T == 8) & (dfn8_macro_newgeo_nonprobempi.GLB_X/dfn8_macro_newgeo_nonprobempi.LOC_X == 2) & (dfn8_macro_newgeo_nonprobempi.GLB_Y/dfn8_macro_newgeo_nonprobempi.LOC_Y == 2)& (dfn8_macro_newgeo_nonprobempi.GLB_Z/dfn8_macro_newgeo_nonprobempi.LOC_Z == 2)]\n",
    "dfn8MacNewgeoNonProb_128mpi_8omp = dfn8_macro_newgeo_nonprobempi[(dfn8_macro_newgeo_nonprobempi.omp_thrd == 8) & (dfn8_macro_newgeo_nonprobempi.GLB_T/dfn8_macro_newgeo_nonprobempi.LOC_T == 16) & (dfn8_macro_newgeo_nonprobempi.GLB_X/dfn8_macro_newgeo_nonprobempi.LOC_X == 2) & (dfn8_macro_newgeo_nonprobempi.GLB_Y/dfn8_macro_newgeo_nonprobempi.LOC_Y == 2)& (dfn8_macro_newgeo_nonprobempi.GLB_Z/dfn8_macro_newgeo_nonprobempi.LOC_Z == 2)]\n",
    "dfn8MacNewgeoNonProb_256mpi_4omp = dfn8_macro_newgeo_nonprobempi[(dfn8_macro_newgeo_nonprobempi.omp_thrd == 4) & (dfn8_macro_newgeo_nonprobempi.GLB_T/dfn8_macro_newgeo_nonprobempi.LOC_T == 32) & (dfn8_macro_newgeo_nonprobempi.GLB_X/dfn8_macro_newgeo_nonprobempi.LOC_X == 2) & (dfn8_macro_newgeo_nonprobempi.GLB_Y/dfn8_macro_newgeo_nonprobempi.LOC_Y == 2)& (dfn8_macro_newgeo_nonprobempi.GLB_Z/dfn8_macro_newgeo_nonprobempi.LOC_Z == 2)]\n",
    "dfn8MacNewgeoNonProb_512mpi_2omp = dfn8_macro_newgeo_nonprobempi[(dfn8_macro_newgeo_nonprobempi.omp_thrd == 2) & (dfn8_macro_newgeo_nonprobempi.GLB_T/dfn8_macro_newgeo_nonprobempi.LOC_T == 64) & (dfn8_macro_newgeo_nonprobempi.GLB_X/dfn8_macro_newgeo_nonprobempi.LOC_X == 2) & (dfn8_macro_newgeo_nonprobempi.GLB_Y/dfn8_macro_newgeo_nonprobempi.LOC_Y == 2)& (dfn8_macro_newgeo_nonprobempi.GLB_Z/dfn8_macro_newgeo_nonprobempi.LOC_Z == 2)]\n",
    "dfn8MacNewgeoNonProb_1024mpi_1omp = dfn8_macro_newgeo_nonprobempi[(dfn8_macro_newgeo_nonprobempi.omp_thrd == 1) & (dfn8_macro_newgeo_nonprobempi.GLB_T/dfn8_macro_newgeo_nonprobempi.LOC_T == 128) & (dfn8_macro_newgeo_nonprobempi.GLB_X/dfn8_macro_newgeo_nonprobempi.LOC_X == 2) & (dfn8_macro_newgeo_nonprobempi.GLB_Y/dfn8_macro_newgeo_nonprobempi.LOC_Y == 2)& (dfn8_macro_newgeo_nonprobempi.GLB_Z/dfn8_macro_newgeo_nonprobempi.LOC_Z == 2)]\n",
    "dfn8MacNewgeoNonProb_168mpi_6omp = dfn8_macro_newgeo_nonprobempi[(dfn8_macro_newgeo_nonprobempi.omp_thrd == 6) & (dfn8_macro_newgeo_nonprobempi.GLB_T/dfn8_macro_newgeo_nonprobempi.LOC_T == 21) & (dfn8_macro_newgeo_nonprobempi.GLB_X/dfn8_macro_newgeo_nonprobempi.LOC_X == 2) & (dfn8_macro_newgeo_nonprobempi.GLB_Y/dfn8_macro_newgeo_nonprobempi.LOC_Y == 2)& (dfn8_macro_newgeo_nonprobempi.GLB_Z/dfn8_macro_newgeo_nonprobempi.LOC_Z == 2)]\n",
    "dfn8MacNewgeoNonProb_504mpi_2omp = dfn8_macro_newgeo_nonprobempi[(dfn8_macro_newgeo_nonprobempi.omp_thrd == 2) & (dfn8_macro_newgeo_nonprobempi.GLB_T/dfn8_macro_newgeo_nonprobempi.LOC_T == 63) & (dfn8_macro_newgeo_nonprobempi.GLB_X/dfn8_macro_newgeo_nonprobempi.LOC_X == 2) & (dfn8_macro_newgeo_nonprobempi.GLB_Y/dfn8_macro_newgeo_nonprobempi.LOC_Y == 2)& (dfn8_macro_newgeo_nonprobempi.GLB_Z/dfn8_macro_newgeo_nonprobempi.LOC_Z == 2)]\n"
   ]
  },
  {
   "cell_type": "code",
   "execution_count": null,
   "id": "b6b9a8f7",
   "metadata": {},
   "outputs": [],
   "source": []
  },
  {
   "cell_type": "markdown",
   "id": "933fa377",
   "metadata": {},
   "source": [
    "## GFLOPS - Newgeo Macro: Probempi vs Nonprobempi"
   ]
  },
  {
   "cell_type": "code",
   "execution_count": 25,
   "id": "1ded20bf",
   "metadata": {},
   "outputs": [
    {
     "data": {
      "application/vnd.plotly.v1+json": {
       "config": {
        "plotlyServerURL": "https://plot.ly"
       },
       "data": [
        {
         "line": {
          "color": "darkcyan",
          "width": 3
         },
         "marker": {
          "line": {
           "color": "yellow",
           "width": 1
          },
          "size": 9,
          "symbol": "hexagon"
         },
         "mode": "lines+markers",
         "name": "MacNewgeoProb_1024mpi_1omp",
         "type": "scatter",
         "x": [
          1572864000,
          1966080000,
          2359296000,
          2752512000,
          3145728000,
          3538944000
         ],
         "y": [
          169.43104,
          147.58272,
          135.39712,
          131.62496,
          125.980672,
          88.702976
         ]
        },
        {
         "line": {
          "color": "magenta",
          "width": 3
         },
         "marker": {
          "line": {
           "color": "yellow",
           "width": 1
          },
          "size": 9,
          "symbol": "hexagon"
         },
         "mode": "lines+markers",
         "name": "MacNonFusNonProb_1024mpi_1omp",
         "type": "scatter",
         "x": [
          1572864000,
          1966080000,
          2359296000,
          2752512000,
          3145728000,
          3538944000,
          3932160000
         ],
         "y": [
          162.76608,
          145.98016,
          128.47232,
          117.86688,
          130.3424,
          122.40192,
          119.084672
         ]
        },
        {
         "line": {
          "color": "royalblue",
          "width": 3
         },
         "marker": {
          "line": {
           "color": "MediumPurple",
           "width": 2
          },
          "size": 5,
          "symbol": "diamond"
         },
         "mode": "lines+markers",
         "name": "MacNewgeoProb_512mpi_2omp",
         "type": "scatter",
         "x": [
          786432000,
          983040000,
          1179648000,
          1376256000,
          1572864000,
          1769472000,
          1966080000,
          2162688000,
          2359296000,
          2555904000,
          2752512000,
          2949120000,
          3145728000,
          3538944000,
          3735552000
         ],
         "y": [
          178.18176,
          196.032,
          194.45248,
          190.51392,
          184.31424,
          161.98528,
          158.79296,
          148.18816,
          149.22176,
          139.4752,
          136.01984,
          117.97696,
          130.57216,
          123.11616,
          124.2112
         ]
        },
        {
         "line": {
          "color": "sandybrown",
          "width": 3
         },
         "marker": {
          "line": {
           "color": "MediumPurple",
           "width": 2
          },
          "size": 5,
          "symbol": "diamond"
         },
         "mode": "lines+markers",
         "name": "MacNewgeoNonProb_512mpi_2omp",
         "type": "scatter",
         "x": [
          786432000,
          983040000,
          1179648000,
          1376256000,
          1572864000,
          1769472000,
          1966080000,
          2162688000,
          2359296000,
          2555904000,
          2752512000,
          2949120000,
          3145728000,
          3342336000,
          3538944000,
          3735552000,
          3932160000
         ],
         "y": [
          184.34048,
          193.93536,
          177.40608,
          181.888,
          181.24928,
          166.72256,
          152.68928,
          151.1808,
          149.96288,
          142.11328,
          130.21696,
          131.28512,
          131.66336,
          120.77312,
          121.31968,
          120.8128,
          119.35232
         ]
        },
        {
         "line": {
          "color": "darkblue",
          "width": 3
         },
         "marker": {
          "line": {
           "color": "tomato",
           "width": 2
          },
          "size": 7,
          "symbol": "circle"
         },
         "mode": "lines+markers",
         "name": "MacNewgeoProb_256mpi_4omp",
         "type": "scatter",
         "x": [
          589824000,
          688128000,
          786432000,
          884736000,
          983040000,
          1179648000,
          1277952000,
          1376256000,
          1474560000,
          1572864000,
          1671168000,
          1769472000,
          1867776000,
          1966080000,
          2064384000,
          2162688000,
          2260992000,
          2359296000,
          2555904000,
          2654208000,
          2752512000,
          2850816000,
          2949120000,
          3047424000,
          3145728000,
          3244032000,
          3342336000,
          3440640000,
          3538944000,
          3637248000,
          3735552000,
          3833856000,
          3932160000
         ],
         "y": [
          152.71552,
          181.3504,
          162.5392,
          187.88608,
          194.38368,
          170.64608,
          192.95392,
          177.26528,
          185.0656,
          185.64512,
          171.25184,
          157.93536,
          169.43776,
          152.25792,
          154.75904,
          147.91904,
          152.00192,
          137.12768,
          140.38496,
          136.82752,
          137.74752,
          134.77152,
          131.84,
          134.2448,
          133.38144,
          127.06528,
          120.01952,
          129.94624,
          124.7888,
          127.16064,
          118.28864,
          116.8128,
          119.61856
         ]
        },
        {
         "line": {
          "color": "cyan",
          "width": 3
         },
         "marker": {
          "line": {
           "color": "Purple",
           "width": 2
          },
          "size": 7,
          "symbol": "circle"
         },
         "mode": "lines+markers",
         "name": "MacNewgeoNonProb_256mpi_4omp",
         "type": "scatter",
         "x": [
          589824000,
          688128000,
          786432000,
          884736000,
          983040000,
          1081344000,
          1179648000,
          1277952000,
          1376256000,
          1474560000,
          1572864000,
          1671168000,
          1769472000,
          1867776000,
          1966080000,
          2064384000,
          2162688000,
          2260992000,
          2359296000,
          2457600000,
          2555904000,
          2654208000,
          2752512000,
          2850816000,
          2949120000,
          3047424000,
          3145728000,
          3244032000,
          3342336000,
          3440640000,
          3538944000,
          3637248000,
          3735552000,
          3932160000
         ],
         "y": [
          149.52864,
          172.17024,
          165.92608,
          175.56992,
          181.29344,
          180.65472,
          187.80544,
          166.88832,
          155.2944,
          177.70688,
          171.99968,
          166.83552,
          159.09088,
          157.96192,
          138.48416,
          151.8368,
          147.93504,
          147.5312,
          146.58144,
          131.84256,
          139.0208,
          135.99776,
          138.94464,
          120.41344,
          118.13152,
          131.46016,
          126.75168,
          123.41312,
          123.90912,
          116.65024,
          120.66624,
          120.6256,
          118.12768,
          119.34656
         ]
        },
        {
         "line": {
          "color": "blue",
          "width": 3
         },
         "marker": {
          "line": {
           "color": "black",
           "width": 1
          },
          "size": 7,
          "symbol": "star"
         },
         "mode": "lines+markers",
         "name": "MacNewgeoProb_128mpi_8omp",
         "type": "scatter",
         "x": [
          540672000,
          589824000,
          638976000,
          688128000,
          737280000,
          786432000,
          835584000,
          884736000,
          933888000,
          983040000,
          1032192000,
          1081344000,
          1130496000,
          1179648000,
          1228800000,
          1277952000,
          1327104000,
          1376256000,
          1425408000,
          1474560000,
          1523712000,
          1572864000,
          1622016000,
          1671168000,
          1720320000,
          1769472000,
          1818624000,
          1867776000,
          1916928000,
          1966080000,
          2015232000,
          2064384000,
          2113536000,
          2162688000,
          2211840000,
          2260992000,
          2310144000,
          2359296000,
          2408448000,
          2457600000,
          2506752000,
          2555904000,
          2605056000,
          2654208000,
          2703360000,
          2752512000,
          2801664000,
          2850816000,
          2899968000,
          2949120000,
          2998272000,
          3047424000,
          3096576000,
          3145728000,
          3194880000,
          3244032000,
          3293184000,
          3342336000,
          3391488000,
          3440640000,
          3489792000,
          3538944000,
          3588096000,
          3637248000,
          3686400000,
          3735552000,
          3784704000,
          3833856000,
          3883008000,
          3932160000
         ],
         "y": [
          156.34864,
          156.16608,
          161.7888,
          162.4896,
          132.33136,
          162.2864,
          172.9344,
          152.47408,
          168.0288,
          174.8176,
          169.5136,
          156.44,
          181.0464,
          154.62336,
          177.0928,
          151.61648,
          159.0416,
          170.4544,
          180.2752,
          172.256,
          170.08,
          174.6992,
          162.904,
          167.8832,
          164.6576,
          161.1184,
          161.0176,
          136.45552,
          154.78464,
          147.62576,
          154.99952,
          148.7432,
          144.77536,
          137.32192,
          143.71232,
          137.69984,
          142.91008,
          138.48368,
          143.53648,
          136.25904,
          135.78272,
          123.79984,
          127.72976,
          133.59024,
          135.71632,
          133.804,
          129.7448,
          128.17216,
          132.66752,
          127.38336,
          127.35264,
          125.38096,
          122.16288,
          126.0224,
          127.8208,
          122.13392,
          126.5056,
          120.31136,
          118.404,
          119.86992,
          120.20384,
          115.17904,
          117.04128,
          118.24064,
          113.51904,
          118.12416,
          119.52992,
          115.22032,
          118.7104,
          114.95712
         ]
        },
        {
         "line": {
          "color": "red",
          "width": 3
         },
         "marker": {
          "line": {
           "color": "black",
           "width": 1
          },
          "size": 7,
          "symbol": "star"
         },
         "mode": "lines+markers",
         "name": "MacNewgeoNonProb_128mpi_8omp",
         "type": "scatter",
         "x": [
          540672000,
          589824000,
          638976000,
          688128000,
          737280000,
          786432000,
          835584000,
          884736000,
          933888000,
          983040000,
          1032192000,
          1081344000,
          1130496000,
          1179648000,
          1228800000,
          1277952000,
          1327104000,
          1376256000,
          1425408000,
          1474560000,
          1523712000,
          1572864000,
          1622016000,
          1671168000,
          1720320000,
          1769472000,
          1818624000,
          1867776000,
          1916928000,
          1966080000,
          2015232000,
          2064384000,
          2113536000,
          2162688000,
          2211840000,
          2260992000,
          2310144000,
          2359296000,
          2408448000,
          2457600000,
          2506752000,
          2555904000,
          2605056000,
          2654208000,
          2703360000,
          2752512000,
          2801664000,
          2850816000,
          2899968000,
          2949120000,
          2998272000,
          3047424000,
          3096576000,
          3145728000,
          3194880000,
          3244032000,
          3293184000,
          3391488000,
          3440640000,
          3489792000,
          3538944000,
          3588096000,
          3637248000,
          3686400000,
          3735552000,
          3784704000,
          3833856000,
          3883008000,
          3932160000
         ],
         "y": [
          142.92448,
          137.05648,
          149.33616,
          156.52288,
          145.92288,
          164.2704,
          165.456,
          155.18496,
          161.6496,
          171.5888,
          167.2176,
          165.792,
          172.2256,
          171.056,
          168.8256,
          171.984,
          170.248,
          170.6288,
          169.728,
          167.7792,
          165.5376,
          168.3312,
          155.45088,
          148.83648,
          156.6056,
          141.60336,
          145.39216,
          150.20896,
          143.06816,
          153.6768,
          146.37872,
          142.50768,
          137.7296,
          147.2408,
          137.60144,
          138.52,
          128.89776,
          141.80592,
          134.8024,
          133.87456,
          123.29472,
          136.82608,
          128.9904,
          127.18352,
          128.37904,
          129.8208,
          114.2408,
          116.88816,
          125.10528,
          123.44912,
          124.6984,
          112.8536,
          111.78832,
          121.3368,
          121.22448,
          117.19328,
          119.91552,
          112.40448,
          105.3304,
          117.6664,
          116.67776,
          114.35968,
          110.82272,
          111.56208,
          110.92224,
          116.51216,
          110.51616,
          106.96544,
          110.49152
         ]
        },
        {
         "line": {
          "color": "chartreuse",
          "width": 3
         },
         "marker": {
          "line": {
           "color": "mediumvioletred",
           "width": 1
          },
          "size": 6,
          "symbol": "square-dot"
         },
         "mode": "lines+markers",
         "name": "MacNewgeoProb_64mpi_16omp",
         "type": "scatter",
         "x": [
          516096000,
          540672000,
          565248000,
          589824000,
          614400000,
          638976000,
          663552000,
          688128000,
          712704000,
          761856000,
          786432000,
          811008000,
          835584000,
          860160000,
          884736000,
          909312000,
          933888000,
          958464000,
          983040000,
          1007616000,
          1032192000,
          1056768000,
          1081344000,
          1105920000,
          1130496000,
          1155072000,
          1179648000,
          1204224000,
          1228800000,
          1253376000,
          1277952000,
          1327104000,
          1351680000,
          1376256000,
          1400832000,
          1425408000,
          1449984000,
          1474560000,
          1499136000,
          1523712000,
          1548288000,
          1572864000,
          1597440000,
          1622016000,
          1646592000,
          1671168000,
          1695744000,
          1720320000,
          1744896000,
          1769472000,
          1794048000,
          1818624000,
          1843200000,
          1867776000,
          1892352000,
          1916928000,
          1941504000,
          1966080000,
          2015232000,
          2039808000,
          2064384000,
          2088960000,
          2113536000,
          2138112000,
          2162688000,
          2187264000,
          2211840000,
          2236416000,
          2260992000,
          2285568000,
          2310144000,
          2334720000,
          2359296000,
          2383872000,
          2408448000,
          2433024000,
          2457600000,
          2482176000,
          2506752000,
          2531328000,
          2555904000,
          2580480000,
          2605056000,
          2629632000,
          2654208000,
          2678784000,
          2703360000,
          2727936000,
          2752512000,
          2777088000,
          2801664000,
          2826240000,
          2850816000,
          2875392000,
          2899968000,
          2924544000,
          2949120000,
          2973696000,
          2998272000,
          3047424000,
          3072000000,
          3096576000,
          3121152000,
          3145728000,
          3194880000,
          3219456000,
          3244032000,
          3268608000,
          3293184000,
          3317760000,
          3342336000,
          3366912000,
          3391488000,
          3416064000,
          3440640000,
          3465216000,
          3489792000,
          3514368000,
          3538944000,
          3563520000,
          3588096000,
          3637248000,
          3661824000,
          3686400000,
          3710976000,
          3735552000,
          3760128000,
          3784704000,
          3809280000,
          3833856000,
          3858432000,
          3883008000,
          3907584000,
          3932160000
         ],
         "y": [
          113.7752,
          138.9416,
          138.1008,
          123.8928,
          127.0848,
          142.448,
          139.2992,
          138.724,
          41.1652,
          48.46144,
          144.8608,
          146.0584,
          150.3472,
          145.9392,
          20.91088,
          144.8632,
          141.2568,
          141.8344,
          133.6632,
          84.4016,
          91.3096,
          142.9672,
          130.7728,
          124.768,
          149.7408,
          123.0904,
          139.1752,
          135.4304,
          118.9808,
          141.2512,
          140.5592,
          145.208,
          146.2256,
          146.5744,
          144.6976,
          144.9344,
          142.28,
          144.592,
          141.6728,
          127.8984,
          123.9536,
          135.4472,
          135.7088,
          133.6312,
          135.9008,
          132.6312,
          132.8872,
          129.8336,
          131.6232,
          128.4312,
          121.9832,
          126.4848,
          126.7856,
          129.2072,
          123.4816,
          123.7184,
          123.2872,
          120.5888,
          123.6192,
          112.3744,
          121.3824,
          123.0984,
          123.432,
          120.9024,
          125.2048,
          124.8192,
          121.5976,
          116.1808,
          112.6872,
          112.2848,
          117.384,
          110.0264,
          116.5936,
          106.0208,
          116.1136,
          115.4376,
          117.06,
          106.3016,
          114.2736,
          110.8552,
          117.6968,
          115.1256,
          114.1776,
          118.0624,
          115.0656,
          112.6016,
          110.8896,
          106.9576,
          112.26,
          113.7312,
          102.4472,
          113.4872,
          110.3096,
          104.2072,
          108.4768,
          107.7056,
          112.032,
          112.9032,
          107.9104,
          111.7568,
          111.0736,
          55.7572,
          113.0392,
          108.0128,
          107.564,
          111.2384,
          109.7872,
          110.844,
          99.8144,
          97.8784,
          107.5584,
          107.1648,
          100.4288,
          97.2048,
          103.6928,
          103.5304,
          102.6592,
          107.0256,
          104.6136,
          106.5152,
          104.0688,
          104.5152,
          107.3488,
          103.7672,
          106.1152,
          98.0968,
          100.4728,
          97.348,
          104.956,
          97.1576,
          103.6424,
          101.6912,
          101.408,
          102.2296
         ]
        },
        {
         "line": {
          "color": "black",
          "width": 3
         },
         "marker": {
          "line": {
           "color": "mediumvioletred",
           "width": 1
          },
          "size": 6,
          "symbol": "square-dot"
         },
         "mode": "lines+markers",
         "name": "MacNewgeoNonProb_64mpi_16omp",
         "type": "scatter",
         "x": [
          516096000,
          540672000,
          565248000,
          589824000,
          614400000,
          638976000,
          663552000,
          688128000,
          712704000,
          737280000,
          761856000,
          786432000,
          811008000,
          835584000,
          860160000,
          884736000,
          909312000,
          933888000,
          958464000,
          983040000,
          1007616000,
          1032192000,
          1056768000,
          1081344000,
          1105920000,
          1130496000,
          1155072000,
          1179648000,
          1204224000,
          1228800000,
          1253376000,
          1277952000,
          1302528000,
          1327104000,
          1351680000,
          1376256000,
          1400832000,
          1425408000,
          1449984000,
          1474560000,
          1499136000,
          1523712000,
          1548288000,
          1572864000,
          1597440000,
          1622016000,
          1646592000,
          1671168000,
          1695744000,
          1720320000,
          1744896000,
          1769472000,
          1794048000,
          1818624000,
          1867776000,
          1892352000,
          1916928000,
          1941504000,
          1966080000,
          1990656000,
          2015232000,
          2039808000,
          2064384000,
          2088960000,
          2113536000,
          2138112000,
          2162688000,
          2187264000,
          2211840000,
          2236416000,
          2260992000,
          2285568000,
          2310144000,
          2334720000,
          2359296000,
          2383872000,
          2408448000,
          2433024000,
          2457600000,
          2482176000,
          2506752000,
          2531328000,
          2555904000,
          2580480000,
          2605056000,
          2629632000,
          2654208000,
          2678784000,
          2703360000,
          2727936000,
          2752512000,
          2777088000,
          2801664000,
          2826240000,
          2850816000,
          2875392000,
          2899968000,
          2924544000,
          2949120000,
          2973696000,
          2998272000,
          3022848000,
          3047424000,
          3072000000,
          3096576000,
          3121152000,
          3145728000,
          3170304000,
          3194880000,
          3219456000,
          3244032000,
          3268608000,
          3293184000,
          3317760000,
          3342336000,
          3366912000,
          3391488000,
          3416064000,
          3440640000,
          3465216000,
          3489792000,
          3514368000,
          3538944000,
          3563520000,
          3588096000,
          3612672000,
          3637248000,
          3661824000,
          3686400000,
          3710976000,
          3735552000,
          3760128000,
          3784704000,
          3809280000,
          3833856000,
          3858432000,
          3883008000,
          3907584000,
          3932160000
         ],
         "y": [
          129.7,
          120.8712,
          121.1248,
          126.3744,
          117.6168,
          107.368,
          75.96024,
          124.3048,
          115.0008,
          134.2928,
          53.66952,
          45.08336,
          135.1448,
          107.2208,
          138.2848,
          142.5632,
          138.6368,
          139.4664,
          138.0152,
          141.3504,
          143.2512,
          129.132,
          139.5824,
          147.0768,
          132.532,
          120.3264,
          137.4152,
          138.38,
          137.9168,
          141.1136,
          135.5304,
          133.1376,
          137.2864,
          122.2592,
          137.2296,
          136.4704,
          122.4576,
          138.2584,
          130.0224,
          135.6232,
          119.6312,
          134.6248,
          128.076,
          138.0976,
          118.716,
          122.8088,
          126.1808,
          135.5864,
          130.0088,
          107.512,
          108.7952,
          127.5104,
          117.836,
          124.2968,
          111.4272,
          125.784,
          117.7512,
          123.656,
          126.0048,
          125.2896,
          120.2592,
          120.456,
          127.9104,
          118.3168,
          114.3568,
          119.1704,
          126.1616,
          112.5224,
          105.5456,
          110.8768,
          119.5672,
          109.0408,
          102.3272,
          112.2928,
          114.8496,
          112.3288,
          111.2616,
          107.0168,
          109.2536,
          105.356,
          109.7136,
          111.6648,
          112.0864,
          106.5408,
          107.3712,
          100.2224,
          112.1536,
          109.0952,
          101.1056,
          107.712,
          108.0888,
          108.6712,
          105.2416,
          111.9328,
          110.6272,
          108.1488,
          106.9584,
          98.8128,
          109.7448,
          107.212,
          108.0728,
          107.1536,
          107.3376,
          100.2928,
          104.9792,
          101.3736,
          108.4728,
          96.4184,
          103.108,
          105.2256,
          106.8808,
          98.7552,
          102.4424,
          94.6992,
          101.9616,
          107.7656,
          94.3632,
          103.5488,
          103.9368,
          93.832,
          95.784,
          105.0752,
          102.4,
          101.0216,
          98.1656,
          101.6528,
          101.6136,
          76.55192,
          101.3888,
          104.3528,
          95.94,
          98.5808,
          97.9304,
          95.5568,
          97.4016,
          99.3,
          96.516,
          97.2176,
          97.4592
         ]
        },
        {
         "line": {
          "color": "gold",
          "width": 3
         },
         "marker": {
          "line": {
           "color": "black",
           "width": 1
          },
          "size": 6,
          "symbol": "triangle-up"
         },
         "mode": "lines+markers",
         "name": "MacNewgeoProb_168mpi_6omp",
         "type": "scatter",
         "x": [
          516096000,
          645120000,
          774144000,
          903168000,
          1032192000,
          1161216000,
          1290240000,
          1419264000,
          1548288000,
          1677312000,
          1806336000,
          1935360000,
          2064384000,
          2193408000,
          2322432000,
          2451456000,
          2580480000,
          2709504000,
          2838528000,
          2967552000,
          3096576000,
          3225600000,
          3354624000,
          3483648000,
          3612672000,
          3741696000,
          3870720000
         ],
         "y": [
          140.64078,
          154.21665000000002,
          156.47457,
          164.01819,
          172.06056,
          171.41901000000001,
          169.45236,
          167.45862,
          162.22164,
          154.50687,
          148.53489,
          143.45478,
          143.36637000000002,
          135.60162,
          135.68016,
          128.37783,
          129.43455,
          117.56766,
          122.8752,
          114.41115,
          120.65465999999999,
          110.09901,
          115.77195,
          107.68632,
          115.01048999999999,
          106.04097,
          110.36739
         ]
        },
        {
         "line": {
          "color": "dimgray",
          "width": 3
         },
         "marker": {
          "line": {
           "color": "black",
           "width": 1
          },
          "size": 6,
          "symbol": "triangle-up"
         },
         "mode": "lines+markers",
         "name": "MacNewgeoNonProb_168mpi_6omp",
         "type": "scatter",
         "x": [
          516096000,
          645120000,
          774144000,
          903168000,
          1032192000,
          1161216000,
          1290240000,
          1419264000,
          1548288000,
          1677312000,
          1806336000,
          1935360000,
          2064384000,
          2193408000,
          2322432000,
          2451456000,
          2580480000,
          2709504000,
          2838528000,
          2967552000,
          3096576000,
          3225600000,
          3354624000,
          3483648000,
          3612672000,
          3741696000,
          3870720000
         ],
         "y": [
          141.9495,
          151.08680999999999,
          159.15711,
          162.15801,
          169.11993,
          166.00395,
          166.30677,
          163.43607,
          159.36816,
          150.81696,
          147.82803,
          139.98075,
          141.15485999999999,
          130.9119,
          132.92286,
          122.27145,
          125.71209,
          115.28979,
          122.40417,
          109.09983,
          117.19932,
          106.94649,
          110.47449,
          104.97816,
          109.19517,
          101.58267000000001,
          106.61637
         ]
        },
        {
         "line": {
          "color": "olive",
          "width": 3
         },
         "marker": {
          "line": {
           "color": "olive",
           "width": 2
          },
          "size": 6,
          "symbol": "circle"
         },
         "mode": "lines+markers",
         "name": "MacNewgeoProb_504mpi_2omp",
         "type": "scatter",
         "x": [
          774144000,
          1161216000,
          1548288000,
          1935360000,
          2322432000,
          2709504000,
          3096576000,
          3483648000
         ],
         "y": [
          185.16834,
          187.77339,
          178.99308,
          158.46894,
          148.59999,
          134.55918,
          130.72437,
          121.82751
         ]
        },
        {
         "line": {
          "color": "Brown",
          "width": 3
         },
         "marker": {
          "line": {
           "color": "darkred",
           "width": 2
          },
          "size": 6,
          "symbol": "circle"
         },
         "mode": "lines+markers",
         "name": "MacNewgeoNonProb_504mpi_2omp",
         "type": "scatter",
         "x": [
          774144000,
          1161216000,
          1548288000,
          1935360000,
          2322432000,
          2709504000,
          3096576000,
          3483648000,
          3870720000
         ],
         "y": [
          179.32887000000002,
          185.71895999999998,
          176.1291,
          155.65599,
          143.62614000000002,
          132.70005,
          130.2336,
          120.6702,
          119.10654
         ]
        }
       ],
       "layout": {
        "annotations": [
         {
          "align": "left",
          "arrowcolor": "#636363",
          "arrowhead": 1,
          "arrowsize": 1,
          "arrowwidth": 2,
          "ax": -20,
          "ay": -30,
          "font": {
           "color": "purple",
           "family": "Sans Serif",
           "size": 12
          },
          "showarrow": false,
          "text": "LLC Size Per Node",
          "x": "512e6",
          "y": 130,
          "yanchor": "bottom"
         }
        ],
        "shapes": [
         {
          "line": {
           "color": "green",
           "dash": "dash",
           "width": 3
          },
          "type": "line",
          "x0": 512000000,
          "x1": 512000000,
          "xref": "x",
          "y0": 0,
          "y1": 1,
          "yref": "y domain"
         }
        ],
        "template": {
         "data": {
          "bar": [
           {
            "error_x": {
             "color": "#2a3f5f"
            },
            "error_y": {
             "color": "#2a3f5f"
            },
            "marker": {
             "line": {
              "color": "#E5ECF6",
              "width": 0.5
             },
             "pattern": {
              "fillmode": "overlay",
              "size": 10,
              "solidity": 0.2
             }
            },
            "type": "bar"
           }
          ],
          "barpolar": [
           {
            "marker": {
             "line": {
              "color": "#E5ECF6",
              "width": 0.5
             },
             "pattern": {
              "fillmode": "overlay",
              "size": 10,
              "solidity": 0.2
             }
            },
            "type": "barpolar"
           }
          ],
          "carpet": [
           {
            "aaxis": {
             "endlinecolor": "#2a3f5f",
             "gridcolor": "white",
             "linecolor": "white",
             "minorgridcolor": "white",
             "startlinecolor": "#2a3f5f"
            },
            "baxis": {
             "endlinecolor": "#2a3f5f",
             "gridcolor": "white",
             "linecolor": "white",
             "minorgridcolor": "white",
             "startlinecolor": "#2a3f5f"
            },
            "type": "carpet"
           }
          ],
          "choropleth": [
           {
            "colorbar": {
             "outlinewidth": 0,
             "ticks": ""
            },
            "type": "choropleth"
           }
          ],
          "contour": [
           {
            "colorbar": {
             "outlinewidth": 0,
             "ticks": ""
            },
            "colorscale": [
             [
              0,
              "#0d0887"
             ],
             [
              0.1111111111111111,
              "#46039f"
             ],
             [
              0.2222222222222222,
              "#7201a8"
             ],
             [
              0.3333333333333333,
              "#9c179e"
             ],
             [
              0.4444444444444444,
              "#bd3786"
             ],
             [
              0.5555555555555556,
              "#d8576b"
             ],
             [
              0.6666666666666666,
              "#ed7953"
             ],
             [
              0.7777777777777778,
              "#fb9f3a"
             ],
             [
              0.8888888888888888,
              "#fdca26"
             ],
             [
              1,
              "#f0f921"
             ]
            ],
            "type": "contour"
           }
          ],
          "contourcarpet": [
           {
            "colorbar": {
             "outlinewidth": 0,
             "ticks": ""
            },
            "type": "contourcarpet"
           }
          ],
          "heatmap": [
           {
            "colorbar": {
             "outlinewidth": 0,
             "ticks": ""
            },
            "colorscale": [
             [
              0,
              "#0d0887"
             ],
             [
              0.1111111111111111,
              "#46039f"
             ],
             [
              0.2222222222222222,
              "#7201a8"
             ],
             [
              0.3333333333333333,
              "#9c179e"
             ],
             [
              0.4444444444444444,
              "#bd3786"
             ],
             [
              0.5555555555555556,
              "#d8576b"
             ],
             [
              0.6666666666666666,
              "#ed7953"
             ],
             [
              0.7777777777777778,
              "#fb9f3a"
             ],
             [
              0.8888888888888888,
              "#fdca26"
             ],
             [
              1,
              "#f0f921"
             ]
            ],
            "type": "heatmap"
           }
          ],
          "heatmapgl": [
           {
            "colorbar": {
             "outlinewidth": 0,
             "ticks": ""
            },
            "colorscale": [
             [
              0,
              "#0d0887"
             ],
             [
              0.1111111111111111,
              "#46039f"
             ],
             [
              0.2222222222222222,
              "#7201a8"
             ],
             [
              0.3333333333333333,
              "#9c179e"
             ],
             [
              0.4444444444444444,
              "#bd3786"
             ],
             [
              0.5555555555555556,
              "#d8576b"
             ],
             [
              0.6666666666666666,
              "#ed7953"
             ],
             [
              0.7777777777777778,
              "#fb9f3a"
             ],
             [
              0.8888888888888888,
              "#fdca26"
             ],
             [
              1,
              "#f0f921"
             ]
            ],
            "type": "heatmapgl"
           }
          ],
          "histogram": [
           {
            "marker": {
             "pattern": {
              "fillmode": "overlay",
              "size": 10,
              "solidity": 0.2
             }
            },
            "type": "histogram"
           }
          ],
          "histogram2d": [
           {
            "colorbar": {
             "outlinewidth": 0,
             "ticks": ""
            },
            "colorscale": [
             [
              0,
              "#0d0887"
             ],
             [
              0.1111111111111111,
              "#46039f"
             ],
             [
              0.2222222222222222,
              "#7201a8"
             ],
             [
              0.3333333333333333,
              "#9c179e"
             ],
             [
              0.4444444444444444,
              "#bd3786"
             ],
             [
              0.5555555555555556,
              "#d8576b"
             ],
             [
              0.6666666666666666,
              "#ed7953"
             ],
             [
              0.7777777777777778,
              "#fb9f3a"
             ],
             [
              0.8888888888888888,
              "#fdca26"
             ],
             [
              1,
              "#f0f921"
             ]
            ],
            "type": "histogram2d"
           }
          ],
          "histogram2dcontour": [
           {
            "colorbar": {
             "outlinewidth": 0,
             "ticks": ""
            },
            "colorscale": [
             [
              0,
              "#0d0887"
             ],
             [
              0.1111111111111111,
              "#46039f"
             ],
             [
              0.2222222222222222,
              "#7201a8"
             ],
             [
              0.3333333333333333,
              "#9c179e"
             ],
             [
              0.4444444444444444,
              "#bd3786"
             ],
             [
              0.5555555555555556,
              "#d8576b"
             ],
             [
              0.6666666666666666,
              "#ed7953"
             ],
             [
              0.7777777777777778,
              "#fb9f3a"
             ],
             [
              0.8888888888888888,
              "#fdca26"
             ],
             [
              1,
              "#f0f921"
             ]
            ],
            "type": "histogram2dcontour"
           }
          ],
          "mesh3d": [
           {
            "colorbar": {
             "outlinewidth": 0,
             "ticks": ""
            },
            "type": "mesh3d"
           }
          ],
          "parcoords": [
           {
            "line": {
             "colorbar": {
              "outlinewidth": 0,
              "ticks": ""
             }
            },
            "type": "parcoords"
           }
          ],
          "pie": [
           {
            "automargin": true,
            "type": "pie"
           }
          ],
          "scatter": [
           {
            "fillpattern": {
             "fillmode": "overlay",
             "size": 10,
             "solidity": 0.2
            },
            "type": "scatter"
           }
          ],
          "scatter3d": [
           {
            "line": {
             "colorbar": {
              "outlinewidth": 0,
              "ticks": ""
             }
            },
            "marker": {
             "colorbar": {
              "outlinewidth": 0,
              "ticks": ""
             }
            },
            "type": "scatter3d"
           }
          ],
          "scattercarpet": [
           {
            "marker": {
             "colorbar": {
              "outlinewidth": 0,
              "ticks": ""
             }
            },
            "type": "scattercarpet"
           }
          ],
          "scattergeo": [
           {
            "marker": {
             "colorbar": {
              "outlinewidth": 0,
              "ticks": ""
             }
            },
            "type": "scattergeo"
           }
          ],
          "scattergl": [
           {
            "marker": {
             "colorbar": {
              "outlinewidth": 0,
              "ticks": ""
             }
            },
            "type": "scattergl"
           }
          ],
          "scattermapbox": [
           {
            "marker": {
             "colorbar": {
              "outlinewidth": 0,
              "ticks": ""
             }
            },
            "type": "scattermapbox"
           }
          ],
          "scatterpolar": [
           {
            "marker": {
             "colorbar": {
              "outlinewidth": 0,
              "ticks": ""
             }
            },
            "type": "scatterpolar"
           }
          ],
          "scatterpolargl": [
           {
            "marker": {
             "colorbar": {
              "outlinewidth": 0,
              "ticks": ""
             }
            },
            "type": "scatterpolargl"
           }
          ],
          "scatterternary": [
           {
            "marker": {
             "colorbar": {
              "outlinewidth": 0,
              "ticks": ""
             }
            },
            "type": "scatterternary"
           }
          ],
          "surface": [
           {
            "colorbar": {
             "outlinewidth": 0,
             "ticks": ""
            },
            "colorscale": [
             [
              0,
              "#0d0887"
             ],
             [
              0.1111111111111111,
              "#46039f"
             ],
             [
              0.2222222222222222,
              "#7201a8"
             ],
             [
              0.3333333333333333,
              "#9c179e"
             ],
             [
              0.4444444444444444,
              "#bd3786"
             ],
             [
              0.5555555555555556,
              "#d8576b"
             ],
             [
              0.6666666666666666,
              "#ed7953"
             ],
             [
              0.7777777777777778,
              "#fb9f3a"
             ],
             [
              0.8888888888888888,
              "#fdca26"
             ],
             [
              1,
              "#f0f921"
             ]
            ],
            "type": "surface"
           }
          ],
          "table": [
           {
            "cells": {
             "fill": {
              "color": "#EBF0F8"
             },
             "line": {
              "color": "white"
             }
            },
            "header": {
             "fill": {
              "color": "#C8D4E3"
             },
             "line": {
              "color": "white"
             }
            },
            "type": "table"
           }
          ]
         },
         "layout": {
          "annotationdefaults": {
           "arrowcolor": "#2a3f5f",
           "arrowhead": 0,
           "arrowwidth": 1
          },
          "autotypenumbers": "strict",
          "coloraxis": {
           "colorbar": {
            "outlinewidth": 0,
            "ticks": ""
           }
          },
          "colorscale": {
           "diverging": [
            [
             0,
             "#8e0152"
            ],
            [
             0.1,
             "#c51b7d"
            ],
            [
             0.2,
             "#de77ae"
            ],
            [
             0.3,
             "#f1b6da"
            ],
            [
             0.4,
             "#fde0ef"
            ],
            [
             0.5,
             "#f7f7f7"
            ],
            [
             0.6,
             "#e6f5d0"
            ],
            [
             0.7,
             "#b8e186"
            ],
            [
             0.8,
             "#7fbc41"
            ],
            [
             0.9,
             "#4d9221"
            ],
            [
             1,
             "#276419"
            ]
           ],
           "sequential": [
            [
             0,
             "#0d0887"
            ],
            [
             0.1111111111111111,
             "#46039f"
            ],
            [
             0.2222222222222222,
             "#7201a8"
            ],
            [
             0.3333333333333333,
             "#9c179e"
            ],
            [
             0.4444444444444444,
             "#bd3786"
            ],
            [
             0.5555555555555556,
             "#d8576b"
            ],
            [
             0.6666666666666666,
             "#ed7953"
            ],
            [
             0.7777777777777778,
             "#fb9f3a"
            ],
            [
             0.8888888888888888,
             "#fdca26"
            ],
            [
             1,
             "#f0f921"
            ]
           ],
           "sequentialminus": [
            [
             0,
             "#0d0887"
            ],
            [
             0.1111111111111111,
             "#46039f"
            ],
            [
             0.2222222222222222,
             "#7201a8"
            ],
            [
             0.3333333333333333,
             "#9c179e"
            ],
            [
             0.4444444444444444,
             "#bd3786"
            ],
            [
             0.5555555555555556,
             "#d8576b"
            ],
            [
             0.6666666666666666,
             "#ed7953"
            ],
            [
             0.7777777777777778,
             "#fb9f3a"
            ],
            [
             0.8888888888888888,
             "#fdca26"
            ],
            [
             1,
             "#f0f921"
            ]
           ]
          },
          "colorway": [
           "#636efa",
           "#EF553B",
           "#00cc96",
           "#ab63fa",
           "#FFA15A",
           "#19d3f3",
           "#FF6692",
           "#B6E880",
           "#FF97FF",
           "#FECB52"
          ],
          "font": {
           "color": "#2a3f5f"
          },
          "geo": {
           "bgcolor": "white",
           "lakecolor": "white",
           "landcolor": "#E5ECF6",
           "showlakes": true,
           "showland": true,
           "subunitcolor": "white"
          },
          "hoverlabel": {
           "align": "left"
          },
          "hovermode": "closest",
          "mapbox": {
           "style": "light"
          },
          "paper_bgcolor": "white",
          "plot_bgcolor": "#E5ECF6",
          "polar": {
           "angularaxis": {
            "gridcolor": "white",
            "linecolor": "white",
            "ticks": ""
           },
           "bgcolor": "#E5ECF6",
           "radialaxis": {
            "gridcolor": "white",
            "linecolor": "white",
            "ticks": ""
           }
          },
          "scene": {
           "xaxis": {
            "backgroundcolor": "#E5ECF6",
            "gridcolor": "white",
            "gridwidth": 2,
            "linecolor": "white",
            "showbackground": true,
            "ticks": "",
            "zerolinecolor": "white"
           },
           "yaxis": {
            "backgroundcolor": "#E5ECF6",
            "gridcolor": "white",
            "gridwidth": 2,
            "linecolor": "white",
            "showbackground": true,
            "ticks": "",
            "zerolinecolor": "white"
           },
           "zaxis": {
            "backgroundcolor": "#E5ECF6",
            "gridcolor": "white",
            "gridwidth": 2,
            "linecolor": "white",
            "showbackground": true,
            "ticks": "",
            "zerolinecolor": "white"
           }
          },
          "shapedefaults": {
           "line": {
            "color": "#2a3f5f"
           }
          },
          "ternary": {
           "aaxis": {
            "gridcolor": "white",
            "linecolor": "white",
            "ticks": ""
           },
           "baxis": {
            "gridcolor": "white",
            "linecolor": "white",
            "ticks": ""
           },
           "bgcolor": "#E5ECF6",
           "caxis": {
            "gridcolor": "white",
            "linecolor": "white",
            "ticks": ""
           }
          },
          "title": {
           "x": 0.05
          },
          "xaxis": {
           "automargin": true,
           "gridcolor": "white",
           "linecolor": "white",
           "ticks": "",
           "title": {
            "standoff": 15
           },
           "zerolinecolor": "white",
           "zerolinewidth": 2
          },
          "yaxis": {
           "automargin": true,
           "gridcolor": "white",
           "linecolor": "white",
           "ticks": "",
           "title": {
            "standoff": 15
           },
           "zerolinecolor": "white",
           "zerolinewidth": 2
          }
         }
        },
        "title": {
         "text": "\"Newgeo-Macro (8-Nodes): probempi vs nonprobempi\" GFlops Measurement"
        },
        "xaxis": {
         "ticks": "outside",
         "title": {
          "text": "Dirc_Data_Mov"
         }
        },
        "yaxis": {
         "ticks": "outside",
         "title": {
          "text": "GFLOPs/Node"
         }
        }
       }
      },
      "text/html": [
       "<div>                            <div id=\"7faffe1b-7a56-4f1c-a535-10d9dcea40ba\" class=\"plotly-graph-div\" style=\"height:525px; width:100%;\"></div>            <script type=\"text/javascript\">                require([\"plotly\"], function(Plotly) {                    window.PLOTLYENV=window.PLOTLYENV || {};                                    if (document.getElementById(\"7faffe1b-7a56-4f1c-a535-10d9dcea40ba\")) {                    Plotly.newPlot(                        \"7faffe1b-7a56-4f1c-a535-10d9dcea40ba\",                        [{\"line\":{\"color\":\"darkcyan\",\"width\":3},\"marker\":{\"line\":{\"color\":\"yellow\",\"width\":1},\"size\":9,\"symbol\":\"hexagon\"},\"mode\":\"lines+markers\",\"name\":\"MacNewgeoProb_1024mpi_1omp\",\"x\":[1572864000.0,1966080000.0,2359296000.0,2752512000.0,3145728000.0,3538944000.0],\"y\":[169.43104,147.58272,135.39712,131.62496,125.980672,88.702976],\"type\":\"scatter\"},{\"line\":{\"color\":\"magenta\",\"width\":3},\"marker\":{\"line\":{\"color\":\"yellow\",\"width\":1},\"size\":9,\"symbol\":\"hexagon\"},\"mode\":\"lines+markers\",\"name\":\"MacNonFusNonProb_1024mpi_1omp\",\"x\":[1572864000.0,1966080000.0,2359296000.0,2752512000.0,3145728000.0,3538944000.0,3932160000.0],\"y\":[162.76608,145.98016,128.47232,117.86688,130.3424,122.40192,119.084672],\"type\":\"scatter\"},{\"line\":{\"color\":\"royalblue\",\"width\":3},\"marker\":{\"line\":{\"color\":\"MediumPurple\",\"width\":2},\"size\":5,\"symbol\":\"diamond\"},\"mode\":\"lines+markers\",\"name\":\"MacNewgeoProb_512mpi_2omp\",\"x\":[786432000.0,983040000.0,1179648000.0,1376256000.0,1572864000.0,1769472000.0,1966080000.0,2162688000.0,2359296000.0,2555904000.0,2752512000.0,2949120000.0,3145728000.0,3538944000.0,3735552000.0],\"y\":[178.18176,196.032,194.45248,190.51392,184.31424,161.98528,158.79296,148.18816,149.22176,139.4752,136.01984,117.97696,130.57216,123.11616,124.2112],\"type\":\"scatter\"},{\"line\":{\"color\":\"sandybrown\",\"width\":3},\"marker\":{\"line\":{\"color\":\"MediumPurple\",\"width\":2},\"size\":5,\"symbol\":\"diamond\"},\"mode\":\"lines+markers\",\"name\":\"MacNewgeoNonProb_512mpi_2omp\",\"x\":[786432000.0,983040000.0,1179648000.0,1376256000.0,1572864000.0,1769472000.0,1966080000.0,2162688000.0,2359296000.0,2555904000.0,2752512000.0,2949120000.0,3145728000.0,3342336000.0,3538944000.0,3735552000.0,3932160000.0],\"y\":[184.34048,193.93536,177.40608,181.888,181.24928,166.72256,152.68928,151.1808,149.96288,142.11328,130.21696,131.28512,131.66336,120.77312,121.31968,120.8128,119.35232],\"type\":\"scatter\"},{\"line\":{\"color\":\"darkblue\",\"width\":3},\"marker\":{\"line\":{\"color\":\"tomato\",\"width\":2},\"size\":7,\"symbol\":\"circle\"},\"mode\":\"lines+markers\",\"name\":\"MacNewgeoProb_256mpi_4omp\",\"x\":[589824000.0,688128000.0,786432000.0,884736000.0,983040000.0,1179648000.0,1277952000.0,1376256000.0,1474560000.0,1572864000.0,1671168000.0,1769472000.0,1867776000.0,1966080000.0,2064384000.0,2162688000.0,2260992000.0,2359296000.0,2555904000.0,2654208000.0,2752512000.0,2850816000.0,2949120000.0,3047424000.0,3145728000.0,3244032000.0,3342336000.0,3440640000.0,3538944000.0,3637248000.0,3735552000.0,3833856000.0,3932160000.0],\"y\":[152.71552,181.3504,162.5392,187.88608,194.38368,170.64608,192.95392,177.26528,185.0656,185.64512,171.25184,157.93536,169.43776,152.25792,154.75904,147.91904,152.00192,137.12768,140.38496,136.82752,137.74752,134.77152,131.84,134.2448,133.38144,127.06528,120.01952,129.94624,124.7888,127.16064,118.28864,116.8128,119.61856],\"type\":\"scatter\"},{\"line\":{\"color\":\"cyan\",\"width\":3},\"marker\":{\"line\":{\"color\":\"Purple\",\"width\":2},\"size\":7,\"symbol\":\"circle\"},\"mode\":\"lines+markers\",\"name\":\"MacNewgeoNonProb_256mpi_4omp\",\"x\":[589824000.0,688128000.0,786432000.0,884736000.0,983040000.0,1081344000.0,1179648000.0,1277952000.0,1376256000.0,1474560000.0,1572864000.0,1671168000.0,1769472000.0,1867776000.0,1966080000.0,2064384000.0,2162688000.0,2260992000.0,2359296000.0,2457600000.0,2555904000.0,2654208000.0,2752512000.0,2850816000.0,2949120000.0,3047424000.0,3145728000.0,3244032000.0,3342336000.0,3440640000.0,3538944000.0,3637248000.0,3735552000.0,3932160000.0],\"y\":[149.52864,172.17024,165.92608,175.56992,181.29344,180.65472,187.80544,166.88832,155.2944,177.70688,171.99968,166.83552,159.09088,157.96192,138.48416,151.8368,147.93504,147.5312,146.58144,131.84256,139.0208,135.99776,138.94464,120.41344,118.13152,131.46016,126.75168,123.41312,123.90912,116.65024,120.66624,120.6256,118.12768,119.34656],\"type\":\"scatter\"},{\"line\":{\"color\":\"blue\",\"width\":3},\"marker\":{\"line\":{\"color\":\"black\",\"width\":1},\"size\":7,\"symbol\":\"star\"},\"mode\":\"lines+markers\",\"name\":\"MacNewgeoProb_128mpi_8omp\",\"x\":[540672000.0,589824000.0,638976000.0,688128000.0,737280000.0,786432000.0,835584000.0,884736000.0,933888000.0,983040000.0,1032192000.0,1081344000.0,1130496000.0,1179648000.0,1228800000.0,1277952000.0,1327104000.0,1376256000.0,1425408000.0,1474560000.0,1523712000.0,1572864000.0,1622016000.0,1671168000.0,1720320000.0,1769472000.0,1818624000.0,1867776000.0,1916928000.0,1966080000.0,2015232000.0,2064384000.0,2113536000.0,2162688000.0,2211840000.0,2260992000.0,2310144000.0,2359296000.0,2408448000.0,2457600000.0,2506752000.0,2555904000.0,2605056000.0,2654208000.0,2703360000.0,2752512000.0,2801664000.0,2850816000.0,2899968000.0,2949120000.0,2998272000.0,3047424000.0,3096576000.0,3145728000.0,3194880000.0,3244032000.0,3293184000.0,3342336000.0,3391488000.0,3440640000.0,3489792000.0,3538944000.0,3588096000.0,3637248000.0,3686400000.0,3735552000.0,3784704000.0,3833856000.0,3883008000.0,3932160000.0],\"y\":[156.34864,156.16608,161.7888,162.4896,132.33136,162.2864,172.9344,152.47408,168.0288,174.8176,169.5136,156.44,181.0464,154.62336,177.0928,151.61648,159.0416,170.4544,180.2752,172.256,170.08,174.6992,162.904,167.8832,164.6576,161.1184,161.0176,136.45552,154.78464,147.62576,154.99952,148.7432,144.77536,137.32192,143.71232,137.69984,142.91008,138.48368,143.53648,136.25904,135.78272,123.79984,127.72976,133.59024,135.71632,133.804,129.7448,128.17216,132.66752,127.38336,127.35264,125.38096,122.16288,126.0224,127.8208,122.13392,126.5056,120.31136,118.404,119.86992,120.20384,115.17904,117.04128,118.24064,113.51904,118.12416,119.52992,115.22032,118.7104,114.95712],\"type\":\"scatter\"},{\"line\":{\"color\":\"red\",\"width\":3},\"marker\":{\"line\":{\"color\":\"black\",\"width\":1},\"size\":7,\"symbol\":\"star\"},\"mode\":\"lines+markers\",\"name\":\"MacNewgeoNonProb_128mpi_8omp\",\"x\":[540672000.0,589824000.0,638976000.0,688128000.0,737280000.0,786432000.0,835584000.0,884736000.0,933888000.0,983040000.0,1032192000.0,1081344000.0,1130496000.0,1179648000.0,1228800000.0,1277952000.0,1327104000.0,1376256000.0,1425408000.0,1474560000.0,1523712000.0,1572864000.0,1622016000.0,1671168000.0,1720320000.0,1769472000.0,1818624000.0,1867776000.0,1916928000.0,1966080000.0,2015232000.0,2064384000.0,2113536000.0,2162688000.0,2211840000.0,2260992000.0,2310144000.0,2359296000.0,2408448000.0,2457600000.0,2506752000.0,2555904000.0,2605056000.0,2654208000.0,2703360000.0,2752512000.0,2801664000.0,2850816000.0,2899968000.0,2949120000.0,2998272000.0,3047424000.0,3096576000.0,3145728000.0,3194880000.0,3244032000.0,3293184000.0,3391488000.0,3440640000.0,3489792000.0,3538944000.0,3588096000.0,3637248000.0,3686400000.0,3735552000.0,3784704000.0,3833856000.0,3883008000.0,3932160000.0],\"y\":[142.92448,137.05648,149.33616,156.52288,145.92288,164.2704,165.456,155.18496,161.6496,171.5888,167.2176,165.792,172.2256,171.056,168.8256,171.984,170.248,170.6288,169.728,167.7792,165.5376,168.3312,155.45088,148.83648,156.6056,141.60336,145.39216,150.20896,143.06816,153.6768,146.37872,142.50768,137.7296,147.2408,137.60144,138.52,128.89776,141.80592,134.8024,133.87456,123.29472,136.82608,128.9904,127.18352,128.37904,129.8208,114.2408,116.88816,125.10528,123.44912,124.6984,112.8536,111.78832,121.3368,121.22448,117.19328,119.91552,112.40448,105.3304,117.6664,116.67776,114.35968,110.82272,111.56208,110.92224,116.51216,110.51616,106.96544,110.49152],\"type\":\"scatter\"},{\"line\":{\"color\":\"chartreuse\",\"width\":3},\"marker\":{\"line\":{\"color\":\"mediumvioletred\",\"width\":1},\"size\":6,\"symbol\":\"square-dot\"},\"mode\":\"lines+markers\",\"name\":\"MacNewgeoProb_64mpi_16omp\",\"x\":[516096000.0,540672000.0,565248000.0,589824000.0,614400000.0,638976000.0,663552000.0,688128000.0,712704000.0,761856000.0,786432000.0,811008000.0,835584000.0,860160000.0,884736000.0,909312000.0,933888000.0,958464000.0,983040000.0,1007616000.0,1032192000.0,1056768000.0,1081344000.0,1105920000.0,1130496000.0,1155072000.0,1179648000.0,1204224000.0,1228800000.0,1253376000.0,1277952000.0,1327104000.0,1351680000.0,1376256000.0,1400832000.0,1425408000.0,1449984000.0,1474560000.0,1499136000.0,1523712000.0,1548288000.0,1572864000.0,1597440000.0,1622016000.0,1646592000.0,1671168000.0,1695744000.0,1720320000.0,1744896000.0,1769472000.0,1794048000.0,1818624000.0,1843200000.0,1867776000.0,1892352000.0,1916928000.0,1941504000.0,1966080000.0,2015232000.0,2039808000.0,2064384000.0,2088960000.0,2113536000.0,2138112000.0,2162688000.0,2187264000.0,2211840000.0,2236416000.0,2260992000.0,2285568000.0,2310144000.0,2334720000.0,2359296000.0,2383872000.0,2408448000.0,2433024000.0,2457600000.0,2482176000.0,2506752000.0,2531328000.0,2555904000.0,2580480000.0,2605056000.0,2629632000.0,2654208000.0,2678784000.0,2703360000.0,2727936000.0,2752512000.0,2777088000.0,2801664000.0,2826240000.0,2850816000.0,2875392000.0,2899968000.0,2924544000.0,2949120000.0,2973696000.0,2998272000.0,3047424000.0,3072000000.0,3096576000.0,3121152000.0,3145728000.0,3194880000.0,3219456000.0,3244032000.0,3268608000.0,3293184000.0,3317760000.0,3342336000.0,3366912000.0,3391488000.0,3416064000.0,3440640000.0,3465216000.0,3489792000.0,3514368000.0,3538944000.0,3563520000.0,3588096000.0,3637248000.0,3661824000.0,3686400000.0,3710976000.0,3735552000.0,3760128000.0,3784704000.0,3809280000.0,3833856000.0,3858432000.0,3883008000.0,3907584000.0,3932160000.0],\"y\":[113.7752,138.9416,138.1008,123.8928,127.0848,142.448,139.2992,138.724,41.1652,48.46144,144.8608,146.0584,150.3472,145.9392,20.91088,144.8632,141.2568,141.8344,133.6632,84.4016,91.3096,142.9672,130.7728,124.768,149.7408,123.0904,139.1752,135.4304,118.9808,141.2512,140.5592,145.208,146.2256,146.5744,144.6976,144.9344,142.28,144.592,141.6728,127.8984,123.9536,135.4472,135.7088,133.6312,135.9008,132.6312,132.8872,129.8336,131.6232,128.4312,121.9832,126.4848,126.7856,129.2072,123.4816,123.7184,123.2872,120.5888,123.6192,112.3744,121.3824,123.0984,123.432,120.9024,125.2048,124.8192,121.5976,116.1808,112.6872,112.2848,117.384,110.0264,116.5936,106.0208,116.1136,115.4376,117.06,106.3016,114.2736,110.8552,117.6968,115.1256,114.1776,118.0624,115.0656,112.6016,110.8896,106.9576,112.26,113.7312,102.4472,113.4872,110.3096,104.2072,108.4768,107.7056,112.032,112.9032,107.9104,111.7568,111.0736,55.7572,113.0392,108.0128,107.564,111.2384,109.7872,110.844,99.8144,97.8784,107.5584,107.1648,100.4288,97.2048,103.6928,103.5304,102.6592,107.0256,104.6136,106.5152,104.0688,104.5152,107.3488,103.7672,106.1152,98.0968,100.4728,97.348,104.956,97.1576,103.6424,101.6912,101.408,102.2296],\"type\":\"scatter\"},{\"line\":{\"color\":\"black\",\"width\":3},\"marker\":{\"line\":{\"color\":\"mediumvioletred\",\"width\":1},\"size\":6,\"symbol\":\"square-dot\"},\"mode\":\"lines+markers\",\"name\":\"MacNewgeoNonProb_64mpi_16omp\",\"x\":[516096000.0,540672000.0,565248000.0,589824000.0,614400000.0,638976000.0,663552000.0,688128000.0,712704000.0,737280000.0,761856000.0,786432000.0,811008000.0,835584000.0,860160000.0,884736000.0,909312000.0,933888000.0,958464000.0,983040000.0,1007616000.0,1032192000.0,1056768000.0,1081344000.0,1105920000.0,1130496000.0,1155072000.0,1179648000.0,1204224000.0,1228800000.0,1253376000.0,1277952000.0,1302528000.0,1327104000.0,1351680000.0,1376256000.0,1400832000.0,1425408000.0,1449984000.0,1474560000.0,1499136000.0,1523712000.0,1548288000.0,1572864000.0,1597440000.0,1622016000.0,1646592000.0,1671168000.0,1695744000.0,1720320000.0,1744896000.0,1769472000.0,1794048000.0,1818624000.0,1867776000.0,1892352000.0,1916928000.0,1941504000.0,1966080000.0,1990656000.0,2015232000.0,2039808000.0,2064384000.0,2088960000.0,2113536000.0,2138112000.0,2162688000.0,2187264000.0,2211840000.0,2236416000.0,2260992000.0,2285568000.0,2310144000.0,2334720000.0,2359296000.0,2383872000.0,2408448000.0,2433024000.0,2457600000.0,2482176000.0,2506752000.0,2531328000.0,2555904000.0,2580480000.0,2605056000.0,2629632000.0,2654208000.0,2678784000.0,2703360000.0,2727936000.0,2752512000.0,2777088000.0,2801664000.0,2826240000.0,2850816000.0,2875392000.0,2899968000.0,2924544000.0,2949120000.0,2973696000.0,2998272000.0,3022848000.0,3047424000.0,3072000000.0,3096576000.0,3121152000.0,3145728000.0,3170304000.0,3194880000.0,3219456000.0,3244032000.0,3268608000.0,3293184000.0,3317760000.0,3342336000.0,3366912000.0,3391488000.0,3416064000.0,3440640000.0,3465216000.0,3489792000.0,3514368000.0,3538944000.0,3563520000.0,3588096000.0,3612672000.0,3637248000.0,3661824000.0,3686400000.0,3710976000.0,3735552000.0,3760128000.0,3784704000.0,3809280000.0,3833856000.0,3858432000.0,3883008000.0,3907584000.0,3932160000.0],\"y\":[129.7,120.8712,121.1248,126.3744,117.6168,107.368,75.96024,124.3048,115.0008,134.2928,53.66952,45.08336,135.1448,107.2208,138.2848,142.5632,138.6368,139.4664,138.0152,141.3504,143.2512,129.132,139.5824,147.0768,132.532,120.3264,137.4152,138.38,137.9168,141.1136,135.5304,133.1376,137.2864,122.2592,137.2296,136.4704,122.4576,138.2584,130.0224,135.6232,119.6312,134.6248,128.076,138.0976,118.716,122.8088,126.1808,135.5864,130.0088,107.512,108.7952,127.5104,117.836,124.2968,111.4272,125.784,117.7512,123.656,126.0048,125.2896,120.2592,120.456,127.9104,118.3168,114.3568,119.1704,126.1616,112.5224,105.5456,110.8768,119.5672,109.0408,102.3272,112.2928,114.8496,112.3288,111.2616,107.0168,109.2536,105.356,109.7136,111.6648,112.0864,106.5408,107.3712,100.2224,112.1536,109.0952,101.1056,107.712,108.0888,108.6712,105.2416,111.9328,110.6272,108.1488,106.9584,98.8128,109.7448,107.212,108.0728,107.1536,107.3376,100.2928,104.9792,101.3736,108.4728,96.4184,103.108,105.2256,106.8808,98.7552,102.4424,94.6992,101.9616,107.7656,94.3632,103.5488,103.9368,93.832,95.784,105.0752,102.4,101.0216,98.1656,101.6528,101.6136,76.55192,101.3888,104.3528,95.94,98.5808,97.9304,95.5568,97.4016,99.3,96.516,97.2176,97.4592],\"type\":\"scatter\"},{\"line\":{\"color\":\"gold\",\"width\":3},\"marker\":{\"line\":{\"color\":\"black\",\"width\":1},\"size\":6,\"symbol\":\"triangle-up\"},\"mode\":\"lines+markers\",\"name\":\"MacNewgeoProb_168mpi_6omp\",\"x\":[516096000.0,645120000.0,774144000.0,903168000.0,1032192000.0,1161216000.0,1290240000.0,1419264000.0,1548288000.0,1677312000.0,1806336000.0,1935360000.0,2064384000.0,2193408000.0,2322432000.0,2451456000.0,2580480000.0,2709504000.0,2838528000.0,2967552000.0,3096576000.0,3225600000.0,3354624000.0,3483648000.0,3612672000.0,3741696000.0,3870720000.0],\"y\":[140.64078,154.21665000000002,156.47457,164.01819,172.06056,171.41901000000001,169.45236,167.45862,162.22164,154.50687,148.53489,143.45478,143.36637000000002,135.60162,135.68016,128.37783,129.43455,117.56766,122.8752,114.41115,120.65465999999999,110.09901,115.77195,107.68632,115.01048999999999,106.04097,110.36739],\"type\":\"scatter\"},{\"line\":{\"color\":\"dimgray\",\"width\":3},\"marker\":{\"line\":{\"color\":\"black\",\"width\":1},\"size\":6,\"symbol\":\"triangle-up\"},\"mode\":\"lines+markers\",\"name\":\"MacNewgeoNonProb_168mpi_6omp\",\"x\":[516096000.0,645120000.0,774144000.0,903168000.0,1032192000.0,1161216000.0,1290240000.0,1419264000.0,1548288000.0,1677312000.0,1806336000.0,1935360000.0,2064384000.0,2193408000.0,2322432000.0,2451456000.0,2580480000.0,2709504000.0,2838528000.0,2967552000.0,3096576000.0,3225600000.0,3354624000.0,3483648000.0,3612672000.0,3741696000.0,3870720000.0],\"y\":[141.9495,151.08680999999999,159.15711,162.15801,169.11993,166.00395,166.30677,163.43607,159.36816,150.81696,147.82803,139.98075,141.15485999999999,130.9119,132.92286,122.27145,125.71209,115.28979,122.40417,109.09983,117.19932,106.94649,110.47449,104.97816,109.19517,101.58267000000001,106.61637],\"type\":\"scatter\"},{\"line\":{\"color\":\"olive\",\"width\":3},\"marker\":{\"line\":{\"color\":\"olive\",\"width\":2},\"size\":6,\"symbol\":\"circle\"},\"mode\":\"lines+markers\",\"name\":\"MacNewgeoProb_504mpi_2omp\",\"x\":[774144000.0,1161216000.0,1548288000.0,1935360000.0,2322432000.0,2709504000.0,3096576000.0,3483648000.0],\"y\":[185.16834,187.77339,178.99308,158.46894,148.59999,134.55918,130.72437,121.82751],\"type\":\"scatter\"},{\"line\":{\"color\":\"Brown\",\"width\":3},\"marker\":{\"line\":{\"color\":\"darkred\",\"width\":2},\"size\":6,\"symbol\":\"circle\"},\"mode\":\"lines+markers\",\"name\":\"MacNewgeoNonProb_504mpi_2omp\",\"x\":[774144000.0,1161216000.0,1548288000.0,1935360000.0,2322432000.0,2709504000.0,3096576000.0,3483648000.0,3870720000.0],\"y\":[179.32887000000002,185.71895999999998,176.1291,155.65599,143.62614000000002,132.70005,130.2336,120.6702,119.10654],\"type\":\"scatter\"}],                        {\"template\":{\"data\":{\"histogram2dcontour\":[{\"type\":\"histogram2dcontour\",\"colorbar\":{\"outlinewidth\":0,\"ticks\":\"\"},\"colorscale\":[[0.0,\"#0d0887\"],[0.1111111111111111,\"#46039f\"],[0.2222222222222222,\"#7201a8\"],[0.3333333333333333,\"#9c179e\"],[0.4444444444444444,\"#bd3786\"],[0.5555555555555556,\"#d8576b\"],[0.6666666666666666,\"#ed7953\"],[0.7777777777777778,\"#fb9f3a\"],[0.8888888888888888,\"#fdca26\"],[1.0,\"#f0f921\"]]}],\"choropleth\":[{\"type\":\"choropleth\",\"colorbar\":{\"outlinewidth\":0,\"ticks\":\"\"}}],\"histogram2d\":[{\"type\":\"histogram2d\",\"colorbar\":{\"outlinewidth\":0,\"ticks\":\"\"},\"colorscale\":[[0.0,\"#0d0887\"],[0.1111111111111111,\"#46039f\"],[0.2222222222222222,\"#7201a8\"],[0.3333333333333333,\"#9c179e\"],[0.4444444444444444,\"#bd3786\"],[0.5555555555555556,\"#d8576b\"],[0.6666666666666666,\"#ed7953\"],[0.7777777777777778,\"#fb9f3a\"],[0.8888888888888888,\"#fdca26\"],[1.0,\"#f0f921\"]]}],\"heatmap\":[{\"type\":\"heatmap\",\"colorbar\":{\"outlinewidth\":0,\"ticks\":\"\"},\"colorscale\":[[0.0,\"#0d0887\"],[0.1111111111111111,\"#46039f\"],[0.2222222222222222,\"#7201a8\"],[0.3333333333333333,\"#9c179e\"],[0.4444444444444444,\"#bd3786\"],[0.5555555555555556,\"#d8576b\"],[0.6666666666666666,\"#ed7953\"],[0.7777777777777778,\"#fb9f3a\"],[0.8888888888888888,\"#fdca26\"],[1.0,\"#f0f921\"]]}],\"heatmapgl\":[{\"type\":\"heatmapgl\",\"colorbar\":{\"outlinewidth\":0,\"ticks\":\"\"},\"colorscale\":[[0.0,\"#0d0887\"],[0.1111111111111111,\"#46039f\"],[0.2222222222222222,\"#7201a8\"],[0.3333333333333333,\"#9c179e\"],[0.4444444444444444,\"#bd3786\"],[0.5555555555555556,\"#d8576b\"],[0.6666666666666666,\"#ed7953\"],[0.7777777777777778,\"#fb9f3a\"],[0.8888888888888888,\"#fdca26\"],[1.0,\"#f0f921\"]]}],\"contourcarpet\":[{\"type\":\"contourcarpet\",\"colorbar\":{\"outlinewidth\":0,\"ticks\":\"\"}}],\"contour\":[{\"type\":\"contour\",\"colorbar\":{\"outlinewidth\":0,\"ticks\":\"\"},\"colorscale\":[[0.0,\"#0d0887\"],[0.1111111111111111,\"#46039f\"],[0.2222222222222222,\"#7201a8\"],[0.3333333333333333,\"#9c179e\"],[0.4444444444444444,\"#bd3786\"],[0.5555555555555556,\"#d8576b\"],[0.6666666666666666,\"#ed7953\"],[0.7777777777777778,\"#fb9f3a\"],[0.8888888888888888,\"#fdca26\"],[1.0,\"#f0f921\"]]}],\"surface\":[{\"type\":\"surface\",\"colorbar\":{\"outlinewidth\":0,\"ticks\":\"\"},\"colorscale\":[[0.0,\"#0d0887\"],[0.1111111111111111,\"#46039f\"],[0.2222222222222222,\"#7201a8\"],[0.3333333333333333,\"#9c179e\"],[0.4444444444444444,\"#bd3786\"],[0.5555555555555556,\"#d8576b\"],[0.6666666666666666,\"#ed7953\"],[0.7777777777777778,\"#fb9f3a\"],[0.8888888888888888,\"#fdca26\"],[1.0,\"#f0f921\"]]}],\"mesh3d\":[{\"type\":\"mesh3d\",\"colorbar\":{\"outlinewidth\":0,\"ticks\":\"\"}}],\"scatter\":[{\"fillpattern\":{\"fillmode\":\"overlay\",\"size\":10,\"solidity\":0.2},\"type\":\"scatter\"}],\"parcoords\":[{\"type\":\"parcoords\",\"line\":{\"colorbar\":{\"outlinewidth\":0,\"ticks\":\"\"}}}],\"scatterpolargl\":[{\"type\":\"scatterpolargl\",\"marker\":{\"colorbar\":{\"outlinewidth\":0,\"ticks\":\"\"}}}],\"bar\":[{\"error_x\":{\"color\":\"#2a3f5f\"},\"error_y\":{\"color\":\"#2a3f5f\"},\"marker\":{\"line\":{\"color\":\"#E5ECF6\",\"width\":0.5},\"pattern\":{\"fillmode\":\"overlay\",\"size\":10,\"solidity\":0.2}},\"type\":\"bar\"}],\"scattergeo\":[{\"type\":\"scattergeo\",\"marker\":{\"colorbar\":{\"outlinewidth\":0,\"ticks\":\"\"}}}],\"scatterpolar\":[{\"type\":\"scatterpolar\",\"marker\":{\"colorbar\":{\"outlinewidth\":0,\"ticks\":\"\"}}}],\"histogram\":[{\"marker\":{\"pattern\":{\"fillmode\":\"overlay\",\"size\":10,\"solidity\":0.2}},\"type\":\"histogram\"}],\"scattergl\":[{\"type\":\"scattergl\",\"marker\":{\"colorbar\":{\"outlinewidth\":0,\"ticks\":\"\"}}}],\"scatter3d\":[{\"type\":\"scatter3d\",\"line\":{\"colorbar\":{\"outlinewidth\":0,\"ticks\":\"\"}},\"marker\":{\"colorbar\":{\"outlinewidth\":0,\"ticks\":\"\"}}}],\"scattermapbox\":[{\"type\":\"scattermapbox\",\"marker\":{\"colorbar\":{\"outlinewidth\":0,\"ticks\":\"\"}}}],\"scatterternary\":[{\"type\":\"scatterternary\",\"marker\":{\"colorbar\":{\"outlinewidth\":0,\"ticks\":\"\"}}}],\"scattercarpet\":[{\"type\":\"scattercarpet\",\"marker\":{\"colorbar\":{\"outlinewidth\":0,\"ticks\":\"\"}}}],\"carpet\":[{\"aaxis\":{\"endlinecolor\":\"#2a3f5f\",\"gridcolor\":\"white\",\"linecolor\":\"white\",\"minorgridcolor\":\"white\",\"startlinecolor\":\"#2a3f5f\"},\"baxis\":{\"endlinecolor\":\"#2a3f5f\",\"gridcolor\":\"white\",\"linecolor\":\"white\",\"minorgridcolor\":\"white\",\"startlinecolor\":\"#2a3f5f\"},\"type\":\"carpet\"}],\"table\":[{\"cells\":{\"fill\":{\"color\":\"#EBF0F8\"},\"line\":{\"color\":\"white\"}},\"header\":{\"fill\":{\"color\":\"#C8D4E3\"},\"line\":{\"color\":\"white\"}},\"type\":\"table\"}],\"barpolar\":[{\"marker\":{\"line\":{\"color\":\"#E5ECF6\",\"width\":0.5},\"pattern\":{\"fillmode\":\"overlay\",\"size\":10,\"solidity\":0.2}},\"type\":\"barpolar\"}],\"pie\":[{\"automargin\":true,\"type\":\"pie\"}]},\"layout\":{\"autotypenumbers\":\"strict\",\"colorway\":[\"#636efa\",\"#EF553B\",\"#00cc96\",\"#ab63fa\",\"#FFA15A\",\"#19d3f3\",\"#FF6692\",\"#B6E880\",\"#FF97FF\",\"#FECB52\"],\"font\":{\"color\":\"#2a3f5f\"},\"hovermode\":\"closest\",\"hoverlabel\":{\"align\":\"left\"},\"paper_bgcolor\":\"white\",\"plot_bgcolor\":\"#E5ECF6\",\"polar\":{\"bgcolor\":\"#E5ECF6\",\"angularaxis\":{\"gridcolor\":\"white\",\"linecolor\":\"white\",\"ticks\":\"\"},\"radialaxis\":{\"gridcolor\":\"white\",\"linecolor\":\"white\",\"ticks\":\"\"}},\"ternary\":{\"bgcolor\":\"#E5ECF6\",\"aaxis\":{\"gridcolor\":\"white\",\"linecolor\":\"white\",\"ticks\":\"\"},\"baxis\":{\"gridcolor\":\"white\",\"linecolor\":\"white\",\"ticks\":\"\"},\"caxis\":{\"gridcolor\":\"white\",\"linecolor\":\"white\",\"ticks\":\"\"}},\"coloraxis\":{\"colorbar\":{\"outlinewidth\":0,\"ticks\":\"\"}},\"colorscale\":{\"sequential\":[[0.0,\"#0d0887\"],[0.1111111111111111,\"#46039f\"],[0.2222222222222222,\"#7201a8\"],[0.3333333333333333,\"#9c179e\"],[0.4444444444444444,\"#bd3786\"],[0.5555555555555556,\"#d8576b\"],[0.6666666666666666,\"#ed7953\"],[0.7777777777777778,\"#fb9f3a\"],[0.8888888888888888,\"#fdca26\"],[1.0,\"#f0f921\"]],\"sequentialminus\":[[0.0,\"#0d0887\"],[0.1111111111111111,\"#46039f\"],[0.2222222222222222,\"#7201a8\"],[0.3333333333333333,\"#9c179e\"],[0.4444444444444444,\"#bd3786\"],[0.5555555555555556,\"#d8576b\"],[0.6666666666666666,\"#ed7953\"],[0.7777777777777778,\"#fb9f3a\"],[0.8888888888888888,\"#fdca26\"],[1.0,\"#f0f921\"]],\"diverging\":[[0,\"#8e0152\"],[0.1,\"#c51b7d\"],[0.2,\"#de77ae\"],[0.3,\"#f1b6da\"],[0.4,\"#fde0ef\"],[0.5,\"#f7f7f7\"],[0.6,\"#e6f5d0\"],[0.7,\"#b8e186\"],[0.8,\"#7fbc41\"],[0.9,\"#4d9221\"],[1,\"#276419\"]]},\"xaxis\":{\"gridcolor\":\"white\",\"linecolor\":\"white\",\"ticks\":\"\",\"title\":{\"standoff\":15},\"zerolinecolor\":\"white\",\"automargin\":true,\"zerolinewidth\":2},\"yaxis\":{\"gridcolor\":\"white\",\"linecolor\":\"white\",\"ticks\":\"\",\"title\":{\"standoff\":15},\"zerolinecolor\":\"white\",\"automargin\":true,\"zerolinewidth\":2},\"scene\":{\"xaxis\":{\"backgroundcolor\":\"#E5ECF6\",\"gridcolor\":\"white\",\"linecolor\":\"white\",\"showbackground\":true,\"ticks\":\"\",\"zerolinecolor\":\"white\",\"gridwidth\":2},\"yaxis\":{\"backgroundcolor\":\"#E5ECF6\",\"gridcolor\":\"white\",\"linecolor\":\"white\",\"showbackground\":true,\"ticks\":\"\",\"zerolinecolor\":\"white\",\"gridwidth\":2},\"zaxis\":{\"backgroundcolor\":\"#E5ECF6\",\"gridcolor\":\"white\",\"linecolor\":\"white\",\"showbackground\":true,\"ticks\":\"\",\"zerolinecolor\":\"white\",\"gridwidth\":2}},\"shapedefaults\":{\"line\":{\"color\":\"#2a3f5f\"}},\"annotationdefaults\":{\"arrowcolor\":\"#2a3f5f\",\"arrowhead\":0,\"arrowwidth\":1},\"geo\":{\"bgcolor\":\"white\",\"landcolor\":\"#E5ECF6\",\"subunitcolor\":\"white\",\"showland\":true,\"showlakes\":true,\"lakecolor\":\"white\"},\"title\":{\"x\":0.05},\"mapbox\":{\"style\":\"light\"}}},\"shapes\":[{\"line\":{\"color\":\"green\",\"dash\":\"dash\",\"width\":3},\"type\":\"line\",\"x0\":512000000.0,\"x1\":512000000.0,\"xref\":\"x\",\"y0\":0,\"y1\":1,\"yref\":\"y domain\"}],\"annotations\":[{\"align\":\"left\",\"arrowcolor\":\"#636363\",\"arrowhead\":1,\"arrowsize\":1,\"arrowwidth\":2,\"ax\":-20,\"ay\":-30,\"font\":{\"color\":\"purple\",\"family\":\"Sans Serif\",\"size\":12},\"showarrow\":false,\"text\":\"LLC Size Per Node\",\"x\":\"512e6\",\"y\":130,\"yanchor\":\"bottom\"}],\"xaxis\":{\"title\":{\"text\":\"Dirc_Data_Mov\"},\"ticks\":\"outside\"},\"yaxis\":{\"title\":{\"text\":\"GFLOPs/Node\"},\"ticks\":\"outside\"},\"title\":{\"text\":\"\\\"Newgeo-Macro (8-Nodes): probempi vs nonprobempi\\\" GFlops Measurement\"}},                        {\"responsive\": true}                    ).then(function(){\n",
       "                            \n",
       "var gd = document.getElementById('7faffe1b-7a56-4f1c-a535-10d9dcea40ba');\n",
       "var x = new MutationObserver(function (mutations, observer) {{\n",
       "        var display = window.getComputedStyle(gd).display;\n",
       "        if (!display || display === 'none') {{\n",
       "            console.log([gd, 'removed!']);\n",
       "            Plotly.purge(gd);\n",
       "            observer.disconnect();\n",
       "        }}\n",
       "}});\n",
       "\n",
       "// Listen for the removal of the full notebook cells\n",
       "var notebookContainer = gd.closest('#notebook-container');\n",
       "if (notebookContainer) {{\n",
       "    x.observe(notebookContainer, {childList: true});\n",
       "}}\n",
       "\n",
       "// Listen for the clearing of the current output cell\n",
       "var outputEl = gd.closest('.output');\n",
       "if (outputEl) {{\n",
       "    x.observe(outputEl, {childList: true});\n",
       "}}\n",
       "\n",
       "                        })                };                });            </script>        </div>"
      ]
     },
     "metadata": {},
     "output_type": "display_data"
    }
   ],
   "source": [
    "fig = go.Figure() \n",
    "\n",
    "# Case 1\n",
    "fig.add_trace(go.Scatter(x=(dfn8MacNewgeoProb_1024mpi_1omp.Dirc_Data_Mov*(dfn8MacNewgeoProb_1024mpi_1omp.MPI_size/8)), \n",
    "                         y=(dfn8MacNewgeoProb_1024mpi_1omp.GFLOPS*(dfn8MacNewgeoProb_1024mpi_1omp.MPI_size/8)), \n",
    "                         mode='lines+markers', \n",
    "                         name='MacNewgeoProb_1024mpi_1omp',\n",
    "                         line=dict(color='darkcyan',width=3),\n",
    "                         marker=dict(symbol='hexagon',size=9, line=dict(color='yellow',width=1))))\n",
    "\n",
    "fig.add_trace(go.Scatter(x=(dfn8MacNewgeoNonProb_1024mpi_1omp.Dirc_Data_Mov*(dfn8MacNewgeoNonProb_1024mpi_1omp.MPI_size/8)), \n",
    "                         y=(dfn8MacNewgeoNonProb_1024mpi_1omp.GFLOPS*(dfn8MacNewgeoNonProb_1024mpi_1omp.MPI_size/8)), \n",
    "                         mode='lines+markers', \n",
    "                         name='MacNonFusNonProb_1024mpi_1omp',\n",
    "                         line=dict(color='magenta',width=3),\n",
    "                         marker=dict(symbol='hexagon',size=9, line=dict(color='yellow',width=1))))\n",
    "\n",
    "\n",
    "# Case 2\n",
    "fig.add_trace(go.Scatter(x=(dfn8MacNewgeoProb_512mpi_2omp.Dirc_Data_Mov*(dfn8MacNewgeoProb_512mpi_2omp.MPI_size/8)), \n",
    "                         y=(dfn8MacNewgeoProb_512mpi_2omp.GFLOPS*(dfn8MacNewgeoProb_512mpi_2omp.MPI_size/8)), \n",
    "                         mode='lines+markers', \n",
    "                         name='MacNewgeoProb_512mpi_2omp',\n",
    "                         line=dict(color='royalblue',width=3),\n",
    "                         marker=dict(symbol='diamond',size=5,line=dict(color='MediumPurple',width=2))))\n",
    "\n",
    "fig.add_trace(go.Scatter(x=(dfn8MacNewgeoNonProb_512mpi_2omp.Dirc_Data_Mov*(dfn8MacNewgeoNonProb_512mpi_2omp.MPI_size/8)), \n",
    "                         y=(dfn8MacNewgeoNonProb_512mpi_2omp.GFLOPS*(dfn8MacNewgeoNonProb_512mpi_2omp.MPI_size/8)), \n",
    "                         mode='lines+markers', \n",
    "                         name='MacNewgeoNonProb_512mpi_2omp',\n",
    "                         line=dict(color='sandybrown',width=3),\n",
    "                         marker=dict(symbol='diamond',size=5,line=dict(color='MediumPurple',width=2))))\n",
    "\n",
    "\n",
    "# Case 3\n",
    "fig.add_trace(go.Scatter(x=(dfn8MacNewgeoProb_256mpi_4omp.Dirc_Data_Mov*(dfn8MacNewgeoProb_256mpi_4omp.MPI_size/8)), \n",
    "                         y=(dfn8MacNewgeoProb_256mpi_4omp.GFLOPS*(dfn8MacNewgeoProb_256mpi_4omp.MPI_size/8)), \n",
    "                         mode='lines+markers', \n",
    "                         name='MacNewgeoProb_256mpi_4omp',\n",
    "                         line=dict(color='darkblue',width=3),\n",
    "                         marker=dict(symbol='circle',size=7, line=dict(color='tomato',width=2))))\n",
    "\n",
    "fig.add_trace(go.Scatter(x=(dfn8MacNewgeoNonProb_256mpi_4omp.Dirc_Data_Mov*(dfn8MacNewgeoNonProb_256mpi_4omp.MPI_size/8)), \n",
    "                         y=(dfn8MacNewgeoNonProb_256mpi_4omp.GFLOPS*(dfn8MacNewgeoNonProb_256mpi_4omp.MPI_size/8)), \n",
    "                         mode='lines+markers', \n",
    "                         name='MacNewgeoNonProb_256mpi_4omp',\n",
    "                         line=dict(color='cyan',width=3),\n",
    "                         marker=dict(symbol='circle',size=7,line=dict(color='Purple',width=2))))\n",
    "\n",
    "\n",
    "\n",
    "# Case 4\n",
    "fig.add_trace(go.Scatter(x=(dfn8MacNewgeoProb_128mpi_8omp.Dirc_Data_Mov*(dfn8MacNewgeoProb_128mpi_8omp.MPI_size/8)), \n",
    "                         y=(dfn8MacNewgeoProb_128mpi_8omp.GFLOPS*(dfn8MacNewgeoProb_128mpi_8omp.MPI_size/8)), \n",
    "                         mode='lines+markers', \n",
    "                         name='MacNewgeoProb_128mpi_8omp',\n",
    "                         line=dict(color='blue',width=3),\n",
    "                         marker=dict(symbol='star',size=7, line=dict(color='black',width=1))))\n",
    "\n",
    "fig.add_trace(go.Scatter(x=(dfn8MacNewgeoNonProb_128mpi_8omp.Dirc_Data_Mov*(dfn8MacNewgeoNonProb_128mpi_8omp.MPI_size/8)), \n",
    "                         y=(dfn8MacNewgeoNonProb_128mpi_8omp.GFLOPS*(dfn8MacNewgeoNonProb_128mpi_8omp.MPI_size/8)), \n",
    "                         mode='lines+markers', \n",
    "                         name='MacNewgeoNonProb_128mpi_8omp',\n",
    "                         line=dict(color='red',width=3),\n",
    "                         marker=dict(symbol='star',size=7, line=dict(color='black',width=1))))\n",
    "\n",
    "\n",
    "# Case 5\n",
    "fig.add_trace(go.Scatter(x=(dfn8MacNewgeoProb_64mpi_16omp.Dirc_Data_Mov*(dfn8MacNewgeoProb_64mpi_16omp.MPI_size/8)), \n",
    "                         y=(dfn8MacNewgeoProb_64mpi_16omp.GFLOPS*(dfn8MacNewgeoProb_64mpi_16omp.MPI_size/8)), \n",
    "                         mode='lines+markers', \n",
    "                         name='MacNewgeoProb_64mpi_16omp',\n",
    "                         line=dict(color='chartreuse',width=3),\n",
    "                         marker=dict(symbol='square-dot',size=6, line=dict(color='mediumvioletred',width=1))))\n",
    "\n",
    "fig.add_trace(go.Scatter(x=(dfn8MacNewgeoNonProb_64mpi_16omp.Dirc_Data_Mov*(dfn8MacNewgeoNonProb_64mpi_16omp.MPI_size/8)), \n",
    "                         y=(dfn8MacNewgeoNonProb_64mpi_16omp.GFLOPS*(dfn8MacNewgeoNonProb_64mpi_16omp.MPI_size/8)), \n",
    "                         mode='lines+markers', \n",
    "                         name='MacNewgeoNonProb_64mpi_16omp',\n",
    "                         line=dict(color='black',width=3),\n",
    "                         marker=dict(symbol='square-dot',size=6, line=dict(color='mediumvioletred',width=1))))\n",
    "\n",
    "\n",
    "# Case 6\n",
    "fig.add_trace(go.Scatter(x=(dfn8MacNewgeoProb_168mpi_6omp.Dirc_Data_Mov*(dfn8MacNewgeoProb_168mpi_6omp.MPI_size/8)), \n",
    "                         y=(dfn8MacNewgeoProb_168mpi_6omp.GFLOPS*(dfn8MacNewgeoProb_168mpi_6omp.MPI_size/8)), \n",
    "                         mode='lines+markers', \n",
    "                         name='MacNewgeoProb_168mpi_6omp',\n",
    "                         line=dict(color='gold',width=3),\n",
    "                         marker=dict(symbol='triangle-up',size=6, line=dict(color='black',width=1))))\n",
    "\n",
    "fig.add_trace(go.Scatter(x=(dfn8MacNewgeoNonProb_168mpi_6omp.Dirc_Data_Mov*(dfn8MacNewgeoNonProb_168mpi_6omp.MPI_size/8)), \n",
    "                         y=(dfn8MacNewgeoNonProb_168mpi_6omp.GFLOPS*(dfn8MacNewgeoNonProb_168mpi_6omp.MPI_size/8)), \n",
    "                         mode='lines+markers', \n",
    "                         name='MacNewgeoNonProb_168mpi_6omp',\n",
    "                         line=dict(color='dimgray',width=3),\n",
    "                         marker=dict(symbol='triangle-up',size=6, line=dict(color='black',width=1))))\n",
    "\n",
    "\n",
    "\n",
    "# Case 7\n",
    "fig.add_trace(go.Scatter(x=(dfn8MacNewgeoProb_504mpi_2omp.Dirc_Data_Mov*(dfn8MacNewgeoProb_504mpi_2omp.MPI_size/8)), \n",
    "                         y=(dfn8MacNewgeoProb_504mpi_2omp.GFLOPS*(dfn8MacNewgeoProb_504mpi_2omp.MPI_size/8)), \n",
    "                         mode='lines+markers', \n",
    "                         name='MacNewgeoProb_504mpi_2omp',\n",
    "                         line=dict(color='olive',width=3),\n",
    "                         marker=dict(symbol='circle',size=6, line=dict(color='olive',width=2))))\n",
    "\n",
    "fig.add_trace(go.Scatter(x=(dfn8MacNewgeoNonProb_504mpi_2omp.Dirc_Data_Mov*(dfn8MacNewgeoNonProb_504mpi_2omp.MPI_size/8)), \n",
    "                         y=(dfn8MacNewgeoNonProb_504mpi_2omp.GFLOPS*(dfn8MacNewgeoNonProb_504mpi_2omp.MPI_size/8)), \n",
    "                         mode='lines+markers', \n",
    "                         name='MacNewgeoNonProb_504mpi_2omp',\n",
    "                         line=dict(color='Brown',width=3),\n",
    "                         marker=dict(symbol='circle',size=6, line=dict(color='darkred',width=2))))\n",
    "\n",
    "\n",
    "\n",
    "\n",
    "# Adding a vertical line\n",
    "fig.add_vline(x=512e6, line_width=3, line_dash=\"dash\", line_color=\"green\")\n",
    "# fig.add_hline(y=1024, line_width=3, line_dash=\"dash\", line_color=\"red\")\n",
    "\n",
    "# Add annotation\n",
    "fig.add_annotation(\n",
    "    x='512e6'\n",
    "    , y=130\n",
    "    , text=f'LLC Size Per Node'\n",
    "    , yanchor='bottom'\n",
    "    , showarrow=False\n",
    "    , arrowhead=1\n",
    "    , arrowsize=1\n",
    "    , arrowwidth=2\n",
    "    , arrowcolor=\"#636363\"\n",
    "    , ax=-20\n",
    "    , ay=-30\n",
    "    , font=dict(size=12, color=\"purple\", family=\"Sans Serif\")\n",
    "    , align=\"left\"\n",
    "    ,)\n",
    "\n",
    "fig.update_layout(title='\"Newgeo-Macro (8-Nodes): probempi vs nonprobempi\" GFlops Measurement',\n",
    "                  xaxis_title='Dirc_Data_Mov', yaxis_title='GFLOPs/Node', \n",
    "                  xaxis=dict(ticks=\"outside\"),  \n",
    "                  yaxis=dict(ticks=\"outside\"))"
   ]
  },
  {
   "cell_type": "markdown",
   "id": "1e3ef20f",
   "metadata": {},
   "source": [
    "## BANDWIDTH - Newgeo Macro: Probempi vs Nonprobempi"
   ]
  },
  {
   "cell_type": "code",
   "execution_count": 26,
   "id": "e5bde082",
   "metadata": {},
   "outputs": [
    {
     "data": {
      "application/vnd.plotly.v1+json": {
       "config": {
        "plotlyServerURL": "https://plot.ly"
       },
       "data": [
        {
         "line": {
          "color": "darkcyan",
          "width": 3
         },
         "marker": {
          "line": {
           "color": "yellow",
           "width": 1
          },
          "size": 9,
          "symbol": "hexagon"
         },
         "mode": "lines+markers",
         "name": "MacNewgeoProb_1024mpi_1omp",
         "type": "scatter",
         "x": [
          1572864000,
          1966080000,
          2359296000,
          2752512000,
          3145728000,
          3538944000
         ],
         "y": [
          394.3104,
          343.46624,
          315.10528,
          306.32704,
          293.19168,
          206.43584
         ]
        },
        {
         "line": {
          "color": "magenta",
          "width": 3
         },
         "marker": {
          "line": {
           "color": "yellow",
           "width": 1
          },
          "size": 9,
          "symbol": "hexagon"
         },
         "mode": "lines+markers",
         "name": "MacNonFusNonProb_1024mpi_1omp",
         "type": "scatter",
         "x": [
          1572864000,
          1966080000,
          2359296000,
          2752512000,
          3145728000,
          3538944000,
          3932160000
         ],
         "y": [
          378.80192,
          339.73632,
          298.99136,
          274.30912,
          303.3408,
          284.86272,
          277.14304
         ]
        },
        {
         "line": {
          "color": "royalblue",
          "width": 3
         },
         "marker": {
          "line": {
           "color": "MediumPurple",
           "width": 2
          },
          "size": 5,
          "symbol": "diamond"
         },
         "mode": "lines+markers",
         "name": "MacNewgeoProb_512mpi_2omp",
         "type": "scatter",
         "x": [
          786432000,
          983040000,
          1179648000,
          1376256000,
          1572864000,
          1769472000,
          1966080000,
          2162688000,
          2359296000,
          2555904000,
          2752512000,
          2949120000,
          3145728000,
          3538944000,
          3735552000
         ],
         "y": [
          414.67712,
          456.22016,
          452.544,
          443.37728,
          428.94976,
          376.98432,
          369.5552,
          344.8736,
          347.27872,
          324.59712,
          316.55616,
          274.56448,
          303.87712,
          286.52544,
          289.07392
         ]
        },
        {
         "line": {
          "color": "sandybrown",
          "width": 3
         },
         "marker": {
          "line": {
           "color": "MediumPurple",
           "width": 2
          },
          "size": 5,
          "symbol": "diamond"
         },
         "mode": "lines+markers",
         "name": "MacNewgeoNonProb_512mpi_2omp",
         "type": "scatter",
         "x": [
          786432000,
          983040000,
          1179648000,
          1376256000,
          1572864000,
          1769472000,
          1966080000,
          2162688000,
          2359296000,
          2555904000,
          2752512000,
          2949120000,
          3145728000,
          3342336000,
          3538944000,
          3735552000,
          3932160000
         ],
         "y": [
          429.00992,
          451.34016,
          412.87168,
          423.30304,
          421.81696,
          388.00832,
          355.34976,
          351.83808,
          349.0048,
          330.73664,
          303.05088,
          305.53664,
          306.41664,
          281.072,
          282.34432,
          281.16416,
          277.76576
         ]
        },
        {
         "line": {
          "color": "darkblue",
          "width": 3
         },
         "marker": {
          "line": {
           "color": "tomato",
           "width": 2
          },
          "size": 7,
          "symbol": "circle"
         },
         "mode": "lines+markers",
         "name": "MacNewgeoProb_256mpi_4omp",
         "type": "scatter",
         "x": [
          589824000,
          688128000,
          786432000,
          884736000,
          983040000,
          1179648000,
          1277952000,
          1376256000,
          1474560000,
          1572864000,
          1671168000,
          1769472000,
          1867776000,
          1966080000,
          2064384000,
          2162688000,
          2260992000,
          2359296000,
          2555904000,
          2654208000,
          2752512000,
          2850816000,
          2949120000,
          3047424000,
          3145728000,
          3244032000,
          3342336000,
          3440640000,
          3538944000,
          3637248000,
          3735552000,
          3833856000,
          3932160000
         ],
         "y": [
          355.4112,
          422.0512,
          378.272,
          437.2608,
          452.384,
          397.1392,
          449.056,
          412.544,
          430.6976,
          432.048,
          398.5504,
          367.5584,
          394.3296,
          354.3456,
          360.1664,
          344.2496,
          353.7504,
          319.13344,
          326.7136,
          318.43456,
          320.576,
          313.65024,
          306.82752,
          312.42432,
          310.41472,
          295.71584,
          279.3184,
          302.42016,
          290.4176,
          295.93792,
          275.28992,
          271.85536,
          278.38496
         ]
        },
        {
         "line": {
          "color": "cyan",
          "width": 3
         },
         "marker": {
          "line": {
           "color": "Purple",
           "width": 2
          },
          "size": 7,
          "symbol": "circle"
         },
         "mode": "lines+markers",
         "name": "MacNewgeoNonProb_256mpi_4omp",
         "type": "scatter",
         "x": [
          589824000,
          688128000,
          786432000,
          884736000,
          983040000,
          1081344000,
          1179648000,
          1277952000,
          1376256000,
          1474560000,
          1572864000,
          1671168000,
          1769472000,
          1867776000,
          1966080000,
          2064384000,
          2162688000,
          2260992000,
          2359296000,
          2457600000,
          2555904000,
          2654208000,
          2752512000,
          2850816000,
          2949120000,
          3047424000,
          3145728000,
          3244032000,
          3342336000,
          3440640000,
          3538944000,
          3637248000,
          3735552000,
          3932160000
         ],
         "y": [
          347.9936,
          400.688,
          386.1536,
          408.5984,
          421.92,
          420.432,
          437.0752,
          388.3936,
          361.4112,
          413.5712,
          400.2912,
          388.272,
          370.2464,
          367.6192,
          322.2912,
          353.3664,
          344.2848,
          343.344,
          341.136,
          306.83392,
          323.5392,
          316.50336,
          323.3632,
          280.23456,
          274.92416,
          305.94368,
          294.98528,
          287.21632,
          288.37056,
          271.4768,
          280.82304,
          280.72832,
          274.91552,
          277.75232
         ]
        },
        {
         "line": {
          "color": "blue",
          "width": 3
         },
         "marker": {
          "line": {
           "color": "black",
           "width": 1
          },
          "size": 7,
          "symbol": "star"
         },
         "mode": "lines+markers",
         "name": "MacNewgeoProb_128mpi_8omp",
         "type": "scatter",
         "x": [
          540672000,
          589824000,
          638976000,
          688128000,
          737280000,
          786432000,
          835584000,
          884736000,
          933888000,
          983040000,
          1032192000,
          1081344000,
          1130496000,
          1179648000,
          1228800000,
          1277952000,
          1327104000,
          1376256000,
          1425408000,
          1474560000,
          1523712000,
          1572864000,
          1622016000,
          1671168000,
          1720320000,
          1769472000,
          1818624000,
          1867776000,
          1916928000,
          1966080000,
          2015232000,
          2064384000,
          2113536000,
          2162688000,
          2211840000,
          2260992000,
          2310144000,
          2359296000,
          2408448000,
          2457600000,
          2506752000,
          2555904000,
          2605056000,
          2654208000,
          2703360000,
          2752512000,
          2801664000,
          2850816000,
          2899968000,
          2949120000,
          2998272000,
          3047424000,
          3096576000,
          3145728000,
          3194880000,
          3244032000,
          3293184000,
          3342336000,
          3391488000,
          3440640000,
          3489792000,
          3538944000,
          3588096000,
          3637248000,
          3686400000,
          3735552000,
          3784704000,
          3833856000,
          3883008000,
          3932160000
         ],
         "y": [
          363.8656,
          363.4416,
          376.5248,
          378.1584,
          307.9712,
          377.6864,
          402.4656,
          354.848,
          391.0496,
          406.848,
          394.5056,
          364.0784,
          421.344,
          359.8512,
          412.144,
          352.8528,
          370.1328,
          396.6928,
          419.5504,
          400.888,
          395.824,
          406.5744,
          379.1232,
          390.7104,
          383.2016,
          374.968,
          374.7296,
          317.5696,
          360.2256,
          343.5648,
          360.7264,
          346.1664,
          336.9312,
          319.5856,
          334.4576,
          320.4656,
          332.5904,
          322.2896,
          334.048,
          317.112,
          316.0032,
          288.1168,
          297.2624,
          310.9008,
          315.8496,
          311.3984,
          301.952,
          298.2912,
          308.7536,
          296.456,
          296.384,
          291.7952,
          284.3056,
          293.288,
          297.4736,
          284.2384,
          294.4128,
          279.9968,
          275.5584,
          278.9696,
          279.7472,
          268.0528,
          272.3872,
          275.1776,
          264.1904,
          274.9072,
          278.1792,
          268.1488,
          276.272,
          267.536
         ]
        },
        {
         "line": {
          "color": "red",
          "width": 3
         },
         "marker": {
          "line": {
           "color": "black",
           "width": 1
          },
          "size": 7,
          "symbol": "star"
         },
         "mode": "lines+markers",
         "name": "MacNewgeoNonProb_128mpi_8omp",
         "type": "scatter",
         "x": [
          540672000,
          589824000,
          638976000,
          688128000,
          737280000,
          786432000,
          835584000,
          884736000,
          933888000,
          983040000,
          1032192000,
          1081344000,
          1130496000,
          1179648000,
          1228800000,
          1277952000,
          1327104000,
          1376256000,
          1425408000,
          1474560000,
          1523712000,
          1572864000,
          1622016000,
          1671168000,
          1720320000,
          1769472000,
          1818624000,
          1867776000,
          1916928000,
          1966080000,
          2015232000,
          2064384000,
          2113536000,
          2162688000,
          2211840000,
          2260992000,
          2310144000,
          2359296000,
          2408448000,
          2457600000,
          2506752000,
          2555904000,
          2605056000,
          2654208000,
          2703360000,
          2752512000,
          2801664000,
          2850816000,
          2899968000,
          2949120000,
          2998272000,
          3047424000,
          3096576000,
          3145728000,
          3194880000,
          3244032000,
          3293184000,
          3391488000,
          3440640000,
          3489792000,
          3538944000,
          3588096000,
          3637248000,
          3686400000,
          3735552000,
          3784704000,
          3833856000,
          3883008000,
          3932160000
         ],
         "y": [
          332.624,
          318.968,
          347.5456,
          364.272,
          339.6032,
          382.3024,
          385.0608,
          361.1568,
          376.2016,
          399.336,
          389.1632,
          385.8448,
          400.8144,
          398.0928,
          392.9024,
          400.256,
          396.2144,
          397.1008,
          395.0032,
          390.4672,
          385.2528,
          391.7504,
          361.776,
          346.3824,
          364.464,
          329.5504,
          338.3664,
          349.5776,
          332.9584,
          357.648,
          340.664,
          331.6544,
          320.5344,
          342.6688,
          320.2368,
          322.3744,
          299.9808,
          330.0208,
          313.7216,
          311.5632,
          286.9408,
          318.432,
          300.1952,
          295.9904,
          298.7728,
          302.128,
          265.8688,
          272.0304,
          291.1536,
          287.2992,
          290.208,
          262.6416,
          260.1616,
          282.384,
          282.1216,
          272.7408,
          279.0752,
          261.5952,
          245.1328,
          273.8416,
          271.5408,
          266.1456,
          257.9152,
          259.6352,
          258.1472,
          271.1552,
          257.2016,
          248.9376,
          257.144
         ]
        },
        {
         "line": {
          "color": "chartreuse",
          "width": 3
         },
         "marker": {
          "line": {
           "color": "mediumvioletred",
           "width": 1
          },
          "size": 6,
          "symbol": "square-dot"
         },
         "mode": "lines+markers",
         "name": "MacNewgeoProb_64mpi_16omp",
         "type": "scatter",
         "x": [
          516096000,
          540672000,
          565248000,
          589824000,
          614400000,
          638976000,
          663552000,
          688128000,
          712704000,
          761856000,
          786432000,
          811008000,
          835584000,
          860160000,
          884736000,
          909312000,
          933888000,
          958464000,
          983040000,
          1007616000,
          1032192000,
          1056768000,
          1081344000,
          1105920000,
          1130496000,
          1155072000,
          1179648000,
          1204224000,
          1228800000,
          1253376000,
          1277952000,
          1327104000,
          1351680000,
          1376256000,
          1400832000,
          1425408000,
          1449984000,
          1474560000,
          1499136000,
          1523712000,
          1548288000,
          1572864000,
          1597440000,
          1622016000,
          1646592000,
          1671168000,
          1695744000,
          1720320000,
          1744896000,
          1769472000,
          1794048000,
          1818624000,
          1843200000,
          1867776000,
          1892352000,
          1916928000,
          1941504000,
          1966080000,
          2015232000,
          2039808000,
          2064384000,
          2088960000,
          2113536000,
          2138112000,
          2162688000,
          2187264000,
          2211840000,
          2236416000,
          2260992000,
          2285568000,
          2310144000,
          2334720000,
          2359296000,
          2383872000,
          2408448000,
          2433024000,
          2457600000,
          2482176000,
          2506752000,
          2531328000,
          2555904000,
          2580480000,
          2605056000,
          2629632000,
          2654208000,
          2678784000,
          2703360000,
          2727936000,
          2752512000,
          2777088000,
          2801664000,
          2826240000,
          2850816000,
          2875392000,
          2899968000,
          2924544000,
          2949120000,
          2973696000,
          2998272000,
          3047424000,
          3072000000,
          3096576000,
          3121152000,
          3145728000,
          3194880000,
          3219456000,
          3244032000,
          3268608000,
          3293184000,
          3317760000,
          3342336000,
          3366912000,
          3391488000,
          3416064000,
          3440640000,
          3465216000,
          3489792000,
          3514368000,
          3538944000,
          3563520000,
          3588096000,
          3637248000,
          3661824000,
          3686400000,
          3710976000,
          3735552000,
          3760128000,
          3784704000,
          3809280000,
          3833856000,
          3858432000,
          3883008000,
          3907584000,
          3932160000
         ],
         "y": [
          264.7864,
          323.3552,
          321.3984,
          288.3328,
          295.7608,
          331.516,
          324.1872,
          322.848,
          95.8024,
          112.7832,
          337.1304,
          339.9176,
          349.8992,
          339.6408,
          48.66536,
          337.136,
          328.7432,
          330.0872,
          311.0704,
          196.4256,
          212.5032,
          332.7248,
          304.3432,
          290.3696,
          348.488,
          286.4656,
          323.8984,
          315.1832,
          276.9008,
          328.7304,
          327.1184,
          337.9384,
          340.3072,
          341.1184,
          336.7512,
          337.3024,
          331.124,
          336.5048,
          329.7112,
          297.6544,
          288.4736,
          315.2224,
          315.832,
          310.996,
          316.2792,
          308.6696,
          309.264,
          302.1592,
          306.3224,
          298.8936,
          283.888,
          294.3648,
          295.064,
          300.7,
          287.376,
          287.9264,
          286.9224,
          280.644,
          287.6952,
          261.5264,
          282.4896,
          286.4832,
          287.26,
          281.3728,
          291.3856,
          290.4872,
          282.9912,
          270.3848,
          262.2536,
          261.3176,
          273.1848,
          256.0608,
          271.3456,
          246.7392,
          270.2288,
          268.6552,
          272.4304,
          247.3928,
          265.9456,
          257.9904,
          273.9128,
          267.9296,
          265.7232,
          274.764,
          267.788,
          262.0544,
          258.0712,
          248.9192,
          261.2592,
          264.684,
          238.4232,
          264.116,
          256.7216,
          242.5192,
          252.4544,
          250.6592,
          260.7288,
          262.756,
          251.1376,
          260.0888,
          258.4976,
          129.7624,
          263.0728,
          251.3744,
          250.3312,
          258.8824,
          255.504,
          257.9648,
          232.296,
          227.7904,
          250.3184,
          249.4024,
          233.7248,
          226.2216,
          241.3224,
          240.9424,
          238.9168,
          249.0776,
          243.4632,
          247.8904,
          242.196,
          243.236,
          249.8304,
          241.4952,
          246.9584,
          228.2984,
          233.8272,
          226.556,
          244.2616,
          226.112,
          241.2032,
          236.664,
          236.0048,
          237.916
         ]
        },
        {
         "line": {
          "color": "black",
          "width": 3
         },
         "marker": {
          "line": {
           "color": "mediumvioletred",
           "width": 1
          },
          "size": 6,
          "symbol": "square-dot"
         },
         "mode": "lines+markers",
         "name": "MacNewgeoNonProb_64mpi_16omp",
         "type": "scatter",
         "x": [
          516096000,
          540672000,
          565248000,
          589824000,
          614400000,
          638976000,
          663552000,
          688128000,
          712704000,
          737280000,
          761856000,
          786432000,
          811008000,
          835584000,
          860160000,
          884736000,
          909312000,
          933888000,
          958464000,
          983040000,
          1007616000,
          1032192000,
          1056768000,
          1081344000,
          1105920000,
          1130496000,
          1155072000,
          1179648000,
          1204224000,
          1228800000,
          1253376000,
          1277952000,
          1302528000,
          1327104000,
          1351680000,
          1376256000,
          1400832000,
          1425408000,
          1449984000,
          1474560000,
          1499136000,
          1523712000,
          1548288000,
          1572864000,
          1597440000,
          1622016000,
          1646592000,
          1671168000,
          1695744000,
          1720320000,
          1744896000,
          1769472000,
          1794048000,
          1818624000,
          1867776000,
          1892352000,
          1916928000,
          1941504000,
          1966080000,
          1990656000,
          2015232000,
          2039808000,
          2064384000,
          2088960000,
          2113536000,
          2138112000,
          2162688000,
          2187264000,
          2211840000,
          2236416000,
          2260992000,
          2285568000,
          2310144000,
          2334720000,
          2359296000,
          2383872000,
          2408448000,
          2433024000,
          2457600000,
          2482176000,
          2506752000,
          2531328000,
          2555904000,
          2580480000,
          2605056000,
          2629632000,
          2654208000,
          2678784000,
          2703360000,
          2727936000,
          2752512000,
          2777088000,
          2801664000,
          2826240000,
          2850816000,
          2875392000,
          2899968000,
          2924544000,
          2949120000,
          2973696000,
          2998272000,
          3022848000,
          3047424000,
          3072000000,
          3096576000,
          3121152000,
          3145728000,
          3170304000,
          3194880000,
          3219456000,
          3244032000,
          3268608000,
          3293184000,
          3317760000,
          3342336000,
          3366912000,
          3391488000,
          3416064000,
          3440640000,
          3465216000,
          3489792000,
          3514368000,
          3538944000,
          3563520000,
          3588096000,
          3612672000,
          3637248000,
          3661824000,
          3686400000,
          3710976000,
          3735552000,
          3760128000,
          3784704000,
          3809280000,
          3833856000,
          3858432000,
          3883008000,
          3907584000,
          3932160000
         ],
         "y": [
          301.848,
          281.3,
          281.8904,
          294.108,
          273.7264,
          249.8752,
          176.78,
          289.292,
          267.6384,
          312.5352,
          124.904,
          104.9216,
          314.5184,
          249.5328,
          321.8272,
          331.7832,
          322.6448,
          324.576,
          321.1992,
          328.9616,
          333.3856,
          300.5248,
          324.8464,
          342.288,
          308.4384,
          280.032,
          319.8032,
          322.0488,
          320.9696,
          328.4096,
          315.4168,
          309.8472,
          319.504,
          284.5304,
          319.3704,
          317.6032,
          284.992,
          321.7656,
          302.5984,
          315.6312,
          278.4144,
          313.3088,
          298.068,
          321.392,
          276.284,
          285.8096,
          293.6568,
          315.5456,
          302.5656,
          250.2104,
          253.1952,
          296.7512,
          274.236,
          289.2736,
          259.3216,
          292.7328,
          274.0392,
          287.7824,
          293.248,
          291.584,
          279.8768,
          280.3344,
          297.6824,
          275.356,
          266.1392,
          277.3416,
          293.6112,
          261.8712,
          245.6328,
          258.04,
          278.2656,
          253.768,
          238.1432,
          261.336,
          267.2872,
          261.42,
          258.9352,
          249.0568,
          254.2632,
          245.192,
          255.3336,
          259.8736,
          260.8552,
          247.9488,
          249.8824,
          233.2448,
          261.0128,
          253.8952,
          235.3008,
          250.6744,
          251.5528,
          252.9064,
          244.9272,
          260.4976,
          257.46,
          251.692,
          248.9208,
          229.964,
          255.4056,
          249.512,
          251.5144,
          249.376,
          249.804,
          233.408,
          244.3144,
          235.924,
          252.4464,
          224.392,
          239.9592,
          244.8888,
          248.7408,
          229.8296,
          238.412,
          220.3904,
          237.292,
          250.7992,
          219.608,
          240.9872,
          241.8888,
          218.3728,
          222.9152,
          244.5376,
          238.3136,
          235.1048,
          228.4584,
          236.5744,
          236.4824,
          178.1576,
          235.96,
          242.8576,
          223.2784,
          229.4248,
          227.9112,
          222.3872,
          226.68,
          231.0984,
          224.6192,
          226.252,
          226.8144
         ]
        },
        {
         "line": {
          "color": "gold",
          "width": 3
         },
         "marker": {
          "line": {
           "color": "black",
           "width": 1
          },
          "size": 6,
          "symbol": "triangle-up"
         },
         "mode": "lines+markers",
         "name": "MacNewgeoProb_168mpi_6omp",
         "type": "scatter",
         "x": [
          516096000,
          645120000,
          774144000,
          903168000,
          1032192000,
          1161216000,
          1290240000,
          1419264000,
          1548288000,
          1677312000,
          1806336000,
          1935360000,
          2064384000,
          2193408000,
          2322432000,
          2451456000,
          2580480000,
          2709504000,
          2838528000,
          2967552000,
          3096576000,
          3225600000,
          3354624000,
          3483648000,
          3612672000,
          3741696000,
          3870720000
         ],
         "y": [
          327.3102,
          358.90469999999993,
          364.1589,
          381.7149,
          400.4322,
          398.9391,
          394.36109999999996,
          389.7222,
          377.5338,
          359.57880000000006,
          345.681,
          333.858,
          333.6522,
          315.5817,
          315.7644,
          298.7691,
          301.2303,
          273.61109999999996,
          285.9633,
          266.26529999999997,
          280.7952,
          256.2315,
          269.4321,
          250.61610000000002,
          267.6597,
          246.7857,
          256.85519999999997
         ]
        },
        {
         "line": {
          "color": "dimgray",
          "width": 3
         },
         "marker": {
          "line": {
           "color": "black",
           "width": 1
          },
          "size": 6,
          "symbol": "triangle-up"
         },
         "mode": "lines+markers",
         "name": "MacNewgeoNonProb_168mpi_6omp",
         "type": "scatter",
         "x": [
          516096000,
          645120000,
          774144000,
          903168000,
          1032192000,
          1161216000,
          1290240000,
          1419264000,
          1548288000,
          1677312000,
          1806336000,
          1935360000,
          2064384000,
          2193408000,
          2322432000,
          2451456000,
          2580480000,
          2709504000,
          2838528000,
          2967552000,
          3096576000,
          3225600000,
          3354624000,
          3483648000,
          3612672000,
          3741696000,
          3870720000
         ],
         "y": [
          330.35519999999997,
          351.6198,
          370.40220000000005,
          377.3847,
          393.5883,
          386.337,
          387.04049999999995,
          380.3604,
          370.8936,
          350.9919,
          344.0367,
          325.773,
          328.5051,
          304.668,
          309.3489,
          284.5584,
          292.5657,
          268.3107,
          284.8671,
          253.9047,
          272.7543,
          248.8941,
          257.1051,
          244.3119,
          254.1273,
          236.4096,
          248.1255
         ]
        },
        {
         "line": {
          "color": "olive",
          "width": 3
         },
         "marker": {
          "line": {
           "color": "olive",
           "width": 2
          },
          "size": 6,
          "symbol": "circle"
         },
         "mode": "lines+markers",
         "name": "MacNewgeoProb_504mpi_2omp",
         "type": "scatter",
         "x": [
          774144000,
          1161216000,
          1548288000,
          1935360000,
          2322432000,
          2709504000,
          3096576000,
          3483648000
         ],
         "y": [
          430.93701000000004,
          436.99949999999995,
          416.56545,
          368.80074,
          345.8322,
          313.15599,
          304.23078,
          283.52646
         ]
        },
        {
         "line": {
          "color": "Brown",
          "width": 3
         },
         "marker": {
          "line": {
           "color": "darkred",
           "width": 2
          },
          "size": 6,
          "symbol": "circle"
         },
         "mode": "lines+markers",
         "name": "MacNewgeoNonProb_504mpi_2omp",
         "type": "scatter",
         "x": [
          774144000,
          1161216000,
          1548288000,
          1935360000,
          2322432000,
          2709504000,
          3096576000,
          3483648000,
          3870720000
         ],
         "y": [
          417.34665,
          432.21843,
          409.90068,
          362.25441,
          334.25784,
          308.82977999999997,
          303.08859,
          280.83258,
          277.1937
         ]
        }
       ],
       "layout": {
        "annotations": [
         {
          "align": "left",
          "arrowcolor": "#636363",
          "arrowhead": 1,
          "arrowsize": 1,
          "arrowwidth": 2,
          "ax": -20,
          "ay": -30,
          "font": {
           "color": "purple",
           "family": "Sans Serif",
           "size": 12
          },
          "showarrow": false,
          "text": "LLC Size Per Node: 512M",
          "x": "512e6",
          "y": 280,
          "yanchor": "bottom"
         },
         {
          "align": "left",
          "arrowcolor": "#636363",
          "arrowhead": 1,
          "arrowsize": 1,
          "arrowwidth": 2,
          "ax": -20,
          "ay": -30,
          "font": {
           "color": "orange",
           "family": "Sans Serif",
           "size": 12
          },
          "showarrow": false,
          "text": "Max Bandwidth Per Node",
          "x": "130e6",
          "y": 370,
          "yanchor": "bottom"
         }
        ],
        "legend": {
         "bordercolor": "black",
         "borderwidth": 1
        },
        "shapes": [
         {
          "line": {
           "color": "green",
           "dash": "dot",
           "width": 3
          },
          "type": "line",
          "x0": 512000000,
          "x1": 512000000,
          "xref": "x",
          "y0": 0,
          "y1": 1,
          "yref": "y domain"
         },
         {
          "line": {
           "color": "red",
           "dash": "dash",
           "width": 3
          },
          "type": "line",
          "x0": 0,
          "x1": 1,
          "xref": "x domain",
          "y0": 409,
          "y1": 409,
          "yref": "y"
         }
        ],
        "template": {
         "data": {
          "bar": [
           {
            "error_x": {
             "color": "#2a3f5f"
            },
            "error_y": {
             "color": "#2a3f5f"
            },
            "marker": {
             "line": {
              "color": "#E5ECF6",
              "width": 0.5
             },
             "pattern": {
              "fillmode": "overlay",
              "size": 10,
              "solidity": 0.2
             }
            },
            "type": "bar"
           }
          ],
          "barpolar": [
           {
            "marker": {
             "line": {
              "color": "#E5ECF6",
              "width": 0.5
             },
             "pattern": {
              "fillmode": "overlay",
              "size": 10,
              "solidity": 0.2
             }
            },
            "type": "barpolar"
           }
          ],
          "carpet": [
           {
            "aaxis": {
             "endlinecolor": "#2a3f5f",
             "gridcolor": "white",
             "linecolor": "white",
             "minorgridcolor": "white",
             "startlinecolor": "#2a3f5f"
            },
            "baxis": {
             "endlinecolor": "#2a3f5f",
             "gridcolor": "white",
             "linecolor": "white",
             "minorgridcolor": "white",
             "startlinecolor": "#2a3f5f"
            },
            "type": "carpet"
           }
          ],
          "choropleth": [
           {
            "colorbar": {
             "outlinewidth": 0,
             "ticks": ""
            },
            "type": "choropleth"
           }
          ],
          "contour": [
           {
            "colorbar": {
             "outlinewidth": 0,
             "ticks": ""
            },
            "colorscale": [
             [
              0,
              "#0d0887"
             ],
             [
              0.1111111111111111,
              "#46039f"
             ],
             [
              0.2222222222222222,
              "#7201a8"
             ],
             [
              0.3333333333333333,
              "#9c179e"
             ],
             [
              0.4444444444444444,
              "#bd3786"
             ],
             [
              0.5555555555555556,
              "#d8576b"
             ],
             [
              0.6666666666666666,
              "#ed7953"
             ],
             [
              0.7777777777777778,
              "#fb9f3a"
             ],
             [
              0.8888888888888888,
              "#fdca26"
             ],
             [
              1,
              "#f0f921"
             ]
            ],
            "type": "contour"
           }
          ],
          "contourcarpet": [
           {
            "colorbar": {
             "outlinewidth": 0,
             "ticks": ""
            },
            "type": "contourcarpet"
           }
          ],
          "heatmap": [
           {
            "colorbar": {
             "outlinewidth": 0,
             "ticks": ""
            },
            "colorscale": [
             [
              0,
              "#0d0887"
             ],
             [
              0.1111111111111111,
              "#46039f"
             ],
             [
              0.2222222222222222,
              "#7201a8"
             ],
             [
              0.3333333333333333,
              "#9c179e"
             ],
             [
              0.4444444444444444,
              "#bd3786"
             ],
             [
              0.5555555555555556,
              "#d8576b"
             ],
             [
              0.6666666666666666,
              "#ed7953"
             ],
             [
              0.7777777777777778,
              "#fb9f3a"
             ],
             [
              0.8888888888888888,
              "#fdca26"
             ],
             [
              1,
              "#f0f921"
             ]
            ],
            "type": "heatmap"
           }
          ],
          "heatmapgl": [
           {
            "colorbar": {
             "outlinewidth": 0,
             "ticks": ""
            },
            "colorscale": [
             [
              0,
              "#0d0887"
             ],
             [
              0.1111111111111111,
              "#46039f"
             ],
             [
              0.2222222222222222,
              "#7201a8"
             ],
             [
              0.3333333333333333,
              "#9c179e"
             ],
             [
              0.4444444444444444,
              "#bd3786"
             ],
             [
              0.5555555555555556,
              "#d8576b"
             ],
             [
              0.6666666666666666,
              "#ed7953"
             ],
             [
              0.7777777777777778,
              "#fb9f3a"
             ],
             [
              0.8888888888888888,
              "#fdca26"
             ],
             [
              1,
              "#f0f921"
             ]
            ],
            "type": "heatmapgl"
           }
          ],
          "histogram": [
           {
            "marker": {
             "pattern": {
              "fillmode": "overlay",
              "size": 10,
              "solidity": 0.2
             }
            },
            "type": "histogram"
           }
          ],
          "histogram2d": [
           {
            "colorbar": {
             "outlinewidth": 0,
             "ticks": ""
            },
            "colorscale": [
             [
              0,
              "#0d0887"
             ],
             [
              0.1111111111111111,
              "#46039f"
             ],
             [
              0.2222222222222222,
              "#7201a8"
             ],
             [
              0.3333333333333333,
              "#9c179e"
             ],
             [
              0.4444444444444444,
              "#bd3786"
             ],
             [
              0.5555555555555556,
              "#d8576b"
             ],
             [
              0.6666666666666666,
              "#ed7953"
             ],
             [
              0.7777777777777778,
              "#fb9f3a"
             ],
             [
              0.8888888888888888,
              "#fdca26"
             ],
             [
              1,
              "#f0f921"
             ]
            ],
            "type": "histogram2d"
           }
          ],
          "histogram2dcontour": [
           {
            "colorbar": {
             "outlinewidth": 0,
             "ticks": ""
            },
            "colorscale": [
             [
              0,
              "#0d0887"
             ],
             [
              0.1111111111111111,
              "#46039f"
             ],
             [
              0.2222222222222222,
              "#7201a8"
             ],
             [
              0.3333333333333333,
              "#9c179e"
             ],
             [
              0.4444444444444444,
              "#bd3786"
             ],
             [
              0.5555555555555556,
              "#d8576b"
             ],
             [
              0.6666666666666666,
              "#ed7953"
             ],
             [
              0.7777777777777778,
              "#fb9f3a"
             ],
             [
              0.8888888888888888,
              "#fdca26"
             ],
             [
              1,
              "#f0f921"
             ]
            ],
            "type": "histogram2dcontour"
           }
          ],
          "mesh3d": [
           {
            "colorbar": {
             "outlinewidth": 0,
             "ticks": ""
            },
            "type": "mesh3d"
           }
          ],
          "parcoords": [
           {
            "line": {
             "colorbar": {
              "outlinewidth": 0,
              "ticks": ""
             }
            },
            "type": "parcoords"
           }
          ],
          "pie": [
           {
            "automargin": true,
            "type": "pie"
           }
          ],
          "scatter": [
           {
            "fillpattern": {
             "fillmode": "overlay",
             "size": 10,
             "solidity": 0.2
            },
            "type": "scatter"
           }
          ],
          "scatter3d": [
           {
            "line": {
             "colorbar": {
              "outlinewidth": 0,
              "ticks": ""
             }
            },
            "marker": {
             "colorbar": {
              "outlinewidth": 0,
              "ticks": ""
             }
            },
            "type": "scatter3d"
           }
          ],
          "scattercarpet": [
           {
            "marker": {
             "colorbar": {
              "outlinewidth": 0,
              "ticks": ""
             }
            },
            "type": "scattercarpet"
           }
          ],
          "scattergeo": [
           {
            "marker": {
             "colorbar": {
              "outlinewidth": 0,
              "ticks": ""
             }
            },
            "type": "scattergeo"
           }
          ],
          "scattergl": [
           {
            "marker": {
             "colorbar": {
              "outlinewidth": 0,
              "ticks": ""
             }
            },
            "type": "scattergl"
           }
          ],
          "scattermapbox": [
           {
            "marker": {
             "colorbar": {
              "outlinewidth": 0,
              "ticks": ""
             }
            },
            "type": "scattermapbox"
           }
          ],
          "scatterpolar": [
           {
            "marker": {
             "colorbar": {
              "outlinewidth": 0,
              "ticks": ""
             }
            },
            "type": "scatterpolar"
           }
          ],
          "scatterpolargl": [
           {
            "marker": {
             "colorbar": {
              "outlinewidth": 0,
              "ticks": ""
             }
            },
            "type": "scatterpolargl"
           }
          ],
          "scatterternary": [
           {
            "marker": {
             "colorbar": {
              "outlinewidth": 0,
              "ticks": ""
             }
            },
            "type": "scatterternary"
           }
          ],
          "surface": [
           {
            "colorbar": {
             "outlinewidth": 0,
             "ticks": ""
            },
            "colorscale": [
             [
              0,
              "#0d0887"
             ],
             [
              0.1111111111111111,
              "#46039f"
             ],
             [
              0.2222222222222222,
              "#7201a8"
             ],
             [
              0.3333333333333333,
              "#9c179e"
             ],
             [
              0.4444444444444444,
              "#bd3786"
             ],
             [
              0.5555555555555556,
              "#d8576b"
             ],
             [
              0.6666666666666666,
              "#ed7953"
             ],
             [
              0.7777777777777778,
              "#fb9f3a"
             ],
             [
              0.8888888888888888,
              "#fdca26"
             ],
             [
              1,
              "#f0f921"
             ]
            ],
            "type": "surface"
           }
          ],
          "table": [
           {
            "cells": {
             "fill": {
              "color": "#EBF0F8"
             },
             "line": {
              "color": "white"
             }
            },
            "header": {
             "fill": {
              "color": "#C8D4E3"
             },
             "line": {
              "color": "white"
             }
            },
            "type": "table"
           }
          ]
         },
         "layout": {
          "annotationdefaults": {
           "arrowcolor": "#2a3f5f",
           "arrowhead": 0,
           "arrowwidth": 1
          },
          "autotypenumbers": "strict",
          "coloraxis": {
           "colorbar": {
            "outlinewidth": 0,
            "ticks": ""
           }
          },
          "colorscale": {
           "diverging": [
            [
             0,
             "#8e0152"
            ],
            [
             0.1,
             "#c51b7d"
            ],
            [
             0.2,
             "#de77ae"
            ],
            [
             0.3,
             "#f1b6da"
            ],
            [
             0.4,
             "#fde0ef"
            ],
            [
             0.5,
             "#f7f7f7"
            ],
            [
             0.6,
             "#e6f5d0"
            ],
            [
             0.7,
             "#b8e186"
            ],
            [
             0.8,
             "#7fbc41"
            ],
            [
             0.9,
             "#4d9221"
            ],
            [
             1,
             "#276419"
            ]
           ],
           "sequential": [
            [
             0,
             "#0d0887"
            ],
            [
             0.1111111111111111,
             "#46039f"
            ],
            [
             0.2222222222222222,
             "#7201a8"
            ],
            [
             0.3333333333333333,
             "#9c179e"
            ],
            [
             0.4444444444444444,
             "#bd3786"
            ],
            [
             0.5555555555555556,
             "#d8576b"
            ],
            [
             0.6666666666666666,
             "#ed7953"
            ],
            [
             0.7777777777777778,
             "#fb9f3a"
            ],
            [
             0.8888888888888888,
             "#fdca26"
            ],
            [
             1,
             "#f0f921"
            ]
           ],
           "sequentialminus": [
            [
             0,
             "#0d0887"
            ],
            [
             0.1111111111111111,
             "#46039f"
            ],
            [
             0.2222222222222222,
             "#7201a8"
            ],
            [
             0.3333333333333333,
             "#9c179e"
            ],
            [
             0.4444444444444444,
             "#bd3786"
            ],
            [
             0.5555555555555556,
             "#d8576b"
            ],
            [
             0.6666666666666666,
             "#ed7953"
            ],
            [
             0.7777777777777778,
             "#fb9f3a"
            ],
            [
             0.8888888888888888,
             "#fdca26"
            ],
            [
             1,
             "#f0f921"
            ]
           ]
          },
          "colorway": [
           "#636efa",
           "#EF553B",
           "#00cc96",
           "#ab63fa",
           "#FFA15A",
           "#19d3f3",
           "#FF6692",
           "#B6E880",
           "#FF97FF",
           "#FECB52"
          ],
          "font": {
           "color": "#2a3f5f"
          },
          "geo": {
           "bgcolor": "white",
           "lakecolor": "white",
           "landcolor": "#E5ECF6",
           "showlakes": true,
           "showland": true,
           "subunitcolor": "white"
          },
          "hoverlabel": {
           "align": "left"
          },
          "hovermode": "closest",
          "mapbox": {
           "style": "light"
          },
          "paper_bgcolor": "white",
          "plot_bgcolor": "#E5ECF6",
          "polar": {
           "angularaxis": {
            "gridcolor": "white",
            "linecolor": "white",
            "ticks": ""
           },
           "bgcolor": "#E5ECF6",
           "radialaxis": {
            "gridcolor": "white",
            "linecolor": "white",
            "ticks": ""
           }
          },
          "scene": {
           "xaxis": {
            "backgroundcolor": "#E5ECF6",
            "gridcolor": "white",
            "gridwidth": 2,
            "linecolor": "white",
            "showbackground": true,
            "ticks": "",
            "zerolinecolor": "white"
           },
           "yaxis": {
            "backgroundcolor": "#E5ECF6",
            "gridcolor": "white",
            "gridwidth": 2,
            "linecolor": "white",
            "showbackground": true,
            "ticks": "",
            "zerolinecolor": "white"
           },
           "zaxis": {
            "backgroundcolor": "#E5ECF6",
            "gridcolor": "white",
            "gridwidth": 2,
            "linecolor": "white",
            "showbackground": true,
            "ticks": "",
            "zerolinecolor": "white"
           }
          },
          "shapedefaults": {
           "line": {
            "color": "#2a3f5f"
           }
          },
          "ternary": {
           "aaxis": {
            "gridcolor": "white",
            "linecolor": "white",
            "ticks": ""
           },
           "baxis": {
            "gridcolor": "white",
            "linecolor": "white",
            "ticks": ""
           },
           "bgcolor": "#E5ECF6",
           "caxis": {
            "gridcolor": "white",
            "linecolor": "white",
            "ticks": ""
           }
          },
          "title": {
           "x": 0.05
          },
          "xaxis": {
           "automargin": true,
           "gridcolor": "white",
           "linecolor": "white",
           "ticks": "",
           "title": {
            "standoff": 15
           },
           "zerolinecolor": "white",
           "zerolinewidth": 2
          },
          "yaxis": {
           "automargin": true,
           "gridcolor": "white",
           "linecolor": "white",
           "ticks": "",
           "title": {
            "standoff": 15
           },
           "zerolinecolor": "white",
           "zerolinewidth": 2
          }
         }
        },
        "title": {
         "text": "\"Newgeo Macro: Probempi vs Nonprobempi\" Bandwidth Measurement"
        },
        "xaxis": {
         "ticks": "outside",
         "title": {
          "text": "Dirc_Data_Mov"
         }
        },
        "yaxis": {
         "ticks": "outside",
         "title": {
          "text": "Bandwidth/Node"
         }
        }
       }
      },
      "text/html": [
       "<div>                            <div id=\"e7282161-8bd6-46a6-80d1-8209edc1ff52\" class=\"plotly-graph-div\" style=\"height:525px; width:100%;\"></div>            <script type=\"text/javascript\">                require([\"plotly\"], function(Plotly) {                    window.PLOTLYENV=window.PLOTLYENV || {};                                    if (document.getElementById(\"e7282161-8bd6-46a6-80d1-8209edc1ff52\")) {                    Plotly.newPlot(                        \"e7282161-8bd6-46a6-80d1-8209edc1ff52\",                        [{\"line\":{\"color\":\"darkcyan\",\"width\":3},\"marker\":{\"line\":{\"color\":\"yellow\",\"width\":1},\"size\":9,\"symbol\":\"hexagon\"},\"mode\":\"lines+markers\",\"name\":\"MacNewgeoProb_1024mpi_1omp\",\"x\":[1572864000.0,1966080000.0,2359296000.0,2752512000.0,3145728000.0,3538944000.0],\"y\":[394.3104,343.46624,315.10528,306.32704,293.19168,206.43584],\"type\":\"scatter\"},{\"line\":{\"color\":\"magenta\",\"width\":3},\"marker\":{\"line\":{\"color\":\"yellow\",\"width\":1},\"size\":9,\"symbol\":\"hexagon\"},\"mode\":\"lines+markers\",\"name\":\"MacNonFusNonProb_1024mpi_1omp\",\"x\":[1572864000.0,1966080000.0,2359296000.0,2752512000.0,3145728000.0,3538944000.0,3932160000.0],\"y\":[378.80192,339.73632,298.99136,274.30912,303.3408,284.86272,277.14304],\"type\":\"scatter\"},{\"line\":{\"color\":\"royalblue\",\"width\":3},\"marker\":{\"line\":{\"color\":\"MediumPurple\",\"width\":2},\"size\":5,\"symbol\":\"diamond\"},\"mode\":\"lines+markers\",\"name\":\"MacNewgeoProb_512mpi_2omp\",\"x\":[786432000.0,983040000.0,1179648000.0,1376256000.0,1572864000.0,1769472000.0,1966080000.0,2162688000.0,2359296000.0,2555904000.0,2752512000.0,2949120000.0,3145728000.0,3538944000.0,3735552000.0],\"y\":[414.67712,456.22016,452.544,443.37728,428.94976,376.98432,369.5552,344.8736,347.27872,324.59712,316.55616,274.56448,303.87712,286.52544,289.07392],\"type\":\"scatter\"},{\"line\":{\"color\":\"sandybrown\",\"width\":3},\"marker\":{\"line\":{\"color\":\"MediumPurple\",\"width\":2},\"size\":5,\"symbol\":\"diamond\"},\"mode\":\"lines+markers\",\"name\":\"MacNewgeoNonProb_512mpi_2omp\",\"x\":[786432000.0,983040000.0,1179648000.0,1376256000.0,1572864000.0,1769472000.0,1966080000.0,2162688000.0,2359296000.0,2555904000.0,2752512000.0,2949120000.0,3145728000.0,3342336000.0,3538944000.0,3735552000.0,3932160000.0],\"y\":[429.00992,451.34016,412.87168,423.30304,421.81696,388.00832,355.34976,351.83808,349.0048,330.73664,303.05088,305.53664,306.41664,281.072,282.34432,281.16416,277.76576],\"type\":\"scatter\"},{\"line\":{\"color\":\"darkblue\",\"width\":3},\"marker\":{\"line\":{\"color\":\"tomato\",\"width\":2},\"size\":7,\"symbol\":\"circle\"},\"mode\":\"lines+markers\",\"name\":\"MacNewgeoProb_256mpi_4omp\",\"x\":[589824000.0,688128000.0,786432000.0,884736000.0,983040000.0,1179648000.0,1277952000.0,1376256000.0,1474560000.0,1572864000.0,1671168000.0,1769472000.0,1867776000.0,1966080000.0,2064384000.0,2162688000.0,2260992000.0,2359296000.0,2555904000.0,2654208000.0,2752512000.0,2850816000.0,2949120000.0,3047424000.0,3145728000.0,3244032000.0,3342336000.0,3440640000.0,3538944000.0,3637248000.0,3735552000.0,3833856000.0,3932160000.0],\"y\":[355.4112,422.0512,378.272,437.2608,452.384,397.1392,449.056,412.544,430.6976,432.048,398.5504,367.5584,394.3296,354.3456,360.1664,344.2496,353.7504,319.13344,326.7136,318.43456,320.576,313.65024,306.82752,312.42432,310.41472,295.71584,279.3184,302.42016,290.4176,295.93792,275.28992,271.85536,278.38496],\"type\":\"scatter\"},{\"line\":{\"color\":\"cyan\",\"width\":3},\"marker\":{\"line\":{\"color\":\"Purple\",\"width\":2},\"size\":7,\"symbol\":\"circle\"},\"mode\":\"lines+markers\",\"name\":\"MacNewgeoNonProb_256mpi_4omp\",\"x\":[589824000.0,688128000.0,786432000.0,884736000.0,983040000.0,1081344000.0,1179648000.0,1277952000.0,1376256000.0,1474560000.0,1572864000.0,1671168000.0,1769472000.0,1867776000.0,1966080000.0,2064384000.0,2162688000.0,2260992000.0,2359296000.0,2457600000.0,2555904000.0,2654208000.0,2752512000.0,2850816000.0,2949120000.0,3047424000.0,3145728000.0,3244032000.0,3342336000.0,3440640000.0,3538944000.0,3637248000.0,3735552000.0,3932160000.0],\"y\":[347.9936,400.688,386.1536,408.5984,421.92,420.432,437.0752,388.3936,361.4112,413.5712,400.2912,388.272,370.2464,367.6192,322.2912,353.3664,344.2848,343.344,341.136,306.83392,323.5392,316.50336,323.3632,280.23456,274.92416,305.94368,294.98528,287.21632,288.37056,271.4768,280.82304,280.72832,274.91552,277.75232],\"type\":\"scatter\"},{\"line\":{\"color\":\"blue\",\"width\":3},\"marker\":{\"line\":{\"color\":\"black\",\"width\":1},\"size\":7,\"symbol\":\"star\"},\"mode\":\"lines+markers\",\"name\":\"MacNewgeoProb_128mpi_8omp\",\"x\":[540672000.0,589824000.0,638976000.0,688128000.0,737280000.0,786432000.0,835584000.0,884736000.0,933888000.0,983040000.0,1032192000.0,1081344000.0,1130496000.0,1179648000.0,1228800000.0,1277952000.0,1327104000.0,1376256000.0,1425408000.0,1474560000.0,1523712000.0,1572864000.0,1622016000.0,1671168000.0,1720320000.0,1769472000.0,1818624000.0,1867776000.0,1916928000.0,1966080000.0,2015232000.0,2064384000.0,2113536000.0,2162688000.0,2211840000.0,2260992000.0,2310144000.0,2359296000.0,2408448000.0,2457600000.0,2506752000.0,2555904000.0,2605056000.0,2654208000.0,2703360000.0,2752512000.0,2801664000.0,2850816000.0,2899968000.0,2949120000.0,2998272000.0,3047424000.0,3096576000.0,3145728000.0,3194880000.0,3244032000.0,3293184000.0,3342336000.0,3391488000.0,3440640000.0,3489792000.0,3538944000.0,3588096000.0,3637248000.0,3686400000.0,3735552000.0,3784704000.0,3833856000.0,3883008000.0,3932160000.0],\"y\":[363.8656,363.4416,376.5248,378.1584,307.9712,377.6864,402.4656,354.848,391.0496,406.848,394.5056,364.0784,421.344,359.8512,412.144,352.8528,370.1328,396.6928,419.5504,400.888,395.824,406.5744,379.1232,390.7104,383.2016,374.968,374.7296,317.5696,360.2256,343.5648,360.7264,346.1664,336.9312,319.5856,334.4576,320.4656,332.5904,322.2896,334.048,317.112,316.0032,288.1168,297.2624,310.9008,315.8496,311.3984,301.952,298.2912,308.7536,296.456,296.384,291.7952,284.3056,293.288,297.4736,284.2384,294.4128,279.9968,275.5584,278.9696,279.7472,268.0528,272.3872,275.1776,264.1904,274.9072,278.1792,268.1488,276.272,267.536],\"type\":\"scatter\"},{\"line\":{\"color\":\"red\",\"width\":3},\"marker\":{\"line\":{\"color\":\"black\",\"width\":1},\"size\":7,\"symbol\":\"star\"},\"mode\":\"lines+markers\",\"name\":\"MacNewgeoNonProb_128mpi_8omp\",\"x\":[540672000.0,589824000.0,638976000.0,688128000.0,737280000.0,786432000.0,835584000.0,884736000.0,933888000.0,983040000.0,1032192000.0,1081344000.0,1130496000.0,1179648000.0,1228800000.0,1277952000.0,1327104000.0,1376256000.0,1425408000.0,1474560000.0,1523712000.0,1572864000.0,1622016000.0,1671168000.0,1720320000.0,1769472000.0,1818624000.0,1867776000.0,1916928000.0,1966080000.0,2015232000.0,2064384000.0,2113536000.0,2162688000.0,2211840000.0,2260992000.0,2310144000.0,2359296000.0,2408448000.0,2457600000.0,2506752000.0,2555904000.0,2605056000.0,2654208000.0,2703360000.0,2752512000.0,2801664000.0,2850816000.0,2899968000.0,2949120000.0,2998272000.0,3047424000.0,3096576000.0,3145728000.0,3194880000.0,3244032000.0,3293184000.0,3391488000.0,3440640000.0,3489792000.0,3538944000.0,3588096000.0,3637248000.0,3686400000.0,3735552000.0,3784704000.0,3833856000.0,3883008000.0,3932160000.0],\"y\":[332.624,318.968,347.5456,364.272,339.6032,382.3024,385.0608,361.1568,376.2016,399.336,389.1632,385.8448,400.8144,398.0928,392.9024,400.256,396.2144,397.1008,395.0032,390.4672,385.2528,391.7504,361.776,346.3824,364.464,329.5504,338.3664,349.5776,332.9584,357.648,340.664,331.6544,320.5344,342.6688,320.2368,322.3744,299.9808,330.0208,313.7216,311.5632,286.9408,318.432,300.1952,295.9904,298.7728,302.128,265.8688,272.0304,291.1536,287.2992,290.208,262.6416,260.1616,282.384,282.1216,272.7408,279.0752,261.5952,245.1328,273.8416,271.5408,266.1456,257.9152,259.6352,258.1472,271.1552,257.2016,248.9376,257.144],\"type\":\"scatter\"},{\"line\":{\"color\":\"chartreuse\",\"width\":3},\"marker\":{\"line\":{\"color\":\"mediumvioletred\",\"width\":1},\"size\":6,\"symbol\":\"square-dot\"},\"mode\":\"lines+markers\",\"name\":\"MacNewgeoProb_64mpi_16omp\",\"x\":[516096000.0,540672000.0,565248000.0,589824000.0,614400000.0,638976000.0,663552000.0,688128000.0,712704000.0,761856000.0,786432000.0,811008000.0,835584000.0,860160000.0,884736000.0,909312000.0,933888000.0,958464000.0,983040000.0,1007616000.0,1032192000.0,1056768000.0,1081344000.0,1105920000.0,1130496000.0,1155072000.0,1179648000.0,1204224000.0,1228800000.0,1253376000.0,1277952000.0,1327104000.0,1351680000.0,1376256000.0,1400832000.0,1425408000.0,1449984000.0,1474560000.0,1499136000.0,1523712000.0,1548288000.0,1572864000.0,1597440000.0,1622016000.0,1646592000.0,1671168000.0,1695744000.0,1720320000.0,1744896000.0,1769472000.0,1794048000.0,1818624000.0,1843200000.0,1867776000.0,1892352000.0,1916928000.0,1941504000.0,1966080000.0,2015232000.0,2039808000.0,2064384000.0,2088960000.0,2113536000.0,2138112000.0,2162688000.0,2187264000.0,2211840000.0,2236416000.0,2260992000.0,2285568000.0,2310144000.0,2334720000.0,2359296000.0,2383872000.0,2408448000.0,2433024000.0,2457600000.0,2482176000.0,2506752000.0,2531328000.0,2555904000.0,2580480000.0,2605056000.0,2629632000.0,2654208000.0,2678784000.0,2703360000.0,2727936000.0,2752512000.0,2777088000.0,2801664000.0,2826240000.0,2850816000.0,2875392000.0,2899968000.0,2924544000.0,2949120000.0,2973696000.0,2998272000.0,3047424000.0,3072000000.0,3096576000.0,3121152000.0,3145728000.0,3194880000.0,3219456000.0,3244032000.0,3268608000.0,3293184000.0,3317760000.0,3342336000.0,3366912000.0,3391488000.0,3416064000.0,3440640000.0,3465216000.0,3489792000.0,3514368000.0,3538944000.0,3563520000.0,3588096000.0,3637248000.0,3661824000.0,3686400000.0,3710976000.0,3735552000.0,3760128000.0,3784704000.0,3809280000.0,3833856000.0,3858432000.0,3883008000.0,3907584000.0,3932160000.0],\"y\":[264.7864,323.3552,321.3984,288.3328,295.7608,331.516,324.1872,322.848,95.8024,112.7832,337.1304,339.9176,349.8992,339.6408,48.66536,337.136,328.7432,330.0872,311.0704,196.4256,212.5032,332.7248,304.3432,290.3696,348.488,286.4656,323.8984,315.1832,276.9008,328.7304,327.1184,337.9384,340.3072,341.1184,336.7512,337.3024,331.124,336.5048,329.7112,297.6544,288.4736,315.2224,315.832,310.996,316.2792,308.6696,309.264,302.1592,306.3224,298.8936,283.888,294.3648,295.064,300.7,287.376,287.9264,286.9224,280.644,287.6952,261.5264,282.4896,286.4832,287.26,281.3728,291.3856,290.4872,282.9912,270.3848,262.2536,261.3176,273.1848,256.0608,271.3456,246.7392,270.2288,268.6552,272.4304,247.3928,265.9456,257.9904,273.9128,267.9296,265.7232,274.764,267.788,262.0544,258.0712,248.9192,261.2592,264.684,238.4232,264.116,256.7216,242.5192,252.4544,250.6592,260.7288,262.756,251.1376,260.0888,258.4976,129.7624,263.0728,251.3744,250.3312,258.8824,255.504,257.9648,232.296,227.7904,250.3184,249.4024,233.7248,226.2216,241.3224,240.9424,238.9168,249.0776,243.4632,247.8904,242.196,243.236,249.8304,241.4952,246.9584,228.2984,233.8272,226.556,244.2616,226.112,241.2032,236.664,236.0048,237.916],\"type\":\"scatter\"},{\"line\":{\"color\":\"black\",\"width\":3},\"marker\":{\"line\":{\"color\":\"mediumvioletred\",\"width\":1},\"size\":6,\"symbol\":\"square-dot\"},\"mode\":\"lines+markers\",\"name\":\"MacNewgeoNonProb_64mpi_16omp\",\"x\":[516096000.0,540672000.0,565248000.0,589824000.0,614400000.0,638976000.0,663552000.0,688128000.0,712704000.0,737280000.0,761856000.0,786432000.0,811008000.0,835584000.0,860160000.0,884736000.0,909312000.0,933888000.0,958464000.0,983040000.0,1007616000.0,1032192000.0,1056768000.0,1081344000.0,1105920000.0,1130496000.0,1155072000.0,1179648000.0,1204224000.0,1228800000.0,1253376000.0,1277952000.0,1302528000.0,1327104000.0,1351680000.0,1376256000.0,1400832000.0,1425408000.0,1449984000.0,1474560000.0,1499136000.0,1523712000.0,1548288000.0,1572864000.0,1597440000.0,1622016000.0,1646592000.0,1671168000.0,1695744000.0,1720320000.0,1744896000.0,1769472000.0,1794048000.0,1818624000.0,1867776000.0,1892352000.0,1916928000.0,1941504000.0,1966080000.0,1990656000.0,2015232000.0,2039808000.0,2064384000.0,2088960000.0,2113536000.0,2138112000.0,2162688000.0,2187264000.0,2211840000.0,2236416000.0,2260992000.0,2285568000.0,2310144000.0,2334720000.0,2359296000.0,2383872000.0,2408448000.0,2433024000.0,2457600000.0,2482176000.0,2506752000.0,2531328000.0,2555904000.0,2580480000.0,2605056000.0,2629632000.0,2654208000.0,2678784000.0,2703360000.0,2727936000.0,2752512000.0,2777088000.0,2801664000.0,2826240000.0,2850816000.0,2875392000.0,2899968000.0,2924544000.0,2949120000.0,2973696000.0,2998272000.0,3022848000.0,3047424000.0,3072000000.0,3096576000.0,3121152000.0,3145728000.0,3170304000.0,3194880000.0,3219456000.0,3244032000.0,3268608000.0,3293184000.0,3317760000.0,3342336000.0,3366912000.0,3391488000.0,3416064000.0,3440640000.0,3465216000.0,3489792000.0,3514368000.0,3538944000.0,3563520000.0,3588096000.0,3612672000.0,3637248000.0,3661824000.0,3686400000.0,3710976000.0,3735552000.0,3760128000.0,3784704000.0,3809280000.0,3833856000.0,3858432000.0,3883008000.0,3907584000.0,3932160000.0],\"y\":[301.848,281.3,281.8904,294.108,273.7264,249.8752,176.78,289.292,267.6384,312.5352,124.904,104.9216,314.5184,249.5328,321.8272,331.7832,322.6448,324.576,321.1992,328.9616,333.3856,300.5248,324.8464,342.288,308.4384,280.032,319.8032,322.0488,320.9696,328.4096,315.4168,309.8472,319.504,284.5304,319.3704,317.6032,284.992,321.7656,302.5984,315.6312,278.4144,313.3088,298.068,321.392,276.284,285.8096,293.6568,315.5456,302.5656,250.2104,253.1952,296.7512,274.236,289.2736,259.3216,292.7328,274.0392,287.7824,293.248,291.584,279.8768,280.3344,297.6824,275.356,266.1392,277.3416,293.6112,261.8712,245.6328,258.04,278.2656,253.768,238.1432,261.336,267.2872,261.42,258.9352,249.0568,254.2632,245.192,255.3336,259.8736,260.8552,247.9488,249.8824,233.2448,261.0128,253.8952,235.3008,250.6744,251.5528,252.9064,244.9272,260.4976,257.46,251.692,248.9208,229.964,255.4056,249.512,251.5144,249.376,249.804,233.408,244.3144,235.924,252.4464,224.392,239.9592,244.8888,248.7408,229.8296,238.412,220.3904,237.292,250.7992,219.608,240.9872,241.8888,218.3728,222.9152,244.5376,238.3136,235.1048,228.4584,236.5744,236.4824,178.1576,235.96,242.8576,223.2784,229.4248,227.9112,222.3872,226.68,231.0984,224.6192,226.252,226.8144],\"type\":\"scatter\"},{\"line\":{\"color\":\"gold\",\"width\":3},\"marker\":{\"line\":{\"color\":\"black\",\"width\":1},\"size\":6,\"symbol\":\"triangle-up\"},\"mode\":\"lines+markers\",\"name\":\"MacNewgeoProb_168mpi_6omp\",\"x\":[516096000.0,645120000.0,774144000.0,903168000.0,1032192000.0,1161216000.0,1290240000.0,1419264000.0,1548288000.0,1677312000.0,1806336000.0,1935360000.0,2064384000.0,2193408000.0,2322432000.0,2451456000.0,2580480000.0,2709504000.0,2838528000.0,2967552000.0,3096576000.0,3225600000.0,3354624000.0,3483648000.0,3612672000.0,3741696000.0,3870720000.0],\"y\":[327.3102,358.90469999999993,364.1589,381.7149,400.4322,398.9391,394.36109999999996,389.7222,377.5338,359.57880000000006,345.681,333.858,333.6522,315.5817,315.7644,298.7691,301.2303,273.61109999999996,285.9633,266.26529999999997,280.7952,256.2315,269.4321,250.61610000000002,267.6597,246.7857,256.85519999999997],\"type\":\"scatter\"},{\"line\":{\"color\":\"dimgray\",\"width\":3},\"marker\":{\"line\":{\"color\":\"black\",\"width\":1},\"size\":6,\"symbol\":\"triangle-up\"},\"mode\":\"lines+markers\",\"name\":\"MacNewgeoNonProb_168mpi_6omp\",\"x\":[516096000.0,645120000.0,774144000.0,903168000.0,1032192000.0,1161216000.0,1290240000.0,1419264000.0,1548288000.0,1677312000.0,1806336000.0,1935360000.0,2064384000.0,2193408000.0,2322432000.0,2451456000.0,2580480000.0,2709504000.0,2838528000.0,2967552000.0,3096576000.0,3225600000.0,3354624000.0,3483648000.0,3612672000.0,3741696000.0,3870720000.0],\"y\":[330.35519999999997,351.6198,370.40220000000005,377.3847,393.5883,386.337,387.04049999999995,380.3604,370.8936,350.9919,344.0367,325.773,328.5051,304.668,309.3489,284.5584,292.5657,268.3107,284.8671,253.9047,272.7543,248.8941,257.1051,244.3119,254.1273,236.4096,248.1255],\"type\":\"scatter\"},{\"line\":{\"color\":\"olive\",\"width\":3},\"marker\":{\"line\":{\"color\":\"olive\",\"width\":2},\"size\":6,\"symbol\":\"circle\"},\"mode\":\"lines+markers\",\"name\":\"MacNewgeoProb_504mpi_2omp\",\"x\":[774144000.0,1161216000.0,1548288000.0,1935360000.0,2322432000.0,2709504000.0,3096576000.0,3483648000.0],\"y\":[430.93701000000004,436.99949999999995,416.56545,368.80074,345.8322,313.15599,304.23078,283.52646],\"type\":\"scatter\"},{\"line\":{\"color\":\"Brown\",\"width\":3},\"marker\":{\"line\":{\"color\":\"darkred\",\"width\":2},\"size\":6,\"symbol\":\"circle\"},\"mode\":\"lines+markers\",\"name\":\"MacNewgeoNonProb_504mpi_2omp\",\"x\":[774144000.0,1161216000.0,1548288000.0,1935360000.0,2322432000.0,2709504000.0,3096576000.0,3483648000.0,3870720000.0],\"y\":[417.34665,432.21843,409.90068,362.25441,334.25784,308.82977999999997,303.08859,280.83258,277.1937],\"type\":\"scatter\"}],                        {\"template\":{\"data\":{\"histogram2dcontour\":[{\"type\":\"histogram2dcontour\",\"colorbar\":{\"outlinewidth\":0,\"ticks\":\"\"},\"colorscale\":[[0.0,\"#0d0887\"],[0.1111111111111111,\"#46039f\"],[0.2222222222222222,\"#7201a8\"],[0.3333333333333333,\"#9c179e\"],[0.4444444444444444,\"#bd3786\"],[0.5555555555555556,\"#d8576b\"],[0.6666666666666666,\"#ed7953\"],[0.7777777777777778,\"#fb9f3a\"],[0.8888888888888888,\"#fdca26\"],[1.0,\"#f0f921\"]]}],\"choropleth\":[{\"type\":\"choropleth\",\"colorbar\":{\"outlinewidth\":0,\"ticks\":\"\"}}],\"histogram2d\":[{\"type\":\"histogram2d\",\"colorbar\":{\"outlinewidth\":0,\"ticks\":\"\"},\"colorscale\":[[0.0,\"#0d0887\"],[0.1111111111111111,\"#46039f\"],[0.2222222222222222,\"#7201a8\"],[0.3333333333333333,\"#9c179e\"],[0.4444444444444444,\"#bd3786\"],[0.5555555555555556,\"#d8576b\"],[0.6666666666666666,\"#ed7953\"],[0.7777777777777778,\"#fb9f3a\"],[0.8888888888888888,\"#fdca26\"],[1.0,\"#f0f921\"]]}],\"heatmap\":[{\"type\":\"heatmap\",\"colorbar\":{\"outlinewidth\":0,\"ticks\":\"\"},\"colorscale\":[[0.0,\"#0d0887\"],[0.1111111111111111,\"#46039f\"],[0.2222222222222222,\"#7201a8\"],[0.3333333333333333,\"#9c179e\"],[0.4444444444444444,\"#bd3786\"],[0.5555555555555556,\"#d8576b\"],[0.6666666666666666,\"#ed7953\"],[0.7777777777777778,\"#fb9f3a\"],[0.8888888888888888,\"#fdca26\"],[1.0,\"#f0f921\"]]}],\"heatmapgl\":[{\"type\":\"heatmapgl\",\"colorbar\":{\"outlinewidth\":0,\"ticks\":\"\"},\"colorscale\":[[0.0,\"#0d0887\"],[0.1111111111111111,\"#46039f\"],[0.2222222222222222,\"#7201a8\"],[0.3333333333333333,\"#9c179e\"],[0.4444444444444444,\"#bd3786\"],[0.5555555555555556,\"#d8576b\"],[0.6666666666666666,\"#ed7953\"],[0.7777777777777778,\"#fb9f3a\"],[0.8888888888888888,\"#fdca26\"],[1.0,\"#f0f921\"]]}],\"contourcarpet\":[{\"type\":\"contourcarpet\",\"colorbar\":{\"outlinewidth\":0,\"ticks\":\"\"}}],\"contour\":[{\"type\":\"contour\",\"colorbar\":{\"outlinewidth\":0,\"ticks\":\"\"},\"colorscale\":[[0.0,\"#0d0887\"],[0.1111111111111111,\"#46039f\"],[0.2222222222222222,\"#7201a8\"],[0.3333333333333333,\"#9c179e\"],[0.4444444444444444,\"#bd3786\"],[0.5555555555555556,\"#d8576b\"],[0.6666666666666666,\"#ed7953\"],[0.7777777777777778,\"#fb9f3a\"],[0.8888888888888888,\"#fdca26\"],[1.0,\"#f0f921\"]]}],\"surface\":[{\"type\":\"surface\",\"colorbar\":{\"outlinewidth\":0,\"ticks\":\"\"},\"colorscale\":[[0.0,\"#0d0887\"],[0.1111111111111111,\"#46039f\"],[0.2222222222222222,\"#7201a8\"],[0.3333333333333333,\"#9c179e\"],[0.4444444444444444,\"#bd3786\"],[0.5555555555555556,\"#d8576b\"],[0.6666666666666666,\"#ed7953\"],[0.7777777777777778,\"#fb9f3a\"],[0.8888888888888888,\"#fdca26\"],[1.0,\"#f0f921\"]]}],\"mesh3d\":[{\"type\":\"mesh3d\",\"colorbar\":{\"outlinewidth\":0,\"ticks\":\"\"}}],\"scatter\":[{\"fillpattern\":{\"fillmode\":\"overlay\",\"size\":10,\"solidity\":0.2},\"type\":\"scatter\"}],\"parcoords\":[{\"type\":\"parcoords\",\"line\":{\"colorbar\":{\"outlinewidth\":0,\"ticks\":\"\"}}}],\"scatterpolargl\":[{\"type\":\"scatterpolargl\",\"marker\":{\"colorbar\":{\"outlinewidth\":0,\"ticks\":\"\"}}}],\"bar\":[{\"error_x\":{\"color\":\"#2a3f5f\"},\"error_y\":{\"color\":\"#2a3f5f\"},\"marker\":{\"line\":{\"color\":\"#E5ECF6\",\"width\":0.5},\"pattern\":{\"fillmode\":\"overlay\",\"size\":10,\"solidity\":0.2}},\"type\":\"bar\"}],\"scattergeo\":[{\"type\":\"scattergeo\",\"marker\":{\"colorbar\":{\"outlinewidth\":0,\"ticks\":\"\"}}}],\"scatterpolar\":[{\"type\":\"scatterpolar\",\"marker\":{\"colorbar\":{\"outlinewidth\":0,\"ticks\":\"\"}}}],\"histogram\":[{\"marker\":{\"pattern\":{\"fillmode\":\"overlay\",\"size\":10,\"solidity\":0.2}},\"type\":\"histogram\"}],\"scattergl\":[{\"type\":\"scattergl\",\"marker\":{\"colorbar\":{\"outlinewidth\":0,\"ticks\":\"\"}}}],\"scatter3d\":[{\"type\":\"scatter3d\",\"line\":{\"colorbar\":{\"outlinewidth\":0,\"ticks\":\"\"}},\"marker\":{\"colorbar\":{\"outlinewidth\":0,\"ticks\":\"\"}}}],\"scattermapbox\":[{\"type\":\"scattermapbox\",\"marker\":{\"colorbar\":{\"outlinewidth\":0,\"ticks\":\"\"}}}],\"scatterternary\":[{\"type\":\"scatterternary\",\"marker\":{\"colorbar\":{\"outlinewidth\":0,\"ticks\":\"\"}}}],\"scattercarpet\":[{\"type\":\"scattercarpet\",\"marker\":{\"colorbar\":{\"outlinewidth\":0,\"ticks\":\"\"}}}],\"carpet\":[{\"aaxis\":{\"endlinecolor\":\"#2a3f5f\",\"gridcolor\":\"white\",\"linecolor\":\"white\",\"minorgridcolor\":\"white\",\"startlinecolor\":\"#2a3f5f\"},\"baxis\":{\"endlinecolor\":\"#2a3f5f\",\"gridcolor\":\"white\",\"linecolor\":\"white\",\"minorgridcolor\":\"white\",\"startlinecolor\":\"#2a3f5f\"},\"type\":\"carpet\"}],\"table\":[{\"cells\":{\"fill\":{\"color\":\"#EBF0F8\"},\"line\":{\"color\":\"white\"}},\"header\":{\"fill\":{\"color\":\"#C8D4E3\"},\"line\":{\"color\":\"white\"}},\"type\":\"table\"}],\"barpolar\":[{\"marker\":{\"line\":{\"color\":\"#E5ECF6\",\"width\":0.5},\"pattern\":{\"fillmode\":\"overlay\",\"size\":10,\"solidity\":0.2}},\"type\":\"barpolar\"}],\"pie\":[{\"automargin\":true,\"type\":\"pie\"}]},\"layout\":{\"autotypenumbers\":\"strict\",\"colorway\":[\"#636efa\",\"#EF553B\",\"#00cc96\",\"#ab63fa\",\"#FFA15A\",\"#19d3f3\",\"#FF6692\",\"#B6E880\",\"#FF97FF\",\"#FECB52\"],\"font\":{\"color\":\"#2a3f5f\"},\"hovermode\":\"closest\",\"hoverlabel\":{\"align\":\"left\"},\"paper_bgcolor\":\"white\",\"plot_bgcolor\":\"#E5ECF6\",\"polar\":{\"bgcolor\":\"#E5ECF6\",\"angularaxis\":{\"gridcolor\":\"white\",\"linecolor\":\"white\",\"ticks\":\"\"},\"radialaxis\":{\"gridcolor\":\"white\",\"linecolor\":\"white\",\"ticks\":\"\"}},\"ternary\":{\"bgcolor\":\"#E5ECF6\",\"aaxis\":{\"gridcolor\":\"white\",\"linecolor\":\"white\",\"ticks\":\"\"},\"baxis\":{\"gridcolor\":\"white\",\"linecolor\":\"white\",\"ticks\":\"\"},\"caxis\":{\"gridcolor\":\"white\",\"linecolor\":\"white\",\"ticks\":\"\"}},\"coloraxis\":{\"colorbar\":{\"outlinewidth\":0,\"ticks\":\"\"}},\"colorscale\":{\"sequential\":[[0.0,\"#0d0887\"],[0.1111111111111111,\"#46039f\"],[0.2222222222222222,\"#7201a8\"],[0.3333333333333333,\"#9c179e\"],[0.4444444444444444,\"#bd3786\"],[0.5555555555555556,\"#d8576b\"],[0.6666666666666666,\"#ed7953\"],[0.7777777777777778,\"#fb9f3a\"],[0.8888888888888888,\"#fdca26\"],[1.0,\"#f0f921\"]],\"sequentialminus\":[[0.0,\"#0d0887\"],[0.1111111111111111,\"#46039f\"],[0.2222222222222222,\"#7201a8\"],[0.3333333333333333,\"#9c179e\"],[0.4444444444444444,\"#bd3786\"],[0.5555555555555556,\"#d8576b\"],[0.6666666666666666,\"#ed7953\"],[0.7777777777777778,\"#fb9f3a\"],[0.8888888888888888,\"#fdca26\"],[1.0,\"#f0f921\"]],\"diverging\":[[0,\"#8e0152\"],[0.1,\"#c51b7d\"],[0.2,\"#de77ae\"],[0.3,\"#f1b6da\"],[0.4,\"#fde0ef\"],[0.5,\"#f7f7f7\"],[0.6,\"#e6f5d0\"],[0.7,\"#b8e186\"],[0.8,\"#7fbc41\"],[0.9,\"#4d9221\"],[1,\"#276419\"]]},\"xaxis\":{\"gridcolor\":\"white\",\"linecolor\":\"white\",\"ticks\":\"\",\"title\":{\"standoff\":15},\"zerolinecolor\":\"white\",\"automargin\":true,\"zerolinewidth\":2},\"yaxis\":{\"gridcolor\":\"white\",\"linecolor\":\"white\",\"ticks\":\"\",\"title\":{\"standoff\":15},\"zerolinecolor\":\"white\",\"automargin\":true,\"zerolinewidth\":2},\"scene\":{\"xaxis\":{\"backgroundcolor\":\"#E5ECF6\",\"gridcolor\":\"white\",\"linecolor\":\"white\",\"showbackground\":true,\"ticks\":\"\",\"zerolinecolor\":\"white\",\"gridwidth\":2},\"yaxis\":{\"backgroundcolor\":\"#E5ECF6\",\"gridcolor\":\"white\",\"linecolor\":\"white\",\"showbackground\":true,\"ticks\":\"\",\"zerolinecolor\":\"white\",\"gridwidth\":2},\"zaxis\":{\"backgroundcolor\":\"#E5ECF6\",\"gridcolor\":\"white\",\"linecolor\":\"white\",\"showbackground\":true,\"ticks\":\"\",\"zerolinecolor\":\"white\",\"gridwidth\":2}},\"shapedefaults\":{\"line\":{\"color\":\"#2a3f5f\"}},\"annotationdefaults\":{\"arrowcolor\":\"#2a3f5f\",\"arrowhead\":0,\"arrowwidth\":1},\"geo\":{\"bgcolor\":\"white\",\"landcolor\":\"#E5ECF6\",\"subunitcolor\":\"white\",\"showland\":true,\"showlakes\":true,\"lakecolor\":\"white\"},\"title\":{\"x\":0.05},\"mapbox\":{\"style\":\"light\"}}},\"shapes\":[{\"line\":{\"color\":\"green\",\"dash\":\"dot\",\"width\":3},\"type\":\"line\",\"x0\":512000000.0,\"x1\":512000000.0,\"xref\":\"x\",\"y0\":0,\"y1\":1,\"yref\":\"y domain\"},{\"line\":{\"color\":\"red\",\"dash\":\"dash\",\"width\":3},\"type\":\"line\",\"x0\":0,\"x1\":1,\"xref\":\"x domain\",\"y0\":409,\"y1\":409,\"yref\":\"y\"}],\"annotations\":[{\"align\":\"left\",\"arrowcolor\":\"#636363\",\"arrowhead\":1,\"arrowsize\":1,\"arrowwidth\":2,\"ax\":-20,\"ay\":-30,\"font\":{\"color\":\"purple\",\"family\":\"Sans Serif\",\"size\":12},\"showarrow\":false,\"text\":\"LLC Size Per Node: 512M\",\"x\":\"512e6\",\"y\":280,\"yanchor\":\"bottom\"},{\"align\":\"left\",\"arrowcolor\":\"#636363\",\"arrowhead\":1,\"arrowsize\":1,\"arrowwidth\":2,\"ax\":-20,\"ay\":-30,\"font\":{\"color\":\"orange\",\"family\":\"Sans Serif\",\"size\":12},\"showarrow\":false,\"text\":\"Max Bandwidth Per Node\",\"x\":\"130e6\",\"y\":370,\"yanchor\":\"bottom\"}],\"xaxis\":{\"title\":{\"text\":\"Dirc_Data_Mov\"},\"ticks\":\"outside\"},\"yaxis\":{\"title\":{\"text\":\"Bandwidth/Node\"},\"ticks\":\"outside\"},\"title\":{\"text\":\"\\\"Newgeo Macro: Probempi vs Nonprobempi\\\" Bandwidth Measurement\"},\"legend\":{\"bordercolor\":\"black\",\"borderwidth\":1}},                        {\"responsive\": true}                    ).then(function(){\n",
       "                            \n",
       "var gd = document.getElementById('e7282161-8bd6-46a6-80d1-8209edc1ff52');\n",
       "var x = new MutationObserver(function (mutations, observer) {{\n",
       "        var display = window.getComputedStyle(gd).display;\n",
       "        if (!display || display === 'none') {{\n",
       "            console.log([gd, 'removed!']);\n",
       "            Plotly.purge(gd);\n",
       "            observer.disconnect();\n",
       "        }}\n",
       "}});\n",
       "\n",
       "// Listen for the removal of the full notebook cells\n",
       "var notebookContainer = gd.closest('#notebook-container');\n",
       "if (notebookContainer) {{\n",
       "    x.observe(notebookContainer, {childList: true});\n",
       "}}\n",
       "\n",
       "// Listen for the clearing of the current output cell\n",
       "var outputEl = gd.closest('.output');\n",
       "if (outputEl) {{\n",
       "    x.observe(outputEl, {childList: true});\n",
       "}}\n",
       "\n",
       "                        })                };                });            </script>        </div>"
      ]
     },
     "metadata": {},
     "output_type": "display_data"
    }
   ],
   "source": [
    "fig = go.Figure() \n",
    "\n",
    "# Case 1\n",
    "fig.add_trace(go.Scatter(x=(dfn8MacNewgeoProb_1024mpi_1omp.Dirc_Data_Mov*(dfn8MacNewgeoProb_1024mpi_1omp.MPI_size/8)), \n",
    "                         y=(dfn8MacNewgeoProb_1024mpi_1omp.BAND*(dfn8MacNewgeoProb_1024mpi_1omp.MPI_size/8)), \n",
    "                         mode='lines+markers', \n",
    "                         name='MacNewgeoProb_1024mpi_1omp',\n",
    "                         line=dict(color='darkcyan',width=3),\n",
    "                         marker=dict(symbol='hexagon',size=9, line=dict(color='yellow',width=1))))\n",
    "\n",
    "fig.add_trace(go.Scatter(x=(dfn8MacNewgeoNonProb_1024mpi_1omp.Dirc_Data_Mov*(dfn8MacNewgeoNonProb_1024mpi_1omp.MPI_size/8)), \n",
    "                         y=(dfn8MacNewgeoNonProb_1024mpi_1omp.BAND*(dfn8MacNewgeoNonProb_1024mpi_1omp.MPI_size/8)), \n",
    "                         mode='lines+markers', \n",
    "                         name='MacNonFusNonProb_1024mpi_1omp',\n",
    "                         line=dict(color='magenta',width=3),\n",
    "                         marker=dict(symbol='hexagon',size=9, line=dict(color='yellow',width=1))))\n",
    "\n",
    "\n",
    "# Case 2\n",
    "fig.add_trace(go.Scatter(x=(dfn8MacNewgeoProb_512mpi_2omp.Dirc_Data_Mov*(dfn8MacNewgeoProb_512mpi_2omp.MPI_size/8)), \n",
    "                         y=(dfn8MacNewgeoProb_512mpi_2omp.BAND*(dfn8MacNewgeoProb_512mpi_2omp.MPI_size/8)), \n",
    "                         mode='lines+markers', \n",
    "                         name='MacNewgeoProb_512mpi_2omp',\n",
    "                         line=dict(color='royalblue',width=3),\n",
    "                         marker=dict(symbol='diamond',size=5,line=dict(color='MediumPurple',width=2))))\n",
    "\n",
    "fig.add_trace(go.Scatter(x=(dfn8MacNewgeoNonProb_512mpi_2omp.Dirc_Data_Mov*(dfn8MacNewgeoNonProb_512mpi_2omp.MPI_size/8)), \n",
    "                         y=(dfn8MacNewgeoNonProb_512mpi_2omp.BAND*(dfn8MacNewgeoNonProb_512mpi_2omp.MPI_size/8)), \n",
    "                         mode='lines+markers', \n",
    "                         name='MacNewgeoNonProb_512mpi_2omp',\n",
    "                         line=dict(color='sandybrown',width=3),\n",
    "                         marker=dict(symbol='diamond',size=5,line=dict(color='MediumPurple',width=2))))\n",
    "\n",
    "\n",
    "# Case 3\n",
    "fig.add_trace(go.Scatter(x=(dfn8MacNewgeoProb_256mpi_4omp.Dirc_Data_Mov*(dfn8MacNewgeoProb_256mpi_4omp.MPI_size/8)), \n",
    "                         y=(dfn8MacNewgeoProb_256mpi_4omp.BAND*(dfn8MacNewgeoProb_256mpi_4omp.MPI_size/8)), \n",
    "                         mode='lines+markers', \n",
    "                         name='MacNewgeoProb_256mpi_4omp',\n",
    "                         line=dict(color='darkblue',width=3),\n",
    "                         marker=dict(symbol='circle',size=7, line=dict(color='tomato',width=2))))\n",
    "\n",
    "fig.add_trace(go.Scatter(x=(dfn8MacNewgeoNonProb_256mpi_4omp.Dirc_Data_Mov*(dfn8MacNewgeoNonProb_256mpi_4omp.MPI_size/8)), \n",
    "                         y=(dfn8MacNewgeoNonProb_256mpi_4omp.BAND*(dfn8MacNewgeoNonProb_256mpi_4omp.MPI_size/8)), \n",
    "                         mode='lines+markers', \n",
    "                         name='MacNewgeoNonProb_256mpi_4omp',\n",
    "                         line=dict(color='cyan',width=3),\n",
    "                         marker=dict(symbol='circle',size=7,line=dict(color='Purple',width=2))))\n",
    "\n",
    "\n",
    "\n",
    "# Case 4\n",
    "fig.add_trace(go.Scatter(x=(dfn8MacNewgeoProb_128mpi_8omp.Dirc_Data_Mov*(dfn8MacNewgeoProb_128mpi_8omp.MPI_size/8)), \n",
    "                         y=(dfn8MacNewgeoProb_128mpi_8omp.BAND*(dfn8MacNewgeoProb_128mpi_8omp.MPI_size/8)), \n",
    "                         mode='lines+markers', \n",
    "                         name='MacNewgeoProb_128mpi_8omp',\n",
    "                         line=dict(color='blue',width=3),\n",
    "                         marker=dict(symbol='star',size=7, line=dict(color='black',width=1))))\n",
    "\n",
    "fig.add_trace(go.Scatter(x=(dfn8MacNewgeoNonProb_128mpi_8omp.Dirc_Data_Mov*(dfn8MacNewgeoNonProb_128mpi_8omp.MPI_size/8)), \n",
    "                         y=(dfn8MacNewgeoNonProb_128mpi_8omp.BAND*(dfn8MacNewgeoNonProb_128mpi_8omp.MPI_size/8)), \n",
    "                         mode='lines+markers', \n",
    "                         name='MacNewgeoNonProb_128mpi_8omp',\n",
    "                         line=dict(color='red',width=3),\n",
    "                         marker=dict(symbol='star',size=7, line=dict(color='black',width=1))))\n",
    "\n",
    "\n",
    "# Case 5\n",
    "fig.add_trace(go.Scatter(x=(dfn8MacNewgeoProb_64mpi_16omp.Dirc_Data_Mov*(dfn8MacNewgeoProb_64mpi_16omp.MPI_size/8)), \n",
    "                         y=(dfn8MacNewgeoProb_64mpi_16omp.BAND*(dfn8MacNewgeoProb_64mpi_16omp.MPI_size/8)), \n",
    "                         mode='lines+markers', \n",
    "                         name='MacNewgeoProb_64mpi_16omp',\n",
    "                         line=dict(color='chartreuse',width=3),\n",
    "                         marker=dict(symbol='square-dot',size=6, line=dict(color='mediumvioletred',width=1))))\n",
    "\n",
    "fig.add_trace(go.Scatter(x=(dfn8MacNewgeoNonProb_64mpi_16omp.Dirc_Data_Mov*(dfn8MacNewgeoNonProb_64mpi_16omp.MPI_size/8)), \n",
    "                         y=(dfn8MacNewgeoNonProb_64mpi_16omp.BAND*(dfn8MacNewgeoNonProb_64mpi_16omp.MPI_size/8)), \n",
    "                         mode='lines+markers', \n",
    "                         name='MacNewgeoNonProb_64mpi_16omp',\n",
    "                         line=dict(color='black',width=3),\n",
    "                         marker=dict(symbol='square-dot',size=6, line=dict(color='mediumvioletred',width=1))))\n",
    "\n",
    "\n",
    "# Case 6\n",
    "fig.add_trace(go.Scatter(x=(dfn8MacNewgeoProb_168mpi_6omp.Dirc_Data_Mov*(dfn8MacNewgeoProb_168mpi_6omp.MPI_size/8)), \n",
    "                         y=(dfn8MacNewgeoProb_168mpi_6omp.BAND*(dfn8MacNewgeoProb_168mpi_6omp.MPI_size/8)), \n",
    "                         mode='lines+markers', \n",
    "                         name='MacNewgeoProb_168mpi_6omp',\n",
    "                         line=dict(color='gold',width=3),\n",
    "                         marker=dict(symbol='triangle-up',size=6, line=dict(color='black',width=1))))\n",
    "\n",
    "fig.add_trace(go.Scatter(x=(dfn8MacNewgeoNonProb_168mpi_6omp.Dirc_Data_Mov*(dfn8MacNewgeoNonProb_168mpi_6omp.MPI_size/8)), \n",
    "                         y=(dfn8MacNewgeoNonProb_168mpi_6omp.BAND*(dfn8MacNewgeoNonProb_168mpi_6omp.MPI_size/8)), \n",
    "                         mode='lines+markers', \n",
    "                         name='MacNewgeoNonProb_168mpi_6omp',\n",
    "                         line=dict(color='dimgray',width=3),\n",
    "                         marker=dict(symbol='triangle-up',size=6, line=dict(color='black',width=1))))\n",
    "\n",
    "\n",
    "\n",
    "# Case 7\n",
    "fig.add_trace(go.Scatter(x=(dfn8MacNewgeoProb_504mpi_2omp.Dirc_Data_Mov*(dfn8MacNewgeoProb_504mpi_2omp.MPI_size/8)), \n",
    "                         y=(dfn8MacNewgeoProb_504mpi_2omp.BAND*(dfn8MacNewgeoProb_504mpi_2omp.MPI_size/8)), \n",
    "                         mode='lines+markers', \n",
    "                         name='MacNewgeoProb_504mpi_2omp',\n",
    "                         line=dict(color='olive',width=3),\n",
    "                         marker=dict(symbol='circle',size=6, line=dict(color='olive',width=2))))\n",
    "\n",
    "fig.add_trace(go.Scatter(x=(dfn8MacNewgeoNonProb_504mpi_2omp.Dirc_Data_Mov*(dfn8MacNewgeoNonProb_504mpi_2omp.MPI_size/8)), \n",
    "                         y=(dfn8MacNewgeoNonProb_504mpi_2omp.BAND*(dfn8MacNewgeoNonProb_504mpi_2omp.MPI_size/8)), \n",
    "                         mode='lines+markers', \n",
    "                         name='MacNewgeoNonProb_504mpi_2omp',\n",
    "                         line=dict(color='Brown',width=3),\n",
    "                         marker=dict(symbol='circle',size=6, line=dict(color='darkred',width=2))))\n",
    "\n",
    "\n",
    "\n",
    "# Adding vertical and horizontal lines \n",
    "fig.add_vline(x=512e6, line_width=3, line_dash=\"dot\", line_color=\"green\")\n",
    "fig.add_hline(y=409, line_width=3, line_dash=\"dash\", line_color=\"red\")\n",
    "\n",
    "# Add annotation with arrow\n",
    "fig.add_annotation(\n",
    "    x='512e6'\n",
    "    , y=280\n",
    "    , text=f'LLC Size Per Node: 512M'\n",
    "    , yanchor='bottom'\n",
    "    , showarrow=False\n",
    "    , arrowhead=1\n",
    "    , arrowsize=1\n",
    "    , arrowwidth=2\n",
    "    , arrowcolor=\"#636363\"\n",
    "    , ax=-20\n",
    "    , ay=-30\n",
    "    , font=dict(size=12, color=\"purple\", family=\"Sans Serif\")\n",
    "    , align=\"left\"\n",
    "    ,)\n",
    "\n",
    "fig.add_annotation(\n",
    "    x='130e6'\n",
    "    , y=370\n",
    "    , text=f'Max Bandwidth Per Node'\n",
    "    , yanchor='bottom'\n",
    "    , showarrow=False\n",
    "    , arrowhead=1\n",
    "    , arrowsize=1\n",
    "    , arrowwidth=2\n",
    "    , arrowcolor=\"#636363\"\n",
    "    , ax=-20\n",
    "    , ay=-30\n",
    "    , font=dict(size=12, color=\"orange\", family=\"Sans Serif\")\n",
    "    , align=\"left\"\n",
    "    ,)\n",
    "\n",
    "\n",
    "fig.update_layout(title='\"Newgeo Macro: Probempi vs Nonprobempi\" Bandwidth Measurement',\n",
    "                  xaxis_title='Dirc_Data_Mov', yaxis_title='Bandwidth/Node', \n",
    "                  xaxis=dict(ticks=\"outside\"),  \n",
    "                  yaxis=dict(ticks=\"outside\"),\n",
    "                  legend=go.layout.Legend(bordercolor=\"black\",borderwidth=1)) \n",
    "\n",
    "\n",
    "\n"
   ]
  },
  {
   "cell_type": "code",
   "execution_count": null,
   "id": "969f49d2",
   "metadata": {},
   "outputs": [],
   "source": []
  },
  {
   "cell_type": "markdown",
   "id": "5fa99724",
   "metadata": {},
   "source": [
    "# HIPPO AVX CASES"
   ]
  },
  {
   "cell_type": "markdown",
   "id": "c7c6fa35",
   "metadata": {},
   "source": [
    "## 1) Fused_AVX_Probmpi"
   ]
  },
  {
   "cell_type": "markdown",
   "id": "b09cd01f",
   "metadata": {},
   "source": [
    "### Adding Columns"
   ]
  },
  {
   "cell_type": "code",
   "execution_count": 35,
   "id": "c07a3f04",
   "metadata": {},
   "outputs": [],
   "source": [
    "dfn8_avx_fused_probmpi[\"N_Nodes\"] = 8\n",
    "dfn8_avx_fused_probmpi['NPX'] = (dfn8_avx_fused_probmpi.GLB_X//dfn8_avx_fused_probmpi.LOC_X)\n",
    "dfn8_avx_fused_probmpi['NPY'] = (dfn8_avx_fused_probmpi.GLB_Y//dfn8_avx_fused_probmpi.LOC_Y)\n",
    "dfn8_avx_fused_probmpi['NPZ'] = (dfn8_avx_fused_probmpi.GLB_Z//dfn8_avx_fused_probmpi.LOC_Z)\n",
    "dfn8_avx_fused_probmpi['NPT'] = (dfn8_avx_fused_probmpi.GLB_T//dfn8_avx_fused_probmpi.LOC_T)\n",
    "dfn8_avx_fused_probmpi[\"Total_proc\"] = dfn8_avx_fused_probmpi[\"omp_thrd\"]* dfn8_avx_fused_probmpi.MPI_size\n",
    "# dfn8_avx_fused_probmpi.columns"
   ]
  },
  {
   "cell_type": "markdown",
   "id": "685efbf5",
   "metadata": {},
   "source": [
    "### Data Summary"
   ]
  },
  {
   "cell_type": "code",
   "execution_count": 36,
   "id": "c05a7226",
   "metadata": {},
   "outputs": [
    {
     "data": {
      "text/html": [
       "<div>\n",
       "<style scoped>\n",
       "    .dataframe tbody tr th:only-of-type {\n",
       "        vertical-align: middle;\n",
       "    }\n",
       "\n",
       "    .dataframe tbody tr th {\n",
       "        vertical-align: top;\n",
       "    }\n",
       "\n",
       "    .dataframe thead th {\n",
       "        text-align: right;\n",
       "    }\n",
       "</style>\n",
       "<table border=\"1\" class=\"dataframe\">\n",
       "  <thead>\n",
       "    <tr style=\"text-align: right;\">\n",
       "      <th></th>\n",
       "      <th>MPI_size</th>\n",
       "      <th>omp_thrd</th>\n",
       "      <th>NPT</th>\n",
       "      <th>NPX</th>\n",
       "      <th>NPY</th>\n",
       "      <th>NPZ</th>\n",
       "      <th>Total_proc</th>\n",
       "      <th>size</th>\n",
       "    </tr>\n",
       "  </thead>\n",
       "  <tbody>\n",
       "    <tr>\n",
       "      <th>0</th>\n",
       "      <td>64</td>\n",
       "      <td>16</td>\n",
       "      <td>8</td>\n",
       "      <td>2</td>\n",
       "      <td>2</td>\n",
       "      <td>2</td>\n",
       "      <td>1024</td>\n",
       "      <td>139</td>\n",
       "    </tr>\n",
       "    <tr>\n",
       "      <th>1</th>\n",
       "      <td>72</td>\n",
       "      <td>14</td>\n",
       "      <td>9</td>\n",
       "      <td>2</td>\n",
       "      <td>2</td>\n",
       "      <td>2</td>\n",
       "      <td>1008</td>\n",
       "      <td>60</td>\n",
       "    </tr>\n",
       "    <tr>\n",
       "      <th>2</th>\n",
       "      <td>112</td>\n",
       "      <td>9</td>\n",
       "      <td>14</td>\n",
       "      <td>2</td>\n",
       "      <td>2</td>\n",
       "      <td>2</td>\n",
       "      <td>1008</td>\n",
       "      <td>79</td>\n",
       "    </tr>\n",
       "    <tr>\n",
       "      <th>3</th>\n",
       "      <td>128</td>\n",
       "      <td>8</td>\n",
       "      <td>16</td>\n",
       "      <td>2</td>\n",
       "      <td>2</td>\n",
       "      <td>2</td>\n",
       "      <td>1024</td>\n",
       "      <td>70</td>\n",
       "    </tr>\n",
       "    <tr>\n",
       "      <th>4</th>\n",
       "      <td>144</td>\n",
       "      <td>7</td>\n",
       "      <td>18</td>\n",
       "      <td>2</td>\n",
       "      <td>2</td>\n",
       "      <td>2</td>\n",
       "      <td>1008</td>\n",
       "      <td>60</td>\n",
       "    </tr>\n",
       "    <tr>\n",
       "      <th>5</th>\n",
       "      <td>168</td>\n",
       "      <td>6</td>\n",
       "      <td>21</td>\n",
       "      <td>2</td>\n",
       "      <td>2</td>\n",
       "      <td>2</td>\n",
       "      <td>1008</td>\n",
       "      <td>26</td>\n",
       "    </tr>\n",
       "    <tr>\n",
       "      <th>6</th>\n",
       "      <td>200</td>\n",
       "      <td>5</td>\n",
       "      <td>25</td>\n",
       "      <td>2</td>\n",
       "      <td>2</td>\n",
       "      <td>2</td>\n",
       "      <td>1000</td>\n",
       "      <td>22</td>\n",
       "    </tr>\n",
       "    <tr>\n",
       "      <th>7</th>\n",
       "      <td>248</td>\n",
       "      <td>4</td>\n",
       "      <td>31</td>\n",
       "      <td>2</td>\n",
       "      <td>2</td>\n",
       "      <td>2</td>\n",
       "      <td>992</td>\n",
       "      <td>18</td>\n",
       "    </tr>\n",
       "    <tr>\n",
       "      <th>8</th>\n",
       "      <td>256</td>\n",
       "      <td>4</td>\n",
       "      <td>32</td>\n",
       "      <td>2</td>\n",
       "      <td>2</td>\n",
       "      <td>2</td>\n",
       "      <td>1024</td>\n",
       "      <td>35</td>\n",
       "    </tr>\n",
       "    <tr>\n",
       "      <th>9</th>\n",
       "      <td>328</td>\n",
       "      <td>3</td>\n",
       "      <td>41</td>\n",
       "      <td>2</td>\n",
       "      <td>2</td>\n",
       "      <td>2</td>\n",
       "      <td>984</td>\n",
       "      <td>13</td>\n",
       "    </tr>\n",
       "    <tr>\n",
       "      <th>10</th>\n",
       "      <td>336</td>\n",
       "      <td>3</td>\n",
       "      <td>42</td>\n",
       "      <td>2</td>\n",
       "      <td>2</td>\n",
       "      <td>2</td>\n",
       "      <td>1008</td>\n",
       "      <td>26</td>\n",
       "    </tr>\n",
       "    <tr>\n",
       "      <th>11</th>\n",
       "      <td>488</td>\n",
       "      <td>2</td>\n",
       "      <td>61</td>\n",
       "      <td>2</td>\n",
       "      <td>2</td>\n",
       "      <td>2</td>\n",
       "      <td>976</td>\n",
       "      <td>9</td>\n",
       "    </tr>\n",
       "    <tr>\n",
       "      <th>12</th>\n",
       "      <td>496</td>\n",
       "      <td>2</td>\n",
       "      <td>62</td>\n",
       "      <td>2</td>\n",
       "      <td>2</td>\n",
       "      <td>2</td>\n",
       "      <td>992</td>\n",
       "      <td>17</td>\n",
       "    </tr>\n",
       "    <tr>\n",
       "      <th>13</th>\n",
       "      <td>504</td>\n",
       "      <td>2</td>\n",
       "      <td>63</td>\n",
       "      <td>2</td>\n",
       "      <td>2</td>\n",
       "      <td>2</td>\n",
       "      <td>1008</td>\n",
       "      <td>9</td>\n",
       "    </tr>\n",
       "    <tr>\n",
       "      <th>14</th>\n",
       "      <td>512</td>\n",
       "      <td>2</td>\n",
       "      <td>64</td>\n",
       "      <td>2</td>\n",
       "      <td>2</td>\n",
       "      <td>2</td>\n",
       "      <td>1024</td>\n",
       "      <td>17</td>\n",
       "    </tr>\n",
       "    <tr>\n",
       "      <th>15</th>\n",
       "      <td>976</td>\n",
       "      <td>1</td>\n",
       "      <td>122</td>\n",
       "      <td>2</td>\n",
       "      <td>2</td>\n",
       "      <td>2</td>\n",
       "      <td>976</td>\n",
       "      <td>7</td>\n",
       "    </tr>\n",
       "    <tr>\n",
       "      <th>16</th>\n",
       "      <td>984</td>\n",
       "      <td>1</td>\n",
       "      <td>123</td>\n",
       "      <td>2</td>\n",
       "      <td>2</td>\n",
       "      <td>2</td>\n",
       "      <td>984</td>\n",
       "      <td>4</td>\n",
       "    </tr>\n",
       "    <tr>\n",
       "      <th>17</th>\n",
       "      <td>992</td>\n",
       "      <td>1</td>\n",
       "      <td>124</td>\n",
       "      <td>2</td>\n",
       "      <td>2</td>\n",
       "      <td>2</td>\n",
       "      <td>992</td>\n",
       "      <td>6</td>\n",
       "    </tr>\n",
       "    <tr>\n",
       "      <th>18</th>\n",
       "      <td>1000</td>\n",
       "      <td>1</td>\n",
       "      <td>125</td>\n",
       "      <td>2</td>\n",
       "      <td>2</td>\n",
       "      <td>2</td>\n",
       "      <td>1000</td>\n",
       "      <td>4</td>\n",
       "    </tr>\n",
       "    <tr>\n",
       "      <th>19</th>\n",
       "      <td>1008</td>\n",
       "      <td>1</td>\n",
       "      <td>126</td>\n",
       "      <td>2</td>\n",
       "      <td>2</td>\n",
       "      <td>2</td>\n",
       "      <td>1008</td>\n",
       "      <td>7</td>\n",
       "    </tr>\n",
       "    <tr>\n",
       "      <th>20</th>\n",
       "      <td>1016</td>\n",
       "      <td>1</td>\n",
       "      <td>127</td>\n",
       "      <td>2</td>\n",
       "      <td>2</td>\n",
       "      <td>2</td>\n",
       "      <td>1016</td>\n",
       "      <td>4</td>\n",
       "    </tr>\n",
       "    <tr>\n",
       "      <th>21</th>\n",
       "      <td>1024</td>\n",
       "      <td>1</td>\n",
       "      <td>128</td>\n",
       "      <td>2</td>\n",
       "      <td>2</td>\n",
       "      <td>2</td>\n",
       "      <td>1024</td>\n",
       "      <td>7</td>\n",
       "    </tr>\n",
       "  </tbody>\n",
       "</table>\n",
       "</div>"
      ],
      "text/plain": [
       "    MPI_size  omp_thrd  NPT  NPX  NPY  NPZ  Total_proc  size\n",
       "0         64        16    8    2    2    2        1024   139\n",
       "1         72        14    9    2    2    2        1008    60\n",
       "2        112         9   14    2    2    2        1008    79\n",
       "3        128         8   16    2    2    2        1024    70\n",
       "4        144         7   18    2    2    2        1008    60\n",
       "5        168         6   21    2    2    2        1008    26\n",
       "6        200         5   25    2    2    2        1000    22\n",
       "7        248         4   31    2    2    2         992    18\n",
       "8        256         4   32    2    2    2        1024    35\n",
       "9        328         3   41    2    2    2         984    13\n",
       "10       336         3   42    2    2    2        1008    26\n",
       "11       488         2   61    2    2    2         976     9\n",
       "12       496         2   62    2    2    2         992    17\n",
       "13       504         2   63    2    2    2        1008     9\n",
       "14       512         2   64    2    2    2        1024    17\n",
       "15       976         1  122    2    2    2         976     7\n",
       "16       984         1  123    2    2    2         984     4\n",
       "17       992         1  124    2    2    2         992     6\n",
       "18      1000         1  125    2    2    2        1000     4\n",
       "19      1008         1  126    2    2    2        1008     7\n",
       "20      1016         1  127    2    2    2        1016     4\n",
       "21      1024         1  128    2    2    2        1024     7"
      ]
     },
     "execution_count": 36,
     "metadata": {},
     "output_type": "execute_result"
    }
   ],
   "source": [
    "dfn8_avx_fused_probmpi_summary = dfn8_avx_fused_probmpi.groupby(['MPI_size','omp_thrd','NPT','NPX', 'NPY', 'NPZ',\"Total_proc\"]).size().reset_index(name = 'size')\n",
    "dfn8_avx_fused_probmpi_summary"
   ]
  },
  {
   "cell_type": "markdown",
   "id": "1e32c64b",
   "metadata": {},
   "source": [
    "### Cases Setup"
   ]
  },
  {
   "cell_type": "code",
   "execution_count": 29,
   "id": "b08ce586",
   "metadata": {},
   "outputs": [],
   "source": [
    "dfn8AvxFusProb_16mpi_64omp = dfn8_avx_fused_probmpi[(dfn8_avx_fused_probmpi.omp_thrd == 64) & (dfn8_avx_fused_probmpi.GLB_T/dfn8_avx_fused_probmpi.LOC_T == 2) & (dfn8_avx_fused_probmpi.GLB_X/dfn8_avx_fused_probmpi.LOC_X == 2) & (dfn8_avx_fused_probmpi.GLB_Y/dfn8_avx_fused_probmpi.LOC_Y == 2)& (dfn8_avx_fused_probmpi.GLB_Z/dfn8_avx_fused_probmpi.LOC_Z == 2)]\n",
    "dfn8AvxFusProb_32mpi_32omp = dfn8_avx_fused_probmpi[(dfn8_avx_fused_probmpi.omp_thrd == 32) & (dfn8_avx_fused_probmpi.GLB_T/dfn8_avx_fused_probmpi.LOC_T == 4) & (dfn8_avx_fused_probmpi.GLB_X/dfn8_avx_fused_probmpi.LOC_X == 2) & (dfn8_avx_fused_probmpi.GLB_Y/dfn8_avx_fused_probmpi.LOC_Y == 2)& (dfn8_avx_fused_probmpi.GLB_Z/dfn8_avx_fused_probmpi.LOC_Z == 2)]\n",
    "dfn8AvxFusProb_64mpi_16omp = dfn8_avx_fused_probmpi[(dfn8_avx_fused_probmpi.omp_thrd == 16) & (dfn8_avx_fused_probmpi.GLB_T/dfn8_avx_fused_probmpi.LOC_T == 8) & (dfn8_avx_fused_probmpi.GLB_X/dfn8_avx_fused_probmpi.LOC_X == 2) & (dfn8_avx_fused_probmpi.GLB_Y/dfn8_avx_fused_probmpi.LOC_Y == 2)& (dfn8_avx_fused_probmpi.GLB_Z/dfn8_avx_fused_probmpi.LOC_Z == 2)]\n",
    "dfn8AvxFusProb_128mpi_8omp = dfn8_avx_fused_probmpi[(dfn8_avx_fused_probmpi.omp_thrd == 8) & (dfn8_avx_fused_probmpi.GLB_T/dfn8_avx_fused_probmpi.LOC_T == 16) & (dfn8_avx_fused_probmpi.GLB_X/dfn8_avx_fused_probmpi.LOC_X == 2) & (dfn8_avx_fused_probmpi.GLB_Y/dfn8_avx_fused_probmpi.LOC_Y == 2)& (dfn8_avx_fused_probmpi.GLB_Z/dfn8_avx_fused_probmpi.LOC_Z == 2)]\n",
    "dfn8AvxFusProb_256mpi_4omp = dfn8_avx_fused_probmpi[(dfn8_avx_fused_probmpi.omp_thrd == 4) & (dfn8_avx_fused_probmpi.GLB_T/dfn8_avx_fused_probmpi.LOC_T == 32) & (dfn8_avx_fused_probmpi.GLB_X/dfn8_avx_fused_probmpi.LOC_X == 2) & (dfn8_avx_fused_probmpi.GLB_Y/dfn8_avx_fused_probmpi.LOC_Y == 2)& (dfn8_avx_fused_probmpi.GLB_Z/dfn8_avx_fused_probmpi.LOC_Z == 2)]\n",
    "dfn8AvxFusProb_512mpi_2omp = dfn8_avx_fused_probmpi[(dfn8_avx_fused_probmpi.omp_thrd == 2) & (dfn8_avx_fused_probmpi.GLB_T/dfn8_avx_fused_probmpi.LOC_T == 64) & (dfn8_avx_fused_probmpi.GLB_X/dfn8_avx_fused_probmpi.LOC_X == 2) & (dfn8_avx_fused_probmpi.GLB_Y/dfn8_avx_fused_probmpi.LOC_Y == 2)& (dfn8_avx_fused_probmpi.GLB_Z/dfn8_avx_fused_probmpi.LOC_Z == 2)]\n",
    "dfn8AvxFusProb_1024mpi_1omp = dfn8_avx_fused_probmpi[(dfn8_avx_fused_probmpi.omp_thrd == 1) & (dfn8_avx_fused_probmpi.GLB_T/dfn8_avx_fused_probmpi.LOC_T == 128) & (dfn8_avx_fused_probmpi.GLB_X/dfn8_avx_fused_probmpi.LOC_X == 2) & (dfn8_avx_fused_probmpi.GLB_Y/dfn8_avx_fused_probmpi.LOC_Y == 2)& (dfn8_avx_fused_probmpi.GLB_Z/dfn8_avx_fused_probmpi.LOC_Z == 2)]\n"
   ]
  },
  {
   "cell_type": "markdown",
   "id": "c800476b",
   "metadata": {},
   "source": [
    "## 2) Fused_AVX_NonProbmpi"
   ]
  },
  {
   "cell_type": "markdown",
   "id": "9561954d",
   "metadata": {},
   "source": [
    "### Adding Columns"
   ]
  },
  {
   "cell_type": "code",
   "execution_count": 30,
   "id": "3b815749",
   "metadata": {},
   "outputs": [],
   "source": [
    "dfn8_avx_fused_nonprobmpi[\"N_Nodes\"] = 8\n",
    "dfn8_avx_fused_nonprobmpi['NPX'] = (dfn8_avx_fused_nonprobmpi.GLB_X//dfn8_avx_fused_nonprobmpi.LOC_X)\n",
    "dfn8_avx_fused_nonprobmpi['NPY'] = (dfn8_avx_fused_nonprobmpi.GLB_Y//dfn8_avx_fused_nonprobmpi.LOC_Y)\n",
    "dfn8_avx_fused_nonprobmpi['NPZ'] = (dfn8_avx_fused_nonprobmpi.GLB_Z//dfn8_avx_fused_nonprobmpi.LOC_Z)\n",
    "dfn8_avx_fused_nonprobmpi['NPT'] = (dfn8_avx_fused_nonprobmpi.GLB_T//dfn8_avx_fused_nonprobmpi.LOC_T)\n",
    "dfn8_avx_fused_nonprobmpi[\"Total_proc\"] = dfn8_avx_fused_nonprobmpi[\"omp_thrd\"]* dfn8_avx_fused_nonprobmpi.MPI_size\n",
    "# dfn8_avx_fused_nonprobmpi.columns"
   ]
  },
  {
   "cell_type": "markdown",
   "id": "16b407f3",
   "metadata": {},
   "source": [
    "### Data Summary"
   ]
  },
  {
   "cell_type": "code",
   "execution_count": 31,
   "id": "1a450eeb",
   "metadata": {},
   "outputs": [
    {
     "data": {
      "text/html": [
       "<div>\n",
       "<style scoped>\n",
       "    .dataframe tbody tr th:only-of-type {\n",
       "        vertical-align: middle;\n",
       "    }\n",
       "\n",
       "    .dataframe tbody tr th {\n",
       "        vertical-align: top;\n",
       "    }\n",
       "\n",
       "    .dataframe thead th {\n",
       "        text-align: right;\n",
       "    }\n",
       "</style>\n",
       "<table border=\"1\" class=\"dataframe\">\n",
       "  <thead>\n",
       "    <tr style=\"text-align: right;\">\n",
       "      <th></th>\n",
       "      <th>MPI_size</th>\n",
       "      <th>omp_thrd</th>\n",
       "      <th>NPT</th>\n",
       "      <th>NPX</th>\n",
       "      <th>NPY</th>\n",
       "      <th>NPZ</th>\n",
       "      <th>Total_proc</th>\n",
       "      <th>size</th>\n",
       "    </tr>\n",
       "  </thead>\n",
       "  <tbody>\n",
       "    <tr>\n",
       "      <th>0</th>\n",
       "      <td>64</td>\n",
       "      <td>16</td>\n",
       "      <td>8</td>\n",
       "      <td>2</td>\n",
       "      <td>2</td>\n",
       "      <td>2</td>\n",
       "      <td>1024</td>\n",
       "      <td>138</td>\n",
       "    </tr>\n",
       "    <tr>\n",
       "      <th>1</th>\n",
       "      <td>72</td>\n",
       "      <td>14</td>\n",
       "      <td>9</td>\n",
       "      <td>2</td>\n",
       "      <td>2</td>\n",
       "      <td>2</td>\n",
       "      <td>1008</td>\n",
       "      <td>62</td>\n",
       "    </tr>\n",
       "    <tr>\n",
       "      <th>2</th>\n",
       "      <td>112</td>\n",
       "      <td>9</td>\n",
       "      <td>14</td>\n",
       "      <td>2</td>\n",
       "      <td>2</td>\n",
       "      <td>2</td>\n",
       "      <td>1008</td>\n",
       "      <td>80</td>\n",
       "    </tr>\n",
       "    <tr>\n",
       "      <th>3</th>\n",
       "      <td>128</td>\n",
       "      <td>8</td>\n",
       "      <td>16</td>\n",
       "      <td>2</td>\n",
       "      <td>2</td>\n",
       "      <td>2</td>\n",
       "      <td>1024</td>\n",
       "      <td>70</td>\n",
       "    </tr>\n",
       "    <tr>\n",
       "      <th>4</th>\n",
       "      <td>144</td>\n",
       "      <td>7</td>\n",
       "      <td>18</td>\n",
       "      <td>2</td>\n",
       "      <td>2</td>\n",
       "      <td>2</td>\n",
       "      <td>1008</td>\n",
       "      <td>62</td>\n",
       "    </tr>\n",
       "    <tr>\n",
       "      <th>5</th>\n",
       "      <td>168</td>\n",
       "      <td>6</td>\n",
       "      <td>21</td>\n",
       "      <td>2</td>\n",
       "      <td>2</td>\n",
       "      <td>2</td>\n",
       "      <td>1008</td>\n",
       "      <td>27</td>\n",
       "    </tr>\n",
       "    <tr>\n",
       "      <th>6</th>\n",
       "      <td>200</td>\n",
       "      <td>5</td>\n",
       "      <td>25</td>\n",
       "      <td>2</td>\n",
       "      <td>2</td>\n",
       "      <td>2</td>\n",
       "      <td>1000</td>\n",
       "      <td>22</td>\n",
       "    </tr>\n",
       "    <tr>\n",
       "      <th>7</th>\n",
       "      <td>248</td>\n",
       "      <td>4</td>\n",
       "      <td>31</td>\n",
       "      <td>2</td>\n",
       "      <td>2</td>\n",
       "      <td>2</td>\n",
       "      <td>992</td>\n",
       "      <td>18</td>\n",
       "    </tr>\n",
       "    <tr>\n",
       "      <th>8</th>\n",
       "      <td>256</td>\n",
       "      <td>4</td>\n",
       "      <td>32</td>\n",
       "      <td>2</td>\n",
       "      <td>2</td>\n",
       "      <td>2</td>\n",
       "      <td>1024</td>\n",
       "      <td>35</td>\n",
       "    </tr>\n",
       "    <tr>\n",
       "      <th>9</th>\n",
       "      <td>328</td>\n",
       "      <td>3</td>\n",
       "      <td>41</td>\n",
       "      <td>2</td>\n",
       "      <td>2</td>\n",
       "      <td>2</td>\n",
       "      <td>984</td>\n",
       "      <td>13</td>\n",
       "    </tr>\n",
       "    <tr>\n",
       "      <th>10</th>\n",
       "      <td>336</td>\n",
       "      <td>3</td>\n",
       "      <td>42</td>\n",
       "      <td>2</td>\n",
       "      <td>2</td>\n",
       "      <td>2</td>\n",
       "      <td>1008</td>\n",
       "      <td>26</td>\n",
       "    </tr>\n",
       "    <tr>\n",
       "      <th>11</th>\n",
       "      <td>488</td>\n",
       "      <td>2</td>\n",
       "      <td>61</td>\n",
       "      <td>2</td>\n",
       "      <td>2</td>\n",
       "      <td>2</td>\n",
       "      <td>976</td>\n",
       "      <td>9</td>\n",
       "    </tr>\n",
       "    <tr>\n",
       "      <th>12</th>\n",
       "      <td>496</td>\n",
       "      <td>2</td>\n",
       "      <td>62</td>\n",
       "      <td>2</td>\n",
       "      <td>2</td>\n",
       "      <td>2</td>\n",
       "      <td>992</td>\n",
       "      <td>16</td>\n",
       "    </tr>\n",
       "    <tr>\n",
       "      <th>13</th>\n",
       "      <td>504</td>\n",
       "      <td>2</td>\n",
       "      <td>63</td>\n",
       "      <td>2</td>\n",
       "      <td>2</td>\n",
       "      <td>2</td>\n",
       "      <td>1008</td>\n",
       "      <td>9</td>\n",
       "    </tr>\n",
       "    <tr>\n",
       "      <th>14</th>\n",
       "      <td>512</td>\n",
       "      <td>2</td>\n",
       "      <td>64</td>\n",
       "      <td>2</td>\n",
       "      <td>2</td>\n",
       "      <td>2</td>\n",
       "      <td>1024</td>\n",
       "      <td>17</td>\n",
       "    </tr>\n",
       "    <tr>\n",
       "      <th>15</th>\n",
       "      <td>976</td>\n",
       "      <td>1</td>\n",
       "      <td>122</td>\n",
       "      <td>2</td>\n",
       "      <td>2</td>\n",
       "      <td>2</td>\n",
       "      <td>976</td>\n",
       "      <td>6</td>\n",
       "    </tr>\n",
       "    <tr>\n",
       "      <th>16</th>\n",
       "      <td>984</td>\n",
       "      <td>1</td>\n",
       "      <td>123</td>\n",
       "      <td>2</td>\n",
       "      <td>2</td>\n",
       "      <td>2</td>\n",
       "      <td>984</td>\n",
       "      <td>4</td>\n",
       "    </tr>\n",
       "    <tr>\n",
       "      <th>17</th>\n",
       "      <td>992</td>\n",
       "      <td>1</td>\n",
       "      <td>124</td>\n",
       "      <td>2</td>\n",
       "      <td>2</td>\n",
       "      <td>2</td>\n",
       "      <td>992</td>\n",
       "      <td>7</td>\n",
       "    </tr>\n",
       "    <tr>\n",
       "      <th>18</th>\n",
       "      <td>1000</td>\n",
       "      <td>1</td>\n",
       "      <td>125</td>\n",
       "      <td>2</td>\n",
       "      <td>2</td>\n",
       "      <td>2</td>\n",
       "      <td>1000</td>\n",
       "      <td>4</td>\n",
       "    </tr>\n",
       "    <tr>\n",
       "      <th>19</th>\n",
       "      <td>1008</td>\n",
       "      <td>1</td>\n",
       "      <td>126</td>\n",
       "      <td>2</td>\n",
       "      <td>2</td>\n",
       "      <td>2</td>\n",
       "      <td>1008</td>\n",
       "      <td>7</td>\n",
       "    </tr>\n",
       "    <tr>\n",
       "      <th>20</th>\n",
       "      <td>1016</td>\n",
       "      <td>1</td>\n",
       "      <td>127</td>\n",
       "      <td>2</td>\n",
       "      <td>2</td>\n",
       "      <td>2</td>\n",
       "      <td>1016</td>\n",
       "      <td>4</td>\n",
       "    </tr>\n",
       "    <tr>\n",
       "      <th>21</th>\n",
       "      <td>1024</td>\n",
       "      <td>1</td>\n",
       "      <td>128</td>\n",
       "      <td>2</td>\n",
       "      <td>2</td>\n",
       "      <td>2</td>\n",
       "      <td>1024</td>\n",
       "      <td>7</td>\n",
       "    </tr>\n",
       "  </tbody>\n",
       "</table>\n",
       "</div>"
      ],
      "text/plain": [
       "    MPI_size  omp_thrd  NPT  NPX  NPY  NPZ  Total_proc  size\n",
       "0         64        16    8    2    2    2        1024   138\n",
       "1         72        14    9    2    2    2        1008    62\n",
       "2        112         9   14    2    2    2        1008    80\n",
       "3        128         8   16    2    2    2        1024    70\n",
       "4        144         7   18    2    2    2        1008    62\n",
       "5        168         6   21    2    2    2        1008    27\n",
       "6        200         5   25    2    2    2        1000    22\n",
       "7        248         4   31    2    2    2         992    18\n",
       "8        256         4   32    2    2    2        1024    35\n",
       "9        328         3   41    2    2    2         984    13\n",
       "10       336         3   42    2    2    2        1008    26\n",
       "11       488         2   61    2    2    2         976     9\n",
       "12       496         2   62    2    2    2         992    16\n",
       "13       504         2   63    2    2    2        1008     9\n",
       "14       512         2   64    2    2    2        1024    17\n",
       "15       976         1  122    2    2    2         976     6\n",
       "16       984         1  123    2    2    2         984     4\n",
       "17       992         1  124    2    2    2         992     7\n",
       "18      1000         1  125    2    2    2        1000     4\n",
       "19      1008         1  126    2    2    2        1008     7\n",
       "20      1016         1  127    2    2    2        1016     4\n",
       "21      1024         1  128    2    2    2        1024     7"
      ]
     },
     "execution_count": 31,
     "metadata": {},
     "output_type": "execute_result"
    }
   ],
   "source": [
    "dfn8_avx_fused_nonprobmpi_summary = dfn8_avx_fused_nonprobmpi.groupby(['MPI_size','omp_thrd','NPT','NPX', 'NPY', 'NPZ',\"Total_proc\"]).size().reset_index(name = 'size')\n",
    "dfn8_avx_fused_nonprobmpi_summary"
   ]
  },
  {
   "cell_type": "markdown",
   "id": "14b47cc8",
   "metadata": {},
   "source": [
    "### Cases Setup"
   ]
  },
  {
   "cell_type": "code",
   "execution_count": 32,
   "id": "d12bd306",
   "metadata": {},
   "outputs": [],
   "source": [
    "dfn8AvxFusNonProb_64mpi_16omp = dfn8_avx_fused_nonprobmpi[(dfn8_avx_fused_nonprobmpi.omp_thrd == 16) & (dfn8_avx_fused_nonprobmpi.GLB_T/dfn8_avx_fused_nonprobmpi.LOC_T == 8) & (dfn8_avx_fused_nonprobmpi.GLB_X/dfn8_avx_fused_nonprobmpi.LOC_X == 2) & (dfn8_avx_fused_nonprobmpi.GLB_Y/dfn8_avx_fused_nonprobmpi.LOC_Y == 2)& (dfn8_avx_fused_nonprobmpi.GLB_Z/dfn8_avx_fused_nonprobmpi.LOC_Z == 2)]\n",
    "dfn8AvxFusNonProb_128mpi_8omp = dfn8_avx_fused_nonprobmpi[(dfn8_avx_fused_nonprobmpi.omp_thrd == 8) & (dfn8_avx_fused_nonprobmpi.GLB_T/dfn8_avx_fused_nonprobmpi.LOC_T == 16) & (dfn8_avx_fused_nonprobmpi.GLB_X/dfn8_avx_fused_nonprobmpi.LOC_X == 2) & (dfn8_avx_fused_nonprobmpi.GLB_Y/dfn8_avx_fused_nonprobmpi.LOC_Y == 2)& (dfn8_avx_fused_nonprobmpi.GLB_Z/dfn8_avx_fused_nonprobmpi.LOC_Z == 2)]\n",
    "dfn8AvxFusNonProb_256mpi_4omp = dfn8_avx_fused_nonprobmpi[(dfn8_avx_fused_nonprobmpi.omp_thrd == 4) & (dfn8_avx_fused_nonprobmpi.GLB_T/dfn8_avx_fused_nonprobmpi.LOC_T == 32) & (dfn8_avx_fused_nonprobmpi.GLB_X/dfn8_avx_fused_nonprobmpi.LOC_X == 2) & (dfn8_avx_fused_nonprobmpi.GLB_Y/dfn8_avx_fused_nonprobmpi.LOC_Y == 2)& (dfn8_avx_fused_nonprobmpi.GLB_Z/dfn8_avx_fused_nonprobmpi.LOC_Z == 2)]\n",
    "dfn8AvxFusNonProb_512mpi_2omp = dfn8_avx_fused_nonprobmpi[(dfn8_avx_fused_nonprobmpi.omp_thrd == 2) & (dfn8_avx_fused_nonprobmpi.GLB_T/dfn8_avx_fused_nonprobmpi.LOC_T == 64) & (dfn8_avx_fused_nonprobmpi.GLB_X/dfn8_avx_fused_nonprobmpi.LOC_X == 2) & (dfn8_avx_fused_nonprobmpi.GLB_Y/dfn8_avx_fused_nonprobmpi.LOC_Y == 2)& (dfn8_avx_fused_nonprobmpi.GLB_Z/dfn8_avx_fused_nonprobmpi.LOC_Z == 2)]\n",
    "dfn8AvxFusNonProb_1024mpi_1omp = dfn8_avx_fused_nonprobmpi[(dfn8_avx_fused_nonprobmpi.omp_thrd == 1) & (dfn8_avx_fused_nonprobmpi.GLB_T/dfn8_avx_fused_nonprobmpi.LOC_T == 128) & (dfn8_avx_fused_nonprobmpi.GLB_X/dfn8_avx_fused_nonprobmpi.LOC_X == 2) & (dfn8_avx_fused_nonprobmpi.GLB_Y/dfn8_avx_fused_nonprobmpi.LOC_Y == 2)& (dfn8_avx_fused_nonprobmpi.GLB_Z/dfn8_avx_fused_nonprobmpi.LOC_Z == 2)]\n",
    "dfn8AvxFusNonProb_168mpi_6omp = dfn8_avx_fused_nonprobmpi[(dfn8_avx_fused_nonprobmpi.omp_thrd == 6) & (dfn8_avx_fused_nonprobmpi.GLB_T/dfn8_avx_fused_nonprobmpi.LOC_T == 21) & (dfn8_avx_fused_nonprobmpi.GLB_X/dfn8_avx_fused_nonprobmpi.LOC_X == 2) & (dfn8_avx_fused_nonprobmpi.GLB_Y/dfn8_avx_fused_nonprobmpi.LOC_Y == 2)& (dfn8_avx_fused_nonprobmpi.GLB_Z/dfn8_avx_fused_nonprobmpi.LOC_Z == 2)]\n",
    "dfn8AvxFusNonProb_504mpi_2omp = dfn8_avx_fused_nonprobmpi[(dfn8_avx_fused_nonprobmpi.omp_thrd == 2) & (dfn8_avx_fused_nonprobmpi.GLB_T/dfn8_avx_fused_nonprobmpi.LOC_T == 63) & (dfn8_avx_fused_nonprobmpi.GLB_X/dfn8_avx_fused_nonprobmpi.LOC_X == 2) & (dfn8_avx_fused_nonprobmpi.GLB_Y/dfn8_avx_fused_nonprobmpi.LOC_Y == 2)& (dfn8_avx_fused_nonprobmpi.GLB_Z/dfn8_avx_fused_nonprobmpi.LOC_Z == 2)]\n"
   ]
  },
  {
   "cell_type": "markdown",
   "id": "34e2c9b4",
   "metadata": {},
   "source": [
    "## GFLOPS - AVX-Fused: Probmpi vs Non-Probempim"
   ]
  },
  {
   "cell_type": "code",
   "execution_count": 33,
   "id": "ac8fb0e8",
   "metadata": {},
   "outputs": [
    {
     "data": {
      "application/vnd.plotly.v1+json": {
       "config": {
        "plotlyServerURL": "https://plot.ly"
       },
       "data": [
        {
         "line": {
          "color": "darkcyan",
          "width": 3
         },
         "marker": {
          "line": {
           "color": "yellow",
           "width": 1
          },
          "size": 9,
          "symbol": "hexagon"
         },
         "mode": "lines+markers",
         "name": "AvxFusProb_1024mpi_1omp",
         "type": "scatter",
         "x": [
          1572864000,
          1966080000,
          2359296000,
          2752512000,
          3145728000,
          3538944000,
          3932160000
         ],
         "y": [
          256.672,
          227.85664,
          206.06464,
          186.0032,
          181.4912,
          174.21952,
          167.88608
         ]
        },
        {
         "line": {
          "color": "magenta",
          "width": 3
         },
         "marker": {
          "line": {
           "color": "yellow",
           "width": 1
          },
          "size": 9,
          "symbol": "hexagon"
         },
         "mode": "lines+markers",
         "name": "AvxFusNonProb_1024mpi_1omp",
         "type": "scatter",
         "x": [
          1572864000,
          1966080000,
          2359296000,
          2752512000,
          3145728000,
          3538944000,
          3932160000
         ],
         "y": [
          248.43648,
          221.49248,
          204.56448,
          181.5936,
          182.02496,
          173.40032,
          167.23584
         ]
        },
        {
         "line": {
          "color": "royalblue",
          "width": 3
         },
         "marker": {
          "line": {
           "color": "MediumPurple",
           "width": 2
          },
          "size": 5,
          "symbol": "diamond"
         },
         "mode": "lines+markers",
         "name": "AvxFusProb_512mpi_2omp",
         "type": "scatter",
         "x": [
          786432000,
          983040000,
          1179648000,
          1376256000,
          1572864000,
          1769472000,
          1966080000,
          2162688000,
          2359296000,
          2555904000,
          2752512000,
          2949120000,
          3145728000,
          3342336000,
          3538944000,
          3735552000,
          3932160000
         ],
         "y": [
          360.02944,
          347.64288,
          319.04448,
          275.89568,
          293.8624,
          240.56384,
          257.27488,
          236.96448,
          225.0208,
          208.1088,
          204.01024,
          197.95264,
          192.97024,
          177.43616,
          183.38304,
          179.52192,
          176.25088
         ]
        },
        {
         "line": {
          "color": "sandybrown",
          "width": 3
         },
         "marker": {
          "line": {
           "color": "MediumPurple",
           "width": 2
          },
          "size": 5,
          "symbol": "diamond"
         },
         "mode": "lines+markers",
         "name": "AvxFusNonProb_512mpi_2omp",
         "type": "scatter",
         "x": [
          786432000,
          983040000,
          1179648000,
          1376256000,
          1572864000,
          1769472000,
          1966080000,
          2162688000,
          2359296000,
          2555904000,
          2752512000,
          2949120000,
          3145728000,
          3342336000,
          3538944000,
          3735552000,
          3932160000
         ],
         "y": [
          348.62336,
          347.53792,
          344.944,
          309.87072,
          298.6208,
          245.09696,
          252.5216,
          200.91712,
          224.20608,
          206.7744,
          205.536,
          197.92256,
          193.0816,
          183.82848,
          183.1584,
          180.32512,
          174.5632
         ]
        },
        {
         "line": {
          "color": "darkblue",
          "width": 3
         },
         "marker": {
          "line": {
           "color": "tomato",
           "width": 2
          },
          "size": 7,
          "symbol": "circle"
         },
         "mode": "lines+markers",
         "name": "AvxFusProb_256mpi_4omp",
         "type": "scatter",
         "x": [
          589824000,
          688128000,
          786432000,
          884736000,
          983040000,
          1081344000,
          1179648000,
          1277952000,
          1376256000,
          1474560000,
          1572864000,
          1671168000,
          1769472000,
          1867776000,
          1966080000,
          2064384000,
          2162688000,
          2260992000,
          2359296000,
          2457600000,
          2555904000,
          2654208000,
          2752512000,
          2850816000,
          2949120000,
          3047424000,
          3145728000,
          3244032000,
          3342336000,
          3440640000,
          3538944000,
          3637248000,
          3735552000,
          3833856000,
          3932160000
         ],
         "y": [
          267.11328,
          307.0784,
          311.65056,
          360.2336,
          339.0464,
          376.5216,
          366.9344,
          361.2672,
          331.0464,
          280.73088,
          316.35328,
          289.256,
          216.1936,
          273.39872,
          250.51328,
          247.55904,
          225.15296,
          229.22592,
          222.81248,
          217.28288,
          211.88576,
          207.62304,
          200.0848,
          193.75296,
          192.29152,
          182.02976,
          189.23936,
          189.13024,
          180.04576,
          181.6656,
          179.8464,
          157.50336,
          177.7264,
          175.08704,
          172.61376
         ]
        },
        {
         "line": {
          "color": "cyan",
          "width": 3
         },
         "marker": {
          "line": {
           "color": "Purple",
           "width": 2
          },
          "size": 7,
          "symbol": "circle"
         },
         "mode": "lines+markers",
         "name": "AvxFusNonProb_256mpi_4omp",
         "type": "scatter",
         "x": [
          589824000,
          688128000,
          786432000,
          884736000,
          983040000,
          1081344000,
          1179648000,
          1277952000,
          1376256000,
          1474560000,
          1572864000,
          1671168000,
          1769472000,
          1867776000,
          1966080000,
          2064384000,
          2162688000,
          2260992000,
          2359296000,
          2457600000,
          2555904000,
          2654208000,
          2752512000,
          2850816000,
          2949120000,
          3047424000,
          3145728000,
          3244032000,
          3342336000,
          3440640000,
          3538944000,
          3637248000,
          3735552000,
          3833856000,
          3932160000
         ],
         "y": [
          324.7744,
          292.14656,
          297.91232,
          368.32,
          352.5248,
          307.82112,
          354.832,
          348.128,
          322.7776,
          327.8048,
          285.83584,
          294.73344,
          278.67872,
          249.26688,
          255.65632,
          227.83616,
          225.18176,
          231.2064,
          221.28032,
          217.872,
          213.42368,
          207.47936,
          203.35712,
          200.9168,
          192.93312,
          193.05504,
          183.97888,
          181.99264,
          184.99776,
          174.72064,
          172.1296,
          179.1344,
          175.6432,
          174.46144,
          166.81248
         ]
        },
        {
         "line": {
          "color": "blue",
          "width": 3
         },
         "marker": {
          "line": {
           "color": "black",
           "width": 1
          },
          "size": 7,
          "symbol": "star"
         },
         "mode": "lines+markers",
         "name": "AvxFusProb_128mpi_8omp",
         "type": "scatter",
         "x": [
          540672000,
          589824000,
          638976000,
          688128000,
          737280000,
          786432000,
          835584000,
          884736000,
          933888000,
          983040000,
          1032192000,
          1081344000,
          1130496000,
          1179648000,
          1228800000,
          1277952000,
          1327104000,
          1376256000,
          1425408000,
          1474560000,
          1523712000,
          1572864000,
          1622016000,
          1671168000,
          1720320000,
          1769472000,
          1818624000,
          1867776000,
          1916928000,
          1966080000,
          2015232000,
          2064384000,
          2113536000,
          2162688000,
          2211840000,
          2260992000,
          2310144000,
          2359296000,
          2408448000,
          2457600000,
          2506752000,
          2555904000,
          2605056000,
          2654208000,
          2703360000,
          2752512000,
          2801664000,
          2850816000,
          2899968000,
          2949120000,
          2998272000,
          3047424000,
          3096576000,
          3145728000,
          3194880000,
          3244032000,
          3293184000,
          3342336000,
          3391488000,
          3440640000,
          3489792000,
          3538944000,
          3588096000,
          3637248000,
          3686400000,
          3735552000,
          3784704000,
          3833856000,
          3883008000,
          3932160000
         ],
         "y": [
          284.4288,
          319.8192,
          311.2432,
          282.4016,
          285.1776,
          329.1712,
          263.5312,
          279.9808,
          287.328,
          299.7056,
          317.896,
          349.5888,
          338.112,
          319.1648,
          325.0704,
          340.9728,
          316.7216,
          290.4672,
          307.4688,
          301.4416,
          284.3264,
          270.9424,
          281.96,
          275.8016,
          262.7168,
          258.6896,
          241.6112,
          215.6928,
          246.0384,
          217.6656,
          231.4368,
          234.0896,
          208.272,
          222.4368,
          206.0448,
          202.1472,
          215.7712,
          208.616,
          206.8912,
          207.5856,
          188.8128,
          200.8992,
          179.8448,
          195.8688,
          189.7568,
          192.5936,
          178.408,
          190.6528,
          175.2768,
          177.0976,
          180.4368,
          182.472,
          178.744,
          179.7504,
          164.9584,
          178.0256,
          174.4784,
          175.0064,
          171.224,
          173.1008,
          162.3824,
          169.6656,
          169.2144,
          168.2848,
          167.184,
          158.71472,
          166.952,
          164.2336,
          164.7136,
          157.79648
         ]
        },
        {
         "line": {
          "color": "red",
          "width": 3
         },
         "marker": {
          "line": {
           "color": "black",
           "width": 1
          },
          "size": 7,
          "symbol": "star"
         },
         "mode": "lines+markers",
         "name": "AvxFusNonProb_128mpi_8omp",
         "type": "scatter",
         "x": [
          540672000,
          589824000,
          638976000,
          688128000,
          737280000,
          786432000,
          835584000,
          884736000,
          933888000,
          983040000,
          1032192000,
          1081344000,
          1130496000,
          1179648000,
          1228800000,
          1277952000,
          1327104000,
          1376256000,
          1425408000,
          1474560000,
          1523712000,
          1572864000,
          1622016000,
          1671168000,
          1720320000,
          1769472000,
          1818624000,
          1867776000,
          1916928000,
          1966080000,
          2015232000,
          2064384000,
          2113536000,
          2162688000,
          2211840000,
          2260992000,
          2310144000,
          2359296000,
          2408448000,
          2457600000,
          2506752000,
          2555904000,
          2605056000,
          2654208000,
          2703360000,
          2752512000,
          2801664000,
          2850816000,
          2899968000,
          2949120000,
          2998272000,
          3047424000,
          3096576000,
          3145728000,
          3194880000,
          3244032000,
          3293184000,
          3342336000,
          3391488000,
          3440640000,
          3489792000,
          3538944000,
          3588096000,
          3637248000,
          3686400000,
          3735552000,
          3784704000,
          3833856000,
          3883008000,
          3932160000
         ],
         "y": [
          261.9808,
          296.2752,
          254.3552,
          242.5648,
          238.744,
          245.0192,
          218.9808,
          259.032,
          265.4688,
          262.0752,
          254.536,
          269.6512,
          306.496,
          292.5936,
          318.256,
          330.64,
          292.5312,
          300.4976,
          208.6752,
          242.8848,
          253.5408,
          284.4896,
          278.344,
          261.4672,
          253.0736,
          252.1232,
          231.5152,
          247.3296,
          245.848,
          235.624,
          227.4048,
          229.2848,
          215.9456,
          222.7216,
          190.1088,
          217.3792,
          212.296,
          206.7344,
          206.4592,
          203.0496,
          182.8688,
          199.1904,
          178.0208,
          193.7248,
          183.968,
          190.1648,
          182.432,
          187.288,
          164.5312,
          183.6928,
          179.1168,
          180.2032,
          178.3008,
          177.064,
          176.3136,
          162.9344,
          169.9344,
          171.8272,
          172.5264,
          160.6464,
          155.79872,
          165.8752,
          167.2576,
          167.2608,
          157.56928,
          165.2032,
          162.5216,
          162.2848,
          161.5376,
          159.2184
         ]
        },
        {
         "line": {
          "color": "chartreuse",
          "width": 3
         },
         "marker": {
          "line": {
           "color": "mediumvioletred",
           "width": 1
          },
          "size": 6,
          "symbol": "square-dot"
         },
         "mode": "lines+markers",
         "name": "AvxFusProb_64mpi_16omp",
         "type": "scatter",
         "x": [
          516096000,
          540672000,
          565248000,
          589824000,
          614400000,
          638976000,
          663552000,
          688128000,
          712704000,
          737280000,
          761856000,
          786432000,
          811008000,
          835584000,
          860160000,
          884736000,
          909312000,
          933888000,
          958464000,
          983040000,
          1007616000,
          1032192000,
          1056768000,
          1081344000,
          1105920000,
          1130496000,
          1155072000,
          1179648000,
          1204224000,
          1228800000,
          1253376000,
          1277952000,
          1302528000,
          1327104000,
          1351680000,
          1376256000,
          1400832000,
          1425408000,
          1449984000,
          1474560000,
          1499136000,
          1523712000,
          1548288000,
          1572864000,
          1597440000,
          1622016000,
          1646592000,
          1671168000,
          1695744000,
          1720320000,
          1744896000,
          1769472000,
          1794048000,
          1818624000,
          1843200000,
          1867776000,
          1892352000,
          1916928000,
          1941504000,
          1966080000,
          1990656000,
          2015232000,
          2039808000,
          2064384000,
          2088960000,
          2113536000,
          2138112000,
          2162688000,
          2187264000,
          2211840000,
          2236416000,
          2260992000,
          2285568000,
          2310144000,
          2334720000,
          2359296000,
          2383872000,
          2408448000,
          2433024000,
          2457600000,
          2482176000,
          2506752000,
          2531328000,
          2555904000,
          2580480000,
          2605056000,
          2629632000,
          2654208000,
          2678784000,
          2703360000,
          2727936000,
          2752512000,
          2777088000,
          2801664000,
          2826240000,
          2850816000,
          2875392000,
          2899968000,
          2924544000,
          2949120000,
          2973696000,
          2998272000,
          3022848000,
          3047424000,
          3072000000,
          3096576000,
          3121152000,
          3145728000,
          3170304000,
          3194880000,
          3219456000,
          3244032000,
          3268608000,
          3293184000,
          3317760000,
          3342336000,
          3366912000,
          3391488000,
          3416064000,
          3440640000,
          3465216000,
          3489792000,
          3514368000,
          3538944000,
          3563520000,
          3588096000,
          3612672000,
          3637248000,
          3661824000,
          3686400000,
          3710976000,
          3735552000,
          3760128000,
          3784704000,
          3809280000,
          3833856000,
          3858432000,
          3907584000,
          3932160000
         ],
         "y": [
          141.6064,
          162.4416,
          180.0352,
          180.3944,
          183.9984,
          180.5592,
          171.8496,
          196.6832,
          195.3296,
          206.5,
          182.4352,
          200.7544,
          183.2328,
          202.5424,
          177.6792,
          193.9488,
          195.1248,
          173.9208,
          184.3256,
          190.3648,
          179.4248,
          182.1664,
          162.6912,
          210.7944,
          165.9096,
          156.1272,
          209.2664,
          144.4032,
          166.0272,
          169.7808,
          187.448,
          169.7952,
          150.1176,
          185.5736,
          188.6512,
          180.772,
          174.7152,
          178.248,
          168.1552,
          176.816,
          175.452,
          164.6576,
          169.988,
          168.5056,
          159.0704,
          161.1576,
          162.5896,
          149.08,
          149.9944,
          159.6112,
          157.9568,
          157.6944,
          143.0648,
          153.7512,
          155.0792,
          145.4928,
          152.4856,
          149.7536,
          144.8896,
          151.6648,
          151.6544,
          146.8808,
          147.1456,
          136.644,
          145.0984,
          124.9256,
          144.5416,
          140.08,
          143.3824,
          136.5784,
          140.648,
          140.8192,
          136.5016,
          140.46,
          136.124,
          139.0256,
          124.5576,
          138.2056,
          131.948,
          136.1936,
          133.2928,
          136.8744,
          127.844,
          135.1048,
          135.8144,
          134.1856,
          133.6872,
          134.5416,
          132.3168,
          134.7088,
          130.4728,
          132.176,
          130.1848,
          130.652,
          130.7368,
          122.6664,
          130.2712,
          126.472,
          129.06,
          127.0968,
          123.2864,
          128.4496,
          124.1456,
          127.248,
          123.7712,
          127.4888,
          120.9552,
          127.0976,
          124.7776,
          125.4424,
          123.9248,
          120.7632,
          121.352,
          125.0728,
          123.5848,
          122.4456,
          123.2936,
          124.0928,
          122.1448,
          118.4928,
          117.292,
          121.3688,
          119.9712,
          119.728,
          121.6728,
          121.5456,
          119.3696,
          119.7696,
          115.5728,
          117.0576,
          118.3776,
          117.736,
          116.8424,
          119.0032,
          119.9104,
          116.456,
          119.7464,
          117.472,
          117.4824
         ]
        },
        {
         "line": {
          "color": "black",
          "width": 3
         },
         "marker": {
          "line": {
           "color": "mediumvioletred",
           "width": 1
          },
          "size": 6,
          "symbol": "square-dot"
         },
         "mode": "lines+markers",
         "name": "AvxFusNonProb_64mpi_16omp",
         "type": "scatter",
         "x": [
          516096000,
          540672000,
          565248000,
          589824000,
          614400000,
          638976000,
          663552000,
          688128000,
          712704000,
          737280000,
          761856000,
          786432000,
          811008000,
          835584000,
          860160000,
          884736000,
          909312000,
          933888000,
          958464000,
          983040000,
          1007616000,
          1032192000,
          1056768000,
          1081344000,
          1105920000,
          1130496000,
          1155072000,
          1179648000,
          1204224000,
          1228800000,
          1253376000,
          1277952000,
          1302528000,
          1327104000,
          1351680000,
          1376256000,
          1400832000,
          1425408000,
          1449984000,
          1474560000,
          1499136000,
          1523712000,
          1548288000,
          1572864000,
          1597440000,
          1622016000,
          1646592000,
          1671168000,
          1695744000,
          1720320000,
          1744896000,
          1769472000,
          1794048000,
          1818624000,
          1843200000,
          1867776000,
          1892352000,
          1916928000,
          1941504000,
          1966080000,
          1990656000,
          2015232000,
          2039808000,
          2064384000,
          2088960000,
          2113536000,
          2138112000,
          2162688000,
          2187264000,
          2211840000,
          2236416000,
          2260992000,
          2285568000,
          2310144000,
          2334720000,
          2359296000,
          2383872000,
          2408448000,
          2433024000,
          2457600000,
          2482176000,
          2506752000,
          2531328000,
          2555904000,
          2580480000,
          2605056000,
          2629632000,
          2654208000,
          2678784000,
          2703360000,
          2727936000,
          2752512000,
          2777088000,
          2801664000,
          2826240000,
          2850816000,
          2875392000,
          2899968000,
          2924544000,
          2949120000,
          2973696000,
          2998272000,
          3022848000,
          3047424000,
          3072000000,
          3096576000,
          3121152000,
          3145728000,
          3170304000,
          3194880000,
          3219456000,
          3244032000,
          3268608000,
          3293184000,
          3317760000,
          3342336000,
          3366912000,
          3391488000,
          3416064000,
          3440640000,
          3465216000,
          3514368000,
          3538944000,
          3563520000,
          3588096000,
          3612672000,
          3637248000,
          3661824000,
          3686400000,
          3710976000,
          3735552000,
          3760128000,
          3784704000,
          3809280000,
          3833856000,
          3883008000,
          3907584000,
          3932160000
         ],
         "y": [
          161.964,
          166.0808,
          155.5584,
          152.6032,
          182.3824,
          162.4712,
          185.32,
          177.9888,
          190.7248,
          170.448,
          186.3928,
          192.8464,
          192.216,
          179.028,
          187.02,
          188.4632,
          184.5736,
          166.3792,
          168.02,
          184.0592,
          199.96,
          165.3272,
          192.988,
          207.1576,
          190.1264,
          208.996,
          185.3512,
          206.8416,
          132.0304,
          195.8456,
          197.1616,
          173.3168,
          175.4264,
          190.1184,
          190.3072,
          167.3752,
          167.3864,
          180.2968,
          176.7288,
          179.3168,
          181.1136,
          171.612,
          172.6896,
          174.276,
          168.044,
          167.3368,
          168.0032,
          155.232,
          138.3672,
          166.4752,
          150.6832,
          159.048,
          161.5384,
          148.8664,
          148.9848,
          160.3448,
          147.2296,
          155.9768,
          142.244,
          154.9064,
          154.5672,
          140.6632,
          152.6976,
          152.5048,
          130.116,
          150.3312,
          146.3,
          134.7536,
          144.4328,
          139.948,
          145.9512,
          128.128,
          146.4,
          145.216,
          143.8552,
          143.0208,
          126.8536,
          131.2976,
          133.8528,
          140.728,
          140.1504,
          140.5688,
          139.5672,
          139.4336,
          137.5816,
          138.1344,
          134.5632,
          137.1944,
          125.2784,
          127.1024,
          128.8712,
          126.7328,
          129.276,
          131.6064,
          134.4464,
          99.8592,
          133.4544,
          131.2432,
          131.8408,
          131.4992,
          131.0784,
          117.8464,
          131.304,
          129.0136,
          124.9992,
          123.6368,
          122.7424,
          129.3848,
          123.4336,
          126.4192,
          121.78,
          124.7232,
          128.1968,
          127.9392,
          123.9032,
          127.1808,
          127.4104,
          125.7728,
          124.8104,
          124.6528,
          125.9376,
          124.9176,
          124.9568,
          115.8976,
          125.1104,
          122.4728,
          121.5136,
          123.4848,
          125.368,
          122.2224,
          123.4672,
          122.9872,
          122.4776,
          121.2512,
          121.7032,
          121.4312,
          119.6064,
          117.7552
         ]
        },
        {
         "line": {
          "color": "gold",
          "width": 3
         },
         "marker": {
          "line": {
           "color": "black",
           "width": 1
          },
          "size": 6,
          "symbol": "triangle-right"
         },
         "mode": "lines+markers",
         "name": "AvxFusProb_32mpi_32omp",
         "type": "scatter",
         "x": [],
         "y": []
        },
        {
         "line": {
          "color": "dimgray",
          "width": 3
         },
         "marker": {
          "line": {
           "color": "black",
           "width": 1
          },
          "size": 6,
          "symbol": "triangle-up"
         },
         "mode": "lines+markers",
         "name": "AvxFusNonProb_168mpi_6omp",
         "type": "scatter",
         "x": [
          516096000,
          645120000,
          774144000,
          903168000,
          1032192000,
          1161216000,
          1290240000,
          1419264000,
          1548288000,
          1677312000,
          1806336000,
          1935360000,
          2064384000,
          2193408000,
          2322432000,
          2451456000,
          2580480000,
          2709504000,
          2838528000,
          2967552000,
          3096576000,
          3225600000,
          3354624000,
          3483648000,
          3612672000,
          3741696000,
          3870720000
         ],
         "y": [
          239.84730000000002,
          262.2144,
          287.5152,
          293.349,
          287.88689999999997,
          254.6859,
          243.7974,
          223.4925,
          212.9967,
          201.4299,
          189.40068000000002,
          191.97150000000002,
          187.81077,
          182.5677,
          176.29332000000002,
          170.08887000000001,
          163.67862,
          161.37512999999998,
          159.36312,
          156.90066000000002,
          153.63768000000002,
          152.24706,
          147.68061,
          146.1054,
          146.84733,
          144.26076,
          142.94616
         ]
        },
        {
         "line": {
          "color": "magenta",
          "width": 3
         },
         "marker": {
          "line": {
           "color": "yellow",
           "width": 1
          },
          "size": 9,
          "symbol": "hexagon"
         },
         "mode": "lines+markers",
         "name": "AvxFusProb_16mpi_64omp",
         "type": "scatter",
         "x": [],
         "y": []
        },
        {
         "line": {
          "color": "Brown",
          "width": 3
         },
         "marker": {
          "line": {
           "color": "darkred",
           "width": 2
          },
          "size": 6,
          "symbol": "circle"
         },
         "mode": "lines+markers",
         "name": "AvxFusNonProb_504mpi_2omp",
         "type": "scatter",
         "x": [
          774144000,
          1161216000,
          1548288000,
          1935360000,
          2322432000,
          2709504000,
          3096576000,
          3483648000,
          3870720000
         ],
         "y": [
          336.81690000000003,
          336.26565,
          289.47618,
          240.23475,
          219.4416,
          198.15012,
          187.9605,
          179.47880999999998,
          170.87742
         ]
        }
       ],
       "layout": {
        "annotations": [
         {
          "align": "left",
          "arrowcolor": "#636363",
          "arrowhead": 1,
          "arrowsize": 1,
          "arrowwidth": 2,
          "ax": -20,
          "ay": -30,
          "font": {
           "color": "purple",
           "family": "Sans Serif",
           "size": 12
          },
          "showarrow": false,
          "text": "LLC Size Per Node",
          "x": "512e6",
          "y": 130,
          "yanchor": "bottom"
         }
        ],
        "shapes": [
         {
          "line": {
           "color": "green",
           "dash": "dash",
           "width": 3
          },
          "type": "line",
          "x0": 512000000,
          "x1": 512000000,
          "xref": "x",
          "y0": 0,
          "y1": 1,
          "yref": "y domain"
         }
        ],
        "template": {
         "data": {
          "bar": [
           {
            "error_x": {
             "color": "#2a3f5f"
            },
            "error_y": {
             "color": "#2a3f5f"
            },
            "marker": {
             "line": {
              "color": "#E5ECF6",
              "width": 0.5
             },
             "pattern": {
              "fillmode": "overlay",
              "size": 10,
              "solidity": 0.2
             }
            },
            "type": "bar"
           }
          ],
          "barpolar": [
           {
            "marker": {
             "line": {
              "color": "#E5ECF6",
              "width": 0.5
             },
             "pattern": {
              "fillmode": "overlay",
              "size": 10,
              "solidity": 0.2
             }
            },
            "type": "barpolar"
           }
          ],
          "carpet": [
           {
            "aaxis": {
             "endlinecolor": "#2a3f5f",
             "gridcolor": "white",
             "linecolor": "white",
             "minorgridcolor": "white",
             "startlinecolor": "#2a3f5f"
            },
            "baxis": {
             "endlinecolor": "#2a3f5f",
             "gridcolor": "white",
             "linecolor": "white",
             "minorgridcolor": "white",
             "startlinecolor": "#2a3f5f"
            },
            "type": "carpet"
           }
          ],
          "choropleth": [
           {
            "colorbar": {
             "outlinewidth": 0,
             "ticks": ""
            },
            "type": "choropleth"
           }
          ],
          "contour": [
           {
            "colorbar": {
             "outlinewidth": 0,
             "ticks": ""
            },
            "colorscale": [
             [
              0,
              "#0d0887"
             ],
             [
              0.1111111111111111,
              "#46039f"
             ],
             [
              0.2222222222222222,
              "#7201a8"
             ],
             [
              0.3333333333333333,
              "#9c179e"
             ],
             [
              0.4444444444444444,
              "#bd3786"
             ],
             [
              0.5555555555555556,
              "#d8576b"
             ],
             [
              0.6666666666666666,
              "#ed7953"
             ],
             [
              0.7777777777777778,
              "#fb9f3a"
             ],
             [
              0.8888888888888888,
              "#fdca26"
             ],
             [
              1,
              "#f0f921"
             ]
            ],
            "type": "contour"
           }
          ],
          "contourcarpet": [
           {
            "colorbar": {
             "outlinewidth": 0,
             "ticks": ""
            },
            "type": "contourcarpet"
           }
          ],
          "heatmap": [
           {
            "colorbar": {
             "outlinewidth": 0,
             "ticks": ""
            },
            "colorscale": [
             [
              0,
              "#0d0887"
             ],
             [
              0.1111111111111111,
              "#46039f"
             ],
             [
              0.2222222222222222,
              "#7201a8"
             ],
             [
              0.3333333333333333,
              "#9c179e"
             ],
             [
              0.4444444444444444,
              "#bd3786"
             ],
             [
              0.5555555555555556,
              "#d8576b"
             ],
             [
              0.6666666666666666,
              "#ed7953"
             ],
             [
              0.7777777777777778,
              "#fb9f3a"
             ],
             [
              0.8888888888888888,
              "#fdca26"
             ],
             [
              1,
              "#f0f921"
             ]
            ],
            "type": "heatmap"
           }
          ],
          "heatmapgl": [
           {
            "colorbar": {
             "outlinewidth": 0,
             "ticks": ""
            },
            "colorscale": [
             [
              0,
              "#0d0887"
             ],
             [
              0.1111111111111111,
              "#46039f"
             ],
             [
              0.2222222222222222,
              "#7201a8"
             ],
             [
              0.3333333333333333,
              "#9c179e"
             ],
             [
              0.4444444444444444,
              "#bd3786"
             ],
             [
              0.5555555555555556,
              "#d8576b"
             ],
             [
              0.6666666666666666,
              "#ed7953"
             ],
             [
              0.7777777777777778,
              "#fb9f3a"
             ],
             [
              0.8888888888888888,
              "#fdca26"
             ],
             [
              1,
              "#f0f921"
             ]
            ],
            "type": "heatmapgl"
           }
          ],
          "histogram": [
           {
            "marker": {
             "pattern": {
              "fillmode": "overlay",
              "size": 10,
              "solidity": 0.2
             }
            },
            "type": "histogram"
           }
          ],
          "histogram2d": [
           {
            "colorbar": {
             "outlinewidth": 0,
             "ticks": ""
            },
            "colorscale": [
             [
              0,
              "#0d0887"
             ],
             [
              0.1111111111111111,
              "#46039f"
             ],
             [
              0.2222222222222222,
              "#7201a8"
             ],
             [
              0.3333333333333333,
              "#9c179e"
             ],
             [
              0.4444444444444444,
              "#bd3786"
             ],
             [
              0.5555555555555556,
              "#d8576b"
             ],
             [
              0.6666666666666666,
              "#ed7953"
             ],
             [
              0.7777777777777778,
              "#fb9f3a"
             ],
             [
              0.8888888888888888,
              "#fdca26"
             ],
             [
              1,
              "#f0f921"
             ]
            ],
            "type": "histogram2d"
           }
          ],
          "histogram2dcontour": [
           {
            "colorbar": {
             "outlinewidth": 0,
             "ticks": ""
            },
            "colorscale": [
             [
              0,
              "#0d0887"
             ],
             [
              0.1111111111111111,
              "#46039f"
             ],
             [
              0.2222222222222222,
              "#7201a8"
             ],
             [
              0.3333333333333333,
              "#9c179e"
             ],
             [
              0.4444444444444444,
              "#bd3786"
             ],
             [
              0.5555555555555556,
              "#d8576b"
             ],
             [
              0.6666666666666666,
              "#ed7953"
             ],
             [
              0.7777777777777778,
              "#fb9f3a"
             ],
             [
              0.8888888888888888,
              "#fdca26"
             ],
             [
              1,
              "#f0f921"
             ]
            ],
            "type": "histogram2dcontour"
           }
          ],
          "mesh3d": [
           {
            "colorbar": {
             "outlinewidth": 0,
             "ticks": ""
            },
            "type": "mesh3d"
           }
          ],
          "parcoords": [
           {
            "line": {
             "colorbar": {
              "outlinewidth": 0,
              "ticks": ""
             }
            },
            "type": "parcoords"
           }
          ],
          "pie": [
           {
            "automargin": true,
            "type": "pie"
           }
          ],
          "scatter": [
           {
            "fillpattern": {
             "fillmode": "overlay",
             "size": 10,
             "solidity": 0.2
            },
            "type": "scatter"
           }
          ],
          "scatter3d": [
           {
            "line": {
             "colorbar": {
              "outlinewidth": 0,
              "ticks": ""
             }
            },
            "marker": {
             "colorbar": {
              "outlinewidth": 0,
              "ticks": ""
             }
            },
            "type": "scatter3d"
           }
          ],
          "scattercarpet": [
           {
            "marker": {
             "colorbar": {
              "outlinewidth": 0,
              "ticks": ""
             }
            },
            "type": "scattercarpet"
           }
          ],
          "scattergeo": [
           {
            "marker": {
             "colorbar": {
              "outlinewidth": 0,
              "ticks": ""
             }
            },
            "type": "scattergeo"
           }
          ],
          "scattergl": [
           {
            "marker": {
             "colorbar": {
              "outlinewidth": 0,
              "ticks": ""
             }
            },
            "type": "scattergl"
           }
          ],
          "scattermapbox": [
           {
            "marker": {
             "colorbar": {
              "outlinewidth": 0,
              "ticks": ""
             }
            },
            "type": "scattermapbox"
           }
          ],
          "scatterpolar": [
           {
            "marker": {
             "colorbar": {
              "outlinewidth": 0,
              "ticks": ""
             }
            },
            "type": "scatterpolar"
           }
          ],
          "scatterpolargl": [
           {
            "marker": {
             "colorbar": {
              "outlinewidth": 0,
              "ticks": ""
             }
            },
            "type": "scatterpolargl"
           }
          ],
          "scatterternary": [
           {
            "marker": {
             "colorbar": {
              "outlinewidth": 0,
              "ticks": ""
             }
            },
            "type": "scatterternary"
           }
          ],
          "surface": [
           {
            "colorbar": {
             "outlinewidth": 0,
             "ticks": ""
            },
            "colorscale": [
             [
              0,
              "#0d0887"
             ],
             [
              0.1111111111111111,
              "#46039f"
             ],
             [
              0.2222222222222222,
              "#7201a8"
             ],
             [
              0.3333333333333333,
              "#9c179e"
             ],
             [
              0.4444444444444444,
              "#bd3786"
             ],
             [
              0.5555555555555556,
              "#d8576b"
             ],
             [
              0.6666666666666666,
              "#ed7953"
             ],
             [
              0.7777777777777778,
              "#fb9f3a"
             ],
             [
              0.8888888888888888,
              "#fdca26"
             ],
             [
              1,
              "#f0f921"
             ]
            ],
            "type": "surface"
           }
          ],
          "table": [
           {
            "cells": {
             "fill": {
              "color": "#EBF0F8"
             },
             "line": {
              "color": "white"
             }
            },
            "header": {
             "fill": {
              "color": "#C8D4E3"
             },
             "line": {
              "color": "white"
             }
            },
            "type": "table"
           }
          ]
         },
         "layout": {
          "annotationdefaults": {
           "arrowcolor": "#2a3f5f",
           "arrowhead": 0,
           "arrowwidth": 1
          },
          "autotypenumbers": "strict",
          "coloraxis": {
           "colorbar": {
            "outlinewidth": 0,
            "ticks": ""
           }
          },
          "colorscale": {
           "diverging": [
            [
             0,
             "#8e0152"
            ],
            [
             0.1,
             "#c51b7d"
            ],
            [
             0.2,
             "#de77ae"
            ],
            [
             0.3,
             "#f1b6da"
            ],
            [
             0.4,
             "#fde0ef"
            ],
            [
             0.5,
             "#f7f7f7"
            ],
            [
             0.6,
             "#e6f5d0"
            ],
            [
             0.7,
             "#b8e186"
            ],
            [
             0.8,
             "#7fbc41"
            ],
            [
             0.9,
             "#4d9221"
            ],
            [
             1,
             "#276419"
            ]
           ],
           "sequential": [
            [
             0,
             "#0d0887"
            ],
            [
             0.1111111111111111,
             "#46039f"
            ],
            [
             0.2222222222222222,
             "#7201a8"
            ],
            [
             0.3333333333333333,
             "#9c179e"
            ],
            [
             0.4444444444444444,
             "#bd3786"
            ],
            [
             0.5555555555555556,
             "#d8576b"
            ],
            [
             0.6666666666666666,
             "#ed7953"
            ],
            [
             0.7777777777777778,
             "#fb9f3a"
            ],
            [
             0.8888888888888888,
             "#fdca26"
            ],
            [
             1,
             "#f0f921"
            ]
           ],
           "sequentialminus": [
            [
             0,
             "#0d0887"
            ],
            [
             0.1111111111111111,
             "#46039f"
            ],
            [
             0.2222222222222222,
             "#7201a8"
            ],
            [
             0.3333333333333333,
             "#9c179e"
            ],
            [
             0.4444444444444444,
             "#bd3786"
            ],
            [
             0.5555555555555556,
             "#d8576b"
            ],
            [
             0.6666666666666666,
             "#ed7953"
            ],
            [
             0.7777777777777778,
             "#fb9f3a"
            ],
            [
             0.8888888888888888,
             "#fdca26"
            ],
            [
             1,
             "#f0f921"
            ]
           ]
          },
          "colorway": [
           "#636efa",
           "#EF553B",
           "#00cc96",
           "#ab63fa",
           "#FFA15A",
           "#19d3f3",
           "#FF6692",
           "#B6E880",
           "#FF97FF",
           "#FECB52"
          ],
          "font": {
           "color": "#2a3f5f"
          },
          "geo": {
           "bgcolor": "white",
           "lakecolor": "white",
           "landcolor": "#E5ECF6",
           "showlakes": true,
           "showland": true,
           "subunitcolor": "white"
          },
          "hoverlabel": {
           "align": "left"
          },
          "hovermode": "closest",
          "mapbox": {
           "style": "light"
          },
          "paper_bgcolor": "white",
          "plot_bgcolor": "#E5ECF6",
          "polar": {
           "angularaxis": {
            "gridcolor": "white",
            "linecolor": "white",
            "ticks": ""
           },
           "bgcolor": "#E5ECF6",
           "radialaxis": {
            "gridcolor": "white",
            "linecolor": "white",
            "ticks": ""
           }
          },
          "scene": {
           "xaxis": {
            "backgroundcolor": "#E5ECF6",
            "gridcolor": "white",
            "gridwidth": 2,
            "linecolor": "white",
            "showbackground": true,
            "ticks": "",
            "zerolinecolor": "white"
           },
           "yaxis": {
            "backgroundcolor": "#E5ECF6",
            "gridcolor": "white",
            "gridwidth": 2,
            "linecolor": "white",
            "showbackground": true,
            "ticks": "",
            "zerolinecolor": "white"
           },
           "zaxis": {
            "backgroundcolor": "#E5ECF6",
            "gridcolor": "white",
            "gridwidth": 2,
            "linecolor": "white",
            "showbackground": true,
            "ticks": "",
            "zerolinecolor": "white"
           }
          },
          "shapedefaults": {
           "line": {
            "color": "#2a3f5f"
           }
          },
          "ternary": {
           "aaxis": {
            "gridcolor": "white",
            "linecolor": "white",
            "ticks": ""
           },
           "baxis": {
            "gridcolor": "white",
            "linecolor": "white",
            "ticks": ""
           },
           "bgcolor": "#E5ECF6",
           "caxis": {
            "gridcolor": "white",
            "linecolor": "white",
            "ticks": ""
           }
          },
          "title": {
           "x": 0.05
          },
          "xaxis": {
           "automargin": true,
           "gridcolor": "white",
           "linecolor": "white",
           "ticks": "",
           "title": {
            "standoff": 15
           },
           "zerolinecolor": "white",
           "zerolinewidth": 2
          },
          "yaxis": {
           "automargin": true,
           "gridcolor": "white",
           "linecolor": "white",
           "ticks": "",
           "title": {
            "standoff": 15
           },
           "zerolinecolor": "white",
           "zerolinewidth": 2
          }
         }
        },
        "title": {
         "text": "\"AVX-Fused (8-Nodes): probempi vs nonprobempi\" GFlops Measurement"
        },
        "xaxis": {
         "ticks": "outside",
         "title": {
          "text": "Dirc_Data_Mov"
         }
        },
        "yaxis": {
         "ticks": "outside",
         "title": {
          "text": "GFLOPs/Node"
         }
        }
       }
      },
      "text/html": [
       "<div>                            <div id=\"d769e371-9c23-46f9-bc33-e9c68698b3fd\" class=\"plotly-graph-div\" style=\"height:525px; width:100%;\"></div>            <script type=\"text/javascript\">                require([\"plotly\"], function(Plotly) {                    window.PLOTLYENV=window.PLOTLYENV || {};                                    if (document.getElementById(\"d769e371-9c23-46f9-bc33-e9c68698b3fd\")) {                    Plotly.newPlot(                        \"d769e371-9c23-46f9-bc33-e9c68698b3fd\",                        [{\"line\":{\"color\":\"darkcyan\",\"width\":3},\"marker\":{\"line\":{\"color\":\"yellow\",\"width\":1},\"size\":9,\"symbol\":\"hexagon\"},\"mode\":\"lines+markers\",\"name\":\"AvxFusProb_1024mpi_1omp\",\"x\":[1572864000.0,1966080000.0,2359296000.0,2752512000.0,3145728000.0,3538944000.0,3932160000.0],\"y\":[256.672,227.85664,206.06464,186.0032,181.4912,174.21952,167.88608],\"type\":\"scatter\"},{\"line\":{\"color\":\"magenta\",\"width\":3},\"marker\":{\"line\":{\"color\":\"yellow\",\"width\":1},\"size\":9,\"symbol\":\"hexagon\"},\"mode\":\"lines+markers\",\"name\":\"AvxFusNonProb_1024mpi_1omp\",\"x\":[1572864000.0,1966080000.0,2359296000.0,2752512000.0,3145728000.0,3538944000.0,3932160000.0],\"y\":[248.43648,221.49248,204.56448,181.5936,182.02496,173.40032,167.23584],\"type\":\"scatter\"},{\"line\":{\"color\":\"royalblue\",\"width\":3},\"marker\":{\"line\":{\"color\":\"MediumPurple\",\"width\":2},\"size\":5,\"symbol\":\"diamond\"},\"mode\":\"lines+markers\",\"name\":\"AvxFusProb_512mpi_2omp\",\"x\":[786432000.0,983040000.0,1179648000.0,1376256000.0,1572864000.0,1769472000.0,1966080000.0,2162688000.0,2359296000.0,2555904000.0,2752512000.0,2949120000.0,3145728000.0,3342336000.0,3538944000.0,3735552000.0,3932160000.0],\"y\":[360.02944,347.64288,319.04448,275.89568,293.8624,240.56384,257.27488,236.96448,225.0208,208.1088,204.01024,197.95264,192.97024,177.43616,183.38304,179.52192,176.25088],\"type\":\"scatter\"},{\"line\":{\"color\":\"sandybrown\",\"width\":3},\"marker\":{\"line\":{\"color\":\"MediumPurple\",\"width\":2},\"size\":5,\"symbol\":\"diamond\"},\"mode\":\"lines+markers\",\"name\":\"AvxFusNonProb_512mpi_2omp\",\"x\":[786432000.0,983040000.0,1179648000.0,1376256000.0,1572864000.0,1769472000.0,1966080000.0,2162688000.0,2359296000.0,2555904000.0,2752512000.0,2949120000.0,3145728000.0,3342336000.0,3538944000.0,3735552000.0,3932160000.0],\"y\":[348.62336,347.53792,344.944,309.87072,298.6208,245.09696,252.5216,200.91712,224.20608,206.7744,205.536,197.92256,193.0816,183.82848,183.1584,180.32512,174.5632],\"type\":\"scatter\"},{\"line\":{\"color\":\"darkblue\",\"width\":3},\"marker\":{\"line\":{\"color\":\"tomato\",\"width\":2},\"size\":7,\"symbol\":\"circle\"},\"mode\":\"lines+markers\",\"name\":\"AvxFusProb_256mpi_4omp\",\"x\":[589824000.0,688128000.0,786432000.0,884736000.0,983040000.0,1081344000.0,1179648000.0,1277952000.0,1376256000.0,1474560000.0,1572864000.0,1671168000.0,1769472000.0,1867776000.0,1966080000.0,2064384000.0,2162688000.0,2260992000.0,2359296000.0,2457600000.0,2555904000.0,2654208000.0,2752512000.0,2850816000.0,2949120000.0,3047424000.0,3145728000.0,3244032000.0,3342336000.0,3440640000.0,3538944000.0,3637248000.0,3735552000.0,3833856000.0,3932160000.0],\"y\":[267.11328,307.0784,311.65056,360.2336,339.0464,376.5216,366.9344,361.2672,331.0464,280.73088,316.35328,289.256,216.1936,273.39872,250.51328,247.55904,225.15296,229.22592,222.81248,217.28288,211.88576,207.62304,200.0848,193.75296,192.29152,182.02976,189.23936,189.13024,180.04576,181.6656,179.8464,157.50336,177.7264,175.08704,172.61376],\"type\":\"scatter\"},{\"line\":{\"color\":\"cyan\",\"width\":3},\"marker\":{\"line\":{\"color\":\"Purple\",\"width\":2},\"size\":7,\"symbol\":\"circle\"},\"mode\":\"lines+markers\",\"name\":\"AvxFusNonProb_256mpi_4omp\",\"x\":[589824000.0,688128000.0,786432000.0,884736000.0,983040000.0,1081344000.0,1179648000.0,1277952000.0,1376256000.0,1474560000.0,1572864000.0,1671168000.0,1769472000.0,1867776000.0,1966080000.0,2064384000.0,2162688000.0,2260992000.0,2359296000.0,2457600000.0,2555904000.0,2654208000.0,2752512000.0,2850816000.0,2949120000.0,3047424000.0,3145728000.0,3244032000.0,3342336000.0,3440640000.0,3538944000.0,3637248000.0,3735552000.0,3833856000.0,3932160000.0],\"y\":[324.7744,292.14656,297.91232,368.32,352.5248,307.82112,354.832,348.128,322.7776,327.8048,285.83584,294.73344,278.67872,249.26688,255.65632,227.83616,225.18176,231.2064,221.28032,217.872,213.42368,207.47936,203.35712,200.9168,192.93312,193.05504,183.97888,181.99264,184.99776,174.72064,172.1296,179.1344,175.6432,174.46144,166.81248],\"type\":\"scatter\"},{\"line\":{\"color\":\"blue\",\"width\":3},\"marker\":{\"line\":{\"color\":\"black\",\"width\":1},\"size\":7,\"symbol\":\"star\"},\"mode\":\"lines+markers\",\"name\":\"AvxFusProb_128mpi_8omp\",\"x\":[540672000.0,589824000.0,638976000.0,688128000.0,737280000.0,786432000.0,835584000.0,884736000.0,933888000.0,983040000.0,1032192000.0,1081344000.0,1130496000.0,1179648000.0,1228800000.0,1277952000.0,1327104000.0,1376256000.0,1425408000.0,1474560000.0,1523712000.0,1572864000.0,1622016000.0,1671168000.0,1720320000.0,1769472000.0,1818624000.0,1867776000.0,1916928000.0,1966080000.0,2015232000.0,2064384000.0,2113536000.0,2162688000.0,2211840000.0,2260992000.0,2310144000.0,2359296000.0,2408448000.0,2457600000.0,2506752000.0,2555904000.0,2605056000.0,2654208000.0,2703360000.0,2752512000.0,2801664000.0,2850816000.0,2899968000.0,2949120000.0,2998272000.0,3047424000.0,3096576000.0,3145728000.0,3194880000.0,3244032000.0,3293184000.0,3342336000.0,3391488000.0,3440640000.0,3489792000.0,3538944000.0,3588096000.0,3637248000.0,3686400000.0,3735552000.0,3784704000.0,3833856000.0,3883008000.0,3932160000.0],\"y\":[284.4288,319.8192,311.2432,282.4016,285.1776,329.1712,263.5312,279.9808,287.328,299.7056,317.896,349.5888,338.112,319.1648,325.0704,340.9728,316.7216,290.4672,307.4688,301.4416,284.3264,270.9424,281.96,275.8016,262.7168,258.6896,241.6112,215.6928,246.0384,217.6656,231.4368,234.0896,208.272,222.4368,206.0448,202.1472,215.7712,208.616,206.8912,207.5856,188.8128,200.8992,179.8448,195.8688,189.7568,192.5936,178.408,190.6528,175.2768,177.0976,180.4368,182.472,178.744,179.7504,164.9584,178.0256,174.4784,175.0064,171.224,173.1008,162.3824,169.6656,169.2144,168.2848,167.184,158.71472,166.952,164.2336,164.7136,157.79648],\"type\":\"scatter\"},{\"line\":{\"color\":\"red\",\"width\":3},\"marker\":{\"line\":{\"color\":\"black\",\"width\":1},\"size\":7,\"symbol\":\"star\"},\"mode\":\"lines+markers\",\"name\":\"AvxFusNonProb_128mpi_8omp\",\"x\":[540672000.0,589824000.0,638976000.0,688128000.0,737280000.0,786432000.0,835584000.0,884736000.0,933888000.0,983040000.0,1032192000.0,1081344000.0,1130496000.0,1179648000.0,1228800000.0,1277952000.0,1327104000.0,1376256000.0,1425408000.0,1474560000.0,1523712000.0,1572864000.0,1622016000.0,1671168000.0,1720320000.0,1769472000.0,1818624000.0,1867776000.0,1916928000.0,1966080000.0,2015232000.0,2064384000.0,2113536000.0,2162688000.0,2211840000.0,2260992000.0,2310144000.0,2359296000.0,2408448000.0,2457600000.0,2506752000.0,2555904000.0,2605056000.0,2654208000.0,2703360000.0,2752512000.0,2801664000.0,2850816000.0,2899968000.0,2949120000.0,2998272000.0,3047424000.0,3096576000.0,3145728000.0,3194880000.0,3244032000.0,3293184000.0,3342336000.0,3391488000.0,3440640000.0,3489792000.0,3538944000.0,3588096000.0,3637248000.0,3686400000.0,3735552000.0,3784704000.0,3833856000.0,3883008000.0,3932160000.0],\"y\":[261.9808,296.2752,254.3552,242.5648,238.744,245.0192,218.9808,259.032,265.4688,262.0752,254.536,269.6512,306.496,292.5936,318.256,330.64,292.5312,300.4976,208.6752,242.8848,253.5408,284.4896,278.344,261.4672,253.0736,252.1232,231.5152,247.3296,245.848,235.624,227.4048,229.2848,215.9456,222.7216,190.1088,217.3792,212.296,206.7344,206.4592,203.0496,182.8688,199.1904,178.0208,193.7248,183.968,190.1648,182.432,187.288,164.5312,183.6928,179.1168,180.2032,178.3008,177.064,176.3136,162.9344,169.9344,171.8272,172.5264,160.6464,155.79872,165.8752,167.2576,167.2608,157.56928,165.2032,162.5216,162.2848,161.5376,159.2184],\"type\":\"scatter\"},{\"line\":{\"color\":\"chartreuse\",\"width\":3},\"marker\":{\"line\":{\"color\":\"mediumvioletred\",\"width\":1},\"size\":6,\"symbol\":\"square-dot\"},\"mode\":\"lines+markers\",\"name\":\"AvxFusProb_64mpi_16omp\",\"x\":[516096000.0,540672000.0,565248000.0,589824000.0,614400000.0,638976000.0,663552000.0,688128000.0,712704000.0,737280000.0,761856000.0,786432000.0,811008000.0,835584000.0,860160000.0,884736000.0,909312000.0,933888000.0,958464000.0,983040000.0,1007616000.0,1032192000.0,1056768000.0,1081344000.0,1105920000.0,1130496000.0,1155072000.0,1179648000.0,1204224000.0,1228800000.0,1253376000.0,1277952000.0,1302528000.0,1327104000.0,1351680000.0,1376256000.0,1400832000.0,1425408000.0,1449984000.0,1474560000.0,1499136000.0,1523712000.0,1548288000.0,1572864000.0,1597440000.0,1622016000.0,1646592000.0,1671168000.0,1695744000.0,1720320000.0,1744896000.0,1769472000.0,1794048000.0,1818624000.0,1843200000.0,1867776000.0,1892352000.0,1916928000.0,1941504000.0,1966080000.0,1990656000.0,2015232000.0,2039808000.0,2064384000.0,2088960000.0,2113536000.0,2138112000.0,2162688000.0,2187264000.0,2211840000.0,2236416000.0,2260992000.0,2285568000.0,2310144000.0,2334720000.0,2359296000.0,2383872000.0,2408448000.0,2433024000.0,2457600000.0,2482176000.0,2506752000.0,2531328000.0,2555904000.0,2580480000.0,2605056000.0,2629632000.0,2654208000.0,2678784000.0,2703360000.0,2727936000.0,2752512000.0,2777088000.0,2801664000.0,2826240000.0,2850816000.0,2875392000.0,2899968000.0,2924544000.0,2949120000.0,2973696000.0,2998272000.0,3022848000.0,3047424000.0,3072000000.0,3096576000.0,3121152000.0,3145728000.0,3170304000.0,3194880000.0,3219456000.0,3244032000.0,3268608000.0,3293184000.0,3317760000.0,3342336000.0,3366912000.0,3391488000.0,3416064000.0,3440640000.0,3465216000.0,3489792000.0,3514368000.0,3538944000.0,3563520000.0,3588096000.0,3612672000.0,3637248000.0,3661824000.0,3686400000.0,3710976000.0,3735552000.0,3760128000.0,3784704000.0,3809280000.0,3833856000.0,3858432000.0,3907584000.0,3932160000.0],\"y\":[141.6064,162.4416,180.0352,180.3944,183.9984,180.5592,171.8496,196.6832,195.3296,206.5,182.4352,200.7544,183.2328,202.5424,177.6792,193.9488,195.1248,173.9208,184.3256,190.3648,179.4248,182.1664,162.6912,210.7944,165.9096,156.1272,209.2664,144.4032,166.0272,169.7808,187.448,169.7952,150.1176,185.5736,188.6512,180.772,174.7152,178.248,168.1552,176.816,175.452,164.6576,169.988,168.5056,159.0704,161.1576,162.5896,149.08,149.9944,159.6112,157.9568,157.6944,143.0648,153.7512,155.0792,145.4928,152.4856,149.7536,144.8896,151.6648,151.6544,146.8808,147.1456,136.644,145.0984,124.9256,144.5416,140.08,143.3824,136.5784,140.648,140.8192,136.5016,140.46,136.124,139.0256,124.5576,138.2056,131.948,136.1936,133.2928,136.8744,127.844,135.1048,135.8144,134.1856,133.6872,134.5416,132.3168,134.7088,130.4728,132.176,130.1848,130.652,130.7368,122.6664,130.2712,126.472,129.06,127.0968,123.2864,128.4496,124.1456,127.248,123.7712,127.4888,120.9552,127.0976,124.7776,125.4424,123.9248,120.7632,121.352,125.0728,123.5848,122.4456,123.2936,124.0928,122.1448,118.4928,117.292,121.3688,119.9712,119.728,121.6728,121.5456,119.3696,119.7696,115.5728,117.0576,118.3776,117.736,116.8424,119.0032,119.9104,116.456,119.7464,117.472,117.4824],\"type\":\"scatter\"},{\"line\":{\"color\":\"black\",\"width\":3},\"marker\":{\"line\":{\"color\":\"mediumvioletred\",\"width\":1},\"size\":6,\"symbol\":\"square-dot\"},\"mode\":\"lines+markers\",\"name\":\"AvxFusNonProb_64mpi_16omp\",\"x\":[516096000.0,540672000.0,565248000.0,589824000.0,614400000.0,638976000.0,663552000.0,688128000.0,712704000.0,737280000.0,761856000.0,786432000.0,811008000.0,835584000.0,860160000.0,884736000.0,909312000.0,933888000.0,958464000.0,983040000.0,1007616000.0,1032192000.0,1056768000.0,1081344000.0,1105920000.0,1130496000.0,1155072000.0,1179648000.0,1204224000.0,1228800000.0,1253376000.0,1277952000.0,1302528000.0,1327104000.0,1351680000.0,1376256000.0,1400832000.0,1425408000.0,1449984000.0,1474560000.0,1499136000.0,1523712000.0,1548288000.0,1572864000.0,1597440000.0,1622016000.0,1646592000.0,1671168000.0,1695744000.0,1720320000.0,1744896000.0,1769472000.0,1794048000.0,1818624000.0,1843200000.0,1867776000.0,1892352000.0,1916928000.0,1941504000.0,1966080000.0,1990656000.0,2015232000.0,2039808000.0,2064384000.0,2088960000.0,2113536000.0,2138112000.0,2162688000.0,2187264000.0,2211840000.0,2236416000.0,2260992000.0,2285568000.0,2310144000.0,2334720000.0,2359296000.0,2383872000.0,2408448000.0,2433024000.0,2457600000.0,2482176000.0,2506752000.0,2531328000.0,2555904000.0,2580480000.0,2605056000.0,2629632000.0,2654208000.0,2678784000.0,2703360000.0,2727936000.0,2752512000.0,2777088000.0,2801664000.0,2826240000.0,2850816000.0,2875392000.0,2899968000.0,2924544000.0,2949120000.0,2973696000.0,2998272000.0,3022848000.0,3047424000.0,3072000000.0,3096576000.0,3121152000.0,3145728000.0,3170304000.0,3194880000.0,3219456000.0,3244032000.0,3268608000.0,3293184000.0,3317760000.0,3342336000.0,3366912000.0,3391488000.0,3416064000.0,3440640000.0,3465216000.0,3514368000.0,3538944000.0,3563520000.0,3588096000.0,3612672000.0,3637248000.0,3661824000.0,3686400000.0,3710976000.0,3735552000.0,3760128000.0,3784704000.0,3809280000.0,3833856000.0,3883008000.0,3907584000.0,3932160000.0],\"y\":[161.964,166.0808,155.5584,152.6032,182.3824,162.4712,185.32,177.9888,190.7248,170.448,186.3928,192.8464,192.216,179.028,187.02,188.4632,184.5736,166.3792,168.02,184.0592,199.96,165.3272,192.988,207.1576,190.1264,208.996,185.3512,206.8416,132.0304,195.8456,197.1616,173.3168,175.4264,190.1184,190.3072,167.3752,167.3864,180.2968,176.7288,179.3168,181.1136,171.612,172.6896,174.276,168.044,167.3368,168.0032,155.232,138.3672,166.4752,150.6832,159.048,161.5384,148.8664,148.9848,160.3448,147.2296,155.9768,142.244,154.9064,154.5672,140.6632,152.6976,152.5048,130.116,150.3312,146.3,134.7536,144.4328,139.948,145.9512,128.128,146.4,145.216,143.8552,143.0208,126.8536,131.2976,133.8528,140.728,140.1504,140.5688,139.5672,139.4336,137.5816,138.1344,134.5632,137.1944,125.2784,127.1024,128.8712,126.7328,129.276,131.6064,134.4464,99.8592,133.4544,131.2432,131.8408,131.4992,131.0784,117.8464,131.304,129.0136,124.9992,123.6368,122.7424,129.3848,123.4336,126.4192,121.78,124.7232,128.1968,127.9392,123.9032,127.1808,127.4104,125.7728,124.8104,124.6528,125.9376,124.9176,124.9568,115.8976,125.1104,122.4728,121.5136,123.4848,125.368,122.2224,123.4672,122.9872,122.4776,121.2512,121.7032,121.4312,119.6064,117.7552],\"type\":\"scatter\"},{\"line\":{\"color\":\"gold\",\"width\":3},\"marker\":{\"line\":{\"color\":\"black\",\"width\":1},\"size\":6,\"symbol\":\"triangle-right\"},\"mode\":\"lines+markers\",\"name\":\"AvxFusProb_32mpi_32omp\",\"x\":[],\"y\":[],\"type\":\"scatter\"},{\"line\":{\"color\":\"dimgray\",\"width\":3},\"marker\":{\"line\":{\"color\":\"black\",\"width\":1},\"size\":6,\"symbol\":\"triangle-up\"},\"mode\":\"lines+markers\",\"name\":\"AvxFusNonProb_168mpi_6omp\",\"x\":[516096000.0,645120000.0,774144000.0,903168000.0,1032192000.0,1161216000.0,1290240000.0,1419264000.0,1548288000.0,1677312000.0,1806336000.0,1935360000.0,2064384000.0,2193408000.0,2322432000.0,2451456000.0,2580480000.0,2709504000.0,2838528000.0,2967552000.0,3096576000.0,3225600000.0,3354624000.0,3483648000.0,3612672000.0,3741696000.0,3870720000.0],\"y\":[239.84730000000002,262.2144,287.5152,293.349,287.88689999999997,254.6859,243.7974,223.4925,212.9967,201.4299,189.40068000000002,191.97150000000002,187.81077,182.5677,176.29332000000002,170.08887000000001,163.67862,161.37512999999998,159.36312,156.90066000000002,153.63768000000002,152.24706,147.68061,146.1054,146.84733,144.26076,142.94616],\"type\":\"scatter\"},{\"line\":{\"color\":\"magenta\",\"width\":3},\"marker\":{\"line\":{\"color\":\"yellow\",\"width\":1},\"size\":9,\"symbol\":\"hexagon\"},\"mode\":\"lines+markers\",\"name\":\"AvxFusProb_16mpi_64omp\",\"x\":[],\"y\":[],\"type\":\"scatter\"},{\"line\":{\"color\":\"Brown\",\"width\":3},\"marker\":{\"line\":{\"color\":\"darkred\",\"width\":2},\"size\":6,\"symbol\":\"circle\"},\"mode\":\"lines+markers\",\"name\":\"AvxFusNonProb_504mpi_2omp\",\"x\":[774144000.0,1161216000.0,1548288000.0,1935360000.0,2322432000.0,2709504000.0,3096576000.0,3483648000.0,3870720000.0],\"y\":[336.81690000000003,336.26565,289.47618,240.23475,219.4416,198.15012,187.9605,179.47880999999998,170.87742],\"type\":\"scatter\"}],                        {\"template\":{\"data\":{\"histogram2dcontour\":[{\"type\":\"histogram2dcontour\",\"colorbar\":{\"outlinewidth\":0,\"ticks\":\"\"},\"colorscale\":[[0.0,\"#0d0887\"],[0.1111111111111111,\"#46039f\"],[0.2222222222222222,\"#7201a8\"],[0.3333333333333333,\"#9c179e\"],[0.4444444444444444,\"#bd3786\"],[0.5555555555555556,\"#d8576b\"],[0.6666666666666666,\"#ed7953\"],[0.7777777777777778,\"#fb9f3a\"],[0.8888888888888888,\"#fdca26\"],[1.0,\"#f0f921\"]]}],\"choropleth\":[{\"type\":\"choropleth\",\"colorbar\":{\"outlinewidth\":0,\"ticks\":\"\"}}],\"histogram2d\":[{\"type\":\"histogram2d\",\"colorbar\":{\"outlinewidth\":0,\"ticks\":\"\"},\"colorscale\":[[0.0,\"#0d0887\"],[0.1111111111111111,\"#46039f\"],[0.2222222222222222,\"#7201a8\"],[0.3333333333333333,\"#9c179e\"],[0.4444444444444444,\"#bd3786\"],[0.5555555555555556,\"#d8576b\"],[0.6666666666666666,\"#ed7953\"],[0.7777777777777778,\"#fb9f3a\"],[0.8888888888888888,\"#fdca26\"],[1.0,\"#f0f921\"]]}],\"heatmap\":[{\"type\":\"heatmap\",\"colorbar\":{\"outlinewidth\":0,\"ticks\":\"\"},\"colorscale\":[[0.0,\"#0d0887\"],[0.1111111111111111,\"#46039f\"],[0.2222222222222222,\"#7201a8\"],[0.3333333333333333,\"#9c179e\"],[0.4444444444444444,\"#bd3786\"],[0.5555555555555556,\"#d8576b\"],[0.6666666666666666,\"#ed7953\"],[0.7777777777777778,\"#fb9f3a\"],[0.8888888888888888,\"#fdca26\"],[1.0,\"#f0f921\"]]}],\"heatmapgl\":[{\"type\":\"heatmapgl\",\"colorbar\":{\"outlinewidth\":0,\"ticks\":\"\"},\"colorscale\":[[0.0,\"#0d0887\"],[0.1111111111111111,\"#46039f\"],[0.2222222222222222,\"#7201a8\"],[0.3333333333333333,\"#9c179e\"],[0.4444444444444444,\"#bd3786\"],[0.5555555555555556,\"#d8576b\"],[0.6666666666666666,\"#ed7953\"],[0.7777777777777778,\"#fb9f3a\"],[0.8888888888888888,\"#fdca26\"],[1.0,\"#f0f921\"]]}],\"contourcarpet\":[{\"type\":\"contourcarpet\",\"colorbar\":{\"outlinewidth\":0,\"ticks\":\"\"}}],\"contour\":[{\"type\":\"contour\",\"colorbar\":{\"outlinewidth\":0,\"ticks\":\"\"},\"colorscale\":[[0.0,\"#0d0887\"],[0.1111111111111111,\"#46039f\"],[0.2222222222222222,\"#7201a8\"],[0.3333333333333333,\"#9c179e\"],[0.4444444444444444,\"#bd3786\"],[0.5555555555555556,\"#d8576b\"],[0.6666666666666666,\"#ed7953\"],[0.7777777777777778,\"#fb9f3a\"],[0.8888888888888888,\"#fdca26\"],[1.0,\"#f0f921\"]]}],\"surface\":[{\"type\":\"surface\",\"colorbar\":{\"outlinewidth\":0,\"ticks\":\"\"},\"colorscale\":[[0.0,\"#0d0887\"],[0.1111111111111111,\"#46039f\"],[0.2222222222222222,\"#7201a8\"],[0.3333333333333333,\"#9c179e\"],[0.4444444444444444,\"#bd3786\"],[0.5555555555555556,\"#d8576b\"],[0.6666666666666666,\"#ed7953\"],[0.7777777777777778,\"#fb9f3a\"],[0.8888888888888888,\"#fdca26\"],[1.0,\"#f0f921\"]]}],\"mesh3d\":[{\"type\":\"mesh3d\",\"colorbar\":{\"outlinewidth\":0,\"ticks\":\"\"}}],\"scatter\":[{\"fillpattern\":{\"fillmode\":\"overlay\",\"size\":10,\"solidity\":0.2},\"type\":\"scatter\"}],\"parcoords\":[{\"type\":\"parcoords\",\"line\":{\"colorbar\":{\"outlinewidth\":0,\"ticks\":\"\"}}}],\"scatterpolargl\":[{\"type\":\"scatterpolargl\",\"marker\":{\"colorbar\":{\"outlinewidth\":0,\"ticks\":\"\"}}}],\"bar\":[{\"error_x\":{\"color\":\"#2a3f5f\"},\"error_y\":{\"color\":\"#2a3f5f\"},\"marker\":{\"line\":{\"color\":\"#E5ECF6\",\"width\":0.5},\"pattern\":{\"fillmode\":\"overlay\",\"size\":10,\"solidity\":0.2}},\"type\":\"bar\"}],\"scattergeo\":[{\"type\":\"scattergeo\",\"marker\":{\"colorbar\":{\"outlinewidth\":0,\"ticks\":\"\"}}}],\"scatterpolar\":[{\"type\":\"scatterpolar\",\"marker\":{\"colorbar\":{\"outlinewidth\":0,\"ticks\":\"\"}}}],\"histogram\":[{\"marker\":{\"pattern\":{\"fillmode\":\"overlay\",\"size\":10,\"solidity\":0.2}},\"type\":\"histogram\"}],\"scattergl\":[{\"type\":\"scattergl\",\"marker\":{\"colorbar\":{\"outlinewidth\":0,\"ticks\":\"\"}}}],\"scatter3d\":[{\"type\":\"scatter3d\",\"line\":{\"colorbar\":{\"outlinewidth\":0,\"ticks\":\"\"}},\"marker\":{\"colorbar\":{\"outlinewidth\":0,\"ticks\":\"\"}}}],\"scattermapbox\":[{\"type\":\"scattermapbox\",\"marker\":{\"colorbar\":{\"outlinewidth\":0,\"ticks\":\"\"}}}],\"scatterternary\":[{\"type\":\"scatterternary\",\"marker\":{\"colorbar\":{\"outlinewidth\":0,\"ticks\":\"\"}}}],\"scattercarpet\":[{\"type\":\"scattercarpet\",\"marker\":{\"colorbar\":{\"outlinewidth\":0,\"ticks\":\"\"}}}],\"carpet\":[{\"aaxis\":{\"endlinecolor\":\"#2a3f5f\",\"gridcolor\":\"white\",\"linecolor\":\"white\",\"minorgridcolor\":\"white\",\"startlinecolor\":\"#2a3f5f\"},\"baxis\":{\"endlinecolor\":\"#2a3f5f\",\"gridcolor\":\"white\",\"linecolor\":\"white\",\"minorgridcolor\":\"white\",\"startlinecolor\":\"#2a3f5f\"},\"type\":\"carpet\"}],\"table\":[{\"cells\":{\"fill\":{\"color\":\"#EBF0F8\"},\"line\":{\"color\":\"white\"}},\"header\":{\"fill\":{\"color\":\"#C8D4E3\"},\"line\":{\"color\":\"white\"}},\"type\":\"table\"}],\"barpolar\":[{\"marker\":{\"line\":{\"color\":\"#E5ECF6\",\"width\":0.5},\"pattern\":{\"fillmode\":\"overlay\",\"size\":10,\"solidity\":0.2}},\"type\":\"barpolar\"}],\"pie\":[{\"automargin\":true,\"type\":\"pie\"}]},\"layout\":{\"autotypenumbers\":\"strict\",\"colorway\":[\"#636efa\",\"#EF553B\",\"#00cc96\",\"#ab63fa\",\"#FFA15A\",\"#19d3f3\",\"#FF6692\",\"#B6E880\",\"#FF97FF\",\"#FECB52\"],\"font\":{\"color\":\"#2a3f5f\"},\"hovermode\":\"closest\",\"hoverlabel\":{\"align\":\"left\"},\"paper_bgcolor\":\"white\",\"plot_bgcolor\":\"#E5ECF6\",\"polar\":{\"bgcolor\":\"#E5ECF6\",\"angularaxis\":{\"gridcolor\":\"white\",\"linecolor\":\"white\",\"ticks\":\"\"},\"radialaxis\":{\"gridcolor\":\"white\",\"linecolor\":\"white\",\"ticks\":\"\"}},\"ternary\":{\"bgcolor\":\"#E5ECF6\",\"aaxis\":{\"gridcolor\":\"white\",\"linecolor\":\"white\",\"ticks\":\"\"},\"baxis\":{\"gridcolor\":\"white\",\"linecolor\":\"white\",\"ticks\":\"\"},\"caxis\":{\"gridcolor\":\"white\",\"linecolor\":\"white\",\"ticks\":\"\"}},\"coloraxis\":{\"colorbar\":{\"outlinewidth\":0,\"ticks\":\"\"}},\"colorscale\":{\"sequential\":[[0.0,\"#0d0887\"],[0.1111111111111111,\"#46039f\"],[0.2222222222222222,\"#7201a8\"],[0.3333333333333333,\"#9c179e\"],[0.4444444444444444,\"#bd3786\"],[0.5555555555555556,\"#d8576b\"],[0.6666666666666666,\"#ed7953\"],[0.7777777777777778,\"#fb9f3a\"],[0.8888888888888888,\"#fdca26\"],[1.0,\"#f0f921\"]],\"sequentialminus\":[[0.0,\"#0d0887\"],[0.1111111111111111,\"#46039f\"],[0.2222222222222222,\"#7201a8\"],[0.3333333333333333,\"#9c179e\"],[0.4444444444444444,\"#bd3786\"],[0.5555555555555556,\"#d8576b\"],[0.6666666666666666,\"#ed7953\"],[0.7777777777777778,\"#fb9f3a\"],[0.8888888888888888,\"#fdca26\"],[1.0,\"#f0f921\"]],\"diverging\":[[0,\"#8e0152\"],[0.1,\"#c51b7d\"],[0.2,\"#de77ae\"],[0.3,\"#f1b6da\"],[0.4,\"#fde0ef\"],[0.5,\"#f7f7f7\"],[0.6,\"#e6f5d0\"],[0.7,\"#b8e186\"],[0.8,\"#7fbc41\"],[0.9,\"#4d9221\"],[1,\"#276419\"]]},\"xaxis\":{\"gridcolor\":\"white\",\"linecolor\":\"white\",\"ticks\":\"\",\"title\":{\"standoff\":15},\"zerolinecolor\":\"white\",\"automargin\":true,\"zerolinewidth\":2},\"yaxis\":{\"gridcolor\":\"white\",\"linecolor\":\"white\",\"ticks\":\"\",\"title\":{\"standoff\":15},\"zerolinecolor\":\"white\",\"automargin\":true,\"zerolinewidth\":2},\"scene\":{\"xaxis\":{\"backgroundcolor\":\"#E5ECF6\",\"gridcolor\":\"white\",\"linecolor\":\"white\",\"showbackground\":true,\"ticks\":\"\",\"zerolinecolor\":\"white\",\"gridwidth\":2},\"yaxis\":{\"backgroundcolor\":\"#E5ECF6\",\"gridcolor\":\"white\",\"linecolor\":\"white\",\"showbackground\":true,\"ticks\":\"\",\"zerolinecolor\":\"white\",\"gridwidth\":2},\"zaxis\":{\"backgroundcolor\":\"#E5ECF6\",\"gridcolor\":\"white\",\"linecolor\":\"white\",\"showbackground\":true,\"ticks\":\"\",\"zerolinecolor\":\"white\",\"gridwidth\":2}},\"shapedefaults\":{\"line\":{\"color\":\"#2a3f5f\"}},\"annotationdefaults\":{\"arrowcolor\":\"#2a3f5f\",\"arrowhead\":0,\"arrowwidth\":1},\"geo\":{\"bgcolor\":\"white\",\"landcolor\":\"#E5ECF6\",\"subunitcolor\":\"white\",\"showland\":true,\"showlakes\":true,\"lakecolor\":\"white\"},\"title\":{\"x\":0.05},\"mapbox\":{\"style\":\"light\"}}},\"shapes\":[{\"line\":{\"color\":\"green\",\"dash\":\"dash\",\"width\":3},\"type\":\"line\",\"x0\":512000000.0,\"x1\":512000000.0,\"xref\":\"x\",\"y0\":0,\"y1\":1,\"yref\":\"y domain\"}],\"annotations\":[{\"align\":\"left\",\"arrowcolor\":\"#636363\",\"arrowhead\":1,\"arrowsize\":1,\"arrowwidth\":2,\"ax\":-20,\"ay\":-30,\"font\":{\"color\":\"purple\",\"family\":\"Sans Serif\",\"size\":12},\"showarrow\":false,\"text\":\"LLC Size Per Node\",\"x\":\"512e6\",\"y\":130,\"yanchor\":\"bottom\"}],\"xaxis\":{\"title\":{\"text\":\"Dirc_Data_Mov\"},\"ticks\":\"outside\"},\"yaxis\":{\"title\":{\"text\":\"GFLOPs/Node\"},\"ticks\":\"outside\"},\"title\":{\"text\":\"\\\"AVX-Fused (8-Nodes): probempi vs nonprobempi\\\" GFlops Measurement\"}},                        {\"responsive\": true}                    ).then(function(){\n",
       "                            \n",
       "var gd = document.getElementById('d769e371-9c23-46f9-bc33-e9c68698b3fd');\n",
       "var x = new MutationObserver(function (mutations, observer) {{\n",
       "        var display = window.getComputedStyle(gd).display;\n",
       "        if (!display || display === 'none') {{\n",
       "            console.log([gd, 'removed!']);\n",
       "            Plotly.purge(gd);\n",
       "            observer.disconnect();\n",
       "        }}\n",
       "}});\n",
       "\n",
       "// Listen for the removal of the full notebook cells\n",
       "var notebookContainer = gd.closest('#notebook-container');\n",
       "if (notebookContainer) {{\n",
       "    x.observe(notebookContainer, {childList: true});\n",
       "}}\n",
       "\n",
       "// Listen for the clearing of the current output cell\n",
       "var outputEl = gd.closest('.output');\n",
       "if (outputEl) {{\n",
       "    x.observe(outputEl, {childList: true});\n",
       "}}\n",
       "\n",
       "                        })                };                });            </script>        </div>"
      ]
     },
     "metadata": {},
     "output_type": "display_data"
    }
   ],
   "source": [
    "fig = go.Figure() \n",
    "\n",
    "# Case 1\n",
    "fig.add_trace(go.Scatter(x=(dfn8AvxFusProb_1024mpi_1omp.Dirc_Data_Mov*(dfn8AvxFusProb_1024mpi_1omp.MPI_size/8)), \n",
    "                         y=(dfn8AvxFusProb_1024mpi_1omp.GFLOPS*(dfn8AvxFusProb_1024mpi_1omp.MPI_size/8)), \n",
    "                         mode='lines+markers', \n",
    "                         name='AvxFusProb_1024mpi_1omp',\n",
    "                         line=dict(color='darkcyan',width=3),\n",
    "                         marker=dict(symbol='hexagon',size=9, line=dict(color='yellow',width=1))))\n",
    "\n",
    "fig.add_trace(go.Scatter(x=(dfn8AvxFusNonProb_1024mpi_1omp.Dirc_Data_Mov*(dfn8AvxFusNonProb_1024mpi_1omp.MPI_size/8)), \n",
    "                         y=(dfn8AvxFusNonProb_1024mpi_1omp.GFLOPS*(dfn8AvxFusNonProb_1024mpi_1omp.MPI_size/8)), \n",
    "                         mode='lines+markers', \n",
    "                         name='AvxFusNonProb_1024mpi_1omp',\n",
    "                         line=dict(color='magenta',width=3),\n",
    "                         marker=dict(symbol='hexagon',size=9, line=dict(color='yellow',width=1))))\n",
    "\n",
    "\n",
    "# Case 2\n",
    "fig.add_trace(go.Scatter(x=(dfn8AvxFusProb_512mpi_2omp.Dirc_Data_Mov*(dfn8AvxFusProb_512mpi_2omp.MPI_size/8)), \n",
    "                         y=(dfn8AvxFusProb_512mpi_2omp.GFLOPS*(dfn8AvxFusProb_512mpi_2omp.MPI_size/8)), \n",
    "                         mode='lines+markers', \n",
    "                         name='AvxFusProb_512mpi_2omp',\n",
    "                         line=dict(color='royalblue',width=3),\n",
    "                         marker=dict(symbol='diamond',size=5,line=dict(color='MediumPurple',width=2))))\n",
    "\n",
    "fig.add_trace(go.Scatter(x=(dfn8AvxFusNonProb_512mpi_2omp.Dirc_Data_Mov*(dfn8AvxFusNonProb_512mpi_2omp.MPI_size/8)), \n",
    "                         y=(dfn8AvxFusNonProb_512mpi_2omp.GFLOPS*(dfn8AvxFusNonProb_512mpi_2omp.MPI_size/8)), \n",
    "                         mode='lines+markers', \n",
    "                         name='AvxFusNonProb_512mpi_2omp',\n",
    "                         line=dict(color='sandybrown',width=3),\n",
    "                         marker=dict(symbol='diamond',size=5,line=dict(color='MediumPurple',width=2))))\n",
    "\n",
    "\n",
    "# Case 3\n",
    "fig.add_trace(go.Scatter(x=(dfn8AvxFusProb_256mpi_4omp.Dirc_Data_Mov*(dfn8AvxFusProb_256mpi_4omp.MPI_size/8)), \n",
    "                         y=(dfn8AvxFusProb_256mpi_4omp.GFLOPS*(dfn8AvxFusProb_256mpi_4omp.MPI_size/8)), \n",
    "                         mode='lines+markers', \n",
    "                         name='AvxFusProb_256mpi_4omp',\n",
    "                         line=dict(color='darkblue',width=3),\n",
    "                         marker=dict(symbol='circle',size=7, line=dict(color='tomato',width=2))))\n",
    "\n",
    "fig.add_trace(go.Scatter(x=(dfn8AvxFusNonProb_256mpi_4omp.Dirc_Data_Mov*(dfn8AvxFusNonProb_256mpi_4omp.MPI_size/8)), \n",
    "                         y=(dfn8AvxFusNonProb_256mpi_4omp.GFLOPS*(dfn8AvxFusNonProb_256mpi_4omp.MPI_size/8)), \n",
    "                         mode='lines+markers', \n",
    "                         name='AvxFusNonProb_256mpi_4omp',\n",
    "                         line=dict(color='cyan',width=3),\n",
    "                         marker=dict(symbol='circle',size=7,line=dict(color='Purple',width=2))))\n",
    "\n",
    "\n",
    "\n",
    "# Case 4\n",
    "fig.add_trace(go.Scatter(x=(dfn8AvxFusProb_128mpi_8omp.Dirc_Data_Mov*(dfn8AvxFusProb_128mpi_8omp.MPI_size/8)), \n",
    "                         y=(dfn8AvxFusProb_128mpi_8omp.GFLOPS*(dfn8AvxFusProb_128mpi_8omp.MPI_size/8)), \n",
    "                         mode='lines+markers', \n",
    "                         name='AvxFusProb_128mpi_8omp',\n",
    "                         line=dict(color='blue',width=3),\n",
    "                         marker=dict(symbol='star',size=7, line=dict(color='black',width=1))))\n",
    "\n",
    "fig.add_trace(go.Scatter(x=(dfn8AvxFusNonProb_128mpi_8omp.Dirc_Data_Mov*(dfn8AvxFusNonProb_128mpi_8omp.MPI_size/8)), \n",
    "                         y=(dfn8AvxFusNonProb_128mpi_8omp.GFLOPS*(dfn8AvxFusNonProb_128mpi_8omp.MPI_size/8)), \n",
    "                         mode='lines+markers', \n",
    "                         name='AvxFusNonProb_128mpi_8omp',\n",
    "                         line=dict(color='red',width=3),\n",
    "                         marker=dict(symbol='star',size=7, line=dict(color='black',width=1))))\n",
    "\n",
    "\n",
    "# Case 5\n",
    "fig.add_trace(go.Scatter(x=(dfn8AvxFusProb_64mpi_16omp.Dirc_Data_Mov*(dfn8AvxFusProb_64mpi_16omp.MPI_size/8)), \n",
    "                         y=(dfn8AvxFusProb_64mpi_16omp.GFLOPS*(dfn8AvxFusProb_64mpi_16omp.MPI_size/8)), \n",
    "                         mode='lines+markers', \n",
    "                         name='AvxFusProb_64mpi_16omp',\n",
    "                         line=dict(color='chartreuse',width=3),\n",
    "                         marker=dict(symbol='square-dot',size=6, line=dict(color='mediumvioletred',width=1))))\n",
    "\n",
    "fig.add_trace(go.Scatter(x=(dfn8AvxFusNonProb_64mpi_16omp.Dirc_Data_Mov*(dfn8AvxFusNonProb_64mpi_16omp.MPI_size/8)), \n",
    "                         y=(dfn8AvxFusNonProb_64mpi_16omp.GFLOPS*(dfn8AvxFusNonProb_64mpi_16omp.MPI_size/8)), \n",
    "                         mode='lines+markers', \n",
    "                         name='AvxFusNonProb_64mpi_16omp',\n",
    "                         line=dict(color='black',width=3),\n",
    "                         marker=dict(symbol='square-dot',size=6, line=dict(color='mediumvioletred',width=1))))\n",
    "\n",
    "\n",
    "# Case 6\n",
    "fig.add_trace(go.Scatter(x=(dfn8AvxFusProb_32mpi_32omp.Dirc_Data_Mov*(dfn8AvxFusProb_32mpi_32omp.MPI_size/8)), \n",
    "                         y=(dfn8AvxFusProb_32mpi_32omp.GFLOPS*(dfn8AvxFusProb_32mpi_32omp.MPI_size/8)), \n",
    "                         mode='lines+markers', \n",
    "                         name='AvxFusProb_32mpi_32omp',\n",
    "                         line=dict(color='gold',width=3),\n",
    "                         marker=dict(symbol='triangle-right',size=6, line=dict(color='black',width=1))))\n",
    "\n",
    "fig.add_trace(go.Scatter(x=(dfn8AvxFusNonProb_168mpi_6omp.Dirc_Data_Mov*(dfn8AvxFusNonProb_168mpi_6omp.MPI_size/8)), \n",
    "                         y=(dfn8AvxFusNonProb_168mpi_6omp.GFLOPS*(dfn8AvxFusNonProb_168mpi_6omp.MPI_size/8)), \n",
    "                         mode='lines+markers', \n",
    "                         name='AvxFusNonProb_168mpi_6omp',\n",
    "                         line=dict(color='dimgray',width=3),\n",
    "                         marker=dict(symbol='triangle-up',size=6, line=dict(color='black',width=1))))\n",
    "\n",
    "\n",
    "\n",
    "# Case 7\n",
    "fig.add_trace(go.Scatter(x=(dfn8AvxFusProb_16mpi_64omp.Dirc_Data_Mov*(dfn8AvxFusProb_16mpi_64omp.MPI_size/8)), \n",
    "                         y=(dfn8AvxFusProb_16mpi_64omp.GFLOPS*(dfn8AvxFusProb_16mpi_64omp.MPI_size/8)), \n",
    "                         mode='lines+markers', \n",
    "                         name='AvxFusProb_16mpi_64omp',\n",
    "                        line=dict(color='magenta',width=3),\n",
    "                         marker=dict(symbol='hexagon',size=9, line=dict(color='yellow',width=1))))\n",
    "\n",
    "fig.add_trace(go.Scatter(x=(dfn8AvxFusNonProb_504mpi_2omp.Dirc_Data_Mov*(dfn8AvxFusNonProb_504mpi_2omp.MPI_size/8)), \n",
    "                         y=(dfn8AvxFusNonProb_504mpi_2omp.GFLOPS*(dfn8AvxFusNonProb_504mpi_2omp.MPI_size/8)), \n",
    "                         mode='lines+markers', \n",
    "                         name='AvxFusNonProb_504mpi_2omp',\n",
    "                         line=dict(color='Brown',width=3),\n",
    "                         marker=dict(symbol='circle',size=6, line=dict(color='darkred',width=2))))\n",
    "\n",
    "\n",
    "\n",
    "\n",
    "# Adding a vertical line\n",
    "fig.add_vline(x=512e6, line_width=3, line_dash=\"dash\", line_color=\"green\")\n",
    "# fig.add_hline(y=1024, line_width=3, line_dash=\"dash\", line_color=\"red\")\n",
    "\n",
    "# Add annotation\n",
    "fig.add_annotation(\n",
    "    x='512e6'\n",
    "    , y=130\n",
    "    , text=f'LLC Size Per Node'\n",
    "    , yanchor='bottom'\n",
    "    , showarrow=False\n",
    "    , arrowhead=1\n",
    "    , arrowsize=1\n",
    "    , arrowwidth=2\n",
    "    , arrowcolor=\"#636363\"\n",
    "    , ax=-20\n",
    "    , ay=-30\n",
    "    , font=dict(size=12, color=\"purple\", family=\"Sans Serif\")\n",
    "    , align=\"left\"\n",
    "    ,)\n",
    "\n",
    "fig.update_layout(title='\"AVX-Fused (8-Nodes): probempi vs nonprobempi\" GFlops Measurement',\n",
    "                  xaxis_title='Dirc_Data_Mov', yaxis_title='GFLOPs/Node', \n",
    "                  xaxis=dict(ticks=\"outside\"),  \n",
    "                  yaxis=dict(ticks=\"outside\"))"
   ]
  },
  {
   "cell_type": "markdown",
   "id": "1f8cad4a",
   "metadata": {},
   "source": [
    "## BANDWIDTH - AVX-Fused: Probmpi vs Non-Probempim"
   ]
  },
  {
   "cell_type": "code",
   "execution_count": 34,
   "id": "7cdcab7c",
   "metadata": {},
   "outputs": [
    {
     "ename": "NameError",
     "evalue": "name 'dfn8AvxFusProb_168mpi_6omp' is not defined",
     "output_type": "error",
     "traceback": [
      "\u001b[0;31m---------------------------------------------------------------------------\u001b[0m",
      "\u001b[0;31mNameError\u001b[0m                                 Traceback (most recent call last)",
      "\u001b[0;32m/var/folders/kg/q0rj883x197bn5j3gs7wys240000gn/T/ipykernel_50049/187270522.py\u001b[0m in \u001b[0;36m<module>\u001b[0;34m\u001b[0m\n\u001b[1;32m     83\u001b[0m \u001b[0;34m\u001b[0m\u001b[0m\n\u001b[1;32m     84\u001b[0m \u001b[0;31m# Case 6\u001b[0m\u001b[0;34m\u001b[0m\u001b[0;34m\u001b[0m\u001b[0m\n\u001b[0;32m---> 85\u001b[0;31m fig.add_trace(go.Scatter(x=(dfn8AvxFusProb_168mpi_6omp.Dirc_Data_Mov*(dfn8AvxFusProb_168mpi_6omp.MPI_size/8)), \n\u001b[0m\u001b[1;32m     86\u001b[0m                          \u001b[0my\u001b[0m\u001b[0;34m=\u001b[0m\u001b[0;34m(\u001b[0m\u001b[0mdfn8AvxFusProb_168mpi_6omp\u001b[0m\u001b[0;34m.\u001b[0m\u001b[0mBAND\u001b[0m\u001b[0;34m*\u001b[0m\u001b[0;34m(\u001b[0m\u001b[0mdfn8AvxFusProb_168mpi_6omp\u001b[0m\u001b[0;34m.\u001b[0m\u001b[0mMPI_size\u001b[0m\u001b[0;34m/\u001b[0m\u001b[0;36m8\u001b[0m\u001b[0;34m)\u001b[0m\u001b[0;34m)\u001b[0m\u001b[0;34m,\u001b[0m\u001b[0;34m\u001b[0m\u001b[0;34m\u001b[0m\u001b[0m\n\u001b[1;32m     87\u001b[0m                          \u001b[0mmode\u001b[0m\u001b[0;34m=\u001b[0m\u001b[0;34m'lines+markers'\u001b[0m\u001b[0;34m,\u001b[0m\u001b[0;34m\u001b[0m\u001b[0;34m\u001b[0m\u001b[0m\n",
      "\u001b[0;31mNameError\u001b[0m: name 'dfn8AvxFusProb_168mpi_6omp' is not defined"
     ]
    }
   ],
   "source": [
    "fig = go.Figure() \n",
    "\n",
    "# Case 1\n",
    "fig.add_trace(go.Scatter(x=(dfn8AvxFusProb_1024mpi_1omp.Dirc_Data_Mov*(dfn8AvxFusProb_1024mpi_1omp.MPI_size/8)), \n",
    "                         y=(dfn8AvxFusProb_1024mpi_1omp.BAND*(dfn8AvxFusProb_1024mpi_1omp.MPI_size/8)), \n",
    "                         mode='lines+markers', \n",
    "                         name='AvxFusProb_1024mpi_1omp',\n",
    "                         line=dict(color='darkcyan',width=3),\n",
    "                         marker=dict(symbol='hexagon',size=9, line=dict(color='yellow',width=1))))\n",
    "\n",
    "fig.add_trace(go.Scatter(x=(dfn8AvxFusNonProb_1024mpi_1omp.Dirc_Data_Mov*(dfn8AvxFusNonProb_1024mpi_1omp.MPI_size/8)), \n",
    "                         y=(dfn8AvxFusNonProb_1024mpi_1omp.BAND*(dfn8AvxFusNonProb_1024mpi_1omp.MPI_size/8)), \n",
    "                         mode='lines+markers', \n",
    "                         name='AvxFusNonProb_1024mpi_1omp',\n",
    "                         line=dict(color='magenta',width=3),\n",
    "                         marker=dict(symbol='hexagon',size=9, line=dict(color='yellow',width=1))))\n",
    "\n",
    "\n",
    "# Case 2\n",
    "fig.add_trace(go.Scatter(x=(dfn8AvxFusProb_512mpi_2omp.Dirc_Data_Mov*(dfn8AvxFusProb_512mpi_2omp.MPI_size/8)), \n",
    "                         y=(dfn8AvxFusProb_512mpi_2omp.BAND*(dfn8AvxFusProb_512mpi_2omp.MPI_size/8)), \n",
    "                         mode='lines+markers', \n",
    "                         name='AvxFusProb_512mpi_2omp',\n",
    "                         line=dict(color='royalblue',width=3),\n",
    "                         marker=dict(symbol='diamond',size=5,line=dict(color='MediumPurple',width=2))))\n",
    "\n",
    "fig.add_trace(go.Scatter(x=(dfn8AvxFusNonProb_512mpi_2omp.Dirc_Data_Mov*(dfn8AvxFusNonProb_512mpi_2omp.MPI_size/8)), \n",
    "                         y=(dfn8AvxFusNonProb_512mpi_2omp.BAND*(dfn8AvxFusNonProb_512mpi_2omp.MPI_size/8)), \n",
    "                         mode='lines+markers', \n",
    "                         name='AvxFusNonProb_512mpi_2omp',\n",
    "                         line=dict(color='sandybrown',width=3),\n",
    "                         marker=dict(symbol='diamond',size=5,line=dict(color='MediumPurple',width=2))))\n",
    "\n",
    "\n",
    "# Case 3\n",
    "fig.add_trace(go.Scatter(x=(dfn8AvxFusProb_256mpi_4omp.Dirc_Data_Mov*(dfn8AvxFusProb_256mpi_4omp.MPI_size/8)), \n",
    "                         y=(dfn8AvxFusProb_256mpi_4omp.BAND*(dfn8AvxFusProb_256mpi_4omp.MPI_size/8)), \n",
    "                         mode='lines+markers', \n",
    "                         name='AvxFusProb_256mpi_4omp',\n",
    "                         line=dict(color='darkblue',width=3),\n",
    "                         marker=dict(symbol='circle',size=7, line=dict(color='tomato',width=2))))\n",
    "\n",
    "fig.add_trace(go.Scatter(x=(dfn8AvxFusNonProb_256mpi_4omp.Dirc_Data_Mov*(dfn8AvxFusNonProb_256mpi_4omp.MPI_size/8)), \n",
    "                         y=(dfn8AvxFusNonProb_256mpi_4omp.BAND*(dfn8AvxFusNonProb_256mpi_4omp.MPI_size/8)), \n",
    "                         mode='lines+markers', \n",
    "                         name='AvxFusNonProb_256mpi_4omp',\n",
    "                         line=dict(color='cyan',width=3),\n",
    "                         marker=dict(symbol='circle',size=7,line=dict(color='Purple',width=2))))\n",
    "\n",
    "\n",
    "\n",
    "# Case 4\n",
    "fig.add_trace(go.Scatter(x=(dfn8AvxFusProb_128mpi_8omp.Dirc_Data_Mov*(dfn8AvxFusProb_128mpi_8omp.MPI_size/8)), \n",
    "                         y=(dfn8AvxFusProb_128mpi_8omp.BAND*(dfn8AvxFusProb_128mpi_8omp.MPI_size/8)), \n",
    "                         mode='lines+markers', \n",
    "                         name='AvxFusProb_128mpi_8omp',\n",
    "                         line=dict(color='blue',width=3),\n",
    "                         marker=dict(symbol='star',size=7, line=dict(color='black',width=1))))\n",
    "\n",
    "fig.add_trace(go.Scatter(x=(dfn8AvxFusNonProb_128mpi_8omp.Dirc_Data_Mov*(dfn8AvxFusNonProb_128mpi_8omp.MPI_size/8)), \n",
    "                         y=(dfn8AvxFusNonProb_128mpi_8omp.BAND*(dfn8AvxFusNonProb_128mpi_8omp.MPI_size/8)), \n",
    "                         mode='lines+markers', \n",
    "                         name='AvxFusNonProb_128mpi_8omp',\n",
    "                         line=dict(color='red',width=3),\n",
    "                         marker=dict(symbol='star',size=7, line=dict(color='black',width=1))))\n",
    "\n",
    "\n",
    "# Case 5\n",
    "fig.add_trace(go.Scatter(x=(dfn8AvxFusProb_64mpi_16omp.Dirc_Data_Mov*(dfn8AvxFusProb_64mpi_16omp.MPI_size/8)), \n",
    "                         y=(dfn8AvxFusProb_64mpi_16omp.BAND*(dfn8AvxFusProb_64mpi_16omp.MPI_size/8)), \n",
    "                         mode='lines+markers', \n",
    "                         name='AvxFusProb_64mpi_16omp',\n",
    "                         line=dict(color='chartreuse',width=3),\n",
    "                         marker=dict(symbol='square-dot',size=6, line=dict(color='mediumvioletred',width=1))))\n",
    "\n",
    "fig.add_trace(go.Scatter(x=(dfn8AvxFusNonProb_64mpi_16omp.Dirc_Data_Mov*(dfn8AvxFusNonProb_64mpi_16omp.MPI_size/8)), \n",
    "                         y=(dfn8AvxFusNonProb_64mpi_16omp.BAND*(dfn8AvxFusNonProb_64mpi_16omp.MPI_size/8)), \n",
    "                         mode='lines+markers', \n",
    "                         name='AvxFusNonProb_64mpi_16omp',\n",
    "                         line=dict(color='black',width=3),\n",
    "                         marker=dict(symbol='square-dot',size=6, line=dict(color='mediumvioletred',width=1))))\n",
    "\n",
    "\n",
    "# Case 6\n",
    "fig.add_trace(go.Scatter(x=(dfn8AvxFusProb_168mpi_6omp.Dirc_Data_Mov*(dfn8AvxFusProb_168mpi_6omp.MPI_size/8)), \n",
    "                         y=(dfn8AvxFusProb_168mpi_6omp.BAND*(dfn8AvxFusProb_168mpi_6omp.MPI_size/8)), \n",
    "                         mode='lines+markers', \n",
    "                         name='AvxFusProb_168mpi_6omp',\n",
    "                         line=dict(color='gold',width=3),\n",
    "                         marker=dict(symbol='triangle-up',size=6, line=dict(color='black',width=1))))\n",
    "\n",
    "fig.add_trace(go.Scatter(x=(dfn8AvxFusNonProb_168mpi_6omp.Dirc_Data_Mov*(dfn8AvxFusNonProb_168mpi_6omp.MPI_size/8)), \n",
    "                         y=(dfn8AvxFusNonProb_168mpi_6omp.BAND*(dfn8AvxFusNonProb_168mpi_6omp.MPI_size/8)), \n",
    "                         mode='lines+markers', \n",
    "                         name='AvxFusNonProb_168mpi_6omp',\n",
    "                         line=dict(color='dimgray',width=3),\n",
    "                         marker=dict(symbol='triangle-up',size=6, line=dict(color='black',width=1))))\n",
    "\n",
    "\n",
    "\n",
    "# Case 7\n",
    "fig.add_trace(go.Scatter(x=(dfn8AvxFusProb_504mpi_2omp.Dirc_Data_Mov*(dfn8AvxFusProb_504mpi_2omp.MPI_size/8)), \n",
    "                         y=(dfn8AvxFusProb_504mpi_2omp.BAND*(dfn8AvxFusProb_504mpi_2omp.MPI_size/8)), \n",
    "                         mode='lines+markers', \n",
    "                         name='AvxFusProb_504mpi_2omp',\n",
    "                         line=dict(color='olive',width=3),\n",
    "                         marker=dict(symbol='circle',size=6, line=dict(color='olive',width=2))))\n",
    "\n",
    "fig.add_trace(go.Scatter(x=(dfn8AvxFusNonProb_504mpi_2omp.Dirc_Data_Mov*(dfn8AvxFusNonProb_504mpi_2omp.MPI_size/8)), \n",
    "                         y=(dfn8AvxFusNonProb_504mpi_2omp.BAND*(dfn8AvxFusNonProb_504mpi_2omp.MPI_size/8)), \n",
    "                         mode='lines+markers', \n",
    "                         name='AvxFusNonProb_504mpi_2omp',\n",
    "                         line=dict(color='Brown',width=3),\n",
    "                         marker=dict(symbol='circle',size=6, line=dict(color='darkred',width=2))))\n",
    "\n",
    "\n",
    "# Adding vertical and horizontal lines \n",
    "fig.add_vline(x=512e6, line_width=3, line_dash=\"dot\", line_color=\"green\")\n",
    "fig.add_hline(y=409, line_width=3, line_dash=\"dash\", line_color=\"red\")\n",
    "\n",
    "# Add annotation with arrow\n",
    "fig.add_annotation(\n",
    "    x='512e6'\n",
    "    , y=280\n",
    "    , text=f'LLC Size Per Node: 512M'\n",
    "    , yanchor='bottom'\n",
    "    , showarrow=False\n",
    "    , arrowhead=1\n",
    "    , arrowsize=1\n",
    "    , arrowwidth=2\n",
    "    , arrowcolor=\"#636363\"\n",
    "    , ax=-20\n",
    "    , ay=-30\n",
    "    , font=dict(size=12, color=\"purple\", family=\"Sans Serif\")\n",
    "    , align=\"left\"\n",
    "    ,)\n",
    "\n",
    "fig.add_annotation(\n",
    "    x='130e6'\n",
    "    , y=370\n",
    "    , text=f'Max Bandwidth Per Node'\n",
    "    , yanchor='bottom'\n",
    "    , showarrow=False\n",
    "    , arrowhead=1\n",
    "    , arrowsize=1\n",
    "    , arrowwidth=2\n",
    "    , arrowcolor=\"#636363\"\n",
    "    , ax=-20\n",
    "    , ay=-30\n",
    "    , font=dict(size=12, color=\"orange\", family=\"Sans Serif\")\n",
    "    , align=\"left\"\n",
    "    ,)\n",
    "\n",
    "\n",
    "fig.update_layout(title='\"AVX-Fused: Probmpi vs Non-Probempim\" Bandwidth Measurement',\n",
    "                  xaxis_title='Dirc_Data_Mov', yaxis_title='Bandwidth/Node', \n",
    "                  xaxis=dict(ticks=\"outside\"),  \n",
    "                  yaxis=dict(ticks=\"outside\"),\n",
    "                  legend=go.layout.Legend(bordercolor=\"black\",borderwidth=1)) \n",
    "\n",
    "\n",
    "\n"
   ]
  },
  {
   "cell_type": "code",
   "execution_count": null,
   "id": "f66cb3ed",
   "metadata": {},
   "outputs": [],
   "source": []
  },
  {
   "cell_type": "markdown",
   "id": "892a2e41",
   "metadata": {},
   "source": [
    "## 3) NonFused_AVX_Probempi"
   ]
  },
  {
   "cell_type": "markdown",
   "id": "852caaab",
   "metadata": {},
   "source": [
    "### Adding Columns"
   ]
  },
  {
   "cell_type": "code",
   "execution_count": null,
   "id": "ef7f0b60",
   "metadata": {},
   "outputs": [],
   "source": [
    "dfn8_avx_nonfused_probempi[\"N_Nodes\"] = 8\n",
    "dfn8_avx_nonfused_probempi['NPX'] = (dfn8_avx_nonfused_probempi.GLB_X//dfn8_avx_nonfused_probempi.LOC_X)\n",
    "dfn8_avx_nonfused_probempi['NPY'] = (dfn8_avx_nonfused_probempi.GLB_Y//dfn8_avx_nonfused_probempi.LOC_Y)\n",
    "dfn8_avx_nonfused_probempi['NPZ'] = (dfn8_avx_nonfused_probempi.GLB_Z//dfn8_avx_nonfused_probempi.LOC_Z)\n",
    "dfn8_avx_nonfused_probempi['NPT'] = (dfn8_avx_nonfused_probempi.GLB_T//dfn8_avx_nonfused_probempi.LOC_T)\n",
    "dfn8_avx_nonfused_probempi[\"Total_proc\"] = dfn8_avx_nonfused_probempi[\"omp_thrd\"]* dfn8_avx_nonfused_probempi.MPI_size\n",
    "# dfn8_avx_nonfused_probempi.columns"
   ]
  },
  {
   "cell_type": "markdown",
   "id": "e0c7d1d8",
   "metadata": {},
   "source": [
    "### Data Summary"
   ]
  },
  {
   "cell_type": "code",
   "execution_count": null,
   "id": "be2f5e77",
   "metadata": {},
   "outputs": [],
   "source": [
    "dfn8_avx_nonfused_probempi_summary = dfn8_avx_nonfused_probempi.groupby(['MPI_size','omp_thrd','NPT','NPX', 'NPY', 'NPZ',\"Total_proc\"]).size().reset_index(name = 'size')\n",
    "dfn8_avx_nonfused_probempi_summary"
   ]
  },
  {
   "cell_type": "markdown",
   "id": "a5e29f5f",
   "metadata": {},
   "source": [
    "### Cases Setup"
   ]
  },
  {
   "cell_type": "code",
   "execution_count": null,
   "id": "877f812b",
   "metadata": {},
   "outputs": [],
   "source": [
    "dfn8AvxNonFusProb_64mpi_16omp = dfn8_avx_nonfused_probempi[(dfn8_avx_nonfused_probempi.omp_thrd == 16) & (dfn8_avx_nonfused_probempi.GLB_T/dfn8_avx_nonfused_probempi.LOC_T == 8) & (dfn8_avx_nonfused_probempi.GLB_X/dfn8_avx_nonfused_probempi.LOC_X == 2) & (dfn8_avx_nonfused_probempi.GLB_Y/dfn8_avx_nonfused_probempi.LOC_Y == 2)& (dfn8_avx_nonfused_probempi.GLB_Z/dfn8_avx_nonfused_probempi.LOC_Z == 2)]\n",
    "dfn8AvxNonFusProb_128mpi_8omp = dfn8_avx_nonfused_probempi[(dfn8_avx_nonfused_probempi.omp_thrd == 8) & (dfn8_avx_nonfused_probempi.GLB_T/dfn8_avx_nonfused_probempi.LOC_T == 16) & (dfn8_avx_nonfused_probempi.GLB_X/dfn8_avx_nonfused_probempi.LOC_X == 2) & (dfn8_avx_nonfused_probempi.GLB_Y/dfn8_avx_nonfused_probempi.LOC_Y == 2)& (dfn8_avx_nonfused_probempi.GLB_Z/dfn8_avx_nonfused_probempi.LOC_Z == 2)]\n",
    "dfn8AvxNonFusProb_256mpi_4omp = dfn8_avx_nonfused_probempi[(dfn8_avx_nonfused_probempi.omp_thrd == 4) & (dfn8_avx_nonfused_probempi.GLB_T/dfn8_avx_nonfused_probempi.LOC_T == 32) & (dfn8_avx_nonfused_probempi.GLB_X/dfn8_avx_nonfused_probempi.LOC_X == 2) & (dfn8_avx_nonfused_probempi.GLB_Y/dfn8_avx_nonfused_probempi.LOC_Y == 2)& (dfn8_avx_nonfused_probempi.GLB_Z/dfn8_avx_nonfused_probempi.LOC_Z == 2)]\n",
    "dfn8AvxNonFusProb_512mpi_2omp = dfn8_avx_nonfused_probempi[(dfn8_avx_nonfused_probempi.omp_thrd == 2) & (dfn8_avx_nonfused_probempi.GLB_T/dfn8_avx_nonfused_probempi.LOC_T == 64) & (dfn8_avx_nonfused_probempi.GLB_X/dfn8_avx_nonfused_probempi.LOC_X == 2) & (dfn8_avx_nonfused_probempi.GLB_Y/dfn8_avx_nonfused_probempi.LOC_Y == 2)& (dfn8_avx_nonfused_probempi.GLB_Z/dfn8_avx_nonfused_probempi.LOC_Z == 2)]\n",
    "dfn8AvxNonFusProb_1024mpi_1omp = dfn8_avx_nonfused_probempi[(dfn8_avx_nonfused_probempi.omp_thrd == 1) & (dfn8_avx_nonfused_probempi.GLB_T/dfn8_avx_nonfused_probempi.LOC_T == 128) & (dfn8_avx_nonfused_probempi.GLB_X/dfn8_avx_nonfused_probempi.LOC_X == 2) & (dfn8_avx_nonfused_probempi.GLB_Y/dfn8_avx_nonfused_probempi.LOC_Y == 2)& (dfn8_avx_nonfused_probempi.GLB_Z/dfn8_avx_nonfused_probempi.LOC_Z == 2)]\n",
    "dfn8AvxNonFusProb_168mpi_6omp = dfn8_avx_nonfused_probempi[(dfn8_avx_nonfused_probempi.omp_thrd == 6) & (dfn8_avx_nonfused_probempi.GLB_T/dfn8_avx_nonfused_probempi.LOC_T == 21) & (dfn8_avx_nonfused_probempi.GLB_X/dfn8_avx_nonfused_probempi.LOC_X == 2) & (dfn8_avx_nonfused_probempi.GLB_Y/dfn8_avx_nonfused_probempi.LOC_Y == 2)& (dfn8_avx_nonfused_probempi.GLB_Z/dfn8_avx_nonfused_probempi.LOC_Z == 2)]\n",
    "dfn8AvxNonFusProb_504mpi_2omp = dfn8_avx_nonfused_probempi[(dfn8_avx_nonfused_probempi.omp_thrd == 2) & (dfn8_avx_nonfused_probempi.GLB_T/dfn8_avx_nonfused_probempi.LOC_T == 63) & (dfn8_avx_nonfused_probempi.GLB_X/dfn8_avx_nonfused_probempi.LOC_X == 2) & (dfn8_avx_nonfused_probempi.GLB_Y/dfn8_avx_nonfused_probempi.LOC_Y == 2)& (dfn8_avx_nonfused_probempi.GLB_Z/dfn8_avx_nonfused_probempi.LOC_Z == 2)]\n"
   ]
  },
  {
   "cell_type": "markdown",
   "id": "24943840",
   "metadata": {},
   "source": [
    "## 4) NonFused_AVX_NonProbempi"
   ]
  },
  {
   "cell_type": "markdown",
   "id": "8cae0a27",
   "metadata": {},
   "source": [
    "### Adding Columns"
   ]
  },
  {
   "cell_type": "code",
   "execution_count": null,
   "id": "1c8ddb74",
   "metadata": {},
   "outputs": [],
   "source": [
    "dfn8_avx_nonfused_nonprobempi[\"N_Nodes\"] = 8\n",
    "dfn8_avx_nonfused_nonprobempi['NPX'] = (dfn8_avx_nonfused_nonprobempi.GLB_X//dfn8_avx_nonfused_nonprobempi.LOC_X)\n",
    "dfn8_avx_nonfused_nonprobempi['NPY'] = (dfn8_avx_nonfused_nonprobempi.GLB_Y//dfn8_avx_nonfused_nonprobempi.LOC_Y)\n",
    "dfn8_avx_nonfused_nonprobempi['NPZ'] = (dfn8_avx_nonfused_nonprobempi.GLB_Z//dfn8_avx_nonfused_nonprobempi.LOC_Z)\n",
    "dfn8_avx_nonfused_nonprobempi['NPT'] = (dfn8_avx_nonfused_nonprobempi.GLB_T//dfn8_avx_nonfused_nonprobempi.LOC_T)\n",
    "dfn8_avx_nonfused_nonprobempi[\"Total_proc\"] = dfn8_avx_nonfused_nonprobempi[\"omp_thrd\"]* dfn8_avx_nonfused_nonprobempi.MPI_size\n",
    "# dfn8_avx_nonfused_nonprobempi.columns"
   ]
  },
  {
   "cell_type": "markdown",
   "id": "c871fc4b",
   "metadata": {},
   "source": [
    "### Data Summary"
   ]
  },
  {
   "cell_type": "code",
   "execution_count": null,
   "id": "d9df7bd5",
   "metadata": {},
   "outputs": [],
   "source": [
    "dfn8_avx_nonfused_nonprobempi_summary = dfn8_avx_nonfused_nonprobempi.groupby(['MPI_size','omp_thrd','NPT','NPX', 'NPY', 'NPZ',\"Total_proc\"]).size().reset_index(name = 'size')\n",
    "dfn8_avx_nonfused_nonprobempi_summary"
   ]
  },
  {
   "cell_type": "markdown",
   "id": "6c09bc63",
   "metadata": {},
   "source": [
    "### Cases Setup"
   ]
  },
  {
   "cell_type": "code",
   "execution_count": null,
   "id": "87ddb1f8",
   "metadata": {},
   "outputs": [],
   "source": [
    "dfn8AvxNonFusNonProb_64mpi_16omp = dfn8_avx_nonfused_nonprobempi[(dfn8_avx_nonfused_nonprobempi.omp_thrd == 16) & (dfn8_avx_nonfused_nonprobempi.GLB_T/dfn8_avx_nonfused_nonprobempi.LOC_T == 8) & (dfn8_avx_nonfused_nonprobempi.GLB_X/dfn8_avx_nonfused_nonprobempi.LOC_X == 2) & (dfn8_avx_nonfused_nonprobempi.GLB_Y/dfn8_avx_nonfused_nonprobempi.LOC_Y == 2)& (dfn8_avx_nonfused_nonprobempi.GLB_Z/dfn8_avx_nonfused_nonprobempi.LOC_Z == 2)]\n",
    "dfn8AvxNonFusNonProb_128mpi_8omp = dfn8_avx_nonfused_nonprobempi[(dfn8_avx_nonfused_nonprobempi.omp_thrd == 8) & (dfn8_avx_nonfused_nonprobempi.GLB_T/dfn8_avx_nonfused_nonprobempi.LOC_T == 16) & (dfn8_avx_nonfused_nonprobempi.GLB_X/dfn8_avx_nonfused_nonprobempi.LOC_X == 2) & (dfn8_avx_nonfused_nonprobempi.GLB_Y/dfn8_avx_nonfused_nonprobempi.LOC_Y == 2)& (dfn8_avx_nonfused_nonprobempi.GLB_Z/dfn8_avx_nonfused_nonprobempi.LOC_Z == 2)]\n",
    "dfn8AvxNonFusNonProb_256mpi_4omp = dfn8_avx_nonfused_nonprobempi[(dfn8_avx_nonfused_nonprobempi.omp_thrd == 4) & (dfn8_avx_nonfused_nonprobempi.GLB_T/dfn8_avx_nonfused_nonprobempi.LOC_T == 32) & (dfn8_avx_nonfused_nonprobempi.GLB_X/dfn8_avx_nonfused_nonprobempi.LOC_X == 2) & (dfn8_avx_nonfused_nonprobempi.GLB_Y/dfn8_avx_nonfused_nonprobempi.LOC_Y == 2)& (dfn8_avx_nonfused_nonprobempi.GLB_Z/dfn8_avx_nonfused_nonprobempi.LOC_Z == 2)]\n",
    "dfn8AvxNonFusNonProb_512mpi_2omp = dfn8_avx_nonfused_nonprobempi[(dfn8_avx_nonfused_nonprobempi.omp_thrd == 2) & (dfn8_avx_nonfused_nonprobempi.GLB_T/dfn8_avx_nonfused_nonprobempi.LOC_T == 64) & (dfn8_avx_nonfused_nonprobempi.GLB_X/dfn8_avx_nonfused_nonprobempi.LOC_X == 2) & (dfn8_avx_nonfused_nonprobempi.GLB_Y/dfn8_avx_nonfused_nonprobempi.LOC_Y == 2)& (dfn8_avx_nonfused_nonprobempi.GLB_Z/dfn8_avx_nonfused_nonprobempi.LOC_Z == 2)]\n",
    "dfn8AvxNonFusNonProb_1024mpi_1omp = dfn8_avx_nonfused_nonprobempi[(dfn8_avx_nonfused_nonprobempi.omp_thrd == 1) & (dfn8_avx_nonfused_nonprobempi.GLB_T/dfn8_avx_nonfused_nonprobempi.LOC_T == 128) & (dfn8_avx_nonfused_nonprobempi.GLB_X/dfn8_avx_nonfused_nonprobempi.LOC_X == 2) & (dfn8_avx_nonfused_nonprobempi.GLB_Y/dfn8_avx_nonfused_nonprobempi.LOC_Y == 2)& (dfn8_avx_nonfused_nonprobempi.GLB_Z/dfn8_avx_nonfused_nonprobempi.LOC_Z == 2)]\n",
    "dfn8AvxNonFusNonProb_168mpi_6omp = dfn8_avx_nonfused_nonprobempi[(dfn8_avx_nonfused_nonprobempi.omp_thrd == 6) & (dfn8_avx_nonfused_nonprobempi.GLB_T/dfn8_avx_nonfused_nonprobempi.LOC_T == 21) & (dfn8_avx_nonfused_nonprobempi.GLB_X/dfn8_avx_nonfused_nonprobempi.LOC_X == 2) & (dfn8_avx_nonfused_nonprobempi.GLB_Y/dfn8_avx_nonfused_nonprobempi.LOC_Y == 2)& (dfn8_avx_nonfused_nonprobempi.GLB_Z/dfn8_avx_nonfused_nonprobempi.LOC_Z == 2)]\n",
    "dfn8AvxNonFusNonProb_504mpi_2omp = dfn8_avx_nonfused_nonprobempi[(dfn8_avx_nonfused_nonprobempi.omp_thrd == 2) & (dfn8_avx_nonfused_nonprobempi.GLB_T/dfn8_avx_nonfused_nonprobempi.LOC_T == 63) & (dfn8_avx_nonfused_nonprobempi.GLB_X/dfn8_avx_nonfused_nonprobempi.LOC_X == 2) & (dfn8_avx_nonfused_nonprobempi.GLB_Y/dfn8_avx_nonfused_nonprobempi.LOC_Y == 2)& (dfn8_avx_nonfused_nonprobempi.GLB_Z/dfn8_avx_nonfused_nonprobempi.LOC_Z == 2)]\n"
   ]
  },
  {
   "cell_type": "markdown",
   "id": "b9cc17ba",
   "metadata": {},
   "source": [
    "## GFLOPS - NonFused-AVX: Probmpi vs Non-Probempi"
   ]
  },
  {
   "cell_type": "code",
   "execution_count": null,
   "id": "9ebb5e0a",
   "metadata": {},
   "outputs": [],
   "source": [
    "fig = go.Figure() \n",
    "\n",
    "# Case 1\n",
    "fig.add_trace(go.Scatter(x=(dfn8AvxNonFusProb_1024mpi_1omp.Dirc_Data_Mov*(dfn8AvxNonFusProb_1024mpi_1omp.MPI_size/8)), \n",
    "                         y=(dfn8AvxNonFusProb_1024mpi_1omp.GFLOPS*(dfn8AvxNonFusProb_1024mpi_1omp.MPI_size/8)), \n",
    "                         mode='lines+markers', \n",
    "                         name='AvxNonFusProb_1024mpi_1omp',\n",
    "                         line=dict(color='darkcyan',width=3),\n",
    "                         marker=dict(symbol='hexagon',size=9, line=dict(color='yellow',width=1))))\n",
    "\n",
    "fig.add_trace(go.Scatter(x=(dfn8AvxNonFusNonProb_1024mpi_1omp.Dirc_Data_Mov*(dfn8AvxNonFusNonProb_1024mpi_1omp.MPI_size/8)), \n",
    "                         y=(dfn8AvxNonFusNonProb_1024mpi_1omp.GFLOPS*(dfn8AvxNonFusNonProb_1024mpi_1omp.MPI_size/8)), \n",
    "                         mode='lines+markers', \n",
    "                         name='AvxNonFusNonProb_1024mpi_1omp',\n",
    "                         line=dict(color='magenta',width=3),\n",
    "                         marker=dict(symbol='hexagon',size=9, line=dict(color='yellow',width=1))))\n",
    "\n",
    "\n",
    "# Case 2\n",
    "fig.add_trace(go.Scatter(x=(dfn8AvxNonFusProb_512mpi_2omp.Dirc_Data_Mov*(dfn8AvxNonFusProb_512mpi_2omp.MPI_size/8)), \n",
    "                         y=(dfn8AvxNonFusProb_512mpi_2omp.GFLOPS*(dfn8AvxNonFusProb_512mpi_2omp.MPI_size/8)), \n",
    "                         mode='lines+markers', \n",
    "                         name='AvxNonFusProb_512mpi_2omp',\n",
    "                         line=dict(color='royalblue',width=3),\n",
    "                         marker=dict(symbol='diamond',size=5,line=dict(color='MediumPurple',width=2))))\n",
    "\n",
    "fig.add_trace(go.Scatter(x=(dfn8AvxNonFusNonProb_512mpi_2omp.Dirc_Data_Mov*(dfn8AvxNonFusNonProb_512mpi_2omp.MPI_size/8)), \n",
    "                         y=(dfn8AvxNonFusNonProb_512mpi_2omp.GFLOPS*(dfn8AvxNonFusNonProb_512mpi_2omp.MPI_size/8)), \n",
    "                         mode='lines+markers', \n",
    "                         name='AvxNonFusNonProb_512mpi_2omp',\n",
    "                         line=dict(color='sandybrown',width=3),\n",
    "                         marker=dict(symbol='diamond',size=5,line=dict(color='MediumPurple',width=2))))\n",
    "\n",
    "\n",
    "# Case 3\n",
    "fig.add_trace(go.Scatter(x=(dfn8AvxNonFusProb_256mpi_4omp.Dirc_Data_Mov*(dfn8AvxNonFusProb_256mpi_4omp.MPI_size/8)), \n",
    "                         y=(dfn8AvxNonFusProb_256mpi_4omp.GFLOPS*(dfn8AvxNonFusProb_256mpi_4omp.MPI_size/8)), \n",
    "                         mode='lines+markers', \n",
    "                         name='AvxNonFusProb_256mpi_4omp',\n",
    "                         line=dict(color='darkblue',width=3),\n",
    "                         marker=dict(symbol='circle',size=7, line=dict(color='tomato',width=2))))\n",
    "\n",
    "fig.add_trace(go.Scatter(x=(dfn8AvxNonFusNonProb_256mpi_4omp.Dirc_Data_Mov*(dfn8AvxNonFusNonProb_256mpi_4omp.MPI_size/8)), \n",
    "                         y=(dfn8AvxNonFusNonProb_256mpi_4omp.GFLOPS*(dfn8AvxNonFusNonProb_256mpi_4omp.MPI_size/8)), \n",
    "                         mode='lines+markers', \n",
    "                         name='AvxNonFusNonProb_256mpi_4omp',\n",
    "                         line=dict(color='cyan',width=3),\n",
    "                         marker=dict(symbol='circle',size=7,line=dict(color='Purple',width=2))))\n",
    "\n",
    "\n",
    "\n",
    "# Case 4\n",
    "fig.add_trace(go.Scatter(x=(dfn8AvxNonFusProb_128mpi_8omp.Dirc_Data_Mov*(dfn8AvxNonFusProb_128mpi_8omp.MPI_size/8)), \n",
    "                         y=(dfn8AvxNonFusProb_128mpi_8omp.GFLOPS*(dfn8AvxNonFusProb_128mpi_8omp.MPI_size/8)), \n",
    "                         mode='lines+markers', \n",
    "                         name='AvxNonFusProb_128mpi_8omp',\n",
    "                         line=dict(color='blue',width=3),\n",
    "                         marker=dict(symbol='star',size=7, line=dict(color='black',width=1))))\n",
    "\n",
    "fig.add_trace(go.Scatter(x=(dfn8AvxNonFusNonProb_128mpi_8omp.Dirc_Data_Mov*(dfn8AvxNonFusNonProb_128mpi_8omp.MPI_size/8)), \n",
    "                         y=(dfn8AvxNonFusNonProb_128mpi_8omp.GFLOPS*(dfn8AvxNonFusNonProb_128mpi_8omp.MPI_size/8)), \n",
    "                         mode='lines+markers', \n",
    "                         name='AvxNonFusNonProb_128mpi_8omp',\n",
    "                         line=dict(color='red',width=3),\n",
    "                         marker=dict(symbol='star',size=7, line=dict(color='black',width=1))))\n",
    "\n",
    "\n",
    "# Case 5\n",
    "fig.add_trace(go.Scatter(x=(dfn8AvxNonFusProb_64mpi_16omp.Dirc_Data_Mov*(dfn8AvxNonFusProb_64mpi_16omp.MPI_size/8)), \n",
    "                         y=(dfn8AvxNonFusProb_64mpi_16omp.GFLOPS*(dfn8AvxNonFusProb_64mpi_16omp.MPI_size/8)), \n",
    "                         mode='lines+markers', \n",
    "                         name='AvxNonFusProb_64mpi_16omp',\n",
    "                         line=dict(color='chartreuse',width=3),\n",
    "                         marker=dict(symbol='square-dot',size=6, line=dict(color='mediumvioletred',width=1))))\n",
    "\n",
    "fig.add_trace(go.Scatter(x=(dfn8AvxNonFusNonProb_64mpi_16omp.Dirc_Data_Mov*(dfn8AvxNonFusNonProb_64mpi_16omp.MPI_size/8)), \n",
    "                         y=(dfn8AvxNonFusNonProb_64mpi_16omp.GFLOPS*(dfn8AvxNonFusNonProb_64mpi_16omp.MPI_size/8)), \n",
    "                         mode='lines+markers', \n",
    "                         name='AvxNonFusNonProb_64mpi_16omp',\n",
    "                         line=dict(color='black',width=3),\n",
    "                         marker=dict(symbol='square-dot',size=6, line=dict(color='mediumvioletred',width=1))))\n",
    "\n",
    "\n",
    "# Case 6\n",
    "fig.add_trace(go.Scatter(x=(dfn8AvxNonFusProb_168mpi_6omp.Dirc_Data_Mov*(dfn8AvxNonFusProb_168mpi_6omp.MPI_size/8)), \n",
    "                         y=(dfn8AvxNonFusProb_168mpi_6omp.GFLOPS*(dfn8AvxNonFusProb_168mpi_6omp.MPI_size/8)), \n",
    "                         mode='lines+markers', \n",
    "                         name='AvxNonFusProb_168mpi_6omp',\n",
    "                         line=dict(color='gold',width=3),\n",
    "                         marker=dict(symbol='triangle-up',size=6, line=dict(color='black',width=1))))\n",
    "\n",
    "fig.add_trace(go.Scatter(x=(dfn8AvxNonFusNonProb_168mpi_6omp.Dirc_Data_Mov*(dfn8AvxNonFusNonProb_168mpi_6omp.MPI_size/8)), \n",
    "                         y=(dfn8AvxNonFusNonProb_168mpi_6omp.GFLOPS*(dfn8AvxNonFusNonProb_168mpi_6omp.MPI_size/8)), \n",
    "                         mode='lines+markers', \n",
    "                         name='AvxNonFusNonProb_168mpi_6omp',\n",
    "                         line=dict(color='dimgray',width=3),\n",
    "                         marker=dict(symbol='triangle-up',size=6, line=dict(color='black',width=1))))\n",
    "\n",
    "\n",
    "\n",
    "# Case 7\n",
    "fig.add_trace(go.Scatter(x=(dfn8AvxNonFusProb_504mpi_2omp.Dirc_Data_Mov*(dfn8AvxNonFusProb_504mpi_2omp.MPI_size/8)), \n",
    "                         y=(dfn8AvxNonFusProb_504mpi_2omp.GFLOPS*(dfn8AvxNonFusProb_504mpi_2omp.MPI_size/8)), \n",
    "                         mode='lines+markers', \n",
    "                         name='AvxNonFusProb_504mpi_2omp',\n",
    "                         line=dict(color='olive',width=3),\n",
    "                         marker=dict(symbol='circle',size=6, line=dict(color='olive',width=2))))\n",
    "\n",
    "fig.add_trace(go.Scatter(x=(dfn8AvxNonFusNonProb_504mpi_2omp.Dirc_Data_Mov*(dfn8AvxNonFusNonProb_504mpi_2omp.MPI_size/8)), \n",
    "                         y=(dfn8AvxNonFusNonProb_504mpi_2omp.GFLOPS*(dfn8AvxNonFusNonProb_504mpi_2omp.MPI_size/8)), \n",
    "                         mode='lines+markers', \n",
    "                         name='AvxNonFusNonProb_504mpi_2omp',\n",
    "                         line=dict(color='Brown',width=3),\n",
    "                         marker=dict(symbol='circle',size=6, line=dict(color='darkred',width=2))))\n",
    "\n",
    "\n",
    "\n",
    "\n",
    "# Adding a vertical line\n",
    "fig.add_vline(x=512e6, line_width=3, line_dash=\"dash\", line_color=\"green\")\n",
    "# fig.add_hline(y=1024, line_width=3, line_dash=\"dash\", line_color=\"red\")\n",
    "\n",
    "# Add annotation\n",
    "fig.add_annotation(\n",
    "    x='512e6'\n",
    "    , y=130\n",
    "    , text=f'LLC Size Per Node'\n",
    "    , yanchor='bottom'\n",
    "    , showarrow=False\n",
    "    , arrowhead=1\n",
    "    , arrowsize=1\n",
    "    , arrowwidth=2\n",
    "    , arrowcolor=\"#636363\"\n",
    "    , ax=-20\n",
    "    , ay=-30\n",
    "    , font=dict(size=12, color=\"purple\", family=\"Sans Serif\")\n",
    "    , align=\"left\"\n",
    "    ,)\n",
    "\n",
    "fig.update_layout(title='\"NonFused-AVX (8-Nodes): probempi vs nonprobempi\" GFlops Measurement',\n",
    "                  xaxis_title='Dirc_Data_Mov', yaxis_title='GFLOPs/Node', \n",
    "                  xaxis=dict(ticks=\"outside\"),  \n",
    "                  yaxis=dict(ticks=\"outside\"))"
   ]
  },
  {
   "cell_type": "code",
   "execution_count": null,
   "id": "e1e3b73a",
   "metadata": {},
   "outputs": [],
   "source": []
  },
  {
   "cell_type": "code",
   "execution_count": null,
   "id": "bc2ef8ce",
   "metadata": {},
   "outputs": [],
   "source": [
    "##5) Newgeo_AVX_Probempi"
   ]
  },
  {
   "cell_type": "code",
   "execution_count": null,
   "id": "b93f3b27",
   "metadata": {},
   "outputs": [],
   "source": [
    "### Adding Columns"
   ]
  },
  {
   "cell_type": "code",
   "execution_count": null,
   "id": "6afdd327",
   "metadata": {},
   "outputs": [],
   "source": []
  },
  {
   "cell_type": "code",
   "execution_count": null,
   "id": "7c7721a6",
   "metadata": {},
   "outputs": [],
   "source": [
    "### Data Summary"
   ]
  },
  {
   "cell_type": "code",
   "execution_count": null,
   "id": "d71ff2b8",
   "metadata": {},
   "outputs": [],
   "source": []
  },
  {
   "cell_type": "code",
   "execution_count": null,
   "id": "3c475ebd",
   "metadata": {},
   "outputs": [],
   "source": [
    "### Cases Setup"
   ]
  },
  {
   "cell_type": "code",
   "execution_count": null,
   "id": "588524ba",
   "metadata": {},
   "outputs": [],
   "source": []
  },
  {
   "cell_type": "code",
   "execution_count": null,
   "id": "fb60eb5a",
   "metadata": {},
   "outputs": [],
   "source": [
    "## 6) Newgeo_AVX_NonProbempi"
   ]
  },
  {
   "cell_type": "code",
   "execution_count": null,
   "id": "143c75cf",
   "metadata": {},
   "outputs": [],
   "source": [
    "### Adding Columns"
   ]
  },
  {
   "cell_type": "code",
   "execution_count": null,
   "id": "f1d54996",
   "metadata": {},
   "outputs": [],
   "source": []
  },
  {
   "cell_type": "code",
   "execution_count": null,
   "id": "cdde08fc",
   "metadata": {},
   "outputs": [],
   "source": [
    "### Data Summary"
   ]
  },
  {
   "cell_type": "code",
   "execution_count": null,
   "id": "df5efabe",
   "metadata": {},
   "outputs": [],
   "source": []
  },
  {
   "cell_type": "code",
   "execution_count": null,
   "id": "257a664f",
   "metadata": {},
   "outputs": [],
   "source": [
    "### Cases Setup"
   ]
  },
  {
   "cell_type": "code",
   "execution_count": null,
   "id": "5692f0ea",
   "metadata": {},
   "outputs": [],
   "source": []
  },
  {
   "cell_type": "code",
   "execution_count": null,
   "id": "545a529e",
   "metadata": {},
   "outputs": [],
   "source": []
  },
  {
   "cell_type": "code",
   "execution_count": null,
   "id": "40e1d0fb",
   "metadata": {},
   "outputs": [],
   "source": [
    "## GFLOPS - Newgeo-AVX: Probmpi vs Non-Probempi"
   ]
  },
  {
   "cell_type": "code",
   "execution_count": null,
   "id": "adba4da9",
   "metadata": {},
   "outputs": [],
   "source": []
  },
  {
   "cell_type": "code",
   "execution_count": null,
   "id": "78601481",
   "metadata": {},
   "outputs": [],
   "source": []
  },
  {
   "cell_type": "code",
   "execution_count": null,
   "id": "29dc545e",
   "metadata": {},
   "outputs": [],
   "source": [
    "# HIPPO VECT CASES"
   ]
  },
  {
   "cell_type": "code",
   "execution_count": null,
   "id": "43023c0e",
   "metadata": {},
   "outputs": [],
   "source": [
    "## 1) Fused_VECT_Probmpi"
   ]
  },
  {
   "cell_type": "code",
   "execution_count": null,
   "id": "1ea231c8",
   "metadata": {},
   "outputs": [],
   "source": [
    "### Adding Columns"
   ]
  },
  {
   "cell_type": "code",
   "execution_count": null,
   "id": "35a1ffdb",
   "metadata": {},
   "outputs": [],
   "source": []
  },
  {
   "cell_type": "code",
   "execution_count": null,
   "id": "1b457fd4",
   "metadata": {},
   "outputs": [],
   "source": [
    "### Data Summary"
   ]
  },
  {
   "cell_type": "code",
   "execution_count": null,
   "id": "ca3d2b92",
   "metadata": {},
   "outputs": [],
   "source": []
  },
  {
   "cell_type": "code",
   "execution_count": null,
   "id": "7fcf3520",
   "metadata": {},
   "outputs": [],
   "source": [
    "### Cases Setup"
   ]
  },
  {
   "cell_type": "code",
   "execution_count": null,
   "id": "54b3fb4e",
   "metadata": {},
   "outputs": [],
   "source": []
  },
  {
   "cell_type": "code",
   "execution_count": null,
   "id": "b9dd25e5",
   "metadata": {},
   "outputs": [],
   "source": [
    "## 2) Fused_VECT_NonProbmpi"
   ]
  },
  {
   "cell_type": "code",
   "execution_count": null,
   "id": "44b4122c",
   "metadata": {},
   "outputs": [],
   "source": [
    "### Adding Columns"
   ]
  },
  {
   "cell_type": "code",
   "execution_count": null,
   "id": "dfaa4a6b",
   "metadata": {},
   "outputs": [],
   "source": []
  },
  {
   "cell_type": "code",
   "execution_count": null,
   "id": "3abaf8ac",
   "metadata": {},
   "outputs": [],
   "source": [
    "### Data Summary"
   ]
  },
  {
   "cell_type": "code",
   "execution_count": null,
   "id": "53a71642",
   "metadata": {},
   "outputs": [],
   "source": []
  },
  {
   "cell_type": "code",
   "execution_count": null,
   "id": "2639c3f6",
   "metadata": {},
   "outputs": [],
   "source": [
    "### Cases Setup"
   ]
  },
  {
   "cell_type": "code",
   "execution_count": null,
   "id": "0c6a5dbb",
   "metadata": {},
   "outputs": [],
   "source": []
  },
  {
   "cell_type": "code",
   "execution_count": null,
   "id": "d50a3168",
   "metadata": {},
   "outputs": [],
   "source": [
    "## GFLOPS - Fused VECT: probempi vs nonprobempi"
   ]
  },
  {
   "cell_type": "code",
   "execution_count": null,
   "id": "7b588f9e",
   "metadata": {},
   "outputs": [],
   "source": []
  },
  {
   "cell_type": "code",
   "execution_count": null,
   "id": "312f1d39",
   "metadata": {},
   "outputs": [],
   "source": [
    "## 3) NonFused_VECT_Probmpi"
   ]
  },
  {
   "cell_type": "code",
   "execution_count": null,
   "id": "ad0fc1c3",
   "metadata": {},
   "outputs": [],
   "source": [
    "### Adding Columns"
   ]
  },
  {
   "cell_type": "code",
   "execution_count": null,
   "id": "5c9d143a",
   "metadata": {},
   "outputs": [],
   "source": []
  },
  {
   "cell_type": "code",
   "execution_count": null,
   "id": "63c8e8dc",
   "metadata": {},
   "outputs": [],
   "source": [
    "### Data Summary"
   ]
  },
  {
   "cell_type": "code",
   "execution_count": null,
   "id": "d11424b4",
   "metadata": {},
   "outputs": [],
   "source": []
  },
  {
   "cell_type": "code",
   "execution_count": null,
   "id": "6c75e16d",
   "metadata": {},
   "outputs": [],
   "source": [
    "### Cases Setup"
   ]
  },
  {
   "cell_type": "code",
   "execution_count": null,
   "id": "912bde0a",
   "metadata": {},
   "outputs": [],
   "source": []
  },
  {
   "cell_type": "code",
   "execution_count": null,
   "id": "a338ed47",
   "metadata": {},
   "outputs": [],
   "source": [
    "## 4) NonFused_VECT_NonProbmpi"
   ]
  },
  {
   "cell_type": "code",
   "execution_count": null,
   "id": "b250acd2",
   "metadata": {},
   "outputs": [],
   "source": [
    "### Adding Columns"
   ]
  },
  {
   "cell_type": "code",
   "execution_count": null,
   "id": "32f530c1",
   "metadata": {},
   "outputs": [],
   "source": []
  },
  {
   "cell_type": "code",
   "execution_count": null,
   "id": "b358cbda",
   "metadata": {},
   "outputs": [],
   "source": [
    "### Data Summary"
   ]
  },
  {
   "cell_type": "code",
   "execution_count": null,
   "id": "3e584dd4",
   "metadata": {},
   "outputs": [],
   "source": []
  },
  {
   "cell_type": "code",
   "execution_count": null,
   "id": "84658b70",
   "metadata": {},
   "outputs": [],
   "source": [
    "### Cases Setup"
   ]
  },
  {
   "cell_type": "code",
   "execution_count": null,
   "id": "e40b309b",
   "metadata": {},
   "outputs": [],
   "source": []
  },
  {
   "cell_type": "code",
   "execution_count": null,
   "id": "c9d09bda",
   "metadata": {},
   "outputs": [],
   "source": [
    "## GFLOPS - NonFused-VECT: Probempi vs NonProbempi"
   ]
  },
  {
   "cell_type": "code",
   "execution_count": null,
   "id": "64eac4ba",
   "metadata": {},
   "outputs": [],
   "source": []
  },
  {
   "cell_type": "code",
   "execution_count": null,
   "id": "82d160bd",
   "metadata": {},
   "outputs": [],
   "source": [
    "## 5) Newgeo_VECT_Probmpi"
   ]
  },
  {
   "cell_type": "code",
   "execution_count": null,
   "id": "4480f807",
   "metadata": {},
   "outputs": [],
   "source": [
    "### Adding Columns"
   ]
  },
  {
   "cell_type": "code",
   "execution_count": null,
   "id": "c48b72af",
   "metadata": {},
   "outputs": [],
   "source": []
  },
  {
   "cell_type": "code",
   "execution_count": null,
   "id": "2f49e304",
   "metadata": {},
   "outputs": [],
   "source": [
    "### Data Summary"
   ]
  },
  {
   "cell_type": "code",
   "execution_count": null,
   "id": "27124231",
   "metadata": {},
   "outputs": [],
   "source": []
  },
  {
   "cell_type": "code",
   "execution_count": null,
   "id": "87f8ac71",
   "metadata": {},
   "outputs": [],
   "source": [
    "### Cases Setup"
   ]
  },
  {
   "cell_type": "code",
   "execution_count": null,
   "id": "55931cdd",
   "metadata": {},
   "outputs": [],
   "source": []
  },
  {
   "cell_type": "code",
   "execution_count": null,
   "id": "3481eadb",
   "metadata": {},
   "outputs": [],
   "source": [
    "## 6) Newgeo_VECT_NonProbmpi"
   ]
  },
  {
   "cell_type": "code",
   "execution_count": null,
   "id": "a64699a0",
   "metadata": {},
   "outputs": [],
   "source": [
    "### Adding Columns"
   ]
  },
  {
   "cell_type": "code",
   "execution_count": null,
   "id": "1817e996",
   "metadata": {},
   "outputs": [],
   "source": []
  },
  {
   "cell_type": "code",
   "execution_count": null,
   "id": "e333c6b1",
   "metadata": {},
   "outputs": [],
   "source": [
    "### Data Summary"
   ]
  },
  {
   "cell_type": "code",
   "execution_count": null,
   "id": "e04c6242",
   "metadata": {},
   "outputs": [],
   "source": []
  },
  {
   "cell_type": "code",
   "execution_count": null,
   "id": "de4c5423",
   "metadata": {},
   "outputs": [],
   "source": [
    "### Cases Setup"
   ]
  },
  {
   "cell_type": "code",
   "execution_count": null,
   "id": "d68bc42b",
   "metadata": {},
   "outputs": [],
   "source": []
  },
  {
   "cell_type": "code",
   "execution_count": null,
   "id": "1e816ab0",
   "metadata": {},
   "outputs": [],
   "source": [
    "## GFLOPS - Newgeo VECT: Probempi vs NonProbempi"
   ]
  },
  {
   "cell_type": "code",
   "execution_count": null,
   "id": "ae345562",
   "metadata": {},
   "outputs": [],
   "source": []
  },
  {
   "cell_type": "code",
   "execution_count": null,
   "id": "83de951a",
   "metadata": {},
   "outputs": [],
   "source": []
  },
  {
   "cell_type": "code",
   "execution_count": null,
   "id": "b4f23b90",
   "metadata": {},
   "outputs": [],
   "source": []
  },
  {
   "cell_type": "code",
   "execution_count": null,
   "id": "7be3a718",
   "metadata": {},
   "outputs": [],
   "source": []
  },
  {
   "cell_type": "code",
   "execution_count": null,
   "id": "a9bd397a",
   "metadata": {},
   "outputs": [],
   "source": []
  },
  {
   "cell_type": "code",
   "execution_count": null,
   "id": "37582403",
   "metadata": {},
   "outputs": [],
   "source": []
  }
 ],
 "metadata": {
  "kernelspec": {
   "display_name": "Python 3 (ipykernel)",
   "language": "python",
   "name": "python3"
  },
  "language_info": {
   "codemirror_mode": {
    "name": "ipython",
    "version": 3
   },
   "file_extension": ".py",
   "mimetype": "text/x-python",
   "name": "python",
   "nbconvert_exporter": "python",
   "pygments_lexer": "ipython3",
   "version": "3.9.13"
  }
 },
 "nbformat": 4,
 "nbformat_minor": 5
}
