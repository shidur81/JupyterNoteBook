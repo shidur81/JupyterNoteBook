{
 "cells": [
  {
   "cell_type": "code",
   "execution_count": 1,
   "id": "4543e0e7",
   "metadata": {},
   "outputs": [
    {
     "data": {
      "text/html": [
       "        <script type=\"text/javascript\">\n",
       "        window.PlotlyConfig = {MathJaxConfig: 'local'};\n",
       "        if (window.MathJax && window.MathJax.Hub && window.MathJax.Hub.Config) {window.MathJax.Hub.Config({SVG: {font: \"STIX-Web\"}});}\n",
       "        if (typeof require !== 'undefined') {\n",
       "        require.undef(\"plotly\");\n",
       "        requirejs.config({\n",
       "            paths: {\n",
       "                'plotly': ['https://cdn.plot.ly/plotly-2.12.1.min']\n",
       "            }\n",
       "        });\n",
       "        require(['plotly'], function(Plotly) {\n",
       "            window._Plotly = Plotly;\n",
       "        });\n",
       "        }\n",
       "        </script>\n",
       "        "
      ]
     },
     "metadata": {},
     "output_type": "display_data"
    },
    {
     "data": {
      "text/html": [
       "        <script type=\"text/javascript\">\n",
       "        window.PlotlyConfig = {MathJaxConfig: 'local'};\n",
       "        if (window.MathJax && window.MathJax.Hub && window.MathJax.Hub.Config) {window.MathJax.Hub.Config({SVG: {font: \"STIX-Web\"}});}\n",
       "        if (typeof require !== 'undefined') {\n",
       "        require.undef(\"plotly\");\n",
       "        requirejs.config({\n",
       "            paths: {\n",
       "                'plotly': ['https://cdn.plot.ly/plotly-2.12.1.min']\n",
       "            }\n",
       "        });\n",
       "        require(['plotly'], function(Plotly) {\n",
       "            window._Plotly = Plotly;\n",
       "        });\n",
       "        }\n",
       "        </script>\n",
       "        "
      ]
     },
     "metadata": {},
     "output_type": "display_data"
    }
   ],
   "source": [
    "import pandas as pd\n",
    "import numpy as np\n",
    "import chart_studio.plotly as py\n",
    "import cufflinks as cf\n",
    "import seaborn as sns\n",
    "import plotly.express as px\n",
    "import plotly.graph_objects as go\n",
    "import collections\n",
    "from collections import OrderedDict\n",
    "%matplotlib inline\n",
    "from plotly.offline import download_plotlyjs, init_notebook_mode, plot, iplot\n",
    "init_notebook_mode(connected=True)\n",
    "cf.go_offline()"
   ]
  },
  {
   "cell_type": "code",
   "execution_count": 1,
   "id": "f45bab7b",
   "metadata": {},
   "outputs": [
    {
     "ename": "NameError",
     "evalue": "name 'pd' is not defined",
     "output_type": "error",
     "traceback": [
      "\u001b[0;31m---------------------------------------------------------------------------\u001b[0m",
      "\u001b[0;31mNameError\u001b[0m                                 Traceback (most recent call last)",
      "\u001b[0;32m/var/folders/kg/q0rj883x197bn5j3gs7wys240000gn/T/ipykernel_1167/2512981763.py\u001b[0m in \u001b[0;36m<module>\u001b[0;34m\u001b[0m\n\u001b[0;32m----> 1\u001b[0;31m \u001b[0mpd\u001b[0m\u001b[0;34m.\u001b[0m\u001b[0mset_option\u001b[0m\u001b[0;34m(\u001b[0m\u001b[0;34m'display.max_columns'\u001b[0m\u001b[0;34m,\u001b[0m \u001b[0;32mNone\u001b[0m\u001b[0;34m)\u001b[0m\u001b[0;34m\u001b[0m\u001b[0;34m\u001b[0m\u001b[0m\n\u001b[0m\u001b[1;32m      2\u001b[0m \u001b[0mpd\u001b[0m\u001b[0;34m.\u001b[0m\u001b[0mset_option\u001b[0m\u001b[0;34m(\u001b[0m\u001b[0;34m'display.max_rows'\u001b[0m\u001b[0;34m,\u001b[0m \u001b[0;32mNone\u001b[0m\u001b[0;34m)\u001b[0m\u001b[0;34m\u001b[0m\u001b[0;34m\u001b[0m\u001b[0m\n\u001b[1;32m      3\u001b[0m \u001b[0;31m####### Macro Cases ######\u001b[0m\u001b[0;34m\u001b[0m\u001b[0;34m\u001b[0m\u001b[0m\n\u001b[1;32m      4\u001b[0m \u001b[0mdfn8_macro_fused_probempi\u001b[0m \u001b[0;34m=\u001b[0m \u001b[0mpd\u001b[0m\u001b[0;34m.\u001b[0m\u001b[0mread_csv\u001b[0m\u001b[0;34m(\u001b[0m\u001b[0;34m\"n8_fused_macro_probmpi.csv\"\u001b[0m\u001b[0;34m)\u001b[0m\u001b[0;34m\u001b[0m\u001b[0;34m\u001b[0m\u001b[0m\n\u001b[1;32m      5\u001b[0m \u001b[0mdfn8_macro_fused_nonprobempi\u001b[0m \u001b[0;34m=\u001b[0m \u001b[0mpd\u001b[0m\u001b[0;34m.\u001b[0m\u001b[0mread_csv\u001b[0m\u001b[0;34m(\u001b[0m\u001b[0;34m\"n8_fused_macro_nonprobmpi.csv\"\u001b[0m\u001b[0;34m)\u001b[0m\u001b[0;34m\u001b[0m\u001b[0;34m\u001b[0m\u001b[0m\n",
      "\u001b[0;31mNameError\u001b[0m: name 'pd' is not defined"
     ]
    }
   ],
   "source": [
    "pd.set_option('display.max_columns', None)\n",
    "pd.set_option('display.max_rows', None)\n",
    "####### Macro Cases ######\n",
    "dfn8_macro_fused_probempi = pd.read_csv(\"n8_fused_macro_probmpi.csv\")\n",
    "dfn8_macro_fused_nonprobempi = pd.read_csv(\"n8_fused_macro_nonprobmpi.csv\")\n",
    "dfn8_macro_newgeo_probempi = pd.read_csv(\"n8_newgeo_macro_probmpi.csv\")\n",
    "# dfn8_macro_newgeo_nonprobempi = pd.read_csv(\"n4_newgeo_macro_nonprobmpi.csv\")\n",
    "dfn8_macro_nonfused_probempi = pd.read_csv(\"n8_nonfused_macro_probmpi.csv\")\n",
    "# dfn8_macro_nonfused_nonprobempi = pd.read_csv(\"n4_nonfused_macro_nonprobmpi.csv\")\n",
    "\n",
    "####### AVX Cases ######\n",
    "# dfn4_avx_fused_probmpi = pd.read_csv(\"n4_fused_avx_probmpi.csv\")\n",
    "# dfn4_avx_fused_nonprobmpi = pd.read_csv(\"n4_fused_avx_nonprobmpi.csv\")\n",
    "# dfn4_avx_newgeo_probempi = pd.read_csv(\"n4_newgeo_avx_probmpi.csv\")\n",
    "# dfn4_avx_newgeo_nonprobempi = pd.read_csv(\"n4_newgeo_avx_nonprobmpi.csv\")\n",
    "# dfn4_avx_nonfused_probempi = pd.read_csv(\"n4_nonfused_avx_probmpi.csv\")\n",
    "# dfn4_avx_nonfused_nonprobempi = pd.read_csv(\"n4_nonfused_avx_nonprobmpi.csv\")\n",
    "\n",
    "####### VECT Cases ######\n",
    "\n",
    "\n"
   ]
  },
  {
   "cell_type": "markdown",
   "id": "d1749c87",
   "metadata": {},
   "source": [
    "# MACRO CASES"
   ]
  },
  {
   "cell_type": "code",
   "execution_count": null,
   "id": "a843de4e",
   "metadata": {},
   "outputs": [],
   "source": [
    "## 1) Fused_Macro_Probempi"
   ]
  },
  {
   "cell_type": "code",
   "execution_count": null,
   "id": "ed315770",
   "metadata": {},
   "outputs": [],
   "source": [
    "### Adding Columns"
   ]
  },
  {
   "cell_type": "code",
   "execution_count": null,
   "id": "2dda333d",
   "metadata": {},
   "outputs": [],
   "source": []
  },
  {
   "cell_type": "code",
   "execution_count": null,
   "id": "cd753406",
   "metadata": {},
   "outputs": [],
   "source": [
    "### Data Summary"
   ]
  },
  {
   "cell_type": "code",
   "execution_count": null,
   "id": "d6b488b6",
   "metadata": {},
   "outputs": [],
   "source": []
  },
  {
   "cell_type": "code",
   "execution_count": null,
   "id": "890c0496",
   "metadata": {},
   "outputs": [],
   "source": [
    "### Cases Setup"
   ]
  },
  {
   "cell_type": "code",
   "execution_count": null,
   "id": "e94fefb0",
   "metadata": {},
   "outputs": [],
   "source": []
  },
  {
   "cell_type": "code",
   "execution_count": null,
   "id": "350c7bf1",
   "metadata": {},
   "outputs": [],
   "source": [
    "## 2) Fused_Macro_nonprobempi"
   ]
  },
  {
   "cell_type": "code",
   "execution_count": null,
   "id": "1e32bd4a",
   "metadata": {},
   "outputs": [],
   "source": [
    "### Adding Columns"
   ]
  },
  {
   "cell_type": "code",
   "execution_count": null,
   "id": "e7bea25b",
   "metadata": {},
   "outputs": [],
   "source": []
  },
  {
   "cell_type": "code",
   "execution_count": null,
   "id": "9205a5d5",
   "metadata": {},
   "outputs": [],
   "source": [
    "### Data Summary"
   ]
  },
  {
   "cell_type": "code",
   "execution_count": null,
   "id": "25274c31",
   "metadata": {},
   "outputs": [],
   "source": []
  },
  {
   "cell_type": "code",
   "execution_count": null,
   "id": "1c56f4cb",
   "metadata": {},
   "outputs": [],
   "source": [
    "### Cases Setup"
   ]
  },
  {
   "cell_type": "code",
   "execution_count": null,
   "id": "f3b1aaa4",
   "metadata": {},
   "outputs": [],
   "source": []
  },
  {
   "cell_type": "code",
   "execution_count": null,
   "id": "55353532",
   "metadata": {},
   "outputs": [],
   "source": [
    "## GFLOPS - Fused Macro: Probempi vs NonProbempi"
   ]
  },
  {
   "cell_type": "code",
   "execution_count": null,
   "id": "243f1314",
   "metadata": {},
   "outputs": [],
   "source": []
  },
  {
   "cell_type": "code",
   "execution_count": null,
   "id": "73dd0d25",
   "metadata": {},
   "outputs": [],
   "source": [
    "## 3) Nonfused_Macro_Probempi"
   ]
  },
  {
   "cell_type": "code",
   "execution_count": null,
   "id": "9dccd457",
   "metadata": {},
   "outputs": [],
   "source": [
    "### Adding Columns"
   ]
  },
  {
   "cell_type": "code",
   "execution_count": null,
   "id": "87885fd4",
   "metadata": {},
   "outputs": [],
   "source": []
  },
  {
   "cell_type": "code",
   "execution_count": null,
   "id": "f985adcb",
   "metadata": {},
   "outputs": [],
   "source": [
    "### Data Summary"
   ]
  },
  {
   "cell_type": "code",
   "execution_count": null,
   "id": "eb1f11c8",
   "metadata": {},
   "outputs": [],
   "source": []
  },
  {
   "cell_type": "code",
   "execution_count": null,
   "id": "ef1c83b5",
   "metadata": {},
   "outputs": [],
   "source": [
    "### Cases Setup"
   ]
  },
  {
   "cell_type": "code",
   "execution_count": null,
   "id": "7feb2877",
   "metadata": {},
   "outputs": [],
   "source": []
  },
  {
   "cell_type": "code",
   "execution_count": null,
   "id": "b8fa7b8c",
   "metadata": {},
   "outputs": [],
   "source": []
  },
  {
   "cell_type": "code",
   "execution_count": null,
   "id": "44f0f4ce",
   "metadata": {},
   "outputs": [],
   "source": [
    "## 4) Nonfused_Macro_NonProbempi"
   ]
  },
  {
   "cell_type": "code",
   "execution_count": null,
   "id": "5cf16bbe",
   "metadata": {},
   "outputs": [],
   "source": [
    "### Adding Columns"
   ]
  },
  {
   "cell_type": "code",
   "execution_count": null,
   "id": "c9c44097",
   "metadata": {},
   "outputs": [],
   "source": []
  },
  {
   "cell_type": "code",
   "execution_count": null,
   "id": "03a5f8db",
   "metadata": {},
   "outputs": [],
   "source": [
    "### Data Summary"
   ]
  },
  {
   "cell_type": "code",
   "execution_count": null,
   "id": "2937e8c1",
   "metadata": {},
   "outputs": [],
   "source": []
  },
  {
   "cell_type": "code",
   "execution_count": null,
   "id": "15b62645",
   "metadata": {},
   "outputs": [],
   "source": [
    "### Cases Setup"
   ]
  },
  {
   "cell_type": "code",
   "execution_count": null,
   "id": "a9f05609",
   "metadata": {},
   "outputs": [],
   "source": []
  },
  {
   "cell_type": "code",
   "execution_count": null,
   "id": "011523bd",
   "metadata": {},
   "outputs": [],
   "source": [
    "## GFLOPS - Nonfused Macro: Probempi vs Nonprobempi"
   ]
  },
  {
   "cell_type": "code",
   "execution_count": null,
   "id": "5c92fc8a",
   "metadata": {},
   "outputs": [],
   "source": []
  },
  {
   "cell_type": "code",
   "execution_count": null,
   "id": "3671d1f1",
   "metadata": {},
   "outputs": [],
   "source": [
    "## 5) Newgeo_Macro_Probempi"
   ]
  },
  {
   "cell_type": "code",
   "execution_count": null,
   "id": "d228497f",
   "metadata": {},
   "outputs": [],
   "source": [
    "### Adding Columns"
   ]
  },
  {
   "cell_type": "code",
   "execution_count": null,
   "id": "8b339d9e",
   "metadata": {},
   "outputs": [],
   "source": []
  },
  {
   "cell_type": "code",
   "execution_count": null,
   "id": "ba0c9460",
   "metadata": {},
   "outputs": [],
   "source": [
    "### Data Summary"
   ]
  },
  {
   "cell_type": "code",
   "execution_count": null,
   "id": "eb1d18f5",
   "metadata": {},
   "outputs": [],
   "source": []
  },
  {
   "cell_type": "code",
   "execution_count": null,
   "id": "72a01896",
   "metadata": {},
   "outputs": [],
   "source": [
    "### Cases Setup"
   ]
  },
  {
   "cell_type": "code",
   "execution_count": null,
   "id": "a6e5e886",
   "metadata": {},
   "outputs": [],
   "source": []
  },
  {
   "cell_type": "code",
   "execution_count": null,
   "id": "0d1b7c9c",
   "metadata": {},
   "outputs": [],
   "source": []
  },
  {
   "cell_type": "code",
   "execution_count": null,
   "id": "dbd7d45b",
   "metadata": {},
   "outputs": [],
   "source": [
    "## 6) Newgeo_Macro_NonProbempi"
   ]
  },
  {
   "cell_type": "code",
   "execution_count": null,
   "id": "17f4d93c",
   "metadata": {},
   "outputs": [],
   "source": [
    "### Adding Columns"
   ]
  },
  {
   "cell_type": "code",
   "execution_count": null,
   "id": "ea410da7",
   "metadata": {},
   "outputs": [],
   "source": []
  },
  {
   "cell_type": "code",
   "execution_count": null,
   "id": "296174f9",
   "metadata": {},
   "outputs": [],
   "source": [
    "### Data Summary"
   ]
  },
  {
   "cell_type": "code",
   "execution_count": null,
   "id": "2e728564",
   "metadata": {},
   "outputs": [],
   "source": []
  },
  {
   "cell_type": "code",
   "execution_count": null,
   "id": "6fd6c6c0",
   "metadata": {},
   "outputs": [],
   "source": [
    "### Cases Setup"
   ]
  },
  {
   "cell_type": "code",
   "execution_count": null,
   "id": "ee80ffc9",
   "metadata": {},
   "outputs": [],
   "source": []
  },
  {
   "cell_type": "code",
   "execution_count": null,
   "id": "b6b9a8f7",
   "metadata": {},
   "outputs": [],
   "source": []
  },
  {
   "cell_type": "code",
   "execution_count": null,
   "id": "3fff24e6",
   "metadata": {},
   "outputs": [],
   "source": [
    "## GFLOPS - Newgeo Macro: Probempi vs Nonprobempi"
   ]
  },
  {
   "cell_type": "code",
   "execution_count": null,
   "id": "1ded20bf",
   "metadata": {},
   "outputs": [],
   "source": []
  },
  {
   "cell_type": "code",
   "execution_count": null,
   "id": "5fc6ae42",
   "metadata": {},
   "outputs": [],
   "source": [
    "# HIPPO AVX CASES"
   ]
  },
  {
   "cell_type": "code",
   "execution_count": null,
   "id": "8521dd68",
   "metadata": {},
   "outputs": [],
   "source": [
    "## 1) Fused_AVX_Probmpi"
   ]
  },
  {
   "cell_type": "code",
   "execution_count": null,
   "id": "bab2b423",
   "metadata": {},
   "outputs": [],
   "source": [
    "### Adding Columns"
   ]
  },
  {
   "cell_type": "code",
   "execution_count": null,
   "id": "c07a3f04",
   "metadata": {},
   "outputs": [],
   "source": []
  },
  {
   "cell_type": "code",
   "execution_count": null,
   "id": "76eea712",
   "metadata": {},
   "outputs": [],
   "source": [
    "### Data Summary"
   ]
  },
  {
   "cell_type": "code",
   "execution_count": null,
   "id": "c05a7226",
   "metadata": {},
   "outputs": [],
   "source": []
  },
  {
   "cell_type": "code",
   "execution_count": null,
   "id": "1254c712",
   "metadata": {},
   "outputs": [],
   "source": [
    "### Cases Setup"
   ]
  },
  {
   "cell_type": "code",
   "execution_count": null,
   "id": "b08ce586",
   "metadata": {},
   "outputs": [],
   "source": []
  },
  {
   "cell_type": "code",
   "execution_count": null,
   "id": "5c67ee86",
   "metadata": {},
   "outputs": [],
   "source": [
    "## 2) Fused_AVX_NonProbmpi"
   ]
  },
  {
   "cell_type": "code",
   "execution_count": null,
   "id": "b5b79486",
   "metadata": {},
   "outputs": [],
   "source": [
    "### Adding Columns"
   ]
  },
  {
   "cell_type": "code",
   "execution_count": null,
   "id": "3b815749",
   "metadata": {},
   "outputs": [],
   "source": []
  },
  {
   "cell_type": "code",
   "execution_count": null,
   "id": "caae67d4",
   "metadata": {},
   "outputs": [],
   "source": [
    "### Data Summary"
   ]
  },
  {
   "cell_type": "code",
   "execution_count": null,
   "id": "1a450eeb",
   "metadata": {},
   "outputs": [],
   "source": []
  },
  {
   "cell_type": "code",
   "execution_count": null,
   "id": "ad1a73f6",
   "metadata": {},
   "outputs": [],
   "source": [
    "### Cases Setup"
   ]
  },
  {
   "cell_type": "code",
   "execution_count": null,
   "id": "d12bd306",
   "metadata": {},
   "outputs": [],
   "source": []
  },
  {
   "cell_type": "code",
   "execution_count": null,
   "id": "0b81b708",
   "metadata": {},
   "outputs": [],
   "source": [
    "## GFLOPS - AVX-Fused: Probmpi vs Non-Probempim"
   ]
  },
  {
   "cell_type": "code",
   "execution_count": null,
   "id": "ac8fb0e8",
   "metadata": {},
   "outputs": [],
   "source": []
  },
  {
   "cell_type": "code",
   "execution_count": null,
   "id": "18c52031",
   "metadata": {},
   "outputs": [],
   "source": []
  },
  {
   "cell_type": "code",
   "execution_count": null,
   "id": "2a952085",
   "metadata": {},
   "outputs": [],
   "source": [
    "## 3) NonFused_AVX_Probempi"
   ]
  },
  {
   "cell_type": "code",
   "execution_count": null,
   "id": "8f8ee392",
   "metadata": {},
   "outputs": [],
   "source": [
    "### Adding Columns"
   ]
  },
  {
   "cell_type": "code",
   "execution_count": null,
   "id": "ef7f0b60",
   "metadata": {},
   "outputs": [],
   "source": []
  },
  {
   "cell_type": "code",
   "execution_count": null,
   "id": "caf304a6",
   "metadata": {},
   "outputs": [],
   "source": [
    "### Data Summary"
   ]
  },
  {
   "cell_type": "code",
   "execution_count": null,
   "id": "be2f5e77",
   "metadata": {},
   "outputs": [],
   "source": []
  },
  {
   "cell_type": "code",
   "execution_count": null,
   "id": "29cfe1f3",
   "metadata": {},
   "outputs": [],
   "source": [
    "### Cases Setup"
   ]
  },
  {
   "cell_type": "code",
   "execution_count": null,
   "id": "877f812b",
   "metadata": {},
   "outputs": [],
   "source": []
  },
  {
   "cell_type": "code",
   "execution_count": null,
   "id": "fd655565",
   "metadata": {},
   "outputs": [],
   "source": [
    "## 4) NonFused_AVX_NonProbempi"
   ]
  },
  {
   "cell_type": "code",
   "execution_count": null,
   "id": "9e5d8b00",
   "metadata": {},
   "outputs": [],
   "source": [
    "### Adding Columns"
   ]
  },
  {
   "cell_type": "code",
   "execution_count": null,
   "id": "1c8ddb74",
   "metadata": {},
   "outputs": [],
   "source": []
  },
  {
   "cell_type": "code",
   "execution_count": null,
   "id": "902520ab",
   "metadata": {},
   "outputs": [],
   "source": [
    "### Data Summary"
   ]
  },
  {
   "cell_type": "code",
   "execution_count": null,
   "id": "d9df7bd5",
   "metadata": {},
   "outputs": [],
   "source": []
  },
  {
   "cell_type": "code",
   "execution_count": null,
   "id": "a7a019a7",
   "metadata": {},
   "outputs": [],
   "source": [
    "### Cases Setup"
   ]
  },
  {
   "cell_type": "code",
   "execution_count": null,
   "id": "87ddb1f8",
   "metadata": {},
   "outputs": [],
   "source": []
  },
  {
   "cell_type": "code",
   "execution_count": null,
   "id": "d5f51c2e",
   "metadata": {},
   "outputs": [],
   "source": [
    "## GFLOPS - NonFused-AVX: Probmpi vs Non-Probempi"
   ]
  },
  {
   "cell_type": "code",
   "execution_count": null,
   "id": "9ebb5e0a",
   "metadata": {},
   "outputs": [],
   "source": []
  },
  {
   "cell_type": "code",
   "execution_count": null,
   "id": "e1e3b73a",
   "metadata": {},
   "outputs": [],
   "source": []
  },
  {
   "cell_type": "code",
   "execution_count": null,
   "id": "bc2ef8ce",
   "metadata": {},
   "outputs": [],
   "source": [
    "##5) Newgeo_AVX_Probempi"
   ]
  },
  {
   "cell_type": "code",
   "execution_count": null,
   "id": "b93f3b27",
   "metadata": {},
   "outputs": [],
   "source": [
    "### Adding Columns"
   ]
  },
  {
   "cell_type": "code",
   "execution_count": null,
   "id": "6afdd327",
   "metadata": {},
   "outputs": [],
   "source": []
  },
  {
   "cell_type": "code",
   "execution_count": null,
   "id": "7c7721a6",
   "metadata": {},
   "outputs": [],
   "source": [
    "### Data Summary"
   ]
  },
  {
   "cell_type": "code",
   "execution_count": null,
   "id": "d71ff2b8",
   "metadata": {},
   "outputs": [],
   "source": []
  },
  {
   "cell_type": "code",
   "execution_count": null,
   "id": "3c475ebd",
   "metadata": {},
   "outputs": [],
   "source": [
    "### Cases Setup"
   ]
  },
  {
   "cell_type": "code",
   "execution_count": null,
   "id": "588524ba",
   "metadata": {},
   "outputs": [],
   "source": []
  },
  {
   "cell_type": "code",
   "execution_count": null,
   "id": "fb60eb5a",
   "metadata": {},
   "outputs": [],
   "source": [
    "## 6) Newgeo_AVX_NonProbempi"
   ]
  },
  {
   "cell_type": "code",
   "execution_count": null,
   "id": "143c75cf",
   "metadata": {},
   "outputs": [],
   "source": [
    "### Adding Columns"
   ]
  },
  {
   "cell_type": "code",
   "execution_count": null,
   "id": "f1d54996",
   "metadata": {},
   "outputs": [],
   "source": []
  },
  {
   "cell_type": "code",
   "execution_count": null,
   "id": "cdde08fc",
   "metadata": {},
   "outputs": [],
   "source": [
    "### Data Summary"
   ]
  },
  {
   "cell_type": "code",
   "execution_count": null,
   "id": "df5efabe",
   "metadata": {},
   "outputs": [],
   "source": []
  },
  {
   "cell_type": "code",
   "execution_count": null,
   "id": "257a664f",
   "metadata": {},
   "outputs": [],
   "source": [
    "### Cases Setup"
   ]
  },
  {
   "cell_type": "code",
   "execution_count": null,
   "id": "5692f0ea",
   "metadata": {},
   "outputs": [],
   "source": []
  },
  {
   "cell_type": "code",
   "execution_count": null,
   "id": "545a529e",
   "metadata": {},
   "outputs": [],
   "source": []
  },
  {
   "cell_type": "code",
   "execution_count": null,
   "id": "40e1d0fb",
   "metadata": {},
   "outputs": [],
   "source": [
    "## GFLOPS - Newgeo-AVX: Probmpi vs Non-Probempi"
   ]
  },
  {
   "cell_type": "code",
   "execution_count": null,
   "id": "adba4da9",
   "metadata": {},
   "outputs": [],
   "source": []
  },
  {
   "cell_type": "code",
   "execution_count": null,
   "id": "78601481",
   "metadata": {},
   "outputs": [],
   "source": []
  },
  {
   "cell_type": "code",
   "execution_count": null,
   "id": "29dc545e",
   "metadata": {},
   "outputs": [],
   "source": [
    "# HIPPO VECT CASES"
   ]
  },
  {
   "cell_type": "code",
   "execution_count": null,
   "id": "43023c0e",
   "metadata": {},
   "outputs": [],
   "source": [
    "## 1) Fused_VECT_Probmpi"
   ]
  },
  {
   "cell_type": "code",
   "execution_count": null,
   "id": "1ea231c8",
   "metadata": {},
   "outputs": [],
   "source": [
    "### Adding Columns"
   ]
  },
  {
   "cell_type": "code",
   "execution_count": null,
   "id": "35a1ffdb",
   "metadata": {},
   "outputs": [],
   "source": []
  },
  {
   "cell_type": "code",
   "execution_count": null,
   "id": "1b457fd4",
   "metadata": {},
   "outputs": [],
   "source": [
    "### Data Summary"
   ]
  },
  {
   "cell_type": "code",
   "execution_count": null,
   "id": "ca3d2b92",
   "metadata": {},
   "outputs": [],
   "source": []
  },
  {
   "cell_type": "code",
   "execution_count": null,
   "id": "7fcf3520",
   "metadata": {},
   "outputs": [],
   "source": [
    "### Cases Setup"
   ]
  },
  {
   "cell_type": "code",
   "execution_count": null,
   "id": "54b3fb4e",
   "metadata": {},
   "outputs": [],
   "source": []
  },
  {
   "cell_type": "code",
   "execution_count": null,
   "id": "b9dd25e5",
   "metadata": {},
   "outputs": [],
   "source": [
    "## 2) Fused_VECT_NonProbmpi"
   ]
  },
  {
   "cell_type": "code",
   "execution_count": null,
   "id": "44b4122c",
   "metadata": {},
   "outputs": [],
   "source": [
    "### Adding Columns"
   ]
  },
  {
   "cell_type": "code",
   "execution_count": null,
   "id": "dfaa4a6b",
   "metadata": {},
   "outputs": [],
   "source": []
  },
  {
   "cell_type": "code",
   "execution_count": null,
   "id": "3abaf8ac",
   "metadata": {},
   "outputs": [],
   "source": [
    "### Data Summary"
   ]
  },
  {
   "cell_type": "code",
   "execution_count": null,
   "id": "53a71642",
   "metadata": {},
   "outputs": [],
   "source": []
  },
  {
   "cell_type": "code",
   "execution_count": null,
   "id": "2639c3f6",
   "metadata": {},
   "outputs": [],
   "source": [
    "### Cases Setup"
   ]
  },
  {
   "cell_type": "code",
   "execution_count": null,
   "id": "0c6a5dbb",
   "metadata": {},
   "outputs": [],
   "source": []
  },
  {
   "cell_type": "code",
   "execution_count": null,
   "id": "d50a3168",
   "metadata": {},
   "outputs": [],
   "source": [
    "## GFLOPS - Fused VECT: probempi vs nonprobempi"
   ]
  },
  {
   "cell_type": "code",
   "execution_count": null,
   "id": "7b588f9e",
   "metadata": {},
   "outputs": [],
   "source": []
  },
  {
   "cell_type": "code",
   "execution_count": null,
   "id": "312f1d39",
   "metadata": {},
   "outputs": [],
   "source": [
    "## 3) NonFused_VECT_Probmpi"
   ]
  },
  {
   "cell_type": "code",
   "execution_count": null,
   "id": "ad0fc1c3",
   "metadata": {},
   "outputs": [],
   "source": [
    "### Adding Columns"
   ]
  },
  {
   "cell_type": "code",
   "execution_count": null,
   "id": "5c9d143a",
   "metadata": {},
   "outputs": [],
   "source": []
  },
  {
   "cell_type": "code",
   "execution_count": null,
   "id": "63c8e8dc",
   "metadata": {},
   "outputs": [],
   "source": [
    "### Data Summary"
   ]
  },
  {
   "cell_type": "code",
   "execution_count": null,
   "id": "d11424b4",
   "metadata": {},
   "outputs": [],
   "source": []
  },
  {
   "cell_type": "code",
   "execution_count": null,
   "id": "6c75e16d",
   "metadata": {},
   "outputs": [],
   "source": [
    "### Cases Setup"
   ]
  },
  {
   "cell_type": "code",
   "execution_count": null,
   "id": "912bde0a",
   "metadata": {},
   "outputs": [],
   "source": []
  },
  {
   "cell_type": "code",
   "execution_count": null,
   "id": "a338ed47",
   "metadata": {},
   "outputs": [],
   "source": [
    "## 4) NonFused_VECT_NonProbmpi"
   ]
  },
  {
   "cell_type": "code",
   "execution_count": null,
   "id": "b250acd2",
   "metadata": {},
   "outputs": [],
   "source": [
    "### Adding Columns"
   ]
  },
  {
   "cell_type": "code",
   "execution_count": null,
   "id": "32f530c1",
   "metadata": {},
   "outputs": [],
   "source": []
  },
  {
   "cell_type": "code",
   "execution_count": null,
   "id": "b358cbda",
   "metadata": {},
   "outputs": [],
   "source": [
    "### Data Summary"
   ]
  },
  {
   "cell_type": "code",
   "execution_count": null,
   "id": "3e584dd4",
   "metadata": {},
   "outputs": [],
   "source": []
  },
  {
   "cell_type": "code",
   "execution_count": null,
   "id": "84658b70",
   "metadata": {},
   "outputs": [],
   "source": [
    "### Cases Setup"
   ]
  },
  {
   "cell_type": "code",
   "execution_count": null,
   "id": "e40b309b",
   "metadata": {},
   "outputs": [],
   "source": []
  },
  {
   "cell_type": "code",
   "execution_count": null,
   "id": "c9d09bda",
   "metadata": {},
   "outputs": [],
   "source": [
    "## GFLOPS - NonFused-VECT: Probempi vs NonProbempi"
   ]
  },
  {
   "cell_type": "code",
   "execution_count": null,
   "id": "64eac4ba",
   "metadata": {},
   "outputs": [],
   "source": []
  },
  {
   "cell_type": "code",
   "execution_count": null,
   "id": "82d160bd",
   "metadata": {},
   "outputs": [],
   "source": [
    "## 5) Newgeo_VECT_Probmpi"
   ]
  },
  {
   "cell_type": "code",
   "execution_count": null,
   "id": "4480f807",
   "metadata": {},
   "outputs": [],
   "source": [
    "### Adding Columns"
   ]
  },
  {
   "cell_type": "code",
   "execution_count": null,
   "id": "c48b72af",
   "metadata": {},
   "outputs": [],
   "source": []
  },
  {
   "cell_type": "code",
   "execution_count": null,
   "id": "2f49e304",
   "metadata": {},
   "outputs": [],
   "source": [
    "### Data Summary"
   ]
  },
  {
   "cell_type": "code",
   "execution_count": null,
   "id": "27124231",
   "metadata": {},
   "outputs": [],
   "source": []
  },
  {
   "cell_type": "code",
   "execution_count": null,
   "id": "87f8ac71",
   "metadata": {},
   "outputs": [],
   "source": [
    "### Cases Setup"
   ]
  },
  {
   "cell_type": "code",
   "execution_count": null,
   "id": "55931cdd",
   "metadata": {},
   "outputs": [],
   "source": []
  },
  {
   "cell_type": "code",
   "execution_count": null,
   "id": "3481eadb",
   "metadata": {},
   "outputs": [],
   "source": [
    "## 6) Newgeo_VECT_NonProbmpi"
   ]
  },
  {
   "cell_type": "code",
   "execution_count": null,
   "id": "a64699a0",
   "metadata": {},
   "outputs": [],
   "source": [
    "### Adding Columns"
   ]
  },
  {
   "cell_type": "code",
   "execution_count": null,
   "id": "1817e996",
   "metadata": {},
   "outputs": [],
   "source": []
  },
  {
   "cell_type": "code",
   "execution_count": null,
   "id": "e333c6b1",
   "metadata": {},
   "outputs": [],
   "source": [
    "### Data Summary"
   ]
  },
  {
   "cell_type": "code",
   "execution_count": null,
   "id": "e04c6242",
   "metadata": {},
   "outputs": [],
   "source": []
  },
  {
   "cell_type": "code",
   "execution_count": null,
   "id": "de4c5423",
   "metadata": {},
   "outputs": [],
   "source": [
    "### Cases Setup"
   ]
  },
  {
   "cell_type": "code",
   "execution_count": null,
   "id": "d68bc42b",
   "metadata": {},
   "outputs": [],
   "source": []
  },
  {
   "cell_type": "code",
   "execution_count": null,
   "id": "1e816ab0",
   "metadata": {},
   "outputs": [],
   "source": [
    "## GFLOPS - Newgeo VECT: Probempi vs NonProbempi"
   ]
  },
  {
   "cell_type": "code",
   "execution_count": null,
   "id": "ae345562",
   "metadata": {},
   "outputs": [],
   "source": []
  },
  {
   "cell_type": "code",
   "execution_count": null,
   "id": "83de951a",
   "metadata": {},
   "outputs": [],
   "source": []
  },
  {
   "cell_type": "code",
   "execution_count": null,
   "id": "b4f23b90",
   "metadata": {},
   "outputs": [],
   "source": []
  },
  {
   "cell_type": "code",
   "execution_count": null,
   "id": "7be3a718",
   "metadata": {},
   "outputs": [],
   "source": []
  },
  {
   "cell_type": "code",
   "execution_count": null,
   "id": "a9bd397a",
   "metadata": {},
   "outputs": [],
   "source": []
  },
  {
   "cell_type": "code",
   "execution_count": null,
   "id": "37582403",
   "metadata": {},
   "outputs": [],
   "source": []
  }
 ],
 "metadata": {
  "kernelspec": {
   "display_name": "Python 3 (ipykernel)",
   "language": "python",
   "name": "python3"
  },
  "language_info": {
   "codemirror_mode": {
    "name": "ipython",
    "version": 3
   },
   "file_extension": ".py",
   "mimetype": "text/x-python",
   "name": "python",
   "nbconvert_exporter": "python",
   "pygments_lexer": "ipython3",
   "version": "3.9.13"
  }
 },
 "nbformat": 4,
 "nbformat_minor": 5
}
