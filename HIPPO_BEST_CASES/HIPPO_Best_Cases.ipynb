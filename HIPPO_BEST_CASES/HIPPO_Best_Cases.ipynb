{
 "cells": [
  {
   "cell_type": "code",
   "execution_count": 1,
   "id": "345d1720",
   "metadata": {},
   "outputs": [
    {
     "data": {
      "text/html": [
       "        <script type=\"text/javascript\">\n",
       "        window.PlotlyConfig = {MathJaxConfig: 'local'};\n",
       "        if (window.MathJax && window.MathJax.Hub && window.MathJax.Hub.Config) {window.MathJax.Hub.Config({SVG: {font: \"STIX-Web\"}});}\n",
       "        if (typeof require !== 'undefined') {\n",
       "        require.undef(\"plotly\");\n",
       "        requirejs.config({\n",
       "            paths: {\n",
       "                'plotly': ['https://cdn.plot.ly/plotly-2.12.1.min']\n",
       "            }\n",
       "        });\n",
       "        require(['plotly'], function(Plotly) {\n",
       "            window._Plotly = Plotly;\n",
       "        });\n",
       "        }\n",
       "        </script>\n",
       "        "
      ]
     },
     "metadata": {},
     "output_type": "display_data"
    },
    {
     "data": {
      "text/html": [
       "        <script type=\"text/javascript\">\n",
       "        window.PlotlyConfig = {MathJaxConfig: 'local'};\n",
       "        if (window.MathJax && window.MathJax.Hub && window.MathJax.Hub.Config) {window.MathJax.Hub.Config({SVG: {font: \"STIX-Web\"}});}\n",
       "        if (typeof require !== 'undefined') {\n",
       "        require.undef(\"plotly\");\n",
       "        requirejs.config({\n",
       "            paths: {\n",
       "                'plotly': ['https://cdn.plot.ly/plotly-2.12.1.min']\n",
       "            }\n",
       "        });\n",
       "        require(['plotly'], function(Plotly) {\n",
       "            window._Plotly = Plotly;\n",
       "        });\n",
       "        }\n",
       "        </script>\n",
       "        "
      ]
     },
     "metadata": {},
     "output_type": "display_data"
    }
   ],
   "source": [
    "import pandas as pd\n",
    "import numpy as np\n",
    "import chart_studio.plotly as py\n",
    "import cufflinks as cf\n",
    "import seaborn as sns\n",
    "import plotly.express as px\n",
    "import plotly.graph_objects as go\n",
    "import collections\n",
    "from collections import OrderedDict\n",
    "%matplotlib inline\n",
    "from plotly.offline import download_plotlyjs, init_notebook_mode, plot, iplot\n",
    "init_notebook_mode(connected=True)\n",
    "cf.go_offline()"
   ]
  },
  {
   "cell_type": "code",
   "execution_count": 2,
   "id": "85cf7019",
   "metadata": {},
   "outputs": [],
   "source": [
    "pd.set_option('display.max_columns', None)\n",
    "pd.set_option('display.max_rows', None)\n",
    "\n",
    "# ************NODE 1************\n",
    "# Macro Files\n",
    "dfn1_macro_fused_probempi = pd.read_csv(\"n1_fused_macro_probmpi.csv\")\n",
    "dfn1_macro_fused_nonprobempi = pd.read_csv(\"n1_fused_macro_nonprobmpi.csv\")\n",
    "dfn1_macro_newgeo_probempi = pd.read_csv(\"n1_newgeo_macro_probmpi.csv\")\n",
    "dfn1_macro_newgeo_nonprobempi = pd.read_csv(\"n1_newgeo_macro_nonprobmpi.csv\")\n",
    "dfn1_macro_nonfused_probempi = pd.read_csv(\"n1_nonfused_macro_probmpi.csv\")\n",
    "dfn1_macro_nonfused_nonprobempi = pd.read_csv(\"n1_nonfused_macro_nonprobmpi.csv\")\n",
    "\n",
    "# AVX Files\n",
    "dfn1_avx_fused_probmpi = pd.read_csv(\"n1_fused_avx_probmpi.csv\")\n",
    "dfn1_avx_fused_nonprobmpi = pd.read_csv(\"n1_fused_avx_nonprobmpi.csv\")\n",
    "dfn1_avx_newgeo_probempi = pd.read_csv(\"n1_newgeo_avx_probmpi.csv\")\n",
    "dfn1_avx_newgeo_nonprobempi = pd.read_csv(\"n1_newgeo_avx_nonprobmpi.csv\")\n",
    "dfn1_avx_nonfused_probempi = pd.read_csv(\"n1_nonfused_avx_probmpi.csv\")\n",
    "dfn1_avx_nonfused_nonprobempi = pd.read_csv(\"n1_nonfused_avx_nonprobmpi.csv\")\n",
    "\n",
    "# VECT Files\n",
    "dfn1_vect_fused_probmpi = pd.read_csv(\"n1_fused_vect_probmpi.csv\")\n",
    "dfn1_vect_fused_nonprobmpi = pd.read_csv(\"n1_fused_vect_nonprobmpi.csv\")\n",
    "dfn1_vect_newgeo_probempi = pd.read_csv(\"n1_newgeo_vect_probmpi.csv\")\n",
    "dfn1_vect_newgeo_nonprobempi = pd.read_csv(\"n1_newgeo_vect_nonprobmpi.csv\")\n",
    "dfn1_vect_nonfused_probempi = pd.read_csv(\"n1_nonfused_vect_probmpi.csv\")\n",
    "dfn1_vect_nonfused_nonprobempi = pd.read_csv(\"n1_nonfused_vect_nonprobmpi.csv\")\n",
    "\n",
    "# ************NODE 2************\n",
    "####### Macro Cases ######\n",
    "dfn2_macro_fused_probempi = pd.read_csv(\"n2_fused_macro_probmpi.csv\")\n",
    "dfn2_macro_fused_nonprobempi = pd.read_csv(\"n2_fused_macro_nonprobmpi.csv\")\n",
    "\n",
    "dfn2_macro_newgeo_probempi = pd.read_csv(\"n2_newgeo_macro_probmpi.csv\")\n",
    "dfn2_macro_newgeo_nonprobempi = pd.read_csv(\"n2_newgeo_macro_nonprobmpi.csv\")\n",
    "\n",
    "dfn2_macro_nonfused_probempi = pd.read_csv(\"n2_nonfused_macro_probmpi.csv\")\n",
    "dfn2_macro_nonfused_nonprobempi = pd.read_csv(\"n2_nonfused_macro_nonprobmpi.csv\")\n",
    "\n",
    "###### AVX Cases ######\n",
    "dfn2_avx_fused_probmpi = pd.read_csv(\"n2_fused_avx_probmpi.csv\")\n",
    "dfn2_avx_fused_nonprobmpi = pd.read_csv(\"n2_fused_avx_nonprobmpi.csv\")\n",
    "\n",
    "dfn2_avx_newgeo_probempi = pd.read_csv(\"n2_newgeo_avx_probmpi.csv\")\n",
    "dfn2_avx_newgeo_nonprobempi = pd.read_csv(\"n2_newgeo_avx_nonprobmpi.csv\")\n",
    "\n",
    "dfn2_avx_nonfused_probempi = pd.read_csv(\"n2_nonfused_avx_probmpi.csv\")\n",
    "dfn2_avx_nonfused_nonprobempi = pd.read_csv(\"n2_nonfused_avx_nonprobmpi.csv\")\n",
    "\n",
    "####### VECT Cases ######\n",
    "dfn2_vect_fused_probmpi = pd.read_csv(\"n2_fused_vect_probmpi.csv\")\n",
    "dfn2_vect_fused_nonprobmpi = pd.read_csv(\"n2_fused_vect_nonprobmpi.csv\")\n",
    "\n",
    "dfn2_vect_newgeo_probempi = pd.read_csv(\"n2_newgeo_vect_probmpi.csv\")\n",
    "dfn2_vect_newgeo_nonprobempi = pd.read_csv(\"n2_newgeo_vect_nonprobmpi.csv\")\n",
    "\n",
    "dfn2_vect_nonfused_probempi = pd.read_csv(\"n2_nonfused_vect_probmpi.csv\")\n",
    "dfn2_vect_nonfused_nonprobempi = pd.read_csv(\"n2_nonfused_vect_nonprobmpi.csv\")\n",
    "\n",
    "\n"
   ]
  },
  {
   "cell_type": "markdown",
   "id": "30ccc7c2",
   "metadata": {},
   "source": [
    "# HIPPO Best Cases"
   ]
  },
  {
   "cell_type": "markdown",
   "id": "e8c8bc7f",
   "metadata": {},
   "source": [
    "# Node 1"
   ]
  },
  {
   "cell_type": "markdown",
   "id": "eb2d4202",
   "metadata": {},
   "source": [
    "### Cases Setup"
   ]
  },
  {
   "cell_type": "code",
   "execution_count": 90,
   "id": "b5cd50cf",
   "metadata": {},
   "outputs": [],
   "source": [
    "dfn1MacFusProb_64mpi_2omp = dfn1_macro_fused_probempi[(dfn1_macro_fused_probempi.omp_thrd == 2) & (dfn1_macro_fused_probempi.GLB_T/dfn1_macro_fused_probempi.LOC_T == 8) & (dfn1_macro_fused_probempi.GLB_X/dfn1_macro_fused_probempi.LOC_X == 2) & (dfn1_macro_fused_probempi.GLB_Y/dfn1_macro_fused_probempi.LOC_Y == 2)& (dfn1_macro_fused_probempi.GLB_Z/dfn1_macro_fused_probempi.LOC_Z == 2)]\n",
    "dfn1MacNonFusProb_64mpi_2omp = dfn1_macro_nonfused_probempi[(dfn1_macro_nonfused_probempi.omp_thrd == 2) & (dfn1_macro_nonfused_probempi.GLB_T/dfn1_macro_nonfused_probempi.LOC_T == 8) & (dfn1_macro_nonfused_probempi.GLB_X/dfn1_macro_nonfused_probempi.LOC_X == 2) & (dfn1_macro_nonfused_probempi.GLB_Y/dfn1_macro_nonfused_probempi.LOC_Y == 2)& (dfn1_macro_nonfused_probempi.GLB_Z/dfn1_macro_nonfused_probempi.LOC_Z == 2)]\n",
    "dfn1MacNewgeoProb_64mpi_2omp = dfn1_macro_newgeo_probempi[(dfn1_macro_newgeo_probempi.omp_thrd == 2) & (dfn1_macro_newgeo_probempi.GLB_T/dfn1_macro_newgeo_probempi.LOC_T == 8) & (dfn1_macro_newgeo_probempi.GLB_X/dfn1_macro_newgeo_probempi.LOC_X == 2) & (dfn1_macro_newgeo_probempi.GLB_Y/dfn1_macro_newgeo_probempi.LOC_Y == 2)& (dfn1_macro_newgeo_probempi.GLB_Z/dfn1_macro_newgeo_probempi.LOC_Z == 2)]\n",
    "\n",
    "dfn1AvxFusProb_64mpi_2omp = dfn1_avx_fused_probmpi[(dfn1_avx_fused_probmpi.omp_thrd == 2) & (dfn1_avx_fused_probmpi.GLB_T/dfn1_avx_fused_probmpi.LOC_T == 8) & (dfn1_avx_fused_probmpi.GLB_X/dfn1_avx_fused_probmpi.LOC_X == 2) & (dfn1_avx_fused_probmpi.GLB_Y/dfn1_avx_fused_probmpi.LOC_Y == 2)& (dfn1_avx_fused_probmpi.GLB_Z/dfn1_avx_fused_probmpi.LOC_Z == 2)]\n",
    "dfn1AvxNonFusProb_64mpi_2omp = dfn1_avx_nonfused_probempi[(dfn1_avx_nonfused_probempi.omp_thrd == 2) & (dfn1_avx_nonfused_probempi.GLB_T/dfn1_avx_nonfused_probempi.LOC_T == 8) & (dfn1_avx_nonfused_probempi.GLB_X/dfn1_avx_nonfused_probempi.LOC_X == 2) & (dfn1_avx_nonfused_probempi.GLB_Y/dfn1_avx_nonfused_probempi.LOC_Y == 2)& (dfn1_avx_nonfused_probempi.GLB_Z/dfn1_avx_nonfused_probempi.LOC_Z == 2)]\n",
    "dfn1AvxNewgeoProb_64mpi_2omp = dfn1_avx_newgeo_probempi[(dfn1_avx_newgeo_probempi.omp_thrd == 2) & (dfn1_avx_newgeo_probempi.GLB_T/dfn1_avx_newgeo_probempi.LOC_T == 8) & (dfn1_avx_newgeo_probempi.GLB_X/dfn1_avx_newgeo_probempi.LOC_X == 2) & (dfn1_avx_newgeo_probempi.GLB_Y/dfn1_avx_newgeo_probempi.LOC_Y == 2)& (dfn1_avx_newgeo_probempi.GLB_Z/dfn1_avx_newgeo_probempi.LOC_Z == 2)]\n",
    "\n",
    "dfn1VectFusProb_32mpi_4omp = dfn1_vect_fused_probmpi[(dfn1_vect_fused_probmpi.omp_thrd == 4) & (dfn1_vect_fused_probmpi.GLB_T/dfn1_vect_fused_probmpi.LOC_T == 4) & (dfn1_vect_fused_probmpi.GLB_X/dfn1_vect_fused_probmpi.LOC_X == 2) & (dfn1_vect_fused_probmpi.GLB_Y/dfn1_vect_fused_probmpi.LOC_Y == 2)& (dfn1_vect_fused_probmpi.GLB_Z/dfn1_vect_fused_probmpi.LOC_Z == 2)]\n",
    "dfn1VectNonFusProb_64mpi_2omp = dfn1_vect_nonfused_probempi[(dfn1_vect_nonfused_probempi.omp_thrd == 2) & (dfn1_vect_nonfused_probempi.GLB_T/dfn1_vect_nonfused_probempi.LOC_T == 8) & (dfn1_vect_nonfused_probempi.GLB_X/dfn1_vect_nonfused_probempi.LOC_X == 2) & (dfn1_vect_nonfused_probempi.GLB_Y/dfn1_vect_nonfused_probempi.LOC_Y == 2)& (dfn1_vect_nonfused_probempi.GLB_Z/dfn1_vect_nonfused_probempi.LOC_Z == 2)]\n",
    "dfn1VectNewgeoProb_64mpi_2omp = dfn1_vect_newgeo_probempi[(dfn1_vect_newgeo_probempi.omp_thrd == 2) & (dfn1_vect_newgeo_probempi.GLB_T/dfn1_vect_newgeo_probempi.LOC_T == 8) & (dfn1_vect_newgeo_probempi.GLB_X/dfn1_vect_newgeo_probempi.LOC_X == 2) & (dfn1_vect_newgeo_probempi.GLB_Y/dfn1_vect_newgeo_probempi.LOC_Y == 2)& (dfn1_vect_newgeo_probempi.GLB_Z/dfn1_vect_newgeo_probempi.LOC_Z == 2)]\n"
   ]
  },
  {
   "cell_type": "markdown",
   "id": "55a9521c",
   "metadata": {},
   "source": [
    "# Node 2"
   ]
  },
  {
   "cell_type": "markdown",
   "id": "9f279abb",
   "metadata": {},
   "source": [
    "## Cases Setup"
   ]
  },
  {
   "cell_type": "code",
   "execution_count": 125,
   "id": "775b743a",
   "metadata": {},
   "outputs": [],
   "source": [
    "dfn2MacFusProb_128mpi_2omp = dfn2_macro_fused_probempi[(dfn2_macro_fused_probempi.omp_thrd == 2) & (dfn2_macro_fused_probempi.GLB_T/dfn2_macro_fused_probempi.LOC_T == 16) & (dfn2_macro_fused_probempi.GLB_X/dfn2_macro_fused_probempi.LOC_X == 2) & (dfn2_macro_fused_probempi.GLB_Y/dfn2_macro_fused_probempi.LOC_Y == 2)& (dfn2_macro_fused_probempi.GLB_Z/dfn2_macro_fused_probempi.LOC_Z == 2)]\n",
    "dfn2MacNonFusNonProb_128mpi_2omp = dfn2_macro_nonfused_nonprobempi[(dfn2_macro_nonfused_nonprobempi.omp_thrd == 2) & (dfn2_macro_nonfused_nonprobempi.GLB_T/dfn2_macro_nonfused_nonprobempi.LOC_T == 16) & (dfn2_macro_nonfused_nonprobempi.GLB_X/dfn2_macro_nonfused_nonprobempi.LOC_X == 2) & (dfn2_macro_nonfused_nonprobempi.GLB_Y/dfn2_macro_nonfused_nonprobempi.LOC_Y == 2)& (dfn2_macro_nonfused_nonprobempi.GLB_Z/dfn2_macro_nonfused_nonprobempi.LOC_Z == 2)]\n",
    "dfn2MacNewgeoProb_64mpi_4omp = dfn2_macro_newgeo_probempi[(dfn2_macro_newgeo_probempi.omp_thrd == 4) & (dfn2_macro_newgeo_probempi.GLB_T/dfn2_macro_newgeo_probempi.LOC_T == 8) & (dfn2_macro_newgeo_probempi.GLB_X/dfn2_macro_newgeo_probempi.LOC_X == 2) & (dfn2_macro_newgeo_probempi.GLB_Y/dfn2_macro_newgeo_probempi.LOC_Y == 2)& (dfn2_macro_newgeo_probempi.GLB_Z/dfn2_macro_newgeo_probempi.LOC_Z == 2)]\n",
    "\n",
    "dfn2AvxFusProb_64mpi_4omp = dfn2_avx_fused_probmpi[(dfn2_avx_fused_probmpi.omp_thrd == 4) & (dfn2_avx_fused_probmpi.GLB_T/dfn2_avx_fused_probmpi.LOC_T == 8) & (dfn2_avx_fused_probmpi.GLB_X/dfn2_avx_fused_probmpi.LOC_X == 2) & (dfn2_avx_fused_probmpi.GLB_Y/dfn2_avx_fused_probmpi.LOC_Y == 2)& (dfn2_avx_fused_probmpi.GLB_Z/dfn2_avx_fused_probmpi.LOC_Z == 2)]\n",
    "dfn2AvxNonFusNonProb_128mpi_2omp = dfn2_avx_nonfused_nonprobempi[(dfn2_avx_nonfused_nonprobempi.omp_thrd == 2) & (dfn2_avx_nonfused_nonprobempi.GLB_T/dfn2_avx_nonfused_nonprobempi.LOC_T == 16) & (dfn2_avx_nonfused_nonprobempi.GLB_X/dfn2_avx_nonfused_nonprobempi.LOC_X == 2) & (dfn2_avx_nonfused_nonprobempi.GLB_Y/dfn2_avx_nonfused_nonprobempi.LOC_Y == 2)& (dfn2_avx_nonfused_nonprobempi.GLB_Z/dfn2_avx_nonfused_nonprobempi.LOC_Z == 2)]\n",
    "dfn2AvxNewgeoProb_64mpi_4omp = dfn2_avx_newgeo_probempi[(dfn2_avx_newgeo_probempi.omp_thrd == 4) & (dfn2_avx_newgeo_probempi.GLB_T/dfn2_avx_newgeo_probempi.LOC_T == 8) & (dfn2_avx_newgeo_probempi.GLB_X/dfn2_avx_newgeo_probempi.LOC_X == 2) & (dfn2_avx_newgeo_probempi.GLB_Y/dfn2_avx_newgeo_probempi.LOC_Y == 2)& (dfn2_avx_newgeo_probempi.GLB_Z/dfn2_avx_newgeo_probempi.LOC_Z == 2)]\n",
    "\n",
    "dfn2VectFusProb_64mpi_4omp = dfn2_vect_fused_probmpi[(dfn2_vect_fused_probmpi.omp_thrd == 4) & (dfn2_vect_fused_probmpi.GLB_T/dfn2_vect_fused_probmpi.LOC_T == 8) & (dfn2_vect_fused_probmpi.GLB_X/dfn2_vect_fused_probmpi.LOC_X == 2) & (dfn2_vect_fused_probmpi.GLB_Y/dfn2_vect_fused_probmpi.LOC_Y == 2)& (dfn2_vect_fused_probmpi.GLB_Z/dfn2_vect_fused_probmpi.LOC_Z == 2)]\n",
    "dfn2VectNonFusNonProb_128mpi_2omp = dfn2_vect_nonfused_nonprobempi[(dfn2_vect_nonfused_nonprobempi.omp_thrd == 2) & (dfn2_vect_nonfused_nonprobempi.GLB_T/dfn2_vect_nonfused_nonprobempi.LOC_T == 16) & (dfn2_vect_nonfused_nonprobempi.GLB_X/dfn2_vect_nonfused_nonprobempi.LOC_X == 2) & (dfn2_vect_nonfused_nonprobempi.GLB_Y/dfn2_vect_nonfused_nonprobempi.LOC_Y == 2)& (dfn2_vect_nonfused_nonprobempi.GLB_Z/dfn2_vect_nonfused_nonprobempi.LOC_Z == 2)]\n",
    "dfn2VectNewgeoProb_64mpi_4omp = dfn2_vect_newgeo_probempi[(dfn2_vect_newgeo_probempi.omp_thrd == 4) & (dfn2_vect_newgeo_probempi.GLB_T/dfn2_vect_newgeo_probempi.LOC_T == 8) & (dfn2_vect_newgeo_probempi.GLB_X/dfn2_vect_newgeo_probempi.LOC_X == 2) & (dfn2_vect_newgeo_probempi.GLB_Y/dfn2_vect_newgeo_probempi.LOC_Y == 2)& (dfn2_vect_newgeo_probempi.GLB_Z/dfn2_vect_newgeo_probempi.LOC_Z == 2)]\n"
   ]
  },
  {
   "cell_type": "code",
   "execution_count": null,
   "id": "b7d2ad3e",
   "metadata": {},
   "outputs": [],
   "source": []
  },
  {
   "cell_type": "markdown",
   "id": "e48d5fdf",
   "metadata": {},
   "source": [
    "# Flops HIPPO BEST CASES"
   ]
  },
  {
   "cell_type": "code",
   "execution_count": 126,
   "id": "b4938baf",
   "metadata": {},
   "outputs": [
    {
     "data": {
      "application/vnd.plotly.v1+json": {
       "config": {
        "plotlyServerURL": "https://plot.ly"
       },
       "data": [
        {
         "line": {
          "color": "royalblue",
          "width": 3
         },
         "marker": {
          "line": {
           "color": "yellow",
           "width": 1
          },
          "size": 9,
          "symbol": "hexagon"
         },
         "mode": "lines+markers",
         "name": "1-N: MacroFusProb_64mpi_2omp",
         "type": "scatter",
         "x": [
          786432000,
          983040000,
          1179648000,
          1376256000,
          1572864000,
          1769472000,
          1966080000,
          2162688000,
          2359296000,
          2555904000,
          2752512000,
          2949120000,
          3145728000,
          3342336000,
          3538944000,
          3932160000
         ],
         "y": [
          242.64192,
          235.68128,
          246.96384,
          241.49312,
          234.45312,
          227.152,
          215.8144,
          196.91072,
          198.33344,
          194.80128,
          188.47232,
          183.89056,
          179.45088,
          175.66016,
          166.83584,
          166.29248
         ]
        },
        {
         "line": {
          "color": "darkred",
          "width": 3
         },
         "marker": {
          "line": {
           "color": "yellow",
           "width": 1
          },
          "size": 9,
          "symbol": "hexagon"
         },
         "mode": "lines+markers",
         "name": "1-N: MacroNonFusProb_64mpi_2omp",
         "type": "scatter",
         "x": [
          786432000,
          983040000,
          1179648000,
          1376256000,
          1769472000,
          1572864000,
          2162688000,
          1966080000,
          2555904000,
          2359296000,
          2752512000,
          2949120000,
          3145728000,
          3342336000,
          3538944000,
          3735552000,
          3932160000
         ],
         "y": [
          214.75264,
          214.7616,
          198.0192,
          209.27168,
          192.78976,
          200.66944,
          177.92832,
          185.52256,
          165.66464,
          162.6048,
          157.26272,
          155.91104,
          156.6368,
          150.65728,
          147.5168,
          140.78784,
          144.53888
         ]
        },
        {
         "line": {
          "color": "darkorchid",
          "width": 3
         },
         "marker": {
          "line": {
           "color": "yellow",
           "width": 1
          },
          "size": 9,
          "symbol": "hexagon"
         },
         "mode": "lines+markers",
         "name": "1-N: MacroNewgeoProb_64mpi_2omp",
         "type": "scatter",
         "x": [
          786432000,
          983040000,
          1179648000,
          1376256000,
          1572864000,
          1966080000,
          1769472000,
          2162688000,
          2555904000,
          2359296000,
          2752512000,
          2949120000,
          3145728000,
          3342336000,
          3538944000,
          3735552000,
          3932160000
         ],
         "y": [
          192.73408,
          197.07904,
          195.34464,
          188.32192,
          185.2096,
          160.0256,
          168.24832,
          155.03488,
          147.66656,
          149.77088,
          138.76672,
          133.92512,
          135.02592,
          129.2288,
          122.74432,
          128.624,
          120.28288
         ]
        },
        {
         "line": {
          "color": "magenta",
          "width": 3
         },
         "marker": {
          "line": {
           "color": "yellow",
           "width": 1
          },
          "size": 9,
          "symbol": "hexagon"
         },
         "mode": "lines+markers",
         "name": "1-N: AvxFusProb_32mpi_4omp",
         "type": "scatter",
         "x": [
          491520000,
          589824000,
          688128000,
          786432000,
          884736000,
          983040000,
          1081344000,
          1179648000,
          1277952000,
          1376256000,
          1474560000,
          1572864000,
          1671168000,
          1769472000,
          1867776000,
          1966080000,
          2064384000,
          2162688000,
          2260992000,
          2359296000,
          2457600000,
          2555904000,
          2654208000,
          2752512000,
          2850816000,
          2949120000,
          3047424000,
          3145728000,
          3244032000,
          3342336000,
          3440640000,
          3538944000,
          3637248000,
          3735552000,
          3833856000,
          3932160000
         ],
         "y": [
          316.79328,
          352.768,
          353.5648,
          368.4224,
          391.5872,
          362.0288,
          388.7424,
          375.6416,
          367.4208,
          347.1072,
          332.848,
          308.16448,
          304.12256,
          283.98112,
          278.52352,
          256.42304,
          249.16768,
          241.01152,
          237.1616,
          225.94912,
          219.0656,
          205.23936,
          210.568,
          204.45888,
          202.79744,
          196.88928,
          194.79456,
          185.99328,
          191.55328,
          186.4272,
          186.16832,
          181.59904,
          180.70656,
          171.0768,
          175.40928,
          173.31936
         ]
        },
        {
         "line": {
          "color": "palegreen",
          "width": 3
         },
         "marker": {
          "line": {
           "color": "yellow",
           "width": 1
          },
          "size": 9,
          "symbol": "hexagon"
         },
         "mode": "lines+markers",
         "name": "1-N: AvxNonFusProb_64mpi_2omp",
         "type": "scatter",
         "x": [
          786432000,
          983040000,
          1179648000,
          1376256000,
          1572864000,
          1769472000,
          2162688000,
          1966080000,
          2359296000,
          2555904000,
          2752512000,
          2949120000,
          3145728000,
          3342336000,
          3538944000,
          3735552000,
          3932160000
         ],
         "y": [
          311.17632,
          288.01152,
          308.5984,
          289.70112,
          264.02624,
          238.5632,
          207.41312,
          220.65024,
          196.61952,
          190.17024,
          184.70656,
          180.01088,
          170.71872,
          170.35968,
          160.47424,
          161.89248,
          160.31488
         ]
        },
        {
         "line": {
          "color": "olive",
          "width": 3
         },
         "marker": {
          "line": {
           "color": "yellow",
           "width": 1
          },
          "size": 9,
          "symbol": "hexagon"
         },
         "mode": "lines+markers",
         "name": "1-N: AvxNewgeoProb_64mpi_2omp",
         "type": "scatter",
         "x": [
          786432000,
          983040000,
          1179648000,
          1376256000,
          1572864000,
          1966080000,
          1769472000,
          2359296000,
          2162688000,
          2555904000,
          2752512000,
          2949120000,
          3145728000,
          3342336000,
          3538944000,
          3735552000,
          3932160000
         ],
         "y": [
          266.41024,
          269.61152,
          264.93056,
          242.51072,
          223.49248,
          183.61664,
          197.16736,
          167.5072,
          174.85504,
          155.61024,
          153.55968,
          147.7888,
          145.39264,
          144.528,
          139.49824,
          131.30304,
          129.37344
         ]
        },
        {
         "line": {
          "color": "darkblue",
          "width": 3
         },
         "marker": {
          "line": {
           "color": "yellow",
           "width": 1
          },
          "size": 9,
          "symbol": "hexagon"
         },
         "mode": "lines+markers",
         "name": "1-N: VectFusProb_32mpi_4omp",
         "type": "scatter",
         "x": [
          491520000,
          589824000,
          688128000,
          786432000,
          884736000,
          983040000,
          1081344000,
          1179648000,
          1277952000,
          1376256000,
          1474560000,
          1572864000,
          1769472000,
          1671168000,
          1867776000,
          1966080000,
          2064384000,
          2162688000,
          2260992000,
          2359296000,
          2457600000,
          2555904000,
          2654208000,
          2752512000,
          2850816000,
          2949120000,
          3047424000,
          3145728000,
          3244032000,
          3342336000,
          3440640000,
          3538944000,
          3637248000,
          3735552000,
          3833856000,
          3932160000
         ],
         "y": [
          287.5584,
          291.552,
          309.8608,
          340.6368,
          341.616,
          342.4032,
          315.8512,
          348.0064,
          334.64,
          324.5376,
          320.4704,
          303.824,
          284.04256,
          295.816,
          270.07008,
          258.59392,
          248.40768,
          243.6336,
          234.51104,
          229.06592,
          223.99136,
          220.12544,
          209.8224,
          209.55232,
          206.52448,
          198.60736,
          198.59232,
          189.92384,
          192.21408,
          188.56928,
          187.44672,
          184.49408,
          174.83168,
          181.4912,
          178.74336,
          178.3888
         ]
        },
        {
         "line": {
          "color": "orange",
          "width": 3
         },
         "marker": {
          "line": {
           "color": "yellow",
           "width": 1
          },
          "size": 9,
          "symbol": "hexagon"
         },
         "mode": "lines+markers",
         "name": "1-N: VectNonFusProb_64mpi_2omp",
         "type": "scatter",
         "x": [
          786432000,
          983040000,
          1179648000,
          1376256000,
          1572864000,
          1769472000,
          1966080000,
          2162688000,
          2359296000,
          2555904000,
          2752512000,
          2949120000,
          3145728000,
          3342336000,
          3538944000,
          3735552000,
          3932160000
         ],
         "y": [
          281.20064,
          271.2192,
          283.89952,
          263.06112,
          252.77632,
          235.27232,
          221.42784,
          202.3168,
          196.2784,
          183.82976,
          177.66464,
          176.04224,
          174.50816,
          164.52864,
          166.09408,
          150.7296,
          158.83456
         ]
        },
        {
         "line": {
          "color": "salmon",
          "width": 3
         },
         "marker": {
          "line": {
           "color": "yellow",
           "width": 1
          },
          "size": 9,
          "symbol": "hexagon"
         },
         "mode": "lines+markers",
         "name": "1-N: VectNewgeoProb_64mpi_2omp",
         "type": "scatter",
         "x": [
          786432000,
          983040000,
          1179648000,
          1376256000,
          1572864000,
          1769472000,
          1966080000,
          2162688000,
          2359296000,
          2555904000,
          2752512000,
          2949120000,
          3145728000,
          3342336000,
          3538944000,
          3735552000,
          3932160000
         ],
         "y": [
          247.22368,
          222.02048,
          244.6368,
          229.56352,
          212.0864,
          192.6912,
          176.42176,
          174.27328,
          162.22848,
          145.14432,
          147.66464,
          140.14464,
          140.86784,
          140.2016,
          132.88192,
          137.696,
          119.36576
         ]
        },
        {
         "line": {
          "color": "royalblue",
          "width": 3
         },
         "marker": {
          "line": {
           "color": "darkblue",
           "width": 1
          },
          "size": 8,
          "symbol": "star"
         },
         "mode": "lines+markers",
         "name": "2-N: MacFusProb_128mpi_2omp",
         "type": "scatter",
         "x": [
          786432000,
          983040000,
          1179648000,
          1376256000,
          1572864000,
          1769472000,
          1966080000,
          2162688000,
          2359296000,
          2555904000,
          2752512000,
          2949120000,
          3145728000,
          3342336000,
          3538944000,
          3735552000,
          3932160000
         ],
         "y": [
          245.54368,
          249.52576,
          242.02112,
          239.62432,
          226.08384,
          224.9184,
          209.92256,
          205.76704,
          194.2624,
          193.78176,
          183.02912,
          172.81152,
          162.32704,
          175.38176,
          167.34848,
          168.944,
          162.8992
         ]
        },
        {
         "line": {
          "color": "darkred",
          "width": 3
         },
         "marker": {
          "line": {
           "color": "darkblue",
           "width": 1
          },
          "size": 8,
          "symbol": "star"
         },
         "mode": "lines+markers",
         "name": "2-N: MacNonFusNonProb_128mpi_2omp",
         "type": "scatter",
         "x": [
          983040000,
          786432000,
          1179648000,
          1376256000,
          1572864000,
          1769472000,
          1966080000,
          2162688000,
          2359296000,
          2555904000,
          2752512000,
          2949120000,
          3145728000,
          3342336000,
          3538944000,
          3735552000,
          3932160000
         ],
         "y": [
          188.10816,
          181.91744,
          216.9728,
          201.7728,
          196.24512,
          191.65696,
          178.5056,
          175.14752,
          168.03456,
          150.60672,
          158.0576,
          156.73472,
          153.4464,
          148.3008,
          137.05536,
          144.32832,
          134.11648
         ]
        },
        {
         "line": {
          "color": "darkorchid",
          "width": 3
         },
         "marker": {
          "line": {
           "color": "darkblue",
           "width": 1
          },
          "size": 8,
          "symbol": "star"
         },
         "mode": "lines+markers",
         "name": "2-N: MacNewgeoProb_64mpi_4omp",
         "type": "scatter",
         "x": [
          589824000,
          688128000,
          786432000,
          884736000,
          983040000,
          1081344000,
          1179648000,
          1277952000,
          1376256000,
          1474560000,
          1572864000,
          1671168000,
          1769472000,
          1867776000,
          1966080000,
          2064384000,
          2162688000,
          2260992000,
          2359296000,
          2457600000,
          2555904000,
          2654208000,
          2752512000,
          2850816000,
          2949120000,
          3047424000,
          3145728000,
          3244032000,
          3342336000,
          3440640000,
          3538944000,
          3637248000,
          3735552000,
          3833856000,
          3932160000
         ],
         "y": [
          176.95744,
          181.07072,
          184.672,
          183.51168,
          191.6096,
          193.89664,
          194.91712,
          187.70432,
          170.90944,
          183.55168,
          186.12,
          181.07072,
          170.70784,
          170.64896,
          167.8688,
          158.13248,
          154.9344,
          155.93504,
          151.37248,
          148.09536,
          143.21216,
          140.95488,
          138.73152,
          141.344,
          128.03904,
          136.08544,
          133.69696,
          129.61728,
          125.77632,
          132.16224,
          126.23776,
          127.24096,
          119.88032,
          119.33184,
          116.9072
         ]
        },
        {
         "line": {
          "color": "magenta",
          "width": 3
         },
         "marker": {
          "line": {
           "color": "darkblue",
           "width": 1
          },
          "size": 8,
          "symbol": "star"
         },
         "mode": "lines+markers",
         "name": "2-N: AvxFusNonProb_64mpi_4omp",
         "type": "scatter",
         "x": [
          589824000,
          688128000,
          786432000,
          884736000,
          983040000,
          1081344000,
          1179648000,
          1277952000,
          1376256000,
          1474560000,
          1572864000,
          1671168000,
          1769472000,
          1867776000,
          1966080000,
          2064384000,
          2162688000,
          2260992000,
          2359296000,
          2457600000,
          2555904000,
          2654208000,
          2752512000,
          2850816000,
          2949120000,
          3047424000,
          3145728000,
          3244032000,
          3342336000,
          3440640000,
          3538944000,
          3637248000,
          3735552000,
          3833856000,
          3932160000
         ],
         "y": [
          324.1184,
          351.8144,
          380.88,
          357.6992,
          384.64,
          374.6336,
          388.16,
          352.8256,
          346.5504,
          338.5024,
          317.99168,
          291.49088,
          259.31104,
          276.19008,
          257.328,
          227.81952,
          242.31552,
          235.81504,
          223.1408,
          215.3792,
          215.44672,
          212.26272,
          200.76352,
          200.65824,
          198.38016,
          195.12288,
          185.1952,
          189.56704,
          188.93856,
          184.75808,
          174.44832,
          176.88224,
          178.35904,
          177.04544,
          162.7712
         ]
        },
        {
         "line": {
          "color": "palegreen",
          "width": 3
         },
         "marker": {
          "line": {
           "color": "darkblue",
           "width": 1
          },
          "size": 8,
          "symbol": "star"
         },
         "mode": "lines+markers",
         "name": "2-N: AvxNonFusNonProb_128mpi_2omp",
         "type": "scatter",
         "x": [
          786432000,
          983040000,
          1179648000,
          1376256000,
          1572864000,
          1769472000,
          1966080000,
          2162688000,
          2359296000,
          2555904000,
          2752512000,
          2949120000,
          3145728000,
          3342336000,
          3538944000,
          3735552000
         ],
         "y": [
          328.3168,
          321.65952,
          303.1104,
          273.57632,
          250.0768,
          236.19712,
          221.09184,
          206.33152,
          192.68992,
          187.91808,
          180.80832,
          177.89376,
          162.88832,
          165.24352,
          166.10304,
          163.87264
         ]
        },
        {
         "line": {
          "color": "olive",
          "width": 3
         },
         "marker": {
          "line": {
           "color": "darkblue",
           "width": 1
          },
          "size": 8,
          "symbol": "star"
         },
         "mode": "lines+markers",
         "name": "2-N: AvxNewgeoProb_64mpi_4omp",
         "type": "scatter",
         "x": [
          688128000,
          589824000,
          786432000,
          884736000,
          983040000,
          1081344000,
          1179648000,
          1277952000,
          1376256000,
          1572864000,
          1474560000,
          1671168000,
          1769472000,
          1867776000,
          2064384000,
          2162688000,
          2260992000,
          2359296000,
          2457600000,
          2555904000,
          2752512000,
          2654208000,
          2850816000,
          2949120000,
          3047424000,
          3145728000,
          3244032000,
          3342336000,
          3440640000,
          3538944000,
          3637248000,
          3735552000,
          3833856000,
          3932160000
         ],
         "y": [
          248.6528,
          237.20096,
          260.76736,
          257.73952,
          253.08096,
          268.43264,
          265.04064,
          253.73024,
          240.584,
          207.31072,
          236.33472,
          200.15104,
          200.78912,
          196.32896,
          178.79072,
          173.27456,
          172.96128,
          163.8816,
          161.55264,
          160.4656,
          149.81504,
          156.51424,
          151.36864,
          148.03776,
          133.93728,
          145.44832,
          142.21728,
          141.06784,
          137.67936,
          138.09344,
          139.01184,
          135.63744,
          128.56128,
          129.37472
         ]
        },
        {
         "line": {
          "color": "darkblue",
          "width": 3
         },
         "marker": {
          "line": {
           "color": "darkblue",
           "width": 1
          },
          "size": 8,
          "symbol": "star"
         },
         "mode": "lines+markers",
         "name": "2-N: VectFusProb_64mpi_4omp",
         "type": "scatter",
         "x": [
          589824000,
          688128000,
          786432000,
          884736000,
          983040000,
          1081344000,
          1179648000,
          1277952000,
          1376256000,
          1474560000,
          1572864000,
          1671168000,
          1769472000,
          1867776000,
          1966080000,
          2064384000,
          2162688000,
          2260992000,
          2359296000,
          2457600000,
          2555904000,
          2654208000,
          2752512000,
          2850816000,
          2949120000,
          3047424000,
          3145728000,
          3244032000,
          3342336000,
          3440640000,
          3637248000,
          3538944000,
          3735552000,
          3833856000,
          3932160000
         ],
         "y": [
          312.272,
          322.5536,
          324.2336,
          349.0176,
          353.7696,
          339.152,
          342.7712,
          338.0224,
          322.6048,
          307.8352,
          301.27488,
          282.72416,
          279.24256,
          265.04032,
          249.89728,
          248.8208,
          242.68512,
          235.57824,
          217.1536,
          218.28832,
          215.21824,
          214.74176,
          208.57024,
          202.59968,
          197.68832,
          191.3504,
          194.36352,
          192.89664,
          187.34912,
          182.89408,
          170.29312,
          185.7712,
          181.62784,
          177.13056,
          174.96384
         ]
        },
        {
         "line": {
          "color": "orange",
          "width": 3
         },
         "marker": {
          "line": {
           "color": "darkblue",
           "width": 1
          },
          "size": 8,
          "symbol": "star"
         },
         "mode": "lines+markers",
         "name": "2-N: VectNonFusNonProb_128mpi_2omp",
         "type": "scatter",
         "x": [
          786432000,
          983040000,
          1179648000,
          1376256000,
          1572864000,
          1769472000,
          1966080000,
          2162688000,
          2359296000,
          2555904000,
          2752512000,
          2949120000,
          3145728000,
          3342336000,
          3538944000,
          3932160000,
          3735552000
         ],
         "y": [
          279.888,
          288.65024,
          284.5312,
          262.8704,
          216.63552,
          228.26048,
          194.8768,
          200.34624,
          196.26752,
          186.69504,
          180.64896,
          161.98976,
          167.2064,
          168.27968,
          165.86752,
          157.23392,
          158.37888
         ]
        },
        {
         "line": {
          "color": "salmon",
          "width": 3
         },
         "marker": {
          "line": {
           "color": "darkblue",
           "width": 1
          },
          "size": 8,
          "symbol": "star"
         },
         "mode": "lines+markers",
         "name": "2-N: VectNewgeoProb_64mpi_4omp",
         "type": "scatter",
         "x": [
          589824000,
          688128000,
          786432000,
          884736000,
          983040000,
          1081344000,
          1179648000,
          1277952000,
          1376256000,
          1474560000,
          1572864000,
          1671168000,
          1769472000,
          1867776000,
          1966080000,
          2064384000,
          2162688000,
          2260992000,
          2359296000,
          2457600000,
          2555904000,
          2654208000,
          2752512000,
          2850816000,
          2949120000,
          3047424000,
          3145728000,
          3244032000,
          3342336000,
          3440640000,
          3637248000,
          3735552000,
          3932160000,
          3833856000
         ],
         "y": [
          219.01024,
          225.8608,
          231.1632,
          231.05248,
          213.1376,
          239.33888,
          232.66272,
          241.84544,
          232.59104,
          219.32768,
          206.84704,
          204.23488,
          193.69344,
          195.00288,
          186.86528,
          170.66848,
          171.7216,
          173.1472,
          165.11648,
          165.0384,
          147.34624,
          151.36576,
          150.0112,
          152.4976,
          146.73664,
          144.80416,
          143.67008,
          139.31072,
          136.7696,
          142.17376,
          139.61024,
          128.89888,
          126.42816,
          126.50752
         ]
        }
       ],
       "layout": {
        "annotations": [
         {
          "align": "left",
          "arrowcolor": "#636363",
          "arrowhead": 1,
          "arrowsize": 1,
          "arrowwidth": 2,
          "ax": -20,
          "ay": -30,
          "font": {
           "color": "purple",
           "family": "Sans Serif",
           "size": 12
          },
          "showarrow": false,
          "text": "LLC Size Per Node",
          "x": "512e6",
          "y": 130,
          "yanchor": "bottom"
         }
        ],
        "legend": {
         "bordercolor": "black",
         "borderwidth": 1
        },
        "shapes": [
         {
          "line": {
           "color": "green",
           "dash": "dash",
           "width": 3
          },
          "type": "line",
          "x0": 512000000,
          "x1": 512000000,
          "xref": "x",
          "y0": 0,
          "y1": 1,
          "yref": "y domain"
         }
        ],
        "template": {
         "data": {
          "bar": [
           {
            "error_x": {
             "color": "#2a3f5f"
            },
            "error_y": {
             "color": "#2a3f5f"
            },
            "marker": {
             "line": {
              "color": "#E5ECF6",
              "width": 0.5
             },
             "pattern": {
              "fillmode": "overlay",
              "size": 10,
              "solidity": 0.2
             }
            },
            "type": "bar"
           }
          ],
          "barpolar": [
           {
            "marker": {
             "line": {
              "color": "#E5ECF6",
              "width": 0.5
             },
             "pattern": {
              "fillmode": "overlay",
              "size": 10,
              "solidity": 0.2
             }
            },
            "type": "barpolar"
           }
          ],
          "carpet": [
           {
            "aaxis": {
             "endlinecolor": "#2a3f5f",
             "gridcolor": "white",
             "linecolor": "white",
             "minorgridcolor": "white",
             "startlinecolor": "#2a3f5f"
            },
            "baxis": {
             "endlinecolor": "#2a3f5f",
             "gridcolor": "white",
             "linecolor": "white",
             "minorgridcolor": "white",
             "startlinecolor": "#2a3f5f"
            },
            "type": "carpet"
           }
          ],
          "choropleth": [
           {
            "colorbar": {
             "outlinewidth": 0,
             "ticks": ""
            },
            "type": "choropleth"
           }
          ],
          "contour": [
           {
            "colorbar": {
             "outlinewidth": 0,
             "ticks": ""
            },
            "colorscale": [
             [
              0,
              "#0d0887"
             ],
             [
              0.1111111111111111,
              "#46039f"
             ],
             [
              0.2222222222222222,
              "#7201a8"
             ],
             [
              0.3333333333333333,
              "#9c179e"
             ],
             [
              0.4444444444444444,
              "#bd3786"
             ],
             [
              0.5555555555555556,
              "#d8576b"
             ],
             [
              0.6666666666666666,
              "#ed7953"
             ],
             [
              0.7777777777777778,
              "#fb9f3a"
             ],
             [
              0.8888888888888888,
              "#fdca26"
             ],
             [
              1,
              "#f0f921"
             ]
            ],
            "type": "contour"
           }
          ],
          "contourcarpet": [
           {
            "colorbar": {
             "outlinewidth": 0,
             "ticks": ""
            },
            "type": "contourcarpet"
           }
          ],
          "heatmap": [
           {
            "colorbar": {
             "outlinewidth": 0,
             "ticks": ""
            },
            "colorscale": [
             [
              0,
              "#0d0887"
             ],
             [
              0.1111111111111111,
              "#46039f"
             ],
             [
              0.2222222222222222,
              "#7201a8"
             ],
             [
              0.3333333333333333,
              "#9c179e"
             ],
             [
              0.4444444444444444,
              "#bd3786"
             ],
             [
              0.5555555555555556,
              "#d8576b"
             ],
             [
              0.6666666666666666,
              "#ed7953"
             ],
             [
              0.7777777777777778,
              "#fb9f3a"
             ],
             [
              0.8888888888888888,
              "#fdca26"
             ],
             [
              1,
              "#f0f921"
             ]
            ],
            "type": "heatmap"
           }
          ],
          "heatmapgl": [
           {
            "colorbar": {
             "outlinewidth": 0,
             "ticks": ""
            },
            "colorscale": [
             [
              0,
              "#0d0887"
             ],
             [
              0.1111111111111111,
              "#46039f"
             ],
             [
              0.2222222222222222,
              "#7201a8"
             ],
             [
              0.3333333333333333,
              "#9c179e"
             ],
             [
              0.4444444444444444,
              "#bd3786"
             ],
             [
              0.5555555555555556,
              "#d8576b"
             ],
             [
              0.6666666666666666,
              "#ed7953"
             ],
             [
              0.7777777777777778,
              "#fb9f3a"
             ],
             [
              0.8888888888888888,
              "#fdca26"
             ],
             [
              1,
              "#f0f921"
             ]
            ],
            "type": "heatmapgl"
           }
          ],
          "histogram": [
           {
            "marker": {
             "pattern": {
              "fillmode": "overlay",
              "size": 10,
              "solidity": 0.2
             }
            },
            "type": "histogram"
           }
          ],
          "histogram2d": [
           {
            "colorbar": {
             "outlinewidth": 0,
             "ticks": ""
            },
            "colorscale": [
             [
              0,
              "#0d0887"
             ],
             [
              0.1111111111111111,
              "#46039f"
             ],
             [
              0.2222222222222222,
              "#7201a8"
             ],
             [
              0.3333333333333333,
              "#9c179e"
             ],
             [
              0.4444444444444444,
              "#bd3786"
             ],
             [
              0.5555555555555556,
              "#d8576b"
             ],
             [
              0.6666666666666666,
              "#ed7953"
             ],
             [
              0.7777777777777778,
              "#fb9f3a"
             ],
             [
              0.8888888888888888,
              "#fdca26"
             ],
             [
              1,
              "#f0f921"
             ]
            ],
            "type": "histogram2d"
           }
          ],
          "histogram2dcontour": [
           {
            "colorbar": {
             "outlinewidth": 0,
             "ticks": ""
            },
            "colorscale": [
             [
              0,
              "#0d0887"
             ],
             [
              0.1111111111111111,
              "#46039f"
             ],
             [
              0.2222222222222222,
              "#7201a8"
             ],
             [
              0.3333333333333333,
              "#9c179e"
             ],
             [
              0.4444444444444444,
              "#bd3786"
             ],
             [
              0.5555555555555556,
              "#d8576b"
             ],
             [
              0.6666666666666666,
              "#ed7953"
             ],
             [
              0.7777777777777778,
              "#fb9f3a"
             ],
             [
              0.8888888888888888,
              "#fdca26"
             ],
             [
              1,
              "#f0f921"
             ]
            ],
            "type": "histogram2dcontour"
           }
          ],
          "mesh3d": [
           {
            "colorbar": {
             "outlinewidth": 0,
             "ticks": ""
            },
            "type": "mesh3d"
           }
          ],
          "parcoords": [
           {
            "line": {
             "colorbar": {
              "outlinewidth": 0,
              "ticks": ""
             }
            },
            "type": "parcoords"
           }
          ],
          "pie": [
           {
            "automargin": true,
            "type": "pie"
           }
          ],
          "scatter": [
           {
            "fillpattern": {
             "fillmode": "overlay",
             "size": 10,
             "solidity": 0.2
            },
            "type": "scatter"
           }
          ],
          "scatter3d": [
           {
            "line": {
             "colorbar": {
              "outlinewidth": 0,
              "ticks": ""
             }
            },
            "marker": {
             "colorbar": {
              "outlinewidth": 0,
              "ticks": ""
             }
            },
            "type": "scatter3d"
           }
          ],
          "scattercarpet": [
           {
            "marker": {
             "colorbar": {
              "outlinewidth": 0,
              "ticks": ""
             }
            },
            "type": "scattercarpet"
           }
          ],
          "scattergeo": [
           {
            "marker": {
             "colorbar": {
              "outlinewidth": 0,
              "ticks": ""
             }
            },
            "type": "scattergeo"
           }
          ],
          "scattergl": [
           {
            "marker": {
             "colorbar": {
              "outlinewidth": 0,
              "ticks": ""
             }
            },
            "type": "scattergl"
           }
          ],
          "scattermapbox": [
           {
            "marker": {
             "colorbar": {
              "outlinewidth": 0,
              "ticks": ""
             }
            },
            "type": "scattermapbox"
           }
          ],
          "scatterpolar": [
           {
            "marker": {
             "colorbar": {
              "outlinewidth": 0,
              "ticks": ""
             }
            },
            "type": "scatterpolar"
           }
          ],
          "scatterpolargl": [
           {
            "marker": {
             "colorbar": {
              "outlinewidth": 0,
              "ticks": ""
             }
            },
            "type": "scatterpolargl"
           }
          ],
          "scatterternary": [
           {
            "marker": {
             "colorbar": {
              "outlinewidth": 0,
              "ticks": ""
             }
            },
            "type": "scatterternary"
           }
          ],
          "surface": [
           {
            "colorbar": {
             "outlinewidth": 0,
             "ticks": ""
            },
            "colorscale": [
             [
              0,
              "#0d0887"
             ],
             [
              0.1111111111111111,
              "#46039f"
             ],
             [
              0.2222222222222222,
              "#7201a8"
             ],
             [
              0.3333333333333333,
              "#9c179e"
             ],
             [
              0.4444444444444444,
              "#bd3786"
             ],
             [
              0.5555555555555556,
              "#d8576b"
             ],
             [
              0.6666666666666666,
              "#ed7953"
             ],
             [
              0.7777777777777778,
              "#fb9f3a"
             ],
             [
              0.8888888888888888,
              "#fdca26"
             ],
             [
              1,
              "#f0f921"
             ]
            ],
            "type": "surface"
           }
          ],
          "table": [
           {
            "cells": {
             "fill": {
              "color": "#EBF0F8"
             },
             "line": {
              "color": "white"
             }
            },
            "header": {
             "fill": {
              "color": "#C8D4E3"
             },
             "line": {
              "color": "white"
             }
            },
            "type": "table"
           }
          ]
         },
         "layout": {
          "annotationdefaults": {
           "arrowcolor": "#2a3f5f",
           "arrowhead": 0,
           "arrowwidth": 1
          },
          "autotypenumbers": "strict",
          "coloraxis": {
           "colorbar": {
            "outlinewidth": 0,
            "ticks": ""
           }
          },
          "colorscale": {
           "diverging": [
            [
             0,
             "#8e0152"
            ],
            [
             0.1,
             "#c51b7d"
            ],
            [
             0.2,
             "#de77ae"
            ],
            [
             0.3,
             "#f1b6da"
            ],
            [
             0.4,
             "#fde0ef"
            ],
            [
             0.5,
             "#f7f7f7"
            ],
            [
             0.6,
             "#e6f5d0"
            ],
            [
             0.7,
             "#b8e186"
            ],
            [
             0.8,
             "#7fbc41"
            ],
            [
             0.9,
             "#4d9221"
            ],
            [
             1,
             "#276419"
            ]
           ],
           "sequential": [
            [
             0,
             "#0d0887"
            ],
            [
             0.1111111111111111,
             "#46039f"
            ],
            [
             0.2222222222222222,
             "#7201a8"
            ],
            [
             0.3333333333333333,
             "#9c179e"
            ],
            [
             0.4444444444444444,
             "#bd3786"
            ],
            [
             0.5555555555555556,
             "#d8576b"
            ],
            [
             0.6666666666666666,
             "#ed7953"
            ],
            [
             0.7777777777777778,
             "#fb9f3a"
            ],
            [
             0.8888888888888888,
             "#fdca26"
            ],
            [
             1,
             "#f0f921"
            ]
           ],
           "sequentialminus": [
            [
             0,
             "#0d0887"
            ],
            [
             0.1111111111111111,
             "#46039f"
            ],
            [
             0.2222222222222222,
             "#7201a8"
            ],
            [
             0.3333333333333333,
             "#9c179e"
            ],
            [
             0.4444444444444444,
             "#bd3786"
            ],
            [
             0.5555555555555556,
             "#d8576b"
            ],
            [
             0.6666666666666666,
             "#ed7953"
            ],
            [
             0.7777777777777778,
             "#fb9f3a"
            ],
            [
             0.8888888888888888,
             "#fdca26"
            ],
            [
             1,
             "#f0f921"
            ]
           ]
          },
          "colorway": [
           "#636efa",
           "#EF553B",
           "#00cc96",
           "#ab63fa",
           "#FFA15A",
           "#19d3f3",
           "#FF6692",
           "#B6E880",
           "#FF97FF",
           "#FECB52"
          ],
          "font": {
           "color": "#2a3f5f"
          },
          "geo": {
           "bgcolor": "white",
           "lakecolor": "white",
           "landcolor": "#E5ECF6",
           "showlakes": true,
           "showland": true,
           "subunitcolor": "white"
          },
          "hoverlabel": {
           "align": "left"
          },
          "hovermode": "closest",
          "mapbox": {
           "style": "light"
          },
          "paper_bgcolor": "white",
          "plot_bgcolor": "#E5ECF6",
          "polar": {
           "angularaxis": {
            "gridcolor": "white",
            "linecolor": "white",
            "ticks": ""
           },
           "bgcolor": "#E5ECF6",
           "radialaxis": {
            "gridcolor": "white",
            "linecolor": "white",
            "ticks": ""
           }
          },
          "scene": {
           "xaxis": {
            "backgroundcolor": "#E5ECF6",
            "gridcolor": "white",
            "gridwidth": 2,
            "linecolor": "white",
            "showbackground": true,
            "ticks": "",
            "zerolinecolor": "white"
           },
           "yaxis": {
            "backgroundcolor": "#E5ECF6",
            "gridcolor": "white",
            "gridwidth": 2,
            "linecolor": "white",
            "showbackground": true,
            "ticks": "",
            "zerolinecolor": "white"
           },
           "zaxis": {
            "backgroundcolor": "#E5ECF6",
            "gridcolor": "white",
            "gridwidth": 2,
            "linecolor": "white",
            "showbackground": true,
            "ticks": "",
            "zerolinecolor": "white"
           }
          },
          "shapedefaults": {
           "line": {
            "color": "#2a3f5f"
           }
          },
          "ternary": {
           "aaxis": {
            "gridcolor": "white",
            "linecolor": "white",
            "ticks": ""
           },
           "baxis": {
            "gridcolor": "white",
            "linecolor": "white",
            "ticks": ""
           },
           "bgcolor": "#E5ECF6",
           "caxis": {
            "gridcolor": "white",
            "linecolor": "white",
            "ticks": ""
           }
          },
          "title": {
           "x": 0.05
          },
          "xaxis": {
           "automargin": true,
           "gridcolor": "white",
           "linecolor": "white",
           "ticks": "",
           "title": {
            "standoff": 15
           },
           "zerolinecolor": "white",
           "zerolinewidth": 2
          },
          "yaxis": {
           "automargin": true,
           "gridcolor": "white",
           "linecolor": "white",
           "ticks": "",
           "title": {
            "standoff": 15
           },
           "zerolinecolor": "white",
           "zerolinewidth": 2
          }
         }
        },
        "title": {
         "text": "\"HIPPO Best Case\" GFlops Measurement"
        },
        "xaxis": {
         "ticks": "outside",
         "title": {
          "text": "Dirc_Data_Mov"
         }
        },
        "yaxis": {
         "ticks": "outside",
         "title": {
          "text": "GFLOPs/Node"
         }
        }
       }
      },
      "text/html": [
       "<div>                            <div id=\"c7f66d65-eb7e-4062-9046-7a0123148987\" class=\"plotly-graph-div\" style=\"height:525px; width:100%;\"></div>            <script type=\"text/javascript\">                require([\"plotly\"], function(Plotly) {                    window.PLOTLYENV=window.PLOTLYENV || {};                                    if (document.getElementById(\"c7f66d65-eb7e-4062-9046-7a0123148987\")) {                    Plotly.newPlot(                        \"c7f66d65-eb7e-4062-9046-7a0123148987\",                        [{\"line\":{\"color\":\"royalblue\",\"width\":3},\"marker\":{\"line\":{\"color\":\"yellow\",\"width\":1},\"size\":9,\"symbol\":\"hexagon\"},\"mode\":\"lines+markers\",\"name\":\"1-N: MacroFusProb_64mpi_2omp\",\"x\":[786432000.0,983040000.0,1179648000.0,1376256000.0,1572864000.0,1769472000.0,1966080000.0,2162688000.0,2359296000.0,2555904000.0,2752512000.0,2949120000.0,3145728000.0,3342336000.0,3538944000.0,3932160000.0],\"y\":[242.64192,235.68128,246.96384,241.49312,234.45312,227.152,215.8144,196.91072,198.33344,194.80128,188.47232,183.89056,179.45088,175.66016,166.83584,166.29248],\"type\":\"scatter\"},{\"line\":{\"color\":\"darkred\",\"width\":3},\"marker\":{\"line\":{\"color\":\"yellow\",\"width\":1},\"size\":9,\"symbol\":\"hexagon\"},\"mode\":\"lines+markers\",\"name\":\"1-N: MacroNonFusProb_64mpi_2omp\",\"x\":[786432000.0,983040000.0,1179648000.0,1376256000.0,1769472000.0,1572864000.0,2162688000.0,1966080000.0,2555904000.0,2359296000.0,2752512000.0,2949120000.0,3145728000.0,3342336000.0,3538944000.0,3735552000.0,3932160000.0],\"y\":[214.75264,214.7616,198.0192,209.27168,192.78976,200.66944,177.92832,185.52256,165.66464,162.6048,157.26272,155.91104,156.6368,150.65728,147.5168,140.78784,144.53888],\"type\":\"scatter\"},{\"line\":{\"color\":\"darkorchid\",\"width\":3},\"marker\":{\"line\":{\"color\":\"yellow\",\"width\":1},\"size\":9,\"symbol\":\"hexagon\"},\"mode\":\"lines+markers\",\"name\":\"1-N: MacroNewgeoProb_64mpi_2omp\",\"x\":[786432000.0,983040000.0,1179648000.0,1376256000.0,1572864000.0,1966080000.0,1769472000.0,2162688000.0,2555904000.0,2359296000.0,2752512000.0,2949120000.0,3145728000.0,3342336000.0,3538944000.0,3735552000.0,3932160000.0],\"y\":[192.73408,197.07904,195.34464,188.32192,185.2096,160.0256,168.24832,155.03488,147.66656,149.77088,138.76672,133.92512,135.02592,129.2288,122.74432,128.624,120.28288],\"type\":\"scatter\"},{\"line\":{\"color\":\"magenta\",\"width\":3},\"marker\":{\"line\":{\"color\":\"yellow\",\"width\":1},\"size\":9,\"symbol\":\"hexagon\"},\"mode\":\"lines+markers\",\"name\":\"1-N: AvxFusProb_32mpi_4omp\",\"x\":[491520000.0,589824000.0,688128000.0,786432000.0,884736000.0,983040000.0,1081344000.0,1179648000.0,1277952000.0,1376256000.0,1474560000.0,1572864000.0,1671168000.0,1769472000.0,1867776000.0,1966080000.0,2064384000.0,2162688000.0,2260992000.0,2359296000.0,2457600000.0,2555904000.0,2654208000.0,2752512000.0,2850816000.0,2949120000.0,3047424000.0,3145728000.0,3244032000.0,3342336000.0,3440640000.0,3538944000.0,3637248000.0,3735552000.0,3833856000.0,3932160000.0],\"y\":[316.79328,352.768,353.5648,368.4224,391.5872,362.0288,388.7424,375.6416,367.4208,347.1072,332.848,308.16448,304.12256,283.98112,278.52352,256.42304,249.16768,241.01152,237.1616,225.94912,219.0656,205.23936,210.568,204.45888,202.79744,196.88928,194.79456,185.99328,191.55328,186.4272,186.16832,181.59904,180.70656,171.0768,175.40928,173.31936],\"type\":\"scatter\"},{\"line\":{\"color\":\"palegreen\",\"width\":3},\"marker\":{\"line\":{\"color\":\"yellow\",\"width\":1},\"size\":9,\"symbol\":\"hexagon\"},\"mode\":\"lines+markers\",\"name\":\"1-N: AvxNonFusProb_64mpi_2omp\",\"x\":[786432000.0,983040000.0,1179648000.0,1376256000.0,1572864000.0,1769472000.0,2162688000.0,1966080000.0,2359296000.0,2555904000.0,2752512000.0,2949120000.0,3145728000.0,3342336000.0,3538944000.0,3735552000.0,3932160000.0],\"y\":[311.17632,288.01152,308.5984,289.70112,264.02624,238.5632,207.41312,220.65024,196.61952,190.17024,184.70656,180.01088,170.71872,170.35968,160.47424,161.89248,160.31488],\"type\":\"scatter\"},{\"line\":{\"color\":\"olive\",\"width\":3},\"marker\":{\"line\":{\"color\":\"yellow\",\"width\":1},\"size\":9,\"symbol\":\"hexagon\"},\"mode\":\"lines+markers\",\"name\":\"1-N: AvxNewgeoProb_64mpi_2omp\",\"x\":[786432000.0,983040000.0,1179648000.0,1376256000.0,1572864000.0,1966080000.0,1769472000.0,2359296000.0,2162688000.0,2555904000.0,2752512000.0,2949120000.0,3145728000.0,3342336000.0,3538944000.0,3735552000.0,3932160000.0],\"y\":[266.41024,269.61152,264.93056,242.51072,223.49248,183.61664,197.16736,167.5072,174.85504,155.61024,153.55968,147.7888,145.39264,144.528,139.49824,131.30304,129.37344],\"type\":\"scatter\"},{\"line\":{\"color\":\"darkblue\",\"width\":3},\"marker\":{\"line\":{\"color\":\"yellow\",\"width\":1},\"size\":9,\"symbol\":\"hexagon\"},\"mode\":\"lines+markers\",\"name\":\"1-N: VectFusProb_32mpi_4omp\",\"x\":[491520000.0,589824000.0,688128000.0,786432000.0,884736000.0,983040000.0,1081344000.0,1179648000.0,1277952000.0,1376256000.0,1474560000.0,1572864000.0,1769472000.0,1671168000.0,1867776000.0,1966080000.0,2064384000.0,2162688000.0,2260992000.0,2359296000.0,2457600000.0,2555904000.0,2654208000.0,2752512000.0,2850816000.0,2949120000.0,3047424000.0,3145728000.0,3244032000.0,3342336000.0,3440640000.0,3538944000.0,3637248000.0,3735552000.0,3833856000.0,3932160000.0],\"y\":[287.5584,291.552,309.8608,340.6368,341.616,342.4032,315.8512,348.0064,334.64,324.5376,320.4704,303.824,284.04256,295.816,270.07008,258.59392,248.40768,243.6336,234.51104,229.06592,223.99136,220.12544,209.8224,209.55232,206.52448,198.60736,198.59232,189.92384,192.21408,188.56928,187.44672,184.49408,174.83168,181.4912,178.74336,178.3888],\"type\":\"scatter\"},{\"line\":{\"color\":\"orange\",\"width\":3},\"marker\":{\"line\":{\"color\":\"yellow\",\"width\":1},\"size\":9,\"symbol\":\"hexagon\"},\"mode\":\"lines+markers\",\"name\":\"1-N: VectNonFusProb_64mpi_2omp\",\"x\":[786432000.0,983040000.0,1179648000.0,1376256000.0,1572864000.0,1769472000.0,1966080000.0,2162688000.0,2359296000.0,2555904000.0,2752512000.0,2949120000.0,3145728000.0,3342336000.0,3538944000.0,3735552000.0,3932160000.0],\"y\":[281.20064,271.2192,283.89952,263.06112,252.77632,235.27232,221.42784,202.3168,196.2784,183.82976,177.66464,176.04224,174.50816,164.52864,166.09408,150.7296,158.83456],\"type\":\"scatter\"},{\"line\":{\"color\":\"salmon\",\"width\":3},\"marker\":{\"line\":{\"color\":\"yellow\",\"width\":1},\"size\":9,\"symbol\":\"hexagon\"},\"mode\":\"lines+markers\",\"name\":\"1-N: VectNewgeoProb_64mpi_2omp\",\"x\":[786432000.0,983040000.0,1179648000.0,1376256000.0,1572864000.0,1769472000.0,1966080000.0,2162688000.0,2359296000.0,2555904000.0,2752512000.0,2949120000.0,3145728000.0,3342336000.0,3538944000.0,3735552000.0,3932160000.0],\"y\":[247.22368,222.02048,244.6368,229.56352,212.0864,192.6912,176.42176,174.27328,162.22848,145.14432,147.66464,140.14464,140.86784,140.2016,132.88192,137.696,119.36576],\"type\":\"scatter\"},{\"line\":{\"color\":\"royalblue\",\"width\":3},\"marker\":{\"line\":{\"color\":\"darkblue\",\"width\":1},\"size\":8,\"symbol\":\"star\"},\"mode\":\"lines+markers\",\"name\":\"2-N: MacFusProb_128mpi_2omp\",\"x\":[786432000.0,983040000.0,1179648000.0,1376256000.0,1572864000.0,1769472000.0,1966080000.0,2162688000.0,2359296000.0,2555904000.0,2752512000.0,2949120000.0,3145728000.0,3342336000.0,3538944000.0,3735552000.0,3932160000.0],\"y\":[245.54368,249.52576,242.02112,239.62432,226.08384,224.9184,209.92256,205.76704,194.2624,193.78176,183.02912,172.81152,162.32704,175.38176,167.34848,168.944,162.8992],\"type\":\"scatter\"},{\"line\":{\"color\":\"darkred\",\"width\":3},\"marker\":{\"line\":{\"color\":\"darkblue\",\"width\":1},\"size\":8,\"symbol\":\"star\"},\"mode\":\"lines+markers\",\"name\":\"2-N: MacNonFusNonProb_128mpi_2omp\",\"x\":[983040000.0,786432000.0,1179648000.0,1376256000.0,1572864000.0,1769472000.0,1966080000.0,2162688000.0,2359296000.0,2555904000.0,2752512000.0,2949120000.0,3145728000.0,3342336000.0,3538944000.0,3735552000.0,3932160000.0],\"y\":[188.10816,181.91744,216.9728,201.7728,196.24512,191.65696,178.5056,175.14752,168.03456,150.60672,158.0576,156.73472,153.4464,148.3008,137.05536,144.32832,134.11648],\"type\":\"scatter\"},{\"line\":{\"color\":\"darkorchid\",\"width\":3},\"marker\":{\"line\":{\"color\":\"darkblue\",\"width\":1},\"size\":8,\"symbol\":\"star\"},\"mode\":\"lines+markers\",\"name\":\"2-N: MacNewgeoProb_64mpi_4omp\",\"x\":[589824000.0,688128000.0,786432000.0,884736000.0,983040000.0,1081344000.0,1179648000.0,1277952000.0,1376256000.0,1474560000.0,1572864000.0,1671168000.0,1769472000.0,1867776000.0,1966080000.0,2064384000.0,2162688000.0,2260992000.0,2359296000.0,2457600000.0,2555904000.0,2654208000.0,2752512000.0,2850816000.0,2949120000.0,3047424000.0,3145728000.0,3244032000.0,3342336000.0,3440640000.0,3538944000.0,3637248000.0,3735552000.0,3833856000.0,3932160000.0],\"y\":[176.95744,181.07072,184.672,183.51168,191.6096,193.89664,194.91712,187.70432,170.90944,183.55168,186.12,181.07072,170.70784,170.64896,167.8688,158.13248,154.9344,155.93504,151.37248,148.09536,143.21216,140.95488,138.73152,141.344,128.03904,136.08544,133.69696,129.61728,125.77632,132.16224,126.23776,127.24096,119.88032,119.33184,116.9072],\"type\":\"scatter\"},{\"line\":{\"color\":\"magenta\",\"width\":3},\"marker\":{\"line\":{\"color\":\"darkblue\",\"width\":1},\"size\":8,\"symbol\":\"star\"},\"mode\":\"lines+markers\",\"name\":\"2-N: AvxFusNonProb_64mpi_4omp\",\"x\":[589824000.0,688128000.0,786432000.0,884736000.0,983040000.0,1081344000.0,1179648000.0,1277952000.0,1376256000.0,1474560000.0,1572864000.0,1671168000.0,1769472000.0,1867776000.0,1966080000.0,2064384000.0,2162688000.0,2260992000.0,2359296000.0,2457600000.0,2555904000.0,2654208000.0,2752512000.0,2850816000.0,2949120000.0,3047424000.0,3145728000.0,3244032000.0,3342336000.0,3440640000.0,3538944000.0,3637248000.0,3735552000.0,3833856000.0,3932160000.0],\"y\":[324.1184,351.8144,380.88,357.6992,384.64,374.6336,388.16,352.8256,346.5504,338.5024,317.99168,291.49088,259.31104,276.19008,257.328,227.81952,242.31552,235.81504,223.1408,215.3792,215.44672,212.26272,200.76352,200.65824,198.38016,195.12288,185.1952,189.56704,188.93856,184.75808,174.44832,176.88224,178.35904,177.04544,162.7712],\"type\":\"scatter\"},{\"line\":{\"color\":\"palegreen\",\"width\":3},\"marker\":{\"line\":{\"color\":\"darkblue\",\"width\":1},\"size\":8,\"symbol\":\"star\"},\"mode\":\"lines+markers\",\"name\":\"2-N: AvxNonFusNonProb_128mpi_2omp\",\"x\":[786432000.0,983040000.0,1179648000.0,1376256000.0,1572864000.0,1769472000.0,1966080000.0,2162688000.0,2359296000.0,2555904000.0,2752512000.0,2949120000.0,3145728000.0,3342336000.0,3538944000.0,3735552000.0],\"y\":[328.3168,321.65952,303.1104,273.57632,250.0768,236.19712,221.09184,206.33152,192.68992,187.91808,180.80832,177.89376,162.88832,165.24352,166.10304,163.87264],\"type\":\"scatter\"},{\"line\":{\"color\":\"olive\",\"width\":3},\"marker\":{\"line\":{\"color\":\"darkblue\",\"width\":1},\"size\":8,\"symbol\":\"star\"},\"mode\":\"lines+markers\",\"name\":\"2-N: AvxNewgeoProb_64mpi_4omp\",\"x\":[688128000.0,589824000.0,786432000.0,884736000.0,983040000.0,1081344000.0,1179648000.0,1277952000.0,1376256000.0,1572864000.0,1474560000.0,1671168000.0,1769472000.0,1867776000.0,2064384000.0,2162688000.0,2260992000.0,2359296000.0,2457600000.0,2555904000.0,2752512000.0,2654208000.0,2850816000.0,2949120000.0,3047424000.0,3145728000.0,3244032000.0,3342336000.0,3440640000.0,3538944000.0,3637248000.0,3735552000.0,3833856000.0,3932160000.0],\"y\":[248.6528,237.20096,260.76736,257.73952,253.08096,268.43264,265.04064,253.73024,240.584,207.31072,236.33472,200.15104,200.78912,196.32896,178.79072,173.27456,172.96128,163.8816,161.55264,160.4656,149.81504,156.51424,151.36864,148.03776,133.93728,145.44832,142.21728,141.06784,137.67936,138.09344,139.01184,135.63744,128.56128,129.37472],\"type\":\"scatter\"},{\"line\":{\"color\":\"darkblue\",\"width\":3},\"marker\":{\"line\":{\"color\":\"darkblue\",\"width\":1},\"size\":8,\"symbol\":\"star\"},\"mode\":\"lines+markers\",\"name\":\"2-N: VectFusProb_64mpi_4omp\",\"x\":[589824000.0,688128000.0,786432000.0,884736000.0,983040000.0,1081344000.0,1179648000.0,1277952000.0,1376256000.0,1474560000.0,1572864000.0,1671168000.0,1769472000.0,1867776000.0,1966080000.0,2064384000.0,2162688000.0,2260992000.0,2359296000.0,2457600000.0,2555904000.0,2654208000.0,2752512000.0,2850816000.0,2949120000.0,3047424000.0,3145728000.0,3244032000.0,3342336000.0,3440640000.0,3637248000.0,3538944000.0,3735552000.0,3833856000.0,3932160000.0],\"y\":[312.272,322.5536,324.2336,349.0176,353.7696,339.152,342.7712,338.0224,322.6048,307.8352,301.27488,282.72416,279.24256,265.04032,249.89728,248.8208,242.68512,235.57824,217.1536,218.28832,215.21824,214.74176,208.57024,202.59968,197.68832,191.3504,194.36352,192.89664,187.34912,182.89408,170.29312,185.7712,181.62784,177.13056,174.96384],\"type\":\"scatter\"},{\"line\":{\"color\":\"orange\",\"width\":3},\"marker\":{\"line\":{\"color\":\"darkblue\",\"width\":1},\"size\":8,\"symbol\":\"star\"},\"mode\":\"lines+markers\",\"name\":\"2-N: VectNonFusNonProb_128mpi_2omp\",\"x\":[786432000.0,983040000.0,1179648000.0,1376256000.0,1572864000.0,1769472000.0,1966080000.0,2162688000.0,2359296000.0,2555904000.0,2752512000.0,2949120000.0,3145728000.0,3342336000.0,3538944000.0,3932160000.0,3735552000.0],\"y\":[279.888,288.65024,284.5312,262.8704,216.63552,228.26048,194.8768,200.34624,196.26752,186.69504,180.64896,161.98976,167.2064,168.27968,165.86752,157.23392,158.37888],\"type\":\"scatter\"},{\"line\":{\"color\":\"salmon\",\"width\":3},\"marker\":{\"line\":{\"color\":\"darkblue\",\"width\":1},\"size\":8,\"symbol\":\"star\"},\"mode\":\"lines+markers\",\"name\":\"2-N: VectNewgeoProb_64mpi_4omp\",\"x\":[589824000.0,688128000.0,786432000.0,884736000.0,983040000.0,1081344000.0,1179648000.0,1277952000.0,1376256000.0,1474560000.0,1572864000.0,1671168000.0,1769472000.0,1867776000.0,1966080000.0,2064384000.0,2162688000.0,2260992000.0,2359296000.0,2457600000.0,2555904000.0,2654208000.0,2752512000.0,2850816000.0,2949120000.0,3047424000.0,3145728000.0,3244032000.0,3342336000.0,3440640000.0,3637248000.0,3735552000.0,3932160000.0,3833856000.0],\"y\":[219.01024,225.8608,231.1632,231.05248,213.1376,239.33888,232.66272,241.84544,232.59104,219.32768,206.84704,204.23488,193.69344,195.00288,186.86528,170.66848,171.7216,173.1472,165.11648,165.0384,147.34624,151.36576,150.0112,152.4976,146.73664,144.80416,143.67008,139.31072,136.7696,142.17376,139.61024,128.89888,126.42816,126.50752],\"type\":\"scatter\"}],                        {\"template\":{\"data\":{\"histogram2dcontour\":[{\"type\":\"histogram2dcontour\",\"colorbar\":{\"outlinewidth\":0,\"ticks\":\"\"},\"colorscale\":[[0.0,\"#0d0887\"],[0.1111111111111111,\"#46039f\"],[0.2222222222222222,\"#7201a8\"],[0.3333333333333333,\"#9c179e\"],[0.4444444444444444,\"#bd3786\"],[0.5555555555555556,\"#d8576b\"],[0.6666666666666666,\"#ed7953\"],[0.7777777777777778,\"#fb9f3a\"],[0.8888888888888888,\"#fdca26\"],[1.0,\"#f0f921\"]]}],\"choropleth\":[{\"type\":\"choropleth\",\"colorbar\":{\"outlinewidth\":0,\"ticks\":\"\"}}],\"histogram2d\":[{\"type\":\"histogram2d\",\"colorbar\":{\"outlinewidth\":0,\"ticks\":\"\"},\"colorscale\":[[0.0,\"#0d0887\"],[0.1111111111111111,\"#46039f\"],[0.2222222222222222,\"#7201a8\"],[0.3333333333333333,\"#9c179e\"],[0.4444444444444444,\"#bd3786\"],[0.5555555555555556,\"#d8576b\"],[0.6666666666666666,\"#ed7953\"],[0.7777777777777778,\"#fb9f3a\"],[0.8888888888888888,\"#fdca26\"],[1.0,\"#f0f921\"]]}],\"heatmap\":[{\"type\":\"heatmap\",\"colorbar\":{\"outlinewidth\":0,\"ticks\":\"\"},\"colorscale\":[[0.0,\"#0d0887\"],[0.1111111111111111,\"#46039f\"],[0.2222222222222222,\"#7201a8\"],[0.3333333333333333,\"#9c179e\"],[0.4444444444444444,\"#bd3786\"],[0.5555555555555556,\"#d8576b\"],[0.6666666666666666,\"#ed7953\"],[0.7777777777777778,\"#fb9f3a\"],[0.8888888888888888,\"#fdca26\"],[1.0,\"#f0f921\"]]}],\"heatmapgl\":[{\"type\":\"heatmapgl\",\"colorbar\":{\"outlinewidth\":0,\"ticks\":\"\"},\"colorscale\":[[0.0,\"#0d0887\"],[0.1111111111111111,\"#46039f\"],[0.2222222222222222,\"#7201a8\"],[0.3333333333333333,\"#9c179e\"],[0.4444444444444444,\"#bd3786\"],[0.5555555555555556,\"#d8576b\"],[0.6666666666666666,\"#ed7953\"],[0.7777777777777778,\"#fb9f3a\"],[0.8888888888888888,\"#fdca26\"],[1.0,\"#f0f921\"]]}],\"contourcarpet\":[{\"type\":\"contourcarpet\",\"colorbar\":{\"outlinewidth\":0,\"ticks\":\"\"}}],\"contour\":[{\"type\":\"contour\",\"colorbar\":{\"outlinewidth\":0,\"ticks\":\"\"},\"colorscale\":[[0.0,\"#0d0887\"],[0.1111111111111111,\"#46039f\"],[0.2222222222222222,\"#7201a8\"],[0.3333333333333333,\"#9c179e\"],[0.4444444444444444,\"#bd3786\"],[0.5555555555555556,\"#d8576b\"],[0.6666666666666666,\"#ed7953\"],[0.7777777777777778,\"#fb9f3a\"],[0.8888888888888888,\"#fdca26\"],[1.0,\"#f0f921\"]]}],\"surface\":[{\"type\":\"surface\",\"colorbar\":{\"outlinewidth\":0,\"ticks\":\"\"},\"colorscale\":[[0.0,\"#0d0887\"],[0.1111111111111111,\"#46039f\"],[0.2222222222222222,\"#7201a8\"],[0.3333333333333333,\"#9c179e\"],[0.4444444444444444,\"#bd3786\"],[0.5555555555555556,\"#d8576b\"],[0.6666666666666666,\"#ed7953\"],[0.7777777777777778,\"#fb9f3a\"],[0.8888888888888888,\"#fdca26\"],[1.0,\"#f0f921\"]]}],\"mesh3d\":[{\"type\":\"mesh3d\",\"colorbar\":{\"outlinewidth\":0,\"ticks\":\"\"}}],\"scatter\":[{\"fillpattern\":{\"fillmode\":\"overlay\",\"size\":10,\"solidity\":0.2},\"type\":\"scatter\"}],\"parcoords\":[{\"type\":\"parcoords\",\"line\":{\"colorbar\":{\"outlinewidth\":0,\"ticks\":\"\"}}}],\"scatterpolargl\":[{\"type\":\"scatterpolargl\",\"marker\":{\"colorbar\":{\"outlinewidth\":0,\"ticks\":\"\"}}}],\"bar\":[{\"error_x\":{\"color\":\"#2a3f5f\"},\"error_y\":{\"color\":\"#2a3f5f\"},\"marker\":{\"line\":{\"color\":\"#E5ECF6\",\"width\":0.5},\"pattern\":{\"fillmode\":\"overlay\",\"size\":10,\"solidity\":0.2}},\"type\":\"bar\"}],\"scattergeo\":[{\"type\":\"scattergeo\",\"marker\":{\"colorbar\":{\"outlinewidth\":0,\"ticks\":\"\"}}}],\"scatterpolar\":[{\"type\":\"scatterpolar\",\"marker\":{\"colorbar\":{\"outlinewidth\":0,\"ticks\":\"\"}}}],\"histogram\":[{\"marker\":{\"pattern\":{\"fillmode\":\"overlay\",\"size\":10,\"solidity\":0.2}},\"type\":\"histogram\"}],\"scattergl\":[{\"type\":\"scattergl\",\"marker\":{\"colorbar\":{\"outlinewidth\":0,\"ticks\":\"\"}}}],\"scatter3d\":[{\"type\":\"scatter3d\",\"line\":{\"colorbar\":{\"outlinewidth\":0,\"ticks\":\"\"}},\"marker\":{\"colorbar\":{\"outlinewidth\":0,\"ticks\":\"\"}}}],\"scattermapbox\":[{\"type\":\"scattermapbox\",\"marker\":{\"colorbar\":{\"outlinewidth\":0,\"ticks\":\"\"}}}],\"scatterternary\":[{\"type\":\"scatterternary\",\"marker\":{\"colorbar\":{\"outlinewidth\":0,\"ticks\":\"\"}}}],\"scattercarpet\":[{\"type\":\"scattercarpet\",\"marker\":{\"colorbar\":{\"outlinewidth\":0,\"ticks\":\"\"}}}],\"carpet\":[{\"aaxis\":{\"endlinecolor\":\"#2a3f5f\",\"gridcolor\":\"white\",\"linecolor\":\"white\",\"minorgridcolor\":\"white\",\"startlinecolor\":\"#2a3f5f\"},\"baxis\":{\"endlinecolor\":\"#2a3f5f\",\"gridcolor\":\"white\",\"linecolor\":\"white\",\"minorgridcolor\":\"white\",\"startlinecolor\":\"#2a3f5f\"},\"type\":\"carpet\"}],\"table\":[{\"cells\":{\"fill\":{\"color\":\"#EBF0F8\"},\"line\":{\"color\":\"white\"}},\"header\":{\"fill\":{\"color\":\"#C8D4E3\"},\"line\":{\"color\":\"white\"}},\"type\":\"table\"}],\"barpolar\":[{\"marker\":{\"line\":{\"color\":\"#E5ECF6\",\"width\":0.5},\"pattern\":{\"fillmode\":\"overlay\",\"size\":10,\"solidity\":0.2}},\"type\":\"barpolar\"}],\"pie\":[{\"automargin\":true,\"type\":\"pie\"}]},\"layout\":{\"autotypenumbers\":\"strict\",\"colorway\":[\"#636efa\",\"#EF553B\",\"#00cc96\",\"#ab63fa\",\"#FFA15A\",\"#19d3f3\",\"#FF6692\",\"#B6E880\",\"#FF97FF\",\"#FECB52\"],\"font\":{\"color\":\"#2a3f5f\"},\"hovermode\":\"closest\",\"hoverlabel\":{\"align\":\"left\"},\"paper_bgcolor\":\"white\",\"plot_bgcolor\":\"#E5ECF6\",\"polar\":{\"bgcolor\":\"#E5ECF6\",\"angularaxis\":{\"gridcolor\":\"white\",\"linecolor\":\"white\",\"ticks\":\"\"},\"radialaxis\":{\"gridcolor\":\"white\",\"linecolor\":\"white\",\"ticks\":\"\"}},\"ternary\":{\"bgcolor\":\"#E5ECF6\",\"aaxis\":{\"gridcolor\":\"white\",\"linecolor\":\"white\",\"ticks\":\"\"},\"baxis\":{\"gridcolor\":\"white\",\"linecolor\":\"white\",\"ticks\":\"\"},\"caxis\":{\"gridcolor\":\"white\",\"linecolor\":\"white\",\"ticks\":\"\"}},\"coloraxis\":{\"colorbar\":{\"outlinewidth\":0,\"ticks\":\"\"}},\"colorscale\":{\"sequential\":[[0.0,\"#0d0887\"],[0.1111111111111111,\"#46039f\"],[0.2222222222222222,\"#7201a8\"],[0.3333333333333333,\"#9c179e\"],[0.4444444444444444,\"#bd3786\"],[0.5555555555555556,\"#d8576b\"],[0.6666666666666666,\"#ed7953\"],[0.7777777777777778,\"#fb9f3a\"],[0.8888888888888888,\"#fdca26\"],[1.0,\"#f0f921\"]],\"sequentialminus\":[[0.0,\"#0d0887\"],[0.1111111111111111,\"#46039f\"],[0.2222222222222222,\"#7201a8\"],[0.3333333333333333,\"#9c179e\"],[0.4444444444444444,\"#bd3786\"],[0.5555555555555556,\"#d8576b\"],[0.6666666666666666,\"#ed7953\"],[0.7777777777777778,\"#fb9f3a\"],[0.8888888888888888,\"#fdca26\"],[1.0,\"#f0f921\"]],\"diverging\":[[0,\"#8e0152\"],[0.1,\"#c51b7d\"],[0.2,\"#de77ae\"],[0.3,\"#f1b6da\"],[0.4,\"#fde0ef\"],[0.5,\"#f7f7f7\"],[0.6,\"#e6f5d0\"],[0.7,\"#b8e186\"],[0.8,\"#7fbc41\"],[0.9,\"#4d9221\"],[1,\"#276419\"]]},\"xaxis\":{\"gridcolor\":\"white\",\"linecolor\":\"white\",\"ticks\":\"\",\"title\":{\"standoff\":15},\"zerolinecolor\":\"white\",\"automargin\":true,\"zerolinewidth\":2},\"yaxis\":{\"gridcolor\":\"white\",\"linecolor\":\"white\",\"ticks\":\"\",\"title\":{\"standoff\":15},\"zerolinecolor\":\"white\",\"automargin\":true,\"zerolinewidth\":2},\"scene\":{\"xaxis\":{\"backgroundcolor\":\"#E5ECF6\",\"gridcolor\":\"white\",\"linecolor\":\"white\",\"showbackground\":true,\"ticks\":\"\",\"zerolinecolor\":\"white\",\"gridwidth\":2},\"yaxis\":{\"backgroundcolor\":\"#E5ECF6\",\"gridcolor\":\"white\",\"linecolor\":\"white\",\"showbackground\":true,\"ticks\":\"\",\"zerolinecolor\":\"white\",\"gridwidth\":2},\"zaxis\":{\"backgroundcolor\":\"#E5ECF6\",\"gridcolor\":\"white\",\"linecolor\":\"white\",\"showbackground\":true,\"ticks\":\"\",\"zerolinecolor\":\"white\",\"gridwidth\":2}},\"shapedefaults\":{\"line\":{\"color\":\"#2a3f5f\"}},\"annotationdefaults\":{\"arrowcolor\":\"#2a3f5f\",\"arrowhead\":0,\"arrowwidth\":1},\"geo\":{\"bgcolor\":\"white\",\"landcolor\":\"#E5ECF6\",\"subunitcolor\":\"white\",\"showland\":true,\"showlakes\":true,\"lakecolor\":\"white\"},\"title\":{\"x\":0.05},\"mapbox\":{\"style\":\"light\"}}},\"shapes\":[{\"line\":{\"color\":\"green\",\"dash\":\"dash\",\"width\":3},\"type\":\"line\",\"x0\":512000000.0,\"x1\":512000000.0,\"xref\":\"x\",\"y0\":0,\"y1\":1,\"yref\":\"y domain\"}],\"annotations\":[{\"align\":\"left\",\"arrowcolor\":\"#636363\",\"arrowhead\":1,\"arrowsize\":1,\"arrowwidth\":2,\"ax\":-20,\"ay\":-30,\"font\":{\"color\":\"purple\",\"family\":\"Sans Serif\",\"size\":12},\"showarrow\":false,\"text\":\"LLC Size Per Node\",\"x\":\"512e6\",\"y\":130,\"yanchor\":\"bottom\"}],\"xaxis\":{\"title\":{\"text\":\"Dirc_Data_Mov\"},\"ticks\":\"outside\"},\"yaxis\":{\"title\":{\"text\":\"GFLOPs/Node\"},\"ticks\":\"outside\"},\"title\":{\"text\":\"\\\"HIPPO Best Case\\\" GFlops Measurement\"},\"legend\":{\"bordercolor\":\"black\",\"borderwidth\":1}},                        {\"responsive\": true}                    ).then(function(){\n",
       "                            \n",
       "var gd = document.getElementById('c7f66d65-eb7e-4062-9046-7a0123148987');\n",
       "var x = new MutationObserver(function (mutations, observer) {{\n",
       "        var display = window.getComputedStyle(gd).display;\n",
       "        if (!display || display === 'none') {{\n",
       "            console.log([gd, 'removed!']);\n",
       "            Plotly.purge(gd);\n",
       "            observer.disconnect();\n",
       "        }}\n",
       "}});\n",
       "\n",
       "// Listen for the removal of the full notebook cells\n",
       "var notebookContainer = gd.closest('#notebook-container');\n",
       "if (notebookContainer) {{\n",
       "    x.observe(notebookContainer, {childList: true});\n",
       "}}\n",
       "\n",
       "// Listen for the clearing of the current output cell\n",
       "var outputEl = gd.closest('.output');\n",
       "if (outputEl) {{\n",
       "    x.observe(outputEl, {childList: true});\n",
       "}}\n",
       "\n",
       "                        })                };                });            </script>        </div>"
      ]
     },
     "metadata": {},
     "output_type": "display_data"
    }
   ],
   "source": [
    "fig = go.Figure() \n",
    "\n",
    "# Node 1\n",
    "# Macro\n",
    "fig.add_trace(go.Scatter(x=(dfn1MacFusProb_64mpi_2omp.Dirc_Data_Mov*(dfn1MacFusProb_64mpi_2omp.MPI_size)), \n",
    "                         y=(dfn1MacFusProb_64mpi_2omp.GFLOPS*(dfn1MacFusProb_64mpi_2omp.MPI_size)), \n",
    "                         mode='lines+markers', \n",
    "                         name='1-N: MacroFusProb_64mpi_2omp',\n",
    "                         line=dict(color='royalblue',width=3),\n",
    "                         marker=dict(symbol='hexagon',size=9,line=dict(color='yellow',width=1))))\n",
    "\n",
    "fig.add_trace(go.Scatter(x=(dfn1MacNonFusProb_64mpi_2omp.Dirc_Data_Mov*(dfn1MacNonFusProb_64mpi_2omp.MPI_size)), \n",
    "                         y=(dfn1MacNonFusProb_64mpi_2omp.GFLOPS*(dfn1MacNonFusProb_64mpi_2omp.MPI_size)), \n",
    "                         mode='lines+markers', \n",
    "                         name='1-N: MacroNonFusProb_64mpi_2omp',\n",
    "                         line=dict(color='darkred',width=3),\n",
    "                         marker=dict(symbol='hexagon',size=9, line=dict(color='yellow',width=1))))\n",
    "\n",
    "fig.add_trace(go.Scatter(x=(dfn1MacNewgeoProb_64mpi_2omp.Dirc_Data_Mov*(dfn1MacNewgeoProb_64mpi_2omp.MPI_size)), \n",
    "                         y=(dfn1MacNewgeoProb_64mpi_2omp.GFLOPS*(dfn1MacNewgeoProb_64mpi_2omp.MPI_size)), \n",
    "                         mode='lines+markers', \n",
    "                         name='1-N: MacroNewgeoProb_64mpi_2omp',\n",
    "                         line=dict(color='darkorchid',width=3),\n",
    "                         marker=dict(symbol='hexagon',size=9, line=dict(color='yellow',width=1))))\n",
    "\n",
    "# AVX\n",
    "\n",
    "fig.add_trace(go.Scatter(x=(dfn1AvxFusProb_32mpi_4omp.Dirc_Data_Mov*(dfn1AvxFusProb_32mpi_4omp.MPI_size)), \n",
    "                         y=(dfn1AvxFusProb_32mpi_4omp.GFLOPS*(dfn1AvxFusProb_32mpi_4omp.MPI_size)), \n",
    "                         mode='lines+markers', \n",
    "                         name='1-N: AvxFusProb_32mpi_4omp',\n",
    "                         line=dict(color='magenta',width=3),\n",
    "                         marker=dict(symbol='hexagon',size=9, line=dict(color='yellow',width=1))))\n",
    "\n",
    "fig.add_trace(go.Scatter(x=(dfn1AvxNonFusProb_64mpi_2omp.Dirc_Data_Mov*(dfn1AvxNonFusProb_64mpi_2omp.MPI_size)), \n",
    "                         y=(dfn1AvxNonFusProb_64mpi_2omp.GFLOPS*(dfn1AvxNonFusProb_64mpi_2omp.MPI_size)), \n",
    "                         mode='lines+markers', \n",
    "                         name='1-N: AvxNonFusProb_64mpi_2omp',\n",
    "                         line=dict(color='palegreen',width=3),\n",
    "                         marker=dict(symbol='hexagon',size=9, line=dict(color='yellow',width=1))))\n",
    "\n",
    "fig.add_trace(go.Scatter(x=(dfn1AvxNewgeoProb_64mpi_2omp.Dirc_Data_Mov*(dfn1AvxNewgeoProb_64mpi_2omp.MPI_size)), \n",
    "                         y=(dfn1AvxNewgeoProb_64mpi_2omp.GFLOPS*(dfn1AvxNewgeoProb_64mpi_2omp.MPI_size)), \n",
    "                         mode='lines+markers', \n",
    "                         name='1-N: AvxNewgeoProb_64mpi_2omp',\n",
    "                         line=dict(color='olive',width=3),\n",
    "                         marker=dict(symbol='hexagon',size=9, line=dict(color='yellow',width=1))))\n",
    "\n",
    "# VECT\n",
    "\n",
    "fig.add_trace(go.Scatter(x=(dfn1VectFusProb_32mpi_4omp.Dirc_Data_Mov*(dfn1VectFusProb_32mpi_4omp.MPI_size)), \n",
    "                         y=(dfn1VectFusProb_32mpi_4omp.GFLOPS*(dfn1VectFusProb_32mpi_4omp.MPI_size)), \n",
    "                         mode='lines+markers', \n",
    "                         name='1-N: VectFusProb_32mpi_4omp',\n",
    "                         line=dict(color='darkblue',width=3),\n",
    "                         marker=dict(symbol='hexagon',size=9, line=dict(color='yellow',width=1))))\n",
    "\n",
    "fig.add_trace(go.Scatter(x=(dfn1VectNonFusProb_64mpi_2omp.Dirc_Data_Mov*(dfn1VectNonFusProb_64mpi_2omp.MPI_size)), \n",
    "                         y=(dfn1VectNonFusProb_64mpi_2omp.GFLOPS*(dfn1VectNonFusProb_64mpi_2omp.MPI_size)), \n",
    "                         mode='lines+markers', \n",
    "                         name='1-N: VectNonFusProb_64mpi_2omp',\n",
    "                         line=dict(color='orange',width=3),\n",
    "                         marker=dict(symbol='hexagon',size=9,line=dict(color='yellow',width=1))))\n",
    "\n",
    "fig.add_trace(go.Scatter(x=(dfn1VectNewgeoProb_64mpi_2omp.Dirc_Data_Mov*(dfn1VectNewgeoProb_64mpi_2omp.MPI_size)), \n",
    "                         y=(dfn1VectNewgeoProb_64mpi_2omp.GFLOPS*(dfn1VectNewgeoProb_64mpi_2omp.MPI_size)), \n",
    "                         mode='lines+markers', \n",
    "                         name='1-N: VectNewgeoProb_64mpi_2omp',\n",
    "                         line=dict(color='salmon',width=3),\n",
    "                         marker=dict(symbol='hexagon',size=9,line=dict(color='yellow',width=1))))\n",
    "\n",
    "\n",
    "\n",
    "\n",
    "# Node 2\n",
    "# Macro\n",
    "fig.add_trace(go.Scatter(x=(dfn2MacFusProb_128mpi_2omp.Dirc_Data_Mov*(dfn2MacFusProb_128mpi_2omp.MPI_size/2)), \n",
    "                         y=(dfn2MacFusProb_128mpi_2omp.GFLOPS*(dfn2MacFusProb_128mpi_2omp.MPI_size/2)), \n",
    "                         mode='lines+markers', \n",
    "                         name='2-N: MacFusProb_128mpi_2omp',\n",
    "                         line=dict(color='royalblue',width=3),\n",
    "                         marker=dict(symbol='star',size=8,line=dict(color='darkblue',width=1))))\n",
    "\n",
    "fig.add_trace(go.Scatter(x=(dfn2MacNonFusNonProb_128mpi_2omp.Dirc_Data_Mov*(dfn2MacNonFusNonProb_128mpi_2omp.MPI_size/2)), \n",
    "                         y=(dfn2MacNonFusNonProb_128mpi_2omp.GFLOPS*(dfn2MacNonFusNonProb_128mpi_2omp.MPI_size/2)), \n",
    "                         mode='lines+markers', \n",
    "                         name='2-N: MacNonFusNonProb_128mpi_2omp',\n",
    "                         line=dict(color='darkred',width=3),\n",
    "                         marker=dict(symbol='star',size=8, line=dict(color='darkblue',width=1))))\n",
    "\n",
    "fig.add_trace(go.Scatter(x=(dfn2MacNewgeoProb_64mpi_4omp.Dirc_Data_Mov*(dfn2MacNewgeoProb_64mpi_4omp.MPI_size/2)), \n",
    "                         y=(dfn2MacNewgeoProb_64mpi_4omp.GFLOPS*(dfn2MacNewgeoProb_64mpi_4omp.MPI_size/2)), \n",
    "                         mode='lines+markers', \n",
    "                         name='2-N: MacNewgeoProb_64mpi_4omp',\n",
    "                         line=dict(color='darkorchid',width=3),\n",
    "                         marker=dict(symbol='star',size=8, line=dict(color='darkblue',width=1))))\n",
    "\n",
    "\n",
    "# AVX\n",
    "fig.add_trace(go.Scatter(x=(dfn2AvxFusProb_64mpi_4omp.Dirc_Data_Mov*(dfn2AvxFusProb_64mpi_4omp.MPI_size/2)), \n",
    "                         y=(dfn2AvxFusProb_64mpi_4omp.GFLOPS*(dfn2AvxFusProb_64mpi_4omp.MPI_size/2)), \n",
    "                         mode='lines+markers', \n",
    "                         name='2-N: AvxFusNonProb_64mpi_4omp',\n",
    "                          line=dict(color='magenta',width=3),\n",
    "                         marker=dict(symbol='star',size=8, line=dict(color='darkblue',width=1))))\n",
    "\n",
    "fig.add_trace(go.Scatter(x=(dfn2AvxNonFusNonProb_128mpi_2omp.Dirc_Data_Mov*(dfn2AvxNonFusNonProb_128mpi_2omp.MPI_size/2)), \n",
    "                         y=(dfn2AvxNonFusNonProb_128mpi_2omp.GFLOPS*(dfn2AvxNonFusNonProb_128mpi_2omp.MPI_size/2)), \n",
    "                         mode='lines+markers', \n",
    "                         name='2-N: AvxNonFusNonProb_128mpi_2omp',\n",
    "                         line=dict(color='palegreen',width=3),\n",
    "                         marker=dict(symbol='star',size=8, line=dict(color='darkblue',width=1))))\n",
    "\n",
    "fig.add_trace(go.Scatter(x=(dfn2AvxNewgeoProb_64mpi_4omp.Dirc_Data_Mov*(dfn2AvxNewgeoProb_64mpi_4omp.MPI_size/2)), \n",
    "                         y=(dfn2AvxNewgeoProb_64mpi_4omp.GFLOPS*(dfn2AvxNewgeoProb_64mpi_4omp.MPI_size/2)), \n",
    "                         mode='lines+markers', \n",
    "                         name='2-N: AvxNewgeoProb_64mpi_4omp',\n",
    "                         line=dict(color='olive',width=3),\n",
    "                         marker=dict(symbol='star',size=8, line=dict(color='darkblue',width=1))))\n",
    "\n",
    "\n",
    "# VECT\n",
    "fig.add_trace(go.Scatter(x=(dfn2VectFusProb_64mpi_4omp.Dirc_Data_Mov*(dfn2VectFusProb_64mpi_4omp.MPI_size/2)), \n",
    "                         y=(dfn2VectFusProb_64mpi_4omp.GFLOPS*(dfn2VectFusProb_64mpi_4omp.MPI_size/2)), \n",
    "                         mode='lines+markers', \n",
    "                         name='2-N: VectFusProb_64mpi_4omp',\n",
    "                         line=dict(color='darkblue',width=3),\n",
    "                         marker=dict(symbol='star',size=8, line=dict(color='darkblue',width=1))))\n",
    "\n",
    "fig.add_trace(go.Scatter(x=(dfn2VectNonFusNonProb_128mpi_2omp.Dirc_Data_Mov*(dfn2VectNonFusNonProb_128mpi_2omp.MPI_size/2)), \n",
    "                         y=(dfn2VectNonFusNonProb_128mpi_2omp.GFLOPS*(dfn2VectNonFusNonProb_128mpi_2omp.MPI_size/2)), \n",
    "                         mode='lines+markers', \n",
    "                         name='2-N: VectNonFusNonProb_128mpi_2omp',\n",
    "                         line=dict(color='orange',width=3),\n",
    "                         marker=dict(symbol='star',size=8,line=dict(color='darkblue',width=1))))\n",
    "\n",
    "fig.add_trace(go.Scatter(x=(dfn2VectNewgeoProb_64mpi_4omp.Dirc_Data_Mov*(dfn2VectNewgeoProb_64mpi_4omp.MPI_size/2)), \n",
    "                         y=(dfn2VectNewgeoProb_64mpi_4omp.GFLOPS*(dfn2VectNewgeoProb_64mpi_4omp.MPI_size/2)), \n",
    "                         mode='lines+markers', \n",
    "                         name='2-N: VectNewgeoProb_64mpi_4omp',\n",
    "                         line=dict(color='salmon',width=3),\n",
    "                         marker=dict(symbol='star',size=8,line=dict(color='darkblue',width=1))))\n",
    "\n",
    "\n",
    "\n",
    "\n",
    "\n",
    "# Adding a vertical line\n",
    "fig.add_vline(x=512e6, line_width=3, line_dash=\"dash\", line_color=\"green\")\n",
    "# fig.add_hline(y=1024, line_width=3, line_dash=\"dash\", line_color=\"red\")\n",
    "\n",
    "# Add annotation\n",
    "fig.add_annotation(\n",
    "    x='512e6'\n",
    "    , y=130\n",
    "    , text=f'LLC Size Per Node'\n",
    "    , yanchor='bottom'\n",
    "    , showarrow=False\n",
    "    , arrowhead=1\n",
    "    , arrowsize=1\n",
    "    , arrowwidth=2\n",
    "    , arrowcolor=\"#636363\"\n",
    "    , ax=-20\n",
    "    , ay=-30\n",
    "    , font=dict(size=12, color=\"purple\", family=\"Sans Serif\")\n",
    "    , align=\"left\"\n",
    "    ,)\n",
    "\n",
    "fig.update_layout(title='\"HIPPO Best Case\" GFlops Measurement',\n",
    "                  xaxis_title='Dirc_Data_Mov', yaxis_title='GFLOPs/Node', \n",
    "                  xaxis=dict(ticks=\"outside\"),  \n",
    "                  yaxis=dict(ticks=\"outside\"),\n",
    "                  legend=go.layout.Legend(bordercolor=\"black\",borderwidth=1))"
   ]
  },
  {
   "cell_type": "code",
   "execution_count": 20,
   "id": "4f254808",
   "metadata": {},
   "outputs": [
    {
     "name": "stdout",
     "output_type": "stream",
     "text": [
      "Speed up factor (fuse avx vs nonfuse avx):  80.00%\n"
     ]
    }
   ],
   "source": [
    "fuse_avx = 390\n",
    "nonfuse_avx = 312\n",
    "\n",
    "speedUp = '{:.2%}'.format((nonfuse_avx/fuse_avx))\n",
    "print(\"Speed up factor (fuse avx vs nonfuse avx): \",speedUp)"
   ]
  },
  {
   "cell_type": "code",
   "execution_count": 23,
   "id": "cc53a40c",
   "metadata": {},
   "outputs": [
    {
     "name": "stdout",
     "output_type": "stream",
     "text": [
      "Speed up factor (fuse avx vs nonfuse macro):  55.64%\n"
     ]
    }
   ],
   "source": [
    "fuse_avx = 390\n",
    "nonfuse_macro = 217\n",
    "\n",
    "speedUp = '{:.2%}'.format((nonfuse_macro/fuse_avx))\n",
    "print(\"Speed up factor (fuse avx vs nonfuse macro): \",speedUp)"
   ]
  },
  {
   "cell_type": "code",
   "execution_count": null,
   "id": "f6e205d1",
   "metadata": {},
   "outputs": [],
   "source": []
  },
  {
   "cell_type": "markdown",
   "id": "34c15fe9",
   "metadata": {},
   "source": [
    "# Bandwidth HIPPO BEST CASES"
   ]
  },
  {
   "cell_type": "code",
   "execution_count": 127,
   "id": "513b484a",
   "metadata": {},
   "outputs": [
    {
     "data": {
      "application/vnd.plotly.v1+json": {
       "config": {
        "plotlyServerURL": "https://plot.ly"
       },
       "data": [
        {
         "line": {
          "color": "royalblue",
          "width": 3
         },
         "marker": {
          "line": {
           "color": "yellow",
           "width": 1
          },
          "size": 9,
          "symbol": "hexagon"
         },
         "mode": "lines+markers",
         "name": "1-N: MacroFusProb_64mpi_2omp",
         "type": "scatter",
         "x": [
          786432000,
          983040000,
          1179648000,
          1376256000,
          1572864000,
          1769472000,
          1966080000,
          2162688000,
          2359296000,
          2555904000,
          2752512000,
          2949120000,
          3145728000,
          3342336000,
          3538944000,
          3932160000
         ],
         "y": [
          564.69376,
          548.49536,
          574.75136,
          562.02048,
          545.63648,
          528.64512,
          502.2592,
          458.2656,
          461.57632,
          453.35552,
          438.62592,
          427.96352,
          417.63136,
          408.80896,
          388.272,
          387.00864
         ]
        },
        {
         "line": {
          "color": "darkred",
          "width": 3
         },
         "marker": {
          "line": {
           "color": "yellow",
           "width": 1
          },
          "size": 9,
          "symbol": "hexagon"
         },
         "mode": "lines+markers",
         "name": "1-N: MacroNonFusProb_64mpi_2omp",
         "type": "scatter",
         "x": [
          786432000,
          983040000,
          1179648000,
          1376256000,
          1769472000,
          1572864000,
          2162688000,
          1966080000,
          2555904000,
          2359296000,
          2752512000,
          2949120000,
          3145728000,
          3342336000,
          3538944000,
          3735552000,
          3932160000
         ],
         "y": [
          499.78752,
          499.80864,
          460.84416,
          487.03168,
          448.67392,
          467.01312,
          414.08768,
          431.76192,
          385.54624,
          378.42624,
          365.9936,
          362.848,
          364.53632,
          350.6208,
          343.31264,
          327.65184,
          336.38208
         ]
        },
        {
         "line": {
          "color": "darkorchid",
          "width": 3
         },
         "marker": {
          "line": {
           "color": "yellow",
           "width": 1
          },
          "size": 9,
          "symbol": "hexagon"
         },
         "mode": "lines+markers",
         "name": "1-N: MacroNewgeoProb_64mpi_2omp",
         "type": "scatter",
         "x": [
          786432000,
          983040000,
          1179648000,
          1376256000,
          1572864000,
          1966080000,
          1769472000,
          2162688000,
          2555904000,
          2359296000,
          2752512000,
          2949120000,
          3145728000,
          3342336000,
          3538944000,
          3735552000,
          3932160000
         ],
         "y": [
          448.54464,
          458.65664,
          454.61952,
          438.27648,
          431.03296,
          372.42368,
          391.55968,
          360.80768,
          343.6608,
          348.55744,
          322.94784,
          311.68064,
          314.24256,
          300.75008,
          285.65952,
          299.34336,
          279.93024
         ]
        },
        {
         "line": {
          "color": "magenta",
          "width": 3
         },
         "marker": {
          "line": {
           "color": "yellow",
           "width": 1
          },
          "size": 9,
          "symbol": "hexagon"
         },
         "mode": "lines+markers",
         "name": "1-N: AvxFusProb_32mpi_4omp",
         "type": "scatter",
         "x": [
          491520000,
          589824000,
          688128000,
          786432000,
          884736000,
          983040000,
          1081344000,
          1179648000,
          1277952000,
          1376256000,
          1474560000,
          1572864000,
          1671168000,
          1769472000,
          1867776000,
          1966080000,
          2064384000,
          2162688000,
          2260992000,
          2359296000,
          2457600000,
          2555904000,
          2654208000,
          2752512000,
          2850816000,
          2949120000,
          3047424000,
          3145728000,
          3244032000,
          3342336000,
          3440640000,
          3538944000,
          3637248000,
          3735552000,
          3833856000,
          3932160000
         ],
         "y": [
          737.264,
          820.9888,
          822.8416,
          857.4176,
          911.3312,
          842.544,
          904.7072,
          874.2176,
          855.0848,
          807.8144,
          774.6272,
          717.184,
          707.776,
          660.9024,
          648.2016,
          596.7648,
          579.8816,
          560.8992,
          551.9392,
          525.8464,
          509.824,
          477.648,
          490.048,
          475.8304,
          471.9648,
          458.2144,
          453.3408,
          432.8576,
          445.7984,
          433.8656,
          433.264,
          422.6304,
          420.5536,
          398.1408,
          408.224,
          403.36
         ]
        },
        {
         "line": {
          "color": "palegreen",
          "width": 3
         },
         "marker": {
          "line": {
           "color": "yellow",
           "width": 1
          },
          "size": 9,
          "symbol": "hexagon"
         },
         "mode": "lines+markers",
         "name": "1-N: AvxNonFusProb_64mpi_2omp",
         "type": "scatter",
         "x": [
          786432000,
          983040000,
          1179648000,
          1376256000,
          1572864000,
          1769472000,
          2162688000,
          1966080000,
          2359296000,
          2555904000,
          2752512000,
          2949120000,
          3145728000,
          3342336000,
          3538944000,
          3735552000,
          3932160000
         ],
         "y": [
          724.192,
          670.2848,
          718.1952,
          674.2144,
          614.46144,
          555.20192,
          482.7072,
          513.5136,
          457.5872,
          442.57856,
          429.8624,
          418.9344,
          397.3088,
          396.47424,
          373.46752,
          376.76864,
          373.09632
         ]
        },
        {
         "line": {
          "color": "olive",
          "width": 3
         },
         "marker": {
          "line": {
           "color": "yellow",
           "width": 1
          },
          "size": 9,
          "symbol": "hexagon"
         },
         "mode": "lines+markers",
         "name": "1-N: AvxNewgeoProb_64mpi_2omp",
         "type": "scatter",
         "x": [
          786432000,
          983040000,
          1179648000,
          1376256000,
          1572864000,
          1966080000,
          1769472000,
          2359296000,
          2162688000,
          2555904000,
          2752512000,
          2949120000,
          3145728000,
          3342336000,
          3538944000,
          3735552000,
          3932160000
         ],
         "y": [
          620.0096,
          627.46048,
          616.56512,
          564.38912,
          520.12864,
          427.32672,
          458.86272,
          389.83552,
          406.93568,
          362.14784,
          357.37472,
          343.9456,
          338.368,
          336.35584,
          324.65088,
          305.57824,
          301.08672
         ]
        },
        {
         "line": {
          "color": "darkblue",
          "width": 3
         },
         "marker": {
          "line": {
           "color": "yellow",
           "width": 1
          },
          "size": 9,
          "symbol": "hexagon"
         },
         "mode": "lines+markers",
         "name": "1-N: VectFusProb_32mpi_4omp",
         "type": "scatter",
         "x": [
          491520000,
          589824000,
          688128000,
          786432000,
          884736000,
          983040000,
          1081344000,
          1179648000,
          1277952000,
          1376256000,
          1474560000,
          1572864000,
          1769472000,
          1671168000,
          1867776000,
          1966080000,
          2064384000,
          2162688000,
          2260992000,
          2359296000,
          2457600000,
          2555904000,
          2654208000,
          2752512000,
          2850816000,
          2949120000,
          3047424000,
          3145728000,
          3244032000,
          3342336000,
          3440640000,
          3538944000,
          3637248000,
          3735552000,
          3833856000,
          3932160000
         ],
         "y": [
          669.2256,
          678.5216,
          721.1296,
          792.752,
          795.0336,
          796.8672,
          735.072,
          809.904,
          778.7968,
          755.2896,
          745.8208,
          707.0816,
          661.0464,
          688.4448,
          628.5248,
          601.8176,
          578.112,
          567.0016,
          545.7728,
          533.0976,
          521.2896,
          512.2912,
          488.3136,
          487.6864,
          480.64,
          462.2144,
          462.1792,
          442.0032,
          447.3344,
          438.8512,
          436.24,
          429.3664,
          406.88,
          422.3808,
          415.984,
          415.1584
         ]
        },
        {
         "line": {
          "color": "orange",
          "width": 3
         },
         "marker": {
          "line": {
           "color": "yellow",
           "width": 1
          },
          "size": 9,
          "symbol": "hexagon"
         },
         "mode": "lines+markers",
         "name": "1-N: VectNonFusProb_64mpi_2omp",
         "type": "scatter",
         "x": [
          786432000,
          983040000,
          1179648000,
          1376256000,
          1572864000,
          1769472000,
          1966080000,
          2162688000,
          2359296000,
          2555904000,
          2752512000,
          2949120000,
          3145728000,
          3342336000,
          3538944000,
          3735552000,
          3932160000
         ],
         "y": [
          654.432,
          631.20128,
          660.7104,
          612.21568,
          588.27968,
          547.54304,
          515.32352,
          470.84544,
          456.79296,
          427.82272,
          413.47392,
          409.6992,
          406.12864,
          382.90304,
          386.54592,
          350.78976,
          369.65184
         ]
        },
        {
         "line": {
          "color": "salmon",
          "width": 3
         },
         "marker": {
          "line": {
           "color": "yellow",
           "width": 1
          },
          "size": 9,
          "symbol": "hexagon"
         },
         "mode": "lines+markers",
         "name": "1-N: VectNewgeoProb_64mpi_2omp",
         "type": "scatter",
         "x": [
          786432000,
          983040000,
          1179648000,
          1376256000,
          1572864000,
          1769472000,
          1966080000,
          2162688000,
          2359296000,
          2555904000,
          2752512000,
          2949120000,
          3145728000,
          3342336000,
          3538944000,
          3735552000,
          3932160000
         ],
         "y": [
          575.35616,
          516.70272,
          569.33696,
          534.25728,
          493.58208,
          448.4448,
          410.58176,
          405.5808,
          377.54944,
          337.79008,
          343.65504,
          326.15552,
          327.83808,
          326.288,
          309.25312,
          320.45568,
          277.79712
         ]
        },
        {
         "line": {
          "color": "royalblue",
          "width": 3
         },
         "marker": {
          "line": {
           "color": "darkblue",
           "width": 1
          },
          "size": 8,
          "symbol": "star"
         },
         "mode": "lines+markers",
         "name": "2-N: MacFusProb_128mpi_2omp",
         "type": "scatter",
         "x": [
          786432000,
          983040000,
          1179648000,
          1376256000,
          1572864000,
          1769472000,
          1966080000,
          2162688000,
          2359296000,
          2555904000,
          2752512000,
          2949120000,
          3145728000,
          3342336000,
          3538944000,
          3735552000,
          3932160000
         ],
         "y": [
          571.4464,
          580.71424,
          563.24928,
          557.6704,
          526.15808,
          523.4464,
          488.54656,
          478.87616,
          452.10112,
          450.98304,
          425.95904,
          402.17984,
          377.7792,
          408.16128,
          389.46496,
          393.17824,
          379.1104
         ]
        },
        {
         "line": {
          "color": "darkred",
          "width": 3
         },
         "marker": {
          "line": {
           "color": "darkblue",
           "width": 1
          },
          "size": 8,
          "symbol": "star"
         },
         "mode": "lines+markers",
         "name": "2-N: MacNonFusNonProb_128mpi_2omp",
         "type": "scatter",
         "x": [
          983040000,
          786432000,
          1179648000,
          1376256000,
          1572864000,
          1769472000,
          1966080000,
          2162688000,
          2359296000,
          2555904000,
          2752512000,
          2949120000,
          3145728000,
          3342336000,
          3538944000,
          3735552000,
          3932160000
         ],
         "y": [
          437.7792,
          423.37088,
          504.95552,
          469.58016,
          456.71552,
          446.03776,
          415.43104,
          407.616,
          391.0624,
          350.50304,
          367.84256,
          364.7648,
          357.11104,
          345.136,
          318.96448,
          335.8912,
          312.12544
         ]
        },
        {
         "line": {
          "color": "darkorchid",
          "width": 3
         },
         "marker": {
          "line": {
           "color": "darkblue",
           "width": 1
          },
          "size": 8,
          "symbol": "star"
         },
         "mode": "lines+markers",
         "name": "2-N: MacNewgeoProb_64mpi_4omp",
         "type": "scatter",
         "x": [
          589824000,
          688128000,
          786432000,
          884736000,
          983040000,
          1081344000,
          1179648000,
          1277952000,
          1376256000,
          1474560000,
          1572864000,
          1671168000,
          1769472000,
          1867776000,
          1966080000,
          2064384000,
          2162688000,
          2260992000,
          2359296000,
          2457600000,
          2555904000,
          2654208000,
          2752512000,
          2850816000,
          2949120000,
          3047424000,
          3145728000,
          3244032000,
          3342336000,
          3440640000,
          3538944000,
          3637248000,
          3735552000,
          3833856000,
          3932160000
         ],
         "y": [
          411.8272,
          421.4016,
          429.7824,
          427.0816,
          445.9296,
          451.2512,
          453.6256,
          436.8384,
          397.7536,
          427.1744,
          433.152,
          421.4016,
          397.2832,
          397.1456,
          390.6752,
          368.016,
          360.576,
          362.9024,
          352.2848,
          344.6592,
          333.2928,
          328.0416,
          322.8672,
          328.9472,
          297.98208,
          316.70784,
          311.14912,
          301.6544,
          292.71584,
          307.57728,
          293.78976,
          296.12416,
          278.99456,
          277.71808,
          272.07456
         ]
        },
        {
         "line": {
          "color": "magenta",
          "width": 3
         },
         "marker": {
          "line": {
           "color": "darkblue",
           "width": 1
          },
          "size": 8,
          "symbol": "star"
         },
         "mode": "lines+markers",
         "name": "2-N: AvxFusNonProb_64mpi_4omp",
         "type": "scatter",
         "x": [
          589824000,
          688128000,
          786432000,
          884736000,
          983040000,
          1081344000,
          1179648000,
          1277952000,
          1376256000,
          1474560000,
          1572864000,
          1671168000,
          1769472000,
          1867776000,
          1966080000,
          2064384000,
          2162688000,
          2260992000,
          2359296000,
          2457600000,
          2555904000,
          2654208000,
          2752512000,
          2850816000,
          2949120000,
          3047424000,
          3145728000,
          3244032000,
          3342336000,
          3440640000,
          3538944000,
          3637248000,
          3735552000,
          3833856000,
          3932160000
         ],
         "y": [
          754.3168,
          818.768,
          886.4096,
          832.4608,
          895.1648,
          871.872,
          903.3504,
          821.1232,
          806.5184,
          787.7856,
          740.0544,
          678.3776,
          603.488,
          642.768,
          598.8736,
          530.1984,
          563.9328,
          548.8064,
          519.3088,
          501.2448,
          501.4048,
          493.9936,
          467.232,
          466.9856,
          461.6832,
          454.1056,
          431.0016,
          441.1744,
          439.712,
          429.9808,
          405.9904,
          411.6544,
          415.0912,
          412.032,
          378.8128
         ]
        },
        {
         "line": {
          "color": "palegreen",
          "width": 3
         },
         "marker": {
          "line": {
           "color": "darkblue",
           "width": 1
          },
          "size": 8,
          "symbol": "star"
         },
         "mode": "lines+markers",
         "name": "2-N: AvxNonFusNonProb_128mpi_2omp",
         "type": "scatter",
         "x": [
          786432000,
          983040000,
          1179648000,
          1376256000,
          1572864000,
          1769472000,
          1966080000,
          2162688000,
          2359296000,
          2555904000,
          2752512000,
          2949120000,
          3145728000,
          3342336000,
          3538944000,
          3735552000
         ],
         "y": [
          764.0832,
          748.5888,
          705.4208,
          636.68608,
          581.9968,
          549.69472,
          514.54144,
          480.18944,
          448.4416,
          437.33632,
          420.78976,
          414.00768,
          379.08608,
          384.56704,
          386.56768,
          381.376
         ]
        },
        {
         "line": {
          "color": "olive",
          "width": 3
         },
         "marker": {
          "line": {
           "color": "darkblue",
           "width": 1
          },
          "size": 8,
          "symbol": "star"
         },
         "mode": "lines+markers",
         "name": "2-N: AvxNewgeoProb_64mpi_4omp",
         "type": "scatter",
         "x": [
          688128000,
          589824000,
          786432000,
          884736000,
          983040000,
          1081344000,
          1179648000,
          1277952000,
          1376256000,
          1572864000,
          1474560000,
          1671168000,
          1769472000,
          1867776000,
          2064384000,
          2162688000,
          2260992000,
          2359296000,
          2457600000,
          2555904000,
          2752512000,
          2654208000,
          2850816000,
          2949120000,
          3047424000,
          3145728000,
          3244032000,
          3342336000,
          3440640000,
          3538944000,
          3637248000,
          3735552000,
          3833856000,
          3932160000
         ],
         "y": [
          578.6816,
          552.032,
          606.8768,
          599.8304,
          588.9888,
          624.7168,
          616.8224,
          590.4992,
          559.904,
          482.4672,
          550.016,
          465.8048,
          467.2896,
          456.912,
          416.096,
          403.2576,
          402.528,
          381.3984,
          375.9776,
          373.4464,
          348.6592,
          364.2528,
          352.2752,
          344.5248,
          311.70848,
          338.4992,
          330.9792,
          328.304,
          320.416,
          321.3824,
          323.5168,
          315.66496,
          299.19712,
          301.09056
         ]
        },
        {
         "line": {
          "color": "darkblue",
          "width": 3
         },
         "marker": {
          "line": {
           "color": "darkblue",
           "width": 1
          },
          "size": 8,
          "symbol": "star"
         },
         "mode": "lines+markers",
         "name": "2-N: VectFusProb_64mpi_4omp",
         "type": "scatter",
         "x": [
          589824000,
          688128000,
          786432000,
          884736000,
          983040000,
          1081344000,
          1179648000,
          1277952000,
          1376256000,
          1474560000,
          1572864000,
          1671168000,
          1769472000,
          1867776000,
          1966080000,
          2064384000,
          2162688000,
          2260992000,
          2359296000,
          2457600000,
          2555904000,
          2654208000,
          2752512000,
          2850816000,
          2949120000,
          3047424000,
          3145728000,
          3244032000,
          3342336000,
          3440640000,
          3637248000,
          3538944000,
          3735552000,
          3833856000,
          3932160000
         ],
         "y": [
          726.7424,
          750.6752,
          754.5824,
          812.2592,
          823.3184,
          789.296,
          797.7248,
          786.6752,
          750.7904,
          716.416,
          701.1488,
          657.9744,
          649.8752,
          616.8224,
          581.5776,
          579.0752,
          564.7936,
          548.256,
          505.376,
          508.016,
          500.8704,
          499.7632,
          485.3984,
          471.504,
          460.0736,
          445.3248,
          452.336,
          448.9248,
          436.0128,
          425.6448,
          396.32,
          432.3392,
          422.6976,
          412.2304,
          407.1904
         ]
        },
        {
         "line": {
          "color": "orange",
          "width": 3
         },
         "marker": {
          "line": {
           "color": "darkblue",
           "width": 1
          },
          "size": 8,
          "symbol": "star"
         },
         "mode": "lines+markers",
         "name": "2-N: VectNonFusNonProb_128mpi_2omp",
         "type": "scatter",
         "x": [
          786432000,
          983040000,
          1179648000,
          1376256000,
          1572864000,
          1769472000,
          1966080000,
          2162688000,
          2359296000,
          2555904000,
          2752512000,
          2949120000,
          3145728000,
          3342336000,
          3538944000,
          3932160000,
          3735552000
         ],
         "y": [
          651.3728,
          671.7696,
          662.1824,
          611.77088,
          504.1696,
          531.22432,
          453.53088,
          466.26048,
          456.76736,
          434.4896,
          420.4192,
          376.99456,
          389.13472,
          391.63264,
          386.0192,
          365.92576,
          368.59008
         ]
        },
        {
         "line": {
          "color": "salmon",
          "width": 3
         },
         "marker": {
          "line": {
           "color": "darkblue",
           "width": 1
          },
          "size": 8,
          "symbol": "star"
         },
         "mode": "lines+markers",
         "name": "2-N: VectNewgeoProb_64mpi_4omp",
         "type": "scatter",
         "x": [
          589824000,
          688128000,
          786432000,
          884736000,
          983040000,
          1081344000,
          1179648000,
          1277952000,
          1376256000,
          1474560000,
          1572864000,
          1671168000,
          1769472000,
          1867776000,
          1966080000,
          2064384000,
          2162688000,
          2260992000,
          2359296000,
          2457600000,
          2555904000,
          2654208000,
          2752512000,
          2850816000,
          2949120000,
          3047424000,
          3145728000,
          3244032000,
          3342336000,
          3440640000,
          3637248000,
          3735552000,
          3932160000,
          3833856000
         ],
         "y": [
          509.696,
          525.6384,
          537.9808,
          537.7216,
          496.0288,
          557.008,
          541.4688,
          562.8416,
          541.3024,
          510.4352,
          481.3888,
          475.3088,
          450.7776,
          453.824,
          434.8864,
          397.1936,
          399.6416,
          402.96,
          384.272,
          384.0896,
          342.9152,
          352.2688,
          349.1168,
          354.9024,
          341.4976,
          336.9984,
          334.3584,
          324.2144,
          318.29984,
          330.8768,
          324.912,
          299.98272,
          294.23264,
          294.4176
         ]
        }
       ],
       "layout": {
        "annotations": [
         {
          "align": "left",
          "arrowcolor": "#636363",
          "arrowhead": 1,
          "arrowsize": 1,
          "arrowwidth": 2,
          "ax": -20,
          "ay": -30,
          "font": {
           "color": "purple",
           "family": "Sans Serif",
           "size": 12
          },
          "showarrow": false,
          "text": "LLC Size Per Node: 80M",
          "x": "512e6",
          "y": 280,
          "yanchor": "bottom"
         },
         {
          "align": "left",
          "arrowcolor": "#636363",
          "arrowhead": 1,
          "arrowsize": 1,
          "arrowwidth": 2,
          "ax": -20,
          "ay": -30,
          "font": {
           "color": "orange",
           "family": "Sans Serif",
           "size": 12
          },
          "showarrow": false,
          "text": "Max Bandwidth Per Node",
          "x": "130e6",
          "y": 700,
          "yanchor": "bottom"
         }
        ],
        "legend": {
         "bordercolor": "black",
         "borderwidth": 1
        },
        "shapes": [
         {
          "line": {
           "color": "green",
           "dash": "dot",
           "width": 3
          },
          "type": "line",
          "x0": 512000000,
          "x1": 512000000,
          "xref": "x",
          "y0": 0,
          "y1": 1,
          "yref": "y domain"
         },
         {
          "line": {
           "color": "red",
           "dash": "dash",
           "width": 3
          },
          "type": "line",
          "x0": 0,
          "x1": 1,
          "xref": "x domain",
          "y0": 409,
          "y1": 409,
          "yref": "y"
         }
        ],
        "template": {
         "data": {
          "bar": [
           {
            "error_x": {
             "color": "#2a3f5f"
            },
            "error_y": {
             "color": "#2a3f5f"
            },
            "marker": {
             "line": {
              "color": "#E5ECF6",
              "width": 0.5
             },
             "pattern": {
              "fillmode": "overlay",
              "size": 10,
              "solidity": 0.2
             }
            },
            "type": "bar"
           }
          ],
          "barpolar": [
           {
            "marker": {
             "line": {
              "color": "#E5ECF6",
              "width": 0.5
             },
             "pattern": {
              "fillmode": "overlay",
              "size": 10,
              "solidity": 0.2
             }
            },
            "type": "barpolar"
           }
          ],
          "carpet": [
           {
            "aaxis": {
             "endlinecolor": "#2a3f5f",
             "gridcolor": "white",
             "linecolor": "white",
             "minorgridcolor": "white",
             "startlinecolor": "#2a3f5f"
            },
            "baxis": {
             "endlinecolor": "#2a3f5f",
             "gridcolor": "white",
             "linecolor": "white",
             "minorgridcolor": "white",
             "startlinecolor": "#2a3f5f"
            },
            "type": "carpet"
           }
          ],
          "choropleth": [
           {
            "colorbar": {
             "outlinewidth": 0,
             "ticks": ""
            },
            "type": "choropleth"
           }
          ],
          "contour": [
           {
            "colorbar": {
             "outlinewidth": 0,
             "ticks": ""
            },
            "colorscale": [
             [
              0,
              "#0d0887"
             ],
             [
              0.1111111111111111,
              "#46039f"
             ],
             [
              0.2222222222222222,
              "#7201a8"
             ],
             [
              0.3333333333333333,
              "#9c179e"
             ],
             [
              0.4444444444444444,
              "#bd3786"
             ],
             [
              0.5555555555555556,
              "#d8576b"
             ],
             [
              0.6666666666666666,
              "#ed7953"
             ],
             [
              0.7777777777777778,
              "#fb9f3a"
             ],
             [
              0.8888888888888888,
              "#fdca26"
             ],
             [
              1,
              "#f0f921"
             ]
            ],
            "type": "contour"
           }
          ],
          "contourcarpet": [
           {
            "colorbar": {
             "outlinewidth": 0,
             "ticks": ""
            },
            "type": "contourcarpet"
           }
          ],
          "heatmap": [
           {
            "colorbar": {
             "outlinewidth": 0,
             "ticks": ""
            },
            "colorscale": [
             [
              0,
              "#0d0887"
             ],
             [
              0.1111111111111111,
              "#46039f"
             ],
             [
              0.2222222222222222,
              "#7201a8"
             ],
             [
              0.3333333333333333,
              "#9c179e"
             ],
             [
              0.4444444444444444,
              "#bd3786"
             ],
             [
              0.5555555555555556,
              "#d8576b"
             ],
             [
              0.6666666666666666,
              "#ed7953"
             ],
             [
              0.7777777777777778,
              "#fb9f3a"
             ],
             [
              0.8888888888888888,
              "#fdca26"
             ],
             [
              1,
              "#f0f921"
             ]
            ],
            "type": "heatmap"
           }
          ],
          "heatmapgl": [
           {
            "colorbar": {
             "outlinewidth": 0,
             "ticks": ""
            },
            "colorscale": [
             [
              0,
              "#0d0887"
             ],
             [
              0.1111111111111111,
              "#46039f"
             ],
             [
              0.2222222222222222,
              "#7201a8"
             ],
             [
              0.3333333333333333,
              "#9c179e"
             ],
             [
              0.4444444444444444,
              "#bd3786"
             ],
             [
              0.5555555555555556,
              "#d8576b"
             ],
             [
              0.6666666666666666,
              "#ed7953"
             ],
             [
              0.7777777777777778,
              "#fb9f3a"
             ],
             [
              0.8888888888888888,
              "#fdca26"
             ],
             [
              1,
              "#f0f921"
             ]
            ],
            "type": "heatmapgl"
           }
          ],
          "histogram": [
           {
            "marker": {
             "pattern": {
              "fillmode": "overlay",
              "size": 10,
              "solidity": 0.2
             }
            },
            "type": "histogram"
           }
          ],
          "histogram2d": [
           {
            "colorbar": {
             "outlinewidth": 0,
             "ticks": ""
            },
            "colorscale": [
             [
              0,
              "#0d0887"
             ],
             [
              0.1111111111111111,
              "#46039f"
             ],
             [
              0.2222222222222222,
              "#7201a8"
             ],
             [
              0.3333333333333333,
              "#9c179e"
             ],
             [
              0.4444444444444444,
              "#bd3786"
             ],
             [
              0.5555555555555556,
              "#d8576b"
             ],
             [
              0.6666666666666666,
              "#ed7953"
             ],
             [
              0.7777777777777778,
              "#fb9f3a"
             ],
             [
              0.8888888888888888,
              "#fdca26"
             ],
             [
              1,
              "#f0f921"
             ]
            ],
            "type": "histogram2d"
           }
          ],
          "histogram2dcontour": [
           {
            "colorbar": {
             "outlinewidth": 0,
             "ticks": ""
            },
            "colorscale": [
             [
              0,
              "#0d0887"
             ],
             [
              0.1111111111111111,
              "#46039f"
             ],
             [
              0.2222222222222222,
              "#7201a8"
             ],
             [
              0.3333333333333333,
              "#9c179e"
             ],
             [
              0.4444444444444444,
              "#bd3786"
             ],
             [
              0.5555555555555556,
              "#d8576b"
             ],
             [
              0.6666666666666666,
              "#ed7953"
             ],
             [
              0.7777777777777778,
              "#fb9f3a"
             ],
             [
              0.8888888888888888,
              "#fdca26"
             ],
             [
              1,
              "#f0f921"
             ]
            ],
            "type": "histogram2dcontour"
           }
          ],
          "mesh3d": [
           {
            "colorbar": {
             "outlinewidth": 0,
             "ticks": ""
            },
            "type": "mesh3d"
           }
          ],
          "parcoords": [
           {
            "line": {
             "colorbar": {
              "outlinewidth": 0,
              "ticks": ""
             }
            },
            "type": "parcoords"
           }
          ],
          "pie": [
           {
            "automargin": true,
            "type": "pie"
           }
          ],
          "scatter": [
           {
            "fillpattern": {
             "fillmode": "overlay",
             "size": 10,
             "solidity": 0.2
            },
            "type": "scatter"
           }
          ],
          "scatter3d": [
           {
            "line": {
             "colorbar": {
              "outlinewidth": 0,
              "ticks": ""
             }
            },
            "marker": {
             "colorbar": {
              "outlinewidth": 0,
              "ticks": ""
             }
            },
            "type": "scatter3d"
           }
          ],
          "scattercarpet": [
           {
            "marker": {
             "colorbar": {
              "outlinewidth": 0,
              "ticks": ""
             }
            },
            "type": "scattercarpet"
           }
          ],
          "scattergeo": [
           {
            "marker": {
             "colorbar": {
              "outlinewidth": 0,
              "ticks": ""
             }
            },
            "type": "scattergeo"
           }
          ],
          "scattergl": [
           {
            "marker": {
             "colorbar": {
              "outlinewidth": 0,
              "ticks": ""
             }
            },
            "type": "scattergl"
           }
          ],
          "scattermapbox": [
           {
            "marker": {
             "colorbar": {
              "outlinewidth": 0,
              "ticks": ""
             }
            },
            "type": "scattermapbox"
           }
          ],
          "scatterpolar": [
           {
            "marker": {
             "colorbar": {
              "outlinewidth": 0,
              "ticks": ""
             }
            },
            "type": "scatterpolar"
           }
          ],
          "scatterpolargl": [
           {
            "marker": {
             "colorbar": {
              "outlinewidth": 0,
              "ticks": ""
             }
            },
            "type": "scatterpolargl"
           }
          ],
          "scatterternary": [
           {
            "marker": {
             "colorbar": {
              "outlinewidth": 0,
              "ticks": ""
             }
            },
            "type": "scatterternary"
           }
          ],
          "surface": [
           {
            "colorbar": {
             "outlinewidth": 0,
             "ticks": ""
            },
            "colorscale": [
             [
              0,
              "#0d0887"
             ],
             [
              0.1111111111111111,
              "#46039f"
             ],
             [
              0.2222222222222222,
              "#7201a8"
             ],
             [
              0.3333333333333333,
              "#9c179e"
             ],
             [
              0.4444444444444444,
              "#bd3786"
             ],
             [
              0.5555555555555556,
              "#d8576b"
             ],
             [
              0.6666666666666666,
              "#ed7953"
             ],
             [
              0.7777777777777778,
              "#fb9f3a"
             ],
             [
              0.8888888888888888,
              "#fdca26"
             ],
             [
              1,
              "#f0f921"
             ]
            ],
            "type": "surface"
           }
          ],
          "table": [
           {
            "cells": {
             "fill": {
              "color": "#EBF0F8"
             },
             "line": {
              "color": "white"
             }
            },
            "header": {
             "fill": {
              "color": "#C8D4E3"
             },
             "line": {
              "color": "white"
             }
            },
            "type": "table"
           }
          ]
         },
         "layout": {
          "annotationdefaults": {
           "arrowcolor": "#2a3f5f",
           "arrowhead": 0,
           "arrowwidth": 1
          },
          "autotypenumbers": "strict",
          "coloraxis": {
           "colorbar": {
            "outlinewidth": 0,
            "ticks": ""
           }
          },
          "colorscale": {
           "diverging": [
            [
             0,
             "#8e0152"
            ],
            [
             0.1,
             "#c51b7d"
            ],
            [
             0.2,
             "#de77ae"
            ],
            [
             0.3,
             "#f1b6da"
            ],
            [
             0.4,
             "#fde0ef"
            ],
            [
             0.5,
             "#f7f7f7"
            ],
            [
             0.6,
             "#e6f5d0"
            ],
            [
             0.7,
             "#b8e186"
            ],
            [
             0.8,
             "#7fbc41"
            ],
            [
             0.9,
             "#4d9221"
            ],
            [
             1,
             "#276419"
            ]
           ],
           "sequential": [
            [
             0,
             "#0d0887"
            ],
            [
             0.1111111111111111,
             "#46039f"
            ],
            [
             0.2222222222222222,
             "#7201a8"
            ],
            [
             0.3333333333333333,
             "#9c179e"
            ],
            [
             0.4444444444444444,
             "#bd3786"
            ],
            [
             0.5555555555555556,
             "#d8576b"
            ],
            [
             0.6666666666666666,
             "#ed7953"
            ],
            [
             0.7777777777777778,
             "#fb9f3a"
            ],
            [
             0.8888888888888888,
             "#fdca26"
            ],
            [
             1,
             "#f0f921"
            ]
           ],
           "sequentialminus": [
            [
             0,
             "#0d0887"
            ],
            [
             0.1111111111111111,
             "#46039f"
            ],
            [
             0.2222222222222222,
             "#7201a8"
            ],
            [
             0.3333333333333333,
             "#9c179e"
            ],
            [
             0.4444444444444444,
             "#bd3786"
            ],
            [
             0.5555555555555556,
             "#d8576b"
            ],
            [
             0.6666666666666666,
             "#ed7953"
            ],
            [
             0.7777777777777778,
             "#fb9f3a"
            ],
            [
             0.8888888888888888,
             "#fdca26"
            ],
            [
             1,
             "#f0f921"
            ]
           ]
          },
          "colorway": [
           "#636efa",
           "#EF553B",
           "#00cc96",
           "#ab63fa",
           "#FFA15A",
           "#19d3f3",
           "#FF6692",
           "#B6E880",
           "#FF97FF",
           "#FECB52"
          ],
          "font": {
           "color": "#2a3f5f"
          },
          "geo": {
           "bgcolor": "white",
           "lakecolor": "white",
           "landcolor": "#E5ECF6",
           "showlakes": true,
           "showland": true,
           "subunitcolor": "white"
          },
          "hoverlabel": {
           "align": "left"
          },
          "hovermode": "closest",
          "mapbox": {
           "style": "light"
          },
          "paper_bgcolor": "white",
          "plot_bgcolor": "#E5ECF6",
          "polar": {
           "angularaxis": {
            "gridcolor": "white",
            "linecolor": "white",
            "ticks": ""
           },
           "bgcolor": "#E5ECF6",
           "radialaxis": {
            "gridcolor": "white",
            "linecolor": "white",
            "ticks": ""
           }
          },
          "scene": {
           "xaxis": {
            "backgroundcolor": "#E5ECF6",
            "gridcolor": "white",
            "gridwidth": 2,
            "linecolor": "white",
            "showbackground": true,
            "ticks": "",
            "zerolinecolor": "white"
           },
           "yaxis": {
            "backgroundcolor": "#E5ECF6",
            "gridcolor": "white",
            "gridwidth": 2,
            "linecolor": "white",
            "showbackground": true,
            "ticks": "",
            "zerolinecolor": "white"
           },
           "zaxis": {
            "backgroundcolor": "#E5ECF6",
            "gridcolor": "white",
            "gridwidth": 2,
            "linecolor": "white",
            "showbackground": true,
            "ticks": "",
            "zerolinecolor": "white"
           }
          },
          "shapedefaults": {
           "line": {
            "color": "#2a3f5f"
           }
          },
          "ternary": {
           "aaxis": {
            "gridcolor": "white",
            "linecolor": "white",
            "ticks": ""
           },
           "baxis": {
            "gridcolor": "white",
            "linecolor": "white",
            "ticks": ""
           },
           "bgcolor": "#E5ECF6",
           "caxis": {
            "gridcolor": "white",
            "linecolor": "white",
            "ticks": ""
           }
          },
          "title": {
           "x": 0.05
          },
          "xaxis": {
           "automargin": true,
           "gridcolor": "white",
           "linecolor": "white",
           "ticks": "",
           "title": {
            "standoff": 15
           },
           "zerolinecolor": "white",
           "zerolinewidth": 2
          },
          "yaxis": {
           "automargin": true,
           "gridcolor": "white",
           "linecolor": "white",
           "ticks": "",
           "title": {
            "standoff": 15
           },
           "zerolinecolor": "white",
           "zerolinewidth": 2
          }
         }
        },
        "title": {
         "text": "\"HIPPO BEST CASES\" Bandwidth Measurement"
        },
        "xaxis": {
         "ticks": "outside",
         "title": {
          "text": "Dirc_Data_Mov"
         }
        },
        "yaxis": {
         "ticks": "outside",
         "title": {
          "text": "Bandwidth/Node"
         }
        }
       }
      },
      "text/html": [
       "<div>                            <div id=\"0f45d34b-b042-48ee-97cb-c7eb596cd78f\" class=\"plotly-graph-div\" style=\"height:525px; width:100%;\"></div>            <script type=\"text/javascript\">                require([\"plotly\"], function(Plotly) {                    window.PLOTLYENV=window.PLOTLYENV || {};                                    if (document.getElementById(\"0f45d34b-b042-48ee-97cb-c7eb596cd78f\")) {                    Plotly.newPlot(                        \"0f45d34b-b042-48ee-97cb-c7eb596cd78f\",                        [{\"line\":{\"color\":\"royalblue\",\"width\":3},\"marker\":{\"line\":{\"color\":\"yellow\",\"width\":1},\"size\":9,\"symbol\":\"hexagon\"},\"mode\":\"lines+markers\",\"name\":\"1-N: MacroFusProb_64mpi_2omp\",\"x\":[786432000.0,983040000.0,1179648000.0,1376256000.0,1572864000.0,1769472000.0,1966080000.0,2162688000.0,2359296000.0,2555904000.0,2752512000.0,2949120000.0,3145728000.0,3342336000.0,3538944000.0,3932160000.0],\"y\":[564.69376,548.49536,574.75136,562.02048,545.63648,528.64512,502.2592,458.2656,461.57632,453.35552,438.62592,427.96352,417.63136,408.80896,388.272,387.00864],\"type\":\"scatter\"},{\"line\":{\"color\":\"darkred\",\"width\":3},\"marker\":{\"line\":{\"color\":\"yellow\",\"width\":1},\"size\":9,\"symbol\":\"hexagon\"},\"mode\":\"lines+markers\",\"name\":\"1-N: MacroNonFusProb_64mpi_2omp\",\"x\":[786432000.0,983040000.0,1179648000.0,1376256000.0,1769472000.0,1572864000.0,2162688000.0,1966080000.0,2555904000.0,2359296000.0,2752512000.0,2949120000.0,3145728000.0,3342336000.0,3538944000.0,3735552000.0,3932160000.0],\"y\":[499.78752,499.80864,460.84416,487.03168,448.67392,467.01312,414.08768,431.76192,385.54624,378.42624,365.9936,362.848,364.53632,350.6208,343.31264,327.65184,336.38208],\"type\":\"scatter\"},{\"line\":{\"color\":\"darkorchid\",\"width\":3},\"marker\":{\"line\":{\"color\":\"yellow\",\"width\":1},\"size\":9,\"symbol\":\"hexagon\"},\"mode\":\"lines+markers\",\"name\":\"1-N: MacroNewgeoProb_64mpi_2omp\",\"x\":[786432000.0,983040000.0,1179648000.0,1376256000.0,1572864000.0,1966080000.0,1769472000.0,2162688000.0,2555904000.0,2359296000.0,2752512000.0,2949120000.0,3145728000.0,3342336000.0,3538944000.0,3735552000.0,3932160000.0],\"y\":[448.54464,458.65664,454.61952,438.27648,431.03296,372.42368,391.55968,360.80768,343.6608,348.55744,322.94784,311.68064,314.24256,300.75008,285.65952,299.34336,279.93024],\"type\":\"scatter\"},{\"line\":{\"color\":\"magenta\",\"width\":3},\"marker\":{\"line\":{\"color\":\"yellow\",\"width\":1},\"size\":9,\"symbol\":\"hexagon\"},\"mode\":\"lines+markers\",\"name\":\"1-N: AvxFusProb_32mpi_4omp\",\"x\":[491520000.0,589824000.0,688128000.0,786432000.0,884736000.0,983040000.0,1081344000.0,1179648000.0,1277952000.0,1376256000.0,1474560000.0,1572864000.0,1671168000.0,1769472000.0,1867776000.0,1966080000.0,2064384000.0,2162688000.0,2260992000.0,2359296000.0,2457600000.0,2555904000.0,2654208000.0,2752512000.0,2850816000.0,2949120000.0,3047424000.0,3145728000.0,3244032000.0,3342336000.0,3440640000.0,3538944000.0,3637248000.0,3735552000.0,3833856000.0,3932160000.0],\"y\":[737.264,820.9888,822.8416,857.4176,911.3312,842.544,904.7072,874.2176,855.0848,807.8144,774.6272,717.184,707.776,660.9024,648.2016,596.7648,579.8816,560.8992,551.9392,525.8464,509.824,477.648,490.048,475.8304,471.9648,458.2144,453.3408,432.8576,445.7984,433.8656,433.264,422.6304,420.5536,398.1408,408.224,403.36],\"type\":\"scatter\"},{\"line\":{\"color\":\"palegreen\",\"width\":3},\"marker\":{\"line\":{\"color\":\"yellow\",\"width\":1},\"size\":9,\"symbol\":\"hexagon\"},\"mode\":\"lines+markers\",\"name\":\"1-N: AvxNonFusProb_64mpi_2omp\",\"x\":[786432000.0,983040000.0,1179648000.0,1376256000.0,1572864000.0,1769472000.0,2162688000.0,1966080000.0,2359296000.0,2555904000.0,2752512000.0,2949120000.0,3145728000.0,3342336000.0,3538944000.0,3735552000.0,3932160000.0],\"y\":[724.192,670.2848,718.1952,674.2144,614.46144,555.20192,482.7072,513.5136,457.5872,442.57856,429.8624,418.9344,397.3088,396.47424,373.46752,376.76864,373.09632],\"type\":\"scatter\"},{\"line\":{\"color\":\"olive\",\"width\":3},\"marker\":{\"line\":{\"color\":\"yellow\",\"width\":1},\"size\":9,\"symbol\":\"hexagon\"},\"mode\":\"lines+markers\",\"name\":\"1-N: AvxNewgeoProb_64mpi_2omp\",\"x\":[786432000.0,983040000.0,1179648000.0,1376256000.0,1572864000.0,1966080000.0,1769472000.0,2359296000.0,2162688000.0,2555904000.0,2752512000.0,2949120000.0,3145728000.0,3342336000.0,3538944000.0,3735552000.0,3932160000.0],\"y\":[620.0096,627.46048,616.56512,564.38912,520.12864,427.32672,458.86272,389.83552,406.93568,362.14784,357.37472,343.9456,338.368,336.35584,324.65088,305.57824,301.08672],\"type\":\"scatter\"},{\"line\":{\"color\":\"darkblue\",\"width\":3},\"marker\":{\"line\":{\"color\":\"yellow\",\"width\":1},\"size\":9,\"symbol\":\"hexagon\"},\"mode\":\"lines+markers\",\"name\":\"1-N: VectFusProb_32mpi_4omp\",\"x\":[491520000.0,589824000.0,688128000.0,786432000.0,884736000.0,983040000.0,1081344000.0,1179648000.0,1277952000.0,1376256000.0,1474560000.0,1572864000.0,1769472000.0,1671168000.0,1867776000.0,1966080000.0,2064384000.0,2162688000.0,2260992000.0,2359296000.0,2457600000.0,2555904000.0,2654208000.0,2752512000.0,2850816000.0,2949120000.0,3047424000.0,3145728000.0,3244032000.0,3342336000.0,3440640000.0,3538944000.0,3637248000.0,3735552000.0,3833856000.0,3932160000.0],\"y\":[669.2256,678.5216,721.1296,792.752,795.0336,796.8672,735.072,809.904,778.7968,755.2896,745.8208,707.0816,661.0464,688.4448,628.5248,601.8176,578.112,567.0016,545.7728,533.0976,521.2896,512.2912,488.3136,487.6864,480.64,462.2144,462.1792,442.0032,447.3344,438.8512,436.24,429.3664,406.88,422.3808,415.984,415.1584],\"type\":\"scatter\"},{\"line\":{\"color\":\"orange\",\"width\":3},\"marker\":{\"line\":{\"color\":\"yellow\",\"width\":1},\"size\":9,\"symbol\":\"hexagon\"},\"mode\":\"lines+markers\",\"name\":\"1-N: VectNonFusProb_64mpi_2omp\",\"x\":[786432000.0,983040000.0,1179648000.0,1376256000.0,1572864000.0,1769472000.0,1966080000.0,2162688000.0,2359296000.0,2555904000.0,2752512000.0,2949120000.0,3145728000.0,3342336000.0,3538944000.0,3735552000.0,3932160000.0],\"y\":[654.432,631.20128,660.7104,612.21568,588.27968,547.54304,515.32352,470.84544,456.79296,427.82272,413.47392,409.6992,406.12864,382.90304,386.54592,350.78976,369.65184],\"type\":\"scatter\"},{\"line\":{\"color\":\"salmon\",\"width\":3},\"marker\":{\"line\":{\"color\":\"yellow\",\"width\":1},\"size\":9,\"symbol\":\"hexagon\"},\"mode\":\"lines+markers\",\"name\":\"1-N: VectNewgeoProb_64mpi_2omp\",\"x\":[786432000.0,983040000.0,1179648000.0,1376256000.0,1572864000.0,1769472000.0,1966080000.0,2162688000.0,2359296000.0,2555904000.0,2752512000.0,2949120000.0,3145728000.0,3342336000.0,3538944000.0,3735552000.0,3932160000.0],\"y\":[575.35616,516.70272,569.33696,534.25728,493.58208,448.4448,410.58176,405.5808,377.54944,337.79008,343.65504,326.15552,327.83808,326.288,309.25312,320.45568,277.79712],\"type\":\"scatter\"},{\"line\":{\"color\":\"royalblue\",\"width\":3},\"marker\":{\"line\":{\"color\":\"darkblue\",\"width\":1},\"size\":8,\"symbol\":\"star\"},\"mode\":\"lines+markers\",\"name\":\"2-N: MacFusProb_128mpi_2omp\",\"x\":[786432000.0,983040000.0,1179648000.0,1376256000.0,1572864000.0,1769472000.0,1966080000.0,2162688000.0,2359296000.0,2555904000.0,2752512000.0,2949120000.0,3145728000.0,3342336000.0,3538944000.0,3735552000.0,3932160000.0],\"y\":[571.4464,580.71424,563.24928,557.6704,526.15808,523.4464,488.54656,478.87616,452.10112,450.98304,425.95904,402.17984,377.7792,408.16128,389.46496,393.17824,379.1104],\"type\":\"scatter\"},{\"line\":{\"color\":\"darkred\",\"width\":3},\"marker\":{\"line\":{\"color\":\"darkblue\",\"width\":1},\"size\":8,\"symbol\":\"star\"},\"mode\":\"lines+markers\",\"name\":\"2-N: MacNonFusNonProb_128mpi_2omp\",\"x\":[983040000.0,786432000.0,1179648000.0,1376256000.0,1572864000.0,1769472000.0,1966080000.0,2162688000.0,2359296000.0,2555904000.0,2752512000.0,2949120000.0,3145728000.0,3342336000.0,3538944000.0,3735552000.0,3932160000.0],\"y\":[437.7792,423.37088,504.95552,469.58016,456.71552,446.03776,415.43104,407.616,391.0624,350.50304,367.84256,364.7648,357.11104,345.136,318.96448,335.8912,312.12544],\"type\":\"scatter\"},{\"line\":{\"color\":\"darkorchid\",\"width\":3},\"marker\":{\"line\":{\"color\":\"darkblue\",\"width\":1},\"size\":8,\"symbol\":\"star\"},\"mode\":\"lines+markers\",\"name\":\"2-N: MacNewgeoProb_64mpi_4omp\",\"x\":[589824000.0,688128000.0,786432000.0,884736000.0,983040000.0,1081344000.0,1179648000.0,1277952000.0,1376256000.0,1474560000.0,1572864000.0,1671168000.0,1769472000.0,1867776000.0,1966080000.0,2064384000.0,2162688000.0,2260992000.0,2359296000.0,2457600000.0,2555904000.0,2654208000.0,2752512000.0,2850816000.0,2949120000.0,3047424000.0,3145728000.0,3244032000.0,3342336000.0,3440640000.0,3538944000.0,3637248000.0,3735552000.0,3833856000.0,3932160000.0],\"y\":[411.8272,421.4016,429.7824,427.0816,445.9296,451.2512,453.6256,436.8384,397.7536,427.1744,433.152,421.4016,397.2832,397.1456,390.6752,368.016,360.576,362.9024,352.2848,344.6592,333.2928,328.0416,322.8672,328.9472,297.98208,316.70784,311.14912,301.6544,292.71584,307.57728,293.78976,296.12416,278.99456,277.71808,272.07456],\"type\":\"scatter\"},{\"line\":{\"color\":\"magenta\",\"width\":3},\"marker\":{\"line\":{\"color\":\"darkblue\",\"width\":1},\"size\":8,\"symbol\":\"star\"},\"mode\":\"lines+markers\",\"name\":\"2-N: AvxFusNonProb_64mpi_4omp\",\"x\":[589824000.0,688128000.0,786432000.0,884736000.0,983040000.0,1081344000.0,1179648000.0,1277952000.0,1376256000.0,1474560000.0,1572864000.0,1671168000.0,1769472000.0,1867776000.0,1966080000.0,2064384000.0,2162688000.0,2260992000.0,2359296000.0,2457600000.0,2555904000.0,2654208000.0,2752512000.0,2850816000.0,2949120000.0,3047424000.0,3145728000.0,3244032000.0,3342336000.0,3440640000.0,3538944000.0,3637248000.0,3735552000.0,3833856000.0,3932160000.0],\"y\":[754.3168,818.768,886.4096,832.4608,895.1648,871.872,903.3504,821.1232,806.5184,787.7856,740.0544,678.3776,603.488,642.768,598.8736,530.1984,563.9328,548.8064,519.3088,501.2448,501.4048,493.9936,467.232,466.9856,461.6832,454.1056,431.0016,441.1744,439.712,429.9808,405.9904,411.6544,415.0912,412.032,378.8128],\"type\":\"scatter\"},{\"line\":{\"color\":\"palegreen\",\"width\":3},\"marker\":{\"line\":{\"color\":\"darkblue\",\"width\":1},\"size\":8,\"symbol\":\"star\"},\"mode\":\"lines+markers\",\"name\":\"2-N: AvxNonFusNonProb_128mpi_2omp\",\"x\":[786432000.0,983040000.0,1179648000.0,1376256000.0,1572864000.0,1769472000.0,1966080000.0,2162688000.0,2359296000.0,2555904000.0,2752512000.0,2949120000.0,3145728000.0,3342336000.0,3538944000.0,3735552000.0],\"y\":[764.0832,748.5888,705.4208,636.68608,581.9968,549.69472,514.54144,480.18944,448.4416,437.33632,420.78976,414.00768,379.08608,384.56704,386.56768,381.376],\"type\":\"scatter\"},{\"line\":{\"color\":\"olive\",\"width\":3},\"marker\":{\"line\":{\"color\":\"darkblue\",\"width\":1},\"size\":8,\"symbol\":\"star\"},\"mode\":\"lines+markers\",\"name\":\"2-N: AvxNewgeoProb_64mpi_4omp\",\"x\":[688128000.0,589824000.0,786432000.0,884736000.0,983040000.0,1081344000.0,1179648000.0,1277952000.0,1376256000.0,1572864000.0,1474560000.0,1671168000.0,1769472000.0,1867776000.0,2064384000.0,2162688000.0,2260992000.0,2359296000.0,2457600000.0,2555904000.0,2752512000.0,2654208000.0,2850816000.0,2949120000.0,3047424000.0,3145728000.0,3244032000.0,3342336000.0,3440640000.0,3538944000.0,3637248000.0,3735552000.0,3833856000.0,3932160000.0],\"y\":[578.6816,552.032,606.8768,599.8304,588.9888,624.7168,616.8224,590.4992,559.904,482.4672,550.016,465.8048,467.2896,456.912,416.096,403.2576,402.528,381.3984,375.9776,373.4464,348.6592,364.2528,352.2752,344.5248,311.70848,338.4992,330.9792,328.304,320.416,321.3824,323.5168,315.66496,299.19712,301.09056],\"type\":\"scatter\"},{\"line\":{\"color\":\"darkblue\",\"width\":3},\"marker\":{\"line\":{\"color\":\"darkblue\",\"width\":1},\"size\":8,\"symbol\":\"star\"},\"mode\":\"lines+markers\",\"name\":\"2-N: VectFusProb_64mpi_4omp\",\"x\":[589824000.0,688128000.0,786432000.0,884736000.0,983040000.0,1081344000.0,1179648000.0,1277952000.0,1376256000.0,1474560000.0,1572864000.0,1671168000.0,1769472000.0,1867776000.0,1966080000.0,2064384000.0,2162688000.0,2260992000.0,2359296000.0,2457600000.0,2555904000.0,2654208000.0,2752512000.0,2850816000.0,2949120000.0,3047424000.0,3145728000.0,3244032000.0,3342336000.0,3440640000.0,3637248000.0,3538944000.0,3735552000.0,3833856000.0,3932160000.0],\"y\":[726.7424,750.6752,754.5824,812.2592,823.3184,789.296,797.7248,786.6752,750.7904,716.416,701.1488,657.9744,649.8752,616.8224,581.5776,579.0752,564.7936,548.256,505.376,508.016,500.8704,499.7632,485.3984,471.504,460.0736,445.3248,452.336,448.9248,436.0128,425.6448,396.32,432.3392,422.6976,412.2304,407.1904],\"type\":\"scatter\"},{\"line\":{\"color\":\"orange\",\"width\":3},\"marker\":{\"line\":{\"color\":\"darkblue\",\"width\":1},\"size\":8,\"symbol\":\"star\"},\"mode\":\"lines+markers\",\"name\":\"2-N: VectNonFusNonProb_128mpi_2omp\",\"x\":[786432000.0,983040000.0,1179648000.0,1376256000.0,1572864000.0,1769472000.0,1966080000.0,2162688000.0,2359296000.0,2555904000.0,2752512000.0,2949120000.0,3145728000.0,3342336000.0,3538944000.0,3932160000.0,3735552000.0],\"y\":[651.3728,671.7696,662.1824,611.77088,504.1696,531.22432,453.53088,466.26048,456.76736,434.4896,420.4192,376.99456,389.13472,391.63264,386.0192,365.92576,368.59008],\"type\":\"scatter\"},{\"line\":{\"color\":\"salmon\",\"width\":3},\"marker\":{\"line\":{\"color\":\"darkblue\",\"width\":1},\"size\":8,\"symbol\":\"star\"},\"mode\":\"lines+markers\",\"name\":\"2-N: VectNewgeoProb_64mpi_4omp\",\"x\":[589824000.0,688128000.0,786432000.0,884736000.0,983040000.0,1081344000.0,1179648000.0,1277952000.0,1376256000.0,1474560000.0,1572864000.0,1671168000.0,1769472000.0,1867776000.0,1966080000.0,2064384000.0,2162688000.0,2260992000.0,2359296000.0,2457600000.0,2555904000.0,2654208000.0,2752512000.0,2850816000.0,2949120000.0,3047424000.0,3145728000.0,3244032000.0,3342336000.0,3440640000.0,3637248000.0,3735552000.0,3932160000.0,3833856000.0],\"y\":[509.696,525.6384,537.9808,537.7216,496.0288,557.008,541.4688,562.8416,541.3024,510.4352,481.3888,475.3088,450.7776,453.824,434.8864,397.1936,399.6416,402.96,384.272,384.0896,342.9152,352.2688,349.1168,354.9024,341.4976,336.9984,334.3584,324.2144,318.29984,330.8768,324.912,299.98272,294.23264,294.4176],\"type\":\"scatter\"}],                        {\"template\":{\"data\":{\"histogram2dcontour\":[{\"type\":\"histogram2dcontour\",\"colorbar\":{\"outlinewidth\":0,\"ticks\":\"\"},\"colorscale\":[[0.0,\"#0d0887\"],[0.1111111111111111,\"#46039f\"],[0.2222222222222222,\"#7201a8\"],[0.3333333333333333,\"#9c179e\"],[0.4444444444444444,\"#bd3786\"],[0.5555555555555556,\"#d8576b\"],[0.6666666666666666,\"#ed7953\"],[0.7777777777777778,\"#fb9f3a\"],[0.8888888888888888,\"#fdca26\"],[1.0,\"#f0f921\"]]}],\"choropleth\":[{\"type\":\"choropleth\",\"colorbar\":{\"outlinewidth\":0,\"ticks\":\"\"}}],\"histogram2d\":[{\"type\":\"histogram2d\",\"colorbar\":{\"outlinewidth\":0,\"ticks\":\"\"},\"colorscale\":[[0.0,\"#0d0887\"],[0.1111111111111111,\"#46039f\"],[0.2222222222222222,\"#7201a8\"],[0.3333333333333333,\"#9c179e\"],[0.4444444444444444,\"#bd3786\"],[0.5555555555555556,\"#d8576b\"],[0.6666666666666666,\"#ed7953\"],[0.7777777777777778,\"#fb9f3a\"],[0.8888888888888888,\"#fdca26\"],[1.0,\"#f0f921\"]]}],\"heatmap\":[{\"type\":\"heatmap\",\"colorbar\":{\"outlinewidth\":0,\"ticks\":\"\"},\"colorscale\":[[0.0,\"#0d0887\"],[0.1111111111111111,\"#46039f\"],[0.2222222222222222,\"#7201a8\"],[0.3333333333333333,\"#9c179e\"],[0.4444444444444444,\"#bd3786\"],[0.5555555555555556,\"#d8576b\"],[0.6666666666666666,\"#ed7953\"],[0.7777777777777778,\"#fb9f3a\"],[0.8888888888888888,\"#fdca26\"],[1.0,\"#f0f921\"]]}],\"heatmapgl\":[{\"type\":\"heatmapgl\",\"colorbar\":{\"outlinewidth\":0,\"ticks\":\"\"},\"colorscale\":[[0.0,\"#0d0887\"],[0.1111111111111111,\"#46039f\"],[0.2222222222222222,\"#7201a8\"],[0.3333333333333333,\"#9c179e\"],[0.4444444444444444,\"#bd3786\"],[0.5555555555555556,\"#d8576b\"],[0.6666666666666666,\"#ed7953\"],[0.7777777777777778,\"#fb9f3a\"],[0.8888888888888888,\"#fdca26\"],[1.0,\"#f0f921\"]]}],\"contourcarpet\":[{\"type\":\"contourcarpet\",\"colorbar\":{\"outlinewidth\":0,\"ticks\":\"\"}}],\"contour\":[{\"type\":\"contour\",\"colorbar\":{\"outlinewidth\":0,\"ticks\":\"\"},\"colorscale\":[[0.0,\"#0d0887\"],[0.1111111111111111,\"#46039f\"],[0.2222222222222222,\"#7201a8\"],[0.3333333333333333,\"#9c179e\"],[0.4444444444444444,\"#bd3786\"],[0.5555555555555556,\"#d8576b\"],[0.6666666666666666,\"#ed7953\"],[0.7777777777777778,\"#fb9f3a\"],[0.8888888888888888,\"#fdca26\"],[1.0,\"#f0f921\"]]}],\"surface\":[{\"type\":\"surface\",\"colorbar\":{\"outlinewidth\":0,\"ticks\":\"\"},\"colorscale\":[[0.0,\"#0d0887\"],[0.1111111111111111,\"#46039f\"],[0.2222222222222222,\"#7201a8\"],[0.3333333333333333,\"#9c179e\"],[0.4444444444444444,\"#bd3786\"],[0.5555555555555556,\"#d8576b\"],[0.6666666666666666,\"#ed7953\"],[0.7777777777777778,\"#fb9f3a\"],[0.8888888888888888,\"#fdca26\"],[1.0,\"#f0f921\"]]}],\"mesh3d\":[{\"type\":\"mesh3d\",\"colorbar\":{\"outlinewidth\":0,\"ticks\":\"\"}}],\"scatter\":[{\"fillpattern\":{\"fillmode\":\"overlay\",\"size\":10,\"solidity\":0.2},\"type\":\"scatter\"}],\"parcoords\":[{\"type\":\"parcoords\",\"line\":{\"colorbar\":{\"outlinewidth\":0,\"ticks\":\"\"}}}],\"scatterpolargl\":[{\"type\":\"scatterpolargl\",\"marker\":{\"colorbar\":{\"outlinewidth\":0,\"ticks\":\"\"}}}],\"bar\":[{\"error_x\":{\"color\":\"#2a3f5f\"},\"error_y\":{\"color\":\"#2a3f5f\"},\"marker\":{\"line\":{\"color\":\"#E5ECF6\",\"width\":0.5},\"pattern\":{\"fillmode\":\"overlay\",\"size\":10,\"solidity\":0.2}},\"type\":\"bar\"}],\"scattergeo\":[{\"type\":\"scattergeo\",\"marker\":{\"colorbar\":{\"outlinewidth\":0,\"ticks\":\"\"}}}],\"scatterpolar\":[{\"type\":\"scatterpolar\",\"marker\":{\"colorbar\":{\"outlinewidth\":0,\"ticks\":\"\"}}}],\"histogram\":[{\"marker\":{\"pattern\":{\"fillmode\":\"overlay\",\"size\":10,\"solidity\":0.2}},\"type\":\"histogram\"}],\"scattergl\":[{\"type\":\"scattergl\",\"marker\":{\"colorbar\":{\"outlinewidth\":0,\"ticks\":\"\"}}}],\"scatter3d\":[{\"type\":\"scatter3d\",\"line\":{\"colorbar\":{\"outlinewidth\":0,\"ticks\":\"\"}},\"marker\":{\"colorbar\":{\"outlinewidth\":0,\"ticks\":\"\"}}}],\"scattermapbox\":[{\"type\":\"scattermapbox\",\"marker\":{\"colorbar\":{\"outlinewidth\":0,\"ticks\":\"\"}}}],\"scatterternary\":[{\"type\":\"scatterternary\",\"marker\":{\"colorbar\":{\"outlinewidth\":0,\"ticks\":\"\"}}}],\"scattercarpet\":[{\"type\":\"scattercarpet\",\"marker\":{\"colorbar\":{\"outlinewidth\":0,\"ticks\":\"\"}}}],\"carpet\":[{\"aaxis\":{\"endlinecolor\":\"#2a3f5f\",\"gridcolor\":\"white\",\"linecolor\":\"white\",\"minorgridcolor\":\"white\",\"startlinecolor\":\"#2a3f5f\"},\"baxis\":{\"endlinecolor\":\"#2a3f5f\",\"gridcolor\":\"white\",\"linecolor\":\"white\",\"minorgridcolor\":\"white\",\"startlinecolor\":\"#2a3f5f\"},\"type\":\"carpet\"}],\"table\":[{\"cells\":{\"fill\":{\"color\":\"#EBF0F8\"},\"line\":{\"color\":\"white\"}},\"header\":{\"fill\":{\"color\":\"#C8D4E3\"},\"line\":{\"color\":\"white\"}},\"type\":\"table\"}],\"barpolar\":[{\"marker\":{\"line\":{\"color\":\"#E5ECF6\",\"width\":0.5},\"pattern\":{\"fillmode\":\"overlay\",\"size\":10,\"solidity\":0.2}},\"type\":\"barpolar\"}],\"pie\":[{\"automargin\":true,\"type\":\"pie\"}]},\"layout\":{\"autotypenumbers\":\"strict\",\"colorway\":[\"#636efa\",\"#EF553B\",\"#00cc96\",\"#ab63fa\",\"#FFA15A\",\"#19d3f3\",\"#FF6692\",\"#B6E880\",\"#FF97FF\",\"#FECB52\"],\"font\":{\"color\":\"#2a3f5f\"},\"hovermode\":\"closest\",\"hoverlabel\":{\"align\":\"left\"},\"paper_bgcolor\":\"white\",\"plot_bgcolor\":\"#E5ECF6\",\"polar\":{\"bgcolor\":\"#E5ECF6\",\"angularaxis\":{\"gridcolor\":\"white\",\"linecolor\":\"white\",\"ticks\":\"\"},\"radialaxis\":{\"gridcolor\":\"white\",\"linecolor\":\"white\",\"ticks\":\"\"}},\"ternary\":{\"bgcolor\":\"#E5ECF6\",\"aaxis\":{\"gridcolor\":\"white\",\"linecolor\":\"white\",\"ticks\":\"\"},\"baxis\":{\"gridcolor\":\"white\",\"linecolor\":\"white\",\"ticks\":\"\"},\"caxis\":{\"gridcolor\":\"white\",\"linecolor\":\"white\",\"ticks\":\"\"}},\"coloraxis\":{\"colorbar\":{\"outlinewidth\":0,\"ticks\":\"\"}},\"colorscale\":{\"sequential\":[[0.0,\"#0d0887\"],[0.1111111111111111,\"#46039f\"],[0.2222222222222222,\"#7201a8\"],[0.3333333333333333,\"#9c179e\"],[0.4444444444444444,\"#bd3786\"],[0.5555555555555556,\"#d8576b\"],[0.6666666666666666,\"#ed7953\"],[0.7777777777777778,\"#fb9f3a\"],[0.8888888888888888,\"#fdca26\"],[1.0,\"#f0f921\"]],\"sequentialminus\":[[0.0,\"#0d0887\"],[0.1111111111111111,\"#46039f\"],[0.2222222222222222,\"#7201a8\"],[0.3333333333333333,\"#9c179e\"],[0.4444444444444444,\"#bd3786\"],[0.5555555555555556,\"#d8576b\"],[0.6666666666666666,\"#ed7953\"],[0.7777777777777778,\"#fb9f3a\"],[0.8888888888888888,\"#fdca26\"],[1.0,\"#f0f921\"]],\"diverging\":[[0,\"#8e0152\"],[0.1,\"#c51b7d\"],[0.2,\"#de77ae\"],[0.3,\"#f1b6da\"],[0.4,\"#fde0ef\"],[0.5,\"#f7f7f7\"],[0.6,\"#e6f5d0\"],[0.7,\"#b8e186\"],[0.8,\"#7fbc41\"],[0.9,\"#4d9221\"],[1,\"#276419\"]]},\"xaxis\":{\"gridcolor\":\"white\",\"linecolor\":\"white\",\"ticks\":\"\",\"title\":{\"standoff\":15},\"zerolinecolor\":\"white\",\"automargin\":true,\"zerolinewidth\":2},\"yaxis\":{\"gridcolor\":\"white\",\"linecolor\":\"white\",\"ticks\":\"\",\"title\":{\"standoff\":15},\"zerolinecolor\":\"white\",\"automargin\":true,\"zerolinewidth\":2},\"scene\":{\"xaxis\":{\"backgroundcolor\":\"#E5ECF6\",\"gridcolor\":\"white\",\"linecolor\":\"white\",\"showbackground\":true,\"ticks\":\"\",\"zerolinecolor\":\"white\",\"gridwidth\":2},\"yaxis\":{\"backgroundcolor\":\"#E5ECF6\",\"gridcolor\":\"white\",\"linecolor\":\"white\",\"showbackground\":true,\"ticks\":\"\",\"zerolinecolor\":\"white\",\"gridwidth\":2},\"zaxis\":{\"backgroundcolor\":\"#E5ECF6\",\"gridcolor\":\"white\",\"linecolor\":\"white\",\"showbackground\":true,\"ticks\":\"\",\"zerolinecolor\":\"white\",\"gridwidth\":2}},\"shapedefaults\":{\"line\":{\"color\":\"#2a3f5f\"}},\"annotationdefaults\":{\"arrowcolor\":\"#2a3f5f\",\"arrowhead\":0,\"arrowwidth\":1},\"geo\":{\"bgcolor\":\"white\",\"landcolor\":\"#E5ECF6\",\"subunitcolor\":\"white\",\"showland\":true,\"showlakes\":true,\"lakecolor\":\"white\"},\"title\":{\"x\":0.05},\"mapbox\":{\"style\":\"light\"}}},\"shapes\":[{\"line\":{\"color\":\"green\",\"dash\":\"dot\",\"width\":3},\"type\":\"line\",\"x0\":512000000.0,\"x1\":512000000.0,\"xref\":\"x\",\"y0\":0,\"y1\":1,\"yref\":\"y domain\"},{\"line\":{\"color\":\"red\",\"dash\":\"dash\",\"width\":3},\"type\":\"line\",\"x0\":0,\"x1\":1,\"xref\":\"x domain\",\"y0\":409,\"y1\":409,\"yref\":\"y\"}],\"annotations\":[{\"align\":\"left\",\"arrowcolor\":\"#636363\",\"arrowhead\":1,\"arrowsize\":1,\"arrowwidth\":2,\"ax\":-20,\"ay\":-30,\"font\":{\"color\":\"purple\",\"family\":\"Sans Serif\",\"size\":12},\"showarrow\":false,\"text\":\"LLC Size Per Node: 80M\",\"x\":\"512e6\",\"y\":280,\"yanchor\":\"bottom\"},{\"align\":\"left\",\"arrowcolor\":\"#636363\",\"arrowhead\":1,\"arrowsize\":1,\"arrowwidth\":2,\"ax\":-20,\"ay\":-30,\"font\":{\"color\":\"orange\",\"family\":\"Sans Serif\",\"size\":12},\"showarrow\":false,\"text\":\"Max Bandwidth Per Node\",\"x\":\"130e6\",\"y\":700,\"yanchor\":\"bottom\"}],\"xaxis\":{\"title\":{\"text\":\"Dirc_Data_Mov\"},\"ticks\":\"outside\"},\"yaxis\":{\"title\":{\"text\":\"Bandwidth/Node\"},\"ticks\":\"outside\"},\"title\":{\"text\":\"\\\"HIPPO BEST CASES\\\" Bandwidth Measurement\"},\"legend\":{\"bordercolor\":\"black\",\"borderwidth\":1}},                        {\"responsive\": true}                    ).then(function(){\n",
       "                            \n",
       "var gd = document.getElementById('0f45d34b-b042-48ee-97cb-c7eb596cd78f');\n",
       "var x = new MutationObserver(function (mutations, observer) {{\n",
       "        var display = window.getComputedStyle(gd).display;\n",
       "        if (!display || display === 'none') {{\n",
       "            console.log([gd, 'removed!']);\n",
       "            Plotly.purge(gd);\n",
       "            observer.disconnect();\n",
       "        }}\n",
       "}});\n",
       "\n",
       "// Listen for the removal of the full notebook cells\n",
       "var notebookContainer = gd.closest('#notebook-container');\n",
       "if (notebookContainer) {{\n",
       "    x.observe(notebookContainer, {childList: true});\n",
       "}}\n",
       "\n",
       "// Listen for the clearing of the current output cell\n",
       "var outputEl = gd.closest('.output');\n",
       "if (outputEl) {{\n",
       "    x.observe(outputEl, {childList: true});\n",
       "}}\n",
       "\n",
       "                        })                };                });            </script>        </div>"
      ]
     },
     "metadata": {},
     "output_type": "display_data"
    }
   ],
   "source": [
    "fig = go.Figure() \n",
    "\n",
    "# Node 1\n",
    "# Macro\n",
    "fig.add_trace(go.Scatter(x=(dfn1MacFusProb_64mpi_2omp.Dirc_Data_Mov*(dfn1MacFusProb_64mpi_2omp.MPI_size)), \n",
    "                         y=(dfn1MacFusProb_64mpi_2omp.BAND*(dfn1MacFusProb_64mpi_2omp.MPI_size)), \n",
    "                         mode='lines+markers', \n",
    "                         name='1-N: MacroFusProb_64mpi_2omp',\n",
    "                         line=dict(color='royalblue',width=3),\n",
    "                         marker=dict(symbol='hexagon',size=9,line=dict(color='yellow',width=1))))\n",
    "\n",
    "fig.add_trace(go.Scatter(x=(dfn1MacNonFusProb_64mpi_2omp.Dirc_Data_Mov*(dfn1MacNonFusProb_64mpi_2omp.MPI_size)), \n",
    "                         y=(dfn1MacNonFusProb_64mpi_2omp.BAND*(dfn1MacNonFusProb_64mpi_2omp.MPI_size)), \n",
    "                         mode='lines+markers', \n",
    "                         name='1-N: MacroNonFusProb_64mpi_2omp',\n",
    "                         line=dict(color='darkred',width=3),\n",
    "                         marker=dict(symbol='hexagon',size=9, line=dict(color='yellow',width=1))))\n",
    "\n",
    "fig.add_trace(go.Scatter(x=(dfn1MacNewgeoProb_64mpi_2omp.Dirc_Data_Mov*(dfn1MacNewgeoProb_64mpi_2omp.MPI_size)), \n",
    "                         y=(dfn1MacNewgeoProb_64mpi_2omp.BAND*(dfn1MacNewgeoProb_64mpi_2omp.MPI_size)), \n",
    "                         mode='lines+markers', \n",
    "                         name='1-N: MacroNewgeoProb_64mpi_2omp',\n",
    "                         line=dict(color='darkorchid',width=3),\n",
    "                         marker=dict(symbol='hexagon',size=9, line=dict(color='yellow',width=1))))\n",
    "\n",
    "# AVX\n",
    "\n",
    "fig.add_trace(go.Scatter(x=(dfn1AvxFusProb_32mpi_4omp.Dirc_Data_Mov*(dfn1AvxFusProb_32mpi_4omp.MPI_size)), \n",
    "                         y=(dfn1AvxFusProb_32mpi_4omp.BAND*(dfn1AvxFusProb_32mpi_4omp.MPI_size)), \n",
    "                         mode='lines+markers', \n",
    "                         name='1-N: AvxFusProb_32mpi_4omp',\n",
    "                         line=dict(color='magenta',width=3),\n",
    "                         marker=dict(symbol='hexagon',size=9, line=dict(color='yellow',width=1))))\n",
    "\n",
    "fig.add_trace(go.Scatter(x=(dfn1AvxNonFusProb_64mpi_2omp.Dirc_Data_Mov*(dfn1AvxNonFusProb_64mpi_2omp.MPI_size)), \n",
    "                         y=(dfn1AvxNonFusProb_64mpi_2omp.BAND*(dfn1AvxNonFusProb_64mpi_2omp.MPI_size)), \n",
    "                         mode='lines+markers', \n",
    "                         name='1-N: AvxNonFusProb_64mpi_2omp',\n",
    "                         line=dict(color='palegreen',width=3),\n",
    "                         marker=dict(symbol='hexagon',size=9, line=dict(color='yellow',width=1))))\n",
    "\n",
    "fig.add_trace(go.Scatter(x=(dfn1AvxNewgeoProb_64mpi_2omp.Dirc_Data_Mov*(dfn1AvxNewgeoProb_64mpi_2omp.MPI_size)), \n",
    "                         y=(dfn1AvxNewgeoProb_64mpi_2omp.BAND*(dfn1AvxNewgeoProb_64mpi_2omp.MPI_size)), \n",
    "                         mode='lines+markers', \n",
    "                         name='1-N: AvxNewgeoProb_64mpi_2omp',\n",
    "                         line=dict(color='olive',width=3),\n",
    "                         marker=dict(symbol='hexagon',size=9, line=dict(color='yellow',width=1))))\n",
    "\n",
    "# VECT\n",
    "\n",
    "fig.add_trace(go.Scatter(x=(dfn1VectFusProb_32mpi_4omp.Dirc_Data_Mov*(dfn1VectFusProb_32mpi_4omp.MPI_size)), \n",
    "                         y=(dfn1VectFusProb_32mpi_4omp.BAND*(dfn1VectFusProb_32mpi_4omp.MPI_size)), \n",
    "                         mode='lines+markers', \n",
    "                         name='1-N: VectFusProb_32mpi_4omp',\n",
    "                         line=dict(color='darkblue',width=3),\n",
    "                         marker=dict(symbol='hexagon',size=9, line=dict(color='yellow',width=1))))\n",
    "\n",
    "fig.add_trace(go.Scatter(x=(dfn1VectNonFusProb_64mpi_2omp.Dirc_Data_Mov*(dfn1VectNonFusProb_64mpi_2omp.MPI_size)), \n",
    "                         y=(dfn1VectNonFusProb_64mpi_2omp.BAND*(dfn1VectNonFusProb_64mpi_2omp.MPI_size)), \n",
    "                         mode='lines+markers', \n",
    "                         name='1-N: VectNonFusProb_64mpi_2omp',\n",
    "                         line=dict(color='orange',width=3),\n",
    "                         marker=dict(symbol='hexagon',size=9,line=dict(color='yellow',width=1))))\n",
    "\n",
    "fig.add_trace(go.Scatter(x=(dfn1VectNewgeoProb_64mpi_2omp.Dirc_Data_Mov*(dfn1VectNewgeoProb_64mpi_2omp.MPI_size)), \n",
    "                         y=(dfn1VectNewgeoProb_64mpi_2omp.BAND*(dfn1VectNewgeoProb_64mpi_2omp.MPI_size)), \n",
    "                         mode='lines+markers', \n",
    "                         name='1-N: VectNewgeoProb_64mpi_2omp',\n",
    "                         line=dict(color='salmon',width=3),\n",
    "                         marker=dict(symbol='hexagon',size=9,line=dict(color='yellow',width=1))))\n",
    "\n",
    "\n",
    "\n",
    "\n",
    "# Node 2\n",
    "# Macro\n",
    "fig.add_trace(go.Scatter(x=(dfn2MacFusProb_128mpi_2omp.Dirc_Data_Mov*(dfn2MacFusProb_128mpi_2omp.MPI_size/2)), \n",
    "                         y=(dfn2MacFusProb_128mpi_2omp.BAND*(dfn2MacFusProb_128mpi_2omp.MPI_size/2)), \n",
    "                         mode='lines+markers', \n",
    "                         name='2-N: MacFusProb_128mpi_2omp',\n",
    "                         line=dict(color='royalblue',width=3),\n",
    "                         marker=dict(symbol='star',size=8,line=dict(color='darkblue',width=1))))\n",
    "\n",
    "fig.add_trace(go.Scatter(x=(dfn2MacNonFusNonProb_128mpi_2omp.Dirc_Data_Mov*(dfn2MacNonFusNonProb_128mpi_2omp.MPI_size/2)), \n",
    "                         y=(dfn2MacNonFusNonProb_128mpi_2omp.BAND*(dfn2MacNonFusNonProb_128mpi_2omp.MPI_size/2)), \n",
    "                         mode='lines+markers', \n",
    "                         name='2-N: MacNonFusNonProb_128mpi_2omp',\n",
    "                         line=dict(color='darkred',width=3),\n",
    "                         marker=dict(symbol='star',size=8, line=dict(color='darkblue',width=1))))\n",
    "\n",
    "fig.add_trace(go.Scatter(x=(dfn2MacNewgeoProb_64mpi_4omp.Dirc_Data_Mov*(dfn2MacNewgeoProb_64mpi_4omp.MPI_size/2)), \n",
    "                         y=(dfn2MacNewgeoProb_64mpi_4omp.BAND*(dfn2MacNewgeoProb_64mpi_4omp.MPI_size/2)), \n",
    "                         mode='lines+markers', \n",
    "                         name='2-N: MacNewgeoProb_64mpi_4omp',\n",
    "                         line=dict(color='darkorchid',width=3),\n",
    "                         marker=dict(symbol='star',size=8, line=dict(color='darkblue',width=1))))\n",
    "\n",
    "\n",
    "# AVX\n",
    "fig.add_trace(go.Scatter(x=(dfn2AvxFusProb_64mpi_4omp.Dirc_Data_Mov*(dfn2AvxFusProb_64mpi_4omp.MPI_size/2)), \n",
    "                         y=(dfn2AvxFusProb_64mpi_4omp.BAND*(dfn2AvxFusProb_64mpi_4omp.MPI_size/2)), \n",
    "                         mode='lines+markers', \n",
    "                         name='2-N: AvxFusNonProb_64mpi_4omp',\n",
    "                          line=dict(color='magenta',width=3),\n",
    "                         marker=dict(symbol='star',size=8, line=dict(color='darkblue',width=1))))\n",
    "\n",
    "fig.add_trace(go.Scatter(x=(dfn2AvxNonFusNonProb_128mpi_2omp.Dirc_Data_Mov*(dfn2AvxNonFusNonProb_128mpi_2omp.MPI_size/2)), \n",
    "                         y=(dfn2AvxNonFusNonProb_128mpi_2omp.BAND*(dfn2AvxNonFusNonProb_128mpi_2omp.MPI_size/2)), \n",
    "                         mode='lines+markers', \n",
    "                         name='2-N: AvxNonFusNonProb_128mpi_2omp',\n",
    "                         line=dict(color='palegreen',width=3),\n",
    "                         marker=dict(symbol='star',size=8, line=dict(color='darkblue',width=1))))\n",
    "\n",
    "fig.add_trace(go.Scatter(x=(dfn2AvxNewgeoProb_64mpi_4omp.Dirc_Data_Mov*(dfn2AvxNewgeoProb_64mpi_4omp.MPI_size/2)), \n",
    "                         y=(dfn2AvxNewgeoProb_64mpi_4omp.BAND*(dfn2AvxNewgeoProb_64mpi_4omp.MPI_size/2)), \n",
    "                         mode='lines+markers', \n",
    "                         name='2-N: AvxNewgeoProb_64mpi_4omp',\n",
    "                         line=dict(color='olive',width=3),\n",
    "                         marker=dict(symbol='star',size=8, line=dict(color='darkblue',width=1))))\n",
    "\n",
    "\n",
    "# VECT\n",
    "fig.add_trace(go.Scatter(x=(dfn2VectFusProb_64mpi_4omp.Dirc_Data_Mov*(dfn2VectFusProb_64mpi_4omp.MPI_size/2)), \n",
    "                         y=(dfn2VectFusProb_64mpi_4omp.BAND*(dfn2VectFusProb_64mpi_4omp.MPI_size/2)), \n",
    "                         mode='lines+markers', \n",
    "                         name='2-N: VectFusProb_64mpi_4omp',\n",
    "                         line=dict(color='darkblue',width=3),\n",
    "                         marker=dict(symbol='star',size=8, line=dict(color='darkblue',width=1))))\n",
    "\n",
    "fig.add_trace(go.Scatter(x=(dfn2VectNonFusNonProb_128mpi_2omp.Dirc_Data_Mov*(dfn2VectNonFusNonProb_128mpi_2omp.MPI_size/2)), \n",
    "                         y=(dfn2VectNonFusNonProb_128mpi_2omp.BAND*(dfn2VectNonFusNonProb_128mpi_2omp.MPI_size/2)), \n",
    "                         mode='lines+markers', \n",
    "                         name='2-N: VectNonFusNonProb_128mpi_2omp',\n",
    "                         line=dict(color='orange',width=3),\n",
    "                         marker=dict(symbol='star',size=8,line=dict(color='darkblue',width=1))))\n",
    "\n",
    "fig.add_trace(go.Scatter(x=(dfn2VectNewgeoProb_64mpi_4omp.Dirc_Data_Mov*(dfn2VectNewgeoProb_64mpi_4omp.MPI_size/2)), \n",
    "                         y=(dfn2VectNewgeoProb_64mpi_4omp.BAND*(dfn2VectNewgeoProb_64mpi_4omp.MPI_size/2)), \n",
    "                         mode='lines+markers', \n",
    "                         name='2-N: VectNewgeoProb_64mpi_4omp',\n",
    "                         line=dict(color='salmon',width=3),\n",
    "                         marker=dict(symbol='star',size=8,line=dict(color='darkblue',width=1))))\n",
    "\n",
    "\n",
    "\n",
    "\n",
    "\n",
    "# Adding vertical and horizontal lines \n",
    "fig.add_vline(x=512e6, line_width=3, line_dash=\"dot\", line_color=\"green\")\n",
    "fig.add_hline(y=409, line_width=3, line_dash=\"dash\", line_color=\"red\")\n",
    "\n",
    "# Add annotation with arrow\n",
    "fig.add_annotation(\n",
    "    x='512e6'\n",
    "    , y=280\n",
    "    , text=f'LLC Size Per Node: 80M'\n",
    "    , yanchor='bottom'\n",
    "    , showarrow=False\n",
    "    , arrowhead=1\n",
    "    , arrowsize=1\n",
    "    , arrowwidth=2\n",
    "    , arrowcolor=\"#636363\"\n",
    "    , ax=-20\n",
    "    , ay=-30\n",
    "    , font=dict(size=12, color=\"purple\", family=\"Sans Serif\")\n",
    "    , align=\"left\"\n",
    "    ,)\n",
    "\n",
    "fig.add_annotation(\n",
    "    x='130e6'\n",
    "    , y=700\n",
    "    , text=f'Max Bandwidth Per Node'\n",
    "    , yanchor='bottom'\n",
    "    , showarrow=False\n",
    "    , arrowhead=1\n",
    "    , arrowsize=1\n",
    "    , arrowwidth=2\n",
    "    , arrowcolor=\"#636363\"\n",
    "    , ax=-20\n",
    "    , ay=-30\n",
    "    , font=dict(size=12, color=\"orange\", family=\"Sans Serif\")\n",
    "    , align=\"left\"\n",
    "    ,)\n",
    "\n",
    "\n",
    "fig.update_layout(title='\"HIPPO BEST CASES\" Bandwidth Measurement',\n",
    "                  xaxis_title='Dirc_Data_Mov', yaxis_title='Bandwidth/Node', \n",
    "                  xaxis=dict(ticks=\"outside\"),  \n",
    "                  yaxis=dict(ticks=\"outside\"),\n",
    "                  legend=go.layout.Legend(bordercolor=\"black\",borderwidth=1)) \n",
    "\n",
    "\n"
   ]
  },
  {
   "cell_type": "code",
   "execution_count": null,
   "id": "c61e89ac",
   "metadata": {},
   "outputs": [],
   "source": []
  },
  {
   "cell_type": "code",
   "execution_count": null,
   "id": "67e8ee92",
   "metadata": {},
   "outputs": [],
   "source": []
  },
  {
   "cell_type": "code",
   "execution_count": null,
   "id": "0d814ceb",
   "metadata": {},
   "outputs": [],
   "source": []
  },
  {
   "cell_type": "code",
   "execution_count": null,
   "id": "4f14f808",
   "metadata": {},
   "outputs": [],
   "source": []
  },
  {
   "cell_type": "code",
   "execution_count": null,
   "id": "aaeaa8e9",
   "metadata": {},
   "outputs": [],
   "source": []
  }
 ],
 "metadata": {
  "kernelspec": {
   "display_name": "Python 3 (ipykernel)",
   "language": "python",
   "name": "python3"
  },
  "language_info": {
   "codemirror_mode": {
    "name": "ipython",
    "version": 3
   },
   "file_extension": ".py",
   "mimetype": "text/x-python",
   "name": "python",
   "nbconvert_exporter": "python",
   "pygments_lexer": "ipython3",
   "version": "3.9.13"
  }
 },
 "nbformat": 4,
 "nbformat_minor": 5
}
