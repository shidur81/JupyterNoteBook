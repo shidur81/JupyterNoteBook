{
 "cells": [
  {
   "cell_type": "code",
   "execution_count": null,
   "id": "70cc661d",
   "metadata": {},
   "outputs": [],
   "source": [
    "import pandas as pd\n",
    "import numpy as np\n",
    "import chart_studio.plotly as py\n",
    "import cufflinks as cf\n",
    "import seaborn as sns\n",
    "import plotly.express as px\n",
    "import plotly.graph_objects as go\n",
    "import collections\n",
    "from collections import OrderedDict\n",
    "%matplotlib inline\n",
    "from plotly.offline import download_plotlyjs, init_notebook_mode, plot, iplot\n",
    "init_notebook_mode(connected=True)\n",
    "cf.go_offline()"
   ]
  },
  {
   "cell_type": "code",
   "execution_count": null,
   "id": "bafb4fb8",
   "metadata": {},
   "outputs": [],
   "source": [
    "pd.set_option('display.max_columns', None)\n",
    "pd.set_option('display.max_rows', None)\n",
    "\n",
    "# *******Node 1*******\n",
    "dfn1_macro_fused_probempi = pd.read_csv(\"macro_fused_probempi_node1.csv\")\n",
    "dfn1_macro_fused_nonprobempi = pd.read_csv(\"macro_fused_nonprobempi_node1.csv\")\n",
    "dfn1_macro_newgeo_probempi = pd.read_csv(\"macro_newgeo_probempi_node1.csv\")\n",
    "dfn1_macro_newgeo_nonprobempi = pd.read_csv(\"macro_newgeo_nonprobempi_node1.csv\")\n",
    "dfn1_macro_nonfused_probempi = pd.read_csv(\"macro_nonfused_probempi_node1.csv\")\n",
    "dfn1_macro_nonfused_nonprobempi = pd.read_csv(\"macro_nonfused_nonprobempi_node1.csv\")\n",
    "\n",
    "dfn1_avx_fused_probmpi = pd.read_csv(\"avx_fused_probempi_node1.csv\")\n",
    "dfn1_avx_fused_nonprobmpi = pd.read_csv(\"avx_fused_nonprobempi_node1.csv\")\n",
    "dfn1_avx_newgeo_probempi = pd.read_csv(\"avx_newgeo_probempi_node1.csv\")\n",
    "dfn1_avx_newgeo_nonprobempi = pd.read_csv(\"avx_newgeo_nonprobempi_node1.csv\")\n",
    "dfn1_avx_nonfused_probempi = pd.read_csv(\"avx_nonfused_probempi_node1.csv\")\n",
    "dfn1_avx_nonfused_nonprobempi = pd.read_csv(\"avx_nonfused_nonprobempi_node1.csv\")\n",
    "\n",
    "# *******Node 2*******\n",
    "dfn2_macro_fused_probempi = pd.read_csv(\"n2_fused_macro_probempi.csv\")\n",
    "dfn2_macro_fused_nonprobempi = pd.read_csv(\"n2_fused_macro_nonprobempi.csv\")\n",
    "dfn2_macro_newgeo_probempi = pd.read_csv(\"n2_newgeo_macro_probempi.csv\")\n",
    "dfn2_macro_newgeo_nonprobempi = pd.read_csv(\"n2_newgeo_macro_nonprobempi.csv\")\n",
    "dfn2_macro_nonfused_probempi = pd.read_csv(\"n2_nonfused_macro_probempi.csv\")\n",
    "dfn2_macro_nonfused_nonprobempi = pd.read_csv(\"n2_nonfused_macro_nonprobempi.csv\")\n",
    "\n",
    "dfn2_avx_fused_probmpi = pd.read_csv(\"n2_fused_avx_probempi.csv\")\n",
    "dfn2_avx_fused_nonprobmpi = pd.read_csv(\"n2_fused_avx_nonprobempi.csv\")\n",
    "dfn2_avx_newgeo_probempi = pd.read_csv(\"n2_newgeo_avx_probempi.csv\")\n",
    "dfn2_avx_newgeo_nonprobempi = pd.read_csv(\"n2_newgeo_avx_nonprobempi.csv\")\n",
    "dfn2_avx_nonfused_probempi = pd.read_csv(\"n2_nonfused_avx_probempi.csv\")\n",
    "dfn2_avx_nonfused_nonprobempi = pd.read_csv(\"n2_nonfused_avx_nonprobempi.csv\")\n",
    "\n",
    "# *******Node 4*******\n",
    "dfn4_macro_fused_probempi = pd.read_csv(\"n4_fused_macro_probempi.csv\")\n",
    "dfn4_macro_fused_nonprobempi = pd.read_csv(\"n4_fused_macro_nonprobempi.csv\")\n",
    "dfn4_macro_newgeo_probempi = pd.read_csv(\"n4_newgeo_macro_probempi.csv\")\n",
    "dfn4_macro_newgeo_nonprobempi = pd.read_csv(\"n4_newgeo_macro_nonprobempi.csv\")\n",
    "dfn4_macro_nonfused_probempi = pd.read_csv(\"n4_nonfused_macro_probempi.csv\")\n",
    "dfn4_macro_nonfused_nonprobempi = pd.read_csv(\"n4_nonfused_macro_nonprobempi.csv\")\n",
    "\n",
    "dfn4_avx_fused_probmpi = pd.read_csv(\"n4_fused_avx_probempi.csv\")\n",
    "dfn4_avx_nonfused_probempi = pd.read_csv(\"n4_nonfused_avx_probempi.csv\")\n",
    "\n",
    "\n"
   ]
  },
  {
   "cell_type": "code",
   "execution_count": null,
   "id": "4f3fb1fa",
   "metadata": {},
   "outputs": [],
   "source": []
  },
  {
   "cell_type": "markdown",
   "id": "2b4f6087",
   "metadata": {},
   "source": [
    "# A. MACRO: Fused_NonProbempi"
   ]
  },
  {
   "cell_type": "markdown",
   "id": "d1c02884",
   "metadata": {},
   "source": [
    "## Node 1: macro_fused_nonprobempi"
   ]
  },
  {
   "cell_type": "code",
   "execution_count": null,
   "id": "3e7fbafd",
   "metadata": {},
   "outputs": [],
   "source": [
    "dfn1_macro_fused_nonprobempi[\"N_Nodes\"] = 1\n",
    "dfn1_macro_fused_nonprobempi['NPX'] = (dfn1_macro_fused_nonprobempi.GLB_X//dfn1_macro_fused_nonprobempi.LOC_X)\n",
    "dfn1_macro_fused_nonprobempi['NPY'] = (dfn1_macro_fused_nonprobempi.GLB_Y//dfn1_macro_fused_nonprobempi.LOC_Y)\n",
    "dfn1_macro_fused_nonprobempi['NPZ'] = (dfn1_macro_fused_nonprobempi.GLB_Z//dfn1_macro_fused_nonprobempi.LOC_Z)\n",
    "dfn1_macro_fused_nonprobempi['NPT'] = (dfn1_macro_fused_nonprobempi.GLB_T//dfn1_macro_fused_nonprobempi.LOC_T)\n",
    "dfn1_macro_fused_nonprobempi[\"Total_proc\"] = dfn1_macro_fused_nonprobempi[\"omp_thrd\"]* dfn1_macro_fused_nonprobempi.MPI_size\n",
    "# dfn1_macro_fused_nonprobempi.columns"
   ]
  },
  {
   "cell_type": "code",
   "execution_count": null,
   "id": "e90e11e8",
   "metadata": {},
   "outputs": [],
   "source": [
    "dfn1_macro_fused_nonprobempi_summary =dfn1_macro_fused_nonprobempi.groupby(['MPI_size','omp_thrd','NPT','NPX', 'NPY', 'NPZ',\"Total_proc\"]).size().reset_index(name = 'size')\n",
    "dfn1_macro_fused_nonprobempi_summary"
   ]
  },
  {
   "cell_type": "code",
   "execution_count": null,
   "id": "cb159e86",
   "metadata": {},
   "outputs": [],
   "source": [
    "dfn1MacFusNonProb_8mpi_4omp = dfn1_macro_fused_nonprobempi[(dfn1_macro_fused_nonprobempi.omp_thrd == 4) & (dfn1_macro_fused_nonprobempi.GLB_T/dfn1_macro_fused_nonprobempi.LOC_T == 1) & (dfn1_macro_fused_nonprobempi.GLB_X/dfn1_macro_fused_nonprobempi.LOC_X == 2) & (dfn1_macro_fused_nonprobempi.GLB_Y/dfn1_macro_fused_nonprobempi.LOC_Y == 2)& (dfn1_macro_fused_nonprobempi.GLB_Z/dfn1_macro_fused_nonprobempi.LOC_Z == 2)]\n",
    "dfn1MacFusNonProb_16mpi_2omp = dfn1_macro_fused_nonprobempi[(dfn1_macro_fused_nonprobempi.omp_thrd == 2) & (dfn1_macro_fused_nonprobempi.GLB_T/dfn1_macro_fused_nonprobempi.LOC_T == 2) & (dfn1_macro_fused_nonprobempi.GLB_X/dfn1_macro_fused_nonprobempi.LOC_X == 2) & (dfn1_macro_fused_nonprobempi.GLB_Y/dfn1_macro_fused_nonprobempi.LOC_Y == 2)& (dfn1_macro_fused_nonprobempi.GLB_Z/dfn1_macro_fused_nonprobempi.LOC_Z == 2)]\n",
    "dfn1MacFusnonProb_32mpi_1omp = dfn1_macro_fused_nonprobempi[(dfn1_macro_fused_nonprobempi.omp_thrd == 1) & (dfn1_macro_fused_nonprobempi.GLB_T/dfn1_macro_fused_nonprobempi.LOC_T == 4) & (dfn1_macro_fused_nonprobempi.GLB_X/dfn1_macro_fused_nonprobempi.LOC_X == 2) & (dfn1_macro_fused_nonprobempi.GLB_Y/dfn1_macro_fused_nonprobempi.LOC_Y == 2)& (dfn1_macro_fused_nonprobempi.GLB_Z/dfn1_macro_fused_nonprobempi.LOC_Z == 2)]\n"
   ]
  },
  {
   "cell_type": "markdown",
   "id": "2f66cd6d",
   "metadata": {},
   "source": [
    "## Node 2: macro_fused_nonprobempi"
   ]
  },
  {
   "cell_type": "code",
   "execution_count": null,
   "id": "9457c2bc",
   "metadata": {},
   "outputs": [],
   "source": [
    "dfn2_macro_fused_nonprobempi[\"N_Nodes\"] = 2\n",
    "dfn2_macro_fused_nonprobempi['NPX'] = (dfn2_macro_fused_nonprobempi.GLB_X//dfn2_macro_fused_nonprobempi.LOC_X)\n",
    "dfn2_macro_fused_nonprobempi['NPY'] = (dfn2_macro_fused_nonprobempi.GLB_Y//dfn2_macro_fused_nonprobempi.LOC_Y)\n",
    "dfn2_macro_fused_nonprobempi['NPZ'] = (dfn2_macro_fused_nonprobempi.GLB_Z//dfn2_macro_fused_nonprobempi.LOC_Z)\n",
    "dfn2_macro_fused_nonprobempi['NPT'] = (dfn2_macro_fused_nonprobempi.GLB_T//dfn2_macro_fused_nonprobempi.LOC_T)\n",
    "dfn2_macro_fused_nonprobempi[\"Total_proc\"] = dfn2_macro_fused_nonprobempi[\"omp_thrd\"]* dfn2_macro_fused_nonprobempi.MPI_size\n",
    "# dfn2_macro_fused_nonprobempi.columns"
   ]
  },
  {
   "cell_type": "code",
   "execution_count": null,
   "id": "29febc6d",
   "metadata": {},
   "outputs": [],
   "source": [
    "dfn2_macro_fused_nonprobempi_summary =dfn2_macro_fused_nonprobempi.groupby(['MPI_size','omp_thrd','NPT','NPX', 'NPY', 'NPZ',\"Total_proc\"]).size().reset_index(name = 'size')\n",
    "dfn2_macro_fused_nonprobempi_summary"
   ]
  },
  {
   "cell_type": "code",
   "execution_count": null,
   "id": "b51f7040",
   "metadata": {},
   "outputs": [],
   "source": [
    "dfn2MacFusNonProb_16mpi_4omp = dfn2_macro_fused_nonprobempi[(dfn2_macro_fused_nonprobempi.omp_thrd == 4) & (dfn2_macro_fused_nonprobempi.GLB_T/dfn2_macro_fused_nonprobempi.LOC_T == 2) & (dfn2_macro_fused_nonprobempi.GLB_X/dfn2_macro_fused_nonprobempi.LOC_X == 2) & (dfn2_macro_fused_nonprobempi.GLB_Y/dfn2_macro_fused_nonprobempi.LOC_Y == 2)& (dfn2_macro_fused_nonprobempi.GLB_Z/dfn2_macro_fused_nonprobempi.LOC_Z == 2)]\n",
    "dfn2MacFusNonProb_32mpi_2omp = dfn2_macro_fused_nonprobempi[(dfn2_macro_fused_nonprobempi.omp_thrd == 2) & (dfn2_macro_fused_nonprobempi.GLB_T/dfn2_macro_fused_nonprobempi.LOC_T == 4) & (dfn2_macro_fused_nonprobempi.GLB_X/dfn2_macro_fused_nonprobempi.LOC_X == 2) & (dfn2_macro_fused_nonprobempi.GLB_Y/dfn2_macro_fused_nonprobempi.LOC_Y == 2)& (dfn2_macro_fused_nonprobempi.GLB_Z/dfn2_macro_fused_nonprobempi.LOC_Z == 2)]\n",
    "dfn2MacFusnonProb_56mpi_1omp = dfn2_macro_fused_nonprobempi[(dfn2_macro_fused_nonprobempi.omp_thrd == 1) & (dfn2_macro_fused_nonprobempi.GLB_T/dfn2_macro_fused_nonprobempi.LOC_T == 7) & (dfn2_macro_fused_nonprobempi.GLB_X/dfn2_macro_fused_nonprobempi.LOC_X == 2) & (dfn2_macro_fused_nonprobempi.GLB_Y/dfn2_macro_fused_nonprobempi.LOC_Y == 2)& (dfn2_macro_fused_nonprobempi.GLB_Z/dfn2_macro_fused_nonprobempi.LOC_Z == 2)]\n",
    "dfn2MacFusnonProb_64mpi_1omp = dfn2_macro_fused_nonprobempi[(dfn2_macro_fused_nonprobempi.omp_thrd == 1) & (dfn2_macro_fused_nonprobempi.GLB_T/dfn2_macro_fused_nonprobempi.LOC_T == 8) & (dfn2_macro_fused_nonprobempi.GLB_X/dfn2_macro_fused_nonprobempi.LOC_X == 2) & (dfn2_macro_fused_nonprobempi.GLB_Y/dfn2_macro_fused_nonprobempi.LOC_Y == 2)& (dfn2_macro_fused_nonprobempi.GLB_Z/dfn2_macro_fused_nonprobempi.LOC_Z == 2)]\n",
    "# dfn2MacFusNonProb_16mpi_4omp"
   ]
  },
  {
   "cell_type": "markdown",
   "id": "f348b77a",
   "metadata": {},
   "source": [
    "## Node 4: macro_fused_nonprobempi"
   ]
  },
  {
   "cell_type": "code",
   "execution_count": null,
   "id": "4738ad60",
   "metadata": {},
   "outputs": [],
   "source": [
    "dfn4_macro_fused_nonprobempi[\"N_Nodes\"] = 4\n",
    "dfn4_macro_fused_nonprobempi['NPX'] = (dfn4_macro_fused_nonprobempi.GLB_X//dfn4_macro_fused_nonprobempi.LOC_X)\n",
    "dfn4_macro_fused_nonprobempi['NPY'] = (dfn4_macro_fused_nonprobempi.GLB_Y//dfn4_macro_fused_nonprobempi.LOC_Y)\n",
    "dfn4_macro_fused_nonprobempi['NPZ'] = (dfn4_macro_fused_nonprobempi.GLB_Z//dfn4_macro_fused_nonprobempi.LOC_Z)\n",
    "dfn4_macro_fused_nonprobempi['NPT'] = (dfn4_macro_fused_nonprobempi.GLB_T//dfn4_macro_fused_nonprobempi.LOC_T)\n",
    "dfn4_macro_fused_nonprobempi[\"Total_proc\"] = dfn4_macro_fused_nonprobempi[\"omp_thrd\"]* dfn4_macro_fused_nonprobempi.MPI_size\n",
    "# dfn4_macro_fused_nonprobempi.columns"
   ]
  },
  {
   "cell_type": "code",
   "execution_count": null,
   "id": "a8da2b5f",
   "metadata": {},
   "outputs": [],
   "source": [
    "dfn4_macro_fused_nonprobempi_summary =dfn4_macro_fused_nonprobempi.groupby(['MPI_size','omp_thrd','NPT','NPX', 'NPY', 'NPZ',\"Total_proc\"]).size().reset_index(name = 'size')\n",
    "dfn4_macro_fused_nonprobempi_summary"
   ]
  },
  {
   "cell_type": "code",
   "execution_count": null,
   "id": "719b0f7f",
   "metadata": {},
   "outputs": [],
   "source": [
    "dfn4MacFusNonProb_32mpi_4omp = dfn4_macro_fused_nonprobempi[(dfn4_macro_fused_nonprobempi.omp_thrd == 4) & (dfn4_macro_fused_nonprobempi.GLB_T/dfn4_macro_fused_nonprobempi.LOC_T == 4) & (dfn4_macro_fused_nonprobempi.GLB_X/dfn4_macro_fused_nonprobempi.LOC_X == 2) & (dfn4_macro_fused_nonprobempi.GLB_Y/dfn4_macro_fused_nonprobempi.LOC_Y == 2)& (dfn4_macro_fused_nonprobempi.GLB_Z/dfn4_macro_fused_nonprobempi.LOC_Z == 2)]\n",
    "dfn4MacFusNonProb_40mpi_3omp = dfn4_macro_fused_nonprobempi[(dfn4_macro_fused_nonprobempi.omp_thrd == 3) & (dfn4_macro_fused_nonprobempi.GLB_T/dfn4_macro_fused_nonprobempi.LOC_T == 5) & (dfn4_macro_fused_nonprobempi.GLB_X/dfn4_macro_fused_nonprobempi.LOC_X == 2) & (dfn4_macro_fused_nonprobempi.GLB_Y/dfn4_macro_fused_nonprobempi.LOC_Y == 2)& (dfn4_macro_fused_nonprobempi.GLB_Z/dfn4_macro_fused_nonprobempi.LOC_Z == 2)]\n",
    "dfn4MacFusnonProb_56mpi_2omp = dfn4_macro_fused_nonprobempi[(dfn4_macro_fused_nonprobempi.omp_thrd == 2) & (dfn4_macro_fused_nonprobempi.GLB_T/dfn4_macro_fused_nonprobempi.LOC_T == 7) & (dfn4_macro_fused_nonprobempi.GLB_X/dfn4_macro_fused_nonprobempi.LOC_X == 2) & (dfn4_macro_fused_nonprobempi.GLB_Y/dfn4_macro_fused_nonprobempi.LOC_Y == 2)& (dfn4_macro_fused_nonprobempi.GLB_Z/dfn4_macro_fused_nonprobempi.LOC_Z == 2)]\n",
    "dfn4MacFusnonProb_64mpi_2omp = dfn4_macro_fused_nonprobempi[(dfn4_macro_fused_nonprobempi.omp_thrd == 2) & (dfn4_macro_fused_nonprobempi.GLB_T/dfn4_macro_fused_nonprobempi.LOC_T == 8) & (dfn4_macro_fused_nonprobempi.GLB_X/dfn4_macro_fused_nonprobempi.LOC_X == 2) & (dfn4_macro_fused_nonprobempi.GLB_Y/dfn4_macro_fused_nonprobempi.LOC_Y == 2)& (dfn4_macro_fused_nonprobempi.GLB_Z/dfn4_macro_fused_nonprobempi.LOC_Z == 2)]\n",
    "dfn4MacFusnonProb_112mpi_1omp = dfn4_macro_fused_nonprobempi[(dfn4_macro_fused_nonprobempi.omp_thrd == 1) & (dfn4_macro_fused_nonprobempi.GLB_T/dfn4_macro_fused_nonprobempi.LOC_T == 14) & (dfn4_macro_fused_nonprobempi.GLB_X/dfn4_macro_fused_nonprobempi.LOC_X == 2) & (dfn4_macro_fused_nonprobempi.GLB_Y/dfn4_macro_fused_nonprobempi.LOC_Y == 2)& (dfn4_macro_fused_nonprobempi.GLB_Z/dfn4_macro_fused_nonprobempi.LOC_Z == 2)]\n",
    "dfn4MacFusnonProb_128mpi_1omp = dfn4_macro_fused_nonprobempi[(dfn4_macro_fused_nonprobempi.omp_thrd == 1) & (dfn4_macro_fused_nonprobempi.GLB_T/dfn4_macro_fused_nonprobempi.LOC_T == 16) & (dfn4_macro_fused_nonprobempi.GLB_X/dfn4_macro_fused_nonprobempi.LOC_X == 2) & (dfn4_macro_fused_nonprobempi.GLB_Y/dfn4_macro_fused_nonprobempi.LOC_Y == 2)& (dfn4_macro_fused_nonprobempi.GLB_Z/dfn4_macro_fused_nonprobempi.LOC_Z == 2)]\n"
   ]
  },
  {
   "cell_type": "code",
   "execution_count": null,
   "id": "4934ba4c",
   "metadata": {},
   "outputs": [],
   "source": []
  },
  {
   "cell_type": "markdown",
   "id": "1566c88e",
   "metadata": {},
   "source": [
    "# B. MACRO: NonFused_NonProbempi"
   ]
  },
  {
   "cell_type": "markdown",
   "id": "f76f05ef",
   "metadata": {},
   "source": [
    "## Node 1: macro_nonfused_nonprobempi"
   ]
  },
  {
   "cell_type": "code",
   "execution_count": null,
   "id": "addb4528",
   "metadata": {},
   "outputs": [],
   "source": [
    "dfn1_macro_nonfused_nonprobempi[\"N_Nodes\"] = 1\n",
    "dfn1_macro_nonfused_nonprobempi['NPX'] = (dfn1_macro_nonfused_nonprobempi.GLB_X//dfn1_macro_nonfused_nonprobempi.LOC_X)\n",
    "dfn1_macro_nonfused_nonprobempi['NPY'] = (dfn1_macro_nonfused_nonprobempi.GLB_Y//dfn1_macro_nonfused_nonprobempi.LOC_Y)\n",
    "dfn1_macro_nonfused_nonprobempi['NPZ'] = (dfn1_macro_nonfused_nonprobempi.GLB_Z//dfn1_macro_nonfused_nonprobempi.LOC_Z)\n",
    "dfn1_macro_nonfused_nonprobempi['NPT'] = (dfn1_macro_nonfused_nonprobempi.GLB_T//dfn1_macro_nonfused_nonprobempi.LOC_T)\n",
    "dfn1_macro_nonfused_nonprobempi[\"Total_proc\"] = dfn1_macro_nonfused_nonprobempi[\"omp_thrd\"]* dfn1_macro_nonfused_nonprobempi.MPI_size\n",
    "# dfn1_macro_nonfused_nonprobempi.columns"
   ]
  },
  {
   "cell_type": "code",
   "execution_count": null,
   "id": "9af088ef",
   "metadata": {},
   "outputs": [],
   "source": [
    "dfn1_macro_nonfused_nonprobempi_summary = dfn1_macro_nonfused_nonprobempi.groupby(['MPI_size','omp_thrd','NPT','NPX', 'NPY', 'NPZ',\"Total_proc\"]).size().reset_index(name = 'size')\n",
    "dfn1_macro_nonfused_nonprobempi_summary"
   ]
  },
  {
   "cell_type": "code",
   "execution_count": null,
   "id": "56cc4c89",
   "metadata": {},
   "outputs": [],
   "source": [
    "dfn1MacNonFusNonProb_8mpi_4omp = dfn1_macro_nonfused_nonprobempi[(dfn1_macro_nonfused_nonprobempi.omp_thrd == 4) & (dfn1_macro_nonfused_nonprobempi.GLB_T/dfn1_macro_nonfused_nonprobempi.LOC_T == 1) & (dfn1_macro_nonfused_nonprobempi.GLB_X/dfn1_macro_nonfused_nonprobempi.LOC_X == 2) & (dfn1_macro_nonfused_nonprobempi.GLB_Y/dfn1_macro_nonfused_nonprobempi.LOC_Y == 2)& (dfn1_macro_nonfused_nonprobempi.GLB_Z/dfn1_macro_nonfused_nonprobempi.LOC_Z == 2)]\n",
    "dfn1MacNonFusNonProb_16mpi_2omp = dfn1_macro_nonfused_nonprobempi[(dfn1_macro_nonfused_nonprobempi.omp_thrd == 2) & (dfn1_macro_nonfused_nonprobempi.GLB_T/dfn1_macro_nonfused_nonprobempi.LOC_T == 2) & (dfn1_macro_nonfused_nonprobempi.GLB_X/dfn1_macro_nonfused_nonprobempi.LOC_X == 2) & (dfn1_macro_nonfused_nonprobempi.GLB_Y/dfn1_macro_nonfused_nonprobempi.LOC_Y == 2)& (dfn1_macro_nonfused_nonprobempi.GLB_Z/dfn1_macro_nonfused_nonprobempi.LOC_Z == 2)]\n",
    "dfn1MacNonFusNonProb_32mpi_1omp = dfn1_macro_nonfused_nonprobempi[(dfn1_macro_nonfused_nonprobempi.omp_thrd == 1) & (dfn1_macro_nonfused_nonprobempi.GLB_T/dfn1_macro_nonfused_nonprobempi.LOC_T == 4) & (dfn1_macro_nonfused_nonprobempi.GLB_X/dfn1_macro_nonfused_nonprobempi.LOC_X == 2) & (dfn1_macro_nonfused_nonprobempi.GLB_Y/dfn1_macro_nonfused_nonprobempi.LOC_Y == 2)& (dfn1_macro_nonfused_nonprobempi.GLB_Z/dfn1_macro_nonfused_nonprobempi.LOC_Z == 2)]\n"
   ]
  },
  {
   "cell_type": "markdown",
   "id": "2d284690",
   "metadata": {},
   "source": [
    "## Node 2: macro_nonfused_nonprobempi"
   ]
  },
  {
   "cell_type": "code",
   "execution_count": null,
   "id": "c28bb013",
   "metadata": {},
   "outputs": [],
   "source": [
    "dfn2_macro_nonfused_nonprobempi[\"N_Nodes\"] = 2\n",
    "dfn2_macro_nonfused_nonprobempi['NPX'] = (dfn2_macro_nonfused_nonprobempi.GLB_X//dfn2_macro_nonfused_nonprobempi.LOC_X)\n",
    "dfn2_macro_nonfused_nonprobempi['NPY'] = (dfn2_macro_nonfused_nonprobempi.GLB_Y//dfn2_macro_nonfused_nonprobempi.LOC_Y)\n",
    "dfn2_macro_nonfused_nonprobempi['NPZ'] = (dfn2_macro_nonfused_nonprobempi.GLB_Z//dfn2_macro_nonfused_nonprobempi.LOC_Z)\n",
    "dfn2_macro_nonfused_nonprobempi['NPT'] = (dfn2_macro_nonfused_nonprobempi.GLB_T//dfn2_macro_nonfused_nonprobempi.LOC_T)\n",
    "dfn2_macro_nonfused_nonprobempi[\"Total_proc\"] = dfn2_macro_nonfused_nonprobempi[\"omp_thrd\"]* dfn2_macro_nonfused_nonprobempi.MPI_size\n",
    "# dfn2_macro_nonfused_nonprobempi.columns"
   ]
  },
  {
   "cell_type": "code",
   "execution_count": null,
   "id": "866bffce",
   "metadata": {},
   "outputs": [],
   "source": [
    "dfn2_macro_nonfused_nonprobempi_summary = dfn2_macro_nonfused_nonprobempi.groupby(['MPI_size','omp_thrd','NPT','NPX', 'NPY', 'NPZ',\"Total_proc\"]).size().reset_index(name = 'size')\n",
    "dfn2_macro_nonfused_nonprobempi_summary"
   ]
  },
  {
   "cell_type": "code",
   "execution_count": null,
   "id": "4e1c8ba0",
   "metadata": {},
   "outputs": [],
   "source": [
    "dfn2MacNonFusNonProb_16mpi_4omp = dfn2_macro_nonfused_nonprobempi[(dfn2_macro_nonfused_nonprobempi.omp_thrd == 4) & (dfn2_macro_nonfused_nonprobempi.GLB_T/dfn2_macro_nonfused_nonprobempi.LOC_T == 2) & (dfn2_macro_nonfused_nonprobempi.GLB_X/dfn2_macro_nonfused_nonprobempi.LOC_X == 2) & (dfn2_macro_nonfused_nonprobempi.GLB_Y/dfn2_macro_nonfused_nonprobempi.LOC_Y == 2)& (dfn2_macro_nonfused_nonprobempi.GLB_Z/dfn2_macro_nonfused_nonprobempi.LOC_Z == 2)]\n",
    "dfn2MacNonFusNonProb_32mpi_2omp = dfn2_macro_nonfused_nonprobempi[(dfn2_macro_nonfused_nonprobempi.omp_thrd == 2) & (dfn2_macro_nonfused_nonprobempi.GLB_T/dfn2_macro_nonfused_nonprobempi.LOC_T == 4) & (dfn2_macro_nonfused_nonprobempi.GLB_X/dfn2_macro_nonfused_nonprobempi.LOC_X == 2) & (dfn2_macro_nonfused_nonprobempi.GLB_Y/dfn2_macro_nonfused_nonprobempi.LOC_Y == 2)& (dfn2_macro_nonfused_nonprobempi.GLB_Z/dfn2_macro_nonfused_nonprobempi.LOC_Z == 2)]\n",
    "dfn2MacNonFusNonProb_56mpi_1omp = dfn2_macro_nonfused_nonprobempi[(dfn2_macro_nonfused_nonprobempi.omp_thrd == 1) & (dfn2_macro_nonfused_nonprobempi.GLB_T/dfn2_macro_nonfused_nonprobempi.LOC_T == 7) & (dfn2_macro_nonfused_nonprobempi.GLB_X/dfn2_macro_nonfused_nonprobempi.LOC_X == 2) & (dfn2_macro_nonfused_nonprobempi.GLB_Y/dfn2_macro_nonfused_nonprobempi.LOC_Y == 2)& (dfn2_macro_nonfused_nonprobempi.GLB_Z/dfn2_macro_nonfused_nonprobempi.LOC_Z == 2)]\n",
    "dfn2MacNonFusNonProb_64mpi_1omp = dfn2_macro_nonfused_nonprobempi[(dfn2_macro_nonfused_nonprobempi.omp_thrd == 1) & (dfn2_macro_nonfused_nonprobempi.GLB_T/dfn2_macro_nonfused_nonprobempi.LOC_T == 8) & (dfn2_macro_nonfused_nonprobempi.GLB_X/dfn2_macro_nonfused_nonprobempi.LOC_X == 2) & (dfn2_macro_nonfused_nonprobempi.GLB_Y/dfn2_macro_nonfused_nonprobempi.LOC_Y == 2)& (dfn2_macro_nonfused_nonprobempi.GLB_Z/dfn2_macro_nonfused_nonprobempi.LOC_Z == 2)]\n"
   ]
  },
  {
   "cell_type": "markdown",
   "id": "c82e7bd2",
   "metadata": {},
   "source": [
    "## Node 4: macro_nonfused_nonprobempi"
   ]
  },
  {
   "cell_type": "code",
   "execution_count": null,
   "id": "9739efba",
   "metadata": {},
   "outputs": [],
   "source": [
    "dfn4_macro_nonfused_nonprobempi[\"N_Nodes\"] = 4\n",
    "dfn4_macro_nonfused_nonprobempi['NPX'] = (dfn4_macro_nonfused_nonprobempi.GLB_X//dfn4_macro_nonfused_nonprobempi.LOC_X)\n",
    "dfn4_macro_nonfused_nonprobempi['NPY'] = (dfn4_macro_nonfused_nonprobempi.GLB_Y//dfn4_macro_nonfused_nonprobempi.LOC_Y)\n",
    "dfn4_macro_nonfused_nonprobempi['NPZ'] = (dfn4_macro_nonfused_nonprobempi.GLB_Z//dfn4_macro_nonfused_nonprobempi.LOC_Z)\n",
    "dfn4_macro_nonfused_nonprobempi['NPT'] = (dfn4_macro_nonfused_nonprobempi.GLB_T//dfn4_macro_nonfused_nonprobempi.LOC_T)\n",
    "dfn4_macro_nonfused_nonprobempi[\"Total_proc\"] = dfn4_macro_nonfused_nonprobempi[\"omp_thrd\"]* dfn4_macro_nonfused_nonprobempi.MPI_size\n",
    "# dfn4_macro_nonfused_nonprobempi.columns"
   ]
  },
  {
   "cell_type": "code",
   "execution_count": null,
   "id": "e5c8f361",
   "metadata": {},
   "outputs": [],
   "source": [
    "dfn4_macro_nonfused_nonprobempi_summary = dfn4_macro_nonfused_nonprobempi.groupby(['MPI_size','omp_thrd','NPT','NPX', 'NPY', 'NPZ',\"Total_proc\"]).size().reset_index(name = 'size')\n",
    "dfn4_macro_nonfused_nonprobempi_summary"
   ]
  },
  {
   "cell_type": "code",
   "execution_count": null,
   "id": "972cd649",
   "metadata": {},
   "outputs": [],
   "source": [
    "dfn4MacNonFusNonProb_32mpi_4omp = dfn4_macro_nonfused_nonprobempi[(dfn4_macro_nonfused_nonprobempi.omp_thrd == 4) & (dfn4_macro_nonfused_nonprobempi.GLB_T/dfn4_macro_nonfused_nonprobempi.LOC_T == 4) & (dfn4_macro_nonfused_nonprobempi.GLB_X/dfn4_macro_nonfused_nonprobempi.LOC_X == 2) & (dfn4_macro_nonfused_nonprobempi.GLB_Y/dfn4_macro_nonfused_nonprobempi.LOC_Y == 2)& (dfn4_macro_nonfused_nonprobempi.GLB_Z/dfn4_macro_nonfused_nonprobempi.LOC_Z == 2)]\n",
    "dfn4MacNonFusNonProb_40mpi_3omp = dfn4_macro_nonfused_nonprobempi[(dfn4_macro_nonfused_nonprobempi.omp_thrd == 3) & (dfn4_macro_nonfused_nonprobempi.GLB_T/dfn4_macro_nonfused_nonprobempi.LOC_T == 5) & (dfn4_macro_nonfused_nonprobempi.GLB_X/dfn4_macro_nonfused_nonprobempi.LOC_X == 2) & (dfn4_macro_nonfused_nonprobempi.GLB_Y/dfn4_macro_nonfused_nonprobempi.LOC_Y == 2)& (dfn4_macro_nonfused_nonprobempi.GLB_Z/dfn4_macro_nonfused_nonprobempi.LOC_Z == 2)]\n",
    "dfn4MacNonFusNonProb_56mpi_2omp = dfn4_macro_nonfused_nonprobempi[(dfn4_macro_nonfused_nonprobempi.omp_thrd == 2) & (dfn4_macro_nonfused_nonprobempi.GLB_T/dfn4_macro_nonfused_nonprobempi.LOC_T == 7) & (dfn4_macro_nonfused_nonprobempi.GLB_X/dfn4_macro_nonfused_nonprobempi.LOC_X == 2) & (dfn4_macro_nonfused_nonprobempi.GLB_Y/dfn4_macro_nonfused_nonprobempi.LOC_Y == 2)& (dfn4_macro_nonfused_nonprobempi.GLB_Z/dfn4_macro_nonfused_nonprobempi.LOC_Z == 2)]\n",
    "dfn4MacNonFusNonProb_64mpi_2omp = dfn4_macro_nonfused_nonprobempi[(dfn4_macro_nonfused_nonprobempi.omp_thrd == 2) & (dfn4_macro_nonfused_nonprobempi.GLB_T/dfn4_macro_nonfused_nonprobempi.LOC_T == 8) & (dfn4_macro_nonfused_nonprobempi.GLB_X/dfn4_macro_nonfused_nonprobempi.LOC_X == 2) & (dfn4_macro_nonfused_nonprobempi.GLB_Y/dfn4_macro_nonfused_nonprobempi.LOC_Y == 2)& (dfn4_macro_nonfused_nonprobempi.GLB_Z/dfn4_macro_nonfused_nonprobempi.LOC_Z == 2)]\n",
    "dfn4MacNonFusNonProb_112mpi_1omp = dfn4_macro_nonfused_nonprobempi[(dfn4_macro_nonfused_nonprobempi.omp_thrd == 1) & (dfn4_macro_nonfused_nonprobempi.GLB_T/dfn4_macro_nonfused_nonprobempi.LOC_T == 14) & (dfn4_macro_nonfused_nonprobempi.GLB_X/dfn4_macro_nonfused_nonprobempi.LOC_X == 2) & (dfn4_macro_nonfused_nonprobempi.GLB_Y/dfn4_macro_nonfused_nonprobempi.LOC_Y == 2)& (dfn4_macro_nonfused_nonprobempi.GLB_Z/dfn4_macro_nonfused_nonprobempi.LOC_Z == 2)]\n",
    "dfn4MacNonFusNonProb_128mpi_1omp = dfn4_macro_nonfused_nonprobempi[(dfn4_macro_nonfused_nonprobempi.omp_thrd == 1) & (dfn4_macro_nonfused_nonprobempi.GLB_T/dfn4_macro_nonfused_nonprobempi.LOC_T == 16) & (dfn4_macro_nonfused_nonprobempi.GLB_X/dfn4_macro_nonfused_nonprobempi.LOC_X == 2) & (dfn4_macro_nonfused_nonprobempi.GLB_Y/dfn4_macro_nonfused_nonprobempi.LOC_Y == 2)& (dfn4_macro_nonfused_nonprobempi.GLB_Z/dfn4_macro_nonfused_nonprobempi.LOC_Z == 2)]\n"
   ]
  },
  {
   "cell_type": "code",
   "execution_count": null,
   "id": "e887ab2c",
   "metadata": {},
   "outputs": [],
   "source": []
  },
  {
   "cell_type": "markdown",
   "id": "cf3c561e",
   "metadata": {},
   "source": [
    "# C. MACRO: Newgeo_NonProbempi"
   ]
  },
  {
   "cell_type": "markdown",
   "id": "28f5a518",
   "metadata": {},
   "source": [
    "## Node 1:"
   ]
  },
  {
   "cell_type": "code",
   "execution_count": null,
   "id": "7333be61",
   "metadata": {},
   "outputs": [],
   "source": [
    "dfn1_macro_newgeo_nonprobempi[\"N_Nodes\"] = 1\n",
    "dfn1_macro_newgeo_nonprobempi['NPX'] = (dfn1_macro_newgeo_nonprobempi.GLB_X//dfn1_macro_newgeo_nonprobempi.LOC_X)\n",
    "dfn1_macro_newgeo_nonprobempi['NPY'] = (dfn1_macro_newgeo_nonprobempi.GLB_Y//dfn1_macro_newgeo_nonprobempi.LOC_Y)\n",
    "dfn1_macro_newgeo_nonprobempi['NPZ'] = (dfn1_macro_newgeo_nonprobempi.GLB_Z//dfn1_macro_newgeo_nonprobempi.LOC_Z)\n",
    "dfn1_macro_newgeo_nonprobempi['NPT'] = (dfn1_macro_newgeo_nonprobempi.GLB_T//dfn1_macro_newgeo_nonprobempi.LOC_T)\n",
    "dfn1_macro_newgeo_nonprobempi[\"Total_proc\"] = dfn1_macro_newgeo_nonprobempi[\"omp_thrd\"]* dfn1_macro_newgeo_nonprobempi.MPI_size\n",
    "# dfn1_macro_newgeo_nonprobempi.columns"
   ]
  },
  {
   "cell_type": "code",
   "execution_count": null,
   "id": "3352dc32",
   "metadata": {},
   "outputs": [],
   "source": [
    "dfn1_macro_newgeo_nonprobempi_summary = dfn1_macro_newgeo_nonprobempi.groupby(['MPI_size','omp_thrd','NPT','NPX', 'NPY', 'NPZ',\"Total_proc\"]).size().reset_index(name = 'size')\n",
    "dfn1_macro_newgeo_nonprobempi_summary"
   ]
  },
  {
   "cell_type": "code",
   "execution_count": null,
   "id": "efc8b186",
   "metadata": {},
   "outputs": [],
   "source": [
    "dfn1MacNewgeoNonProb_8mpi_4omp = dfn1_macro_newgeo_nonprobempi[(dfn1_macro_newgeo_nonprobempi.omp_thrd == 4) & (dfn1_macro_newgeo_nonprobempi.GLB_T/dfn1_macro_newgeo_nonprobempi.LOC_T == 1) & (dfn1_macro_newgeo_nonprobempi.GLB_X/dfn1_macro_newgeo_nonprobempi.LOC_X == 2) & (dfn1_macro_newgeo_nonprobempi.GLB_Y/dfn1_macro_newgeo_nonprobempi.LOC_Y == 2)& (dfn1_macro_newgeo_nonprobempi.GLB_Z/dfn1_macro_newgeo_nonprobempi.LOC_Z == 2)]\n",
    "dfn1MacNewgeoNonProb_16mpi_2omp = dfn1_macro_newgeo_nonprobempi[(dfn1_macro_newgeo_nonprobempi.omp_thrd == 2) & (dfn1_macro_newgeo_nonprobempi.GLB_T/dfn1_macro_newgeo_nonprobempi.LOC_T == 2) & (dfn1_macro_newgeo_nonprobempi.GLB_X/dfn1_macro_newgeo_nonprobempi.LOC_X == 2) & (dfn1_macro_newgeo_nonprobempi.GLB_Y/dfn1_macro_newgeo_nonprobempi.LOC_Y == 2)& (dfn1_macro_newgeo_nonprobempi.GLB_Z/dfn1_macro_newgeo_nonprobempi.LOC_Z == 2)]\n",
    "dfn1MacNewgeoNonProb_32mpi_1omp = dfn1_macro_newgeo_nonprobempi[(dfn1_macro_newgeo_nonprobempi.omp_thrd == 1) & (dfn1_macro_newgeo_nonprobempi.GLB_T/dfn1_macro_newgeo_nonprobempi.LOC_T == 4) & (dfn1_macro_newgeo_nonprobempi.GLB_X/dfn1_macro_newgeo_nonprobempi.LOC_X == 2) & (dfn1_macro_newgeo_nonprobempi.GLB_Y/dfn1_macro_newgeo_nonprobempi.LOC_Y == 2)& (dfn1_macro_newgeo_nonprobempi.GLB_Z/dfn1_macro_newgeo_nonprobempi.LOC_Z == 2)]\n"
   ]
  },
  {
   "cell_type": "code",
   "execution_count": null,
   "id": "27e765fc",
   "metadata": {},
   "outputs": [],
   "source": []
  },
  {
   "cell_type": "markdown",
   "id": "b358571b",
   "metadata": {},
   "source": [
    "## Node 2: "
   ]
  },
  {
   "cell_type": "code",
   "execution_count": null,
   "id": "cee04489",
   "metadata": {},
   "outputs": [],
   "source": [
    "dfn2_macro_newgeo_nonprobempi[\"N_Nodes\"] = 2\n",
    "dfn2_macro_newgeo_nonprobempi['NPX'] = (dfn2_macro_newgeo_nonprobempi.GLB_X//dfn2_macro_newgeo_nonprobempi.LOC_X)\n",
    "dfn2_macro_newgeo_nonprobempi['NPY'] = (dfn2_macro_newgeo_nonprobempi.GLB_Y//dfn2_macro_newgeo_nonprobempi.LOC_Y)\n",
    "dfn2_macro_newgeo_nonprobempi['NPZ'] = (dfn2_macro_newgeo_nonprobempi.GLB_Z//dfn2_macro_newgeo_nonprobempi.LOC_Z)\n",
    "dfn2_macro_newgeo_nonprobempi['NPT'] = (dfn2_macro_newgeo_nonprobempi.GLB_T//dfn2_macro_newgeo_nonprobempi.LOC_T)\n",
    "dfn2_macro_newgeo_nonprobempi[\"Total_proc\"] = dfn2_macro_newgeo_nonprobempi[\"omp_thrd\"]* dfn2_macro_newgeo_nonprobempi.MPI_size\n",
    "# dfn2_macro_newgeo_nonprobempi.columns"
   ]
  },
  {
   "cell_type": "code",
   "execution_count": null,
   "id": "768405ec",
   "metadata": {},
   "outputs": [],
   "source": [
    "dfn2_macro_newgeo_nonprobempi_summary = dfn2_macro_newgeo_nonprobempi.groupby(['MPI_size','omp_thrd','NPT','NPX', 'NPY', 'NPZ',\"Total_proc\"]).size().reset_index(name = 'size')\n",
    "dfn2_macro_newgeo_nonprobempi_summary"
   ]
  },
  {
   "cell_type": "code",
   "execution_count": null,
   "id": "f9fecac0",
   "metadata": {},
   "outputs": [],
   "source": [
    "dfn2MacNewgeoNonProb_16mpi_4omp = dfn2_macro_newgeo_nonprobempi[(dfn2_macro_newgeo_nonprobempi.omp_thrd == 4) & (dfn2_macro_newgeo_nonprobempi.GLB_T/dfn2_macro_newgeo_nonprobempi.LOC_T == 2) & (dfn2_macro_newgeo_nonprobempi.GLB_X/dfn2_macro_newgeo_nonprobempi.LOC_X == 2) & (dfn2_macro_newgeo_nonprobempi.GLB_Y/dfn2_macro_newgeo_nonprobempi.LOC_Y == 2)& (dfn2_macro_newgeo_nonprobempi.GLB_Z/dfn2_macro_newgeo_nonprobempi.LOC_Z == 2)]\n",
    "dfn2MacNewgeoNonProb_32mpi_2omp = dfn2_macro_newgeo_nonprobempi[(dfn2_macro_newgeo_nonprobempi.omp_thrd == 2) & (dfn2_macro_newgeo_nonprobempi.GLB_T/dfn2_macro_newgeo_nonprobempi.LOC_T == 4) & (dfn2_macro_newgeo_nonprobempi.GLB_X/dfn2_macro_newgeo_nonprobempi.LOC_X == 2) & (dfn2_macro_newgeo_nonprobempi.GLB_Y/dfn2_macro_newgeo_nonprobempi.LOC_Y == 2)& (dfn2_macro_newgeo_nonprobempi.GLB_Z/dfn2_macro_newgeo_nonprobempi.LOC_Z == 2)]\n",
    "dfn2MacNewgeoNonProb_56mpi_1omp = dfn2_macro_newgeo_nonprobempi[(dfn2_macro_newgeo_nonprobempi.omp_thrd == 1) & (dfn2_macro_newgeo_nonprobempi.GLB_T/dfn2_macro_newgeo_nonprobempi.LOC_T == 7) & (dfn2_macro_newgeo_nonprobempi.GLB_X/dfn2_macro_newgeo_nonprobempi.LOC_X == 2) & (dfn2_macro_newgeo_nonprobempi.GLB_Y/dfn2_macro_newgeo_nonprobempi.LOC_Y == 2)& (dfn2_macro_newgeo_nonprobempi.GLB_Z/dfn2_macro_newgeo_nonprobempi.LOC_Z == 2)]\n",
    "dfn2MacNewgeoNonProb_64mpi_1omp = dfn2_macro_newgeo_nonprobempi[(dfn2_macro_newgeo_nonprobempi.omp_thrd == 1) & (dfn2_macro_newgeo_nonprobempi.GLB_T/dfn2_macro_newgeo_nonprobempi.LOC_T == 8) & (dfn2_macro_newgeo_nonprobempi.GLB_X/dfn2_macro_newgeo_nonprobempi.LOC_X == 2) & (dfn2_macro_newgeo_nonprobempi.GLB_Y/dfn2_macro_newgeo_nonprobempi.LOC_Y == 2)& (dfn2_macro_newgeo_nonprobempi.GLB_Z/dfn2_macro_newgeo_nonprobempi.LOC_Z == 2)]\n"
   ]
  },
  {
   "cell_type": "code",
   "execution_count": null,
   "id": "7569ed74",
   "metadata": {},
   "outputs": [],
   "source": []
  },
  {
   "cell_type": "markdown",
   "id": "6a3522b3",
   "metadata": {},
   "source": [
    "## Node 4: "
   ]
  },
  {
   "cell_type": "code",
   "execution_count": null,
   "id": "e77ef66d",
   "metadata": {},
   "outputs": [],
   "source": [
    "dfn4_macro_newgeo_nonprobempi[\"N_Nodes\"] = 4\n",
    "dfn4_macro_newgeo_nonprobempi['NPX'] = (dfn4_macro_newgeo_nonprobempi.GLB_X//dfn4_macro_newgeo_nonprobempi.LOC_X)\n",
    "dfn4_macro_newgeo_nonprobempi['NPY'] = (dfn4_macro_newgeo_nonprobempi.GLB_Y//dfn4_macro_newgeo_nonprobempi.LOC_Y)\n",
    "dfn4_macro_newgeo_nonprobempi['NPZ'] = (dfn4_macro_newgeo_nonprobempi.GLB_Z//dfn4_macro_newgeo_nonprobempi.LOC_Z)\n",
    "dfn4_macro_newgeo_nonprobempi['NPT'] = (dfn4_macro_newgeo_nonprobempi.GLB_T//dfn4_macro_newgeo_nonprobempi.LOC_T)\n",
    "dfn4_macro_newgeo_nonprobempi[\"Total_proc\"] = dfn4_macro_newgeo_nonprobempi[\"omp_thrd\"]* dfn4_macro_newgeo_nonprobempi.MPI_size\n",
    "# dfn4_macro_newgeo_nonprobempi.columns"
   ]
  },
  {
   "cell_type": "code",
   "execution_count": null,
   "id": "0e7d97b8",
   "metadata": {},
   "outputs": [],
   "source": [
    "dfn4_macro_newgeo_nonprobempi_summary = dfn4_macro_newgeo_nonprobempi.groupby(['MPI_size','omp_thrd','NPT','NPX', 'NPY', 'NPZ',\"Total_proc\"]).size().reset_index(name = 'size')\n",
    "dfn4_macro_newgeo_nonprobempi_summary"
   ]
  },
  {
   "cell_type": "code",
   "execution_count": null,
   "id": "15a113fe",
   "metadata": {},
   "outputs": [],
   "source": [
    "dfn4MacNewgeoNonProb_32mpi_4omp = dfn4_macro_newgeo_nonprobempi[(dfn4_macro_newgeo_nonprobempi.omp_thrd == 4) & (dfn4_macro_newgeo_nonprobempi.GLB_T/dfn4_macro_newgeo_nonprobempi.LOC_T == 4) & (dfn4_macro_newgeo_nonprobempi.GLB_X/dfn4_macro_newgeo_nonprobempi.LOC_X == 2) & (dfn4_macro_newgeo_nonprobempi.GLB_Y/dfn4_macro_newgeo_nonprobempi.LOC_Y == 2)& (dfn4_macro_newgeo_nonprobempi.GLB_Z/dfn4_macro_newgeo_nonprobempi.LOC_Z == 2)]\n",
    "dfn4MacNewgeoNonProb_40mpi_3omp = dfn4_macro_newgeo_nonprobempi[(dfn4_macro_newgeo_nonprobempi.omp_thrd == 3) & (dfn4_macro_newgeo_nonprobempi.GLB_T/dfn4_macro_newgeo_nonprobempi.LOC_T == 5) & (dfn4_macro_newgeo_nonprobempi.GLB_X/dfn4_macro_newgeo_nonprobempi.LOC_X == 2) & (dfn4_macro_newgeo_nonprobempi.GLB_Y/dfn4_macro_newgeo_nonprobempi.LOC_Y == 2)& (dfn4_macro_newgeo_nonprobempi.GLB_Z/dfn4_macro_newgeo_nonprobempi.LOC_Z == 2)]\n",
    "dfn4MacNewgeoNonProb_56mpi_2omp = dfn4_macro_newgeo_nonprobempi[(dfn4_macro_newgeo_nonprobempi.omp_thrd == 2) & (dfn4_macro_newgeo_nonprobempi.GLB_T/dfn4_macro_newgeo_nonprobempi.LOC_T == 7) & (dfn4_macro_newgeo_nonprobempi.GLB_X/dfn4_macro_newgeo_nonprobempi.LOC_X == 2) & (dfn4_macro_newgeo_nonprobempi.GLB_Y/dfn4_macro_newgeo_nonprobempi.LOC_Y == 2)& (dfn4_macro_newgeo_nonprobempi.GLB_Z/dfn4_macro_newgeo_nonprobempi.LOC_Z == 2)]\n",
    "dfn4MacNewgeoNonProb_64mpi_2omp = dfn4_macro_newgeo_nonprobempi[(dfn4_macro_newgeo_nonprobempi.omp_thrd == 2) & (dfn4_macro_newgeo_nonprobempi.GLB_T/dfn4_macro_newgeo_nonprobempi.LOC_T == 8) & (dfn4_macro_newgeo_nonprobempi.GLB_X/dfn4_macro_newgeo_nonprobempi.LOC_X == 2) & (dfn4_macro_newgeo_nonprobempi.GLB_Y/dfn4_macro_newgeo_nonprobempi.LOC_Y == 2)& (dfn4_macro_newgeo_nonprobempi.GLB_Z/dfn4_macro_newgeo_nonprobempi.LOC_Z == 2)]\n",
    "dfn4MacNewgeoNonProb_112mpi_1omp = dfn4_macro_newgeo_nonprobempi[(dfn4_macro_newgeo_nonprobempi.omp_thrd == 1) & (dfn4_macro_newgeo_nonprobempi.GLB_T/dfn4_macro_newgeo_nonprobempi.LOC_T == 14) & (dfn4_macro_newgeo_nonprobempi.GLB_X/dfn4_macro_newgeo_nonprobempi.LOC_X == 2) & (dfn4_macro_newgeo_nonprobempi.GLB_Y/dfn4_macro_newgeo_nonprobempi.LOC_Y == 2)& (dfn4_macro_newgeo_nonprobempi.GLB_Z/dfn4_macro_newgeo_nonprobempi.LOC_Z == 2)]\n",
    "dfn4MacNewgeoNonProb_128mpi_1omp = dfn4_macro_newgeo_nonprobempi[(dfn4_macro_newgeo_nonprobempi.omp_thrd == 1) & (dfn4_macro_newgeo_nonprobempi.GLB_T/dfn4_macro_newgeo_nonprobempi.LOC_T == 16) & (dfn4_macro_newgeo_nonprobempi.GLB_X/dfn4_macro_newgeo_nonprobempi.LOC_X == 2) & (dfn4_macro_newgeo_nonprobempi.GLB_Y/dfn4_macro_newgeo_nonprobempi.LOC_Y == 2)& (dfn4_macro_newgeo_nonprobempi.GLB_Z/dfn4_macro_newgeo_nonprobempi.LOC_Z == 2)]\n"
   ]
  },
  {
   "cell_type": "code",
   "execution_count": null,
   "id": "cd83e180",
   "metadata": {},
   "outputs": [],
   "source": []
  },
  {
   "cell_type": "markdown",
   "id": "4f633594",
   "metadata": {},
   "source": [
    "# AVX "
   ]
  },
  {
   "cell_type": "markdown",
   "id": "f99f36ee",
   "metadata": {},
   "source": [
    "# C. AVX: Fused_NonProbempi"
   ]
  },
  {
   "cell_type": "markdown",
   "id": "e30d2fb3",
   "metadata": {},
   "source": [
    "## Node 1: AVX_fused_nonprobempi"
   ]
  },
  {
   "cell_type": "code",
   "execution_count": null,
   "id": "830a800a",
   "metadata": {},
   "outputs": [],
   "source": [
    "dfn1_avx_fused_nonprobmpi[\"N_Nodes\"] = 1\n",
    "dfn1_avx_fused_nonprobmpi['NPX'] = (dfn1_avx_fused_nonprobmpi.GLB_X//dfn1_avx_fused_nonprobmpi.LOC_X)\n",
    "dfn1_avx_fused_nonprobmpi['NPY'] = (dfn1_avx_fused_nonprobmpi.GLB_Y//dfn1_avx_fused_nonprobmpi.LOC_Y)\n",
    "dfn1_avx_fused_nonprobmpi['NPZ'] = (dfn1_avx_fused_nonprobmpi.GLB_Z//dfn1_avx_fused_nonprobmpi.LOC_Z)\n",
    "dfn1_avx_fused_nonprobmpi['NPT'] = (dfn1_avx_fused_nonprobmpi.GLB_T//dfn1_avx_fused_nonprobmpi.LOC_T)\n",
    "dfn1_avx_fused_nonprobmpi[\"Total_proc\"] = dfn1_avx_fused_nonprobmpi[\"omp_thrd\"]* dfn1_avx_fused_nonprobmpi.MPI_size\n",
    "# dfn1_avx_fused_nonprobmpi.columns"
   ]
  },
  {
   "cell_type": "code",
   "execution_count": null,
   "id": "794095f3",
   "metadata": {},
   "outputs": [],
   "source": [
    "dfn1_avx_fused_nonprobmpi_summary = dfn1_avx_fused_nonprobmpi.groupby(['MPI_size','omp_thrd','NPT','NPX', 'NPY', 'NPZ',\"Total_proc\"]).size().reset_index(name = 'size')\n",
    "dfn1_avx_fused_nonprobmpi_summary"
   ]
  },
  {
   "cell_type": "code",
   "execution_count": null,
   "id": "3e8bb833",
   "metadata": {},
   "outputs": [],
   "source": [
    "dfn1AvxFusNonProb_8mpi_4omp = dfn1_avx_fused_nonprobmpi[(dfn1_avx_fused_nonprobmpi.omp_thrd == 4) & (dfn1_avx_fused_nonprobmpi.GLB_T/dfn1_avx_fused_nonprobmpi.LOC_T == 1) & (dfn1_avx_fused_nonprobmpi.GLB_X/dfn1_avx_fused_nonprobmpi.LOC_X == 2) & (dfn1_avx_fused_nonprobmpi.GLB_Y/dfn1_avx_fused_nonprobmpi.LOC_Y == 2)& (dfn1_avx_fused_nonprobmpi.GLB_Z/dfn1_avx_fused_nonprobmpi.LOC_Z == 2)]\n",
    "dfn1AvxFusNonProb_16mpi_2omp = dfn1_avx_fused_nonprobmpi[(dfn1_avx_fused_nonprobmpi.omp_thrd == 2) & (dfn1_avx_fused_nonprobmpi.GLB_T/dfn1_avx_fused_nonprobmpi.LOC_T == 2) & (dfn1_avx_fused_nonprobmpi.GLB_X/dfn1_avx_fused_nonprobmpi.LOC_X == 2) & (dfn1_avx_fused_nonprobmpi.GLB_Y/dfn1_avx_fused_nonprobmpi.LOC_Y == 2)& (dfn1_avx_fused_nonprobmpi.GLB_Z/dfn1_avx_fused_nonprobmpi.LOC_Z == 2)]\n",
    "dfn1AvxFusNonProb_32mpi_1omp = dfn1_avx_fused_nonprobmpi[(dfn1_avx_fused_nonprobmpi.omp_thrd == 1) & (dfn1_avx_fused_nonprobmpi.GLB_T/dfn1_avx_fused_nonprobmpi.LOC_T == 4) & (dfn1_avx_fused_nonprobmpi.GLB_X/dfn1_avx_fused_nonprobmpi.LOC_X == 2) & (dfn1_avx_fused_nonprobmpi.GLB_Y/dfn1_avx_fused_nonprobmpi.LOC_Y == 2)& (dfn1_avx_fused_nonprobmpi.GLB_Z/dfn1_avx_fused_nonprobmpi.LOC_Z == 2)]\n"
   ]
  },
  {
   "cell_type": "code",
   "execution_count": null,
   "id": "dff2dae3",
   "metadata": {},
   "outputs": [],
   "source": []
  },
  {
   "cell_type": "code",
   "execution_count": null,
   "id": "c055a7fb",
   "metadata": {},
   "outputs": [],
   "source": []
  },
  {
   "cell_type": "markdown",
   "id": "0faf9b18",
   "metadata": {},
   "source": [
    "## Node 2: AVX_fused_nonprobempi"
   ]
  },
  {
   "cell_type": "code",
   "execution_count": null,
   "id": "a7cb6fa1",
   "metadata": {},
   "outputs": [],
   "source": [
    "dfn2_avx_fused_nonprobmpi[\"N_Nodes\"] = 2\n",
    "dfn2_avx_fused_nonprobmpi['NPX'] = (dfn2_avx_fused_nonprobmpi.GLB_X//dfn2_avx_fused_nonprobmpi.LOC_X)\n",
    "dfn2_avx_fused_nonprobmpi['NPY'] = (dfn2_avx_fused_nonprobmpi.GLB_Y//dfn2_avx_fused_nonprobmpi.LOC_Y)\n",
    "dfn2_avx_fused_nonprobmpi['NPZ'] = (dfn2_avx_fused_nonprobmpi.GLB_Z//dfn2_avx_fused_nonprobmpi.LOC_Z)\n",
    "dfn2_avx_fused_nonprobmpi['NPT'] = (dfn2_avx_fused_nonprobmpi.GLB_T//dfn2_avx_fused_nonprobmpi.LOC_T)\n",
    "dfn2_avx_fused_nonprobmpi[\"Total_proc\"] = dfn2_avx_fused_nonprobmpi[\"omp_thrd\"]* dfn2_avx_fused_nonprobmpi.MPI_size\n",
    "# dfn2_avx_fused_nonprobmpi.columns"
   ]
  },
  {
   "cell_type": "code",
   "execution_count": null,
   "id": "fa4e2655",
   "metadata": {},
   "outputs": [],
   "source": [
    "dfn2_avx_fused_nonprobmpi_summary = dfn2_avx_fused_nonprobmpi.groupby(['MPI_size','omp_thrd','NPT','NPX', 'NPY', 'NPZ',\"Total_proc\"]).size().reset_index(name = 'size')\n",
    "dfn2_avx_fused_nonprobmpi_summary"
   ]
  },
  {
   "cell_type": "code",
   "execution_count": null,
   "id": "f7480b58",
   "metadata": {},
   "outputs": [],
   "source": [
    "dfn2AvxFusNonProb_16mpi_4omp = dfn2_avx_fused_nonprobmpi[(dfn2_avx_fused_nonprobmpi.omp_thrd == 4) & (dfn2_avx_fused_nonprobmpi.GLB_T/dfn2_avx_fused_nonprobmpi.LOC_T == 2) & (dfn2_avx_fused_nonprobmpi.GLB_X/dfn2_avx_fused_nonprobmpi.LOC_X == 2) & (dfn2_avx_fused_nonprobmpi.GLB_Y/dfn2_avx_fused_nonprobmpi.LOC_Y == 2)& (dfn2_avx_fused_nonprobmpi.GLB_Z/dfn2_avx_fused_nonprobmpi.LOC_Z == 2)]\n",
    "dfn2AvxFusNonProb_32mpi_2omp = dfn2_avx_fused_nonprobmpi[(dfn2_avx_fused_nonprobmpi.omp_thrd == 2) & (dfn2_avx_fused_nonprobmpi.GLB_T/dfn2_avx_fused_nonprobmpi.LOC_T == 4) & (dfn2_avx_fused_nonprobmpi.GLB_X/dfn2_avx_fused_nonprobmpi.LOC_X == 2) & (dfn2_avx_fused_nonprobmpi.GLB_Y/dfn2_avx_fused_nonprobmpi.LOC_Y == 2)& (dfn2_avx_fused_nonprobmpi.GLB_Z/dfn2_avx_fused_nonprobmpi.LOC_Z == 2)]\n",
    "dfn2AvxFusNonProb_56mpi_1omp = dfn2_avx_fused_nonprobmpi[(dfn2_avx_fused_nonprobmpi.omp_thrd == 1) & (dfn2_avx_fused_nonprobmpi.GLB_T/dfn2_avx_fused_nonprobmpi.LOC_T == 7) & (dfn2_avx_fused_nonprobmpi.GLB_X/dfn2_avx_fused_nonprobmpi.LOC_X == 2) & (dfn2_avx_fused_nonprobmpi.GLB_Y/dfn2_avx_fused_nonprobmpi.LOC_Y == 2)& (dfn2_avx_fused_nonprobmpi.GLB_Z/dfn2_avx_fused_nonprobmpi.LOC_Z == 2)]\n",
    "dfn2AvxFusNonProb_64mpi_1omp = dfn2_avx_fused_nonprobmpi[(dfn2_avx_fused_nonprobmpi.omp_thrd == 1) & (dfn2_avx_fused_nonprobmpi.GLB_T/dfn2_avx_fused_nonprobmpi.LOC_T == 8) & (dfn2_avx_fused_nonprobmpi.GLB_X/dfn2_avx_fused_nonprobmpi.LOC_X == 2) & (dfn2_avx_fused_nonprobmpi.GLB_Y/dfn2_avx_fused_nonprobmpi.LOC_Y == 2)& (dfn2_avx_fused_nonprobmpi.GLB_Z/dfn2_avx_fused_nonprobmpi.LOC_Z == 2)]\n"
   ]
  },
  {
   "cell_type": "code",
   "execution_count": null,
   "id": "8d869762",
   "metadata": {},
   "outputs": [],
   "source": []
  },
  {
   "cell_type": "code",
   "execution_count": null,
   "id": "7bf60e2d",
   "metadata": {},
   "outputs": [],
   "source": []
  },
  {
   "cell_type": "markdown",
   "id": "2273ecb8",
   "metadata": {},
   "source": [
    "## Node 4: AVX_fused_nonprobempi"
   ]
  },
  {
   "cell_type": "code",
   "execution_count": null,
   "id": "af2eed2b",
   "metadata": {},
   "outputs": [],
   "source": [
    "# NOT AVAILABLE YET"
   ]
  },
  {
   "cell_type": "code",
   "execution_count": null,
   "id": "fd5f01a8",
   "metadata": {},
   "outputs": [],
   "source": []
  },
  {
   "cell_type": "code",
   "execution_count": null,
   "id": "db1679f2",
   "metadata": {},
   "outputs": [],
   "source": []
  },
  {
   "cell_type": "markdown",
   "id": "5433f6a0",
   "metadata": {},
   "source": [
    "# D. AVX: NonFused_NonProbempi"
   ]
  },
  {
   "cell_type": "markdown",
   "id": "5760f18d",
   "metadata": {},
   "source": [
    "## Node 1: AVX_nonfused_nonprobempi"
   ]
  },
  {
   "cell_type": "code",
   "execution_count": null,
   "id": "556b071f",
   "metadata": {},
   "outputs": [],
   "source": [
    "dfn1_avx_nonfused_probempi[\"N_Nodes\"] = 1\n",
    "dfn1_avx_nonfused_probempi['NPX'] = (dfn1_avx_nonfused_probempi.GLB_X//dfn1_avx_nonfused_probempi.LOC_X)\n",
    "dfn1_avx_nonfused_probempi['NPY'] = (dfn1_avx_nonfused_probempi.GLB_Y//dfn1_avx_nonfused_probempi.LOC_Y)\n",
    "dfn1_avx_nonfused_probempi['NPZ'] = (dfn1_avx_nonfused_probempi.GLB_Z//dfn1_avx_nonfused_probempi.LOC_Z)\n",
    "dfn1_avx_nonfused_probempi['NPT'] = (dfn1_avx_nonfused_probempi.GLB_T//dfn1_avx_nonfused_probempi.LOC_T)\n",
    "dfn1_avx_nonfused_probempi[\"Total_proc\"] = dfn1_avx_nonfused_probempi[\"omp_thrd\"]* dfn1_avx_nonfused_probempi.MPI_size\n",
    "# dfn1_avx_nonfused_probempi.columns"
   ]
  },
  {
   "cell_type": "code",
   "execution_count": null,
   "id": "8bad8161",
   "metadata": {},
   "outputs": [],
   "source": [
    "dfn1_avx_nonfused_probempi_summary = dfn1_avx_nonfused_probempi.groupby(['MPI_size','omp_thrd','NPT','NPX', 'NPY', 'NPZ',\"Total_proc\"]).size().reset_index(name = 'size')\n",
    "dfn1_avx_nonfused_probempi_summary"
   ]
  },
  {
   "cell_type": "code",
   "execution_count": null,
   "id": "97f2e6b4",
   "metadata": {},
   "outputs": [],
   "source": [
    "dfn1AvxNonFusProb_8mpi_4omp = dfn1_avx_nonfused_probempi[(dfn1_avx_nonfused_probempi.omp_thrd == 4) & (dfn1_avx_nonfused_probempi.GLB_T/dfn1_avx_nonfused_probempi.LOC_T == 1) & (dfn1_avx_nonfused_probempi.GLB_X/dfn1_avx_nonfused_probempi.LOC_X == 2) & (dfn1_avx_nonfused_probempi.GLB_Y/dfn1_avx_nonfused_probempi.LOC_Y == 2)& (dfn1_avx_nonfused_probempi.GLB_Z/dfn1_avx_nonfused_probempi.LOC_Z == 2)]\n",
    "dfn1AvxNonFusProb_16mpi_2omp = dfn1_avx_nonfused_probempi[(dfn1_avx_nonfused_probempi.omp_thrd == 2) & (dfn1_avx_nonfused_probempi.GLB_T/dfn1_avx_nonfused_probempi.LOC_T == 2) & (dfn1_avx_nonfused_probempi.GLB_X/dfn1_avx_nonfused_probempi.LOC_X == 2) & (dfn1_avx_nonfused_probempi.GLB_Y/dfn1_avx_nonfused_probempi.LOC_Y == 2)& (dfn1_avx_nonfused_probempi.GLB_Z/dfn1_avx_nonfused_probempi.LOC_Z == 2)]\n",
    "dfn1AvxNonFusProb_32mpi_1omp = dfn1_avx_nonfused_probempi[(dfn1_avx_nonfused_probempi.omp_thrd == 1) & (dfn1_avx_nonfused_probempi.GLB_T/dfn1_avx_nonfused_probempi.LOC_T == 4) & (dfn1_avx_nonfused_probempi.GLB_X/dfn1_avx_nonfused_probempi.LOC_X == 2) & (dfn1_avx_nonfused_probempi.GLB_Y/dfn1_avx_nonfused_probempi.LOC_Y == 2)& (dfn1_avx_nonfused_probempi.GLB_Z/dfn1_avx_nonfused_probempi.LOC_Z == 2)]\n"
   ]
  },
  {
   "cell_type": "code",
   "execution_count": null,
   "id": "b70ffb81",
   "metadata": {},
   "outputs": [],
   "source": []
  },
  {
   "cell_type": "markdown",
   "id": "ba7b2c5a",
   "metadata": {},
   "source": [
    "## Node 2: AVX_nonfused_nonprobempi"
   ]
  },
  {
   "cell_type": "code",
   "execution_count": null,
   "id": "a0532640",
   "metadata": {},
   "outputs": [],
   "source": [
    "dfn2_avx_nonfused_nonprobempi[\"N_Nodes\"] = 2\n",
    "dfn2_avx_nonfused_nonprobempi['NPX'] = (dfn2_avx_nonfused_nonprobempi.GLB_X//dfn2_avx_nonfused_nonprobempi.LOC_X)\n",
    "dfn2_avx_nonfused_nonprobempi['NPY'] = (dfn2_avx_nonfused_nonprobempi.GLB_Y//dfn2_avx_nonfused_nonprobempi.LOC_Y)\n",
    "dfn2_avx_nonfused_nonprobempi['NPZ'] = (dfn2_avx_nonfused_nonprobempi.GLB_Z//dfn2_avx_nonfused_nonprobempi.LOC_Z)\n",
    "dfn2_avx_nonfused_nonprobempi['NPT'] = (dfn2_avx_nonfused_nonprobempi.GLB_T//dfn2_avx_nonfused_nonprobempi.LOC_T)\n",
    "dfn2_avx_nonfused_nonprobempi[\"Total_proc\"] = dfn2_avx_nonfused_nonprobempi[\"omp_thrd\"]* dfn2_avx_nonfused_nonprobempi.MPI_size\n",
    "# dfn2_avx_nonfused_nonprobempi.columns"
   ]
  },
  {
   "cell_type": "code",
   "execution_count": null,
   "id": "02f31325",
   "metadata": {},
   "outputs": [],
   "source": [
    "dfn2_avx_nonfused_nonprobempi_summary = dfn2_avx_nonfused_nonprobempi.groupby(['MPI_size','omp_thrd','NPT','NPX', 'NPY', 'NPZ',\"Total_proc\"]).size().reset_index(name = 'size')\n",
    "dfn2_avx_nonfused_nonprobempi_summary"
   ]
  },
  {
   "cell_type": "code",
   "execution_count": null,
   "id": "436bcbe5",
   "metadata": {},
   "outputs": [],
   "source": [
    "dfn2AvxNonFusNonProb_16mpi_4omp = dfn2_avx_nonfused_nonprobempi[(dfn2_avx_nonfused_nonprobempi.omp_thrd == 4) & (dfn2_avx_nonfused_nonprobempi.GLB_T/dfn2_avx_nonfused_nonprobempi.LOC_T == 2) & (dfn2_avx_nonfused_nonprobempi.GLB_X/dfn2_avx_nonfused_nonprobempi.LOC_X == 2) & (dfn2_avx_nonfused_nonprobempi.GLB_Y/dfn2_avx_nonfused_nonprobempi.LOC_Y == 2)& (dfn2_avx_nonfused_nonprobempi.GLB_Z/dfn2_avx_nonfused_nonprobempi.LOC_Z == 2)]\n",
    "dfn2AvxNonFusNonProb_32mpi_2omp = dfn2_avx_nonfused_nonprobempi[(dfn2_avx_nonfused_nonprobempi.omp_thrd == 2) & (dfn2_avx_nonfused_nonprobempi.GLB_T/dfn2_avx_nonfused_nonprobempi.LOC_T == 4) & (dfn2_avx_nonfused_nonprobempi.GLB_X/dfn2_avx_nonfused_nonprobempi.LOC_X == 2) & (dfn2_avx_nonfused_nonprobempi.GLB_Y/dfn2_avx_nonfused_nonprobempi.LOC_Y == 2)& (dfn2_avx_nonfused_nonprobempi.GLB_Z/dfn2_avx_nonfused_nonprobempi.LOC_Z == 2)]\n",
    "dfn2AvxNonFusNonProb_56mpi_1omp = dfn2_avx_nonfused_nonprobempi[(dfn2_avx_nonfused_nonprobempi.omp_thrd == 1) & (dfn2_avx_nonfused_nonprobempi.GLB_T/dfn2_avx_nonfused_nonprobempi.LOC_T == 7) & (dfn2_avx_nonfused_nonprobempi.GLB_X/dfn2_avx_nonfused_nonprobempi.LOC_X == 2) & (dfn2_avx_nonfused_nonprobempi.GLB_Y/dfn2_avx_nonfused_nonprobempi.LOC_Y == 2)& (dfn2_avx_nonfused_nonprobempi.GLB_Z/dfn2_avx_nonfused_nonprobempi.LOC_Z == 2)]\n",
    "dfn2AvxNonFusNonProb_64mpi_1omp = dfn2_avx_nonfused_nonprobempi[(dfn2_avx_nonfused_nonprobempi.omp_thrd == 1) & (dfn2_avx_nonfused_nonprobempi.GLB_T/dfn2_avx_nonfused_nonprobempi.LOC_T == 8) & (dfn2_avx_nonfused_nonprobempi.GLB_X/dfn2_avx_nonfused_nonprobempi.LOC_X == 2) & (dfn2_avx_nonfused_nonprobempi.GLB_Y/dfn2_avx_nonfused_nonprobempi.LOC_Y == 2)& (dfn2_avx_nonfused_nonprobempi.GLB_Z/dfn2_avx_nonfused_nonprobempi.LOC_Z == 2)]\n"
   ]
  },
  {
   "cell_type": "code",
   "execution_count": null,
   "id": "2798ef73",
   "metadata": {},
   "outputs": [],
   "source": []
  },
  {
   "cell_type": "code",
   "execution_count": null,
   "id": "7548ce3d",
   "metadata": {},
   "outputs": [],
   "source": []
  },
  {
   "cell_type": "markdown",
   "id": "165128cd",
   "metadata": {},
   "source": [
    "## Node 4: AVX_nonfused_nonprobempi"
   ]
  },
  {
   "cell_type": "code",
   "execution_count": null,
   "id": "5d60d7ea",
   "metadata": {},
   "outputs": [],
   "source": [
    "#  NOT AVAILABLE YET"
   ]
  },
  {
   "cell_type": "code",
   "execution_count": null,
   "id": "6d8cab24",
   "metadata": {},
   "outputs": [],
   "source": []
  },
  {
   "cell_type": "markdown",
   "id": "938cae6e",
   "metadata": {},
   "source": [
    "# E. AVX_Newgeo_NonProbempi"
   ]
  },
  {
   "cell_type": "markdown",
   "id": "6bcdf076",
   "metadata": {},
   "source": [
    "## Node 1: AVX_newgeo_nonprobempi"
   ]
  },
  {
   "cell_type": "code",
   "execution_count": null,
   "id": "ded39de0",
   "metadata": {},
   "outputs": [],
   "source": [
    "dfn1_avx_newgeo_nonprobempi[\"N_Nodes\"] = 1\n",
    "dfn1_avx_newgeo_nonprobempi['NPX'] = (dfn1_avx_newgeo_nonprobempi.GLB_X//dfn1_avx_newgeo_nonprobempi.LOC_X)\n",
    "dfn1_avx_newgeo_nonprobempi['NPY'] = (dfn1_avx_newgeo_nonprobempi.GLB_Y//dfn1_avx_newgeo_nonprobempi.LOC_Y)\n",
    "dfn1_avx_newgeo_nonprobempi['NPZ'] = (dfn1_avx_newgeo_nonprobempi.GLB_Z//dfn1_avx_newgeo_nonprobempi.LOC_Z)\n",
    "dfn1_avx_newgeo_nonprobempi['NPT'] = (dfn1_avx_newgeo_nonprobempi.GLB_T//dfn1_avx_newgeo_nonprobempi.LOC_T)\n",
    "dfn1_avx_newgeo_nonprobempi[\"Total_proc\"] = dfn1_avx_newgeo_nonprobempi[\"omp_thrd\"]* dfn1_avx_newgeo_nonprobempi.MPI_size\n",
    "# dfn1_avx_newgeo_nonprobempi.columns"
   ]
  },
  {
   "cell_type": "code",
   "execution_count": null,
   "id": "e8abbf05",
   "metadata": {},
   "outputs": [],
   "source": [
    "dfn1_avx_newgeo_nonprobempi_summary = dfn1_avx_newgeo_nonprobempi.groupby(['MPI_size','omp_thrd','NPT','NPX', 'NPY', 'NPZ',\"Total_proc\"]).size().reset_index(name = 'size')\n",
    "dfn1_avx_newgeo_nonprobempi_summary"
   ]
  },
  {
   "cell_type": "code",
   "execution_count": null,
   "id": "0a77cab3",
   "metadata": {},
   "outputs": [],
   "source": [
    "dfn1AvxNewgeoNonProb_8mpi_4omp = dfn1_avx_newgeo_nonprobempi[(dfn1_avx_newgeo_nonprobempi.omp_thrd == 4) & (dfn1_avx_newgeo_nonprobempi.GLB_T/dfn1_avx_newgeo_nonprobempi.LOC_T == 1) & (dfn1_avx_newgeo_nonprobempi.GLB_X/dfn1_avx_newgeo_nonprobempi.LOC_X == 2) & (dfn1_avx_newgeo_nonprobempi.GLB_Y/dfn1_avx_newgeo_nonprobempi.LOC_Y == 2)& (dfn1_avx_newgeo_nonprobempi.GLB_Z/dfn1_avx_newgeo_nonprobempi.LOC_Z == 2)]\n",
    "dfn1AvxNewgeoNonProb_16mpi_2omp = dfn1_avx_newgeo_nonprobempi[(dfn1_avx_newgeo_nonprobempi.omp_thrd == 2) & (dfn1_avx_newgeo_nonprobempi.GLB_T/dfn1_avx_newgeo_nonprobempi.LOC_T == 2) & (dfn1_avx_newgeo_nonprobempi.GLB_X/dfn1_avx_newgeo_nonprobempi.LOC_X == 2) & (dfn1_avx_newgeo_nonprobempi.GLB_Y/dfn1_avx_newgeo_nonprobempi.LOC_Y == 2)& (dfn1_avx_newgeo_nonprobempi.GLB_Z/dfn1_avx_newgeo_nonprobempi.LOC_Z == 2)]\n",
    "dfn1AvxNewgeoNonProb_32mpi_1omp = dfn1_avx_newgeo_nonprobempi[(dfn1_avx_newgeo_nonprobempi.omp_thrd == 1) & (dfn1_avx_newgeo_nonprobempi.GLB_T/dfn1_avx_newgeo_nonprobempi.LOC_T == 4) & (dfn1_avx_newgeo_nonprobempi.GLB_X/dfn1_avx_newgeo_nonprobempi.LOC_X == 2) & (dfn1_avx_newgeo_nonprobempi.GLB_Y/dfn1_avx_newgeo_nonprobempi.LOC_Y == 2)& (dfn1_avx_newgeo_nonprobempi.GLB_Z/dfn1_avx_newgeo_nonprobempi.LOC_Z == 2)]\n"
   ]
  },
  {
   "cell_type": "code",
   "execution_count": null,
   "id": "0c7ada92",
   "metadata": {},
   "outputs": [],
   "source": []
  },
  {
   "cell_type": "markdown",
   "id": "0a86fd07",
   "metadata": {},
   "source": [
    "## Node 2: AVX_newgeo_nonprobempi"
   ]
  },
  {
   "cell_type": "code",
   "execution_count": null,
   "id": "1805807a",
   "metadata": {},
   "outputs": [],
   "source": [
    "dfn2_avx_newgeo_nonprobempi[\"N_Nodes\"] = 2\n",
    "dfn2_avx_newgeo_nonprobempi['NPX'] = (dfn2_avx_newgeo_nonprobempi.GLB_X//dfn2_avx_newgeo_nonprobempi.LOC_X)\n",
    "dfn2_avx_newgeo_nonprobempi['NPY'] = (dfn2_avx_newgeo_nonprobempi.GLB_Y//dfn2_avx_newgeo_nonprobempi.LOC_Y)\n",
    "dfn2_avx_newgeo_nonprobempi['NPZ'] = (dfn2_avx_newgeo_nonprobempi.GLB_Z//dfn2_avx_newgeo_nonprobempi.LOC_Z)\n",
    "dfn2_avx_newgeo_nonprobempi['NPT'] = (dfn2_avx_newgeo_nonprobempi.GLB_T//dfn2_avx_newgeo_nonprobempi.LOC_T)\n",
    "dfn2_avx_newgeo_nonprobempi[\"Total_proc\"] = dfn2_avx_newgeo_nonprobempi[\"omp_thrd\"]* dfn2_avx_newgeo_nonprobempi.MPI_size\n",
    "# dfn2_avx_newgeo_nonprobempi.columns"
   ]
  },
  {
   "cell_type": "code",
   "execution_count": null,
   "id": "0d82c057",
   "metadata": {},
   "outputs": [],
   "source": [
    "dfn2_avx_newgeo_nonprobempi_summary = dfn2_avx_newgeo_nonprobempi.groupby(['MPI_size','omp_thrd','NPT','NPX', 'NPY', 'NPZ',\"Total_proc\"]).size().reset_index(name = 'size')\n",
    "dfn2_avx_newgeo_nonprobempi_summary"
   ]
  },
  {
   "cell_type": "code",
   "execution_count": null,
   "id": "d9984c0c",
   "metadata": {},
   "outputs": [],
   "source": [
    "dfn2AvxNewgeoNonProb_16mpi_4omp = dfn2_avx_newgeo_nonprobempi[(dfn2_avx_newgeo_nonprobempi.omp_thrd == 4) & (dfn2_avx_newgeo_nonprobempi.GLB_T/dfn2_avx_newgeo_nonprobempi.LOC_T == 2) & (dfn2_avx_newgeo_nonprobempi.GLB_X/dfn2_avx_newgeo_nonprobempi.LOC_X == 2) & (dfn2_avx_newgeo_nonprobempi.GLB_Y/dfn2_avx_newgeo_nonprobempi.LOC_Y == 2)& (dfn2_avx_newgeo_nonprobempi.GLB_Z/dfn2_avx_newgeo_nonprobempi.LOC_Z == 2)]\n",
    "dfn2AvxNewgeoNonProb_32mpi_2omp = dfn2_avx_newgeo_nonprobempi[(dfn2_avx_newgeo_nonprobempi.omp_thrd == 2) & (dfn2_avx_newgeo_nonprobempi.GLB_T/dfn2_avx_newgeo_nonprobempi.LOC_T == 4) & (dfn2_avx_newgeo_nonprobempi.GLB_X/dfn2_avx_newgeo_nonprobempi.LOC_X == 2) & (dfn2_avx_newgeo_nonprobempi.GLB_Y/dfn2_avx_newgeo_nonprobempi.LOC_Y == 2)& (dfn2_avx_newgeo_nonprobempi.GLB_Z/dfn2_avx_newgeo_nonprobempi.LOC_Z == 2)]\n",
    "dfn2AvxNewgeoNonProb_56mpi_1omp = dfn2_avx_newgeo_nonprobempi[(dfn2_avx_newgeo_nonprobempi.omp_thrd == 1) & (dfn2_avx_newgeo_nonprobempi.GLB_T/dfn2_avx_newgeo_nonprobempi.LOC_T == 7) & (dfn2_avx_newgeo_nonprobempi.GLB_X/dfn2_avx_newgeo_nonprobempi.LOC_X == 2) & (dfn2_avx_newgeo_nonprobempi.GLB_Y/dfn2_avx_newgeo_nonprobempi.LOC_Y == 2)& (dfn2_avx_newgeo_nonprobempi.GLB_Z/dfn2_avx_newgeo_nonprobempi.LOC_Z == 2)]\n",
    "dfn2AvxNewgeoNonProb_64mpi_1omp = dfn2_avx_newgeo_nonprobempi[(dfn2_avx_newgeo_nonprobempi.omp_thrd == 1) & (dfn2_avx_newgeo_nonprobempi.GLB_T/dfn2_avx_newgeo_nonprobempi.LOC_T == 8) & (dfn2_avx_newgeo_nonprobempi.GLB_X/dfn2_avx_newgeo_nonprobempi.LOC_X == 2) & (dfn2_avx_newgeo_nonprobempi.GLB_Y/dfn2_avx_newgeo_nonprobempi.LOC_Y == 2)& (dfn2_avx_newgeo_nonprobempi.GLB_Z/dfn2_avx_newgeo_nonprobempi.LOC_Z == 2)]\n",
    "\n"
   ]
  },
  {
   "cell_type": "code",
   "execution_count": null,
   "id": "d38a92ef",
   "metadata": {},
   "outputs": [],
   "source": []
  },
  {
   "cell_type": "markdown",
   "id": "61028be2",
   "metadata": {},
   "source": [
    "## Node 4: AVX_newgeo_nonprobempi"
   ]
  },
  {
   "cell_type": "code",
   "execution_count": null,
   "id": "24bd9de4",
   "metadata": {},
   "outputs": [],
   "source": []
  },
  {
   "cell_type": "code",
   "execution_count": null,
   "id": "49405326",
   "metadata": {},
   "outputs": [],
   "source": []
  },
  {
   "cell_type": "code",
   "execution_count": null,
   "id": "4f54bfe9",
   "metadata": {},
   "outputs": [],
   "source": []
  },
  {
   "cell_type": "code",
   "execution_count": null,
   "id": "bb3164d5",
   "metadata": {},
   "outputs": [],
   "source": []
  },
  {
   "cell_type": "code",
   "execution_count": null,
   "id": "21d755e3",
   "metadata": {},
   "outputs": [],
   "source": []
  },
  {
   "cell_type": "code",
   "execution_count": null,
   "id": "1cd767e4",
   "metadata": {},
   "outputs": [],
   "source": []
  },
  {
   "cell_type": "markdown",
   "id": "e5fbfc8b",
   "metadata": {},
   "source": [
    "# 8 MPI 4 OMP PER PROCESS"
   ]
  },
  {
   "cell_type": "markdown",
   "id": "75f8cfc3",
   "metadata": {},
   "source": [
    "## GFlops Macro Fused NonProbmpi: Node1 vs 2 vs 4 (8 mpi 4omp per node)"
   ]
  },
  {
   "cell_type": "code",
   "execution_count": null,
   "id": "13f6bcdf",
   "metadata": {},
   "outputs": [],
   "source": [
    "fig = go.Figure()\n",
    "\n",
    "# NODE 1\n",
    "fig.add_trace(go.Scatter(x=(dfn1MacNonFusNonProb_8mpi_4omp.Dirc_Data_Mov*(dfn1MacNonFusNonProb_8mpi_4omp.MPI_size)), \n",
    "                         y=(dfn1MacNonFusNonProb_8mpi_4omp.GFLOPS*(dfn1MacNonFusNonProb_8mpi_4omp.MPI_size)), \n",
    "                         mode='lines+markers', \n",
    "                         name='Node1: MacNonFusNonProb_8mpi_4omp',\n",
    "                         line=dict(color='red',width=3),\n",
    "                         marker=dict(symbol='hexagon',size=9, line=dict(color='yellow',width=1))))\n",
    "\n",
    "fig.add_trace(go.Scatter(x=(dfn1MacFusNonProb_8mpi_4omp.Dirc_Data_Mov*(dfn1MacFusNonProb_8mpi_4omp.MPI_size)), \n",
    "                         y=(dfn1MacFusNonProb_8mpi_4omp.GFLOPS*(dfn1MacFusNonProb_8mpi_4omp.MPI_size)), \n",
    "                         mode='lines+markers', \n",
    "                         name='Node1: MacFusNonProb_8mpi_4omp',\n",
    "                         line=dict(color='green',width=3),\n",
    "                         marker=dict(symbol='hexagon',size=9, line=dict(color='yellow',width=1))))\n",
    "\n",
    "# NODE 2\n",
    "fig.add_trace(go.Scatter(x=(dfn2MacNonFusNonProb_16mpi_4omp.Dirc_Data_Mov*(dfn2MacNonFusNonProb_16mpi_4omp.MPI_size/2)), \n",
    "                         y=(dfn2MacNonFusNonProb_16mpi_4omp.GFLOPS*(dfn2MacNonFusNonProb_16mpi_4omp.MPI_size/2)), \n",
    "                         mode='lines+markers', \n",
    "                         name='Node2: MacNonFusNonProb_16mpi_4omp',\n",
    "                         line=dict(color='magenta',width=3),\n",
    "                         marker=dict(symbol='hexagon',size=9, line=dict(color='yellow',width=1))))\n",
    "\n",
    "fig.add_trace(go.Scatter(x=(dfn2MacFusNonProb_16mpi_4omp.Dirc_Data_Mov*(dfn2MacFusNonProb_16mpi_4omp.MPI_size/2)), \n",
    "                         y=(dfn2MacFusNonProb_16mpi_4omp.GFLOPS*(dfn2MacFusNonProb_16mpi_4omp.MPI_size/2)), \n",
    "                         mode='lines+markers', \n",
    "                         name='Node2: MacFusNonProb_16mpi_4omp',\n",
    "                         line=dict(color='blue',width=3),\n",
    "                         marker=dict(symbol='hexagon',size=9, line=dict(color='yellow',width=1))))\n",
    "\n",
    "\n",
    "# NODE 4\n",
    "fig.add_trace(go.Scatter(x=(dfn4MacNonFusNonProb_32mpi_4omp.Dirc_Data_Mov*(dfn4MacNonFusNonProb_32mpi_4omp.MPI_size/4)), \n",
    "                         y=(dfn4MacNonFusNonProb_32mpi_4omp.GFLOPS*(dfn4MacNonFusNonProb_32mpi_4omp.MPI_size/4)), \n",
    "                         mode='lines+markers', \n",
    "                         name='Node4: MacNonFusNonProb_32mpi_4omp',\n",
    "                         line=dict(color='darkblue',width=3),\n",
    "                         marker=dict(symbol='hexagon',size=7,line=dict(color='Purple',width=2))))\n",
    "\n",
    "fig.add_trace(go.Scatter(x=(dfn4MacFusNonProb_32mpi_4omp.Dirc_Data_Mov*(dfn4MacFusNonProb_32mpi_4omp.MPI_size/4)), \n",
    "                         y=(dfn4MacFusNonProb_32mpi_4omp.GFLOPS*(dfn4MacFusNonProb_32mpi_4omp.MPI_size/4)), \n",
    "                         mode='lines+markers', \n",
    "                         name='Node4: MacFusNonProb_32mpi_4omp',\n",
    "                         line=dict(color='cyan',width=3),\n",
    "                         marker=dict(symbol='hexagon',size=7,line=dict(color='Purple',width=2))))\n",
    "\n",
    "\n",
    "\n",
    "# Adding a vertical line\n",
    "fig.add_vline(x=80e6, line_width=3, line_dash=\"dash\", line_color=\"green\")\n",
    "# fig.add_hline(y=1024, line_width=3, line_dash=\"dash\", line_color=\"red\")\n",
    "\n",
    "# Add annotation\n",
    "fig.add_annotation(\n",
    "    x='80e6'\n",
    "    , y=130\n",
    "    , text=f'LLC Size Per Node'\n",
    "    , yanchor='bottom'\n",
    "    , showarrow=False\n",
    "    , arrowhead=1\n",
    "    , arrowsize=1\n",
    "    , arrowwidth=2\n",
    "    , arrowcolor=\"#636363\"\n",
    "    , ax=-20\n",
    "    , ay=-30\n",
    "    , font=dict(size=12, color=\"purple\", family=\"Sans Serif\")\n",
    "    , align=\"left\"\n",
    "    ,)\n",
    "\n",
    "fig.update_layout(title='\"Node 1 vs 2 vs 4 (8mpi 4omp per node): Macro Fused vs NonFused (nonprobempi)\" GFlops Measurement',\n",
    "                  xaxis_title='Dirc_Data_Mov', yaxis_title='GFLOPs/Node', \n",
    "                  xaxis=dict(ticks=\"outside\"),  \n",
    "                  yaxis=dict(ticks=\"outside\"),\n",
    "                  legend=go.layout.Legend(bordercolor=\"black\",borderwidth=1))\n"
   ]
  },
  {
   "cell_type": "markdown",
   "id": "873a3ec2",
   "metadata": {},
   "source": [
    "## Bandwidth Macro Fused vs NonFused NonProbmpi: Node1 vs 2 vs 4 (8 mpi 4omp per node)"
   ]
  },
  {
   "cell_type": "code",
   "execution_count": null,
   "id": "5d0960ce",
   "metadata": {},
   "outputs": [],
   "source": [
    "fig = go.Figure() \n",
    "\n",
    "# Node 1\n",
    "fig.add_trace(go.Scatter(x=(dfn1MacFusNonProb_8mpi_4omp.Dirc_Data_Mov*(dfn1MacFusNonProb_8mpi_4omp.MPI_size)), \n",
    "                         y=(dfn1MacFusNonProb_8mpi_4omp.BAND*(dfn1MacFusNonProb_8mpi_4omp.MPI_size)), \n",
    "                         mode='lines+markers', \n",
    "                         name='Node1: MacFusNonProb_8mpi_4omp',\n",
    "                         line=dict(color='magenta',width=3),\n",
    "                         marker=dict(symbol='hexagon',size=9, line=dict(color='yellow',width=1))))\n",
    "\n",
    "\n",
    "fig.add_trace(go.Scatter(x=(dfn1MacNonFusNonProb_8mpi_4omp.Dirc_Data_Mov*(dfn1MacNonFusNonProb_8mpi_4omp.MPI_size)), \n",
    "                         y=(dfn1MacNonFusNonProb_8mpi_4omp.BAND*(dfn1MacNonFusNonProb_8mpi_4omp.MPI_size)), \n",
    "                         mode='lines+markers', \n",
    "                         name='Node1: MacNonFusNonProb_8mpi_4omp',\n",
    "                         line=dict(color='royalblue',width=3),\n",
    "                         marker=dict(symbol='hexagon',size=9, line=dict(color='yellow',width=1))))\n",
    "\n",
    "\n",
    "# Node 2\n",
    "fig.add_trace(go.Scatter(x=(dfn2MacFusNonProb_16mpi_4omp.Dirc_Data_Mov*(dfn2MacFusNonProb_16mpi_4omp.MPI_size/2)), \n",
    "                         y=(dfn2MacFusNonProb_16mpi_4omp.BAND*(dfn2MacFusNonProb_16mpi_4omp.MPI_size/2)), \n",
    "                         mode='lines+markers', \n",
    "                         name='Node2: MacFusNonProb_16mpi_4omp',\n",
    "                         line=dict(color='darkcyan',width=3),\n",
    "                         marker=dict(symbol='hexagon',size=9, line=dict(color='yellow',width=1))))\n",
    "\n",
    "\n",
    "fig.add_trace(go.Scatter(x=(dfn2MacNonFusNonProb_16mpi_4omp.Dirc_Data_Mov*(dfn2MacNonFusNonProb_16mpi_4omp.MPI_size/2)), \n",
    "                         y=(dfn2MacNonFusNonProb_16mpi_4omp.BAND*(dfn2MacNonFusNonProb_16mpi_4omp.MPI_size/2)), \n",
    "                         mode='lines+markers', \n",
    "                         name='Node2: MacNonFusNonProb_16mpi_4omp',\n",
    "                         line=dict(color='chocolate',width=3),\n",
    "                         marker=dict(symbol='hexagon',size=9, line=dict(color='yellow',width=1))))\n",
    "\n",
    "\n",
    "\n",
    "# Node 4\n",
    "fig.add_trace(go.Scatter(x=(dfn4MacFusNonProb_32mpi_4omp.Dirc_Data_Mov*(dfn4MacFusNonProb_32mpi_4omp.MPI_size/4)), \n",
    "                         y=(dfn4MacFusNonProb_32mpi_4omp.BAND*(dfn4MacFusNonProb_32mpi_4omp.MPI_size/4)), \n",
    "                         mode='lines+markers', \n",
    "                         name='Node4: MacFusNonProb_32mpi_4omp',\n",
    "                         line=dict(color='cyan',width=3),\n",
    "                         marker=dict(symbol='hexagon',size=9, line=dict(color='black',width=1))))\n",
    "\n",
    "fig.add_trace(go.Scatter(x=(dfn4MacNonFusNonProb_32mpi_4omp.Dirc_Data_Mov*(dfn4MacNonFusNonProb_32mpi_4omp.MPI_size/4)), \n",
    "                         y=(dfn4MacNonFusNonProb_32mpi_4omp.BAND*(dfn4MacNonFusNonProb_32mpi_4omp.MPI_size/4)), \n",
    "                         mode='lines+markers', \n",
    "                         name='Node4: MacNonFusNonProb_32mpi_4omp',\n",
    "                         line=dict(color='darkblue',width=3),\n",
    "                         marker=dict(symbol='hexagon',size=9, line=dict(color='yellow',width=1))))\n",
    "\n",
    "\n",
    "\n",
    "\n",
    "\n",
    "\n",
    "# Adding vertical and horizontal lines \n",
    "fig.add_vline(x=80e6, line_width=3, line_dash=\"dot\", line_color=\"green\")\n",
    "fig.add_hline(y=153, line_width=3, line_dash=\"dash\", line_color=\"red\")\n",
    "\n",
    "# Add annotation with arrow\n",
    "fig.add_annotation(\n",
    "    x='80e6'\n",
    "    , y=280\n",
    "    , text=f'LLC Size Per Node: 80M'\n",
    "    , yanchor='bottom'\n",
    "    , showarrow=False\n",
    "    , arrowhead=1\n",
    "    , arrowsize=1\n",
    "    , arrowwidth=2\n",
    "    , arrowcolor=\"#636363\"\n",
    "    , ax=-20\n",
    "    , ay=-30\n",
    "    , font=dict(size=12, color=\"purple\", family=\"Sans Serif\")\n",
    "    , align=\"left\"\n",
    "    ,)\n",
    "\n",
    "fig.add_annotation(\n",
    "    x='130e6'\n",
    "    , y=155\n",
    "    , text=f'Max Bandwidth Per Node'\n",
    "    , yanchor='bottom'\n",
    "    , showarrow=False\n",
    "    , arrowhead=1\n",
    "    , arrowsize=1\n",
    "    , arrowwidth=2\n",
    "    , arrowcolor=\"#636363\"\n",
    "    , ax=-20\n",
    "    , ay=-30\n",
    "    , font=dict(size=12, color=\"orange\", family=\"Sans Serif\")\n",
    "    , align=\"left\"\n",
    "    ,)\n",
    "\n",
    "\n",
    "fig.update_layout(title='\"Node 1 vs 2 vs 4 (8mpi 4omp): Macro Fused vd NonFused (nonprobempi)\" Bandwidth Measurement',\n",
    "                  xaxis_title='Dirc_Data_Mov', yaxis_title='Bandwidth/Node', \n",
    "                  xaxis=dict(ticks=\"outside\"),  \n",
    "                  yaxis=dict(ticks=\"outside\"),\n",
    "                  legend=go.layout.Legend(bordercolor=\"black\",borderwidth=1)) \n"
   ]
  },
  {
   "cell_type": "markdown",
   "id": "8ffa43af",
   "metadata": {},
   "source": [
    "# 16 MPI 2 OMP PER PROCESS"
   ]
  },
  {
   "cell_type": "markdown",
   "id": "06e59454",
   "metadata": {},
   "source": [
    "## GFlops Macro Fused vs NonFused NonProbmpi: Node1 vs 2 vs 4 (16 mpi 2omp per node)"
   ]
  },
  {
   "cell_type": "code",
   "execution_count": null,
   "id": "373e1441",
   "metadata": {},
   "outputs": [],
   "source": [
    "fig = go.Figure() \n",
    "\n",
    "# NODE 1\n",
    "fig.add_trace(go.Scatter(x=(dfn1MacFusNonProb_16mpi_2omp.Dirc_Data_Mov*(dfn1MacFusNonProb_16mpi_2omp.MPI_size)), \n",
    "                         y=(dfn1MacFusNonProb_16mpi_2omp.GFLOPS*(dfn1MacFusNonProb_16mpi_2omp.MPI_size)), \n",
    "                         mode='lines+markers', \n",
    "                         name='Node1: MacFusNonProb_16mpi_2omp',\n",
    "                         line=dict(color='red',width=3),\n",
    "                         marker=dict(symbol='hexagon',size=9, line=dict(color='yellow',width=1))))\n",
    "\n",
    "fig.add_trace(go.Scatter(x=(dfn1MacNonFusNonProb_16mpi_2omp.Dirc_Data_Mov*(dfn1MacNonFusNonProb_16mpi_2omp.MPI_size)), \n",
    "                         y=(dfn1MacNonFusNonProb_16mpi_2omp.GFLOPS*(dfn1MacNonFusNonProb_16mpi_2omp.MPI_size)), \n",
    "                         mode='lines+markers', \n",
    "                         name='Node1: MacNonFusNonProb_16mpi_2omp',\n",
    "                         line=dict(color='green',width=3),\n",
    "                         marker=dict(symbol='hexagon',size=9, line=dict(color='yellow',width=1))))\n",
    "\n",
    "\n",
    "# NODE 2\n",
    "fig.add_trace(go.Scatter(x=(dfn2MacFusNonProb_32mpi_2omp.Dirc_Data_Mov*(dfn2MacFusNonProb_32mpi_2omp.MPI_size/2)), \n",
    "                         y=(dfn2MacFusNonProb_32mpi_2omp.GFLOPS*(dfn2MacFusNonProb_32mpi_2omp.MPI_size/2)), \n",
    "                         mode='lines+markers', \n",
    "                         name='Node2: MacFusNonProb_32mpi_2omp',\n",
    "                         line=dict(color='magenta',width=3),\n",
    "                         marker=dict(symbol='hexagon',size=9, line=dict(color='yellow',width=1))))\n",
    "\n",
    "fig.add_trace(go.Scatter(x=(dfn2MacNonFusNonProb_32mpi_2omp.Dirc_Data_Mov*(dfn2MacNonFusNonProb_32mpi_2omp.MPI_size/2)), \n",
    "                         y=(dfn2MacNonFusNonProb_32mpi_2omp.GFLOPS*(dfn2MacNonFusNonProb_32mpi_2omp.MPI_size/2)), \n",
    "                         mode='lines+markers', \n",
    "                         name='Node2: MacNonFusNonProb_32mpi_2omp',\n",
    "                         line=dict(color='blue',width=3),\n",
    "                         marker=dict(symbol='hexagon',size=9, line=dict(color='yellow',width=1))))\n",
    "\n",
    "# NODE 4\n",
    "fig.add_trace(go.Scatter(x=(dfn4MacFusnonProb_64mpi_2omp.Dirc_Data_Mov*(dfn4MacFusnonProb_64mpi_2omp.MPI_size/4)), \n",
    "                         y=(dfn4MacFusnonProb_64mpi_2omp.GFLOPS*(dfn4MacFusnonProb_64mpi_2omp.MPI_size/4)), \n",
    "                         mode='lines+markers', \n",
    "                         name='Node4: MacFusnonProb_64mpi_2omp',\n",
    "                         line=dict(color='darkblue',width=3),\n",
    "                         marker=dict(symbol='hexagon',size=7,line=dict(color='purple',width=2))))\n",
    "\n",
    "fig.add_trace(go.Scatter(x=(dfn4MacNonFusNonProb_64mpi_2omp.Dirc_Data_Mov*(dfn4MacNonFusNonProb_64mpi_2omp.MPI_size/4)), \n",
    "                         y=(dfn4MacNonFusNonProb_64mpi_2omp.GFLOPS*(dfn4MacNonFusNonProb_64mpi_2omp.MPI_size/4)), \n",
    "                         mode='lines+markers', \n",
    "                         name='Node4: MacNonFusNonProb_64mpi_2omp',\n",
    "                         line=dict(color='cyan',width=3),\n",
    "                         marker=dict(symbol='hexagon',size=7,line=dict(color='purple',width=2))))\n",
    "\n",
    "\n",
    "# Adding a vertical line\n",
    "fig.add_vline(x=80e6, line_width=3, line_dash=\"dash\", line_color=\"green\")\n",
    "# fig.add_hline(y=1024, line_width=3, line_dash=\"dash\", line_color=\"red\")\n",
    "\n",
    "# Add annotation\n",
    "fig.add_annotation(\n",
    "    x='80e6'\n",
    "    , y=130\n",
    "    , text=f'LLC Size Per Node'\n",
    "    , yanchor='bottom'\n",
    "    , showarrow=False\n",
    "    , arrowhead=1\n",
    "    , arrowsize=1\n",
    "    , arrowwidth=2\n",
    "    , arrowcolor=\"#636363\"\n",
    "    , ax=-20\n",
    "    , ay=-30\n",
    "    , font=dict(size=12, color=\"purple\", family=\"Sans Serif\")\n",
    "    , align=\"left\"\n",
    "    ,)\n",
    "\n",
    "fig.update_layout(title='\"Node 1 vs 2 vs 4 (16mpi 2omp Per Node): Macro Fused vs NonFused (nonprobempi)\" GFlops Measurement',\n",
    "                  xaxis_title='Dirc_Data_Mov', yaxis_title='GFLOPs/Node', \n",
    "                  xaxis=dict(ticks=\"outside\"),  \n",
    "                  yaxis=dict(ticks=\"outside\"),\n",
    "                  legend=go.layout.Legend(bordercolor=\"black\",borderwidth=1))\n"
   ]
  },
  {
   "cell_type": "markdown",
   "id": "07e8c24d",
   "metadata": {},
   "source": [
    "## Bandwidth Macro Fused vs NonFused NonProbmpi: Node1 vs 2 vs 4 (16 mpi 2omp per node)"
   ]
  },
  {
   "cell_type": "code",
   "execution_count": null,
   "id": "88049051",
   "metadata": {},
   "outputs": [],
   "source": [
    "fig = go.Figure() \n",
    "\n",
    "# NODE 1\n",
    "fig.add_trace(go.Scatter(x=(dfn1MacFusNonProb_16mpi_2omp.Dirc_Data_Mov*(dfn1MacFusNonProb_16mpi_2omp.MPI_size)), \n",
    "                         y=(dfn1MacFusNonProb_16mpi_2omp.BAND*(dfn1MacFusNonProb_16mpi_2omp.MPI_size)), \n",
    "                         mode='lines+markers', \n",
    "                         name='Node1: MacFusNonProb_16mpi_2omp',\n",
    "                         line=dict(color='magenta',width=3),\n",
    "                         marker=dict(symbol='hexagon',size=9, line=dict(color='yellow',width=1))))\n",
    "\n",
    "fig.add_trace(go.Scatter(x=(dfn1MacNonFusNonProb_16mpi_2omp.Dirc_Data_Mov*(dfn1MacNonFusNonProb_16mpi_2omp.MPI_size)), \n",
    "                         y=(dfn1MacNonFusNonProb_16mpi_2omp.BAND*(dfn1MacNonFusNonProb_16mpi_2omp.MPI_size)), \n",
    "                         mode='lines+markers', \n",
    "                         name='Node1: MacNonFusNonProb_16mpi_2omp',\n",
    "                         line=dict(color='royalblue',width=3),\n",
    "                         marker=dict(symbol='hexagon',size=9, line=dict(color='yellow',width=1))))\n",
    "\n",
    "\n",
    "# NODE 2\n",
    "fig.add_trace(go.Scatter(x=(dfn2MacFusNonProb_32mpi_2omp.Dirc_Data_Mov*(dfn2MacFusNonProb_32mpi_2omp.MPI_size/2)), \n",
    "                         y=(dfn2MacFusNonProb_32mpi_2omp.BAND*(dfn2MacFusNonProb_32mpi_2omp.MPI_size/2)), \n",
    "                         mode='lines+markers', \n",
    "                         name='Node2: MacFusNonProb_32mpi_2omp',\n",
    "                         line=dict(color='darkcyan',width=3),\n",
    "                         marker=dict(symbol='hexagon',size=9, line=dict(color='yellow',width=1))))\n",
    "\n",
    "fig.add_trace(go.Scatter(x=(dfn2MacNonFusNonProb_32mpi_2omp.Dirc_Data_Mov*(dfn2MacNonFusNonProb_32mpi_2omp.MPI_size/2)), \n",
    "                         y=(dfn2MacNonFusNonProb_32mpi_2omp.BAND*(dfn2MacNonFusNonProb_32mpi_2omp.MPI_size/2)), \n",
    "                         mode='lines+markers', \n",
    "                         name='Node2: MacNonFusNonProb_32mpi_2omp',\n",
    "                         line=dict(color='chocolate',width=3),\n",
    "                         marker=dict(symbol='hexagon',size=9, line=dict(color='yellow',width=1))))\n",
    "\n",
    "# NODE 4\n",
    "fig.add_trace(go.Scatter(x=(dfn4MacFusnonProb_64mpi_2omp.Dirc_Data_Mov*(dfn4MacFusnonProb_64mpi_2omp.MPI_size/4)), \n",
    "                         y=(dfn4MacFusnonProb_64mpi_2omp.BAND*(dfn4MacFusnonProb_64mpi_2omp.MPI_size/4)), \n",
    "                         mode='lines+markers', \n",
    "                         name='Node4: MacFusnonProb_64mpi_2omp',\n",
    "                         line=dict(color='cyan',width=3),\n",
    "                         marker=dict(symbol='hexagon',size=7,line=dict(color='purple',width=2))))\n",
    "\n",
    "fig.add_trace(go.Scatter(x=(dfn4MacNonFusNonProb_64mpi_2omp.Dirc_Data_Mov*(dfn4MacNonFusNonProb_64mpi_2omp.MPI_size/4)), \n",
    "                         y=(dfn4MacNonFusNonProb_64mpi_2omp.BAND*(dfn4MacNonFusNonProb_64mpi_2omp.MPI_size/4)), \n",
    "                         mode='lines+markers', \n",
    "                         name='Node4: MacNonFusNonProb_64mpi_2omp',\n",
    "                         line=dict(color='darkblue',width=3),\n",
    "                         marker=dict(symbol='hexagon',size=7,line=dict(color='purple',width=2))))\n",
    "\n",
    "\n",
    "\n",
    "\n",
    "# Adding vertical and horizontal lines \n",
    "fig.add_vline(x=80e6, line_width=3, line_dash=\"dot\", line_color=\"green\")\n",
    "fig.add_hline(y=153, line_width=3, line_dash=\"dash\", line_color=\"red\")\n",
    "\n",
    "# Add annotation with arrow\n",
    "fig.add_annotation(\n",
    "    x='80e6'\n",
    "    , y=280\n",
    "    , text=f'LLC Size Per Node: 80M'\n",
    "    , yanchor='bottom'\n",
    "    , showarrow=False\n",
    "    , arrowhead=1\n",
    "    , arrowsize=1\n",
    "    , arrowwidth=2\n",
    "    , arrowcolor=\"#636363\"\n",
    "    , ax=-20\n",
    "    , ay=-30\n",
    "    , font=dict(size=12, color=\"purple\", family=\"Sans Serif\")\n",
    "    , align=\"left\"\n",
    "    ,)\n",
    "\n",
    "fig.add_annotation(\n",
    "    x='130e6'\n",
    "    , y=155\n",
    "    , text=f'Max Bandwidth Per Node'\n",
    "    , yanchor='bottom'\n",
    "    , showarrow=False\n",
    "    , arrowhead=1\n",
    "    , arrowsize=1\n",
    "    , arrowwidth=2\n",
    "    , arrowcolor=\"#636363\"\n",
    "    , ax=-20\n",
    "    , ay=-30\n",
    "    , font=dict(size=12, color=\"orange\", family=\"Sans Serif\")\n",
    "    , align=\"left\"\n",
    "    ,)\n",
    "\n",
    "\n",
    "fig.update_layout(title='\"Node 1 vs 2 vs 4 (16MPI 2OMP Per Node): Macro Fused (nonprobempi)\" Bandwidth Measurement',\n",
    "                  xaxis_title='Dirc_Data_Mov', yaxis_title='Bandwidth/Node', \n",
    "                  xaxis=dict(ticks=\"outside\"),  \n",
    "                  yaxis=dict(ticks=\"outside\"),\n",
    "                  legend=go.layout.Legend(bordercolor=\"black\",borderwidth=1)) \n",
    "\n",
    "\n",
    "\n"
   ]
  },
  {
   "cell_type": "markdown",
   "id": "f4ec4871",
   "metadata": {},
   "source": [
    "# 32 MPI 1OMP PER NODE"
   ]
  },
  {
   "cell_type": "markdown",
   "id": "b1316460",
   "metadata": {},
   "source": [
    "## GFops Macro Fused vs NonFused NonProbmpi: Node1 vs 2 vs 4 (32 mpi 1omp per node)"
   ]
  },
  {
   "cell_type": "code",
   "execution_count": null,
   "id": "a6176aa5",
   "metadata": {},
   "outputs": [],
   "source": [
    "fig = go.Figure() \n",
    "\n",
    "# NODE 1\n",
    "fig.add_trace(go.Scatter(x=(dfn1MacFusnonProb_32mpi_1omp.Dirc_Data_Mov*(dfn1MacFusnonProb_32mpi_1omp.MPI_size)), \n",
    "                         y=(dfn1MacFusnonProb_32mpi_1omp.GFLOPS*(dfn1MacFusnonProb_32mpi_1omp.MPI_size)), \n",
    "                         mode='lines+markers', \n",
    "                         name='Node1: MacFusnonProb_32mpi_1omp',\n",
    "                         line=dict(color='red',width=3),\n",
    "                         marker=dict(symbol='hexagon',size=9, line=dict(color='yellow',width=1))))\n",
    "\n",
    "fig.add_trace(go.Scatter(x=(dfn1MacNonFusNonProb_32mpi_1omp.Dirc_Data_Mov*(dfn1MacNonFusNonProb_32mpi_1omp.MPI_size)), \n",
    "                         y=(dfn1MacNonFusNonProb_32mpi_1omp.GFLOPS*(dfn1MacNonFusNonProb_32mpi_1omp.MPI_size)), \n",
    "                         mode='lines+markers', \n",
    "                         name='Node1: MacNonFusNonProb_32mpi_1omp',\n",
    "                         line=dict(color='green',width=3),\n",
    "                         marker=dict(symbol='hexagon',size=9, line=dict(color='yellow',width=1))))\n",
    "\n",
    "\n",
    "# NODE 2\n",
    "fig.add_trace(go.Scatter(x=(dfn2MacFusnonProb_64mpi_1omp.Dirc_Data_Mov*(dfn2MacFusnonProb_64mpi_1omp.MPI_size/2)), \n",
    "                         y=(dfn2MacFusnonProb_64mpi_1omp.GFLOPS*(dfn2MacFusnonProb_64mpi_1omp.MPI_size/2)), \n",
    "                         mode='lines+markers', \n",
    "                         name='Node2: MacFusnonProb_64mpi_1omp',\n",
    "                         line=dict(color='magenta',width=3),\n",
    "                         marker=dict(symbol='hexagon',size=9, line=dict(color='yellow',width=1))))\n",
    "\n",
    "fig.add_trace(go.Scatter(x=(dfn2MacNonFusNonProb_64mpi_1omp.Dirc_Data_Mov*(dfn2MacNonFusNonProb_64mpi_1omp.MPI_size/2)), \n",
    "                         y=(dfn2MacNonFusNonProb_64mpi_1omp.GFLOPS*(dfn2MacNonFusNonProb_64mpi_1omp.MPI_size/2)), \n",
    "                         mode='lines+markers', \n",
    "                         name='Node2: MacNonFusNonProb_64mpi_1omp',\n",
    "                         line=dict(color='blue',width=3),\n",
    "                         marker=dict(symbol='hexagon',size=9, line=dict(color='yellow',width=1))))\n",
    "\n",
    "# NODE 4\n",
    "fig.add_trace(go.Scatter(x=(dfn4MacFusnonProb_128mpi_1omp.Dirc_Data_Mov*(dfn4MacFusnonProb_128mpi_1omp.MPI_size/4)), \n",
    "                         y=(dfn4MacFusnonProb_128mpi_1omp.GFLOPS*(dfn4MacFusnonProb_128mpi_1omp.MPI_size/4)), \n",
    "                         mode='lines+markers', \n",
    "                         name='Node4: MacFusnonProb_128mpi_1omp',\n",
    "                         line=dict(color='darkblue',width=3),\n",
    "                         marker=dict(symbol='hexagon',size=7,line=dict(color='purple',width=2))))\n",
    "\n",
    "fig.add_trace(go.Scatter(x=(dfn4MacNonFusNonProb_128mpi_1omp.Dirc_Data_Mov*(dfn4MacNonFusNonProb_128mpi_1omp.MPI_size/4)), \n",
    "                         y=(dfn4MacNonFusNonProb_128mpi_1omp.GFLOPS*(dfn4MacNonFusNonProb_128mpi_1omp.MPI_size/4)), \n",
    "                         mode='lines+markers', \n",
    "                         name='Node4: MacNonFusNonProb_128mpi_1omp',\n",
    "                         line=dict(color='cyan',width=3),\n",
    "                         marker=dict(symbol='hexagon',size=7,line=dict(color='purple',width=2))))\n",
    "\n",
    "\n",
    "# Adding a vertical line\n",
    "fig.add_vline(x=80e6, line_width=3, line_dash=\"dash\", line_color=\"green\")\n",
    "# fig.add_hline(y=1024, line_width=3, line_dash=\"dash\", line_color=\"red\")\n",
    "\n",
    "# Add annotation\n",
    "fig.add_annotation(\n",
    "    x='80e6'\n",
    "    , y=130\n",
    "    , text=f'LLC Size Per Node'\n",
    "    , yanchor='bottom'\n",
    "    , showarrow=False\n",
    "    , arrowhead=1\n",
    "    , arrowsize=1\n",
    "    , arrowwidth=2\n",
    "    , arrowcolor=\"#636363\"\n",
    "    , ax=-20\n",
    "    , ay=-30\n",
    "    , font=dict(size=12, color=\"purple\", family=\"Sans Serif\")\n",
    "    , align=\"left\"\n",
    "    ,)\n",
    "\n",
    "fig.update_layout(title='\"Node 1 vs 2 vs 4 (32MPI 1OMP Per Node): Macro Fused (nonprobempi)\" GFlops Measurement',\n",
    "                  xaxis_title='Dirc_Data_Mov', \n",
    "                  yaxis_title='GFLOPs/Node', \n",
    "                  xaxis=dict(ticks=\"outside\"),  \n",
    "                  yaxis=dict(ticks=\"outside\"),\n",
    "                  legend=go.layout.Legend(bordercolor=\"black\",borderwidth=1))"
   ]
  },
  {
   "cell_type": "markdown",
   "id": "392eff55",
   "metadata": {},
   "source": [
    "## Bandwidth Macro Fused vs NonFused NonProbmpi: Node1 vs 2 vs 4 (32 mpi 1omp per node)"
   ]
  },
  {
   "cell_type": "code",
   "execution_count": null,
   "id": "c4f5a0db",
   "metadata": {},
   "outputs": [],
   "source": [
    "fig = go.Figure() \n",
    "\n",
    "# NODE 1\n",
    "fig.add_trace(go.Scatter(x=(dfn1MacFusnonProb_32mpi_1omp.Dirc_Data_Mov*(dfn1MacFusnonProb_32mpi_1omp.MPI_size)), \n",
    "                         y=(dfn1MacFusnonProb_32mpi_1omp.BAND*(dfn1MacFusnonProb_32mpi_1omp.MPI_size)), \n",
    "                         mode='lines+markers', \n",
    "                         name='Node1: MacFusnonProb_32mpi_1omp',\n",
    "                         line=dict(color='magenta',width=3),\n",
    "                         marker=dict(symbol='hexagon',size=9, line=dict(color='yellow',width=1))))\n",
    "\n",
    "fig.add_trace(go.Scatter(x=(dfn1MacNonFusNonProb_32mpi_1omp.Dirc_Data_Mov*(dfn1MacNonFusNonProb_32mpi_1omp.MPI_size)), \n",
    "                         y=(dfn1MacNonFusNonProb_32mpi_1omp.BAND*(dfn1MacNonFusNonProb_32mpi_1omp.MPI_size)), \n",
    "                         mode='lines+markers', \n",
    "                         name='Node1: MacNonFusNonProb_32mpi_1omp',\n",
    "                         line=dict(color='royalblue',width=3),\n",
    "                         marker=dict(symbol='hexagon',size=9, line=dict(color='yellow',width=1))))\n",
    "\n",
    "\n",
    "# NODE 2\n",
    "fig.add_trace(go.Scatter(x=(dfn2MacFusnonProb_64mpi_1omp.Dirc_Data_Mov*(dfn2MacFusnonProb_64mpi_1omp.MPI_size/2)), \n",
    "                         y=(dfn2MacFusnonProb_64mpi_1omp.BAND*(dfn2MacFusnonProb_64mpi_1omp.MPI_size/2)), \n",
    "                         mode='lines+markers', \n",
    "                         name='Node2: MacFusnonProb_64mpi_1omp',\n",
    "                         line=dict(color='darkcyan',width=3),\n",
    "                         marker=dict(symbol='hexagon',size=9, line=dict(color='yellow',width=1))))\n",
    "\n",
    "fig.add_trace(go.Scatter(x=(dfn2MacNonFusNonProb_64mpi_1omp.Dirc_Data_Mov*(dfn2MacNonFusNonProb_64mpi_1omp.MPI_size/2)), \n",
    "                         y=(dfn2MacNonFusNonProb_64mpi_1omp.BAND*(dfn2MacNonFusNonProb_64mpi_1omp.MPI_size/2)), \n",
    "                         mode='lines+markers', \n",
    "                         name='Node2: MacNonFusNonProb_64mpi_1omp',\n",
    "                         line=dict(color='chocolate',width=3),\n",
    "                         marker=dict(symbol='hexagon',size=9, line=dict(color='yellow',width=1))))\n",
    "\n",
    "# NODE 4\n",
    "fig.add_trace(go.Scatter(x=(dfn4MacFusnonProb_128mpi_1omp.Dirc_Data_Mov*(dfn4MacFusnonProb_128mpi_1omp.MPI_size/4)), \n",
    "                         y=(dfn4MacFusnonProb_128mpi_1omp.BAND*(dfn4MacFusnonProb_128mpi_1omp.MPI_size/4)), \n",
    "                         mode='lines+markers', \n",
    "                         name='Node4: MacFusnonProb_128mpi_1omp',\n",
    "                         line=dict(color='cyan',width=3),\n",
    "                         marker=dict(symbol='hexagon',size=7,line=dict(color='purple',width=2))))\n",
    "\n",
    "fig.add_trace(go.Scatter(x=(dfn4MacNonFusNonProb_128mpi_1omp.Dirc_Data_Mov*(dfn4MacNonFusNonProb_128mpi_1omp.MPI_size/4)), \n",
    "                         y=(dfn4MacNonFusNonProb_128mpi_1omp.BAND*(dfn4MacNonFusNonProb_128mpi_1omp.MPI_size/4)), \n",
    "                         mode='lines+markers', \n",
    "                         name='Node4: MacNonFusNonProb_128mpi_1omp',\n",
    "                         line=dict(color='darkblue',width=3),\n",
    "                         marker=dict(symbol='hexagon',size=7,line=dict(color='purple',width=2))))\n",
    "\n",
    "\n",
    "# Adding vertical and horizontal lines \n",
    "fig.add_vline(x=80e6, line_width=3, line_dash=\"dot\", line_color=\"green\")\n",
    "fig.add_hline(y=153, line_width=3, line_dash=\"dash\", line_color=\"red\")\n",
    "\n",
    "# Add annotation with arrow\n",
    "fig.add_annotation(\n",
    "    x='80e6'\n",
    "    , y=280\n",
    "    , text=f'LLC Size Per Node: 80M'\n",
    "    , yanchor='bottom'\n",
    "    , showarrow=False\n",
    "    , arrowhead=1\n",
    "    , arrowsize=1\n",
    "    , arrowwidth=2\n",
    "    , arrowcolor=\"#636363\"\n",
    "    , ax=-20\n",
    "    , ay=-30\n",
    "    , font=dict(size=12, color=\"purple\", family=\"Sans Serif\")\n",
    "    , align=\"left\"\n",
    "    ,)\n",
    "\n",
    "fig.add_annotation(\n",
    "    x='130e6'\n",
    "    , y=155\n",
    "    , text=f'Max Bandwidth Per Node'\n",
    "    , yanchor='bottom'\n",
    "    , showarrow=False\n",
    "    , arrowhead=1\n",
    "    , arrowsize=1\n",
    "    , arrowwidth=2\n",
    "    , arrowcolor=\"#636363\"\n",
    "    , ax=-20\n",
    "    , ay=-30\n",
    "    , font=dict(size=12, color=\"orange\", family=\"Sans Serif\")\n",
    "    , align=\"left\"\n",
    "    ,)\n",
    "\n",
    "\n",
    "fig.update_layout(title='\"Node 1 vs 2 vs 4 (32MPI 1OMP Per Node): Macro Fused vs NonFused (nonprobempi)\" Bandwidth Measurement',\n",
    "                  xaxis_title='Dirc_Data_Mov', \n",
    "                  yaxis_title='Bandwidth/Node', \n",
    "                  xaxis=dict(ticks=\"outside\"),  \n",
    "                  yaxis=dict(ticks=\"outside\"),\n",
    "                  legend=go.layout.Legend(bordercolor=\"black\",borderwidth=1)) \n",
    "\n",
    "\n"
   ]
  },
  {
   "cell_type": "code",
   "execution_count": null,
   "id": "e735707b",
   "metadata": {},
   "outputs": [],
   "source": []
  },
  {
   "cell_type": "markdown",
   "id": "e4ce3d13",
   "metadata": {},
   "source": [
    "# AVX CASES"
   ]
  },
  {
   "cell_type": "markdown",
   "id": "b5ffafd9",
   "metadata": {},
   "source": [
    "## 8 MPI 4 OMP PER PROCESS"
   ]
  },
  {
   "cell_type": "markdown",
   "id": "37b36811",
   "metadata": {},
   "source": [
    "### GFlops AVX Fused NonProbmpi: Node1 vs 2 vs 4 (8 mpi 4omp per node)"
   ]
  },
  {
   "cell_type": "code",
   "execution_count": null,
   "id": "552dfb6d",
   "metadata": {},
   "outputs": [],
   "source": [
    "dfn1_macro_newgeo_nonprobempi[\"N_Nodes\"] = 1\n",
    "dfn1_macro_newgeo_nonprobempi['NPX'] = (dfn1_macro_newgeo_nonprobempi.GLB_X//dfn1_macro_newgeo_nonprobempi.LOC_X)\n",
    "dfn1_macro_newgeo_nonprobempi['NPY'] = (dfn1_macro_newgeo_nonprobempi.GLB_Y//dfn1_macro_newgeo_nonprobempi.LOC_Y)\n",
    "dfn1_macro_newgeo_nonprobempi['NPZ'] = (dfn1_macro_newgeo_nonprobempi.GLB_Z//dfn1_macro_newgeo_nonprobempi.LOC_Z)\n",
    "dfn1_macro_newgeo_nonprobempi['NPT'] = (dfn1_macro_newgeo_nonprobempi.GLB_T//dfn1_macro_newgeo_nonprobempi.LOC_T)\n",
    "dfn1_macro_newgeo_nonprobempi[\"Total_proc\"] = dfn1_macro_newgeo_nonprobempi[\"omp_thrd\"]* dfn1_macro_newgeo_nonprobempi.MPI_size\n",
    "# dfn1_macro_newgeo_nonprobempi.columns"
   ]
  },
  {
   "cell_type": "code",
   "execution_count": null,
   "id": "69e6f927",
   "metadata": {},
   "outputs": [],
   "source": [
    "dfn1_macro_newgeo_nonprobempi_summary = dfn1_macro_newgeo_nonprobempi.groupby(['MPI_size','omp_thrd','NPT','NPX', 'NPY', 'NPZ',\"Total_proc\"]).size().reset_index(name = 'size')\n",
    "dfn1_macro_newgeo_nonprobempi_summary"
   ]
  },
  {
   "cell_type": "code",
   "execution_count": null,
   "id": "b3f85508",
   "metadata": {},
   "outputs": [],
   "source": [
    "dfn1MacNewgeoNonProb_8mpi_4omp = dfn1_macro_newgeo_nonprobempi[(dfn1_macro_newgeo_nonprobempi.omp_thrd == 4) & (dfn1_macro_newgeo_nonprobempi.GLB_T/dfn1_macro_newgeo_nonprobempi.LOC_T == 1) & (dfn1_macro_newgeo_nonprobempi.GLB_X/dfn1_macro_newgeo_nonprobempi.LOC_X == 2) & (dfn1_macro_newgeo_nonprobempi.GLB_Y/dfn1_macro_newgeo_nonprobempi.LOC_Y == 2)& (dfn1_macro_newgeo_nonprobempi.GLB_Z/dfn1_macro_newgeo_nonprobempi.LOC_Z == 2)]\n",
    "dfn1MacNewgeoNonProb_16mpi_2omp = dfn1_macro_newgeo_nonprobempi[(dfn1_macro_newgeo_nonprobempi.omp_thrd == 2) & (dfn1_macro_newgeo_nonprobempi.GLB_T/dfn1_macro_newgeo_nonprobempi.LOC_T == 2) & (dfn1_macro_newgeo_nonprobempi.GLB_X/dfn1_macro_newgeo_nonprobempi.LOC_X == 2) & (dfn1_macro_newgeo_nonprobempi.GLB_Y/dfn1_macro_newgeo_nonprobempi.LOC_Y == 2)& (dfn1_macro_newgeo_nonprobempi.GLB_Z/dfn1_macro_newgeo_nonprobempi.LOC_Z == 2)]\n",
    "dfn1MacNewgeoNonProb_32mpi_1omp = dfn1_macro_newgeo_nonprobempi[(dfn1_macro_newgeo_nonprobempi.omp_thrd == 1) & (dfn1_macro_newgeo_nonprobempi.GLB_T/dfn1_macro_newgeo_nonprobempi.LOC_T == 4) & (dfn1_macro_newgeo_nonprobempi.GLB_X/dfn1_macro_newgeo_nonprobempi.LOC_X == 2) & (dfn1_macro_newgeo_nonprobempi.GLB_Y/dfn1_macro_newgeo_nonprobempi.LOC_Y == 2)& (dfn1_macro_newgeo_nonprobempi.GLB_Z/dfn1_macro_newgeo_nonprobempi.LOC_Z == 2)]\n"
   ]
  },
  {
   "cell_type": "code",
   "execution_count": null,
   "id": "90d24e16",
   "metadata": {},
   "outputs": [],
   "source": []
  },
  {
   "cell_type": "code",
   "execution_count": null,
   "id": "13e6cf40",
   "metadata": {},
   "outputs": [],
   "source": []
  },
  {
   "cell_type": "markdown",
   "id": "54a54002",
   "metadata": {},
   "source": [
    "# MACRO Best Cases Comparison"
   ]
  },
  {
   "cell_type": "code",
   "execution_count": null,
   "id": "80e8a24c",
   "metadata": {},
   "outputs": [],
   "source": []
  },
  {
   "cell_type": "code",
   "execution_count": null,
   "id": "a66a0584",
   "metadata": {},
   "outputs": [],
   "source": [
    "fig = go.Figure() \n",
    "\n",
    "# Node 1\n",
    "fig.add_trace(go.Scatter(x=(dfn1MacFusNonProb_8mpi_4omp.Dirc_Data_Mov*(dfn1MacFusNonProb_8mpi_4omp.MPI_size)), \n",
    "                         y=(dfn1MacFusNonProb_8mpi_4omp.GFLOPS*(dfn1MacFusNonProb_8mpi_4omp.MPI_size)), \n",
    "                         mode='lines+markers', \n",
    "                         name='Node1: MacFusNonProb_8mpi_4omp',\n",
    "                         line=dict(color='red',width=3),\n",
    "                         marker=dict(symbol='hexagon',size=9, line=dict(color='yellow',width=1))))\n",
    "fig.add_trace(go.Scatter(x=(dfn1MacNewgeoNonProb_8mpi_4omp.Dirc_Data_Mov*(dfn1MacNewgeoNonProb_8mpi_4omp.MPI_size)), \n",
    "                         y=(dfn1MacNewgeoNonProb_8mpi_4omp.GFLOPS*(dfn1MacNewgeoNonProb_8mpi_4omp.MPI_size)), \n",
    "                         mode='lines+markers', \n",
    "                         name='Note1: MacNewgeoNonProb_8mpi_4omp',\n",
    "                         line=dict(color='green',width=3),\n",
    "                         marker=dict(symbol='hexagon',size=9, line=dict(color='yellow',width=1))))\n",
    "\n",
    "\n",
    "# Node 2\n",
    "fig.add_trace(go.Scatter(x=(dfn2MacFusNonProb_32mpi_2omp.Dirc_Data_Mov*(dfn2MacFusNonProb_32mpi_2omp.MPI_size/2)), \n",
    "                         y=(dfn2MacFusNonProb_32mpi_2omp.GFLOPS*(dfn2MacFusNonProb_32mpi_2omp.MPI_size/2)), \n",
    "                         mode='lines+markers', \n",
    "                         name='Node2: MacFusNonProb_32mpi_2omp',\n",
    "                         line=dict(color='magenta',width=3),\n",
    "                         marker=dict(symbol='hexagon',size=9, line=dict(color='yellow',width=1))))\n",
    "\n",
    "fig.add_trace(go.Scatter(x=(dfn2MacNewgeoNonProb_32mpi_2omp.Dirc_Data_Mov*(dfn2MacNewgeoNonProb_32mpi_2omp.MPI_size/2)), \n",
    "                         y=(dfn2MacNewgeoNonProb_32mpi_2omp.GFLOPS*(dfn2MacNewgeoNonProb_32mpi_2omp.MPI_size/2)), \n",
    "                         mode='lines+markers', \n",
    "                         name='Node2: MacNewgeoNonProb_32mpi_2omp',\n",
    "                         line=dict(color='blue',width=3),\n",
    "                         marker=dict(symbol='hexagon',size=9, line=dict(color='yellow',width=1))))\n",
    "\n",
    "\n",
    "# Node 4\n",
    "fig.add_trace(go.Scatter(x=(dfn4MacFusnonProb_64mpi_2omp.Dirc_Data_Mov*(dfn4MacFusnonProb_64mpi_2omp.MPI_size/4)), \n",
    "                         y=(dfn4MacFusnonProb_64mpi_2omp.GFLOPS*(dfn4MacFusnonProb_64mpi_2omp.MPI_size/4)), \n",
    "                         mode='lines+markers', \n",
    "                         name='Node4: MacFusNonProb_64mpi_2omp',\n",
    "                         line=dict(color='darkblue',width=3),\n",
    "                         marker=dict(symbol='hexagon',size=9, line=dict(color='yellow',width=1))))\n",
    "\n",
    "fig.add_trace(go.Scatter(x=(dfn4MacNewgeoNonProb_64mpi_2omp.Dirc_Data_Mov*(dfn4MacNewgeoNonProb_64mpi_2omp.MPI_size/4)), \n",
    "                         y=(dfn4MacNewgeoNonProb_64mpi_2omp.GFLOPS*(dfn4MacNewgeoNonProb_64mpi_2omp.MPI_size/4)), \n",
    "                         mode='lines+markers', \n",
    "                         name='Node4: MacNewgeoNonProb_64mpi_2omp',\n",
    "                         line=dict(color='cyan',width=3),\n",
    "                         marker=dict(symbol='hexagon',size=9, line=dict(color='yellow',width=1))))\n",
    "\n",
    "\n",
    "\n",
    "# Adding a vertical line\n",
    "fig.add_vline(x=80e6, line_width=3, line_dash=\"dash\", line_color=\"green\")\n",
    "# fig.add_hline(y=1024, line_width=3, line_dash=\"dash\", line_color=\"red\")\n",
    "\n",
    "# Add annotation\n",
    "fig.add_annotation(\n",
    "    x='80e6'\n",
    "    , y=130\n",
    "    , text=f'LLC Size Per Node'\n",
    "    , yanchor='bottom'\n",
    "    , showarrow=False\n",
    "    , arrowhead=1\n",
    "    , arrowsize=1\n",
    "    , arrowwidth=2\n",
    "    , arrowcolor=\"#636363\"\n",
    "    , ax=-20\n",
    "    , ay=-30\n",
    "    , font=dict(size=12, color=\"purple\", family=\"Sans Serif\")\n",
    "    , align=\"left\"\n",
    "    ,)\n",
    "\n",
    "fig.update_layout(title='\"Node 1 vs 2 vs 4 (MACRO Best Cases)\" GFlops Measurement',\n",
    "                  xaxis_title='Dirc_Data_Mov', \n",
    "                  yaxis_title='GFLOPs/Node', \n",
    "                  xaxis=dict(ticks=\"outside\"),  \n",
    "                  yaxis=dict(ticks=\"outside\"),\n",
    "                  legend=go.layout.Legend(bordercolor=\"black\",borderwidth=1))"
   ]
  },
  {
   "cell_type": "code",
   "execution_count": null,
   "id": "ce7fddf6",
   "metadata": {},
   "outputs": [],
   "source": []
  },
  {
   "cell_type": "code",
   "execution_count": null,
   "id": "de54cf7b",
   "metadata": {},
   "outputs": [],
   "source": []
  },
  {
   "cell_type": "code",
   "execution_count": null,
   "id": "7ac7f4e6",
   "metadata": {},
   "outputs": [],
   "source": []
  }
 ],
 "metadata": {
  "kernelspec": {
   "display_name": "Python 3 (ipykernel)",
   "language": "python",
   "name": "python3"
  },
  "language_info": {
   "codemirror_mode": {
    "name": "ipython",
    "version": 3
   },
   "file_extension": ".py",
   "mimetype": "text/x-python",
   "name": "python",
   "nbconvert_exporter": "python",
   "pygments_lexer": "ipython3",
   "version": "3.9.13"
  }
 },
 "nbformat": 4,
 "nbformat_minor": 5
}
