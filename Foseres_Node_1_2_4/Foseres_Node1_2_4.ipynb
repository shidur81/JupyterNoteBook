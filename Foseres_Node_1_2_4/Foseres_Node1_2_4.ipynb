{
 "cells": [
  {
   "cell_type": "code",
   "execution_count": 89,
   "id": "70cc661d",
   "metadata": {},
   "outputs": [
    {
     "data": {
      "text/html": [
       "        <script type=\"text/javascript\">\n",
       "        window.PlotlyConfig = {MathJaxConfig: 'local'};\n",
       "        if (window.MathJax && window.MathJax.Hub && window.MathJax.Hub.Config) {window.MathJax.Hub.Config({SVG: {font: \"STIX-Web\"}});}\n",
       "        if (typeof require !== 'undefined') {\n",
       "        require.undef(\"plotly\");\n",
       "        requirejs.config({\n",
       "            paths: {\n",
       "                'plotly': ['https://cdn.plot.ly/plotly-2.12.1.min']\n",
       "            }\n",
       "        });\n",
       "        require(['plotly'], function(Plotly) {\n",
       "            window._Plotly = Plotly;\n",
       "        });\n",
       "        }\n",
       "        </script>\n",
       "        "
      ]
     },
     "metadata": {},
     "output_type": "display_data"
    },
    {
     "data": {
      "text/html": [
       "        <script type=\"text/javascript\">\n",
       "        window.PlotlyConfig = {MathJaxConfig: 'local'};\n",
       "        if (window.MathJax && window.MathJax.Hub && window.MathJax.Hub.Config) {window.MathJax.Hub.Config({SVG: {font: \"STIX-Web\"}});}\n",
       "        if (typeof require !== 'undefined') {\n",
       "        require.undef(\"plotly\");\n",
       "        requirejs.config({\n",
       "            paths: {\n",
       "                'plotly': ['https://cdn.plot.ly/plotly-2.12.1.min']\n",
       "            }\n",
       "        });\n",
       "        require(['plotly'], function(Plotly) {\n",
       "            window._Plotly = Plotly;\n",
       "        });\n",
       "        }\n",
       "        </script>\n",
       "        "
      ]
     },
     "metadata": {},
     "output_type": "display_data"
    }
   ],
   "source": [
    "import pandas as pd\n",
    "import numpy as np\n",
    "import chart_studio.plotly as py\n",
    "import cufflinks as cf\n",
    "import seaborn as sns\n",
    "import plotly.express as px\n",
    "import plotly.graph_objects as go\n",
    "import collections\n",
    "from collections import OrderedDict\n",
    "from tabulate import tabulate\n",
    "%matplotlib inline\n",
    "from plotly.offline import download_plotlyjs, init_notebook_mode, plot, iplot\n",
    "init_notebook_mode(connected=True)\n",
    "cf.go_offline()"
   ]
  },
  {
   "cell_type": "code",
   "execution_count": 119,
   "id": "bafb4fb8",
   "metadata": {},
   "outputs": [],
   "source": [
    "pd.set_option('display.max_columns', None)\n",
    "pd.set_option('display.max_rows', None)\n",
    "\n",
    "# *******Node 1*******\n",
    "dfn1_macro_fused_probempi = pd.read_csv(\"macro_fused_probempi_node1.csv\")\n",
    "dfn1_macro_fused_nonprobempi = pd.read_csv(\"macro_fused_nonprobempi_node1.csv\")\n",
    "dfn1_macro_newgeo_probempi = pd.read_csv(\"macro_newgeo_probempi_node1.csv\")\n",
    "dfn1_macro_newgeo_nonprobempi = pd.read_csv(\"macro_newgeo_nonprobempi_node1.csv\")\n",
    "dfn1_macro_nonfused_probempi = pd.read_csv(\"macro_nonfused_probempi_node1.csv\")\n",
    "dfn1_macro_nonfused_nonprobempi = pd.read_csv(\"macro_nonfused_nonprobempi_node1.csv\")\n",
    "\n",
    "dfn1_avx_fused_probmpi = pd.read_csv(\"avx_fused_probempi_node1.csv\")\n",
    "dfn1_avx_fused_nonprobmpi = pd.read_csv(\"avx_fused_nonprobempi_node1.csv\")\n",
    "dfn1_avx_newgeo_probempi = pd.read_csv(\"avx_newgeo_probempi_node1.csv\")\n",
    "dfn1_avx_newgeo_nonprobempi = pd.read_csv(\"avx_newgeo_nonprobempi_node1.csv\")\n",
    "dfn1_avx_nonfused_probempi = pd.read_csv(\"avx_nonfused_probempi_node1.csv\")\n",
    "dfn1_avx_nonfused_nonprobempi = pd.read_csv(\"avx_nonfused_nonprobempi_node1.csv\")\n",
    "\n",
    "# *******Node 2*******\n",
    "dfn2_macro_fused_probempi = pd.read_csv(\"n2_fused_macro_probempi.csv\")\n",
    "dfn2_macro_fused_nonprobempi = pd.read_csv(\"n2_fused_macro_nonprobempi.csv\")\n",
    "dfn2_macro_newgeo_probempi = pd.read_csv(\"n2_newgeo_macro_probempi.csv\")\n",
    "dfn2_macro_newgeo_nonprobempi = pd.read_csv(\"n2_newgeo_macro_nonprobempi.csv\")\n",
    "dfn2_macro_nonfused_probempi = pd.read_csv(\"n2_nonfused_macro_probempi.csv\")\n",
    "dfn2_macro_nonfused_nonprobempi = pd.read_csv(\"n2_nonfused_macro_nonprobempi.csv\")\n",
    "\n",
    "dfn2_avx_fused_probmpi = pd.read_csv(\"n2_fused_avx_probempi.csv\")\n",
    "dfn2_avx_fused_nonprobmpi = pd.read_csv(\"n2_fused_avx_nonprobempi.csv\")\n",
    "dfn2_avx_newgeo_probempi = pd.read_csv(\"n2_newgeo_avx_probempi.csv\")\n",
    "dfn2_avx_newgeo_nonprobempi = pd.read_csv(\"n2_newgeo_avx_nonprobempi.csv\")\n",
    "dfn2_avx_nonfused_probempi = pd.read_csv(\"n2_nonfused_avx_probempi.csv\")\n",
    "dfn2_avx_nonfused_nonprobempi = pd.read_csv(\"n2_nonfused_avx_nonprobempi.csv\")\n",
    "\n",
    "# *******Node 4*******\n",
    "dfn4_macro_fused_probempi = pd.read_csv(\"n4_fused_macro_probempi.csv\")\n",
    "dfn4_macro_fused_nonprobempi = pd.read_csv(\"n4_fused_macro_nonprobempi.csv\")\n",
    "dfn4_macro_newgeo_probempi = pd.read_csv(\"n4_newgeo_macro_probempi.csv\")\n",
    "dfn4_macro_newgeo_nonprobempi = pd.read_csv(\"n4_newgeo_macro_nonprobempi.csv\")\n",
    "dfn4_macro_nonfused_probempi = pd.read_csv(\"n4_nonfused_macro_probempi.csv\")\n",
    "dfn4_macro_nonfused_nonprobempi = pd.read_csv(\"n4_nonfused_macro_nonprobempi.csv\")\n",
    "\n",
    "dfn4_avx_fused_probmpi = pd.read_csv(\"n4_fused_avx_probempi.csv\")\n",
    "dfn4_avx_fused_nonprobmpi = pd.read_csv(\"n4_fused_avx_nonprobempi.csv\")\n",
    "dfn4_avx_newgeo_probempi = pd.read_csv(\"n4_newgeo_avx_probempi.csv\")\n",
    "dfn4_avx_newgeo_nonprobempi = pd.read_csv(\"n4_newgeo_avx_nonprobempi.csv\")\n",
    "dfn4_avx_nonfused_probempi = pd.read_csv(\"n4_nonfused_avx_probempi.csv\")\n",
    "dfn4_avx_nonfused_nonprobempi = pd.read_csv(\"n4_nonfused_avx_nonprobempi.csv\")\n",
    "\n",
    "# Best Cases\n",
    "df_bestCases = pd.read_csv(\"best_cases.csv\")\n"
   ]
  },
  {
   "cell_type": "code",
   "execution_count": null,
   "id": "4f3fb1fa",
   "metadata": {},
   "outputs": [],
   "source": []
  },
  {
   "cell_type": "markdown",
   "id": "2b4f6087",
   "metadata": {},
   "source": [
    "# A. MACRO: Fused_NonProbempi"
   ]
  },
  {
   "cell_type": "markdown",
   "id": "d1c02884",
   "metadata": {},
   "source": [
    "## Node 1: macro_fused_nonprobempi"
   ]
  },
  {
   "cell_type": "code",
   "execution_count": 3,
   "id": "3e7fbafd",
   "metadata": {},
   "outputs": [],
   "source": [
    "dfn1_macro_fused_nonprobempi[\"N_Nodes\"] = 1\n",
    "dfn1_macro_fused_nonprobempi['NPX'] = (dfn1_macro_fused_nonprobempi.GLB_X//dfn1_macro_fused_nonprobempi.LOC_X)\n",
    "dfn1_macro_fused_nonprobempi['NPY'] = (dfn1_macro_fused_nonprobempi.GLB_Y//dfn1_macro_fused_nonprobempi.LOC_Y)\n",
    "dfn1_macro_fused_nonprobempi['NPZ'] = (dfn1_macro_fused_nonprobempi.GLB_Z//dfn1_macro_fused_nonprobempi.LOC_Z)\n",
    "dfn1_macro_fused_nonprobempi['NPT'] = (dfn1_macro_fused_nonprobempi.GLB_T//dfn1_macro_fused_nonprobempi.LOC_T)\n",
    "dfn1_macro_fused_nonprobempi[\"Total_proc\"] = dfn1_macro_fused_nonprobempi[\"omp_thrd\"]* dfn1_macro_fused_nonprobempi.MPI_size\n",
    "# dfn1_macro_fused_nonprobempi.columns"
   ]
  },
  {
   "cell_type": "code",
   "execution_count": 4,
   "id": "e90e11e8",
   "metadata": {},
   "outputs": [
    {
     "data": {
      "text/html": [
       "<div>\n",
       "<style scoped>\n",
       "    .dataframe tbody tr th:only-of-type {\n",
       "        vertical-align: middle;\n",
       "    }\n",
       "\n",
       "    .dataframe tbody tr th {\n",
       "        vertical-align: top;\n",
       "    }\n",
       "\n",
       "    .dataframe thead th {\n",
       "        text-align: right;\n",
       "    }\n",
       "</style>\n",
       "<table border=\"1\" class=\"dataframe\">\n",
       "  <thead>\n",
       "    <tr style=\"text-align: right;\">\n",
       "      <th></th>\n",
       "      <th>MPI_size</th>\n",
       "      <th>omp_thrd</th>\n",
       "      <th>NPT</th>\n",
       "      <th>NPX</th>\n",
       "      <th>NPY</th>\n",
       "      <th>NPZ</th>\n",
       "      <th>Total_proc</th>\n",
       "      <th>size</th>\n",
       "    </tr>\n",
       "  </thead>\n",
       "  <tbody>\n",
       "    <tr>\n",
       "      <th>0</th>\n",
       "      <td>8</td>\n",
       "      <td>4</td>\n",
       "      <td>1</td>\n",
       "      <td>2</td>\n",
       "      <td>2</td>\n",
       "      <td>2</td>\n",
       "      <td>32</td>\n",
       "      <td>15</td>\n",
       "    </tr>\n",
       "    <tr>\n",
       "      <th>1</th>\n",
       "      <td>16</td>\n",
       "      <td>2</td>\n",
       "      <td>2</td>\n",
       "      <td>2</td>\n",
       "      <td>2</td>\n",
       "      <td>2</td>\n",
       "      <td>32</td>\n",
       "      <td>13</td>\n",
       "    </tr>\n",
       "    <tr>\n",
       "      <th>2</th>\n",
       "      <td>32</td>\n",
       "      <td>1</td>\n",
       "      <td>4</td>\n",
       "      <td>2</td>\n",
       "      <td>2</td>\n",
       "      <td>2</td>\n",
       "      <td>32</td>\n",
       "      <td>5</td>\n",
       "    </tr>\n",
       "  </tbody>\n",
       "</table>\n",
       "</div>"
      ],
      "text/plain": [
       "   MPI_size  omp_thrd  NPT  NPX  NPY  NPZ  Total_proc  size\n",
       "0         8         4    1    2    2    2          32    15\n",
       "1        16         2    2    2    2    2          32    13\n",
       "2        32         1    4    2    2    2          32     5"
      ]
     },
     "execution_count": 4,
     "metadata": {},
     "output_type": "execute_result"
    }
   ],
   "source": [
    "dfn1_macro_fused_nonprobempi_summary =dfn1_macro_fused_nonprobempi.groupby(['MPI_size','omp_thrd','NPT','NPX', 'NPY', 'NPZ',\"Total_proc\"]).size().reset_index(name = 'size')\n",
    "dfn1_macro_fused_nonprobempi_summary"
   ]
  },
  {
   "cell_type": "code",
   "execution_count": 5,
   "id": "cb159e86",
   "metadata": {},
   "outputs": [],
   "source": [
    "dfn1MacFusNonProb_8mpi_4omp = dfn1_macro_fused_nonprobempi[(dfn1_macro_fused_nonprobempi.omp_thrd == 4) & (dfn1_macro_fused_nonprobempi.GLB_T/dfn1_macro_fused_nonprobempi.LOC_T == 1) & (dfn1_macro_fused_nonprobempi.GLB_X/dfn1_macro_fused_nonprobempi.LOC_X == 2) & (dfn1_macro_fused_nonprobempi.GLB_Y/dfn1_macro_fused_nonprobempi.LOC_Y == 2)& (dfn1_macro_fused_nonprobempi.GLB_Z/dfn1_macro_fused_nonprobempi.LOC_Z == 2)]\n",
    "dfn1MacFusNonProb_16mpi_2omp = dfn1_macro_fused_nonprobempi[(dfn1_macro_fused_nonprobempi.omp_thrd == 2) & (dfn1_macro_fused_nonprobempi.GLB_T/dfn1_macro_fused_nonprobempi.LOC_T == 2) & (dfn1_macro_fused_nonprobempi.GLB_X/dfn1_macro_fused_nonprobempi.LOC_X == 2) & (dfn1_macro_fused_nonprobempi.GLB_Y/dfn1_macro_fused_nonprobempi.LOC_Y == 2)& (dfn1_macro_fused_nonprobempi.GLB_Z/dfn1_macro_fused_nonprobempi.LOC_Z == 2)]\n",
    "dfn1MacFusnonProb_32mpi_1omp = dfn1_macro_fused_nonprobempi[(dfn1_macro_fused_nonprobempi.omp_thrd == 1) & (dfn1_macro_fused_nonprobempi.GLB_T/dfn1_macro_fused_nonprobempi.LOC_T == 4) & (dfn1_macro_fused_nonprobempi.GLB_X/dfn1_macro_fused_nonprobempi.LOC_X == 2) & (dfn1_macro_fused_nonprobempi.GLB_Y/dfn1_macro_fused_nonprobempi.LOC_Y == 2)& (dfn1_macro_fused_nonprobempi.GLB_Z/dfn1_macro_fused_nonprobempi.LOC_Z == 2)]\n"
   ]
  },
  {
   "cell_type": "markdown",
   "id": "2f66cd6d",
   "metadata": {},
   "source": [
    "## Node 2: macro_fused_nonprobempi"
   ]
  },
  {
   "cell_type": "code",
   "execution_count": 6,
   "id": "9457c2bc",
   "metadata": {},
   "outputs": [],
   "source": [
    "dfn2_macro_fused_nonprobempi[\"N_Nodes\"] = 2\n",
    "dfn2_macro_fused_nonprobempi['NPX'] = (dfn2_macro_fused_nonprobempi.GLB_X//dfn2_macro_fused_nonprobempi.LOC_X)\n",
    "dfn2_macro_fused_nonprobempi['NPY'] = (dfn2_macro_fused_nonprobempi.GLB_Y//dfn2_macro_fused_nonprobempi.LOC_Y)\n",
    "dfn2_macro_fused_nonprobempi['NPZ'] = (dfn2_macro_fused_nonprobempi.GLB_Z//dfn2_macro_fused_nonprobempi.LOC_Z)\n",
    "dfn2_macro_fused_nonprobempi['NPT'] = (dfn2_macro_fused_nonprobempi.GLB_T//dfn2_macro_fused_nonprobempi.LOC_T)\n",
    "dfn2_macro_fused_nonprobempi[\"Total_proc\"] = dfn2_macro_fused_nonprobempi[\"omp_thrd\"]* dfn2_macro_fused_nonprobempi.MPI_size\n",
    "# dfn2_macro_fused_nonprobempi.columns"
   ]
  },
  {
   "cell_type": "code",
   "execution_count": 7,
   "id": "29febc6d",
   "metadata": {},
   "outputs": [
    {
     "data": {
      "text/html": [
       "<div>\n",
       "<style scoped>\n",
       "    .dataframe tbody tr th:only-of-type {\n",
       "        vertical-align: middle;\n",
       "    }\n",
       "\n",
       "    .dataframe tbody tr th {\n",
       "        vertical-align: top;\n",
       "    }\n",
       "\n",
       "    .dataframe thead th {\n",
       "        text-align: right;\n",
       "    }\n",
       "</style>\n",
       "<table border=\"1\" class=\"dataframe\">\n",
       "  <thead>\n",
       "    <tr style=\"text-align: right;\">\n",
       "      <th></th>\n",
       "      <th>MPI_size</th>\n",
       "      <th>omp_thrd</th>\n",
       "      <th>NPT</th>\n",
       "      <th>NPX</th>\n",
       "      <th>NPY</th>\n",
       "      <th>NPZ</th>\n",
       "      <th>Total_proc</th>\n",
       "      <th>size</th>\n",
       "    </tr>\n",
       "  </thead>\n",
       "  <tbody>\n",
       "    <tr>\n",
       "      <th>0</th>\n",
       "      <td>16</td>\n",
       "      <td>4</td>\n",
       "      <td>2</td>\n",
       "      <td>2</td>\n",
       "      <td>2</td>\n",
       "      <td>2</td>\n",
       "      <td>64</td>\n",
       "      <td>29</td>\n",
       "    </tr>\n",
       "    <tr>\n",
       "      <th>1</th>\n",
       "      <td>32</td>\n",
       "      <td>2</td>\n",
       "      <td>4</td>\n",
       "      <td>2</td>\n",
       "      <td>2</td>\n",
       "      <td>2</td>\n",
       "      <td>64</td>\n",
       "      <td>13</td>\n",
       "    </tr>\n",
       "    <tr>\n",
       "      <th>2</th>\n",
       "      <td>56</td>\n",
       "      <td>1</td>\n",
       "      <td>7</td>\n",
       "      <td>2</td>\n",
       "      <td>2</td>\n",
       "      <td>2</td>\n",
       "      <td>56</td>\n",
       "      <td>3</td>\n",
       "    </tr>\n",
       "    <tr>\n",
       "      <th>3</th>\n",
       "      <td>64</td>\n",
       "      <td>1</td>\n",
       "      <td>8</td>\n",
       "      <td>2</td>\n",
       "      <td>2</td>\n",
       "      <td>2</td>\n",
       "      <td>64</td>\n",
       "      <td>5</td>\n",
       "    </tr>\n",
       "  </tbody>\n",
       "</table>\n",
       "</div>"
      ],
      "text/plain": [
       "   MPI_size  omp_thrd  NPT  NPX  NPY  NPZ  Total_proc  size\n",
       "0        16         4    2    2    2    2          64    29\n",
       "1        32         2    4    2    2    2          64    13\n",
       "2        56         1    7    2    2    2          56     3\n",
       "3        64         1    8    2    2    2          64     5"
      ]
     },
     "execution_count": 7,
     "metadata": {},
     "output_type": "execute_result"
    }
   ],
   "source": [
    "dfn2_macro_fused_nonprobempi_summary =dfn2_macro_fused_nonprobempi.groupby(['MPI_size','omp_thrd','NPT','NPX', 'NPY', 'NPZ',\"Total_proc\"]).size().reset_index(name = 'size')\n",
    "dfn2_macro_fused_nonprobempi_summary"
   ]
  },
  {
   "cell_type": "code",
   "execution_count": 8,
   "id": "b51f7040",
   "metadata": {},
   "outputs": [],
   "source": [
    "dfn2MacFusNonProb_16mpi_4omp = dfn2_macro_fused_nonprobempi[(dfn2_macro_fused_nonprobempi.omp_thrd == 4) & (dfn2_macro_fused_nonprobempi.GLB_T/dfn2_macro_fused_nonprobempi.LOC_T == 2) & (dfn2_macro_fused_nonprobempi.GLB_X/dfn2_macro_fused_nonprobempi.LOC_X == 2) & (dfn2_macro_fused_nonprobempi.GLB_Y/dfn2_macro_fused_nonprobempi.LOC_Y == 2)& (dfn2_macro_fused_nonprobempi.GLB_Z/dfn2_macro_fused_nonprobempi.LOC_Z == 2)]\n",
    "dfn2MacFusNonProb_32mpi_2omp = dfn2_macro_fused_nonprobempi[(dfn2_macro_fused_nonprobempi.omp_thrd == 2) & (dfn2_macro_fused_nonprobempi.GLB_T/dfn2_macro_fused_nonprobempi.LOC_T == 4) & (dfn2_macro_fused_nonprobempi.GLB_X/dfn2_macro_fused_nonprobempi.LOC_X == 2) & (dfn2_macro_fused_nonprobempi.GLB_Y/dfn2_macro_fused_nonprobempi.LOC_Y == 2)& (dfn2_macro_fused_nonprobempi.GLB_Z/dfn2_macro_fused_nonprobempi.LOC_Z == 2)]\n",
    "dfn2MacFusnonProb_56mpi_1omp = dfn2_macro_fused_nonprobempi[(dfn2_macro_fused_nonprobempi.omp_thrd == 1) & (dfn2_macro_fused_nonprobempi.GLB_T/dfn2_macro_fused_nonprobempi.LOC_T == 7) & (dfn2_macro_fused_nonprobempi.GLB_X/dfn2_macro_fused_nonprobempi.LOC_X == 2) & (dfn2_macro_fused_nonprobempi.GLB_Y/dfn2_macro_fused_nonprobempi.LOC_Y == 2)& (dfn2_macro_fused_nonprobempi.GLB_Z/dfn2_macro_fused_nonprobempi.LOC_Z == 2)]\n",
    "dfn2MacFusnonProb_64mpi_1omp = dfn2_macro_fused_nonprobempi[(dfn2_macro_fused_nonprobempi.omp_thrd == 1) & (dfn2_macro_fused_nonprobempi.GLB_T/dfn2_macro_fused_nonprobempi.LOC_T == 8) & (dfn2_macro_fused_nonprobempi.GLB_X/dfn2_macro_fused_nonprobempi.LOC_X == 2) & (dfn2_macro_fused_nonprobempi.GLB_Y/dfn2_macro_fused_nonprobempi.LOC_Y == 2)& (dfn2_macro_fused_nonprobempi.GLB_Z/dfn2_macro_fused_nonprobempi.LOC_Z == 2)]\n",
    "# dfn2MacFusNonProb_16mpi_4omp"
   ]
  },
  {
   "cell_type": "markdown",
   "id": "f348b77a",
   "metadata": {},
   "source": [
    "## Node 4: macro_fused_nonprobempi"
   ]
  },
  {
   "cell_type": "code",
   "execution_count": 9,
   "id": "4738ad60",
   "metadata": {},
   "outputs": [],
   "source": [
    "dfn4_macro_fused_nonprobempi[\"N_Nodes\"] = 4\n",
    "dfn4_macro_fused_nonprobempi['NPX'] = (dfn4_macro_fused_nonprobempi.GLB_X//dfn4_macro_fused_nonprobempi.LOC_X)\n",
    "dfn4_macro_fused_nonprobempi['NPY'] = (dfn4_macro_fused_nonprobempi.GLB_Y//dfn4_macro_fused_nonprobempi.LOC_Y)\n",
    "dfn4_macro_fused_nonprobempi['NPZ'] = (dfn4_macro_fused_nonprobempi.GLB_Z//dfn4_macro_fused_nonprobempi.LOC_Z)\n",
    "dfn4_macro_fused_nonprobempi['NPT'] = (dfn4_macro_fused_nonprobempi.GLB_T//dfn4_macro_fused_nonprobempi.LOC_T)\n",
    "dfn4_macro_fused_nonprobempi[\"Total_proc\"] = dfn4_macro_fused_nonprobempi[\"omp_thrd\"]* dfn4_macro_fused_nonprobempi.MPI_size\n",
    "# dfn4_macro_fused_nonprobempi.columns"
   ]
  },
  {
   "cell_type": "code",
   "execution_count": 10,
   "id": "a8da2b5f",
   "metadata": {},
   "outputs": [
    {
     "data": {
      "text/html": [
       "<div>\n",
       "<style scoped>\n",
       "    .dataframe tbody tr th:only-of-type {\n",
       "        vertical-align: middle;\n",
       "    }\n",
       "\n",
       "    .dataframe tbody tr th {\n",
       "        vertical-align: top;\n",
       "    }\n",
       "\n",
       "    .dataframe thead th {\n",
       "        text-align: right;\n",
       "    }\n",
       "</style>\n",
       "<table border=\"1\" class=\"dataframe\">\n",
       "  <thead>\n",
       "    <tr style=\"text-align: right;\">\n",
       "      <th></th>\n",
       "      <th>MPI_size</th>\n",
       "      <th>omp_thrd</th>\n",
       "      <th>NPT</th>\n",
       "      <th>NPX</th>\n",
       "      <th>NPY</th>\n",
       "      <th>NPZ</th>\n",
       "      <th>Total_proc</th>\n",
       "      <th>size</th>\n",
       "    </tr>\n",
       "  </thead>\n",
       "  <tbody>\n",
       "    <tr>\n",
       "      <th>0</th>\n",
       "      <td>32</td>\n",
       "      <td>4</td>\n",
       "      <td>4</td>\n",
       "      <td>2</td>\n",
       "      <td>2</td>\n",
       "      <td>2</td>\n",
       "      <td>128</td>\n",
       "      <td>29</td>\n",
       "    </tr>\n",
       "    <tr>\n",
       "      <th>1</th>\n",
       "      <td>40</td>\n",
       "      <td>3</td>\n",
       "      <td>5</td>\n",
       "      <td>2</td>\n",
       "      <td>2</td>\n",
       "      <td>2</td>\n",
       "      <td>120</td>\n",
       "      <td>11</td>\n",
       "    </tr>\n",
       "    <tr>\n",
       "      <th>2</th>\n",
       "      <td>56</td>\n",
       "      <td>2</td>\n",
       "      <td>7</td>\n",
       "      <td>2</td>\n",
       "      <td>2</td>\n",
       "      <td>2</td>\n",
       "      <td>112</td>\n",
       "      <td>8</td>\n",
       "    </tr>\n",
       "    <tr>\n",
       "      <th>3</th>\n",
       "      <td>64</td>\n",
       "      <td>2</td>\n",
       "      <td>8</td>\n",
       "      <td>2</td>\n",
       "      <td>2</td>\n",
       "      <td>2</td>\n",
       "      <td>128</td>\n",
       "      <td>13</td>\n",
       "    </tr>\n",
       "    <tr>\n",
       "      <th>4</th>\n",
       "      <td>104</td>\n",
       "      <td>1</td>\n",
       "      <td>13</td>\n",
       "      <td>2</td>\n",
       "      <td>2</td>\n",
       "      <td>2</td>\n",
       "      <td>104</td>\n",
       "      <td>3</td>\n",
       "    </tr>\n",
       "    <tr>\n",
       "      <th>5</th>\n",
       "      <td>112</td>\n",
       "      <td>1</td>\n",
       "      <td>14</td>\n",
       "      <td>2</td>\n",
       "      <td>2</td>\n",
       "      <td>2</td>\n",
       "      <td>112</td>\n",
       "      <td>6</td>\n",
       "    </tr>\n",
       "    <tr>\n",
       "      <th>6</th>\n",
       "      <td>120</td>\n",
       "      <td>1</td>\n",
       "      <td>15</td>\n",
       "      <td>2</td>\n",
       "      <td>2</td>\n",
       "      <td>2</td>\n",
       "      <td>120</td>\n",
       "      <td>3</td>\n",
       "    </tr>\n",
       "    <tr>\n",
       "      <th>7</th>\n",
       "      <td>128</td>\n",
       "      <td>1</td>\n",
       "      <td>16</td>\n",
       "      <td>2</td>\n",
       "      <td>2</td>\n",
       "      <td>2</td>\n",
       "      <td>128</td>\n",
       "      <td>5</td>\n",
       "    </tr>\n",
       "  </tbody>\n",
       "</table>\n",
       "</div>"
      ],
      "text/plain": [
       "   MPI_size  omp_thrd  NPT  NPX  NPY  NPZ  Total_proc  size\n",
       "0        32         4    4    2    2    2         128    29\n",
       "1        40         3    5    2    2    2         120    11\n",
       "2        56         2    7    2    2    2         112     8\n",
       "3        64         2    8    2    2    2         128    13\n",
       "4       104         1   13    2    2    2         104     3\n",
       "5       112         1   14    2    2    2         112     6\n",
       "6       120         1   15    2    2    2         120     3\n",
       "7       128         1   16    2    2    2         128     5"
      ]
     },
     "execution_count": 10,
     "metadata": {},
     "output_type": "execute_result"
    }
   ],
   "source": [
    "dfn4_macro_fused_nonprobempi_summary =dfn4_macro_fused_nonprobempi.groupby(['MPI_size','omp_thrd','NPT','NPX', 'NPY', 'NPZ',\"Total_proc\"]).size().reset_index(name = 'size')\n",
    "dfn4_macro_fused_nonprobempi_summary"
   ]
  },
  {
   "cell_type": "code",
   "execution_count": 11,
   "id": "719b0f7f",
   "metadata": {},
   "outputs": [],
   "source": [
    "dfn4MacFusNonProb_32mpi_4omp = dfn4_macro_fused_nonprobempi[(dfn4_macro_fused_nonprobempi.omp_thrd == 4) & (dfn4_macro_fused_nonprobempi.GLB_T/dfn4_macro_fused_nonprobempi.LOC_T == 4) & (dfn4_macro_fused_nonprobempi.GLB_X/dfn4_macro_fused_nonprobempi.LOC_X == 2) & (dfn4_macro_fused_nonprobempi.GLB_Y/dfn4_macro_fused_nonprobempi.LOC_Y == 2)& (dfn4_macro_fused_nonprobempi.GLB_Z/dfn4_macro_fused_nonprobempi.LOC_Z == 2)]\n",
    "dfn4MacFusNonProb_40mpi_3omp = dfn4_macro_fused_nonprobempi[(dfn4_macro_fused_nonprobempi.omp_thrd == 3) & (dfn4_macro_fused_nonprobempi.GLB_T/dfn4_macro_fused_nonprobempi.LOC_T == 5) & (dfn4_macro_fused_nonprobempi.GLB_X/dfn4_macro_fused_nonprobempi.LOC_X == 2) & (dfn4_macro_fused_nonprobempi.GLB_Y/dfn4_macro_fused_nonprobempi.LOC_Y == 2)& (dfn4_macro_fused_nonprobempi.GLB_Z/dfn4_macro_fused_nonprobempi.LOC_Z == 2)]\n",
    "dfn4MacFusnonProb_56mpi_2omp = dfn4_macro_fused_nonprobempi[(dfn4_macro_fused_nonprobempi.omp_thrd == 2) & (dfn4_macro_fused_nonprobempi.GLB_T/dfn4_macro_fused_nonprobempi.LOC_T == 7) & (dfn4_macro_fused_nonprobempi.GLB_X/dfn4_macro_fused_nonprobempi.LOC_X == 2) & (dfn4_macro_fused_nonprobempi.GLB_Y/dfn4_macro_fused_nonprobempi.LOC_Y == 2)& (dfn4_macro_fused_nonprobempi.GLB_Z/dfn4_macro_fused_nonprobempi.LOC_Z == 2)]\n",
    "dfn4MacFusnonProb_64mpi_2omp = dfn4_macro_fused_nonprobempi[(dfn4_macro_fused_nonprobempi.omp_thrd == 2) & (dfn4_macro_fused_nonprobempi.GLB_T/dfn4_macro_fused_nonprobempi.LOC_T == 8) & (dfn4_macro_fused_nonprobempi.GLB_X/dfn4_macro_fused_nonprobempi.LOC_X == 2) & (dfn4_macro_fused_nonprobempi.GLB_Y/dfn4_macro_fused_nonprobempi.LOC_Y == 2)& (dfn4_macro_fused_nonprobempi.GLB_Z/dfn4_macro_fused_nonprobempi.LOC_Z == 2)]\n",
    "dfn4MacFusnonProb_112mpi_1omp = dfn4_macro_fused_nonprobempi[(dfn4_macro_fused_nonprobempi.omp_thrd == 1) & (dfn4_macro_fused_nonprobempi.GLB_T/dfn4_macro_fused_nonprobempi.LOC_T == 14) & (dfn4_macro_fused_nonprobempi.GLB_X/dfn4_macro_fused_nonprobempi.LOC_X == 2) & (dfn4_macro_fused_nonprobempi.GLB_Y/dfn4_macro_fused_nonprobempi.LOC_Y == 2)& (dfn4_macro_fused_nonprobempi.GLB_Z/dfn4_macro_fused_nonprobempi.LOC_Z == 2)]\n",
    "dfn4MacFusnonProb_128mpi_1omp = dfn4_macro_fused_nonprobempi[(dfn4_macro_fused_nonprobempi.omp_thrd == 1) & (dfn4_macro_fused_nonprobempi.GLB_T/dfn4_macro_fused_nonprobempi.LOC_T == 16) & (dfn4_macro_fused_nonprobempi.GLB_X/dfn4_macro_fused_nonprobempi.LOC_X == 2) & (dfn4_macro_fused_nonprobempi.GLB_Y/dfn4_macro_fused_nonprobempi.LOC_Y == 2)& (dfn4_macro_fused_nonprobempi.GLB_Z/dfn4_macro_fused_nonprobempi.LOC_Z == 2)]\n"
   ]
  },
  {
   "cell_type": "code",
   "execution_count": null,
   "id": "4934ba4c",
   "metadata": {},
   "outputs": [],
   "source": []
  },
  {
   "cell_type": "markdown",
   "id": "1566c88e",
   "metadata": {},
   "source": [
    "# B. MACRO: NonFused_NonProbempi"
   ]
  },
  {
   "cell_type": "markdown",
   "id": "f76f05ef",
   "metadata": {},
   "source": [
    "## Node 1: macro_nonfused_nonprobempi"
   ]
  },
  {
   "cell_type": "code",
   "execution_count": 12,
   "id": "addb4528",
   "metadata": {},
   "outputs": [],
   "source": [
    "dfn1_macro_nonfused_nonprobempi[\"N_Nodes\"] = 1\n",
    "dfn1_macro_nonfused_nonprobempi['NPX'] = (dfn1_macro_nonfused_nonprobempi.GLB_X//dfn1_macro_nonfused_nonprobempi.LOC_X)\n",
    "dfn1_macro_nonfused_nonprobempi['NPY'] = (dfn1_macro_nonfused_nonprobempi.GLB_Y//dfn1_macro_nonfused_nonprobempi.LOC_Y)\n",
    "dfn1_macro_nonfused_nonprobempi['NPZ'] = (dfn1_macro_nonfused_nonprobempi.GLB_Z//dfn1_macro_nonfused_nonprobempi.LOC_Z)\n",
    "dfn1_macro_nonfused_nonprobempi['NPT'] = (dfn1_macro_nonfused_nonprobempi.GLB_T//dfn1_macro_nonfused_nonprobempi.LOC_T)\n",
    "dfn1_macro_nonfused_nonprobempi[\"Total_proc\"] = dfn1_macro_nonfused_nonprobempi[\"omp_thrd\"]* dfn1_macro_nonfused_nonprobempi.MPI_size\n",
    "# dfn1_macro_nonfused_nonprobempi.columns"
   ]
  },
  {
   "cell_type": "code",
   "execution_count": 13,
   "id": "9af088ef",
   "metadata": {},
   "outputs": [
    {
     "data": {
      "text/html": [
       "<div>\n",
       "<style scoped>\n",
       "    .dataframe tbody tr th:only-of-type {\n",
       "        vertical-align: middle;\n",
       "    }\n",
       "\n",
       "    .dataframe tbody tr th {\n",
       "        vertical-align: top;\n",
       "    }\n",
       "\n",
       "    .dataframe thead th {\n",
       "        text-align: right;\n",
       "    }\n",
       "</style>\n",
       "<table border=\"1\" class=\"dataframe\">\n",
       "  <thead>\n",
       "    <tr style=\"text-align: right;\">\n",
       "      <th></th>\n",
       "      <th>MPI_size</th>\n",
       "      <th>omp_thrd</th>\n",
       "      <th>NPT</th>\n",
       "      <th>NPX</th>\n",
       "      <th>NPY</th>\n",
       "      <th>NPZ</th>\n",
       "      <th>Total_proc</th>\n",
       "      <th>size</th>\n",
       "    </tr>\n",
       "  </thead>\n",
       "  <tbody>\n",
       "    <tr>\n",
       "      <th>0</th>\n",
       "      <td>8</td>\n",
       "      <td>4</td>\n",
       "      <td>1</td>\n",
       "      <td>2</td>\n",
       "      <td>2</td>\n",
       "      <td>2</td>\n",
       "      <td>32</td>\n",
       "      <td>15</td>\n",
       "    </tr>\n",
       "    <tr>\n",
       "      <th>1</th>\n",
       "      <td>16</td>\n",
       "      <td>2</td>\n",
       "      <td>2</td>\n",
       "      <td>2</td>\n",
       "      <td>2</td>\n",
       "      <td>2</td>\n",
       "      <td>32</td>\n",
       "      <td>13</td>\n",
       "    </tr>\n",
       "    <tr>\n",
       "      <th>2</th>\n",
       "      <td>32</td>\n",
       "      <td>1</td>\n",
       "      <td>4</td>\n",
       "      <td>2</td>\n",
       "      <td>2</td>\n",
       "      <td>2</td>\n",
       "      <td>32</td>\n",
       "      <td>5</td>\n",
       "    </tr>\n",
       "  </tbody>\n",
       "</table>\n",
       "</div>"
      ],
      "text/plain": [
       "   MPI_size  omp_thrd  NPT  NPX  NPY  NPZ  Total_proc  size\n",
       "0         8         4    1    2    2    2          32    15\n",
       "1        16         2    2    2    2    2          32    13\n",
       "2        32         1    4    2    2    2          32     5"
      ]
     },
     "execution_count": 13,
     "metadata": {},
     "output_type": "execute_result"
    }
   ],
   "source": [
    "dfn1_macro_nonfused_nonprobempi_summary = dfn1_macro_nonfused_nonprobempi.groupby(['MPI_size','omp_thrd','NPT','NPX', 'NPY', 'NPZ',\"Total_proc\"]).size().reset_index(name = 'size')\n",
    "dfn1_macro_nonfused_nonprobempi_summary"
   ]
  },
  {
   "cell_type": "code",
   "execution_count": 14,
   "id": "56cc4c89",
   "metadata": {},
   "outputs": [],
   "source": [
    "dfn1MacNonFusNonProb_8mpi_4omp = dfn1_macro_nonfused_nonprobempi[(dfn1_macro_nonfused_nonprobempi.omp_thrd == 4) & (dfn1_macro_nonfused_nonprobempi.GLB_T/dfn1_macro_nonfused_nonprobempi.LOC_T == 1) & (dfn1_macro_nonfused_nonprobempi.GLB_X/dfn1_macro_nonfused_nonprobempi.LOC_X == 2) & (dfn1_macro_nonfused_nonprobempi.GLB_Y/dfn1_macro_nonfused_nonprobempi.LOC_Y == 2)& (dfn1_macro_nonfused_nonprobempi.GLB_Z/dfn1_macro_nonfused_nonprobempi.LOC_Z == 2)]\n",
    "dfn1MacNonFusNonProb_16mpi_2omp = dfn1_macro_nonfused_nonprobempi[(dfn1_macro_nonfused_nonprobempi.omp_thrd == 2) & (dfn1_macro_nonfused_nonprobempi.GLB_T/dfn1_macro_nonfused_nonprobempi.LOC_T == 2) & (dfn1_macro_nonfused_nonprobempi.GLB_X/dfn1_macro_nonfused_nonprobempi.LOC_X == 2) & (dfn1_macro_nonfused_nonprobempi.GLB_Y/dfn1_macro_nonfused_nonprobempi.LOC_Y == 2)& (dfn1_macro_nonfused_nonprobempi.GLB_Z/dfn1_macro_nonfused_nonprobempi.LOC_Z == 2)]\n",
    "dfn1MacNonFusNonProb_32mpi_1omp = dfn1_macro_nonfused_nonprobempi[(dfn1_macro_nonfused_nonprobempi.omp_thrd == 1) & (dfn1_macro_nonfused_nonprobempi.GLB_T/dfn1_macro_nonfused_nonprobempi.LOC_T == 4) & (dfn1_macro_nonfused_nonprobempi.GLB_X/dfn1_macro_nonfused_nonprobempi.LOC_X == 2) & (dfn1_macro_nonfused_nonprobempi.GLB_Y/dfn1_macro_nonfused_nonprobempi.LOC_Y == 2)& (dfn1_macro_nonfused_nonprobempi.GLB_Z/dfn1_macro_nonfused_nonprobempi.LOC_Z == 2)]\n"
   ]
  },
  {
   "cell_type": "markdown",
   "id": "2d284690",
   "metadata": {},
   "source": [
    "## Node 2: macro_nonfused_nonprobempi"
   ]
  },
  {
   "cell_type": "code",
   "execution_count": 15,
   "id": "c28bb013",
   "metadata": {},
   "outputs": [],
   "source": [
    "dfn2_macro_nonfused_nonprobempi[\"N_Nodes\"] = 2\n",
    "dfn2_macro_nonfused_nonprobempi['NPX'] = (dfn2_macro_nonfused_nonprobempi.GLB_X//dfn2_macro_nonfused_nonprobempi.LOC_X)\n",
    "dfn2_macro_nonfused_nonprobempi['NPY'] = (dfn2_macro_nonfused_nonprobempi.GLB_Y//dfn2_macro_nonfused_nonprobempi.LOC_Y)\n",
    "dfn2_macro_nonfused_nonprobempi['NPZ'] = (dfn2_macro_nonfused_nonprobempi.GLB_Z//dfn2_macro_nonfused_nonprobempi.LOC_Z)\n",
    "dfn2_macro_nonfused_nonprobempi['NPT'] = (dfn2_macro_nonfused_nonprobempi.GLB_T//dfn2_macro_nonfused_nonprobempi.LOC_T)\n",
    "dfn2_macro_nonfused_nonprobempi[\"Total_proc\"] = dfn2_macro_nonfused_nonprobempi[\"omp_thrd\"]* dfn2_macro_nonfused_nonprobempi.MPI_size\n",
    "# dfn2_macro_nonfused_nonprobempi.columns"
   ]
  },
  {
   "cell_type": "code",
   "execution_count": 16,
   "id": "866bffce",
   "metadata": {},
   "outputs": [
    {
     "data": {
      "text/html": [
       "<div>\n",
       "<style scoped>\n",
       "    .dataframe tbody tr th:only-of-type {\n",
       "        vertical-align: middle;\n",
       "    }\n",
       "\n",
       "    .dataframe tbody tr th {\n",
       "        vertical-align: top;\n",
       "    }\n",
       "\n",
       "    .dataframe thead th {\n",
       "        text-align: right;\n",
       "    }\n",
       "</style>\n",
       "<table border=\"1\" class=\"dataframe\">\n",
       "  <thead>\n",
       "    <tr style=\"text-align: right;\">\n",
       "      <th></th>\n",
       "      <th>MPI_size</th>\n",
       "      <th>omp_thrd</th>\n",
       "      <th>NPT</th>\n",
       "      <th>NPX</th>\n",
       "      <th>NPY</th>\n",
       "      <th>NPZ</th>\n",
       "      <th>Total_proc</th>\n",
       "      <th>size</th>\n",
       "    </tr>\n",
       "  </thead>\n",
       "  <tbody>\n",
       "    <tr>\n",
       "      <th>0</th>\n",
       "      <td>16</td>\n",
       "      <td>4</td>\n",
       "      <td>2</td>\n",
       "      <td>2</td>\n",
       "      <td>2</td>\n",
       "      <td>2</td>\n",
       "      <td>64</td>\n",
       "      <td>29</td>\n",
       "    </tr>\n",
       "    <tr>\n",
       "      <th>1</th>\n",
       "      <td>32</td>\n",
       "      <td>2</td>\n",
       "      <td>4</td>\n",
       "      <td>2</td>\n",
       "      <td>2</td>\n",
       "      <td>2</td>\n",
       "      <td>64</td>\n",
       "      <td>13</td>\n",
       "    </tr>\n",
       "    <tr>\n",
       "      <th>2</th>\n",
       "      <td>56</td>\n",
       "      <td>1</td>\n",
       "      <td>7</td>\n",
       "      <td>2</td>\n",
       "      <td>2</td>\n",
       "      <td>2</td>\n",
       "      <td>56</td>\n",
       "      <td>3</td>\n",
       "    </tr>\n",
       "    <tr>\n",
       "      <th>3</th>\n",
       "      <td>64</td>\n",
       "      <td>1</td>\n",
       "      <td>8</td>\n",
       "      <td>2</td>\n",
       "      <td>2</td>\n",
       "      <td>2</td>\n",
       "      <td>64</td>\n",
       "      <td>5</td>\n",
       "    </tr>\n",
       "  </tbody>\n",
       "</table>\n",
       "</div>"
      ],
      "text/plain": [
       "   MPI_size  omp_thrd  NPT  NPX  NPY  NPZ  Total_proc  size\n",
       "0        16         4    2    2    2    2          64    29\n",
       "1        32         2    4    2    2    2          64    13\n",
       "2        56         1    7    2    2    2          56     3\n",
       "3        64         1    8    2    2    2          64     5"
      ]
     },
     "execution_count": 16,
     "metadata": {},
     "output_type": "execute_result"
    }
   ],
   "source": [
    "dfn2_macro_nonfused_nonprobempi_summary = dfn2_macro_nonfused_nonprobempi.groupby(['MPI_size','omp_thrd','NPT','NPX', 'NPY', 'NPZ',\"Total_proc\"]).size().reset_index(name = 'size')\n",
    "dfn2_macro_nonfused_nonprobempi_summary"
   ]
  },
  {
   "cell_type": "code",
   "execution_count": 17,
   "id": "4e1c8ba0",
   "metadata": {},
   "outputs": [],
   "source": [
    "dfn2MacNonFusNonProb_16mpi_4omp = dfn2_macro_nonfused_nonprobempi[(dfn2_macro_nonfused_nonprobempi.omp_thrd == 4) & (dfn2_macro_nonfused_nonprobempi.GLB_T/dfn2_macro_nonfused_nonprobempi.LOC_T == 2) & (dfn2_macro_nonfused_nonprobempi.GLB_X/dfn2_macro_nonfused_nonprobempi.LOC_X == 2) & (dfn2_macro_nonfused_nonprobempi.GLB_Y/dfn2_macro_nonfused_nonprobempi.LOC_Y == 2)& (dfn2_macro_nonfused_nonprobempi.GLB_Z/dfn2_macro_nonfused_nonprobempi.LOC_Z == 2)]\n",
    "dfn2MacNonFusNonProb_32mpi_2omp = dfn2_macro_nonfused_nonprobempi[(dfn2_macro_nonfused_nonprobempi.omp_thrd == 2) & (dfn2_macro_nonfused_nonprobempi.GLB_T/dfn2_macro_nonfused_nonprobempi.LOC_T == 4) & (dfn2_macro_nonfused_nonprobempi.GLB_X/dfn2_macro_nonfused_nonprobempi.LOC_X == 2) & (dfn2_macro_nonfused_nonprobempi.GLB_Y/dfn2_macro_nonfused_nonprobempi.LOC_Y == 2)& (dfn2_macro_nonfused_nonprobempi.GLB_Z/dfn2_macro_nonfused_nonprobempi.LOC_Z == 2)]\n",
    "dfn2MacNonFusNonProb_56mpi_1omp = dfn2_macro_nonfused_nonprobempi[(dfn2_macro_nonfused_nonprobempi.omp_thrd == 1) & (dfn2_macro_nonfused_nonprobempi.GLB_T/dfn2_macro_nonfused_nonprobempi.LOC_T == 7) & (dfn2_macro_nonfused_nonprobempi.GLB_X/dfn2_macro_nonfused_nonprobempi.LOC_X == 2) & (dfn2_macro_nonfused_nonprobempi.GLB_Y/dfn2_macro_nonfused_nonprobempi.LOC_Y == 2)& (dfn2_macro_nonfused_nonprobempi.GLB_Z/dfn2_macro_nonfused_nonprobempi.LOC_Z == 2)]\n",
    "dfn2MacNonFusNonProb_64mpi_1omp = dfn2_macro_nonfused_nonprobempi[(dfn2_macro_nonfused_nonprobempi.omp_thrd == 1) & (dfn2_macro_nonfused_nonprobempi.GLB_T/dfn2_macro_nonfused_nonprobempi.LOC_T == 8) & (dfn2_macro_nonfused_nonprobempi.GLB_X/dfn2_macro_nonfused_nonprobempi.LOC_X == 2) & (dfn2_macro_nonfused_nonprobempi.GLB_Y/dfn2_macro_nonfused_nonprobempi.LOC_Y == 2)& (dfn2_macro_nonfused_nonprobempi.GLB_Z/dfn2_macro_nonfused_nonprobempi.LOC_Z == 2)]\n"
   ]
  },
  {
   "cell_type": "markdown",
   "id": "c82e7bd2",
   "metadata": {},
   "source": [
    "## Node 4: macro_nonfused_nonprobempi"
   ]
  },
  {
   "cell_type": "code",
   "execution_count": 18,
   "id": "9739efba",
   "metadata": {},
   "outputs": [],
   "source": [
    "dfn4_macro_nonfused_nonprobempi[\"N_Nodes\"] = 4\n",
    "dfn4_macro_nonfused_nonprobempi['NPX'] = (dfn4_macro_nonfused_nonprobempi.GLB_X//dfn4_macro_nonfused_nonprobempi.LOC_X)\n",
    "dfn4_macro_nonfused_nonprobempi['NPY'] = (dfn4_macro_nonfused_nonprobempi.GLB_Y//dfn4_macro_nonfused_nonprobempi.LOC_Y)\n",
    "dfn4_macro_nonfused_nonprobempi['NPZ'] = (dfn4_macro_nonfused_nonprobempi.GLB_Z//dfn4_macro_nonfused_nonprobempi.LOC_Z)\n",
    "dfn4_macro_nonfused_nonprobempi['NPT'] = (dfn4_macro_nonfused_nonprobempi.GLB_T//dfn4_macro_nonfused_nonprobempi.LOC_T)\n",
    "dfn4_macro_nonfused_nonprobempi[\"Total_proc\"] = dfn4_macro_nonfused_nonprobempi[\"omp_thrd\"]* dfn4_macro_nonfused_nonprobempi.MPI_size\n",
    "# dfn4_macro_nonfused_nonprobempi.columns"
   ]
  },
  {
   "cell_type": "code",
   "execution_count": 19,
   "id": "e5c8f361",
   "metadata": {},
   "outputs": [
    {
     "data": {
      "text/html": [
       "<div>\n",
       "<style scoped>\n",
       "    .dataframe tbody tr th:only-of-type {\n",
       "        vertical-align: middle;\n",
       "    }\n",
       "\n",
       "    .dataframe tbody tr th {\n",
       "        vertical-align: top;\n",
       "    }\n",
       "\n",
       "    .dataframe thead th {\n",
       "        text-align: right;\n",
       "    }\n",
       "</style>\n",
       "<table border=\"1\" class=\"dataframe\">\n",
       "  <thead>\n",
       "    <tr style=\"text-align: right;\">\n",
       "      <th></th>\n",
       "      <th>MPI_size</th>\n",
       "      <th>omp_thrd</th>\n",
       "      <th>NPT</th>\n",
       "      <th>NPX</th>\n",
       "      <th>NPY</th>\n",
       "      <th>NPZ</th>\n",
       "      <th>Total_proc</th>\n",
       "      <th>size</th>\n",
       "    </tr>\n",
       "  </thead>\n",
       "  <tbody>\n",
       "    <tr>\n",
       "      <th>0</th>\n",
       "      <td>32</td>\n",
       "      <td>4</td>\n",
       "      <td>4</td>\n",
       "      <td>2</td>\n",
       "      <td>2</td>\n",
       "      <td>2</td>\n",
       "      <td>128</td>\n",
       "      <td>29</td>\n",
       "    </tr>\n",
       "    <tr>\n",
       "      <th>1</th>\n",
       "      <td>40</td>\n",
       "      <td>3</td>\n",
       "      <td>5</td>\n",
       "      <td>2</td>\n",
       "      <td>2</td>\n",
       "      <td>2</td>\n",
       "      <td>120</td>\n",
       "      <td>11</td>\n",
       "    </tr>\n",
       "    <tr>\n",
       "      <th>2</th>\n",
       "      <td>56</td>\n",
       "      <td>2</td>\n",
       "      <td>7</td>\n",
       "      <td>2</td>\n",
       "      <td>2</td>\n",
       "      <td>2</td>\n",
       "      <td>112</td>\n",
       "      <td>8</td>\n",
       "    </tr>\n",
       "    <tr>\n",
       "      <th>3</th>\n",
       "      <td>64</td>\n",
       "      <td>2</td>\n",
       "      <td>8</td>\n",
       "      <td>2</td>\n",
       "      <td>2</td>\n",
       "      <td>2</td>\n",
       "      <td>128</td>\n",
       "      <td>13</td>\n",
       "    </tr>\n",
       "    <tr>\n",
       "      <th>4</th>\n",
       "      <td>104</td>\n",
       "      <td>1</td>\n",
       "      <td>13</td>\n",
       "      <td>2</td>\n",
       "      <td>2</td>\n",
       "      <td>2</td>\n",
       "      <td>104</td>\n",
       "      <td>3</td>\n",
       "    </tr>\n",
       "    <tr>\n",
       "      <th>5</th>\n",
       "      <td>112</td>\n",
       "      <td>1</td>\n",
       "      <td>14</td>\n",
       "      <td>2</td>\n",
       "      <td>2</td>\n",
       "      <td>2</td>\n",
       "      <td>112</td>\n",
       "      <td>6</td>\n",
       "    </tr>\n",
       "    <tr>\n",
       "      <th>6</th>\n",
       "      <td>120</td>\n",
       "      <td>1</td>\n",
       "      <td>15</td>\n",
       "      <td>2</td>\n",
       "      <td>2</td>\n",
       "      <td>2</td>\n",
       "      <td>120</td>\n",
       "      <td>3</td>\n",
       "    </tr>\n",
       "    <tr>\n",
       "      <th>7</th>\n",
       "      <td>128</td>\n",
       "      <td>1</td>\n",
       "      <td>16</td>\n",
       "      <td>2</td>\n",
       "      <td>2</td>\n",
       "      <td>2</td>\n",
       "      <td>128</td>\n",
       "      <td>5</td>\n",
       "    </tr>\n",
       "  </tbody>\n",
       "</table>\n",
       "</div>"
      ],
      "text/plain": [
       "   MPI_size  omp_thrd  NPT  NPX  NPY  NPZ  Total_proc  size\n",
       "0        32         4    4    2    2    2         128    29\n",
       "1        40         3    5    2    2    2         120    11\n",
       "2        56         2    7    2    2    2         112     8\n",
       "3        64         2    8    2    2    2         128    13\n",
       "4       104         1   13    2    2    2         104     3\n",
       "5       112         1   14    2    2    2         112     6\n",
       "6       120         1   15    2    2    2         120     3\n",
       "7       128         1   16    2    2    2         128     5"
      ]
     },
     "execution_count": 19,
     "metadata": {},
     "output_type": "execute_result"
    }
   ],
   "source": [
    "dfn4_macro_nonfused_nonprobempi_summary = dfn4_macro_nonfused_nonprobempi.groupby(['MPI_size','omp_thrd','NPT','NPX', 'NPY', 'NPZ',\"Total_proc\"]).size().reset_index(name = 'size')\n",
    "dfn4_macro_nonfused_nonprobempi_summary"
   ]
  },
  {
   "cell_type": "code",
   "execution_count": 20,
   "id": "972cd649",
   "metadata": {},
   "outputs": [],
   "source": [
    "dfn4MacNonFusNonProb_32mpi_4omp = dfn4_macro_nonfused_nonprobempi[(dfn4_macro_nonfused_nonprobempi.omp_thrd == 4) & (dfn4_macro_nonfused_nonprobempi.GLB_T/dfn4_macro_nonfused_nonprobempi.LOC_T == 4) & (dfn4_macro_nonfused_nonprobempi.GLB_X/dfn4_macro_nonfused_nonprobempi.LOC_X == 2) & (dfn4_macro_nonfused_nonprobempi.GLB_Y/dfn4_macro_nonfused_nonprobempi.LOC_Y == 2)& (dfn4_macro_nonfused_nonprobempi.GLB_Z/dfn4_macro_nonfused_nonprobempi.LOC_Z == 2)]\n",
    "dfn4MacNonFusNonProb_40mpi_3omp = dfn4_macro_nonfused_nonprobempi[(dfn4_macro_nonfused_nonprobempi.omp_thrd == 3) & (dfn4_macro_nonfused_nonprobempi.GLB_T/dfn4_macro_nonfused_nonprobempi.LOC_T == 5) & (dfn4_macro_nonfused_nonprobempi.GLB_X/dfn4_macro_nonfused_nonprobempi.LOC_X == 2) & (dfn4_macro_nonfused_nonprobempi.GLB_Y/dfn4_macro_nonfused_nonprobempi.LOC_Y == 2)& (dfn4_macro_nonfused_nonprobempi.GLB_Z/dfn4_macro_nonfused_nonprobempi.LOC_Z == 2)]\n",
    "dfn4MacNonFusNonProb_56mpi_2omp = dfn4_macro_nonfused_nonprobempi[(dfn4_macro_nonfused_nonprobempi.omp_thrd == 2) & (dfn4_macro_nonfused_nonprobempi.GLB_T/dfn4_macro_nonfused_nonprobempi.LOC_T == 7) & (dfn4_macro_nonfused_nonprobempi.GLB_X/dfn4_macro_nonfused_nonprobempi.LOC_X == 2) & (dfn4_macro_nonfused_nonprobempi.GLB_Y/dfn4_macro_nonfused_nonprobempi.LOC_Y == 2)& (dfn4_macro_nonfused_nonprobempi.GLB_Z/dfn4_macro_nonfused_nonprobempi.LOC_Z == 2)]\n",
    "dfn4MacNonFusNonProb_64mpi_2omp = dfn4_macro_nonfused_nonprobempi[(dfn4_macro_nonfused_nonprobempi.omp_thrd == 2) & (dfn4_macro_nonfused_nonprobempi.GLB_T/dfn4_macro_nonfused_nonprobempi.LOC_T == 8) & (dfn4_macro_nonfused_nonprobempi.GLB_X/dfn4_macro_nonfused_nonprobempi.LOC_X == 2) & (dfn4_macro_nonfused_nonprobempi.GLB_Y/dfn4_macro_nonfused_nonprobempi.LOC_Y == 2)& (dfn4_macro_nonfused_nonprobempi.GLB_Z/dfn4_macro_nonfused_nonprobempi.LOC_Z == 2)]\n",
    "dfn4MacNonFusNonProb_112mpi_1omp = dfn4_macro_nonfused_nonprobempi[(dfn4_macro_nonfused_nonprobempi.omp_thrd == 1) & (dfn4_macro_nonfused_nonprobempi.GLB_T/dfn4_macro_nonfused_nonprobempi.LOC_T == 14) & (dfn4_macro_nonfused_nonprobempi.GLB_X/dfn4_macro_nonfused_nonprobempi.LOC_X == 2) & (dfn4_macro_nonfused_nonprobempi.GLB_Y/dfn4_macro_nonfused_nonprobempi.LOC_Y == 2)& (dfn4_macro_nonfused_nonprobempi.GLB_Z/dfn4_macro_nonfused_nonprobempi.LOC_Z == 2)]\n",
    "dfn4MacNonFusNonProb_128mpi_1omp = dfn4_macro_nonfused_nonprobempi[(dfn4_macro_nonfused_nonprobempi.omp_thrd == 1) & (dfn4_macro_nonfused_nonprobempi.GLB_T/dfn4_macro_nonfused_nonprobempi.LOC_T == 16) & (dfn4_macro_nonfused_nonprobempi.GLB_X/dfn4_macro_nonfused_nonprobempi.LOC_X == 2) & (dfn4_macro_nonfused_nonprobempi.GLB_Y/dfn4_macro_nonfused_nonprobempi.LOC_Y == 2)& (dfn4_macro_nonfused_nonprobempi.GLB_Z/dfn4_macro_nonfused_nonprobempi.LOC_Z == 2)]\n"
   ]
  },
  {
   "cell_type": "code",
   "execution_count": null,
   "id": "e887ab2c",
   "metadata": {},
   "outputs": [],
   "source": []
  },
  {
   "cell_type": "markdown",
   "id": "cf3c561e",
   "metadata": {},
   "source": [
    "# C. MACRO: Newgeo_NonProbempi"
   ]
  },
  {
   "cell_type": "markdown",
   "id": "28f5a518",
   "metadata": {},
   "source": [
    "## Node 1:"
   ]
  },
  {
   "cell_type": "code",
   "execution_count": 21,
   "id": "7333be61",
   "metadata": {},
   "outputs": [],
   "source": [
    "dfn1_macro_newgeo_nonprobempi[\"N_Nodes\"] = 1\n",
    "dfn1_macro_newgeo_nonprobempi['NPX'] = (dfn1_macro_newgeo_nonprobempi.GLB_X//dfn1_macro_newgeo_nonprobempi.LOC_X)\n",
    "dfn1_macro_newgeo_nonprobempi['NPY'] = (dfn1_macro_newgeo_nonprobempi.GLB_Y//dfn1_macro_newgeo_nonprobempi.LOC_Y)\n",
    "dfn1_macro_newgeo_nonprobempi['NPZ'] = (dfn1_macro_newgeo_nonprobempi.GLB_Z//dfn1_macro_newgeo_nonprobempi.LOC_Z)\n",
    "dfn1_macro_newgeo_nonprobempi['NPT'] = (dfn1_macro_newgeo_nonprobempi.GLB_T//dfn1_macro_newgeo_nonprobempi.LOC_T)\n",
    "dfn1_macro_newgeo_nonprobempi[\"Total_proc\"] = dfn1_macro_newgeo_nonprobempi[\"omp_thrd\"]* dfn1_macro_newgeo_nonprobempi.MPI_size\n",
    "# dfn1_macro_newgeo_nonprobempi.columns"
   ]
  },
  {
   "cell_type": "code",
   "execution_count": 22,
   "id": "3352dc32",
   "metadata": {},
   "outputs": [
    {
     "data": {
      "text/html": [
       "<div>\n",
       "<style scoped>\n",
       "    .dataframe tbody tr th:only-of-type {\n",
       "        vertical-align: middle;\n",
       "    }\n",
       "\n",
       "    .dataframe tbody tr th {\n",
       "        vertical-align: top;\n",
       "    }\n",
       "\n",
       "    .dataframe thead th {\n",
       "        text-align: right;\n",
       "    }\n",
       "</style>\n",
       "<table border=\"1\" class=\"dataframe\">\n",
       "  <thead>\n",
       "    <tr style=\"text-align: right;\">\n",
       "      <th></th>\n",
       "      <th>MPI_size</th>\n",
       "      <th>omp_thrd</th>\n",
       "      <th>NPT</th>\n",
       "      <th>NPX</th>\n",
       "      <th>NPY</th>\n",
       "      <th>NPZ</th>\n",
       "      <th>Total_proc</th>\n",
       "      <th>size</th>\n",
       "    </tr>\n",
       "  </thead>\n",
       "  <tbody>\n",
       "    <tr>\n",
       "      <th>0</th>\n",
       "      <td>8</td>\n",
       "      <td>4</td>\n",
       "      <td>1</td>\n",
       "      <td>2</td>\n",
       "      <td>2</td>\n",
       "      <td>2</td>\n",
       "      <td>32</td>\n",
       "      <td>15</td>\n",
       "    </tr>\n",
       "    <tr>\n",
       "      <th>1</th>\n",
       "      <td>16</td>\n",
       "      <td>2</td>\n",
       "      <td>2</td>\n",
       "      <td>2</td>\n",
       "      <td>2</td>\n",
       "      <td>2</td>\n",
       "      <td>32</td>\n",
       "      <td>13</td>\n",
       "    </tr>\n",
       "    <tr>\n",
       "      <th>2</th>\n",
       "      <td>32</td>\n",
       "      <td>1</td>\n",
       "      <td>4</td>\n",
       "      <td>2</td>\n",
       "      <td>2</td>\n",
       "      <td>2</td>\n",
       "      <td>32</td>\n",
       "      <td>5</td>\n",
       "    </tr>\n",
       "  </tbody>\n",
       "</table>\n",
       "</div>"
      ],
      "text/plain": [
       "   MPI_size  omp_thrd  NPT  NPX  NPY  NPZ  Total_proc  size\n",
       "0         8         4    1    2    2    2          32    15\n",
       "1        16         2    2    2    2    2          32    13\n",
       "2        32         1    4    2    2    2          32     5"
      ]
     },
     "execution_count": 22,
     "metadata": {},
     "output_type": "execute_result"
    }
   ],
   "source": [
    "dfn1_macro_newgeo_nonprobempi_summary = dfn1_macro_newgeo_nonprobempi.groupby(['MPI_size','omp_thrd','NPT','NPX', 'NPY', 'NPZ',\"Total_proc\"]).size().reset_index(name = 'size')\n",
    "dfn1_macro_newgeo_nonprobempi_summary"
   ]
  },
  {
   "cell_type": "code",
   "execution_count": 23,
   "id": "efc8b186",
   "metadata": {},
   "outputs": [],
   "source": [
    "dfn1MacNewgeoNonProb_8mpi_4omp = dfn1_macro_newgeo_nonprobempi[(dfn1_macro_newgeo_nonprobempi.omp_thrd == 4) & (dfn1_macro_newgeo_nonprobempi.GLB_T/dfn1_macro_newgeo_nonprobempi.LOC_T == 1) & (dfn1_macro_newgeo_nonprobempi.GLB_X/dfn1_macro_newgeo_nonprobempi.LOC_X == 2) & (dfn1_macro_newgeo_nonprobempi.GLB_Y/dfn1_macro_newgeo_nonprobempi.LOC_Y == 2)& (dfn1_macro_newgeo_nonprobempi.GLB_Z/dfn1_macro_newgeo_nonprobempi.LOC_Z == 2)]\n",
    "dfn1MacNewgeoNonProb_16mpi_2omp = dfn1_macro_newgeo_nonprobempi[(dfn1_macro_newgeo_nonprobempi.omp_thrd == 2) & (dfn1_macro_newgeo_nonprobempi.GLB_T/dfn1_macro_newgeo_nonprobempi.LOC_T == 2) & (dfn1_macro_newgeo_nonprobempi.GLB_X/dfn1_macro_newgeo_nonprobempi.LOC_X == 2) & (dfn1_macro_newgeo_nonprobempi.GLB_Y/dfn1_macro_newgeo_nonprobempi.LOC_Y == 2)& (dfn1_macro_newgeo_nonprobempi.GLB_Z/dfn1_macro_newgeo_nonprobempi.LOC_Z == 2)]\n",
    "dfn1MacNewgeoNonProb_32mpi_1omp = dfn1_macro_newgeo_nonprobempi[(dfn1_macro_newgeo_nonprobempi.omp_thrd == 1) & (dfn1_macro_newgeo_nonprobempi.GLB_T/dfn1_macro_newgeo_nonprobempi.LOC_T == 4) & (dfn1_macro_newgeo_nonprobempi.GLB_X/dfn1_macro_newgeo_nonprobempi.LOC_X == 2) & (dfn1_macro_newgeo_nonprobempi.GLB_Y/dfn1_macro_newgeo_nonprobempi.LOC_Y == 2)& (dfn1_macro_newgeo_nonprobempi.GLB_Z/dfn1_macro_newgeo_nonprobempi.LOC_Z == 2)]\n"
   ]
  },
  {
   "cell_type": "code",
   "execution_count": null,
   "id": "27e765fc",
   "metadata": {},
   "outputs": [],
   "source": []
  },
  {
   "cell_type": "markdown",
   "id": "b358571b",
   "metadata": {},
   "source": [
    "## Node 2: "
   ]
  },
  {
   "cell_type": "code",
   "execution_count": 24,
   "id": "cee04489",
   "metadata": {},
   "outputs": [],
   "source": [
    "dfn2_macro_newgeo_nonprobempi[\"N_Nodes\"] = 2\n",
    "dfn2_macro_newgeo_nonprobempi['NPX'] = (dfn2_macro_newgeo_nonprobempi.GLB_X//dfn2_macro_newgeo_nonprobempi.LOC_X)\n",
    "dfn2_macro_newgeo_nonprobempi['NPY'] = (dfn2_macro_newgeo_nonprobempi.GLB_Y//dfn2_macro_newgeo_nonprobempi.LOC_Y)\n",
    "dfn2_macro_newgeo_nonprobempi['NPZ'] = (dfn2_macro_newgeo_nonprobempi.GLB_Z//dfn2_macro_newgeo_nonprobempi.LOC_Z)\n",
    "dfn2_macro_newgeo_nonprobempi['NPT'] = (dfn2_macro_newgeo_nonprobempi.GLB_T//dfn2_macro_newgeo_nonprobempi.LOC_T)\n",
    "dfn2_macro_newgeo_nonprobempi[\"Total_proc\"] = dfn2_macro_newgeo_nonprobempi[\"omp_thrd\"]* dfn2_macro_newgeo_nonprobempi.MPI_size\n",
    "# dfn2_macro_newgeo_nonprobempi.columns"
   ]
  },
  {
   "cell_type": "code",
   "execution_count": 25,
   "id": "768405ec",
   "metadata": {},
   "outputs": [
    {
     "data": {
      "text/html": [
       "<div>\n",
       "<style scoped>\n",
       "    .dataframe tbody tr th:only-of-type {\n",
       "        vertical-align: middle;\n",
       "    }\n",
       "\n",
       "    .dataframe tbody tr th {\n",
       "        vertical-align: top;\n",
       "    }\n",
       "\n",
       "    .dataframe thead th {\n",
       "        text-align: right;\n",
       "    }\n",
       "</style>\n",
       "<table border=\"1\" class=\"dataframe\">\n",
       "  <thead>\n",
       "    <tr style=\"text-align: right;\">\n",
       "      <th></th>\n",
       "      <th>MPI_size</th>\n",
       "      <th>omp_thrd</th>\n",
       "      <th>NPT</th>\n",
       "      <th>NPX</th>\n",
       "      <th>NPY</th>\n",
       "      <th>NPZ</th>\n",
       "      <th>Total_proc</th>\n",
       "      <th>size</th>\n",
       "    </tr>\n",
       "  </thead>\n",
       "  <tbody>\n",
       "    <tr>\n",
       "      <th>0</th>\n",
       "      <td>16</td>\n",
       "      <td>4</td>\n",
       "      <td>2</td>\n",
       "      <td>2</td>\n",
       "      <td>2</td>\n",
       "      <td>2</td>\n",
       "      <td>64</td>\n",
       "      <td>29</td>\n",
       "    </tr>\n",
       "    <tr>\n",
       "      <th>1</th>\n",
       "      <td>32</td>\n",
       "      <td>2</td>\n",
       "      <td>4</td>\n",
       "      <td>2</td>\n",
       "      <td>2</td>\n",
       "      <td>2</td>\n",
       "      <td>64</td>\n",
       "      <td>13</td>\n",
       "    </tr>\n",
       "    <tr>\n",
       "      <th>2</th>\n",
       "      <td>56</td>\n",
       "      <td>1</td>\n",
       "      <td>7</td>\n",
       "      <td>2</td>\n",
       "      <td>2</td>\n",
       "      <td>2</td>\n",
       "      <td>56</td>\n",
       "      <td>3</td>\n",
       "    </tr>\n",
       "    <tr>\n",
       "      <th>3</th>\n",
       "      <td>64</td>\n",
       "      <td>1</td>\n",
       "      <td>8</td>\n",
       "      <td>2</td>\n",
       "      <td>2</td>\n",
       "      <td>2</td>\n",
       "      <td>64</td>\n",
       "      <td>5</td>\n",
       "    </tr>\n",
       "  </tbody>\n",
       "</table>\n",
       "</div>"
      ],
      "text/plain": [
       "   MPI_size  omp_thrd  NPT  NPX  NPY  NPZ  Total_proc  size\n",
       "0        16         4    2    2    2    2          64    29\n",
       "1        32         2    4    2    2    2          64    13\n",
       "2        56         1    7    2    2    2          56     3\n",
       "3        64         1    8    2    2    2          64     5"
      ]
     },
     "execution_count": 25,
     "metadata": {},
     "output_type": "execute_result"
    }
   ],
   "source": [
    "dfn2_macro_newgeo_nonprobempi_summary = dfn2_macro_newgeo_nonprobempi.groupby(['MPI_size','omp_thrd','NPT','NPX', 'NPY', 'NPZ',\"Total_proc\"]).size().reset_index(name = 'size')\n",
    "dfn2_macro_newgeo_nonprobempi_summary"
   ]
  },
  {
   "cell_type": "code",
   "execution_count": 26,
   "id": "f9fecac0",
   "metadata": {},
   "outputs": [],
   "source": [
    "dfn2MacNewgeoNonProb_16mpi_4omp = dfn2_macro_newgeo_nonprobempi[(dfn2_macro_newgeo_nonprobempi.omp_thrd == 4) & (dfn2_macro_newgeo_nonprobempi.GLB_T/dfn2_macro_newgeo_nonprobempi.LOC_T == 2) & (dfn2_macro_newgeo_nonprobempi.GLB_X/dfn2_macro_newgeo_nonprobempi.LOC_X == 2) & (dfn2_macro_newgeo_nonprobempi.GLB_Y/dfn2_macro_newgeo_nonprobempi.LOC_Y == 2)& (dfn2_macro_newgeo_nonprobempi.GLB_Z/dfn2_macro_newgeo_nonprobempi.LOC_Z == 2)]\n",
    "dfn2MacNewgeoNonProb_32mpi_2omp = dfn2_macro_newgeo_nonprobempi[(dfn2_macro_newgeo_nonprobempi.omp_thrd == 2) & (dfn2_macro_newgeo_nonprobempi.GLB_T/dfn2_macro_newgeo_nonprobempi.LOC_T == 4) & (dfn2_macro_newgeo_nonprobempi.GLB_X/dfn2_macro_newgeo_nonprobempi.LOC_X == 2) & (dfn2_macro_newgeo_nonprobempi.GLB_Y/dfn2_macro_newgeo_nonprobempi.LOC_Y == 2)& (dfn2_macro_newgeo_nonprobempi.GLB_Z/dfn2_macro_newgeo_nonprobempi.LOC_Z == 2)]\n",
    "dfn2MacNewgeoNonProb_56mpi_1omp = dfn2_macro_newgeo_nonprobempi[(dfn2_macro_newgeo_nonprobempi.omp_thrd == 1) & (dfn2_macro_newgeo_nonprobempi.GLB_T/dfn2_macro_newgeo_nonprobempi.LOC_T == 7) & (dfn2_macro_newgeo_nonprobempi.GLB_X/dfn2_macro_newgeo_nonprobempi.LOC_X == 2) & (dfn2_macro_newgeo_nonprobempi.GLB_Y/dfn2_macro_newgeo_nonprobempi.LOC_Y == 2)& (dfn2_macro_newgeo_nonprobempi.GLB_Z/dfn2_macro_newgeo_nonprobempi.LOC_Z == 2)]\n",
    "dfn2MacNewgeoNonProb_64mpi_1omp = dfn2_macro_newgeo_nonprobempi[(dfn2_macro_newgeo_nonprobempi.omp_thrd == 1) & (dfn2_macro_newgeo_nonprobempi.GLB_T/dfn2_macro_newgeo_nonprobempi.LOC_T == 8) & (dfn2_macro_newgeo_nonprobempi.GLB_X/dfn2_macro_newgeo_nonprobempi.LOC_X == 2) & (dfn2_macro_newgeo_nonprobempi.GLB_Y/dfn2_macro_newgeo_nonprobempi.LOC_Y == 2)& (dfn2_macro_newgeo_nonprobempi.GLB_Z/dfn2_macro_newgeo_nonprobempi.LOC_Z == 2)]\n"
   ]
  },
  {
   "cell_type": "code",
   "execution_count": null,
   "id": "7569ed74",
   "metadata": {},
   "outputs": [],
   "source": []
  },
  {
   "cell_type": "markdown",
   "id": "6a3522b3",
   "metadata": {},
   "source": [
    "## Node 4: "
   ]
  },
  {
   "cell_type": "code",
   "execution_count": 27,
   "id": "e77ef66d",
   "metadata": {},
   "outputs": [],
   "source": [
    "dfn4_macro_newgeo_nonprobempi[\"N_Nodes\"] = 4\n",
    "dfn4_macro_newgeo_nonprobempi['NPX'] = (dfn4_macro_newgeo_nonprobempi.GLB_X//dfn4_macro_newgeo_nonprobempi.LOC_X)\n",
    "dfn4_macro_newgeo_nonprobempi['NPY'] = (dfn4_macro_newgeo_nonprobempi.GLB_Y//dfn4_macro_newgeo_nonprobempi.LOC_Y)\n",
    "dfn4_macro_newgeo_nonprobempi['NPZ'] = (dfn4_macro_newgeo_nonprobempi.GLB_Z//dfn4_macro_newgeo_nonprobempi.LOC_Z)\n",
    "dfn4_macro_newgeo_nonprobempi['NPT'] = (dfn4_macro_newgeo_nonprobempi.GLB_T//dfn4_macro_newgeo_nonprobempi.LOC_T)\n",
    "dfn4_macro_newgeo_nonprobempi[\"Total_proc\"] = dfn4_macro_newgeo_nonprobempi[\"omp_thrd\"]* dfn4_macro_newgeo_nonprobempi.MPI_size\n",
    "# dfn4_macro_newgeo_nonprobempi.columns"
   ]
  },
  {
   "cell_type": "code",
   "execution_count": 28,
   "id": "0e7d97b8",
   "metadata": {},
   "outputs": [
    {
     "data": {
      "text/html": [
       "<div>\n",
       "<style scoped>\n",
       "    .dataframe tbody tr th:only-of-type {\n",
       "        vertical-align: middle;\n",
       "    }\n",
       "\n",
       "    .dataframe tbody tr th {\n",
       "        vertical-align: top;\n",
       "    }\n",
       "\n",
       "    .dataframe thead th {\n",
       "        text-align: right;\n",
       "    }\n",
       "</style>\n",
       "<table border=\"1\" class=\"dataframe\">\n",
       "  <thead>\n",
       "    <tr style=\"text-align: right;\">\n",
       "      <th></th>\n",
       "      <th>MPI_size</th>\n",
       "      <th>omp_thrd</th>\n",
       "      <th>NPT</th>\n",
       "      <th>NPX</th>\n",
       "      <th>NPY</th>\n",
       "      <th>NPZ</th>\n",
       "      <th>Total_proc</th>\n",
       "      <th>size</th>\n",
       "    </tr>\n",
       "  </thead>\n",
       "  <tbody>\n",
       "    <tr>\n",
       "      <th>0</th>\n",
       "      <td>32</td>\n",
       "      <td>4</td>\n",
       "      <td>4</td>\n",
       "      <td>2</td>\n",
       "      <td>2</td>\n",
       "      <td>2</td>\n",
       "      <td>128</td>\n",
       "      <td>29</td>\n",
       "    </tr>\n",
       "    <tr>\n",
       "      <th>1</th>\n",
       "      <td>40</td>\n",
       "      <td>3</td>\n",
       "      <td>5</td>\n",
       "      <td>2</td>\n",
       "      <td>2</td>\n",
       "      <td>2</td>\n",
       "      <td>120</td>\n",
       "      <td>11</td>\n",
       "    </tr>\n",
       "    <tr>\n",
       "      <th>2</th>\n",
       "      <td>56</td>\n",
       "      <td>2</td>\n",
       "      <td>7</td>\n",
       "      <td>2</td>\n",
       "      <td>2</td>\n",
       "      <td>2</td>\n",
       "      <td>112</td>\n",
       "      <td>8</td>\n",
       "    </tr>\n",
       "    <tr>\n",
       "      <th>3</th>\n",
       "      <td>64</td>\n",
       "      <td>2</td>\n",
       "      <td>8</td>\n",
       "      <td>2</td>\n",
       "      <td>2</td>\n",
       "      <td>2</td>\n",
       "      <td>128</td>\n",
       "      <td>13</td>\n",
       "    </tr>\n",
       "    <tr>\n",
       "      <th>4</th>\n",
       "      <td>104</td>\n",
       "      <td>1</td>\n",
       "      <td>13</td>\n",
       "      <td>2</td>\n",
       "      <td>2</td>\n",
       "      <td>2</td>\n",
       "      <td>104</td>\n",
       "      <td>3</td>\n",
       "    </tr>\n",
       "    <tr>\n",
       "      <th>5</th>\n",
       "      <td>112</td>\n",
       "      <td>1</td>\n",
       "      <td>14</td>\n",
       "      <td>2</td>\n",
       "      <td>2</td>\n",
       "      <td>2</td>\n",
       "      <td>112</td>\n",
       "      <td>6</td>\n",
       "    </tr>\n",
       "    <tr>\n",
       "      <th>6</th>\n",
       "      <td>120</td>\n",
       "      <td>1</td>\n",
       "      <td>15</td>\n",
       "      <td>2</td>\n",
       "      <td>2</td>\n",
       "      <td>2</td>\n",
       "      <td>120</td>\n",
       "      <td>3</td>\n",
       "    </tr>\n",
       "    <tr>\n",
       "      <th>7</th>\n",
       "      <td>128</td>\n",
       "      <td>1</td>\n",
       "      <td>16</td>\n",
       "      <td>2</td>\n",
       "      <td>2</td>\n",
       "      <td>2</td>\n",
       "      <td>128</td>\n",
       "      <td>5</td>\n",
       "    </tr>\n",
       "  </tbody>\n",
       "</table>\n",
       "</div>"
      ],
      "text/plain": [
       "   MPI_size  omp_thrd  NPT  NPX  NPY  NPZ  Total_proc  size\n",
       "0        32         4    4    2    2    2         128    29\n",
       "1        40         3    5    2    2    2         120    11\n",
       "2        56         2    7    2    2    2         112     8\n",
       "3        64         2    8    2    2    2         128    13\n",
       "4       104         1   13    2    2    2         104     3\n",
       "5       112         1   14    2    2    2         112     6\n",
       "6       120         1   15    2    2    2         120     3\n",
       "7       128         1   16    2    2    2         128     5"
      ]
     },
     "execution_count": 28,
     "metadata": {},
     "output_type": "execute_result"
    }
   ],
   "source": [
    "dfn4_macro_newgeo_nonprobempi_summary = dfn4_macro_newgeo_nonprobempi.groupby(['MPI_size','omp_thrd','NPT','NPX', 'NPY', 'NPZ',\"Total_proc\"]).size().reset_index(name = 'size')\n",
    "dfn4_macro_newgeo_nonprobempi_summary"
   ]
  },
  {
   "cell_type": "code",
   "execution_count": 29,
   "id": "15a113fe",
   "metadata": {},
   "outputs": [],
   "source": [
    "dfn4MacNewgeoNonProb_32mpi_4omp = dfn4_macro_newgeo_nonprobempi[(dfn4_macro_newgeo_nonprobempi.omp_thrd == 4) & (dfn4_macro_newgeo_nonprobempi.GLB_T/dfn4_macro_newgeo_nonprobempi.LOC_T == 4) & (dfn4_macro_newgeo_nonprobempi.GLB_X/dfn4_macro_newgeo_nonprobempi.LOC_X == 2) & (dfn4_macro_newgeo_nonprobempi.GLB_Y/dfn4_macro_newgeo_nonprobempi.LOC_Y == 2)& (dfn4_macro_newgeo_nonprobempi.GLB_Z/dfn4_macro_newgeo_nonprobempi.LOC_Z == 2)]\n",
    "dfn4MacNewgeoNonProb_40mpi_3omp = dfn4_macro_newgeo_nonprobempi[(dfn4_macro_newgeo_nonprobempi.omp_thrd == 3) & (dfn4_macro_newgeo_nonprobempi.GLB_T/dfn4_macro_newgeo_nonprobempi.LOC_T == 5) & (dfn4_macro_newgeo_nonprobempi.GLB_X/dfn4_macro_newgeo_nonprobempi.LOC_X == 2) & (dfn4_macro_newgeo_nonprobempi.GLB_Y/dfn4_macro_newgeo_nonprobempi.LOC_Y == 2)& (dfn4_macro_newgeo_nonprobempi.GLB_Z/dfn4_macro_newgeo_nonprobempi.LOC_Z == 2)]\n",
    "dfn4MacNewgeoNonProb_56mpi_2omp = dfn4_macro_newgeo_nonprobempi[(dfn4_macro_newgeo_nonprobempi.omp_thrd == 2) & (dfn4_macro_newgeo_nonprobempi.GLB_T/dfn4_macro_newgeo_nonprobempi.LOC_T == 7) & (dfn4_macro_newgeo_nonprobempi.GLB_X/dfn4_macro_newgeo_nonprobempi.LOC_X == 2) & (dfn4_macro_newgeo_nonprobempi.GLB_Y/dfn4_macro_newgeo_nonprobempi.LOC_Y == 2)& (dfn4_macro_newgeo_nonprobempi.GLB_Z/dfn4_macro_newgeo_nonprobempi.LOC_Z == 2)]\n",
    "dfn4MacNewgeoNonProb_64mpi_2omp = dfn4_macro_newgeo_nonprobempi[(dfn4_macro_newgeo_nonprobempi.omp_thrd == 2) & (dfn4_macro_newgeo_nonprobempi.GLB_T/dfn4_macro_newgeo_nonprobempi.LOC_T == 8) & (dfn4_macro_newgeo_nonprobempi.GLB_X/dfn4_macro_newgeo_nonprobempi.LOC_X == 2) & (dfn4_macro_newgeo_nonprobempi.GLB_Y/dfn4_macro_newgeo_nonprobempi.LOC_Y == 2)& (dfn4_macro_newgeo_nonprobempi.GLB_Z/dfn4_macro_newgeo_nonprobempi.LOC_Z == 2)]\n",
    "dfn4MacNewgeoNonProb_112mpi_1omp = dfn4_macro_newgeo_nonprobempi[(dfn4_macro_newgeo_nonprobempi.omp_thrd == 1) & (dfn4_macro_newgeo_nonprobempi.GLB_T/dfn4_macro_newgeo_nonprobempi.LOC_T == 14) & (dfn4_macro_newgeo_nonprobempi.GLB_X/dfn4_macro_newgeo_nonprobempi.LOC_X == 2) & (dfn4_macro_newgeo_nonprobempi.GLB_Y/dfn4_macro_newgeo_nonprobempi.LOC_Y == 2)& (dfn4_macro_newgeo_nonprobempi.GLB_Z/dfn4_macro_newgeo_nonprobempi.LOC_Z == 2)]\n",
    "dfn4MacNewgeoNonProb_128mpi_1omp = dfn4_macro_newgeo_nonprobempi[(dfn4_macro_newgeo_nonprobempi.omp_thrd == 1) & (dfn4_macro_newgeo_nonprobempi.GLB_T/dfn4_macro_newgeo_nonprobempi.LOC_T == 16) & (dfn4_macro_newgeo_nonprobempi.GLB_X/dfn4_macro_newgeo_nonprobempi.LOC_X == 2) & (dfn4_macro_newgeo_nonprobempi.GLB_Y/dfn4_macro_newgeo_nonprobempi.LOC_Y == 2)& (dfn4_macro_newgeo_nonprobempi.GLB_Z/dfn4_macro_newgeo_nonprobempi.LOC_Z == 2)]\n"
   ]
  },
  {
   "cell_type": "code",
   "execution_count": null,
   "id": "cd83e180",
   "metadata": {},
   "outputs": [],
   "source": []
  },
  {
   "cell_type": "markdown",
   "id": "4f633594",
   "metadata": {},
   "source": [
    "# AVX "
   ]
  },
  {
   "cell_type": "markdown",
   "id": "f99f36ee",
   "metadata": {},
   "source": [
    "# D. AVX: Fused_NonProbempi"
   ]
  },
  {
   "cell_type": "markdown",
   "id": "e30d2fb3",
   "metadata": {},
   "source": [
    "## Node 1: AVX_fused_nonprobempi"
   ]
  },
  {
   "cell_type": "code",
   "execution_count": 30,
   "id": "830a800a",
   "metadata": {},
   "outputs": [],
   "source": [
    "dfn1_avx_fused_nonprobmpi[\"N_Nodes\"] = 1\n",
    "dfn1_avx_fused_nonprobmpi['NPX'] = (dfn1_avx_fused_nonprobmpi.GLB_X//dfn1_avx_fused_nonprobmpi.LOC_X)\n",
    "dfn1_avx_fused_nonprobmpi['NPY'] = (dfn1_avx_fused_nonprobmpi.GLB_Y//dfn1_avx_fused_nonprobmpi.LOC_Y)\n",
    "dfn1_avx_fused_nonprobmpi['NPZ'] = (dfn1_avx_fused_nonprobmpi.GLB_Z//dfn1_avx_fused_nonprobmpi.LOC_Z)\n",
    "dfn1_avx_fused_nonprobmpi['NPT'] = (dfn1_avx_fused_nonprobmpi.GLB_T//dfn1_avx_fused_nonprobmpi.LOC_T)\n",
    "dfn1_avx_fused_nonprobmpi[\"Total_proc\"] = dfn1_avx_fused_nonprobmpi[\"omp_thrd\"]* dfn1_avx_fused_nonprobmpi.MPI_size\n",
    "# dfn1_avx_fused_nonprobmpi.columns"
   ]
  },
  {
   "cell_type": "code",
   "execution_count": 31,
   "id": "794095f3",
   "metadata": {},
   "outputs": [
    {
     "data": {
      "text/html": [
       "<div>\n",
       "<style scoped>\n",
       "    .dataframe tbody tr th:only-of-type {\n",
       "        vertical-align: middle;\n",
       "    }\n",
       "\n",
       "    .dataframe tbody tr th {\n",
       "        vertical-align: top;\n",
       "    }\n",
       "\n",
       "    .dataframe thead th {\n",
       "        text-align: right;\n",
       "    }\n",
       "</style>\n",
       "<table border=\"1\" class=\"dataframe\">\n",
       "  <thead>\n",
       "    <tr style=\"text-align: right;\">\n",
       "      <th></th>\n",
       "      <th>MPI_size</th>\n",
       "      <th>omp_thrd</th>\n",
       "      <th>NPT</th>\n",
       "      <th>NPX</th>\n",
       "      <th>NPY</th>\n",
       "      <th>NPZ</th>\n",
       "      <th>Total_proc</th>\n",
       "      <th>size</th>\n",
       "    </tr>\n",
       "  </thead>\n",
       "  <tbody>\n",
       "    <tr>\n",
       "      <th>0</th>\n",
       "      <td>8</td>\n",
       "      <td>4</td>\n",
       "      <td>1</td>\n",
       "      <td>2</td>\n",
       "      <td>2</td>\n",
       "      <td>2</td>\n",
       "      <td>32</td>\n",
       "      <td>15</td>\n",
       "    </tr>\n",
       "    <tr>\n",
       "      <th>1</th>\n",
       "      <td>16</td>\n",
       "      <td>2</td>\n",
       "      <td>2</td>\n",
       "      <td>2</td>\n",
       "      <td>2</td>\n",
       "      <td>2</td>\n",
       "      <td>32</td>\n",
       "      <td>13</td>\n",
       "    </tr>\n",
       "    <tr>\n",
       "      <th>2</th>\n",
       "      <td>32</td>\n",
       "      <td>1</td>\n",
       "      <td>4</td>\n",
       "      <td>2</td>\n",
       "      <td>2</td>\n",
       "      <td>2</td>\n",
       "      <td>32</td>\n",
       "      <td>5</td>\n",
       "    </tr>\n",
       "  </tbody>\n",
       "</table>\n",
       "</div>"
      ],
      "text/plain": [
       "   MPI_size  omp_thrd  NPT  NPX  NPY  NPZ  Total_proc  size\n",
       "0         8         4    1    2    2    2          32    15\n",
       "1        16         2    2    2    2    2          32    13\n",
       "2        32         1    4    2    2    2          32     5"
      ]
     },
     "execution_count": 31,
     "metadata": {},
     "output_type": "execute_result"
    }
   ],
   "source": [
    "dfn1_avx_fused_nonprobmpi_summary = dfn1_avx_fused_nonprobmpi.groupby(['MPI_size','omp_thrd','NPT','NPX', 'NPY', 'NPZ',\"Total_proc\"]).size().reset_index(name = 'size')\n",
    "dfn1_avx_fused_nonprobmpi_summary"
   ]
  },
  {
   "cell_type": "code",
   "execution_count": 32,
   "id": "3e8bb833",
   "metadata": {},
   "outputs": [],
   "source": [
    "dfn1AvxFusNonProb_8mpi_4omp = dfn1_avx_fused_nonprobmpi[(dfn1_avx_fused_nonprobmpi.omp_thrd == 4) & (dfn1_avx_fused_nonprobmpi.GLB_T/dfn1_avx_fused_nonprobmpi.LOC_T == 1) & (dfn1_avx_fused_nonprobmpi.GLB_X/dfn1_avx_fused_nonprobmpi.LOC_X == 2) & (dfn1_avx_fused_nonprobmpi.GLB_Y/dfn1_avx_fused_nonprobmpi.LOC_Y == 2)& (dfn1_avx_fused_nonprobmpi.GLB_Z/dfn1_avx_fused_nonprobmpi.LOC_Z == 2)]\n",
    "dfn1AvxFusNonProb_16mpi_2omp = dfn1_avx_fused_nonprobmpi[(dfn1_avx_fused_nonprobmpi.omp_thrd == 2) & (dfn1_avx_fused_nonprobmpi.GLB_T/dfn1_avx_fused_nonprobmpi.LOC_T == 2) & (dfn1_avx_fused_nonprobmpi.GLB_X/dfn1_avx_fused_nonprobmpi.LOC_X == 2) & (dfn1_avx_fused_nonprobmpi.GLB_Y/dfn1_avx_fused_nonprobmpi.LOC_Y == 2)& (dfn1_avx_fused_nonprobmpi.GLB_Z/dfn1_avx_fused_nonprobmpi.LOC_Z == 2)]\n",
    "dfn1AvxFusNonProb_32mpi_1omp = dfn1_avx_fused_nonprobmpi[(dfn1_avx_fused_nonprobmpi.omp_thrd == 1) & (dfn1_avx_fused_nonprobmpi.GLB_T/dfn1_avx_fused_nonprobmpi.LOC_T == 4) & (dfn1_avx_fused_nonprobmpi.GLB_X/dfn1_avx_fused_nonprobmpi.LOC_X == 2) & (dfn1_avx_fused_nonprobmpi.GLB_Y/dfn1_avx_fused_nonprobmpi.LOC_Y == 2)& (dfn1_avx_fused_nonprobmpi.GLB_Z/dfn1_avx_fused_nonprobmpi.LOC_Z == 2)]\n"
   ]
  },
  {
   "cell_type": "code",
   "execution_count": null,
   "id": "dff2dae3",
   "metadata": {},
   "outputs": [],
   "source": []
  },
  {
   "cell_type": "code",
   "execution_count": null,
   "id": "c055a7fb",
   "metadata": {},
   "outputs": [],
   "source": []
  },
  {
   "cell_type": "markdown",
   "id": "0faf9b18",
   "metadata": {},
   "source": [
    "## Node 2: AVX_fused_nonprobempi"
   ]
  },
  {
   "cell_type": "code",
   "execution_count": 33,
   "id": "a7cb6fa1",
   "metadata": {},
   "outputs": [],
   "source": [
    "dfn2_avx_fused_nonprobmpi[\"N_Nodes\"] = 2\n",
    "dfn2_avx_fused_nonprobmpi['NPX'] = (dfn2_avx_fused_nonprobmpi.GLB_X//dfn2_avx_fused_nonprobmpi.LOC_X)\n",
    "dfn2_avx_fused_nonprobmpi['NPY'] = (dfn2_avx_fused_nonprobmpi.GLB_Y//dfn2_avx_fused_nonprobmpi.LOC_Y)\n",
    "dfn2_avx_fused_nonprobmpi['NPZ'] = (dfn2_avx_fused_nonprobmpi.GLB_Z//dfn2_avx_fused_nonprobmpi.LOC_Z)\n",
    "dfn2_avx_fused_nonprobmpi['NPT'] = (dfn2_avx_fused_nonprobmpi.GLB_T//dfn2_avx_fused_nonprobmpi.LOC_T)\n",
    "dfn2_avx_fused_nonprobmpi[\"Total_proc\"] = dfn2_avx_fused_nonprobmpi[\"omp_thrd\"]* dfn2_avx_fused_nonprobmpi.MPI_size\n",
    "# dfn2_avx_fused_nonprobmpi.columns"
   ]
  },
  {
   "cell_type": "code",
   "execution_count": 34,
   "id": "fa4e2655",
   "metadata": {},
   "outputs": [
    {
     "data": {
      "text/html": [
       "<div>\n",
       "<style scoped>\n",
       "    .dataframe tbody tr th:only-of-type {\n",
       "        vertical-align: middle;\n",
       "    }\n",
       "\n",
       "    .dataframe tbody tr th {\n",
       "        vertical-align: top;\n",
       "    }\n",
       "\n",
       "    .dataframe thead th {\n",
       "        text-align: right;\n",
       "    }\n",
       "</style>\n",
       "<table border=\"1\" class=\"dataframe\">\n",
       "  <thead>\n",
       "    <tr style=\"text-align: right;\">\n",
       "      <th></th>\n",
       "      <th>MPI_size</th>\n",
       "      <th>omp_thrd</th>\n",
       "      <th>NPT</th>\n",
       "      <th>NPX</th>\n",
       "      <th>NPY</th>\n",
       "      <th>NPZ</th>\n",
       "      <th>Total_proc</th>\n",
       "      <th>size</th>\n",
       "    </tr>\n",
       "  </thead>\n",
       "  <tbody>\n",
       "    <tr>\n",
       "      <th>0</th>\n",
       "      <td>16</td>\n",
       "      <td>4</td>\n",
       "      <td>2</td>\n",
       "      <td>2</td>\n",
       "      <td>2</td>\n",
       "      <td>2</td>\n",
       "      <td>64</td>\n",
       "      <td>29</td>\n",
       "    </tr>\n",
       "    <tr>\n",
       "      <th>1</th>\n",
       "      <td>32</td>\n",
       "      <td>2</td>\n",
       "      <td>4</td>\n",
       "      <td>2</td>\n",
       "      <td>2</td>\n",
       "      <td>2</td>\n",
       "      <td>64</td>\n",
       "      <td>13</td>\n",
       "    </tr>\n",
       "    <tr>\n",
       "      <th>2</th>\n",
       "      <td>56</td>\n",
       "      <td>1</td>\n",
       "      <td>7</td>\n",
       "      <td>2</td>\n",
       "      <td>2</td>\n",
       "      <td>2</td>\n",
       "      <td>56</td>\n",
       "      <td>3</td>\n",
       "    </tr>\n",
       "    <tr>\n",
       "      <th>3</th>\n",
       "      <td>64</td>\n",
       "      <td>1</td>\n",
       "      <td>8</td>\n",
       "      <td>2</td>\n",
       "      <td>2</td>\n",
       "      <td>2</td>\n",
       "      <td>64</td>\n",
       "      <td>5</td>\n",
       "    </tr>\n",
       "  </tbody>\n",
       "</table>\n",
       "</div>"
      ],
      "text/plain": [
       "   MPI_size  omp_thrd  NPT  NPX  NPY  NPZ  Total_proc  size\n",
       "0        16         4    2    2    2    2          64    29\n",
       "1        32         2    4    2    2    2          64    13\n",
       "2        56         1    7    2    2    2          56     3\n",
       "3        64         1    8    2    2    2          64     5"
      ]
     },
     "execution_count": 34,
     "metadata": {},
     "output_type": "execute_result"
    }
   ],
   "source": [
    "dfn2_avx_fused_nonprobmpi_summary = dfn2_avx_fused_nonprobmpi.groupby(['MPI_size','omp_thrd','NPT','NPX', 'NPY', 'NPZ',\"Total_proc\"]).size().reset_index(name = 'size')\n",
    "dfn2_avx_fused_nonprobmpi_summary"
   ]
  },
  {
   "cell_type": "code",
   "execution_count": 35,
   "id": "f7480b58",
   "metadata": {},
   "outputs": [],
   "source": [
    "dfn2AvxFusNonProb_16mpi_4omp = dfn2_avx_fused_nonprobmpi[(dfn2_avx_fused_nonprobmpi.omp_thrd == 4) & (dfn2_avx_fused_nonprobmpi.GLB_T/dfn2_avx_fused_nonprobmpi.LOC_T == 2) & (dfn2_avx_fused_nonprobmpi.GLB_X/dfn2_avx_fused_nonprobmpi.LOC_X == 2) & (dfn2_avx_fused_nonprobmpi.GLB_Y/dfn2_avx_fused_nonprobmpi.LOC_Y == 2)& (dfn2_avx_fused_nonprobmpi.GLB_Z/dfn2_avx_fused_nonprobmpi.LOC_Z == 2)]\n",
    "dfn2AvxFusNonProb_32mpi_2omp = dfn2_avx_fused_nonprobmpi[(dfn2_avx_fused_nonprobmpi.omp_thrd == 2) & (dfn2_avx_fused_nonprobmpi.GLB_T/dfn2_avx_fused_nonprobmpi.LOC_T == 4) & (dfn2_avx_fused_nonprobmpi.GLB_X/dfn2_avx_fused_nonprobmpi.LOC_X == 2) & (dfn2_avx_fused_nonprobmpi.GLB_Y/dfn2_avx_fused_nonprobmpi.LOC_Y == 2)& (dfn2_avx_fused_nonprobmpi.GLB_Z/dfn2_avx_fused_nonprobmpi.LOC_Z == 2)]\n",
    "dfn2AvxFusNonProb_56mpi_1omp = dfn2_avx_fused_nonprobmpi[(dfn2_avx_fused_nonprobmpi.omp_thrd == 1) & (dfn2_avx_fused_nonprobmpi.GLB_T/dfn2_avx_fused_nonprobmpi.LOC_T == 7) & (dfn2_avx_fused_nonprobmpi.GLB_X/dfn2_avx_fused_nonprobmpi.LOC_X == 2) & (dfn2_avx_fused_nonprobmpi.GLB_Y/dfn2_avx_fused_nonprobmpi.LOC_Y == 2)& (dfn2_avx_fused_nonprobmpi.GLB_Z/dfn2_avx_fused_nonprobmpi.LOC_Z == 2)]\n",
    "dfn2AvxFusNonProb_64mpi_1omp = dfn2_avx_fused_nonprobmpi[(dfn2_avx_fused_nonprobmpi.omp_thrd == 1) & (dfn2_avx_fused_nonprobmpi.GLB_T/dfn2_avx_fused_nonprobmpi.LOC_T == 8) & (dfn2_avx_fused_nonprobmpi.GLB_X/dfn2_avx_fused_nonprobmpi.LOC_X == 2) & (dfn2_avx_fused_nonprobmpi.GLB_Y/dfn2_avx_fused_nonprobmpi.LOC_Y == 2)& (dfn2_avx_fused_nonprobmpi.GLB_Z/dfn2_avx_fused_nonprobmpi.LOC_Z == 2)]\n"
   ]
  },
  {
   "cell_type": "code",
   "execution_count": null,
   "id": "8d869762",
   "metadata": {},
   "outputs": [],
   "source": []
  },
  {
   "cell_type": "code",
   "execution_count": null,
   "id": "7bf60e2d",
   "metadata": {},
   "outputs": [],
   "source": []
  },
  {
   "cell_type": "markdown",
   "id": "2273ecb8",
   "metadata": {},
   "source": [
    "## Node 4: AVX_fused_nonprobempi"
   ]
  },
  {
   "cell_type": "code",
   "execution_count": 64,
   "id": "af2eed2b",
   "metadata": {},
   "outputs": [],
   "source": [
    "dfn4_avx_fused_nonprobmpi[\"N_Nodes\"] = 4\n",
    "dfn4_avx_fused_nonprobmpi['NPX'] = (dfn4_avx_fused_nonprobmpi.GLB_X//dfn4_avx_fused_nonprobmpi.LOC_X)\n",
    "dfn4_avx_fused_nonprobmpi['NPY'] = (dfn4_avx_fused_nonprobmpi.GLB_Y//dfn4_avx_fused_nonprobmpi.LOC_Y)\n",
    "dfn4_avx_fused_nonprobmpi['NPZ'] = (dfn4_avx_fused_nonprobmpi.GLB_Z//dfn4_avx_fused_nonprobmpi.LOC_Z)\n",
    "dfn4_avx_fused_nonprobmpi['NPT'] = (dfn4_avx_fused_nonprobmpi.GLB_T//dfn4_avx_fused_nonprobmpi.LOC_T)\n",
    "dfn4_avx_fused_nonprobmpi[\"Total_proc\"] = dfn4_avx_fused_nonprobmpi[\"omp_thrd\"]* dfn4_avx_fused_nonprobmpi.MPI_size\n",
    "# dfn4_avx_fused_nonprobmpi.columns"
   ]
  },
  {
   "cell_type": "code",
   "execution_count": 65,
   "id": "fd5f01a8",
   "metadata": {},
   "outputs": [
    {
     "data": {
      "text/html": [
       "<div>\n",
       "<style scoped>\n",
       "    .dataframe tbody tr th:only-of-type {\n",
       "        vertical-align: middle;\n",
       "    }\n",
       "\n",
       "    .dataframe tbody tr th {\n",
       "        vertical-align: top;\n",
       "    }\n",
       "\n",
       "    .dataframe thead th {\n",
       "        text-align: right;\n",
       "    }\n",
       "</style>\n",
       "<table border=\"1\" class=\"dataframe\">\n",
       "  <thead>\n",
       "    <tr style=\"text-align: right;\">\n",
       "      <th></th>\n",
       "      <th>MPI_size</th>\n",
       "      <th>omp_thrd</th>\n",
       "      <th>NPT</th>\n",
       "      <th>NPX</th>\n",
       "      <th>NPY</th>\n",
       "      <th>NPZ</th>\n",
       "      <th>Total_proc</th>\n",
       "      <th>size</th>\n",
       "    </tr>\n",
       "  </thead>\n",
       "  <tbody>\n",
       "    <tr>\n",
       "      <th>0</th>\n",
       "      <td>32</td>\n",
       "      <td>4</td>\n",
       "      <td>4</td>\n",
       "      <td>2</td>\n",
       "      <td>2</td>\n",
       "      <td>2</td>\n",
       "      <td>128</td>\n",
       "      <td>29</td>\n",
       "    </tr>\n",
       "    <tr>\n",
       "      <th>1</th>\n",
       "      <td>40</td>\n",
       "      <td>3</td>\n",
       "      <td>5</td>\n",
       "      <td>2</td>\n",
       "      <td>2</td>\n",
       "      <td>2</td>\n",
       "      <td>120</td>\n",
       "      <td>11</td>\n",
       "    </tr>\n",
       "    <tr>\n",
       "      <th>2</th>\n",
       "      <td>56</td>\n",
       "      <td>2</td>\n",
       "      <td>7</td>\n",
       "      <td>2</td>\n",
       "      <td>2</td>\n",
       "      <td>2</td>\n",
       "      <td>112</td>\n",
       "      <td>8</td>\n",
       "    </tr>\n",
       "    <tr>\n",
       "      <th>3</th>\n",
       "      <td>64</td>\n",
       "      <td>2</td>\n",
       "      <td>8</td>\n",
       "      <td>2</td>\n",
       "      <td>2</td>\n",
       "      <td>2</td>\n",
       "      <td>128</td>\n",
       "      <td>13</td>\n",
       "    </tr>\n",
       "    <tr>\n",
       "      <th>4</th>\n",
       "      <td>104</td>\n",
       "      <td>1</td>\n",
       "      <td>13</td>\n",
       "      <td>2</td>\n",
       "      <td>2</td>\n",
       "      <td>2</td>\n",
       "      <td>104</td>\n",
       "      <td>3</td>\n",
       "    </tr>\n",
       "    <tr>\n",
       "      <th>5</th>\n",
       "      <td>112</td>\n",
       "      <td>1</td>\n",
       "      <td>14</td>\n",
       "      <td>2</td>\n",
       "      <td>2</td>\n",
       "      <td>2</td>\n",
       "      <td>112</td>\n",
       "      <td>6</td>\n",
       "    </tr>\n",
       "    <tr>\n",
       "      <th>6</th>\n",
       "      <td>120</td>\n",
       "      <td>1</td>\n",
       "      <td>15</td>\n",
       "      <td>2</td>\n",
       "      <td>2</td>\n",
       "      <td>2</td>\n",
       "      <td>120</td>\n",
       "      <td>3</td>\n",
       "    </tr>\n",
       "    <tr>\n",
       "      <th>7</th>\n",
       "      <td>128</td>\n",
       "      <td>1</td>\n",
       "      <td>16</td>\n",
       "      <td>2</td>\n",
       "      <td>2</td>\n",
       "      <td>2</td>\n",
       "      <td>128</td>\n",
       "      <td>5</td>\n",
       "    </tr>\n",
       "  </tbody>\n",
       "</table>\n",
       "</div>"
      ],
      "text/plain": [
       "   MPI_size  omp_thrd  NPT  NPX  NPY  NPZ  Total_proc  size\n",
       "0        32         4    4    2    2    2         128    29\n",
       "1        40         3    5    2    2    2         120    11\n",
       "2        56         2    7    2    2    2         112     8\n",
       "3        64         2    8    2    2    2         128    13\n",
       "4       104         1   13    2    2    2         104     3\n",
       "5       112         1   14    2    2    2         112     6\n",
       "6       120         1   15    2    2    2         120     3\n",
       "7       128         1   16    2    2    2         128     5"
      ]
     },
     "execution_count": 65,
     "metadata": {},
     "output_type": "execute_result"
    }
   ],
   "source": [
    "dfn4_avx_fused_nonprobmpi_summary = dfn4_avx_fused_nonprobmpi.groupby(['MPI_size','omp_thrd','NPT','NPX', 'NPY', 'NPZ',\"Total_proc\"]).size().reset_index(name = 'size')\n",
    "dfn4_avx_fused_nonprobmpi_summary"
   ]
  },
  {
   "cell_type": "code",
   "execution_count": 66,
   "id": "db1679f2",
   "metadata": {},
   "outputs": [],
   "source": [
    "dfn4AvxFusNonProb_32mpi_4omp = dfn4_avx_fused_nonprobmpi[(dfn4_avx_fused_nonprobmpi.omp_thrd == 4) & (dfn4_avx_fused_nonprobmpi.GLB_T/dfn4_avx_fused_nonprobmpi.LOC_T == 4) & (dfn4_avx_fused_nonprobmpi.GLB_X/dfn4_avx_fused_nonprobmpi.LOC_X == 2) & (dfn4_avx_fused_nonprobmpi.GLB_Y/dfn4_avx_fused_nonprobmpi.LOC_Y == 2)& (dfn4_avx_fused_nonprobmpi.GLB_Z/dfn4_avx_fused_nonprobmpi.LOC_Z == 2)]\n",
    "dfn4AvxFusNonProb_40mpi_3omp = dfn4_avx_fused_nonprobmpi[(dfn4_avx_fused_nonprobmpi.omp_thrd == 3) & (dfn4_avx_fused_nonprobmpi.GLB_T/dfn4_avx_fused_nonprobmpi.LOC_T == 5) & (dfn4_avx_fused_nonprobmpi.GLB_X/dfn4_avx_fused_nonprobmpi.LOC_X == 2) & (dfn4_avx_fused_nonprobmpi.GLB_Y/dfn4_avx_fused_nonprobmpi.LOC_Y == 2)& (dfn4_avx_fused_nonprobmpi.GLB_Z/dfn4_avx_fused_nonprobmpi.LOC_Z == 2)]\n",
    "dfn4AvxFusNonProb_56mpi_2omp = dfn4_avx_fused_nonprobmpi[(dfn4_avx_fused_nonprobmpi.omp_thrd == 2) & (dfn4_avx_fused_nonprobmpi.GLB_T/dfn4_avx_fused_nonprobmpi.LOC_T == 7) & (dfn4_avx_fused_nonprobmpi.GLB_X/dfn4_avx_fused_nonprobmpi.LOC_X == 2) & (dfn4_avx_fused_nonprobmpi.GLB_Y/dfn4_avx_fused_nonprobmpi.LOC_Y == 2)& (dfn4_avx_fused_nonprobmpi.GLB_Z/dfn4_avx_fused_nonprobmpi.LOC_Z == 2)]\n",
    "dfn4AvxFusNonProb_64mpi_2omp = dfn4_avx_fused_nonprobmpi[(dfn4_avx_fused_nonprobmpi.omp_thrd == 2) & (dfn4_avx_fused_nonprobmpi.GLB_T/dfn4_avx_fused_nonprobmpi.LOC_T == 8) & (dfn4_avx_fused_nonprobmpi.GLB_X/dfn4_avx_fused_nonprobmpi.LOC_X == 2) & (dfn4_avx_fused_nonprobmpi.GLB_Y/dfn4_avx_fused_nonprobmpi.LOC_Y == 2)& (dfn4_avx_fused_nonprobmpi.GLB_Z/dfn4_avx_fused_nonprobmpi.LOC_Z == 2)]\n",
    "dfn4AvxFusNonProb_112mpi_1omp = dfn4_avx_fused_nonprobmpi[(dfn4_avx_fused_nonprobmpi.omp_thrd == 1) & (dfn4_avx_fused_nonprobmpi.GLB_T/dfn4_avx_fused_nonprobmpi.LOC_T == 14) & (dfn4_avx_fused_nonprobmpi.GLB_X/dfn4_avx_fused_nonprobmpi.LOC_X == 2) & (dfn4_avx_fused_nonprobmpi.GLB_Y/dfn4_avx_fused_nonprobmpi.LOC_Y == 2)& (dfn4_avx_fused_nonprobmpi.GLB_Z/dfn4_avx_fused_nonprobmpi.LOC_Z == 2)]\n",
    "dfn4AvxFusNonProb_128mpi_1omp = dfn4_avx_fused_nonprobmpi[(dfn4_avx_fused_nonprobmpi.omp_thrd == 1) & (dfn4_avx_fused_nonprobmpi.GLB_T/dfn4_avx_fused_nonprobmpi.LOC_T == 16) & (dfn4_avx_fused_nonprobmpi.GLB_X/dfn4_avx_fused_nonprobmpi.LOC_X == 2) & (dfn4_avx_fused_nonprobmpi.GLB_Y/dfn4_avx_fused_nonprobmpi.LOC_Y == 2)& (dfn4_avx_fused_nonprobmpi.GLB_Z/dfn4_avx_fused_nonprobmpi.LOC_Z == 2)]\n"
   ]
  },
  {
   "cell_type": "markdown",
   "id": "5433f6a0",
   "metadata": {},
   "source": [
    "# E. AVX: NonFused_NonProbempi"
   ]
  },
  {
   "cell_type": "markdown",
   "id": "5760f18d",
   "metadata": {},
   "source": [
    "## Node 1: AVX_nonfused_nonprobempi"
   ]
  },
  {
   "cell_type": "code",
   "execution_count": 37,
   "id": "556b071f",
   "metadata": {},
   "outputs": [],
   "source": [
    "dfn1_avx_nonfused_probempi[\"N_Nodes\"] = 1\n",
    "dfn1_avx_nonfused_probempi['NPX'] = (dfn1_avx_nonfused_probempi.GLB_X//dfn1_avx_nonfused_probempi.LOC_X)\n",
    "dfn1_avx_nonfused_probempi['NPY'] = (dfn1_avx_nonfused_probempi.GLB_Y//dfn1_avx_nonfused_probempi.LOC_Y)\n",
    "dfn1_avx_nonfused_probempi['NPZ'] = (dfn1_avx_nonfused_probempi.GLB_Z//dfn1_avx_nonfused_probempi.LOC_Z)\n",
    "dfn1_avx_nonfused_probempi['NPT'] = (dfn1_avx_nonfused_probempi.GLB_T//dfn1_avx_nonfused_probempi.LOC_T)\n",
    "dfn1_avx_nonfused_probempi[\"Total_proc\"] = dfn1_avx_nonfused_probempi[\"omp_thrd\"]* dfn1_avx_nonfused_probempi.MPI_size\n",
    "# dfn1_avx_nonfused_probempi.columns"
   ]
  },
  {
   "cell_type": "code",
   "execution_count": 38,
   "id": "8bad8161",
   "metadata": {},
   "outputs": [
    {
     "data": {
      "text/html": [
       "<div>\n",
       "<style scoped>\n",
       "    .dataframe tbody tr th:only-of-type {\n",
       "        vertical-align: middle;\n",
       "    }\n",
       "\n",
       "    .dataframe tbody tr th {\n",
       "        vertical-align: top;\n",
       "    }\n",
       "\n",
       "    .dataframe thead th {\n",
       "        text-align: right;\n",
       "    }\n",
       "</style>\n",
       "<table border=\"1\" class=\"dataframe\">\n",
       "  <thead>\n",
       "    <tr style=\"text-align: right;\">\n",
       "      <th></th>\n",
       "      <th>MPI_size</th>\n",
       "      <th>omp_thrd</th>\n",
       "      <th>NPT</th>\n",
       "      <th>NPX</th>\n",
       "      <th>NPY</th>\n",
       "      <th>NPZ</th>\n",
       "      <th>Total_proc</th>\n",
       "      <th>size</th>\n",
       "    </tr>\n",
       "  </thead>\n",
       "  <tbody>\n",
       "    <tr>\n",
       "      <th>0</th>\n",
       "      <td>8</td>\n",
       "      <td>4</td>\n",
       "      <td>1</td>\n",
       "      <td>2</td>\n",
       "      <td>2</td>\n",
       "      <td>2</td>\n",
       "      <td>32</td>\n",
       "      <td>15</td>\n",
       "    </tr>\n",
       "    <tr>\n",
       "      <th>1</th>\n",
       "      <td>16</td>\n",
       "      <td>2</td>\n",
       "      <td>2</td>\n",
       "      <td>2</td>\n",
       "      <td>2</td>\n",
       "      <td>2</td>\n",
       "      <td>32</td>\n",
       "      <td>13</td>\n",
       "    </tr>\n",
       "    <tr>\n",
       "      <th>2</th>\n",
       "      <td>32</td>\n",
       "      <td>1</td>\n",
       "      <td>4</td>\n",
       "      <td>2</td>\n",
       "      <td>2</td>\n",
       "      <td>2</td>\n",
       "      <td>32</td>\n",
       "      <td>5</td>\n",
       "    </tr>\n",
       "  </tbody>\n",
       "</table>\n",
       "</div>"
      ],
      "text/plain": [
       "   MPI_size  omp_thrd  NPT  NPX  NPY  NPZ  Total_proc  size\n",
       "0         8         4    1    2    2    2          32    15\n",
       "1        16         2    2    2    2    2          32    13\n",
       "2        32         1    4    2    2    2          32     5"
      ]
     },
     "execution_count": 38,
     "metadata": {},
     "output_type": "execute_result"
    }
   ],
   "source": [
    "dfn1_avx_nonfused_probempi_summary = dfn1_avx_nonfused_probempi.groupby(['MPI_size','omp_thrd','NPT','NPX', 'NPY', 'NPZ',\"Total_proc\"]).size().reset_index(name = 'size')\n",
    "dfn1_avx_nonfused_probempi_summary"
   ]
  },
  {
   "cell_type": "code",
   "execution_count": 39,
   "id": "97f2e6b4",
   "metadata": {},
   "outputs": [],
   "source": [
    "dfn1AvxNonFusProb_8mpi_4omp = dfn1_avx_nonfused_probempi[(dfn1_avx_nonfused_probempi.omp_thrd == 4) & (dfn1_avx_nonfused_probempi.GLB_T/dfn1_avx_nonfused_probempi.LOC_T == 1) & (dfn1_avx_nonfused_probempi.GLB_X/dfn1_avx_nonfused_probempi.LOC_X == 2) & (dfn1_avx_nonfused_probempi.GLB_Y/dfn1_avx_nonfused_probempi.LOC_Y == 2)& (dfn1_avx_nonfused_probempi.GLB_Z/dfn1_avx_nonfused_probempi.LOC_Z == 2)]\n",
    "dfn1AvxNonFusProb_16mpi_2omp = dfn1_avx_nonfused_probempi[(dfn1_avx_nonfused_probempi.omp_thrd == 2) & (dfn1_avx_nonfused_probempi.GLB_T/dfn1_avx_nonfused_probempi.LOC_T == 2) & (dfn1_avx_nonfused_probempi.GLB_X/dfn1_avx_nonfused_probempi.LOC_X == 2) & (dfn1_avx_nonfused_probempi.GLB_Y/dfn1_avx_nonfused_probempi.LOC_Y == 2)& (dfn1_avx_nonfused_probempi.GLB_Z/dfn1_avx_nonfused_probempi.LOC_Z == 2)]\n",
    "dfn1AvxNonFusProb_32mpi_1omp = dfn1_avx_nonfused_probempi[(dfn1_avx_nonfused_probempi.omp_thrd == 1) & (dfn1_avx_nonfused_probempi.GLB_T/dfn1_avx_nonfused_probempi.LOC_T == 4) & (dfn1_avx_nonfused_probempi.GLB_X/dfn1_avx_nonfused_probempi.LOC_X == 2) & (dfn1_avx_nonfused_probempi.GLB_Y/dfn1_avx_nonfused_probempi.LOC_Y == 2)& (dfn1_avx_nonfused_probempi.GLB_Z/dfn1_avx_nonfused_probempi.LOC_Z == 2)]\n"
   ]
  },
  {
   "cell_type": "code",
   "execution_count": null,
   "id": "b70ffb81",
   "metadata": {},
   "outputs": [],
   "source": []
  },
  {
   "cell_type": "markdown",
   "id": "ba7b2c5a",
   "metadata": {},
   "source": [
    "## Node 2: AVX_nonfused_nonprobempi"
   ]
  },
  {
   "cell_type": "code",
   "execution_count": 40,
   "id": "a0532640",
   "metadata": {},
   "outputs": [],
   "source": [
    "dfn2_avx_nonfused_nonprobempi[\"N_Nodes\"] = 2\n",
    "dfn2_avx_nonfused_nonprobempi['NPX'] = (dfn2_avx_nonfused_nonprobempi.GLB_X//dfn2_avx_nonfused_nonprobempi.LOC_X)\n",
    "dfn2_avx_nonfused_nonprobempi['NPY'] = (dfn2_avx_nonfused_nonprobempi.GLB_Y//dfn2_avx_nonfused_nonprobempi.LOC_Y)\n",
    "dfn2_avx_nonfused_nonprobempi['NPZ'] = (dfn2_avx_nonfused_nonprobempi.GLB_Z//dfn2_avx_nonfused_nonprobempi.LOC_Z)\n",
    "dfn2_avx_nonfused_nonprobempi['NPT'] = (dfn2_avx_nonfused_nonprobempi.GLB_T//dfn2_avx_nonfused_nonprobempi.LOC_T)\n",
    "dfn2_avx_nonfused_nonprobempi[\"Total_proc\"] = dfn2_avx_nonfused_nonprobempi[\"omp_thrd\"]* dfn2_avx_nonfused_nonprobempi.MPI_size\n",
    "# dfn2_avx_nonfused_nonprobempi.columns"
   ]
  },
  {
   "cell_type": "code",
   "execution_count": 41,
   "id": "02f31325",
   "metadata": {},
   "outputs": [
    {
     "data": {
      "text/html": [
       "<div>\n",
       "<style scoped>\n",
       "    .dataframe tbody tr th:only-of-type {\n",
       "        vertical-align: middle;\n",
       "    }\n",
       "\n",
       "    .dataframe tbody tr th {\n",
       "        vertical-align: top;\n",
       "    }\n",
       "\n",
       "    .dataframe thead th {\n",
       "        text-align: right;\n",
       "    }\n",
       "</style>\n",
       "<table border=\"1\" class=\"dataframe\">\n",
       "  <thead>\n",
       "    <tr style=\"text-align: right;\">\n",
       "      <th></th>\n",
       "      <th>MPI_size</th>\n",
       "      <th>omp_thrd</th>\n",
       "      <th>NPT</th>\n",
       "      <th>NPX</th>\n",
       "      <th>NPY</th>\n",
       "      <th>NPZ</th>\n",
       "      <th>Total_proc</th>\n",
       "      <th>size</th>\n",
       "    </tr>\n",
       "  </thead>\n",
       "  <tbody>\n",
       "    <tr>\n",
       "      <th>0</th>\n",
       "      <td>16</td>\n",
       "      <td>4</td>\n",
       "      <td>2</td>\n",
       "      <td>2</td>\n",
       "      <td>2</td>\n",
       "      <td>2</td>\n",
       "      <td>64</td>\n",
       "      <td>29</td>\n",
       "    </tr>\n",
       "    <tr>\n",
       "      <th>1</th>\n",
       "      <td>32</td>\n",
       "      <td>2</td>\n",
       "      <td>4</td>\n",
       "      <td>2</td>\n",
       "      <td>2</td>\n",
       "      <td>2</td>\n",
       "      <td>64</td>\n",
       "      <td>13</td>\n",
       "    </tr>\n",
       "    <tr>\n",
       "      <th>2</th>\n",
       "      <td>56</td>\n",
       "      <td>1</td>\n",
       "      <td>7</td>\n",
       "      <td>2</td>\n",
       "      <td>2</td>\n",
       "      <td>2</td>\n",
       "      <td>56</td>\n",
       "      <td>3</td>\n",
       "    </tr>\n",
       "    <tr>\n",
       "      <th>3</th>\n",
       "      <td>64</td>\n",
       "      <td>1</td>\n",
       "      <td>8</td>\n",
       "      <td>2</td>\n",
       "      <td>2</td>\n",
       "      <td>2</td>\n",
       "      <td>64</td>\n",
       "      <td>5</td>\n",
       "    </tr>\n",
       "  </tbody>\n",
       "</table>\n",
       "</div>"
      ],
      "text/plain": [
       "   MPI_size  omp_thrd  NPT  NPX  NPY  NPZ  Total_proc  size\n",
       "0        16         4    2    2    2    2          64    29\n",
       "1        32         2    4    2    2    2          64    13\n",
       "2        56         1    7    2    2    2          56     3\n",
       "3        64         1    8    2    2    2          64     5"
      ]
     },
     "execution_count": 41,
     "metadata": {},
     "output_type": "execute_result"
    }
   ],
   "source": [
    "dfn2_avx_nonfused_nonprobempi_summary = dfn2_avx_nonfused_nonprobempi.groupby(['MPI_size','omp_thrd','NPT','NPX', 'NPY', 'NPZ',\"Total_proc\"]).size().reset_index(name = 'size')\n",
    "dfn2_avx_nonfused_nonprobempi_summary"
   ]
  },
  {
   "cell_type": "code",
   "execution_count": 42,
   "id": "436bcbe5",
   "metadata": {},
   "outputs": [],
   "source": [
    "dfn2AvxNonFusNonProb_16mpi_4omp = dfn2_avx_nonfused_nonprobempi[(dfn2_avx_nonfused_nonprobempi.omp_thrd == 4) & (dfn2_avx_nonfused_nonprobempi.GLB_T/dfn2_avx_nonfused_nonprobempi.LOC_T == 2) & (dfn2_avx_nonfused_nonprobempi.GLB_X/dfn2_avx_nonfused_nonprobempi.LOC_X == 2) & (dfn2_avx_nonfused_nonprobempi.GLB_Y/dfn2_avx_nonfused_nonprobempi.LOC_Y == 2)& (dfn2_avx_nonfused_nonprobempi.GLB_Z/dfn2_avx_nonfused_nonprobempi.LOC_Z == 2)]\n",
    "dfn2AvxNonFusNonProb_32mpi_2omp = dfn2_avx_nonfused_nonprobempi[(dfn2_avx_nonfused_nonprobempi.omp_thrd == 2) & (dfn2_avx_nonfused_nonprobempi.GLB_T/dfn2_avx_nonfused_nonprobempi.LOC_T == 4) & (dfn2_avx_nonfused_nonprobempi.GLB_X/dfn2_avx_nonfused_nonprobempi.LOC_X == 2) & (dfn2_avx_nonfused_nonprobempi.GLB_Y/dfn2_avx_nonfused_nonprobempi.LOC_Y == 2)& (dfn2_avx_nonfused_nonprobempi.GLB_Z/dfn2_avx_nonfused_nonprobempi.LOC_Z == 2)]\n",
    "dfn2AvxNonFusNonProb_56mpi_1omp = dfn2_avx_nonfused_nonprobempi[(dfn2_avx_nonfused_nonprobempi.omp_thrd == 1) & (dfn2_avx_nonfused_nonprobempi.GLB_T/dfn2_avx_nonfused_nonprobempi.LOC_T == 7) & (dfn2_avx_nonfused_nonprobempi.GLB_X/dfn2_avx_nonfused_nonprobempi.LOC_X == 2) & (dfn2_avx_nonfused_nonprobempi.GLB_Y/dfn2_avx_nonfused_nonprobempi.LOC_Y == 2)& (dfn2_avx_nonfused_nonprobempi.GLB_Z/dfn2_avx_nonfused_nonprobempi.LOC_Z == 2)]\n",
    "dfn2AvxNonFusNonProb_64mpi_1omp = dfn2_avx_nonfused_nonprobempi[(dfn2_avx_nonfused_nonprobempi.omp_thrd == 1) & (dfn2_avx_nonfused_nonprobempi.GLB_T/dfn2_avx_nonfused_nonprobempi.LOC_T == 8) & (dfn2_avx_nonfused_nonprobempi.GLB_X/dfn2_avx_nonfused_nonprobempi.LOC_X == 2) & (dfn2_avx_nonfused_nonprobempi.GLB_Y/dfn2_avx_nonfused_nonprobempi.LOC_Y == 2)& (dfn2_avx_nonfused_nonprobempi.GLB_Z/dfn2_avx_nonfused_nonprobempi.LOC_Z == 2)]\n"
   ]
  },
  {
   "cell_type": "code",
   "execution_count": null,
   "id": "2798ef73",
   "metadata": {},
   "outputs": [],
   "source": []
  },
  {
   "cell_type": "code",
   "execution_count": null,
   "id": "7548ce3d",
   "metadata": {},
   "outputs": [],
   "source": []
  },
  {
   "cell_type": "markdown",
   "id": "165128cd",
   "metadata": {},
   "source": [
    "## Node 4: AVX_nonfused_nonprobempi"
   ]
  },
  {
   "cell_type": "code",
   "execution_count": 43,
   "id": "5d60d7ea",
   "metadata": {},
   "outputs": [],
   "source": [
    "#  NOT AVAILABLE YET"
   ]
  },
  {
   "cell_type": "code",
   "execution_count": null,
   "id": "6d8cab24",
   "metadata": {},
   "outputs": [],
   "source": []
  },
  {
   "cell_type": "markdown",
   "id": "938cae6e",
   "metadata": {},
   "source": [
    "# F. AVX_Newgeo_NonProbempi"
   ]
  },
  {
   "cell_type": "markdown",
   "id": "6bcdf076",
   "metadata": {},
   "source": [
    "## Node 1: AVX_newgeo_nonprobempi"
   ]
  },
  {
   "cell_type": "code",
   "execution_count": 44,
   "id": "ded39de0",
   "metadata": {},
   "outputs": [],
   "source": [
    "dfn1_avx_newgeo_nonprobempi[\"N_Nodes\"] = 1\n",
    "dfn1_avx_newgeo_nonprobempi['NPX'] = (dfn1_avx_newgeo_nonprobempi.GLB_X//dfn1_avx_newgeo_nonprobempi.LOC_X)\n",
    "dfn1_avx_newgeo_nonprobempi['NPY'] = (dfn1_avx_newgeo_nonprobempi.GLB_Y//dfn1_avx_newgeo_nonprobempi.LOC_Y)\n",
    "dfn1_avx_newgeo_nonprobempi['NPZ'] = (dfn1_avx_newgeo_nonprobempi.GLB_Z//dfn1_avx_newgeo_nonprobempi.LOC_Z)\n",
    "dfn1_avx_newgeo_nonprobempi['NPT'] = (dfn1_avx_newgeo_nonprobempi.GLB_T//dfn1_avx_newgeo_nonprobempi.LOC_T)\n",
    "dfn1_avx_newgeo_nonprobempi[\"Total_proc\"] = dfn1_avx_newgeo_nonprobempi[\"omp_thrd\"]* dfn1_avx_newgeo_nonprobempi.MPI_size\n",
    "# dfn1_avx_newgeo_nonprobempi.columns"
   ]
  },
  {
   "cell_type": "code",
   "execution_count": 45,
   "id": "e8abbf05",
   "metadata": {},
   "outputs": [
    {
     "data": {
      "text/html": [
       "<div>\n",
       "<style scoped>\n",
       "    .dataframe tbody tr th:only-of-type {\n",
       "        vertical-align: middle;\n",
       "    }\n",
       "\n",
       "    .dataframe tbody tr th {\n",
       "        vertical-align: top;\n",
       "    }\n",
       "\n",
       "    .dataframe thead th {\n",
       "        text-align: right;\n",
       "    }\n",
       "</style>\n",
       "<table border=\"1\" class=\"dataframe\">\n",
       "  <thead>\n",
       "    <tr style=\"text-align: right;\">\n",
       "      <th></th>\n",
       "      <th>MPI_size</th>\n",
       "      <th>omp_thrd</th>\n",
       "      <th>NPT</th>\n",
       "      <th>NPX</th>\n",
       "      <th>NPY</th>\n",
       "      <th>NPZ</th>\n",
       "      <th>Total_proc</th>\n",
       "      <th>size</th>\n",
       "    </tr>\n",
       "  </thead>\n",
       "  <tbody>\n",
       "    <tr>\n",
       "      <th>0</th>\n",
       "      <td>8</td>\n",
       "      <td>4</td>\n",
       "      <td>1</td>\n",
       "      <td>2</td>\n",
       "      <td>2</td>\n",
       "      <td>2</td>\n",
       "      <td>32</td>\n",
       "      <td>15</td>\n",
       "    </tr>\n",
       "    <tr>\n",
       "      <th>1</th>\n",
       "      <td>16</td>\n",
       "      <td>2</td>\n",
       "      <td>2</td>\n",
       "      <td>2</td>\n",
       "      <td>2</td>\n",
       "      <td>2</td>\n",
       "      <td>32</td>\n",
       "      <td>13</td>\n",
       "    </tr>\n",
       "    <tr>\n",
       "      <th>2</th>\n",
       "      <td>32</td>\n",
       "      <td>1</td>\n",
       "      <td>4</td>\n",
       "      <td>2</td>\n",
       "      <td>2</td>\n",
       "      <td>2</td>\n",
       "      <td>32</td>\n",
       "      <td>5</td>\n",
       "    </tr>\n",
       "  </tbody>\n",
       "</table>\n",
       "</div>"
      ],
      "text/plain": [
       "   MPI_size  omp_thrd  NPT  NPX  NPY  NPZ  Total_proc  size\n",
       "0         8         4    1    2    2    2          32    15\n",
       "1        16         2    2    2    2    2          32    13\n",
       "2        32         1    4    2    2    2          32     5"
      ]
     },
     "execution_count": 45,
     "metadata": {},
     "output_type": "execute_result"
    }
   ],
   "source": [
    "dfn1_avx_newgeo_nonprobempi_summary = dfn1_avx_newgeo_nonprobempi.groupby(['MPI_size','omp_thrd','NPT','NPX', 'NPY', 'NPZ',\"Total_proc\"]).size().reset_index(name = 'size')\n",
    "dfn1_avx_newgeo_nonprobempi_summary"
   ]
  },
  {
   "cell_type": "code",
   "execution_count": 46,
   "id": "0a77cab3",
   "metadata": {},
   "outputs": [],
   "source": [
    "dfn1AvxNewgeoNonProb_8mpi_4omp = dfn1_avx_newgeo_nonprobempi[(dfn1_avx_newgeo_nonprobempi.omp_thrd == 4) & (dfn1_avx_newgeo_nonprobempi.GLB_T/dfn1_avx_newgeo_nonprobempi.LOC_T == 1) & (dfn1_avx_newgeo_nonprobempi.GLB_X/dfn1_avx_newgeo_nonprobempi.LOC_X == 2) & (dfn1_avx_newgeo_nonprobempi.GLB_Y/dfn1_avx_newgeo_nonprobempi.LOC_Y == 2)& (dfn1_avx_newgeo_nonprobempi.GLB_Z/dfn1_avx_newgeo_nonprobempi.LOC_Z == 2)]\n",
    "dfn1AvxNewgeoNonProb_16mpi_2omp = dfn1_avx_newgeo_nonprobempi[(dfn1_avx_newgeo_nonprobempi.omp_thrd == 2) & (dfn1_avx_newgeo_nonprobempi.GLB_T/dfn1_avx_newgeo_nonprobempi.LOC_T == 2) & (dfn1_avx_newgeo_nonprobempi.GLB_X/dfn1_avx_newgeo_nonprobempi.LOC_X == 2) & (dfn1_avx_newgeo_nonprobempi.GLB_Y/dfn1_avx_newgeo_nonprobempi.LOC_Y == 2)& (dfn1_avx_newgeo_nonprobempi.GLB_Z/dfn1_avx_newgeo_nonprobempi.LOC_Z == 2)]\n",
    "dfn1AvxNewgeoNonProb_32mpi_1omp = dfn1_avx_newgeo_nonprobempi[(dfn1_avx_newgeo_nonprobempi.omp_thrd == 1) & (dfn1_avx_newgeo_nonprobempi.GLB_T/dfn1_avx_newgeo_nonprobempi.LOC_T == 4) & (dfn1_avx_newgeo_nonprobempi.GLB_X/dfn1_avx_newgeo_nonprobempi.LOC_X == 2) & (dfn1_avx_newgeo_nonprobempi.GLB_Y/dfn1_avx_newgeo_nonprobempi.LOC_Y == 2)& (dfn1_avx_newgeo_nonprobempi.GLB_Z/dfn1_avx_newgeo_nonprobempi.LOC_Z == 2)]\n"
   ]
  },
  {
   "cell_type": "code",
   "execution_count": null,
   "id": "0c7ada92",
   "metadata": {},
   "outputs": [],
   "source": []
  },
  {
   "cell_type": "markdown",
   "id": "0a86fd07",
   "metadata": {},
   "source": [
    "## Node 2: AVX_newgeo_nonprobempi"
   ]
  },
  {
   "cell_type": "code",
   "execution_count": 47,
   "id": "1805807a",
   "metadata": {},
   "outputs": [],
   "source": [
    "dfn2_avx_newgeo_nonprobempi[\"N_Nodes\"] = 2\n",
    "dfn2_avx_newgeo_nonprobempi['NPX'] = (dfn2_avx_newgeo_nonprobempi.GLB_X//dfn2_avx_newgeo_nonprobempi.LOC_X)\n",
    "dfn2_avx_newgeo_nonprobempi['NPY'] = (dfn2_avx_newgeo_nonprobempi.GLB_Y//dfn2_avx_newgeo_nonprobempi.LOC_Y)\n",
    "dfn2_avx_newgeo_nonprobempi['NPZ'] = (dfn2_avx_newgeo_nonprobempi.GLB_Z//dfn2_avx_newgeo_nonprobempi.LOC_Z)\n",
    "dfn2_avx_newgeo_nonprobempi['NPT'] = (dfn2_avx_newgeo_nonprobempi.GLB_T//dfn2_avx_newgeo_nonprobempi.LOC_T)\n",
    "dfn2_avx_newgeo_nonprobempi[\"Total_proc\"] = dfn2_avx_newgeo_nonprobempi[\"omp_thrd\"]* dfn2_avx_newgeo_nonprobempi.MPI_size\n",
    "# dfn2_avx_newgeo_nonprobempi.columns"
   ]
  },
  {
   "cell_type": "code",
   "execution_count": 48,
   "id": "0d82c057",
   "metadata": {},
   "outputs": [
    {
     "data": {
      "text/html": [
       "<div>\n",
       "<style scoped>\n",
       "    .dataframe tbody tr th:only-of-type {\n",
       "        vertical-align: middle;\n",
       "    }\n",
       "\n",
       "    .dataframe tbody tr th {\n",
       "        vertical-align: top;\n",
       "    }\n",
       "\n",
       "    .dataframe thead th {\n",
       "        text-align: right;\n",
       "    }\n",
       "</style>\n",
       "<table border=\"1\" class=\"dataframe\">\n",
       "  <thead>\n",
       "    <tr style=\"text-align: right;\">\n",
       "      <th></th>\n",
       "      <th>MPI_size</th>\n",
       "      <th>omp_thrd</th>\n",
       "      <th>NPT</th>\n",
       "      <th>NPX</th>\n",
       "      <th>NPY</th>\n",
       "      <th>NPZ</th>\n",
       "      <th>Total_proc</th>\n",
       "      <th>size</th>\n",
       "    </tr>\n",
       "  </thead>\n",
       "  <tbody>\n",
       "    <tr>\n",
       "      <th>0</th>\n",
       "      <td>16</td>\n",
       "      <td>4</td>\n",
       "      <td>2</td>\n",
       "      <td>2</td>\n",
       "      <td>2</td>\n",
       "      <td>2</td>\n",
       "      <td>64</td>\n",
       "      <td>29</td>\n",
       "    </tr>\n",
       "    <tr>\n",
       "      <th>1</th>\n",
       "      <td>32</td>\n",
       "      <td>2</td>\n",
       "      <td>4</td>\n",
       "      <td>2</td>\n",
       "      <td>2</td>\n",
       "      <td>2</td>\n",
       "      <td>64</td>\n",
       "      <td>13</td>\n",
       "    </tr>\n",
       "    <tr>\n",
       "      <th>2</th>\n",
       "      <td>56</td>\n",
       "      <td>1</td>\n",
       "      <td>7</td>\n",
       "      <td>2</td>\n",
       "      <td>2</td>\n",
       "      <td>2</td>\n",
       "      <td>56</td>\n",
       "      <td>3</td>\n",
       "    </tr>\n",
       "    <tr>\n",
       "      <th>3</th>\n",
       "      <td>64</td>\n",
       "      <td>1</td>\n",
       "      <td>8</td>\n",
       "      <td>2</td>\n",
       "      <td>2</td>\n",
       "      <td>2</td>\n",
       "      <td>64</td>\n",
       "      <td>5</td>\n",
       "    </tr>\n",
       "  </tbody>\n",
       "</table>\n",
       "</div>"
      ],
      "text/plain": [
       "   MPI_size  omp_thrd  NPT  NPX  NPY  NPZ  Total_proc  size\n",
       "0        16         4    2    2    2    2          64    29\n",
       "1        32         2    4    2    2    2          64    13\n",
       "2        56         1    7    2    2    2          56     3\n",
       "3        64         1    8    2    2    2          64     5"
      ]
     },
     "execution_count": 48,
     "metadata": {},
     "output_type": "execute_result"
    }
   ],
   "source": [
    "dfn2_avx_newgeo_nonprobempi_summary = dfn2_avx_newgeo_nonprobempi.groupby(['MPI_size','omp_thrd','NPT','NPX', 'NPY', 'NPZ',\"Total_proc\"]).size().reset_index(name = 'size')\n",
    "dfn2_avx_newgeo_nonprobempi_summary"
   ]
  },
  {
   "cell_type": "code",
   "execution_count": 49,
   "id": "d9984c0c",
   "metadata": {},
   "outputs": [],
   "source": [
    "dfn2AvxNewgeoNonProb_16mpi_4omp = dfn2_avx_newgeo_nonprobempi[(dfn2_avx_newgeo_nonprobempi.omp_thrd == 4) & (dfn2_avx_newgeo_nonprobempi.GLB_T/dfn2_avx_newgeo_nonprobempi.LOC_T == 2) & (dfn2_avx_newgeo_nonprobempi.GLB_X/dfn2_avx_newgeo_nonprobempi.LOC_X == 2) & (dfn2_avx_newgeo_nonprobempi.GLB_Y/dfn2_avx_newgeo_nonprobempi.LOC_Y == 2)& (dfn2_avx_newgeo_nonprobempi.GLB_Z/dfn2_avx_newgeo_nonprobempi.LOC_Z == 2)]\n",
    "dfn2AvxNewgeoNonProb_32mpi_2omp = dfn2_avx_newgeo_nonprobempi[(dfn2_avx_newgeo_nonprobempi.omp_thrd == 2) & (dfn2_avx_newgeo_nonprobempi.GLB_T/dfn2_avx_newgeo_nonprobempi.LOC_T == 4) & (dfn2_avx_newgeo_nonprobempi.GLB_X/dfn2_avx_newgeo_nonprobempi.LOC_X == 2) & (dfn2_avx_newgeo_nonprobempi.GLB_Y/dfn2_avx_newgeo_nonprobempi.LOC_Y == 2)& (dfn2_avx_newgeo_nonprobempi.GLB_Z/dfn2_avx_newgeo_nonprobempi.LOC_Z == 2)]\n",
    "dfn2AvxNewgeoNonProb_56mpi_1omp = dfn2_avx_newgeo_nonprobempi[(dfn2_avx_newgeo_nonprobempi.omp_thrd == 1) & (dfn2_avx_newgeo_nonprobempi.GLB_T/dfn2_avx_newgeo_nonprobempi.LOC_T == 7) & (dfn2_avx_newgeo_nonprobempi.GLB_X/dfn2_avx_newgeo_nonprobempi.LOC_X == 2) & (dfn2_avx_newgeo_nonprobempi.GLB_Y/dfn2_avx_newgeo_nonprobempi.LOC_Y == 2)& (dfn2_avx_newgeo_nonprobempi.GLB_Z/dfn2_avx_newgeo_nonprobempi.LOC_Z == 2)]\n",
    "dfn2AvxNewgeoNonProb_64mpi_1omp = dfn2_avx_newgeo_nonprobempi[(dfn2_avx_newgeo_nonprobempi.omp_thrd == 1) & (dfn2_avx_newgeo_nonprobempi.GLB_T/dfn2_avx_newgeo_nonprobempi.LOC_T == 8) & (dfn2_avx_newgeo_nonprobempi.GLB_X/dfn2_avx_newgeo_nonprobempi.LOC_X == 2) & (dfn2_avx_newgeo_nonprobempi.GLB_Y/dfn2_avx_newgeo_nonprobempi.LOC_Y == 2)& (dfn2_avx_newgeo_nonprobempi.GLB_Z/dfn2_avx_newgeo_nonprobempi.LOC_Z == 2)]\n",
    "\n"
   ]
  },
  {
   "cell_type": "code",
   "execution_count": null,
   "id": "d38a92ef",
   "metadata": {},
   "outputs": [],
   "source": []
  },
  {
   "cell_type": "markdown",
   "id": "61028be2",
   "metadata": {},
   "source": [
    "## Node 4: AVX_newgeo_nonprobempi"
   ]
  },
  {
   "cell_type": "code",
   "execution_count": null,
   "id": "24bd9de4",
   "metadata": {},
   "outputs": [],
   "source": []
  },
  {
   "cell_type": "code",
   "execution_count": null,
   "id": "49405326",
   "metadata": {},
   "outputs": [],
   "source": []
  },
  {
   "cell_type": "code",
   "execution_count": null,
   "id": "4f54bfe9",
   "metadata": {},
   "outputs": [],
   "source": []
  },
  {
   "cell_type": "code",
   "execution_count": null,
   "id": "bb3164d5",
   "metadata": {},
   "outputs": [],
   "source": []
  },
  {
   "cell_type": "code",
   "execution_count": null,
   "id": "21d755e3",
   "metadata": {},
   "outputs": [],
   "source": []
  },
  {
   "cell_type": "code",
   "execution_count": null,
   "id": "1cd767e4",
   "metadata": {},
   "outputs": [],
   "source": []
  },
  {
   "cell_type": "code",
   "execution_count": null,
   "id": "e735707b",
   "metadata": {},
   "outputs": [],
   "source": []
  },
  {
   "cell_type": "code",
   "execution_count": null,
   "id": "13e6cf40",
   "metadata": {},
   "outputs": [],
   "source": []
  },
  {
   "cell_type": "markdown",
   "id": "54a54002",
   "metadata": {},
   "source": [
    "# Best of the Best Cases Comparison"
   ]
  },
  {
   "cell_type": "code",
   "execution_count": null,
   "id": "80e8a24c",
   "metadata": {},
   "outputs": [],
   "source": []
  },
  {
   "cell_type": "code",
   "execution_count": 113,
   "id": "a66a0584",
   "metadata": {},
   "outputs": [
    {
     "data": {
      "application/vnd.plotly.v1+json": {
       "config": {
        "plotlyServerURL": "https://plot.ly"
       },
       "data": [
        {
         "line": {
          "color": "magenta",
          "width": 3
         },
         "marker": {
          "line": {
           "color": "yellow",
           "width": 1
          },
          "size": 9,
          "symbol": "hexagon"
         },
         "mode": "lines+markers",
         "name": "1-Node: MacFusNonProb_8mpi_4omp",
         "type": "scatter",
         "x": [
          75497472,
          50331648,
          100663296,
          125829120,
          150994944,
          176160768,
          201326592,
          226492416,
          251658240,
          276824064,
          301989888,
          327155712,
          352321536,
          377487360,
          402653184
         ],
         "y": [
          85.1352,
          85.88,
          85.56,
          85.8784,
          83.5096,
          79.08488,
          70.92392,
          63.15744,
          56.32,
          53.07648,
          49.21656,
          47.2224,
          45.26888,
          44.19592,
          43.25872
         ]
        },
        {
         "line": {
          "color": "green",
          "width": 3
         },
         "marker": {
          "line": {
           "color": "yellow",
           "width": 1
          },
          "size": 9,
          "symbol": "hexagon"
         },
         "mode": "lines+markers",
         "name": "2-Node: MacFusNonProb_32mpi_2omp",
         "type": "scatter",
         "x": [
          100663296,
          125829120,
          150994944,
          176160768,
          201326592,
          226492416,
          251658240,
          276824064,
          301989888,
          327155712,
          352321536,
          377487360,
          402653184
         ],
         "y": [
          69.432,
          70.31008,
          73.71792,
          70.66336,
          63.66672,
          60.7248,
          56.90176,
          53.9312,
          52.61104,
          50.68336,
          49.59152,
          49.22496,
          47.96352
         ]
        },
        {
         "line": {
          "color": "royalblue",
          "width": 3
         },
         "marker": {
          "line": {
           "color": "yellow",
           "width": 1
          },
          "size": 9,
          "symbol": "hexagon"
         },
         "mode": "lines+markers",
         "name": "2-Node: AvxFusNonProb_32mpi_2omp",
         "type": "scatter",
         "x": [
          100663296,
          125829120,
          150994944,
          176160768,
          201326592,
          226492416,
          251658240,
          276824064,
          301989888,
          327155712,
          352321536,
          377487360,
          402653184
         ],
         "y": [
          63.56944,
          73.43664,
          66.47168,
          59.16768,
          61.00976,
          57.93632,
          52.78656,
          52.05104,
          49.64912,
          49.33984,
          48.66224,
          47.38496,
          46.808
         ]
        },
        {
         "line": {
          "color": "darkblue",
          "width": 3
         },
         "marker": {
          "line": {
           "color": "yellow",
           "width": 1
          },
          "size": 9,
          "symbol": "hexagon"
         },
         "mode": "lines+markers",
         "name": "4-Node: MacFusNonProb_64mpi_2omp",
         "type": "scatter",
         "x": [
          100663296,
          125829120,
          150994944,
          176160768,
          201326592,
          226492416,
          251658240,
          276824064,
          301989888,
          327155712,
          352321536,
          377487360,
          402653184
         ],
         "y": [
          69.76064,
          71.0336,
          74.8272,
          64.49504,
          65.23136,
          57.78272,
          56.00208,
          51.01968,
          50.80784,
          50.56048,
          47.15792,
          44.48064,
          47.37024
         ]
        }
       ],
       "layout": {
        "annotations": [
         {
          "align": "left",
          "arrowcolor": "#636363",
          "arrowhead": 1,
          "arrowsize": 1,
          "arrowwidth": 2,
          "ax": -20,
          "ay": -30,
          "font": {
           "color": "purple",
           "family": "Sans Serif",
           "size": 12
          },
          "showarrow": false,
          "text": "LLC Size Per Node",
          "x": "80e6",
          "y": 130,
          "yanchor": "bottom"
         }
        ],
        "legend": {
         "bordercolor": "black",
         "borderwidth": 1
        },
        "shapes": [
         {
          "line": {
           "color": "green",
           "dash": "dash",
           "width": 3
          },
          "type": "line",
          "x0": 80000000,
          "x1": 80000000,
          "xref": "x",
          "y0": 0,
          "y1": 1,
          "yref": "y domain"
         }
        ],
        "template": {
         "data": {
          "bar": [
           {
            "error_x": {
             "color": "#2a3f5f"
            },
            "error_y": {
             "color": "#2a3f5f"
            },
            "marker": {
             "line": {
              "color": "#E5ECF6",
              "width": 0.5
             },
             "pattern": {
              "fillmode": "overlay",
              "size": 10,
              "solidity": 0.2
             }
            },
            "type": "bar"
           }
          ],
          "barpolar": [
           {
            "marker": {
             "line": {
              "color": "#E5ECF6",
              "width": 0.5
             },
             "pattern": {
              "fillmode": "overlay",
              "size": 10,
              "solidity": 0.2
             }
            },
            "type": "barpolar"
           }
          ],
          "carpet": [
           {
            "aaxis": {
             "endlinecolor": "#2a3f5f",
             "gridcolor": "white",
             "linecolor": "white",
             "minorgridcolor": "white",
             "startlinecolor": "#2a3f5f"
            },
            "baxis": {
             "endlinecolor": "#2a3f5f",
             "gridcolor": "white",
             "linecolor": "white",
             "minorgridcolor": "white",
             "startlinecolor": "#2a3f5f"
            },
            "type": "carpet"
           }
          ],
          "choropleth": [
           {
            "colorbar": {
             "outlinewidth": 0,
             "ticks": ""
            },
            "type": "choropleth"
           }
          ],
          "contour": [
           {
            "colorbar": {
             "outlinewidth": 0,
             "ticks": ""
            },
            "colorscale": [
             [
              0,
              "#0d0887"
             ],
             [
              0.1111111111111111,
              "#46039f"
             ],
             [
              0.2222222222222222,
              "#7201a8"
             ],
             [
              0.3333333333333333,
              "#9c179e"
             ],
             [
              0.4444444444444444,
              "#bd3786"
             ],
             [
              0.5555555555555556,
              "#d8576b"
             ],
             [
              0.6666666666666666,
              "#ed7953"
             ],
             [
              0.7777777777777778,
              "#fb9f3a"
             ],
             [
              0.8888888888888888,
              "#fdca26"
             ],
             [
              1,
              "#f0f921"
             ]
            ],
            "type": "contour"
           }
          ],
          "contourcarpet": [
           {
            "colorbar": {
             "outlinewidth": 0,
             "ticks": ""
            },
            "type": "contourcarpet"
           }
          ],
          "heatmap": [
           {
            "colorbar": {
             "outlinewidth": 0,
             "ticks": ""
            },
            "colorscale": [
             [
              0,
              "#0d0887"
             ],
             [
              0.1111111111111111,
              "#46039f"
             ],
             [
              0.2222222222222222,
              "#7201a8"
             ],
             [
              0.3333333333333333,
              "#9c179e"
             ],
             [
              0.4444444444444444,
              "#bd3786"
             ],
             [
              0.5555555555555556,
              "#d8576b"
             ],
             [
              0.6666666666666666,
              "#ed7953"
             ],
             [
              0.7777777777777778,
              "#fb9f3a"
             ],
             [
              0.8888888888888888,
              "#fdca26"
             ],
             [
              1,
              "#f0f921"
             ]
            ],
            "type": "heatmap"
           }
          ],
          "heatmapgl": [
           {
            "colorbar": {
             "outlinewidth": 0,
             "ticks": ""
            },
            "colorscale": [
             [
              0,
              "#0d0887"
             ],
             [
              0.1111111111111111,
              "#46039f"
             ],
             [
              0.2222222222222222,
              "#7201a8"
             ],
             [
              0.3333333333333333,
              "#9c179e"
             ],
             [
              0.4444444444444444,
              "#bd3786"
             ],
             [
              0.5555555555555556,
              "#d8576b"
             ],
             [
              0.6666666666666666,
              "#ed7953"
             ],
             [
              0.7777777777777778,
              "#fb9f3a"
             ],
             [
              0.8888888888888888,
              "#fdca26"
             ],
             [
              1,
              "#f0f921"
             ]
            ],
            "type": "heatmapgl"
           }
          ],
          "histogram": [
           {
            "marker": {
             "pattern": {
              "fillmode": "overlay",
              "size": 10,
              "solidity": 0.2
             }
            },
            "type": "histogram"
           }
          ],
          "histogram2d": [
           {
            "colorbar": {
             "outlinewidth": 0,
             "ticks": ""
            },
            "colorscale": [
             [
              0,
              "#0d0887"
             ],
             [
              0.1111111111111111,
              "#46039f"
             ],
             [
              0.2222222222222222,
              "#7201a8"
             ],
             [
              0.3333333333333333,
              "#9c179e"
             ],
             [
              0.4444444444444444,
              "#bd3786"
             ],
             [
              0.5555555555555556,
              "#d8576b"
             ],
             [
              0.6666666666666666,
              "#ed7953"
             ],
             [
              0.7777777777777778,
              "#fb9f3a"
             ],
             [
              0.8888888888888888,
              "#fdca26"
             ],
             [
              1,
              "#f0f921"
             ]
            ],
            "type": "histogram2d"
           }
          ],
          "histogram2dcontour": [
           {
            "colorbar": {
             "outlinewidth": 0,
             "ticks": ""
            },
            "colorscale": [
             [
              0,
              "#0d0887"
             ],
             [
              0.1111111111111111,
              "#46039f"
             ],
             [
              0.2222222222222222,
              "#7201a8"
             ],
             [
              0.3333333333333333,
              "#9c179e"
             ],
             [
              0.4444444444444444,
              "#bd3786"
             ],
             [
              0.5555555555555556,
              "#d8576b"
             ],
             [
              0.6666666666666666,
              "#ed7953"
             ],
             [
              0.7777777777777778,
              "#fb9f3a"
             ],
             [
              0.8888888888888888,
              "#fdca26"
             ],
             [
              1,
              "#f0f921"
             ]
            ],
            "type": "histogram2dcontour"
           }
          ],
          "mesh3d": [
           {
            "colorbar": {
             "outlinewidth": 0,
             "ticks": ""
            },
            "type": "mesh3d"
           }
          ],
          "parcoords": [
           {
            "line": {
             "colorbar": {
              "outlinewidth": 0,
              "ticks": ""
             }
            },
            "type": "parcoords"
           }
          ],
          "pie": [
           {
            "automargin": true,
            "type": "pie"
           }
          ],
          "scatter": [
           {
            "fillpattern": {
             "fillmode": "overlay",
             "size": 10,
             "solidity": 0.2
            },
            "type": "scatter"
           }
          ],
          "scatter3d": [
           {
            "line": {
             "colorbar": {
              "outlinewidth": 0,
              "ticks": ""
             }
            },
            "marker": {
             "colorbar": {
              "outlinewidth": 0,
              "ticks": ""
             }
            },
            "type": "scatter3d"
           }
          ],
          "scattercarpet": [
           {
            "marker": {
             "colorbar": {
              "outlinewidth": 0,
              "ticks": ""
             }
            },
            "type": "scattercarpet"
           }
          ],
          "scattergeo": [
           {
            "marker": {
             "colorbar": {
              "outlinewidth": 0,
              "ticks": ""
             }
            },
            "type": "scattergeo"
           }
          ],
          "scattergl": [
           {
            "marker": {
             "colorbar": {
              "outlinewidth": 0,
              "ticks": ""
             }
            },
            "type": "scattergl"
           }
          ],
          "scattermapbox": [
           {
            "marker": {
             "colorbar": {
              "outlinewidth": 0,
              "ticks": ""
             }
            },
            "type": "scattermapbox"
           }
          ],
          "scatterpolar": [
           {
            "marker": {
             "colorbar": {
              "outlinewidth": 0,
              "ticks": ""
             }
            },
            "type": "scatterpolar"
           }
          ],
          "scatterpolargl": [
           {
            "marker": {
             "colorbar": {
              "outlinewidth": 0,
              "ticks": ""
             }
            },
            "type": "scatterpolargl"
           }
          ],
          "scatterternary": [
           {
            "marker": {
             "colorbar": {
              "outlinewidth": 0,
              "ticks": ""
             }
            },
            "type": "scatterternary"
           }
          ],
          "surface": [
           {
            "colorbar": {
             "outlinewidth": 0,
             "ticks": ""
            },
            "colorscale": [
             [
              0,
              "#0d0887"
             ],
             [
              0.1111111111111111,
              "#46039f"
             ],
             [
              0.2222222222222222,
              "#7201a8"
             ],
             [
              0.3333333333333333,
              "#9c179e"
             ],
             [
              0.4444444444444444,
              "#bd3786"
             ],
             [
              0.5555555555555556,
              "#d8576b"
             ],
             [
              0.6666666666666666,
              "#ed7953"
             ],
             [
              0.7777777777777778,
              "#fb9f3a"
             ],
             [
              0.8888888888888888,
              "#fdca26"
             ],
             [
              1,
              "#f0f921"
             ]
            ],
            "type": "surface"
           }
          ],
          "table": [
           {
            "cells": {
             "fill": {
              "color": "#EBF0F8"
             },
             "line": {
              "color": "white"
             }
            },
            "header": {
             "fill": {
              "color": "#C8D4E3"
             },
             "line": {
              "color": "white"
             }
            },
            "type": "table"
           }
          ]
         },
         "layout": {
          "annotationdefaults": {
           "arrowcolor": "#2a3f5f",
           "arrowhead": 0,
           "arrowwidth": 1
          },
          "autotypenumbers": "strict",
          "coloraxis": {
           "colorbar": {
            "outlinewidth": 0,
            "ticks": ""
           }
          },
          "colorscale": {
           "diverging": [
            [
             0,
             "#8e0152"
            ],
            [
             0.1,
             "#c51b7d"
            ],
            [
             0.2,
             "#de77ae"
            ],
            [
             0.3,
             "#f1b6da"
            ],
            [
             0.4,
             "#fde0ef"
            ],
            [
             0.5,
             "#f7f7f7"
            ],
            [
             0.6,
             "#e6f5d0"
            ],
            [
             0.7,
             "#b8e186"
            ],
            [
             0.8,
             "#7fbc41"
            ],
            [
             0.9,
             "#4d9221"
            ],
            [
             1,
             "#276419"
            ]
           ],
           "sequential": [
            [
             0,
             "#0d0887"
            ],
            [
             0.1111111111111111,
             "#46039f"
            ],
            [
             0.2222222222222222,
             "#7201a8"
            ],
            [
             0.3333333333333333,
             "#9c179e"
            ],
            [
             0.4444444444444444,
             "#bd3786"
            ],
            [
             0.5555555555555556,
             "#d8576b"
            ],
            [
             0.6666666666666666,
             "#ed7953"
            ],
            [
             0.7777777777777778,
             "#fb9f3a"
            ],
            [
             0.8888888888888888,
             "#fdca26"
            ],
            [
             1,
             "#f0f921"
            ]
           ],
           "sequentialminus": [
            [
             0,
             "#0d0887"
            ],
            [
             0.1111111111111111,
             "#46039f"
            ],
            [
             0.2222222222222222,
             "#7201a8"
            ],
            [
             0.3333333333333333,
             "#9c179e"
            ],
            [
             0.4444444444444444,
             "#bd3786"
            ],
            [
             0.5555555555555556,
             "#d8576b"
            ],
            [
             0.6666666666666666,
             "#ed7953"
            ],
            [
             0.7777777777777778,
             "#fb9f3a"
            ],
            [
             0.8888888888888888,
             "#fdca26"
            ],
            [
             1,
             "#f0f921"
            ]
           ]
          },
          "colorway": [
           "#636efa",
           "#EF553B",
           "#00cc96",
           "#ab63fa",
           "#FFA15A",
           "#19d3f3",
           "#FF6692",
           "#B6E880",
           "#FF97FF",
           "#FECB52"
          ],
          "font": {
           "color": "#2a3f5f"
          },
          "geo": {
           "bgcolor": "white",
           "lakecolor": "white",
           "landcolor": "#E5ECF6",
           "showlakes": true,
           "showland": true,
           "subunitcolor": "white"
          },
          "hoverlabel": {
           "align": "left"
          },
          "hovermode": "closest",
          "mapbox": {
           "style": "light"
          },
          "paper_bgcolor": "white",
          "plot_bgcolor": "#E5ECF6",
          "polar": {
           "angularaxis": {
            "gridcolor": "white",
            "linecolor": "white",
            "ticks": ""
           },
           "bgcolor": "#E5ECF6",
           "radialaxis": {
            "gridcolor": "white",
            "linecolor": "white",
            "ticks": ""
           }
          },
          "scene": {
           "xaxis": {
            "backgroundcolor": "#E5ECF6",
            "gridcolor": "white",
            "gridwidth": 2,
            "linecolor": "white",
            "showbackground": true,
            "ticks": "",
            "zerolinecolor": "white"
           },
           "yaxis": {
            "backgroundcolor": "#E5ECF6",
            "gridcolor": "white",
            "gridwidth": 2,
            "linecolor": "white",
            "showbackground": true,
            "ticks": "",
            "zerolinecolor": "white"
           },
           "zaxis": {
            "backgroundcolor": "#E5ECF6",
            "gridcolor": "white",
            "gridwidth": 2,
            "linecolor": "white",
            "showbackground": true,
            "ticks": "",
            "zerolinecolor": "white"
           }
          },
          "shapedefaults": {
           "line": {
            "color": "#2a3f5f"
           }
          },
          "ternary": {
           "aaxis": {
            "gridcolor": "white",
            "linecolor": "white",
            "ticks": ""
           },
           "baxis": {
            "gridcolor": "white",
            "linecolor": "white",
            "ticks": ""
           },
           "bgcolor": "#E5ECF6",
           "caxis": {
            "gridcolor": "white",
            "linecolor": "white",
            "ticks": ""
           }
          },
          "title": {
           "x": 0.05
          },
          "xaxis": {
           "automargin": true,
           "gridcolor": "white",
           "linecolor": "white",
           "ticks": "",
           "title": {
            "standoff": 15
           },
           "zerolinecolor": "white",
           "zerolinewidth": 2
          },
          "yaxis": {
           "automargin": true,
           "gridcolor": "white",
           "linecolor": "white",
           "ticks": "",
           "title": {
            "standoff": 15
           },
           "zerolinecolor": "white",
           "zerolinewidth": 2
          }
         }
        },
        "title": {
         "text": "\"Node 1 vs 2 vs 4 (Most Best Cases)\" GFlops Measurement"
        },
        "xaxis": {
         "ticks": "outside",
         "title": {
          "text": "Dirc_Data_Mov"
         }
        },
        "yaxis": {
         "ticks": "outside",
         "title": {
          "text": "GFLOPs/Node"
         }
        }
       }
      },
      "text/html": [
       "<div>                            <div id=\"7c1a4bdf-bd75-4b63-a56d-490dca32538b\" class=\"plotly-graph-div\" style=\"height:525px; width:100%;\"></div>            <script type=\"text/javascript\">                require([\"plotly\"], function(Plotly) {                    window.PLOTLYENV=window.PLOTLYENV || {};                                    if (document.getElementById(\"7c1a4bdf-bd75-4b63-a56d-490dca32538b\")) {                    Plotly.newPlot(                        \"7c1a4bdf-bd75-4b63-a56d-490dca32538b\",                        [{\"line\":{\"color\":\"magenta\",\"width\":3},\"marker\":{\"line\":{\"color\":\"yellow\",\"width\":1},\"size\":9,\"symbol\":\"hexagon\"},\"mode\":\"lines+markers\",\"name\":\"1-Node: MacFusNonProb_8mpi_4omp\",\"x\":[75497472,50331648,100663296,125829120,150994944,176160768,201326592,226492416,251658240,276824064,301989888,327155712,352321536,377487360,402653184],\"y\":[85.1352,85.88,85.56,85.8784,83.5096,79.08488,70.92392,63.15744,56.32,53.07648,49.21656,47.2224,45.26888,44.19592,43.25872],\"type\":\"scatter\"},{\"line\":{\"color\":\"green\",\"width\":3},\"marker\":{\"line\":{\"color\":\"yellow\",\"width\":1},\"size\":9,\"symbol\":\"hexagon\"},\"mode\":\"lines+markers\",\"name\":\"2-Node: MacFusNonProb_32mpi_2omp\",\"x\":[100663296.0,125829120.0,150994944.0,176160768.0,201326592.0,226492416.0,251658240.0,276824064.0,301989888.0,327155712.0,352321536.0,377487360.0,402653184.0],\"y\":[69.432,70.31008,73.71792,70.66336,63.66672,60.7248,56.90176,53.9312,52.61104,50.68336,49.59152,49.22496,47.96352],\"type\":\"scatter\"},{\"line\":{\"color\":\"royalblue\",\"width\":3},\"marker\":{\"line\":{\"color\":\"yellow\",\"width\":1},\"size\":9,\"symbol\":\"hexagon\"},\"mode\":\"lines+markers\",\"name\":\"2-Node: AvxFusNonProb_32mpi_2omp\",\"x\":[100663296.0,125829120.0,150994944.0,176160768.0,201326592.0,226492416.0,251658240.0,276824064.0,301989888.0,327155712.0,352321536.0,377487360.0,402653184.0],\"y\":[63.56944,73.43664,66.47168,59.16768,61.00976,57.93632,52.78656,52.05104,49.64912,49.33984,48.66224,47.38496,46.808],\"type\":\"scatter\"},{\"line\":{\"color\":\"darkblue\",\"width\":3},\"marker\":{\"line\":{\"color\":\"yellow\",\"width\":1},\"size\":9,\"symbol\":\"hexagon\"},\"mode\":\"lines+markers\",\"name\":\"4-Node: MacFusNonProb_64mpi_2omp\",\"x\":[100663296.0,125829120.0,150994944.0,176160768.0,201326592.0,226492416.0,251658240.0,276824064.0,301989888.0,327155712.0,352321536.0,377487360.0,402653184.0],\"y\":[69.76064,71.0336,74.8272,64.49504,65.23136,57.78272,56.00208,51.01968,50.80784,50.56048,47.15792,44.48064,47.37024],\"type\":\"scatter\"}],                        {\"template\":{\"data\":{\"histogram2dcontour\":[{\"type\":\"histogram2dcontour\",\"colorbar\":{\"outlinewidth\":0,\"ticks\":\"\"},\"colorscale\":[[0.0,\"#0d0887\"],[0.1111111111111111,\"#46039f\"],[0.2222222222222222,\"#7201a8\"],[0.3333333333333333,\"#9c179e\"],[0.4444444444444444,\"#bd3786\"],[0.5555555555555556,\"#d8576b\"],[0.6666666666666666,\"#ed7953\"],[0.7777777777777778,\"#fb9f3a\"],[0.8888888888888888,\"#fdca26\"],[1.0,\"#f0f921\"]]}],\"choropleth\":[{\"type\":\"choropleth\",\"colorbar\":{\"outlinewidth\":0,\"ticks\":\"\"}}],\"histogram2d\":[{\"type\":\"histogram2d\",\"colorbar\":{\"outlinewidth\":0,\"ticks\":\"\"},\"colorscale\":[[0.0,\"#0d0887\"],[0.1111111111111111,\"#46039f\"],[0.2222222222222222,\"#7201a8\"],[0.3333333333333333,\"#9c179e\"],[0.4444444444444444,\"#bd3786\"],[0.5555555555555556,\"#d8576b\"],[0.6666666666666666,\"#ed7953\"],[0.7777777777777778,\"#fb9f3a\"],[0.8888888888888888,\"#fdca26\"],[1.0,\"#f0f921\"]]}],\"heatmap\":[{\"type\":\"heatmap\",\"colorbar\":{\"outlinewidth\":0,\"ticks\":\"\"},\"colorscale\":[[0.0,\"#0d0887\"],[0.1111111111111111,\"#46039f\"],[0.2222222222222222,\"#7201a8\"],[0.3333333333333333,\"#9c179e\"],[0.4444444444444444,\"#bd3786\"],[0.5555555555555556,\"#d8576b\"],[0.6666666666666666,\"#ed7953\"],[0.7777777777777778,\"#fb9f3a\"],[0.8888888888888888,\"#fdca26\"],[1.0,\"#f0f921\"]]}],\"heatmapgl\":[{\"type\":\"heatmapgl\",\"colorbar\":{\"outlinewidth\":0,\"ticks\":\"\"},\"colorscale\":[[0.0,\"#0d0887\"],[0.1111111111111111,\"#46039f\"],[0.2222222222222222,\"#7201a8\"],[0.3333333333333333,\"#9c179e\"],[0.4444444444444444,\"#bd3786\"],[0.5555555555555556,\"#d8576b\"],[0.6666666666666666,\"#ed7953\"],[0.7777777777777778,\"#fb9f3a\"],[0.8888888888888888,\"#fdca26\"],[1.0,\"#f0f921\"]]}],\"contourcarpet\":[{\"type\":\"contourcarpet\",\"colorbar\":{\"outlinewidth\":0,\"ticks\":\"\"}}],\"contour\":[{\"type\":\"contour\",\"colorbar\":{\"outlinewidth\":0,\"ticks\":\"\"},\"colorscale\":[[0.0,\"#0d0887\"],[0.1111111111111111,\"#46039f\"],[0.2222222222222222,\"#7201a8\"],[0.3333333333333333,\"#9c179e\"],[0.4444444444444444,\"#bd3786\"],[0.5555555555555556,\"#d8576b\"],[0.6666666666666666,\"#ed7953\"],[0.7777777777777778,\"#fb9f3a\"],[0.8888888888888888,\"#fdca26\"],[1.0,\"#f0f921\"]]}],\"surface\":[{\"type\":\"surface\",\"colorbar\":{\"outlinewidth\":0,\"ticks\":\"\"},\"colorscale\":[[0.0,\"#0d0887\"],[0.1111111111111111,\"#46039f\"],[0.2222222222222222,\"#7201a8\"],[0.3333333333333333,\"#9c179e\"],[0.4444444444444444,\"#bd3786\"],[0.5555555555555556,\"#d8576b\"],[0.6666666666666666,\"#ed7953\"],[0.7777777777777778,\"#fb9f3a\"],[0.8888888888888888,\"#fdca26\"],[1.0,\"#f0f921\"]]}],\"mesh3d\":[{\"type\":\"mesh3d\",\"colorbar\":{\"outlinewidth\":0,\"ticks\":\"\"}}],\"scatter\":[{\"fillpattern\":{\"fillmode\":\"overlay\",\"size\":10,\"solidity\":0.2},\"type\":\"scatter\"}],\"parcoords\":[{\"type\":\"parcoords\",\"line\":{\"colorbar\":{\"outlinewidth\":0,\"ticks\":\"\"}}}],\"scatterpolargl\":[{\"type\":\"scatterpolargl\",\"marker\":{\"colorbar\":{\"outlinewidth\":0,\"ticks\":\"\"}}}],\"bar\":[{\"error_x\":{\"color\":\"#2a3f5f\"},\"error_y\":{\"color\":\"#2a3f5f\"},\"marker\":{\"line\":{\"color\":\"#E5ECF6\",\"width\":0.5},\"pattern\":{\"fillmode\":\"overlay\",\"size\":10,\"solidity\":0.2}},\"type\":\"bar\"}],\"scattergeo\":[{\"type\":\"scattergeo\",\"marker\":{\"colorbar\":{\"outlinewidth\":0,\"ticks\":\"\"}}}],\"scatterpolar\":[{\"type\":\"scatterpolar\",\"marker\":{\"colorbar\":{\"outlinewidth\":0,\"ticks\":\"\"}}}],\"histogram\":[{\"marker\":{\"pattern\":{\"fillmode\":\"overlay\",\"size\":10,\"solidity\":0.2}},\"type\":\"histogram\"}],\"scattergl\":[{\"type\":\"scattergl\",\"marker\":{\"colorbar\":{\"outlinewidth\":0,\"ticks\":\"\"}}}],\"scatter3d\":[{\"type\":\"scatter3d\",\"line\":{\"colorbar\":{\"outlinewidth\":0,\"ticks\":\"\"}},\"marker\":{\"colorbar\":{\"outlinewidth\":0,\"ticks\":\"\"}}}],\"scattermapbox\":[{\"type\":\"scattermapbox\",\"marker\":{\"colorbar\":{\"outlinewidth\":0,\"ticks\":\"\"}}}],\"scatterternary\":[{\"type\":\"scatterternary\",\"marker\":{\"colorbar\":{\"outlinewidth\":0,\"ticks\":\"\"}}}],\"scattercarpet\":[{\"type\":\"scattercarpet\",\"marker\":{\"colorbar\":{\"outlinewidth\":0,\"ticks\":\"\"}}}],\"carpet\":[{\"aaxis\":{\"endlinecolor\":\"#2a3f5f\",\"gridcolor\":\"white\",\"linecolor\":\"white\",\"minorgridcolor\":\"white\",\"startlinecolor\":\"#2a3f5f\"},\"baxis\":{\"endlinecolor\":\"#2a3f5f\",\"gridcolor\":\"white\",\"linecolor\":\"white\",\"minorgridcolor\":\"white\",\"startlinecolor\":\"#2a3f5f\"},\"type\":\"carpet\"}],\"table\":[{\"cells\":{\"fill\":{\"color\":\"#EBF0F8\"},\"line\":{\"color\":\"white\"}},\"header\":{\"fill\":{\"color\":\"#C8D4E3\"},\"line\":{\"color\":\"white\"}},\"type\":\"table\"}],\"barpolar\":[{\"marker\":{\"line\":{\"color\":\"#E5ECF6\",\"width\":0.5},\"pattern\":{\"fillmode\":\"overlay\",\"size\":10,\"solidity\":0.2}},\"type\":\"barpolar\"}],\"pie\":[{\"automargin\":true,\"type\":\"pie\"}]},\"layout\":{\"autotypenumbers\":\"strict\",\"colorway\":[\"#636efa\",\"#EF553B\",\"#00cc96\",\"#ab63fa\",\"#FFA15A\",\"#19d3f3\",\"#FF6692\",\"#B6E880\",\"#FF97FF\",\"#FECB52\"],\"font\":{\"color\":\"#2a3f5f\"},\"hovermode\":\"closest\",\"hoverlabel\":{\"align\":\"left\"},\"paper_bgcolor\":\"white\",\"plot_bgcolor\":\"#E5ECF6\",\"polar\":{\"bgcolor\":\"#E5ECF6\",\"angularaxis\":{\"gridcolor\":\"white\",\"linecolor\":\"white\",\"ticks\":\"\"},\"radialaxis\":{\"gridcolor\":\"white\",\"linecolor\":\"white\",\"ticks\":\"\"}},\"ternary\":{\"bgcolor\":\"#E5ECF6\",\"aaxis\":{\"gridcolor\":\"white\",\"linecolor\":\"white\",\"ticks\":\"\"},\"baxis\":{\"gridcolor\":\"white\",\"linecolor\":\"white\",\"ticks\":\"\"},\"caxis\":{\"gridcolor\":\"white\",\"linecolor\":\"white\",\"ticks\":\"\"}},\"coloraxis\":{\"colorbar\":{\"outlinewidth\":0,\"ticks\":\"\"}},\"colorscale\":{\"sequential\":[[0.0,\"#0d0887\"],[0.1111111111111111,\"#46039f\"],[0.2222222222222222,\"#7201a8\"],[0.3333333333333333,\"#9c179e\"],[0.4444444444444444,\"#bd3786\"],[0.5555555555555556,\"#d8576b\"],[0.6666666666666666,\"#ed7953\"],[0.7777777777777778,\"#fb9f3a\"],[0.8888888888888888,\"#fdca26\"],[1.0,\"#f0f921\"]],\"sequentialminus\":[[0.0,\"#0d0887\"],[0.1111111111111111,\"#46039f\"],[0.2222222222222222,\"#7201a8\"],[0.3333333333333333,\"#9c179e\"],[0.4444444444444444,\"#bd3786\"],[0.5555555555555556,\"#d8576b\"],[0.6666666666666666,\"#ed7953\"],[0.7777777777777778,\"#fb9f3a\"],[0.8888888888888888,\"#fdca26\"],[1.0,\"#f0f921\"]],\"diverging\":[[0,\"#8e0152\"],[0.1,\"#c51b7d\"],[0.2,\"#de77ae\"],[0.3,\"#f1b6da\"],[0.4,\"#fde0ef\"],[0.5,\"#f7f7f7\"],[0.6,\"#e6f5d0\"],[0.7,\"#b8e186\"],[0.8,\"#7fbc41\"],[0.9,\"#4d9221\"],[1,\"#276419\"]]},\"xaxis\":{\"gridcolor\":\"white\",\"linecolor\":\"white\",\"ticks\":\"\",\"title\":{\"standoff\":15},\"zerolinecolor\":\"white\",\"automargin\":true,\"zerolinewidth\":2},\"yaxis\":{\"gridcolor\":\"white\",\"linecolor\":\"white\",\"ticks\":\"\",\"title\":{\"standoff\":15},\"zerolinecolor\":\"white\",\"automargin\":true,\"zerolinewidth\":2},\"scene\":{\"xaxis\":{\"backgroundcolor\":\"#E5ECF6\",\"gridcolor\":\"white\",\"linecolor\":\"white\",\"showbackground\":true,\"ticks\":\"\",\"zerolinecolor\":\"white\",\"gridwidth\":2},\"yaxis\":{\"backgroundcolor\":\"#E5ECF6\",\"gridcolor\":\"white\",\"linecolor\":\"white\",\"showbackground\":true,\"ticks\":\"\",\"zerolinecolor\":\"white\",\"gridwidth\":2},\"zaxis\":{\"backgroundcolor\":\"#E5ECF6\",\"gridcolor\":\"white\",\"linecolor\":\"white\",\"showbackground\":true,\"ticks\":\"\",\"zerolinecolor\":\"white\",\"gridwidth\":2}},\"shapedefaults\":{\"line\":{\"color\":\"#2a3f5f\"}},\"annotationdefaults\":{\"arrowcolor\":\"#2a3f5f\",\"arrowhead\":0,\"arrowwidth\":1},\"geo\":{\"bgcolor\":\"white\",\"landcolor\":\"#E5ECF6\",\"subunitcolor\":\"white\",\"showland\":true,\"showlakes\":true,\"lakecolor\":\"white\"},\"title\":{\"x\":0.05},\"mapbox\":{\"style\":\"light\"}}},\"shapes\":[{\"line\":{\"color\":\"green\",\"dash\":\"dash\",\"width\":3},\"type\":\"line\",\"x0\":80000000.0,\"x1\":80000000.0,\"xref\":\"x\",\"y0\":0,\"y1\":1,\"yref\":\"y domain\"}],\"annotations\":[{\"align\":\"left\",\"arrowcolor\":\"#636363\",\"arrowhead\":1,\"arrowsize\":1,\"arrowwidth\":2,\"ax\":-20,\"ay\":-30,\"font\":{\"color\":\"purple\",\"family\":\"Sans Serif\",\"size\":12},\"showarrow\":false,\"text\":\"LLC Size Per Node\",\"x\":\"80e6\",\"y\":130,\"yanchor\":\"bottom\"}],\"xaxis\":{\"title\":{\"text\":\"Dirc_Data_Mov\"},\"ticks\":\"outside\"},\"yaxis\":{\"title\":{\"text\":\"GFLOPs/Node\"},\"ticks\":\"outside\"},\"title\":{\"text\":\"\\\"Node 1 vs 2 vs 4 (Most Best Cases)\\\" GFlops Measurement\"},\"legend\":{\"bordercolor\":\"black\",\"borderwidth\":1}},                        {\"responsive\": true}                    ).then(function(){\n",
       "                            \n",
       "var gd = document.getElementById('7c1a4bdf-bd75-4b63-a56d-490dca32538b');\n",
       "var x = new MutationObserver(function (mutations, observer) {{\n",
       "        var display = window.getComputedStyle(gd).display;\n",
       "        if (!display || display === 'none') {{\n",
       "            console.log([gd, 'removed!']);\n",
       "            Plotly.purge(gd);\n",
       "            observer.disconnect();\n",
       "        }}\n",
       "}});\n",
       "\n",
       "// Listen for the removal of the full notebook cells\n",
       "var notebookContainer = gd.closest('#notebook-container');\n",
       "if (notebookContainer) {{\n",
       "    x.observe(notebookContainer, {childList: true});\n",
       "}}\n",
       "\n",
       "// Listen for the clearing of the current output cell\n",
       "var outputEl = gd.closest('.output');\n",
       "if (outputEl) {{\n",
       "    x.observe(outputEl, {childList: true});\n",
       "}}\n",
       "\n",
       "                        })                };                });            </script>        </div>"
      ]
     },
     "metadata": {},
     "output_type": "display_data"
    }
   ],
   "source": [
    "fig = go.Figure() \n",
    "\n",
    "# Node 1 Best Case\n",
    "fig.add_trace(go.Scatter(x=(dfn1MacFusNonProb_8mpi_4omp.Dirc_Data_Mov*(dfn1MacFusNonProb_8mpi_4omp.MPI_size)), \n",
    "                         y=(dfn1MacFusNonProb_8mpi_4omp.GFLOPS*(dfn1MacFusNonProb_8mpi_4omp.MPI_size)), \n",
    "                         mode='lines+markers', \n",
    "                         name='1-Node: MacFusNonProb_8mpi_4omp',\n",
    "                         line=dict(color='magenta',width=3),\n",
    "                         marker=dict(symbol='hexagon',size=9, line=dict(color='yellow',width=1))))\n",
    "\n",
    "\n",
    "# fig.add_trace(go.Scatter(x=(dfn1MacNewgeoNonProb_8mpi_4omp.Dirc_Data_Mov*(dfn1MacNewgeoNonProb_8mpi_4omp.MPI_size)), \n",
    "#                          y=(dfn1MacNewgeoNonProb_8mpi_4omp.GFLOPS*(dfn1MacNewgeoNonProb_8mpi_4omp.MPI_size)), \n",
    "#                          mode='lines+markers', \n",
    "#                          name='Note1: MacNewgeoNonProb_8mpi_4omp',\n",
    "#                          line=dict(color='green',width=3),\n",
    "#                          marker=dict(symbol='hexagon',size=9, line=dict(color='yellow',width=1))))\n",
    "\n",
    "\n",
    "# Node 2 Best Case\n",
    "fig.add_trace(go.Scatter(x=(dfn2MacFusNonProb_32mpi_2omp.Dirc_Data_Mov*(dfn2MacFusNonProb_32mpi_2omp.MPI_size/2)), \n",
    "                         y=(dfn2MacFusNonProb_32mpi_2omp.GFLOPS*(dfn2MacFusNonProb_32mpi_2omp.MPI_size/2)), \n",
    "                         mode='lines+markers', \n",
    "                         name='2-Node: MacFusNonProb_32mpi_2omp',\n",
    "                         line=dict(color='green',width=3),\n",
    "                         marker=dict(symbol='hexagon',size=9, line=dict(color='yellow',width=1))))\n",
    "\n",
    "fig.add_trace(go.Scatter(x=(dfn2AvxFusNonProb_32mpi_2omp.Dirc_Data_Mov*(dfn2AvxFusNonProb_32mpi_2omp.MPI_size/2)), \n",
    "                         y=(dfn2AvxFusNonProb_32mpi_2omp.GFLOPS*(dfn2AvxFusNonProb_32mpi_2omp.MPI_size/2)), \n",
    "                         mode='lines+markers', \n",
    "                         name='2-Node: AvxFusNonProb_32mpi_2omp',\n",
    "                         line=dict(color='royalblue',width=3),\n",
    "                         marker=dict(symbol='hexagon',size=9,line=dict(color='yellow',width=1))))\n",
    "\n",
    "# fig.add_trace(go.Scatter(x=(dfn2MacNewgeoNonProb_32mpi_2omp.Dirc_Data_Mov*(dfn2MacNewgeoNonProb_32mpi_2omp.MPI_size/2)), \n",
    "#                          y=(dfn2MacNewgeoNonProb_32mpi_2omp.GFLOPS*(dfn2MacNewgeoNonProb_32mpi_2omp.MPI_size/2)), \n",
    "#                          mode='lines+markers', \n",
    "#                          name='2-Node: MacNewgeoNonProb_32mpi_2omp',\n",
    "#                          line=dict(color='blue',width=3),\n",
    "#                          marker=dict(symbol='hexagon',size=9, line=dict(color='yellow',width=1))))\n",
    "\n",
    "\n",
    "# Node 4 Best Case\n",
    "fig.add_trace(go.Scatter(x=(dfn4MacFusnonProb_64mpi_2omp.Dirc_Data_Mov*(dfn4MacFusnonProb_64mpi_2omp.MPI_size/4)), \n",
    "                         y=(dfn4MacFusnonProb_64mpi_2omp.GFLOPS*(dfn4MacFusnonProb_64mpi_2omp.MPI_size/4)), \n",
    "                         mode='lines+markers', \n",
    "                         name='4-Node: MacFusNonProb_64mpi_2omp',\n",
    "                         line=dict(color='darkblue',width=3),\n",
    "                         marker=dict(symbol='hexagon',size=9, line=dict(color='yellow',width=1))))\n",
    "\n",
    "# fig.add_trace(go.Scatter(x=(dfn4MacNewgeoNonProb_64mpi_2omp.Dirc_Data_Mov*(dfn4MacNewgeoNonProb_64mpi_2omp.MPI_size/4)), \n",
    "#                          y=(dfn4MacNewgeoNonProb_64mpi_2omp.GFLOPS*(dfn4MacNewgeoNonProb_64mpi_2omp.MPI_size/4)), \n",
    "#                          mode='lines+markers', \n",
    "#                          name='4-Node: MacNewgeoNonProb_64mpi_2omp',\n",
    "#                          line=dict(color='cyan',width=3),\n",
    "#                          marker=dict(symbol='hexagon',size=9, line=dict(color='yellow',width=1))))\n",
    "\n",
    "\n",
    "\n",
    "# Adding a vertical line\n",
    "fig.add_vline(x=80e6, line_width=3, line_dash=\"dash\", line_color=\"green\")\n",
    "# fig.add_hline(y=1024, line_width=3, line_dash=\"dash\", line_color=\"red\")\n",
    "\n",
    "# Add annotation\n",
    "fig.add_annotation(\n",
    "    x='80e6'\n",
    "    , y=130\n",
    "    , text=f'LLC Size Per Node'\n",
    "    , yanchor='bottom'\n",
    "    , showarrow=False\n",
    "    , arrowhead=1\n",
    "    , arrowsize=1\n",
    "    , arrowwidth=2\n",
    "    , arrowcolor=\"#636363\"\n",
    "    , ax=-20\n",
    "    , ay=-30\n",
    "    , font=dict(size=12, color=\"purple\", family=\"Sans Serif\")\n",
    "    , align=\"left\"\n",
    "    ,)\n",
    "\n",
    "fig.update_layout(title='\"Node 1 vs 2 vs 4 (Most Best Cases)\" GFlops Measurement',\n",
    "                  xaxis_title='Dirc_Data_Mov', \n",
    "                  yaxis_title='GFLOPs/Node', \n",
    "                  xaxis=dict(ticks=\"outside\"),  \n",
    "                  yaxis=dict(ticks=\"outside\"),\n",
    "                  legend=go.layout.Legend(bordercolor=\"black\",borderwidth=1))"
   ]
  },
  {
   "cell_type": "code",
   "execution_count": 88,
   "id": "ce7fddf6",
   "metadata": {},
   "outputs": [
    {
     "name": "stdout",
     "output_type": "stream",
     "text": [
      "Speed up factor:  87.06%\n"
     ]
    }
   ],
   "source": [
    "node1_top = 85\n",
    "node2_top = 74\n",
    "\n",
    "speedUp = '{:.2%}'.format((node2_top/node1_top))\n",
    "print(\"Speed up factor: \",speedUp)"
   ]
  },
  {
   "cell_type": "code",
   "execution_count": null,
   "id": "4f9952c7",
   "metadata": {},
   "outputs": [],
   "source": []
  },
  {
   "cell_type": "markdown",
   "id": "ff7ea555",
   "metadata": {},
   "source": [
    "## Best Cases of Eacch Sub-Cases"
   ]
  },
  {
   "cell_type": "code",
   "execution_count": 120,
   "id": "575f2c86",
   "metadata": {},
   "outputs": [
    {
     "data": {
      "text/html": [
       "<div>\n",
       "<style scoped>\n",
       "    .dataframe tbody tr th:only-of-type {\n",
       "        vertical-align: middle;\n",
       "    }\n",
       "\n",
       "    .dataframe tbody tr th {\n",
       "        vertical-align: top;\n",
       "    }\n",
       "\n",
       "    .dataframe thead th {\n",
       "        text-align: right;\n",
       "    }\n",
       "</style>\n",
       "<table border=\"1\" class=\"dataframe\">\n",
       "  <thead>\n",
       "    <tr style=\"text-align: right;\">\n",
       "      <th></th>\n",
       "      <th>Routine</th>\n",
       "      <th>Node</th>\n",
       "      <th>GFlops</th>\n",
       "      <th>MPI_Config</th>\n",
       "    </tr>\n",
       "  </thead>\n",
       "  <tbody>\n",
       "    <tr>\n",
       "      <th>0</th>\n",
       "      <td>Macro_Fused</td>\n",
       "      <td>1</td>\n",
       "      <td>85</td>\n",
       "      <td>8MPI_4OMP</td>\n",
       "    </tr>\n",
       "    <tr>\n",
       "      <th>1</th>\n",
       "      <td>Macro_nonfused</td>\n",
       "      <td>1</td>\n",
       "      <td>71</td>\n",
       "      <td>16MPI_2OMP</td>\n",
       "    </tr>\n",
       "    <tr>\n",
       "      <th>2</th>\n",
       "      <td>Macro_newgeo</td>\n",
       "      <td>1</td>\n",
       "      <td>78</td>\n",
       "      <td>8MPI_4OMP</td>\n",
       "    </tr>\n",
       "    <tr>\n",
       "      <th>3</th>\n",
       "      <td>AVX_Fused</td>\n",
       "      <td>1</td>\n",
       "      <td>77</td>\n",
       "      <td>8MPI_4OMP</td>\n",
       "    </tr>\n",
       "    <tr>\n",
       "      <th>4</th>\n",
       "      <td>AVX_nonfused</td>\n",
       "      <td>1</td>\n",
       "      <td>65</td>\n",
       "      <td>16MPI_2OMP</td>\n",
       "    </tr>\n",
       "    <tr>\n",
       "      <th>5</th>\n",
       "      <td>AVX_newgeo</td>\n",
       "      <td>1</td>\n",
       "      <td>72</td>\n",
       "      <td>8MPI_4OMP</td>\n",
       "    </tr>\n",
       "    <tr>\n",
       "      <th>6</th>\n",
       "      <td>Macro_Fused</td>\n",
       "      <td>2</td>\n",
       "      <td>73</td>\n",
       "      <td>32MPI_2OMP</td>\n",
       "    </tr>\n",
       "    <tr>\n",
       "      <th>7</th>\n",
       "      <td>Macro_nonfused</td>\n",
       "      <td>2</td>\n",
       "      <td>60</td>\n",
       "      <td>32MPI_2OMP</td>\n",
       "    </tr>\n",
       "    <tr>\n",
       "      <th>8</th>\n",
       "      <td>Macro_newgeo</td>\n",
       "      <td>2</td>\n",
       "      <td>70</td>\n",
       "      <td>32MPI_2OMP</td>\n",
       "    </tr>\n",
       "    <tr>\n",
       "      <th>9</th>\n",
       "      <td>AVX_Fused</td>\n",
       "      <td>2</td>\n",
       "      <td>73</td>\n",
       "      <td>32MPI_2OMP</td>\n",
       "    </tr>\n",
       "    <tr>\n",
       "      <th>10</th>\n",
       "      <td>AVX_nonfused</td>\n",
       "      <td>2</td>\n",
       "      <td>65</td>\n",
       "      <td>32MPI_2OMP</td>\n",
       "    </tr>\n",
       "    <tr>\n",
       "      <th>11</th>\n",
       "      <td>AVX_newgeo</td>\n",
       "      <td>2</td>\n",
       "      <td>62</td>\n",
       "      <td>32MPI_2OMP</td>\n",
       "    </tr>\n",
       "    <tr>\n",
       "      <th>12</th>\n",
       "      <td>Macro_Fused</td>\n",
       "      <td>4</td>\n",
       "      <td>74</td>\n",
       "      <td>64MPI_2OMP</td>\n",
       "    </tr>\n",
       "    <tr>\n",
       "      <th>13</th>\n",
       "      <td>Macro_nonfused</td>\n",
       "      <td>4</td>\n",
       "      <td>62</td>\n",
       "      <td>64MPI_2OMP</td>\n",
       "    </tr>\n",
       "    <tr>\n",
       "      <th>14</th>\n",
       "      <td>Macro_newgeo</td>\n",
       "      <td>4</td>\n",
       "      <td>73</td>\n",
       "      <td>64MPI_2OMP</td>\n",
       "    </tr>\n",
       "    <tr>\n",
       "      <th>15</th>\n",
       "      <td>AVX_Fused</td>\n",
       "      <td>4</td>\n",
       "      <td>64</td>\n",
       "      <td>64MPI_2OMP</td>\n",
       "    </tr>\n",
       "    <tr>\n",
       "      <th>16</th>\n",
       "      <td>AVX_nonfused</td>\n",
       "      <td>4</td>\n",
       "      <td>57</td>\n",
       "      <td>64MPI_2OMP</td>\n",
       "    </tr>\n",
       "    <tr>\n",
       "      <th>17</th>\n",
       "      <td>AVX_newgeo</td>\n",
       "      <td>4</td>\n",
       "      <td>62</td>\n",
       "      <td>64MPI_2OMP</td>\n",
       "    </tr>\n",
       "  </tbody>\n",
       "</table>\n",
       "</div>"
      ],
      "text/plain": [
       "           Routine  Node  GFlops   MPI_Config\n",
       "0      Macro_Fused     1      85    8MPI_4OMP\n",
       "1   Macro_nonfused     1      71   16MPI_2OMP\n",
       "2     Macro_newgeo     1      78    8MPI_4OMP\n",
       "3        AVX_Fused     1      77    8MPI_4OMP\n",
       "4     AVX_nonfused     1      65   16MPI_2OMP\n",
       "5       AVX_newgeo     1      72    8MPI_4OMP\n",
       "6      Macro_Fused     2      73  32MPI_2OMP \n",
       "7   Macro_nonfused     2      60  32MPI_2OMP \n",
       "8     Macro_newgeo     2      70   32MPI_2OMP\n",
       "9        AVX_Fused     2      73   32MPI_2OMP\n",
       "10    AVX_nonfused     2      65   32MPI_2OMP\n",
       "11      AVX_newgeo     2      62   32MPI_2OMP\n",
       "12     Macro_Fused     4      74  64MPI_2OMP \n",
       "13  Macro_nonfused     4      62   64MPI_2OMP\n",
       "14    Macro_newgeo     4      73   64MPI_2OMP\n",
       "15       AVX_Fused     4      64   64MPI_2OMP\n",
       "16    AVX_nonfused     4      57   64MPI_2OMP\n",
       "17      AVX_newgeo     4      62   64MPI_2OMP"
      ]
     },
     "execution_count": 120,
     "metadata": {},
     "output_type": "execute_result"
    }
   ],
   "source": [
    "df_bestCases "
   ]
  },
  {
   "cell_type": "code",
   "execution_count": null,
   "id": "cde3fe2a",
   "metadata": {},
   "outputs": [],
   "source": []
  },
  {
   "cell_type": "code",
   "execution_count": null,
   "id": "db9c93a7",
   "metadata": {},
   "outputs": [],
   "source": []
  }
 ],
 "metadata": {
  "kernelspec": {
   "display_name": "Python 3 (ipykernel)",
   "language": "python",
   "name": "python3"
  },
  "language_info": {
   "codemirror_mode": {
    "name": "ipython",
    "version": 3
   },
   "file_extension": ".py",
   "mimetype": "text/x-python",
   "name": "python",
   "nbconvert_exporter": "python",
   "pygments_lexer": "ipython3",
   "version": "3.9.13"
  }
 },
 "nbformat": 4,
 "nbformat_minor": 5
}
