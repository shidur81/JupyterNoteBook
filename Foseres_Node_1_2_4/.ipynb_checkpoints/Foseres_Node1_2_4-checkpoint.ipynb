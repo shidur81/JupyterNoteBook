{
 "cells": [
  {
   "cell_type": "code",
   "execution_count": 1,
   "id": "5ceb8216",
   "metadata": {},
   "outputs": [
    {
     "data": {
      "text/html": [
       "        <script type=\"text/javascript\">\n",
       "        window.PlotlyConfig = {MathJaxConfig: 'local'};\n",
       "        if (window.MathJax && window.MathJax.Hub && window.MathJax.Hub.Config) {window.MathJax.Hub.Config({SVG: {font: \"STIX-Web\"}});}\n",
       "        if (typeof require !== 'undefined') {\n",
       "        require.undef(\"plotly\");\n",
       "        requirejs.config({\n",
       "            paths: {\n",
       "                'plotly': ['https://cdn.plot.ly/plotly-2.12.1.min']\n",
       "            }\n",
       "        });\n",
       "        require(['plotly'], function(Plotly) {\n",
       "            window._Plotly = Plotly;\n",
       "        });\n",
       "        }\n",
       "        </script>\n",
       "        "
      ]
     },
     "metadata": {},
     "output_type": "display_data"
    },
    {
     "data": {
      "text/html": [
       "        <script type=\"text/javascript\">\n",
       "        window.PlotlyConfig = {MathJaxConfig: 'local'};\n",
       "        if (window.MathJax && window.MathJax.Hub && window.MathJax.Hub.Config) {window.MathJax.Hub.Config({SVG: {font: \"STIX-Web\"}});}\n",
       "        if (typeof require !== 'undefined') {\n",
       "        require.undef(\"plotly\");\n",
       "        requirejs.config({\n",
       "            paths: {\n",
       "                'plotly': ['https://cdn.plot.ly/plotly-2.12.1.min']\n",
       "            }\n",
       "        });\n",
       "        require(['plotly'], function(Plotly) {\n",
       "            window._Plotly = Plotly;\n",
       "        });\n",
       "        }\n",
       "        </script>\n",
       "        "
      ]
     },
     "metadata": {},
     "output_type": "display_data"
    }
   ],
   "source": [
    "import pandas as pd\n",
    "import numpy as np\n",
    "import chart_studio.plotly as py\n",
    "import cufflinks as cf\n",
    "import seaborn as sns\n",
    "import plotly.express as px\n",
    "import plotly.graph_objects as go\n",
    "import collections\n",
    "from collections import OrderedDict\n",
    "%matplotlib inline\n",
    "from plotly.offline import download_plotlyjs, init_notebook_mode, plot, iplot\n",
    "init_notebook_mode(connected=True)\n",
    "cf.go_offline()"
   ]
  },
  {
   "cell_type": "code",
   "execution_count": 68,
   "id": "6efcc200",
   "metadata": {},
   "outputs": [],
   "source": [
    "pd.set_option('display.max_columns', None)\n",
    "pd.set_option('display.max_rows', None)\n",
    "\n",
    "# *******Node 1*******\n",
    "dfn1_macro_fused_probempi = pd.read_csv(\"macro_fused_probempi_node1.csv\")\n",
    "dfn1_macro_fused_nonprobempi = pd.read_csv(\"macro_fused_nonprobempi_node1.csv\")\n",
    "dfn1_macro_newgeo_probempi = pd.read_csv(\"macro_newgeo_probempi_node1.csv\")\n",
    "dfn1_macro_newgeo_nonprobempi = pd.read_csv(\"macro_newgeo_nonprobempi_node1.csv\")\n",
    "dfn1_macro_nonfused_probempi = pd.read_csv(\"macro_nonfused_probempi_node1.csv\")\n",
    "dfn1_macro_nonfused_nonprobempi = pd.read_csv(\"macro_nonfused_nonprobempi_node1.csv\")\n",
    "\n",
    "dfn1_avx_fused_probmpi = pd.read_csv(\"avx_fused_probempi_node1.csv\")\n",
    "dfn1_avx_fused_nonprobmpi = pd.read_csv(\"avx_fused_nonprobempi_node1.csv\")\n",
    "dfn1_avx_newgeo_probempi = pd.read_csv(\"avx_newgeo_probempi_node1.csv\")\n",
    "dfn1_avx_newgeo_nonprobempi = pd.read_csv(\"avx_newgeo_nonprobempi_node1.csv\")\n",
    "dfn1_avx_nonfused_probempi = pd.read_csv(\"avx_nonfused_probempi_node1.csv\")\n",
    "dfn1_avx_nonfused_nonprobempi = pd.read_csv(\"avx_nonfused_nonprobempi_node1.csv\")\n",
    "\n",
    "# *******Node 2*******\n",
    "dfn2_macro_fused_probempi = pd.read_csv(\"n2_fused_macro_probempi.csv\")\n",
    "dfn2_macro_fused_nonprobempi = pd.read_csv(\"n2_fused_macro_nonprobempi.csv\")\n",
    "dfn2_macro_newgeo_probempi = pd.read_csv(\"n2_newgeo_macro_probempi.csv\")\n",
    "dfn2_macro_newgeo_nonprobempi = pd.read_csv(\"n2_newgeo_macro_nonprobempi.csv\")\n",
    "dfn2_macro_nonfused_probempi = pd.read_csv(\"n2_nonfused_macro_probempi.csv\")\n",
    "dfn2_macro_nonfused_nonprobempi = pd.read_csv(\"n2_nonfused_macro_nonprobempi.csv\")\n",
    "\n",
    "dfn2_avx_fused_probmpi = pd.read_csv(\"n2_fused_avx_probempi.csv\")\n",
    "dfn2_avx_fused_nonprobmpi = pd.read_csv(\"n2_fused_avx_nonprobempi.csv\")\n",
    "dfn2_avx_newgeo_probempi = pd.read_csv(\"n2_newgeo_avx_probempi.csv\")\n",
    "dfn2_avx_newgeo_nonprobempi = pd.read_csv(\"n2_newgeo_avx_nonprobempi.csv\")\n",
    "dfn2_avx_nonfused_probempi = pd.read_csv(\"n2_nonfused_avx_probempi.csv\")\n",
    "dfn2_avx_nonfused_nonprobempi = pd.read_csv(\"n2_nonfused_avx_nonprobempi.csv\")\n",
    "\n",
    "# *******Node 4*******\n",
    "dfn4_macro_fused_probempi = pd.read_csv(\"n4_fused_macro_probempi.csv\")\n",
    "dfn4_macro_fused_nonprobempi = pd.read_csv(\"n4_fused_macro_nonprobempi.csv\")\n",
    "dfn4_macro_newgeo_probempi = pd.read_csv(\"n4_newgeo_macro_probempi.csv\")\n",
    "dfn4_macro_newgeo_nonprobempi = pd.read_csv(\"n4_newgeo_macro_nonprobempi.csv\")\n",
    "dfn4_macro_nonfused_probempi = pd.read_csv(\"n4_nonfused_macro_probempi.csv\")\n",
    "dfn4_macro_nonfused_nonprobempi = pd.read_csv(\"n4_nonfused_macro_nonprobempi.csv\")\n",
    "\n",
    "\n"
   ]
  },
  {
   "cell_type": "code",
   "execution_count": null,
   "id": "d2131f4e",
   "metadata": {},
   "outputs": [],
   "source": []
  },
  {
   "cell_type": "markdown",
   "id": "6f9619c4",
   "metadata": {},
   "source": [
    "# 1. MACRO: Fused_NonProbempi"
   ]
  },
  {
   "cell_type": "markdown",
   "id": "1e0e11bd",
   "metadata": {},
   "source": [
    "## node 1: macro_fused_nonprobempi"
   ]
  },
  {
   "cell_type": "code",
   "execution_count": 8,
   "id": "26fa1f14",
   "metadata": {},
   "outputs": [],
   "source": [
    "dfn1_macro_fused_nonprobempi[\"N_Nodes\"] = 1\n",
    "dfn1_macro_fused_nonprobempi['NPX'] = (dfn1_macro_fused_nonprobempi.GLB_X//dfn1_macro_fused_nonprobempi.LOC_X)\n",
    "dfn1_macro_fused_nonprobempi['NPY'] = (dfn1_macro_fused_nonprobempi.GLB_Y//dfn1_macro_fused_nonprobempi.LOC_Y)\n",
    "dfn1_macro_fused_nonprobempi['NPZ'] = (dfn1_macro_fused_nonprobempi.GLB_Z//dfn1_macro_fused_nonprobempi.LOC_Z)\n",
    "dfn1_macro_fused_nonprobempi['NPT'] = (dfn1_macro_fused_nonprobempi.GLB_T//dfn1_macro_fused_nonprobempi.LOC_T)\n",
    "dfn1_macro_fused_nonprobempi[\"Total_proc\"] = dfn1_macro_fused_nonprobempi[\"omp_thrd\"]* dfn1_macro_fused_nonprobempi.MPI_size\n",
    "# dfn1_macro_fused_nonprobempi.columns"
   ]
  },
  {
   "cell_type": "code",
   "execution_count": 10,
   "id": "4ac31b13",
   "metadata": {},
   "outputs": [
    {
     "data": {
      "text/html": [
       "<div>\n",
       "<style scoped>\n",
       "    .dataframe tbody tr th:only-of-type {\n",
       "        vertical-align: middle;\n",
       "    }\n",
       "\n",
       "    .dataframe tbody tr th {\n",
       "        vertical-align: top;\n",
       "    }\n",
       "\n",
       "    .dataframe thead th {\n",
       "        text-align: right;\n",
       "    }\n",
       "</style>\n",
       "<table border=\"1\" class=\"dataframe\">\n",
       "  <thead>\n",
       "    <tr style=\"text-align: right;\">\n",
       "      <th></th>\n",
       "      <th>MPI_size</th>\n",
       "      <th>omp_thrd</th>\n",
       "      <th>NPT</th>\n",
       "      <th>NPX</th>\n",
       "      <th>NPY</th>\n",
       "      <th>NPZ</th>\n",
       "      <th>Total_proc</th>\n",
       "      <th>size</th>\n",
       "    </tr>\n",
       "  </thead>\n",
       "  <tbody>\n",
       "    <tr>\n",
       "      <th>0</th>\n",
       "      <td>8</td>\n",
       "      <td>4</td>\n",
       "      <td>1</td>\n",
       "      <td>2</td>\n",
       "      <td>2</td>\n",
       "      <td>2</td>\n",
       "      <td>32</td>\n",
       "      <td>15</td>\n",
       "    </tr>\n",
       "    <tr>\n",
       "      <th>1</th>\n",
       "      <td>16</td>\n",
       "      <td>2</td>\n",
       "      <td>2</td>\n",
       "      <td>2</td>\n",
       "      <td>2</td>\n",
       "      <td>2</td>\n",
       "      <td>32</td>\n",
       "      <td>13</td>\n",
       "    </tr>\n",
       "    <tr>\n",
       "      <th>2</th>\n",
       "      <td>32</td>\n",
       "      <td>1</td>\n",
       "      <td>4</td>\n",
       "      <td>2</td>\n",
       "      <td>2</td>\n",
       "      <td>2</td>\n",
       "      <td>32</td>\n",
       "      <td>5</td>\n",
       "    </tr>\n",
       "  </tbody>\n",
       "</table>\n",
       "</div>"
      ],
      "text/plain": [
       "   MPI_size  omp_thrd  NPT  NPX  NPY  NPZ  Total_proc  size\n",
       "0         8         4    1    2    2    2          32    15\n",
       "1        16         2    2    2    2    2          32    13\n",
       "2        32         1    4    2    2    2          32     5"
      ]
     },
     "execution_count": 10,
     "metadata": {},
     "output_type": "execute_result"
    }
   ],
   "source": [
    "dfn1_macro_fused_nonprobempi_summary =dfn1_macro_fused_nonprobempi.groupby(['MPI_size','omp_thrd','NPT','NPX', 'NPY', 'NPZ',\"Total_proc\"]).size().reset_index(name = 'size')\n",
    "dfn1_macro_fused_nonprobempi_summary"
   ]
  },
  {
   "cell_type": "code",
   "execution_count": 13,
   "id": "95093865",
   "metadata": {},
   "outputs": [],
   "source": [
    "dfn1MacFusNonProb_8mpi_4omp = dfn1_macro_fused_nonprobempi[(dfn1_macro_fused_nonprobempi.omp_thrd == 4) & (dfn1_macro_fused_nonprobempi.GLB_T/dfn1_macro_fused_nonprobempi.LOC_T == 1) & (dfn1_macro_fused_nonprobempi.GLB_X/dfn1_macro_fused_nonprobempi.LOC_X == 2) & (dfn1_macro_fused_nonprobempi.GLB_Y/dfn1_macro_fused_nonprobempi.LOC_Y == 2)& (dfn1_macro_fused_nonprobempi.GLB_Z/dfn1_macro_fused_nonprobempi.LOC_Z == 2)]\n",
    "dfn1MacFusNonProb_16mpi_2omp = dfn1_macro_fused_nonprobempi[(dfn1_macro_fused_nonprobempi.omp_thrd == 2) & (dfn1_macro_fused_nonprobempi.GLB_T/dfn1_macro_fused_nonprobempi.LOC_T == 2) & (dfn1_macro_fused_nonprobempi.GLB_X/dfn1_macro_fused_nonprobempi.LOC_X == 2) & (dfn1_macro_fused_nonprobempi.GLB_Y/dfn1_macro_fused_nonprobempi.LOC_Y == 2)& (dfn1_macro_fused_nonprobempi.GLB_Z/dfn1_macro_fused_nonprobempi.LOC_Z == 2)]\n",
    "dfn1MacFusnonProb_32mpi_1omp = dfn1_macro_fused_nonprobempi[(dfn1_macro_fused_nonprobempi.omp_thrd == 1) & (dfn1_macro_fused_nonprobempi.GLB_T/dfn1_macro_fused_nonprobempi.LOC_T == 4) & (dfn1_macro_fused_nonprobempi.GLB_X/dfn1_macro_fused_nonprobempi.LOC_X == 2) & (dfn1_macro_fused_nonprobempi.GLB_Y/dfn1_macro_fused_nonprobempi.LOC_Y == 2)& (dfn1_macro_fused_nonprobempi.GLB_Z/dfn1_macro_fused_nonprobempi.LOC_Z == 2)]\n"
   ]
  },
  {
   "cell_type": "markdown",
   "id": "f4630184",
   "metadata": {},
   "source": [
    "## node 2: macro_fused_nonprobempi"
   ]
  },
  {
   "cell_type": "code",
   "execution_count": 15,
   "id": "a811c343",
   "metadata": {},
   "outputs": [],
   "source": [
    "dfn2_macro_fused_nonprobempi[\"N_Nodes\"] = 2\n",
    "dfn2_macro_fused_nonprobempi['NPX'] = (dfn2_macro_fused_nonprobempi.GLB_X//dfn2_macro_fused_nonprobempi.LOC_X)\n",
    "dfn2_macro_fused_nonprobempi['NPY'] = (dfn2_macro_fused_nonprobempi.GLB_Y//dfn2_macro_fused_nonprobempi.LOC_Y)\n",
    "dfn2_macro_fused_nonprobempi['NPZ'] = (dfn2_macro_fused_nonprobempi.GLB_Z//dfn2_macro_fused_nonprobempi.LOC_Z)\n",
    "dfn2_macro_fused_nonprobempi['NPT'] = (dfn2_macro_fused_nonprobempi.GLB_T//dfn2_macro_fused_nonprobempi.LOC_T)\n",
    "dfn2_macro_fused_nonprobempi[\"Total_proc\"] = dfn2_macro_fused_nonprobempi[\"omp_thrd\"]* dfn2_macro_fused_nonprobempi.MPI_size\n",
    "# dfn2_macro_fused_nonprobempi.columns"
   ]
  },
  {
   "cell_type": "code",
   "execution_count": 16,
   "id": "f54db489",
   "metadata": {},
   "outputs": [
    {
     "data": {
      "text/html": [
       "<div>\n",
       "<style scoped>\n",
       "    .dataframe tbody tr th:only-of-type {\n",
       "        vertical-align: middle;\n",
       "    }\n",
       "\n",
       "    .dataframe tbody tr th {\n",
       "        vertical-align: top;\n",
       "    }\n",
       "\n",
       "    .dataframe thead th {\n",
       "        text-align: right;\n",
       "    }\n",
       "</style>\n",
       "<table border=\"1\" class=\"dataframe\">\n",
       "  <thead>\n",
       "    <tr style=\"text-align: right;\">\n",
       "      <th></th>\n",
       "      <th>MPI_size</th>\n",
       "      <th>omp_thrd</th>\n",
       "      <th>NPT</th>\n",
       "      <th>NPX</th>\n",
       "      <th>NPY</th>\n",
       "      <th>NPZ</th>\n",
       "      <th>Total_proc</th>\n",
       "      <th>size</th>\n",
       "    </tr>\n",
       "  </thead>\n",
       "  <tbody>\n",
       "    <tr>\n",
       "      <th>0</th>\n",
       "      <td>16</td>\n",
       "      <td>4</td>\n",
       "      <td>2</td>\n",
       "      <td>2</td>\n",
       "      <td>2</td>\n",
       "      <td>2</td>\n",
       "      <td>64</td>\n",
       "      <td>29</td>\n",
       "    </tr>\n",
       "    <tr>\n",
       "      <th>1</th>\n",
       "      <td>32</td>\n",
       "      <td>2</td>\n",
       "      <td>4</td>\n",
       "      <td>2</td>\n",
       "      <td>2</td>\n",
       "      <td>2</td>\n",
       "      <td>64</td>\n",
       "      <td>13</td>\n",
       "    </tr>\n",
       "    <tr>\n",
       "      <th>2</th>\n",
       "      <td>56</td>\n",
       "      <td>1</td>\n",
       "      <td>7</td>\n",
       "      <td>2</td>\n",
       "      <td>2</td>\n",
       "      <td>2</td>\n",
       "      <td>56</td>\n",
       "      <td>3</td>\n",
       "    </tr>\n",
       "    <tr>\n",
       "      <th>3</th>\n",
       "      <td>64</td>\n",
       "      <td>1</td>\n",
       "      <td>8</td>\n",
       "      <td>2</td>\n",
       "      <td>2</td>\n",
       "      <td>2</td>\n",
       "      <td>64</td>\n",
       "      <td>5</td>\n",
       "    </tr>\n",
       "  </tbody>\n",
       "</table>\n",
       "</div>"
      ],
      "text/plain": [
       "   MPI_size  omp_thrd  NPT  NPX  NPY  NPZ  Total_proc  size\n",
       "0        16         4    2    2    2    2          64    29\n",
       "1        32         2    4    2    2    2          64    13\n",
       "2        56         1    7    2    2    2          56     3\n",
       "3        64         1    8    2    2    2          64     5"
      ]
     },
     "execution_count": 16,
     "metadata": {},
     "output_type": "execute_result"
    }
   ],
   "source": [
    "dfn2_macro_fused_nonprobempi_summary =dfn2_macro_fused_nonprobempi.groupby(['MPI_size','omp_thrd','NPT','NPX', 'NPY', 'NPZ',\"Total_proc\"]).size().reset_index(name = 'size')\n",
    "dfn2_macro_fused_nonprobempi_summary"
   ]
  },
  {
   "cell_type": "code",
   "execution_count": 18,
   "id": "90c24b36",
   "metadata": {},
   "outputs": [],
   "source": [
    "dfn2MacFusNonProb_16mpi_4omp = dfn2_macro_fused_nonprobempi[(dfn2_macro_fused_nonprobempi.omp_thrd == 4) & (dfn2_macro_fused_nonprobempi.GLB_T/dfn2_macro_fused_nonprobempi.LOC_T == 2) & (dfn2_macro_fused_nonprobempi.GLB_X/dfn2_macro_fused_nonprobempi.LOC_X == 2) & (dfn2_macro_fused_nonprobempi.GLB_Y/dfn2_macro_fused_nonprobempi.LOC_Y == 2)& (dfn2_macro_fused_nonprobempi.GLB_Z/dfn2_macro_fused_nonprobempi.LOC_Z == 2)]\n",
    "dfn2MacFusNonProb_32mpi_2omp = dfn2_macro_fused_nonprobempi[(dfn2_macro_fused_nonprobempi.omp_thrd == 2) & (dfn2_macro_fused_nonprobempi.GLB_T/dfn2_macro_fused_nonprobempi.LOC_T == 4) & (dfn2_macro_fused_nonprobempi.GLB_X/dfn2_macro_fused_nonprobempi.LOC_X == 2) & (dfn2_macro_fused_nonprobempi.GLB_Y/dfn2_macro_fused_nonprobempi.LOC_Y == 2)& (dfn2_macro_fused_nonprobempi.GLB_Z/dfn2_macro_fused_nonprobempi.LOC_Z == 2)]\n",
    "dfn2MacFusnonProb_56mpi_1omp = dfn2_macro_fused_nonprobempi[(dfn2_macro_fused_nonprobempi.omp_thrd == 1) & (dfn2_macro_fused_nonprobempi.GLB_T/dfn2_macro_fused_nonprobempi.LOC_T == 7) & (dfn2_macro_fused_nonprobempi.GLB_X/dfn2_macro_fused_nonprobempi.LOC_X == 2) & (dfn2_macro_fused_nonprobempi.GLB_Y/dfn2_macro_fused_nonprobempi.LOC_Y == 2)& (dfn2_macro_fused_nonprobempi.GLB_Z/dfn2_macro_fused_nonprobempi.LOC_Z == 2)]\n",
    "dfn2MacFusnonProb_64mpi_1omp = dfn2_macro_fused_nonprobempi[(dfn2_macro_fused_nonprobempi.omp_thrd == 1) & (dfn2_macro_fused_nonprobempi.GLB_T/dfn2_macro_fused_nonprobempi.LOC_T == 8) & (dfn2_macro_fused_nonprobempi.GLB_X/dfn2_macro_fused_nonprobempi.LOC_X == 2) & (dfn2_macro_fused_nonprobempi.GLB_Y/dfn2_macro_fused_nonprobempi.LOC_Y == 2)& (dfn2_macro_fused_nonprobempi.GLB_Z/dfn2_macro_fused_nonprobempi.LOC_Z == 2)]\n",
    "# dfn2MacFusNonProb_16mpi_4omp"
   ]
  },
  {
   "cell_type": "markdown",
   "id": "f5ba2503",
   "metadata": {},
   "source": [
    "## node 4: macro_fused_nonprobempi"
   ]
  },
  {
   "cell_type": "code",
   "execution_count": 20,
   "id": "cebeec58",
   "metadata": {},
   "outputs": [],
   "source": [
    "dfn4_macro_fused_nonprobempi[\"N_Nodes\"] = 4\n",
    "dfn4_macro_fused_nonprobempi['NPX'] = (dfn4_macro_fused_nonprobempi.GLB_X//dfn4_macro_fused_nonprobempi.LOC_X)\n",
    "dfn4_macro_fused_nonprobempi['NPY'] = (dfn4_macro_fused_nonprobempi.GLB_Y//dfn4_macro_fused_nonprobempi.LOC_Y)\n",
    "dfn4_macro_fused_nonprobempi['NPZ'] = (dfn4_macro_fused_nonprobempi.GLB_Z//dfn4_macro_fused_nonprobempi.LOC_Z)\n",
    "dfn4_macro_fused_nonprobempi['NPT'] = (dfn4_macro_fused_nonprobempi.GLB_T//dfn4_macro_fused_nonprobempi.LOC_T)\n",
    "dfn4_macro_fused_nonprobempi[\"Total_proc\"] = dfn4_macro_fused_nonprobempi[\"omp_thrd\"]* dfn4_macro_fused_nonprobempi.MPI_size\n",
    "# dfn4_macro_fused_nonprobempi.columns"
   ]
  },
  {
   "cell_type": "code",
   "execution_count": 21,
   "id": "77fcbd89",
   "metadata": {},
   "outputs": [
    {
     "data": {
      "text/html": [
       "<div>\n",
       "<style scoped>\n",
       "    .dataframe tbody tr th:only-of-type {\n",
       "        vertical-align: middle;\n",
       "    }\n",
       "\n",
       "    .dataframe tbody tr th {\n",
       "        vertical-align: top;\n",
       "    }\n",
       "\n",
       "    .dataframe thead th {\n",
       "        text-align: right;\n",
       "    }\n",
       "</style>\n",
       "<table border=\"1\" class=\"dataframe\">\n",
       "  <thead>\n",
       "    <tr style=\"text-align: right;\">\n",
       "      <th></th>\n",
       "      <th>MPI_size</th>\n",
       "      <th>omp_thrd</th>\n",
       "      <th>NPT</th>\n",
       "      <th>NPX</th>\n",
       "      <th>NPY</th>\n",
       "      <th>NPZ</th>\n",
       "      <th>Total_proc</th>\n",
       "      <th>size</th>\n",
       "    </tr>\n",
       "  </thead>\n",
       "  <tbody>\n",
       "    <tr>\n",
       "      <th>0</th>\n",
       "      <td>32</td>\n",
       "      <td>4</td>\n",
       "      <td>4</td>\n",
       "      <td>2</td>\n",
       "      <td>2</td>\n",
       "      <td>2</td>\n",
       "      <td>128</td>\n",
       "      <td>29</td>\n",
       "    </tr>\n",
       "    <tr>\n",
       "      <th>1</th>\n",
       "      <td>40</td>\n",
       "      <td>3</td>\n",
       "      <td>5</td>\n",
       "      <td>2</td>\n",
       "      <td>2</td>\n",
       "      <td>2</td>\n",
       "      <td>120</td>\n",
       "      <td>11</td>\n",
       "    </tr>\n",
       "    <tr>\n",
       "      <th>2</th>\n",
       "      <td>56</td>\n",
       "      <td>2</td>\n",
       "      <td>7</td>\n",
       "      <td>2</td>\n",
       "      <td>2</td>\n",
       "      <td>2</td>\n",
       "      <td>112</td>\n",
       "      <td>8</td>\n",
       "    </tr>\n",
       "    <tr>\n",
       "      <th>3</th>\n",
       "      <td>64</td>\n",
       "      <td>2</td>\n",
       "      <td>8</td>\n",
       "      <td>2</td>\n",
       "      <td>2</td>\n",
       "      <td>2</td>\n",
       "      <td>128</td>\n",
       "      <td>13</td>\n",
       "    </tr>\n",
       "    <tr>\n",
       "      <th>4</th>\n",
       "      <td>104</td>\n",
       "      <td>1</td>\n",
       "      <td>13</td>\n",
       "      <td>2</td>\n",
       "      <td>2</td>\n",
       "      <td>2</td>\n",
       "      <td>104</td>\n",
       "      <td>3</td>\n",
       "    </tr>\n",
       "    <tr>\n",
       "      <th>5</th>\n",
       "      <td>112</td>\n",
       "      <td>1</td>\n",
       "      <td>14</td>\n",
       "      <td>2</td>\n",
       "      <td>2</td>\n",
       "      <td>2</td>\n",
       "      <td>112</td>\n",
       "      <td>6</td>\n",
       "    </tr>\n",
       "    <tr>\n",
       "      <th>6</th>\n",
       "      <td>120</td>\n",
       "      <td>1</td>\n",
       "      <td>15</td>\n",
       "      <td>2</td>\n",
       "      <td>2</td>\n",
       "      <td>2</td>\n",
       "      <td>120</td>\n",
       "      <td>3</td>\n",
       "    </tr>\n",
       "    <tr>\n",
       "      <th>7</th>\n",
       "      <td>128</td>\n",
       "      <td>1</td>\n",
       "      <td>16</td>\n",
       "      <td>2</td>\n",
       "      <td>2</td>\n",
       "      <td>2</td>\n",
       "      <td>128</td>\n",
       "      <td>5</td>\n",
       "    </tr>\n",
       "  </tbody>\n",
       "</table>\n",
       "</div>"
      ],
      "text/plain": [
       "   MPI_size  omp_thrd  NPT  NPX  NPY  NPZ  Total_proc  size\n",
       "0        32         4    4    2    2    2         128    29\n",
       "1        40         3    5    2    2    2         120    11\n",
       "2        56         2    7    2    2    2         112     8\n",
       "3        64         2    8    2    2    2         128    13\n",
       "4       104         1   13    2    2    2         104     3\n",
       "5       112         1   14    2    2    2         112     6\n",
       "6       120         1   15    2    2    2         120     3\n",
       "7       128         1   16    2    2    2         128     5"
      ]
     },
     "execution_count": 21,
     "metadata": {},
     "output_type": "execute_result"
    }
   ],
   "source": [
    "dfn4_macro_fused_nonprobempi_summary =dfn4_macro_fused_nonprobempi.groupby(['MPI_size','omp_thrd','NPT','NPX', 'NPY', 'NPZ',\"Total_proc\"]).size().reset_index(name = 'size')\n",
    "dfn4_macro_fused_nonprobempi_summary"
   ]
  },
  {
   "cell_type": "code",
   "execution_count": 23,
   "id": "f817cdae",
   "metadata": {},
   "outputs": [],
   "source": [
    "dfn4MacFusNonProb_32mpi_4omp = dfn4_macro_fused_nonprobempi[(dfn4_macro_fused_nonprobempi.omp_thrd == 4) & (dfn4_macro_fused_nonprobempi.GLB_T/dfn4_macro_fused_nonprobempi.LOC_T == 4) & (dfn4_macro_fused_nonprobempi.GLB_X/dfn4_macro_fused_nonprobempi.LOC_X == 2) & (dfn4_macro_fused_nonprobempi.GLB_Y/dfn4_macro_fused_nonprobempi.LOC_Y == 2)& (dfn4_macro_fused_nonprobempi.GLB_Z/dfn4_macro_fused_nonprobempi.LOC_Z == 2)]\n",
    "dfn4MacFusNonProb_40mpi_3omp = dfn4_macro_fused_nonprobempi[(dfn4_macro_fused_nonprobempi.omp_thrd == 3) & (dfn4_macro_fused_nonprobempi.GLB_T/dfn4_macro_fused_nonprobempi.LOC_T == 5) & (dfn4_macro_fused_nonprobempi.GLB_X/dfn4_macro_fused_nonprobempi.LOC_X == 2) & (dfn4_macro_fused_nonprobempi.GLB_Y/dfn4_macro_fused_nonprobempi.LOC_Y == 2)& (dfn4_macro_fused_nonprobempi.GLB_Z/dfn4_macro_fused_nonprobempi.LOC_Z == 2)]\n",
    "dfn4MacFusnonProb_56mpi_2omp = dfn4_macro_fused_nonprobempi[(dfn4_macro_fused_nonprobempi.omp_thrd == 2) & (dfn4_macro_fused_nonprobempi.GLB_T/dfn4_macro_fused_nonprobempi.LOC_T == 7) & (dfn4_macro_fused_nonprobempi.GLB_X/dfn4_macro_fused_nonprobempi.LOC_X == 2) & (dfn4_macro_fused_nonprobempi.GLB_Y/dfn4_macro_fused_nonprobempi.LOC_Y == 2)& (dfn4_macro_fused_nonprobempi.GLB_Z/dfn4_macro_fused_nonprobempi.LOC_Z == 2)]\n",
    "dfn4MacFusnonProb_64mpi_2omp = dfn4_macro_fused_nonprobempi[(dfn4_macro_fused_nonprobempi.omp_thrd == 2) & (dfn4_macro_fused_nonprobempi.GLB_T/dfn4_macro_fused_nonprobempi.LOC_T == 8) & (dfn4_macro_fused_nonprobempi.GLB_X/dfn4_macro_fused_nonprobempi.LOC_X == 2) & (dfn4_macro_fused_nonprobempi.GLB_Y/dfn4_macro_fused_nonprobempi.LOC_Y == 2)& (dfn4_macro_fused_nonprobempi.GLB_Z/dfn4_macro_fused_nonprobempi.LOC_Z == 2)]\n",
    "dfn4MacFusnonProb_112mpi_1omp = dfn4_macro_fused_nonprobempi[(dfn4_macro_fused_nonprobempi.omp_thrd == 1) & (dfn4_macro_fused_nonprobempi.GLB_T/dfn4_macro_fused_nonprobempi.LOC_T == 14) & (dfn4_macro_fused_nonprobempi.GLB_X/dfn4_macro_fused_nonprobempi.LOC_X == 2) & (dfn4_macro_fused_nonprobempi.GLB_Y/dfn4_macro_fused_nonprobempi.LOC_Y == 2)& (dfn4_macro_fused_nonprobempi.GLB_Z/dfn4_macro_fused_nonprobempi.LOC_Z == 2)]\n",
    "dfn4MacFusnonProb_128mpi_1omp = dfn4_macro_fused_nonprobempi[(dfn4_macro_fused_nonprobempi.omp_thrd == 1) & (dfn4_macro_fused_nonprobempi.GLB_T/dfn4_macro_fused_nonprobempi.LOC_T == 16) & (dfn4_macro_fused_nonprobempi.GLB_X/dfn4_macro_fused_nonprobempi.LOC_X == 2) & (dfn4_macro_fused_nonprobempi.GLB_Y/dfn4_macro_fused_nonprobempi.LOC_Y == 2)& (dfn4_macro_fused_nonprobempi.GLB_Z/dfn4_macro_fused_nonprobempi.LOC_Z == 2)]\n"
   ]
  },
  {
   "cell_type": "code",
   "execution_count": null,
   "id": "0a01f840",
   "metadata": {},
   "outputs": [],
   "source": []
  },
  {
   "cell_type": "markdown",
   "id": "2c335a13",
   "metadata": {},
   "source": [
    "## Bandwidth Macro Fused NonProbmpi: Node1 vs 2 vs 4 (32 mpi 1omp per node)"
   ]
  },
  {
   "cell_type": "code",
   "execution_count": 49,
   "id": "afaacaed",
   "metadata": {},
   "outputs": [
    {
     "data": {
      "application/vnd.plotly.v1+json": {
       "config": {
        "plotlyServerURL": "https://plot.ly"
       },
       "data": [
        {
         "line": {
          "color": "magenta",
          "width": 3
         },
         "marker": {
          "line": {
           "color": "Purple",
           "width": 2
          },
          "size": 7,
          "symbol": "circle"
         },
         "mode": "lines+markers",
         "name": "Node1: MacFusnonProb_32mpi_1omp",
         "type": "scatter",
         "x": [
          201326592,
          251658240,
          301989888,
          352321536,
          402653184
         ],
         "y": [
          136.25984,
          120.9472,
          115.3072,
          111.73984,
          109.51136
         ]
        },
        {
         "line": {
          "color": "darkcyan",
          "width": 3
         },
         "marker": {
          "line": {
           "color": "Purple",
           "width": 2
          },
          "size": 7,
          "symbol": "circle"
         },
         "mode": "lines+markers",
         "name": "Node2: MacFusnonProb_64mpi_1omp",
         "type": "scatter",
         "x": [
          201326592,
          251658240,
          301989888,
          352321536,
          402653184
         ],
         "y": [
          127.41376,
          114.4096,
          111.44896,
          108.53088,
          107.0032
         ]
        },
        {
         "line": {
          "color": "royalblue",
          "width": 3
         },
         "marker": {
          "line": {
           "color": "Purple",
           "width": 2
          },
          "size": 7,
          "symbol": "circle"
         },
         "mode": "lines+markers",
         "name": "Node4: MacFusnonProb_128mpi_1omp",
         "type": "scatter",
         "x": [
          201326592,
          251658240,
          301989888,
          352321536,
          402653184
         ],
         "y": [
          127.42848,
          115.45792,
          111.56096,
          109.12352,
          107.34784
         ]
        }
       ],
       "layout": {
        "annotations": [
         {
          "align": "left",
          "arrowcolor": "#636363",
          "arrowhead": 1,
          "arrowsize": 1,
          "arrowwidth": 2,
          "ax": -20,
          "ay": -30,
          "font": {
           "color": "purple",
           "family": "Sans Serif",
           "size": 12
          },
          "showarrow": false,
          "text": "LLC Size Per Node: 80M",
          "x": "80e6",
          "y": 280,
          "yanchor": "bottom"
         },
         {
          "align": "left",
          "arrowcolor": "#636363",
          "arrowhead": 1,
          "arrowsize": 1,
          "arrowwidth": 2,
          "ax": -20,
          "ay": -30,
          "font": {
           "color": "orange",
           "family": "Sans Serif",
           "size": 12
          },
          "showarrow": false,
          "text": "Max Bandwidth Per Node",
          "x": "130e6",
          "y": 155,
          "yanchor": "bottom"
         }
        ],
        "shapes": [
         {
          "line": {
           "color": "green",
           "dash": "dot",
           "width": 3
          },
          "type": "line",
          "x0": 80000000,
          "x1": 80000000,
          "xref": "x",
          "y0": 0,
          "y1": 1,
          "yref": "y domain"
         },
         {
          "line": {
           "color": "red",
           "dash": "dash",
           "width": 3
          },
          "type": "line",
          "x0": 0,
          "x1": 1,
          "xref": "x domain",
          "y0": 153,
          "y1": 153,
          "yref": "y"
         }
        ],
        "template": {
         "data": {
          "bar": [
           {
            "error_x": {
             "color": "#2a3f5f"
            },
            "error_y": {
             "color": "#2a3f5f"
            },
            "marker": {
             "line": {
              "color": "#E5ECF6",
              "width": 0.5
             },
             "pattern": {
              "fillmode": "overlay",
              "size": 10,
              "solidity": 0.2
             }
            },
            "type": "bar"
           }
          ],
          "barpolar": [
           {
            "marker": {
             "line": {
              "color": "#E5ECF6",
              "width": 0.5
             },
             "pattern": {
              "fillmode": "overlay",
              "size": 10,
              "solidity": 0.2
             }
            },
            "type": "barpolar"
           }
          ],
          "carpet": [
           {
            "aaxis": {
             "endlinecolor": "#2a3f5f",
             "gridcolor": "white",
             "linecolor": "white",
             "minorgridcolor": "white",
             "startlinecolor": "#2a3f5f"
            },
            "baxis": {
             "endlinecolor": "#2a3f5f",
             "gridcolor": "white",
             "linecolor": "white",
             "minorgridcolor": "white",
             "startlinecolor": "#2a3f5f"
            },
            "type": "carpet"
           }
          ],
          "choropleth": [
           {
            "colorbar": {
             "outlinewidth": 0,
             "ticks": ""
            },
            "type": "choropleth"
           }
          ],
          "contour": [
           {
            "colorbar": {
             "outlinewidth": 0,
             "ticks": ""
            },
            "colorscale": [
             [
              0,
              "#0d0887"
             ],
             [
              0.1111111111111111,
              "#46039f"
             ],
             [
              0.2222222222222222,
              "#7201a8"
             ],
             [
              0.3333333333333333,
              "#9c179e"
             ],
             [
              0.4444444444444444,
              "#bd3786"
             ],
             [
              0.5555555555555556,
              "#d8576b"
             ],
             [
              0.6666666666666666,
              "#ed7953"
             ],
             [
              0.7777777777777778,
              "#fb9f3a"
             ],
             [
              0.8888888888888888,
              "#fdca26"
             ],
             [
              1,
              "#f0f921"
             ]
            ],
            "type": "contour"
           }
          ],
          "contourcarpet": [
           {
            "colorbar": {
             "outlinewidth": 0,
             "ticks": ""
            },
            "type": "contourcarpet"
           }
          ],
          "heatmap": [
           {
            "colorbar": {
             "outlinewidth": 0,
             "ticks": ""
            },
            "colorscale": [
             [
              0,
              "#0d0887"
             ],
             [
              0.1111111111111111,
              "#46039f"
             ],
             [
              0.2222222222222222,
              "#7201a8"
             ],
             [
              0.3333333333333333,
              "#9c179e"
             ],
             [
              0.4444444444444444,
              "#bd3786"
             ],
             [
              0.5555555555555556,
              "#d8576b"
             ],
             [
              0.6666666666666666,
              "#ed7953"
             ],
             [
              0.7777777777777778,
              "#fb9f3a"
             ],
             [
              0.8888888888888888,
              "#fdca26"
             ],
             [
              1,
              "#f0f921"
             ]
            ],
            "type": "heatmap"
           }
          ],
          "heatmapgl": [
           {
            "colorbar": {
             "outlinewidth": 0,
             "ticks": ""
            },
            "colorscale": [
             [
              0,
              "#0d0887"
             ],
             [
              0.1111111111111111,
              "#46039f"
             ],
             [
              0.2222222222222222,
              "#7201a8"
             ],
             [
              0.3333333333333333,
              "#9c179e"
             ],
             [
              0.4444444444444444,
              "#bd3786"
             ],
             [
              0.5555555555555556,
              "#d8576b"
             ],
             [
              0.6666666666666666,
              "#ed7953"
             ],
             [
              0.7777777777777778,
              "#fb9f3a"
             ],
             [
              0.8888888888888888,
              "#fdca26"
             ],
             [
              1,
              "#f0f921"
             ]
            ],
            "type": "heatmapgl"
           }
          ],
          "histogram": [
           {
            "marker": {
             "pattern": {
              "fillmode": "overlay",
              "size": 10,
              "solidity": 0.2
             }
            },
            "type": "histogram"
           }
          ],
          "histogram2d": [
           {
            "colorbar": {
             "outlinewidth": 0,
             "ticks": ""
            },
            "colorscale": [
             [
              0,
              "#0d0887"
             ],
             [
              0.1111111111111111,
              "#46039f"
             ],
             [
              0.2222222222222222,
              "#7201a8"
             ],
             [
              0.3333333333333333,
              "#9c179e"
             ],
             [
              0.4444444444444444,
              "#bd3786"
             ],
             [
              0.5555555555555556,
              "#d8576b"
             ],
             [
              0.6666666666666666,
              "#ed7953"
             ],
             [
              0.7777777777777778,
              "#fb9f3a"
             ],
             [
              0.8888888888888888,
              "#fdca26"
             ],
             [
              1,
              "#f0f921"
             ]
            ],
            "type": "histogram2d"
           }
          ],
          "histogram2dcontour": [
           {
            "colorbar": {
             "outlinewidth": 0,
             "ticks": ""
            },
            "colorscale": [
             [
              0,
              "#0d0887"
             ],
             [
              0.1111111111111111,
              "#46039f"
             ],
             [
              0.2222222222222222,
              "#7201a8"
             ],
             [
              0.3333333333333333,
              "#9c179e"
             ],
             [
              0.4444444444444444,
              "#bd3786"
             ],
             [
              0.5555555555555556,
              "#d8576b"
             ],
             [
              0.6666666666666666,
              "#ed7953"
             ],
             [
              0.7777777777777778,
              "#fb9f3a"
             ],
             [
              0.8888888888888888,
              "#fdca26"
             ],
             [
              1,
              "#f0f921"
             ]
            ],
            "type": "histogram2dcontour"
           }
          ],
          "mesh3d": [
           {
            "colorbar": {
             "outlinewidth": 0,
             "ticks": ""
            },
            "type": "mesh3d"
           }
          ],
          "parcoords": [
           {
            "line": {
             "colorbar": {
              "outlinewidth": 0,
              "ticks": ""
             }
            },
            "type": "parcoords"
           }
          ],
          "pie": [
           {
            "automargin": true,
            "type": "pie"
           }
          ],
          "scatter": [
           {
            "fillpattern": {
             "fillmode": "overlay",
             "size": 10,
             "solidity": 0.2
            },
            "type": "scatter"
           }
          ],
          "scatter3d": [
           {
            "line": {
             "colorbar": {
              "outlinewidth": 0,
              "ticks": ""
             }
            },
            "marker": {
             "colorbar": {
              "outlinewidth": 0,
              "ticks": ""
             }
            },
            "type": "scatter3d"
           }
          ],
          "scattercarpet": [
           {
            "marker": {
             "colorbar": {
              "outlinewidth": 0,
              "ticks": ""
             }
            },
            "type": "scattercarpet"
           }
          ],
          "scattergeo": [
           {
            "marker": {
             "colorbar": {
              "outlinewidth": 0,
              "ticks": ""
             }
            },
            "type": "scattergeo"
           }
          ],
          "scattergl": [
           {
            "marker": {
             "colorbar": {
              "outlinewidth": 0,
              "ticks": ""
             }
            },
            "type": "scattergl"
           }
          ],
          "scattermapbox": [
           {
            "marker": {
             "colorbar": {
              "outlinewidth": 0,
              "ticks": ""
             }
            },
            "type": "scattermapbox"
           }
          ],
          "scatterpolar": [
           {
            "marker": {
             "colorbar": {
              "outlinewidth": 0,
              "ticks": ""
             }
            },
            "type": "scatterpolar"
           }
          ],
          "scatterpolargl": [
           {
            "marker": {
             "colorbar": {
              "outlinewidth": 0,
              "ticks": ""
             }
            },
            "type": "scatterpolargl"
           }
          ],
          "scatterternary": [
           {
            "marker": {
             "colorbar": {
              "outlinewidth": 0,
              "ticks": ""
             }
            },
            "type": "scatterternary"
           }
          ],
          "surface": [
           {
            "colorbar": {
             "outlinewidth": 0,
             "ticks": ""
            },
            "colorscale": [
             [
              0,
              "#0d0887"
             ],
             [
              0.1111111111111111,
              "#46039f"
             ],
             [
              0.2222222222222222,
              "#7201a8"
             ],
             [
              0.3333333333333333,
              "#9c179e"
             ],
             [
              0.4444444444444444,
              "#bd3786"
             ],
             [
              0.5555555555555556,
              "#d8576b"
             ],
             [
              0.6666666666666666,
              "#ed7953"
             ],
             [
              0.7777777777777778,
              "#fb9f3a"
             ],
             [
              0.8888888888888888,
              "#fdca26"
             ],
             [
              1,
              "#f0f921"
             ]
            ],
            "type": "surface"
           }
          ],
          "table": [
           {
            "cells": {
             "fill": {
              "color": "#EBF0F8"
             },
             "line": {
              "color": "white"
             }
            },
            "header": {
             "fill": {
              "color": "#C8D4E3"
             },
             "line": {
              "color": "white"
             }
            },
            "type": "table"
           }
          ]
         },
         "layout": {
          "annotationdefaults": {
           "arrowcolor": "#2a3f5f",
           "arrowhead": 0,
           "arrowwidth": 1
          },
          "autotypenumbers": "strict",
          "coloraxis": {
           "colorbar": {
            "outlinewidth": 0,
            "ticks": ""
           }
          },
          "colorscale": {
           "diverging": [
            [
             0,
             "#8e0152"
            ],
            [
             0.1,
             "#c51b7d"
            ],
            [
             0.2,
             "#de77ae"
            ],
            [
             0.3,
             "#f1b6da"
            ],
            [
             0.4,
             "#fde0ef"
            ],
            [
             0.5,
             "#f7f7f7"
            ],
            [
             0.6,
             "#e6f5d0"
            ],
            [
             0.7,
             "#b8e186"
            ],
            [
             0.8,
             "#7fbc41"
            ],
            [
             0.9,
             "#4d9221"
            ],
            [
             1,
             "#276419"
            ]
           ],
           "sequential": [
            [
             0,
             "#0d0887"
            ],
            [
             0.1111111111111111,
             "#46039f"
            ],
            [
             0.2222222222222222,
             "#7201a8"
            ],
            [
             0.3333333333333333,
             "#9c179e"
            ],
            [
             0.4444444444444444,
             "#bd3786"
            ],
            [
             0.5555555555555556,
             "#d8576b"
            ],
            [
             0.6666666666666666,
             "#ed7953"
            ],
            [
             0.7777777777777778,
             "#fb9f3a"
            ],
            [
             0.8888888888888888,
             "#fdca26"
            ],
            [
             1,
             "#f0f921"
            ]
           ],
           "sequentialminus": [
            [
             0,
             "#0d0887"
            ],
            [
             0.1111111111111111,
             "#46039f"
            ],
            [
             0.2222222222222222,
             "#7201a8"
            ],
            [
             0.3333333333333333,
             "#9c179e"
            ],
            [
             0.4444444444444444,
             "#bd3786"
            ],
            [
             0.5555555555555556,
             "#d8576b"
            ],
            [
             0.6666666666666666,
             "#ed7953"
            ],
            [
             0.7777777777777778,
             "#fb9f3a"
            ],
            [
             0.8888888888888888,
             "#fdca26"
            ],
            [
             1,
             "#f0f921"
            ]
           ]
          },
          "colorway": [
           "#636efa",
           "#EF553B",
           "#00cc96",
           "#ab63fa",
           "#FFA15A",
           "#19d3f3",
           "#FF6692",
           "#B6E880",
           "#FF97FF",
           "#FECB52"
          ],
          "font": {
           "color": "#2a3f5f"
          },
          "geo": {
           "bgcolor": "white",
           "lakecolor": "white",
           "landcolor": "#E5ECF6",
           "showlakes": true,
           "showland": true,
           "subunitcolor": "white"
          },
          "hoverlabel": {
           "align": "left"
          },
          "hovermode": "closest",
          "mapbox": {
           "style": "light"
          },
          "paper_bgcolor": "white",
          "plot_bgcolor": "#E5ECF6",
          "polar": {
           "angularaxis": {
            "gridcolor": "white",
            "linecolor": "white",
            "ticks": ""
           },
           "bgcolor": "#E5ECF6",
           "radialaxis": {
            "gridcolor": "white",
            "linecolor": "white",
            "ticks": ""
           }
          },
          "scene": {
           "xaxis": {
            "backgroundcolor": "#E5ECF6",
            "gridcolor": "white",
            "gridwidth": 2,
            "linecolor": "white",
            "showbackground": true,
            "ticks": "",
            "zerolinecolor": "white"
           },
           "yaxis": {
            "backgroundcolor": "#E5ECF6",
            "gridcolor": "white",
            "gridwidth": 2,
            "linecolor": "white",
            "showbackground": true,
            "ticks": "",
            "zerolinecolor": "white"
           },
           "zaxis": {
            "backgroundcolor": "#E5ECF6",
            "gridcolor": "white",
            "gridwidth": 2,
            "linecolor": "white",
            "showbackground": true,
            "ticks": "",
            "zerolinecolor": "white"
           }
          },
          "shapedefaults": {
           "line": {
            "color": "#2a3f5f"
           }
          },
          "ternary": {
           "aaxis": {
            "gridcolor": "white",
            "linecolor": "white",
            "ticks": ""
           },
           "baxis": {
            "gridcolor": "white",
            "linecolor": "white",
            "ticks": ""
           },
           "bgcolor": "#E5ECF6",
           "caxis": {
            "gridcolor": "white",
            "linecolor": "white",
            "ticks": ""
           }
          },
          "title": {
           "x": 0.05
          },
          "xaxis": {
           "automargin": true,
           "gridcolor": "white",
           "linecolor": "white",
           "ticks": "",
           "title": {
            "standoff": 15
           },
           "zerolinecolor": "white",
           "zerolinewidth": 2
          },
          "yaxis": {
           "automargin": true,
           "gridcolor": "white",
           "linecolor": "white",
           "ticks": "",
           "title": {
            "standoff": 15
           },
           "zerolinecolor": "white",
           "zerolinewidth": 2
          }
         }
        },
        "title": {
         "text": "\"Node 1 vs 2 vs 4 (32MPI 1OMP Per Node): Macro Fused (nonprobempi)\" Bandwidth Measurement"
        },
        "xaxis": {
         "ticks": "outside",
         "title": {
          "text": "Dirc_Data_Mov"
         }
        },
        "yaxis": {
         "ticks": "outside",
         "title": {
          "text": "Bandwidth/Node"
         }
        }
       }
      },
      "text/html": [
       "<div>                            <div id=\"6b7f6914-34da-4948-ab90-8d0d7e02f2c1\" class=\"plotly-graph-div\" style=\"height:525px; width:100%;\"></div>            <script type=\"text/javascript\">                require([\"plotly\"], function(Plotly) {                    window.PLOTLYENV=window.PLOTLYENV || {};                                    if (document.getElementById(\"6b7f6914-34da-4948-ab90-8d0d7e02f2c1\")) {                    Plotly.newPlot(                        \"6b7f6914-34da-4948-ab90-8d0d7e02f2c1\",                        [{\"line\":{\"color\":\"magenta\",\"width\":3},\"marker\":{\"line\":{\"color\":\"Purple\",\"width\":2},\"size\":7,\"symbol\":\"circle\"},\"mode\":\"lines+markers\",\"name\":\"Node1: MacFusnonProb_32mpi_1omp\",\"x\":[201326592,251658240,301989888,352321536,402653184],\"y\":[136.25984,120.9472,115.3072,111.73984,109.51136],\"type\":\"scatter\"},{\"line\":{\"color\":\"darkcyan\",\"width\":3},\"marker\":{\"line\":{\"color\":\"Purple\",\"width\":2},\"size\":7,\"symbol\":\"circle\"},\"mode\":\"lines+markers\",\"name\":\"Node2: MacFusnonProb_64mpi_1omp\",\"x\":[201326592.0,251658240.0,301989888.0,352321536.0,402653184.0],\"y\":[127.41376,114.4096,111.44896,108.53088,107.0032],\"type\":\"scatter\"},{\"line\":{\"color\":\"royalblue\",\"width\":3},\"marker\":{\"line\":{\"color\":\"Purple\",\"width\":2},\"size\":7,\"symbol\":\"circle\"},\"mode\":\"lines+markers\",\"name\":\"Node4: MacFusnonProb_128mpi_1omp\",\"x\":[201326592.0,251658240.0,301989888.0,352321536.0,402653184.0],\"y\":[127.42848,115.45792,111.56096,109.12352,107.34784],\"type\":\"scatter\"}],                        {\"template\":{\"data\":{\"histogram2dcontour\":[{\"type\":\"histogram2dcontour\",\"colorbar\":{\"outlinewidth\":0,\"ticks\":\"\"},\"colorscale\":[[0.0,\"#0d0887\"],[0.1111111111111111,\"#46039f\"],[0.2222222222222222,\"#7201a8\"],[0.3333333333333333,\"#9c179e\"],[0.4444444444444444,\"#bd3786\"],[0.5555555555555556,\"#d8576b\"],[0.6666666666666666,\"#ed7953\"],[0.7777777777777778,\"#fb9f3a\"],[0.8888888888888888,\"#fdca26\"],[1.0,\"#f0f921\"]]}],\"choropleth\":[{\"type\":\"choropleth\",\"colorbar\":{\"outlinewidth\":0,\"ticks\":\"\"}}],\"histogram2d\":[{\"type\":\"histogram2d\",\"colorbar\":{\"outlinewidth\":0,\"ticks\":\"\"},\"colorscale\":[[0.0,\"#0d0887\"],[0.1111111111111111,\"#46039f\"],[0.2222222222222222,\"#7201a8\"],[0.3333333333333333,\"#9c179e\"],[0.4444444444444444,\"#bd3786\"],[0.5555555555555556,\"#d8576b\"],[0.6666666666666666,\"#ed7953\"],[0.7777777777777778,\"#fb9f3a\"],[0.8888888888888888,\"#fdca26\"],[1.0,\"#f0f921\"]]}],\"heatmap\":[{\"type\":\"heatmap\",\"colorbar\":{\"outlinewidth\":0,\"ticks\":\"\"},\"colorscale\":[[0.0,\"#0d0887\"],[0.1111111111111111,\"#46039f\"],[0.2222222222222222,\"#7201a8\"],[0.3333333333333333,\"#9c179e\"],[0.4444444444444444,\"#bd3786\"],[0.5555555555555556,\"#d8576b\"],[0.6666666666666666,\"#ed7953\"],[0.7777777777777778,\"#fb9f3a\"],[0.8888888888888888,\"#fdca26\"],[1.0,\"#f0f921\"]]}],\"heatmapgl\":[{\"type\":\"heatmapgl\",\"colorbar\":{\"outlinewidth\":0,\"ticks\":\"\"},\"colorscale\":[[0.0,\"#0d0887\"],[0.1111111111111111,\"#46039f\"],[0.2222222222222222,\"#7201a8\"],[0.3333333333333333,\"#9c179e\"],[0.4444444444444444,\"#bd3786\"],[0.5555555555555556,\"#d8576b\"],[0.6666666666666666,\"#ed7953\"],[0.7777777777777778,\"#fb9f3a\"],[0.8888888888888888,\"#fdca26\"],[1.0,\"#f0f921\"]]}],\"contourcarpet\":[{\"type\":\"contourcarpet\",\"colorbar\":{\"outlinewidth\":0,\"ticks\":\"\"}}],\"contour\":[{\"type\":\"contour\",\"colorbar\":{\"outlinewidth\":0,\"ticks\":\"\"},\"colorscale\":[[0.0,\"#0d0887\"],[0.1111111111111111,\"#46039f\"],[0.2222222222222222,\"#7201a8\"],[0.3333333333333333,\"#9c179e\"],[0.4444444444444444,\"#bd3786\"],[0.5555555555555556,\"#d8576b\"],[0.6666666666666666,\"#ed7953\"],[0.7777777777777778,\"#fb9f3a\"],[0.8888888888888888,\"#fdca26\"],[1.0,\"#f0f921\"]]}],\"surface\":[{\"type\":\"surface\",\"colorbar\":{\"outlinewidth\":0,\"ticks\":\"\"},\"colorscale\":[[0.0,\"#0d0887\"],[0.1111111111111111,\"#46039f\"],[0.2222222222222222,\"#7201a8\"],[0.3333333333333333,\"#9c179e\"],[0.4444444444444444,\"#bd3786\"],[0.5555555555555556,\"#d8576b\"],[0.6666666666666666,\"#ed7953\"],[0.7777777777777778,\"#fb9f3a\"],[0.8888888888888888,\"#fdca26\"],[1.0,\"#f0f921\"]]}],\"mesh3d\":[{\"type\":\"mesh3d\",\"colorbar\":{\"outlinewidth\":0,\"ticks\":\"\"}}],\"scatter\":[{\"fillpattern\":{\"fillmode\":\"overlay\",\"size\":10,\"solidity\":0.2},\"type\":\"scatter\"}],\"parcoords\":[{\"type\":\"parcoords\",\"line\":{\"colorbar\":{\"outlinewidth\":0,\"ticks\":\"\"}}}],\"scatterpolargl\":[{\"type\":\"scatterpolargl\",\"marker\":{\"colorbar\":{\"outlinewidth\":0,\"ticks\":\"\"}}}],\"bar\":[{\"error_x\":{\"color\":\"#2a3f5f\"},\"error_y\":{\"color\":\"#2a3f5f\"},\"marker\":{\"line\":{\"color\":\"#E5ECF6\",\"width\":0.5},\"pattern\":{\"fillmode\":\"overlay\",\"size\":10,\"solidity\":0.2}},\"type\":\"bar\"}],\"scattergeo\":[{\"type\":\"scattergeo\",\"marker\":{\"colorbar\":{\"outlinewidth\":0,\"ticks\":\"\"}}}],\"scatterpolar\":[{\"type\":\"scatterpolar\",\"marker\":{\"colorbar\":{\"outlinewidth\":0,\"ticks\":\"\"}}}],\"histogram\":[{\"marker\":{\"pattern\":{\"fillmode\":\"overlay\",\"size\":10,\"solidity\":0.2}},\"type\":\"histogram\"}],\"scattergl\":[{\"type\":\"scattergl\",\"marker\":{\"colorbar\":{\"outlinewidth\":0,\"ticks\":\"\"}}}],\"scatter3d\":[{\"type\":\"scatter3d\",\"line\":{\"colorbar\":{\"outlinewidth\":0,\"ticks\":\"\"}},\"marker\":{\"colorbar\":{\"outlinewidth\":0,\"ticks\":\"\"}}}],\"scattermapbox\":[{\"type\":\"scattermapbox\",\"marker\":{\"colorbar\":{\"outlinewidth\":0,\"ticks\":\"\"}}}],\"scatterternary\":[{\"type\":\"scatterternary\",\"marker\":{\"colorbar\":{\"outlinewidth\":0,\"ticks\":\"\"}}}],\"scattercarpet\":[{\"type\":\"scattercarpet\",\"marker\":{\"colorbar\":{\"outlinewidth\":0,\"ticks\":\"\"}}}],\"carpet\":[{\"aaxis\":{\"endlinecolor\":\"#2a3f5f\",\"gridcolor\":\"white\",\"linecolor\":\"white\",\"minorgridcolor\":\"white\",\"startlinecolor\":\"#2a3f5f\"},\"baxis\":{\"endlinecolor\":\"#2a3f5f\",\"gridcolor\":\"white\",\"linecolor\":\"white\",\"minorgridcolor\":\"white\",\"startlinecolor\":\"#2a3f5f\"},\"type\":\"carpet\"}],\"table\":[{\"cells\":{\"fill\":{\"color\":\"#EBF0F8\"},\"line\":{\"color\":\"white\"}},\"header\":{\"fill\":{\"color\":\"#C8D4E3\"},\"line\":{\"color\":\"white\"}},\"type\":\"table\"}],\"barpolar\":[{\"marker\":{\"line\":{\"color\":\"#E5ECF6\",\"width\":0.5},\"pattern\":{\"fillmode\":\"overlay\",\"size\":10,\"solidity\":0.2}},\"type\":\"barpolar\"}],\"pie\":[{\"automargin\":true,\"type\":\"pie\"}]},\"layout\":{\"autotypenumbers\":\"strict\",\"colorway\":[\"#636efa\",\"#EF553B\",\"#00cc96\",\"#ab63fa\",\"#FFA15A\",\"#19d3f3\",\"#FF6692\",\"#B6E880\",\"#FF97FF\",\"#FECB52\"],\"font\":{\"color\":\"#2a3f5f\"},\"hovermode\":\"closest\",\"hoverlabel\":{\"align\":\"left\"},\"paper_bgcolor\":\"white\",\"plot_bgcolor\":\"#E5ECF6\",\"polar\":{\"bgcolor\":\"#E5ECF6\",\"angularaxis\":{\"gridcolor\":\"white\",\"linecolor\":\"white\",\"ticks\":\"\"},\"radialaxis\":{\"gridcolor\":\"white\",\"linecolor\":\"white\",\"ticks\":\"\"}},\"ternary\":{\"bgcolor\":\"#E5ECF6\",\"aaxis\":{\"gridcolor\":\"white\",\"linecolor\":\"white\",\"ticks\":\"\"},\"baxis\":{\"gridcolor\":\"white\",\"linecolor\":\"white\",\"ticks\":\"\"},\"caxis\":{\"gridcolor\":\"white\",\"linecolor\":\"white\",\"ticks\":\"\"}},\"coloraxis\":{\"colorbar\":{\"outlinewidth\":0,\"ticks\":\"\"}},\"colorscale\":{\"sequential\":[[0.0,\"#0d0887\"],[0.1111111111111111,\"#46039f\"],[0.2222222222222222,\"#7201a8\"],[0.3333333333333333,\"#9c179e\"],[0.4444444444444444,\"#bd3786\"],[0.5555555555555556,\"#d8576b\"],[0.6666666666666666,\"#ed7953\"],[0.7777777777777778,\"#fb9f3a\"],[0.8888888888888888,\"#fdca26\"],[1.0,\"#f0f921\"]],\"sequentialminus\":[[0.0,\"#0d0887\"],[0.1111111111111111,\"#46039f\"],[0.2222222222222222,\"#7201a8\"],[0.3333333333333333,\"#9c179e\"],[0.4444444444444444,\"#bd3786\"],[0.5555555555555556,\"#d8576b\"],[0.6666666666666666,\"#ed7953\"],[0.7777777777777778,\"#fb9f3a\"],[0.8888888888888888,\"#fdca26\"],[1.0,\"#f0f921\"]],\"diverging\":[[0,\"#8e0152\"],[0.1,\"#c51b7d\"],[0.2,\"#de77ae\"],[0.3,\"#f1b6da\"],[0.4,\"#fde0ef\"],[0.5,\"#f7f7f7\"],[0.6,\"#e6f5d0\"],[0.7,\"#b8e186\"],[0.8,\"#7fbc41\"],[0.9,\"#4d9221\"],[1,\"#276419\"]]},\"xaxis\":{\"gridcolor\":\"white\",\"linecolor\":\"white\",\"ticks\":\"\",\"title\":{\"standoff\":15},\"zerolinecolor\":\"white\",\"automargin\":true,\"zerolinewidth\":2},\"yaxis\":{\"gridcolor\":\"white\",\"linecolor\":\"white\",\"ticks\":\"\",\"title\":{\"standoff\":15},\"zerolinecolor\":\"white\",\"automargin\":true,\"zerolinewidth\":2},\"scene\":{\"xaxis\":{\"backgroundcolor\":\"#E5ECF6\",\"gridcolor\":\"white\",\"linecolor\":\"white\",\"showbackground\":true,\"ticks\":\"\",\"zerolinecolor\":\"white\",\"gridwidth\":2},\"yaxis\":{\"backgroundcolor\":\"#E5ECF6\",\"gridcolor\":\"white\",\"linecolor\":\"white\",\"showbackground\":true,\"ticks\":\"\",\"zerolinecolor\":\"white\",\"gridwidth\":2},\"zaxis\":{\"backgroundcolor\":\"#E5ECF6\",\"gridcolor\":\"white\",\"linecolor\":\"white\",\"showbackground\":true,\"ticks\":\"\",\"zerolinecolor\":\"white\",\"gridwidth\":2}},\"shapedefaults\":{\"line\":{\"color\":\"#2a3f5f\"}},\"annotationdefaults\":{\"arrowcolor\":\"#2a3f5f\",\"arrowhead\":0,\"arrowwidth\":1},\"geo\":{\"bgcolor\":\"white\",\"landcolor\":\"#E5ECF6\",\"subunitcolor\":\"white\",\"showland\":true,\"showlakes\":true,\"lakecolor\":\"white\"},\"title\":{\"x\":0.05},\"mapbox\":{\"style\":\"light\"}}},\"shapes\":[{\"line\":{\"color\":\"green\",\"dash\":\"dot\",\"width\":3},\"type\":\"line\",\"x0\":80000000.0,\"x1\":80000000.0,\"xref\":\"x\",\"y0\":0,\"y1\":1,\"yref\":\"y domain\"},{\"line\":{\"color\":\"red\",\"dash\":\"dash\",\"width\":3},\"type\":\"line\",\"x0\":0,\"x1\":1,\"xref\":\"x domain\",\"y0\":153,\"y1\":153,\"yref\":\"y\"}],\"annotations\":[{\"align\":\"left\",\"arrowcolor\":\"#636363\",\"arrowhead\":1,\"arrowsize\":1,\"arrowwidth\":2,\"ax\":-20,\"ay\":-30,\"font\":{\"color\":\"purple\",\"family\":\"Sans Serif\",\"size\":12},\"showarrow\":false,\"text\":\"LLC Size Per Node: 80M\",\"x\":\"80e6\",\"y\":280,\"yanchor\":\"bottom\"},{\"align\":\"left\",\"arrowcolor\":\"#636363\",\"arrowhead\":1,\"arrowsize\":1,\"arrowwidth\":2,\"ax\":-20,\"ay\":-30,\"font\":{\"color\":\"orange\",\"family\":\"Sans Serif\",\"size\":12},\"showarrow\":false,\"text\":\"Max Bandwidth Per Node\",\"x\":\"130e6\",\"y\":155,\"yanchor\":\"bottom\"}],\"xaxis\":{\"title\":{\"text\":\"Dirc_Data_Mov\"},\"ticks\":\"outside\"},\"yaxis\":{\"title\":{\"text\":\"Bandwidth/Node\"},\"ticks\":\"outside\"},\"title\":{\"text\":\"\\\"Node 1 vs 2 vs 4 (32MPI 1OMP Per Node): Macro Fused (nonprobempi)\\\" Bandwidth Measurement\"}},                        {\"responsive\": true}                    ).then(function(){\n",
       "                            \n",
       "var gd = document.getElementById('6b7f6914-34da-4948-ab90-8d0d7e02f2c1');\n",
       "var x = new MutationObserver(function (mutations, observer) {{\n",
       "        var display = window.getComputedStyle(gd).display;\n",
       "        if (!display || display === 'none') {{\n",
       "            console.log([gd, 'removed!']);\n",
       "            Plotly.purge(gd);\n",
       "            observer.disconnect();\n",
       "        }}\n",
       "}});\n",
       "\n",
       "// Listen for the removal of the full notebook cells\n",
       "var notebookContainer = gd.closest('#notebook-container');\n",
       "if (notebookContainer) {{\n",
       "    x.observe(notebookContainer, {childList: true});\n",
       "}}\n",
       "\n",
       "// Listen for the clearing of the current output cell\n",
       "var outputEl = gd.closest('.output');\n",
       "if (outputEl) {{\n",
       "    x.observe(outputEl, {childList: true});\n",
       "}}\n",
       "\n",
       "                        })                };                });            </script>        </div>"
      ]
     },
     "metadata": {},
     "output_type": "display_data"
    }
   ],
   "source": [
    "fig = go.Figure() \n",
    "\n",
    "# NODE 1\n",
    "fig.add_trace(go.Scatter(x=(dfn1MacFusnonProb_32mpi_1omp.Dirc_Data_Mov*(dfn1MacFusnonProb_32mpi_1omp.MPI_size)), \n",
    "                         y=(dfn1MacFusnonProb_32mpi_1omp.BAND*(dfn1MacFusnonProb_32mpi_1omp.MPI_size)), \n",
    "                         mode='lines+markers', \n",
    "                         name='Node1: MacFusnonProb_32mpi_1omp',\n",
    "                         line=dict(color='magenta',width=3),\n",
    "                         marker=dict(symbol='circle',size=7,line=dict(color='Purple',width=2))))\n",
    "\n",
    "# NODE 2\n",
    "fig.add_trace(go.Scatter(x=(dfn2MacFusnonProb_64mpi_1omp.Dirc_Data_Mov*(dfn2MacFusnonProb_64mpi_1omp.MPI_size/2)), \n",
    "                         y=(dfn2MacFusnonProb_64mpi_1omp.BAND*(dfn2MacFusnonProb_64mpi_1omp.MPI_size/2)), \n",
    "                         mode='lines+markers', \n",
    "                         name='Node2: MacFusnonProb_64mpi_1omp',\n",
    "                         line=dict(color='darkcyan',width=3),\n",
    "                         marker=dict(symbol='circle',size=7,line=dict(color='Purple',width=2))))\n",
    "\n",
    "# NODE 4\n",
    "fig.add_trace(go.Scatter(x=(dfn4MacFusnonProb_128mpi_1omp.Dirc_Data_Mov*(dfn4MacFusnonProb_128mpi_1omp.MPI_size/4)), \n",
    "                         y=(dfn4MacFusnonProb_128mpi_1omp.BAND*(dfn4MacFusnonProb_128mpi_1omp.MPI_size/4)), \n",
    "                         mode='lines+markers', \n",
    "                         name='Node4: MacFusnonProb_128mpi_1omp',\n",
    "                         line=dict(color='royalblue',width=3),\n",
    "                         marker=dict(symbol='circle',size=7,line=dict(color='Purple',width=2))))\n",
    "\n",
    "\n",
    "\n"
   ]
  },
  {
   "cell_type": "code",
   "execution_count": null,
   "id": "6be9c0c3",
   "metadata": {},
   "outputs": [],
   "source": []
  },
  {
   "cell_type": "markdown",
   "id": "3ef087ea",
   "metadata": {},
   "source": [
    "# 2. MACRO: NonFused_NonProbempi"
   ]
  },
  {
   "cell_type": "markdown",
   "id": "b0dc9d80",
   "metadata": {},
   "source": [
    "## Node 1: macro_nonfused_nonprobempi"
   ]
  },
  {
   "cell_type": "code",
   "execution_count": 57,
   "id": "565427e8",
   "metadata": {},
   "outputs": [],
   "source": [
    "dfn1_macro_nonfused_nonprobempi[\"N_Nodes\"] = 1\n",
    "dfn1_macro_nonfused_nonprobempi['NPX'] = (dfn1_macro_nonfused_nonprobempi.GLB_X//dfn1_macro_nonfused_nonprobempi.LOC_X)\n",
    "dfn1_macro_nonfused_nonprobempi['NPY'] = (dfn1_macro_nonfused_nonprobempi.GLB_Y//dfn1_macro_nonfused_nonprobempi.LOC_Y)\n",
    "dfn1_macro_nonfused_nonprobempi['NPZ'] = (dfn1_macro_nonfused_nonprobempi.GLB_Z//dfn1_macro_nonfused_nonprobempi.LOC_Z)\n",
    "dfn1_macro_nonfused_nonprobempi['NPT'] = (dfn1_macro_nonfused_nonprobempi.GLB_T//dfn1_macro_nonfused_nonprobempi.LOC_T)\n",
    "dfn1_macro_nonfused_nonprobempi[\"Total_proc\"] = dfn1_macro_nonfused_nonprobempi[\"omp_thrd\"]* dfn1_macro_nonfused_nonprobempi.MPI_size\n",
    "# dfn1_macro_nonfused_nonprobempi.columns"
   ]
  },
  {
   "cell_type": "code",
   "execution_count": 55,
   "id": "e002a069",
   "metadata": {},
   "outputs": [
    {
     "data": {
      "text/html": [
       "<div>\n",
       "<style scoped>\n",
       "    .dataframe tbody tr th:only-of-type {\n",
       "        vertical-align: middle;\n",
       "    }\n",
       "\n",
       "    .dataframe tbody tr th {\n",
       "        vertical-align: top;\n",
       "    }\n",
       "\n",
       "    .dataframe thead th {\n",
       "        text-align: right;\n",
       "    }\n",
       "</style>\n",
       "<table border=\"1\" class=\"dataframe\">\n",
       "  <thead>\n",
       "    <tr style=\"text-align: right;\">\n",
       "      <th></th>\n",
       "      <th>MPI_size</th>\n",
       "      <th>omp_thrd</th>\n",
       "      <th>NPT</th>\n",
       "      <th>NPX</th>\n",
       "      <th>NPY</th>\n",
       "      <th>NPZ</th>\n",
       "      <th>Total_proc</th>\n",
       "      <th>size</th>\n",
       "    </tr>\n",
       "  </thead>\n",
       "  <tbody>\n",
       "    <tr>\n",
       "      <th>0</th>\n",
       "      <td>8</td>\n",
       "      <td>4</td>\n",
       "      <td>1</td>\n",
       "      <td>2</td>\n",
       "      <td>2</td>\n",
       "      <td>2</td>\n",
       "      <td>32</td>\n",
       "      <td>15</td>\n",
       "    </tr>\n",
       "    <tr>\n",
       "      <th>1</th>\n",
       "      <td>16</td>\n",
       "      <td>2</td>\n",
       "      <td>2</td>\n",
       "      <td>2</td>\n",
       "      <td>2</td>\n",
       "      <td>2</td>\n",
       "      <td>32</td>\n",
       "      <td>13</td>\n",
       "    </tr>\n",
       "    <tr>\n",
       "      <th>2</th>\n",
       "      <td>32</td>\n",
       "      <td>1</td>\n",
       "      <td>4</td>\n",
       "      <td>2</td>\n",
       "      <td>2</td>\n",
       "      <td>2</td>\n",
       "      <td>32</td>\n",
       "      <td>5</td>\n",
       "    </tr>\n",
       "  </tbody>\n",
       "</table>\n",
       "</div>"
      ],
      "text/plain": [
       "   MPI_size  omp_thrd  NPT  NPX  NPY  NPZ  Total_proc  size\n",
       "0         8         4    1    2    2    2          32    15\n",
       "1        16         2    2    2    2    2          32    13\n",
       "2        32         1    4    2    2    2          32     5"
      ]
     },
     "execution_count": 55,
     "metadata": {},
     "output_type": "execute_result"
    }
   ],
   "source": [
    "dfn1_macro_nonfused_nonprobempi_summary = dfn1_macro_nonfused_nonprobempi.groupby(['MPI_size','omp_thrd','NPT','NPX', 'NPY', 'NPZ',\"Total_proc\"]).size().reset_index(name = 'size')\n",
    "dfn1_macro_nonfused_nonprobempi_summary"
   ]
  },
  {
   "cell_type": "code",
   "execution_count": 56,
   "id": "ea84c3d1",
   "metadata": {},
   "outputs": [],
   "source": [
    "dfn1MacNonFusNonProb_8mpi_4omp = dfn1_macro_nonfused_nonprobempi[(dfn1_macro_nonfused_nonprobempi.omp_thrd == 4) & (dfn1_macro_nonfused_nonprobempi.GLB_T/dfn1_macro_nonfused_nonprobempi.LOC_T == 1) & (dfn1_macro_nonfused_nonprobempi.GLB_X/dfn1_macro_nonfused_nonprobempi.LOC_X == 2) & (dfn1_macro_nonfused_nonprobempi.GLB_Y/dfn1_macro_nonfused_nonprobempi.LOC_Y == 2)& (dfn1_macro_nonfused_nonprobempi.GLB_Z/dfn1_macro_nonfused_nonprobempi.LOC_Z == 2)]\n",
    "dfn1MacNonFusNonProb_16mpi_2omp = dfn1_macro_nonfused_nonprobempi[(dfn1_macro_nonfused_nonprobempi.omp_thrd == 2) & (dfn1_macro_nonfused_nonprobempi.GLB_T/dfn1_macro_nonfused_nonprobempi.LOC_T == 2) & (dfn1_macro_nonfused_nonprobempi.GLB_X/dfn1_macro_nonfused_nonprobempi.LOC_X == 2) & (dfn1_macro_nonfused_nonprobempi.GLB_Y/dfn1_macro_nonfused_nonprobempi.LOC_Y == 2)& (dfn1_macro_nonfused_nonprobempi.GLB_Z/dfn1_macro_nonfused_nonprobempi.LOC_Z == 2)]\n",
    "dfn1MacNonFusNonProb_32mpi_1omp = dfn1_macro_nonfused_nonprobempi[(dfn1_macro_nonfused_nonprobempi.omp_thrd == 1) & (dfn1_macro_nonfused_nonprobempi.GLB_T/dfn1_macro_nonfused_nonprobempi.LOC_T == 4) & (dfn1_macro_nonfused_nonprobempi.GLB_X/dfn1_macro_nonfused_nonprobempi.LOC_X == 2) & (dfn1_macro_nonfused_nonprobempi.GLB_Y/dfn1_macro_nonfused_nonprobempi.LOC_Y == 2)& (dfn1_macro_nonfused_nonprobempi.GLB_Z/dfn1_macro_nonfused_nonprobempi.LOC_Z == 2)]\n"
   ]
  },
  {
   "cell_type": "markdown",
   "id": "22f025d4",
   "metadata": {},
   "source": [
    "## Node 2: macro_nonfused_nonprobempi"
   ]
  },
  {
   "cell_type": "code",
   "execution_count": 59,
   "id": "74bf3330",
   "metadata": {},
   "outputs": [],
   "source": [
    "dfn2_macro_nonfused_nonprobempi[\"N_Nodes\"] = 2\n",
    "dfn2_macro_nonfused_nonprobempi['NPX'] = (dfn2_macro_nonfused_nonprobempi.GLB_X//dfn2_macro_nonfused_nonprobempi.LOC_X)\n",
    "dfn2_macro_nonfused_nonprobempi['NPY'] = (dfn2_macro_nonfused_nonprobempi.GLB_Y//dfn2_macro_nonfused_nonprobempi.LOC_Y)\n",
    "dfn2_macro_nonfused_nonprobempi['NPZ'] = (dfn2_macro_nonfused_nonprobempi.GLB_Z//dfn2_macro_nonfused_nonprobempi.LOC_Z)\n",
    "dfn2_macro_nonfused_nonprobempi['NPT'] = (dfn2_macro_nonfused_nonprobempi.GLB_T//dfn2_macro_nonfused_nonprobempi.LOC_T)\n",
    "dfn2_macro_nonfused_nonprobempi[\"Total_proc\"] = dfn2_macro_nonfused_nonprobempi[\"omp_thrd\"]* dfn2_macro_nonfused_nonprobempi.MPI_size\n",
    "# dfn2_macro_nonfused_nonprobempi.columns"
   ]
  },
  {
   "cell_type": "code",
   "execution_count": 60,
   "id": "5a9f720a",
   "metadata": {},
   "outputs": [
    {
     "data": {
      "text/html": [
       "<div>\n",
       "<style scoped>\n",
       "    .dataframe tbody tr th:only-of-type {\n",
       "        vertical-align: middle;\n",
       "    }\n",
       "\n",
       "    .dataframe tbody tr th {\n",
       "        vertical-align: top;\n",
       "    }\n",
       "\n",
       "    .dataframe thead th {\n",
       "        text-align: right;\n",
       "    }\n",
       "</style>\n",
       "<table border=\"1\" class=\"dataframe\">\n",
       "  <thead>\n",
       "    <tr style=\"text-align: right;\">\n",
       "      <th></th>\n",
       "      <th>MPI_size</th>\n",
       "      <th>omp_thrd</th>\n",
       "      <th>NPT</th>\n",
       "      <th>NPX</th>\n",
       "      <th>NPY</th>\n",
       "      <th>NPZ</th>\n",
       "      <th>Total_proc</th>\n",
       "      <th>size</th>\n",
       "    </tr>\n",
       "  </thead>\n",
       "  <tbody>\n",
       "    <tr>\n",
       "      <th>0</th>\n",
       "      <td>16</td>\n",
       "      <td>4</td>\n",
       "      <td>2</td>\n",
       "      <td>2</td>\n",
       "      <td>2</td>\n",
       "      <td>2</td>\n",
       "      <td>64</td>\n",
       "      <td>29</td>\n",
       "    </tr>\n",
       "    <tr>\n",
       "      <th>1</th>\n",
       "      <td>32</td>\n",
       "      <td>2</td>\n",
       "      <td>4</td>\n",
       "      <td>2</td>\n",
       "      <td>2</td>\n",
       "      <td>2</td>\n",
       "      <td>64</td>\n",
       "      <td>13</td>\n",
       "    </tr>\n",
       "    <tr>\n",
       "      <th>2</th>\n",
       "      <td>56</td>\n",
       "      <td>1</td>\n",
       "      <td>7</td>\n",
       "      <td>2</td>\n",
       "      <td>2</td>\n",
       "      <td>2</td>\n",
       "      <td>56</td>\n",
       "      <td>3</td>\n",
       "    </tr>\n",
       "    <tr>\n",
       "      <th>3</th>\n",
       "      <td>64</td>\n",
       "      <td>1</td>\n",
       "      <td>8</td>\n",
       "      <td>2</td>\n",
       "      <td>2</td>\n",
       "      <td>2</td>\n",
       "      <td>64</td>\n",
       "      <td>5</td>\n",
       "    </tr>\n",
       "  </tbody>\n",
       "</table>\n",
       "</div>"
      ],
      "text/plain": [
       "   MPI_size  omp_thrd  NPT  NPX  NPY  NPZ  Total_proc  size\n",
       "0        16         4    2    2    2    2          64    29\n",
       "1        32         2    4    2    2    2          64    13\n",
       "2        56         1    7    2    2    2          56     3\n",
       "3        64         1    8    2    2    2          64     5"
      ]
     },
     "execution_count": 60,
     "metadata": {},
     "output_type": "execute_result"
    }
   ],
   "source": [
    "dfn2_macro_nonfused_nonprobempi_summary = dfn2_macro_nonfused_nonprobempi.groupby(['MPI_size','omp_thrd','NPT','NPX', 'NPY', 'NPZ',\"Total_proc\"]).size().reset_index(name = 'size')\n",
    "dfn2_macro_nonfused_nonprobempi_summary"
   ]
  },
  {
   "cell_type": "code",
   "execution_count": 63,
   "id": "ede5fe67",
   "metadata": {},
   "outputs": [],
   "source": [
    "dfn2MacNonFusNonProb_16mpi_4omp = dfn2_macro_nonfused_nonprobempi[(dfn2_macro_nonfused_nonprobempi.omp_thrd == 4) & (dfn2_macro_nonfused_nonprobempi.GLB_T/dfn2_macro_nonfused_nonprobempi.LOC_T == 2) & (dfn2_macro_nonfused_nonprobempi.GLB_X/dfn2_macro_nonfused_nonprobempi.LOC_X == 2) & (dfn2_macro_nonfused_nonprobempi.GLB_Y/dfn2_macro_nonfused_nonprobempi.LOC_Y == 2)& (dfn2_macro_nonfused_nonprobempi.GLB_Z/dfn2_macro_nonfused_nonprobempi.LOC_Z == 2)]\n",
    "dfn2MacNonFusNonProb_32mpi_2omp = dfn2_macro_nonfused_nonprobempi[(dfn2_macro_nonfused_nonprobempi.omp_thrd == 2) & (dfn2_macro_nonfused_nonprobempi.GLB_T/dfn2_macro_nonfused_nonprobempi.LOC_T == 4) & (dfn2_macro_nonfused_nonprobempi.GLB_X/dfn2_macro_nonfused_nonprobempi.LOC_X == 2) & (dfn2_macro_nonfused_nonprobempi.GLB_Y/dfn2_macro_nonfused_nonprobempi.LOC_Y == 2)& (dfn2_macro_nonfused_nonprobempi.GLB_Z/dfn2_macro_nonfused_nonprobempi.LOC_Z == 2)]\n",
    "dfn2MacNonFusNonProb_56mpi_1omp = dfn2_macro_nonfused_nonprobempi[(dfn2_macro_nonfused_nonprobempi.omp_thrd == 1) & (dfn2_macro_nonfused_nonprobempi.GLB_T/dfn2_macro_nonfused_nonprobempi.LOC_T == 7) & (dfn2_macro_nonfused_nonprobempi.GLB_X/dfn2_macro_nonfused_nonprobempi.LOC_X == 2) & (dfn2_macro_nonfused_nonprobempi.GLB_Y/dfn2_macro_nonfused_nonprobempi.LOC_Y == 2)& (dfn2_macro_nonfused_nonprobempi.GLB_Z/dfn2_macro_nonfused_nonprobempi.LOC_Z == 2)]\n",
    "dfn2MacNonFusNonProb_64mpi_1omp = dfn2_macro_nonfused_nonprobempi[(dfn2_macro_nonfused_nonprobempi.omp_thrd == 1) & (dfn2_macro_nonfused_nonprobempi.GLB_T/dfn2_macro_nonfused_nonprobempi.LOC_T == 8) & (dfn2_macro_nonfused_nonprobempi.GLB_X/dfn2_macro_nonfused_nonprobempi.LOC_X == 2) & (dfn2_macro_nonfused_nonprobempi.GLB_Y/dfn2_macro_nonfused_nonprobempi.LOC_Y == 2)& (dfn2_macro_nonfused_nonprobempi.GLB_Z/dfn2_macro_nonfused_nonprobempi.LOC_Z == 2)]\n"
   ]
  },
  {
   "cell_type": "markdown",
   "id": "ed9006d0",
   "metadata": {},
   "source": [
    "## Node 4: macro_nonfused_nonprobempi"
   ]
  },
  {
   "cell_type": "code",
   "execution_count": 69,
   "id": "a7da0aaa",
   "metadata": {},
   "outputs": [],
   "source": [
    "dfn4_macro_nonfused_nonprobempi[\"N_Nodes\"] = 4\n",
    "dfn4_macro_nonfused_nonprobempi['NPX'] = (dfn4_macro_nonfused_nonprobempi.GLB_X//dfn4_macro_nonfused_nonprobempi.LOC_X)\n",
    "dfn4_macro_nonfused_nonprobempi['NPY'] = (dfn4_macro_nonfused_nonprobempi.GLB_Y//dfn4_macro_nonfused_nonprobempi.LOC_Y)\n",
    "dfn4_macro_nonfused_nonprobempi['NPZ'] = (dfn4_macro_nonfused_nonprobempi.GLB_Z//dfn4_macro_nonfused_nonprobempi.LOC_Z)\n",
    "dfn4_macro_nonfused_nonprobempi['NPT'] = (dfn4_macro_nonfused_nonprobempi.GLB_T//dfn4_macro_nonfused_nonprobempi.LOC_T)\n",
    "dfn4_macro_nonfused_nonprobempi[\"Total_proc\"] = dfn4_macro_nonfused_nonprobempi[\"omp_thrd\"]* dfn4_macro_nonfused_nonprobempi.MPI_size\n",
    "# dfn4_macro_nonfused_nonprobempi.columns"
   ]
  },
  {
   "cell_type": "code",
   "execution_count": 70,
   "id": "d60eea66",
   "metadata": {},
   "outputs": [
    {
     "data": {
      "text/html": [
       "<div>\n",
       "<style scoped>\n",
       "    .dataframe tbody tr th:only-of-type {\n",
       "        vertical-align: middle;\n",
       "    }\n",
       "\n",
       "    .dataframe tbody tr th {\n",
       "        vertical-align: top;\n",
       "    }\n",
       "\n",
       "    .dataframe thead th {\n",
       "        text-align: right;\n",
       "    }\n",
       "</style>\n",
       "<table border=\"1\" class=\"dataframe\">\n",
       "  <thead>\n",
       "    <tr style=\"text-align: right;\">\n",
       "      <th></th>\n",
       "      <th>MPI_size</th>\n",
       "      <th>omp_thrd</th>\n",
       "      <th>NPT</th>\n",
       "      <th>NPX</th>\n",
       "      <th>NPY</th>\n",
       "      <th>NPZ</th>\n",
       "      <th>Total_proc</th>\n",
       "      <th>size</th>\n",
       "    </tr>\n",
       "  </thead>\n",
       "  <tbody>\n",
       "    <tr>\n",
       "      <th>0</th>\n",
       "      <td>32</td>\n",
       "      <td>4</td>\n",
       "      <td>4</td>\n",
       "      <td>2</td>\n",
       "      <td>2</td>\n",
       "      <td>2</td>\n",
       "      <td>128</td>\n",
       "      <td>29</td>\n",
       "    </tr>\n",
       "    <tr>\n",
       "      <th>1</th>\n",
       "      <td>40</td>\n",
       "      <td>3</td>\n",
       "      <td>5</td>\n",
       "      <td>2</td>\n",
       "      <td>2</td>\n",
       "      <td>2</td>\n",
       "      <td>120</td>\n",
       "      <td>11</td>\n",
       "    </tr>\n",
       "    <tr>\n",
       "      <th>2</th>\n",
       "      <td>56</td>\n",
       "      <td>2</td>\n",
       "      <td>7</td>\n",
       "      <td>2</td>\n",
       "      <td>2</td>\n",
       "      <td>2</td>\n",
       "      <td>112</td>\n",
       "      <td>8</td>\n",
       "    </tr>\n",
       "    <tr>\n",
       "      <th>3</th>\n",
       "      <td>64</td>\n",
       "      <td>2</td>\n",
       "      <td>8</td>\n",
       "      <td>2</td>\n",
       "      <td>2</td>\n",
       "      <td>2</td>\n",
       "      <td>128</td>\n",
       "      <td>13</td>\n",
       "    </tr>\n",
       "    <tr>\n",
       "      <th>4</th>\n",
       "      <td>104</td>\n",
       "      <td>1</td>\n",
       "      <td>13</td>\n",
       "      <td>2</td>\n",
       "      <td>2</td>\n",
       "      <td>2</td>\n",
       "      <td>104</td>\n",
       "      <td>3</td>\n",
       "    </tr>\n",
       "    <tr>\n",
       "      <th>5</th>\n",
       "      <td>112</td>\n",
       "      <td>1</td>\n",
       "      <td>14</td>\n",
       "      <td>2</td>\n",
       "      <td>2</td>\n",
       "      <td>2</td>\n",
       "      <td>112</td>\n",
       "      <td>6</td>\n",
       "    </tr>\n",
       "    <tr>\n",
       "      <th>6</th>\n",
       "      <td>120</td>\n",
       "      <td>1</td>\n",
       "      <td>15</td>\n",
       "      <td>2</td>\n",
       "      <td>2</td>\n",
       "      <td>2</td>\n",
       "      <td>120</td>\n",
       "      <td>3</td>\n",
       "    </tr>\n",
       "    <tr>\n",
       "      <th>7</th>\n",
       "      <td>128</td>\n",
       "      <td>1</td>\n",
       "      <td>16</td>\n",
       "      <td>2</td>\n",
       "      <td>2</td>\n",
       "      <td>2</td>\n",
       "      <td>128</td>\n",
       "      <td>5</td>\n",
       "    </tr>\n",
       "  </tbody>\n",
       "</table>\n",
       "</div>"
      ],
      "text/plain": [
       "   MPI_size  omp_thrd  NPT  NPX  NPY  NPZ  Total_proc  size\n",
       "0        32         4    4    2    2    2         128    29\n",
       "1        40         3    5    2    2    2         120    11\n",
       "2        56         2    7    2    2    2         112     8\n",
       "3        64         2    8    2    2    2         128    13\n",
       "4       104         1   13    2    2    2         104     3\n",
       "5       112         1   14    2    2    2         112     6\n",
       "6       120         1   15    2    2    2         120     3\n",
       "7       128         1   16    2    2    2         128     5"
      ]
     },
     "execution_count": 70,
     "metadata": {},
     "output_type": "execute_result"
    }
   ],
   "source": [
    "dfn4_macro_nonfused_nonprobempi_summary = dfn4_macro_nonfused_nonprobempi.groupby(['MPI_size','omp_thrd','NPT','NPX', 'NPY', 'NPZ',\"Total_proc\"]).size().reset_index(name = 'size')\n",
    "dfn4_macro_nonfused_nonprobempi_summary"
   ]
  },
  {
   "cell_type": "code",
   "execution_count": 72,
   "id": "a75ef4fa",
   "metadata": {},
   "outputs": [],
   "source": [
    "dfn4MacNonFusNonProb_32mpi_4omp = dfn4_macro_nonfused_nonprobempi[(dfn4_macro_nonfused_nonprobempi.omp_thrd == 4) & (dfn4_macro_nonfused_nonprobempi.GLB_T/dfn4_macro_nonfused_nonprobempi.LOC_T == 4) & (dfn4_macro_nonfused_nonprobempi.GLB_X/dfn4_macro_nonfused_nonprobempi.LOC_X == 2) & (dfn4_macro_nonfused_nonprobempi.GLB_Y/dfn4_macro_nonfused_nonprobempi.LOC_Y == 2)& (dfn4_macro_nonfused_nonprobempi.GLB_Z/dfn4_macro_nonfused_nonprobempi.LOC_Z == 2)]\n",
    "dfn4MacNonFusNonProb_40mpi_3omp = dfn4_macro_nonfused_nonprobempi[(dfn4_macro_nonfused_nonprobempi.omp_thrd == 3) & (dfn4_macro_nonfused_nonprobempi.GLB_T/dfn4_macro_nonfused_nonprobempi.LOC_T == 5) & (dfn4_macro_nonfused_nonprobempi.GLB_X/dfn4_macro_nonfused_nonprobempi.LOC_X == 2) & (dfn4_macro_nonfused_nonprobempi.GLB_Y/dfn4_macro_nonfused_nonprobempi.LOC_Y == 2)& (dfn4_macro_nonfused_nonprobempi.GLB_Z/dfn4_macro_nonfused_nonprobempi.LOC_Z == 2)]\n",
    "dfn4MacNonFusNonProb_56mpi_2omp = dfn4_macro_nonfused_nonprobempi[(dfn4_macro_nonfused_nonprobempi.omp_thrd == 2) & (dfn4_macro_nonfused_nonprobempi.GLB_T/dfn4_macro_nonfused_nonprobempi.LOC_T == 7) & (dfn4_macro_nonfused_nonprobempi.GLB_X/dfn4_macro_nonfused_nonprobempi.LOC_X == 2) & (dfn4_macro_nonfused_nonprobempi.GLB_Y/dfn4_macro_nonfused_nonprobempi.LOC_Y == 2)& (dfn4_macro_nonfused_nonprobempi.GLB_Z/dfn4_macro_nonfused_nonprobempi.LOC_Z == 2)]\n",
    "dfn4MacNonFusNonProb_64mpi_2omp = dfn4_macro_nonfused_nonprobempi[(dfn4_macro_nonfused_nonprobempi.omp_thrd == 2) & (dfn4_macro_nonfused_nonprobempi.GLB_T/dfn4_macro_nonfused_nonprobempi.LOC_T == 8) & (dfn4_macro_nonfused_nonprobempi.GLB_X/dfn4_macro_nonfused_nonprobempi.LOC_X == 2) & (dfn4_macro_nonfused_nonprobempi.GLB_Y/dfn4_macro_nonfused_nonprobempi.LOC_Y == 2)& (dfn4_macro_nonfused_nonprobempi.GLB_Z/dfn4_macro_nonfused_nonprobempi.LOC_Z == 2)]\n",
    "dfn4MacNonFusNonProb_112mpi_1omp = dfn4_macro_nonfused_nonprobempi[(dfn4_macro_nonfused_nonprobempi.omp_thrd == 1) & (dfn4_macro_nonfused_nonprobempi.GLB_T/dfn4_macro_nonfused_nonprobempi.LOC_T == 14) & (dfn4_macro_nonfused_nonprobempi.GLB_X/dfn4_macro_nonfused_nonprobempi.LOC_X == 2) & (dfn4_macro_nonfused_nonprobempi.GLB_Y/dfn4_macro_nonfused_nonprobempi.LOC_Y == 2)& (dfn4_macro_nonfused_nonprobempi.GLB_Z/dfn4_macro_nonfused_nonprobempi.LOC_Z == 2)]\n",
    "dfn4MacNonFusNonProb_128mpi_1omp = dfn4_macro_nonfused_nonprobempi[(dfn4_macro_nonfused_nonprobempi.omp_thrd == 1) & (dfn4_macro_nonfused_nonprobempi.GLB_T/dfn4_macro_nonfused_nonprobempi.LOC_T == 16) & (dfn4_macro_nonfused_nonprobempi.GLB_X/dfn4_macro_nonfused_nonprobempi.LOC_X == 2) & (dfn4_macro_nonfused_nonprobempi.GLB_Y/dfn4_macro_nonfused_nonprobempi.LOC_Y == 2)& (dfn4_macro_nonfused_nonprobempi.GLB_Z/dfn4_macro_nonfused_nonprobempi.LOC_Z == 2)]\n"
   ]
  },
  {
   "cell_type": "code",
   "execution_count": null,
   "id": "05748ac1",
   "metadata": {},
   "outputs": [],
   "source": []
  },
  {
   "cell_type": "markdown",
   "id": "0cf7727c",
   "metadata": {},
   "source": [
    "# 8 MPI 4 OMP PER PROCESS"
   ]
  },
  {
   "cell_type": "markdown",
   "id": "9d148a7f",
   "metadata": {},
   "source": [
    "## GFops Macro Fused NonProbmpi: Node1 vs 2 vs 4 (8 mpi 4omp per node)"
   ]
  },
  {
   "cell_type": "code",
   "execution_count": null,
   "id": "79d68460",
   "metadata": {},
   "outputs": [],
   "source": []
  },
  {
   "cell_type": "code",
   "execution_count": 104,
   "id": "a7117c0d",
   "metadata": {},
   "outputs": [
    {
     "data": {
      "application/vnd.plotly.v1+json": {
       "config": {
        "plotlyServerURL": "https://plot.ly"
       },
       "data": [
        {
         "line": {
          "color": "red",
          "width": 3
         },
         "marker": {
          "line": {
           "color": "yellow",
           "width": 1
          },
          "size": 9,
          "symbol": "hexagon"
         },
         "mode": "lines+markers",
         "name": "Node1: MacNonFusNonProb_8mpi_4omp",
         "type": "scatter",
         "x": [
          50331648,
          75497472,
          100663296,
          125829120,
          150994944,
          176160768,
          201326592,
          226492416,
          251658240,
          276824064,
          301989888,
          327155712,
          352321536,
          377487360,
          402653184
         ],
         "y": [
          63.28096,
          64.31184,
          65.31528,
          65.86984,
          64.33304,
          62.65992,
          56.97712,
          50.96784,
          47.79696,
          44.87224,
          41.90232,
          41.5168,
          40.132,
          39.6876,
          37.83464
         ]
        },
        {
         "line": {
          "color": "green",
          "width": 3
         },
         "marker": {
          "line": {
           "color": "yellow",
           "width": 1
          },
          "size": 9,
          "symbol": "hexagon"
         },
         "mode": "lines+markers",
         "name": "Node1: MacFusNonProb_8mpi_4omp",
         "type": "scatter",
         "x": [
          75497472,
          50331648,
          100663296,
          125829120,
          150994944,
          176160768,
          201326592,
          226492416,
          251658240,
          276824064,
          301989888,
          327155712,
          352321536,
          377487360,
          402653184
         ],
         "y": [
          85.1352,
          85.88,
          85.56,
          85.8784,
          83.5096,
          79.08488,
          70.92392,
          63.15744,
          56.32,
          53.07648,
          49.21656,
          47.2224,
          45.26888,
          44.19592,
          43.25872
         ]
        },
        {
         "line": {
          "color": "magenta",
          "width": 3
         },
         "marker": {
          "line": {
           "color": "yellow",
           "width": 1
          },
          "size": 9,
          "symbol": "hexagon"
         },
         "mode": "lines+markers",
         "name": "Node2: MacNonFusNonProb_16mpi_4omp",
         "type": "scatter",
         "x": [
          50331648,
          62914560,
          75497472,
          88080384,
          100663296,
          113246208,
          125829120,
          138412032,
          150994944,
          163577856,
          176160768,
          188743680,
          201326592,
          213909504,
          226492416,
          239075328,
          251658240,
          264241152,
          276824064,
          289406976,
          301989888,
          314572800,
          327155712,
          339738624,
          352321536,
          364904448,
          377487360,
          390070272,
          402653184
         ],
         "y": [
          39.75312,
          41.70944,
          44.9536,
          42.88784,
          45.42608,
          45.244,
          45.06912,
          45.31592,
          44.88624,
          43.27936,
          42.51248,
          41.5984,
          40.03832,
          39.318,
          38.16856,
          37.12376,
          35.66984,
          34.54576,
          33.96592,
          33.5984,
          33.42912,
          32.7176,
          32.60576,
          32.08304,
          31.64136,
          31.774,
          31.24912,
          31.14096,
          30.49416
         ]
        },
        {
         "line": {
          "color": "blue",
          "width": 3
         },
         "marker": {
          "line": {
           "color": "yellow",
           "width": 1
          },
          "size": 9,
          "symbol": "hexagon"
         },
         "mode": "lines+markers",
         "name": "Node2: MacFusNonProb_16mpi_4omp",
         "type": "scatter",
         "x": [
          50331648,
          62914560,
          75497472,
          88080384,
          100663296,
          113246208,
          125829120,
          138412032,
          150994944,
          163577856,
          176160768,
          188743680,
          201326592,
          213909504,
          226492416,
          239075328,
          251658240,
          264241152,
          276824064,
          289406976,
          301989888,
          314572800,
          327155712,
          339738624,
          352321536,
          364904448,
          377487360,
          390070272,
          402653184
         ],
         "y": [
          52.2308,
          55.93432,
          67.49528,
          69.94912,
          63.89312,
          72.058,
          71.44832,
          66.08072,
          68.5152,
          65.23104,
          62.75704,
          60.1544,
          58.38752,
          56.96736,
          53.47328,
          52.09984,
          49.66192,
          49.44552,
          47.6668,
          47.11608,
          46.47496,
          45.6,
          44.82184,
          44.26912,
          43.83272,
          43.8232,
          43.32824,
          43.39184,
          42.728
         ]
        },
        {
         "line": {
          "color": "darkblue",
          "width": 3
         },
         "marker": {
          "line": {
           "color": "Purple",
           "width": 2
          },
          "size": 7,
          "symbol": "hexagon"
         },
         "mode": "lines+markers",
         "name": "Node4: MacNonFusNonProb_32mpi_4omp",
         "type": "scatter",
         "x": [
          50331648,
          62914560,
          75497472,
          88080384,
          100663296,
          113246208,
          125829120,
          138412032,
          150994944,
          163577856,
          176160768,
          188743680,
          201326592,
          213909504,
          226492416,
          239075328,
          251658240,
          264241152,
          276824064,
          289406976,
          301989888,
          314572800,
          327155712,
          339738624,
          352321536,
          364904448,
          377487360,
          390070272,
          402653184
         ],
         "y": [
          39.2348,
          41.96672,
          42.10088,
          44.18288,
          47.42616,
          45.40368,
          45.042,
          45.01912,
          44.97184,
          43.54552,
          41.76608,
          40.62352,
          40.04392,
          38.03408,
          37.0144,
          35.47024,
          35.0064,
          33.98752,
          33.53968,
          33.17664,
          32.64784,
          32.31584,
          31.34504,
          30.81288,
          30.91104,
          30.13648,
          30.48944,
          30.36864,
          30.04832
         ]
        },
        {
         "line": {
          "color": "cyan",
          "width": 3
         },
         "marker": {
          "line": {
           "color": "Purple",
           "width": 2
          },
          "size": 7,
          "symbol": "hexagon"
         },
         "mode": "lines+markers",
         "name": "Node4: MacFusNonProb_32mpi_4omp",
         "type": "scatter",
         "x": [
          50331648,
          62914560,
          75497472,
          88080384,
          100663296,
          113246208,
          125829120,
          138412032,
          150994944,
          163577856,
          176160768,
          188743680,
          201326592,
          213909504,
          226492416,
          239075328,
          251658240,
          264241152,
          276824064,
          289406976,
          301989888,
          314572800,
          327155712,
          339738624,
          352321536,
          364904448,
          377487360,
          390070272,
          402653184
         ],
         "y": [
          50.35896,
          54.59176,
          57.16856,
          59.6992,
          62.66256,
          63.26608,
          71.60176,
          64.274,
          64.12904,
          63.19472,
          62.75336,
          58.85424,
          58.24288,
          56.2036,
          50.66808,
          51.96576,
          49.53872,
          48.38608,
          47.56392,
          46.97392,
          45.90216,
          45.20528,
          44.61336,
          44.05936,
          43.93584,
          43.85592,
          43.42128,
          43.33432,
          42.90344
         ]
        }
       ],
       "layout": {
        "annotations": [
         {
          "align": "left",
          "arrowcolor": "#636363",
          "arrowhead": 1,
          "arrowsize": 1,
          "arrowwidth": 2,
          "ax": -20,
          "ay": -30,
          "font": {
           "color": "purple",
           "family": "Sans Serif",
           "size": 12
          },
          "showarrow": false,
          "text": "LLC Size Per Node",
          "x": "80e6",
          "y": 130,
          "yanchor": "bottom"
         }
        ],
        "shapes": [
         {
          "line": {
           "color": "green",
           "dash": "dash",
           "width": 3
          },
          "type": "line",
          "x0": 80000000,
          "x1": 80000000,
          "xref": "x",
          "y0": 0,
          "y1": 1,
          "yref": "y domain"
         }
        ],
        "template": {
         "data": {
          "bar": [
           {
            "error_x": {
             "color": "#2a3f5f"
            },
            "error_y": {
             "color": "#2a3f5f"
            },
            "marker": {
             "line": {
              "color": "#E5ECF6",
              "width": 0.5
             },
             "pattern": {
              "fillmode": "overlay",
              "size": 10,
              "solidity": 0.2
             }
            },
            "type": "bar"
           }
          ],
          "barpolar": [
           {
            "marker": {
             "line": {
              "color": "#E5ECF6",
              "width": 0.5
             },
             "pattern": {
              "fillmode": "overlay",
              "size": 10,
              "solidity": 0.2
             }
            },
            "type": "barpolar"
           }
          ],
          "carpet": [
           {
            "aaxis": {
             "endlinecolor": "#2a3f5f",
             "gridcolor": "white",
             "linecolor": "white",
             "minorgridcolor": "white",
             "startlinecolor": "#2a3f5f"
            },
            "baxis": {
             "endlinecolor": "#2a3f5f",
             "gridcolor": "white",
             "linecolor": "white",
             "minorgridcolor": "white",
             "startlinecolor": "#2a3f5f"
            },
            "type": "carpet"
           }
          ],
          "choropleth": [
           {
            "colorbar": {
             "outlinewidth": 0,
             "ticks": ""
            },
            "type": "choropleth"
           }
          ],
          "contour": [
           {
            "colorbar": {
             "outlinewidth": 0,
             "ticks": ""
            },
            "colorscale": [
             [
              0,
              "#0d0887"
             ],
             [
              0.1111111111111111,
              "#46039f"
             ],
             [
              0.2222222222222222,
              "#7201a8"
             ],
             [
              0.3333333333333333,
              "#9c179e"
             ],
             [
              0.4444444444444444,
              "#bd3786"
             ],
             [
              0.5555555555555556,
              "#d8576b"
             ],
             [
              0.6666666666666666,
              "#ed7953"
             ],
             [
              0.7777777777777778,
              "#fb9f3a"
             ],
             [
              0.8888888888888888,
              "#fdca26"
             ],
             [
              1,
              "#f0f921"
             ]
            ],
            "type": "contour"
           }
          ],
          "contourcarpet": [
           {
            "colorbar": {
             "outlinewidth": 0,
             "ticks": ""
            },
            "type": "contourcarpet"
           }
          ],
          "heatmap": [
           {
            "colorbar": {
             "outlinewidth": 0,
             "ticks": ""
            },
            "colorscale": [
             [
              0,
              "#0d0887"
             ],
             [
              0.1111111111111111,
              "#46039f"
             ],
             [
              0.2222222222222222,
              "#7201a8"
             ],
             [
              0.3333333333333333,
              "#9c179e"
             ],
             [
              0.4444444444444444,
              "#bd3786"
             ],
             [
              0.5555555555555556,
              "#d8576b"
             ],
             [
              0.6666666666666666,
              "#ed7953"
             ],
             [
              0.7777777777777778,
              "#fb9f3a"
             ],
             [
              0.8888888888888888,
              "#fdca26"
             ],
             [
              1,
              "#f0f921"
             ]
            ],
            "type": "heatmap"
           }
          ],
          "heatmapgl": [
           {
            "colorbar": {
             "outlinewidth": 0,
             "ticks": ""
            },
            "colorscale": [
             [
              0,
              "#0d0887"
             ],
             [
              0.1111111111111111,
              "#46039f"
             ],
             [
              0.2222222222222222,
              "#7201a8"
             ],
             [
              0.3333333333333333,
              "#9c179e"
             ],
             [
              0.4444444444444444,
              "#bd3786"
             ],
             [
              0.5555555555555556,
              "#d8576b"
             ],
             [
              0.6666666666666666,
              "#ed7953"
             ],
             [
              0.7777777777777778,
              "#fb9f3a"
             ],
             [
              0.8888888888888888,
              "#fdca26"
             ],
             [
              1,
              "#f0f921"
             ]
            ],
            "type": "heatmapgl"
           }
          ],
          "histogram": [
           {
            "marker": {
             "pattern": {
              "fillmode": "overlay",
              "size": 10,
              "solidity": 0.2
             }
            },
            "type": "histogram"
           }
          ],
          "histogram2d": [
           {
            "colorbar": {
             "outlinewidth": 0,
             "ticks": ""
            },
            "colorscale": [
             [
              0,
              "#0d0887"
             ],
             [
              0.1111111111111111,
              "#46039f"
             ],
             [
              0.2222222222222222,
              "#7201a8"
             ],
             [
              0.3333333333333333,
              "#9c179e"
             ],
             [
              0.4444444444444444,
              "#bd3786"
             ],
             [
              0.5555555555555556,
              "#d8576b"
             ],
             [
              0.6666666666666666,
              "#ed7953"
             ],
             [
              0.7777777777777778,
              "#fb9f3a"
             ],
             [
              0.8888888888888888,
              "#fdca26"
             ],
             [
              1,
              "#f0f921"
             ]
            ],
            "type": "histogram2d"
           }
          ],
          "histogram2dcontour": [
           {
            "colorbar": {
             "outlinewidth": 0,
             "ticks": ""
            },
            "colorscale": [
             [
              0,
              "#0d0887"
             ],
             [
              0.1111111111111111,
              "#46039f"
             ],
             [
              0.2222222222222222,
              "#7201a8"
             ],
             [
              0.3333333333333333,
              "#9c179e"
             ],
             [
              0.4444444444444444,
              "#bd3786"
             ],
             [
              0.5555555555555556,
              "#d8576b"
             ],
             [
              0.6666666666666666,
              "#ed7953"
             ],
             [
              0.7777777777777778,
              "#fb9f3a"
             ],
             [
              0.8888888888888888,
              "#fdca26"
             ],
             [
              1,
              "#f0f921"
             ]
            ],
            "type": "histogram2dcontour"
           }
          ],
          "mesh3d": [
           {
            "colorbar": {
             "outlinewidth": 0,
             "ticks": ""
            },
            "type": "mesh3d"
           }
          ],
          "parcoords": [
           {
            "line": {
             "colorbar": {
              "outlinewidth": 0,
              "ticks": ""
             }
            },
            "type": "parcoords"
           }
          ],
          "pie": [
           {
            "automargin": true,
            "type": "pie"
           }
          ],
          "scatter": [
           {
            "fillpattern": {
             "fillmode": "overlay",
             "size": 10,
             "solidity": 0.2
            },
            "type": "scatter"
           }
          ],
          "scatter3d": [
           {
            "line": {
             "colorbar": {
              "outlinewidth": 0,
              "ticks": ""
             }
            },
            "marker": {
             "colorbar": {
              "outlinewidth": 0,
              "ticks": ""
             }
            },
            "type": "scatter3d"
           }
          ],
          "scattercarpet": [
           {
            "marker": {
             "colorbar": {
              "outlinewidth": 0,
              "ticks": ""
             }
            },
            "type": "scattercarpet"
           }
          ],
          "scattergeo": [
           {
            "marker": {
             "colorbar": {
              "outlinewidth": 0,
              "ticks": ""
             }
            },
            "type": "scattergeo"
           }
          ],
          "scattergl": [
           {
            "marker": {
             "colorbar": {
              "outlinewidth": 0,
              "ticks": ""
             }
            },
            "type": "scattergl"
           }
          ],
          "scattermapbox": [
           {
            "marker": {
             "colorbar": {
              "outlinewidth": 0,
              "ticks": ""
             }
            },
            "type": "scattermapbox"
           }
          ],
          "scatterpolar": [
           {
            "marker": {
             "colorbar": {
              "outlinewidth": 0,
              "ticks": ""
             }
            },
            "type": "scatterpolar"
           }
          ],
          "scatterpolargl": [
           {
            "marker": {
             "colorbar": {
              "outlinewidth": 0,
              "ticks": ""
             }
            },
            "type": "scatterpolargl"
           }
          ],
          "scatterternary": [
           {
            "marker": {
             "colorbar": {
              "outlinewidth": 0,
              "ticks": ""
             }
            },
            "type": "scatterternary"
           }
          ],
          "surface": [
           {
            "colorbar": {
             "outlinewidth": 0,
             "ticks": ""
            },
            "colorscale": [
             [
              0,
              "#0d0887"
             ],
             [
              0.1111111111111111,
              "#46039f"
             ],
             [
              0.2222222222222222,
              "#7201a8"
             ],
             [
              0.3333333333333333,
              "#9c179e"
             ],
             [
              0.4444444444444444,
              "#bd3786"
             ],
             [
              0.5555555555555556,
              "#d8576b"
             ],
             [
              0.6666666666666666,
              "#ed7953"
             ],
             [
              0.7777777777777778,
              "#fb9f3a"
             ],
             [
              0.8888888888888888,
              "#fdca26"
             ],
             [
              1,
              "#f0f921"
             ]
            ],
            "type": "surface"
           }
          ],
          "table": [
           {
            "cells": {
             "fill": {
              "color": "#EBF0F8"
             },
             "line": {
              "color": "white"
             }
            },
            "header": {
             "fill": {
              "color": "#C8D4E3"
             },
             "line": {
              "color": "white"
             }
            },
            "type": "table"
           }
          ]
         },
         "layout": {
          "annotationdefaults": {
           "arrowcolor": "#2a3f5f",
           "arrowhead": 0,
           "arrowwidth": 1
          },
          "autotypenumbers": "strict",
          "coloraxis": {
           "colorbar": {
            "outlinewidth": 0,
            "ticks": ""
           }
          },
          "colorscale": {
           "diverging": [
            [
             0,
             "#8e0152"
            ],
            [
             0.1,
             "#c51b7d"
            ],
            [
             0.2,
             "#de77ae"
            ],
            [
             0.3,
             "#f1b6da"
            ],
            [
             0.4,
             "#fde0ef"
            ],
            [
             0.5,
             "#f7f7f7"
            ],
            [
             0.6,
             "#e6f5d0"
            ],
            [
             0.7,
             "#b8e186"
            ],
            [
             0.8,
             "#7fbc41"
            ],
            [
             0.9,
             "#4d9221"
            ],
            [
             1,
             "#276419"
            ]
           ],
           "sequential": [
            [
             0,
             "#0d0887"
            ],
            [
             0.1111111111111111,
             "#46039f"
            ],
            [
             0.2222222222222222,
             "#7201a8"
            ],
            [
             0.3333333333333333,
             "#9c179e"
            ],
            [
             0.4444444444444444,
             "#bd3786"
            ],
            [
             0.5555555555555556,
             "#d8576b"
            ],
            [
             0.6666666666666666,
             "#ed7953"
            ],
            [
             0.7777777777777778,
             "#fb9f3a"
            ],
            [
             0.8888888888888888,
             "#fdca26"
            ],
            [
             1,
             "#f0f921"
            ]
           ],
           "sequentialminus": [
            [
             0,
             "#0d0887"
            ],
            [
             0.1111111111111111,
             "#46039f"
            ],
            [
             0.2222222222222222,
             "#7201a8"
            ],
            [
             0.3333333333333333,
             "#9c179e"
            ],
            [
             0.4444444444444444,
             "#bd3786"
            ],
            [
             0.5555555555555556,
             "#d8576b"
            ],
            [
             0.6666666666666666,
             "#ed7953"
            ],
            [
             0.7777777777777778,
             "#fb9f3a"
            ],
            [
             0.8888888888888888,
             "#fdca26"
            ],
            [
             1,
             "#f0f921"
            ]
           ]
          },
          "colorway": [
           "#636efa",
           "#EF553B",
           "#00cc96",
           "#ab63fa",
           "#FFA15A",
           "#19d3f3",
           "#FF6692",
           "#B6E880",
           "#FF97FF",
           "#FECB52"
          ],
          "font": {
           "color": "#2a3f5f"
          },
          "geo": {
           "bgcolor": "white",
           "lakecolor": "white",
           "landcolor": "#E5ECF6",
           "showlakes": true,
           "showland": true,
           "subunitcolor": "white"
          },
          "hoverlabel": {
           "align": "left"
          },
          "hovermode": "closest",
          "mapbox": {
           "style": "light"
          },
          "paper_bgcolor": "white",
          "plot_bgcolor": "#E5ECF6",
          "polar": {
           "angularaxis": {
            "gridcolor": "white",
            "linecolor": "white",
            "ticks": ""
           },
           "bgcolor": "#E5ECF6",
           "radialaxis": {
            "gridcolor": "white",
            "linecolor": "white",
            "ticks": ""
           }
          },
          "scene": {
           "xaxis": {
            "backgroundcolor": "#E5ECF6",
            "gridcolor": "white",
            "gridwidth": 2,
            "linecolor": "white",
            "showbackground": true,
            "ticks": "",
            "zerolinecolor": "white"
           },
           "yaxis": {
            "backgroundcolor": "#E5ECF6",
            "gridcolor": "white",
            "gridwidth": 2,
            "linecolor": "white",
            "showbackground": true,
            "ticks": "",
            "zerolinecolor": "white"
           },
           "zaxis": {
            "backgroundcolor": "#E5ECF6",
            "gridcolor": "white",
            "gridwidth": 2,
            "linecolor": "white",
            "showbackground": true,
            "ticks": "",
            "zerolinecolor": "white"
           }
          },
          "shapedefaults": {
           "line": {
            "color": "#2a3f5f"
           }
          },
          "ternary": {
           "aaxis": {
            "gridcolor": "white",
            "linecolor": "white",
            "ticks": ""
           },
           "baxis": {
            "gridcolor": "white",
            "linecolor": "white",
            "ticks": ""
           },
           "bgcolor": "#E5ECF6",
           "caxis": {
            "gridcolor": "white",
            "linecolor": "white",
            "ticks": ""
           }
          },
          "title": {
           "x": 0.05
          },
          "xaxis": {
           "automargin": true,
           "gridcolor": "white",
           "linecolor": "white",
           "ticks": "",
           "title": {
            "standoff": 15
           },
           "zerolinecolor": "white",
           "zerolinewidth": 2
          },
          "yaxis": {
           "automargin": true,
           "gridcolor": "white",
           "linecolor": "white",
           "ticks": "",
           "title": {
            "standoff": 15
           },
           "zerolinecolor": "white",
           "zerolinewidth": 2
          }
         }
        },
        "title": {
         "text": "\"Node 1 vs 2 vs 4 (8mpi 4omp per node): Macro Fused vs NonFused (nonprobempi)\" GFlops Measurement"
        },
        "xaxis": {
         "ticks": "outside",
         "title": {
          "text": "Dirc_Data_Mov"
         }
        },
        "yaxis": {
         "ticks": "outside",
         "title": {
          "text": "GFLOPs/Node"
         }
        }
       }
      },
      "text/html": [
       "<div>                            <div id=\"b6b559a5-6bb5-4041-99a0-78d3788b1545\" class=\"plotly-graph-div\" style=\"height:525px; width:100%;\"></div>            <script type=\"text/javascript\">                require([\"plotly\"], function(Plotly) {                    window.PLOTLYENV=window.PLOTLYENV || {};                                    if (document.getElementById(\"b6b559a5-6bb5-4041-99a0-78d3788b1545\")) {                    Plotly.newPlot(                        \"b6b559a5-6bb5-4041-99a0-78d3788b1545\",                        [{\"line\":{\"color\":\"red\",\"width\":3},\"marker\":{\"line\":{\"color\":\"yellow\",\"width\":1},\"size\":9,\"symbol\":\"hexagon\"},\"mode\":\"lines+markers\",\"name\":\"Node1: MacNonFusNonProb_8mpi_4omp\",\"x\":[50331648,75497472,100663296,125829120,150994944,176160768,201326592,226492416,251658240,276824064,301989888,327155712,352321536,377487360,402653184],\"y\":[63.28096,64.31184,65.31528,65.86984,64.33304,62.65992,56.97712,50.96784,47.79696,44.87224,41.90232,41.5168,40.132,39.6876,37.83464],\"type\":\"scatter\"},{\"line\":{\"color\":\"green\",\"width\":3},\"marker\":{\"line\":{\"color\":\"yellow\",\"width\":1},\"size\":9,\"symbol\":\"hexagon\"},\"mode\":\"lines+markers\",\"name\":\"Node1: MacFusNonProb_8mpi_4omp\",\"x\":[75497472,50331648,100663296,125829120,150994944,176160768,201326592,226492416,251658240,276824064,301989888,327155712,352321536,377487360,402653184],\"y\":[85.1352,85.88,85.56,85.8784,83.5096,79.08488,70.92392,63.15744,56.32,53.07648,49.21656,47.2224,45.26888,44.19592,43.25872],\"type\":\"scatter\"},{\"line\":{\"color\":\"magenta\",\"width\":3},\"marker\":{\"line\":{\"color\":\"yellow\",\"width\":1},\"size\":9,\"symbol\":\"hexagon\"},\"mode\":\"lines+markers\",\"name\":\"Node2: MacNonFusNonProb_16mpi_4omp\",\"x\":[50331648.0,62914560.0,75497472.0,88080384.0,100663296.0,113246208.0,125829120.0,138412032.0,150994944.0,163577856.0,176160768.0,188743680.0,201326592.0,213909504.0,226492416.0,239075328.0,251658240.0,264241152.0,276824064.0,289406976.0,301989888.0,314572800.0,327155712.0,339738624.0,352321536.0,364904448.0,377487360.0,390070272.0,402653184.0],\"y\":[39.75312,41.70944,44.9536,42.88784,45.42608,45.244,45.06912,45.31592,44.88624,43.27936,42.51248,41.5984,40.03832,39.318,38.16856,37.12376,35.66984,34.54576,33.96592,33.5984,33.42912,32.7176,32.60576,32.08304,31.64136,31.774,31.24912,31.14096,30.49416],\"type\":\"scatter\"},{\"line\":{\"color\":\"blue\",\"width\":3},\"marker\":{\"line\":{\"color\":\"yellow\",\"width\":1},\"size\":9,\"symbol\":\"hexagon\"},\"mode\":\"lines+markers\",\"name\":\"Node2: MacFusNonProb_16mpi_4omp\",\"x\":[50331648.0,62914560.0,75497472.0,88080384.0,100663296.0,113246208.0,125829120.0,138412032.0,150994944.0,163577856.0,176160768.0,188743680.0,201326592.0,213909504.0,226492416.0,239075328.0,251658240.0,264241152.0,276824064.0,289406976.0,301989888.0,314572800.0,327155712.0,339738624.0,352321536.0,364904448.0,377487360.0,390070272.0,402653184.0],\"y\":[52.2308,55.93432,67.49528,69.94912,63.89312,72.058,71.44832,66.08072,68.5152,65.23104,62.75704,60.1544,58.38752,56.96736,53.47328,52.09984,49.66192,49.44552,47.6668,47.11608,46.47496,45.6,44.82184,44.26912,43.83272,43.8232,43.32824,43.39184,42.728],\"type\":\"scatter\"},{\"line\":{\"color\":\"darkblue\",\"width\":3},\"marker\":{\"line\":{\"color\":\"Purple\",\"width\":2},\"size\":7,\"symbol\":\"hexagon\"},\"mode\":\"lines+markers\",\"name\":\"Node4: MacNonFusNonProb_32mpi_4omp\",\"x\":[50331648.0,62914560.0,75497472.0,88080384.0,100663296.0,113246208.0,125829120.0,138412032.0,150994944.0,163577856.0,176160768.0,188743680.0,201326592.0,213909504.0,226492416.0,239075328.0,251658240.0,264241152.0,276824064.0,289406976.0,301989888.0,314572800.0,327155712.0,339738624.0,352321536.0,364904448.0,377487360.0,390070272.0,402653184.0],\"y\":[39.2348,41.96672,42.10088,44.18288,47.42616,45.40368,45.042,45.01912,44.97184,43.54552,41.76608,40.62352,40.04392,38.03408,37.0144,35.47024,35.0064,33.98752,33.53968,33.17664,32.64784,32.31584,31.34504,30.81288,30.91104,30.13648,30.48944,30.36864,30.04832],\"type\":\"scatter\"},{\"line\":{\"color\":\"cyan\",\"width\":3},\"marker\":{\"line\":{\"color\":\"Purple\",\"width\":2},\"size\":7,\"symbol\":\"hexagon\"},\"mode\":\"lines+markers\",\"name\":\"Node4: MacFusNonProb_32mpi_4omp\",\"x\":[50331648.0,62914560.0,75497472.0,88080384.0,100663296.0,113246208.0,125829120.0,138412032.0,150994944.0,163577856.0,176160768.0,188743680.0,201326592.0,213909504.0,226492416.0,239075328.0,251658240.0,264241152.0,276824064.0,289406976.0,301989888.0,314572800.0,327155712.0,339738624.0,352321536.0,364904448.0,377487360.0,390070272.0,402653184.0],\"y\":[50.35896,54.59176,57.16856,59.6992,62.66256,63.26608,71.60176,64.274,64.12904,63.19472,62.75336,58.85424,58.24288,56.2036,50.66808,51.96576,49.53872,48.38608,47.56392,46.97392,45.90216,45.20528,44.61336,44.05936,43.93584,43.85592,43.42128,43.33432,42.90344],\"type\":\"scatter\"}],                        {\"template\":{\"data\":{\"histogram2dcontour\":[{\"type\":\"histogram2dcontour\",\"colorbar\":{\"outlinewidth\":0,\"ticks\":\"\"},\"colorscale\":[[0.0,\"#0d0887\"],[0.1111111111111111,\"#46039f\"],[0.2222222222222222,\"#7201a8\"],[0.3333333333333333,\"#9c179e\"],[0.4444444444444444,\"#bd3786\"],[0.5555555555555556,\"#d8576b\"],[0.6666666666666666,\"#ed7953\"],[0.7777777777777778,\"#fb9f3a\"],[0.8888888888888888,\"#fdca26\"],[1.0,\"#f0f921\"]]}],\"choropleth\":[{\"type\":\"choropleth\",\"colorbar\":{\"outlinewidth\":0,\"ticks\":\"\"}}],\"histogram2d\":[{\"type\":\"histogram2d\",\"colorbar\":{\"outlinewidth\":0,\"ticks\":\"\"},\"colorscale\":[[0.0,\"#0d0887\"],[0.1111111111111111,\"#46039f\"],[0.2222222222222222,\"#7201a8\"],[0.3333333333333333,\"#9c179e\"],[0.4444444444444444,\"#bd3786\"],[0.5555555555555556,\"#d8576b\"],[0.6666666666666666,\"#ed7953\"],[0.7777777777777778,\"#fb9f3a\"],[0.8888888888888888,\"#fdca26\"],[1.0,\"#f0f921\"]]}],\"heatmap\":[{\"type\":\"heatmap\",\"colorbar\":{\"outlinewidth\":0,\"ticks\":\"\"},\"colorscale\":[[0.0,\"#0d0887\"],[0.1111111111111111,\"#46039f\"],[0.2222222222222222,\"#7201a8\"],[0.3333333333333333,\"#9c179e\"],[0.4444444444444444,\"#bd3786\"],[0.5555555555555556,\"#d8576b\"],[0.6666666666666666,\"#ed7953\"],[0.7777777777777778,\"#fb9f3a\"],[0.8888888888888888,\"#fdca26\"],[1.0,\"#f0f921\"]]}],\"heatmapgl\":[{\"type\":\"heatmapgl\",\"colorbar\":{\"outlinewidth\":0,\"ticks\":\"\"},\"colorscale\":[[0.0,\"#0d0887\"],[0.1111111111111111,\"#46039f\"],[0.2222222222222222,\"#7201a8\"],[0.3333333333333333,\"#9c179e\"],[0.4444444444444444,\"#bd3786\"],[0.5555555555555556,\"#d8576b\"],[0.6666666666666666,\"#ed7953\"],[0.7777777777777778,\"#fb9f3a\"],[0.8888888888888888,\"#fdca26\"],[1.0,\"#f0f921\"]]}],\"contourcarpet\":[{\"type\":\"contourcarpet\",\"colorbar\":{\"outlinewidth\":0,\"ticks\":\"\"}}],\"contour\":[{\"type\":\"contour\",\"colorbar\":{\"outlinewidth\":0,\"ticks\":\"\"},\"colorscale\":[[0.0,\"#0d0887\"],[0.1111111111111111,\"#46039f\"],[0.2222222222222222,\"#7201a8\"],[0.3333333333333333,\"#9c179e\"],[0.4444444444444444,\"#bd3786\"],[0.5555555555555556,\"#d8576b\"],[0.6666666666666666,\"#ed7953\"],[0.7777777777777778,\"#fb9f3a\"],[0.8888888888888888,\"#fdca26\"],[1.0,\"#f0f921\"]]}],\"surface\":[{\"type\":\"surface\",\"colorbar\":{\"outlinewidth\":0,\"ticks\":\"\"},\"colorscale\":[[0.0,\"#0d0887\"],[0.1111111111111111,\"#46039f\"],[0.2222222222222222,\"#7201a8\"],[0.3333333333333333,\"#9c179e\"],[0.4444444444444444,\"#bd3786\"],[0.5555555555555556,\"#d8576b\"],[0.6666666666666666,\"#ed7953\"],[0.7777777777777778,\"#fb9f3a\"],[0.8888888888888888,\"#fdca26\"],[1.0,\"#f0f921\"]]}],\"mesh3d\":[{\"type\":\"mesh3d\",\"colorbar\":{\"outlinewidth\":0,\"ticks\":\"\"}}],\"scatter\":[{\"fillpattern\":{\"fillmode\":\"overlay\",\"size\":10,\"solidity\":0.2},\"type\":\"scatter\"}],\"parcoords\":[{\"type\":\"parcoords\",\"line\":{\"colorbar\":{\"outlinewidth\":0,\"ticks\":\"\"}}}],\"scatterpolargl\":[{\"type\":\"scatterpolargl\",\"marker\":{\"colorbar\":{\"outlinewidth\":0,\"ticks\":\"\"}}}],\"bar\":[{\"error_x\":{\"color\":\"#2a3f5f\"},\"error_y\":{\"color\":\"#2a3f5f\"},\"marker\":{\"line\":{\"color\":\"#E5ECF6\",\"width\":0.5},\"pattern\":{\"fillmode\":\"overlay\",\"size\":10,\"solidity\":0.2}},\"type\":\"bar\"}],\"scattergeo\":[{\"type\":\"scattergeo\",\"marker\":{\"colorbar\":{\"outlinewidth\":0,\"ticks\":\"\"}}}],\"scatterpolar\":[{\"type\":\"scatterpolar\",\"marker\":{\"colorbar\":{\"outlinewidth\":0,\"ticks\":\"\"}}}],\"histogram\":[{\"marker\":{\"pattern\":{\"fillmode\":\"overlay\",\"size\":10,\"solidity\":0.2}},\"type\":\"histogram\"}],\"scattergl\":[{\"type\":\"scattergl\",\"marker\":{\"colorbar\":{\"outlinewidth\":0,\"ticks\":\"\"}}}],\"scatter3d\":[{\"type\":\"scatter3d\",\"line\":{\"colorbar\":{\"outlinewidth\":0,\"ticks\":\"\"}},\"marker\":{\"colorbar\":{\"outlinewidth\":0,\"ticks\":\"\"}}}],\"scattermapbox\":[{\"type\":\"scattermapbox\",\"marker\":{\"colorbar\":{\"outlinewidth\":0,\"ticks\":\"\"}}}],\"scatterternary\":[{\"type\":\"scatterternary\",\"marker\":{\"colorbar\":{\"outlinewidth\":0,\"ticks\":\"\"}}}],\"scattercarpet\":[{\"type\":\"scattercarpet\",\"marker\":{\"colorbar\":{\"outlinewidth\":0,\"ticks\":\"\"}}}],\"carpet\":[{\"aaxis\":{\"endlinecolor\":\"#2a3f5f\",\"gridcolor\":\"white\",\"linecolor\":\"white\",\"minorgridcolor\":\"white\",\"startlinecolor\":\"#2a3f5f\"},\"baxis\":{\"endlinecolor\":\"#2a3f5f\",\"gridcolor\":\"white\",\"linecolor\":\"white\",\"minorgridcolor\":\"white\",\"startlinecolor\":\"#2a3f5f\"},\"type\":\"carpet\"}],\"table\":[{\"cells\":{\"fill\":{\"color\":\"#EBF0F8\"},\"line\":{\"color\":\"white\"}},\"header\":{\"fill\":{\"color\":\"#C8D4E3\"},\"line\":{\"color\":\"white\"}},\"type\":\"table\"}],\"barpolar\":[{\"marker\":{\"line\":{\"color\":\"#E5ECF6\",\"width\":0.5},\"pattern\":{\"fillmode\":\"overlay\",\"size\":10,\"solidity\":0.2}},\"type\":\"barpolar\"}],\"pie\":[{\"automargin\":true,\"type\":\"pie\"}]},\"layout\":{\"autotypenumbers\":\"strict\",\"colorway\":[\"#636efa\",\"#EF553B\",\"#00cc96\",\"#ab63fa\",\"#FFA15A\",\"#19d3f3\",\"#FF6692\",\"#B6E880\",\"#FF97FF\",\"#FECB52\"],\"font\":{\"color\":\"#2a3f5f\"},\"hovermode\":\"closest\",\"hoverlabel\":{\"align\":\"left\"},\"paper_bgcolor\":\"white\",\"plot_bgcolor\":\"#E5ECF6\",\"polar\":{\"bgcolor\":\"#E5ECF6\",\"angularaxis\":{\"gridcolor\":\"white\",\"linecolor\":\"white\",\"ticks\":\"\"},\"radialaxis\":{\"gridcolor\":\"white\",\"linecolor\":\"white\",\"ticks\":\"\"}},\"ternary\":{\"bgcolor\":\"#E5ECF6\",\"aaxis\":{\"gridcolor\":\"white\",\"linecolor\":\"white\",\"ticks\":\"\"},\"baxis\":{\"gridcolor\":\"white\",\"linecolor\":\"white\",\"ticks\":\"\"},\"caxis\":{\"gridcolor\":\"white\",\"linecolor\":\"white\",\"ticks\":\"\"}},\"coloraxis\":{\"colorbar\":{\"outlinewidth\":0,\"ticks\":\"\"}},\"colorscale\":{\"sequential\":[[0.0,\"#0d0887\"],[0.1111111111111111,\"#46039f\"],[0.2222222222222222,\"#7201a8\"],[0.3333333333333333,\"#9c179e\"],[0.4444444444444444,\"#bd3786\"],[0.5555555555555556,\"#d8576b\"],[0.6666666666666666,\"#ed7953\"],[0.7777777777777778,\"#fb9f3a\"],[0.8888888888888888,\"#fdca26\"],[1.0,\"#f0f921\"]],\"sequentialminus\":[[0.0,\"#0d0887\"],[0.1111111111111111,\"#46039f\"],[0.2222222222222222,\"#7201a8\"],[0.3333333333333333,\"#9c179e\"],[0.4444444444444444,\"#bd3786\"],[0.5555555555555556,\"#d8576b\"],[0.6666666666666666,\"#ed7953\"],[0.7777777777777778,\"#fb9f3a\"],[0.8888888888888888,\"#fdca26\"],[1.0,\"#f0f921\"]],\"diverging\":[[0,\"#8e0152\"],[0.1,\"#c51b7d\"],[0.2,\"#de77ae\"],[0.3,\"#f1b6da\"],[0.4,\"#fde0ef\"],[0.5,\"#f7f7f7\"],[0.6,\"#e6f5d0\"],[0.7,\"#b8e186\"],[0.8,\"#7fbc41\"],[0.9,\"#4d9221\"],[1,\"#276419\"]]},\"xaxis\":{\"gridcolor\":\"white\",\"linecolor\":\"white\",\"ticks\":\"\",\"title\":{\"standoff\":15},\"zerolinecolor\":\"white\",\"automargin\":true,\"zerolinewidth\":2},\"yaxis\":{\"gridcolor\":\"white\",\"linecolor\":\"white\",\"ticks\":\"\",\"title\":{\"standoff\":15},\"zerolinecolor\":\"white\",\"automargin\":true,\"zerolinewidth\":2},\"scene\":{\"xaxis\":{\"backgroundcolor\":\"#E5ECF6\",\"gridcolor\":\"white\",\"linecolor\":\"white\",\"showbackground\":true,\"ticks\":\"\",\"zerolinecolor\":\"white\",\"gridwidth\":2},\"yaxis\":{\"backgroundcolor\":\"#E5ECF6\",\"gridcolor\":\"white\",\"linecolor\":\"white\",\"showbackground\":true,\"ticks\":\"\",\"zerolinecolor\":\"white\",\"gridwidth\":2},\"zaxis\":{\"backgroundcolor\":\"#E5ECF6\",\"gridcolor\":\"white\",\"linecolor\":\"white\",\"showbackground\":true,\"ticks\":\"\",\"zerolinecolor\":\"white\",\"gridwidth\":2}},\"shapedefaults\":{\"line\":{\"color\":\"#2a3f5f\"}},\"annotationdefaults\":{\"arrowcolor\":\"#2a3f5f\",\"arrowhead\":0,\"arrowwidth\":1},\"geo\":{\"bgcolor\":\"white\",\"landcolor\":\"#E5ECF6\",\"subunitcolor\":\"white\",\"showland\":true,\"showlakes\":true,\"lakecolor\":\"white\"},\"title\":{\"x\":0.05},\"mapbox\":{\"style\":\"light\"}}},\"shapes\":[{\"line\":{\"color\":\"green\",\"dash\":\"dash\",\"width\":3},\"type\":\"line\",\"x0\":80000000.0,\"x1\":80000000.0,\"xref\":\"x\",\"y0\":0,\"y1\":1,\"yref\":\"y domain\"}],\"annotations\":[{\"align\":\"left\",\"arrowcolor\":\"#636363\",\"arrowhead\":1,\"arrowsize\":1,\"arrowwidth\":2,\"ax\":-20,\"ay\":-30,\"font\":{\"color\":\"purple\",\"family\":\"Sans Serif\",\"size\":12},\"showarrow\":false,\"text\":\"LLC Size Per Node\",\"x\":\"80e6\",\"y\":130,\"yanchor\":\"bottom\"}],\"xaxis\":{\"title\":{\"text\":\"Dirc_Data_Mov\"},\"ticks\":\"outside\"},\"yaxis\":{\"title\":{\"text\":\"GFLOPs/Node\"},\"ticks\":\"outside\"},\"title\":{\"text\":\"\\\"Node 1 vs 2 vs 4 (8mpi 4omp per node): Macro Fused vs NonFused (nonprobempi)\\\" GFlops Measurement\"}},                        {\"responsive\": true}                    ).then(function(){\n",
       "                            \n",
       "var gd = document.getElementById('b6b559a5-6bb5-4041-99a0-78d3788b1545');\n",
       "var x = new MutationObserver(function (mutations, observer) {{\n",
       "        var display = window.getComputedStyle(gd).display;\n",
       "        if (!display || display === 'none') {{\n",
       "            console.log([gd, 'removed!']);\n",
       "            Plotly.purge(gd);\n",
       "            observer.disconnect();\n",
       "        }}\n",
       "}});\n",
       "\n",
       "// Listen for the removal of the full notebook cells\n",
       "var notebookContainer = gd.closest('#notebook-container');\n",
       "if (notebookContainer) {{\n",
       "    x.observe(notebookContainer, {childList: true});\n",
       "}}\n",
       "\n",
       "// Listen for the clearing of the current output cell\n",
       "var outputEl = gd.closest('.output');\n",
       "if (outputEl) {{\n",
       "    x.observe(outputEl, {childList: true});\n",
       "}}\n",
       "\n",
       "                        })                };                });            </script>        </div>"
      ]
     },
     "metadata": {},
     "output_type": "display_data"
    }
   ],
   "source": [
    "fig = go.Figure()\n",
    "\n",
    "# NODE 1\n",
    "fig.add_trace(go.Scatter(x=(dfn1MacNonFusNonProb_8mpi_4omp.Dirc_Data_Mov*(dfn1MacNonFusNonProb_8mpi_4omp.MPI_size)), \n",
    "                         y=(dfn1MacNonFusNonProb_8mpi_4omp.GFLOPS*(dfn1MacNonFusNonProb_8mpi_4omp.MPI_size)), \n",
    "                         mode='lines+markers', \n",
    "                         name='Node1: MacNonFusNonProb_8mpi_4omp',\n",
    "                         line=dict(color='red',width=3),\n",
    "                         marker=dict(symbol='hexagon',size=9, line=dict(color='yellow',width=1))))\n",
    "\n",
    "fig.add_trace(go.Scatter(x=(dfn1MacFusNonProb_8mpi_4omp.Dirc_Data_Mov*(dfn1MacFusNonProb_8mpi_4omp.MPI_size)), \n",
    "                         y=(dfn1MacFusNonProb_8mpi_4omp.GFLOPS*(dfn1MacFusNonProb_8mpi_4omp.MPI_size)), \n",
    "                         mode='lines+markers', \n",
    "                         name='Node1: MacFusNonProb_8mpi_4omp',\n",
    "                         line=dict(color='green',width=3),\n",
    "                         marker=dict(symbol='hexagon',size=9, line=dict(color='yellow',width=1))))\n",
    "\n",
    "# NODE 2\n",
    "fig.add_trace(go.Scatter(x=(dfn2MacNonFusNonProb_16mpi_4omp.Dirc_Data_Mov*(dfn2MacNonFusNonProb_16mpi_4omp.MPI_size/2)), \n",
    "                         y=(dfn2MacNonFusNonProb_16mpi_4omp.GFLOPS*(dfn2MacNonFusNonProb_16mpi_4omp.MPI_size/2)), \n",
    "                         mode='lines+markers', \n",
    "                         name='Node2: MacNonFusNonProb_16mpi_4omp',\n",
    "                         line=dict(color='magenta',width=3),\n",
    "                         marker=dict(symbol='hexagon',size=9, line=dict(color='yellow',width=1))))\n",
    "\n",
    "fig.add_trace(go.Scatter(x=(dfn2MacFusNonProb_16mpi_4omp.Dirc_Data_Mov*(dfn2MacFusNonProb_16mpi_4omp.MPI_size/2)), \n",
    "                         y=(dfn2MacFusNonProb_16mpi_4omp.GFLOPS*(dfn2MacFusNonProb_16mpi_4omp.MPI_size/2)), \n",
    "                         mode='lines+markers', \n",
    "                         name='Node2: MacFusNonProb_16mpi_4omp',\n",
    "                         line=dict(color='blue',width=3),\n",
    "                         marker=dict(symbol='hexagon',size=9, line=dict(color='yellow',width=1))))\n",
    "\n",
    "\n",
    "# NODE 4\n",
    "fig.add_trace(go.Scatter(x=(dfn4MacNonFusNonProb_32mpi_4omp.Dirc_Data_Mov*(dfn4MacNonFusNonProb_32mpi_4omp.MPI_size/4)), \n",
    "                         y=(dfn4MacNonFusNonProb_32mpi_4omp.GFLOPS*(dfn4MacNonFusNonProb_32mpi_4omp.MPI_size/4)), \n",
    "                         mode='lines+markers', \n",
    "                         name='Node4: MacNonFusNonProb_32mpi_4omp',\n",
    "                         line=dict(color='darkblue',width=3),\n",
    "                         marker=dict(symbol='hexagon',size=7,line=dict(color='Purple',width=2))))\n",
    "\n",
    "fig.add_trace(go.Scatter(x=(dfn4MacFusNonProb_32mpi_4omp.Dirc_Data_Mov*(dfn4MacFusNonProb_32mpi_4omp.MPI_size/4)), \n",
    "                         y=(dfn4MacFusNonProb_32mpi_4omp.GFLOPS*(dfn4MacFusNonProb_32mpi_4omp.MPI_size/4)), \n",
    "                         mode='lines+markers', \n",
    "                         name='Node4: MacFusNonProb_32mpi_4omp',\n",
    "                         line=dict(color='cyan',width=3),\n",
    "                         marker=dict(symbol='hexagon',size=7,line=dict(color='Purple',width=2))))\n",
    "\n",
    "\n",
    "\n",
    "# Adding a vertical line\n",
    "fig.add_vline(x=80e6, line_width=3, line_dash=\"dash\", line_color=\"green\")\n",
    "# fig.add_hline(y=1024, line_width=3, line_dash=\"dash\", line_color=\"red\")\n",
    "\n",
    "# Add annotation\n",
    "fig.add_annotation(\n",
    "    x='80e6'\n",
    "    , y=130\n",
    "    , text=f'LLC Size Per Node'\n",
    "    , yanchor='bottom'\n",
    "    , showarrow=False\n",
    "    , arrowhead=1\n",
    "    , arrowsize=1\n",
    "    , arrowwidth=2\n",
    "    , arrowcolor=\"#636363\"\n",
    "    , ax=-20\n",
    "    , ay=-30\n",
    "    , font=dict(size=12, color=\"purple\", family=\"Sans Serif\")\n",
    "    , align=\"left\"\n",
    "    ,)\n",
    "\n",
    "fig.update_layout(title='\"Node 1 vs 2 vs 4 (8mpi 4omp per node): Macro Fused vs NonFused (nonprobempi)\" GFlops Measurement',\n",
    "                  xaxis_title='Dirc_Data_Mov', yaxis_title='GFLOPs/Node', \n",
    "                  xaxis=dict(ticks=\"outside\"),  \n",
    "                  yaxis=dict(ticks=\"outside\"))\n"
   ]
  },
  {
   "cell_type": "markdown",
   "id": "d006a9ff",
   "metadata": {},
   "source": [
    "## Bandwidth Macro Fused vs NonFused NonProbmpi: Node1 vs 2 vs 4 (8 mpi 4omp per node)"
   ]
  },
  {
   "cell_type": "code",
   "execution_count": 103,
   "id": "06e6d326",
   "metadata": {},
   "outputs": [
    {
     "data": {
      "application/vnd.plotly.v1+json": {
       "config": {
        "plotlyServerURL": "https://plot.ly"
       },
       "data": [
        {
         "line": {
          "color": "magenta",
          "width": 3
         },
         "marker": {
          "line": {
           "color": "yellow",
           "width": 1
          },
          "size": 9,
          "symbol": "hexagon"
         },
         "mode": "lines+markers",
         "name": "Node1: MacFusNonProb_8mpi_4omp",
         "type": "scatter",
         "x": [
          75497472,
          50331648,
          100663296,
          125829120,
          150994944,
          176160768,
          201326592,
          226492416,
          251658240,
          276824064,
          301989888,
          327155712,
          352321536,
          377487360,
          402653184
         ],
         "y": [
          198.1328,
          199.8664,
          199.1208,
          199.8624,
          194.3496,
          184.052,
          165.0592,
          146.9848,
          131.072,
          123.5232,
          114.54,
          109.8992,
          105.3528,
          102.856,
          100.6752
         ]
        },
        {
         "line": {
          "color": "royalblue",
          "width": 3
         },
         "marker": {
          "line": {
           "color": "yellow",
           "width": 1
          },
          "size": 9,
          "symbol": "hexagon"
         },
         "mode": "lines+markers",
         "name": "Node1: MacNonFusNonProb_8mpi_4omp",
         "type": "scatter",
         "x": [
          50331648,
          75497472,
          100663296,
          125829120,
          150994944,
          176160768,
          201326592,
          226492416,
          251658240,
          276824064,
          301989888,
          327155712,
          352321536,
          377487360,
          402653184
         ],
         "y": [
          147.272,
          149.6712,
          152.0064,
          153.2968,
          149.7208,
          145.8272,
          132.6016,
          118.616,
          111.2368,
          104.4296,
          97.5184,
          96.6208,
          93.3984,
          92.364,
          88.0512
         ]
        },
        {
         "line": {
          "color": "darkcyan",
          "width": 3
         },
         "marker": {
          "line": {
           "color": "yellow",
           "width": 1
          },
          "size": 9,
          "symbol": "hexagon"
         },
         "mode": "lines+markers",
         "name": "Node2: MacFusNonProb_16mpi_4omp",
         "type": "scatter",
         "x": [
          50331648,
          62914560,
          75497472,
          88080384,
          100663296,
          113246208,
          125829120,
          138412032,
          150994944,
          163577856,
          176160768,
          188743680,
          201326592,
          213909504,
          226492416,
          239075328,
          251658240,
          264241152,
          276824064,
          289406976,
          301989888,
          314572800,
          327155712,
          339738624,
          352321536,
          364904448,
          377487360,
          390070272,
          402653184
         ],
         "y": [
          121.5552,
          130.1744,
          157.08,
          162.7904,
          148.6968,
          167.6984,
          166.28,
          153.788,
          159.4536,
          151.8104,
          146.0528,
          139.996,
          135.884,
          132.5784,
          124.4472,
          121.2504,
          115.5768,
          115.0736,
          110.9336,
          109.652,
          108.16,
          106.124,
          104.3128,
          103.0264,
          102.0104,
          101.9888,
          100.8368,
          100.9848,
          99.44
         ]
        },
        {
         "line": {
          "color": "chocolate",
          "width": 3
         },
         "marker": {
          "line": {
           "color": "yellow",
           "width": 1
          },
          "size": 9,
          "symbol": "hexagon"
         },
         "mode": "lines+markers",
         "name": "Node2: MacNonFusNonProb_16mpi_4omp",
         "type": "scatter",
         "x": [
          50331648,
          62914560,
          75497472,
          88080384,
          100663296,
          113246208,
          125829120,
          138412032,
          150994944,
          163577856,
          176160768,
          188743680,
          201326592,
          213909504,
          226492416,
          239075328,
          251658240,
          264241152,
          276824064,
          289406976,
          301989888,
          314572800,
          327155712,
          339738624,
          352321536,
          364904448,
          377487360,
          390070272,
          402653184
         ],
         "y": [
          92.516,
          97.0696,
          104.6192,
          99.812,
          105.7192,
          105.2952,
          104.888,
          105.4624,
          104.4624,
          100.7224,
          98.9384,
          96.8112,
          93.18,
          91.504,
          88.8288,
          86.3968,
          83.0136,
          80.3976,
          79.048,
          78.19256,
          77.79872,
          76.14272,
          75.88248,
          74.66592,
          73.638,
          73.94672,
          72.7252,
          72.47352,
          70.96824
         ]
        },
        {
         "line": {
          "color": "cyan",
          "width": 3
         },
         "marker": {
          "line": {
           "color": "black",
           "width": 1
          },
          "size": 9,
          "symbol": "hexagon"
         },
         "mode": "lines+markers",
         "name": "Node4: MacFusNonProb_32mpi_4omp",
         "type": "scatter",
         "x": [
          50331648,
          62914560,
          75497472,
          88080384,
          100663296,
          113246208,
          125829120,
          138412032,
          150994944,
          163577856,
          176160768,
          188743680,
          201326592,
          213909504,
          226492416,
          239075328,
          251658240,
          264241152,
          276824064,
          289406976,
          301989888,
          314572800,
          327155712,
          339738624,
          352321536,
          364904448,
          377487360,
          390070272,
          402653184
         ],
         "y": [
          117.1992,
          127.0496,
          133.0472,
          138.9368,
          145.8328,
          147.2376,
          166.6368,
          149.5832,
          149.2456,
          147.0712,
          146.044,
          136.9696,
          135.5472,
          130.8008,
          117.9184,
          120.9384,
          115.2904,
          112.608,
          110.6944,
          109.3208,
          106.8264,
          105.2048,
          103.8272,
          102.5384,
          102.2504,
          102.0648,
          101.0528,
          100.8512,
          99.848
         ]
        },
        {
         "line": {
          "color": "darkblue",
          "width": 3
         },
         "marker": {
          "line": {
           "color": "yellow",
           "width": 1
          },
          "size": 9,
          "symbol": "hexagon"
         },
         "mode": "lines+markers",
         "name": "Node4: MacNonFusNonProb_32mpi_4omp",
         "type": "scatter",
         "x": [
          50331648,
          62914560,
          75497472,
          88080384,
          100663296,
          113246208,
          125829120,
          138412032,
          150994944,
          163577856,
          176160768,
          188743680,
          201326592,
          213909504,
          226492416,
          239075328,
          251658240,
          264241152,
          276824064,
          289406976,
          301989888,
          314572800,
          327155712,
          339738624,
          352321536,
          364904448,
          377487360,
          390070272,
          402653184
         ],
         "y": [
          91.3104,
          97.668,
          97.98,
          102.8256,
          110.3736,
          105.6664,
          104.8248,
          104.772,
          104.6616,
          101.3424,
          97.2008,
          94.5424,
          93.1928,
          88.516,
          86.1424,
          82.5488,
          81.4696,
          79.09816,
          78.056,
          77.21112,
          75.98048,
          75.20776,
          72.9484,
          71.71,
          71.9384,
          70.13576,
          70.95736,
          70.67608,
          69.93056
         ]
        }
       ],
       "layout": {
        "annotations": [
         {
          "align": "left",
          "arrowcolor": "#636363",
          "arrowhead": 1,
          "arrowsize": 1,
          "arrowwidth": 2,
          "ax": -20,
          "ay": -30,
          "font": {
           "color": "purple",
           "family": "Sans Serif",
           "size": 12
          },
          "showarrow": false,
          "text": "LLC Size Per Node: 80M",
          "x": "80e6",
          "y": 280,
          "yanchor": "bottom"
         },
         {
          "align": "left",
          "arrowcolor": "#636363",
          "arrowhead": 1,
          "arrowsize": 1,
          "arrowwidth": 2,
          "ax": -20,
          "ay": -30,
          "font": {
           "color": "orange",
           "family": "Sans Serif",
           "size": 12
          },
          "showarrow": false,
          "text": "Max Bandwidth Per Node",
          "x": "130e6",
          "y": 155,
          "yanchor": "bottom"
         }
        ],
        "shapes": [
         {
          "line": {
           "color": "green",
           "dash": "dot",
           "width": 3
          },
          "type": "line",
          "x0": 80000000,
          "x1": 80000000,
          "xref": "x",
          "y0": 0,
          "y1": 1,
          "yref": "y domain"
         },
         {
          "line": {
           "color": "red",
           "dash": "dash",
           "width": 3
          },
          "type": "line",
          "x0": 0,
          "x1": 1,
          "xref": "x domain",
          "y0": 153,
          "y1": 153,
          "yref": "y"
         }
        ],
        "template": {
         "data": {
          "bar": [
           {
            "error_x": {
             "color": "#2a3f5f"
            },
            "error_y": {
             "color": "#2a3f5f"
            },
            "marker": {
             "line": {
              "color": "#E5ECF6",
              "width": 0.5
             },
             "pattern": {
              "fillmode": "overlay",
              "size": 10,
              "solidity": 0.2
             }
            },
            "type": "bar"
           }
          ],
          "barpolar": [
           {
            "marker": {
             "line": {
              "color": "#E5ECF6",
              "width": 0.5
             },
             "pattern": {
              "fillmode": "overlay",
              "size": 10,
              "solidity": 0.2
             }
            },
            "type": "barpolar"
           }
          ],
          "carpet": [
           {
            "aaxis": {
             "endlinecolor": "#2a3f5f",
             "gridcolor": "white",
             "linecolor": "white",
             "minorgridcolor": "white",
             "startlinecolor": "#2a3f5f"
            },
            "baxis": {
             "endlinecolor": "#2a3f5f",
             "gridcolor": "white",
             "linecolor": "white",
             "minorgridcolor": "white",
             "startlinecolor": "#2a3f5f"
            },
            "type": "carpet"
           }
          ],
          "choropleth": [
           {
            "colorbar": {
             "outlinewidth": 0,
             "ticks": ""
            },
            "type": "choropleth"
           }
          ],
          "contour": [
           {
            "colorbar": {
             "outlinewidth": 0,
             "ticks": ""
            },
            "colorscale": [
             [
              0,
              "#0d0887"
             ],
             [
              0.1111111111111111,
              "#46039f"
             ],
             [
              0.2222222222222222,
              "#7201a8"
             ],
             [
              0.3333333333333333,
              "#9c179e"
             ],
             [
              0.4444444444444444,
              "#bd3786"
             ],
             [
              0.5555555555555556,
              "#d8576b"
             ],
             [
              0.6666666666666666,
              "#ed7953"
             ],
             [
              0.7777777777777778,
              "#fb9f3a"
             ],
             [
              0.8888888888888888,
              "#fdca26"
             ],
             [
              1,
              "#f0f921"
             ]
            ],
            "type": "contour"
           }
          ],
          "contourcarpet": [
           {
            "colorbar": {
             "outlinewidth": 0,
             "ticks": ""
            },
            "type": "contourcarpet"
           }
          ],
          "heatmap": [
           {
            "colorbar": {
             "outlinewidth": 0,
             "ticks": ""
            },
            "colorscale": [
             [
              0,
              "#0d0887"
             ],
             [
              0.1111111111111111,
              "#46039f"
             ],
             [
              0.2222222222222222,
              "#7201a8"
             ],
             [
              0.3333333333333333,
              "#9c179e"
             ],
             [
              0.4444444444444444,
              "#bd3786"
             ],
             [
              0.5555555555555556,
              "#d8576b"
             ],
             [
              0.6666666666666666,
              "#ed7953"
             ],
             [
              0.7777777777777778,
              "#fb9f3a"
             ],
             [
              0.8888888888888888,
              "#fdca26"
             ],
             [
              1,
              "#f0f921"
             ]
            ],
            "type": "heatmap"
           }
          ],
          "heatmapgl": [
           {
            "colorbar": {
             "outlinewidth": 0,
             "ticks": ""
            },
            "colorscale": [
             [
              0,
              "#0d0887"
             ],
             [
              0.1111111111111111,
              "#46039f"
             ],
             [
              0.2222222222222222,
              "#7201a8"
             ],
             [
              0.3333333333333333,
              "#9c179e"
             ],
             [
              0.4444444444444444,
              "#bd3786"
             ],
             [
              0.5555555555555556,
              "#d8576b"
             ],
             [
              0.6666666666666666,
              "#ed7953"
             ],
             [
              0.7777777777777778,
              "#fb9f3a"
             ],
             [
              0.8888888888888888,
              "#fdca26"
             ],
             [
              1,
              "#f0f921"
             ]
            ],
            "type": "heatmapgl"
           }
          ],
          "histogram": [
           {
            "marker": {
             "pattern": {
              "fillmode": "overlay",
              "size": 10,
              "solidity": 0.2
             }
            },
            "type": "histogram"
           }
          ],
          "histogram2d": [
           {
            "colorbar": {
             "outlinewidth": 0,
             "ticks": ""
            },
            "colorscale": [
             [
              0,
              "#0d0887"
             ],
             [
              0.1111111111111111,
              "#46039f"
             ],
             [
              0.2222222222222222,
              "#7201a8"
             ],
             [
              0.3333333333333333,
              "#9c179e"
             ],
             [
              0.4444444444444444,
              "#bd3786"
             ],
             [
              0.5555555555555556,
              "#d8576b"
             ],
             [
              0.6666666666666666,
              "#ed7953"
             ],
             [
              0.7777777777777778,
              "#fb9f3a"
             ],
             [
              0.8888888888888888,
              "#fdca26"
             ],
             [
              1,
              "#f0f921"
             ]
            ],
            "type": "histogram2d"
           }
          ],
          "histogram2dcontour": [
           {
            "colorbar": {
             "outlinewidth": 0,
             "ticks": ""
            },
            "colorscale": [
             [
              0,
              "#0d0887"
             ],
             [
              0.1111111111111111,
              "#46039f"
             ],
             [
              0.2222222222222222,
              "#7201a8"
             ],
             [
              0.3333333333333333,
              "#9c179e"
             ],
             [
              0.4444444444444444,
              "#bd3786"
             ],
             [
              0.5555555555555556,
              "#d8576b"
             ],
             [
              0.6666666666666666,
              "#ed7953"
             ],
             [
              0.7777777777777778,
              "#fb9f3a"
             ],
             [
              0.8888888888888888,
              "#fdca26"
             ],
             [
              1,
              "#f0f921"
             ]
            ],
            "type": "histogram2dcontour"
           }
          ],
          "mesh3d": [
           {
            "colorbar": {
             "outlinewidth": 0,
             "ticks": ""
            },
            "type": "mesh3d"
           }
          ],
          "parcoords": [
           {
            "line": {
             "colorbar": {
              "outlinewidth": 0,
              "ticks": ""
             }
            },
            "type": "parcoords"
           }
          ],
          "pie": [
           {
            "automargin": true,
            "type": "pie"
           }
          ],
          "scatter": [
           {
            "fillpattern": {
             "fillmode": "overlay",
             "size": 10,
             "solidity": 0.2
            },
            "type": "scatter"
           }
          ],
          "scatter3d": [
           {
            "line": {
             "colorbar": {
              "outlinewidth": 0,
              "ticks": ""
             }
            },
            "marker": {
             "colorbar": {
              "outlinewidth": 0,
              "ticks": ""
             }
            },
            "type": "scatter3d"
           }
          ],
          "scattercarpet": [
           {
            "marker": {
             "colorbar": {
              "outlinewidth": 0,
              "ticks": ""
             }
            },
            "type": "scattercarpet"
           }
          ],
          "scattergeo": [
           {
            "marker": {
             "colorbar": {
              "outlinewidth": 0,
              "ticks": ""
             }
            },
            "type": "scattergeo"
           }
          ],
          "scattergl": [
           {
            "marker": {
             "colorbar": {
              "outlinewidth": 0,
              "ticks": ""
             }
            },
            "type": "scattergl"
           }
          ],
          "scattermapbox": [
           {
            "marker": {
             "colorbar": {
              "outlinewidth": 0,
              "ticks": ""
             }
            },
            "type": "scattermapbox"
           }
          ],
          "scatterpolar": [
           {
            "marker": {
             "colorbar": {
              "outlinewidth": 0,
              "ticks": ""
             }
            },
            "type": "scatterpolar"
           }
          ],
          "scatterpolargl": [
           {
            "marker": {
             "colorbar": {
              "outlinewidth": 0,
              "ticks": ""
             }
            },
            "type": "scatterpolargl"
           }
          ],
          "scatterternary": [
           {
            "marker": {
             "colorbar": {
              "outlinewidth": 0,
              "ticks": ""
             }
            },
            "type": "scatterternary"
           }
          ],
          "surface": [
           {
            "colorbar": {
             "outlinewidth": 0,
             "ticks": ""
            },
            "colorscale": [
             [
              0,
              "#0d0887"
             ],
             [
              0.1111111111111111,
              "#46039f"
             ],
             [
              0.2222222222222222,
              "#7201a8"
             ],
             [
              0.3333333333333333,
              "#9c179e"
             ],
             [
              0.4444444444444444,
              "#bd3786"
             ],
             [
              0.5555555555555556,
              "#d8576b"
             ],
             [
              0.6666666666666666,
              "#ed7953"
             ],
             [
              0.7777777777777778,
              "#fb9f3a"
             ],
             [
              0.8888888888888888,
              "#fdca26"
             ],
             [
              1,
              "#f0f921"
             ]
            ],
            "type": "surface"
           }
          ],
          "table": [
           {
            "cells": {
             "fill": {
              "color": "#EBF0F8"
             },
             "line": {
              "color": "white"
             }
            },
            "header": {
             "fill": {
              "color": "#C8D4E3"
             },
             "line": {
              "color": "white"
             }
            },
            "type": "table"
           }
          ]
         },
         "layout": {
          "annotationdefaults": {
           "arrowcolor": "#2a3f5f",
           "arrowhead": 0,
           "arrowwidth": 1
          },
          "autotypenumbers": "strict",
          "coloraxis": {
           "colorbar": {
            "outlinewidth": 0,
            "ticks": ""
           }
          },
          "colorscale": {
           "diverging": [
            [
             0,
             "#8e0152"
            ],
            [
             0.1,
             "#c51b7d"
            ],
            [
             0.2,
             "#de77ae"
            ],
            [
             0.3,
             "#f1b6da"
            ],
            [
             0.4,
             "#fde0ef"
            ],
            [
             0.5,
             "#f7f7f7"
            ],
            [
             0.6,
             "#e6f5d0"
            ],
            [
             0.7,
             "#b8e186"
            ],
            [
             0.8,
             "#7fbc41"
            ],
            [
             0.9,
             "#4d9221"
            ],
            [
             1,
             "#276419"
            ]
           ],
           "sequential": [
            [
             0,
             "#0d0887"
            ],
            [
             0.1111111111111111,
             "#46039f"
            ],
            [
             0.2222222222222222,
             "#7201a8"
            ],
            [
             0.3333333333333333,
             "#9c179e"
            ],
            [
             0.4444444444444444,
             "#bd3786"
            ],
            [
             0.5555555555555556,
             "#d8576b"
            ],
            [
             0.6666666666666666,
             "#ed7953"
            ],
            [
             0.7777777777777778,
             "#fb9f3a"
            ],
            [
             0.8888888888888888,
             "#fdca26"
            ],
            [
             1,
             "#f0f921"
            ]
           ],
           "sequentialminus": [
            [
             0,
             "#0d0887"
            ],
            [
             0.1111111111111111,
             "#46039f"
            ],
            [
             0.2222222222222222,
             "#7201a8"
            ],
            [
             0.3333333333333333,
             "#9c179e"
            ],
            [
             0.4444444444444444,
             "#bd3786"
            ],
            [
             0.5555555555555556,
             "#d8576b"
            ],
            [
             0.6666666666666666,
             "#ed7953"
            ],
            [
             0.7777777777777778,
             "#fb9f3a"
            ],
            [
             0.8888888888888888,
             "#fdca26"
            ],
            [
             1,
             "#f0f921"
            ]
           ]
          },
          "colorway": [
           "#636efa",
           "#EF553B",
           "#00cc96",
           "#ab63fa",
           "#FFA15A",
           "#19d3f3",
           "#FF6692",
           "#B6E880",
           "#FF97FF",
           "#FECB52"
          ],
          "font": {
           "color": "#2a3f5f"
          },
          "geo": {
           "bgcolor": "white",
           "lakecolor": "white",
           "landcolor": "#E5ECF6",
           "showlakes": true,
           "showland": true,
           "subunitcolor": "white"
          },
          "hoverlabel": {
           "align": "left"
          },
          "hovermode": "closest",
          "mapbox": {
           "style": "light"
          },
          "paper_bgcolor": "white",
          "plot_bgcolor": "#E5ECF6",
          "polar": {
           "angularaxis": {
            "gridcolor": "white",
            "linecolor": "white",
            "ticks": ""
           },
           "bgcolor": "#E5ECF6",
           "radialaxis": {
            "gridcolor": "white",
            "linecolor": "white",
            "ticks": ""
           }
          },
          "scene": {
           "xaxis": {
            "backgroundcolor": "#E5ECF6",
            "gridcolor": "white",
            "gridwidth": 2,
            "linecolor": "white",
            "showbackground": true,
            "ticks": "",
            "zerolinecolor": "white"
           },
           "yaxis": {
            "backgroundcolor": "#E5ECF6",
            "gridcolor": "white",
            "gridwidth": 2,
            "linecolor": "white",
            "showbackground": true,
            "ticks": "",
            "zerolinecolor": "white"
           },
           "zaxis": {
            "backgroundcolor": "#E5ECF6",
            "gridcolor": "white",
            "gridwidth": 2,
            "linecolor": "white",
            "showbackground": true,
            "ticks": "",
            "zerolinecolor": "white"
           }
          },
          "shapedefaults": {
           "line": {
            "color": "#2a3f5f"
           }
          },
          "ternary": {
           "aaxis": {
            "gridcolor": "white",
            "linecolor": "white",
            "ticks": ""
           },
           "baxis": {
            "gridcolor": "white",
            "linecolor": "white",
            "ticks": ""
           },
           "bgcolor": "#E5ECF6",
           "caxis": {
            "gridcolor": "white",
            "linecolor": "white",
            "ticks": ""
           }
          },
          "title": {
           "x": 0.05
          },
          "xaxis": {
           "automargin": true,
           "gridcolor": "white",
           "linecolor": "white",
           "ticks": "",
           "title": {
            "standoff": 15
           },
           "zerolinecolor": "white",
           "zerolinewidth": 2
          },
          "yaxis": {
           "automargin": true,
           "gridcolor": "white",
           "linecolor": "white",
           "ticks": "",
           "title": {
            "standoff": 15
           },
           "zerolinecolor": "white",
           "zerolinewidth": 2
          }
         }
        },
        "title": {
         "text": "\"Node 1 vs 2 vs 4 (8mpi 4omp): Macro Fused vd NonFused (nonprobempi)\" Bandwidth Measurement"
        },
        "xaxis": {
         "ticks": "outside",
         "title": {
          "text": "Dirc_Data_Mov"
         }
        },
        "yaxis": {
         "ticks": "outside",
         "title": {
          "text": "Bandwidth/Node"
         }
        }
       }
      },
      "text/html": [
       "<div>                            <div id=\"3de744f7-1220-44e0-9327-5bfd17ba74f3\" class=\"plotly-graph-div\" style=\"height:525px; width:100%;\"></div>            <script type=\"text/javascript\">                require([\"plotly\"], function(Plotly) {                    window.PLOTLYENV=window.PLOTLYENV || {};                                    if (document.getElementById(\"3de744f7-1220-44e0-9327-5bfd17ba74f3\")) {                    Plotly.newPlot(                        \"3de744f7-1220-44e0-9327-5bfd17ba74f3\",                        [{\"line\":{\"color\":\"magenta\",\"width\":3},\"marker\":{\"line\":{\"color\":\"yellow\",\"width\":1},\"size\":9,\"symbol\":\"hexagon\"},\"mode\":\"lines+markers\",\"name\":\"Node1: MacFusNonProb_8mpi_4omp\",\"x\":[75497472,50331648,100663296,125829120,150994944,176160768,201326592,226492416,251658240,276824064,301989888,327155712,352321536,377487360,402653184],\"y\":[198.1328,199.8664,199.1208,199.8624,194.3496,184.052,165.0592,146.9848,131.072,123.5232,114.54,109.8992,105.3528,102.856,100.6752],\"type\":\"scatter\"},{\"line\":{\"color\":\"royalblue\",\"width\":3},\"marker\":{\"line\":{\"color\":\"yellow\",\"width\":1},\"size\":9,\"symbol\":\"hexagon\"},\"mode\":\"lines+markers\",\"name\":\"Node1: MacNonFusNonProb_8mpi_4omp\",\"x\":[50331648,75497472,100663296,125829120,150994944,176160768,201326592,226492416,251658240,276824064,301989888,327155712,352321536,377487360,402653184],\"y\":[147.272,149.6712,152.0064,153.2968,149.7208,145.8272,132.6016,118.616,111.2368,104.4296,97.5184,96.6208,93.3984,92.364,88.0512],\"type\":\"scatter\"},{\"line\":{\"color\":\"darkcyan\",\"width\":3},\"marker\":{\"line\":{\"color\":\"yellow\",\"width\":1},\"size\":9,\"symbol\":\"hexagon\"},\"mode\":\"lines+markers\",\"name\":\"Node2: MacFusNonProb_16mpi_4omp\",\"x\":[50331648.0,62914560.0,75497472.0,88080384.0,100663296.0,113246208.0,125829120.0,138412032.0,150994944.0,163577856.0,176160768.0,188743680.0,201326592.0,213909504.0,226492416.0,239075328.0,251658240.0,264241152.0,276824064.0,289406976.0,301989888.0,314572800.0,327155712.0,339738624.0,352321536.0,364904448.0,377487360.0,390070272.0,402653184.0],\"y\":[121.5552,130.1744,157.08,162.7904,148.6968,167.6984,166.28,153.788,159.4536,151.8104,146.0528,139.996,135.884,132.5784,124.4472,121.2504,115.5768,115.0736,110.9336,109.652,108.16,106.124,104.3128,103.0264,102.0104,101.9888,100.8368,100.9848,99.44],\"type\":\"scatter\"},{\"line\":{\"color\":\"chocolate\",\"width\":3},\"marker\":{\"line\":{\"color\":\"yellow\",\"width\":1},\"size\":9,\"symbol\":\"hexagon\"},\"mode\":\"lines+markers\",\"name\":\"Node2: MacNonFusNonProb_16mpi_4omp\",\"x\":[50331648.0,62914560.0,75497472.0,88080384.0,100663296.0,113246208.0,125829120.0,138412032.0,150994944.0,163577856.0,176160768.0,188743680.0,201326592.0,213909504.0,226492416.0,239075328.0,251658240.0,264241152.0,276824064.0,289406976.0,301989888.0,314572800.0,327155712.0,339738624.0,352321536.0,364904448.0,377487360.0,390070272.0,402653184.0],\"y\":[92.516,97.0696,104.6192,99.812,105.7192,105.2952,104.888,105.4624,104.4624,100.7224,98.9384,96.8112,93.18,91.504,88.8288,86.3968,83.0136,80.3976,79.048,78.19256,77.79872,76.14272,75.88248,74.66592,73.638,73.94672,72.7252,72.47352,70.96824],\"type\":\"scatter\"},{\"line\":{\"color\":\"cyan\",\"width\":3},\"marker\":{\"line\":{\"color\":\"black\",\"width\":1},\"size\":9,\"symbol\":\"hexagon\"},\"mode\":\"lines+markers\",\"name\":\"Node4: MacFusNonProb_32mpi_4omp\",\"x\":[50331648.0,62914560.0,75497472.0,88080384.0,100663296.0,113246208.0,125829120.0,138412032.0,150994944.0,163577856.0,176160768.0,188743680.0,201326592.0,213909504.0,226492416.0,239075328.0,251658240.0,264241152.0,276824064.0,289406976.0,301989888.0,314572800.0,327155712.0,339738624.0,352321536.0,364904448.0,377487360.0,390070272.0,402653184.0],\"y\":[117.1992,127.0496,133.0472,138.9368,145.8328,147.2376,166.6368,149.5832,149.2456,147.0712,146.044,136.9696,135.5472,130.8008,117.9184,120.9384,115.2904,112.608,110.6944,109.3208,106.8264,105.2048,103.8272,102.5384,102.2504,102.0648,101.0528,100.8512,99.848],\"type\":\"scatter\"},{\"line\":{\"color\":\"darkblue\",\"width\":3},\"marker\":{\"line\":{\"color\":\"yellow\",\"width\":1},\"size\":9,\"symbol\":\"hexagon\"},\"mode\":\"lines+markers\",\"name\":\"Node4: MacNonFusNonProb_32mpi_4omp\",\"x\":[50331648.0,62914560.0,75497472.0,88080384.0,100663296.0,113246208.0,125829120.0,138412032.0,150994944.0,163577856.0,176160768.0,188743680.0,201326592.0,213909504.0,226492416.0,239075328.0,251658240.0,264241152.0,276824064.0,289406976.0,301989888.0,314572800.0,327155712.0,339738624.0,352321536.0,364904448.0,377487360.0,390070272.0,402653184.0],\"y\":[91.3104,97.668,97.98,102.8256,110.3736,105.6664,104.8248,104.772,104.6616,101.3424,97.2008,94.5424,93.1928,88.516,86.1424,82.5488,81.4696,79.09816,78.056,77.21112,75.98048,75.20776,72.9484,71.71,71.9384,70.13576,70.95736,70.67608,69.93056],\"type\":\"scatter\"}],                        {\"template\":{\"data\":{\"histogram2dcontour\":[{\"type\":\"histogram2dcontour\",\"colorbar\":{\"outlinewidth\":0,\"ticks\":\"\"},\"colorscale\":[[0.0,\"#0d0887\"],[0.1111111111111111,\"#46039f\"],[0.2222222222222222,\"#7201a8\"],[0.3333333333333333,\"#9c179e\"],[0.4444444444444444,\"#bd3786\"],[0.5555555555555556,\"#d8576b\"],[0.6666666666666666,\"#ed7953\"],[0.7777777777777778,\"#fb9f3a\"],[0.8888888888888888,\"#fdca26\"],[1.0,\"#f0f921\"]]}],\"choropleth\":[{\"type\":\"choropleth\",\"colorbar\":{\"outlinewidth\":0,\"ticks\":\"\"}}],\"histogram2d\":[{\"type\":\"histogram2d\",\"colorbar\":{\"outlinewidth\":0,\"ticks\":\"\"},\"colorscale\":[[0.0,\"#0d0887\"],[0.1111111111111111,\"#46039f\"],[0.2222222222222222,\"#7201a8\"],[0.3333333333333333,\"#9c179e\"],[0.4444444444444444,\"#bd3786\"],[0.5555555555555556,\"#d8576b\"],[0.6666666666666666,\"#ed7953\"],[0.7777777777777778,\"#fb9f3a\"],[0.8888888888888888,\"#fdca26\"],[1.0,\"#f0f921\"]]}],\"heatmap\":[{\"type\":\"heatmap\",\"colorbar\":{\"outlinewidth\":0,\"ticks\":\"\"},\"colorscale\":[[0.0,\"#0d0887\"],[0.1111111111111111,\"#46039f\"],[0.2222222222222222,\"#7201a8\"],[0.3333333333333333,\"#9c179e\"],[0.4444444444444444,\"#bd3786\"],[0.5555555555555556,\"#d8576b\"],[0.6666666666666666,\"#ed7953\"],[0.7777777777777778,\"#fb9f3a\"],[0.8888888888888888,\"#fdca26\"],[1.0,\"#f0f921\"]]}],\"heatmapgl\":[{\"type\":\"heatmapgl\",\"colorbar\":{\"outlinewidth\":0,\"ticks\":\"\"},\"colorscale\":[[0.0,\"#0d0887\"],[0.1111111111111111,\"#46039f\"],[0.2222222222222222,\"#7201a8\"],[0.3333333333333333,\"#9c179e\"],[0.4444444444444444,\"#bd3786\"],[0.5555555555555556,\"#d8576b\"],[0.6666666666666666,\"#ed7953\"],[0.7777777777777778,\"#fb9f3a\"],[0.8888888888888888,\"#fdca26\"],[1.0,\"#f0f921\"]]}],\"contourcarpet\":[{\"type\":\"contourcarpet\",\"colorbar\":{\"outlinewidth\":0,\"ticks\":\"\"}}],\"contour\":[{\"type\":\"contour\",\"colorbar\":{\"outlinewidth\":0,\"ticks\":\"\"},\"colorscale\":[[0.0,\"#0d0887\"],[0.1111111111111111,\"#46039f\"],[0.2222222222222222,\"#7201a8\"],[0.3333333333333333,\"#9c179e\"],[0.4444444444444444,\"#bd3786\"],[0.5555555555555556,\"#d8576b\"],[0.6666666666666666,\"#ed7953\"],[0.7777777777777778,\"#fb9f3a\"],[0.8888888888888888,\"#fdca26\"],[1.0,\"#f0f921\"]]}],\"surface\":[{\"type\":\"surface\",\"colorbar\":{\"outlinewidth\":0,\"ticks\":\"\"},\"colorscale\":[[0.0,\"#0d0887\"],[0.1111111111111111,\"#46039f\"],[0.2222222222222222,\"#7201a8\"],[0.3333333333333333,\"#9c179e\"],[0.4444444444444444,\"#bd3786\"],[0.5555555555555556,\"#d8576b\"],[0.6666666666666666,\"#ed7953\"],[0.7777777777777778,\"#fb9f3a\"],[0.8888888888888888,\"#fdca26\"],[1.0,\"#f0f921\"]]}],\"mesh3d\":[{\"type\":\"mesh3d\",\"colorbar\":{\"outlinewidth\":0,\"ticks\":\"\"}}],\"scatter\":[{\"fillpattern\":{\"fillmode\":\"overlay\",\"size\":10,\"solidity\":0.2},\"type\":\"scatter\"}],\"parcoords\":[{\"type\":\"parcoords\",\"line\":{\"colorbar\":{\"outlinewidth\":0,\"ticks\":\"\"}}}],\"scatterpolargl\":[{\"type\":\"scatterpolargl\",\"marker\":{\"colorbar\":{\"outlinewidth\":0,\"ticks\":\"\"}}}],\"bar\":[{\"error_x\":{\"color\":\"#2a3f5f\"},\"error_y\":{\"color\":\"#2a3f5f\"},\"marker\":{\"line\":{\"color\":\"#E5ECF6\",\"width\":0.5},\"pattern\":{\"fillmode\":\"overlay\",\"size\":10,\"solidity\":0.2}},\"type\":\"bar\"}],\"scattergeo\":[{\"type\":\"scattergeo\",\"marker\":{\"colorbar\":{\"outlinewidth\":0,\"ticks\":\"\"}}}],\"scatterpolar\":[{\"type\":\"scatterpolar\",\"marker\":{\"colorbar\":{\"outlinewidth\":0,\"ticks\":\"\"}}}],\"histogram\":[{\"marker\":{\"pattern\":{\"fillmode\":\"overlay\",\"size\":10,\"solidity\":0.2}},\"type\":\"histogram\"}],\"scattergl\":[{\"type\":\"scattergl\",\"marker\":{\"colorbar\":{\"outlinewidth\":0,\"ticks\":\"\"}}}],\"scatter3d\":[{\"type\":\"scatter3d\",\"line\":{\"colorbar\":{\"outlinewidth\":0,\"ticks\":\"\"}},\"marker\":{\"colorbar\":{\"outlinewidth\":0,\"ticks\":\"\"}}}],\"scattermapbox\":[{\"type\":\"scattermapbox\",\"marker\":{\"colorbar\":{\"outlinewidth\":0,\"ticks\":\"\"}}}],\"scatterternary\":[{\"type\":\"scatterternary\",\"marker\":{\"colorbar\":{\"outlinewidth\":0,\"ticks\":\"\"}}}],\"scattercarpet\":[{\"type\":\"scattercarpet\",\"marker\":{\"colorbar\":{\"outlinewidth\":0,\"ticks\":\"\"}}}],\"carpet\":[{\"aaxis\":{\"endlinecolor\":\"#2a3f5f\",\"gridcolor\":\"white\",\"linecolor\":\"white\",\"minorgridcolor\":\"white\",\"startlinecolor\":\"#2a3f5f\"},\"baxis\":{\"endlinecolor\":\"#2a3f5f\",\"gridcolor\":\"white\",\"linecolor\":\"white\",\"minorgridcolor\":\"white\",\"startlinecolor\":\"#2a3f5f\"},\"type\":\"carpet\"}],\"table\":[{\"cells\":{\"fill\":{\"color\":\"#EBF0F8\"},\"line\":{\"color\":\"white\"}},\"header\":{\"fill\":{\"color\":\"#C8D4E3\"},\"line\":{\"color\":\"white\"}},\"type\":\"table\"}],\"barpolar\":[{\"marker\":{\"line\":{\"color\":\"#E5ECF6\",\"width\":0.5},\"pattern\":{\"fillmode\":\"overlay\",\"size\":10,\"solidity\":0.2}},\"type\":\"barpolar\"}],\"pie\":[{\"automargin\":true,\"type\":\"pie\"}]},\"layout\":{\"autotypenumbers\":\"strict\",\"colorway\":[\"#636efa\",\"#EF553B\",\"#00cc96\",\"#ab63fa\",\"#FFA15A\",\"#19d3f3\",\"#FF6692\",\"#B6E880\",\"#FF97FF\",\"#FECB52\"],\"font\":{\"color\":\"#2a3f5f\"},\"hovermode\":\"closest\",\"hoverlabel\":{\"align\":\"left\"},\"paper_bgcolor\":\"white\",\"plot_bgcolor\":\"#E5ECF6\",\"polar\":{\"bgcolor\":\"#E5ECF6\",\"angularaxis\":{\"gridcolor\":\"white\",\"linecolor\":\"white\",\"ticks\":\"\"},\"radialaxis\":{\"gridcolor\":\"white\",\"linecolor\":\"white\",\"ticks\":\"\"}},\"ternary\":{\"bgcolor\":\"#E5ECF6\",\"aaxis\":{\"gridcolor\":\"white\",\"linecolor\":\"white\",\"ticks\":\"\"},\"baxis\":{\"gridcolor\":\"white\",\"linecolor\":\"white\",\"ticks\":\"\"},\"caxis\":{\"gridcolor\":\"white\",\"linecolor\":\"white\",\"ticks\":\"\"}},\"coloraxis\":{\"colorbar\":{\"outlinewidth\":0,\"ticks\":\"\"}},\"colorscale\":{\"sequential\":[[0.0,\"#0d0887\"],[0.1111111111111111,\"#46039f\"],[0.2222222222222222,\"#7201a8\"],[0.3333333333333333,\"#9c179e\"],[0.4444444444444444,\"#bd3786\"],[0.5555555555555556,\"#d8576b\"],[0.6666666666666666,\"#ed7953\"],[0.7777777777777778,\"#fb9f3a\"],[0.8888888888888888,\"#fdca26\"],[1.0,\"#f0f921\"]],\"sequentialminus\":[[0.0,\"#0d0887\"],[0.1111111111111111,\"#46039f\"],[0.2222222222222222,\"#7201a8\"],[0.3333333333333333,\"#9c179e\"],[0.4444444444444444,\"#bd3786\"],[0.5555555555555556,\"#d8576b\"],[0.6666666666666666,\"#ed7953\"],[0.7777777777777778,\"#fb9f3a\"],[0.8888888888888888,\"#fdca26\"],[1.0,\"#f0f921\"]],\"diverging\":[[0,\"#8e0152\"],[0.1,\"#c51b7d\"],[0.2,\"#de77ae\"],[0.3,\"#f1b6da\"],[0.4,\"#fde0ef\"],[0.5,\"#f7f7f7\"],[0.6,\"#e6f5d0\"],[0.7,\"#b8e186\"],[0.8,\"#7fbc41\"],[0.9,\"#4d9221\"],[1,\"#276419\"]]},\"xaxis\":{\"gridcolor\":\"white\",\"linecolor\":\"white\",\"ticks\":\"\",\"title\":{\"standoff\":15},\"zerolinecolor\":\"white\",\"automargin\":true,\"zerolinewidth\":2},\"yaxis\":{\"gridcolor\":\"white\",\"linecolor\":\"white\",\"ticks\":\"\",\"title\":{\"standoff\":15},\"zerolinecolor\":\"white\",\"automargin\":true,\"zerolinewidth\":2},\"scene\":{\"xaxis\":{\"backgroundcolor\":\"#E5ECF6\",\"gridcolor\":\"white\",\"linecolor\":\"white\",\"showbackground\":true,\"ticks\":\"\",\"zerolinecolor\":\"white\",\"gridwidth\":2},\"yaxis\":{\"backgroundcolor\":\"#E5ECF6\",\"gridcolor\":\"white\",\"linecolor\":\"white\",\"showbackground\":true,\"ticks\":\"\",\"zerolinecolor\":\"white\",\"gridwidth\":2},\"zaxis\":{\"backgroundcolor\":\"#E5ECF6\",\"gridcolor\":\"white\",\"linecolor\":\"white\",\"showbackground\":true,\"ticks\":\"\",\"zerolinecolor\":\"white\",\"gridwidth\":2}},\"shapedefaults\":{\"line\":{\"color\":\"#2a3f5f\"}},\"annotationdefaults\":{\"arrowcolor\":\"#2a3f5f\",\"arrowhead\":0,\"arrowwidth\":1},\"geo\":{\"bgcolor\":\"white\",\"landcolor\":\"#E5ECF6\",\"subunitcolor\":\"white\",\"showland\":true,\"showlakes\":true,\"lakecolor\":\"white\"},\"title\":{\"x\":0.05},\"mapbox\":{\"style\":\"light\"}}},\"shapes\":[{\"line\":{\"color\":\"green\",\"dash\":\"dot\",\"width\":3},\"type\":\"line\",\"x0\":80000000.0,\"x1\":80000000.0,\"xref\":\"x\",\"y0\":0,\"y1\":1,\"yref\":\"y domain\"},{\"line\":{\"color\":\"red\",\"dash\":\"dash\",\"width\":3},\"type\":\"line\",\"x0\":0,\"x1\":1,\"xref\":\"x domain\",\"y0\":153,\"y1\":153,\"yref\":\"y\"}],\"annotations\":[{\"align\":\"left\",\"arrowcolor\":\"#636363\",\"arrowhead\":1,\"arrowsize\":1,\"arrowwidth\":2,\"ax\":-20,\"ay\":-30,\"font\":{\"color\":\"purple\",\"family\":\"Sans Serif\",\"size\":12},\"showarrow\":false,\"text\":\"LLC Size Per Node: 80M\",\"x\":\"80e6\",\"y\":280,\"yanchor\":\"bottom\"},{\"align\":\"left\",\"arrowcolor\":\"#636363\",\"arrowhead\":1,\"arrowsize\":1,\"arrowwidth\":2,\"ax\":-20,\"ay\":-30,\"font\":{\"color\":\"orange\",\"family\":\"Sans Serif\",\"size\":12},\"showarrow\":false,\"text\":\"Max Bandwidth Per Node\",\"x\":\"130e6\",\"y\":155,\"yanchor\":\"bottom\"}],\"xaxis\":{\"title\":{\"text\":\"Dirc_Data_Mov\"},\"ticks\":\"outside\"},\"yaxis\":{\"title\":{\"text\":\"Bandwidth/Node\"},\"ticks\":\"outside\"},\"title\":{\"text\":\"\\\"Node 1 vs 2 vs 4 (8mpi 4omp): Macro Fused vd NonFused (nonprobempi)\\\" Bandwidth Measurement\"}},                        {\"responsive\": true}                    ).then(function(){\n",
       "                            \n",
       "var gd = document.getElementById('3de744f7-1220-44e0-9327-5bfd17ba74f3');\n",
       "var x = new MutationObserver(function (mutations, observer) {{\n",
       "        var display = window.getComputedStyle(gd).display;\n",
       "        if (!display || display === 'none') {{\n",
       "            console.log([gd, 'removed!']);\n",
       "            Plotly.purge(gd);\n",
       "            observer.disconnect();\n",
       "        }}\n",
       "}});\n",
       "\n",
       "// Listen for the removal of the full notebook cells\n",
       "var notebookContainer = gd.closest('#notebook-container');\n",
       "if (notebookContainer) {{\n",
       "    x.observe(notebookContainer, {childList: true});\n",
       "}}\n",
       "\n",
       "// Listen for the clearing of the current output cell\n",
       "var outputEl = gd.closest('.output');\n",
       "if (outputEl) {{\n",
       "    x.observe(outputEl, {childList: true});\n",
       "}}\n",
       "\n",
       "                        })                };                });            </script>        </div>"
      ]
     },
     "metadata": {},
     "output_type": "display_data"
    }
   ],
   "source": [
    "fig = go.Figure() \n",
    "\n",
    "# Node 1\n",
    "fig.add_trace(go.Scatter(x=(dfn1MacFusNonProb_8mpi_4omp.Dirc_Data_Mov*(dfn1MacFusNonProb_8mpi_4omp.MPI_size)), \n",
    "                         y=(dfn1MacFusNonProb_8mpi_4omp.BAND*(dfn1MacFusNonProb_8mpi_4omp.MPI_size)), \n",
    "                         mode='lines+markers', \n",
    "                         name='Node1: MacFusNonProb_8mpi_4omp',\n",
    "                         line=dict(color='magenta',width=3),\n",
    "                         marker=dict(symbol='hexagon',size=9, line=dict(color='yellow',width=1))))\n",
    "\n",
    "\n",
    "fig.add_trace(go.Scatter(x=(dfn1MacNonFusNonProb_8mpi_4omp.Dirc_Data_Mov*(dfn1MacNonFusNonProb_8mpi_4omp.MPI_size)), \n",
    "                         y=(dfn1MacNonFusNonProb_8mpi_4omp.BAND*(dfn1MacNonFusNonProb_8mpi_4omp.MPI_size)), \n",
    "                         mode='lines+markers', \n",
    "                         name='Node1: MacNonFusNonProb_8mpi_4omp',\n",
    "                         line=dict(color='royalblue',width=3),\n",
    "                         marker=dict(symbol='hexagon',size=9, line=dict(color='yellow',width=1))))\n",
    "\n",
    "\n",
    "# Node 2\n",
    "fig.add_trace(go.Scatter(x=(dfn2MacFusNonProb_16mpi_4omp.Dirc_Data_Mov*(dfn2MacFusNonProb_16mpi_4omp.MPI_size/2)), \n",
    "                         y=(dfn2MacFusNonProb_16mpi_4omp.BAND*(dfn2MacFusNonProb_16mpi_4omp.MPI_size/2)), \n",
    "                         mode='lines+markers', \n",
    "                         name='Node2: MacFusNonProb_16mpi_4omp',\n",
    "                         line=dict(color='darkcyan',width=3),\n",
    "                         marker=dict(symbol='hexagon',size=9, line=dict(color='yellow',width=1))))\n",
    "\n",
    "\n",
    "fig.add_trace(go.Scatter(x=(dfn2MacNonFusNonProb_16mpi_4omp.Dirc_Data_Mov*(dfn2MacNonFusNonProb_16mpi_4omp.MPI_size/2)), \n",
    "                         y=(dfn2MacNonFusNonProb_16mpi_4omp.BAND*(dfn2MacNonFusNonProb_16mpi_4omp.MPI_size/2)), \n",
    "                         mode='lines+markers', \n",
    "                         name='Node2: MacNonFusNonProb_16mpi_4omp',\n",
    "                         line=dict(color='chocolate',width=3),\n",
    "                         marker=dict(symbol='hexagon',size=9, line=dict(color='yellow',width=1))))\n",
    "\n",
    "\n",
    "\n",
    "# Node 4\n",
    "fig.add_trace(go.Scatter(x=(dfn4MacFusNonProb_32mpi_4omp.Dirc_Data_Mov*(dfn4MacFusNonProb_32mpi_4omp.MPI_size/4)), \n",
    "                         y=(dfn4MacFusNonProb_32mpi_4omp.BAND*(dfn4MacFusNonProb_32mpi_4omp.MPI_size/4)), \n",
    "                         mode='lines+markers', \n",
    "                         name='Node4: MacFusNonProb_32mpi_4omp',\n",
    "                         line=dict(color='cyan',width=3),\n",
    "                         marker=dict(symbol='hexagon',size=9, line=dict(color='black',width=1))))\n",
    "\n",
    "fig.add_trace(go.Scatter(x=(dfn4MacNonFusNonProb_32mpi_4omp.Dirc_Data_Mov*(dfn4MacNonFusNonProb_32mpi_4omp.MPI_size/4)), \n",
    "                         y=(dfn4MacNonFusNonProb_32mpi_4omp.BAND*(dfn4MacNonFusNonProb_32mpi_4omp.MPI_size/4)), \n",
    "                         mode='lines+markers', \n",
    "                         name='Node4: MacNonFusNonProb_32mpi_4omp',\n",
    "                         line=dict(color='darkblue',width=3),\n",
    "                         marker=dict(symbol='hexagon',size=9, line=dict(color='yellow',width=1))))\n",
    "\n",
    "\n",
    "\n",
    "\n",
    "\n",
    "\n",
    "# Adding vertical and horizontal lines \n",
    "fig.add_vline(x=80e6, line_width=3, line_dash=\"dot\", line_color=\"green\")\n",
    "fig.add_hline(y=153, line_width=3, line_dash=\"dash\", line_color=\"red\")\n",
    "\n",
    "# Add annotation with arrow\n",
    "fig.add_annotation(\n",
    "    x='80e6'\n",
    "    , y=280\n",
    "    , text=f'LLC Size Per Node: 80M'\n",
    "    , yanchor='bottom'\n",
    "    , showarrow=False\n",
    "    , arrowhead=1\n",
    "    , arrowsize=1\n",
    "    , arrowwidth=2\n",
    "    , arrowcolor=\"#636363\"\n",
    "    , ax=-20\n",
    "    , ay=-30\n",
    "    , font=dict(size=12, color=\"purple\", family=\"Sans Serif\")\n",
    "    , align=\"left\"\n",
    "    ,)\n",
    "\n",
    "fig.add_annotation(\n",
    "    x='130e6'\n",
    "    , y=155\n",
    "    , text=f'Max Bandwidth Per Node'\n",
    "    , yanchor='bottom'\n",
    "    , showarrow=False\n",
    "    , arrowhead=1\n",
    "    , arrowsize=1\n",
    "    , arrowwidth=2\n",
    "    , arrowcolor=\"#636363\"\n",
    "    , ax=-20\n",
    "    , ay=-30\n",
    "    , font=dict(size=12, color=\"orange\", family=\"Sans Serif\")\n",
    "    , align=\"left\"\n",
    "    ,)\n",
    "\n",
    "\n",
    "fig.update_layout(title='\"Node 1 vs 2 vs 4 (8mpi 4omp): Macro Fused vd NonFused (nonprobempi)\" Bandwidth Measurement',\n",
    "                  xaxis_title='Dirc_Data_Mov', yaxis_title='Bandwidth/Node', \n",
    "                  xaxis=dict(ticks=\"outside\"),  \n",
    "                  yaxis=dict(ticks=\"outside\")) \n"
   ]
  },
  {
   "cell_type": "markdown",
   "id": "02de7e37",
   "metadata": {},
   "source": [
    "# 16 MPI 2 OMP PER PROCESS"
   ]
  },
  {
   "cell_type": "markdown",
   "id": "dc897925",
   "metadata": {},
   "source": [
    "## GFlops Macro Fused vs NonFused NonProbmpi: Node1 vs 2 vs 4 (16 mpi 2omp per node)"
   ]
  },
  {
   "cell_type": "code",
   "execution_count": 109,
   "id": "01009da6",
   "metadata": {},
   "outputs": [
    {
     "data": {
      "application/vnd.plotly.v1+json": {
       "config": {
        "plotlyServerURL": "https://plot.ly"
       },
       "data": [
        {
         "line": {
          "color": "red",
          "width": 3
         },
         "marker": {
          "line": {
           "color": "yellow",
           "width": 1
          },
          "size": 9,
          "symbol": "hexagon"
         },
         "mode": "lines+markers",
         "name": "Node1: MacFusNonProb_16mpi_2omp",
         "type": "scatter",
         "x": [
          100663296,
          125829120,
          150994944,
          176160768,
          201326592,
          226492416,
          251658240,
          276824064,
          301989888,
          327155712,
          352321536,
          377487360,
          402653184
         ],
         "y": [
          86.38432,
          86.4584,
          78.06032,
          72.07024,
          64.77344,
          61.65568,
          58.74576,
          53.21232,
          50.59296,
          52.83984,
          50.1192,
          47.62656,
          49.77264
         ]
        },
        {
         "line": {
          "color": "green",
          "width": 3
         },
         "marker": {
          "line": {
           "color": "yellow",
           "width": 1
          },
          "size": 9,
          "symbol": "hexagon"
         },
         "mode": "lines+markers",
         "name": "Node1: MacNonFusNonProb_16mpi_2omp",
         "type": "scatter",
         "x": [
          100663296,
          125829120,
          150994944,
          176160768,
          201326592,
          226492416,
          251658240,
          276824064,
          301989888,
          327155712,
          352321536,
          377487360,
          402653184
         ],
         "y": [
          71.49168,
          68.89552,
          68.35872,
          60.66128,
          55.48128,
          51.74608,
          48.46416,
          46.44528,
          45.00256,
          43.47056,
          43.5456,
          42.96016,
          42.17952
         ]
        },
        {
         "line": {
          "color": "magenta",
          "width": 3
         },
         "marker": {
          "line": {
           "color": "yellow",
           "width": 1
          },
          "size": 9,
          "symbol": "hexagon"
         },
         "mode": "lines+markers",
         "name": "Node2: MacFusNonProb_32mpi_2omp",
         "type": "scatter",
         "x": [
          100663296,
          125829120,
          150994944,
          176160768,
          201326592,
          226492416,
          251658240,
          276824064,
          301989888,
          327155712,
          352321536,
          377487360,
          402653184
         ],
         "y": [
          69.432,
          70.31008,
          73.71792,
          70.66336,
          63.66672,
          60.7248,
          56.90176,
          53.9312,
          52.61104,
          50.68336,
          49.59152,
          49.22496,
          47.96352
         ]
        },
        {
         "line": {
          "color": "blue",
          "width": 3
         },
         "marker": {
          "line": {
           "color": "yellow",
           "width": 1
          },
          "size": 9,
          "symbol": "hexagon"
         },
         "mode": "lines+markers",
         "name": "Node2: MacNonFusNonProb_32mpi_2omp",
         "type": "scatter",
         "x": [
          100663296,
          125829120,
          150994944,
          176160768,
          201326592,
          226492416,
          251658240,
          276824064,
          301989888,
          327155712,
          352321536,
          377487360,
          402653184
         ],
         "y": [
          60.83792,
          59.38656,
          59.45472,
          55.78048,
          55.01936,
          48.57504,
          48.1736,
          45.59088,
          44.41264,
          43.58224,
          42.8256,
          42.06112,
          41.8744
         ]
        },
        {
         "line": {
          "color": "darkblue",
          "width": 3
         },
         "marker": {
          "line": {
           "color": "purple",
           "width": 2
          },
          "size": 7,
          "symbol": "hexagon"
         },
         "mode": "lines+markers",
         "name": "Node4: MacFusnonProb_64mpi_2omp",
         "type": "scatter",
         "x": [
          100663296,
          125829120,
          150994944,
          176160768,
          201326592,
          226492416,
          251658240,
          276824064,
          301989888,
          327155712,
          352321536,
          377487360,
          402653184
         ],
         "y": [
          69.76064,
          71.0336,
          74.8272,
          64.49504,
          65.23136,
          57.78272,
          56.00208,
          51.01968,
          50.80784,
          50.56048,
          47.15792,
          44.48064,
          47.37024
         ]
        },
        {
         "line": {
          "color": "cyan",
          "width": 3
         },
         "marker": {
          "line": {
           "color": "purple",
           "width": 2
          },
          "size": 7,
          "symbol": "hexagon"
         },
         "mode": "lines+markers",
         "name": "Node4: MacNonFusNonProb_64mpi_2omp",
         "type": "scatter",
         "x": [
          100663296,
          125829120,
          150994944,
          176160768,
          201326592,
          226492416,
          251658240,
          276824064,
          301989888,
          327155712,
          352321536,
          377487360,
          402653184
         ],
         "y": [
          61.16784,
          60.57808,
          62.69792,
          56.86384,
          52.76608,
          48.55488,
          46.12784,
          44.17056,
          42.59664,
          41.52,
          41.17344,
          40.62,
          39.72432
         ]
        }
       ],
       "layout": {
        "annotations": [
         {
          "align": "left",
          "arrowcolor": "#636363",
          "arrowhead": 1,
          "arrowsize": 1,
          "arrowwidth": 2,
          "ax": -20,
          "ay": -30,
          "font": {
           "color": "purple",
           "family": "Sans Serif",
           "size": 12
          },
          "showarrow": false,
          "text": "LLC Size Per Node",
          "x": "80e6",
          "y": 130,
          "yanchor": "bottom"
         }
        ],
        "shapes": [
         {
          "line": {
           "color": "green",
           "dash": "dash",
           "width": 3
          },
          "type": "line",
          "x0": 80000000,
          "x1": 80000000,
          "xref": "x",
          "y0": 0,
          "y1": 1,
          "yref": "y domain"
         }
        ],
        "template": {
         "data": {
          "bar": [
           {
            "error_x": {
             "color": "#2a3f5f"
            },
            "error_y": {
             "color": "#2a3f5f"
            },
            "marker": {
             "line": {
              "color": "#E5ECF6",
              "width": 0.5
             },
             "pattern": {
              "fillmode": "overlay",
              "size": 10,
              "solidity": 0.2
             }
            },
            "type": "bar"
           }
          ],
          "barpolar": [
           {
            "marker": {
             "line": {
              "color": "#E5ECF6",
              "width": 0.5
             },
             "pattern": {
              "fillmode": "overlay",
              "size": 10,
              "solidity": 0.2
             }
            },
            "type": "barpolar"
           }
          ],
          "carpet": [
           {
            "aaxis": {
             "endlinecolor": "#2a3f5f",
             "gridcolor": "white",
             "linecolor": "white",
             "minorgridcolor": "white",
             "startlinecolor": "#2a3f5f"
            },
            "baxis": {
             "endlinecolor": "#2a3f5f",
             "gridcolor": "white",
             "linecolor": "white",
             "minorgridcolor": "white",
             "startlinecolor": "#2a3f5f"
            },
            "type": "carpet"
           }
          ],
          "choropleth": [
           {
            "colorbar": {
             "outlinewidth": 0,
             "ticks": ""
            },
            "type": "choropleth"
           }
          ],
          "contour": [
           {
            "colorbar": {
             "outlinewidth": 0,
             "ticks": ""
            },
            "colorscale": [
             [
              0,
              "#0d0887"
             ],
             [
              0.1111111111111111,
              "#46039f"
             ],
             [
              0.2222222222222222,
              "#7201a8"
             ],
             [
              0.3333333333333333,
              "#9c179e"
             ],
             [
              0.4444444444444444,
              "#bd3786"
             ],
             [
              0.5555555555555556,
              "#d8576b"
             ],
             [
              0.6666666666666666,
              "#ed7953"
             ],
             [
              0.7777777777777778,
              "#fb9f3a"
             ],
             [
              0.8888888888888888,
              "#fdca26"
             ],
             [
              1,
              "#f0f921"
             ]
            ],
            "type": "contour"
           }
          ],
          "contourcarpet": [
           {
            "colorbar": {
             "outlinewidth": 0,
             "ticks": ""
            },
            "type": "contourcarpet"
           }
          ],
          "heatmap": [
           {
            "colorbar": {
             "outlinewidth": 0,
             "ticks": ""
            },
            "colorscale": [
             [
              0,
              "#0d0887"
             ],
             [
              0.1111111111111111,
              "#46039f"
             ],
             [
              0.2222222222222222,
              "#7201a8"
             ],
             [
              0.3333333333333333,
              "#9c179e"
             ],
             [
              0.4444444444444444,
              "#bd3786"
             ],
             [
              0.5555555555555556,
              "#d8576b"
             ],
             [
              0.6666666666666666,
              "#ed7953"
             ],
             [
              0.7777777777777778,
              "#fb9f3a"
             ],
             [
              0.8888888888888888,
              "#fdca26"
             ],
             [
              1,
              "#f0f921"
             ]
            ],
            "type": "heatmap"
           }
          ],
          "heatmapgl": [
           {
            "colorbar": {
             "outlinewidth": 0,
             "ticks": ""
            },
            "colorscale": [
             [
              0,
              "#0d0887"
             ],
             [
              0.1111111111111111,
              "#46039f"
             ],
             [
              0.2222222222222222,
              "#7201a8"
             ],
             [
              0.3333333333333333,
              "#9c179e"
             ],
             [
              0.4444444444444444,
              "#bd3786"
             ],
             [
              0.5555555555555556,
              "#d8576b"
             ],
             [
              0.6666666666666666,
              "#ed7953"
             ],
             [
              0.7777777777777778,
              "#fb9f3a"
             ],
             [
              0.8888888888888888,
              "#fdca26"
             ],
             [
              1,
              "#f0f921"
             ]
            ],
            "type": "heatmapgl"
           }
          ],
          "histogram": [
           {
            "marker": {
             "pattern": {
              "fillmode": "overlay",
              "size": 10,
              "solidity": 0.2
             }
            },
            "type": "histogram"
           }
          ],
          "histogram2d": [
           {
            "colorbar": {
             "outlinewidth": 0,
             "ticks": ""
            },
            "colorscale": [
             [
              0,
              "#0d0887"
             ],
             [
              0.1111111111111111,
              "#46039f"
             ],
             [
              0.2222222222222222,
              "#7201a8"
             ],
             [
              0.3333333333333333,
              "#9c179e"
             ],
             [
              0.4444444444444444,
              "#bd3786"
             ],
             [
              0.5555555555555556,
              "#d8576b"
             ],
             [
              0.6666666666666666,
              "#ed7953"
             ],
             [
              0.7777777777777778,
              "#fb9f3a"
             ],
             [
              0.8888888888888888,
              "#fdca26"
             ],
             [
              1,
              "#f0f921"
             ]
            ],
            "type": "histogram2d"
           }
          ],
          "histogram2dcontour": [
           {
            "colorbar": {
             "outlinewidth": 0,
             "ticks": ""
            },
            "colorscale": [
             [
              0,
              "#0d0887"
             ],
             [
              0.1111111111111111,
              "#46039f"
             ],
             [
              0.2222222222222222,
              "#7201a8"
             ],
             [
              0.3333333333333333,
              "#9c179e"
             ],
             [
              0.4444444444444444,
              "#bd3786"
             ],
             [
              0.5555555555555556,
              "#d8576b"
             ],
             [
              0.6666666666666666,
              "#ed7953"
             ],
             [
              0.7777777777777778,
              "#fb9f3a"
             ],
             [
              0.8888888888888888,
              "#fdca26"
             ],
             [
              1,
              "#f0f921"
             ]
            ],
            "type": "histogram2dcontour"
           }
          ],
          "mesh3d": [
           {
            "colorbar": {
             "outlinewidth": 0,
             "ticks": ""
            },
            "type": "mesh3d"
           }
          ],
          "parcoords": [
           {
            "line": {
             "colorbar": {
              "outlinewidth": 0,
              "ticks": ""
             }
            },
            "type": "parcoords"
           }
          ],
          "pie": [
           {
            "automargin": true,
            "type": "pie"
           }
          ],
          "scatter": [
           {
            "fillpattern": {
             "fillmode": "overlay",
             "size": 10,
             "solidity": 0.2
            },
            "type": "scatter"
           }
          ],
          "scatter3d": [
           {
            "line": {
             "colorbar": {
              "outlinewidth": 0,
              "ticks": ""
             }
            },
            "marker": {
             "colorbar": {
              "outlinewidth": 0,
              "ticks": ""
             }
            },
            "type": "scatter3d"
           }
          ],
          "scattercarpet": [
           {
            "marker": {
             "colorbar": {
              "outlinewidth": 0,
              "ticks": ""
             }
            },
            "type": "scattercarpet"
           }
          ],
          "scattergeo": [
           {
            "marker": {
             "colorbar": {
              "outlinewidth": 0,
              "ticks": ""
             }
            },
            "type": "scattergeo"
           }
          ],
          "scattergl": [
           {
            "marker": {
             "colorbar": {
              "outlinewidth": 0,
              "ticks": ""
             }
            },
            "type": "scattergl"
           }
          ],
          "scattermapbox": [
           {
            "marker": {
             "colorbar": {
              "outlinewidth": 0,
              "ticks": ""
             }
            },
            "type": "scattermapbox"
           }
          ],
          "scatterpolar": [
           {
            "marker": {
             "colorbar": {
              "outlinewidth": 0,
              "ticks": ""
             }
            },
            "type": "scatterpolar"
           }
          ],
          "scatterpolargl": [
           {
            "marker": {
             "colorbar": {
              "outlinewidth": 0,
              "ticks": ""
             }
            },
            "type": "scatterpolargl"
           }
          ],
          "scatterternary": [
           {
            "marker": {
             "colorbar": {
              "outlinewidth": 0,
              "ticks": ""
             }
            },
            "type": "scatterternary"
           }
          ],
          "surface": [
           {
            "colorbar": {
             "outlinewidth": 0,
             "ticks": ""
            },
            "colorscale": [
             [
              0,
              "#0d0887"
             ],
             [
              0.1111111111111111,
              "#46039f"
             ],
             [
              0.2222222222222222,
              "#7201a8"
             ],
             [
              0.3333333333333333,
              "#9c179e"
             ],
             [
              0.4444444444444444,
              "#bd3786"
             ],
             [
              0.5555555555555556,
              "#d8576b"
             ],
             [
              0.6666666666666666,
              "#ed7953"
             ],
             [
              0.7777777777777778,
              "#fb9f3a"
             ],
             [
              0.8888888888888888,
              "#fdca26"
             ],
             [
              1,
              "#f0f921"
             ]
            ],
            "type": "surface"
           }
          ],
          "table": [
           {
            "cells": {
             "fill": {
              "color": "#EBF0F8"
             },
             "line": {
              "color": "white"
             }
            },
            "header": {
             "fill": {
              "color": "#C8D4E3"
             },
             "line": {
              "color": "white"
             }
            },
            "type": "table"
           }
          ]
         },
         "layout": {
          "annotationdefaults": {
           "arrowcolor": "#2a3f5f",
           "arrowhead": 0,
           "arrowwidth": 1
          },
          "autotypenumbers": "strict",
          "coloraxis": {
           "colorbar": {
            "outlinewidth": 0,
            "ticks": ""
           }
          },
          "colorscale": {
           "diverging": [
            [
             0,
             "#8e0152"
            ],
            [
             0.1,
             "#c51b7d"
            ],
            [
             0.2,
             "#de77ae"
            ],
            [
             0.3,
             "#f1b6da"
            ],
            [
             0.4,
             "#fde0ef"
            ],
            [
             0.5,
             "#f7f7f7"
            ],
            [
             0.6,
             "#e6f5d0"
            ],
            [
             0.7,
             "#b8e186"
            ],
            [
             0.8,
             "#7fbc41"
            ],
            [
             0.9,
             "#4d9221"
            ],
            [
             1,
             "#276419"
            ]
           ],
           "sequential": [
            [
             0,
             "#0d0887"
            ],
            [
             0.1111111111111111,
             "#46039f"
            ],
            [
             0.2222222222222222,
             "#7201a8"
            ],
            [
             0.3333333333333333,
             "#9c179e"
            ],
            [
             0.4444444444444444,
             "#bd3786"
            ],
            [
             0.5555555555555556,
             "#d8576b"
            ],
            [
             0.6666666666666666,
             "#ed7953"
            ],
            [
             0.7777777777777778,
             "#fb9f3a"
            ],
            [
             0.8888888888888888,
             "#fdca26"
            ],
            [
             1,
             "#f0f921"
            ]
           ],
           "sequentialminus": [
            [
             0,
             "#0d0887"
            ],
            [
             0.1111111111111111,
             "#46039f"
            ],
            [
             0.2222222222222222,
             "#7201a8"
            ],
            [
             0.3333333333333333,
             "#9c179e"
            ],
            [
             0.4444444444444444,
             "#bd3786"
            ],
            [
             0.5555555555555556,
             "#d8576b"
            ],
            [
             0.6666666666666666,
             "#ed7953"
            ],
            [
             0.7777777777777778,
             "#fb9f3a"
            ],
            [
             0.8888888888888888,
             "#fdca26"
            ],
            [
             1,
             "#f0f921"
            ]
           ]
          },
          "colorway": [
           "#636efa",
           "#EF553B",
           "#00cc96",
           "#ab63fa",
           "#FFA15A",
           "#19d3f3",
           "#FF6692",
           "#B6E880",
           "#FF97FF",
           "#FECB52"
          ],
          "font": {
           "color": "#2a3f5f"
          },
          "geo": {
           "bgcolor": "white",
           "lakecolor": "white",
           "landcolor": "#E5ECF6",
           "showlakes": true,
           "showland": true,
           "subunitcolor": "white"
          },
          "hoverlabel": {
           "align": "left"
          },
          "hovermode": "closest",
          "mapbox": {
           "style": "light"
          },
          "paper_bgcolor": "white",
          "plot_bgcolor": "#E5ECF6",
          "polar": {
           "angularaxis": {
            "gridcolor": "white",
            "linecolor": "white",
            "ticks": ""
           },
           "bgcolor": "#E5ECF6",
           "radialaxis": {
            "gridcolor": "white",
            "linecolor": "white",
            "ticks": ""
           }
          },
          "scene": {
           "xaxis": {
            "backgroundcolor": "#E5ECF6",
            "gridcolor": "white",
            "gridwidth": 2,
            "linecolor": "white",
            "showbackground": true,
            "ticks": "",
            "zerolinecolor": "white"
           },
           "yaxis": {
            "backgroundcolor": "#E5ECF6",
            "gridcolor": "white",
            "gridwidth": 2,
            "linecolor": "white",
            "showbackground": true,
            "ticks": "",
            "zerolinecolor": "white"
           },
           "zaxis": {
            "backgroundcolor": "#E5ECF6",
            "gridcolor": "white",
            "gridwidth": 2,
            "linecolor": "white",
            "showbackground": true,
            "ticks": "",
            "zerolinecolor": "white"
           }
          },
          "shapedefaults": {
           "line": {
            "color": "#2a3f5f"
           }
          },
          "ternary": {
           "aaxis": {
            "gridcolor": "white",
            "linecolor": "white",
            "ticks": ""
           },
           "baxis": {
            "gridcolor": "white",
            "linecolor": "white",
            "ticks": ""
           },
           "bgcolor": "#E5ECF6",
           "caxis": {
            "gridcolor": "white",
            "linecolor": "white",
            "ticks": ""
           }
          },
          "title": {
           "x": 0.05
          },
          "xaxis": {
           "automargin": true,
           "gridcolor": "white",
           "linecolor": "white",
           "ticks": "",
           "title": {
            "standoff": 15
           },
           "zerolinecolor": "white",
           "zerolinewidth": 2
          },
          "yaxis": {
           "automargin": true,
           "gridcolor": "white",
           "linecolor": "white",
           "ticks": "",
           "title": {
            "standoff": 15
           },
           "zerolinecolor": "white",
           "zerolinewidth": 2
          }
         }
        },
        "title": {
         "text": "\"Node 1 vs 2 vs 4 (16mpi 2omp Per Node): Macro Fused vs NonFused (nonprobempi)\" GFlops Measurement"
        },
        "xaxis": {
         "ticks": "outside",
         "title": {
          "text": "Dirc_Data_Mov"
         }
        },
        "yaxis": {
         "ticks": "outside",
         "title": {
          "text": "GFLOPs/Node"
         }
        }
       }
      },
      "text/html": [
       "<div>                            <div id=\"c4189718-3dd7-44d3-9b5f-f2c2ee21d4e4\" class=\"plotly-graph-div\" style=\"height:525px; width:100%;\"></div>            <script type=\"text/javascript\">                require([\"plotly\"], function(Plotly) {                    window.PLOTLYENV=window.PLOTLYENV || {};                                    if (document.getElementById(\"c4189718-3dd7-44d3-9b5f-f2c2ee21d4e4\")) {                    Plotly.newPlot(                        \"c4189718-3dd7-44d3-9b5f-f2c2ee21d4e4\",                        [{\"line\":{\"color\":\"red\",\"width\":3},\"marker\":{\"line\":{\"color\":\"yellow\",\"width\":1},\"size\":9,\"symbol\":\"hexagon\"},\"mode\":\"lines+markers\",\"name\":\"Node1: MacFusNonProb_16mpi_2omp\",\"x\":[100663296,125829120,150994944,176160768,201326592,226492416,251658240,276824064,301989888,327155712,352321536,377487360,402653184],\"y\":[86.38432,86.4584,78.06032,72.07024,64.77344,61.65568,58.74576,53.21232,50.59296,52.83984,50.1192,47.62656,49.77264],\"type\":\"scatter\"},{\"line\":{\"color\":\"green\",\"width\":3},\"marker\":{\"line\":{\"color\":\"yellow\",\"width\":1},\"size\":9,\"symbol\":\"hexagon\"},\"mode\":\"lines+markers\",\"name\":\"Node1: MacNonFusNonProb_16mpi_2omp\",\"x\":[100663296,125829120,150994944,176160768,201326592,226492416,251658240,276824064,301989888,327155712,352321536,377487360,402653184],\"y\":[71.49168,68.89552,68.35872,60.66128,55.48128,51.74608,48.46416,46.44528,45.00256,43.47056,43.5456,42.96016,42.17952],\"type\":\"scatter\"},{\"line\":{\"color\":\"magenta\",\"width\":3},\"marker\":{\"line\":{\"color\":\"yellow\",\"width\":1},\"size\":9,\"symbol\":\"hexagon\"},\"mode\":\"lines+markers\",\"name\":\"Node2: MacFusNonProb_32mpi_2omp\",\"x\":[100663296.0,125829120.0,150994944.0,176160768.0,201326592.0,226492416.0,251658240.0,276824064.0,301989888.0,327155712.0,352321536.0,377487360.0,402653184.0],\"y\":[69.432,70.31008,73.71792,70.66336,63.66672,60.7248,56.90176,53.9312,52.61104,50.68336,49.59152,49.22496,47.96352],\"type\":\"scatter\"},{\"line\":{\"color\":\"blue\",\"width\":3},\"marker\":{\"line\":{\"color\":\"yellow\",\"width\":1},\"size\":9,\"symbol\":\"hexagon\"},\"mode\":\"lines+markers\",\"name\":\"Node2: MacNonFusNonProb_32mpi_2omp\",\"x\":[100663296.0,125829120.0,150994944.0,176160768.0,201326592.0,226492416.0,251658240.0,276824064.0,301989888.0,327155712.0,352321536.0,377487360.0,402653184.0],\"y\":[60.83792,59.38656,59.45472,55.78048,55.01936,48.57504,48.1736,45.59088,44.41264,43.58224,42.8256,42.06112,41.8744],\"type\":\"scatter\"},{\"line\":{\"color\":\"darkblue\",\"width\":3},\"marker\":{\"line\":{\"color\":\"purple\",\"width\":2},\"size\":7,\"symbol\":\"hexagon\"},\"mode\":\"lines+markers\",\"name\":\"Node4: MacFusnonProb_64mpi_2omp\",\"x\":[100663296.0,125829120.0,150994944.0,176160768.0,201326592.0,226492416.0,251658240.0,276824064.0,301989888.0,327155712.0,352321536.0,377487360.0,402653184.0],\"y\":[69.76064,71.0336,74.8272,64.49504,65.23136,57.78272,56.00208,51.01968,50.80784,50.56048,47.15792,44.48064,47.37024],\"type\":\"scatter\"},{\"line\":{\"color\":\"cyan\",\"width\":3},\"marker\":{\"line\":{\"color\":\"purple\",\"width\":2},\"size\":7,\"symbol\":\"hexagon\"},\"mode\":\"lines+markers\",\"name\":\"Node4: MacNonFusNonProb_64mpi_2omp\",\"x\":[100663296.0,125829120.0,150994944.0,176160768.0,201326592.0,226492416.0,251658240.0,276824064.0,301989888.0,327155712.0,352321536.0,377487360.0,402653184.0],\"y\":[61.16784,60.57808,62.69792,56.86384,52.76608,48.55488,46.12784,44.17056,42.59664,41.52,41.17344,40.62,39.72432],\"type\":\"scatter\"}],                        {\"template\":{\"data\":{\"histogram2dcontour\":[{\"type\":\"histogram2dcontour\",\"colorbar\":{\"outlinewidth\":0,\"ticks\":\"\"},\"colorscale\":[[0.0,\"#0d0887\"],[0.1111111111111111,\"#46039f\"],[0.2222222222222222,\"#7201a8\"],[0.3333333333333333,\"#9c179e\"],[0.4444444444444444,\"#bd3786\"],[0.5555555555555556,\"#d8576b\"],[0.6666666666666666,\"#ed7953\"],[0.7777777777777778,\"#fb9f3a\"],[0.8888888888888888,\"#fdca26\"],[1.0,\"#f0f921\"]]}],\"choropleth\":[{\"type\":\"choropleth\",\"colorbar\":{\"outlinewidth\":0,\"ticks\":\"\"}}],\"histogram2d\":[{\"type\":\"histogram2d\",\"colorbar\":{\"outlinewidth\":0,\"ticks\":\"\"},\"colorscale\":[[0.0,\"#0d0887\"],[0.1111111111111111,\"#46039f\"],[0.2222222222222222,\"#7201a8\"],[0.3333333333333333,\"#9c179e\"],[0.4444444444444444,\"#bd3786\"],[0.5555555555555556,\"#d8576b\"],[0.6666666666666666,\"#ed7953\"],[0.7777777777777778,\"#fb9f3a\"],[0.8888888888888888,\"#fdca26\"],[1.0,\"#f0f921\"]]}],\"heatmap\":[{\"type\":\"heatmap\",\"colorbar\":{\"outlinewidth\":0,\"ticks\":\"\"},\"colorscale\":[[0.0,\"#0d0887\"],[0.1111111111111111,\"#46039f\"],[0.2222222222222222,\"#7201a8\"],[0.3333333333333333,\"#9c179e\"],[0.4444444444444444,\"#bd3786\"],[0.5555555555555556,\"#d8576b\"],[0.6666666666666666,\"#ed7953\"],[0.7777777777777778,\"#fb9f3a\"],[0.8888888888888888,\"#fdca26\"],[1.0,\"#f0f921\"]]}],\"heatmapgl\":[{\"type\":\"heatmapgl\",\"colorbar\":{\"outlinewidth\":0,\"ticks\":\"\"},\"colorscale\":[[0.0,\"#0d0887\"],[0.1111111111111111,\"#46039f\"],[0.2222222222222222,\"#7201a8\"],[0.3333333333333333,\"#9c179e\"],[0.4444444444444444,\"#bd3786\"],[0.5555555555555556,\"#d8576b\"],[0.6666666666666666,\"#ed7953\"],[0.7777777777777778,\"#fb9f3a\"],[0.8888888888888888,\"#fdca26\"],[1.0,\"#f0f921\"]]}],\"contourcarpet\":[{\"type\":\"contourcarpet\",\"colorbar\":{\"outlinewidth\":0,\"ticks\":\"\"}}],\"contour\":[{\"type\":\"contour\",\"colorbar\":{\"outlinewidth\":0,\"ticks\":\"\"},\"colorscale\":[[0.0,\"#0d0887\"],[0.1111111111111111,\"#46039f\"],[0.2222222222222222,\"#7201a8\"],[0.3333333333333333,\"#9c179e\"],[0.4444444444444444,\"#bd3786\"],[0.5555555555555556,\"#d8576b\"],[0.6666666666666666,\"#ed7953\"],[0.7777777777777778,\"#fb9f3a\"],[0.8888888888888888,\"#fdca26\"],[1.0,\"#f0f921\"]]}],\"surface\":[{\"type\":\"surface\",\"colorbar\":{\"outlinewidth\":0,\"ticks\":\"\"},\"colorscale\":[[0.0,\"#0d0887\"],[0.1111111111111111,\"#46039f\"],[0.2222222222222222,\"#7201a8\"],[0.3333333333333333,\"#9c179e\"],[0.4444444444444444,\"#bd3786\"],[0.5555555555555556,\"#d8576b\"],[0.6666666666666666,\"#ed7953\"],[0.7777777777777778,\"#fb9f3a\"],[0.8888888888888888,\"#fdca26\"],[1.0,\"#f0f921\"]]}],\"mesh3d\":[{\"type\":\"mesh3d\",\"colorbar\":{\"outlinewidth\":0,\"ticks\":\"\"}}],\"scatter\":[{\"fillpattern\":{\"fillmode\":\"overlay\",\"size\":10,\"solidity\":0.2},\"type\":\"scatter\"}],\"parcoords\":[{\"type\":\"parcoords\",\"line\":{\"colorbar\":{\"outlinewidth\":0,\"ticks\":\"\"}}}],\"scatterpolargl\":[{\"type\":\"scatterpolargl\",\"marker\":{\"colorbar\":{\"outlinewidth\":0,\"ticks\":\"\"}}}],\"bar\":[{\"error_x\":{\"color\":\"#2a3f5f\"},\"error_y\":{\"color\":\"#2a3f5f\"},\"marker\":{\"line\":{\"color\":\"#E5ECF6\",\"width\":0.5},\"pattern\":{\"fillmode\":\"overlay\",\"size\":10,\"solidity\":0.2}},\"type\":\"bar\"}],\"scattergeo\":[{\"type\":\"scattergeo\",\"marker\":{\"colorbar\":{\"outlinewidth\":0,\"ticks\":\"\"}}}],\"scatterpolar\":[{\"type\":\"scatterpolar\",\"marker\":{\"colorbar\":{\"outlinewidth\":0,\"ticks\":\"\"}}}],\"histogram\":[{\"marker\":{\"pattern\":{\"fillmode\":\"overlay\",\"size\":10,\"solidity\":0.2}},\"type\":\"histogram\"}],\"scattergl\":[{\"type\":\"scattergl\",\"marker\":{\"colorbar\":{\"outlinewidth\":0,\"ticks\":\"\"}}}],\"scatter3d\":[{\"type\":\"scatter3d\",\"line\":{\"colorbar\":{\"outlinewidth\":0,\"ticks\":\"\"}},\"marker\":{\"colorbar\":{\"outlinewidth\":0,\"ticks\":\"\"}}}],\"scattermapbox\":[{\"type\":\"scattermapbox\",\"marker\":{\"colorbar\":{\"outlinewidth\":0,\"ticks\":\"\"}}}],\"scatterternary\":[{\"type\":\"scatterternary\",\"marker\":{\"colorbar\":{\"outlinewidth\":0,\"ticks\":\"\"}}}],\"scattercarpet\":[{\"type\":\"scattercarpet\",\"marker\":{\"colorbar\":{\"outlinewidth\":0,\"ticks\":\"\"}}}],\"carpet\":[{\"aaxis\":{\"endlinecolor\":\"#2a3f5f\",\"gridcolor\":\"white\",\"linecolor\":\"white\",\"minorgridcolor\":\"white\",\"startlinecolor\":\"#2a3f5f\"},\"baxis\":{\"endlinecolor\":\"#2a3f5f\",\"gridcolor\":\"white\",\"linecolor\":\"white\",\"minorgridcolor\":\"white\",\"startlinecolor\":\"#2a3f5f\"},\"type\":\"carpet\"}],\"table\":[{\"cells\":{\"fill\":{\"color\":\"#EBF0F8\"},\"line\":{\"color\":\"white\"}},\"header\":{\"fill\":{\"color\":\"#C8D4E3\"},\"line\":{\"color\":\"white\"}},\"type\":\"table\"}],\"barpolar\":[{\"marker\":{\"line\":{\"color\":\"#E5ECF6\",\"width\":0.5},\"pattern\":{\"fillmode\":\"overlay\",\"size\":10,\"solidity\":0.2}},\"type\":\"barpolar\"}],\"pie\":[{\"automargin\":true,\"type\":\"pie\"}]},\"layout\":{\"autotypenumbers\":\"strict\",\"colorway\":[\"#636efa\",\"#EF553B\",\"#00cc96\",\"#ab63fa\",\"#FFA15A\",\"#19d3f3\",\"#FF6692\",\"#B6E880\",\"#FF97FF\",\"#FECB52\"],\"font\":{\"color\":\"#2a3f5f\"},\"hovermode\":\"closest\",\"hoverlabel\":{\"align\":\"left\"},\"paper_bgcolor\":\"white\",\"plot_bgcolor\":\"#E5ECF6\",\"polar\":{\"bgcolor\":\"#E5ECF6\",\"angularaxis\":{\"gridcolor\":\"white\",\"linecolor\":\"white\",\"ticks\":\"\"},\"radialaxis\":{\"gridcolor\":\"white\",\"linecolor\":\"white\",\"ticks\":\"\"}},\"ternary\":{\"bgcolor\":\"#E5ECF6\",\"aaxis\":{\"gridcolor\":\"white\",\"linecolor\":\"white\",\"ticks\":\"\"},\"baxis\":{\"gridcolor\":\"white\",\"linecolor\":\"white\",\"ticks\":\"\"},\"caxis\":{\"gridcolor\":\"white\",\"linecolor\":\"white\",\"ticks\":\"\"}},\"coloraxis\":{\"colorbar\":{\"outlinewidth\":0,\"ticks\":\"\"}},\"colorscale\":{\"sequential\":[[0.0,\"#0d0887\"],[0.1111111111111111,\"#46039f\"],[0.2222222222222222,\"#7201a8\"],[0.3333333333333333,\"#9c179e\"],[0.4444444444444444,\"#bd3786\"],[0.5555555555555556,\"#d8576b\"],[0.6666666666666666,\"#ed7953\"],[0.7777777777777778,\"#fb9f3a\"],[0.8888888888888888,\"#fdca26\"],[1.0,\"#f0f921\"]],\"sequentialminus\":[[0.0,\"#0d0887\"],[0.1111111111111111,\"#46039f\"],[0.2222222222222222,\"#7201a8\"],[0.3333333333333333,\"#9c179e\"],[0.4444444444444444,\"#bd3786\"],[0.5555555555555556,\"#d8576b\"],[0.6666666666666666,\"#ed7953\"],[0.7777777777777778,\"#fb9f3a\"],[0.8888888888888888,\"#fdca26\"],[1.0,\"#f0f921\"]],\"diverging\":[[0,\"#8e0152\"],[0.1,\"#c51b7d\"],[0.2,\"#de77ae\"],[0.3,\"#f1b6da\"],[0.4,\"#fde0ef\"],[0.5,\"#f7f7f7\"],[0.6,\"#e6f5d0\"],[0.7,\"#b8e186\"],[0.8,\"#7fbc41\"],[0.9,\"#4d9221\"],[1,\"#276419\"]]},\"xaxis\":{\"gridcolor\":\"white\",\"linecolor\":\"white\",\"ticks\":\"\",\"title\":{\"standoff\":15},\"zerolinecolor\":\"white\",\"automargin\":true,\"zerolinewidth\":2},\"yaxis\":{\"gridcolor\":\"white\",\"linecolor\":\"white\",\"ticks\":\"\",\"title\":{\"standoff\":15},\"zerolinecolor\":\"white\",\"automargin\":true,\"zerolinewidth\":2},\"scene\":{\"xaxis\":{\"backgroundcolor\":\"#E5ECF6\",\"gridcolor\":\"white\",\"linecolor\":\"white\",\"showbackground\":true,\"ticks\":\"\",\"zerolinecolor\":\"white\",\"gridwidth\":2},\"yaxis\":{\"backgroundcolor\":\"#E5ECF6\",\"gridcolor\":\"white\",\"linecolor\":\"white\",\"showbackground\":true,\"ticks\":\"\",\"zerolinecolor\":\"white\",\"gridwidth\":2},\"zaxis\":{\"backgroundcolor\":\"#E5ECF6\",\"gridcolor\":\"white\",\"linecolor\":\"white\",\"showbackground\":true,\"ticks\":\"\",\"zerolinecolor\":\"white\",\"gridwidth\":2}},\"shapedefaults\":{\"line\":{\"color\":\"#2a3f5f\"}},\"annotationdefaults\":{\"arrowcolor\":\"#2a3f5f\",\"arrowhead\":0,\"arrowwidth\":1},\"geo\":{\"bgcolor\":\"white\",\"landcolor\":\"#E5ECF6\",\"subunitcolor\":\"white\",\"showland\":true,\"showlakes\":true,\"lakecolor\":\"white\"},\"title\":{\"x\":0.05},\"mapbox\":{\"style\":\"light\"}}},\"shapes\":[{\"line\":{\"color\":\"green\",\"dash\":\"dash\",\"width\":3},\"type\":\"line\",\"x0\":80000000.0,\"x1\":80000000.0,\"xref\":\"x\",\"y0\":0,\"y1\":1,\"yref\":\"y domain\"}],\"annotations\":[{\"align\":\"left\",\"arrowcolor\":\"#636363\",\"arrowhead\":1,\"arrowsize\":1,\"arrowwidth\":2,\"ax\":-20,\"ay\":-30,\"font\":{\"color\":\"purple\",\"family\":\"Sans Serif\",\"size\":12},\"showarrow\":false,\"text\":\"LLC Size Per Node\",\"x\":\"80e6\",\"y\":130,\"yanchor\":\"bottom\"}],\"xaxis\":{\"title\":{\"text\":\"Dirc_Data_Mov\"},\"ticks\":\"outside\"},\"yaxis\":{\"title\":{\"text\":\"GFLOPs/Node\"},\"ticks\":\"outside\"},\"title\":{\"text\":\"\\\"Node 1 vs 2 vs 4 (16mpi 2omp Per Node): Macro Fused vs NonFused (nonprobempi)\\\" GFlops Measurement\"}},                        {\"responsive\": true}                    ).then(function(){\n",
       "                            \n",
       "var gd = document.getElementById('c4189718-3dd7-44d3-9b5f-f2c2ee21d4e4');\n",
       "var x = new MutationObserver(function (mutations, observer) {{\n",
       "        var display = window.getComputedStyle(gd).display;\n",
       "        if (!display || display === 'none') {{\n",
       "            console.log([gd, 'removed!']);\n",
       "            Plotly.purge(gd);\n",
       "            observer.disconnect();\n",
       "        }}\n",
       "}});\n",
       "\n",
       "// Listen for the removal of the full notebook cells\n",
       "var notebookContainer = gd.closest('#notebook-container');\n",
       "if (notebookContainer) {{\n",
       "    x.observe(notebookContainer, {childList: true});\n",
       "}}\n",
       "\n",
       "// Listen for the clearing of the current output cell\n",
       "var outputEl = gd.closest('.output');\n",
       "if (outputEl) {{\n",
       "    x.observe(outputEl, {childList: true});\n",
       "}}\n",
       "\n",
       "                        })                };                });            </script>        </div>"
      ]
     },
     "metadata": {},
     "output_type": "display_data"
    }
   ],
   "source": [
    "fig = go.Figure() \n",
    "\n",
    "# NODE 1\n",
    "fig.add_trace(go.Scatter(x=(dfn1MacFusNonProb_16mpi_2omp.Dirc_Data_Mov*(dfn1MacFusNonProb_16mpi_2omp.MPI_size)), \n",
    "                         y=(dfn1MacFusNonProb_16mpi_2omp.GFLOPS*(dfn1MacFusNonProb_16mpi_2omp.MPI_size)), \n",
    "                         mode='lines+markers', \n",
    "                         name='Node1: MacFusNonProb_16mpi_2omp',\n",
    "                         line=dict(color='red',width=3),\n",
    "                         marker=dict(symbol='hexagon',size=9, line=dict(color='yellow',width=1))))\n",
    "\n",
    "fig.add_trace(go.Scatter(x=(dfn1MacNonFusNonProb_16mpi_2omp.Dirc_Data_Mov*(dfn1MacNonFusNonProb_16mpi_2omp.MPI_size)), \n",
    "                         y=(dfn1MacNonFusNonProb_16mpi_2omp.GFLOPS*(dfn1MacNonFusNonProb_16mpi_2omp.MPI_size)), \n",
    "                         mode='lines+markers', \n",
    "                         name='Node1: MacNonFusNonProb_16mpi_2omp',\n",
    "                         line=dict(color='green',width=3),\n",
    "                         marker=dict(symbol='hexagon',size=9, line=dict(color='yellow',width=1))))\n",
    "\n",
    "\n",
    "# NODE 2\n",
    "fig.add_trace(go.Scatter(x=(dfn2MacFusNonProb_32mpi_2omp.Dirc_Data_Mov*(dfn2MacFusNonProb_32mpi_2omp.MPI_size/2)), \n",
    "                         y=(dfn2MacFusNonProb_32mpi_2omp.GFLOPS*(dfn2MacFusNonProb_32mpi_2omp.MPI_size/2)), \n",
    "                         mode='lines+markers', \n",
    "                         name='Node2: MacFusNonProb_32mpi_2omp',\n",
    "                         line=dict(color='magenta',width=3),\n",
    "                         marker=dict(symbol='hexagon',size=9, line=dict(color='yellow',width=1))))\n",
    "\n",
    "fig.add_trace(go.Scatter(x=(dfn2MacNonFusNonProb_32mpi_2omp.Dirc_Data_Mov*(dfn2MacNonFusNonProb_32mpi_2omp.MPI_size/2)), \n",
    "                         y=(dfn2MacNonFusNonProb_32mpi_2omp.GFLOPS*(dfn2MacNonFusNonProb_32mpi_2omp.MPI_size/2)), \n",
    "                         mode='lines+markers', \n",
    "                         name='Node2: MacNonFusNonProb_32mpi_2omp',\n",
    "                         line=dict(color='blue',width=3),\n",
    "                         marker=dict(symbol='hexagon',size=9, line=dict(color='yellow',width=1))))\n",
    "\n",
    "# NODE 4\n",
    "fig.add_trace(go.Scatter(x=(dfn4MacFusnonProb_64mpi_2omp.Dirc_Data_Mov*(dfn4MacFusnonProb_64mpi_2omp.MPI_size/4)), \n",
    "                         y=(dfn4MacFusnonProb_64mpi_2omp.GFLOPS*(dfn4MacFusnonProb_64mpi_2omp.MPI_size/4)), \n",
    "                         mode='lines+markers', \n",
    "                         name='Node4: MacFusnonProb_64mpi_2omp',\n",
    "                         line=dict(color='darkblue',width=3),\n",
    "                         marker=dict(symbol='hexagon',size=7,line=dict(color='purple',width=2))))\n",
    "\n",
    "fig.add_trace(go.Scatter(x=(dfn4MacNonFusNonProb_64mpi_2omp.Dirc_Data_Mov*(dfn4MacNonFusNonProb_64mpi_2omp.MPI_size/4)), \n",
    "                         y=(dfn4MacNonFusNonProb_64mpi_2omp.GFLOPS*(dfn4MacNonFusNonProb_64mpi_2omp.MPI_size/4)), \n",
    "                         mode='lines+markers', \n",
    "                         name='Node4: MacNonFusNonProb_64mpi_2omp',\n",
    "                         line=dict(color='cyan',width=3),\n",
    "                         marker=dict(symbol='hexagon',size=7,line=dict(color='purple',width=2))))\n",
    "\n",
    "\n",
    "# Adding a vertical line\n",
    "fig.add_vline(x=80e6, line_width=3, line_dash=\"dash\", line_color=\"green\")\n",
    "# fig.add_hline(y=1024, line_width=3, line_dash=\"dash\", line_color=\"red\")\n",
    "\n",
    "# Add annotation\n",
    "fig.add_annotation(\n",
    "    x='80e6'\n",
    "    , y=130\n",
    "    , text=f'LLC Size Per Node'\n",
    "    , yanchor='bottom'\n",
    "    , showarrow=False\n",
    "    , arrowhead=1\n",
    "    , arrowsize=1\n",
    "    , arrowwidth=2\n",
    "    , arrowcolor=\"#636363\"\n",
    "    , ax=-20\n",
    "    , ay=-30\n",
    "    , font=dict(size=12, color=\"purple\", family=\"Sans Serif\")\n",
    "    , align=\"left\"\n",
    "    ,)\n",
    "\n",
    "fig.update_layout(title='\"Node 1 vs 2 vs 4 (16mpi 2omp Per Node): Macro Fused vs NonFused (nonprobempi)\" GFlops Measurement',\n",
    "                  xaxis_title='Dirc_Data_Mov', yaxis_title='GFLOPs/Node', \n",
    "                  xaxis=dict(ticks=\"outside\"),  \n",
    "                  yaxis=dict(ticks=\"outside\"))\n"
   ]
  },
  {
   "cell_type": "markdown",
   "id": "4d4c61eb",
   "metadata": {},
   "source": [
    "## Bandwidth Macro Fused vs NonFused NonProbmpi: Node1 vs 2 vs 4 (16 mpi 2omp per node)"
   ]
  },
  {
   "cell_type": "code",
   "execution_count": 111,
   "id": "6ceb6a08",
   "metadata": {},
   "outputs": [
    {
     "data": {
      "application/vnd.plotly.v1+json": {
       "config": {
        "plotlyServerURL": "https://plot.ly"
       },
       "data": [
        {
         "line": {
          "color": "magenta",
          "width": 3
         },
         "marker": {
          "line": {
           "color": "yellow",
           "width": 1
          },
          "size": 9,
          "symbol": "hexagon"
         },
         "mode": "lines+markers",
         "name": "Node1: MacFusNonProb_16mpi_2omp",
         "type": "scatter",
         "x": [
          100663296,
          125829120,
          150994944,
          176160768,
          201326592,
          226492416,
          251658240,
          276824064,
          301989888,
          327155712,
          352321536,
          377487360,
          402653184
         ],
         "y": [
          201.04,
          201.2128,
          181.6672,
          167.7264,
          150.74528,
          143.4896,
          136.71744,
          123.83952,
          117.74368,
          122.97264,
          116.64112,
          110.84,
          115.83456
         ]
        },
        {
         "line": {
          "color": "royalblue",
          "width": 3
         },
         "marker": {
          "line": {
           "color": "yellow",
           "width": 1
          },
          "size": 9,
          "symbol": "hexagon"
         },
         "mode": "lines+markers",
         "name": "Node1: MacNonFusNonProb_16mpi_2omp",
         "type": "scatter",
         "x": [
          100663296,
          125829120,
          150994944,
          176160768,
          201326592,
          226492416,
          251658240,
          276824064,
          301989888,
          327155712,
          352321536,
          377487360,
          402653184
         ],
         "y": [
          166.3808,
          160.3392,
          159.08944,
          141.17536,
          129.12016,
          120.4272,
          112.78928,
          108.09072,
          104.73312,
          101.168,
          101.34272,
          99.98,
          98.1632
         ]
        },
        {
         "line": {
          "color": "darkcyan",
          "width": 3
         },
         "marker": {
          "line": {
           "color": "yellow",
           "width": 1
          },
          "size": 9,
          "symbol": "hexagon"
         },
         "mode": "lines+markers",
         "name": "Node2: MacFusNonProb_32mpi_2omp",
         "type": "scatter",
         "x": [
          100663296,
          125829120,
          150994944,
          176160768,
          201326592,
          226492416,
          251658240,
          276824064,
          301989888,
          327155712,
          352321536,
          377487360,
          402653184
         ],
         "y": [
          161.5872,
          163.6304,
          171.5616,
          164.4528,
          148.16992,
          141.32304,
          132.42608,
          125.51264,
          122.44032,
          117.95408,
          115.41312,
          114.56,
          111.62416
         ]
        },
        {
         "line": {
          "color": "chocolate",
          "width": 3
         },
         "marker": {
          "line": {
           "color": "yellow",
           "width": 1
          },
          "size": 9,
          "symbol": "hexagon"
         },
         "mode": "lines+markers",
         "name": "Node2: MacNonFusNonProb_32mpi_2omp",
         "type": "scatter",
         "x": [
          100663296,
          125829120,
          150994944,
          176160768,
          201326592,
          226492416,
          251658240,
          276824064,
          301989888,
          327155712,
          352321536,
          377487360,
          402653184
         ],
         "y": [
          141.58624,
          138.20864,
          138.3672,
          129.81632,
          128.04528,
          113.04752,
          112.11296,
          106.10256,
          103.36048,
          101.42768,
          99.66688,
          97.88752,
          97.45312
         ]
        },
        {
         "line": {
          "color": "cyan",
          "width": 3
         },
         "marker": {
          "line": {
           "color": "purple",
           "width": 2
          },
          "size": 7,
          "symbol": "hexagon"
         },
         "mode": "lines+markers",
         "name": "Node4: MacFusnonProb_64mpi_2omp",
         "type": "scatter",
         "x": [
          100663296,
          125829120,
          150994944,
          176160768,
          201326592,
          226492416,
          251658240,
          276824064,
          301989888,
          327155712,
          352321536,
          377487360,
          402653184
         ],
         "y": [
          162.352,
          165.3152,
          174.144,
          150.09744,
          151.81104,
          134.47616,
          130.332,
          118.7368,
          118.24384,
          117.668,
          109.74928,
          103.51856,
          110.24352
         ]
        },
        {
         "line": {
          "color": "darkblue",
          "width": 3
         },
         "marker": {
          "line": {
           "color": "purple",
           "width": 2
          },
          "size": 7,
          "symbol": "hexagon"
         },
         "mode": "lines+markers",
         "name": "Node4: MacNonFusNonProb_64mpi_2omp",
         "type": "scatter",
         "x": [
          100663296,
          125829120,
          150994944,
          176160768,
          201326592,
          226492416,
          251658240,
          276824064,
          301989888,
          327155712,
          352321536,
          377487360,
          402653184
         ],
         "y": [
          142.3544,
          140.98192,
          145.91504,
          132.33776,
          122.80096,
          113.00032,
          107.352,
          102.79696,
          99.13408,
          96.62848,
          95.82192,
          94.53376,
          92.44944
         ]
        }
       ],
       "layout": {
        "annotations": [
         {
          "align": "left",
          "arrowcolor": "#636363",
          "arrowhead": 1,
          "arrowsize": 1,
          "arrowwidth": 2,
          "ax": -20,
          "ay": -30,
          "font": {
           "color": "purple",
           "family": "Sans Serif",
           "size": 12
          },
          "showarrow": false,
          "text": "LLC Size Per Node: 80M",
          "x": "80e6",
          "y": 280,
          "yanchor": "bottom"
         },
         {
          "align": "left",
          "arrowcolor": "#636363",
          "arrowhead": 1,
          "arrowsize": 1,
          "arrowwidth": 2,
          "ax": -20,
          "ay": -30,
          "font": {
           "color": "orange",
           "family": "Sans Serif",
           "size": 12
          },
          "showarrow": false,
          "text": "Max Bandwidth Per Node",
          "x": "130e6",
          "y": 155,
          "yanchor": "bottom"
         }
        ],
        "shapes": [
         {
          "line": {
           "color": "green",
           "dash": "dot",
           "width": 3
          },
          "type": "line",
          "x0": 80000000,
          "x1": 80000000,
          "xref": "x",
          "y0": 0,
          "y1": 1,
          "yref": "y domain"
         },
         {
          "line": {
           "color": "red",
           "dash": "dash",
           "width": 3
          },
          "type": "line",
          "x0": 0,
          "x1": 1,
          "xref": "x domain",
          "y0": 153,
          "y1": 153,
          "yref": "y"
         }
        ],
        "template": {
         "data": {
          "bar": [
           {
            "error_x": {
             "color": "#2a3f5f"
            },
            "error_y": {
             "color": "#2a3f5f"
            },
            "marker": {
             "line": {
              "color": "#E5ECF6",
              "width": 0.5
             },
             "pattern": {
              "fillmode": "overlay",
              "size": 10,
              "solidity": 0.2
             }
            },
            "type": "bar"
           }
          ],
          "barpolar": [
           {
            "marker": {
             "line": {
              "color": "#E5ECF6",
              "width": 0.5
             },
             "pattern": {
              "fillmode": "overlay",
              "size": 10,
              "solidity": 0.2
             }
            },
            "type": "barpolar"
           }
          ],
          "carpet": [
           {
            "aaxis": {
             "endlinecolor": "#2a3f5f",
             "gridcolor": "white",
             "linecolor": "white",
             "minorgridcolor": "white",
             "startlinecolor": "#2a3f5f"
            },
            "baxis": {
             "endlinecolor": "#2a3f5f",
             "gridcolor": "white",
             "linecolor": "white",
             "minorgridcolor": "white",
             "startlinecolor": "#2a3f5f"
            },
            "type": "carpet"
           }
          ],
          "choropleth": [
           {
            "colorbar": {
             "outlinewidth": 0,
             "ticks": ""
            },
            "type": "choropleth"
           }
          ],
          "contour": [
           {
            "colorbar": {
             "outlinewidth": 0,
             "ticks": ""
            },
            "colorscale": [
             [
              0,
              "#0d0887"
             ],
             [
              0.1111111111111111,
              "#46039f"
             ],
             [
              0.2222222222222222,
              "#7201a8"
             ],
             [
              0.3333333333333333,
              "#9c179e"
             ],
             [
              0.4444444444444444,
              "#bd3786"
             ],
             [
              0.5555555555555556,
              "#d8576b"
             ],
             [
              0.6666666666666666,
              "#ed7953"
             ],
             [
              0.7777777777777778,
              "#fb9f3a"
             ],
             [
              0.8888888888888888,
              "#fdca26"
             ],
             [
              1,
              "#f0f921"
             ]
            ],
            "type": "contour"
           }
          ],
          "contourcarpet": [
           {
            "colorbar": {
             "outlinewidth": 0,
             "ticks": ""
            },
            "type": "contourcarpet"
           }
          ],
          "heatmap": [
           {
            "colorbar": {
             "outlinewidth": 0,
             "ticks": ""
            },
            "colorscale": [
             [
              0,
              "#0d0887"
             ],
             [
              0.1111111111111111,
              "#46039f"
             ],
             [
              0.2222222222222222,
              "#7201a8"
             ],
             [
              0.3333333333333333,
              "#9c179e"
             ],
             [
              0.4444444444444444,
              "#bd3786"
             ],
             [
              0.5555555555555556,
              "#d8576b"
             ],
             [
              0.6666666666666666,
              "#ed7953"
             ],
             [
              0.7777777777777778,
              "#fb9f3a"
             ],
             [
              0.8888888888888888,
              "#fdca26"
             ],
             [
              1,
              "#f0f921"
             ]
            ],
            "type": "heatmap"
           }
          ],
          "heatmapgl": [
           {
            "colorbar": {
             "outlinewidth": 0,
             "ticks": ""
            },
            "colorscale": [
             [
              0,
              "#0d0887"
             ],
             [
              0.1111111111111111,
              "#46039f"
             ],
             [
              0.2222222222222222,
              "#7201a8"
             ],
             [
              0.3333333333333333,
              "#9c179e"
             ],
             [
              0.4444444444444444,
              "#bd3786"
             ],
             [
              0.5555555555555556,
              "#d8576b"
             ],
             [
              0.6666666666666666,
              "#ed7953"
             ],
             [
              0.7777777777777778,
              "#fb9f3a"
             ],
             [
              0.8888888888888888,
              "#fdca26"
             ],
             [
              1,
              "#f0f921"
             ]
            ],
            "type": "heatmapgl"
           }
          ],
          "histogram": [
           {
            "marker": {
             "pattern": {
              "fillmode": "overlay",
              "size": 10,
              "solidity": 0.2
             }
            },
            "type": "histogram"
           }
          ],
          "histogram2d": [
           {
            "colorbar": {
             "outlinewidth": 0,
             "ticks": ""
            },
            "colorscale": [
             [
              0,
              "#0d0887"
             ],
             [
              0.1111111111111111,
              "#46039f"
             ],
             [
              0.2222222222222222,
              "#7201a8"
             ],
             [
              0.3333333333333333,
              "#9c179e"
             ],
             [
              0.4444444444444444,
              "#bd3786"
             ],
             [
              0.5555555555555556,
              "#d8576b"
             ],
             [
              0.6666666666666666,
              "#ed7953"
             ],
             [
              0.7777777777777778,
              "#fb9f3a"
             ],
             [
              0.8888888888888888,
              "#fdca26"
             ],
             [
              1,
              "#f0f921"
             ]
            ],
            "type": "histogram2d"
           }
          ],
          "histogram2dcontour": [
           {
            "colorbar": {
             "outlinewidth": 0,
             "ticks": ""
            },
            "colorscale": [
             [
              0,
              "#0d0887"
             ],
             [
              0.1111111111111111,
              "#46039f"
             ],
             [
              0.2222222222222222,
              "#7201a8"
             ],
             [
              0.3333333333333333,
              "#9c179e"
             ],
             [
              0.4444444444444444,
              "#bd3786"
             ],
             [
              0.5555555555555556,
              "#d8576b"
             ],
             [
              0.6666666666666666,
              "#ed7953"
             ],
             [
              0.7777777777777778,
              "#fb9f3a"
             ],
             [
              0.8888888888888888,
              "#fdca26"
             ],
             [
              1,
              "#f0f921"
             ]
            ],
            "type": "histogram2dcontour"
           }
          ],
          "mesh3d": [
           {
            "colorbar": {
             "outlinewidth": 0,
             "ticks": ""
            },
            "type": "mesh3d"
           }
          ],
          "parcoords": [
           {
            "line": {
             "colorbar": {
              "outlinewidth": 0,
              "ticks": ""
             }
            },
            "type": "parcoords"
           }
          ],
          "pie": [
           {
            "automargin": true,
            "type": "pie"
           }
          ],
          "scatter": [
           {
            "fillpattern": {
             "fillmode": "overlay",
             "size": 10,
             "solidity": 0.2
            },
            "type": "scatter"
           }
          ],
          "scatter3d": [
           {
            "line": {
             "colorbar": {
              "outlinewidth": 0,
              "ticks": ""
             }
            },
            "marker": {
             "colorbar": {
              "outlinewidth": 0,
              "ticks": ""
             }
            },
            "type": "scatter3d"
           }
          ],
          "scattercarpet": [
           {
            "marker": {
             "colorbar": {
              "outlinewidth": 0,
              "ticks": ""
             }
            },
            "type": "scattercarpet"
           }
          ],
          "scattergeo": [
           {
            "marker": {
             "colorbar": {
              "outlinewidth": 0,
              "ticks": ""
             }
            },
            "type": "scattergeo"
           }
          ],
          "scattergl": [
           {
            "marker": {
             "colorbar": {
              "outlinewidth": 0,
              "ticks": ""
             }
            },
            "type": "scattergl"
           }
          ],
          "scattermapbox": [
           {
            "marker": {
             "colorbar": {
              "outlinewidth": 0,
              "ticks": ""
             }
            },
            "type": "scattermapbox"
           }
          ],
          "scatterpolar": [
           {
            "marker": {
             "colorbar": {
              "outlinewidth": 0,
              "ticks": ""
             }
            },
            "type": "scatterpolar"
           }
          ],
          "scatterpolargl": [
           {
            "marker": {
             "colorbar": {
              "outlinewidth": 0,
              "ticks": ""
             }
            },
            "type": "scatterpolargl"
           }
          ],
          "scatterternary": [
           {
            "marker": {
             "colorbar": {
              "outlinewidth": 0,
              "ticks": ""
             }
            },
            "type": "scatterternary"
           }
          ],
          "surface": [
           {
            "colorbar": {
             "outlinewidth": 0,
             "ticks": ""
            },
            "colorscale": [
             [
              0,
              "#0d0887"
             ],
             [
              0.1111111111111111,
              "#46039f"
             ],
             [
              0.2222222222222222,
              "#7201a8"
             ],
             [
              0.3333333333333333,
              "#9c179e"
             ],
             [
              0.4444444444444444,
              "#bd3786"
             ],
             [
              0.5555555555555556,
              "#d8576b"
             ],
             [
              0.6666666666666666,
              "#ed7953"
             ],
             [
              0.7777777777777778,
              "#fb9f3a"
             ],
             [
              0.8888888888888888,
              "#fdca26"
             ],
             [
              1,
              "#f0f921"
             ]
            ],
            "type": "surface"
           }
          ],
          "table": [
           {
            "cells": {
             "fill": {
              "color": "#EBF0F8"
             },
             "line": {
              "color": "white"
             }
            },
            "header": {
             "fill": {
              "color": "#C8D4E3"
             },
             "line": {
              "color": "white"
             }
            },
            "type": "table"
           }
          ]
         },
         "layout": {
          "annotationdefaults": {
           "arrowcolor": "#2a3f5f",
           "arrowhead": 0,
           "arrowwidth": 1
          },
          "autotypenumbers": "strict",
          "coloraxis": {
           "colorbar": {
            "outlinewidth": 0,
            "ticks": ""
           }
          },
          "colorscale": {
           "diverging": [
            [
             0,
             "#8e0152"
            ],
            [
             0.1,
             "#c51b7d"
            ],
            [
             0.2,
             "#de77ae"
            ],
            [
             0.3,
             "#f1b6da"
            ],
            [
             0.4,
             "#fde0ef"
            ],
            [
             0.5,
             "#f7f7f7"
            ],
            [
             0.6,
             "#e6f5d0"
            ],
            [
             0.7,
             "#b8e186"
            ],
            [
             0.8,
             "#7fbc41"
            ],
            [
             0.9,
             "#4d9221"
            ],
            [
             1,
             "#276419"
            ]
           ],
           "sequential": [
            [
             0,
             "#0d0887"
            ],
            [
             0.1111111111111111,
             "#46039f"
            ],
            [
             0.2222222222222222,
             "#7201a8"
            ],
            [
             0.3333333333333333,
             "#9c179e"
            ],
            [
             0.4444444444444444,
             "#bd3786"
            ],
            [
             0.5555555555555556,
             "#d8576b"
            ],
            [
             0.6666666666666666,
             "#ed7953"
            ],
            [
             0.7777777777777778,
             "#fb9f3a"
            ],
            [
             0.8888888888888888,
             "#fdca26"
            ],
            [
             1,
             "#f0f921"
            ]
           ],
           "sequentialminus": [
            [
             0,
             "#0d0887"
            ],
            [
             0.1111111111111111,
             "#46039f"
            ],
            [
             0.2222222222222222,
             "#7201a8"
            ],
            [
             0.3333333333333333,
             "#9c179e"
            ],
            [
             0.4444444444444444,
             "#bd3786"
            ],
            [
             0.5555555555555556,
             "#d8576b"
            ],
            [
             0.6666666666666666,
             "#ed7953"
            ],
            [
             0.7777777777777778,
             "#fb9f3a"
            ],
            [
             0.8888888888888888,
             "#fdca26"
            ],
            [
             1,
             "#f0f921"
            ]
           ]
          },
          "colorway": [
           "#636efa",
           "#EF553B",
           "#00cc96",
           "#ab63fa",
           "#FFA15A",
           "#19d3f3",
           "#FF6692",
           "#B6E880",
           "#FF97FF",
           "#FECB52"
          ],
          "font": {
           "color": "#2a3f5f"
          },
          "geo": {
           "bgcolor": "white",
           "lakecolor": "white",
           "landcolor": "#E5ECF6",
           "showlakes": true,
           "showland": true,
           "subunitcolor": "white"
          },
          "hoverlabel": {
           "align": "left"
          },
          "hovermode": "closest",
          "mapbox": {
           "style": "light"
          },
          "paper_bgcolor": "white",
          "plot_bgcolor": "#E5ECF6",
          "polar": {
           "angularaxis": {
            "gridcolor": "white",
            "linecolor": "white",
            "ticks": ""
           },
           "bgcolor": "#E5ECF6",
           "radialaxis": {
            "gridcolor": "white",
            "linecolor": "white",
            "ticks": ""
           }
          },
          "scene": {
           "xaxis": {
            "backgroundcolor": "#E5ECF6",
            "gridcolor": "white",
            "gridwidth": 2,
            "linecolor": "white",
            "showbackground": true,
            "ticks": "",
            "zerolinecolor": "white"
           },
           "yaxis": {
            "backgroundcolor": "#E5ECF6",
            "gridcolor": "white",
            "gridwidth": 2,
            "linecolor": "white",
            "showbackground": true,
            "ticks": "",
            "zerolinecolor": "white"
           },
           "zaxis": {
            "backgroundcolor": "#E5ECF6",
            "gridcolor": "white",
            "gridwidth": 2,
            "linecolor": "white",
            "showbackground": true,
            "ticks": "",
            "zerolinecolor": "white"
           }
          },
          "shapedefaults": {
           "line": {
            "color": "#2a3f5f"
           }
          },
          "ternary": {
           "aaxis": {
            "gridcolor": "white",
            "linecolor": "white",
            "ticks": ""
           },
           "baxis": {
            "gridcolor": "white",
            "linecolor": "white",
            "ticks": ""
           },
           "bgcolor": "#E5ECF6",
           "caxis": {
            "gridcolor": "white",
            "linecolor": "white",
            "ticks": ""
           }
          },
          "title": {
           "x": 0.05
          },
          "xaxis": {
           "automargin": true,
           "gridcolor": "white",
           "linecolor": "white",
           "ticks": "",
           "title": {
            "standoff": 15
           },
           "zerolinecolor": "white",
           "zerolinewidth": 2
          },
          "yaxis": {
           "automargin": true,
           "gridcolor": "white",
           "linecolor": "white",
           "ticks": "",
           "title": {
            "standoff": 15
           },
           "zerolinecolor": "white",
           "zerolinewidth": 2
          }
         }
        },
        "title": {
         "text": "\"Node 1 vs 2 vs 4 (16MPI 2OMP Per Node): Macro Fused (nonprobempi)\" Bandwidth Measurement"
        },
        "xaxis": {
         "ticks": "outside",
         "title": {
          "text": "Dirc_Data_Mov"
         }
        },
        "yaxis": {
         "ticks": "outside",
         "title": {
          "text": "Bandwidth/Node"
         }
        }
       }
      },
      "text/html": [
       "<div>                            <div id=\"9da9bb98-25db-4926-a985-6cee09b7b0f6\" class=\"plotly-graph-div\" style=\"height:525px; width:100%;\"></div>            <script type=\"text/javascript\">                require([\"plotly\"], function(Plotly) {                    window.PLOTLYENV=window.PLOTLYENV || {};                                    if (document.getElementById(\"9da9bb98-25db-4926-a985-6cee09b7b0f6\")) {                    Plotly.newPlot(                        \"9da9bb98-25db-4926-a985-6cee09b7b0f6\",                        [{\"line\":{\"color\":\"magenta\",\"width\":3},\"marker\":{\"line\":{\"color\":\"yellow\",\"width\":1},\"size\":9,\"symbol\":\"hexagon\"},\"mode\":\"lines+markers\",\"name\":\"Node1: MacFusNonProb_16mpi_2omp\",\"x\":[100663296,125829120,150994944,176160768,201326592,226492416,251658240,276824064,301989888,327155712,352321536,377487360,402653184],\"y\":[201.04,201.2128,181.6672,167.7264,150.74528,143.4896,136.71744,123.83952,117.74368,122.97264,116.64112,110.84,115.83456],\"type\":\"scatter\"},{\"line\":{\"color\":\"royalblue\",\"width\":3},\"marker\":{\"line\":{\"color\":\"yellow\",\"width\":1},\"size\":9,\"symbol\":\"hexagon\"},\"mode\":\"lines+markers\",\"name\":\"Node1: MacNonFusNonProb_16mpi_2omp\",\"x\":[100663296,125829120,150994944,176160768,201326592,226492416,251658240,276824064,301989888,327155712,352321536,377487360,402653184],\"y\":[166.3808,160.3392,159.08944,141.17536,129.12016,120.4272,112.78928,108.09072,104.73312,101.168,101.34272,99.98,98.1632],\"type\":\"scatter\"},{\"line\":{\"color\":\"darkcyan\",\"width\":3},\"marker\":{\"line\":{\"color\":\"yellow\",\"width\":1},\"size\":9,\"symbol\":\"hexagon\"},\"mode\":\"lines+markers\",\"name\":\"Node2: MacFusNonProb_32mpi_2omp\",\"x\":[100663296.0,125829120.0,150994944.0,176160768.0,201326592.0,226492416.0,251658240.0,276824064.0,301989888.0,327155712.0,352321536.0,377487360.0,402653184.0],\"y\":[161.5872,163.6304,171.5616,164.4528,148.16992,141.32304,132.42608,125.51264,122.44032,117.95408,115.41312,114.56,111.62416],\"type\":\"scatter\"},{\"line\":{\"color\":\"chocolate\",\"width\":3},\"marker\":{\"line\":{\"color\":\"yellow\",\"width\":1},\"size\":9,\"symbol\":\"hexagon\"},\"mode\":\"lines+markers\",\"name\":\"Node2: MacNonFusNonProb_32mpi_2omp\",\"x\":[100663296.0,125829120.0,150994944.0,176160768.0,201326592.0,226492416.0,251658240.0,276824064.0,301989888.0,327155712.0,352321536.0,377487360.0,402653184.0],\"y\":[141.58624,138.20864,138.3672,129.81632,128.04528,113.04752,112.11296,106.10256,103.36048,101.42768,99.66688,97.88752,97.45312],\"type\":\"scatter\"},{\"line\":{\"color\":\"cyan\",\"width\":3},\"marker\":{\"line\":{\"color\":\"purple\",\"width\":2},\"size\":7,\"symbol\":\"hexagon\"},\"mode\":\"lines+markers\",\"name\":\"Node4: MacFusnonProb_64mpi_2omp\",\"x\":[100663296.0,125829120.0,150994944.0,176160768.0,201326592.0,226492416.0,251658240.0,276824064.0,301989888.0,327155712.0,352321536.0,377487360.0,402653184.0],\"y\":[162.352,165.3152,174.144,150.09744,151.81104,134.47616,130.332,118.7368,118.24384,117.668,109.74928,103.51856,110.24352],\"type\":\"scatter\"},{\"line\":{\"color\":\"darkblue\",\"width\":3},\"marker\":{\"line\":{\"color\":\"purple\",\"width\":2},\"size\":7,\"symbol\":\"hexagon\"},\"mode\":\"lines+markers\",\"name\":\"Node4: MacNonFusNonProb_64mpi_2omp\",\"x\":[100663296.0,125829120.0,150994944.0,176160768.0,201326592.0,226492416.0,251658240.0,276824064.0,301989888.0,327155712.0,352321536.0,377487360.0,402653184.0],\"y\":[142.3544,140.98192,145.91504,132.33776,122.80096,113.00032,107.352,102.79696,99.13408,96.62848,95.82192,94.53376,92.44944],\"type\":\"scatter\"}],                        {\"template\":{\"data\":{\"histogram2dcontour\":[{\"type\":\"histogram2dcontour\",\"colorbar\":{\"outlinewidth\":0,\"ticks\":\"\"},\"colorscale\":[[0.0,\"#0d0887\"],[0.1111111111111111,\"#46039f\"],[0.2222222222222222,\"#7201a8\"],[0.3333333333333333,\"#9c179e\"],[0.4444444444444444,\"#bd3786\"],[0.5555555555555556,\"#d8576b\"],[0.6666666666666666,\"#ed7953\"],[0.7777777777777778,\"#fb9f3a\"],[0.8888888888888888,\"#fdca26\"],[1.0,\"#f0f921\"]]}],\"choropleth\":[{\"type\":\"choropleth\",\"colorbar\":{\"outlinewidth\":0,\"ticks\":\"\"}}],\"histogram2d\":[{\"type\":\"histogram2d\",\"colorbar\":{\"outlinewidth\":0,\"ticks\":\"\"},\"colorscale\":[[0.0,\"#0d0887\"],[0.1111111111111111,\"#46039f\"],[0.2222222222222222,\"#7201a8\"],[0.3333333333333333,\"#9c179e\"],[0.4444444444444444,\"#bd3786\"],[0.5555555555555556,\"#d8576b\"],[0.6666666666666666,\"#ed7953\"],[0.7777777777777778,\"#fb9f3a\"],[0.8888888888888888,\"#fdca26\"],[1.0,\"#f0f921\"]]}],\"heatmap\":[{\"type\":\"heatmap\",\"colorbar\":{\"outlinewidth\":0,\"ticks\":\"\"},\"colorscale\":[[0.0,\"#0d0887\"],[0.1111111111111111,\"#46039f\"],[0.2222222222222222,\"#7201a8\"],[0.3333333333333333,\"#9c179e\"],[0.4444444444444444,\"#bd3786\"],[0.5555555555555556,\"#d8576b\"],[0.6666666666666666,\"#ed7953\"],[0.7777777777777778,\"#fb9f3a\"],[0.8888888888888888,\"#fdca26\"],[1.0,\"#f0f921\"]]}],\"heatmapgl\":[{\"type\":\"heatmapgl\",\"colorbar\":{\"outlinewidth\":0,\"ticks\":\"\"},\"colorscale\":[[0.0,\"#0d0887\"],[0.1111111111111111,\"#46039f\"],[0.2222222222222222,\"#7201a8\"],[0.3333333333333333,\"#9c179e\"],[0.4444444444444444,\"#bd3786\"],[0.5555555555555556,\"#d8576b\"],[0.6666666666666666,\"#ed7953\"],[0.7777777777777778,\"#fb9f3a\"],[0.8888888888888888,\"#fdca26\"],[1.0,\"#f0f921\"]]}],\"contourcarpet\":[{\"type\":\"contourcarpet\",\"colorbar\":{\"outlinewidth\":0,\"ticks\":\"\"}}],\"contour\":[{\"type\":\"contour\",\"colorbar\":{\"outlinewidth\":0,\"ticks\":\"\"},\"colorscale\":[[0.0,\"#0d0887\"],[0.1111111111111111,\"#46039f\"],[0.2222222222222222,\"#7201a8\"],[0.3333333333333333,\"#9c179e\"],[0.4444444444444444,\"#bd3786\"],[0.5555555555555556,\"#d8576b\"],[0.6666666666666666,\"#ed7953\"],[0.7777777777777778,\"#fb9f3a\"],[0.8888888888888888,\"#fdca26\"],[1.0,\"#f0f921\"]]}],\"surface\":[{\"type\":\"surface\",\"colorbar\":{\"outlinewidth\":0,\"ticks\":\"\"},\"colorscale\":[[0.0,\"#0d0887\"],[0.1111111111111111,\"#46039f\"],[0.2222222222222222,\"#7201a8\"],[0.3333333333333333,\"#9c179e\"],[0.4444444444444444,\"#bd3786\"],[0.5555555555555556,\"#d8576b\"],[0.6666666666666666,\"#ed7953\"],[0.7777777777777778,\"#fb9f3a\"],[0.8888888888888888,\"#fdca26\"],[1.0,\"#f0f921\"]]}],\"mesh3d\":[{\"type\":\"mesh3d\",\"colorbar\":{\"outlinewidth\":0,\"ticks\":\"\"}}],\"scatter\":[{\"fillpattern\":{\"fillmode\":\"overlay\",\"size\":10,\"solidity\":0.2},\"type\":\"scatter\"}],\"parcoords\":[{\"type\":\"parcoords\",\"line\":{\"colorbar\":{\"outlinewidth\":0,\"ticks\":\"\"}}}],\"scatterpolargl\":[{\"type\":\"scatterpolargl\",\"marker\":{\"colorbar\":{\"outlinewidth\":0,\"ticks\":\"\"}}}],\"bar\":[{\"error_x\":{\"color\":\"#2a3f5f\"},\"error_y\":{\"color\":\"#2a3f5f\"},\"marker\":{\"line\":{\"color\":\"#E5ECF6\",\"width\":0.5},\"pattern\":{\"fillmode\":\"overlay\",\"size\":10,\"solidity\":0.2}},\"type\":\"bar\"}],\"scattergeo\":[{\"type\":\"scattergeo\",\"marker\":{\"colorbar\":{\"outlinewidth\":0,\"ticks\":\"\"}}}],\"scatterpolar\":[{\"type\":\"scatterpolar\",\"marker\":{\"colorbar\":{\"outlinewidth\":0,\"ticks\":\"\"}}}],\"histogram\":[{\"marker\":{\"pattern\":{\"fillmode\":\"overlay\",\"size\":10,\"solidity\":0.2}},\"type\":\"histogram\"}],\"scattergl\":[{\"type\":\"scattergl\",\"marker\":{\"colorbar\":{\"outlinewidth\":0,\"ticks\":\"\"}}}],\"scatter3d\":[{\"type\":\"scatter3d\",\"line\":{\"colorbar\":{\"outlinewidth\":0,\"ticks\":\"\"}},\"marker\":{\"colorbar\":{\"outlinewidth\":0,\"ticks\":\"\"}}}],\"scattermapbox\":[{\"type\":\"scattermapbox\",\"marker\":{\"colorbar\":{\"outlinewidth\":0,\"ticks\":\"\"}}}],\"scatterternary\":[{\"type\":\"scatterternary\",\"marker\":{\"colorbar\":{\"outlinewidth\":0,\"ticks\":\"\"}}}],\"scattercarpet\":[{\"type\":\"scattercarpet\",\"marker\":{\"colorbar\":{\"outlinewidth\":0,\"ticks\":\"\"}}}],\"carpet\":[{\"aaxis\":{\"endlinecolor\":\"#2a3f5f\",\"gridcolor\":\"white\",\"linecolor\":\"white\",\"minorgridcolor\":\"white\",\"startlinecolor\":\"#2a3f5f\"},\"baxis\":{\"endlinecolor\":\"#2a3f5f\",\"gridcolor\":\"white\",\"linecolor\":\"white\",\"minorgridcolor\":\"white\",\"startlinecolor\":\"#2a3f5f\"},\"type\":\"carpet\"}],\"table\":[{\"cells\":{\"fill\":{\"color\":\"#EBF0F8\"},\"line\":{\"color\":\"white\"}},\"header\":{\"fill\":{\"color\":\"#C8D4E3\"},\"line\":{\"color\":\"white\"}},\"type\":\"table\"}],\"barpolar\":[{\"marker\":{\"line\":{\"color\":\"#E5ECF6\",\"width\":0.5},\"pattern\":{\"fillmode\":\"overlay\",\"size\":10,\"solidity\":0.2}},\"type\":\"barpolar\"}],\"pie\":[{\"automargin\":true,\"type\":\"pie\"}]},\"layout\":{\"autotypenumbers\":\"strict\",\"colorway\":[\"#636efa\",\"#EF553B\",\"#00cc96\",\"#ab63fa\",\"#FFA15A\",\"#19d3f3\",\"#FF6692\",\"#B6E880\",\"#FF97FF\",\"#FECB52\"],\"font\":{\"color\":\"#2a3f5f\"},\"hovermode\":\"closest\",\"hoverlabel\":{\"align\":\"left\"},\"paper_bgcolor\":\"white\",\"plot_bgcolor\":\"#E5ECF6\",\"polar\":{\"bgcolor\":\"#E5ECF6\",\"angularaxis\":{\"gridcolor\":\"white\",\"linecolor\":\"white\",\"ticks\":\"\"},\"radialaxis\":{\"gridcolor\":\"white\",\"linecolor\":\"white\",\"ticks\":\"\"}},\"ternary\":{\"bgcolor\":\"#E5ECF6\",\"aaxis\":{\"gridcolor\":\"white\",\"linecolor\":\"white\",\"ticks\":\"\"},\"baxis\":{\"gridcolor\":\"white\",\"linecolor\":\"white\",\"ticks\":\"\"},\"caxis\":{\"gridcolor\":\"white\",\"linecolor\":\"white\",\"ticks\":\"\"}},\"coloraxis\":{\"colorbar\":{\"outlinewidth\":0,\"ticks\":\"\"}},\"colorscale\":{\"sequential\":[[0.0,\"#0d0887\"],[0.1111111111111111,\"#46039f\"],[0.2222222222222222,\"#7201a8\"],[0.3333333333333333,\"#9c179e\"],[0.4444444444444444,\"#bd3786\"],[0.5555555555555556,\"#d8576b\"],[0.6666666666666666,\"#ed7953\"],[0.7777777777777778,\"#fb9f3a\"],[0.8888888888888888,\"#fdca26\"],[1.0,\"#f0f921\"]],\"sequentialminus\":[[0.0,\"#0d0887\"],[0.1111111111111111,\"#46039f\"],[0.2222222222222222,\"#7201a8\"],[0.3333333333333333,\"#9c179e\"],[0.4444444444444444,\"#bd3786\"],[0.5555555555555556,\"#d8576b\"],[0.6666666666666666,\"#ed7953\"],[0.7777777777777778,\"#fb9f3a\"],[0.8888888888888888,\"#fdca26\"],[1.0,\"#f0f921\"]],\"diverging\":[[0,\"#8e0152\"],[0.1,\"#c51b7d\"],[0.2,\"#de77ae\"],[0.3,\"#f1b6da\"],[0.4,\"#fde0ef\"],[0.5,\"#f7f7f7\"],[0.6,\"#e6f5d0\"],[0.7,\"#b8e186\"],[0.8,\"#7fbc41\"],[0.9,\"#4d9221\"],[1,\"#276419\"]]},\"xaxis\":{\"gridcolor\":\"white\",\"linecolor\":\"white\",\"ticks\":\"\",\"title\":{\"standoff\":15},\"zerolinecolor\":\"white\",\"automargin\":true,\"zerolinewidth\":2},\"yaxis\":{\"gridcolor\":\"white\",\"linecolor\":\"white\",\"ticks\":\"\",\"title\":{\"standoff\":15},\"zerolinecolor\":\"white\",\"automargin\":true,\"zerolinewidth\":2},\"scene\":{\"xaxis\":{\"backgroundcolor\":\"#E5ECF6\",\"gridcolor\":\"white\",\"linecolor\":\"white\",\"showbackground\":true,\"ticks\":\"\",\"zerolinecolor\":\"white\",\"gridwidth\":2},\"yaxis\":{\"backgroundcolor\":\"#E5ECF6\",\"gridcolor\":\"white\",\"linecolor\":\"white\",\"showbackground\":true,\"ticks\":\"\",\"zerolinecolor\":\"white\",\"gridwidth\":2},\"zaxis\":{\"backgroundcolor\":\"#E5ECF6\",\"gridcolor\":\"white\",\"linecolor\":\"white\",\"showbackground\":true,\"ticks\":\"\",\"zerolinecolor\":\"white\",\"gridwidth\":2}},\"shapedefaults\":{\"line\":{\"color\":\"#2a3f5f\"}},\"annotationdefaults\":{\"arrowcolor\":\"#2a3f5f\",\"arrowhead\":0,\"arrowwidth\":1},\"geo\":{\"bgcolor\":\"white\",\"landcolor\":\"#E5ECF6\",\"subunitcolor\":\"white\",\"showland\":true,\"showlakes\":true,\"lakecolor\":\"white\"},\"title\":{\"x\":0.05},\"mapbox\":{\"style\":\"light\"}}},\"shapes\":[{\"line\":{\"color\":\"green\",\"dash\":\"dot\",\"width\":3},\"type\":\"line\",\"x0\":80000000.0,\"x1\":80000000.0,\"xref\":\"x\",\"y0\":0,\"y1\":1,\"yref\":\"y domain\"},{\"line\":{\"color\":\"red\",\"dash\":\"dash\",\"width\":3},\"type\":\"line\",\"x0\":0,\"x1\":1,\"xref\":\"x domain\",\"y0\":153,\"y1\":153,\"yref\":\"y\"}],\"annotations\":[{\"align\":\"left\",\"arrowcolor\":\"#636363\",\"arrowhead\":1,\"arrowsize\":1,\"arrowwidth\":2,\"ax\":-20,\"ay\":-30,\"font\":{\"color\":\"purple\",\"family\":\"Sans Serif\",\"size\":12},\"showarrow\":false,\"text\":\"LLC Size Per Node: 80M\",\"x\":\"80e6\",\"y\":280,\"yanchor\":\"bottom\"},{\"align\":\"left\",\"arrowcolor\":\"#636363\",\"arrowhead\":1,\"arrowsize\":1,\"arrowwidth\":2,\"ax\":-20,\"ay\":-30,\"font\":{\"color\":\"orange\",\"family\":\"Sans Serif\",\"size\":12},\"showarrow\":false,\"text\":\"Max Bandwidth Per Node\",\"x\":\"130e6\",\"y\":155,\"yanchor\":\"bottom\"}],\"xaxis\":{\"title\":{\"text\":\"Dirc_Data_Mov\"},\"ticks\":\"outside\"},\"yaxis\":{\"title\":{\"text\":\"Bandwidth/Node\"},\"ticks\":\"outside\"},\"title\":{\"text\":\"\\\"Node 1 vs 2 vs 4 (16MPI 2OMP Per Node): Macro Fused (nonprobempi)\\\" Bandwidth Measurement\"}},                        {\"responsive\": true}                    ).then(function(){\n",
       "                            \n",
       "var gd = document.getElementById('9da9bb98-25db-4926-a985-6cee09b7b0f6');\n",
       "var x = new MutationObserver(function (mutations, observer) {{\n",
       "        var display = window.getComputedStyle(gd).display;\n",
       "        if (!display || display === 'none') {{\n",
       "            console.log([gd, 'removed!']);\n",
       "            Plotly.purge(gd);\n",
       "            observer.disconnect();\n",
       "        }}\n",
       "}});\n",
       "\n",
       "// Listen for the removal of the full notebook cells\n",
       "var notebookContainer = gd.closest('#notebook-container');\n",
       "if (notebookContainer) {{\n",
       "    x.observe(notebookContainer, {childList: true});\n",
       "}}\n",
       "\n",
       "// Listen for the clearing of the current output cell\n",
       "var outputEl = gd.closest('.output');\n",
       "if (outputEl) {{\n",
       "    x.observe(outputEl, {childList: true});\n",
       "}}\n",
       "\n",
       "                        })                };                });            </script>        </div>"
      ]
     },
     "metadata": {},
     "output_type": "display_data"
    }
   ],
   "source": [
    "fig = go.Figure() \n",
    "\n",
    "# NODE 1\n",
    "fig.add_trace(go.Scatter(x=(dfn1MacFusNonProb_16mpi_2omp.Dirc_Data_Mov*(dfn1MacFusNonProb_16mpi_2omp.MPI_size)), \n",
    "                         y=(dfn1MacFusNonProb_16mpi_2omp.BAND*(dfn1MacFusNonProb_16mpi_2omp.MPI_size)), \n",
    "                         mode='lines+markers', \n",
    "                         name='Node1: MacFusNonProb_16mpi_2omp',\n",
    "                         line=dict(color='magenta',width=3),\n",
    "                         marker=dict(symbol='hexagon',size=9, line=dict(color='yellow',width=1))))\n",
    "\n",
    "fig.add_trace(go.Scatter(x=(dfn1MacNonFusNonProb_16mpi_2omp.Dirc_Data_Mov*(dfn1MacNonFusNonProb_16mpi_2omp.MPI_size)), \n",
    "                         y=(dfn1MacNonFusNonProb_16mpi_2omp.BAND*(dfn1MacNonFusNonProb_16mpi_2omp.MPI_size)), \n",
    "                         mode='lines+markers', \n",
    "                         name='Node1: MacNonFusNonProb_16mpi_2omp',\n",
    "                         line=dict(color='royalblue',width=3),\n",
    "                         marker=dict(symbol='hexagon',size=9, line=dict(color='yellow',width=1))))\n",
    "\n",
    "\n",
    "# NODE 2\n",
    "fig.add_trace(go.Scatter(x=(dfn2MacFusNonProb_32mpi_2omp.Dirc_Data_Mov*(dfn2MacFusNonProb_32mpi_2omp.MPI_size/2)), \n",
    "                         y=(dfn2MacFusNonProb_32mpi_2omp.BAND*(dfn2MacFusNonProb_32mpi_2omp.MPI_size/2)), \n",
    "                         mode='lines+markers', \n",
    "                         name='Node2: MacFusNonProb_32mpi_2omp',\n",
    "                         line=dict(color='darkcyan',width=3),\n",
    "                         marker=dict(symbol='hexagon',size=9, line=dict(color='yellow',width=1))))\n",
    "\n",
    "fig.add_trace(go.Scatter(x=(dfn2MacNonFusNonProb_32mpi_2omp.Dirc_Data_Mov*(dfn2MacNonFusNonProb_32mpi_2omp.MPI_size/2)), \n",
    "                         y=(dfn2MacNonFusNonProb_32mpi_2omp.BAND*(dfn2MacNonFusNonProb_32mpi_2omp.MPI_size/2)), \n",
    "                         mode='lines+markers', \n",
    "                         name='Node2: MacNonFusNonProb_32mpi_2omp',\n",
    "                         line=dict(color='chocolate',width=3),\n",
    "                         marker=dict(symbol='hexagon',size=9, line=dict(color='yellow',width=1))))\n",
    "\n",
    "# NODE 4\n",
    "fig.add_trace(go.Scatter(x=(dfn4MacFusnonProb_64mpi_2omp.Dirc_Data_Mov*(dfn4MacFusnonProb_64mpi_2omp.MPI_size/4)), \n",
    "                         y=(dfn4MacFusnonProb_64mpi_2omp.BAND*(dfn4MacFusnonProb_64mpi_2omp.MPI_size/4)), \n",
    "                         mode='lines+markers', \n",
    "                         name='Node4: MacFusnonProb_64mpi_2omp',\n",
    "                         line=dict(color='cyan',width=3),\n",
    "                         marker=dict(symbol='hexagon',size=7,line=dict(color='purple',width=2))))\n",
    "\n",
    "fig.add_trace(go.Scatter(x=(dfn4MacNonFusNonProb_64mpi_2omp.Dirc_Data_Mov*(dfn4MacNonFusNonProb_64mpi_2omp.MPI_size/4)), \n",
    "                         y=(dfn4MacNonFusNonProb_64mpi_2omp.BAND*(dfn4MacNonFusNonProb_64mpi_2omp.MPI_size/4)), \n",
    "                         mode='lines+markers', \n",
    "                         name='Node4: MacNonFusNonProb_64mpi_2omp',\n",
    "                         line=dict(color='darkblue',width=3),\n",
    "                         marker=dict(symbol='hexagon',size=7,line=dict(color='purple',width=2))))\n",
    "\n",
    "\n",
    "\n",
    "\n",
    "# Adding vertical and horizontal lines \n",
    "fig.add_vline(x=80e6, line_width=3, line_dash=\"dot\", line_color=\"green\")\n",
    "fig.add_hline(y=153, line_width=3, line_dash=\"dash\", line_color=\"red\")\n",
    "\n",
    "# Add annotation with arrow\n",
    "fig.add_annotation(\n",
    "    x='80e6'\n",
    "    , y=280\n",
    "    , text=f'LLC Size Per Node: 80M'\n",
    "    , yanchor='bottom'\n",
    "    , showarrow=False\n",
    "    , arrowhead=1\n",
    "    , arrowsize=1\n",
    "    , arrowwidth=2\n",
    "    , arrowcolor=\"#636363\"\n",
    "    , ax=-20\n",
    "    , ay=-30\n",
    "    , font=dict(size=12, color=\"purple\", family=\"Sans Serif\")\n",
    "    , align=\"left\"\n",
    "    ,)\n",
    "\n",
    "fig.add_annotation(\n",
    "    x='130e6'\n",
    "    , y=155\n",
    "    , text=f'Max Bandwidth Per Node'\n",
    "    , yanchor='bottom'\n",
    "    , showarrow=False\n",
    "    , arrowhead=1\n",
    "    , arrowsize=1\n",
    "    , arrowwidth=2\n",
    "    , arrowcolor=\"#636363\"\n",
    "    , ax=-20\n",
    "    , ay=-30\n",
    "    , font=dict(size=12, color=\"orange\", family=\"Sans Serif\")\n",
    "    , align=\"left\"\n",
    "    ,)\n",
    "\n",
    "\n",
    "fig.update_layout(title='\"Node 1 vs 2 vs 4 (16MPI 2OMP Per Node): Macro Fused (nonprobempi)\" Bandwidth Measurement',\n",
    "                  xaxis_title='Dirc_Data_Mov', yaxis_title='Bandwidth/Node', \n",
    "                  xaxis=dict(ticks=\"outside\"),  \n",
    "                  yaxis=dict(ticks=\"outside\")) \n",
    "\n",
    "\n",
    "\n"
   ]
  },
  {
   "cell_type": "markdown",
   "id": "4b0ea56e",
   "metadata": {},
   "source": [
    "# 32 MPI 1OMP PER NODE"
   ]
  },
  {
   "cell_type": "markdown",
   "id": "49aea640",
   "metadata": {},
   "source": [
    "## GFops Macro Fused vs NonFused NonProbmpi: Node1 vs 2 vs 4 (32 mpi 1omp per node)"
   ]
  },
  {
   "cell_type": "code",
   "execution_count": 115,
   "id": "10f73f4f",
   "metadata": {},
   "outputs": [
    {
     "data": {
      "application/vnd.plotly.v1+json": {
       "config": {
        "plotlyServerURL": "https://plot.ly"
       },
       "data": [
        {
         "line": {
          "color": "red",
          "width": 3
         },
         "marker": {
          "line": {
           "color": "yellow",
           "width": 1
          },
          "size": 9,
          "symbol": "hexagon"
         },
         "mode": "lines+markers",
         "name": "Node1: MacFusnonProb_32mpi_1omp",
         "type": "scatter",
         "x": [
          201326592,
          251658240,
          301989888,
          352321536,
          402653184
         ],
         "y": [
          58.54912,
          51.9696,
          49.54624,
          48.01312,
          47.05568
         ]
        },
        {
         "line": {
          "color": "green",
          "width": 3
         },
         "marker": {
          "line": {
           "color": "yellow",
           "width": 1
          },
          "size": 9,
          "symbol": "hexagon"
         },
         "mode": "lines+markers",
         "name": "Node1: MacNonFusNonProb_32mpi_1omp",
         "type": "scatter",
         "x": [
          201326592,
          251658240,
          301989888,
          352321536,
          402653184
         ],
         "y": [
          59.79776,
          52.8672,
          51.60064,
          49.7616,
          48.5344
         ]
        },
        {
         "line": {
          "color": "magenta",
          "width": 3
         },
         "marker": {
          "line": {
           "color": "yellow",
           "width": 1
          },
          "size": 9,
          "symbol": "hexagon"
         },
         "mode": "lines+markers",
         "name": "Node2: MacFusnonProb_64mpi_1omp",
         "type": "scatter",
         "x": [
          201326592,
          251658240,
          301989888,
          352321536,
          402653184
         ],
         "y": [
          54.74816,
          49.16032,
          47.88832,
          46.63424,
          45.97792
         ]
        },
        {
         "line": {
          "color": "blue",
          "width": 3
         },
         "marker": {
          "line": {
           "color": "yellow",
           "width": 1
          },
          "size": 9,
          "symbol": "hexagon"
         },
         "mode": "lines+markers",
         "name": "Node2: MacNonFusNonProb_64mpi_1omp",
         "type": "scatter",
         "x": [
          201326592,
          251658240,
          301989888,
          352321536,
          402653184
         ],
         "y": [
          55.63136,
          49.67104,
          48.99488,
          48.33248,
          47.15296
         ]
        },
        {
         "line": {
          "color": "darkblue",
          "width": 3
         },
         "marker": {
          "line": {
           "color": "purple",
           "width": 2
          },
          "size": 7,
          "symbol": "hexagon"
         },
         "mode": "lines+markers",
         "name": "Node4: MacFusnonProb_128mpi_1omp",
         "type": "scatter",
         "x": [
          201326592,
          251658240,
          301989888,
          352321536,
          402653184
         ],
         "y": [
          54.75456,
          49.61088,
          47.93632,
          46.88896,
          46.12608
         ]
        },
        {
         "line": {
          "color": "cyan",
          "width": 3
         },
         "marker": {
          "line": {
           "color": "purple",
           "width": 2
          },
          "size": 7,
          "symbol": "hexagon"
         },
         "mode": "lines+markers",
         "name": "Node4: MacNonFusNonProb_128mpi_1omp",
         "type": "scatter",
         "x": [
          201326592,
          251658240,
          301989888,
          352321536,
          402653184
         ],
         "y": [
          52.27648,
          47.4256,
          46.728,
          45.824,
          45.1168
         ]
        }
       ],
       "layout": {
        "annotations": [
         {
          "align": "left",
          "arrowcolor": "#636363",
          "arrowhead": 1,
          "arrowsize": 1,
          "arrowwidth": 2,
          "ax": -20,
          "ay": -30,
          "font": {
           "color": "purple",
           "family": "Sans Serif",
           "size": 12
          },
          "showarrow": false,
          "text": "LLC Size Per Node",
          "x": "80e6",
          "y": 130,
          "yanchor": "bottom"
         }
        ],
        "shapes": [
         {
          "line": {
           "color": "green",
           "dash": "dash",
           "width": 3
          },
          "type": "line",
          "x0": 80000000,
          "x1": 80000000,
          "xref": "x",
          "y0": 0,
          "y1": 1,
          "yref": "y domain"
         }
        ],
        "template": {
         "data": {
          "bar": [
           {
            "error_x": {
             "color": "#2a3f5f"
            },
            "error_y": {
             "color": "#2a3f5f"
            },
            "marker": {
             "line": {
              "color": "#E5ECF6",
              "width": 0.5
             },
             "pattern": {
              "fillmode": "overlay",
              "size": 10,
              "solidity": 0.2
             }
            },
            "type": "bar"
           }
          ],
          "barpolar": [
           {
            "marker": {
             "line": {
              "color": "#E5ECF6",
              "width": 0.5
             },
             "pattern": {
              "fillmode": "overlay",
              "size": 10,
              "solidity": 0.2
             }
            },
            "type": "barpolar"
           }
          ],
          "carpet": [
           {
            "aaxis": {
             "endlinecolor": "#2a3f5f",
             "gridcolor": "white",
             "linecolor": "white",
             "minorgridcolor": "white",
             "startlinecolor": "#2a3f5f"
            },
            "baxis": {
             "endlinecolor": "#2a3f5f",
             "gridcolor": "white",
             "linecolor": "white",
             "minorgridcolor": "white",
             "startlinecolor": "#2a3f5f"
            },
            "type": "carpet"
           }
          ],
          "choropleth": [
           {
            "colorbar": {
             "outlinewidth": 0,
             "ticks": ""
            },
            "type": "choropleth"
           }
          ],
          "contour": [
           {
            "colorbar": {
             "outlinewidth": 0,
             "ticks": ""
            },
            "colorscale": [
             [
              0,
              "#0d0887"
             ],
             [
              0.1111111111111111,
              "#46039f"
             ],
             [
              0.2222222222222222,
              "#7201a8"
             ],
             [
              0.3333333333333333,
              "#9c179e"
             ],
             [
              0.4444444444444444,
              "#bd3786"
             ],
             [
              0.5555555555555556,
              "#d8576b"
             ],
             [
              0.6666666666666666,
              "#ed7953"
             ],
             [
              0.7777777777777778,
              "#fb9f3a"
             ],
             [
              0.8888888888888888,
              "#fdca26"
             ],
             [
              1,
              "#f0f921"
             ]
            ],
            "type": "contour"
           }
          ],
          "contourcarpet": [
           {
            "colorbar": {
             "outlinewidth": 0,
             "ticks": ""
            },
            "type": "contourcarpet"
           }
          ],
          "heatmap": [
           {
            "colorbar": {
             "outlinewidth": 0,
             "ticks": ""
            },
            "colorscale": [
             [
              0,
              "#0d0887"
             ],
             [
              0.1111111111111111,
              "#46039f"
             ],
             [
              0.2222222222222222,
              "#7201a8"
             ],
             [
              0.3333333333333333,
              "#9c179e"
             ],
             [
              0.4444444444444444,
              "#bd3786"
             ],
             [
              0.5555555555555556,
              "#d8576b"
             ],
             [
              0.6666666666666666,
              "#ed7953"
             ],
             [
              0.7777777777777778,
              "#fb9f3a"
             ],
             [
              0.8888888888888888,
              "#fdca26"
             ],
             [
              1,
              "#f0f921"
             ]
            ],
            "type": "heatmap"
           }
          ],
          "heatmapgl": [
           {
            "colorbar": {
             "outlinewidth": 0,
             "ticks": ""
            },
            "colorscale": [
             [
              0,
              "#0d0887"
             ],
             [
              0.1111111111111111,
              "#46039f"
             ],
             [
              0.2222222222222222,
              "#7201a8"
             ],
             [
              0.3333333333333333,
              "#9c179e"
             ],
             [
              0.4444444444444444,
              "#bd3786"
             ],
             [
              0.5555555555555556,
              "#d8576b"
             ],
             [
              0.6666666666666666,
              "#ed7953"
             ],
             [
              0.7777777777777778,
              "#fb9f3a"
             ],
             [
              0.8888888888888888,
              "#fdca26"
             ],
             [
              1,
              "#f0f921"
             ]
            ],
            "type": "heatmapgl"
           }
          ],
          "histogram": [
           {
            "marker": {
             "pattern": {
              "fillmode": "overlay",
              "size": 10,
              "solidity": 0.2
             }
            },
            "type": "histogram"
           }
          ],
          "histogram2d": [
           {
            "colorbar": {
             "outlinewidth": 0,
             "ticks": ""
            },
            "colorscale": [
             [
              0,
              "#0d0887"
             ],
             [
              0.1111111111111111,
              "#46039f"
             ],
             [
              0.2222222222222222,
              "#7201a8"
             ],
             [
              0.3333333333333333,
              "#9c179e"
             ],
             [
              0.4444444444444444,
              "#bd3786"
             ],
             [
              0.5555555555555556,
              "#d8576b"
             ],
             [
              0.6666666666666666,
              "#ed7953"
             ],
             [
              0.7777777777777778,
              "#fb9f3a"
             ],
             [
              0.8888888888888888,
              "#fdca26"
             ],
             [
              1,
              "#f0f921"
             ]
            ],
            "type": "histogram2d"
           }
          ],
          "histogram2dcontour": [
           {
            "colorbar": {
             "outlinewidth": 0,
             "ticks": ""
            },
            "colorscale": [
             [
              0,
              "#0d0887"
             ],
             [
              0.1111111111111111,
              "#46039f"
             ],
             [
              0.2222222222222222,
              "#7201a8"
             ],
             [
              0.3333333333333333,
              "#9c179e"
             ],
             [
              0.4444444444444444,
              "#bd3786"
             ],
             [
              0.5555555555555556,
              "#d8576b"
             ],
             [
              0.6666666666666666,
              "#ed7953"
             ],
             [
              0.7777777777777778,
              "#fb9f3a"
             ],
             [
              0.8888888888888888,
              "#fdca26"
             ],
             [
              1,
              "#f0f921"
             ]
            ],
            "type": "histogram2dcontour"
           }
          ],
          "mesh3d": [
           {
            "colorbar": {
             "outlinewidth": 0,
             "ticks": ""
            },
            "type": "mesh3d"
           }
          ],
          "parcoords": [
           {
            "line": {
             "colorbar": {
              "outlinewidth": 0,
              "ticks": ""
             }
            },
            "type": "parcoords"
           }
          ],
          "pie": [
           {
            "automargin": true,
            "type": "pie"
           }
          ],
          "scatter": [
           {
            "fillpattern": {
             "fillmode": "overlay",
             "size": 10,
             "solidity": 0.2
            },
            "type": "scatter"
           }
          ],
          "scatter3d": [
           {
            "line": {
             "colorbar": {
              "outlinewidth": 0,
              "ticks": ""
             }
            },
            "marker": {
             "colorbar": {
              "outlinewidth": 0,
              "ticks": ""
             }
            },
            "type": "scatter3d"
           }
          ],
          "scattercarpet": [
           {
            "marker": {
             "colorbar": {
              "outlinewidth": 0,
              "ticks": ""
             }
            },
            "type": "scattercarpet"
           }
          ],
          "scattergeo": [
           {
            "marker": {
             "colorbar": {
              "outlinewidth": 0,
              "ticks": ""
             }
            },
            "type": "scattergeo"
           }
          ],
          "scattergl": [
           {
            "marker": {
             "colorbar": {
              "outlinewidth": 0,
              "ticks": ""
             }
            },
            "type": "scattergl"
           }
          ],
          "scattermapbox": [
           {
            "marker": {
             "colorbar": {
              "outlinewidth": 0,
              "ticks": ""
             }
            },
            "type": "scattermapbox"
           }
          ],
          "scatterpolar": [
           {
            "marker": {
             "colorbar": {
              "outlinewidth": 0,
              "ticks": ""
             }
            },
            "type": "scatterpolar"
           }
          ],
          "scatterpolargl": [
           {
            "marker": {
             "colorbar": {
              "outlinewidth": 0,
              "ticks": ""
             }
            },
            "type": "scatterpolargl"
           }
          ],
          "scatterternary": [
           {
            "marker": {
             "colorbar": {
              "outlinewidth": 0,
              "ticks": ""
             }
            },
            "type": "scatterternary"
           }
          ],
          "surface": [
           {
            "colorbar": {
             "outlinewidth": 0,
             "ticks": ""
            },
            "colorscale": [
             [
              0,
              "#0d0887"
             ],
             [
              0.1111111111111111,
              "#46039f"
             ],
             [
              0.2222222222222222,
              "#7201a8"
             ],
             [
              0.3333333333333333,
              "#9c179e"
             ],
             [
              0.4444444444444444,
              "#bd3786"
             ],
             [
              0.5555555555555556,
              "#d8576b"
             ],
             [
              0.6666666666666666,
              "#ed7953"
             ],
             [
              0.7777777777777778,
              "#fb9f3a"
             ],
             [
              0.8888888888888888,
              "#fdca26"
             ],
             [
              1,
              "#f0f921"
             ]
            ],
            "type": "surface"
           }
          ],
          "table": [
           {
            "cells": {
             "fill": {
              "color": "#EBF0F8"
             },
             "line": {
              "color": "white"
             }
            },
            "header": {
             "fill": {
              "color": "#C8D4E3"
             },
             "line": {
              "color": "white"
             }
            },
            "type": "table"
           }
          ]
         },
         "layout": {
          "annotationdefaults": {
           "arrowcolor": "#2a3f5f",
           "arrowhead": 0,
           "arrowwidth": 1
          },
          "autotypenumbers": "strict",
          "coloraxis": {
           "colorbar": {
            "outlinewidth": 0,
            "ticks": ""
           }
          },
          "colorscale": {
           "diverging": [
            [
             0,
             "#8e0152"
            ],
            [
             0.1,
             "#c51b7d"
            ],
            [
             0.2,
             "#de77ae"
            ],
            [
             0.3,
             "#f1b6da"
            ],
            [
             0.4,
             "#fde0ef"
            ],
            [
             0.5,
             "#f7f7f7"
            ],
            [
             0.6,
             "#e6f5d0"
            ],
            [
             0.7,
             "#b8e186"
            ],
            [
             0.8,
             "#7fbc41"
            ],
            [
             0.9,
             "#4d9221"
            ],
            [
             1,
             "#276419"
            ]
           ],
           "sequential": [
            [
             0,
             "#0d0887"
            ],
            [
             0.1111111111111111,
             "#46039f"
            ],
            [
             0.2222222222222222,
             "#7201a8"
            ],
            [
             0.3333333333333333,
             "#9c179e"
            ],
            [
             0.4444444444444444,
             "#bd3786"
            ],
            [
             0.5555555555555556,
             "#d8576b"
            ],
            [
             0.6666666666666666,
             "#ed7953"
            ],
            [
             0.7777777777777778,
             "#fb9f3a"
            ],
            [
             0.8888888888888888,
             "#fdca26"
            ],
            [
             1,
             "#f0f921"
            ]
           ],
           "sequentialminus": [
            [
             0,
             "#0d0887"
            ],
            [
             0.1111111111111111,
             "#46039f"
            ],
            [
             0.2222222222222222,
             "#7201a8"
            ],
            [
             0.3333333333333333,
             "#9c179e"
            ],
            [
             0.4444444444444444,
             "#bd3786"
            ],
            [
             0.5555555555555556,
             "#d8576b"
            ],
            [
             0.6666666666666666,
             "#ed7953"
            ],
            [
             0.7777777777777778,
             "#fb9f3a"
            ],
            [
             0.8888888888888888,
             "#fdca26"
            ],
            [
             1,
             "#f0f921"
            ]
           ]
          },
          "colorway": [
           "#636efa",
           "#EF553B",
           "#00cc96",
           "#ab63fa",
           "#FFA15A",
           "#19d3f3",
           "#FF6692",
           "#B6E880",
           "#FF97FF",
           "#FECB52"
          ],
          "font": {
           "color": "#2a3f5f"
          },
          "geo": {
           "bgcolor": "white",
           "lakecolor": "white",
           "landcolor": "#E5ECF6",
           "showlakes": true,
           "showland": true,
           "subunitcolor": "white"
          },
          "hoverlabel": {
           "align": "left"
          },
          "hovermode": "closest",
          "mapbox": {
           "style": "light"
          },
          "paper_bgcolor": "white",
          "plot_bgcolor": "#E5ECF6",
          "polar": {
           "angularaxis": {
            "gridcolor": "white",
            "linecolor": "white",
            "ticks": ""
           },
           "bgcolor": "#E5ECF6",
           "radialaxis": {
            "gridcolor": "white",
            "linecolor": "white",
            "ticks": ""
           }
          },
          "scene": {
           "xaxis": {
            "backgroundcolor": "#E5ECF6",
            "gridcolor": "white",
            "gridwidth": 2,
            "linecolor": "white",
            "showbackground": true,
            "ticks": "",
            "zerolinecolor": "white"
           },
           "yaxis": {
            "backgroundcolor": "#E5ECF6",
            "gridcolor": "white",
            "gridwidth": 2,
            "linecolor": "white",
            "showbackground": true,
            "ticks": "",
            "zerolinecolor": "white"
           },
           "zaxis": {
            "backgroundcolor": "#E5ECF6",
            "gridcolor": "white",
            "gridwidth": 2,
            "linecolor": "white",
            "showbackground": true,
            "ticks": "",
            "zerolinecolor": "white"
           }
          },
          "shapedefaults": {
           "line": {
            "color": "#2a3f5f"
           }
          },
          "ternary": {
           "aaxis": {
            "gridcolor": "white",
            "linecolor": "white",
            "ticks": ""
           },
           "baxis": {
            "gridcolor": "white",
            "linecolor": "white",
            "ticks": ""
           },
           "bgcolor": "#E5ECF6",
           "caxis": {
            "gridcolor": "white",
            "linecolor": "white",
            "ticks": ""
           }
          },
          "title": {
           "x": 0.05
          },
          "xaxis": {
           "automargin": true,
           "gridcolor": "white",
           "linecolor": "white",
           "ticks": "",
           "title": {
            "standoff": 15
           },
           "zerolinecolor": "white",
           "zerolinewidth": 2
          },
          "yaxis": {
           "automargin": true,
           "gridcolor": "white",
           "linecolor": "white",
           "ticks": "",
           "title": {
            "standoff": 15
           },
           "zerolinecolor": "white",
           "zerolinewidth": 2
          }
         }
        },
        "title": {
         "text": "\"Node 1 vs 2 vs 4 (32MPI 1OMP Per Node): Macro Fused (nonprobempi)\" GFlops Measurement"
        },
        "xaxis": {
         "ticks": "outside",
         "title": {
          "text": "Dirc_Data_Mov"
         }
        },
        "yaxis": {
         "ticks": "outside",
         "title": {
          "text": "GFLOPs/Node"
         }
        }
       }
      },
      "text/html": [
       "<div>                            <div id=\"60ef223c-b5bc-4e55-9430-9c5351936c80\" class=\"plotly-graph-div\" style=\"height:525px; width:100%;\"></div>            <script type=\"text/javascript\">                require([\"plotly\"], function(Plotly) {                    window.PLOTLYENV=window.PLOTLYENV || {};                                    if (document.getElementById(\"60ef223c-b5bc-4e55-9430-9c5351936c80\")) {                    Plotly.newPlot(                        \"60ef223c-b5bc-4e55-9430-9c5351936c80\",                        [{\"line\":{\"color\":\"red\",\"width\":3},\"marker\":{\"line\":{\"color\":\"yellow\",\"width\":1},\"size\":9,\"symbol\":\"hexagon\"},\"mode\":\"lines+markers\",\"name\":\"Node1: MacFusnonProb_32mpi_1omp\",\"x\":[201326592,251658240,301989888,352321536,402653184],\"y\":[58.54912,51.9696,49.54624,48.01312,47.05568],\"type\":\"scatter\"},{\"line\":{\"color\":\"green\",\"width\":3},\"marker\":{\"line\":{\"color\":\"yellow\",\"width\":1},\"size\":9,\"symbol\":\"hexagon\"},\"mode\":\"lines+markers\",\"name\":\"Node1: MacNonFusNonProb_32mpi_1omp\",\"x\":[201326592,251658240,301989888,352321536,402653184],\"y\":[59.79776,52.8672,51.60064,49.7616,48.5344],\"type\":\"scatter\"},{\"line\":{\"color\":\"magenta\",\"width\":3},\"marker\":{\"line\":{\"color\":\"yellow\",\"width\":1},\"size\":9,\"symbol\":\"hexagon\"},\"mode\":\"lines+markers\",\"name\":\"Node2: MacFusnonProb_64mpi_1omp\",\"x\":[201326592.0,251658240.0,301989888.0,352321536.0,402653184.0],\"y\":[54.74816,49.16032,47.88832,46.63424,45.97792],\"type\":\"scatter\"},{\"line\":{\"color\":\"blue\",\"width\":3},\"marker\":{\"line\":{\"color\":\"yellow\",\"width\":1},\"size\":9,\"symbol\":\"hexagon\"},\"mode\":\"lines+markers\",\"name\":\"Node2: MacNonFusNonProb_64mpi_1omp\",\"x\":[201326592.0,251658240.0,301989888.0,352321536.0,402653184.0],\"y\":[55.63136,49.67104,48.99488,48.33248,47.15296],\"type\":\"scatter\"},{\"line\":{\"color\":\"darkblue\",\"width\":3},\"marker\":{\"line\":{\"color\":\"purple\",\"width\":2},\"size\":7,\"symbol\":\"hexagon\"},\"mode\":\"lines+markers\",\"name\":\"Node4: MacFusnonProb_128mpi_1omp\",\"x\":[201326592.0,251658240.0,301989888.0,352321536.0,402653184.0],\"y\":[54.75456,49.61088,47.93632,46.88896,46.12608],\"type\":\"scatter\"},{\"line\":{\"color\":\"cyan\",\"width\":3},\"marker\":{\"line\":{\"color\":\"purple\",\"width\":2},\"size\":7,\"symbol\":\"hexagon\"},\"mode\":\"lines+markers\",\"name\":\"Node4: MacNonFusNonProb_128mpi_1omp\",\"x\":[201326592.0,251658240.0,301989888.0,352321536.0,402653184.0],\"y\":[52.27648,47.4256,46.728,45.824,45.1168],\"type\":\"scatter\"}],                        {\"template\":{\"data\":{\"histogram2dcontour\":[{\"type\":\"histogram2dcontour\",\"colorbar\":{\"outlinewidth\":0,\"ticks\":\"\"},\"colorscale\":[[0.0,\"#0d0887\"],[0.1111111111111111,\"#46039f\"],[0.2222222222222222,\"#7201a8\"],[0.3333333333333333,\"#9c179e\"],[0.4444444444444444,\"#bd3786\"],[0.5555555555555556,\"#d8576b\"],[0.6666666666666666,\"#ed7953\"],[0.7777777777777778,\"#fb9f3a\"],[0.8888888888888888,\"#fdca26\"],[1.0,\"#f0f921\"]]}],\"choropleth\":[{\"type\":\"choropleth\",\"colorbar\":{\"outlinewidth\":0,\"ticks\":\"\"}}],\"histogram2d\":[{\"type\":\"histogram2d\",\"colorbar\":{\"outlinewidth\":0,\"ticks\":\"\"},\"colorscale\":[[0.0,\"#0d0887\"],[0.1111111111111111,\"#46039f\"],[0.2222222222222222,\"#7201a8\"],[0.3333333333333333,\"#9c179e\"],[0.4444444444444444,\"#bd3786\"],[0.5555555555555556,\"#d8576b\"],[0.6666666666666666,\"#ed7953\"],[0.7777777777777778,\"#fb9f3a\"],[0.8888888888888888,\"#fdca26\"],[1.0,\"#f0f921\"]]}],\"heatmap\":[{\"type\":\"heatmap\",\"colorbar\":{\"outlinewidth\":0,\"ticks\":\"\"},\"colorscale\":[[0.0,\"#0d0887\"],[0.1111111111111111,\"#46039f\"],[0.2222222222222222,\"#7201a8\"],[0.3333333333333333,\"#9c179e\"],[0.4444444444444444,\"#bd3786\"],[0.5555555555555556,\"#d8576b\"],[0.6666666666666666,\"#ed7953\"],[0.7777777777777778,\"#fb9f3a\"],[0.8888888888888888,\"#fdca26\"],[1.0,\"#f0f921\"]]}],\"heatmapgl\":[{\"type\":\"heatmapgl\",\"colorbar\":{\"outlinewidth\":0,\"ticks\":\"\"},\"colorscale\":[[0.0,\"#0d0887\"],[0.1111111111111111,\"#46039f\"],[0.2222222222222222,\"#7201a8\"],[0.3333333333333333,\"#9c179e\"],[0.4444444444444444,\"#bd3786\"],[0.5555555555555556,\"#d8576b\"],[0.6666666666666666,\"#ed7953\"],[0.7777777777777778,\"#fb9f3a\"],[0.8888888888888888,\"#fdca26\"],[1.0,\"#f0f921\"]]}],\"contourcarpet\":[{\"type\":\"contourcarpet\",\"colorbar\":{\"outlinewidth\":0,\"ticks\":\"\"}}],\"contour\":[{\"type\":\"contour\",\"colorbar\":{\"outlinewidth\":0,\"ticks\":\"\"},\"colorscale\":[[0.0,\"#0d0887\"],[0.1111111111111111,\"#46039f\"],[0.2222222222222222,\"#7201a8\"],[0.3333333333333333,\"#9c179e\"],[0.4444444444444444,\"#bd3786\"],[0.5555555555555556,\"#d8576b\"],[0.6666666666666666,\"#ed7953\"],[0.7777777777777778,\"#fb9f3a\"],[0.8888888888888888,\"#fdca26\"],[1.0,\"#f0f921\"]]}],\"surface\":[{\"type\":\"surface\",\"colorbar\":{\"outlinewidth\":0,\"ticks\":\"\"},\"colorscale\":[[0.0,\"#0d0887\"],[0.1111111111111111,\"#46039f\"],[0.2222222222222222,\"#7201a8\"],[0.3333333333333333,\"#9c179e\"],[0.4444444444444444,\"#bd3786\"],[0.5555555555555556,\"#d8576b\"],[0.6666666666666666,\"#ed7953\"],[0.7777777777777778,\"#fb9f3a\"],[0.8888888888888888,\"#fdca26\"],[1.0,\"#f0f921\"]]}],\"mesh3d\":[{\"type\":\"mesh3d\",\"colorbar\":{\"outlinewidth\":0,\"ticks\":\"\"}}],\"scatter\":[{\"fillpattern\":{\"fillmode\":\"overlay\",\"size\":10,\"solidity\":0.2},\"type\":\"scatter\"}],\"parcoords\":[{\"type\":\"parcoords\",\"line\":{\"colorbar\":{\"outlinewidth\":0,\"ticks\":\"\"}}}],\"scatterpolargl\":[{\"type\":\"scatterpolargl\",\"marker\":{\"colorbar\":{\"outlinewidth\":0,\"ticks\":\"\"}}}],\"bar\":[{\"error_x\":{\"color\":\"#2a3f5f\"},\"error_y\":{\"color\":\"#2a3f5f\"},\"marker\":{\"line\":{\"color\":\"#E5ECF6\",\"width\":0.5},\"pattern\":{\"fillmode\":\"overlay\",\"size\":10,\"solidity\":0.2}},\"type\":\"bar\"}],\"scattergeo\":[{\"type\":\"scattergeo\",\"marker\":{\"colorbar\":{\"outlinewidth\":0,\"ticks\":\"\"}}}],\"scatterpolar\":[{\"type\":\"scatterpolar\",\"marker\":{\"colorbar\":{\"outlinewidth\":0,\"ticks\":\"\"}}}],\"histogram\":[{\"marker\":{\"pattern\":{\"fillmode\":\"overlay\",\"size\":10,\"solidity\":0.2}},\"type\":\"histogram\"}],\"scattergl\":[{\"type\":\"scattergl\",\"marker\":{\"colorbar\":{\"outlinewidth\":0,\"ticks\":\"\"}}}],\"scatter3d\":[{\"type\":\"scatter3d\",\"line\":{\"colorbar\":{\"outlinewidth\":0,\"ticks\":\"\"}},\"marker\":{\"colorbar\":{\"outlinewidth\":0,\"ticks\":\"\"}}}],\"scattermapbox\":[{\"type\":\"scattermapbox\",\"marker\":{\"colorbar\":{\"outlinewidth\":0,\"ticks\":\"\"}}}],\"scatterternary\":[{\"type\":\"scatterternary\",\"marker\":{\"colorbar\":{\"outlinewidth\":0,\"ticks\":\"\"}}}],\"scattercarpet\":[{\"type\":\"scattercarpet\",\"marker\":{\"colorbar\":{\"outlinewidth\":0,\"ticks\":\"\"}}}],\"carpet\":[{\"aaxis\":{\"endlinecolor\":\"#2a3f5f\",\"gridcolor\":\"white\",\"linecolor\":\"white\",\"minorgridcolor\":\"white\",\"startlinecolor\":\"#2a3f5f\"},\"baxis\":{\"endlinecolor\":\"#2a3f5f\",\"gridcolor\":\"white\",\"linecolor\":\"white\",\"minorgridcolor\":\"white\",\"startlinecolor\":\"#2a3f5f\"},\"type\":\"carpet\"}],\"table\":[{\"cells\":{\"fill\":{\"color\":\"#EBF0F8\"},\"line\":{\"color\":\"white\"}},\"header\":{\"fill\":{\"color\":\"#C8D4E3\"},\"line\":{\"color\":\"white\"}},\"type\":\"table\"}],\"barpolar\":[{\"marker\":{\"line\":{\"color\":\"#E5ECF6\",\"width\":0.5},\"pattern\":{\"fillmode\":\"overlay\",\"size\":10,\"solidity\":0.2}},\"type\":\"barpolar\"}],\"pie\":[{\"automargin\":true,\"type\":\"pie\"}]},\"layout\":{\"autotypenumbers\":\"strict\",\"colorway\":[\"#636efa\",\"#EF553B\",\"#00cc96\",\"#ab63fa\",\"#FFA15A\",\"#19d3f3\",\"#FF6692\",\"#B6E880\",\"#FF97FF\",\"#FECB52\"],\"font\":{\"color\":\"#2a3f5f\"},\"hovermode\":\"closest\",\"hoverlabel\":{\"align\":\"left\"},\"paper_bgcolor\":\"white\",\"plot_bgcolor\":\"#E5ECF6\",\"polar\":{\"bgcolor\":\"#E5ECF6\",\"angularaxis\":{\"gridcolor\":\"white\",\"linecolor\":\"white\",\"ticks\":\"\"},\"radialaxis\":{\"gridcolor\":\"white\",\"linecolor\":\"white\",\"ticks\":\"\"}},\"ternary\":{\"bgcolor\":\"#E5ECF6\",\"aaxis\":{\"gridcolor\":\"white\",\"linecolor\":\"white\",\"ticks\":\"\"},\"baxis\":{\"gridcolor\":\"white\",\"linecolor\":\"white\",\"ticks\":\"\"},\"caxis\":{\"gridcolor\":\"white\",\"linecolor\":\"white\",\"ticks\":\"\"}},\"coloraxis\":{\"colorbar\":{\"outlinewidth\":0,\"ticks\":\"\"}},\"colorscale\":{\"sequential\":[[0.0,\"#0d0887\"],[0.1111111111111111,\"#46039f\"],[0.2222222222222222,\"#7201a8\"],[0.3333333333333333,\"#9c179e\"],[0.4444444444444444,\"#bd3786\"],[0.5555555555555556,\"#d8576b\"],[0.6666666666666666,\"#ed7953\"],[0.7777777777777778,\"#fb9f3a\"],[0.8888888888888888,\"#fdca26\"],[1.0,\"#f0f921\"]],\"sequentialminus\":[[0.0,\"#0d0887\"],[0.1111111111111111,\"#46039f\"],[0.2222222222222222,\"#7201a8\"],[0.3333333333333333,\"#9c179e\"],[0.4444444444444444,\"#bd3786\"],[0.5555555555555556,\"#d8576b\"],[0.6666666666666666,\"#ed7953\"],[0.7777777777777778,\"#fb9f3a\"],[0.8888888888888888,\"#fdca26\"],[1.0,\"#f0f921\"]],\"diverging\":[[0,\"#8e0152\"],[0.1,\"#c51b7d\"],[0.2,\"#de77ae\"],[0.3,\"#f1b6da\"],[0.4,\"#fde0ef\"],[0.5,\"#f7f7f7\"],[0.6,\"#e6f5d0\"],[0.7,\"#b8e186\"],[0.8,\"#7fbc41\"],[0.9,\"#4d9221\"],[1,\"#276419\"]]},\"xaxis\":{\"gridcolor\":\"white\",\"linecolor\":\"white\",\"ticks\":\"\",\"title\":{\"standoff\":15},\"zerolinecolor\":\"white\",\"automargin\":true,\"zerolinewidth\":2},\"yaxis\":{\"gridcolor\":\"white\",\"linecolor\":\"white\",\"ticks\":\"\",\"title\":{\"standoff\":15},\"zerolinecolor\":\"white\",\"automargin\":true,\"zerolinewidth\":2},\"scene\":{\"xaxis\":{\"backgroundcolor\":\"#E5ECF6\",\"gridcolor\":\"white\",\"linecolor\":\"white\",\"showbackground\":true,\"ticks\":\"\",\"zerolinecolor\":\"white\",\"gridwidth\":2},\"yaxis\":{\"backgroundcolor\":\"#E5ECF6\",\"gridcolor\":\"white\",\"linecolor\":\"white\",\"showbackground\":true,\"ticks\":\"\",\"zerolinecolor\":\"white\",\"gridwidth\":2},\"zaxis\":{\"backgroundcolor\":\"#E5ECF6\",\"gridcolor\":\"white\",\"linecolor\":\"white\",\"showbackground\":true,\"ticks\":\"\",\"zerolinecolor\":\"white\",\"gridwidth\":2}},\"shapedefaults\":{\"line\":{\"color\":\"#2a3f5f\"}},\"annotationdefaults\":{\"arrowcolor\":\"#2a3f5f\",\"arrowhead\":0,\"arrowwidth\":1},\"geo\":{\"bgcolor\":\"white\",\"landcolor\":\"#E5ECF6\",\"subunitcolor\":\"white\",\"showland\":true,\"showlakes\":true,\"lakecolor\":\"white\"},\"title\":{\"x\":0.05},\"mapbox\":{\"style\":\"light\"}}},\"shapes\":[{\"line\":{\"color\":\"green\",\"dash\":\"dash\",\"width\":3},\"type\":\"line\",\"x0\":80000000.0,\"x1\":80000000.0,\"xref\":\"x\",\"y0\":0,\"y1\":1,\"yref\":\"y domain\"}],\"annotations\":[{\"align\":\"left\",\"arrowcolor\":\"#636363\",\"arrowhead\":1,\"arrowsize\":1,\"arrowwidth\":2,\"ax\":-20,\"ay\":-30,\"font\":{\"color\":\"purple\",\"family\":\"Sans Serif\",\"size\":12},\"showarrow\":false,\"text\":\"LLC Size Per Node\",\"x\":\"80e6\",\"y\":130,\"yanchor\":\"bottom\"}],\"xaxis\":{\"title\":{\"text\":\"Dirc_Data_Mov\"},\"ticks\":\"outside\"},\"yaxis\":{\"title\":{\"text\":\"GFLOPs/Node\"},\"ticks\":\"outside\"},\"title\":{\"text\":\"\\\"Node 1 vs 2 vs 4 (32MPI 1OMP Per Node): Macro Fused (nonprobempi)\\\" GFlops Measurement\"}},                        {\"responsive\": true}                    ).then(function(){\n",
       "                            \n",
       "var gd = document.getElementById('60ef223c-b5bc-4e55-9430-9c5351936c80');\n",
       "var x = new MutationObserver(function (mutations, observer) {{\n",
       "        var display = window.getComputedStyle(gd).display;\n",
       "        if (!display || display === 'none') {{\n",
       "            console.log([gd, 'removed!']);\n",
       "            Plotly.purge(gd);\n",
       "            observer.disconnect();\n",
       "        }}\n",
       "}});\n",
       "\n",
       "// Listen for the removal of the full notebook cells\n",
       "var notebookContainer = gd.closest('#notebook-container');\n",
       "if (notebookContainer) {{\n",
       "    x.observe(notebookContainer, {childList: true});\n",
       "}}\n",
       "\n",
       "// Listen for the clearing of the current output cell\n",
       "var outputEl = gd.closest('.output');\n",
       "if (outputEl) {{\n",
       "    x.observe(outputEl, {childList: true});\n",
       "}}\n",
       "\n",
       "                        })                };                });            </script>        </div>"
      ]
     },
     "metadata": {},
     "output_type": "display_data"
    }
   ],
   "source": [
    "fig = go.Figure() \n",
    "\n",
    "# NODE 1\n",
    "fig.add_trace(go.Scatter(x=(dfn1MacFusnonProb_32mpi_1omp.Dirc_Data_Mov*(dfn1MacFusnonProb_32mpi_1omp.MPI_size)), \n",
    "                         y=(dfn1MacFusnonProb_32mpi_1omp.GFLOPS*(dfn1MacFusnonProb_32mpi_1omp.MPI_size)), \n",
    "                         mode='lines+markers', \n",
    "                         name='Node1: MacFusnonProb_32mpi_1omp',\n",
    "                         line=dict(color='red',width=3),\n",
    "                         marker=dict(symbol='hexagon',size=9, line=dict(color='yellow',width=1))))\n",
    "\n",
    "fig.add_trace(go.Scatter(x=(dfn1MacNonFusNonProb_32mpi_1omp.Dirc_Data_Mov*(dfn1MacNonFusNonProb_32mpi_1omp.MPI_size)), \n",
    "                         y=(dfn1MacNonFusNonProb_32mpi_1omp.GFLOPS*(dfn1MacNonFusNonProb_32mpi_1omp.MPI_size)), \n",
    "                         mode='lines+markers', \n",
    "                         name='Node1: MacNonFusNonProb_32mpi_1omp',\n",
    "                         line=dict(color='green',width=3),\n",
    "                         marker=dict(symbol='hexagon',size=9, line=dict(color='yellow',width=1))))\n",
    "\n",
    "\n",
    "# NODE 2\n",
    "fig.add_trace(go.Scatter(x=(dfn2MacFusnonProb_64mpi_1omp.Dirc_Data_Mov*(dfn2MacFusnonProb_64mpi_1omp.MPI_size/2)), \n",
    "                         y=(dfn2MacFusnonProb_64mpi_1omp.GFLOPS*(dfn2MacFusnonProb_64mpi_1omp.MPI_size/2)), \n",
    "                         mode='lines+markers', \n",
    "                         name='Node2: MacFusnonProb_64mpi_1omp',\n",
    "                         line=dict(color='magenta',width=3),\n",
    "                         marker=dict(symbol='hexagon',size=9, line=dict(color='yellow',width=1))))\n",
    "\n",
    "fig.add_trace(go.Scatter(x=(dfn2MacNonFusNonProb_64mpi_1omp.Dirc_Data_Mov*(dfn2MacNonFusNonProb_64mpi_1omp.MPI_size/2)), \n",
    "                         y=(dfn2MacNonFusNonProb_64mpi_1omp.GFLOPS*(dfn2MacNonFusNonProb_64mpi_1omp.MPI_size/2)), \n",
    "                         mode='lines+markers', \n",
    "                         name='Node2: MacNonFusNonProb_64mpi_1omp',\n",
    "                         line=dict(color='blue',width=3),\n",
    "                         marker=dict(symbol='hexagon',size=9, line=dict(color='yellow',width=1))))\n",
    "\n",
    "# NODE 4\n",
    "fig.add_trace(go.Scatter(x=(dfn4MacFusnonProb_128mpi_1omp.Dirc_Data_Mov*(dfn4MacFusnonProb_128mpi_1omp.MPI_size/4)), \n",
    "                         y=(dfn4MacFusnonProb_128mpi_1omp.GFLOPS*(dfn4MacFusnonProb_128mpi_1omp.MPI_size/4)), \n",
    "                         mode='lines+markers', \n",
    "                         name='Node4: MacFusnonProb_128mpi_1omp',\n",
    "                         line=dict(color='darkblue',width=3),\n",
    "                         marker=dict(symbol='hexagon',size=7,line=dict(color='purple',width=2))))\n",
    "\n",
    "fig.add_trace(go.Scatter(x=(dfn4MacNonFusNonProb_128mpi_1omp.Dirc_Data_Mov*(dfn4MacNonFusNonProb_128mpi_1omp.MPI_size/4)), \n",
    "                         y=(dfn4MacNonFusNonProb_128mpi_1omp.GFLOPS*(dfn4MacNonFusNonProb_128mpi_1omp.MPI_size/4)), \n",
    "                         mode='lines+markers', \n",
    "                         name='Node4: MacNonFusNonProb_128mpi_1omp',\n",
    "                         line=dict(color='cyan',width=3),\n",
    "                         marker=dict(symbol='hexagon',size=7,line=dict(color='purple',width=2))))\n",
    "\n",
    "\n",
    "# Adding a vertical line\n",
    "fig.add_vline(x=80e6, line_width=3, line_dash=\"dash\", line_color=\"green\")\n",
    "# fig.add_hline(y=1024, line_width=3, line_dash=\"dash\", line_color=\"red\")\n",
    "\n",
    "# Add annotation\n",
    "fig.add_annotation(\n",
    "    x='80e6'\n",
    "    , y=130\n",
    "    , text=f'LLC Size Per Node'\n",
    "    , yanchor='bottom'\n",
    "    , showarrow=False\n",
    "    , arrowhead=1\n",
    "    , arrowsize=1\n",
    "    , arrowwidth=2\n",
    "    , arrowcolor=\"#636363\"\n",
    "    , ax=-20\n",
    "    , ay=-30\n",
    "    , font=dict(size=12, color=\"purple\", family=\"Sans Serif\")\n",
    "    , align=\"left\"\n",
    "    ,)\n",
    "\n",
    "fig.update_layout(title='\"Node 1 vs 2 vs 4 (32MPI 1OMP Per Node): Macro Fused (nonprobempi)\" GFlops Measurement',\n",
    "                  xaxis_title='Dirc_Data_Mov', yaxis_title='GFLOPs/Node', \n",
    "                  xaxis=dict(ticks=\"outside\"),  \n",
    "                  yaxis=dict(ticks=\"outside\"))"
   ]
  },
  {
   "cell_type": "markdown",
   "id": "96579646",
   "metadata": {},
   "source": [
    "## Bandwidth Macro Fused vs NonFused NonProbmpi: Node1 vs 2 vs 4 (32 mpi 1omp per node)"
   ]
  },
  {
   "cell_type": "code",
   "execution_count": 117,
   "id": "68bac14c",
   "metadata": {},
   "outputs": [
    {
     "data": {
      "application/vnd.plotly.v1+json": {
       "config": {
        "plotlyServerURL": "https://plot.ly"
       },
       "data": [
        {
         "line": {
          "color": "magenta",
          "width": 3
         },
         "marker": {
          "line": {
           "color": "yellow",
           "width": 1
          },
          "size": 9,
          "symbol": "hexagon"
         },
         "mode": "lines+markers",
         "name": "Node1: MacFusnonProb_32mpi_1omp",
         "type": "scatter",
         "x": [
          201326592,
          251658240,
          301989888,
          352321536,
          402653184
         ],
         "y": [
          136.25984,
          120.9472,
          115.3072,
          111.73984,
          109.51136
         ]
        },
        {
         "line": {
          "color": "royalblue",
          "width": 3
         },
         "marker": {
          "line": {
           "color": "yellow",
           "width": 1
          },
          "size": 9,
          "symbol": "hexagon"
         },
         "mode": "lines+markers",
         "name": "Node1: MacNonFusNonProb_32mpi_1omp",
         "type": "scatter",
         "x": [
          201326592,
          251658240,
          301989888,
          352321536,
          402653184
         ],
         "y": [
          139.16544,
          123.0368,
          120.08896,
          115.80864,
          112.95296
         ]
        },
        {
         "line": {
          "color": "darkcyan",
          "width": 3
         },
         "marker": {
          "line": {
           "color": "yellow",
           "width": 1
          },
          "size": 9,
          "symbol": "hexagon"
         },
         "mode": "lines+markers",
         "name": "Node2: MacFusnonProb_64mpi_1omp",
         "type": "scatter",
         "x": [
          201326592,
          251658240,
          301989888,
          352321536,
          402653184
         ],
         "y": [
          127.41376,
          114.4096,
          111.44896,
          108.53088,
          107.0032
         ]
        },
        {
         "line": {
          "color": "chocolate",
          "width": 3
         },
         "marker": {
          "line": {
           "color": "yellow",
           "width": 1
          },
          "size": 9,
          "symbol": "hexagon"
         },
         "mode": "lines+markers",
         "name": "Node2: MacNonFusNonProb_64mpi_1omp",
         "type": "scatter",
         "x": [
          201326592,
          251658240,
          301989888,
          352321536,
          402653184
         ],
         "y": [
          129.46976,
          115.59776,
          114.02464,
          112.4832,
          109.73792
         ]
        },
        {
         "line": {
          "color": "cyan",
          "width": 3
         },
         "marker": {
          "line": {
           "color": "purple",
           "width": 2
          },
          "size": 7,
          "symbol": "hexagon"
         },
         "mode": "lines+markers",
         "name": "Node4: MacFusnonProb_128mpi_1omp",
         "type": "scatter",
         "x": [
          201326592,
          251658240,
          301989888,
          352321536,
          402653184
         ],
         "y": [
          127.42848,
          115.45792,
          111.56096,
          109.12352,
          107.34784
         ]
        },
        {
         "line": {
          "color": "darkblue",
          "width": 3
         },
         "marker": {
          "line": {
           "color": "purple",
           "width": 2
          },
          "size": 7,
          "symbol": "hexagon"
         },
         "mode": "lines+markers",
         "name": "Node4: MacNonFusNonProb_128mpi_1omp",
         "type": "scatter",
         "x": [
          201326592,
          251658240,
          301989888,
          352321536,
          402653184
         ],
         "y": [
          121.66144,
          110.37184,
          108.74912,
          106.6448,
          104.99904
         ]
        }
       ],
       "layout": {
        "annotations": [
         {
          "align": "left",
          "arrowcolor": "#636363",
          "arrowhead": 1,
          "arrowsize": 1,
          "arrowwidth": 2,
          "ax": -20,
          "ay": -30,
          "font": {
           "color": "purple",
           "family": "Sans Serif",
           "size": 12
          },
          "showarrow": false,
          "text": "LLC Size Per Node: 80M",
          "x": "80e6",
          "y": 280,
          "yanchor": "bottom"
         },
         {
          "align": "left",
          "arrowcolor": "#636363",
          "arrowhead": 1,
          "arrowsize": 1,
          "arrowwidth": 2,
          "ax": -20,
          "ay": -30,
          "font": {
           "color": "orange",
           "family": "Sans Serif",
           "size": 12
          },
          "showarrow": false,
          "text": "Max Bandwidth Per Node",
          "x": "130e6",
          "y": 155,
          "yanchor": "bottom"
         }
        ],
        "shapes": [
         {
          "line": {
           "color": "green",
           "dash": "dot",
           "width": 3
          },
          "type": "line",
          "x0": 80000000,
          "x1": 80000000,
          "xref": "x",
          "y0": 0,
          "y1": 1,
          "yref": "y domain"
         },
         {
          "line": {
           "color": "red",
           "dash": "dash",
           "width": 3
          },
          "type": "line",
          "x0": 0,
          "x1": 1,
          "xref": "x domain",
          "y0": 153,
          "y1": 153,
          "yref": "y"
         }
        ],
        "template": {
         "data": {
          "bar": [
           {
            "error_x": {
             "color": "#2a3f5f"
            },
            "error_y": {
             "color": "#2a3f5f"
            },
            "marker": {
             "line": {
              "color": "#E5ECF6",
              "width": 0.5
             },
             "pattern": {
              "fillmode": "overlay",
              "size": 10,
              "solidity": 0.2
             }
            },
            "type": "bar"
           }
          ],
          "barpolar": [
           {
            "marker": {
             "line": {
              "color": "#E5ECF6",
              "width": 0.5
             },
             "pattern": {
              "fillmode": "overlay",
              "size": 10,
              "solidity": 0.2
             }
            },
            "type": "barpolar"
           }
          ],
          "carpet": [
           {
            "aaxis": {
             "endlinecolor": "#2a3f5f",
             "gridcolor": "white",
             "linecolor": "white",
             "minorgridcolor": "white",
             "startlinecolor": "#2a3f5f"
            },
            "baxis": {
             "endlinecolor": "#2a3f5f",
             "gridcolor": "white",
             "linecolor": "white",
             "minorgridcolor": "white",
             "startlinecolor": "#2a3f5f"
            },
            "type": "carpet"
           }
          ],
          "choropleth": [
           {
            "colorbar": {
             "outlinewidth": 0,
             "ticks": ""
            },
            "type": "choropleth"
           }
          ],
          "contour": [
           {
            "colorbar": {
             "outlinewidth": 0,
             "ticks": ""
            },
            "colorscale": [
             [
              0,
              "#0d0887"
             ],
             [
              0.1111111111111111,
              "#46039f"
             ],
             [
              0.2222222222222222,
              "#7201a8"
             ],
             [
              0.3333333333333333,
              "#9c179e"
             ],
             [
              0.4444444444444444,
              "#bd3786"
             ],
             [
              0.5555555555555556,
              "#d8576b"
             ],
             [
              0.6666666666666666,
              "#ed7953"
             ],
             [
              0.7777777777777778,
              "#fb9f3a"
             ],
             [
              0.8888888888888888,
              "#fdca26"
             ],
             [
              1,
              "#f0f921"
             ]
            ],
            "type": "contour"
           }
          ],
          "contourcarpet": [
           {
            "colorbar": {
             "outlinewidth": 0,
             "ticks": ""
            },
            "type": "contourcarpet"
           }
          ],
          "heatmap": [
           {
            "colorbar": {
             "outlinewidth": 0,
             "ticks": ""
            },
            "colorscale": [
             [
              0,
              "#0d0887"
             ],
             [
              0.1111111111111111,
              "#46039f"
             ],
             [
              0.2222222222222222,
              "#7201a8"
             ],
             [
              0.3333333333333333,
              "#9c179e"
             ],
             [
              0.4444444444444444,
              "#bd3786"
             ],
             [
              0.5555555555555556,
              "#d8576b"
             ],
             [
              0.6666666666666666,
              "#ed7953"
             ],
             [
              0.7777777777777778,
              "#fb9f3a"
             ],
             [
              0.8888888888888888,
              "#fdca26"
             ],
             [
              1,
              "#f0f921"
             ]
            ],
            "type": "heatmap"
           }
          ],
          "heatmapgl": [
           {
            "colorbar": {
             "outlinewidth": 0,
             "ticks": ""
            },
            "colorscale": [
             [
              0,
              "#0d0887"
             ],
             [
              0.1111111111111111,
              "#46039f"
             ],
             [
              0.2222222222222222,
              "#7201a8"
             ],
             [
              0.3333333333333333,
              "#9c179e"
             ],
             [
              0.4444444444444444,
              "#bd3786"
             ],
             [
              0.5555555555555556,
              "#d8576b"
             ],
             [
              0.6666666666666666,
              "#ed7953"
             ],
             [
              0.7777777777777778,
              "#fb9f3a"
             ],
             [
              0.8888888888888888,
              "#fdca26"
             ],
             [
              1,
              "#f0f921"
             ]
            ],
            "type": "heatmapgl"
           }
          ],
          "histogram": [
           {
            "marker": {
             "pattern": {
              "fillmode": "overlay",
              "size": 10,
              "solidity": 0.2
             }
            },
            "type": "histogram"
           }
          ],
          "histogram2d": [
           {
            "colorbar": {
             "outlinewidth": 0,
             "ticks": ""
            },
            "colorscale": [
             [
              0,
              "#0d0887"
             ],
             [
              0.1111111111111111,
              "#46039f"
             ],
             [
              0.2222222222222222,
              "#7201a8"
             ],
             [
              0.3333333333333333,
              "#9c179e"
             ],
             [
              0.4444444444444444,
              "#bd3786"
             ],
             [
              0.5555555555555556,
              "#d8576b"
             ],
             [
              0.6666666666666666,
              "#ed7953"
             ],
             [
              0.7777777777777778,
              "#fb9f3a"
             ],
             [
              0.8888888888888888,
              "#fdca26"
             ],
             [
              1,
              "#f0f921"
             ]
            ],
            "type": "histogram2d"
           }
          ],
          "histogram2dcontour": [
           {
            "colorbar": {
             "outlinewidth": 0,
             "ticks": ""
            },
            "colorscale": [
             [
              0,
              "#0d0887"
             ],
             [
              0.1111111111111111,
              "#46039f"
             ],
             [
              0.2222222222222222,
              "#7201a8"
             ],
             [
              0.3333333333333333,
              "#9c179e"
             ],
             [
              0.4444444444444444,
              "#bd3786"
             ],
             [
              0.5555555555555556,
              "#d8576b"
             ],
             [
              0.6666666666666666,
              "#ed7953"
             ],
             [
              0.7777777777777778,
              "#fb9f3a"
             ],
             [
              0.8888888888888888,
              "#fdca26"
             ],
             [
              1,
              "#f0f921"
             ]
            ],
            "type": "histogram2dcontour"
           }
          ],
          "mesh3d": [
           {
            "colorbar": {
             "outlinewidth": 0,
             "ticks": ""
            },
            "type": "mesh3d"
           }
          ],
          "parcoords": [
           {
            "line": {
             "colorbar": {
              "outlinewidth": 0,
              "ticks": ""
             }
            },
            "type": "parcoords"
           }
          ],
          "pie": [
           {
            "automargin": true,
            "type": "pie"
           }
          ],
          "scatter": [
           {
            "fillpattern": {
             "fillmode": "overlay",
             "size": 10,
             "solidity": 0.2
            },
            "type": "scatter"
           }
          ],
          "scatter3d": [
           {
            "line": {
             "colorbar": {
              "outlinewidth": 0,
              "ticks": ""
             }
            },
            "marker": {
             "colorbar": {
              "outlinewidth": 0,
              "ticks": ""
             }
            },
            "type": "scatter3d"
           }
          ],
          "scattercarpet": [
           {
            "marker": {
             "colorbar": {
              "outlinewidth": 0,
              "ticks": ""
             }
            },
            "type": "scattercarpet"
           }
          ],
          "scattergeo": [
           {
            "marker": {
             "colorbar": {
              "outlinewidth": 0,
              "ticks": ""
             }
            },
            "type": "scattergeo"
           }
          ],
          "scattergl": [
           {
            "marker": {
             "colorbar": {
              "outlinewidth": 0,
              "ticks": ""
             }
            },
            "type": "scattergl"
           }
          ],
          "scattermapbox": [
           {
            "marker": {
             "colorbar": {
              "outlinewidth": 0,
              "ticks": ""
             }
            },
            "type": "scattermapbox"
           }
          ],
          "scatterpolar": [
           {
            "marker": {
             "colorbar": {
              "outlinewidth": 0,
              "ticks": ""
             }
            },
            "type": "scatterpolar"
           }
          ],
          "scatterpolargl": [
           {
            "marker": {
             "colorbar": {
              "outlinewidth": 0,
              "ticks": ""
             }
            },
            "type": "scatterpolargl"
           }
          ],
          "scatterternary": [
           {
            "marker": {
             "colorbar": {
              "outlinewidth": 0,
              "ticks": ""
             }
            },
            "type": "scatterternary"
           }
          ],
          "surface": [
           {
            "colorbar": {
             "outlinewidth": 0,
             "ticks": ""
            },
            "colorscale": [
             [
              0,
              "#0d0887"
             ],
             [
              0.1111111111111111,
              "#46039f"
             ],
             [
              0.2222222222222222,
              "#7201a8"
             ],
             [
              0.3333333333333333,
              "#9c179e"
             ],
             [
              0.4444444444444444,
              "#bd3786"
             ],
             [
              0.5555555555555556,
              "#d8576b"
             ],
             [
              0.6666666666666666,
              "#ed7953"
             ],
             [
              0.7777777777777778,
              "#fb9f3a"
             ],
             [
              0.8888888888888888,
              "#fdca26"
             ],
             [
              1,
              "#f0f921"
             ]
            ],
            "type": "surface"
           }
          ],
          "table": [
           {
            "cells": {
             "fill": {
              "color": "#EBF0F8"
             },
             "line": {
              "color": "white"
             }
            },
            "header": {
             "fill": {
              "color": "#C8D4E3"
             },
             "line": {
              "color": "white"
             }
            },
            "type": "table"
           }
          ]
         },
         "layout": {
          "annotationdefaults": {
           "arrowcolor": "#2a3f5f",
           "arrowhead": 0,
           "arrowwidth": 1
          },
          "autotypenumbers": "strict",
          "coloraxis": {
           "colorbar": {
            "outlinewidth": 0,
            "ticks": ""
           }
          },
          "colorscale": {
           "diverging": [
            [
             0,
             "#8e0152"
            ],
            [
             0.1,
             "#c51b7d"
            ],
            [
             0.2,
             "#de77ae"
            ],
            [
             0.3,
             "#f1b6da"
            ],
            [
             0.4,
             "#fde0ef"
            ],
            [
             0.5,
             "#f7f7f7"
            ],
            [
             0.6,
             "#e6f5d0"
            ],
            [
             0.7,
             "#b8e186"
            ],
            [
             0.8,
             "#7fbc41"
            ],
            [
             0.9,
             "#4d9221"
            ],
            [
             1,
             "#276419"
            ]
           ],
           "sequential": [
            [
             0,
             "#0d0887"
            ],
            [
             0.1111111111111111,
             "#46039f"
            ],
            [
             0.2222222222222222,
             "#7201a8"
            ],
            [
             0.3333333333333333,
             "#9c179e"
            ],
            [
             0.4444444444444444,
             "#bd3786"
            ],
            [
             0.5555555555555556,
             "#d8576b"
            ],
            [
             0.6666666666666666,
             "#ed7953"
            ],
            [
             0.7777777777777778,
             "#fb9f3a"
            ],
            [
             0.8888888888888888,
             "#fdca26"
            ],
            [
             1,
             "#f0f921"
            ]
           ],
           "sequentialminus": [
            [
             0,
             "#0d0887"
            ],
            [
             0.1111111111111111,
             "#46039f"
            ],
            [
             0.2222222222222222,
             "#7201a8"
            ],
            [
             0.3333333333333333,
             "#9c179e"
            ],
            [
             0.4444444444444444,
             "#bd3786"
            ],
            [
             0.5555555555555556,
             "#d8576b"
            ],
            [
             0.6666666666666666,
             "#ed7953"
            ],
            [
             0.7777777777777778,
             "#fb9f3a"
            ],
            [
             0.8888888888888888,
             "#fdca26"
            ],
            [
             1,
             "#f0f921"
            ]
           ]
          },
          "colorway": [
           "#636efa",
           "#EF553B",
           "#00cc96",
           "#ab63fa",
           "#FFA15A",
           "#19d3f3",
           "#FF6692",
           "#B6E880",
           "#FF97FF",
           "#FECB52"
          ],
          "font": {
           "color": "#2a3f5f"
          },
          "geo": {
           "bgcolor": "white",
           "lakecolor": "white",
           "landcolor": "#E5ECF6",
           "showlakes": true,
           "showland": true,
           "subunitcolor": "white"
          },
          "hoverlabel": {
           "align": "left"
          },
          "hovermode": "closest",
          "mapbox": {
           "style": "light"
          },
          "paper_bgcolor": "white",
          "plot_bgcolor": "#E5ECF6",
          "polar": {
           "angularaxis": {
            "gridcolor": "white",
            "linecolor": "white",
            "ticks": ""
           },
           "bgcolor": "#E5ECF6",
           "radialaxis": {
            "gridcolor": "white",
            "linecolor": "white",
            "ticks": ""
           }
          },
          "scene": {
           "xaxis": {
            "backgroundcolor": "#E5ECF6",
            "gridcolor": "white",
            "gridwidth": 2,
            "linecolor": "white",
            "showbackground": true,
            "ticks": "",
            "zerolinecolor": "white"
           },
           "yaxis": {
            "backgroundcolor": "#E5ECF6",
            "gridcolor": "white",
            "gridwidth": 2,
            "linecolor": "white",
            "showbackground": true,
            "ticks": "",
            "zerolinecolor": "white"
           },
           "zaxis": {
            "backgroundcolor": "#E5ECF6",
            "gridcolor": "white",
            "gridwidth": 2,
            "linecolor": "white",
            "showbackground": true,
            "ticks": "",
            "zerolinecolor": "white"
           }
          },
          "shapedefaults": {
           "line": {
            "color": "#2a3f5f"
           }
          },
          "ternary": {
           "aaxis": {
            "gridcolor": "white",
            "linecolor": "white",
            "ticks": ""
           },
           "baxis": {
            "gridcolor": "white",
            "linecolor": "white",
            "ticks": ""
           },
           "bgcolor": "#E5ECF6",
           "caxis": {
            "gridcolor": "white",
            "linecolor": "white",
            "ticks": ""
           }
          },
          "title": {
           "x": 0.05
          },
          "xaxis": {
           "automargin": true,
           "gridcolor": "white",
           "linecolor": "white",
           "ticks": "",
           "title": {
            "standoff": 15
           },
           "zerolinecolor": "white",
           "zerolinewidth": 2
          },
          "yaxis": {
           "automargin": true,
           "gridcolor": "white",
           "linecolor": "white",
           "ticks": "",
           "title": {
            "standoff": 15
           },
           "zerolinecolor": "white",
           "zerolinewidth": 2
          }
         }
        },
        "title": {
         "text": "\"Node 1 vs 2 vs 4 (32MPI 1OMP Per Node): Macro Fused vs NonFused (nonprobempi)\" Bandwidth Measurement"
        },
        "xaxis": {
         "ticks": "outside",
         "title": {
          "text": "Dirc_Data_Mov"
         }
        },
        "yaxis": {
         "ticks": "outside",
         "title": {
          "text": "Bandwidth/Node"
         }
        }
       }
      },
      "text/html": [
       "<div>                            <div id=\"1fac3016-9cb1-4803-9673-9edd0a8c3a0e\" class=\"plotly-graph-div\" style=\"height:525px; width:100%;\"></div>            <script type=\"text/javascript\">                require([\"plotly\"], function(Plotly) {                    window.PLOTLYENV=window.PLOTLYENV || {};                                    if (document.getElementById(\"1fac3016-9cb1-4803-9673-9edd0a8c3a0e\")) {                    Plotly.newPlot(                        \"1fac3016-9cb1-4803-9673-9edd0a8c3a0e\",                        [{\"line\":{\"color\":\"magenta\",\"width\":3},\"marker\":{\"line\":{\"color\":\"yellow\",\"width\":1},\"size\":9,\"symbol\":\"hexagon\"},\"mode\":\"lines+markers\",\"name\":\"Node1: MacFusnonProb_32mpi_1omp\",\"x\":[201326592,251658240,301989888,352321536,402653184],\"y\":[136.25984,120.9472,115.3072,111.73984,109.51136],\"type\":\"scatter\"},{\"line\":{\"color\":\"royalblue\",\"width\":3},\"marker\":{\"line\":{\"color\":\"yellow\",\"width\":1},\"size\":9,\"symbol\":\"hexagon\"},\"mode\":\"lines+markers\",\"name\":\"Node1: MacNonFusNonProb_32mpi_1omp\",\"x\":[201326592,251658240,301989888,352321536,402653184],\"y\":[139.16544,123.0368,120.08896,115.80864,112.95296],\"type\":\"scatter\"},{\"line\":{\"color\":\"darkcyan\",\"width\":3},\"marker\":{\"line\":{\"color\":\"yellow\",\"width\":1},\"size\":9,\"symbol\":\"hexagon\"},\"mode\":\"lines+markers\",\"name\":\"Node2: MacFusnonProb_64mpi_1omp\",\"x\":[201326592.0,251658240.0,301989888.0,352321536.0,402653184.0],\"y\":[127.41376,114.4096,111.44896,108.53088,107.0032],\"type\":\"scatter\"},{\"line\":{\"color\":\"chocolate\",\"width\":3},\"marker\":{\"line\":{\"color\":\"yellow\",\"width\":1},\"size\":9,\"symbol\":\"hexagon\"},\"mode\":\"lines+markers\",\"name\":\"Node2: MacNonFusNonProb_64mpi_1omp\",\"x\":[201326592.0,251658240.0,301989888.0,352321536.0,402653184.0],\"y\":[129.46976,115.59776,114.02464,112.4832,109.73792],\"type\":\"scatter\"},{\"line\":{\"color\":\"cyan\",\"width\":3},\"marker\":{\"line\":{\"color\":\"purple\",\"width\":2},\"size\":7,\"symbol\":\"hexagon\"},\"mode\":\"lines+markers\",\"name\":\"Node4: MacFusnonProb_128mpi_1omp\",\"x\":[201326592.0,251658240.0,301989888.0,352321536.0,402653184.0],\"y\":[127.42848,115.45792,111.56096,109.12352,107.34784],\"type\":\"scatter\"},{\"line\":{\"color\":\"darkblue\",\"width\":3},\"marker\":{\"line\":{\"color\":\"purple\",\"width\":2},\"size\":7,\"symbol\":\"hexagon\"},\"mode\":\"lines+markers\",\"name\":\"Node4: MacNonFusNonProb_128mpi_1omp\",\"x\":[201326592.0,251658240.0,301989888.0,352321536.0,402653184.0],\"y\":[121.66144,110.37184,108.74912,106.6448,104.99904],\"type\":\"scatter\"}],                        {\"template\":{\"data\":{\"histogram2dcontour\":[{\"type\":\"histogram2dcontour\",\"colorbar\":{\"outlinewidth\":0,\"ticks\":\"\"},\"colorscale\":[[0.0,\"#0d0887\"],[0.1111111111111111,\"#46039f\"],[0.2222222222222222,\"#7201a8\"],[0.3333333333333333,\"#9c179e\"],[0.4444444444444444,\"#bd3786\"],[0.5555555555555556,\"#d8576b\"],[0.6666666666666666,\"#ed7953\"],[0.7777777777777778,\"#fb9f3a\"],[0.8888888888888888,\"#fdca26\"],[1.0,\"#f0f921\"]]}],\"choropleth\":[{\"type\":\"choropleth\",\"colorbar\":{\"outlinewidth\":0,\"ticks\":\"\"}}],\"histogram2d\":[{\"type\":\"histogram2d\",\"colorbar\":{\"outlinewidth\":0,\"ticks\":\"\"},\"colorscale\":[[0.0,\"#0d0887\"],[0.1111111111111111,\"#46039f\"],[0.2222222222222222,\"#7201a8\"],[0.3333333333333333,\"#9c179e\"],[0.4444444444444444,\"#bd3786\"],[0.5555555555555556,\"#d8576b\"],[0.6666666666666666,\"#ed7953\"],[0.7777777777777778,\"#fb9f3a\"],[0.8888888888888888,\"#fdca26\"],[1.0,\"#f0f921\"]]}],\"heatmap\":[{\"type\":\"heatmap\",\"colorbar\":{\"outlinewidth\":0,\"ticks\":\"\"},\"colorscale\":[[0.0,\"#0d0887\"],[0.1111111111111111,\"#46039f\"],[0.2222222222222222,\"#7201a8\"],[0.3333333333333333,\"#9c179e\"],[0.4444444444444444,\"#bd3786\"],[0.5555555555555556,\"#d8576b\"],[0.6666666666666666,\"#ed7953\"],[0.7777777777777778,\"#fb9f3a\"],[0.8888888888888888,\"#fdca26\"],[1.0,\"#f0f921\"]]}],\"heatmapgl\":[{\"type\":\"heatmapgl\",\"colorbar\":{\"outlinewidth\":0,\"ticks\":\"\"},\"colorscale\":[[0.0,\"#0d0887\"],[0.1111111111111111,\"#46039f\"],[0.2222222222222222,\"#7201a8\"],[0.3333333333333333,\"#9c179e\"],[0.4444444444444444,\"#bd3786\"],[0.5555555555555556,\"#d8576b\"],[0.6666666666666666,\"#ed7953\"],[0.7777777777777778,\"#fb9f3a\"],[0.8888888888888888,\"#fdca26\"],[1.0,\"#f0f921\"]]}],\"contourcarpet\":[{\"type\":\"contourcarpet\",\"colorbar\":{\"outlinewidth\":0,\"ticks\":\"\"}}],\"contour\":[{\"type\":\"contour\",\"colorbar\":{\"outlinewidth\":0,\"ticks\":\"\"},\"colorscale\":[[0.0,\"#0d0887\"],[0.1111111111111111,\"#46039f\"],[0.2222222222222222,\"#7201a8\"],[0.3333333333333333,\"#9c179e\"],[0.4444444444444444,\"#bd3786\"],[0.5555555555555556,\"#d8576b\"],[0.6666666666666666,\"#ed7953\"],[0.7777777777777778,\"#fb9f3a\"],[0.8888888888888888,\"#fdca26\"],[1.0,\"#f0f921\"]]}],\"surface\":[{\"type\":\"surface\",\"colorbar\":{\"outlinewidth\":0,\"ticks\":\"\"},\"colorscale\":[[0.0,\"#0d0887\"],[0.1111111111111111,\"#46039f\"],[0.2222222222222222,\"#7201a8\"],[0.3333333333333333,\"#9c179e\"],[0.4444444444444444,\"#bd3786\"],[0.5555555555555556,\"#d8576b\"],[0.6666666666666666,\"#ed7953\"],[0.7777777777777778,\"#fb9f3a\"],[0.8888888888888888,\"#fdca26\"],[1.0,\"#f0f921\"]]}],\"mesh3d\":[{\"type\":\"mesh3d\",\"colorbar\":{\"outlinewidth\":0,\"ticks\":\"\"}}],\"scatter\":[{\"fillpattern\":{\"fillmode\":\"overlay\",\"size\":10,\"solidity\":0.2},\"type\":\"scatter\"}],\"parcoords\":[{\"type\":\"parcoords\",\"line\":{\"colorbar\":{\"outlinewidth\":0,\"ticks\":\"\"}}}],\"scatterpolargl\":[{\"type\":\"scatterpolargl\",\"marker\":{\"colorbar\":{\"outlinewidth\":0,\"ticks\":\"\"}}}],\"bar\":[{\"error_x\":{\"color\":\"#2a3f5f\"},\"error_y\":{\"color\":\"#2a3f5f\"},\"marker\":{\"line\":{\"color\":\"#E5ECF6\",\"width\":0.5},\"pattern\":{\"fillmode\":\"overlay\",\"size\":10,\"solidity\":0.2}},\"type\":\"bar\"}],\"scattergeo\":[{\"type\":\"scattergeo\",\"marker\":{\"colorbar\":{\"outlinewidth\":0,\"ticks\":\"\"}}}],\"scatterpolar\":[{\"type\":\"scatterpolar\",\"marker\":{\"colorbar\":{\"outlinewidth\":0,\"ticks\":\"\"}}}],\"histogram\":[{\"marker\":{\"pattern\":{\"fillmode\":\"overlay\",\"size\":10,\"solidity\":0.2}},\"type\":\"histogram\"}],\"scattergl\":[{\"type\":\"scattergl\",\"marker\":{\"colorbar\":{\"outlinewidth\":0,\"ticks\":\"\"}}}],\"scatter3d\":[{\"type\":\"scatter3d\",\"line\":{\"colorbar\":{\"outlinewidth\":0,\"ticks\":\"\"}},\"marker\":{\"colorbar\":{\"outlinewidth\":0,\"ticks\":\"\"}}}],\"scattermapbox\":[{\"type\":\"scattermapbox\",\"marker\":{\"colorbar\":{\"outlinewidth\":0,\"ticks\":\"\"}}}],\"scatterternary\":[{\"type\":\"scatterternary\",\"marker\":{\"colorbar\":{\"outlinewidth\":0,\"ticks\":\"\"}}}],\"scattercarpet\":[{\"type\":\"scattercarpet\",\"marker\":{\"colorbar\":{\"outlinewidth\":0,\"ticks\":\"\"}}}],\"carpet\":[{\"aaxis\":{\"endlinecolor\":\"#2a3f5f\",\"gridcolor\":\"white\",\"linecolor\":\"white\",\"minorgridcolor\":\"white\",\"startlinecolor\":\"#2a3f5f\"},\"baxis\":{\"endlinecolor\":\"#2a3f5f\",\"gridcolor\":\"white\",\"linecolor\":\"white\",\"minorgridcolor\":\"white\",\"startlinecolor\":\"#2a3f5f\"},\"type\":\"carpet\"}],\"table\":[{\"cells\":{\"fill\":{\"color\":\"#EBF0F8\"},\"line\":{\"color\":\"white\"}},\"header\":{\"fill\":{\"color\":\"#C8D4E3\"},\"line\":{\"color\":\"white\"}},\"type\":\"table\"}],\"barpolar\":[{\"marker\":{\"line\":{\"color\":\"#E5ECF6\",\"width\":0.5},\"pattern\":{\"fillmode\":\"overlay\",\"size\":10,\"solidity\":0.2}},\"type\":\"barpolar\"}],\"pie\":[{\"automargin\":true,\"type\":\"pie\"}]},\"layout\":{\"autotypenumbers\":\"strict\",\"colorway\":[\"#636efa\",\"#EF553B\",\"#00cc96\",\"#ab63fa\",\"#FFA15A\",\"#19d3f3\",\"#FF6692\",\"#B6E880\",\"#FF97FF\",\"#FECB52\"],\"font\":{\"color\":\"#2a3f5f\"},\"hovermode\":\"closest\",\"hoverlabel\":{\"align\":\"left\"},\"paper_bgcolor\":\"white\",\"plot_bgcolor\":\"#E5ECF6\",\"polar\":{\"bgcolor\":\"#E5ECF6\",\"angularaxis\":{\"gridcolor\":\"white\",\"linecolor\":\"white\",\"ticks\":\"\"},\"radialaxis\":{\"gridcolor\":\"white\",\"linecolor\":\"white\",\"ticks\":\"\"}},\"ternary\":{\"bgcolor\":\"#E5ECF6\",\"aaxis\":{\"gridcolor\":\"white\",\"linecolor\":\"white\",\"ticks\":\"\"},\"baxis\":{\"gridcolor\":\"white\",\"linecolor\":\"white\",\"ticks\":\"\"},\"caxis\":{\"gridcolor\":\"white\",\"linecolor\":\"white\",\"ticks\":\"\"}},\"coloraxis\":{\"colorbar\":{\"outlinewidth\":0,\"ticks\":\"\"}},\"colorscale\":{\"sequential\":[[0.0,\"#0d0887\"],[0.1111111111111111,\"#46039f\"],[0.2222222222222222,\"#7201a8\"],[0.3333333333333333,\"#9c179e\"],[0.4444444444444444,\"#bd3786\"],[0.5555555555555556,\"#d8576b\"],[0.6666666666666666,\"#ed7953\"],[0.7777777777777778,\"#fb9f3a\"],[0.8888888888888888,\"#fdca26\"],[1.0,\"#f0f921\"]],\"sequentialminus\":[[0.0,\"#0d0887\"],[0.1111111111111111,\"#46039f\"],[0.2222222222222222,\"#7201a8\"],[0.3333333333333333,\"#9c179e\"],[0.4444444444444444,\"#bd3786\"],[0.5555555555555556,\"#d8576b\"],[0.6666666666666666,\"#ed7953\"],[0.7777777777777778,\"#fb9f3a\"],[0.8888888888888888,\"#fdca26\"],[1.0,\"#f0f921\"]],\"diverging\":[[0,\"#8e0152\"],[0.1,\"#c51b7d\"],[0.2,\"#de77ae\"],[0.3,\"#f1b6da\"],[0.4,\"#fde0ef\"],[0.5,\"#f7f7f7\"],[0.6,\"#e6f5d0\"],[0.7,\"#b8e186\"],[0.8,\"#7fbc41\"],[0.9,\"#4d9221\"],[1,\"#276419\"]]},\"xaxis\":{\"gridcolor\":\"white\",\"linecolor\":\"white\",\"ticks\":\"\",\"title\":{\"standoff\":15},\"zerolinecolor\":\"white\",\"automargin\":true,\"zerolinewidth\":2},\"yaxis\":{\"gridcolor\":\"white\",\"linecolor\":\"white\",\"ticks\":\"\",\"title\":{\"standoff\":15},\"zerolinecolor\":\"white\",\"automargin\":true,\"zerolinewidth\":2},\"scene\":{\"xaxis\":{\"backgroundcolor\":\"#E5ECF6\",\"gridcolor\":\"white\",\"linecolor\":\"white\",\"showbackground\":true,\"ticks\":\"\",\"zerolinecolor\":\"white\",\"gridwidth\":2},\"yaxis\":{\"backgroundcolor\":\"#E5ECF6\",\"gridcolor\":\"white\",\"linecolor\":\"white\",\"showbackground\":true,\"ticks\":\"\",\"zerolinecolor\":\"white\",\"gridwidth\":2},\"zaxis\":{\"backgroundcolor\":\"#E5ECF6\",\"gridcolor\":\"white\",\"linecolor\":\"white\",\"showbackground\":true,\"ticks\":\"\",\"zerolinecolor\":\"white\",\"gridwidth\":2}},\"shapedefaults\":{\"line\":{\"color\":\"#2a3f5f\"}},\"annotationdefaults\":{\"arrowcolor\":\"#2a3f5f\",\"arrowhead\":0,\"arrowwidth\":1},\"geo\":{\"bgcolor\":\"white\",\"landcolor\":\"#E5ECF6\",\"subunitcolor\":\"white\",\"showland\":true,\"showlakes\":true,\"lakecolor\":\"white\"},\"title\":{\"x\":0.05},\"mapbox\":{\"style\":\"light\"}}},\"shapes\":[{\"line\":{\"color\":\"green\",\"dash\":\"dot\",\"width\":3},\"type\":\"line\",\"x0\":80000000.0,\"x1\":80000000.0,\"xref\":\"x\",\"y0\":0,\"y1\":1,\"yref\":\"y domain\"},{\"line\":{\"color\":\"red\",\"dash\":\"dash\",\"width\":3},\"type\":\"line\",\"x0\":0,\"x1\":1,\"xref\":\"x domain\",\"y0\":153,\"y1\":153,\"yref\":\"y\"}],\"annotations\":[{\"align\":\"left\",\"arrowcolor\":\"#636363\",\"arrowhead\":1,\"arrowsize\":1,\"arrowwidth\":2,\"ax\":-20,\"ay\":-30,\"font\":{\"color\":\"purple\",\"family\":\"Sans Serif\",\"size\":12},\"showarrow\":false,\"text\":\"LLC Size Per Node: 80M\",\"x\":\"80e6\",\"y\":280,\"yanchor\":\"bottom\"},{\"align\":\"left\",\"arrowcolor\":\"#636363\",\"arrowhead\":1,\"arrowsize\":1,\"arrowwidth\":2,\"ax\":-20,\"ay\":-30,\"font\":{\"color\":\"orange\",\"family\":\"Sans Serif\",\"size\":12},\"showarrow\":false,\"text\":\"Max Bandwidth Per Node\",\"x\":\"130e6\",\"y\":155,\"yanchor\":\"bottom\"}],\"xaxis\":{\"title\":{\"text\":\"Dirc_Data_Mov\"},\"ticks\":\"outside\"},\"yaxis\":{\"title\":{\"text\":\"Bandwidth/Node\"},\"ticks\":\"outside\"},\"title\":{\"text\":\"\\\"Node 1 vs 2 vs 4 (32MPI 1OMP Per Node): Macro Fused vs NonFused (nonprobempi)\\\" Bandwidth Measurement\"}},                        {\"responsive\": true}                    ).then(function(){\n",
       "                            \n",
       "var gd = document.getElementById('1fac3016-9cb1-4803-9673-9edd0a8c3a0e');\n",
       "var x = new MutationObserver(function (mutations, observer) {{\n",
       "        var display = window.getComputedStyle(gd).display;\n",
       "        if (!display || display === 'none') {{\n",
       "            console.log([gd, 'removed!']);\n",
       "            Plotly.purge(gd);\n",
       "            observer.disconnect();\n",
       "        }}\n",
       "}});\n",
       "\n",
       "// Listen for the removal of the full notebook cells\n",
       "var notebookContainer = gd.closest('#notebook-container');\n",
       "if (notebookContainer) {{\n",
       "    x.observe(notebookContainer, {childList: true});\n",
       "}}\n",
       "\n",
       "// Listen for the clearing of the current output cell\n",
       "var outputEl = gd.closest('.output');\n",
       "if (outputEl) {{\n",
       "    x.observe(outputEl, {childList: true});\n",
       "}}\n",
       "\n",
       "                        })                };                });            </script>        </div>"
      ]
     },
     "metadata": {},
     "output_type": "display_data"
    }
   ],
   "source": [
    "fig = go.Figure() \n",
    "\n",
    "# NODE 1\n",
    "fig.add_trace(go.Scatter(x=(dfn1MacFusnonProb_32mpi_1omp.Dirc_Data_Mov*(dfn1MacFusnonProb_32mpi_1omp.MPI_size)), \n",
    "                         y=(dfn1MacFusnonProb_32mpi_1omp.BAND*(dfn1MacFusnonProb_32mpi_1omp.MPI_size)), \n",
    "                         mode='lines+markers', \n",
    "                         name='Node1: MacFusnonProb_32mpi_1omp',\n",
    "                         line=dict(color='magenta',width=3),\n",
    "                         marker=dict(symbol='hexagon',size=9, line=dict(color='yellow',width=1))))\n",
    "\n",
    "fig.add_trace(go.Scatter(x=(dfn1MacNonFusNonProb_32mpi_1omp.Dirc_Data_Mov*(dfn1MacNonFusNonProb_32mpi_1omp.MPI_size)), \n",
    "                         y=(dfn1MacNonFusNonProb_32mpi_1omp.BAND*(dfn1MacNonFusNonProb_32mpi_1omp.MPI_size)), \n",
    "                         mode='lines+markers', \n",
    "                         name='Node1: MacNonFusNonProb_32mpi_1omp',\n",
    "                         line=dict(color='royalblue',width=3),\n",
    "                         marker=dict(symbol='hexagon',size=9, line=dict(color='yellow',width=1))))\n",
    "\n",
    "\n",
    "# NODE 2\n",
    "fig.add_trace(go.Scatter(x=(dfn2MacFusnonProb_64mpi_1omp.Dirc_Data_Mov*(dfn2MacFusnonProb_64mpi_1omp.MPI_size/2)), \n",
    "                         y=(dfn2MacFusnonProb_64mpi_1omp.BAND*(dfn2MacFusnonProb_64mpi_1omp.MPI_size/2)), \n",
    "                         mode='lines+markers', \n",
    "                         name='Node2: MacFusnonProb_64mpi_1omp',\n",
    "                         line=dict(color='darkcyan',width=3),\n",
    "                         marker=dict(symbol='hexagon',size=9, line=dict(color='yellow',width=1))))\n",
    "\n",
    "fig.add_trace(go.Scatter(x=(dfn2MacNonFusNonProb_64mpi_1omp.Dirc_Data_Mov*(dfn2MacNonFusNonProb_64mpi_1omp.MPI_size/2)), \n",
    "                         y=(dfn2MacNonFusNonProb_64mpi_1omp.BAND*(dfn2MacNonFusNonProb_64mpi_1omp.MPI_size/2)), \n",
    "                         mode='lines+markers', \n",
    "                         name='Node2: MacNonFusNonProb_64mpi_1omp',\n",
    "                         line=dict(color='chocolate',width=3),\n",
    "                         marker=dict(symbol='hexagon',size=9, line=dict(color='yellow',width=1))))\n",
    "\n",
    "# NODE 4\n",
    "fig.add_trace(go.Scatter(x=(dfn4MacFusnonProb_128mpi_1omp.Dirc_Data_Mov*(dfn4MacFusnonProb_128mpi_1omp.MPI_size/4)), \n",
    "                         y=(dfn4MacFusnonProb_128mpi_1omp.BAND*(dfn4MacFusnonProb_128mpi_1omp.MPI_size/4)), \n",
    "                         mode='lines+markers', \n",
    "                         name='Node4: MacFusnonProb_128mpi_1omp',\n",
    "                         line=dict(color='cyan',width=3),\n",
    "                         marker=dict(symbol='hexagon',size=7,line=dict(color='purple',width=2))))\n",
    "\n",
    "fig.add_trace(go.Scatter(x=(dfn4MacNonFusNonProb_128mpi_1omp.Dirc_Data_Mov*(dfn4MacNonFusNonProb_128mpi_1omp.MPI_size/4)), \n",
    "                         y=(dfn4MacNonFusNonProb_128mpi_1omp.BAND*(dfn4MacNonFusNonProb_128mpi_1omp.MPI_size/4)), \n",
    "                         mode='lines+markers', \n",
    "                         name='Node4: MacNonFusNonProb_128mpi_1omp',\n",
    "                         line=dict(color='darkblue',width=3),\n",
    "                         marker=dict(symbol='hexagon',size=7,line=dict(color='purple',width=2))))\n",
    "\n",
    "\n",
    "# Adding vertical and horizontal lines \n",
    "fig.add_vline(x=80e6, line_width=3, line_dash=\"dot\", line_color=\"green\")\n",
    "fig.add_hline(y=153, line_width=3, line_dash=\"dash\", line_color=\"red\")\n",
    "\n",
    "# Add annotation with arrow\n",
    "fig.add_annotation(\n",
    "    x='80e6'\n",
    "    , y=280\n",
    "    , text=f'LLC Size Per Node: 80M'\n",
    "    , yanchor='bottom'\n",
    "    , showarrow=False\n",
    "    , arrowhead=1\n",
    "    , arrowsize=1\n",
    "    , arrowwidth=2\n",
    "    , arrowcolor=\"#636363\"\n",
    "    , ax=-20\n",
    "    , ay=-30\n",
    "    , font=dict(size=12, color=\"purple\", family=\"Sans Serif\")\n",
    "    , align=\"left\"\n",
    "    ,)\n",
    "\n",
    "fig.add_annotation(\n",
    "    x='130e6'\n",
    "    , y=155\n",
    "    , text=f'Max Bandwidth Per Node'\n",
    "    , yanchor='bottom'\n",
    "    , showarrow=False\n",
    "    , arrowhead=1\n",
    "    , arrowsize=1\n",
    "    , arrowwidth=2\n",
    "    , arrowcolor=\"#636363\"\n",
    "    , ax=-20\n",
    "    , ay=-30\n",
    "    , font=dict(size=12, color=\"orange\", family=\"Sans Serif\")\n",
    "    , align=\"left\"\n",
    "    ,)\n",
    "\n",
    "\n",
    "fig.update_layout(title='\"Node 1 vs 2 vs 4 (32MPI 1OMP Per Node): Macro Fused vs NonFused (nonprobempi)\" Bandwidth Measurement',\n",
    "                  xaxis_title='Dirc_Data_Mov', yaxis_title='Bandwidth/Node', \n",
    "                  xaxis=dict(ticks=\"outside\"),  \n",
    "                  yaxis=dict(ticks=\"outside\")) \n",
    "\n",
    "\n"
   ]
  },
  {
   "cell_type": "code",
   "execution_count": null,
   "id": "c1c0d943",
   "metadata": {},
   "outputs": [],
   "source": []
  },
  {
   "cell_type": "code",
   "execution_count": null,
   "id": "b4e46382",
   "metadata": {},
   "outputs": [],
   "source": []
  },
  {
   "cell_type": "code",
   "execution_count": null,
   "id": "63841b82",
   "metadata": {},
   "outputs": [],
   "source": []
  }
 ],
 "metadata": {
  "kernelspec": {
   "display_name": "Python 3 (ipykernel)",
   "language": "python",
   "name": "python3"
  },
  "language_info": {
   "codemirror_mode": {
    "name": "ipython",
    "version": 3
   },
   "file_extension": ".py",
   "mimetype": "text/x-python",
   "name": "python",
   "nbconvert_exporter": "python",
   "pygments_lexer": "ipython3",
   "version": "3.9.13"
  }
 },
 "nbformat": 4,
 "nbformat_minor": 5
}
