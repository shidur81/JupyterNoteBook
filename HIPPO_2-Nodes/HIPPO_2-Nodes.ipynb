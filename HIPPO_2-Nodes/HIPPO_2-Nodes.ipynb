{
 "cells": [
  {
   "cell_type": "code",
   "execution_count": 151,
   "id": "812a42d8",
   "metadata": {},
   "outputs": [
    {
     "data": {
      "text/html": [
       "        <script type=\"text/javascript\">\n",
       "        window.PlotlyConfig = {MathJaxConfig: 'local'};\n",
       "        if (window.MathJax && window.MathJax.Hub && window.MathJax.Hub.Config) {window.MathJax.Hub.Config({SVG: {font: \"STIX-Web\"}});}\n",
       "        if (typeof require !== 'undefined') {\n",
       "        require.undef(\"plotly\");\n",
       "        requirejs.config({\n",
       "            paths: {\n",
       "                'plotly': ['https://cdn.plot.ly/plotly-2.12.1.min']\n",
       "            }\n",
       "        });\n",
       "        require(['plotly'], function(Plotly) {\n",
       "            window._Plotly = Plotly;\n",
       "        });\n",
       "        }\n",
       "        </script>\n",
       "        "
      ]
     },
     "metadata": {},
     "output_type": "display_data"
    },
    {
     "data": {
      "text/html": [
       "        <script type=\"text/javascript\">\n",
       "        window.PlotlyConfig = {MathJaxConfig: 'local'};\n",
       "        if (window.MathJax && window.MathJax.Hub && window.MathJax.Hub.Config) {window.MathJax.Hub.Config({SVG: {font: \"STIX-Web\"}});}\n",
       "        if (typeof require !== 'undefined') {\n",
       "        require.undef(\"plotly\");\n",
       "        requirejs.config({\n",
       "            paths: {\n",
       "                'plotly': ['https://cdn.plot.ly/plotly-2.12.1.min']\n",
       "            }\n",
       "        });\n",
       "        require(['plotly'], function(Plotly) {\n",
       "            window._Plotly = Plotly;\n",
       "        });\n",
       "        }\n",
       "        </script>\n",
       "        "
      ]
     },
     "metadata": {},
     "output_type": "display_data"
    }
   ],
   "source": [
    "import pandas as pd\n",
    "import numpy as np\n",
    "import chart_studio.plotly as py\n",
    "import cufflinks as cf\n",
    "import seaborn as sns\n",
    "import plotly.express as px\n",
    "import plotly.graph_objects as go\n",
    "import collections\n",
    "from collections import OrderedDict\n",
    "%matplotlib inline\n",
    "from plotly.offline import download_plotlyjs, init_notebook_mode, plot, iplot\n",
    "init_notebook_mode(connected=True)\n",
    "cf.go_offline()"
   ]
  },
  {
   "cell_type": "code",
   "execution_count": 179,
   "id": "d0b425b0",
   "metadata": {},
   "outputs": [],
   "source": [
    "pd.set_option('display.max_columns', None)\n",
    "pd.set_option('display.max_rows', None)\n",
    "\n",
    "####### Macro Cases ######\n",
    "dfn2_macro_fused_probempi = pd.read_csv(\"n2_fused_macro_probmpi.csv\")\n",
    "dfn2_macro_fused_nonprobempi = pd.read_csv(\"n2_fused_macro_nonprobmpi.csv\")\n",
    "\n",
    "dfn2_macro_newgeo_probempi = pd.read_csv(\"n2_newgeo_macro_probmpi.csv\")\n",
    "dfn2_macro_newgeo_nonprobempi = pd.read_csv(\"n2_newgeo_macro_nonprobmpi.csv\")\n",
    "\n",
    "dfn2_macro_nonfused_probempi = pd.read_csv(\"n2_nonfused_macro_probmpi.csv\")\n",
    "dfn2_macro_nonfused_nonprobempi = pd.read_csv(\"n2_nonfused_macro_nonprobmpi.csv\")\n",
    "\n",
    "###### AVX Cases ######\n",
    "dfn2_avx_fused_probmpi = pd.read_csv(\"n2_fused_avx_probmpi.csv\")\n",
    "dfn2_avx_fused_nonprobmpi = pd.read_csv(\"n2_fused_avx_nonprobmpi.csv\")\n",
    "\n",
    "dfn2_avx_newgeo_probempi = pd.read_csv(\"n2_newgeo_avx_probmpi.csv\")\n",
    "dfn2_avx_newgeo_nonprobempi = pd.read_csv(\"n2_newgeo_avx_nonprobmpi.csv\")\n",
    "\n",
    "dfn2_avx_nonfused_probempi = pd.read_csv(\"n2_nonfused_avx_probmpi.csv\")\n",
    "dfn2_avx_nonfused_nonprobempi = pd.read_csv(\"n2_nonfused_avx_nonprobmpi.csv\")\n",
    "\n",
    "####### VECT Cases ######\n",
    "dfn2_vect_fused_probmpi = pd.read_csv(\"n2_fused_vect_probmpi.csv\")\n",
    "dfn2_vect_fused_nonprobmpi = pd.read_csv(\"n2_fused_vect_nonprobmpi.csv\")\n",
    "\n",
    "dfn2_vect_newgeo_probempi = pd.read_csv(\"n2_newgeo_vect_probmpi.csv\")\n",
    "dfn2_vect_newgeo_nonprobempi = pd.read_csv(\"n2_newgeo_vect_nonprobmpi.csv\")\n",
    "\n",
    "dfn2_vect_nonfused_probempi = pd.read_csv(\"n2_nonfused_vect_probmpi.csv\")\n",
    "dfn2_vect_nonfused_nonprobempi = pd.read_csv(\"n2_nonfused_vect_nonprobmpi.csv\")\n",
    "\n"
   ]
  },
  {
   "cell_type": "markdown",
   "id": "1c46a2dc",
   "metadata": {},
   "source": [
    "# HIPPO MACRO CASES"
   ]
  },
  {
   "cell_type": "markdown",
   "id": "bae84057",
   "metadata": {},
   "source": [
    "## 1) Fused_Macro_Probempi"
   ]
  },
  {
   "cell_type": "markdown",
   "id": "bd6f4e6e",
   "metadata": {},
   "source": [
    "### Adding Columns"
   ]
  },
  {
   "cell_type": "code",
   "execution_count": 62,
   "id": "ecce8b94",
   "metadata": {},
   "outputs": [],
   "source": [
    "dfn2_macro_fused_probempi[\"N_Nodes\"] = 2\n",
    "dfn2_macro_fused_probempi['NPX'] = (dfn2_macro_fused_probempi.GLB_X//dfn2_macro_fused_probempi.LOC_X)\n",
    "dfn2_macro_fused_probempi['NPY'] = (dfn2_macro_fused_probempi.GLB_Y//dfn2_macro_fused_probempi.LOC_Y)\n",
    "dfn2_macro_fused_probempi['NPZ'] = (dfn2_macro_fused_probempi.GLB_Z//dfn2_macro_fused_probempi.LOC_Z)\n",
    "dfn2_macro_fused_probempi['NPT'] = (dfn2_macro_fused_probempi.GLB_T//dfn2_macro_fused_probempi.LOC_T)\n",
    "dfn2_macro_fused_probempi[\"Total_proc\"] = dfn2_macro_fused_probempi[\"omp_thrd\"]* dfn2_macro_fused_probempi.MPI_size\n",
    "# dfn2_macro_fused_probempi.columns"
   ]
  },
  {
   "cell_type": "markdown",
   "id": "b99bc203",
   "metadata": {},
   "source": [
    "### Data Summary "
   ]
  },
  {
   "cell_type": "code",
   "execution_count": 63,
   "id": "a59ac135",
   "metadata": {},
   "outputs": [
    {
     "data": {
      "text/html": [
       "<div>\n",
       "<style scoped>\n",
       "    .dataframe tbody tr th:only-of-type {\n",
       "        vertical-align: middle;\n",
       "    }\n",
       "\n",
       "    .dataframe tbody tr th {\n",
       "        vertical-align: top;\n",
       "    }\n",
       "\n",
       "    .dataframe thead th {\n",
       "        text-align: right;\n",
       "    }\n",
       "</style>\n",
       "<table border=\"1\" class=\"dataframe\">\n",
       "  <thead>\n",
       "    <tr style=\"text-align: right;\">\n",
       "      <th></th>\n",
       "      <th>MPI_size</th>\n",
       "      <th>omp_thrd</th>\n",
       "      <th>NPT</th>\n",
       "      <th>NPX</th>\n",
       "      <th>NPY</th>\n",
       "      <th>NPZ</th>\n",
       "      <th>Total_proc</th>\n",
       "      <th>size</th>\n",
       "    </tr>\n",
       "  </thead>\n",
       "  <tbody>\n",
       "    <tr>\n",
       "      <th>0</th>\n",
       "      <td>16</td>\n",
       "      <td>16</td>\n",
       "      <td>2</td>\n",
       "      <td>2</td>\n",
       "      <td>2</td>\n",
       "      <td>2</td>\n",
       "      <td>256</td>\n",
       "      <td>140</td>\n",
       "    </tr>\n",
       "    <tr>\n",
       "      <th>1</th>\n",
       "      <td>32</td>\n",
       "      <td>8</td>\n",
       "      <td>4</td>\n",
       "      <td>2</td>\n",
       "      <td>2</td>\n",
       "      <td>2</td>\n",
       "      <td>256</td>\n",
       "      <td>70</td>\n",
       "    </tr>\n",
       "    <tr>\n",
       "      <th>2</th>\n",
       "      <td>64</td>\n",
       "      <td>4</td>\n",
       "      <td>8</td>\n",
       "      <td>2</td>\n",
       "      <td>2</td>\n",
       "      <td>2</td>\n",
       "      <td>256</td>\n",
       "      <td>35</td>\n",
       "    </tr>\n",
       "    <tr>\n",
       "      <th>3</th>\n",
       "      <td>128</td>\n",
       "      <td>2</td>\n",
       "      <td>16</td>\n",
       "      <td>2</td>\n",
       "      <td>2</td>\n",
       "      <td>2</td>\n",
       "      <td>256</td>\n",
       "      <td>17</td>\n",
       "    </tr>\n",
       "    <tr>\n",
       "      <th>4</th>\n",
       "      <td>248</td>\n",
       "      <td>1</td>\n",
       "      <td>31</td>\n",
       "      <td>2</td>\n",
       "      <td>2</td>\n",
       "      <td>2</td>\n",
       "      <td>248</td>\n",
       "      <td>4</td>\n",
       "    </tr>\n",
       "    <tr>\n",
       "      <th>5</th>\n",
       "      <td>256</td>\n",
       "      <td>1</td>\n",
       "      <td>32</td>\n",
       "      <td>2</td>\n",
       "      <td>2</td>\n",
       "      <td>2</td>\n",
       "      <td>256</td>\n",
       "      <td>7</td>\n",
       "    </tr>\n",
       "  </tbody>\n",
       "</table>\n",
       "</div>"
      ],
      "text/plain": [
       "   MPI_size  omp_thrd  NPT  NPX  NPY  NPZ  Total_proc  size\n",
       "0        16        16    2    2    2    2         256   140\n",
       "1        32         8    4    2    2    2         256    70\n",
       "2        64         4    8    2    2    2         256    35\n",
       "3       128         2   16    2    2    2         256    17\n",
       "4       248         1   31    2    2    2         248     4\n",
       "5       256         1   32    2    2    2         256     7"
      ]
     },
     "execution_count": 63,
     "metadata": {},
     "output_type": "execute_result"
    }
   ],
   "source": [
    "dfn2_macro_fused_probempi_summary = dfn2_macro_fused_probempi.groupby(['MPI_size','omp_thrd','NPT','NPX', 'NPY', 'NPZ',\"Total_proc\"]).size().reset_index(name = 'size')\n",
    "dfn2_macro_fused_probempi_summary"
   ]
  },
  {
   "cell_type": "markdown",
   "id": "140fa7ec",
   "metadata": {},
   "source": [
    "### Cases Setup"
   ]
  },
  {
   "cell_type": "code",
   "execution_count": 64,
   "id": "b386f9e0",
   "metadata": {},
   "outputs": [],
   "source": [
    "dfn2MacFusProb_16mpi_16omp = dfn2_macro_fused_probempi[(dfn2_macro_fused_probempi.omp_thrd == 16) & (dfn2_macro_fused_probempi.GLB_T/dfn2_macro_fused_probempi.LOC_T == 2) & (dfn2_macro_fused_probempi.GLB_X/dfn2_macro_fused_probempi.LOC_X == 2) & (dfn2_macro_fused_probempi.GLB_Y/dfn2_macro_fused_probempi.LOC_Y == 2)& (dfn2_macro_fused_probempi.GLB_Z/dfn2_macro_fused_probempi.LOC_Z == 2)]\n",
    "dfn2MacFusProb_32mpi_8omp = dfn2_macro_fused_probempi[(dfn2_macro_fused_probempi.omp_thrd == 8) & (dfn2_macro_fused_probempi.GLB_T/dfn2_macro_fused_probempi.LOC_T == 4) & (dfn2_macro_fused_probempi.GLB_X/dfn2_macro_fused_probempi.LOC_X == 2) & (dfn2_macro_fused_probempi.GLB_Y/dfn2_macro_fused_probempi.LOC_Y == 2)& (dfn2_macro_fused_probempi.GLB_Z/dfn2_macro_fused_probempi.LOC_Z == 2)]\n",
    "dfn2MacFusProb_64mpi_4omp = dfn2_macro_fused_probempi[(dfn2_macro_fused_probempi.omp_thrd == 4) & (dfn2_macro_fused_probempi.GLB_T/dfn2_macro_fused_probempi.LOC_T == 8) & (dfn2_macro_fused_probempi.GLB_X/dfn2_macro_fused_probempi.LOC_X == 2) & (dfn2_macro_fused_probempi.GLB_Y/dfn2_macro_fused_probempi.LOC_Y == 2)& (dfn2_macro_fused_probempi.GLB_Z/dfn2_macro_fused_probempi.LOC_Z == 2)]\n",
    "dfn2MacFusProb_128mpi_2omp = dfn2_macro_fused_probempi[(dfn2_macro_fused_probempi.omp_thrd == 2) & (dfn2_macro_fused_probempi.GLB_T/dfn2_macro_fused_probempi.LOC_T == 16) & (dfn2_macro_fused_probempi.GLB_X/dfn2_macro_fused_probempi.LOC_X == 2) & (dfn2_macro_fused_probempi.GLB_Y/dfn2_macro_fused_probempi.LOC_Y == 2)& (dfn2_macro_fused_probempi.GLB_Z/dfn2_macro_fused_probempi.LOC_Z == 2)]\n",
    "dfn2MacFusProb_256mpi_1omp = dfn2_macro_fused_probempi[(dfn2_macro_fused_probempi.omp_thrd == 1) & (dfn2_macro_fused_probempi.GLB_T/dfn2_macro_fused_probempi.LOC_T == 32) & (dfn2_macro_fused_probempi.GLB_X/dfn2_macro_fused_probempi.LOC_X == 2) & (dfn2_macro_fused_probempi.GLB_Y/dfn2_macro_fused_probempi.LOC_Y == 2)& (dfn2_macro_fused_probempi.GLB_Z/dfn2_macro_fused_probempi.LOC_Z == 2)]\n",
    "\n"
   ]
  },
  {
   "cell_type": "markdown",
   "id": "51179ce0",
   "metadata": {},
   "source": [
    "## 2) Fused_Macro_nonprobempi"
   ]
  },
  {
   "cell_type": "markdown",
   "id": "347a37f8",
   "metadata": {},
   "source": [
    "### Adding Columns"
   ]
  },
  {
   "cell_type": "code",
   "execution_count": 65,
   "id": "f4360ec2",
   "metadata": {},
   "outputs": [],
   "source": [
    "dfn2_macro_fused_nonprobempi[\"N_Nodes\"] = 2\n",
    "dfn2_macro_fused_nonprobempi['NPX'] = (dfn2_macro_fused_nonprobempi.GLB_X//dfn2_macro_fused_nonprobempi.LOC_X)\n",
    "dfn2_macro_fused_nonprobempi['NPY'] = (dfn2_macro_fused_nonprobempi.GLB_Y//dfn2_macro_fused_nonprobempi.LOC_Y)\n",
    "dfn2_macro_fused_nonprobempi['NPZ'] = (dfn2_macro_fused_nonprobempi.GLB_Z//dfn2_macro_fused_nonprobempi.LOC_Z)\n",
    "dfn2_macro_fused_nonprobempi['NPT'] = (dfn2_macro_fused_nonprobempi.GLB_T//dfn2_macro_fused_nonprobempi.LOC_T)\n",
    "dfn2_macro_fused_nonprobempi[\"Total_proc\"] = dfn2_macro_fused_nonprobempi[\"omp_thrd\"]* dfn2_macro_fused_nonprobempi.MPI_size\n",
    "# dfn2_macro_fused_nonprobempi.columns"
   ]
  },
  {
   "cell_type": "markdown",
   "id": "05f9bfee",
   "metadata": {},
   "source": [
    "### Data Summary"
   ]
  },
  {
   "cell_type": "code",
   "execution_count": 66,
   "id": "fa30ad03",
   "metadata": {},
   "outputs": [
    {
     "data": {
      "text/html": [
       "<div>\n",
       "<style scoped>\n",
       "    .dataframe tbody tr th:only-of-type {\n",
       "        vertical-align: middle;\n",
       "    }\n",
       "\n",
       "    .dataframe tbody tr th {\n",
       "        vertical-align: top;\n",
       "    }\n",
       "\n",
       "    .dataframe thead th {\n",
       "        text-align: right;\n",
       "    }\n",
       "</style>\n",
       "<table border=\"1\" class=\"dataframe\">\n",
       "  <thead>\n",
       "    <tr style=\"text-align: right;\">\n",
       "      <th></th>\n",
       "      <th>MPI_size</th>\n",
       "      <th>omp_thrd</th>\n",
       "      <th>NPT</th>\n",
       "      <th>NPX</th>\n",
       "      <th>NPY</th>\n",
       "      <th>NPZ</th>\n",
       "      <th>Total_proc</th>\n",
       "      <th>size</th>\n",
       "    </tr>\n",
       "  </thead>\n",
       "  <tbody>\n",
       "    <tr>\n",
       "      <th>0</th>\n",
       "      <td>16</td>\n",
       "      <td>16</td>\n",
       "      <td>2</td>\n",
       "      <td>2</td>\n",
       "      <td>2</td>\n",
       "      <td>2</td>\n",
       "      <td>256</td>\n",
       "      <td>138</td>\n",
       "    </tr>\n",
       "    <tr>\n",
       "      <th>1</th>\n",
       "      <td>32</td>\n",
       "      <td>8</td>\n",
       "      <td>4</td>\n",
       "      <td>2</td>\n",
       "      <td>2</td>\n",
       "      <td>2</td>\n",
       "      <td>256</td>\n",
       "      <td>70</td>\n",
       "    </tr>\n",
       "    <tr>\n",
       "      <th>2</th>\n",
       "      <td>64</td>\n",
       "      <td>4</td>\n",
       "      <td>8</td>\n",
       "      <td>2</td>\n",
       "      <td>2</td>\n",
       "      <td>2</td>\n",
       "      <td>256</td>\n",
       "      <td>35</td>\n",
       "    </tr>\n",
       "    <tr>\n",
       "      <th>3</th>\n",
       "      <td>128</td>\n",
       "      <td>2</td>\n",
       "      <td>16</td>\n",
       "      <td>2</td>\n",
       "      <td>2</td>\n",
       "      <td>2</td>\n",
       "      <td>256</td>\n",
       "      <td>17</td>\n",
       "    </tr>\n",
       "    <tr>\n",
       "      <th>4</th>\n",
       "      <td>248</td>\n",
       "      <td>1</td>\n",
       "      <td>31</td>\n",
       "      <td>2</td>\n",
       "      <td>2</td>\n",
       "      <td>2</td>\n",
       "      <td>248</td>\n",
       "      <td>4</td>\n",
       "    </tr>\n",
       "    <tr>\n",
       "      <th>5</th>\n",
       "      <td>256</td>\n",
       "      <td>1</td>\n",
       "      <td>32</td>\n",
       "      <td>2</td>\n",
       "      <td>2</td>\n",
       "      <td>2</td>\n",
       "      <td>256</td>\n",
       "      <td>7</td>\n",
       "    </tr>\n",
       "  </tbody>\n",
       "</table>\n",
       "</div>"
      ],
      "text/plain": [
       "   MPI_size  omp_thrd  NPT  NPX  NPY  NPZ  Total_proc  size\n",
       "0        16        16    2    2    2    2         256   138\n",
       "1        32         8    4    2    2    2         256    70\n",
       "2        64         4    8    2    2    2         256    35\n",
       "3       128         2   16    2    2    2         256    17\n",
       "4       248         1   31    2    2    2         248     4\n",
       "5       256         1   32    2    2    2         256     7"
      ]
     },
     "execution_count": 66,
     "metadata": {},
     "output_type": "execute_result"
    }
   ],
   "source": [
    "dfn2_macro_fused_nonprobempi_summary =dfn2_macro_fused_nonprobempi.groupby(['MPI_size','omp_thrd','NPT','NPX', 'NPY', 'NPZ',\"Total_proc\"]).size().reset_index(name = 'size')\n",
    "dfn2_macro_fused_nonprobempi_summary"
   ]
  },
  {
   "cell_type": "markdown",
   "id": "8d5ab105",
   "metadata": {},
   "source": [
    "### Cases Setup "
   ]
  },
  {
   "cell_type": "code",
   "execution_count": 67,
   "id": "b044b085",
   "metadata": {},
   "outputs": [],
   "source": [
    "dfn2MacFusNonProb_16mpi_16omp = dfn2_macro_fused_nonprobempi[(dfn2_macro_fused_nonprobempi.omp_thrd == 16) & (dfn2_macro_fused_nonprobempi.GLB_T/dfn2_macro_fused_nonprobempi.LOC_T == 2) & (dfn2_macro_fused_nonprobempi.GLB_X/dfn2_macro_fused_nonprobempi.LOC_X == 2) & (dfn2_macro_fused_nonprobempi.GLB_Y/dfn2_macro_fused_nonprobempi.LOC_Y == 2)& (dfn2_macro_fused_nonprobempi.GLB_Z/dfn2_macro_fused_nonprobempi.LOC_Z == 2)]\n",
    "dfn2MacFusNonProb_32mpi_8omp = dfn2_macro_fused_nonprobempi[(dfn2_macro_fused_nonprobempi.omp_thrd == 8) & (dfn2_macro_fused_nonprobempi.GLB_T/dfn2_macro_fused_nonprobempi.LOC_T == 4) & (dfn2_macro_fused_nonprobempi.GLB_X/dfn2_macro_fused_nonprobempi.LOC_X == 2) & (dfn2_macro_fused_nonprobempi.GLB_Y/dfn2_macro_fused_nonprobempi.LOC_Y == 2)& (dfn2_macro_fused_nonprobempi.GLB_Z/dfn2_macro_fused_nonprobempi.LOC_Z == 2)]\n",
    "dfn2MacFusnonProb_64mpi_4omp = dfn2_macro_fused_nonprobempi[(dfn2_macro_fused_nonprobempi.omp_thrd == 4) & (dfn2_macro_fused_nonprobempi.GLB_T/dfn2_macro_fused_nonprobempi.LOC_T == 8) & (dfn2_macro_fused_nonprobempi.GLB_X/dfn2_macro_fused_nonprobempi.LOC_X == 2) & (dfn2_macro_fused_nonprobempi.GLB_Y/dfn2_macro_fused_nonprobempi.LOC_Y == 2)& (dfn2_macro_fused_nonprobempi.GLB_Z/dfn2_macro_fused_nonprobempi.LOC_Z == 2)]\n",
    "dfn2MacFusnonProb_128mpi_2omp = dfn2_macro_fused_nonprobempi[(dfn2_macro_fused_nonprobempi.omp_thrd == 2) & (dfn2_macro_fused_nonprobempi.GLB_T/dfn2_macro_fused_nonprobempi.LOC_T == 16) & (dfn2_macro_fused_nonprobempi.GLB_X/dfn2_macro_fused_nonprobempi.LOC_X == 2) & (dfn2_macro_fused_nonprobempi.GLB_Y/dfn2_macro_fused_nonprobempi.LOC_Y == 2)& (dfn2_macro_fused_nonprobempi.GLB_Z/dfn2_macro_fused_nonprobempi.LOC_Z == 2)]\n",
    "dfn2MacFusnonProb_256mpi_1omp = dfn2_macro_fused_nonprobempi[(dfn2_macro_fused_nonprobempi.omp_thrd == 1) & (dfn2_macro_fused_nonprobempi.GLB_T/dfn2_macro_fused_nonprobempi.LOC_T == 32) & (dfn2_macro_fused_nonprobempi.GLB_X/dfn2_macro_fused_nonprobempi.LOC_X == 2) & (dfn2_macro_fused_nonprobempi.GLB_Y/dfn2_macro_fused_nonprobempi.LOC_Y == 2)& (dfn2_macro_fused_nonprobempi.GLB_Z/dfn2_macro_fused_nonprobempi.LOC_Z == 2)]\n"
   ]
  },
  {
   "cell_type": "code",
   "execution_count": null,
   "id": "57680d4c",
   "metadata": {},
   "outputs": [],
   "source": []
  },
  {
   "cell_type": "markdown",
   "id": "6a476027",
   "metadata": {},
   "source": [
    "## GFLOPS - Fused Macro: Probempi vs NonProbempi"
   ]
  },
  {
   "cell_type": "code",
   "execution_count": 68,
   "id": "abc5e16d",
   "metadata": {},
   "outputs": [
    {
     "data": {
      "application/vnd.plotly.v1+json": {
       "config": {
        "plotlyServerURL": "https://plot.ly"
       },
       "data": [
        {
         "line": {
          "color": "magenta",
          "width": 3
         },
         "marker": {
          "line": {
           "color": "yellow",
           "width": 1
          },
          "size": 9,
          "symbol": "hexagon"
         },
         "mode": "lines+markers",
         "name": "MacFusnonProb_256mpi_1omp",
         "type": "scatter",
         "x": [
          1572864000,
          1966080000,
          2359296000,
          2752512000,
          3145728000,
          3538944000,
          3932160000
         ],
         "y": [
          202.89024,
          171.27808,
          171.168,
          168.16128,
          162.4,
          159.05536,
          154.06592
         ]
        },
        {
         "line": {
          "color": "olive",
          "width": 3
         },
         "marker": {
          "line": {
           "color": "yellow",
           "width": 1
          },
          "size": 9,
          "symbol": "hexagon"
         },
         "mode": "lines+markers",
         "name": "MacFusProb_256mpi_1omp",
         "type": "scatter",
         "x": [
          1572864000,
          1966080000,
          2359296000,
          2752512000,
          3145728000,
          3538944000,
          3932160000
         ],
         "y": [
          216.13568,
          192.79872,
          186.03904,
          171.36768,
          168.40576,
          160.84224,
          159.47008
         ]
        },
        {
         "line": {
          "color": "sandybrown",
          "width": 3
         },
         "marker": {
          "line": {
           "color": "MediumPurple",
           "width": 2
          },
          "size": 5,
          "symbol": "diamond"
         },
         "mode": "lines+markers",
         "name": "MacFusnonProb_128mpi_2omp",
         "type": "scatter",
         "x": [
          786432000,
          983040000,
          1179648000,
          1376256000,
          1572864000,
          1769472000,
          1966080000,
          2162688000,
          2359296000,
          2555904000,
          2752512000,
          2949120000,
          3145728000,
          3342336000,
          3538944000,
          3735552000,
          3932160000
         ],
         "y": [
          215.35744,
          242.58496,
          242.96704,
          232.76288,
          225.04256,
          210.90112,
          201.16928,
          197.85088,
          196.00576,
          185.08736,
          169.73952,
          179.34144,
          172.7744,
          171.78496,
          167.50016,
          162.35584,
          164.57984
         ]
        },
        {
         "line": {
          "color": "royalblue",
          "width": 3
         },
         "marker": {
          "line": {
           "color": "MediumPurple",
           "width": 2
          },
          "size": 5,
          "symbol": "diamond"
         },
         "mode": "lines+markers",
         "name": "MacFusProb_128mpi_2omp",
         "type": "scatter",
         "x": [
          786432000,
          983040000,
          1179648000,
          1376256000,
          1572864000,
          1769472000,
          1966080000,
          2162688000,
          2359296000,
          2555904000,
          2752512000,
          2949120000,
          3145728000,
          3342336000,
          3538944000,
          3735552000,
          3932160000
         ],
         "y": [
          245.54368,
          249.52576,
          242.02112,
          239.62432,
          226.08384,
          224.9184,
          209.92256,
          205.76704,
          194.2624,
          193.78176,
          183.02912,
          172.81152,
          162.32704,
          175.38176,
          167.34848,
          168.944,
          162.8992
         ]
        },
        {
         "line": {
          "color": "cyan",
          "width": 3
         },
         "marker": {
          "line": {
           "color": "Purple",
           "width": 2
          },
          "size": 7,
          "symbol": "circle"
         },
         "mode": "lines+markers",
         "name": "MacFusnonProb_64mpi_4omp",
         "type": "scatter",
         "x": [
          589824000,
          688128000,
          786432000,
          884736000,
          983040000,
          1081344000,
          1179648000,
          1277952000,
          1376256000,
          1474560000,
          1572864000,
          1671168000,
          1769472000,
          1867776000,
          1966080000,
          2064384000,
          2162688000,
          2260992000,
          2359296000,
          2457600000,
          2555904000,
          2654208000,
          2752512000,
          2850816000,
          2949120000,
          3047424000,
          3244032000,
          3145728000,
          3342336000,
          3538944000,
          3440640000,
          3637248000,
          3735552000,
          3833856000,
          3932160000
         ],
         "y": [
          183.70624,
          189.84576,
          197.13504,
          207.75136,
          183.90848,
          185.6128,
          242.01856,
          241.40768,
          232.26816,
          228.13152,
          228.04768,
          218.93088,
          213.94816,
          211.87424,
          204.21408,
          198.67232,
          198.28352,
          194.864,
          188.98304,
          189.3104,
          181.1104,
          177.28448,
          182.26688,
          179.51552,
          175.83808,
          164.33056,
          169.68736,
          171.28224,
          171.82912,
          163.78208,
          170.0176,
          166.1136,
          164.05888,
          163.52384,
          161.85088
         ]
        },
        {
         "line": {
          "color": "darkblue",
          "width": 3
         },
         "marker": {
          "line": {
           "color": "tomato",
           "width": 2
          },
          "size": 7,
          "symbol": "circle"
         },
         "mode": "lines+markers",
         "name": "MacFusProb_64mpi_4omp",
         "type": "scatter",
         "x": [
          589824000,
          688128000,
          786432000,
          884736000,
          983040000,
          1081344000,
          1179648000,
          1277952000,
          1376256000,
          1474560000,
          1572864000,
          1671168000,
          1769472000,
          1867776000,
          1966080000,
          2064384000,
          2162688000,
          2260992000,
          2359296000,
          2457600000,
          2555904000,
          2654208000,
          2752512000,
          2850816000,
          2949120000,
          3047424000,
          3145728000,
          3244032000,
          3342336000,
          3440640000,
          3538944000,
          3637248000,
          3735552000,
          3833856000,
          3932160000
         ],
         "y": [
          213.6752,
          216.13088,
          226.25568,
          231.14336,
          230.36288,
          218.75936,
          242.704,
          244.89696,
          233.35808,
          237.78112,
          221.8304,
          225.71744,
          212.43072,
          196.22208,
          202.98144,
          207.11712,
          196.98016,
          199.6368,
          189.94816,
          190.84384,
          184.33952,
          187.61152,
          179.51264,
          181.61376,
          174.21824,
          177.53472,
          170.3792,
          173.79776,
          166.64608,
          169.63584,
          160.16768,
          168.00256,
          161.29504,
          161.21536,
          159.28096
         ]
        },
        {
         "line": {
          "color": "red",
          "width": 3
         },
         "marker": {
          "line": {
           "color": "red",
           "width": 2
          },
          "size": 5,
          "symbol": "circle"
         },
         "mode": "lines+markers",
         "name": "MacFusNonProb_32mpi_8omp",
         "type": "scatter",
         "x": [
          540672000,
          589824000,
          638976000,
          688128000,
          737280000,
          786432000,
          835584000,
          884736000,
          933888000,
          983040000,
          1032192000,
          1081344000,
          1130496000,
          1179648000,
          1228800000,
          1277952000,
          1327104000,
          1376256000,
          1425408000,
          1474560000,
          1523712000,
          1572864000,
          1622016000,
          1671168000,
          1720320000,
          1769472000,
          1818624000,
          1867776000,
          1916928000,
          1966080000,
          2015232000,
          2064384000,
          2162688000,
          2113536000,
          2211840000,
          2260992000,
          2310144000,
          2359296000,
          2408448000,
          2457600000,
          2506752000,
          2605056000,
          2555904000,
          2654208000,
          2703360000,
          2752512000,
          2801664000,
          2850816000,
          2899968000,
          2949120000,
          2998272000,
          3047424000,
          3145728000,
          3096576000,
          3194880000,
          3244032000,
          3293184000,
          3342336000,
          3391488000,
          3440640000,
          3489792000,
          3538944000,
          3588096000,
          3637248000,
          3686400000,
          3735552000,
          3784704000,
          3833856000,
          3883008000,
          3932160000
         ],
         "y": [
          177.2624,
          178.7792,
          179.5344,
          190.8336,
          198.1072,
          197.7216,
          195.4288,
          209.76,
          207.3056,
          211.5952,
          212.8976,
          207.3328,
          204.8528,
          194.0448,
          218.9808,
          231.8064,
          226.96,
          221.3712,
          202.6704,
          222.1712,
          215.4672,
          213.5216,
          194.5024,
          210.2016,
          183.4512,
          207.4448,
          202.5328,
          192.144,
          199.6896,
          195.5648,
          191.6112,
          192.368,
          185.2016,
          189.9696,
          187.48,
          185.3872,
          183.7712,
          183.6992,
          178.7248,
          180.1376,
          174.8,
          174.2704,
          173.2768,
          172.8112,
          150.52368,
          161.064,
          168.0464,
          167.5936,
          166.096,
          168.0944,
          164.1904,
          164.0704,
          164.392,
          164.8624,
          161.3152,
          159.14192,
          158.54784,
          159.0928,
          157.46896,
          158.908,
          156.82048,
          158.98144,
          150.08112,
          152.47232,
          155.11616,
          153.80016,
          154.62752,
          154.12224,
          152.0136,
          151.56256
         ]
        },
        {
         "line": {
          "color": "green",
          "width": 3
         },
         "marker": {
          "line": {
           "color": "green",
           "width": 2
          },
          "size": 5,
          "symbol": "circle"
         },
         "mode": "lines+markers",
         "name": "MacFusProb_32mpi_8omp",
         "type": "scatter",
         "x": [
          540672000,
          589824000,
          638976000,
          688128000,
          737280000,
          786432000,
          835584000,
          884736000,
          933888000,
          1032192000,
          983040000,
          1081344000,
          1130496000,
          1179648000,
          1228800000,
          1277952000,
          1327104000,
          1376256000,
          1425408000,
          1474560000,
          1523712000,
          1572864000,
          1622016000,
          1671168000,
          1720320000,
          1769472000,
          1818624000,
          1867776000,
          1916928000,
          1966080000,
          2015232000,
          2064384000,
          2113536000,
          2162688000,
          2211840000,
          2260992000,
          2310144000,
          2359296000,
          2408448000,
          2457600000,
          2506752000,
          2555904000,
          2605056000,
          2654208000,
          2703360000,
          2752512000,
          2801664000,
          2850816000,
          2899968000,
          2949120000,
          2998272000,
          3047424000,
          3096576000,
          3145728000,
          3194880000,
          3244032000,
          3293184000,
          3342336000,
          3391488000,
          3440640000,
          3489792000,
          3538944000,
          3588096000,
          3637248000,
          3686400000,
          3735552000,
          3784704000,
          3833856000,
          3883008000,
          3932160000
         ],
         "y": [
          157.9208,
          196.5392,
          194.752,
          202.488,
          212.0816,
          208.8144,
          208.9872,
          220.4064,
          228.616,
          215.8208,
          222.3488,
          223.1392,
          208.5664,
          203.24,
          214.0544,
          201.3024,
          203.432,
          226.7504,
          217.048,
          215.5664,
          209.08,
          212.872,
          200.52,
          209.2352,
          199.6576,
          198.9024,
          195.7184,
          198.704,
          188.3104,
          192.3984,
          186.4096,
          190.4416,
          181.7024,
          185.84,
          179.368,
          181.4816,
          164.264,
          179.1456,
          172.6784,
          176.3152,
          166.5856,
          174.3072,
          165.1312,
          169.928,
          164.1456,
          166.6624,
          151.77808,
          165.8,
          158.95712,
          164.7584,
          158.66576,
          163.9216,
          156.78912,
          163.5472,
          156.5016,
          159.9888,
          154.79136,
          159.15552,
          153.60816,
          153.96352,
          153.13696,
          154.368,
          151.19776,
          154.48224,
          149.86752,
          153.8512,
          149.43456,
          153.07488,
          147.43152,
          150.57808
         ]
        },
        {
         "line": {
          "color": "blue",
          "width": 3
         },
         "marker": {
          "line": {
           "color": "chocolate",
           "width": 2
          },
          "size": 4,
          "symbol": "triangle-up"
         },
         "mode": "lines+markers",
         "name": "MacFusNonProb_16mpi_16omp",
         "type": "scatter",
         "x": [
          516096000,
          540672000,
          565248000,
          614400000,
          589824000,
          638976000,
          663552000,
          688128000,
          712704000,
          737280000,
          761856000,
          786432000,
          811008000,
          835584000,
          860160000,
          884736000,
          909312000,
          933888000,
          958464000,
          983040000,
          1007616000,
          1056768000,
          1032192000,
          1081344000,
          1105920000,
          1130496000,
          1155072000,
          1179648000,
          1204224000,
          1228800000,
          1253376000,
          1277952000,
          1302528000,
          1327104000,
          1351680000,
          1376256000,
          1400832000,
          1425408000,
          1449984000,
          1474560000,
          1499136000,
          1523712000,
          1572864000,
          1548288000,
          1597440000,
          1622016000,
          1646592000,
          1671168000,
          1695744000,
          1720320000,
          1744896000,
          1769472000,
          1794048000,
          1818624000,
          1843200000,
          1867776000,
          1892352000,
          1916928000,
          1941504000,
          1966080000,
          1990656000,
          2015232000,
          2039808000,
          2064384000,
          2088960000,
          2138112000,
          2162688000,
          2187264000,
          2211840000,
          2236416000,
          2260992000,
          2285568000,
          2310144000,
          2334720000,
          2359296000,
          2383872000,
          2408448000,
          2433024000,
          2457600000,
          2482176000,
          2506752000,
          2531328000,
          2555904000,
          2580480000,
          2605056000,
          2629632000,
          2654208000,
          2703360000,
          2727936000,
          2752512000,
          2777088000,
          2801664000,
          2826240000,
          2850816000,
          2875392000,
          2899968000,
          2924544000,
          2949120000,
          2973696000,
          2998272000,
          3022848000,
          3047424000,
          3072000000,
          3096576000,
          3121152000,
          3145728000,
          3194880000,
          3170304000,
          3219456000,
          3244032000,
          3268608000,
          3293184000,
          3317760000,
          3342336000,
          3366912000,
          3391488000,
          3416064000,
          3440640000,
          3465216000,
          3489792000,
          3514368000,
          3538944000,
          3563520000,
          3588096000,
          3612672000,
          3637248000,
          3661824000,
          3686400000,
          3710976000,
          3735552000,
          3760128000,
          3784704000,
          3809280000,
          3833856000,
          3858432000,
          3883008000,
          3907584000,
          3932160000
         ],
         "y": [
          150.836,
          156.672,
          152.404,
          165.6328,
          153.5552,
          168.42,
          168.872,
          170.6664,
          173.5848,
          174.0808,
          172.42,
          175.052,
          162.2216,
          168.5672,
          166.7584,
          170.9688,
          156.0224,
          167.28,
          154.904,
          171.7168,
          154.2032,
          147.0816,
          185.0136,
          180.32,
          179.6848,
          176.356,
          173.748,
          155.836,
          171.1336,
          168.9984,
          169.1304,
          168.8272,
          165.0248,
          164.896,
          165.1056,
          160.1336,
          160.6944,
          154.3624,
          159.5792,
          159.7576,
          157.3344,
          156.5504,
          157.1656,
          149.9032,
          153.9784,
          146.3864,
          153.3704,
          152.8584,
          150.2144,
          150.9512,
          148.7432,
          150.4008,
          148.936,
          147.0456,
          145.3544,
          147.4224,
          146.044,
          147.488,
          146.4832,
          144.6608,
          144.3344,
          142.2784,
          141.6912,
          143.7984,
          140.68,
          141.3592,
          138.756,
          140.3608,
          137.0576,
          140.048,
          139.2992,
          139.0152,
          136.8648,
          136.0904,
          136.5952,
          136.716,
          135.9896,
          132.9424,
          131.612,
          132.6648,
          133.2552,
          123.8224,
          134.2336,
          131.544,
          133.0464,
          128.6536,
          133.3208,
          130.9496,
          130.3296,
          130.3,
          127.0352,
          129.6976,
          129.0016,
          129.6888,
          125.4432,
          128.16,
          127.3752,
          124.2832,
          126.2624,
          126.9888,
          126.1184,
          126.1064,
          124.7264,
          122.5432,
          123.9896,
          120.8432,
          122.6208,
          122.9688,
          122.148,
          121.22,
          121.3376,
          119.4424,
          122.376,
          122.6848,
          117.364,
          120.8968,
          121.884,
          116.9504,
          120.3048,
          118.744,
          120.1544,
          110.4992,
          120.332,
          119.38,
          117.0664,
          119.0296,
          114.6792,
          116.2192,
          116.7904,
          118.0336,
          115.904,
          117.4648,
          117.6736,
          112.5472,
          114.2264,
          116.7256,
          114.344,
          117.028
         ]
        },
        {
         "line": {
          "color": "darkviolet",
          "width": 3
         },
         "marker": {
          "line": {
           "color": "crimson",
           "width": 2
          },
          "size": 4,
          "symbol": "triangle-up"
         },
         "mode": "lines+markers",
         "name": "MacFusProb_16mpi_16omp",
         "type": "scatter",
         "x": [
          516096000,
          540672000,
          565248000,
          589824000,
          614400000,
          638976000,
          663552000,
          688128000,
          712704000,
          737280000,
          761856000,
          786432000,
          811008000,
          835584000,
          860160000,
          884736000,
          909312000,
          933888000,
          958464000,
          983040000,
          1007616000,
          1032192000,
          1081344000,
          1056768000,
          1105920000,
          1130496000,
          1155072000,
          1179648000,
          1204224000,
          1228800000,
          1253376000,
          1277952000,
          1302528000,
          1327104000,
          1351680000,
          1376256000,
          1400832000,
          1425408000,
          1449984000,
          1474560000,
          1499136000,
          1523712000,
          1548288000,
          1572864000,
          1597440000,
          1622016000,
          1646592000,
          1671168000,
          1695744000,
          1720320000,
          1744896000,
          1769472000,
          1794048000,
          1818624000,
          1843200000,
          1867776000,
          1892352000,
          1916928000,
          1941504000,
          1966080000,
          1990656000,
          2015232000,
          2039808000,
          2064384000,
          2088960000,
          2113536000,
          2138112000,
          2162688000,
          2187264000,
          2211840000,
          2236416000,
          2260992000,
          2285568000,
          2310144000,
          2334720000,
          2359296000,
          2383872000,
          2408448000,
          2433024000,
          2457600000,
          2482176000,
          2506752000,
          2531328000,
          2555904000,
          2580480000,
          2605056000,
          2629632000,
          2654208000,
          2678784000,
          2703360000,
          2727936000,
          2752512000,
          2777088000,
          2801664000,
          2826240000,
          2850816000,
          2875392000,
          2899968000,
          2924544000,
          2949120000,
          2973696000,
          2998272000,
          3022848000,
          3047424000,
          3072000000,
          3096576000,
          3121152000,
          3145728000,
          3170304000,
          3219456000,
          3194880000,
          3244032000,
          3268608000,
          3317760000,
          3293184000,
          3342336000,
          3366912000,
          3391488000,
          3416064000,
          3440640000,
          3465216000,
          3489792000,
          3514368000,
          3538944000,
          3563520000,
          3588096000,
          3612672000,
          3637248000,
          3661824000,
          3686400000,
          3710976000,
          3735552000,
          3760128000,
          3784704000,
          3809280000,
          3833856000,
          3858432000,
          3883008000,
          3907584000,
          3932160000
         ],
         "y": [
          161.752,
          152.696,
          162.788,
          156.1512,
          171.088,
          182.3848,
          171.7264,
          181.46,
          173.092,
          182.048,
          176.3064,
          176.9176,
          152.4008,
          174.3648,
          166.52,
          168.2304,
          157.5248,
          162.2192,
          150.86,
          168.46,
          157.5256,
          183.1184,
          179.5704,
          135.4808,
          179.3576,
          170.648,
          172.5096,
          167.0832,
          150.0752,
          163.628,
          165.4952,
          159.9448,
          162.716,
          156.7336,
          159.1248,
          154.6224,
          156.9424,
          150.736,
          155.4424,
          149.6096,
          149.6312,
          148.0912,
          149.6016,
          144.5536,
          146.9784,
          144.0104,
          136.6928,
          141.1968,
          143.492,
          135.4984,
          144.2272,
          140.5424,
          141.372,
          139.2192,
          139.3704,
          136.1256,
          139.432,
          135.6224,
          139.208,
          135.7688,
          133.8768,
          135.9424,
          134.14,
          131.8424,
          133.0544,
          133.1072,
          132.5936,
          131.6656,
          130.9872,
          129.4704,
          129.6936,
          129.0872,
          129.1552,
          126.988,
          129.2352,
          124.4728,
          121.2568,
          125.7152,
          126.7728,
          125.2496,
          126.6304,
          124.1056,
          125.5768,
          122.3456,
          124.7816,
          123.4144,
          122.7664,
          120.8744,
          122.4632,
          122.2928,
          122.616,
          120.36,
          120.8016,
          120.6176,
          119.5728,
          119.8792,
          119.8632,
          118.7768,
          116.7256,
          115.992,
          118.04,
          119.3464,
          118.116,
          116.5584,
          114.7104,
          116.4,
          116.4112,
          117.0272,
          116.6576,
          115.6416,
          114.8352,
          114.3832,
          116.0688,
          115.332,
          115.1192,
          115.0328,
          114.0872,
          113.7592,
          113.7704,
          113.84,
          113.9688,
          111.6056,
          112.8072,
          113.0712,
          112.6312,
          112.984,
          112.2472,
          111.6352,
          111.9152,
          108.9808,
          111.3696,
          111.5,
          110.9616,
          110.7544,
          111.6296,
          110.3008,
          111.4664,
          109.9208,
          110.356,
          111.7224
         ]
        }
       ],
       "layout": {
        "annotations": [
         {
          "align": "left",
          "arrowcolor": "#636363",
          "arrowhead": 1,
          "arrowsize": 1,
          "arrowwidth": 2,
          "ax": -20,
          "ay": -30,
          "font": {
           "color": "purple",
           "family": "Sans Serif",
           "size": 12
          },
          "showarrow": false,
          "text": "LLC Size Per Node",
          "x": "512e6",
          "y": 130,
          "yanchor": "bottom"
         }
        ],
        "legend": {
         "bordercolor": "black",
         "borderwidth": 1
        },
        "shapes": [
         {
          "line": {
           "color": "green",
           "dash": "dash",
           "width": 3
          },
          "type": "line",
          "x0": 512000000,
          "x1": 512000000,
          "xref": "x",
          "y0": 0,
          "y1": 1,
          "yref": "y domain"
         }
        ],
        "template": {
         "data": {
          "bar": [
           {
            "error_x": {
             "color": "#2a3f5f"
            },
            "error_y": {
             "color": "#2a3f5f"
            },
            "marker": {
             "line": {
              "color": "#E5ECF6",
              "width": 0.5
             },
             "pattern": {
              "fillmode": "overlay",
              "size": 10,
              "solidity": 0.2
             }
            },
            "type": "bar"
           }
          ],
          "barpolar": [
           {
            "marker": {
             "line": {
              "color": "#E5ECF6",
              "width": 0.5
             },
             "pattern": {
              "fillmode": "overlay",
              "size": 10,
              "solidity": 0.2
             }
            },
            "type": "barpolar"
           }
          ],
          "carpet": [
           {
            "aaxis": {
             "endlinecolor": "#2a3f5f",
             "gridcolor": "white",
             "linecolor": "white",
             "minorgridcolor": "white",
             "startlinecolor": "#2a3f5f"
            },
            "baxis": {
             "endlinecolor": "#2a3f5f",
             "gridcolor": "white",
             "linecolor": "white",
             "minorgridcolor": "white",
             "startlinecolor": "#2a3f5f"
            },
            "type": "carpet"
           }
          ],
          "choropleth": [
           {
            "colorbar": {
             "outlinewidth": 0,
             "ticks": ""
            },
            "type": "choropleth"
           }
          ],
          "contour": [
           {
            "colorbar": {
             "outlinewidth": 0,
             "ticks": ""
            },
            "colorscale": [
             [
              0,
              "#0d0887"
             ],
             [
              0.1111111111111111,
              "#46039f"
             ],
             [
              0.2222222222222222,
              "#7201a8"
             ],
             [
              0.3333333333333333,
              "#9c179e"
             ],
             [
              0.4444444444444444,
              "#bd3786"
             ],
             [
              0.5555555555555556,
              "#d8576b"
             ],
             [
              0.6666666666666666,
              "#ed7953"
             ],
             [
              0.7777777777777778,
              "#fb9f3a"
             ],
             [
              0.8888888888888888,
              "#fdca26"
             ],
             [
              1,
              "#f0f921"
             ]
            ],
            "type": "contour"
           }
          ],
          "contourcarpet": [
           {
            "colorbar": {
             "outlinewidth": 0,
             "ticks": ""
            },
            "type": "contourcarpet"
           }
          ],
          "heatmap": [
           {
            "colorbar": {
             "outlinewidth": 0,
             "ticks": ""
            },
            "colorscale": [
             [
              0,
              "#0d0887"
             ],
             [
              0.1111111111111111,
              "#46039f"
             ],
             [
              0.2222222222222222,
              "#7201a8"
             ],
             [
              0.3333333333333333,
              "#9c179e"
             ],
             [
              0.4444444444444444,
              "#bd3786"
             ],
             [
              0.5555555555555556,
              "#d8576b"
             ],
             [
              0.6666666666666666,
              "#ed7953"
             ],
             [
              0.7777777777777778,
              "#fb9f3a"
             ],
             [
              0.8888888888888888,
              "#fdca26"
             ],
             [
              1,
              "#f0f921"
             ]
            ],
            "type": "heatmap"
           }
          ],
          "heatmapgl": [
           {
            "colorbar": {
             "outlinewidth": 0,
             "ticks": ""
            },
            "colorscale": [
             [
              0,
              "#0d0887"
             ],
             [
              0.1111111111111111,
              "#46039f"
             ],
             [
              0.2222222222222222,
              "#7201a8"
             ],
             [
              0.3333333333333333,
              "#9c179e"
             ],
             [
              0.4444444444444444,
              "#bd3786"
             ],
             [
              0.5555555555555556,
              "#d8576b"
             ],
             [
              0.6666666666666666,
              "#ed7953"
             ],
             [
              0.7777777777777778,
              "#fb9f3a"
             ],
             [
              0.8888888888888888,
              "#fdca26"
             ],
             [
              1,
              "#f0f921"
             ]
            ],
            "type": "heatmapgl"
           }
          ],
          "histogram": [
           {
            "marker": {
             "pattern": {
              "fillmode": "overlay",
              "size": 10,
              "solidity": 0.2
             }
            },
            "type": "histogram"
           }
          ],
          "histogram2d": [
           {
            "colorbar": {
             "outlinewidth": 0,
             "ticks": ""
            },
            "colorscale": [
             [
              0,
              "#0d0887"
             ],
             [
              0.1111111111111111,
              "#46039f"
             ],
             [
              0.2222222222222222,
              "#7201a8"
             ],
             [
              0.3333333333333333,
              "#9c179e"
             ],
             [
              0.4444444444444444,
              "#bd3786"
             ],
             [
              0.5555555555555556,
              "#d8576b"
             ],
             [
              0.6666666666666666,
              "#ed7953"
             ],
             [
              0.7777777777777778,
              "#fb9f3a"
             ],
             [
              0.8888888888888888,
              "#fdca26"
             ],
             [
              1,
              "#f0f921"
             ]
            ],
            "type": "histogram2d"
           }
          ],
          "histogram2dcontour": [
           {
            "colorbar": {
             "outlinewidth": 0,
             "ticks": ""
            },
            "colorscale": [
             [
              0,
              "#0d0887"
             ],
             [
              0.1111111111111111,
              "#46039f"
             ],
             [
              0.2222222222222222,
              "#7201a8"
             ],
             [
              0.3333333333333333,
              "#9c179e"
             ],
             [
              0.4444444444444444,
              "#bd3786"
             ],
             [
              0.5555555555555556,
              "#d8576b"
             ],
             [
              0.6666666666666666,
              "#ed7953"
             ],
             [
              0.7777777777777778,
              "#fb9f3a"
             ],
             [
              0.8888888888888888,
              "#fdca26"
             ],
             [
              1,
              "#f0f921"
             ]
            ],
            "type": "histogram2dcontour"
           }
          ],
          "mesh3d": [
           {
            "colorbar": {
             "outlinewidth": 0,
             "ticks": ""
            },
            "type": "mesh3d"
           }
          ],
          "parcoords": [
           {
            "line": {
             "colorbar": {
              "outlinewidth": 0,
              "ticks": ""
             }
            },
            "type": "parcoords"
           }
          ],
          "pie": [
           {
            "automargin": true,
            "type": "pie"
           }
          ],
          "scatter": [
           {
            "fillpattern": {
             "fillmode": "overlay",
             "size": 10,
             "solidity": 0.2
            },
            "type": "scatter"
           }
          ],
          "scatter3d": [
           {
            "line": {
             "colorbar": {
              "outlinewidth": 0,
              "ticks": ""
             }
            },
            "marker": {
             "colorbar": {
              "outlinewidth": 0,
              "ticks": ""
             }
            },
            "type": "scatter3d"
           }
          ],
          "scattercarpet": [
           {
            "marker": {
             "colorbar": {
              "outlinewidth": 0,
              "ticks": ""
             }
            },
            "type": "scattercarpet"
           }
          ],
          "scattergeo": [
           {
            "marker": {
             "colorbar": {
              "outlinewidth": 0,
              "ticks": ""
             }
            },
            "type": "scattergeo"
           }
          ],
          "scattergl": [
           {
            "marker": {
             "colorbar": {
              "outlinewidth": 0,
              "ticks": ""
             }
            },
            "type": "scattergl"
           }
          ],
          "scattermapbox": [
           {
            "marker": {
             "colorbar": {
              "outlinewidth": 0,
              "ticks": ""
             }
            },
            "type": "scattermapbox"
           }
          ],
          "scatterpolar": [
           {
            "marker": {
             "colorbar": {
              "outlinewidth": 0,
              "ticks": ""
             }
            },
            "type": "scatterpolar"
           }
          ],
          "scatterpolargl": [
           {
            "marker": {
             "colorbar": {
              "outlinewidth": 0,
              "ticks": ""
             }
            },
            "type": "scatterpolargl"
           }
          ],
          "scatterternary": [
           {
            "marker": {
             "colorbar": {
              "outlinewidth": 0,
              "ticks": ""
             }
            },
            "type": "scatterternary"
           }
          ],
          "surface": [
           {
            "colorbar": {
             "outlinewidth": 0,
             "ticks": ""
            },
            "colorscale": [
             [
              0,
              "#0d0887"
             ],
             [
              0.1111111111111111,
              "#46039f"
             ],
             [
              0.2222222222222222,
              "#7201a8"
             ],
             [
              0.3333333333333333,
              "#9c179e"
             ],
             [
              0.4444444444444444,
              "#bd3786"
             ],
             [
              0.5555555555555556,
              "#d8576b"
             ],
             [
              0.6666666666666666,
              "#ed7953"
             ],
             [
              0.7777777777777778,
              "#fb9f3a"
             ],
             [
              0.8888888888888888,
              "#fdca26"
             ],
             [
              1,
              "#f0f921"
             ]
            ],
            "type": "surface"
           }
          ],
          "table": [
           {
            "cells": {
             "fill": {
              "color": "#EBF0F8"
             },
             "line": {
              "color": "white"
             }
            },
            "header": {
             "fill": {
              "color": "#C8D4E3"
             },
             "line": {
              "color": "white"
             }
            },
            "type": "table"
           }
          ]
         },
         "layout": {
          "annotationdefaults": {
           "arrowcolor": "#2a3f5f",
           "arrowhead": 0,
           "arrowwidth": 1
          },
          "autotypenumbers": "strict",
          "coloraxis": {
           "colorbar": {
            "outlinewidth": 0,
            "ticks": ""
           }
          },
          "colorscale": {
           "diverging": [
            [
             0,
             "#8e0152"
            ],
            [
             0.1,
             "#c51b7d"
            ],
            [
             0.2,
             "#de77ae"
            ],
            [
             0.3,
             "#f1b6da"
            ],
            [
             0.4,
             "#fde0ef"
            ],
            [
             0.5,
             "#f7f7f7"
            ],
            [
             0.6,
             "#e6f5d0"
            ],
            [
             0.7,
             "#b8e186"
            ],
            [
             0.8,
             "#7fbc41"
            ],
            [
             0.9,
             "#4d9221"
            ],
            [
             1,
             "#276419"
            ]
           ],
           "sequential": [
            [
             0,
             "#0d0887"
            ],
            [
             0.1111111111111111,
             "#46039f"
            ],
            [
             0.2222222222222222,
             "#7201a8"
            ],
            [
             0.3333333333333333,
             "#9c179e"
            ],
            [
             0.4444444444444444,
             "#bd3786"
            ],
            [
             0.5555555555555556,
             "#d8576b"
            ],
            [
             0.6666666666666666,
             "#ed7953"
            ],
            [
             0.7777777777777778,
             "#fb9f3a"
            ],
            [
             0.8888888888888888,
             "#fdca26"
            ],
            [
             1,
             "#f0f921"
            ]
           ],
           "sequentialminus": [
            [
             0,
             "#0d0887"
            ],
            [
             0.1111111111111111,
             "#46039f"
            ],
            [
             0.2222222222222222,
             "#7201a8"
            ],
            [
             0.3333333333333333,
             "#9c179e"
            ],
            [
             0.4444444444444444,
             "#bd3786"
            ],
            [
             0.5555555555555556,
             "#d8576b"
            ],
            [
             0.6666666666666666,
             "#ed7953"
            ],
            [
             0.7777777777777778,
             "#fb9f3a"
            ],
            [
             0.8888888888888888,
             "#fdca26"
            ],
            [
             1,
             "#f0f921"
            ]
           ]
          },
          "colorway": [
           "#636efa",
           "#EF553B",
           "#00cc96",
           "#ab63fa",
           "#FFA15A",
           "#19d3f3",
           "#FF6692",
           "#B6E880",
           "#FF97FF",
           "#FECB52"
          ],
          "font": {
           "color": "#2a3f5f"
          },
          "geo": {
           "bgcolor": "white",
           "lakecolor": "white",
           "landcolor": "#E5ECF6",
           "showlakes": true,
           "showland": true,
           "subunitcolor": "white"
          },
          "hoverlabel": {
           "align": "left"
          },
          "hovermode": "closest",
          "mapbox": {
           "style": "light"
          },
          "paper_bgcolor": "white",
          "plot_bgcolor": "#E5ECF6",
          "polar": {
           "angularaxis": {
            "gridcolor": "white",
            "linecolor": "white",
            "ticks": ""
           },
           "bgcolor": "#E5ECF6",
           "radialaxis": {
            "gridcolor": "white",
            "linecolor": "white",
            "ticks": ""
           }
          },
          "scene": {
           "xaxis": {
            "backgroundcolor": "#E5ECF6",
            "gridcolor": "white",
            "gridwidth": 2,
            "linecolor": "white",
            "showbackground": true,
            "ticks": "",
            "zerolinecolor": "white"
           },
           "yaxis": {
            "backgroundcolor": "#E5ECF6",
            "gridcolor": "white",
            "gridwidth": 2,
            "linecolor": "white",
            "showbackground": true,
            "ticks": "",
            "zerolinecolor": "white"
           },
           "zaxis": {
            "backgroundcolor": "#E5ECF6",
            "gridcolor": "white",
            "gridwidth": 2,
            "linecolor": "white",
            "showbackground": true,
            "ticks": "",
            "zerolinecolor": "white"
           }
          },
          "shapedefaults": {
           "line": {
            "color": "#2a3f5f"
           }
          },
          "ternary": {
           "aaxis": {
            "gridcolor": "white",
            "linecolor": "white",
            "ticks": ""
           },
           "baxis": {
            "gridcolor": "white",
            "linecolor": "white",
            "ticks": ""
           },
           "bgcolor": "#E5ECF6",
           "caxis": {
            "gridcolor": "white",
            "linecolor": "white",
            "ticks": ""
           }
          },
          "title": {
           "x": 0.05
          },
          "xaxis": {
           "automargin": true,
           "gridcolor": "white",
           "linecolor": "white",
           "ticks": "",
           "title": {
            "standoff": 15
           },
           "zerolinecolor": "white",
           "zerolinewidth": 2
          },
          "yaxis": {
           "automargin": true,
           "gridcolor": "white",
           "linecolor": "white",
           "ticks": "",
           "title": {
            "standoff": 15
           },
           "zerolinecolor": "white",
           "zerolinewidth": 2
          }
         }
        },
        "title": {
         "text": "\"Fused-Macro (2-Nodes): probempi vs nonprobempi\" GFlops Measurement"
        },
        "xaxis": {
         "ticks": "outside",
         "title": {
          "text": "Dirc_Data_Mov"
         }
        },
        "yaxis": {
         "ticks": "outside",
         "title": {
          "text": "GFLOPs/Node"
         }
        }
       }
      },
      "text/html": [
       "<div>                            <div id=\"77a36b2d-a430-410b-85ee-bcd39f8cfbde\" class=\"plotly-graph-div\" style=\"height:525px; width:100%;\"></div>            <script type=\"text/javascript\">                require([\"plotly\"], function(Plotly) {                    window.PLOTLYENV=window.PLOTLYENV || {};                                    if (document.getElementById(\"77a36b2d-a430-410b-85ee-bcd39f8cfbde\")) {                    Plotly.newPlot(                        \"77a36b2d-a430-410b-85ee-bcd39f8cfbde\",                        [{\"line\":{\"color\":\"magenta\",\"width\":3},\"marker\":{\"line\":{\"color\":\"yellow\",\"width\":1},\"size\":9,\"symbol\":\"hexagon\"},\"mode\":\"lines+markers\",\"name\":\"MacFusnonProb_256mpi_1omp\",\"x\":[1572864000.0,1966080000.0,2359296000.0,2752512000.0,3145728000.0,3538944000.0,3932160000.0],\"y\":[202.89024,171.27808,171.168,168.16128,162.4,159.05536,154.06592],\"type\":\"scatter\"},{\"line\":{\"color\":\"olive\",\"width\":3},\"marker\":{\"line\":{\"color\":\"yellow\",\"width\":1},\"size\":9,\"symbol\":\"hexagon\"},\"mode\":\"lines+markers\",\"name\":\"MacFusProb_256mpi_1omp\",\"x\":[1572864000.0,1966080000.0,2359296000.0,2752512000.0,3145728000.0,3538944000.0,3932160000.0],\"y\":[216.13568,192.79872,186.03904,171.36768,168.40576,160.84224,159.47008],\"type\":\"scatter\"},{\"line\":{\"color\":\"sandybrown\",\"width\":3},\"marker\":{\"line\":{\"color\":\"MediumPurple\",\"width\":2},\"size\":5,\"symbol\":\"diamond\"},\"mode\":\"lines+markers\",\"name\":\"MacFusnonProb_128mpi_2omp\",\"x\":[786432000.0,983040000.0,1179648000.0,1376256000.0,1572864000.0,1769472000.0,1966080000.0,2162688000.0,2359296000.0,2555904000.0,2752512000.0,2949120000.0,3145728000.0,3342336000.0,3538944000.0,3735552000.0,3932160000.0],\"y\":[215.35744,242.58496,242.96704,232.76288,225.04256,210.90112,201.16928,197.85088,196.00576,185.08736,169.73952,179.34144,172.7744,171.78496,167.50016,162.35584,164.57984],\"type\":\"scatter\"},{\"line\":{\"color\":\"royalblue\",\"width\":3},\"marker\":{\"line\":{\"color\":\"MediumPurple\",\"width\":2},\"size\":5,\"symbol\":\"diamond\"},\"mode\":\"lines+markers\",\"name\":\"MacFusProb_128mpi_2omp\",\"x\":[786432000.0,983040000.0,1179648000.0,1376256000.0,1572864000.0,1769472000.0,1966080000.0,2162688000.0,2359296000.0,2555904000.0,2752512000.0,2949120000.0,3145728000.0,3342336000.0,3538944000.0,3735552000.0,3932160000.0],\"y\":[245.54368,249.52576,242.02112,239.62432,226.08384,224.9184,209.92256,205.76704,194.2624,193.78176,183.02912,172.81152,162.32704,175.38176,167.34848,168.944,162.8992],\"type\":\"scatter\"},{\"line\":{\"color\":\"cyan\",\"width\":3},\"marker\":{\"line\":{\"color\":\"Purple\",\"width\":2},\"size\":7,\"symbol\":\"circle\"},\"mode\":\"lines+markers\",\"name\":\"MacFusnonProb_64mpi_4omp\",\"x\":[589824000.0,688128000.0,786432000.0,884736000.0,983040000.0,1081344000.0,1179648000.0,1277952000.0,1376256000.0,1474560000.0,1572864000.0,1671168000.0,1769472000.0,1867776000.0,1966080000.0,2064384000.0,2162688000.0,2260992000.0,2359296000.0,2457600000.0,2555904000.0,2654208000.0,2752512000.0,2850816000.0,2949120000.0,3047424000.0,3244032000.0,3145728000.0,3342336000.0,3538944000.0,3440640000.0,3637248000.0,3735552000.0,3833856000.0,3932160000.0],\"y\":[183.70624,189.84576,197.13504,207.75136,183.90848,185.6128,242.01856,241.40768,232.26816,228.13152,228.04768,218.93088,213.94816,211.87424,204.21408,198.67232,198.28352,194.864,188.98304,189.3104,181.1104,177.28448,182.26688,179.51552,175.83808,164.33056,169.68736,171.28224,171.82912,163.78208,170.0176,166.1136,164.05888,163.52384,161.85088],\"type\":\"scatter\"},{\"line\":{\"color\":\"darkblue\",\"width\":3},\"marker\":{\"line\":{\"color\":\"tomato\",\"width\":2},\"size\":7,\"symbol\":\"circle\"},\"mode\":\"lines+markers\",\"name\":\"MacFusProb_64mpi_4omp\",\"x\":[589824000.0,688128000.0,786432000.0,884736000.0,983040000.0,1081344000.0,1179648000.0,1277952000.0,1376256000.0,1474560000.0,1572864000.0,1671168000.0,1769472000.0,1867776000.0,1966080000.0,2064384000.0,2162688000.0,2260992000.0,2359296000.0,2457600000.0,2555904000.0,2654208000.0,2752512000.0,2850816000.0,2949120000.0,3047424000.0,3145728000.0,3244032000.0,3342336000.0,3440640000.0,3538944000.0,3637248000.0,3735552000.0,3833856000.0,3932160000.0],\"y\":[213.6752,216.13088,226.25568,231.14336,230.36288,218.75936,242.704,244.89696,233.35808,237.78112,221.8304,225.71744,212.43072,196.22208,202.98144,207.11712,196.98016,199.6368,189.94816,190.84384,184.33952,187.61152,179.51264,181.61376,174.21824,177.53472,170.3792,173.79776,166.64608,169.63584,160.16768,168.00256,161.29504,161.21536,159.28096],\"type\":\"scatter\"},{\"line\":{\"color\":\"red\",\"width\":3},\"marker\":{\"line\":{\"color\":\"red\",\"width\":2},\"size\":5,\"symbol\":\"circle\"},\"mode\":\"lines+markers\",\"name\":\"MacFusNonProb_32mpi_8omp\",\"x\":[540672000.0,589824000.0,638976000.0,688128000.0,737280000.0,786432000.0,835584000.0,884736000.0,933888000.0,983040000.0,1032192000.0,1081344000.0,1130496000.0,1179648000.0,1228800000.0,1277952000.0,1327104000.0,1376256000.0,1425408000.0,1474560000.0,1523712000.0,1572864000.0,1622016000.0,1671168000.0,1720320000.0,1769472000.0,1818624000.0,1867776000.0,1916928000.0,1966080000.0,2015232000.0,2064384000.0,2162688000.0,2113536000.0,2211840000.0,2260992000.0,2310144000.0,2359296000.0,2408448000.0,2457600000.0,2506752000.0,2605056000.0,2555904000.0,2654208000.0,2703360000.0,2752512000.0,2801664000.0,2850816000.0,2899968000.0,2949120000.0,2998272000.0,3047424000.0,3145728000.0,3096576000.0,3194880000.0,3244032000.0,3293184000.0,3342336000.0,3391488000.0,3440640000.0,3489792000.0,3538944000.0,3588096000.0,3637248000.0,3686400000.0,3735552000.0,3784704000.0,3833856000.0,3883008000.0,3932160000.0],\"y\":[177.2624,178.7792,179.5344,190.8336,198.1072,197.7216,195.4288,209.76,207.3056,211.5952,212.8976,207.3328,204.8528,194.0448,218.9808,231.8064,226.96,221.3712,202.6704,222.1712,215.4672,213.5216,194.5024,210.2016,183.4512,207.4448,202.5328,192.144,199.6896,195.5648,191.6112,192.368,185.2016,189.9696,187.48,185.3872,183.7712,183.6992,178.7248,180.1376,174.8,174.2704,173.2768,172.8112,150.52368,161.064,168.0464,167.5936,166.096,168.0944,164.1904,164.0704,164.392,164.8624,161.3152,159.14192,158.54784,159.0928,157.46896,158.908,156.82048,158.98144,150.08112,152.47232,155.11616,153.80016,154.62752,154.12224,152.0136,151.56256],\"type\":\"scatter\"},{\"line\":{\"color\":\"green\",\"width\":3},\"marker\":{\"line\":{\"color\":\"green\",\"width\":2},\"size\":5,\"symbol\":\"circle\"},\"mode\":\"lines+markers\",\"name\":\"MacFusProb_32mpi_8omp\",\"x\":[540672000.0,589824000.0,638976000.0,688128000.0,737280000.0,786432000.0,835584000.0,884736000.0,933888000.0,1032192000.0,983040000.0,1081344000.0,1130496000.0,1179648000.0,1228800000.0,1277952000.0,1327104000.0,1376256000.0,1425408000.0,1474560000.0,1523712000.0,1572864000.0,1622016000.0,1671168000.0,1720320000.0,1769472000.0,1818624000.0,1867776000.0,1916928000.0,1966080000.0,2015232000.0,2064384000.0,2113536000.0,2162688000.0,2211840000.0,2260992000.0,2310144000.0,2359296000.0,2408448000.0,2457600000.0,2506752000.0,2555904000.0,2605056000.0,2654208000.0,2703360000.0,2752512000.0,2801664000.0,2850816000.0,2899968000.0,2949120000.0,2998272000.0,3047424000.0,3096576000.0,3145728000.0,3194880000.0,3244032000.0,3293184000.0,3342336000.0,3391488000.0,3440640000.0,3489792000.0,3538944000.0,3588096000.0,3637248000.0,3686400000.0,3735552000.0,3784704000.0,3833856000.0,3883008000.0,3932160000.0],\"y\":[157.9208,196.5392,194.752,202.488,212.0816,208.8144,208.9872,220.4064,228.616,215.8208,222.3488,223.1392,208.5664,203.24,214.0544,201.3024,203.432,226.7504,217.048,215.5664,209.08,212.872,200.52,209.2352,199.6576,198.9024,195.7184,198.704,188.3104,192.3984,186.4096,190.4416,181.7024,185.84,179.368,181.4816,164.264,179.1456,172.6784,176.3152,166.5856,174.3072,165.1312,169.928,164.1456,166.6624,151.77808,165.8,158.95712,164.7584,158.66576,163.9216,156.78912,163.5472,156.5016,159.9888,154.79136,159.15552,153.60816,153.96352,153.13696,154.368,151.19776,154.48224,149.86752,153.8512,149.43456,153.07488,147.43152,150.57808],\"type\":\"scatter\"},{\"line\":{\"color\":\"blue\",\"width\":3},\"marker\":{\"line\":{\"color\":\"chocolate\",\"width\":2},\"size\":4,\"symbol\":\"triangle-up\"},\"mode\":\"lines+markers\",\"name\":\"MacFusNonProb_16mpi_16omp\",\"x\":[516096000.0,540672000.0,565248000.0,614400000.0,589824000.0,638976000.0,663552000.0,688128000.0,712704000.0,737280000.0,761856000.0,786432000.0,811008000.0,835584000.0,860160000.0,884736000.0,909312000.0,933888000.0,958464000.0,983040000.0,1007616000.0,1056768000.0,1032192000.0,1081344000.0,1105920000.0,1130496000.0,1155072000.0,1179648000.0,1204224000.0,1228800000.0,1253376000.0,1277952000.0,1302528000.0,1327104000.0,1351680000.0,1376256000.0,1400832000.0,1425408000.0,1449984000.0,1474560000.0,1499136000.0,1523712000.0,1572864000.0,1548288000.0,1597440000.0,1622016000.0,1646592000.0,1671168000.0,1695744000.0,1720320000.0,1744896000.0,1769472000.0,1794048000.0,1818624000.0,1843200000.0,1867776000.0,1892352000.0,1916928000.0,1941504000.0,1966080000.0,1990656000.0,2015232000.0,2039808000.0,2064384000.0,2088960000.0,2138112000.0,2162688000.0,2187264000.0,2211840000.0,2236416000.0,2260992000.0,2285568000.0,2310144000.0,2334720000.0,2359296000.0,2383872000.0,2408448000.0,2433024000.0,2457600000.0,2482176000.0,2506752000.0,2531328000.0,2555904000.0,2580480000.0,2605056000.0,2629632000.0,2654208000.0,2703360000.0,2727936000.0,2752512000.0,2777088000.0,2801664000.0,2826240000.0,2850816000.0,2875392000.0,2899968000.0,2924544000.0,2949120000.0,2973696000.0,2998272000.0,3022848000.0,3047424000.0,3072000000.0,3096576000.0,3121152000.0,3145728000.0,3194880000.0,3170304000.0,3219456000.0,3244032000.0,3268608000.0,3293184000.0,3317760000.0,3342336000.0,3366912000.0,3391488000.0,3416064000.0,3440640000.0,3465216000.0,3489792000.0,3514368000.0,3538944000.0,3563520000.0,3588096000.0,3612672000.0,3637248000.0,3661824000.0,3686400000.0,3710976000.0,3735552000.0,3760128000.0,3784704000.0,3809280000.0,3833856000.0,3858432000.0,3883008000.0,3907584000.0,3932160000.0],\"y\":[150.836,156.672,152.404,165.6328,153.5552,168.42,168.872,170.6664,173.5848,174.0808,172.42,175.052,162.2216,168.5672,166.7584,170.9688,156.0224,167.28,154.904,171.7168,154.2032,147.0816,185.0136,180.32,179.6848,176.356,173.748,155.836,171.1336,168.9984,169.1304,168.8272,165.0248,164.896,165.1056,160.1336,160.6944,154.3624,159.5792,159.7576,157.3344,156.5504,157.1656,149.9032,153.9784,146.3864,153.3704,152.8584,150.2144,150.9512,148.7432,150.4008,148.936,147.0456,145.3544,147.4224,146.044,147.488,146.4832,144.6608,144.3344,142.2784,141.6912,143.7984,140.68,141.3592,138.756,140.3608,137.0576,140.048,139.2992,139.0152,136.8648,136.0904,136.5952,136.716,135.9896,132.9424,131.612,132.6648,133.2552,123.8224,134.2336,131.544,133.0464,128.6536,133.3208,130.9496,130.3296,130.3,127.0352,129.6976,129.0016,129.6888,125.4432,128.16,127.3752,124.2832,126.2624,126.9888,126.1184,126.1064,124.7264,122.5432,123.9896,120.8432,122.6208,122.9688,122.148,121.22,121.3376,119.4424,122.376,122.6848,117.364,120.8968,121.884,116.9504,120.3048,118.744,120.1544,110.4992,120.332,119.38,117.0664,119.0296,114.6792,116.2192,116.7904,118.0336,115.904,117.4648,117.6736,112.5472,114.2264,116.7256,114.344,117.028],\"type\":\"scatter\"},{\"line\":{\"color\":\"darkviolet\",\"width\":3},\"marker\":{\"line\":{\"color\":\"crimson\",\"width\":2},\"size\":4,\"symbol\":\"triangle-up\"},\"mode\":\"lines+markers\",\"name\":\"MacFusProb_16mpi_16omp\",\"x\":[516096000.0,540672000.0,565248000.0,589824000.0,614400000.0,638976000.0,663552000.0,688128000.0,712704000.0,737280000.0,761856000.0,786432000.0,811008000.0,835584000.0,860160000.0,884736000.0,909312000.0,933888000.0,958464000.0,983040000.0,1007616000.0,1032192000.0,1081344000.0,1056768000.0,1105920000.0,1130496000.0,1155072000.0,1179648000.0,1204224000.0,1228800000.0,1253376000.0,1277952000.0,1302528000.0,1327104000.0,1351680000.0,1376256000.0,1400832000.0,1425408000.0,1449984000.0,1474560000.0,1499136000.0,1523712000.0,1548288000.0,1572864000.0,1597440000.0,1622016000.0,1646592000.0,1671168000.0,1695744000.0,1720320000.0,1744896000.0,1769472000.0,1794048000.0,1818624000.0,1843200000.0,1867776000.0,1892352000.0,1916928000.0,1941504000.0,1966080000.0,1990656000.0,2015232000.0,2039808000.0,2064384000.0,2088960000.0,2113536000.0,2138112000.0,2162688000.0,2187264000.0,2211840000.0,2236416000.0,2260992000.0,2285568000.0,2310144000.0,2334720000.0,2359296000.0,2383872000.0,2408448000.0,2433024000.0,2457600000.0,2482176000.0,2506752000.0,2531328000.0,2555904000.0,2580480000.0,2605056000.0,2629632000.0,2654208000.0,2678784000.0,2703360000.0,2727936000.0,2752512000.0,2777088000.0,2801664000.0,2826240000.0,2850816000.0,2875392000.0,2899968000.0,2924544000.0,2949120000.0,2973696000.0,2998272000.0,3022848000.0,3047424000.0,3072000000.0,3096576000.0,3121152000.0,3145728000.0,3170304000.0,3219456000.0,3194880000.0,3244032000.0,3268608000.0,3317760000.0,3293184000.0,3342336000.0,3366912000.0,3391488000.0,3416064000.0,3440640000.0,3465216000.0,3489792000.0,3514368000.0,3538944000.0,3563520000.0,3588096000.0,3612672000.0,3637248000.0,3661824000.0,3686400000.0,3710976000.0,3735552000.0,3760128000.0,3784704000.0,3809280000.0,3833856000.0,3858432000.0,3883008000.0,3907584000.0,3932160000.0],\"y\":[161.752,152.696,162.788,156.1512,171.088,182.3848,171.7264,181.46,173.092,182.048,176.3064,176.9176,152.4008,174.3648,166.52,168.2304,157.5248,162.2192,150.86,168.46,157.5256,183.1184,179.5704,135.4808,179.3576,170.648,172.5096,167.0832,150.0752,163.628,165.4952,159.9448,162.716,156.7336,159.1248,154.6224,156.9424,150.736,155.4424,149.6096,149.6312,148.0912,149.6016,144.5536,146.9784,144.0104,136.6928,141.1968,143.492,135.4984,144.2272,140.5424,141.372,139.2192,139.3704,136.1256,139.432,135.6224,139.208,135.7688,133.8768,135.9424,134.14,131.8424,133.0544,133.1072,132.5936,131.6656,130.9872,129.4704,129.6936,129.0872,129.1552,126.988,129.2352,124.4728,121.2568,125.7152,126.7728,125.2496,126.6304,124.1056,125.5768,122.3456,124.7816,123.4144,122.7664,120.8744,122.4632,122.2928,122.616,120.36,120.8016,120.6176,119.5728,119.8792,119.8632,118.7768,116.7256,115.992,118.04,119.3464,118.116,116.5584,114.7104,116.4,116.4112,117.0272,116.6576,115.6416,114.8352,114.3832,116.0688,115.332,115.1192,115.0328,114.0872,113.7592,113.7704,113.84,113.9688,111.6056,112.8072,113.0712,112.6312,112.984,112.2472,111.6352,111.9152,108.9808,111.3696,111.5,110.9616,110.7544,111.6296,110.3008,111.4664,109.9208,110.356,111.7224],\"type\":\"scatter\"}],                        {\"template\":{\"data\":{\"histogram2dcontour\":[{\"type\":\"histogram2dcontour\",\"colorbar\":{\"outlinewidth\":0,\"ticks\":\"\"},\"colorscale\":[[0.0,\"#0d0887\"],[0.1111111111111111,\"#46039f\"],[0.2222222222222222,\"#7201a8\"],[0.3333333333333333,\"#9c179e\"],[0.4444444444444444,\"#bd3786\"],[0.5555555555555556,\"#d8576b\"],[0.6666666666666666,\"#ed7953\"],[0.7777777777777778,\"#fb9f3a\"],[0.8888888888888888,\"#fdca26\"],[1.0,\"#f0f921\"]]}],\"choropleth\":[{\"type\":\"choropleth\",\"colorbar\":{\"outlinewidth\":0,\"ticks\":\"\"}}],\"histogram2d\":[{\"type\":\"histogram2d\",\"colorbar\":{\"outlinewidth\":0,\"ticks\":\"\"},\"colorscale\":[[0.0,\"#0d0887\"],[0.1111111111111111,\"#46039f\"],[0.2222222222222222,\"#7201a8\"],[0.3333333333333333,\"#9c179e\"],[0.4444444444444444,\"#bd3786\"],[0.5555555555555556,\"#d8576b\"],[0.6666666666666666,\"#ed7953\"],[0.7777777777777778,\"#fb9f3a\"],[0.8888888888888888,\"#fdca26\"],[1.0,\"#f0f921\"]]}],\"heatmap\":[{\"type\":\"heatmap\",\"colorbar\":{\"outlinewidth\":0,\"ticks\":\"\"},\"colorscale\":[[0.0,\"#0d0887\"],[0.1111111111111111,\"#46039f\"],[0.2222222222222222,\"#7201a8\"],[0.3333333333333333,\"#9c179e\"],[0.4444444444444444,\"#bd3786\"],[0.5555555555555556,\"#d8576b\"],[0.6666666666666666,\"#ed7953\"],[0.7777777777777778,\"#fb9f3a\"],[0.8888888888888888,\"#fdca26\"],[1.0,\"#f0f921\"]]}],\"heatmapgl\":[{\"type\":\"heatmapgl\",\"colorbar\":{\"outlinewidth\":0,\"ticks\":\"\"},\"colorscale\":[[0.0,\"#0d0887\"],[0.1111111111111111,\"#46039f\"],[0.2222222222222222,\"#7201a8\"],[0.3333333333333333,\"#9c179e\"],[0.4444444444444444,\"#bd3786\"],[0.5555555555555556,\"#d8576b\"],[0.6666666666666666,\"#ed7953\"],[0.7777777777777778,\"#fb9f3a\"],[0.8888888888888888,\"#fdca26\"],[1.0,\"#f0f921\"]]}],\"contourcarpet\":[{\"type\":\"contourcarpet\",\"colorbar\":{\"outlinewidth\":0,\"ticks\":\"\"}}],\"contour\":[{\"type\":\"contour\",\"colorbar\":{\"outlinewidth\":0,\"ticks\":\"\"},\"colorscale\":[[0.0,\"#0d0887\"],[0.1111111111111111,\"#46039f\"],[0.2222222222222222,\"#7201a8\"],[0.3333333333333333,\"#9c179e\"],[0.4444444444444444,\"#bd3786\"],[0.5555555555555556,\"#d8576b\"],[0.6666666666666666,\"#ed7953\"],[0.7777777777777778,\"#fb9f3a\"],[0.8888888888888888,\"#fdca26\"],[1.0,\"#f0f921\"]]}],\"surface\":[{\"type\":\"surface\",\"colorbar\":{\"outlinewidth\":0,\"ticks\":\"\"},\"colorscale\":[[0.0,\"#0d0887\"],[0.1111111111111111,\"#46039f\"],[0.2222222222222222,\"#7201a8\"],[0.3333333333333333,\"#9c179e\"],[0.4444444444444444,\"#bd3786\"],[0.5555555555555556,\"#d8576b\"],[0.6666666666666666,\"#ed7953\"],[0.7777777777777778,\"#fb9f3a\"],[0.8888888888888888,\"#fdca26\"],[1.0,\"#f0f921\"]]}],\"mesh3d\":[{\"type\":\"mesh3d\",\"colorbar\":{\"outlinewidth\":0,\"ticks\":\"\"}}],\"scatter\":[{\"fillpattern\":{\"fillmode\":\"overlay\",\"size\":10,\"solidity\":0.2},\"type\":\"scatter\"}],\"parcoords\":[{\"type\":\"parcoords\",\"line\":{\"colorbar\":{\"outlinewidth\":0,\"ticks\":\"\"}}}],\"scatterpolargl\":[{\"type\":\"scatterpolargl\",\"marker\":{\"colorbar\":{\"outlinewidth\":0,\"ticks\":\"\"}}}],\"bar\":[{\"error_x\":{\"color\":\"#2a3f5f\"},\"error_y\":{\"color\":\"#2a3f5f\"},\"marker\":{\"line\":{\"color\":\"#E5ECF6\",\"width\":0.5},\"pattern\":{\"fillmode\":\"overlay\",\"size\":10,\"solidity\":0.2}},\"type\":\"bar\"}],\"scattergeo\":[{\"type\":\"scattergeo\",\"marker\":{\"colorbar\":{\"outlinewidth\":0,\"ticks\":\"\"}}}],\"scatterpolar\":[{\"type\":\"scatterpolar\",\"marker\":{\"colorbar\":{\"outlinewidth\":0,\"ticks\":\"\"}}}],\"histogram\":[{\"marker\":{\"pattern\":{\"fillmode\":\"overlay\",\"size\":10,\"solidity\":0.2}},\"type\":\"histogram\"}],\"scattergl\":[{\"type\":\"scattergl\",\"marker\":{\"colorbar\":{\"outlinewidth\":0,\"ticks\":\"\"}}}],\"scatter3d\":[{\"type\":\"scatter3d\",\"line\":{\"colorbar\":{\"outlinewidth\":0,\"ticks\":\"\"}},\"marker\":{\"colorbar\":{\"outlinewidth\":0,\"ticks\":\"\"}}}],\"scattermapbox\":[{\"type\":\"scattermapbox\",\"marker\":{\"colorbar\":{\"outlinewidth\":0,\"ticks\":\"\"}}}],\"scatterternary\":[{\"type\":\"scatterternary\",\"marker\":{\"colorbar\":{\"outlinewidth\":0,\"ticks\":\"\"}}}],\"scattercarpet\":[{\"type\":\"scattercarpet\",\"marker\":{\"colorbar\":{\"outlinewidth\":0,\"ticks\":\"\"}}}],\"carpet\":[{\"aaxis\":{\"endlinecolor\":\"#2a3f5f\",\"gridcolor\":\"white\",\"linecolor\":\"white\",\"minorgridcolor\":\"white\",\"startlinecolor\":\"#2a3f5f\"},\"baxis\":{\"endlinecolor\":\"#2a3f5f\",\"gridcolor\":\"white\",\"linecolor\":\"white\",\"minorgridcolor\":\"white\",\"startlinecolor\":\"#2a3f5f\"},\"type\":\"carpet\"}],\"table\":[{\"cells\":{\"fill\":{\"color\":\"#EBF0F8\"},\"line\":{\"color\":\"white\"}},\"header\":{\"fill\":{\"color\":\"#C8D4E3\"},\"line\":{\"color\":\"white\"}},\"type\":\"table\"}],\"barpolar\":[{\"marker\":{\"line\":{\"color\":\"#E5ECF6\",\"width\":0.5},\"pattern\":{\"fillmode\":\"overlay\",\"size\":10,\"solidity\":0.2}},\"type\":\"barpolar\"}],\"pie\":[{\"automargin\":true,\"type\":\"pie\"}]},\"layout\":{\"autotypenumbers\":\"strict\",\"colorway\":[\"#636efa\",\"#EF553B\",\"#00cc96\",\"#ab63fa\",\"#FFA15A\",\"#19d3f3\",\"#FF6692\",\"#B6E880\",\"#FF97FF\",\"#FECB52\"],\"font\":{\"color\":\"#2a3f5f\"},\"hovermode\":\"closest\",\"hoverlabel\":{\"align\":\"left\"},\"paper_bgcolor\":\"white\",\"plot_bgcolor\":\"#E5ECF6\",\"polar\":{\"bgcolor\":\"#E5ECF6\",\"angularaxis\":{\"gridcolor\":\"white\",\"linecolor\":\"white\",\"ticks\":\"\"},\"radialaxis\":{\"gridcolor\":\"white\",\"linecolor\":\"white\",\"ticks\":\"\"}},\"ternary\":{\"bgcolor\":\"#E5ECF6\",\"aaxis\":{\"gridcolor\":\"white\",\"linecolor\":\"white\",\"ticks\":\"\"},\"baxis\":{\"gridcolor\":\"white\",\"linecolor\":\"white\",\"ticks\":\"\"},\"caxis\":{\"gridcolor\":\"white\",\"linecolor\":\"white\",\"ticks\":\"\"}},\"coloraxis\":{\"colorbar\":{\"outlinewidth\":0,\"ticks\":\"\"}},\"colorscale\":{\"sequential\":[[0.0,\"#0d0887\"],[0.1111111111111111,\"#46039f\"],[0.2222222222222222,\"#7201a8\"],[0.3333333333333333,\"#9c179e\"],[0.4444444444444444,\"#bd3786\"],[0.5555555555555556,\"#d8576b\"],[0.6666666666666666,\"#ed7953\"],[0.7777777777777778,\"#fb9f3a\"],[0.8888888888888888,\"#fdca26\"],[1.0,\"#f0f921\"]],\"sequentialminus\":[[0.0,\"#0d0887\"],[0.1111111111111111,\"#46039f\"],[0.2222222222222222,\"#7201a8\"],[0.3333333333333333,\"#9c179e\"],[0.4444444444444444,\"#bd3786\"],[0.5555555555555556,\"#d8576b\"],[0.6666666666666666,\"#ed7953\"],[0.7777777777777778,\"#fb9f3a\"],[0.8888888888888888,\"#fdca26\"],[1.0,\"#f0f921\"]],\"diverging\":[[0,\"#8e0152\"],[0.1,\"#c51b7d\"],[0.2,\"#de77ae\"],[0.3,\"#f1b6da\"],[0.4,\"#fde0ef\"],[0.5,\"#f7f7f7\"],[0.6,\"#e6f5d0\"],[0.7,\"#b8e186\"],[0.8,\"#7fbc41\"],[0.9,\"#4d9221\"],[1,\"#276419\"]]},\"xaxis\":{\"gridcolor\":\"white\",\"linecolor\":\"white\",\"ticks\":\"\",\"title\":{\"standoff\":15},\"zerolinecolor\":\"white\",\"automargin\":true,\"zerolinewidth\":2},\"yaxis\":{\"gridcolor\":\"white\",\"linecolor\":\"white\",\"ticks\":\"\",\"title\":{\"standoff\":15},\"zerolinecolor\":\"white\",\"automargin\":true,\"zerolinewidth\":2},\"scene\":{\"xaxis\":{\"backgroundcolor\":\"#E5ECF6\",\"gridcolor\":\"white\",\"linecolor\":\"white\",\"showbackground\":true,\"ticks\":\"\",\"zerolinecolor\":\"white\",\"gridwidth\":2},\"yaxis\":{\"backgroundcolor\":\"#E5ECF6\",\"gridcolor\":\"white\",\"linecolor\":\"white\",\"showbackground\":true,\"ticks\":\"\",\"zerolinecolor\":\"white\",\"gridwidth\":2},\"zaxis\":{\"backgroundcolor\":\"#E5ECF6\",\"gridcolor\":\"white\",\"linecolor\":\"white\",\"showbackground\":true,\"ticks\":\"\",\"zerolinecolor\":\"white\",\"gridwidth\":2}},\"shapedefaults\":{\"line\":{\"color\":\"#2a3f5f\"}},\"annotationdefaults\":{\"arrowcolor\":\"#2a3f5f\",\"arrowhead\":0,\"arrowwidth\":1},\"geo\":{\"bgcolor\":\"white\",\"landcolor\":\"#E5ECF6\",\"subunitcolor\":\"white\",\"showland\":true,\"showlakes\":true,\"lakecolor\":\"white\"},\"title\":{\"x\":0.05},\"mapbox\":{\"style\":\"light\"}}},\"shapes\":[{\"line\":{\"color\":\"green\",\"dash\":\"dash\",\"width\":3},\"type\":\"line\",\"x0\":512000000.0,\"x1\":512000000.0,\"xref\":\"x\",\"y0\":0,\"y1\":1,\"yref\":\"y domain\"}],\"annotations\":[{\"align\":\"left\",\"arrowcolor\":\"#636363\",\"arrowhead\":1,\"arrowsize\":1,\"arrowwidth\":2,\"ax\":-20,\"ay\":-30,\"font\":{\"color\":\"purple\",\"family\":\"Sans Serif\",\"size\":12},\"showarrow\":false,\"text\":\"LLC Size Per Node\",\"x\":\"512e6\",\"y\":130,\"yanchor\":\"bottom\"}],\"xaxis\":{\"title\":{\"text\":\"Dirc_Data_Mov\"},\"ticks\":\"outside\"},\"yaxis\":{\"title\":{\"text\":\"GFLOPs/Node\"},\"ticks\":\"outside\"},\"title\":{\"text\":\"\\\"Fused-Macro (2-Nodes): probempi vs nonprobempi\\\" GFlops Measurement\"},\"legend\":{\"bordercolor\":\"black\",\"borderwidth\":1}},                        {\"responsive\": true}                    ).then(function(){\n",
       "                            \n",
       "var gd = document.getElementById('77a36b2d-a430-410b-85ee-bcd39f8cfbde');\n",
       "var x = new MutationObserver(function (mutations, observer) {{\n",
       "        var display = window.getComputedStyle(gd).display;\n",
       "        if (!display || display === 'none') {{\n",
       "            console.log([gd, 'removed!']);\n",
       "            Plotly.purge(gd);\n",
       "            observer.disconnect();\n",
       "        }}\n",
       "}});\n",
       "\n",
       "// Listen for the removal of the full notebook cells\n",
       "var notebookContainer = gd.closest('#notebook-container');\n",
       "if (notebookContainer) {{\n",
       "    x.observe(notebookContainer, {childList: true});\n",
       "}}\n",
       "\n",
       "// Listen for the clearing of the current output cell\n",
       "var outputEl = gd.closest('.output');\n",
       "if (outputEl) {{\n",
       "    x.observe(outputEl, {childList: true});\n",
       "}}\n",
       "\n",
       "                        })                };                });            </script>        </div>"
      ]
     },
     "metadata": {},
     "output_type": "display_data"
    }
   ],
   "source": [
    "fig = go.Figure() \n",
    "\n",
    "fig.add_trace(go.Scatter(x=(dfn2MacFusnonProb_256mpi_1omp.Dirc_Data_Mov*(dfn2MacFusnonProb_256mpi_1omp.MPI_size/2)), \n",
    "                         y=(dfn2MacFusnonProb_256mpi_1omp.GFLOPS*(dfn2MacFusnonProb_256mpi_1omp.MPI_size/2)), \n",
    "                         mode='lines+markers', \n",
    "                         name='MacFusnonProb_256mpi_1omp',\n",
    "                         line=dict(color='magenta',width=3),\n",
    "                         marker=dict(symbol='hexagon',size=9, line=dict(color='yellow',width=1))))\n",
    "\n",
    "\n",
    "fig.add_trace(go.Scatter(x=(dfn2MacFusProb_256mpi_1omp.Dirc_Data_Mov*(dfn2MacFusProb_256mpi_1omp.MPI_size/2)), \n",
    "                         y=(dfn2MacFusProb_256mpi_1omp.GFLOPS*(dfn2MacFusProb_256mpi_1omp.MPI_size/2)), \n",
    "                         mode='lines+markers', \n",
    "                         name='MacFusProb_256mpi_1omp',\n",
    "                         line=dict(color='olive',width=3),\n",
    "                         marker=dict(symbol='hexagon',size=9, line=dict(color='yellow',width=1))))\n",
    "\n",
    "# case 2\n",
    "fig.add_trace(go.Scatter(x=(dfn2MacFusnonProb_128mpi_2omp.Dirc_Data_Mov*(dfn2MacFusnonProb_128mpi_2omp.MPI_size/2)), \n",
    "                         y=(dfn2MacFusnonProb_128mpi_2omp.GFLOPS*(dfn2MacFusnonProb_128mpi_2omp.MPI_size/2)), \n",
    "                         mode='lines+markers', \n",
    "                         name='MacFusnonProb_128mpi_2omp',\n",
    "                         line=dict(color='sandybrown',width=3),\n",
    "                         marker=dict(symbol='diamond',size=5,line=dict(color='MediumPurple',width=2))))\n",
    "\n",
    "fig.add_trace(go.Scatter(x=(dfn2MacFusProb_128mpi_2omp.Dirc_Data_Mov*(dfn2MacFusProb_128mpi_2omp.MPI_size/2)), \n",
    "                         y=(dfn2MacFusProb_128mpi_2omp.GFLOPS*(dfn2MacFusProb_128mpi_2omp.MPI_size/2)), \n",
    "                         mode='lines+markers', \n",
    "                         name='MacFusProb_128mpi_2omp',\n",
    "                         line=dict(color='royalblue',width=3),\n",
    "                         marker=dict(symbol='diamond',size=5,line=dict(color='MediumPurple',width=2))))\n",
    "\n",
    "# case 3\n",
    "fig.add_trace(go.Scatter(x=(dfn2MacFusnonProb_64mpi_4omp.Dirc_Data_Mov*(dfn2MacFusnonProb_64mpi_4omp.MPI_size/2)), \n",
    "                         y=(dfn2MacFusnonProb_64mpi_4omp.GFLOPS*(dfn2MacFusnonProb_64mpi_4omp.MPI_size/2)), \n",
    "                         mode='lines+markers', \n",
    "                         name='MacFusnonProb_64mpi_4omp',\n",
    "                         line=dict(color='cyan',width=3),\n",
    "                         marker=dict(symbol='circle',size=7,line=dict(color='Purple',width=2))))\n",
    "\n",
    "fig.add_trace(go.Scatter(x=(dfn2MacFusProb_64mpi_4omp.Dirc_Data_Mov*(dfn2MacFusProb_64mpi_4omp.MPI_size/2)), \n",
    "                         y=(dfn2MacFusProb_64mpi_4omp.GFLOPS*(dfn2MacFusProb_64mpi_4omp.MPI_size/2)), \n",
    "                         mode='lines+markers', \n",
    "                         name='MacFusProb_64mpi_4omp',\n",
    "                         line=dict(color='darkblue',width=3),\n",
    "                         marker=dict(symbol='circle',size=7, line=dict(color='tomato',width=2))))\n",
    "\n",
    "# case 4\n",
    "fig.add_trace(go.Scatter(x=(dfn2MacFusNonProb_32mpi_8omp.Dirc_Data_Mov*(dfn2MacFusNonProb_32mpi_8omp.MPI_size/2)), \n",
    "                         y=(dfn2MacFusNonProb_32mpi_8omp.GFLOPS*(dfn2MacFusNonProb_32mpi_8omp.MPI_size/2)), \n",
    "                         mode='lines+markers', \n",
    "                         name='MacFusNonProb_32mpi_8omp',\n",
    "                         line=dict(color='red',width=3),\n",
    "                         marker=dict(symbol='circle',size=5,line=dict(color='red',width=2))))\n",
    "\n",
    "fig.add_trace(go.Scatter(x=(dfn2MacFusProb_32mpi_8omp.Dirc_Data_Mov*(dfn2MacFusProb_32mpi_8omp.MPI_size/2)), \n",
    "                         y=(dfn2MacFusProb_32mpi_8omp.GFLOPS*(dfn2MacFusProb_32mpi_8omp.MPI_size/2)), \n",
    "                         mode='lines+markers', \n",
    "                         name='MacFusProb_32mpi_8omp',\n",
    "                         line=dict(color='green',width=3),\n",
    "                         marker=dict(symbol='circle',size=5,line=dict(color='green',width=2))))\n",
    "\n",
    "# case 5\n",
    "\n",
    "fig.add_trace(go.Scatter(x=(dfn2MacFusNonProb_16mpi_16omp.Dirc_Data_Mov*(dfn2MacFusNonProb_16mpi_16omp.MPI_size/2)), \n",
    "                         y=(dfn2MacFusNonProb_16mpi_16omp.GFLOPS*(dfn2MacFusNonProb_16mpi_16omp.MPI_size/2)), \n",
    "                         mode='lines+markers', \n",
    "                         name='MacFusNonProb_16mpi_16omp',\n",
    "                         line=dict(color='blue',width=3),\n",
    "                         marker=dict(symbol='triangle-up',size=4,line=dict(color='chocolate',width=2))))\n",
    "\n",
    "fig.add_trace(go.Scatter(x=(dfn2MacFusProb_16mpi_16omp.Dirc_Data_Mov*(dfn2MacFusProb_16mpi_16omp.MPI_size/2)), \n",
    "                         y=(dfn2MacFusProb_16mpi_16omp.GFLOPS*(dfn2MacFusProb_16mpi_16omp.MPI_size/2)), \n",
    "                         mode='lines+markers', \n",
    "                         name='MacFusProb_16mpi_16omp',\n",
    "                         line=dict(color='darkviolet',width=3),\n",
    "                         marker=dict(symbol='triangle-up',size=4,line=dict(color='crimson',width=2))))\n",
    "\n",
    "\n",
    "\n",
    "# Adding a vertical line\n",
    "fig.add_vline(x=512e6, line_width=3, line_dash=\"dash\", line_color=\"green\")\n",
    "# fig.add_hline(y=1024, line_width=3, line_dash=\"dash\", line_color=\"red\")\n",
    "\n",
    "# Add annotation\n",
    "fig.add_annotation(\n",
    "    x='512e6'\n",
    "    , y=130\n",
    "    , text=f'LLC Size Per Node'\n",
    "    , yanchor='bottom'\n",
    "    , showarrow=False\n",
    "    , arrowhead=1\n",
    "    , arrowsize=1\n",
    "    , arrowwidth=2\n",
    "    , arrowcolor=\"#636363\"\n",
    "    , ax=-20\n",
    "    , ay=-30\n",
    "    , font=dict(size=12, color=\"purple\", family=\"Sans Serif\")\n",
    "    , align=\"left\"\n",
    "    ,)\n",
    "\n",
    "fig.update_layout(title='\"Fused-Macro (2-Nodes): probempi vs nonprobempi\" GFlops Measurement',\n",
    "                  xaxis_title='Dirc_Data_Mov', yaxis_title='GFLOPs/Node', \n",
    "                  xaxis=dict(ticks=\"outside\"),  \n",
    "                  yaxis=dict(ticks=\"outside\"),\n",
    "                  legend=go.layout.Legend(bordercolor=\"black\",borderwidth=1))"
   ]
  },
  {
   "cell_type": "markdown",
   "id": "9e62512e",
   "metadata": {},
   "source": [
    "## 3) Nonfused_Macro_Probempi"
   ]
  },
  {
   "cell_type": "markdown",
   "id": "74877b5e",
   "metadata": {},
   "source": [
    "### Adding Columns"
   ]
  },
  {
   "cell_type": "code",
   "execution_count": 69,
   "id": "44bfcb34",
   "metadata": {},
   "outputs": [],
   "source": [
    "dfn2_macro_nonfused_probempi[\"N_Nodes\"] = 2\n",
    "dfn2_macro_nonfused_probempi['NPX'] = (dfn2_macro_nonfused_probempi.GLB_X//dfn2_macro_nonfused_probempi.LOC_X)\n",
    "dfn2_macro_nonfused_probempi['NPY'] = (dfn2_macro_nonfused_probempi.GLB_Y//dfn2_macro_nonfused_probempi.LOC_Y)\n",
    "dfn2_macro_nonfused_probempi['NPZ'] = (dfn2_macro_nonfused_probempi.GLB_Z//dfn2_macro_nonfused_probempi.LOC_Z)\n",
    "dfn2_macro_nonfused_probempi['NPT'] = (dfn2_macro_nonfused_probempi.GLB_T//dfn2_macro_nonfused_probempi.LOC_T)\n",
    "dfn2_macro_nonfused_probempi[\"Total_proc\"] = dfn2_macro_nonfused_probempi[\"omp_thrd\"]* dfn2_macro_nonfused_probempi.MPI_size\n",
    "# dfn2_macro_nonfused_probempi.columns"
   ]
  },
  {
   "cell_type": "markdown",
   "id": "388d76d2",
   "metadata": {},
   "source": [
    "### Data Summary"
   ]
  },
  {
   "cell_type": "code",
   "execution_count": 70,
   "id": "a164961a",
   "metadata": {},
   "outputs": [
    {
     "data": {
      "text/html": [
       "<div>\n",
       "<style scoped>\n",
       "    .dataframe tbody tr th:only-of-type {\n",
       "        vertical-align: middle;\n",
       "    }\n",
       "\n",
       "    .dataframe tbody tr th {\n",
       "        vertical-align: top;\n",
       "    }\n",
       "\n",
       "    .dataframe thead th {\n",
       "        text-align: right;\n",
       "    }\n",
       "</style>\n",
       "<table border=\"1\" class=\"dataframe\">\n",
       "  <thead>\n",
       "    <tr style=\"text-align: right;\">\n",
       "      <th></th>\n",
       "      <th>MPI_size</th>\n",
       "      <th>omp_thrd</th>\n",
       "      <th>NPT</th>\n",
       "      <th>NPX</th>\n",
       "      <th>NPY</th>\n",
       "      <th>NPZ</th>\n",
       "      <th>Total_proc</th>\n",
       "      <th>size</th>\n",
       "    </tr>\n",
       "  </thead>\n",
       "  <tbody>\n",
       "    <tr>\n",
       "      <th>0</th>\n",
       "      <td>16</td>\n",
       "      <td>16</td>\n",
       "      <td>2</td>\n",
       "      <td>2</td>\n",
       "      <td>2</td>\n",
       "      <td>2</td>\n",
       "      <td>256</td>\n",
       "      <td>99</td>\n",
       "    </tr>\n",
       "    <tr>\n",
       "      <th>1</th>\n",
       "      <td>32</td>\n",
       "      <td>8</td>\n",
       "      <td>4</td>\n",
       "      <td>2</td>\n",
       "      <td>2</td>\n",
       "      <td>2</td>\n",
       "      <td>256</td>\n",
       "      <td>70</td>\n",
       "    </tr>\n",
       "    <tr>\n",
       "      <th>2</th>\n",
       "      <td>64</td>\n",
       "      <td>4</td>\n",
       "      <td>8</td>\n",
       "      <td>2</td>\n",
       "      <td>2</td>\n",
       "      <td>2</td>\n",
       "      <td>256</td>\n",
       "      <td>35</td>\n",
       "    </tr>\n",
       "    <tr>\n",
       "      <th>3</th>\n",
       "      <td>128</td>\n",
       "      <td>2</td>\n",
       "      <td>16</td>\n",
       "      <td>2</td>\n",
       "      <td>2</td>\n",
       "      <td>2</td>\n",
       "      <td>256</td>\n",
       "      <td>17</td>\n",
       "    </tr>\n",
       "    <tr>\n",
       "      <th>4</th>\n",
       "      <td>248</td>\n",
       "      <td>1</td>\n",
       "      <td>31</td>\n",
       "      <td>2</td>\n",
       "      <td>2</td>\n",
       "      <td>2</td>\n",
       "      <td>248</td>\n",
       "      <td>4</td>\n",
       "    </tr>\n",
       "    <tr>\n",
       "      <th>5</th>\n",
       "      <td>256</td>\n",
       "      <td>1</td>\n",
       "      <td>32</td>\n",
       "      <td>2</td>\n",
       "      <td>2</td>\n",
       "      <td>2</td>\n",
       "      <td>256</td>\n",
       "      <td>7</td>\n",
       "    </tr>\n",
       "  </tbody>\n",
       "</table>\n",
       "</div>"
      ],
      "text/plain": [
       "   MPI_size  omp_thrd  NPT  NPX  NPY  NPZ  Total_proc  size\n",
       "0        16        16    2    2    2    2         256    99\n",
       "1        32         8    4    2    2    2         256    70\n",
       "2        64         4    8    2    2    2         256    35\n",
       "3       128         2   16    2    2    2         256    17\n",
       "4       248         1   31    2    2    2         248     4\n",
       "5       256         1   32    2    2    2         256     7"
      ]
     },
     "execution_count": 70,
     "metadata": {},
     "output_type": "execute_result"
    }
   ],
   "source": [
    "dfn2_macro_nonfused_probempi_summary = dfn2_macro_nonfused_probempi.groupby(['MPI_size','omp_thrd','NPT','NPX', 'NPY', 'NPZ',\"Total_proc\"]).size().reset_index(name = 'size')\n",
    "dfn2_macro_nonfused_probempi_summary"
   ]
  },
  {
   "cell_type": "markdown",
   "id": "7cf53b70",
   "metadata": {},
   "source": [
    "### Cases Setup "
   ]
  },
  {
   "cell_type": "code",
   "execution_count": 71,
   "id": "e52d7ba0",
   "metadata": {},
   "outputs": [],
   "source": [
    "dfn2MacNonFusProb_16mpi_16omp = dfn2_macro_nonfused_probempi[(dfn2_macro_nonfused_probempi.omp_thrd == 16) & (dfn2_macro_nonfused_probempi.GLB_T/dfn2_macro_nonfused_probempi.LOC_T == 2) & (dfn2_macro_nonfused_probempi.GLB_X/dfn2_macro_nonfused_probempi.LOC_X == 2) & (dfn2_macro_nonfused_probempi.GLB_Y/dfn2_macro_nonfused_probempi.LOC_Y == 2)& (dfn2_macro_nonfused_probempi.GLB_Z/dfn2_macro_nonfused_probempi.LOC_Z == 2)]\n",
    "dfn2MacNonFusProb_32mpi_8omp = dfn2_macro_nonfused_probempi[(dfn2_macro_nonfused_probempi.omp_thrd == 8) & (dfn2_macro_nonfused_probempi.GLB_T/dfn2_macro_nonfused_probempi.LOC_T == 4) & (dfn2_macro_nonfused_probempi.GLB_X/dfn2_macro_nonfused_probempi.LOC_X == 2) & (dfn2_macro_nonfused_probempi.GLB_Y/dfn2_macro_nonfused_probempi.LOC_Y == 2)& (dfn2_macro_nonfused_probempi.GLB_Z/dfn2_macro_nonfused_probempi.LOC_Z == 2)]\n",
    "dfn2MacNonFusProb_64mpi_4omp = dfn2_macro_nonfused_probempi[(dfn2_macro_nonfused_probempi.omp_thrd == 4) & (dfn2_macro_nonfused_probempi.GLB_T/dfn2_macro_nonfused_probempi.LOC_T == 8) & (dfn2_macro_nonfused_probempi.GLB_X/dfn2_macro_nonfused_probempi.LOC_X == 2) & (dfn2_macro_nonfused_probempi.GLB_Y/dfn2_macro_nonfused_probempi.LOC_Y == 2)& (dfn2_macro_nonfused_probempi.GLB_Z/dfn2_macro_nonfused_probempi.LOC_Z == 2)]\n",
    "dfn2MacNonFusProb_128mpi_2omp = dfn2_macro_nonfused_probempi[(dfn2_macro_nonfused_probempi.omp_thrd == 2) & (dfn2_macro_nonfused_probempi.GLB_T/dfn2_macro_nonfused_probempi.LOC_T == 16) & (dfn2_macro_nonfused_probempi.GLB_X/dfn2_macro_nonfused_probempi.LOC_X == 2) & (dfn2_macro_nonfused_probempi.GLB_Y/dfn2_macro_nonfused_probempi.LOC_Y == 2)& (dfn2_macro_nonfused_probempi.GLB_Z/dfn2_macro_nonfused_probempi.LOC_Z == 2)]\n",
    "dfn2MacNonFusProb_256mpi_1omp = dfn2_macro_nonfused_probempi[(dfn2_macro_nonfused_probempi.omp_thrd == 1) & (dfn2_macro_nonfused_probempi.GLB_T/dfn2_macro_nonfused_probempi.LOC_T == 32) & (dfn2_macro_nonfused_probempi.GLB_X/dfn2_macro_nonfused_probempi.LOC_X == 2) & (dfn2_macro_nonfused_probempi.GLB_Y/dfn2_macro_nonfused_probempi.LOC_Y == 2)& (dfn2_macro_nonfused_probempi.GLB_Z/dfn2_macro_nonfused_probempi.LOC_Z == 2)]\n"
   ]
  },
  {
   "cell_type": "markdown",
   "id": "b15187e5",
   "metadata": {},
   "source": [
    "## 4) Nonfused_Macro_NonProbempi"
   ]
  },
  {
   "cell_type": "markdown",
   "id": "855a5d09",
   "metadata": {},
   "source": [
    "### Adding Columns"
   ]
  },
  {
   "cell_type": "code",
   "execution_count": 72,
   "id": "db2e972a",
   "metadata": {},
   "outputs": [],
   "source": [
    "dfn2_macro_nonfused_nonprobempi[\"N_Nodes\"] = 2\n",
    "dfn2_macro_nonfused_nonprobempi['NPX'] = (dfn2_macro_nonfused_nonprobempi.GLB_X//dfn2_macro_nonfused_nonprobempi.LOC_X)\n",
    "dfn2_macro_nonfused_nonprobempi['NPY'] = (dfn2_macro_nonfused_nonprobempi.GLB_Y//dfn2_macro_nonfused_nonprobempi.LOC_Y)\n",
    "dfn2_macro_nonfused_nonprobempi['NPZ'] = (dfn2_macro_nonfused_nonprobempi.GLB_Z//dfn2_macro_nonfused_nonprobempi.LOC_Z)\n",
    "dfn2_macro_nonfused_nonprobempi['NPT'] = (dfn2_macro_nonfused_nonprobempi.GLB_T//dfn2_macro_nonfused_nonprobempi.LOC_T)\n",
    "dfn2_macro_nonfused_nonprobempi[\"Total_proc\"] = dfn2_macro_nonfused_nonprobempi[\"omp_thrd\"]* dfn2_macro_nonfused_nonprobempi.MPI_size\n",
    "# dfn2_macro_nonfused_nonprobempi.columns"
   ]
  },
  {
   "cell_type": "markdown",
   "id": "228c1be0",
   "metadata": {},
   "source": [
    "### Data Summary"
   ]
  },
  {
   "cell_type": "code",
   "execution_count": 73,
   "id": "6c3bb281",
   "metadata": {},
   "outputs": [
    {
     "data": {
      "text/html": [
       "<div>\n",
       "<style scoped>\n",
       "    .dataframe tbody tr th:only-of-type {\n",
       "        vertical-align: middle;\n",
       "    }\n",
       "\n",
       "    .dataframe tbody tr th {\n",
       "        vertical-align: top;\n",
       "    }\n",
       "\n",
       "    .dataframe thead th {\n",
       "        text-align: right;\n",
       "    }\n",
       "</style>\n",
       "<table border=\"1\" class=\"dataframe\">\n",
       "  <thead>\n",
       "    <tr style=\"text-align: right;\">\n",
       "      <th></th>\n",
       "      <th>MPI_size</th>\n",
       "      <th>omp_thrd</th>\n",
       "      <th>NPT</th>\n",
       "      <th>NPX</th>\n",
       "      <th>NPY</th>\n",
       "      <th>NPZ</th>\n",
       "      <th>Total_proc</th>\n",
       "      <th>size</th>\n",
       "    </tr>\n",
       "  </thead>\n",
       "  <tbody>\n",
       "    <tr>\n",
       "      <th>0</th>\n",
       "      <td>16</td>\n",
       "      <td>16</td>\n",
       "      <td>2</td>\n",
       "      <td>2</td>\n",
       "      <td>2</td>\n",
       "      <td>2</td>\n",
       "      <td>256</td>\n",
       "      <td>104</td>\n",
       "    </tr>\n",
       "    <tr>\n",
       "      <th>1</th>\n",
       "      <td>32</td>\n",
       "      <td>8</td>\n",
       "      <td>4</td>\n",
       "      <td>2</td>\n",
       "      <td>2</td>\n",
       "      <td>2</td>\n",
       "      <td>256</td>\n",
       "      <td>69</td>\n",
       "    </tr>\n",
       "    <tr>\n",
       "      <th>2</th>\n",
       "      <td>64</td>\n",
       "      <td>4</td>\n",
       "      <td>8</td>\n",
       "      <td>2</td>\n",
       "      <td>2</td>\n",
       "      <td>2</td>\n",
       "      <td>256</td>\n",
       "      <td>35</td>\n",
       "    </tr>\n",
       "    <tr>\n",
       "      <th>3</th>\n",
       "      <td>128</td>\n",
       "      <td>2</td>\n",
       "      <td>16</td>\n",
       "      <td>2</td>\n",
       "      <td>2</td>\n",
       "      <td>2</td>\n",
       "      <td>256</td>\n",
       "      <td>17</td>\n",
       "    </tr>\n",
       "    <tr>\n",
       "      <th>4</th>\n",
       "      <td>248</td>\n",
       "      <td>1</td>\n",
       "      <td>31</td>\n",
       "      <td>2</td>\n",
       "      <td>2</td>\n",
       "      <td>2</td>\n",
       "      <td>248</td>\n",
       "      <td>4</td>\n",
       "    </tr>\n",
       "    <tr>\n",
       "      <th>5</th>\n",
       "      <td>256</td>\n",
       "      <td>1</td>\n",
       "      <td>32</td>\n",
       "      <td>2</td>\n",
       "      <td>2</td>\n",
       "      <td>2</td>\n",
       "      <td>256</td>\n",
       "      <td>6</td>\n",
       "    </tr>\n",
       "  </tbody>\n",
       "</table>\n",
       "</div>"
      ],
      "text/plain": [
       "   MPI_size  omp_thrd  NPT  NPX  NPY  NPZ  Total_proc  size\n",
       "0        16        16    2    2    2    2         256   104\n",
       "1        32         8    4    2    2    2         256    69\n",
       "2        64         4    8    2    2    2         256    35\n",
       "3       128         2   16    2    2    2         256    17\n",
       "4       248         1   31    2    2    2         248     4\n",
       "5       256         1   32    2    2    2         256     6"
      ]
     },
     "execution_count": 73,
     "metadata": {},
     "output_type": "execute_result"
    }
   ],
   "source": [
    "dfn2_macro_nonfused_nonprobempi_summary = dfn2_macro_nonfused_nonprobempi.groupby(['MPI_size','omp_thrd','NPT','NPX', 'NPY', 'NPZ',\"Total_proc\"]).size().reset_index(name = 'size')\n",
    "dfn2_macro_nonfused_nonprobempi_summary"
   ]
  },
  {
   "cell_type": "markdown",
   "id": "9fef5141",
   "metadata": {},
   "source": [
    "### Cases Setup "
   ]
  },
  {
   "cell_type": "code",
   "execution_count": 74,
   "id": "492b077e",
   "metadata": {},
   "outputs": [],
   "source": [
    "dfn2MacNonFusNonProb_16mpi_16omp = dfn2_macro_nonfused_nonprobempi[(dfn2_macro_nonfused_nonprobempi.omp_thrd == 16) & (dfn2_macro_nonfused_nonprobempi.GLB_T/dfn2_macro_nonfused_nonprobempi.LOC_T == 2) & (dfn2_macro_nonfused_nonprobempi.GLB_X/dfn2_macro_nonfused_nonprobempi.LOC_X == 2) & (dfn2_macro_nonfused_nonprobempi.GLB_Y/dfn2_macro_nonfused_nonprobempi.LOC_Y == 2)& (dfn2_macro_nonfused_nonprobempi.GLB_Z/dfn2_macro_nonfused_nonprobempi.LOC_Z == 2)]\n",
    "dfn2MacNonFusNonProb_32mpi_8omp = dfn2_macro_nonfused_nonprobempi[(dfn2_macro_nonfused_nonprobempi.omp_thrd == 8) & (dfn2_macro_nonfused_nonprobempi.GLB_T/dfn2_macro_nonfused_nonprobempi.LOC_T == 4) & (dfn2_macro_nonfused_nonprobempi.GLB_X/dfn2_macro_nonfused_nonprobempi.LOC_X == 2) & (dfn2_macro_nonfused_nonprobempi.GLB_Y/dfn2_macro_nonfused_nonprobempi.LOC_Y == 2)& (dfn2_macro_nonfused_nonprobempi.GLB_Z/dfn2_macro_nonfused_nonprobempi.LOC_Z == 2)]\n",
    "dfn2MacNonFusNonProb_64mpi_4omp = dfn2_macro_nonfused_nonprobempi[(dfn2_macro_nonfused_nonprobempi.omp_thrd == 4) & (dfn2_macro_nonfused_nonprobempi.GLB_T/dfn2_macro_nonfused_nonprobempi.LOC_T == 8) & (dfn2_macro_nonfused_nonprobempi.GLB_X/dfn2_macro_nonfused_nonprobempi.LOC_X == 2) & (dfn2_macro_nonfused_nonprobempi.GLB_Y/dfn2_macro_nonfused_nonprobempi.LOC_Y == 2)& (dfn2_macro_nonfused_nonprobempi.GLB_Z/dfn2_macro_nonfused_nonprobempi.LOC_Z == 2)]\n",
    "dfn2MacNonFusNonProb_128mpi_2omp = dfn2_macro_nonfused_nonprobempi[(dfn2_macro_nonfused_nonprobempi.omp_thrd == 2) & (dfn2_macro_nonfused_nonprobempi.GLB_T/dfn2_macro_nonfused_nonprobempi.LOC_T == 16) & (dfn2_macro_nonfused_nonprobempi.GLB_X/dfn2_macro_nonfused_nonprobempi.LOC_X == 2) & (dfn2_macro_nonfused_nonprobempi.GLB_Y/dfn2_macro_nonfused_nonprobempi.LOC_Y == 2)& (dfn2_macro_nonfused_nonprobempi.GLB_Z/dfn2_macro_nonfused_nonprobempi.LOC_Z == 2)]\n",
    "dfn2MacNonFusNonProb_256mpi_1omp = dfn2_macro_nonfused_nonprobempi[(dfn2_macro_nonfused_nonprobempi.omp_thrd == 1) & (dfn2_macro_nonfused_nonprobempi.GLB_T/dfn2_macro_nonfused_nonprobempi.LOC_T == 32) & (dfn2_macro_nonfused_nonprobempi.GLB_X/dfn2_macro_nonfused_nonprobempi.LOC_X == 2) & (dfn2_macro_nonfused_nonprobempi.GLB_Y/dfn2_macro_nonfused_nonprobempi.LOC_Y == 2)& (dfn2_macro_nonfused_nonprobempi.GLB_Z/dfn2_macro_nonfused_nonprobempi.LOC_Z == 2)]\n"
   ]
  },
  {
   "cell_type": "markdown",
   "id": "7e38c2a3",
   "metadata": {},
   "source": [
    "## GFLOPS - Nonfused Macro: Probempi vs Nonprobempi"
   ]
  },
  {
   "cell_type": "code",
   "execution_count": 75,
   "id": "65c60691",
   "metadata": {},
   "outputs": [
    {
     "data": {
      "application/vnd.plotly.v1+json": {
       "config": {
        "plotlyServerURL": "https://plot.ly"
       },
       "data": [
        {
         "line": {
          "color": "magenta",
          "width": 3
         },
         "marker": {
          "line": {
           "color": "yellow",
           "width": 1
          },
          "size": 9,
          "symbol": "hexagon"
         },
         "mode": "lines+markers",
         "name": "MacNonFusNonProb_256mpi_1omp",
         "type": "scatter",
         "x": [
          1572864000,
          1966080000,
          2359296000,
          3145728000,
          3538944000,
          3932160000
         ],
         "y": [
          203.04896,
          183.13856,
          176.31104,
          162.21184,
          153.99168,
          153.24672
         ]
        },
        {
         "line": {
          "color": "olive",
          "width": 3
         },
         "marker": {
          "line": {
           "color": "yellow",
           "width": 1
          },
          "size": 9,
          "symbol": "hexagon"
         },
         "mode": "lines+markers",
         "name": "MacNonFusProb_256mpi_1omp",
         "type": "scatter",
         "x": [
          1572864000,
          1966080000,
          2359296000,
          2752512000,
          3145728000,
          3538944000,
          3932160000
         ],
         "y": [
          197.85216,
          183.63648,
          155.87328,
          164.28928,
          158.68544,
          153.74592,
          150.61376
         ]
        },
        {
         "line": {
          "color": "sandybrown",
          "width": 3
         },
         "marker": {
          "line": {
           "color": "MediumPurple",
           "width": 2
          },
          "size": 5,
          "symbol": "diamond"
         },
         "mode": "lines+markers",
         "name": "MacNonFusNonProb_128mpi_2omp",
         "type": "scatter",
         "x": [
          983040000,
          786432000,
          1179648000,
          1376256000,
          1572864000,
          1769472000,
          1966080000,
          2162688000,
          2359296000,
          2555904000,
          2752512000,
          2949120000,
          3145728000,
          3342336000,
          3538944000,
          3735552000,
          3932160000
         ],
         "y": [
          188.10816,
          181.91744,
          216.9728,
          201.7728,
          196.24512,
          191.65696,
          178.5056,
          175.14752,
          168.03456,
          150.60672,
          158.0576,
          156.73472,
          153.4464,
          148.3008,
          137.05536,
          144.32832,
          134.11648
         ]
        },
        {
         "line": {
          "color": "royalblue",
          "width": 3
         },
         "marker": {
          "line": {
           "color": "MediumPurple",
           "width": 2
          },
          "size": 5,
          "symbol": "diamond"
         },
         "mode": "lines+markers",
         "name": "MacNonFusProb_128mpi_2omp",
         "type": "scatter",
         "x": [
          786432000,
          983040000,
          1179648000,
          1376256000,
          1572864000,
          1769472000,
          1966080000,
          2162688000,
          2359296000,
          2555904000,
          2752512000,
          2949120000,
          3145728000,
          3342336000,
          3538944000,
          3735552000,
          3932160000
         ],
         "y": [
          207.30752,
          191.47136,
          210.60416,
          199.41824,
          195.66272,
          188.77952,
          180.02432,
          173.13088,
          168.73024,
          161.77984,
          158.38144,
          151.46688,
          150.24,
          144.55552,
          146.74368,
          142.2688,
          141.66912
         ]
        },
        {
         "line": {
          "color": "cyan",
          "width": 3
         },
         "marker": {
          "line": {
           "color": "Purple",
           "width": 2
          },
          "size": 7,
          "symbol": "circle"
         },
         "mode": "lines+markers",
         "name": "MacNonFusNonProb_64mpi_4omp",
         "type": "scatter",
         "x": [
          589824000,
          688128000,
          884736000,
          786432000,
          983040000,
          1081344000,
          1179648000,
          1277952000,
          1376256000,
          1474560000,
          1572864000,
          1671168000,
          1769472000,
          1867776000,
          1966080000,
          2064384000,
          2162688000,
          2260992000,
          2359296000,
          2457600000,
          2555904000,
          2654208000,
          2752512000,
          2850816000,
          2949120000,
          3047424000,
          3145728000,
          3244032000,
          3342336000,
          3440640000,
          3538944000,
          3637248000,
          3735552000,
          3833856000,
          3932160000
         ],
         "y": [
          166.02624,
          167.6704,
          176.86912,
          158.03904,
          179.29024,
          177.86208,
          167.83776,
          157.28768,
          191.37632,
          178.0992,
          187.01184,
          174.44384,
          169.712,
          168.13952,
          168.38144,
          163.3616,
          162.24608,
          155.24768,
          159.44704,
          154.1408,
          145.03296,
          146.1872,
          147.78784,
          145.92544,
          143.8496,
          138.76416,
          139.8048,
          138.9232,
          137.65696,
          136.17472,
          137.17216,
          128.87744,
          134.83232,
          131.29536,
          130.10688
         ]
        },
        {
         "line": {
          "color": "darkblue",
          "width": 3
         },
         "marker": {
          "line": {
           "color": "tomato",
           "width": 2
          },
          "size": 7,
          "symbol": "circle"
         },
         "mode": "lines+markers",
         "name": "MacNonFusProb_64mpi_4omp",
         "type": "scatter",
         "x": [
          589824000,
          688128000,
          786432000,
          884736000,
          983040000,
          1081344000,
          1179648000,
          1277952000,
          1376256000,
          1474560000,
          1572864000,
          1671168000,
          1769472000,
          1867776000,
          1966080000,
          2064384000,
          2162688000,
          2260992000,
          2359296000,
          2457600000,
          2555904000,
          2654208000,
          2752512000,
          2850816000,
          2949120000,
          3047424000,
          3145728000,
          3244032000,
          3342336000,
          3440640000,
          3538944000,
          3637248000,
          3735552000,
          3833856000,
          3932160000
         ],
         "y": [
          183.69696,
          188.32288,
          194.25888,
          192.92224,
          197.4288,
          183.87136,
          182.5984,
          189.79584,
          189.99328,
          183.9248,
          183.62688,
          175.56064,
          175.55488,
          166.68384,
          168.36864,
          161.57088,
          161.79296,
          158.10496,
          155.31136,
          153.90112,
          141.96832,
          145.54112,
          135.76608,
          144.6448,
          142.648,
          141.33184,
          143.65184,
          137.9168,
          137.14752,
          138.04192,
          129.7616,
          129.8176,
          133.18752,
          129.72576,
          130.76128
         ]
        },
        {
         "line": {
          "color": "red",
          "width": 3
         },
         "marker": {
          "line": {
           "color": "red",
           "width": 2
          },
          "size": 5,
          "symbol": "circle"
         },
         "mode": "lines+markers",
         "name": "MacNonFusNonProb_32mpi_8omp",
         "type": "scatter",
         "x": [
          540672000,
          589824000,
          638976000,
          688128000,
          737280000,
          786432000,
          835584000,
          884736000,
          933888000,
          983040000,
          1032192000,
          1081344000,
          1130496000,
          1179648000,
          1228800000,
          1277952000,
          1376256000,
          1327104000,
          1425408000,
          1474560000,
          1523712000,
          1572864000,
          1622016000,
          1671168000,
          1720320000,
          1769472000,
          1818624000,
          1867776000,
          1916928000,
          1966080000,
          2015232000,
          2064384000,
          2113536000,
          2162688000,
          2211840000,
          2260992000,
          2310144000,
          2359296000,
          2457600000,
          2408448000,
          2506752000,
          2555904000,
          2654208000,
          2703360000,
          2752512000,
          2801664000,
          2850816000,
          2899968000,
          2949120000,
          2998272000,
          3047424000,
          3145728000,
          3096576000,
          3194880000,
          3244032000,
          3293184000,
          3342336000,
          3391488000,
          3440640000,
          3489792000,
          3538944000,
          3588096000,
          3637248000,
          3686400000,
          3735552000,
          3784704000,
          3833856000,
          3883008000,
          3932160000
         ],
         "y": [
          139.03728,
          144.59936,
          139.70176,
          144.95696,
          152.7224,
          158.98432,
          156.8368,
          162.8176,
          160.4976,
          160.9856,
          158.57088,
          158.24464,
          154.93296,
          140.27552,
          141.45248,
          137.27664,
          128.71904,
          123.85248,
          118.74,
          153.08544,
          119.08416,
          148.69664,
          155.44576,
          148.31184,
          144.108,
          143.62752,
          144.60272,
          135.69552,
          144.64736,
          139.05552,
          139.61392,
          136.80576,
          137.72896,
          135.01696,
          138.7424,
          134.9288,
          133.08624,
          129.97904,
          130.5536,
          133.83568,
          132.04944,
          127.10896,
          130.04,
          119.74128,
          125.17664,
          128.93216,
          126.5448,
          121.19392,
          126.31936,
          128.10352,
          120.17072,
          124.93296,
          124.37392,
          119.64832,
          122.53296,
          122.36352,
          117.72368,
          122.64144,
          120.35232,
          116.4384,
          120.376,
          118.08896,
          116.0368,
          121.47712,
          117.21552,
          115.15696,
          115.11952,
          115.63088,
          114.7136
         ]
        },
        {
         "line": {
          "color": "green",
          "width": 3
         },
         "marker": {
          "line": {
           "color": "green",
           "width": 2
          },
          "size": 5,
          "symbol": "circle"
         },
         "mode": "lines+markers",
         "name": "MacNonFusProb_32mpi_8omp",
         "type": "scatter",
         "x": [
          540672000,
          589824000,
          638976000,
          688128000,
          737280000,
          786432000,
          835584000,
          884736000,
          933888000,
          983040000,
          1032192000,
          1081344000,
          1130496000,
          1179648000,
          1228800000,
          1277952000,
          1327104000,
          1376256000,
          1425408000,
          1474560000,
          1523712000,
          1572864000,
          1622016000,
          1671168000,
          1720320000,
          1769472000,
          1818624000,
          1867776000,
          1916928000,
          1966080000,
          2015232000,
          2064384000,
          2162688000,
          2113536000,
          2211840000,
          2260992000,
          2310144000,
          2359296000,
          2408448000,
          2457600000,
          2506752000,
          2555904000,
          2605056000,
          2654208000,
          2703360000,
          2752512000,
          2801664000,
          2850816000,
          2899968000,
          2949120000,
          2998272000,
          3047424000,
          3096576000,
          3145728000,
          3194880000,
          3244032000,
          3293184000,
          3342336000,
          3391488000,
          3440640000,
          3489792000,
          3538944000,
          3588096000,
          3637248000,
          3686400000,
          3735552000,
          3784704000,
          3833856000,
          3883008000,
          3932160000
         ],
         "y": [
          150.55536,
          144.95296,
          159.03152,
          159.82672,
          164.0224,
          164.9696,
          155.45888,
          163.7264,
          163.76,
          162.3328,
          158.85744,
          156.70624,
          152.90064,
          147.16032,
          136.14688,
          141.25264,
          128.69712,
          131.1296,
          152.35712,
          140.02672,
          144.74864,
          149.20736,
          143.23552,
          145.40528,
          141.7216,
          141.91696,
          129.71056,
          126.0688,
          137.94352,
          135.05024,
          132.10864,
          132.93264,
          131.89008,
          132.4048,
          128.77328,
          123.33392,
          123.4912,
          129.372,
          125.0216,
          125.60752,
          122.15648,
          116.65392,
          124.0936,
          124.64784,
          123.98944,
          123.21472,
          122.88464,
          122.15664,
          121.90528,
          112.2128,
          110.23952,
          114.43152,
          114.28304,
          121.21024,
          118.21632,
          114.65424,
          112.59152,
          115.41024,
          115.9216,
          113.95696,
          116.5792,
          115.0752,
          115.56064,
          116.0816,
          112.69776,
          114.9664,
          107.70816,
          114.01824,
          116.1552,
          112.94864
         ]
        },
        {
         "line": {
          "color": "blue",
          "width": 3
         },
         "marker": {
          "line": {
           "color": "chocolate",
           "width": 2
          },
          "size": 4,
          "symbol": "triangle-up"
         },
         "mode": "lines+markers",
         "name": "MacNonFusNonProb_16mpi_16omp",
         "type": "scatter",
         "x": [
          516096000,
          565248000,
          540672000,
          589824000,
          614400000,
          638976000,
          663552000,
          712704000,
          688128000,
          761856000,
          786432000,
          737280000,
          811008000,
          835584000,
          860160000,
          884736000,
          909312000,
          933888000,
          958464000,
          983040000,
          1007616000,
          1032192000,
          1056768000,
          1081344000,
          1105920000,
          1130496000,
          1155072000,
          1179648000,
          1204224000,
          1228800000,
          1253376000,
          1277952000,
          1302528000,
          1327104000,
          1351680000,
          1376256000,
          1400832000,
          1425408000,
          1449984000,
          1474560000,
          1499136000,
          1523712000,
          1548288000,
          1572864000,
          1597440000,
          1622016000,
          1646592000,
          1671168000,
          1695744000,
          1720320000,
          1744896000,
          1769472000,
          1794048000,
          1818624000,
          1843200000,
          1867776000,
          1892352000,
          1916928000,
          1941504000,
          1966080000,
          1990656000,
          2015232000,
          2039808000,
          2064384000,
          2088960000,
          2113536000,
          2138112000,
          2162688000,
          2187264000,
          2211840000,
          2236416000,
          2260992000,
          2285568000,
          2310144000,
          2334720000,
          2359296000,
          2383872000,
          2408448000,
          2433024000,
          2457600000,
          2482176000,
          2506752000,
          2531328000,
          2555904000,
          2580480000,
          2605056000,
          2629632000,
          2654208000,
          2678784000,
          2703360000,
          2727936000,
          2752512000,
          2777088000,
          2801664000,
          2826240000,
          2850816000,
          2875392000,
          2899968000,
          2924544000,
          2949120000,
          2973696000,
          2998272000,
          3022848000,
          3096576000
         ],
         "y": [
          83.7016,
          85.5592,
          81.284,
          87.184,
          82.008,
          86.1792,
          82.1936,
          78.4936,
          83.6696,
          84.632,
          84.9912,
          87.0256,
          82.0848,
          82.4096,
          79.13552,
          76.88528,
          76.82288,
          76.62888,
          75.73912,
          74.05528,
          73.49088,
          72.11728,
          71.52184,
          69.87344,
          69.16064,
          68.52472,
          67.242,
          65.00072,
          66.57272,
          66.28208,
          64.03408,
          65.36816,
          65.85616,
          59.81144,
          60.57288,
          63.50632,
          61.6224,
          60.01712,
          60.8272,
          59.85752,
          63.11744,
          60.38448,
          64.66488,
          55.21848,
          61.2628,
          60.93008,
          62.90536,
          59.57936,
          62.9904,
          66.77552,
          64.99472,
          60.28336,
          60.9304,
          66.14936,
          63.99864,
          61.4292,
          67.49496,
          67.63856,
          63.01512,
          68.21768,
          66.85512,
          63.24312,
          64.26528,
          63.4696,
          61.59248,
          67.34176,
          67.9632,
          65.42168,
          65.5064,
          69.62008,
          67.43664,
          65.99392,
          68.46504,
          64.17376,
          66.77992,
          65.7492,
          66.60224,
          67.7608,
          66.19256,
          65.88368,
          66.88232,
          69.07336,
          65.44576,
          65.60608,
          67.90096,
          64.55352,
          68.22232,
          68.0656,
          65.52672,
          67.4024,
          68.85088,
          65.62168,
          65.36792,
          67.04088,
          65.50224,
          66.8868,
          67.68912,
          64.4944,
          66.45328,
          67.86264,
          65.46344,
          66.46248,
          67.21016,
          67.74776
         ]
        },
        {
         "line": {
          "color": "darkviolet",
          "width": 3
         },
         "marker": {
          "line": {
           "color": "crimson",
           "width": 2
          },
          "size": 4,
          "symbol": "triangle-up"
         },
         "mode": "lines+markers",
         "name": "MacNonFusProb_16mpi_16omp",
         "type": "scatter",
         "x": [
          516096000,
          540672000,
          589824000,
          565248000,
          614400000,
          638976000,
          663552000,
          688128000,
          712704000,
          737280000,
          761856000,
          786432000,
          811008000,
          835584000,
          860160000,
          884736000,
          909312000,
          933888000,
          958464000,
          983040000,
          1007616000,
          1032192000,
          1056768000,
          1081344000,
          1105920000,
          1130496000,
          1155072000,
          1179648000,
          1204224000,
          1228800000,
          1253376000,
          1277952000,
          1302528000,
          1327104000,
          1351680000,
          1376256000,
          1400832000,
          1425408000,
          1449984000,
          1474560000,
          1499136000,
          1548288000,
          1572864000,
          1597440000,
          1622016000,
          1646592000,
          1671168000,
          1695744000,
          1720320000,
          1744896000,
          1769472000,
          1794048000,
          1818624000,
          1843200000,
          1867776000,
          1892352000,
          1916928000,
          1941504000,
          1966080000,
          1990656000,
          2015232000,
          2039808000,
          2064384000,
          2088960000,
          2113536000,
          2138112000,
          2162688000,
          2187264000,
          2211840000,
          2236416000,
          2285568000,
          2310144000,
          2334720000,
          2359296000,
          2383872000,
          2408448000,
          2433024000,
          2457600000,
          2482176000,
          2506752000,
          2531328000,
          2555904000,
          2580480000,
          2605056000,
          2629632000,
          2654208000,
          2678784000,
          2703360000,
          2727936000,
          2752512000,
          2777088000,
          2801664000,
          2826240000,
          2850816000,
          2875392000,
          2899968000,
          2924544000,
          2973696000,
          2998272000
         ],
         "y": [
          80.4616,
          89.0208,
          86.516,
          84.5248,
          88.3608,
          87.5384,
          87.8056,
          83.2376,
          85.8912,
          84.4304,
          84.0648,
          83.6216,
          81.952,
          79.82536,
          78.936,
          78.90912,
          76.13912,
          74.84688,
          74.95048,
          72.75736,
          70.32384,
          72.1284,
          71.94408,
          67.7472,
          68.22272,
          67.43352,
          69.52696,
          67.27056,
          67.00136,
          65.11712,
          66.07368,
          64.232,
          64.5496,
          61.99448,
          64.53592,
          59.85176,
          63.73648,
          62.22016,
          62.78552,
          59.47968,
          63.32072,
          63.27376,
          65.346,
          61.16296,
          62.19408,
          60.62144,
          65.97408,
          69.41408,
          63.76576,
          66.96792,
          67.77544,
          68.75544,
          65.86712,
          61.16744,
          64.86312,
          64.50256,
          68.46736,
          66.53672,
          68.68208,
          66.05248,
          61.3384,
          66.86368,
          68.0504,
          67.81464,
          66.61712,
          65.58808,
          65.8092,
          66.52536,
          67.74264,
          63.5376,
          65.6936,
          66.8972,
          67.77904,
          63.95608,
          67.47536,
          66.46808,
          67.13816,
          66.07592,
          67.362,
          65.4572,
          67.64816,
          64.82696,
          68.06696,
          67.66568,
          65.68168,
          64.7096,
          66.58528,
          65.96104,
          65.10264,
          63.06912,
          66.49056,
          64.3932,
          66.5004,
          64.39504,
          65.54656,
          63.2184,
          66.07544,
          66.1516,
          66.33896
         ]
        }
       ],
       "layout": {
        "annotations": [
         {
          "align": "left",
          "arrowcolor": "#636363",
          "arrowhead": 1,
          "arrowsize": 1,
          "arrowwidth": 2,
          "ax": -20,
          "ay": -30,
          "font": {
           "color": "purple",
           "family": "Sans Serif",
           "size": 12
          },
          "showarrow": false,
          "text": "LLC Size Per Node",
          "x": "512e6",
          "y": 130,
          "yanchor": "bottom"
         }
        ],
        "legend": {
         "bordercolor": "black",
         "borderwidth": 1
        },
        "shapes": [
         {
          "line": {
           "color": "green",
           "dash": "dash",
           "width": 3
          },
          "type": "line",
          "x0": 512000000,
          "x1": 512000000,
          "xref": "x",
          "y0": 0,
          "y1": 1,
          "yref": "y domain"
         }
        ],
        "template": {
         "data": {
          "bar": [
           {
            "error_x": {
             "color": "#2a3f5f"
            },
            "error_y": {
             "color": "#2a3f5f"
            },
            "marker": {
             "line": {
              "color": "#E5ECF6",
              "width": 0.5
             },
             "pattern": {
              "fillmode": "overlay",
              "size": 10,
              "solidity": 0.2
             }
            },
            "type": "bar"
           }
          ],
          "barpolar": [
           {
            "marker": {
             "line": {
              "color": "#E5ECF6",
              "width": 0.5
             },
             "pattern": {
              "fillmode": "overlay",
              "size": 10,
              "solidity": 0.2
             }
            },
            "type": "barpolar"
           }
          ],
          "carpet": [
           {
            "aaxis": {
             "endlinecolor": "#2a3f5f",
             "gridcolor": "white",
             "linecolor": "white",
             "minorgridcolor": "white",
             "startlinecolor": "#2a3f5f"
            },
            "baxis": {
             "endlinecolor": "#2a3f5f",
             "gridcolor": "white",
             "linecolor": "white",
             "minorgridcolor": "white",
             "startlinecolor": "#2a3f5f"
            },
            "type": "carpet"
           }
          ],
          "choropleth": [
           {
            "colorbar": {
             "outlinewidth": 0,
             "ticks": ""
            },
            "type": "choropleth"
           }
          ],
          "contour": [
           {
            "colorbar": {
             "outlinewidth": 0,
             "ticks": ""
            },
            "colorscale": [
             [
              0,
              "#0d0887"
             ],
             [
              0.1111111111111111,
              "#46039f"
             ],
             [
              0.2222222222222222,
              "#7201a8"
             ],
             [
              0.3333333333333333,
              "#9c179e"
             ],
             [
              0.4444444444444444,
              "#bd3786"
             ],
             [
              0.5555555555555556,
              "#d8576b"
             ],
             [
              0.6666666666666666,
              "#ed7953"
             ],
             [
              0.7777777777777778,
              "#fb9f3a"
             ],
             [
              0.8888888888888888,
              "#fdca26"
             ],
             [
              1,
              "#f0f921"
             ]
            ],
            "type": "contour"
           }
          ],
          "contourcarpet": [
           {
            "colorbar": {
             "outlinewidth": 0,
             "ticks": ""
            },
            "type": "contourcarpet"
           }
          ],
          "heatmap": [
           {
            "colorbar": {
             "outlinewidth": 0,
             "ticks": ""
            },
            "colorscale": [
             [
              0,
              "#0d0887"
             ],
             [
              0.1111111111111111,
              "#46039f"
             ],
             [
              0.2222222222222222,
              "#7201a8"
             ],
             [
              0.3333333333333333,
              "#9c179e"
             ],
             [
              0.4444444444444444,
              "#bd3786"
             ],
             [
              0.5555555555555556,
              "#d8576b"
             ],
             [
              0.6666666666666666,
              "#ed7953"
             ],
             [
              0.7777777777777778,
              "#fb9f3a"
             ],
             [
              0.8888888888888888,
              "#fdca26"
             ],
             [
              1,
              "#f0f921"
             ]
            ],
            "type": "heatmap"
           }
          ],
          "heatmapgl": [
           {
            "colorbar": {
             "outlinewidth": 0,
             "ticks": ""
            },
            "colorscale": [
             [
              0,
              "#0d0887"
             ],
             [
              0.1111111111111111,
              "#46039f"
             ],
             [
              0.2222222222222222,
              "#7201a8"
             ],
             [
              0.3333333333333333,
              "#9c179e"
             ],
             [
              0.4444444444444444,
              "#bd3786"
             ],
             [
              0.5555555555555556,
              "#d8576b"
             ],
             [
              0.6666666666666666,
              "#ed7953"
             ],
             [
              0.7777777777777778,
              "#fb9f3a"
             ],
             [
              0.8888888888888888,
              "#fdca26"
             ],
             [
              1,
              "#f0f921"
             ]
            ],
            "type": "heatmapgl"
           }
          ],
          "histogram": [
           {
            "marker": {
             "pattern": {
              "fillmode": "overlay",
              "size": 10,
              "solidity": 0.2
             }
            },
            "type": "histogram"
           }
          ],
          "histogram2d": [
           {
            "colorbar": {
             "outlinewidth": 0,
             "ticks": ""
            },
            "colorscale": [
             [
              0,
              "#0d0887"
             ],
             [
              0.1111111111111111,
              "#46039f"
             ],
             [
              0.2222222222222222,
              "#7201a8"
             ],
             [
              0.3333333333333333,
              "#9c179e"
             ],
             [
              0.4444444444444444,
              "#bd3786"
             ],
             [
              0.5555555555555556,
              "#d8576b"
             ],
             [
              0.6666666666666666,
              "#ed7953"
             ],
             [
              0.7777777777777778,
              "#fb9f3a"
             ],
             [
              0.8888888888888888,
              "#fdca26"
             ],
             [
              1,
              "#f0f921"
             ]
            ],
            "type": "histogram2d"
           }
          ],
          "histogram2dcontour": [
           {
            "colorbar": {
             "outlinewidth": 0,
             "ticks": ""
            },
            "colorscale": [
             [
              0,
              "#0d0887"
             ],
             [
              0.1111111111111111,
              "#46039f"
             ],
             [
              0.2222222222222222,
              "#7201a8"
             ],
             [
              0.3333333333333333,
              "#9c179e"
             ],
             [
              0.4444444444444444,
              "#bd3786"
             ],
             [
              0.5555555555555556,
              "#d8576b"
             ],
             [
              0.6666666666666666,
              "#ed7953"
             ],
             [
              0.7777777777777778,
              "#fb9f3a"
             ],
             [
              0.8888888888888888,
              "#fdca26"
             ],
             [
              1,
              "#f0f921"
             ]
            ],
            "type": "histogram2dcontour"
           }
          ],
          "mesh3d": [
           {
            "colorbar": {
             "outlinewidth": 0,
             "ticks": ""
            },
            "type": "mesh3d"
           }
          ],
          "parcoords": [
           {
            "line": {
             "colorbar": {
              "outlinewidth": 0,
              "ticks": ""
             }
            },
            "type": "parcoords"
           }
          ],
          "pie": [
           {
            "automargin": true,
            "type": "pie"
           }
          ],
          "scatter": [
           {
            "fillpattern": {
             "fillmode": "overlay",
             "size": 10,
             "solidity": 0.2
            },
            "type": "scatter"
           }
          ],
          "scatter3d": [
           {
            "line": {
             "colorbar": {
              "outlinewidth": 0,
              "ticks": ""
             }
            },
            "marker": {
             "colorbar": {
              "outlinewidth": 0,
              "ticks": ""
             }
            },
            "type": "scatter3d"
           }
          ],
          "scattercarpet": [
           {
            "marker": {
             "colorbar": {
              "outlinewidth": 0,
              "ticks": ""
             }
            },
            "type": "scattercarpet"
           }
          ],
          "scattergeo": [
           {
            "marker": {
             "colorbar": {
              "outlinewidth": 0,
              "ticks": ""
             }
            },
            "type": "scattergeo"
           }
          ],
          "scattergl": [
           {
            "marker": {
             "colorbar": {
              "outlinewidth": 0,
              "ticks": ""
             }
            },
            "type": "scattergl"
           }
          ],
          "scattermapbox": [
           {
            "marker": {
             "colorbar": {
              "outlinewidth": 0,
              "ticks": ""
             }
            },
            "type": "scattermapbox"
           }
          ],
          "scatterpolar": [
           {
            "marker": {
             "colorbar": {
              "outlinewidth": 0,
              "ticks": ""
             }
            },
            "type": "scatterpolar"
           }
          ],
          "scatterpolargl": [
           {
            "marker": {
             "colorbar": {
              "outlinewidth": 0,
              "ticks": ""
             }
            },
            "type": "scatterpolargl"
           }
          ],
          "scatterternary": [
           {
            "marker": {
             "colorbar": {
              "outlinewidth": 0,
              "ticks": ""
             }
            },
            "type": "scatterternary"
           }
          ],
          "surface": [
           {
            "colorbar": {
             "outlinewidth": 0,
             "ticks": ""
            },
            "colorscale": [
             [
              0,
              "#0d0887"
             ],
             [
              0.1111111111111111,
              "#46039f"
             ],
             [
              0.2222222222222222,
              "#7201a8"
             ],
             [
              0.3333333333333333,
              "#9c179e"
             ],
             [
              0.4444444444444444,
              "#bd3786"
             ],
             [
              0.5555555555555556,
              "#d8576b"
             ],
             [
              0.6666666666666666,
              "#ed7953"
             ],
             [
              0.7777777777777778,
              "#fb9f3a"
             ],
             [
              0.8888888888888888,
              "#fdca26"
             ],
             [
              1,
              "#f0f921"
             ]
            ],
            "type": "surface"
           }
          ],
          "table": [
           {
            "cells": {
             "fill": {
              "color": "#EBF0F8"
             },
             "line": {
              "color": "white"
             }
            },
            "header": {
             "fill": {
              "color": "#C8D4E3"
             },
             "line": {
              "color": "white"
             }
            },
            "type": "table"
           }
          ]
         },
         "layout": {
          "annotationdefaults": {
           "arrowcolor": "#2a3f5f",
           "arrowhead": 0,
           "arrowwidth": 1
          },
          "autotypenumbers": "strict",
          "coloraxis": {
           "colorbar": {
            "outlinewidth": 0,
            "ticks": ""
           }
          },
          "colorscale": {
           "diverging": [
            [
             0,
             "#8e0152"
            ],
            [
             0.1,
             "#c51b7d"
            ],
            [
             0.2,
             "#de77ae"
            ],
            [
             0.3,
             "#f1b6da"
            ],
            [
             0.4,
             "#fde0ef"
            ],
            [
             0.5,
             "#f7f7f7"
            ],
            [
             0.6,
             "#e6f5d0"
            ],
            [
             0.7,
             "#b8e186"
            ],
            [
             0.8,
             "#7fbc41"
            ],
            [
             0.9,
             "#4d9221"
            ],
            [
             1,
             "#276419"
            ]
           ],
           "sequential": [
            [
             0,
             "#0d0887"
            ],
            [
             0.1111111111111111,
             "#46039f"
            ],
            [
             0.2222222222222222,
             "#7201a8"
            ],
            [
             0.3333333333333333,
             "#9c179e"
            ],
            [
             0.4444444444444444,
             "#bd3786"
            ],
            [
             0.5555555555555556,
             "#d8576b"
            ],
            [
             0.6666666666666666,
             "#ed7953"
            ],
            [
             0.7777777777777778,
             "#fb9f3a"
            ],
            [
             0.8888888888888888,
             "#fdca26"
            ],
            [
             1,
             "#f0f921"
            ]
           ],
           "sequentialminus": [
            [
             0,
             "#0d0887"
            ],
            [
             0.1111111111111111,
             "#46039f"
            ],
            [
             0.2222222222222222,
             "#7201a8"
            ],
            [
             0.3333333333333333,
             "#9c179e"
            ],
            [
             0.4444444444444444,
             "#bd3786"
            ],
            [
             0.5555555555555556,
             "#d8576b"
            ],
            [
             0.6666666666666666,
             "#ed7953"
            ],
            [
             0.7777777777777778,
             "#fb9f3a"
            ],
            [
             0.8888888888888888,
             "#fdca26"
            ],
            [
             1,
             "#f0f921"
            ]
           ]
          },
          "colorway": [
           "#636efa",
           "#EF553B",
           "#00cc96",
           "#ab63fa",
           "#FFA15A",
           "#19d3f3",
           "#FF6692",
           "#B6E880",
           "#FF97FF",
           "#FECB52"
          ],
          "font": {
           "color": "#2a3f5f"
          },
          "geo": {
           "bgcolor": "white",
           "lakecolor": "white",
           "landcolor": "#E5ECF6",
           "showlakes": true,
           "showland": true,
           "subunitcolor": "white"
          },
          "hoverlabel": {
           "align": "left"
          },
          "hovermode": "closest",
          "mapbox": {
           "style": "light"
          },
          "paper_bgcolor": "white",
          "plot_bgcolor": "#E5ECF6",
          "polar": {
           "angularaxis": {
            "gridcolor": "white",
            "linecolor": "white",
            "ticks": ""
           },
           "bgcolor": "#E5ECF6",
           "radialaxis": {
            "gridcolor": "white",
            "linecolor": "white",
            "ticks": ""
           }
          },
          "scene": {
           "xaxis": {
            "backgroundcolor": "#E5ECF6",
            "gridcolor": "white",
            "gridwidth": 2,
            "linecolor": "white",
            "showbackground": true,
            "ticks": "",
            "zerolinecolor": "white"
           },
           "yaxis": {
            "backgroundcolor": "#E5ECF6",
            "gridcolor": "white",
            "gridwidth": 2,
            "linecolor": "white",
            "showbackground": true,
            "ticks": "",
            "zerolinecolor": "white"
           },
           "zaxis": {
            "backgroundcolor": "#E5ECF6",
            "gridcolor": "white",
            "gridwidth": 2,
            "linecolor": "white",
            "showbackground": true,
            "ticks": "",
            "zerolinecolor": "white"
           }
          },
          "shapedefaults": {
           "line": {
            "color": "#2a3f5f"
           }
          },
          "ternary": {
           "aaxis": {
            "gridcolor": "white",
            "linecolor": "white",
            "ticks": ""
           },
           "baxis": {
            "gridcolor": "white",
            "linecolor": "white",
            "ticks": ""
           },
           "bgcolor": "#E5ECF6",
           "caxis": {
            "gridcolor": "white",
            "linecolor": "white",
            "ticks": ""
           }
          },
          "title": {
           "x": 0.05
          },
          "xaxis": {
           "automargin": true,
           "gridcolor": "white",
           "linecolor": "white",
           "ticks": "",
           "title": {
            "standoff": 15
           },
           "zerolinecolor": "white",
           "zerolinewidth": 2
          },
          "yaxis": {
           "automargin": true,
           "gridcolor": "white",
           "linecolor": "white",
           "ticks": "",
           "title": {
            "standoff": 15
           },
           "zerolinecolor": "white",
           "zerolinewidth": 2
          }
         }
        },
        "title": {
         "text": "\"NonFused-Macro (2-Nodes): probempi vs nonprobempi\" GFlops Measurement"
        },
        "xaxis": {
         "ticks": "outside",
         "title": {
          "text": "Dirc_Data_Mov"
         }
        },
        "yaxis": {
         "ticks": "outside",
         "title": {
          "text": "GFLOPs/Node"
         }
        }
       }
      },
      "text/html": [
       "<div>                            <div id=\"a1be021a-577c-460f-9885-1d37c8f71579\" class=\"plotly-graph-div\" style=\"height:525px; width:100%;\"></div>            <script type=\"text/javascript\">                require([\"plotly\"], function(Plotly) {                    window.PLOTLYENV=window.PLOTLYENV || {};                                    if (document.getElementById(\"a1be021a-577c-460f-9885-1d37c8f71579\")) {                    Plotly.newPlot(                        \"a1be021a-577c-460f-9885-1d37c8f71579\",                        [{\"line\":{\"color\":\"magenta\",\"width\":3},\"marker\":{\"line\":{\"color\":\"yellow\",\"width\":1},\"size\":9,\"symbol\":\"hexagon\"},\"mode\":\"lines+markers\",\"name\":\"MacNonFusNonProb_256mpi_1omp\",\"x\":[1572864000.0,1966080000.0,2359296000.0,3145728000.0,3538944000.0,3932160000.0],\"y\":[203.04896,183.13856,176.31104,162.21184,153.99168,153.24672],\"type\":\"scatter\"},{\"line\":{\"color\":\"olive\",\"width\":3},\"marker\":{\"line\":{\"color\":\"yellow\",\"width\":1},\"size\":9,\"symbol\":\"hexagon\"},\"mode\":\"lines+markers\",\"name\":\"MacNonFusProb_256mpi_1omp\",\"x\":[1572864000.0,1966080000.0,2359296000.0,2752512000.0,3145728000.0,3538944000.0,3932160000.0],\"y\":[197.85216,183.63648,155.87328,164.28928,158.68544,153.74592,150.61376],\"type\":\"scatter\"},{\"line\":{\"color\":\"sandybrown\",\"width\":3},\"marker\":{\"line\":{\"color\":\"MediumPurple\",\"width\":2},\"size\":5,\"symbol\":\"diamond\"},\"mode\":\"lines+markers\",\"name\":\"MacNonFusNonProb_128mpi_2omp\",\"x\":[983040000.0,786432000.0,1179648000.0,1376256000.0,1572864000.0,1769472000.0,1966080000.0,2162688000.0,2359296000.0,2555904000.0,2752512000.0,2949120000.0,3145728000.0,3342336000.0,3538944000.0,3735552000.0,3932160000.0],\"y\":[188.10816,181.91744,216.9728,201.7728,196.24512,191.65696,178.5056,175.14752,168.03456,150.60672,158.0576,156.73472,153.4464,148.3008,137.05536,144.32832,134.11648],\"type\":\"scatter\"},{\"line\":{\"color\":\"royalblue\",\"width\":3},\"marker\":{\"line\":{\"color\":\"MediumPurple\",\"width\":2},\"size\":5,\"symbol\":\"diamond\"},\"mode\":\"lines+markers\",\"name\":\"MacNonFusProb_128mpi_2omp\",\"x\":[786432000.0,983040000.0,1179648000.0,1376256000.0,1572864000.0,1769472000.0,1966080000.0,2162688000.0,2359296000.0,2555904000.0,2752512000.0,2949120000.0,3145728000.0,3342336000.0,3538944000.0,3735552000.0,3932160000.0],\"y\":[207.30752,191.47136,210.60416,199.41824,195.66272,188.77952,180.02432,173.13088,168.73024,161.77984,158.38144,151.46688,150.24,144.55552,146.74368,142.2688,141.66912],\"type\":\"scatter\"},{\"line\":{\"color\":\"cyan\",\"width\":3},\"marker\":{\"line\":{\"color\":\"Purple\",\"width\":2},\"size\":7,\"symbol\":\"circle\"},\"mode\":\"lines+markers\",\"name\":\"MacNonFusNonProb_64mpi_4omp\",\"x\":[589824000.0,688128000.0,884736000.0,786432000.0,983040000.0,1081344000.0,1179648000.0,1277952000.0,1376256000.0,1474560000.0,1572864000.0,1671168000.0,1769472000.0,1867776000.0,1966080000.0,2064384000.0,2162688000.0,2260992000.0,2359296000.0,2457600000.0,2555904000.0,2654208000.0,2752512000.0,2850816000.0,2949120000.0,3047424000.0,3145728000.0,3244032000.0,3342336000.0,3440640000.0,3538944000.0,3637248000.0,3735552000.0,3833856000.0,3932160000.0],\"y\":[166.02624,167.6704,176.86912,158.03904,179.29024,177.86208,167.83776,157.28768,191.37632,178.0992,187.01184,174.44384,169.712,168.13952,168.38144,163.3616,162.24608,155.24768,159.44704,154.1408,145.03296,146.1872,147.78784,145.92544,143.8496,138.76416,139.8048,138.9232,137.65696,136.17472,137.17216,128.87744,134.83232,131.29536,130.10688],\"type\":\"scatter\"},{\"line\":{\"color\":\"darkblue\",\"width\":3},\"marker\":{\"line\":{\"color\":\"tomato\",\"width\":2},\"size\":7,\"symbol\":\"circle\"},\"mode\":\"lines+markers\",\"name\":\"MacNonFusProb_64mpi_4omp\",\"x\":[589824000.0,688128000.0,786432000.0,884736000.0,983040000.0,1081344000.0,1179648000.0,1277952000.0,1376256000.0,1474560000.0,1572864000.0,1671168000.0,1769472000.0,1867776000.0,1966080000.0,2064384000.0,2162688000.0,2260992000.0,2359296000.0,2457600000.0,2555904000.0,2654208000.0,2752512000.0,2850816000.0,2949120000.0,3047424000.0,3145728000.0,3244032000.0,3342336000.0,3440640000.0,3538944000.0,3637248000.0,3735552000.0,3833856000.0,3932160000.0],\"y\":[183.69696,188.32288,194.25888,192.92224,197.4288,183.87136,182.5984,189.79584,189.99328,183.9248,183.62688,175.56064,175.55488,166.68384,168.36864,161.57088,161.79296,158.10496,155.31136,153.90112,141.96832,145.54112,135.76608,144.6448,142.648,141.33184,143.65184,137.9168,137.14752,138.04192,129.7616,129.8176,133.18752,129.72576,130.76128],\"type\":\"scatter\"},{\"line\":{\"color\":\"red\",\"width\":3},\"marker\":{\"line\":{\"color\":\"red\",\"width\":2},\"size\":5,\"symbol\":\"circle\"},\"mode\":\"lines+markers\",\"name\":\"MacNonFusNonProb_32mpi_8omp\",\"x\":[540672000.0,589824000.0,638976000.0,688128000.0,737280000.0,786432000.0,835584000.0,884736000.0,933888000.0,983040000.0,1032192000.0,1081344000.0,1130496000.0,1179648000.0,1228800000.0,1277952000.0,1376256000.0,1327104000.0,1425408000.0,1474560000.0,1523712000.0,1572864000.0,1622016000.0,1671168000.0,1720320000.0,1769472000.0,1818624000.0,1867776000.0,1916928000.0,1966080000.0,2015232000.0,2064384000.0,2113536000.0,2162688000.0,2211840000.0,2260992000.0,2310144000.0,2359296000.0,2457600000.0,2408448000.0,2506752000.0,2555904000.0,2654208000.0,2703360000.0,2752512000.0,2801664000.0,2850816000.0,2899968000.0,2949120000.0,2998272000.0,3047424000.0,3145728000.0,3096576000.0,3194880000.0,3244032000.0,3293184000.0,3342336000.0,3391488000.0,3440640000.0,3489792000.0,3538944000.0,3588096000.0,3637248000.0,3686400000.0,3735552000.0,3784704000.0,3833856000.0,3883008000.0,3932160000.0],\"y\":[139.03728,144.59936,139.70176,144.95696,152.7224,158.98432,156.8368,162.8176,160.4976,160.9856,158.57088,158.24464,154.93296,140.27552,141.45248,137.27664,128.71904,123.85248,118.74,153.08544,119.08416,148.69664,155.44576,148.31184,144.108,143.62752,144.60272,135.69552,144.64736,139.05552,139.61392,136.80576,137.72896,135.01696,138.7424,134.9288,133.08624,129.97904,130.5536,133.83568,132.04944,127.10896,130.04,119.74128,125.17664,128.93216,126.5448,121.19392,126.31936,128.10352,120.17072,124.93296,124.37392,119.64832,122.53296,122.36352,117.72368,122.64144,120.35232,116.4384,120.376,118.08896,116.0368,121.47712,117.21552,115.15696,115.11952,115.63088,114.7136],\"type\":\"scatter\"},{\"line\":{\"color\":\"green\",\"width\":3},\"marker\":{\"line\":{\"color\":\"green\",\"width\":2},\"size\":5,\"symbol\":\"circle\"},\"mode\":\"lines+markers\",\"name\":\"MacNonFusProb_32mpi_8omp\",\"x\":[540672000.0,589824000.0,638976000.0,688128000.0,737280000.0,786432000.0,835584000.0,884736000.0,933888000.0,983040000.0,1032192000.0,1081344000.0,1130496000.0,1179648000.0,1228800000.0,1277952000.0,1327104000.0,1376256000.0,1425408000.0,1474560000.0,1523712000.0,1572864000.0,1622016000.0,1671168000.0,1720320000.0,1769472000.0,1818624000.0,1867776000.0,1916928000.0,1966080000.0,2015232000.0,2064384000.0,2162688000.0,2113536000.0,2211840000.0,2260992000.0,2310144000.0,2359296000.0,2408448000.0,2457600000.0,2506752000.0,2555904000.0,2605056000.0,2654208000.0,2703360000.0,2752512000.0,2801664000.0,2850816000.0,2899968000.0,2949120000.0,2998272000.0,3047424000.0,3096576000.0,3145728000.0,3194880000.0,3244032000.0,3293184000.0,3342336000.0,3391488000.0,3440640000.0,3489792000.0,3538944000.0,3588096000.0,3637248000.0,3686400000.0,3735552000.0,3784704000.0,3833856000.0,3883008000.0,3932160000.0],\"y\":[150.55536,144.95296,159.03152,159.82672,164.0224,164.9696,155.45888,163.7264,163.76,162.3328,158.85744,156.70624,152.90064,147.16032,136.14688,141.25264,128.69712,131.1296,152.35712,140.02672,144.74864,149.20736,143.23552,145.40528,141.7216,141.91696,129.71056,126.0688,137.94352,135.05024,132.10864,132.93264,131.89008,132.4048,128.77328,123.33392,123.4912,129.372,125.0216,125.60752,122.15648,116.65392,124.0936,124.64784,123.98944,123.21472,122.88464,122.15664,121.90528,112.2128,110.23952,114.43152,114.28304,121.21024,118.21632,114.65424,112.59152,115.41024,115.9216,113.95696,116.5792,115.0752,115.56064,116.0816,112.69776,114.9664,107.70816,114.01824,116.1552,112.94864],\"type\":\"scatter\"},{\"line\":{\"color\":\"blue\",\"width\":3},\"marker\":{\"line\":{\"color\":\"chocolate\",\"width\":2},\"size\":4,\"symbol\":\"triangle-up\"},\"mode\":\"lines+markers\",\"name\":\"MacNonFusNonProb_16mpi_16omp\",\"x\":[516096000.0,565248000.0,540672000.0,589824000.0,614400000.0,638976000.0,663552000.0,712704000.0,688128000.0,761856000.0,786432000.0,737280000.0,811008000.0,835584000.0,860160000.0,884736000.0,909312000.0,933888000.0,958464000.0,983040000.0,1007616000.0,1032192000.0,1056768000.0,1081344000.0,1105920000.0,1130496000.0,1155072000.0,1179648000.0,1204224000.0,1228800000.0,1253376000.0,1277952000.0,1302528000.0,1327104000.0,1351680000.0,1376256000.0,1400832000.0,1425408000.0,1449984000.0,1474560000.0,1499136000.0,1523712000.0,1548288000.0,1572864000.0,1597440000.0,1622016000.0,1646592000.0,1671168000.0,1695744000.0,1720320000.0,1744896000.0,1769472000.0,1794048000.0,1818624000.0,1843200000.0,1867776000.0,1892352000.0,1916928000.0,1941504000.0,1966080000.0,1990656000.0,2015232000.0,2039808000.0,2064384000.0,2088960000.0,2113536000.0,2138112000.0,2162688000.0,2187264000.0,2211840000.0,2236416000.0,2260992000.0,2285568000.0,2310144000.0,2334720000.0,2359296000.0,2383872000.0,2408448000.0,2433024000.0,2457600000.0,2482176000.0,2506752000.0,2531328000.0,2555904000.0,2580480000.0,2605056000.0,2629632000.0,2654208000.0,2678784000.0,2703360000.0,2727936000.0,2752512000.0,2777088000.0,2801664000.0,2826240000.0,2850816000.0,2875392000.0,2899968000.0,2924544000.0,2949120000.0,2973696000.0,2998272000.0,3022848000.0,3096576000.0],\"y\":[83.7016,85.5592,81.284,87.184,82.008,86.1792,82.1936,78.4936,83.6696,84.632,84.9912,87.0256,82.0848,82.4096,79.13552,76.88528,76.82288,76.62888,75.73912,74.05528,73.49088,72.11728,71.52184,69.87344,69.16064,68.52472,67.242,65.00072,66.57272,66.28208,64.03408,65.36816,65.85616,59.81144,60.57288,63.50632,61.6224,60.01712,60.8272,59.85752,63.11744,60.38448,64.66488,55.21848,61.2628,60.93008,62.90536,59.57936,62.9904,66.77552,64.99472,60.28336,60.9304,66.14936,63.99864,61.4292,67.49496,67.63856,63.01512,68.21768,66.85512,63.24312,64.26528,63.4696,61.59248,67.34176,67.9632,65.42168,65.5064,69.62008,67.43664,65.99392,68.46504,64.17376,66.77992,65.7492,66.60224,67.7608,66.19256,65.88368,66.88232,69.07336,65.44576,65.60608,67.90096,64.55352,68.22232,68.0656,65.52672,67.4024,68.85088,65.62168,65.36792,67.04088,65.50224,66.8868,67.68912,64.4944,66.45328,67.86264,65.46344,66.46248,67.21016,67.74776],\"type\":\"scatter\"},{\"line\":{\"color\":\"darkviolet\",\"width\":3},\"marker\":{\"line\":{\"color\":\"crimson\",\"width\":2},\"size\":4,\"symbol\":\"triangle-up\"},\"mode\":\"lines+markers\",\"name\":\"MacNonFusProb_16mpi_16omp\",\"x\":[516096000.0,540672000.0,589824000.0,565248000.0,614400000.0,638976000.0,663552000.0,688128000.0,712704000.0,737280000.0,761856000.0,786432000.0,811008000.0,835584000.0,860160000.0,884736000.0,909312000.0,933888000.0,958464000.0,983040000.0,1007616000.0,1032192000.0,1056768000.0,1081344000.0,1105920000.0,1130496000.0,1155072000.0,1179648000.0,1204224000.0,1228800000.0,1253376000.0,1277952000.0,1302528000.0,1327104000.0,1351680000.0,1376256000.0,1400832000.0,1425408000.0,1449984000.0,1474560000.0,1499136000.0,1548288000.0,1572864000.0,1597440000.0,1622016000.0,1646592000.0,1671168000.0,1695744000.0,1720320000.0,1744896000.0,1769472000.0,1794048000.0,1818624000.0,1843200000.0,1867776000.0,1892352000.0,1916928000.0,1941504000.0,1966080000.0,1990656000.0,2015232000.0,2039808000.0,2064384000.0,2088960000.0,2113536000.0,2138112000.0,2162688000.0,2187264000.0,2211840000.0,2236416000.0,2285568000.0,2310144000.0,2334720000.0,2359296000.0,2383872000.0,2408448000.0,2433024000.0,2457600000.0,2482176000.0,2506752000.0,2531328000.0,2555904000.0,2580480000.0,2605056000.0,2629632000.0,2654208000.0,2678784000.0,2703360000.0,2727936000.0,2752512000.0,2777088000.0,2801664000.0,2826240000.0,2850816000.0,2875392000.0,2899968000.0,2924544000.0,2973696000.0,2998272000.0],\"y\":[80.4616,89.0208,86.516,84.5248,88.3608,87.5384,87.8056,83.2376,85.8912,84.4304,84.0648,83.6216,81.952,79.82536,78.936,78.90912,76.13912,74.84688,74.95048,72.75736,70.32384,72.1284,71.94408,67.7472,68.22272,67.43352,69.52696,67.27056,67.00136,65.11712,66.07368,64.232,64.5496,61.99448,64.53592,59.85176,63.73648,62.22016,62.78552,59.47968,63.32072,63.27376,65.346,61.16296,62.19408,60.62144,65.97408,69.41408,63.76576,66.96792,67.77544,68.75544,65.86712,61.16744,64.86312,64.50256,68.46736,66.53672,68.68208,66.05248,61.3384,66.86368,68.0504,67.81464,66.61712,65.58808,65.8092,66.52536,67.74264,63.5376,65.6936,66.8972,67.77904,63.95608,67.47536,66.46808,67.13816,66.07592,67.362,65.4572,67.64816,64.82696,68.06696,67.66568,65.68168,64.7096,66.58528,65.96104,65.10264,63.06912,66.49056,64.3932,66.5004,64.39504,65.54656,63.2184,66.07544,66.1516,66.33896],\"type\":\"scatter\"}],                        {\"template\":{\"data\":{\"histogram2dcontour\":[{\"type\":\"histogram2dcontour\",\"colorbar\":{\"outlinewidth\":0,\"ticks\":\"\"},\"colorscale\":[[0.0,\"#0d0887\"],[0.1111111111111111,\"#46039f\"],[0.2222222222222222,\"#7201a8\"],[0.3333333333333333,\"#9c179e\"],[0.4444444444444444,\"#bd3786\"],[0.5555555555555556,\"#d8576b\"],[0.6666666666666666,\"#ed7953\"],[0.7777777777777778,\"#fb9f3a\"],[0.8888888888888888,\"#fdca26\"],[1.0,\"#f0f921\"]]}],\"choropleth\":[{\"type\":\"choropleth\",\"colorbar\":{\"outlinewidth\":0,\"ticks\":\"\"}}],\"histogram2d\":[{\"type\":\"histogram2d\",\"colorbar\":{\"outlinewidth\":0,\"ticks\":\"\"},\"colorscale\":[[0.0,\"#0d0887\"],[0.1111111111111111,\"#46039f\"],[0.2222222222222222,\"#7201a8\"],[0.3333333333333333,\"#9c179e\"],[0.4444444444444444,\"#bd3786\"],[0.5555555555555556,\"#d8576b\"],[0.6666666666666666,\"#ed7953\"],[0.7777777777777778,\"#fb9f3a\"],[0.8888888888888888,\"#fdca26\"],[1.0,\"#f0f921\"]]}],\"heatmap\":[{\"type\":\"heatmap\",\"colorbar\":{\"outlinewidth\":0,\"ticks\":\"\"},\"colorscale\":[[0.0,\"#0d0887\"],[0.1111111111111111,\"#46039f\"],[0.2222222222222222,\"#7201a8\"],[0.3333333333333333,\"#9c179e\"],[0.4444444444444444,\"#bd3786\"],[0.5555555555555556,\"#d8576b\"],[0.6666666666666666,\"#ed7953\"],[0.7777777777777778,\"#fb9f3a\"],[0.8888888888888888,\"#fdca26\"],[1.0,\"#f0f921\"]]}],\"heatmapgl\":[{\"type\":\"heatmapgl\",\"colorbar\":{\"outlinewidth\":0,\"ticks\":\"\"},\"colorscale\":[[0.0,\"#0d0887\"],[0.1111111111111111,\"#46039f\"],[0.2222222222222222,\"#7201a8\"],[0.3333333333333333,\"#9c179e\"],[0.4444444444444444,\"#bd3786\"],[0.5555555555555556,\"#d8576b\"],[0.6666666666666666,\"#ed7953\"],[0.7777777777777778,\"#fb9f3a\"],[0.8888888888888888,\"#fdca26\"],[1.0,\"#f0f921\"]]}],\"contourcarpet\":[{\"type\":\"contourcarpet\",\"colorbar\":{\"outlinewidth\":0,\"ticks\":\"\"}}],\"contour\":[{\"type\":\"contour\",\"colorbar\":{\"outlinewidth\":0,\"ticks\":\"\"},\"colorscale\":[[0.0,\"#0d0887\"],[0.1111111111111111,\"#46039f\"],[0.2222222222222222,\"#7201a8\"],[0.3333333333333333,\"#9c179e\"],[0.4444444444444444,\"#bd3786\"],[0.5555555555555556,\"#d8576b\"],[0.6666666666666666,\"#ed7953\"],[0.7777777777777778,\"#fb9f3a\"],[0.8888888888888888,\"#fdca26\"],[1.0,\"#f0f921\"]]}],\"surface\":[{\"type\":\"surface\",\"colorbar\":{\"outlinewidth\":0,\"ticks\":\"\"},\"colorscale\":[[0.0,\"#0d0887\"],[0.1111111111111111,\"#46039f\"],[0.2222222222222222,\"#7201a8\"],[0.3333333333333333,\"#9c179e\"],[0.4444444444444444,\"#bd3786\"],[0.5555555555555556,\"#d8576b\"],[0.6666666666666666,\"#ed7953\"],[0.7777777777777778,\"#fb9f3a\"],[0.8888888888888888,\"#fdca26\"],[1.0,\"#f0f921\"]]}],\"mesh3d\":[{\"type\":\"mesh3d\",\"colorbar\":{\"outlinewidth\":0,\"ticks\":\"\"}}],\"scatter\":[{\"fillpattern\":{\"fillmode\":\"overlay\",\"size\":10,\"solidity\":0.2},\"type\":\"scatter\"}],\"parcoords\":[{\"type\":\"parcoords\",\"line\":{\"colorbar\":{\"outlinewidth\":0,\"ticks\":\"\"}}}],\"scatterpolargl\":[{\"type\":\"scatterpolargl\",\"marker\":{\"colorbar\":{\"outlinewidth\":0,\"ticks\":\"\"}}}],\"bar\":[{\"error_x\":{\"color\":\"#2a3f5f\"},\"error_y\":{\"color\":\"#2a3f5f\"},\"marker\":{\"line\":{\"color\":\"#E5ECF6\",\"width\":0.5},\"pattern\":{\"fillmode\":\"overlay\",\"size\":10,\"solidity\":0.2}},\"type\":\"bar\"}],\"scattergeo\":[{\"type\":\"scattergeo\",\"marker\":{\"colorbar\":{\"outlinewidth\":0,\"ticks\":\"\"}}}],\"scatterpolar\":[{\"type\":\"scatterpolar\",\"marker\":{\"colorbar\":{\"outlinewidth\":0,\"ticks\":\"\"}}}],\"histogram\":[{\"marker\":{\"pattern\":{\"fillmode\":\"overlay\",\"size\":10,\"solidity\":0.2}},\"type\":\"histogram\"}],\"scattergl\":[{\"type\":\"scattergl\",\"marker\":{\"colorbar\":{\"outlinewidth\":0,\"ticks\":\"\"}}}],\"scatter3d\":[{\"type\":\"scatter3d\",\"line\":{\"colorbar\":{\"outlinewidth\":0,\"ticks\":\"\"}},\"marker\":{\"colorbar\":{\"outlinewidth\":0,\"ticks\":\"\"}}}],\"scattermapbox\":[{\"type\":\"scattermapbox\",\"marker\":{\"colorbar\":{\"outlinewidth\":0,\"ticks\":\"\"}}}],\"scatterternary\":[{\"type\":\"scatterternary\",\"marker\":{\"colorbar\":{\"outlinewidth\":0,\"ticks\":\"\"}}}],\"scattercarpet\":[{\"type\":\"scattercarpet\",\"marker\":{\"colorbar\":{\"outlinewidth\":0,\"ticks\":\"\"}}}],\"carpet\":[{\"aaxis\":{\"endlinecolor\":\"#2a3f5f\",\"gridcolor\":\"white\",\"linecolor\":\"white\",\"minorgridcolor\":\"white\",\"startlinecolor\":\"#2a3f5f\"},\"baxis\":{\"endlinecolor\":\"#2a3f5f\",\"gridcolor\":\"white\",\"linecolor\":\"white\",\"minorgridcolor\":\"white\",\"startlinecolor\":\"#2a3f5f\"},\"type\":\"carpet\"}],\"table\":[{\"cells\":{\"fill\":{\"color\":\"#EBF0F8\"},\"line\":{\"color\":\"white\"}},\"header\":{\"fill\":{\"color\":\"#C8D4E3\"},\"line\":{\"color\":\"white\"}},\"type\":\"table\"}],\"barpolar\":[{\"marker\":{\"line\":{\"color\":\"#E5ECF6\",\"width\":0.5},\"pattern\":{\"fillmode\":\"overlay\",\"size\":10,\"solidity\":0.2}},\"type\":\"barpolar\"}],\"pie\":[{\"automargin\":true,\"type\":\"pie\"}]},\"layout\":{\"autotypenumbers\":\"strict\",\"colorway\":[\"#636efa\",\"#EF553B\",\"#00cc96\",\"#ab63fa\",\"#FFA15A\",\"#19d3f3\",\"#FF6692\",\"#B6E880\",\"#FF97FF\",\"#FECB52\"],\"font\":{\"color\":\"#2a3f5f\"},\"hovermode\":\"closest\",\"hoverlabel\":{\"align\":\"left\"},\"paper_bgcolor\":\"white\",\"plot_bgcolor\":\"#E5ECF6\",\"polar\":{\"bgcolor\":\"#E5ECF6\",\"angularaxis\":{\"gridcolor\":\"white\",\"linecolor\":\"white\",\"ticks\":\"\"},\"radialaxis\":{\"gridcolor\":\"white\",\"linecolor\":\"white\",\"ticks\":\"\"}},\"ternary\":{\"bgcolor\":\"#E5ECF6\",\"aaxis\":{\"gridcolor\":\"white\",\"linecolor\":\"white\",\"ticks\":\"\"},\"baxis\":{\"gridcolor\":\"white\",\"linecolor\":\"white\",\"ticks\":\"\"},\"caxis\":{\"gridcolor\":\"white\",\"linecolor\":\"white\",\"ticks\":\"\"}},\"coloraxis\":{\"colorbar\":{\"outlinewidth\":0,\"ticks\":\"\"}},\"colorscale\":{\"sequential\":[[0.0,\"#0d0887\"],[0.1111111111111111,\"#46039f\"],[0.2222222222222222,\"#7201a8\"],[0.3333333333333333,\"#9c179e\"],[0.4444444444444444,\"#bd3786\"],[0.5555555555555556,\"#d8576b\"],[0.6666666666666666,\"#ed7953\"],[0.7777777777777778,\"#fb9f3a\"],[0.8888888888888888,\"#fdca26\"],[1.0,\"#f0f921\"]],\"sequentialminus\":[[0.0,\"#0d0887\"],[0.1111111111111111,\"#46039f\"],[0.2222222222222222,\"#7201a8\"],[0.3333333333333333,\"#9c179e\"],[0.4444444444444444,\"#bd3786\"],[0.5555555555555556,\"#d8576b\"],[0.6666666666666666,\"#ed7953\"],[0.7777777777777778,\"#fb9f3a\"],[0.8888888888888888,\"#fdca26\"],[1.0,\"#f0f921\"]],\"diverging\":[[0,\"#8e0152\"],[0.1,\"#c51b7d\"],[0.2,\"#de77ae\"],[0.3,\"#f1b6da\"],[0.4,\"#fde0ef\"],[0.5,\"#f7f7f7\"],[0.6,\"#e6f5d0\"],[0.7,\"#b8e186\"],[0.8,\"#7fbc41\"],[0.9,\"#4d9221\"],[1,\"#276419\"]]},\"xaxis\":{\"gridcolor\":\"white\",\"linecolor\":\"white\",\"ticks\":\"\",\"title\":{\"standoff\":15},\"zerolinecolor\":\"white\",\"automargin\":true,\"zerolinewidth\":2},\"yaxis\":{\"gridcolor\":\"white\",\"linecolor\":\"white\",\"ticks\":\"\",\"title\":{\"standoff\":15},\"zerolinecolor\":\"white\",\"automargin\":true,\"zerolinewidth\":2},\"scene\":{\"xaxis\":{\"backgroundcolor\":\"#E5ECF6\",\"gridcolor\":\"white\",\"linecolor\":\"white\",\"showbackground\":true,\"ticks\":\"\",\"zerolinecolor\":\"white\",\"gridwidth\":2},\"yaxis\":{\"backgroundcolor\":\"#E5ECF6\",\"gridcolor\":\"white\",\"linecolor\":\"white\",\"showbackground\":true,\"ticks\":\"\",\"zerolinecolor\":\"white\",\"gridwidth\":2},\"zaxis\":{\"backgroundcolor\":\"#E5ECF6\",\"gridcolor\":\"white\",\"linecolor\":\"white\",\"showbackground\":true,\"ticks\":\"\",\"zerolinecolor\":\"white\",\"gridwidth\":2}},\"shapedefaults\":{\"line\":{\"color\":\"#2a3f5f\"}},\"annotationdefaults\":{\"arrowcolor\":\"#2a3f5f\",\"arrowhead\":0,\"arrowwidth\":1},\"geo\":{\"bgcolor\":\"white\",\"landcolor\":\"#E5ECF6\",\"subunitcolor\":\"white\",\"showland\":true,\"showlakes\":true,\"lakecolor\":\"white\"},\"title\":{\"x\":0.05},\"mapbox\":{\"style\":\"light\"}}},\"shapes\":[{\"line\":{\"color\":\"green\",\"dash\":\"dash\",\"width\":3},\"type\":\"line\",\"x0\":512000000.0,\"x1\":512000000.0,\"xref\":\"x\",\"y0\":0,\"y1\":1,\"yref\":\"y domain\"}],\"annotations\":[{\"align\":\"left\",\"arrowcolor\":\"#636363\",\"arrowhead\":1,\"arrowsize\":1,\"arrowwidth\":2,\"ax\":-20,\"ay\":-30,\"font\":{\"color\":\"purple\",\"family\":\"Sans Serif\",\"size\":12},\"showarrow\":false,\"text\":\"LLC Size Per Node\",\"x\":\"512e6\",\"y\":130,\"yanchor\":\"bottom\"}],\"xaxis\":{\"title\":{\"text\":\"Dirc_Data_Mov\"},\"ticks\":\"outside\"},\"yaxis\":{\"title\":{\"text\":\"GFLOPs/Node\"},\"ticks\":\"outside\"},\"title\":{\"text\":\"\\\"NonFused-Macro (2-Nodes): probempi vs nonprobempi\\\" GFlops Measurement\"},\"legend\":{\"bordercolor\":\"black\",\"borderwidth\":1}},                        {\"responsive\": true}                    ).then(function(){\n",
       "                            \n",
       "var gd = document.getElementById('a1be021a-577c-460f-9885-1d37c8f71579');\n",
       "var x = new MutationObserver(function (mutations, observer) {{\n",
       "        var display = window.getComputedStyle(gd).display;\n",
       "        if (!display || display === 'none') {{\n",
       "            console.log([gd, 'removed!']);\n",
       "            Plotly.purge(gd);\n",
       "            observer.disconnect();\n",
       "        }}\n",
       "}});\n",
       "\n",
       "// Listen for the removal of the full notebook cells\n",
       "var notebookContainer = gd.closest('#notebook-container');\n",
       "if (notebookContainer) {{\n",
       "    x.observe(notebookContainer, {childList: true});\n",
       "}}\n",
       "\n",
       "// Listen for the clearing of the current output cell\n",
       "var outputEl = gd.closest('.output');\n",
       "if (outputEl) {{\n",
       "    x.observe(outputEl, {childList: true});\n",
       "}}\n",
       "\n",
       "                        })                };                });            </script>        </div>"
      ]
     },
     "metadata": {},
     "output_type": "display_data"
    }
   ],
   "source": [
    "fig = go.Figure() \n",
    "\n",
    "fig.add_trace(go.Scatter(x=(dfn2MacNonFusNonProb_256mpi_1omp.Dirc_Data_Mov*(dfn2MacNonFusNonProb_256mpi_1omp.MPI_size/2)), \n",
    "                         y=(dfn2MacNonFusNonProb_256mpi_1omp.GFLOPS*(dfn2MacNonFusNonProb_256mpi_1omp.MPI_size/2)), \n",
    "                         mode='lines+markers', \n",
    "                         name='MacNonFusNonProb_256mpi_1omp',\n",
    "                         line=dict(color='magenta',width=3),\n",
    "                         marker=dict(symbol='hexagon',size=9, line=dict(color='yellow',width=1))))\n",
    "\n",
    "\n",
    "fig.add_trace(go.Scatter(x=(dfn2MacNonFusProb_256mpi_1omp.Dirc_Data_Mov*(dfn2MacNonFusProb_256mpi_1omp.MPI_size/2)), \n",
    "                         y=(dfn2MacNonFusProb_256mpi_1omp.GFLOPS*(dfn2MacNonFusProb_256mpi_1omp.MPI_size/2)), \n",
    "                         mode='lines+markers', \n",
    "                         name='MacNonFusProb_256mpi_1omp',\n",
    "                         line=dict(color='olive',width=3),\n",
    "                         marker=dict(symbol='hexagon',size=9, line=dict(color='yellow',width=1))))\n",
    "\n",
    "# case 2\n",
    "fig.add_trace(go.Scatter(x=(dfn2MacNonFusNonProb_128mpi_2omp.Dirc_Data_Mov*(dfn2MacNonFusNonProb_128mpi_2omp.MPI_size/2)), \n",
    "                         y=(dfn2MacNonFusNonProb_128mpi_2omp.GFLOPS*(dfn2MacNonFusNonProb_128mpi_2omp.MPI_size/2)), \n",
    "                         mode='lines+markers', \n",
    "                         name='MacNonFusNonProb_128mpi_2omp',\n",
    "                         line=dict(color='sandybrown',width=3),\n",
    "                         marker=dict(symbol='diamond',size=5,line=dict(color='MediumPurple',width=2))))\n",
    "\n",
    "fig.add_trace(go.Scatter(x=(dfn2MacNonFusProb_128mpi_2omp.Dirc_Data_Mov*(dfn2MacNonFusProb_128mpi_2omp.MPI_size/2)), \n",
    "                         y=(dfn2MacNonFusProb_128mpi_2omp.GFLOPS*(dfn2MacNonFusProb_128mpi_2omp.MPI_size/2)), \n",
    "                         mode='lines+markers', \n",
    "                         name='MacNonFusProb_128mpi_2omp',\n",
    "                         line=dict(color='royalblue',width=3),\n",
    "                         marker=dict(symbol='diamond',size=5,line=dict(color='MediumPurple',width=2))))\n",
    "\n",
    "# case 3\n",
    "fig.add_trace(go.Scatter(x=(dfn2MacNonFusNonProb_64mpi_4omp.Dirc_Data_Mov*(dfn2MacNonFusNonProb_64mpi_4omp.MPI_size/2)), \n",
    "                         y=(dfn2MacNonFusNonProb_64mpi_4omp.GFLOPS*(dfn2MacNonFusNonProb_64mpi_4omp.MPI_size/2)), \n",
    "                         mode='lines+markers', \n",
    "                         name='MacNonFusNonProb_64mpi_4omp',\n",
    "                         line=dict(color='cyan',width=3),\n",
    "                         marker=dict(symbol='circle',size=7,line=dict(color='Purple',width=2))))\n",
    "\n",
    "fig.add_trace(go.Scatter(x=(dfn2MacNonFusProb_64mpi_4omp.Dirc_Data_Mov*(dfn2MacNonFusProb_64mpi_4omp.MPI_size/2)), \n",
    "                         y=(dfn2MacNonFusProb_64mpi_4omp.GFLOPS*(dfn2MacNonFusProb_64mpi_4omp.MPI_size/2)), \n",
    "                         mode='lines+markers', \n",
    "                         name='MacNonFusProb_64mpi_4omp',\n",
    "                         line=dict(color='darkblue',width=3),\n",
    "                         marker=dict(symbol='circle',size=7, line=dict(color='tomato',width=2))))\n",
    "\n",
    "# case 4\n",
    "fig.add_trace(go.Scatter(x=(dfn2MacNonFusNonProb_32mpi_8omp.Dirc_Data_Mov*(dfn2MacNonFusNonProb_32mpi_8omp.MPI_size/2)), \n",
    "                         y=(dfn2MacNonFusNonProb_32mpi_8omp.GFLOPS*(dfn2MacNonFusNonProb_32mpi_8omp.MPI_size/2)), \n",
    "                         mode='lines+markers', \n",
    "                         name='MacNonFusNonProb_32mpi_8omp',\n",
    "                         line=dict(color='red',width=3),\n",
    "                         marker=dict(symbol='circle',size=5,line=dict(color='red',width=2))))\n",
    "\n",
    "fig.add_trace(go.Scatter(x=(dfn2MacNonFusProb_32mpi_8omp.Dirc_Data_Mov*(dfn2MacNonFusProb_32mpi_8omp.MPI_size/2)), \n",
    "                         y=(dfn2MacNonFusProb_32mpi_8omp.GFLOPS*(dfn2MacNonFusProb_32mpi_8omp.MPI_size/2)), \n",
    "                         mode='lines+markers', \n",
    "                         name='MacNonFusProb_32mpi_8omp',\n",
    "                         line=dict(color='green',width=3),\n",
    "                         marker=dict(symbol='circle',size=5,line=dict(color='green',width=2))))\n",
    "\n",
    "# case 5\n",
    "\n",
    "fig.add_trace(go.Scatter(x=(dfn2MacNonFusNonProb_16mpi_16omp.Dirc_Data_Mov*(dfn2MacNonFusNonProb_16mpi_16omp.MPI_size/2)), \n",
    "                         y=(dfn2MacNonFusNonProb_16mpi_16omp.GFLOPS*(dfn2MacNonFusNonProb_16mpi_16omp.MPI_size/2)), \n",
    "                         mode='lines+markers', \n",
    "                         name='MacNonFusNonProb_16mpi_16omp',\n",
    "                         line=dict(color='blue',width=3),\n",
    "                         marker=dict(symbol='triangle-up',size=4,line=dict(color='chocolate',width=2))))\n",
    "\n",
    "fig.add_trace(go.Scatter(x=(dfn2MacNonFusProb_16mpi_16omp.Dirc_Data_Mov*(dfn2MacNonFusProb_16mpi_16omp.MPI_size/2)), \n",
    "                         y=(dfn2MacNonFusProb_16mpi_16omp.GFLOPS*(dfn2MacNonFusProb_16mpi_16omp.MPI_size/2)), \n",
    "                         mode='lines+markers', \n",
    "                         name='MacNonFusProb_16mpi_16omp',\n",
    "                         line=dict(color='darkviolet',width=3),\n",
    "                         marker=dict(symbol='triangle-up',size=4,line=dict(color='crimson',width=2))))\n",
    "\n",
    "\n",
    "\n",
    "# Adding a vertical line\n",
    "fig.add_vline(x=512e6, line_width=3, line_dash=\"dash\", line_color=\"green\")\n",
    "# fig.add_hline(y=1024, line_width=3, line_dash=\"dash\", line_color=\"red\")\n",
    "\n",
    "# Add annotation\n",
    "fig.add_annotation(\n",
    "    x='512e6'\n",
    "    , y=130\n",
    "    , text=f'LLC Size Per Node'\n",
    "    , yanchor='bottom'\n",
    "    , showarrow=False\n",
    "    , arrowhead=1\n",
    "    , arrowsize=1\n",
    "    , arrowwidth=2\n",
    "    , arrowcolor=\"#636363\"\n",
    "    , ax=-20\n",
    "    , ay=-30\n",
    "    , font=dict(size=12, color=\"purple\", family=\"Sans Serif\")\n",
    "    , align=\"left\"\n",
    "    ,)\n",
    "\n",
    "fig.update_layout(title='\"NonFused-Macro (2-Nodes): probempi vs nonprobempi\" GFlops Measurement',\n",
    "                  xaxis_title='Dirc_Data_Mov', yaxis_title='GFLOPs/Node', \n",
    "                  xaxis=dict(ticks=\"outside\"),  \n",
    "                  yaxis=dict(ticks=\"outside\"),\n",
    "                  legend=go.layout.Legend(bordercolor=\"black\",borderwidth=1))"
   ]
  },
  {
   "cell_type": "markdown",
   "id": "eb197802",
   "metadata": {},
   "source": [
    "## 5) Newgeo_Macro_Probempi"
   ]
  },
  {
   "cell_type": "markdown",
   "id": "2370c7d5",
   "metadata": {},
   "source": [
    "### Adding Columns"
   ]
  },
  {
   "cell_type": "code",
   "execution_count": 76,
   "id": "6985ab14",
   "metadata": {},
   "outputs": [],
   "source": [
    "dfn2_macro_newgeo_probempi[\"N_Nodes\"] = 2\n",
    "dfn2_macro_newgeo_probempi['NPX'] = (dfn2_macro_newgeo_probempi.GLB_X//dfn2_macro_newgeo_probempi.LOC_X)\n",
    "dfn2_macro_newgeo_probempi['NPY'] = (dfn2_macro_newgeo_probempi.GLB_Y//dfn2_macro_newgeo_probempi.LOC_Y)\n",
    "dfn2_macro_newgeo_probempi['NPZ'] = (dfn2_macro_newgeo_probempi.GLB_Z//dfn2_macro_newgeo_probempi.LOC_Z)\n",
    "dfn2_macro_newgeo_probempi['NPT'] = (dfn2_macro_newgeo_probempi.GLB_T//dfn2_macro_newgeo_probempi.LOC_T)\n",
    "dfn2_macro_newgeo_probempi[\"Total_proc\"] = dfn2_macro_newgeo_probempi[\"omp_thrd\"]* dfn2_macro_newgeo_probempi.MPI_size\n",
    "# dfn2_macro_newgeo_probempi.columns"
   ]
  },
  {
   "cell_type": "markdown",
   "id": "8ac28050",
   "metadata": {},
   "source": [
    "### Data Summary"
   ]
  },
  {
   "cell_type": "code",
   "execution_count": 77,
   "id": "560d88c6",
   "metadata": {},
   "outputs": [
    {
     "data": {
      "text/html": [
       "<div>\n",
       "<style scoped>\n",
       "    .dataframe tbody tr th:only-of-type {\n",
       "        vertical-align: middle;\n",
       "    }\n",
       "\n",
       "    .dataframe tbody tr th {\n",
       "        vertical-align: top;\n",
       "    }\n",
       "\n",
       "    .dataframe thead th {\n",
       "        text-align: right;\n",
       "    }\n",
       "</style>\n",
       "<table border=\"1\" class=\"dataframe\">\n",
       "  <thead>\n",
       "    <tr style=\"text-align: right;\">\n",
       "      <th></th>\n",
       "      <th>MPI_size</th>\n",
       "      <th>omp_thrd</th>\n",
       "      <th>NPT</th>\n",
       "      <th>NPX</th>\n",
       "      <th>NPY</th>\n",
       "      <th>NPZ</th>\n",
       "      <th>Total_proc</th>\n",
       "      <th>size</th>\n",
       "    </tr>\n",
       "  </thead>\n",
       "  <tbody>\n",
       "    <tr>\n",
       "      <th>0</th>\n",
       "      <td>16</td>\n",
       "      <td>16</td>\n",
       "      <td>2</td>\n",
       "      <td>2</td>\n",
       "      <td>2</td>\n",
       "      <td>2</td>\n",
       "      <td>256</td>\n",
       "      <td>140</td>\n",
       "    </tr>\n",
       "    <tr>\n",
       "      <th>1</th>\n",
       "      <td>32</td>\n",
       "      <td>8</td>\n",
       "      <td>4</td>\n",
       "      <td>2</td>\n",
       "      <td>2</td>\n",
       "      <td>2</td>\n",
       "      <td>256</td>\n",
       "      <td>69</td>\n",
       "    </tr>\n",
       "    <tr>\n",
       "      <th>2</th>\n",
       "      <td>64</td>\n",
       "      <td>4</td>\n",
       "      <td>8</td>\n",
       "      <td>2</td>\n",
       "      <td>2</td>\n",
       "      <td>2</td>\n",
       "      <td>256</td>\n",
       "      <td>35</td>\n",
       "    </tr>\n",
       "    <tr>\n",
       "      <th>3</th>\n",
       "      <td>128</td>\n",
       "      <td>2</td>\n",
       "      <td>16</td>\n",
       "      <td>2</td>\n",
       "      <td>2</td>\n",
       "      <td>2</td>\n",
       "      <td>256</td>\n",
       "      <td>17</td>\n",
       "    </tr>\n",
       "    <tr>\n",
       "      <th>4</th>\n",
       "      <td>248</td>\n",
       "      <td>1</td>\n",
       "      <td>31</td>\n",
       "      <td>2</td>\n",
       "      <td>2</td>\n",
       "      <td>2</td>\n",
       "      <td>248</td>\n",
       "      <td>4</td>\n",
       "    </tr>\n",
       "    <tr>\n",
       "      <th>5</th>\n",
       "      <td>256</td>\n",
       "      <td>1</td>\n",
       "      <td>32</td>\n",
       "      <td>2</td>\n",
       "      <td>2</td>\n",
       "      <td>2</td>\n",
       "      <td>256</td>\n",
       "      <td>7</td>\n",
       "    </tr>\n",
       "  </tbody>\n",
       "</table>\n",
       "</div>"
      ],
      "text/plain": [
       "   MPI_size  omp_thrd  NPT  NPX  NPY  NPZ  Total_proc  size\n",
       "0        16        16    2    2    2    2         256   140\n",
       "1        32         8    4    2    2    2         256    69\n",
       "2        64         4    8    2    2    2         256    35\n",
       "3       128         2   16    2    2    2         256    17\n",
       "4       248         1   31    2    2    2         248     4\n",
       "5       256         1   32    2    2    2         256     7"
      ]
     },
     "execution_count": 77,
     "metadata": {},
     "output_type": "execute_result"
    }
   ],
   "source": [
    "dfn2_macro_newgeo_probempi_summary =dfn2_macro_newgeo_probempi.groupby(['MPI_size','omp_thrd','NPT','NPX', 'NPY', 'NPZ',\"Total_proc\"]).size().reset_index(name = 'size')\n",
    "dfn2_macro_newgeo_probempi_summary"
   ]
  },
  {
   "cell_type": "markdown",
   "id": "56d97827",
   "metadata": {},
   "source": [
    "### Cases Setup "
   ]
  },
  {
   "cell_type": "code",
   "execution_count": 78,
   "id": "9fe844d5",
   "metadata": {},
   "outputs": [],
   "source": [
    "dfn2MacNewgeoProb_16mpi_16omp = dfn2_macro_newgeo_probempi[(dfn2_macro_newgeo_probempi.omp_thrd == 16) & (dfn2_macro_newgeo_probempi.GLB_T/dfn2_macro_newgeo_probempi.LOC_T == 2) & (dfn2_macro_newgeo_probempi.GLB_X/dfn2_macro_newgeo_probempi.LOC_X == 2) & (dfn2_macro_newgeo_probempi.GLB_Y/dfn2_macro_newgeo_probempi.LOC_Y == 2)& (dfn2_macro_newgeo_probempi.GLB_Z/dfn2_macro_newgeo_probempi.LOC_Z == 2)]\n",
    "dfn2MacNewgeoProb_32mpi_8omp = dfn2_macro_newgeo_probempi[(dfn2_macro_newgeo_probempi.omp_thrd == 8) & (dfn2_macro_newgeo_probempi.GLB_T/dfn2_macro_newgeo_probempi.LOC_T == 4) & (dfn2_macro_newgeo_probempi.GLB_X/dfn2_macro_newgeo_probempi.LOC_X == 2) & (dfn2_macro_newgeo_probempi.GLB_Y/dfn2_macro_newgeo_probempi.LOC_Y == 2)& (dfn2_macro_newgeo_probempi.GLB_Z/dfn2_macro_newgeo_probempi.LOC_Z == 2)]\n",
    "dfn2MacNewgeoProb_64mpi_4omp = dfn2_macro_newgeo_probempi[(dfn2_macro_newgeo_probempi.omp_thrd == 4) & (dfn2_macro_newgeo_probempi.GLB_T/dfn2_macro_newgeo_probempi.LOC_T == 8) & (dfn2_macro_newgeo_probempi.GLB_X/dfn2_macro_newgeo_probempi.LOC_X == 2) & (dfn2_macro_newgeo_probempi.GLB_Y/dfn2_macro_newgeo_probempi.LOC_Y == 2)& (dfn2_macro_newgeo_probempi.GLB_Z/dfn2_macro_newgeo_probempi.LOC_Z == 2)]\n",
    "dfn2MacNewgeoProb_128mpi_2omp = dfn2_macro_newgeo_probempi[(dfn2_macro_newgeo_probempi.omp_thrd == 2) & (dfn2_macro_newgeo_probempi.GLB_T/dfn2_macro_newgeo_probempi.LOC_T == 16) & (dfn2_macro_newgeo_probempi.GLB_X/dfn2_macro_newgeo_probempi.LOC_X == 2) & (dfn2_macro_newgeo_probempi.GLB_Y/dfn2_macro_newgeo_probempi.LOC_Y == 2)& (dfn2_macro_newgeo_probempi.GLB_Z/dfn2_macro_newgeo_probempi.LOC_Z == 2)]\n",
    "dfn2MacNewgeoProb_256mpi_1omp = dfn2_macro_newgeo_probempi[(dfn2_macro_newgeo_probempi.omp_thrd == 1) & (dfn2_macro_newgeo_probempi.GLB_T/dfn2_macro_newgeo_probempi.LOC_T == 32) & (dfn2_macro_newgeo_probempi.GLB_X/dfn2_macro_newgeo_probempi.LOC_X == 2) & (dfn2_macro_newgeo_probempi.GLB_Y/dfn2_macro_newgeo_probempi.LOC_Y == 2)& (dfn2_macro_newgeo_probempi.GLB_Z/dfn2_macro_newgeo_probempi.LOC_Z == 2)]\n"
   ]
  },
  {
   "cell_type": "markdown",
   "id": "62bcb860",
   "metadata": {},
   "source": [
    "## 6) Newgeo_Macro_NonProbempi"
   ]
  },
  {
   "cell_type": "markdown",
   "id": "b59cbe32",
   "metadata": {},
   "source": [
    "### Adding Columns"
   ]
  },
  {
   "cell_type": "code",
   "execution_count": 86,
   "id": "8ff5563c",
   "metadata": {},
   "outputs": [],
   "source": [
    "dfn2_macro_newgeo_nonprobempi[\"N_Nodes\"] = 2\n",
    "dfn2_macro_newgeo_nonprobempi['NPX'] = (dfn2_macro_newgeo_nonprobempi.GLB_X//dfn2_macro_newgeo_nonprobempi.LOC_X)\n",
    "dfn2_macro_newgeo_nonprobempi['NPY'] = (dfn2_macro_newgeo_nonprobempi.GLB_Y//dfn2_macro_newgeo_nonprobempi.LOC_Y)\n",
    "dfn2_macro_newgeo_nonprobempi['NPZ'] = (dfn2_macro_newgeo_nonprobempi.GLB_Z//dfn2_macro_newgeo_nonprobempi.LOC_Z)\n",
    "dfn2_macro_newgeo_nonprobempi['NPT'] = (dfn2_macro_newgeo_nonprobempi.GLB_T//dfn2_macro_newgeo_nonprobempi.LOC_T)\n",
    "dfn2_macro_newgeo_nonprobempi[\"Total_proc\"] = dfn2_macro_newgeo_nonprobempi[\"omp_thrd\"]* dfn2_macro_newgeo_nonprobempi.MPI_size\n",
    "# dfn2_macro_newgeo_nonprobempi.columns"
   ]
  },
  {
   "cell_type": "markdown",
   "id": "a4c51b92",
   "metadata": {},
   "source": [
    "### Data Summary"
   ]
  },
  {
   "cell_type": "code",
   "execution_count": 87,
   "id": "9f8c8868",
   "metadata": {},
   "outputs": [
    {
     "data": {
      "text/html": [
       "<div>\n",
       "<style scoped>\n",
       "    .dataframe tbody tr th:only-of-type {\n",
       "        vertical-align: middle;\n",
       "    }\n",
       "\n",
       "    .dataframe tbody tr th {\n",
       "        vertical-align: top;\n",
       "    }\n",
       "\n",
       "    .dataframe thead th {\n",
       "        text-align: right;\n",
       "    }\n",
       "</style>\n",
       "<table border=\"1\" class=\"dataframe\">\n",
       "  <thead>\n",
       "    <tr style=\"text-align: right;\">\n",
       "      <th></th>\n",
       "      <th>MPI_size</th>\n",
       "      <th>omp_thrd</th>\n",
       "      <th>NPT</th>\n",
       "      <th>NPX</th>\n",
       "      <th>NPY</th>\n",
       "      <th>NPZ</th>\n",
       "      <th>Total_proc</th>\n",
       "      <th>size</th>\n",
       "    </tr>\n",
       "  </thead>\n",
       "  <tbody>\n",
       "    <tr>\n",
       "      <th>0</th>\n",
       "      <td>16</td>\n",
       "      <td>16</td>\n",
       "      <td>2</td>\n",
       "      <td>2</td>\n",
       "      <td>2</td>\n",
       "      <td>2</td>\n",
       "      <td>256</td>\n",
       "      <td>139</td>\n",
       "    </tr>\n",
       "    <tr>\n",
       "      <th>1</th>\n",
       "      <td>32</td>\n",
       "      <td>8</td>\n",
       "      <td>4</td>\n",
       "      <td>2</td>\n",
       "      <td>2</td>\n",
       "      <td>2</td>\n",
       "      <td>256</td>\n",
       "      <td>70</td>\n",
       "    </tr>\n",
       "    <tr>\n",
       "      <th>2</th>\n",
       "      <td>64</td>\n",
       "      <td>4</td>\n",
       "      <td>8</td>\n",
       "      <td>2</td>\n",
       "      <td>2</td>\n",
       "      <td>2</td>\n",
       "      <td>256</td>\n",
       "      <td>34</td>\n",
       "    </tr>\n",
       "    <tr>\n",
       "      <th>3</th>\n",
       "      <td>128</td>\n",
       "      <td>2</td>\n",
       "      <td>16</td>\n",
       "      <td>2</td>\n",
       "      <td>2</td>\n",
       "      <td>2</td>\n",
       "      <td>256</td>\n",
       "      <td>17</td>\n",
       "    </tr>\n",
       "    <tr>\n",
       "      <th>4</th>\n",
       "      <td>248</td>\n",
       "      <td>1</td>\n",
       "      <td>31</td>\n",
       "      <td>2</td>\n",
       "      <td>2</td>\n",
       "      <td>2</td>\n",
       "      <td>248</td>\n",
       "      <td>4</td>\n",
       "    </tr>\n",
       "    <tr>\n",
       "      <th>5</th>\n",
       "      <td>256</td>\n",
       "      <td>1</td>\n",
       "      <td>32</td>\n",
       "      <td>2</td>\n",
       "      <td>2</td>\n",
       "      <td>2</td>\n",
       "      <td>256</td>\n",
       "      <td>7</td>\n",
       "    </tr>\n",
       "  </tbody>\n",
       "</table>\n",
       "</div>"
      ],
      "text/plain": [
       "   MPI_size  omp_thrd  NPT  NPX  NPY  NPZ  Total_proc  size\n",
       "0        16        16    2    2    2    2         256   139\n",
       "1        32         8    4    2    2    2         256    70\n",
       "2        64         4    8    2    2    2         256    34\n",
       "3       128         2   16    2    2    2         256    17\n",
       "4       248         1   31    2    2    2         248     4\n",
       "5       256         1   32    2    2    2         256     7"
      ]
     },
     "execution_count": 87,
     "metadata": {},
     "output_type": "execute_result"
    }
   ],
   "source": [
    "dfn2_macro_newgeo_nonprobempi_summary = dfn2_macro_newgeo_nonprobempi.groupby(['MPI_size','omp_thrd','NPT','NPX', 'NPY', 'NPZ',\"Total_proc\"]).size().reset_index(name = 'size')\n",
    "dfn2_macro_newgeo_nonprobempi_summary"
   ]
  },
  {
   "cell_type": "markdown",
   "id": "993a9844",
   "metadata": {},
   "source": [
    "### Cases Setup "
   ]
  },
  {
   "cell_type": "code",
   "execution_count": 94,
   "id": "829bec9b",
   "metadata": {},
   "outputs": [],
   "source": [
    "dfn2MacNewgeoNonProb_16mpi_16omp = dfn2_macro_newgeo_nonprobempi[(dfn2_macro_newgeo_nonprobempi.omp_thrd == 16) & (dfn2_macro_newgeo_nonprobempi.GLB_T/dfn2_macro_newgeo_nonprobempi.LOC_T == 2) & (dfn2_macro_newgeo_nonprobempi.GLB_X/dfn2_macro_newgeo_nonprobempi.LOC_X == 2) & (dfn2_macro_newgeo_nonprobempi.GLB_Y/dfn2_macro_newgeo_nonprobempi.LOC_Y == 2)& (dfn2_macro_newgeo_nonprobempi.GLB_Z/dfn2_macro_newgeo_nonprobempi.LOC_Z == 2)]\n",
    "dfn2MacNewgeoNonProb_32mpi_8omp = dfn2_macro_newgeo_nonprobempi[(dfn2_macro_newgeo_nonprobempi.omp_thrd == 8) & (dfn2_macro_newgeo_nonprobempi.GLB_T/dfn2_macro_newgeo_nonprobempi.LOC_T == 4) & (dfn2_macro_newgeo_nonprobempi.GLB_X/dfn2_macro_newgeo_nonprobempi.LOC_X == 2) & (dfn2_macro_newgeo_nonprobempi.GLB_Y/dfn2_macro_newgeo_nonprobempi.LOC_Y == 2)& (dfn2_macro_newgeo_nonprobempi.GLB_Z/dfn2_macro_newgeo_nonprobempi.LOC_Z == 2)]\n",
    "dfn2MacNewgeoNonProb_64mpi_4omp = dfn2_macro_newgeo_nonprobempi[(dfn2_macro_newgeo_nonprobempi.omp_thrd == 4) & (dfn2_macro_newgeo_nonprobempi.GLB_T/dfn2_macro_newgeo_nonprobempi.LOC_T == 8) & (dfn2_macro_newgeo_nonprobempi.GLB_X/dfn2_macro_newgeo_nonprobempi.LOC_X == 2) & (dfn2_macro_newgeo_nonprobempi.GLB_Y/dfn2_macro_newgeo_nonprobempi.LOC_Y == 2)& (dfn2_macro_newgeo_nonprobempi.GLB_Z/dfn2_macro_newgeo_nonprobempi.LOC_Z == 2)]\n",
    "dfn2MacNewgeoNonProb_128mpi_2omp = dfn2_macro_newgeo_nonprobempi[(dfn2_macro_newgeo_nonprobempi.omp_thrd == 2) & (dfn2_macro_newgeo_nonprobempi.GLB_T/dfn2_macro_newgeo_nonprobempi.LOC_T == 16) & (dfn2_macro_newgeo_nonprobempi.GLB_X/dfn2_macro_newgeo_nonprobempi.LOC_X == 2) & (dfn2_macro_newgeo_nonprobempi.GLB_Y/dfn2_macro_newgeo_nonprobempi.LOC_Y == 2)& (dfn2_macro_newgeo_nonprobempi.GLB_Z/dfn2_macro_newgeo_nonprobempi.LOC_Z == 2)]\n",
    "dfn2MacNewgeoNonProb_256mpi_1omp = dfn2_macro_newgeo_nonprobempi[(dfn2_macro_newgeo_nonprobempi.omp_thrd == 1) & (dfn2_macro_newgeo_nonprobempi.GLB_T/dfn2_macro_newgeo_nonprobempi.LOC_T == 32) & (dfn2_macro_newgeo_nonprobempi.GLB_X/dfn2_macro_newgeo_nonprobempi.LOC_X == 2) & (dfn2_macro_newgeo_nonprobempi.GLB_Y/dfn2_macro_newgeo_nonprobempi.LOC_Y == 2)& (dfn2_macro_newgeo_nonprobempi.GLB_Z/dfn2_macro_newgeo_nonprobempi.LOC_Z == 2)]\n"
   ]
  },
  {
   "cell_type": "markdown",
   "id": "e02166ba",
   "metadata": {},
   "source": [
    "## GFLOPS - Newgeo Macro: Probempi vs Nonprobempi"
   ]
  },
  {
   "cell_type": "code",
   "execution_count": 95,
   "id": "77699b21",
   "metadata": {},
   "outputs": [
    {
     "data": {
      "application/vnd.plotly.v1+json": {
       "config": {
        "plotlyServerURL": "https://plot.ly"
       },
       "data": [
        {
         "line": {
          "color": "magenta",
          "width": 3
         },
         "marker": {
          "line": {
           "color": "yellow",
           "width": 1
          },
          "size": 9,
          "symbol": "hexagon"
         },
         "mode": "lines+markers",
         "name": "MacNewgeoNonProb_256mpi_1omp",
         "type": "scatter",
         "x": [
          1572864000,
          1966080000,
          2359296000,
          2752512000,
          3145728000,
          3538944000,
          3932160000
         ],
         "y": [
          164.94976,
          150.26944,
          134.54592,
          132.91392,
          130.816,
          121.983616,
          116.289408
         ]
        },
        {
         "line": {
          "color": "olive",
          "width": 3
         },
         "marker": {
          "line": {
           "color": "yellow",
           "width": 1
          },
          "size": 9,
          "symbol": "hexagon"
         },
         "mode": "lines+markers",
         "name": "MacNewgeoProb_256mpi_1omp",
         "type": "scatter",
         "x": [
          1572864000,
          1966080000,
          2359296000,
          2752512000,
          3145728000,
          3538944000,
          3932160000
         ],
         "y": [
          171.56224,
          148.95104,
          139.58528,
          130.89152,
          131.93472,
          124.931712,
          117.606144
         ]
        },
        {
         "line": {
          "color": "sandybrown",
          "width": 3
         },
         "marker": {
          "line": {
           "color": "MediumPurple",
           "width": 2
          },
          "size": 5,
          "symbol": "diamond"
         },
         "mode": "lines+markers",
         "name": "MacNewgeoNonProb_128mpi_2omp",
         "type": "scatter",
         "x": [
          786432000,
          983040000,
          1179648000,
          1376256000,
          1572864000,
          1769472000,
          1966080000,
          2162688000,
          2359296000,
          2555904000,
          2752512000,
          2949120000,
          3145728000,
          3342336000,
          3538944000,
          3735552000,
          3932160000
         ],
         "y": [
          188.98176,
          194.81216,
          192.44224,
          185.72224,
          177.96032,
          168.2784,
          156.34176,
          154.02752,
          151.5904,
          140.90496,
          135.42464,
          130.5952,
          131.4816,
          125.56928,
          122.82816,
          125.06112,
          121.16736
         ]
        },
        {
         "line": {
          "color": "royalblue",
          "width": 3
         },
         "marker": {
          "line": {
           "color": "MediumPurple",
           "width": 2
          },
          "size": 5,
          "symbol": "diamond"
         },
         "mode": "lines+markers",
         "name": "MacNewgeoProb_128mpi_2omp",
         "type": "scatter",
         "x": [
          786432000,
          983040000,
          1376256000,
          1179648000,
          1572864000,
          1966080000,
          1769472000,
          2162688000,
          2359296000,
          2555904000,
          2752512000,
          2949120000,
          3145728000,
          3342336000,
          3538944000,
          3735552000,
          3932160000
         ],
         "y": [
          194.912,
          189.08416,
          192.01984,
          193.2288,
          182.40512,
          161.03616,
          165.87264,
          155.49376,
          152.39104,
          144.30016,
          138.32768,
          134.7072,
          130.3872,
          132.42816,
          125.92,
          124.9472,
          121.65184
         ]
        },
        {
         "line": {
          "color": "cyan",
          "width": 3
         },
         "marker": {
          "line": {
           "color": "Purple",
           "width": 2
          },
          "size": 7,
          "symbol": "circle"
         },
         "mode": "lines+markers",
         "name": "MacNewgeoNonProb_64mpi_4omp",
         "type": "scatter",
         "x": [
          589824000,
          688128000,
          786432000,
          884736000,
          983040000,
          1081344000,
          1179648000,
          1277952000,
          1376256000,
          1474560000,
          1572864000,
          1671168000,
          1769472000,
          1867776000,
          1966080000,
          2064384000,
          2162688000,
          2260992000,
          2359296000,
          2457600000,
          2555904000,
          2752512000,
          2850816000,
          2949120000,
          3047424000,
          3145728000,
          3244032000,
          3342336000,
          3440640000,
          3538944000,
          3637248000,
          3735552000,
          3833856000,
          3932160000
         ],
         "y": [
          153.03264,
          173.00896,
          171.60544,
          181.6,
          184.4704,
          183.86624,
          183.31136,
          183.57216,
          182.17344,
          177.704,
          178.80768,
          170.4528,
          166.65984,
          161.55232,
          163.8816,
          153.0544,
          152.61344,
          148.95008,
          151.23744,
          143.44576,
          139.6016,
          140.28096,
          133.93952,
          130.34592,
          132.90464,
          126.13952,
          124.45344,
          122.14432,
          122.53376,
          123.75328,
          125.16192,
          116.26752,
          117.9824,
          119.54336
         ]
        },
        {
         "line": {
          "color": "darkblue",
          "width": 3
         },
         "marker": {
          "line": {
           "color": "tomato",
           "width": 2
          },
          "size": 7,
          "symbol": "circle"
         },
         "mode": "lines+markers",
         "name": "MacNewgeoProb_64mpi_4omp",
         "type": "scatter",
         "x": [
          589824000,
          688128000,
          786432000,
          884736000,
          983040000,
          1081344000,
          1179648000,
          1277952000,
          1376256000,
          1474560000,
          1572864000,
          1671168000,
          1769472000,
          1867776000,
          1966080000,
          2064384000,
          2162688000,
          2260992000,
          2359296000,
          2457600000,
          2555904000,
          2654208000,
          2752512000,
          2850816000,
          2949120000,
          3047424000,
          3145728000,
          3244032000,
          3342336000,
          3440640000,
          3538944000,
          3637248000,
          3735552000,
          3833856000,
          3932160000
         ],
         "y": [
          176.95744,
          181.07072,
          184.672,
          183.51168,
          191.6096,
          193.89664,
          194.91712,
          187.70432,
          170.90944,
          183.55168,
          186.12,
          181.07072,
          170.70784,
          170.64896,
          167.8688,
          158.13248,
          154.9344,
          155.93504,
          151.37248,
          148.09536,
          143.21216,
          140.95488,
          138.73152,
          141.344,
          128.03904,
          136.08544,
          133.69696,
          129.61728,
          125.77632,
          132.16224,
          126.23776,
          127.24096,
          119.88032,
          119.33184,
          116.9072
         ]
        },
        {
         "line": {
          "color": "red",
          "width": 3
         },
         "marker": {
          "line": {
           "color": "red",
           "width": 2
          },
          "size": 5,
          "symbol": "circle"
         },
         "mode": "lines+markers",
         "name": "MacNewgeoNonProb_32mpi_8omp",
         "type": "scatter",
         "x": [
          540672000,
          589824000,
          638976000,
          688128000,
          737280000,
          786432000,
          884736000,
          835584000,
          933888000,
          983040000,
          1032192000,
          1081344000,
          1130496000,
          1179648000,
          1228800000,
          1277952000,
          1327104000,
          1376256000,
          1425408000,
          1474560000,
          1523712000,
          1572864000,
          1622016000,
          1671168000,
          1720320000,
          1769472000,
          1867776000,
          1818624000,
          1916928000,
          1966080000,
          2015232000,
          2064384000,
          2113536000,
          2162688000,
          2260992000,
          2211840000,
          2310144000,
          2359296000,
          2408448000,
          2457600000,
          2506752000,
          2555904000,
          2605056000,
          2654208000,
          2703360000,
          2752512000,
          2850816000,
          2801664000,
          2899968000,
          2949120000,
          2998272000,
          3047424000,
          3096576000,
          3145728000,
          3194880000,
          3244032000,
          3293184000,
          3342336000,
          3391488000,
          3440640000,
          3489792000,
          3538944000,
          3588096000,
          3637248000,
          3686400000,
          3735552000,
          3784704000,
          3883008000,
          3833856000,
          3932160000
         ],
         "y": [
          137.72464,
          153.0864,
          152.71632,
          144.16016,
          159.17568,
          165.4192,
          169.5568,
          166.6528,
          171.3024,
          172.8544,
          169.7296,
          174.584,
          172.44,
          171.1552,
          174.8976,
          173.8384,
          171.3456,
          170.3008,
          173.1888,
          165.6496,
          166.7616,
          169.2816,
          159.40864,
          147.22368,
          157.25376,
          144.30656,
          152.796,
          148.67008,
          152.28592,
          155.97456,
          146.11488,
          145.05168,
          144.97632,
          150.62016,
          140.12176,
          126.34576,
          140.67696,
          139.93664,
          137.60544,
          134.7088,
          134.98048,
          136.9368,
          130.77024,
          128.02944,
          130.14944,
          132.30512,
          123.7472,
          125.33696,
          125.51584,
          118.84592,
          122.45232,
          121.59952,
          119.1144,
          122.31296,
          119.96592,
          117.8432,
          121.30272,
          115.57888,
          113.5704,
          113.85536,
          117.2576,
          117.1032,
          115.26848,
          111.14736,
          110.68864,
          113.32352,
          113.38928,
          115.35024,
          109.68944,
          108.69376
         ]
        },
        {
         "line": {
          "color": "green",
          "width": 3
         },
         "marker": {
          "line": {
           "color": "green",
           "width": 2
          },
          "size": 5,
          "symbol": "circle"
         },
         "mode": "lines+markers",
         "name": "MacNewgeoProb_32mpi_8omp",
         "type": "scatter",
         "x": [
          540672000,
          589824000,
          638976000,
          688128000,
          737280000,
          786432000,
          835584000,
          884736000,
          933888000,
          983040000,
          1032192000,
          1081344000,
          1130496000,
          1179648000,
          1228800000,
          1277952000,
          1327104000,
          1376256000,
          1425408000,
          1474560000,
          1572864000,
          1622016000,
          1671168000,
          1720320000,
          1769472000,
          1818624000,
          1867776000,
          1916928000,
          1966080000,
          2015232000,
          2064384000,
          2113536000,
          2162688000,
          2211840000,
          2260992000,
          2310144000,
          2359296000,
          2408448000,
          2457600000,
          2506752000,
          2555904000,
          2605056000,
          2654208000,
          2752512000,
          2703360000,
          2801664000,
          2850816000,
          2899968000,
          2949120000,
          2998272000,
          3047424000,
          3096576000,
          3145728000,
          3194880000,
          3244032000,
          3293184000,
          3342336000,
          3391488000,
          3440640000,
          3489792000,
          3538944000,
          3588096000,
          3637248000,
          3686400000,
          3735552000,
          3833856000,
          3784704000,
          3883008000,
          3932160000
         ],
         "y": [
          156.77552,
          159.0392,
          149.12944,
          163.6064,
          150.12096,
          167.6384,
          164.1232,
          173.688,
          175.8176,
          175.7424,
          176.9344,
          179.7088,
          180.6176,
          182.1056,
          181.5408,
          177.9168,
          177.5648,
          181.2832,
          177.3728,
          176.1744,
          172.5968,
          168.8944,
          163.576,
          168.3792,
          161.2448,
          164.9504,
          157.44512,
          153.68784,
          155.2984,
          155.22096,
          149.30128,
          153.1144,
          147.9208,
          143.44336,
          144.28624,
          145.04192,
          143.1392,
          144.9576,
          138.65024,
          135.79184,
          138.852,
          138.46416,
          133.81056,
          127.75664,
          135.89136,
          130.23424,
          130.77424,
          133.33664,
          130.18256,
          133.3712,
          126.15568,
          123.552,
          128.01904,
          127.68272,
          122.6528,
          127.8096,
          123.86688,
          119.29456,
          121.4272,
          124.3192,
          120.76384,
          124.0136,
          119.04272,
          115.81328,
          120.21664,
          114.5376,
          121.9608,
          120.76528,
          115.11568
         ]
        },
        {
         "line": {
          "color": "blue",
          "width": 3
         },
         "marker": {
          "line": {
           "color": "chocolate",
           "width": 2
          },
          "size": 4,
          "symbol": "triangle-up"
         },
         "mode": "lines+markers",
         "name": "MacNewgeoNonProb_16mpi_16omp",
         "type": "scatter",
         "x": [
          516096000,
          565248000,
          540672000,
          589824000,
          614400000,
          638976000,
          663552000,
          688128000,
          712704000,
          737280000,
          761856000,
          786432000,
          811008000,
          835584000,
          860160000,
          884736000,
          909312000,
          933888000,
          958464000,
          983040000,
          1007616000,
          1032192000,
          1056768000,
          1081344000,
          1105920000,
          1130496000,
          1155072000,
          1179648000,
          1204224000,
          1228800000,
          1253376000,
          1277952000,
          1302528000,
          1327104000,
          1351680000,
          1376256000,
          1400832000,
          1449984000,
          1474560000,
          1425408000,
          1499136000,
          1523712000,
          1548288000,
          1572864000,
          1597440000,
          1622016000,
          1646592000,
          1671168000,
          1695744000,
          1720320000,
          1744896000,
          1769472000,
          1794048000,
          1818624000,
          1843200000,
          1867776000,
          1892352000,
          1916928000,
          1941504000,
          1966080000,
          1990656000,
          2015232000,
          2064384000,
          2039808000,
          2088960000,
          2113536000,
          2138112000,
          2162688000,
          2187264000,
          2211840000,
          2260992000,
          2236416000,
          2285568000,
          2310144000,
          2359296000,
          2334720000,
          2383872000,
          2408448000,
          2457600000,
          2482176000,
          2531328000,
          2506752000,
          2555904000,
          2580480000,
          2605056000,
          2629632000,
          2654208000,
          2678784000,
          2703360000,
          2752512000,
          2727936000,
          2777088000,
          2826240000,
          2801664000,
          2850816000,
          2875392000,
          2899968000,
          2924544000,
          2949120000,
          2973696000,
          2998272000,
          3022848000,
          3047424000,
          3072000000,
          3096576000,
          3121152000,
          3145728000,
          3170304000,
          3194880000,
          3219456000,
          3244032000,
          3268608000,
          3293184000,
          3317760000,
          3342336000,
          3366912000,
          3391488000,
          3416064000,
          3465216000,
          3440640000,
          3489792000,
          3514368000,
          3563520000,
          3538944000,
          3588096000,
          3612672000,
          3637248000,
          3661824000,
          3686400000,
          3710976000,
          3735552000,
          3760128000,
          3784704000,
          3809280000,
          3833856000,
          3858432000,
          3883008000,
          3907584000,
          3932160000
         ],
         "y": [
          138.5528,
          140.5832,
          139.5232,
          128.772,
          141.5648,
          133.2168,
          137.1088,
          136.9496,
          140.1064,
          140.5,
          144.1584,
          140.2176,
          145.792,
          144.5816,
          148.5352,
          145.72,
          149.2192,
          147.4216,
          149.232,
          134.7848,
          150.2832,
          150.9632,
          152.6472,
          150.2672,
          146.3136,
          150.4144,
          149.1208,
          143.7296,
          146.7928,
          135.6264,
          148.3488,
          146.5992,
          143.6544,
          140.9776,
          132.0336,
          145.26,
          142.6736,
          138.8728,
          143.9688,
          140.244,
          134.1656,
          139.4808,
          135.4784,
          140.372,
          133.6288,
          132.4096,
          130.2456,
          135.9552,
          132.7288,
          132.1,
          129.0888,
          134.464,
          128.352,
          123.5432,
          126.8016,
          131.5312,
          126.7104,
          129.1432,
          125.5064,
          126.9928,
          121.5136,
          125.928,
          117.6024,
          123.7008,
          125.2752,
          122.516,
          125.3016,
          127.5488,
          118.7536,
          120.64,
          126.2288,
          120.8424,
          119.4464,
          120.164,
          124.3032,
          118.6008,
          118.2392,
          118.5416,
          117.5968,
          117.236,
          113.4616,
          114.7912,
          118.0728,
          103.3136,
          109.4392,
          113.5736,
          113.2784,
          113.1744,
          109.692,
          114.2304,
          108.6104,
          112.8216,
          111.6936,
          112.128,
          114.8664,
          108.2368,
          107.3952,
          110.8,
          110.4408,
          108.2744,
          107.1216,
          108.576,
          109.7744,
          110.2776,
          104.532,
          110.4136,
          105.808,
          103.5976,
          105.4576,
          108.9176,
          104.6448,
          107.6888,
          105.4872,
          103.6072,
          99.4728,
          102.6912,
          101.3776,
          107.6696,
          101.92,
          105.9456,
          100.9808,
          104.104,
          104.0256,
          104.084,
          102.1576,
          103.0336,
          104.0984,
          104.2048,
          96.7656,
          104.78,
          102.4688,
          98.9808,
          97.824,
          99.592,
          96.324,
          102.9336,
          98.2784,
          97.3464,
          99.7056
         ]
        },
        {
         "line": {
          "color": "darkviolet",
          "width": 3
         },
         "marker": {
          "line": {
           "color": "crimson",
           "width": 2
          },
          "size": 4,
          "symbol": "triangle-up"
         },
         "mode": "lines+markers",
         "name": "MacNewgeoProb_16mpi_16omp",
         "type": "scatter",
         "x": [
          516096000,
          540672000,
          565248000,
          589824000,
          614400000,
          638976000,
          663552000,
          688128000,
          712704000,
          737280000,
          761856000,
          786432000,
          811008000,
          835584000,
          860160000,
          884736000,
          909312000,
          933888000,
          958464000,
          983040000,
          1007616000,
          1032192000,
          1056768000,
          1081344000,
          1105920000,
          1130496000,
          1155072000,
          1179648000,
          1204224000,
          1228800000,
          1253376000,
          1277952000,
          1302528000,
          1327104000,
          1376256000,
          1351680000,
          1400832000,
          1425408000,
          1449984000,
          1474560000,
          1523712000,
          1499136000,
          1548288000,
          1572864000,
          1597440000,
          1622016000,
          1646592000,
          1671168000,
          1695744000,
          1720320000,
          1744896000,
          1769472000,
          1794048000,
          1818624000,
          1843200000,
          1867776000,
          1892352000,
          1916928000,
          1941504000,
          1966080000,
          1990656000,
          2015232000,
          2039808000,
          2064384000,
          2088960000,
          2113536000,
          2138112000,
          2162688000,
          2187264000,
          2211840000,
          2236416000,
          2260992000,
          2285568000,
          2310144000,
          2334720000,
          2359296000,
          2383872000,
          2408448000,
          2433024000,
          2457600000,
          2482176000,
          2531328000,
          2506752000,
          2555904000,
          2605056000,
          2580480000,
          2629632000,
          2654208000,
          2678784000,
          2703360000,
          2727936000,
          2777088000,
          2752512000,
          2801664000,
          2850816000,
          2826240000,
          2875392000,
          2924544000,
          2899968000,
          2973696000,
          2949120000,
          2998272000,
          3022848000,
          3072000000,
          3047424000,
          3096576000,
          3121152000,
          3145728000,
          3170304000,
          3194880000,
          3219456000,
          3244032000,
          3268608000,
          3293184000,
          3317760000,
          3342336000,
          3366912000,
          3391488000,
          3416064000,
          3440640000,
          3489792000,
          3465216000,
          3514368000,
          3538944000,
          3563520000,
          3588096000,
          3612672000,
          3637248000,
          3661824000,
          3686400000,
          3710976000,
          3735552000,
          3760128000,
          3784704000,
          3809280000,
          3833856000,
          3858432000,
          3883008000,
          3907584000,
          3932160000
         ],
         "y": [
          136.7984,
          141.6832,
          136.9,
          142.392,
          143.4136,
          141.3976,
          142.476,
          147.516,
          142.96,
          146.6088,
          148.5392,
          145.2136,
          147.3184,
          146.9704,
          149.7,
          147.956,
          153.3752,
          150.6168,
          151.3144,
          154.2592,
          150.1664,
          149.5608,
          153.2632,
          151.5552,
          150.364,
          153.7576,
          149.1336,
          148.0816,
          150.7488,
          147.3776,
          144.4496,
          142.556,
          144.9488,
          144.7104,
          143.8616,
          148.1392,
          138.0944,
          141.7576,
          146.704,
          140.5,
          139.3432,
          141.284,
          138.548,
          139.3576,
          137.0384,
          133.0904,
          136.8216,
          133.552,
          123.1104,
          135.6968,
          134.4856,
          131.7296,
          136.792,
          129.0904,
          128.052,
          127.0008,
          130.7512,
          125.3112,
          131.8,
          124.744,
          122.1904,
          128.3768,
          124.6464,
          125.148,
          129.5536,
          123.9776,
          118.5048,
          122.0024,
          123.4448,
          119.2256,
          123.4216,
          113.2456,
          114.6536,
          120.6904,
          122.508,
          115.3656,
          122.8288,
          117.3664,
          116.8312,
          118.852,
          119.34,
          122.2632,
          114.8776,
          116.904,
          111.2488,
          117.4608,
          116.9768,
          115.1352,
          117.0672,
          113.5064,
          113.5512,
          115.9296,
          115.9976,
          111.2896,
          111.7128,
          117.1696,
          110.4408,
          115.352,
          110.352,
          113.028,
          111.5136,
          110.1576,
          108.208,
          110.9512,
          101.144,
          105.8304,
          109.252,
          105.8472,
          107.8584,
          106.4048,
          110.5624,
          109.76,
          111.0904,
          106.7904,
          102.2576,
          107.472,
          107.2752,
          105.7608,
          109.3952,
          104.6024,
          105.34,
          103.6568,
          106.8336,
          105.4936,
          106.04,
          103.7304,
          103.576,
          107.1288,
          105.8896,
          103.1712,
          106.4032,
          105.7824,
          101.328,
          99.8656,
          105.1376,
          102.164,
          105.7096,
          101.1064,
          101.544,
          104.1872
         ]
        }
       ],
       "layout": {
        "annotations": [
         {
          "align": "left",
          "arrowcolor": "#636363",
          "arrowhead": 1,
          "arrowsize": 1,
          "arrowwidth": 2,
          "ax": -20,
          "ay": -30,
          "font": {
           "color": "purple",
           "family": "Sans Serif",
           "size": 12
          },
          "showarrow": false,
          "text": "LLC Size Per Node",
          "x": "512e6",
          "y": 130,
          "yanchor": "bottom"
         }
        ],
        "legend": {
         "bordercolor": "black",
         "borderwidth": 1
        },
        "shapes": [
         {
          "line": {
           "color": "green",
           "dash": "dash",
           "width": 3
          },
          "type": "line",
          "x0": 512000000,
          "x1": 512000000,
          "xref": "x",
          "y0": 0,
          "y1": 1,
          "yref": "y domain"
         }
        ],
        "template": {
         "data": {
          "bar": [
           {
            "error_x": {
             "color": "#2a3f5f"
            },
            "error_y": {
             "color": "#2a3f5f"
            },
            "marker": {
             "line": {
              "color": "#E5ECF6",
              "width": 0.5
             },
             "pattern": {
              "fillmode": "overlay",
              "size": 10,
              "solidity": 0.2
             }
            },
            "type": "bar"
           }
          ],
          "barpolar": [
           {
            "marker": {
             "line": {
              "color": "#E5ECF6",
              "width": 0.5
             },
             "pattern": {
              "fillmode": "overlay",
              "size": 10,
              "solidity": 0.2
             }
            },
            "type": "barpolar"
           }
          ],
          "carpet": [
           {
            "aaxis": {
             "endlinecolor": "#2a3f5f",
             "gridcolor": "white",
             "linecolor": "white",
             "minorgridcolor": "white",
             "startlinecolor": "#2a3f5f"
            },
            "baxis": {
             "endlinecolor": "#2a3f5f",
             "gridcolor": "white",
             "linecolor": "white",
             "minorgridcolor": "white",
             "startlinecolor": "#2a3f5f"
            },
            "type": "carpet"
           }
          ],
          "choropleth": [
           {
            "colorbar": {
             "outlinewidth": 0,
             "ticks": ""
            },
            "type": "choropleth"
           }
          ],
          "contour": [
           {
            "colorbar": {
             "outlinewidth": 0,
             "ticks": ""
            },
            "colorscale": [
             [
              0,
              "#0d0887"
             ],
             [
              0.1111111111111111,
              "#46039f"
             ],
             [
              0.2222222222222222,
              "#7201a8"
             ],
             [
              0.3333333333333333,
              "#9c179e"
             ],
             [
              0.4444444444444444,
              "#bd3786"
             ],
             [
              0.5555555555555556,
              "#d8576b"
             ],
             [
              0.6666666666666666,
              "#ed7953"
             ],
             [
              0.7777777777777778,
              "#fb9f3a"
             ],
             [
              0.8888888888888888,
              "#fdca26"
             ],
             [
              1,
              "#f0f921"
             ]
            ],
            "type": "contour"
           }
          ],
          "contourcarpet": [
           {
            "colorbar": {
             "outlinewidth": 0,
             "ticks": ""
            },
            "type": "contourcarpet"
           }
          ],
          "heatmap": [
           {
            "colorbar": {
             "outlinewidth": 0,
             "ticks": ""
            },
            "colorscale": [
             [
              0,
              "#0d0887"
             ],
             [
              0.1111111111111111,
              "#46039f"
             ],
             [
              0.2222222222222222,
              "#7201a8"
             ],
             [
              0.3333333333333333,
              "#9c179e"
             ],
             [
              0.4444444444444444,
              "#bd3786"
             ],
             [
              0.5555555555555556,
              "#d8576b"
             ],
             [
              0.6666666666666666,
              "#ed7953"
             ],
             [
              0.7777777777777778,
              "#fb9f3a"
             ],
             [
              0.8888888888888888,
              "#fdca26"
             ],
             [
              1,
              "#f0f921"
             ]
            ],
            "type": "heatmap"
           }
          ],
          "heatmapgl": [
           {
            "colorbar": {
             "outlinewidth": 0,
             "ticks": ""
            },
            "colorscale": [
             [
              0,
              "#0d0887"
             ],
             [
              0.1111111111111111,
              "#46039f"
             ],
             [
              0.2222222222222222,
              "#7201a8"
             ],
             [
              0.3333333333333333,
              "#9c179e"
             ],
             [
              0.4444444444444444,
              "#bd3786"
             ],
             [
              0.5555555555555556,
              "#d8576b"
             ],
             [
              0.6666666666666666,
              "#ed7953"
             ],
             [
              0.7777777777777778,
              "#fb9f3a"
             ],
             [
              0.8888888888888888,
              "#fdca26"
             ],
             [
              1,
              "#f0f921"
             ]
            ],
            "type": "heatmapgl"
           }
          ],
          "histogram": [
           {
            "marker": {
             "pattern": {
              "fillmode": "overlay",
              "size": 10,
              "solidity": 0.2
             }
            },
            "type": "histogram"
           }
          ],
          "histogram2d": [
           {
            "colorbar": {
             "outlinewidth": 0,
             "ticks": ""
            },
            "colorscale": [
             [
              0,
              "#0d0887"
             ],
             [
              0.1111111111111111,
              "#46039f"
             ],
             [
              0.2222222222222222,
              "#7201a8"
             ],
             [
              0.3333333333333333,
              "#9c179e"
             ],
             [
              0.4444444444444444,
              "#bd3786"
             ],
             [
              0.5555555555555556,
              "#d8576b"
             ],
             [
              0.6666666666666666,
              "#ed7953"
             ],
             [
              0.7777777777777778,
              "#fb9f3a"
             ],
             [
              0.8888888888888888,
              "#fdca26"
             ],
             [
              1,
              "#f0f921"
             ]
            ],
            "type": "histogram2d"
           }
          ],
          "histogram2dcontour": [
           {
            "colorbar": {
             "outlinewidth": 0,
             "ticks": ""
            },
            "colorscale": [
             [
              0,
              "#0d0887"
             ],
             [
              0.1111111111111111,
              "#46039f"
             ],
             [
              0.2222222222222222,
              "#7201a8"
             ],
             [
              0.3333333333333333,
              "#9c179e"
             ],
             [
              0.4444444444444444,
              "#bd3786"
             ],
             [
              0.5555555555555556,
              "#d8576b"
             ],
             [
              0.6666666666666666,
              "#ed7953"
             ],
             [
              0.7777777777777778,
              "#fb9f3a"
             ],
             [
              0.8888888888888888,
              "#fdca26"
             ],
             [
              1,
              "#f0f921"
             ]
            ],
            "type": "histogram2dcontour"
           }
          ],
          "mesh3d": [
           {
            "colorbar": {
             "outlinewidth": 0,
             "ticks": ""
            },
            "type": "mesh3d"
           }
          ],
          "parcoords": [
           {
            "line": {
             "colorbar": {
              "outlinewidth": 0,
              "ticks": ""
             }
            },
            "type": "parcoords"
           }
          ],
          "pie": [
           {
            "automargin": true,
            "type": "pie"
           }
          ],
          "scatter": [
           {
            "fillpattern": {
             "fillmode": "overlay",
             "size": 10,
             "solidity": 0.2
            },
            "type": "scatter"
           }
          ],
          "scatter3d": [
           {
            "line": {
             "colorbar": {
              "outlinewidth": 0,
              "ticks": ""
             }
            },
            "marker": {
             "colorbar": {
              "outlinewidth": 0,
              "ticks": ""
             }
            },
            "type": "scatter3d"
           }
          ],
          "scattercarpet": [
           {
            "marker": {
             "colorbar": {
              "outlinewidth": 0,
              "ticks": ""
             }
            },
            "type": "scattercarpet"
           }
          ],
          "scattergeo": [
           {
            "marker": {
             "colorbar": {
              "outlinewidth": 0,
              "ticks": ""
             }
            },
            "type": "scattergeo"
           }
          ],
          "scattergl": [
           {
            "marker": {
             "colorbar": {
              "outlinewidth": 0,
              "ticks": ""
             }
            },
            "type": "scattergl"
           }
          ],
          "scattermapbox": [
           {
            "marker": {
             "colorbar": {
              "outlinewidth": 0,
              "ticks": ""
             }
            },
            "type": "scattermapbox"
           }
          ],
          "scatterpolar": [
           {
            "marker": {
             "colorbar": {
              "outlinewidth": 0,
              "ticks": ""
             }
            },
            "type": "scatterpolar"
           }
          ],
          "scatterpolargl": [
           {
            "marker": {
             "colorbar": {
              "outlinewidth": 0,
              "ticks": ""
             }
            },
            "type": "scatterpolargl"
           }
          ],
          "scatterternary": [
           {
            "marker": {
             "colorbar": {
              "outlinewidth": 0,
              "ticks": ""
             }
            },
            "type": "scatterternary"
           }
          ],
          "surface": [
           {
            "colorbar": {
             "outlinewidth": 0,
             "ticks": ""
            },
            "colorscale": [
             [
              0,
              "#0d0887"
             ],
             [
              0.1111111111111111,
              "#46039f"
             ],
             [
              0.2222222222222222,
              "#7201a8"
             ],
             [
              0.3333333333333333,
              "#9c179e"
             ],
             [
              0.4444444444444444,
              "#bd3786"
             ],
             [
              0.5555555555555556,
              "#d8576b"
             ],
             [
              0.6666666666666666,
              "#ed7953"
             ],
             [
              0.7777777777777778,
              "#fb9f3a"
             ],
             [
              0.8888888888888888,
              "#fdca26"
             ],
             [
              1,
              "#f0f921"
             ]
            ],
            "type": "surface"
           }
          ],
          "table": [
           {
            "cells": {
             "fill": {
              "color": "#EBF0F8"
             },
             "line": {
              "color": "white"
             }
            },
            "header": {
             "fill": {
              "color": "#C8D4E3"
             },
             "line": {
              "color": "white"
             }
            },
            "type": "table"
           }
          ]
         },
         "layout": {
          "annotationdefaults": {
           "arrowcolor": "#2a3f5f",
           "arrowhead": 0,
           "arrowwidth": 1
          },
          "autotypenumbers": "strict",
          "coloraxis": {
           "colorbar": {
            "outlinewidth": 0,
            "ticks": ""
           }
          },
          "colorscale": {
           "diverging": [
            [
             0,
             "#8e0152"
            ],
            [
             0.1,
             "#c51b7d"
            ],
            [
             0.2,
             "#de77ae"
            ],
            [
             0.3,
             "#f1b6da"
            ],
            [
             0.4,
             "#fde0ef"
            ],
            [
             0.5,
             "#f7f7f7"
            ],
            [
             0.6,
             "#e6f5d0"
            ],
            [
             0.7,
             "#b8e186"
            ],
            [
             0.8,
             "#7fbc41"
            ],
            [
             0.9,
             "#4d9221"
            ],
            [
             1,
             "#276419"
            ]
           ],
           "sequential": [
            [
             0,
             "#0d0887"
            ],
            [
             0.1111111111111111,
             "#46039f"
            ],
            [
             0.2222222222222222,
             "#7201a8"
            ],
            [
             0.3333333333333333,
             "#9c179e"
            ],
            [
             0.4444444444444444,
             "#bd3786"
            ],
            [
             0.5555555555555556,
             "#d8576b"
            ],
            [
             0.6666666666666666,
             "#ed7953"
            ],
            [
             0.7777777777777778,
             "#fb9f3a"
            ],
            [
             0.8888888888888888,
             "#fdca26"
            ],
            [
             1,
             "#f0f921"
            ]
           ],
           "sequentialminus": [
            [
             0,
             "#0d0887"
            ],
            [
             0.1111111111111111,
             "#46039f"
            ],
            [
             0.2222222222222222,
             "#7201a8"
            ],
            [
             0.3333333333333333,
             "#9c179e"
            ],
            [
             0.4444444444444444,
             "#bd3786"
            ],
            [
             0.5555555555555556,
             "#d8576b"
            ],
            [
             0.6666666666666666,
             "#ed7953"
            ],
            [
             0.7777777777777778,
             "#fb9f3a"
            ],
            [
             0.8888888888888888,
             "#fdca26"
            ],
            [
             1,
             "#f0f921"
            ]
           ]
          },
          "colorway": [
           "#636efa",
           "#EF553B",
           "#00cc96",
           "#ab63fa",
           "#FFA15A",
           "#19d3f3",
           "#FF6692",
           "#B6E880",
           "#FF97FF",
           "#FECB52"
          ],
          "font": {
           "color": "#2a3f5f"
          },
          "geo": {
           "bgcolor": "white",
           "lakecolor": "white",
           "landcolor": "#E5ECF6",
           "showlakes": true,
           "showland": true,
           "subunitcolor": "white"
          },
          "hoverlabel": {
           "align": "left"
          },
          "hovermode": "closest",
          "mapbox": {
           "style": "light"
          },
          "paper_bgcolor": "white",
          "plot_bgcolor": "#E5ECF6",
          "polar": {
           "angularaxis": {
            "gridcolor": "white",
            "linecolor": "white",
            "ticks": ""
           },
           "bgcolor": "#E5ECF6",
           "radialaxis": {
            "gridcolor": "white",
            "linecolor": "white",
            "ticks": ""
           }
          },
          "scene": {
           "xaxis": {
            "backgroundcolor": "#E5ECF6",
            "gridcolor": "white",
            "gridwidth": 2,
            "linecolor": "white",
            "showbackground": true,
            "ticks": "",
            "zerolinecolor": "white"
           },
           "yaxis": {
            "backgroundcolor": "#E5ECF6",
            "gridcolor": "white",
            "gridwidth": 2,
            "linecolor": "white",
            "showbackground": true,
            "ticks": "",
            "zerolinecolor": "white"
           },
           "zaxis": {
            "backgroundcolor": "#E5ECF6",
            "gridcolor": "white",
            "gridwidth": 2,
            "linecolor": "white",
            "showbackground": true,
            "ticks": "",
            "zerolinecolor": "white"
           }
          },
          "shapedefaults": {
           "line": {
            "color": "#2a3f5f"
           }
          },
          "ternary": {
           "aaxis": {
            "gridcolor": "white",
            "linecolor": "white",
            "ticks": ""
           },
           "baxis": {
            "gridcolor": "white",
            "linecolor": "white",
            "ticks": ""
           },
           "bgcolor": "#E5ECF6",
           "caxis": {
            "gridcolor": "white",
            "linecolor": "white",
            "ticks": ""
           }
          },
          "title": {
           "x": 0.05
          },
          "xaxis": {
           "automargin": true,
           "gridcolor": "white",
           "linecolor": "white",
           "ticks": "",
           "title": {
            "standoff": 15
           },
           "zerolinecolor": "white",
           "zerolinewidth": 2
          },
          "yaxis": {
           "automargin": true,
           "gridcolor": "white",
           "linecolor": "white",
           "ticks": "",
           "title": {
            "standoff": 15
           },
           "zerolinecolor": "white",
           "zerolinewidth": 2
          }
         }
        },
        "title": {
         "text": "\"Newgeo-Macro (2-Nodes): probempi vs nonprobempi\" GFlops Measurement"
        },
        "xaxis": {
         "ticks": "outside",
         "title": {
          "text": "Dirc_Data_Mov"
         }
        },
        "yaxis": {
         "ticks": "outside",
         "title": {
          "text": "GFLOPs/Node"
         }
        }
       }
      },
      "text/html": [
       "<div>                            <div id=\"21671dba-d0a8-4e5a-8330-fc0e3c2417f0\" class=\"plotly-graph-div\" style=\"height:525px; width:100%;\"></div>            <script type=\"text/javascript\">                require([\"plotly\"], function(Plotly) {                    window.PLOTLYENV=window.PLOTLYENV || {};                                    if (document.getElementById(\"21671dba-d0a8-4e5a-8330-fc0e3c2417f0\")) {                    Plotly.newPlot(                        \"21671dba-d0a8-4e5a-8330-fc0e3c2417f0\",                        [{\"line\":{\"color\":\"magenta\",\"width\":3},\"marker\":{\"line\":{\"color\":\"yellow\",\"width\":1},\"size\":9,\"symbol\":\"hexagon\"},\"mode\":\"lines+markers\",\"name\":\"MacNewgeoNonProb_256mpi_1omp\",\"x\":[1572864000.0,1966080000.0,2359296000.0,2752512000.0,3145728000.0,3538944000.0,3932160000.0],\"y\":[164.94976,150.26944,134.54592,132.91392,130.816,121.983616,116.289408],\"type\":\"scatter\"},{\"line\":{\"color\":\"olive\",\"width\":3},\"marker\":{\"line\":{\"color\":\"yellow\",\"width\":1},\"size\":9,\"symbol\":\"hexagon\"},\"mode\":\"lines+markers\",\"name\":\"MacNewgeoProb_256mpi_1omp\",\"x\":[1572864000.0,1966080000.0,2359296000.0,2752512000.0,3145728000.0,3538944000.0,3932160000.0],\"y\":[171.56224,148.95104,139.58528,130.89152,131.93472,124.931712,117.606144],\"type\":\"scatter\"},{\"line\":{\"color\":\"sandybrown\",\"width\":3},\"marker\":{\"line\":{\"color\":\"MediumPurple\",\"width\":2},\"size\":5,\"symbol\":\"diamond\"},\"mode\":\"lines+markers\",\"name\":\"MacNewgeoNonProb_128mpi_2omp\",\"x\":[786432000.0,983040000.0,1179648000.0,1376256000.0,1572864000.0,1769472000.0,1966080000.0,2162688000.0,2359296000.0,2555904000.0,2752512000.0,2949120000.0,3145728000.0,3342336000.0,3538944000.0,3735552000.0,3932160000.0],\"y\":[188.98176,194.81216,192.44224,185.72224,177.96032,168.2784,156.34176,154.02752,151.5904,140.90496,135.42464,130.5952,131.4816,125.56928,122.82816,125.06112,121.16736],\"type\":\"scatter\"},{\"line\":{\"color\":\"royalblue\",\"width\":3},\"marker\":{\"line\":{\"color\":\"MediumPurple\",\"width\":2},\"size\":5,\"symbol\":\"diamond\"},\"mode\":\"lines+markers\",\"name\":\"MacNewgeoProb_128mpi_2omp\",\"x\":[786432000.0,983040000.0,1376256000.0,1179648000.0,1572864000.0,1966080000.0,1769472000.0,2162688000.0,2359296000.0,2555904000.0,2752512000.0,2949120000.0,3145728000.0,3342336000.0,3538944000.0,3735552000.0,3932160000.0],\"y\":[194.912,189.08416,192.01984,193.2288,182.40512,161.03616,165.87264,155.49376,152.39104,144.30016,138.32768,134.7072,130.3872,132.42816,125.92,124.9472,121.65184],\"type\":\"scatter\"},{\"line\":{\"color\":\"cyan\",\"width\":3},\"marker\":{\"line\":{\"color\":\"Purple\",\"width\":2},\"size\":7,\"symbol\":\"circle\"},\"mode\":\"lines+markers\",\"name\":\"MacNewgeoNonProb_64mpi_4omp\",\"x\":[589824000.0,688128000.0,786432000.0,884736000.0,983040000.0,1081344000.0,1179648000.0,1277952000.0,1376256000.0,1474560000.0,1572864000.0,1671168000.0,1769472000.0,1867776000.0,1966080000.0,2064384000.0,2162688000.0,2260992000.0,2359296000.0,2457600000.0,2555904000.0,2752512000.0,2850816000.0,2949120000.0,3047424000.0,3145728000.0,3244032000.0,3342336000.0,3440640000.0,3538944000.0,3637248000.0,3735552000.0,3833856000.0,3932160000.0],\"y\":[153.03264,173.00896,171.60544,181.6,184.4704,183.86624,183.31136,183.57216,182.17344,177.704,178.80768,170.4528,166.65984,161.55232,163.8816,153.0544,152.61344,148.95008,151.23744,143.44576,139.6016,140.28096,133.93952,130.34592,132.90464,126.13952,124.45344,122.14432,122.53376,123.75328,125.16192,116.26752,117.9824,119.54336],\"type\":\"scatter\"},{\"line\":{\"color\":\"darkblue\",\"width\":3},\"marker\":{\"line\":{\"color\":\"tomato\",\"width\":2},\"size\":7,\"symbol\":\"circle\"},\"mode\":\"lines+markers\",\"name\":\"MacNewgeoProb_64mpi_4omp\",\"x\":[589824000.0,688128000.0,786432000.0,884736000.0,983040000.0,1081344000.0,1179648000.0,1277952000.0,1376256000.0,1474560000.0,1572864000.0,1671168000.0,1769472000.0,1867776000.0,1966080000.0,2064384000.0,2162688000.0,2260992000.0,2359296000.0,2457600000.0,2555904000.0,2654208000.0,2752512000.0,2850816000.0,2949120000.0,3047424000.0,3145728000.0,3244032000.0,3342336000.0,3440640000.0,3538944000.0,3637248000.0,3735552000.0,3833856000.0,3932160000.0],\"y\":[176.95744,181.07072,184.672,183.51168,191.6096,193.89664,194.91712,187.70432,170.90944,183.55168,186.12,181.07072,170.70784,170.64896,167.8688,158.13248,154.9344,155.93504,151.37248,148.09536,143.21216,140.95488,138.73152,141.344,128.03904,136.08544,133.69696,129.61728,125.77632,132.16224,126.23776,127.24096,119.88032,119.33184,116.9072],\"type\":\"scatter\"},{\"line\":{\"color\":\"red\",\"width\":3},\"marker\":{\"line\":{\"color\":\"red\",\"width\":2},\"size\":5,\"symbol\":\"circle\"},\"mode\":\"lines+markers\",\"name\":\"MacNewgeoNonProb_32mpi_8omp\",\"x\":[540672000.0,589824000.0,638976000.0,688128000.0,737280000.0,786432000.0,884736000.0,835584000.0,933888000.0,983040000.0,1032192000.0,1081344000.0,1130496000.0,1179648000.0,1228800000.0,1277952000.0,1327104000.0,1376256000.0,1425408000.0,1474560000.0,1523712000.0,1572864000.0,1622016000.0,1671168000.0,1720320000.0,1769472000.0,1867776000.0,1818624000.0,1916928000.0,1966080000.0,2015232000.0,2064384000.0,2113536000.0,2162688000.0,2260992000.0,2211840000.0,2310144000.0,2359296000.0,2408448000.0,2457600000.0,2506752000.0,2555904000.0,2605056000.0,2654208000.0,2703360000.0,2752512000.0,2850816000.0,2801664000.0,2899968000.0,2949120000.0,2998272000.0,3047424000.0,3096576000.0,3145728000.0,3194880000.0,3244032000.0,3293184000.0,3342336000.0,3391488000.0,3440640000.0,3489792000.0,3538944000.0,3588096000.0,3637248000.0,3686400000.0,3735552000.0,3784704000.0,3883008000.0,3833856000.0,3932160000.0],\"y\":[137.72464,153.0864,152.71632,144.16016,159.17568,165.4192,169.5568,166.6528,171.3024,172.8544,169.7296,174.584,172.44,171.1552,174.8976,173.8384,171.3456,170.3008,173.1888,165.6496,166.7616,169.2816,159.40864,147.22368,157.25376,144.30656,152.796,148.67008,152.28592,155.97456,146.11488,145.05168,144.97632,150.62016,140.12176,126.34576,140.67696,139.93664,137.60544,134.7088,134.98048,136.9368,130.77024,128.02944,130.14944,132.30512,123.7472,125.33696,125.51584,118.84592,122.45232,121.59952,119.1144,122.31296,119.96592,117.8432,121.30272,115.57888,113.5704,113.85536,117.2576,117.1032,115.26848,111.14736,110.68864,113.32352,113.38928,115.35024,109.68944,108.69376],\"type\":\"scatter\"},{\"line\":{\"color\":\"green\",\"width\":3},\"marker\":{\"line\":{\"color\":\"green\",\"width\":2},\"size\":5,\"symbol\":\"circle\"},\"mode\":\"lines+markers\",\"name\":\"MacNewgeoProb_32mpi_8omp\",\"x\":[540672000.0,589824000.0,638976000.0,688128000.0,737280000.0,786432000.0,835584000.0,884736000.0,933888000.0,983040000.0,1032192000.0,1081344000.0,1130496000.0,1179648000.0,1228800000.0,1277952000.0,1327104000.0,1376256000.0,1425408000.0,1474560000.0,1572864000.0,1622016000.0,1671168000.0,1720320000.0,1769472000.0,1818624000.0,1867776000.0,1916928000.0,1966080000.0,2015232000.0,2064384000.0,2113536000.0,2162688000.0,2211840000.0,2260992000.0,2310144000.0,2359296000.0,2408448000.0,2457600000.0,2506752000.0,2555904000.0,2605056000.0,2654208000.0,2752512000.0,2703360000.0,2801664000.0,2850816000.0,2899968000.0,2949120000.0,2998272000.0,3047424000.0,3096576000.0,3145728000.0,3194880000.0,3244032000.0,3293184000.0,3342336000.0,3391488000.0,3440640000.0,3489792000.0,3538944000.0,3588096000.0,3637248000.0,3686400000.0,3735552000.0,3833856000.0,3784704000.0,3883008000.0,3932160000.0],\"y\":[156.77552,159.0392,149.12944,163.6064,150.12096,167.6384,164.1232,173.688,175.8176,175.7424,176.9344,179.7088,180.6176,182.1056,181.5408,177.9168,177.5648,181.2832,177.3728,176.1744,172.5968,168.8944,163.576,168.3792,161.2448,164.9504,157.44512,153.68784,155.2984,155.22096,149.30128,153.1144,147.9208,143.44336,144.28624,145.04192,143.1392,144.9576,138.65024,135.79184,138.852,138.46416,133.81056,127.75664,135.89136,130.23424,130.77424,133.33664,130.18256,133.3712,126.15568,123.552,128.01904,127.68272,122.6528,127.8096,123.86688,119.29456,121.4272,124.3192,120.76384,124.0136,119.04272,115.81328,120.21664,114.5376,121.9608,120.76528,115.11568],\"type\":\"scatter\"},{\"line\":{\"color\":\"blue\",\"width\":3},\"marker\":{\"line\":{\"color\":\"chocolate\",\"width\":2},\"size\":4,\"symbol\":\"triangle-up\"},\"mode\":\"lines+markers\",\"name\":\"MacNewgeoNonProb_16mpi_16omp\",\"x\":[516096000.0,565248000.0,540672000.0,589824000.0,614400000.0,638976000.0,663552000.0,688128000.0,712704000.0,737280000.0,761856000.0,786432000.0,811008000.0,835584000.0,860160000.0,884736000.0,909312000.0,933888000.0,958464000.0,983040000.0,1007616000.0,1032192000.0,1056768000.0,1081344000.0,1105920000.0,1130496000.0,1155072000.0,1179648000.0,1204224000.0,1228800000.0,1253376000.0,1277952000.0,1302528000.0,1327104000.0,1351680000.0,1376256000.0,1400832000.0,1449984000.0,1474560000.0,1425408000.0,1499136000.0,1523712000.0,1548288000.0,1572864000.0,1597440000.0,1622016000.0,1646592000.0,1671168000.0,1695744000.0,1720320000.0,1744896000.0,1769472000.0,1794048000.0,1818624000.0,1843200000.0,1867776000.0,1892352000.0,1916928000.0,1941504000.0,1966080000.0,1990656000.0,2015232000.0,2064384000.0,2039808000.0,2088960000.0,2113536000.0,2138112000.0,2162688000.0,2187264000.0,2211840000.0,2260992000.0,2236416000.0,2285568000.0,2310144000.0,2359296000.0,2334720000.0,2383872000.0,2408448000.0,2457600000.0,2482176000.0,2531328000.0,2506752000.0,2555904000.0,2580480000.0,2605056000.0,2629632000.0,2654208000.0,2678784000.0,2703360000.0,2752512000.0,2727936000.0,2777088000.0,2826240000.0,2801664000.0,2850816000.0,2875392000.0,2899968000.0,2924544000.0,2949120000.0,2973696000.0,2998272000.0,3022848000.0,3047424000.0,3072000000.0,3096576000.0,3121152000.0,3145728000.0,3170304000.0,3194880000.0,3219456000.0,3244032000.0,3268608000.0,3293184000.0,3317760000.0,3342336000.0,3366912000.0,3391488000.0,3416064000.0,3465216000.0,3440640000.0,3489792000.0,3514368000.0,3563520000.0,3538944000.0,3588096000.0,3612672000.0,3637248000.0,3661824000.0,3686400000.0,3710976000.0,3735552000.0,3760128000.0,3784704000.0,3809280000.0,3833856000.0,3858432000.0,3883008000.0,3907584000.0,3932160000.0],\"y\":[138.5528,140.5832,139.5232,128.772,141.5648,133.2168,137.1088,136.9496,140.1064,140.5,144.1584,140.2176,145.792,144.5816,148.5352,145.72,149.2192,147.4216,149.232,134.7848,150.2832,150.9632,152.6472,150.2672,146.3136,150.4144,149.1208,143.7296,146.7928,135.6264,148.3488,146.5992,143.6544,140.9776,132.0336,145.26,142.6736,138.8728,143.9688,140.244,134.1656,139.4808,135.4784,140.372,133.6288,132.4096,130.2456,135.9552,132.7288,132.1,129.0888,134.464,128.352,123.5432,126.8016,131.5312,126.7104,129.1432,125.5064,126.9928,121.5136,125.928,117.6024,123.7008,125.2752,122.516,125.3016,127.5488,118.7536,120.64,126.2288,120.8424,119.4464,120.164,124.3032,118.6008,118.2392,118.5416,117.5968,117.236,113.4616,114.7912,118.0728,103.3136,109.4392,113.5736,113.2784,113.1744,109.692,114.2304,108.6104,112.8216,111.6936,112.128,114.8664,108.2368,107.3952,110.8,110.4408,108.2744,107.1216,108.576,109.7744,110.2776,104.532,110.4136,105.808,103.5976,105.4576,108.9176,104.6448,107.6888,105.4872,103.6072,99.4728,102.6912,101.3776,107.6696,101.92,105.9456,100.9808,104.104,104.0256,104.084,102.1576,103.0336,104.0984,104.2048,96.7656,104.78,102.4688,98.9808,97.824,99.592,96.324,102.9336,98.2784,97.3464,99.7056],\"type\":\"scatter\"},{\"line\":{\"color\":\"darkviolet\",\"width\":3},\"marker\":{\"line\":{\"color\":\"crimson\",\"width\":2},\"size\":4,\"symbol\":\"triangle-up\"},\"mode\":\"lines+markers\",\"name\":\"MacNewgeoProb_16mpi_16omp\",\"x\":[516096000.0,540672000.0,565248000.0,589824000.0,614400000.0,638976000.0,663552000.0,688128000.0,712704000.0,737280000.0,761856000.0,786432000.0,811008000.0,835584000.0,860160000.0,884736000.0,909312000.0,933888000.0,958464000.0,983040000.0,1007616000.0,1032192000.0,1056768000.0,1081344000.0,1105920000.0,1130496000.0,1155072000.0,1179648000.0,1204224000.0,1228800000.0,1253376000.0,1277952000.0,1302528000.0,1327104000.0,1376256000.0,1351680000.0,1400832000.0,1425408000.0,1449984000.0,1474560000.0,1523712000.0,1499136000.0,1548288000.0,1572864000.0,1597440000.0,1622016000.0,1646592000.0,1671168000.0,1695744000.0,1720320000.0,1744896000.0,1769472000.0,1794048000.0,1818624000.0,1843200000.0,1867776000.0,1892352000.0,1916928000.0,1941504000.0,1966080000.0,1990656000.0,2015232000.0,2039808000.0,2064384000.0,2088960000.0,2113536000.0,2138112000.0,2162688000.0,2187264000.0,2211840000.0,2236416000.0,2260992000.0,2285568000.0,2310144000.0,2334720000.0,2359296000.0,2383872000.0,2408448000.0,2433024000.0,2457600000.0,2482176000.0,2531328000.0,2506752000.0,2555904000.0,2605056000.0,2580480000.0,2629632000.0,2654208000.0,2678784000.0,2703360000.0,2727936000.0,2777088000.0,2752512000.0,2801664000.0,2850816000.0,2826240000.0,2875392000.0,2924544000.0,2899968000.0,2973696000.0,2949120000.0,2998272000.0,3022848000.0,3072000000.0,3047424000.0,3096576000.0,3121152000.0,3145728000.0,3170304000.0,3194880000.0,3219456000.0,3244032000.0,3268608000.0,3293184000.0,3317760000.0,3342336000.0,3366912000.0,3391488000.0,3416064000.0,3440640000.0,3489792000.0,3465216000.0,3514368000.0,3538944000.0,3563520000.0,3588096000.0,3612672000.0,3637248000.0,3661824000.0,3686400000.0,3710976000.0,3735552000.0,3760128000.0,3784704000.0,3809280000.0,3833856000.0,3858432000.0,3883008000.0,3907584000.0,3932160000.0],\"y\":[136.7984,141.6832,136.9,142.392,143.4136,141.3976,142.476,147.516,142.96,146.6088,148.5392,145.2136,147.3184,146.9704,149.7,147.956,153.3752,150.6168,151.3144,154.2592,150.1664,149.5608,153.2632,151.5552,150.364,153.7576,149.1336,148.0816,150.7488,147.3776,144.4496,142.556,144.9488,144.7104,143.8616,148.1392,138.0944,141.7576,146.704,140.5,139.3432,141.284,138.548,139.3576,137.0384,133.0904,136.8216,133.552,123.1104,135.6968,134.4856,131.7296,136.792,129.0904,128.052,127.0008,130.7512,125.3112,131.8,124.744,122.1904,128.3768,124.6464,125.148,129.5536,123.9776,118.5048,122.0024,123.4448,119.2256,123.4216,113.2456,114.6536,120.6904,122.508,115.3656,122.8288,117.3664,116.8312,118.852,119.34,122.2632,114.8776,116.904,111.2488,117.4608,116.9768,115.1352,117.0672,113.5064,113.5512,115.9296,115.9976,111.2896,111.7128,117.1696,110.4408,115.352,110.352,113.028,111.5136,110.1576,108.208,110.9512,101.144,105.8304,109.252,105.8472,107.8584,106.4048,110.5624,109.76,111.0904,106.7904,102.2576,107.472,107.2752,105.7608,109.3952,104.6024,105.34,103.6568,106.8336,105.4936,106.04,103.7304,103.576,107.1288,105.8896,103.1712,106.4032,105.7824,101.328,99.8656,105.1376,102.164,105.7096,101.1064,101.544,104.1872],\"type\":\"scatter\"}],                        {\"template\":{\"data\":{\"histogram2dcontour\":[{\"type\":\"histogram2dcontour\",\"colorbar\":{\"outlinewidth\":0,\"ticks\":\"\"},\"colorscale\":[[0.0,\"#0d0887\"],[0.1111111111111111,\"#46039f\"],[0.2222222222222222,\"#7201a8\"],[0.3333333333333333,\"#9c179e\"],[0.4444444444444444,\"#bd3786\"],[0.5555555555555556,\"#d8576b\"],[0.6666666666666666,\"#ed7953\"],[0.7777777777777778,\"#fb9f3a\"],[0.8888888888888888,\"#fdca26\"],[1.0,\"#f0f921\"]]}],\"choropleth\":[{\"type\":\"choropleth\",\"colorbar\":{\"outlinewidth\":0,\"ticks\":\"\"}}],\"histogram2d\":[{\"type\":\"histogram2d\",\"colorbar\":{\"outlinewidth\":0,\"ticks\":\"\"},\"colorscale\":[[0.0,\"#0d0887\"],[0.1111111111111111,\"#46039f\"],[0.2222222222222222,\"#7201a8\"],[0.3333333333333333,\"#9c179e\"],[0.4444444444444444,\"#bd3786\"],[0.5555555555555556,\"#d8576b\"],[0.6666666666666666,\"#ed7953\"],[0.7777777777777778,\"#fb9f3a\"],[0.8888888888888888,\"#fdca26\"],[1.0,\"#f0f921\"]]}],\"heatmap\":[{\"type\":\"heatmap\",\"colorbar\":{\"outlinewidth\":0,\"ticks\":\"\"},\"colorscale\":[[0.0,\"#0d0887\"],[0.1111111111111111,\"#46039f\"],[0.2222222222222222,\"#7201a8\"],[0.3333333333333333,\"#9c179e\"],[0.4444444444444444,\"#bd3786\"],[0.5555555555555556,\"#d8576b\"],[0.6666666666666666,\"#ed7953\"],[0.7777777777777778,\"#fb9f3a\"],[0.8888888888888888,\"#fdca26\"],[1.0,\"#f0f921\"]]}],\"heatmapgl\":[{\"type\":\"heatmapgl\",\"colorbar\":{\"outlinewidth\":0,\"ticks\":\"\"},\"colorscale\":[[0.0,\"#0d0887\"],[0.1111111111111111,\"#46039f\"],[0.2222222222222222,\"#7201a8\"],[0.3333333333333333,\"#9c179e\"],[0.4444444444444444,\"#bd3786\"],[0.5555555555555556,\"#d8576b\"],[0.6666666666666666,\"#ed7953\"],[0.7777777777777778,\"#fb9f3a\"],[0.8888888888888888,\"#fdca26\"],[1.0,\"#f0f921\"]]}],\"contourcarpet\":[{\"type\":\"contourcarpet\",\"colorbar\":{\"outlinewidth\":0,\"ticks\":\"\"}}],\"contour\":[{\"type\":\"contour\",\"colorbar\":{\"outlinewidth\":0,\"ticks\":\"\"},\"colorscale\":[[0.0,\"#0d0887\"],[0.1111111111111111,\"#46039f\"],[0.2222222222222222,\"#7201a8\"],[0.3333333333333333,\"#9c179e\"],[0.4444444444444444,\"#bd3786\"],[0.5555555555555556,\"#d8576b\"],[0.6666666666666666,\"#ed7953\"],[0.7777777777777778,\"#fb9f3a\"],[0.8888888888888888,\"#fdca26\"],[1.0,\"#f0f921\"]]}],\"surface\":[{\"type\":\"surface\",\"colorbar\":{\"outlinewidth\":0,\"ticks\":\"\"},\"colorscale\":[[0.0,\"#0d0887\"],[0.1111111111111111,\"#46039f\"],[0.2222222222222222,\"#7201a8\"],[0.3333333333333333,\"#9c179e\"],[0.4444444444444444,\"#bd3786\"],[0.5555555555555556,\"#d8576b\"],[0.6666666666666666,\"#ed7953\"],[0.7777777777777778,\"#fb9f3a\"],[0.8888888888888888,\"#fdca26\"],[1.0,\"#f0f921\"]]}],\"mesh3d\":[{\"type\":\"mesh3d\",\"colorbar\":{\"outlinewidth\":0,\"ticks\":\"\"}}],\"scatter\":[{\"fillpattern\":{\"fillmode\":\"overlay\",\"size\":10,\"solidity\":0.2},\"type\":\"scatter\"}],\"parcoords\":[{\"type\":\"parcoords\",\"line\":{\"colorbar\":{\"outlinewidth\":0,\"ticks\":\"\"}}}],\"scatterpolargl\":[{\"type\":\"scatterpolargl\",\"marker\":{\"colorbar\":{\"outlinewidth\":0,\"ticks\":\"\"}}}],\"bar\":[{\"error_x\":{\"color\":\"#2a3f5f\"},\"error_y\":{\"color\":\"#2a3f5f\"},\"marker\":{\"line\":{\"color\":\"#E5ECF6\",\"width\":0.5},\"pattern\":{\"fillmode\":\"overlay\",\"size\":10,\"solidity\":0.2}},\"type\":\"bar\"}],\"scattergeo\":[{\"type\":\"scattergeo\",\"marker\":{\"colorbar\":{\"outlinewidth\":0,\"ticks\":\"\"}}}],\"scatterpolar\":[{\"type\":\"scatterpolar\",\"marker\":{\"colorbar\":{\"outlinewidth\":0,\"ticks\":\"\"}}}],\"histogram\":[{\"marker\":{\"pattern\":{\"fillmode\":\"overlay\",\"size\":10,\"solidity\":0.2}},\"type\":\"histogram\"}],\"scattergl\":[{\"type\":\"scattergl\",\"marker\":{\"colorbar\":{\"outlinewidth\":0,\"ticks\":\"\"}}}],\"scatter3d\":[{\"type\":\"scatter3d\",\"line\":{\"colorbar\":{\"outlinewidth\":0,\"ticks\":\"\"}},\"marker\":{\"colorbar\":{\"outlinewidth\":0,\"ticks\":\"\"}}}],\"scattermapbox\":[{\"type\":\"scattermapbox\",\"marker\":{\"colorbar\":{\"outlinewidth\":0,\"ticks\":\"\"}}}],\"scatterternary\":[{\"type\":\"scatterternary\",\"marker\":{\"colorbar\":{\"outlinewidth\":0,\"ticks\":\"\"}}}],\"scattercarpet\":[{\"type\":\"scattercarpet\",\"marker\":{\"colorbar\":{\"outlinewidth\":0,\"ticks\":\"\"}}}],\"carpet\":[{\"aaxis\":{\"endlinecolor\":\"#2a3f5f\",\"gridcolor\":\"white\",\"linecolor\":\"white\",\"minorgridcolor\":\"white\",\"startlinecolor\":\"#2a3f5f\"},\"baxis\":{\"endlinecolor\":\"#2a3f5f\",\"gridcolor\":\"white\",\"linecolor\":\"white\",\"minorgridcolor\":\"white\",\"startlinecolor\":\"#2a3f5f\"},\"type\":\"carpet\"}],\"table\":[{\"cells\":{\"fill\":{\"color\":\"#EBF0F8\"},\"line\":{\"color\":\"white\"}},\"header\":{\"fill\":{\"color\":\"#C8D4E3\"},\"line\":{\"color\":\"white\"}},\"type\":\"table\"}],\"barpolar\":[{\"marker\":{\"line\":{\"color\":\"#E5ECF6\",\"width\":0.5},\"pattern\":{\"fillmode\":\"overlay\",\"size\":10,\"solidity\":0.2}},\"type\":\"barpolar\"}],\"pie\":[{\"automargin\":true,\"type\":\"pie\"}]},\"layout\":{\"autotypenumbers\":\"strict\",\"colorway\":[\"#636efa\",\"#EF553B\",\"#00cc96\",\"#ab63fa\",\"#FFA15A\",\"#19d3f3\",\"#FF6692\",\"#B6E880\",\"#FF97FF\",\"#FECB52\"],\"font\":{\"color\":\"#2a3f5f\"},\"hovermode\":\"closest\",\"hoverlabel\":{\"align\":\"left\"},\"paper_bgcolor\":\"white\",\"plot_bgcolor\":\"#E5ECF6\",\"polar\":{\"bgcolor\":\"#E5ECF6\",\"angularaxis\":{\"gridcolor\":\"white\",\"linecolor\":\"white\",\"ticks\":\"\"},\"radialaxis\":{\"gridcolor\":\"white\",\"linecolor\":\"white\",\"ticks\":\"\"}},\"ternary\":{\"bgcolor\":\"#E5ECF6\",\"aaxis\":{\"gridcolor\":\"white\",\"linecolor\":\"white\",\"ticks\":\"\"},\"baxis\":{\"gridcolor\":\"white\",\"linecolor\":\"white\",\"ticks\":\"\"},\"caxis\":{\"gridcolor\":\"white\",\"linecolor\":\"white\",\"ticks\":\"\"}},\"coloraxis\":{\"colorbar\":{\"outlinewidth\":0,\"ticks\":\"\"}},\"colorscale\":{\"sequential\":[[0.0,\"#0d0887\"],[0.1111111111111111,\"#46039f\"],[0.2222222222222222,\"#7201a8\"],[0.3333333333333333,\"#9c179e\"],[0.4444444444444444,\"#bd3786\"],[0.5555555555555556,\"#d8576b\"],[0.6666666666666666,\"#ed7953\"],[0.7777777777777778,\"#fb9f3a\"],[0.8888888888888888,\"#fdca26\"],[1.0,\"#f0f921\"]],\"sequentialminus\":[[0.0,\"#0d0887\"],[0.1111111111111111,\"#46039f\"],[0.2222222222222222,\"#7201a8\"],[0.3333333333333333,\"#9c179e\"],[0.4444444444444444,\"#bd3786\"],[0.5555555555555556,\"#d8576b\"],[0.6666666666666666,\"#ed7953\"],[0.7777777777777778,\"#fb9f3a\"],[0.8888888888888888,\"#fdca26\"],[1.0,\"#f0f921\"]],\"diverging\":[[0,\"#8e0152\"],[0.1,\"#c51b7d\"],[0.2,\"#de77ae\"],[0.3,\"#f1b6da\"],[0.4,\"#fde0ef\"],[0.5,\"#f7f7f7\"],[0.6,\"#e6f5d0\"],[0.7,\"#b8e186\"],[0.8,\"#7fbc41\"],[0.9,\"#4d9221\"],[1,\"#276419\"]]},\"xaxis\":{\"gridcolor\":\"white\",\"linecolor\":\"white\",\"ticks\":\"\",\"title\":{\"standoff\":15},\"zerolinecolor\":\"white\",\"automargin\":true,\"zerolinewidth\":2},\"yaxis\":{\"gridcolor\":\"white\",\"linecolor\":\"white\",\"ticks\":\"\",\"title\":{\"standoff\":15},\"zerolinecolor\":\"white\",\"automargin\":true,\"zerolinewidth\":2},\"scene\":{\"xaxis\":{\"backgroundcolor\":\"#E5ECF6\",\"gridcolor\":\"white\",\"linecolor\":\"white\",\"showbackground\":true,\"ticks\":\"\",\"zerolinecolor\":\"white\",\"gridwidth\":2},\"yaxis\":{\"backgroundcolor\":\"#E5ECF6\",\"gridcolor\":\"white\",\"linecolor\":\"white\",\"showbackground\":true,\"ticks\":\"\",\"zerolinecolor\":\"white\",\"gridwidth\":2},\"zaxis\":{\"backgroundcolor\":\"#E5ECF6\",\"gridcolor\":\"white\",\"linecolor\":\"white\",\"showbackground\":true,\"ticks\":\"\",\"zerolinecolor\":\"white\",\"gridwidth\":2}},\"shapedefaults\":{\"line\":{\"color\":\"#2a3f5f\"}},\"annotationdefaults\":{\"arrowcolor\":\"#2a3f5f\",\"arrowhead\":0,\"arrowwidth\":1},\"geo\":{\"bgcolor\":\"white\",\"landcolor\":\"#E5ECF6\",\"subunitcolor\":\"white\",\"showland\":true,\"showlakes\":true,\"lakecolor\":\"white\"},\"title\":{\"x\":0.05},\"mapbox\":{\"style\":\"light\"}}},\"shapes\":[{\"line\":{\"color\":\"green\",\"dash\":\"dash\",\"width\":3},\"type\":\"line\",\"x0\":512000000.0,\"x1\":512000000.0,\"xref\":\"x\",\"y0\":0,\"y1\":1,\"yref\":\"y domain\"}],\"annotations\":[{\"align\":\"left\",\"arrowcolor\":\"#636363\",\"arrowhead\":1,\"arrowsize\":1,\"arrowwidth\":2,\"ax\":-20,\"ay\":-30,\"font\":{\"color\":\"purple\",\"family\":\"Sans Serif\",\"size\":12},\"showarrow\":false,\"text\":\"LLC Size Per Node\",\"x\":\"512e6\",\"y\":130,\"yanchor\":\"bottom\"}],\"xaxis\":{\"title\":{\"text\":\"Dirc_Data_Mov\"},\"ticks\":\"outside\"},\"yaxis\":{\"title\":{\"text\":\"GFLOPs/Node\"},\"ticks\":\"outside\"},\"title\":{\"text\":\"\\\"Newgeo-Macro (2-Nodes): probempi vs nonprobempi\\\" GFlops Measurement\"},\"legend\":{\"bordercolor\":\"black\",\"borderwidth\":1}},                        {\"responsive\": true}                    ).then(function(){\n",
       "                            \n",
       "var gd = document.getElementById('21671dba-d0a8-4e5a-8330-fc0e3c2417f0');\n",
       "var x = new MutationObserver(function (mutations, observer) {{\n",
       "        var display = window.getComputedStyle(gd).display;\n",
       "        if (!display || display === 'none') {{\n",
       "            console.log([gd, 'removed!']);\n",
       "            Plotly.purge(gd);\n",
       "            observer.disconnect();\n",
       "        }}\n",
       "}});\n",
       "\n",
       "// Listen for the removal of the full notebook cells\n",
       "var notebookContainer = gd.closest('#notebook-container');\n",
       "if (notebookContainer) {{\n",
       "    x.observe(notebookContainer, {childList: true});\n",
       "}}\n",
       "\n",
       "// Listen for the clearing of the current output cell\n",
       "var outputEl = gd.closest('.output');\n",
       "if (outputEl) {{\n",
       "    x.observe(outputEl, {childList: true});\n",
       "}}\n",
       "\n",
       "                        })                };                });            </script>        </div>"
      ]
     },
     "metadata": {},
     "output_type": "display_data"
    }
   ],
   "source": [
    "fig = go.Figure() \n",
    "\n",
    "fig.add_trace(go.Scatter(x=(dfn2MacNewgeoNonProb_256mpi_1omp.Dirc_Data_Mov*(dfn2MacNewgeoNonProb_256mpi_1omp.MPI_size/2)), \n",
    "                         y=(dfn2MacNewgeoNonProb_256mpi_1omp.GFLOPS*(dfn2MacNewgeoNonProb_256mpi_1omp.MPI_size/2)), \n",
    "                         mode='lines+markers', \n",
    "                         name='MacNewgeoNonProb_256mpi_1omp',\n",
    "                         line=dict(color='magenta',width=3),\n",
    "                         marker=dict(symbol='hexagon',size=9, line=dict(color='yellow',width=1))))\n",
    "\n",
    "\n",
    "fig.add_trace(go.Scatter(x=(dfn2MacNewgeoProb_256mpi_1omp.Dirc_Data_Mov*(dfn2MacNewgeoProb_256mpi_1omp.MPI_size/2)), \n",
    "                         y=(dfn2MacNewgeoProb_256mpi_1omp.GFLOPS*(dfn2MacNewgeoProb_256mpi_1omp.MPI_size/2)), \n",
    "                         mode='lines+markers', \n",
    "                         name='MacNewgeoProb_256mpi_1omp',\n",
    "                         line=dict(color='olive',width=3),\n",
    "                         marker=dict(symbol='hexagon',size=9, line=dict(color='yellow',width=1))))\n",
    "\n",
    "# case 2\n",
    "fig.add_trace(go.Scatter(x=(dfn2MacNewgeoNonProb_128mpi_2omp.Dirc_Data_Mov*(dfn2MacNewgeoNonProb_128mpi_2omp.MPI_size/2)), \n",
    "                         y=(dfn2MacNewgeoNonProb_128mpi_2omp.GFLOPS*(dfn2MacNewgeoNonProb_128mpi_2omp.MPI_size/2)), \n",
    "                         mode='lines+markers', \n",
    "                         name='MacNewgeoNonProb_128mpi_2omp',\n",
    "                         line=dict(color='sandybrown',width=3),\n",
    "                         marker=dict(symbol='diamond',size=5,line=dict(color='MediumPurple',width=2))))\n",
    "\n",
    "fig.add_trace(go.Scatter(x=(dfn2MacNewgeoProb_128mpi_2omp.Dirc_Data_Mov*(dfn2MacNewgeoProb_128mpi_2omp.MPI_size/2)), \n",
    "                         y=(dfn2MacNewgeoProb_128mpi_2omp.GFLOPS*(dfn2MacNewgeoProb_128mpi_2omp.MPI_size/2)), \n",
    "                         mode='lines+markers', \n",
    "                         name='MacNewgeoProb_128mpi_2omp',\n",
    "                         line=dict(color='royalblue',width=3),\n",
    "                         marker=dict(symbol='diamond',size=5,line=dict(color='MediumPurple',width=2))))\n",
    "\n",
    "# case 3\n",
    "fig.add_trace(go.Scatter(x=(dfn2MacNewgeoNonProb_64mpi_4omp.Dirc_Data_Mov*(dfn2MacNewgeoNonProb_64mpi_4omp.MPI_size/2)), \n",
    "                         y=(dfn2MacNewgeoNonProb_64mpi_4omp.GFLOPS*(dfn2MacNewgeoNonProb_64mpi_4omp.MPI_size/2)), \n",
    "                         mode='lines+markers', \n",
    "                         name='MacNewgeoNonProb_64mpi_4omp',\n",
    "                         line=dict(color='cyan',width=3),\n",
    "                         marker=dict(symbol='circle',size=7,line=dict(color='Purple',width=2))))\n",
    "\n",
    "fig.add_trace(go.Scatter(x=(dfn2MacNewgeoProb_64mpi_4omp.Dirc_Data_Mov*(dfn2MacNewgeoProb_64mpi_4omp.MPI_size/2)), \n",
    "                         y=(dfn2MacNewgeoProb_64mpi_4omp.GFLOPS*(dfn2MacNewgeoProb_64mpi_4omp.MPI_size/2)), \n",
    "                         mode='lines+markers', \n",
    "                         name='MacNewgeoProb_64mpi_4omp',\n",
    "                         line=dict(color='darkblue',width=3),\n",
    "                         marker=dict(symbol='circle',size=7, line=dict(color='tomato',width=2))))\n",
    "\n",
    "# case 4\n",
    "fig.add_trace(go.Scatter(x=(dfn2MacNewgeoNonProb_32mpi_8omp.Dirc_Data_Mov*(dfn2MacNewgeoNonProb_32mpi_8omp.MPI_size/2)), \n",
    "                         y=(dfn2MacNewgeoNonProb_32mpi_8omp.GFLOPS*(dfn2MacNewgeoNonProb_32mpi_8omp.MPI_size/2)), \n",
    "                         mode='lines+markers', \n",
    "                         name='MacNewgeoNonProb_32mpi_8omp',\n",
    "                         line=dict(color='red',width=3),\n",
    "                         marker=dict(symbol='circle',size=5,line=dict(color='red',width=2))))\n",
    "\n",
    "fig.add_trace(go.Scatter(x=(dfn2MacNewgeoProb_32mpi_8omp.Dirc_Data_Mov*(dfn2MacNewgeoProb_32mpi_8omp.MPI_size/2)), \n",
    "                         y=(dfn2MacNewgeoProb_32mpi_8omp.GFLOPS*(dfn2MacNewgeoProb_32mpi_8omp.MPI_size/2)), \n",
    "                         mode='lines+markers', \n",
    "                         name='MacNewgeoProb_32mpi_8omp',\n",
    "                         line=dict(color='green',width=3),\n",
    "                         marker=dict(symbol='circle',size=5,line=dict(color='green',width=2))))\n",
    "\n",
    "# case 5\n",
    "\n",
    "fig.add_trace(go.Scatter(x=(dfn2MacNewgeoNonProb_16mpi_16omp.Dirc_Data_Mov*(dfn2MacNewgeoNonProb_16mpi_16omp.MPI_size/2)), \n",
    "                         y=(dfn2MacNewgeoNonProb_16mpi_16omp.GFLOPS*(dfn2MacNewgeoNonProb_16mpi_16omp.MPI_size/2)), \n",
    "                         mode='lines+markers', \n",
    "                         name='MacNewgeoNonProb_16mpi_16omp',\n",
    "                         line=dict(color='blue',width=3),\n",
    "                         marker=dict(symbol='triangle-up',size=4,line=dict(color='chocolate',width=2))))\n",
    "\n",
    "fig.add_trace(go.Scatter(x=(dfn2MacNewgeoProb_16mpi_16omp.Dirc_Data_Mov*(dfn2MacNewgeoProb_16mpi_16omp.MPI_size/2)), \n",
    "                         y=(dfn2MacNewgeoProb_16mpi_16omp.GFLOPS*(dfn2MacNewgeoProb_16mpi_16omp.MPI_size/2)), \n",
    "                         mode='lines+markers', \n",
    "                         name='MacNewgeoProb_16mpi_16omp',\n",
    "                         line=dict(color='darkviolet',width=3),\n",
    "                         marker=dict(symbol='triangle-up',size=4,line=dict(color='crimson',width=2))))\n",
    "\n",
    "\n",
    "\n",
    "# Adding a vertical line\n",
    "fig.add_vline(x=512e6, line_width=3, line_dash=\"dash\", line_color=\"green\")\n",
    "# fig.add_hline(y=1024, line_width=3, line_dash=\"dash\", line_color=\"red\")\n",
    "\n",
    "# Add annotation\n",
    "fig.add_annotation(\n",
    "    x='512e6'\n",
    "    , y=130\n",
    "    , text=f'LLC Size Per Node'\n",
    "    , yanchor='bottom'\n",
    "    , showarrow=False\n",
    "    , arrowhead=1\n",
    "    , arrowsize=1\n",
    "    , arrowwidth=2\n",
    "    , arrowcolor=\"#636363\"\n",
    "    , ax=-20\n",
    "    , ay=-30\n",
    "    , font=dict(size=12, color=\"purple\", family=\"Sans Serif\")\n",
    "    , align=\"left\"\n",
    "    ,)\n",
    "\n",
    "fig.update_layout(title='\"Newgeo-Macro (2-Nodes): probempi vs nonprobempi\" GFlops Measurement',\n",
    "                  xaxis_title='Dirc_Data_Mov', yaxis_title='GFLOPs/Node', \n",
    "                  xaxis=dict(ticks=\"outside\"),  \n",
    "                  yaxis=dict(ticks=\"outside\"),\n",
    "                  legend=go.layout.Legend(bordercolor=\"black\",borderwidth=1))"
   ]
  },
  {
   "cell_type": "code",
   "execution_count": null,
   "id": "a52bed38",
   "metadata": {},
   "outputs": [],
   "source": []
  },
  {
   "cell_type": "markdown",
   "id": "7f808f0b",
   "metadata": {},
   "source": [
    "# HIPPO AVX CASES"
   ]
  },
  {
   "cell_type": "markdown",
   "id": "f3842eb7",
   "metadata": {},
   "source": [
    "## 1) Fused_AVX_Probmpi"
   ]
  },
  {
   "cell_type": "markdown",
   "id": "66cdee4a",
   "metadata": {},
   "source": [
    "### Adding Columns"
   ]
  },
  {
   "cell_type": "code",
   "execution_count": 98,
   "id": "a214681a",
   "metadata": {},
   "outputs": [],
   "source": [
    "dfn2_avx_fused_probmpi[\"N_Nodes\"] = 2\n",
    "dfn2_avx_fused_probmpi['NPX'] = (dfn2_avx_fused_probmpi.GLB_X//dfn2_avx_fused_probmpi.LOC_X)\n",
    "dfn2_avx_fused_probmpi['NPY'] = (dfn2_avx_fused_probmpi.GLB_Y//dfn2_avx_fused_probmpi.LOC_Y)\n",
    "dfn2_avx_fused_probmpi['NPZ'] = (dfn2_avx_fused_probmpi.GLB_Z//dfn2_avx_fused_probmpi.LOC_Z)\n",
    "dfn2_avx_fused_probmpi['NPT'] = (dfn2_avx_fused_probmpi.GLB_T//dfn2_avx_fused_probmpi.LOC_T)\n",
    "dfn2_avx_fused_probmpi[\"Total_proc\"] = dfn2_avx_fused_probmpi[\"omp_thrd\"]* dfn2_avx_fused_probmpi.MPI_size\n",
    "# dfn2_avx_fused_probmpi.columns"
   ]
  },
  {
   "cell_type": "markdown",
   "id": "eba9818e",
   "metadata": {},
   "source": [
    "### Data Summary"
   ]
  },
  {
   "cell_type": "code",
   "execution_count": 99,
   "id": "16c4877d",
   "metadata": {},
   "outputs": [
    {
     "data": {
      "text/html": [
       "<div>\n",
       "<style scoped>\n",
       "    .dataframe tbody tr th:only-of-type {\n",
       "        vertical-align: middle;\n",
       "    }\n",
       "\n",
       "    .dataframe tbody tr th {\n",
       "        vertical-align: top;\n",
       "    }\n",
       "\n",
       "    .dataframe thead th {\n",
       "        text-align: right;\n",
       "    }\n",
       "</style>\n",
       "<table border=\"1\" class=\"dataframe\">\n",
       "  <thead>\n",
       "    <tr style=\"text-align: right;\">\n",
       "      <th></th>\n",
       "      <th>MPI_size</th>\n",
       "      <th>omp_thrd</th>\n",
       "      <th>NPT</th>\n",
       "      <th>NPX</th>\n",
       "      <th>NPY</th>\n",
       "      <th>NPZ</th>\n",
       "      <th>Total_proc</th>\n",
       "      <th>size</th>\n",
       "    </tr>\n",
       "  </thead>\n",
       "  <tbody>\n",
       "    <tr>\n",
       "      <th>0</th>\n",
       "      <td>16</td>\n",
       "      <td>16</td>\n",
       "      <td>2</td>\n",
       "      <td>2</td>\n",
       "      <td>2</td>\n",
       "      <td>2</td>\n",
       "      <td>256</td>\n",
       "      <td>139</td>\n",
       "    </tr>\n",
       "    <tr>\n",
       "      <th>1</th>\n",
       "      <td>32</td>\n",
       "      <td>8</td>\n",
       "      <td>4</td>\n",
       "      <td>2</td>\n",
       "      <td>2</td>\n",
       "      <td>2</td>\n",
       "      <td>256</td>\n",
       "      <td>68</td>\n",
       "    </tr>\n",
       "    <tr>\n",
       "      <th>2</th>\n",
       "      <td>64</td>\n",
       "      <td>4</td>\n",
       "      <td>8</td>\n",
       "      <td>2</td>\n",
       "      <td>2</td>\n",
       "      <td>2</td>\n",
       "      <td>256</td>\n",
       "      <td>35</td>\n",
       "    </tr>\n",
       "    <tr>\n",
       "      <th>3</th>\n",
       "      <td>128</td>\n",
       "      <td>2</td>\n",
       "      <td>16</td>\n",
       "      <td>2</td>\n",
       "      <td>2</td>\n",
       "      <td>2</td>\n",
       "      <td>256</td>\n",
       "      <td>17</td>\n",
       "    </tr>\n",
       "    <tr>\n",
       "      <th>4</th>\n",
       "      <td>248</td>\n",
       "      <td>1</td>\n",
       "      <td>31</td>\n",
       "      <td>2</td>\n",
       "      <td>2</td>\n",
       "      <td>2</td>\n",
       "      <td>248</td>\n",
       "      <td>4</td>\n",
       "    </tr>\n",
       "    <tr>\n",
       "      <th>5</th>\n",
       "      <td>256</td>\n",
       "      <td>1</td>\n",
       "      <td>32</td>\n",
       "      <td>2</td>\n",
       "      <td>2</td>\n",
       "      <td>2</td>\n",
       "      <td>256</td>\n",
       "      <td>6</td>\n",
       "    </tr>\n",
       "  </tbody>\n",
       "</table>\n",
       "</div>"
      ],
      "text/plain": [
       "   MPI_size  omp_thrd  NPT  NPX  NPY  NPZ  Total_proc  size\n",
       "0        16        16    2    2    2    2         256   139\n",
       "1        32         8    4    2    2    2         256    68\n",
       "2        64         4    8    2    2    2         256    35\n",
       "3       128         2   16    2    2    2         256    17\n",
       "4       248         1   31    2    2    2         248     4\n",
       "5       256         1   32    2    2    2         256     6"
      ]
     },
     "execution_count": 99,
     "metadata": {},
     "output_type": "execute_result"
    }
   ],
   "source": [
    "dfn2_avx_fused_probmpi_summary = dfn2_avx_fused_probmpi.groupby(['MPI_size','omp_thrd','NPT','NPX', 'NPY', 'NPZ',\"Total_proc\"]).size().reset_index(name = 'size')\n",
    "dfn2_avx_fused_probmpi_summary"
   ]
  },
  {
   "cell_type": "markdown",
   "id": "e6704e5e",
   "metadata": {},
   "source": [
    "### Cases Setup "
   ]
  },
  {
   "cell_type": "code",
   "execution_count": 105,
   "id": "e0aa01e0",
   "metadata": {},
   "outputs": [],
   "source": [
    "dfn2AvxFusProb_16mpi_16omp = dfn2_avx_fused_probmpi[(dfn2_avx_fused_probmpi.omp_thrd == 16) & (dfn2_avx_fused_probmpi.GLB_T/dfn2_avx_fused_probmpi.LOC_T == 2) & (dfn2_avx_fused_probmpi.GLB_X/dfn2_avx_fused_probmpi.LOC_X == 2) & (dfn2_avx_fused_probmpi.GLB_Y/dfn2_avx_fused_probmpi.LOC_Y == 2)& (dfn2_avx_fused_probmpi.GLB_Z/dfn2_avx_fused_probmpi.LOC_Z == 2)]\n",
    "dfn2AvxFusProb_32mpi_8omp = dfn2_avx_fused_probmpi[(dfn2_avx_fused_probmpi.omp_thrd == 8) & (dfn2_avx_fused_probmpi.GLB_T/dfn2_avx_fused_probmpi.LOC_T == 4) & (dfn2_avx_fused_probmpi.GLB_X/dfn2_avx_fused_probmpi.LOC_X == 2) & (dfn2_avx_fused_probmpi.GLB_Y/dfn2_avx_fused_probmpi.LOC_Y == 2)& (dfn2_avx_fused_probmpi.GLB_Z/dfn2_avx_fused_probmpi.LOC_Z == 2)]\n",
    "dfn2AvxFusProb_64mpi_4omp = dfn2_avx_fused_probmpi[(dfn2_avx_fused_probmpi.omp_thrd == 4) & (dfn2_avx_fused_probmpi.GLB_T/dfn2_avx_fused_probmpi.LOC_T == 8) & (dfn2_avx_fused_probmpi.GLB_X/dfn2_avx_fused_probmpi.LOC_X == 2) & (dfn2_avx_fused_probmpi.GLB_Y/dfn2_avx_fused_probmpi.LOC_Y == 2)& (dfn2_avx_fused_probmpi.GLB_Z/dfn2_avx_fused_probmpi.LOC_Z == 2)]\n",
    "dfn2AvxFusProb_128mpi_2omp = dfn2_avx_fused_probmpi[(dfn2_avx_fused_probmpi.omp_thrd == 2) & (dfn2_avx_fused_probmpi.GLB_T/dfn2_avx_fused_probmpi.LOC_T == 16) & (dfn2_avx_fused_probmpi.GLB_X/dfn2_avx_fused_probmpi.LOC_X == 2) & (dfn2_avx_fused_probmpi.GLB_Y/dfn2_avx_fused_probmpi.LOC_Y == 2)& (dfn2_avx_fused_probmpi.GLB_Z/dfn2_avx_fused_probmpi.LOC_Z == 2)]\n",
    "dfn2AvxFusProb_256mpi_1omp = dfn2_avx_fused_probmpi[(dfn2_avx_fused_probmpi.omp_thrd == 1) & (dfn2_avx_fused_probmpi.GLB_T/dfn2_avx_fused_probmpi.LOC_T == 32) & (dfn2_avx_fused_probmpi.GLB_X/dfn2_avx_fused_probmpi.LOC_X == 2) & (dfn2_avx_fused_probmpi.GLB_Y/dfn2_avx_fused_probmpi.LOC_Y == 2)& (dfn2_avx_fused_probmpi.GLB_Z/dfn2_avx_fused_probmpi.LOC_Z == 2)]\n"
   ]
  },
  {
   "cell_type": "markdown",
   "id": "c62beb24",
   "metadata": {},
   "source": [
    "## 2) Fused_AVX_NonProbmpi"
   ]
  },
  {
   "cell_type": "markdown",
   "id": "7ba1f088",
   "metadata": {},
   "source": [
    "## Adding Columns"
   ]
  },
  {
   "cell_type": "code",
   "execution_count": 106,
   "id": "9f9a5d80",
   "metadata": {},
   "outputs": [],
   "source": [
    "dfn2_avx_fused_nonprobmpi[\"N_Nodes\"] = 2\n",
    "dfn2_avx_fused_nonprobmpi['NPX'] = (dfn2_avx_fused_nonprobmpi.GLB_X//dfn2_avx_fused_nonprobmpi.LOC_X)\n",
    "dfn2_avx_fused_nonprobmpi['NPY'] = (dfn2_avx_fused_nonprobmpi.GLB_Y//dfn2_avx_fused_nonprobmpi.LOC_Y)\n",
    "dfn2_avx_fused_nonprobmpi['NPZ'] = (dfn2_avx_fused_nonprobmpi.GLB_Z//dfn2_avx_fused_nonprobmpi.LOC_Z)\n",
    "dfn2_avx_fused_nonprobmpi['NPT'] = (dfn2_avx_fused_nonprobmpi.GLB_T//dfn2_avx_fused_nonprobmpi.LOC_T)\n",
    "dfn2_avx_fused_nonprobmpi[\"Total_proc\"] = dfn2_avx_fused_nonprobmpi[\"omp_thrd\"]* dfn2_avx_fused_nonprobmpi.MPI_size\n",
    "# dfn2_avx_fused_nonprobmpi.columns"
   ]
  },
  {
   "cell_type": "markdown",
   "id": "c37d3ffa",
   "metadata": {},
   "source": [
    "### Data Summary"
   ]
  },
  {
   "cell_type": "code",
   "execution_count": 107,
   "id": "52631f61",
   "metadata": {},
   "outputs": [
    {
     "data": {
      "text/html": [
       "<div>\n",
       "<style scoped>\n",
       "    .dataframe tbody tr th:only-of-type {\n",
       "        vertical-align: middle;\n",
       "    }\n",
       "\n",
       "    .dataframe tbody tr th {\n",
       "        vertical-align: top;\n",
       "    }\n",
       "\n",
       "    .dataframe thead th {\n",
       "        text-align: right;\n",
       "    }\n",
       "</style>\n",
       "<table border=\"1\" class=\"dataframe\">\n",
       "  <thead>\n",
       "    <tr style=\"text-align: right;\">\n",
       "      <th></th>\n",
       "      <th>MPI_size</th>\n",
       "      <th>omp_thrd</th>\n",
       "      <th>NPT</th>\n",
       "      <th>NPX</th>\n",
       "      <th>NPY</th>\n",
       "      <th>NPZ</th>\n",
       "      <th>Total_proc</th>\n",
       "      <th>size</th>\n",
       "    </tr>\n",
       "  </thead>\n",
       "  <tbody>\n",
       "    <tr>\n",
       "      <th>0</th>\n",
       "      <td>16</td>\n",
       "      <td>16</td>\n",
       "      <td>2</td>\n",
       "      <td>2</td>\n",
       "      <td>2</td>\n",
       "      <td>2</td>\n",
       "      <td>256</td>\n",
       "      <td>139</td>\n",
       "    </tr>\n",
       "    <tr>\n",
       "      <th>1</th>\n",
       "      <td>32</td>\n",
       "      <td>8</td>\n",
       "      <td>4</td>\n",
       "      <td>2</td>\n",
       "      <td>2</td>\n",
       "      <td>2</td>\n",
       "      <td>256</td>\n",
       "      <td>70</td>\n",
       "    </tr>\n",
       "    <tr>\n",
       "      <th>2</th>\n",
       "      <td>64</td>\n",
       "      <td>4</td>\n",
       "      <td>8</td>\n",
       "      <td>2</td>\n",
       "      <td>2</td>\n",
       "      <td>2</td>\n",
       "      <td>256</td>\n",
       "      <td>35</td>\n",
       "    </tr>\n",
       "    <tr>\n",
       "      <th>3</th>\n",
       "      <td>128</td>\n",
       "      <td>2</td>\n",
       "      <td>16</td>\n",
       "      <td>2</td>\n",
       "      <td>2</td>\n",
       "      <td>2</td>\n",
       "      <td>256</td>\n",
       "      <td>17</td>\n",
       "    </tr>\n",
       "    <tr>\n",
       "      <th>4</th>\n",
       "      <td>248</td>\n",
       "      <td>1</td>\n",
       "      <td>31</td>\n",
       "      <td>2</td>\n",
       "      <td>2</td>\n",
       "      <td>2</td>\n",
       "      <td>248</td>\n",
       "      <td>4</td>\n",
       "    </tr>\n",
       "    <tr>\n",
       "      <th>5</th>\n",
       "      <td>256</td>\n",
       "      <td>1</td>\n",
       "      <td>32</td>\n",
       "      <td>2</td>\n",
       "      <td>2</td>\n",
       "      <td>2</td>\n",
       "      <td>256</td>\n",
       "      <td>7</td>\n",
       "    </tr>\n",
       "  </tbody>\n",
       "</table>\n",
       "</div>"
      ],
      "text/plain": [
       "   MPI_size  omp_thrd  NPT  NPX  NPY  NPZ  Total_proc  size\n",
       "0        16        16    2    2    2    2         256   139\n",
       "1        32         8    4    2    2    2         256    70\n",
       "2        64         4    8    2    2    2         256    35\n",
       "3       128         2   16    2    2    2         256    17\n",
       "4       248         1   31    2    2    2         248     4\n",
       "5       256         1   32    2    2    2         256     7"
      ]
     },
     "execution_count": 107,
     "metadata": {},
     "output_type": "execute_result"
    }
   ],
   "source": [
    "dfn2_avx_fused_nonprobmpi_summary = dfn2_avx_fused_nonprobmpi.groupby(['MPI_size','omp_thrd','NPT','NPX', 'NPY', 'NPZ',\"Total_proc\"]).size().reset_index(name = 'size')\n",
    "dfn2_avx_fused_nonprobmpi_summary"
   ]
  },
  {
   "cell_type": "markdown",
   "id": "ce44ed10",
   "metadata": {},
   "source": [
    "### Cases Setup"
   ]
  },
  {
   "cell_type": "code",
   "execution_count": 113,
   "id": "06b9aea6",
   "metadata": {},
   "outputs": [],
   "source": [
    "dfn2AvxFusNonProb_16mpi_16omp = dfn2_avx_fused_nonprobmpi[(dfn2_avx_fused_nonprobmpi.omp_thrd == 16) & (dfn2_avx_fused_nonprobmpi.GLB_T/dfn2_avx_fused_nonprobmpi.LOC_T == 2) & (dfn2_avx_fused_nonprobmpi.GLB_X/dfn2_avx_fused_nonprobmpi.LOC_X == 2) & (dfn2_avx_fused_nonprobmpi.GLB_Y/dfn2_avx_fused_nonprobmpi.LOC_Y == 2)& (dfn2_avx_fused_nonprobmpi.GLB_Z/dfn2_avx_fused_nonprobmpi.LOC_Z == 2)]\n",
    "dfn2AvxFusNonProb_32mpi_8omp = dfn2_avx_fused_nonprobmpi[(dfn2_avx_fused_nonprobmpi.omp_thrd == 8) & (dfn2_avx_fused_nonprobmpi.GLB_T/dfn2_avx_fused_nonprobmpi.LOC_T == 4) & (dfn2_avx_fused_nonprobmpi.GLB_X/dfn2_avx_fused_nonprobmpi.LOC_X == 2) & (dfn2_avx_fused_nonprobmpi.GLB_Y/dfn2_avx_fused_nonprobmpi.LOC_Y == 2)& (dfn2_avx_fused_nonprobmpi.GLB_Z/dfn2_avx_fused_nonprobmpi.LOC_Z == 2)]\n",
    "dfn2AvxFusNonProb_64mpi_4omp = dfn2_avx_fused_nonprobmpi[(dfn2_avx_fused_nonprobmpi.omp_thrd == 4) & (dfn2_avx_fused_nonprobmpi.GLB_T/dfn2_avx_fused_nonprobmpi.LOC_T == 8) & (dfn2_avx_fused_nonprobmpi.GLB_X/dfn2_avx_fused_nonprobmpi.LOC_X == 2) & (dfn2_avx_fused_nonprobmpi.GLB_Y/dfn2_avx_fused_nonprobmpi.LOC_Y == 2)& (dfn2_avx_fused_nonprobmpi.GLB_Z/dfn2_avx_fused_nonprobmpi.LOC_Z == 2)]\n",
    "dfn2AvxFusNonProb_128mpi_2omp = dfn2_avx_fused_nonprobmpi[(dfn2_avx_fused_nonprobmpi.omp_thrd == 2) & (dfn2_avx_fused_nonprobmpi.GLB_T/dfn2_avx_fused_nonprobmpi.LOC_T == 16) & (dfn2_avx_fused_nonprobmpi.GLB_X/dfn2_avx_fused_nonprobmpi.LOC_X == 2) & (dfn2_avx_fused_nonprobmpi.GLB_Y/dfn2_avx_fused_nonprobmpi.LOC_Y == 2)& (dfn2_avx_fused_nonprobmpi.GLB_Z/dfn2_avx_fused_nonprobmpi.LOC_Z == 2)]\n",
    "dfn2AvxFusNonProb_256mpi_1omp = dfn2_avx_fused_nonprobmpi[(dfn2_avx_fused_nonprobmpi.omp_thrd == 1) & (dfn2_avx_fused_nonprobmpi.GLB_T/dfn2_avx_fused_nonprobmpi.LOC_T == 32) & (dfn2_avx_fused_nonprobmpi.GLB_X/dfn2_avx_fused_nonprobmpi.LOC_X == 2) & (dfn2_avx_fused_nonprobmpi.GLB_Y/dfn2_avx_fused_nonprobmpi.LOC_Y == 2)& (dfn2_avx_fused_nonprobmpi.GLB_Z/dfn2_avx_fused_nonprobmpi.LOC_Z == 2)]\n"
   ]
  },
  {
   "cell_type": "markdown",
   "id": "092fdb90",
   "metadata": {},
   "source": [
    "## GFLOPS - AVX-Fused: Probmpi vs Non-Probempim"
   ]
  },
  {
   "cell_type": "code",
   "execution_count": 114,
   "id": "73fd1640",
   "metadata": {},
   "outputs": [
    {
     "data": {
      "application/vnd.plotly.v1+json": {
       "config": {
        "plotlyServerURL": "https://plot.ly"
       },
       "data": [
        {
         "line": {
          "color": "magenta",
          "width": 3
         },
         "marker": {
          "line": {
           "color": "yellow",
           "width": 1
          },
          "size": 9,
          "symbol": "hexagon"
         },
         "mode": "lines+markers",
         "name": "AvxFusNonProb_256mpi_1omp",
         "type": "scatter",
         "x": [
          1572864000,
          1966080000,
          2359296000,
          2752512000,
          3145728000,
          3538944000,
          3932160000
         ],
         "y": [
          253.536,
          225.79072,
          202.1696,
          192.1152,
          182.59328,
          166.65088,
          169.76512
         ]
        },
        {
         "line": {
          "color": "olive",
          "width": 3
         },
         "marker": {
          "line": {
           "color": "yellow",
           "width": 1
          },
          "size": 9,
          "symbol": "hexagon"
         },
         "mode": "lines+markers",
         "name": "AvxFusProb_256mpi_1omp",
         "type": "scatter",
         "x": [
          1572864000,
          2359296000,
          2752512000,
          3145728000,
          3538944000,
          3932160000
         ],
         "y": [
          261.83168,
          204.6784,
          192.20608,
          174.96448,
          173.2608,
          168.72448
         ]
        },
        {
         "line": {
          "color": "sandybrown",
          "width": 3
         },
         "marker": {
          "line": {
           "color": "MediumPurple",
           "width": 2
          },
          "size": 5,
          "symbol": "diamond"
         },
         "mode": "lines+markers",
         "name": "AvxFusNonProb_128mpi_2omp",
         "type": "scatter",
         "x": [
          786432000,
          983040000,
          1179648000,
          1376256000,
          1769472000,
          1572864000,
          1966080000,
          2162688000,
          2359296000,
          2555904000,
          2752512000,
          2949120000,
          3145728000,
          3342336000,
          3538944000,
          3735552000,
          3932160000
         ],
         "y": [
          370.73152,
          368.31744,
          345.96096,
          326.53952,
          267.8976,
          305.64096,
          253.36768,
          239.17376,
          223.824,
          217.05472,
          200.0768,
          199.9392,
          194.20736,
          188.5568,
          184.46016,
          172.1568,
          177.08608
         ]
        },
        {
         "line": {
          "color": "royalblue",
          "width": 3
         },
         "marker": {
          "line": {
           "color": "MediumPurple",
           "width": 2
          },
          "size": 5,
          "symbol": "diamond"
         },
         "mode": "lines+markers",
         "name": "AvxFusProb_128mpi_2omp",
         "type": "scatter",
         "x": [
          786432000,
          983040000,
          1179648000,
          1376256000,
          1572864000,
          1769472000,
          1966080000,
          2162688000,
          2359296000,
          2555904000,
          2752512000,
          2949120000,
          3145728000,
          3342336000,
          3538944000,
          3735552000,
          3932160000
         ],
         "y": [
          347.60128,
          382.12352,
          373.7024,
          334.98688,
          310.05952,
          279.67552,
          255.09312,
          234.17088,
          229.79136,
          210.57728,
          208.37504,
          194.78912,
          194.3616,
          179.456,
          184.35904,
          179.11616,
          177.48032
         ]
        },
        {
         "line": {
          "color": "cyan",
          "width": 3
         },
         "marker": {
          "line": {
           "color": "Purple",
           "width": 2
          },
          "size": 7,
          "symbol": "circle"
         },
         "mode": "lines+markers",
         "name": "AvxFusNonProb_64mpi_4omp",
         "type": "scatter",
         "x": [
          589824000,
          688128000,
          786432000,
          884736000,
          983040000,
          1081344000,
          1179648000,
          1277952000,
          1376256000,
          1474560000,
          1572864000,
          1671168000,
          1769472000,
          1867776000,
          1966080000,
          2064384000,
          2162688000,
          2260992000,
          2359296000,
          2457600000,
          2555904000,
          2654208000,
          2752512000,
          2850816000,
          2949120000,
          3047424000,
          3145728000,
          3244032000,
          3342336000,
          3440640000,
          3538944000,
          3637248000,
          3735552000,
          3932160000,
          3833856000
         ],
         "y": [
          328.016,
          350.6752,
          352.6464,
          370.1024,
          378.144,
          372.0576,
          358.6752,
          351.6416,
          322.72,
          335.0016,
          310.21184,
          288.13376,
          280.82368,
          276.27296,
          231.98624,
          245.84544,
          238.00448,
          202.5824,
          227.93824,
          217.51584,
          213.70368,
          208.03648,
          201.22944,
          204.93184,
          186.74656,
          180.81088,
          188.44128,
          177.47488,
          186.35264,
          178.82016,
          181.52768,
          178.87968,
          177.60128,
          166.08736,
          175.75808
         ]
        },
        {
         "line": {
          "color": "darkblue",
          "width": 3
         },
         "marker": {
          "line": {
           "color": "tomato",
           "width": 2
          },
          "size": 7,
          "symbol": "circle"
         },
         "mode": "lines+markers",
         "name": "AvxFusProb_64mpi_4omp",
         "type": "scatter",
         "x": [
          589824000,
          688128000,
          786432000,
          884736000,
          983040000,
          1081344000,
          1179648000,
          1277952000,
          1376256000,
          1474560000,
          1572864000,
          1671168000,
          1769472000,
          1867776000,
          1966080000,
          2064384000,
          2162688000,
          2260992000,
          2359296000,
          2457600000,
          2555904000,
          2654208000,
          2752512000,
          2850816000,
          2949120000,
          3047424000,
          3145728000,
          3244032000,
          3342336000,
          3440640000,
          3538944000,
          3637248000,
          3735552000,
          3833856000,
          3932160000
         ],
         "y": [
          324.1184,
          351.8144,
          380.88,
          357.6992,
          384.64,
          374.6336,
          388.16,
          352.8256,
          346.5504,
          338.5024,
          317.99168,
          291.49088,
          259.31104,
          276.19008,
          257.328,
          227.81952,
          242.31552,
          235.81504,
          223.1408,
          215.3792,
          215.44672,
          212.26272,
          200.76352,
          200.65824,
          198.38016,
          195.12288,
          185.1952,
          189.56704,
          188.93856,
          184.75808,
          174.44832,
          176.88224,
          178.35904,
          177.04544,
          162.7712
         ]
        },
        {
         "line": {
          "color": "red",
          "width": 3
         },
         "marker": {
          "line": {
           "color": "red",
           "width": 2
          },
          "size": 5,
          "symbol": "circle"
         },
         "mode": "lines+markers",
         "name": "AvxFusNonProb_32mpi_8omp",
         "type": "scatter",
         "x": [
          540672000,
          589824000,
          638976000,
          688128000,
          737280000,
          835584000,
          786432000,
          884736000,
          933888000,
          983040000,
          1032192000,
          1081344000,
          1179648000,
          1130496000,
          1228800000,
          1277952000,
          1327104000,
          1376256000,
          1425408000,
          1474560000,
          1523712000,
          1572864000,
          1622016000,
          1671168000,
          1720320000,
          1769472000,
          1818624000,
          1867776000,
          1916928000,
          1966080000,
          2015232000,
          2064384000,
          2162688000,
          2113536000,
          2211840000,
          2260992000,
          2310144000,
          2408448000,
          2359296000,
          2457600000,
          2506752000,
          2555904000,
          2605056000,
          2654208000,
          2703360000,
          2752512000,
          2801664000,
          2850816000,
          2899968000,
          2998272000,
          2949120000,
          3047424000,
          3096576000,
          3145728000,
          3194880000,
          3244032000,
          3293184000,
          3342336000,
          3391488000,
          3489792000,
          3440640000,
          3538944000,
          3588096000,
          3637248000,
          3735552000,
          3686400000,
          3784704000,
          3833856000,
          3883008000,
          3932160000
         ],
         "y": [
          312.864,
          317.4448,
          322.3296,
          330.4736,
          276.9952,
          269.3952,
          264.096,
          271.3264,
          258.584,
          363.9904,
          314.2768,
          365.6064,
          358.584,
          308.4832,
          342.8176,
          328.136,
          321.8432,
          317.3184,
          315.4816,
          301.2496,
          294.4656,
          283.8528,
          278.7024,
          275.4432,
          267.9024,
          259.5968,
          237.4304,
          250.2144,
          246.2256,
          241.2816,
          228.2032,
          231.5552,
          197.2272,
          203.72,
          218.376,
          215.8592,
          212.4272,
          206.8352,
          204.84,
          204.96,
          201.4928,
          200.856,
          197.3488,
          191.408,
          192.1072,
          193.5712,
          185.7984,
          189.6448,
          181.768,
          184.4176,
          183.3488,
          181.0784,
          167.1456,
          175.0784,
          176.4128,
          166.0768,
          161.744,
          174.5824,
          168.4288,
          168.72,
          172.3024,
          169.7712,
          166.0752,
          163.5232,
          168.224,
          165.8672,
          163.0016,
          164.1568,
          154.71968,
          163.6512
         ]
        },
        {
         "line": {
          "color": "green",
          "width": 3
         },
         "marker": {
          "line": {
           "color": "green",
           "width": 2
          },
          "size": 5,
          "symbol": "circle"
         },
         "mode": "lines+markers",
         "name": "dfn2AvxFusProb_32mpi_8omp",
         "type": "scatter",
         "x": [
          540672000,
          589824000,
          638976000,
          688128000,
          786432000,
          737280000,
          835584000,
          884736000,
          983040000,
          933888000,
          1032192000,
          1081344000,
          1130496000,
          1179648000,
          1228800000,
          1277952000,
          1327104000,
          1376256000,
          1425408000,
          1474560000,
          1523712000,
          1572864000,
          1622016000,
          1671168000,
          1769472000,
          1818624000,
          1867776000,
          1916928000,
          1966080000,
          2015232000,
          2064384000,
          2113536000,
          2162688000,
          2211840000,
          2260992000,
          2310144000,
          2408448000,
          2457600000,
          2506752000,
          2555904000,
          2605056000,
          2654208000,
          2703360000,
          2752512000,
          2801664000,
          2850816000,
          2899968000,
          2949120000,
          2998272000,
          3047424000,
          3096576000,
          3145728000,
          3194880000,
          3244032000,
          3293184000,
          3342336000,
          3391488000,
          3440640000,
          3538944000,
          3489792000,
          3588096000,
          3637248000,
          3686400000,
          3735552000,
          3784704000,
          3833856000,
          3883008000,
          3932160000
         ],
         "y": [
          311.5408,
          324.5312,
          315.96,
          322.3104,
          353.4992,
          347.7936,
          281.5424,
          356.2016,
          354.5456,
          298.0032,
          342.4128,
          354.5856,
          344.8128,
          325.0576,
          303.8944,
          344.6544,
          329.4928,
          313.2704,
          310.6672,
          304.496,
          289.416,
          283.6944,
          279.7024,
          272.6544,
          259.4752,
          257.5184,
          249.6272,
          247.8768,
          240.2672,
          233.9408,
          234.8544,
          226.4912,
          225.288,
          222.5712,
          217.5984,
          213.2416,
          190.2032,
          198.7536,
          185.6336,
          201.336,
          199.7024,
          197.2592,
          194.3808,
          193.2304,
          190.5184,
          190.1216,
          187.8496,
          185.8832,
          184.2672,
          184.0736,
          181.8784,
          179.5568,
          180.0944,
          172.4912,
          177.2912,
          175.0176,
          169.1408,
          174.7216,
          174.0768,
          172.656,
          163.0352,
          169.7168,
          169.8576,
          169.7648,
          160.2288,
          164.9328,
          164.672,
          166.1776
         ]
        },
        {
         "line": {
          "color": "blue",
          "width": 3
         },
         "marker": {
          "line": {
           "color": "chocolate",
           "width": 2
          },
          "size": 4,
          "symbol": "triangle-up"
         },
         "mode": "lines+markers",
         "name": "AvxFusNonProb_16mpi_16omp",
         "type": "scatter",
         "x": [
          565248000,
          540672000,
          614400000,
          589824000,
          638976000,
          688128000,
          663552000,
          712704000,
          737280000,
          761856000,
          786432000,
          811008000,
          835584000,
          860160000,
          884736000,
          909312000,
          933888000,
          983040000,
          1007616000,
          958464000,
          1032192000,
          1081344000,
          1056768000,
          1105920000,
          1130496000,
          1155072000,
          1179648000,
          1204224000,
          1228800000,
          1253376000,
          1277952000,
          1302528000,
          1327104000,
          1351680000,
          1376256000,
          1400832000,
          1425408000,
          1449984000,
          1474560000,
          1499136000,
          1523712000,
          1548288000,
          1572864000,
          1597440000,
          1622016000,
          1646592000,
          1671168000,
          1695744000,
          1720320000,
          1744896000,
          1769472000,
          1794048000,
          1818624000,
          1843200000,
          1867776000,
          1892352000,
          1916928000,
          1941504000,
          1966080000,
          1990656000,
          2015232000,
          2039808000,
          2064384000,
          2088960000,
          2113536000,
          2138112000,
          2162688000,
          2187264000,
          2211840000,
          2236416000,
          2260992000,
          2285568000,
          2310144000,
          2334720000,
          2359296000,
          2383872000,
          2408448000,
          2433024000,
          2457600000,
          2482176000,
          2506752000,
          2531328000,
          2555904000,
          2580480000,
          2605056000,
          2629632000,
          2654208000,
          2678784000,
          2703360000,
          2727936000,
          2752512000,
          2777088000,
          2801664000,
          2826240000,
          2850816000,
          2875392000,
          2899968000,
          2949120000,
          2924544000,
          2973696000,
          2998272000,
          3022848000,
          3047424000,
          3072000000,
          3096576000,
          3121152000,
          3145728000,
          3170304000,
          3194880000,
          3219456000,
          3244032000,
          3268608000,
          3293184000,
          3317760000,
          3342336000,
          3366912000,
          3391488000,
          3416064000,
          3440640000,
          3465216000,
          3489792000,
          3514368000,
          3538944000,
          3563520000,
          3588096000,
          3612672000,
          3637248000,
          3661824000,
          3686400000,
          3710976000,
          3735552000,
          3784704000,
          3760128000,
          3809280000,
          3833856000,
          3858432000,
          3883008000,
          3907584000,
          3932160000
         ],
         "y": [
          197.096,
          192.3648,
          200.3304,
          197.3544,
          209.18,
          213.3264,
          199.6736,
          211.0872,
          212.1384,
          217.4288,
          217.6592,
          208.9096,
          233.7616,
          217.2976,
          234.5688,
          202.7832,
          214.4344,
          240.1368,
          233.6592,
          238.5728,
          229.9752,
          228.804,
          181.6872,
          221.032,
          217.6184,
          215.0632,
          212.672,
          203.5816,
          205.9312,
          201.8568,
          201.7712,
          193.2224,
          196.0256,
          194.952,
          192.2312,
          185.0176,
          187.056,
          183.8656,
          185.3904,
          178.0544,
          181.7936,
          178.2312,
          175.9768,
          169.0696,
          175.5056,
          172.8496,
          172.2096,
          167.2968,
          170.9272,
          167.112,
          157.4744,
          162.3568,
          165.5352,
          163.5776,
          164.9256,
          152.9016,
          162.5864,
          162.3112,
          157.9576,
          158.432,
          158.3856,
          158.2072,
          155.8568,
          152.1856,
          153.7552,
          155.8584,
          148.3,
          153.9064,
          141.9616,
          146.1192,
          151.1432,
          147.6808,
          148.76,
          148.2776,
          142.0976,
          147.1816,
          144.9392,
          145.508,
          144.78,
          140.4704,
          142.876,
          139.4656,
          144.8936,
          142.0096,
          134.1248,
          141.7952,
          137.3384,
          142.2112,
          139.516,
          136.7752,
          139.3872,
          135.06,
          137.9328,
          137.4816,
          133.824,
          137.492,
          133.5992,
          136.0144,
          137.604,
          122.8072,
          134.2808,
          132.0504,
          135.032,
          133.6288,
          127.9608,
          133.8472,
          129.2672,
          131.5736,
          130.0448,
          128.8592,
          132.1704,
          127.2544,
          130.752,
          131.092,
          125.4568,
          127.1064,
          125.1008,
          128.5424,
          128.532,
          122.6952,
          127.3064,
          118.832,
          128.0016,
          127.0128,
          117.5304,
          127.6424,
          124.6168,
          119.1384,
          125.12,
          122.2872,
          123.9416,
          124.9136,
          124.4568,
          124.0856,
          122.052,
          121.9264,
          122.9872,
          122.372,
          120.7424
         ]
        },
        {
         "line": {
          "color": "darkviolet",
          "width": 3
         },
         "marker": {
          "line": {
           "color": "crimson",
           "width": 2
          },
          "size": 4,
          "symbol": "triangle-up"
         },
         "mode": "lines+markers",
         "name": "dfn2AvxFusProb_16mpi_16omp",
         "type": "scatter",
         "x": [
          565248000,
          589824000,
          540672000,
          516096000,
          638976000,
          614400000,
          663552000,
          688128000,
          737280000,
          712704000,
          761856000,
          786432000,
          811008000,
          835584000,
          860160000,
          884736000,
          909312000,
          933888000,
          983040000,
          958464000,
          1032192000,
          1007616000,
          1056768000,
          1081344000,
          1105920000,
          1130496000,
          1155072000,
          1179648000,
          1204224000,
          1228800000,
          1253376000,
          1277952000,
          1302528000,
          1327104000,
          1351680000,
          1376256000,
          1400832000,
          1425408000,
          1449984000,
          1474560000,
          1499136000,
          1523712000,
          1548288000,
          1572864000,
          1597440000,
          1622016000,
          1671168000,
          1646592000,
          1695744000,
          1720320000,
          1744896000,
          1769472000,
          1794048000,
          1818624000,
          1843200000,
          1867776000,
          1892352000,
          1916928000,
          1941504000,
          1966080000,
          1990656000,
          2015232000,
          2039808000,
          2064384000,
          2088960000,
          2113536000,
          2138112000,
          2162688000,
          2187264000,
          2211840000,
          2236416000,
          2260992000,
          2285568000,
          2310144000,
          2334720000,
          2359296000,
          2383872000,
          2408448000,
          2433024000,
          2457600000,
          2482176000,
          2506752000,
          2531328000,
          2555904000,
          2580480000,
          2605056000,
          2629632000,
          2654208000,
          2678784000,
          2703360000,
          2727936000,
          2752512000,
          2777088000,
          2801664000,
          2826240000,
          2850816000,
          2875392000,
          2899968000,
          2924544000,
          2949120000,
          2998272000,
          2973696000,
          3022848000,
          3047424000,
          3072000000,
          3096576000,
          3121152000,
          3145728000,
          3170304000,
          3219456000,
          3244032000,
          3194880000,
          3268608000,
          3317760000,
          3293184000,
          3342336000,
          3366912000,
          3416064000,
          3440640000,
          3391488000,
          3465216000,
          3489792000,
          3514368000,
          3538944000,
          3563520000,
          3612672000,
          3637248000,
          3588096000,
          3661824000,
          3710976000,
          3735552000,
          3760128000,
          3784704000,
          3809280000,
          3833856000,
          3883008000,
          3858432000,
          3907584000,
          3932160000
         ],
         "y": [
          199.7248,
          208.516,
          195.22,
          185.1672,
          213.7808,
          208.9208,
          223.988,
          234.5792,
          220.9848,
          206.5832,
          228.8768,
          228.2344,
          221.14,
          221.8584,
          216.9584,
          245.3552,
          234.7048,
          200.7936,
          234.1456,
          197.5664,
          230.1776,
          172.192,
          218.2552,
          227.528,
          220.4168,
          216.4776,
          215.668,
          213.3728,
          204.5576,
          202.7856,
          202.9656,
          193.12,
          187.28,
          190.1432,
          192.336,
          184.3776,
          182.276,
          180.7624,
          180.8272,
          179.2456,
          172.1616,
          169.172,
          171.348,
          172.744,
          166.5648,
          164.7808,
          167.2624,
          166.6344,
          163.5704,
          158.4864,
          160.5056,
          158.82,
          142.02,
          157.5376,
          156.508,
          154.996,
          151.4384,
          148.9368,
          153.1768,
          156.0128,
          148.0744,
          148.2472,
          148.696,
          147.5424,
          142.5712,
          154.3704,
          144.3232,
          143.4208,
          139.5008,
          144.5728,
          142.536,
          142.716,
          138.5328,
          141.0304,
          149.4096,
          138.9856,
          135.192,
          141.3456,
          140.8776,
          138.9144,
          135.3928,
          136.752,
          136.8336,
          133.9264,
          133.6904,
          132.024,
          133.3104,
          134.5168,
          124.3304,
          132.888,
          132.6112,
          132.0328,
          127.6048,
          129.7704,
          132.3336,
          135.9536,
          125.364,
          128.0168,
          129.4464,
          127.868,
          128.5536,
          122.1128,
          127.8576,
          127.5104,
          125.0312,
          125.384,
          129.388,
          129.8376,
          124.3984,
          132.9296,
          123.4896,
          125.4104,
          123.2992,
          122.6328,
          127.6664,
          118.4248,
          122.2312,
          122.6072,
          125.748,
          125.8408,
          120.6704,
          123.2048,
          116.9064,
          129.4352,
          123.66,
          116.384,
          119.7704,
          120.516,
          120.148,
          116.5696,
          123.2584,
          117.64,
          120.1792,
          123.164,
          120.0856,
          117.9456,
          125.7832,
          120.3656,
          122.3968
         ]
        }
       ],
       "layout": {
        "annotations": [
         {
          "align": "left",
          "arrowcolor": "#636363",
          "arrowhead": 1,
          "arrowsize": 1,
          "arrowwidth": 2,
          "ax": -20,
          "ay": -30,
          "font": {
           "color": "purple",
           "family": "Sans Serif",
           "size": 12
          },
          "showarrow": false,
          "text": "LLC Size Per Node",
          "x": "512e6",
          "y": 130,
          "yanchor": "bottom"
         }
        ],
        "legend": {
         "bordercolor": "black",
         "borderwidth": 1
        },
        "shapes": [
         {
          "line": {
           "color": "green",
           "dash": "dash",
           "width": 3
          },
          "type": "line",
          "x0": 512000000,
          "x1": 512000000,
          "xref": "x",
          "y0": 0,
          "y1": 1,
          "yref": "y domain"
         }
        ],
        "template": {
         "data": {
          "bar": [
           {
            "error_x": {
             "color": "#2a3f5f"
            },
            "error_y": {
             "color": "#2a3f5f"
            },
            "marker": {
             "line": {
              "color": "#E5ECF6",
              "width": 0.5
             },
             "pattern": {
              "fillmode": "overlay",
              "size": 10,
              "solidity": 0.2
             }
            },
            "type": "bar"
           }
          ],
          "barpolar": [
           {
            "marker": {
             "line": {
              "color": "#E5ECF6",
              "width": 0.5
             },
             "pattern": {
              "fillmode": "overlay",
              "size": 10,
              "solidity": 0.2
             }
            },
            "type": "barpolar"
           }
          ],
          "carpet": [
           {
            "aaxis": {
             "endlinecolor": "#2a3f5f",
             "gridcolor": "white",
             "linecolor": "white",
             "minorgridcolor": "white",
             "startlinecolor": "#2a3f5f"
            },
            "baxis": {
             "endlinecolor": "#2a3f5f",
             "gridcolor": "white",
             "linecolor": "white",
             "minorgridcolor": "white",
             "startlinecolor": "#2a3f5f"
            },
            "type": "carpet"
           }
          ],
          "choropleth": [
           {
            "colorbar": {
             "outlinewidth": 0,
             "ticks": ""
            },
            "type": "choropleth"
           }
          ],
          "contour": [
           {
            "colorbar": {
             "outlinewidth": 0,
             "ticks": ""
            },
            "colorscale": [
             [
              0,
              "#0d0887"
             ],
             [
              0.1111111111111111,
              "#46039f"
             ],
             [
              0.2222222222222222,
              "#7201a8"
             ],
             [
              0.3333333333333333,
              "#9c179e"
             ],
             [
              0.4444444444444444,
              "#bd3786"
             ],
             [
              0.5555555555555556,
              "#d8576b"
             ],
             [
              0.6666666666666666,
              "#ed7953"
             ],
             [
              0.7777777777777778,
              "#fb9f3a"
             ],
             [
              0.8888888888888888,
              "#fdca26"
             ],
             [
              1,
              "#f0f921"
             ]
            ],
            "type": "contour"
           }
          ],
          "contourcarpet": [
           {
            "colorbar": {
             "outlinewidth": 0,
             "ticks": ""
            },
            "type": "contourcarpet"
           }
          ],
          "heatmap": [
           {
            "colorbar": {
             "outlinewidth": 0,
             "ticks": ""
            },
            "colorscale": [
             [
              0,
              "#0d0887"
             ],
             [
              0.1111111111111111,
              "#46039f"
             ],
             [
              0.2222222222222222,
              "#7201a8"
             ],
             [
              0.3333333333333333,
              "#9c179e"
             ],
             [
              0.4444444444444444,
              "#bd3786"
             ],
             [
              0.5555555555555556,
              "#d8576b"
             ],
             [
              0.6666666666666666,
              "#ed7953"
             ],
             [
              0.7777777777777778,
              "#fb9f3a"
             ],
             [
              0.8888888888888888,
              "#fdca26"
             ],
             [
              1,
              "#f0f921"
             ]
            ],
            "type": "heatmap"
           }
          ],
          "heatmapgl": [
           {
            "colorbar": {
             "outlinewidth": 0,
             "ticks": ""
            },
            "colorscale": [
             [
              0,
              "#0d0887"
             ],
             [
              0.1111111111111111,
              "#46039f"
             ],
             [
              0.2222222222222222,
              "#7201a8"
             ],
             [
              0.3333333333333333,
              "#9c179e"
             ],
             [
              0.4444444444444444,
              "#bd3786"
             ],
             [
              0.5555555555555556,
              "#d8576b"
             ],
             [
              0.6666666666666666,
              "#ed7953"
             ],
             [
              0.7777777777777778,
              "#fb9f3a"
             ],
             [
              0.8888888888888888,
              "#fdca26"
             ],
             [
              1,
              "#f0f921"
             ]
            ],
            "type": "heatmapgl"
           }
          ],
          "histogram": [
           {
            "marker": {
             "pattern": {
              "fillmode": "overlay",
              "size": 10,
              "solidity": 0.2
             }
            },
            "type": "histogram"
           }
          ],
          "histogram2d": [
           {
            "colorbar": {
             "outlinewidth": 0,
             "ticks": ""
            },
            "colorscale": [
             [
              0,
              "#0d0887"
             ],
             [
              0.1111111111111111,
              "#46039f"
             ],
             [
              0.2222222222222222,
              "#7201a8"
             ],
             [
              0.3333333333333333,
              "#9c179e"
             ],
             [
              0.4444444444444444,
              "#bd3786"
             ],
             [
              0.5555555555555556,
              "#d8576b"
             ],
             [
              0.6666666666666666,
              "#ed7953"
             ],
             [
              0.7777777777777778,
              "#fb9f3a"
             ],
             [
              0.8888888888888888,
              "#fdca26"
             ],
             [
              1,
              "#f0f921"
             ]
            ],
            "type": "histogram2d"
           }
          ],
          "histogram2dcontour": [
           {
            "colorbar": {
             "outlinewidth": 0,
             "ticks": ""
            },
            "colorscale": [
             [
              0,
              "#0d0887"
             ],
             [
              0.1111111111111111,
              "#46039f"
             ],
             [
              0.2222222222222222,
              "#7201a8"
             ],
             [
              0.3333333333333333,
              "#9c179e"
             ],
             [
              0.4444444444444444,
              "#bd3786"
             ],
             [
              0.5555555555555556,
              "#d8576b"
             ],
             [
              0.6666666666666666,
              "#ed7953"
             ],
             [
              0.7777777777777778,
              "#fb9f3a"
             ],
             [
              0.8888888888888888,
              "#fdca26"
             ],
             [
              1,
              "#f0f921"
             ]
            ],
            "type": "histogram2dcontour"
           }
          ],
          "mesh3d": [
           {
            "colorbar": {
             "outlinewidth": 0,
             "ticks": ""
            },
            "type": "mesh3d"
           }
          ],
          "parcoords": [
           {
            "line": {
             "colorbar": {
              "outlinewidth": 0,
              "ticks": ""
             }
            },
            "type": "parcoords"
           }
          ],
          "pie": [
           {
            "automargin": true,
            "type": "pie"
           }
          ],
          "scatter": [
           {
            "fillpattern": {
             "fillmode": "overlay",
             "size": 10,
             "solidity": 0.2
            },
            "type": "scatter"
           }
          ],
          "scatter3d": [
           {
            "line": {
             "colorbar": {
              "outlinewidth": 0,
              "ticks": ""
             }
            },
            "marker": {
             "colorbar": {
              "outlinewidth": 0,
              "ticks": ""
             }
            },
            "type": "scatter3d"
           }
          ],
          "scattercarpet": [
           {
            "marker": {
             "colorbar": {
              "outlinewidth": 0,
              "ticks": ""
             }
            },
            "type": "scattercarpet"
           }
          ],
          "scattergeo": [
           {
            "marker": {
             "colorbar": {
              "outlinewidth": 0,
              "ticks": ""
             }
            },
            "type": "scattergeo"
           }
          ],
          "scattergl": [
           {
            "marker": {
             "colorbar": {
              "outlinewidth": 0,
              "ticks": ""
             }
            },
            "type": "scattergl"
           }
          ],
          "scattermapbox": [
           {
            "marker": {
             "colorbar": {
              "outlinewidth": 0,
              "ticks": ""
             }
            },
            "type": "scattermapbox"
           }
          ],
          "scatterpolar": [
           {
            "marker": {
             "colorbar": {
              "outlinewidth": 0,
              "ticks": ""
             }
            },
            "type": "scatterpolar"
           }
          ],
          "scatterpolargl": [
           {
            "marker": {
             "colorbar": {
              "outlinewidth": 0,
              "ticks": ""
             }
            },
            "type": "scatterpolargl"
           }
          ],
          "scatterternary": [
           {
            "marker": {
             "colorbar": {
              "outlinewidth": 0,
              "ticks": ""
             }
            },
            "type": "scatterternary"
           }
          ],
          "surface": [
           {
            "colorbar": {
             "outlinewidth": 0,
             "ticks": ""
            },
            "colorscale": [
             [
              0,
              "#0d0887"
             ],
             [
              0.1111111111111111,
              "#46039f"
             ],
             [
              0.2222222222222222,
              "#7201a8"
             ],
             [
              0.3333333333333333,
              "#9c179e"
             ],
             [
              0.4444444444444444,
              "#bd3786"
             ],
             [
              0.5555555555555556,
              "#d8576b"
             ],
             [
              0.6666666666666666,
              "#ed7953"
             ],
             [
              0.7777777777777778,
              "#fb9f3a"
             ],
             [
              0.8888888888888888,
              "#fdca26"
             ],
             [
              1,
              "#f0f921"
             ]
            ],
            "type": "surface"
           }
          ],
          "table": [
           {
            "cells": {
             "fill": {
              "color": "#EBF0F8"
             },
             "line": {
              "color": "white"
             }
            },
            "header": {
             "fill": {
              "color": "#C8D4E3"
             },
             "line": {
              "color": "white"
             }
            },
            "type": "table"
           }
          ]
         },
         "layout": {
          "annotationdefaults": {
           "arrowcolor": "#2a3f5f",
           "arrowhead": 0,
           "arrowwidth": 1
          },
          "autotypenumbers": "strict",
          "coloraxis": {
           "colorbar": {
            "outlinewidth": 0,
            "ticks": ""
           }
          },
          "colorscale": {
           "diverging": [
            [
             0,
             "#8e0152"
            ],
            [
             0.1,
             "#c51b7d"
            ],
            [
             0.2,
             "#de77ae"
            ],
            [
             0.3,
             "#f1b6da"
            ],
            [
             0.4,
             "#fde0ef"
            ],
            [
             0.5,
             "#f7f7f7"
            ],
            [
             0.6,
             "#e6f5d0"
            ],
            [
             0.7,
             "#b8e186"
            ],
            [
             0.8,
             "#7fbc41"
            ],
            [
             0.9,
             "#4d9221"
            ],
            [
             1,
             "#276419"
            ]
           ],
           "sequential": [
            [
             0,
             "#0d0887"
            ],
            [
             0.1111111111111111,
             "#46039f"
            ],
            [
             0.2222222222222222,
             "#7201a8"
            ],
            [
             0.3333333333333333,
             "#9c179e"
            ],
            [
             0.4444444444444444,
             "#bd3786"
            ],
            [
             0.5555555555555556,
             "#d8576b"
            ],
            [
             0.6666666666666666,
             "#ed7953"
            ],
            [
             0.7777777777777778,
             "#fb9f3a"
            ],
            [
             0.8888888888888888,
             "#fdca26"
            ],
            [
             1,
             "#f0f921"
            ]
           ],
           "sequentialminus": [
            [
             0,
             "#0d0887"
            ],
            [
             0.1111111111111111,
             "#46039f"
            ],
            [
             0.2222222222222222,
             "#7201a8"
            ],
            [
             0.3333333333333333,
             "#9c179e"
            ],
            [
             0.4444444444444444,
             "#bd3786"
            ],
            [
             0.5555555555555556,
             "#d8576b"
            ],
            [
             0.6666666666666666,
             "#ed7953"
            ],
            [
             0.7777777777777778,
             "#fb9f3a"
            ],
            [
             0.8888888888888888,
             "#fdca26"
            ],
            [
             1,
             "#f0f921"
            ]
           ]
          },
          "colorway": [
           "#636efa",
           "#EF553B",
           "#00cc96",
           "#ab63fa",
           "#FFA15A",
           "#19d3f3",
           "#FF6692",
           "#B6E880",
           "#FF97FF",
           "#FECB52"
          ],
          "font": {
           "color": "#2a3f5f"
          },
          "geo": {
           "bgcolor": "white",
           "lakecolor": "white",
           "landcolor": "#E5ECF6",
           "showlakes": true,
           "showland": true,
           "subunitcolor": "white"
          },
          "hoverlabel": {
           "align": "left"
          },
          "hovermode": "closest",
          "mapbox": {
           "style": "light"
          },
          "paper_bgcolor": "white",
          "plot_bgcolor": "#E5ECF6",
          "polar": {
           "angularaxis": {
            "gridcolor": "white",
            "linecolor": "white",
            "ticks": ""
           },
           "bgcolor": "#E5ECF6",
           "radialaxis": {
            "gridcolor": "white",
            "linecolor": "white",
            "ticks": ""
           }
          },
          "scene": {
           "xaxis": {
            "backgroundcolor": "#E5ECF6",
            "gridcolor": "white",
            "gridwidth": 2,
            "linecolor": "white",
            "showbackground": true,
            "ticks": "",
            "zerolinecolor": "white"
           },
           "yaxis": {
            "backgroundcolor": "#E5ECF6",
            "gridcolor": "white",
            "gridwidth": 2,
            "linecolor": "white",
            "showbackground": true,
            "ticks": "",
            "zerolinecolor": "white"
           },
           "zaxis": {
            "backgroundcolor": "#E5ECF6",
            "gridcolor": "white",
            "gridwidth": 2,
            "linecolor": "white",
            "showbackground": true,
            "ticks": "",
            "zerolinecolor": "white"
           }
          },
          "shapedefaults": {
           "line": {
            "color": "#2a3f5f"
           }
          },
          "ternary": {
           "aaxis": {
            "gridcolor": "white",
            "linecolor": "white",
            "ticks": ""
           },
           "baxis": {
            "gridcolor": "white",
            "linecolor": "white",
            "ticks": ""
           },
           "bgcolor": "#E5ECF6",
           "caxis": {
            "gridcolor": "white",
            "linecolor": "white",
            "ticks": ""
           }
          },
          "title": {
           "x": 0.05
          },
          "xaxis": {
           "automargin": true,
           "gridcolor": "white",
           "linecolor": "white",
           "ticks": "",
           "title": {
            "standoff": 15
           },
           "zerolinecolor": "white",
           "zerolinewidth": 2
          },
          "yaxis": {
           "automargin": true,
           "gridcolor": "white",
           "linecolor": "white",
           "ticks": "",
           "title": {
            "standoff": 15
           },
           "zerolinecolor": "white",
           "zerolinewidth": 2
          }
         }
        },
        "title": {
         "text": "\"Fused-AVX (2-Nodes): probempi vs nonprobempi\" GFlops Measurement"
        },
        "xaxis": {
         "ticks": "outside",
         "title": {
          "text": "Dirc_Data_Mov"
         }
        },
        "yaxis": {
         "ticks": "outside",
         "title": {
          "text": "GFLOPs/Node"
         }
        }
       }
      },
      "text/html": [
       "<div>                            <div id=\"061c8e63-d721-4ebd-a60e-d8a77a232c68\" class=\"plotly-graph-div\" style=\"height:525px; width:100%;\"></div>            <script type=\"text/javascript\">                require([\"plotly\"], function(Plotly) {                    window.PLOTLYENV=window.PLOTLYENV || {};                                    if (document.getElementById(\"061c8e63-d721-4ebd-a60e-d8a77a232c68\")) {                    Plotly.newPlot(                        \"061c8e63-d721-4ebd-a60e-d8a77a232c68\",                        [{\"line\":{\"color\":\"magenta\",\"width\":3},\"marker\":{\"line\":{\"color\":\"yellow\",\"width\":1},\"size\":9,\"symbol\":\"hexagon\"},\"mode\":\"lines+markers\",\"name\":\"AvxFusNonProb_256mpi_1omp\",\"x\":[1572864000.0,1966080000.0,2359296000.0,2752512000.0,3145728000.0,3538944000.0,3932160000.0],\"y\":[253.536,225.79072,202.1696,192.1152,182.59328,166.65088,169.76512],\"type\":\"scatter\"},{\"line\":{\"color\":\"olive\",\"width\":3},\"marker\":{\"line\":{\"color\":\"yellow\",\"width\":1},\"size\":9,\"symbol\":\"hexagon\"},\"mode\":\"lines+markers\",\"name\":\"AvxFusProb_256mpi_1omp\",\"x\":[1572864000.0,2359296000.0,2752512000.0,3145728000.0,3538944000.0,3932160000.0],\"y\":[261.83168,204.6784,192.20608,174.96448,173.2608,168.72448],\"type\":\"scatter\"},{\"line\":{\"color\":\"sandybrown\",\"width\":3},\"marker\":{\"line\":{\"color\":\"MediumPurple\",\"width\":2},\"size\":5,\"symbol\":\"diamond\"},\"mode\":\"lines+markers\",\"name\":\"AvxFusNonProb_128mpi_2omp\",\"x\":[786432000.0,983040000.0,1179648000.0,1376256000.0,1769472000.0,1572864000.0,1966080000.0,2162688000.0,2359296000.0,2555904000.0,2752512000.0,2949120000.0,3145728000.0,3342336000.0,3538944000.0,3735552000.0,3932160000.0],\"y\":[370.73152,368.31744,345.96096,326.53952,267.8976,305.64096,253.36768,239.17376,223.824,217.05472,200.0768,199.9392,194.20736,188.5568,184.46016,172.1568,177.08608],\"type\":\"scatter\"},{\"line\":{\"color\":\"royalblue\",\"width\":3},\"marker\":{\"line\":{\"color\":\"MediumPurple\",\"width\":2},\"size\":5,\"symbol\":\"diamond\"},\"mode\":\"lines+markers\",\"name\":\"AvxFusProb_128mpi_2omp\",\"x\":[786432000.0,983040000.0,1179648000.0,1376256000.0,1572864000.0,1769472000.0,1966080000.0,2162688000.0,2359296000.0,2555904000.0,2752512000.0,2949120000.0,3145728000.0,3342336000.0,3538944000.0,3735552000.0,3932160000.0],\"y\":[347.60128,382.12352,373.7024,334.98688,310.05952,279.67552,255.09312,234.17088,229.79136,210.57728,208.37504,194.78912,194.3616,179.456,184.35904,179.11616,177.48032],\"type\":\"scatter\"},{\"line\":{\"color\":\"cyan\",\"width\":3},\"marker\":{\"line\":{\"color\":\"Purple\",\"width\":2},\"size\":7,\"symbol\":\"circle\"},\"mode\":\"lines+markers\",\"name\":\"AvxFusNonProb_64mpi_4omp\",\"x\":[589824000.0,688128000.0,786432000.0,884736000.0,983040000.0,1081344000.0,1179648000.0,1277952000.0,1376256000.0,1474560000.0,1572864000.0,1671168000.0,1769472000.0,1867776000.0,1966080000.0,2064384000.0,2162688000.0,2260992000.0,2359296000.0,2457600000.0,2555904000.0,2654208000.0,2752512000.0,2850816000.0,2949120000.0,3047424000.0,3145728000.0,3244032000.0,3342336000.0,3440640000.0,3538944000.0,3637248000.0,3735552000.0,3932160000.0,3833856000.0],\"y\":[328.016,350.6752,352.6464,370.1024,378.144,372.0576,358.6752,351.6416,322.72,335.0016,310.21184,288.13376,280.82368,276.27296,231.98624,245.84544,238.00448,202.5824,227.93824,217.51584,213.70368,208.03648,201.22944,204.93184,186.74656,180.81088,188.44128,177.47488,186.35264,178.82016,181.52768,178.87968,177.60128,166.08736,175.75808],\"type\":\"scatter\"},{\"line\":{\"color\":\"darkblue\",\"width\":3},\"marker\":{\"line\":{\"color\":\"tomato\",\"width\":2},\"size\":7,\"symbol\":\"circle\"},\"mode\":\"lines+markers\",\"name\":\"AvxFusProb_64mpi_4omp\",\"x\":[589824000.0,688128000.0,786432000.0,884736000.0,983040000.0,1081344000.0,1179648000.0,1277952000.0,1376256000.0,1474560000.0,1572864000.0,1671168000.0,1769472000.0,1867776000.0,1966080000.0,2064384000.0,2162688000.0,2260992000.0,2359296000.0,2457600000.0,2555904000.0,2654208000.0,2752512000.0,2850816000.0,2949120000.0,3047424000.0,3145728000.0,3244032000.0,3342336000.0,3440640000.0,3538944000.0,3637248000.0,3735552000.0,3833856000.0,3932160000.0],\"y\":[324.1184,351.8144,380.88,357.6992,384.64,374.6336,388.16,352.8256,346.5504,338.5024,317.99168,291.49088,259.31104,276.19008,257.328,227.81952,242.31552,235.81504,223.1408,215.3792,215.44672,212.26272,200.76352,200.65824,198.38016,195.12288,185.1952,189.56704,188.93856,184.75808,174.44832,176.88224,178.35904,177.04544,162.7712],\"type\":\"scatter\"},{\"line\":{\"color\":\"red\",\"width\":3},\"marker\":{\"line\":{\"color\":\"red\",\"width\":2},\"size\":5,\"symbol\":\"circle\"},\"mode\":\"lines+markers\",\"name\":\"AvxFusNonProb_32mpi_8omp\",\"x\":[540672000.0,589824000.0,638976000.0,688128000.0,737280000.0,835584000.0,786432000.0,884736000.0,933888000.0,983040000.0,1032192000.0,1081344000.0,1179648000.0,1130496000.0,1228800000.0,1277952000.0,1327104000.0,1376256000.0,1425408000.0,1474560000.0,1523712000.0,1572864000.0,1622016000.0,1671168000.0,1720320000.0,1769472000.0,1818624000.0,1867776000.0,1916928000.0,1966080000.0,2015232000.0,2064384000.0,2162688000.0,2113536000.0,2211840000.0,2260992000.0,2310144000.0,2408448000.0,2359296000.0,2457600000.0,2506752000.0,2555904000.0,2605056000.0,2654208000.0,2703360000.0,2752512000.0,2801664000.0,2850816000.0,2899968000.0,2998272000.0,2949120000.0,3047424000.0,3096576000.0,3145728000.0,3194880000.0,3244032000.0,3293184000.0,3342336000.0,3391488000.0,3489792000.0,3440640000.0,3538944000.0,3588096000.0,3637248000.0,3735552000.0,3686400000.0,3784704000.0,3833856000.0,3883008000.0,3932160000.0],\"y\":[312.864,317.4448,322.3296,330.4736,276.9952,269.3952,264.096,271.3264,258.584,363.9904,314.2768,365.6064,358.584,308.4832,342.8176,328.136,321.8432,317.3184,315.4816,301.2496,294.4656,283.8528,278.7024,275.4432,267.9024,259.5968,237.4304,250.2144,246.2256,241.2816,228.2032,231.5552,197.2272,203.72,218.376,215.8592,212.4272,206.8352,204.84,204.96,201.4928,200.856,197.3488,191.408,192.1072,193.5712,185.7984,189.6448,181.768,184.4176,183.3488,181.0784,167.1456,175.0784,176.4128,166.0768,161.744,174.5824,168.4288,168.72,172.3024,169.7712,166.0752,163.5232,168.224,165.8672,163.0016,164.1568,154.71968,163.6512],\"type\":\"scatter\"},{\"line\":{\"color\":\"green\",\"width\":3},\"marker\":{\"line\":{\"color\":\"green\",\"width\":2},\"size\":5,\"symbol\":\"circle\"},\"mode\":\"lines+markers\",\"name\":\"dfn2AvxFusProb_32mpi_8omp\",\"x\":[540672000.0,589824000.0,638976000.0,688128000.0,786432000.0,737280000.0,835584000.0,884736000.0,983040000.0,933888000.0,1032192000.0,1081344000.0,1130496000.0,1179648000.0,1228800000.0,1277952000.0,1327104000.0,1376256000.0,1425408000.0,1474560000.0,1523712000.0,1572864000.0,1622016000.0,1671168000.0,1769472000.0,1818624000.0,1867776000.0,1916928000.0,1966080000.0,2015232000.0,2064384000.0,2113536000.0,2162688000.0,2211840000.0,2260992000.0,2310144000.0,2408448000.0,2457600000.0,2506752000.0,2555904000.0,2605056000.0,2654208000.0,2703360000.0,2752512000.0,2801664000.0,2850816000.0,2899968000.0,2949120000.0,2998272000.0,3047424000.0,3096576000.0,3145728000.0,3194880000.0,3244032000.0,3293184000.0,3342336000.0,3391488000.0,3440640000.0,3538944000.0,3489792000.0,3588096000.0,3637248000.0,3686400000.0,3735552000.0,3784704000.0,3833856000.0,3883008000.0,3932160000.0],\"y\":[311.5408,324.5312,315.96,322.3104,353.4992,347.7936,281.5424,356.2016,354.5456,298.0032,342.4128,354.5856,344.8128,325.0576,303.8944,344.6544,329.4928,313.2704,310.6672,304.496,289.416,283.6944,279.7024,272.6544,259.4752,257.5184,249.6272,247.8768,240.2672,233.9408,234.8544,226.4912,225.288,222.5712,217.5984,213.2416,190.2032,198.7536,185.6336,201.336,199.7024,197.2592,194.3808,193.2304,190.5184,190.1216,187.8496,185.8832,184.2672,184.0736,181.8784,179.5568,180.0944,172.4912,177.2912,175.0176,169.1408,174.7216,174.0768,172.656,163.0352,169.7168,169.8576,169.7648,160.2288,164.9328,164.672,166.1776],\"type\":\"scatter\"},{\"line\":{\"color\":\"blue\",\"width\":3},\"marker\":{\"line\":{\"color\":\"chocolate\",\"width\":2},\"size\":4,\"symbol\":\"triangle-up\"},\"mode\":\"lines+markers\",\"name\":\"AvxFusNonProb_16mpi_16omp\",\"x\":[565248000.0,540672000.0,614400000.0,589824000.0,638976000.0,688128000.0,663552000.0,712704000.0,737280000.0,761856000.0,786432000.0,811008000.0,835584000.0,860160000.0,884736000.0,909312000.0,933888000.0,983040000.0,1007616000.0,958464000.0,1032192000.0,1081344000.0,1056768000.0,1105920000.0,1130496000.0,1155072000.0,1179648000.0,1204224000.0,1228800000.0,1253376000.0,1277952000.0,1302528000.0,1327104000.0,1351680000.0,1376256000.0,1400832000.0,1425408000.0,1449984000.0,1474560000.0,1499136000.0,1523712000.0,1548288000.0,1572864000.0,1597440000.0,1622016000.0,1646592000.0,1671168000.0,1695744000.0,1720320000.0,1744896000.0,1769472000.0,1794048000.0,1818624000.0,1843200000.0,1867776000.0,1892352000.0,1916928000.0,1941504000.0,1966080000.0,1990656000.0,2015232000.0,2039808000.0,2064384000.0,2088960000.0,2113536000.0,2138112000.0,2162688000.0,2187264000.0,2211840000.0,2236416000.0,2260992000.0,2285568000.0,2310144000.0,2334720000.0,2359296000.0,2383872000.0,2408448000.0,2433024000.0,2457600000.0,2482176000.0,2506752000.0,2531328000.0,2555904000.0,2580480000.0,2605056000.0,2629632000.0,2654208000.0,2678784000.0,2703360000.0,2727936000.0,2752512000.0,2777088000.0,2801664000.0,2826240000.0,2850816000.0,2875392000.0,2899968000.0,2949120000.0,2924544000.0,2973696000.0,2998272000.0,3022848000.0,3047424000.0,3072000000.0,3096576000.0,3121152000.0,3145728000.0,3170304000.0,3194880000.0,3219456000.0,3244032000.0,3268608000.0,3293184000.0,3317760000.0,3342336000.0,3366912000.0,3391488000.0,3416064000.0,3440640000.0,3465216000.0,3489792000.0,3514368000.0,3538944000.0,3563520000.0,3588096000.0,3612672000.0,3637248000.0,3661824000.0,3686400000.0,3710976000.0,3735552000.0,3784704000.0,3760128000.0,3809280000.0,3833856000.0,3858432000.0,3883008000.0,3907584000.0,3932160000.0],\"y\":[197.096,192.3648,200.3304,197.3544,209.18,213.3264,199.6736,211.0872,212.1384,217.4288,217.6592,208.9096,233.7616,217.2976,234.5688,202.7832,214.4344,240.1368,233.6592,238.5728,229.9752,228.804,181.6872,221.032,217.6184,215.0632,212.672,203.5816,205.9312,201.8568,201.7712,193.2224,196.0256,194.952,192.2312,185.0176,187.056,183.8656,185.3904,178.0544,181.7936,178.2312,175.9768,169.0696,175.5056,172.8496,172.2096,167.2968,170.9272,167.112,157.4744,162.3568,165.5352,163.5776,164.9256,152.9016,162.5864,162.3112,157.9576,158.432,158.3856,158.2072,155.8568,152.1856,153.7552,155.8584,148.3,153.9064,141.9616,146.1192,151.1432,147.6808,148.76,148.2776,142.0976,147.1816,144.9392,145.508,144.78,140.4704,142.876,139.4656,144.8936,142.0096,134.1248,141.7952,137.3384,142.2112,139.516,136.7752,139.3872,135.06,137.9328,137.4816,133.824,137.492,133.5992,136.0144,137.604,122.8072,134.2808,132.0504,135.032,133.6288,127.9608,133.8472,129.2672,131.5736,130.0448,128.8592,132.1704,127.2544,130.752,131.092,125.4568,127.1064,125.1008,128.5424,128.532,122.6952,127.3064,118.832,128.0016,127.0128,117.5304,127.6424,124.6168,119.1384,125.12,122.2872,123.9416,124.9136,124.4568,124.0856,122.052,121.9264,122.9872,122.372,120.7424],\"type\":\"scatter\"},{\"line\":{\"color\":\"darkviolet\",\"width\":3},\"marker\":{\"line\":{\"color\":\"crimson\",\"width\":2},\"size\":4,\"symbol\":\"triangle-up\"},\"mode\":\"lines+markers\",\"name\":\"dfn2AvxFusProb_16mpi_16omp\",\"x\":[565248000.0,589824000.0,540672000.0,516096000.0,638976000.0,614400000.0,663552000.0,688128000.0,737280000.0,712704000.0,761856000.0,786432000.0,811008000.0,835584000.0,860160000.0,884736000.0,909312000.0,933888000.0,983040000.0,958464000.0,1032192000.0,1007616000.0,1056768000.0,1081344000.0,1105920000.0,1130496000.0,1155072000.0,1179648000.0,1204224000.0,1228800000.0,1253376000.0,1277952000.0,1302528000.0,1327104000.0,1351680000.0,1376256000.0,1400832000.0,1425408000.0,1449984000.0,1474560000.0,1499136000.0,1523712000.0,1548288000.0,1572864000.0,1597440000.0,1622016000.0,1671168000.0,1646592000.0,1695744000.0,1720320000.0,1744896000.0,1769472000.0,1794048000.0,1818624000.0,1843200000.0,1867776000.0,1892352000.0,1916928000.0,1941504000.0,1966080000.0,1990656000.0,2015232000.0,2039808000.0,2064384000.0,2088960000.0,2113536000.0,2138112000.0,2162688000.0,2187264000.0,2211840000.0,2236416000.0,2260992000.0,2285568000.0,2310144000.0,2334720000.0,2359296000.0,2383872000.0,2408448000.0,2433024000.0,2457600000.0,2482176000.0,2506752000.0,2531328000.0,2555904000.0,2580480000.0,2605056000.0,2629632000.0,2654208000.0,2678784000.0,2703360000.0,2727936000.0,2752512000.0,2777088000.0,2801664000.0,2826240000.0,2850816000.0,2875392000.0,2899968000.0,2924544000.0,2949120000.0,2998272000.0,2973696000.0,3022848000.0,3047424000.0,3072000000.0,3096576000.0,3121152000.0,3145728000.0,3170304000.0,3219456000.0,3244032000.0,3194880000.0,3268608000.0,3317760000.0,3293184000.0,3342336000.0,3366912000.0,3416064000.0,3440640000.0,3391488000.0,3465216000.0,3489792000.0,3514368000.0,3538944000.0,3563520000.0,3612672000.0,3637248000.0,3588096000.0,3661824000.0,3710976000.0,3735552000.0,3760128000.0,3784704000.0,3809280000.0,3833856000.0,3883008000.0,3858432000.0,3907584000.0,3932160000.0],\"y\":[199.7248,208.516,195.22,185.1672,213.7808,208.9208,223.988,234.5792,220.9848,206.5832,228.8768,228.2344,221.14,221.8584,216.9584,245.3552,234.7048,200.7936,234.1456,197.5664,230.1776,172.192,218.2552,227.528,220.4168,216.4776,215.668,213.3728,204.5576,202.7856,202.9656,193.12,187.28,190.1432,192.336,184.3776,182.276,180.7624,180.8272,179.2456,172.1616,169.172,171.348,172.744,166.5648,164.7808,167.2624,166.6344,163.5704,158.4864,160.5056,158.82,142.02,157.5376,156.508,154.996,151.4384,148.9368,153.1768,156.0128,148.0744,148.2472,148.696,147.5424,142.5712,154.3704,144.3232,143.4208,139.5008,144.5728,142.536,142.716,138.5328,141.0304,149.4096,138.9856,135.192,141.3456,140.8776,138.9144,135.3928,136.752,136.8336,133.9264,133.6904,132.024,133.3104,134.5168,124.3304,132.888,132.6112,132.0328,127.6048,129.7704,132.3336,135.9536,125.364,128.0168,129.4464,127.868,128.5536,122.1128,127.8576,127.5104,125.0312,125.384,129.388,129.8376,124.3984,132.9296,123.4896,125.4104,123.2992,122.6328,127.6664,118.4248,122.2312,122.6072,125.748,125.8408,120.6704,123.2048,116.9064,129.4352,123.66,116.384,119.7704,120.516,120.148,116.5696,123.2584,117.64,120.1792,123.164,120.0856,117.9456,125.7832,120.3656,122.3968],\"type\":\"scatter\"}],                        {\"template\":{\"data\":{\"histogram2dcontour\":[{\"type\":\"histogram2dcontour\",\"colorbar\":{\"outlinewidth\":0,\"ticks\":\"\"},\"colorscale\":[[0.0,\"#0d0887\"],[0.1111111111111111,\"#46039f\"],[0.2222222222222222,\"#7201a8\"],[0.3333333333333333,\"#9c179e\"],[0.4444444444444444,\"#bd3786\"],[0.5555555555555556,\"#d8576b\"],[0.6666666666666666,\"#ed7953\"],[0.7777777777777778,\"#fb9f3a\"],[0.8888888888888888,\"#fdca26\"],[1.0,\"#f0f921\"]]}],\"choropleth\":[{\"type\":\"choropleth\",\"colorbar\":{\"outlinewidth\":0,\"ticks\":\"\"}}],\"histogram2d\":[{\"type\":\"histogram2d\",\"colorbar\":{\"outlinewidth\":0,\"ticks\":\"\"},\"colorscale\":[[0.0,\"#0d0887\"],[0.1111111111111111,\"#46039f\"],[0.2222222222222222,\"#7201a8\"],[0.3333333333333333,\"#9c179e\"],[0.4444444444444444,\"#bd3786\"],[0.5555555555555556,\"#d8576b\"],[0.6666666666666666,\"#ed7953\"],[0.7777777777777778,\"#fb9f3a\"],[0.8888888888888888,\"#fdca26\"],[1.0,\"#f0f921\"]]}],\"heatmap\":[{\"type\":\"heatmap\",\"colorbar\":{\"outlinewidth\":0,\"ticks\":\"\"},\"colorscale\":[[0.0,\"#0d0887\"],[0.1111111111111111,\"#46039f\"],[0.2222222222222222,\"#7201a8\"],[0.3333333333333333,\"#9c179e\"],[0.4444444444444444,\"#bd3786\"],[0.5555555555555556,\"#d8576b\"],[0.6666666666666666,\"#ed7953\"],[0.7777777777777778,\"#fb9f3a\"],[0.8888888888888888,\"#fdca26\"],[1.0,\"#f0f921\"]]}],\"heatmapgl\":[{\"type\":\"heatmapgl\",\"colorbar\":{\"outlinewidth\":0,\"ticks\":\"\"},\"colorscale\":[[0.0,\"#0d0887\"],[0.1111111111111111,\"#46039f\"],[0.2222222222222222,\"#7201a8\"],[0.3333333333333333,\"#9c179e\"],[0.4444444444444444,\"#bd3786\"],[0.5555555555555556,\"#d8576b\"],[0.6666666666666666,\"#ed7953\"],[0.7777777777777778,\"#fb9f3a\"],[0.8888888888888888,\"#fdca26\"],[1.0,\"#f0f921\"]]}],\"contourcarpet\":[{\"type\":\"contourcarpet\",\"colorbar\":{\"outlinewidth\":0,\"ticks\":\"\"}}],\"contour\":[{\"type\":\"contour\",\"colorbar\":{\"outlinewidth\":0,\"ticks\":\"\"},\"colorscale\":[[0.0,\"#0d0887\"],[0.1111111111111111,\"#46039f\"],[0.2222222222222222,\"#7201a8\"],[0.3333333333333333,\"#9c179e\"],[0.4444444444444444,\"#bd3786\"],[0.5555555555555556,\"#d8576b\"],[0.6666666666666666,\"#ed7953\"],[0.7777777777777778,\"#fb9f3a\"],[0.8888888888888888,\"#fdca26\"],[1.0,\"#f0f921\"]]}],\"surface\":[{\"type\":\"surface\",\"colorbar\":{\"outlinewidth\":0,\"ticks\":\"\"},\"colorscale\":[[0.0,\"#0d0887\"],[0.1111111111111111,\"#46039f\"],[0.2222222222222222,\"#7201a8\"],[0.3333333333333333,\"#9c179e\"],[0.4444444444444444,\"#bd3786\"],[0.5555555555555556,\"#d8576b\"],[0.6666666666666666,\"#ed7953\"],[0.7777777777777778,\"#fb9f3a\"],[0.8888888888888888,\"#fdca26\"],[1.0,\"#f0f921\"]]}],\"mesh3d\":[{\"type\":\"mesh3d\",\"colorbar\":{\"outlinewidth\":0,\"ticks\":\"\"}}],\"scatter\":[{\"fillpattern\":{\"fillmode\":\"overlay\",\"size\":10,\"solidity\":0.2},\"type\":\"scatter\"}],\"parcoords\":[{\"type\":\"parcoords\",\"line\":{\"colorbar\":{\"outlinewidth\":0,\"ticks\":\"\"}}}],\"scatterpolargl\":[{\"type\":\"scatterpolargl\",\"marker\":{\"colorbar\":{\"outlinewidth\":0,\"ticks\":\"\"}}}],\"bar\":[{\"error_x\":{\"color\":\"#2a3f5f\"},\"error_y\":{\"color\":\"#2a3f5f\"},\"marker\":{\"line\":{\"color\":\"#E5ECF6\",\"width\":0.5},\"pattern\":{\"fillmode\":\"overlay\",\"size\":10,\"solidity\":0.2}},\"type\":\"bar\"}],\"scattergeo\":[{\"type\":\"scattergeo\",\"marker\":{\"colorbar\":{\"outlinewidth\":0,\"ticks\":\"\"}}}],\"scatterpolar\":[{\"type\":\"scatterpolar\",\"marker\":{\"colorbar\":{\"outlinewidth\":0,\"ticks\":\"\"}}}],\"histogram\":[{\"marker\":{\"pattern\":{\"fillmode\":\"overlay\",\"size\":10,\"solidity\":0.2}},\"type\":\"histogram\"}],\"scattergl\":[{\"type\":\"scattergl\",\"marker\":{\"colorbar\":{\"outlinewidth\":0,\"ticks\":\"\"}}}],\"scatter3d\":[{\"type\":\"scatter3d\",\"line\":{\"colorbar\":{\"outlinewidth\":0,\"ticks\":\"\"}},\"marker\":{\"colorbar\":{\"outlinewidth\":0,\"ticks\":\"\"}}}],\"scattermapbox\":[{\"type\":\"scattermapbox\",\"marker\":{\"colorbar\":{\"outlinewidth\":0,\"ticks\":\"\"}}}],\"scatterternary\":[{\"type\":\"scatterternary\",\"marker\":{\"colorbar\":{\"outlinewidth\":0,\"ticks\":\"\"}}}],\"scattercarpet\":[{\"type\":\"scattercarpet\",\"marker\":{\"colorbar\":{\"outlinewidth\":0,\"ticks\":\"\"}}}],\"carpet\":[{\"aaxis\":{\"endlinecolor\":\"#2a3f5f\",\"gridcolor\":\"white\",\"linecolor\":\"white\",\"minorgridcolor\":\"white\",\"startlinecolor\":\"#2a3f5f\"},\"baxis\":{\"endlinecolor\":\"#2a3f5f\",\"gridcolor\":\"white\",\"linecolor\":\"white\",\"minorgridcolor\":\"white\",\"startlinecolor\":\"#2a3f5f\"},\"type\":\"carpet\"}],\"table\":[{\"cells\":{\"fill\":{\"color\":\"#EBF0F8\"},\"line\":{\"color\":\"white\"}},\"header\":{\"fill\":{\"color\":\"#C8D4E3\"},\"line\":{\"color\":\"white\"}},\"type\":\"table\"}],\"barpolar\":[{\"marker\":{\"line\":{\"color\":\"#E5ECF6\",\"width\":0.5},\"pattern\":{\"fillmode\":\"overlay\",\"size\":10,\"solidity\":0.2}},\"type\":\"barpolar\"}],\"pie\":[{\"automargin\":true,\"type\":\"pie\"}]},\"layout\":{\"autotypenumbers\":\"strict\",\"colorway\":[\"#636efa\",\"#EF553B\",\"#00cc96\",\"#ab63fa\",\"#FFA15A\",\"#19d3f3\",\"#FF6692\",\"#B6E880\",\"#FF97FF\",\"#FECB52\"],\"font\":{\"color\":\"#2a3f5f\"},\"hovermode\":\"closest\",\"hoverlabel\":{\"align\":\"left\"},\"paper_bgcolor\":\"white\",\"plot_bgcolor\":\"#E5ECF6\",\"polar\":{\"bgcolor\":\"#E5ECF6\",\"angularaxis\":{\"gridcolor\":\"white\",\"linecolor\":\"white\",\"ticks\":\"\"},\"radialaxis\":{\"gridcolor\":\"white\",\"linecolor\":\"white\",\"ticks\":\"\"}},\"ternary\":{\"bgcolor\":\"#E5ECF6\",\"aaxis\":{\"gridcolor\":\"white\",\"linecolor\":\"white\",\"ticks\":\"\"},\"baxis\":{\"gridcolor\":\"white\",\"linecolor\":\"white\",\"ticks\":\"\"},\"caxis\":{\"gridcolor\":\"white\",\"linecolor\":\"white\",\"ticks\":\"\"}},\"coloraxis\":{\"colorbar\":{\"outlinewidth\":0,\"ticks\":\"\"}},\"colorscale\":{\"sequential\":[[0.0,\"#0d0887\"],[0.1111111111111111,\"#46039f\"],[0.2222222222222222,\"#7201a8\"],[0.3333333333333333,\"#9c179e\"],[0.4444444444444444,\"#bd3786\"],[0.5555555555555556,\"#d8576b\"],[0.6666666666666666,\"#ed7953\"],[0.7777777777777778,\"#fb9f3a\"],[0.8888888888888888,\"#fdca26\"],[1.0,\"#f0f921\"]],\"sequentialminus\":[[0.0,\"#0d0887\"],[0.1111111111111111,\"#46039f\"],[0.2222222222222222,\"#7201a8\"],[0.3333333333333333,\"#9c179e\"],[0.4444444444444444,\"#bd3786\"],[0.5555555555555556,\"#d8576b\"],[0.6666666666666666,\"#ed7953\"],[0.7777777777777778,\"#fb9f3a\"],[0.8888888888888888,\"#fdca26\"],[1.0,\"#f0f921\"]],\"diverging\":[[0,\"#8e0152\"],[0.1,\"#c51b7d\"],[0.2,\"#de77ae\"],[0.3,\"#f1b6da\"],[0.4,\"#fde0ef\"],[0.5,\"#f7f7f7\"],[0.6,\"#e6f5d0\"],[0.7,\"#b8e186\"],[0.8,\"#7fbc41\"],[0.9,\"#4d9221\"],[1,\"#276419\"]]},\"xaxis\":{\"gridcolor\":\"white\",\"linecolor\":\"white\",\"ticks\":\"\",\"title\":{\"standoff\":15},\"zerolinecolor\":\"white\",\"automargin\":true,\"zerolinewidth\":2},\"yaxis\":{\"gridcolor\":\"white\",\"linecolor\":\"white\",\"ticks\":\"\",\"title\":{\"standoff\":15},\"zerolinecolor\":\"white\",\"automargin\":true,\"zerolinewidth\":2},\"scene\":{\"xaxis\":{\"backgroundcolor\":\"#E5ECF6\",\"gridcolor\":\"white\",\"linecolor\":\"white\",\"showbackground\":true,\"ticks\":\"\",\"zerolinecolor\":\"white\",\"gridwidth\":2},\"yaxis\":{\"backgroundcolor\":\"#E5ECF6\",\"gridcolor\":\"white\",\"linecolor\":\"white\",\"showbackground\":true,\"ticks\":\"\",\"zerolinecolor\":\"white\",\"gridwidth\":2},\"zaxis\":{\"backgroundcolor\":\"#E5ECF6\",\"gridcolor\":\"white\",\"linecolor\":\"white\",\"showbackground\":true,\"ticks\":\"\",\"zerolinecolor\":\"white\",\"gridwidth\":2}},\"shapedefaults\":{\"line\":{\"color\":\"#2a3f5f\"}},\"annotationdefaults\":{\"arrowcolor\":\"#2a3f5f\",\"arrowhead\":0,\"arrowwidth\":1},\"geo\":{\"bgcolor\":\"white\",\"landcolor\":\"#E5ECF6\",\"subunitcolor\":\"white\",\"showland\":true,\"showlakes\":true,\"lakecolor\":\"white\"},\"title\":{\"x\":0.05},\"mapbox\":{\"style\":\"light\"}}},\"shapes\":[{\"line\":{\"color\":\"green\",\"dash\":\"dash\",\"width\":3},\"type\":\"line\",\"x0\":512000000.0,\"x1\":512000000.0,\"xref\":\"x\",\"y0\":0,\"y1\":1,\"yref\":\"y domain\"}],\"annotations\":[{\"align\":\"left\",\"arrowcolor\":\"#636363\",\"arrowhead\":1,\"arrowsize\":1,\"arrowwidth\":2,\"ax\":-20,\"ay\":-30,\"font\":{\"color\":\"purple\",\"family\":\"Sans Serif\",\"size\":12},\"showarrow\":false,\"text\":\"LLC Size Per Node\",\"x\":\"512e6\",\"y\":130,\"yanchor\":\"bottom\"}],\"xaxis\":{\"title\":{\"text\":\"Dirc_Data_Mov\"},\"ticks\":\"outside\"},\"yaxis\":{\"title\":{\"text\":\"GFLOPs/Node\"},\"ticks\":\"outside\"},\"title\":{\"text\":\"\\\"Fused-AVX (2-Nodes): probempi vs nonprobempi\\\" GFlops Measurement\"},\"legend\":{\"bordercolor\":\"black\",\"borderwidth\":1}},                        {\"responsive\": true}                    ).then(function(){\n",
       "                            \n",
       "var gd = document.getElementById('061c8e63-d721-4ebd-a60e-d8a77a232c68');\n",
       "var x = new MutationObserver(function (mutations, observer) {{\n",
       "        var display = window.getComputedStyle(gd).display;\n",
       "        if (!display || display === 'none') {{\n",
       "            console.log([gd, 'removed!']);\n",
       "            Plotly.purge(gd);\n",
       "            observer.disconnect();\n",
       "        }}\n",
       "}});\n",
       "\n",
       "// Listen for the removal of the full notebook cells\n",
       "var notebookContainer = gd.closest('#notebook-container');\n",
       "if (notebookContainer) {{\n",
       "    x.observe(notebookContainer, {childList: true});\n",
       "}}\n",
       "\n",
       "// Listen for the clearing of the current output cell\n",
       "var outputEl = gd.closest('.output');\n",
       "if (outputEl) {{\n",
       "    x.observe(outputEl, {childList: true});\n",
       "}}\n",
       "\n",
       "                        })                };                });            </script>        </div>"
      ]
     },
     "metadata": {},
     "output_type": "display_data"
    }
   ],
   "source": [
    "fig = go.Figure() \n",
    "\n",
    "fig.add_trace(go.Scatter(x=(dfn2AvxFusNonProb_256mpi_1omp.Dirc_Data_Mov*(dfn2AvxFusNonProb_256mpi_1omp.MPI_size/2)), \n",
    "                         y=(dfn2AvxFusNonProb_256mpi_1omp.GFLOPS*(dfn2AvxFusNonProb_256mpi_1omp.MPI_size/2)), \n",
    "                         mode='lines+markers', \n",
    "                         name='AvxFusNonProb_256mpi_1omp',\n",
    "                         line=dict(color='magenta',width=3),\n",
    "                         marker=dict(symbol='hexagon',size=9, line=dict(color='yellow',width=1))))\n",
    "\n",
    "\n",
    "fig.add_trace(go.Scatter(x=(dfn2AvxFusProb_256mpi_1omp.Dirc_Data_Mov*(dfn2AvxFusProb_256mpi_1omp.MPI_size/2)), \n",
    "                         y=(dfn2AvxFusProb_256mpi_1omp.GFLOPS*(dfn2AvxFusProb_256mpi_1omp.MPI_size/2)), \n",
    "                         mode='lines+markers', \n",
    "                         name='AvxFusProb_256mpi_1omp',\n",
    "                         line=dict(color='olive',width=3),\n",
    "                         marker=dict(symbol='hexagon',size=9, line=dict(color='yellow',width=1))))\n",
    "\n",
    "# case 2\n",
    "fig.add_trace(go.Scatter(x=(dfn2AvxFusNonProb_128mpi_2omp.Dirc_Data_Mov*(dfn2AvxFusNonProb_128mpi_2omp.MPI_size/2)), \n",
    "                         y=(dfn2AvxFusNonProb_128mpi_2omp.GFLOPS*(dfn2AvxFusNonProb_128mpi_2omp.MPI_size/2)), \n",
    "                         mode='lines+markers', \n",
    "                         name='AvxFusNonProb_128mpi_2omp',\n",
    "                         line=dict(color='sandybrown',width=3),\n",
    "                         marker=dict(symbol='diamond',size=5,line=dict(color='MediumPurple',width=2))))\n",
    "\n",
    "fig.add_trace(go.Scatter(x=(dfn2AvxFusProb_128mpi_2omp.Dirc_Data_Mov*(dfn2AvxFusProb_128mpi_2omp.MPI_size/2)), \n",
    "                         y=(dfn2AvxFusProb_128mpi_2omp.GFLOPS*(dfn2AvxFusProb_128mpi_2omp.MPI_size/2)), \n",
    "                         mode='lines+markers', \n",
    "                         name='AvxFusProb_128mpi_2omp',\n",
    "                         line=dict(color='royalblue',width=3),\n",
    "                         marker=dict(symbol='diamond',size=5,line=dict(color='MediumPurple',width=2))))\n",
    "\n",
    "# case 3\n",
    "fig.add_trace(go.Scatter(x=(dfn2AvxFusNonProb_64mpi_4omp.Dirc_Data_Mov*(dfn2AvxFusNonProb_64mpi_4omp.MPI_size/2)), \n",
    "                         y=(dfn2AvxFusNonProb_64mpi_4omp.GFLOPS*(dfn2AvxFusNonProb_64mpi_4omp.MPI_size/2)), \n",
    "                         mode='lines+markers', \n",
    "                         name='AvxFusNonProb_64mpi_4omp',\n",
    "                         line=dict(color='cyan',width=3),\n",
    "                         marker=dict(symbol='circle',size=7,line=dict(color='Purple',width=2))))\n",
    "\n",
    "fig.add_trace(go.Scatter(x=(dfn2AvxFusProb_64mpi_4omp.Dirc_Data_Mov*(dfn2AvxFusProb_64mpi_4omp.MPI_size/2)), \n",
    "                         y=(dfn2AvxFusProb_64mpi_4omp.GFLOPS*(dfn2AvxFusProb_64mpi_4omp.MPI_size/2)), \n",
    "                         mode='lines+markers', \n",
    "                         name='AvxFusProb_64mpi_4omp',\n",
    "                         line=dict(color='darkblue',width=3),\n",
    "                         marker=dict(symbol='circle',size=7, line=dict(color='tomato',width=2))))\n",
    "\n",
    "# case 4\n",
    "fig.add_trace(go.Scatter(x=(dfn2AvxFusNonProb_32mpi_8omp.Dirc_Data_Mov*(dfn2AvxFusNonProb_32mpi_8omp.MPI_size/2)), \n",
    "                         y=(dfn2AvxFusNonProb_32mpi_8omp.GFLOPS*(dfn2AvxFusNonProb_32mpi_8omp.MPI_size/2)), \n",
    "                         mode='lines+markers', \n",
    "                         name='AvxFusNonProb_32mpi_8omp',\n",
    "                         line=dict(color='red',width=3),\n",
    "                         marker=dict(symbol='circle',size=5,line=dict(color='red',width=2))))\n",
    "\n",
    "fig.add_trace(go.Scatter(x=(dfn2AvxFusProb_32mpi_8omp.Dirc_Data_Mov*(dfn2AvxFusProb_32mpi_8omp.MPI_size/2)), \n",
    "                         y=(dfn2AvxFusProb_32mpi_8omp.GFLOPS*(dfn2AvxFusProb_32mpi_8omp.MPI_size/2)), \n",
    "                         mode='lines+markers', \n",
    "                         name='dfn2AvxFusProb_32mpi_8omp',\n",
    "                         line=dict(color='green',width=3),\n",
    "                         marker=dict(symbol='circle',size=5,line=dict(color='green',width=2))))\n",
    "\n",
    "# case 5\n",
    "\n",
    "fig.add_trace(go.Scatter(x=(dfn2AvxFusNonProb_16mpi_16omp.Dirc_Data_Mov*(dfn2AvxFusNonProb_16mpi_16omp.MPI_size/2)), \n",
    "                         y=(dfn2AvxFusNonProb_16mpi_16omp.GFLOPS*(dfn2AvxFusNonProb_16mpi_16omp.MPI_size/2)), \n",
    "                         mode='lines+markers', \n",
    "                         name='AvxFusNonProb_16mpi_16omp',\n",
    "                         line=dict(color='blue',width=3),\n",
    "                         marker=dict(symbol='triangle-up',size=4,line=dict(color='chocolate',width=2))))\n",
    "\n",
    "fig.add_trace(go.Scatter(x=(dfn2AvxFusProb_16mpi_16omp.Dirc_Data_Mov*(dfn2AvxFusProb_16mpi_16omp.MPI_size/2)), \n",
    "                         y=(dfn2AvxFusProb_16mpi_16omp.GFLOPS*(dfn2AvxFusProb_16mpi_16omp.MPI_size/2)), \n",
    "                         mode='lines+markers', \n",
    "                         name='dfn2AvxFusProb_16mpi_16omp',\n",
    "                         line=dict(color='darkviolet',width=3),\n",
    "                         marker=dict(symbol='triangle-up',size=4,line=dict(color='crimson',width=2))))\n",
    "\n",
    "\n",
    "\n",
    "# Adding a vertical line\n",
    "fig.add_vline(x=512e6, line_width=3, line_dash=\"dash\", line_color=\"green\")\n",
    "# fig.add_hline(y=1024, line_width=3, line_dash=\"dash\", line_color=\"red\")\n",
    "\n",
    "# Add annotation\n",
    "fig.add_annotation(\n",
    "    x='512e6'\n",
    "    , y=130\n",
    "    , text=f'LLC Size Per Node'\n",
    "    , yanchor='bottom'\n",
    "    , showarrow=False\n",
    "    , arrowhead=1\n",
    "    , arrowsize=1\n",
    "    , arrowwidth=2\n",
    "    , arrowcolor=\"#636363\"\n",
    "    , ax=-20\n",
    "    , ay=-30\n",
    "    , font=dict(size=12, color=\"purple\", family=\"Sans Serif\")\n",
    "    , align=\"left\"\n",
    "    ,)\n",
    "\n",
    "fig.update_layout(title='\"Fused-AVX (2-Nodes): probempi vs nonprobempi\" GFlops Measurement',\n",
    "                  xaxis_title='Dirc_Data_Mov', yaxis_title='GFLOPs/Node', \n",
    "                  xaxis=dict(ticks=\"outside\"),  \n",
    "                  yaxis=dict(ticks=\"outside\"),\n",
    "                  legend=go.layout.Legend(bordercolor=\"black\",borderwidth=1))"
   ]
  },
  {
   "cell_type": "markdown",
   "id": "ab2a867c",
   "metadata": {},
   "source": [
    "## 3) NonFused_AVX_Probempi"
   ]
  },
  {
   "cell_type": "markdown",
   "id": "653a442d",
   "metadata": {},
   "source": [
    "### Adding Columns"
   ]
  },
  {
   "cell_type": "code",
   "execution_count": 115,
   "id": "ac5885f4",
   "metadata": {},
   "outputs": [],
   "source": [
    "dfn2_avx_nonfused_probempi[\"N_Nodes\"] = 2\n",
    "dfn2_avx_nonfused_probempi['NPX'] = (dfn2_avx_nonfused_probempi.GLB_X//dfn2_avx_nonfused_probempi.LOC_X)\n",
    "dfn2_avx_nonfused_probempi['NPY'] = (dfn2_avx_nonfused_probempi.GLB_Y//dfn2_avx_nonfused_probempi.LOC_Y)\n",
    "dfn2_avx_nonfused_probempi['NPZ'] = (dfn2_avx_nonfused_probempi.GLB_Z//dfn2_avx_nonfused_probempi.LOC_Z)\n",
    "dfn2_avx_nonfused_probempi['NPT'] = (dfn2_avx_nonfused_probempi.GLB_T//dfn2_avx_nonfused_probempi.LOC_T)\n",
    "dfn2_avx_nonfused_probempi[\"Total_proc\"] = dfn2_avx_nonfused_probempi[\"omp_thrd\"]* dfn2_avx_nonfused_probempi.MPI_size\n",
    "# dfn2_avx_nonfused_probempi.columns"
   ]
  },
  {
   "cell_type": "markdown",
   "id": "2e95e419",
   "metadata": {},
   "source": [
    "### Data Summary"
   ]
  },
  {
   "cell_type": "code",
   "execution_count": 116,
   "id": "34828720",
   "metadata": {},
   "outputs": [
    {
     "data": {
      "text/html": [
       "<div>\n",
       "<style scoped>\n",
       "    .dataframe tbody tr th:only-of-type {\n",
       "        vertical-align: middle;\n",
       "    }\n",
       "\n",
       "    .dataframe tbody tr th {\n",
       "        vertical-align: top;\n",
       "    }\n",
       "\n",
       "    .dataframe thead th {\n",
       "        text-align: right;\n",
       "    }\n",
       "</style>\n",
       "<table border=\"1\" class=\"dataframe\">\n",
       "  <thead>\n",
       "    <tr style=\"text-align: right;\">\n",
       "      <th></th>\n",
       "      <th>MPI_size</th>\n",
       "      <th>omp_thrd</th>\n",
       "      <th>NPT</th>\n",
       "      <th>NPX</th>\n",
       "      <th>NPY</th>\n",
       "      <th>NPZ</th>\n",
       "      <th>Total_proc</th>\n",
       "      <th>size</th>\n",
       "    </tr>\n",
       "  </thead>\n",
       "  <tbody>\n",
       "    <tr>\n",
       "      <th>0</th>\n",
       "      <td>16</td>\n",
       "      <td>16</td>\n",
       "      <td>2</td>\n",
       "      <td>2</td>\n",
       "      <td>2</td>\n",
       "      <td>2</td>\n",
       "      <td>256</td>\n",
       "      <td>120</td>\n",
       "    </tr>\n",
       "    <tr>\n",
       "      <th>1</th>\n",
       "      <td>32</td>\n",
       "      <td>8</td>\n",
       "      <td>4</td>\n",
       "      <td>2</td>\n",
       "      <td>2</td>\n",
       "      <td>2</td>\n",
       "      <td>256</td>\n",
       "      <td>69</td>\n",
       "    </tr>\n",
       "    <tr>\n",
       "      <th>2</th>\n",
       "      <td>64</td>\n",
       "      <td>4</td>\n",
       "      <td>8</td>\n",
       "      <td>2</td>\n",
       "      <td>2</td>\n",
       "      <td>2</td>\n",
       "      <td>256</td>\n",
       "      <td>35</td>\n",
       "    </tr>\n",
       "    <tr>\n",
       "      <th>3</th>\n",
       "      <td>128</td>\n",
       "      <td>2</td>\n",
       "      <td>16</td>\n",
       "      <td>2</td>\n",
       "      <td>2</td>\n",
       "      <td>2</td>\n",
       "      <td>256</td>\n",
       "      <td>16</td>\n",
       "    </tr>\n",
       "    <tr>\n",
       "      <th>4</th>\n",
       "      <td>248</td>\n",
       "      <td>1</td>\n",
       "      <td>31</td>\n",
       "      <td>2</td>\n",
       "      <td>2</td>\n",
       "      <td>2</td>\n",
       "      <td>248</td>\n",
       "      <td>4</td>\n",
       "    </tr>\n",
       "    <tr>\n",
       "      <th>5</th>\n",
       "      <td>256</td>\n",
       "      <td>1</td>\n",
       "      <td>32</td>\n",
       "      <td>2</td>\n",
       "      <td>2</td>\n",
       "      <td>2</td>\n",
       "      <td>256</td>\n",
       "      <td>7</td>\n",
       "    </tr>\n",
       "  </tbody>\n",
       "</table>\n",
       "</div>"
      ],
      "text/plain": [
       "   MPI_size  omp_thrd  NPT  NPX  NPY  NPZ  Total_proc  size\n",
       "0        16        16    2    2    2    2         256   120\n",
       "1        32         8    4    2    2    2         256    69\n",
       "2        64         4    8    2    2    2         256    35\n",
       "3       128         2   16    2    2    2         256    16\n",
       "4       248         1   31    2    2    2         248     4\n",
       "5       256         1   32    2    2    2         256     7"
      ]
     },
     "execution_count": 116,
     "metadata": {},
     "output_type": "execute_result"
    }
   ],
   "source": [
    "dfn2_avx_nonfused_probempi_summary = dfn2_avx_nonfused_probempi.groupby(['MPI_size','omp_thrd','NPT','NPX', 'NPY', 'NPZ',\"Total_proc\"]).size().reset_index(name = 'size')\n",
    "dfn2_avx_nonfused_probempi_summary"
   ]
  },
  {
   "cell_type": "markdown",
   "id": "03e7af68",
   "metadata": {},
   "source": [
    "### Cases Setup"
   ]
  },
  {
   "cell_type": "code",
   "execution_count": 123,
   "id": "d37b4e88",
   "metadata": {},
   "outputs": [],
   "source": [
    "dfn2AvxNonFusProb_16mpi_16omp = dfn2_avx_nonfused_probempi[(dfn2_avx_nonfused_probempi.omp_thrd == 16) & (dfn2_avx_nonfused_probempi.GLB_T/dfn2_avx_nonfused_probempi.LOC_T == 2) & (dfn2_avx_nonfused_probempi.GLB_X/dfn2_avx_nonfused_probempi.LOC_X == 2) & (dfn2_avx_nonfused_probempi.GLB_Y/dfn2_avx_nonfused_probempi.LOC_Y == 2)& (dfn2_avx_nonfused_probempi.GLB_Z/dfn2_avx_nonfused_probempi.LOC_Z == 2)]\n",
    "dfn2AvxNonFusProb_32mpi_8omp = dfn2_avx_nonfused_probempi[(dfn2_avx_nonfused_probempi.omp_thrd == 8) & (dfn2_avx_nonfused_probempi.GLB_T/dfn2_avx_nonfused_probempi.LOC_T == 4) & (dfn2_avx_nonfused_probempi.GLB_X/dfn2_avx_nonfused_probempi.LOC_X == 2) & (dfn2_avx_nonfused_probempi.GLB_Y/dfn2_avx_nonfused_probempi.LOC_Y == 2)& (dfn2_avx_nonfused_probempi.GLB_Z/dfn2_avx_nonfused_probempi.LOC_Z == 2)]\n",
    "dfn2AvxNonFusProb_64mpi_4omp = dfn2_avx_nonfused_probempi[(dfn2_avx_nonfused_probempi.omp_thrd == 4) & (dfn2_avx_nonfused_probempi.GLB_T/dfn2_avx_nonfused_probempi.LOC_T == 8) & (dfn2_avx_nonfused_probempi.GLB_X/dfn2_avx_nonfused_probempi.LOC_X == 2) & (dfn2_avx_nonfused_probempi.GLB_Y/dfn2_avx_nonfused_probempi.LOC_Y == 2)& (dfn2_avx_nonfused_probempi.GLB_Z/dfn2_avx_nonfused_probempi.LOC_Z == 2)]\n",
    "dfn2AvxNonFusProb_128mpi_2omp = dfn2_avx_nonfused_probempi[(dfn2_avx_nonfused_probempi.omp_thrd == 2) & (dfn2_avx_nonfused_probempi.GLB_T/dfn2_avx_nonfused_probempi.LOC_T == 16) & (dfn2_avx_nonfused_probempi.GLB_X/dfn2_avx_nonfused_probempi.LOC_X == 2) & (dfn2_avx_nonfused_probempi.GLB_Y/dfn2_avx_nonfused_probempi.LOC_Y == 2)& (dfn2_avx_nonfused_probempi.GLB_Z/dfn2_avx_nonfused_probempi.LOC_Z == 2)]\n",
    "dfn2AvxNonFusProb_256mpi_1omp = dfn2_avx_nonfused_probempi[(dfn2_avx_nonfused_probempi.omp_thrd == 1) & (dfn2_avx_nonfused_probempi.GLB_T/dfn2_avx_nonfused_probempi.LOC_T == 32) & (dfn2_avx_nonfused_probempi.GLB_X/dfn2_avx_nonfused_probempi.LOC_X == 2) & (dfn2_avx_nonfused_probempi.GLB_Y/dfn2_avx_nonfused_probempi.LOC_Y == 2)& (dfn2_avx_nonfused_probempi.GLB_Z/dfn2_avx_nonfused_probempi.LOC_Z == 2)]\n"
   ]
  },
  {
   "cell_type": "markdown",
   "id": "ec729304",
   "metadata": {},
   "source": [
    "## 4) NonFused_AVX_NonProbempi"
   ]
  },
  {
   "cell_type": "markdown",
   "id": "f6a7723d",
   "metadata": {},
   "source": [
    "### Adding Columns"
   ]
  },
  {
   "cell_type": "code",
   "execution_count": 124,
   "id": "12d949e2",
   "metadata": {},
   "outputs": [],
   "source": [
    "dfn2_avx_nonfused_nonprobempi[\"N_Nodes\"] = 2\n",
    "dfn2_avx_nonfused_nonprobempi['NPX'] = (dfn2_avx_nonfused_nonprobempi.GLB_X//dfn2_avx_nonfused_nonprobempi.LOC_X)\n",
    "dfn2_avx_nonfused_nonprobempi['NPY'] = (dfn2_avx_nonfused_nonprobempi.GLB_Y//dfn2_avx_nonfused_nonprobempi.LOC_Y)\n",
    "dfn2_avx_nonfused_nonprobempi['NPZ'] = (dfn2_avx_nonfused_nonprobempi.GLB_Z//dfn2_avx_nonfused_nonprobempi.LOC_Z)\n",
    "dfn2_avx_nonfused_nonprobempi['NPT'] = (dfn2_avx_nonfused_nonprobempi.GLB_T//dfn2_avx_nonfused_nonprobempi.LOC_T)\n",
    "dfn2_avx_nonfused_nonprobempi[\"Total_proc\"] = dfn2_avx_nonfused_nonprobempi[\"omp_thrd\"]* dfn2_avx_nonfused_nonprobempi.MPI_size\n",
    "# dfn2_avx_nonfused_nonprobempi.columns"
   ]
  },
  {
   "cell_type": "markdown",
   "id": "376462e6",
   "metadata": {},
   "source": [
    "### Data Summary"
   ]
  },
  {
   "cell_type": "code",
   "execution_count": 125,
   "id": "fe2d370e",
   "metadata": {},
   "outputs": [
    {
     "data": {
      "text/html": [
       "<div>\n",
       "<style scoped>\n",
       "    .dataframe tbody tr th:only-of-type {\n",
       "        vertical-align: middle;\n",
       "    }\n",
       "\n",
       "    .dataframe tbody tr th {\n",
       "        vertical-align: top;\n",
       "    }\n",
       "\n",
       "    .dataframe thead th {\n",
       "        text-align: right;\n",
       "    }\n",
       "</style>\n",
       "<table border=\"1\" class=\"dataframe\">\n",
       "  <thead>\n",
       "    <tr style=\"text-align: right;\">\n",
       "      <th></th>\n",
       "      <th>MPI_size</th>\n",
       "      <th>omp_thrd</th>\n",
       "      <th>NPT</th>\n",
       "      <th>NPX</th>\n",
       "      <th>NPY</th>\n",
       "      <th>NPZ</th>\n",
       "      <th>Total_proc</th>\n",
       "      <th>size</th>\n",
       "    </tr>\n",
       "  </thead>\n",
       "  <tbody>\n",
       "    <tr>\n",
       "      <th>0</th>\n",
       "      <td>16</td>\n",
       "      <td>16</td>\n",
       "      <td>2</td>\n",
       "      <td>2</td>\n",
       "      <td>2</td>\n",
       "      <td>2</td>\n",
       "      <td>256</td>\n",
       "      <td>116</td>\n",
       "    </tr>\n",
       "    <tr>\n",
       "      <th>1</th>\n",
       "      <td>32</td>\n",
       "      <td>8</td>\n",
       "      <td>4</td>\n",
       "      <td>2</td>\n",
       "      <td>2</td>\n",
       "      <td>2</td>\n",
       "      <td>256</td>\n",
       "      <td>70</td>\n",
       "    </tr>\n",
       "    <tr>\n",
       "      <th>2</th>\n",
       "      <td>64</td>\n",
       "      <td>4</td>\n",
       "      <td>8</td>\n",
       "      <td>2</td>\n",
       "      <td>2</td>\n",
       "      <td>2</td>\n",
       "      <td>256</td>\n",
       "      <td>35</td>\n",
       "    </tr>\n",
       "    <tr>\n",
       "      <th>3</th>\n",
       "      <td>128</td>\n",
       "      <td>2</td>\n",
       "      <td>16</td>\n",
       "      <td>2</td>\n",
       "      <td>2</td>\n",
       "      <td>2</td>\n",
       "      <td>256</td>\n",
       "      <td>16</td>\n",
       "    </tr>\n",
       "    <tr>\n",
       "      <th>4</th>\n",
       "      <td>248</td>\n",
       "      <td>1</td>\n",
       "      <td>31</td>\n",
       "      <td>2</td>\n",
       "      <td>2</td>\n",
       "      <td>2</td>\n",
       "      <td>248</td>\n",
       "      <td>4</td>\n",
       "    </tr>\n",
       "    <tr>\n",
       "      <th>5</th>\n",
       "      <td>256</td>\n",
       "      <td>1</td>\n",
       "      <td>32</td>\n",
       "      <td>2</td>\n",
       "      <td>2</td>\n",
       "      <td>2</td>\n",
       "      <td>256</td>\n",
       "      <td>7</td>\n",
       "    </tr>\n",
       "  </tbody>\n",
       "</table>\n",
       "</div>"
      ],
      "text/plain": [
       "   MPI_size  omp_thrd  NPT  NPX  NPY  NPZ  Total_proc  size\n",
       "0        16        16    2    2    2    2         256   116\n",
       "1        32         8    4    2    2    2         256    70\n",
       "2        64         4    8    2    2    2         256    35\n",
       "3       128         2   16    2    2    2         256    16\n",
       "4       248         1   31    2    2    2         248     4\n",
       "5       256         1   32    2    2    2         256     7"
      ]
     },
     "execution_count": 125,
     "metadata": {},
     "output_type": "execute_result"
    }
   ],
   "source": [
    "dfn2_avx_nonfused_nonprobempi_summary = dfn2_avx_nonfused_nonprobempi.groupby(['MPI_size','omp_thrd','NPT','NPX', 'NPY', 'NPZ',\"Total_proc\"]).size().reset_index(name = 'size')\n",
    "dfn2_avx_nonfused_nonprobempi_summary"
   ]
  },
  {
   "cell_type": "markdown",
   "id": "4dfbe79a",
   "metadata": {},
   "source": [
    "### Cases Setup"
   ]
  },
  {
   "cell_type": "code",
   "execution_count": 131,
   "id": "7bff2b81",
   "metadata": {},
   "outputs": [],
   "source": [
    "dfn2AvxNonFusNonProb_16mpi_16omp = dfn2_avx_nonfused_nonprobempi[(dfn2_avx_nonfused_nonprobempi.omp_thrd == 16) & (dfn2_avx_nonfused_nonprobempi.GLB_T/dfn2_avx_nonfused_nonprobempi.LOC_T == 2) & (dfn2_avx_nonfused_nonprobempi.GLB_X/dfn2_avx_nonfused_nonprobempi.LOC_X == 2) & (dfn2_avx_nonfused_nonprobempi.GLB_Y/dfn2_avx_nonfused_nonprobempi.LOC_Y == 2)& (dfn2_avx_nonfused_nonprobempi.GLB_Z/dfn2_avx_nonfused_nonprobempi.LOC_Z == 2)]\n",
    "dfn2AvxNonFusNonProb_32mpi_8omp = dfn2_avx_nonfused_nonprobempi[(dfn2_avx_nonfused_nonprobempi.omp_thrd == 8) & (dfn2_avx_nonfused_nonprobempi.GLB_T/dfn2_avx_nonfused_nonprobempi.LOC_T == 4) & (dfn2_avx_nonfused_nonprobempi.GLB_X/dfn2_avx_nonfused_nonprobempi.LOC_X == 2) & (dfn2_avx_nonfused_nonprobempi.GLB_Y/dfn2_avx_nonfused_nonprobempi.LOC_Y == 2)& (dfn2_avx_nonfused_nonprobempi.GLB_Z/dfn2_avx_nonfused_nonprobempi.LOC_Z == 2)]\n",
    "dfn2AvxNonFusNonProb_64mpi_4omp = dfn2_avx_nonfused_nonprobempi[(dfn2_avx_nonfused_nonprobempi.omp_thrd == 4) & (dfn2_avx_nonfused_nonprobempi.GLB_T/dfn2_avx_nonfused_nonprobempi.LOC_T == 8) & (dfn2_avx_nonfused_nonprobempi.GLB_X/dfn2_avx_nonfused_nonprobempi.LOC_X == 2) & (dfn2_avx_nonfused_nonprobempi.GLB_Y/dfn2_avx_nonfused_nonprobempi.LOC_Y == 2)& (dfn2_avx_nonfused_nonprobempi.GLB_Z/dfn2_avx_nonfused_nonprobempi.LOC_Z == 2)]\n",
    "dfn2AvxNonFusNonProb_128mpi_2omp = dfn2_avx_nonfused_nonprobempi[(dfn2_avx_nonfused_nonprobempi.omp_thrd == 2) & (dfn2_avx_nonfused_nonprobempi.GLB_T/dfn2_avx_nonfused_nonprobempi.LOC_T == 16) & (dfn2_avx_nonfused_nonprobempi.GLB_X/dfn2_avx_nonfused_nonprobempi.LOC_X == 2) & (dfn2_avx_nonfused_nonprobempi.GLB_Y/dfn2_avx_nonfused_nonprobempi.LOC_Y == 2)& (dfn2_avx_nonfused_nonprobempi.GLB_Z/dfn2_avx_nonfused_nonprobempi.LOC_Z == 2)]\n",
    "dfn2AvxNonFusNonProb_256mpi_1omp = dfn2_avx_nonfused_nonprobempi[(dfn2_avx_nonfused_nonprobempi.omp_thrd == 1) & (dfn2_avx_nonfused_nonprobempi.GLB_T/dfn2_avx_nonfused_nonprobempi.LOC_T == 32) & (dfn2_avx_nonfused_nonprobempi.GLB_X/dfn2_avx_nonfused_nonprobempi.LOC_X == 2) & (dfn2_avx_nonfused_nonprobempi.GLB_Y/dfn2_avx_nonfused_nonprobempi.LOC_Y == 2)& (dfn2_avx_nonfused_nonprobempi.GLB_Z/dfn2_avx_nonfused_nonprobempi.LOC_Z == 2)]\n"
   ]
  },
  {
   "cell_type": "markdown",
   "id": "fc562348",
   "metadata": {},
   "source": [
    "## GFLOPS - NonFused-AVX: Probmpi vs Non-Probempi"
   ]
  },
  {
   "cell_type": "code",
   "execution_count": 132,
   "id": "68bbae29",
   "metadata": {},
   "outputs": [
    {
     "data": {
      "application/vnd.plotly.v1+json": {
       "config": {
        "plotlyServerURL": "https://plot.ly"
       },
       "data": [
        {
         "line": {
          "color": "magenta",
          "width": 3
         },
         "marker": {
          "line": {
           "color": "yellow",
           "width": 1
          },
          "size": 9,
          "symbol": "hexagon"
         },
         "mode": "lines+markers",
         "name": "AvxNonFusNonProb_256mpi_1omp",
         "type": "scatter",
         "x": [
          1572864000,
          1966080000,
          2359296000,
          2752512000,
          3145728000,
          3538944000,
          3932160000
         ],
         "y": [
          187.89248,
          197.69472,
          200.44672,
          189.66272,
          176.99712,
          164.70144,
          168.12928
         ]
        },
        {
         "line": {
          "color": "olive",
          "width": 3
         },
         "marker": {
          "line": {
           "color": "yellow",
           "width": 1
          },
          "size": 9,
          "symbol": "hexagon"
         },
         "mode": "lines+markers",
         "name": "AvxNonFusProb_256mpi_1omp",
         "type": "scatter",
         "x": [
          1572864000,
          1966080000,
          2359296000,
          2752512000,
          3145728000,
          3538944000,
          3932160000
         ],
         "y": [
          248.2624,
          203.90912,
          199.07328,
          180.8832,
          179.65056,
          170.42816,
          158.67136
         ]
        },
        {
         "line": {
          "color": "sandybrown",
          "width": 3
         },
         "marker": {
          "line": {
           "color": "MediumPurple",
           "width": 2
          },
          "size": 5,
          "symbol": "diamond"
         },
         "mode": "lines+markers",
         "name": "AvxNonFusNonProb_128mpi_2omp",
         "type": "scatter",
         "x": [
          786432000,
          983040000,
          1179648000,
          1376256000,
          1572864000,
          1769472000,
          1966080000,
          2162688000,
          2359296000,
          2555904000,
          2752512000,
          2949120000,
          3145728000,
          3342336000,
          3538944000,
          3735552000
         ],
         "y": [
          328.3168,
          321.65952,
          303.1104,
          273.57632,
          250.0768,
          236.19712,
          221.09184,
          206.33152,
          192.68992,
          187.91808,
          180.80832,
          177.89376,
          162.88832,
          165.24352,
          166.10304,
          163.87264
         ]
        },
        {
         "line": {
          "color": "royalblue",
          "width": 3
         },
         "marker": {
          "line": {
           "color": "MediumPurple",
           "width": 2
          },
          "size": 5,
          "symbol": "diamond"
         },
         "mode": "lines+markers",
         "name": "AvxNonFusProb_128mpi_2omp",
         "type": "scatter",
         "x": [
          786432000,
          983040000,
          1376256000,
          1179648000,
          1572864000,
          1769472000,
          1966080000,
          2162688000,
          2359296000,
          2752512000,
          2949120000,
          3145728000,
          3342336000,
          3538944000,
          3735552000,
          3932160000
         ],
         "y": [
          315.1424,
          315.82016,
          283.27488,
          303.96096,
          255.376,
          235.24416,
          223.84256,
          200.03392,
          196.19648,
          181.53728,
          175.072,
          171.45792,
          167.4496,
          164.73024,
          158.44224,
          161.44768
         ]
        },
        {
         "line": {
          "color": "cyan",
          "width": 3
         },
         "marker": {
          "line": {
           "color": "Purple",
           "width": 2
          },
          "size": 7,
          "symbol": "circle"
         },
         "mode": "lines+markers",
         "name": "AvxNonFusNonProb_64mpi_4omp",
         "type": "scatter",
         "x": [
          589824000,
          688128000,
          786432000,
          884736000,
          983040000,
          1081344000,
          1179648000,
          1277952000,
          1376256000,
          1474560000,
          1572864000,
          1671168000,
          1769472000,
          1867776000,
          1966080000,
          2064384000,
          2162688000,
          2260992000,
          2359296000,
          2457600000,
          2555904000,
          2654208000,
          2752512000,
          2850816000,
          2949120000,
          3047424000,
          3145728000,
          3244032000,
          3342336000,
          3538944000,
          3440640000,
          3637248000,
          3735552000,
          3833856000,
          3932160000
         ],
         "y": [
          256.83264,
          285.768,
          206.6016,
          246.28064,
          229.18336,
          235.96768,
          276.5504,
          263.3712,
          254.80832,
          247.5984,
          235.64,
          223.15776,
          216.90912,
          207.20512,
          204.24,
          192.17088,
          188.29696,
          187.8752,
          182.8432,
          176.47936,
          178.28224,
          168.3056,
          171.83456,
          166.0096,
          162.82784,
          162.47552,
          161.68384,
          160.46592,
          157.58528,
          155.00896,
          148.64704,
          155.19104,
          152.616,
          140.57024,
          150.1792
         ]
        },
        {
         "line": {
          "color": "darkblue",
          "width": 3
         },
         "marker": {
          "line": {
           "color": "tomato",
           "width": 2
          },
          "size": 7,
          "symbol": "circle"
         },
         "mode": "lines+markers",
         "name": "AvxNonFusProb_64mpi_4omp",
         "type": "scatter",
         "x": [
          589824000,
          688128000,
          786432000,
          884736000,
          983040000,
          1081344000,
          1179648000,
          1277952000,
          1474560000,
          1376256000,
          1572864000,
          1671168000,
          1769472000,
          1867776000,
          1966080000,
          2064384000,
          2162688000,
          2260992000,
          2359296000,
          2457600000,
          2555904000,
          2654208000,
          2752512000,
          2949120000,
          2850816000,
          3047424000,
          3145728000,
          3244032000,
          3342336000,
          3440640000,
          3538944000,
          3637248000,
          3735552000,
          3833856000,
          3932160000
         ],
         "y": [
          275.49632,
          272.2624,
          284.20128,
          279.99488,
          284.01856,
          282.40544,
          277.73408,
          270.64224,
          242.43904,
          261.0992,
          241.91264,
          221.95552,
          213.42656,
          213.68032,
          188.7008,
          201.18688,
          197.2752,
          187.3408,
          186.2736,
          180.26784,
          175.8272,
          176.75328,
          172.13504,
          165.96384,
          167.91616,
          168.75136,
          162.74208,
          161.59872,
          159.90688,
          162.71264,
          155.89344,
          155.65984,
          156.11424,
          156.00736,
          151.9856
         ]
        },
        {
         "line": {
          "color": "red",
          "width": 3
         },
         "marker": {
          "line": {
           "color": "red",
           "width": 2
          },
          "size": 5,
          "symbol": "circle"
         },
         "mode": "lines+markers",
         "name": "AvxFusNonProb_32mpi_8omp",
         "type": "scatter",
         "x": [
          540672000,
          589824000,
          638976000,
          688128000,
          737280000,
          786432000,
          835584000,
          884736000,
          933888000,
          983040000,
          1032192000,
          1081344000,
          1130496000,
          1179648000,
          1228800000,
          1277952000,
          1327104000,
          1376256000,
          1425408000,
          1474560000,
          1523712000,
          1572864000,
          1622016000,
          1671168000,
          1720320000,
          1769472000,
          1818624000,
          1867776000,
          1916928000,
          1966080000,
          2015232000,
          2064384000,
          2113536000,
          2162688000,
          2211840000,
          2260992000,
          2310144000,
          2359296000,
          2408448000,
          2457600000,
          2506752000,
          2555904000,
          2605056000,
          2654208000,
          2703360000,
          2752512000,
          2801664000,
          2850816000,
          2899968000,
          2949120000,
          2998272000,
          3047424000,
          3096576000,
          3145728000,
          3194880000,
          3244032000,
          3293184000,
          3342336000,
          3391488000,
          3440640000,
          3489792000,
          3538944000,
          3588096000,
          3637248000,
          3686400000,
          3784704000,
          3735552000,
          3833856000,
          3883008000,
          3932160000
         ],
         "y": [
          164.7152,
          169.7712,
          165.5296,
          188.408,
          190.4176,
          192.576,
          196.3984,
          200.7072,
          200.4256,
          202.2272,
          203.4016,
          191.08,
          188.5504,
          177.9648,
          167.9696,
          162.9264,
          205.3488,
          201.6336,
          202.4944,
          198.3024,
          187.9312,
          187.9632,
          159.30256,
          177.5648,
          160.5072,
          175.5824,
          173.4176,
          172.936,
          169.3904,
          166.76,
          164.2768,
          159.19152,
          162.2768,
          159.70944,
          160.6144,
          154.0536,
          153.75856,
          153.83344,
          151.09984,
          149.1448,
          151.05648,
          148.87616,
          132.08736,
          142.13088,
          146.96864,
          142.76128,
          143.84016,
          142.9584,
          144.39856,
          139.27536,
          140.44928,
          136.43104,
          138.86928,
          136.20256,
          138.17648,
          136.30096,
          136.45904,
          136.05088,
          137.44688,
          134.18512,
          133.19744,
          133.52944,
          134.59184,
          132.32272,
          131.70688,
          131.21408,
          130.72272,
          129.37184,
          130.8432,
          127.67888
         ]
        },
        {
         "line": {
          "color": "green",
          "width": 3
         },
         "marker": {
          "line": {
           "color": "green",
           "width": 2
          },
          "size": 5,
          "symbol": "circle"
         },
         "mode": "lines+markers",
         "name": "AvxNonFusProb_32mpi_8omp",
         "type": "scatter",
         "x": [
          540672000,
          589824000,
          638976000,
          688128000,
          737280000,
          786432000,
          835584000,
          884736000,
          933888000,
          983040000,
          1032192000,
          1081344000,
          1130496000,
          1179648000,
          1228800000,
          1277952000,
          1327104000,
          1376256000,
          1425408000,
          1474560000,
          1523712000,
          1572864000,
          1622016000,
          1671168000,
          1720320000,
          1769472000,
          1818624000,
          1867776000,
          1916928000,
          1966080000,
          2015232000,
          2064384000,
          2113536000,
          2162688000,
          2211840000,
          2260992000,
          2310144000,
          2359296000,
          2408448000,
          2457600000,
          2506752000,
          2555904000,
          2605056000,
          2654208000,
          2752512000,
          2703360000,
          2801664000,
          2850816000,
          2899968000,
          2949120000,
          2998272000,
          3047424000,
          3145728000,
          3096576000,
          3194880000,
          3244032000,
          3342336000,
          3293184000,
          3391488000,
          3440640000,
          3489792000,
          3538944000,
          3588096000,
          3637248000,
          3686400000,
          3735552000,
          3784704000,
          3833856000,
          3883008000
         ],
         "y": [
          176.8656,
          166.8,
          191.9376,
          199.7504,
          209.9184,
          209.0192,
          214.7632,
          213.5168,
          217.336,
          213.8272,
          213.3808,
          201.9424,
          199.0528,
          177.7456,
          166.968,
          158.21168,
          185.9952,
          202.7952,
          204.0752,
          194.9408,
          187.9232,
          187.544,
          187.768,
          185.2128,
          186.6288,
          174.9952,
          177.48,
          169.9072,
          173.488,
          167.6128,
          166.0976,
          165.2208,
          167.8464,
          159.29632,
          162.9856,
          158.10352,
          163.616,
          154.2,
          152.51072,
          154.18704,
          153.04768,
          145.72592,
          149.49904,
          148.6696,
          145.61712,
          152.2368,
          133.37696,
          144.77152,
          144.14352,
          143.69728,
          143.02752,
          143.13936,
          142.13264,
          143.70352,
          140.55616,
          139.94464,
          131.94272,
          141.04688,
          136.64512,
          135.87392,
          138.6688,
          136.00096,
          135.69424,
          134.66384,
          136.47152,
          135.94432,
          130.98544,
          132.07248,
          133.73744
         ]
        },
        {
         "line": {
          "color": "blue",
          "width": 3
         },
         "marker": {
          "line": {
           "color": "chocolate",
           "width": 2
          },
          "size": 4,
          "symbol": "triangle-up"
         },
         "mode": "lines+markers",
         "name": "AvxNonFusNonProb_16mpi_16omp",
         "type": "scatter",
         "x": [
          540672000,
          516096000,
          565248000,
          589824000,
          614400000,
          638976000,
          688128000,
          663552000,
          712704000,
          737280000,
          761856000,
          786432000,
          811008000,
          835584000,
          860160000,
          884736000,
          909312000,
          933888000,
          958464000,
          983040000,
          1007616000,
          1032192000,
          1056768000,
          1081344000,
          1105920000,
          1179648000,
          1155072000,
          1130496000,
          1204224000,
          1228800000,
          1277952000,
          1253376000,
          1302528000,
          1327104000,
          1376256000,
          1400832000,
          1351680000,
          1425408000,
          1449984000,
          1474560000,
          1499136000,
          1523712000,
          1548288000,
          1572864000,
          1597440000,
          1646592000,
          1622016000,
          1671168000,
          1695744000,
          1720320000,
          1744896000,
          1769472000,
          1794048000,
          1818624000,
          1843200000,
          1867776000,
          1916928000,
          1892352000,
          1941504000,
          1966080000,
          1990656000,
          2015232000,
          2039808000,
          2064384000,
          2088960000,
          2113536000,
          2138112000,
          2162688000,
          2187264000,
          2211840000,
          2236416000,
          2260992000,
          2285568000,
          2310144000,
          2334720000,
          2359296000,
          2383872000,
          2408448000,
          2433024000,
          2457600000,
          2482176000,
          2531328000,
          2506752000,
          2555904000,
          2580480000,
          2605056000,
          2629632000,
          2654208000,
          2678784000,
          2703360000,
          2727936000,
          2752512000,
          2777088000,
          2801664000,
          2826240000,
          2850816000,
          2875392000,
          2924544000,
          2899968000,
          2949120000,
          2973696000,
          3022848000,
          2998272000,
          3047424000,
          3072000000,
          3096576000,
          3145728000,
          3121152000,
          3170304000,
          3194880000,
          3219456000,
          3244032000,
          3268608000,
          3293184000,
          3317760000,
          3391488000
         ],
         "y": [
          90.18,
          90.2968,
          91.5,
          91.7456,
          90.4672,
          91.8328,
          93.124,
          87.5264,
          92.3312,
          91.312,
          91.3992,
          87.7408,
          90.7552,
          92.5248,
          87.3616,
          84.3184,
          85.1056,
          80.1744,
          83.4856,
          79.55752,
          75.70112,
          79.58512,
          77.70776,
          76.26672,
          73.52672,
          72.45144,
          74.32856,
          68.136,
          70.80672,
          69.09304,
          68.89768,
          72.00624,
          64.42528,
          68.15296,
          60.50408,
          69.34928,
          66.47296,
          67.2352,
          58.33456,
          79.2244,
          73.84888,
          62.10576,
          74.63264,
          61.7364,
          71.56704,
          67.52416,
          75.15256,
          62.58976,
          68.98936,
          77.5492,
          73.42136,
          73.66744,
          77.36088,
          74.63528,
          77.528,
          75.99016,
          66.55056,
          70.43896,
          71.10232,
          73.54496,
          71.21296,
          77.2076,
          75.42784,
          73.94072,
          80.9,
          75.156,
          75.65712,
          71.30136,
          76.11824,
          77.66432,
          75.70544,
          75.29648,
          76.59912,
          76.90912,
          75.88768,
          72.99008,
          74.79856,
          78.37608,
          73.61056,
          74.57784,
          76.96888,
          69.87792,
          74.0384,
          78.5416,
          75.03888,
          73.51024,
          75.8696,
          73.49776,
          73.7832,
          76.9408,
          71.53232,
          75.02824,
          72.71592,
          75.29568,
          75.00296,
          75.75624,
          76.43416,
          77.50608,
          71.7844,
          73.47272,
          77.01736,
          74.83704,
          70.06232,
          72.76416,
          74.41848,
          73.148,
          73.6132,
          68.06464,
          72.44128,
          72.7496,
          73.63064,
          73.3464,
          74.07056,
          72.242,
          74.10888,
          74.36432
         ]
        },
        {
         "line": {
          "color": "darkviolet",
          "width": 3
         },
         "marker": {
          "line": {
           "color": "crimson",
           "width": 2
          },
          "size": 4,
          "symbol": "triangle-up"
         },
         "mode": "lines+markers",
         "name": "AvxNonFusProb_16mpi_16omp",
         "type": "scatter",
         "x": [
          516096000,
          565248000,
          589824000,
          540672000,
          614400000,
          638976000,
          663552000,
          688128000,
          712704000,
          737280000,
          761856000,
          786432000,
          811008000,
          835584000,
          860160000,
          884736000,
          909312000,
          933888000,
          958464000,
          983040000,
          1007616000,
          1056768000,
          1032192000,
          1081344000,
          1105920000,
          1155072000,
          1130496000,
          1179648000,
          1204224000,
          1253376000,
          1228800000,
          1277952000,
          1302528000,
          1327104000,
          1351680000,
          1376256000,
          1400832000,
          1425408000,
          1449984000,
          1474560000,
          1499136000,
          1523712000,
          1548288000,
          1572864000,
          1597440000,
          1622016000,
          1646592000,
          1671168000,
          1695744000,
          1720320000,
          1744896000,
          1769472000,
          1794048000,
          1818624000,
          1843200000,
          1867776000,
          1892352000,
          1916928000,
          1941504000,
          1966080000,
          1990656000,
          2015232000,
          2039808000,
          2064384000,
          2088960000,
          2113536000,
          2138112000,
          2162688000,
          2187264000,
          2236416000,
          2211840000,
          2285568000,
          2310144000,
          2334720000,
          2359296000,
          2383872000,
          2408448000,
          2433024000,
          2457600000,
          2482176000,
          2531328000,
          2506752000,
          2555904000,
          2580480000,
          2605056000,
          2629632000,
          2654208000,
          2678784000,
          2703360000,
          2727936000,
          2752512000,
          2777088000,
          2801664000,
          2826240000,
          2850816000,
          2875392000,
          2899968000,
          2924544000,
          2949120000,
          2973696000,
          2998272000,
          3022848000,
          3047424000,
          3072000000,
          3096576000,
          3121152000,
          3145728000,
          3170304000,
          3194880000,
          3219456000,
          3244032000,
          3268608000,
          3293184000,
          3317760000,
          3342336000,
          3391488000,
          3416064000,
          3440640000,
          3465216000,
          3489792000
         ],
         "y": [
          94.4232,
          96.6864,
          94.7048,
          95.9864,
          95.3128,
          98.78,
          95.9784,
          98.9848,
          97.3248,
          94.8872,
          93.0056,
          93.8856,
          94.3152,
          92.676,
          89.0456,
          88.692,
          84.4576,
          83.484,
          83.0408,
          81.1832,
          80.928,
          70.78328,
          80.7648,
          77.43568,
          78.94848,
          70.9904,
          75.80504,
          74.40336,
          72.04824,
          73.91144,
          68.20248,
          72.00656,
          72.13728,
          70.25176,
          73.15512,
          68.4332,
          70.58592,
          71.05064,
          69.11272,
          74.04608,
          70.9384,
          71.68296,
          74.80856,
          82.3888,
          74.1536,
          80.9144,
          75.982,
          71.3032,
          74.00448,
          72.91376,
          78.00736,
          76.0692,
          76.92288,
          64.80032,
          74.09328,
          78.04424,
          75.12608,
          79.72,
          77.02152,
          80.1736,
          80.4936,
          80.6904,
          81.0136,
          81.7872,
          80.7192,
          81.2432,
          79.67208,
          73.64224,
          81.196,
          79.32232,
          77.04992,
          80.1096,
          79.65816,
          73.39784,
          76.78464,
          78.98688,
          79.35728,
          78.97456,
          78.3672,
          80.7368,
          77.8964,
          74.33024,
          76.77368,
          77.4628,
          76.5216,
          78.4612,
          76.53288,
          78.59376,
          78.34072,
          78.91496,
          76.0732,
          77.28104,
          80.8936,
          76.6936,
          77.58704,
          78.43528,
          80.1192,
          78.13968,
          78.24728,
          76.2776,
          78.95872,
          75.49896,
          70.46752,
          76.79736,
          78.63712,
          73.92624,
          76.00888,
          73.9156,
          77.27264,
          77.11528,
          72.6408,
          75.67496,
          78.36608,
          76.19768,
          75.96448,
          76.7016,
          75.90312,
          76.14856,
          77.1572,
          75.73432
         ]
        }
       ],
       "layout": {
        "annotations": [
         {
          "align": "left",
          "arrowcolor": "#636363",
          "arrowhead": 1,
          "arrowsize": 1,
          "arrowwidth": 2,
          "ax": -20,
          "ay": -30,
          "font": {
           "color": "purple",
           "family": "Sans Serif",
           "size": 12
          },
          "showarrow": false,
          "text": "LLC Size Per Node",
          "x": "512e6",
          "y": 130,
          "yanchor": "bottom"
         }
        ],
        "legend": {
         "bordercolor": "black",
         "borderwidth": 1
        },
        "shapes": [
         {
          "line": {
           "color": "green",
           "dash": "dash",
           "width": 3
          },
          "type": "line",
          "x0": 512000000,
          "x1": 512000000,
          "xref": "x",
          "y0": 0,
          "y1": 1,
          "yref": "y domain"
         }
        ],
        "template": {
         "data": {
          "bar": [
           {
            "error_x": {
             "color": "#2a3f5f"
            },
            "error_y": {
             "color": "#2a3f5f"
            },
            "marker": {
             "line": {
              "color": "#E5ECF6",
              "width": 0.5
             },
             "pattern": {
              "fillmode": "overlay",
              "size": 10,
              "solidity": 0.2
             }
            },
            "type": "bar"
           }
          ],
          "barpolar": [
           {
            "marker": {
             "line": {
              "color": "#E5ECF6",
              "width": 0.5
             },
             "pattern": {
              "fillmode": "overlay",
              "size": 10,
              "solidity": 0.2
             }
            },
            "type": "barpolar"
           }
          ],
          "carpet": [
           {
            "aaxis": {
             "endlinecolor": "#2a3f5f",
             "gridcolor": "white",
             "linecolor": "white",
             "minorgridcolor": "white",
             "startlinecolor": "#2a3f5f"
            },
            "baxis": {
             "endlinecolor": "#2a3f5f",
             "gridcolor": "white",
             "linecolor": "white",
             "minorgridcolor": "white",
             "startlinecolor": "#2a3f5f"
            },
            "type": "carpet"
           }
          ],
          "choropleth": [
           {
            "colorbar": {
             "outlinewidth": 0,
             "ticks": ""
            },
            "type": "choropleth"
           }
          ],
          "contour": [
           {
            "colorbar": {
             "outlinewidth": 0,
             "ticks": ""
            },
            "colorscale": [
             [
              0,
              "#0d0887"
             ],
             [
              0.1111111111111111,
              "#46039f"
             ],
             [
              0.2222222222222222,
              "#7201a8"
             ],
             [
              0.3333333333333333,
              "#9c179e"
             ],
             [
              0.4444444444444444,
              "#bd3786"
             ],
             [
              0.5555555555555556,
              "#d8576b"
             ],
             [
              0.6666666666666666,
              "#ed7953"
             ],
             [
              0.7777777777777778,
              "#fb9f3a"
             ],
             [
              0.8888888888888888,
              "#fdca26"
             ],
             [
              1,
              "#f0f921"
             ]
            ],
            "type": "contour"
           }
          ],
          "contourcarpet": [
           {
            "colorbar": {
             "outlinewidth": 0,
             "ticks": ""
            },
            "type": "contourcarpet"
           }
          ],
          "heatmap": [
           {
            "colorbar": {
             "outlinewidth": 0,
             "ticks": ""
            },
            "colorscale": [
             [
              0,
              "#0d0887"
             ],
             [
              0.1111111111111111,
              "#46039f"
             ],
             [
              0.2222222222222222,
              "#7201a8"
             ],
             [
              0.3333333333333333,
              "#9c179e"
             ],
             [
              0.4444444444444444,
              "#bd3786"
             ],
             [
              0.5555555555555556,
              "#d8576b"
             ],
             [
              0.6666666666666666,
              "#ed7953"
             ],
             [
              0.7777777777777778,
              "#fb9f3a"
             ],
             [
              0.8888888888888888,
              "#fdca26"
             ],
             [
              1,
              "#f0f921"
             ]
            ],
            "type": "heatmap"
           }
          ],
          "heatmapgl": [
           {
            "colorbar": {
             "outlinewidth": 0,
             "ticks": ""
            },
            "colorscale": [
             [
              0,
              "#0d0887"
             ],
             [
              0.1111111111111111,
              "#46039f"
             ],
             [
              0.2222222222222222,
              "#7201a8"
             ],
             [
              0.3333333333333333,
              "#9c179e"
             ],
             [
              0.4444444444444444,
              "#bd3786"
             ],
             [
              0.5555555555555556,
              "#d8576b"
             ],
             [
              0.6666666666666666,
              "#ed7953"
             ],
             [
              0.7777777777777778,
              "#fb9f3a"
             ],
             [
              0.8888888888888888,
              "#fdca26"
             ],
             [
              1,
              "#f0f921"
             ]
            ],
            "type": "heatmapgl"
           }
          ],
          "histogram": [
           {
            "marker": {
             "pattern": {
              "fillmode": "overlay",
              "size": 10,
              "solidity": 0.2
             }
            },
            "type": "histogram"
           }
          ],
          "histogram2d": [
           {
            "colorbar": {
             "outlinewidth": 0,
             "ticks": ""
            },
            "colorscale": [
             [
              0,
              "#0d0887"
             ],
             [
              0.1111111111111111,
              "#46039f"
             ],
             [
              0.2222222222222222,
              "#7201a8"
             ],
             [
              0.3333333333333333,
              "#9c179e"
             ],
             [
              0.4444444444444444,
              "#bd3786"
             ],
             [
              0.5555555555555556,
              "#d8576b"
             ],
             [
              0.6666666666666666,
              "#ed7953"
             ],
             [
              0.7777777777777778,
              "#fb9f3a"
             ],
             [
              0.8888888888888888,
              "#fdca26"
             ],
             [
              1,
              "#f0f921"
             ]
            ],
            "type": "histogram2d"
           }
          ],
          "histogram2dcontour": [
           {
            "colorbar": {
             "outlinewidth": 0,
             "ticks": ""
            },
            "colorscale": [
             [
              0,
              "#0d0887"
             ],
             [
              0.1111111111111111,
              "#46039f"
             ],
             [
              0.2222222222222222,
              "#7201a8"
             ],
             [
              0.3333333333333333,
              "#9c179e"
             ],
             [
              0.4444444444444444,
              "#bd3786"
             ],
             [
              0.5555555555555556,
              "#d8576b"
             ],
             [
              0.6666666666666666,
              "#ed7953"
             ],
             [
              0.7777777777777778,
              "#fb9f3a"
             ],
             [
              0.8888888888888888,
              "#fdca26"
             ],
             [
              1,
              "#f0f921"
             ]
            ],
            "type": "histogram2dcontour"
           }
          ],
          "mesh3d": [
           {
            "colorbar": {
             "outlinewidth": 0,
             "ticks": ""
            },
            "type": "mesh3d"
           }
          ],
          "parcoords": [
           {
            "line": {
             "colorbar": {
              "outlinewidth": 0,
              "ticks": ""
             }
            },
            "type": "parcoords"
           }
          ],
          "pie": [
           {
            "automargin": true,
            "type": "pie"
           }
          ],
          "scatter": [
           {
            "fillpattern": {
             "fillmode": "overlay",
             "size": 10,
             "solidity": 0.2
            },
            "type": "scatter"
           }
          ],
          "scatter3d": [
           {
            "line": {
             "colorbar": {
              "outlinewidth": 0,
              "ticks": ""
             }
            },
            "marker": {
             "colorbar": {
              "outlinewidth": 0,
              "ticks": ""
             }
            },
            "type": "scatter3d"
           }
          ],
          "scattercarpet": [
           {
            "marker": {
             "colorbar": {
              "outlinewidth": 0,
              "ticks": ""
             }
            },
            "type": "scattercarpet"
           }
          ],
          "scattergeo": [
           {
            "marker": {
             "colorbar": {
              "outlinewidth": 0,
              "ticks": ""
             }
            },
            "type": "scattergeo"
           }
          ],
          "scattergl": [
           {
            "marker": {
             "colorbar": {
              "outlinewidth": 0,
              "ticks": ""
             }
            },
            "type": "scattergl"
           }
          ],
          "scattermapbox": [
           {
            "marker": {
             "colorbar": {
              "outlinewidth": 0,
              "ticks": ""
             }
            },
            "type": "scattermapbox"
           }
          ],
          "scatterpolar": [
           {
            "marker": {
             "colorbar": {
              "outlinewidth": 0,
              "ticks": ""
             }
            },
            "type": "scatterpolar"
           }
          ],
          "scatterpolargl": [
           {
            "marker": {
             "colorbar": {
              "outlinewidth": 0,
              "ticks": ""
             }
            },
            "type": "scatterpolargl"
           }
          ],
          "scatterternary": [
           {
            "marker": {
             "colorbar": {
              "outlinewidth": 0,
              "ticks": ""
             }
            },
            "type": "scatterternary"
           }
          ],
          "surface": [
           {
            "colorbar": {
             "outlinewidth": 0,
             "ticks": ""
            },
            "colorscale": [
             [
              0,
              "#0d0887"
             ],
             [
              0.1111111111111111,
              "#46039f"
             ],
             [
              0.2222222222222222,
              "#7201a8"
             ],
             [
              0.3333333333333333,
              "#9c179e"
             ],
             [
              0.4444444444444444,
              "#bd3786"
             ],
             [
              0.5555555555555556,
              "#d8576b"
             ],
             [
              0.6666666666666666,
              "#ed7953"
             ],
             [
              0.7777777777777778,
              "#fb9f3a"
             ],
             [
              0.8888888888888888,
              "#fdca26"
             ],
             [
              1,
              "#f0f921"
             ]
            ],
            "type": "surface"
           }
          ],
          "table": [
           {
            "cells": {
             "fill": {
              "color": "#EBF0F8"
             },
             "line": {
              "color": "white"
             }
            },
            "header": {
             "fill": {
              "color": "#C8D4E3"
             },
             "line": {
              "color": "white"
             }
            },
            "type": "table"
           }
          ]
         },
         "layout": {
          "annotationdefaults": {
           "arrowcolor": "#2a3f5f",
           "arrowhead": 0,
           "arrowwidth": 1
          },
          "autotypenumbers": "strict",
          "coloraxis": {
           "colorbar": {
            "outlinewidth": 0,
            "ticks": ""
           }
          },
          "colorscale": {
           "diverging": [
            [
             0,
             "#8e0152"
            ],
            [
             0.1,
             "#c51b7d"
            ],
            [
             0.2,
             "#de77ae"
            ],
            [
             0.3,
             "#f1b6da"
            ],
            [
             0.4,
             "#fde0ef"
            ],
            [
             0.5,
             "#f7f7f7"
            ],
            [
             0.6,
             "#e6f5d0"
            ],
            [
             0.7,
             "#b8e186"
            ],
            [
             0.8,
             "#7fbc41"
            ],
            [
             0.9,
             "#4d9221"
            ],
            [
             1,
             "#276419"
            ]
           ],
           "sequential": [
            [
             0,
             "#0d0887"
            ],
            [
             0.1111111111111111,
             "#46039f"
            ],
            [
             0.2222222222222222,
             "#7201a8"
            ],
            [
             0.3333333333333333,
             "#9c179e"
            ],
            [
             0.4444444444444444,
             "#bd3786"
            ],
            [
             0.5555555555555556,
             "#d8576b"
            ],
            [
             0.6666666666666666,
             "#ed7953"
            ],
            [
             0.7777777777777778,
             "#fb9f3a"
            ],
            [
             0.8888888888888888,
             "#fdca26"
            ],
            [
             1,
             "#f0f921"
            ]
           ],
           "sequentialminus": [
            [
             0,
             "#0d0887"
            ],
            [
             0.1111111111111111,
             "#46039f"
            ],
            [
             0.2222222222222222,
             "#7201a8"
            ],
            [
             0.3333333333333333,
             "#9c179e"
            ],
            [
             0.4444444444444444,
             "#bd3786"
            ],
            [
             0.5555555555555556,
             "#d8576b"
            ],
            [
             0.6666666666666666,
             "#ed7953"
            ],
            [
             0.7777777777777778,
             "#fb9f3a"
            ],
            [
             0.8888888888888888,
             "#fdca26"
            ],
            [
             1,
             "#f0f921"
            ]
           ]
          },
          "colorway": [
           "#636efa",
           "#EF553B",
           "#00cc96",
           "#ab63fa",
           "#FFA15A",
           "#19d3f3",
           "#FF6692",
           "#B6E880",
           "#FF97FF",
           "#FECB52"
          ],
          "font": {
           "color": "#2a3f5f"
          },
          "geo": {
           "bgcolor": "white",
           "lakecolor": "white",
           "landcolor": "#E5ECF6",
           "showlakes": true,
           "showland": true,
           "subunitcolor": "white"
          },
          "hoverlabel": {
           "align": "left"
          },
          "hovermode": "closest",
          "mapbox": {
           "style": "light"
          },
          "paper_bgcolor": "white",
          "plot_bgcolor": "#E5ECF6",
          "polar": {
           "angularaxis": {
            "gridcolor": "white",
            "linecolor": "white",
            "ticks": ""
           },
           "bgcolor": "#E5ECF6",
           "radialaxis": {
            "gridcolor": "white",
            "linecolor": "white",
            "ticks": ""
           }
          },
          "scene": {
           "xaxis": {
            "backgroundcolor": "#E5ECF6",
            "gridcolor": "white",
            "gridwidth": 2,
            "linecolor": "white",
            "showbackground": true,
            "ticks": "",
            "zerolinecolor": "white"
           },
           "yaxis": {
            "backgroundcolor": "#E5ECF6",
            "gridcolor": "white",
            "gridwidth": 2,
            "linecolor": "white",
            "showbackground": true,
            "ticks": "",
            "zerolinecolor": "white"
           },
           "zaxis": {
            "backgroundcolor": "#E5ECF6",
            "gridcolor": "white",
            "gridwidth": 2,
            "linecolor": "white",
            "showbackground": true,
            "ticks": "",
            "zerolinecolor": "white"
           }
          },
          "shapedefaults": {
           "line": {
            "color": "#2a3f5f"
           }
          },
          "ternary": {
           "aaxis": {
            "gridcolor": "white",
            "linecolor": "white",
            "ticks": ""
           },
           "baxis": {
            "gridcolor": "white",
            "linecolor": "white",
            "ticks": ""
           },
           "bgcolor": "#E5ECF6",
           "caxis": {
            "gridcolor": "white",
            "linecolor": "white",
            "ticks": ""
           }
          },
          "title": {
           "x": 0.05
          },
          "xaxis": {
           "automargin": true,
           "gridcolor": "white",
           "linecolor": "white",
           "ticks": "",
           "title": {
            "standoff": 15
           },
           "zerolinecolor": "white",
           "zerolinewidth": 2
          },
          "yaxis": {
           "automargin": true,
           "gridcolor": "white",
           "linecolor": "white",
           "ticks": "",
           "title": {
            "standoff": 15
           },
           "zerolinecolor": "white",
           "zerolinewidth": 2
          }
         }
        },
        "title": {
         "text": "\"NonFused-AVX (2-Nodes): probempi vs nonprobempi\" GFlops Measurement"
        },
        "xaxis": {
         "ticks": "outside",
         "title": {
          "text": "Dirc_Data_Mov"
         }
        },
        "yaxis": {
         "ticks": "outside",
         "title": {
          "text": "GFLOPs/Node"
         }
        }
       }
      },
      "text/html": [
       "<div>                            <div id=\"e4a59851-d417-4141-a81c-07f226c58802\" class=\"plotly-graph-div\" style=\"height:525px; width:100%;\"></div>            <script type=\"text/javascript\">                require([\"plotly\"], function(Plotly) {                    window.PLOTLYENV=window.PLOTLYENV || {};                                    if (document.getElementById(\"e4a59851-d417-4141-a81c-07f226c58802\")) {                    Plotly.newPlot(                        \"e4a59851-d417-4141-a81c-07f226c58802\",                        [{\"line\":{\"color\":\"magenta\",\"width\":3},\"marker\":{\"line\":{\"color\":\"yellow\",\"width\":1},\"size\":9,\"symbol\":\"hexagon\"},\"mode\":\"lines+markers\",\"name\":\"AvxNonFusNonProb_256mpi_1omp\",\"x\":[1572864000.0,1966080000.0,2359296000.0,2752512000.0,3145728000.0,3538944000.0,3932160000.0],\"y\":[187.89248,197.69472,200.44672,189.66272,176.99712,164.70144,168.12928],\"type\":\"scatter\"},{\"line\":{\"color\":\"olive\",\"width\":3},\"marker\":{\"line\":{\"color\":\"yellow\",\"width\":1},\"size\":9,\"symbol\":\"hexagon\"},\"mode\":\"lines+markers\",\"name\":\"AvxNonFusProb_256mpi_1omp\",\"x\":[1572864000.0,1966080000.0,2359296000.0,2752512000.0,3145728000.0,3538944000.0,3932160000.0],\"y\":[248.2624,203.90912,199.07328,180.8832,179.65056,170.42816,158.67136],\"type\":\"scatter\"},{\"line\":{\"color\":\"sandybrown\",\"width\":3},\"marker\":{\"line\":{\"color\":\"MediumPurple\",\"width\":2},\"size\":5,\"symbol\":\"diamond\"},\"mode\":\"lines+markers\",\"name\":\"AvxNonFusNonProb_128mpi_2omp\",\"x\":[786432000.0,983040000.0,1179648000.0,1376256000.0,1572864000.0,1769472000.0,1966080000.0,2162688000.0,2359296000.0,2555904000.0,2752512000.0,2949120000.0,3145728000.0,3342336000.0,3538944000.0,3735552000.0],\"y\":[328.3168,321.65952,303.1104,273.57632,250.0768,236.19712,221.09184,206.33152,192.68992,187.91808,180.80832,177.89376,162.88832,165.24352,166.10304,163.87264],\"type\":\"scatter\"},{\"line\":{\"color\":\"royalblue\",\"width\":3},\"marker\":{\"line\":{\"color\":\"MediumPurple\",\"width\":2},\"size\":5,\"symbol\":\"diamond\"},\"mode\":\"lines+markers\",\"name\":\"AvxNonFusProb_128mpi_2omp\",\"x\":[786432000.0,983040000.0,1376256000.0,1179648000.0,1572864000.0,1769472000.0,1966080000.0,2162688000.0,2359296000.0,2752512000.0,2949120000.0,3145728000.0,3342336000.0,3538944000.0,3735552000.0,3932160000.0],\"y\":[315.1424,315.82016,283.27488,303.96096,255.376,235.24416,223.84256,200.03392,196.19648,181.53728,175.072,171.45792,167.4496,164.73024,158.44224,161.44768],\"type\":\"scatter\"},{\"line\":{\"color\":\"cyan\",\"width\":3},\"marker\":{\"line\":{\"color\":\"Purple\",\"width\":2},\"size\":7,\"symbol\":\"circle\"},\"mode\":\"lines+markers\",\"name\":\"AvxNonFusNonProb_64mpi_4omp\",\"x\":[589824000.0,688128000.0,786432000.0,884736000.0,983040000.0,1081344000.0,1179648000.0,1277952000.0,1376256000.0,1474560000.0,1572864000.0,1671168000.0,1769472000.0,1867776000.0,1966080000.0,2064384000.0,2162688000.0,2260992000.0,2359296000.0,2457600000.0,2555904000.0,2654208000.0,2752512000.0,2850816000.0,2949120000.0,3047424000.0,3145728000.0,3244032000.0,3342336000.0,3538944000.0,3440640000.0,3637248000.0,3735552000.0,3833856000.0,3932160000.0],\"y\":[256.83264,285.768,206.6016,246.28064,229.18336,235.96768,276.5504,263.3712,254.80832,247.5984,235.64,223.15776,216.90912,207.20512,204.24,192.17088,188.29696,187.8752,182.8432,176.47936,178.28224,168.3056,171.83456,166.0096,162.82784,162.47552,161.68384,160.46592,157.58528,155.00896,148.64704,155.19104,152.616,140.57024,150.1792],\"type\":\"scatter\"},{\"line\":{\"color\":\"darkblue\",\"width\":3},\"marker\":{\"line\":{\"color\":\"tomato\",\"width\":2},\"size\":7,\"symbol\":\"circle\"},\"mode\":\"lines+markers\",\"name\":\"AvxNonFusProb_64mpi_4omp\",\"x\":[589824000.0,688128000.0,786432000.0,884736000.0,983040000.0,1081344000.0,1179648000.0,1277952000.0,1474560000.0,1376256000.0,1572864000.0,1671168000.0,1769472000.0,1867776000.0,1966080000.0,2064384000.0,2162688000.0,2260992000.0,2359296000.0,2457600000.0,2555904000.0,2654208000.0,2752512000.0,2949120000.0,2850816000.0,3047424000.0,3145728000.0,3244032000.0,3342336000.0,3440640000.0,3538944000.0,3637248000.0,3735552000.0,3833856000.0,3932160000.0],\"y\":[275.49632,272.2624,284.20128,279.99488,284.01856,282.40544,277.73408,270.64224,242.43904,261.0992,241.91264,221.95552,213.42656,213.68032,188.7008,201.18688,197.2752,187.3408,186.2736,180.26784,175.8272,176.75328,172.13504,165.96384,167.91616,168.75136,162.74208,161.59872,159.90688,162.71264,155.89344,155.65984,156.11424,156.00736,151.9856],\"type\":\"scatter\"},{\"line\":{\"color\":\"red\",\"width\":3},\"marker\":{\"line\":{\"color\":\"red\",\"width\":2},\"size\":5,\"symbol\":\"circle\"},\"mode\":\"lines+markers\",\"name\":\"AvxFusNonProb_32mpi_8omp\",\"x\":[540672000.0,589824000.0,638976000.0,688128000.0,737280000.0,786432000.0,835584000.0,884736000.0,933888000.0,983040000.0,1032192000.0,1081344000.0,1130496000.0,1179648000.0,1228800000.0,1277952000.0,1327104000.0,1376256000.0,1425408000.0,1474560000.0,1523712000.0,1572864000.0,1622016000.0,1671168000.0,1720320000.0,1769472000.0,1818624000.0,1867776000.0,1916928000.0,1966080000.0,2015232000.0,2064384000.0,2113536000.0,2162688000.0,2211840000.0,2260992000.0,2310144000.0,2359296000.0,2408448000.0,2457600000.0,2506752000.0,2555904000.0,2605056000.0,2654208000.0,2703360000.0,2752512000.0,2801664000.0,2850816000.0,2899968000.0,2949120000.0,2998272000.0,3047424000.0,3096576000.0,3145728000.0,3194880000.0,3244032000.0,3293184000.0,3342336000.0,3391488000.0,3440640000.0,3489792000.0,3538944000.0,3588096000.0,3637248000.0,3686400000.0,3784704000.0,3735552000.0,3833856000.0,3883008000.0,3932160000.0],\"y\":[164.7152,169.7712,165.5296,188.408,190.4176,192.576,196.3984,200.7072,200.4256,202.2272,203.4016,191.08,188.5504,177.9648,167.9696,162.9264,205.3488,201.6336,202.4944,198.3024,187.9312,187.9632,159.30256,177.5648,160.5072,175.5824,173.4176,172.936,169.3904,166.76,164.2768,159.19152,162.2768,159.70944,160.6144,154.0536,153.75856,153.83344,151.09984,149.1448,151.05648,148.87616,132.08736,142.13088,146.96864,142.76128,143.84016,142.9584,144.39856,139.27536,140.44928,136.43104,138.86928,136.20256,138.17648,136.30096,136.45904,136.05088,137.44688,134.18512,133.19744,133.52944,134.59184,132.32272,131.70688,131.21408,130.72272,129.37184,130.8432,127.67888],\"type\":\"scatter\"},{\"line\":{\"color\":\"green\",\"width\":3},\"marker\":{\"line\":{\"color\":\"green\",\"width\":2},\"size\":5,\"symbol\":\"circle\"},\"mode\":\"lines+markers\",\"name\":\"AvxNonFusProb_32mpi_8omp\",\"x\":[540672000.0,589824000.0,638976000.0,688128000.0,737280000.0,786432000.0,835584000.0,884736000.0,933888000.0,983040000.0,1032192000.0,1081344000.0,1130496000.0,1179648000.0,1228800000.0,1277952000.0,1327104000.0,1376256000.0,1425408000.0,1474560000.0,1523712000.0,1572864000.0,1622016000.0,1671168000.0,1720320000.0,1769472000.0,1818624000.0,1867776000.0,1916928000.0,1966080000.0,2015232000.0,2064384000.0,2113536000.0,2162688000.0,2211840000.0,2260992000.0,2310144000.0,2359296000.0,2408448000.0,2457600000.0,2506752000.0,2555904000.0,2605056000.0,2654208000.0,2752512000.0,2703360000.0,2801664000.0,2850816000.0,2899968000.0,2949120000.0,2998272000.0,3047424000.0,3145728000.0,3096576000.0,3194880000.0,3244032000.0,3342336000.0,3293184000.0,3391488000.0,3440640000.0,3489792000.0,3538944000.0,3588096000.0,3637248000.0,3686400000.0,3735552000.0,3784704000.0,3833856000.0,3883008000.0],\"y\":[176.8656,166.8,191.9376,199.7504,209.9184,209.0192,214.7632,213.5168,217.336,213.8272,213.3808,201.9424,199.0528,177.7456,166.968,158.21168,185.9952,202.7952,204.0752,194.9408,187.9232,187.544,187.768,185.2128,186.6288,174.9952,177.48,169.9072,173.488,167.6128,166.0976,165.2208,167.8464,159.29632,162.9856,158.10352,163.616,154.2,152.51072,154.18704,153.04768,145.72592,149.49904,148.6696,145.61712,152.2368,133.37696,144.77152,144.14352,143.69728,143.02752,143.13936,142.13264,143.70352,140.55616,139.94464,131.94272,141.04688,136.64512,135.87392,138.6688,136.00096,135.69424,134.66384,136.47152,135.94432,130.98544,132.07248,133.73744],\"type\":\"scatter\"},{\"line\":{\"color\":\"blue\",\"width\":3},\"marker\":{\"line\":{\"color\":\"chocolate\",\"width\":2},\"size\":4,\"symbol\":\"triangle-up\"},\"mode\":\"lines+markers\",\"name\":\"AvxNonFusNonProb_16mpi_16omp\",\"x\":[540672000.0,516096000.0,565248000.0,589824000.0,614400000.0,638976000.0,688128000.0,663552000.0,712704000.0,737280000.0,761856000.0,786432000.0,811008000.0,835584000.0,860160000.0,884736000.0,909312000.0,933888000.0,958464000.0,983040000.0,1007616000.0,1032192000.0,1056768000.0,1081344000.0,1105920000.0,1179648000.0,1155072000.0,1130496000.0,1204224000.0,1228800000.0,1277952000.0,1253376000.0,1302528000.0,1327104000.0,1376256000.0,1400832000.0,1351680000.0,1425408000.0,1449984000.0,1474560000.0,1499136000.0,1523712000.0,1548288000.0,1572864000.0,1597440000.0,1646592000.0,1622016000.0,1671168000.0,1695744000.0,1720320000.0,1744896000.0,1769472000.0,1794048000.0,1818624000.0,1843200000.0,1867776000.0,1916928000.0,1892352000.0,1941504000.0,1966080000.0,1990656000.0,2015232000.0,2039808000.0,2064384000.0,2088960000.0,2113536000.0,2138112000.0,2162688000.0,2187264000.0,2211840000.0,2236416000.0,2260992000.0,2285568000.0,2310144000.0,2334720000.0,2359296000.0,2383872000.0,2408448000.0,2433024000.0,2457600000.0,2482176000.0,2531328000.0,2506752000.0,2555904000.0,2580480000.0,2605056000.0,2629632000.0,2654208000.0,2678784000.0,2703360000.0,2727936000.0,2752512000.0,2777088000.0,2801664000.0,2826240000.0,2850816000.0,2875392000.0,2924544000.0,2899968000.0,2949120000.0,2973696000.0,3022848000.0,2998272000.0,3047424000.0,3072000000.0,3096576000.0,3145728000.0,3121152000.0,3170304000.0,3194880000.0,3219456000.0,3244032000.0,3268608000.0,3293184000.0,3317760000.0,3391488000.0],\"y\":[90.18,90.2968,91.5,91.7456,90.4672,91.8328,93.124,87.5264,92.3312,91.312,91.3992,87.7408,90.7552,92.5248,87.3616,84.3184,85.1056,80.1744,83.4856,79.55752,75.70112,79.58512,77.70776,76.26672,73.52672,72.45144,74.32856,68.136,70.80672,69.09304,68.89768,72.00624,64.42528,68.15296,60.50408,69.34928,66.47296,67.2352,58.33456,79.2244,73.84888,62.10576,74.63264,61.7364,71.56704,67.52416,75.15256,62.58976,68.98936,77.5492,73.42136,73.66744,77.36088,74.63528,77.528,75.99016,66.55056,70.43896,71.10232,73.54496,71.21296,77.2076,75.42784,73.94072,80.9,75.156,75.65712,71.30136,76.11824,77.66432,75.70544,75.29648,76.59912,76.90912,75.88768,72.99008,74.79856,78.37608,73.61056,74.57784,76.96888,69.87792,74.0384,78.5416,75.03888,73.51024,75.8696,73.49776,73.7832,76.9408,71.53232,75.02824,72.71592,75.29568,75.00296,75.75624,76.43416,77.50608,71.7844,73.47272,77.01736,74.83704,70.06232,72.76416,74.41848,73.148,73.6132,68.06464,72.44128,72.7496,73.63064,73.3464,74.07056,72.242,74.10888,74.36432],\"type\":\"scatter\"},{\"line\":{\"color\":\"darkviolet\",\"width\":3},\"marker\":{\"line\":{\"color\":\"crimson\",\"width\":2},\"size\":4,\"symbol\":\"triangle-up\"},\"mode\":\"lines+markers\",\"name\":\"AvxNonFusProb_16mpi_16omp\",\"x\":[516096000.0,565248000.0,589824000.0,540672000.0,614400000.0,638976000.0,663552000.0,688128000.0,712704000.0,737280000.0,761856000.0,786432000.0,811008000.0,835584000.0,860160000.0,884736000.0,909312000.0,933888000.0,958464000.0,983040000.0,1007616000.0,1056768000.0,1032192000.0,1081344000.0,1105920000.0,1155072000.0,1130496000.0,1179648000.0,1204224000.0,1253376000.0,1228800000.0,1277952000.0,1302528000.0,1327104000.0,1351680000.0,1376256000.0,1400832000.0,1425408000.0,1449984000.0,1474560000.0,1499136000.0,1523712000.0,1548288000.0,1572864000.0,1597440000.0,1622016000.0,1646592000.0,1671168000.0,1695744000.0,1720320000.0,1744896000.0,1769472000.0,1794048000.0,1818624000.0,1843200000.0,1867776000.0,1892352000.0,1916928000.0,1941504000.0,1966080000.0,1990656000.0,2015232000.0,2039808000.0,2064384000.0,2088960000.0,2113536000.0,2138112000.0,2162688000.0,2187264000.0,2236416000.0,2211840000.0,2285568000.0,2310144000.0,2334720000.0,2359296000.0,2383872000.0,2408448000.0,2433024000.0,2457600000.0,2482176000.0,2531328000.0,2506752000.0,2555904000.0,2580480000.0,2605056000.0,2629632000.0,2654208000.0,2678784000.0,2703360000.0,2727936000.0,2752512000.0,2777088000.0,2801664000.0,2826240000.0,2850816000.0,2875392000.0,2899968000.0,2924544000.0,2949120000.0,2973696000.0,2998272000.0,3022848000.0,3047424000.0,3072000000.0,3096576000.0,3121152000.0,3145728000.0,3170304000.0,3194880000.0,3219456000.0,3244032000.0,3268608000.0,3293184000.0,3317760000.0,3342336000.0,3391488000.0,3416064000.0,3440640000.0,3465216000.0,3489792000.0],\"y\":[94.4232,96.6864,94.7048,95.9864,95.3128,98.78,95.9784,98.9848,97.3248,94.8872,93.0056,93.8856,94.3152,92.676,89.0456,88.692,84.4576,83.484,83.0408,81.1832,80.928,70.78328,80.7648,77.43568,78.94848,70.9904,75.80504,74.40336,72.04824,73.91144,68.20248,72.00656,72.13728,70.25176,73.15512,68.4332,70.58592,71.05064,69.11272,74.04608,70.9384,71.68296,74.80856,82.3888,74.1536,80.9144,75.982,71.3032,74.00448,72.91376,78.00736,76.0692,76.92288,64.80032,74.09328,78.04424,75.12608,79.72,77.02152,80.1736,80.4936,80.6904,81.0136,81.7872,80.7192,81.2432,79.67208,73.64224,81.196,79.32232,77.04992,80.1096,79.65816,73.39784,76.78464,78.98688,79.35728,78.97456,78.3672,80.7368,77.8964,74.33024,76.77368,77.4628,76.5216,78.4612,76.53288,78.59376,78.34072,78.91496,76.0732,77.28104,80.8936,76.6936,77.58704,78.43528,80.1192,78.13968,78.24728,76.2776,78.95872,75.49896,70.46752,76.79736,78.63712,73.92624,76.00888,73.9156,77.27264,77.11528,72.6408,75.67496,78.36608,76.19768,75.96448,76.7016,75.90312,76.14856,77.1572,75.73432],\"type\":\"scatter\"}],                        {\"template\":{\"data\":{\"histogram2dcontour\":[{\"type\":\"histogram2dcontour\",\"colorbar\":{\"outlinewidth\":0,\"ticks\":\"\"},\"colorscale\":[[0.0,\"#0d0887\"],[0.1111111111111111,\"#46039f\"],[0.2222222222222222,\"#7201a8\"],[0.3333333333333333,\"#9c179e\"],[0.4444444444444444,\"#bd3786\"],[0.5555555555555556,\"#d8576b\"],[0.6666666666666666,\"#ed7953\"],[0.7777777777777778,\"#fb9f3a\"],[0.8888888888888888,\"#fdca26\"],[1.0,\"#f0f921\"]]}],\"choropleth\":[{\"type\":\"choropleth\",\"colorbar\":{\"outlinewidth\":0,\"ticks\":\"\"}}],\"histogram2d\":[{\"type\":\"histogram2d\",\"colorbar\":{\"outlinewidth\":0,\"ticks\":\"\"},\"colorscale\":[[0.0,\"#0d0887\"],[0.1111111111111111,\"#46039f\"],[0.2222222222222222,\"#7201a8\"],[0.3333333333333333,\"#9c179e\"],[0.4444444444444444,\"#bd3786\"],[0.5555555555555556,\"#d8576b\"],[0.6666666666666666,\"#ed7953\"],[0.7777777777777778,\"#fb9f3a\"],[0.8888888888888888,\"#fdca26\"],[1.0,\"#f0f921\"]]}],\"heatmap\":[{\"type\":\"heatmap\",\"colorbar\":{\"outlinewidth\":0,\"ticks\":\"\"},\"colorscale\":[[0.0,\"#0d0887\"],[0.1111111111111111,\"#46039f\"],[0.2222222222222222,\"#7201a8\"],[0.3333333333333333,\"#9c179e\"],[0.4444444444444444,\"#bd3786\"],[0.5555555555555556,\"#d8576b\"],[0.6666666666666666,\"#ed7953\"],[0.7777777777777778,\"#fb9f3a\"],[0.8888888888888888,\"#fdca26\"],[1.0,\"#f0f921\"]]}],\"heatmapgl\":[{\"type\":\"heatmapgl\",\"colorbar\":{\"outlinewidth\":0,\"ticks\":\"\"},\"colorscale\":[[0.0,\"#0d0887\"],[0.1111111111111111,\"#46039f\"],[0.2222222222222222,\"#7201a8\"],[0.3333333333333333,\"#9c179e\"],[0.4444444444444444,\"#bd3786\"],[0.5555555555555556,\"#d8576b\"],[0.6666666666666666,\"#ed7953\"],[0.7777777777777778,\"#fb9f3a\"],[0.8888888888888888,\"#fdca26\"],[1.0,\"#f0f921\"]]}],\"contourcarpet\":[{\"type\":\"contourcarpet\",\"colorbar\":{\"outlinewidth\":0,\"ticks\":\"\"}}],\"contour\":[{\"type\":\"contour\",\"colorbar\":{\"outlinewidth\":0,\"ticks\":\"\"},\"colorscale\":[[0.0,\"#0d0887\"],[0.1111111111111111,\"#46039f\"],[0.2222222222222222,\"#7201a8\"],[0.3333333333333333,\"#9c179e\"],[0.4444444444444444,\"#bd3786\"],[0.5555555555555556,\"#d8576b\"],[0.6666666666666666,\"#ed7953\"],[0.7777777777777778,\"#fb9f3a\"],[0.8888888888888888,\"#fdca26\"],[1.0,\"#f0f921\"]]}],\"surface\":[{\"type\":\"surface\",\"colorbar\":{\"outlinewidth\":0,\"ticks\":\"\"},\"colorscale\":[[0.0,\"#0d0887\"],[0.1111111111111111,\"#46039f\"],[0.2222222222222222,\"#7201a8\"],[0.3333333333333333,\"#9c179e\"],[0.4444444444444444,\"#bd3786\"],[0.5555555555555556,\"#d8576b\"],[0.6666666666666666,\"#ed7953\"],[0.7777777777777778,\"#fb9f3a\"],[0.8888888888888888,\"#fdca26\"],[1.0,\"#f0f921\"]]}],\"mesh3d\":[{\"type\":\"mesh3d\",\"colorbar\":{\"outlinewidth\":0,\"ticks\":\"\"}}],\"scatter\":[{\"fillpattern\":{\"fillmode\":\"overlay\",\"size\":10,\"solidity\":0.2},\"type\":\"scatter\"}],\"parcoords\":[{\"type\":\"parcoords\",\"line\":{\"colorbar\":{\"outlinewidth\":0,\"ticks\":\"\"}}}],\"scatterpolargl\":[{\"type\":\"scatterpolargl\",\"marker\":{\"colorbar\":{\"outlinewidth\":0,\"ticks\":\"\"}}}],\"bar\":[{\"error_x\":{\"color\":\"#2a3f5f\"},\"error_y\":{\"color\":\"#2a3f5f\"},\"marker\":{\"line\":{\"color\":\"#E5ECF6\",\"width\":0.5},\"pattern\":{\"fillmode\":\"overlay\",\"size\":10,\"solidity\":0.2}},\"type\":\"bar\"}],\"scattergeo\":[{\"type\":\"scattergeo\",\"marker\":{\"colorbar\":{\"outlinewidth\":0,\"ticks\":\"\"}}}],\"scatterpolar\":[{\"type\":\"scatterpolar\",\"marker\":{\"colorbar\":{\"outlinewidth\":0,\"ticks\":\"\"}}}],\"histogram\":[{\"marker\":{\"pattern\":{\"fillmode\":\"overlay\",\"size\":10,\"solidity\":0.2}},\"type\":\"histogram\"}],\"scattergl\":[{\"type\":\"scattergl\",\"marker\":{\"colorbar\":{\"outlinewidth\":0,\"ticks\":\"\"}}}],\"scatter3d\":[{\"type\":\"scatter3d\",\"line\":{\"colorbar\":{\"outlinewidth\":0,\"ticks\":\"\"}},\"marker\":{\"colorbar\":{\"outlinewidth\":0,\"ticks\":\"\"}}}],\"scattermapbox\":[{\"type\":\"scattermapbox\",\"marker\":{\"colorbar\":{\"outlinewidth\":0,\"ticks\":\"\"}}}],\"scatterternary\":[{\"type\":\"scatterternary\",\"marker\":{\"colorbar\":{\"outlinewidth\":0,\"ticks\":\"\"}}}],\"scattercarpet\":[{\"type\":\"scattercarpet\",\"marker\":{\"colorbar\":{\"outlinewidth\":0,\"ticks\":\"\"}}}],\"carpet\":[{\"aaxis\":{\"endlinecolor\":\"#2a3f5f\",\"gridcolor\":\"white\",\"linecolor\":\"white\",\"minorgridcolor\":\"white\",\"startlinecolor\":\"#2a3f5f\"},\"baxis\":{\"endlinecolor\":\"#2a3f5f\",\"gridcolor\":\"white\",\"linecolor\":\"white\",\"minorgridcolor\":\"white\",\"startlinecolor\":\"#2a3f5f\"},\"type\":\"carpet\"}],\"table\":[{\"cells\":{\"fill\":{\"color\":\"#EBF0F8\"},\"line\":{\"color\":\"white\"}},\"header\":{\"fill\":{\"color\":\"#C8D4E3\"},\"line\":{\"color\":\"white\"}},\"type\":\"table\"}],\"barpolar\":[{\"marker\":{\"line\":{\"color\":\"#E5ECF6\",\"width\":0.5},\"pattern\":{\"fillmode\":\"overlay\",\"size\":10,\"solidity\":0.2}},\"type\":\"barpolar\"}],\"pie\":[{\"automargin\":true,\"type\":\"pie\"}]},\"layout\":{\"autotypenumbers\":\"strict\",\"colorway\":[\"#636efa\",\"#EF553B\",\"#00cc96\",\"#ab63fa\",\"#FFA15A\",\"#19d3f3\",\"#FF6692\",\"#B6E880\",\"#FF97FF\",\"#FECB52\"],\"font\":{\"color\":\"#2a3f5f\"},\"hovermode\":\"closest\",\"hoverlabel\":{\"align\":\"left\"},\"paper_bgcolor\":\"white\",\"plot_bgcolor\":\"#E5ECF6\",\"polar\":{\"bgcolor\":\"#E5ECF6\",\"angularaxis\":{\"gridcolor\":\"white\",\"linecolor\":\"white\",\"ticks\":\"\"},\"radialaxis\":{\"gridcolor\":\"white\",\"linecolor\":\"white\",\"ticks\":\"\"}},\"ternary\":{\"bgcolor\":\"#E5ECF6\",\"aaxis\":{\"gridcolor\":\"white\",\"linecolor\":\"white\",\"ticks\":\"\"},\"baxis\":{\"gridcolor\":\"white\",\"linecolor\":\"white\",\"ticks\":\"\"},\"caxis\":{\"gridcolor\":\"white\",\"linecolor\":\"white\",\"ticks\":\"\"}},\"coloraxis\":{\"colorbar\":{\"outlinewidth\":0,\"ticks\":\"\"}},\"colorscale\":{\"sequential\":[[0.0,\"#0d0887\"],[0.1111111111111111,\"#46039f\"],[0.2222222222222222,\"#7201a8\"],[0.3333333333333333,\"#9c179e\"],[0.4444444444444444,\"#bd3786\"],[0.5555555555555556,\"#d8576b\"],[0.6666666666666666,\"#ed7953\"],[0.7777777777777778,\"#fb9f3a\"],[0.8888888888888888,\"#fdca26\"],[1.0,\"#f0f921\"]],\"sequentialminus\":[[0.0,\"#0d0887\"],[0.1111111111111111,\"#46039f\"],[0.2222222222222222,\"#7201a8\"],[0.3333333333333333,\"#9c179e\"],[0.4444444444444444,\"#bd3786\"],[0.5555555555555556,\"#d8576b\"],[0.6666666666666666,\"#ed7953\"],[0.7777777777777778,\"#fb9f3a\"],[0.8888888888888888,\"#fdca26\"],[1.0,\"#f0f921\"]],\"diverging\":[[0,\"#8e0152\"],[0.1,\"#c51b7d\"],[0.2,\"#de77ae\"],[0.3,\"#f1b6da\"],[0.4,\"#fde0ef\"],[0.5,\"#f7f7f7\"],[0.6,\"#e6f5d0\"],[0.7,\"#b8e186\"],[0.8,\"#7fbc41\"],[0.9,\"#4d9221\"],[1,\"#276419\"]]},\"xaxis\":{\"gridcolor\":\"white\",\"linecolor\":\"white\",\"ticks\":\"\",\"title\":{\"standoff\":15},\"zerolinecolor\":\"white\",\"automargin\":true,\"zerolinewidth\":2},\"yaxis\":{\"gridcolor\":\"white\",\"linecolor\":\"white\",\"ticks\":\"\",\"title\":{\"standoff\":15},\"zerolinecolor\":\"white\",\"automargin\":true,\"zerolinewidth\":2},\"scene\":{\"xaxis\":{\"backgroundcolor\":\"#E5ECF6\",\"gridcolor\":\"white\",\"linecolor\":\"white\",\"showbackground\":true,\"ticks\":\"\",\"zerolinecolor\":\"white\",\"gridwidth\":2},\"yaxis\":{\"backgroundcolor\":\"#E5ECF6\",\"gridcolor\":\"white\",\"linecolor\":\"white\",\"showbackground\":true,\"ticks\":\"\",\"zerolinecolor\":\"white\",\"gridwidth\":2},\"zaxis\":{\"backgroundcolor\":\"#E5ECF6\",\"gridcolor\":\"white\",\"linecolor\":\"white\",\"showbackground\":true,\"ticks\":\"\",\"zerolinecolor\":\"white\",\"gridwidth\":2}},\"shapedefaults\":{\"line\":{\"color\":\"#2a3f5f\"}},\"annotationdefaults\":{\"arrowcolor\":\"#2a3f5f\",\"arrowhead\":0,\"arrowwidth\":1},\"geo\":{\"bgcolor\":\"white\",\"landcolor\":\"#E5ECF6\",\"subunitcolor\":\"white\",\"showland\":true,\"showlakes\":true,\"lakecolor\":\"white\"},\"title\":{\"x\":0.05},\"mapbox\":{\"style\":\"light\"}}},\"shapes\":[{\"line\":{\"color\":\"green\",\"dash\":\"dash\",\"width\":3},\"type\":\"line\",\"x0\":512000000.0,\"x1\":512000000.0,\"xref\":\"x\",\"y0\":0,\"y1\":1,\"yref\":\"y domain\"}],\"annotations\":[{\"align\":\"left\",\"arrowcolor\":\"#636363\",\"arrowhead\":1,\"arrowsize\":1,\"arrowwidth\":2,\"ax\":-20,\"ay\":-30,\"font\":{\"color\":\"purple\",\"family\":\"Sans Serif\",\"size\":12},\"showarrow\":false,\"text\":\"LLC Size Per Node\",\"x\":\"512e6\",\"y\":130,\"yanchor\":\"bottom\"}],\"xaxis\":{\"title\":{\"text\":\"Dirc_Data_Mov\"},\"ticks\":\"outside\"},\"yaxis\":{\"title\":{\"text\":\"GFLOPs/Node\"},\"ticks\":\"outside\"},\"title\":{\"text\":\"\\\"NonFused-AVX (2-Nodes): probempi vs nonprobempi\\\" GFlops Measurement\"},\"legend\":{\"bordercolor\":\"black\",\"borderwidth\":1}},                        {\"responsive\": true}                    ).then(function(){\n",
       "                            \n",
       "var gd = document.getElementById('e4a59851-d417-4141-a81c-07f226c58802');\n",
       "var x = new MutationObserver(function (mutations, observer) {{\n",
       "        var display = window.getComputedStyle(gd).display;\n",
       "        if (!display || display === 'none') {{\n",
       "            console.log([gd, 'removed!']);\n",
       "            Plotly.purge(gd);\n",
       "            observer.disconnect();\n",
       "        }}\n",
       "}});\n",
       "\n",
       "// Listen for the removal of the full notebook cells\n",
       "var notebookContainer = gd.closest('#notebook-container');\n",
       "if (notebookContainer) {{\n",
       "    x.observe(notebookContainer, {childList: true});\n",
       "}}\n",
       "\n",
       "// Listen for the clearing of the current output cell\n",
       "var outputEl = gd.closest('.output');\n",
       "if (outputEl) {{\n",
       "    x.observe(outputEl, {childList: true});\n",
       "}}\n",
       "\n",
       "                        })                };                });            </script>        </div>"
      ]
     },
     "metadata": {},
     "output_type": "display_data"
    }
   ],
   "source": [
    "fig = go.Figure() \n",
    "\n",
    "fig.add_trace(go.Scatter(x=(dfn2AvxNonFusNonProb_256mpi_1omp.Dirc_Data_Mov*(dfn2AvxNonFusNonProb_256mpi_1omp.MPI_size/2)), \n",
    "                         y=(dfn2AvxNonFusNonProb_256mpi_1omp.GFLOPS*(dfn2AvxNonFusNonProb_256mpi_1omp.MPI_size/2)), \n",
    "                         mode='lines+markers', \n",
    "                         name='AvxNonFusNonProb_256mpi_1omp',\n",
    "                         line=dict(color='magenta',width=3),\n",
    "                         marker=dict(symbol='hexagon',size=9, line=dict(color='yellow',width=1))))\n",
    "\n",
    "\n",
    "fig.add_trace(go.Scatter(x=(dfn2AvxNonFusProb_256mpi_1omp.Dirc_Data_Mov*(dfn2AvxNonFusProb_256mpi_1omp.MPI_size/2)), \n",
    "                         y=(dfn2AvxNonFusProb_256mpi_1omp.GFLOPS*(dfn2AvxNonFusProb_256mpi_1omp.MPI_size/2)), \n",
    "                         mode='lines+markers', \n",
    "                         name='AvxNonFusProb_256mpi_1omp',\n",
    "                         line=dict(color='olive',width=3),\n",
    "                         marker=dict(symbol='hexagon',size=9, line=dict(color='yellow',width=1))))\n",
    "\n",
    "# case 2\n",
    "fig.add_trace(go.Scatter(x=(dfn2AvxNonFusNonProb_128mpi_2omp.Dirc_Data_Mov*(dfn2AvxNonFusNonProb_128mpi_2omp.MPI_size/2)), \n",
    "                         y=(dfn2AvxNonFusNonProb_128mpi_2omp.GFLOPS*(dfn2AvxNonFusNonProb_128mpi_2omp.MPI_size/2)), \n",
    "                         mode='lines+markers', \n",
    "                         name='AvxNonFusNonProb_128mpi_2omp',\n",
    "                         line=dict(color='sandybrown',width=3),\n",
    "                         marker=dict(symbol='diamond',size=5,line=dict(color='MediumPurple',width=2))))\n",
    "\n",
    "fig.add_trace(go.Scatter(x=(dfn2AvxNonFusProb_128mpi_2omp.Dirc_Data_Mov*(dfn2AvxNonFusProb_128mpi_2omp.MPI_size/2)), \n",
    "                         y=(dfn2AvxNonFusProb_128mpi_2omp.GFLOPS*(dfn2AvxNonFusProb_128mpi_2omp.MPI_size/2)), \n",
    "                         mode='lines+markers', \n",
    "                         name='AvxNonFusProb_128mpi_2omp',\n",
    "                         line=dict(color='royalblue',width=3),\n",
    "                         marker=dict(symbol='diamond',size=5,line=dict(color='MediumPurple',width=2))))\n",
    "\n",
    "# case 3\n",
    "fig.add_trace(go.Scatter(x=(dfn2AvxNonFusNonProb_64mpi_4omp.Dirc_Data_Mov*(dfn2AvxNonFusNonProb_64mpi_4omp.MPI_size/2)), \n",
    "                         y=(dfn2AvxNonFusNonProb_64mpi_4omp.GFLOPS*(dfn2AvxNonFusNonProb_64mpi_4omp.MPI_size/2)), \n",
    "                         mode='lines+markers', \n",
    "                         name='AvxNonFusNonProb_64mpi_4omp',\n",
    "                         line=dict(color='cyan',width=3),\n",
    "                         marker=dict(symbol='circle',size=7,line=dict(color='Purple',width=2))))\n",
    "\n",
    "fig.add_trace(go.Scatter(x=(dfn2AvxNonFusProb_64mpi_4omp.Dirc_Data_Mov*(dfn2AvxNonFusProb_64mpi_4omp.MPI_size/2)), \n",
    "                         y=(dfn2AvxNonFusProb_64mpi_4omp.GFLOPS*(dfn2AvxNonFusProb_64mpi_4omp.MPI_size/2)), \n",
    "                         mode='lines+markers', \n",
    "                         name='AvxNonFusProb_64mpi_4omp',\n",
    "                         line=dict(color='darkblue',width=3),\n",
    "                         marker=dict(symbol='circle',size=7, line=dict(color='tomato',width=2))))\n",
    "\n",
    "# case 4\n",
    "fig.add_trace(go.Scatter(x=(dfn2AvxNonFusNonProb_32mpi_8omp.Dirc_Data_Mov*(dfn2AvxNonFusNonProb_32mpi_8omp.MPI_size/2)), \n",
    "                         y=(dfn2AvxNonFusNonProb_32mpi_8omp.GFLOPS*(dfn2AvxNonFusNonProb_32mpi_8omp.MPI_size/2)), \n",
    "                         mode='lines+markers', \n",
    "                         name='AvxFusNonProb_32mpi_8omp',\n",
    "                         line=dict(color='red',width=3),\n",
    "                         marker=dict(symbol='circle',size=5,line=dict(color='red',width=2))))\n",
    "\n",
    "fig.add_trace(go.Scatter(x=(dfn2AvxNonFusProb_32mpi_8omp.Dirc_Data_Mov*(dfn2AvxNonFusProb_32mpi_8omp.MPI_size/2)), \n",
    "                         y=(dfn2AvxNonFusProb_32mpi_8omp.GFLOPS*(dfn2AvxNonFusProb_32mpi_8omp.MPI_size/2)), \n",
    "                         mode='lines+markers', \n",
    "                         name='AvxNonFusProb_32mpi_8omp',\n",
    "                         line=dict(color='green',width=3),\n",
    "                         marker=dict(symbol='circle',size=5,line=dict(color='green',width=2))))\n",
    "\n",
    "# case 5\n",
    "\n",
    "fig.add_trace(go.Scatter(x=(dfn2AvxNonFusNonProb_16mpi_16omp.Dirc_Data_Mov*(dfn2AvxNonFusNonProb_16mpi_16omp.MPI_size/2)), \n",
    "                         y=(dfn2AvxNonFusNonProb_16mpi_16omp.GFLOPS*(dfn2AvxNonFusNonProb_16mpi_16omp.MPI_size/2)), \n",
    "                         mode='lines+markers', \n",
    "                         name='AvxNonFusNonProb_16mpi_16omp',\n",
    "                         line=dict(color='blue',width=3),\n",
    "                         marker=dict(symbol='triangle-up',size=4,line=dict(color='chocolate',width=2))))\n",
    "\n",
    "fig.add_trace(go.Scatter(x=(dfn2AvxNonFusProb_16mpi_16omp.Dirc_Data_Mov*(dfn2AvxNonFusProb_16mpi_16omp.MPI_size/2)), \n",
    "                         y=(dfn2AvxNonFusProb_16mpi_16omp.GFLOPS*(dfn2AvxNonFusProb_16mpi_16omp.MPI_size/2)), \n",
    "                         mode='lines+markers', \n",
    "                         name='AvxNonFusProb_16mpi_16omp',\n",
    "                         line=dict(color='darkviolet',width=3),\n",
    "                         marker=dict(symbol='triangle-up',size=4,line=dict(color='crimson',width=2))))\n",
    "\n",
    "\n",
    "\n",
    "# Adding a vertical line\n",
    "fig.add_vline(x=512e6, line_width=3, line_dash=\"dash\", line_color=\"green\")\n",
    "# fig.add_hline(y=1024, line_width=3, line_dash=\"dash\", line_color=\"red\")\n",
    "\n",
    "# Add annotation\n",
    "fig.add_annotation(\n",
    "    x='512e6'\n",
    "    , y=130\n",
    "    , text=f'LLC Size Per Node'\n",
    "    , yanchor='bottom'\n",
    "    , showarrow=False\n",
    "    , arrowhead=1\n",
    "    , arrowsize=1\n",
    "    , arrowwidth=2\n",
    "    , arrowcolor=\"#636363\"\n",
    "    , ax=-20\n",
    "    , ay=-30\n",
    "    , font=dict(size=12, color=\"purple\", family=\"Sans Serif\")\n",
    "    , align=\"left\"\n",
    "    ,)\n",
    "\n",
    "fig.update_layout(title='\"NonFused-AVX (2-Nodes): probempi vs nonprobempi\" GFlops Measurement',\n",
    "                  xaxis_title='Dirc_Data_Mov', yaxis_title='GFLOPs/Node', \n",
    "                  xaxis=dict(ticks=\"outside\"),  \n",
    "                  yaxis=dict(ticks=\"outside\"),\n",
    "                  legend=go.layout.Legend(bordercolor=\"black\",borderwidth=1))"
   ]
  },
  {
   "cell_type": "code",
   "execution_count": null,
   "id": "5ff15f67",
   "metadata": {},
   "outputs": [],
   "source": []
  },
  {
   "cell_type": "markdown",
   "id": "bd58ff1c",
   "metadata": {},
   "source": [
    "## 5) Newgeo_AVX_Probempi"
   ]
  },
  {
   "cell_type": "markdown",
   "id": "9bf44e59",
   "metadata": {},
   "source": [
    "### Adding Columns"
   ]
  },
  {
   "cell_type": "code",
   "execution_count": 133,
   "id": "67d98b48",
   "metadata": {},
   "outputs": [],
   "source": [
    "dfn2_avx_newgeo_probempi[\"N_Nodes\"] = 2\n",
    "dfn2_avx_newgeo_probempi['NPX'] = (dfn2_avx_newgeo_probempi.GLB_X//dfn2_avx_newgeo_probempi.LOC_X)\n",
    "dfn2_avx_newgeo_probempi['NPY'] = (dfn2_avx_newgeo_probempi.GLB_Y//dfn2_avx_newgeo_probempi.LOC_Y)\n",
    "dfn2_avx_newgeo_probempi['NPZ'] = (dfn2_avx_newgeo_probempi.GLB_Z//dfn2_avx_newgeo_probempi.LOC_Z)\n",
    "dfn2_avx_newgeo_probempi['NPT'] = (dfn2_avx_newgeo_probempi.GLB_T//dfn2_avx_newgeo_probempi.LOC_T)\n",
    "dfn2_avx_newgeo_probempi[\"Total_proc\"] = dfn2_avx_newgeo_probempi[\"omp_thrd\"]* dfn2_avx_newgeo_probempi.MPI_size\n",
    "# dfn2_avx_newgeo_probempi.columns"
   ]
  },
  {
   "cell_type": "markdown",
   "id": "2ee3d7e4",
   "metadata": {},
   "source": [
    "### Data Summary"
   ]
  },
  {
   "cell_type": "code",
   "execution_count": 134,
   "id": "68fda51d",
   "metadata": {},
   "outputs": [
    {
     "data": {
      "text/html": [
       "<div>\n",
       "<style scoped>\n",
       "    .dataframe tbody tr th:only-of-type {\n",
       "        vertical-align: middle;\n",
       "    }\n",
       "\n",
       "    .dataframe tbody tr th {\n",
       "        vertical-align: top;\n",
       "    }\n",
       "\n",
       "    .dataframe thead th {\n",
       "        text-align: right;\n",
       "    }\n",
       "</style>\n",
       "<table border=\"1\" class=\"dataframe\">\n",
       "  <thead>\n",
       "    <tr style=\"text-align: right;\">\n",
       "      <th></th>\n",
       "      <th>MPI_size</th>\n",
       "      <th>omp_thrd</th>\n",
       "      <th>NPT</th>\n",
       "      <th>NPX</th>\n",
       "      <th>NPY</th>\n",
       "      <th>NPZ</th>\n",
       "      <th>Total_proc</th>\n",
       "      <th>size</th>\n",
       "    </tr>\n",
       "  </thead>\n",
       "  <tbody>\n",
       "    <tr>\n",
       "      <th>0</th>\n",
       "      <td>16</td>\n",
       "      <td>16</td>\n",
       "      <td>2</td>\n",
       "      <td>2</td>\n",
       "      <td>2</td>\n",
       "      <td>2</td>\n",
       "      <td>256</td>\n",
       "      <td>139</td>\n",
       "    </tr>\n",
       "    <tr>\n",
       "      <th>1</th>\n",
       "      <td>32</td>\n",
       "      <td>8</td>\n",
       "      <td>4</td>\n",
       "      <td>2</td>\n",
       "      <td>2</td>\n",
       "      <td>2</td>\n",
       "      <td>256</td>\n",
       "      <td>68</td>\n",
       "    </tr>\n",
       "    <tr>\n",
       "      <th>2</th>\n",
       "      <td>64</td>\n",
       "      <td>4</td>\n",
       "      <td>8</td>\n",
       "      <td>2</td>\n",
       "      <td>2</td>\n",
       "      <td>2</td>\n",
       "      <td>256</td>\n",
       "      <td>34</td>\n",
       "    </tr>\n",
       "    <tr>\n",
       "      <th>3</th>\n",
       "      <td>128</td>\n",
       "      <td>2</td>\n",
       "      <td>16</td>\n",
       "      <td>2</td>\n",
       "      <td>2</td>\n",
       "      <td>2</td>\n",
       "      <td>256</td>\n",
       "      <td>17</td>\n",
       "    </tr>\n",
       "    <tr>\n",
       "      <th>4</th>\n",
       "      <td>248</td>\n",
       "      <td>1</td>\n",
       "      <td>31</td>\n",
       "      <td>2</td>\n",
       "      <td>2</td>\n",
       "      <td>2</td>\n",
       "      <td>248</td>\n",
       "      <td>4</td>\n",
       "    </tr>\n",
       "    <tr>\n",
       "      <th>5</th>\n",
       "      <td>256</td>\n",
       "      <td>1</td>\n",
       "      <td>32</td>\n",
       "      <td>2</td>\n",
       "      <td>2</td>\n",
       "      <td>2</td>\n",
       "      <td>256</td>\n",
       "      <td>7</td>\n",
       "    </tr>\n",
       "  </tbody>\n",
       "</table>\n",
       "</div>"
      ],
      "text/plain": [
       "   MPI_size  omp_thrd  NPT  NPX  NPY  NPZ  Total_proc  size\n",
       "0        16        16    2    2    2    2         256   139\n",
       "1        32         8    4    2    2    2         256    68\n",
       "2        64         4    8    2    2    2         256    34\n",
       "3       128         2   16    2    2    2         256    17\n",
       "4       248         1   31    2    2    2         248     4\n",
       "5       256         1   32    2    2    2         256     7"
      ]
     },
     "execution_count": 134,
     "metadata": {},
     "output_type": "execute_result"
    }
   ],
   "source": [
    "dfn2_avx_newgeo_probempi_summary = dfn2_avx_newgeo_probempi.groupby(['MPI_size','omp_thrd','NPT','NPX', 'NPY', 'NPZ',\"Total_proc\"]).size().reset_index(name = 'size')\n",
    "dfn2_avx_newgeo_probempi_summary"
   ]
  },
  {
   "cell_type": "markdown",
   "id": "70d136b0",
   "metadata": {},
   "source": [
    "### Cases Setup"
   ]
  },
  {
   "cell_type": "code",
   "execution_count": 135,
   "id": "f406d383",
   "metadata": {},
   "outputs": [],
   "source": [
    "dfn2AvxNewgeoProb_16mpi_16omp = dfn2_avx_newgeo_probempi[(dfn2_avx_newgeo_probempi.omp_thrd == 16) & (dfn2_avx_newgeo_probempi.GLB_T/dfn2_avx_newgeo_probempi.LOC_T == 2) & (dfn2_avx_newgeo_probempi.GLB_X/dfn2_avx_newgeo_probempi.LOC_X == 2) & (dfn2_avx_newgeo_probempi.GLB_Y/dfn2_avx_newgeo_probempi.LOC_Y == 2)& (dfn2_avx_newgeo_probempi.GLB_Z/dfn2_avx_newgeo_probempi.LOC_Z == 2)]\n",
    "dfn2AvxNewgeoProb_32mpi_8omp = dfn2_avx_newgeo_probempi[(dfn2_avx_newgeo_probempi.omp_thrd == 8) & (dfn2_avx_newgeo_probempi.GLB_T/dfn2_avx_newgeo_probempi.LOC_T == 4) & (dfn2_avx_newgeo_probempi.GLB_X/dfn2_avx_newgeo_probempi.LOC_X == 2) & (dfn2_avx_newgeo_probempi.GLB_Y/dfn2_avx_newgeo_probempi.LOC_Y == 2)& (dfn2_avx_newgeo_probempi.GLB_Z/dfn2_avx_newgeo_probempi.LOC_Z == 2)]\n",
    "dfn2AvxNewgeoProb_64mpi_4omp = dfn2_avx_newgeo_probempi[(dfn2_avx_newgeo_probempi.omp_thrd == 4) & (dfn2_avx_newgeo_probempi.GLB_T/dfn2_avx_newgeo_probempi.LOC_T == 8) & (dfn2_avx_newgeo_probempi.GLB_X/dfn2_avx_newgeo_probempi.LOC_X == 2) & (dfn2_avx_newgeo_probempi.GLB_Y/dfn2_avx_newgeo_probempi.LOC_Y == 2)& (dfn2_avx_newgeo_probempi.GLB_Z/dfn2_avx_newgeo_probempi.LOC_Z == 2)]\n",
    "dfn2AvxNewgeoProb_128mpi_2omp = dfn2_avx_newgeo_probempi[(dfn2_avx_newgeo_probempi.omp_thrd == 2) & (dfn2_avx_newgeo_probempi.GLB_T/dfn2_avx_newgeo_probempi.LOC_T == 16) & (dfn2_avx_newgeo_probempi.GLB_X/dfn2_avx_newgeo_probempi.LOC_X == 2) & (dfn2_avx_newgeo_probempi.GLB_Y/dfn2_avx_newgeo_probempi.LOC_Y == 2)& (dfn2_avx_newgeo_probempi.GLB_Z/dfn2_avx_newgeo_probempi.LOC_Z == 2)]\n",
    "dfn2AvxNewgeoProb_256mpi_1omp = dfn2_avx_newgeo_probempi[(dfn2_avx_newgeo_probempi.omp_thrd == 1) & (dfn2_avx_newgeo_probempi.GLB_T/dfn2_avx_newgeo_probempi.LOC_T == 32) & (dfn2_avx_newgeo_probempi.GLB_X/dfn2_avx_newgeo_probempi.LOC_X == 2) & (dfn2_avx_newgeo_probempi.GLB_Y/dfn2_avx_newgeo_probempi.LOC_Y == 2)& (dfn2_avx_newgeo_probempi.GLB_Z/dfn2_avx_newgeo_probempi.LOC_Z == 2)]\n"
   ]
  },
  {
   "cell_type": "markdown",
   "id": "4c424b50",
   "metadata": {},
   "source": [
    "## 6) Newgeo_AVX_NonProbempi"
   ]
  },
  {
   "cell_type": "markdown",
   "id": "2c400edb",
   "metadata": {},
   "source": [
    "### Adding Columns"
   ]
  },
  {
   "cell_type": "code",
   "execution_count": 136,
   "id": "907a73d1",
   "metadata": {},
   "outputs": [],
   "source": [
    "dfn2_avx_newgeo_nonprobempi[\"N_Nodes\"] = 2\n",
    "dfn2_avx_newgeo_nonprobempi['NPX'] = (dfn2_avx_newgeo_nonprobempi.GLB_X//dfn2_avx_newgeo_nonprobempi.LOC_X)\n",
    "dfn2_avx_newgeo_nonprobempi['NPY'] = (dfn2_avx_newgeo_nonprobempi.GLB_Y//dfn2_avx_newgeo_nonprobempi.LOC_Y)\n",
    "dfn2_avx_newgeo_nonprobempi['NPZ'] = (dfn2_avx_newgeo_nonprobempi.GLB_Z//dfn2_avx_newgeo_nonprobempi.LOC_Z)\n",
    "dfn2_avx_newgeo_nonprobempi['NPT'] = (dfn2_avx_newgeo_nonprobempi.GLB_T//dfn2_avx_newgeo_nonprobempi.LOC_T)\n",
    "dfn2_avx_newgeo_nonprobempi[\"Total_proc\"] = dfn2_avx_newgeo_nonprobempi[\"omp_thrd\"]* dfn2_avx_newgeo_nonprobempi.MPI_size\n",
    "# dfn2_avx_newgeo_nonprobempi.columns"
   ]
  },
  {
   "cell_type": "markdown",
   "id": "ef58c932",
   "metadata": {},
   "source": [
    "### Data Summary"
   ]
  },
  {
   "cell_type": "code",
   "execution_count": 137,
   "id": "7fb7febb",
   "metadata": {},
   "outputs": [
    {
     "data": {
      "text/html": [
       "<div>\n",
       "<style scoped>\n",
       "    .dataframe tbody tr th:only-of-type {\n",
       "        vertical-align: middle;\n",
       "    }\n",
       "\n",
       "    .dataframe tbody tr th {\n",
       "        vertical-align: top;\n",
       "    }\n",
       "\n",
       "    .dataframe thead th {\n",
       "        text-align: right;\n",
       "    }\n",
       "</style>\n",
       "<table border=\"1\" class=\"dataframe\">\n",
       "  <thead>\n",
       "    <tr style=\"text-align: right;\">\n",
       "      <th></th>\n",
       "      <th>MPI_size</th>\n",
       "      <th>omp_thrd</th>\n",
       "      <th>NPT</th>\n",
       "      <th>NPX</th>\n",
       "      <th>NPY</th>\n",
       "      <th>NPZ</th>\n",
       "      <th>Total_proc</th>\n",
       "      <th>size</th>\n",
       "    </tr>\n",
       "  </thead>\n",
       "  <tbody>\n",
       "    <tr>\n",
       "      <th>0</th>\n",
       "      <td>16</td>\n",
       "      <td>16</td>\n",
       "      <td>2</td>\n",
       "      <td>2</td>\n",
       "      <td>2</td>\n",
       "      <td>2</td>\n",
       "      <td>256</td>\n",
       "      <td>139</td>\n",
       "    </tr>\n",
       "    <tr>\n",
       "      <th>1</th>\n",
       "      <td>32</td>\n",
       "      <td>8</td>\n",
       "      <td>4</td>\n",
       "      <td>2</td>\n",
       "      <td>2</td>\n",
       "      <td>2</td>\n",
       "      <td>256</td>\n",
       "      <td>70</td>\n",
       "    </tr>\n",
       "    <tr>\n",
       "      <th>2</th>\n",
       "      <td>64</td>\n",
       "      <td>4</td>\n",
       "      <td>8</td>\n",
       "      <td>2</td>\n",
       "      <td>2</td>\n",
       "      <td>2</td>\n",
       "      <td>256</td>\n",
       "      <td>35</td>\n",
       "    </tr>\n",
       "    <tr>\n",
       "      <th>3</th>\n",
       "      <td>128</td>\n",
       "      <td>2</td>\n",
       "      <td>16</td>\n",
       "      <td>2</td>\n",
       "      <td>2</td>\n",
       "      <td>2</td>\n",
       "      <td>256</td>\n",
       "      <td>17</td>\n",
       "    </tr>\n",
       "    <tr>\n",
       "      <th>4</th>\n",
       "      <td>248</td>\n",
       "      <td>1</td>\n",
       "      <td>31</td>\n",
       "      <td>2</td>\n",
       "      <td>2</td>\n",
       "      <td>2</td>\n",
       "      <td>248</td>\n",
       "      <td>4</td>\n",
       "    </tr>\n",
       "    <tr>\n",
       "      <th>5</th>\n",
       "      <td>256</td>\n",
       "      <td>1</td>\n",
       "      <td>32</td>\n",
       "      <td>2</td>\n",
       "      <td>2</td>\n",
       "      <td>2</td>\n",
       "      <td>256</td>\n",
       "      <td>7</td>\n",
       "    </tr>\n",
       "  </tbody>\n",
       "</table>\n",
       "</div>"
      ],
      "text/plain": [
       "   MPI_size  omp_thrd  NPT  NPX  NPY  NPZ  Total_proc  size\n",
       "0        16        16    2    2    2    2         256   139\n",
       "1        32         8    4    2    2    2         256    70\n",
       "2        64         4    8    2    2    2         256    35\n",
       "3       128         2   16    2    2    2         256    17\n",
       "4       248         1   31    2    2    2         248     4\n",
       "5       256         1   32    2    2    2         256     7"
      ]
     },
     "execution_count": 137,
     "metadata": {},
     "output_type": "execute_result"
    }
   ],
   "source": [
    "dfn2_avx_newgeo_nonprobempi_summary = dfn2_avx_newgeo_nonprobempi.groupby(['MPI_size','omp_thrd','NPT','NPX', 'NPY', 'NPZ',\"Total_proc\"]).size().reset_index(name = 'size')\n",
    "dfn2_avx_newgeo_nonprobempi_summary"
   ]
  },
  {
   "cell_type": "markdown",
   "id": "cf7c2a22",
   "metadata": {},
   "source": [
    "### Cases Setup"
   ]
  },
  {
   "cell_type": "code",
   "execution_count": 143,
   "id": "0db50f93",
   "metadata": {},
   "outputs": [],
   "source": [
    "dfn2AvxNewgeoNonProb_16mpi_16omp = dfn2_avx_newgeo_nonprobempi[(dfn2_avx_newgeo_nonprobempi.omp_thrd == 16) & (dfn2_avx_newgeo_nonprobempi.GLB_T/dfn2_avx_newgeo_nonprobempi.LOC_T == 2) & (dfn2_avx_newgeo_nonprobempi.GLB_X/dfn2_avx_newgeo_nonprobempi.LOC_X == 2) & (dfn2_avx_newgeo_nonprobempi.GLB_Y/dfn2_avx_newgeo_nonprobempi.LOC_Y == 2)& (dfn2_avx_newgeo_nonprobempi.GLB_Z/dfn2_avx_newgeo_nonprobempi.LOC_Z == 2)]\n",
    "dfn2AvxNewgeoNonProb_32mpi_8omp = dfn2_avx_newgeo_nonprobempi[(dfn2_avx_newgeo_nonprobempi.omp_thrd == 8) & (dfn2_avx_newgeo_nonprobempi.GLB_T/dfn2_avx_newgeo_nonprobempi.LOC_T == 4) & (dfn2_avx_newgeo_nonprobempi.GLB_X/dfn2_avx_newgeo_nonprobempi.LOC_X == 2) & (dfn2_avx_newgeo_nonprobempi.GLB_Y/dfn2_avx_newgeo_nonprobempi.LOC_Y == 2)& (dfn2_avx_newgeo_nonprobempi.GLB_Z/dfn2_avx_newgeo_nonprobempi.LOC_Z == 2)]\n",
    "dfn2AvxNewgeoNonProb_64mpi_4omp = dfn2_avx_newgeo_nonprobempi[(dfn2_avx_newgeo_nonprobempi.omp_thrd == 4) & (dfn2_avx_newgeo_nonprobempi.GLB_T/dfn2_avx_newgeo_nonprobempi.LOC_T == 8) & (dfn2_avx_newgeo_nonprobempi.GLB_X/dfn2_avx_newgeo_nonprobempi.LOC_X == 2) & (dfn2_avx_newgeo_nonprobempi.GLB_Y/dfn2_avx_newgeo_nonprobempi.LOC_Y == 2)& (dfn2_avx_newgeo_nonprobempi.GLB_Z/dfn2_avx_newgeo_nonprobempi.LOC_Z == 2)]\n",
    "dfn2AvxNewgeoNonProb_128mpi_2omp = dfn2_avx_newgeo_nonprobempi[(dfn2_avx_newgeo_nonprobempi.omp_thrd == 2) & (dfn2_avx_newgeo_nonprobempi.GLB_T/dfn2_avx_newgeo_nonprobempi.LOC_T == 16) & (dfn2_avx_newgeo_nonprobempi.GLB_X/dfn2_avx_newgeo_nonprobempi.LOC_X == 2) & (dfn2_avx_newgeo_nonprobempi.GLB_Y/dfn2_avx_newgeo_nonprobempi.LOC_Y == 2)& (dfn2_avx_newgeo_nonprobempi.GLB_Z/dfn2_avx_newgeo_nonprobempi.LOC_Z == 2)]\n",
    "dfn2AvxNewgeoNonProb_256mpi_1omp = dfn2_avx_newgeo_nonprobempi[(dfn2_avx_newgeo_nonprobempi.omp_thrd == 1) & (dfn2_avx_newgeo_nonprobempi.GLB_T/dfn2_avx_newgeo_nonprobempi.LOC_T == 32) & (dfn2_avx_newgeo_nonprobempi.GLB_X/dfn2_avx_newgeo_nonprobempi.LOC_X == 2) & (dfn2_avx_newgeo_nonprobempi.GLB_Y/dfn2_avx_newgeo_nonprobempi.LOC_Y == 2)& (dfn2_avx_newgeo_nonprobempi.GLB_Z/dfn2_avx_newgeo_nonprobempi.LOC_Z == 2)]\n"
   ]
  },
  {
   "cell_type": "markdown",
   "id": "fd93c940",
   "metadata": {},
   "source": [
    "## GFLOPS - Newgeo-AVX: Probmpi vs Non-Probempi"
   ]
  },
  {
   "cell_type": "code",
   "execution_count": 144,
   "id": "fd53dd8b",
   "metadata": {},
   "outputs": [
    {
     "data": {
      "application/vnd.plotly.v1+json": {
       "config": {
        "plotlyServerURL": "https://plot.ly"
       },
       "data": [
        {
         "line": {
          "color": "magenta",
          "width": 3
         },
         "marker": {
          "line": {
           "color": "yellow",
           "width": 1
          },
          "size": 9,
          "symbol": "hexagon"
         },
         "mode": "lines+markers",
         "name": "AvxNewgeoNonProb_256mpi_1omp",
         "type": "scatter",
         "x": [
          1572864000,
          1966080000,
          2359296000,
          2752512000,
          3145728000,
          3538944000,
          3932160000
         ],
         "y": [
          185.96352,
          166.20288,
          153.44256,
          137.72544,
          138.94016,
          134.45376,
          129.03168
         ]
        },
        {
         "line": {
          "color": "olive",
          "width": 3
         },
         "marker": {
          "line": {
           "color": "yellow",
           "width": 1
          },
          "size": 9,
          "symbol": "hexagon"
         },
         "mode": "lines+markers",
         "name": "AvxNonFusProb_256mpi_1omp",
         "type": "scatter",
         "x": [
          1572864000,
          1966080000,
          2359296000,
          2752512000,
          3145728000,
          3538944000,
          3932160000
         ],
         "y": [
          193.1456,
          165.67936,
          153.33376,
          144.99712,
          131.14368,
          134.24384,
          130.75968
         ]
        },
        {
         "line": {
          "color": "sandybrown",
          "width": 3
         },
         "marker": {
          "line": {
           "color": "MediumPurple",
           "width": 2
          },
          "size": 5,
          "symbol": "diamond"
         },
         "mode": "lines+markers",
         "name": "AvxNewgeoNonProb_128mpi_2omp",
         "type": "scatter",
         "x": [
          786432000,
          983040000,
          1179648000,
          1376256000,
          1572864000,
          1966080000,
          1769472000,
          2162688000,
          2359296000,
          2555904000,
          2949120000,
          2752512000,
          3145728000,
          3342336000,
          3538944000,
          3735552000,
          3932160000
         ],
         "y": [
          249.51488,
          238.20608,
          248.62976,
          210.97984,
          220.55168,
          181.10016,
          198.18496,
          173.65696,
          166.06464,
          153.10848,
          138.69824,
          152.57024,
          143.1488,
          139.87264,
          131.28256,
          133.52512,
          130.17472
         ]
        },
        {
         "line": {
          "color": "royalblue",
          "width": 3
         },
         "marker": {
          "line": {
           "color": "MediumPurple",
           "width": 2
          },
          "size": 5,
          "symbol": "diamond"
         },
         "mode": "lines+markers",
         "name": "AvxNewgeoProb_128mpi_2omp",
         "type": "scatter",
         "x": [
          786432000,
          983040000,
          1179648000,
          1376256000,
          1572864000,
          1769472000,
          1966080000,
          2162688000,
          2359296000,
          2555904000,
          2752512000,
          2949120000,
          3145728000,
          3342336000,
          3735552000,
          3538944000,
          3932160000
         ],
         "y": [
          235.96544,
          259.98336,
          254.40512,
          237.23968,
          222.24,
          198.37888,
          179.52448,
          169.16352,
          164.12352,
          160.4096,
          148.19648,
          148.67648,
          135.47392,
          138.02688,
          130.57984,
          139.48928,
          128.63616
         ]
        },
        {
         "line": {
          "color": "cyan",
          "width": 3
         },
         "marker": {
          "line": {
           "color": "Purple",
           "width": 2
          },
          "size": 7,
          "symbol": "circle"
         },
         "mode": "lines+markers",
         "name": "AvxNewgeoNonProb_64mpi_4omp",
         "type": "scatter",
         "x": [
          589824000,
          688128000,
          786432000,
          884736000,
          983040000,
          1081344000,
          1179648000,
          1277952000,
          1376256000,
          1474560000,
          1572864000,
          1671168000,
          1769472000,
          1867776000,
          1966080000,
          2064384000,
          2162688000,
          2260992000,
          2359296000,
          2457600000,
          2555904000,
          2654208000,
          2850816000,
          2752512000,
          2949120000,
          3047424000,
          3145728000,
          3244032000,
          3342336000,
          3440640000,
          3538944000,
          3637248000,
          3735552000,
          3833856000,
          3932160000
         ],
         "y": [
          220.44928,
          229.13664,
          241.14144,
          244.47776,
          233.23808,
          250.74208,
          255.08992,
          242.53152,
          238.7104,
          230.94336,
          225.81536,
          209.72768,
          188.73664,
          190.24928,
          189.91904,
          175.75456,
          175.76096,
          166.38528,
          167.99584,
          161.14528,
          153.75168,
          154.38464,
          149.14464,
          152.93792,
          139.94016,
          141.81824,
          143.46688,
          134.7456,
          136.51648,
          135.98208,
          131.48224,
          133.88704,
          130.57152,
          131.24704,
          130.73728
         ]
        },
        {
         "line": {
          "color": "darkblue",
          "width": 3
         },
         "marker": {
          "line": {
           "color": "tomato",
           "width": 2
          },
          "size": 7,
          "symbol": "circle"
         },
         "mode": "lines+markers",
         "name": "AvxNewgeoProb_64mpi_4omp",
         "type": "scatter",
         "x": [
          688128000,
          589824000,
          786432000,
          884736000,
          983040000,
          1081344000,
          1179648000,
          1277952000,
          1376256000,
          1572864000,
          1474560000,
          1671168000,
          1769472000,
          1867776000,
          2064384000,
          2162688000,
          2260992000,
          2359296000,
          2457600000,
          2555904000,
          2752512000,
          2654208000,
          2850816000,
          2949120000,
          3047424000,
          3145728000,
          3244032000,
          3342336000,
          3440640000,
          3538944000,
          3637248000,
          3735552000,
          3833856000,
          3932160000
         ],
         "y": [
          248.6528,
          237.20096,
          260.76736,
          257.73952,
          253.08096,
          268.43264,
          265.04064,
          253.73024,
          240.584,
          207.31072,
          236.33472,
          200.15104,
          200.78912,
          196.32896,
          178.79072,
          173.27456,
          172.96128,
          163.8816,
          161.55264,
          160.4656,
          149.81504,
          156.51424,
          151.36864,
          148.03776,
          133.93728,
          145.44832,
          142.21728,
          141.06784,
          137.67936,
          138.09344,
          139.01184,
          135.63744,
          128.56128,
          129.37472
         ]
        },
        {
         "line": {
          "color": "red",
          "width": 3
         },
         "marker": {
          "line": {
           "color": "red",
           "width": 2
          },
          "size": 5,
          "symbol": "circle"
         },
         "mode": "lines+markers",
         "name": "AvxFusNonProb_32mpi_8omp",
         "type": "scatter",
         "x": [
          540672000,
          589824000,
          638976000,
          688128000,
          737280000,
          786432000,
          835584000,
          884736000,
          933888000,
          983040000,
          1032192000,
          1081344000,
          1130496000,
          1179648000,
          1277952000,
          1228800000,
          1327104000,
          1376256000,
          1474560000,
          1425408000,
          1523712000,
          1622016000,
          1720320000,
          1671168000,
          1572864000,
          1769472000,
          1818624000,
          1867776000,
          1916928000,
          1966080000,
          2015232000,
          2064384000,
          2113536000,
          2162688000,
          2211840000,
          2260992000,
          2310144000,
          2359296000,
          2457600000,
          2408448000,
          2506752000,
          2555904000,
          2654208000,
          2605056000,
          2703360000,
          2752512000,
          2801664000,
          2850816000,
          2899968000,
          2949120000,
          2998272000,
          3047424000,
          3145728000,
          3096576000,
          3194880000,
          3244032000,
          3293184000,
          3342336000,
          3391488000,
          3440640000,
          3489792000,
          3538944000,
          3588096000,
          3686400000,
          3637248000,
          3735552000,
          3784704000,
          3833856000,
          3883008000,
          3932160000
         ],
         "y": [
          192.1184,
          191.312,
          199.0736,
          208.2176,
          199.8304,
          218.0512,
          218.9328,
          225.4816,
          225.4272,
          232.3904,
          207.1568,
          216.8416,
          229.6672,
          233.2032,
          231.6848,
          229.8304,
          226.3824,
          231.2464,
          219.5472,
          217.5472,
          191.0912,
          201.0512,
          195.0688,
          179.9456,
          217.9088,
          195.9728,
          182.8528,
          183.296,
          177.1968,
          183.376,
          169.1344,
          168.184,
          167.528,
          165.5056,
          163.3792,
          161.4256,
          159.04864,
          154.78992,
          155.43568,
          152.74112,
          152.2368,
          152.18736,
          148.0656,
          149.61264,
          142.33824,
          145.6992,
          143.11776,
          133.89472,
          142.30272,
          137.06016,
          138.79264,
          136.19264,
          134.07264,
          135.12064,
          128.85024,
          131.32528,
          133.1128,
          130.30848,
          128.3312,
          124.7448,
          127.26448,
          127.4104,
          127.71264,
          120.45696,
          123.93008,
          125.46736,
          123.96976,
          122.3592,
          116.52112,
          121.00208
         ]
        },
        {
         "line": {
          "color": "green",
          "width": 3
         },
         "marker": {
          "line": {
           "color": "green",
           "width": 2
          },
          "size": 5,
          "symbol": "circle"
         },
         "mode": "lines+markers",
         "name": "AvxNewgeoProb_32mpi_8omp",
         "type": "scatter",
         "x": [
          540672000,
          638976000,
          589824000,
          688128000,
          835584000,
          737280000,
          786432000,
          933888000,
          983040000,
          884736000,
          1032192000,
          1081344000,
          1179648000,
          1130496000,
          1228800000,
          1277952000,
          1327104000,
          1376256000,
          1425408000,
          1523712000,
          1474560000,
          1572864000,
          1622016000,
          1671168000,
          1720320000,
          1818624000,
          1769472000,
          1867776000,
          1916928000,
          1966080000,
          2015232000,
          2113536000,
          2064384000,
          2162688000,
          2211840000,
          2260992000,
          2310144000,
          2359296000,
          2408448000,
          2457600000,
          2555904000,
          2605056000,
          2654208000,
          2703360000,
          2752512000,
          2801664000,
          2850816000,
          2899968000,
          2949120000,
          2998272000,
          3047424000,
          3096576000,
          3145728000,
          3194880000,
          3244032000,
          3293184000,
          3391488000,
          3489792000,
          3440640000,
          3538944000,
          3588096000,
          3637248000,
          3686400000,
          3784704000,
          3735552000,
          3883008000,
          3833856000,
          3932160000
         ],
         "y": [
          201.3248,
          211.3664,
          206.5168,
          212.8432,
          235.9568,
          215.4784,
          222.224,
          240.0032,
          239.8592,
          232.2848,
          236.76,
          250.0592,
          240.1824,
          228.5856,
          233.968,
          242.5264,
          229.1824,
          237.3072,
          226.4048,
          206.6224,
          220.9472,
          217.2944,
          205.8816,
          204.9104,
          196.4,
          192.2384,
          189.008,
          171.7712,
          180.5024,
          179.504,
          176.5856,
          171.84,
          172.6272,
          170.3232,
          164.5808,
          152.3424,
          164.0416,
          161.2592,
          159.6424,
          154.48336,
          152.43104,
          152.24368,
          149.66048,
          146.86688,
          149.35712,
          144.76672,
          141.1224,
          141.99904,
          138.89744,
          142.69248,
          140.30064,
          135.69056,
          137.6144,
          138.91504,
          135.90448,
          134.76032,
          133.71952,
          131.52192,
          133,
          123.95632,
          130.75136,
          131.20768,
          129.06432,
          130.24592,
          124.19456,
          129.88256,
          127.65312,
          121.60384
         ]
        },
        {
         "line": {
          "color": "blue",
          "width": 3
         },
         "marker": {
          "line": {
           "color": "chocolate",
           "width": 2
          },
          "size": 4,
          "symbol": "triangle-up"
         },
         "mode": "lines+markers",
         "name": "AvxNewgeoNonProb_16mpi_16omp",
         "type": "scatter",
         "x": [
          540672000,
          516096000,
          565248000,
          638976000,
          614400000,
          589824000,
          663552000,
          688128000,
          712704000,
          737280000,
          761856000,
          786432000,
          811008000,
          835584000,
          860160000,
          884736000,
          909312000,
          933888000,
          958464000,
          983040000,
          1007616000,
          1032192000,
          1056768000,
          1081344000,
          1105920000,
          1130496000,
          1155072000,
          1179648000,
          1204224000,
          1228800000,
          1253376000,
          1277952000,
          1302528000,
          1327104000,
          1351680000,
          1376256000,
          1400832000,
          1425408000,
          1449984000,
          1474560000,
          1499136000,
          1523712000,
          1548288000,
          1572864000,
          1597440000,
          1622016000,
          1646592000,
          1695744000,
          1671168000,
          1744896000,
          1720320000,
          1769472000,
          1794048000,
          1818624000,
          1867776000,
          1843200000,
          1892352000,
          1916928000,
          1941504000,
          1990656000,
          1966080000,
          2015232000,
          2039808000,
          2064384000,
          2088960000,
          2113536000,
          2138112000,
          2162688000,
          2187264000,
          2236416000,
          2211840000,
          2260992000,
          2285568000,
          2310144000,
          2334720000,
          2383872000,
          2359296000,
          2433024000,
          2408448000,
          2457600000,
          2482176000,
          2506752000,
          2555904000,
          2531328000,
          2580480000,
          2605056000,
          2629632000,
          2654208000,
          2678784000,
          2703360000,
          2752512000,
          2727936000,
          2777088000,
          2801664000,
          2826240000,
          2850816000,
          2875392000,
          2899968000,
          2924544000,
          2973696000,
          2949120000,
          2998272000,
          3022848000,
          3047424000,
          3096576000,
          3072000000,
          3121152000,
          3145728000,
          3170304000,
          3194880000,
          3219456000,
          3244032000,
          3268608000,
          3293184000,
          3317760000,
          3342336000,
          3366912000,
          3391488000,
          3416064000,
          3440640000,
          3465216000,
          3489792000,
          3514368000,
          3538944000,
          3563520000,
          3612672000,
          3637248000,
          3661824000,
          3686400000,
          3710976000,
          3735552000,
          3760128000,
          3784704000,
          3809280000,
          3833856000,
          3858432000,
          3883008000,
          3907584000,
          3932160000
         ],
         "y": [
          173.6104,
          168.816,
          162.288,
          174.7368,
          174.1448,
          174.0888,
          162.788,
          158.5624,
          177.496,
          179.2592,
          174.6504,
          177.816,
          171.748,
          178.1784,
          183.9008,
          184.6104,
          181.592,
          180.9144,
          181.5176,
          188.464,
          184.9984,
          188.7984,
          185.1096,
          184.2912,
          188.5064,
          188.4496,
          184.6656,
          172.9944,
          180.136,
          185.6736,
          180.4944,
          181.2896,
          173.7816,
          177.2768,
          169.0392,
          179.9208,
          172.6704,
          166.0856,
          155.6496,
          172.024,
          160.4736,
          162.3904,
          146.9096,
          167.8992,
          158.5928,
          158.964,
          139.8104,
          158.004,
          150.7784,
          153.084,
          143.9704,
          157.432,
          151.1176,
          148.3824,
          154.4584,
          152.0184,
          145.5496,
          149.908,
          141.568,
          145.5304,
          150.8656,
          142.236,
          142.5352,
          142.568,
          132.1048,
          141.7872,
          141.5736,
          138.7928,
          138.2072,
          138.3048,
          141.4704,
          136.5512,
          136.8424,
          132.7648,
          131.9168,
          136.5592,
          126.7456,
          129.6192,
          123.5056,
          135.3304,
          131.3168,
          132.6288,
          132.836,
          130.216,
          120.4832,
          130.1928,
          128.4664,
          129.044,
          125.2544,
          126.8456,
          127.44,
          124.468,
          127.0984,
          121.4112,
          121.8056,
          125.6704,
          125.4864,
          123.224,
          121.9256,
          121.2736,
          123.4096,
          116.5016,
          119.9672,
          115.5752,
          116.6896,
          118.976,
          119.124,
          118.1448,
          111.7192,
          117.1408,
          119.948,
          117.636,
          118.5536,
          112.0128,
          115.6104,
          115.7696,
          116.4248,
          116.32,
          113.5784,
          114.8584,
          113.9472,
          113.176,
          114.3176,
          111.2512,
          115.1344,
          112.0336,
          104.6008,
          110.424,
          112.2128,
          112.2008,
          110.4744,
          108.7304,
          103.9792,
          113.292,
          108.884,
          106.8952,
          108.1688,
          110.6736,
          110.6248
         ]
        },
        {
         "line": {
          "color": "darkviolet",
          "width": 3
         },
         "marker": {
          "line": {
           "color": "crimson",
           "width": 2
          },
          "size": 4,
          "symbol": "triangle-up"
         },
         "mode": "lines+markers",
         "name": "AvxNewgeoProb_16mpi_16omp",
         "type": "scatter",
         "x": [
          565248000,
          516096000,
          540672000,
          589824000,
          614400000,
          663552000,
          688128000,
          638976000,
          712704000,
          737280000,
          786432000,
          761856000,
          811008000,
          835584000,
          860160000,
          884736000,
          909312000,
          933888000,
          958464000,
          983040000,
          1007616000,
          1032192000,
          1056768000,
          1081344000,
          1105920000,
          1130496000,
          1155072000,
          1179648000,
          1204224000,
          1228800000,
          1253376000,
          1277952000,
          1302528000,
          1327104000,
          1351680000,
          1376256000,
          1400832000,
          1425408000,
          1449984000,
          1474560000,
          1499136000,
          1523712000,
          1572864000,
          1548288000,
          1597440000,
          1622016000,
          1671168000,
          1646592000,
          1695744000,
          1720320000,
          1769472000,
          1744896000,
          1794048000,
          1818624000,
          1843200000,
          1867776000,
          1892352000,
          1916928000,
          1941504000,
          1966080000,
          1990656000,
          2015232000,
          2039808000,
          2064384000,
          2088960000,
          2113536000,
          2138112000,
          2162688000,
          2187264000,
          2211840000,
          2236416000,
          2260992000,
          2285568000,
          2310144000,
          2334720000,
          2359296000,
          2383872000,
          2408448000,
          2457600000,
          2433024000,
          2482176000,
          2506752000,
          2531328000,
          2555904000,
          2580480000,
          2605056000,
          2654208000,
          2629632000,
          2678784000,
          2703360000,
          2727936000,
          2752512000,
          2777088000,
          2801664000,
          2850816000,
          2826240000,
          2875392000,
          2899968000,
          2924544000,
          2949120000,
          2973696000,
          2998272000,
          3022848000,
          3047424000,
          3072000000,
          3096576000,
          3121152000,
          3145728000,
          3170304000,
          3194880000,
          3219456000,
          3244032000,
          3268608000,
          3293184000,
          3317760000,
          3342336000,
          3366912000,
          3416064000,
          3440640000,
          3465216000,
          3489792000,
          3538944000,
          3514368000,
          3563520000,
          3588096000,
          3612672000,
          3637248000,
          3661824000,
          3686400000,
          3710976000,
          3735552000,
          3760128000,
          3784704000,
          3833856000,
          3809280000,
          3858432000,
          3883008000,
          3907584000,
          3932160000
         ],
         "y": [
          171.2584,
          168.744,
          172.5648,
          171.4168,
          169.4328,
          176.1336,
          180.4664,
          172.636,
          180.952,
          177.7456,
          185.6296,
          182.6872,
          185.7288,
          187.9736,
          191.8992,
          191.244,
          189.7616,
          191.212,
          187.8368,
          191.0136,
          169.888,
          189.0264,
          187.6936,
          192.0088,
          187.3416,
          186.9288,
          185.1328,
          185.6064,
          184.8424,
          183.7112,
          180.436,
          183.8368,
          177.0656,
          174.376,
          176.8872,
          173.2624,
          172.6968,
          170.1808,
          168.5288,
          171.9496,
          164.0136,
          162.2768,
          162.4024,
          159.7648,
          158.8048,
          155.992,
          154.8496,
          158.6568,
          149.5912,
          151.54,
          155.3064,
          141.2816,
          148.2352,
          147.9272,
          147.1304,
          146.3464,
          145.4616,
          143.3944,
          135.9504,
          145.4416,
          132.772,
          143.2912,
          138.7208,
          143.2544,
          141.1168,
          137.6728,
          138.604,
          138.688,
          133.7152,
          136.8704,
          138.5984,
          135.3312,
          131.5784,
          127.316,
          137.6552,
          133.136,
          127.1616,
          128.2448,
          134.1648,
          132.324,
          122.3144,
          129.5768,
          122.9664,
          129.3168,
          129.2304,
          127.3112,
          128.4568,
          128.3584,
          122.9648,
          118.768,
          119.4144,
          116.9928,
          124.32,
          120.2312,
          121.6048,
          128.0344,
          120.4688,
          121.9328,
          126.7784,
          122.2944,
          123.4544,
          120.2176,
          121.5376,
          120.372,
          117.2296,
          114.5608,
          120.8112,
          113.52,
          110.8368,
          117.2096,
          115.5504,
          120.0344,
          113.3904,
          115.3568,
          117.024,
          113.8024,
          118.4536,
          117.9392,
          113.6136,
          112.3992,
          114.024,
          113.84,
          116.1984,
          114.872,
          112.4272,
          115.3192,
          113.124,
          110.6168,
          111.3376,
          115.0048,
          112.6208,
          113.4928,
          110.6864,
          113.3008,
          109.4456,
          108.992,
          108.6112,
          111.1816,
          106.4952
         ]
        }
       ],
       "layout": {
        "annotations": [
         {
          "align": "left",
          "arrowcolor": "#636363",
          "arrowhead": 1,
          "arrowsize": 1,
          "arrowwidth": 2,
          "ax": -20,
          "ay": -30,
          "font": {
           "color": "purple",
           "family": "Sans Serif",
           "size": 12
          },
          "showarrow": false,
          "text": "LLC Size Per Node",
          "x": "512e6",
          "y": 130,
          "yanchor": "bottom"
         }
        ],
        "legend": {
         "bordercolor": "black",
         "borderwidth": 1
        },
        "shapes": [
         {
          "line": {
           "color": "green",
           "dash": "dash",
           "width": 3
          },
          "type": "line",
          "x0": 512000000,
          "x1": 512000000,
          "xref": "x",
          "y0": 0,
          "y1": 1,
          "yref": "y domain"
         }
        ],
        "template": {
         "data": {
          "bar": [
           {
            "error_x": {
             "color": "#2a3f5f"
            },
            "error_y": {
             "color": "#2a3f5f"
            },
            "marker": {
             "line": {
              "color": "#E5ECF6",
              "width": 0.5
             },
             "pattern": {
              "fillmode": "overlay",
              "size": 10,
              "solidity": 0.2
             }
            },
            "type": "bar"
           }
          ],
          "barpolar": [
           {
            "marker": {
             "line": {
              "color": "#E5ECF6",
              "width": 0.5
             },
             "pattern": {
              "fillmode": "overlay",
              "size": 10,
              "solidity": 0.2
             }
            },
            "type": "barpolar"
           }
          ],
          "carpet": [
           {
            "aaxis": {
             "endlinecolor": "#2a3f5f",
             "gridcolor": "white",
             "linecolor": "white",
             "minorgridcolor": "white",
             "startlinecolor": "#2a3f5f"
            },
            "baxis": {
             "endlinecolor": "#2a3f5f",
             "gridcolor": "white",
             "linecolor": "white",
             "minorgridcolor": "white",
             "startlinecolor": "#2a3f5f"
            },
            "type": "carpet"
           }
          ],
          "choropleth": [
           {
            "colorbar": {
             "outlinewidth": 0,
             "ticks": ""
            },
            "type": "choropleth"
           }
          ],
          "contour": [
           {
            "colorbar": {
             "outlinewidth": 0,
             "ticks": ""
            },
            "colorscale": [
             [
              0,
              "#0d0887"
             ],
             [
              0.1111111111111111,
              "#46039f"
             ],
             [
              0.2222222222222222,
              "#7201a8"
             ],
             [
              0.3333333333333333,
              "#9c179e"
             ],
             [
              0.4444444444444444,
              "#bd3786"
             ],
             [
              0.5555555555555556,
              "#d8576b"
             ],
             [
              0.6666666666666666,
              "#ed7953"
             ],
             [
              0.7777777777777778,
              "#fb9f3a"
             ],
             [
              0.8888888888888888,
              "#fdca26"
             ],
             [
              1,
              "#f0f921"
             ]
            ],
            "type": "contour"
           }
          ],
          "contourcarpet": [
           {
            "colorbar": {
             "outlinewidth": 0,
             "ticks": ""
            },
            "type": "contourcarpet"
           }
          ],
          "heatmap": [
           {
            "colorbar": {
             "outlinewidth": 0,
             "ticks": ""
            },
            "colorscale": [
             [
              0,
              "#0d0887"
             ],
             [
              0.1111111111111111,
              "#46039f"
             ],
             [
              0.2222222222222222,
              "#7201a8"
             ],
             [
              0.3333333333333333,
              "#9c179e"
             ],
             [
              0.4444444444444444,
              "#bd3786"
             ],
             [
              0.5555555555555556,
              "#d8576b"
             ],
             [
              0.6666666666666666,
              "#ed7953"
             ],
             [
              0.7777777777777778,
              "#fb9f3a"
             ],
             [
              0.8888888888888888,
              "#fdca26"
             ],
             [
              1,
              "#f0f921"
             ]
            ],
            "type": "heatmap"
           }
          ],
          "heatmapgl": [
           {
            "colorbar": {
             "outlinewidth": 0,
             "ticks": ""
            },
            "colorscale": [
             [
              0,
              "#0d0887"
             ],
             [
              0.1111111111111111,
              "#46039f"
             ],
             [
              0.2222222222222222,
              "#7201a8"
             ],
             [
              0.3333333333333333,
              "#9c179e"
             ],
             [
              0.4444444444444444,
              "#bd3786"
             ],
             [
              0.5555555555555556,
              "#d8576b"
             ],
             [
              0.6666666666666666,
              "#ed7953"
             ],
             [
              0.7777777777777778,
              "#fb9f3a"
             ],
             [
              0.8888888888888888,
              "#fdca26"
             ],
             [
              1,
              "#f0f921"
             ]
            ],
            "type": "heatmapgl"
           }
          ],
          "histogram": [
           {
            "marker": {
             "pattern": {
              "fillmode": "overlay",
              "size": 10,
              "solidity": 0.2
             }
            },
            "type": "histogram"
           }
          ],
          "histogram2d": [
           {
            "colorbar": {
             "outlinewidth": 0,
             "ticks": ""
            },
            "colorscale": [
             [
              0,
              "#0d0887"
             ],
             [
              0.1111111111111111,
              "#46039f"
             ],
             [
              0.2222222222222222,
              "#7201a8"
             ],
             [
              0.3333333333333333,
              "#9c179e"
             ],
             [
              0.4444444444444444,
              "#bd3786"
             ],
             [
              0.5555555555555556,
              "#d8576b"
             ],
             [
              0.6666666666666666,
              "#ed7953"
             ],
             [
              0.7777777777777778,
              "#fb9f3a"
             ],
             [
              0.8888888888888888,
              "#fdca26"
             ],
             [
              1,
              "#f0f921"
             ]
            ],
            "type": "histogram2d"
           }
          ],
          "histogram2dcontour": [
           {
            "colorbar": {
             "outlinewidth": 0,
             "ticks": ""
            },
            "colorscale": [
             [
              0,
              "#0d0887"
             ],
             [
              0.1111111111111111,
              "#46039f"
             ],
             [
              0.2222222222222222,
              "#7201a8"
             ],
             [
              0.3333333333333333,
              "#9c179e"
             ],
             [
              0.4444444444444444,
              "#bd3786"
             ],
             [
              0.5555555555555556,
              "#d8576b"
             ],
             [
              0.6666666666666666,
              "#ed7953"
             ],
             [
              0.7777777777777778,
              "#fb9f3a"
             ],
             [
              0.8888888888888888,
              "#fdca26"
             ],
             [
              1,
              "#f0f921"
             ]
            ],
            "type": "histogram2dcontour"
           }
          ],
          "mesh3d": [
           {
            "colorbar": {
             "outlinewidth": 0,
             "ticks": ""
            },
            "type": "mesh3d"
           }
          ],
          "parcoords": [
           {
            "line": {
             "colorbar": {
              "outlinewidth": 0,
              "ticks": ""
             }
            },
            "type": "parcoords"
           }
          ],
          "pie": [
           {
            "automargin": true,
            "type": "pie"
           }
          ],
          "scatter": [
           {
            "fillpattern": {
             "fillmode": "overlay",
             "size": 10,
             "solidity": 0.2
            },
            "type": "scatter"
           }
          ],
          "scatter3d": [
           {
            "line": {
             "colorbar": {
              "outlinewidth": 0,
              "ticks": ""
             }
            },
            "marker": {
             "colorbar": {
              "outlinewidth": 0,
              "ticks": ""
             }
            },
            "type": "scatter3d"
           }
          ],
          "scattercarpet": [
           {
            "marker": {
             "colorbar": {
              "outlinewidth": 0,
              "ticks": ""
             }
            },
            "type": "scattercarpet"
           }
          ],
          "scattergeo": [
           {
            "marker": {
             "colorbar": {
              "outlinewidth": 0,
              "ticks": ""
             }
            },
            "type": "scattergeo"
           }
          ],
          "scattergl": [
           {
            "marker": {
             "colorbar": {
              "outlinewidth": 0,
              "ticks": ""
             }
            },
            "type": "scattergl"
           }
          ],
          "scattermapbox": [
           {
            "marker": {
             "colorbar": {
              "outlinewidth": 0,
              "ticks": ""
             }
            },
            "type": "scattermapbox"
           }
          ],
          "scatterpolar": [
           {
            "marker": {
             "colorbar": {
              "outlinewidth": 0,
              "ticks": ""
             }
            },
            "type": "scatterpolar"
           }
          ],
          "scatterpolargl": [
           {
            "marker": {
             "colorbar": {
              "outlinewidth": 0,
              "ticks": ""
             }
            },
            "type": "scatterpolargl"
           }
          ],
          "scatterternary": [
           {
            "marker": {
             "colorbar": {
              "outlinewidth": 0,
              "ticks": ""
             }
            },
            "type": "scatterternary"
           }
          ],
          "surface": [
           {
            "colorbar": {
             "outlinewidth": 0,
             "ticks": ""
            },
            "colorscale": [
             [
              0,
              "#0d0887"
             ],
             [
              0.1111111111111111,
              "#46039f"
             ],
             [
              0.2222222222222222,
              "#7201a8"
             ],
             [
              0.3333333333333333,
              "#9c179e"
             ],
             [
              0.4444444444444444,
              "#bd3786"
             ],
             [
              0.5555555555555556,
              "#d8576b"
             ],
             [
              0.6666666666666666,
              "#ed7953"
             ],
             [
              0.7777777777777778,
              "#fb9f3a"
             ],
             [
              0.8888888888888888,
              "#fdca26"
             ],
             [
              1,
              "#f0f921"
             ]
            ],
            "type": "surface"
           }
          ],
          "table": [
           {
            "cells": {
             "fill": {
              "color": "#EBF0F8"
             },
             "line": {
              "color": "white"
             }
            },
            "header": {
             "fill": {
              "color": "#C8D4E3"
             },
             "line": {
              "color": "white"
             }
            },
            "type": "table"
           }
          ]
         },
         "layout": {
          "annotationdefaults": {
           "arrowcolor": "#2a3f5f",
           "arrowhead": 0,
           "arrowwidth": 1
          },
          "autotypenumbers": "strict",
          "coloraxis": {
           "colorbar": {
            "outlinewidth": 0,
            "ticks": ""
           }
          },
          "colorscale": {
           "diverging": [
            [
             0,
             "#8e0152"
            ],
            [
             0.1,
             "#c51b7d"
            ],
            [
             0.2,
             "#de77ae"
            ],
            [
             0.3,
             "#f1b6da"
            ],
            [
             0.4,
             "#fde0ef"
            ],
            [
             0.5,
             "#f7f7f7"
            ],
            [
             0.6,
             "#e6f5d0"
            ],
            [
             0.7,
             "#b8e186"
            ],
            [
             0.8,
             "#7fbc41"
            ],
            [
             0.9,
             "#4d9221"
            ],
            [
             1,
             "#276419"
            ]
           ],
           "sequential": [
            [
             0,
             "#0d0887"
            ],
            [
             0.1111111111111111,
             "#46039f"
            ],
            [
             0.2222222222222222,
             "#7201a8"
            ],
            [
             0.3333333333333333,
             "#9c179e"
            ],
            [
             0.4444444444444444,
             "#bd3786"
            ],
            [
             0.5555555555555556,
             "#d8576b"
            ],
            [
             0.6666666666666666,
             "#ed7953"
            ],
            [
             0.7777777777777778,
             "#fb9f3a"
            ],
            [
             0.8888888888888888,
             "#fdca26"
            ],
            [
             1,
             "#f0f921"
            ]
           ],
           "sequentialminus": [
            [
             0,
             "#0d0887"
            ],
            [
             0.1111111111111111,
             "#46039f"
            ],
            [
             0.2222222222222222,
             "#7201a8"
            ],
            [
             0.3333333333333333,
             "#9c179e"
            ],
            [
             0.4444444444444444,
             "#bd3786"
            ],
            [
             0.5555555555555556,
             "#d8576b"
            ],
            [
             0.6666666666666666,
             "#ed7953"
            ],
            [
             0.7777777777777778,
             "#fb9f3a"
            ],
            [
             0.8888888888888888,
             "#fdca26"
            ],
            [
             1,
             "#f0f921"
            ]
           ]
          },
          "colorway": [
           "#636efa",
           "#EF553B",
           "#00cc96",
           "#ab63fa",
           "#FFA15A",
           "#19d3f3",
           "#FF6692",
           "#B6E880",
           "#FF97FF",
           "#FECB52"
          ],
          "font": {
           "color": "#2a3f5f"
          },
          "geo": {
           "bgcolor": "white",
           "lakecolor": "white",
           "landcolor": "#E5ECF6",
           "showlakes": true,
           "showland": true,
           "subunitcolor": "white"
          },
          "hoverlabel": {
           "align": "left"
          },
          "hovermode": "closest",
          "mapbox": {
           "style": "light"
          },
          "paper_bgcolor": "white",
          "plot_bgcolor": "#E5ECF6",
          "polar": {
           "angularaxis": {
            "gridcolor": "white",
            "linecolor": "white",
            "ticks": ""
           },
           "bgcolor": "#E5ECF6",
           "radialaxis": {
            "gridcolor": "white",
            "linecolor": "white",
            "ticks": ""
           }
          },
          "scene": {
           "xaxis": {
            "backgroundcolor": "#E5ECF6",
            "gridcolor": "white",
            "gridwidth": 2,
            "linecolor": "white",
            "showbackground": true,
            "ticks": "",
            "zerolinecolor": "white"
           },
           "yaxis": {
            "backgroundcolor": "#E5ECF6",
            "gridcolor": "white",
            "gridwidth": 2,
            "linecolor": "white",
            "showbackground": true,
            "ticks": "",
            "zerolinecolor": "white"
           },
           "zaxis": {
            "backgroundcolor": "#E5ECF6",
            "gridcolor": "white",
            "gridwidth": 2,
            "linecolor": "white",
            "showbackground": true,
            "ticks": "",
            "zerolinecolor": "white"
           }
          },
          "shapedefaults": {
           "line": {
            "color": "#2a3f5f"
           }
          },
          "ternary": {
           "aaxis": {
            "gridcolor": "white",
            "linecolor": "white",
            "ticks": ""
           },
           "baxis": {
            "gridcolor": "white",
            "linecolor": "white",
            "ticks": ""
           },
           "bgcolor": "#E5ECF6",
           "caxis": {
            "gridcolor": "white",
            "linecolor": "white",
            "ticks": ""
           }
          },
          "title": {
           "x": 0.05
          },
          "xaxis": {
           "automargin": true,
           "gridcolor": "white",
           "linecolor": "white",
           "ticks": "",
           "title": {
            "standoff": 15
           },
           "zerolinecolor": "white",
           "zerolinewidth": 2
          },
          "yaxis": {
           "automargin": true,
           "gridcolor": "white",
           "linecolor": "white",
           "ticks": "",
           "title": {
            "standoff": 15
           },
           "zerolinecolor": "white",
           "zerolinewidth": 2
          }
         }
        },
        "title": {
         "text": "\"Newgeo-AVX (2-Nodes): probempi vs nonprobempi\" GFlops Measurement"
        },
        "xaxis": {
         "ticks": "outside",
         "title": {
          "text": "Dirc_Data_Mov"
         }
        },
        "yaxis": {
         "ticks": "outside",
         "title": {
          "text": "GFLOPs/Node"
         }
        }
       }
      },
      "text/html": [
       "<div>                            <div id=\"c4477d80-33af-40f8-bd7c-da1f6f8987d3\" class=\"plotly-graph-div\" style=\"height:525px; width:100%;\"></div>            <script type=\"text/javascript\">                require([\"plotly\"], function(Plotly) {                    window.PLOTLYENV=window.PLOTLYENV || {};                                    if (document.getElementById(\"c4477d80-33af-40f8-bd7c-da1f6f8987d3\")) {                    Plotly.newPlot(                        \"c4477d80-33af-40f8-bd7c-da1f6f8987d3\",                        [{\"line\":{\"color\":\"magenta\",\"width\":3},\"marker\":{\"line\":{\"color\":\"yellow\",\"width\":1},\"size\":9,\"symbol\":\"hexagon\"},\"mode\":\"lines+markers\",\"name\":\"AvxNewgeoNonProb_256mpi_1omp\",\"x\":[1572864000.0,1966080000.0,2359296000.0,2752512000.0,3145728000.0,3538944000.0,3932160000.0],\"y\":[185.96352,166.20288,153.44256,137.72544,138.94016,134.45376,129.03168],\"type\":\"scatter\"},{\"line\":{\"color\":\"olive\",\"width\":3},\"marker\":{\"line\":{\"color\":\"yellow\",\"width\":1},\"size\":9,\"symbol\":\"hexagon\"},\"mode\":\"lines+markers\",\"name\":\"AvxNonFusProb_256mpi_1omp\",\"x\":[1572864000.0,1966080000.0,2359296000.0,2752512000.0,3145728000.0,3538944000.0,3932160000.0],\"y\":[193.1456,165.67936,153.33376,144.99712,131.14368,134.24384,130.75968],\"type\":\"scatter\"},{\"line\":{\"color\":\"sandybrown\",\"width\":3},\"marker\":{\"line\":{\"color\":\"MediumPurple\",\"width\":2},\"size\":5,\"symbol\":\"diamond\"},\"mode\":\"lines+markers\",\"name\":\"AvxNewgeoNonProb_128mpi_2omp\",\"x\":[786432000.0,983040000.0,1179648000.0,1376256000.0,1572864000.0,1966080000.0,1769472000.0,2162688000.0,2359296000.0,2555904000.0,2949120000.0,2752512000.0,3145728000.0,3342336000.0,3538944000.0,3735552000.0,3932160000.0],\"y\":[249.51488,238.20608,248.62976,210.97984,220.55168,181.10016,198.18496,173.65696,166.06464,153.10848,138.69824,152.57024,143.1488,139.87264,131.28256,133.52512,130.17472],\"type\":\"scatter\"},{\"line\":{\"color\":\"royalblue\",\"width\":3},\"marker\":{\"line\":{\"color\":\"MediumPurple\",\"width\":2},\"size\":5,\"symbol\":\"diamond\"},\"mode\":\"lines+markers\",\"name\":\"AvxNewgeoProb_128mpi_2omp\",\"x\":[786432000.0,983040000.0,1179648000.0,1376256000.0,1572864000.0,1769472000.0,1966080000.0,2162688000.0,2359296000.0,2555904000.0,2752512000.0,2949120000.0,3145728000.0,3342336000.0,3735552000.0,3538944000.0,3932160000.0],\"y\":[235.96544,259.98336,254.40512,237.23968,222.24,198.37888,179.52448,169.16352,164.12352,160.4096,148.19648,148.67648,135.47392,138.02688,130.57984,139.48928,128.63616],\"type\":\"scatter\"},{\"line\":{\"color\":\"cyan\",\"width\":3},\"marker\":{\"line\":{\"color\":\"Purple\",\"width\":2},\"size\":7,\"symbol\":\"circle\"},\"mode\":\"lines+markers\",\"name\":\"AvxNewgeoNonProb_64mpi_4omp\",\"x\":[589824000.0,688128000.0,786432000.0,884736000.0,983040000.0,1081344000.0,1179648000.0,1277952000.0,1376256000.0,1474560000.0,1572864000.0,1671168000.0,1769472000.0,1867776000.0,1966080000.0,2064384000.0,2162688000.0,2260992000.0,2359296000.0,2457600000.0,2555904000.0,2654208000.0,2850816000.0,2752512000.0,2949120000.0,3047424000.0,3145728000.0,3244032000.0,3342336000.0,3440640000.0,3538944000.0,3637248000.0,3735552000.0,3833856000.0,3932160000.0],\"y\":[220.44928,229.13664,241.14144,244.47776,233.23808,250.74208,255.08992,242.53152,238.7104,230.94336,225.81536,209.72768,188.73664,190.24928,189.91904,175.75456,175.76096,166.38528,167.99584,161.14528,153.75168,154.38464,149.14464,152.93792,139.94016,141.81824,143.46688,134.7456,136.51648,135.98208,131.48224,133.88704,130.57152,131.24704,130.73728],\"type\":\"scatter\"},{\"line\":{\"color\":\"darkblue\",\"width\":3},\"marker\":{\"line\":{\"color\":\"tomato\",\"width\":2},\"size\":7,\"symbol\":\"circle\"},\"mode\":\"lines+markers\",\"name\":\"AvxNewgeoProb_64mpi_4omp\",\"x\":[688128000.0,589824000.0,786432000.0,884736000.0,983040000.0,1081344000.0,1179648000.0,1277952000.0,1376256000.0,1572864000.0,1474560000.0,1671168000.0,1769472000.0,1867776000.0,2064384000.0,2162688000.0,2260992000.0,2359296000.0,2457600000.0,2555904000.0,2752512000.0,2654208000.0,2850816000.0,2949120000.0,3047424000.0,3145728000.0,3244032000.0,3342336000.0,3440640000.0,3538944000.0,3637248000.0,3735552000.0,3833856000.0,3932160000.0],\"y\":[248.6528,237.20096,260.76736,257.73952,253.08096,268.43264,265.04064,253.73024,240.584,207.31072,236.33472,200.15104,200.78912,196.32896,178.79072,173.27456,172.96128,163.8816,161.55264,160.4656,149.81504,156.51424,151.36864,148.03776,133.93728,145.44832,142.21728,141.06784,137.67936,138.09344,139.01184,135.63744,128.56128,129.37472],\"type\":\"scatter\"},{\"line\":{\"color\":\"red\",\"width\":3},\"marker\":{\"line\":{\"color\":\"red\",\"width\":2},\"size\":5,\"symbol\":\"circle\"},\"mode\":\"lines+markers\",\"name\":\"AvxFusNonProb_32mpi_8omp\",\"x\":[540672000.0,589824000.0,638976000.0,688128000.0,737280000.0,786432000.0,835584000.0,884736000.0,933888000.0,983040000.0,1032192000.0,1081344000.0,1130496000.0,1179648000.0,1277952000.0,1228800000.0,1327104000.0,1376256000.0,1474560000.0,1425408000.0,1523712000.0,1622016000.0,1720320000.0,1671168000.0,1572864000.0,1769472000.0,1818624000.0,1867776000.0,1916928000.0,1966080000.0,2015232000.0,2064384000.0,2113536000.0,2162688000.0,2211840000.0,2260992000.0,2310144000.0,2359296000.0,2457600000.0,2408448000.0,2506752000.0,2555904000.0,2654208000.0,2605056000.0,2703360000.0,2752512000.0,2801664000.0,2850816000.0,2899968000.0,2949120000.0,2998272000.0,3047424000.0,3145728000.0,3096576000.0,3194880000.0,3244032000.0,3293184000.0,3342336000.0,3391488000.0,3440640000.0,3489792000.0,3538944000.0,3588096000.0,3686400000.0,3637248000.0,3735552000.0,3784704000.0,3833856000.0,3883008000.0,3932160000.0],\"y\":[192.1184,191.312,199.0736,208.2176,199.8304,218.0512,218.9328,225.4816,225.4272,232.3904,207.1568,216.8416,229.6672,233.2032,231.6848,229.8304,226.3824,231.2464,219.5472,217.5472,191.0912,201.0512,195.0688,179.9456,217.9088,195.9728,182.8528,183.296,177.1968,183.376,169.1344,168.184,167.528,165.5056,163.3792,161.4256,159.04864,154.78992,155.43568,152.74112,152.2368,152.18736,148.0656,149.61264,142.33824,145.6992,143.11776,133.89472,142.30272,137.06016,138.79264,136.19264,134.07264,135.12064,128.85024,131.32528,133.1128,130.30848,128.3312,124.7448,127.26448,127.4104,127.71264,120.45696,123.93008,125.46736,123.96976,122.3592,116.52112,121.00208],\"type\":\"scatter\"},{\"line\":{\"color\":\"green\",\"width\":3},\"marker\":{\"line\":{\"color\":\"green\",\"width\":2},\"size\":5,\"symbol\":\"circle\"},\"mode\":\"lines+markers\",\"name\":\"AvxNewgeoProb_32mpi_8omp\",\"x\":[540672000.0,638976000.0,589824000.0,688128000.0,835584000.0,737280000.0,786432000.0,933888000.0,983040000.0,884736000.0,1032192000.0,1081344000.0,1179648000.0,1130496000.0,1228800000.0,1277952000.0,1327104000.0,1376256000.0,1425408000.0,1523712000.0,1474560000.0,1572864000.0,1622016000.0,1671168000.0,1720320000.0,1818624000.0,1769472000.0,1867776000.0,1916928000.0,1966080000.0,2015232000.0,2113536000.0,2064384000.0,2162688000.0,2211840000.0,2260992000.0,2310144000.0,2359296000.0,2408448000.0,2457600000.0,2555904000.0,2605056000.0,2654208000.0,2703360000.0,2752512000.0,2801664000.0,2850816000.0,2899968000.0,2949120000.0,2998272000.0,3047424000.0,3096576000.0,3145728000.0,3194880000.0,3244032000.0,3293184000.0,3391488000.0,3489792000.0,3440640000.0,3538944000.0,3588096000.0,3637248000.0,3686400000.0,3784704000.0,3735552000.0,3883008000.0,3833856000.0,3932160000.0],\"y\":[201.3248,211.3664,206.5168,212.8432,235.9568,215.4784,222.224,240.0032,239.8592,232.2848,236.76,250.0592,240.1824,228.5856,233.968,242.5264,229.1824,237.3072,226.4048,206.6224,220.9472,217.2944,205.8816,204.9104,196.4,192.2384,189.008,171.7712,180.5024,179.504,176.5856,171.84,172.6272,170.3232,164.5808,152.3424,164.0416,161.2592,159.6424,154.48336,152.43104,152.24368,149.66048,146.86688,149.35712,144.76672,141.1224,141.99904,138.89744,142.69248,140.30064,135.69056,137.6144,138.91504,135.90448,134.76032,133.71952,131.52192,133.0,123.95632,130.75136,131.20768,129.06432,130.24592,124.19456,129.88256,127.65312,121.60384],\"type\":\"scatter\"},{\"line\":{\"color\":\"blue\",\"width\":3},\"marker\":{\"line\":{\"color\":\"chocolate\",\"width\":2},\"size\":4,\"symbol\":\"triangle-up\"},\"mode\":\"lines+markers\",\"name\":\"AvxNewgeoNonProb_16mpi_16omp\",\"x\":[540672000.0,516096000.0,565248000.0,638976000.0,614400000.0,589824000.0,663552000.0,688128000.0,712704000.0,737280000.0,761856000.0,786432000.0,811008000.0,835584000.0,860160000.0,884736000.0,909312000.0,933888000.0,958464000.0,983040000.0,1007616000.0,1032192000.0,1056768000.0,1081344000.0,1105920000.0,1130496000.0,1155072000.0,1179648000.0,1204224000.0,1228800000.0,1253376000.0,1277952000.0,1302528000.0,1327104000.0,1351680000.0,1376256000.0,1400832000.0,1425408000.0,1449984000.0,1474560000.0,1499136000.0,1523712000.0,1548288000.0,1572864000.0,1597440000.0,1622016000.0,1646592000.0,1695744000.0,1671168000.0,1744896000.0,1720320000.0,1769472000.0,1794048000.0,1818624000.0,1867776000.0,1843200000.0,1892352000.0,1916928000.0,1941504000.0,1990656000.0,1966080000.0,2015232000.0,2039808000.0,2064384000.0,2088960000.0,2113536000.0,2138112000.0,2162688000.0,2187264000.0,2236416000.0,2211840000.0,2260992000.0,2285568000.0,2310144000.0,2334720000.0,2383872000.0,2359296000.0,2433024000.0,2408448000.0,2457600000.0,2482176000.0,2506752000.0,2555904000.0,2531328000.0,2580480000.0,2605056000.0,2629632000.0,2654208000.0,2678784000.0,2703360000.0,2752512000.0,2727936000.0,2777088000.0,2801664000.0,2826240000.0,2850816000.0,2875392000.0,2899968000.0,2924544000.0,2973696000.0,2949120000.0,2998272000.0,3022848000.0,3047424000.0,3096576000.0,3072000000.0,3121152000.0,3145728000.0,3170304000.0,3194880000.0,3219456000.0,3244032000.0,3268608000.0,3293184000.0,3317760000.0,3342336000.0,3366912000.0,3391488000.0,3416064000.0,3440640000.0,3465216000.0,3489792000.0,3514368000.0,3538944000.0,3563520000.0,3612672000.0,3637248000.0,3661824000.0,3686400000.0,3710976000.0,3735552000.0,3760128000.0,3784704000.0,3809280000.0,3833856000.0,3858432000.0,3883008000.0,3907584000.0,3932160000.0],\"y\":[173.6104,168.816,162.288,174.7368,174.1448,174.0888,162.788,158.5624,177.496,179.2592,174.6504,177.816,171.748,178.1784,183.9008,184.6104,181.592,180.9144,181.5176,188.464,184.9984,188.7984,185.1096,184.2912,188.5064,188.4496,184.6656,172.9944,180.136,185.6736,180.4944,181.2896,173.7816,177.2768,169.0392,179.9208,172.6704,166.0856,155.6496,172.024,160.4736,162.3904,146.9096,167.8992,158.5928,158.964,139.8104,158.004,150.7784,153.084,143.9704,157.432,151.1176,148.3824,154.4584,152.0184,145.5496,149.908,141.568,145.5304,150.8656,142.236,142.5352,142.568,132.1048,141.7872,141.5736,138.7928,138.2072,138.3048,141.4704,136.5512,136.8424,132.7648,131.9168,136.5592,126.7456,129.6192,123.5056,135.3304,131.3168,132.6288,132.836,130.216,120.4832,130.1928,128.4664,129.044,125.2544,126.8456,127.44,124.468,127.0984,121.4112,121.8056,125.6704,125.4864,123.224,121.9256,121.2736,123.4096,116.5016,119.9672,115.5752,116.6896,118.976,119.124,118.1448,111.7192,117.1408,119.948,117.636,118.5536,112.0128,115.6104,115.7696,116.4248,116.32,113.5784,114.8584,113.9472,113.176,114.3176,111.2512,115.1344,112.0336,104.6008,110.424,112.2128,112.2008,110.4744,108.7304,103.9792,113.292,108.884,106.8952,108.1688,110.6736,110.6248],\"type\":\"scatter\"},{\"line\":{\"color\":\"darkviolet\",\"width\":3},\"marker\":{\"line\":{\"color\":\"crimson\",\"width\":2},\"size\":4,\"symbol\":\"triangle-up\"},\"mode\":\"lines+markers\",\"name\":\"AvxNewgeoProb_16mpi_16omp\",\"x\":[565248000.0,516096000.0,540672000.0,589824000.0,614400000.0,663552000.0,688128000.0,638976000.0,712704000.0,737280000.0,786432000.0,761856000.0,811008000.0,835584000.0,860160000.0,884736000.0,909312000.0,933888000.0,958464000.0,983040000.0,1007616000.0,1032192000.0,1056768000.0,1081344000.0,1105920000.0,1130496000.0,1155072000.0,1179648000.0,1204224000.0,1228800000.0,1253376000.0,1277952000.0,1302528000.0,1327104000.0,1351680000.0,1376256000.0,1400832000.0,1425408000.0,1449984000.0,1474560000.0,1499136000.0,1523712000.0,1572864000.0,1548288000.0,1597440000.0,1622016000.0,1671168000.0,1646592000.0,1695744000.0,1720320000.0,1769472000.0,1744896000.0,1794048000.0,1818624000.0,1843200000.0,1867776000.0,1892352000.0,1916928000.0,1941504000.0,1966080000.0,1990656000.0,2015232000.0,2039808000.0,2064384000.0,2088960000.0,2113536000.0,2138112000.0,2162688000.0,2187264000.0,2211840000.0,2236416000.0,2260992000.0,2285568000.0,2310144000.0,2334720000.0,2359296000.0,2383872000.0,2408448000.0,2457600000.0,2433024000.0,2482176000.0,2506752000.0,2531328000.0,2555904000.0,2580480000.0,2605056000.0,2654208000.0,2629632000.0,2678784000.0,2703360000.0,2727936000.0,2752512000.0,2777088000.0,2801664000.0,2850816000.0,2826240000.0,2875392000.0,2899968000.0,2924544000.0,2949120000.0,2973696000.0,2998272000.0,3022848000.0,3047424000.0,3072000000.0,3096576000.0,3121152000.0,3145728000.0,3170304000.0,3194880000.0,3219456000.0,3244032000.0,3268608000.0,3293184000.0,3317760000.0,3342336000.0,3366912000.0,3416064000.0,3440640000.0,3465216000.0,3489792000.0,3538944000.0,3514368000.0,3563520000.0,3588096000.0,3612672000.0,3637248000.0,3661824000.0,3686400000.0,3710976000.0,3735552000.0,3760128000.0,3784704000.0,3833856000.0,3809280000.0,3858432000.0,3883008000.0,3907584000.0,3932160000.0],\"y\":[171.2584,168.744,172.5648,171.4168,169.4328,176.1336,180.4664,172.636,180.952,177.7456,185.6296,182.6872,185.7288,187.9736,191.8992,191.244,189.7616,191.212,187.8368,191.0136,169.888,189.0264,187.6936,192.0088,187.3416,186.9288,185.1328,185.6064,184.8424,183.7112,180.436,183.8368,177.0656,174.376,176.8872,173.2624,172.6968,170.1808,168.5288,171.9496,164.0136,162.2768,162.4024,159.7648,158.8048,155.992,154.8496,158.6568,149.5912,151.54,155.3064,141.2816,148.2352,147.9272,147.1304,146.3464,145.4616,143.3944,135.9504,145.4416,132.772,143.2912,138.7208,143.2544,141.1168,137.6728,138.604,138.688,133.7152,136.8704,138.5984,135.3312,131.5784,127.316,137.6552,133.136,127.1616,128.2448,134.1648,132.324,122.3144,129.5768,122.9664,129.3168,129.2304,127.3112,128.4568,128.3584,122.9648,118.768,119.4144,116.9928,124.32,120.2312,121.6048,128.0344,120.4688,121.9328,126.7784,122.2944,123.4544,120.2176,121.5376,120.372,117.2296,114.5608,120.8112,113.52,110.8368,117.2096,115.5504,120.0344,113.3904,115.3568,117.024,113.8024,118.4536,117.9392,113.6136,112.3992,114.024,113.84,116.1984,114.872,112.4272,115.3192,113.124,110.6168,111.3376,115.0048,112.6208,113.4928,110.6864,113.3008,109.4456,108.992,108.6112,111.1816,106.4952],\"type\":\"scatter\"}],                        {\"template\":{\"data\":{\"histogram2dcontour\":[{\"type\":\"histogram2dcontour\",\"colorbar\":{\"outlinewidth\":0,\"ticks\":\"\"},\"colorscale\":[[0.0,\"#0d0887\"],[0.1111111111111111,\"#46039f\"],[0.2222222222222222,\"#7201a8\"],[0.3333333333333333,\"#9c179e\"],[0.4444444444444444,\"#bd3786\"],[0.5555555555555556,\"#d8576b\"],[0.6666666666666666,\"#ed7953\"],[0.7777777777777778,\"#fb9f3a\"],[0.8888888888888888,\"#fdca26\"],[1.0,\"#f0f921\"]]}],\"choropleth\":[{\"type\":\"choropleth\",\"colorbar\":{\"outlinewidth\":0,\"ticks\":\"\"}}],\"histogram2d\":[{\"type\":\"histogram2d\",\"colorbar\":{\"outlinewidth\":0,\"ticks\":\"\"},\"colorscale\":[[0.0,\"#0d0887\"],[0.1111111111111111,\"#46039f\"],[0.2222222222222222,\"#7201a8\"],[0.3333333333333333,\"#9c179e\"],[0.4444444444444444,\"#bd3786\"],[0.5555555555555556,\"#d8576b\"],[0.6666666666666666,\"#ed7953\"],[0.7777777777777778,\"#fb9f3a\"],[0.8888888888888888,\"#fdca26\"],[1.0,\"#f0f921\"]]}],\"heatmap\":[{\"type\":\"heatmap\",\"colorbar\":{\"outlinewidth\":0,\"ticks\":\"\"},\"colorscale\":[[0.0,\"#0d0887\"],[0.1111111111111111,\"#46039f\"],[0.2222222222222222,\"#7201a8\"],[0.3333333333333333,\"#9c179e\"],[0.4444444444444444,\"#bd3786\"],[0.5555555555555556,\"#d8576b\"],[0.6666666666666666,\"#ed7953\"],[0.7777777777777778,\"#fb9f3a\"],[0.8888888888888888,\"#fdca26\"],[1.0,\"#f0f921\"]]}],\"heatmapgl\":[{\"type\":\"heatmapgl\",\"colorbar\":{\"outlinewidth\":0,\"ticks\":\"\"},\"colorscale\":[[0.0,\"#0d0887\"],[0.1111111111111111,\"#46039f\"],[0.2222222222222222,\"#7201a8\"],[0.3333333333333333,\"#9c179e\"],[0.4444444444444444,\"#bd3786\"],[0.5555555555555556,\"#d8576b\"],[0.6666666666666666,\"#ed7953\"],[0.7777777777777778,\"#fb9f3a\"],[0.8888888888888888,\"#fdca26\"],[1.0,\"#f0f921\"]]}],\"contourcarpet\":[{\"type\":\"contourcarpet\",\"colorbar\":{\"outlinewidth\":0,\"ticks\":\"\"}}],\"contour\":[{\"type\":\"contour\",\"colorbar\":{\"outlinewidth\":0,\"ticks\":\"\"},\"colorscale\":[[0.0,\"#0d0887\"],[0.1111111111111111,\"#46039f\"],[0.2222222222222222,\"#7201a8\"],[0.3333333333333333,\"#9c179e\"],[0.4444444444444444,\"#bd3786\"],[0.5555555555555556,\"#d8576b\"],[0.6666666666666666,\"#ed7953\"],[0.7777777777777778,\"#fb9f3a\"],[0.8888888888888888,\"#fdca26\"],[1.0,\"#f0f921\"]]}],\"surface\":[{\"type\":\"surface\",\"colorbar\":{\"outlinewidth\":0,\"ticks\":\"\"},\"colorscale\":[[0.0,\"#0d0887\"],[0.1111111111111111,\"#46039f\"],[0.2222222222222222,\"#7201a8\"],[0.3333333333333333,\"#9c179e\"],[0.4444444444444444,\"#bd3786\"],[0.5555555555555556,\"#d8576b\"],[0.6666666666666666,\"#ed7953\"],[0.7777777777777778,\"#fb9f3a\"],[0.8888888888888888,\"#fdca26\"],[1.0,\"#f0f921\"]]}],\"mesh3d\":[{\"type\":\"mesh3d\",\"colorbar\":{\"outlinewidth\":0,\"ticks\":\"\"}}],\"scatter\":[{\"fillpattern\":{\"fillmode\":\"overlay\",\"size\":10,\"solidity\":0.2},\"type\":\"scatter\"}],\"parcoords\":[{\"type\":\"parcoords\",\"line\":{\"colorbar\":{\"outlinewidth\":0,\"ticks\":\"\"}}}],\"scatterpolargl\":[{\"type\":\"scatterpolargl\",\"marker\":{\"colorbar\":{\"outlinewidth\":0,\"ticks\":\"\"}}}],\"bar\":[{\"error_x\":{\"color\":\"#2a3f5f\"},\"error_y\":{\"color\":\"#2a3f5f\"},\"marker\":{\"line\":{\"color\":\"#E5ECF6\",\"width\":0.5},\"pattern\":{\"fillmode\":\"overlay\",\"size\":10,\"solidity\":0.2}},\"type\":\"bar\"}],\"scattergeo\":[{\"type\":\"scattergeo\",\"marker\":{\"colorbar\":{\"outlinewidth\":0,\"ticks\":\"\"}}}],\"scatterpolar\":[{\"type\":\"scatterpolar\",\"marker\":{\"colorbar\":{\"outlinewidth\":0,\"ticks\":\"\"}}}],\"histogram\":[{\"marker\":{\"pattern\":{\"fillmode\":\"overlay\",\"size\":10,\"solidity\":0.2}},\"type\":\"histogram\"}],\"scattergl\":[{\"type\":\"scattergl\",\"marker\":{\"colorbar\":{\"outlinewidth\":0,\"ticks\":\"\"}}}],\"scatter3d\":[{\"type\":\"scatter3d\",\"line\":{\"colorbar\":{\"outlinewidth\":0,\"ticks\":\"\"}},\"marker\":{\"colorbar\":{\"outlinewidth\":0,\"ticks\":\"\"}}}],\"scattermapbox\":[{\"type\":\"scattermapbox\",\"marker\":{\"colorbar\":{\"outlinewidth\":0,\"ticks\":\"\"}}}],\"scatterternary\":[{\"type\":\"scatterternary\",\"marker\":{\"colorbar\":{\"outlinewidth\":0,\"ticks\":\"\"}}}],\"scattercarpet\":[{\"type\":\"scattercarpet\",\"marker\":{\"colorbar\":{\"outlinewidth\":0,\"ticks\":\"\"}}}],\"carpet\":[{\"aaxis\":{\"endlinecolor\":\"#2a3f5f\",\"gridcolor\":\"white\",\"linecolor\":\"white\",\"minorgridcolor\":\"white\",\"startlinecolor\":\"#2a3f5f\"},\"baxis\":{\"endlinecolor\":\"#2a3f5f\",\"gridcolor\":\"white\",\"linecolor\":\"white\",\"minorgridcolor\":\"white\",\"startlinecolor\":\"#2a3f5f\"},\"type\":\"carpet\"}],\"table\":[{\"cells\":{\"fill\":{\"color\":\"#EBF0F8\"},\"line\":{\"color\":\"white\"}},\"header\":{\"fill\":{\"color\":\"#C8D4E3\"},\"line\":{\"color\":\"white\"}},\"type\":\"table\"}],\"barpolar\":[{\"marker\":{\"line\":{\"color\":\"#E5ECF6\",\"width\":0.5},\"pattern\":{\"fillmode\":\"overlay\",\"size\":10,\"solidity\":0.2}},\"type\":\"barpolar\"}],\"pie\":[{\"automargin\":true,\"type\":\"pie\"}]},\"layout\":{\"autotypenumbers\":\"strict\",\"colorway\":[\"#636efa\",\"#EF553B\",\"#00cc96\",\"#ab63fa\",\"#FFA15A\",\"#19d3f3\",\"#FF6692\",\"#B6E880\",\"#FF97FF\",\"#FECB52\"],\"font\":{\"color\":\"#2a3f5f\"},\"hovermode\":\"closest\",\"hoverlabel\":{\"align\":\"left\"},\"paper_bgcolor\":\"white\",\"plot_bgcolor\":\"#E5ECF6\",\"polar\":{\"bgcolor\":\"#E5ECF6\",\"angularaxis\":{\"gridcolor\":\"white\",\"linecolor\":\"white\",\"ticks\":\"\"},\"radialaxis\":{\"gridcolor\":\"white\",\"linecolor\":\"white\",\"ticks\":\"\"}},\"ternary\":{\"bgcolor\":\"#E5ECF6\",\"aaxis\":{\"gridcolor\":\"white\",\"linecolor\":\"white\",\"ticks\":\"\"},\"baxis\":{\"gridcolor\":\"white\",\"linecolor\":\"white\",\"ticks\":\"\"},\"caxis\":{\"gridcolor\":\"white\",\"linecolor\":\"white\",\"ticks\":\"\"}},\"coloraxis\":{\"colorbar\":{\"outlinewidth\":0,\"ticks\":\"\"}},\"colorscale\":{\"sequential\":[[0.0,\"#0d0887\"],[0.1111111111111111,\"#46039f\"],[0.2222222222222222,\"#7201a8\"],[0.3333333333333333,\"#9c179e\"],[0.4444444444444444,\"#bd3786\"],[0.5555555555555556,\"#d8576b\"],[0.6666666666666666,\"#ed7953\"],[0.7777777777777778,\"#fb9f3a\"],[0.8888888888888888,\"#fdca26\"],[1.0,\"#f0f921\"]],\"sequentialminus\":[[0.0,\"#0d0887\"],[0.1111111111111111,\"#46039f\"],[0.2222222222222222,\"#7201a8\"],[0.3333333333333333,\"#9c179e\"],[0.4444444444444444,\"#bd3786\"],[0.5555555555555556,\"#d8576b\"],[0.6666666666666666,\"#ed7953\"],[0.7777777777777778,\"#fb9f3a\"],[0.8888888888888888,\"#fdca26\"],[1.0,\"#f0f921\"]],\"diverging\":[[0,\"#8e0152\"],[0.1,\"#c51b7d\"],[0.2,\"#de77ae\"],[0.3,\"#f1b6da\"],[0.4,\"#fde0ef\"],[0.5,\"#f7f7f7\"],[0.6,\"#e6f5d0\"],[0.7,\"#b8e186\"],[0.8,\"#7fbc41\"],[0.9,\"#4d9221\"],[1,\"#276419\"]]},\"xaxis\":{\"gridcolor\":\"white\",\"linecolor\":\"white\",\"ticks\":\"\",\"title\":{\"standoff\":15},\"zerolinecolor\":\"white\",\"automargin\":true,\"zerolinewidth\":2},\"yaxis\":{\"gridcolor\":\"white\",\"linecolor\":\"white\",\"ticks\":\"\",\"title\":{\"standoff\":15},\"zerolinecolor\":\"white\",\"automargin\":true,\"zerolinewidth\":2},\"scene\":{\"xaxis\":{\"backgroundcolor\":\"#E5ECF6\",\"gridcolor\":\"white\",\"linecolor\":\"white\",\"showbackground\":true,\"ticks\":\"\",\"zerolinecolor\":\"white\",\"gridwidth\":2},\"yaxis\":{\"backgroundcolor\":\"#E5ECF6\",\"gridcolor\":\"white\",\"linecolor\":\"white\",\"showbackground\":true,\"ticks\":\"\",\"zerolinecolor\":\"white\",\"gridwidth\":2},\"zaxis\":{\"backgroundcolor\":\"#E5ECF6\",\"gridcolor\":\"white\",\"linecolor\":\"white\",\"showbackground\":true,\"ticks\":\"\",\"zerolinecolor\":\"white\",\"gridwidth\":2}},\"shapedefaults\":{\"line\":{\"color\":\"#2a3f5f\"}},\"annotationdefaults\":{\"arrowcolor\":\"#2a3f5f\",\"arrowhead\":0,\"arrowwidth\":1},\"geo\":{\"bgcolor\":\"white\",\"landcolor\":\"#E5ECF6\",\"subunitcolor\":\"white\",\"showland\":true,\"showlakes\":true,\"lakecolor\":\"white\"},\"title\":{\"x\":0.05},\"mapbox\":{\"style\":\"light\"}}},\"shapes\":[{\"line\":{\"color\":\"green\",\"dash\":\"dash\",\"width\":3},\"type\":\"line\",\"x0\":512000000.0,\"x1\":512000000.0,\"xref\":\"x\",\"y0\":0,\"y1\":1,\"yref\":\"y domain\"}],\"annotations\":[{\"align\":\"left\",\"arrowcolor\":\"#636363\",\"arrowhead\":1,\"arrowsize\":1,\"arrowwidth\":2,\"ax\":-20,\"ay\":-30,\"font\":{\"color\":\"purple\",\"family\":\"Sans Serif\",\"size\":12},\"showarrow\":false,\"text\":\"LLC Size Per Node\",\"x\":\"512e6\",\"y\":130,\"yanchor\":\"bottom\"}],\"xaxis\":{\"title\":{\"text\":\"Dirc_Data_Mov\"},\"ticks\":\"outside\"},\"yaxis\":{\"title\":{\"text\":\"GFLOPs/Node\"},\"ticks\":\"outside\"},\"title\":{\"text\":\"\\\"Newgeo-AVX (2-Nodes): probempi vs nonprobempi\\\" GFlops Measurement\"},\"legend\":{\"bordercolor\":\"black\",\"borderwidth\":1}},                        {\"responsive\": true}                    ).then(function(){\n",
       "                            \n",
       "var gd = document.getElementById('c4477d80-33af-40f8-bd7c-da1f6f8987d3');\n",
       "var x = new MutationObserver(function (mutations, observer) {{\n",
       "        var display = window.getComputedStyle(gd).display;\n",
       "        if (!display || display === 'none') {{\n",
       "            console.log([gd, 'removed!']);\n",
       "            Plotly.purge(gd);\n",
       "            observer.disconnect();\n",
       "        }}\n",
       "}});\n",
       "\n",
       "// Listen for the removal of the full notebook cells\n",
       "var notebookContainer = gd.closest('#notebook-container');\n",
       "if (notebookContainer) {{\n",
       "    x.observe(notebookContainer, {childList: true});\n",
       "}}\n",
       "\n",
       "// Listen for the clearing of the current output cell\n",
       "var outputEl = gd.closest('.output');\n",
       "if (outputEl) {{\n",
       "    x.observe(outputEl, {childList: true});\n",
       "}}\n",
       "\n",
       "                        })                };                });            </script>        </div>"
      ]
     },
     "metadata": {},
     "output_type": "display_data"
    }
   ],
   "source": [
    "fig = go.Figure() \n",
    "\n",
    "fig.add_trace(go.Scatter(x=(dfn2AvxNewgeoNonProb_256mpi_1omp.Dirc_Data_Mov*(dfn2AvxNewgeoNonProb_256mpi_1omp.MPI_size/2)), \n",
    "                         y=(dfn2AvxNewgeoNonProb_256mpi_1omp.GFLOPS*(dfn2AvxNewgeoNonProb_256mpi_1omp.MPI_size/2)), \n",
    "                         mode='lines+markers', \n",
    "                         name='AvxNewgeoNonProb_256mpi_1omp',\n",
    "                         line=dict(color='magenta',width=3),\n",
    "                         marker=dict(symbol='hexagon',size=9, line=dict(color='yellow',width=1))))\n",
    "\n",
    "\n",
    "fig.add_trace(go.Scatter(x=(dfn2AvxNewgeoProb_256mpi_1omp.Dirc_Data_Mov*(dfn2AvxNewgeoProb_256mpi_1omp.MPI_size/2)), \n",
    "                         y=(dfn2AvxNewgeoProb_256mpi_1omp.GFLOPS*(dfn2AvxNewgeoProb_256mpi_1omp.MPI_size/2)), \n",
    "                         mode='lines+markers', \n",
    "                         name='AvxNonFusProb_256mpi_1omp',\n",
    "                         line=dict(color='olive',width=3),\n",
    "                         marker=dict(symbol='hexagon',size=9, line=dict(color='yellow',width=1))))\n",
    "\n",
    "# case 2\n",
    "fig.add_trace(go.Scatter(x=(dfn2AvxNewgeoNonProb_128mpi_2omp.Dirc_Data_Mov*(dfn2AvxNewgeoNonProb_128mpi_2omp.MPI_size/2)), \n",
    "                         y=(dfn2AvxNewgeoNonProb_128mpi_2omp.GFLOPS*(dfn2AvxNewgeoNonProb_128mpi_2omp.MPI_size/2)), \n",
    "                         mode='lines+markers', \n",
    "                         name='AvxNewgeoNonProb_128mpi_2omp',\n",
    "                         line=dict(color='sandybrown',width=3),\n",
    "                         marker=dict(symbol='diamond',size=5,line=dict(color='MediumPurple',width=2))))\n",
    "\n",
    "fig.add_trace(go.Scatter(x=(dfn2AvxNewgeoProb_128mpi_2omp.Dirc_Data_Mov*(dfn2AvxNewgeoProb_128mpi_2omp.MPI_size/2)), \n",
    "                         y=(dfn2AvxNewgeoProb_128mpi_2omp.GFLOPS*(dfn2AvxNewgeoProb_128mpi_2omp.MPI_size/2)), \n",
    "                         mode='lines+markers', \n",
    "                         name='AvxNewgeoProb_128mpi_2omp',\n",
    "                         line=dict(color='royalblue',width=3),\n",
    "                         marker=dict(symbol='diamond',size=5,line=dict(color='MediumPurple',width=2))))\n",
    "\n",
    "# case 3\n",
    "fig.add_trace(go.Scatter(x=(dfn2AvxNewgeoNonProb_64mpi_4omp.Dirc_Data_Mov*(dfn2AvxNewgeoNonProb_64mpi_4omp.MPI_size/2)), \n",
    "                         y=(dfn2AvxNewgeoNonProb_64mpi_4omp.GFLOPS*(dfn2AvxNewgeoNonProb_64mpi_4omp.MPI_size/2)), \n",
    "                         mode='lines+markers', \n",
    "                         name='AvxNewgeoNonProb_64mpi_4omp',\n",
    "                         line=dict(color='cyan',width=3),\n",
    "                         marker=dict(symbol='circle',size=7,line=dict(color='Purple',width=2))))\n",
    "\n",
    "fig.add_trace(go.Scatter(x=(dfn2AvxNewgeoProb_64mpi_4omp.Dirc_Data_Mov*(dfn2AvxNewgeoProb_64mpi_4omp.MPI_size/2)), \n",
    "                         y=(dfn2AvxNewgeoProb_64mpi_4omp.GFLOPS*(dfn2AvxNewgeoProb_64mpi_4omp.MPI_size/2)), \n",
    "                         mode='lines+markers', \n",
    "                         name='AvxNewgeoProb_64mpi_4omp',\n",
    "                         line=dict(color='darkblue',width=3),\n",
    "                         marker=dict(symbol='circle',size=7, line=dict(color='tomato',width=2))))\n",
    "\n",
    "# case 4\n",
    "fig.add_trace(go.Scatter(x=(dfn2AvxNewgeoNonProb_32mpi_8omp.Dirc_Data_Mov*(dfn2AvxNewgeoNonProb_32mpi_8omp.MPI_size/2)), \n",
    "                         y=(dfn2AvxNewgeoNonProb_32mpi_8omp.GFLOPS*(dfn2AvxNewgeoNonProb_32mpi_8omp.MPI_size/2)), \n",
    "                         mode='lines+markers', \n",
    "                         name='AvxFusNonProb_32mpi_8omp',\n",
    "                         line=dict(color='red',width=3),\n",
    "                         marker=dict(symbol='circle',size=5,line=dict(color='red',width=2))))\n",
    "\n",
    "fig.add_trace(go.Scatter(x=(dfn2AvxNewgeoProb_32mpi_8omp.Dirc_Data_Mov*(dfn2AvxNewgeoProb_32mpi_8omp.MPI_size/2)), \n",
    "                         y=(dfn2AvxNewgeoProb_32mpi_8omp.GFLOPS*(dfn2AvxNewgeoProb_32mpi_8omp.MPI_size/2)), \n",
    "                         mode='lines+markers', \n",
    "                         name='AvxNewgeoProb_32mpi_8omp',\n",
    "                         line=dict(color='green',width=3),\n",
    "                         marker=dict(symbol='circle',size=5,line=dict(color='green',width=2))))\n",
    "\n",
    "# case 5\n",
    "\n",
    "fig.add_trace(go.Scatter(x=(dfn2AvxNewgeoNonProb_16mpi_16omp.Dirc_Data_Mov*(dfn2AvxNewgeoNonProb_16mpi_16omp.MPI_size/2)), \n",
    "                         y=(dfn2AvxNewgeoNonProb_16mpi_16omp.GFLOPS*(dfn2AvxNewgeoNonProb_16mpi_16omp.MPI_size/2)), \n",
    "                         mode='lines+markers', \n",
    "                         name='AvxNewgeoNonProb_16mpi_16omp',\n",
    "                         line=dict(color='blue',width=3),\n",
    "                         marker=dict(symbol='triangle-up',size=4,line=dict(color='chocolate',width=2))))\n",
    "\n",
    "fig.add_trace(go.Scatter(x=(dfn2AvxNewgeoProb_16mpi_16omp.Dirc_Data_Mov*(dfn2AvxNewgeoProb_16mpi_16omp.MPI_size/2)), \n",
    "                         y=(dfn2AvxNewgeoProb_16mpi_16omp.GFLOPS*(dfn2AvxNewgeoProb_16mpi_16omp.MPI_size/2)), \n",
    "                         mode='lines+markers', \n",
    "                         name='AvxNewgeoProb_16mpi_16omp',\n",
    "                         line=dict(color='darkviolet',width=3),\n",
    "                         marker=dict(symbol='triangle-up',size=4,line=dict(color='crimson',width=2))))\n",
    "\n",
    "\n",
    "\n",
    "# Adding a vertical line\n",
    "fig.add_vline(x=512e6, line_width=3, line_dash=\"dash\", line_color=\"green\")\n",
    "# fig.add_hline(y=1024, line_width=3, line_dash=\"dash\", line_color=\"red\")\n",
    "\n",
    "# Add annotation\n",
    "fig.add_annotation(\n",
    "    x='512e6'\n",
    "    , y=130\n",
    "    , text=f'LLC Size Per Node'\n",
    "    , yanchor='bottom'\n",
    "    , showarrow=False\n",
    "    , arrowhead=1\n",
    "    , arrowsize=1\n",
    "    , arrowwidth=2\n",
    "    , arrowcolor=\"#636363\"\n",
    "    , ax=-20\n",
    "    , ay=-30\n",
    "    , font=dict(size=12, color=\"purple\", family=\"Sans Serif\")\n",
    "    , align=\"left\"\n",
    "    ,)\n",
    "\n",
    "fig.update_layout(title='\"Newgeo-AVX (2-Nodes): probempi vs nonprobempi\" GFlops Measurement',\n",
    "                  xaxis_title='Dirc_Data_Mov', yaxis_title='GFLOPs/Node', \n",
    "                  xaxis=dict(ticks=\"outside\"),  \n",
    "                  yaxis=dict(ticks=\"outside\"),\n",
    "                  legend=go.layout.Legend(bordercolor=\"black\",borderwidth=1))"
   ]
  },
  {
   "cell_type": "code",
   "execution_count": null,
   "id": "d9e94f4b",
   "metadata": {},
   "outputs": [],
   "source": []
  },
  {
   "cell_type": "code",
   "execution_count": null,
   "id": "68503a73",
   "metadata": {},
   "outputs": [],
   "source": []
  },
  {
   "cell_type": "code",
   "execution_count": null,
   "id": "3c62a6dc",
   "metadata": {},
   "outputs": [],
   "source": []
  },
  {
   "cell_type": "code",
   "execution_count": null,
   "id": "190843e4",
   "metadata": {},
   "outputs": [],
   "source": []
  },
  {
   "cell_type": "markdown",
   "id": "d76385e4",
   "metadata": {},
   "source": [
    "# HIPPO VECT CASES"
   ]
  },
  {
   "cell_type": "markdown",
   "id": "7845ab3c",
   "metadata": {},
   "source": [
    "## 1) Fused_VECT_Probmpi"
   ]
  },
  {
   "cell_type": "markdown",
   "id": "ac946ce8",
   "metadata": {},
   "source": [
    "### Adding Columns"
   ]
  },
  {
   "cell_type": "code",
   "execution_count": 170,
   "id": "9f5dd49d",
   "metadata": {},
   "outputs": [],
   "source": [
    "dfn2_vect_fused_probmpi[\"N_Nodes\"] = 2\n",
    "dfn2_vect_fused_probmpi['NPX'] = (dfn2_vect_fused_probmpi.GLB_X//dfn2_vect_fused_probmpi.LOC_X)\n",
    "dfn2_vect_fused_probmpi['NPY'] = (dfn2_vect_fused_probmpi.GLB_Y//dfn2_vect_fused_probmpi.LOC_Y)\n",
    "dfn2_vect_fused_probmpi['NPZ'] = (dfn2_vect_fused_probmpi.GLB_Z//dfn2_vect_fused_probmpi.LOC_Z)\n",
    "dfn2_vect_fused_probmpi['NPT'] = (dfn2_vect_fused_probmpi.GLB_T//dfn2_vect_fused_probmpi.LOC_T)\n",
    "dfn2_vect_fused_probmpi[\"Total_proc\"] = dfn2_vect_fused_probmpi[\"omp_thrd\"]* dfn2_vect_fused_probmpi.MPI_size\n",
    "# dfn2_vect_fused_probmpi.columns"
   ]
  },
  {
   "cell_type": "markdown",
   "id": "e8b7ee96",
   "metadata": {},
   "source": [
    "### Data Summary"
   ]
  },
  {
   "cell_type": "code",
   "execution_count": 154,
   "id": "0bf6922d",
   "metadata": {},
   "outputs": [
    {
     "data": {
      "text/html": [
       "<div>\n",
       "<style scoped>\n",
       "    .dataframe tbody tr th:only-of-type {\n",
       "        vertical-align: middle;\n",
       "    }\n",
       "\n",
       "    .dataframe tbody tr th {\n",
       "        vertical-align: top;\n",
       "    }\n",
       "\n",
       "    .dataframe thead th {\n",
       "        text-align: right;\n",
       "    }\n",
       "</style>\n",
       "<table border=\"1\" class=\"dataframe\">\n",
       "  <thead>\n",
       "    <tr style=\"text-align: right;\">\n",
       "      <th></th>\n",
       "      <th>MPI_size</th>\n",
       "      <th>omp_thrd</th>\n",
       "      <th>NPT</th>\n",
       "      <th>NPX</th>\n",
       "      <th>NPY</th>\n",
       "      <th>NPZ</th>\n",
       "      <th>Total_proc</th>\n",
       "      <th>size</th>\n",
       "    </tr>\n",
       "  </thead>\n",
       "  <tbody>\n",
       "    <tr>\n",
       "      <th>0</th>\n",
       "      <td>16</td>\n",
       "      <td>16</td>\n",
       "      <td>2</td>\n",
       "      <td>2</td>\n",
       "      <td>2</td>\n",
       "      <td>2</td>\n",
       "      <td>256</td>\n",
       "      <td>140</td>\n",
       "    </tr>\n",
       "    <tr>\n",
       "      <th>1</th>\n",
       "      <td>32</td>\n",
       "      <td>8</td>\n",
       "      <td>4</td>\n",
       "      <td>2</td>\n",
       "      <td>2</td>\n",
       "      <td>2</td>\n",
       "      <td>256</td>\n",
       "      <td>70</td>\n",
       "    </tr>\n",
       "    <tr>\n",
       "      <th>2</th>\n",
       "      <td>64</td>\n",
       "      <td>4</td>\n",
       "      <td>8</td>\n",
       "      <td>2</td>\n",
       "      <td>2</td>\n",
       "      <td>2</td>\n",
       "      <td>256</td>\n",
       "      <td>35</td>\n",
       "    </tr>\n",
       "    <tr>\n",
       "      <th>3</th>\n",
       "      <td>128</td>\n",
       "      <td>2</td>\n",
       "      <td>16</td>\n",
       "      <td>2</td>\n",
       "      <td>2</td>\n",
       "      <td>2</td>\n",
       "      <td>256</td>\n",
       "      <td>17</td>\n",
       "    </tr>\n",
       "    <tr>\n",
       "      <th>4</th>\n",
       "      <td>248</td>\n",
       "      <td>1</td>\n",
       "      <td>31</td>\n",
       "      <td>2</td>\n",
       "      <td>2</td>\n",
       "      <td>2</td>\n",
       "      <td>248</td>\n",
       "      <td>4</td>\n",
       "    </tr>\n",
       "    <tr>\n",
       "      <th>5</th>\n",
       "      <td>256</td>\n",
       "      <td>1</td>\n",
       "      <td>32</td>\n",
       "      <td>2</td>\n",
       "      <td>2</td>\n",
       "      <td>2</td>\n",
       "      <td>256</td>\n",
       "      <td>7</td>\n",
       "    </tr>\n",
       "  </tbody>\n",
       "</table>\n",
       "</div>"
      ],
      "text/plain": [
       "   MPI_size  omp_thrd  NPT  NPX  NPY  NPZ  Total_proc  size\n",
       "0        16        16    2    2    2    2         256   140\n",
       "1        32         8    4    2    2    2         256    70\n",
       "2        64         4    8    2    2    2         256    35\n",
       "3       128         2   16    2    2    2         256    17\n",
       "4       248         1   31    2    2    2         248     4\n",
       "5       256         1   32    2    2    2         256     7"
      ]
     },
     "execution_count": 154,
     "metadata": {},
     "output_type": "execute_result"
    }
   ],
   "source": [
    "dfn2_vect_fused_probmpi_summary = dfn2_vect_fused_probmpi.groupby(['MPI_size','omp_thrd','NPT','NPX', 'NPY', 'NPZ',\"Total_proc\"]).size().reset_index(name = 'size')\n",
    "dfn2_vect_fused_probmpi_summary"
   ]
  },
  {
   "cell_type": "markdown",
   "id": "28c4ac5a",
   "metadata": {},
   "source": [
    "### Cases Setup"
   ]
  },
  {
   "cell_type": "code",
   "execution_count": 160,
   "id": "c71e2f5b",
   "metadata": {},
   "outputs": [],
   "source": [
    "dfn2VectFusProb_16mpi_16omp = dfn2_vect_fused_probmpi[(dfn2_vect_fused_probmpi.omp_thrd == 16) & (dfn2_vect_fused_probmpi.GLB_T/dfn2_vect_fused_probmpi.LOC_T == 2) & (dfn2_vect_fused_probmpi.GLB_X/dfn2_vect_fused_probmpi.LOC_X == 2) & (dfn2_vect_fused_probmpi.GLB_Y/dfn2_vect_fused_probmpi.LOC_Y == 2)& (dfn2_vect_fused_probmpi.GLB_Z/dfn2_vect_fused_probmpi.LOC_Z == 2)]\n",
    "dfn2VectFusProb_32mpi_8omp = dfn2_vect_fused_probmpi[(dfn2_vect_fused_probmpi.omp_thrd == 8) & (dfn2_vect_fused_probmpi.GLB_T/dfn2_vect_fused_probmpi.LOC_T == 4) & (dfn2_vect_fused_probmpi.GLB_X/dfn2_vect_fused_probmpi.LOC_X == 2) & (dfn2_vect_fused_probmpi.GLB_Y/dfn2_vect_fused_probmpi.LOC_Y == 2)& (dfn2_vect_fused_probmpi.GLB_Z/dfn2_vect_fused_probmpi.LOC_Z == 2)]\n",
    "dfn2VectFusProb_64mpi_4omp = dfn2_vect_fused_probmpi[(dfn2_vect_fused_probmpi.omp_thrd == 4) & (dfn2_vect_fused_probmpi.GLB_T/dfn2_vect_fused_probmpi.LOC_T == 8) & (dfn2_vect_fused_probmpi.GLB_X/dfn2_vect_fused_probmpi.LOC_X == 2) & (dfn2_vect_fused_probmpi.GLB_Y/dfn2_vect_fused_probmpi.LOC_Y == 2)& (dfn2_vect_fused_probmpi.GLB_Z/dfn2_vect_fused_probmpi.LOC_Z == 2)]\n",
    "dfn2VectFusProb_128mpi_2omp = dfn2_vect_fused_probmpi[(dfn2_vect_fused_probmpi.omp_thrd == 2) & (dfn2_vect_fused_probmpi.GLB_T/dfn2_vect_fused_probmpi.LOC_T == 16) & (dfn2_vect_fused_probmpi.GLB_X/dfn2_vect_fused_probmpi.LOC_X == 2) & (dfn2_vect_fused_probmpi.GLB_Y/dfn2_vect_fused_probmpi.LOC_Y == 2)& (dfn2_vect_fused_probmpi.GLB_Z/dfn2_vect_fused_probmpi.LOC_Z == 2)]\n",
    "dfn2VectFusProb_256mpi_1omp = dfn2_vect_fused_probmpi[(dfn2_vect_fused_probmpi.omp_thrd == 1) & (dfn2_vect_fused_probmpi.GLB_T/dfn2_vect_fused_probmpi.LOC_T == 32) & (dfn2_vect_fused_probmpi.GLB_X/dfn2_vect_fused_probmpi.LOC_X == 2) & (dfn2_vect_fused_probmpi.GLB_Y/dfn2_vect_fused_probmpi.LOC_Y == 2)& (dfn2_vect_fused_probmpi.GLB_Z/dfn2_vect_fused_probmpi.LOC_Z == 2)]\n"
   ]
  },
  {
   "cell_type": "markdown",
   "id": "e8973d85",
   "metadata": {},
   "source": [
    "## 2) Fused_VECT_NonProbmpi"
   ]
  },
  {
   "cell_type": "markdown",
   "id": "d3d676a1",
   "metadata": {},
   "source": [
    "### Adding Columns"
   ]
  },
  {
   "cell_type": "code",
   "execution_count": 162,
   "id": "aeac5c06",
   "metadata": {},
   "outputs": [],
   "source": [
    "dfn2_vect_fused_nonprobmpi[\"N_Nodes\"] = 2\n",
    "dfn2_vect_fused_nonprobmpi['NPX'] = (dfn2_vect_fused_nonprobmpi.GLB_X//dfn2_vect_fused_nonprobmpi.LOC_X)\n",
    "dfn2_vect_fused_nonprobmpi['NPY'] = (dfn2_vect_fused_nonprobmpi.GLB_Y//dfn2_vect_fused_nonprobmpi.LOC_Y)\n",
    "dfn2_vect_fused_nonprobmpi['NPZ'] = (dfn2_vect_fused_nonprobmpi.GLB_Z//dfn2_vect_fused_nonprobmpi.LOC_Z)\n",
    "dfn2_vect_fused_nonprobmpi['NPT'] = (dfn2_vect_fused_nonprobmpi.GLB_T//dfn2_vect_fused_nonprobmpi.LOC_T)\n",
    "dfn2_vect_fused_nonprobmpi[\"Total_proc\"] = dfn2_vect_fused_nonprobmpi[\"omp_thrd\"]* dfn2_vect_fused_nonprobmpi.MPI_size\n",
    "# dfn2_vect_fused_nonprobmpi.columns"
   ]
  },
  {
   "cell_type": "markdown",
   "id": "f6373de1",
   "metadata": {},
   "source": [
    "### Data Summary"
   ]
  },
  {
   "cell_type": "code",
   "execution_count": 163,
   "id": "eaa71d98",
   "metadata": {},
   "outputs": [
    {
     "data": {
      "text/html": [
       "<div>\n",
       "<style scoped>\n",
       "    .dataframe tbody tr th:only-of-type {\n",
       "        vertical-align: middle;\n",
       "    }\n",
       "\n",
       "    .dataframe tbody tr th {\n",
       "        vertical-align: top;\n",
       "    }\n",
       "\n",
       "    .dataframe thead th {\n",
       "        text-align: right;\n",
       "    }\n",
       "</style>\n",
       "<table border=\"1\" class=\"dataframe\">\n",
       "  <thead>\n",
       "    <tr style=\"text-align: right;\">\n",
       "      <th></th>\n",
       "      <th>MPI_size</th>\n",
       "      <th>omp_thrd</th>\n",
       "      <th>NPT</th>\n",
       "      <th>NPX</th>\n",
       "      <th>NPY</th>\n",
       "      <th>NPZ</th>\n",
       "      <th>Total_proc</th>\n",
       "      <th>size</th>\n",
       "    </tr>\n",
       "  </thead>\n",
       "  <tbody>\n",
       "    <tr>\n",
       "      <th>0</th>\n",
       "      <td>16</td>\n",
       "      <td>16</td>\n",
       "      <td>2</td>\n",
       "      <td>2</td>\n",
       "      <td>2</td>\n",
       "      <td>2</td>\n",
       "      <td>256</td>\n",
       "      <td>139</td>\n",
       "    </tr>\n",
       "    <tr>\n",
       "      <th>1</th>\n",
       "      <td>32</td>\n",
       "      <td>8</td>\n",
       "      <td>4</td>\n",
       "      <td>2</td>\n",
       "      <td>2</td>\n",
       "      <td>2</td>\n",
       "      <td>256</td>\n",
       "      <td>70</td>\n",
       "    </tr>\n",
       "    <tr>\n",
       "      <th>2</th>\n",
       "      <td>64</td>\n",
       "      <td>4</td>\n",
       "      <td>8</td>\n",
       "      <td>2</td>\n",
       "      <td>2</td>\n",
       "      <td>2</td>\n",
       "      <td>256</td>\n",
       "      <td>35</td>\n",
       "    </tr>\n",
       "    <tr>\n",
       "      <th>3</th>\n",
       "      <td>128</td>\n",
       "      <td>2</td>\n",
       "      <td>16</td>\n",
       "      <td>2</td>\n",
       "      <td>2</td>\n",
       "      <td>2</td>\n",
       "      <td>256</td>\n",
       "      <td>16</td>\n",
       "    </tr>\n",
       "    <tr>\n",
       "      <th>4</th>\n",
       "      <td>248</td>\n",
       "      <td>1</td>\n",
       "      <td>31</td>\n",
       "      <td>2</td>\n",
       "      <td>2</td>\n",
       "      <td>2</td>\n",
       "      <td>248</td>\n",
       "      <td>4</td>\n",
       "    </tr>\n",
       "    <tr>\n",
       "      <th>5</th>\n",
       "      <td>256</td>\n",
       "      <td>1</td>\n",
       "      <td>32</td>\n",
       "      <td>2</td>\n",
       "      <td>2</td>\n",
       "      <td>2</td>\n",
       "      <td>256</td>\n",
       "      <td>6</td>\n",
       "    </tr>\n",
       "  </tbody>\n",
       "</table>\n",
       "</div>"
      ],
      "text/plain": [
       "   MPI_size  omp_thrd  NPT  NPX  NPY  NPZ  Total_proc  size\n",
       "0        16        16    2    2    2    2         256   139\n",
       "1        32         8    4    2    2    2         256    70\n",
       "2        64         4    8    2    2    2         256    35\n",
       "3       128         2   16    2    2    2         256    16\n",
       "4       248         1   31    2    2    2         248     4\n",
       "5       256         1   32    2    2    2         256     6"
      ]
     },
     "execution_count": 163,
     "metadata": {},
     "output_type": "execute_result"
    }
   ],
   "source": [
    "dfn2_vect_fused_nonprobmpi_summary = dfn2_vect_fused_nonprobmpi.groupby(['MPI_size','omp_thrd','NPT','NPX', 'NPY', 'NPZ',\"Total_proc\"]).size().reset_index(name = 'size')\n",
    "dfn2_vect_fused_nonprobmpi_summary"
   ]
  },
  {
   "cell_type": "markdown",
   "id": "9e2485b4",
   "metadata": {},
   "source": [
    "### Cases Setup"
   ]
  },
  {
   "cell_type": "code",
   "execution_count": 169,
   "id": "7bd8874b",
   "metadata": {},
   "outputs": [],
   "source": [
    "dfn2VectFusNonProb_16mpi_16omp = dfn2_vect_fused_nonprobmpi[(dfn2_vect_fused_nonprobmpi.omp_thrd == 16) & (dfn2_vect_fused_nonprobmpi.GLB_T/dfn2_vect_fused_nonprobmpi.LOC_T == 2) & (dfn2_vect_fused_nonprobmpi.GLB_X/dfn2_vect_fused_nonprobmpi.LOC_X == 2) & (dfn2_vect_fused_nonprobmpi.GLB_Y/dfn2_vect_fused_nonprobmpi.LOC_Y == 2)& (dfn2_vect_fused_nonprobmpi.GLB_Z/dfn2_vect_fused_nonprobmpi.LOC_Z == 2)]\n",
    "dfn2VectFusNonProb_32mpi_8omp = dfn2_vect_fused_nonprobmpi[(dfn2_vect_fused_nonprobmpi.omp_thrd == 8) & (dfn2_vect_fused_nonprobmpi.GLB_T/dfn2_vect_fused_nonprobmpi.LOC_T == 4) & (dfn2_vect_fused_nonprobmpi.GLB_X/dfn2_vect_fused_nonprobmpi.LOC_X == 2) & (dfn2_vect_fused_nonprobmpi.GLB_Y/dfn2_vect_fused_nonprobmpi.LOC_Y == 2)& (dfn2_vect_fused_nonprobmpi.GLB_Z/dfn2_vect_fused_nonprobmpi.LOC_Z == 2)]\n",
    "dfn2VectFusNonProb_64mpi_4omp = dfn2_vect_fused_nonprobmpi[(dfn2_vect_fused_nonprobmpi.omp_thrd == 4) & (dfn2_vect_fused_nonprobmpi.GLB_T/dfn2_vect_fused_nonprobmpi.LOC_T == 8) & (dfn2_vect_fused_nonprobmpi.GLB_X/dfn2_vect_fused_nonprobmpi.LOC_X == 2) & (dfn2_vect_fused_nonprobmpi.GLB_Y/dfn2_vect_fused_nonprobmpi.LOC_Y == 2)& (dfn2_vect_fused_nonprobmpi.GLB_Z/dfn2_vect_fused_nonprobmpi.LOC_Z == 2)]\n",
    "dfn2VectFusNonProb_128mpi_2omp = dfn2_vect_fused_nonprobmpi[(dfn2_vect_fused_nonprobmpi.omp_thrd == 2) & (dfn2_vect_fused_nonprobmpi.GLB_T/dfn2_vect_fused_nonprobmpi.LOC_T == 16) & (dfn2_vect_fused_nonprobmpi.GLB_X/dfn2_vect_fused_nonprobmpi.LOC_X == 2) & (dfn2_vect_fused_nonprobmpi.GLB_Y/dfn2_vect_fused_nonprobmpi.LOC_Y == 2)& (dfn2_vect_fused_nonprobmpi.GLB_Z/dfn2_vect_fused_nonprobmpi.LOC_Z == 2)]\n",
    "dfn2VectFusNonProb_256mpi_1omp = dfn2_vect_fused_nonprobmpi[(dfn2_vect_fused_nonprobmpi.omp_thrd == 1) & (dfn2_vect_fused_nonprobmpi.GLB_T/dfn2_vect_fused_nonprobmpi.LOC_T == 32) & (dfn2_vect_fused_nonprobmpi.GLB_X/dfn2_vect_fused_nonprobmpi.LOC_X == 2) & (dfn2_vect_fused_nonprobmpi.GLB_Y/dfn2_vect_fused_nonprobmpi.LOC_Y == 2)& (dfn2_vect_fused_nonprobmpi.GLB_Z/dfn2_vect_fused_nonprobmpi.LOC_Z == 2)]\n"
   ]
  },
  {
   "cell_type": "markdown",
   "id": "135781df",
   "metadata": {},
   "source": [
    "## GFLOPS - Fused VECT: probempi vs nonprobempi"
   ]
  },
  {
   "cell_type": "code",
   "execution_count": 171,
   "id": "abd2e944",
   "metadata": {},
   "outputs": [
    {
     "data": {
      "application/vnd.plotly.v1+json": {
       "config": {
        "plotlyServerURL": "https://plot.ly"
       },
       "data": [
        {
         "line": {
          "color": "magenta",
          "width": 3
         },
         "marker": {
          "line": {
           "color": "yellow",
           "width": 1
          },
          "size": 9,
          "symbol": "hexagon"
         },
         "mode": "lines+markers",
         "name": "VectFusNonProb_256mpi_1omp",
         "type": "scatter",
         "x": [
          1572864000,
          1966080000,
          2359296000,
          2752512000,
          3145728000,
          3932160000
         ],
         "y": [
          245.50016,
          225.71008,
          201.64736,
          191.59552,
          183.30368,
          142.35008
         ]
        },
        {
         "line": {
          "color": "olive",
          "width": 3
         },
         "marker": {
          "line": {
           "color": "yellow",
           "width": 1
          },
          "size": 9,
          "symbol": "hexagon"
         },
         "mode": "lines+markers",
         "name": "VectFusProb_256mpi_1omp",
         "type": "scatter",
         "x": [
          1572864000,
          1966080000,
          2359296000,
          2752512000,
          3145728000,
          3538944000,
          3932160000
         ],
         "y": [
          256.40448,
          230.71872,
          206.49984,
          196.89984,
          177.04448,
          174.15296,
          168.84352
         ]
        },
        {
         "line": {
          "color": "sandybrown",
          "width": 3
         },
         "marker": {
          "line": {
           "color": "MediumPurple",
           "width": 2
          },
          "size": 5,
          "symbol": "diamond"
         },
         "mode": "lines+markers",
         "name": "VectFusNonProb_128mpi_2omp",
         "type": "scatter",
         "x": [
          786432000,
          983040000,
          1179648000,
          1376256000,
          1572864000,
          1769472000,
          1966080000,
          2162688000,
          2359296000,
          2555904000,
          2752512000,
          3145728000,
          3342336000,
          3538944000,
          3735552000,
          3932160000
         ],
         "y": [
          328.04608,
          344.97792,
          337.6992,
          310.08576,
          296.43008,
          276.17216,
          250.95744,
          237.38432,
          226.4096,
          219.35424,
          209.67616,
          196.23168,
          183.66016,
          187.6192,
          183.54624,
          172.95552
         ]
        },
        {
         "line": {
          "color": "royalblue",
          "width": 3
         },
         "marker": {
          "line": {
           "color": "MediumPurple",
           "width": 2
          },
          "size": 5,
          "symbol": "diamond"
         },
         "mode": "lines+markers",
         "name": "VectFusProb_128mpi_2omp",
         "type": "scatter",
         "x": [
          983040000,
          786432000,
          1179648000,
          1376256000,
          1572864000,
          1769472000,
          1966080000,
          2162688000,
          2359296000,
          2555904000,
          2752512000,
          2949120000,
          3145728000,
          3342336000,
          3735552000,
          3538944000,
          3932160000
         ],
         "y": [
          344.272,
          342.43392,
          343.69984,
          297.62624,
          293.58976,
          278.58624,
          244.09152,
          243.06752,
          226.7904,
          218.23168,
          208.87808,
          194.7552,
          197.8208,
          184.73024,
          173.32096,
          186.07616,
          169.3728
         ]
        },
        {
         "line": {
          "color": "cyan",
          "width": 3
         },
         "marker": {
          "line": {
           "color": "Purple",
           "width": 2
          },
          "size": 7,
          "symbol": "circle"
         },
         "mode": "lines+markers",
         "name": "VectFusNonProb_64mpi_4omp",
         "type": "scatter",
         "x": [
          589824000,
          688128000,
          786432000,
          884736000,
          983040000,
          1081344000,
          1179648000,
          1277952000,
          1376256000,
          1474560000,
          1572864000,
          1671168000,
          1769472000,
          1867776000,
          1966080000,
          2064384000,
          2162688000,
          2260992000,
          2359296000,
          2457600000,
          2555904000,
          2654208000,
          2752512000,
          2850816000,
          2949120000,
          3145728000,
          3047424000,
          3244032000,
          3342336000,
          3440640000,
          3538944000,
          3637248000,
          3735552000,
          3833856000,
          3932160000
         ],
         "y": [
          307.96736,
          318.86912,
          333.344,
          321.1104,
          309.83296,
          348.528,
          339.472,
          333.3248,
          274.4608,
          309.32288,
          289.39904,
          286.73536,
          277.59392,
          264.55616,
          247.85728,
          248.5136,
          241.09472,
          233.3168,
          226.74016,
          213.26752,
          217.66368,
          212.5568,
          205.53632,
          206.51392,
          191.1216,
          195.02016,
          198.936,
          188.06528,
          191.144,
          178.656,
          181.784,
          183.17568,
          179.73792,
          180.65344,
          168.46112
         ]
        },
        {
         "line": {
          "color": "darkblue",
          "width": 3
         },
         "marker": {
          "line": {
           "color": "tomato",
           "width": 2
          },
          "size": 7,
          "symbol": "circle"
         },
         "mode": "lines+markers",
         "name": "VectFusProb_64mpi_4omp",
         "type": "scatter",
         "x": [
          589824000,
          688128000,
          786432000,
          884736000,
          983040000,
          1081344000,
          1179648000,
          1277952000,
          1376256000,
          1474560000,
          1572864000,
          1671168000,
          1769472000,
          1867776000,
          1966080000,
          2064384000,
          2162688000,
          2260992000,
          2359296000,
          2457600000,
          2555904000,
          2654208000,
          2752512000,
          2850816000,
          2949120000,
          3047424000,
          3145728000,
          3244032000,
          3342336000,
          3440640000,
          3637248000,
          3538944000,
          3735552000,
          3833856000,
          3932160000
         ],
         "y": [
          312.272,
          322.5536,
          324.2336,
          349.0176,
          353.7696,
          339.152,
          342.7712,
          338.0224,
          322.6048,
          307.8352,
          301.27488,
          282.72416,
          279.24256,
          265.04032,
          249.89728,
          248.8208,
          242.68512,
          235.57824,
          217.1536,
          218.28832,
          215.21824,
          214.74176,
          208.57024,
          202.59968,
          197.68832,
          191.3504,
          194.36352,
          192.89664,
          187.34912,
          182.89408,
          170.29312,
          185.7712,
          181.62784,
          177.13056,
          174.96384
         ]
        },
        {
         "line": {
          "color": "red",
          "width": 3
         },
         "marker": {
          "line": {
           "color": "red",
           "width": 2
          },
          "size": 5,
          "symbol": "circle"
         },
         "mode": "lines+markers",
         "name": "VectFusNonProb_32mpi_8omp",
         "type": "scatter",
         "x": [
          540672000,
          589824000,
          688128000,
          638976000,
          737280000,
          786432000,
          835584000,
          884736000,
          933888000,
          983040000,
          1032192000,
          1081344000,
          1130496000,
          1179648000,
          1228800000,
          1277952000,
          1327104000,
          1376256000,
          1425408000,
          1474560000,
          1523712000,
          1572864000,
          1622016000,
          1671168000,
          1720320000,
          1769472000,
          1818624000,
          1867776000,
          1916928000,
          1966080000,
          2015232000,
          2064384000,
          2113536000,
          2162688000,
          2211840000,
          2260992000,
          2310144000,
          2359296000,
          2457600000,
          2408448000,
          2506752000,
          2555904000,
          2605056000,
          2654208000,
          2703360000,
          2801664000,
          2752512000,
          2850816000,
          2949120000,
          2899968000,
          2998272000,
          3047424000,
          3096576000,
          3194880000,
          3145728000,
          3244032000,
          3293184000,
          3342336000,
          3440640000,
          3391488000,
          3489792000,
          3538944000,
          3637248000,
          3686400000,
          3588096000,
          3735552000,
          3784704000,
          3833856000,
          3883008000,
          3932160000
         ],
         "y": [
          286.6112,
          301.0816,
          243.0464,
          298.4144,
          217.216,
          250.4624,
          258.1072,
          263.1552,
          263.6352,
          290.9152,
          270.64,
          284.1504,
          268.7216,
          324.344,
          318.5888,
          319.7392,
          302.5408,
          302.384,
          285.8352,
          289.16,
          282.7072,
          276.4208,
          270.992,
          267.912,
          264.7712,
          255.8416,
          250.5136,
          249.8624,
          241.3776,
          239.0944,
          233.3776,
          226.2752,
          227.5088,
          216.376,
          221.1632,
          218.5632,
          205.6256,
          212.8064,
          208.6976,
          208.7136,
          203.2368,
          179.7936,
          198.88,
          198.1232,
          193.784,
          181.7216,
          195.0416,
          192.0768,
          188.848,
          189.2928,
          177.224,
          183.1632,
          183.0384,
          180.3824,
          182.048,
          179.5248,
          169.5456,
          177.5008,
          176.1504,
          175.3584,
          173.528,
          163.744,
          170.6944,
          139.76016,
          170.344,
          169.2896,
          160.5088,
          167.072,
          166.744,
          155.0712
         ]
        },
        {
         "line": {
          "color": "green",
          "width": 3
         },
         "marker": {
          "line": {
           "color": "green",
           "width": 2
          },
          "size": 5,
          "symbol": "circle"
         },
         "mode": "lines+markers",
         "name": "VectFusProb_32mpi_8omp",
         "type": "scatter",
         "x": [
          589824000,
          540672000,
          638976000,
          688128000,
          737280000,
          835584000,
          786432000,
          884736000,
          933888000,
          983040000,
          1032192000,
          1081344000,
          1130496000,
          1179648000,
          1228800000,
          1277952000,
          1327104000,
          1376256000,
          1425408000,
          1474560000,
          1523712000,
          1572864000,
          1622016000,
          1671168000,
          1720320000,
          1769472000,
          1818624000,
          1867776000,
          1966080000,
          1916928000,
          2064384000,
          2015232000,
          2113536000,
          2162688000,
          2211840000,
          2310144000,
          2260992000,
          2359296000,
          2408448000,
          2457600000,
          2555904000,
          2506752000,
          2703360000,
          2605056000,
          2654208000,
          2752512000,
          2801664000,
          2850816000,
          2949120000,
          2899968000,
          2998272000,
          3047424000,
          3096576000,
          3194880000,
          3145728000,
          3244032000,
          3293184000,
          3342336000,
          3391488000,
          3440640000,
          3489792000,
          3538944000,
          3588096000,
          3637248000,
          3686400000,
          3735552000,
          3784704000,
          3833856000,
          3883008000,
          3932160000
         ],
         "y": [
          287.9552,
          284.92,
          294.6672,
          257.3168,
          256.768,
          268.736,
          324.752,
          287.64,
          281.7024,
          298.6512,
          284.2352,
          325.3408,
          328.28,
          321.5408,
          321.0128,
          317.0144,
          272.3808,
          297.4816,
          287.7808,
          286.6048,
          278.1152,
          270.9456,
          259.6896,
          248.6128,
          259.64,
          228.6112,
          248.64,
          240.4448,
          238.7264,
          242.4672,
          218.6384,
          233.5952,
          219.688,
          226.3856,
          221.5136,
          211.5248,
          212.4128,
          208.656,
          208.1408,
          208.6608,
          200.216,
          202.4352,
          198.4976,
          195.5632,
          199.7104,
          192.2384,
          189.2976,
          189.8352,
          187.5728,
          185.0256,
          184.0768,
          180.1344,
          184.9024,
          176.2512,
          183.3504,
          178.9136,
          173.6912,
          178.088,
          173.0016,
          175.2864,
          171.6592,
          169.1472,
          173.4384,
          168.3472,
          171.464,
          168.8064,
          163.8512,
          165.3408,
          165.7792,
          166.1712
         ]
        },
        {
         "line": {
          "color": "blue",
          "width": 3
         },
         "marker": {
          "line": {
           "color": "chocolate",
           "width": 2
          },
          "size": 4,
          "symbol": "triangle-up"
         },
         "mode": "lines+markers",
         "name": "VectFusNonProb_16mpi_16omp",
         "type": "scatter",
         "x": [
          540672000,
          516096000,
          565248000,
          638976000,
          589824000,
          614400000,
          663552000,
          688128000,
          712704000,
          761856000,
          737280000,
          786432000,
          811008000,
          884736000,
          835584000,
          860160000,
          933888000,
          909312000,
          958464000,
          983040000,
          1007616000,
          1056768000,
          1032192000,
          1081344000,
          1105920000,
          1130496000,
          1155072000,
          1179648000,
          1228800000,
          1204224000,
          1253376000,
          1277952000,
          1302528000,
          1351680000,
          1327104000,
          1376256000,
          1400832000,
          1425408000,
          1449984000,
          1474560000,
          1499136000,
          1523712000,
          1548288000,
          1572864000,
          1622016000,
          1597440000,
          1646592000,
          1671168000,
          1695744000,
          1744896000,
          1720320000,
          1769472000,
          1818624000,
          1794048000,
          1843200000,
          1867776000,
          1892352000,
          1916928000,
          1941504000,
          1966080000,
          1990656000,
          2015232000,
          2039808000,
          2064384000,
          2088960000,
          2113536000,
          2138112000,
          2187264000,
          2162688000,
          2211840000,
          2236416000,
          2260992000,
          2285568000,
          2310144000,
          2334720000,
          2359296000,
          2408448000,
          2433024000,
          2457600000,
          2482176000,
          2506752000,
          2531328000,
          2555904000,
          2580480000,
          2605056000,
          2629632000,
          2654208000,
          2678784000,
          2703360000,
          2727936000,
          2752512000,
          2777088000,
          2801664000,
          2826240000,
          2850816000,
          2875392000,
          2899968000,
          2924544000,
          2949120000,
          2973696000,
          2998272000,
          3022848000,
          3047424000,
          3072000000,
          3121152000,
          3145728000,
          3096576000,
          3170304000,
          3194880000,
          3219456000,
          3244032000,
          3293184000,
          3268608000,
          3317760000,
          3342336000,
          3366912000,
          3391488000,
          3416064000,
          3465216000,
          3440640000,
          3489792000,
          3514368000,
          3538944000,
          3563520000,
          3588096000,
          3612672000,
          3637248000,
          3661824000,
          3686400000,
          3710976000,
          3735552000,
          3760128000,
          3784704000,
          3809280000,
          3833856000,
          3883008000,
          3858432000,
          3907584000,
          3932160000
         ],
         "y": [
          186.2584,
          182.4024,
          183.828,
          159.0168,
          172.4304,
          167.5816,
          197.6632,
          186.4168,
          206.3408,
          207.3592,
          204.5216,
          206.956,
          203.0392,
          196.2096,
          203.1448,
          183.112,
          196.328,
          195.3056,
          191.2992,
          228.6968,
          220.852,
          219.2992,
          211.0072,
          213.6088,
          216.6824,
          210.672,
          207.1168,
          205.072,
          196.5256,
          199.1944,
          197.9488,
          194.6336,
          193.892,
          186.8256,
          184.8352,
          183.984,
          186.3248,
          161.8192,
          178.448,
          183.0112,
          166.1472,
          176.1608,
          158.508,
          170.9448,
          171.3536,
          148.3392,
          168.78,
          164.8864,
          156.1096,
          161.2408,
          160.9856,
          149.1656,
          158.2728,
          151.5224,
          162.6736,
          161.2664,
          161.5488,
          156.172,
          157.16,
          159.848,
          157.6032,
          155.2904,
          150.5448,
          155.224,
          152.108,
          152.4408,
          149.3528,
          149.7192,
          147.172,
          149.428,
          149.1224,
          146.3136,
          144.9968,
          142.6016,
          147.1616,
          143.9552,
          145.6872,
          140.8648,
          142.5488,
          144.9128,
          139.6792,
          138.1544,
          143.2496,
          141.2864,
          139.236,
          135.8856,
          139.9448,
          139.1848,
          138.476,
          127.7464,
          137.3248,
          136.8648,
          138.9856,
          131.6416,
          135.14,
          136.2576,
          133.5784,
          125.9776,
          134.3128,
          132.4352,
          133.8808,
          130.412,
          133.6472,
          131.9768,
          126.8208,
          131.5928,
          132.5464,
          132.4616,
          125.1072,
          129.6952,
          123.9832,
          130.8808,
          128.6384,
          124.1608,
          129.9576,
          126.9672,
          129.1688,
          120.5864,
          127.7312,
          122.844,
          127.316,
          127.428,
          126.9336,
          126.4232,
          122.268,
          125.5216,
          125.3704,
          125.5576,
          125.0768,
          119.2232,
          124.1744,
          124.7224,
          122.5672,
          122.3584,
          118.2128,
          123.5208,
          123.636,
          122.616,
          121.8576
         ]
        },
        {
         "line": {
          "color": "darkviolet",
          "width": 3
         },
         "marker": {
          "line": {
           "color": "crimson",
           "width": 2
          },
          "size": 4,
          "symbol": "triangle-up"
         },
         "mode": "lines+markers",
         "name": "VectFusProb_16mpi_16omp",
         "type": "scatter",
         "x": [
          540672000,
          516096000,
          565248000,
          589824000,
          614400000,
          663552000,
          638976000,
          688128000,
          712704000,
          737280000,
          786432000,
          811008000,
          761856000,
          835584000,
          860160000,
          884736000,
          909312000,
          933888000,
          958464000,
          983040000,
          1007616000,
          1032192000,
          1056768000,
          1081344000,
          1105920000,
          1155072000,
          1130496000,
          1179648000,
          1204224000,
          1228800000,
          1253376000,
          1277952000,
          1302528000,
          1327104000,
          1351680000,
          1376256000,
          1400832000,
          1425408000,
          1449984000,
          1474560000,
          1499136000,
          1548288000,
          1523712000,
          1572864000,
          1597440000,
          1622016000,
          1646592000,
          1671168000,
          1695744000,
          1720320000,
          1744896000,
          1769472000,
          1794048000,
          1818624000,
          1843200000,
          1867776000,
          1892352000,
          1916928000,
          1941504000,
          1966080000,
          1990656000,
          2015232000,
          2039808000,
          2064384000,
          2088960000,
          2113536000,
          2138112000,
          2162688000,
          2187264000,
          2211840000,
          2236416000,
          2260992000,
          2285568000,
          2310144000,
          2334720000,
          2359296000,
          2383872000,
          2408448000,
          2433024000,
          2457600000,
          2482176000,
          2506752000,
          2531328000,
          2555904000,
          2580480000,
          2605056000,
          2654208000,
          2629632000,
          2678784000,
          2703360000,
          2727936000,
          2777088000,
          2752512000,
          2801664000,
          2826240000,
          2850816000,
          2875392000,
          2899968000,
          2924544000,
          2949120000,
          2973696000,
          3022848000,
          2998272000,
          3047424000,
          3072000000,
          3096576000,
          3145728000,
          3121152000,
          3170304000,
          3194880000,
          3268608000,
          3219456000,
          3244032000,
          3293184000,
          3317760000,
          3342336000,
          3366912000,
          3391488000,
          3416064000,
          3440640000,
          3465216000,
          3489792000,
          3514368000,
          3538944000,
          3563520000,
          3588096000,
          3612672000,
          3637248000,
          3661824000,
          3686400000,
          3710976000,
          3735552000,
          3760128000,
          3784704000,
          3809280000,
          3833856000,
          3858432000,
          3883008000,
          3907584000,
          3932160000
         ],
         "y": [
          213.628,
          185.2992,
          197.8832,
          207.964,
          204.6536,
          214.888,
          213.5872,
          214.9496,
          215.5112,
          200.92,
          223.7544,
          211.4832,
          228.4184,
          218.6384,
          205.6312,
          212.1864,
          197.0992,
          213.7208,
          182.5088,
          226.6376,
          177.564,
          218.9184,
          222.8376,
          217.1584,
          215.5056,
          198.2232,
          209.8576,
          205.6088,
          199.0384,
          198.1896,
          191.672,
          194.8392,
          187.4672,
          185.8296,
          183.2936,
          182.0176,
          177.308,
          179.1992,
          174.5688,
          172.5536,
          165.7216,
          167.7936,
          168.2768,
          170.1504,
          162.3616,
          159.2256,
          164.3592,
          164.5688,
          159.5168,
          158.6496,
          152.8048,
          155.964,
          155.2232,
          155.8504,
          153.9424,
          150.9248,
          152.4368,
          140.7632,
          149.0336,
          149.868,
          149.5592,
          147.3328,
          147.9008,
          144.4184,
          143.9488,
          138.8032,
          142.5808,
          145.6296,
          145.4992,
          135.54,
          130.6152,
          138.3104,
          138.1088,
          135.836,
          137.7328,
          134.5688,
          137.3768,
          138.3424,
          131.7856,
          141.064,
          138.7384,
          134.0272,
          134.6032,
          135.5112,
          131.5152,
          135.4512,
          133.2232,
          131.5192,
          131.784,
          133.2496,
          127.9384,
          130.0248,
          122.6952,
          129.64,
          122.144,
          134.8472,
          129.3112,
          128.072,
          123.0144,
          125.6704,
          124.8448,
          125.9928,
          124.7336,
          124.0264,
          124.3456,
          125.7016,
          122.256,
          125.3872,
          120.9856,
          121.164,
          120.96,
          132.6056,
          120.7304,
          122.4816,
          122.0072,
          123.3376,
          123.0704,
          118.9792,
          122.6616,
          119.344,
          121.8016,
          123.8336,
          124.5824,
          121.5576,
          121.268,
          120.0448,
          125.6816,
          121.8936,
          118.6592,
          118.8488,
          116.38,
          123.104,
          118.9704,
          116.8896,
          117.9096,
          122.4136,
          120.1888,
          117.144,
          120.6432,
          118.7728
         ]
        }
       ],
       "layout": {
        "annotations": [
         {
          "align": "left",
          "arrowcolor": "#636363",
          "arrowhead": 1,
          "arrowsize": 1,
          "arrowwidth": 2,
          "ax": -20,
          "ay": -30,
          "font": {
           "color": "purple",
           "family": "Sans Serif",
           "size": 12
          },
          "showarrow": false,
          "text": "LLC Size Per Node",
          "x": "512e6",
          "y": 130,
          "yanchor": "bottom"
         }
        ],
        "legend": {
         "bordercolor": "black",
         "borderwidth": 1
        },
        "shapes": [
         {
          "line": {
           "color": "green",
           "dash": "dash",
           "width": 3
          },
          "type": "line",
          "x0": 512000000,
          "x1": 512000000,
          "xref": "x",
          "y0": 0,
          "y1": 1,
          "yref": "y domain"
         }
        ],
        "template": {
         "data": {
          "bar": [
           {
            "error_x": {
             "color": "#2a3f5f"
            },
            "error_y": {
             "color": "#2a3f5f"
            },
            "marker": {
             "line": {
              "color": "#E5ECF6",
              "width": 0.5
             },
             "pattern": {
              "fillmode": "overlay",
              "size": 10,
              "solidity": 0.2
             }
            },
            "type": "bar"
           }
          ],
          "barpolar": [
           {
            "marker": {
             "line": {
              "color": "#E5ECF6",
              "width": 0.5
             },
             "pattern": {
              "fillmode": "overlay",
              "size": 10,
              "solidity": 0.2
             }
            },
            "type": "barpolar"
           }
          ],
          "carpet": [
           {
            "aaxis": {
             "endlinecolor": "#2a3f5f",
             "gridcolor": "white",
             "linecolor": "white",
             "minorgridcolor": "white",
             "startlinecolor": "#2a3f5f"
            },
            "baxis": {
             "endlinecolor": "#2a3f5f",
             "gridcolor": "white",
             "linecolor": "white",
             "minorgridcolor": "white",
             "startlinecolor": "#2a3f5f"
            },
            "type": "carpet"
           }
          ],
          "choropleth": [
           {
            "colorbar": {
             "outlinewidth": 0,
             "ticks": ""
            },
            "type": "choropleth"
           }
          ],
          "contour": [
           {
            "colorbar": {
             "outlinewidth": 0,
             "ticks": ""
            },
            "colorscale": [
             [
              0,
              "#0d0887"
             ],
             [
              0.1111111111111111,
              "#46039f"
             ],
             [
              0.2222222222222222,
              "#7201a8"
             ],
             [
              0.3333333333333333,
              "#9c179e"
             ],
             [
              0.4444444444444444,
              "#bd3786"
             ],
             [
              0.5555555555555556,
              "#d8576b"
             ],
             [
              0.6666666666666666,
              "#ed7953"
             ],
             [
              0.7777777777777778,
              "#fb9f3a"
             ],
             [
              0.8888888888888888,
              "#fdca26"
             ],
             [
              1,
              "#f0f921"
             ]
            ],
            "type": "contour"
           }
          ],
          "contourcarpet": [
           {
            "colorbar": {
             "outlinewidth": 0,
             "ticks": ""
            },
            "type": "contourcarpet"
           }
          ],
          "heatmap": [
           {
            "colorbar": {
             "outlinewidth": 0,
             "ticks": ""
            },
            "colorscale": [
             [
              0,
              "#0d0887"
             ],
             [
              0.1111111111111111,
              "#46039f"
             ],
             [
              0.2222222222222222,
              "#7201a8"
             ],
             [
              0.3333333333333333,
              "#9c179e"
             ],
             [
              0.4444444444444444,
              "#bd3786"
             ],
             [
              0.5555555555555556,
              "#d8576b"
             ],
             [
              0.6666666666666666,
              "#ed7953"
             ],
             [
              0.7777777777777778,
              "#fb9f3a"
             ],
             [
              0.8888888888888888,
              "#fdca26"
             ],
             [
              1,
              "#f0f921"
             ]
            ],
            "type": "heatmap"
           }
          ],
          "heatmapgl": [
           {
            "colorbar": {
             "outlinewidth": 0,
             "ticks": ""
            },
            "colorscale": [
             [
              0,
              "#0d0887"
             ],
             [
              0.1111111111111111,
              "#46039f"
             ],
             [
              0.2222222222222222,
              "#7201a8"
             ],
             [
              0.3333333333333333,
              "#9c179e"
             ],
             [
              0.4444444444444444,
              "#bd3786"
             ],
             [
              0.5555555555555556,
              "#d8576b"
             ],
             [
              0.6666666666666666,
              "#ed7953"
             ],
             [
              0.7777777777777778,
              "#fb9f3a"
             ],
             [
              0.8888888888888888,
              "#fdca26"
             ],
             [
              1,
              "#f0f921"
             ]
            ],
            "type": "heatmapgl"
           }
          ],
          "histogram": [
           {
            "marker": {
             "pattern": {
              "fillmode": "overlay",
              "size": 10,
              "solidity": 0.2
             }
            },
            "type": "histogram"
           }
          ],
          "histogram2d": [
           {
            "colorbar": {
             "outlinewidth": 0,
             "ticks": ""
            },
            "colorscale": [
             [
              0,
              "#0d0887"
             ],
             [
              0.1111111111111111,
              "#46039f"
             ],
             [
              0.2222222222222222,
              "#7201a8"
             ],
             [
              0.3333333333333333,
              "#9c179e"
             ],
             [
              0.4444444444444444,
              "#bd3786"
             ],
             [
              0.5555555555555556,
              "#d8576b"
             ],
             [
              0.6666666666666666,
              "#ed7953"
             ],
             [
              0.7777777777777778,
              "#fb9f3a"
             ],
             [
              0.8888888888888888,
              "#fdca26"
             ],
             [
              1,
              "#f0f921"
             ]
            ],
            "type": "histogram2d"
           }
          ],
          "histogram2dcontour": [
           {
            "colorbar": {
             "outlinewidth": 0,
             "ticks": ""
            },
            "colorscale": [
             [
              0,
              "#0d0887"
             ],
             [
              0.1111111111111111,
              "#46039f"
             ],
             [
              0.2222222222222222,
              "#7201a8"
             ],
             [
              0.3333333333333333,
              "#9c179e"
             ],
             [
              0.4444444444444444,
              "#bd3786"
             ],
             [
              0.5555555555555556,
              "#d8576b"
             ],
             [
              0.6666666666666666,
              "#ed7953"
             ],
             [
              0.7777777777777778,
              "#fb9f3a"
             ],
             [
              0.8888888888888888,
              "#fdca26"
             ],
             [
              1,
              "#f0f921"
             ]
            ],
            "type": "histogram2dcontour"
           }
          ],
          "mesh3d": [
           {
            "colorbar": {
             "outlinewidth": 0,
             "ticks": ""
            },
            "type": "mesh3d"
           }
          ],
          "parcoords": [
           {
            "line": {
             "colorbar": {
              "outlinewidth": 0,
              "ticks": ""
             }
            },
            "type": "parcoords"
           }
          ],
          "pie": [
           {
            "automargin": true,
            "type": "pie"
           }
          ],
          "scatter": [
           {
            "fillpattern": {
             "fillmode": "overlay",
             "size": 10,
             "solidity": 0.2
            },
            "type": "scatter"
           }
          ],
          "scatter3d": [
           {
            "line": {
             "colorbar": {
              "outlinewidth": 0,
              "ticks": ""
             }
            },
            "marker": {
             "colorbar": {
              "outlinewidth": 0,
              "ticks": ""
             }
            },
            "type": "scatter3d"
           }
          ],
          "scattercarpet": [
           {
            "marker": {
             "colorbar": {
              "outlinewidth": 0,
              "ticks": ""
             }
            },
            "type": "scattercarpet"
           }
          ],
          "scattergeo": [
           {
            "marker": {
             "colorbar": {
              "outlinewidth": 0,
              "ticks": ""
             }
            },
            "type": "scattergeo"
           }
          ],
          "scattergl": [
           {
            "marker": {
             "colorbar": {
              "outlinewidth": 0,
              "ticks": ""
             }
            },
            "type": "scattergl"
           }
          ],
          "scattermapbox": [
           {
            "marker": {
             "colorbar": {
              "outlinewidth": 0,
              "ticks": ""
             }
            },
            "type": "scattermapbox"
           }
          ],
          "scatterpolar": [
           {
            "marker": {
             "colorbar": {
              "outlinewidth": 0,
              "ticks": ""
             }
            },
            "type": "scatterpolar"
           }
          ],
          "scatterpolargl": [
           {
            "marker": {
             "colorbar": {
              "outlinewidth": 0,
              "ticks": ""
             }
            },
            "type": "scatterpolargl"
           }
          ],
          "scatterternary": [
           {
            "marker": {
             "colorbar": {
              "outlinewidth": 0,
              "ticks": ""
             }
            },
            "type": "scatterternary"
           }
          ],
          "surface": [
           {
            "colorbar": {
             "outlinewidth": 0,
             "ticks": ""
            },
            "colorscale": [
             [
              0,
              "#0d0887"
             ],
             [
              0.1111111111111111,
              "#46039f"
             ],
             [
              0.2222222222222222,
              "#7201a8"
             ],
             [
              0.3333333333333333,
              "#9c179e"
             ],
             [
              0.4444444444444444,
              "#bd3786"
             ],
             [
              0.5555555555555556,
              "#d8576b"
             ],
             [
              0.6666666666666666,
              "#ed7953"
             ],
             [
              0.7777777777777778,
              "#fb9f3a"
             ],
             [
              0.8888888888888888,
              "#fdca26"
             ],
             [
              1,
              "#f0f921"
             ]
            ],
            "type": "surface"
           }
          ],
          "table": [
           {
            "cells": {
             "fill": {
              "color": "#EBF0F8"
             },
             "line": {
              "color": "white"
             }
            },
            "header": {
             "fill": {
              "color": "#C8D4E3"
             },
             "line": {
              "color": "white"
             }
            },
            "type": "table"
           }
          ]
         },
         "layout": {
          "annotationdefaults": {
           "arrowcolor": "#2a3f5f",
           "arrowhead": 0,
           "arrowwidth": 1
          },
          "autotypenumbers": "strict",
          "coloraxis": {
           "colorbar": {
            "outlinewidth": 0,
            "ticks": ""
           }
          },
          "colorscale": {
           "diverging": [
            [
             0,
             "#8e0152"
            ],
            [
             0.1,
             "#c51b7d"
            ],
            [
             0.2,
             "#de77ae"
            ],
            [
             0.3,
             "#f1b6da"
            ],
            [
             0.4,
             "#fde0ef"
            ],
            [
             0.5,
             "#f7f7f7"
            ],
            [
             0.6,
             "#e6f5d0"
            ],
            [
             0.7,
             "#b8e186"
            ],
            [
             0.8,
             "#7fbc41"
            ],
            [
             0.9,
             "#4d9221"
            ],
            [
             1,
             "#276419"
            ]
           ],
           "sequential": [
            [
             0,
             "#0d0887"
            ],
            [
             0.1111111111111111,
             "#46039f"
            ],
            [
             0.2222222222222222,
             "#7201a8"
            ],
            [
             0.3333333333333333,
             "#9c179e"
            ],
            [
             0.4444444444444444,
             "#bd3786"
            ],
            [
             0.5555555555555556,
             "#d8576b"
            ],
            [
             0.6666666666666666,
             "#ed7953"
            ],
            [
             0.7777777777777778,
             "#fb9f3a"
            ],
            [
             0.8888888888888888,
             "#fdca26"
            ],
            [
             1,
             "#f0f921"
            ]
           ],
           "sequentialminus": [
            [
             0,
             "#0d0887"
            ],
            [
             0.1111111111111111,
             "#46039f"
            ],
            [
             0.2222222222222222,
             "#7201a8"
            ],
            [
             0.3333333333333333,
             "#9c179e"
            ],
            [
             0.4444444444444444,
             "#bd3786"
            ],
            [
             0.5555555555555556,
             "#d8576b"
            ],
            [
             0.6666666666666666,
             "#ed7953"
            ],
            [
             0.7777777777777778,
             "#fb9f3a"
            ],
            [
             0.8888888888888888,
             "#fdca26"
            ],
            [
             1,
             "#f0f921"
            ]
           ]
          },
          "colorway": [
           "#636efa",
           "#EF553B",
           "#00cc96",
           "#ab63fa",
           "#FFA15A",
           "#19d3f3",
           "#FF6692",
           "#B6E880",
           "#FF97FF",
           "#FECB52"
          ],
          "font": {
           "color": "#2a3f5f"
          },
          "geo": {
           "bgcolor": "white",
           "lakecolor": "white",
           "landcolor": "#E5ECF6",
           "showlakes": true,
           "showland": true,
           "subunitcolor": "white"
          },
          "hoverlabel": {
           "align": "left"
          },
          "hovermode": "closest",
          "mapbox": {
           "style": "light"
          },
          "paper_bgcolor": "white",
          "plot_bgcolor": "#E5ECF6",
          "polar": {
           "angularaxis": {
            "gridcolor": "white",
            "linecolor": "white",
            "ticks": ""
           },
           "bgcolor": "#E5ECF6",
           "radialaxis": {
            "gridcolor": "white",
            "linecolor": "white",
            "ticks": ""
           }
          },
          "scene": {
           "xaxis": {
            "backgroundcolor": "#E5ECF6",
            "gridcolor": "white",
            "gridwidth": 2,
            "linecolor": "white",
            "showbackground": true,
            "ticks": "",
            "zerolinecolor": "white"
           },
           "yaxis": {
            "backgroundcolor": "#E5ECF6",
            "gridcolor": "white",
            "gridwidth": 2,
            "linecolor": "white",
            "showbackground": true,
            "ticks": "",
            "zerolinecolor": "white"
           },
           "zaxis": {
            "backgroundcolor": "#E5ECF6",
            "gridcolor": "white",
            "gridwidth": 2,
            "linecolor": "white",
            "showbackground": true,
            "ticks": "",
            "zerolinecolor": "white"
           }
          },
          "shapedefaults": {
           "line": {
            "color": "#2a3f5f"
           }
          },
          "ternary": {
           "aaxis": {
            "gridcolor": "white",
            "linecolor": "white",
            "ticks": ""
           },
           "baxis": {
            "gridcolor": "white",
            "linecolor": "white",
            "ticks": ""
           },
           "bgcolor": "#E5ECF6",
           "caxis": {
            "gridcolor": "white",
            "linecolor": "white",
            "ticks": ""
           }
          },
          "title": {
           "x": 0.05
          },
          "xaxis": {
           "automargin": true,
           "gridcolor": "white",
           "linecolor": "white",
           "ticks": "",
           "title": {
            "standoff": 15
           },
           "zerolinecolor": "white",
           "zerolinewidth": 2
          },
          "yaxis": {
           "automargin": true,
           "gridcolor": "white",
           "linecolor": "white",
           "ticks": "",
           "title": {
            "standoff": 15
           },
           "zerolinecolor": "white",
           "zerolinewidth": 2
          }
         }
        },
        "title": {
         "text": "\"Fused VECT (2-Nodes): probempi vs nonprobempi\" GFlops Measurement"
        },
        "xaxis": {
         "ticks": "outside",
         "title": {
          "text": "Dirc_Data_Mov"
         }
        },
        "yaxis": {
         "ticks": "outside",
         "title": {
          "text": "GFLOPs/Node"
         }
        }
       }
      },
      "text/html": [
       "<div>                            <div id=\"c1d8eeb9-119d-4ced-867b-4005f2cf3ad6\" class=\"plotly-graph-div\" style=\"height:525px; width:100%;\"></div>            <script type=\"text/javascript\">                require([\"plotly\"], function(Plotly) {                    window.PLOTLYENV=window.PLOTLYENV || {};                                    if (document.getElementById(\"c1d8eeb9-119d-4ced-867b-4005f2cf3ad6\")) {                    Plotly.newPlot(                        \"c1d8eeb9-119d-4ced-867b-4005f2cf3ad6\",                        [{\"line\":{\"color\":\"magenta\",\"width\":3},\"marker\":{\"line\":{\"color\":\"yellow\",\"width\":1},\"size\":9,\"symbol\":\"hexagon\"},\"mode\":\"lines+markers\",\"name\":\"VectFusNonProb_256mpi_1omp\",\"x\":[1572864000.0,1966080000.0,2359296000.0,2752512000.0,3145728000.0,3932160000.0],\"y\":[245.50016,225.71008,201.64736,191.59552,183.30368,142.35008],\"type\":\"scatter\"},{\"line\":{\"color\":\"olive\",\"width\":3},\"marker\":{\"line\":{\"color\":\"yellow\",\"width\":1},\"size\":9,\"symbol\":\"hexagon\"},\"mode\":\"lines+markers\",\"name\":\"VectFusProb_256mpi_1omp\",\"x\":[1572864000.0,1966080000.0,2359296000.0,2752512000.0,3145728000.0,3538944000.0,3932160000.0],\"y\":[256.40448,230.71872,206.49984,196.89984,177.04448,174.15296,168.84352],\"type\":\"scatter\"},{\"line\":{\"color\":\"sandybrown\",\"width\":3},\"marker\":{\"line\":{\"color\":\"MediumPurple\",\"width\":2},\"size\":5,\"symbol\":\"diamond\"},\"mode\":\"lines+markers\",\"name\":\"VectFusNonProb_128mpi_2omp\",\"x\":[786432000.0,983040000.0,1179648000.0,1376256000.0,1572864000.0,1769472000.0,1966080000.0,2162688000.0,2359296000.0,2555904000.0,2752512000.0,3145728000.0,3342336000.0,3538944000.0,3735552000.0,3932160000.0],\"y\":[328.04608,344.97792,337.6992,310.08576,296.43008,276.17216,250.95744,237.38432,226.4096,219.35424,209.67616,196.23168,183.66016,187.6192,183.54624,172.95552],\"type\":\"scatter\"},{\"line\":{\"color\":\"royalblue\",\"width\":3},\"marker\":{\"line\":{\"color\":\"MediumPurple\",\"width\":2},\"size\":5,\"symbol\":\"diamond\"},\"mode\":\"lines+markers\",\"name\":\"VectFusProb_128mpi_2omp\",\"x\":[983040000.0,786432000.0,1179648000.0,1376256000.0,1572864000.0,1769472000.0,1966080000.0,2162688000.0,2359296000.0,2555904000.0,2752512000.0,2949120000.0,3145728000.0,3342336000.0,3735552000.0,3538944000.0,3932160000.0],\"y\":[344.272,342.43392,343.69984,297.62624,293.58976,278.58624,244.09152,243.06752,226.7904,218.23168,208.87808,194.7552,197.8208,184.73024,173.32096,186.07616,169.3728],\"type\":\"scatter\"},{\"line\":{\"color\":\"cyan\",\"width\":3},\"marker\":{\"line\":{\"color\":\"Purple\",\"width\":2},\"size\":7,\"symbol\":\"circle\"},\"mode\":\"lines+markers\",\"name\":\"VectFusNonProb_64mpi_4omp\",\"x\":[589824000.0,688128000.0,786432000.0,884736000.0,983040000.0,1081344000.0,1179648000.0,1277952000.0,1376256000.0,1474560000.0,1572864000.0,1671168000.0,1769472000.0,1867776000.0,1966080000.0,2064384000.0,2162688000.0,2260992000.0,2359296000.0,2457600000.0,2555904000.0,2654208000.0,2752512000.0,2850816000.0,2949120000.0,3145728000.0,3047424000.0,3244032000.0,3342336000.0,3440640000.0,3538944000.0,3637248000.0,3735552000.0,3833856000.0,3932160000.0],\"y\":[307.96736,318.86912,333.344,321.1104,309.83296,348.528,339.472,333.3248,274.4608,309.32288,289.39904,286.73536,277.59392,264.55616,247.85728,248.5136,241.09472,233.3168,226.74016,213.26752,217.66368,212.5568,205.53632,206.51392,191.1216,195.02016,198.936,188.06528,191.144,178.656,181.784,183.17568,179.73792,180.65344,168.46112],\"type\":\"scatter\"},{\"line\":{\"color\":\"darkblue\",\"width\":3},\"marker\":{\"line\":{\"color\":\"tomato\",\"width\":2},\"size\":7,\"symbol\":\"circle\"},\"mode\":\"lines+markers\",\"name\":\"VectFusProb_64mpi_4omp\",\"x\":[589824000.0,688128000.0,786432000.0,884736000.0,983040000.0,1081344000.0,1179648000.0,1277952000.0,1376256000.0,1474560000.0,1572864000.0,1671168000.0,1769472000.0,1867776000.0,1966080000.0,2064384000.0,2162688000.0,2260992000.0,2359296000.0,2457600000.0,2555904000.0,2654208000.0,2752512000.0,2850816000.0,2949120000.0,3047424000.0,3145728000.0,3244032000.0,3342336000.0,3440640000.0,3637248000.0,3538944000.0,3735552000.0,3833856000.0,3932160000.0],\"y\":[312.272,322.5536,324.2336,349.0176,353.7696,339.152,342.7712,338.0224,322.6048,307.8352,301.27488,282.72416,279.24256,265.04032,249.89728,248.8208,242.68512,235.57824,217.1536,218.28832,215.21824,214.74176,208.57024,202.59968,197.68832,191.3504,194.36352,192.89664,187.34912,182.89408,170.29312,185.7712,181.62784,177.13056,174.96384],\"type\":\"scatter\"},{\"line\":{\"color\":\"red\",\"width\":3},\"marker\":{\"line\":{\"color\":\"red\",\"width\":2},\"size\":5,\"symbol\":\"circle\"},\"mode\":\"lines+markers\",\"name\":\"VectFusNonProb_32mpi_8omp\",\"x\":[540672000.0,589824000.0,688128000.0,638976000.0,737280000.0,786432000.0,835584000.0,884736000.0,933888000.0,983040000.0,1032192000.0,1081344000.0,1130496000.0,1179648000.0,1228800000.0,1277952000.0,1327104000.0,1376256000.0,1425408000.0,1474560000.0,1523712000.0,1572864000.0,1622016000.0,1671168000.0,1720320000.0,1769472000.0,1818624000.0,1867776000.0,1916928000.0,1966080000.0,2015232000.0,2064384000.0,2113536000.0,2162688000.0,2211840000.0,2260992000.0,2310144000.0,2359296000.0,2457600000.0,2408448000.0,2506752000.0,2555904000.0,2605056000.0,2654208000.0,2703360000.0,2801664000.0,2752512000.0,2850816000.0,2949120000.0,2899968000.0,2998272000.0,3047424000.0,3096576000.0,3194880000.0,3145728000.0,3244032000.0,3293184000.0,3342336000.0,3440640000.0,3391488000.0,3489792000.0,3538944000.0,3637248000.0,3686400000.0,3588096000.0,3735552000.0,3784704000.0,3833856000.0,3883008000.0,3932160000.0],\"y\":[286.6112,301.0816,243.0464,298.4144,217.216,250.4624,258.1072,263.1552,263.6352,290.9152,270.64,284.1504,268.7216,324.344,318.5888,319.7392,302.5408,302.384,285.8352,289.16,282.7072,276.4208,270.992,267.912,264.7712,255.8416,250.5136,249.8624,241.3776,239.0944,233.3776,226.2752,227.5088,216.376,221.1632,218.5632,205.6256,212.8064,208.6976,208.7136,203.2368,179.7936,198.88,198.1232,193.784,181.7216,195.0416,192.0768,188.848,189.2928,177.224,183.1632,183.0384,180.3824,182.048,179.5248,169.5456,177.5008,176.1504,175.3584,173.528,163.744,170.6944,139.76016,170.344,169.2896,160.5088,167.072,166.744,155.0712],\"type\":\"scatter\"},{\"line\":{\"color\":\"green\",\"width\":3},\"marker\":{\"line\":{\"color\":\"green\",\"width\":2},\"size\":5,\"symbol\":\"circle\"},\"mode\":\"lines+markers\",\"name\":\"VectFusProb_32mpi_8omp\",\"x\":[589824000.0,540672000.0,638976000.0,688128000.0,737280000.0,835584000.0,786432000.0,884736000.0,933888000.0,983040000.0,1032192000.0,1081344000.0,1130496000.0,1179648000.0,1228800000.0,1277952000.0,1327104000.0,1376256000.0,1425408000.0,1474560000.0,1523712000.0,1572864000.0,1622016000.0,1671168000.0,1720320000.0,1769472000.0,1818624000.0,1867776000.0,1966080000.0,1916928000.0,2064384000.0,2015232000.0,2113536000.0,2162688000.0,2211840000.0,2310144000.0,2260992000.0,2359296000.0,2408448000.0,2457600000.0,2555904000.0,2506752000.0,2703360000.0,2605056000.0,2654208000.0,2752512000.0,2801664000.0,2850816000.0,2949120000.0,2899968000.0,2998272000.0,3047424000.0,3096576000.0,3194880000.0,3145728000.0,3244032000.0,3293184000.0,3342336000.0,3391488000.0,3440640000.0,3489792000.0,3538944000.0,3588096000.0,3637248000.0,3686400000.0,3735552000.0,3784704000.0,3833856000.0,3883008000.0,3932160000.0],\"y\":[287.9552,284.92,294.6672,257.3168,256.768,268.736,324.752,287.64,281.7024,298.6512,284.2352,325.3408,328.28,321.5408,321.0128,317.0144,272.3808,297.4816,287.7808,286.6048,278.1152,270.9456,259.6896,248.6128,259.64,228.6112,248.64,240.4448,238.7264,242.4672,218.6384,233.5952,219.688,226.3856,221.5136,211.5248,212.4128,208.656,208.1408,208.6608,200.216,202.4352,198.4976,195.5632,199.7104,192.2384,189.2976,189.8352,187.5728,185.0256,184.0768,180.1344,184.9024,176.2512,183.3504,178.9136,173.6912,178.088,173.0016,175.2864,171.6592,169.1472,173.4384,168.3472,171.464,168.8064,163.8512,165.3408,165.7792,166.1712],\"type\":\"scatter\"},{\"line\":{\"color\":\"blue\",\"width\":3},\"marker\":{\"line\":{\"color\":\"chocolate\",\"width\":2},\"size\":4,\"symbol\":\"triangle-up\"},\"mode\":\"lines+markers\",\"name\":\"VectFusNonProb_16mpi_16omp\",\"x\":[540672000.0,516096000.0,565248000.0,638976000.0,589824000.0,614400000.0,663552000.0,688128000.0,712704000.0,761856000.0,737280000.0,786432000.0,811008000.0,884736000.0,835584000.0,860160000.0,933888000.0,909312000.0,958464000.0,983040000.0,1007616000.0,1056768000.0,1032192000.0,1081344000.0,1105920000.0,1130496000.0,1155072000.0,1179648000.0,1228800000.0,1204224000.0,1253376000.0,1277952000.0,1302528000.0,1351680000.0,1327104000.0,1376256000.0,1400832000.0,1425408000.0,1449984000.0,1474560000.0,1499136000.0,1523712000.0,1548288000.0,1572864000.0,1622016000.0,1597440000.0,1646592000.0,1671168000.0,1695744000.0,1744896000.0,1720320000.0,1769472000.0,1818624000.0,1794048000.0,1843200000.0,1867776000.0,1892352000.0,1916928000.0,1941504000.0,1966080000.0,1990656000.0,2015232000.0,2039808000.0,2064384000.0,2088960000.0,2113536000.0,2138112000.0,2187264000.0,2162688000.0,2211840000.0,2236416000.0,2260992000.0,2285568000.0,2310144000.0,2334720000.0,2359296000.0,2408448000.0,2433024000.0,2457600000.0,2482176000.0,2506752000.0,2531328000.0,2555904000.0,2580480000.0,2605056000.0,2629632000.0,2654208000.0,2678784000.0,2703360000.0,2727936000.0,2752512000.0,2777088000.0,2801664000.0,2826240000.0,2850816000.0,2875392000.0,2899968000.0,2924544000.0,2949120000.0,2973696000.0,2998272000.0,3022848000.0,3047424000.0,3072000000.0,3121152000.0,3145728000.0,3096576000.0,3170304000.0,3194880000.0,3219456000.0,3244032000.0,3293184000.0,3268608000.0,3317760000.0,3342336000.0,3366912000.0,3391488000.0,3416064000.0,3465216000.0,3440640000.0,3489792000.0,3514368000.0,3538944000.0,3563520000.0,3588096000.0,3612672000.0,3637248000.0,3661824000.0,3686400000.0,3710976000.0,3735552000.0,3760128000.0,3784704000.0,3809280000.0,3833856000.0,3883008000.0,3858432000.0,3907584000.0,3932160000.0],\"y\":[186.2584,182.4024,183.828,159.0168,172.4304,167.5816,197.6632,186.4168,206.3408,207.3592,204.5216,206.956,203.0392,196.2096,203.1448,183.112,196.328,195.3056,191.2992,228.6968,220.852,219.2992,211.0072,213.6088,216.6824,210.672,207.1168,205.072,196.5256,199.1944,197.9488,194.6336,193.892,186.8256,184.8352,183.984,186.3248,161.8192,178.448,183.0112,166.1472,176.1608,158.508,170.9448,171.3536,148.3392,168.78,164.8864,156.1096,161.2408,160.9856,149.1656,158.2728,151.5224,162.6736,161.2664,161.5488,156.172,157.16,159.848,157.6032,155.2904,150.5448,155.224,152.108,152.4408,149.3528,149.7192,147.172,149.428,149.1224,146.3136,144.9968,142.6016,147.1616,143.9552,145.6872,140.8648,142.5488,144.9128,139.6792,138.1544,143.2496,141.2864,139.236,135.8856,139.9448,139.1848,138.476,127.7464,137.3248,136.8648,138.9856,131.6416,135.14,136.2576,133.5784,125.9776,134.3128,132.4352,133.8808,130.412,133.6472,131.9768,126.8208,131.5928,132.5464,132.4616,125.1072,129.6952,123.9832,130.8808,128.6384,124.1608,129.9576,126.9672,129.1688,120.5864,127.7312,122.844,127.316,127.428,126.9336,126.4232,122.268,125.5216,125.3704,125.5576,125.0768,119.2232,124.1744,124.7224,122.5672,122.3584,118.2128,123.5208,123.636,122.616,121.8576],\"type\":\"scatter\"},{\"line\":{\"color\":\"darkviolet\",\"width\":3},\"marker\":{\"line\":{\"color\":\"crimson\",\"width\":2},\"size\":4,\"symbol\":\"triangle-up\"},\"mode\":\"lines+markers\",\"name\":\"VectFusProb_16mpi_16omp\",\"x\":[540672000.0,516096000.0,565248000.0,589824000.0,614400000.0,663552000.0,638976000.0,688128000.0,712704000.0,737280000.0,786432000.0,811008000.0,761856000.0,835584000.0,860160000.0,884736000.0,909312000.0,933888000.0,958464000.0,983040000.0,1007616000.0,1032192000.0,1056768000.0,1081344000.0,1105920000.0,1155072000.0,1130496000.0,1179648000.0,1204224000.0,1228800000.0,1253376000.0,1277952000.0,1302528000.0,1327104000.0,1351680000.0,1376256000.0,1400832000.0,1425408000.0,1449984000.0,1474560000.0,1499136000.0,1548288000.0,1523712000.0,1572864000.0,1597440000.0,1622016000.0,1646592000.0,1671168000.0,1695744000.0,1720320000.0,1744896000.0,1769472000.0,1794048000.0,1818624000.0,1843200000.0,1867776000.0,1892352000.0,1916928000.0,1941504000.0,1966080000.0,1990656000.0,2015232000.0,2039808000.0,2064384000.0,2088960000.0,2113536000.0,2138112000.0,2162688000.0,2187264000.0,2211840000.0,2236416000.0,2260992000.0,2285568000.0,2310144000.0,2334720000.0,2359296000.0,2383872000.0,2408448000.0,2433024000.0,2457600000.0,2482176000.0,2506752000.0,2531328000.0,2555904000.0,2580480000.0,2605056000.0,2654208000.0,2629632000.0,2678784000.0,2703360000.0,2727936000.0,2777088000.0,2752512000.0,2801664000.0,2826240000.0,2850816000.0,2875392000.0,2899968000.0,2924544000.0,2949120000.0,2973696000.0,3022848000.0,2998272000.0,3047424000.0,3072000000.0,3096576000.0,3145728000.0,3121152000.0,3170304000.0,3194880000.0,3268608000.0,3219456000.0,3244032000.0,3293184000.0,3317760000.0,3342336000.0,3366912000.0,3391488000.0,3416064000.0,3440640000.0,3465216000.0,3489792000.0,3514368000.0,3538944000.0,3563520000.0,3588096000.0,3612672000.0,3637248000.0,3661824000.0,3686400000.0,3710976000.0,3735552000.0,3760128000.0,3784704000.0,3809280000.0,3833856000.0,3858432000.0,3883008000.0,3907584000.0,3932160000.0],\"y\":[213.628,185.2992,197.8832,207.964,204.6536,214.888,213.5872,214.9496,215.5112,200.92,223.7544,211.4832,228.4184,218.6384,205.6312,212.1864,197.0992,213.7208,182.5088,226.6376,177.564,218.9184,222.8376,217.1584,215.5056,198.2232,209.8576,205.6088,199.0384,198.1896,191.672,194.8392,187.4672,185.8296,183.2936,182.0176,177.308,179.1992,174.5688,172.5536,165.7216,167.7936,168.2768,170.1504,162.3616,159.2256,164.3592,164.5688,159.5168,158.6496,152.8048,155.964,155.2232,155.8504,153.9424,150.9248,152.4368,140.7632,149.0336,149.868,149.5592,147.3328,147.9008,144.4184,143.9488,138.8032,142.5808,145.6296,145.4992,135.54,130.6152,138.3104,138.1088,135.836,137.7328,134.5688,137.3768,138.3424,131.7856,141.064,138.7384,134.0272,134.6032,135.5112,131.5152,135.4512,133.2232,131.5192,131.784,133.2496,127.9384,130.0248,122.6952,129.64,122.144,134.8472,129.3112,128.072,123.0144,125.6704,124.8448,125.9928,124.7336,124.0264,124.3456,125.7016,122.256,125.3872,120.9856,121.164,120.96,132.6056,120.7304,122.4816,122.0072,123.3376,123.0704,118.9792,122.6616,119.344,121.8016,123.8336,124.5824,121.5576,121.268,120.0448,125.6816,121.8936,118.6592,118.8488,116.38,123.104,118.9704,116.8896,117.9096,122.4136,120.1888,117.144,120.6432,118.7728],\"type\":\"scatter\"}],                        {\"template\":{\"data\":{\"histogram2dcontour\":[{\"type\":\"histogram2dcontour\",\"colorbar\":{\"outlinewidth\":0,\"ticks\":\"\"},\"colorscale\":[[0.0,\"#0d0887\"],[0.1111111111111111,\"#46039f\"],[0.2222222222222222,\"#7201a8\"],[0.3333333333333333,\"#9c179e\"],[0.4444444444444444,\"#bd3786\"],[0.5555555555555556,\"#d8576b\"],[0.6666666666666666,\"#ed7953\"],[0.7777777777777778,\"#fb9f3a\"],[0.8888888888888888,\"#fdca26\"],[1.0,\"#f0f921\"]]}],\"choropleth\":[{\"type\":\"choropleth\",\"colorbar\":{\"outlinewidth\":0,\"ticks\":\"\"}}],\"histogram2d\":[{\"type\":\"histogram2d\",\"colorbar\":{\"outlinewidth\":0,\"ticks\":\"\"},\"colorscale\":[[0.0,\"#0d0887\"],[0.1111111111111111,\"#46039f\"],[0.2222222222222222,\"#7201a8\"],[0.3333333333333333,\"#9c179e\"],[0.4444444444444444,\"#bd3786\"],[0.5555555555555556,\"#d8576b\"],[0.6666666666666666,\"#ed7953\"],[0.7777777777777778,\"#fb9f3a\"],[0.8888888888888888,\"#fdca26\"],[1.0,\"#f0f921\"]]}],\"heatmap\":[{\"type\":\"heatmap\",\"colorbar\":{\"outlinewidth\":0,\"ticks\":\"\"},\"colorscale\":[[0.0,\"#0d0887\"],[0.1111111111111111,\"#46039f\"],[0.2222222222222222,\"#7201a8\"],[0.3333333333333333,\"#9c179e\"],[0.4444444444444444,\"#bd3786\"],[0.5555555555555556,\"#d8576b\"],[0.6666666666666666,\"#ed7953\"],[0.7777777777777778,\"#fb9f3a\"],[0.8888888888888888,\"#fdca26\"],[1.0,\"#f0f921\"]]}],\"heatmapgl\":[{\"type\":\"heatmapgl\",\"colorbar\":{\"outlinewidth\":0,\"ticks\":\"\"},\"colorscale\":[[0.0,\"#0d0887\"],[0.1111111111111111,\"#46039f\"],[0.2222222222222222,\"#7201a8\"],[0.3333333333333333,\"#9c179e\"],[0.4444444444444444,\"#bd3786\"],[0.5555555555555556,\"#d8576b\"],[0.6666666666666666,\"#ed7953\"],[0.7777777777777778,\"#fb9f3a\"],[0.8888888888888888,\"#fdca26\"],[1.0,\"#f0f921\"]]}],\"contourcarpet\":[{\"type\":\"contourcarpet\",\"colorbar\":{\"outlinewidth\":0,\"ticks\":\"\"}}],\"contour\":[{\"type\":\"contour\",\"colorbar\":{\"outlinewidth\":0,\"ticks\":\"\"},\"colorscale\":[[0.0,\"#0d0887\"],[0.1111111111111111,\"#46039f\"],[0.2222222222222222,\"#7201a8\"],[0.3333333333333333,\"#9c179e\"],[0.4444444444444444,\"#bd3786\"],[0.5555555555555556,\"#d8576b\"],[0.6666666666666666,\"#ed7953\"],[0.7777777777777778,\"#fb9f3a\"],[0.8888888888888888,\"#fdca26\"],[1.0,\"#f0f921\"]]}],\"surface\":[{\"type\":\"surface\",\"colorbar\":{\"outlinewidth\":0,\"ticks\":\"\"},\"colorscale\":[[0.0,\"#0d0887\"],[0.1111111111111111,\"#46039f\"],[0.2222222222222222,\"#7201a8\"],[0.3333333333333333,\"#9c179e\"],[0.4444444444444444,\"#bd3786\"],[0.5555555555555556,\"#d8576b\"],[0.6666666666666666,\"#ed7953\"],[0.7777777777777778,\"#fb9f3a\"],[0.8888888888888888,\"#fdca26\"],[1.0,\"#f0f921\"]]}],\"mesh3d\":[{\"type\":\"mesh3d\",\"colorbar\":{\"outlinewidth\":0,\"ticks\":\"\"}}],\"scatter\":[{\"fillpattern\":{\"fillmode\":\"overlay\",\"size\":10,\"solidity\":0.2},\"type\":\"scatter\"}],\"parcoords\":[{\"type\":\"parcoords\",\"line\":{\"colorbar\":{\"outlinewidth\":0,\"ticks\":\"\"}}}],\"scatterpolargl\":[{\"type\":\"scatterpolargl\",\"marker\":{\"colorbar\":{\"outlinewidth\":0,\"ticks\":\"\"}}}],\"bar\":[{\"error_x\":{\"color\":\"#2a3f5f\"},\"error_y\":{\"color\":\"#2a3f5f\"},\"marker\":{\"line\":{\"color\":\"#E5ECF6\",\"width\":0.5},\"pattern\":{\"fillmode\":\"overlay\",\"size\":10,\"solidity\":0.2}},\"type\":\"bar\"}],\"scattergeo\":[{\"type\":\"scattergeo\",\"marker\":{\"colorbar\":{\"outlinewidth\":0,\"ticks\":\"\"}}}],\"scatterpolar\":[{\"type\":\"scatterpolar\",\"marker\":{\"colorbar\":{\"outlinewidth\":0,\"ticks\":\"\"}}}],\"histogram\":[{\"marker\":{\"pattern\":{\"fillmode\":\"overlay\",\"size\":10,\"solidity\":0.2}},\"type\":\"histogram\"}],\"scattergl\":[{\"type\":\"scattergl\",\"marker\":{\"colorbar\":{\"outlinewidth\":0,\"ticks\":\"\"}}}],\"scatter3d\":[{\"type\":\"scatter3d\",\"line\":{\"colorbar\":{\"outlinewidth\":0,\"ticks\":\"\"}},\"marker\":{\"colorbar\":{\"outlinewidth\":0,\"ticks\":\"\"}}}],\"scattermapbox\":[{\"type\":\"scattermapbox\",\"marker\":{\"colorbar\":{\"outlinewidth\":0,\"ticks\":\"\"}}}],\"scatterternary\":[{\"type\":\"scatterternary\",\"marker\":{\"colorbar\":{\"outlinewidth\":0,\"ticks\":\"\"}}}],\"scattercarpet\":[{\"type\":\"scattercarpet\",\"marker\":{\"colorbar\":{\"outlinewidth\":0,\"ticks\":\"\"}}}],\"carpet\":[{\"aaxis\":{\"endlinecolor\":\"#2a3f5f\",\"gridcolor\":\"white\",\"linecolor\":\"white\",\"minorgridcolor\":\"white\",\"startlinecolor\":\"#2a3f5f\"},\"baxis\":{\"endlinecolor\":\"#2a3f5f\",\"gridcolor\":\"white\",\"linecolor\":\"white\",\"minorgridcolor\":\"white\",\"startlinecolor\":\"#2a3f5f\"},\"type\":\"carpet\"}],\"table\":[{\"cells\":{\"fill\":{\"color\":\"#EBF0F8\"},\"line\":{\"color\":\"white\"}},\"header\":{\"fill\":{\"color\":\"#C8D4E3\"},\"line\":{\"color\":\"white\"}},\"type\":\"table\"}],\"barpolar\":[{\"marker\":{\"line\":{\"color\":\"#E5ECF6\",\"width\":0.5},\"pattern\":{\"fillmode\":\"overlay\",\"size\":10,\"solidity\":0.2}},\"type\":\"barpolar\"}],\"pie\":[{\"automargin\":true,\"type\":\"pie\"}]},\"layout\":{\"autotypenumbers\":\"strict\",\"colorway\":[\"#636efa\",\"#EF553B\",\"#00cc96\",\"#ab63fa\",\"#FFA15A\",\"#19d3f3\",\"#FF6692\",\"#B6E880\",\"#FF97FF\",\"#FECB52\"],\"font\":{\"color\":\"#2a3f5f\"},\"hovermode\":\"closest\",\"hoverlabel\":{\"align\":\"left\"},\"paper_bgcolor\":\"white\",\"plot_bgcolor\":\"#E5ECF6\",\"polar\":{\"bgcolor\":\"#E5ECF6\",\"angularaxis\":{\"gridcolor\":\"white\",\"linecolor\":\"white\",\"ticks\":\"\"},\"radialaxis\":{\"gridcolor\":\"white\",\"linecolor\":\"white\",\"ticks\":\"\"}},\"ternary\":{\"bgcolor\":\"#E5ECF6\",\"aaxis\":{\"gridcolor\":\"white\",\"linecolor\":\"white\",\"ticks\":\"\"},\"baxis\":{\"gridcolor\":\"white\",\"linecolor\":\"white\",\"ticks\":\"\"},\"caxis\":{\"gridcolor\":\"white\",\"linecolor\":\"white\",\"ticks\":\"\"}},\"coloraxis\":{\"colorbar\":{\"outlinewidth\":0,\"ticks\":\"\"}},\"colorscale\":{\"sequential\":[[0.0,\"#0d0887\"],[0.1111111111111111,\"#46039f\"],[0.2222222222222222,\"#7201a8\"],[0.3333333333333333,\"#9c179e\"],[0.4444444444444444,\"#bd3786\"],[0.5555555555555556,\"#d8576b\"],[0.6666666666666666,\"#ed7953\"],[0.7777777777777778,\"#fb9f3a\"],[0.8888888888888888,\"#fdca26\"],[1.0,\"#f0f921\"]],\"sequentialminus\":[[0.0,\"#0d0887\"],[0.1111111111111111,\"#46039f\"],[0.2222222222222222,\"#7201a8\"],[0.3333333333333333,\"#9c179e\"],[0.4444444444444444,\"#bd3786\"],[0.5555555555555556,\"#d8576b\"],[0.6666666666666666,\"#ed7953\"],[0.7777777777777778,\"#fb9f3a\"],[0.8888888888888888,\"#fdca26\"],[1.0,\"#f0f921\"]],\"diverging\":[[0,\"#8e0152\"],[0.1,\"#c51b7d\"],[0.2,\"#de77ae\"],[0.3,\"#f1b6da\"],[0.4,\"#fde0ef\"],[0.5,\"#f7f7f7\"],[0.6,\"#e6f5d0\"],[0.7,\"#b8e186\"],[0.8,\"#7fbc41\"],[0.9,\"#4d9221\"],[1,\"#276419\"]]},\"xaxis\":{\"gridcolor\":\"white\",\"linecolor\":\"white\",\"ticks\":\"\",\"title\":{\"standoff\":15},\"zerolinecolor\":\"white\",\"automargin\":true,\"zerolinewidth\":2},\"yaxis\":{\"gridcolor\":\"white\",\"linecolor\":\"white\",\"ticks\":\"\",\"title\":{\"standoff\":15},\"zerolinecolor\":\"white\",\"automargin\":true,\"zerolinewidth\":2},\"scene\":{\"xaxis\":{\"backgroundcolor\":\"#E5ECF6\",\"gridcolor\":\"white\",\"linecolor\":\"white\",\"showbackground\":true,\"ticks\":\"\",\"zerolinecolor\":\"white\",\"gridwidth\":2},\"yaxis\":{\"backgroundcolor\":\"#E5ECF6\",\"gridcolor\":\"white\",\"linecolor\":\"white\",\"showbackground\":true,\"ticks\":\"\",\"zerolinecolor\":\"white\",\"gridwidth\":2},\"zaxis\":{\"backgroundcolor\":\"#E5ECF6\",\"gridcolor\":\"white\",\"linecolor\":\"white\",\"showbackground\":true,\"ticks\":\"\",\"zerolinecolor\":\"white\",\"gridwidth\":2}},\"shapedefaults\":{\"line\":{\"color\":\"#2a3f5f\"}},\"annotationdefaults\":{\"arrowcolor\":\"#2a3f5f\",\"arrowhead\":0,\"arrowwidth\":1},\"geo\":{\"bgcolor\":\"white\",\"landcolor\":\"#E5ECF6\",\"subunitcolor\":\"white\",\"showland\":true,\"showlakes\":true,\"lakecolor\":\"white\"},\"title\":{\"x\":0.05},\"mapbox\":{\"style\":\"light\"}}},\"shapes\":[{\"line\":{\"color\":\"green\",\"dash\":\"dash\",\"width\":3},\"type\":\"line\",\"x0\":512000000.0,\"x1\":512000000.0,\"xref\":\"x\",\"y0\":0,\"y1\":1,\"yref\":\"y domain\"}],\"annotations\":[{\"align\":\"left\",\"arrowcolor\":\"#636363\",\"arrowhead\":1,\"arrowsize\":1,\"arrowwidth\":2,\"ax\":-20,\"ay\":-30,\"font\":{\"color\":\"purple\",\"family\":\"Sans Serif\",\"size\":12},\"showarrow\":false,\"text\":\"LLC Size Per Node\",\"x\":\"512e6\",\"y\":130,\"yanchor\":\"bottom\"}],\"xaxis\":{\"title\":{\"text\":\"Dirc_Data_Mov\"},\"ticks\":\"outside\"},\"yaxis\":{\"title\":{\"text\":\"GFLOPs/Node\"},\"ticks\":\"outside\"},\"title\":{\"text\":\"\\\"Fused VECT (2-Nodes): probempi vs nonprobempi\\\" GFlops Measurement\"},\"legend\":{\"bordercolor\":\"black\",\"borderwidth\":1}},                        {\"responsive\": true}                    ).then(function(){\n",
       "                            \n",
       "var gd = document.getElementById('c1d8eeb9-119d-4ced-867b-4005f2cf3ad6');\n",
       "var x = new MutationObserver(function (mutations, observer) {{\n",
       "        var display = window.getComputedStyle(gd).display;\n",
       "        if (!display || display === 'none') {{\n",
       "            console.log([gd, 'removed!']);\n",
       "            Plotly.purge(gd);\n",
       "            observer.disconnect();\n",
       "        }}\n",
       "}});\n",
       "\n",
       "// Listen for the removal of the full notebook cells\n",
       "var notebookContainer = gd.closest('#notebook-container');\n",
       "if (notebookContainer) {{\n",
       "    x.observe(notebookContainer, {childList: true});\n",
       "}}\n",
       "\n",
       "// Listen for the clearing of the current output cell\n",
       "var outputEl = gd.closest('.output');\n",
       "if (outputEl) {{\n",
       "    x.observe(outputEl, {childList: true});\n",
       "}}\n",
       "\n",
       "                        })                };                });            </script>        </div>"
      ]
     },
     "metadata": {},
     "output_type": "display_data"
    }
   ],
   "source": [
    "fig = go.Figure() \n",
    "\n",
    "fig.add_trace(go.Scatter(x=(dfn2VectFusNonProb_256mpi_1omp.Dirc_Data_Mov*(dfn2VectFusNonProb_256mpi_1omp.MPI_size/2)), \n",
    "                         y=(dfn2VectFusNonProb_256mpi_1omp.GFLOPS*(dfn2VectFusNonProb_256mpi_1omp.MPI_size/2)), \n",
    "                         mode='lines+markers', \n",
    "                         name='VectFusNonProb_256mpi_1omp',\n",
    "                         line=dict(color='magenta',width=3),\n",
    "                         marker=dict(symbol='hexagon',size=9, line=dict(color='yellow',width=1))))\n",
    "\n",
    "\n",
    "fig.add_trace(go.Scatter(x=(dfn2VectFusProb_256mpi_1omp.Dirc_Data_Mov*(dfn2VectFusProb_256mpi_1omp.MPI_size/2)), \n",
    "                         y=(dfn2VectFusProb_256mpi_1omp.GFLOPS*(dfn2VectFusProb_256mpi_1omp.MPI_size/2)), \n",
    "                         mode='lines+markers', \n",
    "                         name='VectFusProb_256mpi_1omp',\n",
    "                         line=dict(color='olive',width=3),\n",
    "                         marker=dict(symbol='hexagon',size=9, line=dict(color='yellow',width=1))))\n",
    "\n",
    "# case 2\n",
    "fig.add_trace(go.Scatter(x=(dfn2VectFusNonProb_128mpi_2omp.Dirc_Data_Mov*(dfn2VectFusNonProb_128mpi_2omp.MPI_size/2)), \n",
    "                         y=(dfn2VectFusNonProb_128mpi_2omp.GFLOPS*(dfn2VectFusNonProb_128mpi_2omp.MPI_size/2)), \n",
    "                         mode='lines+markers', \n",
    "                         name='VectFusNonProb_128mpi_2omp',\n",
    "                         line=dict(color='sandybrown',width=3),\n",
    "                         marker=dict(symbol='diamond',size=5,line=dict(color='MediumPurple',width=2))))\n",
    "\n",
    "fig.add_trace(go.Scatter(x=(dfn2VectFusProb_128mpi_2omp.Dirc_Data_Mov*(dfn2VectFusProb_128mpi_2omp.MPI_size/2)), \n",
    "                         y=(dfn2VectFusProb_128mpi_2omp.GFLOPS*(dfn2VectFusProb_128mpi_2omp.MPI_size/2)), \n",
    "                         mode='lines+markers', \n",
    "                         name='VectFusProb_128mpi_2omp',\n",
    "                         line=dict(color='royalblue',width=3),\n",
    "                         marker=dict(symbol='diamond',size=5,line=dict(color='MediumPurple',width=2))))\n",
    "\n",
    "# case 3\n",
    "fig.add_trace(go.Scatter(x=(dfn2VectFusNonProb_64mpi_4omp.Dirc_Data_Mov*(dfn2VectFusNonProb_64mpi_4omp.MPI_size/2)), \n",
    "                         y=(dfn2VectFusNonProb_64mpi_4omp.GFLOPS*(dfn2VectFusNonProb_64mpi_4omp.MPI_size/2)), \n",
    "                         mode='lines+markers', \n",
    "                         name='VectFusNonProb_64mpi_4omp',\n",
    "                         line=dict(color='cyan',width=3),\n",
    "                         marker=dict(symbol='circle',size=7,line=dict(color='Purple',width=2))))\n",
    "\n",
    "fig.add_trace(go.Scatter(x=(dfn2VectFusProb_64mpi_4omp.Dirc_Data_Mov*(dfn2VectFusProb_64mpi_4omp.MPI_size/2)), \n",
    "                         y=(dfn2VectFusProb_64mpi_4omp.GFLOPS*(dfn2VectFusProb_64mpi_4omp.MPI_size/2)), \n",
    "                         mode='lines+markers', \n",
    "                         name='VectFusProb_64mpi_4omp',\n",
    "                         line=dict(color='darkblue',width=3),\n",
    "                         marker=dict(symbol='circle',size=7, line=dict(color='tomato',width=2))))\n",
    "\n",
    "# case 4\n",
    "fig.add_trace(go.Scatter(x=(dfn2VectFusNonProb_32mpi_8omp.Dirc_Data_Mov*(dfn2VectFusNonProb_32mpi_8omp.MPI_size/2)), \n",
    "                         y=(dfn2VectFusNonProb_32mpi_8omp.GFLOPS*(dfn2VectFusNonProb_32mpi_8omp.MPI_size/2)), \n",
    "                         mode='lines+markers', \n",
    "                         name='VectFusNonProb_32mpi_8omp',\n",
    "                         line=dict(color='red',width=3),\n",
    "                         marker=dict(symbol='circle',size=5,line=dict(color='red',width=2))))\n",
    "\n",
    "fig.add_trace(go.Scatter(x=(dfn2VectFusProb_32mpi_8omp.Dirc_Data_Mov*(dfn2VectFusProb_32mpi_8omp.MPI_size/2)), \n",
    "                         y=(dfn2VectFusProb_32mpi_8omp.GFLOPS*(dfn2VectFusProb_32mpi_8omp.MPI_size/2)), \n",
    "                         mode='lines+markers', \n",
    "                         name='VectFusProb_32mpi_8omp',\n",
    "                         line=dict(color='green',width=3),\n",
    "                         marker=dict(symbol='circle',size=5,line=dict(color='green',width=2))))\n",
    "\n",
    "# case 5\n",
    "\n",
    "fig.add_trace(go.Scatter(x=(dfn2VectFusNonProb_16mpi_16omp.Dirc_Data_Mov*(dfn2VectFusNonProb_16mpi_16omp.MPI_size/2)), \n",
    "                         y=(dfn2VectFusNonProb_16mpi_16omp.GFLOPS*(dfn2VectFusNonProb_16mpi_16omp.MPI_size/2)), \n",
    "                         mode='lines+markers', \n",
    "                         name='VectFusNonProb_16mpi_16omp',\n",
    "                         line=dict(color='blue',width=3),\n",
    "                         marker=dict(symbol='triangle-up',size=4,line=dict(color='chocolate',width=2))))\n",
    "\n",
    "fig.add_trace(go.Scatter(x=(dfn2VectFusProb_16mpi_16omp.Dirc_Data_Mov*(dfn2VectFusProb_16mpi_16omp.MPI_size/2)), \n",
    "                         y=(dfn2VectFusProb_16mpi_16omp.GFLOPS*(dfn2VectFusProb_16mpi_16omp.MPI_size/2)), \n",
    "                         mode='lines+markers', \n",
    "                         name='VectFusProb_16mpi_16omp',\n",
    "                         line=dict(color='darkviolet',width=3),\n",
    "                         marker=dict(symbol='triangle-up',size=4,line=dict(color='crimson',width=2))))\n",
    "\n",
    "\n",
    "\n",
    "# Adding a vertical line\n",
    "fig.add_vline(x=512e6, line_width=3, line_dash=\"dash\", line_color=\"green\")\n",
    "# fig.add_hline(y=1024, line_width=3, line_dash=\"dash\", line_color=\"red\")\n",
    "\n",
    "# Add annotation\n",
    "fig.add_annotation(\n",
    "    x='512e6'\n",
    "    , y=130\n",
    "    , text=f'LLC Size Per Node'\n",
    "    , yanchor='bottom'\n",
    "    , showarrow=False\n",
    "    , arrowhead=1\n",
    "    , arrowsize=1\n",
    "    , arrowwidth=2\n",
    "    , arrowcolor=\"#636363\"\n",
    "    , ax=-20\n",
    "    , ay=-30\n",
    "    , font=dict(size=12, color=\"purple\", family=\"Sans Serif\")\n",
    "    , align=\"left\"\n",
    "    ,)\n",
    "\n",
    "fig.update_layout(title='\"Fused VECT (2-Nodes): probempi vs nonprobempi\" GFlops Measurement',\n",
    "                  xaxis_title='Dirc_Data_Mov', yaxis_title='GFLOPs/Node', \n",
    "                  xaxis=dict(ticks=\"outside\"),  \n",
    "                  yaxis=dict(ticks=\"outside\"),\n",
    "                  legend=go.layout.Legend(bordercolor=\"black\",borderwidth=1))"
   ]
  },
  {
   "cell_type": "code",
   "execution_count": null,
   "id": "a8c1011d",
   "metadata": {},
   "outputs": [],
   "source": []
  },
  {
   "cell_type": "markdown",
   "id": "70b65ae4",
   "metadata": {},
   "source": [
    "## 3) NonFused_VECT_Probmpi"
   ]
  },
  {
   "cell_type": "markdown",
   "id": "ede030db",
   "metadata": {},
   "source": [
    "### Adding Columns"
   ]
  },
  {
   "cell_type": "code",
   "execution_count": 172,
   "id": "d2ec3f61",
   "metadata": {},
   "outputs": [],
   "source": [
    "dfn2_vect_nonfused_probempi[\"N_Nodes\"] = 2\n",
    "dfn2_vect_nonfused_probempi['NPX'] = (dfn2_vect_nonfused_probempi.GLB_X//dfn2_vect_nonfused_probempi.LOC_X)\n",
    "dfn2_vect_nonfused_probempi['NPY'] = (dfn2_vect_nonfused_probempi.GLB_Y//dfn2_vect_nonfused_probempi.LOC_Y)\n",
    "dfn2_vect_nonfused_probempi['NPZ'] = (dfn2_vect_nonfused_probempi.GLB_Z//dfn2_vect_nonfused_probempi.LOC_Z)\n",
    "dfn2_vect_nonfused_probempi['NPT'] = (dfn2_vect_nonfused_probempi.GLB_T//dfn2_vect_nonfused_probempi.LOC_T)\n",
    "dfn2_vect_nonfused_probempi[\"Total_proc\"] = dfn2_vect_nonfused_probempi[\"omp_thrd\"]* dfn2_vect_nonfused_probempi.MPI_size\n",
    "# dfn2_vect_nonfused_probempi.columns"
   ]
  },
  {
   "cell_type": "markdown",
   "id": "6ebaae60",
   "metadata": {},
   "source": [
    "### Data Summary"
   ]
  },
  {
   "cell_type": "code",
   "execution_count": 173,
   "id": "10e1ffcd",
   "metadata": {},
   "outputs": [
    {
     "data": {
      "text/html": [
       "<div>\n",
       "<style scoped>\n",
       "    .dataframe tbody tr th:only-of-type {\n",
       "        vertical-align: middle;\n",
       "    }\n",
       "\n",
       "    .dataframe tbody tr th {\n",
       "        vertical-align: top;\n",
       "    }\n",
       "\n",
       "    .dataframe thead th {\n",
       "        text-align: right;\n",
       "    }\n",
       "</style>\n",
       "<table border=\"1\" class=\"dataframe\">\n",
       "  <thead>\n",
       "    <tr style=\"text-align: right;\">\n",
       "      <th></th>\n",
       "      <th>MPI_size</th>\n",
       "      <th>omp_thrd</th>\n",
       "      <th>NPT</th>\n",
       "      <th>NPX</th>\n",
       "      <th>NPY</th>\n",
       "      <th>NPZ</th>\n",
       "      <th>Total_proc</th>\n",
       "      <th>size</th>\n",
       "    </tr>\n",
       "  </thead>\n",
       "  <tbody>\n",
       "    <tr>\n",
       "      <th>0</th>\n",
       "      <td>16</td>\n",
       "      <td>16</td>\n",
       "      <td>2</td>\n",
       "      <td>2</td>\n",
       "      <td>2</td>\n",
       "      <td>2</td>\n",
       "      <td>256</td>\n",
       "      <td>113</td>\n",
       "    </tr>\n",
       "    <tr>\n",
       "      <th>1</th>\n",
       "      <td>32</td>\n",
       "      <td>8</td>\n",
       "      <td>4</td>\n",
       "      <td>2</td>\n",
       "      <td>2</td>\n",
       "      <td>2</td>\n",
       "      <td>256</td>\n",
       "      <td>69</td>\n",
       "    </tr>\n",
       "    <tr>\n",
       "      <th>2</th>\n",
       "      <td>64</td>\n",
       "      <td>4</td>\n",
       "      <td>8</td>\n",
       "      <td>2</td>\n",
       "      <td>2</td>\n",
       "      <td>2</td>\n",
       "      <td>256</td>\n",
       "      <td>35</td>\n",
       "    </tr>\n",
       "    <tr>\n",
       "      <th>3</th>\n",
       "      <td>128</td>\n",
       "      <td>2</td>\n",
       "      <td>16</td>\n",
       "      <td>2</td>\n",
       "      <td>2</td>\n",
       "      <td>2</td>\n",
       "      <td>256</td>\n",
       "      <td>16</td>\n",
       "    </tr>\n",
       "    <tr>\n",
       "      <th>4</th>\n",
       "      <td>248</td>\n",
       "      <td>1</td>\n",
       "      <td>31</td>\n",
       "      <td>2</td>\n",
       "      <td>2</td>\n",
       "      <td>2</td>\n",
       "      <td>248</td>\n",
       "      <td>4</td>\n",
       "    </tr>\n",
       "    <tr>\n",
       "      <th>5</th>\n",
       "      <td>256</td>\n",
       "      <td>1</td>\n",
       "      <td>32</td>\n",
       "      <td>2</td>\n",
       "      <td>2</td>\n",
       "      <td>2</td>\n",
       "      <td>256</td>\n",
       "      <td>7</td>\n",
       "    </tr>\n",
       "  </tbody>\n",
       "</table>\n",
       "</div>"
      ],
      "text/plain": [
       "   MPI_size  omp_thrd  NPT  NPX  NPY  NPZ  Total_proc  size\n",
       "0        16        16    2    2    2    2         256   113\n",
       "1        32         8    4    2    2    2         256    69\n",
       "2        64         4    8    2    2    2         256    35\n",
       "3       128         2   16    2    2    2         256    16\n",
       "4       248         1   31    2    2    2         248     4\n",
       "5       256         1   32    2    2    2         256     7"
      ]
     },
     "execution_count": 173,
     "metadata": {},
     "output_type": "execute_result"
    }
   ],
   "source": [
    "dfn2_vect_nonfused_probempi_summary = dfn2_vect_nonfused_probempi.groupby(['MPI_size','omp_thrd','NPT','NPX', 'NPY', 'NPZ',\"Total_proc\"]).size().reset_index(name = 'size')\n",
    "dfn2_vect_nonfused_probempi_summary"
   ]
  },
  {
   "cell_type": "markdown",
   "id": "5b016bdd",
   "metadata": {},
   "source": [
    "### Cases Setup"
   ]
  },
  {
   "cell_type": "code",
   "execution_count": 174,
   "id": "144a0b02",
   "metadata": {},
   "outputs": [],
   "source": [
    "dfn2VectNonFusProb_16mpi_16omp = dfn2_vect_nonfused_probempi[(dfn2_vect_nonfused_probempi.omp_thrd == 16) & (dfn2_vect_nonfused_probempi.GLB_T/dfn2_vect_nonfused_probempi.LOC_T == 2) & (dfn2_vect_nonfused_probempi.GLB_X/dfn2_vect_nonfused_probempi.LOC_X == 2) & (dfn2_vect_nonfused_probempi.GLB_Y/dfn2_vect_nonfused_probempi.LOC_Y == 2)& (dfn2_vect_nonfused_probempi.GLB_Z/dfn2_vect_nonfused_probempi.LOC_Z == 2)]\n",
    "dfn2VectNonFusProb_32mpi_8omp = dfn2_vect_nonfused_probempi[(dfn2_vect_nonfused_probempi.omp_thrd == 8) & (dfn2_vect_nonfused_probempi.GLB_T/dfn2_vect_nonfused_probempi.LOC_T == 4) & (dfn2_vect_nonfused_probempi.GLB_X/dfn2_vect_nonfused_probempi.LOC_X == 2) & (dfn2_vect_nonfused_probempi.GLB_Y/dfn2_vect_nonfused_probempi.LOC_Y == 2)& (dfn2_vect_nonfused_probempi.GLB_Z/dfn2_vect_nonfused_probempi.LOC_Z == 2)]\n",
    "dfn2VectNonFusProb_64mpi_4omp = dfn2_vect_nonfused_probempi[(dfn2_vect_nonfused_probempi.omp_thrd == 4) & (dfn2_vect_nonfused_probempi.GLB_T/dfn2_vect_nonfused_probempi.LOC_T == 8) & (dfn2_vect_nonfused_probempi.GLB_X/dfn2_vect_nonfused_probempi.LOC_X == 2) & (dfn2_vect_nonfused_probempi.GLB_Y/dfn2_vect_nonfused_probempi.LOC_Y == 2)& (dfn2_vect_nonfused_probempi.GLB_Z/dfn2_vect_nonfused_probempi.LOC_Z == 2)]\n",
    "dfn2VectNonFusProb_128mpi_2omp = dfn2_vect_nonfused_probempi[(dfn2_vect_nonfused_probempi.omp_thrd == 2) & (dfn2_vect_nonfused_probempi.GLB_T/dfn2_vect_nonfused_probempi.LOC_T == 16) & (dfn2_vect_nonfused_probempi.GLB_X/dfn2_vect_nonfused_probempi.LOC_X == 2) & (dfn2_vect_nonfused_probempi.GLB_Y/dfn2_vect_nonfused_probempi.LOC_Y == 2)& (dfn2_vect_nonfused_probempi.GLB_Z/dfn2_vect_nonfused_probempi.LOC_Z == 2)]\n",
    "dfn2VectNonFusProb_256mpi_1omp = dfn2_vect_nonfused_probempi[(dfn2_vect_nonfused_probempi.omp_thrd == 1) & (dfn2_vect_nonfused_probempi.GLB_T/dfn2_vect_nonfused_probempi.LOC_T == 32) & (dfn2_vect_nonfused_probempi.GLB_X/dfn2_vect_nonfused_probempi.LOC_X == 2) & (dfn2_vect_nonfused_probempi.GLB_Y/dfn2_vect_nonfused_probempi.LOC_Y == 2)& (dfn2_vect_nonfused_probempi.GLB_Z/dfn2_vect_nonfused_probempi.LOC_Z == 2)]\n"
   ]
  },
  {
   "cell_type": "markdown",
   "id": "1d62f345",
   "metadata": {},
   "source": [
    "## 4) NonFused_VECT_NonProbmpi"
   ]
  },
  {
   "cell_type": "markdown",
   "id": "f6ab922f",
   "metadata": {},
   "source": [
    "### Adding Columns"
   ]
  },
  {
   "cell_type": "code",
   "execution_count": 175,
   "id": "1a88b2a4",
   "metadata": {},
   "outputs": [],
   "source": [
    "dfn2_vect_nonfused_nonprobempi[\"N_Nodes\"] = 2\n",
    "dfn2_vect_nonfused_nonprobempi['NPX'] = (dfn2_vect_nonfused_nonprobempi.GLB_X//dfn2_vect_nonfused_nonprobempi.LOC_X)\n",
    "dfn2_vect_nonfused_nonprobempi['NPY'] = (dfn2_vect_nonfused_nonprobempi.GLB_Y//dfn2_vect_nonfused_nonprobempi.LOC_Y)\n",
    "dfn2_vect_nonfused_nonprobempi['NPZ'] = (dfn2_vect_nonfused_nonprobempi.GLB_Z//dfn2_vect_nonfused_nonprobempi.LOC_Z)\n",
    "dfn2_vect_nonfused_nonprobempi['NPT'] = (dfn2_vect_nonfused_nonprobempi.GLB_T//dfn2_vect_nonfused_nonprobempi.LOC_T)\n",
    "dfn2_vect_nonfused_nonprobempi[\"Total_proc\"] = dfn2_vect_nonfused_nonprobempi[\"omp_thrd\"]* dfn2_vect_nonfused_nonprobempi.MPI_size\n",
    "# dfn2_vect_nonfused_nonprobempi.columns"
   ]
  },
  {
   "cell_type": "markdown",
   "id": "f72fa4e3",
   "metadata": {},
   "source": [
    "### Data Summary"
   ]
  },
  {
   "cell_type": "code",
   "execution_count": 176,
   "id": "737f77d7",
   "metadata": {},
   "outputs": [
    {
     "data": {
      "text/html": [
       "<div>\n",
       "<style scoped>\n",
       "    .dataframe tbody tr th:only-of-type {\n",
       "        vertical-align: middle;\n",
       "    }\n",
       "\n",
       "    .dataframe tbody tr th {\n",
       "        vertical-align: top;\n",
       "    }\n",
       "\n",
       "    .dataframe thead th {\n",
       "        text-align: right;\n",
       "    }\n",
       "</style>\n",
       "<table border=\"1\" class=\"dataframe\">\n",
       "  <thead>\n",
       "    <tr style=\"text-align: right;\">\n",
       "      <th></th>\n",
       "      <th>MPI_size</th>\n",
       "      <th>omp_thrd</th>\n",
       "      <th>NPT</th>\n",
       "      <th>NPX</th>\n",
       "      <th>NPY</th>\n",
       "      <th>NPZ</th>\n",
       "      <th>Total_proc</th>\n",
       "      <th>size</th>\n",
       "    </tr>\n",
       "  </thead>\n",
       "  <tbody>\n",
       "    <tr>\n",
       "      <th>0</th>\n",
       "      <td>16</td>\n",
       "      <td>16</td>\n",
       "      <td>2</td>\n",
       "      <td>2</td>\n",
       "      <td>2</td>\n",
       "      <td>2</td>\n",
       "      <td>256</td>\n",
       "      <td>114</td>\n",
       "    </tr>\n",
       "    <tr>\n",
       "      <th>1</th>\n",
       "      <td>32</td>\n",
       "      <td>8</td>\n",
       "      <td>4</td>\n",
       "      <td>2</td>\n",
       "      <td>2</td>\n",
       "      <td>2</td>\n",
       "      <td>256</td>\n",
       "      <td>69</td>\n",
       "    </tr>\n",
       "    <tr>\n",
       "      <th>2</th>\n",
       "      <td>64</td>\n",
       "      <td>4</td>\n",
       "      <td>8</td>\n",
       "      <td>2</td>\n",
       "      <td>2</td>\n",
       "      <td>2</td>\n",
       "      <td>256</td>\n",
       "      <td>35</td>\n",
       "    </tr>\n",
       "    <tr>\n",
       "      <th>3</th>\n",
       "      <td>128</td>\n",
       "      <td>2</td>\n",
       "      <td>16</td>\n",
       "      <td>2</td>\n",
       "      <td>2</td>\n",
       "      <td>2</td>\n",
       "      <td>256</td>\n",
       "      <td>17</td>\n",
       "    </tr>\n",
       "    <tr>\n",
       "      <th>4</th>\n",
       "      <td>248</td>\n",
       "      <td>1</td>\n",
       "      <td>31</td>\n",
       "      <td>2</td>\n",
       "      <td>2</td>\n",
       "      <td>2</td>\n",
       "      <td>248</td>\n",
       "      <td>4</td>\n",
       "    </tr>\n",
       "    <tr>\n",
       "      <th>5</th>\n",
       "      <td>256</td>\n",
       "      <td>1</td>\n",
       "      <td>32</td>\n",
       "      <td>2</td>\n",
       "      <td>2</td>\n",
       "      <td>2</td>\n",
       "      <td>256</td>\n",
       "      <td>7</td>\n",
       "    </tr>\n",
       "  </tbody>\n",
       "</table>\n",
       "</div>"
      ],
      "text/plain": [
       "   MPI_size  omp_thrd  NPT  NPX  NPY  NPZ  Total_proc  size\n",
       "0        16        16    2    2    2    2         256   114\n",
       "1        32         8    4    2    2    2         256    69\n",
       "2        64         4    8    2    2    2         256    35\n",
       "3       128         2   16    2    2    2         256    17\n",
       "4       248         1   31    2    2    2         248     4\n",
       "5       256         1   32    2    2    2         256     7"
      ]
     },
     "execution_count": 176,
     "metadata": {},
     "output_type": "execute_result"
    }
   ],
   "source": [
    "dfn2_vect_nonfused_nonprobempi_summary = dfn2_vect_nonfused_nonprobempi.groupby(['MPI_size','omp_thrd','NPT','NPX', 'NPY', 'NPZ',\"Total_proc\"]).size().reset_index(name = 'size')\n",
    "dfn2_vect_nonfused_nonprobempi_summary"
   ]
  },
  {
   "cell_type": "markdown",
   "id": "2a57628e",
   "metadata": {},
   "source": [
    "### Cases Setup"
   ]
  },
  {
   "cell_type": "code",
   "execution_count": 177,
   "id": "550d27f7",
   "metadata": {},
   "outputs": [],
   "source": [
    "dfn2VectNonFusNonProb_16mpi_16omp = dfn2_vect_nonfused_nonprobempi[(dfn2_vect_nonfused_nonprobempi.omp_thrd == 16) & (dfn2_vect_nonfused_nonprobempi.GLB_T/dfn2_vect_nonfused_nonprobempi.LOC_T == 2) & (dfn2_vect_nonfused_nonprobempi.GLB_X/dfn2_vect_nonfused_nonprobempi.LOC_X == 2) & (dfn2_vect_nonfused_nonprobempi.GLB_Y/dfn2_vect_nonfused_nonprobempi.LOC_Y == 2)& (dfn2_vect_nonfused_nonprobempi.GLB_Z/dfn2_vect_nonfused_nonprobempi.LOC_Z == 2)]\n",
    "dfn2VectNonFusNonProb_32mpi_8omp = dfn2_vect_nonfused_nonprobempi[(dfn2_vect_nonfused_nonprobempi.omp_thrd == 8) & (dfn2_vect_nonfused_nonprobempi.GLB_T/dfn2_vect_nonfused_nonprobempi.LOC_T == 4) & (dfn2_vect_nonfused_nonprobempi.GLB_X/dfn2_vect_nonfused_nonprobempi.LOC_X == 2) & (dfn2_vect_nonfused_nonprobempi.GLB_Y/dfn2_vect_nonfused_nonprobempi.LOC_Y == 2)& (dfn2_vect_nonfused_nonprobempi.GLB_Z/dfn2_vect_nonfused_nonprobempi.LOC_Z == 2)]\n",
    "dfn2VectNonFusNonProb_64mpi_4omp = dfn2_vect_nonfused_nonprobempi[(dfn2_vect_nonfused_nonprobempi.omp_thrd == 4) & (dfn2_vect_nonfused_nonprobempi.GLB_T/dfn2_vect_nonfused_nonprobempi.LOC_T == 8) & (dfn2_vect_nonfused_nonprobempi.GLB_X/dfn2_vect_nonfused_nonprobempi.LOC_X == 2) & (dfn2_vect_nonfused_nonprobempi.GLB_Y/dfn2_vect_nonfused_nonprobempi.LOC_Y == 2)& (dfn2_vect_nonfused_nonprobempi.GLB_Z/dfn2_vect_nonfused_nonprobempi.LOC_Z == 2)]\n",
    "dfn2VectNonFusNonProb_128mpi_2omp = dfn2_vect_nonfused_nonprobempi[(dfn2_vect_nonfused_nonprobempi.omp_thrd == 2) & (dfn2_vect_nonfused_nonprobempi.GLB_T/dfn2_vect_nonfused_nonprobempi.LOC_T == 16) & (dfn2_vect_nonfused_nonprobempi.GLB_X/dfn2_vect_nonfused_nonprobempi.LOC_X == 2) & (dfn2_vect_nonfused_nonprobempi.GLB_Y/dfn2_vect_nonfused_nonprobempi.LOC_Y == 2)& (dfn2_vect_nonfused_nonprobempi.GLB_Z/dfn2_vect_nonfused_nonprobempi.LOC_Z == 2)]\n",
    "dfn2VectNonFusNonProb_256mpi_1omp = dfn2_vect_nonfused_nonprobempi[(dfn2_vect_nonfused_nonprobempi.omp_thrd == 1) & (dfn2_vect_nonfused_nonprobempi.GLB_T/dfn2_vect_nonfused_nonprobempi.LOC_T == 32) & (dfn2_vect_nonfused_nonprobempi.GLB_X/dfn2_vect_nonfused_nonprobempi.LOC_X == 2) & (dfn2_vect_nonfused_nonprobempi.GLB_Y/dfn2_vect_nonfused_nonprobempi.LOC_Y == 2)& (dfn2_vect_nonfused_nonprobempi.GLB_Z/dfn2_vect_nonfused_nonprobempi.LOC_Z == 2)]\n"
   ]
  },
  {
   "cell_type": "markdown",
   "id": "e6a7eb1f",
   "metadata": {},
   "source": [
    "## GFLOPS - NonFused-VECT: Probempi vs NonProbempi"
   ]
  },
  {
   "cell_type": "code",
   "execution_count": 178,
   "id": "cbd372a5",
   "metadata": {},
   "outputs": [
    {
     "data": {
      "application/vnd.plotly.v1+json": {
       "config": {
        "plotlyServerURL": "https://plot.ly"
       },
       "data": [
        {
         "line": {
          "color": "magenta",
          "width": 3
         },
         "marker": {
          "line": {
           "color": "yellow",
           "width": 1
          },
          "size": 9,
          "symbol": "hexagon"
         },
         "mode": "lines+markers",
         "name": "VectNonFusNonProb_256mpi_1omp",
         "type": "scatter",
         "x": [
          1572864000,
          1966080000,
          2359296000,
          2752512000,
          3145728000,
          3932160000,
          3538944000
         ],
         "y": [
          236.45184,
          213.07136,
          202.22208,
          189.4528,
          168.83968,
          160.4416,
          170.32704
         ]
        },
        {
         "line": {
          "color": "olive",
          "width": 3
         },
         "marker": {
          "line": {
           "color": "yellow",
           "width": 1
          },
          "size": 9,
          "symbol": "hexagon"
         },
         "mode": "lines+markers",
         "name": "VectFusProb_256mpi_1omp",
         "type": "scatter",
         "x": [
          1572864000,
          1966080000,
          2359296000,
          2752512000,
          3145728000,
          3538944000,
          3932160000
         ],
         "y": [
          244.83712,
          217.42848,
          157.30944,
          190.4896,
          180.06912,
          168.47872,
          169.57568
         ]
        },
        {
         "line": {
          "color": "sandybrown",
          "width": 3
         },
         "marker": {
          "line": {
           "color": "MediumPurple",
           "width": 2
          },
          "size": 5,
          "symbol": "diamond"
         },
         "mode": "lines+markers",
         "name": "VectNonFusNonProb_128mpi_2omp",
         "type": "scatter",
         "x": [
          786432000,
          983040000,
          1179648000,
          1376256000,
          1572864000,
          1769472000,
          1966080000,
          2162688000,
          2359296000,
          2555904000,
          2752512000,
          2949120000,
          3145728000,
          3342336000,
          3538944000,
          3932160000,
          3735552000
         ],
         "y": [
          279.888,
          288.65024,
          284.5312,
          262.8704,
          216.63552,
          228.26048,
          194.8768,
          200.34624,
          196.26752,
          186.69504,
          180.64896,
          161.98976,
          167.2064,
          168.27968,
          165.86752,
          157.23392,
          158.37888
         ]
        },
        {
         "line": {
          "color": "royalblue",
          "width": 3
         },
         "marker": {
          "line": {
           "color": "MediumPurple",
           "width": 2
          },
          "size": 5,
          "symbol": "diamond"
         },
         "mode": "lines+markers",
         "name": "VectNonFusProb_128mpi_2omp",
         "type": "scatter",
         "x": [
          983040000,
          1179648000,
          1376256000,
          1572864000,
          1769472000,
          1966080000,
          2162688000,
          2359296000,
          2555904000,
          2752512000,
          2949120000,
          3145728000,
          3342336000,
          3538944000,
          3735552000,
          3932160000
         ],
         "y": [
          279.6352,
          283.91168,
          262.00192,
          246.34816,
          236.28864,
          209.95456,
          205.04,
          196.4128,
          189.67616,
          180.0128,
          174.2624,
          169.37536,
          171.36832,
          162.3296,
          162.57088,
          157.82656
         ]
        },
        {
         "line": {
          "color": "cyan",
          "width": 3
         },
         "marker": {
          "line": {
           "color": "Purple",
           "width": 2
          },
          "size": 7,
          "symbol": "circle"
         },
         "mode": "lines+markers",
         "name": "VectNonFusNonProb_64mpi_4omp",
         "type": "scatter",
         "x": [
          589824000,
          688128000,
          786432000,
          884736000,
          983040000,
          1081344000,
          1179648000,
          1277952000,
          1376256000,
          1474560000,
          1671168000,
          1572864000,
          1769472000,
          1867776000,
          1966080000,
          2064384000,
          2162688000,
          2260992000,
          2359296000,
          2457600000,
          2555904000,
          2654208000,
          2752512000,
          2850816000,
          2949120000,
          3047424000,
          3145728000,
          3244032000,
          3342336000,
          3440640000,
          3538944000,
          3637248000,
          3735552000,
          3833856000,
          3932160000
         ],
         "y": [
          254.49632,
          200.24736,
          212.99648,
          215.01472,
          223.18752,
          212.45216,
          258.26176,
          255.11232,
          213.47968,
          214.32064,
          215.00672,
          201.29664,
          208.69024,
          206.99488,
          183.09952,
          184.55168,
          185.37248,
          180.07712,
          182.3216,
          178.42784,
          170.89312,
          168.03232,
          163.31712,
          165.65888,
          164.9152,
          151.99456,
          157.1552,
          153.46816,
          158.15968,
          154.5264,
          151.18432,
          151.24768,
          140.99584,
          147.62944,
          148.47008
         ]
        },
        {
         "line": {
          "color": "darkblue",
          "width": 3
         },
         "marker": {
          "line": {
           "color": "tomato",
           "width": 2
          },
          "size": 7,
          "symbol": "circle"
         },
         "mode": "lines+markers",
         "name": "VectNonFusProb_64mpi_4omp",
         "type": "scatter",
         "x": [
          589824000,
          688128000,
          786432000,
          884736000,
          983040000,
          1081344000,
          1179648000,
          1277952000,
          1376256000,
          1474560000,
          1572864000,
          1769472000,
          1671168000,
          1867776000,
          1966080000,
          2064384000,
          2162688000,
          2260992000,
          2359296000,
          2457600000,
          2555904000,
          2654208000,
          2752512000,
          2850816000,
          2949120000,
          3047424000,
          3145728000,
          3244032000,
          3342336000,
          3440640000,
          3538944000,
          3637248000,
          3735552000,
          3833856000,
          3932160000
         ],
         "y": [
          246.4064,
          250.05024,
          238.74848,
          241.27104,
          248.3296,
          258.59232,
          257.5888,
          242.29216,
          243.46496,
          234.2864,
          212.37952,
          211.34816,
          223.63456,
          211.14016,
          200.5584,
          196.51456,
          189.54016,
          188.81216,
          187.17824,
          179.73824,
          175.2096,
          172.09088,
          169.52032,
          170.81344,
          166.59584,
          163.24864,
          159.53952,
          161.39936,
          159.0288,
          157.85312,
          157.1216,
          152.48576,
          150.58336,
          149.99392,
          144.65632
         ]
        },
        {
         "line": {
          "color": "red",
          "width": 3
         },
         "marker": {
          "line": {
           "color": "red",
           "width": 2
          },
          "size": 5,
          "symbol": "circle"
         },
         "mode": "lines+markers",
         "name": "VectNonFusNonProb_32mpi_8omp",
         "type": "scatter",
         "x": [
          540672000,
          688128000,
          589824000,
          638976000,
          835584000,
          737280000,
          786432000,
          884736000,
          933888000,
          983040000,
          1081344000,
          1032192000,
          1130496000,
          1179648000,
          1277952000,
          1228800000,
          1327104000,
          1376256000,
          1474560000,
          1523712000,
          1572864000,
          1622016000,
          1671168000,
          1720320000,
          1769472000,
          1818624000,
          1867776000,
          1966080000,
          1916928000,
          2015232000,
          2064384000,
          2113536000,
          2162688000,
          2211840000,
          2260992000,
          2310144000,
          2359296000,
          2408448000,
          2457600000,
          2506752000,
          2555904000,
          2605056000,
          2654208000,
          2703360000,
          2752512000,
          2801664000,
          2850816000,
          2899968000,
          2949120000,
          2998272000,
          3047424000,
          3096576000,
          3145728000,
          3194880000,
          3244032000,
          3293184000,
          3342336000,
          3391488000,
          3440640000,
          3489792000,
          3538944000,
          3588096000,
          3637248000,
          3686400000,
          3784704000,
          3735552000,
          3833856000,
          3883008000,
          3932160000
         ],
         "y": [
          153.7848,
          174.1056,
          152.98,
          165.1456,
          187.0288,
          175.8672,
          183.0928,
          185.0192,
          192.6736,
          182.792,
          182.5136,
          192.0208,
          181.1856,
          168.0304,
          161.9712,
          153.84432,
          153.38656,
          193.872,
          188.0464,
          183.5296,
          186.7056,
          179.4352,
          173.9648,
          172.576,
          174.0288,
          170.0928,
          163.096,
          164.4848,
          152.54448,
          157.62752,
          151.95952,
          163.5232,
          154.95328,
          150.4256,
          152.63312,
          157.21456,
          149.09248,
          151.06352,
          146.43104,
          143.56144,
          144.312,
          144.2624,
          141.74096,
          145.9672,
          142.74976,
          140.81952,
          120.0224,
          140.75664,
          137.37824,
          138.80816,
          134.78304,
          131.37984,
          124.74592,
          135.0064,
          132.49632,
          139.056,
          132.81632,
          132.79088,
          129.36128,
          134.18112,
          133.48256,
          131.80224,
          128.47408,
          128.83456,
          127.80736,
          129.94528,
          129.82528,
          126.31232,
          124.40992
         ]
        },
        {
         "line": {
          "color": "green",
          "width": 3
         },
         "marker": {
          "line": {
           "color": "green",
           "width": 2
          },
          "size": 5,
          "symbol": "circle"
         },
         "mode": "lines+markers",
         "name": "VectNonFusProb_32mpi_8omp",
         "type": "scatter",
         "x": [
          540672000,
          638976000,
          589824000,
          688128000,
          737280000,
          786432000,
          835584000,
          884736000,
          933888000,
          983040000,
          1032192000,
          1081344000,
          1130496000,
          1179648000,
          1228800000,
          1327104000,
          1376256000,
          1425408000,
          1474560000,
          1523712000,
          1572864000,
          1622016000,
          1671168000,
          1720320000,
          1769472000,
          1818624000,
          1867776000,
          1916928000,
          1966080000,
          2015232000,
          2064384000,
          2113536000,
          2162688000,
          2211840000,
          2260992000,
          2310144000,
          2359296000,
          2408448000,
          2457600000,
          2506752000,
          2555904000,
          2605056000,
          2654208000,
          2703360000,
          2801664000,
          2752512000,
          2850816000,
          2899968000,
          2949120000,
          3047424000,
          2998272000,
          3096576000,
          3145728000,
          3194880000,
          3244032000,
          3293184000,
          3342336000,
          3391488000,
          3440640000,
          3489792000,
          3538944000,
          3588096000,
          3637248000,
          3686400000,
          3735552000,
          3784704000,
          3883008000,
          3833856000,
          3932160000
         ],
         "y": [
          166.3792,
          181.1248,
          167.5952,
          187.8448,
          187.2848,
          191.1216,
          196.8352,
          198.2672,
          201.5504,
          203.1184,
          194.8112,
          195.1488,
          189.7296,
          169.12,
          145.37216,
          147.54976,
          190.1696,
          182.8512,
          185.8608,
          180.0208,
          173.8528,
          176.5696,
          173.3408,
          169.2576,
          168.0528,
          165.8032,
          163.6064,
          160.4288,
          159.304,
          157.81632,
          153.084,
          157.40448,
          153.38272,
          153.25488,
          150.64592,
          148.61584,
          148.55728,
          147.89936,
          145.67376,
          147.67952,
          142.54416,
          143.97856,
          142.76768,
          144.85344,
          140.5744,
          141.60176,
          141.49552,
          139.00864,
          139.01696,
          138.37152,
          139.70416,
          137.06704,
          136.40368,
          132.4032,
          130.63568,
          128.0416,
          132.4176,
          134.72048,
          133.28192,
          133.18272,
          130.2336,
          131.29136,
          124.63328,
          130.82208,
          131.63568,
          120.73408,
          128.39008,
          126.78592,
          124.44288
         ]
        },
        {
         "line": {
          "color": "blue",
          "width": 3
         },
         "marker": {
          "line": {
           "color": "chocolate",
           "width": 2
          },
          "size": 4,
          "symbol": "triangle-up"
         },
         "mode": "lines+markers",
         "name": "VectNonFusNonProb_16mpi_16omp",
         "type": "scatter",
         "x": [
          516096000,
          540672000,
          565248000,
          589824000,
          614400000,
          663552000,
          638976000,
          688128000,
          712704000,
          737280000,
          786432000,
          761856000,
          811008000,
          835584000,
          860160000,
          884736000,
          909312000,
          933888000,
          958464000,
          983040000,
          1007616000,
          1032192000,
          1056768000,
          1081344000,
          1105920000,
          1130496000,
          1155072000,
          1179648000,
          1204224000,
          1228800000,
          1253376000,
          1302528000,
          1277952000,
          1327104000,
          1351680000,
          1376256000,
          1400832000,
          1425408000,
          1449984000,
          1474560000,
          1499136000,
          1523712000,
          1548288000,
          1572864000,
          1597440000,
          1646592000,
          1622016000,
          1671168000,
          1695744000,
          1720320000,
          1744896000,
          1769472000,
          1794048000,
          1818624000,
          1843200000,
          1892352000,
          1867776000,
          1941504000,
          1916928000,
          1966080000,
          1990656000,
          2015232000,
          2039808000,
          2088960000,
          2113536000,
          2138112000,
          2187264000,
          2162688000,
          2211840000,
          2236416000,
          2260992000,
          2285568000,
          2310144000,
          2334720000,
          2359296000,
          2383872000,
          2408448000,
          2433024000,
          2482176000,
          2457600000,
          2506752000,
          2531328000,
          2555904000,
          2580480000,
          2605056000,
          2629632000,
          2678784000,
          2654208000,
          2703360000,
          2727936000,
          2752512000,
          2777088000,
          2801664000,
          2826240000,
          2850816000,
          2875392000,
          2899968000,
          2924544000,
          2949120000,
          2973696000,
          2998272000,
          3022848000,
          3047424000,
          3072000000,
          3096576000,
          3121152000,
          3145728000,
          3170304000,
          3219456000,
          3194880000,
          3244032000,
          3268608000,
          3293184000,
          3391488000
         ],
         "y": [
          90.3304,
          86.672,
          90.5184,
          86.9104,
          90.5008,
          90.6576,
          90.7208,
          86.5328,
          91.6784,
          91.9056,
          89.6384,
          92.5896,
          88.3936,
          87.1168,
          85.1712,
          84.8368,
          83.1656,
          80.9368,
          83.6328,
          79.13736,
          70.14728,
          80.1944,
          76.642,
          74.06648,
          74.63112,
          74.22392,
          66.26496,
          70.48344,
          68.1568,
          68.99256,
          70.39704,
          68.84152,
          65.38616,
          65.60232,
          69.30368,
          61.43368,
          70.8128,
          64.55552,
          66.44016,
          67.02712,
          64.7028,
          62.49656,
          67.92944,
          70.13784,
          71.44784,
          75.80992,
          59.72824,
          65.3196,
          75.1608,
          60.76848,
          68.61352,
          55.39496,
          72.434,
          72.18032,
          76.9036,
          72.34512,
          72.68376,
          70.81592,
          71.93656,
          69.35544,
          76.0264,
          71.41736,
          72.95536,
          76.13128,
          73.39472,
          73.31384,
          78.40832,
          75.04344,
          73.31144,
          74.91248,
          74.62048,
          76.12264,
          71.19024,
          71.57712,
          74.46304,
          76.42256,
          72.7072,
          73.03592,
          74.94056,
          75.88816,
          67.38688,
          74.44816,
          71.70936,
          75.30296,
          72.19936,
          71.21536,
          74.6068,
          73.83064,
          72.2488,
          71.26464,
          72.80016,
          76.51272,
          73.18808,
          71.92104,
          74.84784,
          71.34448,
          71.24752,
          74.32416,
          67.28792,
          73.5948,
          72.17144,
          73.5404,
          72.25736,
          71.79768,
          70.81952,
          72.6168,
          72.71472,
          74.65136,
          66.49376,
          71.29928,
          68.35792,
          74.444,
          72.52568,
          74.2576
         ]
        },
        {
         "line": {
          "color": "darkviolet",
          "width": 3
         },
         "marker": {
          "line": {
           "color": "crimson",
           "width": 2
          },
          "size": 4,
          "symbol": "triangle-up"
         },
         "mode": "lines+markers",
         "name": "VectNonFusProb_16mpi_16omp",
         "type": "scatter",
         "x": [
          516096000,
          540672000,
          565248000,
          589824000,
          614400000,
          638976000,
          663552000,
          712704000,
          688128000,
          737280000,
          761856000,
          786432000,
          811008000,
          860160000,
          835584000,
          884736000,
          909312000,
          983040000,
          958464000,
          933888000,
          1007616000,
          1032192000,
          1056768000,
          1081344000,
          1105920000,
          1130496000,
          1155072000,
          1179648000,
          1228800000,
          1204224000,
          1253376000,
          1277952000,
          1327104000,
          1302528000,
          1351680000,
          1376256000,
          1400832000,
          1425408000,
          1449984000,
          1474560000,
          1499136000,
          1523712000,
          1548288000,
          1572864000,
          1597440000,
          1622016000,
          1646592000,
          1671168000,
          1695744000,
          1720320000,
          1769472000,
          1744896000,
          1794048000,
          1843200000,
          1818624000,
          1867776000,
          1892352000,
          1916928000,
          1941504000,
          1966080000,
          1990656000,
          2015232000,
          2039808000,
          2064384000,
          2088960000,
          2113536000,
          2138112000,
          2162688000,
          2187264000,
          2236416000,
          2211840000,
          2260992000,
          2285568000,
          2310144000,
          2334720000,
          2359296000,
          2383872000,
          2408448000,
          2433024000,
          2482176000,
          2457600000,
          2506752000,
          2531328000,
          2580480000,
          2555904000,
          2605056000,
          2629632000,
          2654208000,
          2678784000,
          2703360000,
          2727936000,
          2752512000,
          2801664000,
          2777088000,
          2826240000,
          2850816000,
          2875392000,
          2899968000,
          2924544000,
          2949120000,
          2973696000,
          2998272000,
          3022848000,
          3047424000,
          3072000000,
          3096576000,
          3121152000,
          3145728000,
          3194880000,
          3219456000,
          3244032000,
          3268608000,
          3416064000
         ],
         "y": [
          93.3528,
          95.1744,
          94.8216,
          95.1824,
          91.1808,
          97.3104,
          95.184,
          94.8864,
          95.5088,
          93.0224,
          95.4672,
          83.88,
          89.1616,
          85.6568,
          88.2432,
          88.6176,
          83.0624,
          82.3464,
          74.16072,
          82.5744,
          73.22928,
          80.0232,
          77.30784,
          73.3584,
          75.22016,
          75.3192,
          76.31312,
          74.95576,
          68.60008,
          72.58856,
          69.99312,
          67.48088,
          68.84672,
          70.37488,
          69.2684,
          70.28104,
          69.20256,
          69.05376,
          68.60792,
          68.022,
          67.9936,
          68.5444,
          65.17456,
          64.17448,
          72.2344,
          67.37,
          71.4292,
          66.67536,
          71.184,
          68.23856,
          76.91648,
          71.48296,
          74.05432,
          72.64464,
          72.6896,
          77.18408,
          76.83536,
          65.72,
          75.7052,
          75.0008,
          77.3924,
          73.74848,
          77.39208,
          74.9812,
          73.13864,
          76.75072,
          77.4476,
          75.57024,
          75.50288,
          78.55824,
          77.12256,
          71.51432,
          73.34672,
          74.56552,
          77.82928,
          69.06472,
          77.14664,
          75.53104,
          67.26024,
          76.47024,
          72.6704,
          74.07632,
          74.47872,
          74.88576,
          73.42592,
          76.28136,
          72.2592,
          74.094,
          74.59992,
          74.8656,
          71.77104,
          74.70016,
          73.89408,
          74.61352,
          74.90656,
          74.91552,
          68.8644,
          72.25752,
          72.23624,
          74.36416,
          70.60776,
          71.49488,
          73.044,
          73.44304,
          72.85704,
          72.55224,
          73.85304,
          73.50216,
          72.21576,
          73.68816,
          72.38176,
          72.63544,
          74.33008
         ]
        }
       ],
       "layout": {
        "annotations": [
         {
          "align": "left",
          "arrowcolor": "#636363",
          "arrowhead": 1,
          "arrowsize": 1,
          "arrowwidth": 2,
          "ax": -20,
          "ay": -30,
          "font": {
           "color": "purple",
           "family": "Sans Serif",
           "size": 12
          },
          "showarrow": false,
          "text": "LLC Size Per Node",
          "x": "512e6",
          "y": 130,
          "yanchor": "bottom"
         }
        ],
        "legend": {
         "bordercolor": "black",
         "borderwidth": 1
        },
        "shapes": [
         {
          "line": {
           "color": "green",
           "dash": "dash",
           "width": 3
          },
          "type": "line",
          "x0": 512000000,
          "x1": 512000000,
          "xref": "x",
          "y0": 0,
          "y1": 1,
          "yref": "y domain"
         }
        ],
        "template": {
         "data": {
          "bar": [
           {
            "error_x": {
             "color": "#2a3f5f"
            },
            "error_y": {
             "color": "#2a3f5f"
            },
            "marker": {
             "line": {
              "color": "#E5ECF6",
              "width": 0.5
             },
             "pattern": {
              "fillmode": "overlay",
              "size": 10,
              "solidity": 0.2
             }
            },
            "type": "bar"
           }
          ],
          "barpolar": [
           {
            "marker": {
             "line": {
              "color": "#E5ECF6",
              "width": 0.5
             },
             "pattern": {
              "fillmode": "overlay",
              "size": 10,
              "solidity": 0.2
             }
            },
            "type": "barpolar"
           }
          ],
          "carpet": [
           {
            "aaxis": {
             "endlinecolor": "#2a3f5f",
             "gridcolor": "white",
             "linecolor": "white",
             "minorgridcolor": "white",
             "startlinecolor": "#2a3f5f"
            },
            "baxis": {
             "endlinecolor": "#2a3f5f",
             "gridcolor": "white",
             "linecolor": "white",
             "minorgridcolor": "white",
             "startlinecolor": "#2a3f5f"
            },
            "type": "carpet"
           }
          ],
          "choropleth": [
           {
            "colorbar": {
             "outlinewidth": 0,
             "ticks": ""
            },
            "type": "choropleth"
           }
          ],
          "contour": [
           {
            "colorbar": {
             "outlinewidth": 0,
             "ticks": ""
            },
            "colorscale": [
             [
              0,
              "#0d0887"
             ],
             [
              0.1111111111111111,
              "#46039f"
             ],
             [
              0.2222222222222222,
              "#7201a8"
             ],
             [
              0.3333333333333333,
              "#9c179e"
             ],
             [
              0.4444444444444444,
              "#bd3786"
             ],
             [
              0.5555555555555556,
              "#d8576b"
             ],
             [
              0.6666666666666666,
              "#ed7953"
             ],
             [
              0.7777777777777778,
              "#fb9f3a"
             ],
             [
              0.8888888888888888,
              "#fdca26"
             ],
             [
              1,
              "#f0f921"
             ]
            ],
            "type": "contour"
           }
          ],
          "contourcarpet": [
           {
            "colorbar": {
             "outlinewidth": 0,
             "ticks": ""
            },
            "type": "contourcarpet"
           }
          ],
          "heatmap": [
           {
            "colorbar": {
             "outlinewidth": 0,
             "ticks": ""
            },
            "colorscale": [
             [
              0,
              "#0d0887"
             ],
             [
              0.1111111111111111,
              "#46039f"
             ],
             [
              0.2222222222222222,
              "#7201a8"
             ],
             [
              0.3333333333333333,
              "#9c179e"
             ],
             [
              0.4444444444444444,
              "#bd3786"
             ],
             [
              0.5555555555555556,
              "#d8576b"
             ],
             [
              0.6666666666666666,
              "#ed7953"
             ],
             [
              0.7777777777777778,
              "#fb9f3a"
             ],
             [
              0.8888888888888888,
              "#fdca26"
             ],
             [
              1,
              "#f0f921"
             ]
            ],
            "type": "heatmap"
           }
          ],
          "heatmapgl": [
           {
            "colorbar": {
             "outlinewidth": 0,
             "ticks": ""
            },
            "colorscale": [
             [
              0,
              "#0d0887"
             ],
             [
              0.1111111111111111,
              "#46039f"
             ],
             [
              0.2222222222222222,
              "#7201a8"
             ],
             [
              0.3333333333333333,
              "#9c179e"
             ],
             [
              0.4444444444444444,
              "#bd3786"
             ],
             [
              0.5555555555555556,
              "#d8576b"
             ],
             [
              0.6666666666666666,
              "#ed7953"
             ],
             [
              0.7777777777777778,
              "#fb9f3a"
             ],
             [
              0.8888888888888888,
              "#fdca26"
             ],
             [
              1,
              "#f0f921"
             ]
            ],
            "type": "heatmapgl"
           }
          ],
          "histogram": [
           {
            "marker": {
             "pattern": {
              "fillmode": "overlay",
              "size": 10,
              "solidity": 0.2
             }
            },
            "type": "histogram"
           }
          ],
          "histogram2d": [
           {
            "colorbar": {
             "outlinewidth": 0,
             "ticks": ""
            },
            "colorscale": [
             [
              0,
              "#0d0887"
             ],
             [
              0.1111111111111111,
              "#46039f"
             ],
             [
              0.2222222222222222,
              "#7201a8"
             ],
             [
              0.3333333333333333,
              "#9c179e"
             ],
             [
              0.4444444444444444,
              "#bd3786"
             ],
             [
              0.5555555555555556,
              "#d8576b"
             ],
             [
              0.6666666666666666,
              "#ed7953"
             ],
             [
              0.7777777777777778,
              "#fb9f3a"
             ],
             [
              0.8888888888888888,
              "#fdca26"
             ],
             [
              1,
              "#f0f921"
             ]
            ],
            "type": "histogram2d"
           }
          ],
          "histogram2dcontour": [
           {
            "colorbar": {
             "outlinewidth": 0,
             "ticks": ""
            },
            "colorscale": [
             [
              0,
              "#0d0887"
             ],
             [
              0.1111111111111111,
              "#46039f"
             ],
             [
              0.2222222222222222,
              "#7201a8"
             ],
             [
              0.3333333333333333,
              "#9c179e"
             ],
             [
              0.4444444444444444,
              "#bd3786"
             ],
             [
              0.5555555555555556,
              "#d8576b"
             ],
             [
              0.6666666666666666,
              "#ed7953"
             ],
             [
              0.7777777777777778,
              "#fb9f3a"
             ],
             [
              0.8888888888888888,
              "#fdca26"
             ],
             [
              1,
              "#f0f921"
             ]
            ],
            "type": "histogram2dcontour"
           }
          ],
          "mesh3d": [
           {
            "colorbar": {
             "outlinewidth": 0,
             "ticks": ""
            },
            "type": "mesh3d"
           }
          ],
          "parcoords": [
           {
            "line": {
             "colorbar": {
              "outlinewidth": 0,
              "ticks": ""
             }
            },
            "type": "parcoords"
           }
          ],
          "pie": [
           {
            "automargin": true,
            "type": "pie"
           }
          ],
          "scatter": [
           {
            "fillpattern": {
             "fillmode": "overlay",
             "size": 10,
             "solidity": 0.2
            },
            "type": "scatter"
           }
          ],
          "scatter3d": [
           {
            "line": {
             "colorbar": {
              "outlinewidth": 0,
              "ticks": ""
             }
            },
            "marker": {
             "colorbar": {
              "outlinewidth": 0,
              "ticks": ""
             }
            },
            "type": "scatter3d"
           }
          ],
          "scattercarpet": [
           {
            "marker": {
             "colorbar": {
              "outlinewidth": 0,
              "ticks": ""
             }
            },
            "type": "scattercarpet"
           }
          ],
          "scattergeo": [
           {
            "marker": {
             "colorbar": {
              "outlinewidth": 0,
              "ticks": ""
             }
            },
            "type": "scattergeo"
           }
          ],
          "scattergl": [
           {
            "marker": {
             "colorbar": {
              "outlinewidth": 0,
              "ticks": ""
             }
            },
            "type": "scattergl"
           }
          ],
          "scattermapbox": [
           {
            "marker": {
             "colorbar": {
              "outlinewidth": 0,
              "ticks": ""
             }
            },
            "type": "scattermapbox"
           }
          ],
          "scatterpolar": [
           {
            "marker": {
             "colorbar": {
              "outlinewidth": 0,
              "ticks": ""
             }
            },
            "type": "scatterpolar"
           }
          ],
          "scatterpolargl": [
           {
            "marker": {
             "colorbar": {
              "outlinewidth": 0,
              "ticks": ""
             }
            },
            "type": "scatterpolargl"
           }
          ],
          "scatterternary": [
           {
            "marker": {
             "colorbar": {
              "outlinewidth": 0,
              "ticks": ""
             }
            },
            "type": "scatterternary"
           }
          ],
          "surface": [
           {
            "colorbar": {
             "outlinewidth": 0,
             "ticks": ""
            },
            "colorscale": [
             [
              0,
              "#0d0887"
             ],
             [
              0.1111111111111111,
              "#46039f"
             ],
             [
              0.2222222222222222,
              "#7201a8"
             ],
             [
              0.3333333333333333,
              "#9c179e"
             ],
             [
              0.4444444444444444,
              "#bd3786"
             ],
             [
              0.5555555555555556,
              "#d8576b"
             ],
             [
              0.6666666666666666,
              "#ed7953"
             ],
             [
              0.7777777777777778,
              "#fb9f3a"
             ],
             [
              0.8888888888888888,
              "#fdca26"
             ],
             [
              1,
              "#f0f921"
             ]
            ],
            "type": "surface"
           }
          ],
          "table": [
           {
            "cells": {
             "fill": {
              "color": "#EBF0F8"
             },
             "line": {
              "color": "white"
             }
            },
            "header": {
             "fill": {
              "color": "#C8D4E3"
             },
             "line": {
              "color": "white"
             }
            },
            "type": "table"
           }
          ]
         },
         "layout": {
          "annotationdefaults": {
           "arrowcolor": "#2a3f5f",
           "arrowhead": 0,
           "arrowwidth": 1
          },
          "autotypenumbers": "strict",
          "coloraxis": {
           "colorbar": {
            "outlinewidth": 0,
            "ticks": ""
           }
          },
          "colorscale": {
           "diverging": [
            [
             0,
             "#8e0152"
            ],
            [
             0.1,
             "#c51b7d"
            ],
            [
             0.2,
             "#de77ae"
            ],
            [
             0.3,
             "#f1b6da"
            ],
            [
             0.4,
             "#fde0ef"
            ],
            [
             0.5,
             "#f7f7f7"
            ],
            [
             0.6,
             "#e6f5d0"
            ],
            [
             0.7,
             "#b8e186"
            ],
            [
             0.8,
             "#7fbc41"
            ],
            [
             0.9,
             "#4d9221"
            ],
            [
             1,
             "#276419"
            ]
           ],
           "sequential": [
            [
             0,
             "#0d0887"
            ],
            [
             0.1111111111111111,
             "#46039f"
            ],
            [
             0.2222222222222222,
             "#7201a8"
            ],
            [
             0.3333333333333333,
             "#9c179e"
            ],
            [
             0.4444444444444444,
             "#bd3786"
            ],
            [
             0.5555555555555556,
             "#d8576b"
            ],
            [
             0.6666666666666666,
             "#ed7953"
            ],
            [
             0.7777777777777778,
             "#fb9f3a"
            ],
            [
             0.8888888888888888,
             "#fdca26"
            ],
            [
             1,
             "#f0f921"
            ]
           ],
           "sequentialminus": [
            [
             0,
             "#0d0887"
            ],
            [
             0.1111111111111111,
             "#46039f"
            ],
            [
             0.2222222222222222,
             "#7201a8"
            ],
            [
             0.3333333333333333,
             "#9c179e"
            ],
            [
             0.4444444444444444,
             "#bd3786"
            ],
            [
             0.5555555555555556,
             "#d8576b"
            ],
            [
             0.6666666666666666,
             "#ed7953"
            ],
            [
             0.7777777777777778,
             "#fb9f3a"
            ],
            [
             0.8888888888888888,
             "#fdca26"
            ],
            [
             1,
             "#f0f921"
            ]
           ]
          },
          "colorway": [
           "#636efa",
           "#EF553B",
           "#00cc96",
           "#ab63fa",
           "#FFA15A",
           "#19d3f3",
           "#FF6692",
           "#B6E880",
           "#FF97FF",
           "#FECB52"
          ],
          "font": {
           "color": "#2a3f5f"
          },
          "geo": {
           "bgcolor": "white",
           "lakecolor": "white",
           "landcolor": "#E5ECF6",
           "showlakes": true,
           "showland": true,
           "subunitcolor": "white"
          },
          "hoverlabel": {
           "align": "left"
          },
          "hovermode": "closest",
          "mapbox": {
           "style": "light"
          },
          "paper_bgcolor": "white",
          "plot_bgcolor": "#E5ECF6",
          "polar": {
           "angularaxis": {
            "gridcolor": "white",
            "linecolor": "white",
            "ticks": ""
           },
           "bgcolor": "#E5ECF6",
           "radialaxis": {
            "gridcolor": "white",
            "linecolor": "white",
            "ticks": ""
           }
          },
          "scene": {
           "xaxis": {
            "backgroundcolor": "#E5ECF6",
            "gridcolor": "white",
            "gridwidth": 2,
            "linecolor": "white",
            "showbackground": true,
            "ticks": "",
            "zerolinecolor": "white"
           },
           "yaxis": {
            "backgroundcolor": "#E5ECF6",
            "gridcolor": "white",
            "gridwidth": 2,
            "linecolor": "white",
            "showbackground": true,
            "ticks": "",
            "zerolinecolor": "white"
           },
           "zaxis": {
            "backgroundcolor": "#E5ECF6",
            "gridcolor": "white",
            "gridwidth": 2,
            "linecolor": "white",
            "showbackground": true,
            "ticks": "",
            "zerolinecolor": "white"
           }
          },
          "shapedefaults": {
           "line": {
            "color": "#2a3f5f"
           }
          },
          "ternary": {
           "aaxis": {
            "gridcolor": "white",
            "linecolor": "white",
            "ticks": ""
           },
           "baxis": {
            "gridcolor": "white",
            "linecolor": "white",
            "ticks": ""
           },
           "bgcolor": "#E5ECF6",
           "caxis": {
            "gridcolor": "white",
            "linecolor": "white",
            "ticks": ""
           }
          },
          "title": {
           "x": 0.05
          },
          "xaxis": {
           "automargin": true,
           "gridcolor": "white",
           "linecolor": "white",
           "ticks": "",
           "title": {
            "standoff": 15
           },
           "zerolinecolor": "white",
           "zerolinewidth": 2
          },
          "yaxis": {
           "automargin": true,
           "gridcolor": "white",
           "linecolor": "white",
           "ticks": "",
           "title": {
            "standoff": 15
           },
           "zerolinecolor": "white",
           "zerolinewidth": 2
          }
         }
        },
        "title": {
         "text": "\"NonFused-VECT (2-Nodes): probempi vs nonprobempi\" GFlops Measurement"
        },
        "xaxis": {
         "ticks": "outside",
         "title": {
          "text": "Dirc_Data_Mov"
         }
        },
        "yaxis": {
         "ticks": "outside",
         "title": {
          "text": "GFLOPs/Node"
         }
        }
       }
      },
      "text/html": [
       "<div>                            <div id=\"41a6f548-9ebc-481d-8e85-9c4435ab8757\" class=\"plotly-graph-div\" style=\"height:525px; width:100%;\"></div>            <script type=\"text/javascript\">                require([\"plotly\"], function(Plotly) {                    window.PLOTLYENV=window.PLOTLYENV || {};                                    if (document.getElementById(\"41a6f548-9ebc-481d-8e85-9c4435ab8757\")) {                    Plotly.newPlot(                        \"41a6f548-9ebc-481d-8e85-9c4435ab8757\",                        [{\"line\":{\"color\":\"magenta\",\"width\":3},\"marker\":{\"line\":{\"color\":\"yellow\",\"width\":1},\"size\":9,\"symbol\":\"hexagon\"},\"mode\":\"lines+markers\",\"name\":\"VectNonFusNonProb_256mpi_1omp\",\"x\":[1572864000.0,1966080000.0,2359296000.0,2752512000.0,3145728000.0,3932160000.0,3538944000.0],\"y\":[236.45184,213.07136,202.22208,189.4528,168.83968,160.4416,170.32704],\"type\":\"scatter\"},{\"line\":{\"color\":\"olive\",\"width\":3},\"marker\":{\"line\":{\"color\":\"yellow\",\"width\":1},\"size\":9,\"symbol\":\"hexagon\"},\"mode\":\"lines+markers\",\"name\":\"VectFusProb_256mpi_1omp\",\"x\":[1572864000.0,1966080000.0,2359296000.0,2752512000.0,3145728000.0,3538944000.0,3932160000.0],\"y\":[244.83712,217.42848,157.30944,190.4896,180.06912,168.47872,169.57568],\"type\":\"scatter\"},{\"line\":{\"color\":\"sandybrown\",\"width\":3},\"marker\":{\"line\":{\"color\":\"MediumPurple\",\"width\":2},\"size\":5,\"symbol\":\"diamond\"},\"mode\":\"lines+markers\",\"name\":\"VectNonFusNonProb_128mpi_2omp\",\"x\":[786432000.0,983040000.0,1179648000.0,1376256000.0,1572864000.0,1769472000.0,1966080000.0,2162688000.0,2359296000.0,2555904000.0,2752512000.0,2949120000.0,3145728000.0,3342336000.0,3538944000.0,3932160000.0,3735552000.0],\"y\":[279.888,288.65024,284.5312,262.8704,216.63552,228.26048,194.8768,200.34624,196.26752,186.69504,180.64896,161.98976,167.2064,168.27968,165.86752,157.23392,158.37888],\"type\":\"scatter\"},{\"line\":{\"color\":\"royalblue\",\"width\":3},\"marker\":{\"line\":{\"color\":\"MediumPurple\",\"width\":2},\"size\":5,\"symbol\":\"diamond\"},\"mode\":\"lines+markers\",\"name\":\"VectNonFusProb_128mpi_2omp\",\"x\":[983040000.0,1179648000.0,1376256000.0,1572864000.0,1769472000.0,1966080000.0,2162688000.0,2359296000.0,2555904000.0,2752512000.0,2949120000.0,3145728000.0,3342336000.0,3538944000.0,3735552000.0,3932160000.0],\"y\":[279.6352,283.91168,262.00192,246.34816,236.28864,209.95456,205.04,196.4128,189.67616,180.0128,174.2624,169.37536,171.36832,162.3296,162.57088,157.82656],\"type\":\"scatter\"},{\"line\":{\"color\":\"cyan\",\"width\":3},\"marker\":{\"line\":{\"color\":\"Purple\",\"width\":2},\"size\":7,\"symbol\":\"circle\"},\"mode\":\"lines+markers\",\"name\":\"VectNonFusNonProb_64mpi_4omp\",\"x\":[589824000.0,688128000.0,786432000.0,884736000.0,983040000.0,1081344000.0,1179648000.0,1277952000.0,1376256000.0,1474560000.0,1671168000.0,1572864000.0,1769472000.0,1867776000.0,1966080000.0,2064384000.0,2162688000.0,2260992000.0,2359296000.0,2457600000.0,2555904000.0,2654208000.0,2752512000.0,2850816000.0,2949120000.0,3047424000.0,3145728000.0,3244032000.0,3342336000.0,3440640000.0,3538944000.0,3637248000.0,3735552000.0,3833856000.0,3932160000.0],\"y\":[254.49632,200.24736,212.99648,215.01472,223.18752,212.45216,258.26176,255.11232,213.47968,214.32064,215.00672,201.29664,208.69024,206.99488,183.09952,184.55168,185.37248,180.07712,182.3216,178.42784,170.89312,168.03232,163.31712,165.65888,164.9152,151.99456,157.1552,153.46816,158.15968,154.5264,151.18432,151.24768,140.99584,147.62944,148.47008],\"type\":\"scatter\"},{\"line\":{\"color\":\"darkblue\",\"width\":3},\"marker\":{\"line\":{\"color\":\"tomato\",\"width\":2},\"size\":7,\"symbol\":\"circle\"},\"mode\":\"lines+markers\",\"name\":\"VectNonFusProb_64mpi_4omp\",\"x\":[589824000.0,688128000.0,786432000.0,884736000.0,983040000.0,1081344000.0,1179648000.0,1277952000.0,1376256000.0,1474560000.0,1572864000.0,1769472000.0,1671168000.0,1867776000.0,1966080000.0,2064384000.0,2162688000.0,2260992000.0,2359296000.0,2457600000.0,2555904000.0,2654208000.0,2752512000.0,2850816000.0,2949120000.0,3047424000.0,3145728000.0,3244032000.0,3342336000.0,3440640000.0,3538944000.0,3637248000.0,3735552000.0,3833856000.0,3932160000.0],\"y\":[246.4064,250.05024,238.74848,241.27104,248.3296,258.59232,257.5888,242.29216,243.46496,234.2864,212.37952,211.34816,223.63456,211.14016,200.5584,196.51456,189.54016,188.81216,187.17824,179.73824,175.2096,172.09088,169.52032,170.81344,166.59584,163.24864,159.53952,161.39936,159.0288,157.85312,157.1216,152.48576,150.58336,149.99392,144.65632],\"type\":\"scatter\"},{\"line\":{\"color\":\"red\",\"width\":3},\"marker\":{\"line\":{\"color\":\"red\",\"width\":2},\"size\":5,\"symbol\":\"circle\"},\"mode\":\"lines+markers\",\"name\":\"VectNonFusNonProb_32mpi_8omp\",\"x\":[540672000.0,688128000.0,589824000.0,638976000.0,835584000.0,737280000.0,786432000.0,884736000.0,933888000.0,983040000.0,1081344000.0,1032192000.0,1130496000.0,1179648000.0,1277952000.0,1228800000.0,1327104000.0,1376256000.0,1474560000.0,1523712000.0,1572864000.0,1622016000.0,1671168000.0,1720320000.0,1769472000.0,1818624000.0,1867776000.0,1966080000.0,1916928000.0,2015232000.0,2064384000.0,2113536000.0,2162688000.0,2211840000.0,2260992000.0,2310144000.0,2359296000.0,2408448000.0,2457600000.0,2506752000.0,2555904000.0,2605056000.0,2654208000.0,2703360000.0,2752512000.0,2801664000.0,2850816000.0,2899968000.0,2949120000.0,2998272000.0,3047424000.0,3096576000.0,3145728000.0,3194880000.0,3244032000.0,3293184000.0,3342336000.0,3391488000.0,3440640000.0,3489792000.0,3538944000.0,3588096000.0,3637248000.0,3686400000.0,3784704000.0,3735552000.0,3833856000.0,3883008000.0,3932160000.0],\"y\":[153.7848,174.1056,152.98,165.1456,187.0288,175.8672,183.0928,185.0192,192.6736,182.792,182.5136,192.0208,181.1856,168.0304,161.9712,153.84432,153.38656,193.872,188.0464,183.5296,186.7056,179.4352,173.9648,172.576,174.0288,170.0928,163.096,164.4848,152.54448,157.62752,151.95952,163.5232,154.95328,150.4256,152.63312,157.21456,149.09248,151.06352,146.43104,143.56144,144.312,144.2624,141.74096,145.9672,142.74976,140.81952,120.0224,140.75664,137.37824,138.80816,134.78304,131.37984,124.74592,135.0064,132.49632,139.056,132.81632,132.79088,129.36128,134.18112,133.48256,131.80224,128.47408,128.83456,127.80736,129.94528,129.82528,126.31232,124.40992],\"type\":\"scatter\"},{\"line\":{\"color\":\"green\",\"width\":3},\"marker\":{\"line\":{\"color\":\"green\",\"width\":2},\"size\":5,\"symbol\":\"circle\"},\"mode\":\"lines+markers\",\"name\":\"VectNonFusProb_32mpi_8omp\",\"x\":[540672000.0,638976000.0,589824000.0,688128000.0,737280000.0,786432000.0,835584000.0,884736000.0,933888000.0,983040000.0,1032192000.0,1081344000.0,1130496000.0,1179648000.0,1228800000.0,1327104000.0,1376256000.0,1425408000.0,1474560000.0,1523712000.0,1572864000.0,1622016000.0,1671168000.0,1720320000.0,1769472000.0,1818624000.0,1867776000.0,1916928000.0,1966080000.0,2015232000.0,2064384000.0,2113536000.0,2162688000.0,2211840000.0,2260992000.0,2310144000.0,2359296000.0,2408448000.0,2457600000.0,2506752000.0,2555904000.0,2605056000.0,2654208000.0,2703360000.0,2801664000.0,2752512000.0,2850816000.0,2899968000.0,2949120000.0,3047424000.0,2998272000.0,3096576000.0,3145728000.0,3194880000.0,3244032000.0,3293184000.0,3342336000.0,3391488000.0,3440640000.0,3489792000.0,3538944000.0,3588096000.0,3637248000.0,3686400000.0,3735552000.0,3784704000.0,3883008000.0,3833856000.0,3932160000.0],\"y\":[166.3792,181.1248,167.5952,187.8448,187.2848,191.1216,196.8352,198.2672,201.5504,203.1184,194.8112,195.1488,189.7296,169.12,145.37216,147.54976,190.1696,182.8512,185.8608,180.0208,173.8528,176.5696,173.3408,169.2576,168.0528,165.8032,163.6064,160.4288,159.304,157.81632,153.084,157.40448,153.38272,153.25488,150.64592,148.61584,148.55728,147.89936,145.67376,147.67952,142.54416,143.97856,142.76768,144.85344,140.5744,141.60176,141.49552,139.00864,139.01696,138.37152,139.70416,137.06704,136.40368,132.4032,130.63568,128.0416,132.4176,134.72048,133.28192,133.18272,130.2336,131.29136,124.63328,130.82208,131.63568,120.73408,128.39008,126.78592,124.44288],\"type\":\"scatter\"},{\"line\":{\"color\":\"blue\",\"width\":3},\"marker\":{\"line\":{\"color\":\"chocolate\",\"width\":2},\"size\":4,\"symbol\":\"triangle-up\"},\"mode\":\"lines+markers\",\"name\":\"VectNonFusNonProb_16mpi_16omp\",\"x\":[516096000.0,540672000.0,565248000.0,589824000.0,614400000.0,663552000.0,638976000.0,688128000.0,712704000.0,737280000.0,786432000.0,761856000.0,811008000.0,835584000.0,860160000.0,884736000.0,909312000.0,933888000.0,958464000.0,983040000.0,1007616000.0,1032192000.0,1056768000.0,1081344000.0,1105920000.0,1130496000.0,1155072000.0,1179648000.0,1204224000.0,1228800000.0,1253376000.0,1302528000.0,1277952000.0,1327104000.0,1351680000.0,1376256000.0,1400832000.0,1425408000.0,1449984000.0,1474560000.0,1499136000.0,1523712000.0,1548288000.0,1572864000.0,1597440000.0,1646592000.0,1622016000.0,1671168000.0,1695744000.0,1720320000.0,1744896000.0,1769472000.0,1794048000.0,1818624000.0,1843200000.0,1892352000.0,1867776000.0,1941504000.0,1916928000.0,1966080000.0,1990656000.0,2015232000.0,2039808000.0,2088960000.0,2113536000.0,2138112000.0,2187264000.0,2162688000.0,2211840000.0,2236416000.0,2260992000.0,2285568000.0,2310144000.0,2334720000.0,2359296000.0,2383872000.0,2408448000.0,2433024000.0,2482176000.0,2457600000.0,2506752000.0,2531328000.0,2555904000.0,2580480000.0,2605056000.0,2629632000.0,2678784000.0,2654208000.0,2703360000.0,2727936000.0,2752512000.0,2777088000.0,2801664000.0,2826240000.0,2850816000.0,2875392000.0,2899968000.0,2924544000.0,2949120000.0,2973696000.0,2998272000.0,3022848000.0,3047424000.0,3072000000.0,3096576000.0,3121152000.0,3145728000.0,3170304000.0,3219456000.0,3194880000.0,3244032000.0,3268608000.0,3293184000.0,3391488000.0],\"y\":[90.3304,86.672,90.5184,86.9104,90.5008,90.6576,90.7208,86.5328,91.6784,91.9056,89.6384,92.5896,88.3936,87.1168,85.1712,84.8368,83.1656,80.9368,83.6328,79.13736,70.14728,80.1944,76.642,74.06648,74.63112,74.22392,66.26496,70.48344,68.1568,68.99256,70.39704,68.84152,65.38616,65.60232,69.30368,61.43368,70.8128,64.55552,66.44016,67.02712,64.7028,62.49656,67.92944,70.13784,71.44784,75.80992,59.72824,65.3196,75.1608,60.76848,68.61352,55.39496,72.434,72.18032,76.9036,72.34512,72.68376,70.81592,71.93656,69.35544,76.0264,71.41736,72.95536,76.13128,73.39472,73.31384,78.40832,75.04344,73.31144,74.91248,74.62048,76.12264,71.19024,71.57712,74.46304,76.42256,72.7072,73.03592,74.94056,75.88816,67.38688,74.44816,71.70936,75.30296,72.19936,71.21536,74.6068,73.83064,72.2488,71.26464,72.80016,76.51272,73.18808,71.92104,74.84784,71.34448,71.24752,74.32416,67.28792,73.5948,72.17144,73.5404,72.25736,71.79768,70.81952,72.6168,72.71472,74.65136,66.49376,71.29928,68.35792,74.444,72.52568,74.2576],\"type\":\"scatter\"},{\"line\":{\"color\":\"darkviolet\",\"width\":3},\"marker\":{\"line\":{\"color\":\"crimson\",\"width\":2},\"size\":4,\"symbol\":\"triangle-up\"},\"mode\":\"lines+markers\",\"name\":\"VectNonFusProb_16mpi_16omp\",\"x\":[516096000.0,540672000.0,565248000.0,589824000.0,614400000.0,638976000.0,663552000.0,712704000.0,688128000.0,737280000.0,761856000.0,786432000.0,811008000.0,860160000.0,835584000.0,884736000.0,909312000.0,983040000.0,958464000.0,933888000.0,1007616000.0,1032192000.0,1056768000.0,1081344000.0,1105920000.0,1130496000.0,1155072000.0,1179648000.0,1228800000.0,1204224000.0,1253376000.0,1277952000.0,1327104000.0,1302528000.0,1351680000.0,1376256000.0,1400832000.0,1425408000.0,1449984000.0,1474560000.0,1499136000.0,1523712000.0,1548288000.0,1572864000.0,1597440000.0,1622016000.0,1646592000.0,1671168000.0,1695744000.0,1720320000.0,1769472000.0,1744896000.0,1794048000.0,1843200000.0,1818624000.0,1867776000.0,1892352000.0,1916928000.0,1941504000.0,1966080000.0,1990656000.0,2015232000.0,2039808000.0,2064384000.0,2088960000.0,2113536000.0,2138112000.0,2162688000.0,2187264000.0,2236416000.0,2211840000.0,2260992000.0,2285568000.0,2310144000.0,2334720000.0,2359296000.0,2383872000.0,2408448000.0,2433024000.0,2482176000.0,2457600000.0,2506752000.0,2531328000.0,2580480000.0,2555904000.0,2605056000.0,2629632000.0,2654208000.0,2678784000.0,2703360000.0,2727936000.0,2752512000.0,2801664000.0,2777088000.0,2826240000.0,2850816000.0,2875392000.0,2899968000.0,2924544000.0,2949120000.0,2973696000.0,2998272000.0,3022848000.0,3047424000.0,3072000000.0,3096576000.0,3121152000.0,3145728000.0,3194880000.0,3219456000.0,3244032000.0,3268608000.0,3416064000.0],\"y\":[93.3528,95.1744,94.8216,95.1824,91.1808,97.3104,95.184,94.8864,95.5088,93.0224,95.4672,83.88,89.1616,85.6568,88.2432,88.6176,83.0624,82.3464,74.16072,82.5744,73.22928,80.0232,77.30784,73.3584,75.22016,75.3192,76.31312,74.95576,68.60008,72.58856,69.99312,67.48088,68.84672,70.37488,69.2684,70.28104,69.20256,69.05376,68.60792,68.022,67.9936,68.5444,65.17456,64.17448,72.2344,67.37,71.4292,66.67536,71.184,68.23856,76.91648,71.48296,74.05432,72.64464,72.6896,77.18408,76.83536,65.72,75.7052,75.0008,77.3924,73.74848,77.39208,74.9812,73.13864,76.75072,77.4476,75.57024,75.50288,78.55824,77.12256,71.51432,73.34672,74.56552,77.82928,69.06472,77.14664,75.53104,67.26024,76.47024,72.6704,74.07632,74.47872,74.88576,73.42592,76.28136,72.2592,74.094,74.59992,74.8656,71.77104,74.70016,73.89408,74.61352,74.90656,74.91552,68.8644,72.25752,72.23624,74.36416,70.60776,71.49488,73.044,73.44304,72.85704,72.55224,73.85304,73.50216,72.21576,73.68816,72.38176,72.63544,74.33008],\"type\":\"scatter\"}],                        {\"template\":{\"data\":{\"histogram2dcontour\":[{\"type\":\"histogram2dcontour\",\"colorbar\":{\"outlinewidth\":0,\"ticks\":\"\"},\"colorscale\":[[0.0,\"#0d0887\"],[0.1111111111111111,\"#46039f\"],[0.2222222222222222,\"#7201a8\"],[0.3333333333333333,\"#9c179e\"],[0.4444444444444444,\"#bd3786\"],[0.5555555555555556,\"#d8576b\"],[0.6666666666666666,\"#ed7953\"],[0.7777777777777778,\"#fb9f3a\"],[0.8888888888888888,\"#fdca26\"],[1.0,\"#f0f921\"]]}],\"choropleth\":[{\"type\":\"choropleth\",\"colorbar\":{\"outlinewidth\":0,\"ticks\":\"\"}}],\"histogram2d\":[{\"type\":\"histogram2d\",\"colorbar\":{\"outlinewidth\":0,\"ticks\":\"\"},\"colorscale\":[[0.0,\"#0d0887\"],[0.1111111111111111,\"#46039f\"],[0.2222222222222222,\"#7201a8\"],[0.3333333333333333,\"#9c179e\"],[0.4444444444444444,\"#bd3786\"],[0.5555555555555556,\"#d8576b\"],[0.6666666666666666,\"#ed7953\"],[0.7777777777777778,\"#fb9f3a\"],[0.8888888888888888,\"#fdca26\"],[1.0,\"#f0f921\"]]}],\"heatmap\":[{\"type\":\"heatmap\",\"colorbar\":{\"outlinewidth\":0,\"ticks\":\"\"},\"colorscale\":[[0.0,\"#0d0887\"],[0.1111111111111111,\"#46039f\"],[0.2222222222222222,\"#7201a8\"],[0.3333333333333333,\"#9c179e\"],[0.4444444444444444,\"#bd3786\"],[0.5555555555555556,\"#d8576b\"],[0.6666666666666666,\"#ed7953\"],[0.7777777777777778,\"#fb9f3a\"],[0.8888888888888888,\"#fdca26\"],[1.0,\"#f0f921\"]]}],\"heatmapgl\":[{\"type\":\"heatmapgl\",\"colorbar\":{\"outlinewidth\":0,\"ticks\":\"\"},\"colorscale\":[[0.0,\"#0d0887\"],[0.1111111111111111,\"#46039f\"],[0.2222222222222222,\"#7201a8\"],[0.3333333333333333,\"#9c179e\"],[0.4444444444444444,\"#bd3786\"],[0.5555555555555556,\"#d8576b\"],[0.6666666666666666,\"#ed7953\"],[0.7777777777777778,\"#fb9f3a\"],[0.8888888888888888,\"#fdca26\"],[1.0,\"#f0f921\"]]}],\"contourcarpet\":[{\"type\":\"contourcarpet\",\"colorbar\":{\"outlinewidth\":0,\"ticks\":\"\"}}],\"contour\":[{\"type\":\"contour\",\"colorbar\":{\"outlinewidth\":0,\"ticks\":\"\"},\"colorscale\":[[0.0,\"#0d0887\"],[0.1111111111111111,\"#46039f\"],[0.2222222222222222,\"#7201a8\"],[0.3333333333333333,\"#9c179e\"],[0.4444444444444444,\"#bd3786\"],[0.5555555555555556,\"#d8576b\"],[0.6666666666666666,\"#ed7953\"],[0.7777777777777778,\"#fb9f3a\"],[0.8888888888888888,\"#fdca26\"],[1.0,\"#f0f921\"]]}],\"surface\":[{\"type\":\"surface\",\"colorbar\":{\"outlinewidth\":0,\"ticks\":\"\"},\"colorscale\":[[0.0,\"#0d0887\"],[0.1111111111111111,\"#46039f\"],[0.2222222222222222,\"#7201a8\"],[0.3333333333333333,\"#9c179e\"],[0.4444444444444444,\"#bd3786\"],[0.5555555555555556,\"#d8576b\"],[0.6666666666666666,\"#ed7953\"],[0.7777777777777778,\"#fb9f3a\"],[0.8888888888888888,\"#fdca26\"],[1.0,\"#f0f921\"]]}],\"mesh3d\":[{\"type\":\"mesh3d\",\"colorbar\":{\"outlinewidth\":0,\"ticks\":\"\"}}],\"scatter\":[{\"fillpattern\":{\"fillmode\":\"overlay\",\"size\":10,\"solidity\":0.2},\"type\":\"scatter\"}],\"parcoords\":[{\"type\":\"parcoords\",\"line\":{\"colorbar\":{\"outlinewidth\":0,\"ticks\":\"\"}}}],\"scatterpolargl\":[{\"type\":\"scatterpolargl\",\"marker\":{\"colorbar\":{\"outlinewidth\":0,\"ticks\":\"\"}}}],\"bar\":[{\"error_x\":{\"color\":\"#2a3f5f\"},\"error_y\":{\"color\":\"#2a3f5f\"},\"marker\":{\"line\":{\"color\":\"#E5ECF6\",\"width\":0.5},\"pattern\":{\"fillmode\":\"overlay\",\"size\":10,\"solidity\":0.2}},\"type\":\"bar\"}],\"scattergeo\":[{\"type\":\"scattergeo\",\"marker\":{\"colorbar\":{\"outlinewidth\":0,\"ticks\":\"\"}}}],\"scatterpolar\":[{\"type\":\"scatterpolar\",\"marker\":{\"colorbar\":{\"outlinewidth\":0,\"ticks\":\"\"}}}],\"histogram\":[{\"marker\":{\"pattern\":{\"fillmode\":\"overlay\",\"size\":10,\"solidity\":0.2}},\"type\":\"histogram\"}],\"scattergl\":[{\"type\":\"scattergl\",\"marker\":{\"colorbar\":{\"outlinewidth\":0,\"ticks\":\"\"}}}],\"scatter3d\":[{\"type\":\"scatter3d\",\"line\":{\"colorbar\":{\"outlinewidth\":0,\"ticks\":\"\"}},\"marker\":{\"colorbar\":{\"outlinewidth\":0,\"ticks\":\"\"}}}],\"scattermapbox\":[{\"type\":\"scattermapbox\",\"marker\":{\"colorbar\":{\"outlinewidth\":0,\"ticks\":\"\"}}}],\"scatterternary\":[{\"type\":\"scatterternary\",\"marker\":{\"colorbar\":{\"outlinewidth\":0,\"ticks\":\"\"}}}],\"scattercarpet\":[{\"type\":\"scattercarpet\",\"marker\":{\"colorbar\":{\"outlinewidth\":0,\"ticks\":\"\"}}}],\"carpet\":[{\"aaxis\":{\"endlinecolor\":\"#2a3f5f\",\"gridcolor\":\"white\",\"linecolor\":\"white\",\"minorgridcolor\":\"white\",\"startlinecolor\":\"#2a3f5f\"},\"baxis\":{\"endlinecolor\":\"#2a3f5f\",\"gridcolor\":\"white\",\"linecolor\":\"white\",\"minorgridcolor\":\"white\",\"startlinecolor\":\"#2a3f5f\"},\"type\":\"carpet\"}],\"table\":[{\"cells\":{\"fill\":{\"color\":\"#EBF0F8\"},\"line\":{\"color\":\"white\"}},\"header\":{\"fill\":{\"color\":\"#C8D4E3\"},\"line\":{\"color\":\"white\"}},\"type\":\"table\"}],\"barpolar\":[{\"marker\":{\"line\":{\"color\":\"#E5ECF6\",\"width\":0.5},\"pattern\":{\"fillmode\":\"overlay\",\"size\":10,\"solidity\":0.2}},\"type\":\"barpolar\"}],\"pie\":[{\"automargin\":true,\"type\":\"pie\"}]},\"layout\":{\"autotypenumbers\":\"strict\",\"colorway\":[\"#636efa\",\"#EF553B\",\"#00cc96\",\"#ab63fa\",\"#FFA15A\",\"#19d3f3\",\"#FF6692\",\"#B6E880\",\"#FF97FF\",\"#FECB52\"],\"font\":{\"color\":\"#2a3f5f\"},\"hovermode\":\"closest\",\"hoverlabel\":{\"align\":\"left\"},\"paper_bgcolor\":\"white\",\"plot_bgcolor\":\"#E5ECF6\",\"polar\":{\"bgcolor\":\"#E5ECF6\",\"angularaxis\":{\"gridcolor\":\"white\",\"linecolor\":\"white\",\"ticks\":\"\"},\"radialaxis\":{\"gridcolor\":\"white\",\"linecolor\":\"white\",\"ticks\":\"\"}},\"ternary\":{\"bgcolor\":\"#E5ECF6\",\"aaxis\":{\"gridcolor\":\"white\",\"linecolor\":\"white\",\"ticks\":\"\"},\"baxis\":{\"gridcolor\":\"white\",\"linecolor\":\"white\",\"ticks\":\"\"},\"caxis\":{\"gridcolor\":\"white\",\"linecolor\":\"white\",\"ticks\":\"\"}},\"coloraxis\":{\"colorbar\":{\"outlinewidth\":0,\"ticks\":\"\"}},\"colorscale\":{\"sequential\":[[0.0,\"#0d0887\"],[0.1111111111111111,\"#46039f\"],[0.2222222222222222,\"#7201a8\"],[0.3333333333333333,\"#9c179e\"],[0.4444444444444444,\"#bd3786\"],[0.5555555555555556,\"#d8576b\"],[0.6666666666666666,\"#ed7953\"],[0.7777777777777778,\"#fb9f3a\"],[0.8888888888888888,\"#fdca26\"],[1.0,\"#f0f921\"]],\"sequentialminus\":[[0.0,\"#0d0887\"],[0.1111111111111111,\"#46039f\"],[0.2222222222222222,\"#7201a8\"],[0.3333333333333333,\"#9c179e\"],[0.4444444444444444,\"#bd3786\"],[0.5555555555555556,\"#d8576b\"],[0.6666666666666666,\"#ed7953\"],[0.7777777777777778,\"#fb9f3a\"],[0.8888888888888888,\"#fdca26\"],[1.0,\"#f0f921\"]],\"diverging\":[[0,\"#8e0152\"],[0.1,\"#c51b7d\"],[0.2,\"#de77ae\"],[0.3,\"#f1b6da\"],[0.4,\"#fde0ef\"],[0.5,\"#f7f7f7\"],[0.6,\"#e6f5d0\"],[0.7,\"#b8e186\"],[0.8,\"#7fbc41\"],[0.9,\"#4d9221\"],[1,\"#276419\"]]},\"xaxis\":{\"gridcolor\":\"white\",\"linecolor\":\"white\",\"ticks\":\"\",\"title\":{\"standoff\":15},\"zerolinecolor\":\"white\",\"automargin\":true,\"zerolinewidth\":2},\"yaxis\":{\"gridcolor\":\"white\",\"linecolor\":\"white\",\"ticks\":\"\",\"title\":{\"standoff\":15},\"zerolinecolor\":\"white\",\"automargin\":true,\"zerolinewidth\":2},\"scene\":{\"xaxis\":{\"backgroundcolor\":\"#E5ECF6\",\"gridcolor\":\"white\",\"linecolor\":\"white\",\"showbackground\":true,\"ticks\":\"\",\"zerolinecolor\":\"white\",\"gridwidth\":2},\"yaxis\":{\"backgroundcolor\":\"#E5ECF6\",\"gridcolor\":\"white\",\"linecolor\":\"white\",\"showbackground\":true,\"ticks\":\"\",\"zerolinecolor\":\"white\",\"gridwidth\":2},\"zaxis\":{\"backgroundcolor\":\"#E5ECF6\",\"gridcolor\":\"white\",\"linecolor\":\"white\",\"showbackground\":true,\"ticks\":\"\",\"zerolinecolor\":\"white\",\"gridwidth\":2}},\"shapedefaults\":{\"line\":{\"color\":\"#2a3f5f\"}},\"annotationdefaults\":{\"arrowcolor\":\"#2a3f5f\",\"arrowhead\":0,\"arrowwidth\":1},\"geo\":{\"bgcolor\":\"white\",\"landcolor\":\"#E5ECF6\",\"subunitcolor\":\"white\",\"showland\":true,\"showlakes\":true,\"lakecolor\":\"white\"},\"title\":{\"x\":0.05},\"mapbox\":{\"style\":\"light\"}}},\"shapes\":[{\"line\":{\"color\":\"green\",\"dash\":\"dash\",\"width\":3},\"type\":\"line\",\"x0\":512000000.0,\"x1\":512000000.0,\"xref\":\"x\",\"y0\":0,\"y1\":1,\"yref\":\"y domain\"}],\"annotations\":[{\"align\":\"left\",\"arrowcolor\":\"#636363\",\"arrowhead\":1,\"arrowsize\":1,\"arrowwidth\":2,\"ax\":-20,\"ay\":-30,\"font\":{\"color\":\"purple\",\"family\":\"Sans Serif\",\"size\":12},\"showarrow\":false,\"text\":\"LLC Size Per Node\",\"x\":\"512e6\",\"y\":130,\"yanchor\":\"bottom\"}],\"xaxis\":{\"title\":{\"text\":\"Dirc_Data_Mov\"},\"ticks\":\"outside\"},\"yaxis\":{\"title\":{\"text\":\"GFLOPs/Node\"},\"ticks\":\"outside\"},\"title\":{\"text\":\"\\\"NonFused-VECT (2-Nodes): probempi vs nonprobempi\\\" GFlops Measurement\"},\"legend\":{\"bordercolor\":\"black\",\"borderwidth\":1}},                        {\"responsive\": true}                    ).then(function(){\n",
       "                            \n",
       "var gd = document.getElementById('41a6f548-9ebc-481d-8e85-9c4435ab8757');\n",
       "var x = new MutationObserver(function (mutations, observer) {{\n",
       "        var display = window.getComputedStyle(gd).display;\n",
       "        if (!display || display === 'none') {{\n",
       "            console.log([gd, 'removed!']);\n",
       "            Plotly.purge(gd);\n",
       "            observer.disconnect();\n",
       "        }}\n",
       "}});\n",
       "\n",
       "// Listen for the removal of the full notebook cells\n",
       "var notebookContainer = gd.closest('#notebook-container');\n",
       "if (notebookContainer) {{\n",
       "    x.observe(notebookContainer, {childList: true});\n",
       "}}\n",
       "\n",
       "// Listen for the clearing of the current output cell\n",
       "var outputEl = gd.closest('.output');\n",
       "if (outputEl) {{\n",
       "    x.observe(outputEl, {childList: true});\n",
       "}}\n",
       "\n",
       "                        })                };                });            </script>        </div>"
      ]
     },
     "metadata": {},
     "output_type": "display_data"
    }
   ],
   "source": [
    "fig = go.Figure() \n",
    "\n",
    "fig.add_trace(go.Scatter(x=(dfn2VectNonFusNonProb_256mpi_1omp.Dirc_Data_Mov*(dfn2VectNonFusNonProb_256mpi_1omp.MPI_size/2)), \n",
    "                         y=(dfn2VectNonFusNonProb_256mpi_1omp.GFLOPS*(dfn2VectNonFusNonProb_256mpi_1omp.MPI_size/2)), \n",
    "                         mode='lines+markers', \n",
    "                         name='VectNonFusNonProb_256mpi_1omp',\n",
    "                         line=dict(color='magenta',width=3),\n",
    "                         marker=dict(symbol='hexagon',size=9, line=dict(color='yellow',width=1))))\n",
    "\n",
    "\n",
    "fig.add_trace(go.Scatter(x=(dfn2VectNonFusProb_256mpi_1omp.Dirc_Data_Mov*(dfn2VectNonFusProb_256mpi_1omp.MPI_size/2)), \n",
    "                         y=(dfn2VectNonFusProb_256mpi_1omp.GFLOPS*(dfn2VectNonFusProb_256mpi_1omp.MPI_size/2)), \n",
    "                         mode='lines+markers', \n",
    "                         name='VectFusProb_256mpi_1omp',\n",
    "                         line=dict(color='olive',width=3),\n",
    "                         marker=dict(symbol='hexagon',size=9, line=dict(color='yellow',width=1))))\n",
    "\n",
    "# case 2\n",
    "fig.add_trace(go.Scatter(x=(dfn2VectNonFusNonProb_128mpi_2omp.Dirc_Data_Mov*(dfn2VectNonFusNonProb_128mpi_2omp.MPI_size/2)), \n",
    "                         y=(dfn2VectNonFusNonProb_128mpi_2omp.GFLOPS*(dfn2VectNonFusNonProb_128mpi_2omp.MPI_size/2)), \n",
    "                         mode='lines+markers', \n",
    "                         name='VectNonFusNonProb_128mpi_2omp',\n",
    "                         line=dict(color='sandybrown',width=3),\n",
    "                         marker=dict(symbol='diamond',size=5,line=dict(color='MediumPurple',width=2))))\n",
    "\n",
    "fig.add_trace(go.Scatter(x=(dfn2VectNonFusProb_128mpi_2omp.Dirc_Data_Mov*(dfn2VectNonFusProb_128mpi_2omp.MPI_size/2)), \n",
    "                         y=(dfn2VectNonFusProb_128mpi_2omp.GFLOPS*(dfn2VectNonFusProb_128mpi_2omp.MPI_size/2)), \n",
    "                         mode='lines+markers', \n",
    "                         name='VectNonFusProb_128mpi_2omp',\n",
    "                         line=dict(color='royalblue',width=3),\n",
    "                         marker=dict(symbol='diamond',size=5,line=dict(color='MediumPurple',width=2))))\n",
    "\n",
    "# case 3\n",
    "fig.add_trace(go.Scatter(x=(dfn2VectNonFusNonProb_64mpi_4omp.Dirc_Data_Mov*(dfn2VectNonFusNonProb_64mpi_4omp.MPI_size/2)), \n",
    "                         y=(dfn2VectNonFusNonProb_64mpi_4omp.GFLOPS*(dfn2VectNonFusNonProb_64mpi_4omp.MPI_size/2)), \n",
    "                         mode='lines+markers', \n",
    "                         name='VectNonFusNonProb_64mpi_4omp',\n",
    "                         line=dict(color='cyan',width=3),\n",
    "                         marker=dict(symbol='circle',size=7,line=dict(color='Purple',width=2))))\n",
    "\n",
    "fig.add_trace(go.Scatter(x=(dfn2VectNonFusProb_64mpi_4omp.Dirc_Data_Mov*(dfn2VectNonFusProb_64mpi_4omp.MPI_size/2)), \n",
    "                         y=(dfn2VectNonFusProb_64mpi_4omp.GFLOPS*(dfn2VectNonFusProb_64mpi_4omp.MPI_size/2)), \n",
    "                         mode='lines+markers', \n",
    "                         name='VectNonFusProb_64mpi_4omp',\n",
    "                         line=dict(color='darkblue',width=3),\n",
    "                         marker=dict(symbol='circle',size=7, line=dict(color='tomato',width=2))))\n",
    "\n",
    "# case 4\n",
    "fig.add_trace(go.Scatter(x=(dfn2VectNonFusNonProb_32mpi_8omp.Dirc_Data_Mov*(dfn2VectNonFusNonProb_32mpi_8omp.MPI_size/2)), \n",
    "                         y=(dfn2VectNonFusNonProb_32mpi_8omp.GFLOPS*(dfn2VectNonFusNonProb_32mpi_8omp.MPI_size/2)), \n",
    "                         mode='lines+markers', \n",
    "                         name='VectNonFusNonProb_32mpi_8omp',\n",
    "                         line=dict(color='red',width=3),\n",
    "                         marker=dict(symbol='circle',size=5,line=dict(color='red',width=2))))\n",
    "\n",
    "fig.add_trace(go.Scatter(x=(dfn2VectNonFusProb_32mpi_8omp.Dirc_Data_Mov*(dfn2VectNonFusProb_32mpi_8omp.MPI_size/2)), \n",
    "                         y=(dfn2VectNonFusProb_32mpi_8omp.GFLOPS*(dfn2VectNonFusProb_32mpi_8omp.MPI_size/2)), \n",
    "                         mode='lines+markers', \n",
    "                         name='VectNonFusProb_32mpi_8omp',\n",
    "                         line=dict(color='green',width=3),\n",
    "                         marker=dict(symbol='circle',size=5,line=dict(color='green',width=2))))\n",
    "\n",
    "# case 5\n",
    "\n",
    "fig.add_trace(go.Scatter(x=(dfn2VectNonFusNonProb_16mpi_16omp.Dirc_Data_Mov*(dfn2VectNonFusNonProb_16mpi_16omp.MPI_size/2)), \n",
    "                         y=(dfn2VectNonFusNonProb_16mpi_16omp.GFLOPS*(dfn2VectNonFusNonProb_16mpi_16omp.MPI_size/2)), \n",
    "                         mode='lines+markers', \n",
    "                         name='VectNonFusNonProb_16mpi_16omp',\n",
    "                         line=dict(color='blue',width=3),\n",
    "                         marker=dict(symbol='triangle-up',size=4,line=dict(color='chocolate',width=2))))\n",
    "\n",
    "fig.add_trace(go.Scatter(x=(dfn2VectNonFusProb_16mpi_16omp.Dirc_Data_Mov*(dfn2VectNonFusProb_16mpi_16omp.MPI_size/2)), \n",
    "                         y=(dfn2VectNonFusProb_16mpi_16omp.GFLOPS*(dfn2VectNonFusProb_16mpi_16omp.MPI_size/2)), \n",
    "                         mode='lines+markers', \n",
    "                         name='VectNonFusProb_16mpi_16omp',\n",
    "                         line=dict(color='darkviolet',width=3),\n",
    "                         marker=dict(symbol='triangle-up',size=4,line=dict(color='crimson',width=2))))\n",
    "\n",
    "\n",
    "\n",
    "# Adding a vertical line\n",
    "fig.add_vline(x=512e6, line_width=3, line_dash=\"dash\", line_color=\"green\")\n",
    "# fig.add_hline(y=1024, line_width=3, line_dash=\"dash\", line_color=\"red\")\n",
    "\n",
    "# Add annotation\n",
    "fig.add_annotation(\n",
    "    x='512e6'\n",
    "    , y=130\n",
    "    , text=f'LLC Size Per Node'\n",
    "    , yanchor='bottom'\n",
    "    , showarrow=False\n",
    "    , arrowhead=1\n",
    "    , arrowsize=1\n",
    "    , arrowwidth=2\n",
    "    , arrowcolor=\"#636363\"\n",
    "    , ax=-20\n",
    "    , ay=-30\n",
    "    , font=dict(size=12, color=\"purple\", family=\"Sans Serif\")\n",
    "    , align=\"left\"\n",
    "    ,)\n",
    "\n",
    "fig.update_layout(title='\"NonFused-VECT (2-Nodes): probempi vs nonprobempi\" GFlops Measurement',\n",
    "                  xaxis_title='Dirc_Data_Mov', yaxis_title='GFLOPs/Node', \n",
    "                  xaxis=dict(ticks=\"outside\"),  \n",
    "                  yaxis=dict(ticks=\"outside\"),\n",
    "                  legend=go.layout.Legend(bordercolor=\"black\",borderwidth=1))"
   ]
  },
  {
   "cell_type": "markdown",
   "id": "c2e77794",
   "metadata": {},
   "source": [
    "## 5) Newgeo_VECT_Probmpi"
   ]
  },
  {
   "cell_type": "markdown",
   "id": "5e2927ee",
   "metadata": {},
   "source": [
    "### Adding Columns"
   ]
  },
  {
   "cell_type": "code",
   "execution_count": 180,
   "id": "dfe2acc4",
   "metadata": {},
   "outputs": [],
   "source": [
    "dfn2_vect_newgeo_probempi[\"N_Nodes\"] = 2\n",
    "dfn2_vect_newgeo_probempi['NPX'] = (dfn2_vect_newgeo_probempi.GLB_X//dfn2_vect_newgeo_probempi.LOC_X)\n",
    "dfn2_vect_newgeo_probempi['NPY'] = (dfn2_vect_newgeo_probempi.GLB_Y//dfn2_vect_newgeo_probempi.LOC_Y)\n",
    "dfn2_vect_newgeo_probempi['NPZ'] = (dfn2_vect_newgeo_probempi.GLB_Z//dfn2_vect_newgeo_probempi.LOC_Z)\n",
    "dfn2_vect_newgeo_probempi['NPT'] = (dfn2_vect_newgeo_probempi.GLB_T//dfn2_vect_newgeo_probempi.LOC_T)\n",
    "dfn2_vect_newgeo_probempi[\"Total_proc\"] = dfn2_vect_newgeo_probempi[\"omp_thrd\"]* dfn2_vect_newgeo_probempi.MPI_size\n",
    "# dfn2_vect_newgeo_probempi.columns"
   ]
  },
  {
   "cell_type": "markdown",
   "id": "481f2d95",
   "metadata": {},
   "source": [
    "### Data Summary"
   ]
  },
  {
   "cell_type": "code",
   "execution_count": 181,
   "id": "c9cd4eff",
   "metadata": {},
   "outputs": [
    {
     "data": {
      "text/html": [
       "<div>\n",
       "<style scoped>\n",
       "    .dataframe tbody tr th:only-of-type {\n",
       "        vertical-align: middle;\n",
       "    }\n",
       "\n",
       "    .dataframe tbody tr th {\n",
       "        vertical-align: top;\n",
       "    }\n",
       "\n",
       "    .dataframe thead th {\n",
       "        text-align: right;\n",
       "    }\n",
       "</style>\n",
       "<table border=\"1\" class=\"dataframe\">\n",
       "  <thead>\n",
       "    <tr style=\"text-align: right;\">\n",
       "      <th></th>\n",
       "      <th>MPI_size</th>\n",
       "      <th>omp_thrd</th>\n",
       "      <th>NPT</th>\n",
       "      <th>NPX</th>\n",
       "      <th>NPY</th>\n",
       "      <th>NPZ</th>\n",
       "      <th>Total_proc</th>\n",
       "      <th>size</th>\n",
       "    </tr>\n",
       "  </thead>\n",
       "  <tbody>\n",
       "    <tr>\n",
       "      <th>0</th>\n",
       "      <td>16</td>\n",
       "      <td>16</td>\n",
       "      <td>2</td>\n",
       "      <td>2</td>\n",
       "      <td>2</td>\n",
       "      <td>2</td>\n",
       "      <td>256</td>\n",
       "      <td>140</td>\n",
       "    </tr>\n",
       "    <tr>\n",
       "      <th>1</th>\n",
       "      <td>32</td>\n",
       "      <td>8</td>\n",
       "      <td>4</td>\n",
       "      <td>2</td>\n",
       "      <td>2</td>\n",
       "      <td>2</td>\n",
       "      <td>256</td>\n",
       "      <td>70</td>\n",
       "    </tr>\n",
       "    <tr>\n",
       "      <th>2</th>\n",
       "      <td>64</td>\n",
       "      <td>4</td>\n",
       "      <td>8</td>\n",
       "      <td>2</td>\n",
       "      <td>2</td>\n",
       "      <td>2</td>\n",
       "      <td>256</td>\n",
       "      <td>34</td>\n",
       "    </tr>\n",
       "    <tr>\n",
       "      <th>3</th>\n",
       "      <td>128</td>\n",
       "      <td>2</td>\n",
       "      <td>16</td>\n",
       "      <td>2</td>\n",
       "      <td>2</td>\n",
       "      <td>2</td>\n",
       "      <td>256</td>\n",
       "      <td>17</td>\n",
       "    </tr>\n",
       "    <tr>\n",
       "      <th>4</th>\n",
       "      <td>248</td>\n",
       "      <td>1</td>\n",
       "      <td>31</td>\n",
       "      <td>2</td>\n",
       "      <td>2</td>\n",
       "      <td>2</td>\n",
       "      <td>248</td>\n",
       "      <td>4</td>\n",
       "    </tr>\n",
       "    <tr>\n",
       "      <th>5</th>\n",
       "      <td>256</td>\n",
       "      <td>1</td>\n",
       "      <td>32</td>\n",
       "      <td>2</td>\n",
       "      <td>2</td>\n",
       "      <td>2</td>\n",
       "      <td>256</td>\n",
       "      <td>7</td>\n",
       "    </tr>\n",
       "  </tbody>\n",
       "</table>\n",
       "</div>"
      ],
      "text/plain": [
       "   MPI_size  omp_thrd  NPT  NPX  NPY  NPZ  Total_proc  size\n",
       "0        16        16    2    2    2    2         256   140\n",
       "1        32         8    4    2    2    2         256    70\n",
       "2        64         4    8    2    2    2         256    34\n",
       "3       128         2   16    2    2    2         256    17\n",
       "4       248         1   31    2    2    2         248     4\n",
       "5       256         1   32    2    2    2         256     7"
      ]
     },
     "execution_count": 181,
     "metadata": {},
     "output_type": "execute_result"
    }
   ],
   "source": [
    "dfn2_vect_newgeo_probempi_summary = dfn2_vect_newgeo_probempi.groupby(['MPI_size','omp_thrd','NPT','NPX', 'NPY', 'NPZ',\"Total_proc\"]).size().reset_index(name = 'size')\n",
    "dfn2_vect_newgeo_probempi_summary"
   ]
  },
  {
   "cell_type": "markdown",
   "id": "97f84458",
   "metadata": {},
   "source": [
    "### Cases Setup"
   ]
  },
  {
   "cell_type": "code",
   "execution_count": 188,
   "id": "b82bda06",
   "metadata": {},
   "outputs": [],
   "source": [
    "dfn2VectNewgeoProb_16mpi_16omp = dfn2_vect_newgeo_probempi[(dfn2_vect_newgeo_probempi.omp_thrd == 16) & (dfn2_vect_newgeo_probempi.GLB_T/dfn2_vect_newgeo_probempi.LOC_T == 2) & (dfn2_vect_newgeo_probempi.GLB_X/dfn2_vect_newgeo_probempi.LOC_X == 2) & (dfn2_vect_newgeo_probempi.GLB_Y/dfn2_vect_newgeo_probempi.LOC_Y == 2)& (dfn2_vect_newgeo_probempi.GLB_Z/dfn2_vect_newgeo_probempi.LOC_Z == 2)]\n",
    "dfn2VectNewgeoProb_32mpi_8omp = dfn2_vect_newgeo_probempi[(dfn2_vect_newgeo_probempi.omp_thrd == 8) & (dfn2_vect_newgeo_probempi.GLB_T/dfn2_vect_newgeo_probempi.LOC_T == 4) & (dfn2_vect_newgeo_probempi.GLB_X/dfn2_vect_newgeo_probempi.LOC_X == 2) & (dfn2_vect_newgeo_probempi.GLB_Y/dfn2_vect_newgeo_probempi.LOC_Y == 2)& (dfn2_vect_newgeo_probempi.GLB_Z/dfn2_vect_newgeo_probempi.LOC_Z == 2)]\n",
    "dfn2VectNewgeoProb_64mpi_4omp = dfn2_vect_newgeo_probempi[(dfn2_vect_newgeo_probempi.omp_thrd == 4) & (dfn2_vect_newgeo_probempi.GLB_T/dfn2_vect_newgeo_probempi.LOC_T == 8) & (dfn2_vect_newgeo_probempi.GLB_X/dfn2_vect_newgeo_probempi.LOC_X == 2) & (dfn2_vect_newgeo_probempi.GLB_Y/dfn2_vect_newgeo_probempi.LOC_Y == 2)& (dfn2_vect_newgeo_probempi.GLB_Z/dfn2_vect_newgeo_probempi.LOC_Z == 2)]\n",
    "dfn2VectNewgeoProb_128mpi_2omp = dfn2_vect_newgeo_probempi[(dfn2_vect_newgeo_probempi.omp_thrd == 2) & (dfn2_vect_newgeo_probempi.GLB_T/dfn2_vect_newgeo_probempi.LOC_T == 16) & (dfn2_vect_newgeo_probempi.GLB_X/dfn2_vect_newgeo_probempi.LOC_X == 2) & (dfn2_vect_newgeo_probempi.GLB_Y/dfn2_vect_newgeo_probempi.LOC_Y == 2)& (dfn2_vect_newgeo_probempi.GLB_Z/dfn2_vect_newgeo_probempi.LOC_Z == 2)]\n",
    "dfn2VectNewgeoProb_256mpi_1omp = dfn2_vect_newgeo_probempi[(dfn2_vect_newgeo_probempi.omp_thrd == 1) & (dfn2_vect_newgeo_probempi.GLB_T/dfn2_vect_newgeo_probempi.LOC_T == 32) & (dfn2_vect_newgeo_probempi.GLB_X/dfn2_vect_newgeo_probempi.LOC_X == 2) & (dfn2_vect_newgeo_probempi.GLB_Y/dfn2_vect_newgeo_probempi.LOC_Y == 2)& (dfn2_vect_newgeo_probempi.GLB_Z/dfn2_vect_newgeo_probempi.LOC_Z == 2)]\n"
   ]
  },
  {
   "cell_type": "markdown",
   "id": "3ebbc0bf",
   "metadata": {},
   "source": [
    "## 6) Newgeo_VECT_NonProbmpi"
   ]
  },
  {
   "cell_type": "markdown",
   "id": "371615aa",
   "metadata": {},
   "source": [
    "### Adding Columns"
   ]
  },
  {
   "cell_type": "code",
   "execution_count": 189,
   "id": "edfc1032",
   "metadata": {},
   "outputs": [],
   "source": [
    "dfn2_vect_newgeo_nonprobempi[\"N_Nodes\"] = 2\n",
    "dfn2_vect_newgeo_nonprobempi['NPX'] = (dfn2_vect_newgeo_nonprobempi.GLB_X//dfn2_vect_newgeo_nonprobempi.LOC_X)\n",
    "dfn2_vect_newgeo_nonprobempi['NPY'] = (dfn2_vect_newgeo_nonprobempi.GLB_Y//dfn2_vect_newgeo_nonprobempi.LOC_Y)\n",
    "dfn2_vect_newgeo_nonprobempi['NPZ'] = (dfn2_vect_newgeo_nonprobempi.GLB_Z//dfn2_vect_newgeo_nonprobempi.LOC_Z)\n",
    "dfn2_vect_newgeo_nonprobempi['NPT'] = (dfn2_vect_newgeo_nonprobempi.GLB_T//dfn2_vect_newgeo_nonprobempi.LOC_T)\n",
    "dfn2_vect_newgeo_nonprobempi[\"Total_proc\"] = dfn2_vect_newgeo_nonprobempi[\"omp_thrd\"]* dfn2_vect_newgeo_nonprobempi.MPI_size\n",
    "# dfn2_vect_newgeo_nonprobempi.columns"
   ]
  },
  {
   "cell_type": "markdown",
   "id": "70dbe9bb",
   "metadata": {},
   "source": [
    "### Data Summary"
   ]
  },
  {
   "cell_type": "code",
   "execution_count": 190,
   "id": "b11abfad",
   "metadata": {},
   "outputs": [
    {
     "data": {
      "text/html": [
       "<div>\n",
       "<style scoped>\n",
       "    .dataframe tbody tr th:only-of-type {\n",
       "        vertical-align: middle;\n",
       "    }\n",
       "\n",
       "    .dataframe tbody tr th {\n",
       "        vertical-align: top;\n",
       "    }\n",
       "\n",
       "    .dataframe thead th {\n",
       "        text-align: right;\n",
       "    }\n",
       "</style>\n",
       "<table border=\"1\" class=\"dataframe\">\n",
       "  <thead>\n",
       "    <tr style=\"text-align: right;\">\n",
       "      <th></th>\n",
       "      <th>MPI_size</th>\n",
       "      <th>omp_thrd</th>\n",
       "      <th>NPT</th>\n",
       "      <th>NPX</th>\n",
       "      <th>NPY</th>\n",
       "      <th>NPZ</th>\n",
       "      <th>Total_proc</th>\n",
       "      <th>size</th>\n",
       "    </tr>\n",
       "  </thead>\n",
       "  <tbody>\n",
       "    <tr>\n",
       "      <th>0</th>\n",
       "      <td>16</td>\n",
       "      <td>16</td>\n",
       "      <td>2</td>\n",
       "      <td>2</td>\n",
       "      <td>2</td>\n",
       "      <td>2</td>\n",
       "      <td>256</td>\n",
       "      <td>138</td>\n",
       "    </tr>\n",
       "    <tr>\n",
       "      <th>1</th>\n",
       "      <td>32</td>\n",
       "      <td>8</td>\n",
       "      <td>4</td>\n",
       "      <td>2</td>\n",
       "      <td>2</td>\n",
       "      <td>2</td>\n",
       "      <td>256</td>\n",
       "      <td>70</td>\n",
       "    </tr>\n",
       "    <tr>\n",
       "      <th>2</th>\n",
       "      <td>64</td>\n",
       "      <td>4</td>\n",
       "      <td>8</td>\n",
       "      <td>2</td>\n",
       "      <td>2</td>\n",
       "      <td>2</td>\n",
       "      <td>256</td>\n",
       "      <td>35</td>\n",
       "    </tr>\n",
       "    <tr>\n",
       "      <th>3</th>\n",
       "      <td>128</td>\n",
       "      <td>2</td>\n",
       "      <td>16</td>\n",
       "      <td>2</td>\n",
       "      <td>2</td>\n",
       "      <td>2</td>\n",
       "      <td>256</td>\n",
       "      <td>16</td>\n",
       "    </tr>\n",
       "    <tr>\n",
       "      <th>4</th>\n",
       "      <td>248</td>\n",
       "      <td>1</td>\n",
       "      <td>31</td>\n",
       "      <td>2</td>\n",
       "      <td>2</td>\n",
       "      <td>2</td>\n",
       "      <td>248</td>\n",
       "      <td>4</td>\n",
       "    </tr>\n",
       "    <tr>\n",
       "      <th>5</th>\n",
       "      <td>256</td>\n",
       "      <td>1</td>\n",
       "      <td>32</td>\n",
       "      <td>2</td>\n",
       "      <td>2</td>\n",
       "      <td>2</td>\n",
       "      <td>256</td>\n",
       "      <td>7</td>\n",
       "    </tr>\n",
       "  </tbody>\n",
       "</table>\n",
       "</div>"
      ],
      "text/plain": [
       "   MPI_size  omp_thrd  NPT  NPX  NPY  NPZ  Total_proc  size\n",
       "0        16        16    2    2    2    2         256   138\n",
       "1        32         8    4    2    2    2         256    70\n",
       "2        64         4    8    2    2    2         256    35\n",
       "3       128         2   16    2    2    2         256    16\n",
       "4       248         1   31    2    2    2         248     4\n",
       "5       256         1   32    2    2    2         256     7"
      ]
     },
     "execution_count": 190,
     "metadata": {},
     "output_type": "execute_result"
    }
   ],
   "source": [
    "dfn2_vect_newgeo_nonprobempi_summary = dfn2_vect_newgeo_nonprobempi.groupby(['MPI_size','omp_thrd','NPT','NPX', 'NPY', 'NPZ',\"Total_proc\"]).size().reset_index(name = 'size')\n",
    "dfn2_vect_newgeo_nonprobempi_summary"
   ]
  },
  {
   "cell_type": "markdown",
   "id": "109958c0",
   "metadata": {},
   "source": [
    "### Cases Setup"
   ]
  },
  {
   "cell_type": "code",
   "execution_count": 191,
   "id": "9c787be4",
   "metadata": {},
   "outputs": [],
   "source": [
    "dfn2VectNewgeoNonProb_16mpi_16omp = dfn2_vect_newgeo_nonprobempi[(dfn2_vect_newgeo_nonprobempi.omp_thrd == 16) & (dfn2_vect_newgeo_nonprobempi.GLB_T/dfn2_vect_newgeo_nonprobempi.LOC_T == 2) & (dfn2_vect_newgeo_nonprobempi.GLB_X/dfn2_vect_newgeo_nonprobempi.LOC_X == 2) & (dfn2_vect_newgeo_nonprobempi.GLB_Y/dfn2_vect_newgeo_nonprobempi.LOC_Y == 2)& (dfn2_vect_newgeo_nonprobempi.GLB_Z/dfn2_vect_newgeo_nonprobempi.LOC_Z == 2)]\n",
    "dfn2VectNewgeoNonProb_32mpi_8omp = dfn2_vect_newgeo_nonprobempi[(dfn2_vect_newgeo_nonprobempi.omp_thrd == 8) & (dfn2_vect_newgeo_nonprobempi.GLB_T/dfn2_vect_newgeo_nonprobempi.LOC_T == 4) & (dfn2_vect_newgeo_nonprobempi.GLB_X/dfn2_vect_newgeo_nonprobempi.LOC_X == 2) & (dfn2_vect_newgeo_nonprobempi.GLB_Y/dfn2_vect_newgeo_nonprobempi.LOC_Y == 2)& (dfn2_vect_newgeo_nonprobempi.GLB_Z/dfn2_vect_newgeo_nonprobempi.LOC_Z == 2)]\n",
    "dfn2VectNewgeoNonProb_64mpi_4omp = dfn2_vect_newgeo_nonprobempi[(dfn2_vect_newgeo_nonprobempi.omp_thrd == 4) & (dfn2_vect_newgeo_nonprobempi.GLB_T/dfn2_vect_newgeo_nonprobempi.LOC_T == 8) & (dfn2_vect_newgeo_nonprobempi.GLB_X/dfn2_vect_newgeo_nonprobempi.LOC_X == 2) & (dfn2_vect_newgeo_nonprobempi.GLB_Y/dfn2_vect_newgeo_nonprobempi.LOC_Y == 2)& (dfn2_vect_newgeo_nonprobempi.GLB_Z/dfn2_vect_newgeo_nonprobempi.LOC_Z == 2)]\n",
    "dfn2VectNewgeoNonProb_128mpi_2omp = dfn2_vect_newgeo_nonprobempi[(dfn2_vect_newgeo_nonprobempi.omp_thrd == 2) & (dfn2_vect_newgeo_nonprobempi.GLB_T/dfn2_vect_newgeo_nonprobempi.LOC_T == 16) & (dfn2_vect_newgeo_nonprobempi.GLB_X/dfn2_vect_newgeo_nonprobempi.LOC_X == 2) & (dfn2_vect_newgeo_nonprobempi.GLB_Y/dfn2_vect_newgeo_nonprobempi.LOC_Y == 2)& (dfn2_vect_newgeo_nonprobempi.GLB_Z/dfn2_vect_newgeo_nonprobempi.LOC_Z == 2)]\n",
    "dfn2VectNewgeoNonProb_256mpi_1omp = dfn2_vect_newgeo_nonprobempi[(dfn2_vect_newgeo_nonprobempi.omp_thrd == 1) & (dfn2_vect_newgeo_nonprobempi.GLB_T/dfn2_vect_newgeo_nonprobempi.LOC_T == 32) & (dfn2_vect_newgeo_nonprobempi.GLB_X/dfn2_vect_newgeo_nonprobempi.LOC_X == 2) & (dfn2_vect_newgeo_nonprobempi.GLB_Y/dfn2_vect_newgeo_nonprobempi.LOC_Y == 2)& (dfn2_vect_newgeo_nonprobempi.GLB_Z/dfn2_vect_newgeo_nonprobempi.LOC_Z == 2)]\n"
   ]
  },
  {
   "cell_type": "markdown",
   "id": "3ec58ff1",
   "metadata": {},
   "source": [
    "## GFLOPS - Newgeo VECT: Probempi vs NonProbempi"
   ]
  },
  {
   "cell_type": "code",
   "execution_count": 192,
   "id": "156b01dc",
   "metadata": {},
   "outputs": [
    {
     "data": {
      "application/vnd.plotly.v1+json": {
       "config": {
        "plotlyServerURL": "https://plot.ly"
       },
       "data": [
        {
         "line": {
          "color": "magenta",
          "width": 3
         },
         "marker": {
          "line": {
           "color": "yellow",
           "width": 1
          },
          "size": 9,
          "symbol": "hexagon"
         },
         "mode": "lines+markers",
         "name": "VectNewgeoNonProb_256mpi_1omp",
         "type": "scatter",
         "x": [
          1572864000,
          1966080000,
          2359296000,
          2752512000,
          3145728000,
          3538944000,
          3932160000
         ],
         "y": [
          189.152,
          164.86528,
          141.73824,
          136.92672,
          130.5472,
          128.69248,
          124.914048
         ]
        },
        {
         "line": {
          "color": "olive",
          "width": 3
         },
         "marker": {
          "line": {
           "color": "yellow",
           "width": 1
          },
          "size": 9,
          "symbol": "hexagon"
         },
         "mode": "lines+markers",
         "name": "VectNewgeoProb_256mpi_1omp",
         "type": "scatter",
         "x": [
          1572864000,
          1966080000,
          2359296000,
          2752512000,
          3145728000,
          3538944000,
          3932160000
         ],
         "y": [
          188.67072,
          161.86496,
          148.08192,
          140.67968,
          132.7936,
          126.586752,
          125.607168
         ]
        },
        {
         "line": {
          "color": "sandybrown",
          "width": 3
         },
         "marker": {
          "line": {
           "color": "MediumPurple",
           "width": 2
          },
          "size": 5,
          "symbol": "diamond"
         },
         "mode": "lines+markers",
         "name": "VectNewgeoNonProb_128mpi_2omp",
         "type": "scatter",
         "x": [
          786432000,
          983040000,
          1179648000,
          1376256000,
          1572864000,
          1769472000,
          1966080000,
          2162688000,
          2359296000,
          2555904000,
          3145728000,
          2949120000,
          3342336000,
          3538944000,
          3735552000,
          3932160000
         ],
         "y": [
          228.41088,
          239.1648,
          236.72,
          218.82944,
          218.52096,
          190.0448,
          175.2032,
          174.06208,
          164.57216,
          158.69568,
          143.33952,
          138.08576,
          138.4096,
          132.11904,
          131.75168,
          122.3968
         ]
        },
        {
         "line": {
          "color": "royalblue",
          "width": 3
         },
         "marker": {
          "line": {
           "color": "MediumPurple",
           "width": 2
          },
          "size": 5,
          "symbol": "diamond"
         },
         "mode": "lines+markers",
         "name": "VectNewgeoProb_128mpi_2omp",
         "type": "scatter",
         "x": [
          786432000,
          983040000,
          1179648000,
          1376256000,
          1572864000,
          1769472000,
          1966080000,
          2162688000,
          2359296000,
          2555904000,
          2752512000,
          2949120000,
          3145728000,
          3342336000,
          3538944000,
          3735552000,
          3932160000
         ],
         "y": [
          241.04256,
          234.1856,
          240.176,
          222.17472,
          213.7856,
          189.15776,
          174.76096,
          170.46656,
          162.65792,
          158.15552,
          149.22368,
          144.0288,
          130.1632,
          142.1888,
          132.88704,
          133.27744,
          126.0192
         ]
        },
        {
         "line": {
          "color": "cyan",
          "width": 3
         },
         "marker": {
          "line": {
           "color": "Purple",
           "width": 2
          },
          "size": 7,
          "symbol": "circle"
         },
         "mode": "lines+markers",
         "name": "VectNewgeoNonProb_64mpi_4omp",
         "type": "scatter",
         "x": [
          589824000,
          786432000,
          688128000,
          884736000,
          983040000,
          1081344000,
          1179648000,
          1277952000,
          1376256000,
          1474560000,
          1671168000,
          1572864000,
          1769472000,
          1867776000,
          1966080000,
          2064384000,
          2162688000,
          2359296000,
          2260992000,
          2457600000,
          2555904000,
          2654208000,
          2752512000,
          2850816000,
          2949120000,
          3047424000,
          3145728000,
          3244032000,
          3342336000,
          3440640000,
          3538944000,
          3637248000,
          3735552000,
          3833856000,
          3932160000
         ],
         "y": [
          202.80192,
          225.63584,
          210.15648,
          226.632,
          231.30304,
          234.1104,
          239.41728,
          233.28736,
          223.56032,
          219.6,
          205.18976,
          219.51936,
          195.86272,
          188.0256,
          187.67072,
          175.03584,
          166.8576,
          167.35072,
          170.03104,
          157.68256,
          152.53824,
          146.05728,
          152.41824,
          150.84064,
          138.06336,
          142.27136,
          134.89984,
          135.1952,
          133.65568,
          137.54144,
          134.20864,
          128.67232,
          127.61024,
          126.7328,
          128.38752
         ]
        },
        {
         "line": {
          "color": "darkblue",
          "width": 3
         },
         "marker": {
          "line": {
           "color": "tomato",
           "width": 2
          },
          "size": 7,
          "symbol": "circle"
         },
         "mode": "lines+markers",
         "name": "VectNewgeoProb_64mpi_4omp",
         "type": "scatter",
         "x": [
          589824000,
          688128000,
          786432000,
          884736000,
          983040000,
          1081344000,
          1179648000,
          1277952000,
          1376256000,
          1474560000,
          1572864000,
          1671168000,
          1769472000,
          1867776000,
          1966080000,
          2064384000,
          2162688000,
          2260992000,
          2359296000,
          2457600000,
          2555904000,
          2654208000,
          2752512000,
          2850816000,
          2949120000,
          3047424000,
          3145728000,
          3244032000,
          3342336000,
          3440640000,
          3637248000,
          3735552000,
          3932160000,
          3833856000
         ],
         "y": [
          219.01024,
          225.8608,
          231.1632,
          231.05248,
          213.1376,
          239.33888,
          232.66272,
          241.84544,
          232.59104,
          219.32768,
          206.84704,
          204.23488,
          193.69344,
          195.00288,
          186.86528,
          170.66848,
          171.7216,
          173.1472,
          165.11648,
          165.0384,
          147.34624,
          151.36576,
          150.0112,
          152.4976,
          146.73664,
          144.80416,
          143.67008,
          139.31072,
          136.7696,
          142.17376,
          139.61024,
          128.89888,
          126.42816,
          126.50752
         ]
        },
        {
         "line": {
          "color": "red",
          "width": 3
         },
         "marker": {
          "line": {
           "color": "red",
           "width": 2
          },
          "size": 5,
          "symbol": "circle"
         },
         "mode": "lines+markers",
         "name": "VectNewgeoNonProb_32mpi_8omp",
         "type": "scatter",
         "x": [
          540672000,
          589824000,
          638976000,
          688128000,
          737280000,
          786432000,
          835584000,
          884736000,
          933888000,
          983040000,
          1032192000,
          1081344000,
          1130496000,
          1179648000,
          1228800000,
          1327104000,
          1277952000,
          1376256000,
          1425408000,
          1523712000,
          1474560000,
          1572864000,
          1622016000,
          1720320000,
          1671168000,
          1769472000,
          1818624000,
          1867776000,
          1916928000,
          1966080000,
          2015232000,
          2064384000,
          2113536000,
          2162688000,
          2211840000,
          2260992000,
          2310144000,
          2359296000,
          2408448000,
          2457600000,
          2506752000,
          2555904000,
          2605056000,
          2703360000,
          2654208000,
          2752512000,
          2801664000,
          2899968000,
          2949120000,
          2850816000,
          2998272000,
          3047424000,
          3096576000,
          3145728000,
          3194880000,
          3244032000,
          3293184000,
          3342336000,
          3391488000,
          3440640000,
          3489792000,
          3538944000,
          3588096000,
          3686400000,
          3637248000,
          3735552000,
          3784704000,
          3833856000,
          3883008000,
          3932160000
         ],
         "y": [
          184.688,
          190.9184,
          187.6832,
          197.0976,
          196.16,
          203.2608,
          204.9104,
          209.3728,
          212.9472,
          202.7792,
          216.1472,
          206.5024,
          209.0944,
          218.5904,
          200.8448,
          213.0128,
          216.864,
          201.5376,
          214.304,
          202.9312,
          186.7408,
          206.2928,
          193.4176,
          190.84,
          189.2416,
          191.76,
          177.32,
          179.6848,
          173.8448,
          176.9264,
          170.8528,
          165.8912,
          165.3968,
          165.28,
          160.0928,
          159.43728,
          156.54544,
          158.22288,
          155.132,
          150.86416,
          145.43712,
          151.02624,
          145.3936,
          143.62752,
          143.61232,
          141.64672,
          139.18496,
          139.6056,
          134.83376,
          139.81056,
          138.86832,
          131.30864,
          128.97952,
          130.16848,
          134.34144,
          127.17744,
          132.60784,
          128.91456,
          119.63936,
          122.03264,
          127.35232,
          125.81984,
          126.75264,
          121.51984,
          120.28352,
          123.30144,
          123.7808,
          118.50688,
          122.1152,
          115.47408
         ]
        },
        {
         "line": {
          "color": "green",
          "width": 3
         },
         "marker": {
          "line": {
           "color": "green",
           "width": 2
          },
          "size": 5,
          "symbol": "circle"
         },
         "mode": "lines+markers",
         "name": "VectNewgeoProb_32mpi_8omp",
         "type": "scatter",
         "x": [
          540672000,
          589824000,
          688128000,
          638976000,
          737280000,
          786432000,
          835584000,
          884736000,
          933888000,
          983040000,
          1032192000,
          1081344000,
          1130496000,
          1179648000,
          1228800000,
          1277952000,
          1376256000,
          1425408000,
          1327104000,
          1474560000,
          1572864000,
          1622016000,
          1523712000,
          1671168000,
          1720320000,
          1769472000,
          1818624000,
          1867776000,
          1916928000,
          1966080000,
          2015232000,
          2064384000,
          2113536000,
          2162688000,
          2211840000,
          2260992000,
          2310144000,
          2359296000,
          2408448000,
          2457600000,
          2506752000,
          2555904000,
          2605056000,
          2654208000,
          2703360000,
          2752512000,
          2850816000,
          2801664000,
          2899968000,
          2949120000,
          2998272000,
          3047424000,
          3096576000,
          3145728000,
          3194880000,
          3244032000,
          3293184000,
          3342336000,
          3391488000,
          3440640000,
          3489792000,
          3538944000,
          3588096000,
          3637248000,
          3686400000,
          3735552000,
          3784704000,
          3883008000,
          3833856000,
          3932160000
         ],
         "y": [
          188.3952,
          186.864,
          199.3872,
          196.3296,
          194.8304,
          203.6016,
          209.7712,
          210.9728,
          216.496,
          217.7696,
          214.9984,
          221.2848,
          222.84,
          222.7808,
          221.4928,
          219.704,
          222.4,
          218.456,
          210.112,
          208.5184,
          205.5184,
          200.0592,
          212.0096,
          196.3968,
          201.12,
          191.5584,
          193.5056,
          179.2576,
          175.6832,
          179.5312,
          178.216,
          168.128,
          172.1632,
          167.3248,
          161.608,
          161.2592,
          163.5536,
          158.47808,
          156.5792,
          153.89776,
          150.84432,
          152.94384,
          149.3904,
          145.572,
          151.62432,
          147.61344,
          140.69872,
          142.31072,
          147.8704,
          142.892,
          144.34064,
          135.48192,
          134.132,
          138.28816,
          140.34624,
          134.31808,
          134.91808,
          133.60448,
          129.31632,
          127.51008,
          135.3824,
          126.08512,
          134.48896,
          128.58992,
          127.3696,
          127.62576,
          127.9224,
          124.95888,
          125.1064,
          125.25648
         ]
        },
        {
         "line": {
          "color": "blue",
          "width": 3
         },
         "marker": {
          "line": {
           "color": "chocolate",
           "width": 2
          },
          "size": 4,
          "symbol": "triangle-up"
         },
         "mode": "lines+markers",
         "name": "VectNewgeoNonProb_16mpi_16omp",
         "type": "scatter",
         "x": [
          516096000,
          540672000,
          565248000,
          589824000,
          638976000,
          614400000,
          663552000,
          688128000,
          737280000,
          712704000,
          761856000,
          786432000,
          811008000,
          835584000,
          860160000,
          884736000,
          909312000,
          933888000,
          958464000,
          983040000,
          1007616000,
          1032192000,
          1056768000,
          1081344000,
          1105920000,
          1130496000,
          1155072000,
          1179648000,
          1204224000,
          1228800000,
          1253376000,
          1277952000,
          1302528000,
          1327104000,
          1351680000,
          1376256000,
          1400832000,
          1425408000,
          1449984000,
          1499136000,
          1474560000,
          1523712000,
          1548288000,
          1572864000,
          1597440000,
          1622016000,
          1646592000,
          1671168000,
          1695744000,
          1720320000,
          1744896000,
          1769472000,
          1794048000,
          1818624000,
          1843200000,
          1867776000,
          1892352000,
          1916928000,
          1941504000,
          1966080000,
          1990656000,
          2015232000,
          2039808000,
          2064384000,
          2113536000,
          2088960000,
          2138112000,
          2162688000,
          2187264000,
          2211840000,
          2236416000,
          2260992000,
          2285568000,
          2310144000,
          2359296000,
          2334720000,
          2383872000,
          2408448000,
          2433024000,
          2457600000,
          2482176000,
          2506752000,
          2531328000,
          2555904000,
          2580480000,
          2605056000,
          2629632000,
          2654208000,
          2703360000,
          2727936000,
          2752512000,
          2777088000,
          2801664000,
          2826240000,
          2850816000,
          2875392000,
          2899968000,
          2924544000,
          2949120000,
          2973696000,
          2998272000,
          3022848000,
          3047424000,
          3072000000,
          3096576000,
          3121152000,
          3145728000,
          3170304000,
          3194880000,
          3219456000,
          3244032000,
          3268608000,
          3293184000,
          3317760000,
          3342336000,
          3366912000,
          3391488000,
          3416064000,
          3440640000,
          3465216000,
          3489792000,
          3514368000,
          3538944000,
          3563520000,
          3588096000,
          3612672000,
          3637248000,
          3661824000,
          3686400000,
          3710976000,
          3735552000,
          3784704000,
          3760128000,
          3809280000,
          3833856000,
          3858432000,
          3883008000,
          3907584000
         ],
         "y": [
          158.3272,
          138.9568,
          162.7264,
          162.8144,
          160.9768,
          148.616,
          158.5616,
          163.9376,
          164.1272,
          167.0872,
          171.0376,
          149.8048,
          168.7464,
          166.3568,
          168.2064,
          174.7192,
          170.792,
          173.6784,
          173.9624,
          168.8384,
          179.4608,
          175.928,
          175.3024,
          182.196,
          172.632,
          181.6272,
          177.1264,
          174.4144,
          172.3064,
          175.2584,
          174.8224,
          176.2416,
          168.1296,
          167.284,
          158.5808,
          173.46,
          164.1016,
          165.7504,
          154.336,
          159.4136,
          150.136,
          154.7248,
          156.972,
          161.956,
          155.0232,
          153.4248,
          138.9408,
          157.6896,
          136.8792,
          153.3888,
          146.98,
          155.06,
          147.5904,
          132.7728,
          149.9952,
          146.0536,
          142.992,
          144.2936,
          144.4016,
          146.788,
          139.5368,
          138.3872,
          140.68,
          141.8656,
          132.6192,
          138.4664,
          136.3944,
          139.2256,
          137.576,
          132.688,
          139.6064,
          133.16,
          132.22,
          130.8928,
          137.892,
          132.944,
          128.0256,
          130.788,
          127.4824,
          123.1768,
          127.8104,
          112.9088,
          130.4784,
          117.7376,
          127.536,
          124.0344,
          126.9408,
          128.1488,
          117.292,
          117.7408,
          117.1536,
          124.936,
          120.668,
          121.4792,
          123.7544,
          118.164,
          119.604,
          118.8056,
          123.4728,
          117.792,
          115.2512,
          105.8064,
          116.4584,
          115.9048,
          114.8088,
          116.3728,
          116.9712,
          113.5168,
          112.8784,
          115.2024,
          116.5568,
          116.3576,
          110.1536,
          109.408,
          115.04,
          115.1984,
          111.3104,
          112.604,
          113.4288,
          111.8976,
          109.9488,
          114.5312,
          103.576,
          115.0144,
          109.9544,
          108.0808,
          111.6144,
          110.2288,
          105.964,
          113.132,
          107.916,
          104.2232,
          108.304,
          110.8672,
          110.7,
          111.7464,
          103.8448,
          102.2056
         ]
        },
        {
         "line": {
          "color": "darkviolet",
          "width": 3
         },
         "marker": {
          "line": {
           "color": "crimson",
           "width": 2
          },
          "size": 4,
          "symbol": "triangle-up"
         },
         "mode": "lines+markers",
         "name": "VectNewgeoProb_16mpi_16omp",
         "type": "scatter",
         "x": [
          516096000,
          540672000,
          565248000,
          589824000,
          614400000,
          663552000,
          638976000,
          688128000,
          712704000,
          737280000,
          786432000,
          811008000,
          761856000,
          835584000,
          860160000,
          884736000,
          909312000,
          933888000,
          958464000,
          983040000,
          1007616000,
          1032192000,
          1056768000,
          1081344000,
          1105920000,
          1130496000,
          1155072000,
          1179648000,
          1204224000,
          1228800000,
          1253376000,
          1277952000,
          1302528000,
          1327104000,
          1351680000,
          1376256000,
          1400832000,
          1425408000,
          1449984000,
          1474560000,
          1499136000,
          1523712000,
          1548288000,
          1572864000,
          1597440000,
          1622016000,
          1646592000,
          1671168000,
          1695744000,
          1744896000,
          1769472000,
          1720320000,
          1794048000,
          1818624000,
          1843200000,
          1867776000,
          1892352000,
          1916928000,
          1941504000,
          1966080000,
          1990656000,
          2015232000,
          2039808000,
          2064384000,
          2088960000,
          2113536000,
          2138112000,
          2162688000,
          2211840000,
          2187264000,
          2236416000,
          2260992000,
          2285568000,
          2334720000,
          2310144000,
          2383872000,
          2359296000,
          2408448000,
          2433024000,
          2457600000,
          2506752000,
          2482176000,
          2531328000,
          2555904000,
          2605056000,
          2580480000,
          2629632000,
          2654208000,
          2678784000,
          2703360000,
          2727936000,
          2752512000,
          2777088000,
          2801664000,
          2850816000,
          2826240000,
          2875392000,
          2899968000,
          2924544000,
          2949120000,
          2973696000,
          2998272000,
          3022848000,
          3047424000,
          3072000000,
          3096576000,
          3121152000,
          3145728000,
          3170304000,
          3194880000,
          3219456000,
          3244032000,
          3268608000,
          3293184000,
          3317760000,
          3342336000,
          3366912000,
          3391488000,
          3416064000,
          3440640000,
          3465216000,
          3489792000,
          3514368000,
          3538944000,
          3563520000,
          3588096000,
          3612672000,
          3637248000,
          3661824000,
          3686400000,
          3710976000,
          3735552000,
          3760128000,
          3784704000,
          3809280000,
          3833856000,
          3858432000,
          3883008000,
          3907584000,
          3932160000
         ],
         "y": [
          160.8192,
          163.3448,
          160.204,
          162.5832,
          162.68,
          162.6936,
          163.8392,
          151.6184,
          164.792,
          165.204,
          171.4984,
          170.284,
          173.3512,
          170.5488,
          175.1112,
          179.7312,
          175.6144,
          174.8016,
          173.0728,
          174.6856,
          181.02,
          173.0296,
          179.5152,
          177.1496,
          173.8272,
          177.3056,
          174.0368,
          177.9056,
          167.8752,
          169.5096,
          170.796,
          169.9368,
          174.7744,
          167.7152,
          167.3584,
          165.6376,
          162.628,
          165.6632,
          164.1368,
          160.8072,
          164.7192,
          159.7824,
          157.8416,
          154.2968,
          156.608,
          151.3632,
          153.5368,
          153.9024,
          149.4208,
          150.5008,
          150.7888,
          147.5328,
          150.7744,
          146.1984,
          143.2424,
          143.076,
          145.2888,
          138.7624,
          143.2728,
          140.9296,
          138.1912,
          126.904,
          140.6944,
          137.9176,
          142.1048,
          135.9224,
          135.8784,
          136.332,
          131.7304,
          142.1184,
          139.4552,
          127.1336,
          133.0704,
          138.6544,
          130.0952,
          133.808,
          129.9712,
          127.524,
          125.736,
          125,
          121.6328,
          130.8928,
          130.736,
          131.3136,
          126.7872,
          120.168,
          129.9464,
          121.16,
          128.9464,
          123.184,
          123.704,
          118.0616,
          127.9304,
          122.9256,
          123.9608,
          122.2152,
          118.6264,
          120.4736,
          126.44,
          115.4104,
          124.66,
          117.4208,
          119.436,
          120.9384,
          123.392,
          116.6024,
          119.1864,
          117.492,
          115.8984,
          116.9968,
          121.2432,
          115.3096,
          117.7984,
          113.2904,
          114.8304,
          110.8888,
          115.3968,
          114.2392,
          116.4192,
          108.1416,
          111.4464,
          109.732,
          119.74,
          112.5216,
          116.5864,
          112.9904,
          105.9768,
          114.768,
          113.408,
          111.8784,
          115.8624,
          105.7776,
          110.652,
          105.1128,
          115.212,
          104.8392,
          111.84,
          110.7296,
          108.6552,
          108.4072
         ]
        }
       ],
       "layout": {
        "annotations": [
         {
          "align": "left",
          "arrowcolor": "#636363",
          "arrowhead": 1,
          "arrowsize": 1,
          "arrowwidth": 2,
          "ax": -20,
          "ay": -30,
          "font": {
           "color": "purple",
           "family": "Sans Serif",
           "size": 12
          },
          "showarrow": false,
          "text": "LLC Size Per Node",
          "x": "512e6",
          "y": 130,
          "yanchor": "bottom"
         }
        ],
        "legend": {
         "bordercolor": "black",
         "borderwidth": 1
        },
        "shapes": [
         {
          "line": {
           "color": "green",
           "dash": "dash",
           "width": 3
          },
          "type": "line",
          "x0": 512000000,
          "x1": 512000000,
          "xref": "x",
          "y0": 0,
          "y1": 1,
          "yref": "y domain"
         }
        ],
        "template": {
         "data": {
          "bar": [
           {
            "error_x": {
             "color": "#2a3f5f"
            },
            "error_y": {
             "color": "#2a3f5f"
            },
            "marker": {
             "line": {
              "color": "#E5ECF6",
              "width": 0.5
             },
             "pattern": {
              "fillmode": "overlay",
              "size": 10,
              "solidity": 0.2
             }
            },
            "type": "bar"
           }
          ],
          "barpolar": [
           {
            "marker": {
             "line": {
              "color": "#E5ECF6",
              "width": 0.5
             },
             "pattern": {
              "fillmode": "overlay",
              "size": 10,
              "solidity": 0.2
             }
            },
            "type": "barpolar"
           }
          ],
          "carpet": [
           {
            "aaxis": {
             "endlinecolor": "#2a3f5f",
             "gridcolor": "white",
             "linecolor": "white",
             "minorgridcolor": "white",
             "startlinecolor": "#2a3f5f"
            },
            "baxis": {
             "endlinecolor": "#2a3f5f",
             "gridcolor": "white",
             "linecolor": "white",
             "minorgridcolor": "white",
             "startlinecolor": "#2a3f5f"
            },
            "type": "carpet"
           }
          ],
          "choropleth": [
           {
            "colorbar": {
             "outlinewidth": 0,
             "ticks": ""
            },
            "type": "choropleth"
           }
          ],
          "contour": [
           {
            "colorbar": {
             "outlinewidth": 0,
             "ticks": ""
            },
            "colorscale": [
             [
              0,
              "#0d0887"
             ],
             [
              0.1111111111111111,
              "#46039f"
             ],
             [
              0.2222222222222222,
              "#7201a8"
             ],
             [
              0.3333333333333333,
              "#9c179e"
             ],
             [
              0.4444444444444444,
              "#bd3786"
             ],
             [
              0.5555555555555556,
              "#d8576b"
             ],
             [
              0.6666666666666666,
              "#ed7953"
             ],
             [
              0.7777777777777778,
              "#fb9f3a"
             ],
             [
              0.8888888888888888,
              "#fdca26"
             ],
             [
              1,
              "#f0f921"
             ]
            ],
            "type": "contour"
           }
          ],
          "contourcarpet": [
           {
            "colorbar": {
             "outlinewidth": 0,
             "ticks": ""
            },
            "type": "contourcarpet"
           }
          ],
          "heatmap": [
           {
            "colorbar": {
             "outlinewidth": 0,
             "ticks": ""
            },
            "colorscale": [
             [
              0,
              "#0d0887"
             ],
             [
              0.1111111111111111,
              "#46039f"
             ],
             [
              0.2222222222222222,
              "#7201a8"
             ],
             [
              0.3333333333333333,
              "#9c179e"
             ],
             [
              0.4444444444444444,
              "#bd3786"
             ],
             [
              0.5555555555555556,
              "#d8576b"
             ],
             [
              0.6666666666666666,
              "#ed7953"
             ],
             [
              0.7777777777777778,
              "#fb9f3a"
             ],
             [
              0.8888888888888888,
              "#fdca26"
             ],
             [
              1,
              "#f0f921"
             ]
            ],
            "type": "heatmap"
           }
          ],
          "heatmapgl": [
           {
            "colorbar": {
             "outlinewidth": 0,
             "ticks": ""
            },
            "colorscale": [
             [
              0,
              "#0d0887"
             ],
             [
              0.1111111111111111,
              "#46039f"
             ],
             [
              0.2222222222222222,
              "#7201a8"
             ],
             [
              0.3333333333333333,
              "#9c179e"
             ],
             [
              0.4444444444444444,
              "#bd3786"
             ],
             [
              0.5555555555555556,
              "#d8576b"
             ],
             [
              0.6666666666666666,
              "#ed7953"
             ],
             [
              0.7777777777777778,
              "#fb9f3a"
             ],
             [
              0.8888888888888888,
              "#fdca26"
             ],
             [
              1,
              "#f0f921"
             ]
            ],
            "type": "heatmapgl"
           }
          ],
          "histogram": [
           {
            "marker": {
             "pattern": {
              "fillmode": "overlay",
              "size": 10,
              "solidity": 0.2
             }
            },
            "type": "histogram"
           }
          ],
          "histogram2d": [
           {
            "colorbar": {
             "outlinewidth": 0,
             "ticks": ""
            },
            "colorscale": [
             [
              0,
              "#0d0887"
             ],
             [
              0.1111111111111111,
              "#46039f"
             ],
             [
              0.2222222222222222,
              "#7201a8"
             ],
             [
              0.3333333333333333,
              "#9c179e"
             ],
             [
              0.4444444444444444,
              "#bd3786"
             ],
             [
              0.5555555555555556,
              "#d8576b"
             ],
             [
              0.6666666666666666,
              "#ed7953"
             ],
             [
              0.7777777777777778,
              "#fb9f3a"
             ],
             [
              0.8888888888888888,
              "#fdca26"
             ],
             [
              1,
              "#f0f921"
             ]
            ],
            "type": "histogram2d"
           }
          ],
          "histogram2dcontour": [
           {
            "colorbar": {
             "outlinewidth": 0,
             "ticks": ""
            },
            "colorscale": [
             [
              0,
              "#0d0887"
             ],
             [
              0.1111111111111111,
              "#46039f"
             ],
             [
              0.2222222222222222,
              "#7201a8"
             ],
             [
              0.3333333333333333,
              "#9c179e"
             ],
             [
              0.4444444444444444,
              "#bd3786"
             ],
             [
              0.5555555555555556,
              "#d8576b"
             ],
             [
              0.6666666666666666,
              "#ed7953"
             ],
             [
              0.7777777777777778,
              "#fb9f3a"
             ],
             [
              0.8888888888888888,
              "#fdca26"
             ],
             [
              1,
              "#f0f921"
             ]
            ],
            "type": "histogram2dcontour"
           }
          ],
          "mesh3d": [
           {
            "colorbar": {
             "outlinewidth": 0,
             "ticks": ""
            },
            "type": "mesh3d"
           }
          ],
          "parcoords": [
           {
            "line": {
             "colorbar": {
              "outlinewidth": 0,
              "ticks": ""
             }
            },
            "type": "parcoords"
           }
          ],
          "pie": [
           {
            "automargin": true,
            "type": "pie"
           }
          ],
          "scatter": [
           {
            "fillpattern": {
             "fillmode": "overlay",
             "size": 10,
             "solidity": 0.2
            },
            "type": "scatter"
           }
          ],
          "scatter3d": [
           {
            "line": {
             "colorbar": {
              "outlinewidth": 0,
              "ticks": ""
             }
            },
            "marker": {
             "colorbar": {
              "outlinewidth": 0,
              "ticks": ""
             }
            },
            "type": "scatter3d"
           }
          ],
          "scattercarpet": [
           {
            "marker": {
             "colorbar": {
              "outlinewidth": 0,
              "ticks": ""
             }
            },
            "type": "scattercarpet"
           }
          ],
          "scattergeo": [
           {
            "marker": {
             "colorbar": {
              "outlinewidth": 0,
              "ticks": ""
             }
            },
            "type": "scattergeo"
           }
          ],
          "scattergl": [
           {
            "marker": {
             "colorbar": {
              "outlinewidth": 0,
              "ticks": ""
             }
            },
            "type": "scattergl"
           }
          ],
          "scattermapbox": [
           {
            "marker": {
             "colorbar": {
              "outlinewidth": 0,
              "ticks": ""
             }
            },
            "type": "scattermapbox"
           }
          ],
          "scatterpolar": [
           {
            "marker": {
             "colorbar": {
              "outlinewidth": 0,
              "ticks": ""
             }
            },
            "type": "scatterpolar"
           }
          ],
          "scatterpolargl": [
           {
            "marker": {
             "colorbar": {
              "outlinewidth": 0,
              "ticks": ""
             }
            },
            "type": "scatterpolargl"
           }
          ],
          "scatterternary": [
           {
            "marker": {
             "colorbar": {
              "outlinewidth": 0,
              "ticks": ""
             }
            },
            "type": "scatterternary"
           }
          ],
          "surface": [
           {
            "colorbar": {
             "outlinewidth": 0,
             "ticks": ""
            },
            "colorscale": [
             [
              0,
              "#0d0887"
             ],
             [
              0.1111111111111111,
              "#46039f"
             ],
             [
              0.2222222222222222,
              "#7201a8"
             ],
             [
              0.3333333333333333,
              "#9c179e"
             ],
             [
              0.4444444444444444,
              "#bd3786"
             ],
             [
              0.5555555555555556,
              "#d8576b"
             ],
             [
              0.6666666666666666,
              "#ed7953"
             ],
             [
              0.7777777777777778,
              "#fb9f3a"
             ],
             [
              0.8888888888888888,
              "#fdca26"
             ],
             [
              1,
              "#f0f921"
             ]
            ],
            "type": "surface"
           }
          ],
          "table": [
           {
            "cells": {
             "fill": {
              "color": "#EBF0F8"
             },
             "line": {
              "color": "white"
             }
            },
            "header": {
             "fill": {
              "color": "#C8D4E3"
             },
             "line": {
              "color": "white"
             }
            },
            "type": "table"
           }
          ]
         },
         "layout": {
          "annotationdefaults": {
           "arrowcolor": "#2a3f5f",
           "arrowhead": 0,
           "arrowwidth": 1
          },
          "autotypenumbers": "strict",
          "coloraxis": {
           "colorbar": {
            "outlinewidth": 0,
            "ticks": ""
           }
          },
          "colorscale": {
           "diverging": [
            [
             0,
             "#8e0152"
            ],
            [
             0.1,
             "#c51b7d"
            ],
            [
             0.2,
             "#de77ae"
            ],
            [
             0.3,
             "#f1b6da"
            ],
            [
             0.4,
             "#fde0ef"
            ],
            [
             0.5,
             "#f7f7f7"
            ],
            [
             0.6,
             "#e6f5d0"
            ],
            [
             0.7,
             "#b8e186"
            ],
            [
             0.8,
             "#7fbc41"
            ],
            [
             0.9,
             "#4d9221"
            ],
            [
             1,
             "#276419"
            ]
           ],
           "sequential": [
            [
             0,
             "#0d0887"
            ],
            [
             0.1111111111111111,
             "#46039f"
            ],
            [
             0.2222222222222222,
             "#7201a8"
            ],
            [
             0.3333333333333333,
             "#9c179e"
            ],
            [
             0.4444444444444444,
             "#bd3786"
            ],
            [
             0.5555555555555556,
             "#d8576b"
            ],
            [
             0.6666666666666666,
             "#ed7953"
            ],
            [
             0.7777777777777778,
             "#fb9f3a"
            ],
            [
             0.8888888888888888,
             "#fdca26"
            ],
            [
             1,
             "#f0f921"
            ]
           ],
           "sequentialminus": [
            [
             0,
             "#0d0887"
            ],
            [
             0.1111111111111111,
             "#46039f"
            ],
            [
             0.2222222222222222,
             "#7201a8"
            ],
            [
             0.3333333333333333,
             "#9c179e"
            ],
            [
             0.4444444444444444,
             "#bd3786"
            ],
            [
             0.5555555555555556,
             "#d8576b"
            ],
            [
             0.6666666666666666,
             "#ed7953"
            ],
            [
             0.7777777777777778,
             "#fb9f3a"
            ],
            [
             0.8888888888888888,
             "#fdca26"
            ],
            [
             1,
             "#f0f921"
            ]
           ]
          },
          "colorway": [
           "#636efa",
           "#EF553B",
           "#00cc96",
           "#ab63fa",
           "#FFA15A",
           "#19d3f3",
           "#FF6692",
           "#B6E880",
           "#FF97FF",
           "#FECB52"
          ],
          "font": {
           "color": "#2a3f5f"
          },
          "geo": {
           "bgcolor": "white",
           "lakecolor": "white",
           "landcolor": "#E5ECF6",
           "showlakes": true,
           "showland": true,
           "subunitcolor": "white"
          },
          "hoverlabel": {
           "align": "left"
          },
          "hovermode": "closest",
          "mapbox": {
           "style": "light"
          },
          "paper_bgcolor": "white",
          "plot_bgcolor": "#E5ECF6",
          "polar": {
           "angularaxis": {
            "gridcolor": "white",
            "linecolor": "white",
            "ticks": ""
           },
           "bgcolor": "#E5ECF6",
           "radialaxis": {
            "gridcolor": "white",
            "linecolor": "white",
            "ticks": ""
           }
          },
          "scene": {
           "xaxis": {
            "backgroundcolor": "#E5ECF6",
            "gridcolor": "white",
            "gridwidth": 2,
            "linecolor": "white",
            "showbackground": true,
            "ticks": "",
            "zerolinecolor": "white"
           },
           "yaxis": {
            "backgroundcolor": "#E5ECF6",
            "gridcolor": "white",
            "gridwidth": 2,
            "linecolor": "white",
            "showbackground": true,
            "ticks": "",
            "zerolinecolor": "white"
           },
           "zaxis": {
            "backgroundcolor": "#E5ECF6",
            "gridcolor": "white",
            "gridwidth": 2,
            "linecolor": "white",
            "showbackground": true,
            "ticks": "",
            "zerolinecolor": "white"
           }
          },
          "shapedefaults": {
           "line": {
            "color": "#2a3f5f"
           }
          },
          "ternary": {
           "aaxis": {
            "gridcolor": "white",
            "linecolor": "white",
            "ticks": ""
           },
           "baxis": {
            "gridcolor": "white",
            "linecolor": "white",
            "ticks": ""
           },
           "bgcolor": "#E5ECF6",
           "caxis": {
            "gridcolor": "white",
            "linecolor": "white",
            "ticks": ""
           }
          },
          "title": {
           "x": 0.05
          },
          "xaxis": {
           "automargin": true,
           "gridcolor": "white",
           "linecolor": "white",
           "ticks": "",
           "title": {
            "standoff": 15
           },
           "zerolinecolor": "white",
           "zerolinewidth": 2
          },
          "yaxis": {
           "automargin": true,
           "gridcolor": "white",
           "linecolor": "white",
           "ticks": "",
           "title": {
            "standoff": 15
           },
           "zerolinecolor": "white",
           "zerolinewidth": 2
          }
         }
        },
        "title": {
         "text": "\"Newgeo VECT (2-Nodes): probempi vs nonprobempi\" GFlops Measurement"
        },
        "xaxis": {
         "ticks": "outside",
         "title": {
          "text": "Dirc_Data_Mov"
         }
        },
        "yaxis": {
         "ticks": "outside",
         "title": {
          "text": "GFLOPs/Node"
         }
        }
       }
      },
      "text/html": [
       "<div>                            <div id=\"622bfc87-7dac-46a9-8693-5ab4b4300f52\" class=\"plotly-graph-div\" style=\"height:525px; width:100%;\"></div>            <script type=\"text/javascript\">                require([\"plotly\"], function(Plotly) {                    window.PLOTLYENV=window.PLOTLYENV || {};                                    if (document.getElementById(\"622bfc87-7dac-46a9-8693-5ab4b4300f52\")) {                    Plotly.newPlot(                        \"622bfc87-7dac-46a9-8693-5ab4b4300f52\",                        [{\"line\":{\"color\":\"magenta\",\"width\":3},\"marker\":{\"line\":{\"color\":\"yellow\",\"width\":1},\"size\":9,\"symbol\":\"hexagon\"},\"mode\":\"lines+markers\",\"name\":\"VectNewgeoNonProb_256mpi_1omp\",\"x\":[1572864000.0,1966080000.0,2359296000.0,2752512000.0,3145728000.0,3538944000.0,3932160000.0],\"y\":[189.152,164.86528,141.73824,136.92672,130.5472,128.69248,124.914048],\"type\":\"scatter\"},{\"line\":{\"color\":\"olive\",\"width\":3},\"marker\":{\"line\":{\"color\":\"yellow\",\"width\":1},\"size\":9,\"symbol\":\"hexagon\"},\"mode\":\"lines+markers\",\"name\":\"VectNewgeoProb_256mpi_1omp\",\"x\":[1572864000.0,1966080000.0,2359296000.0,2752512000.0,3145728000.0,3538944000.0,3932160000.0],\"y\":[188.67072,161.86496,148.08192,140.67968,132.7936,126.586752,125.607168],\"type\":\"scatter\"},{\"line\":{\"color\":\"sandybrown\",\"width\":3},\"marker\":{\"line\":{\"color\":\"MediumPurple\",\"width\":2},\"size\":5,\"symbol\":\"diamond\"},\"mode\":\"lines+markers\",\"name\":\"VectNewgeoNonProb_128mpi_2omp\",\"x\":[786432000.0,983040000.0,1179648000.0,1376256000.0,1572864000.0,1769472000.0,1966080000.0,2162688000.0,2359296000.0,2555904000.0,3145728000.0,2949120000.0,3342336000.0,3538944000.0,3735552000.0,3932160000.0],\"y\":[228.41088,239.1648,236.72,218.82944,218.52096,190.0448,175.2032,174.06208,164.57216,158.69568,143.33952,138.08576,138.4096,132.11904,131.75168,122.3968],\"type\":\"scatter\"},{\"line\":{\"color\":\"royalblue\",\"width\":3},\"marker\":{\"line\":{\"color\":\"MediumPurple\",\"width\":2},\"size\":5,\"symbol\":\"diamond\"},\"mode\":\"lines+markers\",\"name\":\"VectNewgeoProb_128mpi_2omp\",\"x\":[786432000.0,983040000.0,1179648000.0,1376256000.0,1572864000.0,1769472000.0,1966080000.0,2162688000.0,2359296000.0,2555904000.0,2752512000.0,2949120000.0,3145728000.0,3342336000.0,3538944000.0,3735552000.0,3932160000.0],\"y\":[241.04256,234.1856,240.176,222.17472,213.7856,189.15776,174.76096,170.46656,162.65792,158.15552,149.22368,144.0288,130.1632,142.1888,132.88704,133.27744,126.0192],\"type\":\"scatter\"},{\"line\":{\"color\":\"cyan\",\"width\":3},\"marker\":{\"line\":{\"color\":\"Purple\",\"width\":2},\"size\":7,\"symbol\":\"circle\"},\"mode\":\"lines+markers\",\"name\":\"VectNewgeoNonProb_64mpi_4omp\",\"x\":[589824000.0,786432000.0,688128000.0,884736000.0,983040000.0,1081344000.0,1179648000.0,1277952000.0,1376256000.0,1474560000.0,1671168000.0,1572864000.0,1769472000.0,1867776000.0,1966080000.0,2064384000.0,2162688000.0,2359296000.0,2260992000.0,2457600000.0,2555904000.0,2654208000.0,2752512000.0,2850816000.0,2949120000.0,3047424000.0,3145728000.0,3244032000.0,3342336000.0,3440640000.0,3538944000.0,3637248000.0,3735552000.0,3833856000.0,3932160000.0],\"y\":[202.80192,225.63584,210.15648,226.632,231.30304,234.1104,239.41728,233.28736,223.56032,219.6,205.18976,219.51936,195.86272,188.0256,187.67072,175.03584,166.8576,167.35072,170.03104,157.68256,152.53824,146.05728,152.41824,150.84064,138.06336,142.27136,134.89984,135.1952,133.65568,137.54144,134.20864,128.67232,127.61024,126.7328,128.38752],\"type\":\"scatter\"},{\"line\":{\"color\":\"darkblue\",\"width\":3},\"marker\":{\"line\":{\"color\":\"tomato\",\"width\":2},\"size\":7,\"symbol\":\"circle\"},\"mode\":\"lines+markers\",\"name\":\"VectNewgeoProb_64mpi_4omp\",\"x\":[589824000.0,688128000.0,786432000.0,884736000.0,983040000.0,1081344000.0,1179648000.0,1277952000.0,1376256000.0,1474560000.0,1572864000.0,1671168000.0,1769472000.0,1867776000.0,1966080000.0,2064384000.0,2162688000.0,2260992000.0,2359296000.0,2457600000.0,2555904000.0,2654208000.0,2752512000.0,2850816000.0,2949120000.0,3047424000.0,3145728000.0,3244032000.0,3342336000.0,3440640000.0,3637248000.0,3735552000.0,3932160000.0,3833856000.0],\"y\":[219.01024,225.8608,231.1632,231.05248,213.1376,239.33888,232.66272,241.84544,232.59104,219.32768,206.84704,204.23488,193.69344,195.00288,186.86528,170.66848,171.7216,173.1472,165.11648,165.0384,147.34624,151.36576,150.0112,152.4976,146.73664,144.80416,143.67008,139.31072,136.7696,142.17376,139.61024,128.89888,126.42816,126.50752],\"type\":\"scatter\"},{\"line\":{\"color\":\"red\",\"width\":3},\"marker\":{\"line\":{\"color\":\"red\",\"width\":2},\"size\":5,\"symbol\":\"circle\"},\"mode\":\"lines+markers\",\"name\":\"VectNewgeoNonProb_32mpi_8omp\",\"x\":[540672000.0,589824000.0,638976000.0,688128000.0,737280000.0,786432000.0,835584000.0,884736000.0,933888000.0,983040000.0,1032192000.0,1081344000.0,1130496000.0,1179648000.0,1228800000.0,1327104000.0,1277952000.0,1376256000.0,1425408000.0,1523712000.0,1474560000.0,1572864000.0,1622016000.0,1720320000.0,1671168000.0,1769472000.0,1818624000.0,1867776000.0,1916928000.0,1966080000.0,2015232000.0,2064384000.0,2113536000.0,2162688000.0,2211840000.0,2260992000.0,2310144000.0,2359296000.0,2408448000.0,2457600000.0,2506752000.0,2555904000.0,2605056000.0,2703360000.0,2654208000.0,2752512000.0,2801664000.0,2899968000.0,2949120000.0,2850816000.0,2998272000.0,3047424000.0,3096576000.0,3145728000.0,3194880000.0,3244032000.0,3293184000.0,3342336000.0,3391488000.0,3440640000.0,3489792000.0,3538944000.0,3588096000.0,3686400000.0,3637248000.0,3735552000.0,3784704000.0,3833856000.0,3883008000.0,3932160000.0],\"y\":[184.688,190.9184,187.6832,197.0976,196.16,203.2608,204.9104,209.3728,212.9472,202.7792,216.1472,206.5024,209.0944,218.5904,200.8448,213.0128,216.864,201.5376,214.304,202.9312,186.7408,206.2928,193.4176,190.84,189.2416,191.76,177.32,179.6848,173.8448,176.9264,170.8528,165.8912,165.3968,165.28,160.0928,159.43728,156.54544,158.22288,155.132,150.86416,145.43712,151.02624,145.3936,143.62752,143.61232,141.64672,139.18496,139.6056,134.83376,139.81056,138.86832,131.30864,128.97952,130.16848,134.34144,127.17744,132.60784,128.91456,119.63936,122.03264,127.35232,125.81984,126.75264,121.51984,120.28352,123.30144,123.7808,118.50688,122.1152,115.47408],\"type\":\"scatter\"},{\"line\":{\"color\":\"green\",\"width\":3},\"marker\":{\"line\":{\"color\":\"green\",\"width\":2},\"size\":5,\"symbol\":\"circle\"},\"mode\":\"lines+markers\",\"name\":\"VectNewgeoProb_32mpi_8omp\",\"x\":[540672000.0,589824000.0,688128000.0,638976000.0,737280000.0,786432000.0,835584000.0,884736000.0,933888000.0,983040000.0,1032192000.0,1081344000.0,1130496000.0,1179648000.0,1228800000.0,1277952000.0,1376256000.0,1425408000.0,1327104000.0,1474560000.0,1572864000.0,1622016000.0,1523712000.0,1671168000.0,1720320000.0,1769472000.0,1818624000.0,1867776000.0,1916928000.0,1966080000.0,2015232000.0,2064384000.0,2113536000.0,2162688000.0,2211840000.0,2260992000.0,2310144000.0,2359296000.0,2408448000.0,2457600000.0,2506752000.0,2555904000.0,2605056000.0,2654208000.0,2703360000.0,2752512000.0,2850816000.0,2801664000.0,2899968000.0,2949120000.0,2998272000.0,3047424000.0,3096576000.0,3145728000.0,3194880000.0,3244032000.0,3293184000.0,3342336000.0,3391488000.0,3440640000.0,3489792000.0,3538944000.0,3588096000.0,3637248000.0,3686400000.0,3735552000.0,3784704000.0,3883008000.0,3833856000.0,3932160000.0],\"y\":[188.3952,186.864,199.3872,196.3296,194.8304,203.6016,209.7712,210.9728,216.496,217.7696,214.9984,221.2848,222.84,222.7808,221.4928,219.704,222.4,218.456,210.112,208.5184,205.5184,200.0592,212.0096,196.3968,201.12,191.5584,193.5056,179.2576,175.6832,179.5312,178.216,168.128,172.1632,167.3248,161.608,161.2592,163.5536,158.47808,156.5792,153.89776,150.84432,152.94384,149.3904,145.572,151.62432,147.61344,140.69872,142.31072,147.8704,142.892,144.34064,135.48192,134.132,138.28816,140.34624,134.31808,134.91808,133.60448,129.31632,127.51008,135.3824,126.08512,134.48896,128.58992,127.3696,127.62576,127.9224,124.95888,125.1064,125.25648],\"type\":\"scatter\"},{\"line\":{\"color\":\"blue\",\"width\":3},\"marker\":{\"line\":{\"color\":\"chocolate\",\"width\":2},\"size\":4,\"symbol\":\"triangle-up\"},\"mode\":\"lines+markers\",\"name\":\"VectNewgeoNonProb_16mpi_16omp\",\"x\":[516096000.0,540672000.0,565248000.0,589824000.0,638976000.0,614400000.0,663552000.0,688128000.0,737280000.0,712704000.0,761856000.0,786432000.0,811008000.0,835584000.0,860160000.0,884736000.0,909312000.0,933888000.0,958464000.0,983040000.0,1007616000.0,1032192000.0,1056768000.0,1081344000.0,1105920000.0,1130496000.0,1155072000.0,1179648000.0,1204224000.0,1228800000.0,1253376000.0,1277952000.0,1302528000.0,1327104000.0,1351680000.0,1376256000.0,1400832000.0,1425408000.0,1449984000.0,1499136000.0,1474560000.0,1523712000.0,1548288000.0,1572864000.0,1597440000.0,1622016000.0,1646592000.0,1671168000.0,1695744000.0,1720320000.0,1744896000.0,1769472000.0,1794048000.0,1818624000.0,1843200000.0,1867776000.0,1892352000.0,1916928000.0,1941504000.0,1966080000.0,1990656000.0,2015232000.0,2039808000.0,2064384000.0,2113536000.0,2088960000.0,2138112000.0,2162688000.0,2187264000.0,2211840000.0,2236416000.0,2260992000.0,2285568000.0,2310144000.0,2359296000.0,2334720000.0,2383872000.0,2408448000.0,2433024000.0,2457600000.0,2482176000.0,2506752000.0,2531328000.0,2555904000.0,2580480000.0,2605056000.0,2629632000.0,2654208000.0,2703360000.0,2727936000.0,2752512000.0,2777088000.0,2801664000.0,2826240000.0,2850816000.0,2875392000.0,2899968000.0,2924544000.0,2949120000.0,2973696000.0,2998272000.0,3022848000.0,3047424000.0,3072000000.0,3096576000.0,3121152000.0,3145728000.0,3170304000.0,3194880000.0,3219456000.0,3244032000.0,3268608000.0,3293184000.0,3317760000.0,3342336000.0,3366912000.0,3391488000.0,3416064000.0,3440640000.0,3465216000.0,3489792000.0,3514368000.0,3538944000.0,3563520000.0,3588096000.0,3612672000.0,3637248000.0,3661824000.0,3686400000.0,3710976000.0,3735552000.0,3784704000.0,3760128000.0,3809280000.0,3833856000.0,3858432000.0,3883008000.0,3907584000.0],\"y\":[158.3272,138.9568,162.7264,162.8144,160.9768,148.616,158.5616,163.9376,164.1272,167.0872,171.0376,149.8048,168.7464,166.3568,168.2064,174.7192,170.792,173.6784,173.9624,168.8384,179.4608,175.928,175.3024,182.196,172.632,181.6272,177.1264,174.4144,172.3064,175.2584,174.8224,176.2416,168.1296,167.284,158.5808,173.46,164.1016,165.7504,154.336,159.4136,150.136,154.7248,156.972,161.956,155.0232,153.4248,138.9408,157.6896,136.8792,153.3888,146.98,155.06,147.5904,132.7728,149.9952,146.0536,142.992,144.2936,144.4016,146.788,139.5368,138.3872,140.68,141.8656,132.6192,138.4664,136.3944,139.2256,137.576,132.688,139.6064,133.16,132.22,130.8928,137.892,132.944,128.0256,130.788,127.4824,123.1768,127.8104,112.9088,130.4784,117.7376,127.536,124.0344,126.9408,128.1488,117.292,117.7408,117.1536,124.936,120.668,121.4792,123.7544,118.164,119.604,118.8056,123.4728,117.792,115.2512,105.8064,116.4584,115.9048,114.8088,116.3728,116.9712,113.5168,112.8784,115.2024,116.5568,116.3576,110.1536,109.408,115.04,115.1984,111.3104,112.604,113.4288,111.8976,109.9488,114.5312,103.576,115.0144,109.9544,108.0808,111.6144,110.2288,105.964,113.132,107.916,104.2232,108.304,110.8672,110.7,111.7464,103.8448,102.2056],\"type\":\"scatter\"},{\"line\":{\"color\":\"darkviolet\",\"width\":3},\"marker\":{\"line\":{\"color\":\"crimson\",\"width\":2},\"size\":4,\"symbol\":\"triangle-up\"},\"mode\":\"lines+markers\",\"name\":\"VectNewgeoProb_16mpi_16omp\",\"x\":[516096000.0,540672000.0,565248000.0,589824000.0,614400000.0,663552000.0,638976000.0,688128000.0,712704000.0,737280000.0,786432000.0,811008000.0,761856000.0,835584000.0,860160000.0,884736000.0,909312000.0,933888000.0,958464000.0,983040000.0,1007616000.0,1032192000.0,1056768000.0,1081344000.0,1105920000.0,1130496000.0,1155072000.0,1179648000.0,1204224000.0,1228800000.0,1253376000.0,1277952000.0,1302528000.0,1327104000.0,1351680000.0,1376256000.0,1400832000.0,1425408000.0,1449984000.0,1474560000.0,1499136000.0,1523712000.0,1548288000.0,1572864000.0,1597440000.0,1622016000.0,1646592000.0,1671168000.0,1695744000.0,1744896000.0,1769472000.0,1720320000.0,1794048000.0,1818624000.0,1843200000.0,1867776000.0,1892352000.0,1916928000.0,1941504000.0,1966080000.0,1990656000.0,2015232000.0,2039808000.0,2064384000.0,2088960000.0,2113536000.0,2138112000.0,2162688000.0,2211840000.0,2187264000.0,2236416000.0,2260992000.0,2285568000.0,2334720000.0,2310144000.0,2383872000.0,2359296000.0,2408448000.0,2433024000.0,2457600000.0,2506752000.0,2482176000.0,2531328000.0,2555904000.0,2605056000.0,2580480000.0,2629632000.0,2654208000.0,2678784000.0,2703360000.0,2727936000.0,2752512000.0,2777088000.0,2801664000.0,2850816000.0,2826240000.0,2875392000.0,2899968000.0,2924544000.0,2949120000.0,2973696000.0,2998272000.0,3022848000.0,3047424000.0,3072000000.0,3096576000.0,3121152000.0,3145728000.0,3170304000.0,3194880000.0,3219456000.0,3244032000.0,3268608000.0,3293184000.0,3317760000.0,3342336000.0,3366912000.0,3391488000.0,3416064000.0,3440640000.0,3465216000.0,3489792000.0,3514368000.0,3538944000.0,3563520000.0,3588096000.0,3612672000.0,3637248000.0,3661824000.0,3686400000.0,3710976000.0,3735552000.0,3760128000.0,3784704000.0,3809280000.0,3833856000.0,3858432000.0,3883008000.0,3907584000.0,3932160000.0],\"y\":[160.8192,163.3448,160.204,162.5832,162.68,162.6936,163.8392,151.6184,164.792,165.204,171.4984,170.284,173.3512,170.5488,175.1112,179.7312,175.6144,174.8016,173.0728,174.6856,181.02,173.0296,179.5152,177.1496,173.8272,177.3056,174.0368,177.9056,167.8752,169.5096,170.796,169.9368,174.7744,167.7152,167.3584,165.6376,162.628,165.6632,164.1368,160.8072,164.7192,159.7824,157.8416,154.2968,156.608,151.3632,153.5368,153.9024,149.4208,150.5008,150.7888,147.5328,150.7744,146.1984,143.2424,143.076,145.2888,138.7624,143.2728,140.9296,138.1912,126.904,140.6944,137.9176,142.1048,135.9224,135.8784,136.332,131.7304,142.1184,139.4552,127.1336,133.0704,138.6544,130.0952,133.808,129.9712,127.524,125.736,125.0,121.6328,130.8928,130.736,131.3136,126.7872,120.168,129.9464,121.16,128.9464,123.184,123.704,118.0616,127.9304,122.9256,123.9608,122.2152,118.6264,120.4736,126.44,115.4104,124.66,117.4208,119.436,120.9384,123.392,116.6024,119.1864,117.492,115.8984,116.9968,121.2432,115.3096,117.7984,113.2904,114.8304,110.8888,115.3968,114.2392,116.4192,108.1416,111.4464,109.732,119.74,112.5216,116.5864,112.9904,105.9768,114.768,113.408,111.8784,115.8624,105.7776,110.652,105.1128,115.212,104.8392,111.84,110.7296,108.6552,108.4072],\"type\":\"scatter\"}],                        {\"template\":{\"data\":{\"histogram2dcontour\":[{\"type\":\"histogram2dcontour\",\"colorbar\":{\"outlinewidth\":0,\"ticks\":\"\"},\"colorscale\":[[0.0,\"#0d0887\"],[0.1111111111111111,\"#46039f\"],[0.2222222222222222,\"#7201a8\"],[0.3333333333333333,\"#9c179e\"],[0.4444444444444444,\"#bd3786\"],[0.5555555555555556,\"#d8576b\"],[0.6666666666666666,\"#ed7953\"],[0.7777777777777778,\"#fb9f3a\"],[0.8888888888888888,\"#fdca26\"],[1.0,\"#f0f921\"]]}],\"choropleth\":[{\"type\":\"choropleth\",\"colorbar\":{\"outlinewidth\":0,\"ticks\":\"\"}}],\"histogram2d\":[{\"type\":\"histogram2d\",\"colorbar\":{\"outlinewidth\":0,\"ticks\":\"\"},\"colorscale\":[[0.0,\"#0d0887\"],[0.1111111111111111,\"#46039f\"],[0.2222222222222222,\"#7201a8\"],[0.3333333333333333,\"#9c179e\"],[0.4444444444444444,\"#bd3786\"],[0.5555555555555556,\"#d8576b\"],[0.6666666666666666,\"#ed7953\"],[0.7777777777777778,\"#fb9f3a\"],[0.8888888888888888,\"#fdca26\"],[1.0,\"#f0f921\"]]}],\"heatmap\":[{\"type\":\"heatmap\",\"colorbar\":{\"outlinewidth\":0,\"ticks\":\"\"},\"colorscale\":[[0.0,\"#0d0887\"],[0.1111111111111111,\"#46039f\"],[0.2222222222222222,\"#7201a8\"],[0.3333333333333333,\"#9c179e\"],[0.4444444444444444,\"#bd3786\"],[0.5555555555555556,\"#d8576b\"],[0.6666666666666666,\"#ed7953\"],[0.7777777777777778,\"#fb9f3a\"],[0.8888888888888888,\"#fdca26\"],[1.0,\"#f0f921\"]]}],\"heatmapgl\":[{\"type\":\"heatmapgl\",\"colorbar\":{\"outlinewidth\":0,\"ticks\":\"\"},\"colorscale\":[[0.0,\"#0d0887\"],[0.1111111111111111,\"#46039f\"],[0.2222222222222222,\"#7201a8\"],[0.3333333333333333,\"#9c179e\"],[0.4444444444444444,\"#bd3786\"],[0.5555555555555556,\"#d8576b\"],[0.6666666666666666,\"#ed7953\"],[0.7777777777777778,\"#fb9f3a\"],[0.8888888888888888,\"#fdca26\"],[1.0,\"#f0f921\"]]}],\"contourcarpet\":[{\"type\":\"contourcarpet\",\"colorbar\":{\"outlinewidth\":0,\"ticks\":\"\"}}],\"contour\":[{\"type\":\"contour\",\"colorbar\":{\"outlinewidth\":0,\"ticks\":\"\"},\"colorscale\":[[0.0,\"#0d0887\"],[0.1111111111111111,\"#46039f\"],[0.2222222222222222,\"#7201a8\"],[0.3333333333333333,\"#9c179e\"],[0.4444444444444444,\"#bd3786\"],[0.5555555555555556,\"#d8576b\"],[0.6666666666666666,\"#ed7953\"],[0.7777777777777778,\"#fb9f3a\"],[0.8888888888888888,\"#fdca26\"],[1.0,\"#f0f921\"]]}],\"surface\":[{\"type\":\"surface\",\"colorbar\":{\"outlinewidth\":0,\"ticks\":\"\"},\"colorscale\":[[0.0,\"#0d0887\"],[0.1111111111111111,\"#46039f\"],[0.2222222222222222,\"#7201a8\"],[0.3333333333333333,\"#9c179e\"],[0.4444444444444444,\"#bd3786\"],[0.5555555555555556,\"#d8576b\"],[0.6666666666666666,\"#ed7953\"],[0.7777777777777778,\"#fb9f3a\"],[0.8888888888888888,\"#fdca26\"],[1.0,\"#f0f921\"]]}],\"mesh3d\":[{\"type\":\"mesh3d\",\"colorbar\":{\"outlinewidth\":0,\"ticks\":\"\"}}],\"scatter\":[{\"fillpattern\":{\"fillmode\":\"overlay\",\"size\":10,\"solidity\":0.2},\"type\":\"scatter\"}],\"parcoords\":[{\"type\":\"parcoords\",\"line\":{\"colorbar\":{\"outlinewidth\":0,\"ticks\":\"\"}}}],\"scatterpolargl\":[{\"type\":\"scatterpolargl\",\"marker\":{\"colorbar\":{\"outlinewidth\":0,\"ticks\":\"\"}}}],\"bar\":[{\"error_x\":{\"color\":\"#2a3f5f\"},\"error_y\":{\"color\":\"#2a3f5f\"},\"marker\":{\"line\":{\"color\":\"#E5ECF6\",\"width\":0.5},\"pattern\":{\"fillmode\":\"overlay\",\"size\":10,\"solidity\":0.2}},\"type\":\"bar\"}],\"scattergeo\":[{\"type\":\"scattergeo\",\"marker\":{\"colorbar\":{\"outlinewidth\":0,\"ticks\":\"\"}}}],\"scatterpolar\":[{\"type\":\"scatterpolar\",\"marker\":{\"colorbar\":{\"outlinewidth\":0,\"ticks\":\"\"}}}],\"histogram\":[{\"marker\":{\"pattern\":{\"fillmode\":\"overlay\",\"size\":10,\"solidity\":0.2}},\"type\":\"histogram\"}],\"scattergl\":[{\"type\":\"scattergl\",\"marker\":{\"colorbar\":{\"outlinewidth\":0,\"ticks\":\"\"}}}],\"scatter3d\":[{\"type\":\"scatter3d\",\"line\":{\"colorbar\":{\"outlinewidth\":0,\"ticks\":\"\"}},\"marker\":{\"colorbar\":{\"outlinewidth\":0,\"ticks\":\"\"}}}],\"scattermapbox\":[{\"type\":\"scattermapbox\",\"marker\":{\"colorbar\":{\"outlinewidth\":0,\"ticks\":\"\"}}}],\"scatterternary\":[{\"type\":\"scatterternary\",\"marker\":{\"colorbar\":{\"outlinewidth\":0,\"ticks\":\"\"}}}],\"scattercarpet\":[{\"type\":\"scattercarpet\",\"marker\":{\"colorbar\":{\"outlinewidth\":0,\"ticks\":\"\"}}}],\"carpet\":[{\"aaxis\":{\"endlinecolor\":\"#2a3f5f\",\"gridcolor\":\"white\",\"linecolor\":\"white\",\"minorgridcolor\":\"white\",\"startlinecolor\":\"#2a3f5f\"},\"baxis\":{\"endlinecolor\":\"#2a3f5f\",\"gridcolor\":\"white\",\"linecolor\":\"white\",\"minorgridcolor\":\"white\",\"startlinecolor\":\"#2a3f5f\"},\"type\":\"carpet\"}],\"table\":[{\"cells\":{\"fill\":{\"color\":\"#EBF0F8\"},\"line\":{\"color\":\"white\"}},\"header\":{\"fill\":{\"color\":\"#C8D4E3\"},\"line\":{\"color\":\"white\"}},\"type\":\"table\"}],\"barpolar\":[{\"marker\":{\"line\":{\"color\":\"#E5ECF6\",\"width\":0.5},\"pattern\":{\"fillmode\":\"overlay\",\"size\":10,\"solidity\":0.2}},\"type\":\"barpolar\"}],\"pie\":[{\"automargin\":true,\"type\":\"pie\"}]},\"layout\":{\"autotypenumbers\":\"strict\",\"colorway\":[\"#636efa\",\"#EF553B\",\"#00cc96\",\"#ab63fa\",\"#FFA15A\",\"#19d3f3\",\"#FF6692\",\"#B6E880\",\"#FF97FF\",\"#FECB52\"],\"font\":{\"color\":\"#2a3f5f\"},\"hovermode\":\"closest\",\"hoverlabel\":{\"align\":\"left\"},\"paper_bgcolor\":\"white\",\"plot_bgcolor\":\"#E5ECF6\",\"polar\":{\"bgcolor\":\"#E5ECF6\",\"angularaxis\":{\"gridcolor\":\"white\",\"linecolor\":\"white\",\"ticks\":\"\"},\"radialaxis\":{\"gridcolor\":\"white\",\"linecolor\":\"white\",\"ticks\":\"\"}},\"ternary\":{\"bgcolor\":\"#E5ECF6\",\"aaxis\":{\"gridcolor\":\"white\",\"linecolor\":\"white\",\"ticks\":\"\"},\"baxis\":{\"gridcolor\":\"white\",\"linecolor\":\"white\",\"ticks\":\"\"},\"caxis\":{\"gridcolor\":\"white\",\"linecolor\":\"white\",\"ticks\":\"\"}},\"coloraxis\":{\"colorbar\":{\"outlinewidth\":0,\"ticks\":\"\"}},\"colorscale\":{\"sequential\":[[0.0,\"#0d0887\"],[0.1111111111111111,\"#46039f\"],[0.2222222222222222,\"#7201a8\"],[0.3333333333333333,\"#9c179e\"],[0.4444444444444444,\"#bd3786\"],[0.5555555555555556,\"#d8576b\"],[0.6666666666666666,\"#ed7953\"],[0.7777777777777778,\"#fb9f3a\"],[0.8888888888888888,\"#fdca26\"],[1.0,\"#f0f921\"]],\"sequentialminus\":[[0.0,\"#0d0887\"],[0.1111111111111111,\"#46039f\"],[0.2222222222222222,\"#7201a8\"],[0.3333333333333333,\"#9c179e\"],[0.4444444444444444,\"#bd3786\"],[0.5555555555555556,\"#d8576b\"],[0.6666666666666666,\"#ed7953\"],[0.7777777777777778,\"#fb9f3a\"],[0.8888888888888888,\"#fdca26\"],[1.0,\"#f0f921\"]],\"diverging\":[[0,\"#8e0152\"],[0.1,\"#c51b7d\"],[0.2,\"#de77ae\"],[0.3,\"#f1b6da\"],[0.4,\"#fde0ef\"],[0.5,\"#f7f7f7\"],[0.6,\"#e6f5d0\"],[0.7,\"#b8e186\"],[0.8,\"#7fbc41\"],[0.9,\"#4d9221\"],[1,\"#276419\"]]},\"xaxis\":{\"gridcolor\":\"white\",\"linecolor\":\"white\",\"ticks\":\"\",\"title\":{\"standoff\":15},\"zerolinecolor\":\"white\",\"automargin\":true,\"zerolinewidth\":2},\"yaxis\":{\"gridcolor\":\"white\",\"linecolor\":\"white\",\"ticks\":\"\",\"title\":{\"standoff\":15},\"zerolinecolor\":\"white\",\"automargin\":true,\"zerolinewidth\":2},\"scene\":{\"xaxis\":{\"backgroundcolor\":\"#E5ECF6\",\"gridcolor\":\"white\",\"linecolor\":\"white\",\"showbackground\":true,\"ticks\":\"\",\"zerolinecolor\":\"white\",\"gridwidth\":2},\"yaxis\":{\"backgroundcolor\":\"#E5ECF6\",\"gridcolor\":\"white\",\"linecolor\":\"white\",\"showbackground\":true,\"ticks\":\"\",\"zerolinecolor\":\"white\",\"gridwidth\":2},\"zaxis\":{\"backgroundcolor\":\"#E5ECF6\",\"gridcolor\":\"white\",\"linecolor\":\"white\",\"showbackground\":true,\"ticks\":\"\",\"zerolinecolor\":\"white\",\"gridwidth\":2}},\"shapedefaults\":{\"line\":{\"color\":\"#2a3f5f\"}},\"annotationdefaults\":{\"arrowcolor\":\"#2a3f5f\",\"arrowhead\":0,\"arrowwidth\":1},\"geo\":{\"bgcolor\":\"white\",\"landcolor\":\"#E5ECF6\",\"subunitcolor\":\"white\",\"showland\":true,\"showlakes\":true,\"lakecolor\":\"white\"},\"title\":{\"x\":0.05},\"mapbox\":{\"style\":\"light\"}}},\"shapes\":[{\"line\":{\"color\":\"green\",\"dash\":\"dash\",\"width\":3},\"type\":\"line\",\"x0\":512000000.0,\"x1\":512000000.0,\"xref\":\"x\",\"y0\":0,\"y1\":1,\"yref\":\"y domain\"}],\"annotations\":[{\"align\":\"left\",\"arrowcolor\":\"#636363\",\"arrowhead\":1,\"arrowsize\":1,\"arrowwidth\":2,\"ax\":-20,\"ay\":-30,\"font\":{\"color\":\"purple\",\"family\":\"Sans Serif\",\"size\":12},\"showarrow\":false,\"text\":\"LLC Size Per Node\",\"x\":\"512e6\",\"y\":130,\"yanchor\":\"bottom\"}],\"xaxis\":{\"title\":{\"text\":\"Dirc_Data_Mov\"},\"ticks\":\"outside\"},\"yaxis\":{\"title\":{\"text\":\"GFLOPs/Node\"},\"ticks\":\"outside\"},\"title\":{\"text\":\"\\\"Newgeo VECT (2-Nodes): probempi vs nonprobempi\\\" GFlops Measurement\"},\"legend\":{\"bordercolor\":\"black\",\"borderwidth\":1}},                        {\"responsive\": true}                    ).then(function(){\n",
       "                            \n",
       "var gd = document.getElementById('622bfc87-7dac-46a9-8693-5ab4b4300f52');\n",
       "var x = new MutationObserver(function (mutations, observer) {{\n",
       "        var display = window.getComputedStyle(gd).display;\n",
       "        if (!display || display === 'none') {{\n",
       "            console.log([gd, 'removed!']);\n",
       "            Plotly.purge(gd);\n",
       "            observer.disconnect();\n",
       "        }}\n",
       "}});\n",
       "\n",
       "// Listen for the removal of the full notebook cells\n",
       "var notebookContainer = gd.closest('#notebook-container');\n",
       "if (notebookContainer) {{\n",
       "    x.observe(notebookContainer, {childList: true});\n",
       "}}\n",
       "\n",
       "// Listen for the clearing of the current output cell\n",
       "var outputEl = gd.closest('.output');\n",
       "if (outputEl) {{\n",
       "    x.observe(outputEl, {childList: true});\n",
       "}}\n",
       "\n",
       "                        })                };                });            </script>        </div>"
      ]
     },
     "metadata": {},
     "output_type": "display_data"
    }
   ],
   "source": [
    "fig = go.Figure() \n",
    "\n",
    "fig.add_trace(go.Scatter(x=(dfn2VectNewgeoNonProb_256mpi_1omp.Dirc_Data_Mov*(dfn2VectNewgeoNonProb_256mpi_1omp.MPI_size/2)), \n",
    "                         y=(dfn2VectNewgeoNonProb_256mpi_1omp.GFLOPS*(dfn2VectNewgeoNonProb_256mpi_1omp.MPI_size/2)), \n",
    "                         mode='lines+markers', \n",
    "                         name='VectNewgeoNonProb_256mpi_1omp',\n",
    "                         line=dict(color='magenta',width=3),\n",
    "                         marker=dict(symbol='hexagon',size=9, line=dict(color='yellow',width=1))))\n",
    "\n",
    "\n",
    "fig.add_trace(go.Scatter(x=(dfn2VectNewgeoProb_256mpi_1omp.Dirc_Data_Mov*(dfn2VectNewgeoProb_256mpi_1omp.MPI_size/2)), \n",
    "                         y=(dfn2VectNewgeoProb_256mpi_1omp.GFLOPS*(dfn2VectNewgeoProb_256mpi_1omp.MPI_size/2)), \n",
    "                         mode='lines+markers', \n",
    "                         name='VectNewgeoProb_256mpi_1omp',\n",
    "                         line=dict(color='olive',width=3),\n",
    "                         marker=dict(symbol='hexagon',size=9, line=dict(color='yellow',width=1))))\n",
    "\n",
    "# case 2\n",
    "fig.add_trace(go.Scatter(x=(dfn2VectNewgeoNonProb_128mpi_2omp.Dirc_Data_Mov*(dfn2VectNewgeoNonProb_128mpi_2omp.MPI_size/2)), \n",
    "                         y=(dfn2VectNewgeoNonProb_128mpi_2omp.GFLOPS*(dfn2VectNewgeoNonProb_128mpi_2omp.MPI_size/2)), \n",
    "                         mode='lines+markers', \n",
    "                         name='VectNewgeoNonProb_128mpi_2omp',\n",
    "                         line=dict(color='sandybrown',width=3),\n",
    "                         marker=dict(symbol='diamond',size=5,line=dict(color='MediumPurple',width=2))))\n",
    "\n",
    "fig.add_trace(go.Scatter(x=(dfn2VectNewgeoProb_128mpi_2omp.Dirc_Data_Mov*(dfn2VectNewgeoProb_128mpi_2omp.MPI_size/2)), \n",
    "                         y=(dfn2VectNewgeoProb_128mpi_2omp.GFLOPS*(dfn2VectNewgeoProb_128mpi_2omp.MPI_size/2)), \n",
    "                         mode='lines+markers', \n",
    "                         name='VectNewgeoProb_128mpi_2omp',\n",
    "                         line=dict(color='royalblue',width=3),\n",
    "                         marker=dict(symbol='diamond',size=5,line=dict(color='MediumPurple',width=2))))\n",
    "\n",
    "# case 3\n",
    "fig.add_trace(go.Scatter(x=(dfn2VectNewgeoNonProb_64mpi_4omp.Dirc_Data_Mov*(dfn2VectNewgeoNonProb_64mpi_4omp.MPI_size/2)), \n",
    "                         y=(dfn2VectNewgeoNonProb_64mpi_4omp.GFLOPS*(dfn2VectNewgeoNonProb_64mpi_4omp.MPI_size/2)), \n",
    "                         mode='lines+markers', \n",
    "                         name='VectNewgeoNonProb_64mpi_4omp',\n",
    "                         line=dict(color='cyan',width=3),\n",
    "                         marker=dict(symbol='circle',size=7,line=dict(color='Purple',width=2))))\n",
    "\n",
    "fig.add_trace(go.Scatter(x=(dfn2VectNewgeoProb_64mpi_4omp.Dirc_Data_Mov*(dfn2VectNewgeoProb_64mpi_4omp.MPI_size/2)), \n",
    "                         y=(dfn2VectNewgeoProb_64mpi_4omp.GFLOPS*(dfn2VectNewgeoProb_64mpi_4omp.MPI_size/2)), \n",
    "                         mode='lines+markers', \n",
    "                         name='VectNewgeoProb_64mpi_4omp',\n",
    "                         line=dict(color='darkblue',width=3),\n",
    "                         marker=dict(symbol='circle',size=7, line=dict(color='tomato',width=2))))\n",
    "\n",
    "# case 4\n",
    "fig.add_trace(go.Scatter(x=(dfn2VectNewgeoNonProb_32mpi_8omp.Dirc_Data_Mov*(dfn2VectNewgeoNonProb_32mpi_8omp.MPI_size/2)), \n",
    "                         y=(dfn2VectNewgeoNonProb_32mpi_8omp.GFLOPS*(dfn2VectNewgeoNonProb_32mpi_8omp.MPI_size/2)), \n",
    "                         mode='lines+markers', \n",
    "                         name='VectNewgeoNonProb_32mpi_8omp',\n",
    "                         line=dict(color='red',width=3),\n",
    "                         marker=dict(symbol='circle',size=5,line=dict(color='red',width=2))))\n",
    "\n",
    "fig.add_trace(go.Scatter(x=(dfn2VectNewgeoProb_32mpi_8omp.Dirc_Data_Mov*(dfn2VectNewgeoProb_32mpi_8omp.MPI_size/2)), \n",
    "                         y=(dfn2VectNewgeoProb_32mpi_8omp.GFLOPS*(dfn2VectNewgeoProb_32mpi_8omp.MPI_size/2)), \n",
    "                         mode='lines+markers', \n",
    "                         name='VectNewgeoProb_32mpi_8omp',\n",
    "                         line=dict(color='green',width=3),\n",
    "                         marker=dict(symbol='circle',size=5,line=dict(color='green',width=2))))\n",
    "\n",
    "# case 5\n",
    "\n",
    "fig.add_trace(go.Scatter(x=(dfn2VectNewgeoNonProb_16mpi_16omp.Dirc_Data_Mov*(dfn2VectNewgeoNonProb_16mpi_16omp.MPI_size/2)), \n",
    "                         y=(dfn2VectNewgeoNonProb_16mpi_16omp.GFLOPS*(dfn2VectNewgeoNonProb_16mpi_16omp.MPI_size/2)), \n",
    "                         mode='lines+markers', \n",
    "                         name='VectNewgeoNonProb_16mpi_16omp',\n",
    "                         line=dict(color='blue',width=3),\n",
    "                         marker=dict(symbol='triangle-up',size=4,line=dict(color='chocolate',width=2))))\n",
    "\n",
    "fig.add_trace(go.Scatter(x=(dfn2VectNewgeoProb_16mpi_16omp.Dirc_Data_Mov*(dfn2VectNewgeoProb_16mpi_16omp.MPI_size/2)), \n",
    "                         y=(dfn2VectNewgeoProb_16mpi_16omp.GFLOPS*(dfn2VectNewgeoProb_16mpi_16omp.MPI_size/2)), \n",
    "                         mode='lines+markers', \n",
    "                         name='VectNewgeoProb_16mpi_16omp',\n",
    "                         line=dict(color='darkviolet',width=3),\n",
    "                         marker=dict(symbol='triangle-up',size=4,line=dict(color='crimson',width=2))))\n",
    "\n",
    "\n",
    "\n",
    "# Adding a vertical line\n",
    "fig.add_vline(x=512e6, line_width=3, line_dash=\"dash\", line_color=\"green\")\n",
    "# fig.add_hline(y=1024, line_width=3, line_dash=\"dash\", line_color=\"red\")\n",
    "\n",
    "# Add annotation\n",
    "fig.add_annotation(\n",
    "    x='512e6'\n",
    "    , y=130\n",
    "    , text=f'LLC Size Per Node'\n",
    "    , yanchor='bottom'\n",
    "    , showarrow=False\n",
    "    , arrowhead=1\n",
    "    , arrowsize=1\n",
    "    , arrowwidth=2\n",
    "    , arrowcolor=\"#636363\"\n",
    "    , ax=-20\n",
    "    , ay=-30\n",
    "    , font=dict(size=12, color=\"purple\", family=\"Sans Serif\")\n",
    "    , align=\"left\"\n",
    "    ,)\n",
    "\n",
    "fig.update_layout(title='\"Newgeo VECT (2-Nodes): probempi vs nonprobempi\" GFlops Measurement',\n",
    "                  xaxis_title='Dirc_Data_Mov', yaxis_title='GFLOPs/Node', \n",
    "                  xaxis=dict(ticks=\"outside\"),  \n",
    "                  yaxis=dict(ticks=\"outside\"),\n",
    "                  legend=go.layout.Legend(bordercolor=\"black\",borderwidth=1))"
   ]
  },
  {
   "cell_type": "code",
   "execution_count": null,
   "id": "911d4375",
   "metadata": {},
   "outputs": [],
   "source": []
  }
 ],
 "metadata": {
  "kernelspec": {
   "display_name": "Python 3 (ipykernel)",
   "language": "python",
   "name": "python3"
  },
  "language_info": {
   "codemirror_mode": {
    "name": "ipython",
    "version": 3
   },
   "file_extension": ".py",
   "mimetype": "text/x-python",
   "name": "python",
   "nbconvert_exporter": "python",
   "pygments_lexer": "ipython3",
   "version": "3.9.13"
  }
 },
 "nbformat": 4,
 "nbformat_minor": 5
}
