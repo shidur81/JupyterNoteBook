{
 "cells": [
  {
   "cell_type": "code",
   "execution_count": 1,
   "id": "1f1ec441",
   "metadata": {},
   "outputs": [
    {
     "data": {
      "text/html": [
       "        <script type=\"text/javascript\">\n",
       "        window.PlotlyConfig = {MathJaxConfig: 'local'};\n",
       "        if (window.MathJax && window.MathJax.Hub && window.MathJax.Hub.Config) {window.MathJax.Hub.Config({SVG: {font: \"STIX-Web\"}});}\n",
       "        if (typeof require !== 'undefined') {\n",
       "        require.undef(\"plotly\");\n",
       "        requirejs.config({\n",
       "            paths: {\n",
       "                'plotly': ['https://cdn.plot.ly/plotly-2.12.1.min']\n",
       "            }\n",
       "        });\n",
       "        require(['plotly'], function(Plotly) {\n",
       "            window._Plotly = Plotly;\n",
       "        });\n",
       "        }\n",
       "        </script>\n",
       "        "
      ]
     },
     "metadata": {},
     "output_type": "display_data"
    },
    {
     "data": {
      "text/html": [
       "        <script type=\"text/javascript\">\n",
       "        window.PlotlyConfig = {MathJaxConfig: 'local'};\n",
       "        if (window.MathJax && window.MathJax.Hub && window.MathJax.Hub.Config) {window.MathJax.Hub.Config({SVG: {font: \"STIX-Web\"}});}\n",
       "        if (typeof require !== 'undefined') {\n",
       "        require.undef(\"plotly\");\n",
       "        requirejs.config({\n",
       "            paths: {\n",
       "                'plotly': ['https://cdn.plot.ly/plotly-2.12.1.min']\n",
       "            }\n",
       "        });\n",
       "        require(['plotly'], function(Plotly) {\n",
       "            window._Plotly = Plotly;\n",
       "        });\n",
       "        }\n",
       "        </script>\n",
       "        "
      ]
     },
     "metadata": {},
     "output_type": "display_data"
    }
   ],
   "source": [
    "import pandas as pd\n",
    "import numpy as np\n",
    "import chart_studio.plotly as py\n",
    "import cufflinks as cf\n",
    "import seaborn as sns\n",
    "import plotly.express as px\n",
    "import plotly.graph_objects as go\n",
    "import collections\n",
    "from collections import OrderedDict\n",
    "%matplotlib inline\n",
    "from plotly.offline import download_plotlyjs, init_notebook_mode, plot, iplot\n",
    "init_notebook_mode(connected=True)\n",
    "cf.go_offline()"
   ]
  },
  {
   "cell_type": "code",
   "execution_count": 54,
   "id": "251a2075",
   "metadata": {},
   "outputs": [],
   "source": [
    "pd.set_option('display.max_columns', None)\n",
    "pd.set_option('display.max_rows', None)\n",
    "\n",
    "df_macro_fused_probempi = pd.read_csv(\"n4_fused_macro_probempi.csv\")\n",
    "df_macro_fused_nonprobempi = pd.read_csv(\"n4_fused_macro_nonprobempi.csv\")\n",
    "df_macro_newgeo_probempi = pd.read_csv(\"n4_newgeo_macro_probempi.csv\")\n",
    "df_macro_newgeo_nonprobempi = pd.read_csv(\"n4_newgeo_macro_nonprobempi.csv\")\n",
    "df_macro_nonfused_probempi = pd.read_csv(\"n4_nonfused_macro_probempi.csv\")\n",
    "df_macro_nonfused_nonprobempi = pd.read_csv(\"n4_nonfused_macro_nonprobempi.csv\")\n",
    "\n",
    "# df_avx_fused_probmpi = pd.read_csv(\"n2_fused_avx_probempi.csv\")\n",
    "# df_avx_fused_nonprobmpi = pd.read_csv(\"n2_fused_avx_nonprobempi.csv\")\n",
    "# df_avx_newgeo_probempi = pd.read_csv(\"n2_newgeo_avx_probempi.csv\")\n",
    "# df_avx_newgeo_nonprobempi = pd.read_csv(\"n2_newgeo_avx_nonprobempi.csv\")\n",
    "# df_avx_nonfused_probempi = pd.read_csv(\"n2_nonfused_avx_probempi.csv\")\n",
    "# df_avx_nonfused_nonprobempi = pd.read_csv(\"n2_nonfused_avx_nonprobempi.csv\")\n",
    "\n"
   ]
  },
  {
   "cell_type": "markdown",
   "id": "75f48b26",
   "metadata": {},
   "source": [
    "# MACRO CASES"
   ]
  },
  {
   "cell_type": "markdown",
   "id": "9960d28c",
   "metadata": {},
   "source": [
    "## 1. macro_fused_probempi"
   ]
  },
  {
   "cell_type": "markdown",
   "id": "24118f7f",
   "metadata": {},
   "source": [
    "### Add Columns"
   ]
  },
  {
   "cell_type": "code",
   "execution_count": 11,
   "id": "14525d64",
   "metadata": {},
   "outputs": [],
   "source": [
    "df_macro_fused_probempi[\"N_Nodes\"] = 4\n",
    "df_macro_fused_probempi['NPX'] = (df_macro_fused_probempi.GLB_X//df_macro_fused_probempi.LOC_X)\n",
    "df_macro_fused_probempi['NPY'] = (df_macro_fused_probempi.GLB_Y//df_macro_fused_probempi.LOC_Y)\n",
    "df_macro_fused_probempi['NPZ'] = (df_macro_fused_probempi.GLB_Z//df_macro_fused_probempi.LOC_Z)\n",
    "df_macro_fused_probempi['NPT'] = (df_macro_fused_probempi.GLB_T//df_macro_fused_probempi.LOC_T)\n",
    "df_macro_fused_probempi[\"Total_proc\"] = df_macro_fused_probempi[\"omp_thrd\"]* df_macro_fused_probempi.MPI_size\n",
    "# df_macro_fused_probempi.columns"
   ]
  },
  {
   "cell_type": "markdown",
   "id": "a1bde771",
   "metadata": {},
   "source": [
    "### Data Summary"
   ]
  },
  {
   "cell_type": "code",
   "execution_count": 12,
   "id": "c1895cd5",
   "metadata": {},
   "outputs": [
    {
     "data": {
      "text/html": [
       "<div>\n",
       "<style scoped>\n",
       "    .dataframe tbody tr th:only-of-type {\n",
       "        vertical-align: middle;\n",
       "    }\n",
       "\n",
       "    .dataframe tbody tr th {\n",
       "        vertical-align: top;\n",
       "    }\n",
       "\n",
       "    .dataframe thead th {\n",
       "        text-align: right;\n",
       "    }\n",
       "</style>\n",
       "<table border=\"1\" class=\"dataframe\">\n",
       "  <thead>\n",
       "    <tr style=\"text-align: right;\">\n",
       "      <th></th>\n",
       "      <th>MPI_size</th>\n",
       "      <th>omp_thrd</th>\n",
       "      <th>NPT</th>\n",
       "      <th>NPX</th>\n",
       "      <th>NPY</th>\n",
       "      <th>NPZ</th>\n",
       "      <th>Total_proc</th>\n",
       "      <th>size</th>\n",
       "    </tr>\n",
       "  </thead>\n",
       "  <tbody>\n",
       "    <tr>\n",
       "      <th>0</th>\n",
       "      <td>32</td>\n",
       "      <td>4</td>\n",
       "      <td>4</td>\n",
       "      <td>2</td>\n",
       "      <td>2</td>\n",
       "      <td>2</td>\n",
       "      <td>128</td>\n",
       "      <td>29</td>\n",
       "    </tr>\n",
       "    <tr>\n",
       "      <th>1</th>\n",
       "      <td>40</td>\n",
       "      <td>3</td>\n",
       "      <td>5</td>\n",
       "      <td>2</td>\n",
       "      <td>2</td>\n",
       "      <td>2</td>\n",
       "      <td>120</td>\n",
       "      <td>11</td>\n",
       "    </tr>\n",
       "    <tr>\n",
       "      <th>2</th>\n",
       "      <td>56</td>\n",
       "      <td>2</td>\n",
       "      <td>7</td>\n",
       "      <td>2</td>\n",
       "      <td>2</td>\n",
       "      <td>2</td>\n",
       "      <td>112</td>\n",
       "      <td>8</td>\n",
       "    </tr>\n",
       "    <tr>\n",
       "      <th>3</th>\n",
       "      <td>64</td>\n",
       "      <td>2</td>\n",
       "      <td>8</td>\n",
       "      <td>2</td>\n",
       "      <td>2</td>\n",
       "      <td>2</td>\n",
       "      <td>128</td>\n",
       "      <td>13</td>\n",
       "    </tr>\n",
       "    <tr>\n",
       "      <th>4</th>\n",
       "      <td>104</td>\n",
       "      <td>1</td>\n",
       "      <td>13</td>\n",
       "      <td>2</td>\n",
       "      <td>2</td>\n",
       "      <td>2</td>\n",
       "      <td>104</td>\n",
       "      <td>3</td>\n",
       "    </tr>\n",
       "    <tr>\n",
       "      <th>5</th>\n",
       "      <td>112</td>\n",
       "      <td>1</td>\n",
       "      <td>14</td>\n",
       "      <td>2</td>\n",
       "      <td>2</td>\n",
       "      <td>2</td>\n",
       "      <td>112</td>\n",
       "      <td>6</td>\n",
       "    </tr>\n",
       "    <tr>\n",
       "      <th>6</th>\n",
       "      <td>120</td>\n",
       "      <td>1</td>\n",
       "      <td>15</td>\n",
       "      <td>2</td>\n",
       "      <td>2</td>\n",
       "      <td>2</td>\n",
       "      <td>120</td>\n",
       "      <td>3</td>\n",
       "    </tr>\n",
       "    <tr>\n",
       "      <th>7</th>\n",
       "      <td>128</td>\n",
       "      <td>1</td>\n",
       "      <td>16</td>\n",
       "      <td>2</td>\n",
       "      <td>2</td>\n",
       "      <td>2</td>\n",
       "      <td>128</td>\n",
       "      <td>5</td>\n",
       "    </tr>\n",
       "  </tbody>\n",
       "</table>\n",
       "</div>"
      ],
      "text/plain": [
       "   MPI_size  omp_thrd  NPT  NPX  NPY  NPZ  Total_proc  size\n",
       "0        32         4    4    2    2    2         128    29\n",
       "1        40         3    5    2    2    2         120    11\n",
       "2        56         2    7    2    2    2         112     8\n",
       "3        64         2    8    2    2    2         128    13\n",
       "4       104         1   13    2    2    2         104     3\n",
       "5       112         1   14    2    2    2         112     6\n",
       "6       120         1   15    2    2    2         120     3\n",
       "7       128         1   16    2    2    2         128     5"
      ]
     },
     "execution_count": 12,
     "metadata": {},
     "output_type": "execute_result"
    }
   ],
   "source": [
    "df_macro_fused_probempi_summary = df_macro_fused_probempi.groupby(['MPI_size','omp_thrd','NPT','NPX', 'NPY', 'NPZ',\"Total_proc\"]).size().reset_index(name = 'size')\n",
    "df_macro_fused_probempi_summary"
   ]
  },
  {
   "cell_type": "markdown",
   "id": "c6ddccea",
   "metadata": {},
   "source": [
    "### Case Set up"
   ]
  },
  {
   "cell_type": "code",
   "execution_count": 19,
   "id": "d67b0ec0",
   "metadata": {},
   "outputs": [],
   "source": [
    "dfMacFusProb_32mpi_4omp = df_macro_fused_probempi[(df_macro_fused_probempi.omp_thrd == 4) & (df_macro_fused_probempi.GLB_T/df_macro_fused_probempi.LOC_T == 4) & (df_macro_fused_probempi.GLB_X/df_macro_fused_probempi.LOC_X == 2) & (df_macro_fused_probempi.GLB_Y/df_macro_fused_probempi.LOC_Y == 2)& (df_macro_fused_probempi.GLB_Z/df_macro_fused_probempi.LOC_Z == 2)]\n",
    "dfMacFusProb_40mpi_3omp = df_macro_fused_probempi[(df_macro_fused_probempi.omp_thrd == 3) & (df_macro_fused_probempi.GLB_T/df_macro_fused_probempi.LOC_T == 5) & (df_macro_fused_probempi.GLB_X/df_macro_fused_probempi.LOC_X == 2) & (df_macro_fused_probempi.GLB_Y/df_macro_fused_probempi.LOC_Y == 2)& (df_macro_fused_probempi.GLB_Z/df_macro_fused_probempi.LOC_Z == 2)]\n",
    "dfMacFusProb_56mpi_2omp = df_macro_fused_probempi[(df_macro_fused_probempi.omp_thrd == 2) & (df_macro_fused_probempi.GLB_T/df_macro_fused_probempi.LOC_T == 7) & (df_macro_fused_probempi.GLB_X/df_macro_fused_probempi.LOC_X == 2) & (df_macro_fused_probempi.GLB_Y/df_macro_fused_probempi.LOC_Y == 2)& (df_macro_fused_probempi.GLB_Z/df_macro_fused_probempi.LOC_Z == 2)]\n",
    "dfMacFusProb_64mpi_2omp = df_macro_fused_probempi[(df_macro_fused_probempi.omp_thrd == 2) & (df_macro_fused_probempi.GLB_T/df_macro_fused_probempi.LOC_T == 8) & (df_macro_fused_probempi.GLB_X/df_macro_fused_probempi.LOC_X == 2) & (df_macro_fused_probempi.GLB_Y/df_macro_fused_probempi.LOC_Y == 2)& (df_macro_fused_probempi.GLB_Z/df_macro_fused_probempi.LOC_Z == 2)]\n",
    "dfMacFusProb_112mpi_1omp = df_macro_fused_probempi[(df_macro_fused_probempi.omp_thrd == 1) & (df_macro_fused_probempi.GLB_T/df_macro_fused_probempi.LOC_T == 14) & (df_macro_fused_probempi.GLB_X/df_macro_fused_probempi.LOC_X == 2) & (df_macro_fused_probempi.GLB_Y/df_macro_fused_probempi.LOC_Y == 2)& (df_macro_fused_probempi.GLB_Z/df_macro_fused_probempi.LOC_Z == 2)]\n",
    "dfMacFusProb_128mpi_1omp = df_macro_fused_probempi[(df_macro_fused_probempi.omp_thrd == 1) & (df_macro_fused_probempi.GLB_T/df_macro_fused_probempi.LOC_T == 16) & (df_macro_fused_probempi.GLB_X/df_macro_fused_probempi.LOC_X == 2) & (df_macro_fused_probempi.GLB_Y/df_macro_fused_probempi.LOC_Y == 2)& (df_macro_fused_probempi.GLB_Z/df_macro_fused_probempi.LOC_Z == 2)]\n"
   ]
  },
  {
   "cell_type": "markdown",
   "id": "d4a320c2",
   "metadata": {},
   "source": [
    "## 2. macro_fused_nonprobempi"
   ]
  },
  {
   "cell_type": "markdown",
   "id": "6a7453b7",
   "metadata": {},
   "source": [
    "### Add Columns"
   ]
  },
  {
   "cell_type": "code",
   "execution_count": 21,
   "id": "ed9388cf",
   "metadata": {},
   "outputs": [],
   "source": [
    "df_macro_fused_nonprobempi[\"N_Nodes\"] = 4\n",
    "df_macro_fused_nonprobempi['NPX'] = (df_macro_fused_nonprobempi.GLB_X//df_macro_fused_nonprobempi.LOC_X)\n",
    "df_macro_fused_nonprobempi['NPY'] = (df_macro_fused_nonprobempi.GLB_Y//df_macro_fused_nonprobempi.LOC_Y)\n",
    "df_macro_fused_nonprobempi['NPZ'] = (df_macro_fused_nonprobempi.GLB_Z//df_macro_fused_nonprobempi.LOC_Z)\n",
    "df_macro_fused_nonprobempi['NPT'] = (df_macro_fused_nonprobempi.GLB_T//df_macro_fused_nonprobempi.LOC_T)\n",
    "df_macro_fused_nonprobempi[\"Total_proc\"] = df_macro_fused_nonprobempi[\"omp_thrd\"]* df_macro_fused_nonprobempi.MPI_size\n",
    "# df_macro_fused_nonprobempi.columns"
   ]
  },
  {
   "cell_type": "markdown",
   "id": "56547522",
   "metadata": {},
   "source": [
    "### Data Summary"
   ]
  },
  {
   "cell_type": "code",
   "execution_count": 22,
   "id": "ae2be25d",
   "metadata": {},
   "outputs": [
    {
     "data": {
      "text/html": [
       "<div>\n",
       "<style scoped>\n",
       "    .dataframe tbody tr th:only-of-type {\n",
       "        vertical-align: middle;\n",
       "    }\n",
       "\n",
       "    .dataframe tbody tr th {\n",
       "        vertical-align: top;\n",
       "    }\n",
       "\n",
       "    .dataframe thead th {\n",
       "        text-align: right;\n",
       "    }\n",
       "</style>\n",
       "<table border=\"1\" class=\"dataframe\">\n",
       "  <thead>\n",
       "    <tr style=\"text-align: right;\">\n",
       "      <th></th>\n",
       "      <th>MPI_size</th>\n",
       "      <th>omp_thrd</th>\n",
       "      <th>NPT</th>\n",
       "      <th>NPX</th>\n",
       "      <th>NPY</th>\n",
       "      <th>NPZ</th>\n",
       "      <th>Total_proc</th>\n",
       "      <th>size</th>\n",
       "    </tr>\n",
       "  </thead>\n",
       "  <tbody>\n",
       "    <tr>\n",
       "      <th>0</th>\n",
       "      <td>32</td>\n",
       "      <td>4</td>\n",
       "      <td>4</td>\n",
       "      <td>2</td>\n",
       "      <td>2</td>\n",
       "      <td>2</td>\n",
       "      <td>128</td>\n",
       "      <td>29</td>\n",
       "    </tr>\n",
       "    <tr>\n",
       "      <th>1</th>\n",
       "      <td>40</td>\n",
       "      <td>3</td>\n",
       "      <td>5</td>\n",
       "      <td>2</td>\n",
       "      <td>2</td>\n",
       "      <td>2</td>\n",
       "      <td>120</td>\n",
       "      <td>11</td>\n",
       "    </tr>\n",
       "    <tr>\n",
       "      <th>2</th>\n",
       "      <td>56</td>\n",
       "      <td>2</td>\n",
       "      <td>7</td>\n",
       "      <td>2</td>\n",
       "      <td>2</td>\n",
       "      <td>2</td>\n",
       "      <td>112</td>\n",
       "      <td>8</td>\n",
       "    </tr>\n",
       "    <tr>\n",
       "      <th>3</th>\n",
       "      <td>64</td>\n",
       "      <td>2</td>\n",
       "      <td>8</td>\n",
       "      <td>2</td>\n",
       "      <td>2</td>\n",
       "      <td>2</td>\n",
       "      <td>128</td>\n",
       "      <td>13</td>\n",
       "    </tr>\n",
       "    <tr>\n",
       "      <th>4</th>\n",
       "      <td>104</td>\n",
       "      <td>1</td>\n",
       "      <td>13</td>\n",
       "      <td>2</td>\n",
       "      <td>2</td>\n",
       "      <td>2</td>\n",
       "      <td>104</td>\n",
       "      <td>3</td>\n",
       "    </tr>\n",
       "    <tr>\n",
       "      <th>5</th>\n",
       "      <td>112</td>\n",
       "      <td>1</td>\n",
       "      <td>14</td>\n",
       "      <td>2</td>\n",
       "      <td>2</td>\n",
       "      <td>2</td>\n",
       "      <td>112</td>\n",
       "      <td>6</td>\n",
       "    </tr>\n",
       "    <tr>\n",
       "      <th>6</th>\n",
       "      <td>120</td>\n",
       "      <td>1</td>\n",
       "      <td>15</td>\n",
       "      <td>2</td>\n",
       "      <td>2</td>\n",
       "      <td>2</td>\n",
       "      <td>120</td>\n",
       "      <td>3</td>\n",
       "    </tr>\n",
       "    <tr>\n",
       "      <th>7</th>\n",
       "      <td>128</td>\n",
       "      <td>1</td>\n",
       "      <td>16</td>\n",
       "      <td>2</td>\n",
       "      <td>2</td>\n",
       "      <td>2</td>\n",
       "      <td>128</td>\n",
       "      <td>5</td>\n",
       "    </tr>\n",
       "  </tbody>\n",
       "</table>\n",
       "</div>"
      ],
      "text/plain": [
       "   MPI_size  omp_thrd  NPT  NPX  NPY  NPZ  Total_proc  size\n",
       "0        32         4    4    2    2    2         128    29\n",
       "1        40         3    5    2    2    2         120    11\n",
       "2        56         2    7    2    2    2         112     8\n",
       "3        64         2    8    2    2    2         128    13\n",
       "4       104         1   13    2    2    2         104     3\n",
       "5       112         1   14    2    2    2         112     6\n",
       "6       120         1   15    2    2    2         120     3\n",
       "7       128         1   16    2    2    2         128     5"
      ]
     },
     "execution_count": 22,
     "metadata": {},
     "output_type": "execute_result"
    }
   ],
   "source": [
    "df_macro_fused_nonprobempi_summary =df_macro_fused_nonprobempi.groupby(['MPI_size','omp_thrd','NPT','NPX', 'NPY', 'NPZ',\"Total_proc\"]).size().reset_index(name = 'size')\n",
    "df_macro_fused_nonprobempi_summary"
   ]
  },
  {
   "cell_type": "markdown",
   "id": "1d8d1cf6",
   "metadata": {},
   "source": [
    "### Case Set up"
   ]
  },
  {
   "cell_type": "code",
   "execution_count": 29,
   "id": "c1881068",
   "metadata": {},
   "outputs": [],
   "source": [
    "dfMacFusNonProb_32mpi_4omp = df_macro_fused_nonprobempi[(df_macro_fused_nonprobempi.omp_thrd == 4) & (df_macro_fused_nonprobempi.GLB_T/df_macro_fused_nonprobempi.LOC_T == 4) & (df_macro_fused_nonprobempi.GLB_X/df_macro_fused_nonprobempi.LOC_X == 2) & (df_macro_fused_nonprobempi.GLB_Y/df_macro_fused_nonprobempi.LOC_Y == 2)& (df_macro_fused_nonprobempi.GLB_Z/df_macro_fused_nonprobempi.LOC_Z == 2)]\n",
    "dfMacFusNonProb_40mpi_3omp = df_macro_fused_nonprobempi[(df_macro_fused_nonprobempi.omp_thrd == 3) & (df_macro_fused_nonprobempi.GLB_T/df_macro_fused_nonprobempi.LOC_T == 5) & (df_macro_fused_nonprobempi.GLB_X/df_macro_fused_nonprobempi.LOC_X == 2) & (df_macro_fused_nonprobempi.GLB_Y/df_macro_fused_nonprobempi.LOC_Y == 2)& (df_macro_fused_nonprobempi.GLB_Z/df_macro_fused_nonprobempi.LOC_Z == 2)]\n",
    "dfMacFusnonProb_56mpi_2omp = df_macro_fused_nonprobempi[(df_macro_fused_nonprobempi.omp_thrd == 2) & (df_macro_fused_nonprobempi.GLB_T/df_macro_fused_nonprobempi.LOC_T == 7) & (df_macro_fused_nonprobempi.GLB_X/df_macro_fused_nonprobempi.LOC_X == 2) & (df_macro_fused_nonprobempi.GLB_Y/df_macro_fused_nonprobempi.LOC_Y == 2)& (df_macro_fused_nonprobempi.GLB_Z/df_macro_fused_nonprobempi.LOC_Z == 2)]\n",
    "dfMacFusnonProb_64mpi_2omp = df_macro_fused_nonprobempi[(df_macro_fused_nonprobempi.omp_thrd == 2) & (df_macro_fused_nonprobempi.GLB_T/df_macro_fused_nonprobempi.LOC_T == 8) & (df_macro_fused_nonprobempi.GLB_X/df_macro_fused_nonprobempi.LOC_X == 2) & (df_macro_fused_nonprobempi.GLB_Y/df_macro_fused_nonprobempi.LOC_Y == 2)& (df_macro_fused_nonprobempi.GLB_Z/df_macro_fused_nonprobempi.LOC_Z == 2)]\n",
    "dfMacFusnonProb_112mpi_1omp = df_macro_fused_nonprobempi[(df_macro_fused_nonprobempi.omp_thrd == 1) & (df_macro_fused_nonprobempi.GLB_T/df_macro_fused_nonprobempi.LOC_T == 14) & (df_macro_fused_nonprobempi.GLB_X/df_macro_fused_nonprobempi.LOC_X == 2) & (df_macro_fused_nonprobempi.GLB_Y/df_macro_fused_nonprobempi.LOC_Y == 2)& (df_macro_fused_nonprobempi.GLB_Z/df_macro_fused_nonprobempi.LOC_Z == 2)]\n",
    "dfMacFusnonProb_128mpi_1omp = df_macro_fused_nonprobempi[(df_macro_fused_nonprobempi.omp_thrd == 1) & (df_macro_fused_nonprobempi.GLB_T/df_macro_fused_nonprobempi.LOC_T == 16) & (df_macro_fused_nonprobempi.GLB_X/df_macro_fused_nonprobempi.LOC_X == 2) & (df_macro_fused_nonprobempi.GLB_Y/df_macro_fused_nonprobempi.LOC_Y == 2)& (df_macro_fused_nonprobempi.GLB_Z/df_macro_fused_nonprobempi.LOC_Z == 2)]\n"
   ]
  },
  {
   "cell_type": "markdown",
   "id": "f6541fe3",
   "metadata": {},
   "source": [
    "## GFLOPS - macro fused: probempi vs nonprobempi"
   ]
  },
  {
   "cell_type": "code",
   "execution_count": 51,
   "id": "64c4e5f7",
   "metadata": {},
   "outputs": [
    {
     "data": {
      "application/vnd.plotly.v1+json": {
       "config": {
        "plotlyServerURL": "https://plot.ly"
       },
       "data": [
        {
         "line": {
          "color": "darkcyan",
          "width": 3
         },
         "marker": {
          "line": {
           "color": "yellow",
           "width": 1
          },
          "size": 9,
          "symbol": "hexagon"
         },
         "mode": "lines+markers",
         "name": "MacFusProb_32mpi_4omp",
         "type": "scatter",
         "x": [
          50331648,
          62914560,
          75497472,
          88080384,
          100663296,
          113246208,
          125829120,
          138412032,
          150994944,
          163577856,
          176160768,
          188743680,
          201326592,
          213909504,
          226492416,
          239075328,
          251658240,
          264241152,
          276824064,
          289406976,
          301989888,
          314572800,
          327155712,
          339738624,
          352321536,
          364904448,
          377487360,
          390070272,
          402653184
         ],
         "y": [
          48.99656,
          51.5272,
          54.05216,
          57.12592,
          57.21072,
          58.33072,
          58.62104,
          58.72488,
          58.51352,
          55.61024,
          54.34272,
          52.81896,
          50.42568,
          48.8848,
          47.73736,
          45.82648,
          43.29752,
          43.27584,
          42.43848,
          41.91088,
          41.63432,
          41.54664,
          41.34864,
          41.18056,
          41.03664,
          40.92696,
          40.46024,
          40.79632,
          40.48272
         ]
        },
        {
         "line": {
          "color": "magenta",
          "width": 3
         },
         "marker": {
          "line": {
           "color": "yellow",
           "width": 1
          },
          "size": 9,
          "symbol": "hexagon"
         },
         "mode": "lines+markers",
         "name": "MacFusNonProb_32mpi_4omp",
         "type": "scatter",
         "x": [
          50331648,
          62914560,
          75497472,
          88080384,
          100663296,
          113246208,
          125829120,
          138412032,
          150994944,
          163577856,
          176160768,
          188743680,
          201326592,
          213909504,
          226492416,
          239075328,
          251658240,
          264241152,
          276824064,
          289406976,
          301989888,
          314572800,
          327155712,
          339738624,
          352321536,
          364904448,
          377487360,
          390070272,
          402653184
         ],
         "y": [
          50.35896,
          54.59176,
          57.16856,
          59.6992,
          62.66256,
          63.26608,
          71.60176,
          64.274,
          64.12904,
          63.19472,
          62.75336,
          58.85424,
          58.24288,
          56.2036,
          50.66808,
          51.96576,
          49.53872,
          48.38608,
          47.56392,
          46.97392,
          45.90216,
          45.20528,
          44.61336,
          44.05936,
          43.93584,
          43.85592,
          43.42128,
          43.33432,
          42.90344
         ]
        },
        {
         "line": {
          "color": "royalblue",
          "width": 3
         },
         "marker": {
          "line": {
           "color": "MediumPurple",
           "width": 2
          },
          "size": 5,
          "symbol": "diamond"
         },
         "mode": "lines+markers",
         "name": "MacFusProb_40mpi_3omp",
         "type": "scatter",
         "x": [
          62914560,
          94371840,
          125829120,
          157286400,
          188743680,
          220200960,
          251658240,
          283115520,
          314572800,
          346030080,
          377487360
         ],
         "y": [
          47.345800000000004,
          54.620400000000004,
          52.4239,
          45.716,
          39.814,
          36.2489,
          35.922,
          35.3404,
          34.705400000000004,
          35.8889,
          35.0161
         ]
        },
        {
         "line": {
          "color": "sandybrown",
          "width": 3
         },
         "marker": {
          "line": {
           "color": "MediumPurple",
           "width": 2
          },
          "size": 5,
          "symbol": "diamond"
         },
         "mode": "lines+markers",
         "name": "MacFusNonProb_40mpi_3omp",
         "type": "scatter",
         "x": [
          62914560,
          94371840,
          125829120,
          157286400,
          188743680,
          220200960,
          251658240,
          283115520,
          314572800,
          346030080,
          377487360
         ],
         "y": [
          49.911,
          58.5772,
          57.442,
          50.7385,
          45.7592,
          39.8515,
          37.787099999999995,
          37.3195,
          38.418,
          37.4015,
          37.6433
         ]
        },
        {
         "line": {
          "color": "darkblue",
          "width": 3
         },
         "marker": {
          "line": {
           "color": "tomato",
           "width": 2
          },
          "size": 7,
          "symbol": "circle"
         },
         "mode": "lines+markers",
         "name": "MacFusProb_56mpi_2omp",
         "type": "scatter",
         "x": [
          88080384,
          132120576,
          176160768,
          220200960,
          264241152,
          308281344,
          352321536,
          396361728
         ],
         "y": [
          53.02948,
          53.0019,
          48.4127,
          42.89474,
          42.0098,
          40.39,
          39.3302,
          38.8318
         ]
        },
        {
         "line": {
          "color": "cyan",
          "width": 3
         },
         "marker": {
          "line": {
           "color": "Purple",
           "width": 2
          },
          "size": 7,
          "symbol": "circle"
         },
         "mode": "lines+markers",
         "name": "MacFusnonProb_56mpi_2omp",
         "type": "scatter",
         "x": [
          88080384,
          132120576,
          176160768,
          220200960,
          264241152,
          308281344,
          352321536,
          396361728
         ],
         "y": [
          54.6644,
          64.80264,
          51.61184,
          47.68218,
          44.44006,
          42.4249,
          40.800900000000006,
          40.0162
         ]
        },
        {
         "line": {
          "color": "blue",
          "width": 3
         },
         "marker": {
          "line": {
           "color": "black",
           "width": 1
          },
          "size": 7,
          "symbol": "star"
         },
         "mode": "lines+markers",
         "name": "MacFusProb_64mpi_2omp",
         "type": "scatter",
         "x": [
          100663296,
          125829120,
          150994944,
          176160768,
          201326592,
          226492416,
          251658240,
          276824064,
          301989888,
          327155712,
          352321536,
          377487360,
          402653184
         ],
         "y": [
          65.39104,
          68.1152,
          63.64768,
          61.62048,
          56.81424,
          53.92,
          49.75184,
          48.0632,
          48.12816,
          47.01888,
          46.28912,
          46.17376,
          45.52992
         ]
        },
        {
         "line": {
          "color": "red",
          "width": 3
         },
         "marker": {
          "line": {
           "color": "black",
           "width": 1
          },
          "size": 7,
          "symbol": "star"
         },
         "mode": "lines+markers",
         "name": "MacFusnonProb_64mpi_2omp",
         "type": "scatter",
         "x": [
          100663296,
          125829120,
          150994944,
          176160768,
          201326592,
          226492416,
          251658240,
          276824064,
          301989888,
          327155712,
          352321536,
          377487360,
          402653184
         ],
         "y": [
          69.76064,
          71.0336,
          74.8272,
          64.49504,
          65.23136,
          57.78272,
          56.00208,
          51.01968,
          50.80784,
          50.56048,
          47.15792,
          44.48064,
          47.37024
         ]
        },
        {
         "line": {
          "color": "chartreuse",
          "width": 3
         },
         "marker": {
          "line": {
           "color": "mediumvioletred",
           "width": 1
          },
          "size": 7,
          "symbol": "square-dot"
         },
         "mode": "lines+markers",
         "name": "MacFusProb_112mpi_1omp",
         "type": "scatter",
         "x": [
          176160768,
          220200960,
          264241152,
          308281344,
          352321536,
          396361728
         ],
         "y": [
          42.511,
          41.309520000000006,
          39.980920000000005,
          38.65596,
          37.65804,
          36.94964
         ]
        },
        {
         "line": {
          "color": "black",
          "width": 3
         },
         "marker": {
          "line": {
           "color": "mediumvioletred",
           "width": 1
          },
          "size": 7,
          "symbol": "square-dot"
         },
         "mode": "lines+markers",
         "name": "MacFusnonProb_112mpi_1omp",
         "type": "scatter",
         "x": [
          176160768,
          220200960,
          264241152,
          308281344,
          352321536,
          396361728
         ],
         "y": [
          47.0134,
          42.553839999999994,
          41.27312,
          40.34604,
          40.09572,
          38.9886
         ]
        },
        {
         "line": {
          "color": "gold",
          "width": 3
         },
         "marker": {
          "line": {
           "color": "black",
           "width": 1
          },
          "size": 6,
          "symbol": "triangle-up"
         },
         "mode": "lines+markers",
         "name": "MacFusProb_128mpi_1omp",
         "type": "scatter",
         "x": [
          201326592,
          251658240,
          301989888,
          352321536,
          402653184
         ],
         "y": [
          53.12512,
          46.75712,
          45.91616,
          44.8864,
          43.90272
         ]
        },
        {
         "line": {
          "color": "dimgray",
          "width": 3
         },
         "marker": {
          "line": {
           "color": "black",
           "width": 1
          },
          "size": 6,
          "symbol": "triangle-up"
         },
         "mode": "lines+markers",
         "name": "MacFusnonProb_128mpi_1omp",
         "type": "scatter",
         "x": [
          201326592,
          251658240,
          301989888,
          352321536,
          402653184
         ],
         "y": [
          54.75456,
          49.61088,
          47.93632,
          46.88896,
          46.12608
         ]
        }
       ],
       "layout": {
        "annotations": [
         {
          "align": "left",
          "arrowcolor": "#636363",
          "arrowhead": 1,
          "arrowsize": 1,
          "arrowwidth": 2,
          "ax": -20,
          "ay": -30,
          "font": {
           "color": "purple",
           "family": "Sans Serif",
           "size": 12
          },
          "showarrow": false,
          "text": "LLC Size Per Node",
          "x": "80e6",
          "y": 130,
          "yanchor": "bottom"
         }
        ],
        "shapes": [
         {
          "line": {
           "color": "green",
           "dash": "dash",
           "width": 3
          },
          "type": "line",
          "x0": 80000000,
          "x1": 80000000,
          "xref": "x",
          "y0": 0,
          "y1": 1,
          "yref": "y domain"
         }
        ],
        "template": {
         "data": {
          "bar": [
           {
            "error_x": {
             "color": "#2a3f5f"
            },
            "error_y": {
             "color": "#2a3f5f"
            },
            "marker": {
             "line": {
              "color": "#E5ECF6",
              "width": 0.5
             },
             "pattern": {
              "fillmode": "overlay",
              "size": 10,
              "solidity": 0.2
             }
            },
            "type": "bar"
           }
          ],
          "barpolar": [
           {
            "marker": {
             "line": {
              "color": "#E5ECF6",
              "width": 0.5
             },
             "pattern": {
              "fillmode": "overlay",
              "size": 10,
              "solidity": 0.2
             }
            },
            "type": "barpolar"
           }
          ],
          "carpet": [
           {
            "aaxis": {
             "endlinecolor": "#2a3f5f",
             "gridcolor": "white",
             "linecolor": "white",
             "minorgridcolor": "white",
             "startlinecolor": "#2a3f5f"
            },
            "baxis": {
             "endlinecolor": "#2a3f5f",
             "gridcolor": "white",
             "linecolor": "white",
             "minorgridcolor": "white",
             "startlinecolor": "#2a3f5f"
            },
            "type": "carpet"
           }
          ],
          "choropleth": [
           {
            "colorbar": {
             "outlinewidth": 0,
             "ticks": ""
            },
            "type": "choropleth"
           }
          ],
          "contour": [
           {
            "colorbar": {
             "outlinewidth": 0,
             "ticks": ""
            },
            "colorscale": [
             [
              0,
              "#0d0887"
             ],
             [
              0.1111111111111111,
              "#46039f"
             ],
             [
              0.2222222222222222,
              "#7201a8"
             ],
             [
              0.3333333333333333,
              "#9c179e"
             ],
             [
              0.4444444444444444,
              "#bd3786"
             ],
             [
              0.5555555555555556,
              "#d8576b"
             ],
             [
              0.6666666666666666,
              "#ed7953"
             ],
             [
              0.7777777777777778,
              "#fb9f3a"
             ],
             [
              0.8888888888888888,
              "#fdca26"
             ],
             [
              1,
              "#f0f921"
             ]
            ],
            "type": "contour"
           }
          ],
          "contourcarpet": [
           {
            "colorbar": {
             "outlinewidth": 0,
             "ticks": ""
            },
            "type": "contourcarpet"
           }
          ],
          "heatmap": [
           {
            "colorbar": {
             "outlinewidth": 0,
             "ticks": ""
            },
            "colorscale": [
             [
              0,
              "#0d0887"
             ],
             [
              0.1111111111111111,
              "#46039f"
             ],
             [
              0.2222222222222222,
              "#7201a8"
             ],
             [
              0.3333333333333333,
              "#9c179e"
             ],
             [
              0.4444444444444444,
              "#bd3786"
             ],
             [
              0.5555555555555556,
              "#d8576b"
             ],
             [
              0.6666666666666666,
              "#ed7953"
             ],
             [
              0.7777777777777778,
              "#fb9f3a"
             ],
             [
              0.8888888888888888,
              "#fdca26"
             ],
             [
              1,
              "#f0f921"
             ]
            ],
            "type": "heatmap"
           }
          ],
          "heatmapgl": [
           {
            "colorbar": {
             "outlinewidth": 0,
             "ticks": ""
            },
            "colorscale": [
             [
              0,
              "#0d0887"
             ],
             [
              0.1111111111111111,
              "#46039f"
             ],
             [
              0.2222222222222222,
              "#7201a8"
             ],
             [
              0.3333333333333333,
              "#9c179e"
             ],
             [
              0.4444444444444444,
              "#bd3786"
             ],
             [
              0.5555555555555556,
              "#d8576b"
             ],
             [
              0.6666666666666666,
              "#ed7953"
             ],
             [
              0.7777777777777778,
              "#fb9f3a"
             ],
             [
              0.8888888888888888,
              "#fdca26"
             ],
             [
              1,
              "#f0f921"
             ]
            ],
            "type": "heatmapgl"
           }
          ],
          "histogram": [
           {
            "marker": {
             "pattern": {
              "fillmode": "overlay",
              "size": 10,
              "solidity": 0.2
             }
            },
            "type": "histogram"
           }
          ],
          "histogram2d": [
           {
            "colorbar": {
             "outlinewidth": 0,
             "ticks": ""
            },
            "colorscale": [
             [
              0,
              "#0d0887"
             ],
             [
              0.1111111111111111,
              "#46039f"
             ],
             [
              0.2222222222222222,
              "#7201a8"
             ],
             [
              0.3333333333333333,
              "#9c179e"
             ],
             [
              0.4444444444444444,
              "#bd3786"
             ],
             [
              0.5555555555555556,
              "#d8576b"
             ],
             [
              0.6666666666666666,
              "#ed7953"
             ],
             [
              0.7777777777777778,
              "#fb9f3a"
             ],
             [
              0.8888888888888888,
              "#fdca26"
             ],
             [
              1,
              "#f0f921"
             ]
            ],
            "type": "histogram2d"
           }
          ],
          "histogram2dcontour": [
           {
            "colorbar": {
             "outlinewidth": 0,
             "ticks": ""
            },
            "colorscale": [
             [
              0,
              "#0d0887"
             ],
             [
              0.1111111111111111,
              "#46039f"
             ],
             [
              0.2222222222222222,
              "#7201a8"
             ],
             [
              0.3333333333333333,
              "#9c179e"
             ],
             [
              0.4444444444444444,
              "#bd3786"
             ],
             [
              0.5555555555555556,
              "#d8576b"
             ],
             [
              0.6666666666666666,
              "#ed7953"
             ],
             [
              0.7777777777777778,
              "#fb9f3a"
             ],
             [
              0.8888888888888888,
              "#fdca26"
             ],
             [
              1,
              "#f0f921"
             ]
            ],
            "type": "histogram2dcontour"
           }
          ],
          "mesh3d": [
           {
            "colorbar": {
             "outlinewidth": 0,
             "ticks": ""
            },
            "type": "mesh3d"
           }
          ],
          "parcoords": [
           {
            "line": {
             "colorbar": {
              "outlinewidth": 0,
              "ticks": ""
             }
            },
            "type": "parcoords"
           }
          ],
          "pie": [
           {
            "automargin": true,
            "type": "pie"
           }
          ],
          "scatter": [
           {
            "fillpattern": {
             "fillmode": "overlay",
             "size": 10,
             "solidity": 0.2
            },
            "type": "scatter"
           }
          ],
          "scatter3d": [
           {
            "line": {
             "colorbar": {
              "outlinewidth": 0,
              "ticks": ""
             }
            },
            "marker": {
             "colorbar": {
              "outlinewidth": 0,
              "ticks": ""
             }
            },
            "type": "scatter3d"
           }
          ],
          "scattercarpet": [
           {
            "marker": {
             "colorbar": {
              "outlinewidth": 0,
              "ticks": ""
             }
            },
            "type": "scattercarpet"
           }
          ],
          "scattergeo": [
           {
            "marker": {
             "colorbar": {
              "outlinewidth": 0,
              "ticks": ""
             }
            },
            "type": "scattergeo"
           }
          ],
          "scattergl": [
           {
            "marker": {
             "colorbar": {
              "outlinewidth": 0,
              "ticks": ""
             }
            },
            "type": "scattergl"
           }
          ],
          "scattermapbox": [
           {
            "marker": {
             "colorbar": {
              "outlinewidth": 0,
              "ticks": ""
             }
            },
            "type": "scattermapbox"
           }
          ],
          "scatterpolar": [
           {
            "marker": {
             "colorbar": {
              "outlinewidth": 0,
              "ticks": ""
             }
            },
            "type": "scatterpolar"
           }
          ],
          "scatterpolargl": [
           {
            "marker": {
             "colorbar": {
              "outlinewidth": 0,
              "ticks": ""
             }
            },
            "type": "scatterpolargl"
           }
          ],
          "scatterternary": [
           {
            "marker": {
             "colorbar": {
              "outlinewidth": 0,
              "ticks": ""
             }
            },
            "type": "scatterternary"
           }
          ],
          "surface": [
           {
            "colorbar": {
             "outlinewidth": 0,
             "ticks": ""
            },
            "colorscale": [
             [
              0,
              "#0d0887"
             ],
             [
              0.1111111111111111,
              "#46039f"
             ],
             [
              0.2222222222222222,
              "#7201a8"
             ],
             [
              0.3333333333333333,
              "#9c179e"
             ],
             [
              0.4444444444444444,
              "#bd3786"
             ],
             [
              0.5555555555555556,
              "#d8576b"
             ],
             [
              0.6666666666666666,
              "#ed7953"
             ],
             [
              0.7777777777777778,
              "#fb9f3a"
             ],
             [
              0.8888888888888888,
              "#fdca26"
             ],
             [
              1,
              "#f0f921"
             ]
            ],
            "type": "surface"
           }
          ],
          "table": [
           {
            "cells": {
             "fill": {
              "color": "#EBF0F8"
             },
             "line": {
              "color": "white"
             }
            },
            "header": {
             "fill": {
              "color": "#C8D4E3"
             },
             "line": {
              "color": "white"
             }
            },
            "type": "table"
           }
          ]
         },
         "layout": {
          "annotationdefaults": {
           "arrowcolor": "#2a3f5f",
           "arrowhead": 0,
           "arrowwidth": 1
          },
          "autotypenumbers": "strict",
          "coloraxis": {
           "colorbar": {
            "outlinewidth": 0,
            "ticks": ""
           }
          },
          "colorscale": {
           "diverging": [
            [
             0,
             "#8e0152"
            ],
            [
             0.1,
             "#c51b7d"
            ],
            [
             0.2,
             "#de77ae"
            ],
            [
             0.3,
             "#f1b6da"
            ],
            [
             0.4,
             "#fde0ef"
            ],
            [
             0.5,
             "#f7f7f7"
            ],
            [
             0.6,
             "#e6f5d0"
            ],
            [
             0.7,
             "#b8e186"
            ],
            [
             0.8,
             "#7fbc41"
            ],
            [
             0.9,
             "#4d9221"
            ],
            [
             1,
             "#276419"
            ]
           ],
           "sequential": [
            [
             0,
             "#0d0887"
            ],
            [
             0.1111111111111111,
             "#46039f"
            ],
            [
             0.2222222222222222,
             "#7201a8"
            ],
            [
             0.3333333333333333,
             "#9c179e"
            ],
            [
             0.4444444444444444,
             "#bd3786"
            ],
            [
             0.5555555555555556,
             "#d8576b"
            ],
            [
             0.6666666666666666,
             "#ed7953"
            ],
            [
             0.7777777777777778,
             "#fb9f3a"
            ],
            [
             0.8888888888888888,
             "#fdca26"
            ],
            [
             1,
             "#f0f921"
            ]
           ],
           "sequentialminus": [
            [
             0,
             "#0d0887"
            ],
            [
             0.1111111111111111,
             "#46039f"
            ],
            [
             0.2222222222222222,
             "#7201a8"
            ],
            [
             0.3333333333333333,
             "#9c179e"
            ],
            [
             0.4444444444444444,
             "#bd3786"
            ],
            [
             0.5555555555555556,
             "#d8576b"
            ],
            [
             0.6666666666666666,
             "#ed7953"
            ],
            [
             0.7777777777777778,
             "#fb9f3a"
            ],
            [
             0.8888888888888888,
             "#fdca26"
            ],
            [
             1,
             "#f0f921"
            ]
           ]
          },
          "colorway": [
           "#636efa",
           "#EF553B",
           "#00cc96",
           "#ab63fa",
           "#FFA15A",
           "#19d3f3",
           "#FF6692",
           "#B6E880",
           "#FF97FF",
           "#FECB52"
          ],
          "font": {
           "color": "#2a3f5f"
          },
          "geo": {
           "bgcolor": "white",
           "lakecolor": "white",
           "landcolor": "#E5ECF6",
           "showlakes": true,
           "showland": true,
           "subunitcolor": "white"
          },
          "hoverlabel": {
           "align": "left"
          },
          "hovermode": "closest",
          "mapbox": {
           "style": "light"
          },
          "paper_bgcolor": "white",
          "plot_bgcolor": "#E5ECF6",
          "polar": {
           "angularaxis": {
            "gridcolor": "white",
            "linecolor": "white",
            "ticks": ""
           },
           "bgcolor": "#E5ECF6",
           "radialaxis": {
            "gridcolor": "white",
            "linecolor": "white",
            "ticks": ""
           }
          },
          "scene": {
           "xaxis": {
            "backgroundcolor": "#E5ECF6",
            "gridcolor": "white",
            "gridwidth": 2,
            "linecolor": "white",
            "showbackground": true,
            "ticks": "",
            "zerolinecolor": "white"
           },
           "yaxis": {
            "backgroundcolor": "#E5ECF6",
            "gridcolor": "white",
            "gridwidth": 2,
            "linecolor": "white",
            "showbackground": true,
            "ticks": "",
            "zerolinecolor": "white"
           },
           "zaxis": {
            "backgroundcolor": "#E5ECF6",
            "gridcolor": "white",
            "gridwidth": 2,
            "linecolor": "white",
            "showbackground": true,
            "ticks": "",
            "zerolinecolor": "white"
           }
          },
          "shapedefaults": {
           "line": {
            "color": "#2a3f5f"
           }
          },
          "ternary": {
           "aaxis": {
            "gridcolor": "white",
            "linecolor": "white",
            "ticks": ""
           },
           "baxis": {
            "gridcolor": "white",
            "linecolor": "white",
            "ticks": ""
           },
           "bgcolor": "#E5ECF6",
           "caxis": {
            "gridcolor": "white",
            "linecolor": "white",
            "ticks": ""
           }
          },
          "title": {
           "x": 0.05
          },
          "xaxis": {
           "automargin": true,
           "gridcolor": "white",
           "linecolor": "white",
           "ticks": "",
           "title": {
            "standoff": 15
           },
           "zerolinecolor": "white",
           "zerolinewidth": 2
          },
          "yaxis": {
           "automargin": true,
           "gridcolor": "white",
           "linecolor": "white",
           "ticks": "",
           "title": {
            "standoff": 15
           },
           "zerolinecolor": "white",
           "zerolinewidth": 2
          }
         }
        },
        "title": {
         "text": "\"Macro Fused: probempi vs nonprobempi\" GFlops Measurement"
        },
        "xaxis": {
         "ticks": "outside",
         "title": {
          "text": "Dirc_Data_Mov"
         }
        },
        "yaxis": {
         "ticks": "outside",
         "title": {
          "text": "GFLOPs/Node"
         }
        }
       }
      },
      "text/html": [
       "<div>                            <div id=\"07b03ec8-530b-406c-abfe-b66552a450a1\" class=\"plotly-graph-div\" style=\"height:525px; width:100%;\"></div>            <script type=\"text/javascript\">                require([\"plotly\"], function(Plotly) {                    window.PLOTLYENV=window.PLOTLYENV || {};                                    if (document.getElementById(\"07b03ec8-530b-406c-abfe-b66552a450a1\")) {                    Plotly.newPlot(                        \"07b03ec8-530b-406c-abfe-b66552a450a1\",                        [{\"line\":{\"color\":\"darkcyan\",\"width\":3},\"marker\":{\"line\":{\"color\":\"yellow\",\"width\":1},\"size\":9,\"symbol\":\"hexagon\"},\"mode\":\"lines+markers\",\"name\":\"MacFusProb_32mpi_4omp\",\"x\":[50331648.0,62914560.0,75497472.0,88080384.0,100663296.0,113246208.0,125829120.0,138412032.0,150994944.0,163577856.0,176160768.0,188743680.0,201326592.0,213909504.0,226492416.0,239075328.0,251658240.0,264241152.0,276824064.0,289406976.0,301989888.0,314572800.0,327155712.0,339738624.0,352321536.0,364904448.0,377487360.0,390070272.0,402653184.0],\"y\":[48.99656,51.5272,54.05216,57.12592,57.21072,58.33072,58.62104,58.72488,58.51352,55.61024,54.34272,52.81896,50.42568,48.8848,47.73736,45.82648,43.29752,43.27584,42.43848,41.91088,41.63432,41.54664,41.34864,41.18056,41.03664,40.92696,40.46024,40.79632,40.48272],\"type\":\"scatter\"},{\"line\":{\"color\":\"magenta\",\"width\":3},\"marker\":{\"line\":{\"color\":\"yellow\",\"width\":1},\"size\":9,\"symbol\":\"hexagon\"},\"mode\":\"lines+markers\",\"name\":\"MacFusNonProb_32mpi_4omp\",\"x\":[50331648.0,62914560.0,75497472.0,88080384.0,100663296.0,113246208.0,125829120.0,138412032.0,150994944.0,163577856.0,176160768.0,188743680.0,201326592.0,213909504.0,226492416.0,239075328.0,251658240.0,264241152.0,276824064.0,289406976.0,301989888.0,314572800.0,327155712.0,339738624.0,352321536.0,364904448.0,377487360.0,390070272.0,402653184.0],\"y\":[50.35896,54.59176,57.16856,59.6992,62.66256,63.26608,71.60176,64.274,64.12904,63.19472,62.75336,58.85424,58.24288,56.2036,50.66808,51.96576,49.53872,48.38608,47.56392,46.97392,45.90216,45.20528,44.61336,44.05936,43.93584,43.85592,43.42128,43.33432,42.90344],\"type\":\"scatter\"},{\"line\":{\"color\":\"royalblue\",\"width\":3},\"marker\":{\"line\":{\"color\":\"MediumPurple\",\"width\":2},\"size\":5,\"symbol\":\"diamond\"},\"mode\":\"lines+markers\",\"name\":\"MacFusProb_40mpi_3omp\",\"x\":[62914560.0,94371840.0,125829120.0,157286400.0,188743680.0,220200960.0,251658240.0,283115520.0,314572800.0,346030080.0,377487360.0],\"y\":[47.345800000000004,54.620400000000004,52.4239,45.716,39.814,36.2489,35.922,35.3404,34.705400000000004,35.8889,35.0161],\"type\":\"scatter\"},{\"line\":{\"color\":\"sandybrown\",\"width\":3},\"marker\":{\"line\":{\"color\":\"MediumPurple\",\"width\":2},\"size\":5,\"symbol\":\"diamond\"},\"mode\":\"lines+markers\",\"name\":\"MacFusNonProb_40mpi_3omp\",\"x\":[62914560.0,94371840.0,125829120.0,157286400.0,188743680.0,220200960.0,251658240.0,283115520.0,314572800.0,346030080.0,377487360.0],\"y\":[49.911,58.5772,57.442,50.7385,45.7592,39.8515,37.787099999999995,37.3195,38.418,37.4015,37.6433],\"type\":\"scatter\"},{\"line\":{\"color\":\"darkblue\",\"width\":3},\"marker\":{\"line\":{\"color\":\"tomato\",\"width\":2},\"size\":7,\"symbol\":\"circle\"},\"mode\":\"lines+markers\",\"name\":\"MacFusProb_56mpi_2omp\",\"x\":[88080384.0,132120576.0,176160768.0,220200960.0,264241152.0,308281344.0,352321536.0,396361728.0],\"y\":[53.02948,53.0019,48.4127,42.89474,42.0098,40.39,39.3302,38.8318],\"type\":\"scatter\"},{\"line\":{\"color\":\"cyan\",\"width\":3},\"marker\":{\"line\":{\"color\":\"Purple\",\"width\":2},\"size\":7,\"symbol\":\"circle\"},\"mode\":\"lines+markers\",\"name\":\"MacFusnonProb_56mpi_2omp\",\"x\":[88080384.0,132120576.0,176160768.0,220200960.0,264241152.0,308281344.0,352321536.0,396361728.0],\"y\":[54.6644,64.80264,51.61184,47.68218,44.44006,42.4249,40.800900000000006,40.0162],\"type\":\"scatter\"},{\"line\":{\"color\":\"blue\",\"width\":3},\"marker\":{\"line\":{\"color\":\"black\",\"width\":1},\"size\":7,\"symbol\":\"star\"},\"mode\":\"lines+markers\",\"name\":\"MacFusProb_64mpi_2omp\",\"x\":[100663296.0,125829120.0,150994944.0,176160768.0,201326592.0,226492416.0,251658240.0,276824064.0,301989888.0,327155712.0,352321536.0,377487360.0,402653184.0],\"y\":[65.39104,68.1152,63.64768,61.62048,56.81424,53.92,49.75184,48.0632,48.12816,47.01888,46.28912,46.17376,45.52992],\"type\":\"scatter\"},{\"line\":{\"color\":\"red\",\"width\":3},\"marker\":{\"line\":{\"color\":\"black\",\"width\":1},\"size\":7,\"symbol\":\"star\"},\"mode\":\"lines+markers\",\"name\":\"MacFusnonProb_64mpi_2omp\",\"x\":[100663296.0,125829120.0,150994944.0,176160768.0,201326592.0,226492416.0,251658240.0,276824064.0,301989888.0,327155712.0,352321536.0,377487360.0,402653184.0],\"y\":[69.76064,71.0336,74.8272,64.49504,65.23136,57.78272,56.00208,51.01968,50.80784,50.56048,47.15792,44.48064,47.37024],\"type\":\"scatter\"},{\"line\":{\"color\":\"chartreuse\",\"width\":3},\"marker\":{\"line\":{\"color\":\"mediumvioletred\",\"width\":1},\"size\":7,\"symbol\":\"square-dot\"},\"mode\":\"lines+markers\",\"name\":\"MacFusProb_112mpi_1omp\",\"x\":[176160768.0,220200960.0,264241152.0,308281344.0,352321536.0,396361728.0],\"y\":[42.511,41.309520000000006,39.980920000000005,38.65596,37.65804,36.94964],\"type\":\"scatter\"},{\"line\":{\"color\":\"black\",\"width\":3},\"marker\":{\"line\":{\"color\":\"mediumvioletred\",\"width\":1},\"size\":7,\"symbol\":\"square-dot\"},\"mode\":\"lines+markers\",\"name\":\"MacFusnonProb_112mpi_1omp\",\"x\":[176160768.0,220200960.0,264241152.0,308281344.0,352321536.0,396361728.0],\"y\":[47.0134,42.553839999999994,41.27312,40.34604,40.09572,38.9886],\"type\":\"scatter\"},{\"line\":{\"color\":\"gold\",\"width\":3},\"marker\":{\"line\":{\"color\":\"black\",\"width\":1},\"size\":6,\"symbol\":\"triangle-up\"},\"mode\":\"lines+markers\",\"name\":\"MacFusProb_128mpi_1omp\",\"x\":[201326592.0,251658240.0,301989888.0,352321536.0,402653184.0],\"y\":[53.12512,46.75712,45.91616,44.8864,43.90272],\"type\":\"scatter\"},{\"line\":{\"color\":\"dimgray\",\"width\":3},\"marker\":{\"line\":{\"color\":\"black\",\"width\":1},\"size\":6,\"symbol\":\"triangle-up\"},\"mode\":\"lines+markers\",\"name\":\"MacFusnonProb_128mpi_1omp\",\"x\":[201326592.0,251658240.0,301989888.0,352321536.0,402653184.0],\"y\":[54.75456,49.61088,47.93632,46.88896,46.12608],\"type\":\"scatter\"}],                        {\"template\":{\"data\":{\"histogram2dcontour\":[{\"type\":\"histogram2dcontour\",\"colorbar\":{\"outlinewidth\":0,\"ticks\":\"\"},\"colorscale\":[[0.0,\"#0d0887\"],[0.1111111111111111,\"#46039f\"],[0.2222222222222222,\"#7201a8\"],[0.3333333333333333,\"#9c179e\"],[0.4444444444444444,\"#bd3786\"],[0.5555555555555556,\"#d8576b\"],[0.6666666666666666,\"#ed7953\"],[0.7777777777777778,\"#fb9f3a\"],[0.8888888888888888,\"#fdca26\"],[1.0,\"#f0f921\"]]}],\"choropleth\":[{\"type\":\"choropleth\",\"colorbar\":{\"outlinewidth\":0,\"ticks\":\"\"}}],\"histogram2d\":[{\"type\":\"histogram2d\",\"colorbar\":{\"outlinewidth\":0,\"ticks\":\"\"},\"colorscale\":[[0.0,\"#0d0887\"],[0.1111111111111111,\"#46039f\"],[0.2222222222222222,\"#7201a8\"],[0.3333333333333333,\"#9c179e\"],[0.4444444444444444,\"#bd3786\"],[0.5555555555555556,\"#d8576b\"],[0.6666666666666666,\"#ed7953\"],[0.7777777777777778,\"#fb9f3a\"],[0.8888888888888888,\"#fdca26\"],[1.0,\"#f0f921\"]]}],\"heatmap\":[{\"type\":\"heatmap\",\"colorbar\":{\"outlinewidth\":0,\"ticks\":\"\"},\"colorscale\":[[0.0,\"#0d0887\"],[0.1111111111111111,\"#46039f\"],[0.2222222222222222,\"#7201a8\"],[0.3333333333333333,\"#9c179e\"],[0.4444444444444444,\"#bd3786\"],[0.5555555555555556,\"#d8576b\"],[0.6666666666666666,\"#ed7953\"],[0.7777777777777778,\"#fb9f3a\"],[0.8888888888888888,\"#fdca26\"],[1.0,\"#f0f921\"]]}],\"heatmapgl\":[{\"type\":\"heatmapgl\",\"colorbar\":{\"outlinewidth\":0,\"ticks\":\"\"},\"colorscale\":[[0.0,\"#0d0887\"],[0.1111111111111111,\"#46039f\"],[0.2222222222222222,\"#7201a8\"],[0.3333333333333333,\"#9c179e\"],[0.4444444444444444,\"#bd3786\"],[0.5555555555555556,\"#d8576b\"],[0.6666666666666666,\"#ed7953\"],[0.7777777777777778,\"#fb9f3a\"],[0.8888888888888888,\"#fdca26\"],[1.0,\"#f0f921\"]]}],\"contourcarpet\":[{\"type\":\"contourcarpet\",\"colorbar\":{\"outlinewidth\":0,\"ticks\":\"\"}}],\"contour\":[{\"type\":\"contour\",\"colorbar\":{\"outlinewidth\":0,\"ticks\":\"\"},\"colorscale\":[[0.0,\"#0d0887\"],[0.1111111111111111,\"#46039f\"],[0.2222222222222222,\"#7201a8\"],[0.3333333333333333,\"#9c179e\"],[0.4444444444444444,\"#bd3786\"],[0.5555555555555556,\"#d8576b\"],[0.6666666666666666,\"#ed7953\"],[0.7777777777777778,\"#fb9f3a\"],[0.8888888888888888,\"#fdca26\"],[1.0,\"#f0f921\"]]}],\"surface\":[{\"type\":\"surface\",\"colorbar\":{\"outlinewidth\":0,\"ticks\":\"\"},\"colorscale\":[[0.0,\"#0d0887\"],[0.1111111111111111,\"#46039f\"],[0.2222222222222222,\"#7201a8\"],[0.3333333333333333,\"#9c179e\"],[0.4444444444444444,\"#bd3786\"],[0.5555555555555556,\"#d8576b\"],[0.6666666666666666,\"#ed7953\"],[0.7777777777777778,\"#fb9f3a\"],[0.8888888888888888,\"#fdca26\"],[1.0,\"#f0f921\"]]}],\"mesh3d\":[{\"type\":\"mesh3d\",\"colorbar\":{\"outlinewidth\":0,\"ticks\":\"\"}}],\"scatter\":[{\"fillpattern\":{\"fillmode\":\"overlay\",\"size\":10,\"solidity\":0.2},\"type\":\"scatter\"}],\"parcoords\":[{\"type\":\"parcoords\",\"line\":{\"colorbar\":{\"outlinewidth\":0,\"ticks\":\"\"}}}],\"scatterpolargl\":[{\"type\":\"scatterpolargl\",\"marker\":{\"colorbar\":{\"outlinewidth\":0,\"ticks\":\"\"}}}],\"bar\":[{\"error_x\":{\"color\":\"#2a3f5f\"},\"error_y\":{\"color\":\"#2a3f5f\"},\"marker\":{\"line\":{\"color\":\"#E5ECF6\",\"width\":0.5},\"pattern\":{\"fillmode\":\"overlay\",\"size\":10,\"solidity\":0.2}},\"type\":\"bar\"}],\"scattergeo\":[{\"type\":\"scattergeo\",\"marker\":{\"colorbar\":{\"outlinewidth\":0,\"ticks\":\"\"}}}],\"scatterpolar\":[{\"type\":\"scatterpolar\",\"marker\":{\"colorbar\":{\"outlinewidth\":0,\"ticks\":\"\"}}}],\"histogram\":[{\"marker\":{\"pattern\":{\"fillmode\":\"overlay\",\"size\":10,\"solidity\":0.2}},\"type\":\"histogram\"}],\"scattergl\":[{\"type\":\"scattergl\",\"marker\":{\"colorbar\":{\"outlinewidth\":0,\"ticks\":\"\"}}}],\"scatter3d\":[{\"type\":\"scatter3d\",\"line\":{\"colorbar\":{\"outlinewidth\":0,\"ticks\":\"\"}},\"marker\":{\"colorbar\":{\"outlinewidth\":0,\"ticks\":\"\"}}}],\"scattermapbox\":[{\"type\":\"scattermapbox\",\"marker\":{\"colorbar\":{\"outlinewidth\":0,\"ticks\":\"\"}}}],\"scatterternary\":[{\"type\":\"scatterternary\",\"marker\":{\"colorbar\":{\"outlinewidth\":0,\"ticks\":\"\"}}}],\"scattercarpet\":[{\"type\":\"scattercarpet\",\"marker\":{\"colorbar\":{\"outlinewidth\":0,\"ticks\":\"\"}}}],\"carpet\":[{\"aaxis\":{\"endlinecolor\":\"#2a3f5f\",\"gridcolor\":\"white\",\"linecolor\":\"white\",\"minorgridcolor\":\"white\",\"startlinecolor\":\"#2a3f5f\"},\"baxis\":{\"endlinecolor\":\"#2a3f5f\",\"gridcolor\":\"white\",\"linecolor\":\"white\",\"minorgridcolor\":\"white\",\"startlinecolor\":\"#2a3f5f\"},\"type\":\"carpet\"}],\"table\":[{\"cells\":{\"fill\":{\"color\":\"#EBF0F8\"},\"line\":{\"color\":\"white\"}},\"header\":{\"fill\":{\"color\":\"#C8D4E3\"},\"line\":{\"color\":\"white\"}},\"type\":\"table\"}],\"barpolar\":[{\"marker\":{\"line\":{\"color\":\"#E5ECF6\",\"width\":0.5},\"pattern\":{\"fillmode\":\"overlay\",\"size\":10,\"solidity\":0.2}},\"type\":\"barpolar\"}],\"pie\":[{\"automargin\":true,\"type\":\"pie\"}]},\"layout\":{\"autotypenumbers\":\"strict\",\"colorway\":[\"#636efa\",\"#EF553B\",\"#00cc96\",\"#ab63fa\",\"#FFA15A\",\"#19d3f3\",\"#FF6692\",\"#B6E880\",\"#FF97FF\",\"#FECB52\"],\"font\":{\"color\":\"#2a3f5f\"},\"hovermode\":\"closest\",\"hoverlabel\":{\"align\":\"left\"},\"paper_bgcolor\":\"white\",\"plot_bgcolor\":\"#E5ECF6\",\"polar\":{\"bgcolor\":\"#E5ECF6\",\"angularaxis\":{\"gridcolor\":\"white\",\"linecolor\":\"white\",\"ticks\":\"\"},\"radialaxis\":{\"gridcolor\":\"white\",\"linecolor\":\"white\",\"ticks\":\"\"}},\"ternary\":{\"bgcolor\":\"#E5ECF6\",\"aaxis\":{\"gridcolor\":\"white\",\"linecolor\":\"white\",\"ticks\":\"\"},\"baxis\":{\"gridcolor\":\"white\",\"linecolor\":\"white\",\"ticks\":\"\"},\"caxis\":{\"gridcolor\":\"white\",\"linecolor\":\"white\",\"ticks\":\"\"}},\"coloraxis\":{\"colorbar\":{\"outlinewidth\":0,\"ticks\":\"\"}},\"colorscale\":{\"sequential\":[[0.0,\"#0d0887\"],[0.1111111111111111,\"#46039f\"],[0.2222222222222222,\"#7201a8\"],[0.3333333333333333,\"#9c179e\"],[0.4444444444444444,\"#bd3786\"],[0.5555555555555556,\"#d8576b\"],[0.6666666666666666,\"#ed7953\"],[0.7777777777777778,\"#fb9f3a\"],[0.8888888888888888,\"#fdca26\"],[1.0,\"#f0f921\"]],\"sequentialminus\":[[0.0,\"#0d0887\"],[0.1111111111111111,\"#46039f\"],[0.2222222222222222,\"#7201a8\"],[0.3333333333333333,\"#9c179e\"],[0.4444444444444444,\"#bd3786\"],[0.5555555555555556,\"#d8576b\"],[0.6666666666666666,\"#ed7953\"],[0.7777777777777778,\"#fb9f3a\"],[0.8888888888888888,\"#fdca26\"],[1.0,\"#f0f921\"]],\"diverging\":[[0,\"#8e0152\"],[0.1,\"#c51b7d\"],[0.2,\"#de77ae\"],[0.3,\"#f1b6da\"],[0.4,\"#fde0ef\"],[0.5,\"#f7f7f7\"],[0.6,\"#e6f5d0\"],[0.7,\"#b8e186\"],[0.8,\"#7fbc41\"],[0.9,\"#4d9221\"],[1,\"#276419\"]]},\"xaxis\":{\"gridcolor\":\"white\",\"linecolor\":\"white\",\"ticks\":\"\",\"title\":{\"standoff\":15},\"zerolinecolor\":\"white\",\"automargin\":true,\"zerolinewidth\":2},\"yaxis\":{\"gridcolor\":\"white\",\"linecolor\":\"white\",\"ticks\":\"\",\"title\":{\"standoff\":15},\"zerolinecolor\":\"white\",\"automargin\":true,\"zerolinewidth\":2},\"scene\":{\"xaxis\":{\"backgroundcolor\":\"#E5ECF6\",\"gridcolor\":\"white\",\"linecolor\":\"white\",\"showbackground\":true,\"ticks\":\"\",\"zerolinecolor\":\"white\",\"gridwidth\":2},\"yaxis\":{\"backgroundcolor\":\"#E5ECF6\",\"gridcolor\":\"white\",\"linecolor\":\"white\",\"showbackground\":true,\"ticks\":\"\",\"zerolinecolor\":\"white\",\"gridwidth\":2},\"zaxis\":{\"backgroundcolor\":\"#E5ECF6\",\"gridcolor\":\"white\",\"linecolor\":\"white\",\"showbackground\":true,\"ticks\":\"\",\"zerolinecolor\":\"white\",\"gridwidth\":2}},\"shapedefaults\":{\"line\":{\"color\":\"#2a3f5f\"}},\"annotationdefaults\":{\"arrowcolor\":\"#2a3f5f\",\"arrowhead\":0,\"arrowwidth\":1},\"geo\":{\"bgcolor\":\"white\",\"landcolor\":\"#E5ECF6\",\"subunitcolor\":\"white\",\"showland\":true,\"showlakes\":true,\"lakecolor\":\"white\"},\"title\":{\"x\":0.05},\"mapbox\":{\"style\":\"light\"}}},\"shapes\":[{\"line\":{\"color\":\"green\",\"dash\":\"dash\",\"width\":3},\"type\":\"line\",\"x0\":80000000.0,\"x1\":80000000.0,\"xref\":\"x\",\"y0\":0,\"y1\":1,\"yref\":\"y domain\"}],\"annotations\":[{\"align\":\"left\",\"arrowcolor\":\"#636363\",\"arrowhead\":1,\"arrowsize\":1,\"arrowwidth\":2,\"ax\":-20,\"ay\":-30,\"font\":{\"color\":\"purple\",\"family\":\"Sans Serif\",\"size\":12},\"showarrow\":false,\"text\":\"LLC Size Per Node\",\"x\":\"80e6\",\"y\":130,\"yanchor\":\"bottom\"}],\"xaxis\":{\"title\":{\"text\":\"Dirc_Data_Mov\"},\"ticks\":\"outside\"},\"yaxis\":{\"title\":{\"text\":\"GFLOPs/Node\"},\"ticks\":\"outside\"},\"title\":{\"text\":\"\\\"Macro Fused: probempi vs nonprobempi\\\" GFlops Measurement\"}},                        {\"responsive\": true}                    ).then(function(){\n",
       "                            \n",
       "var gd = document.getElementById('07b03ec8-530b-406c-abfe-b66552a450a1');\n",
       "var x = new MutationObserver(function (mutations, observer) {{\n",
       "        var display = window.getComputedStyle(gd).display;\n",
       "        if (!display || display === 'none') {{\n",
       "            console.log([gd, 'removed!']);\n",
       "            Plotly.purge(gd);\n",
       "            observer.disconnect();\n",
       "        }}\n",
       "}});\n",
       "\n",
       "// Listen for the removal of the full notebook cells\n",
       "var notebookContainer = gd.closest('#notebook-container');\n",
       "if (notebookContainer) {{\n",
       "    x.observe(notebookContainer, {childList: true});\n",
       "}}\n",
       "\n",
       "// Listen for the clearing of the current output cell\n",
       "var outputEl = gd.closest('.output');\n",
       "if (outputEl) {{\n",
       "    x.observe(outputEl, {childList: true});\n",
       "}}\n",
       "\n",
       "                        })                };                });            </script>        </div>"
      ]
     },
     "metadata": {},
     "output_type": "display_data"
    }
   ],
   "source": [
    "fig = go.Figure() \n",
    "\n",
    "# 1----\n",
    "fig.add_trace(go.Scatter(x=(dfMacFusProb_32mpi_4omp.Dirc_Data_Mov*(dfMacFusProb_32mpi_4omp.MPI_size/4)), \n",
    "                         y=(dfMacFusProb_32mpi_4omp.GFLOPS*(dfMacFusProb_32mpi_4omp.MPI_size/4)), \n",
    "                         mode='lines+markers', \n",
    "                         name='MacFusProb_32mpi_4omp',\n",
    "                         line=dict(color='darkcyan',width=3),\n",
    "                         marker=dict(symbol='hexagon',size=9, line=dict(color='yellow',width=1))))\n",
    "\n",
    "fig.add_trace(go.Scatter(x=(dfMacFusNonProb_32mpi_4omp.Dirc_Data_Mov*(dfMacFusNonProb_32mpi_4omp.MPI_size/4)), \n",
    "                         y=(dfMacFusNonProb_32mpi_4omp.GFLOPS*(dfMacFusNonProb_32mpi_4omp.MPI_size/4)), \n",
    "                         mode='lines+markers', \n",
    "                         name='MacFusNonProb_32mpi_4omp',\n",
    "                         line=dict(color='magenta',width=3),\n",
    "                         marker=dict(symbol='hexagon',size=9, line=dict(color='yellow',width=1))))\n",
    "\n",
    "\n",
    "# 2----\n",
    "fig.add_trace(go.Scatter(x=(dfMacFusProb_40mpi_3omp.Dirc_Data_Mov*(dfMacFusProb_40mpi_3omp.MPI_size/4)), \n",
    "                         y=(dfMacFusProb_40mpi_3omp.GFLOPS*(dfMacFusProb_40mpi_3omp.MPI_size/4)), \n",
    "                         mode='lines+markers', \n",
    "                         name='MacFusProb_40mpi_3omp',\n",
    "                         line=dict(color='royalblue',width=3),\n",
    "                         marker=dict(symbol='diamond',size=5,line=dict(color='MediumPurple',width=2))))\n",
    "\n",
    "fig.add_trace(go.Scatter(x=(dfMacFusNonProb_40mpi_3omp.Dirc_Data_Mov*(dfMacFusNonProb_40mpi_3omp.MPI_size/4)), \n",
    "                         y=(dfMacFusNonProb_40mpi_3omp.GFLOPS*(dfMacFusNonProb_40mpi_3omp.MPI_size/4)), \n",
    "                         mode='lines+markers', \n",
    "                         name='MacFusNonProb_40mpi_3omp',\n",
    "                         line=dict(color='sandybrown',width=3),\n",
    "                         marker=dict(symbol='diamond',size=5,line=dict(color='MediumPurple',width=2))))\n",
    "\n",
    "\n",
    "# 3----\n",
    "fig.add_trace(go.Scatter(x=(dfMacFusProb_56mpi_2omp.Dirc_Data_Mov*(dfMacFusProb_56mpi_2omp.MPI_size/4)), \n",
    "                         y=(dfMacFusProb_56mpi_2omp.GFLOPS*(dfMacFusProb_56mpi_2omp.MPI_size/4)), \n",
    "                         mode='lines+markers', \n",
    "                         name='MacFusProb_56mpi_2omp',\n",
    "                         line=dict(color='darkblue',width=3),\n",
    "                         marker=dict(symbol='circle',size=7, line=dict(color='tomato',width=2))))\n",
    "\n",
    "fig.add_trace(go.Scatter(x=(dfMacFusnonProb_56mpi_2omp.Dirc_Data_Mov*(dfMacFusnonProb_56mpi_2omp.MPI_size/4)), \n",
    "                         y=(dfMacFusnonProb_56mpi_2omp.GFLOPS*(dfMacFusnonProb_56mpi_2omp.MPI_size/4)), \n",
    "                         mode='lines+markers', \n",
    "                         name='MacFusnonProb_56mpi_2omp',\n",
    "                         line=dict(color='cyan',width=3),\n",
    "                         marker=dict(symbol='circle',size=7,line=dict(color='Purple',width=2))))\n",
    "\n",
    "\n",
    "\n",
    "# 4----\n",
    "fig.add_trace(go.Scatter(x=(dfMacFusProb_64mpi_2omp.Dirc_Data_Mov*(dfMacFusProb_64mpi_2omp.MPI_size/4)), \n",
    "                         y=(dfMacFusProb_64mpi_2omp.GFLOPS*(dfMacFusProb_64mpi_2omp.MPI_size/4)), \n",
    "                         mode='lines+markers', \n",
    "                         name='MacFusProb_64mpi_2omp',\n",
    "                         line=dict(color='blue',width=3),\n",
    "                         marker=dict(symbol='star',size=7, line=dict(color='black',width=1))))\n",
    "\n",
    "fig.add_trace(go.Scatter(x=(dfMacFusnonProb_64mpi_2omp.Dirc_Data_Mov*(dfMacFusnonProb_64mpi_2omp.MPI_size/4)), \n",
    "                         y=(dfMacFusnonProb_64mpi_2omp.GFLOPS*(dfMacFusnonProb_64mpi_2omp.MPI_size/4)), \n",
    "                         mode='lines+markers', \n",
    "                         name='MacFusnonProb_64mpi_2omp',\n",
    "                         line=dict(color='red',width=3),\n",
    "                         marker=dict(symbol='star',size=7, line=dict(color='black',width=1))))\n",
    "\n",
    "\n",
    "# 5----\n",
    "fig.add_trace(go.Scatter(x=(dfMacFusProb_112mpi_1omp.Dirc_Data_Mov*(dfMacFusProb_112mpi_1omp.MPI_size/4)), \n",
    "                         y=(dfMacFusProb_112mpi_1omp.GFLOPS*(dfMacFusProb_112mpi_1omp.MPI_size/4)), \n",
    "                         mode='lines+markers', \n",
    "                         name='MacFusProb_112mpi_1omp',\n",
    "                         line=dict(color='chartreuse',width=3),\n",
    "                         marker=dict(symbol='square-dot',size=7, line=dict(color='mediumvioletred',width=1))))\n",
    "\n",
    "fig.add_trace(go.Scatter(x=(dfMacFusnonProb_112mpi_1omp.Dirc_Data_Mov*(dfMacFusnonProb_112mpi_1omp.MPI_size/4)), \n",
    "                         y=(dfMacFusnonProb_112mpi_1omp.GFLOPS*(dfMacFusnonProb_112mpi_1omp.MPI_size/4)), \n",
    "                         mode='lines+markers', \n",
    "                         name='MacFusnonProb_112mpi_1omp',\n",
    "                         line=dict(color='black',width=3),\n",
    "                         marker=dict(symbol='square-dot',size=7, line=dict(color='mediumvioletred',width=1))))\n",
    "\n",
    "\n",
    "# 6----\n",
    "fig.add_trace(go.Scatter(x=(dfMacFusProb_128mpi_1omp.Dirc_Data_Mov*(dfMacFusProb_128mpi_1omp.MPI_size/4)), \n",
    "                         y=(dfMacFusProb_128mpi_1omp.GFLOPS*(dfMacFusProb_128mpi_1omp.MPI_size/4)), \n",
    "                         mode='lines+markers', \n",
    "                         name='MacFusProb_128mpi_1omp',\n",
    "                         line=dict(color='gold',width=3),\n",
    "                         marker=dict(symbol='triangle-up',size=6, line=dict(color='black',width=1))))\n",
    "\n",
    "fig.add_trace(go.Scatter(x=(dfMacFusnonProb_128mpi_1omp.Dirc_Data_Mov*(dfMacFusnonProb_128mpi_1omp.MPI_size/4)), \n",
    "                         y=(dfMacFusnonProb_128mpi_1omp.GFLOPS*(dfMacFusnonProb_128mpi_1omp.MPI_size/4)), \n",
    "                         mode='lines+markers', \n",
    "                         name='MacFusnonProb_128mpi_1omp',\n",
    "                         line=dict(color='dimgray',width=3),\n",
    "                         marker=dict(symbol='triangle-up',size=6, line=dict(color='black',width=1))))\n",
    "\n",
    "\n",
    "\n",
    "# Adding a vertical line\n",
    "fig.add_vline(x=80e6, line_width=3, line_dash=\"dash\", line_color=\"green\")\n",
    "# fig.add_hline(y=1024, line_width=3, line_dash=\"dash\", line_color=\"red\")\n",
    "\n",
    "# Add annotation\n",
    "fig.add_annotation(\n",
    "    x='80e6'\n",
    "    , y=130\n",
    "    , text=f'LLC Size Per Node'\n",
    "    , yanchor='bottom'\n",
    "    , showarrow=False\n",
    "    , arrowhead=1\n",
    "    , arrowsize=1\n",
    "    , arrowwidth=2\n",
    "    , arrowcolor=\"#636363\"\n",
    "    , ax=-20\n",
    "    , ay=-30\n",
    "    , font=dict(size=12, color=\"purple\", family=\"Sans Serif\")\n",
    "    , align=\"left\"\n",
    "    ,)\n",
    "\n",
    "fig.update_layout(title='\"Macro Fused: probempi vs nonprobempi\" GFlops Measurement',\n",
    "                  xaxis_title='Dirc_Data_Mov', yaxis_title='GFLOPs/Node', \n",
    "                  xaxis=dict(ticks=\"outside\"),  \n",
    "                  yaxis=dict(ticks=\"outside\"))"
   ]
  },
  {
   "cell_type": "code",
   "execution_count": null,
   "id": "2edff56d",
   "metadata": {},
   "outputs": [],
   "source": []
  },
  {
   "cell_type": "code",
   "execution_count": null,
   "id": "ec130305",
   "metadata": {},
   "outputs": [],
   "source": []
  },
  {
   "cell_type": "code",
   "execution_count": null,
   "id": "251ec898",
   "metadata": {},
   "outputs": [],
   "source": []
  },
  {
   "cell_type": "code",
   "execution_count": null,
   "id": "21fc95fd",
   "metadata": {},
   "outputs": [],
   "source": []
  },
  {
   "cell_type": "markdown",
   "id": "f6cc3d0b",
   "metadata": {},
   "source": [
    "## 3. macro_nonfused_probempi"
   ]
  },
  {
   "cell_type": "markdown",
   "id": "7781e2a3",
   "metadata": {},
   "source": [
    "### Add Columns"
   ]
  },
  {
   "cell_type": "code",
   "execution_count": 30,
   "id": "44078d6f",
   "metadata": {},
   "outputs": [],
   "source": [
    "df_macro_nonfused_probempi[\"N_Nodes\"] = 4\n",
    "df_macro_nonfused_probempi['NPX'] = (df_macro_nonfused_probempi.GLB_X//df_macro_nonfused_probempi.LOC_X)\n",
    "df_macro_nonfused_probempi['NPY'] = (df_macro_nonfused_probempi.GLB_Y//df_macro_nonfused_probempi.LOC_Y)\n",
    "df_macro_nonfused_probempi['NPZ'] = (df_macro_nonfused_probempi.GLB_Z//df_macro_nonfused_probempi.LOC_Z)\n",
    "df_macro_nonfused_probempi['NPT'] = (df_macro_nonfused_probempi.GLB_T//df_macro_nonfused_probempi.LOC_T)\n",
    "df_macro_nonfused_probempi[\"Total_proc\"] = df_macro_nonfused_probempi[\"omp_thrd\"]* df_macro_nonfused_probempi.MPI_size\n",
    "# df_macro_nonfused_probempi.columns"
   ]
  },
  {
   "cell_type": "markdown",
   "id": "51b70523",
   "metadata": {},
   "source": [
    "### Data Summary"
   ]
  },
  {
   "cell_type": "code",
   "execution_count": 31,
   "id": "bc52bc3d",
   "metadata": {},
   "outputs": [
    {
     "data": {
      "text/html": [
       "<div>\n",
       "<style scoped>\n",
       "    .dataframe tbody tr th:only-of-type {\n",
       "        vertical-align: middle;\n",
       "    }\n",
       "\n",
       "    .dataframe tbody tr th {\n",
       "        vertical-align: top;\n",
       "    }\n",
       "\n",
       "    .dataframe thead th {\n",
       "        text-align: right;\n",
       "    }\n",
       "</style>\n",
       "<table border=\"1\" class=\"dataframe\">\n",
       "  <thead>\n",
       "    <tr style=\"text-align: right;\">\n",
       "      <th></th>\n",
       "      <th>MPI_size</th>\n",
       "      <th>omp_thrd</th>\n",
       "      <th>NPT</th>\n",
       "      <th>NPX</th>\n",
       "      <th>NPY</th>\n",
       "      <th>NPZ</th>\n",
       "      <th>Total_proc</th>\n",
       "      <th>size</th>\n",
       "    </tr>\n",
       "  </thead>\n",
       "  <tbody>\n",
       "    <tr>\n",
       "      <th>0</th>\n",
       "      <td>32</td>\n",
       "      <td>4</td>\n",
       "      <td>4</td>\n",
       "      <td>2</td>\n",
       "      <td>2</td>\n",
       "      <td>2</td>\n",
       "      <td>128</td>\n",
       "      <td>29</td>\n",
       "    </tr>\n",
       "    <tr>\n",
       "      <th>1</th>\n",
       "      <td>40</td>\n",
       "      <td>3</td>\n",
       "      <td>5</td>\n",
       "      <td>2</td>\n",
       "      <td>2</td>\n",
       "      <td>2</td>\n",
       "      <td>120</td>\n",
       "      <td>11</td>\n",
       "    </tr>\n",
       "    <tr>\n",
       "      <th>2</th>\n",
       "      <td>56</td>\n",
       "      <td>2</td>\n",
       "      <td>7</td>\n",
       "      <td>2</td>\n",
       "      <td>2</td>\n",
       "      <td>2</td>\n",
       "      <td>112</td>\n",
       "      <td>8</td>\n",
       "    </tr>\n",
       "    <tr>\n",
       "      <th>3</th>\n",
       "      <td>64</td>\n",
       "      <td>2</td>\n",
       "      <td>8</td>\n",
       "      <td>2</td>\n",
       "      <td>2</td>\n",
       "      <td>2</td>\n",
       "      <td>128</td>\n",
       "      <td>13</td>\n",
       "    </tr>\n",
       "    <tr>\n",
       "      <th>4</th>\n",
       "      <td>104</td>\n",
       "      <td>1</td>\n",
       "      <td>13</td>\n",
       "      <td>2</td>\n",
       "      <td>2</td>\n",
       "      <td>2</td>\n",
       "      <td>104</td>\n",
       "      <td>3</td>\n",
       "    </tr>\n",
       "    <tr>\n",
       "      <th>5</th>\n",
       "      <td>112</td>\n",
       "      <td>1</td>\n",
       "      <td>14</td>\n",
       "      <td>2</td>\n",
       "      <td>2</td>\n",
       "      <td>2</td>\n",
       "      <td>112</td>\n",
       "      <td>6</td>\n",
       "    </tr>\n",
       "    <tr>\n",
       "      <th>6</th>\n",
       "      <td>120</td>\n",
       "      <td>1</td>\n",
       "      <td>15</td>\n",
       "      <td>2</td>\n",
       "      <td>2</td>\n",
       "      <td>2</td>\n",
       "      <td>120</td>\n",
       "      <td>3</td>\n",
       "    </tr>\n",
       "    <tr>\n",
       "      <th>7</th>\n",
       "      <td>128</td>\n",
       "      <td>1</td>\n",
       "      <td>16</td>\n",
       "      <td>2</td>\n",
       "      <td>2</td>\n",
       "      <td>2</td>\n",
       "      <td>128</td>\n",
       "      <td>5</td>\n",
       "    </tr>\n",
       "  </tbody>\n",
       "</table>\n",
       "</div>"
      ],
      "text/plain": [
       "   MPI_size  omp_thrd  NPT  NPX  NPY  NPZ  Total_proc  size\n",
       "0        32         4    4    2    2    2         128    29\n",
       "1        40         3    5    2    2    2         120    11\n",
       "2        56         2    7    2    2    2         112     8\n",
       "3        64         2    8    2    2    2         128    13\n",
       "4       104         1   13    2    2    2         104     3\n",
       "5       112         1   14    2    2    2         112     6\n",
       "6       120         1   15    2    2    2         120     3\n",
       "7       128         1   16    2    2    2         128     5"
      ]
     },
     "execution_count": 31,
     "metadata": {},
     "output_type": "execute_result"
    }
   ],
   "source": [
    "df_macro_nonfused_probempi_summary = df_macro_nonfused_probempi.groupby(['MPI_size','omp_thrd','NPT','NPX', 'NPY', 'NPZ',\"Total_proc\"]).size().reset_index(name = 'size')\n",
    "df_macro_nonfused_probempi_summary"
   ]
  },
  {
   "cell_type": "markdown",
   "id": "77d56dc9",
   "metadata": {},
   "source": [
    "### Case Set up"
   ]
  },
  {
   "cell_type": "code",
   "execution_count": 38,
   "id": "1cd5b994",
   "metadata": {},
   "outputs": [],
   "source": [
    "dfMacNonFusProb_32mpi_4omp = df_macro_nonfused_probempi[(df_macro_nonfused_probempi.omp_thrd == 4) & (df_macro_nonfused_probempi.GLB_T/df_macro_nonfused_probempi.LOC_T == 4) & (df_macro_nonfused_probempi.GLB_X/df_macro_nonfused_probempi.LOC_X == 2) & (df_macro_nonfused_probempi.GLB_Y/df_macro_nonfused_probempi.LOC_Y == 2)& (df_macro_nonfused_probempi.GLB_Z/df_macro_nonfused_probempi.LOC_Z == 2)]\n",
    "dfMacNonFusProb_40mpi_3omp = df_macro_nonfused_probempi[(df_macro_nonfused_probempi.omp_thrd == 3) & (df_macro_nonfused_probempi.GLB_T/df_macro_nonfused_probempi.LOC_T == 5) & (df_macro_nonfused_probempi.GLB_X/df_macro_nonfused_probempi.LOC_X == 2) & (df_macro_nonfused_probempi.GLB_Y/df_macro_nonfused_probempi.LOC_Y == 2)& (df_macro_nonfused_probempi.GLB_Z/df_macro_nonfused_probempi.LOC_Z == 2)]\n",
    "dfMacNonFusProb_56mpi_2omp = df_macro_nonfused_probempi[(df_macro_nonfused_probempi.omp_thrd == 2) & (df_macro_nonfused_probempi.GLB_T/df_macro_nonfused_probempi.LOC_T == 7) & (df_macro_nonfused_probempi.GLB_X/df_macro_nonfused_probempi.LOC_X == 2) & (df_macro_nonfused_probempi.GLB_Y/df_macro_nonfused_probempi.LOC_Y == 2)& (df_macro_nonfused_probempi.GLB_Z/df_macro_nonfused_probempi.LOC_Z == 2)]\n",
    "dfMacNonFusProb_64mpi_2omp = df_macro_nonfused_probempi[(df_macro_nonfused_probempi.omp_thrd == 2) & (df_macro_nonfused_probempi.GLB_T/df_macro_nonfused_probempi.LOC_T == 8) & (df_macro_nonfused_probempi.GLB_X/df_macro_nonfused_probempi.LOC_X == 2) & (df_macro_nonfused_probempi.GLB_Y/df_macro_nonfused_probempi.LOC_Y == 2)& (df_macro_nonfused_probempi.GLB_Z/df_macro_nonfused_probempi.LOC_Z == 2)]\n",
    "dfMacNonFusProb_112mpi_1omp = df_macro_nonfused_probempi[(df_macro_nonfused_probempi.omp_thrd == 1) & (df_macro_nonfused_probempi.GLB_T/df_macro_nonfused_probempi.LOC_T == 14) & (df_macro_nonfused_probempi.GLB_X/df_macro_nonfused_probempi.LOC_X == 2) & (df_macro_nonfused_probempi.GLB_Y/df_macro_nonfused_probempi.LOC_Y == 2)& (df_macro_nonfused_probempi.GLB_Z/df_macro_nonfused_probempi.LOC_Z == 2)]\n",
    "dfMacNonFusProb_128mpi_1omp = df_macro_nonfused_probempi[(df_macro_nonfused_probempi.omp_thrd == 1) & (df_macro_nonfused_probempi.GLB_T/df_macro_nonfused_probempi.LOC_T == 16) & (df_macro_nonfused_probempi.GLB_X/df_macro_nonfused_probempi.LOC_X == 2) & (df_macro_nonfused_probempi.GLB_Y/df_macro_nonfused_probempi.LOC_Y == 2)& (df_macro_nonfused_probempi.GLB_Z/df_macro_nonfused_probempi.LOC_Z == 2)]\n"
   ]
  },
  {
   "cell_type": "code",
   "execution_count": null,
   "id": "c7117d20",
   "metadata": {},
   "outputs": [],
   "source": []
  },
  {
   "cell_type": "markdown",
   "id": "e4a303dd",
   "metadata": {},
   "source": [
    "## 4. macro_nonfused_nonprobempi"
   ]
  },
  {
   "cell_type": "markdown",
   "id": "ba315d41",
   "metadata": {},
   "source": [
    "### Add Columns"
   ]
  },
  {
   "cell_type": "code",
   "execution_count": 56,
   "id": "48baebea",
   "metadata": {},
   "outputs": [],
   "source": [
    "df_macro_nonfused_nonprobempi[\"N_Nodes\"] = 4\n",
    "df_macro_nonfused_nonprobempi['NPX'] = (df_macro_nonfused_nonprobempi.GLB_X//df_macro_nonfused_nonprobempi.LOC_X)\n",
    "df_macro_nonfused_nonprobempi['NPY'] = (df_macro_nonfused_nonprobempi.GLB_Y//df_macro_nonfused_nonprobempi.LOC_Y)\n",
    "df_macro_nonfused_nonprobempi['NPZ'] = (df_macro_nonfused_nonprobempi.GLB_Z//df_macro_nonfused_nonprobempi.LOC_Z)\n",
    "df_macro_nonfused_nonprobempi['NPT'] = (df_macro_nonfused_nonprobempi.GLB_T//df_macro_nonfused_nonprobempi.LOC_T)\n",
    "df_macro_nonfused_nonprobempi[\"Total_proc\"] = df_macro_nonfused_nonprobempi[\"omp_thrd\"]* df_macro_nonfused_nonprobempi.MPI_size\n",
    "# df_macro_nonfused_nonprobempi.columns"
   ]
  },
  {
   "cell_type": "markdown",
   "id": "f9b94e48",
   "metadata": {},
   "source": [
    "### Data Summary"
   ]
  },
  {
   "cell_type": "code",
   "execution_count": 57,
   "id": "2e118e79",
   "metadata": {},
   "outputs": [
    {
     "data": {
      "text/html": [
       "<div>\n",
       "<style scoped>\n",
       "    .dataframe tbody tr th:only-of-type {\n",
       "        vertical-align: middle;\n",
       "    }\n",
       "\n",
       "    .dataframe tbody tr th {\n",
       "        vertical-align: top;\n",
       "    }\n",
       "\n",
       "    .dataframe thead th {\n",
       "        text-align: right;\n",
       "    }\n",
       "</style>\n",
       "<table border=\"1\" class=\"dataframe\">\n",
       "  <thead>\n",
       "    <tr style=\"text-align: right;\">\n",
       "      <th></th>\n",
       "      <th>MPI_size</th>\n",
       "      <th>omp_thrd</th>\n",
       "      <th>NPT</th>\n",
       "      <th>NPX</th>\n",
       "      <th>NPY</th>\n",
       "      <th>NPZ</th>\n",
       "      <th>Total_proc</th>\n",
       "      <th>size</th>\n",
       "    </tr>\n",
       "  </thead>\n",
       "  <tbody>\n",
       "    <tr>\n",
       "      <th>0</th>\n",
       "      <td>32</td>\n",
       "      <td>4</td>\n",
       "      <td>4</td>\n",
       "      <td>2</td>\n",
       "      <td>2</td>\n",
       "      <td>2</td>\n",
       "      <td>128</td>\n",
       "      <td>29</td>\n",
       "    </tr>\n",
       "    <tr>\n",
       "      <th>1</th>\n",
       "      <td>40</td>\n",
       "      <td>3</td>\n",
       "      <td>5</td>\n",
       "      <td>2</td>\n",
       "      <td>2</td>\n",
       "      <td>2</td>\n",
       "      <td>120</td>\n",
       "      <td>11</td>\n",
       "    </tr>\n",
       "    <tr>\n",
       "      <th>2</th>\n",
       "      <td>56</td>\n",
       "      <td>2</td>\n",
       "      <td>7</td>\n",
       "      <td>2</td>\n",
       "      <td>2</td>\n",
       "      <td>2</td>\n",
       "      <td>112</td>\n",
       "      <td>8</td>\n",
       "    </tr>\n",
       "    <tr>\n",
       "      <th>3</th>\n",
       "      <td>64</td>\n",
       "      <td>2</td>\n",
       "      <td>8</td>\n",
       "      <td>2</td>\n",
       "      <td>2</td>\n",
       "      <td>2</td>\n",
       "      <td>128</td>\n",
       "      <td>13</td>\n",
       "    </tr>\n",
       "    <tr>\n",
       "      <th>4</th>\n",
       "      <td>104</td>\n",
       "      <td>1</td>\n",
       "      <td>13</td>\n",
       "      <td>2</td>\n",
       "      <td>2</td>\n",
       "      <td>2</td>\n",
       "      <td>104</td>\n",
       "      <td>3</td>\n",
       "    </tr>\n",
       "    <tr>\n",
       "      <th>5</th>\n",
       "      <td>112</td>\n",
       "      <td>1</td>\n",
       "      <td>14</td>\n",
       "      <td>2</td>\n",
       "      <td>2</td>\n",
       "      <td>2</td>\n",
       "      <td>112</td>\n",
       "      <td>6</td>\n",
       "    </tr>\n",
       "    <tr>\n",
       "      <th>6</th>\n",
       "      <td>120</td>\n",
       "      <td>1</td>\n",
       "      <td>15</td>\n",
       "      <td>2</td>\n",
       "      <td>2</td>\n",
       "      <td>2</td>\n",
       "      <td>120</td>\n",
       "      <td>3</td>\n",
       "    </tr>\n",
       "    <tr>\n",
       "      <th>7</th>\n",
       "      <td>128</td>\n",
       "      <td>1</td>\n",
       "      <td>16</td>\n",
       "      <td>2</td>\n",
       "      <td>2</td>\n",
       "      <td>2</td>\n",
       "      <td>128</td>\n",
       "      <td>5</td>\n",
       "    </tr>\n",
       "  </tbody>\n",
       "</table>\n",
       "</div>"
      ],
      "text/plain": [
       "   MPI_size  omp_thrd  NPT  NPX  NPY  NPZ  Total_proc  size\n",
       "0        32         4    4    2    2    2         128    29\n",
       "1        40         3    5    2    2    2         120    11\n",
       "2        56         2    7    2    2    2         112     8\n",
       "3        64         2    8    2    2    2         128    13\n",
       "4       104         1   13    2    2    2         104     3\n",
       "5       112         1   14    2    2    2         112     6\n",
       "6       120         1   15    2    2    2         120     3\n",
       "7       128         1   16    2    2    2         128     5"
      ]
     },
     "execution_count": 57,
     "metadata": {},
     "output_type": "execute_result"
    }
   ],
   "source": [
    "df_macro_nonfused_nonprobempi_summary = df_macro_nonfused_nonprobempi.groupby(['MPI_size','omp_thrd','NPT','NPX', 'NPY', 'NPZ',\"Total_proc\"]).size().reset_index(name = 'size')\n",
    "df_macro_nonfused_nonprobempi_summary"
   ]
  },
  {
   "cell_type": "markdown",
   "id": "b691979c",
   "metadata": {},
   "source": [
    "### Case Set up"
   ]
  },
  {
   "cell_type": "code",
   "execution_count": 64,
   "id": "8120b64d",
   "metadata": {},
   "outputs": [],
   "source": [
    "dfMacNonFusNonProb_32mpi_4omp = df_macro_nonfused_nonprobempi[(df_macro_nonfused_nonprobempi.omp_thrd == 4) & (df_macro_nonfused_nonprobempi.GLB_T/df_macro_nonfused_nonprobempi.LOC_T == 4) & (df_macro_nonfused_nonprobempi.GLB_X/df_macro_nonfused_nonprobempi.LOC_X == 2) & (df_macro_nonfused_nonprobempi.GLB_Y/df_macro_nonfused_nonprobempi.LOC_Y == 2)& (df_macro_nonfused_nonprobempi.GLB_Z/df_macro_nonfused_nonprobempi.LOC_Z == 2)]\n",
    "dfMacNonFusNonProb_40mpi_3omp = df_macro_nonfused_nonprobempi[(df_macro_nonfused_nonprobempi.omp_thrd == 3) & (df_macro_nonfused_nonprobempi.GLB_T/df_macro_nonfused_nonprobempi.LOC_T == 5) & (df_macro_nonfused_nonprobempi.GLB_X/df_macro_nonfused_nonprobempi.LOC_X == 2) & (df_macro_nonfused_nonprobempi.GLB_Y/df_macro_nonfused_nonprobempi.LOC_Y == 2)& (df_macro_nonfused_nonprobempi.GLB_Z/df_macro_nonfused_nonprobempi.LOC_Z == 2)]\n",
    "dfMacNonFusNonProb_56mpi_2omp = df_macro_nonfused_nonprobempi[(df_macro_nonfused_nonprobempi.omp_thrd == 2) & (df_macro_nonfused_nonprobempi.GLB_T/df_macro_nonfused_nonprobempi.LOC_T == 7) & (df_macro_nonfused_nonprobempi.GLB_X/df_macro_nonfused_nonprobempi.LOC_X == 2) & (df_macro_nonfused_nonprobempi.GLB_Y/df_macro_nonfused_nonprobempi.LOC_Y == 2)& (df_macro_nonfused_nonprobempi.GLB_Z/df_macro_nonfused_nonprobempi.LOC_Z == 2)]\n",
    "dfMacNonFusNonProb_64mpi_2omp = df_macro_nonfused_nonprobempi[(df_macro_nonfused_nonprobempi.omp_thrd == 2) & (df_macro_nonfused_nonprobempi.GLB_T/df_macro_nonfused_nonprobempi.LOC_T == 8) & (df_macro_nonfused_nonprobempi.GLB_X/df_macro_nonfused_nonprobempi.LOC_X == 2) & (df_macro_nonfused_nonprobempi.GLB_Y/df_macro_nonfused_nonprobempi.LOC_Y == 2)& (df_macro_nonfused_nonprobempi.GLB_Z/df_macro_nonfused_nonprobempi.LOC_Z == 2)]\n",
    "dfMacNonFusNonProb_112mpi_1omp = df_macro_nonfused_nonprobempi[(df_macro_nonfused_nonprobempi.omp_thrd == 1) & (df_macro_nonfused_nonprobempi.GLB_T/df_macro_nonfused_nonprobempi.LOC_T == 14) & (df_macro_nonfused_nonprobempi.GLB_X/df_macro_nonfused_nonprobempi.LOC_X == 2) & (df_macro_nonfused_nonprobempi.GLB_Y/df_macro_nonfused_nonprobempi.LOC_Y == 2)& (df_macro_nonfused_nonprobempi.GLB_Z/df_macro_nonfused_nonprobempi.LOC_Z == 2)]\n",
    "dfMacNonFusNonProb_128mpi_1omp = df_macro_nonfused_nonprobempi[(df_macro_nonfused_nonprobempi.omp_thrd == 1) & (df_macro_nonfused_nonprobempi.GLB_T/df_macro_nonfused_nonprobempi.LOC_T == 16) & (df_macro_nonfused_nonprobempi.GLB_X/df_macro_nonfused_nonprobempi.LOC_X == 2) & (df_macro_nonfused_nonprobempi.GLB_Y/df_macro_nonfused_nonprobempi.LOC_Y == 2)& (df_macro_nonfused_nonprobempi.GLB_Z/df_macro_nonfused_nonprobempi.LOC_Z == 2)]\n"
   ]
  },
  {
   "cell_type": "markdown",
   "id": "75ffabe8",
   "metadata": {},
   "source": [
    "## GFLOPS - Macro nonfused: Probempi vs Nonprobempi"
   ]
  },
  {
   "cell_type": "code",
   "execution_count": null,
   "id": "7aab8dcf",
   "metadata": {},
   "outputs": [],
   "source": [
    "fig = go.Figure() \n",
    "\n",
    "# 1----\n",
    "fig.add_trace(go.Scatter(x=(dfMacNonFusProb_32mpi_4omp.Dirc_Data_Mov*(dfMacNonFusProb_32mpi_4omp.MPI_size/2)), \n",
    "                         y=(dfMacNonFusProb_32mpi_4omp.GFLOPS*(dfMacNonFusProb_32mpi_4omp.MPI_size/2)), \n",
    "                         mode='lines+markers', \n",
    "                         name='MacNonFusProb_32mpi_4omp',\n",
    "                         line=dict(color='magenta',width=3),\n",
    "                         marker=dict(symbol='hexagon',size=9, line=dict(color='yellow',width=1))))\n",
    "\n",
    "fig.add_trace(go.Scatter(x=(dfMacNonFusNonProb_32mpi_4omp.Dirc_Data_Mov*(dfMacNonFusNonProb_32mpi_4omp.MPI_size/2)), \n",
    "                         y=(dfMacNonFusNonProb_32mpi_4omp.GFLOPS*(dfMacNonFusNonProb_32mpi_4omp.MPI_size/2)), \n",
    "                         mode='lines+markers', \n",
    "                         name='MacNonFusNonProb_32mpi_4omp',\n",
    "                         line=dict(color='darkcyan',width=3),\n",
    "                         marker=dict(symbol='hexagon',size=9, line=dict(color='yellow',width=1))))\n",
    "\n",
    "\n",
    "# 2----\n",
    "fig.add_trace(go.Scatter(x=(dfMacNonFusProb_32mpi_2omp.Dirc_Data_Mov*(dfMacNonFusProb_32mpi_2omp.MPI_size/2)), \n",
    "                         y=(dfMacNonFusProb_32mpi_2omp.GFLOPS*(dfMacNonFusProb_32mpi_2omp.MPI_size/2)), \n",
    "                         mode='lines+markers', \n",
    "                         name='MacNonFusProb_32mpi_2omp',\n",
    "                         line=dict(color='sandybrown',width=3),\n",
    "                         marker=dict(symbol='diamond',size=5,line=dict(color='MediumPurple',width=2))))\n",
    "\n",
    "fig.add_trace(go.Scatter(x=(dfMacNonFusNonProb_32mpi_2omp.Dirc_Data_Mov*(dfMacNonFusNonProb_32mpi_2omp.MPI_size/2)), \n",
    "                         y=(dfMacNonFusNonProb_32mpi_2omp.GFLOPS*(dfMacNonFusNonProb_32mpi_2omp.MPI_size/2)), \n",
    "                         mode='lines+markers', \n",
    "                         name='MacNonFusNonProb_32mpi_2omp',\n",
    "                         line=dict(color='royalblue',width=3),\n",
    "                         marker=dict(symbol='diamond',size=5,line=dict(color='MediumPurple',width=2))))\n",
    "\n",
    "\n",
    "# 3----\n",
    "fig.add_trace(go.Scatter(x=(dfMacNonFusProb_56mpi_1omp.Dirc_Data_Mov*(dfMacNonFusProb_56mpi_1omp.MPI_size/2)), \n",
    "                         y=(dfMacNonFusProb_56mpi_1omp.GFLOPS*(dfMacNonFusProb_56mpi_1omp.MPI_size/2)), \n",
    "                         mode='lines+markers', \n",
    "                         name='MacNonFusProb_56mpi_1omp',\n",
    "                         line=dict(color='cyan',width=3),\n",
    "                         marker=dict(symbol='circle',size=7,line=dict(color='Purple',width=2))))\n",
    "\n",
    "fig.add_trace(go.Scatter(x=(dfMacNonFusNonProb_56mpi_1omp.Dirc_Data_Mov*(dfMacNonFusNonProb_56mpi_1omp.MPI_size/2)), \n",
    "                         y=(dfMacNonFusNonProb_56mpi_1omp.GFLOPS*(dfMacNonFusNonProb_56mpi_1omp.MPI_size/2)), \n",
    "                         mode='lines+markers', \n",
    "                         name='MacNonFusNonProb_56mpi_1omp',\n",
    "                         line=dict(color='darkblue',width=3),\n",
    "                         marker=dict(symbol='circle',size=7, line=dict(color='tomato',width=2))))\n",
    "\n",
    "# 4----\n",
    "fig.add_trace(go.Scatter(x=(dfMacNonFusProb_64mpi_1omp.Dirc_Data_Mov*(dfMacNonFusProb_64mpi_1omp.MPI_size/2)), \n",
    "                         y=(dfMacNonFusProb_64mpi_1omp.GFLOPS*(dfMacNonFusProb_64mpi_1omp.MPI_size/2)), \n",
    "                         mode='lines+markers', \n",
    "                         name='MacNonFusProb_64mpi_1omp',\n",
    "                         line=dict(color='blue',width=3),\n",
    "                         marker=dict(symbol='star',size=7, line=dict(color='black',width=1))))\n",
    "\n",
    "fig.add_trace(go.Scatter(x=(dfMacNonFusNonProb_64mpi_1omp.Dirc_Data_Mov*(dfMacNonFusNonProb_64mpi_1omp.MPI_size/2)), \n",
    "                         y=(dfMacNonFusNonProb_64mpi_1omp.GFLOPS*(dfMacNonFusNonProb_64mpi_1omp.MPI_size/2)), \n",
    "                         mode='lines+markers', \n",
    "                         name='MacNonFusNonProb_32mpi_1omp',\n",
    "                         line=dict(color='red',width=3),\n",
    "                         marker=dict(symbol='star',size=7, line=dict(color='black',width=1))))\n",
    "\n",
    "# Adding a vertical line\n",
    "fig.add_vline(x=80e6, line_width=3, line_dash=\"dash\", line_color=\"green\")\n",
    "# fig.add_hline(y=1024, line_width=3, line_dash=\"dash\", line_color=\"red\")\n",
    "\n",
    "# Add annotation\n",
    "fig.add_annotation(\n",
    "    x='80e6'\n",
    "    , y=130\n",
    "    , text=f'LLC Size Per Node'\n",
    "    , yanchor='bottom'\n",
    "    , showarrow=False\n",
    "    , arrowhead=1\n",
    "    , arrowsize=1\n",
    "    , arrowwidth=2\n",
    "    , arrowcolor=\"#636363\"\n",
    "    , ax=-20\n",
    "    , ay=-30\n",
    "    , font=dict(size=12, color=\"purple\", family=\"Sans Serif\")\n",
    "    , align=\"left\"\n",
    "    ,)\n",
    "\n",
    "fig.update_layout(title='\"Macro nonfused: Probempi vs Nonprobempi\" GFlops Measurement',\n",
    "                  xaxis_title='Dirc_Data_Mov', yaxis_title='GFLOPs/Node', \n",
    "                  xaxis=dict(ticks=\"outside\"),  \n",
    "                  yaxis=dict(ticks=\"outside\"))"
   ]
  },
  {
   "cell_type": "code",
   "execution_count": null,
   "id": "9e1f7490",
   "metadata": {},
   "outputs": [],
   "source": []
  },
  {
   "cell_type": "code",
   "execution_count": null,
   "id": "bab1154c",
   "metadata": {},
   "outputs": [],
   "source": []
  },
  {
   "cell_type": "code",
   "execution_count": null,
   "id": "35fa0705",
   "metadata": {},
   "outputs": [],
   "source": []
  },
  {
   "cell_type": "code",
   "execution_count": null,
   "id": "4cd7a198",
   "metadata": {},
   "outputs": [],
   "source": []
  },
  {
   "cell_type": "markdown",
   "id": "d59429e1",
   "metadata": {},
   "source": [
    "## 5. macro_newgeo_probempi"
   ]
  },
  {
   "cell_type": "markdown",
   "id": "cb27d7a8",
   "metadata": {},
   "source": [
    "### Add Columns"
   ]
  },
  {
   "cell_type": "code",
   "execution_count": 39,
   "id": "4cfc3ddf",
   "metadata": {},
   "outputs": [],
   "source": [
    "df_macro_newgeo_probempi[\"N_Nodes\"] = 4\n",
    "df_macro_newgeo_probempi['NPX'] = (df_macro_newgeo_probempi.GLB_X//df_macro_newgeo_probempi.LOC_X)\n",
    "df_macro_newgeo_probempi['NPY'] = (df_macro_newgeo_probempi.GLB_Y//df_macro_newgeo_probempi.LOC_Y)\n",
    "df_macro_newgeo_probempi['NPZ'] = (df_macro_newgeo_probempi.GLB_Z//df_macro_newgeo_probempi.LOC_Z)\n",
    "df_macro_newgeo_probempi['NPT'] = (df_macro_newgeo_probempi.GLB_T//df_macro_newgeo_probempi.LOC_T)\n",
    "df_macro_newgeo_probempi[\"Total_proc\"] = df_macro_newgeo_probempi[\"omp_thrd\"]* df_macro_newgeo_probempi.MPI_size\n",
    "# df_macro_newgeo_probempi.columns"
   ]
  },
  {
   "cell_type": "markdown",
   "id": "30f58d78",
   "metadata": {},
   "source": [
    "### Data Summary"
   ]
  },
  {
   "cell_type": "code",
   "execution_count": 40,
   "id": "d2e191e9",
   "metadata": {},
   "outputs": [
    {
     "data": {
      "text/html": [
       "<div>\n",
       "<style scoped>\n",
       "    .dataframe tbody tr th:only-of-type {\n",
       "        vertical-align: middle;\n",
       "    }\n",
       "\n",
       "    .dataframe tbody tr th {\n",
       "        vertical-align: top;\n",
       "    }\n",
       "\n",
       "    .dataframe thead th {\n",
       "        text-align: right;\n",
       "    }\n",
       "</style>\n",
       "<table border=\"1\" class=\"dataframe\">\n",
       "  <thead>\n",
       "    <tr style=\"text-align: right;\">\n",
       "      <th></th>\n",
       "      <th>MPI_size</th>\n",
       "      <th>omp_thrd</th>\n",
       "      <th>NPT</th>\n",
       "      <th>NPX</th>\n",
       "      <th>NPY</th>\n",
       "      <th>NPZ</th>\n",
       "      <th>Total_proc</th>\n",
       "      <th>size</th>\n",
       "    </tr>\n",
       "  </thead>\n",
       "  <tbody>\n",
       "    <tr>\n",
       "      <th>0</th>\n",
       "      <td>32</td>\n",
       "      <td>4</td>\n",
       "      <td>4</td>\n",
       "      <td>2</td>\n",
       "      <td>2</td>\n",
       "      <td>2</td>\n",
       "      <td>128</td>\n",
       "      <td>29</td>\n",
       "    </tr>\n",
       "    <tr>\n",
       "      <th>1</th>\n",
       "      <td>40</td>\n",
       "      <td>3</td>\n",
       "      <td>5</td>\n",
       "      <td>2</td>\n",
       "      <td>2</td>\n",
       "      <td>2</td>\n",
       "      <td>120</td>\n",
       "      <td>11</td>\n",
       "    </tr>\n",
       "    <tr>\n",
       "      <th>2</th>\n",
       "      <td>56</td>\n",
       "      <td>2</td>\n",
       "      <td>7</td>\n",
       "      <td>2</td>\n",
       "      <td>2</td>\n",
       "      <td>2</td>\n",
       "      <td>112</td>\n",
       "      <td>8</td>\n",
       "    </tr>\n",
       "    <tr>\n",
       "      <th>3</th>\n",
       "      <td>64</td>\n",
       "      <td>2</td>\n",
       "      <td>8</td>\n",
       "      <td>2</td>\n",
       "      <td>2</td>\n",
       "      <td>2</td>\n",
       "      <td>128</td>\n",
       "      <td>13</td>\n",
       "    </tr>\n",
       "    <tr>\n",
       "      <th>4</th>\n",
       "      <td>104</td>\n",
       "      <td>1</td>\n",
       "      <td>13</td>\n",
       "      <td>2</td>\n",
       "      <td>2</td>\n",
       "      <td>2</td>\n",
       "      <td>104</td>\n",
       "      <td>2</td>\n",
       "    </tr>\n",
       "    <tr>\n",
       "      <th>5</th>\n",
       "      <td>112</td>\n",
       "      <td>1</td>\n",
       "      <td>14</td>\n",
       "      <td>2</td>\n",
       "      <td>2</td>\n",
       "      <td>2</td>\n",
       "      <td>112</td>\n",
       "      <td>5</td>\n",
       "    </tr>\n",
       "    <tr>\n",
       "      <th>6</th>\n",
       "      <td>120</td>\n",
       "      <td>1</td>\n",
       "      <td>15</td>\n",
       "      <td>2</td>\n",
       "      <td>2</td>\n",
       "      <td>2</td>\n",
       "      <td>120</td>\n",
       "      <td>3</td>\n",
       "    </tr>\n",
       "    <tr>\n",
       "      <th>7</th>\n",
       "      <td>128</td>\n",
       "      <td>1</td>\n",
       "      <td>16</td>\n",
       "      <td>2</td>\n",
       "      <td>2</td>\n",
       "      <td>2</td>\n",
       "      <td>128</td>\n",
       "      <td>5</td>\n",
       "    </tr>\n",
       "  </tbody>\n",
       "</table>\n",
       "</div>"
      ],
      "text/plain": [
       "   MPI_size  omp_thrd  NPT  NPX  NPY  NPZ  Total_proc  size\n",
       "0        32         4    4    2    2    2         128    29\n",
       "1        40         3    5    2    2    2         120    11\n",
       "2        56         2    7    2    2    2         112     8\n",
       "3        64         2    8    2    2    2         128    13\n",
       "4       104         1   13    2    2    2         104     2\n",
       "5       112         1   14    2    2    2         112     5\n",
       "6       120         1   15    2    2    2         120     3\n",
       "7       128         1   16    2    2    2         128     5"
      ]
     },
     "execution_count": 40,
     "metadata": {},
     "output_type": "execute_result"
    }
   ],
   "source": [
    "df_macro_newgeo_probempi_summary =df_macro_newgeo_probempi.groupby(['MPI_size','omp_thrd','NPT','NPX', 'NPY', 'NPZ',\"Total_proc\"]).size().reset_index(name = 'size')\n",
    "df_macro_newgeo_probempi_summary"
   ]
  },
  {
   "cell_type": "markdown",
   "id": "b8bc2dc5",
   "metadata": {},
   "source": [
    "### Case Set up"
   ]
  },
  {
   "cell_type": "code",
   "execution_count": 47,
   "id": "bc8fff15",
   "metadata": {},
   "outputs": [],
   "source": [
    "dfMacNewgeoProb_32mpi_4omp = df_macro_newgeo_probempi[(df_macro_newgeo_probempi.omp_thrd == 4) & (df_macro_newgeo_probempi.GLB_T/df_macro_newgeo_probempi.LOC_T == 4) & (df_macro_newgeo_probempi.GLB_X/df_macro_newgeo_probempi.LOC_X == 2) & (df_macro_newgeo_probempi.GLB_Y/df_macro_newgeo_probempi.LOC_Y == 2)& (df_macro_newgeo_probempi.GLB_Z/df_macro_newgeo_probempi.LOC_Z == 2)]\n",
    "dfMacNewgeoProb_40mpi_3omp = df_macro_newgeo_probempi[(df_macro_newgeo_probempi.omp_thrd == 3) & (df_macro_newgeo_probempi.GLB_T/df_macro_newgeo_probempi.LOC_T == 5) & (df_macro_newgeo_probempi.GLB_X/df_macro_newgeo_probempi.LOC_X == 2) & (df_macro_newgeo_probempi.GLB_Y/df_macro_newgeo_probempi.LOC_Y == 2)& (df_macro_newgeo_probempi.GLB_Z/df_macro_newgeo_probempi.LOC_Z == 2)]\n",
    "dfMacNewgeoProb_56mpi_2omp = df_macro_newgeo_probempi[(df_macro_newgeo_probempi.omp_thrd == 2) & (df_macro_newgeo_probempi.GLB_T/df_macro_newgeo_probempi.LOC_T == 7) & (df_macro_newgeo_probempi.GLB_X/df_macro_newgeo_probempi.LOC_X == 2) & (df_macro_newgeo_probempi.GLB_Y/df_macro_newgeo_probempi.LOC_Y == 2)& (df_macro_newgeo_probempi.GLB_Z/df_macro_newgeo_probempi.LOC_Z == 2)]\n",
    "dfMacNewgeoProb_64mpi_2omp = df_macro_newgeo_probempi[(df_macro_newgeo_probempi.omp_thrd == 2) & (df_macro_newgeo_probempi.GLB_T/df_macro_newgeo_probempi.LOC_T == 8) & (df_macro_newgeo_probempi.GLB_X/df_macro_newgeo_probempi.LOC_X == 2) & (df_macro_newgeo_probempi.GLB_Y/df_macro_newgeo_probempi.LOC_Y == 2)& (df_macro_newgeo_probempi.GLB_Z/df_macro_newgeo_probempi.LOC_Z == 2)]\n",
    "dfMacNewgeoProb_112mpi_1omp = df_macro_newgeo_probempi[(df_macro_newgeo_probempi.omp_thrd == 1) & (df_macro_newgeo_probempi.GLB_T/df_macro_newgeo_probempi.LOC_T == 14) & (df_macro_newgeo_probempi.GLB_X/df_macro_newgeo_probempi.LOC_X == 2) & (df_macro_newgeo_probempi.GLB_Y/df_macro_newgeo_probempi.LOC_Y == 2)& (df_macro_newgeo_probempi.GLB_Z/df_macro_newgeo_probempi.LOC_Z == 2)]\n",
    "dfMacNewgeoProb_128mpi_1omp = df_macro_newgeo_probempi[(df_macro_newgeo_probempi.omp_thrd == 1) & (df_macro_newgeo_probempi.GLB_T/df_macro_newgeo_probempi.LOC_T == 16) & (df_macro_newgeo_probempi.GLB_X/df_macro_newgeo_probempi.LOC_X == 2) & (df_macro_newgeo_probempi.GLB_Y/df_macro_newgeo_probempi.LOC_Y == 2)& (df_macro_newgeo_probempi.GLB_Z/df_macro_newgeo_probempi.LOC_Z == 2)]\n"
   ]
  },
  {
   "cell_type": "code",
   "execution_count": null,
   "id": "63c074c9",
   "metadata": {},
   "outputs": [],
   "source": []
  },
  {
   "cell_type": "markdown",
   "id": "6915c486",
   "metadata": {},
   "source": [
    "## 6. macro_newgeo_nonprobempi"
   ]
  },
  {
   "cell_type": "markdown",
   "id": "5e5cf761",
   "metadata": {},
   "source": [
    "### Add Columns"
   ]
  },
  {
   "cell_type": "code",
   "execution_count": 65,
   "id": "c9a8f574",
   "metadata": {},
   "outputs": [],
   "source": [
    "df_macro_newgeo_nonprobempi[\"N_Nodes\"] = 4\n",
    "df_macro_newgeo_nonprobempi['NPX'] = (df_macro_newgeo_nonprobempi.GLB_X//df_macro_newgeo_nonprobempi.LOC_X)\n",
    "df_macro_newgeo_nonprobempi['NPY'] = (df_macro_newgeo_nonprobempi.GLB_Y//df_macro_newgeo_nonprobempi.LOC_Y)\n",
    "df_macro_newgeo_nonprobempi['NPZ'] = (df_macro_newgeo_nonprobempi.GLB_Z//df_macro_newgeo_nonprobempi.LOC_Z)\n",
    "df_macro_newgeo_nonprobempi['NPT'] = (df_macro_newgeo_nonprobempi.GLB_T//df_macro_newgeo_nonprobempi.LOC_T)\n",
    "df_macro_newgeo_nonprobempi[\"Total_proc\"] = df_macro_newgeo_nonprobempi[\"omp_thrd\"]* df_macro_newgeo_nonprobempi.MPI_size\n",
    "# df_macro_newgeo_nonprobempi.columns"
   ]
  },
  {
   "cell_type": "markdown",
   "id": "e259366d",
   "metadata": {},
   "source": [
    "### Data Summary"
   ]
  },
  {
   "cell_type": "code",
   "execution_count": 66,
   "id": "166da659",
   "metadata": {},
   "outputs": [
    {
     "data": {
      "text/html": [
       "<div>\n",
       "<style scoped>\n",
       "    .dataframe tbody tr th:only-of-type {\n",
       "        vertical-align: middle;\n",
       "    }\n",
       "\n",
       "    .dataframe tbody tr th {\n",
       "        vertical-align: top;\n",
       "    }\n",
       "\n",
       "    .dataframe thead th {\n",
       "        text-align: right;\n",
       "    }\n",
       "</style>\n",
       "<table border=\"1\" class=\"dataframe\">\n",
       "  <thead>\n",
       "    <tr style=\"text-align: right;\">\n",
       "      <th></th>\n",
       "      <th>MPI_size</th>\n",
       "      <th>omp_thrd</th>\n",
       "      <th>NPT</th>\n",
       "      <th>NPX</th>\n",
       "      <th>NPY</th>\n",
       "      <th>NPZ</th>\n",
       "      <th>Total_proc</th>\n",
       "      <th>size</th>\n",
       "    </tr>\n",
       "  </thead>\n",
       "  <tbody>\n",
       "    <tr>\n",
       "      <th>0</th>\n",
       "      <td>32</td>\n",
       "      <td>4</td>\n",
       "      <td>4</td>\n",
       "      <td>2</td>\n",
       "      <td>2</td>\n",
       "      <td>2</td>\n",
       "      <td>128</td>\n",
       "      <td>29</td>\n",
       "    </tr>\n",
       "    <tr>\n",
       "      <th>1</th>\n",
       "      <td>40</td>\n",
       "      <td>3</td>\n",
       "      <td>5</td>\n",
       "      <td>2</td>\n",
       "      <td>2</td>\n",
       "      <td>2</td>\n",
       "      <td>120</td>\n",
       "      <td>11</td>\n",
       "    </tr>\n",
       "    <tr>\n",
       "      <th>2</th>\n",
       "      <td>56</td>\n",
       "      <td>2</td>\n",
       "      <td>7</td>\n",
       "      <td>2</td>\n",
       "      <td>2</td>\n",
       "      <td>2</td>\n",
       "      <td>112</td>\n",
       "      <td>8</td>\n",
       "    </tr>\n",
       "    <tr>\n",
       "      <th>3</th>\n",
       "      <td>64</td>\n",
       "      <td>2</td>\n",
       "      <td>8</td>\n",
       "      <td>2</td>\n",
       "      <td>2</td>\n",
       "      <td>2</td>\n",
       "      <td>128</td>\n",
       "      <td>13</td>\n",
       "    </tr>\n",
       "    <tr>\n",
       "      <th>4</th>\n",
       "      <td>104</td>\n",
       "      <td>1</td>\n",
       "      <td>13</td>\n",
       "      <td>2</td>\n",
       "      <td>2</td>\n",
       "      <td>2</td>\n",
       "      <td>104</td>\n",
       "      <td>3</td>\n",
       "    </tr>\n",
       "    <tr>\n",
       "      <th>5</th>\n",
       "      <td>112</td>\n",
       "      <td>1</td>\n",
       "      <td>14</td>\n",
       "      <td>2</td>\n",
       "      <td>2</td>\n",
       "      <td>2</td>\n",
       "      <td>112</td>\n",
       "      <td>6</td>\n",
       "    </tr>\n",
       "    <tr>\n",
       "      <th>6</th>\n",
       "      <td>120</td>\n",
       "      <td>1</td>\n",
       "      <td>15</td>\n",
       "      <td>2</td>\n",
       "      <td>2</td>\n",
       "      <td>2</td>\n",
       "      <td>120</td>\n",
       "      <td>3</td>\n",
       "    </tr>\n",
       "    <tr>\n",
       "      <th>7</th>\n",
       "      <td>128</td>\n",
       "      <td>1</td>\n",
       "      <td>16</td>\n",
       "      <td>2</td>\n",
       "      <td>2</td>\n",
       "      <td>2</td>\n",
       "      <td>128</td>\n",
       "      <td>5</td>\n",
       "    </tr>\n",
       "  </tbody>\n",
       "</table>\n",
       "</div>"
      ],
      "text/plain": [
       "   MPI_size  omp_thrd  NPT  NPX  NPY  NPZ  Total_proc  size\n",
       "0        32         4    4    2    2    2         128    29\n",
       "1        40         3    5    2    2    2         120    11\n",
       "2        56         2    7    2    2    2         112     8\n",
       "3        64         2    8    2    2    2         128    13\n",
       "4       104         1   13    2    2    2         104     3\n",
       "5       112         1   14    2    2    2         112     6\n",
       "6       120         1   15    2    2    2         120     3\n",
       "7       128         1   16    2    2    2         128     5"
      ]
     },
     "execution_count": 66,
     "metadata": {},
     "output_type": "execute_result"
    }
   ],
   "source": [
    "df_macro_newgeo_nonprobempi_summary = df_macro_newgeo_nonprobempi.groupby(['MPI_size','omp_thrd','NPT','NPX', 'NPY', 'NPZ',\"Total_proc\"]).size().reset_index(name = 'size')\n",
    "df_macro_newgeo_nonprobempi_summary"
   ]
  },
  {
   "cell_type": "markdown",
   "id": "f3f3a6d3",
   "metadata": {},
   "source": [
    "### Case Set up"
   ]
  },
  {
   "cell_type": "code",
   "execution_count": 73,
   "id": "73a36fbc",
   "metadata": {},
   "outputs": [],
   "source": [
    "dfMacNewgeoNonProb_32mpi_4omp = df_macro_newgeo_nonprobempi[(df_macro_newgeo_nonprobempi.omp_thrd == 4) & (df_macro_newgeo_nonprobempi.GLB_T/df_macro_newgeo_nonprobempi.LOC_T == 4) & (df_macro_newgeo_nonprobempi.GLB_X/df_macro_newgeo_nonprobempi.LOC_X == 2) & (df_macro_newgeo_nonprobempi.GLB_Y/df_macro_newgeo_nonprobempi.LOC_Y == 2)& (df_macro_newgeo_nonprobempi.GLB_Z/df_macro_newgeo_nonprobempi.LOC_Z == 2)]\n",
    "dfMacNewgeoNonProb_40mpi_3omp = df_macro_newgeo_nonprobempi[(df_macro_newgeo_nonprobempi.omp_thrd == 3) & (df_macro_newgeo_nonprobempi.GLB_T/df_macro_newgeo_nonprobempi.LOC_T == 5) & (df_macro_newgeo_nonprobempi.GLB_X/df_macro_newgeo_nonprobempi.LOC_X == 2) & (df_macro_newgeo_nonprobempi.GLB_Y/df_macro_newgeo_nonprobempi.LOC_Y == 2)& (df_macro_newgeo_nonprobempi.GLB_Z/df_macro_newgeo_nonprobempi.LOC_Z == 2)]\n",
    "dfMacNewgeoNonProb_56mpi_2omp = df_macro_newgeo_nonprobempi[(df_macro_newgeo_nonprobempi.omp_thrd == 2) & (df_macro_newgeo_nonprobempi.GLB_T/df_macro_newgeo_nonprobempi.LOC_T == 7) & (df_macro_newgeo_nonprobempi.GLB_X/df_macro_newgeo_nonprobempi.LOC_X == 2) & (df_macro_newgeo_nonprobempi.GLB_Y/df_macro_newgeo_nonprobempi.LOC_Y == 2)& (df_macro_newgeo_nonprobempi.GLB_Z/df_macro_newgeo_nonprobempi.LOC_Z == 2)]\n",
    "dfMacNewgeoNonProb_64mpi_2omp = df_macro_newgeo_nonprobempi[(df_macro_newgeo_nonprobempi.omp_thrd == 2) & (df_macro_newgeo_nonprobempi.GLB_T/df_macro_newgeo_nonprobempi.LOC_T == 8) & (df_macro_newgeo_nonprobempi.GLB_X/df_macro_newgeo_nonprobempi.LOC_X == 2) & (df_macro_newgeo_nonprobempi.GLB_Y/df_macro_newgeo_nonprobempi.LOC_Y == 2)& (df_macro_newgeo_nonprobempi.GLB_Z/df_macro_newgeo_nonprobempi.LOC_Z == 2)]\n",
    "dfMacNewgeoNonProb_112mpi_1omp = df_macro_newgeo_nonprobempi[(df_macro_newgeo_nonprobempi.omp_thrd == 1) & (df_macro_newgeo_nonprobempi.GLB_T/df_macro_newgeo_nonprobempi.LOC_T == 14) & (df_macro_newgeo_nonprobempi.GLB_X/df_macro_newgeo_nonprobempi.LOC_X == 2) & (df_macro_newgeo_nonprobempi.GLB_Y/df_macro_newgeo_nonprobempi.LOC_Y == 2)& (df_macro_newgeo_nonprobempi.GLB_Z/df_macro_newgeo_nonprobempi.LOC_Z == 2)]\n",
    "dfMacNewgeoNonProb_128mpi_1omp = df_macro_newgeo_nonprobempi[(df_macro_newgeo_nonprobempi.omp_thrd == 1) & (df_macro_newgeo_nonprobempi.GLB_T/df_macro_newgeo_nonprobempi.LOC_T == 16) & (df_macro_newgeo_nonprobempi.GLB_X/df_macro_newgeo_nonprobempi.LOC_X == 2) & (df_macro_newgeo_nonprobempi.GLB_Y/df_macro_newgeo_nonprobempi.LOC_Y == 2)& (df_macro_newgeo_nonprobempi.GLB_Z/df_macro_newgeo_nonprobempi.LOC_Z == 2)]\n"
   ]
  },
  {
   "cell_type": "code",
   "execution_count": null,
   "id": "da238066",
   "metadata": {},
   "outputs": [],
   "source": []
  },
  {
   "cell_type": "code",
   "execution_count": null,
   "id": "94b4e9b4",
   "metadata": {},
   "outputs": [],
   "source": []
  },
  {
   "cell_type": "markdown",
   "id": "dd5ba914",
   "metadata": {},
   "source": []
  },
  {
   "cell_type": "markdown",
   "id": "2ab0c29a",
   "metadata": {},
   "source": []
  },
  {
   "cell_type": "markdown",
   "id": "95ffb139",
   "metadata": {},
   "source": []
  },
  {
   "cell_type": "markdown",
   "id": "2c6a922e",
   "metadata": {},
   "source": []
  },
  {
   "cell_type": "markdown",
   "id": "348b7f1c",
   "metadata": {},
   "source": []
  },
  {
   "cell_type": "markdown",
   "id": "f17806aa",
   "metadata": {},
   "source": []
  },
  {
   "cell_type": "markdown",
   "id": "9e1f0826",
   "metadata": {},
   "source": []
  },
  {
   "cell_type": "markdown",
   "id": "82a16d6c",
   "metadata": {},
   "source": []
  },
  {
   "cell_type": "markdown",
   "id": "0f9cf539",
   "metadata": {},
   "source": []
  },
  {
   "cell_type": "markdown",
   "id": "ca2e6c8d",
   "metadata": {},
   "source": []
  }
 ],
 "metadata": {
  "kernelspec": {
   "display_name": "Python 3 (ipykernel)",
   "language": "python",
   "name": "python3"
  },
  "language_info": {
   "codemirror_mode": {
    "name": "ipython",
    "version": 3
   },
   "file_extension": ".py",
   "mimetype": "text/x-python",
   "name": "python",
   "nbconvert_exporter": "python",
   "pygments_lexer": "ipython3",
   "version": "3.9.13"
  }
 },
 "nbformat": 4,
 "nbformat_minor": 5
}
