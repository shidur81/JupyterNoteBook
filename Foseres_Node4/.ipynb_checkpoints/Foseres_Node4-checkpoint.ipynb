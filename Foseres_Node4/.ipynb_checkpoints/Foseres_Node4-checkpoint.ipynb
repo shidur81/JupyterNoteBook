{
 "cells": [
  {
   "cell_type": "code",
   "execution_count": 1,
   "id": "83bc090a",
   "metadata": {},
   "outputs": [
    {
     "data": {
      "text/html": [
       "        <script type=\"text/javascript\">\n",
       "        window.PlotlyConfig = {MathJaxConfig: 'local'};\n",
       "        if (window.MathJax && window.MathJax.Hub && window.MathJax.Hub.Config) {window.MathJax.Hub.Config({SVG: {font: \"STIX-Web\"}});}\n",
       "        if (typeof require !== 'undefined') {\n",
       "        require.undef(\"plotly\");\n",
       "        requirejs.config({\n",
       "            paths: {\n",
       "                'plotly': ['https://cdn.plot.ly/plotly-2.12.1.min']\n",
       "            }\n",
       "        });\n",
       "        require(['plotly'], function(Plotly) {\n",
       "            window._Plotly = Plotly;\n",
       "        });\n",
       "        }\n",
       "        </script>\n",
       "        "
      ]
     },
     "metadata": {},
     "output_type": "display_data"
    },
    {
     "data": {
      "text/html": [
       "        <script type=\"text/javascript\">\n",
       "        window.PlotlyConfig = {MathJaxConfig: 'local'};\n",
       "        if (window.MathJax && window.MathJax.Hub && window.MathJax.Hub.Config) {window.MathJax.Hub.Config({SVG: {font: \"STIX-Web\"}});}\n",
       "        if (typeof require !== 'undefined') {\n",
       "        require.undef(\"plotly\");\n",
       "        requirejs.config({\n",
       "            paths: {\n",
       "                'plotly': ['https://cdn.plot.ly/plotly-2.12.1.min']\n",
       "            }\n",
       "        });\n",
       "        require(['plotly'], function(Plotly) {\n",
       "            window._Plotly = Plotly;\n",
       "        });\n",
       "        }\n",
       "        </script>\n",
       "        "
      ]
     },
     "metadata": {},
     "output_type": "display_data"
    }
   ],
   "source": [
    "import pandas as pd\n",
    "import numpy as np\n",
    "import chart_studio.plotly as py\n",
    "import cufflinks as cf\n",
    "import seaborn as sns\n",
    "import plotly.express as px\n",
    "import plotly.graph_objects as go\n",
    "import collections\n",
    "from collections import OrderedDict\n",
    "%matplotlib inline\n",
    "from plotly.offline import download_plotlyjs, init_notebook_mode, plot, iplot\n",
    "init_notebook_mode(connected=True)\n",
    "cf.go_offline()"
   ]
  },
  {
   "cell_type": "code",
   "execution_count": 81,
   "id": "99869cbf",
   "metadata": {},
   "outputs": [],
   "source": [
    "pd.set_option('display.max_columns', None)\n",
    "pd.set_option('display.max_rows', None)\n",
    "\n",
    "dfn4_macro_fused_probempi = pd.read_csv(\"n4_fused_macro_probempi.csv\")\n",
    "dfn4_macro_fused_nonprobempi = pd.read_csv(\"n4_fused_macro_nonprobempi.csv\")\n",
    "dfn4_macro_newgeo_probempi = pd.read_csv(\"n4_newgeo_macro_probempi.csv\")\n",
    "dfn4_macro_newgeo_nonprobempi = pd.read_csv(\"n4_newgeo_macro_nonprobempi.csv\")\n",
    "dfn4_macro_nonfused_probempi = pd.read_csv(\"n4_nonfused_macro_probempi.csv\")\n",
    "dfn4_macro_nonfused_nonprobempi = pd.read_csv(\"n4_nonfused_macro_nonprobempi.csv\")\n",
    "\n",
    "dfn4_avx_fused_probmpi = pd.read_csv(\"n4_fused_avx_probempi.csv\")\n",
    "dfn4_avx_fused_nonprobmpi = pd.read_csv(\"n4_fused_avx_nonprobempi.csv\")\n",
    "dfn4_avx_newgeo_probempi = pd.read_csv(\"n4_newgeo_avx_probempi.csv\")\n",
    "dfn4_avx_newgeo_nonprobempi = pd.read_csv(\"n4_newgeo_avx_nonprobempi.csv\")\n",
    "dfn4_avx_nonfused_probempi = pd.read_csv(\"n4_nonfused_avx_probempi.csv\")\n",
    "dfn4_avx_nonfused_nonprobempi = pd.read_csv(\"n4_nonfused_avx_nonprobempi.csv\")\n"
   ]
  },
  {
   "cell_type": "markdown",
   "id": "adf68a34",
   "metadata": {},
   "source": [
    "# MACRO CASES"
   ]
  },
  {
   "cell_type": "markdown",
   "id": "060b2819",
   "metadata": {},
   "source": [
    "## 1. macro_fused_probempi"
   ]
  },
  {
   "cell_type": "markdown",
   "id": "8acfe870",
   "metadata": {},
   "source": [
    "### Add Columns"
   ]
  },
  {
   "cell_type": "code",
   "execution_count": 3,
   "id": "4ad1f731",
   "metadata": {},
   "outputs": [],
   "source": [
    "dfn4_macro_fused_probempi[\"N_Nodes\"] = 4\n",
    "dfn4_macro_fused_probempi['NPX'] = (dfn4_macro_fused_probempi.GLB_X//dfn4_macro_fused_probempi.LOC_X)\n",
    "dfn4_macro_fused_probempi['NPY'] = (dfn4_macro_fused_probempi.GLB_Y//dfn4_macro_fused_probempi.LOC_Y)\n",
    "dfn4_macro_fused_probempi['NPZ'] = (dfn4_macro_fused_probempi.GLB_Z//dfn4_macro_fused_probempi.LOC_Z)\n",
    "dfn4_macro_fused_probempi['NPT'] = (dfn4_macro_fused_probempi.GLB_T//dfn4_macro_fused_probempi.LOC_T)\n",
    "dfn4_macro_fused_probempi[\"Total_proc\"] = dfn4_macro_fused_probempi[\"omp_thrd\"]* dfn4_macro_fused_probempi.MPI_size\n",
    "# dfn4_macro_fused_probempi.columns"
   ]
  },
  {
   "cell_type": "markdown",
   "id": "805c481b",
   "metadata": {},
   "source": [
    "### Data Summary"
   ]
  },
  {
   "cell_type": "code",
   "execution_count": 4,
   "id": "b9dd8ee3",
   "metadata": {},
   "outputs": [
    {
     "data": {
      "text/html": [
       "<div>\n",
       "<style scoped>\n",
       "    .dataframe tbody tr th:only-of-type {\n",
       "        vertical-align: middle;\n",
       "    }\n",
       "\n",
       "    .dataframe tbody tr th {\n",
       "        vertical-align: top;\n",
       "    }\n",
       "\n",
       "    .dataframe thead th {\n",
       "        text-align: right;\n",
       "    }\n",
       "</style>\n",
       "<table border=\"1\" class=\"dataframe\">\n",
       "  <thead>\n",
       "    <tr style=\"text-align: right;\">\n",
       "      <th></th>\n",
       "      <th>MPI_size</th>\n",
       "      <th>omp_thrd</th>\n",
       "      <th>NPT</th>\n",
       "      <th>NPX</th>\n",
       "      <th>NPY</th>\n",
       "      <th>NPZ</th>\n",
       "      <th>Total_proc</th>\n",
       "      <th>size</th>\n",
       "    </tr>\n",
       "  </thead>\n",
       "  <tbody>\n",
       "    <tr>\n",
       "      <th>0</th>\n",
       "      <td>32</td>\n",
       "      <td>4</td>\n",
       "      <td>4</td>\n",
       "      <td>2</td>\n",
       "      <td>2</td>\n",
       "      <td>2</td>\n",
       "      <td>128</td>\n",
       "      <td>29</td>\n",
       "    </tr>\n",
       "    <tr>\n",
       "      <th>1</th>\n",
       "      <td>40</td>\n",
       "      <td>3</td>\n",
       "      <td>5</td>\n",
       "      <td>2</td>\n",
       "      <td>2</td>\n",
       "      <td>2</td>\n",
       "      <td>120</td>\n",
       "      <td>11</td>\n",
       "    </tr>\n",
       "    <tr>\n",
       "      <th>2</th>\n",
       "      <td>56</td>\n",
       "      <td>2</td>\n",
       "      <td>7</td>\n",
       "      <td>2</td>\n",
       "      <td>2</td>\n",
       "      <td>2</td>\n",
       "      <td>112</td>\n",
       "      <td>8</td>\n",
       "    </tr>\n",
       "    <tr>\n",
       "      <th>3</th>\n",
       "      <td>64</td>\n",
       "      <td>2</td>\n",
       "      <td>8</td>\n",
       "      <td>2</td>\n",
       "      <td>2</td>\n",
       "      <td>2</td>\n",
       "      <td>128</td>\n",
       "      <td>13</td>\n",
       "    </tr>\n",
       "    <tr>\n",
       "      <th>4</th>\n",
       "      <td>104</td>\n",
       "      <td>1</td>\n",
       "      <td>13</td>\n",
       "      <td>2</td>\n",
       "      <td>2</td>\n",
       "      <td>2</td>\n",
       "      <td>104</td>\n",
       "      <td>3</td>\n",
       "    </tr>\n",
       "    <tr>\n",
       "      <th>5</th>\n",
       "      <td>112</td>\n",
       "      <td>1</td>\n",
       "      <td>14</td>\n",
       "      <td>2</td>\n",
       "      <td>2</td>\n",
       "      <td>2</td>\n",
       "      <td>112</td>\n",
       "      <td>6</td>\n",
       "    </tr>\n",
       "    <tr>\n",
       "      <th>6</th>\n",
       "      <td>120</td>\n",
       "      <td>1</td>\n",
       "      <td>15</td>\n",
       "      <td>2</td>\n",
       "      <td>2</td>\n",
       "      <td>2</td>\n",
       "      <td>120</td>\n",
       "      <td>3</td>\n",
       "    </tr>\n",
       "    <tr>\n",
       "      <th>7</th>\n",
       "      <td>128</td>\n",
       "      <td>1</td>\n",
       "      <td>16</td>\n",
       "      <td>2</td>\n",
       "      <td>2</td>\n",
       "      <td>2</td>\n",
       "      <td>128</td>\n",
       "      <td>5</td>\n",
       "    </tr>\n",
       "  </tbody>\n",
       "</table>\n",
       "</div>"
      ],
      "text/plain": [
       "   MPI_size  omp_thrd  NPT  NPX  NPY  NPZ  Total_proc  size\n",
       "0        32         4    4    2    2    2         128    29\n",
       "1        40         3    5    2    2    2         120    11\n",
       "2        56         2    7    2    2    2         112     8\n",
       "3        64         2    8    2    2    2         128    13\n",
       "4       104         1   13    2    2    2         104     3\n",
       "5       112         1   14    2    2    2         112     6\n",
       "6       120         1   15    2    2    2         120     3\n",
       "7       128         1   16    2    2    2         128     5"
      ]
     },
     "execution_count": 4,
     "metadata": {},
     "output_type": "execute_result"
    }
   ],
   "source": [
    "dfn4_macro_fused_probempi_summary = dfn4_macro_fused_probempi.groupby(['MPI_size','omp_thrd','NPT','NPX', 'NPY', 'NPZ',\"Total_proc\"]).size().reset_index(name = 'size')\n",
    "dfn4_macro_fused_probempi_summary"
   ]
  },
  {
   "cell_type": "markdown",
   "id": "cbaa54de",
   "metadata": {},
   "source": [
    "### Case Set up"
   ]
  },
  {
   "cell_type": "code",
   "execution_count": 5,
   "id": "e5ecaa07",
   "metadata": {},
   "outputs": [],
   "source": [
    "dfn4MacFusProb_32mpi_4omp = dfn4_macro_fused_probempi[(dfn4_macro_fused_probempi.omp_thrd == 4) & (dfn4_macro_fused_probempi.GLB_T/dfn4_macro_fused_probempi.LOC_T == 4) & (dfn4_macro_fused_probempi.GLB_X/dfn4_macro_fused_probempi.LOC_X == 2) & (dfn4_macro_fused_probempi.GLB_Y/dfn4_macro_fused_probempi.LOC_Y == 2)& (dfn4_macro_fused_probempi.GLB_Z/dfn4_macro_fused_probempi.LOC_Z == 2)]\n",
    "dfn4MacFusProb_40mpi_3omp = dfn4_macro_fused_probempi[(dfn4_macro_fused_probempi.omp_thrd == 3) & (dfn4_macro_fused_probempi.GLB_T/dfn4_macro_fused_probempi.LOC_T == 5) & (dfn4_macro_fused_probempi.GLB_X/dfn4_macro_fused_probempi.LOC_X == 2) & (dfn4_macro_fused_probempi.GLB_Y/dfn4_macro_fused_probempi.LOC_Y == 2)& (dfn4_macro_fused_probempi.GLB_Z/dfn4_macro_fused_probempi.LOC_Z == 2)]\n",
    "dfn4MacFusProb_56mpi_2omp = dfn4_macro_fused_probempi[(dfn4_macro_fused_probempi.omp_thrd == 2) & (dfn4_macro_fused_probempi.GLB_T/dfn4_macro_fused_probempi.LOC_T == 7) & (dfn4_macro_fused_probempi.GLB_X/dfn4_macro_fused_probempi.LOC_X == 2) & (dfn4_macro_fused_probempi.GLB_Y/dfn4_macro_fused_probempi.LOC_Y == 2)& (dfn4_macro_fused_probempi.GLB_Z/dfn4_macro_fused_probempi.LOC_Z == 2)]\n",
    "dfn4MacFusProb_64mpi_2omp = dfn4_macro_fused_probempi[(dfn4_macro_fused_probempi.omp_thrd == 2) & (dfn4_macro_fused_probempi.GLB_T/dfn4_macro_fused_probempi.LOC_T == 8) & (dfn4_macro_fused_probempi.GLB_X/dfn4_macro_fused_probempi.LOC_X == 2) & (dfn4_macro_fused_probempi.GLB_Y/dfn4_macro_fused_probempi.LOC_Y == 2)& (dfn4_macro_fused_probempi.GLB_Z/dfn4_macro_fused_probempi.LOC_Z == 2)]\n",
    "dfn4MacFusProb_112mpi_1omp = dfn4_macro_fused_probempi[(dfn4_macro_fused_probempi.omp_thrd == 1) & (dfn4_macro_fused_probempi.GLB_T/dfn4_macro_fused_probempi.LOC_T == 14) & (dfn4_macro_fused_probempi.GLB_X/dfn4_macro_fused_probempi.LOC_X == 2) & (dfn4_macro_fused_probempi.GLB_Y/dfn4_macro_fused_probempi.LOC_Y == 2)& (dfn4_macro_fused_probempi.GLB_Z/dfn4_macro_fused_probempi.LOC_Z == 2)]\n",
    "dfn4MacFusProb_128mpi_1omp = dfn4_macro_fused_probempi[(dfn4_macro_fused_probempi.omp_thrd == 1) & (dfn4_macro_fused_probempi.GLB_T/dfn4_macro_fused_probempi.LOC_T == 16) & (dfn4_macro_fused_probempi.GLB_X/dfn4_macro_fused_probempi.LOC_X == 2) & (dfn4_macro_fused_probempi.GLB_Y/dfn4_macro_fused_probempi.LOC_Y == 2)& (dfn4_macro_fused_probempi.GLB_Z/dfn4_macro_fused_probempi.LOC_Z == 2)]\n"
   ]
  },
  {
   "cell_type": "markdown",
   "id": "1b5e554f",
   "metadata": {},
   "source": [
    "## 2. macro_fused_nonprobempi"
   ]
  },
  {
   "cell_type": "markdown",
   "id": "9f72d0b5",
   "metadata": {},
   "source": [
    "### Add Columns"
   ]
  },
  {
   "cell_type": "code",
   "execution_count": 6,
   "id": "f9a150bd",
   "metadata": {},
   "outputs": [],
   "source": [
    "dfn4_macro_fused_nonprobempi[\"N_Nodes\"] = 4\n",
    "dfn4_macro_fused_nonprobempi['NPX'] = (dfn4_macro_fused_nonprobempi.GLB_X//dfn4_macro_fused_nonprobempi.LOC_X)\n",
    "dfn4_macro_fused_nonprobempi['NPY'] = (dfn4_macro_fused_nonprobempi.GLB_Y//dfn4_macro_fused_nonprobempi.LOC_Y)\n",
    "dfn4_macro_fused_nonprobempi['NPZ'] = (dfn4_macro_fused_nonprobempi.GLB_Z//dfn4_macro_fused_nonprobempi.LOC_Z)\n",
    "dfn4_macro_fused_nonprobempi['NPT'] = (dfn4_macro_fused_nonprobempi.GLB_T//dfn4_macro_fused_nonprobempi.LOC_T)\n",
    "dfn4_macro_fused_nonprobempi[\"Total_proc\"] = dfn4_macro_fused_nonprobempi[\"omp_thrd\"]* dfn4_macro_fused_nonprobempi.MPI_size\n",
    "# dfn4_macro_fused_nonprobempi.columns"
   ]
  },
  {
   "cell_type": "markdown",
   "id": "7b563258",
   "metadata": {},
   "source": [
    "### Data Summary"
   ]
  },
  {
   "cell_type": "code",
   "execution_count": 7,
   "id": "f37bbad5",
   "metadata": {},
   "outputs": [
    {
     "data": {
      "text/html": [
       "<div>\n",
       "<style scoped>\n",
       "    .dataframe tbody tr th:only-of-type {\n",
       "        vertical-align: middle;\n",
       "    }\n",
       "\n",
       "    .dataframe tbody tr th {\n",
       "        vertical-align: top;\n",
       "    }\n",
       "\n",
       "    .dataframe thead th {\n",
       "        text-align: right;\n",
       "    }\n",
       "</style>\n",
       "<table border=\"1\" class=\"dataframe\">\n",
       "  <thead>\n",
       "    <tr style=\"text-align: right;\">\n",
       "      <th></th>\n",
       "      <th>MPI_size</th>\n",
       "      <th>omp_thrd</th>\n",
       "      <th>NPT</th>\n",
       "      <th>NPX</th>\n",
       "      <th>NPY</th>\n",
       "      <th>NPZ</th>\n",
       "      <th>Total_proc</th>\n",
       "      <th>size</th>\n",
       "    </tr>\n",
       "  </thead>\n",
       "  <tbody>\n",
       "    <tr>\n",
       "      <th>0</th>\n",
       "      <td>32</td>\n",
       "      <td>4</td>\n",
       "      <td>4</td>\n",
       "      <td>2</td>\n",
       "      <td>2</td>\n",
       "      <td>2</td>\n",
       "      <td>128</td>\n",
       "      <td>29</td>\n",
       "    </tr>\n",
       "    <tr>\n",
       "      <th>1</th>\n",
       "      <td>40</td>\n",
       "      <td>3</td>\n",
       "      <td>5</td>\n",
       "      <td>2</td>\n",
       "      <td>2</td>\n",
       "      <td>2</td>\n",
       "      <td>120</td>\n",
       "      <td>11</td>\n",
       "    </tr>\n",
       "    <tr>\n",
       "      <th>2</th>\n",
       "      <td>56</td>\n",
       "      <td>2</td>\n",
       "      <td>7</td>\n",
       "      <td>2</td>\n",
       "      <td>2</td>\n",
       "      <td>2</td>\n",
       "      <td>112</td>\n",
       "      <td>8</td>\n",
       "    </tr>\n",
       "    <tr>\n",
       "      <th>3</th>\n",
       "      <td>64</td>\n",
       "      <td>2</td>\n",
       "      <td>8</td>\n",
       "      <td>2</td>\n",
       "      <td>2</td>\n",
       "      <td>2</td>\n",
       "      <td>128</td>\n",
       "      <td>13</td>\n",
       "    </tr>\n",
       "    <tr>\n",
       "      <th>4</th>\n",
       "      <td>104</td>\n",
       "      <td>1</td>\n",
       "      <td>13</td>\n",
       "      <td>2</td>\n",
       "      <td>2</td>\n",
       "      <td>2</td>\n",
       "      <td>104</td>\n",
       "      <td>3</td>\n",
       "    </tr>\n",
       "    <tr>\n",
       "      <th>5</th>\n",
       "      <td>112</td>\n",
       "      <td>1</td>\n",
       "      <td>14</td>\n",
       "      <td>2</td>\n",
       "      <td>2</td>\n",
       "      <td>2</td>\n",
       "      <td>112</td>\n",
       "      <td>6</td>\n",
       "    </tr>\n",
       "    <tr>\n",
       "      <th>6</th>\n",
       "      <td>120</td>\n",
       "      <td>1</td>\n",
       "      <td>15</td>\n",
       "      <td>2</td>\n",
       "      <td>2</td>\n",
       "      <td>2</td>\n",
       "      <td>120</td>\n",
       "      <td>3</td>\n",
       "    </tr>\n",
       "    <tr>\n",
       "      <th>7</th>\n",
       "      <td>128</td>\n",
       "      <td>1</td>\n",
       "      <td>16</td>\n",
       "      <td>2</td>\n",
       "      <td>2</td>\n",
       "      <td>2</td>\n",
       "      <td>128</td>\n",
       "      <td>5</td>\n",
       "    </tr>\n",
       "  </tbody>\n",
       "</table>\n",
       "</div>"
      ],
      "text/plain": [
       "   MPI_size  omp_thrd  NPT  NPX  NPY  NPZ  Total_proc  size\n",
       "0        32         4    4    2    2    2         128    29\n",
       "1        40         3    5    2    2    2         120    11\n",
       "2        56         2    7    2    2    2         112     8\n",
       "3        64         2    8    2    2    2         128    13\n",
       "4       104         1   13    2    2    2         104     3\n",
       "5       112         1   14    2    2    2         112     6\n",
       "6       120         1   15    2    2    2         120     3\n",
       "7       128         1   16    2    2    2         128     5"
      ]
     },
     "execution_count": 7,
     "metadata": {},
     "output_type": "execute_result"
    }
   ],
   "source": [
    "dfn4_macro_fused_nonprobempi_summary =dfn4_macro_fused_nonprobempi.groupby(['MPI_size','omp_thrd','NPT','NPX', 'NPY', 'NPZ',\"Total_proc\"]).size().reset_index(name = 'size')\n",
    "dfn4_macro_fused_nonprobempi_summary"
   ]
  },
  {
   "cell_type": "markdown",
   "id": "a5aa0864",
   "metadata": {},
   "source": [
    "### Case Set up"
   ]
  },
  {
   "cell_type": "code",
   "execution_count": 8,
   "id": "ef7bd675",
   "metadata": {},
   "outputs": [],
   "source": [
    "dfn4MacFusNonProb_32mpi_4omp = dfn4_macro_fused_nonprobempi[(dfn4_macro_fused_nonprobempi.omp_thrd == 4) & (dfn4_macro_fused_nonprobempi.GLB_T/dfn4_macro_fused_nonprobempi.LOC_T == 4) & (dfn4_macro_fused_nonprobempi.GLB_X/dfn4_macro_fused_nonprobempi.LOC_X == 2) & (dfn4_macro_fused_nonprobempi.GLB_Y/dfn4_macro_fused_nonprobempi.LOC_Y == 2)& (dfn4_macro_fused_nonprobempi.GLB_Z/dfn4_macro_fused_nonprobempi.LOC_Z == 2)]\n",
    "dfn4MacFusNonProb_40mpi_3omp = dfn4_macro_fused_nonprobempi[(dfn4_macro_fused_nonprobempi.omp_thrd == 3) & (dfn4_macro_fused_nonprobempi.GLB_T/dfn4_macro_fused_nonprobempi.LOC_T == 5) & (dfn4_macro_fused_nonprobempi.GLB_X/dfn4_macro_fused_nonprobempi.LOC_X == 2) & (dfn4_macro_fused_nonprobempi.GLB_Y/dfn4_macro_fused_nonprobempi.LOC_Y == 2)& (dfn4_macro_fused_nonprobempi.GLB_Z/dfn4_macro_fused_nonprobempi.LOC_Z == 2)]\n",
    "dfn4MacFusnonProb_56mpi_2omp = dfn4_macro_fused_nonprobempi[(dfn4_macro_fused_nonprobempi.omp_thrd == 2) & (dfn4_macro_fused_nonprobempi.GLB_T/dfn4_macro_fused_nonprobempi.LOC_T == 7) & (dfn4_macro_fused_nonprobempi.GLB_X/dfn4_macro_fused_nonprobempi.LOC_X == 2) & (dfn4_macro_fused_nonprobempi.GLB_Y/dfn4_macro_fused_nonprobempi.LOC_Y == 2)& (dfn4_macro_fused_nonprobempi.GLB_Z/dfn4_macro_fused_nonprobempi.LOC_Z == 2)]\n",
    "dfn4MacFusnonProb_64mpi_2omp = dfn4_macro_fused_nonprobempi[(dfn4_macro_fused_nonprobempi.omp_thrd == 2) & (dfn4_macro_fused_nonprobempi.GLB_T/dfn4_macro_fused_nonprobempi.LOC_T == 8) & (dfn4_macro_fused_nonprobempi.GLB_X/dfn4_macro_fused_nonprobempi.LOC_X == 2) & (dfn4_macro_fused_nonprobempi.GLB_Y/dfn4_macro_fused_nonprobempi.LOC_Y == 2)& (dfn4_macro_fused_nonprobempi.GLB_Z/dfn4_macro_fused_nonprobempi.LOC_Z == 2)]\n",
    "dfn4MacFusnonProb_112mpi_1omp = dfn4_macro_fused_nonprobempi[(dfn4_macro_fused_nonprobempi.omp_thrd == 1) & (dfn4_macro_fused_nonprobempi.GLB_T/dfn4_macro_fused_nonprobempi.LOC_T == 14) & (dfn4_macro_fused_nonprobempi.GLB_X/dfn4_macro_fused_nonprobempi.LOC_X == 2) & (dfn4_macro_fused_nonprobempi.GLB_Y/dfn4_macro_fused_nonprobempi.LOC_Y == 2)& (dfn4_macro_fused_nonprobempi.GLB_Z/dfn4_macro_fused_nonprobempi.LOC_Z == 2)]\n",
    "dfn4MacFusnonProb_128mpi_1omp = dfn4_macro_fused_nonprobempi[(dfn4_macro_fused_nonprobempi.omp_thrd == 1) & (dfn4_macro_fused_nonprobempi.GLB_T/dfn4_macro_fused_nonprobempi.LOC_T == 16) & (dfn4_macro_fused_nonprobempi.GLB_X/dfn4_macro_fused_nonprobempi.LOC_X == 2) & (dfn4_macro_fused_nonprobempi.GLB_Y/dfn4_macro_fused_nonprobempi.LOC_Y == 2)& (dfn4_macro_fused_nonprobempi.GLB_Z/dfn4_macro_fused_nonprobempi.LOC_Z == 2)]\n"
   ]
  },
  {
   "cell_type": "markdown",
   "id": "c34235e6",
   "metadata": {},
   "source": [
    "## GFLOPS - macro fused: probempi vs nonprobempi"
   ]
  },
  {
   "cell_type": "code",
   "execution_count": 9,
   "id": "aad03dd9",
   "metadata": {},
   "outputs": [
    {
     "data": {
      "application/vnd.plotly.v1+json": {
       "config": {
        "plotlyServerURL": "https://plot.ly"
       },
       "data": [
        {
         "line": {
          "color": "darkcyan",
          "width": 3
         },
         "marker": {
          "line": {
           "color": "yellow",
           "width": 1
          },
          "size": 9,
          "symbol": "hexagon"
         },
         "mode": "lines+markers",
         "name": "MacFusProb_32mpi_4omp",
         "type": "scatter",
         "x": [
          50331648,
          62914560,
          75497472,
          88080384,
          100663296,
          113246208,
          125829120,
          138412032,
          150994944,
          163577856,
          176160768,
          188743680,
          201326592,
          213909504,
          226492416,
          239075328,
          251658240,
          264241152,
          276824064,
          289406976,
          301989888,
          314572800,
          327155712,
          339738624,
          352321536,
          364904448,
          377487360,
          390070272,
          402653184
         ],
         "y": [
          48.99656,
          51.5272,
          54.05216,
          57.12592,
          57.21072,
          58.33072,
          58.62104,
          58.72488,
          58.51352,
          55.61024,
          54.34272,
          52.81896,
          50.42568,
          48.8848,
          47.73736,
          45.82648,
          43.29752,
          43.27584,
          42.43848,
          41.91088,
          41.63432,
          41.54664,
          41.34864,
          41.18056,
          41.03664,
          40.92696,
          40.46024,
          40.79632,
          40.48272
         ]
        },
        {
         "line": {
          "color": "magenta",
          "width": 3
         },
         "marker": {
          "line": {
           "color": "yellow",
           "width": 1
          },
          "size": 9,
          "symbol": "hexagon"
         },
         "mode": "lines+markers",
         "name": "MacFusNonProb_32mpi_4omp",
         "type": "scatter",
         "x": [
          50331648,
          62914560,
          75497472,
          88080384,
          100663296,
          113246208,
          125829120,
          138412032,
          150994944,
          163577856,
          176160768,
          188743680,
          201326592,
          213909504,
          226492416,
          239075328,
          251658240,
          264241152,
          276824064,
          289406976,
          301989888,
          314572800,
          327155712,
          339738624,
          352321536,
          364904448,
          377487360,
          390070272,
          402653184
         ],
         "y": [
          50.35896,
          54.59176,
          57.16856,
          59.6992,
          62.66256,
          63.26608,
          71.60176,
          64.274,
          64.12904,
          63.19472,
          62.75336,
          58.85424,
          58.24288,
          56.2036,
          50.66808,
          51.96576,
          49.53872,
          48.38608,
          47.56392,
          46.97392,
          45.90216,
          45.20528,
          44.61336,
          44.05936,
          43.93584,
          43.85592,
          43.42128,
          43.33432,
          42.90344
         ]
        },
        {
         "line": {
          "color": "royalblue",
          "width": 3
         },
         "marker": {
          "line": {
           "color": "MediumPurple",
           "width": 2
          },
          "size": 5,
          "symbol": "diamond"
         },
         "mode": "lines+markers",
         "name": "MacFusProb_40mpi_3omp",
         "type": "scatter",
         "x": [
          62914560,
          94371840,
          125829120,
          157286400,
          188743680,
          220200960,
          251658240,
          283115520,
          314572800,
          346030080,
          377487360
         ],
         "y": [
          47.345800000000004,
          54.620400000000004,
          52.4239,
          45.716,
          39.814,
          36.2489,
          35.922,
          35.3404,
          34.705400000000004,
          35.8889,
          35.0161
         ]
        },
        {
         "line": {
          "color": "sandybrown",
          "width": 3
         },
         "marker": {
          "line": {
           "color": "MediumPurple",
           "width": 2
          },
          "size": 5,
          "symbol": "diamond"
         },
         "mode": "lines+markers",
         "name": "MacFusNonProb_40mpi_3omp",
         "type": "scatter",
         "x": [
          62914560,
          94371840,
          125829120,
          157286400,
          188743680,
          220200960,
          251658240,
          283115520,
          314572800,
          346030080,
          377487360
         ],
         "y": [
          49.911,
          58.5772,
          57.442,
          50.7385,
          45.7592,
          39.8515,
          37.787099999999995,
          37.3195,
          38.418,
          37.4015,
          37.6433
         ]
        },
        {
         "line": {
          "color": "darkblue",
          "width": 3
         },
         "marker": {
          "line": {
           "color": "tomato",
           "width": 2
          },
          "size": 7,
          "symbol": "circle"
         },
         "mode": "lines+markers",
         "name": "MacFusProb_56mpi_2omp",
         "type": "scatter",
         "x": [
          88080384,
          132120576,
          176160768,
          220200960,
          264241152,
          308281344,
          352321536,
          396361728
         ],
         "y": [
          53.02948,
          53.0019,
          48.4127,
          42.89474,
          42.0098,
          40.39,
          39.3302,
          38.8318
         ]
        },
        {
         "line": {
          "color": "cyan",
          "width": 3
         },
         "marker": {
          "line": {
           "color": "Purple",
           "width": 2
          },
          "size": 7,
          "symbol": "circle"
         },
         "mode": "lines+markers",
         "name": "MacFusnonProb_56mpi_2omp",
         "type": "scatter",
         "x": [
          88080384,
          132120576,
          176160768,
          220200960,
          264241152,
          308281344,
          352321536,
          396361728
         ],
         "y": [
          54.6644,
          64.80264,
          51.61184,
          47.68218,
          44.44006,
          42.4249,
          40.800900000000006,
          40.0162
         ]
        },
        {
         "line": {
          "color": "blue",
          "width": 3
         },
         "marker": {
          "line": {
           "color": "black",
           "width": 1
          },
          "size": 7,
          "symbol": "star"
         },
         "mode": "lines+markers",
         "name": "MacFusProb_64mpi_2omp",
         "type": "scatter",
         "x": [
          100663296,
          125829120,
          150994944,
          176160768,
          201326592,
          226492416,
          251658240,
          276824064,
          301989888,
          327155712,
          352321536,
          377487360,
          402653184
         ],
         "y": [
          65.39104,
          68.1152,
          63.64768,
          61.62048,
          56.81424,
          53.92,
          49.75184,
          48.0632,
          48.12816,
          47.01888,
          46.28912,
          46.17376,
          45.52992
         ]
        },
        {
         "line": {
          "color": "red",
          "width": 3
         },
         "marker": {
          "line": {
           "color": "black",
           "width": 1
          },
          "size": 7,
          "symbol": "star"
         },
         "mode": "lines+markers",
         "name": "MacFusnonProb_64mpi_2omp",
         "type": "scatter",
         "x": [
          100663296,
          125829120,
          150994944,
          176160768,
          201326592,
          226492416,
          251658240,
          276824064,
          301989888,
          327155712,
          352321536,
          377487360,
          402653184
         ],
         "y": [
          69.76064,
          71.0336,
          74.8272,
          64.49504,
          65.23136,
          57.78272,
          56.00208,
          51.01968,
          50.80784,
          50.56048,
          47.15792,
          44.48064,
          47.37024
         ]
        },
        {
         "line": {
          "color": "chartreuse",
          "width": 3
         },
         "marker": {
          "line": {
           "color": "mediumvioletred",
           "width": 1
          },
          "size": 7,
          "symbol": "square-dot"
         },
         "mode": "lines+markers",
         "name": "MacFusProb_112mpi_1omp",
         "type": "scatter",
         "x": [
          176160768,
          220200960,
          264241152,
          308281344,
          352321536,
          396361728
         ],
         "y": [
          42.511,
          41.309520000000006,
          39.980920000000005,
          38.65596,
          37.65804,
          36.94964
         ]
        },
        {
         "line": {
          "color": "black",
          "width": 3
         },
         "marker": {
          "line": {
           "color": "mediumvioletred",
           "width": 1
          },
          "size": 7,
          "symbol": "square-dot"
         },
         "mode": "lines+markers",
         "name": "MacFusnonProb_112mpi_1omp",
         "type": "scatter",
         "x": [
          176160768,
          220200960,
          264241152,
          308281344,
          352321536,
          396361728
         ],
         "y": [
          47.0134,
          42.553839999999994,
          41.27312,
          40.34604,
          40.09572,
          38.9886
         ]
        },
        {
         "line": {
          "color": "gold",
          "width": 3
         },
         "marker": {
          "line": {
           "color": "black",
           "width": 1
          },
          "size": 6,
          "symbol": "triangle-up"
         },
         "mode": "lines+markers",
         "name": "MacFusProb_128mpi_1omp",
         "type": "scatter",
         "x": [
          201326592,
          251658240,
          301989888,
          352321536,
          402653184
         ],
         "y": [
          53.12512,
          46.75712,
          45.91616,
          44.8864,
          43.90272
         ]
        },
        {
         "line": {
          "color": "dimgray",
          "width": 3
         },
         "marker": {
          "line": {
           "color": "black",
           "width": 1
          },
          "size": 6,
          "symbol": "triangle-up"
         },
         "mode": "lines+markers",
         "name": "MacFusnonProb_128mpi_1omp",
         "type": "scatter",
         "x": [
          201326592,
          251658240,
          301989888,
          352321536,
          402653184
         ],
         "y": [
          54.75456,
          49.61088,
          47.93632,
          46.88896,
          46.12608
         ]
        }
       ],
       "layout": {
        "annotations": [
         {
          "align": "left",
          "arrowcolor": "#636363",
          "arrowhead": 1,
          "arrowsize": 1,
          "arrowwidth": 2,
          "ax": -20,
          "ay": -30,
          "font": {
           "color": "purple",
           "family": "Sans Serif",
           "size": 12
          },
          "showarrow": false,
          "text": "LLC Size Per Node",
          "x": "80e6",
          "y": 130,
          "yanchor": "bottom"
         }
        ],
        "shapes": [
         {
          "line": {
           "color": "green",
           "dash": "dash",
           "width": 3
          },
          "type": "line",
          "x0": 80000000,
          "x1": 80000000,
          "xref": "x",
          "y0": 0,
          "y1": 1,
          "yref": "y domain"
         }
        ],
        "template": {
         "data": {
          "bar": [
           {
            "error_x": {
             "color": "#2a3f5f"
            },
            "error_y": {
             "color": "#2a3f5f"
            },
            "marker": {
             "line": {
              "color": "#E5ECF6",
              "width": 0.5
             },
             "pattern": {
              "fillmode": "overlay",
              "size": 10,
              "solidity": 0.2
             }
            },
            "type": "bar"
           }
          ],
          "barpolar": [
           {
            "marker": {
             "line": {
              "color": "#E5ECF6",
              "width": 0.5
             },
             "pattern": {
              "fillmode": "overlay",
              "size": 10,
              "solidity": 0.2
             }
            },
            "type": "barpolar"
           }
          ],
          "carpet": [
           {
            "aaxis": {
             "endlinecolor": "#2a3f5f",
             "gridcolor": "white",
             "linecolor": "white",
             "minorgridcolor": "white",
             "startlinecolor": "#2a3f5f"
            },
            "baxis": {
             "endlinecolor": "#2a3f5f",
             "gridcolor": "white",
             "linecolor": "white",
             "minorgridcolor": "white",
             "startlinecolor": "#2a3f5f"
            },
            "type": "carpet"
           }
          ],
          "choropleth": [
           {
            "colorbar": {
             "outlinewidth": 0,
             "ticks": ""
            },
            "type": "choropleth"
           }
          ],
          "contour": [
           {
            "colorbar": {
             "outlinewidth": 0,
             "ticks": ""
            },
            "colorscale": [
             [
              0,
              "#0d0887"
             ],
             [
              0.1111111111111111,
              "#46039f"
             ],
             [
              0.2222222222222222,
              "#7201a8"
             ],
             [
              0.3333333333333333,
              "#9c179e"
             ],
             [
              0.4444444444444444,
              "#bd3786"
             ],
             [
              0.5555555555555556,
              "#d8576b"
             ],
             [
              0.6666666666666666,
              "#ed7953"
             ],
             [
              0.7777777777777778,
              "#fb9f3a"
             ],
             [
              0.8888888888888888,
              "#fdca26"
             ],
             [
              1,
              "#f0f921"
             ]
            ],
            "type": "contour"
           }
          ],
          "contourcarpet": [
           {
            "colorbar": {
             "outlinewidth": 0,
             "ticks": ""
            },
            "type": "contourcarpet"
           }
          ],
          "heatmap": [
           {
            "colorbar": {
             "outlinewidth": 0,
             "ticks": ""
            },
            "colorscale": [
             [
              0,
              "#0d0887"
             ],
             [
              0.1111111111111111,
              "#46039f"
             ],
             [
              0.2222222222222222,
              "#7201a8"
             ],
             [
              0.3333333333333333,
              "#9c179e"
             ],
             [
              0.4444444444444444,
              "#bd3786"
             ],
             [
              0.5555555555555556,
              "#d8576b"
             ],
             [
              0.6666666666666666,
              "#ed7953"
             ],
             [
              0.7777777777777778,
              "#fb9f3a"
             ],
             [
              0.8888888888888888,
              "#fdca26"
             ],
             [
              1,
              "#f0f921"
             ]
            ],
            "type": "heatmap"
           }
          ],
          "heatmapgl": [
           {
            "colorbar": {
             "outlinewidth": 0,
             "ticks": ""
            },
            "colorscale": [
             [
              0,
              "#0d0887"
             ],
             [
              0.1111111111111111,
              "#46039f"
             ],
             [
              0.2222222222222222,
              "#7201a8"
             ],
             [
              0.3333333333333333,
              "#9c179e"
             ],
             [
              0.4444444444444444,
              "#bd3786"
             ],
             [
              0.5555555555555556,
              "#d8576b"
             ],
             [
              0.6666666666666666,
              "#ed7953"
             ],
             [
              0.7777777777777778,
              "#fb9f3a"
             ],
             [
              0.8888888888888888,
              "#fdca26"
             ],
             [
              1,
              "#f0f921"
             ]
            ],
            "type": "heatmapgl"
           }
          ],
          "histogram": [
           {
            "marker": {
             "pattern": {
              "fillmode": "overlay",
              "size": 10,
              "solidity": 0.2
             }
            },
            "type": "histogram"
           }
          ],
          "histogram2d": [
           {
            "colorbar": {
             "outlinewidth": 0,
             "ticks": ""
            },
            "colorscale": [
             [
              0,
              "#0d0887"
             ],
             [
              0.1111111111111111,
              "#46039f"
             ],
             [
              0.2222222222222222,
              "#7201a8"
             ],
             [
              0.3333333333333333,
              "#9c179e"
             ],
             [
              0.4444444444444444,
              "#bd3786"
             ],
             [
              0.5555555555555556,
              "#d8576b"
             ],
             [
              0.6666666666666666,
              "#ed7953"
             ],
             [
              0.7777777777777778,
              "#fb9f3a"
             ],
             [
              0.8888888888888888,
              "#fdca26"
             ],
             [
              1,
              "#f0f921"
             ]
            ],
            "type": "histogram2d"
           }
          ],
          "histogram2dcontour": [
           {
            "colorbar": {
             "outlinewidth": 0,
             "ticks": ""
            },
            "colorscale": [
             [
              0,
              "#0d0887"
             ],
             [
              0.1111111111111111,
              "#46039f"
             ],
             [
              0.2222222222222222,
              "#7201a8"
             ],
             [
              0.3333333333333333,
              "#9c179e"
             ],
             [
              0.4444444444444444,
              "#bd3786"
             ],
             [
              0.5555555555555556,
              "#d8576b"
             ],
             [
              0.6666666666666666,
              "#ed7953"
             ],
             [
              0.7777777777777778,
              "#fb9f3a"
             ],
             [
              0.8888888888888888,
              "#fdca26"
             ],
             [
              1,
              "#f0f921"
             ]
            ],
            "type": "histogram2dcontour"
           }
          ],
          "mesh3d": [
           {
            "colorbar": {
             "outlinewidth": 0,
             "ticks": ""
            },
            "type": "mesh3d"
           }
          ],
          "parcoords": [
           {
            "line": {
             "colorbar": {
              "outlinewidth": 0,
              "ticks": ""
             }
            },
            "type": "parcoords"
           }
          ],
          "pie": [
           {
            "automargin": true,
            "type": "pie"
           }
          ],
          "scatter": [
           {
            "fillpattern": {
             "fillmode": "overlay",
             "size": 10,
             "solidity": 0.2
            },
            "type": "scatter"
           }
          ],
          "scatter3d": [
           {
            "line": {
             "colorbar": {
              "outlinewidth": 0,
              "ticks": ""
             }
            },
            "marker": {
             "colorbar": {
              "outlinewidth": 0,
              "ticks": ""
             }
            },
            "type": "scatter3d"
           }
          ],
          "scattercarpet": [
           {
            "marker": {
             "colorbar": {
              "outlinewidth": 0,
              "ticks": ""
             }
            },
            "type": "scattercarpet"
           }
          ],
          "scattergeo": [
           {
            "marker": {
             "colorbar": {
              "outlinewidth": 0,
              "ticks": ""
             }
            },
            "type": "scattergeo"
           }
          ],
          "scattergl": [
           {
            "marker": {
             "colorbar": {
              "outlinewidth": 0,
              "ticks": ""
             }
            },
            "type": "scattergl"
           }
          ],
          "scattermapbox": [
           {
            "marker": {
             "colorbar": {
              "outlinewidth": 0,
              "ticks": ""
             }
            },
            "type": "scattermapbox"
           }
          ],
          "scatterpolar": [
           {
            "marker": {
             "colorbar": {
              "outlinewidth": 0,
              "ticks": ""
             }
            },
            "type": "scatterpolar"
           }
          ],
          "scatterpolargl": [
           {
            "marker": {
             "colorbar": {
              "outlinewidth": 0,
              "ticks": ""
             }
            },
            "type": "scatterpolargl"
           }
          ],
          "scatterternary": [
           {
            "marker": {
             "colorbar": {
              "outlinewidth": 0,
              "ticks": ""
             }
            },
            "type": "scatterternary"
           }
          ],
          "surface": [
           {
            "colorbar": {
             "outlinewidth": 0,
             "ticks": ""
            },
            "colorscale": [
             [
              0,
              "#0d0887"
             ],
             [
              0.1111111111111111,
              "#46039f"
             ],
             [
              0.2222222222222222,
              "#7201a8"
             ],
             [
              0.3333333333333333,
              "#9c179e"
             ],
             [
              0.4444444444444444,
              "#bd3786"
             ],
             [
              0.5555555555555556,
              "#d8576b"
             ],
             [
              0.6666666666666666,
              "#ed7953"
             ],
             [
              0.7777777777777778,
              "#fb9f3a"
             ],
             [
              0.8888888888888888,
              "#fdca26"
             ],
             [
              1,
              "#f0f921"
             ]
            ],
            "type": "surface"
           }
          ],
          "table": [
           {
            "cells": {
             "fill": {
              "color": "#EBF0F8"
             },
             "line": {
              "color": "white"
             }
            },
            "header": {
             "fill": {
              "color": "#C8D4E3"
             },
             "line": {
              "color": "white"
             }
            },
            "type": "table"
           }
          ]
         },
         "layout": {
          "annotationdefaults": {
           "arrowcolor": "#2a3f5f",
           "arrowhead": 0,
           "arrowwidth": 1
          },
          "autotypenumbers": "strict",
          "coloraxis": {
           "colorbar": {
            "outlinewidth": 0,
            "ticks": ""
           }
          },
          "colorscale": {
           "diverging": [
            [
             0,
             "#8e0152"
            ],
            [
             0.1,
             "#c51b7d"
            ],
            [
             0.2,
             "#de77ae"
            ],
            [
             0.3,
             "#f1b6da"
            ],
            [
             0.4,
             "#fde0ef"
            ],
            [
             0.5,
             "#f7f7f7"
            ],
            [
             0.6,
             "#e6f5d0"
            ],
            [
             0.7,
             "#b8e186"
            ],
            [
             0.8,
             "#7fbc41"
            ],
            [
             0.9,
             "#4d9221"
            ],
            [
             1,
             "#276419"
            ]
           ],
           "sequential": [
            [
             0,
             "#0d0887"
            ],
            [
             0.1111111111111111,
             "#46039f"
            ],
            [
             0.2222222222222222,
             "#7201a8"
            ],
            [
             0.3333333333333333,
             "#9c179e"
            ],
            [
             0.4444444444444444,
             "#bd3786"
            ],
            [
             0.5555555555555556,
             "#d8576b"
            ],
            [
             0.6666666666666666,
             "#ed7953"
            ],
            [
             0.7777777777777778,
             "#fb9f3a"
            ],
            [
             0.8888888888888888,
             "#fdca26"
            ],
            [
             1,
             "#f0f921"
            ]
           ],
           "sequentialminus": [
            [
             0,
             "#0d0887"
            ],
            [
             0.1111111111111111,
             "#46039f"
            ],
            [
             0.2222222222222222,
             "#7201a8"
            ],
            [
             0.3333333333333333,
             "#9c179e"
            ],
            [
             0.4444444444444444,
             "#bd3786"
            ],
            [
             0.5555555555555556,
             "#d8576b"
            ],
            [
             0.6666666666666666,
             "#ed7953"
            ],
            [
             0.7777777777777778,
             "#fb9f3a"
            ],
            [
             0.8888888888888888,
             "#fdca26"
            ],
            [
             1,
             "#f0f921"
            ]
           ]
          },
          "colorway": [
           "#636efa",
           "#EF553B",
           "#00cc96",
           "#ab63fa",
           "#FFA15A",
           "#19d3f3",
           "#FF6692",
           "#B6E880",
           "#FF97FF",
           "#FECB52"
          ],
          "font": {
           "color": "#2a3f5f"
          },
          "geo": {
           "bgcolor": "white",
           "lakecolor": "white",
           "landcolor": "#E5ECF6",
           "showlakes": true,
           "showland": true,
           "subunitcolor": "white"
          },
          "hoverlabel": {
           "align": "left"
          },
          "hovermode": "closest",
          "mapbox": {
           "style": "light"
          },
          "paper_bgcolor": "white",
          "plot_bgcolor": "#E5ECF6",
          "polar": {
           "angularaxis": {
            "gridcolor": "white",
            "linecolor": "white",
            "ticks": ""
           },
           "bgcolor": "#E5ECF6",
           "radialaxis": {
            "gridcolor": "white",
            "linecolor": "white",
            "ticks": ""
           }
          },
          "scene": {
           "xaxis": {
            "backgroundcolor": "#E5ECF6",
            "gridcolor": "white",
            "gridwidth": 2,
            "linecolor": "white",
            "showbackground": true,
            "ticks": "",
            "zerolinecolor": "white"
           },
           "yaxis": {
            "backgroundcolor": "#E5ECF6",
            "gridcolor": "white",
            "gridwidth": 2,
            "linecolor": "white",
            "showbackground": true,
            "ticks": "",
            "zerolinecolor": "white"
           },
           "zaxis": {
            "backgroundcolor": "#E5ECF6",
            "gridcolor": "white",
            "gridwidth": 2,
            "linecolor": "white",
            "showbackground": true,
            "ticks": "",
            "zerolinecolor": "white"
           }
          },
          "shapedefaults": {
           "line": {
            "color": "#2a3f5f"
           }
          },
          "ternary": {
           "aaxis": {
            "gridcolor": "white",
            "linecolor": "white",
            "ticks": ""
           },
           "baxis": {
            "gridcolor": "white",
            "linecolor": "white",
            "ticks": ""
           },
           "bgcolor": "#E5ECF6",
           "caxis": {
            "gridcolor": "white",
            "linecolor": "white",
            "ticks": ""
           }
          },
          "title": {
           "x": 0.05
          },
          "xaxis": {
           "automargin": true,
           "gridcolor": "white",
           "linecolor": "white",
           "ticks": "",
           "title": {
            "standoff": 15
           },
           "zerolinecolor": "white",
           "zerolinewidth": 2
          },
          "yaxis": {
           "automargin": true,
           "gridcolor": "white",
           "linecolor": "white",
           "ticks": "",
           "title": {
            "standoff": 15
           },
           "zerolinecolor": "white",
           "zerolinewidth": 2
          }
         }
        },
        "title": {
         "text": "\"Macro Fused: probempi vs nonprobempi\" GFlops Measurement"
        },
        "xaxis": {
         "ticks": "outside",
         "title": {
          "text": "Dirc_Data_Mov"
         }
        },
        "yaxis": {
         "ticks": "outside",
         "title": {
          "text": "GFLOPs/Node"
         }
        }
       }
      },
      "text/html": [
       "<div>                            <div id=\"b81997a9-e689-44e2-8ecd-fdb6e0005b2b\" class=\"plotly-graph-div\" style=\"height:525px; width:100%;\"></div>            <script type=\"text/javascript\">                require([\"plotly\"], function(Plotly) {                    window.PLOTLYENV=window.PLOTLYENV || {};                                    if (document.getElementById(\"b81997a9-e689-44e2-8ecd-fdb6e0005b2b\")) {                    Plotly.newPlot(                        \"b81997a9-e689-44e2-8ecd-fdb6e0005b2b\",                        [{\"line\":{\"color\":\"darkcyan\",\"width\":3},\"marker\":{\"line\":{\"color\":\"yellow\",\"width\":1},\"size\":9,\"symbol\":\"hexagon\"},\"mode\":\"lines+markers\",\"name\":\"MacFusProb_32mpi_4omp\",\"x\":[50331648.0,62914560.0,75497472.0,88080384.0,100663296.0,113246208.0,125829120.0,138412032.0,150994944.0,163577856.0,176160768.0,188743680.0,201326592.0,213909504.0,226492416.0,239075328.0,251658240.0,264241152.0,276824064.0,289406976.0,301989888.0,314572800.0,327155712.0,339738624.0,352321536.0,364904448.0,377487360.0,390070272.0,402653184.0],\"y\":[48.99656,51.5272,54.05216,57.12592,57.21072,58.33072,58.62104,58.72488,58.51352,55.61024,54.34272,52.81896,50.42568,48.8848,47.73736,45.82648,43.29752,43.27584,42.43848,41.91088,41.63432,41.54664,41.34864,41.18056,41.03664,40.92696,40.46024,40.79632,40.48272],\"type\":\"scatter\"},{\"line\":{\"color\":\"magenta\",\"width\":3},\"marker\":{\"line\":{\"color\":\"yellow\",\"width\":1},\"size\":9,\"symbol\":\"hexagon\"},\"mode\":\"lines+markers\",\"name\":\"MacFusNonProb_32mpi_4omp\",\"x\":[50331648.0,62914560.0,75497472.0,88080384.0,100663296.0,113246208.0,125829120.0,138412032.0,150994944.0,163577856.0,176160768.0,188743680.0,201326592.0,213909504.0,226492416.0,239075328.0,251658240.0,264241152.0,276824064.0,289406976.0,301989888.0,314572800.0,327155712.0,339738624.0,352321536.0,364904448.0,377487360.0,390070272.0,402653184.0],\"y\":[50.35896,54.59176,57.16856,59.6992,62.66256,63.26608,71.60176,64.274,64.12904,63.19472,62.75336,58.85424,58.24288,56.2036,50.66808,51.96576,49.53872,48.38608,47.56392,46.97392,45.90216,45.20528,44.61336,44.05936,43.93584,43.85592,43.42128,43.33432,42.90344],\"type\":\"scatter\"},{\"line\":{\"color\":\"royalblue\",\"width\":3},\"marker\":{\"line\":{\"color\":\"MediumPurple\",\"width\":2},\"size\":5,\"symbol\":\"diamond\"},\"mode\":\"lines+markers\",\"name\":\"MacFusProb_40mpi_3omp\",\"x\":[62914560.0,94371840.0,125829120.0,157286400.0,188743680.0,220200960.0,251658240.0,283115520.0,314572800.0,346030080.0,377487360.0],\"y\":[47.345800000000004,54.620400000000004,52.4239,45.716,39.814,36.2489,35.922,35.3404,34.705400000000004,35.8889,35.0161],\"type\":\"scatter\"},{\"line\":{\"color\":\"sandybrown\",\"width\":3},\"marker\":{\"line\":{\"color\":\"MediumPurple\",\"width\":2},\"size\":5,\"symbol\":\"diamond\"},\"mode\":\"lines+markers\",\"name\":\"MacFusNonProb_40mpi_3omp\",\"x\":[62914560.0,94371840.0,125829120.0,157286400.0,188743680.0,220200960.0,251658240.0,283115520.0,314572800.0,346030080.0,377487360.0],\"y\":[49.911,58.5772,57.442,50.7385,45.7592,39.8515,37.787099999999995,37.3195,38.418,37.4015,37.6433],\"type\":\"scatter\"},{\"line\":{\"color\":\"darkblue\",\"width\":3},\"marker\":{\"line\":{\"color\":\"tomato\",\"width\":2},\"size\":7,\"symbol\":\"circle\"},\"mode\":\"lines+markers\",\"name\":\"MacFusProb_56mpi_2omp\",\"x\":[88080384.0,132120576.0,176160768.0,220200960.0,264241152.0,308281344.0,352321536.0,396361728.0],\"y\":[53.02948,53.0019,48.4127,42.89474,42.0098,40.39,39.3302,38.8318],\"type\":\"scatter\"},{\"line\":{\"color\":\"cyan\",\"width\":3},\"marker\":{\"line\":{\"color\":\"Purple\",\"width\":2},\"size\":7,\"symbol\":\"circle\"},\"mode\":\"lines+markers\",\"name\":\"MacFusnonProb_56mpi_2omp\",\"x\":[88080384.0,132120576.0,176160768.0,220200960.0,264241152.0,308281344.0,352321536.0,396361728.0],\"y\":[54.6644,64.80264,51.61184,47.68218,44.44006,42.4249,40.800900000000006,40.0162],\"type\":\"scatter\"},{\"line\":{\"color\":\"blue\",\"width\":3},\"marker\":{\"line\":{\"color\":\"black\",\"width\":1},\"size\":7,\"symbol\":\"star\"},\"mode\":\"lines+markers\",\"name\":\"MacFusProb_64mpi_2omp\",\"x\":[100663296.0,125829120.0,150994944.0,176160768.0,201326592.0,226492416.0,251658240.0,276824064.0,301989888.0,327155712.0,352321536.0,377487360.0,402653184.0],\"y\":[65.39104,68.1152,63.64768,61.62048,56.81424,53.92,49.75184,48.0632,48.12816,47.01888,46.28912,46.17376,45.52992],\"type\":\"scatter\"},{\"line\":{\"color\":\"red\",\"width\":3},\"marker\":{\"line\":{\"color\":\"black\",\"width\":1},\"size\":7,\"symbol\":\"star\"},\"mode\":\"lines+markers\",\"name\":\"MacFusnonProb_64mpi_2omp\",\"x\":[100663296.0,125829120.0,150994944.0,176160768.0,201326592.0,226492416.0,251658240.0,276824064.0,301989888.0,327155712.0,352321536.0,377487360.0,402653184.0],\"y\":[69.76064,71.0336,74.8272,64.49504,65.23136,57.78272,56.00208,51.01968,50.80784,50.56048,47.15792,44.48064,47.37024],\"type\":\"scatter\"},{\"line\":{\"color\":\"chartreuse\",\"width\":3},\"marker\":{\"line\":{\"color\":\"mediumvioletred\",\"width\":1},\"size\":7,\"symbol\":\"square-dot\"},\"mode\":\"lines+markers\",\"name\":\"MacFusProb_112mpi_1omp\",\"x\":[176160768.0,220200960.0,264241152.0,308281344.0,352321536.0,396361728.0],\"y\":[42.511,41.309520000000006,39.980920000000005,38.65596,37.65804,36.94964],\"type\":\"scatter\"},{\"line\":{\"color\":\"black\",\"width\":3},\"marker\":{\"line\":{\"color\":\"mediumvioletred\",\"width\":1},\"size\":7,\"symbol\":\"square-dot\"},\"mode\":\"lines+markers\",\"name\":\"MacFusnonProb_112mpi_1omp\",\"x\":[176160768.0,220200960.0,264241152.0,308281344.0,352321536.0,396361728.0],\"y\":[47.0134,42.553839999999994,41.27312,40.34604,40.09572,38.9886],\"type\":\"scatter\"},{\"line\":{\"color\":\"gold\",\"width\":3},\"marker\":{\"line\":{\"color\":\"black\",\"width\":1},\"size\":6,\"symbol\":\"triangle-up\"},\"mode\":\"lines+markers\",\"name\":\"MacFusProb_128mpi_1omp\",\"x\":[201326592.0,251658240.0,301989888.0,352321536.0,402653184.0],\"y\":[53.12512,46.75712,45.91616,44.8864,43.90272],\"type\":\"scatter\"},{\"line\":{\"color\":\"dimgray\",\"width\":3},\"marker\":{\"line\":{\"color\":\"black\",\"width\":1},\"size\":6,\"symbol\":\"triangle-up\"},\"mode\":\"lines+markers\",\"name\":\"MacFusnonProb_128mpi_1omp\",\"x\":[201326592.0,251658240.0,301989888.0,352321536.0,402653184.0],\"y\":[54.75456,49.61088,47.93632,46.88896,46.12608],\"type\":\"scatter\"}],                        {\"template\":{\"data\":{\"histogram2dcontour\":[{\"type\":\"histogram2dcontour\",\"colorbar\":{\"outlinewidth\":0,\"ticks\":\"\"},\"colorscale\":[[0.0,\"#0d0887\"],[0.1111111111111111,\"#46039f\"],[0.2222222222222222,\"#7201a8\"],[0.3333333333333333,\"#9c179e\"],[0.4444444444444444,\"#bd3786\"],[0.5555555555555556,\"#d8576b\"],[0.6666666666666666,\"#ed7953\"],[0.7777777777777778,\"#fb9f3a\"],[0.8888888888888888,\"#fdca26\"],[1.0,\"#f0f921\"]]}],\"choropleth\":[{\"type\":\"choropleth\",\"colorbar\":{\"outlinewidth\":0,\"ticks\":\"\"}}],\"histogram2d\":[{\"type\":\"histogram2d\",\"colorbar\":{\"outlinewidth\":0,\"ticks\":\"\"},\"colorscale\":[[0.0,\"#0d0887\"],[0.1111111111111111,\"#46039f\"],[0.2222222222222222,\"#7201a8\"],[0.3333333333333333,\"#9c179e\"],[0.4444444444444444,\"#bd3786\"],[0.5555555555555556,\"#d8576b\"],[0.6666666666666666,\"#ed7953\"],[0.7777777777777778,\"#fb9f3a\"],[0.8888888888888888,\"#fdca26\"],[1.0,\"#f0f921\"]]}],\"heatmap\":[{\"type\":\"heatmap\",\"colorbar\":{\"outlinewidth\":0,\"ticks\":\"\"},\"colorscale\":[[0.0,\"#0d0887\"],[0.1111111111111111,\"#46039f\"],[0.2222222222222222,\"#7201a8\"],[0.3333333333333333,\"#9c179e\"],[0.4444444444444444,\"#bd3786\"],[0.5555555555555556,\"#d8576b\"],[0.6666666666666666,\"#ed7953\"],[0.7777777777777778,\"#fb9f3a\"],[0.8888888888888888,\"#fdca26\"],[1.0,\"#f0f921\"]]}],\"heatmapgl\":[{\"type\":\"heatmapgl\",\"colorbar\":{\"outlinewidth\":0,\"ticks\":\"\"},\"colorscale\":[[0.0,\"#0d0887\"],[0.1111111111111111,\"#46039f\"],[0.2222222222222222,\"#7201a8\"],[0.3333333333333333,\"#9c179e\"],[0.4444444444444444,\"#bd3786\"],[0.5555555555555556,\"#d8576b\"],[0.6666666666666666,\"#ed7953\"],[0.7777777777777778,\"#fb9f3a\"],[0.8888888888888888,\"#fdca26\"],[1.0,\"#f0f921\"]]}],\"contourcarpet\":[{\"type\":\"contourcarpet\",\"colorbar\":{\"outlinewidth\":0,\"ticks\":\"\"}}],\"contour\":[{\"type\":\"contour\",\"colorbar\":{\"outlinewidth\":0,\"ticks\":\"\"},\"colorscale\":[[0.0,\"#0d0887\"],[0.1111111111111111,\"#46039f\"],[0.2222222222222222,\"#7201a8\"],[0.3333333333333333,\"#9c179e\"],[0.4444444444444444,\"#bd3786\"],[0.5555555555555556,\"#d8576b\"],[0.6666666666666666,\"#ed7953\"],[0.7777777777777778,\"#fb9f3a\"],[0.8888888888888888,\"#fdca26\"],[1.0,\"#f0f921\"]]}],\"surface\":[{\"type\":\"surface\",\"colorbar\":{\"outlinewidth\":0,\"ticks\":\"\"},\"colorscale\":[[0.0,\"#0d0887\"],[0.1111111111111111,\"#46039f\"],[0.2222222222222222,\"#7201a8\"],[0.3333333333333333,\"#9c179e\"],[0.4444444444444444,\"#bd3786\"],[0.5555555555555556,\"#d8576b\"],[0.6666666666666666,\"#ed7953\"],[0.7777777777777778,\"#fb9f3a\"],[0.8888888888888888,\"#fdca26\"],[1.0,\"#f0f921\"]]}],\"mesh3d\":[{\"type\":\"mesh3d\",\"colorbar\":{\"outlinewidth\":0,\"ticks\":\"\"}}],\"scatter\":[{\"fillpattern\":{\"fillmode\":\"overlay\",\"size\":10,\"solidity\":0.2},\"type\":\"scatter\"}],\"parcoords\":[{\"type\":\"parcoords\",\"line\":{\"colorbar\":{\"outlinewidth\":0,\"ticks\":\"\"}}}],\"scatterpolargl\":[{\"type\":\"scatterpolargl\",\"marker\":{\"colorbar\":{\"outlinewidth\":0,\"ticks\":\"\"}}}],\"bar\":[{\"error_x\":{\"color\":\"#2a3f5f\"},\"error_y\":{\"color\":\"#2a3f5f\"},\"marker\":{\"line\":{\"color\":\"#E5ECF6\",\"width\":0.5},\"pattern\":{\"fillmode\":\"overlay\",\"size\":10,\"solidity\":0.2}},\"type\":\"bar\"}],\"scattergeo\":[{\"type\":\"scattergeo\",\"marker\":{\"colorbar\":{\"outlinewidth\":0,\"ticks\":\"\"}}}],\"scatterpolar\":[{\"type\":\"scatterpolar\",\"marker\":{\"colorbar\":{\"outlinewidth\":0,\"ticks\":\"\"}}}],\"histogram\":[{\"marker\":{\"pattern\":{\"fillmode\":\"overlay\",\"size\":10,\"solidity\":0.2}},\"type\":\"histogram\"}],\"scattergl\":[{\"type\":\"scattergl\",\"marker\":{\"colorbar\":{\"outlinewidth\":0,\"ticks\":\"\"}}}],\"scatter3d\":[{\"type\":\"scatter3d\",\"line\":{\"colorbar\":{\"outlinewidth\":0,\"ticks\":\"\"}},\"marker\":{\"colorbar\":{\"outlinewidth\":0,\"ticks\":\"\"}}}],\"scattermapbox\":[{\"type\":\"scattermapbox\",\"marker\":{\"colorbar\":{\"outlinewidth\":0,\"ticks\":\"\"}}}],\"scatterternary\":[{\"type\":\"scatterternary\",\"marker\":{\"colorbar\":{\"outlinewidth\":0,\"ticks\":\"\"}}}],\"scattercarpet\":[{\"type\":\"scattercarpet\",\"marker\":{\"colorbar\":{\"outlinewidth\":0,\"ticks\":\"\"}}}],\"carpet\":[{\"aaxis\":{\"endlinecolor\":\"#2a3f5f\",\"gridcolor\":\"white\",\"linecolor\":\"white\",\"minorgridcolor\":\"white\",\"startlinecolor\":\"#2a3f5f\"},\"baxis\":{\"endlinecolor\":\"#2a3f5f\",\"gridcolor\":\"white\",\"linecolor\":\"white\",\"minorgridcolor\":\"white\",\"startlinecolor\":\"#2a3f5f\"},\"type\":\"carpet\"}],\"table\":[{\"cells\":{\"fill\":{\"color\":\"#EBF0F8\"},\"line\":{\"color\":\"white\"}},\"header\":{\"fill\":{\"color\":\"#C8D4E3\"},\"line\":{\"color\":\"white\"}},\"type\":\"table\"}],\"barpolar\":[{\"marker\":{\"line\":{\"color\":\"#E5ECF6\",\"width\":0.5},\"pattern\":{\"fillmode\":\"overlay\",\"size\":10,\"solidity\":0.2}},\"type\":\"barpolar\"}],\"pie\":[{\"automargin\":true,\"type\":\"pie\"}]},\"layout\":{\"autotypenumbers\":\"strict\",\"colorway\":[\"#636efa\",\"#EF553B\",\"#00cc96\",\"#ab63fa\",\"#FFA15A\",\"#19d3f3\",\"#FF6692\",\"#B6E880\",\"#FF97FF\",\"#FECB52\"],\"font\":{\"color\":\"#2a3f5f\"},\"hovermode\":\"closest\",\"hoverlabel\":{\"align\":\"left\"},\"paper_bgcolor\":\"white\",\"plot_bgcolor\":\"#E5ECF6\",\"polar\":{\"bgcolor\":\"#E5ECF6\",\"angularaxis\":{\"gridcolor\":\"white\",\"linecolor\":\"white\",\"ticks\":\"\"},\"radialaxis\":{\"gridcolor\":\"white\",\"linecolor\":\"white\",\"ticks\":\"\"}},\"ternary\":{\"bgcolor\":\"#E5ECF6\",\"aaxis\":{\"gridcolor\":\"white\",\"linecolor\":\"white\",\"ticks\":\"\"},\"baxis\":{\"gridcolor\":\"white\",\"linecolor\":\"white\",\"ticks\":\"\"},\"caxis\":{\"gridcolor\":\"white\",\"linecolor\":\"white\",\"ticks\":\"\"}},\"coloraxis\":{\"colorbar\":{\"outlinewidth\":0,\"ticks\":\"\"}},\"colorscale\":{\"sequential\":[[0.0,\"#0d0887\"],[0.1111111111111111,\"#46039f\"],[0.2222222222222222,\"#7201a8\"],[0.3333333333333333,\"#9c179e\"],[0.4444444444444444,\"#bd3786\"],[0.5555555555555556,\"#d8576b\"],[0.6666666666666666,\"#ed7953\"],[0.7777777777777778,\"#fb9f3a\"],[0.8888888888888888,\"#fdca26\"],[1.0,\"#f0f921\"]],\"sequentialminus\":[[0.0,\"#0d0887\"],[0.1111111111111111,\"#46039f\"],[0.2222222222222222,\"#7201a8\"],[0.3333333333333333,\"#9c179e\"],[0.4444444444444444,\"#bd3786\"],[0.5555555555555556,\"#d8576b\"],[0.6666666666666666,\"#ed7953\"],[0.7777777777777778,\"#fb9f3a\"],[0.8888888888888888,\"#fdca26\"],[1.0,\"#f0f921\"]],\"diverging\":[[0,\"#8e0152\"],[0.1,\"#c51b7d\"],[0.2,\"#de77ae\"],[0.3,\"#f1b6da\"],[0.4,\"#fde0ef\"],[0.5,\"#f7f7f7\"],[0.6,\"#e6f5d0\"],[0.7,\"#b8e186\"],[0.8,\"#7fbc41\"],[0.9,\"#4d9221\"],[1,\"#276419\"]]},\"xaxis\":{\"gridcolor\":\"white\",\"linecolor\":\"white\",\"ticks\":\"\",\"title\":{\"standoff\":15},\"zerolinecolor\":\"white\",\"automargin\":true,\"zerolinewidth\":2},\"yaxis\":{\"gridcolor\":\"white\",\"linecolor\":\"white\",\"ticks\":\"\",\"title\":{\"standoff\":15},\"zerolinecolor\":\"white\",\"automargin\":true,\"zerolinewidth\":2},\"scene\":{\"xaxis\":{\"backgroundcolor\":\"#E5ECF6\",\"gridcolor\":\"white\",\"linecolor\":\"white\",\"showbackground\":true,\"ticks\":\"\",\"zerolinecolor\":\"white\",\"gridwidth\":2},\"yaxis\":{\"backgroundcolor\":\"#E5ECF6\",\"gridcolor\":\"white\",\"linecolor\":\"white\",\"showbackground\":true,\"ticks\":\"\",\"zerolinecolor\":\"white\",\"gridwidth\":2},\"zaxis\":{\"backgroundcolor\":\"#E5ECF6\",\"gridcolor\":\"white\",\"linecolor\":\"white\",\"showbackground\":true,\"ticks\":\"\",\"zerolinecolor\":\"white\",\"gridwidth\":2}},\"shapedefaults\":{\"line\":{\"color\":\"#2a3f5f\"}},\"annotationdefaults\":{\"arrowcolor\":\"#2a3f5f\",\"arrowhead\":0,\"arrowwidth\":1},\"geo\":{\"bgcolor\":\"white\",\"landcolor\":\"#E5ECF6\",\"subunitcolor\":\"white\",\"showland\":true,\"showlakes\":true,\"lakecolor\":\"white\"},\"title\":{\"x\":0.05},\"mapbox\":{\"style\":\"light\"}}},\"shapes\":[{\"line\":{\"color\":\"green\",\"dash\":\"dash\",\"width\":3},\"type\":\"line\",\"x0\":80000000.0,\"x1\":80000000.0,\"xref\":\"x\",\"y0\":0,\"y1\":1,\"yref\":\"y domain\"}],\"annotations\":[{\"align\":\"left\",\"arrowcolor\":\"#636363\",\"arrowhead\":1,\"arrowsize\":1,\"arrowwidth\":2,\"ax\":-20,\"ay\":-30,\"font\":{\"color\":\"purple\",\"family\":\"Sans Serif\",\"size\":12},\"showarrow\":false,\"text\":\"LLC Size Per Node\",\"x\":\"80e6\",\"y\":130,\"yanchor\":\"bottom\"}],\"xaxis\":{\"title\":{\"text\":\"Dirc_Data_Mov\"},\"ticks\":\"outside\"},\"yaxis\":{\"title\":{\"text\":\"GFLOPs/Node\"},\"ticks\":\"outside\"},\"title\":{\"text\":\"\\\"Macro Fused: probempi vs nonprobempi\\\" GFlops Measurement\"}},                        {\"responsive\": true}                    ).then(function(){\n",
       "                            \n",
       "var gd = document.getElementById('b81997a9-e689-44e2-8ecd-fdb6e0005b2b');\n",
       "var x = new MutationObserver(function (mutations, observer) {{\n",
       "        var display = window.getComputedStyle(gd).display;\n",
       "        if (!display || display === 'none') {{\n",
       "            console.log([gd, 'removed!']);\n",
       "            Plotly.purge(gd);\n",
       "            observer.disconnect();\n",
       "        }}\n",
       "}});\n",
       "\n",
       "// Listen for the removal of the full notebook cells\n",
       "var notebookContainer = gd.closest('#notebook-container');\n",
       "if (notebookContainer) {{\n",
       "    x.observe(notebookContainer, {childList: true});\n",
       "}}\n",
       "\n",
       "// Listen for the clearing of the current output cell\n",
       "var outputEl = gd.closest('.output');\n",
       "if (outputEl) {{\n",
       "    x.observe(outputEl, {childList: true});\n",
       "}}\n",
       "\n",
       "                        })                };                });            </script>        </div>"
      ]
     },
     "metadata": {},
     "output_type": "display_data"
    }
   ],
   "source": [
    "fig = go.Figure() \n",
    "\n",
    "# 1----\n",
    "fig.add_trace(go.Scatter(x=(dfn4MacFusProb_32mpi_4omp.Dirc_Data_Mov*(dfn4MacFusProb_32mpi_4omp.MPI_size/4)), \n",
    "                         y=(dfn4MacFusProb_32mpi_4omp.GFLOPS*(dfn4MacFusProb_32mpi_4omp.MPI_size/4)), \n",
    "                         mode='lines+markers', \n",
    "                         name='MacFusProb_32mpi_4omp',\n",
    "                         line=dict(color='darkcyan',width=3),\n",
    "                         marker=dict(symbol='hexagon',size=9, line=dict(color='yellow',width=1))))\n",
    "\n",
    "fig.add_trace(go.Scatter(x=(dfn4MacFusNonProb_32mpi_4omp.Dirc_Data_Mov*(dfn4MacFusNonProb_32mpi_4omp.MPI_size/4)), \n",
    "                         y=(dfn4MacFusNonProb_32mpi_4omp.GFLOPS*(dfn4MacFusNonProb_32mpi_4omp.MPI_size/4)), \n",
    "                         mode='lines+markers', \n",
    "                         name='MacFusNonProb_32mpi_4omp',\n",
    "                         line=dict(color='magenta',width=3),\n",
    "                         marker=dict(symbol='hexagon',size=9, line=dict(color='yellow',width=1))))\n",
    "\n",
    "\n",
    "# 2----\n",
    "fig.add_trace(go.Scatter(x=(dfn4MacFusProb_40mpi_3omp.Dirc_Data_Mov*(dfn4MacFusProb_40mpi_3omp.MPI_size/4)), \n",
    "                         y=(dfn4MacFusProb_40mpi_3omp.GFLOPS*(dfn4MacFusProb_40mpi_3omp.MPI_size/4)), \n",
    "                         mode='lines+markers', \n",
    "                         name='MacFusProb_40mpi_3omp',\n",
    "                         line=dict(color='royalblue',width=3),\n",
    "                         marker=dict(symbol='diamond',size=5,line=dict(color='MediumPurple',width=2))))\n",
    "\n",
    "fig.add_trace(go.Scatter(x=(dfn4MacFusNonProb_40mpi_3omp.Dirc_Data_Mov*(dfn4MacFusNonProb_40mpi_3omp.MPI_size/4)), \n",
    "                         y=(dfn4MacFusNonProb_40mpi_3omp.GFLOPS*(dfn4MacFusNonProb_40mpi_3omp.MPI_size/4)), \n",
    "                         mode='lines+markers', \n",
    "                         name='MacFusNonProb_40mpi_3omp',\n",
    "                         line=dict(color='sandybrown',width=3),\n",
    "                         marker=dict(symbol='diamond',size=5,line=dict(color='MediumPurple',width=2))))\n",
    "\n",
    "\n",
    "# 3----\n",
    "fig.add_trace(go.Scatter(x=(dfn4MacFusProb_56mpi_2omp.Dirc_Data_Mov*(dfn4MacFusProb_56mpi_2omp.MPI_size/4)), \n",
    "                         y=(dfn4MacFusProb_56mpi_2omp.GFLOPS*(dfn4MacFusProb_56mpi_2omp.MPI_size/4)), \n",
    "                         mode='lines+markers', \n",
    "                         name='MacFusProb_56mpi_2omp',\n",
    "                         line=dict(color='darkblue',width=3),\n",
    "                         marker=dict(symbol='circle',size=7, line=dict(color='tomato',width=2))))\n",
    "\n",
    "fig.add_trace(go.Scatter(x=(dfn4MacFusnonProb_56mpi_2omp.Dirc_Data_Mov*(dfn4MacFusnonProb_56mpi_2omp.MPI_size/4)), \n",
    "                         y=(dfn4MacFusnonProb_56mpi_2omp.GFLOPS*(dfn4MacFusnonProb_56mpi_2omp.MPI_size/4)), \n",
    "                         mode='lines+markers', \n",
    "                         name='MacFusnonProb_56mpi_2omp',\n",
    "                         line=dict(color='cyan',width=3),\n",
    "                         marker=dict(symbol='circle',size=7,line=dict(color='Purple',width=2))))\n",
    "\n",
    "\n",
    "\n",
    "# 4----\n",
    "fig.add_trace(go.Scatter(x=(dfn4MacFusProb_64mpi_2omp.Dirc_Data_Mov*(dfn4MacFusProb_64mpi_2omp.MPI_size/4)), \n",
    "                         y=(dfn4MacFusProb_64mpi_2omp.GFLOPS*(dfn4MacFusProb_64mpi_2omp.MPI_size/4)), \n",
    "                         mode='lines+markers', \n",
    "                         name='MacFusProb_64mpi_2omp',\n",
    "                         line=dict(color='blue',width=3),\n",
    "                         marker=dict(symbol='star',size=7, line=dict(color='black',width=1))))\n",
    "\n",
    "fig.add_trace(go.Scatter(x=(dfn4MacFusnonProb_64mpi_2omp.Dirc_Data_Mov*(dfn4MacFusnonProb_64mpi_2omp.MPI_size/4)), \n",
    "                         y=(dfn4MacFusnonProb_64mpi_2omp.GFLOPS*(dfn4MacFusnonProb_64mpi_2omp.MPI_size/4)), \n",
    "                         mode='lines+markers', \n",
    "                         name='MacFusnonProb_64mpi_2omp',\n",
    "                         line=dict(color='red',width=3),\n",
    "                         marker=dict(symbol='star',size=7, line=dict(color='black',width=1))))\n",
    "\n",
    "\n",
    "# 5----\n",
    "fig.add_trace(go.Scatter(x=(dfn4MacFusProb_112mpi_1omp.Dirc_Data_Mov*(dfn4MacFusProb_112mpi_1omp.MPI_size/4)), \n",
    "                         y=(dfn4MacFusProb_112mpi_1omp.GFLOPS*(dfn4MacFusProb_112mpi_1omp.MPI_size/4)), \n",
    "                         mode='lines+markers', \n",
    "                         name='MacFusProb_112mpi_1omp',\n",
    "                         line=dict(color='chartreuse',width=3),\n",
    "                         marker=dict(symbol='square-dot',size=7, line=dict(color='mediumvioletred',width=1))))\n",
    "\n",
    "fig.add_trace(go.Scatter(x=(dfn4MacFusnonProb_112mpi_1omp.Dirc_Data_Mov*(dfn4MacFusnonProb_112mpi_1omp.MPI_size/4)), \n",
    "                         y=(dfn4MacFusnonProb_112mpi_1omp.GFLOPS*(dfn4MacFusnonProb_112mpi_1omp.MPI_size/4)), \n",
    "                         mode='lines+markers', \n",
    "                         name='MacFusnonProb_112mpi_1omp',\n",
    "                         line=dict(color='black',width=3),\n",
    "                         marker=dict(symbol='square-dot',size=7, line=dict(color='mediumvioletred',width=1))))\n",
    "\n",
    "\n",
    "# 6----\n",
    "fig.add_trace(go.Scatter(x=(dfn4MacFusProb_128mpi_1omp.Dirc_Data_Mov*(dfn4MacFusProb_128mpi_1omp.MPI_size/4)), \n",
    "                         y=(dfn4MacFusProb_128mpi_1omp.GFLOPS*(dfn4MacFusProb_128mpi_1omp.MPI_size/4)), \n",
    "                         mode='lines+markers', \n",
    "                         name='MacFusProb_128mpi_1omp',\n",
    "                         line=dict(color='gold',width=3),\n",
    "                         marker=dict(symbol='triangle-up',size=6, line=dict(color='black',width=1))))\n",
    "\n",
    "fig.add_trace(go.Scatter(x=(dfn4MacFusnonProb_128mpi_1omp.Dirc_Data_Mov*(dfn4MacFusnonProb_128mpi_1omp.MPI_size/4)), \n",
    "                         y=(dfn4MacFusnonProb_128mpi_1omp.GFLOPS*(dfn4MacFusnonProb_128mpi_1omp.MPI_size/4)), \n",
    "                         mode='lines+markers', \n",
    "                         name='MacFusnonProb_128mpi_1omp',\n",
    "                         line=dict(color='dimgray',width=3),\n",
    "                         marker=dict(symbol='triangle-up',size=6, line=dict(color='black',width=1))))\n",
    "\n",
    "\n",
    "\n",
    "# Adding a vertical line\n",
    "fig.add_vline(x=80e6, line_width=3, line_dash=\"dash\", line_color=\"green\")\n",
    "# fig.add_hline(y=1024, line_width=3, line_dash=\"dash\", line_color=\"red\")\n",
    "\n",
    "# Add annotation\n",
    "fig.add_annotation(\n",
    "    x='80e6'\n",
    "    , y=130\n",
    "    , text=f'LLC Size Per Node'\n",
    "    , yanchor='bottom'\n",
    "    , showarrow=False\n",
    "    , arrowhead=1\n",
    "    , arrowsize=1\n",
    "    , arrowwidth=2\n",
    "    , arrowcolor=\"#636363\"\n",
    "    , ax=-20\n",
    "    , ay=-30\n",
    "    , font=dict(size=12, color=\"purple\", family=\"Sans Serif\")\n",
    "    , align=\"left\"\n",
    "    ,)\n",
    "\n",
    "fig.update_layout(title='\"Macro Fused: probempi vs nonprobempi\" GFlops Measurement',\n",
    "                  xaxis_title='Dirc_Data_Mov', yaxis_title='GFLOPs/Node', \n",
    "                  xaxis=dict(ticks=\"outside\"),  \n",
    "                  yaxis=dict(ticks=\"outside\"))"
   ]
  },
  {
   "cell_type": "markdown",
   "id": "3772a1e0",
   "metadata": {},
   "source": [
    "## Bandwidth - macro fused: probempi vs nonprobempi"
   ]
  },
  {
   "cell_type": "code",
   "execution_count": 10,
   "id": "8a5240b6",
   "metadata": {},
   "outputs": [
    {
     "data": {
      "application/vnd.plotly.v1+json": {
       "config": {
        "plotlyServerURL": "https://plot.ly"
       },
       "data": [
        {
         "line": {
          "color": "darkcyan",
          "width": 3
         },
         "marker": {
          "line": {
           "color": "yellow",
           "width": 1
          },
          "size": 9,
          "symbol": "hexagon"
         },
         "mode": "lines+markers",
         "name": "MacFusProb_32mpi_4omp",
         "type": "scatter",
         "x": [
          50331648,
          62914560,
          75497472,
          88080384,
          100663296,
          113246208,
          125829120,
          138412032,
          150994944,
          163577856,
          176160768,
          188743680,
          201326592,
          213909504,
          226492416,
          239075328,
          251658240,
          264241152,
          276824064,
          289406976,
          301989888,
          314572800,
          327155712,
          339738624,
          352321536,
          364904448,
          377487360,
          390070272,
          402653184
         ],
         "y": [
          114.028,
          119.9176,
          125.7944,
          132.9472,
          133.1448,
          135.7512,
          136.4272,
          136.6688,
          136.1768,
          129.42,
          126.4704,
          122.924,
          117.3544,
          113.768,
          111.0976,
          106.6504,
          100.7648,
          100.7144,
          98.7664,
          97.5384,
          96.8944,
          96.6904,
          96.2296,
          95.8384,
          95.5032,
          95.248,
          94.1616,
          94.944,
          94.2144
         ]
        },
        {
         "line": {
          "color": "magenta",
          "width": 3
         },
         "marker": {
          "line": {
           "color": "yellow",
           "width": 1
          },
          "size": 9,
          "symbol": "hexagon"
         },
         "mode": "lines+markers",
         "name": "MacFusNonProb_32mpi_4omp",
         "type": "scatter",
         "x": [
          50331648,
          62914560,
          75497472,
          88080384,
          100663296,
          113246208,
          125829120,
          138412032,
          150994944,
          163577856,
          176160768,
          188743680,
          201326592,
          213909504,
          226492416,
          239075328,
          251658240,
          264241152,
          276824064,
          289406976,
          301989888,
          314572800,
          327155712,
          339738624,
          352321536,
          364904448,
          377487360,
          390070272,
          402653184
         ],
         "y": [
          117.1992,
          127.0496,
          133.0472,
          138.9368,
          145.8328,
          147.2376,
          166.6368,
          149.5832,
          149.2456,
          147.0712,
          146.044,
          136.9696,
          135.5472,
          130.8008,
          117.9184,
          120.9384,
          115.2904,
          112.608,
          110.6944,
          109.3208,
          106.8264,
          105.2048,
          103.8272,
          102.5384,
          102.2504,
          102.0648,
          101.0528,
          100.8512,
          99.848
         ]
        },
        {
         "line": {
          "color": "royalblue",
          "width": 3
         },
         "marker": {
          "line": {
           "color": "MediumPurple",
           "width": 2
          },
          "size": 5,
          "symbol": "diamond"
         },
         "mode": "lines+markers",
         "name": "MacFusProb_40mpi_3omp",
         "type": "scatter",
         "x": [
          62914560,
          94371840,
          125829120,
          157286400,
          188743680,
          220200960,
          251658240,
          283115520,
          314572800,
          346030080,
          377487360
         ],
         "y": [
          110.18700000000001,
          127.11600000000001,
          122.005,
          106.394,
          92.658,
          84.3611,
          83.6002,
          82.2468,
          80.769,
          83.5233,
          81.4921
         ]
        },
        {
         "line": {
          "color": "sandybrown",
          "width": 3
         },
         "marker": {
          "line": {
           "color": "MediumPurple",
           "width": 2
          },
          "size": 5,
          "symbol": "diamond"
         },
         "mode": "lines+markers",
         "name": "MacFusNonProb_40mpi_3omp",
         "type": "scatter",
         "x": [
          62914560,
          94371840,
          125829120,
          157286400,
          188743680,
          220200960,
          251658240,
          283115520,
          314572800,
          346030080,
          377487360
         ],
         "y": [
          116.156,
          136.325,
          133.683,
          118.082,
          106.494,
          92.7454,
          87.9408,
          86.8527,
          89.40910000000001,
          87.0435,
          87.6063
         ]
        },
        {
         "line": {
          "color": "darkblue",
          "width": 3
         },
         "marker": {
          "line": {
           "color": "tomato",
           "width": 2
          },
          "size": 7,
          "symbol": "circle"
         },
         "mode": "lines+markers",
         "name": "MacFusProb_56mpi_2omp",
         "type": "scatter",
         "x": [
          88080384,
          132120576,
          176160768,
          220200960,
          264241152,
          308281344,
          352321536,
          396361728
         ],
         "y": [
          123.41405999999999,
          123.35007999999999,
          112.66948,
          99.82798,
          97.76830000000001,
          93.99852,
          91.53214,
          90.37209999999999
         ]
        },
        {
         "line": {
          "color": "cyan",
          "width": 3
         },
         "marker": {
          "line": {
           "color": "Purple",
           "width": 2
          },
          "size": 7,
          "symbol": "circle"
         },
         "mode": "lines+markers",
         "name": "MacFusnonProb_56mpi_2omp",
         "type": "scatter",
         "x": [
          88080384,
          132120576,
          176160768,
          220200960,
          264241152,
          308281344,
          352321536,
          396361728
         ],
         "y": [
          127.21898000000002,
          150.81359999999998,
          120.11468,
          110.96932,
          103.42402,
          98.73416,
          94.955,
          93.12856000000001
         ]
        },
        {
         "line": {
          "color": "blue",
          "width": 3
         },
         "marker": {
          "line": {
           "color": "black",
           "width": 1
          },
          "size": 7,
          "symbol": "star"
         },
         "mode": "lines+markers",
         "name": "MacFusProb_64mpi_2omp",
         "type": "scatter",
         "x": [
          100663296,
          125829120,
          150994944,
          176160768,
          201326592,
          226492416,
          251658240,
          276824064,
          301989888,
          327155712,
          352321536,
          377487360,
          402653184
         ],
         "y": [
          152.18288,
          158.52256,
          148.12544,
          143.40752,
          132.22224,
          125.48672,
          115.78624,
          111.85616,
          112.0072,
          109.42576,
          107.7272,
          107.45888,
          105.96064
         ]
        },
        {
         "line": {
          "color": "red",
          "width": 3
         },
         "marker": {
          "line": {
           "color": "black",
           "width": 1
          },
          "size": 7,
          "symbol": "star"
         },
         "mode": "lines+markers",
         "name": "MacFusnonProb_64mpi_2omp",
         "type": "scatter",
         "x": [
          100663296,
          125829120,
          150994944,
          176160768,
          201326592,
          226492416,
          251658240,
          276824064,
          301989888,
          327155712,
          352321536,
          377487360,
          402653184
         ],
         "y": [
          162.352,
          165.3152,
          174.144,
          150.09744,
          151.81104,
          134.47616,
          130.332,
          118.7368,
          118.24384,
          117.668,
          109.74928,
          103.51856,
          110.24352
         ]
        },
        {
         "line": {
          "color": "chartreuse",
          "width": 3
         },
         "marker": {
          "line": {
           "color": "mediumvioletred",
           "width": 1
          },
          "size": 7,
          "symbol": "square-dot"
         },
         "mode": "lines+markers",
         "name": "MacFusProb_112mpi_1omp",
         "type": "scatter",
         "x": [
          176160768,
          220200960,
          264241152,
          308281344,
          352321536,
          396361728
         ],
         "y": [
          98.93491999999999,
          96.13828000000001,
          93.04652,
          89.96316,
          87.64028,
          85.99164
         ]
        },
        {
         "line": {
          "color": "black",
          "width": 3
         },
         "marker": {
          "line": {
           "color": "mediumvioletred",
           "width": 1
          },
          "size": 7,
          "symbol": "square-dot"
         },
         "mode": "lines+markers",
         "name": "MacFusnonProb_112mpi_1omp",
         "type": "scatter",
         "x": [
          176160768,
          220200960,
          264241152,
          308281344,
          352321536,
          396361728
         ],
         "y": [
          109.41308000000001,
          99.03432,
          96.054,
          93.89604,
          93.31363999999999,
          90.73736
         ]
        },
        {
         "line": {
          "color": "gold",
          "width": 3
         },
         "marker": {
          "line": {
           "color": "black",
           "width": 1
          },
          "size": 6,
          "symbol": "triangle-up"
         },
         "mode": "lines+markers",
         "name": "MacFusProb_128mpi_1omp",
         "type": "scatter",
         "x": [
          201326592,
          251658240,
          301989888,
          352321536,
          402653184
         ],
         "y": [
          123.6368,
          108.81696,
          106.85984,
          104.46304,
          102.17376
         ]
        },
        {
         "line": {
          "color": "dimgray",
          "width": 3
         },
         "marker": {
          "line": {
           "color": "black",
           "width": 1
          },
          "size": 6,
          "symbol": "triangle-up"
         },
         "mode": "lines+markers",
         "name": "MacFusnonProb_128mpi_1omp",
         "type": "scatter",
         "x": [
          201326592,
          251658240,
          301989888,
          352321536,
          402653184
         ],
         "y": [
          127.42848,
          115.45792,
          111.56096,
          109.12352,
          107.34784
         ]
        }
       ],
       "layout": {
        "annotations": [
         {
          "align": "left",
          "arrowcolor": "#636363",
          "arrowhead": 1,
          "arrowsize": 1,
          "arrowwidth": 2,
          "ax": -20,
          "ay": -30,
          "font": {
           "color": "purple",
           "family": "Sans Serif",
           "size": 12
          },
          "showarrow": false,
          "text": "LLC Size Per Node: 80M",
          "x": "80e6",
          "y": 280,
          "yanchor": "bottom"
         },
         {
          "align": "left",
          "arrowcolor": "#636363",
          "arrowhead": 1,
          "arrowsize": 1,
          "arrowwidth": 2,
          "ax": -20,
          "ay": -30,
          "font": {
           "color": "orange",
           "family": "Sans Serif",
           "size": 12
          },
          "showarrow": false,
          "text": "Max Bandwidth Per Node",
          "x": "130e6",
          "y": 155,
          "yanchor": "bottom"
         }
        ],
        "legend": {
         "bordercolor": "black",
         "borderwidth": 1
        },
        "shapes": [
         {
          "line": {
           "color": "green",
           "dash": "dot",
           "width": 3
          },
          "type": "line",
          "x0": 80000000,
          "x1": 80000000,
          "xref": "x",
          "y0": 0,
          "y1": 1,
          "yref": "y domain"
         },
         {
          "line": {
           "color": "red",
           "dash": "dash",
           "width": 3
          },
          "type": "line",
          "x0": 0,
          "x1": 1,
          "xref": "x domain",
          "y0": 153,
          "y1": 153,
          "yref": "y"
         }
        ],
        "template": {
         "data": {
          "bar": [
           {
            "error_x": {
             "color": "#2a3f5f"
            },
            "error_y": {
             "color": "#2a3f5f"
            },
            "marker": {
             "line": {
              "color": "#E5ECF6",
              "width": 0.5
             },
             "pattern": {
              "fillmode": "overlay",
              "size": 10,
              "solidity": 0.2
             }
            },
            "type": "bar"
           }
          ],
          "barpolar": [
           {
            "marker": {
             "line": {
              "color": "#E5ECF6",
              "width": 0.5
             },
             "pattern": {
              "fillmode": "overlay",
              "size": 10,
              "solidity": 0.2
             }
            },
            "type": "barpolar"
           }
          ],
          "carpet": [
           {
            "aaxis": {
             "endlinecolor": "#2a3f5f",
             "gridcolor": "white",
             "linecolor": "white",
             "minorgridcolor": "white",
             "startlinecolor": "#2a3f5f"
            },
            "baxis": {
             "endlinecolor": "#2a3f5f",
             "gridcolor": "white",
             "linecolor": "white",
             "minorgridcolor": "white",
             "startlinecolor": "#2a3f5f"
            },
            "type": "carpet"
           }
          ],
          "choropleth": [
           {
            "colorbar": {
             "outlinewidth": 0,
             "ticks": ""
            },
            "type": "choropleth"
           }
          ],
          "contour": [
           {
            "colorbar": {
             "outlinewidth": 0,
             "ticks": ""
            },
            "colorscale": [
             [
              0,
              "#0d0887"
             ],
             [
              0.1111111111111111,
              "#46039f"
             ],
             [
              0.2222222222222222,
              "#7201a8"
             ],
             [
              0.3333333333333333,
              "#9c179e"
             ],
             [
              0.4444444444444444,
              "#bd3786"
             ],
             [
              0.5555555555555556,
              "#d8576b"
             ],
             [
              0.6666666666666666,
              "#ed7953"
             ],
             [
              0.7777777777777778,
              "#fb9f3a"
             ],
             [
              0.8888888888888888,
              "#fdca26"
             ],
             [
              1,
              "#f0f921"
             ]
            ],
            "type": "contour"
           }
          ],
          "contourcarpet": [
           {
            "colorbar": {
             "outlinewidth": 0,
             "ticks": ""
            },
            "type": "contourcarpet"
           }
          ],
          "heatmap": [
           {
            "colorbar": {
             "outlinewidth": 0,
             "ticks": ""
            },
            "colorscale": [
             [
              0,
              "#0d0887"
             ],
             [
              0.1111111111111111,
              "#46039f"
             ],
             [
              0.2222222222222222,
              "#7201a8"
             ],
             [
              0.3333333333333333,
              "#9c179e"
             ],
             [
              0.4444444444444444,
              "#bd3786"
             ],
             [
              0.5555555555555556,
              "#d8576b"
             ],
             [
              0.6666666666666666,
              "#ed7953"
             ],
             [
              0.7777777777777778,
              "#fb9f3a"
             ],
             [
              0.8888888888888888,
              "#fdca26"
             ],
             [
              1,
              "#f0f921"
             ]
            ],
            "type": "heatmap"
           }
          ],
          "heatmapgl": [
           {
            "colorbar": {
             "outlinewidth": 0,
             "ticks": ""
            },
            "colorscale": [
             [
              0,
              "#0d0887"
             ],
             [
              0.1111111111111111,
              "#46039f"
             ],
             [
              0.2222222222222222,
              "#7201a8"
             ],
             [
              0.3333333333333333,
              "#9c179e"
             ],
             [
              0.4444444444444444,
              "#bd3786"
             ],
             [
              0.5555555555555556,
              "#d8576b"
             ],
             [
              0.6666666666666666,
              "#ed7953"
             ],
             [
              0.7777777777777778,
              "#fb9f3a"
             ],
             [
              0.8888888888888888,
              "#fdca26"
             ],
             [
              1,
              "#f0f921"
             ]
            ],
            "type": "heatmapgl"
           }
          ],
          "histogram": [
           {
            "marker": {
             "pattern": {
              "fillmode": "overlay",
              "size": 10,
              "solidity": 0.2
             }
            },
            "type": "histogram"
           }
          ],
          "histogram2d": [
           {
            "colorbar": {
             "outlinewidth": 0,
             "ticks": ""
            },
            "colorscale": [
             [
              0,
              "#0d0887"
             ],
             [
              0.1111111111111111,
              "#46039f"
             ],
             [
              0.2222222222222222,
              "#7201a8"
             ],
             [
              0.3333333333333333,
              "#9c179e"
             ],
             [
              0.4444444444444444,
              "#bd3786"
             ],
             [
              0.5555555555555556,
              "#d8576b"
             ],
             [
              0.6666666666666666,
              "#ed7953"
             ],
             [
              0.7777777777777778,
              "#fb9f3a"
             ],
             [
              0.8888888888888888,
              "#fdca26"
             ],
             [
              1,
              "#f0f921"
             ]
            ],
            "type": "histogram2d"
           }
          ],
          "histogram2dcontour": [
           {
            "colorbar": {
             "outlinewidth": 0,
             "ticks": ""
            },
            "colorscale": [
             [
              0,
              "#0d0887"
             ],
             [
              0.1111111111111111,
              "#46039f"
             ],
             [
              0.2222222222222222,
              "#7201a8"
             ],
             [
              0.3333333333333333,
              "#9c179e"
             ],
             [
              0.4444444444444444,
              "#bd3786"
             ],
             [
              0.5555555555555556,
              "#d8576b"
             ],
             [
              0.6666666666666666,
              "#ed7953"
             ],
             [
              0.7777777777777778,
              "#fb9f3a"
             ],
             [
              0.8888888888888888,
              "#fdca26"
             ],
             [
              1,
              "#f0f921"
             ]
            ],
            "type": "histogram2dcontour"
           }
          ],
          "mesh3d": [
           {
            "colorbar": {
             "outlinewidth": 0,
             "ticks": ""
            },
            "type": "mesh3d"
           }
          ],
          "parcoords": [
           {
            "line": {
             "colorbar": {
              "outlinewidth": 0,
              "ticks": ""
             }
            },
            "type": "parcoords"
           }
          ],
          "pie": [
           {
            "automargin": true,
            "type": "pie"
           }
          ],
          "scatter": [
           {
            "fillpattern": {
             "fillmode": "overlay",
             "size": 10,
             "solidity": 0.2
            },
            "type": "scatter"
           }
          ],
          "scatter3d": [
           {
            "line": {
             "colorbar": {
              "outlinewidth": 0,
              "ticks": ""
             }
            },
            "marker": {
             "colorbar": {
              "outlinewidth": 0,
              "ticks": ""
             }
            },
            "type": "scatter3d"
           }
          ],
          "scattercarpet": [
           {
            "marker": {
             "colorbar": {
              "outlinewidth": 0,
              "ticks": ""
             }
            },
            "type": "scattercarpet"
           }
          ],
          "scattergeo": [
           {
            "marker": {
             "colorbar": {
              "outlinewidth": 0,
              "ticks": ""
             }
            },
            "type": "scattergeo"
           }
          ],
          "scattergl": [
           {
            "marker": {
             "colorbar": {
              "outlinewidth": 0,
              "ticks": ""
             }
            },
            "type": "scattergl"
           }
          ],
          "scattermapbox": [
           {
            "marker": {
             "colorbar": {
              "outlinewidth": 0,
              "ticks": ""
             }
            },
            "type": "scattermapbox"
           }
          ],
          "scatterpolar": [
           {
            "marker": {
             "colorbar": {
              "outlinewidth": 0,
              "ticks": ""
             }
            },
            "type": "scatterpolar"
           }
          ],
          "scatterpolargl": [
           {
            "marker": {
             "colorbar": {
              "outlinewidth": 0,
              "ticks": ""
             }
            },
            "type": "scatterpolargl"
           }
          ],
          "scatterternary": [
           {
            "marker": {
             "colorbar": {
              "outlinewidth": 0,
              "ticks": ""
             }
            },
            "type": "scatterternary"
           }
          ],
          "surface": [
           {
            "colorbar": {
             "outlinewidth": 0,
             "ticks": ""
            },
            "colorscale": [
             [
              0,
              "#0d0887"
             ],
             [
              0.1111111111111111,
              "#46039f"
             ],
             [
              0.2222222222222222,
              "#7201a8"
             ],
             [
              0.3333333333333333,
              "#9c179e"
             ],
             [
              0.4444444444444444,
              "#bd3786"
             ],
             [
              0.5555555555555556,
              "#d8576b"
             ],
             [
              0.6666666666666666,
              "#ed7953"
             ],
             [
              0.7777777777777778,
              "#fb9f3a"
             ],
             [
              0.8888888888888888,
              "#fdca26"
             ],
             [
              1,
              "#f0f921"
             ]
            ],
            "type": "surface"
           }
          ],
          "table": [
           {
            "cells": {
             "fill": {
              "color": "#EBF0F8"
             },
             "line": {
              "color": "white"
             }
            },
            "header": {
             "fill": {
              "color": "#C8D4E3"
             },
             "line": {
              "color": "white"
             }
            },
            "type": "table"
           }
          ]
         },
         "layout": {
          "annotationdefaults": {
           "arrowcolor": "#2a3f5f",
           "arrowhead": 0,
           "arrowwidth": 1
          },
          "autotypenumbers": "strict",
          "coloraxis": {
           "colorbar": {
            "outlinewidth": 0,
            "ticks": ""
           }
          },
          "colorscale": {
           "diverging": [
            [
             0,
             "#8e0152"
            ],
            [
             0.1,
             "#c51b7d"
            ],
            [
             0.2,
             "#de77ae"
            ],
            [
             0.3,
             "#f1b6da"
            ],
            [
             0.4,
             "#fde0ef"
            ],
            [
             0.5,
             "#f7f7f7"
            ],
            [
             0.6,
             "#e6f5d0"
            ],
            [
             0.7,
             "#b8e186"
            ],
            [
             0.8,
             "#7fbc41"
            ],
            [
             0.9,
             "#4d9221"
            ],
            [
             1,
             "#276419"
            ]
           ],
           "sequential": [
            [
             0,
             "#0d0887"
            ],
            [
             0.1111111111111111,
             "#46039f"
            ],
            [
             0.2222222222222222,
             "#7201a8"
            ],
            [
             0.3333333333333333,
             "#9c179e"
            ],
            [
             0.4444444444444444,
             "#bd3786"
            ],
            [
             0.5555555555555556,
             "#d8576b"
            ],
            [
             0.6666666666666666,
             "#ed7953"
            ],
            [
             0.7777777777777778,
             "#fb9f3a"
            ],
            [
             0.8888888888888888,
             "#fdca26"
            ],
            [
             1,
             "#f0f921"
            ]
           ],
           "sequentialminus": [
            [
             0,
             "#0d0887"
            ],
            [
             0.1111111111111111,
             "#46039f"
            ],
            [
             0.2222222222222222,
             "#7201a8"
            ],
            [
             0.3333333333333333,
             "#9c179e"
            ],
            [
             0.4444444444444444,
             "#bd3786"
            ],
            [
             0.5555555555555556,
             "#d8576b"
            ],
            [
             0.6666666666666666,
             "#ed7953"
            ],
            [
             0.7777777777777778,
             "#fb9f3a"
            ],
            [
             0.8888888888888888,
             "#fdca26"
            ],
            [
             1,
             "#f0f921"
            ]
           ]
          },
          "colorway": [
           "#636efa",
           "#EF553B",
           "#00cc96",
           "#ab63fa",
           "#FFA15A",
           "#19d3f3",
           "#FF6692",
           "#B6E880",
           "#FF97FF",
           "#FECB52"
          ],
          "font": {
           "color": "#2a3f5f"
          },
          "geo": {
           "bgcolor": "white",
           "lakecolor": "white",
           "landcolor": "#E5ECF6",
           "showlakes": true,
           "showland": true,
           "subunitcolor": "white"
          },
          "hoverlabel": {
           "align": "left"
          },
          "hovermode": "closest",
          "mapbox": {
           "style": "light"
          },
          "paper_bgcolor": "white",
          "plot_bgcolor": "#E5ECF6",
          "polar": {
           "angularaxis": {
            "gridcolor": "white",
            "linecolor": "white",
            "ticks": ""
           },
           "bgcolor": "#E5ECF6",
           "radialaxis": {
            "gridcolor": "white",
            "linecolor": "white",
            "ticks": ""
           }
          },
          "scene": {
           "xaxis": {
            "backgroundcolor": "#E5ECF6",
            "gridcolor": "white",
            "gridwidth": 2,
            "linecolor": "white",
            "showbackground": true,
            "ticks": "",
            "zerolinecolor": "white"
           },
           "yaxis": {
            "backgroundcolor": "#E5ECF6",
            "gridcolor": "white",
            "gridwidth": 2,
            "linecolor": "white",
            "showbackground": true,
            "ticks": "",
            "zerolinecolor": "white"
           },
           "zaxis": {
            "backgroundcolor": "#E5ECF6",
            "gridcolor": "white",
            "gridwidth": 2,
            "linecolor": "white",
            "showbackground": true,
            "ticks": "",
            "zerolinecolor": "white"
           }
          },
          "shapedefaults": {
           "line": {
            "color": "#2a3f5f"
           }
          },
          "ternary": {
           "aaxis": {
            "gridcolor": "white",
            "linecolor": "white",
            "ticks": ""
           },
           "baxis": {
            "gridcolor": "white",
            "linecolor": "white",
            "ticks": ""
           },
           "bgcolor": "#E5ECF6",
           "caxis": {
            "gridcolor": "white",
            "linecolor": "white",
            "ticks": ""
           }
          },
          "title": {
           "x": 0.05
          },
          "xaxis": {
           "automargin": true,
           "gridcolor": "white",
           "linecolor": "white",
           "ticks": "",
           "title": {
            "standoff": 15
           },
           "zerolinecolor": "white",
           "zerolinewidth": 2
          },
          "yaxis": {
           "automargin": true,
           "gridcolor": "white",
           "linecolor": "white",
           "ticks": "",
           "title": {
            "standoff": 15
           },
           "zerolinecolor": "white",
           "zerolinewidth": 2
          }
         }
        },
        "title": {
         "text": "\"macro fused: probempi vs nonprobempi\" Bandwidth Measurement"
        },
        "xaxis": {
         "ticks": "outside",
         "title": {
          "text": "Dirc_Data_Mov"
         }
        },
        "yaxis": {
         "ticks": "outside",
         "title": {
          "text": "Bandwidth/Node"
         }
        }
       }
      },
      "text/html": [
       "<div>                            <div id=\"16e496af-1299-43f6-9069-e8431c336b08\" class=\"plotly-graph-div\" style=\"height:525px; width:100%;\"></div>            <script type=\"text/javascript\">                require([\"plotly\"], function(Plotly) {                    window.PLOTLYENV=window.PLOTLYENV || {};                                    if (document.getElementById(\"16e496af-1299-43f6-9069-e8431c336b08\")) {                    Plotly.newPlot(                        \"16e496af-1299-43f6-9069-e8431c336b08\",                        [{\"line\":{\"color\":\"darkcyan\",\"width\":3},\"marker\":{\"line\":{\"color\":\"yellow\",\"width\":1},\"size\":9,\"symbol\":\"hexagon\"},\"mode\":\"lines+markers\",\"name\":\"MacFusProb_32mpi_4omp\",\"x\":[50331648.0,62914560.0,75497472.0,88080384.0,100663296.0,113246208.0,125829120.0,138412032.0,150994944.0,163577856.0,176160768.0,188743680.0,201326592.0,213909504.0,226492416.0,239075328.0,251658240.0,264241152.0,276824064.0,289406976.0,301989888.0,314572800.0,327155712.0,339738624.0,352321536.0,364904448.0,377487360.0,390070272.0,402653184.0],\"y\":[114.028,119.9176,125.7944,132.9472,133.1448,135.7512,136.4272,136.6688,136.1768,129.42,126.4704,122.924,117.3544,113.768,111.0976,106.6504,100.7648,100.7144,98.7664,97.5384,96.8944,96.6904,96.2296,95.8384,95.5032,95.248,94.1616,94.944,94.2144],\"type\":\"scatter\"},{\"line\":{\"color\":\"magenta\",\"width\":3},\"marker\":{\"line\":{\"color\":\"yellow\",\"width\":1},\"size\":9,\"symbol\":\"hexagon\"},\"mode\":\"lines+markers\",\"name\":\"MacFusNonProb_32mpi_4omp\",\"x\":[50331648.0,62914560.0,75497472.0,88080384.0,100663296.0,113246208.0,125829120.0,138412032.0,150994944.0,163577856.0,176160768.0,188743680.0,201326592.0,213909504.0,226492416.0,239075328.0,251658240.0,264241152.0,276824064.0,289406976.0,301989888.0,314572800.0,327155712.0,339738624.0,352321536.0,364904448.0,377487360.0,390070272.0,402653184.0],\"y\":[117.1992,127.0496,133.0472,138.9368,145.8328,147.2376,166.6368,149.5832,149.2456,147.0712,146.044,136.9696,135.5472,130.8008,117.9184,120.9384,115.2904,112.608,110.6944,109.3208,106.8264,105.2048,103.8272,102.5384,102.2504,102.0648,101.0528,100.8512,99.848],\"type\":\"scatter\"},{\"line\":{\"color\":\"royalblue\",\"width\":3},\"marker\":{\"line\":{\"color\":\"MediumPurple\",\"width\":2},\"size\":5,\"symbol\":\"diamond\"},\"mode\":\"lines+markers\",\"name\":\"MacFusProb_40mpi_3omp\",\"x\":[62914560.0,94371840.0,125829120.0,157286400.0,188743680.0,220200960.0,251658240.0,283115520.0,314572800.0,346030080.0,377487360.0],\"y\":[110.18700000000001,127.11600000000001,122.005,106.394,92.658,84.3611,83.6002,82.2468,80.769,83.5233,81.4921],\"type\":\"scatter\"},{\"line\":{\"color\":\"sandybrown\",\"width\":3},\"marker\":{\"line\":{\"color\":\"MediumPurple\",\"width\":2},\"size\":5,\"symbol\":\"diamond\"},\"mode\":\"lines+markers\",\"name\":\"MacFusNonProb_40mpi_3omp\",\"x\":[62914560.0,94371840.0,125829120.0,157286400.0,188743680.0,220200960.0,251658240.0,283115520.0,314572800.0,346030080.0,377487360.0],\"y\":[116.156,136.325,133.683,118.082,106.494,92.7454,87.9408,86.8527,89.40910000000001,87.0435,87.6063],\"type\":\"scatter\"},{\"line\":{\"color\":\"darkblue\",\"width\":3},\"marker\":{\"line\":{\"color\":\"tomato\",\"width\":2},\"size\":7,\"symbol\":\"circle\"},\"mode\":\"lines+markers\",\"name\":\"MacFusProb_56mpi_2omp\",\"x\":[88080384.0,132120576.0,176160768.0,220200960.0,264241152.0,308281344.0,352321536.0,396361728.0],\"y\":[123.41405999999999,123.35007999999999,112.66948,99.82798,97.76830000000001,93.99852,91.53214,90.37209999999999],\"type\":\"scatter\"},{\"line\":{\"color\":\"cyan\",\"width\":3},\"marker\":{\"line\":{\"color\":\"Purple\",\"width\":2},\"size\":7,\"symbol\":\"circle\"},\"mode\":\"lines+markers\",\"name\":\"MacFusnonProb_56mpi_2omp\",\"x\":[88080384.0,132120576.0,176160768.0,220200960.0,264241152.0,308281344.0,352321536.0,396361728.0],\"y\":[127.21898000000002,150.81359999999998,120.11468,110.96932,103.42402,98.73416,94.955,93.12856000000001],\"type\":\"scatter\"},{\"line\":{\"color\":\"blue\",\"width\":3},\"marker\":{\"line\":{\"color\":\"black\",\"width\":1},\"size\":7,\"symbol\":\"star\"},\"mode\":\"lines+markers\",\"name\":\"MacFusProb_64mpi_2omp\",\"x\":[100663296.0,125829120.0,150994944.0,176160768.0,201326592.0,226492416.0,251658240.0,276824064.0,301989888.0,327155712.0,352321536.0,377487360.0,402653184.0],\"y\":[152.18288,158.52256,148.12544,143.40752,132.22224,125.48672,115.78624,111.85616,112.0072,109.42576,107.7272,107.45888,105.96064],\"type\":\"scatter\"},{\"line\":{\"color\":\"red\",\"width\":3},\"marker\":{\"line\":{\"color\":\"black\",\"width\":1},\"size\":7,\"symbol\":\"star\"},\"mode\":\"lines+markers\",\"name\":\"MacFusnonProb_64mpi_2omp\",\"x\":[100663296.0,125829120.0,150994944.0,176160768.0,201326592.0,226492416.0,251658240.0,276824064.0,301989888.0,327155712.0,352321536.0,377487360.0,402653184.0],\"y\":[162.352,165.3152,174.144,150.09744,151.81104,134.47616,130.332,118.7368,118.24384,117.668,109.74928,103.51856,110.24352],\"type\":\"scatter\"},{\"line\":{\"color\":\"chartreuse\",\"width\":3},\"marker\":{\"line\":{\"color\":\"mediumvioletred\",\"width\":1},\"size\":7,\"symbol\":\"square-dot\"},\"mode\":\"lines+markers\",\"name\":\"MacFusProb_112mpi_1omp\",\"x\":[176160768.0,220200960.0,264241152.0,308281344.0,352321536.0,396361728.0],\"y\":[98.93491999999999,96.13828000000001,93.04652,89.96316,87.64028,85.99164],\"type\":\"scatter\"},{\"line\":{\"color\":\"black\",\"width\":3},\"marker\":{\"line\":{\"color\":\"mediumvioletred\",\"width\":1},\"size\":7,\"symbol\":\"square-dot\"},\"mode\":\"lines+markers\",\"name\":\"MacFusnonProb_112mpi_1omp\",\"x\":[176160768.0,220200960.0,264241152.0,308281344.0,352321536.0,396361728.0],\"y\":[109.41308000000001,99.03432,96.054,93.89604,93.31363999999999,90.73736],\"type\":\"scatter\"},{\"line\":{\"color\":\"gold\",\"width\":3},\"marker\":{\"line\":{\"color\":\"black\",\"width\":1},\"size\":6,\"symbol\":\"triangle-up\"},\"mode\":\"lines+markers\",\"name\":\"MacFusProb_128mpi_1omp\",\"x\":[201326592.0,251658240.0,301989888.0,352321536.0,402653184.0],\"y\":[123.6368,108.81696,106.85984,104.46304,102.17376],\"type\":\"scatter\"},{\"line\":{\"color\":\"dimgray\",\"width\":3},\"marker\":{\"line\":{\"color\":\"black\",\"width\":1},\"size\":6,\"symbol\":\"triangle-up\"},\"mode\":\"lines+markers\",\"name\":\"MacFusnonProb_128mpi_1omp\",\"x\":[201326592.0,251658240.0,301989888.0,352321536.0,402653184.0],\"y\":[127.42848,115.45792,111.56096,109.12352,107.34784],\"type\":\"scatter\"}],                        {\"template\":{\"data\":{\"histogram2dcontour\":[{\"type\":\"histogram2dcontour\",\"colorbar\":{\"outlinewidth\":0,\"ticks\":\"\"},\"colorscale\":[[0.0,\"#0d0887\"],[0.1111111111111111,\"#46039f\"],[0.2222222222222222,\"#7201a8\"],[0.3333333333333333,\"#9c179e\"],[0.4444444444444444,\"#bd3786\"],[0.5555555555555556,\"#d8576b\"],[0.6666666666666666,\"#ed7953\"],[0.7777777777777778,\"#fb9f3a\"],[0.8888888888888888,\"#fdca26\"],[1.0,\"#f0f921\"]]}],\"choropleth\":[{\"type\":\"choropleth\",\"colorbar\":{\"outlinewidth\":0,\"ticks\":\"\"}}],\"histogram2d\":[{\"type\":\"histogram2d\",\"colorbar\":{\"outlinewidth\":0,\"ticks\":\"\"},\"colorscale\":[[0.0,\"#0d0887\"],[0.1111111111111111,\"#46039f\"],[0.2222222222222222,\"#7201a8\"],[0.3333333333333333,\"#9c179e\"],[0.4444444444444444,\"#bd3786\"],[0.5555555555555556,\"#d8576b\"],[0.6666666666666666,\"#ed7953\"],[0.7777777777777778,\"#fb9f3a\"],[0.8888888888888888,\"#fdca26\"],[1.0,\"#f0f921\"]]}],\"heatmap\":[{\"type\":\"heatmap\",\"colorbar\":{\"outlinewidth\":0,\"ticks\":\"\"},\"colorscale\":[[0.0,\"#0d0887\"],[0.1111111111111111,\"#46039f\"],[0.2222222222222222,\"#7201a8\"],[0.3333333333333333,\"#9c179e\"],[0.4444444444444444,\"#bd3786\"],[0.5555555555555556,\"#d8576b\"],[0.6666666666666666,\"#ed7953\"],[0.7777777777777778,\"#fb9f3a\"],[0.8888888888888888,\"#fdca26\"],[1.0,\"#f0f921\"]]}],\"heatmapgl\":[{\"type\":\"heatmapgl\",\"colorbar\":{\"outlinewidth\":0,\"ticks\":\"\"},\"colorscale\":[[0.0,\"#0d0887\"],[0.1111111111111111,\"#46039f\"],[0.2222222222222222,\"#7201a8\"],[0.3333333333333333,\"#9c179e\"],[0.4444444444444444,\"#bd3786\"],[0.5555555555555556,\"#d8576b\"],[0.6666666666666666,\"#ed7953\"],[0.7777777777777778,\"#fb9f3a\"],[0.8888888888888888,\"#fdca26\"],[1.0,\"#f0f921\"]]}],\"contourcarpet\":[{\"type\":\"contourcarpet\",\"colorbar\":{\"outlinewidth\":0,\"ticks\":\"\"}}],\"contour\":[{\"type\":\"contour\",\"colorbar\":{\"outlinewidth\":0,\"ticks\":\"\"},\"colorscale\":[[0.0,\"#0d0887\"],[0.1111111111111111,\"#46039f\"],[0.2222222222222222,\"#7201a8\"],[0.3333333333333333,\"#9c179e\"],[0.4444444444444444,\"#bd3786\"],[0.5555555555555556,\"#d8576b\"],[0.6666666666666666,\"#ed7953\"],[0.7777777777777778,\"#fb9f3a\"],[0.8888888888888888,\"#fdca26\"],[1.0,\"#f0f921\"]]}],\"surface\":[{\"type\":\"surface\",\"colorbar\":{\"outlinewidth\":0,\"ticks\":\"\"},\"colorscale\":[[0.0,\"#0d0887\"],[0.1111111111111111,\"#46039f\"],[0.2222222222222222,\"#7201a8\"],[0.3333333333333333,\"#9c179e\"],[0.4444444444444444,\"#bd3786\"],[0.5555555555555556,\"#d8576b\"],[0.6666666666666666,\"#ed7953\"],[0.7777777777777778,\"#fb9f3a\"],[0.8888888888888888,\"#fdca26\"],[1.0,\"#f0f921\"]]}],\"mesh3d\":[{\"type\":\"mesh3d\",\"colorbar\":{\"outlinewidth\":0,\"ticks\":\"\"}}],\"scatter\":[{\"fillpattern\":{\"fillmode\":\"overlay\",\"size\":10,\"solidity\":0.2},\"type\":\"scatter\"}],\"parcoords\":[{\"type\":\"parcoords\",\"line\":{\"colorbar\":{\"outlinewidth\":0,\"ticks\":\"\"}}}],\"scatterpolargl\":[{\"type\":\"scatterpolargl\",\"marker\":{\"colorbar\":{\"outlinewidth\":0,\"ticks\":\"\"}}}],\"bar\":[{\"error_x\":{\"color\":\"#2a3f5f\"},\"error_y\":{\"color\":\"#2a3f5f\"},\"marker\":{\"line\":{\"color\":\"#E5ECF6\",\"width\":0.5},\"pattern\":{\"fillmode\":\"overlay\",\"size\":10,\"solidity\":0.2}},\"type\":\"bar\"}],\"scattergeo\":[{\"type\":\"scattergeo\",\"marker\":{\"colorbar\":{\"outlinewidth\":0,\"ticks\":\"\"}}}],\"scatterpolar\":[{\"type\":\"scatterpolar\",\"marker\":{\"colorbar\":{\"outlinewidth\":0,\"ticks\":\"\"}}}],\"histogram\":[{\"marker\":{\"pattern\":{\"fillmode\":\"overlay\",\"size\":10,\"solidity\":0.2}},\"type\":\"histogram\"}],\"scattergl\":[{\"type\":\"scattergl\",\"marker\":{\"colorbar\":{\"outlinewidth\":0,\"ticks\":\"\"}}}],\"scatter3d\":[{\"type\":\"scatter3d\",\"line\":{\"colorbar\":{\"outlinewidth\":0,\"ticks\":\"\"}},\"marker\":{\"colorbar\":{\"outlinewidth\":0,\"ticks\":\"\"}}}],\"scattermapbox\":[{\"type\":\"scattermapbox\",\"marker\":{\"colorbar\":{\"outlinewidth\":0,\"ticks\":\"\"}}}],\"scatterternary\":[{\"type\":\"scatterternary\",\"marker\":{\"colorbar\":{\"outlinewidth\":0,\"ticks\":\"\"}}}],\"scattercarpet\":[{\"type\":\"scattercarpet\",\"marker\":{\"colorbar\":{\"outlinewidth\":0,\"ticks\":\"\"}}}],\"carpet\":[{\"aaxis\":{\"endlinecolor\":\"#2a3f5f\",\"gridcolor\":\"white\",\"linecolor\":\"white\",\"minorgridcolor\":\"white\",\"startlinecolor\":\"#2a3f5f\"},\"baxis\":{\"endlinecolor\":\"#2a3f5f\",\"gridcolor\":\"white\",\"linecolor\":\"white\",\"minorgridcolor\":\"white\",\"startlinecolor\":\"#2a3f5f\"},\"type\":\"carpet\"}],\"table\":[{\"cells\":{\"fill\":{\"color\":\"#EBF0F8\"},\"line\":{\"color\":\"white\"}},\"header\":{\"fill\":{\"color\":\"#C8D4E3\"},\"line\":{\"color\":\"white\"}},\"type\":\"table\"}],\"barpolar\":[{\"marker\":{\"line\":{\"color\":\"#E5ECF6\",\"width\":0.5},\"pattern\":{\"fillmode\":\"overlay\",\"size\":10,\"solidity\":0.2}},\"type\":\"barpolar\"}],\"pie\":[{\"automargin\":true,\"type\":\"pie\"}]},\"layout\":{\"autotypenumbers\":\"strict\",\"colorway\":[\"#636efa\",\"#EF553B\",\"#00cc96\",\"#ab63fa\",\"#FFA15A\",\"#19d3f3\",\"#FF6692\",\"#B6E880\",\"#FF97FF\",\"#FECB52\"],\"font\":{\"color\":\"#2a3f5f\"},\"hovermode\":\"closest\",\"hoverlabel\":{\"align\":\"left\"},\"paper_bgcolor\":\"white\",\"plot_bgcolor\":\"#E5ECF6\",\"polar\":{\"bgcolor\":\"#E5ECF6\",\"angularaxis\":{\"gridcolor\":\"white\",\"linecolor\":\"white\",\"ticks\":\"\"},\"radialaxis\":{\"gridcolor\":\"white\",\"linecolor\":\"white\",\"ticks\":\"\"}},\"ternary\":{\"bgcolor\":\"#E5ECF6\",\"aaxis\":{\"gridcolor\":\"white\",\"linecolor\":\"white\",\"ticks\":\"\"},\"baxis\":{\"gridcolor\":\"white\",\"linecolor\":\"white\",\"ticks\":\"\"},\"caxis\":{\"gridcolor\":\"white\",\"linecolor\":\"white\",\"ticks\":\"\"}},\"coloraxis\":{\"colorbar\":{\"outlinewidth\":0,\"ticks\":\"\"}},\"colorscale\":{\"sequential\":[[0.0,\"#0d0887\"],[0.1111111111111111,\"#46039f\"],[0.2222222222222222,\"#7201a8\"],[0.3333333333333333,\"#9c179e\"],[0.4444444444444444,\"#bd3786\"],[0.5555555555555556,\"#d8576b\"],[0.6666666666666666,\"#ed7953\"],[0.7777777777777778,\"#fb9f3a\"],[0.8888888888888888,\"#fdca26\"],[1.0,\"#f0f921\"]],\"sequentialminus\":[[0.0,\"#0d0887\"],[0.1111111111111111,\"#46039f\"],[0.2222222222222222,\"#7201a8\"],[0.3333333333333333,\"#9c179e\"],[0.4444444444444444,\"#bd3786\"],[0.5555555555555556,\"#d8576b\"],[0.6666666666666666,\"#ed7953\"],[0.7777777777777778,\"#fb9f3a\"],[0.8888888888888888,\"#fdca26\"],[1.0,\"#f0f921\"]],\"diverging\":[[0,\"#8e0152\"],[0.1,\"#c51b7d\"],[0.2,\"#de77ae\"],[0.3,\"#f1b6da\"],[0.4,\"#fde0ef\"],[0.5,\"#f7f7f7\"],[0.6,\"#e6f5d0\"],[0.7,\"#b8e186\"],[0.8,\"#7fbc41\"],[0.9,\"#4d9221\"],[1,\"#276419\"]]},\"xaxis\":{\"gridcolor\":\"white\",\"linecolor\":\"white\",\"ticks\":\"\",\"title\":{\"standoff\":15},\"zerolinecolor\":\"white\",\"automargin\":true,\"zerolinewidth\":2},\"yaxis\":{\"gridcolor\":\"white\",\"linecolor\":\"white\",\"ticks\":\"\",\"title\":{\"standoff\":15},\"zerolinecolor\":\"white\",\"automargin\":true,\"zerolinewidth\":2},\"scene\":{\"xaxis\":{\"backgroundcolor\":\"#E5ECF6\",\"gridcolor\":\"white\",\"linecolor\":\"white\",\"showbackground\":true,\"ticks\":\"\",\"zerolinecolor\":\"white\",\"gridwidth\":2},\"yaxis\":{\"backgroundcolor\":\"#E5ECF6\",\"gridcolor\":\"white\",\"linecolor\":\"white\",\"showbackground\":true,\"ticks\":\"\",\"zerolinecolor\":\"white\",\"gridwidth\":2},\"zaxis\":{\"backgroundcolor\":\"#E5ECF6\",\"gridcolor\":\"white\",\"linecolor\":\"white\",\"showbackground\":true,\"ticks\":\"\",\"zerolinecolor\":\"white\",\"gridwidth\":2}},\"shapedefaults\":{\"line\":{\"color\":\"#2a3f5f\"}},\"annotationdefaults\":{\"arrowcolor\":\"#2a3f5f\",\"arrowhead\":0,\"arrowwidth\":1},\"geo\":{\"bgcolor\":\"white\",\"landcolor\":\"#E5ECF6\",\"subunitcolor\":\"white\",\"showland\":true,\"showlakes\":true,\"lakecolor\":\"white\"},\"title\":{\"x\":0.05},\"mapbox\":{\"style\":\"light\"}}},\"shapes\":[{\"line\":{\"color\":\"green\",\"dash\":\"dot\",\"width\":3},\"type\":\"line\",\"x0\":80000000.0,\"x1\":80000000.0,\"xref\":\"x\",\"y0\":0,\"y1\":1,\"yref\":\"y domain\"},{\"line\":{\"color\":\"red\",\"dash\":\"dash\",\"width\":3},\"type\":\"line\",\"x0\":0,\"x1\":1,\"xref\":\"x domain\",\"y0\":153,\"y1\":153,\"yref\":\"y\"}],\"annotations\":[{\"align\":\"left\",\"arrowcolor\":\"#636363\",\"arrowhead\":1,\"arrowsize\":1,\"arrowwidth\":2,\"ax\":-20,\"ay\":-30,\"font\":{\"color\":\"purple\",\"family\":\"Sans Serif\",\"size\":12},\"showarrow\":false,\"text\":\"LLC Size Per Node: 80M\",\"x\":\"80e6\",\"y\":280,\"yanchor\":\"bottom\"},{\"align\":\"left\",\"arrowcolor\":\"#636363\",\"arrowhead\":1,\"arrowsize\":1,\"arrowwidth\":2,\"ax\":-20,\"ay\":-30,\"font\":{\"color\":\"orange\",\"family\":\"Sans Serif\",\"size\":12},\"showarrow\":false,\"text\":\"Max Bandwidth Per Node\",\"x\":\"130e6\",\"y\":155,\"yanchor\":\"bottom\"}],\"xaxis\":{\"title\":{\"text\":\"Dirc_Data_Mov\"},\"ticks\":\"outside\"},\"yaxis\":{\"title\":{\"text\":\"Bandwidth/Node\"},\"ticks\":\"outside\"},\"title\":{\"text\":\"\\\"macro fused: probempi vs nonprobempi\\\" Bandwidth Measurement\"},\"legend\":{\"bordercolor\":\"black\",\"borderwidth\":1}},                        {\"responsive\": true}                    ).then(function(){\n",
       "                            \n",
       "var gd = document.getElementById('16e496af-1299-43f6-9069-e8431c336b08');\n",
       "var x = new MutationObserver(function (mutations, observer) {{\n",
       "        var display = window.getComputedStyle(gd).display;\n",
       "        if (!display || display === 'none') {{\n",
       "            console.log([gd, 'removed!']);\n",
       "            Plotly.purge(gd);\n",
       "            observer.disconnect();\n",
       "        }}\n",
       "}});\n",
       "\n",
       "// Listen for the removal of the full notebook cells\n",
       "var notebookContainer = gd.closest('#notebook-container');\n",
       "if (notebookContainer) {{\n",
       "    x.observe(notebookContainer, {childList: true});\n",
       "}}\n",
       "\n",
       "// Listen for the clearing of the current output cell\n",
       "var outputEl = gd.closest('.output');\n",
       "if (outputEl) {{\n",
       "    x.observe(outputEl, {childList: true});\n",
       "}}\n",
       "\n",
       "                        })                };                });            </script>        </div>"
      ]
     },
     "metadata": {},
     "output_type": "display_data"
    }
   ],
   "source": [
    "fig = go.Figure() \n",
    "\n",
    "# 1----\n",
    "fig.add_trace(go.Scatter(x=(dfn4MacFusProb_32mpi_4omp.Dirc_Data_Mov*(dfn4MacFusProb_32mpi_4omp.MPI_size/4)), \n",
    "                         y=(dfn4MacFusProb_32mpi_4omp.BAND*(dfn4MacFusProb_32mpi_4omp.MPI_size/4)), \n",
    "                         mode='lines+markers', \n",
    "                         name='MacFusProb_32mpi_4omp',\n",
    "                         line=dict(color='darkcyan',width=3),\n",
    "                         marker=dict(symbol='hexagon',size=9, line=dict(color='yellow',width=1))))\n",
    "\n",
    "fig.add_trace(go.Scatter(x=(dfn4MacFusNonProb_32mpi_4omp.Dirc_Data_Mov*(dfn4MacFusNonProb_32mpi_4omp.MPI_size/4)), \n",
    "                         y=(dfn4MacFusNonProb_32mpi_4omp.BAND*(dfn4MacFusNonProb_32mpi_4omp.MPI_size/4)), \n",
    "                         mode='lines+markers', \n",
    "                         name='MacFusNonProb_32mpi_4omp',\n",
    "                         line=dict(color='magenta',width=3),\n",
    "                         marker=dict(symbol='hexagon',size=9, line=dict(color='yellow',width=1))))\n",
    "\n",
    "\n",
    "# 2----\n",
    "fig.add_trace(go.Scatter(x=(dfn4MacFusProb_40mpi_3omp.Dirc_Data_Mov*(dfn4MacFusProb_40mpi_3omp.MPI_size/4)), \n",
    "                         y=(dfn4MacFusProb_40mpi_3omp.BAND*(dfn4MacFusProb_40mpi_3omp.MPI_size/4)), \n",
    "                         mode='lines+markers', \n",
    "                         name='MacFusProb_40mpi_3omp',\n",
    "                         line=dict(color='royalblue',width=3),\n",
    "                         marker=dict(symbol='diamond',size=5,line=dict(color='MediumPurple',width=2))))\n",
    "\n",
    "fig.add_trace(go.Scatter(x=(dfn4MacFusNonProb_40mpi_3omp.Dirc_Data_Mov*(dfn4MacFusNonProb_40mpi_3omp.MPI_size/4)), \n",
    "                         y=(dfn4MacFusNonProb_40mpi_3omp.BAND*(dfn4MacFusNonProb_40mpi_3omp.MPI_size/4)), \n",
    "                         mode='lines+markers', \n",
    "                         name='MacFusNonProb_40mpi_3omp',\n",
    "                         line=dict(color='sandybrown',width=3),\n",
    "                         marker=dict(symbol='diamond',size=5,line=dict(color='MediumPurple',width=2))))\n",
    "\n",
    "\n",
    "# 3----\n",
    "fig.add_trace(go.Scatter(x=(dfn4MacFusProb_56mpi_2omp.Dirc_Data_Mov*(dfn4MacFusProb_56mpi_2omp.MPI_size/4)), \n",
    "                         y=(dfn4MacFusProb_56mpi_2omp.BAND*(dfn4MacFusProb_56mpi_2omp.MPI_size/4)), \n",
    "                         mode='lines+markers', \n",
    "                         name='MacFusProb_56mpi_2omp',\n",
    "                         line=dict(color='darkblue',width=3),\n",
    "                         marker=dict(symbol='circle',size=7, line=dict(color='tomato',width=2))))\n",
    "\n",
    "fig.add_trace(go.Scatter(x=(dfn4MacFusnonProb_56mpi_2omp.Dirc_Data_Mov*(dfn4MacFusnonProb_56mpi_2omp.MPI_size/4)), \n",
    "                         y=(dfn4MacFusnonProb_56mpi_2omp.BAND*(dfn4MacFusnonProb_56mpi_2omp.MPI_size/4)), \n",
    "                         mode='lines+markers', \n",
    "                         name='MacFusnonProb_56mpi_2omp',\n",
    "                         line=dict(color='cyan',width=3),\n",
    "                         marker=dict(symbol='circle',size=7,line=dict(color='Purple',width=2))))\n",
    "\n",
    "\n",
    "\n",
    "# 4----\n",
    "fig.add_trace(go.Scatter(x=(dfn4MacFusProb_64mpi_2omp.Dirc_Data_Mov*(dfn4MacFusProb_64mpi_2omp.MPI_size/4)), \n",
    "                         y=(dfn4MacFusProb_64mpi_2omp.BAND*(dfn4MacFusProb_64mpi_2omp.MPI_size/4)), \n",
    "                         mode='lines+markers', \n",
    "                         name='MacFusProb_64mpi_2omp',\n",
    "                         line=dict(color='blue',width=3),\n",
    "                         marker=dict(symbol='star',size=7, line=dict(color='black',width=1))))\n",
    "\n",
    "fig.add_trace(go.Scatter(x=(dfn4MacFusnonProb_64mpi_2omp.Dirc_Data_Mov*(dfn4MacFusnonProb_64mpi_2omp.MPI_size/4)), \n",
    "                         y=(dfn4MacFusnonProb_64mpi_2omp.BAND*(dfn4MacFusnonProb_64mpi_2omp.MPI_size/4)), \n",
    "                         mode='lines+markers', \n",
    "                         name='MacFusnonProb_64mpi_2omp',\n",
    "                         line=dict(color='red',width=3),\n",
    "                         marker=dict(symbol='star',size=7, line=dict(color='black',width=1))))\n",
    "\n",
    "\n",
    "# 5----\n",
    "fig.add_trace(go.Scatter(x=(dfn4MacFusProb_112mpi_1omp.Dirc_Data_Mov*(dfn4MacFusProb_112mpi_1omp.MPI_size/4)), \n",
    "                         y=(dfn4MacFusProb_112mpi_1omp.BAND*(dfn4MacFusProb_112mpi_1omp.MPI_size/4)), \n",
    "                         mode='lines+markers', \n",
    "                         name='MacFusProb_112mpi_1omp',\n",
    "                         line=dict(color='chartreuse',width=3),\n",
    "                         marker=dict(symbol='square-dot',size=7, line=dict(color='mediumvioletred',width=1))))\n",
    "\n",
    "fig.add_trace(go.Scatter(x=(dfn4MacFusnonProb_112mpi_1omp.Dirc_Data_Mov*(dfn4MacFusnonProb_112mpi_1omp.MPI_size/4)), \n",
    "                         y=(dfn4MacFusnonProb_112mpi_1omp.BAND*(dfn4MacFusnonProb_112mpi_1omp.MPI_size/4)), \n",
    "                         mode='lines+markers', \n",
    "                         name='MacFusnonProb_112mpi_1omp',\n",
    "                         line=dict(color='black',width=3),\n",
    "                         marker=dict(symbol='square-dot',size=7, line=dict(color='mediumvioletred',width=1))))\n",
    "\n",
    "\n",
    "# 6----\n",
    "fig.add_trace(go.Scatter(x=(dfn4MacFusProb_128mpi_1omp.Dirc_Data_Mov*(dfn4MacFusProb_128mpi_1omp.MPI_size/4)), \n",
    "                         y=(dfn4MacFusProb_128mpi_1omp.BAND*(dfn4MacFusProb_128mpi_1omp.MPI_size/4)), \n",
    "                         mode='lines+markers', \n",
    "                         name='MacFusProb_128mpi_1omp',\n",
    "                         line=dict(color='gold',width=3),\n",
    "                         marker=dict(symbol='triangle-up',size=6, line=dict(color='black',width=1))))\n",
    "\n",
    "fig.add_trace(go.Scatter(x=(dfn4MacFusnonProb_128mpi_1omp.Dirc_Data_Mov*(dfn4MacFusnonProb_128mpi_1omp.MPI_size/4)), \n",
    "                         y=(dfn4MacFusnonProb_128mpi_1omp.BAND*(dfn4MacFusnonProb_128mpi_1omp.MPI_size/4)), \n",
    "                         mode='lines+markers', \n",
    "                         name='MacFusnonProb_128mpi_1omp',\n",
    "                         line=dict(color='dimgray',width=3),\n",
    "                         marker=dict(symbol='triangle-up',size=6, line=dict(color='black',width=1))))\n",
    "\n",
    "\n",
    "\n",
    "# Adding vertical and horizontal lines \n",
    "fig.add_vline(x=80e6, line_width=3, line_dash=\"dot\", line_color=\"green\")\n",
    "fig.add_hline(y=153, line_width=3, line_dash=\"dash\", line_color=\"red\")\n",
    "\n",
    "# Add annotation with arrow\n",
    "fig.add_annotation(\n",
    "    x='80e6'\n",
    "    , y=280\n",
    "    , text=f'LLC Size Per Node: 80M'\n",
    "    , yanchor='bottom'\n",
    "    , showarrow=False\n",
    "    , arrowhead=1\n",
    "    , arrowsize=1\n",
    "    , arrowwidth=2\n",
    "    , arrowcolor=\"#636363\"\n",
    "    , ax=-20\n",
    "    , ay=-30\n",
    "    , font=dict(size=12, color=\"purple\", family=\"Sans Serif\")\n",
    "    , align=\"left\"\n",
    "    ,)\n",
    "\n",
    "fig.add_annotation(\n",
    "    x='130e6'\n",
    "    , y=155\n",
    "    , text=f'Max Bandwidth Per Node'\n",
    "    , yanchor='bottom'\n",
    "    , showarrow=False\n",
    "    , arrowhead=1\n",
    "    , arrowsize=1\n",
    "    , arrowwidth=2\n",
    "    , arrowcolor=\"#636363\"\n",
    "    , ax=-20\n",
    "    , ay=-30\n",
    "    , font=dict(size=12, color=\"orange\", family=\"Sans Serif\")\n",
    "    , align=\"left\"\n",
    "    ,)\n",
    "\n",
    "\n",
    "fig.update_layout(title='\"macro fused: probempi vs nonprobempi\" Bandwidth Measurement',\n",
    "                  xaxis_title='Dirc_Data_Mov', yaxis_title='Bandwidth/Node', \n",
    "                  xaxis=dict(ticks=\"outside\"),  \n",
    "                  yaxis=dict(ticks=\"outside\"),\n",
    "                  legend=go.layout.Legend(bordercolor=\"black\",borderwidth=1)) \n",
    "\n",
    "\n",
    "\n"
   ]
  },
  {
   "cell_type": "code",
   "execution_count": null,
   "id": "791b3f77",
   "metadata": {},
   "outputs": [],
   "source": []
  },
  {
   "cell_type": "code",
   "execution_count": null,
   "id": "cbe55844",
   "metadata": {},
   "outputs": [],
   "source": []
  },
  {
   "cell_type": "markdown",
   "id": "0e24af10",
   "metadata": {},
   "source": [
    "## 3. macro_nonfused_probempi"
   ]
  },
  {
   "cell_type": "markdown",
   "id": "e0007f29",
   "metadata": {},
   "source": [
    "### Add Columns"
   ]
  },
  {
   "cell_type": "code",
   "execution_count": 11,
   "id": "b2e9eae5",
   "metadata": {},
   "outputs": [],
   "source": [
    "dfn4_macro_nonfused_probempi[\"N_Nodes\"] = 4\n",
    "dfn4_macro_nonfused_probempi['NPX'] = (dfn4_macro_nonfused_probempi.GLB_X//dfn4_macro_nonfused_probempi.LOC_X)\n",
    "dfn4_macro_nonfused_probempi['NPY'] = (dfn4_macro_nonfused_probempi.GLB_Y//dfn4_macro_nonfused_probempi.LOC_Y)\n",
    "dfn4_macro_nonfused_probempi['NPZ'] = (dfn4_macro_nonfused_probempi.GLB_Z//dfn4_macro_nonfused_probempi.LOC_Z)\n",
    "dfn4_macro_nonfused_probempi['NPT'] = (dfn4_macro_nonfused_probempi.GLB_T//dfn4_macro_nonfused_probempi.LOC_T)\n",
    "dfn4_macro_nonfused_probempi[\"Total_proc\"] = dfn4_macro_nonfused_probempi[\"omp_thrd\"]* dfn4_macro_nonfused_probempi.MPI_size\n",
    "# dfn4_macro_nonfused_probempi.columns"
   ]
  },
  {
   "cell_type": "markdown",
   "id": "b94ef178",
   "metadata": {},
   "source": [
    "### Data Summary"
   ]
  },
  {
   "cell_type": "code",
   "execution_count": 12,
   "id": "0551f6ff",
   "metadata": {},
   "outputs": [
    {
     "data": {
      "text/html": [
       "<div>\n",
       "<style scoped>\n",
       "    .dataframe tbody tr th:only-of-type {\n",
       "        vertical-align: middle;\n",
       "    }\n",
       "\n",
       "    .dataframe tbody tr th {\n",
       "        vertical-align: top;\n",
       "    }\n",
       "\n",
       "    .dataframe thead th {\n",
       "        text-align: right;\n",
       "    }\n",
       "</style>\n",
       "<table border=\"1\" class=\"dataframe\">\n",
       "  <thead>\n",
       "    <tr style=\"text-align: right;\">\n",
       "      <th></th>\n",
       "      <th>MPI_size</th>\n",
       "      <th>omp_thrd</th>\n",
       "      <th>NPT</th>\n",
       "      <th>NPX</th>\n",
       "      <th>NPY</th>\n",
       "      <th>NPZ</th>\n",
       "      <th>Total_proc</th>\n",
       "      <th>size</th>\n",
       "    </tr>\n",
       "  </thead>\n",
       "  <tbody>\n",
       "    <tr>\n",
       "      <th>0</th>\n",
       "      <td>32</td>\n",
       "      <td>4</td>\n",
       "      <td>4</td>\n",
       "      <td>2</td>\n",
       "      <td>2</td>\n",
       "      <td>2</td>\n",
       "      <td>128</td>\n",
       "      <td>29</td>\n",
       "    </tr>\n",
       "    <tr>\n",
       "      <th>1</th>\n",
       "      <td>40</td>\n",
       "      <td>3</td>\n",
       "      <td>5</td>\n",
       "      <td>2</td>\n",
       "      <td>2</td>\n",
       "      <td>2</td>\n",
       "      <td>120</td>\n",
       "      <td>11</td>\n",
       "    </tr>\n",
       "    <tr>\n",
       "      <th>2</th>\n",
       "      <td>56</td>\n",
       "      <td>2</td>\n",
       "      <td>7</td>\n",
       "      <td>2</td>\n",
       "      <td>2</td>\n",
       "      <td>2</td>\n",
       "      <td>112</td>\n",
       "      <td>8</td>\n",
       "    </tr>\n",
       "    <tr>\n",
       "      <th>3</th>\n",
       "      <td>64</td>\n",
       "      <td>2</td>\n",
       "      <td>8</td>\n",
       "      <td>2</td>\n",
       "      <td>2</td>\n",
       "      <td>2</td>\n",
       "      <td>128</td>\n",
       "      <td>13</td>\n",
       "    </tr>\n",
       "    <tr>\n",
       "      <th>4</th>\n",
       "      <td>104</td>\n",
       "      <td>1</td>\n",
       "      <td>13</td>\n",
       "      <td>2</td>\n",
       "      <td>2</td>\n",
       "      <td>2</td>\n",
       "      <td>104</td>\n",
       "      <td>3</td>\n",
       "    </tr>\n",
       "    <tr>\n",
       "      <th>5</th>\n",
       "      <td>112</td>\n",
       "      <td>1</td>\n",
       "      <td>14</td>\n",
       "      <td>2</td>\n",
       "      <td>2</td>\n",
       "      <td>2</td>\n",
       "      <td>112</td>\n",
       "      <td>6</td>\n",
       "    </tr>\n",
       "    <tr>\n",
       "      <th>6</th>\n",
       "      <td>120</td>\n",
       "      <td>1</td>\n",
       "      <td>15</td>\n",
       "      <td>2</td>\n",
       "      <td>2</td>\n",
       "      <td>2</td>\n",
       "      <td>120</td>\n",
       "      <td>3</td>\n",
       "    </tr>\n",
       "    <tr>\n",
       "      <th>7</th>\n",
       "      <td>128</td>\n",
       "      <td>1</td>\n",
       "      <td>16</td>\n",
       "      <td>2</td>\n",
       "      <td>2</td>\n",
       "      <td>2</td>\n",
       "      <td>128</td>\n",
       "      <td>5</td>\n",
       "    </tr>\n",
       "  </tbody>\n",
       "</table>\n",
       "</div>"
      ],
      "text/plain": [
       "   MPI_size  omp_thrd  NPT  NPX  NPY  NPZ  Total_proc  size\n",
       "0        32         4    4    2    2    2         128    29\n",
       "1        40         3    5    2    2    2         120    11\n",
       "2        56         2    7    2    2    2         112     8\n",
       "3        64         2    8    2    2    2         128    13\n",
       "4       104         1   13    2    2    2         104     3\n",
       "5       112         1   14    2    2    2         112     6\n",
       "6       120         1   15    2    2    2         120     3\n",
       "7       128         1   16    2    2    2         128     5"
      ]
     },
     "execution_count": 12,
     "metadata": {},
     "output_type": "execute_result"
    }
   ],
   "source": [
    "dfn4_macro_nonfused_probempi_summary = dfn4_macro_nonfused_probempi.groupby(['MPI_size','omp_thrd','NPT','NPX', 'NPY', 'NPZ',\"Total_proc\"]).size().reset_index(name = 'size')\n",
    "dfn4_macro_nonfused_probempi_summary"
   ]
  },
  {
   "cell_type": "markdown",
   "id": "794952ab",
   "metadata": {},
   "source": [
    "### Case Set up"
   ]
  },
  {
   "cell_type": "code",
   "execution_count": 13,
   "id": "f25a8282",
   "metadata": {},
   "outputs": [],
   "source": [
    "dfn4MacNonFusProb_32mpi_4omp = dfn4_macro_nonfused_probempi[(dfn4_macro_nonfused_probempi.omp_thrd == 4) & (dfn4_macro_nonfused_probempi.GLB_T/dfn4_macro_nonfused_probempi.LOC_T == 4) & (dfn4_macro_nonfused_probempi.GLB_X/dfn4_macro_nonfused_probempi.LOC_X == 2) & (dfn4_macro_nonfused_probempi.GLB_Y/dfn4_macro_nonfused_probempi.LOC_Y == 2)& (dfn4_macro_nonfused_probempi.GLB_Z/dfn4_macro_nonfused_probempi.LOC_Z == 2)]\n",
    "dfn4MacNonFusProb_40mpi_3omp = dfn4_macro_nonfused_probempi[(dfn4_macro_nonfused_probempi.omp_thrd == 3) & (dfn4_macro_nonfused_probempi.GLB_T/dfn4_macro_nonfused_probempi.LOC_T == 5) & (dfn4_macro_nonfused_probempi.GLB_X/dfn4_macro_nonfused_probempi.LOC_X == 2) & (dfn4_macro_nonfused_probempi.GLB_Y/dfn4_macro_nonfused_probempi.LOC_Y == 2)& (dfn4_macro_nonfused_probempi.GLB_Z/dfn4_macro_nonfused_probempi.LOC_Z == 2)]\n",
    "dfn4MacNonFusProb_56mpi_2omp = dfn4_macro_nonfused_probempi[(dfn4_macro_nonfused_probempi.omp_thrd == 2) & (dfn4_macro_nonfused_probempi.GLB_T/dfn4_macro_nonfused_probempi.LOC_T == 7) & (dfn4_macro_nonfused_probempi.GLB_X/dfn4_macro_nonfused_probempi.LOC_X == 2) & (dfn4_macro_nonfused_probempi.GLB_Y/dfn4_macro_nonfused_probempi.LOC_Y == 2)& (dfn4_macro_nonfused_probempi.GLB_Z/dfn4_macro_nonfused_probempi.LOC_Z == 2)]\n",
    "dfn4MacNonFusProb_64mpi_2omp = dfn4_macro_nonfused_probempi[(dfn4_macro_nonfused_probempi.omp_thrd == 2) & (dfn4_macro_nonfused_probempi.GLB_T/dfn4_macro_nonfused_probempi.LOC_T == 8) & (dfn4_macro_nonfused_probempi.GLB_X/dfn4_macro_nonfused_probempi.LOC_X == 2) & (dfn4_macro_nonfused_probempi.GLB_Y/dfn4_macro_nonfused_probempi.LOC_Y == 2)& (dfn4_macro_nonfused_probempi.GLB_Z/dfn4_macro_nonfused_probempi.LOC_Z == 2)]\n",
    "dfn4MacNonFusProb_112mpi_1omp = dfn4_macro_nonfused_probempi[(dfn4_macro_nonfused_probempi.omp_thrd == 1) & (dfn4_macro_nonfused_probempi.GLB_T/dfn4_macro_nonfused_probempi.LOC_T == 14) & (dfn4_macro_nonfused_probempi.GLB_X/dfn4_macro_nonfused_probempi.LOC_X == 2) & (dfn4_macro_nonfused_probempi.GLB_Y/dfn4_macro_nonfused_probempi.LOC_Y == 2)& (dfn4_macro_nonfused_probempi.GLB_Z/dfn4_macro_nonfused_probempi.LOC_Z == 2)]\n",
    "dfn4MacNonFusProb_128mpi_1omp = dfn4_macro_nonfused_probempi[(dfn4_macro_nonfused_probempi.omp_thrd == 1) & (dfn4_macro_nonfused_probempi.GLB_T/dfn4_macro_nonfused_probempi.LOC_T == 16) & (dfn4_macro_nonfused_probempi.GLB_X/dfn4_macro_nonfused_probempi.LOC_X == 2) & (dfn4_macro_nonfused_probempi.GLB_Y/dfn4_macro_nonfused_probempi.LOC_Y == 2)& (dfn4_macro_nonfused_probempi.GLB_Z/dfn4_macro_nonfused_probempi.LOC_Z == 2)]\n"
   ]
  },
  {
   "cell_type": "code",
   "execution_count": null,
   "id": "f69530f4",
   "metadata": {},
   "outputs": [],
   "source": []
  },
  {
   "cell_type": "markdown",
   "id": "4360cde7",
   "metadata": {},
   "source": [
    "## 4. macro_nonfused_nonprobempi"
   ]
  },
  {
   "cell_type": "markdown",
   "id": "db47cbf3",
   "metadata": {},
   "source": [
    "### Add Columns"
   ]
  },
  {
   "cell_type": "code",
   "execution_count": 14,
   "id": "2c195638",
   "metadata": {},
   "outputs": [],
   "source": [
    "dfn4_macro_nonfused_nonprobempi[\"N_Nodes\"] = 4\n",
    "dfn4_macro_nonfused_nonprobempi['NPX'] = (dfn4_macro_nonfused_nonprobempi.GLB_X//dfn4_macro_nonfused_nonprobempi.LOC_X)\n",
    "dfn4_macro_nonfused_nonprobempi['NPY'] = (dfn4_macro_nonfused_nonprobempi.GLB_Y//dfn4_macro_nonfused_nonprobempi.LOC_Y)\n",
    "dfn4_macro_nonfused_nonprobempi['NPZ'] = (dfn4_macro_nonfused_nonprobempi.GLB_Z//dfn4_macro_nonfused_nonprobempi.LOC_Z)\n",
    "dfn4_macro_nonfused_nonprobempi['NPT'] = (dfn4_macro_nonfused_nonprobempi.GLB_T//dfn4_macro_nonfused_nonprobempi.LOC_T)\n",
    "dfn4_macro_nonfused_nonprobempi[\"Total_proc\"] = dfn4_macro_nonfused_nonprobempi[\"omp_thrd\"]* dfn4_macro_nonfused_nonprobempi.MPI_size\n",
    "# dfn4_macro_nonfused_nonprobempi.columns"
   ]
  },
  {
   "cell_type": "markdown",
   "id": "8fe1e8b3",
   "metadata": {},
   "source": [
    "### Data Summary"
   ]
  },
  {
   "cell_type": "code",
   "execution_count": 15,
   "id": "ee643a73",
   "metadata": {},
   "outputs": [
    {
     "data": {
      "text/html": [
       "<div>\n",
       "<style scoped>\n",
       "    .dataframe tbody tr th:only-of-type {\n",
       "        vertical-align: middle;\n",
       "    }\n",
       "\n",
       "    .dataframe tbody tr th {\n",
       "        vertical-align: top;\n",
       "    }\n",
       "\n",
       "    .dataframe thead th {\n",
       "        text-align: right;\n",
       "    }\n",
       "</style>\n",
       "<table border=\"1\" class=\"dataframe\">\n",
       "  <thead>\n",
       "    <tr style=\"text-align: right;\">\n",
       "      <th></th>\n",
       "      <th>MPI_size</th>\n",
       "      <th>omp_thrd</th>\n",
       "      <th>NPT</th>\n",
       "      <th>NPX</th>\n",
       "      <th>NPY</th>\n",
       "      <th>NPZ</th>\n",
       "      <th>Total_proc</th>\n",
       "      <th>size</th>\n",
       "    </tr>\n",
       "  </thead>\n",
       "  <tbody>\n",
       "    <tr>\n",
       "      <th>0</th>\n",
       "      <td>32</td>\n",
       "      <td>4</td>\n",
       "      <td>4</td>\n",
       "      <td>2</td>\n",
       "      <td>2</td>\n",
       "      <td>2</td>\n",
       "      <td>128</td>\n",
       "      <td>29</td>\n",
       "    </tr>\n",
       "    <tr>\n",
       "      <th>1</th>\n",
       "      <td>40</td>\n",
       "      <td>3</td>\n",
       "      <td>5</td>\n",
       "      <td>2</td>\n",
       "      <td>2</td>\n",
       "      <td>2</td>\n",
       "      <td>120</td>\n",
       "      <td>11</td>\n",
       "    </tr>\n",
       "    <tr>\n",
       "      <th>2</th>\n",
       "      <td>56</td>\n",
       "      <td>2</td>\n",
       "      <td>7</td>\n",
       "      <td>2</td>\n",
       "      <td>2</td>\n",
       "      <td>2</td>\n",
       "      <td>112</td>\n",
       "      <td>8</td>\n",
       "    </tr>\n",
       "    <tr>\n",
       "      <th>3</th>\n",
       "      <td>64</td>\n",
       "      <td>2</td>\n",
       "      <td>8</td>\n",
       "      <td>2</td>\n",
       "      <td>2</td>\n",
       "      <td>2</td>\n",
       "      <td>128</td>\n",
       "      <td>13</td>\n",
       "    </tr>\n",
       "    <tr>\n",
       "      <th>4</th>\n",
       "      <td>104</td>\n",
       "      <td>1</td>\n",
       "      <td>13</td>\n",
       "      <td>2</td>\n",
       "      <td>2</td>\n",
       "      <td>2</td>\n",
       "      <td>104</td>\n",
       "      <td>3</td>\n",
       "    </tr>\n",
       "    <tr>\n",
       "      <th>5</th>\n",
       "      <td>112</td>\n",
       "      <td>1</td>\n",
       "      <td>14</td>\n",
       "      <td>2</td>\n",
       "      <td>2</td>\n",
       "      <td>2</td>\n",
       "      <td>112</td>\n",
       "      <td>6</td>\n",
       "    </tr>\n",
       "    <tr>\n",
       "      <th>6</th>\n",
       "      <td>120</td>\n",
       "      <td>1</td>\n",
       "      <td>15</td>\n",
       "      <td>2</td>\n",
       "      <td>2</td>\n",
       "      <td>2</td>\n",
       "      <td>120</td>\n",
       "      <td>3</td>\n",
       "    </tr>\n",
       "    <tr>\n",
       "      <th>7</th>\n",
       "      <td>128</td>\n",
       "      <td>1</td>\n",
       "      <td>16</td>\n",
       "      <td>2</td>\n",
       "      <td>2</td>\n",
       "      <td>2</td>\n",
       "      <td>128</td>\n",
       "      <td>5</td>\n",
       "    </tr>\n",
       "  </tbody>\n",
       "</table>\n",
       "</div>"
      ],
      "text/plain": [
       "   MPI_size  omp_thrd  NPT  NPX  NPY  NPZ  Total_proc  size\n",
       "0        32         4    4    2    2    2         128    29\n",
       "1        40         3    5    2    2    2         120    11\n",
       "2        56         2    7    2    2    2         112     8\n",
       "3        64         2    8    2    2    2         128    13\n",
       "4       104         1   13    2    2    2         104     3\n",
       "5       112         1   14    2    2    2         112     6\n",
       "6       120         1   15    2    2    2         120     3\n",
       "7       128         1   16    2    2    2         128     5"
      ]
     },
     "execution_count": 15,
     "metadata": {},
     "output_type": "execute_result"
    }
   ],
   "source": [
    "dfn4_macro_nonfused_nonprobempi_summary = dfn4_macro_nonfused_nonprobempi.groupby(['MPI_size','omp_thrd','NPT','NPX', 'NPY', 'NPZ',\"Total_proc\"]).size().reset_index(name = 'size')\n",
    "dfn4_macro_nonfused_nonprobempi_summary"
   ]
  },
  {
   "cell_type": "markdown",
   "id": "e47dd5b3",
   "metadata": {},
   "source": [
    "### Case Set up"
   ]
  },
  {
   "cell_type": "code",
   "execution_count": 16,
   "id": "d62184bf",
   "metadata": {},
   "outputs": [],
   "source": [
    "dfn4MacNonFusNonProb_32mpi_4omp = dfn4_macro_nonfused_nonprobempi[(dfn4_macro_nonfused_nonprobempi.omp_thrd == 4) & (dfn4_macro_nonfused_nonprobempi.GLB_T/dfn4_macro_nonfused_nonprobempi.LOC_T == 4) & (dfn4_macro_nonfused_nonprobempi.GLB_X/dfn4_macro_nonfused_nonprobempi.LOC_X == 2) & (dfn4_macro_nonfused_nonprobempi.GLB_Y/dfn4_macro_nonfused_nonprobempi.LOC_Y == 2)& (dfn4_macro_nonfused_nonprobempi.GLB_Z/dfn4_macro_nonfused_nonprobempi.LOC_Z == 2)]\n",
    "dfn4MacNonFusNonProb_40mpi_3omp = dfn4_macro_nonfused_nonprobempi[(dfn4_macro_nonfused_nonprobempi.omp_thrd == 3) & (dfn4_macro_nonfused_nonprobempi.GLB_T/dfn4_macro_nonfused_nonprobempi.LOC_T == 5) & (dfn4_macro_nonfused_nonprobempi.GLB_X/dfn4_macro_nonfused_nonprobempi.LOC_X == 2) & (dfn4_macro_nonfused_nonprobempi.GLB_Y/dfn4_macro_nonfused_nonprobempi.LOC_Y == 2)& (dfn4_macro_nonfused_nonprobempi.GLB_Z/dfn4_macro_nonfused_nonprobempi.LOC_Z == 2)]\n",
    "dfn4MacNonFusNonProb_56mpi_2omp = dfn4_macro_nonfused_nonprobempi[(dfn4_macro_nonfused_nonprobempi.omp_thrd == 2) & (dfn4_macro_nonfused_nonprobempi.GLB_T/dfn4_macro_nonfused_nonprobempi.LOC_T == 7) & (dfn4_macro_nonfused_nonprobempi.GLB_X/dfn4_macro_nonfused_nonprobempi.LOC_X == 2) & (dfn4_macro_nonfused_nonprobempi.GLB_Y/dfn4_macro_nonfused_nonprobempi.LOC_Y == 2)& (dfn4_macro_nonfused_nonprobempi.GLB_Z/dfn4_macro_nonfused_nonprobempi.LOC_Z == 2)]\n",
    "dfn4MacNonFusNonProb_64mpi_2omp = dfn4_macro_nonfused_nonprobempi[(dfn4_macro_nonfused_nonprobempi.omp_thrd == 2) & (dfn4_macro_nonfused_nonprobempi.GLB_T/dfn4_macro_nonfused_nonprobempi.LOC_T == 8) & (dfn4_macro_nonfused_nonprobempi.GLB_X/dfn4_macro_nonfused_nonprobempi.LOC_X == 2) & (dfn4_macro_nonfused_nonprobempi.GLB_Y/dfn4_macro_nonfused_nonprobempi.LOC_Y == 2)& (dfn4_macro_nonfused_nonprobempi.GLB_Z/dfn4_macro_nonfused_nonprobempi.LOC_Z == 2)]\n",
    "dfn4MacNonFusNonProb_112mpi_1omp = dfn4_macro_nonfused_nonprobempi[(dfn4_macro_nonfused_nonprobempi.omp_thrd == 1) & (dfn4_macro_nonfused_nonprobempi.GLB_T/dfn4_macro_nonfused_nonprobempi.LOC_T == 14) & (dfn4_macro_nonfused_nonprobempi.GLB_X/dfn4_macro_nonfused_nonprobempi.LOC_X == 2) & (dfn4_macro_nonfused_nonprobempi.GLB_Y/dfn4_macro_nonfused_nonprobempi.LOC_Y == 2)& (dfn4_macro_nonfused_nonprobempi.GLB_Z/dfn4_macro_nonfused_nonprobempi.LOC_Z == 2)]\n",
    "dfn4MacNonFusNonProb_128mpi_1omp = dfn4_macro_nonfused_nonprobempi[(dfn4_macro_nonfused_nonprobempi.omp_thrd == 1) & (dfn4_macro_nonfused_nonprobempi.GLB_T/dfn4_macro_nonfused_nonprobempi.LOC_T == 16) & (dfn4_macro_nonfused_nonprobempi.GLB_X/dfn4_macro_nonfused_nonprobempi.LOC_X == 2) & (dfn4_macro_nonfused_nonprobempi.GLB_Y/dfn4_macro_nonfused_nonprobempi.LOC_Y == 2)& (dfn4_macro_nonfused_nonprobempi.GLB_Z/dfn4_macro_nonfused_nonprobempi.LOC_Z == 2)]\n"
   ]
  },
  {
   "cell_type": "markdown",
   "id": "0c280d96",
   "metadata": {},
   "source": [
    "## GFLOPS - Macro nonfused: Probempi vs Nonprobempi"
   ]
  },
  {
   "cell_type": "code",
   "execution_count": 17,
   "id": "a9acbb22",
   "metadata": {},
   "outputs": [
    {
     "data": {
      "application/vnd.plotly.v1+json": {
       "config": {
        "plotlyServerURL": "https://plot.ly"
       },
       "data": [
        {
         "line": {
          "color": "magenta",
          "width": 3
         },
         "marker": {
          "line": {
           "color": "yellow",
           "width": 1
          },
          "size": 9,
          "symbol": "hexagon"
         },
         "mode": "lines+markers",
         "name": "MacNonFusProb_32mpi_4omp",
         "type": "scatter",
         "x": [
          50331648,
          62914560,
          75497472,
          88080384,
          100663296,
          113246208,
          125829120,
          138412032,
          150994944,
          163577856,
          176160768,
          188743680,
          201326592,
          213909504,
          226492416,
          239075328,
          251658240,
          264241152,
          276824064,
          289406976,
          301989888,
          314572800,
          327155712,
          339738624,
          352321536,
          364904448,
          377487360,
          390070272,
          402653184
         ],
         "y": [
          32.1784,
          32.36448,
          33.50736,
          32.8248,
          33.65016,
          33.81752,
          34.19888,
          34.26416,
          32.69376,
          32.26448,
          31.50288,
          29.64896,
          29.15992,
          28.50856,
          28.02552,
          27.51088,
          26.79296,
          26.9048,
          26.25912,
          26.01744,
          25.88552,
          25.6152,
          25.13664,
          25.20512,
          25.10128,
          24.53656,
          24.87264,
          24.94008,
          24.63568
         ]
        },
        {
         "line": {
          "color": "darkcyan",
          "width": 3
         },
         "marker": {
          "line": {
           "color": "yellow",
           "width": 1
          },
          "size": 9,
          "symbol": "hexagon"
         },
         "mode": "lines+markers",
         "name": "MacNonFusNonProb_32mpi_4omp",
         "type": "scatter",
         "x": [
          50331648,
          62914560,
          75497472,
          88080384,
          100663296,
          113246208,
          125829120,
          138412032,
          150994944,
          163577856,
          176160768,
          188743680,
          201326592,
          213909504,
          226492416,
          239075328,
          251658240,
          264241152,
          276824064,
          289406976,
          301989888,
          314572800,
          327155712,
          339738624,
          352321536,
          364904448,
          377487360,
          390070272,
          402653184
         ],
         "y": [
          39.2348,
          41.96672,
          42.10088,
          44.18288,
          47.42616,
          45.40368,
          45.042,
          45.01912,
          44.97184,
          43.54552,
          41.76608,
          40.62352,
          40.04392,
          38.03408,
          37.0144,
          35.47024,
          35.0064,
          33.98752,
          33.53968,
          33.17664,
          32.64784,
          32.31584,
          31.34504,
          30.81288,
          30.91104,
          30.13648,
          30.48944,
          30.36864,
          30.04832
         ]
        },
        {
         "line": {
          "color": "sandybrown",
          "width": 3
         },
         "marker": {
          "line": {
           "color": "MediumPurple",
           "width": 2
          },
          "size": 5,
          "symbol": "diamond"
         },
         "mode": "lines+markers",
         "name": "MacNonFusProb_40mpi_3omp",
         "type": "scatter",
         "x": [
          62914560,
          94371840,
          125829120,
          157286400,
          188743680,
          220200960,
          251658240,
          283115520,
          314572800,
          346030080,
          377487360
         ],
         "y": [
          33.8186,
          33.8916,
          31.9574,
          29.299599999999998,
          26.102899999999998,
          23.8191,
          23.6715,
          23.1185,
          22.5949,
          22.682000000000002,
          22.4899
         ]
        },
        {
         "line": {
          "color": "royalblue",
          "width": 3
         },
         "marker": {
          "line": {
           "color": "MediumPurple",
           "width": 2
          },
          "size": 5,
          "symbol": "diamond"
         },
         "mode": "lines+markers",
         "name": "MacNonFusNonProb_40mpi_3omp",
         "type": "scatter",
         "x": [
          62914560,
          94371840,
          125829120,
          157286400,
          188743680,
          220200960,
          251658240,
          283115520,
          314572800,
          346030080,
          377487360
         ],
         "y": [
          40.9288,
          41.021,
          40.661300000000004,
          36.3596,
          32.254999999999995,
          29.4311,
          27.7098,
          26.490000000000002,
          26.5108,
          26.112700000000004,
          26.427200000000003
         ]
        },
        {
         "line": {
          "color": "cyan",
          "width": 3
         },
         "marker": {
          "line": {
           "color": "Purple",
           "width": 2
          },
          "size": 7,
          "symbol": "circle"
         },
         "mode": "lines+markers",
         "name": "MacNonFusProb_56mpi_2omp",
         "type": "scatter",
         "x": [
          88080384,
          132120576,
          176160768,
          220200960,
          264241152,
          308281344,
          352321536,
          396361728
         ],
         "y": [
          38.56944,
          37.558080000000004,
          34.5492,
          32.2686,
          30.812320000000003,
          29.889999999999997,
          29.555680000000002,
          28.737099999999998
         ]
        },
        {
         "line": {
          "color": "darkblue",
          "width": 3
         },
         "marker": {
          "line": {
           "color": "tomato",
           "width": 2
          },
          "size": 7,
          "symbol": "circle"
         },
         "mode": "lines+markers",
         "name": "MacNonFusNonProb_56mpi_2omp",
         "type": "scatter",
         "x": [
          88080384,
          132120576,
          176160768,
          220200960,
          264241152,
          308281344,
          352321536,
          396361728
         ],
         "y": [
          56.20215999999999,
          53.5052,
          45.46094,
          39.21246,
          36.975260000000006,
          35.88634,
          35.02576,
          33.9094
         ]
        },
        {
         "line": {
          "color": "blue",
          "width": 3
         },
         "marker": {
          "line": {
           "color": "black",
           "width": 1
          },
          "size": 7,
          "symbol": "star"
         },
         "mode": "lines+markers",
         "name": "MacNonFusProb_64mpi_2omp",
         "type": "scatter",
         "x": [
          100663296,
          125829120,
          150994944,
          176160768,
          201326592,
          226492416,
          251658240,
          276824064,
          301989888,
          327155712,
          352321536,
          377487360,
          402653184
         ],
         "y": [
          44.73504,
          44.0952,
          41.76448,
          39.65408,
          37.74864,
          36.09936,
          35.47232,
          34.25248,
          33.58864,
          33.28352,
          32.84592,
          32.5608,
          32.29728
         ]
        },
        {
         "line": {
          "color": "red",
          "width": 3
         },
         "marker": {
          "line": {
           "color": "black",
           "width": 1
          },
          "size": 7,
          "symbol": "star"
         },
         "mode": "lines+markers",
         "name": "MacNonFusNonProb_64mpi_2omp",
         "type": "scatter",
         "x": [
          100663296,
          125829120,
          150994944,
          176160768,
          201326592,
          226492416,
          251658240,
          276824064,
          301989888,
          327155712,
          352321536,
          377487360,
          402653184
         ],
         "y": [
          61.16784,
          60.57808,
          62.69792,
          56.86384,
          52.76608,
          48.55488,
          46.12784,
          44.17056,
          42.59664,
          41.52,
          41.17344,
          40.62,
          39.72432
         ]
        },
        {
         "line": {
          "color": "chartreuse",
          "width": 3
         },
         "marker": {
          "line": {
           "color": "mediumvioletred",
           "width": 1
          },
          "size": 7,
          "symbol": "square-dot"
         },
         "mode": "lines+markers",
         "name": "MacNonFusProb_112mpi_1omp",
         "type": "scatter",
         "x": [
          176160768,
          220200960,
          264241152,
          308281344,
          352321536,
          396361728
         ],
         "y": [
          36.415679999999995,
          34.39492,
          34.59092,
          34.00432,
          33.6602,
          33.32056
         ]
        },
        {
         "line": {
          "color": "black",
          "width": 3
         },
         "marker": {
          "line": {
           "color": "mediumvioletred",
           "width": 1
          },
          "size": 7,
          "symbol": "square-dot"
         },
         "mode": "lines+markers",
         "name": "MacNonFusNonProb_112mpi_1omp",
         "type": "scatter",
         "x": [
          176160768,
          220200960,
          264241152,
          308281344,
          352321536,
          396361728
         ],
         "y": [
          45.9998,
          41.17848,
          40.76772,
          39.75636,
          38.84048,
          38.61396
         ]
        },
        {
         "line": {
          "color": "gold",
          "width": 3
         },
         "marker": {
          "line": {
           "color": "black",
           "width": 1
          },
          "size": 6,
          "symbol": "triangle-up"
         },
         "mode": "lines+markers",
         "name": "MacNonFusProb_128mpi_1omp",
         "type": "scatter",
         "x": [
          201326592,
          251658240,
          301989888,
          352321536,
          402653184
         ],
         "y": [
          40.44768,
          38.37248,
          37.37088,
          36.97504,
          36.49824
         ]
        },
        {
         "line": {
          "color": "dimgray",
          "width": 3
         },
         "marker": {
          "line": {
           "color": "black",
           "width": 1
          },
          "size": 6,
          "symbol": "triangle-up"
         },
         "mode": "lines+markers",
         "name": "MacNonFusNonProb_128mpi_1omp",
         "type": "scatter",
         "x": [
          201326592,
          251658240,
          301989888,
          352321536,
          402653184
         ],
         "y": [
          52.27648,
          47.4256,
          46.728,
          45.824,
          45.1168
         ]
        }
       ],
       "layout": {
        "annotations": [
         {
          "align": "left",
          "arrowcolor": "#636363",
          "arrowhead": 1,
          "arrowsize": 1,
          "arrowwidth": 2,
          "ax": -20,
          "ay": -30,
          "font": {
           "color": "purple",
           "family": "Sans Serif",
           "size": 12
          },
          "showarrow": false,
          "text": "LLC Size Per Node",
          "x": "80e6",
          "y": 130,
          "yanchor": "bottom"
         }
        ],
        "shapes": [
         {
          "line": {
           "color": "green",
           "dash": "dash",
           "width": 3
          },
          "type": "line",
          "x0": 80000000,
          "x1": 80000000,
          "xref": "x",
          "y0": 0,
          "y1": 1,
          "yref": "y domain"
         }
        ],
        "template": {
         "data": {
          "bar": [
           {
            "error_x": {
             "color": "#2a3f5f"
            },
            "error_y": {
             "color": "#2a3f5f"
            },
            "marker": {
             "line": {
              "color": "#E5ECF6",
              "width": 0.5
             },
             "pattern": {
              "fillmode": "overlay",
              "size": 10,
              "solidity": 0.2
             }
            },
            "type": "bar"
           }
          ],
          "barpolar": [
           {
            "marker": {
             "line": {
              "color": "#E5ECF6",
              "width": 0.5
             },
             "pattern": {
              "fillmode": "overlay",
              "size": 10,
              "solidity": 0.2
             }
            },
            "type": "barpolar"
           }
          ],
          "carpet": [
           {
            "aaxis": {
             "endlinecolor": "#2a3f5f",
             "gridcolor": "white",
             "linecolor": "white",
             "minorgridcolor": "white",
             "startlinecolor": "#2a3f5f"
            },
            "baxis": {
             "endlinecolor": "#2a3f5f",
             "gridcolor": "white",
             "linecolor": "white",
             "minorgridcolor": "white",
             "startlinecolor": "#2a3f5f"
            },
            "type": "carpet"
           }
          ],
          "choropleth": [
           {
            "colorbar": {
             "outlinewidth": 0,
             "ticks": ""
            },
            "type": "choropleth"
           }
          ],
          "contour": [
           {
            "colorbar": {
             "outlinewidth": 0,
             "ticks": ""
            },
            "colorscale": [
             [
              0,
              "#0d0887"
             ],
             [
              0.1111111111111111,
              "#46039f"
             ],
             [
              0.2222222222222222,
              "#7201a8"
             ],
             [
              0.3333333333333333,
              "#9c179e"
             ],
             [
              0.4444444444444444,
              "#bd3786"
             ],
             [
              0.5555555555555556,
              "#d8576b"
             ],
             [
              0.6666666666666666,
              "#ed7953"
             ],
             [
              0.7777777777777778,
              "#fb9f3a"
             ],
             [
              0.8888888888888888,
              "#fdca26"
             ],
             [
              1,
              "#f0f921"
             ]
            ],
            "type": "contour"
           }
          ],
          "contourcarpet": [
           {
            "colorbar": {
             "outlinewidth": 0,
             "ticks": ""
            },
            "type": "contourcarpet"
           }
          ],
          "heatmap": [
           {
            "colorbar": {
             "outlinewidth": 0,
             "ticks": ""
            },
            "colorscale": [
             [
              0,
              "#0d0887"
             ],
             [
              0.1111111111111111,
              "#46039f"
             ],
             [
              0.2222222222222222,
              "#7201a8"
             ],
             [
              0.3333333333333333,
              "#9c179e"
             ],
             [
              0.4444444444444444,
              "#bd3786"
             ],
             [
              0.5555555555555556,
              "#d8576b"
             ],
             [
              0.6666666666666666,
              "#ed7953"
             ],
             [
              0.7777777777777778,
              "#fb9f3a"
             ],
             [
              0.8888888888888888,
              "#fdca26"
             ],
             [
              1,
              "#f0f921"
             ]
            ],
            "type": "heatmap"
           }
          ],
          "heatmapgl": [
           {
            "colorbar": {
             "outlinewidth": 0,
             "ticks": ""
            },
            "colorscale": [
             [
              0,
              "#0d0887"
             ],
             [
              0.1111111111111111,
              "#46039f"
             ],
             [
              0.2222222222222222,
              "#7201a8"
             ],
             [
              0.3333333333333333,
              "#9c179e"
             ],
             [
              0.4444444444444444,
              "#bd3786"
             ],
             [
              0.5555555555555556,
              "#d8576b"
             ],
             [
              0.6666666666666666,
              "#ed7953"
             ],
             [
              0.7777777777777778,
              "#fb9f3a"
             ],
             [
              0.8888888888888888,
              "#fdca26"
             ],
             [
              1,
              "#f0f921"
             ]
            ],
            "type": "heatmapgl"
           }
          ],
          "histogram": [
           {
            "marker": {
             "pattern": {
              "fillmode": "overlay",
              "size": 10,
              "solidity": 0.2
             }
            },
            "type": "histogram"
           }
          ],
          "histogram2d": [
           {
            "colorbar": {
             "outlinewidth": 0,
             "ticks": ""
            },
            "colorscale": [
             [
              0,
              "#0d0887"
             ],
             [
              0.1111111111111111,
              "#46039f"
             ],
             [
              0.2222222222222222,
              "#7201a8"
             ],
             [
              0.3333333333333333,
              "#9c179e"
             ],
             [
              0.4444444444444444,
              "#bd3786"
             ],
             [
              0.5555555555555556,
              "#d8576b"
             ],
             [
              0.6666666666666666,
              "#ed7953"
             ],
             [
              0.7777777777777778,
              "#fb9f3a"
             ],
             [
              0.8888888888888888,
              "#fdca26"
             ],
             [
              1,
              "#f0f921"
             ]
            ],
            "type": "histogram2d"
           }
          ],
          "histogram2dcontour": [
           {
            "colorbar": {
             "outlinewidth": 0,
             "ticks": ""
            },
            "colorscale": [
             [
              0,
              "#0d0887"
             ],
             [
              0.1111111111111111,
              "#46039f"
             ],
             [
              0.2222222222222222,
              "#7201a8"
             ],
             [
              0.3333333333333333,
              "#9c179e"
             ],
             [
              0.4444444444444444,
              "#bd3786"
             ],
             [
              0.5555555555555556,
              "#d8576b"
             ],
             [
              0.6666666666666666,
              "#ed7953"
             ],
             [
              0.7777777777777778,
              "#fb9f3a"
             ],
             [
              0.8888888888888888,
              "#fdca26"
             ],
             [
              1,
              "#f0f921"
             ]
            ],
            "type": "histogram2dcontour"
           }
          ],
          "mesh3d": [
           {
            "colorbar": {
             "outlinewidth": 0,
             "ticks": ""
            },
            "type": "mesh3d"
           }
          ],
          "parcoords": [
           {
            "line": {
             "colorbar": {
              "outlinewidth": 0,
              "ticks": ""
             }
            },
            "type": "parcoords"
           }
          ],
          "pie": [
           {
            "automargin": true,
            "type": "pie"
           }
          ],
          "scatter": [
           {
            "fillpattern": {
             "fillmode": "overlay",
             "size": 10,
             "solidity": 0.2
            },
            "type": "scatter"
           }
          ],
          "scatter3d": [
           {
            "line": {
             "colorbar": {
              "outlinewidth": 0,
              "ticks": ""
             }
            },
            "marker": {
             "colorbar": {
              "outlinewidth": 0,
              "ticks": ""
             }
            },
            "type": "scatter3d"
           }
          ],
          "scattercarpet": [
           {
            "marker": {
             "colorbar": {
              "outlinewidth": 0,
              "ticks": ""
             }
            },
            "type": "scattercarpet"
           }
          ],
          "scattergeo": [
           {
            "marker": {
             "colorbar": {
              "outlinewidth": 0,
              "ticks": ""
             }
            },
            "type": "scattergeo"
           }
          ],
          "scattergl": [
           {
            "marker": {
             "colorbar": {
              "outlinewidth": 0,
              "ticks": ""
             }
            },
            "type": "scattergl"
           }
          ],
          "scattermapbox": [
           {
            "marker": {
             "colorbar": {
              "outlinewidth": 0,
              "ticks": ""
             }
            },
            "type": "scattermapbox"
           }
          ],
          "scatterpolar": [
           {
            "marker": {
             "colorbar": {
              "outlinewidth": 0,
              "ticks": ""
             }
            },
            "type": "scatterpolar"
           }
          ],
          "scatterpolargl": [
           {
            "marker": {
             "colorbar": {
              "outlinewidth": 0,
              "ticks": ""
             }
            },
            "type": "scatterpolargl"
           }
          ],
          "scatterternary": [
           {
            "marker": {
             "colorbar": {
              "outlinewidth": 0,
              "ticks": ""
             }
            },
            "type": "scatterternary"
           }
          ],
          "surface": [
           {
            "colorbar": {
             "outlinewidth": 0,
             "ticks": ""
            },
            "colorscale": [
             [
              0,
              "#0d0887"
             ],
             [
              0.1111111111111111,
              "#46039f"
             ],
             [
              0.2222222222222222,
              "#7201a8"
             ],
             [
              0.3333333333333333,
              "#9c179e"
             ],
             [
              0.4444444444444444,
              "#bd3786"
             ],
             [
              0.5555555555555556,
              "#d8576b"
             ],
             [
              0.6666666666666666,
              "#ed7953"
             ],
             [
              0.7777777777777778,
              "#fb9f3a"
             ],
             [
              0.8888888888888888,
              "#fdca26"
             ],
             [
              1,
              "#f0f921"
             ]
            ],
            "type": "surface"
           }
          ],
          "table": [
           {
            "cells": {
             "fill": {
              "color": "#EBF0F8"
             },
             "line": {
              "color": "white"
             }
            },
            "header": {
             "fill": {
              "color": "#C8D4E3"
             },
             "line": {
              "color": "white"
             }
            },
            "type": "table"
           }
          ]
         },
         "layout": {
          "annotationdefaults": {
           "arrowcolor": "#2a3f5f",
           "arrowhead": 0,
           "arrowwidth": 1
          },
          "autotypenumbers": "strict",
          "coloraxis": {
           "colorbar": {
            "outlinewidth": 0,
            "ticks": ""
           }
          },
          "colorscale": {
           "diverging": [
            [
             0,
             "#8e0152"
            ],
            [
             0.1,
             "#c51b7d"
            ],
            [
             0.2,
             "#de77ae"
            ],
            [
             0.3,
             "#f1b6da"
            ],
            [
             0.4,
             "#fde0ef"
            ],
            [
             0.5,
             "#f7f7f7"
            ],
            [
             0.6,
             "#e6f5d0"
            ],
            [
             0.7,
             "#b8e186"
            ],
            [
             0.8,
             "#7fbc41"
            ],
            [
             0.9,
             "#4d9221"
            ],
            [
             1,
             "#276419"
            ]
           ],
           "sequential": [
            [
             0,
             "#0d0887"
            ],
            [
             0.1111111111111111,
             "#46039f"
            ],
            [
             0.2222222222222222,
             "#7201a8"
            ],
            [
             0.3333333333333333,
             "#9c179e"
            ],
            [
             0.4444444444444444,
             "#bd3786"
            ],
            [
             0.5555555555555556,
             "#d8576b"
            ],
            [
             0.6666666666666666,
             "#ed7953"
            ],
            [
             0.7777777777777778,
             "#fb9f3a"
            ],
            [
             0.8888888888888888,
             "#fdca26"
            ],
            [
             1,
             "#f0f921"
            ]
           ],
           "sequentialminus": [
            [
             0,
             "#0d0887"
            ],
            [
             0.1111111111111111,
             "#46039f"
            ],
            [
             0.2222222222222222,
             "#7201a8"
            ],
            [
             0.3333333333333333,
             "#9c179e"
            ],
            [
             0.4444444444444444,
             "#bd3786"
            ],
            [
             0.5555555555555556,
             "#d8576b"
            ],
            [
             0.6666666666666666,
             "#ed7953"
            ],
            [
             0.7777777777777778,
             "#fb9f3a"
            ],
            [
             0.8888888888888888,
             "#fdca26"
            ],
            [
             1,
             "#f0f921"
            ]
           ]
          },
          "colorway": [
           "#636efa",
           "#EF553B",
           "#00cc96",
           "#ab63fa",
           "#FFA15A",
           "#19d3f3",
           "#FF6692",
           "#B6E880",
           "#FF97FF",
           "#FECB52"
          ],
          "font": {
           "color": "#2a3f5f"
          },
          "geo": {
           "bgcolor": "white",
           "lakecolor": "white",
           "landcolor": "#E5ECF6",
           "showlakes": true,
           "showland": true,
           "subunitcolor": "white"
          },
          "hoverlabel": {
           "align": "left"
          },
          "hovermode": "closest",
          "mapbox": {
           "style": "light"
          },
          "paper_bgcolor": "white",
          "plot_bgcolor": "#E5ECF6",
          "polar": {
           "angularaxis": {
            "gridcolor": "white",
            "linecolor": "white",
            "ticks": ""
           },
           "bgcolor": "#E5ECF6",
           "radialaxis": {
            "gridcolor": "white",
            "linecolor": "white",
            "ticks": ""
           }
          },
          "scene": {
           "xaxis": {
            "backgroundcolor": "#E5ECF6",
            "gridcolor": "white",
            "gridwidth": 2,
            "linecolor": "white",
            "showbackground": true,
            "ticks": "",
            "zerolinecolor": "white"
           },
           "yaxis": {
            "backgroundcolor": "#E5ECF6",
            "gridcolor": "white",
            "gridwidth": 2,
            "linecolor": "white",
            "showbackground": true,
            "ticks": "",
            "zerolinecolor": "white"
           },
           "zaxis": {
            "backgroundcolor": "#E5ECF6",
            "gridcolor": "white",
            "gridwidth": 2,
            "linecolor": "white",
            "showbackground": true,
            "ticks": "",
            "zerolinecolor": "white"
           }
          },
          "shapedefaults": {
           "line": {
            "color": "#2a3f5f"
           }
          },
          "ternary": {
           "aaxis": {
            "gridcolor": "white",
            "linecolor": "white",
            "ticks": ""
           },
           "baxis": {
            "gridcolor": "white",
            "linecolor": "white",
            "ticks": ""
           },
           "bgcolor": "#E5ECF6",
           "caxis": {
            "gridcolor": "white",
            "linecolor": "white",
            "ticks": ""
           }
          },
          "title": {
           "x": 0.05
          },
          "xaxis": {
           "automargin": true,
           "gridcolor": "white",
           "linecolor": "white",
           "ticks": "",
           "title": {
            "standoff": 15
           },
           "zerolinecolor": "white",
           "zerolinewidth": 2
          },
          "yaxis": {
           "automargin": true,
           "gridcolor": "white",
           "linecolor": "white",
           "ticks": "",
           "title": {
            "standoff": 15
           },
           "zerolinecolor": "white",
           "zerolinewidth": 2
          }
         }
        },
        "title": {
         "text": "\"Macro NonFused: probempi vs nonprobempi\" GFlops Measurement"
        },
        "xaxis": {
         "ticks": "outside",
         "title": {
          "text": "Dirc_Data_Mov"
         }
        },
        "yaxis": {
         "ticks": "outside",
         "title": {
          "text": "GFLOPs/Node"
         }
        }
       }
      },
      "text/html": [
       "<div>                            <div id=\"15eb4356-cc83-4f0f-bfd7-d01e77b9fdb0\" class=\"plotly-graph-div\" style=\"height:525px; width:100%;\"></div>            <script type=\"text/javascript\">                require([\"plotly\"], function(Plotly) {                    window.PLOTLYENV=window.PLOTLYENV || {};                                    if (document.getElementById(\"15eb4356-cc83-4f0f-bfd7-d01e77b9fdb0\")) {                    Plotly.newPlot(                        \"15eb4356-cc83-4f0f-bfd7-d01e77b9fdb0\",                        [{\"line\":{\"color\":\"magenta\",\"width\":3},\"marker\":{\"line\":{\"color\":\"yellow\",\"width\":1},\"size\":9,\"symbol\":\"hexagon\"},\"mode\":\"lines+markers\",\"name\":\"MacNonFusProb_32mpi_4omp\",\"x\":[50331648.0,62914560.0,75497472.0,88080384.0,100663296.0,113246208.0,125829120.0,138412032.0,150994944.0,163577856.0,176160768.0,188743680.0,201326592.0,213909504.0,226492416.0,239075328.0,251658240.0,264241152.0,276824064.0,289406976.0,301989888.0,314572800.0,327155712.0,339738624.0,352321536.0,364904448.0,377487360.0,390070272.0,402653184.0],\"y\":[32.1784,32.36448,33.50736,32.8248,33.65016,33.81752,34.19888,34.26416,32.69376,32.26448,31.50288,29.64896,29.15992,28.50856,28.02552,27.51088,26.79296,26.9048,26.25912,26.01744,25.88552,25.6152,25.13664,25.20512,25.10128,24.53656,24.87264,24.94008,24.63568],\"type\":\"scatter\"},{\"line\":{\"color\":\"darkcyan\",\"width\":3},\"marker\":{\"line\":{\"color\":\"yellow\",\"width\":1},\"size\":9,\"symbol\":\"hexagon\"},\"mode\":\"lines+markers\",\"name\":\"MacNonFusNonProb_32mpi_4omp\",\"x\":[50331648.0,62914560.0,75497472.0,88080384.0,100663296.0,113246208.0,125829120.0,138412032.0,150994944.0,163577856.0,176160768.0,188743680.0,201326592.0,213909504.0,226492416.0,239075328.0,251658240.0,264241152.0,276824064.0,289406976.0,301989888.0,314572800.0,327155712.0,339738624.0,352321536.0,364904448.0,377487360.0,390070272.0,402653184.0],\"y\":[39.2348,41.96672,42.10088,44.18288,47.42616,45.40368,45.042,45.01912,44.97184,43.54552,41.76608,40.62352,40.04392,38.03408,37.0144,35.47024,35.0064,33.98752,33.53968,33.17664,32.64784,32.31584,31.34504,30.81288,30.91104,30.13648,30.48944,30.36864,30.04832],\"type\":\"scatter\"},{\"line\":{\"color\":\"sandybrown\",\"width\":3},\"marker\":{\"line\":{\"color\":\"MediumPurple\",\"width\":2},\"size\":5,\"symbol\":\"diamond\"},\"mode\":\"lines+markers\",\"name\":\"MacNonFusProb_40mpi_3omp\",\"x\":[62914560.0,94371840.0,125829120.0,157286400.0,188743680.0,220200960.0,251658240.0,283115520.0,314572800.0,346030080.0,377487360.0],\"y\":[33.8186,33.8916,31.9574,29.299599999999998,26.102899999999998,23.8191,23.6715,23.1185,22.5949,22.682000000000002,22.4899],\"type\":\"scatter\"},{\"line\":{\"color\":\"royalblue\",\"width\":3},\"marker\":{\"line\":{\"color\":\"MediumPurple\",\"width\":2},\"size\":5,\"symbol\":\"diamond\"},\"mode\":\"lines+markers\",\"name\":\"MacNonFusNonProb_40mpi_3omp\",\"x\":[62914560.0,94371840.0,125829120.0,157286400.0,188743680.0,220200960.0,251658240.0,283115520.0,314572800.0,346030080.0,377487360.0],\"y\":[40.9288,41.021,40.661300000000004,36.3596,32.254999999999995,29.4311,27.7098,26.490000000000002,26.5108,26.112700000000004,26.427200000000003],\"type\":\"scatter\"},{\"line\":{\"color\":\"cyan\",\"width\":3},\"marker\":{\"line\":{\"color\":\"Purple\",\"width\":2},\"size\":7,\"symbol\":\"circle\"},\"mode\":\"lines+markers\",\"name\":\"MacNonFusProb_56mpi_2omp\",\"x\":[88080384.0,132120576.0,176160768.0,220200960.0,264241152.0,308281344.0,352321536.0,396361728.0],\"y\":[38.56944,37.558080000000004,34.5492,32.2686,30.812320000000003,29.889999999999997,29.555680000000002,28.737099999999998],\"type\":\"scatter\"},{\"line\":{\"color\":\"darkblue\",\"width\":3},\"marker\":{\"line\":{\"color\":\"tomato\",\"width\":2},\"size\":7,\"symbol\":\"circle\"},\"mode\":\"lines+markers\",\"name\":\"MacNonFusNonProb_56mpi_2omp\",\"x\":[88080384.0,132120576.0,176160768.0,220200960.0,264241152.0,308281344.0,352321536.0,396361728.0],\"y\":[56.20215999999999,53.5052,45.46094,39.21246,36.975260000000006,35.88634,35.02576,33.9094],\"type\":\"scatter\"},{\"line\":{\"color\":\"blue\",\"width\":3},\"marker\":{\"line\":{\"color\":\"black\",\"width\":1},\"size\":7,\"symbol\":\"star\"},\"mode\":\"lines+markers\",\"name\":\"MacNonFusProb_64mpi_2omp\",\"x\":[100663296.0,125829120.0,150994944.0,176160768.0,201326592.0,226492416.0,251658240.0,276824064.0,301989888.0,327155712.0,352321536.0,377487360.0,402653184.0],\"y\":[44.73504,44.0952,41.76448,39.65408,37.74864,36.09936,35.47232,34.25248,33.58864,33.28352,32.84592,32.5608,32.29728],\"type\":\"scatter\"},{\"line\":{\"color\":\"red\",\"width\":3},\"marker\":{\"line\":{\"color\":\"black\",\"width\":1},\"size\":7,\"symbol\":\"star\"},\"mode\":\"lines+markers\",\"name\":\"MacNonFusNonProb_64mpi_2omp\",\"x\":[100663296.0,125829120.0,150994944.0,176160768.0,201326592.0,226492416.0,251658240.0,276824064.0,301989888.0,327155712.0,352321536.0,377487360.0,402653184.0],\"y\":[61.16784,60.57808,62.69792,56.86384,52.76608,48.55488,46.12784,44.17056,42.59664,41.52,41.17344,40.62,39.72432],\"type\":\"scatter\"},{\"line\":{\"color\":\"chartreuse\",\"width\":3},\"marker\":{\"line\":{\"color\":\"mediumvioletred\",\"width\":1},\"size\":7,\"symbol\":\"square-dot\"},\"mode\":\"lines+markers\",\"name\":\"MacNonFusProb_112mpi_1omp\",\"x\":[176160768.0,220200960.0,264241152.0,308281344.0,352321536.0,396361728.0],\"y\":[36.415679999999995,34.39492,34.59092,34.00432,33.6602,33.32056],\"type\":\"scatter\"},{\"line\":{\"color\":\"black\",\"width\":3},\"marker\":{\"line\":{\"color\":\"mediumvioletred\",\"width\":1},\"size\":7,\"symbol\":\"square-dot\"},\"mode\":\"lines+markers\",\"name\":\"MacNonFusNonProb_112mpi_1omp\",\"x\":[176160768.0,220200960.0,264241152.0,308281344.0,352321536.0,396361728.0],\"y\":[45.9998,41.17848,40.76772,39.75636,38.84048,38.61396],\"type\":\"scatter\"},{\"line\":{\"color\":\"gold\",\"width\":3},\"marker\":{\"line\":{\"color\":\"black\",\"width\":1},\"size\":6,\"symbol\":\"triangle-up\"},\"mode\":\"lines+markers\",\"name\":\"MacNonFusProb_128mpi_1omp\",\"x\":[201326592.0,251658240.0,301989888.0,352321536.0,402653184.0],\"y\":[40.44768,38.37248,37.37088,36.97504,36.49824],\"type\":\"scatter\"},{\"line\":{\"color\":\"dimgray\",\"width\":3},\"marker\":{\"line\":{\"color\":\"black\",\"width\":1},\"size\":6,\"symbol\":\"triangle-up\"},\"mode\":\"lines+markers\",\"name\":\"MacNonFusNonProb_128mpi_1omp\",\"x\":[201326592.0,251658240.0,301989888.0,352321536.0,402653184.0],\"y\":[52.27648,47.4256,46.728,45.824,45.1168],\"type\":\"scatter\"}],                        {\"template\":{\"data\":{\"histogram2dcontour\":[{\"type\":\"histogram2dcontour\",\"colorbar\":{\"outlinewidth\":0,\"ticks\":\"\"},\"colorscale\":[[0.0,\"#0d0887\"],[0.1111111111111111,\"#46039f\"],[0.2222222222222222,\"#7201a8\"],[0.3333333333333333,\"#9c179e\"],[0.4444444444444444,\"#bd3786\"],[0.5555555555555556,\"#d8576b\"],[0.6666666666666666,\"#ed7953\"],[0.7777777777777778,\"#fb9f3a\"],[0.8888888888888888,\"#fdca26\"],[1.0,\"#f0f921\"]]}],\"choropleth\":[{\"type\":\"choropleth\",\"colorbar\":{\"outlinewidth\":0,\"ticks\":\"\"}}],\"histogram2d\":[{\"type\":\"histogram2d\",\"colorbar\":{\"outlinewidth\":0,\"ticks\":\"\"},\"colorscale\":[[0.0,\"#0d0887\"],[0.1111111111111111,\"#46039f\"],[0.2222222222222222,\"#7201a8\"],[0.3333333333333333,\"#9c179e\"],[0.4444444444444444,\"#bd3786\"],[0.5555555555555556,\"#d8576b\"],[0.6666666666666666,\"#ed7953\"],[0.7777777777777778,\"#fb9f3a\"],[0.8888888888888888,\"#fdca26\"],[1.0,\"#f0f921\"]]}],\"heatmap\":[{\"type\":\"heatmap\",\"colorbar\":{\"outlinewidth\":0,\"ticks\":\"\"},\"colorscale\":[[0.0,\"#0d0887\"],[0.1111111111111111,\"#46039f\"],[0.2222222222222222,\"#7201a8\"],[0.3333333333333333,\"#9c179e\"],[0.4444444444444444,\"#bd3786\"],[0.5555555555555556,\"#d8576b\"],[0.6666666666666666,\"#ed7953\"],[0.7777777777777778,\"#fb9f3a\"],[0.8888888888888888,\"#fdca26\"],[1.0,\"#f0f921\"]]}],\"heatmapgl\":[{\"type\":\"heatmapgl\",\"colorbar\":{\"outlinewidth\":0,\"ticks\":\"\"},\"colorscale\":[[0.0,\"#0d0887\"],[0.1111111111111111,\"#46039f\"],[0.2222222222222222,\"#7201a8\"],[0.3333333333333333,\"#9c179e\"],[0.4444444444444444,\"#bd3786\"],[0.5555555555555556,\"#d8576b\"],[0.6666666666666666,\"#ed7953\"],[0.7777777777777778,\"#fb9f3a\"],[0.8888888888888888,\"#fdca26\"],[1.0,\"#f0f921\"]]}],\"contourcarpet\":[{\"type\":\"contourcarpet\",\"colorbar\":{\"outlinewidth\":0,\"ticks\":\"\"}}],\"contour\":[{\"type\":\"contour\",\"colorbar\":{\"outlinewidth\":0,\"ticks\":\"\"},\"colorscale\":[[0.0,\"#0d0887\"],[0.1111111111111111,\"#46039f\"],[0.2222222222222222,\"#7201a8\"],[0.3333333333333333,\"#9c179e\"],[0.4444444444444444,\"#bd3786\"],[0.5555555555555556,\"#d8576b\"],[0.6666666666666666,\"#ed7953\"],[0.7777777777777778,\"#fb9f3a\"],[0.8888888888888888,\"#fdca26\"],[1.0,\"#f0f921\"]]}],\"surface\":[{\"type\":\"surface\",\"colorbar\":{\"outlinewidth\":0,\"ticks\":\"\"},\"colorscale\":[[0.0,\"#0d0887\"],[0.1111111111111111,\"#46039f\"],[0.2222222222222222,\"#7201a8\"],[0.3333333333333333,\"#9c179e\"],[0.4444444444444444,\"#bd3786\"],[0.5555555555555556,\"#d8576b\"],[0.6666666666666666,\"#ed7953\"],[0.7777777777777778,\"#fb9f3a\"],[0.8888888888888888,\"#fdca26\"],[1.0,\"#f0f921\"]]}],\"mesh3d\":[{\"type\":\"mesh3d\",\"colorbar\":{\"outlinewidth\":0,\"ticks\":\"\"}}],\"scatter\":[{\"fillpattern\":{\"fillmode\":\"overlay\",\"size\":10,\"solidity\":0.2},\"type\":\"scatter\"}],\"parcoords\":[{\"type\":\"parcoords\",\"line\":{\"colorbar\":{\"outlinewidth\":0,\"ticks\":\"\"}}}],\"scatterpolargl\":[{\"type\":\"scatterpolargl\",\"marker\":{\"colorbar\":{\"outlinewidth\":0,\"ticks\":\"\"}}}],\"bar\":[{\"error_x\":{\"color\":\"#2a3f5f\"},\"error_y\":{\"color\":\"#2a3f5f\"},\"marker\":{\"line\":{\"color\":\"#E5ECF6\",\"width\":0.5},\"pattern\":{\"fillmode\":\"overlay\",\"size\":10,\"solidity\":0.2}},\"type\":\"bar\"}],\"scattergeo\":[{\"type\":\"scattergeo\",\"marker\":{\"colorbar\":{\"outlinewidth\":0,\"ticks\":\"\"}}}],\"scatterpolar\":[{\"type\":\"scatterpolar\",\"marker\":{\"colorbar\":{\"outlinewidth\":0,\"ticks\":\"\"}}}],\"histogram\":[{\"marker\":{\"pattern\":{\"fillmode\":\"overlay\",\"size\":10,\"solidity\":0.2}},\"type\":\"histogram\"}],\"scattergl\":[{\"type\":\"scattergl\",\"marker\":{\"colorbar\":{\"outlinewidth\":0,\"ticks\":\"\"}}}],\"scatter3d\":[{\"type\":\"scatter3d\",\"line\":{\"colorbar\":{\"outlinewidth\":0,\"ticks\":\"\"}},\"marker\":{\"colorbar\":{\"outlinewidth\":0,\"ticks\":\"\"}}}],\"scattermapbox\":[{\"type\":\"scattermapbox\",\"marker\":{\"colorbar\":{\"outlinewidth\":0,\"ticks\":\"\"}}}],\"scatterternary\":[{\"type\":\"scatterternary\",\"marker\":{\"colorbar\":{\"outlinewidth\":0,\"ticks\":\"\"}}}],\"scattercarpet\":[{\"type\":\"scattercarpet\",\"marker\":{\"colorbar\":{\"outlinewidth\":0,\"ticks\":\"\"}}}],\"carpet\":[{\"aaxis\":{\"endlinecolor\":\"#2a3f5f\",\"gridcolor\":\"white\",\"linecolor\":\"white\",\"minorgridcolor\":\"white\",\"startlinecolor\":\"#2a3f5f\"},\"baxis\":{\"endlinecolor\":\"#2a3f5f\",\"gridcolor\":\"white\",\"linecolor\":\"white\",\"minorgridcolor\":\"white\",\"startlinecolor\":\"#2a3f5f\"},\"type\":\"carpet\"}],\"table\":[{\"cells\":{\"fill\":{\"color\":\"#EBF0F8\"},\"line\":{\"color\":\"white\"}},\"header\":{\"fill\":{\"color\":\"#C8D4E3\"},\"line\":{\"color\":\"white\"}},\"type\":\"table\"}],\"barpolar\":[{\"marker\":{\"line\":{\"color\":\"#E5ECF6\",\"width\":0.5},\"pattern\":{\"fillmode\":\"overlay\",\"size\":10,\"solidity\":0.2}},\"type\":\"barpolar\"}],\"pie\":[{\"automargin\":true,\"type\":\"pie\"}]},\"layout\":{\"autotypenumbers\":\"strict\",\"colorway\":[\"#636efa\",\"#EF553B\",\"#00cc96\",\"#ab63fa\",\"#FFA15A\",\"#19d3f3\",\"#FF6692\",\"#B6E880\",\"#FF97FF\",\"#FECB52\"],\"font\":{\"color\":\"#2a3f5f\"},\"hovermode\":\"closest\",\"hoverlabel\":{\"align\":\"left\"},\"paper_bgcolor\":\"white\",\"plot_bgcolor\":\"#E5ECF6\",\"polar\":{\"bgcolor\":\"#E5ECF6\",\"angularaxis\":{\"gridcolor\":\"white\",\"linecolor\":\"white\",\"ticks\":\"\"},\"radialaxis\":{\"gridcolor\":\"white\",\"linecolor\":\"white\",\"ticks\":\"\"}},\"ternary\":{\"bgcolor\":\"#E5ECF6\",\"aaxis\":{\"gridcolor\":\"white\",\"linecolor\":\"white\",\"ticks\":\"\"},\"baxis\":{\"gridcolor\":\"white\",\"linecolor\":\"white\",\"ticks\":\"\"},\"caxis\":{\"gridcolor\":\"white\",\"linecolor\":\"white\",\"ticks\":\"\"}},\"coloraxis\":{\"colorbar\":{\"outlinewidth\":0,\"ticks\":\"\"}},\"colorscale\":{\"sequential\":[[0.0,\"#0d0887\"],[0.1111111111111111,\"#46039f\"],[0.2222222222222222,\"#7201a8\"],[0.3333333333333333,\"#9c179e\"],[0.4444444444444444,\"#bd3786\"],[0.5555555555555556,\"#d8576b\"],[0.6666666666666666,\"#ed7953\"],[0.7777777777777778,\"#fb9f3a\"],[0.8888888888888888,\"#fdca26\"],[1.0,\"#f0f921\"]],\"sequentialminus\":[[0.0,\"#0d0887\"],[0.1111111111111111,\"#46039f\"],[0.2222222222222222,\"#7201a8\"],[0.3333333333333333,\"#9c179e\"],[0.4444444444444444,\"#bd3786\"],[0.5555555555555556,\"#d8576b\"],[0.6666666666666666,\"#ed7953\"],[0.7777777777777778,\"#fb9f3a\"],[0.8888888888888888,\"#fdca26\"],[1.0,\"#f0f921\"]],\"diverging\":[[0,\"#8e0152\"],[0.1,\"#c51b7d\"],[0.2,\"#de77ae\"],[0.3,\"#f1b6da\"],[0.4,\"#fde0ef\"],[0.5,\"#f7f7f7\"],[0.6,\"#e6f5d0\"],[0.7,\"#b8e186\"],[0.8,\"#7fbc41\"],[0.9,\"#4d9221\"],[1,\"#276419\"]]},\"xaxis\":{\"gridcolor\":\"white\",\"linecolor\":\"white\",\"ticks\":\"\",\"title\":{\"standoff\":15},\"zerolinecolor\":\"white\",\"automargin\":true,\"zerolinewidth\":2},\"yaxis\":{\"gridcolor\":\"white\",\"linecolor\":\"white\",\"ticks\":\"\",\"title\":{\"standoff\":15},\"zerolinecolor\":\"white\",\"automargin\":true,\"zerolinewidth\":2},\"scene\":{\"xaxis\":{\"backgroundcolor\":\"#E5ECF6\",\"gridcolor\":\"white\",\"linecolor\":\"white\",\"showbackground\":true,\"ticks\":\"\",\"zerolinecolor\":\"white\",\"gridwidth\":2},\"yaxis\":{\"backgroundcolor\":\"#E5ECF6\",\"gridcolor\":\"white\",\"linecolor\":\"white\",\"showbackground\":true,\"ticks\":\"\",\"zerolinecolor\":\"white\",\"gridwidth\":2},\"zaxis\":{\"backgroundcolor\":\"#E5ECF6\",\"gridcolor\":\"white\",\"linecolor\":\"white\",\"showbackground\":true,\"ticks\":\"\",\"zerolinecolor\":\"white\",\"gridwidth\":2}},\"shapedefaults\":{\"line\":{\"color\":\"#2a3f5f\"}},\"annotationdefaults\":{\"arrowcolor\":\"#2a3f5f\",\"arrowhead\":0,\"arrowwidth\":1},\"geo\":{\"bgcolor\":\"white\",\"landcolor\":\"#E5ECF6\",\"subunitcolor\":\"white\",\"showland\":true,\"showlakes\":true,\"lakecolor\":\"white\"},\"title\":{\"x\":0.05},\"mapbox\":{\"style\":\"light\"}}},\"shapes\":[{\"line\":{\"color\":\"green\",\"dash\":\"dash\",\"width\":3},\"type\":\"line\",\"x0\":80000000.0,\"x1\":80000000.0,\"xref\":\"x\",\"y0\":0,\"y1\":1,\"yref\":\"y domain\"}],\"annotations\":[{\"align\":\"left\",\"arrowcolor\":\"#636363\",\"arrowhead\":1,\"arrowsize\":1,\"arrowwidth\":2,\"ax\":-20,\"ay\":-30,\"font\":{\"color\":\"purple\",\"family\":\"Sans Serif\",\"size\":12},\"showarrow\":false,\"text\":\"LLC Size Per Node\",\"x\":\"80e6\",\"y\":130,\"yanchor\":\"bottom\"}],\"xaxis\":{\"title\":{\"text\":\"Dirc_Data_Mov\"},\"ticks\":\"outside\"},\"yaxis\":{\"title\":{\"text\":\"GFLOPs/Node\"},\"ticks\":\"outside\"},\"title\":{\"text\":\"\\\"Macro NonFused: probempi vs nonprobempi\\\" GFlops Measurement\"}},                        {\"responsive\": true}                    ).then(function(){\n",
       "                            \n",
       "var gd = document.getElementById('15eb4356-cc83-4f0f-bfd7-d01e77b9fdb0');\n",
       "var x = new MutationObserver(function (mutations, observer) {{\n",
       "        var display = window.getComputedStyle(gd).display;\n",
       "        if (!display || display === 'none') {{\n",
       "            console.log([gd, 'removed!']);\n",
       "            Plotly.purge(gd);\n",
       "            observer.disconnect();\n",
       "        }}\n",
       "}});\n",
       "\n",
       "// Listen for the removal of the full notebook cells\n",
       "var notebookContainer = gd.closest('#notebook-container');\n",
       "if (notebookContainer) {{\n",
       "    x.observe(notebookContainer, {childList: true});\n",
       "}}\n",
       "\n",
       "// Listen for the clearing of the current output cell\n",
       "var outputEl = gd.closest('.output');\n",
       "if (outputEl) {{\n",
       "    x.observe(outputEl, {childList: true});\n",
       "}}\n",
       "\n",
       "                        })                };                });            </script>        </div>"
      ]
     },
     "metadata": {},
     "output_type": "display_data"
    }
   ],
   "source": [
    "fig = go.Figure() \n",
    "\n",
    "# 1----\n",
    "fig.add_trace(go.Scatter(x=(dfn4MacNonFusProb_32mpi_4omp.Dirc_Data_Mov*(dfn4MacNonFusProb_32mpi_4omp.MPI_size/4)), \n",
    "                         y=(dfn4MacNonFusProb_32mpi_4omp.GFLOPS*(dfn4MacNonFusProb_32mpi_4omp.MPI_size/4)), \n",
    "                         mode='lines+markers', \n",
    "                         name='MacNonFusProb_32mpi_4omp',\n",
    "                         line=dict(color='magenta',width=3),\n",
    "                         marker=dict(symbol='hexagon',size=9, line=dict(color='yellow',width=1))))\n",
    "\n",
    "fig.add_trace(go.Scatter(x=(dfn4MacNonFusNonProb_32mpi_4omp.Dirc_Data_Mov*(dfn4MacNonFusNonProb_32mpi_4omp.MPI_size/4)), \n",
    "                         y=(dfn4MacNonFusNonProb_32mpi_4omp.GFLOPS*(dfn4MacNonFusNonProb_32mpi_4omp.MPI_size/4)), \n",
    "                         mode='lines+markers', \n",
    "                         name='MacNonFusNonProb_32mpi_4omp',\n",
    "                         line=dict(color='darkcyan',width=3),\n",
    "                         marker=dict(symbol='hexagon',size=9, line=dict(color='yellow',width=1))))\n",
    "\n",
    "\n",
    "# 2----\n",
    "fig.add_trace(go.Scatter(x=(dfn4MacNonFusProb_40mpi_3omp.Dirc_Data_Mov*(dfn4MacNonFusProb_40mpi_3omp.MPI_size/4)), \n",
    "                         y=(dfn4MacNonFusProb_40mpi_3omp.GFLOPS*(dfn4MacNonFusProb_40mpi_3omp.MPI_size/4)), \n",
    "                         mode='lines+markers', \n",
    "                         name='MacNonFusProb_40mpi_3omp',\n",
    "                         line=dict(color='sandybrown',width=3),\n",
    "                         marker=dict(symbol='diamond',size=5,line=dict(color='MediumPurple',width=2))))\n",
    "\n",
    "fig.add_trace(go.Scatter(x=(dfn4MacNonFusNonProb_40mpi_3omp.Dirc_Data_Mov*(dfn4MacNonFusNonProb_40mpi_3omp.MPI_size/4)), \n",
    "                         y=(dfn4MacNonFusNonProb_40mpi_3omp.GFLOPS*(dfn4MacNonFusNonProb_40mpi_3omp.MPI_size/4)), \n",
    "                         mode='lines+markers', \n",
    "                         name='MacNonFusNonProb_40mpi_3omp',\n",
    "                         line=dict(color='royalblue',width=3),\n",
    "                         marker=dict(symbol='diamond',size=5,line=dict(color='MediumPurple',width=2))))\n",
    "\n",
    "\n",
    "# 3----\n",
    "fig.add_trace(go.Scatter(x=(dfn4MacNonFusProb_56mpi_2omp.Dirc_Data_Mov*(dfn4MacNonFusProb_56mpi_2omp.MPI_size/4)), \n",
    "                         y=(dfn4MacNonFusProb_56mpi_2omp.GFLOPS*(dfn4MacNonFusProb_56mpi_2omp.MPI_size/4)), \n",
    "                         mode='lines+markers', \n",
    "                         name='MacNonFusProb_56mpi_2omp',\n",
    "                         line=dict(color='cyan',width=3),\n",
    "                         marker=dict(symbol='circle',size=7,line=dict(color='Purple',width=2))))\n",
    "\n",
    "fig.add_trace(go.Scatter(x=(dfn4MacNonFusNonProb_56mpi_2omp.Dirc_Data_Mov*(dfn4MacNonFusNonProb_56mpi_2omp.MPI_size/4)), \n",
    "                         y=(dfn4MacNonFusNonProb_56mpi_2omp.GFLOPS*(dfn4MacNonFusNonProb_56mpi_2omp.MPI_size/4)), \n",
    "                         mode='lines+markers', \n",
    "                         name='MacNonFusNonProb_56mpi_2omp',\n",
    "                         line=dict(color='darkblue',width=3),\n",
    "                         marker=dict(symbol='circle',size=7, line=dict(color='tomato',width=2))))\n",
    "\n",
    "# 4----\n",
    "fig.add_trace(go.Scatter(x=(dfn4MacNonFusProb_64mpi_2omp.Dirc_Data_Mov*(dfn4MacNonFusProb_64mpi_2omp.MPI_size/4)), \n",
    "                         y=(dfn4MacNonFusProb_64mpi_2omp.GFLOPS*(dfn4MacNonFusProb_64mpi_2omp.MPI_size/4)), \n",
    "                         mode='lines+markers', \n",
    "                         name='MacNonFusProb_64mpi_2omp',\n",
    "                         line=dict(color='blue',width=3),\n",
    "                         marker=dict(symbol='star',size=7, line=dict(color='black',width=1))))\n",
    "\n",
    "fig.add_trace(go.Scatter(x=(dfn4MacNonFusNonProb_64mpi_2omp.Dirc_Data_Mov*(dfn4MacNonFusNonProb_64mpi_2omp.MPI_size/4)), \n",
    "                         y=(dfn4MacNonFusNonProb_64mpi_2omp.GFLOPS*(dfn4MacNonFusNonProb_64mpi_2omp.MPI_size/4)), \n",
    "                         mode='lines+markers', \n",
    "                         name='MacNonFusNonProb_64mpi_2omp',\n",
    "                         line=dict(color='red',width=3),\n",
    "                         marker=dict(symbol='star',size=7, line=dict(color='black',width=1))))\n",
    "\n",
    "\n",
    "\n",
    "# 5----\n",
    "fig.add_trace(go.Scatter(x=(dfn4MacNonFusProb_112mpi_1omp.Dirc_Data_Mov*(dfn4MacNonFusProb_112mpi_1omp.MPI_size/4)), \n",
    "                         y=(dfn4MacNonFusProb_112mpi_1omp.GFLOPS*(dfn4MacNonFusProb_112mpi_1omp.MPI_size/4)), \n",
    "                         mode='lines+markers', \n",
    "                         name='MacNonFusProb_112mpi_1omp',\n",
    "                         line=dict(color='chartreuse',width=3),\n",
    "                         marker=dict(symbol='square-dot',size=7, line=dict(color='mediumvioletred',width=1))))\n",
    "\n",
    "fig.add_trace(go.Scatter(x=(dfn4MacNonFusNonProb_112mpi_1omp.Dirc_Data_Mov*(dfn4MacNonFusNonProb_112mpi_1omp.MPI_size/4)), \n",
    "                         y=(dfn4MacNonFusNonProb_112mpi_1omp.GFLOPS*(dfn4MacNonFusNonProb_112mpi_1omp.MPI_size/4)), \n",
    "                         mode='lines+markers', \n",
    "                         name='MacNonFusNonProb_112mpi_1omp',\n",
    "                         line=dict(color='black',width=3),\n",
    "                         marker=dict(symbol='square-dot',size=7, line=dict(color='mediumvioletred',width=1))))\n",
    "\n",
    "# 6----\n",
    "fig.add_trace(go.Scatter(x=(dfn4MacNonFusProb_128mpi_1omp.Dirc_Data_Mov*(dfn4MacNonFusProb_128mpi_1omp.MPI_size/4)), \n",
    "                         y=(dfn4MacNonFusProb_128mpi_1omp.GFLOPS*(dfn4MacNonFusProb_128mpi_1omp.MPI_size/4)), \n",
    "                         mode='lines+markers', \n",
    "                         name='MacNonFusProb_128mpi_1omp',\n",
    "                         line=dict(color='gold',width=3),\n",
    "                         marker=dict(symbol='triangle-up',size=6, line=dict(color='black',width=1))))\n",
    "\n",
    "fig.add_trace(go.Scatter(x=(dfn4MacNonFusNonProb_128mpi_1omp.Dirc_Data_Mov*(dfn4MacNonFusNonProb_128mpi_1omp.MPI_size/4)), \n",
    "                         y=(dfn4MacNonFusNonProb_128mpi_1omp.GFLOPS*(dfn4MacNonFusNonProb_128mpi_1omp.MPI_size/4)), \n",
    "                         mode='lines+markers', \n",
    "                         name='MacNonFusNonProb_128mpi_1omp',\n",
    "                         line=dict(color='dimgray',width=3),\n",
    "                         marker=dict(symbol='triangle-up',size=6, line=dict(color='black',width=1))))\n",
    "\n",
    "\n",
    "# Adding a vertical line\n",
    "fig.add_vline(x=80e6, line_width=3, line_dash=\"dash\", line_color=\"green\")\n",
    "# fig.add_hline(y=1024, line_width=3, line_dash=\"dash\", line_color=\"red\")\n",
    "\n",
    "# Add annotation\n",
    "fig.add_annotation(\n",
    "    x='80e6'\n",
    "    , y=130\n",
    "    , text=f'LLC Size Per Node'\n",
    "    , yanchor='bottom'\n",
    "    , showarrow=False\n",
    "    , arrowhead=1\n",
    "    , arrowsize=1\n",
    "    , arrowwidth=2\n",
    "    , arrowcolor=\"#636363\"\n",
    "    , ax=-20\n",
    "    , ay=-30\n",
    "    , font=dict(size=12, color=\"purple\", family=\"Sans Serif\")\n",
    "    , align=\"left\"\n",
    "    ,)\n",
    "\n",
    "fig.update_layout(title='\"Macro NonFused: probempi vs nonprobempi\" GFlops Measurement',\n",
    "                  xaxis_title='Dirc_Data_Mov', yaxis_title='GFLOPs/Node', \n",
    "                  xaxis=dict(ticks=\"outside\"),  \n",
    "                  yaxis=dict(ticks=\"outside\"))"
   ]
  },
  {
   "cell_type": "markdown",
   "id": "02f562d3",
   "metadata": {},
   "source": [
    "## Bandwidth - Macro nonfused: Probempi vs Nonprobempi"
   ]
  },
  {
   "cell_type": "code",
   "execution_count": 18,
   "id": "8b9f786c",
   "metadata": {},
   "outputs": [
    {
     "data": {
      "application/vnd.plotly.v1+json": {
       "config": {
        "plotlyServerURL": "https://plot.ly"
       },
       "data": [
        {
         "line": {
          "color": "magenta",
          "width": 3
         },
         "marker": {
          "line": {
           "color": "yellow",
           "width": 1
          },
          "size": 9,
          "symbol": "hexagon"
         },
         "mode": "lines+markers",
         "name": "MacNonFusProb_32mpi_4omp",
         "type": "scatter",
         "x": [
          50331648,
          62914560,
          75497472,
          88080384,
          100663296,
          113246208,
          125829120,
          138412032,
          150994944,
          163577856,
          176160768,
          188743680,
          201326592,
          213909504,
          226492416,
          239075328,
          251658240,
          264241152,
          276824064,
          289406976,
          301989888,
          314572800,
          327155712,
          339738624,
          352321536,
          364904448,
          377487360,
          390070272,
          402653184
         ],
         "y": [
          74.88792,
          75.32104,
          77.98072,
          76.39224,
          78.31304,
          78.70264,
          79.59016,
          79.74208,
          76.08728,
          75.08824,
          73.31584,
          69.00112,
          67.86304,
          66.34728,
          65.22296,
          64.02536,
          62.35464,
          62.61488,
          61.11208,
          60.54976,
          60.24272,
          59.61352,
          58.49984,
          58.6592,
          58.41744,
          57.10336,
          57.88536,
          58.04232,
          57.33392
         ]
        },
        {
         "line": {
          "color": "darkcyan",
          "width": 3
         },
         "marker": {
          "line": {
           "color": "yellow",
           "width": 1
          },
          "size": 9,
          "symbol": "hexagon"
         },
         "mode": "lines+markers",
         "name": "MacNonFusNonProb_32mpi_4omp",
         "type": "scatter",
         "x": [
          50331648,
          62914560,
          75497472,
          88080384,
          100663296,
          113246208,
          125829120,
          138412032,
          150994944,
          163577856,
          176160768,
          188743680,
          201326592,
          213909504,
          226492416,
          239075328,
          251658240,
          264241152,
          276824064,
          289406976,
          301989888,
          314572800,
          327155712,
          339738624,
          352321536,
          364904448,
          377487360,
          390070272,
          402653184
         ],
         "y": [
          91.3104,
          97.668,
          97.98,
          102.8256,
          110.3736,
          105.6664,
          104.8248,
          104.772,
          104.6616,
          101.3424,
          97.2008,
          94.5424,
          93.1928,
          88.516,
          86.1424,
          82.5488,
          81.4696,
          79.09816,
          78.056,
          77.21112,
          75.98048,
          75.20776,
          72.9484,
          71.71,
          71.9384,
          70.13576,
          70.95736,
          70.67608,
          69.93056
         ]
        },
        {
         "line": {
          "color": "sandybrown",
          "width": 3
         },
         "marker": {
          "line": {
           "color": "MediumPurple",
           "width": 2
          },
          "size": 5,
          "symbol": "diamond"
         },
         "mode": "lines+markers",
         "name": "MacNonFusProb_40mpi_3omp",
         "type": "scatter",
         "x": [
          62914560,
          94371840,
          125829120,
          157286400,
          188743680,
          220200960,
          251658240,
          283115520,
          314572800,
          346030080,
          377487360
         ],
         "y": [
          78.705,
          78.875,
          74.3736,
          68.1882,
          60.7486,
          55.4335,
          55.0899,
          53.803,
          52.5846,
          52.7873,
          52.3402
         ]
        },
        {
         "line": {
          "color": "royalblue",
          "width": 3
         },
         "marker": {
          "line": {
           "color": "MediumPurple",
           "width": 2
          },
          "size": 5,
          "symbol": "diamond"
         },
         "mode": "lines+markers",
         "name": "MacNonFusNonProb_40mpi_3omp",
         "type": "scatter",
         "x": [
          62914560,
          94371840,
          125829120,
          157286400,
          188743680,
          220200960,
          251658240,
          283115520,
          314572800,
          346030080,
          377487360
         ],
         "y": [
          95.2526,
          95.4669,
          94.63,
          84.6186,
          75.0661,
          68.4942,
          64.4882,
          61.6495,
          61.6979,
          60.771499999999996,
          61.5033
         ]
        },
        {
         "line": {
          "color": "cyan",
          "width": 3
         },
         "marker": {
          "line": {
           "color": "Purple",
           "width": 2
          },
          "size": 7,
          "symbol": "circle"
         },
         "mode": "lines+markers",
         "name": "MacNonFusProb_56mpi_2omp",
         "type": "scatter",
         "x": [
          88080384,
          132120576,
          176160768,
          220200960,
          264241152,
          308281344,
          352321536,
          396361728
         ],
         "y": [
          89.76155999999999,
          87.40774,
          80.40536,
          75.09768,
          71.70856,
          69.56208000000001,
          68.78424000000001,
          66.87898
         ]
        },
        {
         "line": {
          "color": "darkblue",
          "width": 3
         },
         "marker": {
          "line": {
           "color": "tomato",
           "width": 2
          },
          "size": 7,
          "symbol": "circle"
         },
         "mode": "lines+markers",
         "name": "MacNonFusNonProb_56mpi_2omp",
         "type": "scatter",
         "x": [
          88080384,
          132120576,
          176160768,
          220200960,
          264241152,
          308281344,
          352321536,
          396361728
         ],
         "y": [
          130.7978,
          124.52118,
          105.79996,
          91.25802,
          86.05142000000001,
          83.51728,
          81.51444000000001,
          78.91632
         ]
        },
        {
         "line": {
          "color": "blue",
          "width": 3
         },
         "marker": {
          "line": {
           "color": "black",
           "width": 1
          },
          "size": 7,
          "symbol": "star"
         },
         "mode": "lines+markers",
         "name": "MacNonFusProb_64mpi_2omp",
         "type": "scatter",
         "x": [
          100663296,
          125829120,
          150994944,
          176160768,
          201326592,
          226492416,
          251658240,
          276824064,
          301989888,
          327155712,
          352321536,
          377487360,
          402653184
         ],
         "y": [
          104.11088,
          102.62144,
          97.19744,
          92.28576,
          87.85152,
          84.01328,
          82.55376,
          79.71472,
          78.16992,
          77.46,
          76.44144,
          75.77776,
          75.16448
         ]
        },
        {
         "line": {
          "color": "red",
          "width": 3
         },
         "marker": {
          "line": {
           "color": "black",
           "width": 1
          },
          "size": 7,
          "symbol": "star"
         },
         "mode": "lines+markers",
         "name": "MacNonFusNonProb_64mpi_2omp",
         "type": "scatter",
         "x": [
          100663296,
          125829120,
          150994944,
          176160768,
          201326592,
          226492416,
          251658240,
          276824064,
          301989888,
          327155712,
          352321536,
          377487360,
          402653184
         ],
         "y": [
          142.3544,
          140.98192,
          145.91504,
          132.33776,
          122.80096,
          113.00032,
          107.352,
          102.79696,
          99.13408,
          96.62848,
          95.82192,
          94.53376,
          92.44944
         ]
        },
        {
         "line": {
          "color": "chartreuse",
          "width": 3
         },
         "marker": {
          "line": {
           "color": "mediumvioletred",
           "width": 1
          },
          "size": 7,
          "symbol": "square-dot"
         },
         "mode": "lines+markers",
         "name": "MacNonFusProb_112mpi_1omp",
         "type": "scatter",
         "x": [
          176160768,
          220200960,
          264241152,
          308281344,
          352321536,
          396361728
         ],
         "y": [
          84.74928,
          80.0464,
          80.50280000000001,
          79.13724,
          78.33644,
          77.54571999999999
         ]
        },
        {
         "line": {
          "color": "black",
          "width": 3
         },
         "marker": {
          "line": {
           "color": "mediumvioletred",
           "width": 1
          },
          "size": 7,
          "symbol": "square-dot"
         },
         "mode": "lines+markers",
         "name": "MacNonFusNonProb_112mpi_1omp",
         "type": "scatter",
         "x": [
          176160768,
          220200960,
          264241152,
          308281344,
          352321536,
          396361728
         ],
         "y": [
          107.05408,
          95.83391999999999,
          94.87743999999999,
          92.52404,
          90.39268,
          89.86544
         ]
        },
        {
         "line": {
          "color": "gold",
          "width": 3
         },
         "marker": {
          "line": {
           "color": "black",
           "width": 1
          },
          "size": 6,
          "symbol": "triangle-up"
         },
         "mode": "lines+markers",
         "name": "MacNonFusProb_128mpi_1omp",
         "type": "scatter",
         "x": [
          201326592,
          251658240,
          301989888,
          352321536,
          402653184
         ],
         "y": [
          94.1328,
          89.30336,
          86.97216,
          86.0512,
          84.94144
         ]
        },
        {
         "line": {
          "color": "dimgray",
          "width": 3
         },
         "marker": {
          "line": {
           "color": "black",
           "width": 1
          },
          "size": 6,
          "symbol": "triangle-up"
         },
         "mode": "lines+markers",
         "name": "MacNonFusNonProb_128mpi_1omp",
         "type": "scatter",
         "x": [
          201326592,
          251658240,
          301989888,
          352321536,
          402653184
         ],
         "y": [
          121.66144,
          110.37184,
          108.74912,
          106.6448,
          104.99904
         ]
        }
       ],
       "layout": {
        "annotations": [
         {
          "align": "left",
          "arrowcolor": "#636363",
          "arrowhead": 1,
          "arrowsize": 1,
          "arrowwidth": 2,
          "ax": -20,
          "ay": -30,
          "font": {
           "color": "purple",
           "family": "Sans Serif",
           "size": 12
          },
          "showarrow": false,
          "text": "LLC Size Per Node: 80M",
          "x": "80e6",
          "y": 280,
          "yanchor": "bottom"
         },
         {
          "align": "left",
          "arrowcolor": "#636363",
          "arrowhead": 1,
          "arrowsize": 1,
          "arrowwidth": 2,
          "ax": -20,
          "ay": -30,
          "font": {
           "color": "orange",
           "family": "Sans Serif",
           "size": 12
          },
          "showarrow": false,
          "text": "Max Bandwidth Per Node",
          "x": "130e6",
          "y": 155,
          "yanchor": "bottom"
         }
        ],
        "legend": {
         "bordercolor": "black",
         "borderwidth": 1
        },
        "shapes": [
         {
          "line": {
           "color": "green",
           "dash": "dot",
           "width": 3
          },
          "type": "line",
          "x0": 80000000,
          "x1": 80000000,
          "xref": "x",
          "y0": 0,
          "y1": 1,
          "yref": "y domain"
         },
         {
          "line": {
           "color": "red",
           "dash": "dash",
           "width": 3
          },
          "type": "line",
          "x0": 0,
          "x1": 1,
          "xref": "x domain",
          "y0": 153,
          "y1": 153,
          "yref": "y"
         }
        ],
        "template": {
         "data": {
          "bar": [
           {
            "error_x": {
             "color": "#2a3f5f"
            },
            "error_y": {
             "color": "#2a3f5f"
            },
            "marker": {
             "line": {
              "color": "#E5ECF6",
              "width": 0.5
             },
             "pattern": {
              "fillmode": "overlay",
              "size": 10,
              "solidity": 0.2
             }
            },
            "type": "bar"
           }
          ],
          "barpolar": [
           {
            "marker": {
             "line": {
              "color": "#E5ECF6",
              "width": 0.5
             },
             "pattern": {
              "fillmode": "overlay",
              "size": 10,
              "solidity": 0.2
             }
            },
            "type": "barpolar"
           }
          ],
          "carpet": [
           {
            "aaxis": {
             "endlinecolor": "#2a3f5f",
             "gridcolor": "white",
             "linecolor": "white",
             "minorgridcolor": "white",
             "startlinecolor": "#2a3f5f"
            },
            "baxis": {
             "endlinecolor": "#2a3f5f",
             "gridcolor": "white",
             "linecolor": "white",
             "minorgridcolor": "white",
             "startlinecolor": "#2a3f5f"
            },
            "type": "carpet"
           }
          ],
          "choropleth": [
           {
            "colorbar": {
             "outlinewidth": 0,
             "ticks": ""
            },
            "type": "choropleth"
           }
          ],
          "contour": [
           {
            "colorbar": {
             "outlinewidth": 0,
             "ticks": ""
            },
            "colorscale": [
             [
              0,
              "#0d0887"
             ],
             [
              0.1111111111111111,
              "#46039f"
             ],
             [
              0.2222222222222222,
              "#7201a8"
             ],
             [
              0.3333333333333333,
              "#9c179e"
             ],
             [
              0.4444444444444444,
              "#bd3786"
             ],
             [
              0.5555555555555556,
              "#d8576b"
             ],
             [
              0.6666666666666666,
              "#ed7953"
             ],
             [
              0.7777777777777778,
              "#fb9f3a"
             ],
             [
              0.8888888888888888,
              "#fdca26"
             ],
             [
              1,
              "#f0f921"
             ]
            ],
            "type": "contour"
           }
          ],
          "contourcarpet": [
           {
            "colorbar": {
             "outlinewidth": 0,
             "ticks": ""
            },
            "type": "contourcarpet"
           }
          ],
          "heatmap": [
           {
            "colorbar": {
             "outlinewidth": 0,
             "ticks": ""
            },
            "colorscale": [
             [
              0,
              "#0d0887"
             ],
             [
              0.1111111111111111,
              "#46039f"
             ],
             [
              0.2222222222222222,
              "#7201a8"
             ],
             [
              0.3333333333333333,
              "#9c179e"
             ],
             [
              0.4444444444444444,
              "#bd3786"
             ],
             [
              0.5555555555555556,
              "#d8576b"
             ],
             [
              0.6666666666666666,
              "#ed7953"
             ],
             [
              0.7777777777777778,
              "#fb9f3a"
             ],
             [
              0.8888888888888888,
              "#fdca26"
             ],
             [
              1,
              "#f0f921"
             ]
            ],
            "type": "heatmap"
           }
          ],
          "heatmapgl": [
           {
            "colorbar": {
             "outlinewidth": 0,
             "ticks": ""
            },
            "colorscale": [
             [
              0,
              "#0d0887"
             ],
             [
              0.1111111111111111,
              "#46039f"
             ],
             [
              0.2222222222222222,
              "#7201a8"
             ],
             [
              0.3333333333333333,
              "#9c179e"
             ],
             [
              0.4444444444444444,
              "#bd3786"
             ],
             [
              0.5555555555555556,
              "#d8576b"
             ],
             [
              0.6666666666666666,
              "#ed7953"
             ],
             [
              0.7777777777777778,
              "#fb9f3a"
             ],
             [
              0.8888888888888888,
              "#fdca26"
             ],
             [
              1,
              "#f0f921"
             ]
            ],
            "type": "heatmapgl"
           }
          ],
          "histogram": [
           {
            "marker": {
             "pattern": {
              "fillmode": "overlay",
              "size": 10,
              "solidity": 0.2
             }
            },
            "type": "histogram"
           }
          ],
          "histogram2d": [
           {
            "colorbar": {
             "outlinewidth": 0,
             "ticks": ""
            },
            "colorscale": [
             [
              0,
              "#0d0887"
             ],
             [
              0.1111111111111111,
              "#46039f"
             ],
             [
              0.2222222222222222,
              "#7201a8"
             ],
             [
              0.3333333333333333,
              "#9c179e"
             ],
             [
              0.4444444444444444,
              "#bd3786"
             ],
             [
              0.5555555555555556,
              "#d8576b"
             ],
             [
              0.6666666666666666,
              "#ed7953"
             ],
             [
              0.7777777777777778,
              "#fb9f3a"
             ],
             [
              0.8888888888888888,
              "#fdca26"
             ],
             [
              1,
              "#f0f921"
             ]
            ],
            "type": "histogram2d"
           }
          ],
          "histogram2dcontour": [
           {
            "colorbar": {
             "outlinewidth": 0,
             "ticks": ""
            },
            "colorscale": [
             [
              0,
              "#0d0887"
             ],
             [
              0.1111111111111111,
              "#46039f"
             ],
             [
              0.2222222222222222,
              "#7201a8"
             ],
             [
              0.3333333333333333,
              "#9c179e"
             ],
             [
              0.4444444444444444,
              "#bd3786"
             ],
             [
              0.5555555555555556,
              "#d8576b"
             ],
             [
              0.6666666666666666,
              "#ed7953"
             ],
             [
              0.7777777777777778,
              "#fb9f3a"
             ],
             [
              0.8888888888888888,
              "#fdca26"
             ],
             [
              1,
              "#f0f921"
             ]
            ],
            "type": "histogram2dcontour"
           }
          ],
          "mesh3d": [
           {
            "colorbar": {
             "outlinewidth": 0,
             "ticks": ""
            },
            "type": "mesh3d"
           }
          ],
          "parcoords": [
           {
            "line": {
             "colorbar": {
              "outlinewidth": 0,
              "ticks": ""
             }
            },
            "type": "parcoords"
           }
          ],
          "pie": [
           {
            "automargin": true,
            "type": "pie"
           }
          ],
          "scatter": [
           {
            "fillpattern": {
             "fillmode": "overlay",
             "size": 10,
             "solidity": 0.2
            },
            "type": "scatter"
           }
          ],
          "scatter3d": [
           {
            "line": {
             "colorbar": {
              "outlinewidth": 0,
              "ticks": ""
             }
            },
            "marker": {
             "colorbar": {
              "outlinewidth": 0,
              "ticks": ""
             }
            },
            "type": "scatter3d"
           }
          ],
          "scattercarpet": [
           {
            "marker": {
             "colorbar": {
              "outlinewidth": 0,
              "ticks": ""
             }
            },
            "type": "scattercarpet"
           }
          ],
          "scattergeo": [
           {
            "marker": {
             "colorbar": {
              "outlinewidth": 0,
              "ticks": ""
             }
            },
            "type": "scattergeo"
           }
          ],
          "scattergl": [
           {
            "marker": {
             "colorbar": {
              "outlinewidth": 0,
              "ticks": ""
             }
            },
            "type": "scattergl"
           }
          ],
          "scattermapbox": [
           {
            "marker": {
             "colorbar": {
              "outlinewidth": 0,
              "ticks": ""
             }
            },
            "type": "scattermapbox"
           }
          ],
          "scatterpolar": [
           {
            "marker": {
             "colorbar": {
              "outlinewidth": 0,
              "ticks": ""
             }
            },
            "type": "scatterpolar"
           }
          ],
          "scatterpolargl": [
           {
            "marker": {
             "colorbar": {
              "outlinewidth": 0,
              "ticks": ""
             }
            },
            "type": "scatterpolargl"
           }
          ],
          "scatterternary": [
           {
            "marker": {
             "colorbar": {
              "outlinewidth": 0,
              "ticks": ""
             }
            },
            "type": "scatterternary"
           }
          ],
          "surface": [
           {
            "colorbar": {
             "outlinewidth": 0,
             "ticks": ""
            },
            "colorscale": [
             [
              0,
              "#0d0887"
             ],
             [
              0.1111111111111111,
              "#46039f"
             ],
             [
              0.2222222222222222,
              "#7201a8"
             ],
             [
              0.3333333333333333,
              "#9c179e"
             ],
             [
              0.4444444444444444,
              "#bd3786"
             ],
             [
              0.5555555555555556,
              "#d8576b"
             ],
             [
              0.6666666666666666,
              "#ed7953"
             ],
             [
              0.7777777777777778,
              "#fb9f3a"
             ],
             [
              0.8888888888888888,
              "#fdca26"
             ],
             [
              1,
              "#f0f921"
             ]
            ],
            "type": "surface"
           }
          ],
          "table": [
           {
            "cells": {
             "fill": {
              "color": "#EBF0F8"
             },
             "line": {
              "color": "white"
             }
            },
            "header": {
             "fill": {
              "color": "#C8D4E3"
             },
             "line": {
              "color": "white"
             }
            },
            "type": "table"
           }
          ]
         },
         "layout": {
          "annotationdefaults": {
           "arrowcolor": "#2a3f5f",
           "arrowhead": 0,
           "arrowwidth": 1
          },
          "autotypenumbers": "strict",
          "coloraxis": {
           "colorbar": {
            "outlinewidth": 0,
            "ticks": ""
           }
          },
          "colorscale": {
           "diverging": [
            [
             0,
             "#8e0152"
            ],
            [
             0.1,
             "#c51b7d"
            ],
            [
             0.2,
             "#de77ae"
            ],
            [
             0.3,
             "#f1b6da"
            ],
            [
             0.4,
             "#fde0ef"
            ],
            [
             0.5,
             "#f7f7f7"
            ],
            [
             0.6,
             "#e6f5d0"
            ],
            [
             0.7,
             "#b8e186"
            ],
            [
             0.8,
             "#7fbc41"
            ],
            [
             0.9,
             "#4d9221"
            ],
            [
             1,
             "#276419"
            ]
           ],
           "sequential": [
            [
             0,
             "#0d0887"
            ],
            [
             0.1111111111111111,
             "#46039f"
            ],
            [
             0.2222222222222222,
             "#7201a8"
            ],
            [
             0.3333333333333333,
             "#9c179e"
            ],
            [
             0.4444444444444444,
             "#bd3786"
            ],
            [
             0.5555555555555556,
             "#d8576b"
            ],
            [
             0.6666666666666666,
             "#ed7953"
            ],
            [
             0.7777777777777778,
             "#fb9f3a"
            ],
            [
             0.8888888888888888,
             "#fdca26"
            ],
            [
             1,
             "#f0f921"
            ]
           ],
           "sequentialminus": [
            [
             0,
             "#0d0887"
            ],
            [
             0.1111111111111111,
             "#46039f"
            ],
            [
             0.2222222222222222,
             "#7201a8"
            ],
            [
             0.3333333333333333,
             "#9c179e"
            ],
            [
             0.4444444444444444,
             "#bd3786"
            ],
            [
             0.5555555555555556,
             "#d8576b"
            ],
            [
             0.6666666666666666,
             "#ed7953"
            ],
            [
             0.7777777777777778,
             "#fb9f3a"
            ],
            [
             0.8888888888888888,
             "#fdca26"
            ],
            [
             1,
             "#f0f921"
            ]
           ]
          },
          "colorway": [
           "#636efa",
           "#EF553B",
           "#00cc96",
           "#ab63fa",
           "#FFA15A",
           "#19d3f3",
           "#FF6692",
           "#B6E880",
           "#FF97FF",
           "#FECB52"
          ],
          "font": {
           "color": "#2a3f5f"
          },
          "geo": {
           "bgcolor": "white",
           "lakecolor": "white",
           "landcolor": "#E5ECF6",
           "showlakes": true,
           "showland": true,
           "subunitcolor": "white"
          },
          "hoverlabel": {
           "align": "left"
          },
          "hovermode": "closest",
          "mapbox": {
           "style": "light"
          },
          "paper_bgcolor": "white",
          "plot_bgcolor": "#E5ECF6",
          "polar": {
           "angularaxis": {
            "gridcolor": "white",
            "linecolor": "white",
            "ticks": ""
           },
           "bgcolor": "#E5ECF6",
           "radialaxis": {
            "gridcolor": "white",
            "linecolor": "white",
            "ticks": ""
           }
          },
          "scene": {
           "xaxis": {
            "backgroundcolor": "#E5ECF6",
            "gridcolor": "white",
            "gridwidth": 2,
            "linecolor": "white",
            "showbackground": true,
            "ticks": "",
            "zerolinecolor": "white"
           },
           "yaxis": {
            "backgroundcolor": "#E5ECF6",
            "gridcolor": "white",
            "gridwidth": 2,
            "linecolor": "white",
            "showbackground": true,
            "ticks": "",
            "zerolinecolor": "white"
           },
           "zaxis": {
            "backgroundcolor": "#E5ECF6",
            "gridcolor": "white",
            "gridwidth": 2,
            "linecolor": "white",
            "showbackground": true,
            "ticks": "",
            "zerolinecolor": "white"
           }
          },
          "shapedefaults": {
           "line": {
            "color": "#2a3f5f"
           }
          },
          "ternary": {
           "aaxis": {
            "gridcolor": "white",
            "linecolor": "white",
            "ticks": ""
           },
           "baxis": {
            "gridcolor": "white",
            "linecolor": "white",
            "ticks": ""
           },
           "bgcolor": "#E5ECF6",
           "caxis": {
            "gridcolor": "white",
            "linecolor": "white",
            "ticks": ""
           }
          },
          "title": {
           "x": 0.05
          },
          "xaxis": {
           "automargin": true,
           "gridcolor": "white",
           "linecolor": "white",
           "ticks": "",
           "title": {
            "standoff": 15
           },
           "zerolinecolor": "white",
           "zerolinewidth": 2
          },
          "yaxis": {
           "automargin": true,
           "gridcolor": "white",
           "linecolor": "white",
           "ticks": "",
           "title": {
            "standoff": 15
           },
           "zerolinecolor": "white",
           "zerolinewidth": 2
          }
         }
        },
        "title": {
         "text": "\"Macro nonfused: Probempi vs Nonprobempi\" Bandwidth Measurement"
        },
        "xaxis": {
         "ticks": "outside",
         "title": {
          "text": "Dirc_Data_Mov"
         }
        },
        "yaxis": {
         "ticks": "outside",
         "title": {
          "text": "Bandwidth/Node"
         }
        }
       }
      },
      "text/html": [
       "<div>                            <div id=\"8708c51c-e882-4519-9c02-ad58d62ac4e8\" class=\"plotly-graph-div\" style=\"height:525px; width:100%;\"></div>            <script type=\"text/javascript\">                require([\"plotly\"], function(Plotly) {                    window.PLOTLYENV=window.PLOTLYENV || {};                                    if (document.getElementById(\"8708c51c-e882-4519-9c02-ad58d62ac4e8\")) {                    Plotly.newPlot(                        \"8708c51c-e882-4519-9c02-ad58d62ac4e8\",                        [{\"line\":{\"color\":\"magenta\",\"width\":3},\"marker\":{\"line\":{\"color\":\"yellow\",\"width\":1},\"size\":9,\"symbol\":\"hexagon\"},\"mode\":\"lines+markers\",\"name\":\"MacNonFusProb_32mpi_4omp\",\"x\":[50331648.0,62914560.0,75497472.0,88080384.0,100663296.0,113246208.0,125829120.0,138412032.0,150994944.0,163577856.0,176160768.0,188743680.0,201326592.0,213909504.0,226492416.0,239075328.0,251658240.0,264241152.0,276824064.0,289406976.0,301989888.0,314572800.0,327155712.0,339738624.0,352321536.0,364904448.0,377487360.0,390070272.0,402653184.0],\"y\":[74.88792,75.32104,77.98072,76.39224,78.31304,78.70264,79.59016,79.74208,76.08728,75.08824,73.31584,69.00112,67.86304,66.34728,65.22296,64.02536,62.35464,62.61488,61.11208,60.54976,60.24272,59.61352,58.49984,58.6592,58.41744,57.10336,57.88536,58.04232,57.33392],\"type\":\"scatter\"},{\"line\":{\"color\":\"darkcyan\",\"width\":3},\"marker\":{\"line\":{\"color\":\"yellow\",\"width\":1},\"size\":9,\"symbol\":\"hexagon\"},\"mode\":\"lines+markers\",\"name\":\"MacNonFusNonProb_32mpi_4omp\",\"x\":[50331648.0,62914560.0,75497472.0,88080384.0,100663296.0,113246208.0,125829120.0,138412032.0,150994944.0,163577856.0,176160768.0,188743680.0,201326592.0,213909504.0,226492416.0,239075328.0,251658240.0,264241152.0,276824064.0,289406976.0,301989888.0,314572800.0,327155712.0,339738624.0,352321536.0,364904448.0,377487360.0,390070272.0,402653184.0],\"y\":[91.3104,97.668,97.98,102.8256,110.3736,105.6664,104.8248,104.772,104.6616,101.3424,97.2008,94.5424,93.1928,88.516,86.1424,82.5488,81.4696,79.09816,78.056,77.21112,75.98048,75.20776,72.9484,71.71,71.9384,70.13576,70.95736,70.67608,69.93056],\"type\":\"scatter\"},{\"line\":{\"color\":\"sandybrown\",\"width\":3},\"marker\":{\"line\":{\"color\":\"MediumPurple\",\"width\":2},\"size\":5,\"symbol\":\"diamond\"},\"mode\":\"lines+markers\",\"name\":\"MacNonFusProb_40mpi_3omp\",\"x\":[62914560.0,94371840.0,125829120.0,157286400.0,188743680.0,220200960.0,251658240.0,283115520.0,314572800.0,346030080.0,377487360.0],\"y\":[78.705,78.875,74.3736,68.1882,60.7486,55.4335,55.0899,53.803,52.5846,52.7873,52.3402],\"type\":\"scatter\"},{\"line\":{\"color\":\"royalblue\",\"width\":3},\"marker\":{\"line\":{\"color\":\"MediumPurple\",\"width\":2},\"size\":5,\"symbol\":\"diamond\"},\"mode\":\"lines+markers\",\"name\":\"MacNonFusNonProb_40mpi_3omp\",\"x\":[62914560.0,94371840.0,125829120.0,157286400.0,188743680.0,220200960.0,251658240.0,283115520.0,314572800.0,346030080.0,377487360.0],\"y\":[95.2526,95.4669,94.63,84.6186,75.0661,68.4942,64.4882,61.6495,61.6979,60.771499999999996,61.5033],\"type\":\"scatter\"},{\"line\":{\"color\":\"cyan\",\"width\":3},\"marker\":{\"line\":{\"color\":\"Purple\",\"width\":2},\"size\":7,\"symbol\":\"circle\"},\"mode\":\"lines+markers\",\"name\":\"MacNonFusProb_56mpi_2omp\",\"x\":[88080384.0,132120576.0,176160768.0,220200960.0,264241152.0,308281344.0,352321536.0,396361728.0],\"y\":[89.76155999999999,87.40774,80.40536,75.09768,71.70856,69.56208000000001,68.78424000000001,66.87898],\"type\":\"scatter\"},{\"line\":{\"color\":\"darkblue\",\"width\":3},\"marker\":{\"line\":{\"color\":\"tomato\",\"width\":2},\"size\":7,\"symbol\":\"circle\"},\"mode\":\"lines+markers\",\"name\":\"MacNonFusNonProb_56mpi_2omp\",\"x\":[88080384.0,132120576.0,176160768.0,220200960.0,264241152.0,308281344.0,352321536.0,396361728.0],\"y\":[130.7978,124.52118,105.79996,91.25802,86.05142000000001,83.51728,81.51444000000001,78.91632],\"type\":\"scatter\"},{\"line\":{\"color\":\"blue\",\"width\":3},\"marker\":{\"line\":{\"color\":\"black\",\"width\":1},\"size\":7,\"symbol\":\"star\"},\"mode\":\"lines+markers\",\"name\":\"MacNonFusProb_64mpi_2omp\",\"x\":[100663296.0,125829120.0,150994944.0,176160768.0,201326592.0,226492416.0,251658240.0,276824064.0,301989888.0,327155712.0,352321536.0,377487360.0,402653184.0],\"y\":[104.11088,102.62144,97.19744,92.28576,87.85152,84.01328,82.55376,79.71472,78.16992,77.46,76.44144,75.77776,75.16448],\"type\":\"scatter\"},{\"line\":{\"color\":\"red\",\"width\":3},\"marker\":{\"line\":{\"color\":\"black\",\"width\":1},\"size\":7,\"symbol\":\"star\"},\"mode\":\"lines+markers\",\"name\":\"MacNonFusNonProb_64mpi_2omp\",\"x\":[100663296.0,125829120.0,150994944.0,176160768.0,201326592.0,226492416.0,251658240.0,276824064.0,301989888.0,327155712.0,352321536.0,377487360.0,402653184.0],\"y\":[142.3544,140.98192,145.91504,132.33776,122.80096,113.00032,107.352,102.79696,99.13408,96.62848,95.82192,94.53376,92.44944],\"type\":\"scatter\"},{\"line\":{\"color\":\"chartreuse\",\"width\":3},\"marker\":{\"line\":{\"color\":\"mediumvioletred\",\"width\":1},\"size\":7,\"symbol\":\"square-dot\"},\"mode\":\"lines+markers\",\"name\":\"MacNonFusProb_112mpi_1omp\",\"x\":[176160768.0,220200960.0,264241152.0,308281344.0,352321536.0,396361728.0],\"y\":[84.74928,80.0464,80.50280000000001,79.13724,78.33644,77.54571999999999],\"type\":\"scatter\"},{\"line\":{\"color\":\"black\",\"width\":3},\"marker\":{\"line\":{\"color\":\"mediumvioletred\",\"width\":1},\"size\":7,\"symbol\":\"square-dot\"},\"mode\":\"lines+markers\",\"name\":\"MacNonFusNonProb_112mpi_1omp\",\"x\":[176160768.0,220200960.0,264241152.0,308281344.0,352321536.0,396361728.0],\"y\":[107.05408,95.83391999999999,94.87743999999999,92.52404,90.39268,89.86544],\"type\":\"scatter\"},{\"line\":{\"color\":\"gold\",\"width\":3},\"marker\":{\"line\":{\"color\":\"black\",\"width\":1},\"size\":6,\"symbol\":\"triangle-up\"},\"mode\":\"lines+markers\",\"name\":\"MacNonFusProb_128mpi_1omp\",\"x\":[201326592.0,251658240.0,301989888.0,352321536.0,402653184.0],\"y\":[94.1328,89.30336,86.97216,86.0512,84.94144],\"type\":\"scatter\"},{\"line\":{\"color\":\"dimgray\",\"width\":3},\"marker\":{\"line\":{\"color\":\"black\",\"width\":1},\"size\":6,\"symbol\":\"triangle-up\"},\"mode\":\"lines+markers\",\"name\":\"MacNonFusNonProb_128mpi_1omp\",\"x\":[201326592.0,251658240.0,301989888.0,352321536.0,402653184.0],\"y\":[121.66144,110.37184,108.74912,106.6448,104.99904],\"type\":\"scatter\"}],                        {\"template\":{\"data\":{\"histogram2dcontour\":[{\"type\":\"histogram2dcontour\",\"colorbar\":{\"outlinewidth\":0,\"ticks\":\"\"},\"colorscale\":[[0.0,\"#0d0887\"],[0.1111111111111111,\"#46039f\"],[0.2222222222222222,\"#7201a8\"],[0.3333333333333333,\"#9c179e\"],[0.4444444444444444,\"#bd3786\"],[0.5555555555555556,\"#d8576b\"],[0.6666666666666666,\"#ed7953\"],[0.7777777777777778,\"#fb9f3a\"],[0.8888888888888888,\"#fdca26\"],[1.0,\"#f0f921\"]]}],\"choropleth\":[{\"type\":\"choropleth\",\"colorbar\":{\"outlinewidth\":0,\"ticks\":\"\"}}],\"histogram2d\":[{\"type\":\"histogram2d\",\"colorbar\":{\"outlinewidth\":0,\"ticks\":\"\"},\"colorscale\":[[0.0,\"#0d0887\"],[0.1111111111111111,\"#46039f\"],[0.2222222222222222,\"#7201a8\"],[0.3333333333333333,\"#9c179e\"],[0.4444444444444444,\"#bd3786\"],[0.5555555555555556,\"#d8576b\"],[0.6666666666666666,\"#ed7953\"],[0.7777777777777778,\"#fb9f3a\"],[0.8888888888888888,\"#fdca26\"],[1.0,\"#f0f921\"]]}],\"heatmap\":[{\"type\":\"heatmap\",\"colorbar\":{\"outlinewidth\":0,\"ticks\":\"\"},\"colorscale\":[[0.0,\"#0d0887\"],[0.1111111111111111,\"#46039f\"],[0.2222222222222222,\"#7201a8\"],[0.3333333333333333,\"#9c179e\"],[0.4444444444444444,\"#bd3786\"],[0.5555555555555556,\"#d8576b\"],[0.6666666666666666,\"#ed7953\"],[0.7777777777777778,\"#fb9f3a\"],[0.8888888888888888,\"#fdca26\"],[1.0,\"#f0f921\"]]}],\"heatmapgl\":[{\"type\":\"heatmapgl\",\"colorbar\":{\"outlinewidth\":0,\"ticks\":\"\"},\"colorscale\":[[0.0,\"#0d0887\"],[0.1111111111111111,\"#46039f\"],[0.2222222222222222,\"#7201a8\"],[0.3333333333333333,\"#9c179e\"],[0.4444444444444444,\"#bd3786\"],[0.5555555555555556,\"#d8576b\"],[0.6666666666666666,\"#ed7953\"],[0.7777777777777778,\"#fb9f3a\"],[0.8888888888888888,\"#fdca26\"],[1.0,\"#f0f921\"]]}],\"contourcarpet\":[{\"type\":\"contourcarpet\",\"colorbar\":{\"outlinewidth\":0,\"ticks\":\"\"}}],\"contour\":[{\"type\":\"contour\",\"colorbar\":{\"outlinewidth\":0,\"ticks\":\"\"},\"colorscale\":[[0.0,\"#0d0887\"],[0.1111111111111111,\"#46039f\"],[0.2222222222222222,\"#7201a8\"],[0.3333333333333333,\"#9c179e\"],[0.4444444444444444,\"#bd3786\"],[0.5555555555555556,\"#d8576b\"],[0.6666666666666666,\"#ed7953\"],[0.7777777777777778,\"#fb9f3a\"],[0.8888888888888888,\"#fdca26\"],[1.0,\"#f0f921\"]]}],\"surface\":[{\"type\":\"surface\",\"colorbar\":{\"outlinewidth\":0,\"ticks\":\"\"},\"colorscale\":[[0.0,\"#0d0887\"],[0.1111111111111111,\"#46039f\"],[0.2222222222222222,\"#7201a8\"],[0.3333333333333333,\"#9c179e\"],[0.4444444444444444,\"#bd3786\"],[0.5555555555555556,\"#d8576b\"],[0.6666666666666666,\"#ed7953\"],[0.7777777777777778,\"#fb9f3a\"],[0.8888888888888888,\"#fdca26\"],[1.0,\"#f0f921\"]]}],\"mesh3d\":[{\"type\":\"mesh3d\",\"colorbar\":{\"outlinewidth\":0,\"ticks\":\"\"}}],\"scatter\":[{\"fillpattern\":{\"fillmode\":\"overlay\",\"size\":10,\"solidity\":0.2},\"type\":\"scatter\"}],\"parcoords\":[{\"type\":\"parcoords\",\"line\":{\"colorbar\":{\"outlinewidth\":0,\"ticks\":\"\"}}}],\"scatterpolargl\":[{\"type\":\"scatterpolargl\",\"marker\":{\"colorbar\":{\"outlinewidth\":0,\"ticks\":\"\"}}}],\"bar\":[{\"error_x\":{\"color\":\"#2a3f5f\"},\"error_y\":{\"color\":\"#2a3f5f\"},\"marker\":{\"line\":{\"color\":\"#E5ECF6\",\"width\":0.5},\"pattern\":{\"fillmode\":\"overlay\",\"size\":10,\"solidity\":0.2}},\"type\":\"bar\"}],\"scattergeo\":[{\"type\":\"scattergeo\",\"marker\":{\"colorbar\":{\"outlinewidth\":0,\"ticks\":\"\"}}}],\"scatterpolar\":[{\"type\":\"scatterpolar\",\"marker\":{\"colorbar\":{\"outlinewidth\":0,\"ticks\":\"\"}}}],\"histogram\":[{\"marker\":{\"pattern\":{\"fillmode\":\"overlay\",\"size\":10,\"solidity\":0.2}},\"type\":\"histogram\"}],\"scattergl\":[{\"type\":\"scattergl\",\"marker\":{\"colorbar\":{\"outlinewidth\":0,\"ticks\":\"\"}}}],\"scatter3d\":[{\"type\":\"scatter3d\",\"line\":{\"colorbar\":{\"outlinewidth\":0,\"ticks\":\"\"}},\"marker\":{\"colorbar\":{\"outlinewidth\":0,\"ticks\":\"\"}}}],\"scattermapbox\":[{\"type\":\"scattermapbox\",\"marker\":{\"colorbar\":{\"outlinewidth\":0,\"ticks\":\"\"}}}],\"scatterternary\":[{\"type\":\"scatterternary\",\"marker\":{\"colorbar\":{\"outlinewidth\":0,\"ticks\":\"\"}}}],\"scattercarpet\":[{\"type\":\"scattercarpet\",\"marker\":{\"colorbar\":{\"outlinewidth\":0,\"ticks\":\"\"}}}],\"carpet\":[{\"aaxis\":{\"endlinecolor\":\"#2a3f5f\",\"gridcolor\":\"white\",\"linecolor\":\"white\",\"minorgridcolor\":\"white\",\"startlinecolor\":\"#2a3f5f\"},\"baxis\":{\"endlinecolor\":\"#2a3f5f\",\"gridcolor\":\"white\",\"linecolor\":\"white\",\"minorgridcolor\":\"white\",\"startlinecolor\":\"#2a3f5f\"},\"type\":\"carpet\"}],\"table\":[{\"cells\":{\"fill\":{\"color\":\"#EBF0F8\"},\"line\":{\"color\":\"white\"}},\"header\":{\"fill\":{\"color\":\"#C8D4E3\"},\"line\":{\"color\":\"white\"}},\"type\":\"table\"}],\"barpolar\":[{\"marker\":{\"line\":{\"color\":\"#E5ECF6\",\"width\":0.5},\"pattern\":{\"fillmode\":\"overlay\",\"size\":10,\"solidity\":0.2}},\"type\":\"barpolar\"}],\"pie\":[{\"automargin\":true,\"type\":\"pie\"}]},\"layout\":{\"autotypenumbers\":\"strict\",\"colorway\":[\"#636efa\",\"#EF553B\",\"#00cc96\",\"#ab63fa\",\"#FFA15A\",\"#19d3f3\",\"#FF6692\",\"#B6E880\",\"#FF97FF\",\"#FECB52\"],\"font\":{\"color\":\"#2a3f5f\"},\"hovermode\":\"closest\",\"hoverlabel\":{\"align\":\"left\"},\"paper_bgcolor\":\"white\",\"plot_bgcolor\":\"#E5ECF6\",\"polar\":{\"bgcolor\":\"#E5ECF6\",\"angularaxis\":{\"gridcolor\":\"white\",\"linecolor\":\"white\",\"ticks\":\"\"},\"radialaxis\":{\"gridcolor\":\"white\",\"linecolor\":\"white\",\"ticks\":\"\"}},\"ternary\":{\"bgcolor\":\"#E5ECF6\",\"aaxis\":{\"gridcolor\":\"white\",\"linecolor\":\"white\",\"ticks\":\"\"},\"baxis\":{\"gridcolor\":\"white\",\"linecolor\":\"white\",\"ticks\":\"\"},\"caxis\":{\"gridcolor\":\"white\",\"linecolor\":\"white\",\"ticks\":\"\"}},\"coloraxis\":{\"colorbar\":{\"outlinewidth\":0,\"ticks\":\"\"}},\"colorscale\":{\"sequential\":[[0.0,\"#0d0887\"],[0.1111111111111111,\"#46039f\"],[0.2222222222222222,\"#7201a8\"],[0.3333333333333333,\"#9c179e\"],[0.4444444444444444,\"#bd3786\"],[0.5555555555555556,\"#d8576b\"],[0.6666666666666666,\"#ed7953\"],[0.7777777777777778,\"#fb9f3a\"],[0.8888888888888888,\"#fdca26\"],[1.0,\"#f0f921\"]],\"sequentialminus\":[[0.0,\"#0d0887\"],[0.1111111111111111,\"#46039f\"],[0.2222222222222222,\"#7201a8\"],[0.3333333333333333,\"#9c179e\"],[0.4444444444444444,\"#bd3786\"],[0.5555555555555556,\"#d8576b\"],[0.6666666666666666,\"#ed7953\"],[0.7777777777777778,\"#fb9f3a\"],[0.8888888888888888,\"#fdca26\"],[1.0,\"#f0f921\"]],\"diverging\":[[0,\"#8e0152\"],[0.1,\"#c51b7d\"],[0.2,\"#de77ae\"],[0.3,\"#f1b6da\"],[0.4,\"#fde0ef\"],[0.5,\"#f7f7f7\"],[0.6,\"#e6f5d0\"],[0.7,\"#b8e186\"],[0.8,\"#7fbc41\"],[0.9,\"#4d9221\"],[1,\"#276419\"]]},\"xaxis\":{\"gridcolor\":\"white\",\"linecolor\":\"white\",\"ticks\":\"\",\"title\":{\"standoff\":15},\"zerolinecolor\":\"white\",\"automargin\":true,\"zerolinewidth\":2},\"yaxis\":{\"gridcolor\":\"white\",\"linecolor\":\"white\",\"ticks\":\"\",\"title\":{\"standoff\":15},\"zerolinecolor\":\"white\",\"automargin\":true,\"zerolinewidth\":2},\"scene\":{\"xaxis\":{\"backgroundcolor\":\"#E5ECF6\",\"gridcolor\":\"white\",\"linecolor\":\"white\",\"showbackground\":true,\"ticks\":\"\",\"zerolinecolor\":\"white\",\"gridwidth\":2},\"yaxis\":{\"backgroundcolor\":\"#E5ECF6\",\"gridcolor\":\"white\",\"linecolor\":\"white\",\"showbackground\":true,\"ticks\":\"\",\"zerolinecolor\":\"white\",\"gridwidth\":2},\"zaxis\":{\"backgroundcolor\":\"#E5ECF6\",\"gridcolor\":\"white\",\"linecolor\":\"white\",\"showbackground\":true,\"ticks\":\"\",\"zerolinecolor\":\"white\",\"gridwidth\":2}},\"shapedefaults\":{\"line\":{\"color\":\"#2a3f5f\"}},\"annotationdefaults\":{\"arrowcolor\":\"#2a3f5f\",\"arrowhead\":0,\"arrowwidth\":1},\"geo\":{\"bgcolor\":\"white\",\"landcolor\":\"#E5ECF6\",\"subunitcolor\":\"white\",\"showland\":true,\"showlakes\":true,\"lakecolor\":\"white\"},\"title\":{\"x\":0.05},\"mapbox\":{\"style\":\"light\"}}},\"shapes\":[{\"line\":{\"color\":\"green\",\"dash\":\"dot\",\"width\":3},\"type\":\"line\",\"x0\":80000000.0,\"x1\":80000000.0,\"xref\":\"x\",\"y0\":0,\"y1\":1,\"yref\":\"y domain\"},{\"line\":{\"color\":\"red\",\"dash\":\"dash\",\"width\":3},\"type\":\"line\",\"x0\":0,\"x1\":1,\"xref\":\"x domain\",\"y0\":153,\"y1\":153,\"yref\":\"y\"}],\"annotations\":[{\"align\":\"left\",\"arrowcolor\":\"#636363\",\"arrowhead\":1,\"arrowsize\":1,\"arrowwidth\":2,\"ax\":-20,\"ay\":-30,\"font\":{\"color\":\"purple\",\"family\":\"Sans Serif\",\"size\":12},\"showarrow\":false,\"text\":\"LLC Size Per Node: 80M\",\"x\":\"80e6\",\"y\":280,\"yanchor\":\"bottom\"},{\"align\":\"left\",\"arrowcolor\":\"#636363\",\"arrowhead\":1,\"arrowsize\":1,\"arrowwidth\":2,\"ax\":-20,\"ay\":-30,\"font\":{\"color\":\"orange\",\"family\":\"Sans Serif\",\"size\":12},\"showarrow\":false,\"text\":\"Max Bandwidth Per Node\",\"x\":\"130e6\",\"y\":155,\"yanchor\":\"bottom\"}],\"xaxis\":{\"title\":{\"text\":\"Dirc_Data_Mov\"},\"ticks\":\"outside\"},\"yaxis\":{\"title\":{\"text\":\"Bandwidth/Node\"},\"ticks\":\"outside\"},\"title\":{\"text\":\"\\\"Macro nonfused: Probempi vs Nonprobempi\\\" Bandwidth Measurement\"},\"legend\":{\"bordercolor\":\"black\",\"borderwidth\":1}},                        {\"responsive\": true}                    ).then(function(){\n",
       "                            \n",
       "var gd = document.getElementById('8708c51c-e882-4519-9c02-ad58d62ac4e8');\n",
       "var x = new MutationObserver(function (mutations, observer) {{\n",
       "        var display = window.getComputedStyle(gd).display;\n",
       "        if (!display || display === 'none') {{\n",
       "            console.log([gd, 'removed!']);\n",
       "            Plotly.purge(gd);\n",
       "            observer.disconnect();\n",
       "        }}\n",
       "}});\n",
       "\n",
       "// Listen for the removal of the full notebook cells\n",
       "var notebookContainer = gd.closest('#notebook-container');\n",
       "if (notebookContainer) {{\n",
       "    x.observe(notebookContainer, {childList: true});\n",
       "}}\n",
       "\n",
       "// Listen for the clearing of the current output cell\n",
       "var outputEl = gd.closest('.output');\n",
       "if (outputEl) {{\n",
       "    x.observe(outputEl, {childList: true});\n",
       "}}\n",
       "\n",
       "                        })                };                });            </script>        </div>"
      ]
     },
     "metadata": {},
     "output_type": "display_data"
    }
   ],
   "source": [
    "fig = go.Figure() \n",
    "\n",
    "# 1----\n",
    "fig.add_trace(go.Scatter(x=(dfn4MacNonFusProb_32mpi_4omp.Dirc_Data_Mov*(dfn4MacNonFusProb_32mpi_4omp.MPI_size/4)), \n",
    "                         y=(dfn4MacNonFusProb_32mpi_4omp.BAND*(dfn4MacNonFusProb_32mpi_4omp.MPI_size/4)), \n",
    "                         mode='lines+markers', \n",
    "                         name='MacNonFusProb_32mpi_4omp',\n",
    "                         line=dict(color='magenta',width=3),\n",
    "                         marker=dict(symbol='hexagon',size=9, line=dict(color='yellow',width=1))))\n",
    "\n",
    "fig.add_trace(go.Scatter(x=(dfn4MacNonFusNonProb_32mpi_4omp.Dirc_Data_Mov*(dfn4MacNonFusNonProb_32mpi_4omp.MPI_size/4)), \n",
    "                         y=(dfn4MacNonFusNonProb_32mpi_4omp.BAND*(dfn4MacNonFusNonProb_32mpi_4omp.MPI_size/4)), \n",
    "                         mode='lines+markers', \n",
    "                         name='MacNonFusNonProb_32mpi_4omp',\n",
    "                         line=dict(color='darkcyan',width=3),\n",
    "                         marker=dict(symbol='hexagon',size=9, line=dict(color='yellow',width=1))))\n",
    "\n",
    "\n",
    "# 2----\n",
    "fig.add_trace(go.Scatter(x=(dfn4MacNonFusProb_40mpi_3omp.Dirc_Data_Mov*(dfn4MacNonFusProb_40mpi_3omp.MPI_size/4)), \n",
    "                         y=(dfn4MacNonFusProb_40mpi_3omp.BAND*(dfn4MacNonFusProb_40mpi_3omp.MPI_size/4)), \n",
    "                         mode='lines+markers', \n",
    "                         name='MacNonFusProb_40mpi_3omp',\n",
    "                         line=dict(color='sandybrown',width=3),\n",
    "                         marker=dict(symbol='diamond',size=5,line=dict(color='MediumPurple',width=2))))\n",
    "\n",
    "fig.add_trace(go.Scatter(x=(dfn4MacNonFusNonProb_40mpi_3omp.Dirc_Data_Mov*(dfn4MacNonFusNonProb_40mpi_3omp.MPI_size/4)), \n",
    "                         y=(dfn4MacNonFusNonProb_40mpi_3omp.BAND*(dfn4MacNonFusNonProb_40mpi_3omp.MPI_size/4)), \n",
    "                         mode='lines+markers', \n",
    "                         name='MacNonFusNonProb_40mpi_3omp',\n",
    "                         line=dict(color='royalblue',width=3),\n",
    "                         marker=dict(symbol='diamond',size=5,line=dict(color='MediumPurple',width=2))))\n",
    "\n",
    "\n",
    "# 3----\n",
    "fig.add_trace(go.Scatter(x=(dfn4MacNonFusProb_56mpi_2omp.Dirc_Data_Mov*(dfn4MacNonFusProb_56mpi_2omp.MPI_size/4)), \n",
    "                         y=(dfn4MacNonFusProb_56mpi_2omp.BAND*(dfn4MacNonFusProb_56mpi_2omp.MPI_size/4)), \n",
    "                         mode='lines+markers', \n",
    "                         name='MacNonFusProb_56mpi_2omp',\n",
    "                         line=dict(color='cyan',width=3),\n",
    "                         marker=dict(symbol='circle',size=7,line=dict(color='Purple',width=2))))\n",
    "\n",
    "fig.add_trace(go.Scatter(x=(dfn4MacNonFusNonProb_56mpi_2omp.Dirc_Data_Mov*(dfn4MacNonFusNonProb_56mpi_2omp.MPI_size/4)), \n",
    "                         y=(dfn4MacNonFusNonProb_56mpi_2omp.BAND*(dfn4MacNonFusNonProb_56mpi_2omp.MPI_size/4)), \n",
    "                         mode='lines+markers', \n",
    "                         name='MacNonFusNonProb_56mpi_2omp',\n",
    "                         line=dict(color='darkblue',width=3),\n",
    "                         marker=dict(symbol='circle',size=7, line=dict(color='tomato',width=2))))\n",
    "\n",
    "# 4----\n",
    "fig.add_trace(go.Scatter(x=(dfn4MacNonFusProb_64mpi_2omp.Dirc_Data_Mov*(dfn4MacNonFusProb_64mpi_2omp.MPI_size/4)), \n",
    "                         y=(dfn4MacNonFusProb_64mpi_2omp.BAND*(dfn4MacNonFusProb_64mpi_2omp.MPI_size/4)), \n",
    "                         mode='lines+markers', \n",
    "                         name='MacNonFusProb_64mpi_2omp',\n",
    "                         line=dict(color='blue',width=3),\n",
    "                         marker=dict(symbol='star',size=7, line=dict(color='black',width=1))))\n",
    "\n",
    "fig.add_trace(go.Scatter(x=(dfn4MacNonFusNonProb_64mpi_2omp.Dirc_Data_Mov*(dfn4MacNonFusNonProb_64mpi_2omp.MPI_size/4)), \n",
    "                         y=(dfn4MacNonFusNonProb_64mpi_2omp.BAND*(dfn4MacNonFusNonProb_64mpi_2omp.MPI_size/4)), \n",
    "                         mode='lines+markers', \n",
    "                         name='MacNonFusNonProb_64mpi_2omp',\n",
    "                         line=dict(color='red',width=3),\n",
    "                         marker=dict(symbol='star',size=7, line=dict(color='black',width=1))))\n",
    "\n",
    "\n",
    "\n",
    "# 5----\n",
    "fig.add_trace(go.Scatter(x=(dfn4MacNonFusProb_112mpi_1omp.Dirc_Data_Mov*(dfn4MacNonFusProb_112mpi_1omp.MPI_size/4)), \n",
    "                         y=(dfn4MacNonFusProb_112mpi_1omp.BAND*(dfn4MacNonFusProb_112mpi_1omp.MPI_size/4)), \n",
    "                         mode='lines+markers', \n",
    "                         name='MacNonFusProb_112mpi_1omp',\n",
    "                         line=dict(color='chartreuse',width=3),\n",
    "                         marker=dict(symbol='square-dot',size=7, line=dict(color='mediumvioletred',width=1))))\n",
    "\n",
    "fig.add_trace(go.Scatter(x=(dfn4MacNonFusNonProb_112mpi_1omp.Dirc_Data_Mov*(dfn4MacNonFusNonProb_112mpi_1omp.MPI_size/4)), \n",
    "                         y=(dfn4MacNonFusNonProb_112mpi_1omp.BAND*(dfn4MacNonFusNonProb_112mpi_1omp.MPI_size/4)), \n",
    "                         mode='lines+markers', \n",
    "                         name='MacNonFusNonProb_112mpi_1omp',\n",
    "                         line=dict(color='black',width=3),\n",
    "                         marker=dict(symbol='square-dot',size=7, line=dict(color='mediumvioletred',width=1))))\n",
    "\n",
    "# 6----\n",
    "fig.add_trace(go.Scatter(x=(dfn4MacNonFusProb_128mpi_1omp.Dirc_Data_Mov*(dfn4MacNonFusProb_128mpi_1omp.MPI_size/4)), \n",
    "                         y=(dfn4MacNonFusProb_128mpi_1omp.BAND*(dfn4MacNonFusProb_128mpi_1omp.MPI_size/4)), \n",
    "                         mode='lines+markers', \n",
    "                         name='MacNonFusProb_128mpi_1omp',\n",
    "                         line=dict(color='gold',width=3),\n",
    "                         marker=dict(symbol='triangle-up',size=6, line=dict(color='black',width=1))))\n",
    "\n",
    "fig.add_trace(go.Scatter(x=(dfn4MacNonFusNonProb_128mpi_1omp.Dirc_Data_Mov*(dfn4MacNonFusNonProb_128mpi_1omp.MPI_size/4)), \n",
    "                         y=(dfn4MacNonFusNonProb_128mpi_1omp.BAND*(dfn4MacNonFusNonProb_128mpi_1omp.MPI_size/4)), \n",
    "                         mode='lines+markers', \n",
    "                         name='MacNonFusNonProb_128mpi_1omp',\n",
    "                         line=dict(color='dimgray',width=3),\n",
    "                         marker=dict(symbol='triangle-up',size=6, line=dict(color='black',width=1))))\n",
    "\n",
    "\n",
    "\n",
    "# Adding vertical and horizontal lines \n",
    "fig.add_vline(x=80e6, line_width=3, line_dash=\"dot\", line_color=\"green\")\n",
    "fig.add_hline(y=153, line_width=3, line_dash=\"dash\", line_color=\"red\")\n",
    "\n",
    "# Add annotation with arrow\n",
    "fig.add_annotation(\n",
    "    x='80e6'\n",
    "    , y=280\n",
    "    , text=f'LLC Size Per Node: 80M'\n",
    "    , yanchor='bottom'\n",
    "    , showarrow=False\n",
    "    , arrowhead=1\n",
    "    , arrowsize=1\n",
    "    , arrowwidth=2\n",
    "    , arrowcolor=\"#636363\"\n",
    "    , ax=-20\n",
    "    , ay=-30\n",
    "    , font=dict(size=12, color=\"purple\", family=\"Sans Serif\")\n",
    "    , align=\"left\"\n",
    "    ,)\n",
    "\n",
    "fig.add_annotation(\n",
    "    x='130e6'\n",
    "    , y=155\n",
    "    , text=f'Max Bandwidth Per Node'\n",
    "    , yanchor='bottom'\n",
    "    , showarrow=False\n",
    "    , arrowhead=1\n",
    "    , arrowsize=1\n",
    "    , arrowwidth=2\n",
    "    , arrowcolor=\"#636363\"\n",
    "    , ax=-20\n",
    "    , ay=-30\n",
    "    , font=dict(size=12, color=\"orange\", family=\"Sans Serif\")\n",
    "    , align=\"left\"\n",
    "    ,)\n",
    "\n",
    "\n",
    "fig.update_layout(title='\"Macro nonfused: Probempi vs Nonprobempi\" Bandwidth Measurement',\n",
    "                  xaxis_title='Dirc_Data_Mov', yaxis_title='Bandwidth/Node', \n",
    "                  xaxis=dict(ticks=\"outside\"),  \n",
    "                  yaxis=dict(ticks=\"outside\"),\n",
    "                  legend=go.layout.Legend(bordercolor=\"black\",borderwidth=1)) \n",
    "\n",
    "\n",
    "\n"
   ]
  },
  {
   "cell_type": "code",
   "execution_count": null,
   "id": "3e61ed0f",
   "metadata": {},
   "outputs": [],
   "source": []
  },
  {
   "cell_type": "code",
   "execution_count": null,
   "id": "4cbdeeb0",
   "metadata": {},
   "outputs": [],
   "source": []
  },
  {
   "cell_type": "markdown",
   "id": "a88044d1",
   "metadata": {},
   "source": [
    "## 5. macro_newgeo_probempi"
   ]
  },
  {
   "cell_type": "markdown",
   "id": "ea711844",
   "metadata": {},
   "source": [
    "### Add Columns"
   ]
  },
  {
   "cell_type": "code",
   "execution_count": 19,
   "id": "bf6b4875",
   "metadata": {},
   "outputs": [],
   "source": [
    "dfn4_macro_newgeo_probempi[\"N_Nodes\"] = 4\n",
    "dfn4_macro_newgeo_probempi['NPX'] = (dfn4_macro_newgeo_probempi.GLB_X//dfn4_macro_newgeo_probempi.LOC_X)\n",
    "dfn4_macro_newgeo_probempi['NPY'] = (dfn4_macro_newgeo_probempi.GLB_Y//dfn4_macro_newgeo_probempi.LOC_Y)\n",
    "dfn4_macro_newgeo_probempi['NPZ'] = (dfn4_macro_newgeo_probempi.GLB_Z//dfn4_macro_newgeo_probempi.LOC_Z)\n",
    "dfn4_macro_newgeo_probempi['NPT'] = (dfn4_macro_newgeo_probempi.GLB_T//dfn4_macro_newgeo_probempi.LOC_T)\n",
    "dfn4_macro_newgeo_probempi[\"Total_proc\"] = dfn4_macro_newgeo_probempi[\"omp_thrd\"]* dfn4_macro_newgeo_probempi.MPI_size\n",
    "# dfn4_macro_newgeo_probempi.columns"
   ]
  },
  {
   "cell_type": "markdown",
   "id": "d2fa7e61",
   "metadata": {},
   "source": [
    "### Data Summary"
   ]
  },
  {
   "cell_type": "code",
   "execution_count": 20,
   "id": "52d741be",
   "metadata": {},
   "outputs": [
    {
     "data": {
      "text/html": [
       "<div>\n",
       "<style scoped>\n",
       "    .dataframe tbody tr th:only-of-type {\n",
       "        vertical-align: middle;\n",
       "    }\n",
       "\n",
       "    .dataframe tbody tr th {\n",
       "        vertical-align: top;\n",
       "    }\n",
       "\n",
       "    .dataframe thead th {\n",
       "        text-align: right;\n",
       "    }\n",
       "</style>\n",
       "<table border=\"1\" class=\"dataframe\">\n",
       "  <thead>\n",
       "    <tr style=\"text-align: right;\">\n",
       "      <th></th>\n",
       "      <th>MPI_size</th>\n",
       "      <th>omp_thrd</th>\n",
       "      <th>NPT</th>\n",
       "      <th>NPX</th>\n",
       "      <th>NPY</th>\n",
       "      <th>NPZ</th>\n",
       "      <th>Total_proc</th>\n",
       "      <th>size</th>\n",
       "    </tr>\n",
       "  </thead>\n",
       "  <tbody>\n",
       "    <tr>\n",
       "      <th>0</th>\n",
       "      <td>32</td>\n",
       "      <td>4</td>\n",
       "      <td>4</td>\n",
       "      <td>2</td>\n",
       "      <td>2</td>\n",
       "      <td>2</td>\n",
       "      <td>128</td>\n",
       "      <td>29</td>\n",
       "    </tr>\n",
       "    <tr>\n",
       "      <th>1</th>\n",
       "      <td>40</td>\n",
       "      <td>3</td>\n",
       "      <td>5</td>\n",
       "      <td>2</td>\n",
       "      <td>2</td>\n",
       "      <td>2</td>\n",
       "      <td>120</td>\n",
       "      <td>11</td>\n",
       "    </tr>\n",
       "    <tr>\n",
       "      <th>2</th>\n",
       "      <td>56</td>\n",
       "      <td>2</td>\n",
       "      <td>7</td>\n",
       "      <td>2</td>\n",
       "      <td>2</td>\n",
       "      <td>2</td>\n",
       "      <td>112</td>\n",
       "      <td>8</td>\n",
       "    </tr>\n",
       "    <tr>\n",
       "      <th>3</th>\n",
       "      <td>64</td>\n",
       "      <td>2</td>\n",
       "      <td>8</td>\n",
       "      <td>2</td>\n",
       "      <td>2</td>\n",
       "      <td>2</td>\n",
       "      <td>128</td>\n",
       "      <td>13</td>\n",
       "    </tr>\n",
       "    <tr>\n",
       "      <th>4</th>\n",
       "      <td>104</td>\n",
       "      <td>1</td>\n",
       "      <td>13</td>\n",
       "      <td>2</td>\n",
       "      <td>2</td>\n",
       "      <td>2</td>\n",
       "      <td>104</td>\n",
       "      <td>2</td>\n",
       "    </tr>\n",
       "    <tr>\n",
       "      <th>5</th>\n",
       "      <td>112</td>\n",
       "      <td>1</td>\n",
       "      <td>14</td>\n",
       "      <td>2</td>\n",
       "      <td>2</td>\n",
       "      <td>2</td>\n",
       "      <td>112</td>\n",
       "      <td>5</td>\n",
       "    </tr>\n",
       "    <tr>\n",
       "      <th>6</th>\n",
       "      <td>120</td>\n",
       "      <td>1</td>\n",
       "      <td>15</td>\n",
       "      <td>2</td>\n",
       "      <td>2</td>\n",
       "      <td>2</td>\n",
       "      <td>120</td>\n",
       "      <td>3</td>\n",
       "    </tr>\n",
       "    <tr>\n",
       "      <th>7</th>\n",
       "      <td>128</td>\n",
       "      <td>1</td>\n",
       "      <td>16</td>\n",
       "      <td>2</td>\n",
       "      <td>2</td>\n",
       "      <td>2</td>\n",
       "      <td>128</td>\n",
       "      <td>5</td>\n",
       "    </tr>\n",
       "  </tbody>\n",
       "</table>\n",
       "</div>"
      ],
      "text/plain": [
       "   MPI_size  omp_thrd  NPT  NPX  NPY  NPZ  Total_proc  size\n",
       "0        32         4    4    2    2    2         128    29\n",
       "1        40         3    5    2    2    2         120    11\n",
       "2        56         2    7    2    2    2         112     8\n",
       "3        64         2    8    2    2    2         128    13\n",
       "4       104         1   13    2    2    2         104     2\n",
       "5       112         1   14    2    2    2         112     5\n",
       "6       120         1   15    2    2    2         120     3\n",
       "7       128         1   16    2    2    2         128     5"
      ]
     },
     "execution_count": 20,
     "metadata": {},
     "output_type": "execute_result"
    }
   ],
   "source": [
    "dfn4_macro_newgeo_probempi_summary =dfn4_macro_newgeo_probempi.groupby(['MPI_size','omp_thrd','NPT','NPX', 'NPY', 'NPZ',\"Total_proc\"]).size().reset_index(name = 'size')\n",
    "dfn4_macro_newgeo_probempi_summary"
   ]
  },
  {
   "cell_type": "markdown",
   "id": "cea24bf0",
   "metadata": {},
   "source": [
    "### Case Set up"
   ]
  },
  {
   "cell_type": "code",
   "execution_count": 21,
   "id": "f8b781a7",
   "metadata": {},
   "outputs": [],
   "source": [
    "dfn4MacNewgeoProb_32mpi_4omp = dfn4_macro_newgeo_probempi[(dfn4_macro_newgeo_probempi.omp_thrd == 4) & (dfn4_macro_newgeo_probempi.GLB_T/dfn4_macro_newgeo_probempi.LOC_T == 4) & (dfn4_macro_newgeo_probempi.GLB_X/dfn4_macro_newgeo_probempi.LOC_X == 2) & (dfn4_macro_newgeo_probempi.GLB_Y/dfn4_macro_newgeo_probempi.LOC_Y == 2)& (dfn4_macro_newgeo_probempi.GLB_Z/dfn4_macro_newgeo_probempi.LOC_Z == 2)]\n",
    "dfn4MacNewgeoProb_40mpi_3omp = dfn4_macro_newgeo_probempi[(dfn4_macro_newgeo_probempi.omp_thrd == 3) & (dfn4_macro_newgeo_probempi.GLB_T/dfn4_macro_newgeo_probempi.LOC_T == 5) & (dfn4_macro_newgeo_probempi.GLB_X/dfn4_macro_newgeo_probempi.LOC_X == 2) & (dfn4_macro_newgeo_probempi.GLB_Y/dfn4_macro_newgeo_probempi.LOC_Y == 2)& (dfn4_macro_newgeo_probempi.GLB_Z/dfn4_macro_newgeo_probempi.LOC_Z == 2)]\n",
    "dfn4MacNewgeoProb_56mpi_2omp = dfn4_macro_newgeo_probempi[(dfn4_macro_newgeo_probempi.omp_thrd == 2) & (dfn4_macro_newgeo_probempi.GLB_T/dfn4_macro_newgeo_probempi.LOC_T == 7) & (dfn4_macro_newgeo_probempi.GLB_X/dfn4_macro_newgeo_probempi.LOC_X == 2) & (dfn4_macro_newgeo_probempi.GLB_Y/dfn4_macro_newgeo_probempi.LOC_Y == 2)& (dfn4_macro_newgeo_probempi.GLB_Z/dfn4_macro_newgeo_probempi.LOC_Z == 2)]\n",
    "dfn4MacNewgeoProb_64mpi_2omp = dfn4_macro_newgeo_probempi[(dfn4_macro_newgeo_probempi.omp_thrd == 2) & (dfn4_macro_newgeo_probempi.GLB_T/dfn4_macro_newgeo_probempi.LOC_T == 8) & (dfn4_macro_newgeo_probempi.GLB_X/dfn4_macro_newgeo_probempi.LOC_X == 2) & (dfn4_macro_newgeo_probempi.GLB_Y/dfn4_macro_newgeo_probempi.LOC_Y == 2)& (dfn4_macro_newgeo_probempi.GLB_Z/dfn4_macro_newgeo_probempi.LOC_Z == 2)]\n",
    "dfn4MacNewgeoProb_112mpi_1omp = dfn4_macro_newgeo_probempi[(dfn4_macro_newgeo_probempi.omp_thrd == 1) & (dfn4_macro_newgeo_probempi.GLB_T/dfn4_macro_newgeo_probempi.LOC_T == 14) & (dfn4_macro_newgeo_probempi.GLB_X/dfn4_macro_newgeo_probempi.LOC_X == 2) & (dfn4_macro_newgeo_probempi.GLB_Y/dfn4_macro_newgeo_probempi.LOC_Y == 2)& (dfn4_macro_newgeo_probempi.GLB_Z/dfn4_macro_newgeo_probempi.LOC_Z == 2)]\n",
    "dfn4MacNewgeoProb_128mpi_1omp = dfn4_macro_newgeo_probempi[(dfn4_macro_newgeo_probempi.omp_thrd == 1) & (dfn4_macro_newgeo_probempi.GLB_T/dfn4_macro_newgeo_probempi.LOC_T == 16) & (dfn4_macro_newgeo_probempi.GLB_X/dfn4_macro_newgeo_probempi.LOC_X == 2) & (dfn4_macro_newgeo_probempi.GLB_Y/dfn4_macro_newgeo_probempi.LOC_Y == 2)& (dfn4_macro_newgeo_probempi.GLB_Z/dfn4_macro_newgeo_probempi.LOC_Z == 2)]\n"
   ]
  },
  {
   "cell_type": "code",
   "execution_count": null,
   "id": "ced7547a",
   "metadata": {},
   "outputs": [],
   "source": []
  },
  {
   "cell_type": "markdown",
   "id": "3fd48149",
   "metadata": {},
   "source": [
    "## 6. macro_newgeo_nonprobempi"
   ]
  },
  {
   "cell_type": "markdown",
   "id": "bef37154",
   "metadata": {},
   "source": [
    "### Add Columns"
   ]
  },
  {
   "cell_type": "code",
   "execution_count": 22,
   "id": "73901cc4",
   "metadata": {},
   "outputs": [],
   "source": [
    "dfn4_macro_newgeo_nonprobempi[\"N_Nodes\"] = 4\n",
    "dfn4_macro_newgeo_nonprobempi['NPX'] = (dfn4_macro_newgeo_nonprobempi.GLB_X//dfn4_macro_newgeo_nonprobempi.LOC_X)\n",
    "dfn4_macro_newgeo_nonprobempi['NPY'] = (dfn4_macro_newgeo_nonprobempi.GLB_Y//dfn4_macro_newgeo_nonprobempi.LOC_Y)\n",
    "dfn4_macro_newgeo_nonprobempi['NPZ'] = (dfn4_macro_newgeo_nonprobempi.GLB_Z//dfn4_macro_newgeo_nonprobempi.LOC_Z)\n",
    "dfn4_macro_newgeo_nonprobempi['NPT'] = (dfn4_macro_newgeo_nonprobempi.GLB_T//dfn4_macro_newgeo_nonprobempi.LOC_T)\n",
    "dfn4_macro_newgeo_nonprobempi[\"Total_proc\"] = dfn4_macro_newgeo_nonprobempi[\"omp_thrd\"]* dfn4_macro_newgeo_nonprobempi.MPI_size\n",
    "# dfn4_macro_newgeo_nonprobempi.columns"
   ]
  },
  {
   "cell_type": "markdown",
   "id": "6be45831",
   "metadata": {},
   "source": [
    "### Data Summary"
   ]
  },
  {
   "cell_type": "code",
   "execution_count": 23,
   "id": "ee086e32",
   "metadata": {},
   "outputs": [
    {
     "data": {
      "text/html": [
       "<div>\n",
       "<style scoped>\n",
       "    .dataframe tbody tr th:only-of-type {\n",
       "        vertical-align: middle;\n",
       "    }\n",
       "\n",
       "    .dataframe tbody tr th {\n",
       "        vertical-align: top;\n",
       "    }\n",
       "\n",
       "    .dataframe thead th {\n",
       "        text-align: right;\n",
       "    }\n",
       "</style>\n",
       "<table border=\"1\" class=\"dataframe\">\n",
       "  <thead>\n",
       "    <tr style=\"text-align: right;\">\n",
       "      <th></th>\n",
       "      <th>MPI_size</th>\n",
       "      <th>omp_thrd</th>\n",
       "      <th>NPT</th>\n",
       "      <th>NPX</th>\n",
       "      <th>NPY</th>\n",
       "      <th>NPZ</th>\n",
       "      <th>Total_proc</th>\n",
       "      <th>size</th>\n",
       "    </tr>\n",
       "  </thead>\n",
       "  <tbody>\n",
       "    <tr>\n",
       "      <th>0</th>\n",
       "      <td>32</td>\n",
       "      <td>4</td>\n",
       "      <td>4</td>\n",
       "      <td>2</td>\n",
       "      <td>2</td>\n",
       "      <td>2</td>\n",
       "      <td>128</td>\n",
       "      <td>29</td>\n",
       "    </tr>\n",
       "    <tr>\n",
       "      <th>1</th>\n",
       "      <td>40</td>\n",
       "      <td>3</td>\n",
       "      <td>5</td>\n",
       "      <td>2</td>\n",
       "      <td>2</td>\n",
       "      <td>2</td>\n",
       "      <td>120</td>\n",
       "      <td>11</td>\n",
       "    </tr>\n",
       "    <tr>\n",
       "      <th>2</th>\n",
       "      <td>56</td>\n",
       "      <td>2</td>\n",
       "      <td>7</td>\n",
       "      <td>2</td>\n",
       "      <td>2</td>\n",
       "      <td>2</td>\n",
       "      <td>112</td>\n",
       "      <td>8</td>\n",
       "    </tr>\n",
       "    <tr>\n",
       "      <th>3</th>\n",
       "      <td>64</td>\n",
       "      <td>2</td>\n",
       "      <td>8</td>\n",
       "      <td>2</td>\n",
       "      <td>2</td>\n",
       "      <td>2</td>\n",
       "      <td>128</td>\n",
       "      <td>13</td>\n",
       "    </tr>\n",
       "    <tr>\n",
       "      <th>4</th>\n",
       "      <td>104</td>\n",
       "      <td>1</td>\n",
       "      <td>13</td>\n",
       "      <td>2</td>\n",
       "      <td>2</td>\n",
       "      <td>2</td>\n",
       "      <td>104</td>\n",
       "      <td>3</td>\n",
       "    </tr>\n",
       "    <tr>\n",
       "      <th>5</th>\n",
       "      <td>112</td>\n",
       "      <td>1</td>\n",
       "      <td>14</td>\n",
       "      <td>2</td>\n",
       "      <td>2</td>\n",
       "      <td>2</td>\n",
       "      <td>112</td>\n",
       "      <td>6</td>\n",
       "    </tr>\n",
       "    <tr>\n",
       "      <th>6</th>\n",
       "      <td>120</td>\n",
       "      <td>1</td>\n",
       "      <td>15</td>\n",
       "      <td>2</td>\n",
       "      <td>2</td>\n",
       "      <td>2</td>\n",
       "      <td>120</td>\n",
       "      <td>3</td>\n",
       "    </tr>\n",
       "    <tr>\n",
       "      <th>7</th>\n",
       "      <td>128</td>\n",
       "      <td>1</td>\n",
       "      <td>16</td>\n",
       "      <td>2</td>\n",
       "      <td>2</td>\n",
       "      <td>2</td>\n",
       "      <td>128</td>\n",
       "      <td>5</td>\n",
       "    </tr>\n",
       "  </tbody>\n",
       "</table>\n",
       "</div>"
      ],
      "text/plain": [
       "   MPI_size  omp_thrd  NPT  NPX  NPY  NPZ  Total_proc  size\n",
       "0        32         4    4    2    2    2         128    29\n",
       "1        40         3    5    2    2    2         120    11\n",
       "2        56         2    7    2    2    2         112     8\n",
       "3        64         2    8    2    2    2         128    13\n",
       "4       104         1   13    2    2    2         104     3\n",
       "5       112         1   14    2    2    2         112     6\n",
       "6       120         1   15    2    2    2         120     3\n",
       "7       128         1   16    2    2    2         128     5"
      ]
     },
     "execution_count": 23,
     "metadata": {},
     "output_type": "execute_result"
    }
   ],
   "source": [
    "dfn4_macro_newgeo_nonprobempi_summary = dfn4_macro_newgeo_nonprobempi.groupby(['MPI_size','omp_thrd','NPT','NPX', 'NPY', 'NPZ',\"Total_proc\"]).size().reset_index(name = 'size')\n",
    "dfn4_macro_newgeo_nonprobempi_summary"
   ]
  },
  {
   "cell_type": "markdown",
   "id": "2a6ea503",
   "metadata": {},
   "source": [
    "### Case Set up"
   ]
  },
  {
   "cell_type": "code",
   "execution_count": 24,
   "id": "a0a7c031",
   "metadata": {},
   "outputs": [],
   "source": [
    "dfn4MacNewgeoNonProb_32mpi_4omp = dfn4_macro_newgeo_nonprobempi[(dfn4_macro_newgeo_nonprobempi.omp_thrd == 4) & (dfn4_macro_newgeo_nonprobempi.GLB_T/dfn4_macro_newgeo_nonprobempi.LOC_T == 4) & (dfn4_macro_newgeo_nonprobempi.GLB_X/dfn4_macro_newgeo_nonprobempi.LOC_X == 2) & (dfn4_macro_newgeo_nonprobempi.GLB_Y/dfn4_macro_newgeo_nonprobempi.LOC_Y == 2)& (dfn4_macro_newgeo_nonprobempi.GLB_Z/dfn4_macro_newgeo_nonprobempi.LOC_Z == 2)]\n",
    "dfn4MacNewgeoNonProb_40mpi_3omp = dfn4_macro_newgeo_nonprobempi[(dfn4_macro_newgeo_nonprobempi.omp_thrd == 3) & (dfn4_macro_newgeo_nonprobempi.GLB_T/dfn4_macro_newgeo_nonprobempi.LOC_T == 5) & (dfn4_macro_newgeo_nonprobempi.GLB_X/dfn4_macro_newgeo_nonprobempi.LOC_X == 2) & (dfn4_macro_newgeo_nonprobempi.GLB_Y/dfn4_macro_newgeo_nonprobempi.LOC_Y == 2)& (dfn4_macro_newgeo_nonprobempi.GLB_Z/dfn4_macro_newgeo_nonprobempi.LOC_Z == 2)]\n",
    "dfn4MacNewgeoNonProb_56mpi_2omp = dfn4_macro_newgeo_nonprobempi[(dfn4_macro_newgeo_nonprobempi.omp_thrd == 2) & (dfn4_macro_newgeo_nonprobempi.GLB_T/dfn4_macro_newgeo_nonprobempi.LOC_T == 7) & (dfn4_macro_newgeo_nonprobempi.GLB_X/dfn4_macro_newgeo_nonprobempi.LOC_X == 2) & (dfn4_macro_newgeo_nonprobempi.GLB_Y/dfn4_macro_newgeo_nonprobempi.LOC_Y == 2)& (dfn4_macro_newgeo_nonprobempi.GLB_Z/dfn4_macro_newgeo_nonprobempi.LOC_Z == 2)]\n",
    "dfn4MacNewgeoNonProb_64mpi_2omp = dfn4_macro_newgeo_nonprobempi[(dfn4_macro_newgeo_nonprobempi.omp_thrd == 2) & (dfn4_macro_newgeo_nonprobempi.GLB_T/dfn4_macro_newgeo_nonprobempi.LOC_T == 8) & (dfn4_macro_newgeo_nonprobempi.GLB_X/dfn4_macro_newgeo_nonprobempi.LOC_X == 2) & (dfn4_macro_newgeo_nonprobempi.GLB_Y/dfn4_macro_newgeo_nonprobempi.LOC_Y == 2)& (dfn4_macro_newgeo_nonprobempi.GLB_Z/dfn4_macro_newgeo_nonprobempi.LOC_Z == 2)]\n",
    "dfn4MacNewgeoNonProb_112mpi_1omp = dfn4_macro_newgeo_nonprobempi[(dfn4_macro_newgeo_nonprobempi.omp_thrd == 1) & (dfn4_macro_newgeo_nonprobempi.GLB_T/dfn4_macro_newgeo_nonprobempi.LOC_T == 14) & (dfn4_macro_newgeo_nonprobempi.GLB_X/dfn4_macro_newgeo_nonprobempi.LOC_X == 2) & (dfn4_macro_newgeo_nonprobempi.GLB_Y/dfn4_macro_newgeo_nonprobempi.LOC_Y == 2)& (dfn4_macro_newgeo_nonprobempi.GLB_Z/dfn4_macro_newgeo_nonprobempi.LOC_Z == 2)]\n",
    "dfn4MacNewgeoNonProb_128mpi_1omp = dfn4_macro_newgeo_nonprobempi[(dfn4_macro_newgeo_nonprobempi.omp_thrd == 1) & (dfn4_macro_newgeo_nonprobempi.GLB_T/dfn4_macro_newgeo_nonprobempi.LOC_T == 16) & (dfn4_macro_newgeo_nonprobempi.GLB_X/dfn4_macro_newgeo_nonprobempi.LOC_X == 2) & (dfn4_macro_newgeo_nonprobempi.GLB_Y/dfn4_macro_newgeo_nonprobempi.LOC_Y == 2)& (dfn4_macro_newgeo_nonprobempi.GLB_Z/dfn4_macro_newgeo_nonprobempi.LOC_Z == 2)]\n"
   ]
  },
  {
   "cell_type": "markdown",
   "id": "b692a101",
   "metadata": {},
   "source": [
    "## GFLOPS - Macro Newgeometry: Probempi vs Nonprobempi"
   ]
  },
  {
   "cell_type": "code",
   "execution_count": 25,
   "id": "f962940f",
   "metadata": {},
   "outputs": [
    {
     "data": {
      "application/vnd.plotly.v1+json": {
       "config": {
        "plotlyServerURL": "https://plot.ly"
       },
       "data": [
        {
         "line": {
          "color": "magenta",
          "width": 3
         },
         "marker": {
          "line": {
           "color": "yellow",
           "width": 1
          },
          "size": 9,
          "symbol": "hexagon"
         },
         "mode": "lines+markers",
         "name": "MacNewgeoProb_32mpi_4omp",
         "type": "scatter",
         "x": [
          50331648,
          62914560,
          75497472,
          88080384,
          100663296,
          113246208,
          125829120,
          138412032,
          150994944,
          163577856,
          176160768,
          188743680,
          201326592,
          213909504,
          226492416,
          239075328,
          251658240,
          264241152,
          276824064,
          289406976,
          301989888,
          314572800,
          327155712,
          339738624,
          352321536,
          364904448,
          377487360,
          390070272,
          402653184
         ],
         "y": [
          29.44096,
          30.94712,
          31.17696,
          31.412,
          31.67704,
          31.79176,
          31.35088,
          31.40888,
          31.17888,
          30.6284,
          30.1544,
          29.60824,
          28.97056,
          28.67232,
          28.60232,
          28.22856,
          27.86224,
          27.83072,
          27.68288,
          27.45816,
          27.414,
          27.03504,
          27.14792,
          27.20512,
          26.76776,
          27.13976,
          26.9104,
          26.7096,
          26.48488
         ]
        },
        {
         "line": {
          "color": "darkcyan",
          "width": 3
         },
         "marker": {
          "line": {
           "color": "yellow",
           "width": 1
          },
          "size": 9,
          "symbol": "hexagon"
         },
         "mode": "lines+markers",
         "name": "MacNewgeoNonProb_32mpi_4omp",
         "type": "scatter",
         "x": [
          50331648,
          62914560,
          75497472,
          88080384,
          100663296,
          113246208,
          125829120,
          138412032,
          150994944,
          163577856,
          176160768,
          188743680,
          201326592,
          213909504,
          226492416,
          239075328,
          251658240,
          264241152,
          276824064,
          289406976,
          301989888,
          314572800,
          327155712,
          339738624,
          352321536,
          364904448,
          377487360,
          390070272,
          402653184
         ],
         "y": [
          47.76024,
          53.06888,
          57.38656,
          63.09888,
          65.30672,
          65.18288,
          61.71264,
          60.16336,
          57.13032,
          57.17768,
          54.32072,
          52.41456,
          47.67344,
          47.55896,
          44.75744,
          42.29328,
          40.99872,
          40.1712,
          37.0964,
          37.49992,
          37.12296,
          37.28816,
          36.49648,
          36.10592,
          35.43584,
          35.474,
          35.52952,
          35.27184,
          34.96696
         ]
        },
        {
         "line": {
          "color": "sandybrown",
          "width": 3
         },
         "marker": {
          "line": {
           "color": "MediumPurple",
           "width": 2
          },
          "size": 5,
          "symbol": "diamond"
         },
         "mode": "lines+markers",
         "name": "MacNewgeoProb_40mpi_3omp",
         "type": "scatter",
         "x": [
          62914560,
          94371840,
          125829120,
          157286400,
          188743680,
          220200960,
          251658240,
          283115520,
          314572800,
          346030080,
          377487360
         ],
         "y": [
          29.6144,
          30.4422,
          30.737000000000002,
          30.110999999999997,
          30.147499999999997,
          28.8617,
          28.4869,
          28.472,
          27.0086,
          27.0452,
          27.103
         ]
        },
        {
         "line": {
          "color": "royalblue",
          "width": 3
         },
         "marker": {
          "line": {
           "color": "MediumPurple",
           "width": 2
          },
          "size": 5,
          "symbol": "diamond"
         },
         "mode": "lines+markers",
         "name": "MacNewgeoNonProb_40mpi_3omp",
         "type": "scatter",
         "x": [
          62914560,
          94371840,
          125829120,
          157286400,
          188743680,
          220200960,
          251658240,
          283115520,
          314572800,
          346030080,
          377487360
         ],
         "y": [
          48.3489,
          54.6285,
          54.27590000000001,
          49.5083,
          44.7043,
          41.260000000000005,
          37.3136,
          36.2013,
          34.4345,
          34.4031,
          32.0244
         ]
        },
        {
         "line": {
          "color": "cyan",
          "width": 3
         },
         "marker": {
          "line": {
           "color": "Purple",
           "width": 2
          },
          "size": 7,
          "symbol": "circle"
         },
         "mode": "lines+markers",
         "name": "MacNewgeoProb_56mpi_2omp",
         "type": "scatter",
         "x": [
          88080384,
          132120576,
          176160768,
          220200960,
          264241152,
          308281344,
          352321536,
          396361728
         ],
         "y": [
          29.12574,
          29.91576,
          29.297939999999997,
          27.72924,
          27.33304,
          26.80622,
          26.21724,
          26.4124
         ]
        },
        {
         "line": {
          "color": "darkblue",
          "width": 3
         },
         "marker": {
          "line": {
           "color": "tomato",
           "width": 2
          },
          "size": 7,
          "symbol": "circle"
         },
         "mode": "lines+markers",
         "name": "MacNewgeoNonProb_56mpi_2omp",
         "type": "scatter",
         "x": [
          88080384,
          132120576,
          176160768,
          220200960,
          264241152,
          308281344,
          352321536,
          396361728
         ],
         "y": [
          63.25522,
          54.544,
          44.89394,
          37.204860000000004,
          36.299620000000004,
          34.867,
          34.6178,
          33.97814
         ]
        },
        {
         "line": {
          "color": "blue",
          "width": 3
         },
         "marker": {
          "line": {
           "color": "black",
           "width": 1
          },
          "size": 7,
          "symbol": "star"
         },
         "mode": "lines+markers",
         "name": "MacNewgeoProb_64mpi_2omp",
         "type": "scatter",
         "x": [
          100663296,
          125829120,
          150994944,
          176160768,
          201326592,
          226492416,
          251658240,
          276824064,
          301989888,
          327155712,
          352321536,
          377487360,
          402653184
         ],
         "y": [
          33.2264,
          33.4048,
          32.2664,
          31.58736,
          30.67008,
          30.42016,
          29.63792,
          29.57648,
          29.22192,
          29.21136,
          28.65408,
          29.03136,
          28.44624
         ]
        },
        {
         "line": {
          "color": "red",
          "width": 3
         },
         "marker": {
          "line": {
           "color": "black",
           "width": 1
          },
          "size": 7,
          "symbol": "star"
         },
         "mode": "lines+markers",
         "name": "MacNewgeoNonProb_64mpi_2omp",
         "type": "scatter",
         "x": [
          100663296,
          125829120,
          150994944,
          176160768,
          201326592,
          226492416,
          251658240,
          276824064,
          301989888,
          327155712,
          352321536,
          377487360,
          402653184
         ],
         "y": [
          73.50624,
          70.92112,
          54.85632,
          48.14752,
          38.4608,
          33.92832,
          31.004,
          30.22672,
          28.744,
          28.74512,
          27.8336,
          27.07712,
          27.136
         ]
        },
        {
         "line": {
          "color": "chartreuse",
          "width": 3
         },
         "marker": {
          "line": {
           "color": "mediumvioletred",
           "width": 1
          },
          "size": 7,
          "symbol": "square-dot"
         },
         "mode": "lines+markers",
         "name": "MacNewgeoProb_112mpi_1omp",
         "type": "scatter",
         "x": [
          176160768,
          264241152,
          308281344,
          352321536,
          396361728
         ],
         "y": [
          28.93856,
          27.87526,
          27.550656,
          26.896044,
          27.226135999999997
         ]
        },
        {
         "line": {
          "color": "black",
          "width": 3
         },
         "marker": {
          "line": {
           "color": "mediumvioletred",
           "width": 1
          },
          "size": 7,
          "symbol": "square-dot"
         },
         "mode": "lines+markers",
         "name": "MacNewgeoNonProb_112mpi_1omp",
         "type": "scatter",
         "x": [
          176160768,
          220200960,
          264241152,
          308281344,
          352321536,
          396361728
         ],
         "y": [
          25.955664000000002,
          23.743748,
          23.359196,
          23.952963999999998,
          23.125284,
          22.726844
         ]
        },
        {
         "line": {
          "color": "gold",
          "width": 3
         },
         "marker": {
          "line": {
           "color": "black",
           "width": 1
          },
          "size": 6,
          "symbol": "triangle-up"
         },
         "mode": "lines+markers",
         "name": "MacNewgeoProb_128mpi_1omp",
         "type": "scatter",
         "x": [
          201326592,
          251658240,
          301989888,
          352321536,
          402653184
         ],
         "y": [
          30.435296,
          29.953824,
          29.70704,
          29.738912,
          29.205248
         ]
        },
        {
         "line": {
          "color": "dimgray",
          "width": 3
         },
         "marker": {
          "line": {
           "color": "black",
           "width": 1
          },
          "size": 6,
          "symbol": "triangle-up"
         },
         "mode": "lines+markers",
         "name": "MacNewgeoNonProb_128mpi_1omp",
         "type": "scatter",
         "x": [
          201326592,
          251658240,
          301989888,
          352321536,
          402653184
         ],
         "y": [
          29.488256,
          28.0344,
          28.028704,
          27.14928,
          26.673408
         ]
        }
       ],
       "layout": {
        "annotations": [
         {
          "align": "left",
          "arrowcolor": "#636363",
          "arrowhead": 1,
          "arrowsize": 1,
          "arrowwidth": 2,
          "ax": -20,
          "ay": -30,
          "font": {
           "color": "purple",
           "family": "Sans Serif",
           "size": 12
          },
          "showarrow": false,
          "text": "LLC Size Per Node",
          "x": "80e6",
          "y": 130,
          "yanchor": "bottom"
         }
        ],
        "shapes": [
         {
          "line": {
           "color": "green",
           "dash": "dash",
           "width": 3
          },
          "type": "line",
          "x0": 80000000,
          "x1": 80000000,
          "xref": "x",
          "y0": 0,
          "y1": 1,
          "yref": "y domain"
         }
        ],
        "template": {
         "data": {
          "bar": [
           {
            "error_x": {
             "color": "#2a3f5f"
            },
            "error_y": {
             "color": "#2a3f5f"
            },
            "marker": {
             "line": {
              "color": "#E5ECF6",
              "width": 0.5
             },
             "pattern": {
              "fillmode": "overlay",
              "size": 10,
              "solidity": 0.2
             }
            },
            "type": "bar"
           }
          ],
          "barpolar": [
           {
            "marker": {
             "line": {
              "color": "#E5ECF6",
              "width": 0.5
             },
             "pattern": {
              "fillmode": "overlay",
              "size": 10,
              "solidity": 0.2
             }
            },
            "type": "barpolar"
           }
          ],
          "carpet": [
           {
            "aaxis": {
             "endlinecolor": "#2a3f5f",
             "gridcolor": "white",
             "linecolor": "white",
             "minorgridcolor": "white",
             "startlinecolor": "#2a3f5f"
            },
            "baxis": {
             "endlinecolor": "#2a3f5f",
             "gridcolor": "white",
             "linecolor": "white",
             "minorgridcolor": "white",
             "startlinecolor": "#2a3f5f"
            },
            "type": "carpet"
           }
          ],
          "choropleth": [
           {
            "colorbar": {
             "outlinewidth": 0,
             "ticks": ""
            },
            "type": "choropleth"
           }
          ],
          "contour": [
           {
            "colorbar": {
             "outlinewidth": 0,
             "ticks": ""
            },
            "colorscale": [
             [
              0,
              "#0d0887"
             ],
             [
              0.1111111111111111,
              "#46039f"
             ],
             [
              0.2222222222222222,
              "#7201a8"
             ],
             [
              0.3333333333333333,
              "#9c179e"
             ],
             [
              0.4444444444444444,
              "#bd3786"
             ],
             [
              0.5555555555555556,
              "#d8576b"
             ],
             [
              0.6666666666666666,
              "#ed7953"
             ],
             [
              0.7777777777777778,
              "#fb9f3a"
             ],
             [
              0.8888888888888888,
              "#fdca26"
             ],
             [
              1,
              "#f0f921"
             ]
            ],
            "type": "contour"
           }
          ],
          "contourcarpet": [
           {
            "colorbar": {
             "outlinewidth": 0,
             "ticks": ""
            },
            "type": "contourcarpet"
           }
          ],
          "heatmap": [
           {
            "colorbar": {
             "outlinewidth": 0,
             "ticks": ""
            },
            "colorscale": [
             [
              0,
              "#0d0887"
             ],
             [
              0.1111111111111111,
              "#46039f"
             ],
             [
              0.2222222222222222,
              "#7201a8"
             ],
             [
              0.3333333333333333,
              "#9c179e"
             ],
             [
              0.4444444444444444,
              "#bd3786"
             ],
             [
              0.5555555555555556,
              "#d8576b"
             ],
             [
              0.6666666666666666,
              "#ed7953"
             ],
             [
              0.7777777777777778,
              "#fb9f3a"
             ],
             [
              0.8888888888888888,
              "#fdca26"
             ],
             [
              1,
              "#f0f921"
             ]
            ],
            "type": "heatmap"
           }
          ],
          "heatmapgl": [
           {
            "colorbar": {
             "outlinewidth": 0,
             "ticks": ""
            },
            "colorscale": [
             [
              0,
              "#0d0887"
             ],
             [
              0.1111111111111111,
              "#46039f"
             ],
             [
              0.2222222222222222,
              "#7201a8"
             ],
             [
              0.3333333333333333,
              "#9c179e"
             ],
             [
              0.4444444444444444,
              "#bd3786"
             ],
             [
              0.5555555555555556,
              "#d8576b"
             ],
             [
              0.6666666666666666,
              "#ed7953"
             ],
             [
              0.7777777777777778,
              "#fb9f3a"
             ],
             [
              0.8888888888888888,
              "#fdca26"
             ],
             [
              1,
              "#f0f921"
             ]
            ],
            "type": "heatmapgl"
           }
          ],
          "histogram": [
           {
            "marker": {
             "pattern": {
              "fillmode": "overlay",
              "size": 10,
              "solidity": 0.2
             }
            },
            "type": "histogram"
           }
          ],
          "histogram2d": [
           {
            "colorbar": {
             "outlinewidth": 0,
             "ticks": ""
            },
            "colorscale": [
             [
              0,
              "#0d0887"
             ],
             [
              0.1111111111111111,
              "#46039f"
             ],
             [
              0.2222222222222222,
              "#7201a8"
             ],
             [
              0.3333333333333333,
              "#9c179e"
             ],
             [
              0.4444444444444444,
              "#bd3786"
             ],
             [
              0.5555555555555556,
              "#d8576b"
             ],
             [
              0.6666666666666666,
              "#ed7953"
             ],
             [
              0.7777777777777778,
              "#fb9f3a"
             ],
             [
              0.8888888888888888,
              "#fdca26"
             ],
             [
              1,
              "#f0f921"
             ]
            ],
            "type": "histogram2d"
           }
          ],
          "histogram2dcontour": [
           {
            "colorbar": {
             "outlinewidth": 0,
             "ticks": ""
            },
            "colorscale": [
             [
              0,
              "#0d0887"
             ],
             [
              0.1111111111111111,
              "#46039f"
             ],
             [
              0.2222222222222222,
              "#7201a8"
             ],
             [
              0.3333333333333333,
              "#9c179e"
             ],
             [
              0.4444444444444444,
              "#bd3786"
             ],
             [
              0.5555555555555556,
              "#d8576b"
             ],
             [
              0.6666666666666666,
              "#ed7953"
             ],
             [
              0.7777777777777778,
              "#fb9f3a"
             ],
             [
              0.8888888888888888,
              "#fdca26"
             ],
             [
              1,
              "#f0f921"
             ]
            ],
            "type": "histogram2dcontour"
           }
          ],
          "mesh3d": [
           {
            "colorbar": {
             "outlinewidth": 0,
             "ticks": ""
            },
            "type": "mesh3d"
           }
          ],
          "parcoords": [
           {
            "line": {
             "colorbar": {
              "outlinewidth": 0,
              "ticks": ""
             }
            },
            "type": "parcoords"
           }
          ],
          "pie": [
           {
            "automargin": true,
            "type": "pie"
           }
          ],
          "scatter": [
           {
            "fillpattern": {
             "fillmode": "overlay",
             "size": 10,
             "solidity": 0.2
            },
            "type": "scatter"
           }
          ],
          "scatter3d": [
           {
            "line": {
             "colorbar": {
              "outlinewidth": 0,
              "ticks": ""
             }
            },
            "marker": {
             "colorbar": {
              "outlinewidth": 0,
              "ticks": ""
             }
            },
            "type": "scatter3d"
           }
          ],
          "scattercarpet": [
           {
            "marker": {
             "colorbar": {
              "outlinewidth": 0,
              "ticks": ""
             }
            },
            "type": "scattercarpet"
           }
          ],
          "scattergeo": [
           {
            "marker": {
             "colorbar": {
              "outlinewidth": 0,
              "ticks": ""
             }
            },
            "type": "scattergeo"
           }
          ],
          "scattergl": [
           {
            "marker": {
             "colorbar": {
              "outlinewidth": 0,
              "ticks": ""
             }
            },
            "type": "scattergl"
           }
          ],
          "scattermapbox": [
           {
            "marker": {
             "colorbar": {
              "outlinewidth": 0,
              "ticks": ""
             }
            },
            "type": "scattermapbox"
           }
          ],
          "scatterpolar": [
           {
            "marker": {
             "colorbar": {
              "outlinewidth": 0,
              "ticks": ""
             }
            },
            "type": "scatterpolar"
           }
          ],
          "scatterpolargl": [
           {
            "marker": {
             "colorbar": {
              "outlinewidth": 0,
              "ticks": ""
             }
            },
            "type": "scatterpolargl"
           }
          ],
          "scatterternary": [
           {
            "marker": {
             "colorbar": {
              "outlinewidth": 0,
              "ticks": ""
             }
            },
            "type": "scatterternary"
           }
          ],
          "surface": [
           {
            "colorbar": {
             "outlinewidth": 0,
             "ticks": ""
            },
            "colorscale": [
             [
              0,
              "#0d0887"
             ],
             [
              0.1111111111111111,
              "#46039f"
             ],
             [
              0.2222222222222222,
              "#7201a8"
             ],
             [
              0.3333333333333333,
              "#9c179e"
             ],
             [
              0.4444444444444444,
              "#bd3786"
             ],
             [
              0.5555555555555556,
              "#d8576b"
             ],
             [
              0.6666666666666666,
              "#ed7953"
             ],
             [
              0.7777777777777778,
              "#fb9f3a"
             ],
             [
              0.8888888888888888,
              "#fdca26"
             ],
             [
              1,
              "#f0f921"
             ]
            ],
            "type": "surface"
           }
          ],
          "table": [
           {
            "cells": {
             "fill": {
              "color": "#EBF0F8"
             },
             "line": {
              "color": "white"
             }
            },
            "header": {
             "fill": {
              "color": "#C8D4E3"
             },
             "line": {
              "color": "white"
             }
            },
            "type": "table"
           }
          ]
         },
         "layout": {
          "annotationdefaults": {
           "arrowcolor": "#2a3f5f",
           "arrowhead": 0,
           "arrowwidth": 1
          },
          "autotypenumbers": "strict",
          "coloraxis": {
           "colorbar": {
            "outlinewidth": 0,
            "ticks": ""
           }
          },
          "colorscale": {
           "diverging": [
            [
             0,
             "#8e0152"
            ],
            [
             0.1,
             "#c51b7d"
            ],
            [
             0.2,
             "#de77ae"
            ],
            [
             0.3,
             "#f1b6da"
            ],
            [
             0.4,
             "#fde0ef"
            ],
            [
             0.5,
             "#f7f7f7"
            ],
            [
             0.6,
             "#e6f5d0"
            ],
            [
             0.7,
             "#b8e186"
            ],
            [
             0.8,
             "#7fbc41"
            ],
            [
             0.9,
             "#4d9221"
            ],
            [
             1,
             "#276419"
            ]
           ],
           "sequential": [
            [
             0,
             "#0d0887"
            ],
            [
             0.1111111111111111,
             "#46039f"
            ],
            [
             0.2222222222222222,
             "#7201a8"
            ],
            [
             0.3333333333333333,
             "#9c179e"
            ],
            [
             0.4444444444444444,
             "#bd3786"
            ],
            [
             0.5555555555555556,
             "#d8576b"
            ],
            [
             0.6666666666666666,
             "#ed7953"
            ],
            [
             0.7777777777777778,
             "#fb9f3a"
            ],
            [
             0.8888888888888888,
             "#fdca26"
            ],
            [
             1,
             "#f0f921"
            ]
           ],
           "sequentialminus": [
            [
             0,
             "#0d0887"
            ],
            [
             0.1111111111111111,
             "#46039f"
            ],
            [
             0.2222222222222222,
             "#7201a8"
            ],
            [
             0.3333333333333333,
             "#9c179e"
            ],
            [
             0.4444444444444444,
             "#bd3786"
            ],
            [
             0.5555555555555556,
             "#d8576b"
            ],
            [
             0.6666666666666666,
             "#ed7953"
            ],
            [
             0.7777777777777778,
             "#fb9f3a"
            ],
            [
             0.8888888888888888,
             "#fdca26"
            ],
            [
             1,
             "#f0f921"
            ]
           ]
          },
          "colorway": [
           "#636efa",
           "#EF553B",
           "#00cc96",
           "#ab63fa",
           "#FFA15A",
           "#19d3f3",
           "#FF6692",
           "#B6E880",
           "#FF97FF",
           "#FECB52"
          ],
          "font": {
           "color": "#2a3f5f"
          },
          "geo": {
           "bgcolor": "white",
           "lakecolor": "white",
           "landcolor": "#E5ECF6",
           "showlakes": true,
           "showland": true,
           "subunitcolor": "white"
          },
          "hoverlabel": {
           "align": "left"
          },
          "hovermode": "closest",
          "mapbox": {
           "style": "light"
          },
          "paper_bgcolor": "white",
          "plot_bgcolor": "#E5ECF6",
          "polar": {
           "angularaxis": {
            "gridcolor": "white",
            "linecolor": "white",
            "ticks": ""
           },
           "bgcolor": "#E5ECF6",
           "radialaxis": {
            "gridcolor": "white",
            "linecolor": "white",
            "ticks": ""
           }
          },
          "scene": {
           "xaxis": {
            "backgroundcolor": "#E5ECF6",
            "gridcolor": "white",
            "gridwidth": 2,
            "linecolor": "white",
            "showbackground": true,
            "ticks": "",
            "zerolinecolor": "white"
           },
           "yaxis": {
            "backgroundcolor": "#E5ECF6",
            "gridcolor": "white",
            "gridwidth": 2,
            "linecolor": "white",
            "showbackground": true,
            "ticks": "",
            "zerolinecolor": "white"
           },
           "zaxis": {
            "backgroundcolor": "#E5ECF6",
            "gridcolor": "white",
            "gridwidth": 2,
            "linecolor": "white",
            "showbackground": true,
            "ticks": "",
            "zerolinecolor": "white"
           }
          },
          "shapedefaults": {
           "line": {
            "color": "#2a3f5f"
           }
          },
          "ternary": {
           "aaxis": {
            "gridcolor": "white",
            "linecolor": "white",
            "ticks": ""
           },
           "baxis": {
            "gridcolor": "white",
            "linecolor": "white",
            "ticks": ""
           },
           "bgcolor": "#E5ECF6",
           "caxis": {
            "gridcolor": "white",
            "linecolor": "white",
            "ticks": ""
           }
          },
          "title": {
           "x": 0.05
          },
          "xaxis": {
           "automargin": true,
           "gridcolor": "white",
           "linecolor": "white",
           "ticks": "",
           "title": {
            "standoff": 15
           },
           "zerolinecolor": "white",
           "zerolinewidth": 2
          },
          "yaxis": {
           "automargin": true,
           "gridcolor": "white",
           "linecolor": "white",
           "ticks": "",
           "title": {
            "standoff": 15
           },
           "zerolinecolor": "white",
           "zerolinewidth": 2
          }
         }
        },
        "title": {
         "text": "\"Macro Newgeo: probempi vs nonprobempi\" GFlops Measurement"
        },
        "xaxis": {
         "ticks": "outside",
         "title": {
          "text": "Dirc_Data_Mov"
         }
        },
        "yaxis": {
         "ticks": "outside",
         "title": {
          "text": "GFLOPs/Node"
         }
        }
       }
      },
      "text/html": [
       "<div>                            <div id=\"4b9205b8-3dfc-40a3-966a-266dc2ff527e\" class=\"plotly-graph-div\" style=\"height:525px; width:100%;\"></div>            <script type=\"text/javascript\">                require([\"plotly\"], function(Plotly) {                    window.PLOTLYENV=window.PLOTLYENV || {};                                    if (document.getElementById(\"4b9205b8-3dfc-40a3-966a-266dc2ff527e\")) {                    Plotly.newPlot(                        \"4b9205b8-3dfc-40a3-966a-266dc2ff527e\",                        [{\"line\":{\"color\":\"magenta\",\"width\":3},\"marker\":{\"line\":{\"color\":\"yellow\",\"width\":1},\"size\":9,\"symbol\":\"hexagon\"},\"mode\":\"lines+markers\",\"name\":\"MacNewgeoProb_32mpi_4omp\",\"x\":[50331648.0,62914560.0,75497472.0,88080384.0,100663296.0,113246208.0,125829120.0,138412032.0,150994944.0,163577856.0,176160768.0,188743680.0,201326592.0,213909504.0,226492416.0,239075328.0,251658240.0,264241152.0,276824064.0,289406976.0,301989888.0,314572800.0,327155712.0,339738624.0,352321536.0,364904448.0,377487360.0,390070272.0,402653184.0],\"y\":[29.44096,30.94712,31.17696,31.412,31.67704,31.79176,31.35088,31.40888,31.17888,30.6284,30.1544,29.60824,28.97056,28.67232,28.60232,28.22856,27.86224,27.83072,27.68288,27.45816,27.414,27.03504,27.14792,27.20512,26.76776,27.13976,26.9104,26.7096,26.48488],\"type\":\"scatter\"},{\"line\":{\"color\":\"darkcyan\",\"width\":3},\"marker\":{\"line\":{\"color\":\"yellow\",\"width\":1},\"size\":9,\"symbol\":\"hexagon\"},\"mode\":\"lines+markers\",\"name\":\"MacNewgeoNonProb_32mpi_4omp\",\"x\":[50331648.0,62914560.0,75497472.0,88080384.0,100663296.0,113246208.0,125829120.0,138412032.0,150994944.0,163577856.0,176160768.0,188743680.0,201326592.0,213909504.0,226492416.0,239075328.0,251658240.0,264241152.0,276824064.0,289406976.0,301989888.0,314572800.0,327155712.0,339738624.0,352321536.0,364904448.0,377487360.0,390070272.0,402653184.0],\"y\":[47.76024,53.06888,57.38656,63.09888,65.30672,65.18288,61.71264,60.16336,57.13032,57.17768,54.32072,52.41456,47.67344,47.55896,44.75744,42.29328,40.99872,40.1712,37.0964,37.49992,37.12296,37.28816,36.49648,36.10592,35.43584,35.474,35.52952,35.27184,34.96696],\"type\":\"scatter\"},{\"line\":{\"color\":\"sandybrown\",\"width\":3},\"marker\":{\"line\":{\"color\":\"MediumPurple\",\"width\":2},\"size\":5,\"symbol\":\"diamond\"},\"mode\":\"lines+markers\",\"name\":\"MacNewgeoProb_40mpi_3omp\",\"x\":[62914560.0,94371840.0,125829120.0,157286400.0,188743680.0,220200960.0,251658240.0,283115520.0,314572800.0,346030080.0,377487360.0],\"y\":[29.6144,30.4422,30.737000000000002,30.110999999999997,30.147499999999997,28.8617,28.4869,28.472,27.0086,27.0452,27.103],\"type\":\"scatter\"},{\"line\":{\"color\":\"royalblue\",\"width\":3},\"marker\":{\"line\":{\"color\":\"MediumPurple\",\"width\":2},\"size\":5,\"symbol\":\"diamond\"},\"mode\":\"lines+markers\",\"name\":\"MacNewgeoNonProb_40mpi_3omp\",\"x\":[62914560.0,94371840.0,125829120.0,157286400.0,188743680.0,220200960.0,251658240.0,283115520.0,314572800.0,346030080.0,377487360.0],\"y\":[48.3489,54.6285,54.27590000000001,49.5083,44.7043,41.260000000000005,37.3136,36.2013,34.4345,34.4031,32.0244],\"type\":\"scatter\"},{\"line\":{\"color\":\"cyan\",\"width\":3},\"marker\":{\"line\":{\"color\":\"Purple\",\"width\":2},\"size\":7,\"symbol\":\"circle\"},\"mode\":\"lines+markers\",\"name\":\"MacNewgeoProb_56mpi_2omp\",\"x\":[88080384.0,132120576.0,176160768.0,220200960.0,264241152.0,308281344.0,352321536.0,396361728.0],\"y\":[29.12574,29.91576,29.297939999999997,27.72924,27.33304,26.80622,26.21724,26.4124],\"type\":\"scatter\"},{\"line\":{\"color\":\"darkblue\",\"width\":3},\"marker\":{\"line\":{\"color\":\"tomato\",\"width\":2},\"size\":7,\"symbol\":\"circle\"},\"mode\":\"lines+markers\",\"name\":\"MacNewgeoNonProb_56mpi_2omp\",\"x\":[88080384.0,132120576.0,176160768.0,220200960.0,264241152.0,308281344.0,352321536.0,396361728.0],\"y\":[63.25522,54.544,44.89394,37.204860000000004,36.299620000000004,34.867,34.6178,33.97814],\"type\":\"scatter\"},{\"line\":{\"color\":\"blue\",\"width\":3},\"marker\":{\"line\":{\"color\":\"black\",\"width\":1},\"size\":7,\"symbol\":\"star\"},\"mode\":\"lines+markers\",\"name\":\"MacNewgeoProb_64mpi_2omp\",\"x\":[100663296.0,125829120.0,150994944.0,176160768.0,201326592.0,226492416.0,251658240.0,276824064.0,301989888.0,327155712.0,352321536.0,377487360.0,402653184.0],\"y\":[33.2264,33.4048,32.2664,31.58736,30.67008,30.42016,29.63792,29.57648,29.22192,29.21136,28.65408,29.03136,28.44624],\"type\":\"scatter\"},{\"line\":{\"color\":\"red\",\"width\":3},\"marker\":{\"line\":{\"color\":\"black\",\"width\":1},\"size\":7,\"symbol\":\"star\"},\"mode\":\"lines+markers\",\"name\":\"MacNewgeoNonProb_64mpi_2omp\",\"x\":[100663296.0,125829120.0,150994944.0,176160768.0,201326592.0,226492416.0,251658240.0,276824064.0,301989888.0,327155712.0,352321536.0,377487360.0,402653184.0],\"y\":[73.50624,70.92112,54.85632,48.14752,38.4608,33.92832,31.004,30.22672,28.744,28.74512,27.8336,27.07712,27.136],\"type\":\"scatter\"},{\"line\":{\"color\":\"chartreuse\",\"width\":3},\"marker\":{\"line\":{\"color\":\"mediumvioletred\",\"width\":1},\"size\":7,\"symbol\":\"square-dot\"},\"mode\":\"lines+markers\",\"name\":\"MacNewgeoProb_112mpi_1omp\",\"x\":[176160768.0,264241152.0,308281344.0,352321536.0,396361728.0],\"y\":[28.93856,27.87526,27.550656,26.896044,27.226135999999997],\"type\":\"scatter\"},{\"line\":{\"color\":\"black\",\"width\":3},\"marker\":{\"line\":{\"color\":\"mediumvioletred\",\"width\":1},\"size\":7,\"symbol\":\"square-dot\"},\"mode\":\"lines+markers\",\"name\":\"MacNewgeoNonProb_112mpi_1omp\",\"x\":[176160768.0,220200960.0,264241152.0,308281344.0,352321536.0,396361728.0],\"y\":[25.955664000000002,23.743748,23.359196,23.952963999999998,23.125284,22.726844],\"type\":\"scatter\"},{\"line\":{\"color\":\"gold\",\"width\":3},\"marker\":{\"line\":{\"color\":\"black\",\"width\":1},\"size\":6,\"symbol\":\"triangle-up\"},\"mode\":\"lines+markers\",\"name\":\"MacNewgeoProb_128mpi_1omp\",\"x\":[201326592.0,251658240.0,301989888.0,352321536.0,402653184.0],\"y\":[30.435296,29.953824,29.70704,29.738912,29.205248],\"type\":\"scatter\"},{\"line\":{\"color\":\"dimgray\",\"width\":3},\"marker\":{\"line\":{\"color\":\"black\",\"width\":1},\"size\":6,\"symbol\":\"triangle-up\"},\"mode\":\"lines+markers\",\"name\":\"MacNewgeoNonProb_128mpi_1omp\",\"x\":[201326592.0,251658240.0,301989888.0,352321536.0,402653184.0],\"y\":[29.488256,28.0344,28.028704,27.14928,26.673408],\"type\":\"scatter\"}],                        {\"template\":{\"data\":{\"histogram2dcontour\":[{\"type\":\"histogram2dcontour\",\"colorbar\":{\"outlinewidth\":0,\"ticks\":\"\"},\"colorscale\":[[0.0,\"#0d0887\"],[0.1111111111111111,\"#46039f\"],[0.2222222222222222,\"#7201a8\"],[0.3333333333333333,\"#9c179e\"],[0.4444444444444444,\"#bd3786\"],[0.5555555555555556,\"#d8576b\"],[0.6666666666666666,\"#ed7953\"],[0.7777777777777778,\"#fb9f3a\"],[0.8888888888888888,\"#fdca26\"],[1.0,\"#f0f921\"]]}],\"choropleth\":[{\"type\":\"choropleth\",\"colorbar\":{\"outlinewidth\":0,\"ticks\":\"\"}}],\"histogram2d\":[{\"type\":\"histogram2d\",\"colorbar\":{\"outlinewidth\":0,\"ticks\":\"\"},\"colorscale\":[[0.0,\"#0d0887\"],[0.1111111111111111,\"#46039f\"],[0.2222222222222222,\"#7201a8\"],[0.3333333333333333,\"#9c179e\"],[0.4444444444444444,\"#bd3786\"],[0.5555555555555556,\"#d8576b\"],[0.6666666666666666,\"#ed7953\"],[0.7777777777777778,\"#fb9f3a\"],[0.8888888888888888,\"#fdca26\"],[1.0,\"#f0f921\"]]}],\"heatmap\":[{\"type\":\"heatmap\",\"colorbar\":{\"outlinewidth\":0,\"ticks\":\"\"},\"colorscale\":[[0.0,\"#0d0887\"],[0.1111111111111111,\"#46039f\"],[0.2222222222222222,\"#7201a8\"],[0.3333333333333333,\"#9c179e\"],[0.4444444444444444,\"#bd3786\"],[0.5555555555555556,\"#d8576b\"],[0.6666666666666666,\"#ed7953\"],[0.7777777777777778,\"#fb9f3a\"],[0.8888888888888888,\"#fdca26\"],[1.0,\"#f0f921\"]]}],\"heatmapgl\":[{\"type\":\"heatmapgl\",\"colorbar\":{\"outlinewidth\":0,\"ticks\":\"\"},\"colorscale\":[[0.0,\"#0d0887\"],[0.1111111111111111,\"#46039f\"],[0.2222222222222222,\"#7201a8\"],[0.3333333333333333,\"#9c179e\"],[0.4444444444444444,\"#bd3786\"],[0.5555555555555556,\"#d8576b\"],[0.6666666666666666,\"#ed7953\"],[0.7777777777777778,\"#fb9f3a\"],[0.8888888888888888,\"#fdca26\"],[1.0,\"#f0f921\"]]}],\"contourcarpet\":[{\"type\":\"contourcarpet\",\"colorbar\":{\"outlinewidth\":0,\"ticks\":\"\"}}],\"contour\":[{\"type\":\"contour\",\"colorbar\":{\"outlinewidth\":0,\"ticks\":\"\"},\"colorscale\":[[0.0,\"#0d0887\"],[0.1111111111111111,\"#46039f\"],[0.2222222222222222,\"#7201a8\"],[0.3333333333333333,\"#9c179e\"],[0.4444444444444444,\"#bd3786\"],[0.5555555555555556,\"#d8576b\"],[0.6666666666666666,\"#ed7953\"],[0.7777777777777778,\"#fb9f3a\"],[0.8888888888888888,\"#fdca26\"],[1.0,\"#f0f921\"]]}],\"surface\":[{\"type\":\"surface\",\"colorbar\":{\"outlinewidth\":0,\"ticks\":\"\"},\"colorscale\":[[0.0,\"#0d0887\"],[0.1111111111111111,\"#46039f\"],[0.2222222222222222,\"#7201a8\"],[0.3333333333333333,\"#9c179e\"],[0.4444444444444444,\"#bd3786\"],[0.5555555555555556,\"#d8576b\"],[0.6666666666666666,\"#ed7953\"],[0.7777777777777778,\"#fb9f3a\"],[0.8888888888888888,\"#fdca26\"],[1.0,\"#f0f921\"]]}],\"mesh3d\":[{\"type\":\"mesh3d\",\"colorbar\":{\"outlinewidth\":0,\"ticks\":\"\"}}],\"scatter\":[{\"fillpattern\":{\"fillmode\":\"overlay\",\"size\":10,\"solidity\":0.2},\"type\":\"scatter\"}],\"parcoords\":[{\"type\":\"parcoords\",\"line\":{\"colorbar\":{\"outlinewidth\":0,\"ticks\":\"\"}}}],\"scatterpolargl\":[{\"type\":\"scatterpolargl\",\"marker\":{\"colorbar\":{\"outlinewidth\":0,\"ticks\":\"\"}}}],\"bar\":[{\"error_x\":{\"color\":\"#2a3f5f\"},\"error_y\":{\"color\":\"#2a3f5f\"},\"marker\":{\"line\":{\"color\":\"#E5ECF6\",\"width\":0.5},\"pattern\":{\"fillmode\":\"overlay\",\"size\":10,\"solidity\":0.2}},\"type\":\"bar\"}],\"scattergeo\":[{\"type\":\"scattergeo\",\"marker\":{\"colorbar\":{\"outlinewidth\":0,\"ticks\":\"\"}}}],\"scatterpolar\":[{\"type\":\"scatterpolar\",\"marker\":{\"colorbar\":{\"outlinewidth\":0,\"ticks\":\"\"}}}],\"histogram\":[{\"marker\":{\"pattern\":{\"fillmode\":\"overlay\",\"size\":10,\"solidity\":0.2}},\"type\":\"histogram\"}],\"scattergl\":[{\"type\":\"scattergl\",\"marker\":{\"colorbar\":{\"outlinewidth\":0,\"ticks\":\"\"}}}],\"scatter3d\":[{\"type\":\"scatter3d\",\"line\":{\"colorbar\":{\"outlinewidth\":0,\"ticks\":\"\"}},\"marker\":{\"colorbar\":{\"outlinewidth\":0,\"ticks\":\"\"}}}],\"scattermapbox\":[{\"type\":\"scattermapbox\",\"marker\":{\"colorbar\":{\"outlinewidth\":0,\"ticks\":\"\"}}}],\"scatterternary\":[{\"type\":\"scatterternary\",\"marker\":{\"colorbar\":{\"outlinewidth\":0,\"ticks\":\"\"}}}],\"scattercarpet\":[{\"type\":\"scattercarpet\",\"marker\":{\"colorbar\":{\"outlinewidth\":0,\"ticks\":\"\"}}}],\"carpet\":[{\"aaxis\":{\"endlinecolor\":\"#2a3f5f\",\"gridcolor\":\"white\",\"linecolor\":\"white\",\"minorgridcolor\":\"white\",\"startlinecolor\":\"#2a3f5f\"},\"baxis\":{\"endlinecolor\":\"#2a3f5f\",\"gridcolor\":\"white\",\"linecolor\":\"white\",\"minorgridcolor\":\"white\",\"startlinecolor\":\"#2a3f5f\"},\"type\":\"carpet\"}],\"table\":[{\"cells\":{\"fill\":{\"color\":\"#EBF0F8\"},\"line\":{\"color\":\"white\"}},\"header\":{\"fill\":{\"color\":\"#C8D4E3\"},\"line\":{\"color\":\"white\"}},\"type\":\"table\"}],\"barpolar\":[{\"marker\":{\"line\":{\"color\":\"#E5ECF6\",\"width\":0.5},\"pattern\":{\"fillmode\":\"overlay\",\"size\":10,\"solidity\":0.2}},\"type\":\"barpolar\"}],\"pie\":[{\"automargin\":true,\"type\":\"pie\"}]},\"layout\":{\"autotypenumbers\":\"strict\",\"colorway\":[\"#636efa\",\"#EF553B\",\"#00cc96\",\"#ab63fa\",\"#FFA15A\",\"#19d3f3\",\"#FF6692\",\"#B6E880\",\"#FF97FF\",\"#FECB52\"],\"font\":{\"color\":\"#2a3f5f\"},\"hovermode\":\"closest\",\"hoverlabel\":{\"align\":\"left\"},\"paper_bgcolor\":\"white\",\"plot_bgcolor\":\"#E5ECF6\",\"polar\":{\"bgcolor\":\"#E5ECF6\",\"angularaxis\":{\"gridcolor\":\"white\",\"linecolor\":\"white\",\"ticks\":\"\"},\"radialaxis\":{\"gridcolor\":\"white\",\"linecolor\":\"white\",\"ticks\":\"\"}},\"ternary\":{\"bgcolor\":\"#E5ECF6\",\"aaxis\":{\"gridcolor\":\"white\",\"linecolor\":\"white\",\"ticks\":\"\"},\"baxis\":{\"gridcolor\":\"white\",\"linecolor\":\"white\",\"ticks\":\"\"},\"caxis\":{\"gridcolor\":\"white\",\"linecolor\":\"white\",\"ticks\":\"\"}},\"coloraxis\":{\"colorbar\":{\"outlinewidth\":0,\"ticks\":\"\"}},\"colorscale\":{\"sequential\":[[0.0,\"#0d0887\"],[0.1111111111111111,\"#46039f\"],[0.2222222222222222,\"#7201a8\"],[0.3333333333333333,\"#9c179e\"],[0.4444444444444444,\"#bd3786\"],[0.5555555555555556,\"#d8576b\"],[0.6666666666666666,\"#ed7953\"],[0.7777777777777778,\"#fb9f3a\"],[0.8888888888888888,\"#fdca26\"],[1.0,\"#f0f921\"]],\"sequentialminus\":[[0.0,\"#0d0887\"],[0.1111111111111111,\"#46039f\"],[0.2222222222222222,\"#7201a8\"],[0.3333333333333333,\"#9c179e\"],[0.4444444444444444,\"#bd3786\"],[0.5555555555555556,\"#d8576b\"],[0.6666666666666666,\"#ed7953\"],[0.7777777777777778,\"#fb9f3a\"],[0.8888888888888888,\"#fdca26\"],[1.0,\"#f0f921\"]],\"diverging\":[[0,\"#8e0152\"],[0.1,\"#c51b7d\"],[0.2,\"#de77ae\"],[0.3,\"#f1b6da\"],[0.4,\"#fde0ef\"],[0.5,\"#f7f7f7\"],[0.6,\"#e6f5d0\"],[0.7,\"#b8e186\"],[0.8,\"#7fbc41\"],[0.9,\"#4d9221\"],[1,\"#276419\"]]},\"xaxis\":{\"gridcolor\":\"white\",\"linecolor\":\"white\",\"ticks\":\"\",\"title\":{\"standoff\":15},\"zerolinecolor\":\"white\",\"automargin\":true,\"zerolinewidth\":2},\"yaxis\":{\"gridcolor\":\"white\",\"linecolor\":\"white\",\"ticks\":\"\",\"title\":{\"standoff\":15},\"zerolinecolor\":\"white\",\"automargin\":true,\"zerolinewidth\":2},\"scene\":{\"xaxis\":{\"backgroundcolor\":\"#E5ECF6\",\"gridcolor\":\"white\",\"linecolor\":\"white\",\"showbackground\":true,\"ticks\":\"\",\"zerolinecolor\":\"white\",\"gridwidth\":2},\"yaxis\":{\"backgroundcolor\":\"#E5ECF6\",\"gridcolor\":\"white\",\"linecolor\":\"white\",\"showbackground\":true,\"ticks\":\"\",\"zerolinecolor\":\"white\",\"gridwidth\":2},\"zaxis\":{\"backgroundcolor\":\"#E5ECF6\",\"gridcolor\":\"white\",\"linecolor\":\"white\",\"showbackground\":true,\"ticks\":\"\",\"zerolinecolor\":\"white\",\"gridwidth\":2}},\"shapedefaults\":{\"line\":{\"color\":\"#2a3f5f\"}},\"annotationdefaults\":{\"arrowcolor\":\"#2a3f5f\",\"arrowhead\":0,\"arrowwidth\":1},\"geo\":{\"bgcolor\":\"white\",\"landcolor\":\"#E5ECF6\",\"subunitcolor\":\"white\",\"showland\":true,\"showlakes\":true,\"lakecolor\":\"white\"},\"title\":{\"x\":0.05},\"mapbox\":{\"style\":\"light\"}}},\"shapes\":[{\"line\":{\"color\":\"green\",\"dash\":\"dash\",\"width\":3},\"type\":\"line\",\"x0\":80000000.0,\"x1\":80000000.0,\"xref\":\"x\",\"y0\":0,\"y1\":1,\"yref\":\"y domain\"}],\"annotations\":[{\"align\":\"left\",\"arrowcolor\":\"#636363\",\"arrowhead\":1,\"arrowsize\":1,\"arrowwidth\":2,\"ax\":-20,\"ay\":-30,\"font\":{\"color\":\"purple\",\"family\":\"Sans Serif\",\"size\":12},\"showarrow\":false,\"text\":\"LLC Size Per Node\",\"x\":\"80e6\",\"y\":130,\"yanchor\":\"bottom\"}],\"xaxis\":{\"title\":{\"text\":\"Dirc_Data_Mov\"},\"ticks\":\"outside\"},\"yaxis\":{\"title\":{\"text\":\"GFLOPs/Node\"},\"ticks\":\"outside\"},\"title\":{\"text\":\"\\\"Macro Newgeo: probempi vs nonprobempi\\\" GFlops Measurement\"}},                        {\"responsive\": true}                    ).then(function(){\n",
       "                            \n",
       "var gd = document.getElementById('4b9205b8-3dfc-40a3-966a-266dc2ff527e');\n",
       "var x = new MutationObserver(function (mutations, observer) {{\n",
       "        var display = window.getComputedStyle(gd).display;\n",
       "        if (!display || display === 'none') {{\n",
       "            console.log([gd, 'removed!']);\n",
       "            Plotly.purge(gd);\n",
       "            observer.disconnect();\n",
       "        }}\n",
       "}});\n",
       "\n",
       "// Listen for the removal of the full notebook cells\n",
       "var notebookContainer = gd.closest('#notebook-container');\n",
       "if (notebookContainer) {{\n",
       "    x.observe(notebookContainer, {childList: true});\n",
       "}}\n",
       "\n",
       "// Listen for the clearing of the current output cell\n",
       "var outputEl = gd.closest('.output');\n",
       "if (outputEl) {{\n",
       "    x.observe(outputEl, {childList: true});\n",
       "}}\n",
       "\n",
       "                        })                };                });            </script>        </div>"
      ]
     },
     "metadata": {},
     "output_type": "display_data"
    }
   ],
   "source": [
    "fig = go.Figure()\n",
    "\n",
    "# 1---\n",
    "fig.add_trace(go.Scatter(x=(dfn4MacNewgeoProb_32mpi_4omp.Dirc_Data_Mov*(dfn4MacNewgeoProb_32mpi_4omp.MPI_size/4)), \n",
    "                         y=(dfn4MacNewgeoProb_32mpi_4omp.GFLOPS*(dfn4MacNewgeoProb_32mpi_4omp.MPI_size/4)), \n",
    "                         mode='lines+markers', \n",
    "                         name='MacNewgeoProb_32mpi_4omp',\n",
    "                         line=dict(color='magenta',width=3),\n",
    "                         marker=dict(symbol='hexagon',size=9, line=dict(color='yellow',width=1))))\n",
    "\n",
    "fig.add_trace(go.Scatter(x=(dfn4MacNewgeoNonProb_32mpi_4omp.Dirc_Data_Mov*(dfn4MacNewgeoNonProb_32mpi_4omp.MPI_size/4)), \n",
    "                         y=(dfn4MacNewgeoNonProb_32mpi_4omp.GFLOPS*(dfn4MacNewgeoNonProb_32mpi_4omp.MPI_size/4)), \n",
    "                         mode='lines+markers', \n",
    "                         name='MacNewgeoNonProb_32mpi_4omp',\n",
    "                         line=dict(color='darkcyan',width=3),\n",
    "                         marker=dict(symbol='hexagon',size=9, line=dict(color='yellow',width=1))))\n",
    "\n",
    "\n",
    "# 2----\n",
    "fig.add_trace(go.Scatter(x=(dfn4MacNewgeoProb_40mpi_3omp.Dirc_Data_Mov*(dfn4MacNewgeoProb_40mpi_3omp.MPI_size/4)), \n",
    "                         y=(dfn4MacNewgeoProb_40mpi_3omp.GFLOPS*(dfn4MacNewgeoProb_40mpi_3omp.MPI_size/4)), \n",
    "                         mode='lines+markers', \n",
    "                         name='MacNewgeoProb_40mpi_3omp',\n",
    "                         line=dict(color='sandybrown',width=3),\n",
    "                         marker=dict(symbol='diamond',size=5,line=dict(color='MediumPurple',width=2))))\n",
    "\n",
    "fig.add_trace(go.Scatter(x=(dfn4MacNewgeoNonProb_40mpi_3omp.Dirc_Data_Mov*(dfn4MacNewgeoNonProb_40mpi_3omp.MPI_size/4)), \n",
    "                         y=(dfn4MacNewgeoNonProb_40mpi_3omp.GFLOPS*(dfn4MacNewgeoNonProb_40mpi_3omp.MPI_size/4)), \n",
    "                         mode='lines+markers', \n",
    "                         name='MacNewgeoNonProb_40mpi_3omp',\n",
    "                         line=dict(color='royalblue',width=3),\n",
    "                         marker=dict(symbol='diamond',size=5,line=dict(color='MediumPurple',width=2))))\n",
    "\n",
    "\n",
    "# 3----\n",
    "fig.add_trace(go.Scatter(x=(dfn4MacNewgeoProb_56mpi_2omp.Dirc_Data_Mov*(dfn4MacNewgeoProb_56mpi_2omp.MPI_size/4)), \n",
    "                         y=(dfn4MacNewgeoProb_56mpi_2omp.GFLOPS*(dfn4MacNewgeoProb_56mpi_2omp.MPI_size/4)), \n",
    "                         mode='lines+markers', \n",
    "                         name='MacNewgeoProb_56mpi_2omp',\n",
    "                         line=dict(color='cyan',width=3),\n",
    "                         marker=dict(symbol='circle',size=7,line=dict(color='Purple',width=2))))\n",
    "\n",
    "fig.add_trace(go.Scatter(x=(dfn4MacNewgeoNonProb_56mpi_2omp.Dirc_Data_Mov*(dfn4MacNewgeoNonProb_56mpi_2omp.MPI_size/4)), \n",
    "                         y=(dfn4MacNewgeoNonProb_56mpi_2omp.GFLOPS*(dfn4MacNewgeoNonProb_56mpi_2omp.MPI_size/4)), \n",
    "                         mode='lines+markers', \n",
    "                         name='MacNewgeoNonProb_56mpi_2omp',\n",
    "                         line=dict(color='darkblue',width=3),\n",
    "                         marker=dict(symbol='circle',size=7, line=dict(color='tomato',width=2))))\n",
    "\n",
    "\n",
    "# 4----\n",
    "fig.add_trace(go.Scatter(x=(dfn4MacNewgeoProb_64mpi_2omp.Dirc_Data_Mov*(dfn4MacNewgeoProb_64mpi_2omp.MPI_size/4)), \n",
    "                         y=(dfn4MacNewgeoProb_64mpi_2omp.GFLOPS*(dfn4MacNewgeoProb_64mpi_2omp.MPI_size/4)), \n",
    "                         mode='lines+markers', \n",
    "                         name='MacNewgeoProb_64mpi_2omp',\n",
    "                         line=dict(color='blue',width=3),\n",
    "                         marker=dict(symbol='star',size=7, line=dict(color='black',width=1))))\n",
    "\n",
    "fig.add_trace(go.Scatter(x=(dfn4MacNewgeoNonProb_64mpi_2omp.Dirc_Data_Mov*(dfn4MacNewgeoNonProb_64mpi_2omp.MPI_size/4)), \n",
    "                         y=(dfn4MacNewgeoNonProb_64mpi_2omp.GFLOPS*(dfn4MacNewgeoNonProb_64mpi_2omp.MPI_size/4)), \n",
    "                         mode='lines+markers', \n",
    "                         name='MacNewgeoNonProb_64mpi_2omp',\n",
    "                          line=dict(color='red',width=3),\n",
    "                         marker=dict(symbol='star',size=7, line=dict(color='black',width=1))))\n",
    "\n",
    "\n",
    "# 5----\n",
    "fig.add_trace(go.Scatter(x=(dfn4MacNewgeoProb_112mpi_1omp.Dirc_Data_Mov*(dfn4MacNewgeoProb_112mpi_1omp.MPI_size/4)), \n",
    "                         y=(dfn4MacNewgeoProb_112mpi_1omp.GFLOPS*(dfn4MacNewgeoProb_112mpi_1omp.MPI_size/4)), \n",
    "                         mode='lines+markers', \n",
    "                         name='MacNewgeoProb_112mpi_1omp',\n",
    "                         line=dict(color='chartreuse',width=3),\n",
    "                         marker=dict(symbol='square-dot',size=7, line=dict(color='mediumvioletred',width=1))))\n",
    "\n",
    "fig.add_trace(go.Scatter(x=(dfn4MacNewgeoNonProb_112mpi_1omp.Dirc_Data_Mov*(dfn4MacNewgeoNonProb_112mpi_1omp.MPI_size/4)), \n",
    "                         y=(dfn4MacNewgeoNonProb_112mpi_1omp.GFLOPS*(dfn4MacNewgeoNonProb_112mpi_1omp.MPI_size/4)), \n",
    "                         mode='lines+markers', \n",
    "                         name='MacNewgeoNonProb_112mpi_1omp',\n",
    "                         line=dict(color='black',width=3),\n",
    "                         marker=dict(symbol='square-dot',size=7, line=dict(color='mediumvioletred',width=1))))\n",
    "\n",
    "# 6----\n",
    "fig.add_trace(go.Scatter(x=(dfn4MacNewgeoProb_128mpi_1omp.Dirc_Data_Mov*(dfn4MacNewgeoProb_128mpi_1omp.MPI_size/4)), \n",
    "                         y=(dfn4MacNewgeoProb_128mpi_1omp.GFLOPS*(dfn4MacNewgeoProb_128mpi_1omp.MPI_size/4)), \n",
    "                         mode='lines+markers', \n",
    "                         name='MacNewgeoProb_128mpi_1omp',\n",
    "                         line=dict(color='gold',width=3),\n",
    "                         marker=dict(symbol='triangle-up',size=6, line=dict(color='black',width=1))))\n",
    "\n",
    "fig.add_trace(go.Scatter(x=(dfn4MacNewgeoNonProb_128mpi_1omp.Dirc_Data_Mov*(dfn4MacNewgeoNonProb_128mpi_1omp.MPI_size/4)), \n",
    "                         y=(dfn4MacNewgeoNonProb_128mpi_1omp.GFLOPS*(dfn4MacNewgeoNonProb_128mpi_1omp.MPI_size/4)), \n",
    "                         mode='lines+markers', \n",
    "                         name='MacNewgeoNonProb_128mpi_1omp',\n",
    "                         line=dict(color='dimgray',width=3),\n",
    "                         marker=dict(symbol='triangle-up',size=6, line=dict(color='black',width=1))))\n",
    "\n",
    "\n",
    "# Adding a vertical line\n",
    "fig.add_vline(x=80e6, line_width=3, line_dash=\"dash\", line_color=\"green\")\n",
    "# fig.add_hline(y=1024, line_width=3, line_dash=\"dash\", line_color=\"red\")\n",
    "\n",
    "# Add annotation\n",
    "fig.add_annotation(\n",
    "    x='80e6'\n",
    "    , y=130\n",
    "    , text=f'LLC Size Per Node'\n",
    "    , yanchor='bottom'\n",
    "    , showarrow=False\n",
    "    , arrowhead=1\n",
    "    , arrowsize=1\n",
    "    , arrowwidth=2\n",
    "    , arrowcolor=\"#636363\"\n",
    "    , ax=-20\n",
    "    , ay=-30\n",
    "    , font=dict(size=12, color=\"purple\", family=\"Sans Serif\")\n",
    "    , align=\"left\"\n",
    "    ,)\n",
    "\n",
    "fig.update_layout(title='\"Macro Newgeo: probempi vs nonprobempi\" GFlops Measurement',\n",
    "                  xaxis_title='Dirc_Data_Mov', yaxis_title='GFLOPs/Node', \n",
    "                  xaxis=dict(ticks=\"outside\"),  \n",
    "                  yaxis=dict(ticks=\"outside\"))"
   ]
  },
  {
   "cell_type": "markdown",
   "id": "5fa4a312",
   "metadata": {},
   "source": [
    "## Bandwidth - Macro Newgeometry: Probempi vs Nonprobempi"
   ]
  },
  {
   "cell_type": "code",
   "execution_count": 26,
   "id": "0760ef34",
   "metadata": {},
   "outputs": [
    {
     "data": {
      "application/vnd.plotly.v1+json": {
       "config": {
        "plotlyServerURL": "https://plot.ly"
       },
       "data": [
        {
         "line": {
          "color": "magenta",
          "width": 3
         },
         "marker": {
          "line": {
           "color": "yellow",
           "width": 1
          },
          "size": 9,
          "symbol": "hexagon"
         },
         "mode": "lines+markers",
         "name": "MacNewgeoProb_32mpi_4omp",
         "type": "scatter",
         "x": [
          50331648,
          62914560,
          75497472,
          88080384,
          100663296,
          113246208,
          125829120,
          138412032,
          150994944,
          163577856,
          176160768,
          188743680,
          201326592,
          213909504,
          226492416,
          239075328,
          251658240,
          264241152,
          276824064,
          289406976,
          301989888,
          314572800,
          327155712,
          339738624,
          352321536,
          364904448,
          377487360,
          390070272,
          402653184
         ],
         "y": [
          68.51704,
          72.02232,
          72.55728,
          73.10424,
          73.7212,
          73.988,
          72.96208,
          73.09704,
          72.56184,
          71.28072,
          70.17744,
          68.9064,
          67.4224,
          66.72832,
          66.56544,
          65.6956,
          64.84304,
          64.7696,
          64.4256,
          63.90264,
          63.79992,
          62.918,
          63.18056,
          63.31376,
          62.29592,
          63.16168,
          62.62776,
          62.16056,
          61.6376
         ]
        },
        {
         "line": {
          "color": "darkcyan",
          "width": 3
         },
         "marker": {
          "line": {
           "color": "yellow",
           "width": 1
          },
          "size": 9,
          "symbol": "hexagon"
         },
         "mode": "lines+markers",
         "name": "MacNewgeoNonProb_32mpi_4omp",
         "type": "scatter",
         "x": [
          50331648,
          62914560,
          75497472,
          88080384,
          100663296,
          113246208,
          125829120,
          138412032,
          150994944,
          163577856,
          176160768,
          188743680,
          201326592,
          213909504,
          226492416,
          239075328,
          251658240,
          264241152,
          276824064,
          289406976,
          301989888,
          314572800,
          327155712,
          339738624,
          352321536,
          364904448,
          377487360,
          390070272,
          402653184
         ],
         "y": [
          111.1512,
          123.5056,
          133.5544,
          146.848,
          151.9864,
          151.6984,
          143.6224,
          140.0168,
          132.9576,
          133.068,
          126.4192,
          121.9832,
          110.9488,
          110.6824,
          104.1624,
          98.428,
          95.4152,
          93.4896,
          86.3336,
          87.2728,
          86.3952,
          86.78,
          84.9376,
          84.0288,
          82.4688,
          82.5576,
          82.6872,
          82.0872,
          81.3776
         ]
        },
        {
         "line": {
          "color": "sandybrown",
          "width": 3
         },
         "marker": {
          "line": {
           "color": "MediumPurple",
           "width": 2
          },
          "size": 5,
          "symbol": "diamond"
         },
         "mode": "lines+markers",
         "name": "MacNewgeoProb_40mpi_3omp",
         "type": "scatter",
         "x": [
          62914560,
          94371840,
          125829120,
          157286400,
          188743680,
          220200960,
          251658240,
          283115520,
          314572800,
          346030080,
          377487360
         ],
         "y": [
          68.92089999999999,
          70.8472,
          71.5333,
          70.0765,
          70.1614,
          67.1692,
          66.29679999999999,
          66.2621,
          62.856300000000005,
          62.941599999999994,
          63.0762
         ]
        },
        {
         "line": {
          "color": "royalblue",
          "width": 3
         },
         "marker": {
          "line": {
           "color": "MediumPurple",
           "width": 2
          },
          "size": 5,
          "symbol": "diamond"
         },
         "mode": "lines+markers",
         "name": "MacNewgeoNonProb_40mpi_3omp",
         "type": "scatter",
         "x": [
          62914560,
          94371840,
          125829120,
          157286400,
          188743680,
          220200960,
          251658240,
          283115520,
          314572800,
          346030080,
          377487360
         ],
         "y": [
          112.521,
          127.13499999999999,
          126.31500000000001,
          115.21900000000001,
          104.039,
          96.0233,
          86.8388,
          84.2503,
          80.1386,
          80.0654,
          74.5296
         ]
        },
        {
         "line": {
          "color": "cyan",
          "width": 3
         },
         "marker": {
          "line": {
           "color": "Purple",
           "width": 2
          },
          "size": 7,
          "symbol": "circle"
         },
         "mode": "lines+markers",
         "name": "MacNewgeoProb_56mpi_2omp",
         "type": "scatter",
         "x": [
          88080384,
          132120576,
          176160768,
          220200960,
          264241152,
          308281344,
          352321536,
          396361728
         ],
         "y": [
          67.78366,
          69.62214,
          68.18448000000001,
          64.53342,
          63.61138,
          62.385259999999995,
          61.0148,
          61.46896
         ]
        },
        {
         "line": {
          "color": "darkblue",
          "width": 3
         },
         "marker": {
          "line": {
           "color": "tomato",
           "width": 2
          },
          "size": 7,
          "symbol": "circle"
         },
         "mode": "lines+markers",
         "name": "MacNewgeoNonProb_56mpi_2omp",
         "type": "scatter",
         "x": [
          88080384,
          132120576,
          176160768,
          220200960,
          264241152,
          308281344,
          352321536,
          396361728
         ],
         "y": [
          147.21280000000002,
          126.93884,
          104.48060000000001,
          86.5858,
          84.47922,
          81.14498,
          80.56496,
          79.07648
         ]
        },
        {
         "line": {
          "color": "blue",
          "width": 3
         },
         "marker": {
          "line": {
           "color": "black",
           "width": 1
          },
          "size": 7,
          "symbol": "star"
         },
         "mode": "lines+markers",
         "name": "MacNewgeoProb_64mpi_2omp",
         "type": "scatter",
         "x": [
          100663296,
          125829120,
          150994944,
          176160768,
          201326592,
          226492416,
          251658240,
          276824064,
          301989888,
          327155712,
          352321536,
          377487360,
          402653184
         ],
         "y": [
          77.32688,
          77.74208,
          75.0928,
          73.51232,
          71.3776,
          70.79584,
          68.97568,
          68.83232,
          68.00736,
          67.98304,
          66.68592,
          67.564,
          66.2024
         ]
        },
        {
         "line": {
          "color": "red",
          "width": 3
         },
         "marker": {
          "line": {
           "color": "black",
           "width": 1
          },
          "size": 7,
          "symbol": "star"
         },
         "mode": "lines+markers",
         "name": "MacNewgeoNonProb_64mpi_2omp",
         "type": "scatter",
         "x": [
          100663296,
          125829120,
          150994944,
          176160768,
          201326592,
          226492416,
          251658240,
          276824064,
          301989888,
          327155712,
          352321536,
          377487360,
          402653184
         ],
         "y": [
          171.0688,
          165.0528,
          127.6656,
          112.05232,
          89.50864,
          78.96064,
          72.15488,
          70.34576,
          66.89504,
          66.89776,
          64.77648,
          63.01584,
          63.15296
         ]
        },
        {
         "line": {
          "color": "chartreuse",
          "width": 3
         },
         "marker": {
          "line": {
           "color": "mediumvioletred",
           "width": 1
          },
          "size": 7,
          "symbol": "square-dot"
         },
         "mode": "lines+markers",
         "name": "MacNewgeoProb_112mpi_1omp",
         "type": "scatter",
         "x": [
          176160768,
          264241152,
          308281344,
          352321536,
          396361728
         ],
         "y": [
          67.34783999999999,
          64.87348,
          64.11804000000001,
          62.59456,
          63.3626
         ]
        },
        {
         "line": {
          "color": "black",
          "width": 3
         },
         "marker": {
          "line": {
           "color": "mediumvioletred",
           "width": 1
          },
          "size": 7,
          "symbol": "square-dot"
         },
         "mode": "lines+markers",
         "name": "MacNewgeoNonProb_112mpi_1omp",
         "type": "scatter",
         "x": [
          176160768,
          220200960,
          264241152,
          308281344,
          352321536,
          396361728
         ],
         "y": [
          60.4058,
          55.25828,
          54.36312,
          55.7452,
          53.818799999999996,
          52.89144
         ]
        },
        {
         "line": {
          "color": "gold",
          "width": 3
         },
         "marker": {
          "line": {
           "color": "black",
           "width": 1
          },
          "size": 6,
          "symbol": "triangle-up"
         },
         "mode": "lines+markers",
         "name": "MacNewgeoProb_128mpi_1omp",
         "type": "scatter",
         "x": [
          201326592,
          251658240,
          301989888,
          352321536,
          402653184
         ],
         "y": [
          70.83136,
          69.71072,
          69.13632,
          69.21056,
          67.96864
         ]
        },
        {
         "line": {
          "color": "dimgray",
          "width": 3
         },
         "marker": {
          "line": {
           "color": "black",
           "width": 1
          },
          "size": 6,
          "symbol": "triangle-up"
         },
         "mode": "lines+markers",
         "name": "MacNewgeoNonProb_128mpi_1omp",
         "type": "scatter",
         "x": [
          201326592,
          251658240,
          301989888,
          352321536,
          402653184
         ],
         "y": [
          68.6272,
          65.24384,
          65.2304,
          63.18368,
          62.07616
         ]
        }
       ],
       "layout": {
        "annotations": [
         {
          "align": "left",
          "arrowcolor": "#636363",
          "arrowhead": 1,
          "arrowsize": 1,
          "arrowwidth": 2,
          "ax": -20,
          "ay": -30,
          "font": {
           "color": "purple",
           "family": "Sans Serif",
           "size": 12
          },
          "showarrow": false,
          "text": "LLC Size Per Node: 80M",
          "x": "80e6",
          "y": 280,
          "yanchor": "bottom"
         },
         {
          "align": "left",
          "arrowcolor": "#636363",
          "arrowhead": 1,
          "arrowsize": 1,
          "arrowwidth": 2,
          "ax": -20,
          "ay": -30,
          "font": {
           "color": "orange",
           "family": "Sans Serif",
           "size": 12
          },
          "showarrow": false,
          "text": "Max Bandwidth Per Node",
          "x": "130e6",
          "y": 155,
          "yanchor": "bottom"
         }
        ],
        "legend": {
         "bordercolor": "black",
         "borderwidth": 1
        },
        "shapes": [
         {
          "line": {
           "color": "green",
           "dash": "dot",
           "width": 3
          },
          "type": "line",
          "x0": 80000000,
          "x1": 80000000,
          "xref": "x",
          "y0": 0,
          "y1": 1,
          "yref": "y domain"
         },
         {
          "line": {
           "color": "red",
           "dash": "dash",
           "width": 3
          },
          "type": "line",
          "x0": 0,
          "x1": 1,
          "xref": "x domain",
          "y0": 153,
          "y1": 153,
          "yref": "y"
         }
        ],
        "template": {
         "data": {
          "bar": [
           {
            "error_x": {
             "color": "#2a3f5f"
            },
            "error_y": {
             "color": "#2a3f5f"
            },
            "marker": {
             "line": {
              "color": "#E5ECF6",
              "width": 0.5
             },
             "pattern": {
              "fillmode": "overlay",
              "size": 10,
              "solidity": 0.2
             }
            },
            "type": "bar"
           }
          ],
          "barpolar": [
           {
            "marker": {
             "line": {
              "color": "#E5ECF6",
              "width": 0.5
             },
             "pattern": {
              "fillmode": "overlay",
              "size": 10,
              "solidity": 0.2
             }
            },
            "type": "barpolar"
           }
          ],
          "carpet": [
           {
            "aaxis": {
             "endlinecolor": "#2a3f5f",
             "gridcolor": "white",
             "linecolor": "white",
             "minorgridcolor": "white",
             "startlinecolor": "#2a3f5f"
            },
            "baxis": {
             "endlinecolor": "#2a3f5f",
             "gridcolor": "white",
             "linecolor": "white",
             "minorgridcolor": "white",
             "startlinecolor": "#2a3f5f"
            },
            "type": "carpet"
           }
          ],
          "choropleth": [
           {
            "colorbar": {
             "outlinewidth": 0,
             "ticks": ""
            },
            "type": "choropleth"
           }
          ],
          "contour": [
           {
            "colorbar": {
             "outlinewidth": 0,
             "ticks": ""
            },
            "colorscale": [
             [
              0,
              "#0d0887"
             ],
             [
              0.1111111111111111,
              "#46039f"
             ],
             [
              0.2222222222222222,
              "#7201a8"
             ],
             [
              0.3333333333333333,
              "#9c179e"
             ],
             [
              0.4444444444444444,
              "#bd3786"
             ],
             [
              0.5555555555555556,
              "#d8576b"
             ],
             [
              0.6666666666666666,
              "#ed7953"
             ],
             [
              0.7777777777777778,
              "#fb9f3a"
             ],
             [
              0.8888888888888888,
              "#fdca26"
             ],
             [
              1,
              "#f0f921"
             ]
            ],
            "type": "contour"
           }
          ],
          "contourcarpet": [
           {
            "colorbar": {
             "outlinewidth": 0,
             "ticks": ""
            },
            "type": "contourcarpet"
           }
          ],
          "heatmap": [
           {
            "colorbar": {
             "outlinewidth": 0,
             "ticks": ""
            },
            "colorscale": [
             [
              0,
              "#0d0887"
             ],
             [
              0.1111111111111111,
              "#46039f"
             ],
             [
              0.2222222222222222,
              "#7201a8"
             ],
             [
              0.3333333333333333,
              "#9c179e"
             ],
             [
              0.4444444444444444,
              "#bd3786"
             ],
             [
              0.5555555555555556,
              "#d8576b"
             ],
             [
              0.6666666666666666,
              "#ed7953"
             ],
             [
              0.7777777777777778,
              "#fb9f3a"
             ],
             [
              0.8888888888888888,
              "#fdca26"
             ],
             [
              1,
              "#f0f921"
             ]
            ],
            "type": "heatmap"
           }
          ],
          "heatmapgl": [
           {
            "colorbar": {
             "outlinewidth": 0,
             "ticks": ""
            },
            "colorscale": [
             [
              0,
              "#0d0887"
             ],
             [
              0.1111111111111111,
              "#46039f"
             ],
             [
              0.2222222222222222,
              "#7201a8"
             ],
             [
              0.3333333333333333,
              "#9c179e"
             ],
             [
              0.4444444444444444,
              "#bd3786"
             ],
             [
              0.5555555555555556,
              "#d8576b"
             ],
             [
              0.6666666666666666,
              "#ed7953"
             ],
             [
              0.7777777777777778,
              "#fb9f3a"
             ],
             [
              0.8888888888888888,
              "#fdca26"
             ],
             [
              1,
              "#f0f921"
             ]
            ],
            "type": "heatmapgl"
           }
          ],
          "histogram": [
           {
            "marker": {
             "pattern": {
              "fillmode": "overlay",
              "size": 10,
              "solidity": 0.2
             }
            },
            "type": "histogram"
           }
          ],
          "histogram2d": [
           {
            "colorbar": {
             "outlinewidth": 0,
             "ticks": ""
            },
            "colorscale": [
             [
              0,
              "#0d0887"
             ],
             [
              0.1111111111111111,
              "#46039f"
             ],
             [
              0.2222222222222222,
              "#7201a8"
             ],
             [
              0.3333333333333333,
              "#9c179e"
             ],
             [
              0.4444444444444444,
              "#bd3786"
             ],
             [
              0.5555555555555556,
              "#d8576b"
             ],
             [
              0.6666666666666666,
              "#ed7953"
             ],
             [
              0.7777777777777778,
              "#fb9f3a"
             ],
             [
              0.8888888888888888,
              "#fdca26"
             ],
             [
              1,
              "#f0f921"
             ]
            ],
            "type": "histogram2d"
           }
          ],
          "histogram2dcontour": [
           {
            "colorbar": {
             "outlinewidth": 0,
             "ticks": ""
            },
            "colorscale": [
             [
              0,
              "#0d0887"
             ],
             [
              0.1111111111111111,
              "#46039f"
             ],
             [
              0.2222222222222222,
              "#7201a8"
             ],
             [
              0.3333333333333333,
              "#9c179e"
             ],
             [
              0.4444444444444444,
              "#bd3786"
             ],
             [
              0.5555555555555556,
              "#d8576b"
             ],
             [
              0.6666666666666666,
              "#ed7953"
             ],
             [
              0.7777777777777778,
              "#fb9f3a"
             ],
             [
              0.8888888888888888,
              "#fdca26"
             ],
             [
              1,
              "#f0f921"
             ]
            ],
            "type": "histogram2dcontour"
           }
          ],
          "mesh3d": [
           {
            "colorbar": {
             "outlinewidth": 0,
             "ticks": ""
            },
            "type": "mesh3d"
           }
          ],
          "parcoords": [
           {
            "line": {
             "colorbar": {
              "outlinewidth": 0,
              "ticks": ""
             }
            },
            "type": "parcoords"
           }
          ],
          "pie": [
           {
            "automargin": true,
            "type": "pie"
           }
          ],
          "scatter": [
           {
            "fillpattern": {
             "fillmode": "overlay",
             "size": 10,
             "solidity": 0.2
            },
            "type": "scatter"
           }
          ],
          "scatter3d": [
           {
            "line": {
             "colorbar": {
              "outlinewidth": 0,
              "ticks": ""
             }
            },
            "marker": {
             "colorbar": {
              "outlinewidth": 0,
              "ticks": ""
             }
            },
            "type": "scatter3d"
           }
          ],
          "scattercarpet": [
           {
            "marker": {
             "colorbar": {
              "outlinewidth": 0,
              "ticks": ""
             }
            },
            "type": "scattercarpet"
           }
          ],
          "scattergeo": [
           {
            "marker": {
             "colorbar": {
              "outlinewidth": 0,
              "ticks": ""
             }
            },
            "type": "scattergeo"
           }
          ],
          "scattergl": [
           {
            "marker": {
             "colorbar": {
              "outlinewidth": 0,
              "ticks": ""
             }
            },
            "type": "scattergl"
           }
          ],
          "scattermapbox": [
           {
            "marker": {
             "colorbar": {
              "outlinewidth": 0,
              "ticks": ""
             }
            },
            "type": "scattermapbox"
           }
          ],
          "scatterpolar": [
           {
            "marker": {
             "colorbar": {
              "outlinewidth": 0,
              "ticks": ""
             }
            },
            "type": "scatterpolar"
           }
          ],
          "scatterpolargl": [
           {
            "marker": {
             "colorbar": {
              "outlinewidth": 0,
              "ticks": ""
             }
            },
            "type": "scatterpolargl"
           }
          ],
          "scatterternary": [
           {
            "marker": {
             "colorbar": {
              "outlinewidth": 0,
              "ticks": ""
             }
            },
            "type": "scatterternary"
           }
          ],
          "surface": [
           {
            "colorbar": {
             "outlinewidth": 0,
             "ticks": ""
            },
            "colorscale": [
             [
              0,
              "#0d0887"
             ],
             [
              0.1111111111111111,
              "#46039f"
             ],
             [
              0.2222222222222222,
              "#7201a8"
             ],
             [
              0.3333333333333333,
              "#9c179e"
             ],
             [
              0.4444444444444444,
              "#bd3786"
             ],
             [
              0.5555555555555556,
              "#d8576b"
             ],
             [
              0.6666666666666666,
              "#ed7953"
             ],
             [
              0.7777777777777778,
              "#fb9f3a"
             ],
             [
              0.8888888888888888,
              "#fdca26"
             ],
             [
              1,
              "#f0f921"
             ]
            ],
            "type": "surface"
           }
          ],
          "table": [
           {
            "cells": {
             "fill": {
              "color": "#EBF0F8"
             },
             "line": {
              "color": "white"
             }
            },
            "header": {
             "fill": {
              "color": "#C8D4E3"
             },
             "line": {
              "color": "white"
             }
            },
            "type": "table"
           }
          ]
         },
         "layout": {
          "annotationdefaults": {
           "arrowcolor": "#2a3f5f",
           "arrowhead": 0,
           "arrowwidth": 1
          },
          "autotypenumbers": "strict",
          "coloraxis": {
           "colorbar": {
            "outlinewidth": 0,
            "ticks": ""
           }
          },
          "colorscale": {
           "diverging": [
            [
             0,
             "#8e0152"
            ],
            [
             0.1,
             "#c51b7d"
            ],
            [
             0.2,
             "#de77ae"
            ],
            [
             0.3,
             "#f1b6da"
            ],
            [
             0.4,
             "#fde0ef"
            ],
            [
             0.5,
             "#f7f7f7"
            ],
            [
             0.6,
             "#e6f5d0"
            ],
            [
             0.7,
             "#b8e186"
            ],
            [
             0.8,
             "#7fbc41"
            ],
            [
             0.9,
             "#4d9221"
            ],
            [
             1,
             "#276419"
            ]
           ],
           "sequential": [
            [
             0,
             "#0d0887"
            ],
            [
             0.1111111111111111,
             "#46039f"
            ],
            [
             0.2222222222222222,
             "#7201a8"
            ],
            [
             0.3333333333333333,
             "#9c179e"
            ],
            [
             0.4444444444444444,
             "#bd3786"
            ],
            [
             0.5555555555555556,
             "#d8576b"
            ],
            [
             0.6666666666666666,
             "#ed7953"
            ],
            [
             0.7777777777777778,
             "#fb9f3a"
            ],
            [
             0.8888888888888888,
             "#fdca26"
            ],
            [
             1,
             "#f0f921"
            ]
           ],
           "sequentialminus": [
            [
             0,
             "#0d0887"
            ],
            [
             0.1111111111111111,
             "#46039f"
            ],
            [
             0.2222222222222222,
             "#7201a8"
            ],
            [
             0.3333333333333333,
             "#9c179e"
            ],
            [
             0.4444444444444444,
             "#bd3786"
            ],
            [
             0.5555555555555556,
             "#d8576b"
            ],
            [
             0.6666666666666666,
             "#ed7953"
            ],
            [
             0.7777777777777778,
             "#fb9f3a"
            ],
            [
             0.8888888888888888,
             "#fdca26"
            ],
            [
             1,
             "#f0f921"
            ]
           ]
          },
          "colorway": [
           "#636efa",
           "#EF553B",
           "#00cc96",
           "#ab63fa",
           "#FFA15A",
           "#19d3f3",
           "#FF6692",
           "#B6E880",
           "#FF97FF",
           "#FECB52"
          ],
          "font": {
           "color": "#2a3f5f"
          },
          "geo": {
           "bgcolor": "white",
           "lakecolor": "white",
           "landcolor": "#E5ECF6",
           "showlakes": true,
           "showland": true,
           "subunitcolor": "white"
          },
          "hoverlabel": {
           "align": "left"
          },
          "hovermode": "closest",
          "mapbox": {
           "style": "light"
          },
          "paper_bgcolor": "white",
          "plot_bgcolor": "#E5ECF6",
          "polar": {
           "angularaxis": {
            "gridcolor": "white",
            "linecolor": "white",
            "ticks": ""
           },
           "bgcolor": "#E5ECF6",
           "radialaxis": {
            "gridcolor": "white",
            "linecolor": "white",
            "ticks": ""
           }
          },
          "scene": {
           "xaxis": {
            "backgroundcolor": "#E5ECF6",
            "gridcolor": "white",
            "gridwidth": 2,
            "linecolor": "white",
            "showbackground": true,
            "ticks": "",
            "zerolinecolor": "white"
           },
           "yaxis": {
            "backgroundcolor": "#E5ECF6",
            "gridcolor": "white",
            "gridwidth": 2,
            "linecolor": "white",
            "showbackground": true,
            "ticks": "",
            "zerolinecolor": "white"
           },
           "zaxis": {
            "backgroundcolor": "#E5ECF6",
            "gridcolor": "white",
            "gridwidth": 2,
            "linecolor": "white",
            "showbackground": true,
            "ticks": "",
            "zerolinecolor": "white"
           }
          },
          "shapedefaults": {
           "line": {
            "color": "#2a3f5f"
           }
          },
          "ternary": {
           "aaxis": {
            "gridcolor": "white",
            "linecolor": "white",
            "ticks": ""
           },
           "baxis": {
            "gridcolor": "white",
            "linecolor": "white",
            "ticks": ""
           },
           "bgcolor": "#E5ECF6",
           "caxis": {
            "gridcolor": "white",
            "linecolor": "white",
            "ticks": ""
           }
          },
          "title": {
           "x": 0.05
          },
          "xaxis": {
           "automargin": true,
           "gridcolor": "white",
           "linecolor": "white",
           "ticks": "",
           "title": {
            "standoff": 15
           },
           "zerolinecolor": "white",
           "zerolinewidth": 2
          },
          "yaxis": {
           "automargin": true,
           "gridcolor": "white",
           "linecolor": "white",
           "ticks": "",
           "title": {
            "standoff": 15
           },
           "zerolinecolor": "white",
           "zerolinewidth": 2
          }
         }
        },
        "title": {
         "text": "\"Macro Newgeometry: Probempi vs Nonprobempi\" Bandwidth Measurement"
        },
        "xaxis": {
         "ticks": "outside",
         "title": {
          "text": "Dirc_Data_Mov"
         }
        },
        "yaxis": {
         "ticks": "outside",
         "title": {
          "text": "Bandwidth/Node"
         }
        }
       }
      },
      "text/html": [
       "<div>                            <div id=\"3b61502a-e655-42cb-8898-e810b056d86b\" class=\"plotly-graph-div\" style=\"height:525px; width:100%;\"></div>            <script type=\"text/javascript\">                require([\"plotly\"], function(Plotly) {                    window.PLOTLYENV=window.PLOTLYENV || {};                                    if (document.getElementById(\"3b61502a-e655-42cb-8898-e810b056d86b\")) {                    Plotly.newPlot(                        \"3b61502a-e655-42cb-8898-e810b056d86b\",                        [{\"line\":{\"color\":\"magenta\",\"width\":3},\"marker\":{\"line\":{\"color\":\"yellow\",\"width\":1},\"size\":9,\"symbol\":\"hexagon\"},\"mode\":\"lines+markers\",\"name\":\"MacNewgeoProb_32mpi_4omp\",\"x\":[50331648.0,62914560.0,75497472.0,88080384.0,100663296.0,113246208.0,125829120.0,138412032.0,150994944.0,163577856.0,176160768.0,188743680.0,201326592.0,213909504.0,226492416.0,239075328.0,251658240.0,264241152.0,276824064.0,289406976.0,301989888.0,314572800.0,327155712.0,339738624.0,352321536.0,364904448.0,377487360.0,390070272.0,402653184.0],\"y\":[68.51704,72.02232,72.55728,73.10424,73.7212,73.988,72.96208,73.09704,72.56184,71.28072,70.17744,68.9064,67.4224,66.72832,66.56544,65.6956,64.84304,64.7696,64.4256,63.90264,63.79992,62.918,63.18056,63.31376,62.29592,63.16168,62.62776,62.16056,61.6376],\"type\":\"scatter\"},{\"line\":{\"color\":\"darkcyan\",\"width\":3},\"marker\":{\"line\":{\"color\":\"yellow\",\"width\":1},\"size\":9,\"symbol\":\"hexagon\"},\"mode\":\"lines+markers\",\"name\":\"MacNewgeoNonProb_32mpi_4omp\",\"x\":[50331648.0,62914560.0,75497472.0,88080384.0,100663296.0,113246208.0,125829120.0,138412032.0,150994944.0,163577856.0,176160768.0,188743680.0,201326592.0,213909504.0,226492416.0,239075328.0,251658240.0,264241152.0,276824064.0,289406976.0,301989888.0,314572800.0,327155712.0,339738624.0,352321536.0,364904448.0,377487360.0,390070272.0,402653184.0],\"y\":[111.1512,123.5056,133.5544,146.848,151.9864,151.6984,143.6224,140.0168,132.9576,133.068,126.4192,121.9832,110.9488,110.6824,104.1624,98.428,95.4152,93.4896,86.3336,87.2728,86.3952,86.78,84.9376,84.0288,82.4688,82.5576,82.6872,82.0872,81.3776],\"type\":\"scatter\"},{\"line\":{\"color\":\"sandybrown\",\"width\":3},\"marker\":{\"line\":{\"color\":\"MediumPurple\",\"width\":2},\"size\":5,\"symbol\":\"diamond\"},\"mode\":\"lines+markers\",\"name\":\"MacNewgeoProb_40mpi_3omp\",\"x\":[62914560.0,94371840.0,125829120.0,157286400.0,188743680.0,220200960.0,251658240.0,283115520.0,314572800.0,346030080.0,377487360.0],\"y\":[68.92089999999999,70.8472,71.5333,70.0765,70.1614,67.1692,66.29679999999999,66.2621,62.856300000000005,62.941599999999994,63.0762],\"type\":\"scatter\"},{\"line\":{\"color\":\"royalblue\",\"width\":3},\"marker\":{\"line\":{\"color\":\"MediumPurple\",\"width\":2},\"size\":5,\"symbol\":\"diamond\"},\"mode\":\"lines+markers\",\"name\":\"MacNewgeoNonProb_40mpi_3omp\",\"x\":[62914560.0,94371840.0,125829120.0,157286400.0,188743680.0,220200960.0,251658240.0,283115520.0,314572800.0,346030080.0,377487360.0],\"y\":[112.521,127.13499999999999,126.31500000000001,115.21900000000001,104.039,96.0233,86.8388,84.2503,80.1386,80.0654,74.5296],\"type\":\"scatter\"},{\"line\":{\"color\":\"cyan\",\"width\":3},\"marker\":{\"line\":{\"color\":\"Purple\",\"width\":2},\"size\":7,\"symbol\":\"circle\"},\"mode\":\"lines+markers\",\"name\":\"MacNewgeoProb_56mpi_2omp\",\"x\":[88080384.0,132120576.0,176160768.0,220200960.0,264241152.0,308281344.0,352321536.0,396361728.0],\"y\":[67.78366,69.62214,68.18448000000001,64.53342,63.61138,62.385259999999995,61.0148,61.46896],\"type\":\"scatter\"},{\"line\":{\"color\":\"darkblue\",\"width\":3},\"marker\":{\"line\":{\"color\":\"tomato\",\"width\":2},\"size\":7,\"symbol\":\"circle\"},\"mode\":\"lines+markers\",\"name\":\"MacNewgeoNonProb_56mpi_2omp\",\"x\":[88080384.0,132120576.0,176160768.0,220200960.0,264241152.0,308281344.0,352321536.0,396361728.0],\"y\":[147.21280000000002,126.93884,104.48060000000001,86.5858,84.47922,81.14498,80.56496,79.07648],\"type\":\"scatter\"},{\"line\":{\"color\":\"blue\",\"width\":3},\"marker\":{\"line\":{\"color\":\"black\",\"width\":1},\"size\":7,\"symbol\":\"star\"},\"mode\":\"lines+markers\",\"name\":\"MacNewgeoProb_64mpi_2omp\",\"x\":[100663296.0,125829120.0,150994944.0,176160768.0,201326592.0,226492416.0,251658240.0,276824064.0,301989888.0,327155712.0,352321536.0,377487360.0,402653184.0],\"y\":[77.32688,77.74208,75.0928,73.51232,71.3776,70.79584,68.97568,68.83232,68.00736,67.98304,66.68592,67.564,66.2024],\"type\":\"scatter\"},{\"line\":{\"color\":\"red\",\"width\":3},\"marker\":{\"line\":{\"color\":\"black\",\"width\":1},\"size\":7,\"symbol\":\"star\"},\"mode\":\"lines+markers\",\"name\":\"MacNewgeoNonProb_64mpi_2omp\",\"x\":[100663296.0,125829120.0,150994944.0,176160768.0,201326592.0,226492416.0,251658240.0,276824064.0,301989888.0,327155712.0,352321536.0,377487360.0,402653184.0],\"y\":[171.0688,165.0528,127.6656,112.05232,89.50864,78.96064,72.15488,70.34576,66.89504,66.89776,64.77648,63.01584,63.15296],\"type\":\"scatter\"},{\"line\":{\"color\":\"chartreuse\",\"width\":3},\"marker\":{\"line\":{\"color\":\"mediumvioletred\",\"width\":1},\"size\":7,\"symbol\":\"square-dot\"},\"mode\":\"lines+markers\",\"name\":\"MacNewgeoProb_112mpi_1omp\",\"x\":[176160768.0,264241152.0,308281344.0,352321536.0,396361728.0],\"y\":[67.34783999999999,64.87348,64.11804000000001,62.59456,63.3626],\"type\":\"scatter\"},{\"line\":{\"color\":\"black\",\"width\":3},\"marker\":{\"line\":{\"color\":\"mediumvioletred\",\"width\":1},\"size\":7,\"symbol\":\"square-dot\"},\"mode\":\"lines+markers\",\"name\":\"MacNewgeoNonProb_112mpi_1omp\",\"x\":[176160768.0,220200960.0,264241152.0,308281344.0,352321536.0,396361728.0],\"y\":[60.4058,55.25828,54.36312,55.7452,53.818799999999996,52.89144],\"type\":\"scatter\"},{\"line\":{\"color\":\"gold\",\"width\":3},\"marker\":{\"line\":{\"color\":\"black\",\"width\":1},\"size\":6,\"symbol\":\"triangle-up\"},\"mode\":\"lines+markers\",\"name\":\"MacNewgeoProb_128mpi_1omp\",\"x\":[201326592.0,251658240.0,301989888.0,352321536.0,402653184.0],\"y\":[70.83136,69.71072,69.13632,69.21056,67.96864],\"type\":\"scatter\"},{\"line\":{\"color\":\"dimgray\",\"width\":3},\"marker\":{\"line\":{\"color\":\"black\",\"width\":1},\"size\":6,\"symbol\":\"triangle-up\"},\"mode\":\"lines+markers\",\"name\":\"MacNewgeoNonProb_128mpi_1omp\",\"x\":[201326592.0,251658240.0,301989888.0,352321536.0,402653184.0],\"y\":[68.6272,65.24384,65.2304,63.18368,62.07616],\"type\":\"scatter\"}],                        {\"template\":{\"data\":{\"histogram2dcontour\":[{\"type\":\"histogram2dcontour\",\"colorbar\":{\"outlinewidth\":0,\"ticks\":\"\"},\"colorscale\":[[0.0,\"#0d0887\"],[0.1111111111111111,\"#46039f\"],[0.2222222222222222,\"#7201a8\"],[0.3333333333333333,\"#9c179e\"],[0.4444444444444444,\"#bd3786\"],[0.5555555555555556,\"#d8576b\"],[0.6666666666666666,\"#ed7953\"],[0.7777777777777778,\"#fb9f3a\"],[0.8888888888888888,\"#fdca26\"],[1.0,\"#f0f921\"]]}],\"choropleth\":[{\"type\":\"choropleth\",\"colorbar\":{\"outlinewidth\":0,\"ticks\":\"\"}}],\"histogram2d\":[{\"type\":\"histogram2d\",\"colorbar\":{\"outlinewidth\":0,\"ticks\":\"\"},\"colorscale\":[[0.0,\"#0d0887\"],[0.1111111111111111,\"#46039f\"],[0.2222222222222222,\"#7201a8\"],[0.3333333333333333,\"#9c179e\"],[0.4444444444444444,\"#bd3786\"],[0.5555555555555556,\"#d8576b\"],[0.6666666666666666,\"#ed7953\"],[0.7777777777777778,\"#fb9f3a\"],[0.8888888888888888,\"#fdca26\"],[1.0,\"#f0f921\"]]}],\"heatmap\":[{\"type\":\"heatmap\",\"colorbar\":{\"outlinewidth\":0,\"ticks\":\"\"},\"colorscale\":[[0.0,\"#0d0887\"],[0.1111111111111111,\"#46039f\"],[0.2222222222222222,\"#7201a8\"],[0.3333333333333333,\"#9c179e\"],[0.4444444444444444,\"#bd3786\"],[0.5555555555555556,\"#d8576b\"],[0.6666666666666666,\"#ed7953\"],[0.7777777777777778,\"#fb9f3a\"],[0.8888888888888888,\"#fdca26\"],[1.0,\"#f0f921\"]]}],\"heatmapgl\":[{\"type\":\"heatmapgl\",\"colorbar\":{\"outlinewidth\":0,\"ticks\":\"\"},\"colorscale\":[[0.0,\"#0d0887\"],[0.1111111111111111,\"#46039f\"],[0.2222222222222222,\"#7201a8\"],[0.3333333333333333,\"#9c179e\"],[0.4444444444444444,\"#bd3786\"],[0.5555555555555556,\"#d8576b\"],[0.6666666666666666,\"#ed7953\"],[0.7777777777777778,\"#fb9f3a\"],[0.8888888888888888,\"#fdca26\"],[1.0,\"#f0f921\"]]}],\"contourcarpet\":[{\"type\":\"contourcarpet\",\"colorbar\":{\"outlinewidth\":0,\"ticks\":\"\"}}],\"contour\":[{\"type\":\"contour\",\"colorbar\":{\"outlinewidth\":0,\"ticks\":\"\"},\"colorscale\":[[0.0,\"#0d0887\"],[0.1111111111111111,\"#46039f\"],[0.2222222222222222,\"#7201a8\"],[0.3333333333333333,\"#9c179e\"],[0.4444444444444444,\"#bd3786\"],[0.5555555555555556,\"#d8576b\"],[0.6666666666666666,\"#ed7953\"],[0.7777777777777778,\"#fb9f3a\"],[0.8888888888888888,\"#fdca26\"],[1.0,\"#f0f921\"]]}],\"surface\":[{\"type\":\"surface\",\"colorbar\":{\"outlinewidth\":0,\"ticks\":\"\"},\"colorscale\":[[0.0,\"#0d0887\"],[0.1111111111111111,\"#46039f\"],[0.2222222222222222,\"#7201a8\"],[0.3333333333333333,\"#9c179e\"],[0.4444444444444444,\"#bd3786\"],[0.5555555555555556,\"#d8576b\"],[0.6666666666666666,\"#ed7953\"],[0.7777777777777778,\"#fb9f3a\"],[0.8888888888888888,\"#fdca26\"],[1.0,\"#f0f921\"]]}],\"mesh3d\":[{\"type\":\"mesh3d\",\"colorbar\":{\"outlinewidth\":0,\"ticks\":\"\"}}],\"scatter\":[{\"fillpattern\":{\"fillmode\":\"overlay\",\"size\":10,\"solidity\":0.2},\"type\":\"scatter\"}],\"parcoords\":[{\"type\":\"parcoords\",\"line\":{\"colorbar\":{\"outlinewidth\":0,\"ticks\":\"\"}}}],\"scatterpolargl\":[{\"type\":\"scatterpolargl\",\"marker\":{\"colorbar\":{\"outlinewidth\":0,\"ticks\":\"\"}}}],\"bar\":[{\"error_x\":{\"color\":\"#2a3f5f\"},\"error_y\":{\"color\":\"#2a3f5f\"},\"marker\":{\"line\":{\"color\":\"#E5ECF6\",\"width\":0.5},\"pattern\":{\"fillmode\":\"overlay\",\"size\":10,\"solidity\":0.2}},\"type\":\"bar\"}],\"scattergeo\":[{\"type\":\"scattergeo\",\"marker\":{\"colorbar\":{\"outlinewidth\":0,\"ticks\":\"\"}}}],\"scatterpolar\":[{\"type\":\"scatterpolar\",\"marker\":{\"colorbar\":{\"outlinewidth\":0,\"ticks\":\"\"}}}],\"histogram\":[{\"marker\":{\"pattern\":{\"fillmode\":\"overlay\",\"size\":10,\"solidity\":0.2}},\"type\":\"histogram\"}],\"scattergl\":[{\"type\":\"scattergl\",\"marker\":{\"colorbar\":{\"outlinewidth\":0,\"ticks\":\"\"}}}],\"scatter3d\":[{\"type\":\"scatter3d\",\"line\":{\"colorbar\":{\"outlinewidth\":0,\"ticks\":\"\"}},\"marker\":{\"colorbar\":{\"outlinewidth\":0,\"ticks\":\"\"}}}],\"scattermapbox\":[{\"type\":\"scattermapbox\",\"marker\":{\"colorbar\":{\"outlinewidth\":0,\"ticks\":\"\"}}}],\"scatterternary\":[{\"type\":\"scatterternary\",\"marker\":{\"colorbar\":{\"outlinewidth\":0,\"ticks\":\"\"}}}],\"scattercarpet\":[{\"type\":\"scattercarpet\",\"marker\":{\"colorbar\":{\"outlinewidth\":0,\"ticks\":\"\"}}}],\"carpet\":[{\"aaxis\":{\"endlinecolor\":\"#2a3f5f\",\"gridcolor\":\"white\",\"linecolor\":\"white\",\"minorgridcolor\":\"white\",\"startlinecolor\":\"#2a3f5f\"},\"baxis\":{\"endlinecolor\":\"#2a3f5f\",\"gridcolor\":\"white\",\"linecolor\":\"white\",\"minorgridcolor\":\"white\",\"startlinecolor\":\"#2a3f5f\"},\"type\":\"carpet\"}],\"table\":[{\"cells\":{\"fill\":{\"color\":\"#EBF0F8\"},\"line\":{\"color\":\"white\"}},\"header\":{\"fill\":{\"color\":\"#C8D4E3\"},\"line\":{\"color\":\"white\"}},\"type\":\"table\"}],\"barpolar\":[{\"marker\":{\"line\":{\"color\":\"#E5ECF6\",\"width\":0.5},\"pattern\":{\"fillmode\":\"overlay\",\"size\":10,\"solidity\":0.2}},\"type\":\"barpolar\"}],\"pie\":[{\"automargin\":true,\"type\":\"pie\"}]},\"layout\":{\"autotypenumbers\":\"strict\",\"colorway\":[\"#636efa\",\"#EF553B\",\"#00cc96\",\"#ab63fa\",\"#FFA15A\",\"#19d3f3\",\"#FF6692\",\"#B6E880\",\"#FF97FF\",\"#FECB52\"],\"font\":{\"color\":\"#2a3f5f\"},\"hovermode\":\"closest\",\"hoverlabel\":{\"align\":\"left\"},\"paper_bgcolor\":\"white\",\"plot_bgcolor\":\"#E5ECF6\",\"polar\":{\"bgcolor\":\"#E5ECF6\",\"angularaxis\":{\"gridcolor\":\"white\",\"linecolor\":\"white\",\"ticks\":\"\"},\"radialaxis\":{\"gridcolor\":\"white\",\"linecolor\":\"white\",\"ticks\":\"\"}},\"ternary\":{\"bgcolor\":\"#E5ECF6\",\"aaxis\":{\"gridcolor\":\"white\",\"linecolor\":\"white\",\"ticks\":\"\"},\"baxis\":{\"gridcolor\":\"white\",\"linecolor\":\"white\",\"ticks\":\"\"},\"caxis\":{\"gridcolor\":\"white\",\"linecolor\":\"white\",\"ticks\":\"\"}},\"coloraxis\":{\"colorbar\":{\"outlinewidth\":0,\"ticks\":\"\"}},\"colorscale\":{\"sequential\":[[0.0,\"#0d0887\"],[0.1111111111111111,\"#46039f\"],[0.2222222222222222,\"#7201a8\"],[0.3333333333333333,\"#9c179e\"],[0.4444444444444444,\"#bd3786\"],[0.5555555555555556,\"#d8576b\"],[0.6666666666666666,\"#ed7953\"],[0.7777777777777778,\"#fb9f3a\"],[0.8888888888888888,\"#fdca26\"],[1.0,\"#f0f921\"]],\"sequentialminus\":[[0.0,\"#0d0887\"],[0.1111111111111111,\"#46039f\"],[0.2222222222222222,\"#7201a8\"],[0.3333333333333333,\"#9c179e\"],[0.4444444444444444,\"#bd3786\"],[0.5555555555555556,\"#d8576b\"],[0.6666666666666666,\"#ed7953\"],[0.7777777777777778,\"#fb9f3a\"],[0.8888888888888888,\"#fdca26\"],[1.0,\"#f0f921\"]],\"diverging\":[[0,\"#8e0152\"],[0.1,\"#c51b7d\"],[0.2,\"#de77ae\"],[0.3,\"#f1b6da\"],[0.4,\"#fde0ef\"],[0.5,\"#f7f7f7\"],[0.6,\"#e6f5d0\"],[0.7,\"#b8e186\"],[0.8,\"#7fbc41\"],[0.9,\"#4d9221\"],[1,\"#276419\"]]},\"xaxis\":{\"gridcolor\":\"white\",\"linecolor\":\"white\",\"ticks\":\"\",\"title\":{\"standoff\":15},\"zerolinecolor\":\"white\",\"automargin\":true,\"zerolinewidth\":2},\"yaxis\":{\"gridcolor\":\"white\",\"linecolor\":\"white\",\"ticks\":\"\",\"title\":{\"standoff\":15},\"zerolinecolor\":\"white\",\"automargin\":true,\"zerolinewidth\":2},\"scene\":{\"xaxis\":{\"backgroundcolor\":\"#E5ECF6\",\"gridcolor\":\"white\",\"linecolor\":\"white\",\"showbackground\":true,\"ticks\":\"\",\"zerolinecolor\":\"white\",\"gridwidth\":2},\"yaxis\":{\"backgroundcolor\":\"#E5ECF6\",\"gridcolor\":\"white\",\"linecolor\":\"white\",\"showbackground\":true,\"ticks\":\"\",\"zerolinecolor\":\"white\",\"gridwidth\":2},\"zaxis\":{\"backgroundcolor\":\"#E5ECF6\",\"gridcolor\":\"white\",\"linecolor\":\"white\",\"showbackground\":true,\"ticks\":\"\",\"zerolinecolor\":\"white\",\"gridwidth\":2}},\"shapedefaults\":{\"line\":{\"color\":\"#2a3f5f\"}},\"annotationdefaults\":{\"arrowcolor\":\"#2a3f5f\",\"arrowhead\":0,\"arrowwidth\":1},\"geo\":{\"bgcolor\":\"white\",\"landcolor\":\"#E5ECF6\",\"subunitcolor\":\"white\",\"showland\":true,\"showlakes\":true,\"lakecolor\":\"white\"},\"title\":{\"x\":0.05},\"mapbox\":{\"style\":\"light\"}}},\"shapes\":[{\"line\":{\"color\":\"green\",\"dash\":\"dot\",\"width\":3},\"type\":\"line\",\"x0\":80000000.0,\"x1\":80000000.0,\"xref\":\"x\",\"y0\":0,\"y1\":1,\"yref\":\"y domain\"},{\"line\":{\"color\":\"red\",\"dash\":\"dash\",\"width\":3},\"type\":\"line\",\"x0\":0,\"x1\":1,\"xref\":\"x domain\",\"y0\":153,\"y1\":153,\"yref\":\"y\"}],\"annotations\":[{\"align\":\"left\",\"arrowcolor\":\"#636363\",\"arrowhead\":1,\"arrowsize\":1,\"arrowwidth\":2,\"ax\":-20,\"ay\":-30,\"font\":{\"color\":\"purple\",\"family\":\"Sans Serif\",\"size\":12},\"showarrow\":false,\"text\":\"LLC Size Per Node: 80M\",\"x\":\"80e6\",\"y\":280,\"yanchor\":\"bottom\"},{\"align\":\"left\",\"arrowcolor\":\"#636363\",\"arrowhead\":1,\"arrowsize\":1,\"arrowwidth\":2,\"ax\":-20,\"ay\":-30,\"font\":{\"color\":\"orange\",\"family\":\"Sans Serif\",\"size\":12},\"showarrow\":false,\"text\":\"Max Bandwidth Per Node\",\"x\":\"130e6\",\"y\":155,\"yanchor\":\"bottom\"}],\"xaxis\":{\"title\":{\"text\":\"Dirc_Data_Mov\"},\"ticks\":\"outside\"},\"yaxis\":{\"title\":{\"text\":\"Bandwidth/Node\"},\"ticks\":\"outside\"},\"title\":{\"text\":\"\\\"Macro Newgeometry: Probempi vs Nonprobempi\\\" Bandwidth Measurement\"},\"legend\":{\"bordercolor\":\"black\",\"borderwidth\":1}},                        {\"responsive\": true}                    ).then(function(){\n",
       "                            \n",
       "var gd = document.getElementById('3b61502a-e655-42cb-8898-e810b056d86b');\n",
       "var x = new MutationObserver(function (mutations, observer) {{\n",
       "        var display = window.getComputedStyle(gd).display;\n",
       "        if (!display || display === 'none') {{\n",
       "            console.log([gd, 'removed!']);\n",
       "            Plotly.purge(gd);\n",
       "            observer.disconnect();\n",
       "        }}\n",
       "}});\n",
       "\n",
       "// Listen for the removal of the full notebook cells\n",
       "var notebookContainer = gd.closest('#notebook-container');\n",
       "if (notebookContainer) {{\n",
       "    x.observe(notebookContainer, {childList: true});\n",
       "}}\n",
       "\n",
       "// Listen for the clearing of the current output cell\n",
       "var outputEl = gd.closest('.output');\n",
       "if (outputEl) {{\n",
       "    x.observe(outputEl, {childList: true});\n",
       "}}\n",
       "\n",
       "                        })                };                });            </script>        </div>"
      ]
     },
     "metadata": {},
     "output_type": "display_data"
    }
   ],
   "source": [
    "fig = go.Figure()\n",
    "\n",
    "# 1---\n",
    "fig.add_trace(go.Scatter(x=(dfn4MacNewgeoProb_32mpi_4omp.Dirc_Data_Mov*(dfn4MacNewgeoProb_32mpi_4omp.MPI_size/4)), \n",
    "                         y=(dfn4MacNewgeoProb_32mpi_4omp.BAND*(dfn4MacNewgeoProb_32mpi_4omp.MPI_size/4)), \n",
    "                         mode='lines+markers', \n",
    "                         name='MacNewgeoProb_32mpi_4omp',\n",
    "                         line=dict(color='magenta',width=3),\n",
    "                         marker=dict(symbol='hexagon',size=9, line=dict(color='yellow',width=1))))\n",
    "\n",
    "fig.add_trace(go.Scatter(x=(dfn4MacNewgeoNonProb_32mpi_4omp.Dirc_Data_Mov*(dfn4MacNewgeoNonProb_32mpi_4omp.MPI_size/4)), \n",
    "                         y=(dfn4MacNewgeoNonProb_32mpi_4omp.BAND*(dfn4MacNewgeoNonProb_32mpi_4omp.MPI_size/4)), \n",
    "                         mode='lines+markers', \n",
    "                         name='MacNewgeoNonProb_32mpi_4omp',\n",
    "                         line=dict(color='darkcyan',width=3),\n",
    "                         marker=dict(symbol='hexagon',size=9, line=dict(color='yellow',width=1))))\n",
    "\n",
    "\n",
    "# 2----\n",
    "fig.add_trace(go.Scatter(x=(dfn4MacNewgeoProb_40mpi_3omp.Dirc_Data_Mov*(dfn4MacNewgeoProb_40mpi_3omp.MPI_size/4)), \n",
    "                         y=(dfn4MacNewgeoProb_40mpi_3omp.BAND*(dfn4MacNewgeoProb_40mpi_3omp.MPI_size/4)), \n",
    "                         mode='lines+markers', \n",
    "                         name='MacNewgeoProb_40mpi_3omp',\n",
    "                         line=dict(color='sandybrown',width=3),\n",
    "                         marker=dict(symbol='diamond',size=5,line=dict(color='MediumPurple',width=2))))\n",
    "\n",
    "fig.add_trace(go.Scatter(x=(dfn4MacNewgeoNonProb_40mpi_3omp.Dirc_Data_Mov*(dfn4MacNewgeoNonProb_40mpi_3omp.MPI_size/4)), \n",
    "                         y=(dfn4MacNewgeoNonProb_40mpi_3omp.BAND*(dfn4MacNewgeoNonProb_40mpi_3omp.MPI_size/4)), \n",
    "                         mode='lines+markers', \n",
    "                         name='MacNewgeoNonProb_40mpi_3omp',\n",
    "                         line=dict(color='royalblue',width=3),\n",
    "                         marker=dict(symbol='diamond',size=5,line=dict(color='MediumPurple',width=2))))\n",
    "\n",
    "\n",
    "# 3----\n",
    "fig.add_trace(go.Scatter(x=(dfn4MacNewgeoProb_56mpi_2omp.Dirc_Data_Mov*(dfn4MacNewgeoProb_56mpi_2omp.MPI_size/4)), \n",
    "                         y=(dfn4MacNewgeoProb_56mpi_2omp.BAND*(dfn4MacNewgeoProb_56mpi_2omp.MPI_size/4)), \n",
    "                         mode='lines+markers', \n",
    "                         name='MacNewgeoProb_56mpi_2omp',\n",
    "                         line=dict(color='cyan',width=3),\n",
    "                         marker=dict(symbol='circle',size=7,line=dict(color='Purple',width=2))))\n",
    "\n",
    "fig.add_trace(go.Scatter(x=(dfn4MacNewgeoNonProb_56mpi_2omp.Dirc_Data_Mov*(dfn4MacNewgeoNonProb_56mpi_2omp.MPI_size/4)), \n",
    "                         y=(dfn4MacNewgeoNonProb_56mpi_2omp.BAND*(dfn4MacNewgeoNonProb_56mpi_2omp.MPI_size/4)), \n",
    "                         mode='lines+markers', \n",
    "                         name='MacNewgeoNonProb_56mpi_2omp',\n",
    "                         line=dict(color='darkblue',width=3),\n",
    "                         marker=dict(symbol='circle',size=7, line=dict(color='tomato',width=2))))\n",
    "\n",
    "\n",
    "# 4----\n",
    "fig.add_trace(go.Scatter(x=(dfn4MacNewgeoProb_64mpi_2omp.Dirc_Data_Mov*(dfn4MacNewgeoProb_64mpi_2omp.MPI_size/4)), \n",
    "                         y=(dfn4MacNewgeoProb_64mpi_2omp.BAND*(dfn4MacNewgeoProb_64mpi_2omp.MPI_size/4)), \n",
    "                         mode='lines+markers', \n",
    "                         name='MacNewgeoProb_64mpi_2omp',\n",
    "                         line=dict(color='blue',width=3),\n",
    "                         marker=dict(symbol='star',size=7, line=dict(color='black',width=1))))\n",
    "\n",
    "fig.add_trace(go.Scatter(x=(dfn4MacNewgeoNonProb_64mpi_2omp.Dirc_Data_Mov*(dfn4MacNewgeoNonProb_64mpi_2omp.MPI_size/4)), \n",
    "                         y=(dfn4MacNewgeoNonProb_64mpi_2omp.BAND*(dfn4MacNewgeoNonProb_64mpi_2omp.MPI_size/4)), \n",
    "                         mode='lines+markers', \n",
    "                         name='MacNewgeoNonProb_64mpi_2omp',\n",
    "                          line=dict(color='red',width=3),\n",
    "                         marker=dict(symbol='star',size=7, line=dict(color='black',width=1))))\n",
    "\n",
    "\n",
    "# 5----\n",
    "fig.add_trace(go.Scatter(x=(dfn4MacNewgeoProb_112mpi_1omp.Dirc_Data_Mov*(dfn4MacNewgeoProb_112mpi_1omp.MPI_size/4)), \n",
    "                         y=(dfn4MacNewgeoProb_112mpi_1omp.BAND*(dfn4MacNewgeoProb_112mpi_1omp.MPI_size/4)), \n",
    "                         mode='lines+markers', \n",
    "                         name='MacNewgeoProb_112mpi_1omp',\n",
    "                         line=dict(color='chartreuse',width=3),\n",
    "                         marker=dict(symbol='square-dot',size=7, line=dict(color='mediumvioletred',width=1))))\n",
    "\n",
    "fig.add_trace(go.Scatter(x=(dfn4MacNewgeoNonProb_112mpi_1omp.Dirc_Data_Mov*(dfn4MacNewgeoNonProb_112mpi_1omp.MPI_size/4)), \n",
    "                         y=(dfn4MacNewgeoNonProb_112mpi_1omp.BAND*(dfn4MacNewgeoNonProb_112mpi_1omp.MPI_size/4)), \n",
    "                         mode='lines+markers', \n",
    "                         name='MacNewgeoNonProb_112mpi_1omp',\n",
    "                         line=dict(color='black',width=3),\n",
    "                         marker=dict(symbol='square-dot',size=7, line=dict(color='mediumvioletred',width=1))))\n",
    "\n",
    "# 6----\n",
    "fig.add_trace(go.Scatter(x=(dfn4MacNewgeoProb_128mpi_1omp.Dirc_Data_Mov*(dfn4MacNewgeoProb_128mpi_1omp.MPI_size/4)), \n",
    "                         y=(dfn4MacNewgeoProb_128mpi_1omp.BAND*(dfn4MacNewgeoProb_128mpi_1omp.MPI_size/4)), \n",
    "                         mode='lines+markers', \n",
    "                         name='MacNewgeoProb_128mpi_1omp',\n",
    "                         line=dict(color='gold',width=3),\n",
    "                         marker=dict(symbol='triangle-up',size=6, line=dict(color='black',width=1))))\n",
    "\n",
    "fig.add_trace(go.Scatter(x=(dfn4MacNewgeoNonProb_128mpi_1omp.Dirc_Data_Mov*(dfn4MacNewgeoNonProb_128mpi_1omp.MPI_size/4)), \n",
    "                         y=(dfn4MacNewgeoNonProb_128mpi_1omp.BAND*(dfn4MacNewgeoNonProb_128mpi_1omp.MPI_size/4)), \n",
    "                         mode='lines+markers', \n",
    "                         name='MacNewgeoNonProb_128mpi_1omp',\n",
    "                         line=dict(color='dimgray',width=3),\n",
    "                         marker=dict(symbol='triangle-up',size=6, line=dict(color='black',width=1))))\n",
    "\n",
    "\n",
    "\n",
    "# Adding vertical and horizontal lines \n",
    "fig.add_vline(x=80e6, line_width=3, line_dash=\"dot\", line_color=\"green\")\n",
    "fig.add_hline(y=153, line_width=3, line_dash=\"dash\", line_color=\"red\")\n",
    "\n",
    "# Add annotation with arrow\n",
    "fig.add_annotation(\n",
    "    x='80e6'\n",
    "    , y=280\n",
    "    , text=f'LLC Size Per Node: 80M'\n",
    "    , yanchor='bottom'\n",
    "    , showarrow=False\n",
    "    , arrowhead=1\n",
    "    , arrowsize=1\n",
    "    , arrowwidth=2\n",
    "    , arrowcolor=\"#636363\"\n",
    "    , ax=-20\n",
    "    , ay=-30\n",
    "    , font=dict(size=12, color=\"purple\", family=\"Sans Serif\")\n",
    "    , align=\"left\"\n",
    "    ,)\n",
    "\n",
    "fig.add_annotation(\n",
    "    x='130e6'\n",
    "    , y=155\n",
    "    , text=f'Max Bandwidth Per Node'\n",
    "    , yanchor='bottom'\n",
    "    , showarrow=False\n",
    "    , arrowhead=1\n",
    "    , arrowsize=1\n",
    "    , arrowwidth=2\n",
    "    , arrowcolor=\"#636363\"\n",
    "    , ax=-20\n",
    "    , ay=-30\n",
    "    , font=dict(size=12, color=\"orange\", family=\"Sans Serif\")\n",
    "    , align=\"left\"\n",
    "    ,)\n",
    "\n",
    "\n",
    "fig.update_layout(title='\"Macro Newgeometry: Probempi vs Nonprobempi\" Bandwidth Measurement',\n",
    "                  xaxis_title='Dirc_Data_Mov', yaxis_title='Bandwidth/Node', \n",
    "                  xaxis=dict(ticks=\"outside\"),  \n",
    "                  yaxis=dict(ticks=\"outside\"),\n",
    "                  legend=go.layout.Legend(bordercolor=\"black\",borderwidth=1)) \n",
    "\n",
    "\n"
   ]
  },
  {
   "cell_type": "code",
   "execution_count": null,
   "id": "6d5e0e55",
   "metadata": {},
   "outputs": [],
   "source": []
  },
  {
   "cell_type": "markdown",
   "id": "df3d51e3",
   "metadata": {},
   "source": [
    "# AVX CASES"
   ]
  },
  {
   "cell_type": "markdown",
   "id": "6086ebe4",
   "metadata": {},
   "source": [
    "## 1. AVX_fused_probempi"
   ]
  },
  {
   "cell_type": "markdown",
   "id": "8d893e77",
   "metadata": {},
   "source": [
    "### Add Columns"
   ]
  },
  {
   "cell_type": "code",
   "execution_count": 27,
   "id": "a19aac42",
   "metadata": {},
   "outputs": [],
   "source": [
    "dfn4_avx_fused_probmpi[\"N_Nodes\"] = 4\n",
    "dfn4_avx_fused_probmpi['NPX'] = (dfn4_avx_fused_probmpi.GLB_X//dfn4_avx_fused_probmpi.LOC_X)\n",
    "dfn4_avx_fused_probmpi['NPY'] = (dfn4_avx_fused_probmpi.GLB_Y//dfn4_avx_fused_probmpi.LOC_Y)\n",
    "dfn4_avx_fused_probmpi['NPZ'] = (dfn4_avx_fused_probmpi.GLB_Z//dfn4_avx_fused_probmpi.LOC_Z)\n",
    "dfn4_avx_fused_probmpi['NPT'] = (dfn4_avx_fused_probmpi.GLB_T//dfn4_avx_fused_probmpi.LOC_T)\n",
    "dfn4_avx_fused_probmpi[\"Total_proc\"] = dfn4_avx_fused_probmpi[\"omp_thrd\"]* dfn4_avx_fused_probmpi.MPI_size\n",
    "# dfn4_avx_fused_probmpi.columns"
   ]
  },
  {
   "cell_type": "code",
   "execution_count": null,
   "id": "493f97a9",
   "metadata": {},
   "outputs": [],
   "source": []
  },
  {
   "cell_type": "markdown",
   "id": "b6c93c18",
   "metadata": {},
   "source": [
    "### Data Summary"
   ]
  },
  {
   "cell_type": "code",
   "execution_count": 28,
   "id": "c83f294e",
   "metadata": {},
   "outputs": [
    {
     "data": {
      "text/html": [
       "<div>\n",
       "<style scoped>\n",
       "    .dataframe tbody tr th:only-of-type {\n",
       "        vertical-align: middle;\n",
       "    }\n",
       "\n",
       "    .dataframe tbody tr th {\n",
       "        vertical-align: top;\n",
       "    }\n",
       "\n",
       "    .dataframe thead th {\n",
       "        text-align: right;\n",
       "    }\n",
       "</style>\n",
       "<table border=\"1\" class=\"dataframe\">\n",
       "  <thead>\n",
       "    <tr style=\"text-align: right;\">\n",
       "      <th></th>\n",
       "      <th>MPI_size</th>\n",
       "      <th>omp_thrd</th>\n",
       "      <th>NPT</th>\n",
       "      <th>NPX</th>\n",
       "      <th>NPY</th>\n",
       "      <th>NPZ</th>\n",
       "      <th>Total_proc</th>\n",
       "      <th>size</th>\n",
       "    </tr>\n",
       "  </thead>\n",
       "  <tbody>\n",
       "    <tr>\n",
       "      <th>0</th>\n",
       "      <td>32</td>\n",
       "      <td>4</td>\n",
       "      <td>4</td>\n",
       "      <td>2</td>\n",
       "      <td>2</td>\n",
       "      <td>2</td>\n",
       "      <td>128</td>\n",
       "      <td>29</td>\n",
       "    </tr>\n",
       "    <tr>\n",
       "      <th>1</th>\n",
       "      <td>40</td>\n",
       "      <td>3</td>\n",
       "      <td>5</td>\n",
       "      <td>2</td>\n",
       "      <td>2</td>\n",
       "      <td>2</td>\n",
       "      <td>120</td>\n",
       "      <td>11</td>\n",
       "    </tr>\n",
       "    <tr>\n",
       "      <th>2</th>\n",
       "      <td>56</td>\n",
       "      <td>2</td>\n",
       "      <td>7</td>\n",
       "      <td>2</td>\n",
       "      <td>2</td>\n",
       "      <td>2</td>\n",
       "      <td>112</td>\n",
       "      <td>8</td>\n",
       "    </tr>\n",
       "    <tr>\n",
       "      <th>3</th>\n",
       "      <td>64</td>\n",
       "      <td>2</td>\n",
       "      <td>8</td>\n",
       "      <td>2</td>\n",
       "      <td>2</td>\n",
       "      <td>2</td>\n",
       "      <td>128</td>\n",
       "      <td>13</td>\n",
       "    </tr>\n",
       "    <tr>\n",
       "      <th>4</th>\n",
       "      <td>104</td>\n",
       "      <td>1</td>\n",
       "      <td>13</td>\n",
       "      <td>2</td>\n",
       "      <td>2</td>\n",
       "      <td>2</td>\n",
       "      <td>104</td>\n",
       "      <td>3</td>\n",
       "    </tr>\n",
       "    <tr>\n",
       "      <th>5</th>\n",
       "      <td>112</td>\n",
       "      <td>1</td>\n",
       "      <td>14</td>\n",
       "      <td>2</td>\n",
       "      <td>2</td>\n",
       "      <td>2</td>\n",
       "      <td>112</td>\n",
       "      <td>6</td>\n",
       "    </tr>\n",
       "    <tr>\n",
       "      <th>6</th>\n",
       "      <td>120</td>\n",
       "      <td>1</td>\n",
       "      <td>15</td>\n",
       "      <td>2</td>\n",
       "      <td>2</td>\n",
       "      <td>2</td>\n",
       "      <td>120</td>\n",
       "      <td>3</td>\n",
       "    </tr>\n",
       "    <tr>\n",
       "      <th>7</th>\n",
       "      <td>128</td>\n",
       "      <td>1</td>\n",
       "      <td>16</td>\n",
       "      <td>2</td>\n",
       "      <td>2</td>\n",
       "      <td>2</td>\n",
       "      <td>128</td>\n",
       "      <td>5</td>\n",
       "    </tr>\n",
       "  </tbody>\n",
       "</table>\n",
       "</div>"
      ],
      "text/plain": [
       "   MPI_size  omp_thrd  NPT  NPX  NPY  NPZ  Total_proc  size\n",
       "0        32         4    4    2    2    2         128    29\n",
       "1        40         3    5    2    2    2         120    11\n",
       "2        56         2    7    2    2    2         112     8\n",
       "3        64         2    8    2    2    2         128    13\n",
       "4       104         1   13    2    2    2         104     3\n",
       "5       112         1   14    2    2    2         112     6\n",
       "6       120         1   15    2    2    2         120     3\n",
       "7       128         1   16    2    2    2         128     5"
      ]
     },
     "execution_count": 28,
     "metadata": {},
     "output_type": "execute_result"
    }
   ],
   "source": [
    "dfn4_avx_fused_probmpi_summary = dfn4_avx_fused_probmpi.groupby(['MPI_size','omp_thrd','NPT','NPX', 'NPY', 'NPZ',\"Total_proc\"]).size().reset_index(name = 'size')\n",
    "dfn4_avx_fused_probmpi_summary"
   ]
  },
  {
   "cell_type": "markdown",
   "id": "0392e712",
   "metadata": {},
   "source": [
    "### Case Setup"
   ]
  },
  {
   "cell_type": "code",
   "execution_count": 29,
   "id": "5a02916a",
   "metadata": {},
   "outputs": [],
   "source": [
    "dfn4AvxFusProb_32mpi_4omp = dfn4_avx_fused_probmpi[(dfn4_avx_fused_probmpi.omp_thrd == 4) & (dfn4_avx_fused_probmpi.GLB_T/dfn4_avx_fused_probmpi.LOC_T == 4) & (dfn4_avx_fused_probmpi.GLB_X/dfn4_avx_fused_probmpi.LOC_X == 2) & (dfn4_avx_fused_probmpi.GLB_Y/dfn4_avx_fused_probmpi.LOC_Y == 2)& (dfn4_avx_fused_probmpi.GLB_Z/dfn4_avx_fused_probmpi.LOC_Z == 2)]\n",
    "dfn4AvxFusProb_40mpi_3omp = dfn4_avx_fused_probmpi[(dfn4_avx_fused_probmpi.omp_thrd == 3) & (dfn4_avx_fused_probmpi.GLB_T/dfn4_avx_fused_probmpi.LOC_T == 5) & (dfn4_avx_fused_probmpi.GLB_X/dfn4_avx_fused_probmpi.LOC_X == 2) & (dfn4_avx_fused_probmpi.GLB_Y/dfn4_avx_fused_probmpi.LOC_Y == 2)& (dfn4_avx_fused_probmpi.GLB_Z/dfn4_avx_fused_probmpi.LOC_Z == 2)]\n",
    "dfn4AvxFusProb_56mpi_2omp = dfn4_avx_fused_probmpi[(dfn4_avx_fused_probmpi.omp_thrd == 2) & (dfn4_avx_fused_probmpi.GLB_T/dfn4_avx_fused_probmpi.LOC_T == 7) & (dfn4_avx_fused_probmpi.GLB_X/dfn4_avx_fused_probmpi.LOC_X == 2) & (dfn4_avx_fused_probmpi.GLB_Y/dfn4_avx_fused_probmpi.LOC_Y == 2)& (dfn4_avx_fused_probmpi.GLB_Z/dfn4_avx_fused_probmpi.LOC_Z == 2)]\n",
    "dfn4AvxFusProb_64mpi_2omp = dfn4_avx_fused_probmpi[(dfn4_avx_fused_probmpi.omp_thrd == 2) & (dfn4_avx_fused_probmpi.GLB_T/dfn4_avx_fused_probmpi.LOC_T == 8) & (dfn4_avx_fused_probmpi.GLB_X/dfn4_avx_fused_probmpi.LOC_X == 2) & (dfn4_avx_fused_probmpi.GLB_Y/dfn4_avx_fused_probmpi.LOC_Y == 2)& (dfn4_avx_fused_probmpi.GLB_Z/dfn4_avx_fused_probmpi.LOC_Z == 2)]\n",
    "dfn4AvxFusProb_112mpi_1omp = dfn4_avx_fused_probmpi[(dfn4_avx_fused_probmpi.omp_thrd == 1) & (dfn4_avx_fused_probmpi.GLB_T/dfn4_avx_fused_probmpi.LOC_T == 14) & (dfn4_avx_fused_probmpi.GLB_X/dfn4_avx_fused_probmpi.LOC_X == 2) & (dfn4_avx_fused_probmpi.GLB_Y/dfn4_avx_fused_probmpi.LOC_Y == 2)& (dfn4_avx_fused_probmpi.GLB_Z/dfn4_avx_fused_probmpi.LOC_Z == 2)]\n",
    "dfn4AvxFusProb_128mpi_1omp = dfn4_avx_fused_probmpi[(dfn4_avx_fused_probmpi.omp_thrd == 1) & (dfn4_avx_fused_probmpi.GLB_T/dfn4_avx_fused_probmpi.LOC_T == 16) & (dfn4_avx_fused_probmpi.GLB_X/dfn4_avx_fused_probmpi.LOC_X == 2) & (dfn4_avx_fused_probmpi.GLB_Y/dfn4_avx_fused_probmpi.LOC_Y == 2)& (dfn4_avx_fused_probmpi.GLB_Z/dfn4_avx_fused_probmpi.LOC_Z == 2)]\n"
   ]
  },
  {
   "cell_type": "code",
   "execution_count": null,
   "id": "47b13bea",
   "metadata": {},
   "outputs": [],
   "source": []
  },
  {
   "cell_type": "markdown",
   "id": "046a19c2",
   "metadata": {},
   "source": [
    "## 2. AVX_fused_nonprobempi"
   ]
  },
  {
   "cell_type": "markdown",
   "id": "0b3b2eb3",
   "metadata": {},
   "source": [
    "## Add Columns"
   ]
  },
  {
   "cell_type": "code",
   "execution_count": 51,
   "id": "5f90bf6c",
   "metadata": {},
   "outputs": [],
   "source": [
    "dfn4_avx_fused_nonprobmpi[\"N_Nodes\"] = 4\n",
    "dfn4_avx_fused_nonprobmpi['NPX'] = (dfn4_avx_fused_nonprobmpi.GLB_X//dfn4_avx_fused_nonprobmpi.LOC_X)\n",
    "dfn4_avx_fused_nonprobmpi['NPY'] = (dfn4_avx_fused_nonprobmpi.GLB_Y//dfn4_avx_fused_nonprobmpi.LOC_Y)\n",
    "dfn4_avx_fused_nonprobmpi['NPZ'] = (dfn4_avx_fused_nonprobmpi.GLB_Z//dfn4_avx_fused_nonprobmpi.LOC_Z)\n",
    "dfn4_avx_fused_nonprobmpi['NPT'] = (dfn4_avx_fused_nonprobmpi.GLB_T//dfn4_avx_fused_nonprobmpi.LOC_T)\n",
    "dfn4_avx_fused_nonprobmpi[\"Total_proc\"] = dfn4_avx_fused_nonprobmpi[\"omp_thrd\"]* dfn4_avx_fused_nonprobmpi.MPI_size\n",
    "# dfn4_avx_fused_nonprobmpi.columns"
   ]
  },
  {
   "cell_type": "markdown",
   "id": "9683030a",
   "metadata": {},
   "source": [
    "## Data Summary"
   ]
  },
  {
   "cell_type": "code",
   "execution_count": 50,
   "id": "995b8eff",
   "metadata": {},
   "outputs": [
    {
     "data": {
      "text/html": [
       "<div>\n",
       "<style scoped>\n",
       "    .dataframe tbody tr th:only-of-type {\n",
       "        vertical-align: middle;\n",
       "    }\n",
       "\n",
       "    .dataframe tbody tr th {\n",
       "        vertical-align: top;\n",
       "    }\n",
       "\n",
       "    .dataframe thead th {\n",
       "        text-align: right;\n",
       "    }\n",
       "</style>\n",
       "<table border=\"1\" class=\"dataframe\">\n",
       "  <thead>\n",
       "    <tr style=\"text-align: right;\">\n",
       "      <th></th>\n",
       "      <th>MPI_size</th>\n",
       "      <th>omp_thrd</th>\n",
       "      <th>NPT</th>\n",
       "      <th>NPX</th>\n",
       "      <th>NPY</th>\n",
       "      <th>NPZ</th>\n",
       "      <th>Total_proc</th>\n",
       "      <th>size</th>\n",
       "    </tr>\n",
       "  </thead>\n",
       "  <tbody>\n",
       "    <tr>\n",
       "      <th>0</th>\n",
       "      <td>32</td>\n",
       "      <td>4</td>\n",
       "      <td>4</td>\n",
       "      <td>2</td>\n",
       "      <td>2</td>\n",
       "      <td>2</td>\n",
       "      <td>128</td>\n",
       "      <td>29</td>\n",
       "    </tr>\n",
       "    <tr>\n",
       "      <th>1</th>\n",
       "      <td>40</td>\n",
       "      <td>3</td>\n",
       "      <td>5</td>\n",
       "      <td>2</td>\n",
       "      <td>2</td>\n",
       "      <td>2</td>\n",
       "      <td>120</td>\n",
       "      <td>11</td>\n",
       "    </tr>\n",
       "    <tr>\n",
       "      <th>2</th>\n",
       "      <td>56</td>\n",
       "      <td>2</td>\n",
       "      <td>7</td>\n",
       "      <td>2</td>\n",
       "      <td>2</td>\n",
       "      <td>2</td>\n",
       "      <td>112</td>\n",
       "      <td>8</td>\n",
       "    </tr>\n",
       "    <tr>\n",
       "      <th>3</th>\n",
       "      <td>64</td>\n",
       "      <td>2</td>\n",
       "      <td>8</td>\n",
       "      <td>2</td>\n",
       "      <td>2</td>\n",
       "      <td>2</td>\n",
       "      <td>128</td>\n",
       "      <td>13</td>\n",
       "    </tr>\n",
       "    <tr>\n",
       "      <th>4</th>\n",
       "      <td>104</td>\n",
       "      <td>1</td>\n",
       "      <td>13</td>\n",
       "      <td>2</td>\n",
       "      <td>2</td>\n",
       "      <td>2</td>\n",
       "      <td>104</td>\n",
       "      <td>3</td>\n",
       "    </tr>\n",
       "    <tr>\n",
       "      <th>5</th>\n",
       "      <td>112</td>\n",
       "      <td>1</td>\n",
       "      <td>14</td>\n",
       "      <td>2</td>\n",
       "      <td>2</td>\n",
       "      <td>2</td>\n",
       "      <td>112</td>\n",
       "      <td>6</td>\n",
       "    </tr>\n",
       "    <tr>\n",
       "      <th>6</th>\n",
       "      <td>120</td>\n",
       "      <td>1</td>\n",
       "      <td>15</td>\n",
       "      <td>2</td>\n",
       "      <td>2</td>\n",
       "      <td>2</td>\n",
       "      <td>120</td>\n",
       "      <td>3</td>\n",
       "    </tr>\n",
       "    <tr>\n",
       "      <th>7</th>\n",
       "      <td>128</td>\n",
       "      <td>1</td>\n",
       "      <td>16</td>\n",
       "      <td>2</td>\n",
       "      <td>2</td>\n",
       "      <td>2</td>\n",
       "      <td>128</td>\n",
       "      <td>5</td>\n",
       "    </tr>\n",
       "  </tbody>\n",
       "</table>\n",
       "</div>"
      ],
      "text/plain": [
       "   MPI_size  omp_thrd  NPT  NPX  NPY  NPZ  Total_proc  size\n",
       "0        32         4    4    2    2    2         128    29\n",
       "1        40         3    5    2    2    2         120    11\n",
       "2        56         2    7    2    2    2         112     8\n",
       "3        64         2    8    2    2    2         128    13\n",
       "4       104         1   13    2    2    2         104     3\n",
       "5       112         1   14    2    2    2         112     6\n",
       "6       120         1   15    2    2    2         120     3\n",
       "7       128         1   16    2    2    2         128     5"
      ]
     },
     "execution_count": 50,
     "metadata": {},
     "output_type": "execute_result"
    }
   ],
   "source": [
    "dfn4_avx_fused_nonprobmpi_summary = dfn4_avx_fused_nonprobmpi.groupby(['MPI_size','omp_thrd','NPT','NPX', 'NPY', 'NPZ',\"Total_proc\"]).size().reset_index(name = 'size')\n",
    "dfn4_avx_fused_nonprobmpi_summary"
   ]
  },
  {
   "cell_type": "markdown",
   "id": "47d16da7",
   "metadata": {},
   "source": [
    "## Case Setup"
   ]
  },
  {
   "cell_type": "code",
   "execution_count": 49,
   "id": "7864492c",
   "metadata": {},
   "outputs": [],
   "source": [
    "dfn4AvxFusNonProb_32mpi_4omp = dfn4_avx_fused_nonprobmpi[(dfn4_avx_fused_nonprobmpi.omp_thrd == 4) & (dfn4_avx_fused_nonprobmpi.GLB_T/dfn4_avx_fused_nonprobmpi.LOC_T == 4) & (dfn4_avx_fused_nonprobmpi.GLB_X/dfn4_avx_fused_nonprobmpi.LOC_X == 2) & (dfn4_avx_fused_nonprobmpi.GLB_Y/dfn4_avx_fused_nonprobmpi.LOC_Y == 2)& (dfn4_avx_fused_nonprobmpi.GLB_Z/dfn4_avx_fused_nonprobmpi.LOC_Z == 2)]\n",
    "dfn4AvxFusNonProb_40mpi_3omp = dfn4_avx_fused_nonprobmpi[(dfn4_avx_fused_nonprobmpi.omp_thrd == 3) & (dfn4_avx_fused_nonprobmpi.GLB_T/dfn4_avx_fused_nonprobmpi.LOC_T == 5) & (dfn4_avx_fused_nonprobmpi.GLB_X/dfn4_avx_fused_nonprobmpi.LOC_X == 2) & (dfn4_avx_fused_nonprobmpi.GLB_Y/dfn4_avx_fused_nonprobmpi.LOC_Y == 2)& (dfn4_avx_fused_nonprobmpi.GLB_Z/dfn4_avx_fused_nonprobmpi.LOC_Z == 2)]\n",
    "dfn4AvxFusNonProb_56mpi_2omp = dfn4_avx_fused_nonprobmpi[(dfn4_avx_fused_nonprobmpi.omp_thrd == 2) & (dfn4_avx_fused_nonprobmpi.GLB_T/dfn4_avx_fused_nonprobmpi.LOC_T == 7) & (dfn4_avx_fused_nonprobmpi.GLB_X/dfn4_avx_fused_nonprobmpi.LOC_X == 2) & (dfn4_avx_fused_nonprobmpi.GLB_Y/dfn4_avx_fused_nonprobmpi.LOC_Y == 2)& (dfn4_avx_fused_nonprobmpi.GLB_Z/dfn4_avx_fused_nonprobmpi.LOC_Z == 2)]\n",
    "dfn4AvxFusNonProb_64mpi_2omp = dfn4_avx_fused_nonprobmpi[(dfn4_avx_fused_nonprobmpi.omp_thrd == 2) & (dfn4_avx_fused_nonprobmpi.GLB_T/dfn4_avx_fused_nonprobmpi.LOC_T == 8) & (dfn4_avx_fused_nonprobmpi.GLB_X/dfn4_avx_fused_nonprobmpi.LOC_X == 2) & (dfn4_avx_fused_nonprobmpi.GLB_Y/dfn4_avx_fused_nonprobmpi.LOC_Y == 2)& (dfn4_avx_fused_nonprobmpi.GLB_Z/dfn4_avx_fused_nonprobmpi.LOC_Z == 2)]\n",
    "dfn4AvxFusNonProb_112mpi_1omp = dfn4_avx_fused_nonprobmpi[(dfn4_avx_fused_nonprobmpi.omp_thrd == 1) & (dfn4_avx_fused_nonprobmpi.GLB_T/dfn4_avx_fused_nonprobmpi.LOC_T == 14) & (dfn4_avx_fused_nonprobmpi.GLB_X/dfn4_avx_fused_nonprobmpi.LOC_X == 2) & (dfn4_avx_fused_nonprobmpi.GLB_Y/dfn4_avx_fused_nonprobmpi.LOC_Y == 2)& (dfn4_avx_fused_nonprobmpi.GLB_Z/dfn4_avx_fused_nonprobmpi.LOC_Z == 2)]\n",
    "dfn4AvxFusNonProb_128mpi_1omp = dfn4_avx_fused_nonprobmpi[(dfn4_avx_fused_nonprobmpi.omp_thrd == 1) & (dfn4_avx_fused_nonprobmpi.GLB_T/dfn4_avx_fused_nonprobmpi.LOC_T == 16) & (dfn4_avx_fused_nonprobmpi.GLB_X/dfn4_avx_fused_nonprobmpi.LOC_X == 2) & (dfn4_avx_fused_nonprobmpi.GLB_Y/dfn4_avx_fused_nonprobmpi.LOC_Y == 2)& (dfn4_avx_fused_nonprobmpi.GLB_Z/dfn4_avx_fused_nonprobmpi.LOC_Z == 2)]\n"
   ]
  },
  {
   "cell_type": "markdown",
   "id": "a0ce99e4",
   "metadata": {},
   "source": [
    "## GFLOPS - AVX-Fused: Probmpi vs Non-Probempi"
   ]
  },
  {
   "cell_type": "code",
   "execution_count": 56,
   "id": "49b3c827",
   "metadata": {},
   "outputs": [
    {
     "data": {
      "application/vnd.plotly.v1+json": {
       "config": {
        "plotlyServerURL": "https://plot.ly"
       },
       "data": [
        {
         "line": {
          "color": "magenta",
          "width": 3
         },
         "marker": {
          "line": {
           "color": "yellow",
           "width": 1
          },
          "size": 9,
          "symbol": "hexagon"
         },
         "mode": "lines+markers",
         "name": "AvxFusProb_32mpi_4omp",
         "type": "scatter",
         "x": [
          50331648,
          62914560,
          75497472,
          88080384,
          100663296,
          113246208,
          125829120,
          138412032,
          150994944,
          163577856,
          176160768,
          188743680,
          201326592,
          213909504,
          226492416,
          239075328,
          251658240,
          264241152,
          276824064,
          289406976,
          301989888,
          314572800,
          327155712,
          339738624,
          352321536,
          364904448,
          377487360,
          390070272,
          402653184
         ],
         "y": [
          44.27608,
          47.61272,
          50.31128,
          52.19944,
          53.22984,
          54.53384,
          53.83664,
          53.52264,
          50.99528,
          52.68376,
          49.92712,
          50.77272,
          47.7032,
          46.10152,
          45.73408,
          44.26496,
          42.42496,
          39.93336,
          40.21408,
          40.12312,
          39.43296,
          38.23536,
          39.47512,
          39.41024,
          39.2484,
          38.864,
          39.0092,
          39.13424,
          39.10792
         ]
        },
        {
         "line": {
          "color": "darkcyan",
          "width": 3
         },
         "marker": {
          "line": {
           "color": "yellow",
           "width": 1
          },
          "size": 9,
          "symbol": "hexagon"
         },
         "mode": "lines+markers",
         "name": "AvxFusNonProb_32mpi_4omp",
         "type": "scatter",
         "x": [
          50331648,
          62914560,
          75497472,
          88080384,
          100663296,
          113246208,
          125829120,
          138412032,
          150994944,
          163577856,
          176160768,
          188743680,
          201326592,
          213909504,
          226492416,
          239075328,
          251658240,
          264241152,
          276824064,
          289406976,
          301989888,
          314572800,
          327155712,
          339738624,
          352321536,
          364904448,
          377487360,
          390070272,
          402653184
         ],
         "y": [
          53.42568,
          51.7068,
          60.86336,
          64.46136,
          58.54792,
          59.67112,
          59.62544,
          66.98312,
          59.58744,
          59.81928,
          58.05912,
          57.42384,
          55.06448,
          54.05656,
          51.16584,
          50.03344,
          48.16256,
          46.96816,
          46.06608,
          45.62192,
          44.88976,
          44.55472,
          43.382,
          43.41656,
          42.67632,
          42.6144,
          41.98496,
          41.98384,
          41.7192
         ]
        },
        {
         "line": {
          "color": "sandybrown",
          "width": 3
         },
         "marker": {
          "line": {
           "color": "MediumPurple",
           "width": 2
          },
          "size": 5,
          "symbol": "diamond"
         },
         "mode": "lines+markers",
         "name": "AvxFusProb_40mpi_3omp",
         "type": "scatter",
         "x": [
          62914560,
          94371840,
          125829120,
          157286400,
          188743680,
          220200960,
          251658240,
          283115520,
          314572800,
          346030080,
          377487360
         ],
         "y": [
          42.306200000000004,
          50.2442,
          49.0882,
          42.6867,
          37.5009,
          34.574,
          34.3509,
          33.335300000000004,
          33.858000000000004,
          33.8648,
          33.8457
         ]
        },
        {
         "line": {
          "color": "royalblue",
          "width": 3
         },
         "marker": {
          "line": {
           "color": "MediumPurple",
           "width": 2
          },
          "size": 5,
          "symbol": "diamond"
         },
         "mode": "lines+markers",
         "name": "AvxFusNonProb_40mpi_3omp",
         "type": "scatter",
         "x": [
          62914560,
          94371840,
          125829120,
          157286400,
          188743680,
          220200960,
          251658240,
          283115520,
          314572800,
          346030080,
          377487360
         ],
         "y": [
          44.2145,
          55.1896,
          54.963499999999996,
          45.5628,
          41.3906,
          36.9175,
          36.2318,
          35.7217,
          35.3204,
          36.0225,
          35.4648
         ]
        },
        {
         "line": {
          "color": "cyan",
          "width": 3
         },
         "marker": {
          "line": {
           "color": "Purple",
           "width": 2
          },
          "size": 7,
          "symbol": "circle"
         },
         "mode": "lines+markers",
         "name": "AvxFusProb_56mpi_2omp",
         "type": "scatter",
         "x": [
          88080384,
          132120576,
          176160768,
          220200960,
          264241152,
          308281344,
          352321536,
          396361728
         ],
         "y": [
          52.835440000000006,
          53.5234,
          46.323339999999995,
          41.65238,
          38.91146,
          39.03886,
          37.97038,
          37.22712
         ]
        },
        {
         "line": {
          "color": "darkblue",
          "width": 3
         },
         "marker": {
          "line": {
           "color": "tomato",
           "width": 2
          },
          "size": 7,
          "symbol": "circle"
         },
         "mode": "lines+markers",
         "name": "AvxFusNonProb_56mpi_2omp",
         "type": "scatter",
         "x": [
          88080384,
          132120576,
          176160768,
          220200960,
          264241152,
          308281344,
          352321536,
          396361728
         ],
         "y": [
          53.5507,
          54.33176,
          52.83964,
          45.1479,
          42.669340000000005,
          42.4186,
          41.2867,
          39.564840000000004
         ]
        },
        {
         "line": {
          "color": "blue",
          "width": 3
         },
         "marker": {
          "line": {
           "color": "black",
           "width": 1
          },
          "size": 7,
          "symbol": "star"
         },
         "mode": "lines+markers",
         "name": "AvxFusProb_64mpi_2omp",
         "type": "scatter",
         "x": [
          100663296,
          125829120,
          150994944,
          176160768,
          201326592,
          226492416,
          251658240,
          276824064,
          301989888,
          327155712,
          352321536,
          377487360,
          402653184
         ],
         "y": [
          59.96304,
          60.0464,
          58.32032,
          56.44112,
          50.77904,
          51.13456,
          49.05568,
          47.5048,
          44.20896,
          45.31008,
          43.99536,
          44.52896,
          44.15776
         ]
        },
        {
         "line": {
          "color": "red",
          "width": 3
         },
         "marker": {
          "line": {
           "color": "black",
           "width": 1
          },
          "size": 7,
          "symbol": "star"
         },
         "mode": "lines+markers",
         "name": "AvxFusNonProb_64mpi_2omp",
         "type": "scatter",
         "x": [
          100663296,
          125829120,
          150994944,
          176160768,
          201326592,
          226492416,
          251658240,
          276824064,
          301989888,
          327155712,
          352321536,
          377487360,
          402653184
         ],
         "y": [
          64.5872,
          65.56256,
          64.91568,
          61.97952,
          56.53696,
          55.36608,
          52.58432,
          51.69488,
          50.41648,
          49.58304,
          48.30592,
          47.71968,
          46.79632
         ]
        },
        {
         "line": {
          "color": "chartreuse",
          "width": 3
         },
         "marker": {
          "line": {
           "color": "mediumvioletred",
           "width": 1
          },
          "size": 7,
          "symbol": "square-dot"
         },
         "mode": "lines+markers",
         "name": "AvxFusProb_112mpi_1omp",
         "type": "scatter",
         "x": [
          176160768,
          220200960,
          264241152,
          308281344,
          352321536,
          396361728
         ],
         "y": [
          41.9818,
          38.6092,
          38.8976,
          37.66476,
          36.14828,
          36.492960000000004
         ]
        },
        {
         "line": {
          "color": "black",
          "width": 3
         },
         "marker": {
          "line": {
           "color": "mediumvioletred",
           "width": 1
          },
          "size": 7,
          "symbol": "square-dot"
         },
         "mode": "lines+markers",
         "name": "AvxFusNonProb_112mpi_1omp",
         "type": "scatter",
         "x": [
          176160768,
          220200960,
          264241152,
          308281344,
          352321536,
          396361728
         ],
         "y": [
          41.8754,
          41.10064,
          40.01564,
          38.89788,
          38.2046,
          37.61044
         ]
        },
        {
         "line": {
          "color": "gold",
          "width": 3
         },
         "marker": {
          "line": {
           "color": "black",
           "width": 1
          },
          "size": 6,
          "symbol": "triangle-up"
         },
         "mode": "lines+markers",
         "name": "AvxFusProb_64mpi_1omp",
         "type": "scatter",
         "x": [
          201326592,
          251658240,
          301989888,
          352321536,
          402653184
         ],
         "y": [
          48.02688,
          45.8,
          42.99232,
          42.2768,
          42.30176
         ]
        },
        {
         "line": {
          "color": "dimgray",
          "width": 3
         },
         "marker": {
          "line": {
           "color": "black",
           "width": 1
          },
          "size": 6,
          "symbol": "triangle-up"
         },
         "mode": "lines+markers",
         "name": "AvxFusNonProb_128mpi_1omp",
         "type": "scatter",
         "x": [
          201326592,
          251658240,
          301989888,
          352321536,
          402653184
         ],
         "y": [
          50.12096,
          46.42368,
          46.21216,
          45.05408,
          44.0336
         ]
        }
       ],
       "layout": {
        "annotations": [
         {
          "align": "left",
          "arrowcolor": "#636363",
          "arrowhead": 1,
          "arrowsize": 1,
          "arrowwidth": 2,
          "ax": -20,
          "ay": -30,
          "font": {
           "color": "purple",
           "family": "Sans Serif",
           "size": 12
          },
          "showarrow": false,
          "text": "LLC Size Per Node",
          "x": "80e6",
          "y": 130,
          "yanchor": "bottom"
         }
        ],
        "legend": {
         "bordercolor": "black",
         "borderwidth": 1
        },
        "shapes": [
         {
          "line": {
           "color": "green",
           "dash": "dash",
           "width": 3
          },
          "type": "line",
          "x0": 80000000,
          "x1": 80000000,
          "xref": "x",
          "y0": 0,
          "y1": 1,
          "yref": "y domain"
         }
        ],
        "template": {
         "data": {
          "bar": [
           {
            "error_x": {
             "color": "#2a3f5f"
            },
            "error_y": {
             "color": "#2a3f5f"
            },
            "marker": {
             "line": {
              "color": "#E5ECF6",
              "width": 0.5
             },
             "pattern": {
              "fillmode": "overlay",
              "size": 10,
              "solidity": 0.2
             }
            },
            "type": "bar"
           }
          ],
          "barpolar": [
           {
            "marker": {
             "line": {
              "color": "#E5ECF6",
              "width": 0.5
             },
             "pattern": {
              "fillmode": "overlay",
              "size": 10,
              "solidity": 0.2
             }
            },
            "type": "barpolar"
           }
          ],
          "carpet": [
           {
            "aaxis": {
             "endlinecolor": "#2a3f5f",
             "gridcolor": "white",
             "linecolor": "white",
             "minorgridcolor": "white",
             "startlinecolor": "#2a3f5f"
            },
            "baxis": {
             "endlinecolor": "#2a3f5f",
             "gridcolor": "white",
             "linecolor": "white",
             "minorgridcolor": "white",
             "startlinecolor": "#2a3f5f"
            },
            "type": "carpet"
           }
          ],
          "choropleth": [
           {
            "colorbar": {
             "outlinewidth": 0,
             "ticks": ""
            },
            "type": "choropleth"
           }
          ],
          "contour": [
           {
            "colorbar": {
             "outlinewidth": 0,
             "ticks": ""
            },
            "colorscale": [
             [
              0,
              "#0d0887"
             ],
             [
              0.1111111111111111,
              "#46039f"
             ],
             [
              0.2222222222222222,
              "#7201a8"
             ],
             [
              0.3333333333333333,
              "#9c179e"
             ],
             [
              0.4444444444444444,
              "#bd3786"
             ],
             [
              0.5555555555555556,
              "#d8576b"
             ],
             [
              0.6666666666666666,
              "#ed7953"
             ],
             [
              0.7777777777777778,
              "#fb9f3a"
             ],
             [
              0.8888888888888888,
              "#fdca26"
             ],
             [
              1,
              "#f0f921"
             ]
            ],
            "type": "contour"
           }
          ],
          "contourcarpet": [
           {
            "colorbar": {
             "outlinewidth": 0,
             "ticks": ""
            },
            "type": "contourcarpet"
           }
          ],
          "heatmap": [
           {
            "colorbar": {
             "outlinewidth": 0,
             "ticks": ""
            },
            "colorscale": [
             [
              0,
              "#0d0887"
             ],
             [
              0.1111111111111111,
              "#46039f"
             ],
             [
              0.2222222222222222,
              "#7201a8"
             ],
             [
              0.3333333333333333,
              "#9c179e"
             ],
             [
              0.4444444444444444,
              "#bd3786"
             ],
             [
              0.5555555555555556,
              "#d8576b"
             ],
             [
              0.6666666666666666,
              "#ed7953"
             ],
             [
              0.7777777777777778,
              "#fb9f3a"
             ],
             [
              0.8888888888888888,
              "#fdca26"
             ],
             [
              1,
              "#f0f921"
             ]
            ],
            "type": "heatmap"
           }
          ],
          "heatmapgl": [
           {
            "colorbar": {
             "outlinewidth": 0,
             "ticks": ""
            },
            "colorscale": [
             [
              0,
              "#0d0887"
             ],
             [
              0.1111111111111111,
              "#46039f"
             ],
             [
              0.2222222222222222,
              "#7201a8"
             ],
             [
              0.3333333333333333,
              "#9c179e"
             ],
             [
              0.4444444444444444,
              "#bd3786"
             ],
             [
              0.5555555555555556,
              "#d8576b"
             ],
             [
              0.6666666666666666,
              "#ed7953"
             ],
             [
              0.7777777777777778,
              "#fb9f3a"
             ],
             [
              0.8888888888888888,
              "#fdca26"
             ],
             [
              1,
              "#f0f921"
             ]
            ],
            "type": "heatmapgl"
           }
          ],
          "histogram": [
           {
            "marker": {
             "pattern": {
              "fillmode": "overlay",
              "size": 10,
              "solidity": 0.2
             }
            },
            "type": "histogram"
           }
          ],
          "histogram2d": [
           {
            "colorbar": {
             "outlinewidth": 0,
             "ticks": ""
            },
            "colorscale": [
             [
              0,
              "#0d0887"
             ],
             [
              0.1111111111111111,
              "#46039f"
             ],
             [
              0.2222222222222222,
              "#7201a8"
             ],
             [
              0.3333333333333333,
              "#9c179e"
             ],
             [
              0.4444444444444444,
              "#bd3786"
             ],
             [
              0.5555555555555556,
              "#d8576b"
             ],
             [
              0.6666666666666666,
              "#ed7953"
             ],
             [
              0.7777777777777778,
              "#fb9f3a"
             ],
             [
              0.8888888888888888,
              "#fdca26"
             ],
             [
              1,
              "#f0f921"
             ]
            ],
            "type": "histogram2d"
           }
          ],
          "histogram2dcontour": [
           {
            "colorbar": {
             "outlinewidth": 0,
             "ticks": ""
            },
            "colorscale": [
             [
              0,
              "#0d0887"
             ],
             [
              0.1111111111111111,
              "#46039f"
             ],
             [
              0.2222222222222222,
              "#7201a8"
             ],
             [
              0.3333333333333333,
              "#9c179e"
             ],
             [
              0.4444444444444444,
              "#bd3786"
             ],
             [
              0.5555555555555556,
              "#d8576b"
             ],
             [
              0.6666666666666666,
              "#ed7953"
             ],
             [
              0.7777777777777778,
              "#fb9f3a"
             ],
             [
              0.8888888888888888,
              "#fdca26"
             ],
             [
              1,
              "#f0f921"
             ]
            ],
            "type": "histogram2dcontour"
           }
          ],
          "mesh3d": [
           {
            "colorbar": {
             "outlinewidth": 0,
             "ticks": ""
            },
            "type": "mesh3d"
           }
          ],
          "parcoords": [
           {
            "line": {
             "colorbar": {
              "outlinewidth": 0,
              "ticks": ""
             }
            },
            "type": "parcoords"
           }
          ],
          "pie": [
           {
            "automargin": true,
            "type": "pie"
           }
          ],
          "scatter": [
           {
            "fillpattern": {
             "fillmode": "overlay",
             "size": 10,
             "solidity": 0.2
            },
            "type": "scatter"
           }
          ],
          "scatter3d": [
           {
            "line": {
             "colorbar": {
              "outlinewidth": 0,
              "ticks": ""
             }
            },
            "marker": {
             "colorbar": {
              "outlinewidth": 0,
              "ticks": ""
             }
            },
            "type": "scatter3d"
           }
          ],
          "scattercarpet": [
           {
            "marker": {
             "colorbar": {
              "outlinewidth": 0,
              "ticks": ""
             }
            },
            "type": "scattercarpet"
           }
          ],
          "scattergeo": [
           {
            "marker": {
             "colorbar": {
              "outlinewidth": 0,
              "ticks": ""
             }
            },
            "type": "scattergeo"
           }
          ],
          "scattergl": [
           {
            "marker": {
             "colorbar": {
              "outlinewidth": 0,
              "ticks": ""
             }
            },
            "type": "scattergl"
           }
          ],
          "scattermapbox": [
           {
            "marker": {
             "colorbar": {
              "outlinewidth": 0,
              "ticks": ""
             }
            },
            "type": "scattermapbox"
           }
          ],
          "scatterpolar": [
           {
            "marker": {
             "colorbar": {
              "outlinewidth": 0,
              "ticks": ""
             }
            },
            "type": "scatterpolar"
           }
          ],
          "scatterpolargl": [
           {
            "marker": {
             "colorbar": {
              "outlinewidth": 0,
              "ticks": ""
             }
            },
            "type": "scatterpolargl"
           }
          ],
          "scatterternary": [
           {
            "marker": {
             "colorbar": {
              "outlinewidth": 0,
              "ticks": ""
             }
            },
            "type": "scatterternary"
           }
          ],
          "surface": [
           {
            "colorbar": {
             "outlinewidth": 0,
             "ticks": ""
            },
            "colorscale": [
             [
              0,
              "#0d0887"
             ],
             [
              0.1111111111111111,
              "#46039f"
             ],
             [
              0.2222222222222222,
              "#7201a8"
             ],
             [
              0.3333333333333333,
              "#9c179e"
             ],
             [
              0.4444444444444444,
              "#bd3786"
             ],
             [
              0.5555555555555556,
              "#d8576b"
             ],
             [
              0.6666666666666666,
              "#ed7953"
             ],
             [
              0.7777777777777778,
              "#fb9f3a"
             ],
             [
              0.8888888888888888,
              "#fdca26"
             ],
             [
              1,
              "#f0f921"
             ]
            ],
            "type": "surface"
           }
          ],
          "table": [
           {
            "cells": {
             "fill": {
              "color": "#EBF0F8"
             },
             "line": {
              "color": "white"
             }
            },
            "header": {
             "fill": {
              "color": "#C8D4E3"
             },
             "line": {
              "color": "white"
             }
            },
            "type": "table"
           }
          ]
         },
         "layout": {
          "annotationdefaults": {
           "arrowcolor": "#2a3f5f",
           "arrowhead": 0,
           "arrowwidth": 1
          },
          "autotypenumbers": "strict",
          "coloraxis": {
           "colorbar": {
            "outlinewidth": 0,
            "ticks": ""
           }
          },
          "colorscale": {
           "diverging": [
            [
             0,
             "#8e0152"
            ],
            [
             0.1,
             "#c51b7d"
            ],
            [
             0.2,
             "#de77ae"
            ],
            [
             0.3,
             "#f1b6da"
            ],
            [
             0.4,
             "#fde0ef"
            ],
            [
             0.5,
             "#f7f7f7"
            ],
            [
             0.6,
             "#e6f5d0"
            ],
            [
             0.7,
             "#b8e186"
            ],
            [
             0.8,
             "#7fbc41"
            ],
            [
             0.9,
             "#4d9221"
            ],
            [
             1,
             "#276419"
            ]
           ],
           "sequential": [
            [
             0,
             "#0d0887"
            ],
            [
             0.1111111111111111,
             "#46039f"
            ],
            [
             0.2222222222222222,
             "#7201a8"
            ],
            [
             0.3333333333333333,
             "#9c179e"
            ],
            [
             0.4444444444444444,
             "#bd3786"
            ],
            [
             0.5555555555555556,
             "#d8576b"
            ],
            [
             0.6666666666666666,
             "#ed7953"
            ],
            [
             0.7777777777777778,
             "#fb9f3a"
            ],
            [
             0.8888888888888888,
             "#fdca26"
            ],
            [
             1,
             "#f0f921"
            ]
           ],
           "sequentialminus": [
            [
             0,
             "#0d0887"
            ],
            [
             0.1111111111111111,
             "#46039f"
            ],
            [
             0.2222222222222222,
             "#7201a8"
            ],
            [
             0.3333333333333333,
             "#9c179e"
            ],
            [
             0.4444444444444444,
             "#bd3786"
            ],
            [
             0.5555555555555556,
             "#d8576b"
            ],
            [
             0.6666666666666666,
             "#ed7953"
            ],
            [
             0.7777777777777778,
             "#fb9f3a"
            ],
            [
             0.8888888888888888,
             "#fdca26"
            ],
            [
             1,
             "#f0f921"
            ]
           ]
          },
          "colorway": [
           "#636efa",
           "#EF553B",
           "#00cc96",
           "#ab63fa",
           "#FFA15A",
           "#19d3f3",
           "#FF6692",
           "#B6E880",
           "#FF97FF",
           "#FECB52"
          ],
          "font": {
           "color": "#2a3f5f"
          },
          "geo": {
           "bgcolor": "white",
           "lakecolor": "white",
           "landcolor": "#E5ECF6",
           "showlakes": true,
           "showland": true,
           "subunitcolor": "white"
          },
          "hoverlabel": {
           "align": "left"
          },
          "hovermode": "closest",
          "mapbox": {
           "style": "light"
          },
          "paper_bgcolor": "white",
          "plot_bgcolor": "#E5ECF6",
          "polar": {
           "angularaxis": {
            "gridcolor": "white",
            "linecolor": "white",
            "ticks": ""
           },
           "bgcolor": "#E5ECF6",
           "radialaxis": {
            "gridcolor": "white",
            "linecolor": "white",
            "ticks": ""
           }
          },
          "scene": {
           "xaxis": {
            "backgroundcolor": "#E5ECF6",
            "gridcolor": "white",
            "gridwidth": 2,
            "linecolor": "white",
            "showbackground": true,
            "ticks": "",
            "zerolinecolor": "white"
           },
           "yaxis": {
            "backgroundcolor": "#E5ECF6",
            "gridcolor": "white",
            "gridwidth": 2,
            "linecolor": "white",
            "showbackground": true,
            "ticks": "",
            "zerolinecolor": "white"
           },
           "zaxis": {
            "backgroundcolor": "#E5ECF6",
            "gridcolor": "white",
            "gridwidth": 2,
            "linecolor": "white",
            "showbackground": true,
            "ticks": "",
            "zerolinecolor": "white"
           }
          },
          "shapedefaults": {
           "line": {
            "color": "#2a3f5f"
           }
          },
          "ternary": {
           "aaxis": {
            "gridcolor": "white",
            "linecolor": "white",
            "ticks": ""
           },
           "baxis": {
            "gridcolor": "white",
            "linecolor": "white",
            "ticks": ""
           },
           "bgcolor": "#E5ECF6",
           "caxis": {
            "gridcolor": "white",
            "linecolor": "white",
            "ticks": ""
           }
          },
          "title": {
           "x": 0.05
          },
          "xaxis": {
           "automargin": true,
           "gridcolor": "white",
           "linecolor": "white",
           "ticks": "",
           "title": {
            "standoff": 15
           },
           "zerolinecolor": "white",
           "zerolinewidth": 2
          },
          "yaxis": {
           "automargin": true,
           "gridcolor": "white",
           "linecolor": "white",
           "ticks": "",
           "title": {
            "standoff": 15
           },
           "zerolinecolor": "white",
           "zerolinewidth": 2
          }
         }
        },
        "title": {
         "text": "\"AVX-Fused: Probmpi vs Non-Probempi\" GFlops Measurement"
        },
        "xaxis": {
         "ticks": "outside",
         "title": {
          "text": "Dirc_Data_Mov"
         }
        },
        "yaxis": {
         "ticks": "outside",
         "title": {
          "text": "GFLOPs/Node"
         }
        }
       }
      },
      "text/html": [
       "<div>                            <div id=\"2b2f05fc-5f9d-4e55-8ba1-b188959d7e30\" class=\"plotly-graph-div\" style=\"height:525px; width:100%;\"></div>            <script type=\"text/javascript\">                require([\"plotly\"], function(Plotly) {                    window.PLOTLYENV=window.PLOTLYENV || {};                                    if (document.getElementById(\"2b2f05fc-5f9d-4e55-8ba1-b188959d7e30\")) {                    Plotly.newPlot(                        \"2b2f05fc-5f9d-4e55-8ba1-b188959d7e30\",                        [{\"line\":{\"color\":\"magenta\",\"width\":3},\"marker\":{\"line\":{\"color\":\"yellow\",\"width\":1},\"size\":9,\"symbol\":\"hexagon\"},\"mode\":\"lines+markers\",\"name\":\"AvxFusProb_32mpi_4omp\",\"x\":[50331648.0,62914560.0,75497472.0,88080384.0,100663296.0,113246208.0,125829120.0,138412032.0,150994944.0,163577856.0,176160768.0,188743680.0,201326592.0,213909504.0,226492416.0,239075328.0,251658240.0,264241152.0,276824064.0,289406976.0,301989888.0,314572800.0,327155712.0,339738624.0,352321536.0,364904448.0,377487360.0,390070272.0,402653184.0],\"y\":[44.27608,47.61272,50.31128,52.19944,53.22984,54.53384,53.83664,53.52264,50.99528,52.68376,49.92712,50.77272,47.7032,46.10152,45.73408,44.26496,42.42496,39.93336,40.21408,40.12312,39.43296,38.23536,39.47512,39.41024,39.2484,38.864,39.0092,39.13424,39.10792],\"type\":\"scatter\"},{\"line\":{\"color\":\"darkcyan\",\"width\":3},\"marker\":{\"line\":{\"color\":\"yellow\",\"width\":1},\"size\":9,\"symbol\":\"hexagon\"},\"mode\":\"lines+markers\",\"name\":\"AvxFusNonProb_32mpi_4omp\",\"x\":[50331648.0,62914560.0,75497472.0,88080384.0,100663296.0,113246208.0,125829120.0,138412032.0,150994944.0,163577856.0,176160768.0,188743680.0,201326592.0,213909504.0,226492416.0,239075328.0,251658240.0,264241152.0,276824064.0,289406976.0,301989888.0,314572800.0,327155712.0,339738624.0,352321536.0,364904448.0,377487360.0,390070272.0,402653184.0],\"y\":[53.42568,51.7068,60.86336,64.46136,58.54792,59.67112,59.62544,66.98312,59.58744,59.81928,58.05912,57.42384,55.06448,54.05656,51.16584,50.03344,48.16256,46.96816,46.06608,45.62192,44.88976,44.55472,43.382,43.41656,42.67632,42.6144,41.98496,41.98384,41.7192],\"type\":\"scatter\"},{\"line\":{\"color\":\"sandybrown\",\"width\":3},\"marker\":{\"line\":{\"color\":\"MediumPurple\",\"width\":2},\"size\":5,\"symbol\":\"diamond\"},\"mode\":\"lines+markers\",\"name\":\"AvxFusProb_40mpi_3omp\",\"x\":[62914560.0,94371840.0,125829120.0,157286400.0,188743680.0,220200960.0,251658240.0,283115520.0,314572800.0,346030080.0,377487360.0],\"y\":[42.306200000000004,50.2442,49.0882,42.6867,37.5009,34.574,34.3509,33.335300000000004,33.858000000000004,33.8648,33.8457],\"type\":\"scatter\"},{\"line\":{\"color\":\"royalblue\",\"width\":3},\"marker\":{\"line\":{\"color\":\"MediumPurple\",\"width\":2},\"size\":5,\"symbol\":\"diamond\"},\"mode\":\"lines+markers\",\"name\":\"AvxFusNonProb_40mpi_3omp\",\"x\":[62914560.0,94371840.0,125829120.0,157286400.0,188743680.0,220200960.0,251658240.0,283115520.0,314572800.0,346030080.0,377487360.0],\"y\":[44.2145,55.1896,54.963499999999996,45.5628,41.3906,36.9175,36.2318,35.7217,35.3204,36.0225,35.4648],\"type\":\"scatter\"},{\"line\":{\"color\":\"cyan\",\"width\":3},\"marker\":{\"line\":{\"color\":\"Purple\",\"width\":2},\"size\":7,\"symbol\":\"circle\"},\"mode\":\"lines+markers\",\"name\":\"AvxFusProb_56mpi_2omp\",\"x\":[88080384.0,132120576.0,176160768.0,220200960.0,264241152.0,308281344.0,352321536.0,396361728.0],\"y\":[52.835440000000006,53.5234,46.323339999999995,41.65238,38.91146,39.03886,37.97038,37.22712],\"type\":\"scatter\"},{\"line\":{\"color\":\"darkblue\",\"width\":3},\"marker\":{\"line\":{\"color\":\"tomato\",\"width\":2},\"size\":7,\"symbol\":\"circle\"},\"mode\":\"lines+markers\",\"name\":\"AvxFusNonProb_56mpi_2omp\",\"x\":[88080384.0,132120576.0,176160768.0,220200960.0,264241152.0,308281344.0,352321536.0,396361728.0],\"y\":[53.5507,54.33176,52.83964,45.1479,42.669340000000005,42.4186,41.2867,39.564840000000004],\"type\":\"scatter\"},{\"line\":{\"color\":\"blue\",\"width\":3},\"marker\":{\"line\":{\"color\":\"black\",\"width\":1},\"size\":7,\"symbol\":\"star\"},\"mode\":\"lines+markers\",\"name\":\"AvxFusProb_64mpi_2omp\",\"x\":[100663296.0,125829120.0,150994944.0,176160768.0,201326592.0,226492416.0,251658240.0,276824064.0,301989888.0,327155712.0,352321536.0,377487360.0,402653184.0],\"y\":[59.96304,60.0464,58.32032,56.44112,50.77904,51.13456,49.05568,47.5048,44.20896,45.31008,43.99536,44.52896,44.15776],\"type\":\"scatter\"},{\"line\":{\"color\":\"red\",\"width\":3},\"marker\":{\"line\":{\"color\":\"black\",\"width\":1},\"size\":7,\"symbol\":\"star\"},\"mode\":\"lines+markers\",\"name\":\"AvxFusNonProb_64mpi_2omp\",\"x\":[100663296.0,125829120.0,150994944.0,176160768.0,201326592.0,226492416.0,251658240.0,276824064.0,301989888.0,327155712.0,352321536.0,377487360.0,402653184.0],\"y\":[64.5872,65.56256,64.91568,61.97952,56.53696,55.36608,52.58432,51.69488,50.41648,49.58304,48.30592,47.71968,46.79632],\"type\":\"scatter\"},{\"line\":{\"color\":\"chartreuse\",\"width\":3},\"marker\":{\"line\":{\"color\":\"mediumvioletred\",\"width\":1},\"size\":7,\"symbol\":\"square-dot\"},\"mode\":\"lines+markers\",\"name\":\"AvxFusProb_112mpi_1omp\",\"x\":[176160768.0,220200960.0,264241152.0,308281344.0,352321536.0,396361728.0],\"y\":[41.9818,38.6092,38.8976,37.66476,36.14828,36.492960000000004],\"type\":\"scatter\"},{\"line\":{\"color\":\"black\",\"width\":3},\"marker\":{\"line\":{\"color\":\"mediumvioletred\",\"width\":1},\"size\":7,\"symbol\":\"square-dot\"},\"mode\":\"lines+markers\",\"name\":\"AvxFusNonProb_112mpi_1omp\",\"x\":[176160768.0,220200960.0,264241152.0,308281344.0,352321536.0,396361728.0],\"y\":[41.8754,41.10064,40.01564,38.89788,38.2046,37.61044],\"type\":\"scatter\"},{\"line\":{\"color\":\"gold\",\"width\":3},\"marker\":{\"line\":{\"color\":\"black\",\"width\":1},\"size\":6,\"symbol\":\"triangle-up\"},\"mode\":\"lines+markers\",\"name\":\"AvxFusProb_64mpi_1omp\",\"x\":[201326592.0,251658240.0,301989888.0,352321536.0,402653184.0],\"y\":[48.02688,45.8,42.99232,42.2768,42.30176],\"type\":\"scatter\"},{\"line\":{\"color\":\"dimgray\",\"width\":3},\"marker\":{\"line\":{\"color\":\"black\",\"width\":1},\"size\":6,\"symbol\":\"triangle-up\"},\"mode\":\"lines+markers\",\"name\":\"AvxFusNonProb_128mpi_1omp\",\"x\":[201326592.0,251658240.0,301989888.0,352321536.0,402653184.0],\"y\":[50.12096,46.42368,46.21216,45.05408,44.0336],\"type\":\"scatter\"}],                        {\"template\":{\"data\":{\"histogram2dcontour\":[{\"type\":\"histogram2dcontour\",\"colorbar\":{\"outlinewidth\":0,\"ticks\":\"\"},\"colorscale\":[[0.0,\"#0d0887\"],[0.1111111111111111,\"#46039f\"],[0.2222222222222222,\"#7201a8\"],[0.3333333333333333,\"#9c179e\"],[0.4444444444444444,\"#bd3786\"],[0.5555555555555556,\"#d8576b\"],[0.6666666666666666,\"#ed7953\"],[0.7777777777777778,\"#fb9f3a\"],[0.8888888888888888,\"#fdca26\"],[1.0,\"#f0f921\"]]}],\"choropleth\":[{\"type\":\"choropleth\",\"colorbar\":{\"outlinewidth\":0,\"ticks\":\"\"}}],\"histogram2d\":[{\"type\":\"histogram2d\",\"colorbar\":{\"outlinewidth\":0,\"ticks\":\"\"},\"colorscale\":[[0.0,\"#0d0887\"],[0.1111111111111111,\"#46039f\"],[0.2222222222222222,\"#7201a8\"],[0.3333333333333333,\"#9c179e\"],[0.4444444444444444,\"#bd3786\"],[0.5555555555555556,\"#d8576b\"],[0.6666666666666666,\"#ed7953\"],[0.7777777777777778,\"#fb9f3a\"],[0.8888888888888888,\"#fdca26\"],[1.0,\"#f0f921\"]]}],\"heatmap\":[{\"type\":\"heatmap\",\"colorbar\":{\"outlinewidth\":0,\"ticks\":\"\"},\"colorscale\":[[0.0,\"#0d0887\"],[0.1111111111111111,\"#46039f\"],[0.2222222222222222,\"#7201a8\"],[0.3333333333333333,\"#9c179e\"],[0.4444444444444444,\"#bd3786\"],[0.5555555555555556,\"#d8576b\"],[0.6666666666666666,\"#ed7953\"],[0.7777777777777778,\"#fb9f3a\"],[0.8888888888888888,\"#fdca26\"],[1.0,\"#f0f921\"]]}],\"heatmapgl\":[{\"type\":\"heatmapgl\",\"colorbar\":{\"outlinewidth\":0,\"ticks\":\"\"},\"colorscale\":[[0.0,\"#0d0887\"],[0.1111111111111111,\"#46039f\"],[0.2222222222222222,\"#7201a8\"],[0.3333333333333333,\"#9c179e\"],[0.4444444444444444,\"#bd3786\"],[0.5555555555555556,\"#d8576b\"],[0.6666666666666666,\"#ed7953\"],[0.7777777777777778,\"#fb9f3a\"],[0.8888888888888888,\"#fdca26\"],[1.0,\"#f0f921\"]]}],\"contourcarpet\":[{\"type\":\"contourcarpet\",\"colorbar\":{\"outlinewidth\":0,\"ticks\":\"\"}}],\"contour\":[{\"type\":\"contour\",\"colorbar\":{\"outlinewidth\":0,\"ticks\":\"\"},\"colorscale\":[[0.0,\"#0d0887\"],[0.1111111111111111,\"#46039f\"],[0.2222222222222222,\"#7201a8\"],[0.3333333333333333,\"#9c179e\"],[0.4444444444444444,\"#bd3786\"],[0.5555555555555556,\"#d8576b\"],[0.6666666666666666,\"#ed7953\"],[0.7777777777777778,\"#fb9f3a\"],[0.8888888888888888,\"#fdca26\"],[1.0,\"#f0f921\"]]}],\"surface\":[{\"type\":\"surface\",\"colorbar\":{\"outlinewidth\":0,\"ticks\":\"\"},\"colorscale\":[[0.0,\"#0d0887\"],[0.1111111111111111,\"#46039f\"],[0.2222222222222222,\"#7201a8\"],[0.3333333333333333,\"#9c179e\"],[0.4444444444444444,\"#bd3786\"],[0.5555555555555556,\"#d8576b\"],[0.6666666666666666,\"#ed7953\"],[0.7777777777777778,\"#fb9f3a\"],[0.8888888888888888,\"#fdca26\"],[1.0,\"#f0f921\"]]}],\"mesh3d\":[{\"type\":\"mesh3d\",\"colorbar\":{\"outlinewidth\":0,\"ticks\":\"\"}}],\"scatter\":[{\"fillpattern\":{\"fillmode\":\"overlay\",\"size\":10,\"solidity\":0.2},\"type\":\"scatter\"}],\"parcoords\":[{\"type\":\"parcoords\",\"line\":{\"colorbar\":{\"outlinewidth\":0,\"ticks\":\"\"}}}],\"scatterpolargl\":[{\"type\":\"scatterpolargl\",\"marker\":{\"colorbar\":{\"outlinewidth\":0,\"ticks\":\"\"}}}],\"bar\":[{\"error_x\":{\"color\":\"#2a3f5f\"},\"error_y\":{\"color\":\"#2a3f5f\"},\"marker\":{\"line\":{\"color\":\"#E5ECF6\",\"width\":0.5},\"pattern\":{\"fillmode\":\"overlay\",\"size\":10,\"solidity\":0.2}},\"type\":\"bar\"}],\"scattergeo\":[{\"type\":\"scattergeo\",\"marker\":{\"colorbar\":{\"outlinewidth\":0,\"ticks\":\"\"}}}],\"scatterpolar\":[{\"type\":\"scatterpolar\",\"marker\":{\"colorbar\":{\"outlinewidth\":0,\"ticks\":\"\"}}}],\"histogram\":[{\"marker\":{\"pattern\":{\"fillmode\":\"overlay\",\"size\":10,\"solidity\":0.2}},\"type\":\"histogram\"}],\"scattergl\":[{\"type\":\"scattergl\",\"marker\":{\"colorbar\":{\"outlinewidth\":0,\"ticks\":\"\"}}}],\"scatter3d\":[{\"type\":\"scatter3d\",\"line\":{\"colorbar\":{\"outlinewidth\":0,\"ticks\":\"\"}},\"marker\":{\"colorbar\":{\"outlinewidth\":0,\"ticks\":\"\"}}}],\"scattermapbox\":[{\"type\":\"scattermapbox\",\"marker\":{\"colorbar\":{\"outlinewidth\":0,\"ticks\":\"\"}}}],\"scatterternary\":[{\"type\":\"scatterternary\",\"marker\":{\"colorbar\":{\"outlinewidth\":0,\"ticks\":\"\"}}}],\"scattercarpet\":[{\"type\":\"scattercarpet\",\"marker\":{\"colorbar\":{\"outlinewidth\":0,\"ticks\":\"\"}}}],\"carpet\":[{\"aaxis\":{\"endlinecolor\":\"#2a3f5f\",\"gridcolor\":\"white\",\"linecolor\":\"white\",\"minorgridcolor\":\"white\",\"startlinecolor\":\"#2a3f5f\"},\"baxis\":{\"endlinecolor\":\"#2a3f5f\",\"gridcolor\":\"white\",\"linecolor\":\"white\",\"minorgridcolor\":\"white\",\"startlinecolor\":\"#2a3f5f\"},\"type\":\"carpet\"}],\"table\":[{\"cells\":{\"fill\":{\"color\":\"#EBF0F8\"},\"line\":{\"color\":\"white\"}},\"header\":{\"fill\":{\"color\":\"#C8D4E3\"},\"line\":{\"color\":\"white\"}},\"type\":\"table\"}],\"barpolar\":[{\"marker\":{\"line\":{\"color\":\"#E5ECF6\",\"width\":0.5},\"pattern\":{\"fillmode\":\"overlay\",\"size\":10,\"solidity\":0.2}},\"type\":\"barpolar\"}],\"pie\":[{\"automargin\":true,\"type\":\"pie\"}]},\"layout\":{\"autotypenumbers\":\"strict\",\"colorway\":[\"#636efa\",\"#EF553B\",\"#00cc96\",\"#ab63fa\",\"#FFA15A\",\"#19d3f3\",\"#FF6692\",\"#B6E880\",\"#FF97FF\",\"#FECB52\"],\"font\":{\"color\":\"#2a3f5f\"},\"hovermode\":\"closest\",\"hoverlabel\":{\"align\":\"left\"},\"paper_bgcolor\":\"white\",\"plot_bgcolor\":\"#E5ECF6\",\"polar\":{\"bgcolor\":\"#E5ECF6\",\"angularaxis\":{\"gridcolor\":\"white\",\"linecolor\":\"white\",\"ticks\":\"\"},\"radialaxis\":{\"gridcolor\":\"white\",\"linecolor\":\"white\",\"ticks\":\"\"}},\"ternary\":{\"bgcolor\":\"#E5ECF6\",\"aaxis\":{\"gridcolor\":\"white\",\"linecolor\":\"white\",\"ticks\":\"\"},\"baxis\":{\"gridcolor\":\"white\",\"linecolor\":\"white\",\"ticks\":\"\"},\"caxis\":{\"gridcolor\":\"white\",\"linecolor\":\"white\",\"ticks\":\"\"}},\"coloraxis\":{\"colorbar\":{\"outlinewidth\":0,\"ticks\":\"\"}},\"colorscale\":{\"sequential\":[[0.0,\"#0d0887\"],[0.1111111111111111,\"#46039f\"],[0.2222222222222222,\"#7201a8\"],[0.3333333333333333,\"#9c179e\"],[0.4444444444444444,\"#bd3786\"],[0.5555555555555556,\"#d8576b\"],[0.6666666666666666,\"#ed7953\"],[0.7777777777777778,\"#fb9f3a\"],[0.8888888888888888,\"#fdca26\"],[1.0,\"#f0f921\"]],\"sequentialminus\":[[0.0,\"#0d0887\"],[0.1111111111111111,\"#46039f\"],[0.2222222222222222,\"#7201a8\"],[0.3333333333333333,\"#9c179e\"],[0.4444444444444444,\"#bd3786\"],[0.5555555555555556,\"#d8576b\"],[0.6666666666666666,\"#ed7953\"],[0.7777777777777778,\"#fb9f3a\"],[0.8888888888888888,\"#fdca26\"],[1.0,\"#f0f921\"]],\"diverging\":[[0,\"#8e0152\"],[0.1,\"#c51b7d\"],[0.2,\"#de77ae\"],[0.3,\"#f1b6da\"],[0.4,\"#fde0ef\"],[0.5,\"#f7f7f7\"],[0.6,\"#e6f5d0\"],[0.7,\"#b8e186\"],[0.8,\"#7fbc41\"],[0.9,\"#4d9221\"],[1,\"#276419\"]]},\"xaxis\":{\"gridcolor\":\"white\",\"linecolor\":\"white\",\"ticks\":\"\",\"title\":{\"standoff\":15},\"zerolinecolor\":\"white\",\"automargin\":true,\"zerolinewidth\":2},\"yaxis\":{\"gridcolor\":\"white\",\"linecolor\":\"white\",\"ticks\":\"\",\"title\":{\"standoff\":15},\"zerolinecolor\":\"white\",\"automargin\":true,\"zerolinewidth\":2},\"scene\":{\"xaxis\":{\"backgroundcolor\":\"#E5ECF6\",\"gridcolor\":\"white\",\"linecolor\":\"white\",\"showbackground\":true,\"ticks\":\"\",\"zerolinecolor\":\"white\",\"gridwidth\":2},\"yaxis\":{\"backgroundcolor\":\"#E5ECF6\",\"gridcolor\":\"white\",\"linecolor\":\"white\",\"showbackground\":true,\"ticks\":\"\",\"zerolinecolor\":\"white\",\"gridwidth\":2},\"zaxis\":{\"backgroundcolor\":\"#E5ECF6\",\"gridcolor\":\"white\",\"linecolor\":\"white\",\"showbackground\":true,\"ticks\":\"\",\"zerolinecolor\":\"white\",\"gridwidth\":2}},\"shapedefaults\":{\"line\":{\"color\":\"#2a3f5f\"}},\"annotationdefaults\":{\"arrowcolor\":\"#2a3f5f\",\"arrowhead\":0,\"arrowwidth\":1},\"geo\":{\"bgcolor\":\"white\",\"landcolor\":\"#E5ECF6\",\"subunitcolor\":\"white\",\"showland\":true,\"showlakes\":true,\"lakecolor\":\"white\"},\"title\":{\"x\":0.05},\"mapbox\":{\"style\":\"light\"}}},\"shapes\":[{\"line\":{\"color\":\"green\",\"dash\":\"dash\",\"width\":3},\"type\":\"line\",\"x0\":80000000.0,\"x1\":80000000.0,\"xref\":\"x\",\"y0\":0,\"y1\":1,\"yref\":\"y domain\"}],\"annotations\":[{\"align\":\"left\",\"arrowcolor\":\"#636363\",\"arrowhead\":1,\"arrowsize\":1,\"arrowwidth\":2,\"ax\":-20,\"ay\":-30,\"font\":{\"color\":\"purple\",\"family\":\"Sans Serif\",\"size\":12},\"showarrow\":false,\"text\":\"LLC Size Per Node\",\"x\":\"80e6\",\"y\":130,\"yanchor\":\"bottom\"}],\"xaxis\":{\"title\":{\"text\":\"Dirc_Data_Mov\"},\"ticks\":\"outside\"},\"yaxis\":{\"title\":{\"text\":\"GFLOPs/Node\"},\"ticks\":\"outside\"},\"title\":{\"text\":\"\\\"AVX-Fused: Probmpi vs Non-Probempi\\\" GFlops Measurement\"},\"legend\":{\"bordercolor\":\"black\",\"borderwidth\":1}},                        {\"responsive\": true}                    ).then(function(){\n",
       "                            \n",
       "var gd = document.getElementById('2b2f05fc-5f9d-4e55-8ba1-b188959d7e30');\n",
       "var x = new MutationObserver(function (mutations, observer) {{\n",
       "        var display = window.getComputedStyle(gd).display;\n",
       "        if (!display || display === 'none') {{\n",
       "            console.log([gd, 'removed!']);\n",
       "            Plotly.purge(gd);\n",
       "            observer.disconnect();\n",
       "        }}\n",
       "}});\n",
       "\n",
       "// Listen for the removal of the full notebook cells\n",
       "var notebookContainer = gd.closest('#notebook-container');\n",
       "if (notebookContainer) {{\n",
       "    x.observe(notebookContainer, {childList: true});\n",
       "}}\n",
       "\n",
       "// Listen for the clearing of the current output cell\n",
       "var outputEl = gd.closest('.output');\n",
       "if (outputEl) {{\n",
       "    x.observe(outputEl, {childList: true});\n",
       "}}\n",
       "\n",
       "                        })                };                });            </script>        </div>"
      ]
     },
     "metadata": {},
     "output_type": "display_data"
    }
   ],
   "source": [
    "\n",
    "fig = go.Figure()\n",
    "# 1----\n",
    "fig.add_trace(go.Scatter(x=(dfn4AvxFusProb_32mpi_4omp.Dirc_Data_Mov*(dfn4AvxFusProb_32mpi_4omp.MPI_size/4)), \n",
    "                         y=(dfn4AvxFusProb_32mpi_4omp.GFLOPS*(dfn4AvxFusProb_32mpi_4omp.MPI_size/4)), \n",
    "                         mode='lines+markers', \n",
    "                         name='AvxFusProb_32mpi_4omp',\n",
    "                         line=dict(color='magenta',width=3),\n",
    "                         marker=dict(symbol='hexagon',size=9, line=dict(color='yellow',width=1))))\n",
    "\n",
    "fig.add_trace(go.Scatter(x=(dfn4AvxFusNonProb_32mpi_4omp.Dirc_Data_Mov*(dfn4AvxFusNonProb_32mpi_4omp.MPI_size/4)), \n",
    "                         y=(dfn4AvxFusNonProb_32mpi_4omp.GFLOPS*(dfn4AvxFusNonProb_32mpi_4omp.MPI_size/4)), \n",
    "                         mode='lines+markers', \n",
    "                         name='AvxFusNonProb_32mpi_4omp',\n",
    "                         line=dict(color='darkcyan',width=3),\n",
    "                         marker=dict(symbol='hexagon',size=9, line=dict(color='yellow',width=1))))\n",
    "\n",
    "\n",
    "# 2----\n",
    "fig.add_trace(go.Scatter(x=(dfn4AvxFusProb_40mpi_3omp.Dirc_Data_Mov*(dfn4AvxFusProb_40mpi_3omp.MPI_size/4)), \n",
    "                         y=(dfn4AvxFusProb_40mpi_3omp.GFLOPS*(dfn4AvxFusProb_40mpi_3omp.MPI_size/4)), \n",
    "                         mode='lines+markers', \n",
    "                         name='AvxFusProb_40mpi_3omp',\n",
    "                         line=dict(color='sandybrown',width=3),\n",
    "                         marker=dict(symbol='diamond',size=5,line=dict(color='MediumPurple',width=2))))\n",
    "\n",
    "fig.add_trace(go.Scatter(x=(dfn4AvxFusNonProb_40mpi_3omp.Dirc_Data_Mov*(dfn4AvxFusNonProb_40mpi_3omp.MPI_size/4)), \n",
    "                         y=(dfn4AvxFusNonProb_40mpi_3omp.GFLOPS*(dfn4AvxFusNonProb_40mpi_3omp.MPI_size/4)), \n",
    "                         mode='lines+markers', \n",
    "                         name='AvxFusNonProb_40mpi_3omp',\n",
    "                         line=dict(color='royalblue',width=3),\n",
    "                         marker=dict(symbol='diamond',size=5,line=dict(color='MediumPurple',width=2))))\n",
    "\n",
    "# 3----\n",
    "fig.add_trace(go.Scatter(x=(dfn4AvxFusProb_56mpi_2omp.Dirc_Data_Mov*(dfn4AvxFusProb_56mpi_2omp.MPI_size/4)), \n",
    "                         y=(dfn4AvxFusProb_56mpi_2omp.GFLOPS*(dfn4AvxFusProb_56mpi_2omp.MPI_size/4)), \n",
    "                         mode='lines+markers', \n",
    "                         name='AvxFusProb_56mpi_2omp',\n",
    "                         line=dict(color='cyan',width=3),\n",
    "                         marker=dict(symbol='circle',size=7,line=dict(color='Purple',width=2))))\n",
    "\n",
    "fig.add_trace(go.Scatter(x=(dfn4AvxFusNonProb_56mpi_2omp.Dirc_Data_Mov*(dfn4AvxFusNonProb_56mpi_2omp.MPI_size/4)), \n",
    "                         y=(dfn4AvxFusNonProb_56mpi_2omp.GFLOPS*(dfn4AvxFusNonProb_56mpi_2omp.MPI_size/4)), \n",
    "                         mode='lines+markers', \n",
    "                         name='AvxFusNonProb_56mpi_2omp',\n",
    "                         line=dict(color='darkblue',width=3),\n",
    "                         marker=dict(symbol='circle',size=7, line=dict(color='tomato',width=2))))\n",
    "\n",
    "\n",
    "# 4----\n",
    "fig.add_trace(go.Scatter(x=(dfn4AvxFusProb_64mpi_2omp.Dirc_Data_Mov*(dfn4AvxFusProb_64mpi_2omp.MPI_size/4)), \n",
    "                         y=(dfn4AvxFusProb_64mpi_2omp.GFLOPS*(dfn4AvxFusProb_64mpi_2omp.MPI_size/4)), \n",
    "                         mode='lines+markers', \n",
    "                         name='AvxFusProb_64mpi_2omp',\n",
    "                         line=dict(color='blue',width=3),\n",
    "                         marker=dict(symbol='star',size=7, line=dict(color='black',width=1))))\n",
    "\n",
    "\n",
    "fig.add_trace(go.Scatter(x=(dfn4AvxFusNonProb_64mpi_2omp.Dirc_Data_Mov*(dfn4AvxFusNonProb_64mpi_2omp.MPI_size/4)), \n",
    "                         y=(dfn4AvxFusNonProb_64mpi_2omp.GFLOPS*(dfn4AvxFusNonProb_64mpi_2omp.MPI_size/4)), \n",
    "                         mode='lines+markers', \n",
    "                         name='AvxFusNonProb_64mpi_2omp',\n",
    "                         line=dict(color='red',width=3),\n",
    "                         marker=dict(symbol='star',size=7, line=dict(color='black',width=1))))\n",
    "\n",
    "\n",
    "\n",
    "# 5----\n",
    "fig.add_trace(go.Scatter(x=(dfn4AvxFusProb_112mpi_1omp.Dirc_Data_Mov*(dfn4AvxFusProb_112mpi_1omp.MPI_size/4)), \n",
    "                         y=(dfn4AvxFusProb_112mpi_1omp.GFLOPS*(dfn4AvxFusProb_112mpi_1omp.MPI_size/4)), \n",
    "                         mode='lines+markers', \n",
    "                         name='AvxFusProb_112mpi_1omp',\n",
    "                         line=dict(color='chartreuse',width=3),\n",
    "                         marker=dict(symbol='square-dot',size=7, line=dict(color='mediumvioletred',width=1))))\n",
    "\n",
    "\n",
    "\n",
    "fig.add_trace(go.Scatter(x=(dfn4AvxFusNonProb_112mpi_1omp.Dirc_Data_Mov*(dfn4AvxFusNonProb_112mpi_1omp.MPI_size/4)), \n",
    "                         y=(dfn4AvxFusNonProb_112mpi_1omp.GFLOPS*(dfn4AvxFusNonProb_112mpi_1omp.MPI_size/4)), \n",
    "                         mode='lines+markers', \n",
    "                         name='AvxFusNonProb_112mpi_1omp',\n",
    "                         line=dict(color='black',width=3),\n",
    "                         marker=dict(symbol='square-dot',size=7, line=dict(color='mediumvioletred',width=1))))\n",
    "\n",
    "\n",
    "\n",
    "# 6----\n",
    "fig.add_trace(go.Scatter(x=(dfn4AvxFusProb_128mpi_1omp.Dirc_Data_Mov*(dfn4AvxFusProb_128mpi_1omp.MPI_size/4)), \n",
    "                         y=(dfn4AvxFusProb_128mpi_1omp.GFLOPS*(dfn4AvxFusProb_128mpi_1omp.MPI_size/4)), \n",
    "                         mode='lines+markers', \n",
    "                         name='AvxFusProb_64mpi_1omp',\n",
    "                         line=dict(color='gold',width=3),\n",
    "                         marker=dict(symbol='triangle-up',size=6, line=dict(color='black',width=1))))\n",
    "\n",
    "\n",
    "fig.add_trace(go.Scatter(x=(dfn4AvxFusNonProb_128mpi_1omp.Dirc_Data_Mov*(dfn4AvxFusNonProb_128mpi_1omp.MPI_size/4)), \n",
    "                         y=(dfn4AvxFusNonProb_128mpi_1omp.GFLOPS*(dfn4AvxFusNonProb_128mpi_1omp.MPI_size/4)), \n",
    "                         mode='lines+markers', \n",
    "                         name='AvxFusNonProb_128mpi_1omp',\n",
    "                         line=dict(color='dimgray',width=3),\n",
    "                         marker=dict(symbol='triangle-up',size=6, line=dict(color='black',width=1))))\n",
    "\n",
    "\n",
    "\n",
    "\n",
    "# Adding a vertical line\n",
    "fig.add_vline(x=80e6, line_width=3, line_dash=\"dash\", line_color=\"green\")\n",
    "# fig.add_hline(y=1024, line_width=3, line_dash=\"dash\", line_color=\"red\")\n",
    "\n",
    "# Add annotation\n",
    "fig.add_annotation(\n",
    "    x='80e6'\n",
    "    , y=130\n",
    "    , text=f'LLC Size Per Node'\n",
    "    , yanchor='bottom'\n",
    "    , showarrow=False\n",
    "    , arrowhead=1\n",
    "    , arrowsize=1\n",
    "    , arrowwidth=2\n",
    "    , arrowcolor=\"#636363\"\n",
    "    , ax=-20\n",
    "    , ay=-30\n",
    "    , font=dict(size=12, color=\"purple\", family=\"Sans Serif\")\n",
    "    , align=\"left\"\n",
    "    ,)\n",
    "\n",
    "fig.update_layout(title='\"AVX-Fused: Probmpi vs Non-Probempi\" GFlops Measurement',\n",
    "                  xaxis_title='Dirc_Data_Mov', yaxis_title='GFLOPs/Node', \n",
    "                  xaxis=dict(ticks=\"outside\"),  \n",
    "                  yaxis=dict(ticks=\"outside\"),\n",
    "                  legend=go.layout.Legend(bordercolor=\"black\",borderwidth=1))\n",
    "\n"
   ]
  },
  {
   "cell_type": "markdown",
   "id": "2e6b5ec8",
   "metadata": {},
   "source": [
    "## BANDWIDTH - AVX-Fused: Probmpi vs Non-Probempi"
   ]
  },
  {
   "cell_type": "code",
   "execution_count": 57,
   "id": "573f7459",
   "metadata": {},
   "outputs": [
    {
     "data": {
      "application/vnd.plotly.v1+json": {
       "config": {
        "plotlyServerURL": "https://plot.ly"
       },
       "data": [
        {
         "line": {
          "color": "magenta",
          "width": 3
         },
         "marker": {
          "line": {
           "color": "yellow",
           "width": 1
          },
          "size": 9,
          "symbol": "hexagon"
         },
         "mode": "lines+markers",
         "name": "AvxFusProb_32mpi_4omp",
         "type": "scatter",
         "x": [
          50331648,
          62914560,
          75497472,
          88080384,
          100663296,
          113246208,
          125829120,
          138412032,
          150994944,
          163577856,
          176160768,
          188743680,
          201326592,
          213909504,
          226492416,
          239075328,
          251658240,
          264241152,
          276824064,
          289406976,
          301989888,
          314572800,
          327155712,
          339738624,
          352321536,
          364904448,
          377487360,
          390070272,
          402653184
         ],
         "y": [
          103.0424,
          110.808,
          117.088,
          121.4824,
          123.88,
          126.9152,
          125.2928,
          124.5616,
          118.68,
          122.6096,
          116.1936,
          118.1616,
          111.0184,
          107.2904,
          106.4352,
          103.0168,
          98.7344,
          92.936,
          93.5888,
          93.3776,
          91.7712,
          88.984,
          91.8696,
          91.7184,
          91.3416,
          90.4472,
          90.7848,
          91.076,
          91.0152
         ]
        },
        {
         "line": {
          "color": "darkcyan",
          "width": 3
         },
         "marker": {
          "line": {
           "color": "yellow",
           "width": 1
          },
          "size": 9,
          "symbol": "hexagon"
         },
         "mode": "lines+markers",
         "name": "AvxFusNonProb_32mpi_4omp",
         "type": "scatter",
         "x": [
          50331648,
          62914560,
          75497472,
          88080384,
          100663296,
          113246208,
          125829120,
          138412032,
          150994944,
          163577856,
          176160768,
          188743680,
          201326592,
          213909504,
          226492416,
          239075328,
          251658240,
          264241152,
          276824064,
          289406976,
          301989888,
          314572800,
          327155712,
          339738624,
          352321536,
          364904448,
          377487360,
          390070272,
          402653184
         ],
         "y": [
          124.336,
          120.336,
          141.6456,
          150.0192,
          136.2568,
          138.8712,
          138.7648,
          155.888,
          138.676,
          139.216,
          135.1192,
          133.6408,
          128.1504,
          125.804,
          119.0768,
          116.4416,
          112.0872,
          109.308,
          107.208,
          106.1744,
          104.4704,
          103.6912,
          100.9616,
          101.0424,
          99.3192,
          99.1752,
          97.7104,
          97.708,
          97.092
         ]
        },
        {
         "line": {
          "color": "sandybrown",
          "width": 3
         },
         "marker": {
          "line": {
           "color": "MediumPurple",
           "width": 2
          },
          "size": 5,
          "symbol": "diamond"
         },
         "mode": "lines+markers",
         "name": "AvxFusProb_40mpi_3omp",
         "type": "scatter",
         "x": [
          62914560,
          94371840,
          125829120,
          157286400,
          188743680,
          220200960,
          251658240,
          283115520,
          314572800,
          346030080,
          377487360
         ],
         "y": [
          98.4582,
          116.93199999999999,
          114.242,
          99.3436,
          87.2747,
          80.4631,
          79.9439,
          77.5804,
          78.79679999999999,
          78.8126,
          78.7683
         ]
        },
        {
         "line": {
          "color": "royalblue",
          "width": 3
         },
         "marker": {
          "line": {
           "color": "MediumPurple",
           "width": 2
          },
          "size": 5,
          "symbol": "diamond"
         },
         "mode": "lines+markers",
         "name": "AvxFusNonProb_40mpi_3omp",
         "type": "scatter",
         "x": [
          62914560,
          94371840,
          125829120,
          157286400,
          188743680,
          220200960,
          251658240,
          283115520,
          314572800,
          346030080,
          377487360
         ],
         "y": [
          102.899,
          128.441,
          127.91499999999999,
          106.037,
          96.3271,
          85.9171,
          84.32130000000001,
          83.13409999999999,
          82.2003,
          83.8342,
          82.5362
         ]
        },
        {
         "line": {
          "color": "cyan",
          "width": 3
         },
         "marker": {
          "line": {
           "color": "Purple",
           "width": 2
          },
          "size": 7,
          "symbol": "circle"
         },
         "mode": "lines+markers",
         "name": "AvxFusProb_56mpi_2omp",
         "type": "scatter",
         "x": [
          88080384,
          132120576,
          176160768,
          220200960,
          264241152,
          308281344,
          352321536,
          396361728
         ],
         "y": [
          122.96242000000001,
          124.56374000000001,
          107.807,
          96.93642,
          90.55746,
          90.85397999999999,
          88.36757999999999,
          86.63759999999999
         ]
        },
        {
         "line": {
          "color": "darkblue",
          "width": 3
         },
         "marker": {
          "line": {
           "color": "tomato",
           "width": 2
          },
          "size": 7,
          "symbol": "circle"
         },
         "mode": "lines+markers",
         "name": "AvxFusNonProb_56mpi_2omp",
         "type": "scatter",
         "x": [
          88080384,
          132120576,
          176160768,
          220200960,
          264241152,
          308281344,
          352321536,
          396361728
         ],
         "y": [
          124.62702,
          126.44492,
          122.97208,
          105.07154,
          99.30326,
          98.7196,
          96.08536000000001,
          92.07828
         ]
        },
        {
         "line": {
          "color": "blue",
          "width": 3
         },
         "marker": {
          "line": {
           "color": "black",
           "width": 1
          },
          "size": 7,
          "symbol": "star"
         },
         "mode": "lines+markers",
         "name": "AvxFusProb_64mpi_2omp",
         "type": "scatter",
         "x": [
          100663296,
          125829120,
          150994944,
          176160768,
          201326592,
          226492416,
          251658240,
          276824064,
          301989888,
          327155712,
          352321536,
          377487360,
          402653184
         ],
         "y": [
          139.55056,
          139.74448,
          135.7272,
          131.35392,
          118.17648,
          119.004,
          114.16592,
          110.55664,
          102.8864,
          105.44896,
          102.38944,
          103.63088,
          102.7672
         ]
        },
        {
         "line": {
          "color": "red",
          "width": 3
         },
         "marker": {
          "line": {
           "color": "black",
           "width": 1
          },
          "size": 7,
          "symbol": "star"
         },
         "mode": "lines+markers",
         "name": "AvxFusNonProb_64mpi_2omp",
         "type": "scatter",
         "x": [
          100663296,
          125829120,
          150994944,
          176160768,
          201326592,
          226492416,
          251658240,
          276824064,
          301989888,
          327155712,
          352321536,
          377487360,
          402653184
         ],
         "y": [
          150.312,
          152.58208,
          151.07648,
          144.24336,
          131.57712,
          128.85184,
          122.37792,
          120.30816,
          117.3328,
          115.39312,
          112.42112,
          111.05664,
          108.90784
         ]
        },
        {
         "line": {
          "color": "chartreuse",
          "width": 3
         },
         "marker": {
          "line": {
           "color": "mediumvioletred",
           "width": 1
          },
          "size": 7,
          "symbol": "square-dot"
         },
         "mode": "lines+markers",
         "name": "AvxFusProb_112mpi_1omp",
         "type": "scatter",
         "x": [
          176160768,
          220200960,
          264241152,
          308281344,
          352321536,
          396361728
         ],
         "y": [
          97.7032,
          89.85424,
          90.5254,
          87.65624,
          84.12684,
          84.92931999999999
         ]
        },
        {
         "line": {
          "color": "black",
          "width": 3
         },
         "marker": {
          "line": {
           "color": "mediumvioletred",
           "width": 1
          },
          "size": 7,
          "symbol": "square-dot"
         },
         "mode": "lines+markers",
         "name": "AvxFusNonProb_112mpi_1omp",
         "type": "scatter",
         "x": [
          176160768,
          220200960,
          264241152,
          308281344,
          352321536,
          396361728
         ],
         "y": [
          97.45568,
          95.65276,
          93.12716,
          90.52568,
          88.91288,
          87.52996
         ]
        },
        {
         "line": {
          "color": "gold",
          "width": 3
         },
         "marker": {
          "line": {
           "color": "black",
           "width": 1
          },
          "size": 6,
          "symbol": "triangle-up"
         },
         "mode": "lines+markers",
         "name": "AvxFusProb_64mpi_1omp",
         "type": "scatter",
         "x": [
          201326592,
          251658240,
          301989888,
          352321536,
          402653184
         ],
         "y": [
          111.77184,
          106.58912,
          100.05504,
          98.38976,
          98.44736
         ]
        },
        {
         "line": {
          "color": "dimgray",
          "width": 3
         },
         "marker": {
          "line": {
           "color": "black",
           "width": 1
          },
          "size": 6,
          "symbol": "triangle-up"
         },
         "mode": "lines+markers",
         "name": "AvxFusNonProb_128mpi_1omp",
         "type": "scatter",
         "x": [
          201326592,
          251658240,
          301989888,
          352321536,
          402653184
         ],
         "y": [
          116.6448,
          108.04064,
          107.54848,
          104.85344,
          102.47776
         ]
        }
       ],
       "layout": {
        "annotations": [
         {
          "align": "left",
          "arrowcolor": "#636363",
          "arrowhead": 1,
          "arrowsize": 1,
          "arrowwidth": 2,
          "ax": -20,
          "ay": -30,
          "font": {
           "color": "purple",
           "family": "Sans Serif",
           "size": 12
          },
          "showarrow": false,
          "text": "LLC Size Per Node: 80M",
          "x": "80e6",
          "y": 280,
          "yanchor": "bottom"
         },
         {
          "align": "left",
          "arrowcolor": "#636363",
          "arrowhead": 1,
          "arrowsize": 1,
          "arrowwidth": 2,
          "ax": -20,
          "ay": -30,
          "font": {
           "color": "orange",
           "family": "Sans Serif",
           "size": 12
          },
          "showarrow": false,
          "text": "Max Bandwidth Per Node",
          "x": "130e6",
          "y": 155,
          "yanchor": "bottom"
         }
        ],
        "legend": {
         "bordercolor": "black",
         "borderwidth": 1
        },
        "shapes": [
         {
          "line": {
           "color": "green",
           "dash": "dot",
           "width": 3
          },
          "type": "line",
          "x0": 80000000,
          "x1": 80000000,
          "xref": "x",
          "y0": 0,
          "y1": 1,
          "yref": "y domain"
         },
         {
          "line": {
           "color": "red",
           "dash": "dash",
           "width": 3
          },
          "type": "line",
          "x0": 0,
          "x1": 1,
          "xref": "x domain",
          "y0": 153,
          "y1": 153,
          "yref": "y"
         }
        ],
        "template": {
         "data": {
          "bar": [
           {
            "error_x": {
             "color": "#2a3f5f"
            },
            "error_y": {
             "color": "#2a3f5f"
            },
            "marker": {
             "line": {
              "color": "#E5ECF6",
              "width": 0.5
             },
             "pattern": {
              "fillmode": "overlay",
              "size": 10,
              "solidity": 0.2
             }
            },
            "type": "bar"
           }
          ],
          "barpolar": [
           {
            "marker": {
             "line": {
              "color": "#E5ECF6",
              "width": 0.5
             },
             "pattern": {
              "fillmode": "overlay",
              "size": 10,
              "solidity": 0.2
             }
            },
            "type": "barpolar"
           }
          ],
          "carpet": [
           {
            "aaxis": {
             "endlinecolor": "#2a3f5f",
             "gridcolor": "white",
             "linecolor": "white",
             "minorgridcolor": "white",
             "startlinecolor": "#2a3f5f"
            },
            "baxis": {
             "endlinecolor": "#2a3f5f",
             "gridcolor": "white",
             "linecolor": "white",
             "minorgridcolor": "white",
             "startlinecolor": "#2a3f5f"
            },
            "type": "carpet"
           }
          ],
          "choropleth": [
           {
            "colorbar": {
             "outlinewidth": 0,
             "ticks": ""
            },
            "type": "choropleth"
           }
          ],
          "contour": [
           {
            "colorbar": {
             "outlinewidth": 0,
             "ticks": ""
            },
            "colorscale": [
             [
              0,
              "#0d0887"
             ],
             [
              0.1111111111111111,
              "#46039f"
             ],
             [
              0.2222222222222222,
              "#7201a8"
             ],
             [
              0.3333333333333333,
              "#9c179e"
             ],
             [
              0.4444444444444444,
              "#bd3786"
             ],
             [
              0.5555555555555556,
              "#d8576b"
             ],
             [
              0.6666666666666666,
              "#ed7953"
             ],
             [
              0.7777777777777778,
              "#fb9f3a"
             ],
             [
              0.8888888888888888,
              "#fdca26"
             ],
             [
              1,
              "#f0f921"
             ]
            ],
            "type": "contour"
           }
          ],
          "contourcarpet": [
           {
            "colorbar": {
             "outlinewidth": 0,
             "ticks": ""
            },
            "type": "contourcarpet"
           }
          ],
          "heatmap": [
           {
            "colorbar": {
             "outlinewidth": 0,
             "ticks": ""
            },
            "colorscale": [
             [
              0,
              "#0d0887"
             ],
             [
              0.1111111111111111,
              "#46039f"
             ],
             [
              0.2222222222222222,
              "#7201a8"
             ],
             [
              0.3333333333333333,
              "#9c179e"
             ],
             [
              0.4444444444444444,
              "#bd3786"
             ],
             [
              0.5555555555555556,
              "#d8576b"
             ],
             [
              0.6666666666666666,
              "#ed7953"
             ],
             [
              0.7777777777777778,
              "#fb9f3a"
             ],
             [
              0.8888888888888888,
              "#fdca26"
             ],
             [
              1,
              "#f0f921"
             ]
            ],
            "type": "heatmap"
           }
          ],
          "heatmapgl": [
           {
            "colorbar": {
             "outlinewidth": 0,
             "ticks": ""
            },
            "colorscale": [
             [
              0,
              "#0d0887"
             ],
             [
              0.1111111111111111,
              "#46039f"
             ],
             [
              0.2222222222222222,
              "#7201a8"
             ],
             [
              0.3333333333333333,
              "#9c179e"
             ],
             [
              0.4444444444444444,
              "#bd3786"
             ],
             [
              0.5555555555555556,
              "#d8576b"
             ],
             [
              0.6666666666666666,
              "#ed7953"
             ],
             [
              0.7777777777777778,
              "#fb9f3a"
             ],
             [
              0.8888888888888888,
              "#fdca26"
             ],
             [
              1,
              "#f0f921"
             ]
            ],
            "type": "heatmapgl"
           }
          ],
          "histogram": [
           {
            "marker": {
             "pattern": {
              "fillmode": "overlay",
              "size": 10,
              "solidity": 0.2
             }
            },
            "type": "histogram"
           }
          ],
          "histogram2d": [
           {
            "colorbar": {
             "outlinewidth": 0,
             "ticks": ""
            },
            "colorscale": [
             [
              0,
              "#0d0887"
             ],
             [
              0.1111111111111111,
              "#46039f"
             ],
             [
              0.2222222222222222,
              "#7201a8"
             ],
             [
              0.3333333333333333,
              "#9c179e"
             ],
             [
              0.4444444444444444,
              "#bd3786"
             ],
             [
              0.5555555555555556,
              "#d8576b"
             ],
             [
              0.6666666666666666,
              "#ed7953"
             ],
             [
              0.7777777777777778,
              "#fb9f3a"
             ],
             [
              0.8888888888888888,
              "#fdca26"
             ],
             [
              1,
              "#f0f921"
             ]
            ],
            "type": "histogram2d"
           }
          ],
          "histogram2dcontour": [
           {
            "colorbar": {
             "outlinewidth": 0,
             "ticks": ""
            },
            "colorscale": [
             [
              0,
              "#0d0887"
             ],
             [
              0.1111111111111111,
              "#46039f"
             ],
             [
              0.2222222222222222,
              "#7201a8"
             ],
             [
              0.3333333333333333,
              "#9c179e"
             ],
             [
              0.4444444444444444,
              "#bd3786"
             ],
             [
              0.5555555555555556,
              "#d8576b"
             ],
             [
              0.6666666666666666,
              "#ed7953"
             ],
             [
              0.7777777777777778,
              "#fb9f3a"
             ],
             [
              0.8888888888888888,
              "#fdca26"
             ],
             [
              1,
              "#f0f921"
             ]
            ],
            "type": "histogram2dcontour"
           }
          ],
          "mesh3d": [
           {
            "colorbar": {
             "outlinewidth": 0,
             "ticks": ""
            },
            "type": "mesh3d"
           }
          ],
          "parcoords": [
           {
            "line": {
             "colorbar": {
              "outlinewidth": 0,
              "ticks": ""
             }
            },
            "type": "parcoords"
           }
          ],
          "pie": [
           {
            "automargin": true,
            "type": "pie"
           }
          ],
          "scatter": [
           {
            "fillpattern": {
             "fillmode": "overlay",
             "size": 10,
             "solidity": 0.2
            },
            "type": "scatter"
           }
          ],
          "scatter3d": [
           {
            "line": {
             "colorbar": {
              "outlinewidth": 0,
              "ticks": ""
             }
            },
            "marker": {
             "colorbar": {
              "outlinewidth": 0,
              "ticks": ""
             }
            },
            "type": "scatter3d"
           }
          ],
          "scattercarpet": [
           {
            "marker": {
             "colorbar": {
              "outlinewidth": 0,
              "ticks": ""
             }
            },
            "type": "scattercarpet"
           }
          ],
          "scattergeo": [
           {
            "marker": {
             "colorbar": {
              "outlinewidth": 0,
              "ticks": ""
             }
            },
            "type": "scattergeo"
           }
          ],
          "scattergl": [
           {
            "marker": {
             "colorbar": {
              "outlinewidth": 0,
              "ticks": ""
             }
            },
            "type": "scattergl"
           }
          ],
          "scattermapbox": [
           {
            "marker": {
             "colorbar": {
              "outlinewidth": 0,
              "ticks": ""
             }
            },
            "type": "scattermapbox"
           }
          ],
          "scatterpolar": [
           {
            "marker": {
             "colorbar": {
              "outlinewidth": 0,
              "ticks": ""
             }
            },
            "type": "scatterpolar"
           }
          ],
          "scatterpolargl": [
           {
            "marker": {
             "colorbar": {
              "outlinewidth": 0,
              "ticks": ""
             }
            },
            "type": "scatterpolargl"
           }
          ],
          "scatterternary": [
           {
            "marker": {
             "colorbar": {
              "outlinewidth": 0,
              "ticks": ""
             }
            },
            "type": "scatterternary"
           }
          ],
          "surface": [
           {
            "colorbar": {
             "outlinewidth": 0,
             "ticks": ""
            },
            "colorscale": [
             [
              0,
              "#0d0887"
             ],
             [
              0.1111111111111111,
              "#46039f"
             ],
             [
              0.2222222222222222,
              "#7201a8"
             ],
             [
              0.3333333333333333,
              "#9c179e"
             ],
             [
              0.4444444444444444,
              "#bd3786"
             ],
             [
              0.5555555555555556,
              "#d8576b"
             ],
             [
              0.6666666666666666,
              "#ed7953"
             ],
             [
              0.7777777777777778,
              "#fb9f3a"
             ],
             [
              0.8888888888888888,
              "#fdca26"
             ],
             [
              1,
              "#f0f921"
             ]
            ],
            "type": "surface"
           }
          ],
          "table": [
           {
            "cells": {
             "fill": {
              "color": "#EBF0F8"
             },
             "line": {
              "color": "white"
             }
            },
            "header": {
             "fill": {
              "color": "#C8D4E3"
             },
             "line": {
              "color": "white"
             }
            },
            "type": "table"
           }
          ]
         },
         "layout": {
          "annotationdefaults": {
           "arrowcolor": "#2a3f5f",
           "arrowhead": 0,
           "arrowwidth": 1
          },
          "autotypenumbers": "strict",
          "coloraxis": {
           "colorbar": {
            "outlinewidth": 0,
            "ticks": ""
           }
          },
          "colorscale": {
           "diverging": [
            [
             0,
             "#8e0152"
            ],
            [
             0.1,
             "#c51b7d"
            ],
            [
             0.2,
             "#de77ae"
            ],
            [
             0.3,
             "#f1b6da"
            ],
            [
             0.4,
             "#fde0ef"
            ],
            [
             0.5,
             "#f7f7f7"
            ],
            [
             0.6,
             "#e6f5d0"
            ],
            [
             0.7,
             "#b8e186"
            ],
            [
             0.8,
             "#7fbc41"
            ],
            [
             0.9,
             "#4d9221"
            ],
            [
             1,
             "#276419"
            ]
           ],
           "sequential": [
            [
             0,
             "#0d0887"
            ],
            [
             0.1111111111111111,
             "#46039f"
            ],
            [
             0.2222222222222222,
             "#7201a8"
            ],
            [
             0.3333333333333333,
             "#9c179e"
            ],
            [
             0.4444444444444444,
             "#bd3786"
            ],
            [
             0.5555555555555556,
             "#d8576b"
            ],
            [
             0.6666666666666666,
             "#ed7953"
            ],
            [
             0.7777777777777778,
             "#fb9f3a"
            ],
            [
             0.8888888888888888,
             "#fdca26"
            ],
            [
             1,
             "#f0f921"
            ]
           ],
           "sequentialminus": [
            [
             0,
             "#0d0887"
            ],
            [
             0.1111111111111111,
             "#46039f"
            ],
            [
             0.2222222222222222,
             "#7201a8"
            ],
            [
             0.3333333333333333,
             "#9c179e"
            ],
            [
             0.4444444444444444,
             "#bd3786"
            ],
            [
             0.5555555555555556,
             "#d8576b"
            ],
            [
             0.6666666666666666,
             "#ed7953"
            ],
            [
             0.7777777777777778,
             "#fb9f3a"
            ],
            [
             0.8888888888888888,
             "#fdca26"
            ],
            [
             1,
             "#f0f921"
            ]
           ]
          },
          "colorway": [
           "#636efa",
           "#EF553B",
           "#00cc96",
           "#ab63fa",
           "#FFA15A",
           "#19d3f3",
           "#FF6692",
           "#B6E880",
           "#FF97FF",
           "#FECB52"
          ],
          "font": {
           "color": "#2a3f5f"
          },
          "geo": {
           "bgcolor": "white",
           "lakecolor": "white",
           "landcolor": "#E5ECF6",
           "showlakes": true,
           "showland": true,
           "subunitcolor": "white"
          },
          "hoverlabel": {
           "align": "left"
          },
          "hovermode": "closest",
          "mapbox": {
           "style": "light"
          },
          "paper_bgcolor": "white",
          "plot_bgcolor": "#E5ECF6",
          "polar": {
           "angularaxis": {
            "gridcolor": "white",
            "linecolor": "white",
            "ticks": ""
           },
           "bgcolor": "#E5ECF6",
           "radialaxis": {
            "gridcolor": "white",
            "linecolor": "white",
            "ticks": ""
           }
          },
          "scene": {
           "xaxis": {
            "backgroundcolor": "#E5ECF6",
            "gridcolor": "white",
            "gridwidth": 2,
            "linecolor": "white",
            "showbackground": true,
            "ticks": "",
            "zerolinecolor": "white"
           },
           "yaxis": {
            "backgroundcolor": "#E5ECF6",
            "gridcolor": "white",
            "gridwidth": 2,
            "linecolor": "white",
            "showbackground": true,
            "ticks": "",
            "zerolinecolor": "white"
           },
           "zaxis": {
            "backgroundcolor": "#E5ECF6",
            "gridcolor": "white",
            "gridwidth": 2,
            "linecolor": "white",
            "showbackground": true,
            "ticks": "",
            "zerolinecolor": "white"
           }
          },
          "shapedefaults": {
           "line": {
            "color": "#2a3f5f"
           }
          },
          "ternary": {
           "aaxis": {
            "gridcolor": "white",
            "linecolor": "white",
            "ticks": ""
           },
           "baxis": {
            "gridcolor": "white",
            "linecolor": "white",
            "ticks": ""
           },
           "bgcolor": "#E5ECF6",
           "caxis": {
            "gridcolor": "white",
            "linecolor": "white",
            "ticks": ""
           }
          },
          "title": {
           "x": 0.05
          },
          "xaxis": {
           "automargin": true,
           "gridcolor": "white",
           "linecolor": "white",
           "ticks": "",
           "title": {
            "standoff": 15
           },
           "zerolinecolor": "white",
           "zerolinewidth": 2
          },
          "yaxis": {
           "automargin": true,
           "gridcolor": "white",
           "linecolor": "white",
           "ticks": "",
           "title": {
            "standoff": 15
           },
           "zerolinecolor": "white",
           "zerolinewidth": 2
          }
         }
        },
        "title": {
         "text": "\"AVX-Fused: Probmpi vs Non-Probempi\" Bandwidth Measurement"
        },
        "xaxis": {
         "ticks": "outside",
         "title": {
          "text": "Dirc_Data_Mov"
         }
        },
        "yaxis": {
         "ticks": "outside",
         "title": {
          "text": "Bandwidth/Node"
         }
        }
       }
      },
      "text/html": [
       "<div>                            <div id=\"4cbe7b8f-21be-41ba-aca2-456fb01804b5\" class=\"plotly-graph-div\" style=\"height:525px; width:100%;\"></div>            <script type=\"text/javascript\">                require([\"plotly\"], function(Plotly) {                    window.PLOTLYENV=window.PLOTLYENV || {};                                    if (document.getElementById(\"4cbe7b8f-21be-41ba-aca2-456fb01804b5\")) {                    Plotly.newPlot(                        \"4cbe7b8f-21be-41ba-aca2-456fb01804b5\",                        [{\"line\":{\"color\":\"magenta\",\"width\":3},\"marker\":{\"line\":{\"color\":\"yellow\",\"width\":1},\"size\":9,\"symbol\":\"hexagon\"},\"mode\":\"lines+markers\",\"name\":\"AvxFusProb_32mpi_4omp\",\"x\":[50331648.0,62914560.0,75497472.0,88080384.0,100663296.0,113246208.0,125829120.0,138412032.0,150994944.0,163577856.0,176160768.0,188743680.0,201326592.0,213909504.0,226492416.0,239075328.0,251658240.0,264241152.0,276824064.0,289406976.0,301989888.0,314572800.0,327155712.0,339738624.0,352321536.0,364904448.0,377487360.0,390070272.0,402653184.0],\"y\":[103.0424,110.808,117.088,121.4824,123.88,126.9152,125.2928,124.5616,118.68,122.6096,116.1936,118.1616,111.0184,107.2904,106.4352,103.0168,98.7344,92.936,93.5888,93.3776,91.7712,88.984,91.8696,91.7184,91.3416,90.4472,90.7848,91.076,91.0152],\"type\":\"scatter\"},{\"line\":{\"color\":\"darkcyan\",\"width\":3},\"marker\":{\"line\":{\"color\":\"yellow\",\"width\":1},\"size\":9,\"symbol\":\"hexagon\"},\"mode\":\"lines+markers\",\"name\":\"AvxFusNonProb_32mpi_4omp\",\"x\":[50331648.0,62914560.0,75497472.0,88080384.0,100663296.0,113246208.0,125829120.0,138412032.0,150994944.0,163577856.0,176160768.0,188743680.0,201326592.0,213909504.0,226492416.0,239075328.0,251658240.0,264241152.0,276824064.0,289406976.0,301989888.0,314572800.0,327155712.0,339738624.0,352321536.0,364904448.0,377487360.0,390070272.0,402653184.0],\"y\":[124.336,120.336,141.6456,150.0192,136.2568,138.8712,138.7648,155.888,138.676,139.216,135.1192,133.6408,128.1504,125.804,119.0768,116.4416,112.0872,109.308,107.208,106.1744,104.4704,103.6912,100.9616,101.0424,99.3192,99.1752,97.7104,97.708,97.092],\"type\":\"scatter\"},{\"line\":{\"color\":\"sandybrown\",\"width\":3},\"marker\":{\"line\":{\"color\":\"MediumPurple\",\"width\":2},\"size\":5,\"symbol\":\"diamond\"},\"mode\":\"lines+markers\",\"name\":\"AvxFusProb_40mpi_3omp\",\"x\":[62914560.0,94371840.0,125829120.0,157286400.0,188743680.0,220200960.0,251658240.0,283115520.0,314572800.0,346030080.0,377487360.0],\"y\":[98.4582,116.93199999999999,114.242,99.3436,87.2747,80.4631,79.9439,77.5804,78.79679999999999,78.8126,78.7683],\"type\":\"scatter\"},{\"line\":{\"color\":\"royalblue\",\"width\":3},\"marker\":{\"line\":{\"color\":\"MediumPurple\",\"width\":2},\"size\":5,\"symbol\":\"diamond\"},\"mode\":\"lines+markers\",\"name\":\"AvxFusNonProb_40mpi_3omp\",\"x\":[62914560.0,94371840.0,125829120.0,157286400.0,188743680.0,220200960.0,251658240.0,283115520.0,314572800.0,346030080.0,377487360.0],\"y\":[102.899,128.441,127.91499999999999,106.037,96.3271,85.9171,84.32130000000001,83.13409999999999,82.2003,83.8342,82.5362],\"type\":\"scatter\"},{\"line\":{\"color\":\"cyan\",\"width\":3},\"marker\":{\"line\":{\"color\":\"Purple\",\"width\":2},\"size\":7,\"symbol\":\"circle\"},\"mode\":\"lines+markers\",\"name\":\"AvxFusProb_56mpi_2omp\",\"x\":[88080384.0,132120576.0,176160768.0,220200960.0,264241152.0,308281344.0,352321536.0,396361728.0],\"y\":[122.96242000000001,124.56374000000001,107.807,96.93642,90.55746,90.85397999999999,88.36757999999999,86.63759999999999],\"type\":\"scatter\"},{\"line\":{\"color\":\"darkblue\",\"width\":3},\"marker\":{\"line\":{\"color\":\"tomato\",\"width\":2},\"size\":7,\"symbol\":\"circle\"},\"mode\":\"lines+markers\",\"name\":\"AvxFusNonProb_56mpi_2omp\",\"x\":[88080384.0,132120576.0,176160768.0,220200960.0,264241152.0,308281344.0,352321536.0,396361728.0],\"y\":[124.62702,126.44492,122.97208,105.07154,99.30326,98.7196,96.08536000000001,92.07828],\"type\":\"scatter\"},{\"line\":{\"color\":\"blue\",\"width\":3},\"marker\":{\"line\":{\"color\":\"black\",\"width\":1},\"size\":7,\"symbol\":\"star\"},\"mode\":\"lines+markers\",\"name\":\"AvxFusProb_64mpi_2omp\",\"x\":[100663296.0,125829120.0,150994944.0,176160768.0,201326592.0,226492416.0,251658240.0,276824064.0,301989888.0,327155712.0,352321536.0,377487360.0,402653184.0],\"y\":[139.55056,139.74448,135.7272,131.35392,118.17648,119.004,114.16592,110.55664,102.8864,105.44896,102.38944,103.63088,102.7672],\"type\":\"scatter\"},{\"line\":{\"color\":\"red\",\"width\":3},\"marker\":{\"line\":{\"color\":\"black\",\"width\":1},\"size\":7,\"symbol\":\"star\"},\"mode\":\"lines+markers\",\"name\":\"AvxFusNonProb_64mpi_2omp\",\"x\":[100663296.0,125829120.0,150994944.0,176160768.0,201326592.0,226492416.0,251658240.0,276824064.0,301989888.0,327155712.0,352321536.0,377487360.0,402653184.0],\"y\":[150.312,152.58208,151.07648,144.24336,131.57712,128.85184,122.37792,120.30816,117.3328,115.39312,112.42112,111.05664,108.90784],\"type\":\"scatter\"},{\"line\":{\"color\":\"chartreuse\",\"width\":3},\"marker\":{\"line\":{\"color\":\"mediumvioletred\",\"width\":1},\"size\":7,\"symbol\":\"square-dot\"},\"mode\":\"lines+markers\",\"name\":\"AvxFusProb_112mpi_1omp\",\"x\":[176160768.0,220200960.0,264241152.0,308281344.0,352321536.0,396361728.0],\"y\":[97.7032,89.85424,90.5254,87.65624,84.12684,84.92931999999999],\"type\":\"scatter\"},{\"line\":{\"color\":\"black\",\"width\":3},\"marker\":{\"line\":{\"color\":\"mediumvioletred\",\"width\":1},\"size\":7,\"symbol\":\"square-dot\"},\"mode\":\"lines+markers\",\"name\":\"AvxFusNonProb_112mpi_1omp\",\"x\":[176160768.0,220200960.0,264241152.0,308281344.0,352321536.0,396361728.0],\"y\":[97.45568,95.65276,93.12716,90.52568,88.91288,87.52996],\"type\":\"scatter\"},{\"line\":{\"color\":\"gold\",\"width\":3},\"marker\":{\"line\":{\"color\":\"black\",\"width\":1},\"size\":6,\"symbol\":\"triangle-up\"},\"mode\":\"lines+markers\",\"name\":\"AvxFusProb_64mpi_1omp\",\"x\":[201326592.0,251658240.0,301989888.0,352321536.0,402653184.0],\"y\":[111.77184,106.58912,100.05504,98.38976,98.44736],\"type\":\"scatter\"},{\"line\":{\"color\":\"dimgray\",\"width\":3},\"marker\":{\"line\":{\"color\":\"black\",\"width\":1},\"size\":6,\"symbol\":\"triangle-up\"},\"mode\":\"lines+markers\",\"name\":\"AvxFusNonProb_128mpi_1omp\",\"x\":[201326592.0,251658240.0,301989888.0,352321536.0,402653184.0],\"y\":[116.6448,108.04064,107.54848,104.85344,102.47776],\"type\":\"scatter\"}],                        {\"template\":{\"data\":{\"histogram2dcontour\":[{\"type\":\"histogram2dcontour\",\"colorbar\":{\"outlinewidth\":0,\"ticks\":\"\"},\"colorscale\":[[0.0,\"#0d0887\"],[0.1111111111111111,\"#46039f\"],[0.2222222222222222,\"#7201a8\"],[0.3333333333333333,\"#9c179e\"],[0.4444444444444444,\"#bd3786\"],[0.5555555555555556,\"#d8576b\"],[0.6666666666666666,\"#ed7953\"],[0.7777777777777778,\"#fb9f3a\"],[0.8888888888888888,\"#fdca26\"],[1.0,\"#f0f921\"]]}],\"choropleth\":[{\"type\":\"choropleth\",\"colorbar\":{\"outlinewidth\":0,\"ticks\":\"\"}}],\"histogram2d\":[{\"type\":\"histogram2d\",\"colorbar\":{\"outlinewidth\":0,\"ticks\":\"\"},\"colorscale\":[[0.0,\"#0d0887\"],[0.1111111111111111,\"#46039f\"],[0.2222222222222222,\"#7201a8\"],[0.3333333333333333,\"#9c179e\"],[0.4444444444444444,\"#bd3786\"],[0.5555555555555556,\"#d8576b\"],[0.6666666666666666,\"#ed7953\"],[0.7777777777777778,\"#fb9f3a\"],[0.8888888888888888,\"#fdca26\"],[1.0,\"#f0f921\"]]}],\"heatmap\":[{\"type\":\"heatmap\",\"colorbar\":{\"outlinewidth\":0,\"ticks\":\"\"},\"colorscale\":[[0.0,\"#0d0887\"],[0.1111111111111111,\"#46039f\"],[0.2222222222222222,\"#7201a8\"],[0.3333333333333333,\"#9c179e\"],[0.4444444444444444,\"#bd3786\"],[0.5555555555555556,\"#d8576b\"],[0.6666666666666666,\"#ed7953\"],[0.7777777777777778,\"#fb9f3a\"],[0.8888888888888888,\"#fdca26\"],[1.0,\"#f0f921\"]]}],\"heatmapgl\":[{\"type\":\"heatmapgl\",\"colorbar\":{\"outlinewidth\":0,\"ticks\":\"\"},\"colorscale\":[[0.0,\"#0d0887\"],[0.1111111111111111,\"#46039f\"],[0.2222222222222222,\"#7201a8\"],[0.3333333333333333,\"#9c179e\"],[0.4444444444444444,\"#bd3786\"],[0.5555555555555556,\"#d8576b\"],[0.6666666666666666,\"#ed7953\"],[0.7777777777777778,\"#fb9f3a\"],[0.8888888888888888,\"#fdca26\"],[1.0,\"#f0f921\"]]}],\"contourcarpet\":[{\"type\":\"contourcarpet\",\"colorbar\":{\"outlinewidth\":0,\"ticks\":\"\"}}],\"contour\":[{\"type\":\"contour\",\"colorbar\":{\"outlinewidth\":0,\"ticks\":\"\"},\"colorscale\":[[0.0,\"#0d0887\"],[0.1111111111111111,\"#46039f\"],[0.2222222222222222,\"#7201a8\"],[0.3333333333333333,\"#9c179e\"],[0.4444444444444444,\"#bd3786\"],[0.5555555555555556,\"#d8576b\"],[0.6666666666666666,\"#ed7953\"],[0.7777777777777778,\"#fb9f3a\"],[0.8888888888888888,\"#fdca26\"],[1.0,\"#f0f921\"]]}],\"surface\":[{\"type\":\"surface\",\"colorbar\":{\"outlinewidth\":0,\"ticks\":\"\"},\"colorscale\":[[0.0,\"#0d0887\"],[0.1111111111111111,\"#46039f\"],[0.2222222222222222,\"#7201a8\"],[0.3333333333333333,\"#9c179e\"],[0.4444444444444444,\"#bd3786\"],[0.5555555555555556,\"#d8576b\"],[0.6666666666666666,\"#ed7953\"],[0.7777777777777778,\"#fb9f3a\"],[0.8888888888888888,\"#fdca26\"],[1.0,\"#f0f921\"]]}],\"mesh3d\":[{\"type\":\"mesh3d\",\"colorbar\":{\"outlinewidth\":0,\"ticks\":\"\"}}],\"scatter\":[{\"fillpattern\":{\"fillmode\":\"overlay\",\"size\":10,\"solidity\":0.2},\"type\":\"scatter\"}],\"parcoords\":[{\"type\":\"parcoords\",\"line\":{\"colorbar\":{\"outlinewidth\":0,\"ticks\":\"\"}}}],\"scatterpolargl\":[{\"type\":\"scatterpolargl\",\"marker\":{\"colorbar\":{\"outlinewidth\":0,\"ticks\":\"\"}}}],\"bar\":[{\"error_x\":{\"color\":\"#2a3f5f\"},\"error_y\":{\"color\":\"#2a3f5f\"},\"marker\":{\"line\":{\"color\":\"#E5ECF6\",\"width\":0.5},\"pattern\":{\"fillmode\":\"overlay\",\"size\":10,\"solidity\":0.2}},\"type\":\"bar\"}],\"scattergeo\":[{\"type\":\"scattergeo\",\"marker\":{\"colorbar\":{\"outlinewidth\":0,\"ticks\":\"\"}}}],\"scatterpolar\":[{\"type\":\"scatterpolar\",\"marker\":{\"colorbar\":{\"outlinewidth\":0,\"ticks\":\"\"}}}],\"histogram\":[{\"marker\":{\"pattern\":{\"fillmode\":\"overlay\",\"size\":10,\"solidity\":0.2}},\"type\":\"histogram\"}],\"scattergl\":[{\"type\":\"scattergl\",\"marker\":{\"colorbar\":{\"outlinewidth\":0,\"ticks\":\"\"}}}],\"scatter3d\":[{\"type\":\"scatter3d\",\"line\":{\"colorbar\":{\"outlinewidth\":0,\"ticks\":\"\"}},\"marker\":{\"colorbar\":{\"outlinewidth\":0,\"ticks\":\"\"}}}],\"scattermapbox\":[{\"type\":\"scattermapbox\",\"marker\":{\"colorbar\":{\"outlinewidth\":0,\"ticks\":\"\"}}}],\"scatterternary\":[{\"type\":\"scatterternary\",\"marker\":{\"colorbar\":{\"outlinewidth\":0,\"ticks\":\"\"}}}],\"scattercarpet\":[{\"type\":\"scattercarpet\",\"marker\":{\"colorbar\":{\"outlinewidth\":0,\"ticks\":\"\"}}}],\"carpet\":[{\"aaxis\":{\"endlinecolor\":\"#2a3f5f\",\"gridcolor\":\"white\",\"linecolor\":\"white\",\"minorgridcolor\":\"white\",\"startlinecolor\":\"#2a3f5f\"},\"baxis\":{\"endlinecolor\":\"#2a3f5f\",\"gridcolor\":\"white\",\"linecolor\":\"white\",\"minorgridcolor\":\"white\",\"startlinecolor\":\"#2a3f5f\"},\"type\":\"carpet\"}],\"table\":[{\"cells\":{\"fill\":{\"color\":\"#EBF0F8\"},\"line\":{\"color\":\"white\"}},\"header\":{\"fill\":{\"color\":\"#C8D4E3\"},\"line\":{\"color\":\"white\"}},\"type\":\"table\"}],\"barpolar\":[{\"marker\":{\"line\":{\"color\":\"#E5ECF6\",\"width\":0.5},\"pattern\":{\"fillmode\":\"overlay\",\"size\":10,\"solidity\":0.2}},\"type\":\"barpolar\"}],\"pie\":[{\"automargin\":true,\"type\":\"pie\"}]},\"layout\":{\"autotypenumbers\":\"strict\",\"colorway\":[\"#636efa\",\"#EF553B\",\"#00cc96\",\"#ab63fa\",\"#FFA15A\",\"#19d3f3\",\"#FF6692\",\"#B6E880\",\"#FF97FF\",\"#FECB52\"],\"font\":{\"color\":\"#2a3f5f\"},\"hovermode\":\"closest\",\"hoverlabel\":{\"align\":\"left\"},\"paper_bgcolor\":\"white\",\"plot_bgcolor\":\"#E5ECF6\",\"polar\":{\"bgcolor\":\"#E5ECF6\",\"angularaxis\":{\"gridcolor\":\"white\",\"linecolor\":\"white\",\"ticks\":\"\"},\"radialaxis\":{\"gridcolor\":\"white\",\"linecolor\":\"white\",\"ticks\":\"\"}},\"ternary\":{\"bgcolor\":\"#E5ECF6\",\"aaxis\":{\"gridcolor\":\"white\",\"linecolor\":\"white\",\"ticks\":\"\"},\"baxis\":{\"gridcolor\":\"white\",\"linecolor\":\"white\",\"ticks\":\"\"},\"caxis\":{\"gridcolor\":\"white\",\"linecolor\":\"white\",\"ticks\":\"\"}},\"coloraxis\":{\"colorbar\":{\"outlinewidth\":0,\"ticks\":\"\"}},\"colorscale\":{\"sequential\":[[0.0,\"#0d0887\"],[0.1111111111111111,\"#46039f\"],[0.2222222222222222,\"#7201a8\"],[0.3333333333333333,\"#9c179e\"],[0.4444444444444444,\"#bd3786\"],[0.5555555555555556,\"#d8576b\"],[0.6666666666666666,\"#ed7953\"],[0.7777777777777778,\"#fb9f3a\"],[0.8888888888888888,\"#fdca26\"],[1.0,\"#f0f921\"]],\"sequentialminus\":[[0.0,\"#0d0887\"],[0.1111111111111111,\"#46039f\"],[0.2222222222222222,\"#7201a8\"],[0.3333333333333333,\"#9c179e\"],[0.4444444444444444,\"#bd3786\"],[0.5555555555555556,\"#d8576b\"],[0.6666666666666666,\"#ed7953\"],[0.7777777777777778,\"#fb9f3a\"],[0.8888888888888888,\"#fdca26\"],[1.0,\"#f0f921\"]],\"diverging\":[[0,\"#8e0152\"],[0.1,\"#c51b7d\"],[0.2,\"#de77ae\"],[0.3,\"#f1b6da\"],[0.4,\"#fde0ef\"],[0.5,\"#f7f7f7\"],[0.6,\"#e6f5d0\"],[0.7,\"#b8e186\"],[0.8,\"#7fbc41\"],[0.9,\"#4d9221\"],[1,\"#276419\"]]},\"xaxis\":{\"gridcolor\":\"white\",\"linecolor\":\"white\",\"ticks\":\"\",\"title\":{\"standoff\":15},\"zerolinecolor\":\"white\",\"automargin\":true,\"zerolinewidth\":2},\"yaxis\":{\"gridcolor\":\"white\",\"linecolor\":\"white\",\"ticks\":\"\",\"title\":{\"standoff\":15},\"zerolinecolor\":\"white\",\"automargin\":true,\"zerolinewidth\":2},\"scene\":{\"xaxis\":{\"backgroundcolor\":\"#E5ECF6\",\"gridcolor\":\"white\",\"linecolor\":\"white\",\"showbackground\":true,\"ticks\":\"\",\"zerolinecolor\":\"white\",\"gridwidth\":2},\"yaxis\":{\"backgroundcolor\":\"#E5ECF6\",\"gridcolor\":\"white\",\"linecolor\":\"white\",\"showbackground\":true,\"ticks\":\"\",\"zerolinecolor\":\"white\",\"gridwidth\":2},\"zaxis\":{\"backgroundcolor\":\"#E5ECF6\",\"gridcolor\":\"white\",\"linecolor\":\"white\",\"showbackground\":true,\"ticks\":\"\",\"zerolinecolor\":\"white\",\"gridwidth\":2}},\"shapedefaults\":{\"line\":{\"color\":\"#2a3f5f\"}},\"annotationdefaults\":{\"arrowcolor\":\"#2a3f5f\",\"arrowhead\":0,\"arrowwidth\":1},\"geo\":{\"bgcolor\":\"white\",\"landcolor\":\"#E5ECF6\",\"subunitcolor\":\"white\",\"showland\":true,\"showlakes\":true,\"lakecolor\":\"white\"},\"title\":{\"x\":0.05},\"mapbox\":{\"style\":\"light\"}}},\"shapes\":[{\"line\":{\"color\":\"green\",\"dash\":\"dot\",\"width\":3},\"type\":\"line\",\"x0\":80000000.0,\"x1\":80000000.0,\"xref\":\"x\",\"y0\":0,\"y1\":1,\"yref\":\"y domain\"},{\"line\":{\"color\":\"red\",\"dash\":\"dash\",\"width\":3},\"type\":\"line\",\"x0\":0,\"x1\":1,\"xref\":\"x domain\",\"y0\":153,\"y1\":153,\"yref\":\"y\"}],\"annotations\":[{\"align\":\"left\",\"arrowcolor\":\"#636363\",\"arrowhead\":1,\"arrowsize\":1,\"arrowwidth\":2,\"ax\":-20,\"ay\":-30,\"font\":{\"color\":\"purple\",\"family\":\"Sans Serif\",\"size\":12},\"showarrow\":false,\"text\":\"LLC Size Per Node: 80M\",\"x\":\"80e6\",\"y\":280,\"yanchor\":\"bottom\"},{\"align\":\"left\",\"arrowcolor\":\"#636363\",\"arrowhead\":1,\"arrowsize\":1,\"arrowwidth\":2,\"ax\":-20,\"ay\":-30,\"font\":{\"color\":\"orange\",\"family\":\"Sans Serif\",\"size\":12},\"showarrow\":false,\"text\":\"Max Bandwidth Per Node\",\"x\":\"130e6\",\"y\":155,\"yanchor\":\"bottom\"}],\"xaxis\":{\"title\":{\"text\":\"Dirc_Data_Mov\"},\"ticks\":\"outside\"},\"yaxis\":{\"title\":{\"text\":\"Bandwidth/Node\"},\"ticks\":\"outside\"},\"title\":{\"text\":\"\\\"AVX-Fused: Probmpi vs Non-Probempi\\\" Bandwidth Measurement\"},\"legend\":{\"bordercolor\":\"black\",\"borderwidth\":1}},                        {\"responsive\": true}                    ).then(function(){\n",
       "                            \n",
       "var gd = document.getElementById('4cbe7b8f-21be-41ba-aca2-456fb01804b5');\n",
       "var x = new MutationObserver(function (mutations, observer) {{\n",
       "        var display = window.getComputedStyle(gd).display;\n",
       "        if (!display || display === 'none') {{\n",
       "            console.log([gd, 'removed!']);\n",
       "            Plotly.purge(gd);\n",
       "            observer.disconnect();\n",
       "        }}\n",
       "}});\n",
       "\n",
       "// Listen for the removal of the full notebook cells\n",
       "var notebookContainer = gd.closest('#notebook-container');\n",
       "if (notebookContainer) {{\n",
       "    x.observe(notebookContainer, {childList: true});\n",
       "}}\n",
       "\n",
       "// Listen for the clearing of the current output cell\n",
       "var outputEl = gd.closest('.output');\n",
       "if (outputEl) {{\n",
       "    x.observe(outputEl, {childList: true});\n",
       "}}\n",
       "\n",
       "                        })                };                });            </script>        </div>"
      ]
     },
     "metadata": {},
     "output_type": "display_data"
    }
   ],
   "source": [
    "fig = go.Figure()\n",
    "# 1----\n",
    "fig.add_trace(go.Scatter(x=(dfn4AvxFusProb_32mpi_4omp.Dirc_Data_Mov*(dfn4AvxFusProb_32mpi_4omp.MPI_size/4)), \n",
    "                         y=(dfn4AvxFusProb_32mpi_4omp.BAND*(dfn4AvxFusProb_32mpi_4omp.MPI_size/4)), \n",
    "                         mode='lines+markers', \n",
    "                         name='AvxFusProb_32mpi_4omp',\n",
    "                         line=dict(color='magenta',width=3),\n",
    "                         marker=dict(symbol='hexagon',size=9, line=dict(color='yellow',width=1))))\n",
    "\n",
    "fig.add_trace(go.Scatter(x=(dfn4AvxFusNonProb_32mpi_4omp.Dirc_Data_Mov*(dfn4AvxFusNonProb_32mpi_4omp.MPI_size/4)), \n",
    "                         y=(dfn4AvxFusNonProb_32mpi_4omp.BAND*(dfn4AvxFusNonProb_32mpi_4omp.MPI_size/4)), \n",
    "                         mode='lines+markers', \n",
    "                         name='AvxFusNonProb_32mpi_4omp',\n",
    "                         line=dict(color='darkcyan',width=3),\n",
    "                         marker=dict(symbol='hexagon',size=9, line=dict(color='yellow',width=1))))\n",
    "\n",
    "\n",
    "# 2----\n",
    "fig.add_trace(go.Scatter(x=(dfn4AvxFusProb_40mpi_3omp.Dirc_Data_Mov*(dfn4AvxFusProb_40mpi_3omp.MPI_size/4)), \n",
    "                         y=(dfn4AvxFusProb_40mpi_3omp.BAND*(dfn4AvxFusProb_40mpi_3omp.MPI_size/4)), \n",
    "                         mode='lines+markers', \n",
    "                         name='AvxFusProb_40mpi_3omp',\n",
    "                         line=dict(color='sandybrown',width=3),\n",
    "                         marker=dict(symbol='diamond',size=5,line=dict(color='MediumPurple',width=2))))\n",
    "\n",
    "fig.add_trace(go.Scatter(x=(dfn4AvxFusNonProb_40mpi_3omp.Dirc_Data_Mov*(dfn4AvxFusNonProb_40mpi_3omp.MPI_size/4)), \n",
    "                         y=(dfn4AvxFusNonProb_40mpi_3omp.BAND*(dfn4AvxFusNonProb_40mpi_3omp.MPI_size/4)), \n",
    "                         mode='lines+markers', \n",
    "                         name='AvxFusNonProb_40mpi_3omp',\n",
    "                         line=dict(color='royalblue',width=3),\n",
    "                         marker=dict(symbol='diamond',size=5,line=dict(color='MediumPurple',width=2))))\n",
    "\n",
    "# 3----\n",
    "fig.add_trace(go.Scatter(x=(dfn4AvxFusProb_56mpi_2omp.Dirc_Data_Mov*(dfn4AvxFusProb_56mpi_2omp.MPI_size/4)), \n",
    "                         y=(dfn4AvxFusProb_56mpi_2omp.BAND*(dfn4AvxFusProb_56mpi_2omp.MPI_size/4)), \n",
    "                         mode='lines+markers', \n",
    "                         name='AvxFusProb_56mpi_2omp',\n",
    "                         line=dict(color='cyan',width=3),\n",
    "                         marker=dict(symbol='circle',size=7,line=dict(color='Purple',width=2))))\n",
    "\n",
    "fig.add_trace(go.Scatter(x=(dfn4AvxFusNonProb_56mpi_2omp.Dirc_Data_Mov*(dfn4AvxFusNonProb_56mpi_2omp.MPI_size/4)), \n",
    "                         y=(dfn4AvxFusNonProb_56mpi_2omp.BAND*(dfn4AvxFusNonProb_56mpi_2omp.MPI_size/4)), \n",
    "                         mode='lines+markers', \n",
    "                         name='AvxFusNonProb_56mpi_2omp',\n",
    "                         line=dict(color='darkblue',width=3),\n",
    "                         marker=dict(symbol='circle',size=7, line=dict(color='tomato',width=2))))\n",
    "\n",
    "\n",
    "# 4----\n",
    "fig.add_trace(go.Scatter(x=(dfn4AvxFusProb_64mpi_2omp.Dirc_Data_Mov*(dfn4AvxFusProb_64mpi_2omp.MPI_size/4)), \n",
    "                         y=(dfn4AvxFusProb_64mpi_2omp.BAND*(dfn4AvxFusProb_64mpi_2omp.MPI_size/4)), \n",
    "                         mode='lines+markers', \n",
    "                         name='AvxFusProb_64mpi_2omp',\n",
    "                         line=dict(color='blue',width=3),\n",
    "                         marker=dict(symbol='star',size=7, line=dict(color='black',width=1))))\n",
    "\n",
    "\n",
    "fig.add_trace(go.Scatter(x=(dfn4AvxFusNonProb_64mpi_2omp.Dirc_Data_Mov*(dfn4AvxFusNonProb_64mpi_2omp.MPI_size/4)), \n",
    "                         y=(dfn4AvxFusNonProb_64mpi_2omp.BAND*(dfn4AvxFusNonProb_64mpi_2omp.MPI_size/4)), \n",
    "                         mode='lines+markers', \n",
    "                         name='AvxFusNonProb_64mpi_2omp',\n",
    "                         line=dict(color='red',width=3),\n",
    "                         marker=dict(symbol='star',size=7, line=dict(color='black',width=1))))\n",
    "\n",
    "\n",
    "\n",
    "# 5----\n",
    "fig.add_trace(go.Scatter(x=(dfn4AvxFusProb_112mpi_1omp.Dirc_Data_Mov*(dfn4AvxFusProb_112mpi_1omp.MPI_size/4)), \n",
    "                         y=(dfn4AvxFusProb_112mpi_1omp.BAND*(dfn4AvxFusProb_112mpi_1omp.MPI_size/4)), \n",
    "                         mode='lines+markers', \n",
    "                         name='AvxFusProb_112mpi_1omp',\n",
    "                         line=dict(color='chartreuse',width=3),\n",
    "                         marker=dict(symbol='square-dot',size=7, line=dict(color='mediumvioletred',width=1))))\n",
    "\n",
    "\n",
    "\n",
    "fig.add_trace(go.Scatter(x=(dfn4AvxFusNonProb_112mpi_1omp.Dirc_Data_Mov*(dfn4AvxFusNonProb_112mpi_1omp.MPI_size/4)), \n",
    "                         y=(dfn4AvxFusNonProb_112mpi_1omp.BAND*(dfn4AvxFusNonProb_112mpi_1omp.MPI_size/4)), \n",
    "                         mode='lines+markers', \n",
    "                         name='AvxFusNonProb_112mpi_1omp',\n",
    "                         line=dict(color='black',width=3),\n",
    "                         marker=dict(symbol='square-dot',size=7, line=dict(color='mediumvioletred',width=1))))\n",
    "\n",
    "\n",
    "\n",
    "# 6----\n",
    "fig.add_trace(go.Scatter(x=(dfn4AvxFusProb_128mpi_1omp.Dirc_Data_Mov*(dfn4AvxFusProb_128mpi_1omp.MPI_size/4)), \n",
    "                         y=(dfn4AvxFusProb_128mpi_1omp.BAND*(dfn4AvxFusProb_128mpi_1omp.MPI_size/4)), \n",
    "                         mode='lines+markers', \n",
    "                         name='AvxFusProb_64mpi_1omp',\n",
    "                         line=dict(color='gold',width=3),\n",
    "                         marker=dict(symbol='triangle-up',size=6, line=dict(color='black',width=1))))\n",
    "\n",
    "\n",
    "fig.add_trace(go.Scatter(x=(dfn4AvxFusNonProb_128mpi_1omp.Dirc_Data_Mov*(dfn4AvxFusNonProb_128mpi_1omp.MPI_size/4)), \n",
    "                         y=(dfn4AvxFusNonProb_128mpi_1omp.BAND*(dfn4AvxFusNonProb_128mpi_1omp.MPI_size/4)), \n",
    "                         mode='lines+markers', \n",
    "                         name='AvxFusNonProb_128mpi_1omp',\n",
    "                         line=dict(color='dimgray',width=3),\n",
    "                         marker=dict(symbol='triangle-up',size=6, line=dict(color='black',width=1))))\n",
    "\n",
    "\n",
    "\n",
    "# Adding vertical and horizontal lines \n",
    "fig.add_vline(x=80e6, line_width=3, line_dash=\"dot\", line_color=\"green\")\n",
    "fig.add_hline(y=153, line_width=3, line_dash=\"dash\", line_color=\"red\")\n",
    "\n",
    "# Add annotation with arrow\n",
    "fig.add_annotation(\n",
    "    x='80e6'\n",
    "    , y=280\n",
    "    , text=f'LLC Size Per Node: 80M'\n",
    "    , yanchor='bottom'\n",
    "    , showarrow=False\n",
    "    , arrowhead=1\n",
    "    , arrowsize=1\n",
    "    , arrowwidth=2\n",
    "    , arrowcolor=\"#636363\"\n",
    "    , ax=-20\n",
    "    , ay=-30\n",
    "    , font=dict(size=12, color=\"purple\", family=\"Sans Serif\")\n",
    "    , align=\"left\"\n",
    "    ,)\n",
    "\n",
    "fig.add_annotation(\n",
    "    x='130e6'\n",
    "    , y=155\n",
    "    , text=f'Max Bandwidth Per Node'\n",
    "    , yanchor='bottom'\n",
    "    , showarrow=False\n",
    "    , arrowhead=1\n",
    "    , arrowsize=1\n",
    "    , arrowwidth=2\n",
    "    , arrowcolor=\"#636363\"\n",
    "    , ax=-20\n",
    "    , ay=-30\n",
    "    , font=dict(size=12, color=\"orange\", family=\"Sans Serif\")\n",
    "    , align=\"left\"\n",
    "    ,)\n",
    "\n",
    "\n",
    "fig.update_layout(title='\"AVX-Fused: Probmpi vs Non-Probempi\" Bandwidth Measurement',\n",
    "                  xaxis_title='Dirc_Data_Mov', yaxis_title='Bandwidth/Node', \n",
    "                  xaxis=dict(ticks=\"outside\"),  \n",
    "                  yaxis=dict(ticks=\"outside\"),\n",
    "                  legend=go.layout.Legend(bordercolor=\"black\",borderwidth=1)) \n"
   ]
  },
  {
   "cell_type": "code",
   "execution_count": null,
   "id": "6484d55c",
   "metadata": {},
   "outputs": [],
   "source": []
  },
  {
   "cell_type": "code",
   "execution_count": null,
   "id": "372a8b95",
   "metadata": {},
   "outputs": [],
   "source": []
  },
  {
   "cell_type": "code",
   "execution_count": null,
   "id": "57d4d39c",
   "metadata": {},
   "outputs": [],
   "source": []
  },
  {
   "cell_type": "markdown",
   "id": "e5ed5309",
   "metadata": {},
   "source": [
    "## 3. AVX_nonfused_probempi"
   ]
  },
  {
   "cell_type": "markdown",
   "id": "03c01d10",
   "metadata": {},
   "source": [
    "### Add Columns"
   ]
  },
  {
   "cell_type": "code",
   "execution_count": 32,
   "id": "59d7c94a",
   "metadata": {},
   "outputs": [],
   "source": [
    "dfn4_avx_nonfused_probempi[\"N_Nodes\"] = 4\n",
    "dfn4_avx_nonfused_probempi['NPX'] = (dfn4_avx_nonfused_probempi.GLB_X//dfn4_avx_nonfused_probempi.LOC_X)\n",
    "dfn4_avx_nonfused_probempi['NPY'] = (dfn4_avx_nonfused_probempi.GLB_Y//dfn4_avx_nonfused_probempi.LOC_Y)\n",
    "dfn4_avx_nonfused_probempi['NPZ'] = (dfn4_avx_nonfused_probempi.GLB_Z//dfn4_avx_nonfused_probempi.LOC_Z)\n",
    "dfn4_avx_nonfused_probempi['NPT'] = (dfn4_avx_nonfused_probempi.GLB_T//dfn4_avx_nonfused_probempi.LOC_T)\n",
    "dfn4_avx_nonfused_probempi[\"Total_proc\"] = dfn4_avx_nonfused_probempi[\"omp_thrd\"]* dfn4_avx_nonfused_probempi.MPI_size\n",
    "# dfn4_avx_nonfused_probempi.columns"
   ]
  },
  {
   "cell_type": "markdown",
   "id": "3eef1486",
   "metadata": {},
   "source": [
    "### Data Summary"
   ]
  },
  {
   "cell_type": "code",
   "execution_count": 33,
   "id": "261bfd9d",
   "metadata": {},
   "outputs": [
    {
     "data": {
      "text/html": [
       "<div>\n",
       "<style scoped>\n",
       "    .dataframe tbody tr th:only-of-type {\n",
       "        vertical-align: middle;\n",
       "    }\n",
       "\n",
       "    .dataframe tbody tr th {\n",
       "        vertical-align: top;\n",
       "    }\n",
       "\n",
       "    .dataframe thead th {\n",
       "        text-align: right;\n",
       "    }\n",
       "</style>\n",
       "<table border=\"1\" class=\"dataframe\">\n",
       "  <thead>\n",
       "    <tr style=\"text-align: right;\">\n",
       "      <th></th>\n",
       "      <th>MPI_size</th>\n",
       "      <th>omp_thrd</th>\n",
       "      <th>NPT</th>\n",
       "      <th>NPX</th>\n",
       "      <th>NPY</th>\n",
       "      <th>NPZ</th>\n",
       "      <th>Total_proc</th>\n",
       "      <th>size</th>\n",
       "    </tr>\n",
       "  </thead>\n",
       "  <tbody>\n",
       "    <tr>\n",
       "      <th>0</th>\n",
       "      <td>32</td>\n",
       "      <td>4</td>\n",
       "      <td>4</td>\n",
       "      <td>2</td>\n",
       "      <td>2</td>\n",
       "      <td>2</td>\n",
       "      <td>128</td>\n",
       "      <td>29</td>\n",
       "    </tr>\n",
       "    <tr>\n",
       "      <th>1</th>\n",
       "      <td>40</td>\n",
       "      <td>3</td>\n",
       "      <td>5</td>\n",
       "      <td>2</td>\n",
       "      <td>2</td>\n",
       "      <td>2</td>\n",
       "      <td>120</td>\n",
       "      <td>11</td>\n",
       "    </tr>\n",
       "    <tr>\n",
       "      <th>2</th>\n",
       "      <td>56</td>\n",
       "      <td>2</td>\n",
       "      <td>7</td>\n",
       "      <td>2</td>\n",
       "      <td>2</td>\n",
       "      <td>2</td>\n",
       "      <td>112</td>\n",
       "      <td>8</td>\n",
       "    </tr>\n",
       "    <tr>\n",
       "      <th>3</th>\n",
       "      <td>64</td>\n",
       "      <td>2</td>\n",
       "      <td>8</td>\n",
       "      <td>2</td>\n",
       "      <td>2</td>\n",
       "      <td>2</td>\n",
       "      <td>128</td>\n",
       "      <td>13</td>\n",
       "    </tr>\n",
       "    <tr>\n",
       "      <th>4</th>\n",
       "      <td>104</td>\n",
       "      <td>1</td>\n",
       "      <td>13</td>\n",
       "      <td>2</td>\n",
       "      <td>2</td>\n",
       "      <td>2</td>\n",
       "      <td>104</td>\n",
       "      <td>3</td>\n",
       "    </tr>\n",
       "    <tr>\n",
       "      <th>5</th>\n",
       "      <td>112</td>\n",
       "      <td>1</td>\n",
       "      <td>14</td>\n",
       "      <td>2</td>\n",
       "      <td>2</td>\n",
       "      <td>2</td>\n",
       "      <td>112</td>\n",
       "      <td>5</td>\n",
       "    </tr>\n",
       "    <tr>\n",
       "      <th>6</th>\n",
       "      <td>120</td>\n",
       "      <td>1</td>\n",
       "      <td>15</td>\n",
       "      <td>2</td>\n",
       "      <td>2</td>\n",
       "      <td>2</td>\n",
       "      <td>120</td>\n",
       "      <td>3</td>\n",
       "    </tr>\n",
       "    <tr>\n",
       "      <th>7</th>\n",
       "      <td>128</td>\n",
       "      <td>1</td>\n",
       "      <td>16</td>\n",
       "      <td>2</td>\n",
       "      <td>2</td>\n",
       "      <td>2</td>\n",
       "      <td>128</td>\n",
       "      <td>5</td>\n",
       "    </tr>\n",
       "  </tbody>\n",
       "</table>\n",
       "</div>"
      ],
      "text/plain": [
       "   MPI_size  omp_thrd  NPT  NPX  NPY  NPZ  Total_proc  size\n",
       "0        32         4    4    2    2    2         128    29\n",
       "1        40         3    5    2    2    2         120    11\n",
       "2        56         2    7    2    2    2         112     8\n",
       "3        64         2    8    2    2    2         128    13\n",
       "4       104         1   13    2    2    2         104     3\n",
       "5       112         1   14    2    2    2         112     5\n",
       "6       120         1   15    2    2    2         120     3\n",
       "7       128         1   16    2    2    2         128     5"
      ]
     },
     "execution_count": 33,
     "metadata": {},
     "output_type": "execute_result"
    }
   ],
   "source": [
    "dfn4_avx_nonfused_probempi_summary = dfn4_avx_nonfused_probempi.groupby(['MPI_size','omp_thrd','NPT','NPX', 'NPY', 'NPZ',\"Total_proc\"]).size().reset_index(name = 'size')\n",
    "dfn4_avx_nonfused_probempi_summary"
   ]
  },
  {
   "cell_type": "markdown",
   "id": "e3dd357b",
   "metadata": {},
   "source": [
    "### Case Setup"
   ]
  },
  {
   "cell_type": "code",
   "execution_count": 73,
   "id": "0486f010",
   "metadata": {},
   "outputs": [],
   "source": [
    "dfn4AvxNonFusProb_32mpi_4omp = dfn4_avx_nonfused_probempi[(dfn4_avx_nonfused_probempi.omp_thrd == 4) & (dfn4_avx_nonfused_probempi.GLB_T/dfn4_avx_nonfused_probempi.LOC_T == 4) & (dfn4_avx_nonfused_probempi.GLB_X/dfn4_avx_nonfused_probempi.LOC_X == 2) & (dfn4_avx_nonfused_probempi.GLB_Y/dfn4_avx_nonfused_probempi.LOC_Y == 2)& (dfn4_avx_nonfused_probempi.GLB_Z/dfn4_avx_nonfused_probempi.LOC_Z == 2)]\n",
    "dfn4AvxNonFusProb_40mpi_3omp = dfn4_avx_nonfused_probempi[(dfn4_avx_nonfused_probempi.omp_thrd == 3) & (dfn4_avx_nonfused_probempi.GLB_T/dfn4_avx_nonfused_probempi.LOC_T == 5) & (dfn4_avx_nonfused_probempi.GLB_X/dfn4_avx_nonfused_probempi.LOC_X == 2) & (dfn4_avx_nonfused_probempi.GLB_Y/dfn4_avx_nonfused_probempi.LOC_Y == 2)& (dfn4_avx_nonfused_probempi.GLB_Z/dfn4_avx_nonfused_probempi.LOC_Z == 2)]\n",
    "dfn4AvxNonFusProb_56mpi_2omp = dfn4_avx_nonfused_probempi[(dfn4_avx_nonfused_probempi.omp_thrd == 2) & (dfn4_avx_nonfused_probempi.GLB_T/dfn4_avx_nonfused_probempi.LOC_T == 7) & (dfn4_avx_nonfused_probempi.GLB_X/dfn4_avx_nonfused_probempi.LOC_X == 2) & (dfn4_avx_nonfused_probempi.GLB_Y/dfn4_avx_nonfused_probempi.LOC_Y == 2)& (dfn4_avx_nonfused_probempi.GLB_Z/dfn4_avx_nonfused_probempi.LOC_Z == 2)]\n",
    "dfn4AvxNonFusProb_64mpi_2omp = dfn4_avx_nonfused_probempi[(dfn4_avx_nonfused_probempi.omp_thrd == 2) & (dfn4_avx_nonfused_probempi.GLB_T/dfn4_avx_nonfused_probempi.LOC_T == 8) & (dfn4_avx_nonfused_probempi.GLB_X/dfn4_avx_nonfused_probempi.LOC_X == 2) & (dfn4_avx_nonfused_probempi.GLB_Y/dfn4_avx_nonfused_probempi.LOC_Y == 2)& (dfn4_avx_nonfused_probempi.GLB_Z/dfn4_avx_nonfused_probempi.LOC_Z == 2)]\n",
    "dfn4AvxNonFusProb_112mpi_1omp = dfn4_avx_nonfused_probempi[(dfn4_avx_nonfused_probempi.omp_thrd == 1) & (dfn4_avx_nonfused_probempi.GLB_T/dfn4_avx_nonfused_probempi.LOC_T == 14) & (dfn4_avx_nonfused_probempi.GLB_X/dfn4_avx_nonfused_probempi.LOC_X == 2) & (dfn4_avx_nonfused_probempi.GLB_Y/dfn4_avx_nonfused_probempi.LOC_Y == 2)& (dfn4_avx_nonfused_probempi.GLB_Z/dfn4_avx_nonfused_probempi.LOC_Z == 2)]\n",
    "dfn4AvxNonFusProb_128mpi_1omp = dfn4_avx_nonfused_probempi[(dfn4_avx_nonfused_probempi.omp_thrd == 1) & (dfn4_avx_nonfused_probempi.GLB_T/dfn4_avx_nonfused_probempi.LOC_T == 16) & (dfn4_avx_nonfused_probempi.GLB_X/dfn4_avx_nonfused_probempi.LOC_X == 2) & (dfn4_avx_nonfused_probempi.GLB_Y/dfn4_avx_nonfused_probempi.LOC_Y == 2)& (dfn4_avx_nonfused_probempi.GLB_Z/dfn4_avx_nonfused_probempi.LOC_Z == 2)]\n"
   ]
  },
  {
   "cell_type": "code",
   "execution_count": null,
   "id": "35a20fc6",
   "metadata": {},
   "outputs": [],
   "source": []
  },
  {
   "cell_type": "code",
   "execution_count": null,
   "id": "1d110134",
   "metadata": {},
   "outputs": [],
   "source": []
  },
  {
   "cell_type": "markdown",
   "id": "ac95dbda",
   "metadata": {},
   "source": [
    "## 4. AVX_nonfused_nonprobempi"
   ]
  },
  {
   "cell_type": "markdown",
   "id": "66bf9ded",
   "metadata": {},
   "source": [
    "### Add Columns"
   ]
  },
  {
   "cell_type": "code",
   "execution_count": 70,
   "id": "01efe52c",
   "metadata": {},
   "outputs": [],
   "source": [
    "dfn4_avx_nonfused_nonprobempi[\"N_Nodes\"] = 4\n",
    "dfn4_avx_nonfused_nonprobempi['NPX'] = (dfn4_avx_nonfused_nonprobempi.GLB_X//dfn4_avx_nonfused_nonprobempi.LOC_X)\n",
    "dfn4_avx_nonfused_nonprobempi['NPY'] = (dfn4_avx_nonfused_nonprobempi.GLB_Y//dfn4_avx_nonfused_nonprobempi.LOC_Y)\n",
    "dfn4_avx_nonfused_nonprobempi['NPZ'] = (dfn4_avx_nonfused_nonprobempi.GLB_Z//dfn4_avx_nonfused_nonprobempi.LOC_Z)\n",
    "dfn4_avx_nonfused_nonprobempi['NPT'] = (dfn4_avx_nonfused_nonprobempi.GLB_T//dfn4_avx_nonfused_nonprobempi.LOC_T)\n",
    "dfn4_avx_nonfused_nonprobempi[\"Total_proc\"] = dfn4_avx_nonfused_nonprobempi[\"omp_thrd\"]* dfn4_avx_nonfused_nonprobempi.MPI_size\n",
    "# dfn4_avx_nonfused_nonprobempi.columns"
   ]
  },
  {
   "cell_type": "markdown",
   "id": "7197ba92",
   "metadata": {},
   "source": [
    "### Data Summary"
   ]
  },
  {
   "cell_type": "code",
   "execution_count": 71,
   "id": "29f8af3f",
   "metadata": {},
   "outputs": [
    {
     "data": {
      "text/html": [
       "<div>\n",
       "<style scoped>\n",
       "    .dataframe tbody tr th:only-of-type {\n",
       "        vertical-align: middle;\n",
       "    }\n",
       "\n",
       "    .dataframe tbody tr th {\n",
       "        vertical-align: top;\n",
       "    }\n",
       "\n",
       "    .dataframe thead th {\n",
       "        text-align: right;\n",
       "    }\n",
       "</style>\n",
       "<table border=\"1\" class=\"dataframe\">\n",
       "  <thead>\n",
       "    <tr style=\"text-align: right;\">\n",
       "      <th></th>\n",
       "      <th>MPI_size</th>\n",
       "      <th>omp_thrd</th>\n",
       "      <th>NPT</th>\n",
       "      <th>NPX</th>\n",
       "      <th>NPY</th>\n",
       "      <th>NPZ</th>\n",
       "      <th>Total_proc</th>\n",
       "      <th>size</th>\n",
       "    </tr>\n",
       "  </thead>\n",
       "  <tbody>\n",
       "    <tr>\n",
       "      <th>0</th>\n",
       "      <td>32</td>\n",
       "      <td>4</td>\n",
       "      <td>4</td>\n",
       "      <td>2</td>\n",
       "      <td>2</td>\n",
       "      <td>2</td>\n",
       "      <td>128</td>\n",
       "      <td>29</td>\n",
       "    </tr>\n",
       "    <tr>\n",
       "      <th>1</th>\n",
       "      <td>40</td>\n",
       "      <td>3</td>\n",
       "      <td>5</td>\n",
       "      <td>2</td>\n",
       "      <td>2</td>\n",
       "      <td>2</td>\n",
       "      <td>120</td>\n",
       "      <td>11</td>\n",
       "    </tr>\n",
       "    <tr>\n",
       "      <th>2</th>\n",
       "      <td>56</td>\n",
       "      <td>2</td>\n",
       "      <td>7</td>\n",
       "      <td>2</td>\n",
       "      <td>2</td>\n",
       "      <td>2</td>\n",
       "      <td>112</td>\n",
       "      <td>8</td>\n",
       "    </tr>\n",
       "    <tr>\n",
       "      <th>3</th>\n",
       "      <td>64</td>\n",
       "      <td>2</td>\n",
       "      <td>8</td>\n",
       "      <td>2</td>\n",
       "      <td>2</td>\n",
       "      <td>2</td>\n",
       "      <td>128</td>\n",
       "      <td>13</td>\n",
       "    </tr>\n",
       "    <tr>\n",
       "      <th>4</th>\n",
       "      <td>104</td>\n",
       "      <td>1</td>\n",
       "      <td>13</td>\n",
       "      <td>2</td>\n",
       "      <td>2</td>\n",
       "      <td>2</td>\n",
       "      <td>104</td>\n",
       "      <td>3</td>\n",
       "    </tr>\n",
       "    <tr>\n",
       "      <th>5</th>\n",
       "      <td>112</td>\n",
       "      <td>1</td>\n",
       "      <td>14</td>\n",
       "      <td>2</td>\n",
       "      <td>2</td>\n",
       "      <td>2</td>\n",
       "      <td>112</td>\n",
       "      <td>6</td>\n",
       "    </tr>\n",
       "    <tr>\n",
       "      <th>6</th>\n",
       "      <td>120</td>\n",
       "      <td>1</td>\n",
       "      <td>15</td>\n",
       "      <td>2</td>\n",
       "      <td>2</td>\n",
       "      <td>2</td>\n",
       "      <td>120</td>\n",
       "      <td>3</td>\n",
       "    </tr>\n",
       "    <tr>\n",
       "      <th>7</th>\n",
       "      <td>128</td>\n",
       "      <td>1</td>\n",
       "      <td>16</td>\n",
       "      <td>2</td>\n",
       "      <td>2</td>\n",
       "      <td>2</td>\n",
       "      <td>128</td>\n",
       "      <td>5</td>\n",
       "    </tr>\n",
       "  </tbody>\n",
       "</table>\n",
       "</div>"
      ],
      "text/plain": [
       "   MPI_size  omp_thrd  NPT  NPX  NPY  NPZ  Total_proc  size\n",
       "0        32         4    4    2    2    2         128    29\n",
       "1        40         3    5    2    2    2         120    11\n",
       "2        56         2    7    2    2    2         112     8\n",
       "3        64         2    8    2    2    2         128    13\n",
       "4       104         1   13    2    2    2         104     3\n",
       "5       112         1   14    2    2    2         112     6\n",
       "6       120         1   15    2    2    2         120     3\n",
       "7       128         1   16    2    2    2         128     5"
      ]
     },
     "execution_count": 71,
     "metadata": {},
     "output_type": "execute_result"
    }
   ],
   "source": [
    "dfn4_avx_nonfused_nonprobempi_summary = dfn4_avx_nonfused_nonprobempi.groupby(['MPI_size','omp_thrd','NPT','NPX', 'NPY', 'NPZ',\"Total_proc\"]).size().reset_index(name = 'size')\n",
    "dfn4_avx_nonfused_nonprobempi_summary"
   ]
  },
  {
   "cell_type": "markdown",
   "id": "cdaf8c77",
   "metadata": {},
   "source": [
    "### Case Setup"
   ]
  },
  {
   "cell_type": "code",
   "execution_count": 74,
   "id": "9d844216",
   "metadata": {},
   "outputs": [],
   "source": [
    "dfn4AvxNonFusNonProb_32mpi_4omp = dfn4_avx_nonfused_nonprobempi[(dfn4_avx_nonfused_nonprobempi.omp_thrd == 4) & (dfn4_avx_nonfused_nonprobempi.GLB_T/dfn4_avx_nonfused_nonprobempi.LOC_T == 4) & (dfn4_avx_nonfused_nonprobempi.GLB_X/dfn4_avx_nonfused_nonprobempi.LOC_X == 2) & (dfn4_avx_nonfused_nonprobempi.GLB_Y/dfn4_avx_nonfused_nonprobempi.LOC_Y == 2)& (dfn4_avx_nonfused_nonprobempi.GLB_Z/dfn4_avx_nonfused_nonprobempi.LOC_Z == 2)]\n",
    "dfn4AvxNonFusNonProb_40mpi_3omp = dfn4_avx_nonfused_nonprobempi[(dfn4_avx_nonfused_nonprobempi.omp_thrd == 3) & (dfn4_avx_nonfused_nonprobempi.GLB_T/dfn4_avx_nonfused_nonprobempi.LOC_T == 5) & (dfn4_avx_nonfused_nonprobempi.GLB_X/dfn4_avx_nonfused_nonprobempi.LOC_X == 2) & (dfn4_avx_nonfused_nonprobempi.GLB_Y/dfn4_avx_nonfused_nonprobempi.LOC_Y == 2)& (dfn4_avx_nonfused_nonprobempi.GLB_Z/dfn4_avx_nonfused_nonprobempi.LOC_Z == 2)]\n",
    "dfn4AvxNonFusNonProb_56mpi_2omp = dfn4_avx_nonfused_nonprobempi[(dfn4_avx_nonfused_nonprobempi.omp_thrd == 2) & (dfn4_avx_nonfused_nonprobempi.GLB_T/dfn4_avx_nonfused_nonprobempi.LOC_T == 7) & (dfn4_avx_nonfused_nonprobempi.GLB_X/dfn4_avx_nonfused_nonprobempi.LOC_X == 2) & (dfn4_avx_nonfused_nonprobempi.GLB_Y/dfn4_avx_nonfused_nonprobempi.LOC_Y == 2)& (dfn4_avx_nonfused_nonprobempi.GLB_Z/dfn4_avx_nonfused_nonprobempi.LOC_Z == 2)]\n",
    "dfn4AvxNonFusNonProb_64mpi_2omp = dfn4_avx_nonfused_nonprobempi[(dfn4_avx_nonfused_nonprobempi.omp_thrd == 2) & (dfn4_avx_nonfused_nonprobempi.GLB_T/dfn4_avx_nonfused_nonprobempi.LOC_T == 8) & (dfn4_avx_nonfused_nonprobempi.GLB_X/dfn4_avx_nonfused_nonprobempi.LOC_X == 2) & (dfn4_avx_nonfused_nonprobempi.GLB_Y/dfn4_avx_nonfused_nonprobempi.LOC_Y == 2)& (dfn4_avx_nonfused_nonprobempi.GLB_Z/dfn4_avx_nonfused_nonprobempi.LOC_Z == 2)]\n",
    "dfn4AvxNonFusNonProb_112mpi_1omp = dfn4_avx_nonfused_nonprobempi[(dfn4_avx_nonfused_nonprobempi.omp_thrd == 1) & (dfn4_avx_nonfused_nonprobempi.GLB_T/dfn4_avx_nonfused_nonprobempi.LOC_T == 14) & (dfn4_avx_nonfused_nonprobempi.GLB_X/dfn4_avx_nonfused_nonprobempi.LOC_X == 2) & (dfn4_avx_nonfused_nonprobempi.GLB_Y/dfn4_avx_nonfused_nonprobempi.LOC_Y == 2)& (dfn4_avx_nonfused_nonprobempi.GLB_Z/dfn4_avx_nonfused_nonprobempi.LOC_Z == 2)]\n",
    "dfn4AvxNonFusNonProb_128mpi_1omp = dfn4_avx_nonfused_nonprobempi[(dfn4_avx_nonfused_nonprobempi.omp_thrd == 1) & (dfn4_avx_nonfused_nonprobempi.GLB_T/dfn4_avx_nonfused_nonprobempi.LOC_T == 16) & (dfn4_avx_nonfused_nonprobempi.GLB_X/dfn4_avx_nonfused_nonprobempi.LOC_X == 2) & (dfn4_avx_nonfused_nonprobempi.GLB_Y/dfn4_avx_nonfused_nonprobempi.LOC_Y == 2)& (dfn4_avx_nonfused_nonprobempi.GLB_Z/dfn4_avx_nonfused_nonprobempi.LOC_Z == 2)]\n"
   ]
  },
  {
   "cell_type": "markdown",
   "id": "3a82d71c",
   "metadata": {},
   "source": [
    "## GFLOPS - AVX-NonFused: Probmpi vs Non-Probempi"
   ]
  },
  {
   "cell_type": "code",
   "execution_count": 79,
   "id": "9fbea248",
   "metadata": {},
   "outputs": [
    {
     "data": {
      "application/vnd.plotly.v1+json": {
       "config": {
        "plotlyServerURL": "https://plot.ly"
       },
       "data": [
        {
         "line": {
          "color": "magenta",
          "width": 3
         },
         "marker": {
          "line": {
           "color": "yellow",
           "width": 1
          },
          "size": 9,
          "symbol": "hexagon"
         },
         "mode": "lines+markers",
         "name": "AvxNonFusProb_32mpi_4omp",
         "type": "scatter",
         "x": [
          50331648,
          62914560,
          75497472,
          88080384,
          100663296,
          113246208,
          125829120,
          138412032,
          150994944,
          163577856,
          176160768,
          188743680,
          201326592,
          213909504,
          226492416,
          239075328,
          251658240,
          264241152,
          276824064,
          289406976,
          301989888,
          314572800,
          327155712,
          339738624,
          352321536,
          364904448,
          377487360,
          390070272,
          402653184
         ],
         "y": [
          32.03992,
          31.68736,
          32.4428,
          32.60968,
          32.45896,
          32.92784,
          32.65296,
          32.80624,
          30.94384,
          31.48848,
          30.17488,
          29.01296,
          27.94224,
          27.40792,
          26.74344,
          26.29032,
          25.59168,
          25.1356,
          24.97192,
          24.44336,
          24.05712,
          23.35408,
          24.09248,
          24.11872,
          23.55208,
          23.67552,
          23.76904,
          23.4716,
          22.39712
         ]
        },
        {
         "line": {
          "color": "darkcyan",
          "width": 3
         },
         "marker": {
          "line": {
           "color": "yellow",
           "width": 1
          },
          "size": 9,
          "symbol": "hexagon"
         },
         "mode": "lines+markers",
         "name": "AvxNonFusNonProb_32mpi_4omp",
         "type": "scatter",
         "x": [
          50331648,
          62914560,
          75497472,
          88080384,
          100663296,
          113246208,
          125829120,
          138412032,
          150994944,
          163577856,
          176160768,
          188743680,
          201326592,
          213909504,
          226492416,
          239075328,
          251658240,
          264241152,
          276824064,
          289406976,
          301989888,
          314572800,
          327155712,
          339738624,
          352321536,
          364904448,
          377487360,
          390070272,
          402653184
         ],
         "y": [
          37.64272,
          39.45464,
          44.7776,
          41.31,
          45.3896,
          43.03512,
          45.49752,
          42.51624,
          40.68616,
          41.04384,
          39.35176,
          39.6384,
          36.54432,
          35.866,
          34.64752,
          33.7668,
          33.1776,
          32.84992,
          32.0028,
          31.36384,
          30.92328,
          30.4772,
          30.15064,
          30.0588,
          30.18064,
          29.72216,
          29.33184,
          28.87104,
          29.12656
         ]
        },
        {
         "line": {
          "color": "sandybrown",
          "width": 3
         },
         "marker": {
          "line": {
           "color": "MediumPurple",
           "width": 2
          },
          "size": 5,
          "symbol": "diamond"
         },
         "mode": "lines+markers",
         "name": "AvxNonFusProb_40mpi_3omp",
         "type": "scatter",
         "x": [
          62914560,
          94371840,
          125829120,
          157286400,
          188743680,
          220200960,
          251658240,
          283115520,
          314572800,
          346030080,
          377487360
         ],
         "y": [
          31.610999999999997,
          32.4736,
          31.7789,
          26.8615,
          24.5172,
          23.04,
          22.325499999999998,
          21.6558,
          20.860400000000002,
          22.1321,
          21.5517
         ]
        },
        {
         "line": {
          "color": "royalblue",
          "width": 3
         },
         "marker": {
          "line": {
           "color": "MediumPurple",
           "width": 2
          },
          "size": 5,
          "symbol": "diamond"
         },
         "mode": "lines+markers",
         "name": "AvxNonFusNonProb_40mpi_3omp",
         "type": "scatter",
         "x": [
          62914560,
          94371840,
          125829120,
          157286400,
          188743680,
          220200960,
          251658240,
          283115520,
          314572800,
          346030080,
          377487360
         ],
         "y": [
          38.2844,
          39.7843,
          38.7063,
          34.868,
          30.426199999999998,
          28.2649,
          26.500799999999998,
          25.395699999999998,
          25.337200000000003,
          25.354,
          24.1952
         ]
        },
        {
         "line": {
          "color": "cyan",
          "width": 3
         },
         "marker": {
          "line": {
           "color": "Purple",
           "width": 2
          },
          "size": 7,
          "symbol": "circle"
         },
         "mode": "lines+markers",
         "name": "AvxNonFusProb_56mpi_2omp",
         "type": "scatter",
         "x": [
          88080384,
          132120576,
          176160768,
          220200960,
          264241152,
          308281344,
          352321536,
          396361728
         ],
         "y": [
          36.272459999999995,
          35.64764,
          32.22072,
          30.05646,
          28.522759999999998,
          28.29316,
          27.70572,
          26.985419999999998
         ]
        },
        {
         "line": {
          "color": "darkblue",
          "width": 3
         },
         "marker": {
          "line": {
           "color": "tomato",
           "width": 2
          },
          "size": 7,
          "symbol": "circle"
         },
         "mode": "lines+markers",
         "name": "AvxNonFusNonProb_56mpi_2omp",
         "type": "scatter",
         "x": [
          88080384,
          132120576,
          176160768,
          220200960,
          264241152,
          308281344,
          352321536,
          396361728
         ],
         "y": [
          45.69012,
          45.60248,
          43.933679999999995,
          37.88106,
          36.02424,
          34.94204,
          34.67926,
          33.57858
         ]
        },
        {
         "line": {
          "color": "blue",
          "width": 3
         },
         "marker": {
          "line": {
           "color": "black",
           "width": 1
          },
          "size": 7,
          "symbol": "star"
         },
         "mode": "lines+markers",
         "name": "AvxNonFusProb_64mpi_2omp",
         "type": "scatter",
         "x": [
          100663296,
          125829120,
          150994944,
          176160768,
          201326592,
          226492416,
          251658240,
          276824064,
          301989888,
          327155712,
          352321536,
          377487360,
          402653184
         ],
         "y": [
          42.5168,
          42.00448,
          39.40752,
          38.06,
          36.01648,
          34.38384,
          33.15168,
          32.50336,
          32.0496,
          31.87152,
          31.25872,
          31.1528,
          30.81808
         ]
        },
        {
         "line": {
          "color": "red",
          "width": 3
         },
         "marker": {
          "line": {
           "color": "black",
           "width": 1
          },
          "size": 7,
          "symbol": "star"
         },
         "mode": "lines+markers",
         "name": "AvxNonFusNonProb_64mpi_2omp",
         "type": "scatter",
         "x": [
          100663296,
          125829120,
          150994944,
          176160768,
          201326592,
          226492416,
          251658240,
          276824064,
          301989888,
          327155712,
          352321536,
          377487360,
          402653184
         ],
         "y": [
          57.15776,
          55.79232,
          55.09056,
          53.61008,
          48.97216,
          46.05504,
          45.26256,
          42.76288,
          41.78736,
          40.9416,
          40.75232,
          39.67632,
          39.14528
         ]
        },
        {
         "line": {
          "color": "chartreuse",
          "width": 3
         },
         "marker": {
          "line": {
           "color": "mediumvioletred",
           "width": 1
          },
          "size": 7,
          "symbol": "square-dot"
         },
         "mode": "lines+markers",
         "name": "AvxNonFusProb_112mpi_1omp",
         "type": "scatter",
         "x": [
          176160768,
          220200960,
          308281344,
          352321536,
          396361728
         ],
         "y": [
          35.133,
          33.61708,
          32.50268,
          32.32824,
          32.06476
         ]
        },
        {
         "line": {
          "color": "black",
          "width": 3
         },
         "marker": {
          "line": {
           "color": "mediumvioletred",
           "width": 1
          },
          "size": 7,
          "symbol": "square-dot"
         },
         "mode": "lines+markers",
         "name": "AvxNonFusNonProb_112mpi_1omp",
         "type": "scatter",
         "x": [
          176160768,
          220200960,
          264241152,
          308281344,
          352321536,
          396361728
         ],
         "y": [
          43.32188,
          40.52692,
          40.901559999999996,
          40.11784,
          39.341120000000004,
          39.03508
         ]
        },
        {
         "line": {
          "color": "gold",
          "width": 3
         },
         "marker": {
          "line": {
           "color": "black",
           "width": 1
          },
          "size": 6,
          "symbol": "triangle-up"
         },
         "mode": "lines+markers",
         "name": "AvxNonFusProb_128mpi_1omp",
         "type": "scatter",
         "x": [
          201326592,
          251658240,
          301989888,
          352321536,
          402653184
         ],
         "y": [
          38.84832,
          36.91808,
          36.248,
          35.62112,
          35.11904
         ]
        },
        {
         "line": {
          "color": "dimgray",
          "width": 3
         },
         "marker": {
          "line": {
           "color": "black",
           "width": 1
          },
          "size": 6,
          "symbol": "triangle-up"
         },
         "mode": "lines+markers",
         "name": "AvxNonFusNonProb_128mpi_1omp",
         "type": "scatter",
         "x": [
          201326592,
          251658240,
          301989888,
          352321536,
          402653184
         ],
         "y": [
          52.36224,
          46.9536,
          46.85152,
          45.89152,
          45.20448
         ]
        }
       ],
       "layout": {
        "annotations": [
         {
          "align": "left",
          "arrowcolor": "#636363",
          "arrowhead": 1,
          "arrowsize": 1,
          "arrowwidth": 2,
          "ax": -20,
          "ay": -30,
          "font": {
           "color": "purple",
           "family": "Sans Serif",
           "size": 12
          },
          "showarrow": false,
          "text": "LLC Size Per Node",
          "x": "80e6",
          "y": 130,
          "yanchor": "bottom"
         }
        ],
        "legend": {
         "bordercolor": "black",
         "borderwidth": 1
        },
        "shapes": [
         {
          "line": {
           "color": "green",
           "dash": "dash",
           "width": 3
          },
          "type": "line",
          "x0": 80000000,
          "x1": 80000000,
          "xref": "x",
          "y0": 0,
          "y1": 1,
          "yref": "y domain"
         }
        ],
        "template": {
         "data": {
          "bar": [
           {
            "error_x": {
             "color": "#2a3f5f"
            },
            "error_y": {
             "color": "#2a3f5f"
            },
            "marker": {
             "line": {
              "color": "#E5ECF6",
              "width": 0.5
             },
             "pattern": {
              "fillmode": "overlay",
              "size": 10,
              "solidity": 0.2
             }
            },
            "type": "bar"
           }
          ],
          "barpolar": [
           {
            "marker": {
             "line": {
              "color": "#E5ECF6",
              "width": 0.5
             },
             "pattern": {
              "fillmode": "overlay",
              "size": 10,
              "solidity": 0.2
             }
            },
            "type": "barpolar"
           }
          ],
          "carpet": [
           {
            "aaxis": {
             "endlinecolor": "#2a3f5f",
             "gridcolor": "white",
             "linecolor": "white",
             "minorgridcolor": "white",
             "startlinecolor": "#2a3f5f"
            },
            "baxis": {
             "endlinecolor": "#2a3f5f",
             "gridcolor": "white",
             "linecolor": "white",
             "minorgridcolor": "white",
             "startlinecolor": "#2a3f5f"
            },
            "type": "carpet"
           }
          ],
          "choropleth": [
           {
            "colorbar": {
             "outlinewidth": 0,
             "ticks": ""
            },
            "type": "choropleth"
           }
          ],
          "contour": [
           {
            "colorbar": {
             "outlinewidth": 0,
             "ticks": ""
            },
            "colorscale": [
             [
              0,
              "#0d0887"
             ],
             [
              0.1111111111111111,
              "#46039f"
             ],
             [
              0.2222222222222222,
              "#7201a8"
             ],
             [
              0.3333333333333333,
              "#9c179e"
             ],
             [
              0.4444444444444444,
              "#bd3786"
             ],
             [
              0.5555555555555556,
              "#d8576b"
             ],
             [
              0.6666666666666666,
              "#ed7953"
             ],
             [
              0.7777777777777778,
              "#fb9f3a"
             ],
             [
              0.8888888888888888,
              "#fdca26"
             ],
             [
              1,
              "#f0f921"
             ]
            ],
            "type": "contour"
           }
          ],
          "contourcarpet": [
           {
            "colorbar": {
             "outlinewidth": 0,
             "ticks": ""
            },
            "type": "contourcarpet"
           }
          ],
          "heatmap": [
           {
            "colorbar": {
             "outlinewidth": 0,
             "ticks": ""
            },
            "colorscale": [
             [
              0,
              "#0d0887"
             ],
             [
              0.1111111111111111,
              "#46039f"
             ],
             [
              0.2222222222222222,
              "#7201a8"
             ],
             [
              0.3333333333333333,
              "#9c179e"
             ],
             [
              0.4444444444444444,
              "#bd3786"
             ],
             [
              0.5555555555555556,
              "#d8576b"
             ],
             [
              0.6666666666666666,
              "#ed7953"
             ],
             [
              0.7777777777777778,
              "#fb9f3a"
             ],
             [
              0.8888888888888888,
              "#fdca26"
             ],
             [
              1,
              "#f0f921"
             ]
            ],
            "type": "heatmap"
           }
          ],
          "heatmapgl": [
           {
            "colorbar": {
             "outlinewidth": 0,
             "ticks": ""
            },
            "colorscale": [
             [
              0,
              "#0d0887"
             ],
             [
              0.1111111111111111,
              "#46039f"
             ],
             [
              0.2222222222222222,
              "#7201a8"
             ],
             [
              0.3333333333333333,
              "#9c179e"
             ],
             [
              0.4444444444444444,
              "#bd3786"
             ],
             [
              0.5555555555555556,
              "#d8576b"
             ],
             [
              0.6666666666666666,
              "#ed7953"
             ],
             [
              0.7777777777777778,
              "#fb9f3a"
             ],
             [
              0.8888888888888888,
              "#fdca26"
             ],
             [
              1,
              "#f0f921"
             ]
            ],
            "type": "heatmapgl"
           }
          ],
          "histogram": [
           {
            "marker": {
             "pattern": {
              "fillmode": "overlay",
              "size": 10,
              "solidity": 0.2
             }
            },
            "type": "histogram"
           }
          ],
          "histogram2d": [
           {
            "colorbar": {
             "outlinewidth": 0,
             "ticks": ""
            },
            "colorscale": [
             [
              0,
              "#0d0887"
             ],
             [
              0.1111111111111111,
              "#46039f"
             ],
             [
              0.2222222222222222,
              "#7201a8"
             ],
             [
              0.3333333333333333,
              "#9c179e"
             ],
             [
              0.4444444444444444,
              "#bd3786"
             ],
             [
              0.5555555555555556,
              "#d8576b"
             ],
             [
              0.6666666666666666,
              "#ed7953"
             ],
             [
              0.7777777777777778,
              "#fb9f3a"
             ],
             [
              0.8888888888888888,
              "#fdca26"
             ],
             [
              1,
              "#f0f921"
             ]
            ],
            "type": "histogram2d"
           }
          ],
          "histogram2dcontour": [
           {
            "colorbar": {
             "outlinewidth": 0,
             "ticks": ""
            },
            "colorscale": [
             [
              0,
              "#0d0887"
             ],
             [
              0.1111111111111111,
              "#46039f"
             ],
             [
              0.2222222222222222,
              "#7201a8"
             ],
             [
              0.3333333333333333,
              "#9c179e"
             ],
             [
              0.4444444444444444,
              "#bd3786"
             ],
             [
              0.5555555555555556,
              "#d8576b"
             ],
             [
              0.6666666666666666,
              "#ed7953"
             ],
             [
              0.7777777777777778,
              "#fb9f3a"
             ],
             [
              0.8888888888888888,
              "#fdca26"
             ],
             [
              1,
              "#f0f921"
             ]
            ],
            "type": "histogram2dcontour"
           }
          ],
          "mesh3d": [
           {
            "colorbar": {
             "outlinewidth": 0,
             "ticks": ""
            },
            "type": "mesh3d"
           }
          ],
          "parcoords": [
           {
            "line": {
             "colorbar": {
              "outlinewidth": 0,
              "ticks": ""
             }
            },
            "type": "parcoords"
           }
          ],
          "pie": [
           {
            "automargin": true,
            "type": "pie"
           }
          ],
          "scatter": [
           {
            "fillpattern": {
             "fillmode": "overlay",
             "size": 10,
             "solidity": 0.2
            },
            "type": "scatter"
           }
          ],
          "scatter3d": [
           {
            "line": {
             "colorbar": {
              "outlinewidth": 0,
              "ticks": ""
             }
            },
            "marker": {
             "colorbar": {
              "outlinewidth": 0,
              "ticks": ""
             }
            },
            "type": "scatter3d"
           }
          ],
          "scattercarpet": [
           {
            "marker": {
             "colorbar": {
              "outlinewidth": 0,
              "ticks": ""
             }
            },
            "type": "scattercarpet"
           }
          ],
          "scattergeo": [
           {
            "marker": {
             "colorbar": {
              "outlinewidth": 0,
              "ticks": ""
             }
            },
            "type": "scattergeo"
           }
          ],
          "scattergl": [
           {
            "marker": {
             "colorbar": {
              "outlinewidth": 0,
              "ticks": ""
             }
            },
            "type": "scattergl"
           }
          ],
          "scattermapbox": [
           {
            "marker": {
             "colorbar": {
              "outlinewidth": 0,
              "ticks": ""
             }
            },
            "type": "scattermapbox"
           }
          ],
          "scatterpolar": [
           {
            "marker": {
             "colorbar": {
              "outlinewidth": 0,
              "ticks": ""
             }
            },
            "type": "scatterpolar"
           }
          ],
          "scatterpolargl": [
           {
            "marker": {
             "colorbar": {
              "outlinewidth": 0,
              "ticks": ""
             }
            },
            "type": "scatterpolargl"
           }
          ],
          "scatterternary": [
           {
            "marker": {
             "colorbar": {
              "outlinewidth": 0,
              "ticks": ""
             }
            },
            "type": "scatterternary"
           }
          ],
          "surface": [
           {
            "colorbar": {
             "outlinewidth": 0,
             "ticks": ""
            },
            "colorscale": [
             [
              0,
              "#0d0887"
             ],
             [
              0.1111111111111111,
              "#46039f"
             ],
             [
              0.2222222222222222,
              "#7201a8"
             ],
             [
              0.3333333333333333,
              "#9c179e"
             ],
             [
              0.4444444444444444,
              "#bd3786"
             ],
             [
              0.5555555555555556,
              "#d8576b"
             ],
             [
              0.6666666666666666,
              "#ed7953"
             ],
             [
              0.7777777777777778,
              "#fb9f3a"
             ],
             [
              0.8888888888888888,
              "#fdca26"
             ],
             [
              1,
              "#f0f921"
             ]
            ],
            "type": "surface"
           }
          ],
          "table": [
           {
            "cells": {
             "fill": {
              "color": "#EBF0F8"
             },
             "line": {
              "color": "white"
             }
            },
            "header": {
             "fill": {
              "color": "#C8D4E3"
             },
             "line": {
              "color": "white"
             }
            },
            "type": "table"
           }
          ]
         },
         "layout": {
          "annotationdefaults": {
           "arrowcolor": "#2a3f5f",
           "arrowhead": 0,
           "arrowwidth": 1
          },
          "autotypenumbers": "strict",
          "coloraxis": {
           "colorbar": {
            "outlinewidth": 0,
            "ticks": ""
           }
          },
          "colorscale": {
           "diverging": [
            [
             0,
             "#8e0152"
            ],
            [
             0.1,
             "#c51b7d"
            ],
            [
             0.2,
             "#de77ae"
            ],
            [
             0.3,
             "#f1b6da"
            ],
            [
             0.4,
             "#fde0ef"
            ],
            [
             0.5,
             "#f7f7f7"
            ],
            [
             0.6,
             "#e6f5d0"
            ],
            [
             0.7,
             "#b8e186"
            ],
            [
             0.8,
             "#7fbc41"
            ],
            [
             0.9,
             "#4d9221"
            ],
            [
             1,
             "#276419"
            ]
           ],
           "sequential": [
            [
             0,
             "#0d0887"
            ],
            [
             0.1111111111111111,
             "#46039f"
            ],
            [
             0.2222222222222222,
             "#7201a8"
            ],
            [
             0.3333333333333333,
             "#9c179e"
            ],
            [
             0.4444444444444444,
             "#bd3786"
            ],
            [
             0.5555555555555556,
             "#d8576b"
            ],
            [
             0.6666666666666666,
             "#ed7953"
            ],
            [
             0.7777777777777778,
             "#fb9f3a"
            ],
            [
             0.8888888888888888,
             "#fdca26"
            ],
            [
             1,
             "#f0f921"
            ]
           ],
           "sequentialminus": [
            [
             0,
             "#0d0887"
            ],
            [
             0.1111111111111111,
             "#46039f"
            ],
            [
             0.2222222222222222,
             "#7201a8"
            ],
            [
             0.3333333333333333,
             "#9c179e"
            ],
            [
             0.4444444444444444,
             "#bd3786"
            ],
            [
             0.5555555555555556,
             "#d8576b"
            ],
            [
             0.6666666666666666,
             "#ed7953"
            ],
            [
             0.7777777777777778,
             "#fb9f3a"
            ],
            [
             0.8888888888888888,
             "#fdca26"
            ],
            [
             1,
             "#f0f921"
            ]
           ]
          },
          "colorway": [
           "#636efa",
           "#EF553B",
           "#00cc96",
           "#ab63fa",
           "#FFA15A",
           "#19d3f3",
           "#FF6692",
           "#B6E880",
           "#FF97FF",
           "#FECB52"
          ],
          "font": {
           "color": "#2a3f5f"
          },
          "geo": {
           "bgcolor": "white",
           "lakecolor": "white",
           "landcolor": "#E5ECF6",
           "showlakes": true,
           "showland": true,
           "subunitcolor": "white"
          },
          "hoverlabel": {
           "align": "left"
          },
          "hovermode": "closest",
          "mapbox": {
           "style": "light"
          },
          "paper_bgcolor": "white",
          "plot_bgcolor": "#E5ECF6",
          "polar": {
           "angularaxis": {
            "gridcolor": "white",
            "linecolor": "white",
            "ticks": ""
           },
           "bgcolor": "#E5ECF6",
           "radialaxis": {
            "gridcolor": "white",
            "linecolor": "white",
            "ticks": ""
           }
          },
          "scene": {
           "xaxis": {
            "backgroundcolor": "#E5ECF6",
            "gridcolor": "white",
            "gridwidth": 2,
            "linecolor": "white",
            "showbackground": true,
            "ticks": "",
            "zerolinecolor": "white"
           },
           "yaxis": {
            "backgroundcolor": "#E5ECF6",
            "gridcolor": "white",
            "gridwidth": 2,
            "linecolor": "white",
            "showbackground": true,
            "ticks": "",
            "zerolinecolor": "white"
           },
           "zaxis": {
            "backgroundcolor": "#E5ECF6",
            "gridcolor": "white",
            "gridwidth": 2,
            "linecolor": "white",
            "showbackground": true,
            "ticks": "",
            "zerolinecolor": "white"
           }
          },
          "shapedefaults": {
           "line": {
            "color": "#2a3f5f"
           }
          },
          "ternary": {
           "aaxis": {
            "gridcolor": "white",
            "linecolor": "white",
            "ticks": ""
           },
           "baxis": {
            "gridcolor": "white",
            "linecolor": "white",
            "ticks": ""
           },
           "bgcolor": "#E5ECF6",
           "caxis": {
            "gridcolor": "white",
            "linecolor": "white",
            "ticks": ""
           }
          },
          "title": {
           "x": 0.05
          },
          "xaxis": {
           "automargin": true,
           "gridcolor": "white",
           "linecolor": "white",
           "ticks": "",
           "title": {
            "standoff": 15
           },
           "zerolinecolor": "white",
           "zerolinewidth": 2
          },
          "yaxis": {
           "automargin": true,
           "gridcolor": "white",
           "linecolor": "white",
           "ticks": "",
           "title": {
            "standoff": 15
           },
           "zerolinecolor": "white",
           "zerolinewidth": 2
          }
         }
        },
        "title": {
         "text": "\"AVX-NonFused: Probmpi vs Non-Probempi\" GFlops Measurement"
        },
        "xaxis": {
         "ticks": "outside",
         "title": {
          "text": "Dirc_Data_Mov"
         }
        },
        "yaxis": {
         "ticks": "outside",
         "title": {
          "text": "GFLOPs/Node"
         }
        }
       }
      },
      "text/html": [
       "<div>                            <div id=\"a9e8ad8e-8667-4a6a-9005-26daf84b3d5d\" class=\"plotly-graph-div\" style=\"height:525px; width:100%;\"></div>            <script type=\"text/javascript\">                require([\"plotly\"], function(Plotly) {                    window.PLOTLYENV=window.PLOTLYENV || {};                                    if (document.getElementById(\"a9e8ad8e-8667-4a6a-9005-26daf84b3d5d\")) {                    Plotly.newPlot(                        \"a9e8ad8e-8667-4a6a-9005-26daf84b3d5d\",                        [{\"line\":{\"color\":\"magenta\",\"width\":3},\"marker\":{\"line\":{\"color\":\"yellow\",\"width\":1},\"size\":9,\"symbol\":\"hexagon\"},\"mode\":\"lines+markers\",\"name\":\"AvxNonFusProb_32mpi_4omp\",\"x\":[50331648.0,62914560.0,75497472.0,88080384.0,100663296.0,113246208.0,125829120.0,138412032.0,150994944.0,163577856.0,176160768.0,188743680.0,201326592.0,213909504.0,226492416.0,239075328.0,251658240.0,264241152.0,276824064.0,289406976.0,301989888.0,314572800.0,327155712.0,339738624.0,352321536.0,364904448.0,377487360.0,390070272.0,402653184.0],\"y\":[32.03992,31.68736,32.4428,32.60968,32.45896,32.92784,32.65296,32.80624,30.94384,31.48848,30.17488,29.01296,27.94224,27.40792,26.74344,26.29032,25.59168,25.1356,24.97192,24.44336,24.05712,23.35408,24.09248,24.11872,23.55208,23.67552,23.76904,23.4716,22.39712],\"type\":\"scatter\"},{\"line\":{\"color\":\"darkcyan\",\"width\":3},\"marker\":{\"line\":{\"color\":\"yellow\",\"width\":1},\"size\":9,\"symbol\":\"hexagon\"},\"mode\":\"lines+markers\",\"name\":\"AvxNonFusNonProb_32mpi_4omp\",\"x\":[50331648.0,62914560.0,75497472.0,88080384.0,100663296.0,113246208.0,125829120.0,138412032.0,150994944.0,163577856.0,176160768.0,188743680.0,201326592.0,213909504.0,226492416.0,239075328.0,251658240.0,264241152.0,276824064.0,289406976.0,301989888.0,314572800.0,327155712.0,339738624.0,352321536.0,364904448.0,377487360.0,390070272.0,402653184.0],\"y\":[37.64272,39.45464,44.7776,41.31,45.3896,43.03512,45.49752,42.51624,40.68616,41.04384,39.35176,39.6384,36.54432,35.866,34.64752,33.7668,33.1776,32.84992,32.0028,31.36384,30.92328,30.4772,30.15064,30.0588,30.18064,29.72216,29.33184,28.87104,29.12656],\"type\":\"scatter\"},{\"line\":{\"color\":\"sandybrown\",\"width\":3},\"marker\":{\"line\":{\"color\":\"MediumPurple\",\"width\":2},\"size\":5,\"symbol\":\"diamond\"},\"mode\":\"lines+markers\",\"name\":\"AvxNonFusProb_40mpi_3omp\",\"x\":[62914560.0,94371840.0,125829120.0,157286400.0,188743680.0,220200960.0,251658240.0,283115520.0,314572800.0,346030080.0,377487360.0],\"y\":[31.610999999999997,32.4736,31.7789,26.8615,24.5172,23.04,22.325499999999998,21.6558,20.860400000000002,22.1321,21.5517],\"type\":\"scatter\"},{\"line\":{\"color\":\"royalblue\",\"width\":3},\"marker\":{\"line\":{\"color\":\"MediumPurple\",\"width\":2},\"size\":5,\"symbol\":\"diamond\"},\"mode\":\"lines+markers\",\"name\":\"AvxNonFusNonProb_40mpi_3omp\",\"x\":[62914560.0,94371840.0,125829120.0,157286400.0,188743680.0,220200960.0,251658240.0,283115520.0,314572800.0,346030080.0,377487360.0],\"y\":[38.2844,39.7843,38.7063,34.868,30.426199999999998,28.2649,26.500799999999998,25.395699999999998,25.337200000000003,25.354,24.1952],\"type\":\"scatter\"},{\"line\":{\"color\":\"cyan\",\"width\":3},\"marker\":{\"line\":{\"color\":\"Purple\",\"width\":2},\"size\":7,\"symbol\":\"circle\"},\"mode\":\"lines+markers\",\"name\":\"AvxNonFusProb_56mpi_2omp\",\"x\":[88080384.0,132120576.0,176160768.0,220200960.0,264241152.0,308281344.0,352321536.0,396361728.0],\"y\":[36.272459999999995,35.64764,32.22072,30.05646,28.522759999999998,28.29316,27.70572,26.985419999999998],\"type\":\"scatter\"},{\"line\":{\"color\":\"darkblue\",\"width\":3},\"marker\":{\"line\":{\"color\":\"tomato\",\"width\":2},\"size\":7,\"symbol\":\"circle\"},\"mode\":\"lines+markers\",\"name\":\"AvxNonFusNonProb_56mpi_2omp\",\"x\":[88080384.0,132120576.0,176160768.0,220200960.0,264241152.0,308281344.0,352321536.0,396361728.0],\"y\":[45.69012,45.60248,43.933679999999995,37.88106,36.02424,34.94204,34.67926,33.57858],\"type\":\"scatter\"},{\"line\":{\"color\":\"blue\",\"width\":3},\"marker\":{\"line\":{\"color\":\"black\",\"width\":1},\"size\":7,\"symbol\":\"star\"},\"mode\":\"lines+markers\",\"name\":\"AvxNonFusProb_64mpi_2omp\",\"x\":[100663296.0,125829120.0,150994944.0,176160768.0,201326592.0,226492416.0,251658240.0,276824064.0,301989888.0,327155712.0,352321536.0,377487360.0,402653184.0],\"y\":[42.5168,42.00448,39.40752,38.06,36.01648,34.38384,33.15168,32.50336,32.0496,31.87152,31.25872,31.1528,30.81808],\"type\":\"scatter\"},{\"line\":{\"color\":\"red\",\"width\":3},\"marker\":{\"line\":{\"color\":\"black\",\"width\":1},\"size\":7,\"symbol\":\"star\"},\"mode\":\"lines+markers\",\"name\":\"AvxNonFusNonProb_64mpi_2omp\",\"x\":[100663296.0,125829120.0,150994944.0,176160768.0,201326592.0,226492416.0,251658240.0,276824064.0,301989888.0,327155712.0,352321536.0,377487360.0,402653184.0],\"y\":[57.15776,55.79232,55.09056,53.61008,48.97216,46.05504,45.26256,42.76288,41.78736,40.9416,40.75232,39.67632,39.14528],\"type\":\"scatter\"},{\"line\":{\"color\":\"chartreuse\",\"width\":3},\"marker\":{\"line\":{\"color\":\"mediumvioletred\",\"width\":1},\"size\":7,\"symbol\":\"square-dot\"},\"mode\":\"lines+markers\",\"name\":\"AvxNonFusProb_112mpi_1omp\",\"x\":[176160768.0,220200960.0,308281344.0,352321536.0,396361728.0],\"y\":[35.133,33.61708,32.50268,32.32824,32.06476],\"type\":\"scatter\"},{\"line\":{\"color\":\"black\",\"width\":3},\"marker\":{\"line\":{\"color\":\"mediumvioletred\",\"width\":1},\"size\":7,\"symbol\":\"square-dot\"},\"mode\":\"lines+markers\",\"name\":\"AvxNonFusNonProb_112mpi_1omp\",\"x\":[176160768.0,220200960.0,264241152.0,308281344.0,352321536.0,396361728.0],\"y\":[43.32188,40.52692,40.901559999999996,40.11784,39.341120000000004,39.03508],\"type\":\"scatter\"},{\"line\":{\"color\":\"gold\",\"width\":3},\"marker\":{\"line\":{\"color\":\"black\",\"width\":1},\"size\":6,\"symbol\":\"triangle-up\"},\"mode\":\"lines+markers\",\"name\":\"AvxNonFusProb_128mpi_1omp\",\"x\":[201326592.0,251658240.0,301989888.0,352321536.0,402653184.0],\"y\":[38.84832,36.91808,36.248,35.62112,35.11904],\"type\":\"scatter\"},{\"line\":{\"color\":\"dimgray\",\"width\":3},\"marker\":{\"line\":{\"color\":\"black\",\"width\":1},\"size\":6,\"symbol\":\"triangle-up\"},\"mode\":\"lines+markers\",\"name\":\"AvxNonFusNonProb_128mpi_1omp\",\"x\":[201326592.0,251658240.0,301989888.0,352321536.0,402653184.0],\"y\":[52.36224,46.9536,46.85152,45.89152,45.20448],\"type\":\"scatter\"}],                        {\"template\":{\"data\":{\"histogram2dcontour\":[{\"type\":\"histogram2dcontour\",\"colorbar\":{\"outlinewidth\":0,\"ticks\":\"\"},\"colorscale\":[[0.0,\"#0d0887\"],[0.1111111111111111,\"#46039f\"],[0.2222222222222222,\"#7201a8\"],[0.3333333333333333,\"#9c179e\"],[0.4444444444444444,\"#bd3786\"],[0.5555555555555556,\"#d8576b\"],[0.6666666666666666,\"#ed7953\"],[0.7777777777777778,\"#fb9f3a\"],[0.8888888888888888,\"#fdca26\"],[1.0,\"#f0f921\"]]}],\"choropleth\":[{\"type\":\"choropleth\",\"colorbar\":{\"outlinewidth\":0,\"ticks\":\"\"}}],\"histogram2d\":[{\"type\":\"histogram2d\",\"colorbar\":{\"outlinewidth\":0,\"ticks\":\"\"},\"colorscale\":[[0.0,\"#0d0887\"],[0.1111111111111111,\"#46039f\"],[0.2222222222222222,\"#7201a8\"],[0.3333333333333333,\"#9c179e\"],[0.4444444444444444,\"#bd3786\"],[0.5555555555555556,\"#d8576b\"],[0.6666666666666666,\"#ed7953\"],[0.7777777777777778,\"#fb9f3a\"],[0.8888888888888888,\"#fdca26\"],[1.0,\"#f0f921\"]]}],\"heatmap\":[{\"type\":\"heatmap\",\"colorbar\":{\"outlinewidth\":0,\"ticks\":\"\"},\"colorscale\":[[0.0,\"#0d0887\"],[0.1111111111111111,\"#46039f\"],[0.2222222222222222,\"#7201a8\"],[0.3333333333333333,\"#9c179e\"],[0.4444444444444444,\"#bd3786\"],[0.5555555555555556,\"#d8576b\"],[0.6666666666666666,\"#ed7953\"],[0.7777777777777778,\"#fb9f3a\"],[0.8888888888888888,\"#fdca26\"],[1.0,\"#f0f921\"]]}],\"heatmapgl\":[{\"type\":\"heatmapgl\",\"colorbar\":{\"outlinewidth\":0,\"ticks\":\"\"},\"colorscale\":[[0.0,\"#0d0887\"],[0.1111111111111111,\"#46039f\"],[0.2222222222222222,\"#7201a8\"],[0.3333333333333333,\"#9c179e\"],[0.4444444444444444,\"#bd3786\"],[0.5555555555555556,\"#d8576b\"],[0.6666666666666666,\"#ed7953\"],[0.7777777777777778,\"#fb9f3a\"],[0.8888888888888888,\"#fdca26\"],[1.0,\"#f0f921\"]]}],\"contourcarpet\":[{\"type\":\"contourcarpet\",\"colorbar\":{\"outlinewidth\":0,\"ticks\":\"\"}}],\"contour\":[{\"type\":\"contour\",\"colorbar\":{\"outlinewidth\":0,\"ticks\":\"\"},\"colorscale\":[[0.0,\"#0d0887\"],[0.1111111111111111,\"#46039f\"],[0.2222222222222222,\"#7201a8\"],[0.3333333333333333,\"#9c179e\"],[0.4444444444444444,\"#bd3786\"],[0.5555555555555556,\"#d8576b\"],[0.6666666666666666,\"#ed7953\"],[0.7777777777777778,\"#fb9f3a\"],[0.8888888888888888,\"#fdca26\"],[1.0,\"#f0f921\"]]}],\"surface\":[{\"type\":\"surface\",\"colorbar\":{\"outlinewidth\":0,\"ticks\":\"\"},\"colorscale\":[[0.0,\"#0d0887\"],[0.1111111111111111,\"#46039f\"],[0.2222222222222222,\"#7201a8\"],[0.3333333333333333,\"#9c179e\"],[0.4444444444444444,\"#bd3786\"],[0.5555555555555556,\"#d8576b\"],[0.6666666666666666,\"#ed7953\"],[0.7777777777777778,\"#fb9f3a\"],[0.8888888888888888,\"#fdca26\"],[1.0,\"#f0f921\"]]}],\"mesh3d\":[{\"type\":\"mesh3d\",\"colorbar\":{\"outlinewidth\":0,\"ticks\":\"\"}}],\"scatter\":[{\"fillpattern\":{\"fillmode\":\"overlay\",\"size\":10,\"solidity\":0.2},\"type\":\"scatter\"}],\"parcoords\":[{\"type\":\"parcoords\",\"line\":{\"colorbar\":{\"outlinewidth\":0,\"ticks\":\"\"}}}],\"scatterpolargl\":[{\"type\":\"scatterpolargl\",\"marker\":{\"colorbar\":{\"outlinewidth\":0,\"ticks\":\"\"}}}],\"bar\":[{\"error_x\":{\"color\":\"#2a3f5f\"},\"error_y\":{\"color\":\"#2a3f5f\"},\"marker\":{\"line\":{\"color\":\"#E5ECF6\",\"width\":0.5},\"pattern\":{\"fillmode\":\"overlay\",\"size\":10,\"solidity\":0.2}},\"type\":\"bar\"}],\"scattergeo\":[{\"type\":\"scattergeo\",\"marker\":{\"colorbar\":{\"outlinewidth\":0,\"ticks\":\"\"}}}],\"scatterpolar\":[{\"type\":\"scatterpolar\",\"marker\":{\"colorbar\":{\"outlinewidth\":0,\"ticks\":\"\"}}}],\"histogram\":[{\"marker\":{\"pattern\":{\"fillmode\":\"overlay\",\"size\":10,\"solidity\":0.2}},\"type\":\"histogram\"}],\"scattergl\":[{\"type\":\"scattergl\",\"marker\":{\"colorbar\":{\"outlinewidth\":0,\"ticks\":\"\"}}}],\"scatter3d\":[{\"type\":\"scatter3d\",\"line\":{\"colorbar\":{\"outlinewidth\":0,\"ticks\":\"\"}},\"marker\":{\"colorbar\":{\"outlinewidth\":0,\"ticks\":\"\"}}}],\"scattermapbox\":[{\"type\":\"scattermapbox\",\"marker\":{\"colorbar\":{\"outlinewidth\":0,\"ticks\":\"\"}}}],\"scatterternary\":[{\"type\":\"scatterternary\",\"marker\":{\"colorbar\":{\"outlinewidth\":0,\"ticks\":\"\"}}}],\"scattercarpet\":[{\"type\":\"scattercarpet\",\"marker\":{\"colorbar\":{\"outlinewidth\":0,\"ticks\":\"\"}}}],\"carpet\":[{\"aaxis\":{\"endlinecolor\":\"#2a3f5f\",\"gridcolor\":\"white\",\"linecolor\":\"white\",\"minorgridcolor\":\"white\",\"startlinecolor\":\"#2a3f5f\"},\"baxis\":{\"endlinecolor\":\"#2a3f5f\",\"gridcolor\":\"white\",\"linecolor\":\"white\",\"minorgridcolor\":\"white\",\"startlinecolor\":\"#2a3f5f\"},\"type\":\"carpet\"}],\"table\":[{\"cells\":{\"fill\":{\"color\":\"#EBF0F8\"},\"line\":{\"color\":\"white\"}},\"header\":{\"fill\":{\"color\":\"#C8D4E3\"},\"line\":{\"color\":\"white\"}},\"type\":\"table\"}],\"barpolar\":[{\"marker\":{\"line\":{\"color\":\"#E5ECF6\",\"width\":0.5},\"pattern\":{\"fillmode\":\"overlay\",\"size\":10,\"solidity\":0.2}},\"type\":\"barpolar\"}],\"pie\":[{\"automargin\":true,\"type\":\"pie\"}]},\"layout\":{\"autotypenumbers\":\"strict\",\"colorway\":[\"#636efa\",\"#EF553B\",\"#00cc96\",\"#ab63fa\",\"#FFA15A\",\"#19d3f3\",\"#FF6692\",\"#B6E880\",\"#FF97FF\",\"#FECB52\"],\"font\":{\"color\":\"#2a3f5f\"},\"hovermode\":\"closest\",\"hoverlabel\":{\"align\":\"left\"},\"paper_bgcolor\":\"white\",\"plot_bgcolor\":\"#E5ECF6\",\"polar\":{\"bgcolor\":\"#E5ECF6\",\"angularaxis\":{\"gridcolor\":\"white\",\"linecolor\":\"white\",\"ticks\":\"\"},\"radialaxis\":{\"gridcolor\":\"white\",\"linecolor\":\"white\",\"ticks\":\"\"}},\"ternary\":{\"bgcolor\":\"#E5ECF6\",\"aaxis\":{\"gridcolor\":\"white\",\"linecolor\":\"white\",\"ticks\":\"\"},\"baxis\":{\"gridcolor\":\"white\",\"linecolor\":\"white\",\"ticks\":\"\"},\"caxis\":{\"gridcolor\":\"white\",\"linecolor\":\"white\",\"ticks\":\"\"}},\"coloraxis\":{\"colorbar\":{\"outlinewidth\":0,\"ticks\":\"\"}},\"colorscale\":{\"sequential\":[[0.0,\"#0d0887\"],[0.1111111111111111,\"#46039f\"],[0.2222222222222222,\"#7201a8\"],[0.3333333333333333,\"#9c179e\"],[0.4444444444444444,\"#bd3786\"],[0.5555555555555556,\"#d8576b\"],[0.6666666666666666,\"#ed7953\"],[0.7777777777777778,\"#fb9f3a\"],[0.8888888888888888,\"#fdca26\"],[1.0,\"#f0f921\"]],\"sequentialminus\":[[0.0,\"#0d0887\"],[0.1111111111111111,\"#46039f\"],[0.2222222222222222,\"#7201a8\"],[0.3333333333333333,\"#9c179e\"],[0.4444444444444444,\"#bd3786\"],[0.5555555555555556,\"#d8576b\"],[0.6666666666666666,\"#ed7953\"],[0.7777777777777778,\"#fb9f3a\"],[0.8888888888888888,\"#fdca26\"],[1.0,\"#f0f921\"]],\"diverging\":[[0,\"#8e0152\"],[0.1,\"#c51b7d\"],[0.2,\"#de77ae\"],[0.3,\"#f1b6da\"],[0.4,\"#fde0ef\"],[0.5,\"#f7f7f7\"],[0.6,\"#e6f5d0\"],[0.7,\"#b8e186\"],[0.8,\"#7fbc41\"],[0.9,\"#4d9221\"],[1,\"#276419\"]]},\"xaxis\":{\"gridcolor\":\"white\",\"linecolor\":\"white\",\"ticks\":\"\",\"title\":{\"standoff\":15},\"zerolinecolor\":\"white\",\"automargin\":true,\"zerolinewidth\":2},\"yaxis\":{\"gridcolor\":\"white\",\"linecolor\":\"white\",\"ticks\":\"\",\"title\":{\"standoff\":15},\"zerolinecolor\":\"white\",\"automargin\":true,\"zerolinewidth\":2},\"scene\":{\"xaxis\":{\"backgroundcolor\":\"#E5ECF6\",\"gridcolor\":\"white\",\"linecolor\":\"white\",\"showbackground\":true,\"ticks\":\"\",\"zerolinecolor\":\"white\",\"gridwidth\":2},\"yaxis\":{\"backgroundcolor\":\"#E5ECF6\",\"gridcolor\":\"white\",\"linecolor\":\"white\",\"showbackground\":true,\"ticks\":\"\",\"zerolinecolor\":\"white\",\"gridwidth\":2},\"zaxis\":{\"backgroundcolor\":\"#E5ECF6\",\"gridcolor\":\"white\",\"linecolor\":\"white\",\"showbackground\":true,\"ticks\":\"\",\"zerolinecolor\":\"white\",\"gridwidth\":2}},\"shapedefaults\":{\"line\":{\"color\":\"#2a3f5f\"}},\"annotationdefaults\":{\"arrowcolor\":\"#2a3f5f\",\"arrowhead\":0,\"arrowwidth\":1},\"geo\":{\"bgcolor\":\"white\",\"landcolor\":\"#E5ECF6\",\"subunitcolor\":\"white\",\"showland\":true,\"showlakes\":true,\"lakecolor\":\"white\"},\"title\":{\"x\":0.05},\"mapbox\":{\"style\":\"light\"}}},\"shapes\":[{\"line\":{\"color\":\"green\",\"dash\":\"dash\",\"width\":3},\"type\":\"line\",\"x0\":80000000.0,\"x1\":80000000.0,\"xref\":\"x\",\"y0\":0,\"y1\":1,\"yref\":\"y domain\"}],\"annotations\":[{\"align\":\"left\",\"arrowcolor\":\"#636363\",\"arrowhead\":1,\"arrowsize\":1,\"arrowwidth\":2,\"ax\":-20,\"ay\":-30,\"font\":{\"color\":\"purple\",\"family\":\"Sans Serif\",\"size\":12},\"showarrow\":false,\"text\":\"LLC Size Per Node\",\"x\":\"80e6\",\"y\":130,\"yanchor\":\"bottom\"}],\"xaxis\":{\"title\":{\"text\":\"Dirc_Data_Mov\"},\"ticks\":\"outside\"},\"yaxis\":{\"title\":{\"text\":\"GFLOPs/Node\"},\"ticks\":\"outside\"},\"title\":{\"text\":\"\\\"AVX-NonFused: Probmpi vs Non-Probempi\\\" GFlops Measurement\"},\"legend\":{\"bordercolor\":\"black\",\"borderwidth\":1}},                        {\"responsive\": true}                    ).then(function(){\n",
       "                            \n",
       "var gd = document.getElementById('a9e8ad8e-8667-4a6a-9005-26daf84b3d5d');\n",
       "var x = new MutationObserver(function (mutations, observer) {{\n",
       "        var display = window.getComputedStyle(gd).display;\n",
       "        if (!display || display === 'none') {{\n",
       "            console.log([gd, 'removed!']);\n",
       "            Plotly.purge(gd);\n",
       "            observer.disconnect();\n",
       "        }}\n",
       "}});\n",
       "\n",
       "// Listen for the removal of the full notebook cells\n",
       "var notebookContainer = gd.closest('#notebook-container');\n",
       "if (notebookContainer) {{\n",
       "    x.observe(notebookContainer, {childList: true});\n",
       "}}\n",
       "\n",
       "// Listen for the clearing of the current output cell\n",
       "var outputEl = gd.closest('.output');\n",
       "if (outputEl) {{\n",
       "    x.observe(outputEl, {childList: true});\n",
       "}}\n",
       "\n",
       "                        })                };                });            </script>        </div>"
      ]
     },
     "metadata": {},
     "output_type": "display_data"
    }
   ],
   "source": [
    "fig = go.Figure() \n",
    "\n",
    "# 1----\n",
    "fig.add_trace(go.Scatter(x=(dfn4AvxNonFusProb_32mpi_4omp.Dirc_Data_Mov*(dfn4AvxNonFusProb_32mpi_4omp.MPI_size/4)), \n",
    "                         y=(dfn4AvxNonFusProb_32mpi_4omp.GFLOPS*(dfn4AvxNonFusProb_32mpi_4omp.MPI_size/4)), \n",
    "                         mode='lines+markers', \n",
    "                         name='AvxNonFusProb_32mpi_4omp',\n",
    "                         line=dict(color='magenta',width=3),\n",
    "                         marker=dict(symbol='hexagon',size=9, line=dict(color='yellow',width=1))))\n",
    "\n",
    "fig.add_trace(go.Scatter(x=(dfn4AvxNonFusNonProb_32mpi_4omp.Dirc_Data_Mov*(dfn4AvxNonFusNonProb_32mpi_4omp.MPI_size/4)), \n",
    "                         y=(dfn4AvxNonFusNonProb_32mpi_4omp.GFLOPS*(dfn4AvxNonFusNonProb_32mpi_4omp.MPI_size/4)), \n",
    "                         mode='lines+markers', \n",
    "                         name='AvxNonFusNonProb_32mpi_4omp',\n",
    "                         line=dict(color='darkcyan',width=3),\n",
    "                         marker=dict(symbol='hexagon',size=9, line=dict(color='yellow',width=1))))\n",
    "\n",
    "# 2----\n",
    "fig.add_trace(go.Scatter(x=(dfn4AvxNonFusProb_40mpi_3omp.Dirc_Data_Mov*(dfn4AvxNonFusProb_40mpi_3omp.MPI_size/4)), \n",
    "                         y=(dfn4AvxNonFusProb_40mpi_3omp.GFLOPS*(dfn4AvxNonFusProb_40mpi_3omp.MPI_size/4)), \n",
    "                         mode='lines+markers', \n",
    "                         name='AvxNonFusProb_40mpi_3omp',\n",
    "                         line=dict(color='sandybrown',width=3),\n",
    "                         marker=dict(symbol='diamond',size=5,line=dict(color='MediumPurple',width=2))))\n",
    "\n",
    "fig.add_trace(go.Scatter(x=(dfn4AvxNonFusNonProb_40mpi_3omp.Dirc_Data_Mov*(dfn4AvxNonFusNonProb_40mpi_3omp.MPI_size/4)), \n",
    "                         y=(dfn4AvxNonFusNonProb_40mpi_3omp.GFLOPS*(dfn4AvxNonFusNonProb_40mpi_3omp.MPI_size/4)), \n",
    "                         mode='lines+markers', \n",
    "                         name='AvxNonFusNonProb_40mpi_3omp',\n",
    "                         line=dict(color='royalblue',width=3),\n",
    "                         marker=dict(symbol='diamond',size=5,line=dict(color='MediumPurple',width=2))))\n",
    "\n",
    "\n",
    "# 3----\n",
    "fig.add_trace(go.Scatter(x=(dfn4AvxNonFusProb_56mpi_2omp.Dirc_Data_Mov*(dfn4AvxNonFusProb_56mpi_2omp.MPI_size/4)), \n",
    "                         y=(dfn4AvxNonFusProb_56mpi_2omp.GFLOPS*(dfn4AvxNonFusProb_56mpi_2omp.MPI_size/4)), \n",
    "                         mode='lines+markers', \n",
    "                         name='AvxNonFusProb_56mpi_2omp',\n",
    "                         line=dict(color='cyan',width=3),\n",
    "                         marker=dict(symbol='circle',size=7,line=dict(color='Purple',width=2))))\n",
    "\n",
    "fig.add_trace(go.Scatter(x=(dfn4AvxNonFusNonProb_56mpi_2omp.Dirc_Data_Mov*(dfn4AvxNonFusNonProb_56mpi_2omp.MPI_size/4)), \n",
    "                         y=(dfn4AvxNonFusNonProb_56mpi_2omp.GFLOPS*(dfn4AvxNonFusNonProb_56mpi_2omp.MPI_size/4)), \n",
    "                         mode='lines+markers', \n",
    "                         name='AvxNonFusNonProb_56mpi_2omp',\n",
    "                         line=dict(color='darkblue',width=3),\n",
    "                         marker=dict(symbol='circle',size=7, line=dict(color='tomato',width=2))))\n",
    "\n",
    "\n",
    "\n",
    "# 4----\n",
    "fig.add_trace(go.Scatter(x=(dfn4AvxNonFusProb_64mpi_2omp.Dirc_Data_Mov*(dfn4AvxNonFusProb_64mpi_2omp.MPI_size/4)), \n",
    "                         y=(dfn4AvxNonFusProb_64mpi_2omp.GFLOPS*(dfn4AvxNonFusProb_64mpi_2omp.MPI_size/4)), \n",
    "                         mode='lines+markers', \n",
    "                         name='AvxNonFusProb_64mpi_2omp',\n",
    "                         line=dict(color='blue',width=3),\n",
    "                         marker=dict(symbol='star',size=7, line=dict(color='black',width=1))))\n",
    "\n",
    "fig.add_trace(go.Scatter(x=(dfn4AvxNonFusNonProb_64mpi_2omp.Dirc_Data_Mov*(dfn4AvxNonFusNonProb_64mpi_2omp.MPI_size/4)), \n",
    "                         y=(dfn4AvxNonFusNonProb_64mpi_2omp.GFLOPS*(dfn4AvxNonFusNonProb_64mpi_2omp.MPI_size/4)), \n",
    "                         mode='lines+markers', \n",
    "                         name='AvxNonFusNonProb_64mpi_2omp',\n",
    "                         line=dict(color='red',width=3),\n",
    "                         marker=dict(symbol='star',size=7, line=dict(color='black',width=1))))\n",
    "\n",
    "\n",
    "\n",
    "# 5----\n",
    "fig.add_trace(go.Scatter(x=(dfn4AvxNonFusProb_112mpi_1omp.Dirc_Data_Mov*(dfn4AvxNonFusProb_112mpi_1omp.MPI_size/4)), \n",
    "                         y=(dfn4AvxNonFusProb_112mpi_1omp.GFLOPS*(dfn4AvxNonFusProb_112mpi_1omp.MPI_size/4)), \n",
    "                         mode='lines+markers', \n",
    "                         name='AvxNonFusProb_112mpi_1omp',\n",
    "                          line=dict(color='chartreuse',width=3),\n",
    "                         marker=dict(symbol='square-dot',size=7, line=dict(color='mediumvioletred',width=1))))\n",
    "\n",
    "fig.add_trace(go.Scatter(x=(dfn4AvxNonFusNonProb_112mpi_1omp.Dirc_Data_Mov*(dfn4AvxNonFusNonProb_112mpi_1omp.MPI_size/4)), \n",
    "                         y=(dfn4AvxNonFusNonProb_112mpi_1omp.GFLOPS*(dfn4AvxNonFusNonProb_112mpi_1omp.MPI_size/4)), \n",
    "                         mode='lines+markers', \n",
    "                         name='AvxNonFusNonProb_112mpi_1omp',\n",
    "                         line=dict(color='black',width=3),\n",
    "                         marker=dict(symbol='square-dot',size=7, line=dict(color='mediumvioletred',width=1))))\n",
    "\n",
    "\n",
    "\n",
    "# 6----\n",
    "fig.add_trace(go.Scatter(x=(dfn4AvxNonFusProb_128mpi_1omp.Dirc_Data_Mov*(dfn4AvxNonFusProb_128mpi_1omp.MPI_size/4)), \n",
    "                         y=(dfn4AvxNonFusProb_128mpi_1omp.GFLOPS*(dfn4AvxNonFusProb_128mpi_1omp.MPI_size/4)), \n",
    "                         mode='lines+markers', \n",
    "                         name='AvxNonFusProb_128mpi_1omp',\n",
    "                           line=dict(color='gold',width=3),\n",
    "                         marker=dict(symbol='triangle-up',size=6, line=dict(color='black',width=1))))\n",
    "\n",
    "\n",
    "fig.add_trace(go.Scatter(x=(dfn4AvxNonFusNonProb_128mpi_1omp.Dirc_Data_Mov*(dfn4AvxNonFusNonProb_128mpi_1omp.MPI_size/4)), \n",
    "                         y=(dfn4AvxNonFusNonProb_128mpi_1omp.GFLOPS*(dfn4AvxNonFusNonProb_128mpi_1omp.MPI_size/4)), \n",
    "                         mode='lines+markers', \n",
    "                         name='AvxNonFusNonProb_128mpi_1omp',\n",
    "                         line=dict(color='dimgray',width=3),\n",
    "                         marker=dict(symbol='triangle-up',size=6, line=dict(color='black',width=1))))\n",
    "\n",
    "\n",
    "\n",
    "\n",
    "# Adding a vertical line\n",
    "fig.add_vline(x=80e6, line_width=3, line_dash=\"dash\", line_color=\"green\")\n",
    "# fig.add_hline(y=1024, line_width=3, line_dash=\"dash\", line_color=\"red\")\n",
    "\n",
    "# Add annotation\n",
    "fig.add_annotation(\n",
    "    x='80e6'\n",
    "    , y=130\n",
    "    , text=f'LLC Size Per Node'\n",
    "    , yanchor='bottom'\n",
    "    , showarrow=False\n",
    "    , arrowhead=1\n",
    "    , arrowsize=1\n",
    "    , arrowwidth=2\n",
    "    , arrowcolor=\"#636363\"\n",
    "    , ax=-20\n",
    "    , ay=-30\n",
    "    , font=dict(size=12, color=\"purple\", family=\"Sans Serif\")\n",
    "    , align=\"left\"\n",
    "    ,)\n",
    "\n",
    "fig.update_layout(title='\"AVX-NonFused: Probmpi vs Non-Probempi\" GFlops Measurement',\n",
    "                  xaxis_title='Dirc_Data_Mov', yaxis_title='GFLOPs/Node', \n",
    "                  xaxis=dict(ticks=\"outside\"),  \n",
    "                  yaxis=dict(ticks=\"outside\"),\n",
    "                  legend=go.layout.Legend(bordercolor=\"black\",borderwidth=1))"
   ]
  },
  {
   "cell_type": "code",
   "execution_count": null,
   "id": "c811f3ad",
   "metadata": {},
   "outputs": [],
   "source": []
  },
  {
   "cell_type": "code",
   "execution_count": null,
   "id": "d47cc581",
   "metadata": {},
   "outputs": [],
   "source": []
  },
  {
   "cell_type": "markdown",
   "id": "742d7c12",
   "metadata": {},
   "source": [
    "## 5. AVX_newgeo_probempi"
   ]
  },
  {
   "cell_type": "markdown",
   "id": "a38b23f8",
   "metadata": {},
   "source": [
    "### Add Columns"
   ]
  },
  {
   "cell_type": "code",
   "execution_count": 60,
   "id": "53bb3734",
   "metadata": {},
   "outputs": [],
   "source": [
    "dfn4_avx_newgeo_probempi[\"N_Nodes\"] = 4\n",
    "dfn4_avx_newgeo_probempi['NPX'] = (dfn4_avx_newgeo_probempi.GLB_X//dfn4_avx_newgeo_probempi.LOC_X)\n",
    "dfn4_avx_newgeo_probempi['NPY'] = (dfn4_avx_newgeo_probempi.GLB_Y//dfn4_avx_newgeo_probempi.LOC_Y)\n",
    "dfn4_avx_newgeo_probempi['NPZ'] = (dfn4_avx_newgeo_probempi.GLB_Z//dfn4_avx_newgeo_probempi.LOC_Z)\n",
    "dfn4_avx_newgeo_probempi['NPT'] = (dfn4_avx_newgeo_probempi.GLB_T//dfn4_avx_newgeo_probempi.LOC_T)\n",
    "dfn4_avx_newgeo_probempi[\"Total_proc\"] = dfn4_avx_newgeo_probempi[\"omp_thrd\"]* dfn4_avx_newgeo_probempi.MPI_size\n",
    "# dfn4_avx_newgeo_probempi.columns"
   ]
  },
  {
   "cell_type": "markdown",
   "id": "7500ef9b",
   "metadata": {},
   "source": [
    "### Data Summary"
   ]
  },
  {
   "cell_type": "code",
   "execution_count": 62,
   "id": "c9eb3856",
   "metadata": {},
   "outputs": [
    {
     "data": {
      "text/html": [
       "<div>\n",
       "<style scoped>\n",
       "    .dataframe tbody tr th:only-of-type {\n",
       "        vertical-align: middle;\n",
       "    }\n",
       "\n",
       "    .dataframe tbody tr th {\n",
       "        vertical-align: top;\n",
       "    }\n",
       "\n",
       "    .dataframe thead th {\n",
       "        text-align: right;\n",
       "    }\n",
       "</style>\n",
       "<table border=\"1\" class=\"dataframe\">\n",
       "  <thead>\n",
       "    <tr style=\"text-align: right;\">\n",
       "      <th></th>\n",
       "      <th>MPI_size</th>\n",
       "      <th>omp_thrd</th>\n",
       "      <th>NPT</th>\n",
       "      <th>NPX</th>\n",
       "      <th>NPY</th>\n",
       "      <th>NPZ</th>\n",
       "      <th>Total_proc</th>\n",
       "      <th>size</th>\n",
       "    </tr>\n",
       "  </thead>\n",
       "  <tbody>\n",
       "    <tr>\n",
       "      <th>0</th>\n",
       "      <td>32</td>\n",
       "      <td>4</td>\n",
       "      <td>4</td>\n",
       "      <td>2</td>\n",
       "      <td>2</td>\n",
       "      <td>2</td>\n",
       "      <td>128</td>\n",
       "      <td>29</td>\n",
       "    </tr>\n",
       "    <tr>\n",
       "      <th>1</th>\n",
       "      <td>40</td>\n",
       "      <td>3</td>\n",
       "      <td>5</td>\n",
       "      <td>2</td>\n",
       "      <td>2</td>\n",
       "      <td>2</td>\n",
       "      <td>120</td>\n",
       "      <td>11</td>\n",
       "    </tr>\n",
       "    <tr>\n",
       "      <th>2</th>\n",
       "      <td>56</td>\n",
       "      <td>2</td>\n",
       "      <td>7</td>\n",
       "      <td>2</td>\n",
       "      <td>2</td>\n",
       "      <td>2</td>\n",
       "      <td>112</td>\n",
       "      <td>8</td>\n",
       "    </tr>\n",
       "    <tr>\n",
       "      <th>3</th>\n",
       "      <td>64</td>\n",
       "      <td>2</td>\n",
       "      <td>8</td>\n",
       "      <td>2</td>\n",
       "      <td>2</td>\n",
       "      <td>2</td>\n",
       "      <td>128</td>\n",
       "      <td>13</td>\n",
       "    </tr>\n",
       "    <tr>\n",
       "      <th>4</th>\n",
       "      <td>104</td>\n",
       "      <td>1</td>\n",
       "      <td>13</td>\n",
       "      <td>2</td>\n",
       "      <td>2</td>\n",
       "      <td>2</td>\n",
       "      <td>104</td>\n",
       "      <td>2</td>\n",
       "    </tr>\n",
       "    <tr>\n",
       "      <th>5</th>\n",
       "      <td>112</td>\n",
       "      <td>1</td>\n",
       "      <td>14</td>\n",
       "      <td>2</td>\n",
       "      <td>2</td>\n",
       "      <td>2</td>\n",
       "      <td>112</td>\n",
       "      <td>6</td>\n",
       "    </tr>\n",
       "    <tr>\n",
       "      <th>6</th>\n",
       "      <td>120</td>\n",
       "      <td>1</td>\n",
       "      <td>15</td>\n",
       "      <td>2</td>\n",
       "      <td>2</td>\n",
       "      <td>2</td>\n",
       "      <td>120</td>\n",
       "      <td>3</td>\n",
       "    </tr>\n",
       "    <tr>\n",
       "      <th>7</th>\n",
       "      <td>128</td>\n",
       "      <td>1</td>\n",
       "      <td>16</td>\n",
       "      <td>2</td>\n",
       "      <td>2</td>\n",
       "      <td>2</td>\n",
       "      <td>128</td>\n",
       "      <td>5</td>\n",
       "    </tr>\n",
       "  </tbody>\n",
       "</table>\n",
       "</div>"
      ],
      "text/plain": [
       "   MPI_size  omp_thrd  NPT  NPX  NPY  NPZ  Total_proc  size\n",
       "0        32         4    4    2    2    2         128    29\n",
       "1        40         3    5    2    2    2         120    11\n",
       "2        56         2    7    2    2    2         112     8\n",
       "3        64         2    8    2    2    2         128    13\n",
       "4       104         1   13    2    2    2         104     2\n",
       "5       112         1   14    2    2    2         112     6\n",
       "6       120         1   15    2    2    2         120     3\n",
       "7       128         1   16    2    2    2         128     5"
      ]
     },
     "execution_count": 62,
     "metadata": {},
     "output_type": "execute_result"
    }
   ],
   "source": [
    "dfn4_avx_newgeo_probempi_summary = dfn4_avx_newgeo_probempi.groupby(['MPI_size','omp_thrd','NPT','NPX', 'NPY', 'NPZ',\"Total_proc\"]).size().reset_index(name = 'size')\n",
    "dfn4_avx_newgeo_probempi_summary"
   ]
  },
  {
   "cell_type": "markdown",
   "id": "b38e7bcd",
   "metadata": {},
   "source": [
    "### Case Setup"
   ]
  },
  {
   "cell_type": "code",
   "execution_count": 83,
   "id": "818f6983",
   "metadata": {},
   "outputs": [],
   "source": [
    "dfn4AvxNewgeoProb_32mpi_4omp = dfn4_avx_newgeo_probempi[(dfn4_avx_newgeo_probempi.omp_thrd == 4) & (dfn4_avx_newgeo_probempi.GLB_T/dfn4_avx_newgeo_probempi.LOC_T == 4) & (dfn4_avx_newgeo_probempi.GLB_X/dfn4_avx_newgeo_probempi.LOC_X == 2) & (dfn4_avx_newgeo_probempi.GLB_Y/dfn4_avx_newgeo_probempi.LOC_Y == 2)& (dfn4_avx_newgeo_probempi.GLB_Z/dfn4_avx_newgeo_probempi.LOC_Z == 2)]\n",
    "dfn4AvxNewgeoProb_40mpi_3omp = dfn4_avx_newgeo_probempi[(dfn4_avx_newgeo_probempi.omp_thrd == 3) & (dfn4_avx_newgeo_probempi.GLB_T/dfn4_avx_newgeo_probempi.LOC_T == 5) & (dfn4_avx_newgeo_probempi.GLB_X/dfn4_avx_newgeo_probempi.LOC_X == 2) & (dfn4_avx_newgeo_probempi.GLB_Y/dfn4_avx_newgeo_probempi.LOC_Y == 2)& (dfn4_avx_newgeo_probempi.GLB_Z/dfn4_avx_newgeo_probempi.LOC_Z == 2)]\n",
    "dfn4AvxNewgeoProb_56mpi_2omp = dfn4_avx_newgeo_probempi[(dfn4_avx_newgeo_probempi.omp_thrd == 2) & (dfn4_avx_newgeo_probempi.GLB_T/dfn4_avx_newgeo_probempi.LOC_T == 7) & (dfn4_avx_newgeo_probempi.GLB_X/dfn4_avx_newgeo_probempi.LOC_X == 2) & (dfn4_avx_newgeo_probempi.GLB_Y/dfn4_avx_newgeo_probempi.LOC_Y == 2)& (dfn4_avx_newgeo_probempi.GLB_Z/dfn4_avx_newgeo_probempi.LOC_Z == 2)]\n",
    "dfn4AvxNewgeoProb_64mpi_2omp = dfn4_avx_newgeo_probempi[(dfn4_avx_newgeo_probempi.omp_thrd == 2) & (dfn4_avx_newgeo_probempi.GLB_T/dfn4_avx_newgeo_probempi.LOC_T == 8) & (dfn4_avx_newgeo_probempi.GLB_X/dfn4_avx_newgeo_probempi.LOC_X == 2) & (dfn4_avx_newgeo_probempi.GLB_Y/dfn4_avx_newgeo_probempi.LOC_Y == 2)& (dfn4_avx_newgeo_probempi.GLB_Z/dfn4_avx_newgeo_probempi.LOC_Z == 2)]\n",
    "dfn4AvxNewgeoProb_112mpi_1omp = dfn4_avx_newgeo_probempi[(dfn4_avx_newgeo_probempi.omp_thrd == 1) & (dfn4_avx_newgeo_probempi.GLB_T/dfn4_avx_newgeo_probempi.LOC_T == 14) & (dfn4_avx_newgeo_probempi.GLB_X/dfn4_avx_newgeo_probempi.LOC_X == 2) & (dfn4_avx_newgeo_probempi.GLB_Y/dfn4_avx_newgeo_probempi.LOC_Y == 2)& (dfn4_avx_newgeo_probempi.GLB_Z/dfn4_avx_newgeo_probempi.LOC_Z == 2)]\n",
    "dfn4AvxNewgeoProb_128mpi_1omp = dfn4_avx_newgeo_probempi[(dfn4_avx_newgeo_probempi.omp_thrd == 1) & (dfn4_avx_newgeo_probempi.GLB_T/dfn4_avx_newgeo_probempi.LOC_T == 16) & (dfn4_avx_newgeo_probempi.GLB_X/dfn4_avx_newgeo_probempi.LOC_X == 2) & (dfn4_avx_newgeo_probempi.GLB_Y/dfn4_avx_newgeo_probempi.LOC_Y == 2)& (dfn4_avx_newgeo_probempi.GLB_Z/dfn4_avx_newgeo_probempi.LOC_Z == 2)]\n"
   ]
  },
  {
   "cell_type": "code",
   "execution_count": null,
   "id": "7db48ca3",
   "metadata": {},
   "outputs": [],
   "source": []
  },
  {
   "cell_type": "code",
   "execution_count": null,
   "id": "2eb3708f",
   "metadata": {},
   "outputs": [],
   "source": []
  },
  {
   "cell_type": "markdown",
   "id": "9ee97184",
   "metadata": {},
   "source": [
    "## 6. avx_newgeo_nonprobempi"
   ]
  },
  {
   "cell_type": "markdown",
   "id": "ca6c16ab",
   "metadata": {},
   "source": [
    "### Add Columns"
   ]
  },
  {
   "cell_type": "code",
   "execution_count": 85,
   "id": "692778f1",
   "metadata": {},
   "outputs": [],
   "source": [
    "dfn4_avx_newgeo_nonprobempi[\"N_Nodes\"] = 4\n",
    "dfn4_avx_newgeo_nonprobempi['NPX'] = (dfn4_avx_newgeo_nonprobempi.GLB_X//dfn4_avx_newgeo_nonprobempi.LOC_X)\n",
    "dfn4_avx_newgeo_nonprobempi['NPY'] = (dfn4_avx_newgeo_nonprobempi.GLB_Y//dfn4_avx_newgeo_nonprobempi.LOC_Y)\n",
    "dfn4_avx_newgeo_nonprobempi['NPZ'] = (dfn4_avx_newgeo_nonprobempi.GLB_Z//dfn4_avx_newgeo_nonprobempi.LOC_Z)\n",
    "dfn4_avx_newgeo_nonprobempi['NPT'] = (dfn4_avx_newgeo_nonprobempi.GLB_T//dfn4_avx_newgeo_nonprobempi.LOC_T)\n",
    "dfn4_avx_newgeo_nonprobempi[\"Total_proc\"] = dfn4_avx_newgeo_nonprobempi[\"omp_thrd\"]* dfn4_avx_newgeo_nonprobempi.MPI_size\n",
    "# dfn4_avx_newgeo_nonprobempi.columns"
   ]
  },
  {
   "cell_type": "markdown",
   "id": "0b61890b",
   "metadata": {},
   "source": [
    "### Data Summary"
   ]
  },
  {
   "cell_type": "code",
   "execution_count": 87,
   "id": "246f5225",
   "metadata": {},
   "outputs": [
    {
     "data": {
      "text/html": [
       "<div>\n",
       "<style scoped>\n",
       "    .dataframe tbody tr th:only-of-type {\n",
       "        vertical-align: middle;\n",
       "    }\n",
       "\n",
       "    .dataframe tbody tr th {\n",
       "        vertical-align: top;\n",
       "    }\n",
       "\n",
       "    .dataframe thead th {\n",
       "        text-align: right;\n",
       "    }\n",
       "</style>\n",
       "<table border=\"1\" class=\"dataframe\">\n",
       "  <thead>\n",
       "    <tr style=\"text-align: right;\">\n",
       "      <th></th>\n",
       "      <th>MPI_size</th>\n",
       "      <th>omp_thrd</th>\n",
       "      <th>NPT</th>\n",
       "      <th>NPX</th>\n",
       "      <th>NPY</th>\n",
       "      <th>NPZ</th>\n",
       "      <th>Total_proc</th>\n",
       "      <th>size</th>\n",
       "    </tr>\n",
       "  </thead>\n",
       "  <tbody>\n",
       "    <tr>\n",
       "      <th>0</th>\n",
       "      <td>32</td>\n",
       "      <td>4</td>\n",
       "      <td>4</td>\n",
       "      <td>2</td>\n",
       "      <td>2</td>\n",
       "      <td>2</td>\n",
       "      <td>128</td>\n",
       "      <td>29</td>\n",
       "    </tr>\n",
       "    <tr>\n",
       "      <th>1</th>\n",
       "      <td>40</td>\n",
       "      <td>3</td>\n",
       "      <td>5</td>\n",
       "      <td>2</td>\n",
       "      <td>2</td>\n",
       "      <td>2</td>\n",
       "      <td>120</td>\n",
       "      <td>11</td>\n",
       "    </tr>\n",
       "    <tr>\n",
       "      <th>2</th>\n",
       "      <td>56</td>\n",
       "      <td>2</td>\n",
       "      <td>7</td>\n",
       "      <td>2</td>\n",
       "      <td>2</td>\n",
       "      <td>2</td>\n",
       "      <td>112</td>\n",
       "      <td>8</td>\n",
       "    </tr>\n",
       "    <tr>\n",
       "      <th>3</th>\n",
       "      <td>64</td>\n",
       "      <td>2</td>\n",
       "      <td>8</td>\n",
       "      <td>2</td>\n",
       "      <td>2</td>\n",
       "      <td>2</td>\n",
       "      <td>128</td>\n",
       "      <td>13</td>\n",
       "    </tr>\n",
       "    <tr>\n",
       "      <th>4</th>\n",
       "      <td>104</td>\n",
       "      <td>1</td>\n",
       "      <td>13</td>\n",
       "      <td>2</td>\n",
       "      <td>2</td>\n",
       "      <td>2</td>\n",
       "      <td>104</td>\n",
       "      <td>3</td>\n",
       "    </tr>\n",
       "    <tr>\n",
       "      <th>5</th>\n",
       "      <td>112</td>\n",
       "      <td>1</td>\n",
       "      <td>14</td>\n",
       "      <td>2</td>\n",
       "      <td>2</td>\n",
       "      <td>2</td>\n",
       "      <td>112</td>\n",
       "      <td>6</td>\n",
       "    </tr>\n",
       "    <tr>\n",
       "      <th>6</th>\n",
       "      <td>120</td>\n",
       "      <td>1</td>\n",
       "      <td>15</td>\n",
       "      <td>2</td>\n",
       "      <td>2</td>\n",
       "      <td>2</td>\n",
       "      <td>120</td>\n",
       "      <td>3</td>\n",
       "    </tr>\n",
       "    <tr>\n",
       "      <th>7</th>\n",
       "      <td>128</td>\n",
       "      <td>1</td>\n",
       "      <td>16</td>\n",
       "      <td>2</td>\n",
       "      <td>2</td>\n",
       "      <td>2</td>\n",
       "      <td>128</td>\n",
       "      <td>5</td>\n",
       "    </tr>\n",
       "  </tbody>\n",
       "</table>\n",
       "</div>"
      ],
      "text/plain": [
       "   MPI_size  omp_thrd  NPT  NPX  NPY  NPZ  Total_proc  size\n",
       "0        32         4    4    2    2    2         128    29\n",
       "1        40         3    5    2    2    2         120    11\n",
       "2        56         2    7    2    2    2         112     8\n",
       "3        64         2    8    2    2    2         128    13\n",
       "4       104         1   13    2    2    2         104     3\n",
       "5       112         1   14    2    2    2         112     6\n",
       "6       120         1   15    2    2    2         120     3\n",
       "7       128         1   16    2    2    2         128     5"
      ]
     },
     "execution_count": 87,
     "metadata": {},
     "output_type": "execute_result"
    }
   ],
   "source": [
    "dfn4_avx_newgeo_nonprobempi_summary = dfn4_avx_newgeo_nonprobempi.groupby(['MPI_size','omp_thrd','NPT','NPX', 'NPY', 'NPZ',\"Total_proc\"]).size().reset_index(name = 'size')\n",
    "dfn4_avx_newgeo_nonprobempi_summary"
   ]
  },
  {
   "cell_type": "markdown",
   "id": "5f8ff0f7",
   "metadata": {},
   "source": [
    "### Case Setup"
   ]
  },
  {
   "cell_type": "code",
   "execution_count": 88,
   "id": "6cfc7152",
   "metadata": {},
   "outputs": [],
   "source": [
    "dfn4AvxNewgeoNonProb_32mpi_4omp = dfn4_avx_newgeo_nonprobempi[(dfn4_avx_newgeo_nonprobempi.omp_thrd == 4) & (dfn4_avx_newgeo_nonprobempi.GLB_T/dfn4_avx_newgeo_nonprobempi.LOC_T == 4) & (dfn4_avx_newgeo_nonprobempi.GLB_X/dfn4_avx_newgeo_nonprobempi.LOC_X == 2) & (dfn4_avx_newgeo_nonprobempi.GLB_Y/dfn4_avx_newgeo_nonprobempi.LOC_Y == 2)& (dfn4_avx_newgeo_nonprobempi.GLB_Z/dfn4_avx_newgeo_nonprobempi.LOC_Z == 2)]\n",
    "dfn4AvxNewgeoNonProb_40mpi_3omp = dfn4_avx_newgeo_nonprobempi[(dfn4_avx_newgeo_nonprobempi.omp_thrd == 3) & (dfn4_avx_newgeo_nonprobempi.GLB_T/dfn4_avx_newgeo_nonprobempi.LOC_T == 5) & (dfn4_avx_newgeo_nonprobempi.GLB_X/dfn4_avx_newgeo_nonprobempi.LOC_X == 2) & (dfn4_avx_newgeo_nonprobempi.GLB_Y/dfn4_avx_newgeo_nonprobempi.LOC_Y == 2)& (dfn4_avx_newgeo_nonprobempi.GLB_Z/dfn4_avx_newgeo_nonprobempi.LOC_Z == 2)]\n",
    "dfn4AvxNewgeoNonProb_56mpi_2omp = dfn4_avx_newgeo_nonprobempi[(dfn4_avx_newgeo_nonprobempi.omp_thrd == 2) & (dfn4_avx_newgeo_nonprobempi.GLB_T/dfn4_avx_newgeo_nonprobempi.LOC_T == 7) & (dfn4_avx_newgeo_nonprobempi.GLB_X/dfn4_avx_newgeo_nonprobempi.LOC_X == 2) & (dfn4_avx_newgeo_nonprobempi.GLB_Y/dfn4_avx_newgeo_nonprobempi.LOC_Y == 2)& (dfn4_avx_newgeo_nonprobempi.GLB_Z/dfn4_avx_newgeo_nonprobempi.LOC_Z == 2)]\n",
    "dfn4AvxNewgeoNonProb_64mpi_2omp = dfn4_avx_newgeo_nonprobempi[(dfn4_avx_newgeo_nonprobempi.omp_thrd == 2) & (dfn4_avx_newgeo_nonprobempi.GLB_T/dfn4_avx_newgeo_nonprobempi.LOC_T == 8) & (dfn4_avx_newgeo_nonprobempi.GLB_X/dfn4_avx_newgeo_nonprobempi.LOC_X == 2) & (dfn4_avx_newgeo_nonprobempi.GLB_Y/dfn4_avx_newgeo_nonprobempi.LOC_Y == 2)& (dfn4_avx_newgeo_nonprobempi.GLB_Z/dfn4_avx_newgeo_nonprobempi.LOC_Z == 2)]\n",
    "dfn4AvxNewgeoNonProb_112mpi_1omp = dfn4_avx_newgeo_nonprobempi[(dfn4_avx_newgeo_nonprobempi.omp_thrd == 1) & (dfn4_avx_newgeo_nonprobempi.GLB_T/dfn4_avx_newgeo_nonprobempi.LOC_T == 14) & (dfn4_avx_newgeo_nonprobempi.GLB_X/dfn4_avx_newgeo_nonprobempi.LOC_X == 2) & (dfn4_avx_newgeo_nonprobempi.GLB_Y/dfn4_avx_newgeo_nonprobempi.LOC_Y == 2)& (dfn4_avx_newgeo_nonprobempi.GLB_Z/dfn4_avx_newgeo_nonprobempi.LOC_Z == 2)]\n",
    "dfn4AvxNewgeoNonProb_128mpi_1omp = dfn4_avx_newgeo_nonprobempi[(dfn4_avx_newgeo_nonprobempi.omp_thrd == 1) & (dfn4_avx_newgeo_nonprobempi.GLB_T/dfn4_avx_newgeo_nonprobempi.LOC_T == 16) & (dfn4_avx_newgeo_nonprobempi.GLB_X/dfn4_avx_newgeo_nonprobempi.LOC_X == 2) & (dfn4_avx_newgeo_nonprobempi.GLB_Y/dfn4_avx_newgeo_nonprobempi.LOC_Y == 2)& (dfn4_avx_newgeo_nonprobempi.GLB_Z/dfn4_avx_newgeo_nonprobempi.LOC_Z == 2)]\n"
   ]
  },
  {
   "cell_type": "code",
   "execution_count": null,
   "id": "74fcd91a",
   "metadata": {},
   "outputs": [],
   "source": []
  },
  {
   "cell_type": "code",
   "execution_count": null,
   "id": "4030ceb3",
   "metadata": {},
   "outputs": [],
   "source": []
  },
  {
   "cell_type": "markdown",
   "id": "30123168",
   "metadata": {},
   "source": [
    "## GFLOPS - AVX-Newgeo: Probmpi vs Non-Probempi"
   ]
  },
  {
   "cell_type": "code",
   "execution_count": 66,
   "id": "c633e097",
   "metadata": {},
   "outputs": [
    {
     "data": {
      "application/vnd.plotly.v1+json": {
       "config": {
        "plotlyServerURL": "https://plot.ly"
       },
       "data": [
        {
         "line": {
          "color": "magenta",
          "width": 3
         },
         "marker": {
          "line": {
           "color": "yellow",
           "width": 1
          },
          "size": 9,
          "symbol": "hexagon"
         },
         "mode": "lines+markers",
         "name": "AvxNewgeoProb_32mpi_4omp",
         "type": "scatter",
         "x": [
          100663296,
          125829120,
          201326592,
          176160768,
          150994944,
          226492416,
          251658240,
          276824064,
          301989888,
          352321536,
          402653184,
          377487360,
          327155712,
          427819008,
          452984832,
          478150656,
          503316480,
          528482304,
          553648128,
          578813952,
          603979776,
          629145600,
          679477248,
          654311424,
          704643072,
          729808896,
          780140544,
          805306368,
          754974720
         ],
         "y": [
          56.9872,
          58.74768,
          60.18176,
          59.9168,
          59.55472,
          60.95616,
          60.95088,
          60.16768,
          59.2552,
          57.23072,
          56.5056,
          57.00032,
          58.67728,
          54.67504,
          54.69456,
          53.72624,
          53.36784,
          53.65088,
          52.804,
          52.992,
          51.97392,
          51.82112,
          51.94992,
          51.57088,
          50.86192,
          50.97088,
          51.09456,
          50.74928,
          51.2352
         ]
        },
        {
         "line": {
          "color": "sandybrown",
          "width": 3
         },
         "marker": {
          "line": {
           "color": "MediumPurple",
           "width": 2
          },
          "size": 5,
          "symbol": "diamond"
         },
         "mode": "lines+markers",
         "name": "AvxNewgeoProb_40mpi_3omp",
         "type": "scatter",
         "x": [
          125829120,
          251658240,
          188743680,
          314572800,
          377487360,
          440401920,
          503316480,
          566231040,
          754974720,
          629145600,
          692060160
         ],
         "y": [
          57.214,
          58.4856,
          57.857200000000006,
          57.671,
          57.303,
          54.412200000000006,
          52.89920000000001,
          53.571,
          51.391600000000004,
          51.8892,
          51.517799999999994
         ]
        },
        {
         "line": {
          "color": "cyan",
          "width": 3
         },
         "marker": {
          "line": {
           "color": "Purple",
           "width": 2
          },
          "size": 7,
          "symbol": "circle"
         },
         "mode": "lines+markers",
         "name": "AvxNewgeoProb_56mpi_2omp",
         "type": "scatter",
         "x": [
          176160768,
          264241152,
          352321536,
          440401920,
          528482304,
          616562688,
          704643072,
          792723456
         ],
         "y": [
          56.36624,
          56.599199999999996,
          55.4274,
          52.43364,
          52.284960000000005,
          51.6698,
          50.37956,
          50.44704
         ]
        },
        {
         "line": {
          "color": "blue",
          "width": 3
         },
         "marker": {
          "line": {
           "color": "black",
           "width": 1
          },
          "size": 7,
          "symbol": "star"
         },
         "mode": "lines+markers",
         "name": "AvxNewgeoProb_64mpi_2omp",
         "type": "scatter",
         "x": [
          201326592,
          251658240,
          301989888,
          352321536,
          452984832,
          402653184,
          503316480,
          553648128,
          603979776,
          654311424,
          704643072,
          754974720,
          805306368
         ],
         "y": [
          63.10592,
          63.31264,
          61.70208,
          60.15488,
          58.06656,
          58.61792,
          56.9072,
          56.27808,
          55.76192,
          55.67328,
          54.93952,
          54.9264,
          54.02784
         ]
        },
        {
         "line": {
          "color": "chartreuse",
          "width": 3
         },
         "marker": {
          "line": {
           "color": "mediumvioletred",
           "width": 1
          },
          "size": 7,
          "symbol": "square-dot"
         },
         "mode": "lines+markers",
         "name": "AvxNewgeoProb_112mpi_1omp",
         "type": "scatter",
         "x": [
          176160768,
          220200960,
          264241152,
          308281344,
          352321536,
          396361728
         ],
         "y": [
          27.517084,
          26.642756,
          26.620468,
          25.952247999999997,
          25.776716,
          25.914644
         ]
        },
        {
         "line": {
          "color": "gold",
          "width": 3
         },
         "marker": {
          "line": {
           "color": "black",
           "width": 1
          },
          "size": 6,
          "symbol": "triangle-up"
         },
         "mode": "lines+markers",
         "name": "AvxNewgeoProb_128mpi_1omp",
         "type": "scatter",
         "x": [
          201326592,
          251658240,
          301989888,
          352321536,
          402653184
         ],
         "y": [
          28.826016,
          28.407872,
          26.172896,
          28.232544,
          26.543424
         ]
        }
       ],
       "layout": {
        "annotations": [
         {
          "align": "left",
          "arrowcolor": "#636363",
          "arrowhead": 1,
          "arrowsize": 1,
          "arrowwidth": 2,
          "ax": -20,
          "ay": -30,
          "font": {
           "color": "purple",
           "family": "Sans Serif",
           "size": 12
          },
          "showarrow": false,
          "text": "LLC Size Per Node",
          "x": "80e6",
          "y": 130,
          "yanchor": "bottom"
         }
        ],
        "legend": {
         "bordercolor": "black",
         "borderwidth": 1
        },
        "shapes": [
         {
          "line": {
           "color": "green",
           "dash": "dash",
           "width": 3
          },
          "type": "line",
          "x0": 80000000,
          "x1": 80000000,
          "xref": "x",
          "y0": 0,
          "y1": 1,
          "yref": "y domain"
         }
        ],
        "template": {
         "data": {
          "bar": [
           {
            "error_x": {
             "color": "#2a3f5f"
            },
            "error_y": {
             "color": "#2a3f5f"
            },
            "marker": {
             "line": {
              "color": "#E5ECF6",
              "width": 0.5
             },
             "pattern": {
              "fillmode": "overlay",
              "size": 10,
              "solidity": 0.2
             }
            },
            "type": "bar"
           }
          ],
          "barpolar": [
           {
            "marker": {
             "line": {
              "color": "#E5ECF6",
              "width": 0.5
             },
             "pattern": {
              "fillmode": "overlay",
              "size": 10,
              "solidity": 0.2
             }
            },
            "type": "barpolar"
           }
          ],
          "carpet": [
           {
            "aaxis": {
             "endlinecolor": "#2a3f5f",
             "gridcolor": "white",
             "linecolor": "white",
             "minorgridcolor": "white",
             "startlinecolor": "#2a3f5f"
            },
            "baxis": {
             "endlinecolor": "#2a3f5f",
             "gridcolor": "white",
             "linecolor": "white",
             "minorgridcolor": "white",
             "startlinecolor": "#2a3f5f"
            },
            "type": "carpet"
           }
          ],
          "choropleth": [
           {
            "colorbar": {
             "outlinewidth": 0,
             "ticks": ""
            },
            "type": "choropleth"
           }
          ],
          "contour": [
           {
            "colorbar": {
             "outlinewidth": 0,
             "ticks": ""
            },
            "colorscale": [
             [
              0,
              "#0d0887"
             ],
             [
              0.1111111111111111,
              "#46039f"
             ],
             [
              0.2222222222222222,
              "#7201a8"
             ],
             [
              0.3333333333333333,
              "#9c179e"
             ],
             [
              0.4444444444444444,
              "#bd3786"
             ],
             [
              0.5555555555555556,
              "#d8576b"
             ],
             [
              0.6666666666666666,
              "#ed7953"
             ],
             [
              0.7777777777777778,
              "#fb9f3a"
             ],
             [
              0.8888888888888888,
              "#fdca26"
             ],
             [
              1,
              "#f0f921"
             ]
            ],
            "type": "contour"
           }
          ],
          "contourcarpet": [
           {
            "colorbar": {
             "outlinewidth": 0,
             "ticks": ""
            },
            "type": "contourcarpet"
           }
          ],
          "heatmap": [
           {
            "colorbar": {
             "outlinewidth": 0,
             "ticks": ""
            },
            "colorscale": [
             [
              0,
              "#0d0887"
             ],
             [
              0.1111111111111111,
              "#46039f"
             ],
             [
              0.2222222222222222,
              "#7201a8"
             ],
             [
              0.3333333333333333,
              "#9c179e"
             ],
             [
              0.4444444444444444,
              "#bd3786"
             ],
             [
              0.5555555555555556,
              "#d8576b"
             ],
             [
              0.6666666666666666,
              "#ed7953"
             ],
             [
              0.7777777777777778,
              "#fb9f3a"
             ],
             [
              0.8888888888888888,
              "#fdca26"
             ],
             [
              1,
              "#f0f921"
             ]
            ],
            "type": "heatmap"
           }
          ],
          "heatmapgl": [
           {
            "colorbar": {
             "outlinewidth": 0,
             "ticks": ""
            },
            "colorscale": [
             [
              0,
              "#0d0887"
             ],
             [
              0.1111111111111111,
              "#46039f"
             ],
             [
              0.2222222222222222,
              "#7201a8"
             ],
             [
              0.3333333333333333,
              "#9c179e"
             ],
             [
              0.4444444444444444,
              "#bd3786"
             ],
             [
              0.5555555555555556,
              "#d8576b"
             ],
             [
              0.6666666666666666,
              "#ed7953"
             ],
             [
              0.7777777777777778,
              "#fb9f3a"
             ],
             [
              0.8888888888888888,
              "#fdca26"
             ],
             [
              1,
              "#f0f921"
             ]
            ],
            "type": "heatmapgl"
           }
          ],
          "histogram": [
           {
            "marker": {
             "pattern": {
              "fillmode": "overlay",
              "size": 10,
              "solidity": 0.2
             }
            },
            "type": "histogram"
           }
          ],
          "histogram2d": [
           {
            "colorbar": {
             "outlinewidth": 0,
             "ticks": ""
            },
            "colorscale": [
             [
              0,
              "#0d0887"
             ],
             [
              0.1111111111111111,
              "#46039f"
             ],
             [
              0.2222222222222222,
              "#7201a8"
             ],
             [
              0.3333333333333333,
              "#9c179e"
             ],
             [
              0.4444444444444444,
              "#bd3786"
             ],
             [
              0.5555555555555556,
              "#d8576b"
             ],
             [
              0.6666666666666666,
              "#ed7953"
             ],
             [
              0.7777777777777778,
              "#fb9f3a"
             ],
             [
              0.8888888888888888,
              "#fdca26"
             ],
             [
              1,
              "#f0f921"
             ]
            ],
            "type": "histogram2d"
           }
          ],
          "histogram2dcontour": [
           {
            "colorbar": {
             "outlinewidth": 0,
             "ticks": ""
            },
            "colorscale": [
             [
              0,
              "#0d0887"
             ],
             [
              0.1111111111111111,
              "#46039f"
             ],
             [
              0.2222222222222222,
              "#7201a8"
             ],
             [
              0.3333333333333333,
              "#9c179e"
             ],
             [
              0.4444444444444444,
              "#bd3786"
             ],
             [
              0.5555555555555556,
              "#d8576b"
             ],
             [
              0.6666666666666666,
              "#ed7953"
             ],
             [
              0.7777777777777778,
              "#fb9f3a"
             ],
             [
              0.8888888888888888,
              "#fdca26"
             ],
             [
              1,
              "#f0f921"
             ]
            ],
            "type": "histogram2dcontour"
           }
          ],
          "mesh3d": [
           {
            "colorbar": {
             "outlinewidth": 0,
             "ticks": ""
            },
            "type": "mesh3d"
           }
          ],
          "parcoords": [
           {
            "line": {
             "colorbar": {
              "outlinewidth": 0,
              "ticks": ""
             }
            },
            "type": "parcoords"
           }
          ],
          "pie": [
           {
            "automargin": true,
            "type": "pie"
           }
          ],
          "scatter": [
           {
            "fillpattern": {
             "fillmode": "overlay",
             "size": 10,
             "solidity": 0.2
            },
            "type": "scatter"
           }
          ],
          "scatter3d": [
           {
            "line": {
             "colorbar": {
              "outlinewidth": 0,
              "ticks": ""
             }
            },
            "marker": {
             "colorbar": {
              "outlinewidth": 0,
              "ticks": ""
             }
            },
            "type": "scatter3d"
           }
          ],
          "scattercarpet": [
           {
            "marker": {
             "colorbar": {
              "outlinewidth": 0,
              "ticks": ""
             }
            },
            "type": "scattercarpet"
           }
          ],
          "scattergeo": [
           {
            "marker": {
             "colorbar": {
              "outlinewidth": 0,
              "ticks": ""
             }
            },
            "type": "scattergeo"
           }
          ],
          "scattergl": [
           {
            "marker": {
             "colorbar": {
              "outlinewidth": 0,
              "ticks": ""
             }
            },
            "type": "scattergl"
           }
          ],
          "scattermapbox": [
           {
            "marker": {
             "colorbar": {
              "outlinewidth": 0,
              "ticks": ""
             }
            },
            "type": "scattermapbox"
           }
          ],
          "scatterpolar": [
           {
            "marker": {
             "colorbar": {
              "outlinewidth": 0,
              "ticks": ""
             }
            },
            "type": "scatterpolar"
           }
          ],
          "scatterpolargl": [
           {
            "marker": {
             "colorbar": {
              "outlinewidth": 0,
              "ticks": ""
             }
            },
            "type": "scatterpolargl"
           }
          ],
          "scatterternary": [
           {
            "marker": {
             "colorbar": {
              "outlinewidth": 0,
              "ticks": ""
             }
            },
            "type": "scatterternary"
           }
          ],
          "surface": [
           {
            "colorbar": {
             "outlinewidth": 0,
             "ticks": ""
            },
            "colorscale": [
             [
              0,
              "#0d0887"
             ],
             [
              0.1111111111111111,
              "#46039f"
             ],
             [
              0.2222222222222222,
              "#7201a8"
             ],
             [
              0.3333333333333333,
              "#9c179e"
             ],
             [
              0.4444444444444444,
              "#bd3786"
             ],
             [
              0.5555555555555556,
              "#d8576b"
             ],
             [
              0.6666666666666666,
              "#ed7953"
             ],
             [
              0.7777777777777778,
              "#fb9f3a"
             ],
             [
              0.8888888888888888,
              "#fdca26"
             ],
             [
              1,
              "#f0f921"
             ]
            ],
            "type": "surface"
           }
          ],
          "table": [
           {
            "cells": {
             "fill": {
              "color": "#EBF0F8"
             },
             "line": {
              "color": "white"
             }
            },
            "header": {
             "fill": {
              "color": "#C8D4E3"
             },
             "line": {
              "color": "white"
             }
            },
            "type": "table"
           }
          ]
         },
         "layout": {
          "annotationdefaults": {
           "arrowcolor": "#2a3f5f",
           "arrowhead": 0,
           "arrowwidth": 1
          },
          "autotypenumbers": "strict",
          "coloraxis": {
           "colorbar": {
            "outlinewidth": 0,
            "ticks": ""
           }
          },
          "colorscale": {
           "diverging": [
            [
             0,
             "#8e0152"
            ],
            [
             0.1,
             "#c51b7d"
            ],
            [
             0.2,
             "#de77ae"
            ],
            [
             0.3,
             "#f1b6da"
            ],
            [
             0.4,
             "#fde0ef"
            ],
            [
             0.5,
             "#f7f7f7"
            ],
            [
             0.6,
             "#e6f5d0"
            ],
            [
             0.7,
             "#b8e186"
            ],
            [
             0.8,
             "#7fbc41"
            ],
            [
             0.9,
             "#4d9221"
            ],
            [
             1,
             "#276419"
            ]
           ],
           "sequential": [
            [
             0,
             "#0d0887"
            ],
            [
             0.1111111111111111,
             "#46039f"
            ],
            [
             0.2222222222222222,
             "#7201a8"
            ],
            [
             0.3333333333333333,
             "#9c179e"
            ],
            [
             0.4444444444444444,
             "#bd3786"
            ],
            [
             0.5555555555555556,
             "#d8576b"
            ],
            [
             0.6666666666666666,
             "#ed7953"
            ],
            [
             0.7777777777777778,
             "#fb9f3a"
            ],
            [
             0.8888888888888888,
             "#fdca26"
            ],
            [
             1,
             "#f0f921"
            ]
           ],
           "sequentialminus": [
            [
             0,
             "#0d0887"
            ],
            [
             0.1111111111111111,
             "#46039f"
            ],
            [
             0.2222222222222222,
             "#7201a8"
            ],
            [
             0.3333333333333333,
             "#9c179e"
            ],
            [
             0.4444444444444444,
             "#bd3786"
            ],
            [
             0.5555555555555556,
             "#d8576b"
            ],
            [
             0.6666666666666666,
             "#ed7953"
            ],
            [
             0.7777777777777778,
             "#fb9f3a"
            ],
            [
             0.8888888888888888,
             "#fdca26"
            ],
            [
             1,
             "#f0f921"
            ]
           ]
          },
          "colorway": [
           "#636efa",
           "#EF553B",
           "#00cc96",
           "#ab63fa",
           "#FFA15A",
           "#19d3f3",
           "#FF6692",
           "#B6E880",
           "#FF97FF",
           "#FECB52"
          ],
          "font": {
           "color": "#2a3f5f"
          },
          "geo": {
           "bgcolor": "white",
           "lakecolor": "white",
           "landcolor": "#E5ECF6",
           "showlakes": true,
           "showland": true,
           "subunitcolor": "white"
          },
          "hoverlabel": {
           "align": "left"
          },
          "hovermode": "closest",
          "mapbox": {
           "style": "light"
          },
          "paper_bgcolor": "white",
          "plot_bgcolor": "#E5ECF6",
          "polar": {
           "angularaxis": {
            "gridcolor": "white",
            "linecolor": "white",
            "ticks": ""
           },
           "bgcolor": "#E5ECF6",
           "radialaxis": {
            "gridcolor": "white",
            "linecolor": "white",
            "ticks": ""
           }
          },
          "scene": {
           "xaxis": {
            "backgroundcolor": "#E5ECF6",
            "gridcolor": "white",
            "gridwidth": 2,
            "linecolor": "white",
            "showbackground": true,
            "ticks": "",
            "zerolinecolor": "white"
           },
           "yaxis": {
            "backgroundcolor": "#E5ECF6",
            "gridcolor": "white",
            "gridwidth": 2,
            "linecolor": "white",
            "showbackground": true,
            "ticks": "",
            "zerolinecolor": "white"
           },
           "zaxis": {
            "backgroundcolor": "#E5ECF6",
            "gridcolor": "white",
            "gridwidth": 2,
            "linecolor": "white",
            "showbackground": true,
            "ticks": "",
            "zerolinecolor": "white"
           }
          },
          "shapedefaults": {
           "line": {
            "color": "#2a3f5f"
           }
          },
          "ternary": {
           "aaxis": {
            "gridcolor": "white",
            "linecolor": "white",
            "ticks": ""
           },
           "baxis": {
            "gridcolor": "white",
            "linecolor": "white",
            "ticks": ""
           },
           "bgcolor": "#E5ECF6",
           "caxis": {
            "gridcolor": "white",
            "linecolor": "white",
            "ticks": ""
           }
          },
          "title": {
           "x": 0.05
          },
          "xaxis": {
           "automargin": true,
           "gridcolor": "white",
           "linecolor": "white",
           "ticks": "",
           "title": {
            "standoff": 15
           },
           "zerolinecolor": "white",
           "zerolinewidth": 2
          },
          "yaxis": {
           "automargin": true,
           "gridcolor": "white",
           "linecolor": "white",
           "ticks": "",
           "title": {
            "standoff": 15
           },
           "zerolinecolor": "white",
           "zerolinewidth": 2
          }
         }
        },
        "title": {
         "text": "\"AVX-Newgeo: Probmpi vs Non-Probempi\" GFlops Measurement"
        },
        "xaxis": {
         "ticks": "outside",
         "title": {
          "text": "Dirc_Data_Mov"
         }
        },
        "yaxis": {
         "ticks": "outside",
         "title": {
          "text": "GFLOPs/Node"
         }
        }
       }
      },
      "text/html": [
       "<div>                            <div id=\"78cfc410-e102-4df6-8c18-c595956a6a25\" class=\"plotly-graph-div\" style=\"height:525px; width:100%;\"></div>            <script type=\"text/javascript\">                require([\"plotly\"], function(Plotly) {                    window.PLOTLYENV=window.PLOTLYENV || {};                                    if (document.getElementById(\"78cfc410-e102-4df6-8c18-c595956a6a25\")) {                    Plotly.newPlot(                        \"78cfc410-e102-4df6-8c18-c595956a6a25\",                        [{\"line\":{\"color\":\"magenta\",\"width\":3},\"marker\":{\"line\":{\"color\":\"yellow\",\"width\":1},\"size\":9,\"symbol\":\"hexagon\"},\"mode\":\"lines+markers\",\"name\":\"AvxNewgeoProb_32mpi_4omp\",\"x\":[100663296.0,125829120.0,201326592.0,176160768.0,150994944.0,226492416.0,251658240.0,276824064.0,301989888.0,352321536.0,402653184.0,377487360.0,327155712.0,427819008.0,452984832.0,478150656.0,503316480.0,528482304.0,553648128.0,578813952.0,603979776.0,629145600.0,679477248.0,654311424.0,704643072.0,729808896.0,780140544.0,805306368.0,754974720.0],\"y\":[56.9872,58.74768,60.18176,59.9168,59.55472,60.95616,60.95088,60.16768,59.2552,57.23072,56.5056,57.00032,58.67728,54.67504,54.69456,53.72624,53.36784,53.65088,52.804,52.992,51.97392,51.82112,51.94992,51.57088,50.86192,50.97088,51.09456,50.74928,51.2352],\"type\":\"scatter\"},{\"line\":{\"color\":\"sandybrown\",\"width\":3},\"marker\":{\"line\":{\"color\":\"MediumPurple\",\"width\":2},\"size\":5,\"symbol\":\"diamond\"},\"mode\":\"lines+markers\",\"name\":\"AvxNewgeoProb_40mpi_3omp\",\"x\":[125829120.0,251658240.0,188743680.0,314572800.0,377487360.0,440401920.0,503316480.0,566231040.0,754974720.0,629145600.0,692060160.0],\"y\":[57.214,58.4856,57.857200000000006,57.671,57.303,54.412200000000006,52.89920000000001,53.571,51.391600000000004,51.8892,51.517799999999994],\"type\":\"scatter\"},{\"line\":{\"color\":\"cyan\",\"width\":3},\"marker\":{\"line\":{\"color\":\"Purple\",\"width\":2},\"size\":7,\"symbol\":\"circle\"},\"mode\":\"lines+markers\",\"name\":\"AvxNewgeoProb_56mpi_2omp\",\"x\":[176160768.0,264241152.0,352321536.0,440401920.0,528482304.0,616562688.0,704643072.0,792723456.0],\"y\":[56.36624,56.599199999999996,55.4274,52.43364,52.284960000000005,51.6698,50.37956,50.44704],\"type\":\"scatter\"},{\"line\":{\"color\":\"blue\",\"width\":3},\"marker\":{\"line\":{\"color\":\"black\",\"width\":1},\"size\":7,\"symbol\":\"star\"},\"mode\":\"lines+markers\",\"name\":\"AvxNewgeoProb_64mpi_2omp\",\"x\":[201326592.0,251658240.0,301989888.0,352321536.0,452984832.0,402653184.0,503316480.0,553648128.0,603979776.0,654311424.0,704643072.0,754974720.0,805306368.0],\"y\":[63.10592,63.31264,61.70208,60.15488,58.06656,58.61792,56.9072,56.27808,55.76192,55.67328,54.93952,54.9264,54.02784],\"type\":\"scatter\"},{\"line\":{\"color\":\"chartreuse\",\"width\":3},\"marker\":{\"line\":{\"color\":\"mediumvioletred\",\"width\":1},\"size\":7,\"symbol\":\"square-dot\"},\"mode\":\"lines+markers\",\"name\":\"AvxNewgeoProb_112mpi_1omp\",\"x\":[176160768.0,220200960.0,264241152.0,308281344.0,352321536.0,396361728.0],\"y\":[27.517084,26.642756,26.620468,25.952247999999997,25.776716,25.914644],\"type\":\"scatter\"},{\"line\":{\"color\":\"gold\",\"width\":3},\"marker\":{\"line\":{\"color\":\"black\",\"width\":1},\"size\":6,\"symbol\":\"triangle-up\"},\"mode\":\"lines+markers\",\"name\":\"AvxNewgeoProb_128mpi_1omp\",\"x\":[201326592.0,251658240.0,301989888.0,352321536.0,402653184.0],\"y\":[28.826016,28.407872,26.172896,28.232544,26.543424],\"type\":\"scatter\"}],                        {\"template\":{\"data\":{\"histogram2dcontour\":[{\"type\":\"histogram2dcontour\",\"colorbar\":{\"outlinewidth\":0,\"ticks\":\"\"},\"colorscale\":[[0.0,\"#0d0887\"],[0.1111111111111111,\"#46039f\"],[0.2222222222222222,\"#7201a8\"],[0.3333333333333333,\"#9c179e\"],[0.4444444444444444,\"#bd3786\"],[0.5555555555555556,\"#d8576b\"],[0.6666666666666666,\"#ed7953\"],[0.7777777777777778,\"#fb9f3a\"],[0.8888888888888888,\"#fdca26\"],[1.0,\"#f0f921\"]]}],\"choropleth\":[{\"type\":\"choropleth\",\"colorbar\":{\"outlinewidth\":0,\"ticks\":\"\"}}],\"histogram2d\":[{\"type\":\"histogram2d\",\"colorbar\":{\"outlinewidth\":0,\"ticks\":\"\"},\"colorscale\":[[0.0,\"#0d0887\"],[0.1111111111111111,\"#46039f\"],[0.2222222222222222,\"#7201a8\"],[0.3333333333333333,\"#9c179e\"],[0.4444444444444444,\"#bd3786\"],[0.5555555555555556,\"#d8576b\"],[0.6666666666666666,\"#ed7953\"],[0.7777777777777778,\"#fb9f3a\"],[0.8888888888888888,\"#fdca26\"],[1.0,\"#f0f921\"]]}],\"heatmap\":[{\"type\":\"heatmap\",\"colorbar\":{\"outlinewidth\":0,\"ticks\":\"\"},\"colorscale\":[[0.0,\"#0d0887\"],[0.1111111111111111,\"#46039f\"],[0.2222222222222222,\"#7201a8\"],[0.3333333333333333,\"#9c179e\"],[0.4444444444444444,\"#bd3786\"],[0.5555555555555556,\"#d8576b\"],[0.6666666666666666,\"#ed7953\"],[0.7777777777777778,\"#fb9f3a\"],[0.8888888888888888,\"#fdca26\"],[1.0,\"#f0f921\"]]}],\"heatmapgl\":[{\"type\":\"heatmapgl\",\"colorbar\":{\"outlinewidth\":0,\"ticks\":\"\"},\"colorscale\":[[0.0,\"#0d0887\"],[0.1111111111111111,\"#46039f\"],[0.2222222222222222,\"#7201a8\"],[0.3333333333333333,\"#9c179e\"],[0.4444444444444444,\"#bd3786\"],[0.5555555555555556,\"#d8576b\"],[0.6666666666666666,\"#ed7953\"],[0.7777777777777778,\"#fb9f3a\"],[0.8888888888888888,\"#fdca26\"],[1.0,\"#f0f921\"]]}],\"contourcarpet\":[{\"type\":\"contourcarpet\",\"colorbar\":{\"outlinewidth\":0,\"ticks\":\"\"}}],\"contour\":[{\"type\":\"contour\",\"colorbar\":{\"outlinewidth\":0,\"ticks\":\"\"},\"colorscale\":[[0.0,\"#0d0887\"],[0.1111111111111111,\"#46039f\"],[0.2222222222222222,\"#7201a8\"],[0.3333333333333333,\"#9c179e\"],[0.4444444444444444,\"#bd3786\"],[0.5555555555555556,\"#d8576b\"],[0.6666666666666666,\"#ed7953\"],[0.7777777777777778,\"#fb9f3a\"],[0.8888888888888888,\"#fdca26\"],[1.0,\"#f0f921\"]]}],\"surface\":[{\"type\":\"surface\",\"colorbar\":{\"outlinewidth\":0,\"ticks\":\"\"},\"colorscale\":[[0.0,\"#0d0887\"],[0.1111111111111111,\"#46039f\"],[0.2222222222222222,\"#7201a8\"],[0.3333333333333333,\"#9c179e\"],[0.4444444444444444,\"#bd3786\"],[0.5555555555555556,\"#d8576b\"],[0.6666666666666666,\"#ed7953\"],[0.7777777777777778,\"#fb9f3a\"],[0.8888888888888888,\"#fdca26\"],[1.0,\"#f0f921\"]]}],\"mesh3d\":[{\"type\":\"mesh3d\",\"colorbar\":{\"outlinewidth\":0,\"ticks\":\"\"}}],\"scatter\":[{\"fillpattern\":{\"fillmode\":\"overlay\",\"size\":10,\"solidity\":0.2},\"type\":\"scatter\"}],\"parcoords\":[{\"type\":\"parcoords\",\"line\":{\"colorbar\":{\"outlinewidth\":0,\"ticks\":\"\"}}}],\"scatterpolargl\":[{\"type\":\"scatterpolargl\",\"marker\":{\"colorbar\":{\"outlinewidth\":0,\"ticks\":\"\"}}}],\"bar\":[{\"error_x\":{\"color\":\"#2a3f5f\"},\"error_y\":{\"color\":\"#2a3f5f\"},\"marker\":{\"line\":{\"color\":\"#E5ECF6\",\"width\":0.5},\"pattern\":{\"fillmode\":\"overlay\",\"size\":10,\"solidity\":0.2}},\"type\":\"bar\"}],\"scattergeo\":[{\"type\":\"scattergeo\",\"marker\":{\"colorbar\":{\"outlinewidth\":0,\"ticks\":\"\"}}}],\"scatterpolar\":[{\"type\":\"scatterpolar\",\"marker\":{\"colorbar\":{\"outlinewidth\":0,\"ticks\":\"\"}}}],\"histogram\":[{\"marker\":{\"pattern\":{\"fillmode\":\"overlay\",\"size\":10,\"solidity\":0.2}},\"type\":\"histogram\"}],\"scattergl\":[{\"type\":\"scattergl\",\"marker\":{\"colorbar\":{\"outlinewidth\":0,\"ticks\":\"\"}}}],\"scatter3d\":[{\"type\":\"scatter3d\",\"line\":{\"colorbar\":{\"outlinewidth\":0,\"ticks\":\"\"}},\"marker\":{\"colorbar\":{\"outlinewidth\":0,\"ticks\":\"\"}}}],\"scattermapbox\":[{\"type\":\"scattermapbox\",\"marker\":{\"colorbar\":{\"outlinewidth\":0,\"ticks\":\"\"}}}],\"scatterternary\":[{\"type\":\"scatterternary\",\"marker\":{\"colorbar\":{\"outlinewidth\":0,\"ticks\":\"\"}}}],\"scattercarpet\":[{\"type\":\"scattercarpet\",\"marker\":{\"colorbar\":{\"outlinewidth\":0,\"ticks\":\"\"}}}],\"carpet\":[{\"aaxis\":{\"endlinecolor\":\"#2a3f5f\",\"gridcolor\":\"white\",\"linecolor\":\"white\",\"minorgridcolor\":\"white\",\"startlinecolor\":\"#2a3f5f\"},\"baxis\":{\"endlinecolor\":\"#2a3f5f\",\"gridcolor\":\"white\",\"linecolor\":\"white\",\"minorgridcolor\":\"white\",\"startlinecolor\":\"#2a3f5f\"},\"type\":\"carpet\"}],\"table\":[{\"cells\":{\"fill\":{\"color\":\"#EBF0F8\"},\"line\":{\"color\":\"white\"}},\"header\":{\"fill\":{\"color\":\"#C8D4E3\"},\"line\":{\"color\":\"white\"}},\"type\":\"table\"}],\"barpolar\":[{\"marker\":{\"line\":{\"color\":\"#E5ECF6\",\"width\":0.5},\"pattern\":{\"fillmode\":\"overlay\",\"size\":10,\"solidity\":0.2}},\"type\":\"barpolar\"}],\"pie\":[{\"automargin\":true,\"type\":\"pie\"}]},\"layout\":{\"autotypenumbers\":\"strict\",\"colorway\":[\"#636efa\",\"#EF553B\",\"#00cc96\",\"#ab63fa\",\"#FFA15A\",\"#19d3f3\",\"#FF6692\",\"#B6E880\",\"#FF97FF\",\"#FECB52\"],\"font\":{\"color\":\"#2a3f5f\"},\"hovermode\":\"closest\",\"hoverlabel\":{\"align\":\"left\"},\"paper_bgcolor\":\"white\",\"plot_bgcolor\":\"#E5ECF6\",\"polar\":{\"bgcolor\":\"#E5ECF6\",\"angularaxis\":{\"gridcolor\":\"white\",\"linecolor\":\"white\",\"ticks\":\"\"},\"radialaxis\":{\"gridcolor\":\"white\",\"linecolor\":\"white\",\"ticks\":\"\"}},\"ternary\":{\"bgcolor\":\"#E5ECF6\",\"aaxis\":{\"gridcolor\":\"white\",\"linecolor\":\"white\",\"ticks\":\"\"},\"baxis\":{\"gridcolor\":\"white\",\"linecolor\":\"white\",\"ticks\":\"\"},\"caxis\":{\"gridcolor\":\"white\",\"linecolor\":\"white\",\"ticks\":\"\"}},\"coloraxis\":{\"colorbar\":{\"outlinewidth\":0,\"ticks\":\"\"}},\"colorscale\":{\"sequential\":[[0.0,\"#0d0887\"],[0.1111111111111111,\"#46039f\"],[0.2222222222222222,\"#7201a8\"],[0.3333333333333333,\"#9c179e\"],[0.4444444444444444,\"#bd3786\"],[0.5555555555555556,\"#d8576b\"],[0.6666666666666666,\"#ed7953\"],[0.7777777777777778,\"#fb9f3a\"],[0.8888888888888888,\"#fdca26\"],[1.0,\"#f0f921\"]],\"sequentialminus\":[[0.0,\"#0d0887\"],[0.1111111111111111,\"#46039f\"],[0.2222222222222222,\"#7201a8\"],[0.3333333333333333,\"#9c179e\"],[0.4444444444444444,\"#bd3786\"],[0.5555555555555556,\"#d8576b\"],[0.6666666666666666,\"#ed7953\"],[0.7777777777777778,\"#fb9f3a\"],[0.8888888888888888,\"#fdca26\"],[1.0,\"#f0f921\"]],\"diverging\":[[0,\"#8e0152\"],[0.1,\"#c51b7d\"],[0.2,\"#de77ae\"],[0.3,\"#f1b6da\"],[0.4,\"#fde0ef\"],[0.5,\"#f7f7f7\"],[0.6,\"#e6f5d0\"],[0.7,\"#b8e186\"],[0.8,\"#7fbc41\"],[0.9,\"#4d9221\"],[1,\"#276419\"]]},\"xaxis\":{\"gridcolor\":\"white\",\"linecolor\":\"white\",\"ticks\":\"\",\"title\":{\"standoff\":15},\"zerolinecolor\":\"white\",\"automargin\":true,\"zerolinewidth\":2},\"yaxis\":{\"gridcolor\":\"white\",\"linecolor\":\"white\",\"ticks\":\"\",\"title\":{\"standoff\":15},\"zerolinecolor\":\"white\",\"automargin\":true,\"zerolinewidth\":2},\"scene\":{\"xaxis\":{\"backgroundcolor\":\"#E5ECF6\",\"gridcolor\":\"white\",\"linecolor\":\"white\",\"showbackground\":true,\"ticks\":\"\",\"zerolinecolor\":\"white\",\"gridwidth\":2},\"yaxis\":{\"backgroundcolor\":\"#E5ECF6\",\"gridcolor\":\"white\",\"linecolor\":\"white\",\"showbackground\":true,\"ticks\":\"\",\"zerolinecolor\":\"white\",\"gridwidth\":2},\"zaxis\":{\"backgroundcolor\":\"#E5ECF6\",\"gridcolor\":\"white\",\"linecolor\":\"white\",\"showbackground\":true,\"ticks\":\"\",\"zerolinecolor\":\"white\",\"gridwidth\":2}},\"shapedefaults\":{\"line\":{\"color\":\"#2a3f5f\"}},\"annotationdefaults\":{\"arrowcolor\":\"#2a3f5f\",\"arrowhead\":0,\"arrowwidth\":1},\"geo\":{\"bgcolor\":\"white\",\"landcolor\":\"#E5ECF6\",\"subunitcolor\":\"white\",\"showland\":true,\"showlakes\":true,\"lakecolor\":\"white\"},\"title\":{\"x\":0.05},\"mapbox\":{\"style\":\"light\"}}},\"shapes\":[{\"line\":{\"color\":\"green\",\"dash\":\"dash\",\"width\":3},\"type\":\"line\",\"x0\":80000000.0,\"x1\":80000000.0,\"xref\":\"x\",\"y0\":0,\"y1\":1,\"yref\":\"y domain\"}],\"annotations\":[{\"align\":\"left\",\"arrowcolor\":\"#636363\",\"arrowhead\":1,\"arrowsize\":1,\"arrowwidth\":2,\"ax\":-20,\"ay\":-30,\"font\":{\"color\":\"purple\",\"family\":\"Sans Serif\",\"size\":12},\"showarrow\":false,\"text\":\"LLC Size Per Node\",\"x\":\"80e6\",\"y\":130,\"yanchor\":\"bottom\"}],\"xaxis\":{\"title\":{\"text\":\"Dirc_Data_Mov\"},\"ticks\":\"outside\"},\"yaxis\":{\"title\":{\"text\":\"GFLOPs/Node\"},\"ticks\":\"outside\"},\"title\":{\"text\":\"\\\"AVX-Newgeo: Probmpi vs Non-Probempi\\\" GFlops Measurement\"},\"legend\":{\"bordercolor\":\"black\",\"borderwidth\":1}},                        {\"responsive\": true}                    ).then(function(){\n",
       "                            \n",
       "var gd = document.getElementById('78cfc410-e102-4df6-8c18-c595956a6a25');\n",
       "var x = new MutationObserver(function (mutations, observer) {{\n",
       "        var display = window.getComputedStyle(gd).display;\n",
       "        if (!display || display === 'none') {{\n",
       "            console.log([gd, 'removed!']);\n",
       "            Plotly.purge(gd);\n",
       "            observer.disconnect();\n",
       "        }}\n",
       "}});\n",
       "\n",
       "// Listen for the removal of the full notebook cells\n",
       "var notebookContainer = gd.closest('#notebook-container');\n",
       "if (notebookContainer) {{\n",
       "    x.observe(notebookContainer, {childList: true});\n",
       "}}\n",
       "\n",
       "// Listen for the clearing of the current output cell\n",
       "var outputEl = gd.closest('.output');\n",
       "if (outputEl) {{\n",
       "    x.observe(outputEl, {childList: true});\n",
       "}}\n",
       "\n",
       "                        })                };                });            </script>        </div>"
      ]
     },
     "metadata": {},
     "output_type": "display_data"
    }
   ],
   "source": [
    "fig = go.Figure() \n",
    "\n",
    "# 1----\n",
    "fig.add_trace(go.Scatter(x=(dfn4AvxNewgeoProb_32mpi_4omp.Dirc_Data_Mov*(dfn4AvxNewgeoProb_32mpi_4omp.MPI_size/2)), \n",
    "                         y=(dfn4AvxNewgeoProb_32mpi_4omp.GFLOPS*(dfn4AvxNewgeoProb_32mpi_4omp.MPI_size/2)), \n",
    "                         mode='lines+markers', \n",
    "                         name='AvxNewgeoProb_32mpi_4omp',\n",
    "                         line=dict(color='magenta',width=3),\n",
    "                         marker=dict(symbol='hexagon',size=9, line=dict(color='yellow',width=1))))\n",
    "\n",
    "\n",
    "fig.add_trace(go.Scatter(x=(dfn4AvxNewgeoNonProb_32mpi_4omp.Dirc_Data_Mov*(dfn4AvxNewgeoNonProb_32mpi_4omp.MPI_size/4)), \n",
    "                         y=(dfn4AvxNewgeoNonProb_32mpi_4omp.GFLOPS*(dfn4AvxNewgeoNonProb_32mpi_4omp.MPI_size/4)), \n",
    "                         mode='lines+markers', \n",
    "                         name='AvxNewgeoNonProb_32mpi_4omp',\n",
    "                         line=dict(color='darkcyan',width=3),\n",
    "                         marker=dict(symbol='hexagon',size=9, line=dict(color='yellow',width=1))))\n",
    "\n",
    "# 2----\n",
    "fig.add_trace(go.Scatter(x=(dfn4AvxNewgeoProb_40mpi_3omp.Dirc_Data_Mov*(dfn4AvxNewgeoProb_40mpi_3omp.MPI_size/2)), \n",
    "                         y=(dfn4AvxNewgeoProb_40mpi_3omp.GFLOPS*(dfn4AvxNewgeoProb_40mpi_3omp.MPI_size/2)), \n",
    "                         mode='lines+markers', \n",
    "                         name='AvxNewgeoProb_40mpi_3omp',\n",
    "                         line=dict(color='sandybrown',width=3),\n",
    "                         marker=dict(symbol='diamond',size=5,line=dict(color='MediumPurple',width=2))))\n",
    "\n",
    "fig.add_trace(go.Scatter(x=(dfn4AvxNewgeoNonProb_40mpi_3omp.Dirc_Data_Mov*(dfn4AvxNewgeoNonProb_40mpi_3omp.MPI_size/4)), \n",
    "                         y=(dfn4AvxNewgeoNonProb_40mpi_3omp.GFLOPS*(dfn4AvxNewgeoNonProb_40mpi_3omp.MPI_size/4)), \n",
    "                         mode='lines+markers', \n",
    "                         name='AvxNewgeoNonProb_40mpi_3omp',\n",
    "                         line=dict(color='royalblue',width=3),\n",
    "                         marker=dict(symbol='diamond',size=5,line=dict(color='MediumPurple',width=2))))\n",
    "# 3----\n",
    "fig.add_trace(go.Scatter(x=(dfn4AvxNewgeoProb_56mpi_2omp.Dirc_Data_Mov*(dfn4AvxNewgeoProb_56mpi_2omp.MPI_size/2)), \n",
    "                         y=(dfn4AvxNewgeoProb_56mpi_2omp.GFLOPS*(dfn4AvxNewgeoProb_56mpi_2omp.MPI_size/2)), \n",
    "                         mode='lines+markers', \n",
    "                         name='AvxNewgeoProb_56mpi_2omp',\n",
    "                         line=dict(color='cyan',width=3),\n",
    "                         marker=dict(symbol='circle',size=7,line=dict(color='Purple',width=2))))\n",
    "\n",
    "fig.add_trace(go.Scatter(x=(dfn4AvxNewgeoNonProb_56mpi_2omp.Dirc_Data_Mov*(dfn4AvxNewgeoNonProb_56mpi_2omp.MPI_size/4)), \n",
    "                         y=(dfn4AvxNewgeoNonProb_56mpi_2omp.GFLOPS*(dfn4AvxNewgeoNonProb_56mpi_2omp.MPI_size/4)), \n",
    "                         mode='lines+markers', \n",
    "                         name='AvxNewgeoNonProb_56mpi_2omp',\n",
    "                         line=dict(color='darkblue',width=3),\n",
    "                         marker=dict(symbol='circle',size=7, line=dict(color='tomato',width=2))))\n",
    "\n",
    "\n",
    "\n",
    "# 4----\n",
    "fig.add_trace(go.Scatter(x=(dfn4AvxNewgeoProb_64mpi_2omp.Dirc_Data_Mov*(dfn4AvxNewgeoProb_64mpi_2omp.MPI_size/2)), \n",
    "                         y=(dfn4AvxNewgeoProb_64mpi_2omp.GFLOPS*(dfn4AvxNewgeoProb_64mpi_2omp.MPI_size/2)), \n",
    "                         mode='lines+markers', \n",
    "                         name='AvxNewgeoProb_64mpi_2omp',\n",
    "                         line=dict(color='blue',width=3),\n",
    "                         marker=dict(symbol='star',size=7, line=dict(color='black',width=1))))\n",
    "\n",
    "fig.add_trace(go.Scatter(x=(dfn4AvxNewgeoNonProb_64mpi_2omp.Dirc_Data_Mov*(dfn4AvxNewgeoNonProb_64mpi_2omp.MPI_size/4)), \n",
    "                         y=(dfn4AvxNewgeoNonProb_64mpi_2omp.GFLOPS*(dfn4AvxNewgeoNonProb_64mpi_2omp.MPI_size/4)), \n",
    "                         mode='lines+markers', \n",
    "                         name='AvxNewgeoNonProb_64mpi_2omp',\n",
    "                         line=dict(color='red',width=3),\n",
    "                         marker=dict(symbol='star',size=7, line=dict(color='black',width=1))))\n",
    "\n",
    "\n",
    "# 5----\n",
    "fig.add_trace(go.Scatter(x=(dfn4AvxNewgeoProb_112mpi_1omp.Dirc_Data_Mov*(dfn4AvxNewgeoProb_112mpi_1omp.MPI_size/4)), \n",
    "                         y=(dfn4AvxNewgeoProb_112mpi_1omp.GFLOPS*(dfn4AvxNewgeoProb_112mpi_1omp.MPI_size/4)), \n",
    "                         mode='lines+markers', \n",
    "                         name='AvxNewgeoProb_112mpi_1omp',\n",
    "                         line=dict(color='chartreuse',width=3),\n",
    "                         marker=dict(symbol='square-dot',size=7, line=dict(color='mediumvioletred',width=1))))\n",
    "\n",
    "\n",
    "\n",
    "fig.add_trace(go.Scatter(x=(dfn4AvxNewgeoNonProb_112mpi_1omp.Dirc_Data_Mov*(dfn4AvxNewgeoNonProb_112mpi_1omp.MPI_size/4)), \n",
    "                         y=(dfn4AvxNewgeoNonProb_112mpi_1omp.GFLOPS*(dfn4AvxNewgeoNonProb_112mpi_1omp.MPI_size/4)), \n",
    "                         mode='lines+markers', \n",
    "                         name='AvxNewgeoNonProb_112mpi_1omp',\n",
    "                         line=dict(color='black',width=3),\n",
    "                         marker=dict(symbol='square-dot',size=7, line=dict(color='mediumvioletred',width=1))))\n",
    "\n",
    "\n",
    "\n",
    "# 6----\n",
    "fig.add_trace(go.Scatter(x=(dfn4AvxNewgeoProb_128mpi_1omp.Dirc_Data_Mov*(dfn4AvxNewgeoProb_128mpi_1omp.MPI_size/4)), \n",
    "                         y=(dfn4AvxNewgeoProb_128mpi_1omp.GFLOPS*(dfn4AvxNewgeoProb_128mpi_1omp.MPI_size/4)), \n",
    "                         mode='lines+markers', \n",
    "                         name='AvxNewgeoProb_128mpi_1omp',\n",
    "                         line=dict(color='gold',width=3),\n",
    "                         marker=dict(symbol='triangle-up',size=6, line=dict(color='black',width=1))))\n",
    "\n",
    "\n",
    "fig.add_trace(go.Scatter(x=(dfn4AvxNewgeoNonProb_128mpi_1omp.Dirc_Data_Mov*(dfn4AvxNewgeoNonProb_128mpi_1omp.MPI_size/4)), \n",
    "                         y=(dfn4AvxNewgeoNonProb_128mpi_1omp.GFLOPS*(dfn4AvxNewgeoNonProb_128mpi_1omp.MPI_size/4)), \n",
    "                         mode='lines+markers', \n",
    "                         name='AvxNewgeoNonProb_128mpi_1omp',\n",
    "                         line=dict(color='dimgray',width=3),\n",
    "                         marker=dict(symbol='triangle-up',size=6, line=dict(color='black',width=1))))\n",
    "\n",
    "\n",
    "\n",
    "# Adding a vertical line\n",
    "fig.add_vline(x=80e6, line_width=3, line_dash=\"dash\", line_color=\"green\")\n",
    "# fig.add_hline(y=1024, line_width=3, line_dash=\"dash\", line_color=\"red\")\n",
    "\n",
    "# Add annotation\n",
    "fig.add_annotation(\n",
    "    x='80e6'\n",
    "    , y=130\n",
    "    , text=f'LLC Size Per Node'\n",
    "    , yanchor='bottom'\n",
    "    , showarrow=False\n",
    "    , arrowhead=1\n",
    "    , arrowsize=1\n",
    "    , arrowwidth=2\n",
    "    , arrowcolor=\"#636363\"\n",
    "    , ax=-20\n",
    "    , ay=-30\n",
    "    , font=dict(size=12, color=\"purple\", family=\"Sans Serif\")\n",
    "    , align=\"left\"\n",
    "    ,)\n",
    "\n",
    "fig.update_layout(title='\"AVX-Newgeo: Probmpi vs Non-Probempi\" GFlops Measurement',\n",
    "                  xaxis_title='Dirc_Data_Mov', yaxis_title='GFLOPs/Node', \n",
    "                  xaxis=dict(ticks=\"outside\"),  \n",
    "                  yaxis=dict(ticks=\"outside\"),\n",
    "                  legend=go.layout.Legend(bordercolor=\"black\",borderwidth=1))"
   ]
  },
  {
   "cell_type": "code",
   "execution_count": null,
   "id": "9b7535d8",
   "metadata": {},
   "outputs": [],
   "source": []
  },
  {
   "cell_type": "markdown",
   "id": "e9c0c332",
   "metadata": {},
   "source": [
    "# COMPARISONS"
   ]
  },
  {
   "cell_type": "markdown",
   "id": "1e1bbc85",
   "metadata": {},
   "source": [
    "## MACRO-Fused vs AVX-Fused (NonProbempi): GFLOPS"
   ]
  },
  {
   "cell_type": "code",
   "execution_count": 36,
   "id": "de84addb",
   "metadata": {},
   "outputs": [
    {
     "data": {
      "application/vnd.plotly.v1+json": {
       "config": {
        "plotlyServerURL": "https://plot.ly"
       },
       "data": [
        {
         "line": {
          "color": "magenta",
          "width": 3
         },
         "marker": {
          "line": {
           "color": "yellow",
           "width": 1
          },
          "size": 9,
          "symbol": "hexagon"
         },
         "mode": "lines+markers",
         "name": "MacFusNonProb_32mpi_4omp",
         "type": "scatter",
         "x": [
          50331648,
          62914560,
          75497472,
          88080384,
          100663296,
          113246208,
          125829120,
          138412032,
          150994944,
          163577856,
          176160768,
          188743680,
          201326592,
          213909504,
          226492416,
          239075328,
          251658240,
          264241152,
          276824064,
          289406976,
          301989888,
          314572800,
          327155712,
          339738624,
          352321536,
          364904448,
          377487360,
          390070272,
          402653184
         ],
         "y": [
          50.35896,
          54.59176,
          57.16856,
          59.6992,
          62.66256,
          63.26608,
          71.60176,
          64.274,
          64.12904,
          63.19472,
          62.75336,
          58.85424,
          58.24288,
          56.2036,
          50.66808,
          51.96576,
          49.53872,
          48.38608,
          47.56392,
          46.97392,
          45.90216,
          45.20528,
          44.61336,
          44.05936,
          43.93584,
          43.85592,
          43.42128,
          43.33432,
          42.90344
         ]
        },
        {
         "line": {
          "color": "sandybrown",
          "width": 3
         },
         "marker": {
          "line": {
           "color": "MediumPurple",
           "width": 2
          },
          "size": 5,
          "symbol": "diamond"
         },
         "mode": "lines+markers",
         "name": "MacFusNonProb_40mpi_3omp",
         "type": "scatter",
         "x": [
          62914560,
          94371840,
          125829120,
          157286400,
          188743680,
          220200960,
          251658240,
          283115520,
          314572800,
          346030080,
          377487360
         ],
         "y": [
          49.911,
          58.5772,
          57.442,
          50.7385,
          45.7592,
          39.8515,
          37.787099999999995,
          37.3195,
          38.418,
          37.4015,
          37.6433
         ]
        },
        {
         "line": {
          "color": "cyan",
          "width": 3
         },
         "marker": {
          "line": {
           "color": "Purple",
           "width": 2
          },
          "size": 7,
          "symbol": "circle"
         },
         "mode": "lines+markers",
         "name": "MacFusnonProb_56mpi_2omp",
         "type": "scatter",
         "x": [
          88080384,
          132120576,
          176160768,
          220200960,
          264241152,
          308281344,
          352321536,
          396361728
         ],
         "y": [
          54.6644,
          64.80264,
          51.61184,
          47.68218,
          44.44006,
          42.4249,
          40.800900000000006,
          40.0162
         ]
        },
        {
         "line": {
          "color": "red",
          "width": 3
         },
         "marker": {
          "line": {
           "color": "black",
           "width": 1
          },
          "size": 7,
          "symbol": "star"
         },
         "mode": "lines+markers",
         "name": "MacFusnonProb_64mpi_2omp",
         "type": "scatter",
         "x": [
          100663296,
          125829120,
          150994944,
          176160768,
          201326592,
          226492416,
          251658240,
          276824064,
          301989888,
          327155712,
          352321536,
          377487360,
          402653184
         ],
         "y": [
          69.76064,
          71.0336,
          74.8272,
          64.49504,
          65.23136,
          57.78272,
          56.00208,
          51.01968,
          50.80784,
          50.56048,
          47.15792,
          44.48064,
          47.37024
         ]
        },
        {
         "line": {
          "color": "black",
          "width": 3
         },
         "marker": {
          "line": {
           "color": "mediumvioletred",
           "width": 1
          },
          "size": 7,
          "symbol": "square-dot"
         },
         "mode": "lines+markers",
         "name": "MacFusnonProb_112mpi_1omp",
         "type": "scatter",
         "x": [
          176160768,
          220200960,
          264241152,
          308281344,
          352321536,
          396361728
         ],
         "y": [
          47.0134,
          42.553839999999994,
          41.27312,
          40.34604,
          40.09572,
          38.9886
         ]
        },
        {
         "line": {
          "color": "dimgray",
          "width": 3
         },
         "marker": {
          "line": {
           "color": "black",
           "width": 1
          },
          "size": 6,
          "symbol": "triangle-up"
         },
         "mode": "lines+markers",
         "name": "MacFusnonProb_128mpi_1omp",
         "type": "scatter",
         "x": [
          201326592,
          251658240,
          301989888,
          352321536,
          402653184
         ],
         "y": [
          54.75456,
          49.61088,
          47.93632,
          46.88896,
          46.12608
         ]
        }
       ],
       "layout": {
        "annotations": [
         {
          "align": "left",
          "arrowcolor": "#636363",
          "arrowhead": 1,
          "arrowsize": 1,
          "arrowwidth": 2,
          "ax": -20,
          "ay": -30,
          "font": {
           "color": "purple",
           "family": "Sans Serif",
           "size": 12
          },
          "showarrow": false,
          "text": "LLC Size Per Node",
          "x": "80e6",
          "y": 130,
          "yanchor": "bottom"
         }
        ],
        "shapes": [
         {
          "line": {
           "color": "green",
           "dash": "dash",
           "width": 3
          },
          "type": "line",
          "x0": 80000000,
          "x1": 80000000,
          "xref": "x",
          "y0": 0,
          "y1": 1,
          "yref": "y domain"
         }
        ],
        "template": {
         "data": {
          "bar": [
           {
            "error_x": {
             "color": "#2a3f5f"
            },
            "error_y": {
             "color": "#2a3f5f"
            },
            "marker": {
             "line": {
              "color": "#E5ECF6",
              "width": 0.5
             },
             "pattern": {
              "fillmode": "overlay",
              "size": 10,
              "solidity": 0.2
             }
            },
            "type": "bar"
           }
          ],
          "barpolar": [
           {
            "marker": {
             "line": {
              "color": "#E5ECF6",
              "width": 0.5
             },
             "pattern": {
              "fillmode": "overlay",
              "size": 10,
              "solidity": 0.2
             }
            },
            "type": "barpolar"
           }
          ],
          "carpet": [
           {
            "aaxis": {
             "endlinecolor": "#2a3f5f",
             "gridcolor": "white",
             "linecolor": "white",
             "minorgridcolor": "white",
             "startlinecolor": "#2a3f5f"
            },
            "baxis": {
             "endlinecolor": "#2a3f5f",
             "gridcolor": "white",
             "linecolor": "white",
             "minorgridcolor": "white",
             "startlinecolor": "#2a3f5f"
            },
            "type": "carpet"
           }
          ],
          "choropleth": [
           {
            "colorbar": {
             "outlinewidth": 0,
             "ticks": ""
            },
            "type": "choropleth"
           }
          ],
          "contour": [
           {
            "colorbar": {
             "outlinewidth": 0,
             "ticks": ""
            },
            "colorscale": [
             [
              0,
              "#0d0887"
             ],
             [
              0.1111111111111111,
              "#46039f"
             ],
             [
              0.2222222222222222,
              "#7201a8"
             ],
             [
              0.3333333333333333,
              "#9c179e"
             ],
             [
              0.4444444444444444,
              "#bd3786"
             ],
             [
              0.5555555555555556,
              "#d8576b"
             ],
             [
              0.6666666666666666,
              "#ed7953"
             ],
             [
              0.7777777777777778,
              "#fb9f3a"
             ],
             [
              0.8888888888888888,
              "#fdca26"
             ],
             [
              1,
              "#f0f921"
             ]
            ],
            "type": "contour"
           }
          ],
          "contourcarpet": [
           {
            "colorbar": {
             "outlinewidth": 0,
             "ticks": ""
            },
            "type": "contourcarpet"
           }
          ],
          "heatmap": [
           {
            "colorbar": {
             "outlinewidth": 0,
             "ticks": ""
            },
            "colorscale": [
             [
              0,
              "#0d0887"
             ],
             [
              0.1111111111111111,
              "#46039f"
             ],
             [
              0.2222222222222222,
              "#7201a8"
             ],
             [
              0.3333333333333333,
              "#9c179e"
             ],
             [
              0.4444444444444444,
              "#bd3786"
             ],
             [
              0.5555555555555556,
              "#d8576b"
             ],
             [
              0.6666666666666666,
              "#ed7953"
             ],
             [
              0.7777777777777778,
              "#fb9f3a"
             ],
             [
              0.8888888888888888,
              "#fdca26"
             ],
             [
              1,
              "#f0f921"
             ]
            ],
            "type": "heatmap"
           }
          ],
          "heatmapgl": [
           {
            "colorbar": {
             "outlinewidth": 0,
             "ticks": ""
            },
            "colorscale": [
             [
              0,
              "#0d0887"
             ],
             [
              0.1111111111111111,
              "#46039f"
             ],
             [
              0.2222222222222222,
              "#7201a8"
             ],
             [
              0.3333333333333333,
              "#9c179e"
             ],
             [
              0.4444444444444444,
              "#bd3786"
             ],
             [
              0.5555555555555556,
              "#d8576b"
             ],
             [
              0.6666666666666666,
              "#ed7953"
             ],
             [
              0.7777777777777778,
              "#fb9f3a"
             ],
             [
              0.8888888888888888,
              "#fdca26"
             ],
             [
              1,
              "#f0f921"
             ]
            ],
            "type": "heatmapgl"
           }
          ],
          "histogram": [
           {
            "marker": {
             "pattern": {
              "fillmode": "overlay",
              "size": 10,
              "solidity": 0.2
             }
            },
            "type": "histogram"
           }
          ],
          "histogram2d": [
           {
            "colorbar": {
             "outlinewidth": 0,
             "ticks": ""
            },
            "colorscale": [
             [
              0,
              "#0d0887"
             ],
             [
              0.1111111111111111,
              "#46039f"
             ],
             [
              0.2222222222222222,
              "#7201a8"
             ],
             [
              0.3333333333333333,
              "#9c179e"
             ],
             [
              0.4444444444444444,
              "#bd3786"
             ],
             [
              0.5555555555555556,
              "#d8576b"
             ],
             [
              0.6666666666666666,
              "#ed7953"
             ],
             [
              0.7777777777777778,
              "#fb9f3a"
             ],
             [
              0.8888888888888888,
              "#fdca26"
             ],
             [
              1,
              "#f0f921"
             ]
            ],
            "type": "histogram2d"
           }
          ],
          "histogram2dcontour": [
           {
            "colorbar": {
             "outlinewidth": 0,
             "ticks": ""
            },
            "colorscale": [
             [
              0,
              "#0d0887"
             ],
             [
              0.1111111111111111,
              "#46039f"
             ],
             [
              0.2222222222222222,
              "#7201a8"
             ],
             [
              0.3333333333333333,
              "#9c179e"
             ],
             [
              0.4444444444444444,
              "#bd3786"
             ],
             [
              0.5555555555555556,
              "#d8576b"
             ],
             [
              0.6666666666666666,
              "#ed7953"
             ],
             [
              0.7777777777777778,
              "#fb9f3a"
             ],
             [
              0.8888888888888888,
              "#fdca26"
             ],
             [
              1,
              "#f0f921"
             ]
            ],
            "type": "histogram2dcontour"
           }
          ],
          "mesh3d": [
           {
            "colorbar": {
             "outlinewidth": 0,
             "ticks": ""
            },
            "type": "mesh3d"
           }
          ],
          "parcoords": [
           {
            "line": {
             "colorbar": {
              "outlinewidth": 0,
              "ticks": ""
             }
            },
            "type": "parcoords"
           }
          ],
          "pie": [
           {
            "automargin": true,
            "type": "pie"
           }
          ],
          "scatter": [
           {
            "fillpattern": {
             "fillmode": "overlay",
             "size": 10,
             "solidity": 0.2
            },
            "type": "scatter"
           }
          ],
          "scatter3d": [
           {
            "line": {
             "colorbar": {
              "outlinewidth": 0,
              "ticks": ""
             }
            },
            "marker": {
             "colorbar": {
              "outlinewidth": 0,
              "ticks": ""
             }
            },
            "type": "scatter3d"
           }
          ],
          "scattercarpet": [
           {
            "marker": {
             "colorbar": {
              "outlinewidth": 0,
              "ticks": ""
             }
            },
            "type": "scattercarpet"
           }
          ],
          "scattergeo": [
           {
            "marker": {
             "colorbar": {
              "outlinewidth": 0,
              "ticks": ""
             }
            },
            "type": "scattergeo"
           }
          ],
          "scattergl": [
           {
            "marker": {
             "colorbar": {
              "outlinewidth": 0,
              "ticks": ""
             }
            },
            "type": "scattergl"
           }
          ],
          "scattermapbox": [
           {
            "marker": {
             "colorbar": {
              "outlinewidth": 0,
              "ticks": ""
             }
            },
            "type": "scattermapbox"
           }
          ],
          "scatterpolar": [
           {
            "marker": {
             "colorbar": {
              "outlinewidth": 0,
              "ticks": ""
             }
            },
            "type": "scatterpolar"
           }
          ],
          "scatterpolargl": [
           {
            "marker": {
             "colorbar": {
              "outlinewidth": 0,
              "ticks": ""
             }
            },
            "type": "scatterpolargl"
           }
          ],
          "scatterternary": [
           {
            "marker": {
             "colorbar": {
              "outlinewidth": 0,
              "ticks": ""
             }
            },
            "type": "scatterternary"
           }
          ],
          "surface": [
           {
            "colorbar": {
             "outlinewidth": 0,
             "ticks": ""
            },
            "colorscale": [
             [
              0,
              "#0d0887"
             ],
             [
              0.1111111111111111,
              "#46039f"
             ],
             [
              0.2222222222222222,
              "#7201a8"
             ],
             [
              0.3333333333333333,
              "#9c179e"
             ],
             [
              0.4444444444444444,
              "#bd3786"
             ],
             [
              0.5555555555555556,
              "#d8576b"
             ],
             [
              0.6666666666666666,
              "#ed7953"
             ],
             [
              0.7777777777777778,
              "#fb9f3a"
             ],
             [
              0.8888888888888888,
              "#fdca26"
             ],
             [
              1,
              "#f0f921"
             ]
            ],
            "type": "surface"
           }
          ],
          "table": [
           {
            "cells": {
             "fill": {
              "color": "#EBF0F8"
             },
             "line": {
              "color": "white"
             }
            },
            "header": {
             "fill": {
              "color": "#C8D4E3"
             },
             "line": {
              "color": "white"
             }
            },
            "type": "table"
           }
          ]
         },
         "layout": {
          "annotationdefaults": {
           "arrowcolor": "#2a3f5f",
           "arrowhead": 0,
           "arrowwidth": 1
          },
          "autotypenumbers": "strict",
          "coloraxis": {
           "colorbar": {
            "outlinewidth": 0,
            "ticks": ""
           }
          },
          "colorscale": {
           "diverging": [
            [
             0,
             "#8e0152"
            ],
            [
             0.1,
             "#c51b7d"
            ],
            [
             0.2,
             "#de77ae"
            ],
            [
             0.3,
             "#f1b6da"
            ],
            [
             0.4,
             "#fde0ef"
            ],
            [
             0.5,
             "#f7f7f7"
            ],
            [
             0.6,
             "#e6f5d0"
            ],
            [
             0.7,
             "#b8e186"
            ],
            [
             0.8,
             "#7fbc41"
            ],
            [
             0.9,
             "#4d9221"
            ],
            [
             1,
             "#276419"
            ]
           ],
           "sequential": [
            [
             0,
             "#0d0887"
            ],
            [
             0.1111111111111111,
             "#46039f"
            ],
            [
             0.2222222222222222,
             "#7201a8"
            ],
            [
             0.3333333333333333,
             "#9c179e"
            ],
            [
             0.4444444444444444,
             "#bd3786"
            ],
            [
             0.5555555555555556,
             "#d8576b"
            ],
            [
             0.6666666666666666,
             "#ed7953"
            ],
            [
             0.7777777777777778,
             "#fb9f3a"
            ],
            [
             0.8888888888888888,
             "#fdca26"
            ],
            [
             1,
             "#f0f921"
            ]
           ],
           "sequentialminus": [
            [
             0,
             "#0d0887"
            ],
            [
             0.1111111111111111,
             "#46039f"
            ],
            [
             0.2222222222222222,
             "#7201a8"
            ],
            [
             0.3333333333333333,
             "#9c179e"
            ],
            [
             0.4444444444444444,
             "#bd3786"
            ],
            [
             0.5555555555555556,
             "#d8576b"
            ],
            [
             0.6666666666666666,
             "#ed7953"
            ],
            [
             0.7777777777777778,
             "#fb9f3a"
            ],
            [
             0.8888888888888888,
             "#fdca26"
            ],
            [
             1,
             "#f0f921"
            ]
           ]
          },
          "colorway": [
           "#636efa",
           "#EF553B",
           "#00cc96",
           "#ab63fa",
           "#FFA15A",
           "#19d3f3",
           "#FF6692",
           "#B6E880",
           "#FF97FF",
           "#FECB52"
          ],
          "font": {
           "color": "#2a3f5f"
          },
          "geo": {
           "bgcolor": "white",
           "lakecolor": "white",
           "landcolor": "#E5ECF6",
           "showlakes": true,
           "showland": true,
           "subunitcolor": "white"
          },
          "hoverlabel": {
           "align": "left"
          },
          "hovermode": "closest",
          "mapbox": {
           "style": "light"
          },
          "paper_bgcolor": "white",
          "plot_bgcolor": "#E5ECF6",
          "polar": {
           "angularaxis": {
            "gridcolor": "white",
            "linecolor": "white",
            "ticks": ""
           },
           "bgcolor": "#E5ECF6",
           "radialaxis": {
            "gridcolor": "white",
            "linecolor": "white",
            "ticks": ""
           }
          },
          "scene": {
           "xaxis": {
            "backgroundcolor": "#E5ECF6",
            "gridcolor": "white",
            "gridwidth": 2,
            "linecolor": "white",
            "showbackground": true,
            "ticks": "",
            "zerolinecolor": "white"
           },
           "yaxis": {
            "backgroundcolor": "#E5ECF6",
            "gridcolor": "white",
            "gridwidth": 2,
            "linecolor": "white",
            "showbackground": true,
            "ticks": "",
            "zerolinecolor": "white"
           },
           "zaxis": {
            "backgroundcolor": "#E5ECF6",
            "gridcolor": "white",
            "gridwidth": 2,
            "linecolor": "white",
            "showbackground": true,
            "ticks": "",
            "zerolinecolor": "white"
           }
          },
          "shapedefaults": {
           "line": {
            "color": "#2a3f5f"
           }
          },
          "ternary": {
           "aaxis": {
            "gridcolor": "white",
            "linecolor": "white",
            "ticks": ""
           },
           "baxis": {
            "gridcolor": "white",
            "linecolor": "white",
            "ticks": ""
           },
           "bgcolor": "#E5ECF6",
           "caxis": {
            "gridcolor": "white",
            "linecolor": "white",
            "ticks": ""
           }
          },
          "title": {
           "x": 0.05
          },
          "xaxis": {
           "automargin": true,
           "gridcolor": "white",
           "linecolor": "white",
           "ticks": "",
           "title": {
            "standoff": 15
           },
           "zerolinecolor": "white",
           "zerolinewidth": 2
          },
          "yaxis": {
           "automargin": true,
           "gridcolor": "white",
           "linecolor": "white",
           "ticks": "",
           "title": {
            "standoff": 15
           },
           "zerolinecolor": "white",
           "zerolinewidth": 2
          }
         }
        },
        "title": {
         "text": "\"Macro Fused: probempi vs nonprobempi\" GFlops Measurement"
        },
        "xaxis": {
         "ticks": "outside",
         "title": {
          "text": "Dirc_Data_Mov"
         }
        },
        "yaxis": {
         "ticks": "outside",
         "title": {
          "text": "GFLOPs/Node"
         }
        }
       }
      },
      "text/html": [
       "<div>                            <div id=\"f07bfcc7-3208-443f-9faf-a6563a8450b5\" class=\"plotly-graph-div\" style=\"height:525px; width:100%;\"></div>            <script type=\"text/javascript\">                require([\"plotly\"], function(Plotly) {                    window.PLOTLYENV=window.PLOTLYENV || {};                                    if (document.getElementById(\"f07bfcc7-3208-443f-9faf-a6563a8450b5\")) {                    Plotly.newPlot(                        \"f07bfcc7-3208-443f-9faf-a6563a8450b5\",                        [{\"line\":{\"color\":\"magenta\",\"width\":3},\"marker\":{\"line\":{\"color\":\"yellow\",\"width\":1},\"size\":9,\"symbol\":\"hexagon\"},\"mode\":\"lines+markers\",\"name\":\"MacFusNonProb_32mpi_4omp\",\"x\":[50331648.0,62914560.0,75497472.0,88080384.0,100663296.0,113246208.0,125829120.0,138412032.0,150994944.0,163577856.0,176160768.0,188743680.0,201326592.0,213909504.0,226492416.0,239075328.0,251658240.0,264241152.0,276824064.0,289406976.0,301989888.0,314572800.0,327155712.0,339738624.0,352321536.0,364904448.0,377487360.0,390070272.0,402653184.0],\"y\":[50.35896,54.59176,57.16856,59.6992,62.66256,63.26608,71.60176,64.274,64.12904,63.19472,62.75336,58.85424,58.24288,56.2036,50.66808,51.96576,49.53872,48.38608,47.56392,46.97392,45.90216,45.20528,44.61336,44.05936,43.93584,43.85592,43.42128,43.33432,42.90344],\"type\":\"scatter\"},{\"line\":{\"color\":\"sandybrown\",\"width\":3},\"marker\":{\"line\":{\"color\":\"MediumPurple\",\"width\":2},\"size\":5,\"symbol\":\"diamond\"},\"mode\":\"lines+markers\",\"name\":\"MacFusNonProb_40mpi_3omp\",\"x\":[62914560.0,94371840.0,125829120.0,157286400.0,188743680.0,220200960.0,251658240.0,283115520.0,314572800.0,346030080.0,377487360.0],\"y\":[49.911,58.5772,57.442,50.7385,45.7592,39.8515,37.787099999999995,37.3195,38.418,37.4015,37.6433],\"type\":\"scatter\"},{\"line\":{\"color\":\"cyan\",\"width\":3},\"marker\":{\"line\":{\"color\":\"Purple\",\"width\":2},\"size\":7,\"symbol\":\"circle\"},\"mode\":\"lines+markers\",\"name\":\"MacFusnonProb_56mpi_2omp\",\"x\":[88080384.0,132120576.0,176160768.0,220200960.0,264241152.0,308281344.0,352321536.0,396361728.0],\"y\":[54.6644,64.80264,51.61184,47.68218,44.44006,42.4249,40.800900000000006,40.0162],\"type\":\"scatter\"},{\"line\":{\"color\":\"red\",\"width\":3},\"marker\":{\"line\":{\"color\":\"black\",\"width\":1},\"size\":7,\"symbol\":\"star\"},\"mode\":\"lines+markers\",\"name\":\"MacFusnonProb_64mpi_2omp\",\"x\":[100663296.0,125829120.0,150994944.0,176160768.0,201326592.0,226492416.0,251658240.0,276824064.0,301989888.0,327155712.0,352321536.0,377487360.0,402653184.0],\"y\":[69.76064,71.0336,74.8272,64.49504,65.23136,57.78272,56.00208,51.01968,50.80784,50.56048,47.15792,44.48064,47.37024],\"type\":\"scatter\"},{\"line\":{\"color\":\"black\",\"width\":3},\"marker\":{\"line\":{\"color\":\"mediumvioletred\",\"width\":1},\"size\":7,\"symbol\":\"square-dot\"},\"mode\":\"lines+markers\",\"name\":\"MacFusnonProb_112mpi_1omp\",\"x\":[176160768.0,220200960.0,264241152.0,308281344.0,352321536.0,396361728.0],\"y\":[47.0134,42.553839999999994,41.27312,40.34604,40.09572,38.9886],\"type\":\"scatter\"},{\"line\":{\"color\":\"dimgray\",\"width\":3},\"marker\":{\"line\":{\"color\":\"black\",\"width\":1},\"size\":6,\"symbol\":\"triangle-up\"},\"mode\":\"lines+markers\",\"name\":\"MacFusnonProb_128mpi_1omp\",\"x\":[201326592.0,251658240.0,301989888.0,352321536.0,402653184.0],\"y\":[54.75456,49.61088,47.93632,46.88896,46.12608],\"type\":\"scatter\"}],                        {\"template\":{\"data\":{\"histogram2dcontour\":[{\"type\":\"histogram2dcontour\",\"colorbar\":{\"outlinewidth\":0,\"ticks\":\"\"},\"colorscale\":[[0.0,\"#0d0887\"],[0.1111111111111111,\"#46039f\"],[0.2222222222222222,\"#7201a8\"],[0.3333333333333333,\"#9c179e\"],[0.4444444444444444,\"#bd3786\"],[0.5555555555555556,\"#d8576b\"],[0.6666666666666666,\"#ed7953\"],[0.7777777777777778,\"#fb9f3a\"],[0.8888888888888888,\"#fdca26\"],[1.0,\"#f0f921\"]]}],\"choropleth\":[{\"type\":\"choropleth\",\"colorbar\":{\"outlinewidth\":0,\"ticks\":\"\"}}],\"histogram2d\":[{\"type\":\"histogram2d\",\"colorbar\":{\"outlinewidth\":0,\"ticks\":\"\"},\"colorscale\":[[0.0,\"#0d0887\"],[0.1111111111111111,\"#46039f\"],[0.2222222222222222,\"#7201a8\"],[0.3333333333333333,\"#9c179e\"],[0.4444444444444444,\"#bd3786\"],[0.5555555555555556,\"#d8576b\"],[0.6666666666666666,\"#ed7953\"],[0.7777777777777778,\"#fb9f3a\"],[0.8888888888888888,\"#fdca26\"],[1.0,\"#f0f921\"]]}],\"heatmap\":[{\"type\":\"heatmap\",\"colorbar\":{\"outlinewidth\":0,\"ticks\":\"\"},\"colorscale\":[[0.0,\"#0d0887\"],[0.1111111111111111,\"#46039f\"],[0.2222222222222222,\"#7201a8\"],[0.3333333333333333,\"#9c179e\"],[0.4444444444444444,\"#bd3786\"],[0.5555555555555556,\"#d8576b\"],[0.6666666666666666,\"#ed7953\"],[0.7777777777777778,\"#fb9f3a\"],[0.8888888888888888,\"#fdca26\"],[1.0,\"#f0f921\"]]}],\"heatmapgl\":[{\"type\":\"heatmapgl\",\"colorbar\":{\"outlinewidth\":0,\"ticks\":\"\"},\"colorscale\":[[0.0,\"#0d0887\"],[0.1111111111111111,\"#46039f\"],[0.2222222222222222,\"#7201a8\"],[0.3333333333333333,\"#9c179e\"],[0.4444444444444444,\"#bd3786\"],[0.5555555555555556,\"#d8576b\"],[0.6666666666666666,\"#ed7953\"],[0.7777777777777778,\"#fb9f3a\"],[0.8888888888888888,\"#fdca26\"],[1.0,\"#f0f921\"]]}],\"contourcarpet\":[{\"type\":\"contourcarpet\",\"colorbar\":{\"outlinewidth\":0,\"ticks\":\"\"}}],\"contour\":[{\"type\":\"contour\",\"colorbar\":{\"outlinewidth\":0,\"ticks\":\"\"},\"colorscale\":[[0.0,\"#0d0887\"],[0.1111111111111111,\"#46039f\"],[0.2222222222222222,\"#7201a8\"],[0.3333333333333333,\"#9c179e\"],[0.4444444444444444,\"#bd3786\"],[0.5555555555555556,\"#d8576b\"],[0.6666666666666666,\"#ed7953\"],[0.7777777777777778,\"#fb9f3a\"],[0.8888888888888888,\"#fdca26\"],[1.0,\"#f0f921\"]]}],\"surface\":[{\"type\":\"surface\",\"colorbar\":{\"outlinewidth\":0,\"ticks\":\"\"},\"colorscale\":[[0.0,\"#0d0887\"],[0.1111111111111111,\"#46039f\"],[0.2222222222222222,\"#7201a8\"],[0.3333333333333333,\"#9c179e\"],[0.4444444444444444,\"#bd3786\"],[0.5555555555555556,\"#d8576b\"],[0.6666666666666666,\"#ed7953\"],[0.7777777777777778,\"#fb9f3a\"],[0.8888888888888888,\"#fdca26\"],[1.0,\"#f0f921\"]]}],\"mesh3d\":[{\"type\":\"mesh3d\",\"colorbar\":{\"outlinewidth\":0,\"ticks\":\"\"}}],\"scatter\":[{\"fillpattern\":{\"fillmode\":\"overlay\",\"size\":10,\"solidity\":0.2},\"type\":\"scatter\"}],\"parcoords\":[{\"type\":\"parcoords\",\"line\":{\"colorbar\":{\"outlinewidth\":0,\"ticks\":\"\"}}}],\"scatterpolargl\":[{\"type\":\"scatterpolargl\",\"marker\":{\"colorbar\":{\"outlinewidth\":0,\"ticks\":\"\"}}}],\"bar\":[{\"error_x\":{\"color\":\"#2a3f5f\"},\"error_y\":{\"color\":\"#2a3f5f\"},\"marker\":{\"line\":{\"color\":\"#E5ECF6\",\"width\":0.5},\"pattern\":{\"fillmode\":\"overlay\",\"size\":10,\"solidity\":0.2}},\"type\":\"bar\"}],\"scattergeo\":[{\"type\":\"scattergeo\",\"marker\":{\"colorbar\":{\"outlinewidth\":0,\"ticks\":\"\"}}}],\"scatterpolar\":[{\"type\":\"scatterpolar\",\"marker\":{\"colorbar\":{\"outlinewidth\":0,\"ticks\":\"\"}}}],\"histogram\":[{\"marker\":{\"pattern\":{\"fillmode\":\"overlay\",\"size\":10,\"solidity\":0.2}},\"type\":\"histogram\"}],\"scattergl\":[{\"type\":\"scattergl\",\"marker\":{\"colorbar\":{\"outlinewidth\":0,\"ticks\":\"\"}}}],\"scatter3d\":[{\"type\":\"scatter3d\",\"line\":{\"colorbar\":{\"outlinewidth\":0,\"ticks\":\"\"}},\"marker\":{\"colorbar\":{\"outlinewidth\":0,\"ticks\":\"\"}}}],\"scattermapbox\":[{\"type\":\"scattermapbox\",\"marker\":{\"colorbar\":{\"outlinewidth\":0,\"ticks\":\"\"}}}],\"scatterternary\":[{\"type\":\"scatterternary\",\"marker\":{\"colorbar\":{\"outlinewidth\":0,\"ticks\":\"\"}}}],\"scattercarpet\":[{\"type\":\"scattercarpet\",\"marker\":{\"colorbar\":{\"outlinewidth\":0,\"ticks\":\"\"}}}],\"carpet\":[{\"aaxis\":{\"endlinecolor\":\"#2a3f5f\",\"gridcolor\":\"white\",\"linecolor\":\"white\",\"minorgridcolor\":\"white\",\"startlinecolor\":\"#2a3f5f\"},\"baxis\":{\"endlinecolor\":\"#2a3f5f\",\"gridcolor\":\"white\",\"linecolor\":\"white\",\"minorgridcolor\":\"white\",\"startlinecolor\":\"#2a3f5f\"},\"type\":\"carpet\"}],\"table\":[{\"cells\":{\"fill\":{\"color\":\"#EBF0F8\"},\"line\":{\"color\":\"white\"}},\"header\":{\"fill\":{\"color\":\"#C8D4E3\"},\"line\":{\"color\":\"white\"}},\"type\":\"table\"}],\"barpolar\":[{\"marker\":{\"line\":{\"color\":\"#E5ECF6\",\"width\":0.5},\"pattern\":{\"fillmode\":\"overlay\",\"size\":10,\"solidity\":0.2}},\"type\":\"barpolar\"}],\"pie\":[{\"automargin\":true,\"type\":\"pie\"}]},\"layout\":{\"autotypenumbers\":\"strict\",\"colorway\":[\"#636efa\",\"#EF553B\",\"#00cc96\",\"#ab63fa\",\"#FFA15A\",\"#19d3f3\",\"#FF6692\",\"#B6E880\",\"#FF97FF\",\"#FECB52\"],\"font\":{\"color\":\"#2a3f5f\"},\"hovermode\":\"closest\",\"hoverlabel\":{\"align\":\"left\"},\"paper_bgcolor\":\"white\",\"plot_bgcolor\":\"#E5ECF6\",\"polar\":{\"bgcolor\":\"#E5ECF6\",\"angularaxis\":{\"gridcolor\":\"white\",\"linecolor\":\"white\",\"ticks\":\"\"},\"radialaxis\":{\"gridcolor\":\"white\",\"linecolor\":\"white\",\"ticks\":\"\"}},\"ternary\":{\"bgcolor\":\"#E5ECF6\",\"aaxis\":{\"gridcolor\":\"white\",\"linecolor\":\"white\",\"ticks\":\"\"},\"baxis\":{\"gridcolor\":\"white\",\"linecolor\":\"white\",\"ticks\":\"\"},\"caxis\":{\"gridcolor\":\"white\",\"linecolor\":\"white\",\"ticks\":\"\"}},\"coloraxis\":{\"colorbar\":{\"outlinewidth\":0,\"ticks\":\"\"}},\"colorscale\":{\"sequential\":[[0.0,\"#0d0887\"],[0.1111111111111111,\"#46039f\"],[0.2222222222222222,\"#7201a8\"],[0.3333333333333333,\"#9c179e\"],[0.4444444444444444,\"#bd3786\"],[0.5555555555555556,\"#d8576b\"],[0.6666666666666666,\"#ed7953\"],[0.7777777777777778,\"#fb9f3a\"],[0.8888888888888888,\"#fdca26\"],[1.0,\"#f0f921\"]],\"sequentialminus\":[[0.0,\"#0d0887\"],[0.1111111111111111,\"#46039f\"],[0.2222222222222222,\"#7201a8\"],[0.3333333333333333,\"#9c179e\"],[0.4444444444444444,\"#bd3786\"],[0.5555555555555556,\"#d8576b\"],[0.6666666666666666,\"#ed7953\"],[0.7777777777777778,\"#fb9f3a\"],[0.8888888888888888,\"#fdca26\"],[1.0,\"#f0f921\"]],\"diverging\":[[0,\"#8e0152\"],[0.1,\"#c51b7d\"],[0.2,\"#de77ae\"],[0.3,\"#f1b6da\"],[0.4,\"#fde0ef\"],[0.5,\"#f7f7f7\"],[0.6,\"#e6f5d0\"],[0.7,\"#b8e186\"],[0.8,\"#7fbc41\"],[0.9,\"#4d9221\"],[1,\"#276419\"]]},\"xaxis\":{\"gridcolor\":\"white\",\"linecolor\":\"white\",\"ticks\":\"\",\"title\":{\"standoff\":15},\"zerolinecolor\":\"white\",\"automargin\":true,\"zerolinewidth\":2},\"yaxis\":{\"gridcolor\":\"white\",\"linecolor\":\"white\",\"ticks\":\"\",\"title\":{\"standoff\":15},\"zerolinecolor\":\"white\",\"automargin\":true,\"zerolinewidth\":2},\"scene\":{\"xaxis\":{\"backgroundcolor\":\"#E5ECF6\",\"gridcolor\":\"white\",\"linecolor\":\"white\",\"showbackground\":true,\"ticks\":\"\",\"zerolinecolor\":\"white\",\"gridwidth\":2},\"yaxis\":{\"backgroundcolor\":\"#E5ECF6\",\"gridcolor\":\"white\",\"linecolor\":\"white\",\"showbackground\":true,\"ticks\":\"\",\"zerolinecolor\":\"white\",\"gridwidth\":2},\"zaxis\":{\"backgroundcolor\":\"#E5ECF6\",\"gridcolor\":\"white\",\"linecolor\":\"white\",\"showbackground\":true,\"ticks\":\"\",\"zerolinecolor\":\"white\",\"gridwidth\":2}},\"shapedefaults\":{\"line\":{\"color\":\"#2a3f5f\"}},\"annotationdefaults\":{\"arrowcolor\":\"#2a3f5f\",\"arrowhead\":0,\"arrowwidth\":1},\"geo\":{\"bgcolor\":\"white\",\"landcolor\":\"#E5ECF6\",\"subunitcolor\":\"white\",\"showland\":true,\"showlakes\":true,\"lakecolor\":\"white\"},\"title\":{\"x\":0.05},\"mapbox\":{\"style\":\"light\"}}},\"shapes\":[{\"line\":{\"color\":\"green\",\"dash\":\"dash\",\"width\":3},\"type\":\"line\",\"x0\":80000000.0,\"x1\":80000000.0,\"xref\":\"x\",\"y0\":0,\"y1\":1,\"yref\":\"y domain\"}],\"annotations\":[{\"align\":\"left\",\"arrowcolor\":\"#636363\",\"arrowhead\":1,\"arrowsize\":1,\"arrowwidth\":2,\"ax\":-20,\"ay\":-30,\"font\":{\"color\":\"purple\",\"family\":\"Sans Serif\",\"size\":12},\"showarrow\":false,\"text\":\"LLC Size Per Node\",\"x\":\"80e6\",\"y\":130,\"yanchor\":\"bottom\"}],\"xaxis\":{\"title\":{\"text\":\"Dirc_Data_Mov\"},\"ticks\":\"outside\"},\"yaxis\":{\"title\":{\"text\":\"GFLOPs/Node\"},\"ticks\":\"outside\"},\"title\":{\"text\":\"\\\"Macro Fused: probempi vs nonprobempi\\\" GFlops Measurement\"}},                        {\"responsive\": true}                    ).then(function(){\n",
       "                            \n",
       "var gd = document.getElementById('f07bfcc7-3208-443f-9faf-a6563a8450b5');\n",
       "var x = new MutationObserver(function (mutations, observer) {{\n",
       "        var display = window.getComputedStyle(gd).display;\n",
       "        if (!display || display === 'none') {{\n",
       "            console.log([gd, 'removed!']);\n",
       "            Plotly.purge(gd);\n",
       "            observer.disconnect();\n",
       "        }}\n",
       "}});\n",
       "\n",
       "// Listen for the removal of the full notebook cells\n",
       "var notebookContainer = gd.closest('#notebook-container');\n",
       "if (notebookContainer) {{\n",
       "    x.observe(notebookContainer, {childList: true});\n",
       "}}\n",
       "\n",
       "// Listen for the clearing of the current output cell\n",
       "var outputEl = gd.closest('.output');\n",
       "if (outputEl) {{\n",
       "    x.observe(outputEl, {childList: true});\n",
       "}}\n",
       "\n",
       "                        })                };                });            </script>        </div>"
      ]
     },
     "metadata": {},
     "output_type": "display_data"
    }
   ],
   "source": [
    "fig = go.Figure() \n",
    "\n",
    "# 1----\n",
    "fig.add_trace(go.Scatter(x=(dfn4MacFusNonProb_32mpi_4omp.Dirc_Data_Mov*(dfn4MacFusNonProb_32mpi_4omp.MPI_size/4)), \n",
    "                         y=(dfn4MacFusNonProb_32mpi_4omp.GFLOPS*(dfn4MacFusNonProb_32mpi_4omp.MPI_size/4)), \n",
    "                         mode='lines+markers', \n",
    "                         name='MacFusNonProb_32mpi_4omp',\n",
    "                         line=dict(color='magenta',width=3),\n",
    "                         marker=dict(symbol='hexagon',size=9, line=dict(color='yellow',width=1))))\n",
    "\n",
    "\n",
    "# 2----\n",
    "fig.add_trace(go.Scatter(x=(dfn4MacFusNonProb_40mpi_3omp.Dirc_Data_Mov*(dfn4MacFusNonProb_40mpi_3omp.MPI_size/4)), \n",
    "                         y=(dfn4MacFusNonProb_40mpi_3omp.GFLOPS*(dfn4MacFusNonProb_40mpi_3omp.MPI_size/4)), \n",
    "                         mode='lines+markers', \n",
    "                         name='MacFusNonProb_40mpi_3omp',\n",
    "                         line=dict(color='sandybrown',width=3),\n",
    "                         marker=dict(symbol='diamond',size=5,line=dict(color='MediumPurple',width=2))))\n",
    "\n",
    "\n",
    "# 3----\n",
    "fig.add_trace(go.Scatter(x=(dfn4MacFusnonProb_56mpi_2omp.Dirc_Data_Mov*(dfn4MacFusnonProb_56mpi_2omp.MPI_size/4)), \n",
    "                         y=(dfn4MacFusnonProb_56mpi_2omp.GFLOPS*(dfn4MacFusnonProb_56mpi_2omp.MPI_size/4)), \n",
    "                         mode='lines+markers', \n",
    "                         name='MacFusnonProb_56mpi_2omp',\n",
    "                         line=dict(color='cyan',width=3),\n",
    "                         marker=dict(symbol='circle',size=7,line=dict(color='Purple',width=2))))\n",
    "\n",
    "\n",
    "\n",
    "# 4----\n",
    "fig.add_trace(go.Scatter(x=(dfn4MacFusnonProb_64mpi_2omp.Dirc_Data_Mov*(dfn4MacFusnonProb_64mpi_2omp.MPI_size/4)), \n",
    "                         y=(dfn4MacFusnonProb_64mpi_2omp.GFLOPS*(dfn4MacFusnonProb_64mpi_2omp.MPI_size/4)), \n",
    "                         mode='lines+markers', \n",
    "                         name='MacFusnonProb_64mpi_2omp',\n",
    "                         line=dict(color='red',width=3),\n",
    "                         marker=dict(symbol='star',size=7, line=dict(color='black',width=1))))\n",
    "\n",
    "\n",
    "# 5----\n",
    "fig.add_trace(go.Scatter(x=(dfn4MacFusnonProb_112mpi_1omp.Dirc_Data_Mov*(dfn4MacFusnonProb_112mpi_1omp.MPI_size/4)), \n",
    "                         y=(dfn4MacFusnonProb_112mpi_1omp.GFLOPS*(dfn4MacFusnonProb_112mpi_1omp.MPI_size/4)), \n",
    "                         mode='lines+markers', \n",
    "                         name='MacFusnonProb_112mpi_1omp',\n",
    "                         line=dict(color='black',width=3),\n",
    "                         marker=dict(symbol='square-dot',size=7, line=dict(color='mediumvioletred',width=1))))\n",
    "\n",
    "\n",
    "# 6----\n",
    "fig.add_trace(go.Scatter(x=(dfn4MacFusnonProb_128mpi_1omp.Dirc_Data_Mov*(dfn4MacFusnonProb_128mpi_1omp.MPI_size/4)), \n",
    "                         y=(dfn4MacFusnonProb_128mpi_1omp.GFLOPS*(dfn4MacFusnonProb_128mpi_1omp.MPI_size/4)), \n",
    "                         mode='lines+markers', \n",
    "                         name='MacFusnonProb_128mpi_1omp',\n",
    "                         line=dict(color='dimgray',width=3),\n",
    "                         marker=dict(symbol='triangle-up',size=6, line=dict(color='black',width=1))))\n",
    "\n",
    "\n",
    "\n",
    "# Adding a vertical line\n",
    "fig.add_vline(x=80e6, line_width=3, line_dash=\"dash\", line_color=\"green\")\n",
    "# fig.add_hline(y=1024, line_width=3, line_dash=\"dash\", line_color=\"red\")\n",
    "\n",
    "# Add annotation\n",
    "fig.add_annotation(\n",
    "    x='80e6'\n",
    "    , y=130\n",
    "    , text=f'LLC Size Per Node'\n",
    "    , yanchor='bottom'\n",
    "    , showarrow=False\n",
    "    , arrowhead=1\n",
    "    , arrowsize=1\n",
    "    , arrowwidth=2\n",
    "    , arrowcolor=\"#636363\"\n",
    "    , ax=-20\n",
    "    , ay=-30\n",
    "    , font=dict(size=12, color=\"purple\", family=\"Sans Serif\")\n",
    "    , align=\"left\"\n",
    "    ,)\n",
    "\n",
    "fig.update_layout(title='\"Macro Fused: probempi vs nonprobempi\" GFlops Measurement',\n",
    "                  xaxis_title='Dirc_Data_Mov', yaxis_title='GFLOPs/Node', \n",
    "                  xaxis=dict(ticks=\"outside\"),  \n",
    "                  yaxis=dict(ticks=\"outside\"))"
   ]
  },
  {
   "cell_type": "code",
   "execution_count": null,
   "id": "905032c0",
   "metadata": {},
   "outputs": [],
   "source": []
  }
 ],
 "metadata": {
  "kernelspec": {
   "display_name": "Python 3 (ipykernel)",
   "language": "python",
   "name": "python3"
  },
  "language_info": {
   "codemirror_mode": {
    "name": "ipython",
    "version": 3
   },
   "file_extension": ".py",
   "mimetype": "text/x-python",
   "name": "python",
   "nbconvert_exporter": "python",
   "pygments_lexer": "ipython3",
   "version": "3.9.13"
  }
 },
 "nbformat": 4,
 "nbformat_minor": 5
}
